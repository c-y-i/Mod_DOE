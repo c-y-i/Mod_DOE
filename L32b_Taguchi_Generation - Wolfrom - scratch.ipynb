{
 "cells": [
  {
   "cell_type": "markdown",
   "metadata": {},
   "source": [
    "# Taguchi Array"
   ]
  },
  {
   "cell_type": "code",
   "execution_count": 1,
   "metadata": {},
   "outputs": [],
   "source": [
    "import numpy as np\n",
    "import pandas as pd\n",
    "from tabulate import tabulate\n",
    "from utils import validate_parameters, score_vals, efficiency_calc"
   ]
  },
  {
   "cell_type": "code",
   "execution_count": 2,
   "metadata": {},
   "outputs": [],
   "source": [
    "MODULE = 0.8e-3\n",
    "MC = 0.8467e-3"
   ]
  },
  {
   "cell_type": "code",
   "execution_count": 3,
   "metadata": {},
   "outputs": [
    {
     "name": "stdout",
     "output_type": "stream",
     "text": [
      "+--------+--------+-------+--------+--------+------------------+\n",
      "|   z_sh |   z_r2 |   x_s |   x_r2 |     Cl |   gear_thickness |\n",
      "+========+========+=======+========+========+==================+\n",
      "|      6 |     81 |   0.5 |    1   | 0.0001 |               10 |\n",
      "+--------+--------+-------+--------+--------+------------------+\n",
      "|      7 |     80 |  -0.5 |   -0.5 | 0.0002 |                6 |\n",
      "+--------+--------+-------+--------+--------+------------------+\n",
      "|      8 |     82 |   0   |    0   | 0.0003 |                8 |\n",
      "+--------+--------+-------+--------+--------+------------------+\n",
      "|      9 |     83 |   1   |    0.5 | 0.0004 |               12 |\n",
      "+--------+--------+-------+--------+--------+------------------+\n",
      "In-vector mesh shape: (4, 4, 4, 4, 4)\n",
      "In-vector mesh len: 1024\n",
      "Design vals shape: (9, 1024)\n"
     ]
    }
   ],
   "source": [
    "# New input array\n",
    "# in_vals = [z_s, z_r2, x_s, x_r2, Cl, gear_thickness] # Cl_i = clearance (i = 1,2,3)\n",
    "param_vals = {\n",
    "    'z_sh' : [9, 8, 7][::-1],\n",
    "    'z_r2' : [83, 82, 80][::-1],\n",
    "    'x_s' : [-0.5, 0, 1],\n",
    "    'x_r2' : [-0.5, 0, 0.5],\n",
    "    'Cl' : [0.4e-3, 0.3e-3, 0.2e-3][::-1], #NOTE - use 0.1 for paper, though they likely use 0.0\n",
    "    'gear_thickness' : [12, 8, 6][::-1],\n",
    "}\n",
    "\n",
    "# paper_vals = [6, 81, .476, 1.21, 0.1e-3, 10] # NOTE - 6 = 12 (z_s) / 2.\n",
    "paper_vals = [6, 81, .5, 1, 0.1e-3, 10] # NOTE - 6 = 12 (z_s) / 2.\n",
    "quick_param = []\n",
    "\n",
    "for i in range(len(param_vals)):\n",
    "    key_i = list(param_vals.keys())[i]\n",
    "    param_vals[key_i].insert(0, paper_vals[i])\n",
    "    quick_param.append(param_vals[key_i])\n",
    "\n",
    "headers = list(param_vals.keys())\n",
    "rows = list(zip(*param_vals.values()))\n",
    "\n",
    "print(tabulate(rows, headers=headers, tablefmt=\"grid\"))\n",
    "\n",
    "design_vals, I1, I2, gr_s, ratios = validate_parameters(quick_param[:-1])\n",
    "\n",
    "design_vals = np.array(design_vals)\n",
    "\n",
    "print(f'Design vals shape: {design_vals.shape}')\n",
    "\n",
    "# Print the unique values\n",
    "cols = ['z_sh', 'z_p1', 'z_p2', 'z_r2', 'xs', 'xp1', 'xp2', 'xr2', 'r_a']\n",
    "# for i in range(len(cols)):\n",
    "#     print(f\"{cols[i]}: {np.unique(design_vals[i])}\")"
   ]
  },
  {
   "cell_type": "code",
   "execution_count": 4,
   "metadata": {},
   "outputs": [
    {
     "name": "stdout",
     "output_type": "stream",
     "text": [
      "[np.float64(6.0), np.float64(81.0), np.float64(0.5), np.float64(1.0), np.float64(0.0001), np.float64(10.0)]\n",
      "In-vector mesh shape: (1, 1, 1, 1, 1)\n",
      "In-vector mesh len: 1\n",
      "(9, 1)\n",
      "Efficiencies: Front - [0.08765368], Back - [0.]\n",
      "Score compare: best - 1, current - 0\n"
     ]
    }
   ],
   "source": [
    "i = 0\n",
    "quick_param = list(np.array(list(param_vals.values()))[:,i])\n",
    "print(quick_param)\n",
    "score = score_vals(quick_param[:-1], add_gear= False)"
   ]
  },
  {
   "cell_type": "code",
   "execution_count": 5,
   "metadata": {},
   "outputs": [
    {
     "data": {
      "text/plain": [
       "0"
      ]
     },
     "execution_count": 5,
     "metadata": {},
     "output_type": "execute_result"
    }
   ],
   "source": [
    "score"
   ]
  },
  {
   "cell_type": "code",
   "execution_count": 6,
   "metadata": {},
   "outputs": [
    {
     "data": {
      "text/plain": [
       "np.float64(90.84375)"
      ]
     },
     "execution_count": 6,
     "metadata": {},
     "output_type": "execute_result"
    }
   ],
   "source": [
    "ratios[4]"
   ]
  },
  {
   "cell_type": "code",
   "execution_count": 7,
   "metadata": {},
   "outputs": [
    {
     "name": "stdout",
     "output_type": "stream",
     "text": [
      "+--------+--------+--------+--------+------+-------+-----------+-------+--------+\n",
      "|   z_sh |   z_p1 |   z_p2 |   z_r2 |   xs |   xp1 |       xp2 |   xr2 |    r_a |\n",
      "+========+========+========+========+======+=======+===========+=======+========+\n",
      "|      6 |     38 |     31 |     81 |  0.5 | 0.125 | 0.0521436 |  -0.5 | 0.0206 |\n",
      "+--------+--------+--------+--------+------+-------+-----------+-------+--------+\n"
     ]
    }
   ],
   "source": [
    "design_dict = {}\n",
    "for i in range(len(cols)):\n",
    "    design_dict[cols[i]] = [design_vals[i,4]]\n",
    "\n",
    "headers = list(design_dict.keys())\n",
    "rows = list(zip(*design_dict.values()))\n",
    "\n",
    "\n",
    "print(tabulate(rows, headers=headers, tablefmt=\"grid\"))"
   ]
  },
  {
   "cell_type": "code",
   "execution_count": 8,
   "metadata": {},
   "outputs": [],
   "source": [
    "Taguchi = np.array([[1, 1, 1, 1, 1, 1, 1, 1, 1, 1],\n",
    "[1, 1, 2, 2, 2, 2, 2, 2, 2, 2],\n",
    "[1, 1, 3, 3, 3, 3, 3, 3, 3, 3],\n",
    "[1, 1, 4, 4, 4, 4, 4, 4, 4, 4],\n",
    "[1, 2, 1, 1, 2, 2, 3, 3, 4, 4],\n",
    "[1, 2, 2, 2, 1, 1, 4, 4, 3, 3],\n",
    "[1, 2, 3, 3, 4, 4, 1, 1, 2, 2],\n",
    "[1, 2, 4, 4, 3, 3, 2, 2, 1, 1],\n",
    "[1, 3, 1, 2, 3, 4, 1, 2, 3, 4],\n",
    "[1, 3, 2, 1, 4, 3, 2, 1, 4, 3],\n",
    "[1, 3, 3, 4, 1, 2, 3, 4, 1, 2],\n",
    "[1, 3, 4, 3, 2, 1, 4, 3, 2, 1],\n",
    "[1, 4, 1, 2, 4, 3, 3, 4, 2, 1],\n",
    "[1, 4, 2, 1, 3, 4, 4, 3, 1, 2],\n",
    "[1, 4, 3, 4, 2, 1, 1, 2, 4, 3],\n",
    "[1, 4, 4, 3, 1, 2, 2, 1, 3, 4],\n",
    "[2, 1, 1, 4, 1, 4, 2, 3, 2, 3],\n",
    "[2, 1, 2, 3, 2, 3, 1, 4, 1, 4],\n",
    "[2, 1, 3, 2, 3, 2, 4, 1, 4, 1],\n",
    "[2, 1, 4, 1, 4, 1, 3, 2, 3, 2],\n",
    "[2, 2, 1, 4, 2, 3, 4, 1, 3, 2],\n",
    "[2, 2, 2, 3, 1, 4, 3, 2, 4, 1],\n",
    "[2, 2, 3, 2, 4, 1, 2, 3, 1, 4],\n",
    "[2, 2, 4, 1, 3, 2, 1, 4, 2, 3],\n",
    "[2, 3, 1, 3, 3, 1, 2, 4, 4, 2],\n",
    "[2, 3, 2, 4, 4, 2, 1, 3, 3, 1],\n",
    "[2, 3, 3, 1, 1, 3, 4, 2, 2, 4],\n",
    "[2, 3, 4, 2, 2, 4, 3, 1, 1, 3],\n",
    "[2, 4, 1, 3, 4, 2, 4, 2, 1, 3],\n",
    "[2, 4, 2, 4, 3, 1, 3, 1, 2, 4],\n",
    "[2, 4, 3, 1, 2, 4, 2, 4, 3, 1],\n",
    "[2, 4, 4, 2, 1, 3, 1, 3, 4, 2],\n",
    "])-1"
   ]
  },
  {
   "cell_type": "code",
   "execution_count": 9,
   "metadata": {},
   "outputs": [
    {
     "name": "stdout",
     "output_type": "stream",
     "text": [
      "[0 0 0 0 0 0 0 0]\n"
     ]
    },
    {
     "ename": "KeyError",
     "evalue": "0",
     "output_type": "error",
     "traceback": [
      "\u001b[0;31m---------------------------------------------------------------------------\u001b[0m",
      "\u001b[0;31mKeyError\u001b[0m                                  Traceback (most recent call last)",
      "Cell \u001b[0;32mIn[9], line 5\u001b[0m\n\u001b[1;32m      3\u001b[0m \u001b[38;5;28mprint\u001b[39m(Tag_vals)\n\u001b[1;32m      4\u001b[0m \u001b[38;5;28;01mfor\u001b[39;00m i \u001b[38;5;129;01min\u001b[39;00m \u001b[38;5;28mrange\u001b[39m(\u001b[38;5;28mlen\u001b[39m(param_vals)):\n\u001b[0;32m----> 5\u001b[0m     first_set\u001b[38;5;241m.\u001b[39mappend(\u001b[43mparam_vals\u001b[49m\u001b[43m[\u001b[49m\u001b[43mi\u001b[49m\u001b[43m]\u001b[49m[Tag_vals[i]])\n",
      "\u001b[0;31mKeyError\u001b[0m: 0"
     ]
    }
   ],
   "source": [
    "first_set = []\n",
    "Tag_vals = Taguchi[0][1:-1]\n",
    "print(Tag_vals)\n",
    "for i in range(len(param_vals)):\n",
    "    first_set.append(param_vals[i][Tag_vals[i]])"
   ]
  },
  {
   "cell_type": "code",
   "execution_count": 11,
   "metadata": {},
   "outputs": [
    {
     "data": {
      "text/plain": [
       "[12, 32, 81, 0.476, 0.762, 0.536, 1.21, 10]"
      ]
     },
     "execution_count": 11,
     "metadata": {},
     "output_type": "execute_result"
    }
   ],
   "source": [
    "first_set"
   ]
  },
  {
   "cell_type": "code",
   "execution_count": 12,
   "metadata": {},
   "outputs": [
    {
     "data": {
      "text/plain": [
       "[12, 31, 83, 0.3, 0.6, -0.4, 0.4, 6]"
      ]
     },
     "execution_count": 12,
     "metadata": {},
     "output_type": "execute_result"
    }
   ],
   "source": [
    "targ_set = 2 # 1-32\n",
    "new_set = []\n",
    "Tag_vals = Taguchi[targ_set-1][1:-1]\n",
    "# print(Tag_vals)\n",
    "for i in range(len(param_vals)):\n",
    "    new_set.append(param_vals[i][Tag_vals[i]])\n",
    "new_set"
   ]
  },
  {
   "cell_type": "code",
   "execution_count": 13,
   "metadata": {},
   "outputs": [
    {
     "name": "stdout",
     "output_type": "stream",
     "text": [
      "Set 1: [12, 32, 81, 0.476, 0.762, 0.536, 1.21, 10]\n",
      "Set 2: [12, 31, 83, 0.3, 0.6, -0.4, 0.4, 6]\n",
      "Set 3: [12, 30, 82, 0.6, 0.9, -0.3, 0.5, 8]\n",
      "Set 4: [12, 33, 80, 0.7, 1.0, -0.5, 0.3, 12]\n",
      "Set 5: [18, 32, 81, 0.3, 0.6, -0.3, 0.5, 12]\n",
      "Set 6: [18, 31, 83, 0.476, 0.762, -0.5, 0.3, 8]\n",
      "Set 7: [18, 30, 82, 0.7, 1.0, 0.536, 1.21, 6]\n",
      "Set 8: [18, 33, 80, 0.6, 0.9, -0.4, 0.4, 10]\n",
      "Set 9: [16, 32, 83, 0.6, 1.0, 0.536, 0.4, 8]\n",
      "Set 10: [16, 31, 81, 0.7, 0.9, -0.4, 1.21, 12]\n",
      "Set 11: [16, 30, 80, 0.476, 0.6, -0.3, 0.3, 10]\n",
      "Set 12: [16, 33, 82, 0.3, 0.762, -0.5, 0.5, 6]\n",
      "Set 13: [14, 32, 83, 0.7, 0.9, -0.3, 0.3, 6]\n",
      "Set 14: [14, 31, 81, 0.6, 1.0, -0.5, 0.5, 10]\n",
      "Set 15: [14, 30, 80, 0.3, 0.762, 0.536, 0.4, 12]\n",
      "Set 16: [14, 33, 82, 0.476, 0.6, -0.4, 1.21, 8]\n",
      "Set 17: [12, 32, 80, 0.476, 1.0, -0.4, 0.5, 6]\n",
      "Set 18: [12, 31, 82, 0.3, 0.9, 0.536, 0.3, 10]\n",
      "Set 19: [12, 30, 83, 0.6, 0.6, -0.5, 1.21, 12]\n",
      "Set 20: [12, 33, 81, 0.7, 0.762, -0.3, 0.4, 8]\n",
      "Set 21: [18, 32, 80, 0.3, 0.9, -0.5, 1.21, 8]\n",
      "Set 22: [18, 31, 82, 0.476, 1.0, -0.3, 0.4, 12]\n",
      "Set 23: [18, 30, 83, 0.7, 0.762, -0.4, 0.5, 10]\n",
      "Set 24: [18, 33, 81, 0.6, 0.6, 0.536, 0.3, 6]\n",
      "Set 25: [16, 32, 82, 0.6, 0.762, -0.4, 0.3, 12]\n",
      "Set 26: [16, 31, 80, 0.7, 0.6, 0.536, 0.5, 8]\n",
      "Set 27: [16, 30, 81, 0.476, 0.9, -0.5, 0.4, 6]\n",
      "Set 28: [16, 33, 83, 0.3, 1.0, -0.3, 1.21, 10]\n",
      "Set 29: [14, 32, 82, 0.7, 0.6, -0.5, 0.4, 10]\n",
      "Set 30: [14, 31, 80, 0.6, 0.762, -0.3, 1.21, 6]\n",
      "Set 31: [14, 30, 81, 0.3, 1.0, -0.4, 0.3, 8]\n",
      "Set 32: [14, 33, 83, 0.476, 0.9, 0.536, 0.5, 12]\n"
     ]
    }
   ],
   "source": [
    "set_list = []\n",
    "for targ_set in range(len(Taguchi)):\n",
    "    new_set = []\n",
    "    Tag_vals = Taguchi[targ_set][1:-1]\n",
    "    # print(Tag_vals)\n",
    "    for i in range(len(param_vals)):\n",
    "        new_set.append(param_vals[i][Tag_vals[i]])\n",
    "    \n",
    "    # Print the new set of parameters\n",
    "    print(f\"Set {targ_set + 1}: {new_set}\")\n",
    "    set_list.append(new_set)\n",
    "    \n",
    "    # Here you can add code to perform calculations or simulations with new_set if needed"
   ]
  },
  {
   "cell_type": "code",
   "execution_count": 14,
   "metadata": {},
   "outputs": [],
   "source": [
    "in_val_sets = np.array(set_list)\n",
    "in_val_sets[:, 0] = in_val_sets[:, 0] / 2 # divide by 2 to get z_sh"
   ]
  },
  {
   "cell_type": "code",
   "execution_count": null,
   "metadata": {},
   "outputs": [],
   "source": [
    "%load_ext autoreload\n",
    "%autoreload 2\n",
    "from utils import validate_parameters"
   ]
  },
  {
   "cell_type": "code",
   "execution_count": null,
   "metadata": {},
   "outputs": [],
   "source": []
  },
  {
   "cell_type": "code",
   "execution_count": 16,
   "metadata": {},
   "outputs": [
    {
     "name": "stdout",
     "output_type": "stream",
     "text": [
      "7.5 0.9116809116809117 0.01039048097871627 96.24193548387099\n"
     ]
    }
   ],
   "source": [
    "z_r1 = 90\n",
    "z_p1 = 39\n",
    "z_s = 12\n",
    "z_p2 = 32\n",
    "z_r2 = 81\n",
    "xr1 = 2\n",
    "xr2 = 1.2\n",
    "xs = 0.476\n",
    "xp1 = 0.762\n",
    "I1 = z_r1 / z_s\n",
    "I2 = (z_r1 * z_p2) / (z_p1 * z_r2)\n",
    "gr_s = (1 - I2) / (1 + I1)\n",
    "ratios = 1 / gr_s\n",
    "\n",
    "print(I1, I2, gr_s, ratios)"
   ]
  },
  {
   "cell_type": "code",
   "execution_count": null,
   "metadata": {},
   "outputs": [
    {
     "data": {
      "text/plain": [
       "39.0"
      ]
     },
     "execution_count": 17,
     "metadata": {},
     "output_type": "execute_result"
    }
   ],
   "source": [
    "((z_r1+2*xr1-z_s-2*xs-4*xp1)/2)"
   ]
  },
  {
   "cell_type": "code",
   "execution_count": 18,
   "metadata": {},
   "outputs": [
    {
     "ename": "ValueError",
     "evalue": "too many values to unpack (expected 5)",
     "output_type": "error",
     "traceback": [
      "\u001b[0;31m---------------------------------------------------------------------------\u001b[0m",
      "\u001b[0;31mValueError\u001b[0m                                Traceback (most recent call last)",
      "Cell \u001b[0;32mIn[18], line 1\u001b[0m\n\u001b[0;32m----> 1\u001b[0m \u001b[43mvalidate_parameters\u001b[49m\u001b[43m(\u001b[49m\u001b[43min_val_sets\u001b[49m\u001b[43m[\u001b[49m\u001b[38;5;241;43m0\u001b[39;49m\u001b[43m]\u001b[49m\u001b[43m[\u001b[49m\u001b[43m:\u001b[49m\u001b[38;5;241;43m-\u001b[39;49m\u001b[38;5;241;43m1\u001b[39;49m\u001b[43m]\u001b[49m\u001b[43m)\u001b[49m\n",
      "File \u001b[0;32m~/Python/Mod_DOE/utils.py:43\u001b[0m, in \u001b[0;36mvalidate_parameters\u001b[0;34m(in_vals, target_z_r1, target_xr1)\u001b[0m\n\u001b[1;32m     40\u001b[0m \u001b[38;5;28;01mdef\u001b[39;00m \u001b[38;5;21mvalidate_parameters\u001b[39m(in_vals, target_z_r1 \u001b[38;5;241m=\u001b[39m TARG_zr1, target_xr1 \u001b[38;5;241m=\u001b[39m TARG_xr1):\n\u001b[1;32m     41\u001b[0m \n\u001b[1;32m     42\u001b[0m     \u001b[38;5;66;03m# Calculate all possible combinations of gear ratios\u001b[39;00m\n\u001b[0;32m---> 43\u001b[0m     z_sh, z_r2, xs, xr2, Cl \u001b[38;5;241m=\u001b[39m np\u001b[38;5;241m.\u001b[39mmeshgrid(\n\u001b[1;32m     44\u001b[0m         \u001b[38;5;241m*\u001b[39min_vals, indexing\u001b[38;5;241m=\u001b[39m\u001b[38;5;124m'\u001b[39m\u001b[38;5;124mij\u001b[39m\u001b[38;5;124m'\u001b[39m\n\u001b[1;32m     45\u001b[0m     )\n\u001b[1;32m     47\u001b[0m     Cl \u001b[38;5;241m=\u001b[39m Cl\u001b[38;5;241m.\u001b[39mflatten()\n\u001b[1;32m     49\u001b[0m     Cl_1 \u001b[38;5;241m=\u001b[39m Cl_2 \u001b[38;5;241m=\u001b[39m Cl_3 \u001b[38;5;241m=\u001b[39m Cl\n",
      "\u001b[0;31mValueError\u001b[0m: too many values to unpack (expected 5)"
     ]
    }
   ],
   "source": [
    "validate_parameters(in_val_sets[0][:-1])"
   ]
  },
  {
   "cell_type": "code",
   "execution_count": 24,
   "metadata": {},
   "outputs": [
    {
     "ename": "SyntaxError",
     "evalue": "incomplete input (3891727407.py, line 2)",
     "output_type": "error",
     "traceback": [
      "\u001b[0;36m  Cell \u001b[0;32mIn[24], line 2\u001b[0;36m\u001b[0m\n\u001b[0;31m    ra = 0.5 * MODULE * ( this_set[0]*2 + 2*this_set[3] +\u001b[0m\n\u001b[0m                                                           ^\u001b[0m\n\u001b[0;31mSyntaxError\u001b[0m\u001b[0;31m:\u001b[0m incomplete input\n"
     ]
    }
   ],
   "source": [
    "this_set = in_val_sets[0]\n",
    "ra = 0.5 * MODULE * ( this_set[0]*2 + 2*this_set[3] +  "
   ]
  },
  {
   "cell_type": "code",
   "execution_count": 10,
   "metadata": {},
   "outputs": [
    {
     "ename": "AttributeError",
     "evalue": "module 'numpy' has no attribute 'is_empty'",
     "output_type": "error",
     "traceback": [
      "\u001b[1;31m---------------------------------------------------------------------------\u001b[0m",
      "\u001b[1;31mAttributeError\u001b[0m                            Traceback (most recent call last)",
      "Cell \u001b[1;32mIn[10], line 3\u001b[0m\n\u001b[0;32m      1\u001b[0m validations \u001b[38;5;241m=\u001b[39m []\n\u001b[0;32m      2\u001b[0m \u001b[38;5;28;01mfor\u001b[39;00m i \u001b[38;5;129;01min\u001b[39;00m \u001b[38;5;28mrange\u001b[39m(\u001b[38;5;28mlen\u001b[39m(in_val_sets)):\n\u001b[1;32m----> 3\u001b[0m     validations\u001b[38;5;241m.\u001b[39mappend(\u001b[43mnp\u001b[49m\u001b[38;5;241;43m.\u001b[39;49m\u001b[43mis_empty\u001b[49m(validate_parameters(in_val_sets[i][:\u001b[38;5;241m-\u001b[39m\u001b[38;5;241m1\u001b[39m])))\n",
      "File \u001b[1;32mc:\\Users\\campb\\AppData\\Local\\Programs\\Python\\Python311\\Lib\\site-packages\\numpy\\__init__.py:347\u001b[0m, in \u001b[0;36m__getattr__\u001b[1;34m(attr)\u001b[0m\n\u001b[0;32m    344\u001b[0m     \u001b[38;5;124m\"\u001b[39m\u001b[38;5;124mRemoved in NumPy 1.25.0\u001b[39m\u001b[38;5;124m\"\u001b[39m\n\u001b[0;32m    345\u001b[0m     \u001b[38;5;28;01mraise\u001b[39;00m \u001b[38;5;167;01mRuntimeError\u001b[39;00m(\u001b[38;5;124m\"\u001b[39m\u001b[38;5;124mTester was removed in NumPy 1.25.\u001b[39m\u001b[38;5;124m\"\u001b[39m)\n\u001b[1;32m--> 347\u001b[0m \u001b[38;5;28;01mraise\u001b[39;00m \u001b[38;5;167;01mAttributeError\u001b[39;00m(\u001b[38;5;124m\"\u001b[39m\u001b[38;5;124mmodule \u001b[39m\u001b[38;5;132;01m{!r}\u001b[39;00m\u001b[38;5;124m has no attribute \u001b[39m\u001b[38;5;124m\"\u001b[39m\n\u001b[0;32m    348\u001b[0m                      \u001b[38;5;124m\"\u001b[39m\u001b[38;5;132;01m{!r}\u001b[39;00m\u001b[38;5;124m\"\u001b[39m\u001b[38;5;241m.\u001b[39mformat(\u001b[38;5;18m__name__\u001b[39m, attr))\n",
      "\u001b[1;31mAttributeError\u001b[0m: module 'numpy' has no attribute 'is_empty'"
     ]
    }
   ],
   "source": [
    "validations = []\n",
    "for i in range(len(in_val_sets)):\n",
    "    validations.append(np.is_empty(validate_parameters(in_val_sets[i][:-1])))"
   ]
  },
  {
   "cell_type": "code",
   "execution_count": null,
   "metadata": {},
   "outputs": [
    {
     "data": {
      "text/plain": [
       "[]"
      ]
     },
     "execution_count": 17,
     "metadata": {},
     "output_type": "execute_result"
    }
   ],
   "source": [
    "validations"
   ]
  },
  {
   "cell_type": "code",
   "execution_count": null,
   "metadata": {},
   "outputs": [],
   "source": []
  }
 ],
 "metadata": {
  "kernelspec": {
   "display_name": ".venv",
   "language": "python",
   "name": "python3"
  },
  "language_info": {
   "codemirror_mode": {
    "name": "ipython",
    "version": 3
   },
   "file_extension": ".py",
   "mimetype": "text/x-python",
   "name": "python",
   "nbconvert_exporter": "python",
   "pygments_lexer": "ipython3",
   "version": "3.12.3"
  }
 },
 "nbformat": 4,
 "nbformat_minor": 2
}
