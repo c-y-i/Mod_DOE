{
 "cells": [
  {
   "cell_type": "markdown",
   "metadata": {},
   "source": [
    "# Taguchi Array"
   ]
  },
  {
   "cell_type": "code",
   "execution_count": 2,
   "metadata": {},
   "outputs": [],
   "source": [
    "import numpy as np"
   ]
  },
  {
   "cell_type": "code",
   "execution_count": 3,
   "metadata": {},
   "outputs": [],
   "source": [
    "# Input array\n",
    "z_sh = [ 7, 10,  5 ]\n",
    "z_p2 = [30, 32, 28 ]\n",
    "z_r2 = [80, 74, 82 ]\n",
    "x_s = [ 0.5,  0.4,  0.3 ]\n",
    "x_p1 = [ 1.0, 0.9, 0.8 ]\n",
    "x_p2 = [-0.3, 0.4, 0.5 ]\n",
    "x_r2 = [ 0.477546, 0.377546, 0.277546 ]\n",
    "gear_thickness = [6,8,12]\n",
    "\n",
    "param_vals = [z_sh, z_p2, z_r2, x_s, x_p1, x_p2, x_r2, gear_thickness]\n",
    "\n",
    "paper_vals = [6, 32, 81, .476, .762, .536, 1.21, 10] # NOTE - 6 = 12 (z_s) / 2.\n",
    "\n",
    "for i in range(len(param_vals)):\n",
    "    # append paper_val to the front of the list\n",
    "    param_vals[i].insert(0, paper_vals[i])"
   ]
  },
  {
   "cell_type": "code",
   "execution_count": 4,
   "metadata": {},
   "outputs": [],
   "source": [
    "Taguchi = np.array([[1, 1, 1, 1, 1, 1, 1, 1, 1, 1],\n",
    "[1, 1, 2, 2, 2, 2, 2, 2, 2, 2],\n",
    "[1, 1, 3, 3, 3, 3, 3, 3, 3, 3],\n",
    "[1, 1, 4, 4, 4, 4, 4, 4, 4, 4],\n",
    "[1, 2, 1, 1, 2, 2, 3, 3, 4, 4],\n",
    "[1, 2, 2, 2, 1, 1, 4, 4, 3, 3],\n",
    "[1, 2, 3, 3, 4, 4, 1, 1, 2, 2],\n",
    "[1, 2, 4, 4, 3, 3, 2, 2, 1, 1],\n",
    "[1, 3, 1, 2, 3, 4, 1, 2, 3, 4],\n",
    "[1, 3, 2, 1, 4, 3, 2, 1, 4, 3],\n",
    "[1, 3, 3, 4, 1, 2, 3, 4, 1, 2],\n",
    "[1, 3, 4, 3, 2, 1, 4, 3, 2, 1],\n",
    "[1, 4, 1, 2, 4, 3, 3, 4, 2, 1],\n",
    "[1, 4, 2, 1, 3, 4, 4, 3, 1, 2],\n",
    "[1, 4, 3, 4, 2, 1, 1, 2, 4, 3],\n",
    "[1, 4, 4, 3, 1, 2, 2, 1, 3, 4],\n",
    "[2, 1, 1, 4, 1, 4, 2, 3, 2, 3],\n",
    "[2, 1, 2, 3, 2, 3, 1, 4, 1, 4],\n",
    "[2, 1, 3, 2, 3, 2, 4, 1, 4, 1],\n",
    "[2, 1, 4, 1, 4, 1, 3, 2, 3, 2],\n",
    "[2, 2, 1, 4, 2, 3, 4, 1, 3, 2],\n",
    "[2, 2, 2, 3, 1, 4, 3, 2, 4, 1],\n",
    "[2, 2, 3, 2, 4, 1, 2, 3, 1, 4],\n",
    "[2, 2, 4, 1, 3, 2, 1, 4, 2, 3],\n",
    "[2, 3, 1, 3, 3, 1, 2, 4, 4, 2],\n",
    "[2, 3, 2, 4, 4, 2, 1, 3, 3, 1],\n",
    "[2, 3, 3, 1, 1, 3, 4, 2, 2, 4],\n",
    "[2, 3, 4, 2, 2, 4, 3, 1, 1, 3],\n",
    "[2, 4, 1, 3, 4, 2, 4, 2, 1, 3],\n",
    "[2, 4, 2, 4, 3, 1, 3, 1, 2, 4],\n",
    "[2, 4, 3, 1, 2, 4, 2, 4, 3, 1],\n",
    "[2, 4, 4, 2, 1, 3, 1, 3, 4, 2],\n",
    "])-1"
   ]
  },
  {
   "cell_type": "code",
   "execution_count": 5,
   "metadata": {},
   "outputs": [
    {
     "name": "stdout",
     "output_type": "stream",
     "text": [
      "[0 0 0 0 0 0 0 0]\n"
     ]
    }
   ],
   "source": [
    "first_set = []\n",
    "Tag_vals = Taguchi[0][1:-1]\n",
    "print(Tag_vals)\n",
    "for i in range(len(param_vals)):\n",
    "    first_set.append(param_vals[i][Tag_vals[i]])"
   ]
  },
  {
   "cell_type": "code",
   "execution_count": 6,
   "metadata": {},
   "outputs": [
    {
     "data": {
      "text/plain": [
       "[6, 32, 81, 0.476, 0.762, 0.536, 1.21, 10]"
      ]
     },
     "execution_count": 6,
     "metadata": {},
     "output_type": "execute_result"
    }
   ],
   "source": [
    "first_set"
   ]
  },
  {
   "cell_type": "code",
   "execution_count": 8,
   "metadata": {},
   "outputs": [
    {
     "data": {
      "text/plain": [
       "[6, 30, 80, 0.5, 1.0, -0.3, 0.477546, 6]"
      ]
     },
     "execution_count": 8,
     "metadata": {},
     "output_type": "execute_result"
    }
   ],
   "source": [
    "targ_set = 2 # 1-32\n",
    "new_set = []\n",
    "Tag_vals = Taguchi[targ_set-1][1:-1]\n",
    "# print(Tag_vals)\n",
    "for i in range(len(param_vals)):\n",
    "    new_set.append(param_vals[i][Tag_vals[i]])\n",
    "new_set"
   ]
  },
  {
   "cell_type": "code",
   "execution_count": 9,
   "metadata": {},
   "outputs": [
    {
     "name": "stdout",
     "output_type": "stream",
     "text": [
      "Set 1: [6, 32, 81, 0.476, 0.762, 0.536, 1.21, 10]\n",
      "Set 2: [6, 30, 80, 0.5, 1.0, -0.3, 0.477546, 6]\n",
      "Set 3: [6, 32, 74, 0.4, 0.9, 0.4, 0.377546, 8]\n",
      "Set 4: [6, 28, 82, 0.3, 0.8, 0.5, 0.277546, 12]\n",
      "Set 5: [7, 32, 81, 0.5, 1.0, 0.4, 0.377546, 12]\n",
      "Set 6: [7, 30, 80, 0.476, 0.762, 0.5, 0.277546, 8]\n",
      "Set 7: [7, 32, 74, 0.3, 0.8, 0.536, 1.21, 6]\n",
      "Set 8: [7, 28, 82, 0.4, 0.9, -0.3, 0.477546, 10]\n",
      "Set 9: [10, 32, 80, 0.4, 0.8, 0.536, 0.477546, 8]\n",
      "Set 10: [10, 30, 81, 0.3, 0.9, -0.3, 1.21, 12]\n",
      "Set 11: [10, 32, 82, 0.476, 1.0, 0.4, 0.277546, 10]\n",
      "Set 12: [10, 28, 74, 0.5, 0.762, 0.5, 0.377546, 6]\n",
      "Set 13: [5, 32, 80, 0.3, 0.9, 0.4, 0.277546, 6]\n",
      "Set 14: [5, 30, 81, 0.4, 0.8, 0.5, 0.377546, 10]\n",
      "Set 15: [5, 32, 82, 0.5, 0.762, 0.536, 0.477546, 12]\n",
      "Set 16: [5, 28, 74, 0.476, 1.0, -0.3, 1.21, 8]\n",
      "Set 17: [6, 32, 82, 0.476, 0.8, -0.3, 0.377546, 6]\n",
      "Set 18: [6, 30, 74, 0.5, 0.9, 0.536, 0.277546, 10]\n",
      "Set 19: [6, 32, 80, 0.4, 1.0, 0.5, 1.21, 12]\n",
      "Set 20: [6, 28, 81, 0.3, 0.762, 0.4, 0.477546, 8]\n",
      "Set 21: [7, 32, 82, 0.5, 0.9, 0.5, 1.21, 8]\n",
      "Set 22: [7, 30, 74, 0.476, 0.8, 0.4, 0.477546, 12]\n",
      "Set 23: [7, 32, 80, 0.3, 0.762, -0.3, 0.377546, 10]\n",
      "Set 24: [7, 28, 81, 0.4, 1.0, 0.536, 0.277546, 6]\n",
      "Set 25: [10, 32, 74, 0.4, 0.762, -0.3, 0.277546, 12]\n",
      "Set 26: [10, 30, 82, 0.3, 1.0, 0.536, 0.377546, 8]\n",
      "Set 27: [10, 32, 81, 0.476, 0.9, 0.5, 0.477546, 6]\n",
      "Set 28: [10, 28, 80, 0.5, 0.8, 0.4, 1.21, 10]\n",
      "Set 29: [5, 32, 74, 0.3, 1.0, 0.5, 0.477546, 10]\n",
      "Set 30: [5, 30, 82, 0.4, 0.762, 0.4, 1.21, 6]\n",
      "Set 31: [5, 32, 81, 0.5, 0.8, -0.3, 0.277546, 8]\n",
      "Set 32: [5, 28, 80, 0.476, 0.9, 0.536, 0.377546, 12]\n"
     ]
    }
   ],
   "source": [
    "for targ_set in range(len(Taguchi)):\n",
    "    new_set = []\n",
    "    Tag_vals = Taguchi[targ_set][1:-1]\n",
    "    # print(Tag_vals)\n",
    "    for i in range(len(param_vals)):\n",
    "        new_set.append(param_vals[i][Tag_vals[i]])\n",
    "    \n",
    "    # Print the new set of parameters\n",
    "    print(f\"Set {targ_set + 1}: {new_set}\")\n",
    "    \n",
    "    # Here you can add code to perform calculations or simulations with new_set if needed"
   ]
  }
 ],
 "metadata": {
  "kernelspec": {
   "display_name": "Python 3",
   "language": "python",
   "name": "python3"
  },
  "language_info": {
   "codemirror_mode": {
    "name": "ipython",
    "version": 3
   },
   "file_extension": ".py",
   "mimetype": "text/x-python",
   "name": "python",
   "nbconvert_exporter": "python",
   "pygments_lexer": "ipython3",
   "version": "3.11.6"
  }
 },
 "nbformat": 4,
 "nbformat_minor": 2
}
