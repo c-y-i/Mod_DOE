{
 "cells": [
  {
   "cell_type": "markdown",
   "metadata": {},
   "source": [
    "# Taguchi Array"
   ]
  },
  {
   "cell_type": "code",
   "execution_count": 1,
   "metadata": {},
   "outputs": [],
   "source": [
    "import numpy as np\n",
    "from utils import validate_parameters"
   ]
  },
  {
   "cell_type": "code",
   "execution_count": 12,
   "metadata": {},
   "outputs": [],
   "source": [
    "MODULE = 0.8e-3\n",
    "MC = 0.8467e-3"
   ]
  },
  {
   "cell_type": "code",
   "execution_count": null,
   "metadata": {},
   "outputs": [
    {
     "name": "stdout",
     "output_type": "stream",
     "text": [
      "  z_s/z_p1  |  z_p2  |  z_r2  |   x_s   |   x_p1  |   x_p2  |  x_r2  |  gear_thickness \n",
      "------------+--------+--------+---------+---------+---------+--------+-----------------\n",
      "  12 / 39   |   32   |   81   |  0.476  |  0.762  |  0.536  |  1.21  |        10       \n",
      "  18 / 36   |   31   |   83   |   0.3   |   0.6   |   -0.4  |  0.4   |        6        \n",
      "  16 / 37   |   30   |   82   |   0.6   |   0.9   |   -0.3  |  0.5   |        8        \n",
      "  14 / 38   |   33   |   80   |   0.7   |   1.0   |   -0.5  |  0.3   |        12       \n",
      "------------+--------+--------+---------+---------+---------+--------+-----------------\n"
     ]
    }
   ],
   "source": [
    "# Input array\n",
    "z_s = [18, 16, 14] # sh * 2 = s\n",
    "z_p2 = [31, 30, 33]\n",
    "z_r2 = [83, 82, 80]\n",
    "x_s = [0.3, 0.6, 0.7]\n",
    "x_p1 = [0.6, 0.9, 1.0]\n",
    "x_p2 = [-0.4, -0.3, -0.5]\n",
    "x_r2 = [0.4, 0.5, 0.3]\n",
    "gear_thickness = [6, 8, 12]\n",
    "\n",
    "param_vals = [z_s, z_p2, z_r2, x_s, x_p1, x_p2, x_r2, gear_thickness]\n",
    "\n",
    "paper_vals = [12, 32, 81, .476, .762, .536, 1.21, 10] # NOTE - 6 = 12 (z_s) / 2.\n",
    "\n",
    "for i in range(len(param_vals)):\n",
    "    # append paper_val to the front of the list\n",
    "    param_vals[i].insert(0, paper_vals[i])\n",
    "\n",
    "# Display the taguchi array in a table format with aligned columns\n",
    "cols = ['z_s', 'z_p2', 'z_r2', 'x_s', 'x_p1', 'x_p2', 'x_r2', 'gear_thickness']\n",
    "UPDATE_cols = ['z_s', 'z_r2', 'c_1', 'c_2', 'x_s', 'x_r2', 'gear_thickness']\n",
    "new_cols = cols.copy()\n",
    "new_cols[0] = \"z_s/z_p1\"\n",
    "col_widths_new = []\n",
    "for k, col in enumerate(new_cols):\n",
    "    max_width = len(col)\n",
    "    for i in range(len(param_vals[0])):\n",
    "        if k == 0:\n",
    "            val = f\"{param_vals[0][i]} / {(90 - param_vals[0][i]) / 2}\"\n",
    "        else:\n",
    "            val = param_vals[k][i]\n",
    "        max_width = max(max_width, len(str(val)))\n",
    "    col_widths_new.append(max_width + 2)\n",
    "header_new = \" | \".join(new_cols[k].center(col_widths_new[k]) for k in range(len(new_cols)))\n",
    "separator_new = \"-+-\".join(\"-\" * col_widths_new[k] for k in range(len(new_cols)))\n",
    "print(header_new)\n",
    "print(separator_new)\n",
    "for i in range(len(param_vals[0])):\n",
    "    row_values = []\n",
    "    for k in range(len(new_cols)):\n",
    "        if k == 0:\n",
    "            value = f\"{param_vals[0][i]} / {int((90 - param_vals[0][i]) / 2)}\"\n",
    "        else:\n",
    "            value = param_vals[k][i]\n",
    "        row_values.append(str(value).center(col_widths_new[k]))\n",
    "    print(\" | \".join(row_values))\n",
    "print(separator_new)"
   ]
  },
  {
   "cell_type": "code",
   "execution_count": 3,
   "metadata": {},
   "outputs": [],
   "source": [
    "Taguchi = np.array([[1, 1, 1, 1, 1, 1, 1, 1, 1, 1],\n",
    "[1, 1, 2, 2, 2, 2, 2, 2, 2, 2],\n",
    "[1, 1, 3, 3, 3, 3, 3, 3, 3, 3],\n",
    "[1, 1, 4, 4, 4, 4, 4, 4, 4, 4],\n",
    "[1, 2, 1, 1, 2, 2, 3, 3, 4, 4],\n",
    "[1, 2, 2, 2, 1, 1, 4, 4, 3, 3],\n",
    "[1, 2, 3, 3, 4, 4, 1, 1, 2, 2],\n",
    "[1, 2, 4, 4, 3, 3, 2, 2, 1, 1],\n",
    "[1, 3, 1, 2, 3, 4, 1, 2, 3, 4],\n",
    "[1, 3, 2, 1, 4, 3, 2, 1, 4, 3],\n",
    "[1, 3, 3, 4, 1, 2, 3, 4, 1, 2],\n",
    "[1, 3, 4, 3, 2, 1, 4, 3, 2, 1],\n",
    "[1, 4, 1, 2, 4, 3, 3, 4, 2, 1],\n",
    "[1, 4, 2, 1, 3, 4, 4, 3, 1, 2],\n",
    "[1, 4, 3, 4, 2, 1, 1, 2, 4, 3],\n",
    "[1, 4, 4, 3, 1, 2, 2, 1, 3, 4],\n",
    "[2, 1, 1, 4, 1, 4, 2, 3, 2, 3],\n",
    "[2, 1, 2, 3, 2, 3, 1, 4, 1, 4],\n",
    "[2, 1, 3, 2, 3, 2, 4, 1, 4, 1],\n",
    "[2, 1, 4, 1, 4, 1, 3, 2, 3, 2],\n",
    "[2, 2, 1, 4, 2, 3, 4, 1, 3, 2],\n",
    "[2, 2, 2, 3, 1, 4, 3, 2, 4, 1],\n",
    "[2, 2, 3, 2, 4, 1, 2, 3, 1, 4],\n",
    "[2, 2, 4, 1, 3, 2, 1, 4, 2, 3],\n",
    "[2, 3, 1, 3, 3, 1, 2, 4, 4, 2],\n",
    "[2, 3, 2, 4, 4, 2, 1, 3, 3, 1],\n",
    "[2, 3, 3, 1, 1, 3, 4, 2, 2, 4],\n",
    "[2, 3, 4, 2, 2, 4, 3, 1, 1, 3],\n",
    "[2, 4, 1, 3, 4, 2, 4, 2, 1, 3],\n",
    "[2, 4, 2, 4, 3, 1, 3, 1, 2, 4],\n",
    "[2, 4, 3, 1, 2, 4, 2, 4, 3, 1],\n",
    "[2, 4, 4, 2, 1, 3, 1, 3, 4, 2],\n",
    "])-1"
   ]
  },
  {
   "cell_type": "code",
   "execution_count": 4,
   "metadata": {},
   "outputs": [
    {
     "name": "stdout",
     "output_type": "stream",
     "text": [
      "[0 0 0 0 0 0 0 0]\n"
     ]
    }
   ],
   "source": [
    "first_set = []\n",
    "Tag_vals = Taguchi[0][1:-1]\n",
    "print(Tag_vals)\n",
    "for i in range(len(param_vals)):\n",
    "    first_set.append(param_vals[i][Tag_vals[i]])"
   ]
  },
  {
   "cell_type": "code",
   "execution_count": 5,
   "metadata": {},
   "outputs": [
    {
     "data": {
      "text/plain": [
       "[12, 32, 81, 0.476, 0.762, 0.536, 1.21, 10]"
      ]
     },
     "execution_count": 5,
     "metadata": {},
     "output_type": "execute_result"
    }
   ],
   "source": [
    "first_set"
   ]
  },
  {
   "cell_type": "code",
   "execution_count": 6,
   "metadata": {},
   "outputs": [
    {
     "data": {
      "text/plain": [
       "[12, 31, 83, 0.3, 0.6, -0.4, 0.4, 6]"
      ]
     },
     "execution_count": 6,
     "metadata": {},
     "output_type": "execute_result"
    }
   ],
   "source": [
    "targ_set = 2 # 1-32\n",
    "new_set = []\n",
    "Tag_vals = Taguchi[targ_set-1][1:-1]\n",
    "# print(Tag_vals)\n",
    "for i in range(len(param_vals)):\n",
    "    new_set.append(param_vals[i][Tag_vals[i]])\n",
    "new_set"
   ]
  },
  {
   "cell_type": "code",
   "execution_count": 7,
   "metadata": {},
   "outputs": [
    {
     "name": "stdout",
     "output_type": "stream",
     "text": [
      "Set 1: [12, 32, 81, 0.476, 0.762, 0.536, 1.21, 10]\n",
      "Set 2: [12, 31, 83, 0.3, 0.6, -0.4, 0.4, 6]\n",
      "Set 3: [12, 30, 82, 0.6, 0.9, -0.3, 0.5, 8]\n",
      "Set 4: [12, 33, 80, 0.7, 1.0, -0.5, 0.3, 12]\n",
      "Set 5: [18, 32, 81, 0.3, 0.6, -0.3, 0.5, 12]\n",
      "Set 6: [18, 31, 83, 0.476, 0.762, -0.5, 0.3, 8]\n",
      "Set 7: [18, 30, 82, 0.7, 1.0, 0.536, 1.21, 6]\n",
      "Set 8: [18, 33, 80, 0.6, 0.9, -0.4, 0.4, 10]\n",
      "Set 9: [16, 32, 83, 0.6, 1.0, 0.536, 0.4, 8]\n",
      "Set 10: [16, 31, 81, 0.7, 0.9, -0.4, 1.21, 12]\n",
      "Set 11: [16, 30, 80, 0.476, 0.6, -0.3, 0.3, 10]\n",
      "Set 12: [16, 33, 82, 0.3, 0.762, -0.5, 0.5, 6]\n",
      "Set 13: [14, 32, 83, 0.7, 0.9, -0.3, 0.3, 6]\n",
      "Set 14: [14, 31, 81, 0.6, 1.0, -0.5, 0.5, 10]\n",
      "Set 15: [14, 30, 80, 0.3, 0.762, 0.536, 0.4, 12]\n",
      "Set 16: [14, 33, 82, 0.476, 0.6, -0.4, 1.21, 8]\n",
      "Set 17: [12, 32, 80, 0.476, 1.0, -0.4, 0.5, 6]\n",
      "Set 18: [12, 31, 82, 0.3, 0.9, 0.536, 0.3, 10]\n",
      "Set 19: [12, 30, 83, 0.6, 0.6, -0.5, 1.21, 12]\n",
      "Set 20: [12, 33, 81, 0.7, 0.762, -0.3, 0.4, 8]\n",
      "Set 21: [18, 32, 80, 0.3, 0.9, -0.5, 1.21, 8]\n",
      "Set 22: [18, 31, 82, 0.476, 1.0, -0.3, 0.4, 12]\n",
      "Set 23: [18, 30, 83, 0.7, 0.762, -0.4, 0.5, 10]\n",
      "Set 24: [18, 33, 81, 0.6, 0.6, 0.536, 0.3, 6]\n",
      "Set 25: [16, 32, 82, 0.6, 0.762, -0.4, 0.3, 12]\n",
      "Set 26: [16, 31, 80, 0.7, 0.6, 0.536, 0.5, 8]\n",
      "Set 27: [16, 30, 81, 0.476, 0.9, -0.5, 0.4, 6]\n",
      "Set 28: [16, 33, 83, 0.3, 1.0, -0.3, 1.21, 10]\n",
      "Set 29: [14, 32, 82, 0.7, 0.6, -0.5, 0.4, 10]\n",
      "Set 30: [14, 31, 80, 0.6, 0.762, -0.3, 1.21, 6]\n",
      "Set 31: [14, 30, 81, 0.3, 1.0, -0.4, 0.3, 8]\n",
      "Set 32: [14, 33, 83, 0.476, 0.9, 0.536, 0.5, 12]\n"
     ]
    }
   ],
   "source": [
    "set_list = []\n",
    "for targ_set in range(len(Taguchi)):\n",
    "    new_set = []\n",
    "    Tag_vals = Taguchi[targ_set][1:-1]\n",
    "    # print(Tag_vals)\n",
    "    for i in range(len(param_vals)):\n",
    "        new_set.append(param_vals[i][Tag_vals[i]])\n",
    "    \n",
    "    # Print the new set of parameters\n",
    "    print(f\"Set {targ_set + 1}: {new_set}\")\n",
    "    set_list.append(new_set)\n",
    "    \n",
    "    # Here you can add code to perform calculations or simulations with new_set if needed"
   ]
  },
  {
   "cell_type": "code",
   "execution_count": 8,
   "metadata": {},
   "outputs": [],
   "source": [
    "in_val_sets = np.array(set_list)\n",
    "in_val_sets[:, 0] = in_val_sets[:, 0] / 2 # divide by 2 to get z_sh"
   ]
  },
  {
   "cell_type": "code",
   "execution_count": 9,
   "metadata": {},
   "outputs": [
    {
     "name": "stdout",
     "output_type": "stream",
     "text": [
      "[-0.1785147]\n",
      "Total combinations: 1, Valid combinations: 1, Stage 2 constraint: 1\n"
     ]
    },
    {
     "data": {
      "text/plain": [
       "(array([6.]),\n",
       " array([39.]),\n",
       " array([32.]),\n",
       " array([81.]),\n",
       " array([0.476]),\n",
       " array([0.762]),\n",
       " array([0.536]),\n",
       " array([1.21]),\n",
       " array([7.5]),\n",
       " array([0.91168091]),\n",
       " array([0.01039048]),\n",
       " array([96.24193548]))"
      ]
     },
     "execution_count": 9,
     "metadata": {},
     "output_type": "execute_result"
    }
   ],
   "source": [
    "validate_parameters(in_val_sets[0][:-1])"
   ]
  },
  {
   "cell_type": "code",
   "execution_count": null,
   "metadata": {},
   "outputs": [],
   "source": [
    "this_set = in_val_sets[0]\n",
    "ra = 0.5 * MODULE * ( this_set[0]*2 + 2*this_set[3] +  "
   ]
  },
  {
   "cell_type": "code",
   "execution_count": 10,
   "metadata": {},
   "outputs": [
    {
     "ename": "AttributeError",
     "evalue": "module 'numpy' has no attribute 'is_empty'",
     "output_type": "error",
     "traceback": [
      "\u001b[1;31m---------------------------------------------------------------------------\u001b[0m",
      "\u001b[1;31mAttributeError\u001b[0m                            Traceback (most recent call last)",
      "Cell \u001b[1;32mIn[10], line 3\u001b[0m\n\u001b[0;32m      1\u001b[0m validations \u001b[38;5;241m=\u001b[39m []\n\u001b[0;32m      2\u001b[0m \u001b[38;5;28;01mfor\u001b[39;00m i \u001b[38;5;129;01min\u001b[39;00m \u001b[38;5;28mrange\u001b[39m(\u001b[38;5;28mlen\u001b[39m(in_val_sets)):\n\u001b[1;32m----> 3\u001b[0m     validations\u001b[38;5;241m.\u001b[39mappend(\u001b[43mnp\u001b[49m\u001b[38;5;241;43m.\u001b[39;49m\u001b[43mis_empty\u001b[49m(validate_parameters(in_val_sets[i][:\u001b[38;5;241m-\u001b[39m\u001b[38;5;241m1\u001b[39m])))\n",
      "File \u001b[1;32mc:\\Users\\campb\\AppData\\Local\\Programs\\Python\\Python311\\Lib\\site-packages\\numpy\\__init__.py:347\u001b[0m, in \u001b[0;36m__getattr__\u001b[1;34m(attr)\u001b[0m\n\u001b[0;32m    344\u001b[0m     \u001b[38;5;124m\"\u001b[39m\u001b[38;5;124mRemoved in NumPy 1.25.0\u001b[39m\u001b[38;5;124m\"\u001b[39m\n\u001b[0;32m    345\u001b[0m     \u001b[38;5;28;01mraise\u001b[39;00m \u001b[38;5;167;01mRuntimeError\u001b[39;00m(\u001b[38;5;124m\"\u001b[39m\u001b[38;5;124mTester was removed in NumPy 1.25.\u001b[39m\u001b[38;5;124m\"\u001b[39m)\n\u001b[1;32m--> 347\u001b[0m \u001b[38;5;28;01mraise\u001b[39;00m \u001b[38;5;167;01mAttributeError\u001b[39;00m(\u001b[38;5;124m\"\u001b[39m\u001b[38;5;124mmodule \u001b[39m\u001b[38;5;132;01m{!r}\u001b[39;00m\u001b[38;5;124m has no attribute \u001b[39m\u001b[38;5;124m\"\u001b[39m\n\u001b[0;32m    348\u001b[0m                      \u001b[38;5;124m\"\u001b[39m\u001b[38;5;132;01m{!r}\u001b[39;00m\u001b[38;5;124m\"\u001b[39m\u001b[38;5;241m.\u001b[39mformat(\u001b[38;5;18m__name__\u001b[39m, attr))\n",
      "\u001b[1;31mAttributeError\u001b[0m: module 'numpy' has no attribute 'is_empty'"
     ]
    }
   ],
   "source": [
    "validations = []\n",
    "for i in range(len(in_val_sets)):\n",
    "    validations.append(np.is_empty(validate_parameters(in_val_sets[i][:-1])))"
   ]
  },
  {
   "cell_type": "code",
   "execution_count": null,
   "metadata": {},
   "outputs": [
    {
     "data": {
      "text/plain": [
       "[]"
      ]
     },
     "execution_count": 17,
     "metadata": {},
     "output_type": "execute_result"
    }
   ],
   "source": [
    "validations"
   ]
  },
  {
   "cell_type": "code",
   "execution_count": null,
   "metadata": {},
   "outputs": [],
   "source": []
  }
 ],
 "metadata": {
  "kernelspec": {
   "display_name": "Python 3",
   "language": "python",
   "name": "python3"
  },
  "language_info": {
   "codemirror_mode": {
    "name": "ipython",
    "version": 3
   },
   "file_extension": ".py",
   "mimetype": "text/x-python",
   "name": "python",
   "nbconvert_exporter": "python",
   "pygments_lexer": "ipython3",
   "version": "3.11.6"
  }
 },
 "nbformat": 4,
 "nbformat_minor": 2
}
