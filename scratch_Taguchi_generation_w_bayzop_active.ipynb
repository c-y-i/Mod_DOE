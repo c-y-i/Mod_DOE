{
 "cells": [
  {
   "cell_type": "markdown",
   "metadata": {},
   "source": [
    "## Setup"
   ]
  },
  {
   "cell_type": "code",
   "execution_count": 1,
   "metadata": {},
   "outputs": [],
   "source": [
    "import numpy as np\n",
    "import matplotlib.pyplot as plt\n",
    "from matplotlib.patches import Polygon\n",
    "from matplotlib.transforms import Affine2D\n",
    "import time\n",
    "from matplotlib.offsetbox import AnchoredText \n",
    "import mplcursors \n",
    "import os\n",
    "import json\n",
    "\n",
    "import itertools\n",
    "import math\n",
    "\n",
    "from tqdm import tqdm\n",
    "\n",
    "import pyDOE\n",
    "import sys\n",
    "\n",
    "from ax.service.ax_client import AxClient, ObjectiveProperties\n",
    "from ax.utils.measurement.synthetic_functions import hartmann6\n",
    "from ax.utils.notebook.plotting import init_notebook_plotting, render\n",
    "import plotly.io as pio\n",
    "\n",
    "import pickle\n",
    "from matplotlib.pyplot import cm\n",
    "import scienceplots\n",
    "\n",
    "from utils import score_vals, param_to_list, list_to_param\n",
    "\n",
    "# Mute warnings:\n",
    "import warnings\n",
    "warnings.filterwarnings('ignore')"
   ]
  },
  {
   "cell_type": "code",
   "execution_count": 2,
   "metadata": {},
   "outputs": [],
   "source": [
    "from ax.plot.trace import optimization_trace_single_method"
   ]
  },
  {
   "cell_type": "code",
   "execution_count": 3,
   "metadata": {},
   "outputs": [],
   "source": [
    "config = {\n",
    "  \"MODULE\": 0.8e-3,\n",
    "  \"MC\": 0.8467e-3,\n",
    "  \"MU\": 0.21,\n",
    "  \"ALPHA\": 20,\n",
    "  \"XS\": 0.476,\n",
    "  \"XP1\": 0.762,\n",
    "  \"XP2\": 0.536,\n",
    "  \"XR1\": 2,\n",
    "  \"XR2\": 1.21,\n",
    "  \"XS_RANGE\": [-0.5, 0.5, 0.25],\n",
    "  \"XP1_RANGE\": [-1, 1, 0.25],\n",
    "  \"XP2_RANGE\": [-0.5, 0.5, 0.25],\n",
    "  \"XR2_RANGE\": [-1.5, 1.5, 0.25],\n",
    "  \"N_PLANETS\": 3,\n",
    "  \"SUN_LIMITS\": [4, 26],\n",
    "  \"P1_LIMITS\": [32, 42],\n",
    "  \"P2_LIMITS\": [25, 35],\n",
    "  \"R2_LIMITS\": [70,86],\n",
    "  \"STEPS\": [2, 1, 1, 1],\n",
    "  \"MIN_RATIO_THRESHOLD\": 90,\n",
    "  \"MIN_FORWARD_THRESHOLD\": 0.30,\n",
    "  \"MIN_BACKWARD_THRESHOLD\": 0.30\n",
    "}\n"
   ]
  },
  {
   "cell_type": "code",
   "execution_count": 4,
   "metadata": {},
   "outputs": [],
   "source": [
    "MODULE = config[\"MODULE\"]\n",
    "MU = config[\"MU\"]\n",
    "MC = config.get(\"MC\", MODULE)\n",
    "ALPHA = np.radians(config.get(\"ALPHA\", 20))\n",
    "XR1 = config.get(\"XR1\", 0.0)\n",
    "N_PLANETS = config[\"N_PLANETS\"]\n",
    "TARGET_GEAR_RATIO = 100\n",
    "RATIO_TOLERANCE = 10"
   ]
  },
  {
   "cell_type": "markdown",
   "metadata": {},
   "source": [
    "## Start up client"
   ]
  },
  {
   "cell_type": "code",
   "execution_count": 5,
   "metadata": {},
   "outputs": [
    {
     "name": "stderr",
     "output_type": "stream",
     "text": [
      "[INFO 04-10 16:08:42] ax.service.ax_client: Starting optimization with verbose logging. To disable logging, set the `verbose_logging` argument to `False`. Note that float values in the logs are rounded to 6 decimal points.\n"
     ]
    }
   ],
   "source": [
    "Tag_client = AxClient()"
   ]
  },
  {
   "cell_type": "code",
   "execution_count": 6,
   "metadata": {},
   "outputs": [
    {
     "name": "stderr",
     "output_type": "stream",
     "text": [
      "[INFO 04-10 16:08:42] ax.service.utils.instantiation: Created search space: SearchSpace(parameters=[RangeParameter(name='z_sh', parameter_type=INT, range=[9, 12]), RangeParameter(name='z_sh_1', parameter_type=INT, range=[8, 11]), RangeParameter(name='z_sh_2', parameter_type=INT, range=[7, 10]), RangeParameter(name='z_sh_3', parameter_type=INT, range=[6, 9]), RangeParameter(name='z_r2', parameter_type=INT, range=[73, 86]), RangeParameter(name='z_r2_1', parameter_type=INT, range=[72, 85]), RangeParameter(name='z_r2_2', parameter_type=INT, range=[71, 84]), RangeParameter(name='z_r2_3', parameter_type=INT, range=[70, 83]), RangeParameter(name='x_s', parameter_type=FLOAT, range=[-0.7, 1.0]), RangeParameter(name='x_s_1', parameter_type=FLOAT, range=[-0.8, 0.9]), RangeParameter(name='x_s_2', parameter_type=FLOAT, range=[-0.9, 0.8]), RangeParameter(name='x_s_3', parameter_type=FLOAT, range=[-1.0, 0.7]), RangeParameter(name='x_r2', parameter_type=FLOAT, range=[-0.7, 1.0]), RangeParameter(name='x_r2_1', parameter_type=FLOAT, range=[-0.8, 0.9]), RangeParameter(name='x_r2_2', parameter_type=FLOAT, range=[-0.9, 0.8]), RangeParameter(name='x_r2_3', parameter_type=FLOAT, range=[-1.0, 0.7])], parameter_constraints=[ParameterConstraint(-1.0*z_sh + 1.0*z_sh_1 <= -1.0), ParameterConstraint(-1.0*z_sh_1 + 1.0*z_sh_2 <= -1.0), ParameterConstraint(-1.0*z_sh_2 + 1.0*z_sh_3 <= -1.0), ParameterConstraint(-1.0*z_r2 + 1.0*z_r2_1 <= -1.0), ParameterConstraint(-1.0*z_r2_1 + 1.0*z_r2_2 <= -1.0), ParameterConstraint(-1.0*z_r2_2 + 1.0*z_r2_3 <= -1.0), ParameterConstraint(-1.0*x_s + 1.0*x_s_1 <= -0.1), ParameterConstraint(-1.0*x_s_1 + 1.0*x_s_2 <= -0.1), ParameterConstraint(-1.0*x_s_2 + 1.0*x_s_3 <= -0.1), ParameterConstraint(-1.0*x_r2 + 1.0*x_r2_1 <= -0.1), ParameterConstraint(-1.0*x_r2_1 + 1.0*x_r2_2 <= -0.1), ParameterConstraint(-1.0*x_r2_2 + 1.0*x_r2_3 <= -0.1)]).\n",
      "[INFO 04-10 16:08:42] ax.modelbridge.dispatch_utils: Using Models.BOTORCH_MODULAR since there is at least one ordered parameter and there are no unordered categorical parameters.\n",
      "[INFO 04-10 16:08:42] ax.modelbridge.dispatch_utils: Calculating the number of remaining initialization trials based on num_initialization_trials=None max_initialization_trials=None num_tunable_parameters=16 num_trials=None use_batch_trials=False\n",
      "[INFO 04-10 16:08:42] ax.modelbridge.dispatch_utils: calculated num_initialization_trials=32\n",
      "[INFO 04-10 16:08:42] ax.modelbridge.dispatch_utils: num_completed_initialization_trials=0 num_remaining_initialization_trials=32\n",
      "[INFO 04-10 16:08:42] ax.modelbridge.dispatch_utils: `verbose`, `disable_progbar`, and `jit_compile` are not yet supported when using `choose_generation_strategy` with ModularBoTorchModel, dropping these arguments.\n",
      "[INFO 04-10 16:08:42] ax.modelbridge.dispatch_utils: Using Bayesian Optimization generation strategy: GenerationStrategy(name='Sobol+BoTorch', steps=[Sobol for 32 trials, BoTorch for subsequent trials]). Iterations after 32 will take longer to generate due to model-fitting.\n"
     ]
    }
   ],
   "source": [
    "# Define bounds for each parameter type\n",
    "int_bounds = {\n",
    "    \"z_sh\": [6, 12], #NOTE - z_sh is actually half z_s (which must be even)\n",
    "    \"z_r2\": [70, 86],\n",
    "}\n",
    "\n",
    "float_bounds = {\n",
    "    \"x_s\": [-1, 1],\n",
    "    \"x_r2\": [-1., 1.],\n",
    "    # Cl is fixed as : 0.10-0.40\n",
    "}\n",
    "\n",
    "paper_vals = [6, 81, .476, 1.0]\n",
    "\n",
    "# Number of copies for each parameter\n",
    "num_copies = 4\n",
    "\n",
    "# Generate parameters dynamically\n",
    "parameters = []\n",
    "\n",
    "# Add integer parameters\n",
    "for name, bounds in int_bounds.items():\n",
    "    lower, upper = bounds\n",
    "    for i in range(num_copies):\n",
    "        param_name = f\"{name}\" if i == 0 else f\"{name}_{i}\"\n",
    "        parameters.append({\n",
    "            \"name\": param_name,\n",
    "            \"type\": \"range\",\n",
    "            \"bounds\": [lower + (num_copies-1-i), upper - i],  # adjust bounds to deal with order\n",
    "            \"value_type\": \"int\",\n",
    "        })\n",
    "\n",
    "# Add float parameters\n",
    "for name, bounds in float_bounds.items():\n",
    "    lower, upper = bounds\n",
    "    for i in range(num_copies):\n",
    "        param_name = f\"{name}\" if i == 0 else f\"{name}_{i}\"\n",
    "        parameters.append({\n",
    "            \"name\": param_name,\n",
    "            \"type\": \"range\",\n",
    "            \"bounds\": [lower + (.1*(num_copies-1-i)), upper - .1*i],  # adjust bounds to deal with order\n",
    "            \"value_type\": \"float\",\n",
    "        })\n",
    "\n",
    "# Add int / float parameters that make sure \n",
    "\n",
    "# Generate parameter constraints\n",
    "parameter_constraints = []\n",
    "\n",
    "# Ensure integer `z` values satisfy z_s - z_s_1 >= 1\n",
    "for name in int_bounds.keys():\n",
    "    for i in range(num_copies-1):\n",
    "        j = i+1\n",
    "        param_i = f\"{name}\" if i == 0 else f\"{name}_{i}\"\n",
    "        param_j = f\"{name}_{j}\"\n",
    "        parameter_constraints.append(f\"{param_i} - {param_j} >= 1\")\n",
    "\n",
    "# Ensure float `x` values satisfy x_s - x_s_1 >= 0.1\n",
    "for name in float_bounds.keys():\n",
    "    for i in range(num_copies-1):\n",
    "        j = i+1\n",
    "        param_i = f\"{name}\" if i == 0 else f\"{name}_{i}\"\n",
    "        param_j = f\"{name}_{j}\"\n",
    "        parameter_constraints.append(f\"{param_i} - {param_j} >= 0.1\")\n",
    "\n",
    "# Create the experiment\n",
    "Tag_client.create_experiment(\n",
    "    name=\"gear_experiment\",\n",
    "    parameters=parameters,\n",
    "    objectives={\"Cross_term_gear_ratio_product\": ObjectiveProperties(minimize=False)},\n",
    "    parameter_constraints=parameter_constraints,  # Add constraints here\n",
    "    # outcome_constraints=[\"l2norm <= 1.25\"],  # Optional.\n",
    ")\n",
    "\n",
    "# Print constraints for verification\n",
    "# print(\"Parameter Constraints:\")\n",
    "# for constraint in parameter_constraints:\n",
    "#     print(constraint)"
   ]
  },
  {
   "cell_type": "code",
   "execution_count": 7,
   "metadata": {},
   "outputs": [
    {
     "name": "stdout",
     "output_type": "stream",
     "text": [
      "max_cross_terms: 1024\n"
     ]
    }
   ],
   "source": [
    "max_cross_terms = 4**(len(int_bounds) + len(float_bounds)+1) # plus Cl.\n",
    "print(f'max_cross_terms: {max_cross_terms}')"
   ]
  },
  {
   "cell_type": "code",
   "execution_count": 8,
   "metadata": {},
   "outputs": [],
   "source": [
    "# -1.0*z_p2 + 1.0*z_p2_1 <= -1.0\n",
    "# -1.0*x_p2_1 + 1.0*x_p2 <= -0.01"
   ]
  },
  {
   "cell_type": "code",
   "execution_count": 9,
   "metadata": {},
   "outputs": [
    {
     "data": {
      "text/plain": [
       "[{'name': 'z_sh', 'type': 'range', 'bounds': [9, 12], 'value_type': 'int'},\n",
       " {'name': 'z_sh_1', 'type': 'range', 'bounds': [8, 11], 'value_type': 'int'},\n",
       " {'name': 'z_sh_2', 'type': 'range', 'bounds': [7, 10], 'value_type': 'int'},\n",
       " {'name': 'z_sh_3', 'type': 'range', 'bounds': [6, 9], 'value_type': 'int'},\n",
       " {'name': 'z_r2', 'type': 'range', 'bounds': [73, 86], 'value_type': 'int'},\n",
       " {'name': 'z_r2_1', 'type': 'range', 'bounds': [72, 85], 'value_type': 'int'},\n",
       " {'name': 'z_r2_2', 'type': 'range', 'bounds': [71, 84], 'value_type': 'int'},\n",
       " {'name': 'z_r2_3', 'type': 'range', 'bounds': [70, 83], 'value_type': 'int'},\n",
       " {'name': 'x_s',\n",
       "  'type': 'range',\n",
       "  'bounds': [-0.7, 1.0],\n",
       "  'value_type': 'float'},\n",
       " {'name': 'x_s_1',\n",
       "  'type': 'range',\n",
       "  'bounds': [-0.8, 0.9],\n",
       "  'value_type': 'float'},\n",
       " {'name': 'x_s_2',\n",
       "  'type': 'range',\n",
       "  'bounds': [-0.9, 0.8],\n",
       "  'value_type': 'float'},\n",
       " {'name': 'x_s_3',\n",
       "  'type': 'range',\n",
       "  'bounds': [-1.0, 0.7],\n",
       "  'value_type': 'float'},\n",
       " {'name': 'x_r2',\n",
       "  'type': 'range',\n",
       "  'bounds': [-0.7, 1.0],\n",
       "  'value_type': 'float'},\n",
       " {'name': 'x_r2_1',\n",
       "  'type': 'range',\n",
       "  'bounds': [-0.8, 0.9],\n",
       "  'value_type': 'float'},\n",
       " {'name': 'x_r2_2',\n",
       "  'type': 'range',\n",
       "  'bounds': [-0.9, 0.8],\n",
       "  'value_type': 'float'},\n",
       " {'name': 'x_r2_3',\n",
       "  'type': 'range',\n",
       "  'bounds': [-1.0, 0.7],\n",
       "  'value_type': 'float'}]"
      ]
     },
     "execution_count": 9,
     "metadata": {},
     "output_type": "execute_result"
    }
   ],
   "source": [
    "parameters"
   ]
  },
  {
   "cell_type": "code",
   "execution_count": 10,
   "metadata": {},
   "outputs": [
    {
     "data": {
      "text/plain": [
       "['z_sh - z_sh_1 >= 1',\n",
       " 'z_sh_1 - z_sh_2 >= 1',\n",
       " 'z_sh_2 - z_sh_3 >= 1',\n",
       " 'z_r2 - z_r2_1 >= 1',\n",
       " 'z_r2_1 - z_r2_2 >= 1',\n",
       " 'z_r2_2 - z_r2_3 >= 1',\n",
       " 'x_s - x_s_1 >= 0.1',\n",
       " 'x_s_1 - x_s_2 >= 0.1',\n",
       " 'x_s_2 - x_s_3 >= 0.1',\n",
       " 'x_r2 - x_r2_1 >= 0.1',\n",
       " 'x_r2_1 - x_r2_2 >= 0.1',\n",
       " 'x_r2_2 - x_r2_3 >= 0.1']"
      ]
     },
     "execution_count": 10,
     "metadata": {},
     "output_type": "execute_result"
    }
   ],
   "source": [
    "parameter_constraints"
   ]
  },
  {
   "cell_type": "markdown",
   "metadata": {},
   "source": [
    "### Run tests to solve for best possible score    "
   ]
  },
  {
   "cell_type": "code",
   "execution_count": 11,
   "metadata": {},
   "outputs": [
    {
     "name": "stderr",
     "output_type": "stream",
     "text": [
      "[WARNING 04-10 16:09:02] ax.modelbridge.transforms.int_to_float: Unable to round {'z_sh': 11.594851115749627, 'z_sh_1': 10.422259346240274, 'z_sh_2': 8.980727220980897, 'z_sh_3': 5.541771204409525, 'z_r2': 81.7920352315562, 'z_r2_1': 80.7153006753959, 'z_r2_2': 78.65855794480616, 'z_r2_3': 71.9845087215288, 'x_s': 0.85253869863227, 'x_s_1': 0.4612229035235942, 'x_s_2': -0.4853475414216518, 'x_s_3': -0.9167863462120295, 'x_r2': 0.8814975321292877, 'x_r2_1': 0.24527284856885667, 'x_r2_2': -0.10061240857467046, 'x_r2_3': -0.47467644540593035}to meet parameter constraints of SearchSpace(parameters=[RangeParameter(name='z_sh', parameter_type=INT, range=[9, 12]), RangeParameter(name='z_sh_1', parameter_type=INT, range=[8, 11]), RangeParameter(name='z_sh_2', parameter_type=INT, range=[7, 10]), RangeParameter(name='z_sh_3', parameter_type=INT, range=[6, 9]), RangeParameter(name='z_r2', parameter_type=INT, range=[73, 86]), RangeParameter(name='z_r2_1', parameter_type=INT, range=[72, 85]), RangeParameter(name='z_r2_2', parameter_type=INT, range=[71, 84]), RangeParameter(name='z_r2_3', parameter_type=INT, range=[70, 83]), RangeParameter(name='x_s', parameter_type=FLOAT, range=[0.0, 1.0]), RangeParameter(name='x_s_1', parameter_type=FLOAT, range=[0.0, 1.0]), RangeParameter(name='x_s_2', parameter_type=FLOAT, range=[0.0, 1.0]), RangeParameter(name='x_s_3', parameter_type=FLOAT, range=[0.0, 1.0]), RangeParameter(name='x_r2', parameter_type=FLOAT, range=[0.0, 1.0]), RangeParameter(name='x_r2_1', parameter_type=FLOAT, range=[0.0, 1.0]), RangeParameter(name='x_r2_2', parameter_type=FLOAT, range=[0.0, 1.0]), RangeParameter(name='x_r2_3', parameter_type=FLOAT, range=[0.0, 1.0])], parameter_constraints=[ParameterConstraint(-1.0*z_sh + 1.0*z_sh_1 <= -1.0), ParameterConstraint(-1.0*z_sh_1 + 1.0*z_sh_2 <= -1.0), ParameterConstraint(-1.0*z_sh_2 + 1.0*z_sh_3 <= -1.0), ParameterConstraint(-1.0*z_r2 + 1.0*z_r2_1 <= -1.0), ParameterConstraint(-1.0*z_r2_1 + 1.0*z_r2_2 <= -1.0), ParameterConstraint(-1.0*z_r2_2 + 1.0*z_r2_3 <= -1.0), ParameterConstraint(-1.0*x_s + 1.0*x_s_1 <= -0.1), ParameterConstraint(-1.0*x_s_1 + 1.0*x_s_2 <= -0.1), ParameterConstraint(-1.0*x_s_2 + 1.0*x_s_3 <= -0.1), ParameterConstraint(-1.0*x_r2 + 1.0*x_r2_1 <= -0.1), ParameterConstraint(-1.0*x_r2_1 + 1.0*x_r2_2 <= -0.1), ParameterConstraint(-1.0*x_r2_2 + 1.0*x_r2_3 <= -0.1)])\n",
      "[WARNING 04-10 16:09:03] ax.modelbridge.transforms.int_to_float: Unable to round {'z_sh': np.float64(12.0), 'z_sh_1': np.float64(10.0), 'z_sh_2': np.float64(9.0), 'z_sh_3': np.float64(6.0), 'z_r2': np.float64(82.0), 'z_r2_1': np.float64(81.0), 'z_r2_2': np.float64(79.0), 'z_r2_3': np.float64(72.0), 'x_s': np.float64(0.85253869863227), 'x_s_1': np.float64(0.4612229035235942), 'x_s_2': np.float64(-0.4853475414216518), 'x_s_3': np.float64(-0.9167863462120295), 'x_r2': np.float64(0.8814975321292877), 'x_r2_1': np.float64(0.24527284856885667), 'x_r2_2': np.float64(-0.10061240857467046), 'x_r2_3': np.float64(-0.47467644540593035)}to meet parameter constraints of SearchSpace(parameters=[RangeParameter(name='z_sh', parameter_type=INT, range=[9, 12]), RangeParameter(name='z_sh_1', parameter_type=INT, range=[8, 11]), RangeParameter(name='z_sh_2', parameter_type=INT, range=[7, 10]), RangeParameter(name='z_sh_3', parameter_type=INT, range=[6, 9]), RangeParameter(name='z_r2', parameter_type=INT, range=[73, 86]), RangeParameter(name='z_r2_1', parameter_type=INT, range=[72, 85]), RangeParameter(name='z_r2_2', parameter_type=INT, range=[71, 84]), RangeParameter(name='z_r2_3', parameter_type=INT, range=[70, 83]), RangeParameter(name='x_s', parameter_type=FLOAT, range=[0.0, 1.0]), RangeParameter(name='x_s_1', parameter_type=FLOAT, range=[0.0, 1.0]), RangeParameter(name='x_s_2', parameter_type=FLOAT, range=[0.0, 1.0]), RangeParameter(name='x_s_3', parameter_type=FLOAT, range=[0.0, 1.0]), RangeParameter(name='x_r2', parameter_type=FLOAT, range=[0.0, 1.0]), RangeParameter(name='x_r2_1', parameter_type=FLOAT, range=[0.0, 1.0]), RangeParameter(name='x_r2_2', parameter_type=FLOAT, range=[0.0, 1.0]), RangeParameter(name='x_r2_3', parameter_type=FLOAT, range=[0.0, 1.0])], parameter_constraints=[ParameterConstraint(-1.0*z_sh + 1.0*z_sh_1 <= -1.0), ParameterConstraint(-1.0*z_sh_1 + 1.0*z_sh_2 <= -1.0), ParameterConstraint(-1.0*z_sh_2 + 1.0*z_sh_3 <= -1.0), ParameterConstraint(-1.0*z_r2 + 1.0*z_r2_1 <= -1.0), ParameterConstraint(-1.0*z_r2_1 + 1.0*z_r2_2 <= -1.0), ParameterConstraint(-1.0*z_r2_2 + 1.0*z_r2_3 <= -1.0), ParameterConstraint(-1.0*x_s + 1.0*x_s_1 <= -0.1), ParameterConstraint(-1.0*x_s_1 + 1.0*x_s_2 <= -0.1), ParameterConstraint(-1.0*x_s_2 + 1.0*x_s_3 <= -0.1), ParameterConstraint(-1.0*x_r2 + 1.0*x_r2_1 <= -0.1), ParameterConstraint(-1.0*x_r2_1 + 1.0*x_r2_2 <= -0.1), ParameterConstraint(-1.0*x_r2_2 + 1.0*x_r2_3 <= -0.1)])\n",
      "[INFO 04-10 16:09:03] ax.service.ax_client: Generated new trial 0 with parameters {'z_sh': 12, 'z_sh_1': 10, 'z_sh_2': 9, 'z_sh_3': 6, 'z_r2': 82, 'z_r2_1': 81, 'z_r2_2': 79, 'z_r2_3': 72, 'x_s': 0.852539, 'x_s_1': 0.461223, 'x_s_2': -0.485348, 'x_s_3': -0.916786, 'x_r2': 0.881498, 'x_r2_1': 0.245273, 'x_r2_2': -0.100612, 'x_r2_3': -0.474676} using model Sobol.\n"
     ]
    },
    {
     "name": "stdout",
     "output_type": "stream",
     "text": [
      "Failed to get next trial 56 times\n"
     ]
    }
   ],
   "source": [
    "success = 0\n",
    "fail_count = 0\n",
    "while not success:\n",
    "    try:\n",
    "        parameterization, trial_index = Tag_client.get_next_trial()\n",
    "        success = 1\n",
    "    except:\n",
    "        fail_count += 1\n",
    "\n",
    "print(f\"Failed to get next trial {fail_count} times\")"
   ]
  },
  {
   "cell_type": "code",
   "execution_count": 12,
   "metadata": {},
   "outputs": [
    {
     "data": {
      "text/plain": [
       "{'z_sh': 12,\n",
       " 'z_sh_1': 10,\n",
       " 'z_sh_2': 9,\n",
       " 'z_sh_3': 6,\n",
       " 'z_r2': 82,\n",
       " 'z_r2_1': 81,\n",
       " 'z_r2_2': 79,\n",
       " 'z_r2_3': 72,\n",
       " 'x_s': 0.85253869863227,\n",
       " 'x_s_1': 0.4612229035235942,\n",
       " 'x_s_2': -0.4853475414216518,\n",
       " 'x_s_3': -0.9167863462120295,\n",
       " 'x_r2': 0.8814975321292877,\n",
       " 'x_r2_1': 0.24527284856885667,\n",
       " 'x_r2_2': -0.10061240857467046,\n",
       " 'x_r2_3': -0.47467644540593035}"
      ]
     },
     "execution_count": 12,
     "metadata": {},
     "output_type": "execute_result"
    }
   ],
   "source": [
    "parameterization"
   ]
  },
  {
   "cell_type": "code",
   "execution_count": 13,
   "metadata": {},
   "outputs": [
    {
     "name": "stdout",
     "output_type": "stream",
     "text": [
      "16\n",
      "z_sh: 12\n",
      "z_sh_1: 10\n",
      "z_sh_2: 9\n",
      "z_sh_3: 6\n",
      "z_r2: 82\n",
      "z_r2_1: 81\n",
      "z_r2_2: 79\n",
      "z_r2_3: 72\n",
      "x_s: 0.85253869863227\n",
      "x_s_1: 0.4612229035235942\n",
      "x_s_2: -0.4853475414216518\n",
      "x_s_3: -0.9167863462120295\n",
      "x_r2: 0.8814975321292877\n",
      "x_r2_1: 0.24527284856885667\n",
      "x_r2_2: -0.10061240857467046\n",
      "x_r2_3: -0.47467644540593035\n"
     ]
    }
   ],
   "source": [
    "print(len(parameterization))\n",
    "for name, value in parameterization.items():\n",
    "    print(f\"{name}: {value}\")"
   ]
  },
  {
   "cell_type": "code",
   "execution_count": 14,
   "metadata": {},
   "outputs": [
    {
     "name": "stderr",
     "output_type": "stream",
     "text": [
      "[INFO 04-10 16:09:03] ax.service.ax_client: Completed trial 0 with data: {'Cross_term_gear_ratio_product': (np.float64(8872.782227), None)}.\n"
     ]
    }
   ],
   "source": [
    "Tag_client.complete_trial(trial_index=trial_index, raw_data=score_vals(param_to_list(parameterization, add_cl = True), add_gear = False))"
   ]
  },
  {
   "cell_type": "code",
   "execution_count": 15,
   "metadata": {},
   "outputs": [
    {
     "name": "stdout",
     "output_type": "stream",
     "text": [
      "[array([12, 10,  9,  6]), array([82, 81, 79, 72]), array([ 0.8525387 ,  0.4612229 , -0.48534754, -0.91678635]), array([ 0.88149753,  0.24527285, -0.10061241, -0.47467645]), array([0.0001, 0.0002, 0.0003, 0.0004])]\n"
     ]
    }
   ],
   "source": [
    "list = param_to_list(parameterization, add_cl = True)\n",
    "print(list)"
   ]
  },
  {
   "cell_type": "markdown",
   "metadata": {},
   "source": [
    "NOTE - run the following through 'Exhausted' errors."
   ]
  },
  {
   "cell_type": "code",
   "execution_count": 16,
   "metadata": {},
   "outputs": [
    {
     "name": "stderr",
     "output_type": "stream",
     "text": [
      "[WARNING 04-10 16:09:03] ax.modelbridge.transforms.int_to_float: Unable to round {'z_sh': 12.428504160018974, 'z_sh_1': 11.35012806500394, 'z_sh_2': 6.818484238920863, 'z_sh_3': 5.672312371779512, 'z_r2': 84.48225878143514, 'z_r2_1': 82.0620974805492, 'z_r2_2': 77.76834013907978, 'z_r2_3': 72.21701483219181, 'x_s': 0.051158969104290075, 'x_s_1': -0.08776422012597318, 'x_s_2': -0.38833082113414996, 'x_s_3': -0.8497417542152107, 'x_r2': 0.8889097991399466, 'x_r2_1': 0.688102522585541, 'x_r2_2': 0.1328910071402788, 'x_r2_3': -0.5897517647594214}to meet parameter constraints of SearchSpace(parameters=[RangeParameter(name='z_sh', parameter_type=INT, range=[9, 12]), RangeParameter(name='z_sh_1', parameter_type=INT, range=[8, 11]), RangeParameter(name='z_sh_2', parameter_type=INT, range=[7, 10]), RangeParameter(name='z_sh_3', parameter_type=INT, range=[6, 9]), RangeParameter(name='z_r2', parameter_type=INT, range=[73, 86]), RangeParameter(name='z_r2_1', parameter_type=INT, range=[72, 85]), RangeParameter(name='z_r2_2', parameter_type=INT, range=[71, 84]), RangeParameter(name='z_r2_3', parameter_type=INT, range=[70, 83]), RangeParameter(name='x_s', parameter_type=FLOAT, range=[0.0, 1.0]), RangeParameter(name='x_s_1', parameter_type=FLOAT, range=[0.0, 1.0]), RangeParameter(name='x_s_2', parameter_type=FLOAT, range=[0.0, 1.0]), RangeParameter(name='x_s_3', parameter_type=FLOAT, range=[0.0, 1.0]), RangeParameter(name='x_r2', parameter_type=FLOAT, range=[0.0, 1.0]), RangeParameter(name='x_r2_1', parameter_type=FLOAT, range=[0.0, 1.0]), RangeParameter(name='x_r2_2', parameter_type=FLOAT, range=[0.0, 1.0]), RangeParameter(name='x_r2_3', parameter_type=FLOAT, range=[0.0, 1.0])], parameter_constraints=[ParameterConstraint(-1.0*z_sh + 1.0*z_sh_1 <= -1.0), ParameterConstraint(-1.0*z_sh_1 + 1.0*z_sh_2 <= -1.0), ParameterConstraint(-1.0*z_sh_2 + 1.0*z_sh_3 <= -1.0), ParameterConstraint(-1.0*z_r2 + 1.0*z_r2_1 <= -1.0), ParameterConstraint(-1.0*z_r2_1 + 1.0*z_r2_2 <= -1.0), ParameterConstraint(-1.0*z_r2_2 + 1.0*z_r2_3 <= -1.0), ParameterConstraint(-1.0*x_s + 1.0*x_s_1 <= -0.1), ParameterConstraint(-1.0*x_s_1 + 1.0*x_s_2 <= -0.1), ParameterConstraint(-1.0*x_s_2 + 1.0*x_s_3 <= -0.1), ParameterConstraint(-1.0*x_r2 + 1.0*x_r2_1 <= -0.1), ParameterConstraint(-1.0*x_r2_1 + 1.0*x_r2_2 <= -0.1), ParameterConstraint(-1.0*x_r2_2 + 1.0*x_r2_3 <= -0.1)])\n",
      "[WARNING 04-10 16:09:03] ax.modelbridge.transforms.int_to_float: Unable to round {'z_sh': np.float64(12.0), 'z_sh_1': np.float64(11.0), 'z_sh_2': np.float64(7.0), 'z_sh_3': np.float64(6.0), 'z_r2': np.float64(84.0), 'z_r2_1': np.float64(82.0), 'z_r2_2': np.float64(78.0), 'z_r2_3': np.float64(72.0), 'x_s': np.float64(0.051158969104290075), 'x_s_1': np.float64(-0.08776422012597318), 'x_s_2': np.float64(-0.38833082113414996), 'x_s_3': np.float64(-0.8497417542152107), 'x_r2': np.float64(0.8889097991399466), 'x_r2_1': np.float64(0.688102522585541), 'x_r2_2': np.float64(0.1328910071402788), 'x_r2_3': np.float64(-0.5897517647594214)}to meet parameter constraints of SearchSpace(parameters=[RangeParameter(name='z_sh', parameter_type=INT, range=[9, 12]), RangeParameter(name='z_sh_1', parameter_type=INT, range=[8, 11]), RangeParameter(name='z_sh_2', parameter_type=INT, range=[7, 10]), RangeParameter(name='z_sh_3', parameter_type=INT, range=[6, 9]), RangeParameter(name='z_r2', parameter_type=INT, range=[73, 86]), RangeParameter(name='z_r2_1', parameter_type=INT, range=[72, 85]), RangeParameter(name='z_r2_2', parameter_type=INT, range=[71, 84]), RangeParameter(name='z_r2_3', parameter_type=INT, range=[70, 83]), RangeParameter(name='x_s', parameter_type=FLOAT, range=[0.0, 1.0]), RangeParameter(name='x_s_1', parameter_type=FLOAT, range=[0.0, 1.0]), RangeParameter(name='x_s_2', parameter_type=FLOAT, range=[0.0, 1.0]), RangeParameter(name='x_s_3', parameter_type=FLOAT, range=[0.0, 1.0]), RangeParameter(name='x_r2', parameter_type=FLOAT, range=[0.0, 1.0]), RangeParameter(name='x_r2_1', parameter_type=FLOAT, range=[0.0, 1.0]), RangeParameter(name='x_r2_2', parameter_type=FLOAT, range=[0.0, 1.0]), RangeParameter(name='x_r2_3', parameter_type=FLOAT, range=[0.0, 1.0])], parameter_constraints=[ParameterConstraint(-1.0*z_sh + 1.0*z_sh_1 <= -1.0), ParameterConstraint(-1.0*z_sh_1 + 1.0*z_sh_2 <= -1.0), ParameterConstraint(-1.0*z_sh_2 + 1.0*z_sh_3 <= -1.0), ParameterConstraint(-1.0*z_r2 + 1.0*z_r2_1 <= -1.0), ParameterConstraint(-1.0*z_r2_1 + 1.0*z_r2_2 <= -1.0), ParameterConstraint(-1.0*z_r2_2 + 1.0*z_r2_3 <= -1.0), ParameterConstraint(-1.0*x_s + 1.0*x_s_1 <= -0.1), ParameterConstraint(-1.0*x_s_1 + 1.0*x_s_2 <= -0.1), ParameterConstraint(-1.0*x_s_2 + 1.0*x_s_3 <= -0.1), ParameterConstraint(-1.0*x_r2 + 1.0*x_r2_1 <= -0.1), ParameterConstraint(-1.0*x_r2_1 + 1.0*x_r2_2 <= -0.1), ParameterConstraint(-1.0*x_r2_2 + 1.0*x_r2_3 <= -0.1)])\n",
      "[INFO 04-10 16:09:03] ax.service.ax_client: Generated new trial 1 with parameters {'z_sh': 12, 'z_sh_1': 11, 'z_sh_2': 7, 'z_sh_3': 6, 'z_r2': 84, 'z_r2_1': 82, 'z_r2_2': 78, 'z_r2_3': 72, 'x_s': 0.051159, 'x_s_1': -0.087764, 'x_s_2': -0.388331, 'x_s_3': -0.849742, 'x_r2': 0.88891, 'x_r2_1': 0.688103, 'x_r2_2': 0.132891, 'x_r2_3': -0.589752} using model Sobol.\n",
      "[INFO 04-10 16:09:03] ax.service.ax_client: Completed trial 1 with data: {'Cross_term_gear_ratio_product': (np.float64(9739.472591), None)}.\n",
      "[WARNING 04-10 16:09:03] ax.modelbridge.transforms.int_to_float: Unable to round {'z_sh': 11.954461819844806, 'z_sh_1': 10.947316301745289, 'z_sh_2': 8.58334147237394, 'z_sh_3': 7.159741739515923, 'z_r2': 84.4451897856584, 'z_r2_1': 74.14871270258224, 'z_r2_2': 70.97091536138907, 'z_r2_3': 69.70728399742087, 'x_s': 0.30863719517365107, 'x_s_1': -0.1168835791759193, 'x_s_2': -0.3528048221953213, 'x_s_3': -0.6377526589669287, 'x_r2': 0.977737121284008, 'x_r2_1': 0.38743612905964264, 'x_r2_2': 0.1690310642123224, 'x_r2_3': -0.9930660734884441}to meet parameter constraints of SearchSpace(parameters=[RangeParameter(name='z_sh', parameter_type=INT, range=[9, 12]), RangeParameter(name='z_sh_1', parameter_type=INT, range=[8, 11]), RangeParameter(name='z_sh_2', parameter_type=INT, range=[7, 10]), RangeParameter(name='z_sh_3', parameter_type=INT, range=[6, 9]), RangeParameter(name='z_r2', parameter_type=INT, range=[73, 86]), RangeParameter(name='z_r2_1', parameter_type=INT, range=[72, 85]), RangeParameter(name='z_r2_2', parameter_type=INT, range=[71, 84]), RangeParameter(name='z_r2_3', parameter_type=INT, range=[70, 83]), RangeParameter(name='x_s', parameter_type=FLOAT, range=[0.0, 1.0]), RangeParameter(name='x_s_1', parameter_type=FLOAT, range=[0.0, 1.0]), RangeParameter(name='x_s_2', parameter_type=FLOAT, range=[0.0, 1.0]), RangeParameter(name='x_s_3', parameter_type=FLOAT, range=[0.0, 1.0]), RangeParameter(name='x_r2', parameter_type=FLOAT, range=[0.0, 1.0]), RangeParameter(name='x_r2_1', parameter_type=FLOAT, range=[0.0, 1.0]), RangeParameter(name='x_r2_2', parameter_type=FLOAT, range=[0.0, 1.0]), RangeParameter(name='x_r2_3', parameter_type=FLOAT, range=[0.0, 1.0])], parameter_constraints=[ParameterConstraint(-1.0*z_sh + 1.0*z_sh_1 <= -1.0), ParameterConstraint(-1.0*z_sh_1 + 1.0*z_sh_2 <= -1.0), ParameterConstraint(-1.0*z_sh_2 + 1.0*z_sh_3 <= -1.0), ParameterConstraint(-1.0*z_r2 + 1.0*z_r2_1 <= -1.0), ParameterConstraint(-1.0*z_r2_1 + 1.0*z_r2_2 <= -1.0), ParameterConstraint(-1.0*z_r2_2 + 1.0*z_r2_3 <= -1.0), ParameterConstraint(-1.0*x_s + 1.0*x_s_1 <= -0.1), ParameterConstraint(-1.0*x_s_1 + 1.0*x_s_2 <= -0.1), ParameterConstraint(-1.0*x_s_2 + 1.0*x_s_3 <= -0.1), ParameterConstraint(-1.0*x_r2 + 1.0*x_r2_1 <= -0.1), ParameterConstraint(-1.0*x_r2_1 + 1.0*x_r2_2 <= -0.1), ParameterConstraint(-1.0*x_r2_2 + 1.0*x_r2_3 <= -0.1)])\n",
      "[WARNING 04-10 16:09:03] ax.modelbridge.transforms.int_to_float: Unable to round {'z_sh': np.float64(12.0), 'z_sh_1': np.float64(11.0), 'z_sh_2': np.float64(9.0), 'z_sh_3': np.float64(7.0), 'z_r2': np.float64(84.0), 'z_r2_1': np.float64(74.0), 'z_r2_2': np.float64(71.0), 'z_r2_3': np.float64(70.0), 'x_s': np.float64(0.30863719517365107), 'x_s_1': np.float64(-0.1168835791759193), 'x_s_2': np.float64(-0.3528048221953213), 'x_s_3': np.float64(-0.6377526589669287), 'x_r2': np.float64(0.977737121284008), 'x_r2_1': np.float64(0.38743612905964264), 'x_r2_2': np.float64(0.1690310642123224), 'x_r2_3': np.float64(-0.9930660734884441)}to meet parameter constraints of SearchSpace(parameters=[RangeParameter(name='z_sh', parameter_type=INT, range=[9, 12]), RangeParameter(name='z_sh_1', parameter_type=INT, range=[8, 11]), RangeParameter(name='z_sh_2', parameter_type=INT, range=[7, 10]), RangeParameter(name='z_sh_3', parameter_type=INT, range=[6, 9]), RangeParameter(name='z_r2', parameter_type=INT, range=[73, 86]), RangeParameter(name='z_r2_1', parameter_type=INT, range=[72, 85]), RangeParameter(name='z_r2_2', parameter_type=INT, range=[71, 84]), RangeParameter(name='z_r2_3', parameter_type=INT, range=[70, 83]), RangeParameter(name='x_s', parameter_type=FLOAT, range=[0.0, 1.0]), RangeParameter(name='x_s_1', parameter_type=FLOAT, range=[0.0, 1.0]), RangeParameter(name='x_s_2', parameter_type=FLOAT, range=[0.0, 1.0]), RangeParameter(name='x_s_3', parameter_type=FLOAT, range=[0.0, 1.0]), RangeParameter(name='x_r2', parameter_type=FLOAT, range=[0.0, 1.0]), RangeParameter(name='x_r2_1', parameter_type=FLOAT, range=[0.0, 1.0]), RangeParameter(name='x_r2_2', parameter_type=FLOAT, range=[0.0, 1.0]), RangeParameter(name='x_r2_3', parameter_type=FLOAT, range=[0.0, 1.0])], parameter_constraints=[ParameterConstraint(-1.0*z_sh + 1.0*z_sh_1 <= -1.0), ParameterConstraint(-1.0*z_sh_1 + 1.0*z_sh_2 <= -1.0), ParameterConstraint(-1.0*z_sh_2 + 1.0*z_sh_3 <= -1.0), ParameterConstraint(-1.0*z_r2 + 1.0*z_r2_1 <= -1.0), ParameterConstraint(-1.0*z_r2_1 + 1.0*z_r2_2 <= -1.0), ParameterConstraint(-1.0*z_r2_2 + 1.0*z_r2_3 <= -1.0), ParameterConstraint(-1.0*x_s + 1.0*x_s_1 <= -0.1), ParameterConstraint(-1.0*x_s_1 + 1.0*x_s_2 <= -0.1), ParameterConstraint(-1.0*x_s_2 + 1.0*x_s_3 <= -0.1), ParameterConstraint(-1.0*x_r2 + 1.0*x_r2_1 <= -0.1), ParameterConstraint(-1.0*x_r2_1 + 1.0*x_r2_2 <= -0.1), ParameterConstraint(-1.0*x_r2_2 + 1.0*x_r2_3 <= -0.1)])\n",
      "[INFO 04-10 16:09:03] ax.service.ax_client: Generated new trial 2 with parameters {'z_sh': 12, 'z_sh_1': 11, 'z_sh_2': 9, 'z_sh_3': 7, 'z_r2': 84, 'z_r2_1': 74, 'z_r2_2': 71, 'z_r2_3': 70, 'x_s': 0.308637, 'x_s_1': -0.116884, 'x_s_2': -0.352805, 'x_s_3': -0.637753, 'x_r2': 0.977737, 'x_r2_1': 0.387436, 'x_r2_2': 0.169031, 'x_r2_3': -0.993066} using model Sobol.\n",
      "[INFO 04-10 16:09:04] ax.service.ax_client: Completed trial 2 with data: {'Cross_term_gear_ratio_product': (np.float64(14978.138531), None)}.\n",
      "[WARNING 04-10 16:09:10] ax.modelbridge.transforms.int_to_float: Unable to round {'z_sh': 12.339457944441568, 'z_sh_1': 11.163565666186791, 'z_sh_2': 8.7793901786468, 'z_sh_3': 6.310962184919118, 'z_r2': 84.34996538846337, 'z_r2_1': 81.9651675957379, 'z_r2_2': 78.2044945669941, 'z_r2_3': 71.72864877140773, 'x_s': 0.9795057347975671, 'x_s_1': 0.6294079714454712, 'x_s_2': -0.8018764402717352, 'x_s_3': -0.9427027637138963, 'x_r2': 0.9938592413440346, 'x_r2_1': 0.6331584382802249, 'x_r2_2': 0.44828328248113414, 'x_r2_3': -0.3544368643313647}to meet parameter constraints of SearchSpace(parameters=[RangeParameter(name='z_sh', parameter_type=INT, range=[9, 12]), RangeParameter(name='z_sh_1', parameter_type=INT, range=[8, 11]), RangeParameter(name='z_sh_2', parameter_type=INT, range=[7, 10]), RangeParameter(name='z_sh_3', parameter_type=INT, range=[6, 9]), RangeParameter(name='z_r2', parameter_type=INT, range=[73, 86]), RangeParameter(name='z_r2_1', parameter_type=INT, range=[72, 85]), RangeParameter(name='z_r2_2', parameter_type=INT, range=[71, 84]), RangeParameter(name='z_r2_3', parameter_type=INT, range=[70, 83]), RangeParameter(name='x_s', parameter_type=FLOAT, range=[0.0, 1.0]), RangeParameter(name='x_s_1', parameter_type=FLOAT, range=[0.0, 1.0]), RangeParameter(name='x_s_2', parameter_type=FLOAT, range=[0.0, 1.0]), RangeParameter(name='x_s_3', parameter_type=FLOAT, range=[0.0, 1.0]), RangeParameter(name='x_r2', parameter_type=FLOAT, range=[0.0, 1.0]), RangeParameter(name='x_r2_1', parameter_type=FLOAT, range=[0.0, 1.0]), RangeParameter(name='x_r2_2', parameter_type=FLOAT, range=[0.0, 1.0]), RangeParameter(name='x_r2_3', parameter_type=FLOAT, range=[0.0, 1.0])], parameter_constraints=[ParameterConstraint(-1.0*z_sh + 1.0*z_sh_1 <= -1.0), ParameterConstraint(-1.0*z_sh_1 + 1.0*z_sh_2 <= -1.0), ParameterConstraint(-1.0*z_sh_2 + 1.0*z_sh_3 <= -1.0), ParameterConstraint(-1.0*z_r2 + 1.0*z_r2_1 <= -1.0), ParameterConstraint(-1.0*z_r2_1 + 1.0*z_r2_2 <= -1.0), ParameterConstraint(-1.0*z_r2_2 + 1.0*z_r2_3 <= -1.0), ParameterConstraint(-1.0*x_s + 1.0*x_s_1 <= -0.1), ParameterConstraint(-1.0*x_s_1 + 1.0*x_s_2 <= -0.1), ParameterConstraint(-1.0*x_s_2 + 1.0*x_s_3 <= -0.1), ParameterConstraint(-1.0*x_r2 + 1.0*x_r2_1 <= -0.1), ParameterConstraint(-1.0*x_r2_1 + 1.0*x_r2_2 <= -0.1), ParameterConstraint(-1.0*x_r2_2 + 1.0*x_r2_3 <= -0.1)])\n",
      "[WARNING 04-10 16:09:10] ax.modelbridge.transforms.int_to_float: Unable to round {'z_sh': np.float64(12.0), 'z_sh_1': np.float64(11.0), 'z_sh_2': np.float64(9.0), 'z_sh_3': np.float64(6.0), 'z_r2': np.float64(84.0), 'z_r2_1': np.float64(82.0), 'z_r2_2': np.float64(78.0), 'z_r2_3': np.float64(72.0), 'x_s': np.float64(0.9795057347975671), 'x_s_1': np.float64(0.6294079714454712), 'x_s_2': np.float64(-0.8018764402717352), 'x_s_3': np.float64(-0.9427027637138963), 'x_r2': np.float64(0.9938592413440346), 'x_r2_1': np.float64(0.6331584382802249), 'x_r2_2': np.float64(0.44828328248113414), 'x_r2_3': np.float64(-0.3544368643313647)}to meet parameter constraints of SearchSpace(parameters=[RangeParameter(name='z_sh', parameter_type=INT, range=[9, 12]), RangeParameter(name='z_sh_1', parameter_type=INT, range=[8, 11]), RangeParameter(name='z_sh_2', parameter_type=INT, range=[7, 10]), RangeParameter(name='z_sh_3', parameter_type=INT, range=[6, 9]), RangeParameter(name='z_r2', parameter_type=INT, range=[73, 86]), RangeParameter(name='z_r2_1', parameter_type=INT, range=[72, 85]), RangeParameter(name='z_r2_2', parameter_type=INT, range=[71, 84]), RangeParameter(name='z_r2_3', parameter_type=INT, range=[70, 83]), RangeParameter(name='x_s', parameter_type=FLOAT, range=[0.0, 1.0]), RangeParameter(name='x_s_1', parameter_type=FLOAT, range=[0.0, 1.0]), RangeParameter(name='x_s_2', parameter_type=FLOAT, range=[0.0, 1.0]), RangeParameter(name='x_s_3', parameter_type=FLOAT, range=[0.0, 1.0]), RangeParameter(name='x_r2', parameter_type=FLOAT, range=[0.0, 1.0]), RangeParameter(name='x_r2_1', parameter_type=FLOAT, range=[0.0, 1.0]), RangeParameter(name='x_r2_2', parameter_type=FLOAT, range=[0.0, 1.0]), RangeParameter(name='x_r2_3', parameter_type=FLOAT, range=[0.0, 1.0])], parameter_constraints=[ParameterConstraint(-1.0*z_sh + 1.0*z_sh_1 <= -1.0), ParameterConstraint(-1.0*z_sh_1 + 1.0*z_sh_2 <= -1.0), ParameterConstraint(-1.0*z_sh_2 + 1.0*z_sh_3 <= -1.0), ParameterConstraint(-1.0*z_r2 + 1.0*z_r2_1 <= -1.0), ParameterConstraint(-1.0*z_r2_1 + 1.0*z_r2_2 <= -1.0), ParameterConstraint(-1.0*z_r2_2 + 1.0*z_r2_3 <= -1.0), ParameterConstraint(-1.0*x_s + 1.0*x_s_1 <= -0.1), ParameterConstraint(-1.0*x_s_1 + 1.0*x_s_2 <= -0.1), ParameterConstraint(-1.0*x_s_2 + 1.0*x_s_3 <= -0.1), ParameterConstraint(-1.0*x_r2 + 1.0*x_r2_1 <= -0.1), ParameterConstraint(-1.0*x_r2_1 + 1.0*x_r2_2 <= -0.1), ParameterConstraint(-1.0*x_r2_2 + 1.0*x_r2_3 <= -0.1)])\n",
      "[INFO 04-10 16:09:10] ax.service.ax_client: Generated new trial 3 with parameters {'z_sh': 12, 'z_sh_1': 11, 'z_sh_2': 9, 'z_sh_3': 6, 'z_r2': 84, 'z_r2_1': 82, 'z_r2_2': 78, 'z_r2_3': 72, 'x_s': 0.979506, 'x_s_1': 0.629408, 'x_s_2': -0.801876, 'x_s_3': -0.942703, 'x_r2': 0.993859, 'x_r2_1': 0.633158, 'x_r2_2': 0.448283, 'x_r2_3': -0.354437} using model Sobol.\n",
      "[INFO 04-10 16:09:10] ax.service.ax_client: Completed trial 3 with data: {'Cross_term_gear_ratio_product': (np.float64(9137.129494), None)}.\n",
      "[WARNING 04-10 16:09:14] ax.modelbridge.transforms.int_to_float: Unable to round {'z_sh': 12.359107284754385, 'z_sh_1': 9.471674468435626, 'z_sh_2': 7.751082443390619, 'z_sh_3': 5.553953096095472, 'z_r2': 84.6855154352625, 'z_r2_1': 81.35947434212802, 'z_r2_2': 71.20864577631308, 'z_r2_3': 69.81461682993623, 'x_s': 0.8230461315251887, 'x_s_1': 0.4570021470077337, 'x_s_2': -0.10125242723152039, 'x_s_3': -0.9113817632198333, 'x_r2': 0.17734792577102787, 'x_r2_1': 0.012990832980722233, 'x_r2_2': -0.3363858699798583, 'x_r2_3': -0.9423413017764688}to meet parameter constraints of SearchSpace(parameters=[RangeParameter(name='z_sh', parameter_type=INT, range=[9, 12]), RangeParameter(name='z_sh_1', parameter_type=INT, range=[8, 11]), RangeParameter(name='z_sh_2', parameter_type=INT, range=[7, 10]), RangeParameter(name='z_sh_3', parameter_type=INT, range=[6, 9]), RangeParameter(name='z_r2', parameter_type=INT, range=[73, 86]), RangeParameter(name='z_r2_1', parameter_type=INT, range=[72, 85]), RangeParameter(name='z_r2_2', parameter_type=INT, range=[71, 84]), RangeParameter(name='z_r2_3', parameter_type=INT, range=[70, 83]), RangeParameter(name='x_s', parameter_type=FLOAT, range=[0.0, 1.0]), RangeParameter(name='x_s_1', parameter_type=FLOAT, range=[0.0, 1.0]), RangeParameter(name='x_s_2', parameter_type=FLOAT, range=[0.0, 1.0]), RangeParameter(name='x_s_3', parameter_type=FLOAT, range=[0.0, 1.0]), RangeParameter(name='x_r2', parameter_type=FLOAT, range=[0.0, 1.0]), RangeParameter(name='x_r2_1', parameter_type=FLOAT, range=[0.0, 1.0]), RangeParameter(name='x_r2_2', parameter_type=FLOAT, range=[0.0, 1.0]), RangeParameter(name='x_r2_3', parameter_type=FLOAT, range=[0.0, 1.0])], parameter_constraints=[ParameterConstraint(-1.0*z_sh + 1.0*z_sh_1 <= -1.0), ParameterConstraint(-1.0*z_sh_1 + 1.0*z_sh_2 <= -1.0), ParameterConstraint(-1.0*z_sh_2 + 1.0*z_sh_3 <= -1.0), ParameterConstraint(-1.0*z_r2 + 1.0*z_r2_1 <= -1.0), ParameterConstraint(-1.0*z_r2_1 + 1.0*z_r2_2 <= -1.0), ParameterConstraint(-1.0*z_r2_2 + 1.0*z_r2_3 <= -1.0), ParameterConstraint(-1.0*x_s + 1.0*x_s_1 <= -0.1), ParameterConstraint(-1.0*x_s_1 + 1.0*x_s_2 <= -0.1), ParameterConstraint(-1.0*x_s_2 + 1.0*x_s_3 <= -0.1), ParameterConstraint(-1.0*x_r2 + 1.0*x_r2_1 <= -0.1), ParameterConstraint(-1.0*x_r2_1 + 1.0*x_r2_2 <= -0.1), ParameterConstraint(-1.0*x_r2_2 + 1.0*x_r2_3 <= -0.1)])\n",
      "[WARNING 04-10 16:09:14] ax.modelbridge.transforms.int_to_float: Unable to round {'z_sh': np.float64(12.0), 'z_sh_1': np.float64(9.0), 'z_sh_2': np.float64(8.0), 'z_sh_3': np.float64(6.0), 'z_r2': np.float64(85.0), 'z_r2_1': np.float64(81.0), 'z_r2_2': np.float64(71.0), 'z_r2_3': np.float64(70.0), 'x_s': np.float64(0.8230461315251887), 'x_s_1': np.float64(0.4570021470077337), 'x_s_2': np.float64(-0.10125242723152039), 'x_s_3': np.float64(-0.9113817632198333), 'x_r2': np.float64(0.17734792577102787), 'x_r2_1': np.float64(0.012990832980722233), 'x_r2_2': np.float64(-0.3363858699798583), 'x_r2_3': np.float64(-0.9423413017764688)}to meet parameter constraints of SearchSpace(parameters=[RangeParameter(name='z_sh', parameter_type=INT, range=[9, 12]), RangeParameter(name='z_sh_1', parameter_type=INT, range=[8, 11]), RangeParameter(name='z_sh_2', parameter_type=INT, range=[7, 10]), RangeParameter(name='z_sh_3', parameter_type=INT, range=[6, 9]), RangeParameter(name='z_r2', parameter_type=INT, range=[73, 86]), RangeParameter(name='z_r2_1', parameter_type=INT, range=[72, 85]), RangeParameter(name='z_r2_2', parameter_type=INT, range=[71, 84]), RangeParameter(name='z_r2_3', parameter_type=INT, range=[70, 83]), RangeParameter(name='x_s', parameter_type=FLOAT, range=[0.0, 1.0]), RangeParameter(name='x_s_1', parameter_type=FLOAT, range=[0.0, 1.0]), RangeParameter(name='x_s_2', parameter_type=FLOAT, range=[0.0, 1.0]), RangeParameter(name='x_s_3', parameter_type=FLOAT, range=[0.0, 1.0]), RangeParameter(name='x_r2', parameter_type=FLOAT, range=[0.0, 1.0]), RangeParameter(name='x_r2_1', parameter_type=FLOAT, range=[0.0, 1.0]), RangeParameter(name='x_r2_2', parameter_type=FLOAT, range=[0.0, 1.0]), RangeParameter(name='x_r2_3', parameter_type=FLOAT, range=[0.0, 1.0])], parameter_constraints=[ParameterConstraint(-1.0*z_sh + 1.0*z_sh_1 <= -1.0), ParameterConstraint(-1.0*z_sh_1 + 1.0*z_sh_2 <= -1.0), ParameterConstraint(-1.0*z_sh_2 + 1.0*z_sh_3 <= -1.0), ParameterConstraint(-1.0*z_r2 + 1.0*z_r2_1 <= -1.0), ParameterConstraint(-1.0*z_r2_1 + 1.0*z_r2_2 <= -1.0), ParameterConstraint(-1.0*z_r2_2 + 1.0*z_r2_3 <= -1.0), ParameterConstraint(-1.0*x_s + 1.0*x_s_1 <= -0.1), ParameterConstraint(-1.0*x_s_1 + 1.0*x_s_2 <= -0.1), ParameterConstraint(-1.0*x_s_2 + 1.0*x_s_3 <= -0.1), ParameterConstraint(-1.0*x_r2 + 1.0*x_r2_1 <= -0.1), ParameterConstraint(-1.0*x_r2_1 + 1.0*x_r2_2 <= -0.1), ParameterConstraint(-1.0*x_r2_2 + 1.0*x_r2_3 <= -0.1)])\n",
      "[INFO 04-10 16:09:14] ax.service.ax_client: Generated new trial 4 with parameters {'z_sh': 12, 'z_sh_1': 9, 'z_sh_2': 8, 'z_sh_3': 6, 'z_r2': 85, 'z_r2_1': 81, 'z_r2_2': 71, 'z_r2_3': 70, 'x_s': 0.823046, 'x_s_1': 0.457002, 'x_s_2': -0.101252, 'x_s_3': -0.911382, 'x_r2': 0.177348, 'x_r2_1': 0.012991, 'x_r2_2': -0.336386, 'x_r2_3': -0.942341} using model Sobol.\n",
      "[INFO 04-10 16:09:14] ax.service.ax_client: Completed trial 4 with data: {'Cross_term_gear_ratio_product': (np.float64(10759.50734), None)}.\n",
      "[WARNING 04-10 16:09:17] ax.modelbridge.transforms.int_to_float: Unable to round {'z_sh': 12.106171448612194, 'z_sh_1': 10.895128460529875, 'z_sh_2': 8.108116883707215, 'z_sh_3': 6.3021295136309785, 'z_r2': 86.49141842660481, 'z_r2_1': 78.7399838062788, 'z_r2_2': 76.53834905204805, 'z_r2_3': 75.35070254367712, 'x_s': 0.4585668472573161, 'x_s_1': 0.22827215073630214, 'x_s_2': -0.011723770387470633, 'x_s_3': -0.6870032079517842, 'x_r2': 0.6281854452565312, 'x_r2_1': 0.44964529052376756, 'x_r2_2': -0.28048702357336874, 'x_r2_3': -0.7431895010173322}to meet parameter constraints of SearchSpace(parameters=[RangeParameter(name='z_sh', parameter_type=INT, range=[9, 12]), RangeParameter(name='z_sh_1', parameter_type=INT, range=[8, 11]), RangeParameter(name='z_sh_2', parameter_type=INT, range=[7, 10]), RangeParameter(name='z_sh_3', parameter_type=INT, range=[6, 9]), RangeParameter(name='z_r2', parameter_type=INT, range=[73, 86]), RangeParameter(name='z_r2_1', parameter_type=INT, range=[72, 85]), RangeParameter(name='z_r2_2', parameter_type=INT, range=[71, 84]), RangeParameter(name='z_r2_3', parameter_type=INT, range=[70, 83]), RangeParameter(name='x_s', parameter_type=FLOAT, range=[0.0, 1.0]), RangeParameter(name='x_s_1', parameter_type=FLOAT, range=[0.0, 1.0]), RangeParameter(name='x_s_2', parameter_type=FLOAT, range=[0.0, 1.0]), RangeParameter(name='x_s_3', parameter_type=FLOAT, range=[0.0, 1.0]), RangeParameter(name='x_r2', parameter_type=FLOAT, range=[0.0, 1.0]), RangeParameter(name='x_r2_1', parameter_type=FLOAT, range=[0.0, 1.0]), RangeParameter(name='x_r2_2', parameter_type=FLOAT, range=[0.0, 1.0]), RangeParameter(name='x_r2_3', parameter_type=FLOAT, range=[0.0, 1.0])], parameter_constraints=[ParameterConstraint(-1.0*z_sh + 1.0*z_sh_1 <= -1.0), ParameterConstraint(-1.0*z_sh_1 + 1.0*z_sh_2 <= -1.0), ParameterConstraint(-1.0*z_sh_2 + 1.0*z_sh_3 <= -1.0), ParameterConstraint(-1.0*z_r2 + 1.0*z_r2_1 <= -1.0), ParameterConstraint(-1.0*z_r2_1 + 1.0*z_r2_2 <= -1.0), ParameterConstraint(-1.0*z_r2_2 + 1.0*z_r2_3 <= -1.0), ParameterConstraint(-1.0*x_s + 1.0*x_s_1 <= -0.1), ParameterConstraint(-1.0*x_s_1 + 1.0*x_s_2 <= -0.1), ParameterConstraint(-1.0*x_s_2 + 1.0*x_s_3 <= -0.1), ParameterConstraint(-1.0*x_r2 + 1.0*x_r2_1 <= -0.1), ParameterConstraint(-1.0*x_r2_1 + 1.0*x_r2_2 <= -0.1), ParameterConstraint(-1.0*x_r2_2 + 1.0*x_r2_3 <= -0.1)])\n",
      "[WARNING 04-10 16:09:17] ax.modelbridge.transforms.int_to_float: Unable to round {'z_sh': np.float64(12.0), 'z_sh_1': np.float64(11.0), 'z_sh_2': np.float64(8.0), 'z_sh_3': np.float64(6.0), 'z_r2': np.float64(86.0), 'z_r2_1': np.float64(79.0), 'z_r2_2': np.float64(77.0), 'z_r2_3': np.float64(75.0), 'x_s': np.float64(0.4585668472573161), 'x_s_1': np.float64(0.22827215073630214), 'x_s_2': np.float64(-0.011723770387470633), 'x_s_3': np.float64(-0.6870032079517842), 'x_r2': np.float64(0.6281854452565312), 'x_r2_1': np.float64(0.44964529052376756), 'x_r2_2': np.float64(-0.28048702357336874), 'x_r2_3': np.float64(-0.7431895010173322)}to meet parameter constraints of SearchSpace(parameters=[RangeParameter(name='z_sh', parameter_type=INT, range=[9, 12]), RangeParameter(name='z_sh_1', parameter_type=INT, range=[8, 11]), RangeParameter(name='z_sh_2', parameter_type=INT, range=[7, 10]), RangeParameter(name='z_sh_3', parameter_type=INT, range=[6, 9]), RangeParameter(name='z_r2', parameter_type=INT, range=[73, 86]), RangeParameter(name='z_r2_1', parameter_type=INT, range=[72, 85]), RangeParameter(name='z_r2_2', parameter_type=INT, range=[71, 84]), RangeParameter(name='z_r2_3', parameter_type=INT, range=[70, 83]), RangeParameter(name='x_s', parameter_type=FLOAT, range=[0.0, 1.0]), RangeParameter(name='x_s_1', parameter_type=FLOAT, range=[0.0, 1.0]), RangeParameter(name='x_s_2', parameter_type=FLOAT, range=[0.0, 1.0]), RangeParameter(name='x_s_3', parameter_type=FLOAT, range=[0.0, 1.0]), RangeParameter(name='x_r2', parameter_type=FLOAT, range=[0.0, 1.0]), RangeParameter(name='x_r2_1', parameter_type=FLOAT, range=[0.0, 1.0]), RangeParameter(name='x_r2_2', parameter_type=FLOAT, range=[0.0, 1.0]), RangeParameter(name='x_r2_3', parameter_type=FLOAT, range=[0.0, 1.0])], parameter_constraints=[ParameterConstraint(-1.0*z_sh + 1.0*z_sh_1 <= -1.0), ParameterConstraint(-1.0*z_sh_1 + 1.0*z_sh_2 <= -1.0), ParameterConstraint(-1.0*z_sh_2 + 1.0*z_sh_3 <= -1.0), ParameterConstraint(-1.0*z_r2 + 1.0*z_r2_1 <= -1.0), ParameterConstraint(-1.0*z_r2_1 + 1.0*z_r2_2 <= -1.0), ParameterConstraint(-1.0*z_r2_2 + 1.0*z_r2_3 <= -1.0), ParameterConstraint(-1.0*x_s + 1.0*x_s_1 <= -0.1), ParameterConstraint(-1.0*x_s_1 + 1.0*x_s_2 <= -0.1), ParameterConstraint(-1.0*x_s_2 + 1.0*x_s_3 <= -0.1), ParameterConstraint(-1.0*x_r2 + 1.0*x_r2_1 <= -0.1), ParameterConstraint(-1.0*x_r2_1 + 1.0*x_r2_2 <= -0.1), ParameterConstraint(-1.0*x_r2_2 + 1.0*x_r2_3 <= -0.1)])\n",
      "[INFO 04-10 16:09:17] ax.service.ax_client: Generated new trial 5 with parameters {'z_sh': 12, 'z_sh_1': 11, 'z_sh_2': 8, 'z_sh_3': 6, 'z_r2': 86, 'z_r2_1': 79, 'z_r2_2': 77, 'z_r2_3': 75, 'x_s': 0.458567, 'x_s_1': 0.228272, 'x_s_2': -0.011724, 'x_s_3': -0.687003, 'x_r2': 0.628185, 'x_r2_1': 0.449645, 'x_r2_2': -0.280487, 'x_r2_3': -0.74319} using model Sobol.\n",
      "[INFO 04-10 16:09:17] ax.service.ax_client: Completed trial 5 with data: {'Cross_term_gear_ratio_product': (np.float64(15392.768516), None)}.\n",
      "[WARNING 04-10 16:09:26] ax.modelbridge.transforms.int_to_float: Unable to round {'z_sh': 11.131463209018818, 'z_sh_1': 10.12919992021449, 'z_sh_2': 8.278124696751982, 'z_sh_3': 6.22162077136388, 'z_r2': 82.6602512117758, 'z_r2_1': 79.37539792359846, 'z_r2_2': 78.30788084191843, 'z_r2_3': 73.95428850587032, 'x_s': 0.6303234258666635, 'x_s_1': 0.01341100018471486, 'x_s_2': -0.10957959173247211, 'x_s_3': -0.8150109987705946, 'x_r2': 0.8628371656872331, 'x_r2_1': 0.7333559235557916, 'x_r2_2': 0.21254679625853912, 'x_r2_3': -0.12019751043990257}to meet parameter constraints of SearchSpace(parameters=[RangeParameter(name='z_sh', parameter_type=INT, range=[9, 12]), RangeParameter(name='z_sh_1', parameter_type=INT, range=[8, 11]), RangeParameter(name='z_sh_2', parameter_type=INT, range=[7, 10]), RangeParameter(name='z_sh_3', parameter_type=INT, range=[6, 9]), RangeParameter(name='z_r2', parameter_type=INT, range=[73, 86]), RangeParameter(name='z_r2_1', parameter_type=INT, range=[72, 85]), RangeParameter(name='z_r2_2', parameter_type=INT, range=[71, 84]), RangeParameter(name='z_r2_3', parameter_type=INT, range=[70, 83]), RangeParameter(name='x_s', parameter_type=FLOAT, range=[0.0, 1.0]), RangeParameter(name='x_s_1', parameter_type=FLOAT, range=[0.0, 1.0]), RangeParameter(name='x_s_2', parameter_type=FLOAT, range=[0.0, 1.0]), RangeParameter(name='x_s_3', parameter_type=FLOAT, range=[0.0, 1.0]), RangeParameter(name='x_r2', parameter_type=FLOAT, range=[0.0, 1.0]), RangeParameter(name='x_r2_1', parameter_type=FLOAT, range=[0.0, 1.0]), RangeParameter(name='x_r2_2', parameter_type=FLOAT, range=[0.0, 1.0]), RangeParameter(name='x_r2_3', parameter_type=FLOAT, range=[0.0, 1.0])], parameter_constraints=[ParameterConstraint(-1.0*z_sh + 1.0*z_sh_1 <= -1.0), ParameterConstraint(-1.0*z_sh_1 + 1.0*z_sh_2 <= -1.0), ParameterConstraint(-1.0*z_sh_2 + 1.0*z_sh_3 <= -1.0), ParameterConstraint(-1.0*z_r2 + 1.0*z_r2_1 <= -1.0), ParameterConstraint(-1.0*z_r2_1 + 1.0*z_r2_2 <= -1.0), ParameterConstraint(-1.0*z_r2_2 + 1.0*z_r2_3 <= -1.0), ParameterConstraint(-1.0*x_s + 1.0*x_s_1 <= -0.1), ParameterConstraint(-1.0*x_s_1 + 1.0*x_s_2 <= -0.1), ParameterConstraint(-1.0*x_s_2 + 1.0*x_s_3 <= -0.1), ParameterConstraint(-1.0*x_r2 + 1.0*x_r2_1 <= -0.1), ParameterConstraint(-1.0*x_r2_1 + 1.0*x_r2_2 <= -0.1), ParameterConstraint(-1.0*x_r2_2 + 1.0*x_r2_3 <= -0.1)])\n",
      "[WARNING 04-10 16:09:26] ax.modelbridge.transforms.int_to_float: Unable to round {'z_sh': np.float64(11.0), 'z_sh_1': np.float64(10.0), 'z_sh_2': np.float64(8.0), 'z_sh_3': np.float64(6.0), 'z_r2': np.float64(83.0), 'z_r2_1': np.float64(79.0), 'z_r2_2': np.float64(78.0), 'z_r2_3': np.float64(74.0), 'x_s': np.float64(0.6303234258666635), 'x_s_1': np.float64(0.01341100018471486), 'x_s_2': np.float64(-0.10957959173247211), 'x_s_3': np.float64(-0.8150109987705946), 'x_r2': np.float64(0.8628371656872331), 'x_r2_1': np.float64(0.7333559235557916), 'x_r2_2': np.float64(0.21254679625853912), 'x_r2_3': np.float64(-0.12019751043990257)}to meet parameter constraints of SearchSpace(parameters=[RangeParameter(name='z_sh', parameter_type=INT, range=[9, 12]), RangeParameter(name='z_sh_1', parameter_type=INT, range=[8, 11]), RangeParameter(name='z_sh_2', parameter_type=INT, range=[7, 10]), RangeParameter(name='z_sh_3', parameter_type=INT, range=[6, 9]), RangeParameter(name='z_r2', parameter_type=INT, range=[73, 86]), RangeParameter(name='z_r2_1', parameter_type=INT, range=[72, 85]), RangeParameter(name='z_r2_2', parameter_type=INT, range=[71, 84]), RangeParameter(name='z_r2_3', parameter_type=INT, range=[70, 83]), RangeParameter(name='x_s', parameter_type=FLOAT, range=[0.0, 1.0]), RangeParameter(name='x_s_1', parameter_type=FLOAT, range=[0.0, 1.0]), RangeParameter(name='x_s_2', parameter_type=FLOAT, range=[0.0, 1.0]), RangeParameter(name='x_s_3', parameter_type=FLOAT, range=[0.0, 1.0]), RangeParameter(name='x_r2', parameter_type=FLOAT, range=[0.0, 1.0]), RangeParameter(name='x_r2_1', parameter_type=FLOAT, range=[0.0, 1.0]), RangeParameter(name='x_r2_2', parameter_type=FLOAT, range=[0.0, 1.0]), RangeParameter(name='x_r2_3', parameter_type=FLOAT, range=[0.0, 1.0])], parameter_constraints=[ParameterConstraint(-1.0*z_sh + 1.0*z_sh_1 <= -1.0), ParameterConstraint(-1.0*z_sh_1 + 1.0*z_sh_2 <= -1.0), ParameterConstraint(-1.0*z_sh_2 + 1.0*z_sh_3 <= -1.0), ParameterConstraint(-1.0*z_r2 + 1.0*z_r2_1 <= -1.0), ParameterConstraint(-1.0*z_r2_1 + 1.0*z_r2_2 <= -1.0), ParameterConstraint(-1.0*z_r2_2 + 1.0*z_r2_3 <= -1.0), ParameterConstraint(-1.0*x_s + 1.0*x_s_1 <= -0.1), ParameterConstraint(-1.0*x_s_1 + 1.0*x_s_2 <= -0.1), ParameterConstraint(-1.0*x_s_2 + 1.0*x_s_3 <= -0.1), ParameterConstraint(-1.0*x_r2 + 1.0*x_r2_1 <= -0.1), ParameterConstraint(-1.0*x_r2_1 + 1.0*x_r2_2 <= -0.1), ParameterConstraint(-1.0*x_r2_2 + 1.0*x_r2_3 <= -0.1)])\n",
      "[INFO 04-10 16:09:26] ax.service.ax_client: Generated new trial 6 with parameters {'z_sh': 11, 'z_sh_1': 10, 'z_sh_2': 8, 'z_sh_3': 6, 'z_r2': 83, 'z_r2_1': 79, 'z_r2_2': 78, 'z_r2_3': 74, 'x_s': 0.630323, 'x_s_1': 0.013411, 'x_s_2': -0.10958, 'x_s_3': -0.815011, 'x_r2': 0.862837, 'x_r2_1': 0.733356, 'x_r2_2': 0.212547, 'x_r2_3': -0.120198} using model Sobol.\n",
      "[INFO 04-10 16:09:26] ax.service.ax_client: Completed trial 6 with data: {'Cross_term_gear_ratio_product': (np.float64(12264.600527), None)}.\n",
      "[WARNING 04-10 16:09:29] ax.modelbridge.transforms.int_to_float: Unable to round {'z_sh': 12.411334226421268, 'z_sh_1': 9.308441341321785, 'z_sh_2': 7.8882990964321795, 'z_sh_3': 5.8546323418100545, 'z_r2': 86.47647639983307, 'z_r2_1': 82.67249428083319, 'z_r2_2': 74.06557630759481, 'z_r2_3': 69.89794683178454, 'x_s': 0.5328412843868136, 'x_s_1': 0.34223101716488613, 'x_s_2': 0.22189225545153024, 'x_s_3': -0.9919054321013391, 'x_r2': 0.9098168108612299, 'x_r2_1': -0.024228681251406647, 'x_r2_2': -0.2766695615835487, 'x_r2_3': -0.8064802000299096}to meet parameter constraints of SearchSpace(parameters=[RangeParameter(name='z_sh', parameter_type=INT, range=[9, 12]), RangeParameter(name='z_sh_1', parameter_type=INT, range=[8, 11]), RangeParameter(name='z_sh_2', parameter_type=INT, range=[7, 10]), RangeParameter(name='z_sh_3', parameter_type=INT, range=[6, 9]), RangeParameter(name='z_r2', parameter_type=INT, range=[73, 86]), RangeParameter(name='z_r2_1', parameter_type=INT, range=[72, 85]), RangeParameter(name='z_r2_2', parameter_type=INT, range=[71, 84]), RangeParameter(name='z_r2_3', parameter_type=INT, range=[70, 83]), RangeParameter(name='x_s', parameter_type=FLOAT, range=[0.0, 1.0]), RangeParameter(name='x_s_1', parameter_type=FLOAT, range=[0.0, 1.0]), RangeParameter(name='x_s_2', parameter_type=FLOAT, range=[0.0, 1.0]), RangeParameter(name='x_s_3', parameter_type=FLOAT, range=[0.0, 1.0]), RangeParameter(name='x_r2', parameter_type=FLOAT, range=[0.0, 1.0]), RangeParameter(name='x_r2_1', parameter_type=FLOAT, range=[0.0, 1.0]), RangeParameter(name='x_r2_2', parameter_type=FLOAT, range=[0.0, 1.0]), RangeParameter(name='x_r2_3', parameter_type=FLOAT, range=[0.0, 1.0])], parameter_constraints=[ParameterConstraint(-1.0*z_sh + 1.0*z_sh_1 <= -1.0), ParameterConstraint(-1.0*z_sh_1 + 1.0*z_sh_2 <= -1.0), ParameterConstraint(-1.0*z_sh_2 + 1.0*z_sh_3 <= -1.0), ParameterConstraint(-1.0*z_r2 + 1.0*z_r2_1 <= -1.0), ParameterConstraint(-1.0*z_r2_1 + 1.0*z_r2_2 <= -1.0), ParameterConstraint(-1.0*z_r2_2 + 1.0*z_r2_3 <= -1.0), ParameterConstraint(-1.0*x_s + 1.0*x_s_1 <= -0.1), ParameterConstraint(-1.0*x_s_1 + 1.0*x_s_2 <= -0.1), ParameterConstraint(-1.0*x_s_2 + 1.0*x_s_3 <= -0.1), ParameterConstraint(-1.0*x_r2 + 1.0*x_r2_1 <= -0.1), ParameterConstraint(-1.0*x_r2_1 + 1.0*x_r2_2 <= -0.1), ParameterConstraint(-1.0*x_r2_2 + 1.0*x_r2_3 <= -0.1)])\n",
      "[WARNING 04-10 16:09:29] ax.modelbridge.transforms.int_to_float: Unable to round {'z_sh': np.float64(12.0), 'z_sh_1': np.float64(9.0), 'z_sh_2': np.float64(8.0), 'z_sh_3': np.float64(6.0), 'z_r2': np.float64(86.0), 'z_r2_1': np.float64(83.0), 'z_r2_2': np.float64(74.0), 'z_r2_3': np.float64(70.0), 'x_s': np.float64(0.5328412843868136), 'x_s_1': np.float64(0.34223101716488613), 'x_s_2': np.float64(0.22189225545153024), 'x_s_3': np.float64(-0.9919054321013391), 'x_r2': np.float64(0.9098168108612299), 'x_r2_1': np.float64(-0.024228681251406647), 'x_r2_2': np.float64(-0.2766695615835487), 'x_r2_3': np.float64(-0.8064802000299096)}to meet parameter constraints of SearchSpace(parameters=[RangeParameter(name='z_sh', parameter_type=INT, range=[9, 12]), RangeParameter(name='z_sh_1', parameter_type=INT, range=[8, 11]), RangeParameter(name='z_sh_2', parameter_type=INT, range=[7, 10]), RangeParameter(name='z_sh_3', parameter_type=INT, range=[6, 9]), RangeParameter(name='z_r2', parameter_type=INT, range=[73, 86]), RangeParameter(name='z_r2_1', parameter_type=INT, range=[72, 85]), RangeParameter(name='z_r2_2', parameter_type=INT, range=[71, 84]), RangeParameter(name='z_r2_3', parameter_type=INT, range=[70, 83]), RangeParameter(name='x_s', parameter_type=FLOAT, range=[0.0, 1.0]), RangeParameter(name='x_s_1', parameter_type=FLOAT, range=[0.0, 1.0]), RangeParameter(name='x_s_2', parameter_type=FLOAT, range=[0.0, 1.0]), RangeParameter(name='x_s_3', parameter_type=FLOAT, range=[0.0, 1.0]), RangeParameter(name='x_r2', parameter_type=FLOAT, range=[0.0, 1.0]), RangeParameter(name='x_r2_1', parameter_type=FLOAT, range=[0.0, 1.0]), RangeParameter(name='x_r2_2', parameter_type=FLOAT, range=[0.0, 1.0]), RangeParameter(name='x_r2_3', parameter_type=FLOAT, range=[0.0, 1.0])], parameter_constraints=[ParameterConstraint(-1.0*z_sh + 1.0*z_sh_1 <= -1.0), ParameterConstraint(-1.0*z_sh_1 + 1.0*z_sh_2 <= -1.0), ParameterConstraint(-1.0*z_sh_2 + 1.0*z_sh_3 <= -1.0), ParameterConstraint(-1.0*z_r2 + 1.0*z_r2_1 <= -1.0), ParameterConstraint(-1.0*z_r2_1 + 1.0*z_r2_2 <= -1.0), ParameterConstraint(-1.0*z_r2_2 + 1.0*z_r2_3 <= -1.0), ParameterConstraint(-1.0*x_s + 1.0*x_s_1 <= -0.1), ParameterConstraint(-1.0*x_s_1 + 1.0*x_s_2 <= -0.1), ParameterConstraint(-1.0*x_s_2 + 1.0*x_s_3 <= -0.1), ParameterConstraint(-1.0*x_r2 + 1.0*x_r2_1 <= -0.1), ParameterConstraint(-1.0*x_r2_1 + 1.0*x_r2_2 <= -0.1), ParameterConstraint(-1.0*x_r2_2 + 1.0*x_r2_3 <= -0.1)])\n",
      "[INFO 04-10 16:09:29] ax.service.ax_client: Generated new trial 7 with parameters {'z_sh': 12, 'z_sh_1': 9, 'z_sh_2': 8, 'z_sh_3': 6, 'z_r2': 86, 'z_r2_1': 83, 'z_r2_2': 74, 'z_r2_3': 70, 'x_s': 0.532841, 'x_s_1': 0.342231, 'x_s_2': 0.221892, 'x_s_3': -0.991905, 'x_r2': 0.909817, 'x_r2_1': -0.024229, 'x_r2_2': -0.27667, 'x_r2_3': -0.80648} using model Sobol.\n",
      "[INFO 04-10 16:09:29] ax.service.ax_client: Completed trial 7 with data: {'Cross_term_gear_ratio_product': (np.float64(10876.219603), None)}.\n",
      "[WARNING 04-10 16:09:55] ax.modelbridge.transforms.int_to_float: Unable to round {'z_sh': 12.107426410682518, 'z_sh_1': 10.28515421665676, 'z_sh_2': 8.202917388601321, 'z_sh_3': 7.162262209900673, 'z_r2': 84.30055956200704, 'z_r2_1': 80.86222197165958, 'z_r2_2': 78.16231223760789, 'z_r2_3': 70.94457698200772, 'x_s': 0.6815416327677668, 'x_s_1': 0.21655272459611297, 'x_s_2': 0.014679000433534428, 'x_s_3': -0.7410217680037021, 'x_r2': 0.9540793706662953, 'x_r2_1': 0.17394572962075483, 'x_r2_2': -0.14907895196229215, 'x_r2_3': -0.4991959327831864}to meet parameter constraints of SearchSpace(parameters=[RangeParameter(name='z_sh', parameter_type=INT, range=[9, 12]), RangeParameter(name='z_sh_1', parameter_type=INT, range=[8, 11]), RangeParameter(name='z_sh_2', parameter_type=INT, range=[7, 10]), RangeParameter(name='z_sh_3', parameter_type=INT, range=[6, 9]), RangeParameter(name='z_r2', parameter_type=INT, range=[73, 86]), RangeParameter(name='z_r2_1', parameter_type=INT, range=[72, 85]), RangeParameter(name='z_r2_2', parameter_type=INT, range=[71, 84]), RangeParameter(name='z_r2_3', parameter_type=INT, range=[70, 83]), RangeParameter(name='x_s', parameter_type=FLOAT, range=[0.0, 1.0]), RangeParameter(name='x_s_1', parameter_type=FLOAT, range=[0.0, 1.0]), RangeParameter(name='x_s_2', parameter_type=FLOAT, range=[0.0, 1.0]), RangeParameter(name='x_s_3', parameter_type=FLOAT, range=[0.0, 1.0]), RangeParameter(name='x_r2', parameter_type=FLOAT, range=[0.0, 1.0]), RangeParameter(name='x_r2_1', parameter_type=FLOAT, range=[0.0, 1.0]), RangeParameter(name='x_r2_2', parameter_type=FLOAT, range=[0.0, 1.0]), RangeParameter(name='x_r2_3', parameter_type=FLOAT, range=[0.0, 1.0])], parameter_constraints=[ParameterConstraint(-1.0*z_sh + 1.0*z_sh_1 <= -1.0), ParameterConstraint(-1.0*z_sh_1 + 1.0*z_sh_2 <= -1.0), ParameterConstraint(-1.0*z_sh_2 + 1.0*z_sh_3 <= -1.0), ParameterConstraint(-1.0*z_r2 + 1.0*z_r2_1 <= -1.0), ParameterConstraint(-1.0*z_r2_1 + 1.0*z_r2_2 <= -1.0), ParameterConstraint(-1.0*z_r2_2 + 1.0*z_r2_3 <= -1.0), ParameterConstraint(-1.0*x_s + 1.0*x_s_1 <= -0.1), ParameterConstraint(-1.0*x_s_1 + 1.0*x_s_2 <= -0.1), ParameterConstraint(-1.0*x_s_2 + 1.0*x_s_3 <= -0.1), ParameterConstraint(-1.0*x_r2 + 1.0*x_r2_1 <= -0.1), ParameterConstraint(-1.0*x_r2_1 + 1.0*x_r2_2 <= -0.1), ParameterConstraint(-1.0*x_r2_2 + 1.0*x_r2_3 <= -0.1)])\n",
      "[WARNING 04-10 16:09:55] ax.modelbridge.transforms.int_to_float: Unable to round {'z_sh': np.float64(12.0), 'z_sh_1': np.float64(10.0), 'z_sh_2': np.float64(8.0), 'z_sh_3': np.float64(7.0), 'z_r2': np.float64(84.0), 'z_r2_1': np.float64(81.0), 'z_r2_2': np.float64(78.0), 'z_r2_3': np.float64(71.0), 'x_s': np.float64(0.6815416327677668), 'x_s_1': np.float64(0.21655272459611297), 'x_s_2': np.float64(0.014679000433534428), 'x_s_3': np.float64(-0.7410217680037021), 'x_r2': np.float64(0.9540793706662953), 'x_r2_1': np.float64(0.17394572962075483), 'x_r2_2': np.float64(-0.14907895196229215), 'x_r2_3': np.float64(-0.4991959327831864)}to meet parameter constraints of SearchSpace(parameters=[RangeParameter(name='z_sh', parameter_type=INT, range=[9, 12]), RangeParameter(name='z_sh_1', parameter_type=INT, range=[8, 11]), RangeParameter(name='z_sh_2', parameter_type=INT, range=[7, 10]), RangeParameter(name='z_sh_3', parameter_type=INT, range=[6, 9]), RangeParameter(name='z_r2', parameter_type=INT, range=[73, 86]), RangeParameter(name='z_r2_1', parameter_type=INT, range=[72, 85]), RangeParameter(name='z_r2_2', parameter_type=INT, range=[71, 84]), RangeParameter(name='z_r2_3', parameter_type=INT, range=[70, 83]), RangeParameter(name='x_s', parameter_type=FLOAT, range=[0.0, 1.0]), RangeParameter(name='x_s_1', parameter_type=FLOAT, range=[0.0, 1.0]), RangeParameter(name='x_s_2', parameter_type=FLOAT, range=[0.0, 1.0]), RangeParameter(name='x_s_3', parameter_type=FLOAT, range=[0.0, 1.0]), RangeParameter(name='x_r2', parameter_type=FLOAT, range=[0.0, 1.0]), RangeParameter(name='x_r2_1', parameter_type=FLOAT, range=[0.0, 1.0]), RangeParameter(name='x_r2_2', parameter_type=FLOAT, range=[0.0, 1.0]), RangeParameter(name='x_r2_3', parameter_type=FLOAT, range=[0.0, 1.0])], parameter_constraints=[ParameterConstraint(-1.0*z_sh + 1.0*z_sh_1 <= -1.0), ParameterConstraint(-1.0*z_sh_1 + 1.0*z_sh_2 <= -1.0), ParameterConstraint(-1.0*z_sh_2 + 1.0*z_sh_3 <= -1.0), ParameterConstraint(-1.0*z_r2 + 1.0*z_r2_1 <= -1.0), ParameterConstraint(-1.0*z_r2_1 + 1.0*z_r2_2 <= -1.0), ParameterConstraint(-1.0*z_r2_2 + 1.0*z_r2_3 <= -1.0), ParameterConstraint(-1.0*x_s + 1.0*x_s_1 <= -0.1), ParameterConstraint(-1.0*x_s_1 + 1.0*x_s_2 <= -0.1), ParameterConstraint(-1.0*x_s_2 + 1.0*x_s_3 <= -0.1), ParameterConstraint(-1.0*x_r2 + 1.0*x_r2_1 <= -0.1), ParameterConstraint(-1.0*x_r2_1 + 1.0*x_r2_2 <= -0.1), ParameterConstraint(-1.0*x_r2_2 + 1.0*x_r2_3 <= -0.1)])\n",
      "[INFO 04-10 16:09:55] ax.service.ax_client: Generated new trial 8 with parameters {'z_sh': 12, 'z_sh_1': 10, 'z_sh_2': 8, 'z_sh_3': 7, 'z_r2': 84, 'z_r2_1': 81, 'z_r2_2': 78, 'z_r2_3': 71, 'x_s': 0.681542, 'x_s_1': 0.216553, 'x_s_2': 0.014679, 'x_s_3': -0.741022, 'x_r2': 0.954079, 'x_r2_1': 0.173946, 'x_r2_2': -0.149079, 'x_r2_3': -0.499196} using model Sobol.\n",
      "[INFO 04-10 16:09:55] ax.service.ax_client: Completed trial 8 with data: {'Cross_term_gear_ratio_product': (np.float64(10255.645631), None)}.\n",
      "[WARNING 04-10 16:10:01] ax.modelbridge.transforms.int_to_float: Unable to round {'z_sh': 11.374465679027756, 'z_sh_1': 9.615358584253322, 'z_sh_2': 8.300628127879406, 'z_sh_3': 7.165157789065894, 'z_r2': 85.84880686313286, 'z_r2_1': 75.20480967551035, 'z_r2_2': 73.43908474698235, 'z_r2_3': 71.99740279151106, 'x_s': 0.8963349601253867, 'x_s_1': 0.6470111443661155, 'x_s_2': 0.4908393031917514, 'x_s_3': -0.03362464215606453, 'x_r2': 0.34154700282961126, 'x_r2_1': 0.17131760539487007, 'x_r2_2': 0.03543741004541523, 'x_r2_3': -0.9938425570726395}to meet parameter constraints of SearchSpace(parameters=[RangeParameter(name='z_sh', parameter_type=INT, range=[9, 12]), RangeParameter(name='z_sh_1', parameter_type=INT, range=[8, 11]), RangeParameter(name='z_sh_2', parameter_type=INT, range=[7, 10]), RangeParameter(name='z_sh_3', parameter_type=INT, range=[6, 9]), RangeParameter(name='z_r2', parameter_type=INT, range=[73, 86]), RangeParameter(name='z_r2_1', parameter_type=INT, range=[72, 85]), RangeParameter(name='z_r2_2', parameter_type=INT, range=[71, 84]), RangeParameter(name='z_r2_3', parameter_type=INT, range=[70, 83]), RangeParameter(name='x_s', parameter_type=FLOAT, range=[0.0, 1.0]), RangeParameter(name='x_s_1', parameter_type=FLOAT, range=[0.0, 1.0]), RangeParameter(name='x_s_2', parameter_type=FLOAT, range=[0.0, 1.0]), RangeParameter(name='x_s_3', parameter_type=FLOAT, range=[0.0, 1.0]), RangeParameter(name='x_r2', parameter_type=FLOAT, range=[0.0, 1.0]), RangeParameter(name='x_r2_1', parameter_type=FLOAT, range=[0.0, 1.0]), RangeParameter(name='x_r2_2', parameter_type=FLOAT, range=[0.0, 1.0]), RangeParameter(name='x_r2_3', parameter_type=FLOAT, range=[0.0, 1.0])], parameter_constraints=[ParameterConstraint(-1.0*z_sh + 1.0*z_sh_1 <= -1.0), ParameterConstraint(-1.0*z_sh_1 + 1.0*z_sh_2 <= -1.0), ParameterConstraint(-1.0*z_sh_2 + 1.0*z_sh_3 <= -1.0), ParameterConstraint(-1.0*z_r2 + 1.0*z_r2_1 <= -1.0), ParameterConstraint(-1.0*z_r2_1 + 1.0*z_r2_2 <= -1.0), ParameterConstraint(-1.0*z_r2_2 + 1.0*z_r2_3 <= -1.0), ParameterConstraint(-1.0*x_s + 1.0*x_s_1 <= -0.1), ParameterConstraint(-1.0*x_s_1 + 1.0*x_s_2 <= -0.1), ParameterConstraint(-1.0*x_s_2 + 1.0*x_s_3 <= -0.1), ParameterConstraint(-1.0*x_r2 + 1.0*x_r2_1 <= -0.1), ParameterConstraint(-1.0*x_r2_1 + 1.0*x_r2_2 <= -0.1), ParameterConstraint(-1.0*x_r2_2 + 1.0*x_r2_3 <= -0.1)])\n",
      "[WARNING 04-10 16:10:01] ax.modelbridge.transforms.int_to_float: Unable to round {'z_sh': np.float64(11.0), 'z_sh_1': np.float64(10.0), 'z_sh_2': np.float64(8.0), 'z_sh_3': np.float64(7.0), 'z_r2': np.float64(86.0), 'z_r2_1': np.float64(75.0), 'z_r2_2': np.float64(73.0), 'z_r2_3': np.float64(72.0), 'x_s': np.float64(0.8963349601253867), 'x_s_1': np.float64(0.6470111443661155), 'x_s_2': np.float64(0.4908393031917514), 'x_s_3': np.float64(-0.03362464215606453), 'x_r2': np.float64(0.34154700282961126), 'x_r2_1': np.float64(0.17131760539487007), 'x_r2_2': np.float64(0.03543741004541523), 'x_r2_3': np.float64(-0.9938425570726395)}to meet parameter constraints of SearchSpace(parameters=[RangeParameter(name='z_sh', parameter_type=INT, range=[9, 12]), RangeParameter(name='z_sh_1', parameter_type=INT, range=[8, 11]), RangeParameter(name='z_sh_2', parameter_type=INT, range=[7, 10]), RangeParameter(name='z_sh_3', parameter_type=INT, range=[6, 9]), RangeParameter(name='z_r2', parameter_type=INT, range=[73, 86]), RangeParameter(name='z_r2_1', parameter_type=INT, range=[72, 85]), RangeParameter(name='z_r2_2', parameter_type=INT, range=[71, 84]), RangeParameter(name='z_r2_3', parameter_type=INT, range=[70, 83]), RangeParameter(name='x_s', parameter_type=FLOAT, range=[0.0, 1.0]), RangeParameter(name='x_s_1', parameter_type=FLOAT, range=[0.0, 1.0]), RangeParameter(name='x_s_2', parameter_type=FLOAT, range=[0.0, 1.0]), RangeParameter(name='x_s_3', parameter_type=FLOAT, range=[0.0, 1.0]), RangeParameter(name='x_r2', parameter_type=FLOAT, range=[0.0, 1.0]), RangeParameter(name='x_r2_1', parameter_type=FLOAT, range=[0.0, 1.0]), RangeParameter(name='x_r2_2', parameter_type=FLOAT, range=[0.0, 1.0]), RangeParameter(name='x_r2_3', parameter_type=FLOAT, range=[0.0, 1.0])], parameter_constraints=[ParameterConstraint(-1.0*z_sh + 1.0*z_sh_1 <= -1.0), ParameterConstraint(-1.0*z_sh_1 + 1.0*z_sh_2 <= -1.0), ParameterConstraint(-1.0*z_sh_2 + 1.0*z_sh_3 <= -1.0), ParameterConstraint(-1.0*z_r2 + 1.0*z_r2_1 <= -1.0), ParameterConstraint(-1.0*z_r2_1 + 1.0*z_r2_2 <= -1.0), ParameterConstraint(-1.0*z_r2_2 + 1.0*z_r2_3 <= -1.0), ParameterConstraint(-1.0*x_s + 1.0*x_s_1 <= -0.1), ParameterConstraint(-1.0*x_s_1 + 1.0*x_s_2 <= -0.1), ParameterConstraint(-1.0*x_s_2 + 1.0*x_s_3 <= -0.1), ParameterConstraint(-1.0*x_r2 + 1.0*x_r2_1 <= -0.1), ParameterConstraint(-1.0*x_r2_1 + 1.0*x_r2_2 <= -0.1), ParameterConstraint(-1.0*x_r2_2 + 1.0*x_r2_3 <= -0.1)])\n",
      "[INFO 04-10 16:10:01] ax.service.ax_client: Generated new trial 9 with parameters {'z_sh': 11, 'z_sh_1': 10, 'z_sh_2': 8, 'z_sh_3': 7, 'z_r2': 86, 'z_r2_1': 75, 'z_r2_2': 73, 'z_r2_3': 72, 'x_s': 0.896335, 'x_s_1': 0.647011, 'x_s_2': 0.490839, 'x_s_3': -0.033625, 'x_r2': 0.341547, 'x_r2_1': 0.171318, 'x_r2_2': 0.035437, 'x_r2_3': -0.993843} using model Sobol.\n",
      "[INFO 04-10 16:10:01] ax.service.ax_client: Completed trial 9 with data: {'Cross_term_gear_ratio_product': (np.float64(17678.739456), None)}.\n",
      "[WARNING 04-10 16:10:03] ax.modelbridge.transforms.int_to_float: Unable to round {'z_sh': 11.963858746857289, 'z_sh_1': 9.162032897077632, 'z_sh_2': 7.858601755926218, 'z_sh_3': 6.41573192658741, 'z_r2': 85.4101285863118, 'z_r2_1': 79.27498261373432, 'z_r2_2': 75.33326601944361, 'z_r2_3': 72.16237005924187, 'x_s': 0.6984973695129155, 'x_s_1': 0.459607166890055, 'x_s_2': 0.22916541667655121, 'x_s_3': -0.5304960565641523, 'x_r2': 0.22196713127195833, 'x_r2_1': 0.11712438296526673, 'x_r2_2': -0.15160242980346073, 'x_r2_3': -0.5049401035532355}to meet parameter constraints of SearchSpace(parameters=[RangeParameter(name='z_sh', parameter_type=INT, range=[9, 12]), RangeParameter(name='z_sh_1', parameter_type=INT, range=[8, 11]), RangeParameter(name='z_sh_2', parameter_type=INT, range=[7, 10]), RangeParameter(name='z_sh_3', parameter_type=INT, range=[6, 9]), RangeParameter(name='z_r2', parameter_type=INT, range=[73, 86]), RangeParameter(name='z_r2_1', parameter_type=INT, range=[72, 85]), RangeParameter(name='z_r2_2', parameter_type=INT, range=[71, 84]), RangeParameter(name='z_r2_3', parameter_type=INT, range=[70, 83]), RangeParameter(name='x_s', parameter_type=FLOAT, range=[0.0, 1.0]), RangeParameter(name='x_s_1', parameter_type=FLOAT, range=[0.0, 1.0]), RangeParameter(name='x_s_2', parameter_type=FLOAT, range=[0.0, 1.0]), RangeParameter(name='x_s_3', parameter_type=FLOAT, range=[0.0, 1.0]), RangeParameter(name='x_r2', parameter_type=FLOAT, range=[0.0, 1.0]), RangeParameter(name='x_r2_1', parameter_type=FLOAT, range=[0.0, 1.0]), RangeParameter(name='x_r2_2', parameter_type=FLOAT, range=[0.0, 1.0]), RangeParameter(name='x_r2_3', parameter_type=FLOAT, range=[0.0, 1.0])], parameter_constraints=[ParameterConstraint(-1.0*z_sh + 1.0*z_sh_1 <= -1.0), ParameterConstraint(-1.0*z_sh_1 + 1.0*z_sh_2 <= -1.0), ParameterConstraint(-1.0*z_sh_2 + 1.0*z_sh_3 <= -1.0), ParameterConstraint(-1.0*z_r2 + 1.0*z_r2_1 <= -1.0), ParameterConstraint(-1.0*z_r2_1 + 1.0*z_r2_2 <= -1.0), ParameterConstraint(-1.0*z_r2_2 + 1.0*z_r2_3 <= -1.0), ParameterConstraint(-1.0*x_s + 1.0*x_s_1 <= -0.1), ParameterConstraint(-1.0*x_s_1 + 1.0*x_s_2 <= -0.1), ParameterConstraint(-1.0*x_s_2 + 1.0*x_s_3 <= -0.1), ParameterConstraint(-1.0*x_r2 + 1.0*x_r2_1 <= -0.1), ParameterConstraint(-1.0*x_r2_1 + 1.0*x_r2_2 <= -0.1), ParameterConstraint(-1.0*x_r2_2 + 1.0*x_r2_3 <= -0.1)])\n",
      "[WARNING 04-10 16:10:03] ax.modelbridge.transforms.int_to_float: Unable to round {'z_sh': np.float64(12.0), 'z_sh_1': np.float64(9.0), 'z_sh_2': np.float64(8.0), 'z_sh_3': np.float64(6.0), 'z_r2': np.float64(85.0), 'z_r2_1': np.float64(79.0), 'z_r2_2': np.float64(75.0), 'z_r2_3': np.float64(72.0), 'x_s': np.float64(0.6984973695129155), 'x_s_1': np.float64(0.459607166890055), 'x_s_2': np.float64(0.22916541667655121), 'x_s_3': np.float64(-0.5304960565641523), 'x_r2': np.float64(0.22196713127195833), 'x_r2_1': np.float64(0.11712438296526673), 'x_r2_2': np.float64(-0.15160242980346073), 'x_r2_3': np.float64(-0.5049401035532355)}to meet parameter constraints of SearchSpace(parameters=[RangeParameter(name='z_sh', parameter_type=INT, range=[9, 12]), RangeParameter(name='z_sh_1', parameter_type=INT, range=[8, 11]), RangeParameter(name='z_sh_2', parameter_type=INT, range=[7, 10]), RangeParameter(name='z_sh_3', parameter_type=INT, range=[6, 9]), RangeParameter(name='z_r2', parameter_type=INT, range=[73, 86]), RangeParameter(name='z_r2_1', parameter_type=INT, range=[72, 85]), RangeParameter(name='z_r2_2', parameter_type=INT, range=[71, 84]), RangeParameter(name='z_r2_3', parameter_type=INT, range=[70, 83]), RangeParameter(name='x_s', parameter_type=FLOAT, range=[0.0, 1.0]), RangeParameter(name='x_s_1', parameter_type=FLOAT, range=[0.0, 1.0]), RangeParameter(name='x_s_2', parameter_type=FLOAT, range=[0.0, 1.0]), RangeParameter(name='x_s_3', parameter_type=FLOAT, range=[0.0, 1.0]), RangeParameter(name='x_r2', parameter_type=FLOAT, range=[0.0, 1.0]), RangeParameter(name='x_r2_1', parameter_type=FLOAT, range=[0.0, 1.0]), RangeParameter(name='x_r2_2', parameter_type=FLOAT, range=[0.0, 1.0]), RangeParameter(name='x_r2_3', parameter_type=FLOAT, range=[0.0, 1.0])], parameter_constraints=[ParameterConstraint(-1.0*z_sh + 1.0*z_sh_1 <= -1.0), ParameterConstraint(-1.0*z_sh_1 + 1.0*z_sh_2 <= -1.0), ParameterConstraint(-1.0*z_sh_2 + 1.0*z_sh_3 <= -1.0), ParameterConstraint(-1.0*z_r2 + 1.0*z_r2_1 <= -1.0), ParameterConstraint(-1.0*z_r2_1 + 1.0*z_r2_2 <= -1.0), ParameterConstraint(-1.0*z_r2_2 + 1.0*z_r2_3 <= -1.0), ParameterConstraint(-1.0*x_s + 1.0*x_s_1 <= -0.1), ParameterConstraint(-1.0*x_s_1 + 1.0*x_s_2 <= -0.1), ParameterConstraint(-1.0*x_s_2 + 1.0*x_s_3 <= -0.1), ParameterConstraint(-1.0*x_r2 + 1.0*x_r2_1 <= -0.1), ParameterConstraint(-1.0*x_r2_1 + 1.0*x_r2_2 <= -0.1), ParameterConstraint(-1.0*x_r2_2 + 1.0*x_r2_3 <= -0.1)])\n",
      "[INFO 04-10 16:10:03] ax.service.ax_client: Generated new trial 10 with parameters {'z_sh': 12, 'z_sh_1': 9, 'z_sh_2': 8, 'z_sh_3': 6, 'z_r2': 85, 'z_r2_1': 79, 'z_r2_2': 75, 'z_r2_3': 72, 'x_s': 0.698497, 'x_s_1': 0.459607, 'x_s_2': 0.229165, 'x_s_3': -0.530496, 'x_r2': 0.221967, 'x_r2_1': 0.117124, 'x_r2_2': -0.151602, 'x_r2_3': -0.50494} using model Sobol.\n",
      "[INFO 04-10 16:10:03] ax.service.ax_client: Completed trial 10 with data: {'Cross_term_gear_ratio_product': (np.float64(18487.182132), None)}.\n",
      "[WARNING 04-10 16:10:04] ax.modelbridge.transforms.int_to_float: Unable to round {'z_sh': 12.37014606565196, 'z_sh_1': 10.89640517073622, 'z_sh_2': 9.71178078490209, 'z_sh_3': 8.25775588658519, 'z_r2': 80.27342001501124, 'z_r2_1': 76.54958805607083, 'z_r2_2': 73.33725255664228, 'z_r2_3': 71.63207032625584, 'x_s': 0.9753758741542697, 'x_s_1': 0.44765136176720266, 'x_s_2': 0.2087370526045561, 'x_s_3': -0.44598651872947814, 'x_r2': 0.37078117905184627, 'x_r2_1': -0.30446377219632265, 'x_r2_2': -0.6017838796600699, 'x_r2_3': -0.8005236396566033}to meet parameter constraints of SearchSpace(parameters=[RangeParameter(name='z_sh', parameter_type=INT, range=[9, 12]), RangeParameter(name='z_sh_1', parameter_type=INT, range=[8, 11]), RangeParameter(name='z_sh_2', parameter_type=INT, range=[7, 10]), RangeParameter(name='z_sh_3', parameter_type=INT, range=[6, 9]), RangeParameter(name='z_r2', parameter_type=INT, range=[73, 86]), RangeParameter(name='z_r2_1', parameter_type=INT, range=[72, 85]), RangeParameter(name='z_r2_2', parameter_type=INT, range=[71, 84]), RangeParameter(name='z_r2_3', parameter_type=INT, range=[70, 83]), RangeParameter(name='x_s', parameter_type=FLOAT, range=[0.0, 1.0]), RangeParameter(name='x_s_1', parameter_type=FLOAT, range=[0.0, 1.0]), RangeParameter(name='x_s_2', parameter_type=FLOAT, range=[0.0, 1.0]), RangeParameter(name='x_s_3', parameter_type=FLOAT, range=[0.0, 1.0]), RangeParameter(name='x_r2', parameter_type=FLOAT, range=[0.0, 1.0]), RangeParameter(name='x_r2_1', parameter_type=FLOAT, range=[0.0, 1.0]), RangeParameter(name='x_r2_2', parameter_type=FLOAT, range=[0.0, 1.0]), RangeParameter(name='x_r2_3', parameter_type=FLOAT, range=[0.0, 1.0])], parameter_constraints=[ParameterConstraint(-1.0*z_sh + 1.0*z_sh_1 <= -1.0), ParameterConstraint(-1.0*z_sh_1 + 1.0*z_sh_2 <= -1.0), ParameterConstraint(-1.0*z_sh_2 + 1.0*z_sh_3 <= -1.0), ParameterConstraint(-1.0*z_r2 + 1.0*z_r2_1 <= -1.0), ParameterConstraint(-1.0*z_r2_1 + 1.0*z_r2_2 <= -1.0), ParameterConstraint(-1.0*z_r2_2 + 1.0*z_r2_3 <= -1.0), ParameterConstraint(-1.0*x_s + 1.0*x_s_1 <= -0.1), ParameterConstraint(-1.0*x_s_1 + 1.0*x_s_2 <= -0.1), ParameterConstraint(-1.0*x_s_2 + 1.0*x_s_3 <= -0.1), ParameterConstraint(-1.0*x_r2 + 1.0*x_r2_1 <= -0.1), ParameterConstraint(-1.0*x_r2_1 + 1.0*x_r2_2 <= -0.1), ParameterConstraint(-1.0*x_r2_2 + 1.0*x_r2_3 <= -0.1)])\n",
      "[WARNING 04-10 16:10:04] ax.modelbridge.transforms.int_to_float: Unable to round {'z_sh': np.float64(12.0), 'z_sh_1': np.float64(11.0), 'z_sh_2': np.float64(10.0), 'z_sh_3': np.float64(8.0), 'z_r2': np.float64(80.0), 'z_r2_1': np.float64(77.0), 'z_r2_2': np.float64(73.0), 'z_r2_3': np.float64(72.0), 'x_s': np.float64(0.9753758741542697), 'x_s_1': np.float64(0.44765136176720266), 'x_s_2': np.float64(0.2087370526045561), 'x_s_3': np.float64(-0.44598651872947814), 'x_r2': np.float64(0.37078117905184627), 'x_r2_1': np.float64(-0.30446377219632265), 'x_r2_2': np.float64(-0.6017838796600699), 'x_r2_3': np.float64(-0.8005236396566033)}to meet parameter constraints of SearchSpace(parameters=[RangeParameter(name='z_sh', parameter_type=INT, range=[9, 12]), RangeParameter(name='z_sh_1', parameter_type=INT, range=[8, 11]), RangeParameter(name='z_sh_2', parameter_type=INT, range=[7, 10]), RangeParameter(name='z_sh_3', parameter_type=INT, range=[6, 9]), RangeParameter(name='z_r2', parameter_type=INT, range=[73, 86]), RangeParameter(name='z_r2_1', parameter_type=INT, range=[72, 85]), RangeParameter(name='z_r2_2', parameter_type=INT, range=[71, 84]), RangeParameter(name='z_r2_3', parameter_type=INT, range=[70, 83]), RangeParameter(name='x_s', parameter_type=FLOAT, range=[0.0, 1.0]), RangeParameter(name='x_s_1', parameter_type=FLOAT, range=[0.0, 1.0]), RangeParameter(name='x_s_2', parameter_type=FLOAT, range=[0.0, 1.0]), RangeParameter(name='x_s_3', parameter_type=FLOAT, range=[0.0, 1.0]), RangeParameter(name='x_r2', parameter_type=FLOAT, range=[0.0, 1.0]), RangeParameter(name='x_r2_1', parameter_type=FLOAT, range=[0.0, 1.0]), RangeParameter(name='x_r2_2', parameter_type=FLOAT, range=[0.0, 1.0]), RangeParameter(name='x_r2_3', parameter_type=FLOAT, range=[0.0, 1.0])], parameter_constraints=[ParameterConstraint(-1.0*z_sh + 1.0*z_sh_1 <= -1.0), ParameterConstraint(-1.0*z_sh_1 + 1.0*z_sh_2 <= -1.0), ParameterConstraint(-1.0*z_sh_2 + 1.0*z_sh_3 <= -1.0), ParameterConstraint(-1.0*z_r2 + 1.0*z_r2_1 <= -1.0), ParameterConstraint(-1.0*z_r2_1 + 1.0*z_r2_2 <= -1.0), ParameterConstraint(-1.0*z_r2_2 + 1.0*z_r2_3 <= -1.0), ParameterConstraint(-1.0*x_s + 1.0*x_s_1 <= -0.1), ParameterConstraint(-1.0*x_s_1 + 1.0*x_s_2 <= -0.1), ParameterConstraint(-1.0*x_s_2 + 1.0*x_s_3 <= -0.1), ParameterConstraint(-1.0*x_r2 + 1.0*x_r2_1 <= -0.1), ParameterConstraint(-1.0*x_r2_1 + 1.0*x_r2_2 <= -0.1), ParameterConstraint(-1.0*x_r2_2 + 1.0*x_r2_3 <= -0.1)])\n",
      "[INFO 04-10 16:10:04] ax.service.ax_client: Generated new trial 11 with parameters {'z_sh': 12, 'z_sh_1': 11, 'z_sh_2': 10, 'z_sh_3': 8, 'z_r2': 80, 'z_r2_1': 77, 'z_r2_2': 73, 'z_r2_3': 72, 'x_s': 0.975376, 'x_s_1': 0.447651, 'x_s_2': 0.208737, 'x_s_3': -0.445987, 'x_r2': 0.370781, 'x_r2_1': -0.304464, 'x_r2_2': -0.601784, 'x_r2_3': -0.800524} using model Sobol.\n",
      "[INFO 04-10 16:10:04] ax.service.ax_client: Completed trial 11 with data: {'Cross_term_gear_ratio_product': (np.float64(16244.563498), None)}.\n",
      "[WARNING 04-10 16:10:06] ax.modelbridge.transforms.int_to_float: Unable to round {'z_sh': 11.918377247738707, 'z_sh_1': 9.623352190251145, 'z_sh_2': 8.095838481408059, 'z_sh_3': 6.673825446062758, 'z_r2': 86.18599783090906, 'z_r2_1': 81.17119669225106, 'z_r2_2': 79.5497112105683, 'z_r2_3': 70.23430598254095, 'x_s': 0.8066095625050367, 'x_s_1': 0.033734985440969534, 'x_s_2': -0.36027444237843154, 'x_s_3': -0.5061966739594936, 'x_r2': 0.8714935508556665, 'x_r2_1': 0.7217983338981868, 'x_r2_2': -0.04877550778910511, 'x_r2_3': -0.5079346484504641}to meet parameter constraints of SearchSpace(parameters=[RangeParameter(name='z_sh', parameter_type=INT, range=[9, 12]), RangeParameter(name='z_sh_1', parameter_type=INT, range=[8, 11]), RangeParameter(name='z_sh_2', parameter_type=INT, range=[7, 10]), RangeParameter(name='z_sh_3', parameter_type=INT, range=[6, 9]), RangeParameter(name='z_r2', parameter_type=INT, range=[73, 86]), RangeParameter(name='z_r2_1', parameter_type=INT, range=[72, 85]), RangeParameter(name='z_r2_2', parameter_type=INT, range=[71, 84]), RangeParameter(name='z_r2_3', parameter_type=INT, range=[70, 83]), RangeParameter(name='x_s', parameter_type=FLOAT, range=[0.0, 1.0]), RangeParameter(name='x_s_1', parameter_type=FLOAT, range=[0.0, 1.0]), RangeParameter(name='x_s_2', parameter_type=FLOAT, range=[0.0, 1.0]), RangeParameter(name='x_s_3', parameter_type=FLOAT, range=[0.0, 1.0]), RangeParameter(name='x_r2', parameter_type=FLOAT, range=[0.0, 1.0]), RangeParameter(name='x_r2_1', parameter_type=FLOAT, range=[0.0, 1.0]), RangeParameter(name='x_r2_2', parameter_type=FLOAT, range=[0.0, 1.0]), RangeParameter(name='x_r2_3', parameter_type=FLOAT, range=[0.0, 1.0])], parameter_constraints=[ParameterConstraint(-1.0*z_sh + 1.0*z_sh_1 <= -1.0), ParameterConstraint(-1.0*z_sh_1 + 1.0*z_sh_2 <= -1.0), ParameterConstraint(-1.0*z_sh_2 + 1.0*z_sh_3 <= -1.0), ParameterConstraint(-1.0*z_r2 + 1.0*z_r2_1 <= -1.0), ParameterConstraint(-1.0*z_r2_1 + 1.0*z_r2_2 <= -1.0), ParameterConstraint(-1.0*z_r2_2 + 1.0*z_r2_3 <= -1.0), ParameterConstraint(-1.0*x_s + 1.0*x_s_1 <= -0.1), ParameterConstraint(-1.0*x_s_1 + 1.0*x_s_2 <= -0.1), ParameterConstraint(-1.0*x_s_2 + 1.0*x_s_3 <= -0.1), ParameterConstraint(-1.0*x_r2 + 1.0*x_r2_1 <= -0.1), ParameterConstraint(-1.0*x_r2_1 + 1.0*x_r2_2 <= -0.1), ParameterConstraint(-1.0*x_r2_2 + 1.0*x_r2_3 <= -0.1)])\n",
      "[WARNING 04-10 16:10:06] ax.modelbridge.transforms.int_to_float: Unable to round {'z_sh': np.float64(12.0), 'z_sh_1': np.float64(10.0), 'z_sh_2': np.float64(8.0), 'z_sh_3': np.float64(7.0), 'z_r2': np.float64(86.0), 'z_r2_1': np.float64(81.0), 'z_r2_2': np.float64(80.0), 'z_r2_3': np.float64(70.0), 'x_s': np.float64(0.8066095625050367), 'x_s_1': np.float64(0.033734985440969534), 'x_s_2': np.float64(-0.36027444237843154), 'x_s_3': np.float64(-0.5061966739594936), 'x_r2': np.float64(0.8714935508556665), 'x_r2_1': np.float64(0.7217983338981868), 'x_r2_2': np.float64(-0.04877550778910511), 'x_r2_3': np.float64(-0.5079346484504641)}to meet parameter constraints of SearchSpace(parameters=[RangeParameter(name='z_sh', parameter_type=INT, range=[9, 12]), RangeParameter(name='z_sh_1', parameter_type=INT, range=[8, 11]), RangeParameter(name='z_sh_2', parameter_type=INT, range=[7, 10]), RangeParameter(name='z_sh_3', parameter_type=INT, range=[6, 9]), RangeParameter(name='z_r2', parameter_type=INT, range=[73, 86]), RangeParameter(name='z_r2_1', parameter_type=INT, range=[72, 85]), RangeParameter(name='z_r2_2', parameter_type=INT, range=[71, 84]), RangeParameter(name='z_r2_3', parameter_type=INT, range=[70, 83]), RangeParameter(name='x_s', parameter_type=FLOAT, range=[0.0, 1.0]), RangeParameter(name='x_s_1', parameter_type=FLOAT, range=[0.0, 1.0]), RangeParameter(name='x_s_2', parameter_type=FLOAT, range=[0.0, 1.0]), RangeParameter(name='x_s_3', parameter_type=FLOAT, range=[0.0, 1.0]), RangeParameter(name='x_r2', parameter_type=FLOAT, range=[0.0, 1.0]), RangeParameter(name='x_r2_1', parameter_type=FLOAT, range=[0.0, 1.0]), RangeParameter(name='x_r2_2', parameter_type=FLOAT, range=[0.0, 1.0]), RangeParameter(name='x_r2_3', parameter_type=FLOAT, range=[0.0, 1.0])], parameter_constraints=[ParameterConstraint(-1.0*z_sh + 1.0*z_sh_1 <= -1.0), ParameterConstraint(-1.0*z_sh_1 + 1.0*z_sh_2 <= -1.0), ParameterConstraint(-1.0*z_sh_2 + 1.0*z_sh_3 <= -1.0), ParameterConstraint(-1.0*z_r2 + 1.0*z_r2_1 <= -1.0), ParameterConstraint(-1.0*z_r2_1 + 1.0*z_r2_2 <= -1.0), ParameterConstraint(-1.0*z_r2_2 + 1.0*z_r2_3 <= -1.0), ParameterConstraint(-1.0*x_s + 1.0*x_s_1 <= -0.1), ParameterConstraint(-1.0*x_s_1 + 1.0*x_s_2 <= -0.1), ParameterConstraint(-1.0*x_s_2 + 1.0*x_s_3 <= -0.1), ParameterConstraint(-1.0*x_r2 + 1.0*x_r2_1 <= -0.1), ParameterConstraint(-1.0*x_r2_1 + 1.0*x_r2_2 <= -0.1), ParameterConstraint(-1.0*x_r2_2 + 1.0*x_r2_3 <= -0.1)])\n",
      "[INFO 04-10 16:10:06] ax.service.ax_client: Generated new trial 12 with parameters {'z_sh': 12, 'z_sh_1': 10, 'z_sh_2': 8, 'z_sh_3': 7, 'z_r2': 86, 'z_r2_1': 81, 'z_r2_2': 80, 'z_r2_3': 70, 'x_s': 0.80661, 'x_s_1': 0.033735, 'x_s_2': -0.360274, 'x_s_3': -0.506197, 'x_r2': 0.871494, 'x_r2_1': 0.721798, 'x_r2_2': -0.048776, 'x_r2_3': -0.507935} using model Sobol.\n",
      "[INFO 04-10 16:10:06] ax.service.ax_client: Completed trial 12 with data: {'Cross_term_gear_ratio_product': (np.float64(7043.043222), None)}.\n",
      "[WARNING 04-10 16:10:11] ax.modelbridge.transforms.int_to_float: Unable to round {'z_sh': 11.661639779305775, 'z_sh_1': 9.94416123946717, 'z_sh_2': 8.321929186596703, 'z_sh_3': 6.446814561518412, 'z_r2': 85.25515638297033, 'z_r2_1': 77.50252078664712, 'z_r2_2': 74.26581740470081, 'z_r2_3': 71.61986681421233, 'x_s': 0.4582273845560849, 'x_s_1': -0.3049280154518783, 'x_s_2': -0.7771529845893383, 'x_s_3': -0.9099856389686465, 'x_r2': 0.8085932001471519, 'x_r2_1': 0.12868909090757374, 'x_r2_2': -0.03268938288092604, 'x_r2_3': -0.9168332071974874}to meet parameter constraints of SearchSpace(parameters=[RangeParameter(name='z_sh', parameter_type=INT, range=[9, 12]), RangeParameter(name='z_sh_1', parameter_type=INT, range=[8, 11]), RangeParameter(name='z_sh_2', parameter_type=INT, range=[7, 10]), RangeParameter(name='z_sh_3', parameter_type=INT, range=[6, 9]), RangeParameter(name='z_r2', parameter_type=INT, range=[73, 86]), RangeParameter(name='z_r2_1', parameter_type=INT, range=[72, 85]), RangeParameter(name='z_r2_2', parameter_type=INT, range=[71, 84]), RangeParameter(name='z_r2_3', parameter_type=INT, range=[70, 83]), RangeParameter(name='x_s', parameter_type=FLOAT, range=[0.0, 1.0]), RangeParameter(name='x_s_1', parameter_type=FLOAT, range=[0.0, 1.0]), RangeParameter(name='x_s_2', parameter_type=FLOAT, range=[0.0, 1.0]), RangeParameter(name='x_s_3', parameter_type=FLOAT, range=[0.0, 1.0]), RangeParameter(name='x_r2', parameter_type=FLOAT, range=[0.0, 1.0]), RangeParameter(name='x_r2_1', parameter_type=FLOAT, range=[0.0, 1.0]), RangeParameter(name='x_r2_2', parameter_type=FLOAT, range=[0.0, 1.0]), RangeParameter(name='x_r2_3', parameter_type=FLOAT, range=[0.0, 1.0])], parameter_constraints=[ParameterConstraint(-1.0*z_sh + 1.0*z_sh_1 <= -1.0), ParameterConstraint(-1.0*z_sh_1 + 1.0*z_sh_2 <= -1.0), ParameterConstraint(-1.0*z_sh_2 + 1.0*z_sh_3 <= -1.0), ParameterConstraint(-1.0*z_r2 + 1.0*z_r2_1 <= -1.0), ParameterConstraint(-1.0*z_r2_1 + 1.0*z_r2_2 <= -1.0), ParameterConstraint(-1.0*z_r2_2 + 1.0*z_r2_3 <= -1.0), ParameterConstraint(-1.0*x_s + 1.0*x_s_1 <= -0.1), ParameterConstraint(-1.0*x_s_1 + 1.0*x_s_2 <= -0.1), ParameterConstraint(-1.0*x_s_2 + 1.0*x_s_3 <= -0.1), ParameterConstraint(-1.0*x_r2 + 1.0*x_r2_1 <= -0.1), ParameterConstraint(-1.0*x_r2_1 + 1.0*x_r2_2 <= -0.1), ParameterConstraint(-1.0*x_r2_2 + 1.0*x_r2_3 <= -0.1)])\n",
      "[WARNING 04-10 16:10:11] ax.modelbridge.transforms.int_to_float: Unable to round {'z_sh': np.float64(12.0), 'z_sh_1': np.float64(10.0), 'z_sh_2': np.float64(8.0), 'z_sh_3': np.float64(6.0), 'z_r2': np.float64(85.0), 'z_r2_1': np.float64(78.0), 'z_r2_2': np.float64(74.0), 'z_r2_3': np.float64(72.0), 'x_s': np.float64(0.4582273845560849), 'x_s_1': np.float64(-0.3049280154518783), 'x_s_2': np.float64(-0.7771529845893383), 'x_s_3': np.float64(-0.9099856389686465), 'x_r2': np.float64(0.8085932001471519), 'x_r2_1': np.float64(0.12868909090757374), 'x_r2_2': np.float64(-0.03268938288092604), 'x_r2_3': np.float64(-0.9168332071974874)}to meet parameter constraints of SearchSpace(parameters=[RangeParameter(name='z_sh', parameter_type=INT, range=[9, 12]), RangeParameter(name='z_sh_1', parameter_type=INT, range=[8, 11]), RangeParameter(name='z_sh_2', parameter_type=INT, range=[7, 10]), RangeParameter(name='z_sh_3', parameter_type=INT, range=[6, 9]), RangeParameter(name='z_r2', parameter_type=INT, range=[73, 86]), RangeParameter(name='z_r2_1', parameter_type=INT, range=[72, 85]), RangeParameter(name='z_r2_2', parameter_type=INT, range=[71, 84]), RangeParameter(name='z_r2_3', parameter_type=INT, range=[70, 83]), RangeParameter(name='x_s', parameter_type=FLOAT, range=[0.0, 1.0]), RangeParameter(name='x_s_1', parameter_type=FLOAT, range=[0.0, 1.0]), RangeParameter(name='x_s_2', parameter_type=FLOAT, range=[0.0, 1.0]), RangeParameter(name='x_s_3', parameter_type=FLOAT, range=[0.0, 1.0]), RangeParameter(name='x_r2', parameter_type=FLOAT, range=[0.0, 1.0]), RangeParameter(name='x_r2_1', parameter_type=FLOAT, range=[0.0, 1.0]), RangeParameter(name='x_r2_2', parameter_type=FLOAT, range=[0.0, 1.0]), RangeParameter(name='x_r2_3', parameter_type=FLOAT, range=[0.0, 1.0])], parameter_constraints=[ParameterConstraint(-1.0*z_sh + 1.0*z_sh_1 <= -1.0), ParameterConstraint(-1.0*z_sh_1 + 1.0*z_sh_2 <= -1.0), ParameterConstraint(-1.0*z_sh_2 + 1.0*z_sh_3 <= -1.0), ParameterConstraint(-1.0*z_r2 + 1.0*z_r2_1 <= -1.0), ParameterConstraint(-1.0*z_r2_1 + 1.0*z_r2_2 <= -1.0), ParameterConstraint(-1.0*z_r2_2 + 1.0*z_r2_3 <= -1.0), ParameterConstraint(-1.0*x_s + 1.0*x_s_1 <= -0.1), ParameterConstraint(-1.0*x_s_1 + 1.0*x_s_2 <= -0.1), ParameterConstraint(-1.0*x_s_2 + 1.0*x_s_3 <= -0.1), ParameterConstraint(-1.0*x_r2 + 1.0*x_r2_1 <= -0.1), ParameterConstraint(-1.0*x_r2_1 + 1.0*x_r2_2 <= -0.1), ParameterConstraint(-1.0*x_r2_2 + 1.0*x_r2_3 <= -0.1)])\n",
      "[INFO 04-10 16:10:11] ax.service.ax_client: Generated new trial 13 with parameters {'z_sh': 12, 'z_sh_1': 10, 'z_sh_2': 8, 'z_sh_3': 6, 'z_r2': 85, 'z_r2_1': 78, 'z_r2_2': 74, 'z_r2_3': 72, 'x_s': 0.458227, 'x_s_1': -0.304928, 'x_s_2': -0.777153, 'x_s_3': -0.909986, 'x_r2': 0.808593, 'x_r2_1': 0.128689, 'x_r2_2': -0.032689, 'x_r2_3': -0.916833} using model Sobol.\n",
      "[INFO 04-10 16:10:11] ax.service.ax_client: Completed trial 13 with data: {'Cross_term_gear_ratio_product': (np.float64(16800.070294), None)}.\n",
      "[WARNING 04-10 16:10:19] ax.modelbridge.transforms.int_to_float: Unable to round {'z_sh': 11.96031893783547, 'z_sh_1': 10.550948211677875, 'z_sh_2': 9.53341553347638, 'z_sh_3': 7.075452755468022, 'z_r2': 84.47289029507775, 'z_r2_1': 78.46894235130392, 'z_r2_2': 75.62897616811019, 'z_r2_3': 73.51720152550517, 'x_s': 0.23259203089401126, 'x_s_1': 0.07054781857877979, 'x_s_2': -0.3063004618510603, 'x_s_3': -0.7151110074482858, 'x_r2': 0.7599749815650285, 'x_r2_1': 0.31472493596375006, 'x_r2_2': 0.042568039335310504, 'x_r2_3': -0.4655705190263689}to meet parameter constraints of SearchSpace(parameters=[RangeParameter(name='z_sh', parameter_type=INT, range=[9, 12]), RangeParameter(name='z_sh_1', parameter_type=INT, range=[8, 11]), RangeParameter(name='z_sh_2', parameter_type=INT, range=[7, 10]), RangeParameter(name='z_sh_3', parameter_type=INT, range=[6, 9]), RangeParameter(name='z_r2', parameter_type=INT, range=[73, 86]), RangeParameter(name='z_r2_1', parameter_type=INT, range=[72, 85]), RangeParameter(name='z_r2_2', parameter_type=INT, range=[71, 84]), RangeParameter(name='z_r2_3', parameter_type=INT, range=[70, 83]), RangeParameter(name='x_s', parameter_type=FLOAT, range=[0.0, 1.0]), RangeParameter(name='x_s_1', parameter_type=FLOAT, range=[0.0, 1.0]), RangeParameter(name='x_s_2', parameter_type=FLOAT, range=[0.0, 1.0]), RangeParameter(name='x_s_3', parameter_type=FLOAT, range=[0.0, 1.0]), RangeParameter(name='x_r2', parameter_type=FLOAT, range=[0.0, 1.0]), RangeParameter(name='x_r2_1', parameter_type=FLOAT, range=[0.0, 1.0]), RangeParameter(name='x_r2_2', parameter_type=FLOAT, range=[0.0, 1.0]), RangeParameter(name='x_r2_3', parameter_type=FLOAT, range=[0.0, 1.0])], parameter_constraints=[ParameterConstraint(-1.0*z_sh + 1.0*z_sh_1 <= -1.0), ParameterConstraint(-1.0*z_sh_1 + 1.0*z_sh_2 <= -1.0), ParameterConstraint(-1.0*z_sh_2 + 1.0*z_sh_3 <= -1.0), ParameterConstraint(-1.0*z_r2 + 1.0*z_r2_1 <= -1.0), ParameterConstraint(-1.0*z_r2_1 + 1.0*z_r2_2 <= -1.0), ParameterConstraint(-1.0*z_r2_2 + 1.0*z_r2_3 <= -1.0), ParameterConstraint(-1.0*x_s + 1.0*x_s_1 <= -0.1), ParameterConstraint(-1.0*x_s_1 + 1.0*x_s_2 <= -0.1), ParameterConstraint(-1.0*x_s_2 + 1.0*x_s_3 <= -0.1), ParameterConstraint(-1.0*x_r2 + 1.0*x_r2_1 <= -0.1), ParameterConstraint(-1.0*x_r2_1 + 1.0*x_r2_2 <= -0.1), ParameterConstraint(-1.0*x_r2_2 + 1.0*x_r2_3 <= -0.1)])\n",
      "[WARNING 04-10 16:10:19] ax.modelbridge.transforms.int_to_float: Unable to round {'z_sh': np.float64(12.0), 'z_sh_1': np.float64(11.0), 'z_sh_2': np.float64(10.0), 'z_sh_3': np.float64(7.0), 'z_r2': np.float64(84.0), 'z_r2_1': np.float64(78.0), 'z_r2_2': np.float64(76.0), 'z_r2_3': np.float64(74.0), 'x_s': np.float64(0.23259203089401126), 'x_s_1': np.float64(0.07054781857877979), 'x_s_2': np.float64(-0.3063004618510603), 'x_s_3': np.float64(-0.7151110074482858), 'x_r2': np.float64(0.7599749815650285), 'x_r2_1': np.float64(0.31472493596375006), 'x_r2_2': np.float64(0.042568039335310504), 'x_r2_3': np.float64(-0.4655705190263689)}to meet parameter constraints of SearchSpace(parameters=[RangeParameter(name='z_sh', parameter_type=INT, range=[9, 12]), RangeParameter(name='z_sh_1', parameter_type=INT, range=[8, 11]), RangeParameter(name='z_sh_2', parameter_type=INT, range=[7, 10]), RangeParameter(name='z_sh_3', parameter_type=INT, range=[6, 9]), RangeParameter(name='z_r2', parameter_type=INT, range=[73, 86]), RangeParameter(name='z_r2_1', parameter_type=INT, range=[72, 85]), RangeParameter(name='z_r2_2', parameter_type=INT, range=[71, 84]), RangeParameter(name='z_r2_3', parameter_type=INT, range=[70, 83]), RangeParameter(name='x_s', parameter_type=FLOAT, range=[0.0, 1.0]), RangeParameter(name='x_s_1', parameter_type=FLOAT, range=[0.0, 1.0]), RangeParameter(name='x_s_2', parameter_type=FLOAT, range=[0.0, 1.0]), RangeParameter(name='x_s_3', parameter_type=FLOAT, range=[0.0, 1.0]), RangeParameter(name='x_r2', parameter_type=FLOAT, range=[0.0, 1.0]), RangeParameter(name='x_r2_1', parameter_type=FLOAT, range=[0.0, 1.0]), RangeParameter(name='x_r2_2', parameter_type=FLOAT, range=[0.0, 1.0]), RangeParameter(name='x_r2_3', parameter_type=FLOAT, range=[0.0, 1.0])], parameter_constraints=[ParameterConstraint(-1.0*z_sh + 1.0*z_sh_1 <= -1.0), ParameterConstraint(-1.0*z_sh_1 + 1.0*z_sh_2 <= -1.0), ParameterConstraint(-1.0*z_sh_2 + 1.0*z_sh_3 <= -1.0), ParameterConstraint(-1.0*z_r2 + 1.0*z_r2_1 <= -1.0), ParameterConstraint(-1.0*z_r2_1 + 1.0*z_r2_2 <= -1.0), ParameterConstraint(-1.0*z_r2_2 + 1.0*z_r2_3 <= -1.0), ParameterConstraint(-1.0*x_s + 1.0*x_s_1 <= -0.1), ParameterConstraint(-1.0*x_s_1 + 1.0*x_s_2 <= -0.1), ParameterConstraint(-1.0*x_s_2 + 1.0*x_s_3 <= -0.1), ParameterConstraint(-1.0*x_r2 + 1.0*x_r2_1 <= -0.1), ParameterConstraint(-1.0*x_r2_1 + 1.0*x_r2_2 <= -0.1), ParameterConstraint(-1.0*x_r2_2 + 1.0*x_r2_3 <= -0.1)])\n",
      "[INFO 04-10 16:10:19] ax.service.ax_client: Generated new trial 14 with parameters {'z_sh': 12, 'z_sh_1': 11, 'z_sh_2': 10, 'z_sh_3': 7, 'z_r2': 84, 'z_r2_1': 78, 'z_r2_2': 76, 'z_r2_3': 74, 'x_s': 0.232592, 'x_s_1': 0.070548, 'x_s_2': -0.3063, 'x_s_3': -0.715111, 'x_r2': 0.759975, 'x_r2_1': 0.314725, 'x_r2_2': 0.042568, 'x_r2_3': -0.465571} using model Sobol.\n",
      "[INFO 04-10 16:10:19] ax.service.ax_client: Completed trial 14 with data: {'Cross_term_gear_ratio_product': (np.float64(15362.066101), None)}.\n",
      "[WARNING 04-10 16:10:33] ax.modelbridge.transforms.int_to_float: Unable to round {'z_sh': 12.277095980235282, 'z_sh_1': 9.158051241033338, 'z_sh_2': 7.6090477847374975, 'z_sh_3': 6.298452588534728, 'z_r2': 85.14550321945444, 'z_r2_1': 74.33763888732078, 'z_r2_2': 72.5775658866536, 'z_r2_3': 71.17950749695765, 'x_s': 0.964683035761118, 'x_s_1': 0.6470190590247513, 'x_s_2': -0.7288487605750561, 'x_s_3': -0.8506037284620106, 'x_r2': 0.9557540674693883, 'x_r2_1': 0.8406130674295129, 'x_r2_2': 0.5765973226167264, 'x_r2_3': -0.8818626592867076}to meet parameter constraints of SearchSpace(parameters=[RangeParameter(name='z_sh', parameter_type=INT, range=[9, 12]), RangeParameter(name='z_sh_1', parameter_type=INT, range=[8, 11]), RangeParameter(name='z_sh_2', parameter_type=INT, range=[7, 10]), RangeParameter(name='z_sh_3', parameter_type=INT, range=[6, 9]), RangeParameter(name='z_r2', parameter_type=INT, range=[73, 86]), RangeParameter(name='z_r2_1', parameter_type=INT, range=[72, 85]), RangeParameter(name='z_r2_2', parameter_type=INT, range=[71, 84]), RangeParameter(name='z_r2_3', parameter_type=INT, range=[70, 83]), RangeParameter(name='x_s', parameter_type=FLOAT, range=[0.0, 1.0]), RangeParameter(name='x_s_1', parameter_type=FLOAT, range=[0.0, 1.0]), RangeParameter(name='x_s_2', parameter_type=FLOAT, range=[0.0, 1.0]), RangeParameter(name='x_s_3', parameter_type=FLOAT, range=[0.0, 1.0]), RangeParameter(name='x_r2', parameter_type=FLOAT, range=[0.0, 1.0]), RangeParameter(name='x_r2_1', parameter_type=FLOAT, range=[0.0, 1.0]), RangeParameter(name='x_r2_2', parameter_type=FLOAT, range=[0.0, 1.0]), RangeParameter(name='x_r2_3', parameter_type=FLOAT, range=[0.0, 1.0])], parameter_constraints=[ParameterConstraint(-1.0*z_sh + 1.0*z_sh_1 <= -1.0), ParameterConstraint(-1.0*z_sh_1 + 1.0*z_sh_2 <= -1.0), ParameterConstraint(-1.0*z_sh_2 + 1.0*z_sh_3 <= -1.0), ParameterConstraint(-1.0*z_r2 + 1.0*z_r2_1 <= -1.0), ParameterConstraint(-1.0*z_r2_1 + 1.0*z_r2_2 <= -1.0), ParameterConstraint(-1.0*z_r2_2 + 1.0*z_r2_3 <= -1.0), ParameterConstraint(-1.0*x_s + 1.0*x_s_1 <= -0.1), ParameterConstraint(-1.0*x_s_1 + 1.0*x_s_2 <= -0.1), ParameterConstraint(-1.0*x_s_2 + 1.0*x_s_3 <= -0.1), ParameterConstraint(-1.0*x_r2 + 1.0*x_r2_1 <= -0.1), ParameterConstraint(-1.0*x_r2_1 + 1.0*x_r2_2 <= -0.1), ParameterConstraint(-1.0*x_r2_2 + 1.0*x_r2_3 <= -0.1)])\n",
      "[WARNING 04-10 16:10:33] ax.modelbridge.transforms.int_to_float: Unable to round {'z_sh': np.float64(12.0), 'z_sh_1': np.float64(9.0), 'z_sh_2': np.float64(8.0), 'z_sh_3': np.float64(6.0), 'z_r2': np.float64(85.0), 'z_r2_1': np.float64(74.0), 'z_r2_2': np.float64(73.0), 'z_r2_3': np.float64(71.0), 'x_s': np.float64(0.964683035761118), 'x_s_1': np.float64(0.6470190590247513), 'x_s_2': np.float64(-0.7288487605750561), 'x_s_3': np.float64(-0.8506037284620106), 'x_r2': np.float64(0.9557540674693883), 'x_r2_1': np.float64(0.8406130674295129), 'x_r2_2': np.float64(0.5765973226167264), 'x_r2_3': np.float64(-0.8818626592867076)}to meet parameter constraints of SearchSpace(parameters=[RangeParameter(name='z_sh', parameter_type=INT, range=[9, 12]), RangeParameter(name='z_sh_1', parameter_type=INT, range=[8, 11]), RangeParameter(name='z_sh_2', parameter_type=INT, range=[7, 10]), RangeParameter(name='z_sh_3', parameter_type=INT, range=[6, 9]), RangeParameter(name='z_r2', parameter_type=INT, range=[73, 86]), RangeParameter(name='z_r2_1', parameter_type=INT, range=[72, 85]), RangeParameter(name='z_r2_2', parameter_type=INT, range=[71, 84]), RangeParameter(name='z_r2_3', parameter_type=INT, range=[70, 83]), RangeParameter(name='x_s', parameter_type=FLOAT, range=[0.0, 1.0]), RangeParameter(name='x_s_1', parameter_type=FLOAT, range=[0.0, 1.0]), RangeParameter(name='x_s_2', parameter_type=FLOAT, range=[0.0, 1.0]), RangeParameter(name='x_s_3', parameter_type=FLOAT, range=[0.0, 1.0]), RangeParameter(name='x_r2', parameter_type=FLOAT, range=[0.0, 1.0]), RangeParameter(name='x_r2_1', parameter_type=FLOAT, range=[0.0, 1.0]), RangeParameter(name='x_r2_2', parameter_type=FLOAT, range=[0.0, 1.0]), RangeParameter(name='x_r2_3', parameter_type=FLOAT, range=[0.0, 1.0])], parameter_constraints=[ParameterConstraint(-1.0*z_sh + 1.0*z_sh_1 <= -1.0), ParameterConstraint(-1.0*z_sh_1 + 1.0*z_sh_2 <= -1.0), ParameterConstraint(-1.0*z_sh_2 + 1.0*z_sh_3 <= -1.0), ParameterConstraint(-1.0*z_r2 + 1.0*z_r2_1 <= -1.0), ParameterConstraint(-1.0*z_r2_1 + 1.0*z_r2_2 <= -1.0), ParameterConstraint(-1.0*z_r2_2 + 1.0*z_r2_3 <= -1.0), ParameterConstraint(-1.0*x_s + 1.0*x_s_1 <= -0.1), ParameterConstraint(-1.0*x_s_1 + 1.0*x_s_2 <= -0.1), ParameterConstraint(-1.0*x_s_2 + 1.0*x_s_3 <= -0.1), ParameterConstraint(-1.0*x_r2 + 1.0*x_r2_1 <= -0.1), ParameterConstraint(-1.0*x_r2_1 + 1.0*x_r2_2 <= -0.1), ParameterConstraint(-1.0*x_r2_2 + 1.0*x_r2_3 <= -0.1)])\n",
      "[INFO 04-10 16:10:33] ax.service.ax_client: Generated new trial 15 with parameters {'z_sh': 12, 'z_sh_1': 9, 'z_sh_2': 8, 'z_sh_3': 6, 'z_r2': 85, 'z_r2_1': 74, 'z_r2_2': 73, 'z_r2_3': 71, 'x_s': 0.964683, 'x_s_1': 0.647019, 'x_s_2': -0.728849, 'x_s_3': -0.850604, 'x_r2': 0.955754, 'x_r2_1': 0.840613, 'x_r2_2': 0.576597, 'x_r2_3': -0.881863} using model Sobol.\n",
      "[INFO 04-10 16:10:33] ax.service.ax_client: Completed trial 15 with data: {'Cross_term_gear_ratio_product': (np.float64(18875.553711), None)}.\n",
      "[WARNING 04-10 16:10:37] ax.modelbridge.transforms.int_to_float: Unable to round {'z_sh': 11.73204132681286, 'z_sh_1': 10.431431568590774, 'z_sh_2': 7.160915688788611, 'z_sh_3': 5.525797418292984, 'z_r2': 82.13096871628136, 'z_r2_1': 78.78446825188465, 'z_r2_2': 71.52653597370764, 'z_r2_3': 69.77455838050996, 'x_s': 0.9538274964317679, 'x_s_1': 0.6909704867750408, 'x_s_2': -0.232869619037956, 'x_s_3': -0.8122086633928121, 'x_r2': 0.2780174312181771, 'x_r2_1': -0.09036948857828975, 'x_r2_2': -0.6908801197074353, 'x_r2_3': -0.8992745140567422}to meet parameter constraints of SearchSpace(parameters=[RangeParameter(name='z_sh', parameter_type=INT, range=[9, 12]), RangeParameter(name='z_sh_1', parameter_type=INT, range=[8, 11]), RangeParameter(name='z_sh_2', parameter_type=INT, range=[7, 10]), RangeParameter(name='z_sh_3', parameter_type=INT, range=[6, 9]), RangeParameter(name='z_r2', parameter_type=INT, range=[73, 86]), RangeParameter(name='z_r2_1', parameter_type=INT, range=[72, 85]), RangeParameter(name='z_r2_2', parameter_type=INT, range=[71, 84]), RangeParameter(name='z_r2_3', parameter_type=INT, range=[70, 83]), RangeParameter(name='x_s', parameter_type=FLOAT, range=[0.0, 1.0]), RangeParameter(name='x_s_1', parameter_type=FLOAT, range=[0.0, 1.0]), RangeParameter(name='x_s_2', parameter_type=FLOAT, range=[0.0, 1.0]), RangeParameter(name='x_s_3', parameter_type=FLOAT, range=[0.0, 1.0]), RangeParameter(name='x_r2', parameter_type=FLOAT, range=[0.0, 1.0]), RangeParameter(name='x_r2_1', parameter_type=FLOAT, range=[0.0, 1.0]), RangeParameter(name='x_r2_2', parameter_type=FLOAT, range=[0.0, 1.0]), RangeParameter(name='x_r2_3', parameter_type=FLOAT, range=[0.0, 1.0])], parameter_constraints=[ParameterConstraint(-1.0*z_sh + 1.0*z_sh_1 <= -1.0), ParameterConstraint(-1.0*z_sh_1 + 1.0*z_sh_2 <= -1.0), ParameterConstraint(-1.0*z_sh_2 + 1.0*z_sh_3 <= -1.0), ParameterConstraint(-1.0*z_r2 + 1.0*z_r2_1 <= -1.0), ParameterConstraint(-1.0*z_r2_1 + 1.0*z_r2_2 <= -1.0), ParameterConstraint(-1.0*z_r2_2 + 1.0*z_r2_3 <= -1.0), ParameterConstraint(-1.0*x_s + 1.0*x_s_1 <= -0.1), ParameterConstraint(-1.0*x_s_1 + 1.0*x_s_2 <= -0.1), ParameterConstraint(-1.0*x_s_2 + 1.0*x_s_3 <= -0.1), ParameterConstraint(-1.0*x_r2 + 1.0*x_r2_1 <= -0.1), ParameterConstraint(-1.0*x_r2_1 + 1.0*x_r2_2 <= -0.1), ParameterConstraint(-1.0*x_r2_2 + 1.0*x_r2_3 <= -0.1)])\n",
      "[WARNING 04-10 16:10:37] ax.modelbridge.transforms.int_to_float: Unable to round {'z_sh': np.float64(12.0), 'z_sh_1': np.float64(10.0), 'z_sh_2': np.float64(7.0), 'z_sh_3': np.float64(6.0), 'z_r2': np.float64(82.0), 'z_r2_1': np.float64(79.0), 'z_r2_2': np.float64(72.0), 'z_r2_3': np.float64(70.0), 'x_s': np.float64(0.9538274964317679), 'x_s_1': np.float64(0.6909704867750408), 'x_s_2': np.float64(-0.232869619037956), 'x_s_3': np.float64(-0.8122086633928121), 'x_r2': np.float64(0.2780174312181771), 'x_r2_1': np.float64(-0.09036948857828975), 'x_r2_2': np.float64(-0.6908801197074353), 'x_r2_3': np.float64(-0.8992745140567422)}to meet parameter constraints of SearchSpace(parameters=[RangeParameter(name='z_sh', parameter_type=INT, range=[9, 12]), RangeParameter(name='z_sh_1', parameter_type=INT, range=[8, 11]), RangeParameter(name='z_sh_2', parameter_type=INT, range=[7, 10]), RangeParameter(name='z_sh_3', parameter_type=INT, range=[6, 9]), RangeParameter(name='z_r2', parameter_type=INT, range=[73, 86]), RangeParameter(name='z_r2_1', parameter_type=INT, range=[72, 85]), RangeParameter(name='z_r2_2', parameter_type=INT, range=[71, 84]), RangeParameter(name='z_r2_3', parameter_type=INT, range=[70, 83]), RangeParameter(name='x_s', parameter_type=FLOAT, range=[0.0, 1.0]), RangeParameter(name='x_s_1', parameter_type=FLOAT, range=[0.0, 1.0]), RangeParameter(name='x_s_2', parameter_type=FLOAT, range=[0.0, 1.0]), RangeParameter(name='x_s_3', parameter_type=FLOAT, range=[0.0, 1.0]), RangeParameter(name='x_r2', parameter_type=FLOAT, range=[0.0, 1.0]), RangeParameter(name='x_r2_1', parameter_type=FLOAT, range=[0.0, 1.0]), RangeParameter(name='x_r2_2', parameter_type=FLOAT, range=[0.0, 1.0]), RangeParameter(name='x_r2_3', parameter_type=FLOAT, range=[0.0, 1.0])], parameter_constraints=[ParameterConstraint(-1.0*z_sh + 1.0*z_sh_1 <= -1.0), ParameterConstraint(-1.0*z_sh_1 + 1.0*z_sh_2 <= -1.0), ParameterConstraint(-1.0*z_sh_2 + 1.0*z_sh_3 <= -1.0), ParameterConstraint(-1.0*z_r2 + 1.0*z_r2_1 <= -1.0), ParameterConstraint(-1.0*z_r2_1 + 1.0*z_r2_2 <= -1.0), ParameterConstraint(-1.0*z_r2_2 + 1.0*z_r2_3 <= -1.0), ParameterConstraint(-1.0*x_s + 1.0*x_s_1 <= -0.1), ParameterConstraint(-1.0*x_s_1 + 1.0*x_s_2 <= -0.1), ParameterConstraint(-1.0*x_s_2 + 1.0*x_s_3 <= -0.1), ParameterConstraint(-1.0*x_r2 + 1.0*x_r2_1 <= -0.1), ParameterConstraint(-1.0*x_r2_1 + 1.0*x_r2_2 <= -0.1), ParameterConstraint(-1.0*x_r2_2 + 1.0*x_r2_3 <= -0.1)])\n",
      "[INFO 04-10 16:10:37] ax.service.ax_client: Generated new trial 16 with parameters {'z_sh': 12, 'z_sh_1': 10, 'z_sh_2': 7, 'z_sh_3': 6, 'z_r2': 82, 'z_r2_1': 79, 'z_r2_2': 72, 'z_r2_3': 70, 'x_s': 0.953827, 'x_s_1': 0.69097, 'x_s_2': -0.23287, 'x_s_3': -0.812209, 'x_r2': 0.278017, 'x_r2_1': -0.090369, 'x_r2_2': -0.69088, 'x_r2_3': -0.899275} using model Sobol.\n",
      "[INFO 04-10 16:10:37] ax.service.ax_client: Completed trial 16 with data: {'Cross_term_gear_ratio_product': (np.float64(12860.87674), None)}.\n",
      "[WARNING 04-10 16:10:56] ax.modelbridge.transforms.int_to_float: Unable to round {'z_sh': 10.474427142454237, 'z_sh_1': 9.26474441124605, 'z_sh_2': 8.11035407325821, 'z_sh_3': 6.865644568285737, 'z_r2': 85.06549141089107, 'z_r2_1': 78.6051767083513, 'z_r2_2': 72.58446370813523, 'z_r2_3': 69.87901292560475, 'x_s': 0.35323232421651474, 'x_s_1': 0.19902899274602537, 'x_s_2': -0.4902287737466395, 'x_s_3': -0.8770876312628388, 'x_r2': 0.8948890078812837, 'x_r2_1': 0.3906618741340937, 'x_r2_2': 0.22159577952697884, 'x_r2_3': 0.09455895731225605}to meet parameter constraints of SearchSpace(parameters=[RangeParameter(name='z_sh', parameter_type=INT, range=[9, 12]), RangeParameter(name='z_sh_1', parameter_type=INT, range=[8, 11]), RangeParameter(name='z_sh_2', parameter_type=INT, range=[7, 10]), RangeParameter(name='z_sh_3', parameter_type=INT, range=[6, 9]), RangeParameter(name='z_r2', parameter_type=INT, range=[73, 86]), RangeParameter(name='z_r2_1', parameter_type=INT, range=[72, 85]), RangeParameter(name='z_r2_2', parameter_type=INT, range=[71, 84]), RangeParameter(name='z_r2_3', parameter_type=INT, range=[70, 83]), RangeParameter(name='x_s', parameter_type=FLOAT, range=[0.0, 1.0]), RangeParameter(name='x_s_1', parameter_type=FLOAT, range=[0.0, 1.0]), RangeParameter(name='x_s_2', parameter_type=FLOAT, range=[0.0, 1.0]), RangeParameter(name='x_s_3', parameter_type=FLOAT, range=[0.0, 1.0]), RangeParameter(name='x_r2', parameter_type=FLOAT, range=[0.0, 1.0]), RangeParameter(name='x_r2_1', parameter_type=FLOAT, range=[0.0, 1.0]), RangeParameter(name='x_r2_2', parameter_type=FLOAT, range=[0.0, 1.0]), RangeParameter(name='x_r2_3', parameter_type=FLOAT, range=[0.0, 1.0])], parameter_constraints=[ParameterConstraint(-1.0*z_sh + 1.0*z_sh_1 <= -1.0), ParameterConstraint(-1.0*z_sh_1 + 1.0*z_sh_2 <= -1.0), ParameterConstraint(-1.0*z_sh_2 + 1.0*z_sh_3 <= -1.0), ParameterConstraint(-1.0*z_r2 + 1.0*z_r2_1 <= -1.0), ParameterConstraint(-1.0*z_r2_1 + 1.0*z_r2_2 <= -1.0), ParameterConstraint(-1.0*z_r2_2 + 1.0*z_r2_3 <= -1.0), ParameterConstraint(-1.0*x_s + 1.0*x_s_1 <= -0.1), ParameterConstraint(-1.0*x_s_1 + 1.0*x_s_2 <= -0.1), ParameterConstraint(-1.0*x_s_2 + 1.0*x_s_3 <= -0.1), ParameterConstraint(-1.0*x_r2 + 1.0*x_r2_1 <= -0.1), ParameterConstraint(-1.0*x_r2_1 + 1.0*x_r2_2 <= -0.1), ParameterConstraint(-1.0*x_r2_2 + 1.0*x_r2_3 <= -0.1)])\n",
      "[WARNING 04-10 16:10:56] ax.modelbridge.transforms.int_to_float: Unable to round {'z_sh': np.float64(10.0), 'z_sh_1': np.float64(9.0), 'z_sh_2': np.float64(8.0), 'z_sh_3': np.float64(7.0), 'z_r2': np.float64(85.0), 'z_r2_1': np.float64(79.0), 'z_r2_2': np.float64(73.0), 'z_r2_3': np.float64(70.0), 'x_s': np.float64(0.35323232421651474), 'x_s_1': np.float64(0.19902899274602537), 'x_s_2': np.float64(-0.4902287737466395), 'x_s_3': np.float64(-0.8770876312628388), 'x_r2': np.float64(0.8948890078812837), 'x_r2_1': np.float64(0.3906618741340937), 'x_r2_2': np.float64(0.22159577952697884), 'x_r2_3': np.float64(0.09455895731225605)}to meet parameter constraints of SearchSpace(parameters=[RangeParameter(name='z_sh', parameter_type=INT, range=[9, 12]), RangeParameter(name='z_sh_1', parameter_type=INT, range=[8, 11]), RangeParameter(name='z_sh_2', parameter_type=INT, range=[7, 10]), RangeParameter(name='z_sh_3', parameter_type=INT, range=[6, 9]), RangeParameter(name='z_r2', parameter_type=INT, range=[73, 86]), RangeParameter(name='z_r2_1', parameter_type=INT, range=[72, 85]), RangeParameter(name='z_r2_2', parameter_type=INT, range=[71, 84]), RangeParameter(name='z_r2_3', parameter_type=INT, range=[70, 83]), RangeParameter(name='x_s', parameter_type=FLOAT, range=[0.0, 1.0]), RangeParameter(name='x_s_1', parameter_type=FLOAT, range=[0.0, 1.0]), RangeParameter(name='x_s_2', parameter_type=FLOAT, range=[0.0, 1.0]), RangeParameter(name='x_s_3', parameter_type=FLOAT, range=[0.0, 1.0]), RangeParameter(name='x_r2', parameter_type=FLOAT, range=[0.0, 1.0]), RangeParameter(name='x_r2_1', parameter_type=FLOAT, range=[0.0, 1.0]), RangeParameter(name='x_r2_2', parameter_type=FLOAT, range=[0.0, 1.0]), RangeParameter(name='x_r2_3', parameter_type=FLOAT, range=[0.0, 1.0])], parameter_constraints=[ParameterConstraint(-1.0*z_sh + 1.0*z_sh_1 <= -1.0), ParameterConstraint(-1.0*z_sh_1 + 1.0*z_sh_2 <= -1.0), ParameterConstraint(-1.0*z_sh_2 + 1.0*z_sh_3 <= -1.0), ParameterConstraint(-1.0*z_r2 + 1.0*z_r2_1 <= -1.0), ParameterConstraint(-1.0*z_r2_1 + 1.0*z_r2_2 <= -1.0), ParameterConstraint(-1.0*z_r2_2 + 1.0*z_r2_3 <= -1.0), ParameterConstraint(-1.0*x_s + 1.0*x_s_1 <= -0.1), ParameterConstraint(-1.0*x_s_1 + 1.0*x_s_2 <= -0.1), ParameterConstraint(-1.0*x_s_2 + 1.0*x_s_3 <= -0.1), ParameterConstraint(-1.0*x_r2 + 1.0*x_r2_1 <= -0.1), ParameterConstraint(-1.0*x_r2_1 + 1.0*x_r2_2 <= -0.1), ParameterConstraint(-1.0*x_r2_2 + 1.0*x_r2_3 <= -0.1)])\n",
      "[INFO 04-10 16:10:56] ax.service.ax_client: Generated new trial 17 with parameters {'z_sh': 10, 'z_sh_1': 9, 'z_sh_2': 8, 'z_sh_3': 7, 'z_r2': 85, 'z_r2_1': 79, 'z_r2_2': 73, 'z_r2_3': 70, 'x_s': 0.353232, 'x_s_1': 0.199029, 'x_s_2': -0.490229, 'x_s_3': -0.877088, 'x_r2': 0.894889, 'x_r2_1': 0.390662, 'x_r2_2': 0.221596, 'x_r2_3': 0.094559} using model Sobol.\n",
      "[INFO 04-10 16:10:56] ax.service.ax_client: Completed trial 17 with data: {'Cross_term_gear_ratio_product': (np.float64(15261.672254), None)}.\n",
      "[WARNING 04-10 16:10:59] ax.modelbridge.transforms.int_to_float: Unable to round {'z_sh': 12.195180135802776, 'z_sh_1': 10.63078209862996, 'z_sh_2': 7.987022897264566, 'z_sh_3': 5.960888858029004, 'z_r2': 83.26388910272966, 'z_r2_1': 81.10642662639958, 'z_r2_2': 79.92298734126005, 'z_r2_3': 74.3930101096183, 'x_s': 0.04190339567139745, 'x_s_1': -0.08957533594220879, 'x_s_2': -0.39056625226512554, 'x_s_3': -0.6977813723497093, 'x_r2': 0.7028791091404856, 'x_r2_1': -0.036825358401983976, 'x_r2_2': -0.23702681921422475, 'x_r2_3': -0.6818808247335255}to meet parameter constraints of SearchSpace(parameters=[RangeParameter(name='z_sh', parameter_type=INT, range=[9, 12]), RangeParameter(name='z_sh_1', parameter_type=INT, range=[8, 11]), RangeParameter(name='z_sh_2', parameter_type=INT, range=[7, 10]), RangeParameter(name='z_sh_3', parameter_type=INT, range=[6, 9]), RangeParameter(name='z_r2', parameter_type=INT, range=[73, 86]), RangeParameter(name='z_r2_1', parameter_type=INT, range=[72, 85]), RangeParameter(name='z_r2_2', parameter_type=INT, range=[71, 84]), RangeParameter(name='z_r2_3', parameter_type=INT, range=[70, 83]), RangeParameter(name='x_s', parameter_type=FLOAT, range=[0.0, 1.0]), RangeParameter(name='x_s_1', parameter_type=FLOAT, range=[0.0, 1.0]), RangeParameter(name='x_s_2', parameter_type=FLOAT, range=[0.0, 1.0]), RangeParameter(name='x_s_3', parameter_type=FLOAT, range=[0.0, 1.0]), RangeParameter(name='x_r2', parameter_type=FLOAT, range=[0.0, 1.0]), RangeParameter(name='x_r2_1', parameter_type=FLOAT, range=[0.0, 1.0]), RangeParameter(name='x_r2_2', parameter_type=FLOAT, range=[0.0, 1.0]), RangeParameter(name='x_r2_3', parameter_type=FLOAT, range=[0.0, 1.0])], parameter_constraints=[ParameterConstraint(-1.0*z_sh + 1.0*z_sh_1 <= -1.0), ParameterConstraint(-1.0*z_sh_1 + 1.0*z_sh_2 <= -1.0), ParameterConstraint(-1.0*z_sh_2 + 1.0*z_sh_3 <= -1.0), ParameterConstraint(-1.0*z_r2 + 1.0*z_r2_1 <= -1.0), ParameterConstraint(-1.0*z_r2_1 + 1.0*z_r2_2 <= -1.0), ParameterConstraint(-1.0*z_r2_2 + 1.0*z_r2_3 <= -1.0), ParameterConstraint(-1.0*x_s + 1.0*x_s_1 <= -0.1), ParameterConstraint(-1.0*x_s_1 + 1.0*x_s_2 <= -0.1), ParameterConstraint(-1.0*x_s_2 + 1.0*x_s_3 <= -0.1), ParameterConstraint(-1.0*x_r2 + 1.0*x_r2_1 <= -0.1), ParameterConstraint(-1.0*x_r2_1 + 1.0*x_r2_2 <= -0.1), ParameterConstraint(-1.0*x_r2_2 + 1.0*x_r2_3 <= -0.1)])\n",
      "[WARNING 04-10 16:10:59] ax.modelbridge.transforms.int_to_float: Unable to round {'z_sh': np.float64(12.0), 'z_sh_1': np.float64(11.0), 'z_sh_2': np.float64(8.0), 'z_sh_3': np.float64(6.0), 'z_r2': np.float64(83.0), 'z_r2_1': np.float64(81.0), 'z_r2_2': np.float64(80.0), 'z_r2_3': np.float64(74.0), 'x_s': np.float64(0.04190339567139745), 'x_s_1': np.float64(-0.08957533594220879), 'x_s_2': np.float64(-0.39056625226512554), 'x_s_3': np.float64(-0.6977813723497093), 'x_r2': np.float64(0.7028791091404856), 'x_r2_1': np.float64(-0.036825358401983976), 'x_r2_2': np.float64(-0.23702681921422475), 'x_r2_3': np.float64(-0.6818808247335255)}to meet parameter constraints of SearchSpace(parameters=[RangeParameter(name='z_sh', parameter_type=INT, range=[9, 12]), RangeParameter(name='z_sh_1', parameter_type=INT, range=[8, 11]), RangeParameter(name='z_sh_2', parameter_type=INT, range=[7, 10]), RangeParameter(name='z_sh_3', parameter_type=INT, range=[6, 9]), RangeParameter(name='z_r2', parameter_type=INT, range=[73, 86]), RangeParameter(name='z_r2_1', parameter_type=INT, range=[72, 85]), RangeParameter(name='z_r2_2', parameter_type=INT, range=[71, 84]), RangeParameter(name='z_r2_3', parameter_type=INT, range=[70, 83]), RangeParameter(name='x_s', parameter_type=FLOAT, range=[0.0, 1.0]), RangeParameter(name='x_s_1', parameter_type=FLOAT, range=[0.0, 1.0]), RangeParameter(name='x_s_2', parameter_type=FLOAT, range=[0.0, 1.0]), RangeParameter(name='x_s_3', parameter_type=FLOAT, range=[0.0, 1.0]), RangeParameter(name='x_r2', parameter_type=FLOAT, range=[0.0, 1.0]), RangeParameter(name='x_r2_1', parameter_type=FLOAT, range=[0.0, 1.0]), RangeParameter(name='x_r2_2', parameter_type=FLOAT, range=[0.0, 1.0]), RangeParameter(name='x_r2_3', parameter_type=FLOAT, range=[0.0, 1.0])], parameter_constraints=[ParameterConstraint(-1.0*z_sh + 1.0*z_sh_1 <= -1.0), ParameterConstraint(-1.0*z_sh_1 + 1.0*z_sh_2 <= -1.0), ParameterConstraint(-1.0*z_sh_2 + 1.0*z_sh_3 <= -1.0), ParameterConstraint(-1.0*z_r2 + 1.0*z_r2_1 <= -1.0), ParameterConstraint(-1.0*z_r2_1 + 1.0*z_r2_2 <= -1.0), ParameterConstraint(-1.0*z_r2_2 + 1.0*z_r2_3 <= -1.0), ParameterConstraint(-1.0*x_s + 1.0*x_s_1 <= -0.1), ParameterConstraint(-1.0*x_s_1 + 1.0*x_s_2 <= -0.1), ParameterConstraint(-1.0*x_s_2 + 1.0*x_s_3 <= -0.1), ParameterConstraint(-1.0*x_r2 + 1.0*x_r2_1 <= -0.1), ParameterConstraint(-1.0*x_r2_1 + 1.0*x_r2_2 <= -0.1), ParameterConstraint(-1.0*x_r2_2 + 1.0*x_r2_3 <= -0.1)])\n",
      "[INFO 04-10 16:10:59] ax.service.ax_client: Generated new trial 18 with parameters {'z_sh': 12, 'z_sh_1': 11, 'z_sh_2': 8, 'z_sh_3': 6, 'z_r2': 83, 'z_r2_1': 81, 'z_r2_2': 80, 'z_r2_3': 74, 'x_s': 0.041903, 'x_s_1': -0.089575, 'x_s_2': -0.390566, 'x_s_3': -0.697781, 'x_r2': 0.702879, 'x_r2_1': -0.036825, 'x_r2_2': -0.237027, 'x_r2_3': -0.681881} using model Sobol.\n",
      "[INFO 04-10 16:10:59] ax.service.ax_client: Completed trial 18 with data: {'Cross_term_gear_ratio_product': (np.float64(7869.516829), None)}.\n",
      "[WARNING 04-10 16:11:12] ax.modelbridge.transforms.int_to_float: Unable to round {'z_sh': 12.127138022636604, 'z_sh_1': 11.053051633830965, 'z_sh_2': 9.886116480740347, 'z_sh_3': 8.77348253038576, 'z_r2': 84.54935704050109, 'z_r2_1': 83.37083435108349, 'z_r2_2': 80.44059993825633, 'z_r2_3': 76.38218004324128, 'x_s': 0.5692451977171005, 'x_s_1': 0.4138055915012957, 'x_s_2': -0.6214266691356898, 'x_s_3': -0.9046526219695806, 'x_r2': 0.9110801844857632, 'x_r2_1': -0.24404597077518697, 'x_r2_2': -0.7059735478833318, 'x_r2_3': -0.955893755890429}to meet parameter constraints of SearchSpace(parameters=[RangeParameter(name='z_sh', parameter_type=INT, range=[9, 12]), RangeParameter(name='z_sh_1', parameter_type=INT, range=[8, 11]), RangeParameter(name='z_sh_2', parameter_type=INT, range=[7, 10]), RangeParameter(name='z_sh_3', parameter_type=INT, range=[6, 9]), RangeParameter(name='z_r2', parameter_type=INT, range=[73, 86]), RangeParameter(name='z_r2_1', parameter_type=INT, range=[72, 85]), RangeParameter(name='z_r2_2', parameter_type=INT, range=[71, 84]), RangeParameter(name='z_r2_3', parameter_type=INT, range=[70, 83]), RangeParameter(name='x_s', parameter_type=FLOAT, range=[0.0, 1.0]), RangeParameter(name='x_s_1', parameter_type=FLOAT, range=[0.0, 1.0]), RangeParameter(name='x_s_2', parameter_type=FLOAT, range=[0.0, 1.0]), RangeParameter(name='x_s_3', parameter_type=FLOAT, range=[0.0, 1.0]), RangeParameter(name='x_r2', parameter_type=FLOAT, range=[0.0, 1.0]), RangeParameter(name='x_r2_1', parameter_type=FLOAT, range=[0.0, 1.0]), RangeParameter(name='x_r2_2', parameter_type=FLOAT, range=[0.0, 1.0]), RangeParameter(name='x_r2_3', parameter_type=FLOAT, range=[0.0, 1.0])], parameter_constraints=[ParameterConstraint(-1.0*z_sh + 1.0*z_sh_1 <= -1.0), ParameterConstraint(-1.0*z_sh_1 + 1.0*z_sh_2 <= -1.0), ParameterConstraint(-1.0*z_sh_2 + 1.0*z_sh_3 <= -1.0), ParameterConstraint(-1.0*z_r2 + 1.0*z_r2_1 <= -1.0), ParameterConstraint(-1.0*z_r2_1 + 1.0*z_r2_2 <= -1.0), ParameterConstraint(-1.0*z_r2_2 + 1.0*z_r2_3 <= -1.0), ParameterConstraint(-1.0*x_s + 1.0*x_s_1 <= -0.1), ParameterConstraint(-1.0*x_s_1 + 1.0*x_s_2 <= -0.1), ParameterConstraint(-1.0*x_s_2 + 1.0*x_s_3 <= -0.1), ParameterConstraint(-1.0*x_r2 + 1.0*x_r2_1 <= -0.1), ParameterConstraint(-1.0*x_r2_1 + 1.0*x_r2_2 <= -0.1), ParameterConstraint(-1.0*x_r2_2 + 1.0*x_r2_3 <= -0.1)])\n",
      "[WARNING 04-10 16:11:12] ax.modelbridge.transforms.int_to_float: Unable to round {'z_sh': np.float64(12.0), 'z_sh_1': np.float64(11.0), 'z_sh_2': np.float64(10.0), 'z_sh_3': np.float64(9.0), 'z_r2': np.float64(85.0), 'z_r2_1': np.float64(83.0), 'z_r2_2': np.float64(80.0), 'z_r2_3': np.float64(76.0), 'x_s': np.float64(0.5692451977171005), 'x_s_1': np.float64(0.4138055915012957), 'x_s_2': np.float64(-0.6214266691356898), 'x_s_3': np.float64(-0.9046526219695806), 'x_r2': np.float64(0.9110801844857632), 'x_r2_1': np.float64(-0.24404597077518697), 'x_r2_2': np.float64(-0.7059735478833318), 'x_r2_3': np.float64(-0.955893755890429)}to meet parameter constraints of SearchSpace(parameters=[RangeParameter(name='z_sh', parameter_type=INT, range=[9, 12]), RangeParameter(name='z_sh_1', parameter_type=INT, range=[8, 11]), RangeParameter(name='z_sh_2', parameter_type=INT, range=[7, 10]), RangeParameter(name='z_sh_3', parameter_type=INT, range=[6, 9]), RangeParameter(name='z_r2', parameter_type=INT, range=[73, 86]), RangeParameter(name='z_r2_1', parameter_type=INT, range=[72, 85]), RangeParameter(name='z_r2_2', parameter_type=INT, range=[71, 84]), RangeParameter(name='z_r2_3', parameter_type=INT, range=[70, 83]), RangeParameter(name='x_s', parameter_type=FLOAT, range=[0.0, 1.0]), RangeParameter(name='x_s_1', parameter_type=FLOAT, range=[0.0, 1.0]), RangeParameter(name='x_s_2', parameter_type=FLOAT, range=[0.0, 1.0]), RangeParameter(name='x_s_3', parameter_type=FLOAT, range=[0.0, 1.0]), RangeParameter(name='x_r2', parameter_type=FLOAT, range=[0.0, 1.0]), RangeParameter(name='x_r2_1', parameter_type=FLOAT, range=[0.0, 1.0]), RangeParameter(name='x_r2_2', parameter_type=FLOAT, range=[0.0, 1.0]), RangeParameter(name='x_r2_3', parameter_type=FLOAT, range=[0.0, 1.0])], parameter_constraints=[ParameterConstraint(-1.0*z_sh + 1.0*z_sh_1 <= -1.0), ParameterConstraint(-1.0*z_sh_1 + 1.0*z_sh_2 <= -1.0), ParameterConstraint(-1.0*z_sh_2 + 1.0*z_sh_3 <= -1.0), ParameterConstraint(-1.0*z_r2 + 1.0*z_r2_1 <= -1.0), ParameterConstraint(-1.0*z_r2_1 + 1.0*z_r2_2 <= -1.0), ParameterConstraint(-1.0*z_r2_2 + 1.0*z_r2_3 <= -1.0), ParameterConstraint(-1.0*x_s + 1.0*x_s_1 <= -0.1), ParameterConstraint(-1.0*x_s_1 + 1.0*x_s_2 <= -0.1), ParameterConstraint(-1.0*x_s_2 + 1.0*x_s_3 <= -0.1), ParameterConstraint(-1.0*x_r2 + 1.0*x_r2_1 <= -0.1), ParameterConstraint(-1.0*x_r2_1 + 1.0*x_r2_2 <= -0.1), ParameterConstraint(-1.0*x_r2_2 + 1.0*x_r2_3 <= -0.1)])\n",
      "[INFO 04-10 16:11:12] ax.service.ax_client: Generated new trial 19 with parameters {'z_sh': 12, 'z_sh_1': 11, 'z_sh_2': 10, 'z_sh_3': 9, 'z_r2': 85, 'z_r2_1': 83, 'z_r2_2': 80, 'z_r2_3': 76, 'x_s': 0.569245, 'x_s_1': 0.413806, 'x_s_2': -0.621427, 'x_s_3': -0.904653, 'x_r2': 0.91108, 'x_r2_1': -0.244046, 'x_r2_2': -0.705974, 'x_r2_3': -0.955894} using model Sobol.\n",
      "[INFO 04-10 16:11:12] ax.service.ax_client: Completed trial 19 with data: {'Cross_term_gear_ratio_product': (np.float64(6692.784), None)}.\n",
      "[WARNING 04-10 16:11:25] ax.modelbridge.transforms.int_to_float: Unable to round {'z_sh': 11.686414251527879, 'z_sh_1': 9.557701984619051, 'z_sh_2': 7.899727950526532, 'z_sh_3': 5.547432361934427, 'z_r2': 84.37949399952873, 'z_r2_1': 81.44432877901745, 'z_r2_2': 79.56419055322066, 'z_r2_3': 71.19035869516443, 'x_s': 0.4310471042059363, 'x_s_1': -0.2860510368831456, 'x_s_2': -0.4137792731635272, 'x_s_3': -0.8549917789176107, 'x_r2': 0.49613759722560635, 'x_r2_1': 0.23193723773583774, 'x_r2_2': -0.1195152051746845, 'x_r2_3': -0.9670461843721568}to meet parameter constraints of SearchSpace(parameters=[RangeParameter(name='z_sh', parameter_type=INT, range=[9, 12]), RangeParameter(name='z_sh_1', parameter_type=INT, range=[8, 11]), RangeParameter(name='z_sh_2', parameter_type=INT, range=[7, 10]), RangeParameter(name='z_sh_3', parameter_type=INT, range=[6, 9]), RangeParameter(name='z_r2', parameter_type=INT, range=[73, 86]), RangeParameter(name='z_r2_1', parameter_type=INT, range=[72, 85]), RangeParameter(name='z_r2_2', parameter_type=INT, range=[71, 84]), RangeParameter(name='z_r2_3', parameter_type=INT, range=[70, 83]), RangeParameter(name='x_s', parameter_type=FLOAT, range=[0.0, 1.0]), RangeParameter(name='x_s_1', parameter_type=FLOAT, range=[0.0, 1.0]), RangeParameter(name='x_s_2', parameter_type=FLOAT, range=[0.0, 1.0]), RangeParameter(name='x_s_3', parameter_type=FLOAT, range=[0.0, 1.0]), RangeParameter(name='x_r2', parameter_type=FLOAT, range=[0.0, 1.0]), RangeParameter(name='x_r2_1', parameter_type=FLOAT, range=[0.0, 1.0]), RangeParameter(name='x_r2_2', parameter_type=FLOAT, range=[0.0, 1.0]), RangeParameter(name='x_r2_3', parameter_type=FLOAT, range=[0.0, 1.0])], parameter_constraints=[ParameterConstraint(-1.0*z_sh + 1.0*z_sh_1 <= -1.0), ParameterConstraint(-1.0*z_sh_1 + 1.0*z_sh_2 <= -1.0), ParameterConstraint(-1.0*z_sh_2 + 1.0*z_sh_3 <= -1.0), ParameterConstraint(-1.0*z_r2 + 1.0*z_r2_1 <= -1.0), ParameterConstraint(-1.0*z_r2_1 + 1.0*z_r2_2 <= -1.0), ParameterConstraint(-1.0*z_r2_2 + 1.0*z_r2_3 <= -1.0), ParameterConstraint(-1.0*x_s + 1.0*x_s_1 <= -0.1), ParameterConstraint(-1.0*x_s_1 + 1.0*x_s_2 <= -0.1), ParameterConstraint(-1.0*x_s_2 + 1.0*x_s_3 <= -0.1), ParameterConstraint(-1.0*x_r2 + 1.0*x_r2_1 <= -0.1), ParameterConstraint(-1.0*x_r2_1 + 1.0*x_r2_2 <= -0.1), ParameterConstraint(-1.0*x_r2_2 + 1.0*x_r2_3 <= -0.1)])\n",
      "[WARNING 04-10 16:11:25] ax.modelbridge.transforms.int_to_float: Unable to round {'z_sh': np.float64(12.0), 'z_sh_1': np.float64(10.0), 'z_sh_2': np.float64(8.0), 'z_sh_3': np.float64(6.0), 'z_r2': np.float64(84.0), 'z_r2_1': np.float64(81.0), 'z_r2_2': np.float64(80.0), 'z_r2_3': np.float64(71.0), 'x_s': np.float64(0.4310471042059363), 'x_s_1': np.float64(-0.2860510368831456), 'x_s_2': np.float64(-0.4137792731635272), 'x_s_3': np.float64(-0.8549917789176107), 'x_r2': np.float64(0.49613759722560635), 'x_r2_1': np.float64(0.23193723773583774), 'x_r2_2': np.float64(-0.1195152051746845), 'x_r2_3': np.float64(-0.9670461843721568)}to meet parameter constraints of SearchSpace(parameters=[RangeParameter(name='z_sh', parameter_type=INT, range=[9, 12]), RangeParameter(name='z_sh_1', parameter_type=INT, range=[8, 11]), RangeParameter(name='z_sh_2', parameter_type=INT, range=[7, 10]), RangeParameter(name='z_sh_3', parameter_type=INT, range=[6, 9]), RangeParameter(name='z_r2', parameter_type=INT, range=[73, 86]), RangeParameter(name='z_r2_1', parameter_type=INT, range=[72, 85]), RangeParameter(name='z_r2_2', parameter_type=INT, range=[71, 84]), RangeParameter(name='z_r2_3', parameter_type=INT, range=[70, 83]), RangeParameter(name='x_s', parameter_type=FLOAT, range=[0.0, 1.0]), RangeParameter(name='x_s_1', parameter_type=FLOAT, range=[0.0, 1.0]), RangeParameter(name='x_s_2', parameter_type=FLOAT, range=[0.0, 1.0]), RangeParameter(name='x_s_3', parameter_type=FLOAT, range=[0.0, 1.0]), RangeParameter(name='x_r2', parameter_type=FLOAT, range=[0.0, 1.0]), RangeParameter(name='x_r2_1', parameter_type=FLOAT, range=[0.0, 1.0]), RangeParameter(name='x_r2_2', parameter_type=FLOAT, range=[0.0, 1.0]), RangeParameter(name='x_r2_3', parameter_type=FLOAT, range=[0.0, 1.0])], parameter_constraints=[ParameterConstraint(-1.0*z_sh + 1.0*z_sh_1 <= -1.0), ParameterConstraint(-1.0*z_sh_1 + 1.0*z_sh_2 <= -1.0), ParameterConstraint(-1.0*z_sh_2 + 1.0*z_sh_3 <= -1.0), ParameterConstraint(-1.0*z_r2 + 1.0*z_r2_1 <= -1.0), ParameterConstraint(-1.0*z_r2_1 + 1.0*z_r2_2 <= -1.0), ParameterConstraint(-1.0*z_r2_2 + 1.0*z_r2_3 <= -1.0), ParameterConstraint(-1.0*x_s + 1.0*x_s_1 <= -0.1), ParameterConstraint(-1.0*x_s_1 + 1.0*x_s_2 <= -0.1), ParameterConstraint(-1.0*x_s_2 + 1.0*x_s_3 <= -0.1), ParameterConstraint(-1.0*x_r2 + 1.0*x_r2_1 <= -0.1), ParameterConstraint(-1.0*x_r2_1 + 1.0*x_r2_2 <= -0.1), ParameterConstraint(-1.0*x_r2_2 + 1.0*x_r2_3 <= -0.1)])\n",
      "[INFO 04-10 16:11:25] ax.service.ax_client: Generated new trial 20 with parameters {'z_sh': 12, 'z_sh_1': 10, 'z_sh_2': 8, 'z_sh_3': 6, 'z_r2': 84, 'z_r2_1': 81, 'z_r2_2': 80, 'z_r2_3': 71, 'x_s': 0.431047, 'x_s_1': -0.286051, 'x_s_2': -0.413779, 'x_s_3': -0.854992, 'x_r2': 0.496138, 'x_r2_1': 0.231937, 'x_r2_2': -0.119515, 'x_r2_3': -0.967046} using model Sobol.\n",
      "[INFO 04-10 16:11:25] ax.service.ax_client: Completed trial 20 with data: {'Cross_term_gear_ratio_product': (np.float64(9495.60316), None)}.\n",
      "[WARNING 04-10 16:11:42] ax.modelbridge.transforms.int_to_float: Unable to round {'z_sh': 11.891881118861754, 'z_sh_1': 9.906852341924981, 'z_sh_2': 8.874996683319862, 'z_sh_3': 6.804179440882858, 'z_r2': 86.35166623080002, 'z_r2_1': 85.31410392347347, 'z_r2_2': 78.94670150138154, 'z_r2_3': 71.1750454884482, 'x_s': 0.36109337406232944, 'x_s_1': -0.3416837313212454, 'x_s_2': -0.49456840530037877, 'x_s_3': -0.7630235405638814, 'x_r2': 0.25231703212484724, 'x_r2_1': 0.08066436564549806, 'x_r2_2': -0.22088452540338033, 'x_r2_3': -0.4681086482480169}to meet parameter constraints of SearchSpace(parameters=[RangeParameter(name='z_sh', parameter_type=INT, range=[9, 12]), RangeParameter(name='z_sh_1', parameter_type=INT, range=[8, 11]), RangeParameter(name='z_sh_2', parameter_type=INT, range=[7, 10]), RangeParameter(name='z_sh_3', parameter_type=INT, range=[6, 9]), RangeParameter(name='z_r2', parameter_type=INT, range=[73, 86]), RangeParameter(name='z_r2_1', parameter_type=INT, range=[72, 85]), RangeParameter(name='z_r2_2', parameter_type=INT, range=[71, 84]), RangeParameter(name='z_r2_3', parameter_type=INT, range=[70, 83]), RangeParameter(name='x_s', parameter_type=FLOAT, range=[0.0, 1.0]), RangeParameter(name='x_s_1', parameter_type=FLOAT, range=[0.0, 1.0]), RangeParameter(name='x_s_2', parameter_type=FLOAT, range=[0.0, 1.0]), RangeParameter(name='x_s_3', parameter_type=FLOAT, range=[0.0, 1.0]), RangeParameter(name='x_r2', parameter_type=FLOAT, range=[0.0, 1.0]), RangeParameter(name='x_r2_1', parameter_type=FLOAT, range=[0.0, 1.0]), RangeParameter(name='x_r2_2', parameter_type=FLOAT, range=[0.0, 1.0]), RangeParameter(name='x_r2_3', parameter_type=FLOAT, range=[0.0, 1.0])], parameter_constraints=[ParameterConstraint(-1.0*z_sh + 1.0*z_sh_1 <= -1.0), ParameterConstraint(-1.0*z_sh_1 + 1.0*z_sh_2 <= -1.0), ParameterConstraint(-1.0*z_sh_2 + 1.0*z_sh_3 <= -1.0), ParameterConstraint(-1.0*z_r2 + 1.0*z_r2_1 <= -1.0), ParameterConstraint(-1.0*z_r2_1 + 1.0*z_r2_2 <= -1.0), ParameterConstraint(-1.0*z_r2_2 + 1.0*z_r2_3 <= -1.0), ParameterConstraint(-1.0*x_s + 1.0*x_s_1 <= -0.1), ParameterConstraint(-1.0*x_s_1 + 1.0*x_s_2 <= -0.1), ParameterConstraint(-1.0*x_s_2 + 1.0*x_s_3 <= -0.1), ParameterConstraint(-1.0*x_r2 + 1.0*x_r2_1 <= -0.1), ParameterConstraint(-1.0*x_r2_1 + 1.0*x_r2_2 <= -0.1), ParameterConstraint(-1.0*x_r2_2 + 1.0*x_r2_3 <= -0.1)])\n",
      "[WARNING 04-10 16:11:42] ax.modelbridge.transforms.int_to_float: Unable to round {'z_sh': np.float64(12.0), 'z_sh_1': np.float64(10.0), 'z_sh_2': np.float64(9.0), 'z_sh_3': np.float64(7.0), 'z_r2': np.float64(86.0), 'z_r2_1': np.float64(85.0), 'z_r2_2': np.float64(79.0), 'z_r2_3': np.float64(71.0), 'x_s': np.float64(0.36109337406232944), 'x_s_1': np.float64(-0.3416837313212454), 'x_s_2': np.float64(-0.49456840530037877), 'x_s_3': np.float64(-0.7630235405638814), 'x_r2': np.float64(0.25231703212484724), 'x_r2_1': np.float64(0.08066436564549806), 'x_r2_2': np.float64(-0.22088452540338033), 'x_r2_3': np.float64(-0.4681086482480169)}to meet parameter constraints of SearchSpace(parameters=[RangeParameter(name='z_sh', parameter_type=INT, range=[9, 12]), RangeParameter(name='z_sh_1', parameter_type=INT, range=[8, 11]), RangeParameter(name='z_sh_2', parameter_type=INT, range=[7, 10]), RangeParameter(name='z_sh_3', parameter_type=INT, range=[6, 9]), RangeParameter(name='z_r2', parameter_type=INT, range=[73, 86]), RangeParameter(name='z_r2_1', parameter_type=INT, range=[72, 85]), RangeParameter(name='z_r2_2', parameter_type=INT, range=[71, 84]), RangeParameter(name='z_r2_3', parameter_type=INT, range=[70, 83]), RangeParameter(name='x_s', parameter_type=FLOAT, range=[0.0, 1.0]), RangeParameter(name='x_s_1', parameter_type=FLOAT, range=[0.0, 1.0]), RangeParameter(name='x_s_2', parameter_type=FLOAT, range=[0.0, 1.0]), RangeParameter(name='x_s_3', parameter_type=FLOAT, range=[0.0, 1.0]), RangeParameter(name='x_r2', parameter_type=FLOAT, range=[0.0, 1.0]), RangeParameter(name='x_r2_1', parameter_type=FLOAT, range=[0.0, 1.0]), RangeParameter(name='x_r2_2', parameter_type=FLOAT, range=[0.0, 1.0]), RangeParameter(name='x_r2_3', parameter_type=FLOAT, range=[0.0, 1.0])], parameter_constraints=[ParameterConstraint(-1.0*z_sh + 1.0*z_sh_1 <= -1.0), ParameterConstraint(-1.0*z_sh_1 + 1.0*z_sh_2 <= -1.0), ParameterConstraint(-1.0*z_sh_2 + 1.0*z_sh_3 <= -1.0), ParameterConstraint(-1.0*z_r2 + 1.0*z_r2_1 <= -1.0), ParameterConstraint(-1.0*z_r2_1 + 1.0*z_r2_2 <= -1.0), ParameterConstraint(-1.0*z_r2_2 + 1.0*z_r2_3 <= -1.0), ParameterConstraint(-1.0*x_s + 1.0*x_s_1 <= -0.1), ParameterConstraint(-1.0*x_s_1 + 1.0*x_s_2 <= -0.1), ParameterConstraint(-1.0*x_s_2 + 1.0*x_s_3 <= -0.1), ParameterConstraint(-1.0*x_r2 + 1.0*x_r2_1 <= -0.1), ParameterConstraint(-1.0*x_r2_1 + 1.0*x_r2_2 <= -0.1), ParameterConstraint(-1.0*x_r2_2 + 1.0*x_r2_3 <= -0.1)])\n",
      "[INFO 04-10 16:11:42] ax.service.ax_client: Generated new trial 21 with parameters {'z_sh': 12, 'z_sh_1': 10, 'z_sh_2': 9, 'z_sh_3': 7, 'z_r2': 86, 'z_r2_1': 85, 'z_r2_2': 79, 'z_r2_3': 71, 'x_s': 0.361093, 'x_s_1': -0.341684, 'x_s_2': -0.494568, 'x_s_3': -0.763024, 'x_r2': 0.252317, 'x_r2_1': 0.080664, 'x_r2_2': -0.220885, 'x_r2_3': -0.468109} using model Sobol.\n",
      "[INFO 04-10 16:11:42] ax.service.ax_client: Completed trial 21 with data: {'Cross_term_gear_ratio_product': (np.float64(9564.724288), None)}.\n",
      "[WARNING 04-10 16:12:06] ax.modelbridge.transforms.int_to_float: Unable to round {'z_sh': 12.356793041684124, 'z_sh_1': 10.614661976391599, 'z_sh_2': 8.87688559349697, 'z_sh_3': 6.199144307478089, 'z_r2': 83.73854968176015, 'z_r2_1': 81.62312354276068, 'z_r2_2': 78.72929506596256, 'z_r2_3': 70.0339656103156, 'x_s': 0.7171891919337212, 'x_s_1': 0.4427360167726875, 'x_s_2': 0.3295132978819312, 'x_s_3': -0.26201353864744303, 'x_r2': 0.3196294606663286, 'x_r2_1': -0.09002688787877555, 'x_r2_2': -0.37165881833061576, 'x_r2_3': -0.48092844942584634}to meet parameter constraints of SearchSpace(parameters=[RangeParameter(name='z_sh', parameter_type=INT, range=[9, 12]), RangeParameter(name='z_sh_1', parameter_type=INT, range=[8, 11]), RangeParameter(name='z_sh_2', parameter_type=INT, range=[7, 10]), RangeParameter(name='z_sh_3', parameter_type=INT, range=[6, 9]), RangeParameter(name='z_r2', parameter_type=INT, range=[73, 86]), RangeParameter(name='z_r2_1', parameter_type=INT, range=[72, 85]), RangeParameter(name='z_r2_2', parameter_type=INT, range=[71, 84]), RangeParameter(name='z_r2_3', parameter_type=INT, range=[70, 83]), RangeParameter(name='x_s', parameter_type=FLOAT, range=[0.0, 1.0]), RangeParameter(name='x_s_1', parameter_type=FLOAT, range=[0.0, 1.0]), RangeParameter(name='x_s_2', parameter_type=FLOAT, range=[0.0, 1.0]), RangeParameter(name='x_s_3', parameter_type=FLOAT, range=[0.0, 1.0]), RangeParameter(name='x_r2', parameter_type=FLOAT, range=[0.0, 1.0]), RangeParameter(name='x_r2_1', parameter_type=FLOAT, range=[0.0, 1.0]), RangeParameter(name='x_r2_2', parameter_type=FLOAT, range=[0.0, 1.0]), RangeParameter(name='x_r2_3', parameter_type=FLOAT, range=[0.0, 1.0])], parameter_constraints=[ParameterConstraint(-1.0*z_sh + 1.0*z_sh_1 <= -1.0), ParameterConstraint(-1.0*z_sh_1 + 1.0*z_sh_2 <= -1.0), ParameterConstraint(-1.0*z_sh_2 + 1.0*z_sh_3 <= -1.0), ParameterConstraint(-1.0*z_r2 + 1.0*z_r2_1 <= -1.0), ParameterConstraint(-1.0*z_r2_1 + 1.0*z_r2_2 <= -1.0), ParameterConstraint(-1.0*z_r2_2 + 1.0*z_r2_3 <= -1.0), ParameterConstraint(-1.0*x_s + 1.0*x_s_1 <= -0.1), ParameterConstraint(-1.0*x_s_1 + 1.0*x_s_2 <= -0.1), ParameterConstraint(-1.0*x_s_2 + 1.0*x_s_3 <= -0.1), ParameterConstraint(-1.0*x_r2 + 1.0*x_r2_1 <= -0.1), ParameterConstraint(-1.0*x_r2_1 + 1.0*x_r2_2 <= -0.1), ParameterConstraint(-1.0*x_r2_2 + 1.0*x_r2_3 <= -0.1)])\n",
      "[WARNING 04-10 16:12:06] ax.modelbridge.transforms.int_to_float: Unable to round {'z_sh': np.float64(12.0), 'z_sh_1': np.float64(11.0), 'z_sh_2': np.float64(9.0), 'z_sh_3': np.float64(6.0), 'z_r2': np.float64(84.0), 'z_r2_1': np.float64(82.0), 'z_r2_2': np.float64(79.0), 'z_r2_3': np.float64(70.0), 'x_s': np.float64(0.7171891919337212), 'x_s_1': np.float64(0.4427360167726875), 'x_s_2': np.float64(0.3295132978819312), 'x_s_3': np.float64(-0.26201353864744303), 'x_r2': np.float64(0.3196294606663286), 'x_r2_1': np.float64(-0.09002688787877555), 'x_r2_2': np.float64(-0.37165881833061576), 'x_r2_3': np.float64(-0.48092844942584634)}to meet parameter constraints of SearchSpace(parameters=[RangeParameter(name='z_sh', parameter_type=INT, range=[9, 12]), RangeParameter(name='z_sh_1', parameter_type=INT, range=[8, 11]), RangeParameter(name='z_sh_2', parameter_type=INT, range=[7, 10]), RangeParameter(name='z_sh_3', parameter_type=INT, range=[6, 9]), RangeParameter(name='z_r2', parameter_type=INT, range=[73, 86]), RangeParameter(name='z_r2_1', parameter_type=INT, range=[72, 85]), RangeParameter(name='z_r2_2', parameter_type=INT, range=[71, 84]), RangeParameter(name='z_r2_3', parameter_type=INT, range=[70, 83]), RangeParameter(name='x_s', parameter_type=FLOAT, range=[0.0, 1.0]), RangeParameter(name='x_s_1', parameter_type=FLOAT, range=[0.0, 1.0]), RangeParameter(name='x_s_2', parameter_type=FLOAT, range=[0.0, 1.0]), RangeParameter(name='x_s_3', parameter_type=FLOAT, range=[0.0, 1.0]), RangeParameter(name='x_r2', parameter_type=FLOAT, range=[0.0, 1.0]), RangeParameter(name='x_r2_1', parameter_type=FLOAT, range=[0.0, 1.0]), RangeParameter(name='x_r2_2', parameter_type=FLOAT, range=[0.0, 1.0]), RangeParameter(name='x_r2_3', parameter_type=FLOAT, range=[0.0, 1.0])], parameter_constraints=[ParameterConstraint(-1.0*z_sh + 1.0*z_sh_1 <= -1.0), ParameterConstraint(-1.0*z_sh_1 + 1.0*z_sh_2 <= -1.0), ParameterConstraint(-1.0*z_sh_2 + 1.0*z_sh_3 <= -1.0), ParameterConstraint(-1.0*z_r2 + 1.0*z_r2_1 <= -1.0), ParameterConstraint(-1.0*z_r2_1 + 1.0*z_r2_2 <= -1.0), ParameterConstraint(-1.0*z_r2_2 + 1.0*z_r2_3 <= -1.0), ParameterConstraint(-1.0*x_s + 1.0*x_s_1 <= -0.1), ParameterConstraint(-1.0*x_s_1 + 1.0*x_s_2 <= -0.1), ParameterConstraint(-1.0*x_s_2 + 1.0*x_s_3 <= -0.1), ParameterConstraint(-1.0*x_r2 + 1.0*x_r2_1 <= -0.1), ParameterConstraint(-1.0*x_r2_1 + 1.0*x_r2_2 <= -0.1), ParameterConstraint(-1.0*x_r2_2 + 1.0*x_r2_3 <= -0.1)])\n",
      "[INFO 04-10 16:12:06] ax.service.ax_client: Generated new trial 22 with parameters {'z_sh': 12, 'z_sh_1': 11, 'z_sh_2': 9, 'z_sh_3': 6, 'z_r2': 84, 'z_r2_1': 82, 'z_r2_2': 79, 'z_r2_3': 70, 'x_s': 0.717189, 'x_s_1': 0.442736, 'x_s_2': 0.329513, 'x_s_3': -0.262014, 'x_r2': 0.319629, 'x_r2_1': -0.090027, 'x_r2_2': -0.371659, 'x_r2_3': -0.480928} using model Sobol.\n",
      "[INFO 04-10 16:12:06] ax.service.ax_client: Completed trial 22 with data: {'Cross_term_gear_ratio_product': (np.float64(9675.971277), None)}.\n",
      "[WARNING 04-10 16:12:32] ax.modelbridge.transforms.int_to_float: Unable to round {'z_sh': 11.681371466748901, 'z_sh_1': 10.164925420834663, 'z_sh_2': 8.949943520475216, 'z_sh_3': 5.657567310644909, 'z_r2': 77.4333067984694, 'z_r2_1': 75.25188566590153, 'z_r2_2': 74.12239332029162, 'z_r2_3': 72.18825280654366, 'x_s': 0.4841759182512759, 'x_s_1': 0.2068885780870915, 'x_s_2': 0.06391407474875455, 'x_s_3': -0.539103775843978, 'x_r2': 0.1517932187765837, 'x_r2_1': 0.04486789563670757, 'x_r2_2': -0.27714344998821616, 'x_r2_3': -0.47456035213544967}to meet parameter constraints of SearchSpace(parameters=[RangeParameter(name='z_sh', parameter_type=INT, range=[9, 12]), RangeParameter(name='z_sh_1', parameter_type=INT, range=[8, 11]), RangeParameter(name='z_sh_2', parameter_type=INT, range=[7, 10]), RangeParameter(name='z_sh_3', parameter_type=INT, range=[6, 9]), RangeParameter(name='z_r2', parameter_type=INT, range=[73, 86]), RangeParameter(name='z_r2_1', parameter_type=INT, range=[72, 85]), RangeParameter(name='z_r2_2', parameter_type=INT, range=[71, 84]), RangeParameter(name='z_r2_3', parameter_type=INT, range=[70, 83]), RangeParameter(name='x_s', parameter_type=FLOAT, range=[0.0, 1.0]), RangeParameter(name='x_s_1', parameter_type=FLOAT, range=[0.0, 1.0]), RangeParameter(name='x_s_2', parameter_type=FLOAT, range=[0.0, 1.0]), RangeParameter(name='x_s_3', parameter_type=FLOAT, range=[0.0, 1.0]), RangeParameter(name='x_r2', parameter_type=FLOAT, range=[0.0, 1.0]), RangeParameter(name='x_r2_1', parameter_type=FLOAT, range=[0.0, 1.0]), RangeParameter(name='x_r2_2', parameter_type=FLOAT, range=[0.0, 1.0]), RangeParameter(name='x_r2_3', parameter_type=FLOAT, range=[0.0, 1.0])], parameter_constraints=[ParameterConstraint(-1.0*z_sh + 1.0*z_sh_1 <= -1.0), ParameterConstraint(-1.0*z_sh_1 + 1.0*z_sh_2 <= -1.0), ParameterConstraint(-1.0*z_sh_2 + 1.0*z_sh_3 <= -1.0), ParameterConstraint(-1.0*z_r2 + 1.0*z_r2_1 <= -1.0), ParameterConstraint(-1.0*z_r2_1 + 1.0*z_r2_2 <= -1.0), ParameterConstraint(-1.0*z_r2_2 + 1.0*z_r2_3 <= -1.0), ParameterConstraint(-1.0*x_s + 1.0*x_s_1 <= -0.1), ParameterConstraint(-1.0*x_s_1 + 1.0*x_s_2 <= -0.1), ParameterConstraint(-1.0*x_s_2 + 1.0*x_s_3 <= -0.1), ParameterConstraint(-1.0*x_r2 + 1.0*x_r2_1 <= -0.1), ParameterConstraint(-1.0*x_r2_1 + 1.0*x_r2_2 <= -0.1), ParameterConstraint(-1.0*x_r2_2 + 1.0*x_r2_3 <= -0.1)])\n",
      "[WARNING 04-10 16:12:32] ax.modelbridge.transforms.int_to_float: Unable to round {'z_sh': np.float64(12.0), 'z_sh_1': np.float64(10.0), 'z_sh_2': np.float64(9.0), 'z_sh_3': np.float64(6.0), 'z_r2': np.float64(77.0), 'z_r2_1': np.float64(75.0), 'z_r2_2': np.float64(74.0), 'z_r2_3': np.float64(72.0), 'x_s': np.float64(0.4841759182512759), 'x_s_1': np.float64(0.2068885780870915), 'x_s_2': np.float64(0.06391407474875455), 'x_s_3': np.float64(-0.539103775843978), 'x_r2': np.float64(0.1517932187765837), 'x_r2_1': np.float64(0.04486789563670757), 'x_r2_2': np.float64(-0.27714344998821616), 'x_r2_3': np.float64(-0.47456035213544967)}to meet parameter constraints of SearchSpace(parameters=[RangeParameter(name='z_sh', parameter_type=INT, range=[9, 12]), RangeParameter(name='z_sh_1', parameter_type=INT, range=[8, 11]), RangeParameter(name='z_sh_2', parameter_type=INT, range=[7, 10]), RangeParameter(name='z_sh_3', parameter_type=INT, range=[6, 9]), RangeParameter(name='z_r2', parameter_type=INT, range=[73, 86]), RangeParameter(name='z_r2_1', parameter_type=INT, range=[72, 85]), RangeParameter(name='z_r2_2', parameter_type=INT, range=[71, 84]), RangeParameter(name='z_r2_3', parameter_type=INT, range=[70, 83]), RangeParameter(name='x_s', parameter_type=FLOAT, range=[0.0, 1.0]), RangeParameter(name='x_s_1', parameter_type=FLOAT, range=[0.0, 1.0]), RangeParameter(name='x_s_2', parameter_type=FLOAT, range=[0.0, 1.0]), RangeParameter(name='x_s_3', parameter_type=FLOAT, range=[0.0, 1.0]), RangeParameter(name='x_r2', parameter_type=FLOAT, range=[0.0, 1.0]), RangeParameter(name='x_r2_1', parameter_type=FLOAT, range=[0.0, 1.0]), RangeParameter(name='x_r2_2', parameter_type=FLOAT, range=[0.0, 1.0]), RangeParameter(name='x_r2_3', parameter_type=FLOAT, range=[0.0, 1.0])], parameter_constraints=[ParameterConstraint(-1.0*z_sh + 1.0*z_sh_1 <= -1.0), ParameterConstraint(-1.0*z_sh_1 + 1.0*z_sh_2 <= -1.0), ParameterConstraint(-1.0*z_sh_2 + 1.0*z_sh_3 <= -1.0), ParameterConstraint(-1.0*z_r2 + 1.0*z_r2_1 <= -1.0), ParameterConstraint(-1.0*z_r2_1 + 1.0*z_r2_2 <= -1.0), ParameterConstraint(-1.0*z_r2_2 + 1.0*z_r2_3 <= -1.0), ParameterConstraint(-1.0*x_s + 1.0*x_s_1 <= -0.1), ParameterConstraint(-1.0*x_s_1 + 1.0*x_s_2 <= -0.1), ParameterConstraint(-1.0*x_s_2 + 1.0*x_s_3 <= -0.1), ParameterConstraint(-1.0*x_r2 + 1.0*x_r2_1 <= -0.1), ParameterConstraint(-1.0*x_r2_1 + 1.0*x_r2_2 <= -0.1), ParameterConstraint(-1.0*x_r2_2 + 1.0*x_r2_3 <= -0.1)])\n",
      "[INFO 04-10 16:12:32] ax.service.ax_client: Generated new trial 23 with parameters {'z_sh': 12, 'z_sh_1': 10, 'z_sh_2': 9, 'z_sh_3': 6, 'z_r2': 77, 'z_r2_1': 75, 'z_r2_2': 74, 'z_r2_3': 72, 'x_s': 0.484176, 'x_s_1': 0.206889, 'x_s_2': 0.063914, 'x_s_3': -0.539104, 'x_r2': 0.151793, 'x_r2_1': 0.044868, 'x_r2_2': -0.277143, 'x_r2_3': -0.47456} using model Sobol.\n",
      "[INFO 04-10 16:12:32] ax.service.ax_client: Completed trial 23 with data: {'Cross_term_gear_ratio_product': (np.float64(22589.740913), None)}.\n",
      "[WARNING 04-10 16:12:36] ax.modelbridge.transforms.int_to_float: Unable to round {'z_sh': 10.960355170513168, 'z_sh_1': 9.834854213759433, 'z_sh_2': 8.035764795128479, 'z_sh_3': 5.993151174740381, 'z_r2': 82.88343401447497, 'z_r2_1': 79.9141074091882, 'z_r2_2': 74.92015043392823, 'z_r2_3': 71.52286292288969, 'x_s': 0.046460183989256665, 'x_s_1': -0.1466471271589398, 'x_s_2': -0.7014952475205064, 'x_s_3': -0.85929120387882, 'x_r2': -0.04527880949899554, 'x_r2_1': -0.21530350558459754, 'x_r2_2': -0.4488550880923867, 'x_r2_3': -0.9501751371659338}to meet parameter constraints of SearchSpace(parameters=[RangeParameter(name='z_sh', parameter_type=INT, range=[9, 12]), RangeParameter(name='z_sh_1', parameter_type=INT, range=[8, 11]), RangeParameter(name='z_sh_2', parameter_type=INT, range=[7, 10]), RangeParameter(name='z_sh_3', parameter_type=INT, range=[6, 9]), RangeParameter(name='z_r2', parameter_type=INT, range=[73, 86]), RangeParameter(name='z_r2_1', parameter_type=INT, range=[72, 85]), RangeParameter(name='z_r2_2', parameter_type=INT, range=[71, 84]), RangeParameter(name='z_r2_3', parameter_type=INT, range=[70, 83]), RangeParameter(name='x_s', parameter_type=FLOAT, range=[0.0, 1.0]), RangeParameter(name='x_s_1', parameter_type=FLOAT, range=[0.0, 1.0]), RangeParameter(name='x_s_2', parameter_type=FLOAT, range=[0.0, 1.0]), RangeParameter(name='x_s_3', parameter_type=FLOAT, range=[0.0, 1.0]), RangeParameter(name='x_r2', parameter_type=FLOAT, range=[0.0, 1.0]), RangeParameter(name='x_r2_1', parameter_type=FLOAT, range=[0.0, 1.0]), RangeParameter(name='x_r2_2', parameter_type=FLOAT, range=[0.0, 1.0]), RangeParameter(name='x_r2_3', parameter_type=FLOAT, range=[0.0, 1.0])], parameter_constraints=[ParameterConstraint(-1.0*z_sh + 1.0*z_sh_1 <= -1.0), ParameterConstraint(-1.0*z_sh_1 + 1.0*z_sh_2 <= -1.0), ParameterConstraint(-1.0*z_sh_2 + 1.0*z_sh_3 <= -1.0), ParameterConstraint(-1.0*z_r2 + 1.0*z_r2_1 <= -1.0), ParameterConstraint(-1.0*z_r2_1 + 1.0*z_r2_2 <= -1.0), ParameterConstraint(-1.0*z_r2_2 + 1.0*z_r2_3 <= -1.0), ParameterConstraint(-1.0*x_s + 1.0*x_s_1 <= -0.1), ParameterConstraint(-1.0*x_s_1 + 1.0*x_s_2 <= -0.1), ParameterConstraint(-1.0*x_s_2 + 1.0*x_s_3 <= -0.1), ParameterConstraint(-1.0*x_r2 + 1.0*x_r2_1 <= -0.1), ParameterConstraint(-1.0*x_r2_1 + 1.0*x_r2_2 <= -0.1), ParameterConstraint(-1.0*x_r2_2 + 1.0*x_r2_3 <= -0.1)])\n",
      "[WARNING 04-10 16:12:36] ax.modelbridge.transforms.int_to_float: Unable to round {'z_sh': np.float64(11.0), 'z_sh_1': np.float64(10.0), 'z_sh_2': np.float64(8.0), 'z_sh_3': np.float64(6.0), 'z_r2': np.float64(83.0), 'z_r2_1': np.float64(80.0), 'z_r2_2': np.float64(75.0), 'z_r2_3': np.float64(72.0), 'x_s': np.float64(0.046460183989256665), 'x_s_1': np.float64(-0.1466471271589398), 'x_s_2': np.float64(-0.7014952475205064), 'x_s_3': np.float64(-0.85929120387882), 'x_r2': np.float64(-0.04527880949899554), 'x_r2_1': np.float64(-0.21530350558459754), 'x_r2_2': np.float64(-0.4488550880923867), 'x_r2_3': np.float64(-0.9501751371659338)}to meet parameter constraints of SearchSpace(parameters=[RangeParameter(name='z_sh', parameter_type=INT, range=[9, 12]), RangeParameter(name='z_sh_1', parameter_type=INT, range=[8, 11]), RangeParameter(name='z_sh_2', parameter_type=INT, range=[7, 10]), RangeParameter(name='z_sh_3', parameter_type=INT, range=[6, 9]), RangeParameter(name='z_r2', parameter_type=INT, range=[73, 86]), RangeParameter(name='z_r2_1', parameter_type=INT, range=[72, 85]), RangeParameter(name='z_r2_2', parameter_type=INT, range=[71, 84]), RangeParameter(name='z_r2_3', parameter_type=INT, range=[70, 83]), RangeParameter(name='x_s', parameter_type=FLOAT, range=[0.0, 1.0]), RangeParameter(name='x_s_1', parameter_type=FLOAT, range=[0.0, 1.0]), RangeParameter(name='x_s_2', parameter_type=FLOAT, range=[0.0, 1.0]), RangeParameter(name='x_s_3', parameter_type=FLOAT, range=[0.0, 1.0]), RangeParameter(name='x_r2', parameter_type=FLOAT, range=[0.0, 1.0]), RangeParameter(name='x_r2_1', parameter_type=FLOAT, range=[0.0, 1.0]), RangeParameter(name='x_r2_2', parameter_type=FLOAT, range=[0.0, 1.0]), RangeParameter(name='x_r2_3', parameter_type=FLOAT, range=[0.0, 1.0])], parameter_constraints=[ParameterConstraint(-1.0*z_sh + 1.0*z_sh_1 <= -1.0), ParameterConstraint(-1.0*z_sh_1 + 1.0*z_sh_2 <= -1.0), ParameterConstraint(-1.0*z_sh_2 + 1.0*z_sh_3 <= -1.0), ParameterConstraint(-1.0*z_r2 + 1.0*z_r2_1 <= -1.0), ParameterConstraint(-1.0*z_r2_1 + 1.0*z_r2_2 <= -1.0), ParameterConstraint(-1.0*z_r2_2 + 1.0*z_r2_3 <= -1.0), ParameterConstraint(-1.0*x_s + 1.0*x_s_1 <= -0.1), ParameterConstraint(-1.0*x_s_1 + 1.0*x_s_2 <= -0.1), ParameterConstraint(-1.0*x_s_2 + 1.0*x_s_3 <= -0.1), ParameterConstraint(-1.0*x_r2 + 1.0*x_r2_1 <= -0.1), ParameterConstraint(-1.0*x_r2_1 + 1.0*x_r2_2 <= -0.1), ParameterConstraint(-1.0*x_r2_2 + 1.0*x_r2_3 <= -0.1)])\n",
      "[INFO 04-10 16:12:36] ax.service.ax_client: Generated new trial 24 with parameters {'z_sh': 11, 'z_sh_1': 10, 'z_sh_2': 8, 'z_sh_3': 6, 'z_r2': 83, 'z_r2_1': 80, 'z_r2_2': 75, 'z_r2_3': 72, 'x_s': 0.04646, 'x_s_1': -0.146647, 'x_s_2': -0.701495, 'x_s_3': -0.859291, 'x_r2': -0.045279, 'x_r2_1': -0.215304, 'x_r2_2': -0.448855, 'x_r2_3': -0.950175} using model Sobol.\n",
      "[INFO 04-10 16:12:36] ax.service.ax_client: Completed trial 24 with data: {'Cross_term_gear_ratio_product': (np.float64(12033.342215), None)}.\n",
      "[WARNING 04-10 16:12:37] ax.modelbridge.transforms.int_to_float: Unable to round {'z_sh': 12.326395528916866, 'z_sh_1': 11.275988922626153, 'z_sh_2': 8.901399900196045, 'z_sh_3': 7.704041045678314, 'z_r2': 85.19991931019817, 'z_r2_1': 83.87668667975599, 'z_r2_2': 81.3040396430632, 'z_r2_3': 75.98816319659002, 'x_s': 0.1612623090855777, 'x_s_1': 0.05346420761197812, 'x_s_2': -0.49461564943194386, 'x_s_3': -0.710361472889781, 'x_r2': 0.3554913726635278, 'x_r2_1': -0.5466340066865087, 'x_r2_2': -0.7642373715527355, 'x_r2_3': -0.9772052289918065}to meet parameter constraints of SearchSpace(parameters=[RangeParameter(name='z_sh', parameter_type=INT, range=[9, 12]), RangeParameter(name='z_sh_1', parameter_type=INT, range=[8, 11]), RangeParameter(name='z_sh_2', parameter_type=INT, range=[7, 10]), RangeParameter(name='z_sh_3', parameter_type=INT, range=[6, 9]), RangeParameter(name='z_r2', parameter_type=INT, range=[73, 86]), RangeParameter(name='z_r2_1', parameter_type=INT, range=[72, 85]), RangeParameter(name='z_r2_2', parameter_type=INT, range=[71, 84]), RangeParameter(name='z_r2_3', parameter_type=INT, range=[70, 83]), RangeParameter(name='x_s', parameter_type=FLOAT, range=[0.0, 1.0]), RangeParameter(name='x_s_1', parameter_type=FLOAT, range=[0.0, 1.0]), RangeParameter(name='x_s_2', parameter_type=FLOAT, range=[0.0, 1.0]), RangeParameter(name='x_s_3', parameter_type=FLOAT, range=[0.0, 1.0]), RangeParameter(name='x_r2', parameter_type=FLOAT, range=[0.0, 1.0]), RangeParameter(name='x_r2_1', parameter_type=FLOAT, range=[0.0, 1.0]), RangeParameter(name='x_r2_2', parameter_type=FLOAT, range=[0.0, 1.0]), RangeParameter(name='x_r2_3', parameter_type=FLOAT, range=[0.0, 1.0])], parameter_constraints=[ParameterConstraint(-1.0*z_sh + 1.0*z_sh_1 <= -1.0), ParameterConstraint(-1.0*z_sh_1 + 1.0*z_sh_2 <= -1.0), ParameterConstraint(-1.0*z_sh_2 + 1.0*z_sh_3 <= -1.0), ParameterConstraint(-1.0*z_r2 + 1.0*z_r2_1 <= -1.0), ParameterConstraint(-1.0*z_r2_1 + 1.0*z_r2_2 <= -1.0), ParameterConstraint(-1.0*z_r2_2 + 1.0*z_r2_3 <= -1.0), ParameterConstraint(-1.0*x_s + 1.0*x_s_1 <= -0.1), ParameterConstraint(-1.0*x_s_1 + 1.0*x_s_2 <= -0.1), ParameterConstraint(-1.0*x_s_2 + 1.0*x_s_3 <= -0.1), ParameterConstraint(-1.0*x_r2 + 1.0*x_r2_1 <= -0.1), ParameterConstraint(-1.0*x_r2_1 + 1.0*x_r2_2 <= -0.1), ParameterConstraint(-1.0*x_r2_2 + 1.0*x_r2_3 <= -0.1)])\n",
      "[WARNING 04-10 16:12:37] ax.modelbridge.transforms.int_to_float: Unable to round {'z_sh': np.float64(12.0), 'z_sh_1': np.float64(11.0), 'z_sh_2': np.float64(9.0), 'z_sh_3': np.float64(8.0), 'z_r2': np.float64(85.0), 'z_r2_1': np.float64(84.0), 'z_r2_2': np.float64(81.0), 'z_r2_3': np.float64(76.0), 'x_s': np.float64(0.1612623090855777), 'x_s_1': np.float64(0.05346420761197812), 'x_s_2': np.float64(-0.49461564943194386), 'x_s_3': np.float64(-0.710361472889781), 'x_r2': np.float64(0.3554913726635278), 'x_r2_1': np.float64(-0.5466340066865087), 'x_r2_2': np.float64(-0.7642373715527355), 'x_r2_3': np.float64(-0.9772052289918065)}to meet parameter constraints of SearchSpace(parameters=[RangeParameter(name='z_sh', parameter_type=INT, range=[9, 12]), RangeParameter(name='z_sh_1', parameter_type=INT, range=[8, 11]), RangeParameter(name='z_sh_2', parameter_type=INT, range=[7, 10]), RangeParameter(name='z_sh_3', parameter_type=INT, range=[6, 9]), RangeParameter(name='z_r2', parameter_type=INT, range=[73, 86]), RangeParameter(name='z_r2_1', parameter_type=INT, range=[72, 85]), RangeParameter(name='z_r2_2', parameter_type=INT, range=[71, 84]), RangeParameter(name='z_r2_3', parameter_type=INT, range=[70, 83]), RangeParameter(name='x_s', parameter_type=FLOAT, range=[0.0, 1.0]), RangeParameter(name='x_s_1', parameter_type=FLOAT, range=[0.0, 1.0]), RangeParameter(name='x_s_2', parameter_type=FLOAT, range=[0.0, 1.0]), RangeParameter(name='x_s_3', parameter_type=FLOAT, range=[0.0, 1.0]), RangeParameter(name='x_r2', parameter_type=FLOAT, range=[0.0, 1.0]), RangeParameter(name='x_r2_1', parameter_type=FLOAT, range=[0.0, 1.0]), RangeParameter(name='x_r2_2', parameter_type=FLOAT, range=[0.0, 1.0]), RangeParameter(name='x_r2_3', parameter_type=FLOAT, range=[0.0, 1.0])], parameter_constraints=[ParameterConstraint(-1.0*z_sh + 1.0*z_sh_1 <= -1.0), ParameterConstraint(-1.0*z_sh_1 + 1.0*z_sh_2 <= -1.0), ParameterConstraint(-1.0*z_sh_2 + 1.0*z_sh_3 <= -1.0), ParameterConstraint(-1.0*z_r2 + 1.0*z_r2_1 <= -1.0), ParameterConstraint(-1.0*z_r2_1 + 1.0*z_r2_2 <= -1.0), ParameterConstraint(-1.0*z_r2_2 + 1.0*z_r2_3 <= -1.0), ParameterConstraint(-1.0*x_s + 1.0*x_s_1 <= -0.1), ParameterConstraint(-1.0*x_s_1 + 1.0*x_s_2 <= -0.1), ParameterConstraint(-1.0*x_s_2 + 1.0*x_s_3 <= -0.1), ParameterConstraint(-1.0*x_r2 + 1.0*x_r2_1 <= -0.1), ParameterConstraint(-1.0*x_r2_1 + 1.0*x_r2_2 <= -0.1), ParameterConstraint(-1.0*x_r2_2 + 1.0*x_r2_3 <= -0.1)])\n",
      "[INFO 04-10 16:12:37] ax.service.ax_client: Generated new trial 25 with parameters {'z_sh': 12, 'z_sh_1': 11, 'z_sh_2': 9, 'z_sh_3': 8, 'z_r2': 85, 'z_r2_1': 84, 'z_r2_2': 81, 'z_r2_3': 76, 'x_s': 0.161262, 'x_s_1': 0.053464, 'x_s_2': -0.494616, 'x_s_3': -0.710361, 'x_r2': 0.355491, 'x_r2_1': -0.546634, 'x_r2_2': -0.764237, 'x_r2_3': -0.977205} using model Sobol.\n",
      "[INFO 04-10 16:12:37] ax.service.ax_client: Completed trial 25 with data: {'Cross_term_gear_ratio_product': (np.float64(4946.405209), None)}.\n",
      "[WARNING 04-10 16:12:42] ax.modelbridge.transforms.int_to_float: Unable to round {'z_sh': 12.066088195970263, 'z_sh_1': 10.504721445884407, 'z_sh_2': 9.097258900734278, 'z_sh_3': 6.070910361041259, 'z_r2': 83.76758616777894, 'z_r2_1': 82.07726964983885, 'z_r2_2': 73.64290034815554, 'z_r2_3': 71.79505518172368, 'x_s': 0.8011126602999865, 'x_s_1': -0.265600907895714, 'x_s_2': -0.483543923869729, 'x_s_3': -0.703877052757889, 'x_r2': 0.6684418071992695, 'x_r2_1': 0.5677727945148945, 'x_r2_2': -0.23734603850170966, 'x_r2_3': -0.6583403849042953}to meet parameter constraints of SearchSpace(parameters=[RangeParameter(name='z_sh', parameter_type=INT, range=[9, 12]), RangeParameter(name='z_sh_1', parameter_type=INT, range=[8, 11]), RangeParameter(name='z_sh_2', parameter_type=INT, range=[7, 10]), RangeParameter(name='z_sh_3', parameter_type=INT, range=[6, 9]), RangeParameter(name='z_r2', parameter_type=INT, range=[73, 86]), RangeParameter(name='z_r2_1', parameter_type=INT, range=[72, 85]), RangeParameter(name='z_r2_2', parameter_type=INT, range=[71, 84]), RangeParameter(name='z_r2_3', parameter_type=INT, range=[70, 83]), RangeParameter(name='x_s', parameter_type=FLOAT, range=[0.0, 1.0]), RangeParameter(name='x_s_1', parameter_type=FLOAT, range=[0.0, 1.0]), RangeParameter(name='x_s_2', parameter_type=FLOAT, range=[0.0, 1.0]), RangeParameter(name='x_s_3', parameter_type=FLOAT, range=[0.0, 1.0]), RangeParameter(name='x_r2', parameter_type=FLOAT, range=[0.0, 1.0]), RangeParameter(name='x_r2_1', parameter_type=FLOAT, range=[0.0, 1.0]), RangeParameter(name='x_r2_2', parameter_type=FLOAT, range=[0.0, 1.0]), RangeParameter(name='x_r2_3', parameter_type=FLOAT, range=[0.0, 1.0])], parameter_constraints=[ParameterConstraint(-1.0*z_sh + 1.0*z_sh_1 <= -1.0), ParameterConstraint(-1.0*z_sh_1 + 1.0*z_sh_2 <= -1.0), ParameterConstraint(-1.0*z_sh_2 + 1.0*z_sh_3 <= -1.0), ParameterConstraint(-1.0*z_r2 + 1.0*z_r2_1 <= -1.0), ParameterConstraint(-1.0*z_r2_1 + 1.0*z_r2_2 <= -1.0), ParameterConstraint(-1.0*z_r2_2 + 1.0*z_r2_3 <= -1.0), ParameterConstraint(-1.0*x_s + 1.0*x_s_1 <= -0.1), ParameterConstraint(-1.0*x_s_1 + 1.0*x_s_2 <= -0.1), ParameterConstraint(-1.0*x_s_2 + 1.0*x_s_3 <= -0.1), ParameterConstraint(-1.0*x_r2 + 1.0*x_r2_1 <= -0.1), ParameterConstraint(-1.0*x_r2_1 + 1.0*x_r2_2 <= -0.1), ParameterConstraint(-1.0*x_r2_2 + 1.0*x_r2_3 <= -0.1)])\n",
      "[WARNING 04-10 16:12:42] ax.modelbridge.transforms.int_to_float: Unable to round {'z_sh': np.float64(12.0), 'z_sh_1': np.float64(11.0), 'z_sh_2': np.float64(9.0), 'z_sh_3': np.float64(6.0), 'z_r2': np.float64(84.0), 'z_r2_1': np.float64(82.0), 'z_r2_2': np.float64(74.0), 'z_r2_3': np.float64(72.0), 'x_s': np.float64(0.8011126602999865), 'x_s_1': np.float64(-0.265600907895714), 'x_s_2': np.float64(-0.483543923869729), 'x_s_3': np.float64(-0.703877052757889), 'x_r2': np.float64(0.6684418071992695), 'x_r2_1': np.float64(0.5677727945148945), 'x_r2_2': np.float64(-0.23734603850170966), 'x_r2_3': np.float64(-0.6583403849042953)}to meet parameter constraints of SearchSpace(parameters=[RangeParameter(name='z_sh', parameter_type=INT, range=[9, 12]), RangeParameter(name='z_sh_1', parameter_type=INT, range=[8, 11]), RangeParameter(name='z_sh_2', parameter_type=INT, range=[7, 10]), RangeParameter(name='z_sh_3', parameter_type=INT, range=[6, 9]), RangeParameter(name='z_r2', parameter_type=INT, range=[73, 86]), RangeParameter(name='z_r2_1', parameter_type=INT, range=[72, 85]), RangeParameter(name='z_r2_2', parameter_type=INT, range=[71, 84]), RangeParameter(name='z_r2_3', parameter_type=INT, range=[70, 83]), RangeParameter(name='x_s', parameter_type=FLOAT, range=[0.0, 1.0]), RangeParameter(name='x_s_1', parameter_type=FLOAT, range=[0.0, 1.0]), RangeParameter(name='x_s_2', parameter_type=FLOAT, range=[0.0, 1.0]), RangeParameter(name='x_s_3', parameter_type=FLOAT, range=[0.0, 1.0]), RangeParameter(name='x_r2', parameter_type=FLOAT, range=[0.0, 1.0]), RangeParameter(name='x_r2_1', parameter_type=FLOAT, range=[0.0, 1.0]), RangeParameter(name='x_r2_2', parameter_type=FLOAT, range=[0.0, 1.0]), RangeParameter(name='x_r2_3', parameter_type=FLOAT, range=[0.0, 1.0])], parameter_constraints=[ParameterConstraint(-1.0*z_sh + 1.0*z_sh_1 <= -1.0), ParameterConstraint(-1.0*z_sh_1 + 1.0*z_sh_2 <= -1.0), ParameterConstraint(-1.0*z_sh_2 + 1.0*z_sh_3 <= -1.0), ParameterConstraint(-1.0*z_r2 + 1.0*z_r2_1 <= -1.0), ParameterConstraint(-1.0*z_r2_1 + 1.0*z_r2_2 <= -1.0), ParameterConstraint(-1.0*z_r2_2 + 1.0*z_r2_3 <= -1.0), ParameterConstraint(-1.0*x_s + 1.0*x_s_1 <= -0.1), ParameterConstraint(-1.0*x_s_1 + 1.0*x_s_2 <= -0.1), ParameterConstraint(-1.0*x_s_2 + 1.0*x_s_3 <= -0.1), ParameterConstraint(-1.0*x_r2 + 1.0*x_r2_1 <= -0.1), ParameterConstraint(-1.0*x_r2_1 + 1.0*x_r2_2 <= -0.1), ParameterConstraint(-1.0*x_r2_2 + 1.0*x_r2_3 <= -0.1)])\n",
      "[INFO 04-10 16:12:43] ax.service.ax_client: Generated new trial 26 with parameters {'z_sh': 12, 'z_sh_1': 11, 'z_sh_2': 9, 'z_sh_3': 6, 'z_r2': 84, 'z_r2_1': 82, 'z_r2_2': 74, 'z_r2_3': 72, 'x_s': 0.801113, 'x_s_1': -0.265601, 'x_s_2': -0.483544, 'x_s_3': -0.703877, 'x_r2': 0.668442, 'x_r2_1': 0.567773, 'x_r2_2': -0.237346, 'x_r2_3': -0.65834} using model Sobol.\n",
      "[INFO 04-10 16:12:43] ax.service.ax_client: Completed trial 26 with data: {'Cross_term_gear_ratio_product': (np.float64(12223.449173), None)}.\n",
      "[WARNING 04-10 16:12:55] ax.modelbridge.transforms.int_to_float: Unable to round {'z_sh': 11.493269614314382, 'z_sh_1': 9.725159368644283, 'z_sh_2': 8.327886011483669, 'z_sh_3': 6.876163159697577, 'z_r2': 83.64792315421768, 'z_r2_1': 82.47209412709718, 'z_r2_2': 77.9343991723534, 'z_r2_3': 71.09831734722863, 'x_s': 0.8173316719941794, 'x_s_1': 0.5750886211171746, 'x_s_2': 0.014747904986143201, 'x_s_3': -0.1863349929451943, 'x_r2': 0.9004057846032083, 'x_r2_1': 0.6184673974290491, 'x_r2_2': -0.17911155875772233, 'x_r2_3': -0.9724804675206542}to meet parameter constraints of SearchSpace(parameters=[RangeParameter(name='z_sh', parameter_type=INT, range=[9, 12]), RangeParameter(name='z_sh_1', parameter_type=INT, range=[8, 11]), RangeParameter(name='z_sh_2', parameter_type=INT, range=[7, 10]), RangeParameter(name='z_sh_3', parameter_type=INT, range=[6, 9]), RangeParameter(name='z_r2', parameter_type=INT, range=[73, 86]), RangeParameter(name='z_r2_1', parameter_type=INT, range=[72, 85]), RangeParameter(name='z_r2_2', parameter_type=INT, range=[71, 84]), RangeParameter(name='z_r2_3', parameter_type=INT, range=[70, 83]), RangeParameter(name='x_s', parameter_type=FLOAT, range=[0.0, 1.0]), RangeParameter(name='x_s_1', parameter_type=FLOAT, range=[0.0, 1.0]), RangeParameter(name='x_s_2', parameter_type=FLOAT, range=[0.0, 1.0]), RangeParameter(name='x_s_3', parameter_type=FLOAT, range=[0.0, 1.0]), RangeParameter(name='x_r2', parameter_type=FLOAT, range=[0.0, 1.0]), RangeParameter(name='x_r2_1', parameter_type=FLOAT, range=[0.0, 1.0]), RangeParameter(name='x_r2_2', parameter_type=FLOAT, range=[0.0, 1.0]), RangeParameter(name='x_r2_3', parameter_type=FLOAT, range=[0.0, 1.0])], parameter_constraints=[ParameterConstraint(-1.0*z_sh + 1.0*z_sh_1 <= -1.0), ParameterConstraint(-1.0*z_sh_1 + 1.0*z_sh_2 <= -1.0), ParameterConstraint(-1.0*z_sh_2 + 1.0*z_sh_3 <= -1.0), ParameterConstraint(-1.0*z_r2 + 1.0*z_r2_1 <= -1.0), ParameterConstraint(-1.0*z_r2_1 + 1.0*z_r2_2 <= -1.0), ParameterConstraint(-1.0*z_r2_2 + 1.0*z_r2_3 <= -1.0), ParameterConstraint(-1.0*x_s + 1.0*x_s_1 <= -0.1), ParameterConstraint(-1.0*x_s_1 + 1.0*x_s_2 <= -0.1), ParameterConstraint(-1.0*x_s_2 + 1.0*x_s_3 <= -0.1), ParameterConstraint(-1.0*x_r2 + 1.0*x_r2_1 <= -0.1), ParameterConstraint(-1.0*x_r2_1 + 1.0*x_r2_2 <= -0.1), ParameterConstraint(-1.0*x_r2_2 + 1.0*x_r2_3 <= -0.1)])\n",
      "[WARNING 04-10 16:12:56] ax.modelbridge.transforms.int_to_float: Unable to round {'z_sh': np.float64(11.0), 'z_sh_1': np.float64(10.0), 'z_sh_2': np.float64(8.0), 'z_sh_3': np.float64(7.0), 'z_r2': np.float64(84.0), 'z_r2_1': np.float64(82.0), 'z_r2_2': np.float64(78.0), 'z_r2_3': np.float64(71.0), 'x_s': np.float64(0.8173316719941794), 'x_s_1': np.float64(0.5750886211171746), 'x_s_2': np.float64(0.014747904986143201), 'x_s_3': np.float64(-0.1863349929451943), 'x_r2': np.float64(0.9004057846032083), 'x_r2_1': np.float64(0.6184673974290491), 'x_r2_2': np.float64(-0.17911155875772233), 'x_r2_3': np.float64(-0.9724804675206542)}to meet parameter constraints of SearchSpace(parameters=[RangeParameter(name='z_sh', parameter_type=INT, range=[9, 12]), RangeParameter(name='z_sh_1', parameter_type=INT, range=[8, 11]), RangeParameter(name='z_sh_2', parameter_type=INT, range=[7, 10]), RangeParameter(name='z_sh_3', parameter_type=INT, range=[6, 9]), RangeParameter(name='z_r2', parameter_type=INT, range=[73, 86]), RangeParameter(name='z_r2_1', parameter_type=INT, range=[72, 85]), RangeParameter(name='z_r2_2', parameter_type=INT, range=[71, 84]), RangeParameter(name='z_r2_3', parameter_type=INT, range=[70, 83]), RangeParameter(name='x_s', parameter_type=FLOAT, range=[0.0, 1.0]), RangeParameter(name='x_s_1', parameter_type=FLOAT, range=[0.0, 1.0]), RangeParameter(name='x_s_2', parameter_type=FLOAT, range=[0.0, 1.0]), RangeParameter(name='x_s_3', parameter_type=FLOAT, range=[0.0, 1.0]), RangeParameter(name='x_r2', parameter_type=FLOAT, range=[0.0, 1.0]), RangeParameter(name='x_r2_1', parameter_type=FLOAT, range=[0.0, 1.0]), RangeParameter(name='x_r2_2', parameter_type=FLOAT, range=[0.0, 1.0]), RangeParameter(name='x_r2_3', parameter_type=FLOAT, range=[0.0, 1.0])], parameter_constraints=[ParameterConstraint(-1.0*z_sh + 1.0*z_sh_1 <= -1.0), ParameterConstraint(-1.0*z_sh_1 + 1.0*z_sh_2 <= -1.0), ParameterConstraint(-1.0*z_sh_2 + 1.0*z_sh_3 <= -1.0), ParameterConstraint(-1.0*z_r2 + 1.0*z_r2_1 <= -1.0), ParameterConstraint(-1.0*z_r2_1 + 1.0*z_r2_2 <= -1.0), ParameterConstraint(-1.0*z_r2_2 + 1.0*z_r2_3 <= -1.0), ParameterConstraint(-1.0*x_s + 1.0*x_s_1 <= -0.1), ParameterConstraint(-1.0*x_s_1 + 1.0*x_s_2 <= -0.1), ParameterConstraint(-1.0*x_s_2 + 1.0*x_s_3 <= -0.1), ParameterConstraint(-1.0*x_r2 + 1.0*x_r2_1 <= -0.1), ParameterConstraint(-1.0*x_r2_1 + 1.0*x_r2_2 <= -0.1), ParameterConstraint(-1.0*x_r2_2 + 1.0*x_r2_3 <= -0.1)])\n",
      "[INFO 04-10 16:12:56] ax.service.ax_client: Generated new trial 27 with parameters {'z_sh': 11, 'z_sh_1': 10, 'z_sh_2': 8, 'z_sh_3': 7, 'z_r2': 84, 'z_r2_1': 82, 'z_r2_2': 78, 'z_r2_3': 71, 'x_s': 0.817332, 'x_s_1': 0.575089, 'x_s_2': 0.014748, 'x_s_3': -0.186335, 'x_r2': 0.900406, 'x_r2_1': 0.618467, 'x_r2_2': -0.179112, 'x_r2_3': -0.97248} using model Sobol.\n",
      "[INFO 04-10 16:12:56] ax.service.ax_client: Completed trial 27 with data: {'Cross_term_gear_ratio_product': (np.float64(7363.860512), None)}.\n",
      "[WARNING 04-10 16:12:57] ax.modelbridge.transforms.int_to_float: Unable to round {'z_sh': 12.142915416155867, 'z_sh_1': 11.039975207559504, 'z_sh_2': 9.661360078458097, 'z_sh_3': 6.557399027585741, 'z_r2': 81.21966840342415, 'z_r2_1': 77.80944135716285, 'z_r2_2': 74.27589505493277, 'z_r2_3': 70.83149019538925, 'x_s': 0.24000060576945548, 'x_s_1': -0.24354227613657708, 'x_s_2': -0.4940158041194081, 'x_s_3': -0.6912745049223303, 'x_r2': 0.8760942980647086, 'x_r2_1': -0.11758206244558089, 'x_r2_2': -0.3464631334878504, 'x_r2_3': -0.9471113172359764}to meet parameter constraints of SearchSpace(parameters=[RangeParameter(name='z_sh', parameter_type=INT, range=[9, 12]), RangeParameter(name='z_sh_1', parameter_type=INT, range=[8, 11]), RangeParameter(name='z_sh_2', parameter_type=INT, range=[7, 10]), RangeParameter(name='z_sh_3', parameter_type=INT, range=[6, 9]), RangeParameter(name='z_r2', parameter_type=INT, range=[73, 86]), RangeParameter(name='z_r2_1', parameter_type=INT, range=[72, 85]), RangeParameter(name='z_r2_2', parameter_type=INT, range=[71, 84]), RangeParameter(name='z_r2_3', parameter_type=INT, range=[70, 83]), RangeParameter(name='x_s', parameter_type=FLOAT, range=[0.0, 1.0]), RangeParameter(name='x_s_1', parameter_type=FLOAT, range=[0.0, 1.0]), RangeParameter(name='x_s_2', parameter_type=FLOAT, range=[0.0, 1.0]), RangeParameter(name='x_s_3', parameter_type=FLOAT, range=[0.0, 1.0]), RangeParameter(name='x_r2', parameter_type=FLOAT, range=[0.0, 1.0]), RangeParameter(name='x_r2_1', parameter_type=FLOAT, range=[0.0, 1.0]), RangeParameter(name='x_r2_2', parameter_type=FLOAT, range=[0.0, 1.0]), RangeParameter(name='x_r2_3', parameter_type=FLOAT, range=[0.0, 1.0])], parameter_constraints=[ParameterConstraint(-1.0*z_sh + 1.0*z_sh_1 <= -1.0), ParameterConstraint(-1.0*z_sh_1 + 1.0*z_sh_2 <= -1.0), ParameterConstraint(-1.0*z_sh_2 + 1.0*z_sh_3 <= -1.0), ParameterConstraint(-1.0*z_r2 + 1.0*z_r2_1 <= -1.0), ParameterConstraint(-1.0*z_r2_1 + 1.0*z_r2_2 <= -1.0), ParameterConstraint(-1.0*z_r2_2 + 1.0*z_r2_3 <= -1.0), ParameterConstraint(-1.0*x_s + 1.0*x_s_1 <= -0.1), ParameterConstraint(-1.0*x_s_1 + 1.0*x_s_2 <= -0.1), ParameterConstraint(-1.0*x_s_2 + 1.0*x_s_3 <= -0.1), ParameterConstraint(-1.0*x_r2 + 1.0*x_r2_1 <= -0.1), ParameterConstraint(-1.0*x_r2_1 + 1.0*x_r2_2 <= -0.1), ParameterConstraint(-1.0*x_r2_2 + 1.0*x_r2_3 <= -0.1)])\n",
      "[WARNING 04-10 16:12:57] ax.modelbridge.transforms.int_to_float: Unable to round {'z_sh': np.float64(12.0), 'z_sh_1': np.float64(11.0), 'z_sh_2': np.float64(10.0), 'z_sh_3': np.float64(7.0), 'z_r2': np.float64(81.0), 'z_r2_1': np.float64(78.0), 'z_r2_2': np.float64(74.0), 'z_r2_3': np.float64(71.0), 'x_s': np.float64(0.24000060576945548), 'x_s_1': np.float64(-0.24354227613657708), 'x_s_2': np.float64(-0.4940158041194081), 'x_s_3': np.float64(-0.6912745049223303), 'x_r2': np.float64(0.8760942980647086), 'x_r2_1': np.float64(-0.11758206244558089), 'x_r2_2': np.float64(-0.3464631334878504), 'x_r2_3': np.float64(-0.9471113172359764)}to meet parameter constraints of SearchSpace(parameters=[RangeParameter(name='z_sh', parameter_type=INT, range=[9, 12]), RangeParameter(name='z_sh_1', parameter_type=INT, range=[8, 11]), RangeParameter(name='z_sh_2', parameter_type=INT, range=[7, 10]), RangeParameter(name='z_sh_3', parameter_type=INT, range=[6, 9]), RangeParameter(name='z_r2', parameter_type=INT, range=[73, 86]), RangeParameter(name='z_r2_1', parameter_type=INT, range=[72, 85]), RangeParameter(name='z_r2_2', parameter_type=INT, range=[71, 84]), RangeParameter(name='z_r2_3', parameter_type=INT, range=[70, 83]), RangeParameter(name='x_s', parameter_type=FLOAT, range=[0.0, 1.0]), RangeParameter(name='x_s_1', parameter_type=FLOAT, range=[0.0, 1.0]), RangeParameter(name='x_s_2', parameter_type=FLOAT, range=[0.0, 1.0]), RangeParameter(name='x_s_3', parameter_type=FLOAT, range=[0.0, 1.0]), RangeParameter(name='x_r2', parameter_type=FLOAT, range=[0.0, 1.0]), RangeParameter(name='x_r2_1', parameter_type=FLOAT, range=[0.0, 1.0]), RangeParameter(name='x_r2_2', parameter_type=FLOAT, range=[0.0, 1.0]), RangeParameter(name='x_r2_3', parameter_type=FLOAT, range=[0.0, 1.0])], parameter_constraints=[ParameterConstraint(-1.0*z_sh + 1.0*z_sh_1 <= -1.0), ParameterConstraint(-1.0*z_sh_1 + 1.0*z_sh_2 <= -1.0), ParameterConstraint(-1.0*z_sh_2 + 1.0*z_sh_3 <= -1.0), ParameterConstraint(-1.0*z_r2 + 1.0*z_r2_1 <= -1.0), ParameterConstraint(-1.0*z_r2_1 + 1.0*z_r2_2 <= -1.0), ParameterConstraint(-1.0*z_r2_2 + 1.0*z_r2_3 <= -1.0), ParameterConstraint(-1.0*x_s + 1.0*x_s_1 <= -0.1), ParameterConstraint(-1.0*x_s_1 + 1.0*x_s_2 <= -0.1), ParameterConstraint(-1.0*x_s_2 + 1.0*x_s_3 <= -0.1), ParameterConstraint(-1.0*x_r2 + 1.0*x_r2_1 <= -0.1), ParameterConstraint(-1.0*x_r2_1 + 1.0*x_r2_2 <= -0.1), ParameterConstraint(-1.0*x_r2_2 + 1.0*x_r2_3 <= -0.1)])\n",
      "[INFO 04-10 16:12:57] ax.service.ax_client: Generated new trial 28 with parameters {'z_sh': 12, 'z_sh_1': 11, 'z_sh_2': 10, 'z_sh_3': 7, 'z_r2': 81, 'z_r2_1': 78, 'z_r2_2': 74, 'z_r2_3': 71, 'x_s': 0.240001, 'x_s_1': -0.243542, 'x_s_2': -0.494016, 'x_s_3': -0.691275, 'x_r2': 0.876094, 'x_r2_1': -0.117582, 'x_r2_2': -0.346463, 'x_r2_3': -0.947111} using model Sobol.\n",
      "[INFO 04-10 16:12:57] ax.service.ax_client: Completed trial 28 with data: {'Cross_term_gear_ratio_product': (np.float64(13159.657818), None)}.\n",
      "[WARNING 04-10 16:13:04] ax.modelbridge.transforms.int_to_float: Unable to round {'z_sh': 12.302670130450316, 'z_sh_1': 11.180247466261498, 'z_sh_2': 7.966876266710981, 'z_sh_3': 6.173804704092797, 'z_r2': 84.16368278515337, 'z_r2_1': 81.32140247728387, 'z_r2_2': 78.77453257606379, 'z_r2_3': 76.30510054059327, 'x_s': 0.4021686775609852, 'x_s_1': 0.049337662290781736, 'x_s_2': -0.1375413650646805, 'x_s_3': -0.7989003604277969, 'x_r2': 0.7911628546193241, 'x_r2_1': 0.6506925863213837, 'x_r2_2': -0.16974483970552678, 'x_r2_3': -0.4473695067688823}to meet parameter constraints of SearchSpace(parameters=[RangeParameter(name='z_sh', parameter_type=INT, range=[9, 12]), RangeParameter(name='z_sh_1', parameter_type=INT, range=[8, 11]), RangeParameter(name='z_sh_2', parameter_type=INT, range=[7, 10]), RangeParameter(name='z_sh_3', parameter_type=INT, range=[6, 9]), RangeParameter(name='z_r2', parameter_type=INT, range=[73, 86]), RangeParameter(name='z_r2_1', parameter_type=INT, range=[72, 85]), RangeParameter(name='z_r2_2', parameter_type=INT, range=[71, 84]), RangeParameter(name='z_r2_3', parameter_type=INT, range=[70, 83]), RangeParameter(name='x_s', parameter_type=FLOAT, range=[0.0, 1.0]), RangeParameter(name='x_s_1', parameter_type=FLOAT, range=[0.0, 1.0]), RangeParameter(name='x_s_2', parameter_type=FLOAT, range=[0.0, 1.0]), RangeParameter(name='x_s_3', parameter_type=FLOAT, range=[0.0, 1.0]), RangeParameter(name='x_r2', parameter_type=FLOAT, range=[0.0, 1.0]), RangeParameter(name='x_r2_1', parameter_type=FLOAT, range=[0.0, 1.0]), RangeParameter(name='x_r2_2', parameter_type=FLOAT, range=[0.0, 1.0]), RangeParameter(name='x_r2_3', parameter_type=FLOAT, range=[0.0, 1.0])], parameter_constraints=[ParameterConstraint(-1.0*z_sh + 1.0*z_sh_1 <= -1.0), ParameterConstraint(-1.0*z_sh_1 + 1.0*z_sh_2 <= -1.0), ParameterConstraint(-1.0*z_sh_2 + 1.0*z_sh_3 <= -1.0), ParameterConstraint(-1.0*z_r2 + 1.0*z_r2_1 <= -1.0), ParameterConstraint(-1.0*z_r2_1 + 1.0*z_r2_2 <= -1.0), ParameterConstraint(-1.0*z_r2_2 + 1.0*z_r2_3 <= -1.0), ParameterConstraint(-1.0*x_s + 1.0*x_s_1 <= -0.1), ParameterConstraint(-1.0*x_s_1 + 1.0*x_s_2 <= -0.1), ParameterConstraint(-1.0*x_s_2 + 1.0*x_s_3 <= -0.1), ParameterConstraint(-1.0*x_r2 + 1.0*x_r2_1 <= -0.1), ParameterConstraint(-1.0*x_r2_1 + 1.0*x_r2_2 <= -0.1), ParameterConstraint(-1.0*x_r2_2 + 1.0*x_r2_3 <= -0.1)])\n",
      "[WARNING 04-10 16:13:04] ax.modelbridge.transforms.int_to_float: Unable to round {'z_sh': np.float64(12.0), 'z_sh_1': np.float64(11.0), 'z_sh_2': np.float64(8.0), 'z_sh_3': np.float64(6.0), 'z_r2': np.float64(84.0), 'z_r2_1': np.float64(81.0), 'z_r2_2': np.float64(79.0), 'z_r2_3': np.float64(76.0), 'x_s': np.float64(0.4021686775609852), 'x_s_1': np.float64(0.049337662290781736), 'x_s_2': np.float64(-0.1375413650646805), 'x_s_3': np.float64(-0.7989003604277969), 'x_r2': np.float64(0.7911628546193241), 'x_r2_1': np.float64(0.6506925863213837), 'x_r2_2': np.float64(-0.16974483970552678), 'x_r2_3': np.float64(-0.4473695067688823)}to meet parameter constraints of SearchSpace(parameters=[RangeParameter(name='z_sh', parameter_type=INT, range=[9, 12]), RangeParameter(name='z_sh_1', parameter_type=INT, range=[8, 11]), RangeParameter(name='z_sh_2', parameter_type=INT, range=[7, 10]), RangeParameter(name='z_sh_3', parameter_type=INT, range=[6, 9]), RangeParameter(name='z_r2', parameter_type=INT, range=[73, 86]), RangeParameter(name='z_r2_1', parameter_type=INT, range=[72, 85]), RangeParameter(name='z_r2_2', parameter_type=INT, range=[71, 84]), RangeParameter(name='z_r2_3', parameter_type=INT, range=[70, 83]), RangeParameter(name='x_s', parameter_type=FLOAT, range=[0.0, 1.0]), RangeParameter(name='x_s_1', parameter_type=FLOAT, range=[0.0, 1.0]), RangeParameter(name='x_s_2', parameter_type=FLOAT, range=[0.0, 1.0]), RangeParameter(name='x_s_3', parameter_type=FLOAT, range=[0.0, 1.0]), RangeParameter(name='x_r2', parameter_type=FLOAT, range=[0.0, 1.0]), RangeParameter(name='x_r2_1', parameter_type=FLOAT, range=[0.0, 1.0]), RangeParameter(name='x_r2_2', parameter_type=FLOAT, range=[0.0, 1.0]), RangeParameter(name='x_r2_3', parameter_type=FLOAT, range=[0.0, 1.0])], parameter_constraints=[ParameterConstraint(-1.0*z_sh + 1.0*z_sh_1 <= -1.0), ParameterConstraint(-1.0*z_sh_1 + 1.0*z_sh_2 <= -1.0), ParameterConstraint(-1.0*z_sh_2 + 1.0*z_sh_3 <= -1.0), ParameterConstraint(-1.0*z_r2 + 1.0*z_r2_1 <= -1.0), ParameterConstraint(-1.0*z_r2_1 + 1.0*z_r2_2 <= -1.0), ParameterConstraint(-1.0*z_r2_2 + 1.0*z_r2_3 <= -1.0), ParameterConstraint(-1.0*x_s + 1.0*x_s_1 <= -0.1), ParameterConstraint(-1.0*x_s_1 + 1.0*x_s_2 <= -0.1), ParameterConstraint(-1.0*x_s_2 + 1.0*x_s_3 <= -0.1), ParameterConstraint(-1.0*x_r2 + 1.0*x_r2_1 <= -0.1), ParameterConstraint(-1.0*x_r2_1 + 1.0*x_r2_2 <= -0.1), ParameterConstraint(-1.0*x_r2_2 + 1.0*x_r2_3 <= -0.1)])\n",
      "[INFO 04-10 16:13:04] ax.service.ax_client: Generated new trial 29 with parameters {'z_sh': 12, 'z_sh_1': 11, 'z_sh_2': 8, 'z_sh_3': 6, 'z_r2': 84, 'z_r2_1': 81, 'z_r2_2': 79, 'z_r2_3': 76, 'x_s': 0.402169, 'x_s_1': 0.049338, 'x_s_2': -0.137541, 'x_s_3': -0.7989, 'x_r2': 0.791163, 'x_r2_1': 0.650693, 'x_r2_2': -0.169745, 'x_r2_3': -0.44737} using model Sobol.\n",
      "[INFO 04-10 16:13:04] ax.service.ax_client: Completed trial 29 with data: {'Cross_term_gear_ratio_product': (np.float64(9296.834534), None)}.\n",
      "[WARNING 04-10 16:13:12] ax.modelbridge.transforms.int_to_float: Unable to round {'z_sh': 11.927176004153546, 'z_sh_1': 10.900977900735624, 'z_sh_2': 9.27570648066394, 'z_sh_3': 6.798152018372435, 'z_r2': 85.47545234499464, 'z_r2_1': 81.59686532584874, 'z_r2_2': 80.0646229219399, 'z_r2_3': 77.52542062205052, 'x_s': 0.9149467034265399, 'x_s_1': 0.7461276177316905, 'x_s_2': 0.4883020827546717, 'x_s_3': -0.6488063402473927, 'x_r2': 0.9791705104522408, 'x_r2_1': 0.5215829717926681, 'x_r2_2': 0.000686130952090136, 'x_r2_3': -0.5456113668158651}to meet parameter constraints of SearchSpace(parameters=[RangeParameter(name='z_sh', parameter_type=INT, range=[9, 12]), RangeParameter(name='z_sh_1', parameter_type=INT, range=[8, 11]), RangeParameter(name='z_sh_2', parameter_type=INT, range=[7, 10]), RangeParameter(name='z_sh_3', parameter_type=INT, range=[6, 9]), RangeParameter(name='z_r2', parameter_type=INT, range=[73, 86]), RangeParameter(name='z_r2_1', parameter_type=INT, range=[72, 85]), RangeParameter(name='z_r2_2', parameter_type=INT, range=[71, 84]), RangeParameter(name='z_r2_3', parameter_type=INT, range=[70, 83]), RangeParameter(name='x_s', parameter_type=FLOAT, range=[0.0, 1.0]), RangeParameter(name='x_s_1', parameter_type=FLOAT, range=[0.0, 1.0]), RangeParameter(name='x_s_2', parameter_type=FLOAT, range=[0.0, 1.0]), RangeParameter(name='x_s_3', parameter_type=FLOAT, range=[0.0, 1.0]), RangeParameter(name='x_r2', parameter_type=FLOAT, range=[0.0, 1.0]), RangeParameter(name='x_r2_1', parameter_type=FLOAT, range=[0.0, 1.0]), RangeParameter(name='x_r2_2', parameter_type=FLOAT, range=[0.0, 1.0]), RangeParameter(name='x_r2_3', parameter_type=FLOAT, range=[0.0, 1.0])], parameter_constraints=[ParameterConstraint(-1.0*z_sh + 1.0*z_sh_1 <= -1.0), ParameterConstraint(-1.0*z_sh_1 + 1.0*z_sh_2 <= -1.0), ParameterConstraint(-1.0*z_sh_2 + 1.0*z_sh_3 <= -1.0), ParameterConstraint(-1.0*z_r2 + 1.0*z_r2_1 <= -1.0), ParameterConstraint(-1.0*z_r2_1 + 1.0*z_r2_2 <= -1.0), ParameterConstraint(-1.0*z_r2_2 + 1.0*z_r2_3 <= -1.0), ParameterConstraint(-1.0*x_s + 1.0*x_s_1 <= -0.1), ParameterConstraint(-1.0*x_s_1 + 1.0*x_s_2 <= -0.1), ParameterConstraint(-1.0*x_s_2 + 1.0*x_s_3 <= -0.1), ParameterConstraint(-1.0*x_r2 + 1.0*x_r2_1 <= -0.1), ParameterConstraint(-1.0*x_r2_1 + 1.0*x_r2_2 <= -0.1), ParameterConstraint(-1.0*x_r2_2 + 1.0*x_r2_3 <= -0.1)])\n",
      "[WARNING 04-10 16:13:12] ax.modelbridge.transforms.int_to_float: Unable to round {'z_sh': np.float64(12.0), 'z_sh_1': np.float64(11.0), 'z_sh_2': np.float64(9.0), 'z_sh_3': np.float64(7.0), 'z_r2': np.float64(85.0), 'z_r2_1': np.float64(82.0), 'z_r2_2': np.float64(80.0), 'z_r2_3': np.float64(78.0), 'x_s': np.float64(0.9149467034265399), 'x_s_1': np.float64(0.7461276177316905), 'x_s_2': np.float64(0.4883020827546717), 'x_s_3': np.float64(-0.6488063402473927), 'x_r2': np.float64(0.9791705104522408), 'x_r2_1': np.float64(0.5215829717926681), 'x_r2_2': np.float64(0.000686130952090136), 'x_r2_3': np.float64(-0.5456113668158651)}to meet parameter constraints of SearchSpace(parameters=[RangeParameter(name='z_sh', parameter_type=INT, range=[9, 12]), RangeParameter(name='z_sh_1', parameter_type=INT, range=[8, 11]), RangeParameter(name='z_sh_2', parameter_type=INT, range=[7, 10]), RangeParameter(name='z_sh_3', parameter_type=INT, range=[6, 9]), RangeParameter(name='z_r2', parameter_type=INT, range=[73, 86]), RangeParameter(name='z_r2_1', parameter_type=INT, range=[72, 85]), RangeParameter(name='z_r2_2', parameter_type=INT, range=[71, 84]), RangeParameter(name='z_r2_3', parameter_type=INT, range=[70, 83]), RangeParameter(name='x_s', parameter_type=FLOAT, range=[0.0, 1.0]), RangeParameter(name='x_s_1', parameter_type=FLOAT, range=[0.0, 1.0]), RangeParameter(name='x_s_2', parameter_type=FLOAT, range=[0.0, 1.0]), RangeParameter(name='x_s_3', parameter_type=FLOAT, range=[0.0, 1.0]), RangeParameter(name='x_r2', parameter_type=FLOAT, range=[0.0, 1.0]), RangeParameter(name='x_r2_1', parameter_type=FLOAT, range=[0.0, 1.0]), RangeParameter(name='x_r2_2', parameter_type=FLOAT, range=[0.0, 1.0]), RangeParameter(name='x_r2_3', parameter_type=FLOAT, range=[0.0, 1.0])], parameter_constraints=[ParameterConstraint(-1.0*z_sh + 1.0*z_sh_1 <= -1.0), ParameterConstraint(-1.0*z_sh_1 + 1.0*z_sh_2 <= -1.0), ParameterConstraint(-1.0*z_sh_2 + 1.0*z_sh_3 <= -1.0), ParameterConstraint(-1.0*z_r2 + 1.0*z_r2_1 <= -1.0), ParameterConstraint(-1.0*z_r2_1 + 1.0*z_r2_2 <= -1.0), ParameterConstraint(-1.0*z_r2_2 + 1.0*z_r2_3 <= -1.0), ParameterConstraint(-1.0*x_s + 1.0*x_s_1 <= -0.1), ParameterConstraint(-1.0*x_s_1 + 1.0*x_s_2 <= -0.1), ParameterConstraint(-1.0*x_s_2 + 1.0*x_s_3 <= -0.1), ParameterConstraint(-1.0*x_r2 + 1.0*x_r2_1 <= -0.1), ParameterConstraint(-1.0*x_r2_1 + 1.0*x_r2_2 <= -0.1), ParameterConstraint(-1.0*x_r2_2 + 1.0*x_r2_3 <= -0.1)])\n",
      "[INFO 04-10 16:13:12] ax.service.ax_client: Generated new trial 30 with parameters {'z_sh': 12, 'z_sh_1': 11, 'z_sh_2': 9, 'z_sh_3': 7, 'z_r2': 85, 'z_r2_1': 82, 'z_r2_2': 80, 'z_r2_3': 78, 'x_s': 0.914947, 'x_s_1': 0.746128, 'x_s_2': 0.488302, 'x_s_3': -0.648806, 'x_r2': 0.979171, 'x_r2_1': 0.521583, 'x_r2_2': 0.000686, 'x_r2_3': -0.545611} using model Sobol.\n",
      "[INFO 04-10 16:13:12] ax.service.ax_client: Completed trial 30 with data: {'Cross_term_gear_ratio_product': (np.float64(6227.379981), None)}.\n",
      "[WARNING 04-10 16:13:38] ax.modelbridge.transforms.int_to_float: Unable to round {'z_sh': 11.607005868831445, 'z_sh_1': 10.229793770173508, 'z_sh_2': 8.997665636394732, 'z_sh_3': 6.765997332210206, 'z_r2': 86.4706555321612, 'z_r2_1': 84.45214831259672, 'z_r2_2': 83.13217492839266, 'z_r2_3': 71.79301803384857, 'x_s': 0.704270572308451, 'x_s_1': 0.5959010020829738, 'x_s_2': -0.6846819033846259, 'x_s_3': -0.8017602516338229, 'x_r2': 0.9728345103561877, 'x_r2_1': -0.04532918017357579, 'x_r2_2': -0.6714143025688827, 'x_r2_3': -0.780366725102067}to meet parameter constraints of SearchSpace(parameters=[RangeParameter(name='z_sh', parameter_type=INT, range=[9, 12]), RangeParameter(name='z_sh_1', parameter_type=INT, range=[8, 11]), RangeParameter(name='z_sh_2', parameter_type=INT, range=[7, 10]), RangeParameter(name='z_sh_3', parameter_type=INT, range=[6, 9]), RangeParameter(name='z_r2', parameter_type=INT, range=[73, 86]), RangeParameter(name='z_r2_1', parameter_type=INT, range=[72, 85]), RangeParameter(name='z_r2_2', parameter_type=INT, range=[71, 84]), RangeParameter(name='z_r2_3', parameter_type=INT, range=[70, 83]), RangeParameter(name='x_s', parameter_type=FLOAT, range=[0.0, 1.0]), RangeParameter(name='x_s_1', parameter_type=FLOAT, range=[0.0, 1.0]), RangeParameter(name='x_s_2', parameter_type=FLOAT, range=[0.0, 1.0]), RangeParameter(name='x_s_3', parameter_type=FLOAT, range=[0.0, 1.0]), RangeParameter(name='x_r2', parameter_type=FLOAT, range=[0.0, 1.0]), RangeParameter(name='x_r2_1', parameter_type=FLOAT, range=[0.0, 1.0]), RangeParameter(name='x_r2_2', parameter_type=FLOAT, range=[0.0, 1.0]), RangeParameter(name='x_r2_3', parameter_type=FLOAT, range=[0.0, 1.0])], parameter_constraints=[ParameterConstraint(-1.0*z_sh + 1.0*z_sh_1 <= -1.0), ParameterConstraint(-1.0*z_sh_1 + 1.0*z_sh_2 <= -1.0), ParameterConstraint(-1.0*z_sh_2 + 1.0*z_sh_3 <= -1.0), ParameterConstraint(-1.0*z_r2 + 1.0*z_r2_1 <= -1.0), ParameterConstraint(-1.0*z_r2_1 + 1.0*z_r2_2 <= -1.0), ParameterConstraint(-1.0*z_r2_2 + 1.0*z_r2_3 <= -1.0), ParameterConstraint(-1.0*x_s + 1.0*x_s_1 <= -0.1), ParameterConstraint(-1.0*x_s_1 + 1.0*x_s_2 <= -0.1), ParameterConstraint(-1.0*x_s_2 + 1.0*x_s_3 <= -0.1), ParameterConstraint(-1.0*x_r2 + 1.0*x_r2_1 <= -0.1), ParameterConstraint(-1.0*x_r2_1 + 1.0*x_r2_2 <= -0.1), ParameterConstraint(-1.0*x_r2_2 + 1.0*x_r2_3 <= -0.1)])\n",
      "[WARNING 04-10 16:13:38] ax.modelbridge.transforms.int_to_float: Unable to round {'z_sh': np.float64(12.0), 'z_sh_1': np.float64(10.0), 'z_sh_2': np.float64(9.0), 'z_sh_3': np.float64(7.0), 'z_r2': np.float64(86.0), 'z_r2_1': np.float64(84.0), 'z_r2_2': np.float64(83.0), 'z_r2_3': np.float64(72.0), 'x_s': np.float64(0.704270572308451), 'x_s_1': np.float64(0.5959010020829738), 'x_s_2': np.float64(-0.6846819033846259), 'x_s_3': np.float64(-0.8017602516338229), 'x_r2': np.float64(0.9728345103561877), 'x_r2_1': np.float64(-0.04532918017357579), 'x_r2_2': np.float64(-0.6714143025688827), 'x_r2_3': np.float64(-0.780366725102067)}to meet parameter constraints of SearchSpace(parameters=[RangeParameter(name='z_sh', parameter_type=INT, range=[9, 12]), RangeParameter(name='z_sh_1', parameter_type=INT, range=[8, 11]), RangeParameter(name='z_sh_2', parameter_type=INT, range=[7, 10]), RangeParameter(name='z_sh_3', parameter_type=INT, range=[6, 9]), RangeParameter(name='z_r2', parameter_type=INT, range=[73, 86]), RangeParameter(name='z_r2_1', parameter_type=INT, range=[72, 85]), RangeParameter(name='z_r2_2', parameter_type=INT, range=[71, 84]), RangeParameter(name='z_r2_3', parameter_type=INT, range=[70, 83]), RangeParameter(name='x_s', parameter_type=FLOAT, range=[0.0, 1.0]), RangeParameter(name='x_s_1', parameter_type=FLOAT, range=[0.0, 1.0]), RangeParameter(name='x_s_2', parameter_type=FLOAT, range=[0.0, 1.0]), RangeParameter(name='x_s_3', parameter_type=FLOAT, range=[0.0, 1.0]), RangeParameter(name='x_r2', parameter_type=FLOAT, range=[0.0, 1.0]), RangeParameter(name='x_r2_1', parameter_type=FLOAT, range=[0.0, 1.0]), RangeParameter(name='x_r2_2', parameter_type=FLOAT, range=[0.0, 1.0]), RangeParameter(name='x_r2_3', parameter_type=FLOAT, range=[0.0, 1.0])], parameter_constraints=[ParameterConstraint(-1.0*z_sh + 1.0*z_sh_1 <= -1.0), ParameterConstraint(-1.0*z_sh_1 + 1.0*z_sh_2 <= -1.0), ParameterConstraint(-1.0*z_sh_2 + 1.0*z_sh_3 <= -1.0), ParameterConstraint(-1.0*z_r2 + 1.0*z_r2_1 <= -1.0), ParameterConstraint(-1.0*z_r2_1 + 1.0*z_r2_2 <= -1.0), ParameterConstraint(-1.0*z_r2_2 + 1.0*z_r2_3 <= -1.0), ParameterConstraint(-1.0*x_s + 1.0*x_s_1 <= -0.1), ParameterConstraint(-1.0*x_s_1 + 1.0*x_s_2 <= -0.1), ParameterConstraint(-1.0*x_s_2 + 1.0*x_s_3 <= -0.1), ParameterConstraint(-1.0*x_r2 + 1.0*x_r2_1 <= -0.1), ParameterConstraint(-1.0*x_r2_1 + 1.0*x_r2_2 <= -0.1), ParameterConstraint(-1.0*x_r2_2 + 1.0*x_r2_3 <= -0.1)])\n",
      "[INFO 04-10 16:13:38] ax.service.ax_client: Generated new trial 31 with parameters {'z_sh': 12, 'z_sh_1': 10, 'z_sh_2': 9, 'z_sh_3': 7, 'z_r2': 86, 'z_r2_1': 84, 'z_r2_2': 83, 'z_r2_3': 72, 'x_s': 0.704271, 'x_s_1': 0.595901, 'x_s_2': -0.684682, 'x_s_3': -0.80176, 'x_r2': 0.972835, 'x_r2_1': -0.045329, 'x_r2_2': -0.671414, 'x_r2_3': -0.780367} using model Sobol.\n",
      "[INFO 04-10 16:13:38] ax.service.ax_client: Completed trial 31 with data: {'Cross_term_gear_ratio_product': (np.float64(4977.997648), None)}.\n",
      "[INFO 04-10 16:13:47] ax.service.ax_client: Generated new trial 32 with parameters {'z_sh': 12, 'z_sh_1': 9, 'z_sh_2': 8, 'z_sh_3': 6, 'z_r2': 85, 'z_r2_1': 75, 'z_r2_2': 74, 'z_r2_3': 73, 'x_s': 0.914434, 'x_s_1': 0.256058, 'x_s_2': 0.156058, 'x_s_3': -0.852803, 'x_r2': 0.282354, 'x_r2_1': 0.182354, 'x_r2_2': 0.082354, 'x_r2_3': -0.266705} using model BoTorch.\n",
      "[INFO 04-10 16:13:47] ax.service.ax_client: Completed trial 32 with data: {'Cross_term_gear_ratio_product': (np.float64(17983.187799), None)}.\n"
     ]
    },
    {
     "name": "stdout",
     "output_type": "stream",
     "text": [
      "Failed 693 times while using Sobol\n"
     ]
    }
   ],
   "source": [
    "init_count = 0\n",
    "init_trials = 32 # hand set based on output at initialization\n",
    "fail_count = 0\n",
    "while init_count < init_trials:\n",
    "    try:\n",
    "        parameterization, trial_index = Tag_client.get_next_trial()\n",
    "        # Local evaluation here can be replaced with deployment to external system.\n",
    "        Tag_client.complete_trial(trial_index=trial_index, raw_data=score_vals(param_to_list(parameterization, add_cl = True), add_gear = False))\n",
    "    except:\n",
    "        # print('Not this time')\n",
    "        fail_count += 1\n",
    "    init_count = trial_index\n",
    "print(f'Failed {fail_count} times while using Sobol')"
   ]
  },
  {
   "cell_type": "code",
   "execution_count": 17,
   "metadata": {},
   "outputs": [
    {
     "data": {
      "text/html": [
       "<div>\n",
       "<style scoped>\n",
       "    .dataframe tbody tr th:only-of-type {\n",
       "        vertical-align: middle;\n",
       "    }\n",
       "\n",
       "    .dataframe tbody tr th {\n",
       "        vertical-align: top;\n",
       "    }\n",
       "\n",
       "    .dataframe thead th {\n",
       "        text-align: right;\n",
       "    }\n",
       "</style>\n",
       "<table border=\"1\" class=\"dataframe\">\n",
       "  <thead>\n",
       "    <tr style=\"text-align: right;\">\n",
       "      <th></th>\n",
       "      <th>trial_index</th>\n",
       "      <th>arm_name</th>\n",
       "      <th>trial_status</th>\n",
       "      <th>generation_method</th>\n",
       "      <th>generation_node</th>\n",
       "      <th>Cross_term_gear_ratio_product</th>\n",
       "      <th>z_sh</th>\n",
       "      <th>z_sh_1</th>\n",
       "      <th>z_sh_2</th>\n",
       "      <th>z_sh_3</th>\n",
       "      <th>...</th>\n",
       "      <th>z_r2_2</th>\n",
       "      <th>z_r2_3</th>\n",
       "      <th>x_s</th>\n",
       "      <th>x_s_1</th>\n",
       "      <th>x_s_2</th>\n",
       "      <th>x_s_3</th>\n",
       "      <th>x_r2</th>\n",
       "      <th>x_r2_1</th>\n",
       "      <th>x_r2_2</th>\n",
       "      <th>x_r2_3</th>\n",
       "    </tr>\n",
       "  </thead>\n",
       "  <tbody>\n",
       "    <tr>\n",
       "      <th>0</th>\n",
       "      <td>0</td>\n",
       "      <td>0_0</td>\n",
       "      <td>COMPLETED</td>\n",
       "      <td>Sobol</td>\n",
       "      <td>GenerationStep_0</td>\n",
       "      <td>8872.782227</td>\n",
       "      <td>12</td>\n",
       "      <td>10</td>\n",
       "      <td>9</td>\n",
       "      <td>6</td>\n",
       "      <td>...</td>\n",
       "      <td>79</td>\n",
       "      <td>72</td>\n",
       "      <td>0.852539</td>\n",
       "      <td>0.461223</td>\n",
       "      <td>-0.485348</td>\n",
       "      <td>-0.916786</td>\n",
       "      <td>0.881498</td>\n",
       "      <td>0.245273</td>\n",
       "      <td>-0.100612</td>\n",
       "      <td>-0.474676</td>\n",
       "    </tr>\n",
       "    <tr>\n",
       "      <th>1</th>\n",
       "      <td>1</td>\n",
       "      <td>1_0</td>\n",
       "      <td>COMPLETED</td>\n",
       "      <td>Sobol</td>\n",
       "      <td>GenerationStep_0</td>\n",
       "      <td>9739.472591</td>\n",
       "      <td>12</td>\n",
       "      <td>11</td>\n",
       "      <td>7</td>\n",
       "      <td>6</td>\n",
       "      <td>...</td>\n",
       "      <td>78</td>\n",
       "      <td>72</td>\n",
       "      <td>0.051159</td>\n",
       "      <td>-0.087764</td>\n",
       "      <td>-0.388331</td>\n",
       "      <td>-0.849742</td>\n",
       "      <td>0.888910</td>\n",
       "      <td>0.688103</td>\n",
       "      <td>0.132891</td>\n",
       "      <td>-0.589752</td>\n",
       "    </tr>\n",
       "    <tr>\n",
       "      <th>2</th>\n",
       "      <td>2</td>\n",
       "      <td>2_0</td>\n",
       "      <td>COMPLETED</td>\n",
       "      <td>Sobol</td>\n",
       "      <td>GenerationStep_0</td>\n",
       "      <td>14978.138531</td>\n",
       "      <td>12</td>\n",
       "      <td>11</td>\n",
       "      <td>9</td>\n",
       "      <td>7</td>\n",
       "      <td>...</td>\n",
       "      <td>71</td>\n",
       "      <td>70</td>\n",
       "      <td>0.308637</td>\n",
       "      <td>-0.116884</td>\n",
       "      <td>-0.352805</td>\n",
       "      <td>-0.637753</td>\n",
       "      <td>0.977737</td>\n",
       "      <td>0.387436</td>\n",
       "      <td>0.169031</td>\n",
       "      <td>-0.993066</td>\n",
       "    </tr>\n",
       "    <tr>\n",
       "      <th>3</th>\n",
       "      <td>3</td>\n",
       "      <td>3_0</td>\n",
       "      <td>COMPLETED</td>\n",
       "      <td>Sobol</td>\n",
       "      <td>GenerationStep_0</td>\n",
       "      <td>9137.129494</td>\n",
       "      <td>12</td>\n",
       "      <td>11</td>\n",
       "      <td>9</td>\n",
       "      <td>6</td>\n",
       "      <td>...</td>\n",
       "      <td>78</td>\n",
       "      <td>72</td>\n",
       "      <td>0.979506</td>\n",
       "      <td>0.629408</td>\n",
       "      <td>-0.801876</td>\n",
       "      <td>-0.942703</td>\n",
       "      <td>0.993859</td>\n",
       "      <td>0.633158</td>\n",
       "      <td>0.448283</td>\n",
       "      <td>-0.354437</td>\n",
       "    </tr>\n",
       "    <tr>\n",
       "      <th>4</th>\n",
       "      <td>4</td>\n",
       "      <td>4_0</td>\n",
       "      <td>COMPLETED</td>\n",
       "      <td>Sobol</td>\n",
       "      <td>GenerationStep_0</td>\n",
       "      <td>10759.507340</td>\n",
       "      <td>12</td>\n",
       "      <td>9</td>\n",
       "      <td>8</td>\n",
       "      <td>6</td>\n",
       "      <td>...</td>\n",
       "      <td>71</td>\n",
       "      <td>70</td>\n",
       "      <td>0.823046</td>\n",
       "      <td>0.457002</td>\n",
       "      <td>-0.101252</td>\n",
       "      <td>-0.911382</td>\n",
       "      <td>0.177348</td>\n",
       "      <td>0.012991</td>\n",
       "      <td>-0.336386</td>\n",
       "      <td>-0.942341</td>\n",
       "    </tr>\n",
       "    <tr>\n",
       "      <th>5</th>\n",
       "      <td>5</td>\n",
       "      <td>5_0</td>\n",
       "      <td>COMPLETED</td>\n",
       "      <td>Sobol</td>\n",
       "      <td>GenerationStep_0</td>\n",
       "      <td>15392.768516</td>\n",
       "      <td>12</td>\n",
       "      <td>11</td>\n",
       "      <td>8</td>\n",
       "      <td>6</td>\n",
       "      <td>...</td>\n",
       "      <td>77</td>\n",
       "      <td>75</td>\n",
       "      <td>0.458567</td>\n",
       "      <td>0.228272</td>\n",
       "      <td>-0.011724</td>\n",
       "      <td>-0.687003</td>\n",
       "      <td>0.628185</td>\n",
       "      <td>0.449645</td>\n",
       "      <td>-0.280487</td>\n",
       "      <td>-0.743190</td>\n",
       "    </tr>\n",
       "    <tr>\n",
       "      <th>6</th>\n",
       "      <td>6</td>\n",
       "      <td>6_0</td>\n",
       "      <td>COMPLETED</td>\n",
       "      <td>Sobol</td>\n",
       "      <td>GenerationStep_0</td>\n",
       "      <td>12264.600527</td>\n",
       "      <td>11</td>\n",
       "      <td>10</td>\n",
       "      <td>8</td>\n",
       "      <td>6</td>\n",
       "      <td>...</td>\n",
       "      <td>78</td>\n",
       "      <td>74</td>\n",
       "      <td>0.630323</td>\n",
       "      <td>0.013411</td>\n",
       "      <td>-0.109580</td>\n",
       "      <td>-0.815011</td>\n",
       "      <td>0.862837</td>\n",
       "      <td>0.733356</td>\n",
       "      <td>0.212547</td>\n",
       "      <td>-0.120198</td>\n",
       "    </tr>\n",
       "    <tr>\n",
       "      <th>7</th>\n",
       "      <td>7</td>\n",
       "      <td>7_0</td>\n",
       "      <td>COMPLETED</td>\n",
       "      <td>Sobol</td>\n",
       "      <td>GenerationStep_0</td>\n",
       "      <td>10876.219603</td>\n",
       "      <td>12</td>\n",
       "      <td>9</td>\n",
       "      <td>8</td>\n",
       "      <td>6</td>\n",
       "      <td>...</td>\n",
       "      <td>74</td>\n",
       "      <td>70</td>\n",
       "      <td>0.532841</td>\n",
       "      <td>0.342231</td>\n",
       "      <td>0.221892</td>\n",
       "      <td>-0.991905</td>\n",
       "      <td>0.909817</td>\n",
       "      <td>-0.024229</td>\n",
       "      <td>-0.276670</td>\n",
       "      <td>-0.806480</td>\n",
       "    </tr>\n",
       "    <tr>\n",
       "      <th>8</th>\n",
       "      <td>8</td>\n",
       "      <td>8_0</td>\n",
       "      <td>COMPLETED</td>\n",
       "      <td>Sobol</td>\n",
       "      <td>GenerationStep_0</td>\n",
       "      <td>10255.645631</td>\n",
       "      <td>12</td>\n",
       "      <td>10</td>\n",
       "      <td>8</td>\n",
       "      <td>7</td>\n",
       "      <td>...</td>\n",
       "      <td>78</td>\n",
       "      <td>71</td>\n",
       "      <td>0.681542</td>\n",
       "      <td>0.216553</td>\n",
       "      <td>0.014679</td>\n",
       "      <td>-0.741022</td>\n",
       "      <td>0.954079</td>\n",
       "      <td>0.173946</td>\n",
       "      <td>-0.149079</td>\n",
       "      <td>-0.499196</td>\n",
       "    </tr>\n",
       "    <tr>\n",
       "      <th>9</th>\n",
       "      <td>9</td>\n",
       "      <td>9_0</td>\n",
       "      <td>COMPLETED</td>\n",
       "      <td>Sobol</td>\n",
       "      <td>GenerationStep_0</td>\n",
       "      <td>17678.739456</td>\n",
       "      <td>11</td>\n",
       "      <td>10</td>\n",
       "      <td>8</td>\n",
       "      <td>7</td>\n",
       "      <td>...</td>\n",
       "      <td>73</td>\n",
       "      <td>72</td>\n",
       "      <td>0.896335</td>\n",
       "      <td>0.647011</td>\n",
       "      <td>0.490839</td>\n",
       "      <td>-0.033625</td>\n",
       "      <td>0.341547</td>\n",
       "      <td>0.171318</td>\n",
       "      <td>0.035437</td>\n",
       "      <td>-0.993843</td>\n",
       "    </tr>\n",
       "    <tr>\n",
       "      <th>10</th>\n",
       "      <td>10</td>\n",
       "      <td>10_0</td>\n",
       "      <td>COMPLETED</td>\n",
       "      <td>Sobol</td>\n",
       "      <td>GenerationStep_0</td>\n",
       "      <td>18487.182132</td>\n",
       "      <td>12</td>\n",
       "      <td>9</td>\n",
       "      <td>8</td>\n",
       "      <td>6</td>\n",
       "      <td>...</td>\n",
       "      <td>75</td>\n",
       "      <td>72</td>\n",
       "      <td>0.698497</td>\n",
       "      <td>0.459607</td>\n",
       "      <td>0.229165</td>\n",
       "      <td>-0.530496</td>\n",
       "      <td>0.221967</td>\n",
       "      <td>0.117124</td>\n",
       "      <td>-0.151602</td>\n",
       "      <td>-0.504940</td>\n",
       "    </tr>\n",
       "    <tr>\n",
       "      <th>11</th>\n",
       "      <td>11</td>\n",
       "      <td>11_0</td>\n",
       "      <td>COMPLETED</td>\n",
       "      <td>Sobol</td>\n",
       "      <td>GenerationStep_0</td>\n",
       "      <td>16244.563498</td>\n",
       "      <td>12</td>\n",
       "      <td>11</td>\n",
       "      <td>10</td>\n",
       "      <td>8</td>\n",
       "      <td>...</td>\n",
       "      <td>73</td>\n",
       "      <td>72</td>\n",
       "      <td>0.975376</td>\n",
       "      <td>0.447651</td>\n",
       "      <td>0.208737</td>\n",
       "      <td>-0.445987</td>\n",
       "      <td>0.370781</td>\n",
       "      <td>-0.304464</td>\n",
       "      <td>-0.601784</td>\n",
       "      <td>-0.800524</td>\n",
       "    </tr>\n",
       "    <tr>\n",
       "      <th>12</th>\n",
       "      <td>12</td>\n",
       "      <td>12_0</td>\n",
       "      <td>COMPLETED</td>\n",
       "      <td>Sobol</td>\n",
       "      <td>GenerationStep_0</td>\n",
       "      <td>7043.043222</td>\n",
       "      <td>12</td>\n",
       "      <td>10</td>\n",
       "      <td>8</td>\n",
       "      <td>7</td>\n",
       "      <td>...</td>\n",
       "      <td>80</td>\n",
       "      <td>70</td>\n",
       "      <td>0.806610</td>\n",
       "      <td>0.033735</td>\n",
       "      <td>-0.360274</td>\n",
       "      <td>-0.506197</td>\n",
       "      <td>0.871494</td>\n",
       "      <td>0.721798</td>\n",
       "      <td>-0.048776</td>\n",
       "      <td>-0.507935</td>\n",
       "    </tr>\n",
       "    <tr>\n",
       "      <th>13</th>\n",
       "      <td>13</td>\n",
       "      <td>13_0</td>\n",
       "      <td>COMPLETED</td>\n",
       "      <td>Sobol</td>\n",
       "      <td>GenerationStep_0</td>\n",
       "      <td>16800.070294</td>\n",
       "      <td>12</td>\n",
       "      <td>10</td>\n",
       "      <td>8</td>\n",
       "      <td>6</td>\n",
       "      <td>...</td>\n",
       "      <td>74</td>\n",
       "      <td>72</td>\n",
       "      <td>0.458227</td>\n",
       "      <td>-0.304928</td>\n",
       "      <td>-0.777153</td>\n",
       "      <td>-0.909986</td>\n",
       "      <td>0.808593</td>\n",
       "      <td>0.128689</td>\n",
       "      <td>-0.032689</td>\n",
       "      <td>-0.916833</td>\n",
       "    </tr>\n",
       "    <tr>\n",
       "      <th>14</th>\n",
       "      <td>14</td>\n",
       "      <td>14_0</td>\n",
       "      <td>COMPLETED</td>\n",
       "      <td>Sobol</td>\n",
       "      <td>GenerationStep_0</td>\n",
       "      <td>15362.066101</td>\n",
       "      <td>12</td>\n",
       "      <td>11</td>\n",
       "      <td>10</td>\n",
       "      <td>7</td>\n",
       "      <td>...</td>\n",
       "      <td>76</td>\n",
       "      <td>74</td>\n",
       "      <td>0.232592</td>\n",
       "      <td>0.070548</td>\n",
       "      <td>-0.306300</td>\n",
       "      <td>-0.715111</td>\n",
       "      <td>0.759975</td>\n",
       "      <td>0.314725</td>\n",
       "      <td>0.042568</td>\n",
       "      <td>-0.465571</td>\n",
       "    </tr>\n",
       "    <tr>\n",
       "      <th>15</th>\n",
       "      <td>15</td>\n",
       "      <td>15_0</td>\n",
       "      <td>COMPLETED</td>\n",
       "      <td>Sobol</td>\n",
       "      <td>GenerationStep_0</td>\n",
       "      <td>18875.553711</td>\n",
       "      <td>12</td>\n",
       "      <td>9</td>\n",
       "      <td>8</td>\n",
       "      <td>6</td>\n",
       "      <td>...</td>\n",
       "      <td>73</td>\n",
       "      <td>71</td>\n",
       "      <td>0.964683</td>\n",
       "      <td>0.647019</td>\n",
       "      <td>-0.728849</td>\n",
       "      <td>-0.850604</td>\n",
       "      <td>0.955754</td>\n",
       "      <td>0.840613</td>\n",
       "      <td>0.576597</td>\n",
       "      <td>-0.881863</td>\n",
       "    </tr>\n",
       "    <tr>\n",
       "      <th>16</th>\n",
       "      <td>16</td>\n",
       "      <td>16_0</td>\n",
       "      <td>COMPLETED</td>\n",
       "      <td>Sobol</td>\n",
       "      <td>GenerationStep_0</td>\n",
       "      <td>12860.876740</td>\n",
       "      <td>12</td>\n",
       "      <td>10</td>\n",
       "      <td>7</td>\n",
       "      <td>6</td>\n",
       "      <td>...</td>\n",
       "      <td>72</td>\n",
       "      <td>70</td>\n",
       "      <td>0.953827</td>\n",
       "      <td>0.690970</td>\n",
       "      <td>-0.232870</td>\n",
       "      <td>-0.812209</td>\n",
       "      <td>0.278017</td>\n",
       "      <td>-0.090369</td>\n",
       "      <td>-0.690880</td>\n",
       "      <td>-0.899275</td>\n",
       "    </tr>\n",
       "    <tr>\n",
       "      <th>17</th>\n",
       "      <td>17</td>\n",
       "      <td>17_0</td>\n",
       "      <td>COMPLETED</td>\n",
       "      <td>Sobol</td>\n",
       "      <td>GenerationStep_0</td>\n",
       "      <td>15261.672254</td>\n",
       "      <td>10</td>\n",
       "      <td>9</td>\n",
       "      <td>8</td>\n",
       "      <td>7</td>\n",
       "      <td>...</td>\n",
       "      <td>73</td>\n",
       "      <td>70</td>\n",
       "      <td>0.353232</td>\n",
       "      <td>0.199029</td>\n",
       "      <td>-0.490229</td>\n",
       "      <td>-0.877088</td>\n",
       "      <td>0.894889</td>\n",
       "      <td>0.390662</td>\n",
       "      <td>0.221596</td>\n",
       "      <td>0.094559</td>\n",
       "    </tr>\n",
       "    <tr>\n",
       "      <th>18</th>\n",
       "      <td>18</td>\n",
       "      <td>18_0</td>\n",
       "      <td>COMPLETED</td>\n",
       "      <td>Sobol</td>\n",
       "      <td>GenerationStep_0</td>\n",
       "      <td>7869.516829</td>\n",
       "      <td>12</td>\n",
       "      <td>11</td>\n",
       "      <td>8</td>\n",
       "      <td>6</td>\n",
       "      <td>...</td>\n",
       "      <td>80</td>\n",
       "      <td>74</td>\n",
       "      <td>0.041903</td>\n",
       "      <td>-0.089575</td>\n",
       "      <td>-0.390566</td>\n",
       "      <td>-0.697781</td>\n",
       "      <td>0.702879</td>\n",
       "      <td>-0.036825</td>\n",
       "      <td>-0.237027</td>\n",
       "      <td>-0.681881</td>\n",
       "    </tr>\n",
       "    <tr>\n",
       "      <th>19</th>\n",
       "      <td>19</td>\n",
       "      <td>19_0</td>\n",
       "      <td>COMPLETED</td>\n",
       "      <td>Sobol</td>\n",
       "      <td>GenerationStep_0</td>\n",
       "      <td>6692.784000</td>\n",
       "      <td>12</td>\n",
       "      <td>11</td>\n",
       "      <td>10</td>\n",
       "      <td>9</td>\n",
       "      <td>...</td>\n",
       "      <td>80</td>\n",
       "      <td>76</td>\n",
       "      <td>0.569245</td>\n",
       "      <td>0.413806</td>\n",
       "      <td>-0.621427</td>\n",
       "      <td>-0.904653</td>\n",
       "      <td>0.911080</td>\n",
       "      <td>-0.244046</td>\n",
       "      <td>-0.705974</td>\n",
       "      <td>-0.955894</td>\n",
       "    </tr>\n",
       "    <tr>\n",
       "      <th>20</th>\n",
       "      <td>20</td>\n",
       "      <td>20_0</td>\n",
       "      <td>COMPLETED</td>\n",
       "      <td>Sobol</td>\n",
       "      <td>GenerationStep_0</td>\n",
       "      <td>9495.603160</td>\n",
       "      <td>12</td>\n",
       "      <td>10</td>\n",
       "      <td>8</td>\n",
       "      <td>6</td>\n",
       "      <td>...</td>\n",
       "      <td>80</td>\n",
       "      <td>71</td>\n",
       "      <td>0.431047</td>\n",
       "      <td>-0.286051</td>\n",
       "      <td>-0.413779</td>\n",
       "      <td>-0.854992</td>\n",
       "      <td>0.496138</td>\n",
       "      <td>0.231937</td>\n",
       "      <td>-0.119515</td>\n",
       "      <td>-0.967046</td>\n",
       "    </tr>\n",
       "    <tr>\n",
       "      <th>21</th>\n",
       "      <td>21</td>\n",
       "      <td>21_0</td>\n",
       "      <td>COMPLETED</td>\n",
       "      <td>Sobol</td>\n",
       "      <td>GenerationStep_0</td>\n",
       "      <td>9564.724288</td>\n",
       "      <td>12</td>\n",
       "      <td>10</td>\n",
       "      <td>9</td>\n",
       "      <td>7</td>\n",
       "      <td>...</td>\n",
       "      <td>79</td>\n",
       "      <td>71</td>\n",
       "      <td>0.361093</td>\n",
       "      <td>-0.341684</td>\n",
       "      <td>-0.494568</td>\n",
       "      <td>-0.763024</td>\n",
       "      <td>0.252317</td>\n",
       "      <td>0.080664</td>\n",
       "      <td>-0.220885</td>\n",
       "      <td>-0.468109</td>\n",
       "    </tr>\n",
       "    <tr>\n",
       "      <th>22</th>\n",
       "      <td>22</td>\n",
       "      <td>22_0</td>\n",
       "      <td>COMPLETED</td>\n",
       "      <td>Sobol</td>\n",
       "      <td>GenerationStep_0</td>\n",
       "      <td>9675.971277</td>\n",
       "      <td>12</td>\n",
       "      <td>11</td>\n",
       "      <td>9</td>\n",
       "      <td>6</td>\n",
       "      <td>...</td>\n",
       "      <td>79</td>\n",
       "      <td>70</td>\n",
       "      <td>0.717189</td>\n",
       "      <td>0.442736</td>\n",
       "      <td>0.329513</td>\n",
       "      <td>-0.262014</td>\n",
       "      <td>0.319629</td>\n",
       "      <td>-0.090027</td>\n",
       "      <td>-0.371659</td>\n",
       "      <td>-0.480928</td>\n",
       "    </tr>\n",
       "    <tr>\n",
       "      <th>23</th>\n",
       "      <td>23</td>\n",
       "      <td>23_0</td>\n",
       "      <td>COMPLETED</td>\n",
       "      <td>Sobol</td>\n",
       "      <td>GenerationStep_0</td>\n",
       "      <td>22589.740913</td>\n",
       "      <td>12</td>\n",
       "      <td>10</td>\n",
       "      <td>9</td>\n",
       "      <td>6</td>\n",
       "      <td>...</td>\n",
       "      <td>74</td>\n",
       "      <td>72</td>\n",
       "      <td>0.484176</td>\n",
       "      <td>0.206889</td>\n",
       "      <td>0.063914</td>\n",
       "      <td>-0.539104</td>\n",
       "      <td>0.151793</td>\n",
       "      <td>0.044868</td>\n",
       "      <td>-0.277143</td>\n",
       "      <td>-0.474560</td>\n",
       "    </tr>\n",
       "    <tr>\n",
       "      <th>24</th>\n",
       "      <td>24</td>\n",
       "      <td>24_0</td>\n",
       "      <td>COMPLETED</td>\n",
       "      <td>Sobol</td>\n",
       "      <td>GenerationStep_0</td>\n",
       "      <td>12033.342215</td>\n",
       "      <td>11</td>\n",
       "      <td>10</td>\n",
       "      <td>8</td>\n",
       "      <td>6</td>\n",
       "      <td>...</td>\n",
       "      <td>75</td>\n",
       "      <td>72</td>\n",
       "      <td>0.046460</td>\n",
       "      <td>-0.146647</td>\n",
       "      <td>-0.701495</td>\n",
       "      <td>-0.859291</td>\n",
       "      <td>-0.045279</td>\n",
       "      <td>-0.215304</td>\n",
       "      <td>-0.448855</td>\n",
       "      <td>-0.950175</td>\n",
       "    </tr>\n",
       "    <tr>\n",
       "      <th>25</th>\n",
       "      <td>25</td>\n",
       "      <td>25_0</td>\n",
       "      <td>COMPLETED</td>\n",
       "      <td>Sobol</td>\n",
       "      <td>GenerationStep_0</td>\n",
       "      <td>4946.405209</td>\n",
       "      <td>12</td>\n",
       "      <td>11</td>\n",
       "      <td>9</td>\n",
       "      <td>8</td>\n",
       "      <td>...</td>\n",
       "      <td>81</td>\n",
       "      <td>76</td>\n",
       "      <td>0.161262</td>\n",
       "      <td>0.053464</td>\n",
       "      <td>-0.494616</td>\n",
       "      <td>-0.710361</td>\n",
       "      <td>0.355491</td>\n",
       "      <td>-0.546634</td>\n",
       "      <td>-0.764237</td>\n",
       "      <td>-0.977205</td>\n",
       "    </tr>\n",
       "    <tr>\n",
       "      <th>26</th>\n",
       "      <td>26</td>\n",
       "      <td>26_0</td>\n",
       "      <td>COMPLETED</td>\n",
       "      <td>Sobol</td>\n",
       "      <td>GenerationStep_0</td>\n",
       "      <td>12223.449173</td>\n",
       "      <td>12</td>\n",
       "      <td>11</td>\n",
       "      <td>9</td>\n",
       "      <td>6</td>\n",
       "      <td>...</td>\n",
       "      <td>74</td>\n",
       "      <td>72</td>\n",
       "      <td>0.801113</td>\n",
       "      <td>-0.265601</td>\n",
       "      <td>-0.483544</td>\n",
       "      <td>-0.703877</td>\n",
       "      <td>0.668442</td>\n",
       "      <td>0.567773</td>\n",
       "      <td>-0.237346</td>\n",
       "      <td>-0.658340</td>\n",
       "    </tr>\n",
       "    <tr>\n",
       "      <th>27</th>\n",
       "      <td>27</td>\n",
       "      <td>27_0</td>\n",
       "      <td>COMPLETED</td>\n",
       "      <td>Sobol</td>\n",
       "      <td>GenerationStep_0</td>\n",
       "      <td>7363.860512</td>\n",
       "      <td>11</td>\n",
       "      <td>10</td>\n",
       "      <td>8</td>\n",
       "      <td>7</td>\n",
       "      <td>...</td>\n",
       "      <td>78</td>\n",
       "      <td>71</td>\n",
       "      <td>0.817332</td>\n",
       "      <td>0.575089</td>\n",
       "      <td>0.014748</td>\n",
       "      <td>-0.186335</td>\n",
       "      <td>0.900406</td>\n",
       "      <td>0.618467</td>\n",
       "      <td>-0.179112</td>\n",
       "      <td>-0.972480</td>\n",
       "    </tr>\n",
       "    <tr>\n",
       "      <th>28</th>\n",
       "      <td>28</td>\n",
       "      <td>28_0</td>\n",
       "      <td>COMPLETED</td>\n",
       "      <td>Sobol</td>\n",
       "      <td>GenerationStep_0</td>\n",
       "      <td>13159.657818</td>\n",
       "      <td>12</td>\n",
       "      <td>11</td>\n",
       "      <td>10</td>\n",
       "      <td>7</td>\n",
       "      <td>...</td>\n",
       "      <td>74</td>\n",
       "      <td>71</td>\n",
       "      <td>0.240001</td>\n",
       "      <td>-0.243542</td>\n",
       "      <td>-0.494016</td>\n",
       "      <td>-0.691275</td>\n",
       "      <td>0.876094</td>\n",
       "      <td>-0.117582</td>\n",
       "      <td>-0.346463</td>\n",
       "      <td>-0.947111</td>\n",
       "    </tr>\n",
       "    <tr>\n",
       "      <th>29</th>\n",
       "      <td>29</td>\n",
       "      <td>29_0</td>\n",
       "      <td>COMPLETED</td>\n",
       "      <td>Sobol</td>\n",
       "      <td>GenerationStep_0</td>\n",
       "      <td>9296.834534</td>\n",
       "      <td>12</td>\n",
       "      <td>11</td>\n",
       "      <td>8</td>\n",
       "      <td>6</td>\n",
       "      <td>...</td>\n",
       "      <td>79</td>\n",
       "      <td>76</td>\n",
       "      <td>0.402169</td>\n",
       "      <td>0.049338</td>\n",
       "      <td>-0.137541</td>\n",
       "      <td>-0.798900</td>\n",
       "      <td>0.791163</td>\n",
       "      <td>0.650693</td>\n",
       "      <td>-0.169745</td>\n",
       "      <td>-0.447370</td>\n",
       "    </tr>\n",
       "    <tr>\n",
       "      <th>30</th>\n",
       "      <td>30</td>\n",
       "      <td>30_0</td>\n",
       "      <td>COMPLETED</td>\n",
       "      <td>Sobol</td>\n",
       "      <td>GenerationStep_0</td>\n",
       "      <td>6227.379981</td>\n",
       "      <td>12</td>\n",
       "      <td>11</td>\n",
       "      <td>9</td>\n",
       "      <td>7</td>\n",
       "      <td>...</td>\n",
       "      <td>80</td>\n",
       "      <td>78</td>\n",
       "      <td>0.914947</td>\n",
       "      <td>0.746128</td>\n",
       "      <td>0.488302</td>\n",
       "      <td>-0.648806</td>\n",
       "      <td>0.979171</td>\n",
       "      <td>0.521583</td>\n",
       "      <td>0.000686</td>\n",
       "      <td>-0.545611</td>\n",
       "    </tr>\n",
       "    <tr>\n",
       "      <th>31</th>\n",
       "      <td>31</td>\n",
       "      <td>31_0</td>\n",
       "      <td>COMPLETED</td>\n",
       "      <td>Sobol</td>\n",
       "      <td>GenerationStep_0</td>\n",
       "      <td>4977.997648</td>\n",
       "      <td>12</td>\n",
       "      <td>10</td>\n",
       "      <td>9</td>\n",
       "      <td>7</td>\n",
       "      <td>...</td>\n",
       "      <td>83</td>\n",
       "      <td>72</td>\n",
       "      <td>0.704271</td>\n",
       "      <td>0.595901</td>\n",
       "      <td>-0.684682</td>\n",
       "      <td>-0.801760</td>\n",
       "      <td>0.972835</td>\n",
       "      <td>-0.045329</td>\n",
       "      <td>-0.671414</td>\n",
       "      <td>-0.780367</td>\n",
       "    </tr>\n",
       "    <tr>\n",
       "      <th>32</th>\n",
       "      <td>32</td>\n",
       "      <td>32_0</td>\n",
       "      <td>COMPLETED</td>\n",
       "      <td>BoTorch</td>\n",
       "      <td>GenerationStep_1</td>\n",
       "      <td>17983.187799</td>\n",
       "      <td>12</td>\n",
       "      <td>9</td>\n",
       "      <td>8</td>\n",
       "      <td>6</td>\n",
       "      <td>...</td>\n",
       "      <td>74</td>\n",
       "      <td>73</td>\n",
       "      <td>0.914434</td>\n",
       "      <td>0.256058</td>\n",
       "      <td>0.156058</td>\n",
       "      <td>-0.852803</td>\n",
       "      <td>0.282354</td>\n",
       "      <td>0.182354</td>\n",
       "      <td>0.082354</td>\n",
       "      <td>-0.266705</td>\n",
       "    </tr>\n",
       "  </tbody>\n",
       "</table>\n",
       "<p>33 rows × 22 columns</p>\n",
       "</div>"
      ],
      "text/plain": [
       "    trial_index arm_name trial_status generation_method   generation_node  \\\n",
       "0             0      0_0    COMPLETED             Sobol  GenerationStep_0   \n",
       "1             1      1_0    COMPLETED             Sobol  GenerationStep_0   \n",
       "2             2      2_0    COMPLETED             Sobol  GenerationStep_0   \n",
       "3             3      3_0    COMPLETED             Sobol  GenerationStep_0   \n",
       "4             4      4_0    COMPLETED             Sobol  GenerationStep_0   \n",
       "5             5      5_0    COMPLETED             Sobol  GenerationStep_0   \n",
       "6             6      6_0    COMPLETED             Sobol  GenerationStep_0   \n",
       "7             7      7_0    COMPLETED             Sobol  GenerationStep_0   \n",
       "8             8      8_0    COMPLETED             Sobol  GenerationStep_0   \n",
       "9             9      9_0    COMPLETED             Sobol  GenerationStep_0   \n",
       "10           10     10_0    COMPLETED             Sobol  GenerationStep_0   \n",
       "11           11     11_0    COMPLETED             Sobol  GenerationStep_0   \n",
       "12           12     12_0    COMPLETED             Sobol  GenerationStep_0   \n",
       "13           13     13_0    COMPLETED             Sobol  GenerationStep_0   \n",
       "14           14     14_0    COMPLETED             Sobol  GenerationStep_0   \n",
       "15           15     15_0    COMPLETED             Sobol  GenerationStep_0   \n",
       "16           16     16_0    COMPLETED             Sobol  GenerationStep_0   \n",
       "17           17     17_0    COMPLETED             Sobol  GenerationStep_0   \n",
       "18           18     18_0    COMPLETED             Sobol  GenerationStep_0   \n",
       "19           19     19_0    COMPLETED             Sobol  GenerationStep_0   \n",
       "20           20     20_0    COMPLETED             Sobol  GenerationStep_0   \n",
       "21           21     21_0    COMPLETED             Sobol  GenerationStep_0   \n",
       "22           22     22_0    COMPLETED             Sobol  GenerationStep_0   \n",
       "23           23     23_0    COMPLETED             Sobol  GenerationStep_0   \n",
       "24           24     24_0    COMPLETED             Sobol  GenerationStep_0   \n",
       "25           25     25_0    COMPLETED             Sobol  GenerationStep_0   \n",
       "26           26     26_0    COMPLETED             Sobol  GenerationStep_0   \n",
       "27           27     27_0    COMPLETED             Sobol  GenerationStep_0   \n",
       "28           28     28_0    COMPLETED             Sobol  GenerationStep_0   \n",
       "29           29     29_0    COMPLETED             Sobol  GenerationStep_0   \n",
       "30           30     30_0    COMPLETED             Sobol  GenerationStep_0   \n",
       "31           31     31_0    COMPLETED             Sobol  GenerationStep_0   \n",
       "32           32     32_0    COMPLETED           BoTorch  GenerationStep_1   \n",
       "\n",
       "    Cross_term_gear_ratio_product  z_sh  z_sh_1  z_sh_2  z_sh_3  ...  z_r2_2  \\\n",
       "0                     8872.782227    12      10       9       6  ...      79   \n",
       "1                     9739.472591    12      11       7       6  ...      78   \n",
       "2                    14978.138531    12      11       9       7  ...      71   \n",
       "3                     9137.129494    12      11       9       6  ...      78   \n",
       "4                    10759.507340    12       9       8       6  ...      71   \n",
       "5                    15392.768516    12      11       8       6  ...      77   \n",
       "6                    12264.600527    11      10       8       6  ...      78   \n",
       "7                    10876.219603    12       9       8       6  ...      74   \n",
       "8                    10255.645631    12      10       8       7  ...      78   \n",
       "9                    17678.739456    11      10       8       7  ...      73   \n",
       "10                   18487.182132    12       9       8       6  ...      75   \n",
       "11                   16244.563498    12      11      10       8  ...      73   \n",
       "12                    7043.043222    12      10       8       7  ...      80   \n",
       "13                   16800.070294    12      10       8       6  ...      74   \n",
       "14                   15362.066101    12      11      10       7  ...      76   \n",
       "15                   18875.553711    12       9       8       6  ...      73   \n",
       "16                   12860.876740    12      10       7       6  ...      72   \n",
       "17                   15261.672254    10       9       8       7  ...      73   \n",
       "18                    7869.516829    12      11       8       6  ...      80   \n",
       "19                    6692.784000    12      11      10       9  ...      80   \n",
       "20                    9495.603160    12      10       8       6  ...      80   \n",
       "21                    9564.724288    12      10       9       7  ...      79   \n",
       "22                    9675.971277    12      11       9       6  ...      79   \n",
       "23                   22589.740913    12      10       9       6  ...      74   \n",
       "24                   12033.342215    11      10       8       6  ...      75   \n",
       "25                    4946.405209    12      11       9       8  ...      81   \n",
       "26                   12223.449173    12      11       9       6  ...      74   \n",
       "27                    7363.860512    11      10       8       7  ...      78   \n",
       "28                   13159.657818    12      11      10       7  ...      74   \n",
       "29                    9296.834534    12      11       8       6  ...      79   \n",
       "30                    6227.379981    12      11       9       7  ...      80   \n",
       "31                    4977.997648    12      10       9       7  ...      83   \n",
       "32                   17983.187799    12       9       8       6  ...      74   \n",
       "\n",
       "    z_r2_3       x_s     x_s_1     x_s_2     x_s_3      x_r2    x_r2_1  \\\n",
       "0       72  0.852539  0.461223 -0.485348 -0.916786  0.881498  0.245273   \n",
       "1       72  0.051159 -0.087764 -0.388331 -0.849742  0.888910  0.688103   \n",
       "2       70  0.308637 -0.116884 -0.352805 -0.637753  0.977737  0.387436   \n",
       "3       72  0.979506  0.629408 -0.801876 -0.942703  0.993859  0.633158   \n",
       "4       70  0.823046  0.457002 -0.101252 -0.911382  0.177348  0.012991   \n",
       "5       75  0.458567  0.228272 -0.011724 -0.687003  0.628185  0.449645   \n",
       "6       74  0.630323  0.013411 -0.109580 -0.815011  0.862837  0.733356   \n",
       "7       70  0.532841  0.342231  0.221892 -0.991905  0.909817 -0.024229   \n",
       "8       71  0.681542  0.216553  0.014679 -0.741022  0.954079  0.173946   \n",
       "9       72  0.896335  0.647011  0.490839 -0.033625  0.341547  0.171318   \n",
       "10      72  0.698497  0.459607  0.229165 -0.530496  0.221967  0.117124   \n",
       "11      72  0.975376  0.447651  0.208737 -0.445987  0.370781 -0.304464   \n",
       "12      70  0.806610  0.033735 -0.360274 -0.506197  0.871494  0.721798   \n",
       "13      72  0.458227 -0.304928 -0.777153 -0.909986  0.808593  0.128689   \n",
       "14      74  0.232592  0.070548 -0.306300 -0.715111  0.759975  0.314725   \n",
       "15      71  0.964683  0.647019 -0.728849 -0.850604  0.955754  0.840613   \n",
       "16      70  0.953827  0.690970 -0.232870 -0.812209  0.278017 -0.090369   \n",
       "17      70  0.353232  0.199029 -0.490229 -0.877088  0.894889  0.390662   \n",
       "18      74  0.041903 -0.089575 -0.390566 -0.697781  0.702879 -0.036825   \n",
       "19      76  0.569245  0.413806 -0.621427 -0.904653  0.911080 -0.244046   \n",
       "20      71  0.431047 -0.286051 -0.413779 -0.854992  0.496138  0.231937   \n",
       "21      71  0.361093 -0.341684 -0.494568 -0.763024  0.252317  0.080664   \n",
       "22      70  0.717189  0.442736  0.329513 -0.262014  0.319629 -0.090027   \n",
       "23      72  0.484176  0.206889  0.063914 -0.539104  0.151793  0.044868   \n",
       "24      72  0.046460 -0.146647 -0.701495 -0.859291 -0.045279 -0.215304   \n",
       "25      76  0.161262  0.053464 -0.494616 -0.710361  0.355491 -0.546634   \n",
       "26      72  0.801113 -0.265601 -0.483544 -0.703877  0.668442  0.567773   \n",
       "27      71  0.817332  0.575089  0.014748 -0.186335  0.900406  0.618467   \n",
       "28      71  0.240001 -0.243542 -0.494016 -0.691275  0.876094 -0.117582   \n",
       "29      76  0.402169  0.049338 -0.137541 -0.798900  0.791163  0.650693   \n",
       "30      78  0.914947  0.746128  0.488302 -0.648806  0.979171  0.521583   \n",
       "31      72  0.704271  0.595901 -0.684682 -0.801760  0.972835 -0.045329   \n",
       "32      73  0.914434  0.256058  0.156058 -0.852803  0.282354  0.182354   \n",
       "\n",
       "      x_r2_2    x_r2_3  \n",
       "0  -0.100612 -0.474676  \n",
       "1   0.132891 -0.589752  \n",
       "2   0.169031 -0.993066  \n",
       "3   0.448283 -0.354437  \n",
       "4  -0.336386 -0.942341  \n",
       "5  -0.280487 -0.743190  \n",
       "6   0.212547 -0.120198  \n",
       "7  -0.276670 -0.806480  \n",
       "8  -0.149079 -0.499196  \n",
       "9   0.035437 -0.993843  \n",
       "10 -0.151602 -0.504940  \n",
       "11 -0.601784 -0.800524  \n",
       "12 -0.048776 -0.507935  \n",
       "13 -0.032689 -0.916833  \n",
       "14  0.042568 -0.465571  \n",
       "15  0.576597 -0.881863  \n",
       "16 -0.690880 -0.899275  \n",
       "17  0.221596  0.094559  \n",
       "18 -0.237027 -0.681881  \n",
       "19 -0.705974 -0.955894  \n",
       "20 -0.119515 -0.967046  \n",
       "21 -0.220885 -0.468109  \n",
       "22 -0.371659 -0.480928  \n",
       "23 -0.277143 -0.474560  \n",
       "24 -0.448855 -0.950175  \n",
       "25 -0.764237 -0.977205  \n",
       "26 -0.237346 -0.658340  \n",
       "27 -0.179112 -0.972480  \n",
       "28 -0.346463 -0.947111  \n",
       "29 -0.169745 -0.447370  \n",
       "30  0.000686 -0.545611  \n",
       "31 -0.671414 -0.780367  \n",
       "32  0.082354 -0.266705  \n",
       "\n",
       "[33 rows x 22 columns]"
      ]
     },
     "execution_count": 17,
     "metadata": {},
     "output_type": "execute_result"
    }
   ],
   "source": [
    "Tag_client.generation_strategy.trials_as_df"
   ]
  },
  {
   "cell_type": "code",
   "execution_count": 18,
   "metadata": {},
   "outputs": [
    {
     "data": {
      "application/vnd.plotly.v1+json": {
       "config": {
        "linkText": "Export to plot.ly",
        "plotlyServerURL": "https://plot.ly",
        "showLink": false
       },
       "data": [
        {
         "hoverinfo": "none",
         "legendgroup": "",
         "line": {
          "width": 0
         },
         "mode": "lines",
         "showlegend": false,
         "type": "scatter",
         "x": {
          "bdata": "AQIDBAUGBwgJCgsMDQ4PEBESExQVFhcYGRobHB0eHyAh",
          "dtype": "i1"
         },
         "y": {
          "bdata": "0eMCIGRUwUA+8tp9vAXDQGMDZbsRQc1AYwNluxFBzUBjA2W7EUHNQBNBuV5iEM5AE0G5XmIQzkATQbleYhDOQBNBuV5iEM5A4qFAU69D0UDLRQ6oyw3SQMtFDqjLDdJAy0UOqMsN0kDLRQ6oyw3SQMtFDqjLDdJAhNv+b+Nu0kCE2/5v427SQITb/m/jbtJAhNv+b+Nu0kCE2/5v427SQITb/m/jbtJAhNv+b+Nu0kCE2/5v427SQBGdHWtvD9ZAEZ0da28P1kARnR1rbw/WQBGdHWtvD9ZAEZ0da28P1kARnR1rbw/WQBGdHWtvD9ZAEZ0da28P1kARnR1rbw/WQBGdHWtvD9ZA",
          "dtype": "f8"
         }
        },
        {
         "fill": "tonexty",
         "fillcolor": "rgba(128,177,211,0.3)",
         "legendgroup": "objective value",
         "line": {
          "color": "rgba(128,177,211,1)"
         },
         "mode": "lines",
         "name": "objective value",
         "text": [
          "Parameterization has too many items to render on hover (16).",
          "Parameterization has too many items to render on hover (16).",
          "Parameterization has too many items to render on hover (16).",
          "Parameterization has too many items to render on hover (16).",
          "Parameterization has too many items to render on hover (16).",
          "Parameterization has too many items to render on hover (16).",
          "Parameterization has too many items to render on hover (16).",
          "Parameterization has too many items to render on hover (16).",
          "Parameterization has too many items to render on hover (16).",
          "Parameterization has too many items to render on hover (16).",
          "Parameterization has too many items to render on hover (16).",
          "Parameterization has too many items to render on hover (16).",
          "Parameterization has too many items to render on hover (16).",
          "Parameterization has too many items to render on hover (16).",
          "Parameterization has too many items to render on hover (16).",
          "Parameterization has too many items to render on hover (16).",
          "Parameterization has too many items to render on hover (16).",
          "Parameterization has too many items to render on hover (16).",
          "Parameterization has too many items to render on hover (16).",
          "Parameterization has too many items to render on hover (16).",
          "Parameterization has too many items to render on hover (16).",
          "Parameterization has too many items to render on hover (16).",
          "Parameterization has too many items to render on hover (16).",
          "Parameterization has too many items to render on hover (16).",
          "Parameterization has too many items to render on hover (16).",
          "Parameterization has too many items to render on hover (16).",
          "Parameterization has too many items to render on hover (16).",
          "Parameterization has too many items to render on hover (16).",
          "Parameterization has too many items to render on hover (16).",
          "Parameterization has too many items to render on hover (16).",
          "Parameterization has too many items to render on hover (16).",
          "Parameterization has too many items to render on hover (16).",
          "Parameterization has too many items to render on hover (16)."
         ],
         "type": "scatter",
         "x": {
          "bdata": "AQIDBAUGBwgJCgsMDQ4PEBESExQVFhcYGRobHB0eHyAh",
          "dtype": "i1"
         },
         "y": {
          "bdata": "0eMCIGRUwUA+8tp9vAXDQGMDZbsRQc1AYwNluxFBzUBjA2W7EUHNQBNBuV5iEM5AE0G5XmIQzkATQbleYhDOQBNBuV5iEM5A4qFAU69D0UDLRQ6oyw3SQMtFDqjLDdJAy0UOqMsN0kDLRQ6oyw3SQMtFDqjLDdJAhNv+b+Nu0kCE2/5v427SQITb/m/jbtJAhNv+b+Nu0kCE2/5v427SQITb/m/jbtJAhNv+b+Nu0kCE2/5v427SQBGdHWtvD9ZAEZ0da28P1kARnR1rbw/WQBGdHWtvD9ZAEZ0da28P1kARnR1rbw/WQBGdHWtvD9ZAEZ0da28P1kARnR1rbw/WQBGdHWtvD9ZA",
          "dtype": "f8"
         }
        },
        {
         "fill": "tonexty",
         "fillcolor": "rgba(128,177,211,0.3)",
         "hoverinfo": "none",
         "legendgroup": "",
         "line": {
          "width": 0
         },
         "mode": "lines",
         "showlegend": false,
         "type": "scatter",
         "x": {
          "bdata": "AQIDBAUGBwgJCgsMDQ4PEBESExQVFhcYGRobHB0eHyAh",
          "dtype": "i1"
         },
         "y": {
          "bdata": "0eMCIGRUwUA+8tp9vAXDQGMDZbsRQc1AYwNluxFBzUBjA2W7EUHNQBNBuV5iEM5AE0G5XmIQzkATQbleYhDOQBNBuV5iEM5A4qFAU69D0UDLRQ6oyw3SQMtFDqjLDdJAy0UOqMsN0kDLRQ6oyw3SQMtFDqjLDdJAhNv+b+Nu0kCE2/5v427SQITb/m/jbtJAhNv+b+Nu0kCE2/5v427SQITb/m/jbtJAhNv+b+Nu0kCE2/5v427SQBGdHWtvD9ZAEZ0da28P1kARnR1rbw/WQBGdHWtvD9ZAEZ0da28P1kARnR1rbw/WQBGdHWtvD9ZAEZ0da28P1kARnR1rbw/WQBGdHWtvD9ZA",
          "dtype": "f8"
         }
        }
       ],
       "layout": {
        "showlegend": true,
        "template": {
         "data": {
          "bar": [
           {
            "error_x": {
             "color": "#2a3f5f"
            },
            "error_y": {
             "color": "#2a3f5f"
            },
            "marker": {
             "line": {
              "color": "#E5ECF6",
              "width": 0.5
             },
             "pattern": {
              "fillmode": "overlay",
              "size": 10,
              "solidity": 0.2
             }
            },
            "type": "bar"
           }
          ],
          "barpolar": [
           {
            "marker": {
             "line": {
              "color": "#E5ECF6",
              "width": 0.5
             },
             "pattern": {
              "fillmode": "overlay",
              "size": 10,
              "solidity": 0.2
             }
            },
            "type": "barpolar"
           }
          ],
          "carpet": [
           {
            "aaxis": {
             "endlinecolor": "#2a3f5f",
             "gridcolor": "white",
             "linecolor": "white",
             "minorgridcolor": "white",
             "startlinecolor": "#2a3f5f"
            },
            "baxis": {
             "endlinecolor": "#2a3f5f",
             "gridcolor": "white",
             "linecolor": "white",
             "minorgridcolor": "white",
             "startlinecolor": "#2a3f5f"
            },
            "type": "carpet"
           }
          ],
          "choropleth": [
           {
            "colorbar": {
             "outlinewidth": 0,
             "ticks": ""
            },
            "type": "choropleth"
           }
          ],
          "contour": [
           {
            "colorbar": {
             "outlinewidth": 0,
             "ticks": ""
            },
            "colorscale": [
             [
              0,
              "#0d0887"
             ],
             [
              0.1111111111111111,
              "#46039f"
             ],
             [
              0.2222222222222222,
              "#7201a8"
             ],
             [
              0.3333333333333333,
              "#9c179e"
             ],
             [
              0.4444444444444444,
              "#bd3786"
             ],
             [
              0.5555555555555556,
              "#d8576b"
             ],
             [
              0.6666666666666666,
              "#ed7953"
             ],
             [
              0.7777777777777778,
              "#fb9f3a"
             ],
             [
              0.8888888888888888,
              "#fdca26"
             ],
             [
              1,
              "#f0f921"
             ]
            ],
            "type": "contour"
           }
          ],
          "contourcarpet": [
           {
            "colorbar": {
             "outlinewidth": 0,
             "ticks": ""
            },
            "type": "contourcarpet"
           }
          ],
          "heatmap": [
           {
            "colorbar": {
             "outlinewidth": 0,
             "ticks": ""
            },
            "colorscale": [
             [
              0,
              "#0d0887"
             ],
             [
              0.1111111111111111,
              "#46039f"
             ],
             [
              0.2222222222222222,
              "#7201a8"
             ],
             [
              0.3333333333333333,
              "#9c179e"
             ],
             [
              0.4444444444444444,
              "#bd3786"
             ],
             [
              0.5555555555555556,
              "#d8576b"
             ],
             [
              0.6666666666666666,
              "#ed7953"
             ],
             [
              0.7777777777777778,
              "#fb9f3a"
             ],
             [
              0.8888888888888888,
              "#fdca26"
             ],
             [
              1,
              "#f0f921"
             ]
            ],
            "type": "heatmap"
           }
          ],
          "histogram": [
           {
            "marker": {
             "pattern": {
              "fillmode": "overlay",
              "size": 10,
              "solidity": 0.2
             }
            },
            "type": "histogram"
           }
          ],
          "histogram2d": [
           {
            "colorbar": {
             "outlinewidth": 0,
             "ticks": ""
            },
            "colorscale": [
             [
              0,
              "#0d0887"
             ],
             [
              0.1111111111111111,
              "#46039f"
             ],
             [
              0.2222222222222222,
              "#7201a8"
             ],
             [
              0.3333333333333333,
              "#9c179e"
             ],
             [
              0.4444444444444444,
              "#bd3786"
             ],
             [
              0.5555555555555556,
              "#d8576b"
             ],
             [
              0.6666666666666666,
              "#ed7953"
             ],
             [
              0.7777777777777778,
              "#fb9f3a"
             ],
             [
              0.8888888888888888,
              "#fdca26"
             ],
             [
              1,
              "#f0f921"
             ]
            ],
            "type": "histogram2d"
           }
          ],
          "histogram2dcontour": [
           {
            "colorbar": {
             "outlinewidth": 0,
             "ticks": ""
            },
            "colorscale": [
             [
              0,
              "#0d0887"
             ],
             [
              0.1111111111111111,
              "#46039f"
             ],
             [
              0.2222222222222222,
              "#7201a8"
             ],
             [
              0.3333333333333333,
              "#9c179e"
             ],
             [
              0.4444444444444444,
              "#bd3786"
             ],
             [
              0.5555555555555556,
              "#d8576b"
             ],
             [
              0.6666666666666666,
              "#ed7953"
             ],
             [
              0.7777777777777778,
              "#fb9f3a"
             ],
             [
              0.8888888888888888,
              "#fdca26"
             ],
             [
              1,
              "#f0f921"
             ]
            ],
            "type": "histogram2dcontour"
           }
          ],
          "mesh3d": [
           {
            "colorbar": {
             "outlinewidth": 0,
             "ticks": ""
            },
            "type": "mesh3d"
           }
          ],
          "parcoords": [
           {
            "line": {
             "colorbar": {
              "outlinewidth": 0,
              "ticks": ""
             }
            },
            "type": "parcoords"
           }
          ],
          "pie": [
           {
            "automargin": true,
            "type": "pie"
           }
          ],
          "scatter": [
           {
            "fillpattern": {
             "fillmode": "overlay",
             "size": 10,
             "solidity": 0.2
            },
            "type": "scatter"
           }
          ],
          "scatter3d": [
           {
            "line": {
             "colorbar": {
              "outlinewidth": 0,
              "ticks": ""
             }
            },
            "marker": {
             "colorbar": {
              "outlinewidth": 0,
              "ticks": ""
             }
            },
            "type": "scatter3d"
           }
          ],
          "scattercarpet": [
           {
            "marker": {
             "colorbar": {
              "outlinewidth": 0,
              "ticks": ""
             }
            },
            "type": "scattercarpet"
           }
          ],
          "scattergeo": [
           {
            "marker": {
             "colorbar": {
              "outlinewidth": 0,
              "ticks": ""
             }
            },
            "type": "scattergeo"
           }
          ],
          "scattergl": [
           {
            "marker": {
             "colorbar": {
              "outlinewidth": 0,
              "ticks": ""
             }
            },
            "type": "scattergl"
           }
          ],
          "scattermap": [
           {
            "marker": {
             "colorbar": {
              "outlinewidth": 0,
              "ticks": ""
             }
            },
            "type": "scattermap"
           }
          ],
          "scattermapbox": [
           {
            "marker": {
             "colorbar": {
              "outlinewidth": 0,
              "ticks": ""
             }
            },
            "type": "scattermapbox"
           }
          ],
          "scatterpolar": [
           {
            "marker": {
             "colorbar": {
              "outlinewidth": 0,
              "ticks": ""
             }
            },
            "type": "scatterpolar"
           }
          ],
          "scatterpolargl": [
           {
            "marker": {
             "colorbar": {
              "outlinewidth": 0,
              "ticks": ""
             }
            },
            "type": "scatterpolargl"
           }
          ],
          "scatterternary": [
           {
            "marker": {
             "colorbar": {
              "outlinewidth": 0,
              "ticks": ""
             }
            },
            "type": "scatterternary"
           }
          ],
          "surface": [
           {
            "colorbar": {
             "outlinewidth": 0,
             "ticks": ""
            },
            "colorscale": [
             [
              0,
              "#0d0887"
             ],
             [
              0.1111111111111111,
              "#46039f"
             ],
             [
              0.2222222222222222,
              "#7201a8"
             ],
             [
              0.3333333333333333,
              "#9c179e"
             ],
             [
              0.4444444444444444,
              "#bd3786"
             ],
             [
              0.5555555555555556,
              "#d8576b"
             ],
             [
              0.6666666666666666,
              "#ed7953"
             ],
             [
              0.7777777777777778,
              "#fb9f3a"
             ],
             [
              0.8888888888888888,
              "#fdca26"
             ],
             [
              1,
              "#f0f921"
             ]
            ],
            "type": "surface"
           }
          ],
          "table": [
           {
            "cells": {
             "fill": {
              "color": "#EBF0F8"
             },
             "line": {
              "color": "white"
             }
            },
            "header": {
             "fill": {
              "color": "#C8D4E3"
             },
             "line": {
              "color": "white"
             }
            },
            "type": "table"
           }
          ]
         },
         "layout": {
          "annotationdefaults": {
           "arrowcolor": "#2a3f5f",
           "arrowhead": 0,
           "arrowwidth": 1
          },
          "autotypenumbers": "strict",
          "coloraxis": {
           "colorbar": {
            "outlinewidth": 0,
            "ticks": ""
           }
          },
          "colorscale": {
           "diverging": [
            [
             0,
             "#8e0152"
            ],
            [
             0.1,
             "#c51b7d"
            ],
            [
             0.2,
             "#de77ae"
            ],
            [
             0.3,
             "#f1b6da"
            ],
            [
             0.4,
             "#fde0ef"
            ],
            [
             0.5,
             "#f7f7f7"
            ],
            [
             0.6,
             "#e6f5d0"
            ],
            [
             0.7,
             "#b8e186"
            ],
            [
             0.8,
             "#7fbc41"
            ],
            [
             0.9,
             "#4d9221"
            ],
            [
             1,
             "#276419"
            ]
           ],
           "sequential": [
            [
             0,
             "#0d0887"
            ],
            [
             0.1111111111111111,
             "#46039f"
            ],
            [
             0.2222222222222222,
             "#7201a8"
            ],
            [
             0.3333333333333333,
             "#9c179e"
            ],
            [
             0.4444444444444444,
             "#bd3786"
            ],
            [
             0.5555555555555556,
             "#d8576b"
            ],
            [
             0.6666666666666666,
             "#ed7953"
            ],
            [
             0.7777777777777778,
             "#fb9f3a"
            ],
            [
             0.8888888888888888,
             "#fdca26"
            ],
            [
             1,
             "#f0f921"
            ]
           ],
           "sequentialminus": [
            [
             0,
             "#0d0887"
            ],
            [
             0.1111111111111111,
             "#46039f"
            ],
            [
             0.2222222222222222,
             "#7201a8"
            ],
            [
             0.3333333333333333,
             "#9c179e"
            ],
            [
             0.4444444444444444,
             "#bd3786"
            ],
            [
             0.5555555555555556,
             "#d8576b"
            ],
            [
             0.6666666666666666,
             "#ed7953"
            ],
            [
             0.7777777777777778,
             "#fb9f3a"
            ],
            [
             0.8888888888888888,
             "#fdca26"
            ],
            [
             1,
             "#f0f921"
            ]
           ]
          },
          "colorway": [
           "#636efa",
           "#EF553B",
           "#00cc96",
           "#ab63fa",
           "#FFA15A",
           "#19d3f3",
           "#FF6692",
           "#B6E880",
           "#FF97FF",
           "#FECB52"
          ],
          "font": {
           "color": "#2a3f5f"
          },
          "geo": {
           "bgcolor": "white",
           "lakecolor": "white",
           "landcolor": "#E5ECF6",
           "showlakes": true,
           "showland": true,
           "subunitcolor": "white"
          },
          "hoverlabel": {
           "align": "left"
          },
          "hovermode": "closest",
          "mapbox": {
           "style": "light"
          },
          "paper_bgcolor": "white",
          "plot_bgcolor": "#E5ECF6",
          "polar": {
           "angularaxis": {
            "gridcolor": "white",
            "linecolor": "white",
            "ticks": ""
           },
           "bgcolor": "#E5ECF6",
           "radialaxis": {
            "gridcolor": "white",
            "linecolor": "white",
            "ticks": ""
           }
          },
          "scene": {
           "xaxis": {
            "backgroundcolor": "#E5ECF6",
            "gridcolor": "white",
            "gridwidth": 2,
            "linecolor": "white",
            "showbackground": true,
            "ticks": "",
            "zerolinecolor": "white"
           },
           "yaxis": {
            "backgroundcolor": "#E5ECF6",
            "gridcolor": "white",
            "gridwidth": 2,
            "linecolor": "white",
            "showbackground": true,
            "ticks": "",
            "zerolinecolor": "white"
           },
           "zaxis": {
            "backgroundcolor": "#E5ECF6",
            "gridcolor": "white",
            "gridwidth": 2,
            "linecolor": "white",
            "showbackground": true,
            "ticks": "",
            "zerolinecolor": "white"
           }
          },
          "shapedefaults": {
           "line": {
            "color": "#2a3f5f"
           }
          },
          "ternary": {
           "aaxis": {
            "gridcolor": "white",
            "linecolor": "white",
            "ticks": ""
           },
           "baxis": {
            "gridcolor": "white",
            "linecolor": "white",
            "ticks": ""
           },
           "bgcolor": "#E5ECF6",
           "caxis": {
            "gridcolor": "white",
            "linecolor": "white",
            "ticks": ""
           }
          },
          "title": {
           "x": 0.05
          },
          "xaxis": {
           "automargin": true,
           "gridcolor": "white",
           "linecolor": "white",
           "ticks": "",
           "title": {
            "standoff": 15
           },
           "zerolinecolor": "white",
           "zerolinewidth": 2
          },
          "yaxis": {
           "automargin": true,
           "gridcolor": "white",
           "linecolor": "white",
           "ticks": "",
           "title": {
            "standoff": 15
           },
           "zerolinecolor": "white",
           "zerolinewidth": 2
          }
         }
        },
        "title": {
         "text": "Best objective found vs. # of iterations"
        },
        "xaxis": {
         "title": {
          "text": "Iteration"
         }
        },
        "yaxis": {
         "title": {
          "text": "Cross_term_gear_ratio_product"
         }
        }
       }
      }
     },
     "metadata": {},
     "output_type": "display_data"
    }
   ],
   "source": [
    "render(Tag_client.get_optimization_trace())"
   ]
  },
  {
   "cell_type": "code",
   "execution_count": 19,
   "metadata": {},
   "outputs": [
    {
     "name": "stderr",
     "output_type": "stream",
     "text": [
      "[INFO 04-10 16:14:00] ax.service.ax_client: Generated new trial 33 with parameters {'z_sh': 11, 'z_sh_1': 9, 'z_sh_2': 7, 'z_sh_3': 6, 'z_r2': 76, 'z_r2_1': 75, 'z_r2_2': 73, 'z_r2_3': 71, 'x_s': 0.767876, 'x_s_1': 0.667876, 'x_s_2': 0.567876, 'x_s_3': 0.017272, 'x_r2': -0.141004, 'x_r2_1': -0.241004, 'x_r2_2': -0.341004, 'x_r2_3': -0.441004} using model BoTorch.\n",
      "[INFO 04-10 16:14:00] ax.service.ax_client: Completed trial 33 with data: {'Cross_term_gear_ratio_product': (np.float64(25835.734592), None)}.\n",
      "[INFO 04-10 16:14:11] ax.service.ax_client: Generated new trial 34 with parameters {'z_sh': 11, 'z_sh_1': 8, 'z_sh_2': 7, 'z_sh_3': 6, 'z_r2': 75, 'z_r2_1': 74, 'z_r2_2': 73, 'z_r2_3': 72, 'x_s': 0.990792, 'x_s_1': 0.890792, 'x_s_2': 0.790792, 'x_s_3': 0.392181, 'x_r2': -0.127448, 'x_r2_1': -0.227448, 'x_r2_2': -0.327448, 'x_r2_3': -0.427448} using model BoTorch.\n",
      "[INFO 04-10 16:14:11] ax.service.ax_client: Completed trial 34 with data: {'Cross_term_gear_ratio_product': (np.float64(26765.735115), None)}.\n",
      "[INFO 04-10 16:14:21] ax.service.ax_client: Generated new trial 35 with parameters {'z_sh': 11, 'z_sh_1': 10, 'z_sh_2': 7, 'z_sh_3': 6, 'z_r2': 85, 'z_r2_1': 76, 'z_r2_2': 75, 'z_r2_3': 74, 'x_s': 1.0, 'x_s_1': 0.9, 'x_s_2': 0.8, 'x_s_3': 0.7, 'x_r2': -0.238375, 'x_r2_1': -0.338375, 'x_r2_2': -0.438375, 'x_r2_3': -0.538375} using model BoTorch.\n",
      "[INFO 04-10 16:14:21] ax.service.ax_client: Completed trial 35 with data: {'Cross_term_gear_ratio_product': (np.float64(21299.94274), None)}.\n",
      "[INFO 04-10 16:14:32] ax.service.ax_client: Generated new trial 36 with parameters {'z_sh': 11, 'z_sh_1': 10, 'z_sh_2': 9, 'z_sh_3': 8, 'z_r2': 75, 'z_r2_1': 74, 'z_r2_2': 73, 'z_r2_3': 72, 'x_s': 1.0, 'x_s_1': 0.9, 'x_s_2': 0.8, 'x_s_3': 0.7, 'x_r2': -0.098086, 'x_r2_1': -0.198086, 'x_r2_2': -0.298086, 'x_r2_3': -0.398086} using model BoTorch.\n",
      "[INFO 04-10 16:14:32] ax.service.ax_client: Completed trial 36 with data: {'Cross_term_gear_ratio_product': (np.float64(21326.19499), None)}.\n",
      "[INFO 04-10 16:14:42] ax.service.ax_client: Generated new trial 37 with parameters {'z_sh': 10, 'z_sh_1': 8, 'z_sh_2': 7, 'z_sh_3': 6, 'z_r2': 75, 'z_r2_1': 74, 'z_r2_2': 73, 'z_r2_3': 72, 'x_s': 1.0, 'x_s_1': 0.9, 'x_s_2': 0.8, 'x_s_3': 0.7, 'x_r2': -0.138271, 'x_r2_1': -0.238271, 'x_r2_2': -0.338271, 'x_r2_3': -0.438271} using model BoTorch.\n",
      "[INFO 04-10 16:14:42] ax.service.ax_client: Completed trial 37 with data: {'Cross_term_gear_ratio_product': (np.float64(27748.784676), None)}.\n",
      "[INFO 04-10 16:14:52] ax.service.ax_client: Generated new trial 38 with parameters {'z_sh': 9, 'z_sh_1': 8, 'z_sh_2': 7, 'z_sh_3': 6, 'z_r2': 74, 'z_r2_1': 73, 'z_r2_2': 72, 'z_r2_3': 70, 'x_s': 1.0, 'x_s_1': 0.9, 'x_s_2': 0.8, 'x_s_3': 0.7, 'x_r2': -0.164938, 'x_r2_1': -0.264938, 'x_r2_2': -0.364938, 'x_r2_3': -0.464938} using model BoTorch.\n",
      "[INFO 04-10 16:14:52] ax.service.ax_client: Completed trial 38 with data: {'Cross_term_gear_ratio_product': (np.float64(25339.816503), None)}.\n",
      "[INFO 04-10 16:15:04] ax.service.ax_client: Generated new trial 39 with parameters {'z_sh': 9, 'z_sh_1': 8, 'z_sh_2': 7, 'z_sh_3': 6, 'z_r2': 76, 'z_r2_1': 75, 'z_r2_2': 74, 'z_r2_3': 73, 'x_s': 1.0, 'x_s_1': 0.9, 'x_s_2': 0.8, 'x_s_3': 0.7, 'x_r2': -0.049819, 'x_r2_1': -0.149819, 'x_r2_2': -0.249819, 'x_r2_3': -0.349819} using model BoTorch.\n",
      "[INFO 04-10 16:15:04] ax.service.ax_client: Completed trial 39 with data: {'Cross_term_gear_ratio_product': (np.float64(32121.104203), None)}.\n",
      "[INFO 04-10 16:15:16] ax.service.ax_client: Generated new trial 40 with parameters {'z_sh': 9, 'z_sh_1': 8, 'z_sh_2': 7, 'z_sh_3': 6, 'z_r2': 78, 'z_r2_1': 76, 'z_r2_2': 74, 'z_r2_3': 71, 'x_s': 1.0, 'x_s_1': 0.9, 'x_s_2': 0.8, 'x_s_3': 0.7, 'x_r2': 0.059421, 'x_r2_1': -0.040579, 'x_r2_2': -0.140579, 'x_r2_3': -0.240579} using model BoTorch.\n",
      "[INFO 04-10 16:15:16] ax.service.ax_client: Completed trial 40 with data: {'Cross_term_gear_ratio_product': (np.float64(28042.150939), None)}.\n",
      "[INFO 04-10 16:15:48] ax.service.ax_client: Generated new trial 41 with parameters {'z_sh': 11, 'z_sh_1': 10, 'z_sh_2': 9, 'z_sh_3': 6, 'z_r2': 78, 'z_r2_1': 77, 'z_r2_2': 75, 'z_r2_3': 74, 'x_s': 1.0, 'x_s_1': 0.9, 'x_s_2': 0.8, 'x_s_3': -1.0, 'x_r2': -0.061952, 'x_r2_1': -0.161952, 'x_r2_2': -0.261952, 'x_r2_3': -0.361952} using model BoTorch.\n",
      "[INFO 04-10 16:15:48] ax.service.ax_client: Completed trial 41 with data: {'Cross_term_gear_ratio_product': (np.float64(28761.438394), None)}.\n",
      "[INFO 04-10 16:16:16] ax.service.ax_client: Generated new trial 42 with parameters {'z_sh': 9, 'z_sh_1': 8, 'z_sh_2': 7, 'z_sh_3': 6, 'z_r2': 78, 'z_r2_1': 75, 'z_r2_2': 74, 'z_r2_3': 73, 'x_s': 1.0, 'x_s_1': 0.9, 'x_s_2': 0.8, 'x_s_3': -1.0, 'x_r2': -0.099593, 'x_r2_1': -0.199593, 'x_r2_2': -0.299593, 'x_r2_3': -0.399593} using model BoTorch.\n",
      "[INFO 04-10 16:16:16] ax.service.ax_client: Completed trial 42 with data: {'Cross_term_gear_ratio_product': (np.float64(29287.498271), None)}.\n",
      "[INFO 04-10 16:16:58] ax.service.ax_client: Generated new trial 43 with parameters {'z_sh': 10, 'z_sh_1': 8, 'z_sh_2': 7, 'z_sh_3': 6, 'z_r2': 78, 'z_r2_1': 77, 'z_r2_2': 75, 'z_r2_3': 74, 'x_s': 1.0, 'x_s_1': 0.9, 'x_s_2': 0.8, 'x_s_3': 0.315157, 'x_r2': -0.054565, 'x_r2_1': -0.154565, 'x_r2_2': -0.254565, 'x_r2_3': -0.354565} using model BoTorch.\n",
      "[INFO 04-10 16:16:58] ax.service.ax_client: Completed trial 43 with data: {'Cross_term_gear_ratio_product': (np.float64(28812.537219), None)}.\n",
      "[INFO 04-10 16:17:34] ax.service.ax_client: Generated new trial 44 with parameters {'z_sh': 9, 'z_sh_1': 8, 'z_sh_2': 7, 'z_sh_3': 6, 'z_r2': 76, 'z_r2_1': 75, 'z_r2_2': 74, 'z_r2_3': 73, 'x_s': 1.0, 'x_s_1': 0.9, 'x_s_2': 0.8, 'x_s_3': -0.511647, 'x_r2': -0.014263, 'x_r2_1': -0.114263, 'x_r2_2': -0.214263, 'x_r2_3': -0.314263} using model BoTorch.\n",
      "[INFO 04-10 16:17:34] ax.service.ax_client: Completed trial 44 with data: {'Cross_term_gear_ratio_product': (np.float64(31391.515705), None)}.\n",
      "[INFO 04-10 16:18:08] ax.service.ax_client: Generated new trial 45 with parameters {'z_sh': 9, 'z_sh_1': 8, 'z_sh_2': 7, 'z_sh_3': 6, 'z_r2': 76, 'z_r2_1': 75, 'z_r2_2': 74, 'z_r2_3': 73, 'x_s': 1.0, 'x_s_1': 0.9, 'x_s_2': 0.8, 'x_s_3': -0.600622, 'x_r2': -0.017739, 'x_r2_1': -0.117739, 'x_r2_2': -0.217739, 'x_r2_3': -0.317739} using model BoTorch.\n",
      "[INFO 04-10 16:18:08] ax.service.ax_client: Completed trial 45 with data: {'Cross_term_gear_ratio_product': (np.float64(30880.609327), None)}.\n",
      "[INFO 04-10 16:18:47] ax.service.ax_client: Generated new trial 46 with parameters {'z_sh': 9, 'z_sh_1': 8, 'z_sh_2': 7, 'z_sh_3': 6, 'z_r2': 76, 'z_r2_1': 75, 'z_r2_2': 74, 'z_r2_3': 73, 'x_s': 1.0, 'x_s_1': 0.9, 'x_s_2': 0.8, 'x_s_3': 0.426977, 'x_r2': -0.044112, 'x_r2_1': -0.144112, 'x_r2_2': -0.244112, 'x_r2_3': -0.344112} using model BoTorch.\n",
      "[INFO 04-10 16:18:47] ax.service.ax_client: Completed trial 46 with data: {'Cross_term_gear_ratio_product': (np.float64(30843.895775), None)}.\n",
      "[INFO 04-10 16:19:27] ax.service.ax_client: Generated new trial 47 with parameters {'z_sh': 9, 'z_sh_1': 8, 'z_sh_2': 7, 'z_sh_3': 6, 'z_r2': 76, 'z_r2_1': 75, 'z_r2_2': 74, 'z_r2_3': 73, 'x_s': 1.0, 'x_s_1': 0.9, 'x_s_2': 0.8, 'x_s_3': -0.432563, 'x_r2': -0.041717, 'x_r2_1': -0.141717, 'x_r2_2': -0.241717, 'x_r2_3': -0.341717} using model BoTorch.\n",
      "[INFO 04-10 16:19:27] ax.service.ax_client: Completed trial 47 with data: {'Cross_term_gear_ratio_product': (np.float64(31386.835295), None)}.\n",
      "[INFO 04-10 16:20:21] ax.service.ax_client: Generated new trial 48 with parameters {'z_sh': 9, 'z_sh_1': 8, 'z_sh_2': 7, 'z_sh_3': 6, 'z_r2': 76, 'z_r2_1': 75, 'z_r2_2': 74, 'z_r2_3': 73, 'x_s': 1.0, 'x_s_1': 0.9, 'x_s_2': 0.8, 'x_s_3': -0.680918, 'x_r2': -0.043912, 'x_r2_1': -0.143912, 'x_r2_2': -0.243912, 'x_r2_3': -0.343912} using model BoTorch.\n",
      "[INFO 04-10 16:20:21] ax.service.ax_client: Completed trial 48 with data: {'Cross_term_gear_ratio_product': (np.float64(29990.206199), None)}.\n",
      "[INFO 04-10 16:21:04] ax.service.ax_client: Generated new trial 49 with parameters {'z_sh': 9, 'z_sh_1': 8, 'z_sh_2': 7, 'z_sh_3': 6, 'z_r2': 76, 'z_r2_1': 75, 'z_r2_2': 74, 'z_r2_3': 73, 'x_s': 1.0, 'x_s_1': 0.9, 'x_s_2': 0.8, 'x_s_3': 0.7, 'x_r2': -0.02237, 'x_r2_1': -0.12237, 'x_r2_2': -0.22237, 'x_r2_3': -0.32237} using model BoTorch.\n",
      "[INFO 04-10 16:21:04] ax.service.ax_client: Completed trial 49 with data: {'Cross_term_gear_ratio_product': (np.float64(32435.080073), None)}.\n",
      "[INFO 04-10 16:21:36] ax.service.ax_client: Generated new trial 50 with parameters {'z_sh': 9, 'z_sh_1': 8, 'z_sh_2': 7, 'z_sh_3': 6, 'z_r2': 76, 'z_r2_1': 75, 'z_r2_2': 74, 'z_r2_3': 73, 'x_s': 1.0, 'x_s_1': 0.9, 'x_s_2': 0.8, 'x_s_3': 0.7, 'x_r2': 1.0, 'x_r2_1': 0.9, 'x_r2_2': 0.8, 'x_r2_3': -0.345989} using model BoTorch.\n",
      "[INFO 04-10 16:21:36] ax.service.ax_client: Completed trial 50 with data: {'Cross_term_gear_ratio_product': (np.float64(32015.030206), None)}.\n",
      "[INFO 04-10 16:22:10] ax.service.ax_client: Generated new trial 51 with parameters {'z_sh': 11, 'z_sh_1': 10, 'z_sh_2': 9, 'z_sh_3': 6, 'z_r2': 77, 'z_r2_1': 76, 'z_r2_2': 74, 'z_r2_3': 73, 'x_s': 1.0, 'x_s_1': 0.9, 'x_s_2': 0.8, 'x_s_3': 0.7, 'x_r2': 1.0, 'x_r2_1': 0.9, 'x_r2_2': 0.8, 'x_r2_3': 0.20134} using model BoTorch.\n",
      "[INFO 04-10 16:22:10] ax.service.ax_client: Completed trial 51 with data: {'Cross_term_gear_ratio_product': (np.float64(23870.655054), None)}.\n",
      "[INFO 04-10 16:22:47] ax.service.ax_client: Generated new trial 52 with parameters {'z_sh': 9, 'z_sh_1': 8, 'z_sh_2': 7, 'z_sh_3': 6, 'z_r2': 76, 'z_r2_1': 75, 'z_r2_2': 74, 'z_r2_3': 73, 'x_s': 1.0, 'x_s_1': 0.9, 'x_s_2': 0.8, 'x_s_3': 0.7, 'x_r2': 1.0, 'x_r2_1': 0.9, 'x_r2_2': 0.8, 'x_r2_3': -0.396453} using model BoTorch.\n",
      "[INFO 04-10 16:22:47] ax.service.ax_client: Completed trial 52 with data: {'Cross_term_gear_ratio_product': (np.float64(31887.652624), None)}.\n",
      "[INFO 04-10 16:22:58] ax.service.ax_client: Generated new trial 53 with parameters {'z_sh': 9, 'z_sh_1': 8, 'z_sh_2': 7, 'z_sh_3': 6, 'z_r2': 76, 'z_r2_1': 75, 'z_r2_2': 74, 'z_r2_3': 73, 'x_s': 1.0, 'x_s_1': 0.9, 'x_s_2': 0.8, 'x_s_3': 0.7, 'x_r2': 1.0, 'x_r2_1': 0.9, 'x_r2_2': 0.8, 'x_r2_3': -0.279874} using model BoTorch.\n",
      "[INFO 04-10 16:22:58] ax.service.ax_client: Completed trial 53 with data: {'Cross_term_gear_ratio_product': (np.float64(32186.374461), None)}.\n",
      "[INFO 04-10 16:23:11] ax.service.ax_client: Generated new trial 54 with parameters {'z_sh': 11, 'z_sh_1': 10, 'z_sh_2': 9, 'z_sh_3': 7, 'z_r2': 84, 'z_r2_1': 83, 'z_r2_2': 74, 'z_r2_3': 73, 'x_s': 1.0, 'x_s_1': 0.9, 'x_s_2': 0.8, 'x_s_3': -1.0, 'x_r2': 1.0, 'x_r2_1': 0.9, 'x_r2_2': 0.8, 'x_r2_3': 0.7} using model BoTorch.\n",
      "[INFO 04-10 16:23:11] ax.service.ax_client: Completed trial 54 with data: {'Cross_term_gear_ratio_product': (np.float64(14968.622966), None)}.\n",
      "[INFO 04-10 16:23:21] ax.service.ax_client: Generated new trial 55 with parameters {'z_sh': 11, 'z_sh_1': 10, 'z_sh_2': 9, 'z_sh_3': 6, 'z_r2': 76, 'z_r2_1': 75, 'z_r2_2': 74, 'z_r2_3': 73, 'x_s': 1.0, 'x_s_1': 0.9, 'x_s_2': 0.8, 'x_s_3': 0.7, 'x_r2': 1.0, 'x_r2_1': -0.125831, 'x_r2_2': -0.225831, 'x_r2_3': -0.325831} using model BoTorch.\n",
      "[INFO 04-10 16:23:21] ax.service.ax_client: Completed trial 55 with data: {'Cross_term_gear_ratio_product': (np.float64(27063.245099), None)}.\n",
      "[INFO 04-10 16:23:33] ax.service.ax_client: Generated new trial 56 with parameters {'z_sh': 9, 'z_sh_1': 8, 'z_sh_2': 7, 'z_sh_3': 6, 'z_r2': 76, 'z_r2_1': 75, 'z_r2_2': 74, 'z_r2_3': 73, 'x_s': 1.0, 'x_s_1': 0.9, 'x_s_2': 0.8, 'x_s_3': 0.7, 'x_r2': 0.777848, 'x_r2_1': 0.677848, 'x_r2_2': 0.577848, 'x_r2_3': -0.263946} using model BoTorch.\n",
      "[INFO 04-10 16:23:34] ax.service.ax_client: Completed trial 56 with data: {'Cross_term_gear_ratio_product': (np.float64(34405.466878), None)}.\n",
      "[INFO 04-10 16:23:45] ax.service.ax_client: Generated new trial 57 with parameters {'z_sh': 9, 'z_sh_1': 8, 'z_sh_2': 7, 'z_sh_3': 6, 'z_r2': 75, 'z_r2_1': 74, 'z_r2_2': 73, 'z_r2_3': 72, 'x_s': 1.0, 'x_s_1': 0.9, 'x_s_2': 0.8, 'x_s_3': 0.7, 'x_r2': 0.642676, 'x_r2_1': 0.542676, 'x_r2_2': 0.442676, 'x_r2_3': -0.214141} using model BoTorch.\n",
      "[INFO 04-10 16:23:45] ax.service.ax_client: Completed trial 57 with data: {'Cross_term_gear_ratio_product': (np.float64(34282.850838), None)}.\n",
      "[INFO 04-10 16:23:58] ax.service.ax_client: Generated new trial 58 with parameters {'z_sh': 12, 'z_sh_1': 11, 'z_sh_2': 8, 'z_sh_3': 6, 'z_r2': 78, 'z_r2_1': 76, 'z_r2_2': 75, 'z_r2_3': 74, 'x_s': 1.0, 'x_s_1': 0.9, 'x_s_2': 0.8, 'x_s_3': -1.0, 'x_r2': 0.527313, 'x_r2_1': 0.427313, 'x_r2_2': 0.327313, 'x_r2_3': -1.0} using model BoTorch.\n",
      "[INFO 04-10 16:23:58] ax.service.ax_client: Completed trial 58 with data: {'Cross_term_gear_ratio_product': (np.float64(25072.83771), None)}.\n",
      "[INFO 04-10 16:24:08] ax.service.ax_client: Generated new trial 59 with parameters {'z_sh': 9, 'z_sh_1': 8, 'z_sh_2': 7, 'z_sh_3': 6, 'z_r2': 76, 'z_r2_1': 75, 'z_r2_2': 74, 'z_r2_3': 73, 'x_s': 1.0, 'x_s_1': 0.9, 'x_s_2': 0.8, 'x_s_3': 0.7, 'x_r2': 0.524602, 'x_r2_1': 0.424602, 'x_r2_2': 0.324602, 'x_r2_3': -1.0} using model BoTorch.\n",
      "[INFO 04-10 16:24:08] ax.service.ax_client: Completed trial 59 with data: {'Cross_term_gear_ratio_product': (np.float64(33137.724374), None)}.\n",
      "[INFO 04-10 16:24:19] ax.service.ax_client: Generated new trial 60 with parameters {'z_sh': 9, 'z_sh_1': 8, 'z_sh_2': 7, 'z_sh_3': 6, 'z_r2': 75, 'z_r2_1': 74, 'z_r2_2': 73, 'z_r2_3': 72, 'x_s': 1.0, 'x_s_1': 0.9, 'x_s_2': 0.8, 'x_s_3': 0.7, 'x_r2': 0.619081, 'x_r2_1': 0.519081, 'x_r2_2': 0.419081, 'x_r2_3': -0.157026} using model BoTorch.\n",
      "[INFO 04-10 16:24:19] ax.service.ax_client: Completed trial 60 with data: {'Cross_term_gear_ratio_product': (np.float64(34283.826094), None)}.\n",
      "[INFO 04-10 16:24:28] ax.service.ax_client: Generated new trial 61 with parameters {'z_sh': 12, 'z_sh_1': 8, 'z_sh_2': 7, 'z_sh_3': 6, 'z_r2': 79, 'z_r2_1': 78, 'z_r2_2': 77, 'z_r2_3': 76, 'x_s': 1.0, 'x_s_1': 0.9, 'x_s_2': 0.8, 'x_s_3': -1.0, 'x_r2': -0.7, 'x_r2_1': -0.8, 'x_r2_2': -0.9, 'x_r2_3': -1.0} using model BoTorch.\n",
      "[INFO 04-10 16:24:28] ax.service.ax_client: Completed trial 61 with data: {'Cross_term_gear_ratio_product': (np.float64(15321.547676), None)}.\n",
      "[INFO 04-10 16:24:39] ax.service.ax_client: Generated new trial 62 with parameters {'z_sh': 9, 'z_sh_1': 8, 'z_sh_2': 7, 'z_sh_3': 6, 'z_r2': 75, 'z_r2_1': 74, 'z_r2_2': 73, 'z_r2_3': 72, 'x_s': 1.0, 'x_s_1': 0.9, 'x_s_2': 0.8, 'x_s_3': 0.7, 'x_r2': 0.602653, 'x_r2_1': 0.502653, 'x_r2_2': 0.402653, 'x_r2_3': -0.459319} using model BoTorch.\n",
      "[INFO 04-10 16:24:39] ax.service.ax_client: Completed trial 62 with data: {'Cross_term_gear_ratio_product': (np.float64(33652.326896), None)}.\n",
      "[INFO 04-10 16:24:50] ax.service.ax_client: Generated new trial 63 with parameters {'z_sh': 9, 'z_sh_1': 8, 'z_sh_2': 7, 'z_sh_3': 6, 'z_r2': 75, 'z_r2_1': 74, 'z_r2_2': 73, 'z_r2_3': 72, 'x_s': 1.0, 'x_s_1': 0.9, 'x_s_2': 0.8, 'x_s_3': 0.7, 'x_r2': 0.574012, 'x_r2_1': 0.474012, 'x_r2_2': 0.374012, 'x_r2_3': -0.224344} using model BoTorch.\n",
      "[INFO 04-10 16:24:50] ax.service.ax_client: Completed trial 63 with data: {'Cross_term_gear_ratio_product': (np.float64(33988.35033), None)}.\n",
      "[INFO 04-10 16:25:01] ax.service.ax_client: Generated new trial 64 with parameters {'z_sh': 10, 'z_sh_1': 9, 'z_sh_2': 7, 'z_sh_3': 6, 'z_r2': 75, 'z_r2_1': 74, 'z_r2_2': 73, 'z_r2_3': 72, 'x_s': 1.0, 'x_s_1': 0.9, 'x_s_2': -0.5623, 'x_s_3': -0.6623, 'x_r2': 0.590702, 'x_r2_1': 0.490702, 'x_r2_2': 0.390702, 'x_r2_3': -0.32257} using model BoTorch.\n",
      "[INFO 04-10 16:25:01] ax.service.ax_client: Completed trial 64 with data: {'Cross_term_gear_ratio_product': (np.float64(29014.36737), None)}.\n",
      "[INFO 04-10 16:25:12] ax.service.ax_client: Generated new trial 65 with parameters {'z_sh': 9, 'z_sh_1': 8, 'z_sh_2': 7, 'z_sh_3': 6, 'z_r2': 75, 'z_r2_1': 74, 'z_r2_2': 73, 'z_r2_3': 72, 'x_s': 1.0, 'x_s_1': 0.9, 'x_s_2': 0.8, 'x_s_3': 0.7, 'x_r2': 0.572353, 'x_r2_1': 0.472353, 'x_r2_2': 0.372353, 'x_r2_3': -0.213026} using model BoTorch.\n",
      "[INFO 04-10 16:25:12] ax.service.ax_client: Completed trial 65 with data: {'Cross_term_gear_ratio_product': (np.float64(33980.951082), None)}.\n",
      "[INFO 04-10 16:25:22] ax.service.ax_client: Generated new trial 66 with parameters {'z_sh': 9, 'z_sh_1': 8, 'z_sh_2': 7, 'z_sh_3': 6, 'z_r2': 75, 'z_r2_1': 74, 'z_r2_2': 73, 'z_r2_3': 72, 'x_s': 1.0, 'x_s_1': 0.9, 'x_s_2': 0.8, 'x_s_3': 0.7, 'x_r2': 0.5719, 'x_r2_1': 0.4719, 'x_r2_2': 0.3719, 'x_r2_3': -0.202554} using model BoTorch.\n",
      "[INFO 04-10 16:25:22] ax.service.ax_client: Completed trial 66 with data: {'Cross_term_gear_ratio_product': (np.float64(33992.351517), None)}.\n",
      "[INFO 04-10 16:25:32] ax.service.ax_client: Generated new trial 67 with parameters {'z_sh': 9, 'z_sh_1': 8, 'z_sh_2': 7, 'z_sh_3': 6, 'z_r2': 75, 'z_r2_1': 74, 'z_r2_2': 73, 'z_r2_3': 72, 'x_s': 1.0, 'x_s_1': 0.9, 'x_s_2': 0.8, 'x_s_3': 0.7, 'x_r2': 0.568369, 'x_r2_1': 0.468369, 'x_r2_2': 0.368369, 'x_r2_3': -0.172757} using model BoTorch.\n",
      "[INFO 04-10 16:25:32] ax.service.ax_client: Completed trial 67 with data: {'Cross_term_gear_ratio_product': (np.float64(34052.343441), None)}.\n",
      "[INFO 04-10 16:25:42] ax.service.ax_client: Generated new trial 68 with parameters {'z_sh': 10, 'z_sh_1': 9, 'z_sh_2': 8, 'z_sh_3': 6, 'z_r2': 81, 'z_r2_1': 77, 'z_r2_2': 73, 'z_r2_3': 72, 'x_s': 1.0, 'x_s_1': 0.9, 'x_s_2': 0.8, 'x_s_3': 0.7, 'x_r2': 0.867705, 'x_r2_1': 0.767705, 'x_r2_2': 0.667705, 'x_r2_3': -1.0} using model BoTorch.\n",
      "[INFO 04-10 16:25:42] ax.service.ax_client: Completed trial 68 with data: {'Cross_term_gear_ratio_product': (np.float64(17266.179678), None)}.\n",
      "[INFO 04-10 16:25:53] ax.service.ax_client: Generated new trial 69 with parameters {'z_sh': 10, 'z_sh_1': 9, 'z_sh_2': 7, 'z_sh_3': 6, 'z_r2': 77, 'z_r2_1': 76, 'z_r2_2': 75, 'z_r2_3': 73, 'x_s': 1.0, 'x_s_1': 0.9, 'x_s_2': 0.8, 'x_s_3': 0.7, 'x_r2': 0.352349, 'x_r2_1': 0.252349, 'x_r2_2': 0.152349, 'x_r2_3': 0.052349} using model BoTorch.\n",
      "[INFO 04-10 16:25:53] ax.service.ax_client: Completed trial 69 with data: {'Cross_term_gear_ratio_product': (np.float64(32127.320179), None)}.\n",
      "[INFO 04-10 16:26:04] ax.service.ax_client: Generated new trial 70 with parameters {'z_sh': 9, 'z_sh_1': 8, 'z_sh_2': 7, 'z_sh_3': 6, 'z_r2': 76, 'z_r2_1': 75, 'z_r2_2': 74, 'z_r2_3': 73, 'x_s': 1.0, 'x_s_1': 0.9, 'x_s_2': 0.8, 'x_s_3': 0.7, 'x_r2': 0.498899, 'x_r2_1': 0.398899, 'x_r2_2': 0.298899, 'x_r2_3': 0.018465} using model BoTorch.\n",
      "[INFO 04-10 16:26:04] ax.service.ax_client: Completed trial 70 with data: {'Cross_term_gear_ratio_product': (np.float64(36535.937387), None)}.\n",
      "[INFO 04-10 16:26:14] ax.service.ax_client: Generated new trial 71 with parameters {'z_sh': 9, 'z_sh_1': 8, 'z_sh_2': 7, 'z_sh_3': 6, 'z_r2': 76, 'z_r2_1': 75, 'z_r2_2': 74, 'z_r2_3': 73, 'x_s': 1.0, 'x_s_1': 0.9, 'x_s_2': 0.8, 'x_s_3': 0.7, 'x_r2': 0.541095, 'x_r2_1': 0.441095, 'x_r2_2': 0.341095, 'x_r2_3': 0.241095} using model BoTorch.\n",
      "[INFO 04-10 16:26:14] ax.service.ax_client: Completed trial 71 with data: {'Cross_term_gear_ratio_product': (np.float64(37073.508448), None)}.\n",
      "[INFO 04-10 16:26:26] ax.service.ax_client: Generated new trial 72 with parameters {'z_sh': 9, 'z_sh_1': 8, 'z_sh_2': 7, 'z_sh_3': 6, 'z_r2': 76, 'z_r2_1': 75, 'z_r2_2': 74, 'z_r2_3': 73, 'x_s': 1.0, 'x_s_1': 0.9, 'x_s_2': 0.8, 'x_s_3': 0.7, 'x_r2': 0.567508, 'x_r2_1': 0.467508, 'x_r2_2': 0.367508, 'x_r2_3': 0.267508} using model BoTorch.\n",
      "[INFO 04-10 16:26:26] ax.service.ax_client: Completed trial 72 with data: {'Cross_term_gear_ratio_product': (np.float64(37125.440095), None)}.\n",
      "[INFO 04-10 16:26:39] ax.service.ax_client: Generated new trial 73 with parameters {'z_sh': 11, 'z_sh_1': 10, 'z_sh_2': 9, 'z_sh_3': 6, 'z_r2': 77, 'z_r2_1': 76, 'z_r2_2': 74, 'z_r2_3': 73, 'x_s': 1.0, 'x_s_1': 0.9, 'x_s_2': 0.8, 'x_s_3': -1.0, 'x_r2': 0.441187, 'x_r2_1': 0.341187, 'x_r2_2': 0.241187, 'x_r2_3': 0.141187} using model BoTorch.\n",
      "[INFO 04-10 16:26:39] ax.service.ax_client: Completed trial 73 with data: {'Cross_term_gear_ratio_product': (np.float64(30772.653281), None)}.\n",
      "[INFO 04-10 16:26:50] ax.service.ax_client: Generated new trial 74 with parameters {'z_sh': 10, 'z_sh_1': 9, 'z_sh_2': 7, 'z_sh_3': 6, 'z_r2': 77, 'z_r2_1': 76, 'z_r2_2': 75, 'z_r2_3': 74, 'x_s': 1.0, 'x_s_1': 0.9, 'x_s_2': 0.8, 'x_s_3': -0.320289, 'x_r2': 0.461944, 'x_r2_1': 0.361944, 'x_r2_2': 0.261944, 'x_r2_3': 0.161944} using model BoTorch.\n",
      "[INFO 04-10 16:26:50] ax.service.ax_client: Completed trial 74 with data: {'Cross_term_gear_ratio_product': (np.float64(32315.698696), None)}.\n",
      "[INFO 04-10 16:27:01] ax.service.ax_client: Generated new trial 75 with parameters {'z_sh': 9, 'z_sh_1': 8, 'z_sh_2': 7, 'z_sh_3': 6, 'z_r2': 77, 'z_r2_1': 75, 'z_r2_2': 74, 'z_r2_3': 73, 'x_s': 1.0, 'x_s_1': 0.9, 'x_s_2': 0.8, 'x_s_3': 0.7, 'x_r2': 0.539798, 'x_r2_1': 0.439798, 'x_r2_2': 0.339798, 'x_r2_3': 0.239798} using model BoTorch.\n",
      "[INFO 04-10 16:27:01] ax.service.ax_client: Completed trial 75 with data: {'Cross_term_gear_ratio_product': (np.float64(32438.076596), None)}.\n",
      "[INFO 04-10 16:27:11] ax.service.ax_client: Generated new trial 76 with parameters {'z_sh': 12, 'z_sh_1': 10, 'z_sh_2': 8, 'z_sh_3': 6, 'z_r2': 84, 'z_r2_1': 77, 'z_r2_2': 73, 'z_r2_3': 72, 'x_s': 1.0, 'x_s_1': 0.9, 'x_s_2': 0.8, 'x_s_3': 0.7, 'x_r2': 1.0, 'x_r2_1': 0.9, 'x_r2_2': 0.8, 'x_r2_3': 0.7} using model BoTorch.\n",
      "[INFO 04-10 16:27:11] ax.service.ax_client: Completed trial 76 with data: {'Cross_term_gear_ratio_product': (np.float64(16879.116219), None)}.\n",
      "[INFO 04-10 16:27:22] ax.service.ax_client: Generated new trial 77 with parameters {'z_sh': 10, 'z_sh_1': 8, 'z_sh_2': 7, 'z_sh_3': 6, 'z_r2': 79, 'z_r2_1': 78, 'z_r2_2': 74, 'z_r2_3': 73, 'x_s': 1.0, 'x_s_1': 0.9, 'x_s_2': 0.8, 'x_s_3': -1.0, 'x_r2': 1.0, 'x_r2_1': 0.9, 'x_r2_2': -0.165493, 'x_r2_3': -0.265493} using model BoTorch.\n",
      "[INFO 04-10 16:27:22] ax.service.ax_client: Completed trial 77 with data: {'Cross_term_gear_ratio_product': (np.float64(20938.1219), None)}.\n",
      "[INFO 04-10 16:27:35] ax.service.ax_client: Generated new trial 78 with parameters {'z_sh': 12, 'z_sh_1': 10, 'z_sh_2': 9, 'z_sh_3': 6, 'z_r2': 86, 'z_r2_1': 77, 'z_r2_2': 76, 'z_r2_3': 73, 'x_s': 1.0, 'x_s_1': 0.9, 'x_s_2': -0.9, 'x_s_3': -1.0, 'x_r2': -0.7, 'x_r2_1': -0.8, 'x_r2_2': -0.9, 'x_r2_3': -1.0} using model BoTorch.\n",
      "[INFO 04-10 16:27:35] ax.service.ax_client: Completed trial 78 with data: {'Cross_term_gear_ratio_product': (np.float64(16062.379352), None)}.\n",
      "[INFO 04-10 16:27:45] ax.service.ax_client: Generated new trial 79 with parameters {'z_sh': 12, 'z_sh_1': 10, 'z_sh_2': 8, 'z_sh_3': 6, 'z_r2': 80, 'z_r2_1': 79, 'z_r2_2': 71, 'z_r2_3': 70, 'x_s': 1.0, 'x_s_1': 0.9, 'x_s_2': -0.9, 'x_s_3': -1.0, 'x_r2': 0.269948, 'x_r2_1': 0.169948, 'x_r2_2': 0.069948, 'x_r2_3': -0.030052} using model BoTorch.\n",
      "[INFO 04-10 16:27:45] ax.service.ax_client: Completed trial 79 with data: {'Cross_term_gear_ratio_product': (np.float64(11308.554395), None)}.\n",
      "[INFO 04-10 16:27:57] ax.service.ax_client: Generated new trial 80 with parameters {'z_sh': 9, 'z_sh_1': 8, 'z_sh_2': 7, 'z_sh_3': 6, 'z_r2': 86, 'z_r2_1': 80, 'z_r2_2': 79, 'z_r2_3': 78, 'x_s': 1.0, 'x_s_1': 0.9, 'x_s_2': 0.8, 'x_s_3': -1.0, 'x_r2': -0.7, 'x_r2_1': -0.8, 'x_r2_2': -0.9, 'x_r2_3': -1.0} using model BoTorch.\n",
      "[INFO 04-10 16:27:57] ax.service.ax_client: Completed trial 80 with data: {'Cross_term_gear_ratio_product': (np.float64(4499.864972), None)}.\n",
      "[INFO 04-10 16:28:06] ax.service.ax_client: Generated new trial 81 with parameters {'z_sh': 12, 'z_sh_1': 8, 'z_sh_2': 7, 'z_sh_3': 6, 'z_r2': 85, 'z_r2_1': 73, 'z_r2_2': 72, 'z_r2_3': 70, 'x_s': 1.0, 'x_s_1': 0.9, 'x_s_2': 0.8, 'x_s_3': 0.7, 'x_r2': 1.0, 'x_r2_1': 0.9, 'x_r2_2': -0.9, 'x_r2_3': -1.0} using model BoTorch.\n",
      "[INFO 04-10 16:28:06] ax.service.ax_client: Completed trial 81 with data: {'Cross_term_gear_ratio_product': (np.float64(19032.215183), None)}.\n",
      "[INFO 04-10 16:28:17] ax.service.ax_client: Generated new trial 82 with parameters {'z_sh': 10, 'z_sh_1': 9, 'z_sh_2': 8, 'z_sh_3': 6, 'z_r2': 77, 'z_r2_1': 76, 'z_r2_2': 75, 'z_r2_3': 74, 'x_s': 1.0, 'x_s_1': 0.9, 'x_s_2': 0.8, 'x_s_3': -0.626794, 'x_r2': 0.352684, 'x_r2_1': 0.252684, 'x_r2_2': 0.152684, 'x_r2_3': 0.052684} using model BoTorch.\n",
      "[INFO 04-10 16:28:17] ax.service.ax_client: Completed trial 82 with data: {'Cross_term_gear_ratio_product': (np.float64(30543.700132), None)}.\n",
      "[INFO 04-10 16:28:28] ax.service.ax_client: Generated new trial 83 with parameters {'z_sh': 9, 'z_sh_1': 8, 'z_sh_2': 7, 'z_sh_3': 6, 'z_r2': 75, 'z_r2_1': 74, 'z_r2_2': 73, 'z_r2_3': 72, 'x_s': 1.0, 'x_s_1': 0.9, 'x_s_2': 0.8, 'x_s_3': 0.7, 'x_r2': 0.650877, 'x_r2_1': 0.550877, 'x_r2_2': 0.450877, 'x_r2_3': 0.350877} using model BoTorch.\n",
      "[INFO 04-10 16:28:28] ax.service.ax_client: Completed trial 83 with data: {'Cross_term_gear_ratio_product': (np.float64(35661.368434), None)}.\n",
      "[INFO 04-10 16:28:42] ax.service.ax_client: Generated new trial 84 with parameters {'z_sh': 9, 'z_sh_1': 8, 'z_sh_2': 7, 'z_sh_3': 6, 'z_r2': 75, 'z_r2_1': 74, 'z_r2_2': 73, 'z_r2_3': 70, 'x_s': 1.0, 'x_s_1': 0.9, 'x_s_2': 0.8, 'x_s_3': 0.7, 'x_r2': 0.689474, 'x_r2_1': 0.589474, 'x_r2_2': 0.489474, 'x_r2_3': 0.389474} using model BoTorch.\n",
      "[INFO 04-10 16:28:42] ax.service.ax_client: Completed trial 84 with data: {'Cross_term_gear_ratio_product': (np.float64(34419.361859), None)}.\n",
      "[INFO 04-10 16:28:53] ax.service.ax_client: Generated new trial 85 with parameters {'z_sh': 12, 'z_sh_1': 11, 'z_sh_2': 9, 'z_sh_3': 6, 'z_r2': 79, 'z_r2_1': 77, 'z_r2_2': 76, 'z_r2_3': 75, 'x_s': 1.0, 'x_s_1': 0.9, 'x_s_2': 0.8, 'x_s_3': -1.0, 'x_r2': 0.039651, 'x_r2_1': -0.060349, 'x_r2_2': -0.160349, 'x_r2_3': -0.260349} using model BoTorch.\n",
      "[INFO 04-10 16:28:53] ax.service.ax_client: Completed trial 85 with data: {'Cross_term_gear_ratio_product': (np.float64(24488.618957), None)}.\n",
      "[INFO 04-10 16:29:05] ax.service.ax_client: Generated new trial 86 with parameters {'z_sh': 11, 'z_sh_1': 10, 'z_sh_2': 7, 'z_sh_3': 6, 'z_r2': 76, 'z_r2_1': 74, 'z_r2_2': 72, 'z_r2_3': 71, 'x_s': 1.0, 'x_s_1': 0.9, 'x_s_2': 0.8, 'x_s_3': -1.0, 'x_r2': 0.977455, 'x_r2_1': 0.877455, 'x_r2_2': 0.777455, 'x_r2_3': 0.677455} using model BoTorch.\n",
      "[INFO 04-10 16:29:05] ax.service.ax_client: Completed trial 86 with data: {'Cross_term_gear_ratio_product': (np.float64(30644.004725), None)}.\n",
      "[INFO 04-10 16:29:17] ax.service.ax_client: Generated new trial 87 with parameters {'z_sh': 10, 'z_sh_1': 8, 'z_sh_2': 7, 'z_sh_3': 6, 'z_r2': 75, 'z_r2_1': 74, 'z_r2_2': 73, 'z_r2_3': 72, 'x_s': 1.0, 'x_s_1': 0.9, 'x_s_2': 0.8, 'x_s_3': -1.0, 'x_r2': 0.836823, 'x_r2_1': 0.736823, 'x_r2_2': 0.636823, 'x_r2_3': 0.536823} using model BoTorch.\n",
      "[INFO 04-10 16:29:17] ax.service.ax_client: Completed trial 87 with data: {'Cross_term_gear_ratio_product': (np.float64(36855.263661), None)}.\n",
      "[INFO 04-10 16:29:26] ax.service.ax_client: Generated new trial 88 with parameters {'z_sh': 9, 'z_sh_1': 8, 'z_sh_2': 7, 'z_sh_3': 6, 'z_r2': 75, 'z_r2_1': 74, 'z_r2_2': 73, 'z_r2_3': 72, 'x_s': 1.0, 'x_s_1': 0.9, 'x_s_2': 0.8, 'x_s_3': -1.0, 'x_r2': 0.835695, 'x_r2_1': 0.735695, 'x_r2_2': 0.635695, 'x_r2_3': 0.535695} using model BoTorch.\n",
      "[INFO 04-10 16:29:26] ax.service.ax_client: Completed trial 88 with data: {'Cross_term_gear_ratio_product': (np.float64(35298.030975), None)}.\n",
      "[INFO 04-10 16:29:37] ax.service.ax_client: Generated new trial 89 with parameters {'z_sh': 9, 'z_sh_1': 8, 'z_sh_2': 7, 'z_sh_3': 6, 'z_r2': 75, 'z_r2_1': 74, 'z_r2_2': 73, 'z_r2_3': 72, 'x_s': 1.0, 'x_s_1': 0.9, 'x_s_2': 0.8, 'x_s_3': -1.0, 'x_r2': 0.708947, 'x_r2_1': 0.608947, 'x_r2_2': 0.508947, 'x_r2_3': 0.408947} using model BoTorch.\n",
      "[INFO 04-10 16:29:37] ax.service.ax_client: Completed trial 89 with data: {'Cross_term_gear_ratio_product': (np.float64(36931.731642), None)}.\n",
      "[INFO 04-10 16:29:46] ax.service.ax_client: Generated new trial 90 with parameters {'z_sh': 11, 'z_sh_1': 10, 'z_sh_2': 8, 'z_sh_3': 6, 'z_r2': 81, 'z_r2_1': 76, 'z_r2_2': 75, 'z_r2_3': 72, 'x_s': 1.0, 'x_s_1': 0.9, 'x_s_2': 0.8, 'x_s_3': 0.7, 'x_r2': -0.190419, 'x_r2_1': -0.290419, 'x_r2_2': -0.390419, 'x_r2_3': -0.490419} using model BoTorch.\n",
      "[INFO 04-10 16:29:46] ax.service.ax_client: Completed trial 90 with data: {'Cross_term_gear_ratio_product': (np.float64(20785.907461), None)}.\n",
      "[INFO 04-10 16:29:57] ax.service.ax_client: Generated new trial 91 with parameters {'z_sh': 12, 'z_sh_1': 8, 'z_sh_2': 7, 'z_sh_3': 6, 'z_r2': 75, 'z_r2_1': 74, 'z_r2_2': 73, 'z_r2_3': 72, 'x_s': 1.0, 'x_s_1': 0.9, 'x_s_2': 0.8, 'x_s_3': -1.0, 'x_r2': 0.710449, 'x_r2_1': 0.610449, 'x_r2_2': 0.510449, 'x_r2_3': 0.410449} using model BoTorch.\n",
      "[INFO 04-10 16:29:57] ax.service.ax_client: Completed trial 91 with data: {'Cross_term_gear_ratio_product': (np.float64(34608.030129), None)}.\n",
      "[INFO 04-10 16:30:08] ax.service.ax_client: Generated new trial 92 with parameters {'z_sh': 9, 'z_sh_1': 8, 'z_sh_2': 7, 'z_sh_3': 6, 'z_r2': 75, 'z_r2_1': 74, 'z_r2_2': 73, 'z_r2_3': 72, 'x_s': 1.0, 'x_s_1': 0.9, 'x_s_2': 0.8, 'x_s_3': -0.412334, 'x_r2': 0.717226, 'x_r2_1': 0.617226, 'x_r2_2': 0.517226, 'x_r2_3': 0.417226} using model BoTorch.\n",
      "[INFO 04-10 16:30:08] ax.service.ax_client: Completed trial 92 with data: {'Cross_term_gear_ratio_product': (np.float64(34895.808885), None)}.\n",
      "[INFO 04-10 16:30:19] ax.service.ax_client: Generated new trial 93 with parameters {'z_sh': 9, 'z_sh_1': 8, 'z_sh_2': 7, 'z_sh_3': 6, 'z_r2': 74, 'z_r2_1': 73, 'z_r2_2': 72, 'z_r2_3': 71, 'x_s': 1.0, 'x_s_1': 0.9, 'x_s_2': 0.8, 'x_s_3': -1.0, 'x_r2': 1.0, 'x_r2_1': 0.740828, 'x_r2_2': 0.640828, 'x_r2_3': 0.540828} using model BoTorch.\n",
      "[INFO 04-10 16:30:19] ax.service.ax_client: Completed trial 93 with data: {'Cross_term_gear_ratio_product': (np.float64(35630.751384), None)}.\n",
      "[INFO 04-10 16:30:30] ax.service.ax_client: Generated new trial 94 with parameters {'z_sh': 9, 'z_sh_1': 8, 'z_sh_2': 7, 'z_sh_3': 6, 'z_r2': 74, 'z_r2_1': 73, 'z_r2_2': 72, 'z_r2_3': 71, 'x_s': 1.0, 'x_s_1': 0.9, 'x_s_2': 0.8, 'x_s_3': -1.0, 'x_r2': 1.0, 'x_r2_1': 0.585853, 'x_r2_2': 0.485853, 'x_r2_3': 0.385853} using model BoTorch.\n",
      "[INFO 04-10 16:30:30] ax.service.ax_client: Completed trial 94 with data: {'Cross_term_gear_ratio_product': (np.float64(34362.757184), None)}.\n",
      "[INFO 04-10 16:30:42] ax.service.ax_client: Generated new trial 95 with parameters {'z_sh': 9, 'z_sh_1': 8, 'z_sh_2': 7, 'z_sh_3': 6, 'z_r2': 75, 'z_r2_1': 74, 'z_r2_2': 73, 'z_r2_3': 72, 'x_s': 1.0, 'x_s_1': 0.9, 'x_s_2': 0.8, 'x_s_3': -1.0, 'x_r2': 1.0, 'x_r2_1': 0.624744, 'x_r2_2': 0.524744, 'x_r2_3': 0.424744} using model BoTorch.\n",
      "[INFO 04-10 16:30:42] ax.service.ax_client: Completed trial 95 with data: {'Cross_term_gear_ratio_product': (np.float64(37825.040438), None)}.\n",
      "[INFO 04-10 16:30:53] ax.service.ax_client: Generated new trial 96 with parameters {'z_sh': 9, 'z_sh_1': 8, 'z_sh_2': 7, 'z_sh_3': 6, 'z_r2': 75, 'z_r2_1': 74, 'z_r2_2': 73, 'z_r2_3': 72, 'x_s': 1.0, 'x_s_1': 0.9, 'x_s_2': 0.8, 'x_s_3': -1.0, 'x_r2': 1.0, 'x_r2_1': 0.62102, 'x_r2_2': 0.52102, 'x_r2_3': 0.42102} using model BoTorch.\n",
      "[INFO 04-10 16:30:53] ax.service.ax_client: Completed trial 96 with data: {'Cross_term_gear_ratio_product': (np.float64(37825.040438), None)}.\n",
      "[INFO 04-10 16:31:03] ax.service.ax_client: Generated new trial 97 with parameters {'z_sh': 9, 'z_sh_1': 8, 'z_sh_2': 7, 'z_sh_3': 6, 'z_r2': 75, 'z_r2_1': 74, 'z_r2_2': 73, 'z_r2_3': 72, 'x_s': 1.0, 'x_s_1': 0.9, 'x_s_2': 0.8, 'x_s_3': -1.0, 'x_r2': 1.0, 'x_r2_1': 0.620118, 'x_r2_2': 0.520118, 'x_r2_3': 0.420118} using model BoTorch.\n",
      "[INFO 04-10 16:31:03] ax.service.ax_client: Completed trial 97 with data: {'Cross_term_gear_ratio_product': (np.float64(37775.590182), None)}.\n",
      "[INFO 04-10 16:31:14] ax.service.ax_client: Generated new trial 98 with parameters {'z_sh': 9, 'z_sh_1': 8, 'z_sh_2': 7, 'z_sh_3': 6, 'z_r2': 76, 'z_r2_1': 75, 'z_r2_2': 74, 'z_r2_3': 73, 'x_s': 1.0, 'x_s_1': 0.9, 'x_s_2': 0.8, 'x_s_3': -1.0, 'x_r2': 1.0, 'x_r2_1': 0.499479, 'x_r2_2': 0.399479, 'x_r2_3': 0.299479} using model BoTorch.\n",
      "[INFO 04-10 16:31:14] ax.service.ax_client: Completed trial 98 with data: {'Cross_term_gear_ratio_product': (np.float64(38223.857566), None)}.\n",
      "[INFO 04-10 16:31:26] ax.service.ax_client: Generated new trial 99 with parameters {'z_sh': 9, 'z_sh_1': 8, 'z_sh_2': 7, 'z_sh_3': 6, 'z_r2': 75, 'z_r2_1': 74, 'z_r2_2': 73, 'z_r2_3': 72, 'x_s': 1.0, 'x_s_1': 0.9, 'x_s_2': 0.8, 'x_s_3': -1.0, 'x_r2': 1.0, 'x_r2_1': 0.587055, 'x_r2_2': 0.487055, 'x_r2_3': 0.387055} using model BoTorch.\n",
      "[INFO 04-10 16:31:26] ax.service.ax_client: Completed trial 99 with data: {'Cross_term_gear_ratio_product': (np.float64(37627.318541), None)}.\n",
      "[INFO 04-10 16:31:37] ax.service.ax_client: Generated new trial 100 with parameters {'z_sh': 9, 'z_sh_1': 8, 'z_sh_2': 7, 'z_sh_3': 6, 'z_r2': 75, 'z_r2_1': 74, 'z_r2_2': 73, 'z_r2_3': 72, 'x_s': 1.0, 'x_s_1': 0.9, 'x_s_2': 0.8, 'x_s_3': -1.0, 'x_r2': 1.0, 'x_r2_1': 0.58247, 'x_r2_2': 0.48247, 'x_r2_3': 0.38247} using model BoTorch.\n",
      "[INFO 04-10 16:31:37] ax.service.ax_client: Completed trial 100 with data: {'Cross_term_gear_ratio_product': (np.float64(37609.088713), None)}.\n",
      "[INFO 04-10 16:31:47] ax.service.ax_client: Generated new trial 101 with parameters {'z_sh': 9, 'z_sh_1': 8, 'z_sh_2': 7, 'z_sh_3': 6, 'z_r2': 75, 'z_r2_1': 74, 'z_r2_2': 73, 'z_r2_3': 72, 'x_s': 1.0, 'x_s_1': 0.9, 'x_s_2': 0.8, 'x_s_3': -1.0, 'x_r2': 1.0, 'x_r2_1': 0.538629, 'x_r2_2': 0.438629, 'x_r2_3': 0.338629} using model BoTorch.\n",
      "[INFO 04-10 16:31:47] ax.service.ax_client: Completed trial 101 with data: {'Cross_term_gear_ratio_product': (np.float64(37278.728285), None)}.\n",
      "[INFO 04-10 16:31:59] ax.service.ax_client: Generated new trial 102 with parameters {'z_sh': 12, 'z_sh_1': 9, 'z_sh_2': 8, 'z_sh_3': 6, 'z_r2': 85, 'z_r2_1': 76, 'z_r2_2': 75, 'z_r2_3': 70, 'x_s': 1.0, 'x_s_1': 0.9, 'x_s_2': 0.8, 'x_s_3': 0.7, 'x_r2': -0.079794, 'x_r2_1': -0.179794, 'x_r2_2': -0.279794, 'x_r2_3': -1.0} using model BoTorch.\n",
      "[INFO 04-10 16:31:59] ax.service.ax_client: Completed trial 102 with data: {'Cross_term_gear_ratio_product': (np.float64(18448.26395), None)}.\n",
      "[INFO 04-10 16:32:10] ax.service.ax_client: Generated new trial 103 with parameters {'z_sh': 9, 'z_sh_1': 8, 'z_sh_2': 7, 'z_sh_3': 6, 'z_r2': 75, 'z_r2_1': 74, 'z_r2_2': 73, 'z_r2_3': 72, 'x_s': 1.0, 'x_s_1': 0.9, 'x_s_2': 0.8, 'x_s_3': -1.0, 'x_r2': 1.0, 'x_r2_1': 0.583186, 'x_r2_2': 0.483186, 'x_r2_3': 0.383186} using model BoTorch.\n",
      "[INFO 04-10 16:32:10] ax.service.ax_client: Completed trial 103 with data: {'Cross_term_gear_ratio_product': (np.float64(37609.088713), None)}.\n",
      "[INFO 04-10 16:32:22] ax.service.ax_client: Generated new trial 104 with parameters {'z_sh': 9, 'z_sh_1': 8, 'z_sh_2': 7, 'z_sh_3': 6, 'z_r2': 75, 'z_r2_1': 74, 'z_r2_2': 73, 'z_r2_3': 72, 'x_s': 1.0, 'x_s_1': 0.9, 'x_s_2': 0.8, 'x_s_3': -1.0, 'x_r2': 1.0, 'x_r2_1': 0.471464, 'x_r2_2': 0.371464, 'x_r2_3': 0.271464} using model BoTorch.\n",
      "[INFO 04-10 16:32:22] ax.service.ax_client: Completed trial 104 with data: {'Cross_term_gear_ratio_product': (np.float64(34485.928988), None)}.\n",
      "[INFO 04-10 16:32:33] ax.service.ax_client: Generated new trial 105 with parameters {'z_sh': 9, 'z_sh_1': 8, 'z_sh_2': 7, 'z_sh_3': 6, 'z_r2': 75, 'z_r2_1': 74, 'z_r2_2': 73, 'z_r2_3': 72, 'x_s': 1.0, 'x_s_1': 0.9, 'x_s_2': 0.8, 'x_s_3': -1.0, 'x_r2': 1.0, 'x_r2_1': 0.709929, 'x_r2_2': 0.609929, 'x_r2_3': 0.509929} using model BoTorch.\n",
      "[INFO 04-10 16:32:33] ax.service.ax_client: Completed trial 105 with data: {'Cross_term_gear_ratio_product': (np.float64(38185.068718), None)}.\n",
      "[INFO 04-10 16:32:44] ax.service.ax_client: Generated new trial 106 with parameters {'z_sh': 9, 'z_sh_1': 8, 'z_sh_2': 7, 'z_sh_3': 6, 'z_r2': 75, 'z_r2_1': 74, 'z_r2_2': 73, 'z_r2_3': 72, 'x_s': 1.0, 'x_s_1': 0.9, 'x_s_2': 0.8, 'x_s_3': -1.0, 'x_r2': 1.0, 'x_r2_1': 0.721387, 'x_r2_2': 0.621387, 'x_r2_3': 0.521387} using model BoTorch.\n",
      "[INFO 04-10 16:32:44] ax.service.ax_client: Completed trial 106 with data: {'Cross_term_gear_ratio_product': (np.float64(38221.240562), None)}.\n",
      "[INFO 04-10 16:32:54] ax.service.ax_client: Generated new trial 107 with parameters {'z_sh': 9, 'z_sh_1': 8, 'z_sh_2': 7, 'z_sh_3': 6, 'z_r2': 78, 'z_r2_1': 77, 'z_r2_2': 75, 'z_r2_3': 74, 'x_s': 1.0, 'x_s_1': 0.9, 'x_s_2': 0.8, 'x_s_3': -1.0, 'x_r2': 1.0, 'x_r2_1': 0.536088, 'x_r2_2': 0.436088, 'x_r2_3': 0.336088} using model BoTorch.\n",
      "[INFO 04-10 16:32:54] ax.service.ax_client: Completed trial 107 with data: {'Cross_term_gear_ratio_product': (np.float64(24978.193254), None)}.\n",
      "[INFO 04-10 16:33:08] ax.service.ax_client: Generated new trial 108 with parameters {'z_sh': 9, 'z_sh_1': 8, 'z_sh_2': 7, 'z_sh_3': 6, 'z_r2': 75, 'z_r2_1': 74, 'z_r2_2': 73, 'z_r2_3': 72, 'x_s': 1.0, 'x_s_1': 0.9, 'x_s_2': 0.8, 'x_s_3': -1.0, 'x_r2': 1.0, 'x_r2_1': 0.706335, 'x_r2_2': 0.606335, 'x_r2_3': 0.506335} using model BoTorch.\n",
      "[INFO 04-10 16:33:08] ax.service.ax_client: Completed trial 108 with data: {'Cross_term_gear_ratio_product': (np.float64(35800.181217), None)}.\n",
      "[INFO 04-10 16:33:20] ax.service.ax_client: Generated new trial 109 with parameters {'z_sh': 9, 'z_sh_1': 8, 'z_sh_2': 7, 'z_sh_3': 6, 'z_r2': 75, 'z_r2_1': 74, 'z_r2_2': 73, 'z_r2_3': 72, 'x_s': 1.0, 'x_s_1': 0.9, 'x_s_2': 0.8, 'x_s_3': -1.0, 'x_r2': 1.0, 'x_r2_1': 0.9, 'x_r2_2': 0.536024, 'x_r2_3': 0.436024} using model BoTorch.\n",
      "[INFO 04-10 16:33:20] ax.service.ax_client: Completed trial 109 with data: {'Cross_term_gear_ratio_product': (np.float64(38382.206837), None)}.\n",
      "[INFO 04-10 16:33:33] ax.service.ax_client: Generated new trial 110 with parameters {'z_sh': 10, 'z_sh_1': 9, 'z_sh_2': 8, 'z_sh_3': 6, 'z_r2': 78, 'z_r2_1': 77, 'z_r2_2': 76, 'z_r2_3': 74, 'x_s': 1.0, 'x_s_1': 0.9, 'x_s_2': 0.8, 'x_s_3': 0.7, 'x_r2': 0.081123, 'x_r2_1': -0.018877, 'x_r2_2': -0.118877, 'x_r2_3': -0.218877} using model BoTorch.\n",
      "[INFO 04-10 16:33:33] ax.service.ax_client: Completed trial 110 with data: {'Cross_term_gear_ratio_product': (np.float64(28805.524889), None)}.\n",
      "[INFO 04-10 16:33:45] ax.service.ax_client: Generated new trial 111 with parameters {'z_sh': 10, 'z_sh_1': 8, 'z_sh_2': 7, 'z_sh_3': 6, 'z_r2': 78, 'z_r2_1': 77, 'z_r2_2': 76, 'z_r2_3': 75, 'x_s': 1.0, 'x_s_1': 0.9, 'x_s_2': 0.8, 'x_s_3': 0.7, 'x_r2': 0.180723, 'x_r2_1': 0.080723, 'x_r2_2': -0.019277, 'x_r2_3': -0.119277} using model BoTorch.\n",
      "[INFO 04-10 16:33:45] ax.service.ax_client: Completed trial 111 with data: {'Cross_term_gear_ratio_product': (np.float64(30612.140689), None)}.\n",
      "[INFO 04-10 16:33:56] ax.service.ax_client: Generated new trial 112 with parameters {'z_sh': 10, 'z_sh_1': 9, 'z_sh_2': 8, 'z_sh_3': 6, 'z_r2': 76, 'z_r2_1': 75, 'z_r2_2': 73, 'z_r2_3': 72, 'x_s': 1.0, 'x_s_1': 0.9, 'x_s_2': 0.8, 'x_s_3': -1.0, 'x_r2': 1.0, 'x_r2_1': 0.9, 'x_r2_2': 0.409789, 'x_r2_3': 0.309789} using model BoTorch.\n",
      "[INFO 04-10 16:33:56] ax.service.ax_client: Completed trial 112 with data: {'Cross_term_gear_ratio_product': (np.float64(29862.452292), None)}.\n",
      "[INFO 04-10 16:34:07] ax.service.ax_client: Generated new trial 113 with parameters {'z_sh': 9, 'z_sh_1': 8, 'z_sh_2': 7, 'z_sh_3': 6, 'z_r2': 75, 'z_r2_1': 74, 'z_r2_2': 73, 'z_r2_3': 72, 'x_s': 1.0, 'x_s_1': 0.9, 'x_s_2': 0.8, 'x_s_3': -1.0, 'x_r2': 1.0, 'x_r2_1': 0.9, 'x_r2_2': 0.8, 'x_r2_3': 0.7} using model BoTorch.\n",
      "[INFO 04-10 16:34:07] ax.service.ax_client: Completed trial 113 with data: {'Cross_term_gear_ratio_product': (np.float64(36700.565147), None)}.\n",
      "[INFO 04-10 16:34:19] ax.service.ax_client: Generated new trial 114 with parameters {'z_sh': 11, 'z_sh_1': 9, 'z_sh_2': 8, 'z_sh_3': 7, 'z_r2': 77, 'z_r2_1': 75, 'z_r2_2': 74, 'z_r2_3': 71, 'x_s': 1.0, 'x_s_1': 0.9, 'x_s_2': 0.8, 'x_s_3': -1.0, 'x_r2': 0.799101, 'x_r2_1': 0.699101, 'x_r2_2': 0.599101, 'x_r2_3': 0.499101} using model BoTorch.\n",
      "[INFO 04-10 16:34:19] ax.service.ax_client: Completed trial 114 with data: {'Cross_term_gear_ratio_product': (np.float64(27783.311267), None)}.\n",
      "[INFO 04-10 16:34:31] ax.service.ax_client: Generated new trial 115 with parameters {'z_sh': 9, 'z_sh_1': 8, 'z_sh_2': 7, 'z_sh_3': 6, 'z_r2': 75, 'z_r2_1': 74, 'z_r2_2': 73, 'z_r2_3': 72, 'x_s': 1.0, 'x_s_1': 0.9, 'x_s_2': 0.8, 'x_s_3': -1.0, 'x_r2': 1.0, 'x_r2_1': -0.315364, 'x_r2_2': -0.415364, 'x_r2_3': -0.515364} using model BoTorch.\n",
      "[INFO 04-10 16:34:31] ax.service.ax_client: Completed trial 115 with data: {'Cross_term_gear_ratio_product': (np.float64(29312.436968), None)}.\n",
      "[INFO 04-10 16:34:43] ax.service.ax_client: Generated new trial 116 with parameters {'z_sh': 9, 'z_sh_1': 8, 'z_sh_2': 7, 'z_sh_3': 6, 'z_r2': 75, 'z_r2_1': 74, 'z_r2_2': 73, 'z_r2_3': 70, 'x_s': 1.0, 'x_s_1': 0.9, 'x_s_2': 0.8, 'x_s_3': -1.0, 'x_r2': 1.0, 'x_r2_1': 0.748182, 'x_r2_2': 0.648182, 'x_r2_3': 0.548182} using model BoTorch.\n",
      "[INFO 04-10 16:34:43] ax.service.ax_client: Completed trial 116 with data: {'Cross_term_gear_ratio_product': (np.float64(34687.761064), None)}.\n",
      "[INFO 04-10 16:34:57] ax.service.ax_client: Generated new trial 117 with parameters {'z_sh': 9, 'z_sh_1': 8, 'z_sh_2': 7, 'z_sh_3': 6, 'z_r2': 75, 'z_r2_1': 74, 'z_r2_2': 73, 'z_r2_3': 72, 'x_s': 1.0, 'x_s_1': 0.9, 'x_s_2': 0.8, 'x_s_3': -1.0, 'x_r2': 1.0, 'x_r2_1': 0.9, 'x_r2_2': 0.085934, 'x_r2_3': -0.014066} using model BoTorch.\n",
      "[INFO 04-10 16:34:57] ax.service.ax_client: Completed trial 117 with data: {'Cross_term_gear_ratio_product': (np.float64(35988.243039), None)}.\n",
      "[INFO 04-10 16:35:10] ax.service.ax_client: Generated new trial 118 with parameters {'z_sh': 9, 'z_sh_1': 8, 'z_sh_2': 7, 'z_sh_3': 6, 'z_r2': 75, 'z_r2_1': 74, 'z_r2_2': 73, 'z_r2_3': 72, 'x_s': 1.0, 'x_s_1': 0.9, 'x_s_2': 0.8, 'x_s_3': -1.0, 'x_r2': 1.0, 'x_r2_1': 0.9, 'x_r2_2': -0.9, 'x_r2_3': -1.0} using model BoTorch.\n",
      "[INFO 04-10 16:35:10] ax.service.ax_client: Completed trial 118 with data: {'Cross_term_gear_ratio_product': (np.float64(32212.443824), None)}.\n",
      "[INFO 04-10 16:35:24] ax.service.ax_client: Generated new trial 119 with parameters {'z_sh': 9, 'z_sh_1': 8, 'z_sh_2': 7, 'z_sh_3': 6, 'z_r2': 75, 'z_r2_1': 74, 'z_r2_2': 73, 'z_r2_3': 72, 'x_s': 1.0, 'x_s_1': 0.9, 'x_s_2': 0.8, 'x_s_3': -1.0, 'x_r2': 1.0, 'x_r2_1': 0.706717, 'x_r2_2': 0.606717, 'x_r2_3': 0.506717} using model BoTorch.\n",
      "[INFO 04-10 16:35:24] ax.service.ax_client: Completed trial 119 with data: {'Cross_term_gear_ratio_product': (np.float64(38255.14125), None)}.\n",
      "[INFO 04-10 16:35:36] ax.service.ax_client: Generated new trial 120 with parameters {'z_sh': 12, 'z_sh_1': 9, 'z_sh_2': 8, 'z_sh_3': 6, 'z_r2': 77, 'z_r2_1': 76, 'z_r2_2': 75, 'z_r2_3': 73, 'x_s': 1.0, 'x_s_1': 0.9, 'x_s_2': 0.8, 'x_s_3': -0.995438, 'x_r2': 0.413888, 'x_r2_1': 0.313888, 'x_r2_2': 0.213888, 'x_r2_3': 0.113888} using model BoTorch.\n",
      "[INFO 04-10 16:35:36] ax.service.ax_client: Completed trial 120 with data: {'Cross_term_gear_ratio_product': (np.float64(30209.597924), None)}.\n",
      "[INFO 04-10 16:35:50] ax.service.ax_client: Generated new trial 121 with parameters {'z_sh': 9, 'z_sh_1': 8, 'z_sh_2': 7, 'z_sh_3': 6, 'z_r2': 75, 'z_r2_1': 74, 'z_r2_2': 73, 'z_r2_3': 72, 'x_s': 1.0, 'x_s_1': 0.9, 'x_s_2': 0.8, 'x_s_3': -1.0, 'x_r2': 1.0, 'x_r2_1': 0.712177, 'x_r2_2': 0.612177, 'x_r2_3': 0.512177} using model BoTorch.\n",
      "[INFO 04-10 16:35:50] ax.service.ax_client: Completed trial 121 with data: {'Cross_term_gear_ratio_product': (np.float64(35727.087714), None)}.\n",
      "[INFO 04-10 16:36:04] ax.service.ax_client: Generated new trial 122 with parameters {'z_sh': 9, 'z_sh_1': 8, 'z_sh_2': 7, 'z_sh_3': 6, 'z_r2': 75, 'z_r2_1': 74, 'z_r2_2': 73, 'z_r2_3': 72, 'x_s': 1.0, 'x_s_1': 0.9, 'x_s_2': 0.8, 'x_s_3': -1.0, 'x_r2': 1.0, 'x_r2_1': 0.705779, 'x_r2_2': 0.605779, 'x_r2_3': 0.505779} using model BoTorch.\n",
      "[INFO 04-10 16:36:04] ax.service.ax_client: Completed trial 122 with data: {'Cross_term_gear_ratio_product': (np.float64(38255.14125), None)}.\n",
      "[INFO 04-10 16:36:24] ax.service.ax_client: Generated new trial 123 with parameters {'z_sh': 9, 'z_sh_1': 8, 'z_sh_2': 7, 'z_sh_3': 6, 'z_r2': 75, 'z_r2_1': 74, 'z_r2_2': 73, 'z_r2_3': 72, 'x_s': 1.0, 'x_s_1': 0.9, 'x_s_2': 0.8, 'x_s_3': 0.7, 'x_r2': 1.0, 'x_r2_1': 0.69076, 'x_r2_2': 0.59076, 'x_r2_3': 0.49076} using model BoTorch.\n",
      "[INFO 04-10 16:36:24] ax.service.ax_client: Completed trial 123 with data: {'Cross_term_gear_ratio_product': (np.float64(36604.239389), None)}.\n",
      "[INFO 04-10 16:36:37] ax.service.ax_client: Generated new trial 124 with parameters {'z_sh': 9, 'z_sh_1': 8, 'z_sh_2': 7, 'z_sh_3': 6, 'z_r2': 75, 'z_r2_1': 74, 'z_r2_2': 73, 'z_r2_3': 72, 'x_s': 1.0, 'x_s_1': 0.9, 'x_s_2': 0.8, 'x_s_3': -1.0, 'x_r2': 1.0, 'x_r2_1': 0.71216, 'x_r2_2': 0.61216, 'x_r2_3': 0.51216} using model BoTorch.\n",
      "[INFO 04-10 16:36:37] ax.service.ax_client: Completed trial 124 with data: {'Cross_term_gear_ratio_product': (np.float64(38200.035591), None)}.\n",
      "[INFO 04-10 16:36:50] ax.service.ax_client: Generated new trial 125 with parameters {'z_sh': 9, 'z_sh_1': 8, 'z_sh_2': 7, 'z_sh_3': 6, 'z_r2': 75, 'z_r2_1': 74, 'z_r2_2': 73, 'z_r2_3': 72, 'x_s': 1.0, 'x_s_1': 0.9, 'x_s_2': 0.8, 'x_s_3': -1.0, 'x_r2': 1.0, 'x_r2_1': 0.715135, 'x_r2_2': 0.615135, 'x_r2_3': 0.515135} using model BoTorch.\n",
      "[INFO 04-10 16:36:50] ax.service.ax_client: Completed trial 125 with data: {'Cross_term_gear_ratio_product': (np.float64(38200.035591), None)}.\n",
      "[INFO 04-10 16:37:05] ax.service.ax_client: Generated new trial 126 with parameters {'z_sh': 11, 'z_sh_1': 9, 'z_sh_2': 8, 'z_sh_3': 6, 'z_r2': 86, 'z_r2_1': 78, 'z_r2_2': 75, 'z_r2_3': 73, 'x_s': 1.0, 'x_s_1': 0.9, 'x_s_2': 0.8, 'x_s_3': 0.7, 'x_r2': 0.133254, 'x_r2_1': 0.033254, 'x_r2_2': -0.066746, 'x_r2_3': -0.166746} using model BoTorch.\n",
      "[INFO 04-10 16:37:05] ax.service.ax_client: Completed trial 126 with data: {'Cross_term_gear_ratio_product': (np.float64(18707.448448), None)}.\n",
      "[INFO 04-10 16:37:18] ax.service.ax_client: Generated new trial 127 with parameters {'z_sh': 9, 'z_sh_1': 8, 'z_sh_2': 7, 'z_sh_3': 6, 'z_r2': 75, 'z_r2_1': 74, 'z_r2_2': 73, 'z_r2_3': 72, 'x_s': 1.0, 'x_s_1': 0.9, 'x_s_2': 0.8, 'x_s_3': -1.0, 'x_r2': 1.0, 'x_r2_1': 0.714692, 'x_r2_2': 0.614692, 'x_r2_3': 0.514692} using model BoTorch.\n",
      "[INFO 04-10 16:37:18] ax.service.ax_client: Completed trial 127 with data: {'Cross_term_gear_ratio_product': (np.float64(35727.087714), None)}.\n",
      "[INFO 04-10 16:37:33] ax.service.ax_client: Generated new trial 128 with parameters {'z_sh': 9, 'z_sh_1': 8, 'z_sh_2': 7, 'z_sh_3': 6, 'z_r2': 75, 'z_r2_1': 74, 'z_r2_2': 73, 'z_r2_3': 72, 'x_s': 1.0, 'x_s_1': 0.9, 'x_s_2': 0.8, 'x_s_3': -1.0, 'x_r2': 1.0, 'x_r2_1': 0.714721, 'x_r2_2': 0.614721, 'x_r2_3': 0.514721} using model BoTorch.\n",
      "[INFO 04-10 16:37:33] ax.service.ax_client: Completed trial 128 with data: {'Cross_term_gear_ratio_product': (np.float64(38200.035591), None)}.\n",
      "[INFO 04-10 16:37:46] ax.service.ax_client: Generated new trial 129 with parameters {'z_sh': 10, 'z_sh_1': 9, 'z_sh_2': 7, 'z_sh_3': 6, 'z_r2': 85, 'z_r2_1': 76, 'z_r2_2': 75, 'z_r2_3': 74, 'x_s': 1.0, 'x_s_1': 0.9, 'x_s_2': 0.8, 'x_s_3': -1.0, 'x_r2': 0.205749, 'x_r2_1': 0.105749, 'x_r2_2': -0.9, 'x_r2_3': -1.0} using model BoTorch.\n",
      "[INFO 04-10 16:37:46] ax.service.ax_client: Completed trial 129 with data: {'Cross_term_gear_ratio_product': (np.float64(22640.85867), None)}.\n",
      "[INFO 04-10 16:37:59] ax.service.ax_client: Generated new trial 130 with parameters {'z_sh': 9, 'z_sh_1': 8, 'z_sh_2': 7, 'z_sh_3': 6, 'z_r2': 75, 'z_r2_1': 74, 'z_r2_2': 73, 'z_r2_3': 72, 'x_s': 1.0, 'x_s_1': 0.9, 'x_s_2': 0.8, 'x_s_3': -1.0, 'x_r2': 1.0, 'x_r2_1': 0.717508, 'x_r2_2': 0.617508, 'x_r2_3': 0.517508} using model BoTorch.\n",
      "[INFO 04-10 16:37:59] ax.service.ax_client: Completed trial 130 with data: {'Cross_term_gear_ratio_product': (np.float64(38200.035591), None)}.\n",
      "[INFO 04-10 16:38:12] ax.service.ax_client: Generated new trial 131 with parameters {'z_sh': 9, 'z_sh_1': 8, 'z_sh_2': 7, 'z_sh_3': 6, 'z_r2': 75, 'z_r2_1': 74, 'z_r2_2': 73, 'z_r2_3': 72, 'x_s': 1.0, 'x_s_1': 0.9, 'x_s_2': 0.8, 'x_s_3': -1.0, 'x_r2': 1.0, 'x_r2_1': 0.718395, 'x_r2_2': 0.618395, 'x_r2_3': 0.518395} using model BoTorch.\n",
      "[INFO 04-10 16:38:12] ax.service.ax_client: Completed trial 131 with data: {'Cross_term_gear_ratio_product': (np.float64(38200.035591), None)}.\n",
      "[INFO 04-10 16:38:27] ax.service.ax_client: Generated new trial 132 with parameters {'z_sh': 9, 'z_sh_1': 8, 'z_sh_2': 7, 'z_sh_3': 6, 'z_r2': 75, 'z_r2_1': 74, 'z_r2_2': 73, 'z_r2_3': 72, 'x_s': 1.0, 'x_s_1': 0.9, 'x_s_2': 0.8, 'x_s_3': -1.0, 'x_r2': 1.0, 'x_r2_1': 0.719422, 'x_r2_2': 0.619422, 'x_r2_3': 0.519422} using model BoTorch.\n",
      "[INFO 04-10 16:38:27] ax.service.ax_client: Completed trial 132 with data: {'Cross_term_gear_ratio_product': (np.float64(35727.087714), None)}.\n"
     ]
    }
   ],
   "source": [
    "for i in range(100):\n",
    "    parameterization, trial_index = Tag_client.get_next_trial()\n",
    "    # Local evaluation here can be replaced with deployment to external system.\n",
    "    Tag_client.complete_trial(trial_index=trial_index, raw_data=score_vals(param_to_list(parameterization, add_cl = True), add_gear = False))"
   ]
  },
  {
   "cell_type": "code",
   "execution_count": 20,
   "metadata": {},
   "outputs": [
    {
     "name": "stdout",
     "output_type": "stream",
     "text": [
      "z_sh: 9\n",
      "z_sh_1: 8\n",
      "z_sh_2: 7\n",
      "z_sh_3: 6\n",
      "z_r2: 75\n",
      "z_r2_1: 74\n",
      "z_r2_2: 73\n",
      "z_r2_3: 72\n",
      "x_s: 1.0\n",
      "x_s_1: 0.8999999999998373\n",
      "x_s_2: 0.7999999999988541\n",
      "x_s_3: -0.999999999999853\n",
      "x_r2: 0.9999999999985899\n",
      "x_r2_1: 0.719421838988003\n",
      "x_r2_2: 0.6194218389874829\n",
      "x_r2_3: 0.5194218389853328\n"
     ]
    }
   ],
   "source": [
    "best_parameters, values = Tag_client.get_best_parameters()\n",
    "for name, value in best_parameters.items():\n",
    "    print(f\"{name}: {value}\")"
   ]
  },
  {
   "cell_type": "code",
   "execution_count": 21,
   "metadata": {},
   "outputs": [
    {
     "name": "stdout",
     "output_type": "stream",
     "text": [
      "35727.0877139389\n"
     ]
    }
   ],
   "source": [
    "print(score_vals(param_to_list(best_parameters, add_cl = True), add_gear = False))"
   ]
  },
  {
   "cell_type": "code",
   "execution_count": 25,
   "metadata": {},
   "outputs": [
    {
     "data": {
      "text/plain": [
       "[array([9, 8, 7, 6]),\n",
       " array([75, 74, 73, 72]),\n",
       " array([ 1. ,  0.9,  0.8, -1. ]),\n",
       " array([1.        , 0.71942184, 0.61942184, 0.51942184]),\n",
       " array([0.0001, 0.0002, 0.0003, 0.0004])]"
      ]
     },
     "execution_count": 25,
     "metadata": {},
     "output_type": "execute_result"
    }
   ],
   "source": [
    "param_to_list(best_parameters, add_cl = True)"
   ]
  },
  {
   "cell_type": "code",
   "execution_count": 26,
   "metadata": {},
   "outputs": [
    {
     "data": {
      "application/vnd.plotly.v1+json": {
       "config": {
        "linkText": "Export to plot.ly",
        "plotlyServerURL": "https://plot.ly",
        "showLink": false
       },
       "data": [
        {
         "hoverinfo": "none",
         "legendgroup": "",
         "line": {
          "width": 0
         },
         "mode": "lines",
         "showlegend": false,
         "type": "scatter",
         "x": {
          "bdata": "AQACAAMABAAFAAYABwAIAAkACgALAAwADQAOAA8AEAARABIAEwAUABUAFgAXABgAGQAaABsAHAAdAB4AHwAgACEAIgAjACQAJQAmACcAKAApACoAKwAsAC0ALgAvADAAMQAyADMANAA1ADYANwA4ADkAOgA7ADwAPQA+AD8AQABBAEIAQwBEAEUARgBHAEgASQBKAEsATABNAE4ATwBQAFEAUgBTAFQAVQBWAFcAWABZAFoAWwBcAF0AXgBfAGAAYQBiAGMAZABlAGYAZwBoAGkAagBrAGwAbQBuAG8AcABxAHIAcwB0AHUAdgB3AHgAeQB6AHsAfAB9AH4AfwCAAIEAggCDAIQAhQCGAIcAiACJAIoAiwCMAI0AjgCPAJAAkQCSAJMAlACVAJYAlwCYAJkAmgCbAJwAnQCeAJ8AoAChAKIAowCkAKUApgCnAKgAqQCqAKsArACtAK4ArwCwALEAsgCzALQAtQC2ALcA",
          "dtype": "i2"
         },
         "y": {
          "bdata": "0eMCIGRUwUA+8tp9vAXDQGMDZbsRQc1AYwNluxFBzUBjA2W7EUHNQBNBuV5iEM5AE0G5XmIQzkATQbleYhDOQBNBuV5iEM5A4qFAU69D0UDLRQ6oyw3SQMtFDqjLDdJAy0UOqMsN0kDLRQ6oyw3SQMtFDqjLDdJAhNv+b+Nu0kCE2/5v427SQITb/m/jbtJAhNv+b+Nu0kCE2/5v427SQITb/m/jbtJAhNv+b+Nu0kCE2/5v427SQBGdHWtvD9ZAEZ0da28P1kARnR1rbw/WQBGdHWtvD9ZAEZ0da28P1kARnR1rbw/WQBGdHWtvD9ZAEZ0da28P1kARnR1rbw/WQBGdHWtvD9ZAKS6MA+862UC8gR4MbyPaQLyBHgxvI9pAvIEeDG8j2kALliM4MhnbQAuWIzgyGdtA9ONEq0Ze30D040SrRl7fQPTjRKtGXt9A9ONEq0Ze30D040SrRl7fQPTjRKtGXt9A9ONEq0Ze30D040SrRl7fQPTjRKtGXt9A9ONEq0Ze30AEjusfxazfQASO6x/FrN9ABI7rH8Ws30AEjusfxazfQASO6x/FrN9ABI7rH8Ws30AEjusfxazfQEvLqfCuzOBAS8up8K7M4EBLy6nwrszgQEvLqfCuzOBAS8up8K7M4EBLy6nwrszgQEvLqfCuzOBAS8up8K7M4EBLy6nwrszgQEvLqfCuzOBAS8up8K7M4EBLy6nwrszgQEvLqfCuzOBAS8up8K7M4ECfoBP//dbhQMYnNEUwGuJA2ppCFa4g4kDamkIVriDiQNqaQhWuIOJA2ppCFa4g4kDamkIVriDiQNqaQhWuIOJA2ppCFa4g4kDamkIVriDiQNqaQhWuIOJA2ppCFa4g4kDamkIVriDiQNqaQhWuIOJA2ppCFa4g4kDamkIVriDiQNqaQhWuIOJA2ppCFa4g4kDamkIVriDiQNqaQhWuIOJA2ppCFa4g4kDamkIVriDiQNqaQhWuIOJA2ppCFa4g4kDamkIVriDiQK/PQ0sheOJAr89DSyF44kCvz0NLIXjiQOI+LXH7qeJA4j4tcfup4kDiPi1x+6niQOI+LXH7qeJA4j4tcfup4kDiPi1x+6niQOI+LXH7qeJA4j4tcfup4kDiPi1x+6niQOI+LXH7qeJA4j4tcfup4kArpWmexr3iQCulaZ7GveJAK6Vpnsa94kArpWmexr3iQCulaZ7GveJAK6Vpnsa94kArpWmexr3iQCulaZ7GveJAK6Vpnsa94kArpWmexr3iQCulaZ7GveJAK6Vpnsa94kArpWmexr3iQCulaZ7GveJAK6Vpnsa94kArpWmexr3iQCulaZ7GveJAK6Vpnsa94kArpWmexr3iQCulaZ7GveJAK6Vpnsa94kArpWmexr3iQCulaZ7GveJAK6Vpnsa94kArpWmexr3iQCulaZ7GveJAK6Vpnsa94kArpWmexr3iQCulaZ7GveJAK6Vpnsa94kArpWmexr3iQCulaZ7GveJAK6Vpnsa94kArpWmexr3iQCulaZ7GveJAK6Vpnsa94kArpWmexr3iQCulaZ7GveJAK6Vpnsa94kArpWmexr3iQCulaZ7GveJAK6Vpnsa94kArpWmexr3iQCulaZ7GveJAK6Vpnsa94kArpWmexr3iQCulaZ7GveJAK6Vpnsa94kArpWmexr3iQCulaZ7GveJAK6Vpnsa94kArpWmexr3iQCulaZ7GveJAK6Vpnsa94kArpWmexr3iQCulaZ7GveJAK6Vpnsa94kArpWmexr3iQCulaZ7GveJAK6Vpnsa94kArpWmexr3iQCulaZ7GveJAK6Vpnsa94kArpWmexr3iQCulaZ7GveJAK6Vpnsa94kArpWmexr3iQCulaZ7GveJAK6Vpnsa94kArpWmexr3iQCulaZ7GveJAK6Vpnsa94kArpWmexr3iQCulaZ7GveJA",
          "dtype": "f8"
         }
        },
        {
         "fill": "tonexty",
         "fillcolor": "rgba(128,177,211,0.3)",
         "legendgroup": "objective value",
         "line": {
          "color": "rgba(128,177,211,1)"
         },
         "mode": "lines",
         "name": "objective value",
         "text": [
          "Parameterization has too many items to render on hover (16).",
          "Parameterization has too many items to render on hover (16).",
          "Parameterization has too many items to render on hover (16).",
          "Parameterization has too many items to render on hover (16).",
          "Parameterization has too many items to render on hover (16).",
          "Parameterization has too many items to render on hover (16).",
          "Parameterization has too many items to render on hover (16).",
          "Parameterization has too many items to render on hover (16).",
          "Parameterization has too many items to render on hover (16).",
          "Parameterization has too many items to render on hover (16).",
          "Parameterization has too many items to render on hover (16).",
          "Parameterization has too many items to render on hover (16).",
          "Parameterization has too many items to render on hover (16).",
          "Parameterization has too many items to render on hover (16).",
          "Parameterization has too many items to render on hover (16).",
          "Parameterization has too many items to render on hover (16).",
          "Parameterization has too many items to render on hover (16).",
          "Parameterization has too many items to render on hover (16).",
          "Parameterization has too many items to render on hover (16).",
          "Parameterization has too many items to render on hover (16).",
          "Parameterization has too many items to render on hover (16).",
          "Parameterization has too many items to render on hover (16).",
          "Parameterization has too many items to render on hover (16).",
          "Parameterization has too many items to render on hover (16).",
          "Parameterization has too many items to render on hover (16).",
          "Parameterization has too many items to render on hover (16).",
          "Parameterization has too many items to render on hover (16).",
          "Parameterization has too many items to render on hover (16).",
          "Parameterization has too many items to render on hover (16).",
          "Parameterization has too many items to render on hover (16).",
          "Parameterization has too many items to render on hover (16).",
          "Parameterization has too many items to render on hover (16).",
          "Parameterization has too many items to render on hover (16).",
          "Parameterization has too many items to render on hover (16).",
          "Parameterization has too many items to render on hover (16).",
          "Parameterization has too many items to render on hover (16).",
          "Parameterization has too many items to render on hover (16).",
          "Parameterization has too many items to render on hover (16).",
          "Parameterization has too many items to render on hover (16).",
          "Parameterization has too many items to render on hover (16).",
          "Parameterization has too many items to render on hover (16).",
          "Parameterization has too many items to render on hover (16).",
          "Parameterization has too many items to render on hover (16).",
          "Parameterization has too many items to render on hover (16).",
          "Parameterization has too many items to render on hover (16).",
          "Parameterization has too many items to render on hover (16).",
          "Parameterization has too many items to render on hover (16).",
          "Parameterization has too many items to render on hover (16).",
          "Parameterization has too many items to render on hover (16).",
          "Parameterization has too many items to render on hover (16).",
          "Parameterization has too many items to render on hover (16).",
          "Parameterization has too many items to render on hover (16).",
          "Parameterization has too many items to render on hover (16).",
          "Parameterization has too many items to render on hover (16).",
          "Parameterization has too many items to render on hover (16).",
          "Parameterization has too many items to render on hover (16).",
          "Parameterization has too many items to render on hover (16).",
          "Parameterization has too many items to render on hover (16).",
          "Parameterization has too many items to render on hover (16).",
          "Parameterization has too many items to render on hover (16).",
          "Parameterization has too many items to render on hover (16).",
          "Parameterization has too many items to render on hover (16).",
          "Parameterization has too many items to render on hover (16).",
          "Parameterization has too many items to render on hover (16).",
          "Parameterization has too many items to render on hover (16).",
          "Parameterization has too many items to render on hover (16).",
          "Parameterization has too many items to render on hover (16).",
          "Parameterization has too many items to render on hover (16).",
          "Parameterization has too many items to render on hover (16).",
          "Parameterization has too many items to render on hover (16).",
          "Parameterization has too many items to render on hover (16).",
          "Parameterization has too many items to render on hover (16).",
          "Parameterization has too many items to render on hover (16).",
          "Parameterization has too many items to render on hover (16).",
          "Parameterization has too many items to render on hover (16).",
          "Parameterization has too many items to render on hover (16).",
          "Parameterization has too many items to render on hover (16).",
          "Parameterization has too many items to render on hover (16).",
          "Parameterization has too many items to render on hover (16).",
          "Parameterization has too many items to render on hover (16).",
          "Parameterization has too many items to render on hover (16).",
          "Parameterization has too many items to render on hover (16).",
          "Parameterization has too many items to render on hover (16).",
          "Parameterization has too many items to render on hover (16).",
          "Parameterization has too many items to render on hover (16).",
          "Parameterization has too many items to render on hover (16).",
          "Parameterization has too many items to render on hover (16).",
          "Parameterization has too many items to render on hover (16).",
          "Parameterization has too many items to render on hover (16).",
          "Parameterization has too many items to render on hover (16).",
          "Parameterization has too many items to render on hover (16).",
          "Parameterization has too many items to render on hover (16).",
          "Parameterization has too many items to render on hover (16).",
          "Parameterization has too many items to render on hover (16).",
          "Parameterization has too many items to render on hover (16).",
          "Parameterization has too many items to render on hover (16).",
          "Parameterization has too many items to render on hover (16).",
          "Parameterization has too many items to render on hover (16).",
          "Parameterization has too many items to render on hover (16).",
          "Parameterization has too many items to render on hover (16).",
          "Parameterization has too many items to render on hover (16).",
          "Parameterization has too many items to render on hover (16).",
          "Parameterization has too many items to render on hover (16).",
          "Parameterization has too many items to render on hover (16).",
          "Parameterization has too many items to render on hover (16).",
          "Parameterization has too many items to render on hover (16).",
          "Parameterization has too many items to render on hover (16).",
          "Parameterization has too many items to render on hover (16).",
          "Parameterization has too many items to render on hover (16).",
          "Parameterization has too many items to render on hover (16).",
          "Parameterization has too many items to render on hover (16).",
          "Parameterization has too many items to render on hover (16).",
          "Parameterization has too many items to render on hover (16).",
          "Parameterization has too many items to render on hover (16).",
          "Parameterization has too many items to render on hover (16).",
          "Parameterization has too many items to render on hover (16).",
          "Parameterization has too many items to render on hover (16).",
          "Parameterization has too many items to render on hover (16).",
          "Parameterization has too many items to render on hover (16).",
          "Parameterization has too many items to render on hover (16).",
          "Parameterization has too many items to render on hover (16).",
          "Parameterization has too many items to render on hover (16).",
          "Parameterization has too many items to render on hover (16).",
          "Parameterization has too many items to render on hover (16).",
          "Parameterization has too many items to render on hover (16).",
          "Parameterization has too many items to render on hover (16).",
          "Parameterization has too many items to render on hover (16).",
          "Parameterization has too many items to render on hover (16).",
          "Parameterization has too many items to render on hover (16).",
          "Parameterization has too many items to render on hover (16).",
          "Parameterization has too many items to render on hover (16).",
          "Parameterization has too many items to render on hover (16).",
          "Parameterization has too many items to render on hover (16).",
          "Parameterization has too many items to render on hover (16).",
          "Parameterization has too many items to render on hover (16).",
          "Parameterization has too many items to render on hover (16).",
          "Parameterization has too many items to render on hover (16).",
          "Parameterization has too many items to render on hover (16).",
          "Parameterization has too many items to render on hover (16).",
          "Parameterization has too many items to render on hover (16).",
          "Parameterization has too many items to render on hover (16).",
          "Parameterization has too many items to render on hover (16).",
          "Parameterization has too many items to render on hover (16).",
          "Parameterization has too many items to render on hover (16).",
          "Parameterization has too many items to render on hover (16).",
          "Parameterization has too many items to render on hover (16).",
          "Parameterization has too many items to render on hover (16).",
          "Parameterization has too many items to render on hover (16).",
          "Parameterization has too many items to render on hover (16).",
          "Parameterization has too many items to render on hover (16).",
          "Parameterization has too many items to render on hover (16).",
          "Parameterization has too many items to render on hover (16).",
          "Parameterization has too many items to render on hover (16).",
          "Parameterization has too many items to render on hover (16).",
          "Parameterization has too many items to render on hover (16).",
          "Parameterization has too many items to render on hover (16).",
          "Parameterization has too many items to render on hover (16).",
          "Parameterization has too many items to render on hover (16).",
          "Parameterization has too many items to render on hover (16).",
          "Parameterization has too many items to render on hover (16).",
          "Parameterization has too many items to render on hover (16).",
          "Parameterization has too many items to render on hover (16).",
          "Parameterization has too many items to render on hover (16).",
          "Parameterization has too many items to render on hover (16).",
          "Parameterization has too many items to render on hover (16).",
          "Parameterization has too many items to render on hover (16).",
          "Parameterization has too many items to render on hover (16).",
          "Parameterization has too many items to render on hover (16).",
          "Parameterization has too many items to render on hover (16).",
          "Parameterization has too many items to render on hover (16).",
          "Parameterization has too many items to render on hover (16).",
          "Parameterization has too many items to render on hover (16).",
          "Parameterization has too many items to render on hover (16).",
          "Parameterization has too many items to render on hover (16).",
          "Parameterization has too many items to render on hover (16).",
          "Parameterization has too many items to render on hover (16).",
          "Parameterization has too many items to render on hover (16).",
          "Parameterization has too many items to render on hover (16).",
          "Parameterization has too many items to render on hover (16).",
          "Parameterization has too many items to render on hover (16).",
          "Parameterization has too many items to render on hover (16).",
          "Parameterization has too many items to render on hover (16).",
          "Parameterization has too many items to render on hover (16)."
         ],
         "type": "scatter",
         "x": {
          "bdata": "AQACAAMABAAFAAYABwAIAAkACgALAAwADQAOAA8AEAARABIAEwAUABUAFgAXABgAGQAaABsAHAAdAB4AHwAgACEAIgAjACQAJQAmACcAKAApACoAKwAsAC0ALgAvADAAMQAyADMANAA1ADYANwA4ADkAOgA7ADwAPQA+AD8AQABBAEIAQwBEAEUARgBHAEgASQBKAEsATABNAE4ATwBQAFEAUgBTAFQAVQBWAFcAWABZAFoAWwBcAF0AXgBfAGAAYQBiAGMAZABlAGYAZwBoAGkAagBrAGwAbQBuAG8AcABxAHIAcwB0AHUAdgB3AHgAeQB6AHsAfAB9AH4AfwCAAIEAggCDAIQAhQCGAIcAiACJAIoAiwCMAI0AjgCPAJAAkQCSAJMAlACVAJYAlwCYAJkAmgCbAJwAnQCeAJ8AoAChAKIAowCkAKUApgCnAKgAqQCqAKsArACtAK4ArwCwALEAsgCzALQAtQC2ALcA",
          "dtype": "i2"
         },
         "y": {
          "bdata": "0eMCIGRUwUA+8tp9vAXDQGMDZbsRQc1AYwNluxFBzUBjA2W7EUHNQBNBuV5iEM5AE0G5XmIQzkATQbleYhDOQBNBuV5iEM5A4qFAU69D0UDLRQ6oyw3SQMtFDqjLDdJAy0UOqMsN0kDLRQ6oyw3SQMtFDqjLDdJAhNv+b+Nu0kCE2/5v427SQITb/m/jbtJAhNv+b+Nu0kCE2/5v427SQITb/m/jbtJAhNv+b+Nu0kCE2/5v427SQBGdHWtvD9ZAEZ0da28P1kARnR1rbw/WQBGdHWtvD9ZAEZ0da28P1kARnR1rbw/WQBGdHWtvD9ZAEZ0da28P1kARnR1rbw/WQBGdHWtvD9ZAKS6MA+862UC8gR4MbyPaQLyBHgxvI9pAvIEeDG8j2kALliM4MhnbQAuWIzgyGdtA9ONEq0Ze30D040SrRl7fQPTjRKtGXt9A9ONEq0Ze30D040SrRl7fQPTjRKtGXt9A9ONEq0Ze30D040SrRl7fQPTjRKtGXt9A9ONEq0Ze30AEjusfxazfQASO6x/FrN9ABI7rH8Ws30AEjusfxazfQASO6x/FrN9ABI7rH8Ws30AEjusfxazfQEvLqfCuzOBAS8up8K7M4EBLy6nwrszgQEvLqfCuzOBAS8up8K7M4EBLy6nwrszgQEvLqfCuzOBAS8up8K7M4EBLy6nwrszgQEvLqfCuzOBAS8up8K7M4EBLy6nwrszgQEvLqfCuzOBAS8up8K7M4ECfoBP//dbhQMYnNEUwGuJA2ppCFa4g4kDamkIVriDiQNqaQhWuIOJA2ppCFa4g4kDamkIVriDiQNqaQhWuIOJA2ppCFa4g4kDamkIVriDiQNqaQhWuIOJA2ppCFa4g4kDamkIVriDiQNqaQhWuIOJA2ppCFa4g4kDamkIVriDiQNqaQhWuIOJA2ppCFa4g4kDamkIVriDiQNqaQhWuIOJA2ppCFa4g4kDamkIVriDiQNqaQhWuIOJA2ppCFa4g4kDamkIVriDiQK/PQ0sheOJAr89DSyF44kCvz0NLIXjiQOI+LXH7qeJA4j4tcfup4kDiPi1x+6niQOI+LXH7qeJA4j4tcfup4kDiPi1x+6niQOI+LXH7qeJA4j4tcfup4kDiPi1x+6niQOI+LXH7qeJA4j4tcfup4kArpWmexr3iQCulaZ7GveJAK6Vpnsa94kArpWmexr3iQCulaZ7GveJAK6Vpnsa94kArpWmexr3iQCulaZ7GveJAK6Vpnsa94kArpWmexr3iQCulaZ7GveJAK6Vpnsa94kArpWmexr3iQCulaZ7GveJAK6Vpnsa94kArpWmexr3iQCulaZ7GveJAK6Vpnsa94kArpWmexr3iQCulaZ7GveJAK6Vpnsa94kArpWmexr3iQCulaZ7GveJAK6Vpnsa94kArpWmexr3iQCulaZ7GveJAK6Vpnsa94kArpWmexr3iQCulaZ7GveJAK6Vpnsa94kArpWmexr3iQCulaZ7GveJAK6Vpnsa94kArpWmexr3iQCulaZ7GveJAK6Vpnsa94kArpWmexr3iQCulaZ7GveJAK6Vpnsa94kArpWmexr3iQCulaZ7GveJAK6Vpnsa94kArpWmexr3iQCulaZ7GveJAK6Vpnsa94kArpWmexr3iQCulaZ7GveJAK6Vpnsa94kArpWmexr3iQCulaZ7GveJAK6Vpnsa94kArpWmexr3iQCulaZ7GveJAK6Vpnsa94kArpWmexr3iQCulaZ7GveJAK6Vpnsa94kArpWmexr3iQCulaZ7GveJAK6Vpnsa94kArpWmexr3iQCulaZ7GveJAK6Vpnsa94kArpWmexr3iQCulaZ7GveJAK6Vpnsa94kArpWmexr3iQCulaZ7GveJAK6Vpnsa94kArpWmexr3iQCulaZ7GveJAK6Vpnsa94kArpWmexr3iQCulaZ7GveJA",
          "dtype": "f8"
         }
        },
        {
         "fill": "tonexty",
         "fillcolor": "rgba(128,177,211,0.3)",
         "hoverinfo": "none",
         "legendgroup": "",
         "line": {
          "width": 0
         },
         "mode": "lines",
         "showlegend": false,
         "type": "scatter",
         "x": {
          "bdata": "AQACAAMABAAFAAYABwAIAAkACgALAAwADQAOAA8AEAARABIAEwAUABUAFgAXABgAGQAaABsAHAAdAB4AHwAgACEAIgAjACQAJQAmACcAKAApACoAKwAsAC0ALgAvADAAMQAyADMANAA1ADYANwA4ADkAOgA7ADwAPQA+AD8AQABBAEIAQwBEAEUARgBHAEgASQBKAEsATABNAE4ATwBQAFEAUgBTAFQAVQBWAFcAWABZAFoAWwBcAF0AXgBfAGAAYQBiAGMAZABlAGYAZwBoAGkAagBrAGwAbQBuAG8AcABxAHIAcwB0AHUAdgB3AHgAeQB6AHsAfAB9AH4AfwCAAIEAggCDAIQAhQCGAIcAiACJAIoAiwCMAI0AjgCPAJAAkQCSAJMAlACVAJYAlwCYAJkAmgCbAJwAnQCeAJ8AoAChAKIAowCkAKUApgCnAKgAqQCqAKsArACtAK4ArwCwALEAsgCzALQAtQC2ALcA",
          "dtype": "i2"
         },
         "y": {
          "bdata": "0eMCIGRUwUA+8tp9vAXDQGMDZbsRQc1AYwNluxFBzUBjA2W7EUHNQBNBuV5iEM5AE0G5XmIQzkATQbleYhDOQBNBuV5iEM5A4qFAU69D0UDLRQ6oyw3SQMtFDqjLDdJAy0UOqMsN0kDLRQ6oyw3SQMtFDqjLDdJAhNv+b+Nu0kCE2/5v427SQITb/m/jbtJAhNv+b+Nu0kCE2/5v427SQITb/m/jbtJAhNv+b+Nu0kCE2/5v427SQBGdHWtvD9ZAEZ0da28P1kARnR1rbw/WQBGdHWtvD9ZAEZ0da28P1kARnR1rbw/WQBGdHWtvD9ZAEZ0da28P1kARnR1rbw/WQBGdHWtvD9ZAKS6MA+862UC8gR4MbyPaQLyBHgxvI9pAvIEeDG8j2kALliM4MhnbQAuWIzgyGdtA9ONEq0Ze30D040SrRl7fQPTjRKtGXt9A9ONEq0Ze30D040SrRl7fQPTjRKtGXt9A9ONEq0Ze30D040SrRl7fQPTjRKtGXt9A9ONEq0Ze30AEjusfxazfQASO6x/FrN9ABI7rH8Ws30AEjusfxazfQASO6x/FrN9ABI7rH8Ws30AEjusfxazfQEvLqfCuzOBAS8up8K7M4EBLy6nwrszgQEvLqfCuzOBAS8up8K7M4EBLy6nwrszgQEvLqfCuzOBAS8up8K7M4EBLy6nwrszgQEvLqfCuzOBAS8up8K7M4EBLy6nwrszgQEvLqfCuzOBAS8up8K7M4ECfoBP//dbhQMYnNEUwGuJA2ppCFa4g4kDamkIVriDiQNqaQhWuIOJA2ppCFa4g4kDamkIVriDiQNqaQhWuIOJA2ppCFa4g4kDamkIVriDiQNqaQhWuIOJA2ppCFa4g4kDamkIVriDiQNqaQhWuIOJA2ppCFa4g4kDamkIVriDiQNqaQhWuIOJA2ppCFa4g4kDamkIVriDiQNqaQhWuIOJA2ppCFa4g4kDamkIVriDiQNqaQhWuIOJA2ppCFa4g4kDamkIVriDiQK/PQ0sheOJAr89DSyF44kCvz0NLIXjiQOI+LXH7qeJA4j4tcfup4kDiPi1x+6niQOI+LXH7qeJA4j4tcfup4kDiPi1x+6niQOI+LXH7qeJA4j4tcfup4kDiPi1x+6niQOI+LXH7qeJA4j4tcfup4kArpWmexr3iQCulaZ7GveJAK6Vpnsa94kArpWmexr3iQCulaZ7GveJAK6Vpnsa94kArpWmexr3iQCulaZ7GveJAK6Vpnsa94kArpWmexr3iQCulaZ7GveJAK6Vpnsa94kArpWmexr3iQCulaZ7GveJAK6Vpnsa94kArpWmexr3iQCulaZ7GveJAK6Vpnsa94kArpWmexr3iQCulaZ7GveJAK6Vpnsa94kArpWmexr3iQCulaZ7GveJAK6Vpnsa94kArpWmexr3iQCulaZ7GveJAK6Vpnsa94kArpWmexr3iQCulaZ7GveJAK6Vpnsa94kArpWmexr3iQCulaZ7GveJAK6Vpnsa94kArpWmexr3iQCulaZ7GveJAK6Vpnsa94kArpWmexr3iQCulaZ7GveJAK6Vpnsa94kArpWmexr3iQCulaZ7GveJAK6Vpnsa94kArpWmexr3iQCulaZ7GveJAK6Vpnsa94kArpWmexr3iQCulaZ7GveJAK6Vpnsa94kArpWmexr3iQCulaZ7GveJAK6Vpnsa94kArpWmexr3iQCulaZ7GveJAK6Vpnsa94kArpWmexr3iQCulaZ7GveJAK6Vpnsa94kArpWmexr3iQCulaZ7GveJAK6Vpnsa94kArpWmexr3iQCulaZ7GveJAK6Vpnsa94kArpWmexr3iQCulaZ7GveJAK6Vpnsa94kArpWmexr3iQCulaZ7GveJAK6Vpnsa94kArpWmexr3iQCulaZ7GveJAK6Vpnsa94kArpWmexr3iQCulaZ7GveJA",
          "dtype": "f8"
         }
        }
       ],
       "layout": {
        "showlegend": true,
        "template": {
         "data": {
          "bar": [
           {
            "error_x": {
             "color": "#2a3f5f"
            },
            "error_y": {
             "color": "#2a3f5f"
            },
            "marker": {
             "line": {
              "color": "#E5ECF6",
              "width": 0.5
             },
             "pattern": {
              "fillmode": "overlay",
              "size": 10,
              "solidity": 0.2
             }
            },
            "type": "bar"
           }
          ],
          "barpolar": [
           {
            "marker": {
             "line": {
              "color": "#E5ECF6",
              "width": 0.5
             },
             "pattern": {
              "fillmode": "overlay",
              "size": 10,
              "solidity": 0.2
             }
            },
            "type": "barpolar"
           }
          ],
          "carpet": [
           {
            "aaxis": {
             "endlinecolor": "#2a3f5f",
             "gridcolor": "white",
             "linecolor": "white",
             "minorgridcolor": "white",
             "startlinecolor": "#2a3f5f"
            },
            "baxis": {
             "endlinecolor": "#2a3f5f",
             "gridcolor": "white",
             "linecolor": "white",
             "minorgridcolor": "white",
             "startlinecolor": "#2a3f5f"
            },
            "type": "carpet"
           }
          ],
          "choropleth": [
           {
            "colorbar": {
             "outlinewidth": 0,
             "ticks": ""
            },
            "type": "choropleth"
           }
          ],
          "contour": [
           {
            "colorbar": {
             "outlinewidth": 0,
             "ticks": ""
            },
            "colorscale": [
             [
              0,
              "#0d0887"
             ],
             [
              0.1111111111111111,
              "#46039f"
             ],
             [
              0.2222222222222222,
              "#7201a8"
             ],
             [
              0.3333333333333333,
              "#9c179e"
             ],
             [
              0.4444444444444444,
              "#bd3786"
             ],
             [
              0.5555555555555556,
              "#d8576b"
             ],
             [
              0.6666666666666666,
              "#ed7953"
             ],
             [
              0.7777777777777778,
              "#fb9f3a"
             ],
             [
              0.8888888888888888,
              "#fdca26"
             ],
             [
              1,
              "#f0f921"
             ]
            ],
            "type": "contour"
           }
          ],
          "contourcarpet": [
           {
            "colorbar": {
             "outlinewidth": 0,
             "ticks": ""
            },
            "type": "contourcarpet"
           }
          ],
          "heatmap": [
           {
            "colorbar": {
             "outlinewidth": 0,
             "ticks": ""
            },
            "colorscale": [
             [
              0,
              "#0d0887"
             ],
             [
              0.1111111111111111,
              "#46039f"
             ],
             [
              0.2222222222222222,
              "#7201a8"
             ],
             [
              0.3333333333333333,
              "#9c179e"
             ],
             [
              0.4444444444444444,
              "#bd3786"
             ],
             [
              0.5555555555555556,
              "#d8576b"
             ],
             [
              0.6666666666666666,
              "#ed7953"
             ],
             [
              0.7777777777777778,
              "#fb9f3a"
             ],
             [
              0.8888888888888888,
              "#fdca26"
             ],
             [
              1,
              "#f0f921"
             ]
            ],
            "type": "heatmap"
           }
          ],
          "histogram": [
           {
            "marker": {
             "pattern": {
              "fillmode": "overlay",
              "size": 10,
              "solidity": 0.2
             }
            },
            "type": "histogram"
           }
          ],
          "histogram2d": [
           {
            "colorbar": {
             "outlinewidth": 0,
             "ticks": ""
            },
            "colorscale": [
             [
              0,
              "#0d0887"
             ],
             [
              0.1111111111111111,
              "#46039f"
             ],
             [
              0.2222222222222222,
              "#7201a8"
             ],
             [
              0.3333333333333333,
              "#9c179e"
             ],
             [
              0.4444444444444444,
              "#bd3786"
             ],
             [
              0.5555555555555556,
              "#d8576b"
             ],
             [
              0.6666666666666666,
              "#ed7953"
             ],
             [
              0.7777777777777778,
              "#fb9f3a"
             ],
             [
              0.8888888888888888,
              "#fdca26"
             ],
             [
              1,
              "#f0f921"
             ]
            ],
            "type": "histogram2d"
           }
          ],
          "histogram2dcontour": [
           {
            "colorbar": {
             "outlinewidth": 0,
             "ticks": ""
            },
            "colorscale": [
             [
              0,
              "#0d0887"
             ],
             [
              0.1111111111111111,
              "#46039f"
             ],
             [
              0.2222222222222222,
              "#7201a8"
             ],
             [
              0.3333333333333333,
              "#9c179e"
             ],
             [
              0.4444444444444444,
              "#bd3786"
             ],
             [
              0.5555555555555556,
              "#d8576b"
             ],
             [
              0.6666666666666666,
              "#ed7953"
             ],
             [
              0.7777777777777778,
              "#fb9f3a"
             ],
             [
              0.8888888888888888,
              "#fdca26"
             ],
             [
              1,
              "#f0f921"
             ]
            ],
            "type": "histogram2dcontour"
           }
          ],
          "mesh3d": [
           {
            "colorbar": {
             "outlinewidth": 0,
             "ticks": ""
            },
            "type": "mesh3d"
           }
          ],
          "parcoords": [
           {
            "line": {
             "colorbar": {
              "outlinewidth": 0,
              "ticks": ""
             }
            },
            "type": "parcoords"
           }
          ],
          "pie": [
           {
            "automargin": true,
            "type": "pie"
           }
          ],
          "scatter": [
           {
            "fillpattern": {
             "fillmode": "overlay",
             "size": 10,
             "solidity": 0.2
            },
            "type": "scatter"
           }
          ],
          "scatter3d": [
           {
            "line": {
             "colorbar": {
              "outlinewidth": 0,
              "ticks": ""
             }
            },
            "marker": {
             "colorbar": {
              "outlinewidth": 0,
              "ticks": ""
             }
            },
            "type": "scatter3d"
           }
          ],
          "scattercarpet": [
           {
            "marker": {
             "colorbar": {
              "outlinewidth": 0,
              "ticks": ""
             }
            },
            "type": "scattercarpet"
           }
          ],
          "scattergeo": [
           {
            "marker": {
             "colorbar": {
              "outlinewidth": 0,
              "ticks": ""
             }
            },
            "type": "scattergeo"
           }
          ],
          "scattergl": [
           {
            "marker": {
             "colorbar": {
              "outlinewidth": 0,
              "ticks": ""
             }
            },
            "type": "scattergl"
           }
          ],
          "scattermap": [
           {
            "marker": {
             "colorbar": {
              "outlinewidth": 0,
              "ticks": ""
             }
            },
            "type": "scattermap"
           }
          ],
          "scattermapbox": [
           {
            "marker": {
             "colorbar": {
              "outlinewidth": 0,
              "ticks": ""
             }
            },
            "type": "scattermapbox"
           }
          ],
          "scatterpolar": [
           {
            "marker": {
             "colorbar": {
              "outlinewidth": 0,
              "ticks": ""
             }
            },
            "type": "scatterpolar"
           }
          ],
          "scatterpolargl": [
           {
            "marker": {
             "colorbar": {
              "outlinewidth": 0,
              "ticks": ""
             }
            },
            "type": "scatterpolargl"
           }
          ],
          "scatterternary": [
           {
            "marker": {
             "colorbar": {
              "outlinewidth": 0,
              "ticks": ""
             }
            },
            "type": "scatterternary"
           }
          ],
          "surface": [
           {
            "colorbar": {
             "outlinewidth": 0,
             "ticks": ""
            },
            "colorscale": [
             [
              0,
              "#0d0887"
             ],
             [
              0.1111111111111111,
              "#46039f"
             ],
             [
              0.2222222222222222,
              "#7201a8"
             ],
             [
              0.3333333333333333,
              "#9c179e"
             ],
             [
              0.4444444444444444,
              "#bd3786"
             ],
             [
              0.5555555555555556,
              "#d8576b"
             ],
             [
              0.6666666666666666,
              "#ed7953"
             ],
             [
              0.7777777777777778,
              "#fb9f3a"
             ],
             [
              0.8888888888888888,
              "#fdca26"
             ],
             [
              1,
              "#f0f921"
             ]
            ],
            "type": "surface"
           }
          ],
          "table": [
           {
            "cells": {
             "fill": {
              "color": "#EBF0F8"
             },
             "line": {
              "color": "white"
             }
            },
            "header": {
             "fill": {
              "color": "#C8D4E3"
             },
             "line": {
              "color": "white"
             }
            },
            "type": "table"
           }
          ]
         },
         "layout": {
          "annotationdefaults": {
           "arrowcolor": "#2a3f5f",
           "arrowhead": 0,
           "arrowwidth": 1
          },
          "autotypenumbers": "strict",
          "coloraxis": {
           "colorbar": {
            "outlinewidth": 0,
            "ticks": ""
           }
          },
          "colorscale": {
           "diverging": [
            [
             0,
             "#8e0152"
            ],
            [
             0.1,
             "#c51b7d"
            ],
            [
             0.2,
             "#de77ae"
            ],
            [
             0.3,
             "#f1b6da"
            ],
            [
             0.4,
             "#fde0ef"
            ],
            [
             0.5,
             "#f7f7f7"
            ],
            [
             0.6,
             "#e6f5d0"
            ],
            [
             0.7,
             "#b8e186"
            ],
            [
             0.8,
             "#7fbc41"
            ],
            [
             0.9,
             "#4d9221"
            ],
            [
             1,
             "#276419"
            ]
           ],
           "sequential": [
            [
             0,
             "#0d0887"
            ],
            [
             0.1111111111111111,
             "#46039f"
            ],
            [
             0.2222222222222222,
             "#7201a8"
            ],
            [
             0.3333333333333333,
             "#9c179e"
            ],
            [
             0.4444444444444444,
             "#bd3786"
            ],
            [
             0.5555555555555556,
             "#d8576b"
            ],
            [
             0.6666666666666666,
             "#ed7953"
            ],
            [
             0.7777777777777778,
             "#fb9f3a"
            ],
            [
             0.8888888888888888,
             "#fdca26"
            ],
            [
             1,
             "#f0f921"
            ]
           ],
           "sequentialminus": [
            [
             0,
             "#0d0887"
            ],
            [
             0.1111111111111111,
             "#46039f"
            ],
            [
             0.2222222222222222,
             "#7201a8"
            ],
            [
             0.3333333333333333,
             "#9c179e"
            ],
            [
             0.4444444444444444,
             "#bd3786"
            ],
            [
             0.5555555555555556,
             "#d8576b"
            ],
            [
             0.6666666666666666,
             "#ed7953"
            ],
            [
             0.7777777777777778,
             "#fb9f3a"
            ],
            [
             0.8888888888888888,
             "#fdca26"
            ],
            [
             1,
             "#f0f921"
            ]
           ]
          },
          "colorway": [
           "#636efa",
           "#EF553B",
           "#00cc96",
           "#ab63fa",
           "#FFA15A",
           "#19d3f3",
           "#FF6692",
           "#B6E880",
           "#FF97FF",
           "#FECB52"
          ],
          "font": {
           "color": "#2a3f5f"
          },
          "geo": {
           "bgcolor": "white",
           "lakecolor": "white",
           "landcolor": "#E5ECF6",
           "showlakes": true,
           "showland": true,
           "subunitcolor": "white"
          },
          "hoverlabel": {
           "align": "left"
          },
          "hovermode": "closest",
          "mapbox": {
           "style": "light"
          },
          "paper_bgcolor": "white",
          "plot_bgcolor": "#E5ECF6",
          "polar": {
           "angularaxis": {
            "gridcolor": "white",
            "linecolor": "white",
            "ticks": ""
           },
           "bgcolor": "#E5ECF6",
           "radialaxis": {
            "gridcolor": "white",
            "linecolor": "white",
            "ticks": ""
           }
          },
          "scene": {
           "xaxis": {
            "backgroundcolor": "#E5ECF6",
            "gridcolor": "white",
            "gridwidth": 2,
            "linecolor": "white",
            "showbackground": true,
            "ticks": "",
            "zerolinecolor": "white"
           },
           "yaxis": {
            "backgroundcolor": "#E5ECF6",
            "gridcolor": "white",
            "gridwidth": 2,
            "linecolor": "white",
            "showbackground": true,
            "ticks": "",
            "zerolinecolor": "white"
           },
           "zaxis": {
            "backgroundcolor": "#E5ECF6",
            "gridcolor": "white",
            "gridwidth": 2,
            "linecolor": "white",
            "showbackground": true,
            "ticks": "",
            "zerolinecolor": "white"
           }
          },
          "shapedefaults": {
           "line": {
            "color": "#2a3f5f"
           }
          },
          "ternary": {
           "aaxis": {
            "gridcolor": "white",
            "linecolor": "white",
            "ticks": ""
           },
           "baxis": {
            "gridcolor": "white",
            "linecolor": "white",
            "ticks": ""
           },
           "bgcolor": "#E5ECF6",
           "caxis": {
            "gridcolor": "white",
            "linecolor": "white",
            "ticks": ""
           }
          },
          "title": {
           "x": 0.05
          },
          "xaxis": {
           "automargin": true,
           "gridcolor": "white",
           "linecolor": "white",
           "ticks": "",
           "title": {
            "standoff": 15
           },
           "zerolinecolor": "white",
           "zerolinewidth": 2
          },
          "yaxis": {
           "automargin": true,
           "gridcolor": "white",
           "linecolor": "white",
           "ticks": "",
           "title": {
            "standoff": 15
           },
           "zerolinecolor": "white",
           "zerolinewidth": 2
          }
         }
        },
        "title": {
         "text": "Best objective found vs. # of iterations"
        },
        "xaxis": {
         "title": {
          "text": "Iteration"
         }
        },
        "yaxis": {
         "title": {
          "text": "Cross_term_gear_ratio_product"
         }
        }
       }
      }
     },
     "metadata": {},
     "output_type": "display_data"
    }
   ],
   "source": [
    "render(Tag_client.get_optimization_trace())"
   ]
  },
  {
   "cell_type": "code",
   "execution_count": 24,
   "metadata": {},
   "outputs": [
    {
     "name": "stderr",
     "output_type": "stream",
     "text": [
      "[INFO 04-10 16:38:47] ax.service.ax_client: Generated new trial 133 with parameters {'z_sh': 9, 'z_sh_1': 8, 'z_sh_2': 7, 'z_sh_3': 6, 'z_r2': 75, 'z_r2_1': 74, 'z_r2_2': 73, 'z_r2_3': 72, 'x_s': 1.0, 'x_s_1': 0.9, 'x_s_2': 0.8, 'x_s_3': -1.0, 'x_r2': 1.0, 'x_r2_1': 0.653153, 'x_r2_2': 0.553153, 'x_r2_3': 0.453153} using model BoTorch.\n",
      "[INFO 04-10 16:38:47] ax.service.ax_client: Completed trial 133 with data: {'Cross_term_gear_ratio_product': (np.float64(2929.941848), None)}.\n",
      "[INFO 04-10 16:38:56] ax.service.ax_client: Generated new trial 134 with parameters {'z_sh': 10, 'z_sh_1': 9, 'z_sh_2': 7, 'z_sh_3': 6, 'z_r2': 76, 'z_r2_1': 75, 'z_r2_2': 74, 'z_r2_3': 72, 'x_s': 1.0, 'x_s_1': -0.8, 'x_s_2': -0.9, 'x_s_3': -1.0, 'x_r2': 1.0, 'x_r2_1': 0.9, 'x_r2_2': 0.8, 'x_r2_3': 0.7} using model BoTorch.\n",
      "[INFO 04-10 16:38:56] ax.service.ax_client: Completed trial 134 with data: {'Cross_term_gear_ratio_product': (np.float64(2689.129012), None)}.\n",
      "[INFO 04-10 16:39:07] ax.service.ax_client: Generated new trial 135 with parameters {'z_sh': 12, 'z_sh_1': 10, 'z_sh_2': 8, 'z_sh_3': 6, 'z_r2': 83, 'z_r2_1': 76, 'z_r2_2': 75, 'z_r2_3': 73, 'x_s': 1.0, 'x_s_1': 0.9, 'x_s_2': 0.8, 'x_s_3': -1.0, 'x_r2': 0.456819, 'x_r2_1': 0.356819, 'x_r2_2': 0.256819, 'x_r2_3': 0.156819} using model BoTorch.\n",
      "[INFO 04-10 16:39:07] ax.service.ax_client: Completed trial 135 with data: {'Cross_term_gear_ratio_product': (np.float64(1198.244937), None)}.\n",
      "[INFO 04-10 16:39:16] ax.service.ax_client: Generated new trial 136 with parameters {'z_sh': 9, 'z_sh_1': 8, 'z_sh_2': 7, 'z_sh_3': 6, 'z_r2': 74, 'z_r2_1': 73, 'z_r2_2': 72, 'z_r2_3': 71, 'x_s': 1.0, 'x_s_1': 0.9, 'x_s_2': 0.8, 'x_s_3': -1.0, 'x_r2': 1.0, 'x_r2_1': 0.9, 'x_r2_2': 0.8, 'x_r2_3': 0.7} using model BoTorch.\n",
      "[INFO 04-10 16:39:16] ax.service.ax_client: Completed trial 136 with data: {'Cross_term_gear_ratio_product': (np.float64(2597.417006), None)}.\n",
      "[INFO 04-10 16:39:26] ax.service.ax_client: Generated new trial 137 with parameters {'z_sh': 11, 'z_sh_1': 8, 'z_sh_2': 7, 'z_sh_3': 6, 'z_r2': 76, 'z_r2_1': 75, 'z_r2_2': 73, 'z_r2_3': 72, 'x_s': 1.0, 'x_s_1': 0.9, 'x_s_2': 0.8, 'x_s_3': -1.0, 'x_r2': 1.0, 'x_r2_1': 0.499405, 'x_r2_2': -0.57704, 'x_r2_3': -0.67704} using model BoTorch.\n",
      "[INFO 04-10 16:39:26] ax.service.ax_client: Completed trial 137 with data: {'Cross_term_gear_ratio_product': (np.float64(2601.762343), None)}.\n",
      "[INFO 04-10 16:39:36] ax.service.ax_client: Generated new trial 138 with parameters {'z_sh': 11, 'z_sh_1': 10, 'z_sh_2': 9, 'z_sh_3': 6, 'z_r2': 86, 'z_r2_1': 76, 'z_r2_2': 75, 'z_r2_3': 71, 'x_s': -0.7, 'x_s_1': -0.8, 'x_s_2': -0.9, 'x_s_3': -1.0, 'x_r2': 1.0, 'x_r2_1': 0.9, 'x_r2_2': 0.8, 'x_r2_3': 0.7} using model BoTorch.\n",
      "[INFO 04-10 16:39:36] ax.service.ax_client: Completed trial 138 with data: {'Cross_term_gear_ratio_product': (np.float64(1557.76227), None)}.\n",
      "[INFO 04-10 16:39:45] ax.service.ax_client: Generated new trial 139 with parameters {'z_sh': 9, 'z_sh_1': 8, 'z_sh_2': 7, 'z_sh_3': 6, 'z_r2': 76, 'z_r2_1': 74, 'z_r2_2': 73, 'z_r2_3': 72, 'x_s': 1.0, 'x_s_1': 0.9, 'x_s_2': 0.8, 'x_s_3': -1.0, 'x_r2': 0.539936, 'x_r2_1': 0.439936, 'x_r2_2': 0.339936, 'x_r2_3': 0.239936} using model BoTorch.\n",
      "[INFO 04-10 16:39:45] ax.service.ax_client: Completed trial 139 with data: {'Cross_term_gear_ratio_product': (np.float64(2519.597775), None)}.\n",
      "[INFO 04-10 16:39:55] ax.service.ax_client: Generated new trial 140 with parameters {'z_sh': 11, 'z_sh_1': 10, 'z_sh_2': 7, 'z_sh_3': 6, 'z_r2': 78, 'z_r2_1': 77, 'z_r2_2': 76, 'z_r2_3': 70, 'x_s': 1.0, 'x_s_1': 0.9, 'x_s_2': -0.9, 'x_s_3': -1.0, 'x_r2': 1.0, 'x_r2_1': 0.9, 'x_r2_2': 0.8, 'x_r2_3': 0.7} using model BoTorch.\n",
      "[INFO 04-10 16:39:55] ax.service.ax_client: Completed trial 140 with data: {'Cross_term_gear_ratio_product': (np.float64(1784.864602), None)}.\n",
      "[INFO 04-10 16:40:05] ax.service.ax_client: Generated new trial 141 with parameters {'z_sh': 9, 'z_sh_1': 8, 'z_sh_2': 7, 'z_sh_3': 6, 'z_r2': 74, 'z_r2_1': 73, 'z_r2_2': 72, 'z_r2_3': 71, 'x_s': 1.0, 'x_s_1': 0.9, 'x_s_2': 0.321551, 'x_s_3': -1.0, 'x_r2': 1.0, 'x_r2_1': 0.9, 'x_r2_2': 0.8, 'x_r2_3': -1.0} using model BoTorch.\n",
      "[INFO 04-10 16:40:05] ax.service.ax_client: Completed trial 141 with data: {'Cross_term_gear_ratio_product': (np.float64(2496.163869), None)}.\n",
      "[INFO 04-10 16:40:14] ax.service.ax_client: Generated new trial 142 with parameters {'z_sh': 11, 'z_sh_1': 10, 'z_sh_2': 7, 'z_sh_3': 6, 'z_r2': 75, 'z_r2_1': 74, 'z_r2_2': 73, 'z_r2_3': 72, 'x_s': 1.0, 'x_s_1': 0.9, 'x_s_2': 0.8, 'x_s_3': 0.7, 'x_r2': 1.0, 'x_r2_1': 0.9, 'x_r2_2': 0.8, 'x_r2_3': 0.7} using model BoTorch.\n",
      "[INFO 04-10 16:40:15] ax.service.ax_client: Completed trial 142 with data: {'Cross_term_gear_ratio_product': (np.float64(2702.008479), None)}.\n",
      "[INFO 04-10 16:40:25] ax.service.ax_client: Generated new trial 143 with parameters {'z_sh': 12, 'z_sh_1': 11, 'z_sh_2': 7, 'z_sh_3': 6, 'z_r2': 77, 'z_r2_1': 76, 'z_r2_2': 75, 'z_r2_3': 74, 'x_s': 1.0, 'x_s_1': 0.9, 'x_s_2': 0.8, 'x_s_3': 0.7, 'x_r2': 1.0, 'x_r2_1': 0.9, 'x_r2_2': -0.9, 'x_r2_3': -1.0} using model BoTorch.\n",
      "[INFO 04-10 16:40:25] ax.service.ax_client: Completed trial 143 with data: {'Cross_term_gear_ratio_product': (np.float64(1789.387452), None)}.\n",
      "[INFO 04-10 16:40:35] ax.service.ax_client: Generated new trial 144 with parameters {'z_sh': 10, 'z_sh_1': 9, 'z_sh_2': 8, 'z_sh_3': 6, 'z_r2': 80, 'z_r2_1': 79, 'z_r2_2': 78, 'z_r2_3': 76, 'x_s': 1.0, 'x_s_1': -0.8, 'x_s_2': -0.9, 'x_s_3': -1.0, 'x_r2': -0.7, 'x_r2_1': -0.8, 'x_r2_2': -0.9, 'x_r2_3': -1.0} using model BoTorch.\n",
      "[INFO 04-10 16:40:35] ax.service.ax_client: Completed trial 144 with data: {'Cross_term_gear_ratio_product': (np.float64(1768.063298), None)}.\n",
      "[INFO 04-10 16:40:45] ax.service.ax_client: Generated new trial 145 with parameters {'z_sh': 9, 'z_sh_1': 8, 'z_sh_2': 7, 'z_sh_3': 6, 'z_r2': 75, 'z_r2_1': 74, 'z_r2_2': 73, 'z_r2_3': 72, 'x_s': 1.0, 'x_s_1': 0.9, 'x_s_2': 0.8, 'x_s_3': 0.269, 'x_r2': 1.0, 'x_r2_1': 0.405183, 'x_r2_2': 0.305183, 'x_r2_3': 0.107366} using model BoTorch.\n",
      "[INFO 04-10 16:40:45] ax.service.ax_client: Completed trial 145 with data: {'Cross_term_gear_ratio_product': (np.float64(2894.198824), None)}.\n",
      "[INFO 04-10 16:40:56] ax.service.ax_client: Generated new trial 146 with parameters {'z_sh': 9, 'z_sh_1': 8, 'z_sh_2': 7, 'z_sh_3': 6, 'z_r2': 76, 'z_r2_1': 75, 'z_r2_2': 74, 'z_r2_3': 73, 'x_s': 1.0, 'x_s_1': 0.9, 'x_s_2': 0.8, 'x_s_3': -1.0, 'x_r2': 0.579397, 'x_r2_1': 0.479397, 'x_r2_2': 0.379397, 'x_r2_3': 0.279397} using model BoTorch.\n",
      "[INFO 04-10 16:40:56] ax.service.ax_client: Completed trial 146 with data: {'Cross_term_gear_ratio_product': (np.float64(2705.876932), None)}.\n",
      "[INFO 04-10 16:41:08] ax.service.ax_client: Generated new trial 147 with parameters {'z_sh': 9, 'z_sh_1': 8, 'z_sh_2': 7, 'z_sh_3': 6, 'z_r2': 75, 'z_r2_1': 74, 'z_r2_2': 73, 'z_r2_3': 72, 'x_s': 0.999962, 'x_s_1': 0.842373, 'x_s_2': 0.723222, 'x_s_3': -1.0, 'x_r2': 0.71796, 'x_r2_1': -0.8, 'x_r2_2': -0.9, 'x_r2_3': -1.0} using model BoTorch.\n",
      "[INFO 04-10 16:41:08] ax.service.ax_client: Completed trial 147 with data: {'Cross_term_gear_ratio_product': (np.float64(2897.35544), None)}.\n",
      "[INFO 04-10 16:41:18] ax.service.ax_client: Generated new trial 148 with parameters {'z_sh': 9, 'z_sh_1': 8, 'z_sh_2': 7, 'z_sh_3': 6, 'z_r2': 73, 'z_r2_1': 72, 'z_r2_2': 71, 'z_r2_3': 70, 'x_s': 1.0, 'x_s_1': 0.9, 'x_s_2': 0.8, 'x_s_3': -0.05566, 'x_r2': 1.0, 'x_r2_1': 0.9, 'x_r2_2': 0.8, 'x_r2_3': 0.243507} using model BoTorch.\n",
      "[INFO 04-10 16:41:18] ax.service.ax_client: Completed trial 148 with data: {'Cross_term_gear_ratio_product': (np.float64(2210.50341), None)}.\n",
      "[INFO 04-10 16:41:30] ax.service.ax_client: Generated new trial 149 with parameters {'z_sh': 10, 'z_sh_1': 9, 'z_sh_2': 8, 'z_sh_3': 6, 'z_r2': 78, 'z_r2_1': 77, 'z_r2_2': 76, 'z_r2_3': 74, 'x_s': 1.0, 'x_s_1': 0.9, 'x_s_2': 0.8, 'x_s_3': -0.449626, 'x_r2': 0.074445, 'x_r2_1': -0.025555, 'x_r2_2': -0.125555, 'x_r2_3': -0.225555} using model BoTorch.\n",
      "[INFO 04-10 16:41:30] ax.service.ax_client: Completed trial 149 with data: {'Cross_term_gear_ratio_product': (np.float64(1873.791424), None)}.\n",
      "[INFO 04-10 16:41:43] ax.service.ax_client: Generated new trial 150 with parameters {'z_sh': 11, 'z_sh_1': 10, 'z_sh_2': 9, 'z_sh_3': 7, 'z_r2': 78, 'z_r2_1': 75, 'z_r2_2': 74, 'z_r2_3': 72, 'x_s': 1.0, 'x_s_1': 0.9, 'x_s_2': 0.8, 'x_s_3': -0.521521, 'x_r2': 0.631638, 'x_r2_1': 0.531638, 'x_r2_2': 0.431638, 'x_r2_3': 0.331638} using model BoTorch.\n",
      "[INFO 04-10 16:41:43] ax.service.ax_client: Completed trial 150 with data: {'Cross_term_gear_ratio_product': (np.float64(2034.637227), None)}.\n",
      "[INFO 04-10 16:41:54] ax.service.ax_client: Generated new trial 151 with parameters {'z_sh': 10, 'z_sh_1': 9, 'z_sh_2': 8, 'z_sh_3': 7, 'z_r2': 80, 'z_r2_1': 79, 'z_r2_2': 78, 'z_r2_3': 73, 'x_s': 1.0, 'x_s_1': 0.9, 'x_s_2': 0.8, 'x_s_3': -1.0, 'x_r2': 0.039391, 'x_r2_1': -0.8, 'x_r2_2': -0.9, 'x_r2_3': -1.0} using model BoTorch.\n",
      "[INFO 04-10 16:41:54] ax.service.ax_client: Completed trial 151 with data: {'Cross_term_gear_ratio_product': (np.float64(652.394379), None)}.\n",
      "[INFO 04-10 16:42:06] ax.service.ax_client: Generated new trial 152 with parameters {'z_sh': 11, 'z_sh_1': 8, 'z_sh_2': 7, 'z_sh_3': 6, 'z_r2': 79, 'z_r2_1': 77, 'z_r2_2': 76, 'z_r2_3': 74, 'x_s': 0.981721, 'x_s_1': 0.849889, 'x_s_2': 0.644502, 'x_s_3': 0.461248, 'x_r2': 0.331406, 'x_r2_1': 0.231406, 'x_r2_2': 0.131406, 'x_r2_3': 0.031406} using model BoTorch.\n",
      "[INFO 04-10 16:42:06] ax.service.ax_client: Completed trial 152 with data: {'Cross_term_gear_ratio_product': (np.float64(1009.426597), None)}.\n",
      "[INFO 04-10 16:42:18] ax.service.ax_client: Generated new trial 153 with parameters {'z_sh': 12, 'z_sh_1': 8, 'z_sh_2': 7, 'z_sh_3': 6, 'z_r2': 78, 'z_r2_1': 76, 'z_r2_2': 74, 'z_r2_3': 71, 'x_s': 0.425275, 'x_s_1': 0.325275, 'x_s_2': 0.225275, 'x_s_3': -1.0, 'x_r2': 0.137946, 'x_r2_1': 0.037946, 'x_r2_2': -0.062054, 'x_r2_3': -1.0} using model BoTorch.\n",
      "[INFO 04-10 16:42:18] ax.service.ax_client: Completed trial 153 with data: {'Cross_term_gear_ratio_product': (np.float64(2948.220576), None)}.\n",
      "[INFO 04-10 16:42:30] ax.service.ax_client: Generated new trial 154 with parameters {'z_sh': 10, 'z_sh_1': 8, 'z_sh_2': 7, 'z_sh_3': 6, 'z_r2': 86, 'z_r2_1': 72, 'z_r2_2': 71, 'z_r2_3': 70, 'x_s': 1.0, 'x_s_1': 0.726841, 'x_s_2': 0.626841, 'x_s_3': -0.638436, 'x_r2': 0.288649, 'x_r2_1': 0.188649, 'x_r2_2': 0.014618, 'x_r2_3': -0.17804} using model BoTorch.\n",
      "[INFO 04-10 16:42:30] ax.service.ax_client: Completed trial 154 with data: {'Cross_term_gear_ratio_product': (np.float64(1007.623433), None)}.\n",
      "[INFO 04-10 16:42:41] ax.service.ax_client: Generated new trial 155 with parameters {'z_sh': 9, 'z_sh_1': 8, 'z_sh_2': 7, 'z_sh_3': 6, 'z_r2': 85, 'z_r2_1': 84, 'z_r2_2': 80, 'z_r2_3': 71, 'x_s': 0.685083, 'x_s_1': 0.55931, 'x_s_2': 0.45931, 'x_s_3': 0.145953, 'x_r2': -0.388535, 'x_r2_1': -0.488535, 'x_r2_2': -0.588535, 'x_r2_3': -0.688535} using model BoTorch.\n",
      "[INFO 04-10 16:42:41] ax.service.ax_client: Completed trial 155 with data: {'Cross_term_gear_ratio_product': (np.float64(175.10445), None)}.\n",
      "[INFO 04-10 16:42:53] ax.service.ax_client: Generated new trial 156 with parameters {'z_sh': 9, 'z_sh_1': 8, 'z_sh_2': 7, 'z_sh_3': 6, 'z_r2': 75, 'z_r2_1': 74, 'z_r2_2': 73, 'z_r2_3': 72, 'x_s': 1.0, 'x_s_1': 0.9, 'x_s_2': 0.8, 'x_s_3': -0.710472, 'x_r2': 1.0, 'x_r2_1': 0.652819, 'x_r2_2': 0.313755, 'x_r2_3': 0.213755} using model BoTorch.\n",
      "[INFO 04-10 16:42:53] ax.service.ax_client: Completed trial 156 with data: {'Cross_term_gear_ratio_product': (np.float64(2782.050135), None)}.\n",
      "[INFO 04-10 16:43:08] ax.service.ax_client: Generated new trial 157 with parameters {'z_sh': 9, 'z_sh_1': 8, 'z_sh_2': 7, 'z_sh_3': 6, 'z_r2': 83, 'z_r2_1': 76, 'z_r2_2': 75, 'z_r2_3': 74, 'x_s': 1.0, 'x_s_1': 0.9, 'x_s_2': 0.8, 'x_s_3': 0.7, 'x_r2': 0.004956, 'x_r2_1': -0.103518, 'x_r2_2': -0.288536, 'x_r2_3': -0.955525} using model BoTorch.\n",
      "[INFO 04-10 16:43:08] ax.service.ax_client: Completed trial 157 with data: {'Cross_term_gear_ratio_product': (np.float64(1012.661971), None)}.\n",
      "[INFO 04-10 16:43:24] ax.service.ax_client: Generated new trial 158 with parameters {'z_sh': 9, 'z_sh_1': 8, 'z_sh_2': 7, 'z_sh_3': 6, 'z_r2': 76, 'z_r2_1': 75, 'z_r2_2': 74, 'z_r2_3': 71, 'x_s': 0.990968, 'x_s_1': 0.889757, 'x_s_2': 0.788256, 'x_s_3': -0.416963, 'x_r2': 0.421973, 'x_r2_1': 0.321973, 'x_r2_2': 0.221973, 'x_r2_3': 0.121961} using model BoTorch.\n",
      "[INFO 04-10 16:43:24] ax.service.ax_client: Completed trial 158 with data: {'Cross_term_gear_ratio_product': (np.float64(2745.36058), None)}.\n",
      "[INFO 04-10 16:43:36] ax.service.ax_client: Generated new trial 159 with parameters {'z_sh': 12, 'z_sh_1': 11, 'z_sh_2': 8, 'z_sh_3': 7, 'z_r2': 81, 'z_r2_1': 76, 'z_r2_2': 72, 'z_r2_3': 70, 'x_s': 1.0, 'x_s_1': 0.9, 'x_s_2': 0.8, 'x_s_3': 0.7, 'x_r2': 0.644527, 'x_r2_1': -0.213941, 'x_r2_2': -0.373806, 'x_r2_3': -0.996942} using model BoTorch.\n",
      "[INFO 04-10 16:43:36] ax.service.ax_client: Completed trial 159 with data: {'Cross_term_gear_ratio_product': (np.float64(1022.114147), None)}.\n",
      "[INFO 04-10 16:43:49] ax.service.ax_client: Generated new trial 160 with parameters {'z_sh': 10, 'z_sh_1': 9, 'z_sh_2': 8, 'z_sh_3': 7, 'z_r2': 77, 'z_r2_1': 76, 'z_r2_2': 72, 'z_r2_3': 70, 'x_s': 0.996455, 'x_s_1': 0.896455, 'x_s_2': 0.796455, 'x_s_3': 0.511816, 'x_r2': 0.188676, 'x_r2_1': 0.088676, 'x_r2_2': -0.011324, 'x_r2_3': -0.111324} using model BoTorch.\n",
      "[INFO 04-10 16:43:49] ax.service.ax_client: Completed trial 160 with data: {'Cross_term_gear_ratio_product': (np.float64(2142.169936), None)}.\n",
      "[INFO 04-10 16:44:16] ax.service.ax_client: Generated new trial 161 with parameters {'z_sh': 10, 'z_sh_1': 9, 'z_sh_2': 8, 'z_sh_3': 6, 'z_r2': 76, 'z_r2_1': 75, 'z_r2_2': 74, 'z_r2_3': 73, 'x_s': 0.901628, 'x_s_1': 0.7638, 'x_s_2': 0.618459, 'x_s_3': -0.662149, 'x_r2': 0.173287, 'x_r2_1': 0.073287, 'x_r2_2': -0.054391, 'x_r2_3': -0.190317} using model BoTorch.\n",
      "[INFO 04-10 16:44:16] ax.service.ax_client: Completed trial 161 with data: {'Cross_term_gear_ratio_product': (np.float64(2103.997336), None)}.\n",
      "[INFO 04-10 16:44:34] ax.service.ax_client: Generated new trial 162 with parameters {'z_sh': 11, 'z_sh_1': 10, 'z_sh_2': 7, 'z_sh_3': 6, 'z_r2': 77, 'z_r2_1': 76, 'z_r2_2': 74, 'z_r2_3': 73, 'x_s': 1.0, 'x_s_1': 0.9, 'x_s_2': 0.8, 'x_s_3': -0.835015, 'x_r2': 0.763352, 'x_r2_1': 0.309268, 'x_r2_2': 0.209268, 'x_r2_3': -0.036393} using model BoTorch.\n",
      "[INFO 04-10 16:44:34] ax.service.ax_client: Completed trial 162 with data: {'Cross_term_gear_ratio_product': (np.float64(2046.692694), None)}.\n",
      "[INFO 04-10 16:44:51] ax.service.ax_client: Generated new trial 163 with parameters {'z_sh': 11, 'z_sh_1': 9, 'z_sh_2': 7, 'z_sh_3': 6, 'z_r2': 74, 'z_r2_1': 73, 'z_r2_2': 72, 'z_r2_3': 71, 'x_s': 0.900647, 'x_s_1': 0.130775, 'x_s_2': -0.454946, 'x_s_3': -0.640862, 'x_r2': 0.541005, 'x_r2_1': 0.282176, 'x_r2_2': 0.110982, 'x_r2_3': -0.455904} using model BoTorch.\n",
      "[INFO 04-10 16:44:51] ax.service.ax_client: Completed trial 163 with data: {'Cross_term_gear_ratio_product': (np.float64(2274.204042), None)}.\n",
      "[INFO 04-10 16:45:15] ax.service.ax_client: Generated new trial 164 with parameters {'z_sh': 11, 'z_sh_1': 9, 'z_sh_2': 7, 'z_sh_3': 6, 'z_r2': 79, 'z_r2_1': 78, 'z_r2_2': 76, 'z_r2_3': 73, 'x_s': 0.777431, 'x_s_1': 0.677431, 'x_s_2': 0.571117, 'x_s_3': 0.016523, 'x_r2': -0.133975, 'x_r2_1': -0.233975, 'x_r2_2': -0.333975, 'x_r2_3': -0.450932} using model BoTorch.\n",
      "[INFO 04-10 16:45:15] ax.service.ax_client: Completed trial 164 with data: {'Cross_term_gear_ratio_product': (np.float64(1224.047408), None)}.\n",
      "[INFO 04-10 16:45:36] ax.service.ax_client: Generated new trial 165 with parameters {'z_sh': 10, 'z_sh_1': 9, 'z_sh_2': 8, 'z_sh_3': 6, 'z_r2': 79, 'z_r2_1': 76, 'z_r2_2': 74, 'z_r2_3': 72, 'x_s': 0.492146, 'x_s_1': 0.275613, 'x_s_2': 0.097354, 'x_s_3': -0.532552, 'x_r2': 0.175366, 'x_r2_1': 0.043613, 'x_r2_2': -0.258521, 'x_r2_3': -0.5067} using model BoTorch.\n",
      "[INFO 04-10 16:45:36] ax.service.ax_client: Completed trial 165 with data: {'Cross_term_gear_ratio_product': (np.float64(3159.603593), None)}.\n",
      "[INFO 04-10 16:45:58] ax.service.ax_client: Generated new trial 166 with parameters {'z_sh': 12, 'z_sh_1': 10, 'z_sh_2': 9, 'z_sh_3': 6, 'z_r2': 74, 'z_r2_1': 73, 'z_r2_2': 72, 'z_r2_3': 71, 'x_s': 0.489577, 'x_s_1': 0.195382, 'x_s_2': 0.05745, 'x_s_3': -0.540103, 'x_r2': 0.147665, 'x_r2_1': 0.04369, 'x_r2_2': -0.280761, 'x_r2_3': -0.531458} using model BoTorch.\n",
      "[INFO 04-10 16:45:58] ax.service.ax_client: Completed trial 166 with data: {'Cross_term_gear_ratio_product': (np.float64(2212.791615), None)}.\n",
      "[INFO 04-10 16:46:14] ax.service.ax_client: Generated new trial 167 with parameters {'z_sh': 11, 'z_sh_1': 9, 'z_sh_2': 8, 'z_sh_3': 6, 'z_r2': 85, 'z_r2_1': 81, 'z_r2_2': 79, 'z_r2_3': 78, 'x_s': 0.945543, 'x_s_1': 0.845543, 'x_s_2': 0.745422, 'x_s_3': 0.583046, 'x_r2': 0.066649, 'x_r2_1': -0.343538, 'x_r2_2': -0.443538, 'x_r2_3': -0.918352} using model BoTorch.\n",
      "[INFO 04-10 16:46:14] ax.service.ax_client: Completed trial 167 with data: {'Cross_term_gear_ratio_product': (np.float64(6.097984), None)}.\n",
      "[INFO 04-10 16:46:37] ax.service.ax_client: Generated new trial 168 with parameters {'z_sh': 11, 'z_sh_1': 8, 'z_sh_2': 7, 'z_sh_3': 6, 'z_r2': 85, 'z_r2_1': 73, 'z_r2_2': 72, 'z_r2_3': 70, 'x_s': 1.0, 'x_s_1': -0.614265, 'x_s_2': -0.714265, 'x_s_3': -0.814265, 'x_r2': 0.552347, 'x_r2_1': 0.452347, 'x_r2_2': 0.352347, 'x_r2_3': -0.994998} using model BoTorch.\n",
      "[INFO 04-10 16:46:37] ax.service.ax_client: Completed trial 168 with data: {'Cross_term_gear_ratio_product': (np.float64(1220.804781), None)}.\n",
      "[INFO 04-10 16:47:02] ax.service.ax_client: Generated new trial 169 with parameters {'z_sh': 12, 'z_sh_1': 11, 'z_sh_2': 10, 'z_sh_3': 6, 'z_r2': 78, 'z_r2_1': 76, 'z_r2_2': 75, 'z_r2_3': 74, 'x_s': 0.478904, 'x_s_1': 0.030936, 'x_s_2': -0.069064, 'x_s_3': -0.563231, 'x_r2': 0.064165, 'x_r2_1': -0.035835, 'x_r2_2': -0.375772, 'x_r2_3': -0.566264} using model BoTorch.\n",
      "[INFO 04-10 16:47:02] ax.service.ax_client: Completed trial 169 with data: {'Cross_term_gear_ratio_product': (np.float64(2438.834046), None)}.\n",
      "[INFO 04-10 16:47:21] ax.service.ax_client: Generated new trial 170 with parameters {'z_sh': 12, 'z_sh_1': 9, 'z_sh_2': 8, 'z_sh_3': 6, 'z_r2': 85, 'z_r2_1': 77, 'z_r2_2': 75, 'z_r2_3': 73, 'x_s': 0.734662, 'x_s_1': 0.345384, 'x_s_2': 0.164252, 'x_s_3': -0.681392, 'x_r2': 0.281235, 'x_r2_1': 0.181235, 'x_r2_2': -0.082343, 'x_r2_3': -0.450496} using model BoTorch.\n",
      "[INFO 04-10 16:47:21] ax.service.ax_client: Completed trial 170 with data: {'Cross_term_gear_ratio_product': (np.float64(2093.465203), None)}.\n",
      "[INFO 04-10 16:47:40] ax.service.ax_client: Generated new trial 171 with parameters {'z_sh': 12, 'z_sh_1': 11, 'z_sh_2': 10, 'z_sh_3': 6, 'z_r2': 86, 'z_r2_1': 79, 'z_r2_2': 77, 'z_r2_3': 74, 'x_s': 1.0, 'x_s_1': 0.9, 'x_s_2': 0.8, 'x_s_3': 0.7, 'x_r2': 0.755701, 'x_r2_1': 0.655701, 'x_r2_2': -0.1456, 'x_r2_3': -0.2456} using model BoTorch.\n",
      "[INFO 04-10 16:47:40] ax.service.ax_client: Completed trial 171 with data: {'Cross_term_gear_ratio_product': (np.float64(215.244727), None)}.\n",
      "[INFO 04-10 16:47:59] ax.service.ax_client: Generated new trial 172 with parameters {'z_sh': 12, 'z_sh_1': 10, 'z_sh_2': 9, 'z_sh_3': 8, 'z_r2': 83, 'z_r2_1': 78, 'z_r2_2': 72, 'z_r2_3': 71, 'x_s': 1.0, 'x_s_1': 0.861861, 'x_s_2': 0.276927, 'x_s_3': -0.480609, 'x_r2': 0.188684, 'x_r2_1': -0.355393, 'x_r2_2': -0.634257, 'x_r2_3': -0.951442} using model BoTorch.\n",
      "[INFO 04-10 16:47:59] ax.service.ax_client: Completed trial 172 with data: {'Cross_term_gear_ratio_product': (np.float64(848.120958), None)}.\n",
      "[INFO 04-10 16:48:16] ax.service.ax_client: Generated new trial 173 with parameters {'z_sh': 9, 'z_sh_1': 8, 'z_sh_2': 7, 'z_sh_3': 6, 'z_r2': 76, 'z_r2_1': 75, 'z_r2_2': 74, 'z_r2_3': 73, 'x_s': 1.0, 'x_s_1': 0.9, 'x_s_2': -0.599021, 'x_s_3': -0.699021, 'x_r2': 0.638016, 'x_r2_1': 0.538016, 'x_r2_2': 0.438016, 'x_r2_3': -0.356584} using model BoTorch.\n",
      "[INFO 04-10 16:48:16] ax.service.ax_client: Completed trial 173 with data: {'Cross_term_gear_ratio_product': (np.float64(2543.173514), None)}.\n",
      "[INFO 04-10 16:48:36] ax.service.ax_client: Generated new trial 174 with parameters {'z_sh': 12, 'z_sh_1': 10, 'z_sh_2': 8, 'z_sh_3': 7, 'z_r2': 77, 'z_r2_1': 76, 'z_r2_2': 73, 'z_r2_3': 72, 'x_s': 1.0, 'x_s_1': 0.9, 'x_s_2': 0.8, 'x_s_3': -0.290093, 'x_r2': 0.559463, 'x_r2_1': 0.458832, 'x_r2_2': 0.358832, 'x_r2_3': 0.258827} using model BoTorch.\n",
      "[INFO 04-10 16:48:36] ax.service.ax_client: Completed trial 174 with data: {'Cross_term_gear_ratio_product': (np.float64(2201.528812), None)}.\n",
      "[INFO 04-10 16:48:58] ax.service.ax_client: Generated new trial 175 with parameters {'z_sh': 12, 'z_sh_1': 11, 'z_sh_2': 7, 'z_sh_3': 6, 'z_r2': 79, 'z_r2_1': 77, 'z_r2_2': 76, 'z_r2_3': 74, 'x_s': 0.999713, 'x_s_1': 0.899538, 'x_s_2': 0.799531, 'x_s_3': -1.0, 'x_r2': 0.487044, 'x_r2_1': 0.387044, 'x_r2_2': 0.287044, 'x_r2_3': -0.696299} using model BoTorch.\n",
      "[INFO 04-10 16:48:58] ax.service.ax_client: Completed trial 175 with data: {'Cross_term_gear_ratio_product': (np.float64(1118.950117), None)}.\n",
      "[INFO 04-10 16:49:10] ax.service.ax_client: Generated new trial 176 with parameters {'z_sh': 12, 'z_sh_1': 11, 'z_sh_2': 10, 'z_sh_3': 6, 'z_r2': 86, 'z_r2_1': 74, 'z_r2_2': 71, 'z_r2_3': 70, 'x_s': 0.180657, 'x_s_1': 0.080657, 'x_s_2': -0.019343, 'x_s_3': -0.119343, 'x_r2': -0.7, 'x_r2_1': -0.8, 'x_r2_2': -0.9, 'x_r2_3': -1.0} using model BoTorch.\n",
      "[INFO 04-10 16:49:10] ax.service.ax_client: Completed trial 176 with data: {'Cross_term_gear_ratio_product': (np.float64(897.576251), None)}.\n",
      "[INFO 04-10 16:49:23] ax.service.ax_client: Generated new trial 177 with parameters {'z_sh': 12, 'z_sh_1': 8, 'z_sh_2': 7, 'z_sh_3': 6, 'z_r2': 84, 'z_r2_1': 83, 'z_r2_2': 82, 'z_r2_3': 70, 'x_s': 1.0, 'x_s_1': 0.9, 'x_s_2': 0.8, 'x_s_3': -1.0, 'x_r2': 1.0, 'x_r2_1': 0.9, 'x_r2_2': 0.8, 'x_r2_3': 0.7} using model BoTorch.\n",
      "[INFO 04-10 16:49:23] ax.service.ax_client: Completed trial 177 with data: {'Cross_term_gear_ratio_product': (np.float64(211.666189), None)}.\n",
      "[INFO 04-10 16:49:34] ax.service.ax_client: Generated new trial 178 with parameters {'z_sh': 9, 'z_sh_1': 8, 'z_sh_2': 7, 'z_sh_3': 6, 'z_r2': 75, 'z_r2_1': 74, 'z_r2_2': 73, 'z_r2_3': 72, 'x_s': 1.0, 'x_s_1': 0.9, 'x_s_2': 0.8, 'x_s_3': 0.7, 'x_r2': -0.7, 'x_r2_1': -0.8, 'x_r2_2': -0.9, 'x_r2_3': -1.0} using model BoTorch.\n",
      "[INFO 04-10 16:49:34] ax.service.ax_client: Completed trial 178 with data: {'Cross_term_gear_ratio_product': (np.float64(3024.019963), None)}.\n",
      "[INFO 04-10 16:49:56] ax.service.ax_client: Generated new trial 179 with parameters {'z_sh': 12, 'z_sh_1': 9, 'z_sh_2': 8, 'z_sh_3': 6, 'z_r2': 85, 'z_r2_1': 84, 'z_r2_2': 71, 'z_r2_3': 70, 'x_s': 0.893538, 'x_s_1': 0.793538, 'x_s_2': 0.185574, 'x_s_3': -0.27641, 'x_r2': 0.075401, 'x_r2_1': -0.024599, 'x_r2_2': -0.130565, 'x_r2_3': -0.819491} using model BoTorch.\n",
      "[INFO 04-10 16:49:56] ax.service.ax_client: Completed trial 179 with data: {'Cross_term_gear_ratio_product': (np.float64(252.087593), None)}.\n",
      "[INFO 04-10 16:50:20] ax.service.ax_client: Generated new trial 180 with parameters {'z_sh': 11, 'z_sh_1': 9, 'z_sh_2': 8, 'z_sh_3': 6, 'z_r2': 78, 'z_r2_1': 76, 'z_r2_2': 73, 'z_r2_3': 71, 'x_s': 1.0, 'x_s_1': 0.9, 'x_s_2': 0.8, 'x_s_3': -1.0, 'x_r2': 0.230591, 'x_r2_1': 0.130591, 'x_r2_2': 0.030591, 'x_r2_3': -0.122984} using model BoTorch.\n",
      "[INFO 04-10 16:50:20] ax.service.ax_client: Completed trial 180 with data: {'Cross_term_gear_ratio_product': (np.float64(1760.591078), None)}.\n",
      "[INFO 04-10 16:50:42] ax.service.ax_client: Generated new trial 181 with parameters {'z_sh': 12, 'z_sh_1': 11, 'z_sh_2': 9, 'z_sh_3': 6, 'z_r2': 80, 'z_r2_1': 77, 'z_r2_2': 76, 'z_r2_3': 72, 'x_s': 0.460308, 'x_s_1': 0.199778, 'x_s_2': 0.037836, 'x_s_3': -0.545302, 'x_r2': 0.135693, 'x_r2_1': 0.035693, 'x_r2_2': -0.239569, 'x_r2_3': -0.46714} using model BoTorch.\n",
      "[INFO 04-10 16:50:42] ax.service.ax_client: Completed trial 181 with data: {'Cross_term_gear_ratio_product': (np.float64(2844.207792), None)}.\n",
      "[INFO 04-10 16:51:02] ax.service.ax_client: Generated new trial 182 with parameters {'z_sh': 11, 'z_sh_1': 9, 'z_sh_2': 7, 'z_sh_3': 6, 'z_r2': 77, 'z_r2_1': 75, 'z_r2_2': 73, 'z_r2_3': 72, 'x_s': 1.0, 'x_s_1': 0.9, 'x_s_2': 0.8, 'x_s_3': 0.7, 'x_r2': 0.039051, 'x_r2_1': -0.060949, 'x_r2_2': -0.160949, 'x_r2_3': -0.260949} using model BoTorch.\n",
      "[INFO 04-10 16:51:02] ax.service.ax_client: Completed trial 182 with data: {'Cross_term_gear_ratio_product': (np.float64(2305.804634), None)}.\n"
     ]
    },
    {
     "ename": "KeyboardInterrupt",
     "evalue": "",
     "output_type": "error",
     "traceback": [
      "\u001b[0;31m---------------------------------------------------------------------------\u001b[0m",
      "\u001b[0;31mKeyboardInterrupt\u001b[0m                         Traceback (most recent call last)",
      "Cell \u001b[0;32mIn[24], line 2\u001b[0m\n\u001b[1;32m      1\u001b[0m \u001b[38;5;28;01mfor\u001b[39;00m i \u001b[38;5;129;01min\u001b[39;00m \u001b[38;5;28mrange\u001b[39m(\u001b[38;5;241m100\u001b[39m):\n\u001b[0;32m----> 2\u001b[0m     parameterization, trial_index \u001b[38;5;241m=\u001b[39m \u001b[43mTag_client\u001b[49m\u001b[38;5;241;43m.\u001b[39;49m\u001b[43mget_next_trial\u001b[49m\u001b[43m(\u001b[49m\u001b[43m)\u001b[49m\n\u001b[1;32m      3\u001b[0m     \u001b[38;5;66;03m# Local evaluation here can be replaced with deployment to external system.\u001b[39;00m\n\u001b[1;32m      4\u001b[0m     Tag_client\u001b[38;5;241m.\u001b[39mcomplete_trial(trial_index\u001b[38;5;241m=\u001b[39mtrial_index, raw_data\u001b[38;5;241m=\u001b[39mscore_vals(param_to_list(parameterization)))\n",
      "File \u001b[0;32m~/Python/.venv/lib/python3.12/site-packages/ax/utils/common/executils.py:169\u001b[0m, in \u001b[0;36mretry_on_exception.<locals>.func_wrapper.<locals>.actual_wrapper\u001b[0;34m(*args, **kwargs)\u001b[0m\n\u001b[1;32m    165\u001b[0m             wait_interval \u001b[38;5;241m=\u001b[39m \u001b[38;5;28mmin\u001b[39m(\n\u001b[1;32m    166\u001b[0m                 MAX_WAIT_SECONDS, initial_wait_seconds \u001b[38;5;241m*\u001b[39m \u001b[38;5;241m2\u001b[39m \u001b[38;5;241m*\u001b[39m\u001b[38;5;241m*\u001b[39m (i \u001b[38;5;241m-\u001b[39m \u001b[38;5;241m1\u001b[39m)\n\u001b[1;32m    167\u001b[0m             )\n\u001b[1;32m    168\u001b[0m             time\u001b[38;5;241m.\u001b[39msleep(wait_interval)\n\u001b[0;32m--> 169\u001b[0m         \u001b[38;5;28;01mreturn\u001b[39;00m \u001b[43mfunc\u001b[49m\u001b[43m(\u001b[49m\u001b[38;5;241;43m*\u001b[39;49m\u001b[43margs\u001b[49m\u001b[43m,\u001b[49m\u001b[43m \u001b[49m\u001b[38;5;241;43m*\u001b[39;49m\u001b[38;5;241;43m*\u001b[39;49m\u001b[43mkwargs\u001b[49m\u001b[43m)\u001b[49m\n\u001b[1;32m    171\u001b[0m \u001b[38;5;66;03m# If we are here, it means the retries were finished but\u001b[39;00m\n\u001b[1;32m    172\u001b[0m \u001b[38;5;66;03m# The error was suppressed. Hence return the default value provided.\u001b[39;00m\n\u001b[1;32m    173\u001b[0m \u001b[38;5;28;01mreturn\u001b[39;00m default_return_on_suppression\n",
      "File \u001b[0;32m~/Python/.venv/lib/python3.12/site-packages/ax/service/ax_client.py:576\u001b[0m, in \u001b[0;36mAxClient.get_next_trial\u001b[0;34m(self, ttl_seconds, force, fixed_features)\u001b[0m\n\u001b[1;32m    572\u001b[0m         \u001b[38;5;28;01mraise\u001b[39;00m OptimizationShouldStop(message\u001b[38;5;241m=\u001b[39mglobal_stopping_message)\n\u001b[1;32m    574\u001b[0m \u001b[38;5;28;01mtry\u001b[39;00m:\n\u001b[1;32m    575\u001b[0m     trial \u001b[38;5;241m=\u001b[39m \u001b[38;5;28mself\u001b[39m\u001b[38;5;241m.\u001b[39mexperiment\u001b[38;5;241m.\u001b[39mnew_trial(\n\u001b[0;32m--> 576\u001b[0m         generator_run\u001b[38;5;241m=\u001b[39m\u001b[38;5;28;43mself\u001b[39;49m\u001b[38;5;241;43m.\u001b[39;49m\u001b[43m_gen_new_generator_run\u001b[49m\u001b[43m(\u001b[49m\n\u001b[1;32m    577\u001b[0m \u001b[43m            \u001b[49m\u001b[43mfixed_features\u001b[49m\u001b[38;5;241;43m=\u001b[39;49m\u001b[43mfixed_features\u001b[49m\n\u001b[1;32m    578\u001b[0m \u001b[43m        \u001b[49m\u001b[43m)\u001b[49m,\n\u001b[1;32m    579\u001b[0m         ttl_seconds\u001b[38;5;241m=\u001b[39mttl_seconds,\n\u001b[1;32m    580\u001b[0m     )\n\u001b[1;32m    581\u001b[0m \u001b[38;5;28;01mexcept\u001b[39;00m MaxParallelismReachedException \u001b[38;5;28;01mas\u001b[39;00m e:\n\u001b[1;32m    582\u001b[0m     \u001b[38;5;28;01mif\u001b[39;00m \u001b[38;5;28mself\u001b[39m\u001b[38;5;241m.\u001b[39m_early_stopping_strategy \u001b[38;5;129;01mis\u001b[39;00m \u001b[38;5;129;01mnot\u001b[39;00m \u001b[38;5;28;01mNone\u001b[39;00m:\n",
      "File \u001b[0;32m~/Python/.venv/lib/python3.12/site-packages/ax/service/ax_client.py:1818\u001b[0m, in \u001b[0;36mAxClient._gen_new_generator_run\u001b[0;34m(self, n, fixed_features)\u001b[0m\n\u001b[1;32m   1810\u001b[0m fixed_feats \u001b[38;5;241m=\u001b[39m (\n\u001b[1;32m   1811\u001b[0m     InstantiationBase\u001b[38;5;241m.\u001b[39mmake_fixed_observation_features(\n\u001b[1;32m   1812\u001b[0m         fixed_features\u001b[38;5;241m=\u001b[39mfixed_features\n\u001b[0;32m   (...)\u001b[0m\n\u001b[1;32m   1815\u001b[0m     \u001b[38;5;28;01melse\u001b[39;00m \u001b[38;5;28;01mNone\u001b[39;00m\n\u001b[1;32m   1816\u001b[0m )\n\u001b[1;32m   1817\u001b[0m \u001b[38;5;28;01mwith\u001b[39;00m with_rng_seed(seed\u001b[38;5;241m=\u001b[39m\u001b[38;5;28mself\u001b[39m\u001b[38;5;241m.\u001b[39m_random_seed):\n\u001b[0;32m-> 1818\u001b[0m     \u001b[38;5;28;01mreturn\u001b[39;00m \u001b[43mnone_throws\u001b[49m\u001b[43m(\u001b[49m\u001b[38;5;28;43mself\u001b[39;49m\u001b[38;5;241;43m.\u001b[39;49m\u001b[43mgeneration_strategy\u001b[49m\u001b[43m)\u001b[49m\u001b[38;5;241;43m.\u001b[39;49m\u001b[43mgen\u001b[49m\u001b[43m(\u001b[49m\n\u001b[1;32m   1819\u001b[0m \u001b[43m        \u001b[49m\u001b[43mexperiment\u001b[49m\u001b[38;5;241;43m=\u001b[39;49m\u001b[38;5;28;43mself\u001b[39;49m\u001b[38;5;241;43m.\u001b[39;49m\u001b[43mexperiment\u001b[49m\u001b[43m,\u001b[49m\n\u001b[1;32m   1820\u001b[0m \u001b[43m        \u001b[49m\u001b[43mn\u001b[49m\u001b[38;5;241;43m=\u001b[39;49m\u001b[43mn\u001b[49m\u001b[43m,\u001b[49m\n\u001b[1;32m   1821\u001b[0m \u001b[43m        \u001b[49m\u001b[43mpending_observations\u001b[49m\u001b[38;5;241;43m=\u001b[39;49m\u001b[38;5;28;43mself\u001b[39;49m\u001b[38;5;241;43m.\u001b[39;49m\u001b[43m_get_pending_observation_features\u001b[49m\u001b[43m(\u001b[49m\n\u001b[1;32m   1822\u001b[0m \u001b[43m            \u001b[49m\u001b[43mexperiment\u001b[49m\u001b[38;5;241;43m=\u001b[39;49m\u001b[38;5;28;43mself\u001b[39;49m\u001b[38;5;241;43m.\u001b[39;49m\u001b[43mexperiment\u001b[49m\n\u001b[1;32m   1823\u001b[0m \u001b[43m        \u001b[49m\u001b[43m)\u001b[49m\u001b[43m,\u001b[49m\n\u001b[1;32m   1824\u001b[0m \u001b[43m        \u001b[49m\u001b[43mfixed_features\u001b[49m\u001b[38;5;241;43m=\u001b[39;49m\u001b[43mfixed_feats\u001b[49m\u001b[43m,\u001b[49m\n\u001b[1;32m   1825\u001b[0m \u001b[43m    \u001b[49m\u001b[43m)\u001b[49m\n",
      "File \u001b[0;32m~/Python/.venv/lib/python3.12/site-packages/ax/modelbridge/generation_strategy.py:339\u001b[0m, in \u001b[0;36mGenerationStrategy.gen\u001b[0;34m(self, experiment, data, pending_observations, n, fixed_features)\u001b[0m\n\u001b[1;32m    304\u001b[0m \u001b[38;5;28;01mdef\u001b[39;00m \u001b[38;5;21mgen\u001b[39m(\n\u001b[1;32m    305\u001b[0m     \u001b[38;5;28mself\u001b[39m,\n\u001b[1;32m    306\u001b[0m     experiment: Experiment,\n\u001b[0;32m   (...)\u001b[0m\n\u001b[1;32m    310\u001b[0m     fixed_features: ObservationFeatures \u001b[38;5;241m|\u001b[39m \u001b[38;5;28;01mNone\u001b[39;00m \u001b[38;5;241m=\u001b[39m \u001b[38;5;28;01mNone\u001b[39;00m,\n\u001b[1;32m    311\u001b[0m ) \u001b[38;5;241m-\u001b[39m\u001b[38;5;241m>\u001b[39m GeneratorRun:\n\u001b[1;32m    312\u001b[0m \u001b[38;5;250m    \u001b[39m\u001b[38;5;124;03m\"\"\"Produce the next points in the experiment. Additional kwargs passed to\u001b[39;00m\n\u001b[1;32m    313\u001b[0m \u001b[38;5;124;03m    this method are propagated directly to the underlying model's `gen`, along\u001b[39;00m\n\u001b[1;32m    314\u001b[0m \u001b[38;5;124;03m    with the `model_gen_kwargs` set on the current generation node.\u001b[39;00m\n\u001b[0;32m   (...)\u001b[0m\n\u001b[1;32m    337\u001b[0m \u001b[38;5;124;03m            resuggesting points that are currently being evaluated.\u001b[39;00m\n\u001b[1;32m    338\u001b[0m \u001b[38;5;124;03m    \"\"\"\u001b[39;00m\n\u001b[0;32m--> 339\u001b[0m     gr \u001b[38;5;241m=\u001b[39m \u001b[38;5;28;43mself\u001b[39;49m\u001b[38;5;241;43m.\u001b[39;49m\u001b[43m_gen_with_multiple_nodes\u001b[49m\u001b[43m(\u001b[49m\n\u001b[1;32m    340\u001b[0m \u001b[43m        \u001b[49m\u001b[43mexperiment\u001b[49m\u001b[38;5;241;43m=\u001b[39;49m\u001b[43mexperiment\u001b[49m\u001b[43m,\u001b[49m\n\u001b[1;32m    341\u001b[0m \u001b[43m        \u001b[49m\u001b[43mdata\u001b[49m\u001b[38;5;241;43m=\u001b[39;49m\u001b[43mdata\u001b[49m\u001b[43m,\u001b[49m\n\u001b[1;32m    342\u001b[0m \u001b[43m        \u001b[49m\u001b[43mn\u001b[49m\u001b[38;5;241;43m=\u001b[39;49m\u001b[43mn\u001b[49m\u001b[43m,\u001b[49m\n\u001b[1;32m    343\u001b[0m \u001b[43m        \u001b[49m\u001b[43mpending_observations\u001b[49m\u001b[38;5;241;43m=\u001b[39;49m\u001b[43mpending_observations\u001b[49m\u001b[43m,\u001b[49m\n\u001b[1;32m    344\u001b[0m \u001b[43m        \u001b[49m\u001b[43mfixed_features\u001b[49m\u001b[38;5;241;43m=\u001b[39;49m\u001b[43mfixed_features\u001b[49m\u001b[43m,\u001b[49m\n\u001b[1;32m    345\u001b[0m \u001b[43m    \u001b[49m\u001b[43m)\u001b[49m\n\u001b[1;32m    346\u001b[0m     \u001b[38;5;28;01mif\u001b[39;00m \u001b[38;5;28mlen\u001b[39m(gr) \u001b[38;5;241m>\u001b[39m \u001b[38;5;241m1\u001b[39m:\n\u001b[1;32m    347\u001b[0m         \u001b[38;5;28;01mraise\u001b[39;00m UnsupportedError(\n\u001b[1;32m    348\u001b[0m             \u001b[38;5;124m\"\u001b[39m\u001b[38;5;124mBy calling into GenerationStrategy.gen(), you are should be \u001b[39m\u001b[38;5;124m\"\u001b[39m\n\u001b[1;32m    349\u001b[0m             \u001b[38;5;124m\"\u001b[39m\u001b[38;5;124mexpecting a single `Trial` with only one `GeneratorRun`. However, \u001b[39m\u001b[38;5;124m\"\u001b[39m\n\u001b[1;32m    350\u001b[0m             \u001b[38;5;124m\"\u001b[39m\u001b[38;5;124mthe underlying GenerationStrategy produced multiple `GeneratorRuns` \u001b[39m\u001b[38;5;124m\"\u001b[39m\n\u001b[1;32m    351\u001b[0m             \u001b[38;5;124mf\u001b[39m\u001b[38;5;124m\"\u001b[39m\u001b[38;5;124mand returned the following list of `GeneratorRun`-s: \u001b[39m\u001b[38;5;132;01m{\u001b[39;00mgr\u001b[38;5;132;01m}\u001b[39;00m\u001b[38;5;124m\"\u001b[39m\n\u001b[1;32m    352\u001b[0m         )\n",
      "File \u001b[0;32m~/Python/.venv/lib/python3.12/site-packages/ax/modelbridge/generation_strategy.py:453\u001b[0m, in \u001b[0;36mGenerationStrategy._gen_with_multiple_nodes\u001b[0;34m(self, experiment, data, pending_observations, n, fixed_features, arms_per_node)\u001b[0m\n\u001b[1;32m    451\u001b[0m \u001b[38;5;28;01mif\u001b[39;00m arms_from_node \u001b[38;5;241m!=\u001b[39m \u001b[38;5;241m0\u001b[39m:\n\u001b[1;32m    452\u001b[0m     \u001b[38;5;28;01mtry\u001b[39;00m:\n\u001b[0;32m--> 453\u001b[0m         curr_node_gr \u001b[38;5;241m=\u001b[39m \u001b[38;5;28;43mself\u001b[39;49m\u001b[38;5;241;43m.\u001b[39;49m\u001b[43m_curr\u001b[49m\u001b[38;5;241;43m.\u001b[39;49m\u001b[43mgen\u001b[49m\u001b[43m(\u001b[49m\n\u001b[1;32m    454\u001b[0m \u001b[43m            \u001b[49m\u001b[43mn\u001b[49m\u001b[38;5;241;43m=\u001b[39;49m\u001b[43marms_from_node\u001b[49m\u001b[43m,\u001b[49m\n\u001b[1;32m    455\u001b[0m \u001b[43m            \u001b[49m\u001b[43mpending_observations\u001b[49m\u001b[38;5;241;43m=\u001b[39;49m\u001b[43mpending_observations\u001b[49m\u001b[43m,\u001b[49m\n\u001b[1;32m    456\u001b[0m \u001b[43m            \u001b[49m\u001b[43marms_by_signature_for_deduplication\u001b[49m\u001b[38;5;241;43m=\u001b[39;49m\u001b[43m(\u001b[49m\n\u001b[1;32m    457\u001b[0m \u001b[43m                \u001b[49m\u001b[43mexperiment\u001b[49m\u001b[38;5;241;43m.\u001b[39;49m\u001b[43marms_by_signature_for_deduplication\u001b[49m\n\u001b[1;32m    458\u001b[0m \u001b[43m            \u001b[49m\u001b[43m)\u001b[49m\u001b[43m,\u001b[49m\n\u001b[1;32m    459\u001b[0m \u001b[43m            \u001b[49m\u001b[43mfixed_features\u001b[49m\u001b[38;5;241;43m=\u001b[39;49m\u001b[43mfixed_features_from_node\u001b[49m\u001b[43m,\u001b[49m\n\u001b[1;32m    460\u001b[0m \u001b[43m        \u001b[49m\u001b[43m)\u001b[49m\n\u001b[1;32m    461\u001b[0m     \u001b[38;5;28;01mexcept\u001b[39;00m DataRequiredError \u001b[38;5;28;01mas\u001b[39;00m err:\n\u001b[1;32m    462\u001b[0m         \u001b[38;5;66;03m# Model needs more data, so we log the error and return\u001b[39;00m\n\u001b[1;32m    463\u001b[0m         \u001b[38;5;66;03m# as many generator runs as we were able to produce, unless\u001b[39;00m\n\u001b[1;32m    464\u001b[0m         \u001b[38;5;66;03m# no trials were produced at all (in which case its safe to raise).\u001b[39;00m\n\u001b[1;32m    465\u001b[0m         \u001b[38;5;28;01mif\u001b[39;00m \u001b[38;5;28mlen\u001b[39m(grs) \u001b[38;5;241m==\u001b[39m \u001b[38;5;241m0\u001b[39m:\n",
      "File \u001b[0;32m~/Python/.venv/lib/python3.12/site-packages/ax/modelbridge/generation_node.py:902\u001b[0m, in \u001b[0;36mGenerationStep.gen\u001b[0;34m(self, n, pending_observations, max_gen_draws_for_deduplication, arms_by_signature_for_deduplication, **model_gen_kwargs)\u001b[0m\n\u001b[1;32m    894\u001b[0m \u001b[38;5;28;01mdef\u001b[39;00m \u001b[38;5;21mgen\u001b[39m(\n\u001b[1;32m    895\u001b[0m     \u001b[38;5;28mself\u001b[39m,\n\u001b[1;32m    896\u001b[0m     n: \u001b[38;5;28mint\u001b[39m \u001b[38;5;241m|\u001b[39m \u001b[38;5;28;01mNone\u001b[39;00m \u001b[38;5;241m=\u001b[39m \u001b[38;5;28;01mNone\u001b[39;00m,\n\u001b[0;32m   (...)\u001b[0m\n\u001b[1;32m    900\u001b[0m     \u001b[38;5;241m*\u001b[39m\u001b[38;5;241m*\u001b[39mmodel_gen_kwargs: Any,\n\u001b[1;32m    901\u001b[0m ) \u001b[38;5;241m-\u001b[39m\u001b[38;5;241m>\u001b[39m GeneratorRun:\n\u001b[0;32m--> 902\u001b[0m     gr \u001b[38;5;241m=\u001b[39m \u001b[38;5;28;43msuper\u001b[39;49m\u001b[43m(\u001b[49m\u001b[43m)\u001b[49m\u001b[38;5;241;43m.\u001b[39;49m\u001b[43mgen\u001b[49m\u001b[43m(\u001b[49m\n\u001b[1;32m    903\u001b[0m \u001b[43m        \u001b[49m\u001b[43mn\u001b[49m\u001b[38;5;241;43m=\u001b[39;49m\u001b[43mn\u001b[49m\u001b[43m,\u001b[49m\n\u001b[1;32m    904\u001b[0m \u001b[43m        \u001b[49m\u001b[43mpending_observations\u001b[49m\u001b[38;5;241;43m=\u001b[39;49m\u001b[43mpending_observations\u001b[49m\u001b[43m,\u001b[49m\n\u001b[1;32m    905\u001b[0m \u001b[43m        \u001b[49m\u001b[43mmax_gen_draws_for_deduplication\u001b[49m\u001b[38;5;241;43m=\u001b[39;49m\u001b[43mmax_gen_draws_for_deduplication\u001b[49m\u001b[43m,\u001b[49m\n\u001b[1;32m    906\u001b[0m \u001b[43m        \u001b[49m\u001b[43marms_by_signature_for_deduplication\u001b[49m\u001b[38;5;241;43m=\u001b[39;49m\u001b[43marms_by_signature_for_deduplication\u001b[49m\u001b[43m,\u001b[49m\n\u001b[1;32m    907\u001b[0m \u001b[43m        \u001b[49m\u001b[38;5;241;43m*\u001b[39;49m\u001b[38;5;241;43m*\u001b[39;49m\u001b[43mmodel_gen_kwargs\u001b[49m\u001b[43m,\u001b[49m\n\u001b[1;32m    908\u001b[0m \u001b[43m    \u001b[49m\u001b[43m)\u001b[49m\n\u001b[1;32m    909\u001b[0m     gr\u001b[38;5;241m.\u001b[39m_generation_step_index \u001b[38;5;241m=\u001b[39m \u001b[38;5;28mself\u001b[39m\u001b[38;5;241m.\u001b[39mindex\n\u001b[1;32m    910\u001b[0m     \u001b[38;5;28;01mreturn\u001b[39;00m gr\n",
      "File \u001b[0;32m~/Python/.venv/lib/python3.12/site-packages/ax/modelbridge/generation_node.py:408\u001b[0m, in \u001b[0;36mGenerationNode.gen\u001b[0;34m(self, n, pending_observations, max_gen_draws_for_deduplication, arms_by_signature_for_deduplication, **model_gen_kwargs)\u001b[0m\n\u001b[1;32m    405\u001b[0m \u001b[38;5;66;03m# Keep generating until each of `generator_run.arms` is not a duplicate\u001b[39;00m\n\u001b[1;32m    406\u001b[0m \u001b[38;5;66;03m# of a previous arm, if `should_deduplicate is True`\u001b[39;00m\n\u001b[1;32m    407\u001b[0m \u001b[38;5;28;01mwhile\u001b[39;00m should_generate_run:\n\u001b[0;32m--> 408\u001b[0m     generator_run \u001b[38;5;241m=\u001b[39m \u001b[38;5;28;43mself\u001b[39;49m\u001b[38;5;241;43m.\u001b[39;49m\u001b[43m_gen\u001b[49m\u001b[43m(\u001b[49m\n\u001b[1;32m    409\u001b[0m \u001b[43m        \u001b[49m\u001b[43mn\u001b[49m\u001b[38;5;241;43m=\u001b[39;49m\u001b[43mn\u001b[49m\u001b[43m,\u001b[49m\n\u001b[1;32m    410\u001b[0m \u001b[43m        \u001b[49m\u001b[43mpending_observations\u001b[49m\u001b[38;5;241;43m=\u001b[39;49m\u001b[43mpending_observations\u001b[49m\u001b[43m,\u001b[49m\n\u001b[1;32m    411\u001b[0m \u001b[43m        \u001b[49m\u001b[38;5;241;43m*\u001b[39;49m\u001b[38;5;241;43m*\u001b[39;49m\u001b[43mmodel_gen_kwargs\u001b[49m\u001b[43m,\u001b[49m\n\u001b[1;32m    412\u001b[0m \u001b[43m    \u001b[49m\u001b[43m)\u001b[49m\n\u001b[1;32m    413\u001b[0m     should_generate_run \u001b[38;5;241m=\u001b[39m (\n\u001b[1;32m    414\u001b[0m         \u001b[38;5;28mself\u001b[39m\u001b[38;5;241m.\u001b[39mshould_deduplicate\n\u001b[1;32m    415\u001b[0m         \u001b[38;5;129;01mand\u001b[39;00m arms_by_signature_for_deduplication\n\u001b[0;32m   (...)\u001b[0m\n\u001b[1;32m    419\u001b[0m         )\n\u001b[1;32m    420\u001b[0m     )\n\u001b[1;32m    421\u001b[0m     n_gen_draws \u001b[38;5;241m+\u001b[39m\u001b[38;5;241m=\u001b[39m \u001b[38;5;241m1\u001b[39m\n",
      "File \u001b[0;32m~/Python/.venv/lib/python3.12/site-packages/ax/modelbridge/generation_node.py:479\u001b[0m, in \u001b[0;36mGenerationNode._gen\u001b[0;34m(self, n, pending_observations, **model_gen_kwargs)\u001b[0m\n\u001b[1;32m    475\u001b[0m \u001b[38;5;28;01mif\u001b[39;00m n \u001b[38;5;129;01mis\u001b[39;00m \u001b[38;5;28;01mNone\u001b[39;00m \u001b[38;5;129;01mand\u001b[39;00m model_spec\u001b[38;5;241m.\u001b[39mmodel_gen_kwargs:\n\u001b[1;32m    476\u001b[0m     \u001b[38;5;66;03m# If `n` is not specified, ensure that the `None` value does not\u001b[39;00m\n\u001b[1;32m    477\u001b[0m     \u001b[38;5;66;03m# override the one set in `model_spec.model_gen_kwargs`.\u001b[39;00m\n\u001b[1;32m    478\u001b[0m     n \u001b[38;5;241m=\u001b[39m model_spec\u001b[38;5;241m.\u001b[39mmodel_gen_kwargs\u001b[38;5;241m.\u001b[39mget(\u001b[38;5;124m\"\u001b[39m\u001b[38;5;124mn\u001b[39m\u001b[38;5;124m\"\u001b[39m, \u001b[38;5;28;01mNone\u001b[39;00m)\n\u001b[0;32m--> 479\u001b[0m \u001b[38;5;28;01mreturn\u001b[39;00m \u001b[43mmodel_spec\u001b[49m\u001b[38;5;241;43m.\u001b[39;49m\u001b[43mgen\u001b[49m\u001b[43m(\u001b[49m\n\u001b[1;32m    480\u001b[0m \u001b[43m    \u001b[49m\u001b[43mn\u001b[49m\u001b[38;5;241;43m=\u001b[39;49m\u001b[43mn\u001b[49m\u001b[43m,\u001b[49m\n\u001b[1;32m    481\u001b[0m \u001b[43m    \u001b[49m\u001b[38;5;66;43;03m# For `pending_observations`, prefer the input to this function, as\u001b[39;49;00m\n\u001b[1;32m    482\u001b[0m \u001b[43m    \u001b[49m\u001b[38;5;66;43;03m# `pending_observations` are dynamic throughout the experiment and thus\u001b[39;49;00m\n\u001b[1;32m    483\u001b[0m \u001b[43m    \u001b[49m\u001b[38;5;66;43;03m# unlikely to be specified in `model_spec.model_gen_kwargs`.\u001b[39;49;00m\n\u001b[1;32m    484\u001b[0m \u001b[43m    \u001b[49m\u001b[43mpending_observations\u001b[49m\u001b[38;5;241;43m=\u001b[39;49m\u001b[43mpending_observations\u001b[49m\u001b[43m,\u001b[49m\n\u001b[1;32m    485\u001b[0m \u001b[43m    \u001b[49m\u001b[38;5;241;43m*\u001b[39;49m\u001b[38;5;241;43m*\u001b[39;49m\u001b[43mmodel_gen_kwargs\u001b[49m\u001b[43m,\u001b[49m\n\u001b[1;32m    486\u001b[0m \u001b[43m\u001b[49m\u001b[43m)\u001b[49m\n",
      "File \u001b[0;32m~/Python/.venv/lib/python3.12/site-packages/ax/modelbridge/model_spec.py:238\u001b[0m, in \u001b[0;36mModelSpec.gen\u001b[0;34m(self, **model_gen_kwargs)\u001b[0m\n\u001b[1;32m    236\u001b[0m \u001b[38;5;66;03m# copy to ensure there is no in-place modification\u001b[39;00m\n\u001b[1;32m    237\u001b[0m model_gen_kwargs \u001b[38;5;241m=\u001b[39m deepcopy(model_gen_kwargs)\n\u001b[0;32m--> 238\u001b[0m generator_run \u001b[38;5;241m=\u001b[39m \u001b[43mfitted_model\u001b[49m\u001b[38;5;241;43m.\u001b[39;49m\u001b[43mgen\u001b[49m\u001b[43m(\u001b[49m\u001b[38;5;241;43m*\u001b[39;49m\u001b[38;5;241;43m*\u001b[39;49m\u001b[43mmodel_gen_kwargs\u001b[49m\u001b[43m)\u001b[49m\n\u001b[1;32m    239\u001b[0m fit_and_std_quality_and_generalization_dict \u001b[38;5;241m=\u001b[39m (\n\u001b[1;32m    240\u001b[0m     get_fit_and_std_quality_and_generalization_dict(\n\u001b[1;32m    241\u001b[0m         fitted_model_bridge\u001b[38;5;241m=\u001b[39m\u001b[38;5;28mself\u001b[39m\u001b[38;5;241m.\u001b[39mfitted_model,\n\u001b[1;32m    242\u001b[0m     )\n\u001b[1;32m    243\u001b[0m )\n\u001b[1;32m    244\u001b[0m generator_run\u001b[38;5;241m.\u001b[39m_gen_metadata \u001b[38;5;241m=\u001b[39m (\n\u001b[1;32m    245\u001b[0m     {} \u001b[38;5;28;01mif\u001b[39;00m generator_run\u001b[38;5;241m.\u001b[39mgen_metadata \u001b[38;5;129;01mis\u001b[39;00m \u001b[38;5;28;01mNone\u001b[39;00m \u001b[38;5;28;01melse\u001b[39;00m generator_run\u001b[38;5;241m.\u001b[39mgen_metadata\n\u001b[1;32m    246\u001b[0m )\n",
      "File \u001b[0;32m~/Python/.venv/lib/python3.12/site-packages/ax/modelbridge/base.py:861\u001b[0m, in \u001b[0;36mModelBridge.gen\u001b[0;34m(self, n, search_space, optimization_config, pending_observations, fixed_features, model_gen_options)\u001b[0m\n\u001b[1;32m    854\u001b[0m base_gen_args \u001b[38;5;241m=\u001b[39m \u001b[38;5;28mself\u001b[39m\u001b[38;5;241m.\u001b[39m_get_transformed_gen_args(\n\u001b[1;32m    855\u001b[0m     search_space\u001b[38;5;241m=\u001b[39msearch_space,\n\u001b[1;32m    856\u001b[0m     optimization_config\u001b[38;5;241m=\u001b[39moptimization_config,\n\u001b[1;32m    857\u001b[0m     pending_observations\u001b[38;5;241m=\u001b[39mpending_observations,\n\u001b[1;32m    858\u001b[0m     fixed_features\u001b[38;5;241m=\u001b[39mfixed_features,\n\u001b[1;32m    859\u001b[0m )\n\u001b[1;32m    860\u001b[0m \u001b[38;5;66;03m# Apply terminal transform and gen\u001b[39;00m\n\u001b[0;32m--> 861\u001b[0m gen_results \u001b[38;5;241m=\u001b[39m \u001b[38;5;28;43mself\u001b[39;49m\u001b[38;5;241;43m.\u001b[39;49m\u001b[43m_gen\u001b[49m\u001b[43m(\u001b[49m\n\u001b[1;32m    862\u001b[0m \u001b[43m    \u001b[49m\u001b[43mn\u001b[49m\u001b[38;5;241;43m=\u001b[39;49m\u001b[43mn\u001b[49m\u001b[43m,\u001b[49m\n\u001b[1;32m    863\u001b[0m \u001b[43m    \u001b[49m\u001b[43msearch_space\u001b[49m\u001b[38;5;241;43m=\u001b[39;49m\u001b[43mbase_gen_args\u001b[49m\u001b[38;5;241;43m.\u001b[39;49m\u001b[43msearch_space\u001b[49m\u001b[43m,\u001b[49m\n\u001b[1;32m    864\u001b[0m \u001b[43m    \u001b[49m\u001b[43moptimization_config\u001b[49m\u001b[38;5;241;43m=\u001b[39;49m\u001b[43mbase_gen_args\u001b[49m\u001b[38;5;241;43m.\u001b[39;49m\u001b[43moptimization_config\u001b[49m\u001b[43m,\u001b[49m\n\u001b[1;32m    865\u001b[0m \u001b[43m    \u001b[49m\u001b[43mpending_observations\u001b[49m\u001b[38;5;241;43m=\u001b[39;49m\u001b[43mbase_gen_args\u001b[49m\u001b[38;5;241;43m.\u001b[39;49m\u001b[43mpending_observations\u001b[49m\u001b[43m,\u001b[49m\n\u001b[1;32m    866\u001b[0m \u001b[43m    \u001b[49m\u001b[43mfixed_features\u001b[49m\u001b[38;5;241;43m=\u001b[39;49m\u001b[43mbase_gen_args\u001b[49m\u001b[38;5;241;43m.\u001b[39;49m\u001b[43mfixed_features\u001b[49m\u001b[43m,\u001b[49m\n\u001b[1;32m    867\u001b[0m \u001b[43m    \u001b[49m\u001b[43mmodel_gen_options\u001b[49m\u001b[38;5;241;43m=\u001b[39;49m\u001b[43mmodel_gen_options\u001b[49m\u001b[43m,\u001b[49m\n\u001b[1;32m    868\u001b[0m \u001b[43m\u001b[49m\u001b[43m)\u001b[49m\n\u001b[1;32m    870\u001b[0m observation_features \u001b[38;5;241m=\u001b[39m gen_results\u001b[38;5;241m.\u001b[39mobservation_features\n\u001b[1;32m    871\u001b[0m best_obsf \u001b[38;5;241m=\u001b[39m gen_results\u001b[38;5;241m.\u001b[39mbest_observation_features\n",
      "File \u001b[0;32m~/Python/.venv/lib/python3.12/site-packages/ax/modelbridge/torch.py:711\u001b[0m, in \u001b[0;36mTorchModelBridge._gen\u001b[0;34m(self, n, search_space, pending_observations, fixed_features, model_gen_options, optimization_config)\u001b[0m\n\u001b[1;32m    702\u001b[0m search_space_digest, torch_opt_config \u001b[38;5;241m=\u001b[39m \u001b[38;5;28mself\u001b[39m\u001b[38;5;241m.\u001b[39m_get_transformed_model_gen_args(\n\u001b[1;32m    703\u001b[0m     search_space\u001b[38;5;241m=\u001b[39msearch_space,\n\u001b[1;32m    704\u001b[0m     pending_observations\u001b[38;5;241m=\u001b[39mpending_observations,\n\u001b[0;32m   (...)\u001b[0m\n\u001b[1;32m    707\u001b[0m     optimization_config\u001b[38;5;241m=\u001b[39moptimization_config,\n\u001b[1;32m    708\u001b[0m )\n\u001b[1;32m    710\u001b[0m \u001b[38;5;66;03m# Generate the candidates\u001b[39;00m\n\u001b[0;32m--> 711\u001b[0m gen_results \u001b[38;5;241m=\u001b[39m \u001b[43mnone_throws\u001b[49m\u001b[43m(\u001b[49m\u001b[38;5;28;43mself\u001b[39;49m\u001b[38;5;241;43m.\u001b[39;49m\u001b[43mmodel\u001b[49m\u001b[43m)\u001b[49m\u001b[38;5;241;43m.\u001b[39;49m\u001b[43mgen\u001b[49m\u001b[43m(\u001b[49m\n\u001b[1;32m    712\u001b[0m \u001b[43m    \u001b[49m\u001b[43mn\u001b[49m\u001b[38;5;241;43m=\u001b[39;49m\u001b[43mn\u001b[49m\u001b[43m,\u001b[49m\n\u001b[1;32m    713\u001b[0m \u001b[43m    \u001b[49m\u001b[43msearch_space_digest\u001b[49m\u001b[38;5;241;43m=\u001b[39;49m\u001b[43msearch_space_digest\u001b[49m\u001b[43m,\u001b[49m\n\u001b[1;32m    714\u001b[0m \u001b[43m    \u001b[49m\u001b[43mtorch_opt_config\u001b[49m\u001b[38;5;241;43m=\u001b[39;49m\u001b[43mtorch_opt_config\u001b[49m\u001b[43m,\u001b[49m\n\u001b[1;32m    715\u001b[0m \u001b[43m\u001b[49m\u001b[43m)\u001b[49m\n\u001b[1;32m    717\u001b[0m gen_metadata \u001b[38;5;241m=\u001b[39m \u001b[38;5;28mdict\u001b[39m(gen_results\u001b[38;5;241m.\u001b[39mgen_metadata)\n\u001b[1;32m    718\u001b[0m \u001b[38;5;28;01mif\u001b[39;00m (\n\u001b[1;32m    719\u001b[0m     \u001b[38;5;28misinstance\u001b[39m(optimization_config, MultiObjectiveOptimizationConfig)\n\u001b[1;32m    720\u001b[0m     \u001b[38;5;129;01mand\u001b[39;00m gen_metadata\u001b[38;5;241m.\u001b[39mget(\u001b[38;5;124m\"\u001b[39m\u001b[38;5;124mobjective_thresholds\u001b[39m\u001b[38;5;124m\"\u001b[39m, \u001b[38;5;28;01mNone\u001b[39;00m) \u001b[38;5;129;01mis\u001b[39;00m \u001b[38;5;129;01mnot\u001b[39;00m \u001b[38;5;28;01mNone\u001b[39;00m\n\u001b[0;32m   (...)\u001b[0m\n\u001b[1;32m    724\u001b[0m     \u001b[38;5;66;03m# if using a hypervolume based acquisition function, then\u001b[39;00m\n\u001b[1;32m    725\u001b[0m     \u001b[38;5;66;03m# the inferred objective thresholds are in gen_metadata.\u001b[39;00m\n",
      "File \u001b[0;32m~/Python/.venv/lib/python3.12/site-packages/ax/models/torch/botorch_modular/model.py:255\u001b[0m, in \u001b[0;36mBoTorchModel.gen\u001b[0;34m(self, n, search_space_digest, torch_opt_config)\u001b[0m\n\u001b[1;32m    249\u001b[0m acqf \u001b[38;5;241m=\u001b[39m \u001b[38;5;28mself\u001b[39m\u001b[38;5;241m.\u001b[39m_instantiate_acquisition(\n\u001b[1;32m    250\u001b[0m     search_space_digest\u001b[38;5;241m=\u001b[39msearch_space_digest,\n\u001b[1;32m    251\u001b[0m     torch_opt_config\u001b[38;5;241m=\u001b[39mtorch_opt_config,\n\u001b[1;32m    252\u001b[0m     acq_options\u001b[38;5;241m=\u001b[39macq_options,\n\u001b[1;32m    253\u001b[0m )\n\u001b[1;32m    254\u001b[0m botorch_rounding_func \u001b[38;5;241m=\u001b[39m get_rounding_func(torch_opt_config\u001b[38;5;241m.\u001b[39mrounding_func)\n\u001b[0;32m--> 255\u001b[0m candidates, expected_acquisition_value, weights \u001b[38;5;241m=\u001b[39m \u001b[43macqf\u001b[49m\u001b[38;5;241;43m.\u001b[39;49m\u001b[43moptimize\u001b[49m\u001b[43m(\u001b[49m\n\u001b[1;32m    256\u001b[0m \u001b[43m    \u001b[49m\u001b[43mn\u001b[49m\u001b[38;5;241;43m=\u001b[39;49m\u001b[43mn\u001b[49m\u001b[43m,\u001b[49m\n\u001b[1;32m    257\u001b[0m \u001b[43m    \u001b[49m\u001b[43msearch_space_digest\u001b[49m\u001b[38;5;241;43m=\u001b[39;49m\u001b[43msearch_space_digest\u001b[49m\u001b[43m,\u001b[49m\n\u001b[1;32m    258\u001b[0m \u001b[43m    \u001b[49m\u001b[43minequality_constraints\u001b[49m\u001b[38;5;241;43m=\u001b[39;49m\u001b[43m_to_inequality_constraints\u001b[49m\u001b[43m(\u001b[49m\n\u001b[1;32m    259\u001b[0m \u001b[43m        \u001b[49m\u001b[43mlinear_constraints\u001b[49m\u001b[38;5;241;43m=\u001b[39;49m\u001b[43mtorch_opt_config\u001b[49m\u001b[38;5;241;43m.\u001b[39;49m\u001b[43mlinear_constraints\u001b[49m\n\u001b[1;32m    260\u001b[0m \u001b[43m    \u001b[49m\u001b[43m)\u001b[49m\u001b[43m,\u001b[49m\n\u001b[1;32m    261\u001b[0m \u001b[43m    \u001b[49m\u001b[43mfixed_features\u001b[49m\u001b[38;5;241;43m=\u001b[39;49m\u001b[43mtorch_opt_config\u001b[49m\u001b[38;5;241;43m.\u001b[39;49m\u001b[43mfixed_features\u001b[49m\u001b[43m,\u001b[49m\n\u001b[1;32m    262\u001b[0m \u001b[43m    \u001b[49m\u001b[43mrounding_func\u001b[49m\u001b[38;5;241;43m=\u001b[39;49m\u001b[43mbotorch_rounding_func\u001b[49m\u001b[43m,\u001b[49m\n\u001b[1;32m    263\u001b[0m \u001b[43m    \u001b[49m\u001b[43moptimizer_options\u001b[49m\u001b[38;5;241;43m=\u001b[39;49m\u001b[43massert_is_instance\u001b[49m\u001b[43m(\u001b[49m\n\u001b[1;32m    264\u001b[0m \u001b[43m        \u001b[49m\u001b[43mopt_options\u001b[49m\u001b[43m,\u001b[49m\n\u001b[1;32m    265\u001b[0m \u001b[43m        \u001b[49m\u001b[38;5;28;43mdict\u001b[39;49m\u001b[43m,\u001b[49m\n\u001b[1;32m    266\u001b[0m \u001b[43m    \u001b[49m\u001b[43m)\u001b[49m\u001b[43m,\u001b[49m\n\u001b[1;32m    267\u001b[0m \u001b[43m\u001b[49m\u001b[43m)\u001b[49m\n\u001b[1;32m    268\u001b[0m gen_metadata \u001b[38;5;241m=\u001b[39m \u001b[38;5;28mself\u001b[39m\u001b[38;5;241m.\u001b[39m_get_gen_metadata_from_acqf(\n\u001b[1;32m    269\u001b[0m     acqf\u001b[38;5;241m=\u001b[39macqf,\n\u001b[1;32m    270\u001b[0m     torch_opt_config\u001b[38;5;241m=\u001b[39mtorch_opt_config,\n\u001b[1;32m    271\u001b[0m     expected_acquisition_value\u001b[38;5;241m=\u001b[39mexpected_acquisition_value,\n\u001b[1;32m    272\u001b[0m )\n\u001b[1;32m    273\u001b[0m \u001b[38;5;66;03m# log what model was used\u001b[39;00m\n",
      "File \u001b[0;32m~/Python/.venv/lib/python3.12/site-packages/ax/models/torch/botorch_modular/acquisition.py:441\u001b[0m, in \u001b[0;36mAcquisition.optimize\u001b[0;34m(self, n, search_space_digest, inequality_constraints, fixed_features, rounding_func, optimizer_options)\u001b[0m\n\u001b[1;32m    429\u001b[0m     candidates, acqf_values \u001b[38;5;241m=\u001b[39m optimize_acqf_mixed(\n\u001b[1;32m    430\u001b[0m         acq_function\u001b[38;5;241m=\u001b[39m\u001b[38;5;28mself\u001b[39m\u001b[38;5;241m.\u001b[39macqf,\n\u001b[1;32m    431\u001b[0m         bounds\u001b[38;5;241m=\u001b[39mbounds,\n\u001b[0;32m   (...)\u001b[0m\n\u001b[1;32m    438\u001b[0m         \u001b[38;5;241m*\u001b[39m\u001b[38;5;241m*\u001b[39moptimizer_options_with_defaults,\n\u001b[1;32m    439\u001b[0m     )\n\u001b[1;32m    440\u001b[0m \u001b[38;5;28;01melif\u001b[39;00m optimizer \u001b[38;5;241m==\u001b[39m \u001b[38;5;124m\"\u001b[39m\u001b[38;5;124moptimize_acqf_mixed_alternating\u001b[39m\u001b[38;5;124m\"\u001b[39m:\n\u001b[0;32m--> 441\u001b[0m     candidates, acqf_values \u001b[38;5;241m=\u001b[39m \u001b[43moptimize_acqf_mixed_alternating\u001b[49m\u001b[43m(\u001b[49m\n\u001b[1;32m    442\u001b[0m \u001b[43m        \u001b[49m\u001b[43macq_function\u001b[49m\u001b[38;5;241;43m=\u001b[39;49m\u001b[38;5;28;43mself\u001b[39;49m\u001b[38;5;241;43m.\u001b[39;49m\u001b[43macqf\u001b[49m\u001b[43m,\u001b[49m\n\u001b[1;32m    443\u001b[0m \u001b[43m        \u001b[49m\u001b[43mbounds\u001b[49m\u001b[38;5;241;43m=\u001b[39;49m\u001b[43mbounds\u001b[49m\u001b[43m,\u001b[49m\n\u001b[1;32m    444\u001b[0m \u001b[43m        \u001b[49m\u001b[43mdiscrete_dims\u001b[49m\u001b[38;5;241;43m=\u001b[39;49m\u001b[43msearch_space_digest\u001b[49m\u001b[38;5;241;43m.\u001b[39;49m\u001b[43mordinal_features\u001b[49m\u001b[43m,\u001b[49m\n\u001b[1;32m    445\u001b[0m \u001b[43m        \u001b[49m\u001b[43mq\u001b[49m\u001b[38;5;241;43m=\u001b[39;49m\u001b[43mn\u001b[49m\u001b[43m,\u001b[49m\n\u001b[1;32m    446\u001b[0m \u001b[43m        \u001b[49m\u001b[43mpost_processing_func\u001b[49m\u001b[38;5;241;43m=\u001b[39;49m\u001b[43mrounding_func\u001b[49m\u001b[43m,\u001b[49m\n\u001b[1;32m    447\u001b[0m \u001b[43m        \u001b[49m\u001b[43mfixed_features\u001b[49m\u001b[38;5;241;43m=\u001b[39;49m\u001b[43mfixed_features\u001b[49m\u001b[43m,\u001b[49m\n\u001b[1;32m    448\u001b[0m \u001b[43m        \u001b[49m\u001b[43minequality_constraints\u001b[49m\u001b[38;5;241;43m=\u001b[39;49m\u001b[43minequality_constraints\u001b[49m\u001b[43m,\u001b[49m\n\u001b[1;32m    449\u001b[0m \u001b[43m        \u001b[49m\u001b[38;5;241;43m*\u001b[39;49m\u001b[38;5;241;43m*\u001b[39;49m\u001b[43moptimizer_options_with_defaults\u001b[49m\u001b[43m,\u001b[49m\n\u001b[1;32m    450\u001b[0m \u001b[43m    \u001b[49m\u001b[43m)\u001b[49m\n\u001b[1;32m    451\u001b[0m \u001b[38;5;28;01melse\u001b[39;00m:\n\u001b[1;32m    452\u001b[0m     \u001b[38;5;28;01mraise\u001b[39;00m AxError(  \u001b[38;5;66;03m# pragma: no cover\u001b[39;00m\n\u001b[1;32m    453\u001b[0m         \u001b[38;5;124mf\u001b[39m\u001b[38;5;124m\"\u001b[39m\u001b[38;5;124mUnknown optimizer: \u001b[39m\u001b[38;5;132;01m{\u001b[39;00moptimizer\u001b[38;5;132;01m}\u001b[39;00m\u001b[38;5;124m. This code should be unreachable.\u001b[39m\u001b[38;5;124m\"\u001b[39m\n\u001b[1;32m    454\u001b[0m     )\n",
      "File \u001b[0;32m~/Python/.venv/lib/python3.12/site-packages/botorch/optim/optimize_mixed.py:702\u001b[0m, in \u001b[0;36moptimize_acqf_mixed_alternating\u001b[0;34m(acq_function, bounds, discrete_dims, options, q, raw_samples, num_restarts, post_processing_func, sequential, fixed_features, inequality_constraints)\u001b[0m\n\u001b[1;32m    699\u001b[0m candidates \u001b[38;5;241m=\u001b[39m torch\u001b[38;5;241m.\u001b[39mempty(\u001b[38;5;241m0\u001b[39m, dim, \u001b[38;5;241m*\u001b[39m\u001b[38;5;241m*\u001b[39mtkwargs)\n\u001b[1;32m    700\u001b[0m \u001b[38;5;28;01mfor\u001b[39;00m _q \u001b[38;5;129;01min\u001b[39;00m \u001b[38;5;28mrange\u001b[39m(q):\n\u001b[1;32m    701\u001b[0m     \u001b[38;5;66;03m# Generate starting points.\u001b[39;00m\n\u001b[0;32m--> 702\u001b[0m     best_X, best_acq_val \u001b[38;5;241m=\u001b[39m \u001b[43mgenerate_starting_points\u001b[49m\u001b[43m(\u001b[49m\n\u001b[1;32m    703\u001b[0m \u001b[43m        \u001b[49m\u001b[43mopt_inputs\u001b[49m\u001b[38;5;241;43m=\u001b[39;49m\u001b[43mopt_inputs\u001b[49m\u001b[43m,\u001b[49m\n\u001b[1;32m    704\u001b[0m \u001b[43m        \u001b[49m\u001b[43mdiscrete_dims\u001b[49m\u001b[38;5;241;43m=\u001b[39;49m\u001b[43mdiscrete_dims_t\u001b[49m\u001b[43m,\u001b[49m\n\u001b[1;32m    705\u001b[0m \u001b[43m        \u001b[49m\u001b[43mcont_dims\u001b[49m\u001b[38;5;241;43m=\u001b[39;49m\u001b[43mcont_dims\u001b[49m\u001b[43m,\u001b[49m\n\u001b[1;32m    706\u001b[0m \u001b[43m    \u001b[49m\u001b[43m)\u001b[49m\n\u001b[1;32m    708\u001b[0m     \u001b[38;5;66;03m# TODO: Eliminate this for loop. Tensors being unequal sizes could potentially\u001b[39;00m\n\u001b[1;32m    709\u001b[0m     \u001b[38;5;66;03m# be handled by concatenating them rather than stacking, and keeping a list\u001b[39;00m\n\u001b[1;32m    710\u001b[0m     \u001b[38;5;66;03m# of indices.\u001b[39;00m\n\u001b[1;32m    711\u001b[0m     \u001b[38;5;28;01mfor\u001b[39;00m i \u001b[38;5;129;01min\u001b[39;00m \u001b[38;5;28mrange\u001b[39m(num_restarts):\n",
      "File \u001b[0;32m~/Python/.venv/lib/python3.12/site-packages/botorch/optim/optimize_mixed.py:359\u001b[0m, in \u001b[0;36mgenerate_starting_points\u001b[0;34m(opt_inputs, discrete_dims, cont_dims)\u001b[0m\n\u001b[1;32m    347\u001b[0m \u001b[38;5;28;01mtry\u001b[39;00m:\n\u001b[1;32m    348\u001b[0m     \u001b[38;5;66;03m# Optimize the acquisition function with continuous relaxation.\u001b[39;00m\n\u001b[1;32m    349\u001b[0m     updated_opt_inputs \u001b[38;5;241m=\u001b[39m dataclasses\u001b[38;5;241m.\u001b[39mreplace(\n\u001b[1;32m    350\u001b[0m         opt_inputs,\n\u001b[1;32m    351\u001b[0m         q\u001b[38;5;241m=\u001b[39m\u001b[38;5;241m1\u001b[39m,\n\u001b[0;32m   (...)\u001b[0m\n\u001b[1;32m    357\u001b[0m         },\n\u001b[1;32m    358\u001b[0m     )\n\u001b[0;32m--> 359\u001b[0m     x_init_candts, _ \u001b[38;5;241m=\u001b[39m \u001b[43m_optimize_acqf\u001b[49m\u001b[43m(\u001b[49m\u001b[43mopt_inputs\u001b[49m\u001b[38;5;241;43m=\u001b[39;49m\u001b[43mupdated_opt_inputs\u001b[49m\u001b[43m)\u001b[49m\n\u001b[1;32m    360\u001b[0m     x_init_candts \u001b[38;5;241m=\u001b[39m x_init_candts\u001b[38;5;241m.\u001b[39msqueeze(\u001b[38;5;241m-\u001b[39m\u001b[38;5;241m2\u001b[39m)\u001b[38;5;241m.\u001b[39mdetach()\n\u001b[1;32m    361\u001b[0m \u001b[38;5;28;01mexcept\u001b[39;00m \u001b[38;5;167;01mException\u001b[39;00m \u001b[38;5;28;01mas\u001b[39;00m e:\n",
      "File \u001b[0;32m~/Python/.venv/lib/python3.12/site-packages/botorch/optim/optimize.py:652\u001b[0m, in \u001b[0;36m_optimize_acqf\u001b[0;34m(opt_inputs)\u001b[0m\n\u001b[1;32m    649\u001b[0m     \u001b[38;5;28;01mreturn\u001b[39;00m _optimize_acqf_sequential_q(opt_inputs\u001b[38;5;241m=\u001b[39mopt_inputs)\n\u001b[1;32m    651\u001b[0m \u001b[38;5;66;03m# Batch optimization (including the case q=1)\u001b[39;00m\n\u001b[0;32m--> 652\u001b[0m \u001b[38;5;28;01mreturn\u001b[39;00m \u001b[43m_optimize_acqf_batch\u001b[49m\u001b[43m(\u001b[49m\u001b[43mopt_inputs\u001b[49m\u001b[38;5;241;43m=\u001b[39;49m\u001b[43mopt_inputs\u001b[49m\u001b[43m)\u001b[49m\n",
      "File \u001b[0;32m~/Python/.venv/lib/python3.12/site-packages/botorch/optim/optimize.py:326\u001b[0m, in \u001b[0;36m_optimize_acqf_batch\u001b[0;34m(opt_inputs)\u001b[0m\n\u001b[1;32m    321\u001b[0m     required_num_restarts \u001b[38;5;241m-\u001b[39m\u001b[38;5;241m=\u001b[39m provided_initial_conditions\u001b[38;5;241m.\u001b[39mshape[\u001b[38;5;241m0\u001b[39m]\n\u001b[1;32m    323\u001b[0m \u001b[38;5;28;01mif\u001b[39;00m opt_inputs\u001b[38;5;241m.\u001b[39mraw_samples \u001b[38;5;129;01mis\u001b[39;00m \u001b[38;5;129;01mnot\u001b[39;00m \u001b[38;5;28;01mNone\u001b[39;00m \u001b[38;5;129;01mand\u001b[39;00m required_num_restarts \u001b[38;5;241m>\u001b[39m \u001b[38;5;241m0\u001b[39m:\n\u001b[1;32m    324\u001b[0m     \u001b[38;5;66;03m# pyre-ignore[28]: Unexpected keyword argument `acq_function`\u001b[39;00m\n\u001b[1;32m    325\u001b[0m     \u001b[38;5;66;03m# to anonymous call.\u001b[39;00m\n\u001b[0;32m--> 326\u001b[0m     generated_initial_conditions \u001b[38;5;241m=\u001b[39m \u001b[43mopt_inputs\u001b[49m\u001b[38;5;241;43m.\u001b[39;49m\u001b[43mget_ic_generator\u001b[49m\u001b[43m(\u001b[49m\u001b[43m)\u001b[49m\u001b[43m(\u001b[49m\n\u001b[1;32m    327\u001b[0m \u001b[43m        \u001b[49m\u001b[43macq_function\u001b[49m\u001b[38;5;241;43m=\u001b[39;49m\u001b[43mopt_inputs\u001b[49m\u001b[38;5;241;43m.\u001b[39;49m\u001b[43macq_function\u001b[49m\u001b[43m,\u001b[49m\n\u001b[1;32m    328\u001b[0m \u001b[43m        \u001b[49m\u001b[43mbounds\u001b[49m\u001b[38;5;241;43m=\u001b[39;49m\u001b[43mopt_inputs\u001b[49m\u001b[38;5;241;43m.\u001b[39;49m\u001b[43mbounds\u001b[49m\u001b[43m,\u001b[49m\n\u001b[1;32m    329\u001b[0m \u001b[43m        \u001b[49m\u001b[43mq\u001b[49m\u001b[38;5;241;43m=\u001b[39;49m\u001b[43mopt_inputs\u001b[49m\u001b[38;5;241;43m.\u001b[39;49m\u001b[43mq\u001b[49m\u001b[43m,\u001b[49m\n\u001b[1;32m    330\u001b[0m \u001b[43m        \u001b[49m\u001b[43mnum_restarts\u001b[49m\u001b[38;5;241;43m=\u001b[39;49m\u001b[43mrequired_num_restarts\u001b[49m\u001b[43m,\u001b[49m\n\u001b[1;32m    331\u001b[0m \u001b[43m        \u001b[49m\u001b[43mraw_samples\u001b[49m\u001b[38;5;241;43m=\u001b[39;49m\u001b[43mopt_inputs\u001b[49m\u001b[38;5;241;43m.\u001b[39;49m\u001b[43mraw_samples\u001b[49m\u001b[43m,\u001b[49m\n\u001b[1;32m    332\u001b[0m \u001b[43m        \u001b[49m\u001b[43mfixed_features\u001b[49m\u001b[38;5;241;43m=\u001b[39;49m\u001b[43mopt_inputs\u001b[49m\u001b[38;5;241;43m.\u001b[39;49m\u001b[43mfixed_features\u001b[49m\u001b[43m,\u001b[49m\n\u001b[1;32m    333\u001b[0m \u001b[43m        \u001b[49m\u001b[43moptions\u001b[49m\u001b[38;5;241;43m=\u001b[39;49m\u001b[43moptions\u001b[49m\u001b[43m,\u001b[49m\n\u001b[1;32m    334\u001b[0m \u001b[43m        \u001b[49m\u001b[43minequality_constraints\u001b[49m\u001b[38;5;241;43m=\u001b[39;49m\u001b[43mopt_inputs\u001b[49m\u001b[38;5;241;43m.\u001b[39;49m\u001b[43minequality_constraints\u001b[49m\u001b[43m,\u001b[49m\n\u001b[1;32m    335\u001b[0m \u001b[43m        \u001b[49m\u001b[43mequality_constraints\u001b[49m\u001b[38;5;241;43m=\u001b[39;49m\u001b[43mopt_inputs\u001b[49m\u001b[38;5;241;43m.\u001b[39;49m\u001b[43mequality_constraints\u001b[49m\u001b[43m,\u001b[49m\n\u001b[1;32m    336\u001b[0m \u001b[43m        \u001b[49m\u001b[38;5;241;43m*\u001b[39;49m\u001b[38;5;241;43m*\u001b[39;49m\u001b[43mopt_inputs\u001b[49m\u001b[38;5;241;43m.\u001b[39;49m\u001b[43mic_gen_kwargs\u001b[49m\u001b[43m,\u001b[49m\n\u001b[1;32m    337\u001b[0m \u001b[43m    \u001b[49m\u001b[43m)\u001b[49m\n\u001b[1;32m    339\u001b[0m batch_initial_conditions \u001b[38;5;241m=\u001b[39m _combine_initial_conditions(\n\u001b[1;32m    340\u001b[0m     provided_initial_conditions\u001b[38;5;241m=\u001b[39mprovided_initial_conditions,\n\u001b[1;32m    341\u001b[0m     generated_initial_conditions\u001b[38;5;241m=\u001b[39mgenerated_initial_conditions,\n\u001b[1;32m    342\u001b[0m )\n\u001b[1;32m    344\u001b[0m batch_limit: \u001b[38;5;28mint\u001b[39m \u001b[38;5;241m=\u001b[39m options\u001b[38;5;241m.\u001b[39mget(\n\u001b[1;32m    345\u001b[0m     \u001b[38;5;124m\"\u001b[39m\u001b[38;5;124mbatch_limit\u001b[39m\u001b[38;5;124m\"\u001b[39m,\n\u001b[1;32m    346\u001b[0m     (\n\u001b[0;32m   (...)\u001b[0m\n\u001b[1;32m    350\u001b[0m     ),\n\u001b[1;32m    351\u001b[0m )\n",
      "File \u001b[0;32m~/Python/.venv/lib/python3.12/site-packages/botorch/optim/initializers.py:382\u001b[0m, in \u001b[0;36mgen_batch_initial_conditions\u001b[0;34m(acq_function, bounds, q, num_restarts, raw_samples, fixed_features, options, inequality_constraints, equality_constraints, generator, fixed_X_fantasies)\u001b[0m\n\u001b[1;32m    378\u001b[0m         X_rnd \u001b[38;5;241m=\u001b[39m unnormalize(\n\u001b[1;32m    379\u001b[0m             X_rnd_nlzd, bounds_cpu, update_constant_bounds\u001b[38;5;241m=\u001b[39m\u001b[38;5;28;01mFalse\u001b[39;00m\n\u001b[1;32m    380\u001b[0m         )\n\u001b[1;32m    381\u001b[0m \u001b[38;5;28;01melse\u001b[39;00m:\n\u001b[0;32m--> 382\u001b[0m     X_rnd \u001b[38;5;241m=\u001b[39m \u001b[43msample_q_batches_from_polytope\u001b[49m\u001b[43m(\u001b[49m\n\u001b[1;32m    383\u001b[0m \u001b[43m        \u001b[49m\u001b[43mn\u001b[49m\u001b[38;5;241;43m=\u001b[39;49m\u001b[43mn\u001b[49m\u001b[43m,\u001b[49m\n\u001b[1;32m    384\u001b[0m \u001b[43m        \u001b[49m\u001b[43mq\u001b[49m\u001b[38;5;241;43m=\u001b[39;49m\u001b[43mq\u001b[49m\u001b[43m,\u001b[49m\n\u001b[1;32m    385\u001b[0m \u001b[43m        \u001b[49m\u001b[43mbounds\u001b[49m\u001b[38;5;241;43m=\u001b[39;49m\u001b[43mbounds\u001b[49m\u001b[43m,\u001b[49m\n\u001b[1;32m    386\u001b[0m \u001b[43m        \u001b[49m\u001b[43mn_burnin\u001b[49m\u001b[38;5;241;43m=\u001b[39;49m\u001b[43moptions\u001b[49m\u001b[38;5;241;43m.\u001b[39;49m\u001b[43mget\u001b[49m\u001b[43m(\u001b[49m\u001b[38;5;124;43m\"\u001b[39;49m\u001b[38;5;124;43mn_burnin\u001b[39;49m\u001b[38;5;124;43m\"\u001b[39;49m\u001b[43m,\u001b[49m\u001b[43m \u001b[49m\u001b[38;5;241;43m10000\u001b[39;49m\u001b[43m)\u001b[49m\u001b[43m,\u001b[49m\n\u001b[1;32m    387\u001b[0m \u001b[43m        \u001b[49m\u001b[43mn_thinning\u001b[49m\u001b[38;5;241;43m=\u001b[39;49m\u001b[43moptions\u001b[49m\u001b[38;5;241;43m.\u001b[39;49m\u001b[43mget\u001b[49m\u001b[43m(\u001b[49m\u001b[38;5;124;43m\"\u001b[39;49m\u001b[38;5;124;43mn_thinning\u001b[39;49m\u001b[38;5;124;43m\"\u001b[39;49m\u001b[43m,\u001b[49m\u001b[43m \u001b[49m\u001b[38;5;241;43m32\u001b[39;49m\u001b[43m)\u001b[49m\u001b[43m,\u001b[49m\n\u001b[1;32m    388\u001b[0m \u001b[43m        \u001b[49m\u001b[43mseed\u001b[49m\u001b[38;5;241;43m=\u001b[39;49m\u001b[43mseed\u001b[49m\u001b[43m,\u001b[49m\n\u001b[1;32m    389\u001b[0m \u001b[43m        \u001b[49m\u001b[43mequality_constraints\u001b[49m\u001b[38;5;241;43m=\u001b[39;49m\u001b[43mequality_constraints\u001b[49m\u001b[43m,\u001b[49m\n\u001b[1;32m    390\u001b[0m \u001b[43m        \u001b[49m\u001b[43minequality_constraints\u001b[49m\u001b[38;5;241;43m=\u001b[39;49m\u001b[43minequality_constraints\u001b[49m\u001b[43m,\u001b[49m\n\u001b[1;32m    391\u001b[0m \u001b[43m    \u001b[49m\u001b[43m)\u001b[49m\n\u001b[1;32m    393\u001b[0m \u001b[38;5;66;03m# sample additional points around best\u001b[39;00m\n\u001b[1;32m    394\u001b[0m \u001b[38;5;28;01mif\u001b[39;00m sample_around_best:\n",
      "File \u001b[0;32m~/Python/.venv/lib/python3.12/site-packages/botorch/optim/initializers.py:233\u001b[0m, in \u001b[0;36msample_q_batches_from_polytope\u001b[0;34m(n, q, bounds, n_burnin, n_thinning, seed, inequality_constraints, equality_constraints)\u001b[0m\n\u001b[1;32m    219\u001b[0m     samples \u001b[38;5;241m=\u001b[39m get_polytope_samples(\n\u001b[1;32m    220\u001b[0m         n\u001b[38;5;241m=\u001b[39mn,\n\u001b[1;32m    221\u001b[0m         bounds\u001b[38;5;241m=\u001b[39mtorch\u001b[38;5;241m.\u001b[39mhstack([bounds \u001b[38;5;28;01mfor\u001b[39;00m _ \u001b[38;5;129;01min\u001b[39;00m \u001b[38;5;28mrange\u001b[39m(q)]),\n\u001b[0;32m   (...)\u001b[0m\n\u001b[1;32m    230\u001b[0m         n_thinning\u001b[38;5;241m=\u001b[39mn_thinning \u001b[38;5;241m*\u001b[39m q,\n\u001b[1;32m    231\u001b[0m     )\n\u001b[1;32m    232\u001b[0m \u001b[38;5;28;01melse\u001b[39;00m:\n\u001b[0;32m--> 233\u001b[0m     samples \u001b[38;5;241m=\u001b[39m \u001b[43mget_polytope_samples\u001b[49m\u001b[43m(\u001b[49m\n\u001b[1;32m    234\u001b[0m \u001b[43m        \u001b[49m\u001b[43mn\u001b[49m\u001b[38;5;241;43m=\u001b[39;49m\u001b[43mn\u001b[49m\u001b[43m \u001b[49m\u001b[38;5;241;43m*\u001b[39;49m\u001b[43m \u001b[49m\u001b[43mq\u001b[49m\u001b[43m,\u001b[49m\n\u001b[1;32m    235\u001b[0m \u001b[43m        \u001b[49m\u001b[43mbounds\u001b[49m\u001b[38;5;241;43m=\u001b[39;49m\u001b[43mbounds\u001b[49m\u001b[43m,\u001b[49m\n\u001b[1;32m    236\u001b[0m \u001b[43m        \u001b[49m\u001b[43minequality_constraints\u001b[49m\u001b[38;5;241;43m=\u001b[39;49m\u001b[43minequality_constraints\u001b[49m\u001b[43m,\u001b[49m\n\u001b[1;32m    237\u001b[0m \u001b[43m        \u001b[49m\u001b[43mequality_constraints\u001b[49m\u001b[38;5;241;43m=\u001b[39;49m\u001b[43mequality_constraints\u001b[49m\u001b[43m,\u001b[49m\n\u001b[1;32m    238\u001b[0m \u001b[43m        \u001b[49m\u001b[43mseed\u001b[49m\u001b[38;5;241;43m=\u001b[39;49m\u001b[43mseed\u001b[49m\u001b[43m,\u001b[49m\n\u001b[1;32m    239\u001b[0m \u001b[43m        \u001b[49m\u001b[43mn_burnin\u001b[49m\u001b[38;5;241;43m=\u001b[39;49m\u001b[43mn_burnin\u001b[49m\u001b[43m,\u001b[49m\n\u001b[1;32m    240\u001b[0m \u001b[43m        \u001b[49m\u001b[43mn_thinning\u001b[49m\u001b[38;5;241;43m=\u001b[39;49m\u001b[43mn_thinning\u001b[49m\u001b[43m,\u001b[49m\n\u001b[1;32m    241\u001b[0m \u001b[43m    \u001b[49m\u001b[43m)\u001b[49m\n\u001b[1;32m    242\u001b[0m \u001b[38;5;28;01mreturn\u001b[39;00m samples\u001b[38;5;241m.\u001b[39mview(n, q, \u001b[38;5;241m-\u001b[39m\u001b[38;5;241m1\u001b[39m)\u001b[38;5;241m.\u001b[39mcpu()\n",
      "File \u001b[0;32m~/Python/.venv/lib/python3.12/site-packages/botorch/utils/sampling.py:956\u001b[0m, in \u001b[0;36mget_polytope_samples\u001b[0;34m(n, bounds, inequality_constraints, equality_constraints, seed, n_burnin, n_thinning)\u001b[0m\n\u001b[1;32m    947\u001b[0m     dense_equality_constraints \u001b[38;5;241m=\u001b[39m \u001b[38;5;28;01mNone\u001b[39;00m\n\u001b[1;32m    948\u001b[0m polytope_sampler \u001b[38;5;241m=\u001b[39m HitAndRunPolytopeSampler(\n\u001b[1;32m    949\u001b[0m     bounds\u001b[38;5;241m=\u001b[39mbounds,\n\u001b[1;32m    950\u001b[0m     inequality_constraints\u001b[38;5;241m=\u001b[39mdense_inequality_constraints,\n\u001b[0;32m   (...)\u001b[0m\n\u001b[1;32m    954\u001b[0m     seed\u001b[38;5;241m=\u001b[39mseed,\n\u001b[1;32m    955\u001b[0m )\n\u001b[0;32m--> 956\u001b[0m \u001b[38;5;28;01mreturn\u001b[39;00m \u001b[43mpolytope_sampler\u001b[49m\u001b[38;5;241;43m.\u001b[39;49m\u001b[43mdraw\u001b[49m\u001b[43m(\u001b[49m\u001b[43mn\u001b[49m\u001b[38;5;241;43m=\u001b[39;49m\u001b[43mn\u001b[49m\u001b[43m)\u001b[49m\n",
      "File \u001b[0;32m~/Python/.venv/lib/python3.12/site-packages/botorch/utils/sampling.py:682\u001b[0m, in \u001b[0;36mHitAndRunPolytopeSampler.draw\u001b[0;34m(self, n)\u001b[0m\n\u001b[1;32m    668\u001b[0m \u001b[38;5;250m\u001b[39m\u001b[38;5;124mr\u001b[39m\u001b[38;5;124;03m\"\"\"Draw samples from the polytope.\u001b[39;00m\n\u001b[1;32m    669\u001b[0m \n\u001b[1;32m    670\u001b[0m \u001b[38;5;124;03mArgs:\u001b[39;00m\n\u001b[0;32m   (...)\u001b[0m\n\u001b[1;32m    674\u001b[0m \u001b[38;5;124;03m    A `n x d` Tensor of samples from the polytope.\u001b[39;00m\n\u001b[1;32m    675\u001b[0m \u001b[38;5;124;03m\"\"\"\u001b[39;00m\n\u001b[1;32m    676\u001b[0m \u001b[38;5;66;03m# There are two layers of normalization. In the outer layer, the space\u001b[39;00m\n\u001b[1;32m    677\u001b[0m \u001b[38;5;66;03m# has been normalized to the unit cube. In the inner layer, we remove\u001b[39;00m\n\u001b[1;32m    678\u001b[0m \u001b[38;5;66;03m# any equality constraints and sample on the subspace defined by those\u001b[39;00m\n\u001b[1;32m    679\u001b[0m \u001b[38;5;66;03m# equality constraints, with an additional shift to normalize the interior\u001b[39;00m\n\u001b[1;32m    680\u001b[0m \u001b[38;5;66;03m# point to the origin. Below, after sampling in that inner layer, we have\u001b[39;00m\n\u001b[1;32m    681\u001b[0m \u001b[38;5;66;03m# to reverse both layers of normalization.\u001b[39;00m\n\u001b[0;32m--> 682\u001b[0m transformed_samples \u001b[38;5;241m=\u001b[39m \u001b[43msample_polytope\u001b[49m\u001b[43m(\u001b[49m\n\u001b[1;32m    683\u001b[0m \u001b[43m    \u001b[49m\u001b[38;5;66;43;03m# Run this on the cpu since there is a lot of looping going on\u001b[39;49;00m\n\u001b[1;32m    684\u001b[0m \u001b[43m    \u001b[49m\u001b[43mA\u001b[49m\u001b[38;5;241;43m=\u001b[39;49m\u001b[38;5;28;43mself\u001b[39;49m\u001b[38;5;241;43m.\u001b[39;49m\u001b[43mnew_A\u001b[49m\u001b[38;5;241;43m.\u001b[39;49m\u001b[43mcpu\u001b[49m\u001b[43m(\u001b[49m\u001b[43m)\u001b[49m\u001b[43m,\u001b[49m\n\u001b[1;32m    685\u001b[0m \u001b[43m    \u001b[49m\u001b[43mb\u001b[49m\u001b[38;5;241;43m=\u001b[39;49m\u001b[43m(\u001b[49m\u001b[38;5;28;43mself\u001b[39;49m\u001b[38;5;241;43m.\u001b[39;49m\u001b[43mb\u001b[49m\u001b[43m \u001b[49m\u001b[38;5;241;43m-\u001b[39;49m\u001b[43m \u001b[49m\u001b[38;5;28;43mself\u001b[39;49m\u001b[38;5;241;43m.\u001b[39;49m\u001b[43mA\u001b[49m\u001b[43m \u001b[49m\u001b[38;5;241;43m@\u001b[39;49m\u001b[43m \u001b[49m\u001b[38;5;28;43mself\u001b[39;49m\u001b[38;5;241;43m.\u001b[39;49m\u001b[43mx0\u001b[49m\u001b[43m)\u001b[49m\u001b[38;5;241;43m.\u001b[39;49m\u001b[43mcpu\u001b[49m\u001b[43m(\u001b[49m\u001b[43m)\u001b[49m\u001b[43m,\u001b[49m\n\u001b[1;32m    686\u001b[0m \u001b[43m    \u001b[49m\u001b[43mx0\u001b[49m\u001b[38;5;241;43m=\u001b[39;49m\u001b[43mtorch\u001b[49m\u001b[38;5;241;43m.\u001b[39;49m\u001b[43mzeros\u001b[49m\u001b[43m(\u001b[49m\n\u001b[1;32m    687\u001b[0m \u001b[43m        \u001b[49m\u001b[43m(\u001b[49m\u001b[38;5;28;43mself\u001b[39;49m\u001b[38;5;241;43m.\u001b[39;49m\u001b[43mnullC\u001b[49m\u001b[38;5;241;43m.\u001b[39;49m\u001b[43msize\u001b[49m\u001b[43m(\u001b[49m\u001b[38;5;241;43m1\u001b[39;49m\u001b[43m)\u001b[49m\u001b[43m,\u001b[49m\u001b[43m \u001b[49m\u001b[38;5;241;43m1\u001b[39;49m\u001b[43m)\u001b[49m\u001b[43m,\u001b[49m\u001b[43m \u001b[49m\u001b[43mdtype\u001b[49m\u001b[38;5;241;43m=\u001b[39;49m\u001b[38;5;28;43mself\u001b[39;49m\u001b[38;5;241;43m.\u001b[39;49m\u001b[43mA\u001b[49m\u001b[38;5;241;43m.\u001b[39;49m\u001b[43mdtype\u001b[49m\u001b[43m,\u001b[49m\u001b[43m \u001b[49m\u001b[43mdevice\u001b[49m\u001b[38;5;241;43m=\u001b[39;49m\u001b[43mtorch\u001b[49m\u001b[38;5;241;43m.\u001b[39;49m\u001b[43mdevice\u001b[49m\u001b[43m(\u001b[49m\u001b[38;5;124;43m\"\u001b[39;49m\u001b[38;5;124;43mcpu\u001b[39;49m\u001b[38;5;124;43m\"\u001b[39;49m\u001b[43m)\u001b[49m\n\u001b[1;32m    688\u001b[0m \u001b[43m    \u001b[49m\u001b[43m)\u001b[49m\u001b[43m,\u001b[49m\n\u001b[1;32m    689\u001b[0m \u001b[43m    \u001b[49m\u001b[43mn\u001b[49m\u001b[38;5;241;43m=\u001b[39;49m\u001b[43mn\u001b[49m\u001b[43m,\u001b[49m\n\u001b[1;32m    690\u001b[0m \u001b[43m    \u001b[49m\u001b[43mn0\u001b[49m\u001b[38;5;241;43m=\u001b[39;49m\u001b[38;5;28;43mself\u001b[39;49m\u001b[38;5;241;43m.\u001b[39;49m\u001b[43mn_burnin\u001b[49m\u001b[43m \u001b[49m\u001b[38;5;28;43;01mif\u001b[39;49;00m\u001b[43m \u001b[49m\u001b[38;5;28;43mself\u001b[39;49m\u001b[38;5;241;43m.\u001b[39;49m\u001b[43mnum_samples_generated\u001b[49m\u001b[43m \u001b[49m\u001b[38;5;241;43m==\u001b[39;49m\u001b[43m \u001b[49m\u001b[38;5;241;43m0\u001b[39;49m\u001b[43m \u001b[49m\u001b[38;5;28;43;01melse\u001b[39;49;00m\u001b[43m \u001b[49m\u001b[38;5;241;43m0\u001b[39;49m\u001b[43m,\u001b[49m\n\u001b[1;32m    691\u001b[0m \u001b[43m    \u001b[49m\u001b[43mn_thinning\u001b[49m\u001b[38;5;241;43m=\u001b[39;49m\u001b[38;5;28;43mself\u001b[39;49m\u001b[38;5;241;43m.\u001b[39;49m\u001b[43mn_thinning\u001b[49m\u001b[43m,\u001b[49m\n\u001b[1;32m    692\u001b[0m \u001b[43m    \u001b[49m\u001b[43mseed\u001b[49m\u001b[38;5;241;43m=\u001b[39;49m\u001b[38;5;28;43mself\u001b[39;49m\u001b[38;5;241;43m.\u001b[39;49m\u001b[43m_seed\u001b[49m\u001b[43m,\u001b[49m\n\u001b[1;32m    693\u001b[0m \u001b[43m\u001b[49m\u001b[43m)\u001b[49m\u001b[38;5;241m.\u001b[39mto(\u001b[38;5;28mself\u001b[39m\u001b[38;5;241m.\u001b[39mb)\n\u001b[1;32m    694\u001b[0m \u001b[38;5;66;03m# Update the seed for the next call in a deterministic fashion\u001b[39;00m\n\u001b[1;32m    695\u001b[0m \u001b[38;5;28;01mif\u001b[39;00m \u001b[38;5;28mself\u001b[39m\u001b[38;5;241m.\u001b[39m_seed \u001b[38;5;129;01mis\u001b[39;00m \u001b[38;5;129;01mnot\u001b[39;00m \u001b[38;5;28;01mNone\u001b[39;00m:\n",
      "File \u001b[0;32m~/Python/.venv/lib/python3.12/site-packages/botorch/utils/sampling.py:278\u001b[0m, in \u001b[0;36msample_polytope\u001b[0;34m(A, b, x0, n, n0, n_thinning, seed)\u001b[0m\n\u001b[1;32m    276\u001b[0m x \u001b[38;5;241m=\u001b[39m x0\u001b[38;5;241m.\u001b[39mclone()\n\u001b[1;32m    277\u001b[0m large_constant \u001b[38;5;241m=\u001b[39m torch\u001b[38;5;241m.\u001b[39mfinfo()\u001b[38;5;241m.\u001b[39mmax\n\u001b[0;32m--> 278\u001b[0m \u001b[38;5;28;01mfor\u001b[39;00m i, (ar, r, rnd) \u001b[38;5;129;01min\u001b[39;00m \u001b[38;5;28menumerate\u001b[39m(\u001b[38;5;28;43mzip\u001b[39;49m\u001b[43m(\u001b[49m\u001b[43mARs\u001b[49m\u001b[43m,\u001b[49m\u001b[43m \u001b[49m\u001b[43mRs\u001b[49m\u001b[43m,\u001b[49m\u001b[43m \u001b[49m\u001b[43mrands\u001b[49m\u001b[43m)\u001b[49m):\n\u001b[1;32m    279\u001b[0m     \u001b[38;5;66;03m# Given x, the next point in the chain is x+alpha*r.\u001b[39;00m\n\u001b[1;32m    280\u001b[0m     \u001b[38;5;66;03m# It must satisfy A(x+alpha*r)<=b, which implies A*alpha*r<=b-Ax,\u001b[39;00m\n\u001b[1;32m    281\u001b[0m     \u001b[38;5;66;03m# so alpha<=(b-Ax)/ar for ar>0, and alpha>=(b-Ax)/ar for ar<0.\u001b[39;00m\n\u001b[1;32m    282\u001b[0m     \u001b[38;5;66;03m# If x is at the boundary, b - Ax = 0. If ar > 0, then we must\u001b[39;00m\n\u001b[1;32m    283\u001b[0m     \u001b[38;5;66;03m# have alpha <= 0. If ar < 0, we must have alpha >= 0.\u001b[39;00m\n\u001b[1;32m    284\u001b[0m     \u001b[38;5;66;03m# ar == 0 is an unlikely event that provides no signal.\u001b[39;00m\n\u001b[1;32m    285\u001b[0m     \u001b[38;5;66;03m# b - A @ x is always >= 0, clamping for numerical tolerances.\u001b[39;00m\n\u001b[1;32m    286\u001b[0m     w \u001b[38;5;241m=\u001b[39m (b \u001b[38;5;241m-\u001b[39m A \u001b[38;5;241m@\u001b[39m x)\u001b[38;5;241m.\u001b[39msqueeze()\u001b[38;5;241m.\u001b[39mclamp(\u001b[38;5;28mmin\u001b[39m\u001b[38;5;241m=\u001b[39m\u001b[38;5;241m0.0\u001b[39m) \u001b[38;5;241m/\u001b[39m ar\n\u001b[1;32m    287\u001b[0m     \u001b[38;5;66;03m# Find upper bound for alpha. If there are no constraints on\u001b[39;00m\n\u001b[1;32m    288\u001b[0m     \u001b[38;5;66;03m# the upper bound of alpha, set it to a large value.\u001b[39;00m\n",
      "File \u001b[0;32m~/Python/.venv/lib/python3.12/site-packages/torch/_tensor.py:1053\u001b[0m, in \u001b[0;36mTensor.__iter__\u001b[0;34m(self)\u001b[0m\n\u001b[1;32m   1044\u001b[0m \u001b[38;5;28;01mif\u001b[39;00m torch\u001b[38;5;241m.\u001b[39m_C\u001b[38;5;241m.\u001b[39m_get_tracing_state():\n\u001b[1;32m   1045\u001b[0m     warnings\u001b[38;5;241m.\u001b[39mwarn(\n\u001b[1;32m   1046\u001b[0m         \u001b[38;5;124m\"\u001b[39m\u001b[38;5;124mIterating over a tensor might cause the trace to be incorrect. \u001b[39m\u001b[38;5;124m\"\u001b[39m\n\u001b[1;32m   1047\u001b[0m         \u001b[38;5;124m\"\u001b[39m\u001b[38;5;124mPassing a tensor of different shape won\u001b[39m\u001b[38;5;124m'\u001b[39m\u001b[38;5;124mt change the number of \u001b[39m\u001b[38;5;124m\"\u001b[39m\n\u001b[0;32m   (...)\u001b[0m\n\u001b[1;32m   1051\u001b[0m         stacklevel\u001b[38;5;241m=\u001b[39m\u001b[38;5;241m2\u001b[39m,\n\u001b[1;32m   1052\u001b[0m     )\n\u001b[0;32m-> 1053\u001b[0m \u001b[38;5;28;01mreturn\u001b[39;00m \u001b[38;5;28miter\u001b[39m(\u001b[38;5;28;43mself\u001b[39;49m\u001b[38;5;241;43m.\u001b[39;49m\u001b[43munbind\u001b[49m\u001b[43m(\u001b[49m\u001b[38;5;241;43m0\u001b[39;49m\u001b[43m)\u001b[49m)\n",
      "\u001b[0;31mKeyboardInterrupt\u001b[0m: "
     ]
    }
   ],
   "source": [
    "for i in range(100):\n",
    "    parameterization, trial_index = Tag_client.get_next_trial()\n",
    "    # Local evaluation here can be replaced with deployment to external system.\n",
    "    Tag_client.complete_trial(trial_index=trial_index, raw_data=score_vals(param_to_list(parameterization)))"
   ]
  },
  {
   "cell_type": "code",
   "execution_count": 27,
   "metadata": {},
   "outputs": [
    {
     "data": {
      "application/vnd.plotly.v1+json": {
       "config": {
        "linkText": "Export to plot.ly",
        "plotlyServerURL": "https://plot.ly",
        "showLink": false
       },
       "data": [
        {
         "hoverinfo": "none",
         "legendgroup": "",
         "line": {
          "width": 0
         },
         "mode": "lines",
         "showlegend": false,
         "type": "scatter",
         "x": {
          "bdata": "AQACAAMABAAFAAYABwAIAAkACgALAAwADQAOAA8AEAARABIAEwAUABUAFgAXABgAGQAaABsAHAAdAB4AHwAgACEAIgAjACQAJQAmACcAKAApACoAKwAsAC0ALgAvADAAMQAyADMANAA1ADYANwA4ADkAOgA7ADwAPQA+AD8AQABBAEIAQwBEAEUARgBHAEgASQBKAEsATABNAE4ATwBQAFEAUgBTAFQAVQBWAFcAWABZAFoAWwBcAF0AXgBfAGAAYQBiAGMAZABlAGYAZwBoAGkAagBrAGwAbQBuAG8AcABxAHIAcwB0AHUAdgB3AHgAeQB6AHsAfAB9AH4AfwCAAIEAggCDAIQAhQCGAIcAiACJAIoAiwCMAI0AjgCPAJAAkQCSAJMAlACVAJYAlwCYAJkAmgCbAJwAnQCeAJ8AoAChAKIAowCkAKUApgCnAKgAqQCqAKsArACtAK4ArwCwALEAsgCzALQAtQC2ALcA",
          "dtype": "i2"
         },
         "y": {
          "bdata": "0eMCIGRUwUA+8tp9vAXDQGMDZbsRQc1AYwNluxFBzUBjA2W7EUHNQBNBuV5iEM5AE0G5XmIQzkATQbleYhDOQBNBuV5iEM5A4qFAU69D0UDLRQ6oyw3SQMtFDqjLDdJAy0UOqMsN0kDLRQ6oyw3SQMtFDqjLDdJAhNv+b+Nu0kCE2/5v427SQITb/m/jbtJAhNv+b+Nu0kCE2/5v427SQITb/m/jbtJAhNv+b+Nu0kCE2/5v427SQBGdHWtvD9ZAEZ0da28P1kARnR1rbw/WQBGdHWtvD9ZAEZ0da28P1kARnR1rbw/WQBGdHWtvD9ZAEZ0da28P1kARnR1rbw/WQBGdHWtvD9ZAKS6MA+862UC8gR4MbyPaQLyBHgxvI9pAvIEeDG8j2kALliM4MhnbQAuWIzgyGdtA9ONEq0Ze30D040SrRl7fQPTjRKtGXt9A9ONEq0Ze30D040SrRl7fQPTjRKtGXt9A9ONEq0Ze30D040SrRl7fQPTjRKtGXt9A9ONEq0Ze30AEjusfxazfQASO6x/FrN9ABI7rH8Ws30AEjusfxazfQASO6x/FrN9ABI7rH8Ws30AEjusfxazfQEvLqfCuzOBAS8up8K7M4EBLy6nwrszgQEvLqfCuzOBAS8up8K7M4EBLy6nwrszgQEvLqfCuzOBAS8up8K7M4EBLy6nwrszgQEvLqfCuzOBAS8up8K7M4EBLy6nwrszgQEvLqfCuzOBAS8up8K7M4ECfoBP//dbhQMYnNEUwGuJA2ppCFa4g4kDamkIVriDiQNqaQhWuIOJA2ppCFa4g4kDamkIVriDiQNqaQhWuIOJA2ppCFa4g4kDamkIVriDiQNqaQhWuIOJA2ppCFa4g4kDamkIVriDiQNqaQhWuIOJA2ppCFa4g4kDamkIVriDiQNqaQhWuIOJA2ppCFa4g4kDamkIVriDiQNqaQhWuIOJA2ppCFa4g4kDamkIVriDiQNqaQhWuIOJA2ppCFa4g4kDamkIVriDiQK/PQ0sheOJAr89DSyF44kCvz0NLIXjiQOI+LXH7qeJA4j4tcfup4kDiPi1x+6niQOI+LXH7qeJA4j4tcfup4kDiPi1x+6niQOI+LXH7qeJA4j4tcfup4kDiPi1x+6niQOI+LXH7qeJA4j4tcfup4kArpWmexr3iQCulaZ7GveJAK6Vpnsa94kArpWmexr3iQCulaZ7GveJAK6Vpnsa94kArpWmexr3iQCulaZ7GveJAK6Vpnsa94kArpWmexr3iQCulaZ7GveJAK6Vpnsa94kArpWmexr3iQCulaZ7GveJAK6Vpnsa94kArpWmexr3iQCulaZ7GveJAK6Vpnsa94kArpWmexr3iQCulaZ7GveJAK6Vpnsa94kArpWmexr3iQCulaZ7GveJAK6Vpnsa94kArpWmexr3iQCulaZ7GveJAK6Vpnsa94kArpWmexr3iQCulaZ7GveJAK6Vpnsa94kArpWmexr3iQCulaZ7GveJAK6Vpnsa94kArpWmexr3iQCulaZ7GveJAK6Vpnsa94kArpWmexr3iQCulaZ7GveJAK6Vpnsa94kArpWmexr3iQCulaZ7GveJAK6Vpnsa94kArpWmexr3iQCulaZ7GveJAK6Vpnsa94kArpWmexr3iQCulaZ7GveJAK6Vpnsa94kArpWmexr3iQCulaZ7GveJAK6Vpnsa94kArpWmexr3iQCulaZ7GveJAK6Vpnsa94kArpWmexr3iQCulaZ7GveJAK6Vpnsa94kArpWmexr3iQCulaZ7GveJAK6Vpnsa94kArpWmexr3iQCulaZ7GveJAK6Vpnsa94kArpWmexr3iQCulaZ7GveJAK6Vpnsa94kArpWmexr3iQCulaZ7GveJAK6Vpnsa94kArpWmexr3iQCulaZ7GveJAK6Vpnsa94kArpWmexr3iQCulaZ7GveJA",
          "dtype": "f8"
         }
        },
        {
         "fill": "tonexty",
         "fillcolor": "rgba(128,177,211,0.3)",
         "legendgroup": "objective value",
         "line": {
          "color": "rgba(128,177,211,1)"
         },
         "mode": "lines",
         "name": "objective value",
         "text": [
          "Parameterization has too many items to render on hover (16).",
          "Parameterization has too many items to render on hover (16).",
          "Parameterization has too many items to render on hover (16).",
          "Parameterization has too many items to render on hover (16).",
          "Parameterization has too many items to render on hover (16).",
          "Parameterization has too many items to render on hover (16).",
          "Parameterization has too many items to render on hover (16).",
          "Parameterization has too many items to render on hover (16).",
          "Parameterization has too many items to render on hover (16).",
          "Parameterization has too many items to render on hover (16).",
          "Parameterization has too many items to render on hover (16).",
          "Parameterization has too many items to render on hover (16).",
          "Parameterization has too many items to render on hover (16).",
          "Parameterization has too many items to render on hover (16).",
          "Parameterization has too many items to render on hover (16).",
          "Parameterization has too many items to render on hover (16).",
          "Parameterization has too many items to render on hover (16).",
          "Parameterization has too many items to render on hover (16).",
          "Parameterization has too many items to render on hover (16).",
          "Parameterization has too many items to render on hover (16).",
          "Parameterization has too many items to render on hover (16).",
          "Parameterization has too many items to render on hover (16).",
          "Parameterization has too many items to render on hover (16).",
          "Parameterization has too many items to render on hover (16).",
          "Parameterization has too many items to render on hover (16).",
          "Parameterization has too many items to render on hover (16).",
          "Parameterization has too many items to render on hover (16).",
          "Parameterization has too many items to render on hover (16).",
          "Parameterization has too many items to render on hover (16).",
          "Parameterization has too many items to render on hover (16).",
          "Parameterization has too many items to render on hover (16).",
          "Parameterization has too many items to render on hover (16).",
          "Parameterization has too many items to render on hover (16).",
          "Parameterization has too many items to render on hover (16).",
          "Parameterization has too many items to render on hover (16).",
          "Parameterization has too many items to render on hover (16).",
          "Parameterization has too many items to render on hover (16).",
          "Parameterization has too many items to render on hover (16).",
          "Parameterization has too many items to render on hover (16).",
          "Parameterization has too many items to render on hover (16).",
          "Parameterization has too many items to render on hover (16).",
          "Parameterization has too many items to render on hover (16).",
          "Parameterization has too many items to render on hover (16).",
          "Parameterization has too many items to render on hover (16).",
          "Parameterization has too many items to render on hover (16).",
          "Parameterization has too many items to render on hover (16).",
          "Parameterization has too many items to render on hover (16).",
          "Parameterization has too many items to render on hover (16).",
          "Parameterization has too many items to render on hover (16).",
          "Parameterization has too many items to render on hover (16).",
          "Parameterization has too many items to render on hover (16).",
          "Parameterization has too many items to render on hover (16).",
          "Parameterization has too many items to render on hover (16).",
          "Parameterization has too many items to render on hover (16).",
          "Parameterization has too many items to render on hover (16).",
          "Parameterization has too many items to render on hover (16).",
          "Parameterization has too many items to render on hover (16).",
          "Parameterization has too many items to render on hover (16).",
          "Parameterization has too many items to render on hover (16).",
          "Parameterization has too many items to render on hover (16).",
          "Parameterization has too many items to render on hover (16).",
          "Parameterization has too many items to render on hover (16).",
          "Parameterization has too many items to render on hover (16).",
          "Parameterization has too many items to render on hover (16).",
          "Parameterization has too many items to render on hover (16).",
          "Parameterization has too many items to render on hover (16).",
          "Parameterization has too many items to render on hover (16).",
          "Parameterization has too many items to render on hover (16).",
          "Parameterization has too many items to render on hover (16).",
          "Parameterization has too many items to render on hover (16).",
          "Parameterization has too many items to render on hover (16).",
          "Parameterization has too many items to render on hover (16).",
          "Parameterization has too many items to render on hover (16).",
          "Parameterization has too many items to render on hover (16).",
          "Parameterization has too many items to render on hover (16).",
          "Parameterization has too many items to render on hover (16).",
          "Parameterization has too many items to render on hover (16).",
          "Parameterization has too many items to render on hover (16).",
          "Parameterization has too many items to render on hover (16).",
          "Parameterization has too many items to render on hover (16).",
          "Parameterization has too many items to render on hover (16).",
          "Parameterization has too many items to render on hover (16).",
          "Parameterization has too many items to render on hover (16).",
          "Parameterization has too many items to render on hover (16).",
          "Parameterization has too many items to render on hover (16).",
          "Parameterization has too many items to render on hover (16).",
          "Parameterization has too many items to render on hover (16).",
          "Parameterization has too many items to render on hover (16).",
          "Parameterization has too many items to render on hover (16).",
          "Parameterization has too many items to render on hover (16).",
          "Parameterization has too many items to render on hover (16).",
          "Parameterization has too many items to render on hover (16).",
          "Parameterization has too many items to render on hover (16).",
          "Parameterization has too many items to render on hover (16).",
          "Parameterization has too many items to render on hover (16).",
          "Parameterization has too many items to render on hover (16).",
          "Parameterization has too many items to render on hover (16).",
          "Parameterization has too many items to render on hover (16).",
          "Parameterization has too many items to render on hover (16).",
          "Parameterization has too many items to render on hover (16).",
          "Parameterization has too many items to render on hover (16).",
          "Parameterization has too many items to render on hover (16).",
          "Parameterization has too many items to render on hover (16).",
          "Parameterization has too many items to render on hover (16).",
          "Parameterization has too many items to render on hover (16).",
          "Parameterization has too many items to render on hover (16).",
          "Parameterization has too many items to render on hover (16).",
          "Parameterization has too many items to render on hover (16).",
          "Parameterization has too many items to render on hover (16).",
          "Parameterization has too many items to render on hover (16).",
          "Parameterization has too many items to render on hover (16).",
          "Parameterization has too many items to render on hover (16).",
          "Parameterization has too many items to render on hover (16).",
          "Parameterization has too many items to render on hover (16).",
          "Parameterization has too many items to render on hover (16).",
          "Parameterization has too many items to render on hover (16).",
          "Parameterization has too many items to render on hover (16).",
          "Parameterization has too many items to render on hover (16).",
          "Parameterization has too many items to render on hover (16).",
          "Parameterization has too many items to render on hover (16).",
          "Parameterization has too many items to render on hover (16).",
          "Parameterization has too many items to render on hover (16).",
          "Parameterization has too many items to render on hover (16).",
          "Parameterization has too many items to render on hover (16).",
          "Parameterization has too many items to render on hover (16).",
          "Parameterization has too many items to render on hover (16).",
          "Parameterization has too many items to render on hover (16).",
          "Parameterization has too many items to render on hover (16).",
          "Parameterization has too many items to render on hover (16).",
          "Parameterization has too many items to render on hover (16).",
          "Parameterization has too many items to render on hover (16).",
          "Parameterization has too many items to render on hover (16).",
          "Parameterization has too many items to render on hover (16).",
          "Parameterization has too many items to render on hover (16).",
          "Parameterization has too many items to render on hover (16).",
          "Parameterization has too many items to render on hover (16).",
          "Parameterization has too many items to render on hover (16).",
          "Parameterization has too many items to render on hover (16).",
          "Parameterization has too many items to render on hover (16).",
          "Parameterization has too many items to render on hover (16).",
          "Parameterization has too many items to render on hover (16).",
          "Parameterization has too many items to render on hover (16).",
          "Parameterization has too many items to render on hover (16).",
          "Parameterization has too many items to render on hover (16).",
          "Parameterization has too many items to render on hover (16).",
          "Parameterization has too many items to render on hover (16).",
          "Parameterization has too many items to render on hover (16).",
          "Parameterization has too many items to render on hover (16).",
          "Parameterization has too many items to render on hover (16).",
          "Parameterization has too many items to render on hover (16).",
          "Parameterization has too many items to render on hover (16).",
          "Parameterization has too many items to render on hover (16).",
          "Parameterization has too many items to render on hover (16).",
          "Parameterization has too many items to render on hover (16).",
          "Parameterization has too many items to render on hover (16).",
          "Parameterization has too many items to render on hover (16).",
          "Parameterization has too many items to render on hover (16).",
          "Parameterization has too many items to render on hover (16).",
          "Parameterization has too many items to render on hover (16).",
          "Parameterization has too many items to render on hover (16).",
          "Parameterization has too many items to render on hover (16).",
          "Parameterization has too many items to render on hover (16).",
          "Parameterization has too many items to render on hover (16).",
          "Parameterization has too many items to render on hover (16).",
          "Parameterization has too many items to render on hover (16).",
          "Parameterization has too many items to render on hover (16).",
          "Parameterization has too many items to render on hover (16).",
          "Parameterization has too many items to render on hover (16).",
          "Parameterization has too many items to render on hover (16).",
          "Parameterization has too many items to render on hover (16).",
          "Parameterization has too many items to render on hover (16).",
          "Parameterization has too many items to render on hover (16).",
          "Parameterization has too many items to render on hover (16).",
          "Parameterization has too many items to render on hover (16).",
          "Parameterization has too many items to render on hover (16).",
          "Parameterization has too many items to render on hover (16).",
          "Parameterization has too many items to render on hover (16).",
          "Parameterization has too many items to render on hover (16).",
          "Parameterization has too many items to render on hover (16).",
          "Parameterization has too many items to render on hover (16).",
          "Parameterization has too many items to render on hover (16).",
          "Parameterization has too many items to render on hover (16).",
          "Parameterization has too many items to render on hover (16)."
         ],
         "type": "scatter",
         "x": {
          "bdata": "AQACAAMABAAFAAYABwAIAAkACgALAAwADQAOAA8AEAARABIAEwAUABUAFgAXABgAGQAaABsAHAAdAB4AHwAgACEAIgAjACQAJQAmACcAKAApACoAKwAsAC0ALgAvADAAMQAyADMANAA1ADYANwA4ADkAOgA7ADwAPQA+AD8AQABBAEIAQwBEAEUARgBHAEgASQBKAEsATABNAE4ATwBQAFEAUgBTAFQAVQBWAFcAWABZAFoAWwBcAF0AXgBfAGAAYQBiAGMAZABlAGYAZwBoAGkAagBrAGwAbQBuAG8AcABxAHIAcwB0AHUAdgB3AHgAeQB6AHsAfAB9AH4AfwCAAIEAggCDAIQAhQCGAIcAiACJAIoAiwCMAI0AjgCPAJAAkQCSAJMAlACVAJYAlwCYAJkAmgCbAJwAnQCeAJ8AoAChAKIAowCkAKUApgCnAKgAqQCqAKsArACtAK4ArwCwALEAsgCzALQAtQC2ALcA",
          "dtype": "i2"
         },
         "y": {
          "bdata": "0eMCIGRUwUA+8tp9vAXDQGMDZbsRQc1AYwNluxFBzUBjA2W7EUHNQBNBuV5iEM5AE0G5XmIQzkATQbleYhDOQBNBuV5iEM5A4qFAU69D0UDLRQ6oyw3SQMtFDqjLDdJAy0UOqMsN0kDLRQ6oyw3SQMtFDqjLDdJAhNv+b+Nu0kCE2/5v427SQITb/m/jbtJAhNv+b+Nu0kCE2/5v427SQITb/m/jbtJAhNv+b+Nu0kCE2/5v427SQBGdHWtvD9ZAEZ0da28P1kARnR1rbw/WQBGdHWtvD9ZAEZ0da28P1kARnR1rbw/WQBGdHWtvD9ZAEZ0da28P1kARnR1rbw/WQBGdHWtvD9ZAKS6MA+862UC8gR4MbyPaQLyBHgxvI9pAvIEeDG8j2kALliM4MhnbQAuWIzgyGdtA9ONEq0Ze30D040SrRl7fQPTjRKtGXt9A9ONEq0Ze30D040SrRl7fQPTjRKtGXt9A9ONEq0Ze30D040SrRl7fQPTjRKtGXt9A9ONEq0Ze30AEjusfxazfQASO6x/FrN9ABI7rH8Ws30AEjusfxazfQASO6x/FrN9ABI7rH8Ws30AEjusfxazfQEvLqfCuzOBAS8up8K7M4EBLy6nwrszgQEvLqfCuzOBAS8up8K7M4EBLy6nwrszgQEvLqfCuzOBAS8up8K7M4EBLy6nwrszgQEvLqfCuzOBAS8up8K7M4EBLy6nwrszgQEvLqfCuzOBAS8up8K7M4ECfoBP//dbhQMYnNEUwGuJA2ppCFa4g4kDamkIVriDiQNqaQhWuIOJA2ppCFa4g4kDamkIVriDiQNqaQhWuIOJA2ppCFa4g4kDamkIVriDiQNqaQhWuIOJA2ppCFa4g4kDamkIVriDiQNqaQhWuIOJA2ppCFa4g4kDamkIVriDiQNqaQhWuIOJA2ppCFa4g4kDamkIVriDiQNqaQhWuIOJA2ppCFa4g4kDamkIVriDiQNqaQhWuIOJA2ppCFa4g4kDamkIVriDiQK/PQ0sheOJAr89DSyF44kCvz0NLIXjiQOI+LXH7qeJA4j4tcfup4kDiPi1x+6niQOI+LXH7qeJA4j4tcfup4kDiPi1x+6niQOI+LXH7qeJA4j4tcfup4kDiPi1x+6niQOI+LXH7qeJA4j4tcfup4kArpWmexr3iQCulaZ7GveJAK6Vpnsa94kArpWmexr3iQCulaZ7GveJAK6Vpnsa94kArpWmexr3iQCulaZ7GveJAK6Vpnsa94kArpWmexr3iQCulaZ7GveJAK6Vpnsa94kArpWmexr3iQCulaZ7GveJAK6Vpnsa94kArpWmexr3iQCulaZ7GveJAK6Vpnsa94kArpWmexr3iQCulaZ7GveJAK6Vpnsa94kArpWmexr3iQCulaZ7GveJAK6Vpnsa94kArpWmexr3iQCulaZ7GveJAK6Vpnsa94kArpWmexr3iQCulaZ7GveJAK6Vpnsa94kArpWmexr3iQCulaZ7GveJAK6Vpnsa94kArpWmexr3iQCulaZ7GveJAK6Vpnsa94kArpWmexr3iQCulaZ7GveJAK6Vpnsa94kArpWmexr3iQCulaZ7GveJAK6Vpnsa94kArpWmexr3iQCulaZ7GveJAK6Vpnsa94kArpWmexr3iQCulaZ7GveJAK6Vpnsa94kArpWmexr3iQCulaZ7GveJAK6Vpnsa94kArpWmexr3iQCulaZ7GveJAK6Vpnsa94kArpWmexr3iQCulaZ7GveJAK6Vpnsa94kArpWmexr3iQCulaZ7GveJAK6Vpnsa94kArpWmexr3iQCulaZ7GveJAK6Vpnsa94kArpWmexr3iQCulaZ7GveJAK6Vpnsa94kArpWmexr3iQCulaZ7GveJAK6Vpnsa94kArpWmexr3iQCulaZ7GveJAK6Vpnsa94kArpWmexr3iQCulaZ7GveJA",
          "dtype": "f8"
         }
        },
        {
         "fill": "tonexty",
         "fillcolor": "rgba(128,177,211,0.3)",
         "hoverinfo": "none",
         "legendgroup": "",
         "line": {
          "width": 0
         },
         "mode": "lines",
         "showlegend": false,
         "type": "scatter",
         "x": {
          "bdata": "AQACAAMABAAFAAYABwAIAAkACgALAAwADQAOAA8AEAARABIAEwAUABUAFgAXABgAGQAaABsAHAAdAB4AHwAgACEAIgAjACQAJQAmACcAKAApACoAKwAsAC0ALgAvADAAMQAyADMANAA1ADYANwA4ADkAOgA7ADwAPQA+AD8AQABBAEIAQwBEAEUARgBHAEgASQBKAEsATABNAE4ATwBQAFEAUgBTAFQAVQBWAFcAWABZAFoAWwBcAF0AXgBfAGAAYQBiAGMAZABlAGYAZwBoAGkAagBrAGwAbQBuAG8AcABxAHIAcwB0AHUAdgB3AHgAeQB6AHsAfAB9AH4AfwCAAIEAggCDAIQAhQCGAIcAiACJAIoAiwCMAI0AjgCPAJAAkQCSAJMAlACVAJYAlwCYAJkAmgCbAJwAnQCeAJ8AoAChAKIAowCkAKUApgCnAKgAqQCqAKsArACtAK4ArwCwALEAsgCzALQAtQC2ALcA",
          "dtype": "i2"
         },
         "y": {
          "bdata": "0eMCIGRUwUA+8tp9vAXDQGMDZbsRQc1AYwNluxFBzUBjA2W7EUHNQBNBuV5iEM5AE0G5XmIQzkATQbleYhDOQBNBuV5iEM5A4qFAU69D0UDLRQ6oyw3SQMtFDqjLDdJAy0UOqMsN0kDLRQ6oyw3SQMtFDqjLDdJAhNv+b+Nu0kCE2/5v427SQITb/m/jbtJAhNv+b+Nu0kCE2/5v427SQITb/m/jbtJAhNv+b+Nu0kCE2/5v427SQBGdHWtvD9ZAEZ0da28P1kARnR1rbw/WQBGdHWtvD9ZAEZ0da28P1kARnR1rbw/WQBGdHWtvD9ZAEZ0da28P1kARnR1rbw/WQBGdHWtvD9ZAKS6MA+862UC8gR4MbyPaQLyBHgxvI9pAvIEeDG8j2kALliM4MhnbQAuWIzgyGdtA9ONEq0Ze30D040SrRl7fQPTjRKtGXt9A9ONEq0Ze30D040SrRl7fQPTjRKtGXt9A9ONEq0Ze30D040SrRl7fQPTjRKtGXt9A9ONEq0Ze30AEjusfxazfQASO6x/FrN9ABI7rH8Ws30AEjusfxazfQASO6x/FrN9ABI7rH8Ws30AEjusfxazfQEvLqfCuzOBAS8up8K7M4EBLy6nwrszgQEvLqfCuzOBAS8up8K7M4EBLy6nwrszgQEvLqfCuzOBAS8up8K7M4EBLy6nwrszgQEvLqfCuzOBAS8up8K7M4EBLy6nwrszgQEvLqfCuzOBAS8up8K7M4ECfoBP//dbhQMYnNEUwGuJA2ppCFa4g4kDamkIVriDiQNqaQhWuIOJA2ppCFa4g4kDamkIVriDiQNqaQhWuIOJA2ppCFa4g4kDamkIVriDiQNqaQhWuIOJA2ppCFa4g4kDamkIVriDiQNqaQhWuIOJA2ppCFa4g4kDamkIVriDiQNqaQhWuIOJA2ppCFa4g4kDamkIVriDiQNqaQhWuIOJA2ppCFa4g4kDamkIVriDiQNqaQhWuIOJA2ppCFa4g4kDamkIVriDiQK/PQ0sheOJAr89DSyF44kCvz0NLIXjiQOI+LXH7qeJA4j4tcfup4kDiPi1x+6niQOI+LXH7qeJA4j4tcfup4kDiPi1x+6niQOI+LXH7qeJA4j4tcfup4kDiPi1x+6niQOI+LXH7qeJA4j4tcfup4kArpWmexr3iQCulaZ7GveJAK6Vpnsa94kArpWmexr3iQCulaZ7GveJAK6Vpnsa94kArpWmexr3iQCulaZ7GveJAK6Vpnsa94kArpWmexr3iQCulaZ7GveJAK6Vpnsa94kArpWmexr3iQCulaZ7GveJAK6Vpnsa94kArpWmexr3iQCulaZ7GveJAK6Vpnsa94kArpWmexr3iQCulaZ7GveJAK6Vpnsa94kArpWmexr3iQCulaZ7GveJAK6Vpnsa94kArpWmexr3iQCulaZ7GveJAK6Vpnsa94kArpWmexr3iQCulaZ7GveJAK6Vpnsa94kArpWmexr3iQCulaZ7GveJAK6Vpnsa94kArpWmexr3iQCulaZ7GveJAK6Vpnsa94kArpWmexr3iQCulaZ7GveJAK6Vpnsa94kArpWmexr3iQCulaZ7GveJAK6Vpnsa94kArpWmexr3iQCulaZ7GveJAK6Vpnsa94kArpWmexr3iQCulaZ7GveJAK6Vpnsa94kArpWmexr3iQCulaZ7GveJAK6Vpnsa94kArpWmexr3iQCulaZ7GveJAK6Vpnsa94kArpWmexr3iQCulaZ7GveJAK6Vpnsa94kArpWmexr3iQCulaZ7GveJAK6Vpnsa94kArpWmexr3iQCulaZ7GveJAK6Vpnsa94kArpWmexr3iQCulaZ7GveJAK6Vpnsa94kArpWmexr3iQCulaZ7GveJAK6Vpnsa94kArpWmexr3iQCulaZ7GveJAK6Vpnsa94kArpWmexr3iQCulaZ7GveJA",
          "dtype": "f8"
         }
        }
       ],
       "layout": {
        "showlegend": true,
        "template": {
         "data": {
          "bar": [
           {
            "error_x": {
             "color": "#2a3f5f"
            },
            "error_y": {
             "color": "#2a3f5f"
            },
            "marker": {
             "line": {
              "color": "#E5ECF6",
              "width": 0.5
             },
             "pattern": {
              "fillmode": "overlay",
              "size": 10,
              "solidity": 0.2
             }
            },
            "type": "bar"
           }
          ],
          "barpolar": [
           {
            "marker": {
             "line": {
              "color": "#E5ECF6",
              "width": 0.5
             },
             "pattern": {
              "fillmode": "overlay",
              "size": 10,
              "solidity": 0.2
             }
            },
            "type": "barpolar"
           }
          ],
          "carpet": [
           {
            "aaxis": {
             "endlinecolor": "#2a3f5f",
             "gridcolor": "white",
             "linecolor": "white",
             "minorgridcolor": "white",
             "startlinecolor": "#2a3f5f"
            },
            "baxis": {
             "endlinecolor": "#2a3f5f",
             "gridcolor": "white",
             "linecolor": "white",
             "minorgridcolor": "white",
             "startlinecolor": "#2a3f5f"
            },
            "type": "carpet"
           }
          ],
          "choropleth": [
           {
            "colorbar": {
             "outlinewidth": 0,
             "ticks": ""
            },
            "type": "choropleth"
           }
          ],
          "contour": [
           {
            "colorbar": {
             "outlinewidth": 0,
             "ticks": ""
            },
            "colorscale": [
             [
              0,
              "#0d0887"
             ],
             [
              0.1111111111111111,
              "#46039f"
             ],
             [
              0.2222222222222222,
              "#7201a8"
             ],
             [
              0.3333333333333333,
              "#9c179e"
             ],
             [
              0.4444444444444444,
              "#bd3786"
             ],
             [
              0.5555555555555556,
              "#d8576b"
             ],
             [
              0.6666666666666666,
              "#ed7953"
             ],
             [
              0.7777777777777778,
              "#fb9f3a"
             ],
             [
              0.8888888888888888,
              "#fdca26"
             ],
             [
              1,
              "#f0f921"
             ]
            ],
            "type": "contour"
           }
          ],
          "contourcarpet": [
           {
            "colorbar": {
             "outlinewidth": 0,
             "ticks": ""
            },
            "type": "contourcarpet"
           }
          ],
          "heatmap": [
           {
            "colorbar": {
             "outlinewidth": 0,
             "ticks": ""
            },
            "colorscale": [
             [
              0,
              "#0d0887"
             ],
             [
              0.1111111111111111,
              "#46039f"
             ],
             [
              0.2222222222222222,
              "#7201a8"
             ],
             [
              0.3333333333333333,
              "#9c179e"
             ],
             [
              0.4444444444444444,
              "#bd3786"
             ],
             [
              0.5555555555555556,
              "#d8576b"
             ],
             [
              0.6666666666666666,
              "#ed7953"
             ],
             [
              0.7777777777777778,
              "#fb9f3a"
             ],
             [
              0.8888888888888888,
              "#fdca26"
             ],
             [
              1,
              "#f0f921"
             ]
            ],
            "type": "heatmap"
           }
          ],
          "histogram": [
           {
            "marker": {
             "pattern": {
              "fillmode": "overlay",
              "size": 10,
              "solidity": 0.2
             }
            },
            "type": "histogram"
           }
          ],
          "histogram2d": [
           {
            "colorbar": {
             "outlinewidth": 0,
             "ticks": ""
            },
            "colorscale": [
             [
              0,
              "#0d0887"
             ],
             [
              0.1111111111111111,
              "#46039f"
             ],
             [
              0.2222222222222222,
              "#7201a8"
             ],
             [
              0.3333333333333333,
              "#9c179e"
             ],
             [
              0.4444444444444444,
              "#bd3786"
             ],
             [
              0.5555555555555556,
              "#d8576b"
             ],
             [
              0.6666666666666666,
              "#ed7953"
             ],
             [
              0.7777777777777778,
              "#fb9f3a"
             ],
             [
              0.8888888888888888,
              "#fdca26"
             ],
             [
              1,
              "#f0f921"
             ]
            ],
            "type": "histogram2d"
           }
          ],
          "histogram2dcontour": [
           {
            "colorbar": {
             "outlinewidth": 0,
             "ticks": ""
            },
            "colorscale": [
             [
              0,
              "#0d0887"
             ],
             [
              0.1111111111111111,
              "#46039f"
             ],
             [
              0.2222222222222222,
              "#7201a8"
             ],
             [
              0.3333333333333333,
              "#9c179e"
             ],
             [
              0.4444444444444444,
              "#bd3786"
             ],
             [
              0.5555555555555556,
              "#d8576b"
             ],
             [
              0.6666666666666666,
              "#ed7953"
             ],
             [
              0.7777777777777778,
              "#fb9f3a"
             ],
             [
              0.8888888888888888,
              "#fdca26"
             ],
             [
              1,
              "#f0f921"
             ]
            ],
            "type": "histogram2dcontour"
           }
          ],
          "mesh3d": [
           {
            "colorbar": {
             "outlinewidth": 0,
             "ticks": ""
            },
            "type": "mesh3d"
           }
          ],
          "parcoords": [
           {
            "line": {
             "colorbar": {
              "outlinewidth": 0,
              "ticks": ""
             }
            },
            "type": "parcoords"
           }
          ],
          "pie": [
           {
            "automargin": true,
            "type": "pie"
           }
          ],
          "scatter": [
           {
            "fillpattern": {
             "fillmode": "overlay",
             "size": 10,
             "solidity": 0.2
            },
            "type": "scatter"
           }
          ],
          "scatter3d": [
           {
            "line": {
             "colorbar": {
              "outlinewidth": 0,
              "ticks": ""
             }
            },
            "marker": {
             "colorbar": {
              "outlinewidth": 0,
              "ticks": ""
             }
            },
            "type": "scatter3d"
           }
          ],
          "scattercarpet": [
           {
            "marker": {
             "colorbar": {
              "outlinewidth": 0,
              "ticks": ""
             }
            },
            "type": "scattercarpet"
           }
          ],
          "scattergeo": [
           {
            "marker": {
             "colorbar": {
              "outlinewidth": 0,
              "ticks": ""
             }
            },
            "type": "scattergeo"
           }
          ],
          "scattergl": [
           {
            "marker": {
             "colorbar": {
              "outlinewidth": 0,
              "ticks": ""
             }
            },
            "type": "scattergl"
           }
          ],
          "scattermap": [
           {
            "marker": {
             "colorbar": {
              "outlinewidth": 0,
              "ticks": ""
             }
            },
            "type": "scattermap"
           }
          ],
          "scattermapbox": [
           {
            "marker": {
             "colorbar": {
              "outlinewidth": 0,
              "ticks": ""
             }
            },
            "type": "scattermapbox"
           }
          ],
          "scatterpolar": [
           {
            "marker": {
             "colorbar": {
              "outlinewidth": 0,
              "ticks": ""
             }
            },
            "type": "scatterpolar"
           }
          ],
          "scatterpolargl": [
           {
            "marker": {
             "colorbar": {
              "outlinewidth": 0,
              "ticks": ""
             }
            },
            "type": "scatterpolargl"
           }
          ],
          "scatterternary": [
           {
            "marker": {
             "colorbar": {
              "outlinewidth": 0,
              "ticks": ""
             }
            },
            "type": "scatterternary"
           }
          ],
          "surface": [
           {
            "colorbar": {
             "outlinewidth": 0,
             "ticks": ""
            },
            "colorscale": [
             [
              0,
              "#0d0887"
             ],
             [
              0.1111111111111111,
              "#46039f"
             ],
             [
              0.2222222222222222,
              "#7201a8"
             ],
             [
              0.3333333333333333,
              "#9c179e"
             ],
             [
              0.4444444444444444,
              "#bd3786"
             ],
             [
              0.5555555555555556,
              "#d8576b"
             ],
             [
              0.6666666666666666,
              "#ed7953"
             ],
             [
              0.7777777777777778,
              "#fb9f3a"
             ],
             [
              0.8888888888888888,
              "#fdca26"
             ],
             [
              1,
              "#f0f921"
             ]
            ],
            "type": "surface"
           }
          ],
          "table": [
           {
            "cells": {
             "fill": {
              "color": "#EBF0F8"
             },
             "line": {
              "color": "white"
             }
            },
            "header": {
             "fill": {
              "color": "#C8D4E3"
             },
             "line": {
              "color": "white"
             }
            },
            "type": "table"
           }
          ]
         },
         "layout": {
          "annotationdefaults": {
           "arrowcolor": "#2a3f5f",
           "arrowhead": 0,
           "arrowwidth": 1
          },
          "autotypenumbers": "strict",
          "coloraxis": {
           "colorbar": {
            "outlinewidth": 0,
            "ticks": ""
           }
          },
          "colorscale": {
           "diverging": [
            [
             0,
             "#8e0152"
            ],
            [
             0.1,
             "#c51b7d"
            ],
            [
             0.2,
             "#de77ae"
            ],
            [
             0.3,
             "#f1b6da"
            ],
            [
             0.4,
             "#fde0ef"
            ],
            [
             0.5,
             "#f7f7f7"
            ],
            [
             0.6,
             "#e6f5d0"
            ],
            [
             0.7,
             "#b8e186"
            ],
            [
             0.8,
             "#7fbc41"
            ],
            [
             0.9,
             "#4d9221"
            ],
            [
             1,
             "#276419"
            ]
           ],
           "sequential": [
            [
             0,
             "#0d0887"
            ],
            [
             0.1111111111111111,
             "#46039f"
            ],
            [
             0.2222222222222222,
             "#7201a8"
            ],
            [
             0.3333333333333333,
             "#9c179e"
            ],
            [
             0.4444444444444444,
             "#bd3786"
            ],
            [
             0.5555555555555556,
             "#d8576b"
            ],
            [
             0.6666666666666666,
             "#ed7953"
            ],
            [
             0.7777777777777778,
             "#fb9f3a"
            ],
            [
             0.8888888888888888,
             "#fdca26"
            ],
            [
             1,
             "#f0f921"
            ]
           ],
           "sequentialminus": [
            [
             0,
             "#0d0887"
            ],
            [
             0.1111111111111111,
             "#46039f"
            ],
            [
             0.2222222222222222,
             "#7201a8"
            ],
            [
             0.3333333333333333,
             "#9c179e"
            ],
            [
             0.4444444444444444,
             "#bd3786"
            ],
            [
             0.5555555555555556,
             "#d8576b"
            ],
            [
             0.6666666666666666,
             "#ed7953"
            ],
            [
             0.7777777777777778,
             "#fb9f3a"
            ],
            [
             0.8888888888888888,
             "#fdca26"
            ],
            [
             1,
             "#f0f921"
            ]
           ]
          },
          "colorway": [
           "#636efa",
           "#EF553B",
           "#00cc96",
           "#ab63fa",
           "#FFA15A",
           "#19d3f3",
           "#FF6692",
           "#B6E880",
           "#FF97FF",
           "#FECB52"
          ],
          "font": {
           "color": "#2a3f5f"
          },
          "geo": {
           "bgcolor": "white",
           "lakecolor": "white",
           "landcolor": "#E5ECF6",
           "showlakes": true,
           "showland": true,
           "subunitcolor": "white"
          },
          "hoverlabel": {
           "align": "left"
          },
          "hovermode": "closest",
          "mapbox": {
           "style": "light"
          },
          "paper_bgcolor": "white",
          "plot_bgcolor": "#E5ECF6",
          "polar": {
           "angularaxis": {
            "gridcolor": "white",
            "linecolor": "white",
            "ticks": ""
           },
           "bgcolor": "#E5ECF6",
           "radialaxis": {
            "gridcolor": "white",
            "linecolor": "white",
            "ticks": ""
           }
          },
          "scene": {
           "xaxis": {
            "backgroundcolor": "#E5ECF6",
            "gridcolor": "white",
            "gridwidth": 2,
            "linecolor": "white",
            "showbackground": true,
            "ticks": "",
            "zerolinecolor": "white"
           },
           "yaxis": {
            "backgroundcolor": "#E5ECF6",
            "gridcolor": "white",
            "gridwidth": 2,
            "linecolor": "white",
            "showbackground": true,
            "ticks": "",
            "zerolinecolor": "white"
           },
           "zaxis": {
            "backgroundcolor": "#E5ECF6",
            "gridcolor": "white",
            "gridwidth": 2,
            "linecolor": "white",
            "showbackground": true,
            "ticks": "",
            "zerolinecolor": "white"
           }
          },
          "shapedefaults": {
           "line": {
            "color": "#2a3f5f"
           }
          },
          "ternary": {
           "aaxis": {
            "gridcolor": "white",
            "linecolor": "white",
            "ticks": ""
           },
           "baxis": {
            "gridcolor": "white",
            "linecolor": "white",
            "ticks": ""
           },
           "bgcolor": "#E5ECF6",
           "caxis": {
            "gridcolor": "white",
            "linecolor": "white",
            "ticks": ""
           }
          },
          "title": {
           "x": 0.05
          },
          "xaxis": {
           "automargin": true,
           "gridcolor": "white",
           "linecolor": "white",
           "ticks": "",
           "title": {
            "standoff": 15
           },
           "zerolinecolor": "white",
           "zerolinewidth": 2
          },
          "yaxis": {
           "automargin": true,
           "gridcolor": "white",
           "linecolor": "white",
           "ticks": "",
           "title": {
            "standoff": 15
           },
           "zerolinecolor": "white",
           "zerolinewidth": 2
          }
         }
        },
        "title": {
         "text": "Best objective found vs. # of iterations"
        },
        "xaxis": {
         "title": {
          "text": "Iteration"
         }
        },
        "yaxis": {
         "title": {
          "text": "Cross_term_gear_ratio_product"
         }
        }
       }
      }
     },
     "metadata": {},
     "output_type": "display_data"
    }
   ],
   "source": [
    "render(Tag_client.get_optimization_trace())"
   ]
  },
  {
   "cell_type": "code",
   "execution_count": null,
   "metadata": {},
   "outputs": [
    {
     "name": "stderr",
     "output_type": "stream",
     "text": [
      "[INFO 04-10 16:51:51] ax.service.ax_client: Generated new trial 183 with parameters {'z_sh': 11, 'z_sh_1': 9, 'z_sh_2': 8, 'z_sh_3': 6, 'z_r2': 86, 'z_r2_1': 73, 'z_r2_2': 72, 'z_r2_3': 71, 'x_s': 1.0, 'x_s_1': 0.241947, 'x_s_2': 0.141909, 'x_s_3': -1.0, 'x_r2': 0.28209, 'x_r2_1': 0.18209, 'x_r2_2': 0.08209, 'x_r2_3': -0.678833} using model BoTorch.\n",
      "[INFO 04-10 16:51:51] ax.service.ax_client: Completed trial 183 with data: {'Cross_term_gear_ratio_product': (np.float64(1083.555733), None)}.\n",
      "[INFO 04-10 16:52:08] ax.service.ax_client: Generated new trial 184 with parameters {'z_sh': 11, 'z_sh_1': 9, 'z_sh_2': 8, 'z_sh_3': 6, 'z_r2': 75, 'z_r2_1': 74, 'z_r2_2': 72, 'z_r2_3': 71, 'x_s': 1.0, 'x_s_1': 0.9, 'x_s_2': 0.8, 'x_s_3': -0.16072, 'x_r2': 1.0, 'x_r2_1': -0.217613, 'x_r2_2': -0.317613, 'x_r2_3': -0.417613} using model BoTorch.\n",
      "[INFO 04-10 16:52:08] ax.service.ax_client: Completed trial 184 with data: {'Cross_term_gear_ratio_product': (np.float64(2487.311592), None)}.\n",
      "[INFO 04-10 16:52:34] ax.service.ax_client: Generated new trial 185 with parameters {'z_sh': 11, 'z_sh_1': 9, 'z_sh_2': 7, 'z_sh_3': 6, 'z_r2': 74, 'z_r2_1': 73, 'z_r2_2': 71, 'z_r2_3': 70, 'x_s': 0.778618, 'x_s_1': 0.674653, 'x_s_2': 0.567283, 'x_s_3': 0.01774, 'x_r2': -0.140624, 'x_r2_1': -0.24361, 'x_r2_2': -0.343832, 'x_r2_3': -0.548104} using model BoTorch.\n",
      "[INFO 04-10 16:52:34] ax.service.ax_client: Completed trial 185 with data: {'Cross_term_gear_ratio_product': (np.float64(2216.01122), None)}.\n",
      "[INFO 04-10 16:52:46] ax.service.ax_client: Generated new trial 186 with parameters {'z_sh': 12, 'z_sh_1': 11, 'z_sh_2': 10, 'z_sh_3': 9, 'z_r2': 86, 'z_r2_1': 85, 'z_r2_2': 76, 'z_r2_3': 75, 'x_s': 1.0, 'x_s_1': 0.9, 'x_s_2': 0.8, 'x_s_3': -1.0, 'x_r2': -0.553555, 'x_r2_1': -0.653555, 'x_r2_2': -0.9, 'x_r2_3': -1.0} using model BoTorch.\n",
      "[INFO 04-10 16:52:46] ax.service.ax_client: Completed trial 186 with data: {'Cross_term_gear_ratio_product': (np.float64(173.617101), None)}.\n",
      "[INFO 04-10 16:52:57] ax.service.ax_client: Generated new trial 187 with parameters {'z_sh': 12, 'z_sh_1': 8, 'z_sh_2': 7, 'z_sh_3': 6, 'z_r2': 86, 'z_r2_1': 84, 'z_r2_2': 83, 'z_r2_3': 82, 'x_s': 1.0, 'x_s_1': 0.9, 'x_s_2': -0.9, 'x_s_3': -1.0, 'x_r2': 1.0, 'x_r2_1': 0.9, 'x_r2_2': 0.8, 'x_r2_3': 0.7} using model BoTorch.\n",
      "[INFO 04-10 16:52:57] ax.service.ax_client: Completed trial 187 with data: {'Cross_term_gear_ratio_product': (np.float64(415.621295), None)}.\n",
      "[INFO 04-10 16:53:23] ax.service.ax_client: Generated new trial 188 with parameters {'z_sh': 11, 'z_sh_1': 10, 'z_sh_2': 9, 'z_sh_3': 8, 'z_r2': 75, 'z_r2_1': 74, 'z_r2_2': 73, 'z_r2_3': 72, 'x_s': 1.0, 'x_s_1': 0.9, 'x_s_2': 0.8, 'x_s_3': -1.0, 'x_r2': 1.0, 'x_r2_1': 0.9, 'x_r2_2': 0.8, 'x_r2_3': 0.7} using model BoTorch.\n",
      "[INFO 04-10 16:53:23] ax.service.ax_client: Completed trial 188 with data: {'Cross_term_gear_ratio_product': (np.float64(2418.492665), None)}.\n",
      "[INFO 04-10 16:54:03] ax.service.ax_client: Generated new trial 189 with parameters {'z_sh': 12, 'z_sh_1': 11, 'z_sh_2': 10, 'z_sh_3': 9, 'z_r2': 86, 'z_r2_1': 74, 'z_r2_2': 73, 'z_r2_3': 72, 'x_s': 1.0, 'x_s_1': 0.9, 'x_s_2': -0.9, 'x_s_3': -1.0, 'x_r2': 1.0, 'x_r2_1': 0.9, 'x_r2_2': -0.9, 'x_r2_3': -1.0} using model BoTorch.\n",
      "[INFO 04-10 16:54:03] ax.service.ax_client: Completed trial 189 with data: {'Cross_term_gear_ratio_product': (np.float64(1195.587808), None)}.\n",
      "[INFO 04-10 16:54:16] ax.service.ax_client: Generated new trial 190 with parameters {'z_sh': 12, 'z_sh_1': 11, 'z_sh_2': 9, 'z_sh_3': 8, 'z_r2': 86, 'z_r2_1': 77, 'z_r2_2': 76, 'z_r2_3': 75, 'x_s': 1.0, 'x_s_1': 0.9, 'x_s_2': 0.8, 'x_s_3': 0.7, 'x_r2': 1.0, 'x_r2_1': 0.9, 'x_r2_2': 0.8, 'x_r2_3': 0.7} using model BoTorch.\n",
      "[INFO 04-10 16:54:16] ax.service.ax_client: Completed trial 190 with data: {'Cross_term_gear_ratio_product': (np.float64(768.872384), None)}.\n",
      "[INFO 04-10 16:54:27] ax.service.ax_client: Generated new trial 191 with parameters {'z_sh': 9, 'z_sh_1': 8, 'z_sh_2': 7, 'z_sh_3': 6, 'z_r2': 78, 'z_r2_1': 77, 'z_r2_2': 76, 'z_r2_3': 75, 'x_s': 1.0, 'x_s_1': 0.9, 'x_s_2': 0.8, 'x_s_3': -1.0, 'x_r2': 1.0, 'x_r2_1': 0.9, 'x_r2_2': 0.8, 'x_r2_3': 0.7} using model BoTorch.\n",
      "[INFO 04-10 16:54:27] ax.service.ax_client: Completed trial 191 with data: {'Cross_term_gear_ratio_product': (np.float64(1849.910097), None)}.\n",
      "[INFO 04-10 16:54:45] ax.service.ax_client: Generated new trial 192 with parameters {'z_sh': 9, 'z_sh_1': 8, 'z_sh_2': 7, 'z_sh_3': 6, 'z_r2': 76, 'z_r2_1': 75, 'z_r2_2': 74, 'z_r2_3': 72, 'x_s': 1.0, 'x_s_1': 0.9, 'x_s_2': 0.8, 'x_s_3': 0.7, 'x_r2': 0.907709, 'x_r2_1': 0.406903, 'x_r2_2': 0.306903, 'x_r2_3': 0.206903} using model BoTorch.\n",
      "[INFO 04-10 16:54:45] ax.service.ax_client: Completed trial 192 with data: {'Cross_term_gear_ratio_product': (np.float64(2630.401233), None)}.\n",
      "[INFO 04-10 16:55:12] ax.service.ax_client: Generated new trial 193 with parameters {'z_sh': 12, 'z_sh_1': 10, 'z_sh_2': 8, 'z_sh_3': 6, 'z_r2': 78, 'z_r2_1': 75, 'z_r2_2': 72, 'z_r2_3': 70, 'x_s': 1.0, 'x_s_1': 0.9, 'x_s_2': 0.8, 'x_s_3': -0.921545, 'x_r2': 0.925389, 'x_r2_1': 0.650121, 'x_r2_2': 0.550121, 'x_r2_3': 0.125276} using model BoTorch.\n",
      "[INFO 04-10 16:55:12] ax.service.ax_client: Completed trial 193 with data: {'Cross_term_gear_ratio_product': (np.float64(1981.055696), None)}.\n",
      "[INFO 04-10 16:55:23] ax.service.ax_client: Generated new trial 194 with parameters {'z_sh': 10, 'z_sh_1': 9, 'z_sh_2': 7, 'z_sh_3': 6, 'z_r2': 86, 'z_r2_1': 80, 'z_r2_2': 76, 'z_r2_3': 75, 'x_s': -0.7, 'x_s_1': -0.8, 'x_s_2': -0.9, 'x_s_3': -1.0, 'x_r2': 1.0, 'x_r2_1': 0.9, 'x_r2_2': -0.9, 'x_r2_3': -1.0} using model BoTorch.\n",
      "[INFO 04-10 16:55:23] ax.service.ax_client: Completed trial 194 with data: {'Cross_term_gear_ratio_product': (np.float64(1507.983307), None)}.\n",
      "[INFO 04-10 16:55:33] ax.service.ax_client: Generated new trial 195 with parameters {'z_sh': 12, 'z_sh_1': 11, 'z_sh_2': 7, 'z_sh_3': 6, 'z_r2': 84, 'z_r2_1': 77, 'z_r2_2': 76, 'z_r2_3': 75, 'x_s': 1.0, 'x_s_1': 0.9, 'x_s_2': -0.9, 'x_s_3': -1.0, 'x_r2': 1.0, 'x_r2_1': -0.8, 'x_r2_2': -0.9, 'x_r2_3': -1.0} using model BoTorch.\n",
      "[INFO 04-10 16:55:33] ax.service.ax_client: Completed trial 195 with data: {'Cross_term_gear_ratio_product': (np.float64(1146.37991), None)}.\n",
      "[INFO 04-10 16:55:45] ax.service.ax_client: Generated new trial 196 with parameters {'z_sh': 9, 'z_sh_1': 8, 'z_sh_2': 7, 'z_sh_3': 6, 'z_r2': 86, 'z_r2_1': 85, 'z_r2_2': 78, 'z_r2_3': 70, 'x_s': 1.0, 'x_s_1': 0.9, 'x_s_2': 0.8, 'x_s_3': 0.7, 'x_r2': 1.0, 'x_r2_1': 0.9, 'x_r2_2': 0.8, 'x_r2_3': -1.0} using model BoTorch.\n",
      "[INFO 04-10 16:55:45] ax.service.ax_client: Completed trial 196 with data: {'Cross_term_gear_ratio_product': (np.float64(8.193202), None)}.\n",
      "[INFO 04-10 16:55:59] ax.service.ax_client: Generated new trial 197 with parameters {'z_sh': 12, 'z_sh_1': 11, 'z_sh_2': 10, 'z_sh_3': 9, 'z_r2': 83, 'z_r2_1': 78, 'z_r2_2': 76, 'z_r2_3': 71, 'x_s': -0.7, 'x_s_1': -0.8, 'x_s_2': -0.9, 'x_s_3': -1.0, 'x_r2': 1.0, 'x_r2_1': 0.9, 'x_r2_2': 0.8, 'x_r2_3': 0.7} using model BoTorch.\n",
      "[INFO 04-10 16:55:59] ax.service.ax_client: Completed trial 197 with data: {'Cross_term_gear_ratio_product': (np.float64(1323.824178), None)}.\n",
      "[INFO 04-10 16:56:12] ax.service.ax_client: Generated new trial 198 with parameters {'z_sh': 12, 'z_sh_1': 11, 'z_sh_2': 10, 'z_sh_3': 6, 'z_r2': 85, 'z_r2_1': 80, 'z_r2_2': 75, 'z_r2_3': 74, 'x_s': 1.0, 'x_s_1': 0.9, 'x_s_2': 0.8, 'x_s_3': -1.0, 'x_r2': 1.0, 'x_r2_1': 0.9, 'x_r2_2': -0.9, 'x_r2_3': -1.0} using model BoTorch.\n",
      "[INFO 04-10 16:56:12] ax.service.ax_client: Completed trial 198 with data: {'Cross_term_gear_ratio_product': (np.float64(317.979722), None)}.\n",
      "[INFO 04-10 16:56:28] ax.service.ax_client: Generated new trial 199 with parameters {'z_sh': 12, 'z_sh_1': 11, 'z_sh_2': 7, 'z_sh_3': 6, 'z_r2': 86, 'z_r2_1': 72, 'z_r2_2': 71, 'z_r2_3': 70, 'x_s': 1.0, 'x_s_1': 0.9, 'x_s_2': 0.8, 'x_s_3': 0.7, 'x_r2': 1.0, 'x_r2_1': -0.8, 'x_r2_2': -0.9, 'x_r2_3': -1.0} using model BoTorch.\n",
      "[INFO 04-10 16:56:28] ax.service.ax_client: Completed trial 199 with data: {'Cross_term_gear_ratio_product': (np.float64(943.549374), None)}.\n",
      "[INFO 04-10 16:56:41] ax.service.ax_client: Generated new trial 200 with parameters {'z_sh': 11, 'z_sh_1': 10, 'z_sh_2': 9, 'z_sh_3': 8, 'z_r2': 81, 'z_r2_1': 76, 'z_r2_2': 75, 'z_r2_3': 74, 'x_s': 1.0, 'x_s_1': 0.9, 'x_s_2': -0.9, 'x_s_3': -1.0, 'x_r2': -0.7, 'x_r2_1': -0.8, 'x_r2_2': -0.9, 'x_r2_3': -1.0} using model BoTorch.\n",
      "[INFO 04-10 16:56:41] ax.service.ax_client: Completed trial 200 with data: {'Cross_term_gear_ratio_product': (np.float64(1780.020733), None)}.\n",
      "[INFO 04-10 16:56:53] ax.service.ax_client: Generated new trial 201 with parameters {'z_sh': 11, 'z_sh_1': 10, 'z_sh_2': 9, 'z_sh_3': 6, 'z_r2': 75, 'z_r2_1': 74, 'z_r2_2': 73, 'z_r2_3': 72, 'x_s': 1.0, 'x_s_1': 0.9, 'x_s_2': 0.8, 'x_s_3': -1.0, 'x_r2': 1.0, 'x_r2_1': 0.9, 'x_r2_2': 0.8, 'x_r2_3': 0.7} using model BoTorch.\n",
      "[INFO 04-10 16:56:53] ax.service.ax_client: Completed trial 201 with data: {'Cross_term_gear_ratio_product': (np.float64(2416.912833), None)}.\n",
      "[INFO 04-10 16:57:21] ax.service.ax_client: Generated new trial 202 with parameters {'z_sh': 12, 'z_sh_1': 8, 'z_sh_2': 7, 'z_sh_3': 6, 'z_r2': 75, 'z_r2_1': 74, 'z_r2_2': 73, 'z_r2_3': 72, 'x_s': 1.0, 'x_s_1': 0.899997, 'x_s_2': 0.79998, 'x_s_3': -0.016902, 'x_r2': 0.904258, 'x_r2_1': 0.707997, 'x_r2_2': 0.607992, 'x_r2_3': 0.282698} using model BoTorch.\n",
      "[INFO 04-10 16:57:21] ax.service.ax_client: Completed trial 202 with data: {'Cross_term_gear_ratio_product': (np.float64(2665.695761), None)}.\n",
      "[INFO 04-10 16:58:02] ax.service.ax_client: Generated new trial 203 with parameters {'z_sh': 12, 'z_sh_1': 11, 'z_sh_2': 10, 'z_sh_3': 6, 'z_r2': 77, 'z_r2_1': 76, 'z_r2_2': 75, 'z_r2_3': 73, 'x_s': 0.993797, 'x_s_1': 0.893797, 'x_s_2': 0.793303, 'x_s_3': -0.8025, 'x_r2': 0.425904, 'x_r2_1': 0.325904, 'x_r2_2': 0.225904, 'x_r2_3': 0.125904} using model BoTorch.\n",
      "[INFO 04-10 16:58:02] ax.service.ax_client: Completed trial 203 with data: {'Cross_term_gear_ratio_product': (np.float64(1971.847619), None)}.\n",
      "[INFO 04-10 16:58:16] ax.service.ax_client: Generated new trial 204 with parameters {'z_sh': 9, 'z_sh_1': 8, 'z_sh_2': 7, 'z_sh_3': 6, 'z_r2': 85, 'z_r2_1': 84, 'z_r2_2': 74, 'z_r2_3': 73, 'x_s': 1.0, 'x_s_1': 0.9, 'x_s_2': 0.8, 'x_s_3': 0.7, 'x_r2': 1.0, 'x_r2_1': 0.9, 'x_r2_2': 0.8, 'x_r2_3': 0.043754} using model BoTorch.\n",
      "[INFO 04-10 16:58:16] ax.service.ax_client: Completed trial 204 with data: {'Cross_term_gear_ratio_product': (np.float64(8.193202), None)}.\n",
      "[INFO 04-10 16:58:45] ax.service.ax_client: Generated new trial 205 with parameters {'z_sh': 12, 'z_sh_1': 9, 'z_sh_2': 8, 'z_sh_3': 6, 'z_r2': 83, 'z_r2_1': 76, 'z_r2_2': 75, 'z_r2_3': 74, 'x_s': 0.892287, 'x_s_1': 0.261329, 'x_s_2': 0.161329, 'x_s_3': -0.807759, 'x_r2': 0.283079, 'x_r2_1': 0.182391, 'x_r2_2': 0.082391, 'x_r2_3': -0.121479} using model BoTorch.\n",
      "[INFO 04-10 16:58:45] ax.service.ax_client: Completed trial 205 with data: {'Cross_term_gear_ratio_product': (np.float64(1266.727634), None)}.\n"
     ]
    }
   ],
   "source": [
    "for i in range(800):\n",
    "    parameterization, trial_index = Tag_client.get_next_trial()\n",
    "    # Local evaluation here can be replaced with deployment to external system.\n",
    "    Tag_client.complete_trial(trial_index=trial_index, raw_data=score_vals(param_to_list(parameterization)))"
   ]
  }
 ],
 "metadata": {
  "kernelspec": {
   "display_name": ".venv",
   "language": "python",
   "name": "python3"
  },
  "language_info": {
   "codemirror_mode": {
    "name": "ipython",
    "version": 3
   },
   "file_extension": ".py",
   "mimetype": "text/x-python",
   "name": "python",
   "nbconvert_exporter": "python",
   "pygments_lexer": "ipython3",
   "version": "3.12.3"
  }
 },
 "nbformat": 4,
 "nbformat_minor": 2
}
