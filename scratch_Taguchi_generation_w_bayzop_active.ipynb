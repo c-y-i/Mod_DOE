{
 "cells": [
  {
   "cell_type": "markdown",
   "metadata": {},
   "source": [
    "## Setup"
   ]
  },
  {
   "cell_type": "code",
   "execution_count": 1,
   "metadata": {},
   "outputs": [],
   "source": [
    "import numpy as np\n",
    "import matplotlib.pyplot as plt\n",
    "from matplotlib.patches import Polygon\n",
    "from matplotlib.transforms import Affine2D\n",
    "import time\n",
    "from matplotlib.offsetbox import AnchoredText \n",
    "import mplcursors \n",
    "import os\n",
    "import json\n",
    "\n",
    "import itertools\n",
    "import math\n",
    "\n",
    "from tqdm import tqdm\n",
    "\n",
    "import pyDOE\n",
    "import sys\n",
    "\n",
    "from ax.service.ax_client import AxClient, ObjectiveProperties\n",
    "from ax.utils.measurement.synthetic_functions import hartmann6\n",
    "from ax.utils.notebook.plotting import init_notebook_plotting, render\n",
    "import plotly.io as pio\n",
    "\n",
    "import pickle\n",
    "from matplotlib.pyplot import cm\n",
    "import scienceplots\n",
    "\n",
    "from utils import score_vals, param_to_list, list_to_param\n",
    "\n",
    "# Mute warnings:\n",
    "import warnings\n",
    "warnings.filterwarnings('ignore')"
   ]
  },
  {
   "cell_type": "code",
   "execution_count": 2,
   "metadata": {},
   "outputs": [],
   "source": [
    "from ax.plot.trace import optimization_trace_single_method"
   ]
  },
  {
   "cell_type": "code",
   "execution_count": 3,
   "metadata": {},
   "outputs": [],
   "source": [
    "config = {\n",
    "  \"MODULE\": 0.8e-3,\n",
    "  \"MC\": 0.8467e-3,\n",
    "  \"MU\": 0.21,\n",
    "  \"ALPHA\": 20,\n",
    "  \"XS\": 0.476,\n",
    "  \"XP1\": 0.762,\n",
    "  \"XP2\": 0.536,\n",
    "  \"XR1\": 2,\n",
    "  \"XR2\": 1.21,\n",
    "  \"XS_RANGE\": [-0.5, 0.5, 0.25],\n",
    "  \"XP1_RANGE\": [-1, 1, 0.25],\n",
    "  \"XP2_RANGE\": [-0.5, 0.5, 0.25],\n",
    "  \"XR2_RANGE\": [-1.5, 1.5, 0.25],\n",
    "  \"N_PLANETS\": 3,\n",
    "  \"SUN_LIMITS\": [4, 26],\n",
    "  \"P1_LIMITS\": [32, 42],\n",
    "  \"P2_LIMITS\": [25, 35],\n",
    "  \"R2_LIMITS\": [70,86],\n",
    "  \"STEPS\": [2, 1, 1, 1],\n",
    "  \"MIN_RATIO_THRESHOLD\": 90,\n",
    "  \"MIN_FORWARD_THRESHOLD\": 0.30,\n",
    "  \"MIN_BACKWARD_THRESHOLD\": 0.30\n",
    "}\n"
   ]
  },
  {
   "cell_type": "code",
   "execution_count": 4,
   "metadata": {},
   "outputs": [],
   "source": [
    "MODULE = config[\"MODULE\"]\n",
    "MU = config[\"MU\"]\n",
    "MC = config.get(\"MC\", MODULE)\n",
    "ALPHA = np.radians(config.get(\"ALPHA\", 20))\n",
    "XR1 = config.get(\"XR1\", 0.0)\n",
    "N_PLANETS = config[\"N_PLANETS\"]\n",
    "TARGET_GEAR_RATIO = 100\n",
    "RATIO_TOLERANCE = 10"
   ]
  },
  {
   "cell_type": "markdown",
   "metadata": {},
   "source": [
    "## Start up client"
   ]
  },
  {
   "cell_type": "code",
   "execution_count": 5,
   "metadata": {},
   "outputs": [
    {
     "name": "stderr",
     "output_type": "stream",
     "text": [
      "[INFO 04-10 13:51:24] ax.service.ax_client: Starting optimization with verbose logging. To disable logging, set the `verbose_logging` argument to `False`. Note that float values in the logs are rounded to 6 decimal points.\n"
     ]
    }
   ],
   "source": [
    "Tag_client = AxClient()"
   ]
  },
  {
   "cell_type": "code",
   "execution_count": 6,
   "metadata": {},
   "outputs": [
    {
     "name": "stderr",
     "output_type": "stream",
     "text": [
      "[INFO 04-10 13:51:24] ax.service.utils.instantiation: Created search space: SearchSpace(parameters=[RangeParameter(name='z_sh', parameter_type=INT, range=[7, 15]), RangeParameter(name='z_sh_1', parameter_type=INT, range=[6, 14]), RangeParameter(name='z_sh_2', parameter_type=INT, range=[5, 13]), RangeParameter(name='z_r2', parameter_type=INT, range=[72, 86]), RangeParameter(name='z_r2_1', parameter_type=INT, range=[71, 85]), RangeParameter(name='z_r2_2', parameter_type=INT, range=[70, 84]), RangeParameter(name='x_s', parameter_type=FLOAT, range=[-0.98, 1.0]), RangeParameter(name='x_s_1', parameter_type=FLOAT, range=[-0.99, 0.99]), RangeParameter(name='x_s_2', parameter_type=FLOAT, range=[-1.0, 0.98]), RangeParameter(name='x_r2', parameter_type=FLOAT, range=[-0.98, 1.0]), RangeParameter(name='x_r2_1', parameter_type=FLOAT, range=[-0.99, 0.99]), RangeParameter(name='x_r2_2', parameter_type=FLOAT, range=[-1.0, 0.98])], parameter_constraints=[ParameterConstraint(-1.0*z_sh + 1.0*z_sh_1 <= -1.0), ParameterConstraint(-1.0*z_sh_1 + 1.0*z_sh_2 <= -1.0), ParameterConstraint(-1.0*z_r2 + 1.0*z_r2_1 <= -1.0), ParameterConstraint(-1.0*z_r2_1 + 1.0*z_r2_2 <= -1.0), ParameterConstraint(-1.0*x_s + 1.0*x_s_1 <= -0.1), ParameterConstraint(-1.0*x_s_1 + 1.0*x_s_2 <= -0.1), ParameterConstraint(-1.0*x_r2 + 1.0*x_r2_1 <= -0.1), ParameterConstraint(-1.0*x_r2_1 + 1.0*x_r2_2 <= -0.1)]).\n",
      "[INFO 04-10 13:51:24] ax.modelbridge.dispatch_utils: Using Models.BOTORCH_MODULAR since there is at least one ordered parameter and there are no unordered categorical parameters.\n",
      "[INFO 04-10 13:51:24] ax.modelbridge.dispatch_utils: Calculating the number of remaining initialization trials based on num_initialization_trials=None max_initialization_trials=None num_tunable_parameters=12 num_trials=None use_batch_trials=False\n",
      "[INFO 04-10 13:51:24] ax.modelbridge.dispatch_utils: calculated num_initialization_trials=24\n",
      "[INFO 04-10 13:51:24] ax.modelbridge.dispatch_utils: num_completed_initialization_trials=0 num_remaining_initialization_trials=24\n",
      "[INFO 04-10 13:51:24] ax.modelbridge.dispatch_utils: `verbose`, `disable_progbar`, and `jit_compile` are not yet supported when using `choose_generation_strategy` with ModularBoTorchModel, dropping these arguments.\n",
      "[INFO 04-10 13:51:24] ax.modelbridge.dispatch_utils: Using Bayesian Optimization generation strategy: GenerationStrategy(name='Sobol+BoTorch', steps=[Sobol for 24 trials, BoTorch for subsequent trials]). Iterations after 24 will take longer to generate due to model-fitting.\n"
     ]
    }
   ],
   "source": [
    "# Define bounds for each parameter type\n",
    "int_bounds = {\n",
    "    \"z_sh\": [5, 15], #NOTE - z_sh is actually half z_s (which must be even)\n",
    "    \"z_r2\": [70, 86],\n",
    "}\n",
    "\n",
    "float_bounds = {\n",
    "    \"x_s\": [-1, 1],\n",
    "    \"x_r2\": [-1., 1.],\n",
    "    # Cl is fixed as : 0.10-0.40\n",
    "}\n",
    "\n",
    "paper_vals = [6, 81, .476, 1.0]\n",
    "\n",
    "# Number of copies for each parameter\n",
    "num_copies = 3\n",
    "\n",
    "# Generate parameters dynamically\n",
    "parameters = []\n",
    "\n",
    "# Add integer parameters\n",
    "for name, bounds in int_bounds.items():\n",
    "    lower, upper = bounds\n",
    "    for i in range(num_copies):\n",
    "        param_name = f\"{name}\" if i == 0 else f\"{name}_{i}\"\n",
    "        parameters.append({\n",
    "            \"name\": param_name,\n",
    "            \"type\": \"range\",\n",
    "            \"bounds\": [lower + (num_copies-1-i), upper - i],  # adjust bounds to deal with order\n",
    "            \"value_type\": \"int\",\n",
    "        })\n",
    "\n",
    "# Add float parameters\n",
    "for name, bounds in float_bounds.items():\n",
    "    lower, upper = bounds\n",
    "    for i in range(num_copies):\n",
    "        param_name = f\"{name}\" if i == 0 else f\"{name}_{i}\"\n",
    "        parameters.append({\n",
    "            \"name\": param_name,\n",
    "            \"type\": \"range\",\n",
    "            \"bounds\": [lower + (.01*(num_copies-1-i)), upper - .01*i],  # adjust bounds to deal with order\n",
    "            \"value_type\": \"float\",\n",
    "        })\n",
    "\n",
    "# Add int / float parameters that make sure \n",
    "\n",
    "# Generate parameter constraints\n",
    "parameter_constraints = []\n",
    "\n",
    "# Ensure integer `z` values satisfy z_s - z_s_1 >= 1\n",
    "for name in int_bounds.keys():\n",
    "    for i in range(num_copies-1):\n",
    "        j = i+1\n",
    "        param_i = f\"{name}\" if i == 0 else f\"{name}_{i}\"\n",
    "        param_j = f\"{name}_{j}\"\n",
    "        parameter_constraints.append(f\"{param_i} - {param_j} >= 1\")\n",
    "\n",
    "# Ensure float `x` values satisfy x_s - x_s_1 >= 0.1\n",
    "for name in float_bounds.keys():\n",
    "    for i in range(num_copies-1):\n",
    "        j = i+1\n",
    "        param_i = f\"{name}\" if i == 0 else f\"{name}_{i}\"\n",
    "        param_j = f\"{name}_{j}\"\n",
    "        parameter_constraints.append(f\"{param_i} - {param_j} >= 0.1\")\n",
    "\n",
    "# Create the experiment\n",
    "Tag_client.create_experiment(\n",
    "    name=\"gear_experiment\",\n",
    "    parameters=parameters,\n",
    "    objectives={\"Viable_Cross_Terms\": ObjectiveProperties(minimize=False)},\n",
    "    parameter_constraints=parameter_constraints,  # Add constraints here\n",
    "    # outcome_constraints=[\"l2norm <= 1.25\"],  # Optional.\n",
    ")\n",
    "\n",
    "# Print constraints for verification\n",
    "# print(\"Parameter Constraints:\")\n",
    "# for constraint in parameter_constraints:\n",
    "#     print(constraint)"
   ]
  },
  {
   "cell_type": "code",
   "execution_count": 7,
   "metadata": {},
   "outputs": [
    {
     "name": "stdout",
     "output_type": "stream",
     "text": [
      "max_cross_terms: 1024\n"
     ]
    }
   ],
   "source": [
    "max_cross_terms = 4**(len(int_bounds) + len(float_bounds)+1) # plus Cl.\n",
    "print(f'max_cross_terms: {max_cross_terms}')"
   ]
  },
  {
   "cell_type": "code",
   "execution_count": 8,
   "metadata": {},
   "outputs": [],
   "source": [
    "# -1.0*z_p2 + 1.0*z_p2_1 <= -1.0\n",
    "# -1.0*x_p2_1 + 1.0*x_p2 <= -0.01"
   ]
  },
  {
   "cell_type": "code",
   "execution_count": 9,
   "metadata": {},
   "outputs": [
    {
     "data": {
      "text/plain": [
       "[{'name': 'z_sh', 'type': 'range', 'bounds': [7, 15], 'value_type': 'int'},\n",
       " {'name': 'z_sh_1', 'type': 'range', 'bounds': [6, 14], 'value_type': 'int'},\n",
       " {'name': 'z_sh_2', 'type': 'range', 'bounds': [5, 13], 'value_type': 'int'},\n",
       " {'name': 'z_r2', 'type': 'range', 'bounds': [72, 86], 'value_type': 'int'},\n",
       " {'name': 'z_r2_1', 'type': 'range', 'bounds': [71, 85], 'value_type': 'int'},\n",
       " {'name': 'z_r2_2', 'type': 'range', 'bounds': [70, 84], 'value_type': 'int'},\n",
       " {'name': 'x_s',\n",
       "  'type': 'range',\n",
       "  'bounds': [-0.98, 1.0],\n",
       "  'value_type': 'float'},\n",
       " {'name': 'x_s_1',\n",
       "  'type': 'range',\n",
       "  'bounds': [-0.99, 0.99],\n",
       "  'value_type': 'float'},\n",
       " {'name': 'x_s_2',\n",
       "  'type': 'range',\n",
       "  'bounds': [-1.0, 0.98],\n",
       "  'value_type': 'float'},\n",
       " {'name': 'x_r2',\n",
       "  'type': 'range',\n",
       "  'bounds': [-0.98, 1.0],\n",
       "  'value_type': 'float'},\n",
       " {'name': 'x_r2_1',\n",
       "  'type': 'range',\n",
       "  'bounds': [-0.99, 0.99],\n",
       "  'value_type': 'float'},\n",
       " {'name': 'x_r2_2',\n",
       "  'type': 'range',\n",
       "  'bounds': [-1.0, 0.98],\n",
       "  'value_type': 'float'}]"
      ]
     },
     "execution_count": 9,
     "metadata": {},
     "output_type": "execute_result"
    }
   ],
   "source": [
    "parameters"
   ]
  },
  {
   "cell_type": "code",
   "execution_count": 10,
   "metadata": {},
   "outputs": [
    {
     "data": {
      "text/plain": [
       "['z_sh - z_sh_1 >= 1',\n",
       " 'z_sh_1 - z_sh_2 >= 1',\n",
       " 'z_r2 - z_r2_1 >= 1',\n",
       " 'z_r2_1 - z_r2_2 >= 1',\n",
       " 'x_s - x_s_1 >= 0.1',\n",
       " 'x_s_1 - x_s_2 >= 0.1',\n",
       " 'x_r2 - x_r2_1 >= 0.1',\n",
       " 'x_r2_1 - x_r2_2 >= 0.1']"
      ]
     },
     "execution_count": 10,
     "metadata": {},
     "output_type": "execute_result"
    }
   ],
   "source": [
    "parameter_constraints"
   ]
  },
  {
   "cell_type": "markdown",
   "metadata": {},
   "source": [
    "### Run tests to solve for best possible score    "
   ]
  },
  {
   "cell_type": "code",
   "execution_count": 11,
   "metadata": {},
   "outputs": [
    {
     "name": "stderr",
     "output_type": "stream",
     "text": [
      "[WARNING 04-10 13:51:24] ax.modelbridge.transforms.int_to_float: Unable to round {'z_sh': 14.89518571617473, 'z_sh_1': 10.369652356927432, 'z_sh_2': 6.112244990158043, 'z_r2': 85.45675460448275, 'z_r2_1': 73.30946883394843, 'z_r2_2': 69.79065102927366, 'x_s': 0.09748274566605697, 'x_s_1': -0.18886407231912017, 'x_s_2': -0.8719280664250255, 'x_r2': 0.199709575176239, 'x_r2_1': -0.39235822202637793, 'x_r2_2': -0.9198320652917027}to meet parameter constraints of SearchSpace(parameters=[RangeParameter(name='z_sh', parameter_type=INT, range=[7, 15]), RangeParameter(name='z_sh_1', parameter_type=INT, range=[6, 14]), RangeParameter(name='z_sh_2', parameter_type=INT, range=[5, 13]), RangeParameter(name='z_r2', parameter_type=INT, range=[72, 86]), RangeParameter(name='z_r2_1', parameter_type=INT, range=[71, 85]), RangeParameter(name='z_r2_2', parameter_type=INT, range=[70, 84]), RangeParameter(name='x_s', parameter_type=FLOAT, range=[0.0, 1.0]), RangeParameter(name='x_s_1', parameter_type=FLOAT, range=[0.0, 1.0]), RangeParameter(name='x_s_2', parameter_type=FLOAT, range=[0.0, 1.0]), RangeParameter(name='x_r2', parameter_type=FLOAT, range=[0.0, 1.0]), RangeParameter(name='x_r2_1', parameter_type=FLOAT, range=[0.0, 1.0]), RangeParameter(name='x_r2_2', parameter_type=FLOAT, range=[0.0, 1.0])], parameter_constraints=[ParameterConstraint(-1.0*z_sh + 1.0*z_sh_1 <= -1.0), ParameterConstraint(-1.0*z_sh_1 + 1.0*z_sh_2 <= -1.0), ParameterConstraint(-1.0*z_r2 + 1.0*z_r2_1 <= -1.0), ParameterConstraint(-1.0*z_r2_1 + 1.0*z_r2_2 <= -1.0), ParameterConstraint(-1.0*x_s + 1.0*x_s_1 <= -0.1), ParameterConstraint(-1.0*x_s_1 + 1.0*x_s_2 <= -0.1), ParameterConstraint(-1.0*x_r2 + 1.0*x_r2_1 <= -0.1), ParameterConstraint(-1.0*x_r2_1 + 1.0*x_r2_2 <= -0.1)])\n",
      "[WARNING 04-10 13:51:24] ax.modelbridge.transforms.int_to_float: Unable to round {'z_sh': np.float64(15.0), 'z_sh_1': np.float64(10.0), 'z_sh_2': np.float64(6.0), 'z_r2': np.float64(85.0), 'z_r2_1': np.float64(73.0), 'z_r2_2': np.float64(70.0), 'x_s': np.float64(0.09748274566605697), 'x_s_1': np.float64(-0.18886407231912017), 'x_s_2': np.float64(-0.8719280664250255), 'x_r2': np.float64(0.199709575176239), 'x_r2_1': np.float64(-0.39235822202637793), 'x_r2_2': np.float64(-0.9198320652917027)}to meet parameter constraints of SearchSpace(parameters=[RangeParameter(name='z_sh', parameter_type=INT, range=[7, 15]), RangeParameter(name='z_sh_1', parameter_type=INT, range=[6, 14]), RangeParameter(name='z_sh_2', parameter_type=INT, range=[5, 13]), RangeParameter(name='z_r2', parameter_type=INT, range=[72, 86]), RangeParameter(name='z_r2_1', parameter_type=INT, range=[71, 85]), RangeParameter(name='z_r2_2', parameter_type=INT, range=[70, 84]), RangeParameter(name='x_s', parameter_type=FLOAT, range=[0.0, 1.0]), RangeParameter(name='x_s_1', parameter_type=FLOAT, range=[0.0, 1.0]), RangeParameter(name='x_s_2', parameter_type=FLOAT, range=[0.0, 1.0]), RangeParameter(name='x_r2', parameter_type=FLOAT, range=[0.0, 1.0]), RangeParameter(name='x_r2_1', parameter_type=FLOAT, range=[0.0, 1.0]), RangeParameter(name='x_r2_2', parameter_type=FLOAT, range=[0.0, 1.0])], parameter_constraints=[ParameterConstraint(-1.0*z_sh + 1.0*z_sh_1 <= -1.0), ParameterConstraint(-1.0*z_sh_1 + 1.0*z_sh_2 <= -1.0), ParameterConstraint(-1.0*z_r2 + 1.0*z_r2_1 <= -1.0), ParameterConstraint(-1.0*z_r2_1 + 1.0*z_r2_2 <= -1.0), ParameterConstraint(-1.0*x_s + 1.0*x_s_1 <= -0.1), ParameterConstraint(-1.0*x_s_1 + 1.0*x_s_2 <= -0.1), ParameterConstraint(-1.0*x_r2 + 1.0*x_r2_1 <= -0.1), ParameterConstraint(-1.0*x_r2_1 + 1.0*x_r2_2 <= -0.1)])\n",
      "[INFO 04-10 13:51:24] ax.service.ax_client: Generated new trial 0 with parameters {'z_sh': 15, 'z_sh_1': 10, 'z_sh_2': 6, 'z_r2': 85, 'z_r2_1': 73, 'z_r2_2': 70, 'x_s': 0.097483, 'x_s_1': -0.188864, 'x_s_2': -0.871928, 'x_r2': 0.19971, 'x_r2_1': -0.392358, 'x_r2_2': -0.919832} using model Sobol.\n"
     ]
    }
   ],
   "source": [
    "success = 0\n",
    "while not success:\n",
    "    try:\n",
    "        parameterization, trial_index = Tag_client.get_next_trial()\n",
    "        success = 1\n",
    "    except:\n",
    "        print(\"Error: unable to find next trial.\")"
   ]
  },
  {
   "cell_type": "code",
   "execution_count": 12,
   "metadata": {},
   "outputs": [
    {
     "data": {
      "text/plain": [
       "{'z_sh': 15,\n",
       " 'z_sh_1': 10,\n",
       " 'z_sh_2': 6,\n",
       " 'z_r2': 85,\n",
       " 'z_r2_1': 73,\n",
       " 'z_r2_2': 70,\n",
       " 'x_s': 0.09748274566605697,\n",
       " 'x_s_1': -0.18886407231912017,\n",
       " 'x_s_2': -0.8719280664250255,\n",
       " 'x_r2': 0.199709575176239,\n",
       " 'x_r2_1': -0.39235822202637793,\n",
       " 'x_r2_2': -0.9198320652917027}"
      ]
     },
     "execution_count": 12,
     "metadata": {},
     "output_type": "execute_result"
    }
   ],
   "source": [
    "parameterization"
   ]
  },
  {
   "cell_type": "code",
   "execution_count": 13,
   "metadata": {},
   "outputs": [
    {
     "name": "stdout",
     "output_type": "stream",
     "text": [
      "12\n",
      "z_sh: 15\n",
      "z_sh_1: 10\n",
      "z_sh_2: 6\n",
      "z_r2: 85\n",
      "z_r2_1: 73\n",
      "z_r2_2: 70\n",
      "x_s: 0.09748274566605697\n",
      "x_s_1: -0.18886407231912017\n",
      "x_s_2: -0.8719280664250255\n",
      "x_r2: 0.199709575176239\n",
      "x_r2_1: -0.39235822202637793\n",
      "x_r2_2: -0.9198320652917027\n"
     ]
    }
   ],
   "source": [
    "print(len(parameterization))\n",
    "for name, value in parameterization.items():\n",
    "    print(f\"{name}: {value}\")"
   ]
  },
  {
   "cell_type": "code",
   "execution_count": 14,
   "metadata": {},
   "outputs": [
    {
     "name": "stderr",
     "output_type": "stream",
     "text": [
      "[INFO 04-10 13:51:25] ax.service.ax_client: Completed trial 0 with data: {'Viable_Cross_Terms': (497, None)}.\n"
     ]
    }
   ],
   "source": [
    "Tag_client.complete_trial(trial_index=trial_index, raw_data=score_vals(param_to_list(parameterization, add_cl = True)))"
   ]
  },
  {
   "cell_type": "code",
   "execution_count": 15,
   "metadata": {},
   "outputs": [
    {
     "name": "stdout",
     "output_type": "stream",
     "text": [
      "[array([15, 10,  6]), array([85, 73, 70]), array([ 0.09748275, -0.18886407, -0.87192807]), array([ 0.19970958, -0.39235822, -0.91983207]), array([0.0002, 0.0003, 0.0004])]\n"
     ]
    }
   ],
   "source": [
    "list = param_to_list(parameterization, add_cl = True)\n",
    "print(list)"
   ]
  },
  {
   "cell_type": "markdown",
   "metadata": {},
   "source": [
    "NOTE - run the following through 'Exhausted' errors."
   ]
  },
  {
   "cell_type": "code",
   "execution_count": 16,
   "metadata": {},
   "outputs": [
    {
     "name": "stderr",
     "output_type": "stream",
     "text": [
      "[WARNING 04-10 13:51:25] ax.modelbridge.transforms.int_to_float: Unable to round {'z_sh': 10.277975211685598, 'z_sh_1': 7.425499702813699, 'z_sh_2': 4.6150120962522365, 'z_r2': 73.53261317911213, 'z_r2_1': 72.2971910484789, 'z_r2_2': 69.9037362192017, 'x_s': 0.46775089237838974, 'x_s_1': 0.2873858828656375, 'x_s_2': -0.5757044620998204, 'x_r2': 0.8096036698482931, 'x_r2_1': 0.3627705234289169, 'x_r2_2': 0.11083223871886738}to meet parameter constraints of SearchSpace(parameters=[RangeParameter(name='z_sh', parameter_type=INT, range=[7, 15]), RangeParameter(name='z_sh_1', parameter_type=INT, range=[6, 14]), RangeParameter(name='z_sh_2', parameter_type=INT, range=[5, 13]), RangeParameter(name='z_r2', parameter_type=INT, range=[72, 86]), RangeParameter(name='z_r2_1', parameter_type=INT, range=[71, 85]), RangeParameter(name='z_r2_2', parameter_type=INT, range=[70, 84]), RangeParameter(name='x_s', parameter_type=FLOAT, range=[0.0, 1.0]), RangeParameter(name='x_s_1', parameter_type=FLOAT, range=[0.0, 1.0]), RangeParameter(name='x_s_2', parameter_type=FLOAT, range=[0.0, 1.0]), RangeParameter(name='x_r2', parameter_type=FLOAT, range=[0.0, 1.0]), RangeParameter(name='x_r2_1', parameter_type=FLOAT, range=[0.0, 1.0]), RangeParameter(name='x_r2_2', parameter_type=FLOAT, range=[0.0, 1.0])], parameter_constraints=[ParameterConstraint(-1.0*z_sh + 1.0*z_sh_1 <= -1.0), ParameterConstraint(-1.0*z_sh_1 + 1.0*z_sh_2 <= -1.0), ParameterConstraint(-1.0*z_r2 + 1.0*z_r2_1 <= -1.0), ParameterConstraint(-1.0*z_r2_1 + 1.0*z_r2_2 <= -1.0), ParameterConstraint(-1.0*x_s + 1.0*x_s_1 <= -0.1), ParameterConstraint(-1.0*x_s_1 + 1.0*x_s_2 <= -0.1), ParameterConstraint(-1.0*x_r2 + 1.0*x_r2_1 <= -0.1), ParameterConstraint(-1.0*x_r2_1 + 1.0*x_r2_2 <= -0.1)])\n",
      "[WARNING 04-10 13:51:25] ax.modelbridge.transforms.int_to_float: Unable to round {'z_sh': np.float64(10.0), 'z_sh_1': np.float64(7.0), 'z_sh_2': np.float64(5.0), 'z_r2': np.float64(74.0), 'z_r2_1': np.float64(72.0), 'z_r2_2': np.float64(70.0), 'x_s': np.float64(0.46775089237838974), 'x_s_1': np.float64(0.2873858828656375), 'x_s_2': np.float64(-0.5757044620998204), 'x_r2': np.float64(0.8096036698482931), 'x_r2_1': np.float64(0.3627705234289169), 'x_r2_2': np.float64(0.11083223871886738)}to meet parameter constraints of SearchSpace(parameters=[RangeParameter(name='z_sh', parameter_type=INT, range=[7, 15]), RangeParameter(name='z_sh_1', parameter_type=INT, range=[6, 14]), RangeParameter(name='z_sh_2', parameter_type=INT, range=[5, 13]), RangeParameter(name='z_r2', parameter_type=INT, range=[72, 86]), RangeParameter(name='z_r2_1', parameter_type=INT, range=[71, 85]), RangeParameter(name='z_r2_2', parameter_type=INT, range=[70, 84]), RangeParameter(name='x_s', parameter_type=FLOAT, range=[0.0, 1.0]), RangeParameter(name='x_s_1', parameter_type=FLOAT, range=[0.0, 1.0]), RangeParameter(name='x_s_2', parameter_type=FLOAT, range=[0.0, 1.0]), RangeParameter(name='x_r2', parameter_type=FLOAT, range=[0.0, 1.0]), RangeParameter(name='x_r2_1', parameter_type=FLOAT, range=[0.0, 1.0]), RangeParameter(name='x_r2_2', parameter_type=FLOAT, range=[0.0, 1.0])], parameter_constraints=[ParameterConstraint(-1.0*z_sh + 1.0*z_sh_1 <= -1.0), ParameterConstraint(-1.0*z_sh_1 + 1.0*z_sh_2 <= -1.0), ParameterConstraint(-1.0*z_r2 + 1.0*z_r2_1 <= -1.0), ParameterConstraint(-1.0*z_r2_1 + 1.0*z_r2_2 <= -1.0), ParameterConstraint(-1.0*x_s + 1.0*x_s_1 <= -0.1), ParameterConstraint(-1.0*x_s_1 + 1.0*x_s_2 <= -0.1), ParameterConstraint(-1.0*x_r2 + 1.0*x_r2_1 <= -0.1), ParameterConstraint(-1.0*x_r2_1 + 1.0*x_r2_2 <= -0.1)])\n",
      "[INFO 04-10 13:51:25] ax.service.ax_client: Generated new trial 1 with parameters {'z_sh': 10, 'z_sh_1': 7, 'z_sh_2': 5, 'z_r2': 74, 'z_r2_1': 72, 'z_r2_2': 70, 'x_s': 0.467751, 'x_s_1': 0.287386, 'x_s_2': -0.575704, 'x_r2': 0.809604, 'x_r2_1': 0.362771, 'x_r2_2': 0.110832} using model Sobol.\n",
      "[INFO 04-10 13:51:25] ax.service.ax_client: Completed trial 1 with data: {'Viable_Cross_Terms': (674, None)}.\n",
      "[WARNING 04-10 13:51:25] ax.modelbridge.transforms.int_to_float: Unable to round {'z_sh': 14.863450300347079, 'z_sh_1': 13.393135960813837, 'z_sh_2': 8.209046465617455, 'z_r2': 73.85617576557718, 'z_r2_1': 72.02452709603277, 'z_r2_2': 70.77940509073663, 'x_s': 0.8296122629567981, 'x_s_1': -0.24787239773198966, 'x_s_2': -0.4955594651401043, 'x_r2': -0.2242126946151256, 'x_r2_1': -0.416647516451776, 'x_r2_2': -0.6472467356547713}to meet parameter constraints of SearchSpace(parameters=[RangeParameter(name='z_sh', parameter_type=INT, range=[7, 15]), RangeParameter(name='z_sh_1', parameter_type=INT, range=[6, 14]), RangeParameter(name='z_sh_2', parameter_type=INT, range=[5, 13]), RangeParameter(name='z_r2', parameter_type=INT, range=[72, 86]), RangeParameter(name='z_r2_1', parameter_type=INT, range=[71, 85]), RangeParameter(name='z_r2_2', parameter_type=INT, range=[70, 84]), RangeParameter(name='x_s', parameter_type=FLOAT, range=[0.0, 1.0]), RangeParameter(name='x_s_1', parameter_type=FLOAT, range=[0.0, 1.0]), RangeParameter(name='x_s_2', parameter_type=FLOAT, range=[0.0, 1.0]), RangeParameter(name='x_r2', parameter_type=FLOAT, range=[0.0, 1.0]), RangeParameter(name='x_r2_1', parameter_type=FLOAT, range=[0.0, 1.0]), RangeParameter(name='x_r2_2', parameter_type=FLOAT, range=[0.0, 1.0])], parameter_constraints=[ParameterConstraint(-1.0*z_sh + 1.0*z_sh_1 <= -1.0), ParameterConstraint(-1.0*z_sh_1 + 1.0*z_sh_2 <= -1.0), ParameterConstraint(-1.0*z_r2 + 1.0*z_r2_1 <= -1.0), ParameterConstraint(-1.0*z_r2_1 + 1.0*z_r2_2 <= -1.0), ParameterConstraint(-1.0*x_s + 1.0*x_s_1 <= -0.1), ParameterConstraint(-1.0*x_s_1 + 1.0*x_s_2 <= -0.1), ParameterConstraint(-1.0*x_r2 + 1.0*x_r2_1 <= -0.1), ParameterConstraint(-1.0*x_r2_1 + 1.0*x_r2_2 <= -0.1)])\n",
      "[WARNING 04-10 13:51:25] ax.modelbridge.transforms.int_to_float: Unable to round {'z_sh': np.float64(15.0), 'z_sh_1': np.float64(13.0), 'z_sh_2': np.float64(8.0), 'z_r2': np.float64(74.0), 'z_r2_1': np.float64(72.0), 'z_r2_2': np.float64(71.0), 'x_s': np.float64(0.8296122629567981), 'x_s_1': np.float64(-0.24787239773198966), 'x_s_2': np.float64(-0.4955594651401043), 'x_r2': np.float64(-0.2242126946151256), 'x_r2_1': np.float64(-0.416647516451776), 'x_r2_2': np.float64(-0.6472467356547713)}to meet parameter constraints of SearchSpace(parameters=[RangeParameter(name='z_sh', parameter_type=INT, range=[7, 15]), RangeParameter(name='z_sh_1', parameter_type=INT, range=[6, 14]), RangeParameter(name='z_sh_2', parameter_type=INT, range=[5, 13]), RangeParameter(name='z_r2', parameter_type=INT, range=[72, 86]), RangeParameter(name='z_r2_1', parameter_type=INT, range=[71, 85]), RangeParameter(name='z_r2_2', parameter_type=INT, range=[70, 84]), RangeParameter(name='x_s', parameter_type=FLOAT, range=[0.0, 1.0]), RangeParameter(name='x_s_1', parameter_type=FLOAT, range=[0.0, 1.0]), RangeParameter(name='x_s_2', parameter_type=FLOAT, range=[0.0, 1.0]), RangeParameter(name='x_r2', parameter_type=FLOAT, range=[0.0, 1.0]), RangeParameter(name='x_r2_1', parameter_type=FLOAT, range=[0.0, 1.0]), RangeParameter(name='x_r2_2', parameter_type=FLOAT, range=[0.0, 1.0])], parameter_constraints=[ParameterConstraint(-1.0*z_sh + 1.0*z_sh_1 <= -1.0), ParameterConstraint(-1.0*z_sh_1 + 1.0*z_sh_2 <= -1.0), ParameterConstraint(-1.0*z_r2 + 1.0*z_r2_1 <= -1.0), ParameterConstraint(-1.0*z_r2_1 + 1.0*z_r2_2 <= -1.0), ParameterConstraint(-1.0*x_s + 1.0*x_s_1 <= -0.1), ParameterConstraint(-1.0*x_s_1 + 1.0*x_s_2 <= -0.1), ParameterConstraint(-1.0*x_r2 + 1.0*x_r2_1 <= -0.1), ParameterConstraint(-1.0*x_r2_1 + 1.0*x_r2_2 <= -0.1)])\n",
      "[INFO 04-10 13:51:25] ax.service.ax_client: Generated new trial 2 with parameters {'z_sh': 15, 'z_sh_1': 13, 'z_sh_2': 8, 'z_r2': 74, 'z_r2_1': 72, 'z_r2_2': 71, 'x_s': 0.829612, 'x_s_1': -0.247872, 'x_s_2': -0.495559, 'x_r2': -0.224213, 'x_r2_1': -0.416648, 'x_r2_2': -0.647247} using model Sobol.\n",
      "[INFO 04-10 13:51:25] ax.service.ax_client: Completed trial 2 with data: {'Viable_Cross_Terms': (774, None)}.\n",
      "[WARNING 04-10 13:51:25] ax.modelbridge.transforms.int_to_float: Unable to round {'z_sh': 13.41676009481119, 'z_sh_1': 11.621709067786895, 'z_sh_2': 9.715310211479254, 'z_r2': 79.82157981002607, 'z_r2_1': 71.93143671388292, 'z_r2_2': 70.04212676015926, 'x_s': 0.8448025071248413, 'x_s_1': 0.09684802059084174, 'x_s_2': -0.6420850986614823, 'x_r2': 0.3868732741661369, 'x_r2_1': 0.09032460713759072, 'x_r2_2': -0.9836569527909159}to meet parameter constraints of SearchSpace(parameters=[RangeParameter(name='z_sh', parameter_type=INT, range=[7, 15]), RangeParameter(name='z_sh_1', parameter_type=INT, range=[6, 14]), RangeParameter(name='z_sh_2', parameter_type=INT, range=[5, 13]), RangeParameter(name='z_r2', parameter_type=INT, range=[72, 86]), RangeParameter(name='z_r2_1', parameter_type=INT, range=[71, 85]), RangeParameter(name='z_r2_2', parameter_type=INT, range=[70, 84]), RangeParameter(name='x_s', parameter_type=FLOAT, range=[0.0, 1.0]), RangeParameter(name='x_s_1', parameter_type=FLOAT, range=[0.0, 1.0]), RangeParameter(name='x_s_2', parameter_type=FLOAT, range=[0.0, 1.0]), RangeParameter(name='x_r2', parameter_type=FLOAT, range=[0.0, 1.0]), RangeParameter(name='x_r2_1', parameter_type=FLOAT, range=[0.0, 1.0]), RangeParameter(name='x_r2_2', parameter_type=FLOAT, range=[0.0, 1.0])], parameter_constraints=[ParameterConstraint(-1.0*z_sh + 1.0*z_sh_1 <= -1.0), ParameterConstraint(-1.0*z_sh_1 + 1.0*z_sh_2 <= -1.0), ParameterConstraint(-1.0*z_r2 + 1.0*z_r2_1 <= -1.0), ParameterConstraint(-1.0*z_r2_1 + 1.0*z_r2_2 <= -1.0), ParameterConstraint(-1.0*x_s + 1.0*x_s_1 <= -0.1), ParameterConstraint(-1.0*x_s_1 + 1.0*x_s_2 <= -0.1), ParameterConstraint(-1.0*x_r2 + 1.0*x_r2_1 <= -0.1), ParameterConstraint(-1.0*x_r2_1 + 1.0*x_r2_2 <= -0.1)])\n",
      "[WARNING 04-10 13:51:25] ax.modelbridge.transforms.int_to_float: Unable to round {'z_sh': np.float64(13.0), 'z_sh_1': np.float64(12.0), 'z_sh_2': np.float64(10.0), 'z_r2': np.float64(80.0), 'z_r2_1': np.float64(72.0), 'z_r2_2': np.float64(70.0), 'x_s': np.float64(0.8448025071248413), 'x_s_1': np.float64(0.09684802059084174), 'x_s_2': np.float64(-0.6420850986614823), 'x_r2': np.float64(0.3868732741661369), 'x_r2_1': np.float64(0.09032460713759072), 'x_r2_2': np.float64(-0.9836569527909159)}to meet parameter constraints of SearchSpace(parameters=[RangeParameter(name='z_sh', parameter_type=INT, range=[7, 15]), RangeParameter(name='z_sh_1', parameter_type=INT, range=[6, 14]), RangeParameter(name='z_sh_2', parameter_type=INT, range=[5, 13]), RangeParameter(name='z_r2', parameter_type=INT, range=[72, 86]), RangeParameter(name='z_r2_1', parameter_type=INT, range=[71, 85]), RangeParameter(name='z_r2_2', parameter_type=INT, range=[70, 84]), RangeParameter(name='x_s', parameter_type=FLOAT, range=[0.0, 1.0]), RangeParameter(name='x_s_1', parameter_type=FLOAT, range=[0.0, 1.0]), RangeParameter(name='x_s_2', parameter_type=FLOAT, range=[0.0, 1.0]), RangeParameter(name='x_r2', parameter_type=FLOAT, range=[0.0, 1.0]), RangeParameter(name='x_r2_1', parameter_type=FLOAT, range=[0.0, 1.0]), RangeParameter(name='x_r2_2', parameter_type=FLOAT, range=[0.0, 1.0])], parameter_constraints=[ParameterConstraint(-1.0*z_sh + 1.0*z_sh_1 <= -1.0), ParameterConstraint(-1.0*z_sh_1 + 1.0*z_sh_2 <= -1.0), ParameterConstraint(-1.0*z_r2 + 1.0*z_r2_1 <= -1.0), ParameterConstraint(-1.0*z_r2_1 + 1.0*z_r2_2 <= -1.0), ParameterConstraint(-1.0*x_s + 1.0*x_s_1 <= -0.1), ParameterConstraint(-1.0*x_s_1 + 1.0*x_s_2 <= -0.1), ParameterConstraint(-1.0*x_r2 + 1.0*x_r2_1 <= -0.1), ParameterConstraint(-1.0*x_r2_1 + 1.0*x_r2_2 <= -0.1)])\n",
      "[INFO 04-10 13:51:25] ax.service.ax_client: Generated new trial 3 with parameters {'z_sh': 13, 'z_sh_1': 12, 'z_sh_2': 10, 'z_r2': 80, 'z_r2_1': 72, 'z_r2_2': 70, 'x_s': 0.844803, 'x_s_1': 0.096848, 'x_s_2': -0.642085, 'x_r2': 0.386873, 'x_r2_1': 0.090325, 'x_r2_2': -0.983657} using model Sobol.\n",
      "[INFO 04-10 13:51:25] ax.service.ax_client: Completed trial 3 with data: {'Viable_Cross_Terms': (549, None)}.\n",
      "[WARNING 04-10 13:51:25] ax.modelbridge.transforms.int_to_float: Unable to round {'z_sh': 14.797133776979297, 'z_sh_1': 12.844459743089601, 'z_sh_2': 10.853971742318272, 'z_r2': 79.23678917530827, 'z_r2_1': 76.43467278500341, 'z_r2_2': 74.47704194580416, 'x_s': 0.7967613833397627, 'x_s_1': -0.43513902431353924, 'x_s_2': -0.6062615557946265, 'x_r2': 0.8537917626649141, 'x_r2_1': 0.43727012537419796, 'x_r2_2': -0.5674862866662442}to meet parameter constraints of SearchSpace(parameters=[RangeParameter(name='z_sh', parameter_type=INT, range=[7, 15]), RangeParameter(name='z_sh_1', parameter_type=INT, range=[6, 14]), RangeParameter(name='z_sh_2', parameter_type=INT, range=[5, 13]), RangeParameter(name='z_r2', parameter_type=INT, range=[72, 86]), RangeParameter(name='z_r2_1', parameter_type=INT, range=[71, 85]), RangeParameter(name='z_r2_2', parameter_type=INT, range=[70, 84]), RangeParameter(name='x_s', parameter_type=FLOAT, range=[0.0, 1.0]), RangeParameter(name='x_s_1', parameter_type=FLOAT, range=[0.0, 1.0]), RangeParameter(name='x_s_2', parameter_type=FLOAT, range=[0.0, 1.0]), RangeParameter(name='x_r2', parameter_type=FLOAT, range=[0.0, 1.0]), RangeParameter(name='x_r2_1', parameter_type=FLOAT, range=[0.0, 1.0]), RangeParameter(name='x_r2_2', parameter_type=FLOAT, range=[0.0, 1.0])], parameter_constraints=[ParameterConstraint(-1.0*z_sh + 1.0*z_sh_1 <= -1.0), ParameterConstraint(-1.0*z_sh_1 + 1.0*z_sh_2 <= -1.0), ParameterConstraint(-1.0*z_r2 + 1.0*z_r2_1 <= -1.0), ParameterConstraint(-1.0*z_r2_1 + 1.0*z_r2_2 <= -1.0), ParameterConstraint(-1.0*x_s + 1.0*x_s_1 <= -0.1), ParameterConstraint(-1.0*x_s_1 + 1.0*x_s_2 <= -0.1), ParameterConstraint(-1.0*x_r2 + 1.0*x_r2_1 <= -0.1), ParameterConstraint(-1.0*x_r2_1 + 1.0*x_r2_2 <= -0.1)])\n",
      "[WARNING 04-10 13:51:26] ax.modelbridge.transforms.int_to_float: Unable to round {'z_sh': np.float64(15.0), 'z_sh_1': np.float64(13.0), 'z_sh_2': np.float64(11.0), 'z_r2': np.float64(79.0), 'z_r2_1': np.float64(76.0), 'z_r2_2': np.float64(74.0), 'x_s': np.float64(0.7967613833397627), 'x_s_1': np.float64(-0.43513902431353924), 'x_s_2': np.float64(-0.6062615557946265), 'x_r2': np.float64(0.8537917626649141), 'x_r2_1': np.float64(0.43727012537419796), 'x_r2_2': np.float64(-0.5674862866662442)}to meet parameter constraints of SearchSpace(parameters=[RangeParameter(name='z_sh', parameter_type=INT, range=[7, 15]), RangeParameter(name='z_sh_1', parameter_type=INT, range=[6, 14]), RangeParameter(name='z_sh_2', parameter_type=INT, range=[5, 13]), RangeParameter(name='z_r2', parameter_type=INT, range=[72, 86]), RangeParameter(name='z_r2_1', parameter_type=INT, range=[71, 85]), RangeParameter(name='z_r2_2', parameter_type=INT, range=[70, 84]), RangeParameter(name='x_s', parameter_type=FLOAT, range=[0.0, 1.0]), RangeParameter(name='x_s_1', parameter_type=FLOAT, range=[0.0, 1.0]), RangeParameter(name='x_s_2', parameter_type=FLOAT, range=[0.0, 1.0]), RangeParameter(name='x_r2', parameter_type=FLOAT, range=[0.0, 1.0]), RangeParameter(name='x_r2_1', parameter_type=FLOAT, range=[0.0, 1.0]), RangeParameter(name='x_r2_2', parameter_type=FLOAT, range=[0.0, 1.0])], parameter_constraints=[ParameterConstraint(-1.0*z_sh + 1.0*z_sh_1 <= -1.0), ParameterConstraint(-1.0*z_sh_1 + 1.0*z_sh_2 <= -1.0), ParameterConstraint(-1.0*z_r2 + 1.0*z_r2_1 <= -1.0), ParameterConstraint(-1.0*z_r2_1 + 1.0*z_r2_2 <= -1.0), ParameterConstraint(-1.0*x_s + 1.0*x_s_1 <= -0.1), ParameterConstraint(-1.0*x_s_1 + 1.0*x_s_2 <= -0.1), ParameterConstraint(-1.0*x_r2 + 1.0*x_r2_1 <= -0.1), ParameterConstraint(-1.0*x_r2_1 + 1.0*x_r2_2 <= -0.1)])\n",
      "[INFO 04-10 13:51:26] ax.service.ax_client: Generated new trial 4 with parameters {'z_sh': 15, 'z_sh_1': 13, 'z_sh_2': 11, 'z_r2': 79, 'z_r2_1': 76, 'z_r2_2': 74, 'x_s': 0.796761, 'x_s_1': -0.435139, 'x_s_2': -0.606262, 'x_r2': 0.853792, 'x_r2_1': 0.43727, 'x_r2_2': -0.567486} using model Sobol.\n",
      "[INFO 04-10 13:51:26] ax.service.ax_client: Completed trial 4 with data: {'Viable_Cross_Terms': (438, None)}.\n",
      "[WARNING 04-10 13:51:26] ax.modelbridge.transforms.int_to_float: Unable to round {'z_sh': 15.307730959105045, 'z_sh_1': 10.455145919674187, 'z_sh_2': 6.4406895132421145, 'z_r2': 85.12759445084481, 'z_r2_1': 84.0462888970823, 'z_r2_2': 79.762400699023, 'x_s': -0.2622881660237908, 'x_s_1': -0.4174686801061034, 'x_s_2': -0.6254298406466842, 'x_r2': 0.895077635589987, 'x_r2_1': 0.7529156261309982, 'x_r2_2': -0.5299210331030191}to meet parameter constraints of SearchSpace(parameters=[RangeParameter(name='z_sh', parameter_type=INT, range=[7, 15]), RangeParameter(name='z_sh_1', parameter_type=INT, range=[6, 14]), RangeParameter(name='z_sh_2', parameter_type=INT, range=[5, 13]), RangeParameter(name='z_r2', parameter_type=INT, range=[72, 86]), RangeParameter(name='z_r2_1', parameter_type=INT, range=[71, 85]), RangeParameter(name='z_r2_2', parameter_type=INT, range=[70, 84]), RangeParameter(name='x_s', parameter_type=FLOAT, range=[0.0, 1.0]), RangeParameter(name='x_s_1', parameter_type=FLOAT, range=[0.0, 1.0]), RangeParameter(name='x_s_2', parameter_type=FLOAT, range=[0.0, 1.0]), RangeParameter(name='x_r2', parameter_type=FLOAT, range=[0.0, 1.0]), RangeParameter(name='x_r2_1', parameter_type=FLOAT, range=[0.0, 1.0]), RangeParameter(name='x_r2_2', parameter_type=FLOAT, range=[0.0, 1.0])], parameter_constraints=[ParameterConstraint(-1.0*z_sh + 1.0*z_sh_1 <= -1.0), ParameterConstraint(-1.0*z_sh_1 + 1.0*z_sh_2 <= -1.0), ParameterConstraint(-1.0*z_r2 + 1.0*z_r2_1 <= -1.0), ParameterConstraint(-1.0*z_r2_1 + 1.0*z_r2_2 <= -1.0), ParameterConstraint(-1.0*x_s + 1.0*x_s_1 <= -0.1), ParameterConstraint(-1.0*x_s_1 + 1.0*x_s_2 <= -0.1), ParameterConstraint(-1.0*x_r2 + 1.0*x_r2_1 <= -0.1), ParameterConstraint(-1.0*x_r2_1 + 1.0*x_r2_2 <= -0.1)])\n",
      "[WARNING 04-10 13:51:26] ax.modelbridge.transforms.int_to_float: Unable to round {'z_sh': np.float64(15.0), 'z_sh_1': np.float64(10.0), 'z_sh_2': np.float64(6.0), 'z_r2': np.float64(85.0), 'z_r2_1': np.float64(84.0), 'z_r2_2': np.float64(80.0), 'x_s': np.float64(-0.2622881660237908), 'x_s_1': np.float64(-0.4174686801061034), 'x_s_2': np.float64(-0.6254298406466842), 'x_r2': np.float64(0.895077635589987), 'x_r2_1': np.float64(0.7529156261309982), 'x_r2_2': np.float64(-0.5299210331030191)}to meet parameter constraints of SearchSpace(parameters=[RangeParameter(name='z_sh', parameter_type=INT, range=[7, 15]), RangeParameter(name='z_sh_1', parameter_type=INT, range=[6, 14]), RangeParameter(name='z_sh_2', parameter_type=INT, range=[5, 13]), RangeParameter(name='z_r2', parameter_type=INT, range=[72, 86]), RangeParameter(name='z_r2_1', parameter_type=INT, range=[71, 85]), RangeParameter(name='z_r2_2', parameter_type=INT, range=[70, 84]), RangeParameter(name='x_s', parameter_type=FLOAT, range=[0.0, 1.0]), RangeParameter(name='x_s_1', parameter_type=FLOAT, range=[0.0, 1.0]), RangeParameter(name='x_s_2', parameter_type=FLOAT, range=[0.0, 1.0]), RangeParameter(name='x_r2', parameter_type=FLOAT, range=[0.0, 1.0]), RangeParameter(name='x_r2_1', parameter_type=FLOAT, range=[0.0, 1.0]), RangeParameter(name='x_r2_2', parameter_type=FLOAT, range=[0.0, 1.0])], parameter_constraints=[ParameterConstraint(-1.0*z_sh + 1.0*z_sh_1 <= -1.0), ParameterConstraint(-1.0*z_sh_1 + 1.0*z_sh_2 <= -1.0), ParameterConstraint(-1.0*z_r2 + 1.0*z_r2_1 <= -1.0), ParameterConstraint(-1.0*z_r2_1 + 1.0*z_r2_2 <= -1.0), ParameterConstraint(-1.0*x_s + 1.0*x_s_1 <= -0.1), ParameterConstraint(-1.0*x_s_1 + 1.0*x_s_2 <= -0.1), ParameterConstraint(-1.0*x_r2 + 1.0*x_r2_1 <= -0.1), ParameterConstraint(-1.0*x_r2_1 + 1.0*x_r2_2 <= -0.1)])\n",
      "[INFO 04-10 13:51:26] ax.service.ax_client: Generated new trial 5 with parameters {'z_sh': 15, 'z_sh_1': 10, 'z_sh_2': 6, 'z_r2': 85, 'z_r2_1': 84, 'z_r2_2': 80, 'x_s': -0.262288, 'x_s_1': -0.417469, 'x_s_2': -0.62543, 'x_r2': 0.895078, 'x_r2_1': 0.752916, 'x_r2_2': -0.529921} using model Sobol.\n",
      "[INFO 04-10 13:51:26] ax.service.ax_client: Completed trial 5 with data: {'Viable_Cross_Terms': (40, None)}.\n",
      "[WARNING 04-10 13:51:26] ax.modelbridge.transforms.int_to_float: Unable to round {'z_sh': 10.532543095199484, 'z_sh_1': 7.1519061148463, 'z_sh_2': 5.279915003560744, 'z_r2': 86.39059275873113, 'z_r2_1': 83.54688648205008, 'z_r2_2': 75.01571017207928, 'x_s': 0.32785462778061625, 'x_s_1': -0.0560057300515473, 'x_s_2': -0.5323400297388434, 'x_r2': 0.5192646500468254, 'x_r2_1': 0.24115895261988052, 'x_r2_2': 0.050254533533006907}to meet parameter constraints of SearchSpace(parameters=[RangeParameter(name='z_sh', parameter_type=INT, range=[7, 15]), RangeParameter(name='z_sh_1', parameter_type=INT, range=[6, 14]), RangeParameter(name='z_sh_2', parameter_type=INT, range=[5, 13]), RangeParameter(name='z_r2', parameter_type=INT, range=[72, 86]), RangeParameter(name='z_r2_1', parameter_type=INT, range=[71, 85]), RangeParameter(name='z_r2_2', parameter_type=INT, range=[70, 84]), RangeParameter(name='x_s', parameter_type=FLOAT, range=[0.0, 1.0]), RangeParameter(name='x_s_1', parameter_type=FLOAT, range=[0.0, 1.0]), RangeParameter(name='x_s_2', parameter_type=FLOAT, range=[0.0, 1.0]), RangeParameter(name='x_r2', parameter_type=FLOAT, range=[0.0, 1.0]), RangeParameter(name='x_r2_1', parameter_type=FLOAT, range=[0.0, 1.0]), RangeParameter(name='x_r2_2', parameter_type=FLOAT, range=[0.0, 1.0])], parameter_constraints=[ParameterConstraint(-1.0*z_sh + 1.0*z_sh_1 <= -1.0), ParameterConstraint(-1.0*z_sh_1 + 1.0*z_sh_2 <= -1.0), ParameterConstraint(-1.0*z_r2 + 1.0*z_r2_1 <= -1.0), ParameterConstraint(-1.0*z_r2_1 + 1.0*z_r2_2 <= -1.0), ParameterConstraint(-1.0*x_s + 1.0*x_s_1 <= -0.1), ParameterConstraint(-1.0*x_s_1 + 1.0*x_s_2 <= -0.1), ParameterConstraint(-1.0*x_r2 + 1.0*x_r2_1 <= -0.1), ParameterConstraint(-1.0*x_r2_1 + 1.0*x_r2_2 <= -0.1)])\n",
      "[WARNING 04-10 13:51:26] ax.modelbridge.transforms.int_to_float: Unable to round {'z_sh': np.float64(11.0), 'z_sh_1': np.float64(7.0), 'z_sh_2': np.float64(5.0), 'z_r2': np.float64(86.0), 'z_r2_1': np.float64(84.0), 'z_r2_2': np.float64(75.0), 'x_s': np.float64(0.32785462778061625), 'x_s_1': np.float64(-0.0560057300515473), 'x_s_2': np.float64(-0.5323400297388434), 'x_r2': np.float64(0.5192646500468254), 'x_r2_1': np.float64(0.24115895261988052), 'x_r2_2': np.float64(0.050254533533006907)}to meet parameter constraints of SearchSpace(parameters=[RangeParameter(name='z_sh', parameter_type=INT, range=[7, 15]), RangeParameter(name='z_sh_1', parameter_type=INT, range=[6, 14]), RangeParameter(name='z_sh_2', parameter_type=INT, range=[5, 13]), RangeParameter(name='z_r2', parameter_type=INT, range=[72, 86]), RangeParameter(name='z_r2_1', parameter_type=INT, range=[71, 85]), RangeParameter(name='z_r2_2', parameter_type=INT, range=[70, 84]), RangeParameter(name='x_s', parameter_type=FLOAT, range=[0.0, 1.0]), RangeParameter(name='x_s_1', parameter_type=FLOAT, range=[0.0, 1.0]), RangeParameter(name='x_s_2', parameter_type=FLOAT, range=[0.0, 1.0]), RangeParameter(name='x_r2', parameter_type=FLOAT, range=[0.0, 1.0]), RangeParameter(name='x_r2_1', parameter_type=FLOAT, range=[0.0, 1.0]), RangeParameter(name='x_r2_2', parameter_type=FLOAT, range=[0.0, 1.0])], parameter_constraints=[ParameterConstraint(-1.0*z_sh + 1.0*z_sh_1 <= -1.0), ParameterConstraint(-1.0*z_sh_1 + 1.0*z_sh_2 <= -1.0), ParameterConstraint(-1.0*z_r2 + 1.0*z_r2_1 <= -1.0), ParameterConstraint(-1.0*z_r2_1 + 1.0*z_r2_2 <= -1.0), ParameterConstraint(-1.0*x_s + 1.0*x_s_1 <= -0.1), ParameterConstraint(-1.0*x_s_1 + 1.0*x_s_2 <= -0.1), ParameterConstraint(-1.0*x_r2 + 1.0*x_r2_1 <= -0.1), ParameterConstraint(-1.0*x_r2_1 + 1.0*x_r2_2 <= -0.1)])\n",
      "[INFO 04-10 13:51:26] ax.service.ax_client: Generated new trial 6 with parameters {'z_sh': 11, 'z_sh_1': 7, 'z_sh_2': 5, 'z_r2': 86, 'z_r2_1': 84, 'z_r2_2': 75, 'x_s': 0.327855, 'x_s_1': -0.056006, 'x_s_2': -0.53234, 'x_r2': 0.519265, 'x_r2_1': 0.241159, 'x_r2_2': 0.050255} using model Sobol.\n",
      "[INFO 04-10 13:51:26] ax.service.ax_client: Completed trial 6 with data: {'Viable_Cross_Terms': (168, None)}.\n",
      "[WARNING 04-10 13:51:26] ax.modelbridge.transforms.int_to_float: Unable to round {'z_sh': 11.003448860506229, 'z_sh_1': 9.329619422176778, 'z_sh_2': 5.060117113355211, 'z_r2': 83.86466353337012, 'z_r2_1': 82.65082012267567, 'z_r2_2': 71.01143587992878, 'x_s': 0.9665338967368007, 'x_s_1': 0.5890772091597318, 'x_s_2': -0.4573825247585773, 'x_r2': 0.6405206663906575, 'x_r2_1': 0.48411494756117457, 'x_r2_2': 0.09325444765388968}to meet parameter constraints of SearchSpace(parameters=[RangeParameter(name='z_sh', parameter_type=INT, range=[7, 15]), RangeParameter(name='z_sh_1', parameter_type=INT, range=[6, 14]), RangeParameter(name='z_sh_2', parameter_type=INT, range=[5, 13]), RangeParameter(name='z_r2', parameter_type=INT, range=[72, 86]), RangeParameter(name='z_r2_1', parameter_type=INT, range=[71, 85]), RangeParameter(name='z_r2_2', parameter_type=INT, range=[70, 84]), RangeParameter(name='x_s', parameter_type=FLOAT, range=[0.0, 1.0]), RangeParameter(name='x_s_1', parameter_type=FLOAT, range=[0.0, 1.0]), RangeParameter(name='x_s_2', parameter_type=FLOAT, range=[0.0, 1.0]), RangeParameter(name='x_r2', parameter_type=FLOAT, range=[0.0, 1.0]), RangeParameter(name='x_r2_1', parameter_type=FLOAT, range=[0.0, 1.0]), RangeParameter(name='x_r2_2', parameter_type=FLOAT, range=[0.0, 1.0])], parameter_constraints=[ParameterConstraint(-1.0*z_sh + 1.0*z_sh_1 <= -1.0), ParameterConstraint(-1.0*z_sh_1 + 1.0*z_sh_2 <= -1.0), ParameterConstraint(-1.0*z_r2 + 1.0*z_r2_1 <= -1.0), ParameterConstraint(-1.0*z_r2_1 + 1.0*z_r2_2 <= -1.0), ParameterConstraint(-1.0*x_s + 1.0*x_s_1 <= -0.1), ParameterConstraint(-1.0*x_s_1 + 1.0*x_s_2 <= -0.1), ParameterConstraint(-1.0*x_r2 + 1.0*x_r2_1 <= -0.1), ParameterConstraint(-1.0*x_r2_1 + 1.0*x_r2_2 <= -0.1)])\n",
      "[WARNING 04-10 13:51:26] ax.modelbridge.transforms.int_to_float: Unable to round {'z_sh': np.float64(11.0), 'z_sh_1': np.float64(9.0), 'z_sh_2': np.float64(5.0), 'z_r2': np.float64(84.0), 'z_r2_1': np.float64(83.0), 'z_r2_2': np.float64(71.0), 'x_s': np.float64(0.9665338967368007), 'x_s_1': np.float64(0.5890772091597318), 'x_s_2': np.float64(-0.4573825247585773), 'x_r2': np.float64(0.6405206663906575), 'x_r2_1': np.float64(0.48411494756117457), 'x_r2_2': np.float64(0.09325444765388968)}to meet parameter constraints of SearchSpace(parameters=[RangeParameter(name='z_sh', parameter_type=INT, range=[7, 15]), RangeParameter(name='z_sh_1', parameter_type=INT, range=[6, 14]), RangeParameter(name='z_sh_2', parameter_type=INT, range=[5, 13]), RangeParameter(name='z_r2', parameter_type=INT, range=[72, 86]), RangeParameter(name='z_r2_1', parameter_type=INT, range=[71, 85]), RangeParameter(name='z_r2_2', parameter_type=INT, range=[70, 84]), RangeParameter(name='x_s', parameter_type=FLOAT, range=[0.0, 1.0]), RangeParameter(name='x_s_1', parameter_type=FLOAT, range=[0.0, 1.0]), RangeParameter(name='x_s_2', parameter_type=FLOAT, range=[0.0, 1.0]), RangeParameter(name='x_r2', parameter_type=FLOAT, range=[0.0, 1.0]), RangeParameter(name='x_r2_1', parameter_type=FLOAT, range=[0.0, 1.0]), RangeParameter(name='x_r2_2', parameter_type=FLOAT, range=[0.0, 1.0])], parameter_constraints=[ParameterConstraint(-1.0*z_sh + 1.0*z_sh_1 <= -1.0), ParameterConstraint(-1.0*z_sh_1 + 1.0*z_sh_2 <= -1.0), ParameterConstraint(-1.0*z_r2 + 1.0*z_r2_1 <= -1.0), ParameterConstraint(-1.0*z_r2_1 + 1.0*z_r2_2 <= -1.0), ParameterConstraint(-1.0*x_s + 1.0*x_s_1 <= -0.1), ParameterConstraint(-1.0*x_s_1 + 1.0*x_s_2 <= -0.1), ParameterConstraint(-1.0*x_r2 + 1.0*x_r2_1 <= -0.1), ParameterConstraint(-1.0*x_r2_1 + 1.0*x_r2_2 <= -0.1)])\n",
      "[INFO 04-10 13:51:26] ax.service.ax_client: Generated new trial 7 with parameters {'z_sh': 11, 'z_sh_1': 9, 'z_sh_2': 5, 'z_r2': 84, 'z_r2_1': 83, 'z_r2_2': 71, 'x_s': 0.966534, 'x_s_1': 0.589077, 'x_s_2': -0.457383, 'x_r2': 0.640521, 'x_r2_1': 0.484115, 'x_r2_2': 0.093254} using model Sobol.\n",
      "[INFO 04-10 13:51:26] ax.service.ax_client: Completed trial 7 with data: {'Viable_Cross_Terms': (257, None)}.\n",
      "[WARNING 04-10 13:51:26] ax.modelbridge.transforms.int_to_float: Unable to round {'z_sh': 9.320581263171603, 'z_sh_1': 7.697347444812972, 'z_sh_2': 5.286394728372823, 'z_r2': 81.03931226898258, 'z_r2_1': 75.13344979464877, 'z_r2_2': 70.8024148930053, 'x_s': 0.245029106233269, 'x_s_1': -0.33378000659868123, 'x_s_2': -0.9880019919201731, 'x_r2': 0.38396720949560414, 'x_r2_1': -0.10844606839120385, 'x_r2_2': -0.2855268123745919}to meet parameter constraints of SearchSpace(parameters=[RangeParameter(name='z_sh', parameter_type=INT, range=[7, 15]), RangeParameter(name='z_sh_1', parameter_type=INT, range=[6, 14]), RangeParameter(name='z_sh_2', parameter_type=INT, range=[5, 13]), RangeParameter(name='z_r2', parameter_type=INT, range=[72, 86]), RangeParameter(name='z_r2_1', parameter_type=INT, range=[71, 85]), RangeParameter(name='z_r2_2', parameter_type=INT, range=[70, 84]), RangeParameter(name='x_s', parameter_type=FLOAT, range=[0.0, 1.0]), RangeParameter(name='x_s_1', parameter_type=FLOAT, range=[0.0, 1.0]), RangeParameter(name='x_s_2', parameter_type=FLOAT, range=[0.0, 1.0]), RangeParameter(name='x_r2', parameter_type=FLOAT, range=[0.0, 1.0]), RangeParameter(name='x_r2_1', parameter_type=FLOAT, range=[0.0, 1.0]), RangeParameter(name='x_r2_2', parameter_type=FLOAT, range=[0.0, 1.0])], parameter_constraints=[ParameterConstraint(-1.0*z_sh + 1.0*z_sh_1 <= -1.0), ParameterConstraint(-1.0*z_sh_1 + 1.0*z_sh_2 <= -1.0), ParameterConstraint(-1.0*z_r2 + 1.0*z_r2_1 <= -1.0), ParameterConstraint(-1.0*z_r2_1 + 1.0*z_r2_2 <= -1.0), ParameterConstraint(-1.0*x_s + 1.0*x_s_1 <= -0.1), ParameterConstraint(-1.0*x_s_1 + 1.0*x_s_2 <= -0.1), ParameterConstraint(-1.0*x_r2 + 1.0*x_r2_1 <= -0.1), ParameterConstraint(-1.0*x_r2_1 + 1.0*x_r2_2 <= -0.1)])\n",
      "[WARNING 04-10 13:51:26] ax.modelbridge.transforms.int_to_float: Unable to round {'z_sh': np.float64(9.0), 'z_sh_1': np.float64(8.0), 'z_sh_2': np.float64(5.0), 'z_r2': np.float64(81.0), 'z_r2_1': np.float64(75.0), 'z_r2_2': np.float64(71.0), 'x_s': np.float64(0.245029106233269), 'x_s_1': np.float64(-0.33378000659868123), 'x_s_2': np.float64(-0.9880019919201731), 'x_r2': np.float64(0.38396720949560414), 'x_r2_1': np.float64(-0.10844606839120385), 'x_r2_2': np.float64(-0.2855268123745919)}to meet parameter constraints of SearchSpace(parameters=[RangeParameter(name='z_sh', parameter_type=INT, range=[7, 15]), RangeParameter(name='z_sh_1', parameter_type=INT, range=[6, 14]), RangeParameter(name='z_sh_2', parameter_type=INT, range=[5, 13]), RangeParameter(name='z_r2', parameter_type=INT, range=[72, 86]), RangeParameter(name='z_r2_1', parameter_type=INT, range=[71, 85]), RangeParameter(name='z_r2_2', parameter_type=INT, range=[70, 84]), RangeParameter(name='x_s', parameter_type=FLOAT, range=[0.0, 1.0]), RangeParameter(name='x_s_1', parameter_type=FLOAT, range=[0.0, 1.0]), RangeParameter(name='x_s_2', parameter_type=FLOAT, range=[0.0, 1.0]), RangeParameter(name='x_r2', parameter_type=FLOAT, range=[0.0, 1.0]), RangeParameter(name='x_r2_1', parameter_type=FLOAT, range=[0.0, 1.0]), RangeParameter(name='x_r2_2', parameter_type=FLOAT, range=[0.0, 1.0])], parameter_constraints=[ParameterConstraint(-1.0*z_sh + 1.0*z_sh_1 <= -1.0), ParameterConstraint(-1.0*z_sh_1 + 1.0*z_sh_2 <= -1.0), ParameterConstraint(-1.0*z_r2 + 1.0*z_r2_1 <= -1.0), ParameterConstraint(-1.0*z_r2_1 + 1.0*z_r2_2 <= -1.0), ParameterConstraint(-1.0*x_s + 1.0*x_s_1 <= -0.1), ParameterConstraint(-1.0*x_s_1 + 1.0*x_s_2 <= -0.1), ParameterConstraint(-1.0*x_r2 + 1.0*x_r2_1 <= -0.1), ParameterConstraint(-1.0*x_r2_1 + 1.0*x_r2_2 <= -0.1)])\n",
      "[INFO 04-10 13:51:26] ax.service.ax_client: Generated new trial 8 with parameters {'z_sh': 9, 'z_sh_1': 8, 'z_sh_2': 5, 'z_r2': 81, 'z_r2_1': 75, 'z_r2_2': 71, 'x_s': 0.245029, 'x_s_1': -0.33378, 'x_s_2': -0.988002, 'x_r2': 0.383967, 'x_r2_1': -0.108446, 'x_r2_2': -0.285527} using model Sobol.\n",
      "[INFO 04-10 13:51:26] ax.service.ax_client: Completed trial 8 with data: {'Viable_Cross_Terms': (463, None)}.\n",
      "[WARNING 04-10 13:51:27] ax.modelbridge.transforms.int_to_float: Unable to round {'z_sh': 12.969420844473298, 'z_sh_1': 10.44170158641098, 'z_sh_2': 6.6402656543608565, 'z_r2': 82.37941145230053, 'z_r2_1': 77.07048817327501, 'z_r2_2': 72.97565072727438, 'x_s': 0.9219532215595245, 'x_s_1': 0.19516779491677871, 'x_s_2': -0.0022470114752650705, 'x_r2': 0.6560087490826845, 'x_r2_1': 0.27014239395037287, 'x_r2_2': -0.06325575971975927}to meet parameter constraints of SearchSpace(parameters=[RangeParameter(name='z_sh', parameter_type=INT, range=[7, 15]), RangeParameter(name='z_sh_1', parameter_type=INT, range=[6, 14]), RangeParameter(name='z_sh_2', parameter_type=INT, range=[5, 13]), RangeParameter(name='z_r2', parameter_type=INT, range=[72, 86]), RangeParameter(name='z_r2_1', parameter_type=INT, range=[71, 85]), RangeParameter(name='z_r2_2', parameter_type=INT, range=[70, 84]), RangeParameter(name='x_s', parameter_type=FLOAT, range=[0.0, 1.0]), RangeParameter(name='x_s_1', parameter_type=FLOAT, range=[0.0, 1.0]), RangeParameter(name='x_s_2', parameter_type=FLOAT, range=[0.0, 1.0]), RangeParameter(name='x_r2', parameter_type=FLOAT, range=[0.0, 1.0]), RangeParameter(name='x_r2_1', parameter_type=FLOAT, range=[0.0, 1.0]), RangeParameter(name='x_r2_2', parameter_type=FLOAT, range=[0.0, 1.0])], parameter_constraints=[ParameterConstraint(-1.0*z_sh + 1.0*z_sh_1 <= -1.0), ParameterConstraint(-1.0*z_sh_1 + 1.0*z_sh_2 <= -1.0), ParameterConstraint(-1.0*z_r2 + 1.0*z_r2_1 <= -1.0), ParameterConstraint(-1.0*z_r2_1 + 1.0*z_r2_2 <= -1.0), ParameterConstraint(-1.0*x_s + 1.0*x_s_1 <= -0.1), ParameterConstraint(-1.0*x_s_1 + 1.0*x_s_2 <= -0.1), ParameterConstraint(-1.0*x_r2 + 1.0*x_r2_1 <= -0.1), ParameterConstraint(-1.0*x_r2_1 + 1.0*x_r2_2 <= -0.1)])\n",
      "[WARNING 04-10 13:51:27] ax.modelbridge.transforms.int_to_float: Unable to round {'z_sh': np.float64(13.0), 'z_sh_1': np.float64(10.0), 'z_sh_2': np.float64(7.0), 'z_r2': np.float64(82.0), 'z_r2_1': np.float64(77.0), 'z_r2_2': np.float64(73.0), 'x_s': np.float64(0.9219532215595245), 'x_s_1': np.float64(0.19516779491677871), 'x_s_2': np.float64(-0.0022470114752650705), 'x_r2': np.float64(0.6560087490826845), 'x_r2_1': np.float64(0.27014239395037287), 'x_r2_2': np.float64(-0.06325575971975927)}to meet parameter constraints of SearchSpace(parameters=[RangeParameter(name='z_sh', parameter_type=INT, range=[7, 15]), RangeParameter(name='z_sh_1', parameter_type=INT, range=[6, 14]), RangeParameter(name='z_sh_2', parameter_type=INT, range=[5, 13]), RangeParameter(name='z_r2', parameter_type=INT, range=[72, 86]), RangeParameter(name='z_r2_1', parameter_type=INT, range=[71, 85]), RangeParameter(name='z_r2_2', parameter_type=INT, range=[70, 84]), RangeParameter(name='x_s', parameter_type=FLOAT, range=[0.0, 1.0]), RangeParameter(name='x_s_1', parameter_type=FLOAT, range=[0.0, 1.0]), RangeParameter(name='x_s_2', parameter_type=FLOAT, range=[0.0, 1.0]), RangeParameter(name='x_r2', parameter_type=FLOAT, range=[0.0, 1.0]), RangeParameter(name='x_r2_1', parameter_type=FLOAT, range=[0.0, 1.0]), RangeParameter(name='x_r2_2', parameter_type=FLOAT, range=[0.0, 1.0])], parameter_constraints=[ParameterConstraint(-1.0*z_sh + 1.0*z_sh_1 <= -1.0), ParameterConstraint(-1.0*z_sh_1 + 1.0*z_sh_2 <= -1.0), ParameterConstraint(-1.0*z_r2 + 1.0*z_r2_1 <= -1.0), ParameterConstraint(-1.0*z_r2_1 + 1.0*z_r2_2 <= -1.0), ParameterConstraint(-1.0*x_s + 1.0*x_s_1 <= -0.1), ParameterConstraint(-1.0*x_s_1 + 1.0*x_s_2 <= -0.1), ParameterConstraint(-1.0*x_r2 + 1.0*x_r2_1 <= -0.1), ParameterConstraint(-1.0*x_r2_1 + 1.0*x_r2_2 <= -0.1)])\n",
      "[INFO 04-10 13:51:27] ax.service.ax_client: Generated new trial 9 with parameters {'z_sh': 13, 'z_sh_1': 10, 'z_sh_2': 7, 'z_r2': 82, 'z_r2_1': 77, 'z_r2_2': 73, 'x_s': 0.921953, 'x_s_1': 0.195168, 'x_s_2': -0.002247, 'x_r2': 0.656009, 'x_r2_1': 0.270142, 'x_r2_2': -0.063256} using model Sobol.\n",
      "[INFO 04-10 13:51:27] ax.service.ax_client: Completed trial 9 with data: {'Viable_Cross_Terms': (388, None)}.\n",
      "[WARNING 04-10 13:51:27] ax.modelbridge.transforms.int_to_float: Unable to round {'z_sh': 14.153874965891688, 'z_sh_1': 8.3778925831501, 'z_sh_2': 7.301519633960929, 'z_r2': 85.01115549829146, 'z_r2_1': 80.47635315611026, 'z_r2_2': 72.31543904606964, 'x_s': 0.4526324432343245, 'x_s_1': 0.3382569760456682, 'x_s_2': -0.4559449001215399, 'x_r2': 0.6509725422412158, 'x_r2_1': 0.5024649251438678, 'x_r2_2': -0.6631753212213516}to meet parameter constraints of SearchSpace(parameters=[RangeParameter(name='z_sh', parameter_type=INT, range=[7, 15]), RangeParameter(name='z_sh_1', parameter_type=INT, range=[6, 14]), RangeParameter(name='z_sh_2', parameter_type=INT, range=[5, 13]), RangeParameter(name='z_r2', parameter_type=INT, range=[72, 86]), RangeParameter(name='z_r2_1', parameter_type=INT, range=[71, 85]), RangeParameter(name='z_r2_2', parameter_type=INT, range=[70, 84]), RangeParameter(name='x_s', parameter_type=FLOAT, range=[0.0, 1.0]), RangeParameter(name='x_s_1', parameter_type=FLOAT, range=[0.0, 1.0]), RangeParameter(name='x_s_2', parameter_type=FLOAT, range=[0.0, 1.0]), RangeParameter(name='x_r2', parameter_type=FLOAT, range=[0.0, 1.0]), RangeParameter(name='x_r2_1', parameter_type=FLOAT, range=[0.0, 1.0]), RangeParameter(name='x_r2_2', parameter_type=FLOAT, range=[0.0, 1.0])], parameter_constraints=[ParameterConstraint(-1.0*z_sh + 1.0*z_sh_1 <= -1.0), ParameterConstraint(-1.0*z_sh_1 + 1.0*z_sh_2 <= -1.0), ParameterConstraint(-1.0*z_r2 + 1.0*z_r2_1 <= -1.0), ParameterConstraint(-1.0*z_r2_1 + 1.0*z_r2_2 <= -1.0), ParameterConstraint(-1.0*x_s + 1.0*x_s_1 <= -0.1), ParameterConstraint(-1.0*x_s_1 + 1.0*x_s_2 <= -0.1), ParameterConstraint(-1.0*x_r2 + 1.0*x_r2_1 <= -0.1), ParameterConstraint(-1.0*x_r2_1 + 1.0*x_r2_2 <= -0.1)])\n",
      "[WARNING 04-10 13:51:27] ax.modelbridge.transforms.int_to_float: Unable to round {'z_sh': np.float64(14.0), 'z_sh_1': np.float64(8.0), 'z_sh_2': np.float64(7.0), 'z_r2': np.float64(85.0), 'z_r2_1': np.float64(80.0), 'z_r2_2': np.float64(72.0), 'x_s': np.float64(0.4526324432343245), 'x_s_1': np.float64(0.3382569760456682), 'x_s_2': np.float64(-0.4559449001215399), 'x_r2': np.float64(0.6509725422412158), 'x_r2_1': np.float64(0.5024649251438678), 'x_r2_2': np.float64(-0.6631753212213516)}to meet parameter constraints of SearchSpace(parameters=[RangeParameter(name='z_sh', parameter_type=INT, range=[7, 15]), RangeParameter(name='z_sh_1', parameter_type=INT, range=[6, 14]), RangeParameter(name='z_sh_2', parameter_type=INT, range=[5, 13]), RangeParameter(name='z_r2', parameter_type=INT, range=[72, 86]), RangeParameter(name='z_r2_1', parameter_type=INT, range=[71, 85]), RangeParameter(name='z_r2_2', parameter_type=INT, range=[70, 84]), RangeParameter(name='x_s', parameter_type=FLOAT, range=[0.0, 1.0]), RangeParameter(name='x_s_1', parameter_type=FLOAT, range=[0.0, 1.0]), RangeParameter(name='x_s_2', parameter_type=FLOAT, range=[0.0, 1.0]), RangeParameter(name='x_r2', parameter_type=FLOAT, range=[0.0, 1.0]), RangeParameter(name='x_r2_1', parameter_type=FLOAT, range=[0.0, 1.0]), RangeParameter(name='x_r2_2', parameter_type=FLOAT, range=[0.0, 1.0])], parameter_constraints=[ParameterConstraint(-1.0*z_sh + 1.0*z_sh_1 <= -1.0), ParameterConstraint(-1.0*z_sh_1 + 1.0*z_sh_2 <= -1.0), ParameterConstraint(-1.0*z_r2 + 1.0*z_r2_1 <= -1.0), ParameterConstraint(-1.0*z_r2_1 + 1.0*z_r2_2 <= -1.0), ParameterConstraint(-1.0*x_s + 1.0*x_s_1 <= -0.1), ParameterConstraint(-1.0*x_s_1 + 1.0*x_s_2 <= -0.1), ParameterConstraint(-1.0*x_r2 + 1.0*x_r2_1 <= -0.1), ParameterConstraint(-1.0*x_r2_1 + 1.0*x_r2_2 <= -0.1)])\n",
      "[INFO 04-10 13:51:27] ax.service.ax_client: Generated new trial 10 with parameters {'z_sh': 14, 'z_sh_1': 8, 'z_sh_2': 7, 'z_r2': 85, 'z_r2_1': 80, 'z_r2_2': 72, 'x_s': 0.452632, 'x_s_1': 0.338257, 'x_s_2': -0.455945, 'x_r2': 0.650973, 'x_r2_1': 0.502465, 'x_r2_2': -0.663175} using model Sobol.\n",
      "[INFO 04-10 13:51:27] ax.service.ax_client: Completed trial 10 with data: {'Viable_Cross_Terms': (286, None)}.\n",
      "[WARNING 04-10 13:51:27] ax.modelbridge.transforms.int_to_float: Unable to round {'z_sh': 14.864891196591687, 'z_sh_1': 13.322817389323617, 'z_sh_2': 11.388189670205879, 'z_r2': 80.97361230334528, 'z_r2_1': 77.0332340440507, 'z_r2_2': 72.45964265264332, 'x_s': 0.6420900922641157, 'x_s_1': -0.6148510068655014, 'x_s_2': -0.9364698254130781, 'x_r2': 0.5395603955909609, 'x_r2_1': 0.15453569300472747, 'x_r2_2': -0.8208231240138412}to meet parameter constraints of SearchSpace(parameters=[RangeParameter(name='z_sh', parameter_type=INT, range=[7, 15]), RangeParameter(name='z_sh_1', parameter_type=INT, range=[6, 14]), RangeParameter(name='z_sh_2', parameter_type=INT, range=[5, 13]), RangeParameter(name='z_r2', parameter_type=INT, range=[72, 86]), RangeParameter(name='z_r2_1', parameter_type=INT, range=[71, 85]), RangeParameter(name='z_r2_2', parameter_type=INT, range=[70, 84]), RangeParameter(name='x_s', parameter_type=FLOAT, range=[0.0, 1.0]), RangeParameter(name='x_s_1', parameter_type=FLOAT, range=[0.0, 1.0]), RangeParameter(name='x_s_2', parameter_type=FLOAT, range=[0.0, 1.0]), RangeParameter(name='x_r2', parameter_type=FLOAT, range=[0.0, 1.0]), RangeParameter(name='x_r2_1', parameter_type=FLOAT, range=[0.0, 1.0]), RangeParameter(name='x_r2_2', parameter_type=FLOAT, range=[0.0, 1.0])], parameter_constraints=[ParameterConstraint(-1.0*z_sh + 1.0*z_sh_1 <= -1.0), ParameterConstraint(-1.0*z_sh_1 + 1.0*z_sh_2 <= -1.0), ParameterConstraint(-1.0*z_r2 + 1.0*z_r2_1 <= -1.0), ParameterConstraint(-1.0*z_r2_1 + 1.0*z_r2_2 <= -1.0), ParameterConstraint(-1.0*x_s + 1.0*x_s_1 <= -0.1), ParameterConstraint(-1.0*x_s_1 + 1.0*x_s_2 <= -0.1), ParameterConstraint(-1.0*x_r2 + 1.0*x_r2_1 <= -0.1), ParameterConstraint(-1.0*x_r2_1 + 1.0*x_r2_2 <= -0.1)])\n",
      "[WARNING 04-10 13:51:27] ax.modelbridge.transforms.int_to_float: Unable to round {'z_sh': np.float64(15.0), 'z_sh_1': np.float64(13.0), 'z_sh_2': np.float64(11.0), 'z_r2': np.float64(81.0), 'z_r2_1': np.float64(77.0), 'z_r2_2': np.float64(72.0), 'x_s': np.float64(0.6420900922641157), 'x_s_1': np.float64(-0.6148510068655014), 'x_s_2': np.float64(-0.9364698254130781), 'x_r2': np.float64(0.5395603955909609), 'x_r2_1': np.float64(0.15453569300472747), 'x_r2_2': np.float64(-0.8208231240138412)}to meet parameter constraints of SearchSpace(parameters=[RangeParameter(name='z_sh', parameter_type=INT, range=[7, 15]), RangeParameter(name='z_sh_1', parameter_type=INT, range=[6, 14]), RangeParameter(name='z_sh_2', parameter_type=INT, range=[5, 13]), RangeParameter(name='z_r2', parameter_type=INT, range=[72, 86]), RangeParameter(name='z_r2_1', parameter_type=INT, range=[71, 85]), RangeParameter(name='z_r2_2', parameter_type=INT, range=[70, 84]), RangeParameter(name='x_s', parameter_type=FLOAT, range=[0.0, 1.0]), RangeParameter(name='x_s_1', parameter_type=FLOAT, range=[0.0, 1.0]), RangeParameter(name='x_s_2', parameter_type=FLOAT, range=[0.0, 1.0]), RangeParameter(name='x_r2', parameter_type=FLOAT, range=[0.0, 1.0]), RangeParameter(name='x_r2_1', parameter_type=FLOAT, range=[0.0, 1.0]), RangeParameter(name='x_r2_2', parameter_type=FLOAT, range=[0.0, 1.0])], parameter_constraints=[ParameterConstraint(-1.0*z_sh + 1.0*z_sh_1 <= -1.0), ParameterConstraint(-1.0*z_sh_1 + 1.0*z_sh_2 <= -1.0), ParameterConstraint(-1.0*z_r2 + 1.0*z_r2_1 <= -1.0), ParameterConstraint(-1.0*z_r2_1 + 1.0*z_r2_2 <= -1.0), ParameterConstraint(-1.0*x_s + 1.0*x_s_1 <= -0.1), ParameterConstraint(-1.0*x_s_1 + 1.0*x_s_2 <= -0.1), ParameterConstraint(-1.0*x_r2 + 1.0*x_r2_1 <= -0.1), ParameterConstraint(-1.0*x_r2_1 + 1.0*x_r2_2 <= -0.1)])\n",
      "[INFO 04-10 13:51:27] ax.service.ax_client: Generated new trial 11 with parameters {'z_sh': 15, 'z_sh_1': 13, 'z_sh_2': 11, 'z_r2': 81, 'z_r2_1': 77, 'z_r2_2': 72, 'x_s': 0.64209, 'x_s_1': -0.614851, 'x_s_2': -0.93647, 'x_r2': 0.53956, 'x_r2_1': 0.154536, 'x_r2_2': -0.820823} using model Sobol.\n",
      "[INFO 04-10 13:51:27] ax.service.ax_client: Completed trial 11 with data: {'Viable_Cross_Terms': (422, None)}.\n",
      "[WARNING 04-10 13:51:27] ax.modelbridge.transforms.int_to_float: Unable to round {'z_sh': 15.407505769523066, 'z_sh_1': 13.544714178856202, 'z_sh_2': 11.276678578575366, 'z_r2': 86.04422072515575, 'z_r2_1': 82.53376068659753, 'z_r2_2': 71.55849414260464, 'x_s': 0.0064120227470994, 'x_s_1': -0.5222449890151619, 'x_s_2': -0.7351498788595199, 'x_r2': 0.9047140162996947, 'x_r2_1': 0.31559503918513654, 'x_r2_2': -0.40743973456323146}to meet parameter constraints of SearchSpace(parameters=[RangeParameter(name='z_sh', parameter_type=INT, range=[7, 15]), RangeParameter(name='z_sh_1', parameter_type=INT, range=[6, 14]), RangeParameter(name='z_sh_2', parameter_type=INT, range=[5, 13]), RangeParameter(name='z_r2', parameter_type=INT, range=[72, 86]), RangeParameter(name='z_r2_1', parameter_type=INT, range=[71, 85]), RangeParameter(name='z_r2_2', parameter_type=INT, range=[70, 84]), RangeParameter(name='x_s', parameter_type=FLOAT, range=[0.0, 1.0]), RangeParameter(name='x_s_1', parameter_type=FLOAT, range=[0.0, 1.0]), RangeParameter(name='x_s_2', parameter_type=FLOAT, range=[0.0, 1.0]), RangeParameter(name='x_r2', parameter_type=FLOAT, range=[0.0, 1.0]), RangeParameter(name='x_r2_1', parameter_type=FLOAT, range=[0.0, 1.0]), RangeParameter(name='x_r2_2', parameter_type=FLOAT, range=[0.0, 1.0])], parameter_constraints=[ParameterConstraint(-1.0*z_sh + 1.0*z_sh_1 <= -1.0), ParameterConstraint(-1.0*z_sh_1 + 1.0*z_sh_2 <= -1.0), ParameterConstraint(-1.0*z_r2 + 1.0*z_r2_1 <= -1.0), ParameterConstraint(-1.0*z_r2_1 + 1.0*z_r2_2 <= -1.0), ParameterConstraint(-1.0*x_s + 1.0*x_s_1 <= -0.1), ParameterConstraint(-1.0*x_s_1 + 1.0*x_s_2 <= -0.1), ParameterConstraint(-1.0*x_r2 + 1.0*x_r2_1 <= -0.1), ParameterConstraint(-1.0*x_r2_1 + 1.0*x_r2_2 <= -0.1)])\n",
      "[WARNING 04-10 13:51:27] ax.modelbridge.transforms.int_to_float: Unable to round {'z_sh': np.float64(15.0), 'z_sh_1': np.float64(14.0), 'z_sh_2': np.float64(11.0), 'z_r2': np.float64(86.0), 'z_r2_1': np.float64(83.0), 'z_r2_2': np.float64(72.0), 'x_s': np.float64(0.0064120227470994), 'x_s_1': np.float64(-0.5222449890151619), 'x_s_2': np.float64(-0.7351498788595199), 'x_r2': np.float64(0.9047140162996947), 'x_r2_1': np.float64(0.31559503918513654), 'x_r2_2': np.float64(-0.40743973456323146)}to meet parameter constraints of SearchSpace(parameters=[RangeParameter(name='z_sh', parameter_type=INT, range=[7, 15]), RangeParameter(name='z_sh_1', parameter_type=INT, range=[6, 14]), RangeParameter(name='z_sh_2', parameter_type=INT, range=[5, 13]), RangeParameter(name='z_r2', parameter_type=INT, range=[72, 86]), RangeParameter(name='z_r2_1', parameter_type=INT, range=[71, 85]), RangeParameter(name='z_r2_2', parameter_type=INT, range=[70, 84]), RangeParameter(name='x_s', parameter_type=FLOAT, range=[0.0, 1.0]), RangeParameter(name='x_s_1', parameter_type=FLOAT, range=[0.0, 1.0]), RangeParameter(name='x_s_2', parameter_type=FLOAT, range=[0.0, 1.0]), RangeParameter(name='x_r2', parameter_type=FLOAT, range=[0.0, 1.0]), RangeParameter(name='x_r2_1', parameter_type=FLOAT, range=[0.0, 1.0]), RangeParameter(name='x_r2_2', parameter_type=FLOAT, range=[0.0, 1.0])], parameter_constraints=[ParameterConstraint(-1.0*z_sh + 1.0*z_sh_1 <= -1.0), ParameterConstraint(-1.0*z_sh_1 + 1.0*z_sh_2 <= -1.0), ParameterConstraint(-1.0*z_r2 + 1.0*z_r2_1 <= -1.0), ParameterConstraint(-1.0*z_r2_1 + 1.0*z_r2_2 <= -1.0), ParameterConstraint(-1.0*x_s + 1.0*x_s_1 <= -0.1), ParameterConstraint(-1.0*x_s_1 + 1.0*x_s_2 <= -0.1), ParameterConstraint(-1.0*x_r2 + 1.0*x_r2_1 <= -0.1), ParameterConstraint(-1.0*x_r2_1 + 1.0*x_r2_2 <= -0.1)])\n",
      "[INFO 04-10 13:51:27] ax.service.ax_client: Generated new trial 12 with parameters {'z_sh': 15, 'z_sh_1': 14, 'z_sh_2': 11, 'z_r2': 86, 'z_r2_1': 83, 'z_r2_2': 72, 'x_s': 0.006412, 'x_s_1': -0.522245, 'x_s_2': -0.73515, 'x_r2': 0.904714, 'x_r2_1': 0.315595, 'x_r2_2': -0.40744} using model Sobol.\n",
      "[INFO 04-10 13:51:27] ax.service.ax_client: Completed trial 12 with data: {'Viable_Cross_Terms': (260, None)}.\n",
      "[WARNING 04-10 13:51:27] ax.modelbridge.transforms.int_to_float: Unable to round {'z_sh': 14.516986745525244, 'z_sh_1': 12.760623731539175, 'z_sh_2': 6.211994839323889, 'z_r2': 81.82144376603736, 'z_r2_1': 74.01866391479071, 'z_r2_2': 72.02850222632563, 'x_s': 0.8609713203832507, 'x_s_1': -0.18752227580174807, 'x_s_2': -0.44551085961982606, 'x_r2': 0.699352557938546, 'x_r2_1': 0.19189740194007765, 'x_r2_2': -0.17937042511999612}to meet parameter constraints of SearchSpace(parameters=[RangeParameter(name='z_sh', parameter_type=INT, range=[7, 15]), RangeParameter(name='z_sh_1', parameter_type=INT, range=[6, 14]), RangeParameter(name='z_sh_2', parameter_type=INT, range=[5, 13]), RangeParameter(name='z_r2', parameter_type=INT, range=[72, 86]), RangeParameter(name='z_r2_1', parameter_type=INT, range=[71, 85]), RangeParameter(name='z_r2_2', parameter_type=INT, range=[70, 84]), RangeParameter(name='x_s', parameter_type=FLOAT, range=[0.0, 1.0]), RangeParameter(name='x_s_1', parameter_type=FLOAT, range=[0.0, 1.0]), RangeParameter(name='x_s_2', parameter_type=FLOAT, range=[0.0, 1.0]), RangeParameter(name='x_r2', parameter_type=FLOAT, range=[0.0, 1.0]), RangeParameter(name='x_r2_1', parameter_type=FLOAT, range=[0.0, 1.0]), RangeParameter(name='x_r2_2', parameter_type=FLOAT, range=[0.0, 1.0])], parameter_constraints=[ParameterConstraint(-1.0*z_sh + 1.0*z_sh_1 <= -1.0), ParameterConstraint(-1.0*z_sh_1 + 1.0*z_sh_2 <= -1.0), ParameterConstraint(-1.0*z_r2 + 1.0*z_r2_1 <= -1.0), ParameterConstraint(-1.0*z_r2_1 + 1.0*z_r2_2 <= -1.0), ParameterConstraint(-1.0*x_s + 1.0*x_s_1 <= -0.1), ParameterConstraint(-1.0*x_s_1 + 1.0*x_s_2 <= -0.1), ParameterConstraint(-1.0*x_r2 + 1.0*x_r2_1 <= -0.1), ParameterConstraint(-1.0*x_r2_1 + 1.0*x_r2_2 <= -0.1)])\n",
      "[WARNING 04-10 13:51:28] ax.modelbridge.transforms.int_to_float: Unable to round {'z_sh': np.float64(15.0), 'z_sh_1': np.float64(13.0), 'z_sh_2': np.float64(6.0), 'z_r2': np.float64(82.0), 'z_r2_1': np.float64(74.0), 'z_r2_2': np.float64(72.0), 'x_s': np.float64(0.8609713203832507), 'x_s_1': np.float64(-0.18752227580174807), 'x_s_2': np.float64(-0.44551085961982606), 'x_r2': np.float64(0.699352557938546), 'x_r2_1': np.float64(0.19189740194007765), 'x_r2_2': np.float64(-0.17937042511999612)}to meet parameter constraints of SearchSpace(parameters=[RangeParameter(name='z_sh', parameter_type=INT, range=[7, 15]), RangeParameter(name='z_sh_1', parameter_type=INT, range=[6, 14]), RangeParameter(name='z_sh_2', parameter_type=INT, range=[5, 13]), RangeParameter(name='z_r2', parameter_type=INT, range=[72, 86]), RangeParameter(name='z_r2_1', parameter_type=INT, range=[71, 85]), RangeParameter(name='z_r2_2', parameter_type=INT, range=[70, 84]), RangeParameter(name='x_s', parameter_type=FLOAT, range=[0.0, 1.0]), RangeParameter(name='x_s_1', parameter_type=FLOAT, range=[0.0, 1.0]), RangeParameter(name='x_s_2', parameter_type=FLOAT, range=[0.0, 1.0]), RangeParameter(name='x_r2', parameter_type=FLOAT, range=[0.0, 1.0]), RangeParameter(name='x_r2_1', parameter_type=FLOAT, range=[0.0, 1.0]), RangeParameter(name='x_r2_2', parameter_type=FLOAT, range=[0.0, 1.0])], parameter_constraints=[ParameterConstraint(-1.0*z_sh + 1.0*z_sh_1 <= -1.0), ParameterConstraint(-1.0*z_sh_1 + 1.0*z_sh_2 <= -1.0), ParameterConstraint(-1.0*z_r2 + 1.0*z_r2_1 <= -1.0), ParameterConstraint(-1.0*z_r2_1 + 1.0*z_r2_2 <= -1.0), ParameterConstraint(-1.0*x_s + 1.0*x_s_1 <= -0.1), ParameterConstraint(-1.0*x_s_1 + 1.0*x_s_2 <= -0.1), ParameterConstraint(-1.0*x_r2 + 1.0*x_r2_1 <= -0.1), ParameterConstraint(-1.0*x_r2_1 + 1.0*x_r2_2 <= -0.1)])\n",
      "[INFO 04-10 13:51:28] ax.service.ax_client: Generated new trial 13 with parameters {'z_sh': 15, 'z_sh_1': 13, 'z_sh_2': 6, 'z_r2': 82, 'z_r2_1': 74, 'z_r2_2': 72, 'x_s': 0.860971, 'x_s_1': -0.187522, 'x_s_2': -0.445511, 'x_r2': 0.699353, 'x_r2_1': 0.191897, 'x_r2_2': -0.17937} using model Sobol.\n",
      "[INFO 04-10 13:51:28] ax.service.ax_client: Completed trial 13 with data: {'Viable_Cross_Terms': (503, None)}.\n",
      "[WARNING 04-10 13:51:28] ax.modelbridge.transforms.int_to_float: Unable to round {'z_sh': 10.579458556560056, 'z_sh_1': 9.104452272751239, 'z_sh_2': 6.488038871238045, 'z_r2': 80.06166432617243, 'z_r2_1': 75.68613458393438, 'z_r2_2': 72.6835403663037, 'x_s': 0.5972928776592017, 'x_s_1': 0.025873841252177954, 'x_s_2': -0.9296511495299637, 'x_r2': 0.8357569315657019, 'x_r2_1': -0.028428212832659505, 'x_r2_2': -0.7125103431381286}to meet parameter constraints of SearchSpace(parameters=[RangeParameter(name='z_sh', parameter_type=INT, range=[7, 15]), RangeParameter(name='z_sh_1', parameter_type=INT, range=[6, 14]), RangeParameter(name='z_sh_2', parameter_type=INT, range=[5, 13]), RangeParameter(name='z_r2', parameter_type=INT, range=[72, 86]), RangeParameter(name='z_r2_1', parameter_type=INT, range=[71, 85]), RangeParameter(name='z_r2_2', parameter_type=INT, range=[70, 84]), RangeParameter(name='x_s', parameter_type=FLOAT, range=[0.0, 1.0]), RangeParameter(name='x_s_1', parameter_type=FLOAT, range=[0.0, 1.0]), RangeParameter(name='x_s_2', parameter_type=FLOAT, range=[0.0, 1.0]), RangeParameter(name='x_r2', parameter_type=FLOAT, range=[0.0, 1.0]), RangeParameter(name='x_r2_1', parameter_type=FLOAT, range=[0.0, 1.0]), RangeParameter(name='x_r2_2', parameter_type=FLOAT, range=[0.0, 1.0])], parameter_constraints=[ParameterConstraint(-1.0*z_sh + 1.0*z_sh_1 <= -1.0), ParameterConstraint(-1.0*z_sh_1 + 1.0*z_sh_2 <= -1.0), ParameterConstraint(-1.0*z_r2 + 1.0*z_r2_1 <= -1.0), ParameterConstraint(-1.0*z_r2_1 + 1.0*z_r2_2 <= -1.0), ParameterConstraint(-1.0*x_s + 1.0*x_s_1 <= -0.1), ParameterConstraint(-1.0*x_s_1 + 1.0*x_s_2 <= -0.1), ParameterConstraint(-1.0*x_r2 + 1.0*x_r2_1 <= -0.1), ParameterConstraint(-1.0*x_r2_1 + 1.0*x_r2_2 <= -0.1)])\n",
      "[WARNING 04-10 13:51:28] ax.modelbridge.transforms.int_to_float: Unable to round {'z_sh': np.float64(11.0), 'z_sh_1': np.float64(9.0), 'z_sh_2': np.float64(6.0), 'z_r2': np.float64(80.0), 'z_r2_1': np.float64(76.0), 'z_r2_2': np.float64(73.0), 'x_s': np.float64(0.5972928776592017), 'x_s_1': np.float64(0.025873841252177954), 'x_s_2': np.float64(-0.9296511495299637), 'x_r2': np.float64(0.8357569315657019), 'x_r2_1': np.float64(-0.028428212832659505), 'x_r2_2': np.float64(-0.7125103431381286)}to meet parameter constraints of SearchSpace(parameters=[RangeParameter(name='z_sh', parameter_type=INT, range=[7, 15]), RangeParameter(name='z_sh_1', parameter_type=INT, range=[6, 14]), RangeParameter(name='z_sh_2', parameter_type=INT, range=[5, 13]), RangeParameter(name='z_r2', parameter_type=INT, range=[72, 86]), RangeParameter(name='z_r2_1', parameter_type=INT, range=[71, 85]), RangeParameter(name='z_r2_2', parameter_type=INT, range=[70, 84]), RangeParameter(name='x_s', parameter_type=FLOAT, range=[0.0, 1.0]), RangeParameter(name='x_s_1', parameter_type=FLOAT, range=[0.0, 1.0]), RangeParameter(name='x_s_2', parameter_type=FLOAT, range=[0.0, 1.0]), RangeParameter(name='x_r2', parameter_type=FLOAT, range=[0.0, 1.0]), RangeParameter(name='x_r2_1', parameter_type=FLOAT, range=[0.0, 1.0]), RangeParameter(name='x_r2_2', parameter_type=FLOAT, range=[0.0, 1.0])], parameter_constraints=[ParameterConstraint(-1.0*z_sh + 1.0*z_sh_1 <= -1.0), ParameterConstraint(-1.0*z_sh_1 + 1.0*z_sh_2 <= -1.0), ParameterConstraint(-1.0*z_r2 + 1.0*z_r2_1 <= -1.0), ParameterConstraint(-1.0*z_r2_1 + 1.0*z_r2_2 <= -1.0), ParameterConstraint(-1.0*x_s + 1.0*x_s_1 <= -0.1), ParameterConstraint(-1.0*x_s_1 + 1.0*x_s_2 <= -0.1), ParameterConstraint(-1.0*x_r2 + 1.0*x_r2_1 <= -0.1), ParameterConstraint(-1.0*x_r2_1 + 1.0*x_r2_2 <= -0.1)])\n",
      "[INFO 04-10 13:51:28] ax.service.ax_client: Generated new trial 14 with parameters {'z_sh': 11, 'z_sh_1': 9, 'z_sh_2': 6, 'z_r2': 80, 'z_r2_1': 76, 'z_r2_2': 73, 'x_s': 0.597293, 'x_s_1': 0.025874, 'x_s_2': -0.929651, 'x_r2': 0.835757, 'x_r2_1': -0.028428, 'x_r2_2': -0.71251} using model Sobol.\n",
      "[INFO 04-10 13:51:28] ax.service.ax_client: Completed trial 14 with data: {'Viable_Cross_Terms': (404, None)}.\n",
      "[WARNING 04-10 13:51:28] ax.modelbridge.transforms.int_to_float: Unable to round {'z_sh': 15.11431592222117, 'z_sh_1': 13.918696692776587, 'z_sh_2': 8.080925244840476, 'z_r2': 85.49670455972017, 'z_r2_1': 76.59016896541735, 'z_r2_2': 71.94709789196595, 'x_s': 0.7658410511538387, 'x_s_1': 0.1939328463748098, 'x_s_2': -0.24884643699973819, 'x_r2': 0.23628536149859425, 'x_r2_1': -0.22491403302177781, 'x_r2_2': -0.4823085274919867}to meet parameter constraints of SearchSpace(parameters=[RangeParameter(name='z_sh', parameter_type=INT, range=[7, 15]), RangeParameter(name='z_sh_1', parameter_type=INT, range=[6, 14]), RangeParameter(name='z_sh_2', parameter_type=INT, range=[5, 13]), RangeParameter(name='z_r2', parameter_type=INT, range=[72, 86]), RangeParameter(name='z_r2_1', parameter_type=INT, range=[71, 85]), RangeParameter(name='z_r2_2', parameter_type=INT, range=[70, 84]), RangeParameter(name='x_s', parameter_type=FLOAT, range=[0.0, 1.0]), RangeParameter(name='x_s_1', parameter_type=FLOAT, range=[0.0, 1.0]), RangeParameter(name='x_s_2', parameter_type=FLOAT, range=[0.0, 1.0]), RangeParameter(name='x_r2', parameter_type=FLOAT, range=[0.0, 1.0]), RangeParameter(name='x_r2_1', parameter_type=FLOAT, range=[0.0, 1.0]), RangeParameter(name='x_r2_2', parameter_type=FLOAT, range=[0.0, 1.0])], parameter_constraints=[ParameterConstraint(-1.0*z_sh + 1.0*z_sh_1 <= -1.0), ParameterConstraint(-1.0*z_sh_1 + 1.0*z_sh_2 <= -1.0), ParameterConstraint(-1.0*z_r2 + 1.0*z_r2_1 <= -1.0), ParameterConstraint(-1.0*z_r2_1 + 1.0*z_r2_2 <= -1.0), ParameterConstraint(-1.0*x_s + 1.0*x_s_1 <= -0.1), ParameterConstraint(-1.0*x_s_1 + 1.0*x_s_2 <= -0.1), ParameterConstraint(-1.0*x_r2 + 1.0*x_r2_1 <= -0.1), ParameterConstraint(-1.0*x_r2_1 + 1.0*x_r2_2 <= -0.1)])\n",
      "[WARNING 04-10 13:51:28] ax.modelbridge.transforms.int_to_float: Unable to round {'z_sh': np.float64(15.0), 'z_sh_1': np.float64(14.0), 'z_sh_2': np.float64(8.0), 'z_r2': np.float64(85.0), 'z_r2_1': np.float64(77.0), 'z_r2_2': np.float64(72.0), 'x_s': np.float64(0.7658410511538387), 'x_s_1': np.float64(0.1939328463748098), 'x_s_2': np.float64(-0.24884643699973819), 'x_r2': np.float64(0.23628536149859425), 'x_r2_1': np.float64(-0.22491403302177781), 'x_r2_2': np.float64(-0.4823085274919867)}to meet parameter constraints of SearchSpace(parameters=[RangeParameter(name='z_sh', parameter_type=INT, range=[7, 15]), RangeParameter(name='z_sh_1', parameter_type=INT, range=[6, 14]), RangeParameter(name='z_sh_2', parameter_type=INT, range=[5, 13]), RangeParameter(name='z_r2', parameter_type=INT, range=[72, 86]), RangeParameter(name='z_r2_1', parameter_type=INT, range=[71, 85]), RangeParameter(name='z_r2_2', parameter_type=INT, range=[70, 84]), RangeParameter(name='x_s', parameter_type=FLOAT, range=[0.0, 1.0]), RangeParameter(name='x_s_1', parameter_type=FLOAT, range=[0.0, 1.0]), RangeParameter(name='x_s_2', parameter_type=FLOAT, range=[0.0, 1.0]), RangeParameter(name='x_r2', parameter_type=FLOAT, range=[0.0, 1.0]), RangeParameter(name='x_r2_1', parameter_type=FLOAT, range=[0.0, 1.0]), RangeParameter(name='x_r2_2', parameter_type=FLOAT, range=[0.0, 1.0])], parameter_constraints=[ParameterConstraint(-1.0*z_sh + 1.0*z_sh_1 <= -1.0), ParameterConstraint(-1.0*z_sh_1 + 1.0*z_sh_2 <= -1.0), ParameterConstraint(-1.0*z_r2 + 1.0*z_r2_1 <= -1.0), ParameterConstraint(-1.0*z_r2_1 + 1.0*z_r2_2 <= -1.0), ParameterConstraint(-1.0*x_s + 1.0*x_s_1 <= -0.1), ParameterConstraint(-1.0*x_s_1 + 1.0*x_s_2 <= -0.1), ParameterConstraint(-1.0*x_r2 + 1.0*x_r2_1 <= -0.1), ParameterConstraint(-1.0*x_r2_1 + 1.0*x_r2_2 <= -0.1)])\n",
      "[INFO 04-10 13:51:28] ax.service.ax_client: Generated new trial 15 with parameters {'z_sh': 15, 'z_sh_1': 14, 'z_sh_2': 8, 'z_r2': 85, 'z_r2_1': 77, 'z_r2_2': 72, 'x_s': 0.765841, 'x_s_1': 0.193933, 'x_s_2': -0.248846, 'x_r2': 0.236285, 'x_r2_1': -0.224914, 'x_r2_2': -0.482309} using model Sobol.\n",
      "[INFO 04-10 13:51:28] ax.service.ax_client: Completed trial 15 with data: {'Viable_Cross_Terms': (417, None)}.\n",
      "[WARNING 04-10 13:51:28] ax.modelbridge.transforms.int_to_float: Unable to round {'z_sh': 14.487866561494506, 'z_sh_1': 13.028190710991119, 'z_sh_2': 10.27058910787996, 'z_r2': 82.00182733443646, 'z_r2_1': 79.45693015695993, 'z_r2_2': 74.68138112916472, 'x_s': 0.6604042774438859, 'x_s_1': 0.0025061486475169703, 'x_s_2': -0.5352172226086259, 'x_r2': -0.3690984072722494, 'x_r2_1': -0.5713912940584123, 'x_r2_2': -0.7207000524550676}to meet parameter constraints of SearchSpace(parameters=[RangeParameter(name='z_sh', parameter_type=INT, range=[7, 15]), RangeParameter(name='z_sh_1', parameter_type=INT, range=[6, 14]), RangeParameter(name='z_sh_2', parameter_type=INT, range=[5, 13]), RangeParameter(name='z_r2', parameter_type=INT, range=[72, 86]), RangeParameter(name='z_r2_1', parameter_type=INT, range=[71, 85]), RangeParameter(name='z_r2_2', parameter_type=INT, range=[70, 84]), RangeParameter(name='x_s', parameter_type=FLOAT, range=[0.0, 1.0]), RangeParameter(name='x_s_1', parameter_type=FLOAT, range=[0.0, 1.0]), RangeParameter(name='x_s_2', parameter_type=FLOAT, range=[0.0, 1.0]), RangeParameter(name='x_r2', parameter_type=FLOAT, range=[0.0, 1.0]), RangeParameter(name='x_r2_1', parameter_type=FLOAT, range=[0.0, 1.0]), RangeParameter(name='x_r2_2', parameter_type=FLOAT, range=[0.0, 1.0])], parameter_constraints=[ParameterConstraint(-1.0*z_sh + 1.0*z_sh_1 <= -1.0), ParameterConstraint(-1.0*z_sh_1 + 1.0*z_sh_2 <= -1.0), ParameterConstraint(-1.0*z_r2 + 1.0*z_r2_1 <= -1.0), ParameterConstraint(-1.0*z_r2_1 + 1.0*z_r2_2 <= -1.0), ParameterConstraint(-1.0*x_s + 1.0*x_s_1 <= -0.1), ParameterConstraint(-1.0*x_s_1 + 1.0*x_s_2 <= -0.1), ParameterConstraint(-1.0*x_r2 + 1.0*x_r2_1 <= -0.1), ParameterConstraint(-1.0*x_r2_1 + 1.0*x_r2_2 <= -0.1)])\n",
      "[WARNING 04-10 13:51:28] ax.modelbridge.transforms.int_to_float: Unable to round {'z_sh': np.float64(14.0), 'z_sh_1': np.float64(13.0), 'z_sh_2': np.float64(10.0), 'z_r2': np.float64(82.0), 'z_r2_1': np.float64(79.0), 'z_r2_2': np.float64(75.0), 'x_s': np.float64(0.6604042774438859), 'x_s_1': np.float64(0.0025061486475169703), 'x_s_2': np.float64(-0.5352172226086259), 'x_r2': np.float64(-0.3690984072722494), 'x_r2_1': np.float64(-0.5713912940584123), 'x_r2_2': np.float64(-0.7207000524550676)}to meet parameter constraints of SearchSpace(parameters=[RangeParameter(name='z_sh', parameter_type=INT, range=[7, 15]), RangeParameter(name='z_sh_1', parameter_type=INT, range=[6, 14]), RangeParameter(name='z_sh_2', parameter_type=INT, range=[5, 13]), RangeParameter(name='z_r2', parameter_type=INT, range=[72, 86]), RangeParameter(name='z_r2_1', parameter_type=INT, range=[71, 85]), RangeParameter(name='z_r2_2', parameter_type=INT, range=[70, 84]), RangeParameter(name='x_s', parameter_type=FLOAT, range=[0.0, 1.0]), RangeParameter(name='x_s_1', parameter_type=FLOAT, range=[0.0, 1.0]), RangeParameter(name='x_s_2', parameter_type=FLOAT, range=[0.0, 1.0]), RangeParameter(name='x_r2', parameter_type=FLOAT, range=[0.0, 1.0]), RangeParameter(name='x_r2_1', parameter_type=FLOAT, range=[0.0, 1.0]), RangeParameter(name='x_r2_2', parameter_type=FLOAT, range=[0.0, 1.0])], parameter_constraints=[ParameterConstraint(-1.0*z_sh + 1.0*z_sh_1 <= -1.0), ParameterConstraint(-1.0*z_sh_1 + 1.0*z_sh_2 <= -1.0), ParameterConstraint(-1.0*z_r2 + 1.0*z_r2_1 <= -1.0), ParameterConstraint(-1.0*z_r2_1 + 1.0*z_r2_2 <= -1.0), ParameterConstraint(-1.0*x_s + 1.0*x_s_1 <= -0.1), ParameterConstraint(-1.0*x_s_1 + 1.0*x_s_2 <= -0.1), ParameterConstraint(-1.0*x_r2 + 1.0*x_r2_1 <= -0.1), ParameterConstraint(-1.0*x_r2_1 + 1.0*x_r2_2 <= -0.1)])\n",
      "[INFO 04-10 13:51:28] ax.service.ax_client: Generated new trial 16 with parameters {'z_sh': 14, 'z_sh_1': 13, 'z_sh_2': 10, 'z_r2': 82, 'z_r2_1': 79, 'z_r2_2': 75, 'x_s': 0.660404, 'x_s_1': 0.002506, 'x_s_2': -0.535217, 'x_r2': -0.369098, 'x_r2_1': -0.571391, 'x_r2_2': -0.7207} using model Sobol.\n",
      "[INFO 04-10 13:51:28] ax.service.ax_client: Completed trial 16 with data: {'Viable_Cross_Terms': (370, None)}.\n",
      "[WARNING 04-10 13:51:29] ax.modelbridge.transforms.int_to_float: Unable to round {'z_sh': 13.686790292201938, 'z_sh_1': 6.806307134651522, 'z_sh_2': 4.995751951382719, 'z_r2': 83.40557659391543, 'z_r2_1': 80.00098685014231, 'z_r2_2': 76.38147370286092, 'x_s': 0.9387419293634593, 'x_s_1': 0.07617673695087435, 'x_s_2': -0.8476232453621924, 'x_r2': 0.37115469098091136, 'x_r2_1': -0.05568563606590038, 'x_r2_2': -0.8150910767167807}to meet parameter constraints of SearchSpace(parameters=[RangeParameter(name='z_sh', parameter_type=INT, range=[7, 15]), RangeParameter(name='z_sh_1', parameter_type=INT, range=[6, 14]), RangeParameter(name='z_sh_2', parameter_type=INT, range=[5, 13]), RangeParameter(name='z_r2', parameter_type=INT, range=[72, 86]), RangeParameter(name='z_r2_1', parameter_type=INT, range=[71, 85]), RangeParameter(name='z_r2_2', parameter_type=INT, range=[70, 84]), RangeParameter(name='x_s', parameter_type=FLOAT, range=[0.0, 1.0]), RangeParameter(name='x_s_1', parameter_type=FLOAT, range=[0.0, 1.0]), RangeParameter(name='x_s_2', parameter_type=FLOAT, range=[0.0, 1.0]), RangeParameter(name='x_r2', parameter_type=FLOAT, range=[0.0, 1.0]), RangeParameter(name='x_r2_1', parameter_type=FLOAT, range=[0.0, 1.0]), RangeParameter(name='x_r2_2', parameter_type=FLOAT, range=[0.0, 1.0])], parameter_constraints=[ParameterConstraint(-1.0*z_sh + 1.0*z_sh_1 <= -1.0), ParameterConstraint(-1.0*z_sh_1 + 1.0*z_sh_2 <= -1.0), ParameterConstraint(-1.0*z_r2 + 1.0*z_r2_1 <= -1.0), ParameterConstraint(-1.0*z_r2_1 + 1.0*z_r2_2 <= -1.0), ParameterConstraint(-1.0*x_s + 1.0*x_s_1 <= -0.1), ParameterConstraint(-1.0*x_s_1 + 1.0*x_s_2 <= -0.1), ParameterConstraint(-1.0*x_r2 + 1.0*x_r2_1 <= -0.1), ParameterConstraint(-1.0*x_r2_1 + 1.0*x_r2_2 <= -0.1)])\n",
      "[WARNING 04-10 13:51:29] ax.modelbridge.transforms.int_to_float: Unable to round {'z_sh': np.float64(14.0), 'z_sh_1': np.float64(7.0), 'z_sh_2': np.float64(5.0), 'z_r2': np.float64(83.0), 'z_r2_1': np.float64(80.0), 'z_r2_2': np.float64(76.0), 'x_s': np.float64(0.9387419293634593), 'x_s_1': np.float64(0.07617673695087435), 'x_s_2': np.float64(-0.8476232453621924), 'x_r2': np.float64(0.37115469098091136), 'x_r2_1': np.float64(-0.05568563606590038), 'x_r2_2': np.float64(-0.8150910767167807)}to meet parameter constraints of SearchSpace(parameters=[RangeParameter(name='z_sh', parameter_type=INT, range=[7, 15]), RangeParameter(name='z_sh_1', parameter_type=INT, range=[6, 14]), RangeParameter(name='z_sh_2', parameter_type=INT, range=[5, 13]), RangeParameter(name='z_r2', parameter_type=INT, range=[72, 86]), RangeParameter(name='z_r2_1', parameter_type=INT, range=[71, 85]), RangeParameter(name='z_r2_2', parameter_type=INT, range=[70, 84]), RangeParameter(name='x_s', parameter_type=FLOAT, range=[0.0, 1.0]), RangeParameter(name='x_s_1', parameter_type=FLOAT, range=[0.0, 1.0]), RangeParameter(name='x_s_2', parameter_type=FLOAT, range=[0.0, 1.0]), RangeParameter(name='x_r2', parameter_type=FLOAT, range=[0.0, 1.0]), RangeParameter(name='x_r2_1', parameter_type=FLOAT, range=[0.0, 1.0]), RangeParameter(name='x_r2_2', parameter_type=FLOAT, range=[0.0, 1.0])], parameter_constraints=[ParameterConstraint(-1.0*z_sh + 1.0*z_sh_1 <= -1.0), ParameterConstraint(-1.0*z_sh_1 + 1.0*z_sh_2 <= -1.0), ParameterConstraint(-1.0*z_r2 + 1.0*z_r2_1 <= -1.0), ParameterConstraint(-1.0*z_r2_1 + 1.0*z_r2_2 <= -1.0), ParameterConstraint(-1.0*x_s + 1.0*x_s_1 <= -0.1), ParameterConstraint(-1.0*x_s_1 + 1.0*x_s_2 <= -0.1), ParameterConstraint(-1.0*x_r2 + 1.0*x_r2_1 <= -0.1), ParameterConstraint(-1.0*x_r2_1 + 1.0*x_r2_2 <= -0.1)])\n",
      "[INFO 04-10 13:51:29] ax.service.ax_client: Generated new trial 17 with parameters {'z_sh': 14, 'z_sh_1': 7, 'z_sh_2': 5, 'z_r2': 83, 'z_r2_1': 80, 'z_r2_2': 76, 'x_s': 0.938742, 'x_s_1': 0.076177, 'x_s_2': -0.847623, 'x_r2': 0.371155, 'x_r2_1': -0.055686, 'x_r2_2': -0.815091} using model Sobol.\n",
      "[INFO 04-10 13:51:29] ax.service.ax_client: Completed trial 17 with data: {'Viable_Cross_Terms': (210, None)}.\n",
      "[WARNING 04-10 13:51:29] ax.modelbridge.transforms.int_to_float: Unable to round {'z_sh': 13.910330073597393, 'z_sh_1': 6.009675929607134, 'z_sh_2': 4.662134028574806, 'z_r2': 82.73988639634376, 'z_r2_1': 74.28703604516885, 'z_r2_2': 70.23837340840568, 'x_s': -0.005586145762354167, 'x_s_1': -0.2956286280043423, 'x_s_2': -0.7694717727601528, 'x_r2': 0.7583200530894101, 'x_r2_1': 0.6530346594750882, 'x_r2_2': -0.5627259911224246}to meet parameter constraints of SearchSpace(parameters=[RangeParameter(name='z_sh', parameter_type=INT, range=[7, 15]), RangeParameter(name='z_sh_1', parameter_type=INT, range=[6, 14]), RangeParameter(name='z_sh_2', parameter_type=INT, range=[5, 13]), RangeParameter(name='z_r2', parameter_type=INT, range=[72, 86]), RangeParameter(name='z_r2_1', parameter_type=INT, range=[71, 85]), RangeParameter(name='z_r2_2', parameter_type=INT, range=[70, 84]), RangeParameter(name='x_s', parameter_type=FLOAT, range=[0.0, 1.0]), RangeParameter(name='x_s_1', parameter_type=FLOAT, range=[0.0, 1.0]), RangeParameter(name='x_s_2', parameter_type=FLOAT, range=[0.0, 1.0]), RangeParameter(name='x_r2', parameter_type=FLOAT, range=[0.0, 1.0]), RangeParameter(name='x_r2_1', parameter_type=FLOAT, range=[0.0, 1.0]), RangeParameter(name='x_r2_2', parameter_type=FLOAT, range=[0.0, 1.0])], parameter_constraints=[ParameterConstraint(-1.0*z_sh + 1.0*z_sh_1 <= -1.0), ParameterConstraint(-1.0*z_sh_1 + 1.0*z_sh_2 <= -1.0), ParameterConstraint(-1.0*z_r2 + 1.0*z_r2_1 <= -1.0), ParameterConstraint(-1.0*z_r2_1 + 1.0*z_r2_2 <= -1.0), ParameterConstraint(-1.0*x_s + 1.0*x_s_1 <= -0.1), ParameterConstraint(-1.0*x_s_1 + 1.0*x_s_2 <= -0.1), ParameterConstraint(-1.0*x_r2 + 1.0*x_r2_1 <= -0.1), ParameterConstraint(-1.0*x_r2_1 + 1.0*x_r2_2 <= -0.1)])\n",
      "[WARNING 04-10 13:51:29] ax.modelbridge.transforms.int_to_float: Unable to round {'z_sh': np.float64(14.0), 'z_sh_1': np.float64(6.0), 'z_sh_2': np.float64(5.0), 'z_r2': np.float64(83.0), 'z_r2_1': np.float64(74.0), 'z_r2_2': np.float64(70.0), 'x_s': np.float64(-0.005586145762354167), 'x_s_1': np.float64(-0.2956286280043423), 'x_s_2': np.float64(-0.7694717727601528), 'x_r2': np.float64(0.7583200530894101), 'x_r2_1': np.float64(0.6530346594750882), 'x_r2_2': np.float64(-0.5627259911224246)}to meet parameter constraints of SearchSpace(parameters=[RangeParameter(name='z_sh', parameter_type=INT, range=[7, 15]), RangeParameter(name='z_sh_1', parameter_type=INT, range=[6, 14]), RangeParameter(name='z_sh_2', parameter_type=INT, range=[5, 13]), RangeParameter(name='z_r2', parameter_type=INT, range=[72, 86]), RangeParameter(name='z_r2_1', parameter_type=INT, range=[71, 85]), RangeParameter(name='z_r2_2', parameter_type=INT, range=[70, 84]), RangeParameter(name='x_s', parameter_type=FLOAT, range=[0.0, 1.0]), RangeParameter(name='x_s_1', parameter_type=FLOAT, range=[0.0, 1.0]), RangeParameter(name='x_s_2', parameter_type=FLOAT, range=[0.0, 1.0]), RangeParameter(name='x_r2', parameter_type=FLOAT, range=[0.0, 1.0]), RangeParameter(name='x_r2_1', parameter_type=FLOAT, range=[0.0, 1.0]), RangeParameter(name='x_r2_2', parameter_type=FLOAT, range=[0.0, 1.0])], parameter_constraints=[ParameterConstraint(-1.0*z_sh + 1.0*z_sh_1 <= -1.0), ParameterConstraint(-1.0*z_sh_1 + 1.0*z_sh_2 <= -1.0), ParameterConstraint(-1.0*z_r2 + 1.0*z_r2_1 <= -1.0), ParameterConstraint(-1.0*z_r2_1 + 1.0*z_r2_2 <= -1.0), ParameterConstraint(-1.0*x_s + 1.0*x_s_1 <= -0.1), ParameterConstraint(-1.0*x_s_1 + 1.0*x_s_2 <= -0.1), ParameterConstraint(-1.0*x_r2 + 1.0*x_r2_1 <= -0.1), ParameterConstraint(-1.0*x_r2_1 + 1.0*x_r2_2 <= -0.1)])\n",
      "[INFO 04-10 13:51:29] ax.service.ax_client: Generated new trial 18 with parameters {'z_sh': 14, 'z_sh_1': 6, 'z_sh_2': 5, 'z_r2': 83, 'z_r2_1': 74, 'z_r2_2': 70, 'x_s': -0.005586, 'x_s_1': -0.295629, 'x_s_2': -0.769472, 'x_r2': 0.75832, 'x_r2_1': 0.653035, 'x_r2_2': -0.562726} using model Sobol.\n",
      "[INFO 04-10 13:51:29] ax.service.ax_client: Completed trial 18 with data: {'Viable_Cross_Terms': (476, None)}.\n",
      "[WARNING 04-10 13:51:29] ax.modelbridge.transforms.int_to_float: Unable to round {'z_sh': 12.915319685692955, 'z_sh_1': 10.682889400570467, 'z_sh_2': 5.877058110801652, 'z_r2': 85.96957497573877, 'z_r2_1': 81.70755472877138, 'z_r2_2': 76.13439484708967, 'x_s': 0.27096499687060716, 'x_s_1': 0.126105942260474, 'x_s_2': -0.28635589608922596, 'x_r2': 0.7464257987216114, 'x_r2_1': -0.864891852568835, 'x_r2_2': -0.9820091358385981}to meet parameter constraints of SearchSpace(parameters=[RangeParameter(name='z_sh', parameter_type=INT, range=[7, 15]), RangeParameter(name='z_sh_1', parameter_type=INT, range=[6, 14]), RangeParameter(name='z_sh_2', parameter_type=INT, range=[5, 13]), RangeParameter(name='z_r2', parameter_type=INT, range=[72, 86]), RangeParameter(name='z_r2_1', parameter_type=INT, range=[71, 85]), RangeParameter(name='z_r2_2', parameter_type=INT, range=[70, 84]), RangeParameter(name='x_s', parameter_type=FLOAT, range=[0.0, 1.0]), RangeParameter(name='x_s_1', parameter_type=FLOAT, range=[0.0, 1.0]), RangeParameter(name='x_s_2', parameter_type=FLOAT, range=[0.0, 1.0]), RangeParameter(name='x_r2', parameter_type=FLOAT, range=[0.0, 1.0]), RangeParameter(name='x_r2_1', parameter_type=FLOAT, range=[0.0, 1.0]), RangeParameter(name='x_r2_2', parameter_type=FLOAT, range=[0.0, 1.0])], parameter_constraints=[ParameterConstraint(-1.0*z_sh + 1.0*z_sh_1 <= -1.0), ParameterConstraint(-1.0*z_sh_1 + 1.0*z_sh_2 <= -1.0), ParameterConstraint(-1.0*z_r2 + 1.0*z_r2_1 <= -1.0), ParameterConstraint(-1.0*z_r2_1 + 1.0*z_r2_2 <= -1.0), ParameterConstraint(-1.0*x_s + 1.0*x_s_1 <= -0.1), ParameterConstraint(-1.0*x_s_1 + 1.0*x_s_2 <= -0.1), ParameterConstraint(-1.0*x_r2 + 1.0*x_r2_1 <= -0.1), ParameterConstraint(-1.0*x_r2_1 + 1.0*x_r2_2 <= -0.1)])\n",
      "[WARNING 04-10 13:51:29] ax.modelbridge.transforms.int_to_float: Unable to round {'z_sh': np.float64(13.0), 'z_sh_1': np.float64(11.0), 'z_sh_2': np.float64(6.0), 'z_r2': np.float64(86.0), 'z_r2_1': np.float64(82.0), 'z_r2_2': np.float64(76.0), 'x_s': np.float64(0.27096499687060716), 'x_s_1': np.float64(0.126105942260474), 'x_s_2': np.float64(-0.28635589608922596), 'x_r2': np.float64(0.7464257987216114), 'x_r2_1': np.float64(-0.864891852568835), 'x_r2_2': np.float64(-0.9820091358385981)}to meet parameter constraints of SearchSpace(parameters=[RangeParameter(name='z_sh', parameter_type=INT, range=[7, 15]), RangeParameter(name='z_sh_1', parameter_type=INT, range=[6, 14]), RangeParameter(name='z_sh_2', parameter_type=INT, range=[5, 13]), RangeParameter(name='z_r2', parameter_type=INT, range=[72, 86]), RangeParameter(name='z_r2_1', parameter_type=INT, range=[71, 85]), RangeParameter(name='z_r2_2', parameter_type=INT, range=[70, 84]), RangeParameter(name='x_s', parameter_type=FLOAT, range=[0.0, 1.0]), RangeParameter(name='x_s_1', parameter_type=FLOAT, range=[0.0, 1.0]), RangeParameter(name='x_s_2', parameter_type=FLOAT, range=[0.0, 1.0]), RangeParameter(name='x_r2', parameter_type=FLOAT, range=[0.0, 1.0]), RangeParameter(name='x_r2_1', parameter_type=FLOAT, range=[0.0, 1.0]), RangeParameter(name='x_r2_2', parameter_type=FLOAT, range=[0.0, 1.0])], parameter_constraints=[ParameterConstraint(-1.0*z_sh + 1.0*z_sh_1 <= -1.0), ParameterConstraint(-1.0*z_sh_1 + 1.0*z_sh_2 <= -1.0), ParameterConstraint(-1.0*z_r2 + 1.0*z_r2_1 <= -1.0), ParameterConstraint(-1.0*z_r2_1 + 1.0*z_r2_2 <= -1.0), ParameterConstraint(-1.0*x_s + 1.0*x_s_1 <= -0.1), ParameterConstraint(-1.0*x_s_1 + 1.0*x_s_2 <= -0.1), ParameterConstraint(-1.0*x_r2 + 1.0*x_r2_1 <= -0.1), ParameterConstraint(-1.0*x_r2_1 + 1.0*x_r2_2 <= -0.1)])\n",
      "[INFO 04-10 13:51:29] ax.service.ax_client: Generated new trial 19 with parameters {'z_sh': 13, 'z_sh_1': 11, 'z_sh_2': 6, 'z_r2': 86, 'z_r2_1': 82, 'z_r2_2': 76, 'x_s': 0.270965, 'x_s_1': 0.126106, 'x_s_2': -0.286356, 'x_r2': 0.746426, 'x_r2_1': -0.864892, 'x_r2_2': -0.982009} using model Sobol.\n",
      "[INFO 04-10 13:51:29] ax.service.ax_client: Completed trial 19 with data: {'Viable_Cross_Terms': (172, None)}.\n",
      "[WARNING 04-10 13:51:29] ax.modelbridge.transforms.int_to_float: Unable to round {'z_sh': 13.646487928200326, 'z_sh_1': 12.571261821982153, 'z_sh_2': 7.498856764170565, 'z_r2': 84.2552243008444, 'z_r2_1': 81.83755487011291, 'z_r2_2': 72.7733187416202, 'x_s': 0.004593492075800953, 'x_s_1': -0.477706560306251, 'x_s_2': -0.8395856141112745, 'x_r2': 0.39398834470659505, 'x_r2_1': 0.01546169294044386, 'x_r2_2': -0.9974594825319946}to meet parameter constraints of SearchSpace(parameters=[RangeParameter(name='z_sh', parameter_type=INT, range=[7, 15]), RangeParameter(name='z_sh_1', parameter_type=INT, range=[6, 14]), RangeParameter(name='z_sh_2', parameter_type=INT, range=[5, 13]), RangeParameter(name='z_r2', parameter_type=INT, range=[72, 86]), RangeParameter(name='z_r2_1', parameter_type=INT, range=[71, 85]), RangeParameter(name='z_r2_2', parameter_type=INT, range=[70, 84]), RangeParameter(name='x_s', parameter_type=FLOAT, range=[0.0, 1.0]), RangeParameter(name='x_s_1', parameter_type=FLOAT, range=[0.0, 1.0]), RangeParameter(name='x_s_2', parameter_type=FLOAT, range=[0.0, 1.0]), RangeParameter(name='x_r2', parameter_type=FLOAT, range=[0.0, 1.0]), RangeParameter(name='x_r2_1', parameter_type=FLOAT, range=[0.0, 1.0]), RangeParameter(name='x_r2_2', parameter_type=FLOAT, range=[0.0, 1.0])], parameter_constraints=[ParameterConstraint(-1.0*z_sh + 1.0*z_sh_1 <= -1.0), ParameterConstraint(-1.0*z_sh_1 + 1.0*z_sh_2 <= -1.0), ParameterConstraint(-1.0*z_r2 + 1.0*z_r2_1 <= -1.0), ParameterConstraint(-1.0*z_r2_1 + 1.0*z_r2_2 <= -1.0), ParameterConstraint(-1.0*x_s + 1.0*x_s_1 <= -0.1), ParameterConstraint(-1.0*x_s_1 + 1.0*x_s_2 <= -0.1), ParameterConstraint(-1.0*x_r2 + 1.0*x_r2_1 <= -0.1), ParameterConstraint(-1.0*x_r2_1 + 1.0*x_r2_2 <= -0.1)])\n",
      "[WARNING 04-10 13:51:29] ax.modelbridge.transforms.int_to_float: Unable to round {'z_sh': np.float64(14.0), 'z_sh_1': np.float64(13.0), 'z_sh_2': np.float64(7.0), 'z_r2': np.float64(84.0), 'z_r2_1': np.float64(82.0), 'z_r2_2': np.float64(73.0), 'x_s': np.float64(0.004593492075800953), 'x_s_1': np.float64(-0.477706560306251), 'x_s_2': np.float64(-0.8395856141112745), 'x_r2': np.float64(0.39398834470659505), 'x_r2_1': np.float64(0.01546169294044386), 'x_r2_2': np.float64(-0.9974594825319946)}to meet parameter constraints of SearchSpace(parameters=[RangeParameter(name='z_sh', parameter_type=INT, range=[7, 15]), RangeParameter(name='z_sh_1', parameter_type=INT, range=[6, 14]), RangeParameter(name='z_sh_2', parameter_type=INT, range=[5, 13]), RangeParameter(name='z_r2', parameter_type=INT, range=[72, 86]), RangeParameter(name='z_r2_1', parameter_type=INT, range=[71, 85]), RangeParameter(name='z_r2_2', parameter_type=INT, range=[70, 84]), RangeParameter(name='x_s', parameter_type=FLOAT, range=[0.0, 1.0]), RangeParameter(name='x_s_1', parameter_type=FLOAT, range=[0.0, 1.0]), RangeParameter(name='x_s_2', parameter_type=FLOAT, range=[0.0, 1.0]), RangeParameter(name='x_r2', parameter_type=FLOAT, range=[0.0, 1.0]), RangeParameter(name='x_r2_1', parameter_type=FLOAT, range=[0.0, 1.0]), RangeParameter(name='x_r2_2', parameter_type=FLOAT, range=[0.0, 1.0])], parameter_constraints=[ParameterConstraint(-1.0*z_sh + 1.0*z_sh_1 <= -1.0), ParameterConstraint(-1.0*z_sh_1 + 1.0*z_sh_2 <= -1.0), ParameterConstraint(-1.0*z_r2 + 1.0*z_r2_1 <= -1.0), ParameterConstraint(-1.0*z_r2_1 + 1.0*z_r2_2 <= -1.0), ParameterConstraint(-1.0*x_s + 1.0*x_s_1 <= -0.1), ParameterConstraint(-1.0*x_s_1 + 1.0*x_s_2 <= -0.1), ParameterConstraint(-1.0*x_r2 + 1.0*x_r2_1 <= -0.1), ParameterConstraint(-1.0*x_r2_1 + 1.0*x_r2_2 <= -0.1)])\n",
      "[INFO 04-10 13:51:29] ax.service.ax_client: Generated new trial 20 with parameters {'z_sh': 14, 'z_sh_1': 13, 'z_sh_2': 7, 'z_r2': 84, 'z_r2_1': 82, 'z_r2_2': 73, 'x_s': 0.004593, 'x_s_1': -0.477707, 'x_s_2': -0.839586, 'x_r2': 0.393988, 'x_r2_1': 0.015462, 'x_r2_2': -0.997459} using model Sobol.\n",
      "[INFO 04-10 13:51:29] ax.service.ax_client: Completed trial 20 with data: {'Viable_Cross_Terms': (241, None)}.\n",
      "[WARNING 04-10 13:51:29] ax.modelbridge.transforms.int_to_float: Unable to round {'z_sh': 13.98274160165852, 'z_sh_1': 9.771281337128208, 'z_sh_2': 6.427672781818974, 'z_r2': 86.1447434287269, 'z_r2_1': 82.34969799846549, 'z_r2_2': 72.05658447023367, 'x_s': 0.681978423986584, 'x_s_1': 0.49690962519496673, 'x_s_2': -0.19022860283032061, 'x_r2': 0.9731762715242802, 'x_r2_1': 0.6577182364650072, 'x_r2_2': -0.44357380280271175}to meet parameter constraints of SearchSpace(parameters=[RangeParameter(name='z_sh', parameter_type=INT, range=[7, 15]), RangeParameter(name='z_sh_1', parameter_type=INT, range=[6, 14]), RangeParameter(name='z_sh_2', parameter_type=INT, range=[5, 13]), RangeParameter(name='z_r2', parameter_type=INT, range=[72, 86]), RangeParameter(name='z_r2_1', parameter_type=INT, range=[71, 85]), RangeParameter(name='z_r2_2', parameter_type=INT, range=[70, 84]), RangeParameter(name='x_s', parameter_type=FLOAT, range=[0.0, 1.0]), RangeParameter(name='x_s_1', parameter_type=FLOAT, range=[0.0, 1.0]), RangeParameter(name='x_s_2', parameter_type=FLOAT, range=[0.0, 1.0]), RangeParameter(name='x_r2', parameter_type=FLOAT, range=[0.0, 1.0]), RangeParameter(name='x_r2_1', parameter_type=FLOAT, range=[0.0, 1.0]), RangeParameter(name='x_r2_2', parameter_type=FLOAT, range=[0.0, 1.0])], parameter_constraints=[ParameterConstraint(-1.0*z_sh + 1.0*z_sh_1 <= -1.0), ParameterConstraint(-1.0*z_sh_1 + 1.0*z_sh_2 <= -1.0), ParameterConstraint(-1.0*z_r2 + 1.0*z_r2_1 <= -1.0), ParameterConstraint(-1.0*z_r2_1 + 1.0*z_r2_2 <= -1.0), ParameterConstraint(-1.0*x_s + 1.0*x_s_1 <= -0.1), ParameterConstraint(-1.0*x_s_1 + 1.0*x_s_2 <= -0.1), ParameterConstraint(-1.0*x_r2 + 1.0*x_r2_1 <= -0.1), ParameterConstraint(-1.0*x_r2_1 + 1.0*x_r2_2 <= -0.1)])\n",
      "[WARNING 04-10 13:51:30] ax.modelbridge.transforms.int_to_float: Unable to round {'z_sh': np.float64(14.0), 'z_sh_1': np.float64(10.0), 'z_sh_2': np.float64(6.0), 'z_r2': np.float64(86.0), 'z_r2_1': np.float64(82.0), 'z_r2_2': np.float64(72.0), 'x_s': np.float64(0.681978423986584), 'x_s_1': np.float64(0.49690962519496673), 'x_s_2': np.float64(-0.19022860283032061), 'x_r2': np.float64(0.9731762715242802), 'x_r2_1': np.float64(0.6577182364650072), 'x_r2_2': np.float64(-0.44357380280271175)}to meet parameter constraints of SearchSpace(parameters=[RangeParameter(name='z_sh', parameter_type=INT, range=[7, 15]), RangeParameter(name='z_sh_1', parameter_type=INT, range=[6, 14]), RangeParameter(name='z_sh_2', parameter_type=INT, range=[5, 13]), RangeParameter(name='z_r2', parameter_type=INT, range=[72, 86]), RangeParameter(name='z_r2_1', parameter_type=INT, range=[71, 85]), RangeParameter(name='z_r2_2', parameter_type=INT, range=[70, 84]), RangeParameter(name='x_s', parameter_type=FLOAT, range=[0.0, 1.0]), RangeParameter(name='x_s_1', parameter_type=FLOAT, range=[0.0, 1.0]), RangeParameter(name='x_s_2', parameter_type=FLOAT, range=[0.0, 1.0]), RangeParameter(name='x_r2', parameter_type=FLOAT, range=[0.0, 1.0]), RangeParameter(name='x_r2_1', parameter_type=FLOAT, range=[0.0, 1.0]), RangeParameter(name='x_r2_2', parameter_type=FLOAT, range=[0.0, 1.0])], parameter_constraints=[ParameterConstraint(-1.0*z_sh + 1.0*z_sh_1 <= -1.0), ParameterConstraint(-1.0*z_sh_1 + 1.0*z_sh_2 <= -1.0), ParameterConstraint(-1.0*z_r2 + 1.0*z_r2_1 <= -1.0), ParameterConstraint(-1.0*z_r2_1 + 1.0*z_r2_2 <= -1.0), ParameterConstraint(-1.0*x_s + 1.0*x_s_1 <= -0.1), ParameterConstraint(-1.0*x_s_1 + 1.0*x_s_2 <= -0.1), ParameterConstraint(-1.0*x_r2 + 1.0*x_r2_1 <= -0.1), ParameterConstraint(-1.0*x_r2_1 + 1.0*x_r2_2 <= -0.1)])\n",
      "[INFO 04-10 13:51:30] ax.service.ax_client: Generated new trial 21 with parameters {'z_sh': 14, 'z_sh_1': 10, 'z_sh_2': 6, 'z_r2': 86, 'z_r2_1': 82, 'z_r2_2': 72, 'x_s': 0.681978, 'x_s_1': 0.49691, 'x_s_2': -0.190229, 'x_r2': 0.973176, 'x_r2_1': 0.657718, 'x_r2_2': -0.443574} using model Sobol.\n",
      "[INFO 04-10 13:51:30] ax.service.ax_client: Completed trial 21 with data: {'Viable_Cross_Terms': (281, None)}.\n",
      "[WARNING 04-10 13:51:30] ax.modelbridge.transforms.int_to_float: Unable to round {'z_sh': 13.199845958455857, 'z_sh_1': 10.373099901477786, 'z_sh_2': 6.002770067830644, 'z_r2': 83.06928832565633, 'z_r2_1': 74.71852236422956, 'z_r2_2': 71.86589867647324, 'x_s': 0.8652630599960685, 'x_s_1': 0.6632078709080815, 'x_s_2': -0.7989423632621765, 'x_r2': 0.7553464899584652, 'x_r2_1': -0.7726369506306946, 'x_r2_2': -0.9874388193897903}to meet parameter constraints of SearchSpace(parameters=[RangeParameter(name='z_sh', parameter_type=INT, range=[7, 15]), RangeParameter(name='z_sh_1', parameter_type=INT, range=[6, 14]), RangeParameter(name='z_sh_2', parameter_type=INT, range=[5, 13]), RangeParameter(name='z_r2', parameter_type=INT, range=[72, 86]), RangeParameter(name='z_r2_1', parameter_type=INT, range=[71, 85]), RangeParameter(name='z_r2_2', parameter_type=INT, range=[70, 84]), RangeParameter(name='x_s', parameter_type=FLOAT, range=[0.0, 1.0]), RangeParameter(name='x_s_1', parameter_type=FLOAT, range=[0.0, 1.0]), RangeParameter(name='x_s_2', parameter_type=FLOAT, range=[0.0, 1.0]), RangeParameter(name='x_r2', parameter_type=FLOAT, range=[0.0, 1.0]), RangeParameter(name='x_r2_1', parameter_type=FLOAT, range=[0.0, 1.0]), RangeParameter(name='x_r2_2', parameter_type=FLOAT, range=[0.0, 1.0])], parameter_constraints=[ParameterConstraint(-1.0*z_sh + 1.0*z_sh_1 <= -1.0), ParameterConstraint(-1.0*z_sh_1 + 1.0*z_sh_2 <= -1.0), ParameterConstraint(-1.0*z_r2 + 1.0*z_r2_1 <= -1.0), ParameterConstraint(-1.0*z_r2_1 + 1.0*z_r2_2 <= -1.0), ParameterConstraint(-1.0*x_s + 1.0*x_s_1 <= -0.1), ParameterConstraint(-1.0*x_s_1 + 1.0*x_s_2 <= -0.1), ParameterConstraint(-1.0*x_r2 + 1.0*x_r2_1 <= -0.1), ParameterConstraint(-1.0*x_r2_1 + 1.0*x_r2_2 <= -0.1)])\n",
      "[WARNING 04-10 13:51:30] ax.modelbridge.transforms.int_to_float: Unable to round {'z_sh': np.float64(13.0), 'z_sh_1': np.float64(10.0), 'z_sh_2': np.float64(6.0), 'z_r2': np.float64(83.0), 'z_r2_1': np.float64(75.0), 'z_r2_2': np.float64(72.0), 'x_s': np.float64(0.8652630599960685), 'x_s_1': np.float64(0.6632078709080815), 'x_s_2': np.float64(-0.7989423632621765), 'x_r2': np.float64(0.7553464899584652), 'x_r2_1': np.float64(-0.7726369506306946), 'x_r2_2': np.float64(-0.9874388193897903)}to meet parameter constraints of SearchSpace(parameters=[RangeParameter(name='z_sh', parameter_type=INT, range=[7, 15]), RangeParameter(name='z_sh_1', parameter_type=INT, range=[6, 14]), RangeParameter(name='z_sh_2', parameter_type=INT, range=[5, 13]), RangeParameter(name='z_r2', parameter_type=INT, range=[72, 86]), RangeParameter(name='z_r2_1', parameter_type=INT, range=[71, 85]), RangeParameter(name='z_r2_2', parameter_type=INT, range=[70, 84]), RangeParameter(name='x_s', parameter_type=FLOAT, range=[0.0, 1.0]), RangeParameter(name='x_s_1', parameter_type=FLOAT, range=[0.0, 1.0]), RangeParameter(name='x_s_2', parameter_type=FLOAT, range=[0.0, 1.0]), RangeParameter(name='x_r2', parameter_type=FLOAT, range=[0.0, 1.0]), RangeParameter(name='x_r2_1', parameter_type=FLOAT, range=[0.0, 1.0]), RangeParameter(name='x_r2_2', parameter_type=FLOAT, range=[0.0, 1.0])], parameter_constraints=[ParameterConstraint(-1.0*z_sh + 1.0*z_sh_1 <= -1.0), ParameterConstraint(-1.0*z_sh_1 + 1.0*z_sh_2 <= -1.0), ParameterConstraint(-1.0*z_r2 + 1.0*z_r2_1 <= -1.0), ParameterConstraint(-1.0*z_r2_1 + 1.0*z_r2_2 <= -1.0), ParameterConstraint(-1.0*x_s + 1.0*x_s_1 <= -0.1), ParameterConstraint(-1.0*x_s_1 + 1.0*x_s_2 <= -0.1), ParameterConstraint(-1.0*x_r2 + 1.0*x_r2_1 <= -0.1), ParameterConstraint(-1.0*x_r2_1 + 1.0*x_r2_2 <= -0.1)])\n",
      "[INFO 04-10 13:51:30] ax.service.ax_client: Generated new trial 22 with parameters {'z_sh': 13, 'z_sh_1': 10, 'z_sh_2': 6, 'z_r2': 83, 'z_r2_1': 75, 'z_r2_2': 72, 'x_s': 0.865263, 'x_s_1': 0.663208, 'x_s_2': -0.798942, 'x_r2': 0.755346, 'x_r2_1': -0.772637, 'x_r2_2': -0.987439} using model Sobol.\n",
      "[INFO 04-10 13:51:30] ax.service.ax_client: Completed trial 22 with data: {'Viable_Cross_Terms': (436, None)}.\n",
      "[WARNING 04-10 13:51:30] ax.modelbridge.transforms.int_to_float: Unable to round {'z_sh': 11.880582325015272, 'z_sh_1': 9.942725677659883, 'z_sh_2': 8.259302921012043, 'z_r2': 82.20571159060896, 'z_r2_1': 79.14139960231864, 'z_r2_2': 76.53463390585495, 'x_s': 0.8094876921363174, 'x_s_1': 0.12759230246767395, 'x_s_2': -0.3554008815065026, 'x_r2': 0.5594065712206067, 'x_r2_1': -0.4872664123959839, 'x_r2_2': -0.686925466991961}to meet parameter constraints of SearchSpace(parameters=[RangeParameter(name='z_sh', parameter_type=INT, range=[7, 15]), RangeParameter(name='z_sh_1', parameter_type=INT, range=[6, 14]), RangeParameter(name='z_sh_2', parameter_type=INT, range=[5, 13]), RangeParameter(name='z_r2', parameter_type=INT, range=[72, 86]), RangeParameter(name='z_r2_1', parameter_type=INT, range=[71, 85]), RangeParameter(name='z_r2_2', parameter_type=INT, range=[70, 84]), RangeParameter(name='x_s', parameter_type=FLOAT, range=[0.0, 1.0]), RangeParameter(name='x_s_1', parameter_type=FLOAT, range=[0.0, 1.0]), RangeParameter(name='x_s_2', parameter_type=FLOAT, range=[0.0, 1.0]), RangeParameter(name='x_r2', parameter_type=FLOAT, range=[0.0, 1.0]), RangeParameter(name='x_r2_1', parameter_type=FLOAT, range=[0.0, 1.0]), RangeParameter(name='x_r2_2', parameter_type=FLOAT, range=[0.0, 1.0])], parameter_constraints=[ParameterConstraint(-1.0*z_sh + 1.0*z_sh_1 <= -1.0), ParameterConstraint(-1.0*z_sh_1 + 1.0*z_sh_2 <= -1.0), ParameterConstraint(-1.0*z_r2 + 1.0*z_r2_1 <= -1.0), ParameterConstraint(-1.0*z_r2_1 + 1.0*z_r2_2 <= -1.0), ParameterConstraint(-1.0*x_s + 1.0*x_s_1 <= -0.1), ParameterConstraint(-1.0*x_s_1 + 1.0*x_s_2 <= -0.1), ParameterConstraint(-1.0*x_r2 + 1.0*x_r2_1 <= -0.1), ParameterConstraint(-1.0*x_r2_1 + 1.0*x_r2_2 <= -0.1)])\n",
      "[WARNING 04-10 13:51:30] ax.modelbridge.transforms.int_to_float: Unable to round {'z_sh': np.float64(12.0), 'z_sh_1': np.float64(10.0), 'z_sh_2': np.float64(8.0), 'z_r2': np.float64(82.0), 'z_r2_1': np.float64(79.0), 'z_r2_2': np.float64(77.0), 'x_s': np.float64(0.8094876921363174), 'x_s_1': np.float64(0.12759230246767395), 'x_s_2': np.float64(-0.3554008815065026), 'x_r2': np.float64(0.5594065712206067), 'x_r2_1': np.float64(-0.4872664123959839), 'x_r2_2': np.float64(-0.686925466991961)}to meet parameter constraints of SearchSpace(parameters=[RangeParameter(name='z_sh', parameter_type=INT, range=[7, 15]), RangeParameter(name='z_sh_1', parameter_type=INT, range=[6, 14]), RangeParameter(name='z_sh_2', parameter_type=INT, range=[5, 13]), RangeParameter(name='z_r2', parameter_type=INT, range=[72, 86]), RangeParameter(name='z_r2_1', parameter_type=INT, range=[71, 85]), RangeParameter(name='z_r2_2', parameter_type=INT, range=[70, 84]), RangeParameter(name='x_s', parameter_type=FLOAT, range=[0.0, 1.0]), RangeParameter(name='x_s_1', parameter_type=FLOAT, range=[0.0, 1.0]), RangeParameter(name='x_s_2', parameter_type=FLOAT, range=[0.0, 1.0]), RangeParameter(name='x_r2', parameter_type=FLOAT, range=[0.0, 1.0]), RangeParameter(name='x_r2_1', parameter_type=FLOAT, range=[0.0, 1.0]), RangeParameter(name='x_r2_2', parameter_type=FLOAT, range=[0.0, 1.0])], parameter_constraints=[ParameterConstraint(-1.0*z_sh + 1.0*z_sh_1 <= -1.0), ParameterConstraint(-1.0*z_sh_1 + 1.0*z_sh_2 <= -1.0), ParameterConstraint(-1.0*z_r2 + 1.0*z_r2_1 <= -1.0), ParameterConstraint(-1.0*z_r2_1 + 1.0*z_r2_2 <= -1.0), ParameterConstraint(-1.0*x_s + 1.0*x_s_1 <= -0.1), ParameterConstraint(-1.0*x_s_1 + 1.0*x_s_2 <= -0.1), ParameterConstraint(-1.0*x_r2 + 1.0*x_r2_1 <= -0.1), ParameterConstraint(-1.0*x_r2_1 + 1.0*x_r2_2 <= -0.1)])\n",
      "[INFO 04-10 13:51:30] ax.service.ax_client: Generated new trial 23 with parameters {'z_sh': 12, 'z_sh_1': 10, 'z_sh_2': 8, 'z_r2': 82, 'z_r2_1': 79, 'z_r2_2': 77, 'x_s': 0.809488, 'x_s_1': 0.127592, 'x_s_2': -0.355401, 'x_r2': 0.559407, 'x_r2_1': -0.487266, 'x_r2_2': -0.686925} using model Sobol.\n",
      "[INFO 04-10 13:51:30] ax.service.ax_client: Completed trial 23 with data: {'Viable_Cross_Terms': (213, None)}.\n",
      "[INFO 04-10 13:51:42] ax.service.ax_client: Generated new trial 24 with parameters {'z_sh': 15, 'z_sh_1': 12, 'z_sh_2': 6, 'z_r2': 73, 'z_r2_1': 72, 'z_r2_2': 71, 'x_s': 0.790187, 'x_s_1': -0.367657, 'x_s_2': -0.467657, 'x_r2': -0.8, 'x_r2_1': -0.9, 'x_r2_2': -1.0} using model BoTorch.\n",
      "[INFO 04-10 13:51:42] ax.service.ax_client: Completed trial 24 with data: {'Viable_Cross_Terms': (714, None)}.\n"
     ]
    }
   ],
   "source": [
    "init_count = 0\n",
    "init_trials = 24 # hand set based on output at initialization\n",
    "while init_count < init_trials:\n",
    "    try:\n",
    "        parameterization, trial_index = Tag_client.get_next_trial()\n",
    "        # Local evaluation here can be replaced with deployment to external system.\n",
    "        Tag_client.complete_trial(trial_index=trial_index, raw_data=score_vals(param_to_list(parameterization, add_cl = True)))\n",
    "    except:\n",
    "        print('Not this time')\n",
    "    init_count = trial_index"
   ]
  },
  {
   "cell_type": "code",
   "execution_count": 17,
   "metadata": {},
   "outputs": [],
   "source": [
    "# a decent trial to check\n",
    "params = ((5, 9, 10),\n",
    " (74, 75, 76),\n",
    " (-0.25, 0.0, 0.5),\n",
    " (-0.5, -0.25, 0.0))\n",
    "\n",
    "vals = [np.array(x) for x in params]\n",
    "\n",
    "comp_params_1 = list_to_param(vals)"
   ]
  },
  {
   "cell_type": "code",
   "execution_count": 18,
   "metadata": {},
   "outputs": [
    {
     "data": {
      "text/plain": [
       "{'z_sh': 5,\n",
       " 'z_sh_1': 9,\n",
       " 'z_sh_2': 10,\n",
       " 'z_r2': 74,\n",
       " 'z_r2_1': 75,\n",
       " 'z_r2_2': 76,\n",
       " 'xs': -0.25,\n",
       " 'xs_1': 0.0,\n",
       " 'xs_2': 0.5,\n",
       " 'xr2': -0.5,\n",
       " 'xr2_1': -0.25,\n",
       " 'xr2_2': 0.0}"
      ]
     },
     "execution_count": 18,
     "metadata": {},
     "output_type": "execute_result"
    }
   ],
   "source": [
    "comp_params_1"
   ]
  },
  {
   "cell_type": "code",
   "execution_count": 19,
   "metadata": {},
   "outputs": [
    {
     "data": {
      "text/plain": [
       "677"
      ]
     },
     "execution_count": 19,
     "metadata": {},
     "output_type": "execute_result"
    }
   ],
   "source": [
    "score_vals(param_to_list(comp_params_1, add_cl = True))"
   ]
  },
  {
   "cell_type": "code",
   "execution_count": 20,
   "metadata": {},
   "outputs": [
    {
     "data": {
      "text/html": [
       "<div>\n",
       "<style scoped>\n",
       "    .dataframe tbody tr th:only-of-type {\n",
       "        vertical-align: middle;\n",
       "    }\n",
       "\n",
       "    .dataframe tbody tr th {\n",
       "        vertical-align: top;\n",
       "    }\n",
       "\n",
       "    .dataframe thead th {\n",
       "        text-align: right;\n",
       "    }\n",
       "</style>\n",
       "<table border=\"1\" class=\"dataframe\">\n",
       "  <thead>\n",
       "    <tr style=\"text-align: right;\">\n",
       "      <th></th>\n",
       "      <th>trial_index</th>\n",
       "      <th>arm_name</th>\n",
       "      <th>trial_status</th>\n",
       "      <th>generation_method</th>\n",
       "      <th>generation_node</th>\n",
       "      <th>Viable_Cross_Terms</th>\n",
       "      <th>z_sh</th>\n",
       "      <th>z_sh_1</th>\n",
       "      <th>z_sh_2</th>\n",
       "      <th>z_r2</th>\n",
       "      <th>z_r2_1</th>\n",
       "      <th>z_r2_2</th>\n",
       "      <th>x_s</th>\n",
       "      <th>x_s_1</th>\n",
       "      <th>x_s_2</th>\n",
       "      <th>x_r2</th>\n",
       "      <th>x_r2_1</th>\n",
       "      <th>x_r2_2</th>\n",
       "    </tr>\n",
       "  </thead>\n",
       "  <tbody>\n",
       "    <tr>\n",
       "      <th>0</th>\n",
       "      <td>0</td>\n",
       "      <td>0_0</td>\n",
       "      <td>COMPLETED</td>\n",
       "      <td>Sobol</td>\n",
       "      <td>GenerationStep_0</td>\n",
       "      <td>497.0</td>\n",
       "      <td>15</td>\n",
       "      <td>10</td>\n",
       "      <td>6</td>\n",
       "      <td>85</td>\n",
       "      <td>73</td>\n",
       "      <td>70</td>\n",
       "      <td>0.097483</td>\n",
       "      <td>-0.188864</td>\n",
       "      <td>-0.871928</td>\n",
       "      <td>0.199710</td>\n",
       "      <td>-0.392358</td>\n",
       "      <td>-0.919832</td>\n",
       "    </tr>\n",
       "    <tr>\n",
       "      <th>1</th>\n",
       "      <td>1</td>\n",
       "      <td>1_0</td>\n",
       "      <td>COMPLETED</td>\n",
       "      <td>Sobol</td>\n",
       "      <td>GenerationStep_0</td>\n",
       "      <td>674.0</td>\n",
       "      <td>10</td>\n",
       "      <td>7</td>\n",
       "      <td>5</td>\n",
       "      <td>74</td>\n",
       "      <td>72</td>\n",
       "      <td>70</td>\n",
       "      <td>0.467751</td>\n",
       "      <td>0.287386</td>\n",
       "      <td>-0.575704</td>\n",
       "      <td>0.809604</td>\n",
       "      <td>0.362771</td>\n",
       "      <td>0.110832</td>\n",
       "    </tr>\n",
       "    <tr>\n",
       "      <th>2</th>\n",
       "      <td>2</td>\n",
       "      <td>2_0</td>\n",
       "      <td>COMPLETED</td>\n",
       "      <td>Sobol</td>\n",
       "      <td>GenerationStep_0</td>\n",
       "      <td>774.0</td>\n",
       "      <td>15</td>\n",
       "      <td>13</td>\n",
       "      <td>8</td>\n",
       "      <td>74</td>\n",
       "      <td>72</td>\n",
       "      <td>71</td>\n",
       "      <td>0.829612</td>\n",
       "      <td>-0.247872</td>\n",
       "      <td>-0.495559</td>\n",
       "      <td>-0.224213</td>\n",
       "      <td>-0.416648</td>\n",
       "      <td>-0.647247</td>\n",
       "    </tr>\n",
       "    <tr>\n",
       "      <th>3</th>\n",
       "      <td>3</td>\n",
       "      <td>3_0</td>\n",
       "      <td>COMPLETED</td>\n",
       "      <td>Sobol</td>\n",
       "      <td>GenerationStep_0</td>\n",
       "      <td>549.0</td>\n",
       "      <td>13</td>\n",
       "      <td>12</td>\n",
       "      <td>10</td>\n",
       "      <td>80</td>\n",
       "      <td>72</td>\n",
       "      <td>70</td>\n",
       "      <td>0.844803</td>\n",
       "      <td>0.096848</td>\n",
       "      <td>-0.642085</td>\n",
       "      <td>0.386873</td>\n",
       "      <td>0.090325</td>\n",
       "      <td>-0.983657</td>\n",
       "    </tr>\n",
       "    <tr>\n",
       "      <th>4</th>\n",
       "      <td>4</td>\n",
       "      <td>4_0</td>\n",
       "      <td>COMPLETED</td>\n",
       "      <td>Sobol</td>\n",
       "      <td>GenerationStep_0</td>\n",
       "      <td>438.0</td>\n",
       "      <td>15</td>\n",
       "      <td>13</td>\n",
       "      <td>11</td>\n",
       "      <td>79</td>\n",
       "      <td>76</td>\n",
       "      <td>74</td>\n",
       "      <td>0.796761</td>\n",
       "      <td>-0.435139</td>\n",
       "      <td>-0.606262</td>\n",
       "      <td>0.853792</td>\n",
       "      <td>0.437270</td>\n",
       "      <td>-0.567486</td>\n",
       "    </tr>\n",
       "    <tr>\n",
       "      <th>5</th>\n",
       "      <td>5</td>\n",
       "      <td>5_0</td>\n",
       "      <td>COMPLETED</td>\n",
       "      <td>Sobol</td>\n",
       "      <td>GenerationStep_0</td>\n",
       "      <td>40.0</td>\n",
       "      <td>15</td>\n",
       "      <td>10</td>\n",
       "      <td>6</td>\n",
       "      <td>85</td>\n",
       "      <td>84</td>\n",
       "      <td>80</td>\n",
       "      <td>-0.262288</td>\n",
       "      <td>-0.417469</td>\n",
       "      <td>-0.625430</td>\n",
       "      <td>0.895078</td>\n",
       "      <td>0.752916</td>\n",
       "      <td>-0.529921</td>\n",
       "    </tr>\n",
       "    <tr>\n",
       "      <th>6</th>\n",
       "      <td>6</td>\n",
       "      <td>6_0</td>\n",
       "      <td>COMPLETED</td>\n",
       "      <td>Sobol</td>\n",
       "      <td>GenerationStep_0</td>\n",
       "      <td>168.0</td>\n",
       "      <td>11</td>\n",
       "      <td>7</td>\n",
       "      <td>5</td>\n",
       "      <td>86</td>\n",
       "      <td>84</td>\n",
       "      <td>75</td>\n",
       "      <td>0.327855</td>\n",
       "      <td>-0.056006</td>\n",
       "      <td>-0.532340</td>\n",
       "      <td>0.519265</td>\n",
       "      <td>0.241159</td>\n",
       "      <td>0.050255</td>\n",
       "    </tr>\n",
       "    <tr>\n",
       "      <th>7</th>\n",
       "      <td>7</td>\n",
       "      <td>7_0</td>\n",
       "      <td>COMPLETED</td>\n",
       "      <td>Sobol</td>\n",
       "      <td>GenerationStep_0</td>\n",
       "      <td>257.0</td>\n",
       "      <td>11</td>\n",
       "      <td>9</td>\n",
       "      <td>5</td>\n",
       "      <td>84</td>\n",
       "      <td>83</td>\n",
       "      <td>71</td>\n",
       "      <td>0.966534</td>\n",
       "      <td>0.589077</td>\n",
       "      <td>-0.457383</td>\n",
       "      <td>0.640521</td>\n",
       "      <td>0.484115</td>\n",
       "      <td>0.093254</td>\n",
       "    </tr>\n",
       "    <tr>\n",
       "      <th>8</th>\n",
       "      <td>8</td>\n",
       "      <td>8_0</td>\n",
       "      <td>COMPLETED</td>\n",
       "      <td>Sobol</td>\n",
       "      <td>GenerationStep_0</td>\n",
       "      <td>463.0</td>\n",
       "      <td>9</td>\n",
       "      <td>8</td>\n",
       "      <td>5</td>\n",
       "      <td>81</td>\n",
       "      <td>75</td>\n",
       "      <td>71</td>\n",
       "      <td>0.245029</td>\n",
       "      <td>-0.333780</td>\n",
       "      <td>-0.988002</td>\n",
       "      <td>0.383967</td>\n",
       "      <td>-0.108446</td>\n",
       "      <td>-0.285527</td>\n",
       "    </tr>\n",
       "    <tr>\n",
       "      <th>9</th>\n",
       "      <td>9</td>\n",
       "      <td>9_0</td>\n",
       "      <td>COMPLETED</td>\n",
       "      <td>Sobol</td>\n",
       "      <td>GenerationStep_0</td>\n",
       "      <td>388.0</td>\n",
       "      <td>13</td>\n",
       "      <td>10</td>\n",
       "      <td>7</td>\n",
       "      <td>82</td>\n",
       "      <td>77</td>\n",
       "      <td>73</td>\n",
       "      <td>0.921953</td>\n",
       "      <td>0.195168</td>\n",
       "      <td>-0.002247</td>\n",
       "      <td>0.656009</td>\n",
       "      <td>0.270142</td>\n",
       "      <td>-0.063256</td>\n",
       "    </tr>\n",
       "    <tr>\n",
       "      <th>10</th>\n",
       "      <td>10</td>\n",
       "      <td>10_0</td>\n",
       "      <td>COMPLETED</td>\n",
       "      <td>Sobol</td>\n",
       "      <td>GenerationStep_0</td>\n",
       "      <td>286.0</td>\n",
       "      <td>14</td>\n",
       "      <td>8</td>\n",
       "      <td>7</td>\n",
       "      <td>85</td>\n",
       "      <td>80</td>\n",
       "      <td>72</td>\n",
       "      <td>0.452632</td>\n",
       "      <td>0.338257</td>\n",
       "      <td>-0.455945</td>\n",
       "      <td>0.650973</td>\n",
       "      <td>0.502465</td>\n",
       "      <td>-0.663175</td>\n",
       "    </tr>\n",
       "    <tr>\n",
       "      <th>11</th>\n",
       "      <td>11</td>\n",
       "      <td>11_0</td>\n",
       "      <td>COMPLETED</td>\n",
       "      <td>Sobol</td>\n",
       "      <td>GenerationStep_0</td>\n",
       "      <td>422.0</td>\n",
       "      <td>15</td>\n",
       "      <td>13</td>\n",
       "      <td>11</td>\n",
       "      <td>81</td>\n",
       "      <td>77</td>\n",
       "      <td>72</td>\n",
       "      <td>0.642090</td>\n",
       "      <td>-0.614851</td>\n",
       "      <td>-0.936470</td>\n",
       "      <td>0.539560</td>\n",
       "      <td>0.154536</td>\n",
       "      <td>-0.820823</td>\n",
       "    </tr>\n",
       "    <tr>\n",
       "      <th>12</th>\n",
       "      <td>12</td>\n",
       "      <td>12_0</td>\n",
       "      <td>COMPLETED</td>\n",
       "      <td>Sobol</td>\n",
       "      <td>GenerationStep_0</td>\n",
       "      <td>260.0</td>\n",
       "      <td>15</td>\n",
       "      <td>14</td>\n",
       "      <td>11</td>\n",
       "      <td>86</td>\n",
       "      <td>83</td>\n",
       "      <td>72</td>\n",
       "      <td>0.006412</td>\n",
       "      <td>-0.522245</td>\n",
       "      <td>-0.735150</td>\n",
       "      <td>0.904714</td>\n",
       "      <td>0.315595</td>\n",
       "      <td>-0.407440</td>\n",
       "    </tr>\n",
       "    <tr>\n",
       "      <th>13</th>\n",
       "      <td>13</td>\n",
       "      <td>13_0</td>\n",
       "      <td>COMPLETED</td>\n",
       "      <td>Sobol</td>\n",
       "      <td>GenerationStep_0</td>\n",
       "      <td>503.0</td>\n",
       "      <td>15</td>\n",
       "      <td>13</td>\n",
       "      <td>6</td>\n",
       "      <td>82</td>\n",
       "      <td>74</td>\n",
       "      <td>72</td>\n",
       "      <td>0.860971</td>\n",
       "      <td>-0.187522</td>\n",
       "      <td>-0.445511</td>\n",
       "      <td>0.699353</td>\n",
       "      <td>0.191897</td>\n",
       "      <td>-0.179370</td>\n",
       "    </tr>\n",
       "    <tr>\n",
       "      <th>14</th>\n",
       "      <td>14</td>\n",
       "      <td>14_0</td>\n",
       "      <td>COMPLETED</td>\n",
       "      <td>Sobol</td>\n",
       "      <td>GenerationStep_0</td>\n",
       "      <td>404.0</td>\n",
       "      <td>11</td>\n",
       "      <td>9</td>\n",
       "      <td>6</td>\n",
       "      <td>80</td>\n",
       "      <td>76</td>\n",
       "      <td>73</td>\n",
       "      <td>0.597293</td>\n",
       "      <td>0.025874</td>\n",
       "      <td>-0.929651</td>\n",
       "      <td>0.835757</td>\n",
       "      <td>-0.028428</td>\n",
       "      <td>-0.712510</td>\n",
       "    </tr>\n",
       "    <tr>\n",
       "      <th>15</th>\n",
       "      <td>15</td>\n",
       "      <td>15_0</td>\n",
       "      <td>COMPLETED</td>\n",
       "      <td>Sobol</td>\n",
       "      <td>GenerationStep_0</td>\n",
       "      <td>417.0</td>\n",
       "      <td>15</td>\n",
       "      <td>14</td>\n",
       "      <td>8</td>\n",
       "      <td>85</td>\n",
       "      <td>77</td>\n",
       "      <td>72</td>\n",
       "      <td>0.765841</td>\n",
       "      <td>0.193933</td>\n",
       "      <td>-0.248846</td>\n",
       "      <td>0.236285</td>\n",
       "      <td>-0.224914</td>\n",
       "      <td>-0.482309</td>\n",
       "    </tr>\n",
       "    <tr>\n",
       "      <th>16</th>\n",
       "      <td>16</td>\n",
       "      <td>16_0</td>\n",
       "      <td>COMPLETED</td>\n",
       "      <td>Sobol</td>\n",
       "      <td>GenerationStep_0</td>\n",
       "      <td>370.0</td>\n",
       "      <td>14</td>\n",
       "      <td>13</td>\n",
       "      <td>10</td>\n",
       "      <td>82</td>\n",
       "      <td>79</td>\n",
       "      <td>75</td>\n",
       "      <td>0.660404</td>\n",
       "      <td>0.002506</td>\n",
       "      <td>-0.535217</td>\n",
       "      <td>-0.369098</td>\n",
       "      <td>-0.571391</td>\n",
       "      <td>-0.720700</td>\n",
       "    </tr>\n",
       "    <tr>\n",
       "      <th>17</th>\n",
       "      <td>17</td>\n",
       "      <td>17_0</td>\n",
       "      <td>COMPLETED</td>\n",
       "      <td>Sobol</td>\n",
       "      <td>GenerationStep_0</td>\n",
       "      <td>210.0</td>\n",
       "      <td>14</td>\n",
       "      <td>7</td>\n",
       "      <td>5</td>\n",
       "      <td>83</td>\n",
       "      <td>80</td>\n",
       "      <td>76</td>\n",
       "      <td>0.938742</td>\n",
       "      <td>0.076177</td>\n",
       "      <td>-0.847623</td>\n",
       "      <td>0.371155</td>\n",
       "      <td>-0.055686</td>\n",
       "      <td>-0.815091</td>\n",
       "    </tr>\n",
       "    <tr>\n",
       "      <th>18</th>\n",
       "      <td>18</td>\n",
       "      <td>18_0</td>\n",
       "      <td>COMPLETED</td>\n",
       "      <td>Sobol</td>\n",
       "      <td>GenerationStep_0</td>\n",
       "      <td>476.0</td>\n",
       "      <td>14</td>\n",
       "      <td>6</td>\n",
       "      <td>5</td>\n",
       "      <td>83</td>\n",
       "      <td>74</td>\n",
       "      <td>70</td>\n",
       "      <td>-0.005586</td>\n",
       "      <td>-0.295629</td>\n",
       "      <td>-0.769472</td>\n",
       "      <td>0.758320</td>\n",
       "      <td>0.653035</td>\n",
       "      <td>-0.562726</td>\n",
       "    </tr>\n",
       "    <tr>\n",
       "      <th>19</th>\n",
       "      <td>19</td>\n",
       "      <td>19_0</td>\n",
       "      <td>COMPLETED</td>\n",
       "      <td>Sobol</td>\n",
       "      <td>GenerationStep_0</td>\n",
       "      <td>172.0</td>\n",
       "      <td>13</td>\n",
       "      <td>11</td>\n",
       "      <td>6</td>\n",
       "      <td>86</td>\n",
       "      <td>82</td>\n",
       "      <td>76</td>\n",
       "      <td>0.270965</td>\n",
       "      <td>0.126106</td>\n",
       "      <td>-0.286356</td>\n",
       "      <td>0.746426</td>\n",
       "      <td>-0.864892</td>\n",
       "      <td>-0.982009</td>\n",
       "    </tr>\n",
       "    <tr>\n",
       "      <th>20</th>\n",
       "      <td>20</td>\n",
       "      <td>20_0</td>\n",
       "      <td>COMPLETED</td>\n",
       "      <td>Sobol</td>\n",
       "      <td>GenerationStep_0</td>\n",
       "      <td>241.0</td>\n",
       "      <td>14</td>\n",
       "      <td>13</td>\n",
       "      <td>7</td>\n",
       "      <td>84</td>\n",
       "      <td>82</td>\n",
       "      <td>73</td>\n",
       "      <td>0.004593</td>\n",
       "      <td>-0.477707</td>\n",
       "      <td>-0.839586</td>\n",
       "      <td>0.393988</td>\n",
       "      <td>0.015462</td>\n",
       "      <td>-0.997459</td>\n",
       "    </tr>\n",
       "    <tr>\n",
       "      <th>21</th>\n",
       "      <td>21</td>\n",
       "      <td>21_0</td>\n",
       "      <td>COMPLETED</td>\n",
       "      <td>Sobol</td>\n",
       "      <td>GenerationStep_0</td>\n",
       "      <td>281.0</td>\n",
       "      <td>14</td>\n",
       "      <td>10</td>\n",
       "      <td>6</td>\n",
       "      <td>86</td>\n",
       "      <td>82</td>\n",
       "      <td>72</td>\n",
       "      <td>0.681978</td>\n",
       "      <td>0.496910</td>\n",
       "      <td>-0.190229</td>\n",
       "      <td>0.973176</td>\n",
       "      <td>0.657718</td>\n",
       "      <td>-0.443574</td>\n",
       "    </tr>\n",
       "    <tr>\n",
       "      <th>22</th>\n",
       "      <td>22</td>\n",
       "      <td>22_0</td>\n",
       "      <td>COMPLETED</td>\n",
       "      <td>Sobol</td>\n",
       "      <td>GenerationStep_0</td>\n",
       "      <td>436.0</td>\n",
       "      <td>13</td>\n",
       "      <td>10</td>\n",
       "      <td>6</td>\n",
       "      <td>83</td>\n",
       "      <td>75</td>\n",
       "      <td>72</td>\n",
       "      <td>0.865263</td>\n",
       "      <td>0.663208</td>\n",
       "      <td>-0.798942</td>\n",
       "      <td>0.755346</td>\n",
       "      <td>-0.772637</td>\n",
       "      <td>-0.987439</td>\n",
       "    </tr>\n",
       "    <tr>\n",
       "      <th>23</th>\n",
       "      <td>23</td>\n",
       "      <td>23_0</td>\n",
       "      <td>COMPLETED</td>\n",
       "      <td>Sobol</td>\n",
       "      <td>GenerationStep_0</td>\n",
       "      <td>213.0</td>\n",
       "      <td>12</td>\n",
       "      <td>10</td>\n",
       "      <td>8</td>\n",
       "      <td>82</td>\n",
       "      <td>79</td>\n",
       "      <td>77</td>\n",
       "      <td>0.809488</td>\n",
       "      <td>0.127592</td>\n",
       "      <td>-0.355401</td>\n",
       "      <td>0.559407</td>\n",
       "      <td>-0.487266</td>\n",
       "      <td>-0.686925</td>\n",
       "    </tr>\n",
       "    <tr>\n",
       "      <th>24</th>\n",
       "      <td>24</td>\n",
       "      <td>24_0</td>\n",
       "      <td>COMPLETED</td>\n",
       "      <td>BoTorch</td>\n",
       "      <td>GenerationStep_1</td>\n",
       "      <td>714.0</td>\n",
       "      <td>15</td>\n",
       "      <td>12</td>\n",
       "      <td>6</td>\n",
       "      <td>73</td>\n",
       "      <td>72</td>\n",
       "      <td>71</td>\n",
       "      <td>0.790187</td>\n",
       "      <td>-0.367657</td>\n",
       "      <td>-0.467657</td>\n",
       "      <td>-0.800000</td>\n",
       "      <td>-0.900000</td>\n",
       "      <td>-1.000000</td>\n",
       "    </tr>\n",
       "  </tbody>\n",
       "</table>\n",
       "</div>"
      ],
      "text/plain": [
       "    trial_index arm_name trial_status generation_method   generation_node  \\\n",
       "0             0      0_0    COMPLETED             Sobol  GenerationStep_0   \n",
       "1             1      1_0    COMPLETED             Sobol  GenerationStep_0   \n",
       "2             2      2_0    COMPLETED             Sobol  GenerationStep_0   \n",
       "3             3      3_0    COMPLETED             Sobol  GenerationStep_0   \n",
       "4             4      4_0    COMPLETED             Sobol  GenerationStep_0   \n",
       "5             5      5_0    COMPLETED             Sobol  GenerationStep_0   \n",
       "6             6      6_0    COMPLETED             Sobol  GenerationStep_0   \n",
       "7             7      7_0    COMPLETED             Sobol  GenerationStep_0   \n",
       "8             8      8_0    COMPLETED             Sobol  GenerationStep_0   \n",
       "9             9      9_0    COMPLETED             Sobol  GenerationStep_0   \n",
       "10           10     10_0    COMPLETED             Sobol  GenerationStep_0   \n",
       "11           11     11_0    COMPLETED             Sobol  GenerationStep_0   \n",
       "12           12     12_0    COMPLETED             Sobol  GenerationStep_0   \n",
       "13           13     13_0    COMPLETED             Sobol  GenerationStep_0   \n",
       "14           14     14_0    COMPLETED             Sobol  GenerationStep_0   \n",
       "15           15     15_0    COMPLETED             Sobol  GenerationStep_0   \n",
       "16           16     16_0    COMPLETED             Sobol  GenerationStep_0   \n",
       "17           17     17_0    COMPLETED             Sobol  GenerationStep_0   \n",
       "18           18     18_0    COMPLETED             Sobol  GenerationStep_0   \n",
       "19           19     19_0    COMPLETED             Sobol  GenerationStep_0   \n",
       "20           20     20_0    COMPLETED             Sobol  GenerationStep_0   \n",
       "21           21     21_0    COMPLETED             Sobol  GenerationStep_0   \n",
       "22           22     22_0    COMPLETED             Sobol  GenerationStep_0   \n",
       "23           23     23_0    COMPLETED             Sobol  GenerationStep_0   \n",
       "24           24     24_0    COMPLETED           BoTorch  GenerationStep_1   \n",
       "\n",
       "    Viable_Cross_Terms  z_sh  z_sh_1  z_sh_2  z_r2  z_r2_1  z_r2_2       x_s  \\\n",
       "0                497.0    15      10       6    85      73      70  0.097483   \n",
       "1                674.0    10       7       5    74      72      70  0.467751   \n",
       "2                774.0    15      13       8    74      72      71  0.829612   \n",
       "3                549.0    13      12      10    80      72      70  0.844803   \n",
       "4                438.0    15      13      11    79      76      74  0.796761   \n",
       "5                 40.0    15      10       6    85      84      80 -0.262288   \n",
       "6                168.0    11       7       5    86      84      75  0.327855   \n",
       "7                257.0    11       9       5    84      83      71  0.966534   \n",
       "8                463.0     9       8       5    81      75      71  0.245029   \n",
       "9                388.0    13      10       7    82      77      73  0.921953   \n",
       "10               286.0    14       8       7    85      80      72  0.452632   \n",
       "11               422.0    15      13      11    81      77      72  0.642090   \n",
       "12               260.0    15      14      11    86      83      72  0.006412   \n",
       "13               503.0    15      13       6    82      74      72  0.860971   \n",
       "14               404.0    11       9       6    80      76      73  0.597293   \n",
       "15               417.0    15      14       8    85      77      72  0.765841   \n",
       "16               370.0    14      13      10    82      79      75  0.660404   \n",
       "17               210.0    14       7       5    83      80      76  0.938742   \n",
       "18               476.0    14       6       5    83      74      70 -0.005586   \n",
       "19               172.0    13      11       6    86      82      76  0.270965   \n",
       "20               241.0    14      13       7    84      82      73  0.004593   \n",
       "21               281.0    14      10       6    86      82      72  0.681978   \n",
       "22               436.0    13      10       6    83      75      72  0.865263   \n",
       "23               213.0    12      10       8    82      79      77  0.809488   \n",
       "24               714.0    15      12       6    73      72      71  0.790187   \n",
       "\n",
       "       x_s_1     x_s_2      x_r2    x_r2_1    x_r2_2  \n",
       "0  -0.188864 -0.871928  0.199710 -0.392358 -0.919832  \n",
       "1   0.287386 -0.575704  0.809604  0.362771  0.110832  \n",
       "2  -0.247872 -0.495559 -0.224213 -0.416648 -0.647247  \n",
       "3   0.096848 -0.642085  0.386873  0.090325 -0.983657  \n",
       "4  -0.435139 -0.606262  0.853792  0.437270 -0.567486  \n",
       "5  -0.417469 -0.625430  0.895078  0.752916 -0.529921  \n",
       "6  -0.056006 -0.532340  0.519265  0.241159  0.050255  \n",
       "7   0.589077 -0.457383  0.640521  0.484115  0.093254  \n",
       "8  -0.333780 -0.988002  0.383967 -0.108446 -0.285527  \n",
       "9   0.195168 -0.002247  0.656009  0.270142 -0.063256  \n",
       "10  0.338257 -0.455945  0.650973  0.502465 -0.663175  \n",
       "11 -0.614851 -0.936470  0.539560  0.154536 -0.820823  \n",
       "12 -0.522245 -0.735150  0.904714  0.315595 -0.407440  \n",
       "13 -0.187522 -0.445511  0.699353  0.191897 -0.179370  \n",
       "14  0.025874 -0.929651  0.835757 -0.028428 -0.712510  \n",
       "15  0.193933 -0.248846  0.236285 -0.224914 -0.482309  \n",
       "16  0.002506 -0.535217 -0.369098 -0.571391 -0.720700  \n",
       "17  0.076177 -0.847623  0.371155 -0.055686 -0.815091  \n",
       "18 -0.295629 -0.769472  0.758320  0.653035 -0.562726  \n",
       "19  0.126106 -0.286356  0.746426 -0.864892 -0.982009  \n",
       "20 -0.477707 -0.839586  0.393988  0.015462 -0.997459  \n",
       "21  0.496910 -0.190229  0.973176  0.657718 -0.443574  \n",
       "22  0.663208 -0.798942  0.755346 -0.772637 -0.987439  \n",
       "23  0.127592 -0.355401  0.559407 -0.487266 -0.686925  \n",
       "24 -0.367657 -0.467657 -0.800000 -0.900000 -1.000000  "
      ]
     },
     "execution_count": 20,
     "metadata": {},
     "output_type": "execute_result"
    }
   ],
   "source": [
    "Tag_client.generation_strategy.trials_as_df"
   ]
  },
  {
   "cell_type": "code",
   "execution_count": 21,
   "metadata": {},
   "outputs": [
    {
     "data": {
      "application/vnd.plotly.v1+json": {
       "config": {
        "linkText": "Export to plot.ly",
        "plotlyServerURL": "https://plot.ly",
        "showLink": false
       },
       "data": [
        {
         "hoverinfo": "none",
         "legendgroup": "",
         "line": {
          "width": 0
         },
         "mode": "lines",
         "showlegend": false,
         "type": "scatter",
         "x": {
          "bdata": "AQIDBAUGBwgJCgsMDQ4PEBESExQVFhcYGQ==",
          "dtype": "i1"
         },
         "y": {
          "bdata": "AAAAAAAQf0AAAAAAABCFQAAAAAAAMIhAAAAAAAAwiEAAAAAAADCIQAAAAAAAMIhAAAAAAAAwiEAAAAAAADCIQAAAAAAAMIhAAAAAAAAwiEAAAAAAADCIQAAAAAAAMIhAAAAAAAAwiEAAAAAAADCIQAAAAAAAMIhAAAAAAAAwiEAAAAAAADCIQAAAAAAAMIhAAAAAAAAwiEAAAAAAADCIQAAAAAAAMIhAAAAAAAAwiEAAAAAAADCIQAAAAAAAMIhAAAAAAAAwiEA=",
          "dtype": "f8"
         }
        },
        {
         "fill": "tonexty",
         "fillcolor": "rgba(128,177,211,0.3)",
         "legendgroup": "objective value",
         "line": {
          "color": "rgba(128,177,211,1)"
         },
         "mode": "lines",
         "name": "objective value",
         "text": [
          "Parameterization has too many items to render on hover (12).",
          "Parameterization has too many items to render on hover (12).",
          "Parameterization has too many items to render on hover (12).",
          "Parameterization has too many items to render on hover (12).",
          "Parameterization has too many items to render on hover (12).",
          "Parameterization has too many items to render on hover (12).",
          "Parameterization has too many items to render on hover (12).",
          "Parameterization has too many items to render on hover (12).",
          "Parameterization has too many items to render on hover (12).",
          "Parameterization has too many items to render on hover (12).",
          "Parameterization has too many items to render on hover (12).",
          "Parameterization has too many items to render on hover (12).",
          "Parameterization has too many items to render on hover (12).",
          "Parameterization has too many items to render on hover (12).",
          "Parameterization has too many items to render on hover (12).",
          "Parameterization has too many items to render on hover (12).",
          "Parameterization has too many items to render on hover (12).",
          "Parameterization has too many items to render on hover (12).",
          "Parameterization has too many items to render on hover (12).",
          "Parameterization has too many items to render on hover (12).",
          "Parameterization has too many items to render on hover (12).",
          "Parameterization has too many items to render on hover (12).",
          "Parameterization has too many items to render on hover (12).",
          "Parameterization has too many items to render on hover (12).",
          "Parameterization has too many items to render on hover (12)."
         ],
         "type": "scatter",
         "x": {
          "bdata": "AQIDBAUGBwgJCgsMDQ4PEBESExQVFhcYGQ==",
          "dtype": "i1"
         },
         "y": {
          "bdata": "AAAAAAAQf0AAAAAAABCFQAAAAAAAMIhAAAAAAAAwiEAAAAAAADCIQAAAAAAAMIhAAAAAAAAwiEAAAAAAADCIQAAAAAAAMIhAAAAAAAAwiEAAAAAAADCIQAAAAAAAMIhAAAAAAAAwiEAAAAAAADCIQAAAAAAAMIhAAAAAAAAwiEAAAAAAADCIQAAAAAAAMIhAAAAAAAAwiEAAAAAAADCIQAAAAAAAMIhAAAAAAAAwiEAAAAAAADCIQAAAAAAAMIhAAAAAAAAwiEA=",
          "dtype": "f8"
         }
        },
        {
         "fill": "tonexty",
         "fillcolor": "rgba(128,177,211,0.3)",
         "hoverinfo": "none",
         "legendgroup": "",
         "line": {
          "width": 0
         },
         "mode": "lines",
         "showlegend": false,
         "type": "scatter",
         "x": {
          "bdata": "AQIDBAUGBwgJCgsMDQ4PEBESExQVFhcYGQ==",
          "dtype": "i1"
         },
         "y": {
          "bdata": "AAAAAAAQf0AAAAAAABCFQAAAAAAAMIhAAAAAAAAwiEAAAAAAADCIQAAAAAAAMIhAAAAAAAAwiEAAAAAAADCIQAAAAAAAMIhAAAAAAAAwiEAAAAAAADCIQAAAAAAAMIhAAAAAAAAwiEAAAAAAADCIQAAAAAAAMIhAAAAAAAAwiEAAAAAAADCIQAAAAAAAMIhAAAAAAAAwiEAAAAAAADCIQAAAAAAAMIhAAAAAAAAwiEAAAAAAADCIQAAAAAAAMIhAAAAAAAAwiEA=",
          "dtype": "f8"
         }
        }
       ],
       "layout": {
        "showlegend": true,
        "template": {
         "data": {
          "bar": [
           {
            "error_x": {
             "color": "#2a3f5f"
            },
            "error_y": {
             "color": "#2a3f5f"
            },
            "marker": {
             "line": {
              "color": "#E5ECF6",
              "width": 0.5
             },
             "pattern": {
              "fillmode": "overlay",
              "size": 10,
              "solidity": 0.2
             }
            },
            "type": "bar"
           }
          ],
          "barpolar": [
           {
            "marker": {
             "line": {
              "color": "#E5ECF6",
              "width": 0.5
             },
             "pattern": {
              "fillmode": "overlay",
              "size": 10,
              "solidity": 0.2
             }
            },
            "type": "barpolar"
           }
          ],
          "carpet": [
           {
            "aaxis": {
             "endlinecolor": "#2a3f5f",
             "gridcolor": "white",
             "linecolor": "white",
             "minorgridcolor": "white",
             "startlinecolor": "#2a3f5f"
            },
            "baxis": {
             "endlinecolor": "#2a3f5f",
             "gridcolor": "white",
             "linecolor": "white",
             "minorgridcolor": "white",
             "startlinecolor": "#2a3f5f"
            },
            "type": "carpet"
           }
          ],
          "choropleth": [
           {
            "colorbar": {
             "outlinewidth": 0,
             "ticks": ""
            },
            "type": "choropleth"
           }
          ],
          "contour": [
           {
            "colorbar": {
             "outlinewidth": 0,
             "ticks": ""
            },
            "colorscale": [
             [
              0,
              "#0d0887"
             ],
             [
              0.1111111111111111,
              "#46039f"
             ],
             [
              0.2222222222222222,
              "#7201a8"
             ],
             [
              0.3333333333333333,
              "#9c179e"
             ],
             [
              0.4444444444444444,
              "#bd3786"
             ],
             [
              0.5555555555555556,
              "#d8576b"
             ],
             [
              0.6666666666666666,
              "#ed7953"
             ],
             [
              0.7777777777777778,
              "#fb9f3a"
             ],
             [
              0.8888888888888888,
              "#fdca26"
             ],
             [
              1,
              "#f0f921"
             ]
            ],
            "type": "contour"
           }
          ],
          "contourcarpet": [
           {
            "colorbar": {
             "outlinewidth": 0,
             "ticks": ""
            },
            "type": "contourcarpet"
           }
          ],
          "heatmap": [
           {
            "colorbar": {
             "outlinewidth": 0,
             "ticks": ""
            },
            "colorscale": [
             [
              0,
              "#0d0887"
             ],
             [
              0.1111111111111111,
              "#46039f"
             ],
             [
              0.2222222222222222,
              "#7201a8"
             ],
             [
              0.3333333333333333,
              "#9c179e"
             ],
             [
              0.4444444444444444,
              "#bd3786"
             ],
             [
              0.5555555555555556,
              "#d8576b"
             ],
             [
              0.6666666666666666,
              "#ed7953"
             ],
             [
              0.7777777777777778,
              "#fb9f3a"
             ],
             [
              0.8888888888888888,
              "#fdca26"
             ],
             [
              1,
              "#f0f921"
             ]
            ],
            "type": "heatmap"
           }
          ],
          "histogram": [
           {
            "marker": {
             "pattern": {
              "fillmode": "overlay",
              "size": 10,
              "solidity": 0.2
             }
            },
            "type": "histogram"
           }
          ],
          "histogram2d": [
           {
            "colorbar": {
             "outlinewidth": 0,
             "ticks": ""
            },
            "colorscale": [
             [
              0,
              "#0d0887"
             ],
             [
              0.1111111111111111,
              "#46039f"
             ],
             [
              0.2222222222222222,
              "#7201a8"
             ],
             [
              0.3333333333333333,
              "#9c179e"
             ],
             [
              0.4444444444444444,
              "#bd3786"
             ],
             [
              0.5555555555555556,
              "#d8576b"
             ],
             [
              0.6666666666666666,
              "#ed7953"
             ],
             [
              0.7777777777777778,
              "#fb9f3a"
             ],
             [
              0.8888888888888888,
              "#fdca26"
             ],
             [
              1,
              "#f0f921"
             ]
            ],
            "type": "histogram2d"
           }
          ],
          "histogram2dcontour": [
           {
            "colorbar": {
             "outlinewidth": 0,
             "ticks": ""
            },
            "colorscale": [
             [
              0,
              "#0d0887"
             ],
             [
              0.1111111111111111,
              "#46039f"
             ],
             [
              0.2222222222222222,
              "#7201a8"
             ],
             [
              0.3333333333333333,
              "#9c179e"
             ],
             [
              0.4444444444444444,
              "#bd3786"
             ],
             [
              0.5555555555555556,
              "#d8576b"
             ],
             [
              0.6666666666666666,
              "#ed7953"
             ],
             [
              0.7777777777777778,
              "#fb9f3a"
             ],
             [
              0.8888888888888888,
              "#fdca26"
             ],
             [
              1,
              "#f0f921"
             ]
            ],
            "type": "histogram2dcontour"
           }
          ],
          "mesh3d": [
           {
            "colorbar": {
             "outlinewidth": 0,
             "ticks": ""
            },
            "type": "mesh3d"
           }
          ],
          "parcoords": [
           {
            "line": {
             "colorbar": {
              "outlinewidth": 0,
              "ticks": ""
             }
            },
            "type": "parcoords"
           }
          ],
          "pie": [
           {
            "automargin": true,
            "type": "pie"
           }
          ],
          "scatter": [
           {
            "fillpattern": {
             "fillmode": "overlay",
             "size": 10,
             "solidity": 0.2
            },
            "type": "scatter"
           }
          ],
          "scatter3d": [
           {
            "line": {
             "colorbar": {
              "outlinewidth": 0,
              "ticks": ""
             }
            },
            "marker": {
             "colorbar": {
              "outlinewidth": 0,
              "ticks": ""
             }
            },
            "type": "scatter3d"
           }
          ],
          "scattercarpet": [
           {
            "marker": {
             "colorbar": {
              "outlinewidth": 0,
              "ticks": ""
             }
            },
            "type": "scattercarpet"
           }
          ],
          "scattergeo": [
           {
            "marker": {
             "colorbar": {
              "outlinewidth": 0,
              "ticks": ""
             }
            },
            "type": "scattergeo"
           }
          ],
          "scattergl": [
           {
            "marker": {
             "colorbar": {
              "outlinewidth": 0,
              "ticks": ""
             }
            },
            "type": "scattergl"
           }
          ],
          "scattermap": [
           {
            "marker": {
             "colorbar": {
              "outlinewidth": 0,
              "ticks": ""
             }
            },
            "type": "scattermap"
           }
          ],
          "scattermapbox": [
           {
            "marker": {
             "colorbar": {
              "outlinewidth": 0,
              "ticks": ""
             }
            },
            "type": "scattermapbox"
           }
          ],
          "scatterpolar": [
           {
            "marker": {
             "colorbar": {
              "outlinewidth": 0,
              "ticks": ""
             }
            },
            "type": "scatterpolar"
           }
          ],
          "scatterpolargl": [
           {
            "marker": {
             "colorbar": {
              "outlinewidth": 0,
              "ticks": ""
             }
            },
            "type": "scatterpolargl"
           }
          ],
          "scatterternary": [
           {
            "marker": {
             "colorbar": {
              "outlinewidth": 0,
              "ticks": ""
             }
            },
            "type": "scatterternary"
           }
          ],
          "surface": [
           {
            "colorbar": {
             "outlinewidth": 0,
             "ticks": ""
            },
            "colorscale": [
             [
              0,
              "#0d0887"
             ],
             [
              0.1111111111111111,
              "#46039f"
             ],
             [
              0.2222222222222222,
              "#7201a8"
             ],
             [
              0.3333333333333333,
              "#9c179e"
             ],
             [
              0.4444444444444444,
              "#bd3786"
             ],
             [
              0.5555555555555556,
              "#d8576b"
             ],
             [
              0.6666666666666666,
              "#ed7953"
             ],
             [
              0.7777777777777778,
              "#fb9f3a"
             ],
             [
              0.8888888888888888,
              "#fdca26"
             ],
             [
              1,
              "#f0f921"
             ]
            ],
            "type": "surface"
           }
          ],
          "table": [
           {
            "cells": {
             "fill": {
              "color": "#EBF0F8"
             },
             "line": {
              "color": "white"
             }
            },
            "header": {
             "fill": {
              "color": "#C8D4E3"
             },
             "line": {
              "color": "white"
             }
            },
            "type": "table"
           }
          ]
         },
         "layout": {
          "annotationdefaults": {
           "arrowcolor": "#2a3f5f",
           "arrowhead": 0,
           "arrowwidth": 1
          },
          "autotypenumbers": "strict",
          "coloraxis": {
           "colorbar": {
            "outlinewidth": 0,
            "ticks": ""
           }
          },
          "colorscale": {
           "diverging": [
            [
             0,
             "#8e0152"
            ],
            [
             0.1,
             "#c51b7d"
            ],
            [
             0.2,
             "#de77ae"
            ],
            [
             0.3,
             "#f1b6da"
            ],
            [
             0.4,
             "#fde0ef"
            ],
            [
             0.5,
             "#f7f7f7"
            ],
            [
             0.6,
             "#e6f5d0"
            ],
            [
             0.7,
             "#b8e186"
            ],
            [
             0.8,
             "#7fbc41"
            ],
            [
             0.9,
             "#4d9221"
            ],
            [
             1,
             "#276419"
            ]
           ],
           "sequential": [
            [
             0,
             "#0d0887"
            ],
            [
             0.1111111111111111,
             "#46039f"
            ],
            [
             0.2222222222222222,
             "#7201a8"
            ],
            [
             0.3333333333333333,
             "#9c179e"
            ],
            [
             0.4444444444444444,
             "#bd3786"
            ],
            [
             0.5555555555555556,
             "#d8576b"
            ],
            [
             0.6666666666666666,
             "#ed7953"
            ],
            [
             0.7777777777777778,
             "#fb9f3a"
            ],
            [
             0.8888888888888888,
             "#fdca26"
            ],
            [
             1,
             "#f0f921"
            ]
           ],
           "sequentialminus": [
            [
             0,
             "#0d0887"
            ],
            [
             0.1111111111111111,
             "#46039f"
            ],
            [
             0.2222222222222222,
             "#7201a8"
            ],
            [
             0.3333333333333333,
             "#9c179e"
            ],
            [
             0.4444444444444444,
             "#bd3786"
            ],
            [
             0.5555555555555556,
             "#d8576b"
            ],
            [
             0.6666666666666666,
             "#ed7953"
            ],
            [
             0.7777777777777778,
             "#fb9f3a"
            ],
            [
             0.8888888888888888,
             "#fdca26"
            ],
            [
             1,
             "#f0f921"
            ]
           ]
          },
          "colorway": [
           "#636efa",
           "#EF553B",
           "#00cc96",
           "#ab63fa",
           "#FFA15A",
           "#19d3f3",
           "#FF6692",
           "#B6E880",
           "#FF97FF",
           "#FECB52"
          ],
          "font": {
           "color": "#2a3f5f"
          },
          "geo": {
           "bgcolor": "white",
           "lakecolor": "white",
           "landcolor": "#E5ECF6",
           "showlakes": true,
           "showland": true,
           "subunitcolor": "white"
          },
          "hoverlabel": {
           "align": "left"
          },
          "hovermode": "closest",
          "mapbox": {
           "style": "light"
          },
          "paper_bgcolor": "white",
          "plot_bgcolor": "#E5ECF6",
          "polar": {
           "angularaxis": {
            "gridcolor": "white",
            "linecolor": "white",
            "ticks": ""
           },
           "bgcolor": "#E5ECF6",
           "radialaxis": {
            "gridcolor": "white",
            "linecolor": "white",
            "ticks": ""
           }
          },
          "scene": {
           "xaxis": {
            "backgroundcolor": "#E5ECF6",
            "gridcolor": "white",
            "gridwidth": 2,
            "linecolor": "white",
            "showbackground": true,
            "ticks": "",
            "zerolinecolor": "white"
           },
           "yaxis": {
            "backgroundcolor": "#E5ECF6",
            "gridcolor": "white",
            "gridwidth": 2,
            "linecolor": "white",
            "showbackground": true,
            "ticks": "",
            "zerolinecolor": "white"
           },
           "zaxis": {
            "backgroundcolor": "#E5ECF6",
            "gridcolor": "white",
            "gridwidth": 2,
            "linecolor": "white",
            "showbackground": true,
            "ticks": "",
            "zerolinecolor": "white"
           }
          },
          "shapedefaults": {
           "line": {
            "color": "#2a3f5f"
           }
          },
          "ternary": {
           "aaxis": {
            "gridcolor": "white",
            "linecolor": "white",
            "ticks": ""
           },
           "baxis": {
            "gridcolor": "white",
            "linecolor": "white",
            "ticks": ""
           },
           "bgcolor": "#E5ECF6",
           "caxis": {
            "gridcolor": "white",
            "linecolor": "white",
            "ticks": ""
           }
          },
          "title": {
           "x": 0.05
          },
          "xaxis": {
           "automargin": true,
           "gridcolor": "white",
           "linecolor": "white",
           "ticks": "",
           "title": {
            "standoff": 15
           },
           "zerolinecolor": "white",
           "zerolinewidth": 2
          },
          "yaxis": {
           "automargin": true,
           "gridcolor": "white",
           "linecolor": "white",
           "ticks": "",
           "title": {
            "standoff": 15
           },
           "zerolinecolor": "white",
           "zerolinewidth": 2
          }
         }
        },
        "title": {
         "text": "Best objective found vs. # of iterations"
        },
        "xaxis": {
         "title": {
          "text": "Iteration"
         }
        },
        "yaxis": {
         "title": {
          "text": "Viable_cross_terms"
         }
        }
       }
      }
     },
     "metadata": {},
     "output_type": "display_data"
    }
   ],
   "source": [
    "render(Tag_client.get_optimization_trace())"
   ]
  },
  {
   "cell_type": "code",
   "execution_count": null,
   "metadata": {},
   "outputs": [
    {
     "name": "stderr",
     "output_type": "stream",
     "text": [
      "[INFO 04-10 13:51:52] ax.service.ax_client: Generated new trial 25 with parameters {'z_sh': 15, 'z_sh_1': 14, 'z_sh_2': 5, 'z_r2': 72, 'z_r2_1': 71, 'z_r2_2': 70, 'x_s': 0.793432, 'x_s_1': -0.406846, 'x_s_2': -0.506846, 'x_r2': 0.09562, 'x_r2_1': -0.00438, 'x_r2_2': -0.10438} using model BoTorch.\n",
      "[INFO 04-10 13:51:52] ax.service.ax_client: Completed trial 25 with data: {'Viable_Cross_Terms': (795, None)}.\n",
      "[INFO 04-10 13:52:01] ax.service.ax_client: Generated new trial 26 with parameters {'z_sh': 13, 'z_sh_1': 12, 'z_sh_2': 7, 'z_r2': 76, 'z_r2_1': 75, 'z_r2_2': 70, 'x_s': 1.0, 'x_s_1': 0.9, 'x_s_2': 0.8, 'x_r2': -0.27042, 'x_r2_1': -0.37042, 'x_r2_2': -0.47042} using model BoTorch.\n",
      "[INFO 04-10 13:52:01] ax.service.ax_client: Completed trial 26 with data: {'Viable_Cross_Terms': (712, None)}.\n",
      "[INFO 04-10 13:52:11] ax.service.ax_client: Generated new trial 27 with parameters {'z_sh': 13, 'z_sh_1': 9, 'z_sh_2': 6, 'z_r2': 72, 'z_r2_1': 71, 'z_r2_2': 70, 'x_s': 1.0, 'x_s_1': 0.9, 'x_s_2': 0.8, 'x_r2': 0.108533, 'x_r2_1': -0.9, 'x_r2_2': -1.0} using model BoTorch.\n",
      "[INFO 04-10 13:52:11] ax.service.ax_client: Completed trial 27 with data: {'Viable_Cross_Terms': (775, None)}.\n",
      "[INFO 04-10 13:52:21] ax.service.ax_client: Generated new trial 28 with parameters {'z_sh': 15, 'z_sh_1': 14, 'z_sh_2': 13, 'z_r2': 72, 'z_r2_1': 71, 'z_r2_2': 70, 'x_s': 1.0, 'x_s_1': 0.9, 'x_s_2': 0.8, 'x_r2': 0.039521, 'x_r2_1': -0.060479, 'x_r2_2': -0.160479} using model BoTorch.\n",
      "[INFO 04-10 13:52:21] ax.service.ax_client: Completed trial 28 with data: {'Viable_Cross_Terms': (782, None)}.\n",
      "[INFO 04-10 13:52:30] ax.service.ax_client: Generated new trial 29 with parameters {'z_sh': 15, 'z_sh_1': 14, 'z_sh_2': 5, 'z_r2': 72, 'z_r2_1': 71, 'z_r2_2': 70, 'x_s': -0.8, 'x_s_1': -0.9, 'x_s_2': -1.0, 'x_r2': 0.128588, 'x_r2_1': -0.9, 'x_r2_2': -1.0} using model BoTorch.\n",
      "[INFO 04-10 13:52:31] ax.service.ax_client: Completed trial 29 with data: {'Viable_Cross_Terms': (745, None)}.\n",
      "[INFO 04-10 13:52:40] ax.service.ax_client: Generated new trial 30 with parameters {'z_sh': 15, 'z_sh_1': 14, 'z_sh_2': 5, 'z_r2': 72, 'z_r2_1': 71, 'z_r2_2': 70, 'x_s': 1.0, 'x_s_1': 0.9, 'x_s_2': 0.8, 'x_r2': 0.066633, 'x_r2_1': -0.033367, 'x_r2_2': -0.133367} using model BoTorch.\n",
      "[INFO 04-10 13:52:40] ax.service.ax_client: Completed trial 30 with data: {'Viable_Cross_Terms': (779, None)}.\n",
      "[INFO 04-10 13:52:49] ax.service.ax_client: Generated new trial 31 with parameters {'z_sh': 15, 'z_sh_1': 6, 'z_sh_2': 5, 'z_r2': 72, 'z_r2_1': 71, 'z_r2_2': 70, 'x_s': 1.0, 'x_s_1': -0.9, 'x_s_2': -1.0, 'x_r2': 0.03002, 'x_r2_1': -0.06998, 'x_r2_2': -0.16998} using model BoTorch.\n",
      "[INFO 04-10 13:52:49] ax.service.ax_client: Completed trial 31 with data: {'Viable_Cross_Terms': (757, None)}.\n",
      "[INFO 04-10 13:52:59] ax.service.ax_client: Generated new trial 32 with parameters {'z_sh': 15, 'z_sh_1': 14, 'z_sh_2': 5, 'z_r2': 72, 'z_r2_1': 71, 'z_r2_2': 70, 'x_s': 1.0, 'x_s_1': -0.9, 'x_s_2': -1.0, 'x_r2': 0.189971, 'x_r2_1': -0.9, 'x_r2_2': -1.0} using model BoTorch.\n",
      "[INFO 04-10 13:52:59] ax.service.ax_client: Completed trial 32 with data: {'Viable_Cross_Terms': (755, None)}.\n",
      "[INFO 04-10 13:53:08] ax.service.ax_client: Generated new trial 33 with parameters {'z_sh': 7, 'z_sh_1': 6, 'z_sh_2': 5, 'z_r2': 72, 'z_r2_1': 71, 'z_r2_2': 70, 'x_s': 1.0, 'x_s_1': 0.9, 'x_s_2': 0.8, 'x_r2': -0.11066, 'x_r2_1': -0.21066, 'x_r2_2': -0.31066} using model BoTorch.\n",
      "[INFO 04-10 13:53:08] ax.service.ax_client: Completed trial 33 with data: {'Viable_Cross_Terms': (779, None)}.\n",
      "[INFO 04-10 13:53:19] ax.service.ax_client: Generated new trial 34 with parameters {'z_sh': 14, 'z_sh_1': 13, 'z_sh_2': 5, 'z_r2': 75, 'z_r2_1': 74, 'z_r2_2': 73, 'x_s': 1.0, 'x_s_1': 0.9, 'x_s_2': 0.8, 'x_r2': -0.17866, 'x_r2_1': -0.27866, 'x_r2_2': -0.37866} using model BoTorch.\n",
      "[INFO 04-10 13:53:19] ax.service.ax_client: Completed trial 34 with data: {'Viable_Cross_Terms': (744, None)}.\n",
      "[INFO 04-10 13:53:27] ax.service.ax_client: Generated new trial 35 with parameters {'z_sh': 15, 'z_sh_1': 14, 'z_sh_2': 5, 'z_r2': 72, 'z_r2_1': 71, 'z_r2_2': 70, 'x_s': 1.0, 'x_s_1': 0.9, 'x_s_2': -1.0, 'x_r2': -0.017423, 'x_r2_1': -0.117423, 'x_r2_2': -0.217423} using model BoTorch.\n",
      "[INFO 04-10 13:53:27] ax.service.ax_client: Completed trial 35 with data: {'Viable_Cross_Terms': (782, None)}.\n",
      "[INFO 04-10 13:53:36] ax.service.ax_client: Generated new trial 36 with parameters {'z_sh': 14, 'z_sh_1': 13, 'z_sh_2': 6, 'z_r2': 73, 'z_r2_1': 72, 'z_r2_2': 71, 'x_s': 1.0, 'x_s_1': 0.9, 'x_s_2': 0.8, 'x_r2': -0.043391, 'x_r2_1': -0.143391, 'x_r2_2': -0.243391} using model BoTorch.\n",
      "[INFO 04-10 13:53:36] ax.service.ax_client: Completed trial 36 with data: {'Viable_Cross_Terms': (775, None)}.\n",
      "[INFO 04-10 13:53:45] ax.service.ax_client: Generated new trial 37 with parameters {'z_sh': 15, 'z_sh_1': 14, 'z_sh_2': 13, 'z_r2': 72, 'z_r2_1': 71, 'z_r2_2': 70, 'x_s': 1.0, 'x_s_1': -0.9, 'x_s_2': -1.0, 'x_r2': -0.014703, 'x_r2_1': -0.114703, 'x_r2_2': -0.214703} using model BoTorch.\n",
      "[INFO 04-10 13:53:45] ax.service.ax_client: Completed trial 37 with data: {'Viable_Cross_Terms': (777, None)}.\n",
      "[INFO 04-10 13:53:54] ax.service.ax_client: Generated new trial 38 with parameters {'z_sh': 15, 'z_sh_1': 14, 'z_sh_2': 5, 'z_r2': 86, 'z_r2_1': 71, 'z_r2_2': 70, 'x_s': 1.0, 'x_s_1': 0.9, 'x_s_2': 0.8, 'x_r2': 1.0, 'x_r2_1': 0.9, 'x_r2_2': 0.8} using model BoTorch.\n",
      "[INFO 04-10 13:53:54] ax.service.ax_client: Completed trial 38 with data: {'Viable_Cross_Terms': (512, None)}.\n",
      "[INFO 04-10 13:54:02] ax.service.ax_client: Generated new trial 39 with parameters {'z_sh': 14, 'z_sh_1': 13, 'z_sh_2': 5, 'z_r2': 72, 'z_r2_1': 71, 'z_r2_2': 70, 'x_s': 1.0, 'x_s_1': 0.9, 'x_s_2': 0.8, 'x_r2': 0.022214, 'x_r2_1': -0.077786, 'x_r2_2': -0.177786} using model BoTorch.\n",
      "[INFO 04-10 13:54:02] ax.service.ax_client: Completed trial 39 with data: {'Viable_Cross_Terms': (777, None)}.\n",
      "[INFO 04-10 13:54:12] ax.service.ax_client: Generated new trial 40 with parameters {'z_sh': 15, 'z_sh_1': 14, 'z_sh_2': 5, 'z_r2': 72, 'z_r2_1': 71, 'z_r2_2': 70, 'x_s': 1.0, 'x_s_1': 0.9, 'x_s_2': 0.8, 'x_r2': 0.025858, 'x_r2_1': -0.074142, 'x_r2_2': -0.174142} using model BoTorch.\n",
      "[INFO 04-10 13:54:12] ax.service.ax_client: Completed trial 40 with data: {'Viable_Cross_Terms': (780, None)}.\n",
      "[INFO 04-10 13:54:22] ax.service.ax_client: Generated new trial 41 with parameters {'z_sh': 14, 'z_sh_1': 13, 'z_sh_2': 5, 'z_r2': 73, 'z_r2_1': 72, 'z_r2_2': 71, 'x_s': 1.0, 'x_s_1': 0.9, 'x_s_2': 0.8, 'x_r2': -0.030994, 'x_r2_1': -0.130994, 'x_r2_2': -0.230994} using model BoTorch.\n",
      "[INFO 04-10 13:54:22] ax.service.ax_client: Completed trial 41 with data: {'Viable_Cross_Terms': (775, None)}.\n",
      "[INFO 04-10 13:54:34] ax.service.ax_client: Generated new trial 42 with parameters {'z_sh': 14, 'z_sh_1': 13, 'z_sh_2': 12, 'z_r2': 72, 'z_r2_1': 71, 'z_r2_2': 70, 'x_s': 1.0, 'x_s_1': 0.9, 'x_s_2': -1.0, 'x_r2': 0.057387, 'x_r2_1': -0.042613, 'x_r2_2': -0.142613} using model BoTorch.\n",
      "[INFO 04-10 13:54:34] ax.service.ax_client: Completed trial 42 with data: {'Viable_Cross_Terms': (778, None)}.\n",
      "[INFO 04-10 13:54:44] ax.service.ax_client: Generated new trial 43 with parameters {'z_sh': 15, 'z_sh_1': 14, 'z_sh_2': 5, 'z_r2': 73, 'z_r2_1': 72, 'z_r2_2': 70, 'x_s': 1.0, 'x_s_1': 0.9, 'x_s_2': -1.0, 'x_r2': -0.052148, 'x_r2_1': -0.152148, 'x_r2_2': -0.252148} using model BoTorch.\n",
      "[INFO 04-10 13:54:44] ax.service.ax_client: Completed trial 43 with data: {'Viable_Cross_Terms': (778, None)}.\n",
      "[INFO 04-10 13:54:52] ax.service.ax_client: Generated new trial 44 with parameters {'z_sh': 7, 'z_sh_1': 6, 'z_sh_2': 5, 'z_r2': 72, 'z_r2_1': 71, 'z_r2_2': 70, 'x_s': 1.0, 'x_s_1': -0.9, 'x_s_2': -1.0, 'x_r2': 0.047793, 'x_r2_1': -0.052207, 'x_r2_2': -0.152207} using model BoTorch.\n",
      "[INFO 04-10 13:54:52] ax.service.ax_client: Completed trial 44 with data: {'Viable_Cross_Terms': (746, None)}.\n",
      "[INFO 04-10 13:55:02] ax.service.ax_client: Generated new trial 45 with parameters {'z_sh': 15, 'z_sh_1': 13, 'z_sh_2': 10, 'z_r2': 74, 'z_r2_1': 73, 'z_r2_2': 71, 'x_s': 1.0, 'x_s_1': 0.9, 'x_s_2': -1.0, 'x_r2': -0.173761, 'x_r2_1': -0.273761, 'x_r2_2': -0.373761} using model BoTorch.\n",
      "[INFO 04-10 13:55:02] ax.service.ax_client: Completed trial 45 with data: {'Viable_Cross_Terms': (757, None)}.\n",
      "[INFO 04-10 13:55:11] ax.service.ax_client: Generated new trial 46 with parameters {'z_sh': 15, 'z_sh_1': 14, 'z_sh_2': 5, 'z_r2': 76, 'z_r2_1': 71, 'z_r2_2': 70, 'x_s': 1.0, 'x_s_1': 0.9, 'x_s_2': 0.8, 'x_r2': -0.534968, 'x_r2_1': -0.634968, 'x_r2_2': -0.734968} using model BoTorch.\n",
      "[INFO 04-10 13:55:11] ax.service.ax_client: Completed trial 46 with data: {'Viable_Cross_Terms': (709, None)}.\n",
      "[INFO 04-10 13:55:20] ax.service.ax_client: Generated new trial 47 with parameters {'z_sh': 13, 'z_sh_1': 10, 'z_sh_2': 8, 'z_r2': 78, 'z_r2_1': 76, 'z_r2_2': 70, 'x_s': 1.0, 'x_s_1': 0.9, 'x_s_2': 0.8, 'x_r2': -0.688821, 'x_r2_1': -0.788821, 'x_r2_2': -0.888821} using model BoTorch.\n",
      "[INFO 04-10 13:55:20] ax.service.ax_client: Completed trial 47 with data: {'Viable_Cross_Terms': (570, None)}.\n",
      "[INFO 04-10 13:55:32] ax.service.ax_client: Generated new trial 48 with parameters {'z_sh': 15, 'z_sh_1': 14, 'z_sh_2': 5, 'z_r2': 73, 'z_r2_1': 72, 'z_r2_2': 70, 'x_s': 1.0, 'x_s_1': 0.56511, 'x_s_2': 0.46511, 'x_r2': -0.070641, 'x_r2_1': -0.170641, 'x_r2_2': -0.270641} using model BoTorch.\n",
      "[INFO 04-10 13:55:32] ax.service.ax_client: Completed trial 48 with data: {'Viable_Cross_Terms': (798, None)}.\n",
      "[INFO 04-10 13:55:42] ax.service.ax_client: Generated new trial 49 with parameters {'z_sh': 15, 'z_sh_1': 14, 'z_sh_2': 13, 'z_r2': 72, 'z_r2_1': 71, 'z_r2_2': 70, 'x_s': 1.0, 'x_s_1': 0.9, 'x_s_2': -0.077851, 'x_r2': -0.071561, 'x_r2_1': -0.171561, 'x_r2_2': -0.271561} using model BoTorch.\n",
      "[INFO 04-10 13:55:42] ax.service.ax_client: Completed trial 49 with data: {'Viable_Cross_Terms': (787, None)}.\n",
      "[INFO 04-10 13:56:02] ax.service.ax_client: Generated new trial 50 with parameters {'z_sh': 14, 'z_sh_1': 10, 'z_sh_2': 7, 'z_r2': 78, 'z_r2_1': 75, 'z_r2_2': 74, 'x_s': 1.0, 'x_s_1': 0.42902, 'x_s_2': 0.32902, 'x_r2': -0.292625, 'x_r2_1': -0.392625, 'x_r2_2': -0.492625} using model BoTorch.\n",
      "[INFO 04-10 13:56:02] ax.service.ax_client: Completed trial 50 with data: {'Viable_Cross_Terms': (607, None)}.\n",
      "[INFO 04-10 13:56:16] ax.service.ax_client: Generated new trial 51 with parameters {'z_sh': 15, 'z_sh_1': 14, 'z_sh_2': 9, 'z_r2': 72, 'z_r2_1': 71, 'z_r2_2': 70, 'x_s': 1.0, 'x_s_1': 0.072352, 'x_s_2': -0.027648, 'x_r2': -0.090191, 'x_r2_1': -0.190191, 'x_r2_2': -0.290191} using model BoTorch.\n",
      "[INFO 04-10 13:56:16] ax.service.ax_client: Completed trial 51 with data: {'Viable_Cross_Terms': (783, None)}.\n",
      "[INFO 04-10 13:56:30] ax.service.ax_client: Generated new trial 52 with parameters {'z_sh': 15, 'z_sh_1': 14, 'z_sh_2': 5, 'z_r2': 73, 'z_r2_1': 72, 'z_r2_2': 70, 'x_s': 1.0, 'x_s_1': 0.126035, 'x_s_2': 0.026035, 'x_r2': -0.031231, 'x_r2_1': -0.131231, 'x_r2_2': -0.231231} using model BoTorch.\n",
      "[INFO 04-10 13:56:30] ax.service.ax_client: Completed trial 52 with data: {'Viable_Cross_Terms': (744, None)}.\n",
      "[INFO 04-10 13:56:41] ax.service.ax_client: Generated new trial 53 with parameters {'z_sh': 15, 'z_sh_1': 14, 'z_sh_2': 13, 'z_r2': 72, 'z_r2_1': 71, 'z_r2_2': 70, 'x_s': 1.0, 'x_s_1': 0.9, 'x_s_2': 0.8, 'x_r2': -0.182391, 'x_r2_1': -0.282391, 'x_r2_2': -0.382391} using model BoTorch.\n",
      "[INFO 04-10 13:56:41] ax.service.ax_client: Completed trial 53 with data: {'Viable_Cross_Terms': (790, None)}.\n",
      "[INFO 04-10 13:56:53] ax.service.ax_client: Generated new trial 54 with parameters {'z_sh': 15, 'z_sh_1': 14, 'z_sh_2': 13, 'z_r2': 72, 'z_r2_1': 71, 'z_r2_2': 70, 'x_s': 1.0, 'x_s_1': 0.9, 'x_s_2': 0.8, 'x_r2': -0.181761, 'x_r2_1': -0.281761, 'x_r2_2': -0.381761} using model BoTorch.\n",
      "[INFO 04-10 13:56:53] ax.service.ax_client: Completed trial 54 with data: {'Viable_Cross_Terms': (790, None)}.\n",
      "[INFO 04-10 13:57:03] ax.service.ax_client: Generated new trial 55 with parameters {'z_sh': 14, 'z_sh_1': 13, 'z_sh_2': 12, 'z_r2': 72, 'z_r2_1': 71, 'z_r2_2': 70, 'x_s': 1.0, 'x_s_1': 0.9, 'x_s_2': 0.8, 'x_r2': -0.190614, 'x_r2_1': -0.290614, 'x_r2_2': -0.390614} using model BoTorch.\n",
      "[INFO 04-10 13:57:03] ax.service.ax_client: Completed trial 55 with data: {'Viable_Cross_Terms': (789, None)}.\n",
      "[INFO 04-10 13:57:12] ax.service.ax_client: Generated new trial 56 with parameters {'z_sh': 15, 'z_sh_1': 7, 'z_sh_2': 6, 'z_r2': 72, 'z_r2_1': 71, 'z_r2_2': 70, 'x_s': 1.0, 'x_s_1': 0.9, 'x_s_2': 0.8, 'x_r2': -0.151875, 'x_r2_1': -0.251875, 'x_r2_2': -0.351875} using model BoTorch.\n",
      "[INFO 04-10 13:57:12] ax.service.ax_client: Completed trial 56 with data: {'Viable_Cross_Terms': (785, None)}.\n",
      "[INFO 04-10 13:57:24] ax.service.ax_client: Generated new trial 57 with parameters {'z_sh': 15, 'z_sh_1': 14, 'z_sh_2': 13, 'z_r2': 72, 'z_r2_1': 71, 'z_r2_2': 70, 'x_s': 1.0, 'x_s_1': 0.9, 'x_s_2': 0.8, 'x_r2': -0.18115, 'x_r2_1': -0.28115, 'x_r2_2': -0.38115} using model BoTorch.\n",
      "[INFO 04-10 13:57:24] ax.service.ax_client: Completed trial 57 with data: {'Viable_Cross_Terms': (790, None)}.\n",
      "[INFO 04-10 13:57:35] ax.service.ax_client: Generated new trial 58 with parameters {'z_sh': 12, 'z_sh_1': 10, 'z_sh_2': 8, 'z_r2': 76, 'z_r2_1': 75, 'z_r2_2': 74, 'x_s': 1.0, 'x_s_1': 0.9, 'x_s_2': 0.8, 'x_r2': -0.340878, 'x_r2_1': -0.440878, 'x_r2_2': -0.540878} using model BoTorch.\n",
      "[INFO 04-10 13:57:35] ax.service.ax_client: Completed trial 58 with data: {'Viable_Cross_Terms': (705, None)}.\n",
      "[INFO 04-10 13:57:43] ax.service.ax_client: Generated new trial 59 with parameters {'z_sh': 15, 'z_sh_1': 14, 'z_sh_2': 13, 'z_r2': 72, 'z_r2_1': 71, 'z_r2_2': 70, 'x_s': 1.0, 'x_s_1': 0.9, 'x_s_2': 0.8, 'x_r2': -0.187924, 'x_r2_1': -0.287924, 'x_r2_2': -0.387924} using model BoTorch.\n",
      "[INFO 04-10 13:57:43] ax.service.ax_client: Completed trial 59 with data: {'Viable_Cross_Terms': (790, None)}.\n",
      "[INFO 04-10 13:57:53] ax.service.ax_client: Generated new trial 60 with parameters {'z_sh': 15, 'z_sh_1': 14, 'z_sh_2': 13, 'z_r2': 72, 'z_r2_1': 71, 'z_r2_2': 70, 'x_s': 1.0, 'x_s_1': 0.9, 'x_s_2': 0.8, 'x_r2': -0.183406, 'x_r2_1': -0.283406, 'x_r2_2': -0.383406} using model BoTorch.\n",
      "[INFO 04-10 13:57:53] ax.service.ax_client: Completed trial 60 with data: {'Viable_Cross_Terms': (790, None)}.\n",
      "[INFO 04-10 13:58:02] ax.service.ax_client: Generated new trial 61 with parameters {'z_sh': 15, 'z_sh_1': 12, 'z_sh_2': 8, 'z_r2': 79, 'z_r2_1': 78, 'z_r2_2': 72, 'x_s': 1.0, 'x_s_1': 0.9, 'x_s_2': 0.8, 'x_r2': -0.333484, 'x_r2_1': -0.433484, 'x_r2_2': -0.533484} using model BoTorch.\n",
      "[INFO 04-10 13:58:02] ax.service.ax_client: Completed trial 61 with data: {'Viable_Cross_Terms': (504, None)}.\n",
      "[INFO 04-10 13:58:12] ax.service.ax_client: Generated new trial 62 with parameters {'z_sh': 15, 'z_sh_1': 14, 'z_sh_2': 13, 'z_r2': 73, 'z_r2_1': 72, 'z_r2_2': 71, 'x_s': 1.0, 'x_s_1': 0.9, 'x_s_2': 0.8, 'x_r2': -0.171955, 'x_r2_1': -0.271955, 'x_r2_2': -0.371955} using model BoTorch.\n",
      "[INFO 04-10 13:58:12] ax.service.ax_client: Completed trial 62 with data: {'Viable_Cross_Terms': (788, None)}.\n",
      "[INFO 04-10 13:58:21] ax.service.ax_client: Generated new trial 63 with parameters {'z_sh': 15, 'z_sh_1': 14, 'z_sh_2': 13, 'z_r2': 72, 'z_r2_1': 71, 'z_r2_2': 70, 'x_s': 1.0, 'x_s_1': 0.9, 'x_s_2': 0.8, 'x_r2': -0.069041, 'x_r2_1': -0.169041, 'x_r2_2': -1.0} using model BoTorch.\n",
      "[INFO 04-10 13:58:21] ax.service.ax_client: Completed trial 63 with data: {'Viable_Cross_Terms': (786, None)}.\n",
      "[INFO 04-10 13:58:31] ax.service.ax_client: Generated new trial 64 with parameters {'z_sh': 10, 'z_sh_1': 8, 'z_sh_2': 6, 'z_r2': 76, 'z_r2_1': 75, 'z_r2_2': 74, 'x_s': 1.0, 'x_s_1': 0.9, 'x_s_2': 0.8, 'x_r2': -0.477881, 'x_r2_1': -0.577881, 'x_r2_2': -0.677881} using model BoTorch.\n",
      "[INFO 04-10 13:58:31] ax.service.ax_client: Completed trial 64 with data: {'Viable_Cross_Terms': (644, None)}.\n",
      "[INFO 04-10 13:58:39] ax.service.ax_client: Generated new trial 65 with parameters {'z_sh': 15, 'z_sh_1': 14, 'z_sh_2': 13, 'z_r2': 73, 'z_r2_1': 72, 'z_r2_2': 71, 'x_s': 1.0, 'x_s_1': 0.9, 'x_s_2': 0.8, 'x_r2': -0.137227, 'x_r2_1': -0.237227, 'x_r2_2': -0.337227} using model BoTorch.\n",
      "[INFO 04-10 13:58:39] ax.service.ax_client: Completed trial 65 with data: {'Viable_Cross_Terms': (785, None)}.\n",
      "[INFO 04-10 13:58:51] ax.service.ax_client: Generated new trial 66 with parameters {'z_sh': 15, 'z_sh_1': 14, 'z_sh_2': 13, 'z_r2': 73, 'z_r2_1': 72, 'z_r2_2': 71, 'x_s': 1.0, 'x_s_1': 0.9, 'x_s_2': 0.8, 'x_r2': -0.142908, 'x_r2_1': -0.242908, 'x_r2_2': -0.342908} using model BoTorch.\n",
      "[INFO 04-10 13:58:51] ax.service.ax_client: Completed trial 66 with data: {'Viable_Cross_Terms': (785, None)}.\n",
      "[INFO 04-10 13:59:05] ax.service.ax_client: Generated new trial 67 with parameters {'z_sh': 15, 'z_sh_1': 13, 'z_sh_2': 12, 'z_r2': 72, 'z_r2_1': 71, 'z_r2_2': 70, 'x_s': 1.0, 'x_s_1': 0.9, 'x_s_2': 0.8, 'x_r2': -0.08625, 'x_r2_1': -0.18625, 'x_r2_2': -0.28625} using model BoTorch.\n",
      "[INFO 04-10 13:59:05] ax.service.ax_client: Completed trial 67 with data: {'Viable_Cross_Terms': (785, None)}.\n",
      "[INFO 04-10 13:59:15] ax.service.ax_client: Generated new trial 68 with parameters {'z_sh': 12, 'z_sh_1': 10, 'z_sh_2': 9, 'z_r2': 77, 'z_r2_1': 76, 'z_r2_2': 74, 'x_s': 1.0, 'x_s_1': 0.9, 'x_s_2': 0.8, 'x_r2': -0.371706, 'x_r2_1': -0.471706, 'x_r2_2': -0.571706} using model BoTorch.\n",
      "[INFO 04-10 13:59:15] ax.service.ax_client: Completed trial 68 with data: {'Viable_Cross_Terms': (645, None)}.\n",
      "[INFO 04-10 13:59:26] ax.service.ax_client: Generated new trial 69 with parameters {'z_sh': 15, 'z_sh_1': 14, 'z_sh_2': 13, 'z_r2': 73, 'z_r2_1': 72, 'z_r2_2': 70, 'x_s': 1.0, 'x_s_1': 0.9, 'x_s_2': 0.8, 'x_r2': -0.12545, 'x_r2_1': -0.22545, 'x_r2_2': -0.32545} using model BoTorch.\n",
      "[INFO 04-10 13:59:26] ax.service.ax_client: Completed trial 69 with data: {'Viable_Cross_Terms': (785, None)}.\n",
      "[INFO 04-10 13:59:38] ax.service.ax_client: Generated new trial 70 with parameters {'z_sh': 15, 'z_sh_1': 14, 'z_sh_2': 13, 'z_r2': 73, 'z_r2_1': 72, 'z_r2_2': 71, 'x_s': 1.0, 'x_s_1': 0.9, 'x_s_2': 0.8, 'x_r2': -0.164264, 'x_r2_1': -0.264264, 'x_r2_2': -0.364264} using model BoTorch.\n",
      "[INFO 04-10 13:59:38] ax.service.ax_client: Completed trial 70 with data: {'Viable_Cross_Terms': (786, None)}.\n",
      "[INFO 04-10 13:59:48] ax.service.ax_client: Generated new trial 71 with parameters {'z_sh': 15, 'z_sh_1': 14, 'z_sh_2': 13, 'z_r2': 73, 'z_r2_1': 72, 'z_r2_2': 71, 'x_s': 1.0, 'x_s_1': 0.9, 'x_s_2': 0.8, 'x_r2': -0.160104, 'x_r2_1': -0.260104, 'x_r2_2': -0.360104} using model BoTorch.\n",
      "[INFO 04-10 13:59:48] ax.service.ax_client: Completed trial 71 with data: {'Viable_Cross_Terms': (786, None)}.\n",
      "[INFO 04-10 13:59:57] ax.service.ax_client: Generated new trial 72 with parameters {'z_sh': 12, 'z_sh_1': 10, 'z_sh_2': 5, 'z_r2': 74, 'z_r2_1': 72, 'z_r2_2': 70, 'x_s': 1.0, 'x_s_1': 0.9, 'x_s_2': 0.8, 'x_r2': -0.090035, 'x_r2_1': -0.190035, 'x_r2_2': -0.290035} using model BoTorch.\n",
      "[INFO 04-10 13:59:57] ax.service.ax_client: Completed trial 72 with data: {'Viable_Cross_Terms': (772, None)}.\n",
      "[INFO 04-10 14:00:07] ax.service.ax_client: Generated new trial 73 with parameters {'z_sh': 15, 'z_sh_1': 14, 'z_sh_2': 13, 'z_r2': 73, 'z_r2_1': 71, 'z_r2_2': 70, 'x_s': 1.0, 'x_s_1': 0.9, 'x_s_2': 0.8, 'x_r2': -0.094459, 'x_r2_1': -0.194459, 'x_r2_2': -0.294459} using model BoTorch.\n",
      "[INFO 04-10 14:00:07] ax.service.ax_client: Completed trial 73 with data: {'Viable_Cross_Terms': (785, None)}.\n",
      "[INFO 04-10 14:00:18] ax.service.ax_client: Generated new trial 74 with parameters {'z_sh': 14, 'z_sh_1': 11, 'z_sh_2': 5, 'z_r2': 78, 'z_r2_1': 75, 'z_r2_2': 74, 'x_s': 1.0, 'x_s_1': 0.9, 'x_s_2': 0.8, 'x_r2': -0.321606, 'x_r2_1': -0.421606, 'x_r2_2': -0.521606} using model BoTorch.\n",
      "[INFO 04-10 14:00:18] ax.service.ax_client: Completed trial 74 with data: {'Viable_Cross_Terms': (620, None)}.\n",
      "[INFO 04-10 14:00:27] ax.service.ax_client: Generated new trial 75 with parameters {'z_sh': 15, 'z_sh_1': 14, 'z_sh_2': 13, 'z_r2': 73, 'z_r2_1': 72, 'z_r2_2': 70, 'x_s': 1.0, 'x_s_1': 0.9, 'x_s_2': 0.8, 'x_r2': -0.133308, 'x_r2_1': -0.233308, 'x_r2_2': -0.333308} using model BoTorch.\n",
      "[INFO 04-10 14:00:27] ax.service.ax_client: Completed trial 75 with data: {'Viable_Cross_Terms': (785, None)}.\n",
      "[INFO 04-10 14:00:42] ax.service.ax_client: Generated new trial 76 with parameters {'z_sh': 14, 'z_sh_1': 8, 'z_sh_2': 6, 'z_r2': 74, 'z_r2_1': 73, 'z_r2_2': 72, 'x_s': 1.0, 'x_s_1': 0.9, 'x_s_2': 0.8, 'x_r2': -0.146994, 'x_r2_1': -0.246994, 'x_r2_2': -0.346994} using model BoTorch.\n",
      "[INFO 04-10 14:00:42] ax.service.ax_client: Completed trial 76 with data: {'Viable_Cross_Terms': (772, None)}.\n"
     ]
    }
   ],
   "source": [
    "for i in range(100):\n",
    "    parameterization, trial_index = Tag_client.get_next_trial()\n",
    "    # Local evaluation here can be replaced with deployment to external system.\n",
    "    Tag_client.complete_trial(trial_index=trial_index, raw_data=score_vals(param_to_list(parameterization, add_cl = True)))"
   ]
  },
  {
   "cell_type": "code",
   "execution_count": null,
   "metadata": {},
   "outputs": [
    {
     "name": "stderr",
     "output_type": "stream",
     "text": [
      "[INFO 04-10 13:40:15] ax.modelbridge.base: Leaving out out-of-design observations for arms: 87_0\n"
     ]
    },
    {
     "name": "stdout",
     "output_type": "stream",
     "text": [
      "z_sh: 15\n",
      "z_sh_1: 10\n",
      "z_sh_2: 9\n",
      "z_r2: 72\n",
      "z_r2_1: 71\n",
      "z_r2_2: 70\n",
      "x_s: 0.9999999999960997\n",
      "x_s_1: 0.8999999999149966\n",
      "x_s_2: 0.7999999998281693\n",
      "x_r2: -0.25155638920287665\n",
      "x_r2_1: -0.351556389257909\n",
      "x_r2_2: -0.9999999999177834\n"
     ]
    }
   ],
   "source": [
    "best_parameters, values = Tag_client.get_best_parameters()\n",
    "for name, value in best_parameters.items():\n",
    "    print(f\"{name}: {value}\")"
   ]
  },
  {
   "cell_type": "code",
   "execution_count": 30,
   "metadata": {},
   "outputs": [
    {
     "name": "stdout",
     "output_type": "stream",
     "text": [
      "790\n"
     ]
    }
   ],
   "source": [
    "print(score_vals(param_to_list(best_parameters, add_cl = True)))"
   ]
  },
  {
   "cell_type": "code",
   "execution_count": 31,
   "metadata": {},
   "outputs": [
    {
     "data": {
      "text/plain": [
       "[array([15, 10]),\n",
       " array([ 9, 72]),\n",
       " array([71, 70]),\n",
       " array([1. , 0.9]),\n",
       " array([ 0.8       , -0.25155639])]"
      ]
     },
     "execution_count": 31,
     "metadata": {},
     "output_type": "execute_result"
    }
   ],
   "source": [
    "param_to_list(best_parameters)"
   ]
  },
  {
   "cell_type": "code",
   "execution_count": 32,
   "metadata": {},
   "outputs": [
    {
     "data": {
      "application/vnd.plotly.v1+json": {
       "config": {
        "linkText": "Export to plot.ly",
        "plotlyServerURL": "https://plot.ly",
        "showLink": false
       },
       "data": [
        {
         "hoverinfo": "none",
         "legendgroup": "",
         "line": {
          "width": 0
         },
         "mode": "lines",
         "showlegend": false,
         "type": "scatter",
         "x": {
          "bdata": "AQIDBAUGBwgJCgsMDQ4PEBESExQVFhcYGRobHB0eHyAhIiMkJSYnKCkqKywtLi8wMTIzNDU2Nzg5Ojs8PT4/QEFCQ0RFRkdISUpLTE1OT1BRUlNUVVZXWFlaW1xdXl9gYWJjZGVmZ2hpamtsbW5vcHFyc3R1dnd4eXp7fH0=",
          "dtype": "i1"
         },
         "y": {
          "bdata": "AAAAAABgcEAAAAAAAIB0QAAAAAAAgHRAAAAAAADQdkAAAAAAANB2QAAAAAAAoHtAAAAAAACge0AAAAAAAKB7QAAAAAAAoHtAAAAAAACge0AAAAAAAMB8QAAAAAAAwHxAAAAAAADgfEAAAAAAAOB8QAAAAAAA4HxAAAAAAADgfEAAAAAAAOB8QAAAAAAAsH9AAAAAAACwf0AAAAAAALB/QAAAAAAAsH9AAAAAAACwf0AAAAAAALB/QAAAAAAAsH9AAAAAAAC4hkAAAAAAACCIQAAAAAAAIIhAAAAAAABQiEAAAAAAAJCIQAAAAAAAkIhAAAAAAACQiEAAAAAAAJCIQAAAAAAAkIhAAAAAAACQiEAAAAAAAJCIQAAAAAAAkIhAAAAAAACQiEAAAAAAAJCIQAAAAAAAkIhAAAAAAAC4iEAAAAAAALiIQAAAAAAAuIhAAAAAAAC4iEAAAAAAALiIQAAAAAAAuIhAAAAAAAC4iEAAAAAAALiIQAAAAAAAuIhAAAAAAAC4iEAAAAAAALiIQAAAAAAAuIhAAAAAAAC4iEAAAAAAALiIQAAAAAAAuIhAAAAAAAC4iEAAAAAAALiIQAAAAAAAuIhAAAAAAAC4iEAAAAAAALiIQAAAAAAAuIhAAAAAAAC4iEAAAAAAALiIQAAAAAAAuIhAAAAAAAC4iEAAAAAAALiIQAAAAAAAuIhAAAAAAAC4iEAAAAAAALiIQAAAAAAAuIhAAAAAAAC4iEAAAAAAALiIQAAAAAAAuIhAAAAAAAC4iEAAAAAAALiIQAAAAAAAuIhAAAAAAAC4iEAAAAAAALiIQAAAAAAAuIhAAAAAAAC4iEAAAAAAALiIQAAAAAAAuIhAAAAAAAC4iEAAAAAAALiIQAAAAAAAuIhAAAAAAAC4iEAAAAAAALiIQAAAAAAAuIhAAAAAAAC4iEAAAAAAALiIQAAAAAAAuIhAAAAAAAC4iEAAAAAAALiIQAAAAAAAuIhAAAAAAAC4iEAAAAAAALiIQAAAAAAAeIlAAAAAAAB4iUAAAAAAAHiJQAAAAAAAeIlAAAAAAAB4iUAAAAAAAHiJQAAAAAAAeIlAAAAAAAB4iUAAAAAAAHiJQAAAAAAAeIlAAAAAAAB4iUAAAAAAAHiJQAAAAAAAeIlAAAAAAAB4iUAAAAAAAHiJQAAAAAAAeIlAAAAAAAB4iUAAAAAAAHiJQAAAAAAAeIlAAAAAAAB4iUAAAAAAAHiJQAAAAAAAeIlAAAAAAAB4iUAAAAAAAHiJQAAAAAAAeIlAAAAAAAB4iUAAAAAAAHiJQAAAAAAAeIlAAAAAAAB4iUAAAAAAAHiJQA==",
          "dtype": "f8"
         }
        },
        {
         "fill": "tonexty",
         "fillcolor": "rgba(128,177,211,0.3)",
         "legendgroup": "objective value",
         "line": {
          "color": "rgba(128,177,211,1)"
         },
         "mode": "lines",
         "name": "objective value",
         "text": [
          "Parameterization has too many items to render on hover (12).",
          "Parameterization has too many items to render on hover (12).",
          "Parameterization has too many items to render on hover (12).",
          "Parameterization has too many items to render on hover (12).",
          "Parameterization has too many items to render on hover (12).",
          "Parameterization has too many items to render on hover (12).",
          "Parameterization has too many items to render on hover (12).",
          "Parameterization has too many items to render on hover (12).",
          "Parameterization has too many items to render on hover (12).",
          "Parameterization has too many items to render on hover (12).",
          "Parameterization has too many items to render on hover (12).",
          "Parameterization has too many items to render on hover (12).",
          "Parameterization has too many items to render on hover (12).",
          "Parameterization has too many items to render on hover (12).",
          "Parameterization has too many items to render on hover (12).",
          "Parameterization has too many items to render on hover (12).",
          "Parameterization has too many items to render on hover (12).",
          "Parameterization has too many items to render on hover (12).",
          "Parameterization has too many items to render on hover (12).",
          "Parameterization has too many items to render on hover (12).",
          "Parameterization has too many items to render on hover (12).",
          "Parameterization has too many items to render on hover (12).",
          "Parameterization has too many items to render on hover (12).",
          "Parameterization has too many items to render on hover (12).",
          "Parameterization has too many items to render on hover (12).",
          "Parameterization has too many items to render on hover (12).",
          "Parameterization has too many items to render on hover (12).",
          "Parameterization has too many items to render on hover (12).",
          "Parameterization has too many items to render on hover (12).",
          "Parameterization has too many items to render on hover (12).",
          "Parameterization has too many items to render on hover (12).",
          "Parameterization has too many items to render on hover (12).",
          "Parameterization has too many items to render on hover (12).",
          "Parameterization has too many items to render on hover (12).",
          "Parameterization has too many items to render on hover (12).",
          "Parameterization has too many items to render on hover (12).",
          "Parameterization has too many items to render on hover (12).",
          "Parameterization has too many items to render on hover (12).",
          "Parameterization has too many items to render on hover (12).",
          "Parameterization has too many items to render on hover (12).",
          "Parameterization has too many items to render on hover (12).",
          "Parameterization has too many items to render on hover (12).",
          "Parameterization has too many items to render on hover (12).",
          "Parameterization has too many items to render on hover (12).",
          "Parameterization has too many items to render on hover (12).",
          "Parameterization has too many items to render on hover (12).",
          "Parameterization has too many items to render on hover (12).",
          "Parameterization has too many items to render on hover (12).",
          "Parameterization has too many items to render on hover (12).",
          "Parameterization has too many items to render on hover (12).",
          "Parameterization has too many items to render on hover (12).",
          "Parameterization has too many items to render on hover (12).",
          "Parameterization has too many items to render on hover (12).",
          "Parameterization has too many items to render on hover (12).",
          "Parameterization has too many items to render on hover (12).",
          "Parameterization has too many items to render on hover (12).",
          "Parameterization has too many items to render on hover (12).",
          "Parameterization has too many items to render on hover (12).",
          "Parameterization has too many items to render on hover (12).",
          "Parameterization has too many items to render on hover (12).",
          "Parameterization has too many items to render on hover (12).",
          "Parameterization has too many items to render on hover (12).",
          "Parameterization has too many items to render on hover (12).",
          "Parameterization has too many items to render on hover (12).",
          "Parameterization has too many items to render on hover (12).",
          "Parameterization has too many items to render on hover (12).",
          "Parameterization has too many items to render on hover (12).",
          "Parameterization has too many items to render on hover (12).",
          "Parameterization has too many items to render on hover (12).",
          "Parameterization has too many items to render on hover (12).",
          "Parameterization has too many items to render on hover (12).",
          "Parameterization has too many items to render on hover (12).",
          "Parameterization has too many items to render on hover (12).",
          "Parameterization has too many items to render on hover (12).",
          "Parameterization has too many items to render on hover (12).",
          "Parameterization has too many items to render on hover (12).",
          "Parameterization has too many items to render on hover (12).",
          "Parameterization has too many items to render on hover (12).",
          "Parameterization has too many items to render on hover (12).",
          "Parameterization has too many items to render on hover (12).",
          "Parameterization has too many items to render on hover (12).",
          "Parameterization has too many items to render on hover (12).",
          "Parameterization has too many items to render on hover (12).",
          "Parameterization has too many items to render on hover (12).",
          "Parameterization has too many items to render on hover (12).",
          "Parameterization has too many items to render on hover (12).",
          "Parameterization has too many items to render on hover (12).",
          "Parameterization has too many items to render on hover (12).",
          "Parameterization has too many items to render on hover (12).",
          "Parameterization has too many items to render on hover (12).",
          "Parameterization has too many items to render on hover (12).",
          "Parameterization has too many items to render on hover (12).",
          "Parameterization has too many items to render on hover (12).",
          "Parameterization has too many items to render on hover (12).",
          "Parameterization has too many items to render on hover (12).",
          "Parameterization has too many items to render on hover (12).",
          "Parameterization has too many items to render on hover (12).",
          "Parameterization has too many items to render on hover (12).",
          "Parameterization has too many items to render on hover (12).",
          "Parameterization has too many items to render on hover (12).",
          "Parameterization has too many items to render on hover (12).",
          "Parameterization has too many items to render on hover (12).",
          "Parameterization has too many items to render on hover (12).",
          "Parameterization has too many items to render on hover (12).",
          "Parameterization has too many items to render on hover (12).",
          "Parameterization has too many items to render on hover (12).",
          "Parameterization has too many items to render on hover (12).",
          "Parameterization has too many items to render on hover (12).",
          "Parameterization has too many items to render on hover (12).",
          "Parameterization has too many items to render on hover (12).",
          "Parameterization has too many items to render on hover (12).",
          "Parameterization has too many items to render on hover (12).",
          "Parameterization has too many items to render on hover (12).",
          "Parameterization has too many items to render on hover (12).",
          "Parameterization has too many items to render on hover (12).",
          "Parameterization has too many items to render on hover (12).",
          "Parameterization has too many items to render on hover (12).",
          "Parameterization has too many items to render on hover (12).",
          "Parameterization has too many items to render on hover (12).",
          "Parameterization has too many items to render on hover (12).",
          "Parameterization has too many items to render on hover (12).",
          "Parameterization has too many items to render on hover (12).",
          "Parameterization has too many items to render on hover (12).",
          "Parameterization has too many items to render on hover (12).",
          "Parameterization has too many items to render on hover (12)."
         ],
         "type": "scatter",
         "x": {
          "bdata": "AQIDBAUGBwgJCgsMDQ4PEBESExQVFhcYGRobHB0eHyAhIiMkJSYnKCkqKywtLi8wMTIzNDU2Nzg5Ojs8PT4/QEFCQ0RFRkdISUpLTE1OT1BRUlNUVVZXWFlaW1xdXl9gYWJjZGVmZ2hpamtsbW5vcHFyc3R1dnd4eXp7fH0=",
          "dtype": "i1"
         },
         "y": {
          "bdata": "AAAAAABgcEAAAAAAAIB0QAAAAAAAgHRAAAAAAADQdkAAAAAAANB2QAAAAAAAoHtAAAAAAACge0AAAAAAAKB7QAAAAAAAoHtAAAAAAACge0AAAAAAAMB8QAAAAAAAwHxAAAAAAADgfEAAAAAAAOB8QAAAAAAA4HxAAAAAAADgfEAAAAAAAOB8QAAAAAAAsH9AAAAAAACwf0AAAAAAALB/QAAAAAAAsH9AAAAAAACwf0AAAAAAALB/QAAAAAAAsH9AAAAAAAC4hkAAAAAAACCIQAAAAAAAIIhAAAAAAABQiEAAAAAAAJCIQAAAAAAAkIhAAAAAAACQiEAAAAAAAJCIQAAAAAAAkIhAAAAAAACQiEAAAAAAAJCIQAAAAAAAkIhAAAAAAACQiEAAAAAAAJCIQAAAAAAAkIhAAAAAAAC4iEAAAAAAALiIQAAAAAAAuIhAAAAAAAC4iEAAAAAAALiIQAAAAAAAuIhAAAAAAAC4iEAAAAAAALiIQAAAAAAAuIhAAAAAAAC4iEAAAAAAALiIQAAAAAAAuIhAAAAAAAC4iEAAAAAAALiIQAAAAAAAuIhAAAAAAAC4iEAAAAAAALiIQAAAAAAAuIhAAAAAAAC4iEAAAAAAALiIQAAAAAAAuIhAAAAAAAC4iEAAAAAAALiIQAAAAAAAuIhAAAAAAAC4iEAAAAAAALiIQAAAAAAAuIhAAAAAAAC4iEAAAAAAALiIQAAAAAAAuIhAAAAAAAC4iEAAAAAAALiIQAAAAAAAuIhAAAAAAAC4iEAAAAAAALiIQAAAAAAAuIhAAAAAAAC4iEAAAAAAALiIQAAAAAAAuIhAAAAAAAC4iEAAAAAAALiIQAAAAAAAuIhAAAAAAAC4iEAAAAAAALiIQAAAAAAAuIhAAAAAAAC4iEAAAAAAALiIQAAAAAAAuIhAAAAAAAC4iEAAAAAAALiIQAAAAAAAuIhAAAAAAAC4iEAAAAAAALiIQAAAAAAAuIhAAAAAAAC4iEAAAAAAALiIQAAAAAAAeIlAAAAAAAB4iUAAAAAAAHiJQAAAAAAAeIlAAAAAAAB4iUAAAAAAAHiJQAAAAAAAeIlAAAAAAAB4iUAAAAAAAHiJQAAAAAAAeIlAAAAAAAB4iUAAAAAAAHiJQAAAAAAAeIlAAAAAAAB4iUAAAAAAAHiJQAAAAAAAeIlAAAAAAAB4iUAAAAAAAHiJQAAAAAAAeIlAAAAAAAB4iUAAAAAAAHiJQAAAAAAAeIlAAAAAAAB4iUAAAAAAAHiJQAAAAAAAeIlAAAAAAAB4iUAAAAAAAHiJQAAAAAAAeIlAAAAAAAB4iUAAAAAAAHiJQA==",
          "dtype": "f8"
         }
        },
        {
         "fill": "tonexty",
         "fillcolor": "rgba(128,177,211,0.3)",
         "hoverinfo": "none",
         "legendgroup": "",
         "line": {
          "width": 0
         },
         "mode": "lines",
         "showlegend": false,
         "type": "scatter",
         "x": {
          "bdata": "AQIDBAUGBwgJCgsMDQ4PEBESExQVFhcYGRobHB0eHyAhIiMkJSYnKCkqKywtLi8wMTIzNDU2Nzg5Ojs8PT4/QEFCQ0RFRkdISUpLTE1OT1BRUlNUVVZXWFlaW1xdXl9gYWJjZGVmZ2hpamtsbW5vcHFyc3R1dnd4eXp7fH0=",
          "dtype": "i1"
         },
         "y": {
          "bdata": "AAAAAABgcEAAAAAAAIB0QAAAAAAAgHRAAAAAAADQdkAAAAAAANB2QAAAAAAAoHtAAAAAAACge0AAAAAAAKB7QAAAAAAAoHtAAAAAAACge0AAAAAAAMB8QAAAAAAAwHxAAAAAAADgfEAAAAAAAOB8QAAAAAAA4HxAAAAAAADgfEAAAAAAAOB8QAAAAAAAsH9AAAAAAACwf0AAAAAAALB/QAAAAAAAsH9AAAAAAACwf0AAAAAAALB/QAAAAAAAsH9AAAAAAAC4hkAAAAAAACCIQAAAAAAAIIhAAAAAAABQiEAAAAAAAJCIQAAAAAAAkIhAAAAAAACQiEAAAAAAAJCIQAAAAAAAkIhAAAAAAACQiEAAAAAAAJCIQAAAAAAAkIhAAAAAAACQiEAAAAAAAJCIQAAAAAAAkIhAAAAAAAC4iEAAAAAAALiIQAAAAAAAuIhAAAAAAAC4iEAAAAAAALiIQAAAAAAAuIhAAAAAAAC4iEAAAAAAALiIQAAAAAAAuIhAAAAAAAC4iEAAAAAAALiIQAAAAAAAuIhAAAAAAAC4iEAAAAAAALiIQAAAAAAAuIhAAAAAAAC4iEAAAAAAALiIQAAAAAAAuIhAAAAAAAC4iEAAAAAAALiIQAAAAAAAuIhAAAAAAAC4iEAAAAAAALiIQAAAAAAAuIhAAAAAAAC4iEAAAAAAALiIQAAAAAAAuIhAAAAAAAC4iEAAAAAAALiIQAAAAAAAuIhAAAAAAAC4iEAAAAAAALiIQAAAAAAAuIhAAAAAAAC4iEAAAAAAALiIQAAAAAAAuIhAAAAAAAC4iEAAAAAAALiIQAAAAAAAuIhAAAAAAAC4iEAAAAAAALiIQAAAAAAAuIhAAAAAAAC4iEAAAAAAALiIQAAAAAAAuIhAAAAAAAC4iEAAAAAAALiIQAAAAAAAuIhAAAAAAAC4iEAAAAAAALiIQAAAAAAAuIhAAAAAAAC4iEAAAAAAALiIQAAAAAAAuIhAAAAAAAC4iEAAAAAAALiIQAAAAAAAeIlAAAAAAAB4iUAAAAAAAHiJQAAAAAAAeIlAAAAAAAB4iUAAAAAAAHiJQAAAAAAAeIlAAAAAAAB4iUAAAAAAAHiJQAAAAAAAeIlAAAAAAAB4iUAAAAAAAHiJQAAAAAAAeIlAAAAAAAB4iUAAAAAAAHiJQAAAAAAAeIlAAAAAAAB4iUAAAAAAAHiJQAAAAAAAeIlAAAAAAAB4iUAAAAAAAHiJQAAAAAAAeIlAAAAAAAB4iUAAAAAAAHiJQAAAAAAAeIlAAAAAAAB4iUAAAAAAAHiJQAAAAAAAeIlAAAAAAAB4iUAAAAAAAHiJQA==",
          "dtype": "f8"
         }
        }
       ],
       "layout": {
        "showlegend": true,
        "template": {
         "data": {
          "bar": [
           {
            "error_x": {
             "color": "#2a3f5f"
            },
            "error_y": {
             "color": "#2a3f5f"
            },
            "marker": {
             "line": {
              "color": "#E5ECF6",
              "width": 0.5
             },
             "pattern": {
              "fillmode": "overlay",
              "size": 10,
              "solidity": 0.2
             }
            },
            "type": "bar"
           }
          ],
          "barpolar": [
           {
            "marker": {
             "line": {
              "color": "#E5ECF6",
              "width": 0.5
             },
             "pattern": {
              "fillmode": "overlay",
              "size": 10,
              "solidity": 0.2
             }
            },
            "type": "barpolar"
           }
          ],
          "carpet": [
           {
            "aaxis": {
             "endlinecolor": "#2a3f5f",
             "gridcolor": "white",
             "linecolor": "white",
             "minorgridcolor": "white",
             "startlinecolor": "#2a3f5f"
            },
            "baxis": {
             "endlinecolor": "#2a3f5f",
             "gridcolor": "white",
             "linecolor": "white",
             "minorgridcolor": "white",
             "startlinecolor": "#2a3f5f"
            },
            "type": "carpet"
           }
          ],
          "choropleth": [
           {
            "colorbar": {
             "outlinewidth": 0,
             "ticks": ""
            },
            "type": "choropleth"
           }
          ],
          "contour": [
           {
            "colorbar": {
             "outlinewidth": 0,
             "ticks": ""
            },
            "colorscale": [
             [
              0,
              "#0d0887"
             ],
             [
              0.1111111111111111,
              "#46039f"
             ],
             [
              0.2222222222222222,
              "#7201a8"
             ],
             [
              0.3333333333333333,
              "#9c179e"
             ],
             [
              0.4444444444444444,
              "#bd3786"
             ],
             [
              0.5555555555555556,
              "#d8576b"
             ],
             [
              0.6666666666666666,
              "#ed7953"
             ],
             [
              0.7777777777777778,
              "#fb9f3a"
             ],
             [
              0.8888888888888888,
              "#fdca26"
             ],
             [
              1,
              "#f0f921"
             ]
            ],
            "type": "contour"
           }
          ],
          "contourcarpet": [
           {
            "colorbar": {
             "outlinewidth": 0,
             "ticks": ""
            },
            "type": "contourcarpet"
           }
          ],
          "heatmap": [
           {
            "colorbar": {
             "outlinewidth": 0,
             "ticks": ""
            },
            "colorscale": [
             [
              0,
              "#0d0887"
             ],
             [
              0.1111111111111111,
              "#46039f"
             ],
             [
              0.2222222222222222,
              "#7201a8"
             ],
             [
              0.3333333333333333,
              "#9c179e"
             ],
             [
              0.4444444444444444,
              "#bd3786"
             ],
             [
              0.5555555555555556,
              "#d8576b"
             ],
             [
              0.6666666666666666,
              "#ed7953"
             ],
             [
              0.7777777777777778,
              "#fb9f3a"
             ],
             [
              0.8888888888888888,
              "#fdca26"
             ],
             [
              1,
              "#f0f921"
             ]
            ],
            "type": "heatmap"
           }
          ],
          "histogram": [
           {
            "marker": {
             "pattern": {
              "fillmode": "overlay",
              "size": 10,
              "solidity": 0.2
             }
            },
            "type": "histogram"
           }
          ],
          "histogram2d": [
           {
            "colorbar": {
             "outlinewidth": 0,
             "ticks": ""
            },
            "colorscale": [
             [
              0,
              "#0d0887"
             ],
             [
              0.1111111111111111,
              "#46039f"
             ],
             [
              0.2222222222222222,
              "#7201a8"
             ],
             [
              0.3333333333333333,
              "#9c179e"
             ],
             [
              0.4444444444444444,
              "#bd3786"
             ],
             [
              0.5555555555555556,
              "#d8576b"
             ],
             [
              0.6666666666666666,
              "#ed7953"
             ],
             [
              0.7777777777777778,
              "#fb9f3a"
             ],
             [
              0.8888888888888888,
              "#fdca26"
             ],
             [
              1,
              "#f0f921"
             ]
            ],
            "type": "histogram2d"
           }
          ],
          "histogram2dcontour": [
           {
            "colorbar": {
             "outlinewidth": 0,
             "ticks": ""
            },
            "colorscale": [
             [
              0,
              "#0d0887"
             ],
             [
              0.1111111111111111,
              "#46039f"
             ],
             [
              0.2222222222222222,
              "#7201a8"
             ],
             [
              0.3333333333333333,
              "#9c179e"
             ],
             [
              0.4444444444444444,
              "#bd3786"
             ],
             [
              0.5555555555555556,
              "#d8576b"
             ],
             [
              0.6666666666666666,
              "#ed7953"
             ],
             [
              0.7777777777777778,
              "#fb9f3a"
             ],
             [
              0.8888888888888888,
              "#fdca26"
             ],
             [
              1,
              "#f0f921"
             ]
            ],
            "type": "histogram2dcontour"
           }
          ],
          "mesh3d": [
           {
            "colorbar": {
             "outlinewidth": 0,
             "ticks": ""
            },
            "type": "mesh3d"
           }
          ],
          "parcoords": [
           {
            "line": {
             "colorbar": {
              "outlinewidth": 0,
              "ticks": ""
             }
            },
            "type": "parcoords"
           }
          ],
          "pie": [
           {
            "automargin": true,
            "type": "pie"
           }
          ],
          "scatter": [
           {
            "fillpattern": {
             "fillmode": "overlay",
             "size": 10,
             "solidity": 0.2
            },
            "type": "scatter"
           }
          ],
          "scatter3d": [
           {
            "line": {
             "colorbar": {
              "outlinewidth": 0,
              "ticks": ""
             }
            },
            "marker": {
             "colorbar": {
              "outlinewidth": 0,
              "ticks": ""
             }
            },
            "type": "scatter3d"
           }
          ],
          "scattercarpet": [
           {
            "marker": {
             "colorbar": {
              "outlinewidth": 0,
              "ticks": ""
             }
            },
            "type": "scattercarpet"
           }
          ],
          "scattergeo": [
           {
            "marker": {
             "colorbar": {
              "outlinewidth": 0,
              "ticks": ""
             }
            },
            "type": "scattergeo"
           }
          ],
          "scattergl": [
           {
            "marker": {
             "colorbar": {
              "outlinewidth": 0,
              "ticks": ""
             }
            },
            "type": "scattergl"
           }
          ],
          "scattermap": [
           {
            "marker": {
             "colorbar": {
              "outlinewidth": 0,
              "ticks": ""
             }
            },
            "type": "scattermap"
           }
          ],
          "scattermapbox": [
           {
            "marker": {
             "colorbar": {
              "outlinewidth": 0,
              "ticks": ""
             }
            },
            "type": "scattermapbox"
           }
          ],
          "scatterpolar": [
           {
            "marker": {
             "colorbar": {
              "outlinewidth": 0,
              "ticks": ""
             }
            },
            "type": "scatterpolar"
           }
          ],
          "scatterpolargl": [
           {
            "marker": {
             "colorbar": {
              "outlinewidth": 0,
              "ticks": ""
             }
            },
            "type": "scatterpolargl"
           }
          ],
          "scatterternary": [
           {
            "marker": {
             "colorbar": {
              "outlinewidth": 0,
              "ticks": ""
             }
            },
            "type": "scatterternary"
           }
          ],
          "surface": [
           {
            "colorbar": {
             "outlinewidth": 0,
             "ticks": ""
            },
            "colorscale": [
             [
              0,
              "#0d0887"
             ],
             [
              0.1111111111111111,
              "#46039f"
             ],
             [
              0.2222222222222222,
              "#7201a8"
             ],
             [
              0.3333333333333333,
              "#9c179e"
             ],
             [
              0.4444444444444444,
              "#bd3786"
             ],
             [
              0.5555555555555556,
              "#d8576b"
             ],
             [
              0.6666666666666666,
              "#ed7953"
             ],
             [
              0.7777777777777778,
              "#fb9f3a"
             ],
             [
              0.8888888888888888,
              "#fdca26"
             ],
             [
              1,
              "#f0f921"
             ]
            ],
            "type": "surface"
           }
          ],
          "table": [
           {
            "cells": {
             "fill": {
              "color": "#EBF0F8"
             },
             "line": {
              "color": "white"
             }
            },
            "header": {
             "fill": {
              "color": "#C8D4E3"
             },
             "line": {
              "color": "white"
             }
            },
            "type": "table"
           }
          ]
         },
         "layout": {
          "annotationdefaults": {
           "arrowcolor": "#2a3f5f",
           "arrowhead": 0,
           "arrowwidth": 1
          },
          "autotypenumbers": "strict",
          "coloraxis": {
           "colorbar": {
            "outlinewidth": 0,
            "ticks": ""
           }
          },
          "colorscale": {
           "diverging": [
            [
             0,
             "#8e0152"
            ],
            [
             0.1,
             "#c51b7d"
            ],
            [
             0.2,
             "#de77ae"
            ],
            [
             0.3,
             "#f1b6da"
            ],
            [
             0.4,
             "#fde0ef"
            ],
            [
             0.5,
             "#f7f7f7"
            ],
            [
             0.6,
             "#e6f5d0"
            ],
            [
             0.7,
             "#b8e186"
            ],
            [
             0.8,
             "#7fbc41"
            ],
            [
             0.9,
             "#4d9221"
            ],
            [
             1,
             "#276419"
            ]
           ],
           "sequential": [
            [
             0,
             "#0d0887"
            ],
            [
             0.1111111111111111,
             "#46039f"
            ],
            [
             0.2222222222222222,
             "#7201a8"
            ],
            [
             0.3333333333333333,
             "#9c179e"
            ],
            [
             0.4444444444444444,
             "#bd3786"
            ],
            [
             0.5555555555555556,
             "#d8576b"
            ],
            [
             0.6666666666666666,
             "#ed7953"
            ],
            [
             0.7777777777777778,
             "#fb9f3a"
            ],
            [
             0.8888888888888888,
             "#fdca26"
            ],
            [
             1,
             "#f0f921"
            ]
           ],
           "sequentialminus": [
            [
             0,
             "#0d0887"
            ],
            [
             0.1111111111111111,
             "#46039f"
            ],
            [
             0.2222222222222222,
             "#7201a8"
            ],
            [
             0.3333333333333333,
             "#9c179e"
            ],
            [
             0.4444444444444444,
             "#bd3786"
            ],
            [
             0.5555555555555556,
             "#d8576b"
            ],
            [
             0.6666666666666666,
             "#ed7953"
            ],
            [
             0.7777777777777778,
             "#fb9f3a"
            ],
            [
             0.8888888888888888,
             "#fdca26"
            ],
            [
             1,
             "#f0f921"
            ]
           ]
          },
          "colorway": [
           "#636efa",
           "#EF553B",
           "#00cc96",
           "#ab63fa",
           "#FFA15A",
           "#19d3f3",
           "#FF6692",
           "#B6E880",
           "#FF97FF",
           "#FECB52"
          ],
          "font": {
           "color": "#2a3f5f"
          },
          "geo": {
           "bgcolor": "white",
           "lakecolor": "white",
           "landcolor": "#E5ECF6",
           "showlakes": true,
           "showland": true,
           "subunitcolor": "white"
          },
          "hoverlabel": {
           "align": "left"
          },
          "hovermode": "closest",
          "mapbox": {
           "style": "light"
          },
          "paper_bgcolor": "white",
          "plot_bgcolor": "#E5ECF6",
          "polar": {
           "angularaxis": {
            "gridcolor": "white",
            "linecolor": "white",
            "ticks": ""
           },
           "bgcolor": "#E5ECF6",
           "radialaxis": {
            "gridcolor": "white",
            "linecolor": "white",
            "ticks": ""
           }
          },
          "scene": {
           "xaxis": {
            "backgroundcolor": "#E5ECF6",
            "gridcolor": "white",
            "gridwidth": 2,
            "linecolor": "white",
            "showbackground": true,
            "ticks": "",
            "zerolinecolor": "white"
           },
           "yaxis": {
            "backgroundcolor": "#E5ECF6",
            "gridcolor": "white",
            "gridwidth": 2,
            "linecolor": "white",
            "showbackground": true,
            "ticks": "",
            "zerolinecolor": "white"
           },
           "zaxis": {
            "backgroundcolor": "#E5ECF6",
            "gridcolor": "white",
            "gridwidth": 2,
            "linecolor": "white",
            "showbackground": true,
            "ticks": "",
            "zerolinecolor": "white"
           }
          },
          "shapedefaults": {
           "line": {
            "color": "#2a3f5f"
           }
          },
          "ternary": {
           "aaxis": {
            "gridcolor": "white",
            "linecolor": "white",
            "ticks": ""
           },
           "baxis": {
            "gridcolor": "white",
            "linecolor": "white",
            "ticks": ""
           },
           "bgcolor": "#E5ECF6",
           "caxis": {
            "gridcolor": "white",
            "linecolor": "white",
            "ticks": ""
           }
          },
          "title": {
           "x": 0.05
          },
          "xaxis": {
           "automargin": true,
           "gridcolor": "white",
           "linecolor": "white",
           "ticks": "",
           "title": {
            "standoff": 15
           },
           "zerolinecolor": "white",
           "zerolinewidth": 2
          },
          "yaxis": {
           "automargin": true,
           "gridcolor": "white",
           "linecolor": "white",
           "ticks": "",
           "title": {
            "standoff": 15
           },
           "zerolinecolor": "white",
           "zerolinewidth": 2
          }
         }
        },
        "title": {
         "text": "Best objective found vs. # of iterations"
        },
        "xaxis": {
         "title": {
          "text": "Iteration"
         }
        },
        "yaxis": {
         "title": {
          "text": "Viable_cross_terms"
         }
        }
       }
      }
     },
     "metadata": {},
     "output_type": "display_data"
    }
   ],
   "source": [
    "render(Tag_client.get_optimization_trace())"
   ]
  },
  {
   "cell_type": "code",
   "execution_count": 27,
   "metadata": {},
   "outputs": [
    {
     "name": "stderr",
     "output_type": "stream",
     "text": [
      "[INFO 04-05 14:15:58] ax.service.ax_client: Generated new trial 147 with parameters {'z_sh': 8, 'z_sh_1': 10, 'z_sh_2': 5, 'z_p2': 33, 'z_p2_1': 31, 'z_p2_2': 31, 'z_r2': 80, 'z_r2_1': 85, 'z_r2_2': 82, 'x_s': 0.5, 'x_s_1': 0.4, 'x_s_2': 0.3, 'x_p1': 0.629718, 'x_p1_1': 0.529718, 'x_p1_2': 0.429718, 'x_p2': 0.410605, 'x_p2_1': 0.310605, 'x_p2_2': 0.210605, 'x_r2': 0.981954, 'x_r2_1': 0.881954, 'x_r2_2': 0.781954} using model BoTorch.\n",
      "[INFO 04-05 14:15:58] ax.service.ax_client: Completed trial 147 with data: {'Viable_Cross_Terms': (85, None)}.\n",
      "[INFO 04-05 14:16:17] ax.service.ax_client: Generated new trial 148 with parameters {'z_sh': 12, 'z_sh_1': 12, 'z_sh_2': 6, 'z_p2': 34, 'z_p2_1': 30, 'z_p2_2': 25, 'z_r2': 86, 'z_r2_1': 76, 'z_r2_2': 83, 'x_s': 0.5, 'x_s_1': 0.4, 'x_s_2': 0.3, 'x_p1': 0.869118, 'x_p1_1': 0.769118, 'x_p1_2': 0.669118, 'x_p2': 0.390927, 'x_p2_1': 0.290927, 'x_p2_2': 0.190927, 'x_r2': 0.794506, 'x_r2_1': 0.694506, 'x_r2_2': 0.594506} using model BoTorch.\n",
      "[INFO 04-05 14:16:17] ax.service.ax_client: Completed trial 148 with data: {'Viable_Cross_Terms': (5, None)}.\n",
      "[INFO 04-05 14:16:35] ax.service.ax_client: Generated new trial 149 with parameters {'z_sh': 13, 'z_sh_1': 13, 'z_sh_2': 5, 'z_p2': 35, 'z_p2_1': 27, 'z_p2_2': 31, 'z_r2': 75, 'z_r2_1': 73, 'z_r2_2': 84, 'x_s': 0.5, 'x_s_1': 0.4, 'x_s_2': 0.3, 'x_p1': 0.549826, 'x_p1_1': 0.449826, 'x_p1_2': 0.349826, 'x_p2': 0.5, 'x_p2_1': 0.4, 'x_p2_2': 0.3, 'x_r2': 1.009526, 'x_r2_1': 0.909526, 'x_r2_2': 0.809526} using model BoTorch.\n",
      "[INFO 04-05 14:16:35] ax.service.ax_client: Completed trial 149 with data: {'Viable_Cross_Terms': (35, None)}.\n",
      "[INFO 04-05 14:16:54] ax.service.ax_client: Generated new trial 150 with parameters {'z_sh': 9, 'z_sh_1': 7, 'z_sh_2': 5, 'z_p2': 35, 'z_p2_1': 29, 'z_p2_2': 30, 'z_r2': 79, 'z_r2_1': 72, 'z_r2_2': 82, 'x_s': 0.5, 'x_s_1': 0.4, 'x_s_2': 0.3, 'x_p1': 0.601579, 'x_p1_1': 0.501579, 'x_p1_2': 0.401579, 'x_p2': 0.5, 'x_p2_1': 0.4, 'x_p2_2': 0.3, 'x_r2': 1.000205, 'x_r2_1': 0.900205, 'x_r2_2': 0.800205} using model BoTorch.\n",
      "[INFO 04-05 14:16:54] ax.service.ax_client: Completed trial 150 with data: {'Viable_Cross_Terms': (36, None)}.\n",
      "[INFO 04-05 14:17:10] ax.service.ax_client: Generated new trial 151 with parameters {'z_sh': 8, 'z_sh_1': 12, 'z_sh_2': 7, 'z_p2': 31, 'z_p2_1': 31, 'z_p2_2': 30, 'z_r2': 84, 'z_r2_1': 74, 'z_r2_2': 78, 'x_s': 0.5, 'x_s_1': 0.4, 'x_s_2': 0.3, 'x_p1': 0.645962, 'x_p1_1': 0.545962, 'x_p1_2': 0.445962, 'x_p2': 0.478155, 'x_p2_1': 0.378155, 'x_p2_2': 0.278155, 'x_r2': 0.962785, 'x_r2_1': 0.862785, 'x_r2_2': 0.762785} using model BoTorch.\n",
      "[INFO 04-05 14:17:10] ax.service.ax_client: Completed trial 151 with data: {'Viable_Cross_Terms': (39, None)}.\n",
      "[INFO 04-05 14:17:28] ax.service.ax_client: Generated new trial 152 with parameters {'z_sh': 9, 'z_sh_1': 7, 'z_sh_2': 7, 'z_p2': 31, 'z_p2_1': 28, 'z_p2_2': 33, 'z_r2': 79, 'z_r2_1': 80, 'z_r2_2': 83, 'x_s': 0.5, 'x_s_1': 0.4, 'x_s_2': 0.3, 'x_p1': 0.592593, 'x_p1_1': 0.492593, 'x_p1_2': 0.392593, 'x_p2': 0.5, 'x_p2_1': 0.4, 'x_p2_2': 0.3, 'x_r2': 0.962333, 'x_r2_1': 0.862333, 'x_r2_2': 0.762333} using model BoTorch.\n",
      "[INFO 04-05 14:17:28] ax.service.ax_client: Completed trial 152 with data: {'Viable_Cross_Terms': (44, None)}.\n",
      "[INFO 04-05 14:17:46] ax.service.ax_client: Generated new trial 153 with parameters {'z_sh': 13, 'z_sh_1': 7, 'z_sh_2': 5, 'z_p2': 33, 'z_p2_1': 34, 'z_p2_2': 33, 'z_r2': 86, 'z_r2_1': 85, 'z_r2_2': 81, 'x_s': 0.5, 'x_s_1': -0.4, 'x_s_2': -0.5, 'x_p1': -0.262944, 'x_p1_1': -0.362944, 'x_p1_2': -0.462944, 'x_p2': 0.5, 'x_p2_1': 0.4, 'x_p2_2': -0.5, 'x_r2': -0.474931, 'x_r2_1': -1.289167, 'x_r2_2': -1.415193} using model BoTorch.\n",
      "[INFO 04-05 14:17:46] ax.service.ax_client: Completed trial 153 with data: {'Viable_Cross_Terms': (1, None)}.\n",
      "[INFO 04-05 14:18:03] ax.service.ax_client: Generated new trial 154 with parameters {'z_sh': 15, 'z_sh_1': 7, 'z_sh_2': 7, 'z_p2': 30, 'z_p2_1': 28, 'z_p2_2': 29, 'z_r2': 82, 'z_r2_1': 78, 'z_r2_2': 72, 'x_s': 0.5, 'x_s_1': 0.4, 'x_s_2': 0.3, 'x_p1': 0.58914, 'x_p1_1': 0.48914, 'x_p1_2': 0.38914, 'x_p2': 0.5, 'x_p2_1': 0.4, 'x_p2_2': 0.3, 'x_r2': 0.949401, 'x_r2_1': 0.849401, 'x_r2_2': 0.749401} using model BoTorch.\n",
      "[INFO 04-05 14:18:03] ax.service.ax_client: Completed trial 154 with data: {'Viable_Cross_Terms': (39, None)}.\n",
      "[INFO 04-05 14:18:21] ax.service.ax_client: Generated new trial 155 with parameters {'z_sh': 7, 'z_sh_1': 6, 'z_sh_2': 5, 'z_p2': 32, 'z_p2_1': 30, 'z_p2_2': 30, 'z_r2': 77, 'z_r2_1': 75, 'z_r2_2': 82, 'x_s': 0.5, 'x_s_1': 0.4, 'x_s_2': 0.3, 'x_p1': 0.626072, 'x_p1_1': 0.526072, 'x_p1_2': 0.426072, 'x_p2': 0.5, 'x_p2_1': 0.4, 'x_p2_2': 0.3, 'x_r2': 0.967713, 'x_r2_1': 0.867713, 'x_r2_2': 0.767713} using model BoTorch.\n",
      "[INFO 04-05 14:18:21] ax.service.ax_client: Completed trial 155 with data: {'Viable_Cross_Terms': (39, None)}.\n",
      "[INFO 04-05 14:18:39] ax.service.ax_client: Generated new trial 156 with parameters {'z_sh': 8, 'z_sh_1': 10, 'z_sh_2': 5, 'z_p2': 27, 'z_p2_1': 32, 'z_p2_2': 27, 'z_r2': 83, 'z_r2_1': 75, 'z_r2_2': 81, 'x_s': 0.5, 'x_s_1': 0.4, 'x_s_2': 0.3, 'x_p1': 0.689221, 'x_p1_1': 0.589221, 'x_p1_2': 0.489221, 'x_p2': 0.413586, 'x_p2_1': 0.313586, 'x_p2_2': 0.213586, 'x_r2': 0.95442, 'x_r2_1': 0.85442, 'x_r2_2': 0.75442} using model BoTorch.\n",
      "[INFO 04-05 14:18:39] ax.service.ax_client: Completed trial 156 with data: {'Viable_Cross_Terms': (33, None)}.\n",
      "[INFO 04-05 14:18:56] ax.service.ax_client: Generated new trial 157 with parameters {'z_sh': 7, 'z_sh_1': 12, 'z_sh_2': 9, 'z_p2': 30, 'z_p2_1': 33, 'z_p2_2': 26, 'z_r2': 72, 'z_r2_1': 83, 'z_r2_2': 81, 'x_s': 0.5, 'x_s_1': 0.4, 'x_s_2': -0.5, 'x_p1': 0.625783, 'x_p1_1': 0.525783, 'x_p1_2': 0.425783, 'x_p2': -0.3, 'x_p2_1': -0.4, 'x_p2_2': -0.5, 'x_r2': 0.933614, 'x_r2_1': 0.833614, 'x_r2_2': -1.5} using model BoTorch.\n",
      "[INFO 04-05 14:18:56] ax.service.ax_client: Completed trial 157 with data: {'Viable_Cross_Terms': (2, None)}.\n",
      "[INFO 04-05 14:19:14] ax.service.ax_client: Generated new trial 158 with parameters {'z_sh': 10, 'z_sh_1': 10, 'z_sh_2': 5, 'z_p2': 28, 'z_p2_1': 28, 'z_p2_2': 31, 'z_r2': 81, 'z_r2_1': 73, 'z_r2_2': 79, 'x_s': 0.5, 'x_s_1': 0.4, 'x_s_2': 0.3, 'x_p1': 0.641011, 'x_p1_1': 0.541011, 'x_p1_2': 0.441011, 'x_p2': 0.48663, 'x_p2_1': 0.38663, 'x_p2_2': 0.28663, 'x_r2': 0.958426, 'x_r2_1': 0.858426, 'x_r2_2': 0.758426} using model BoTorch.\n",
      "[INFO 04-05 14:19:14] ax.service.ax_client: Completed trial 158 with data: {'Viable_Cross_Terms': (32, None)}.\n",
      "[INFO 04-05 14:19:30] ax.service.ax_client: Generated new trial 159 with parameters {'z_sh': 12, 'z_sh_1': 8, 'z_sh_2': 5, 'z_p2': 35, 'z_p2_1': 33, 'z_p2_2': 33, 'z_r2': 78, 'z_r2_1': 79, 'z_r2_2': 77, 'x_s': 0.5, 'x_s_1': 0.4, 'x_s_2': 0.3, 'x_p1': 0.627836, 'x_p1_1': 0.527836, 'x_p1_2': 0.427836, 'x_p2': 0.5, 'x_p2_1': 0.4, 'x_p2_2': 0.3, 'x_r2': 0.982519, 'x_r2_1': 0.882519, 'x_r2_2': 0.782519} using model BoTorch.\n",
      "[INFO 04-05 14:19:30] ax.service.ax_client: Completed trial 159 with data: {'Viable_Cross_Terms': (35, None)}.\n",
      "[INFO 04-05 14:19:46] ax.service.ax_client: Generated new trial 160 with parameters {'z_sh': 7, 'z_sh_1': 11, 'z_sh_2': 9, 'z_p2': 30, 'z_p2_1': 28, 'z_p2_2': 27, 'z_r2': 85, 'z_r2_1': 74, 'z_r2_2': 75, 'x_s': 0.5, 'x_s_1': 0.4, 'x_s_2': 0.3, 'x_p1': 0.681174, 'x_p1_1': 0.581174, 'x_p1_2': 0.481174, 'x_p2': 0.491694, 'x_p2_1': 0.391694, 'x_p2_2': 0.291694, 'x_r2': 0.957533, 'x_r2_1': 0.857533, 'x_r2_2': 0.757533} using model BoTorch.\n",
      "[INFO 04-05 14:19:46] ax.service.ax_client: Completed trial 160 with data: {'Viable_Cross_Terms': (31, None)}.\n",
      "[INFO 04-05 14:20:05] ax.service.ax_client: Generated new trial 161 with parameters {'z_sh': 7, 'z_sh_1': 13, 'z_sh_2': 5, 'z_p2': 27, 'z_p2_1': 33, 'z_p2_2': 27, 'z_r2': 81, 'z_r2_1': 76, 'z_r2_2': 80, 'x_s': 0.5, 'x_s_1': 0.4, 'x_s_2': 0.3, 'x_p1': 0.690633, 'x_p1_1': 0.590633, 'x_p1_2': 0.490633, 'x_p2': 0.442997, 'x_p2_1': 0.342997, 'x_p2_2': 0.242997, 'x_r2': 0.954319, 'x_r2_1': 0.854319, 'x_r2_2': 0.754319} using model BoTorch.\n",
      "[INFO 04-05 14:20:05] ax.service.ax_client: Completed trial 161 with data: {'Viable_Cross_Terms': (74, None)}.\n",
      "[INFO 04-05 14:20:22] ax.service.ax_client: Generated new trial 162 with parameters {'z_sh': 8, 'z_sh_1': 11, 'z_sh_2': 5, 'z_p2': 34, 'z_p2_1': 28, 'z_p2_2': 29, 'z_r2': 81, 'z_r2_1': 75, 'z_r2_2': 74, 'x_s': 0.5, 'x_s_1': 0.4, 'x_s_2': 0.3, 'x_p1': 0.647041, 'x_p1_1': 0.547041, 'x_p1_2': 0.447041, 'x_p2': 0.5, 'x_p2_1': 0.4, 'x_p2_2': 0.3, 'x_r2': 0.978548, 'x_r2_1': 0.878548, 'x_r2_2': 0.778548} using model BoTorch.\n",
      "[INFO 04-05 14:20:22] ax.service.ax_client: Completed trial 162 with data: {'Viable_Cross_Terms': (35, None)}.\n",
      "[INFO 04-05 14:20:38] ax.service.ax_client: Generated new trial 163 with parameters {'z_sh': 10, 'z_sh_1': 13, 'z_sh_2': 5, 'z_p2': 28, 'z_p2_1': 30, 'z_p2_2': 28, 'z_r2': 82, 'z_r2_1': 77, 'z_r2_2': 72, 'x_s': 0.5, 'x_s_1': 0.4, 'x_s_2': 0.3, 'x_p1': 0.640029, 'x_p1_1': 0.540029, 'x_p1_2': 0.440029, 'x_p2': 0.5, 'x_p2_1': 0.4, 'x_p2_2': 0.3, 'x_r2': 0.975698, 'x_r2_1': 0.875698, 'x_r2_2': 0.775698} using model BoTorch.\n",
      "[INFO 04-05 14:20:38] ax.service.ax_client: Completed trial 163 with data: {'Viable_Cross_Terms': (35, None)}.\n",
      "[INFO 04-05 14:20:55] ax.service.ax_client: Generated new trial 164 with parameters {'z_sh': 7, 'z_sh_1': 8, 'z_sh_2': 5, 'z_p2': 27, 'z_p2_1': 26, 'z_p2_2': 33, 'z_r2': 80, 'z_r2_1': 75, 'z_r2_2': 79, 'x_s': 0.5, 'x_s_1': 0.4, 'x_s_2': 0.3, 'x_p1': 0.662097, 'x_p1_1': 0.562097, 'x_p1_2': 0.462097, 'x_p2': 0.494023, 'x_p2_1': 0.394023, 'x_p2_2': 0.294023, 'x_r2': 0.970221, 'x_r2_1': 0.870221, 'x_r2_2': 0.770221} using model BoTorch.\n",
      "[INFO 04-05 14:20:55] ax.service.ax_client: Completed trial 164 with data: {'Viable_Cross_Terms': (72, None)}.\n",
      "[INFO 04-05 14:21:12] ax.service.ax_client: Generated new trial 165 with parameters {'z_sh': 9, 'z_sh_1': 6, 'z_sh_2': 5, 'z_p2': 27, 'z_p2_1': 26, 'z_p2_2': 30, 'z_r2': 79, 'z_r2_1': 76, 'z_r2_2': 72, 'x_s': 0.5, 'x_s_1': 0.4, 'x_s_2': 0.3, 'x_p1': 0.635914, 'x_p1_1': 0.535914, 'x_p1_2': 0.435914, 'x_p2': 0.5, 'x_p2_1': 0.4, 'x_p2_2': 0.3, 'x_r2': 0.974075, 'x_r2_1': 0.874075, 'x_r2_2': 0.774075} using model BoTorch.\n",
      "[INFO 04-05 14:21:12] ax.service.ax_client: Completed trial 165 with data: {'Viable_Cross_Terms': (35, None)}.\n",
      "[INFO 04-05 14:21:28] ax.service.ax_client: Generated new trial 166 with parameters {'z_sh': 7, 'z_sh_1': 6, 'z_sh_2': 5, 'z_p2': 31, 'z_p2_1': 31, 'z_p2_2': 33, 'z_r2': 80, 'z_r2_1': 83, 'z_r2_2': 79, 'x_s': 0.5, 'x_s_1': 0.4, 'x_s_2': 0.3, 'x_p1': 0.651619, 'x_p1_1': 0.551619, 'x_p1_2': 0.451619, 'x_p2': 0.5, 'x_p2_1': 0.4, 'x_p2_2': 0.3, 'x_r2': 0.969642, 'x_r2_1': 0.869642, 'x_r2_2': 0.769642} using model BoTorch.\n",
      "[INFO 04-05 14:21:28] ax.service.ax_client: Completed trial 166 with data: {'Viable_Cross_Terms': (76, None)}.\n",
      "[INFO 04-05 14:21:45] ax.service.ax_client: Generated new trial 167 with parameters {'z_sh': 9, 'z_sh_1': 10, 'z_sh_2': 5, 'z_p2': 27, 'z_p2_1': 33, 'z_p2_2': 30, 'z_r2': 81, 'z_r2_1': 82, 'z_r2_2': 70, 'x_s': 0.5, 'x_s_1': 0.4, 'x_s_2': 0.3, 'x_p1': 0.642537, 'x_p1_1': 0.542537, 'x_p1_2': 0.442537, 'x_p2': 0.5, 'x_p2_1': 0.4, 'x_p2_2': 0.3, 'x_r2': 0.96974, 'x_r2_1': 0.86974, 'x_r2_2': 0.76974} using model BoTorch.\n",
      "[INFO 04-05 14:21:45] ax.service.ax_client: Completed trial 167 with data: {'Viable_Cross_Terms': (32, None)}.\n",
      "[INFO 04-05 14:22:02] ax.service.ax_client: Generated new trial 168 with parameters {'z_sh': 7, 'z_sh_1': 11, 'z_sh_2': 5, 'z_p2': 31, 'z_p2_1': 32, 'z_p2_2': 29, 'z_r2': 76, 'z_r2_1': 78, 'z_r2_2': 77, 'x_s': 0.5, 'x_s_1': 0.4, 'x_s_2': 0.3, 'x_p1': 0.641498, 'x_p1_1': 0.541498, 'x_p1_2': 0.441498, 'x_p2': 0.5, 'x_p2_1': 0.4, 'x_p2_2': 0.3, 'x_r2': 0.972309, 'x_r2_1': 0.872309, 'x_r2_2': 0.772309} using model BoTorch.\n",
      "[INFO 04-05 14:22:02] ax.service.ax_client: Completed trial 168 with data: {'Viable_Cross_Terms': (38, None)}.\n",
      "[INFO 04-05 14:22:19] ax.service.ax_client: Generated new trial 169 with parameters {'z_sh': 7, 'z_sh_1': 8, 'z_sh_2': 5, 'z_p2': 35, 'z_p2_1': 26, 'z_p2_2': 29, 'z_r2': 79, 'z_r2_1': 76, 'z_r2_2': 81, 'x_s': 0.5, 'x_s_1': 0.4, 'x_s_2': 0.3, 'x_p1': 0.667094, 'x_p1_1': 0.567094, 'x_p1_2': 0.467094, 'x_p2': 0.5, 'x_p2_1': 0.4, 'x_p2_2': 0.3, 'x_r2': 0.973427, 'x_r2_1': 0.873427, 'x_r2_2': 0.773427} using model BoTorch.\n",
      "[INFO 04-05 14:22:19] ax.service.ax_client: Completed trial 169 with data: {'Viable_Cross_Terms': (32, None)}.\n",
      "[INFO 04-05 14:22:36] ax.service.ax_client: Generated new trial 170 with parameters {'z_sh': 7, 'z_sh_1': 10, 'z_sh_2': 5, 'z_p2': 31, 'z_p2_1': 32, 'z_p2_2': 28, 'z_r2': 78, 'z_r2_1': 73, 'z_r2_2': 75, 'x_s': 0.5, 'x_s_1': 0.4, 'x_s_2': 0.3, 'x_p1': 0.648985, 'x_p1_1': 0.548985, 'x_p1_2': 0.448985, 'x_p2': 0.5, 'x_p2_1': 0.4, 'x_p2_2': 0.3, 'x_r2': 0.970127, 'x_r2_1': 0.870127, 'x_r2_2': 0.770127} using model BoTorch.\n",
      "[INFO 04-05 14:22:36] ax.service.ax_client: Completed trial 170 with data: {'Viable_Cross_Terms': (35, None)}.\n",
      "[INFO 04-05 14:22:54] ax.service.ax_client: Generated new trial 171 with parameters {'z_sh': 8, 'z_sh_1': 11, 'z_sh_2': 5, 'z_p2': 32, 'z_p2_1': 29, 'z_p2_2': 29, 'z_r2': 77, 'z_r2_1': 71, 'z_r2_2': 79, 'x_s': 0.5, 'x_s_1': 0.4, 'x_s_2': 0.3, 'x_p1': 0.64165, 'x_p1_1': 0.54165, 'x_p1_2': 0.44165, 'x_p2': 0.5, 'x_p2_1': 0.4, 'x_p2_2': 0.3, 'x_r2': 0.968813, 'x_r2_1': 0.868813, 'x_r2_2': 0.768813} using model BoTorch.\n",
      "[INFO 04-05 14:22:54] ax.service.ax_client: Completed trial 171 with data: {'Viable_Cross_Terms': (32, None)}.\n",
      "[INFO 04-05 14:23:11] ax.service.ax_client: Generated new trial 172 with parameters {'z_sh': 7, 'z_sh_1': 12, 'z_sh_2': 5, 'z_p2': 28, 'z_p2_1': 33, 'z_p2_2': 28, 'z_r2': 82, 'z_r2_1': 76, 'z_r2_2': 79, 'x_s': 0.5, 'x_s_1': 0.4, 'x_s_2': 0.3, 'x_p1': 0.687308, 'x_p1_1': 0.587308, 'x_p1_2': 0.487308, 'x_p2': 0.5, 'x_p2_1': 0.4, 'x_p2_2': 0.3, 'x_r2': 0.967847, 'x_r2_1': 0.867847, 'x_r2_2': 0.767847} using model BoTorch.\n",
      "[INFO 04-05 14:23:11] ax.service.ax_client: Completed trial 172 with data: {'Viable_Cross_Terms': (32, None)}.\n",
      "[INFO 04-05 14:23:29] ax.service.ax_client: Generated new trial 173 with parameters {'z_sh': 12, 'z_sh_1': 10, 'z_sh_2': 5, 'z_p2': 32, 'z_p2_1': 26, 'z_p2_2': 28, 'z_r2': 78, 'z_r2_1': 74, 'z_r2_2': 73, 'x_s': 0.5, 'x_s_1': 0.4, 'x_s_2': 0.3, 'x_p1': 0.660782, 'x_p1_1': 0.560782, 'x_p1_2': 0.460782, 'x_p2': 0.5, 'x_p2_1': 0.4, 'x_p2_2': 0.3, 'x_r2': 0.973019, 'x_r2_1': 0.873019, 'x_r2_2': 0.773019} using model BoTorch.\n",
      "[INFO 04-05 14:23:29] ax.service.ax_client: Completed trial 173 with data: {'Viable_Cross_Terms': (32, None)}.\n",
      "[INFO 04-05 14:23:49] ax.service.ax_client: Generated new trial 174 with parameters {'z_sh': 7, 'z_sh_1': 12, 'z_sh_2': 5, 'z_p2': 27, 'z_p2_1': 31, 'z_p2_2': 28, 'z_r2': 81, 'z_r2_1': 74, 'z_r2_2': 75, 'x_s': 0.5, 'x_s_1': 0.4, 'x_s_2': 0.3, 'x_p1': 0.72555, 'x_p1_1': 0.62555, 'x_p1_2': 0.52555, 'x_p2': 0.5, 'x_p2_1': 0.4, 'x_p2_2': 0.3, 'x_r2': 0.969975, 'x_r2_1': 0.869975, 'x_r2_2': 0.769975} using model BoTorch.\n",
      "[INFO 04-05 14:23:49] ax.service.ax_client: Completed trial 174 with data: {'Viable_Cross_Terms': (25, None)}.\n",
      "[INFO 04-05 14:24:06] ax.service.ax_client: Generated new trial 175 with parameters {'z_sh': 7, 'z_sh_1': 7, 'z_sh_2': 5, 'z_p2': 28, 'z_p2_1': 27, 'z_p2_2': 28, 'z_r2': 84, 'z_r2_1': 83, 'z_r2_2': 76, 'x_s': 0.5, 'x_s_1': 0.4, 'x_s_2': 0.3, 'x_p1': 0.782015, 'x_p1_1': 0.682015, 'x_p1_2': 0.582015, 'x_p2': 0.438089, 'x_p2_1': 0.338089, 'x_p2_2': 0.238089, 'x_r2': 0.970597, 'x_r2_1': 0.870597, 'x_r2_2': 0.770597} using model BoTorch.\n",
      "[INFO 04-05 14:24:06] ax.service.ax_client: Completed trial 175 with data: {'Viable_Cross_Terms': (25, None)}.\n",
      "[INFO 04-05 14:24:23] ax.service.ax_client: Generated new trial 176 with parameters {'z_sh': 12, 'z_sh_1': 6, 'z_sh_2': 5, 'z_p2': 28, 'z_p2_1': 29, 'z_p2_2': 27, 'z_r2': 82, 'z_r2_1': 77, 'z_r2_2': 79, 'x_s': 0.5, 'x_s_1': 0.4, 'x_s_2': 0.3, 'x_p1': 0.740758, 'x_p1_1': 0.640758, 'x_p1_2': 0.540758, 'x_p2': 0.472443, 'x_p2_1': 0.372443, 'x_p2_2': 0.272443, 'x_r2': 0.96067, 'x_r2_1': 0.86067, 'x_r2_2': 0.76067} using model BoTorch.\n",
      "[INFO 04-05 14:24:23] ax.service.ax_client: Completed trial 176 with data: {'Viable_Cross_Terms': (23, None)}.\n",
      "[INFO 04-05 14:24:41] ax.service.ax_client: Generated new trial 177 with parameters {'z_sh': 7, 'z_sh_1': 10, 'z_sh_2': 5, 'z_p2': 32, 'z_p2_1': 27, 'z_p2_2': 27, 'z_r2': 78, 'z_r2_1': 74, 'z_r2_2': 82, 'x_s': 0.5, 'x_s_1': 0.4, 'x_s_2': 0.3, 'x_p1': 0.760563, 'x_p1_1': 0.660563, 'x_p1_2': 0.560563, 'x_p2': 0.489014, 'x_p2_1': 0.389014, 'x_p2_2': 0.289014, 'x_r2': 0.959179, 'x_r2_1': 0.859179, 'x_r2_2': 0.759179} using model BoTorch.\n",
      "[INFO 04-05 14:24:41] ax.service.ax_client: Completed trial 177 with data: {'Viable_Cross_Terms': (25, None)}.\n",
      "[INFO 04-05 14:24:59] ax.service.ax_client: Generated new trial 178 with parameters {'z_sh': 13, 'z_sh_1': 12, 'z_sh_2': 5, 'z_p2': 28, 'z_p2_1': 27, 'z_p2_2': 28, 'z_r2': 80, 'z_r2_1': 73, 'z_r2_2': 84, 'x_s': 0.5, 'x_s_1': 0.4, 'x_s_2': 0.3, 'x_p1': 0.708656, 'x_p1_1': 0.608656, 'x_p1_2': 0.508656, 'x_p2': 0.448844, 'x_p2_1': 0.348844, 'x_p2_2': 0.248844, 'x_r2': 0.946381, 'x_r2_1': 0.846381, 'x_r2_2': 0.746381} using model BoTorch.\n",
      "[INFO 04-05 14:24:59] ax.service.ax_client: Completed trial 178 with data: {'Viable_Cross_Terms': (68, None)}.\n",
      "[INFO 04-05 14:25:16] ax.service.ax_client: Generated new trial 179 with parameters {'z_sh': 10, 'z_sh_1': 9, 'z_sh_2': 5, 'z_p2': 28, 'z_p2_1': 31, 'z_p2_2': 33, 'z_r2': 80, 'z_r2_1': 71, 'z_r2_2': 84, 'x_s': 0.5, 'x_s_1': 0.4, 'x_s_2': 0.3, 'x_p1': 0.710962, 'x_p1_1': 0.610962, 'x_p1_2': 0.510962, 'x_p2': 0.461484, 'x_p2_1': 0.361484, 'x_p2_2': 0.261484, 'x_r2': 0.949636, 'x_r2_1': 0.849636, 'x_r2_2': 0.749636} using model BoTorch.\n",
      "[INFO 04-05 14:25:16] ax.service.ax_client: Completed trial 179 with data: {'Viable_Cross_Terms': (61, None)}.\n",
      "[INFO 04-05 14:25:33] ax.service.ax_client: Generated new trial 180 with parameters {'z_sh': 10, 'z_sh_1': 8, 'z_sh_2': 7, 'z_p2': 32, 'z_p2_1': 31, 'z_p2_2': 33, 'z_r2': 80, 'z_r2_1': 76, 'z_r2_2': 76, 'x_s': 0.5, 'x_s_1': 0.4, 'x_s_2': 0.3, 'x_p1': 0.688094, 'x_p1_1': 0.588094, 'x_p1_2': 0.488094, 'x_p2': 0.5, 'x_p2_1': 0.4, 'x_p2_2': 0.3, 'x_r2': 0.948246, 'x_r2_1': 0.848246, 'x_r2_2': 0.748246} using model BoTorch.\n",
      "[INFO 04-05 14:25:33] ax.service.ax_client: Completed trial 180 with data: {'Viable_Cross_Terms': (33, None)}.\n",
      "[INFO 04-05 14:25:50] ax.service.ax_client: Generated new trial 181 with parameters {'z_sh': 11, 'z_sh_1': 10, 'z_sh_2': 5, 'z_p2': 27, 'z_p2_1': 27, 'z_p2_2': 33, 'z_r2': 80, 'z_r2_1': 78, 'z_r2_2': 80, 'x_s': 0.5, 'x_s_1': 0.4, 'x_s_2': 0.3, 'x_p1': 0.709414, 'x_p1_1': 0.609414, 'x_p1_2': 0.509414, 'x_p2': 0.460372, 'x_p2_1': 0.360372, 'x_p2_2': 0.260372, 'x_r2': 0.949425, 'x_r2_1': 0.849425, 'x_r2_2': 0.749425} using model BoTorch.\n",
      "[INFO 04-05 14:25:50] ax.service.ax_client: Completed trial 181 with data: {'Viable_Cross_Terms': (61, None)}.\n",
      "[INFO 04-05 14:26:07] ax.service.ax_client: Generated new trial 182 with parameters {'z_sh': 15, 'z_sh_1': 11, 'z_sh_2': 8, 'z_p2': 27, 'z_p2_1': 31, 'z_p2_2': 33, 'z_r2': 76, 'z_r2_1': 80, 'z_r2_2': 73, 'x_s': 0.5, 'x_s_1': 0.4, 'x_s_2': 0.3, 'x_p1': 0.615826, 'x_p1_1': 0.515826, 'x_p1_2': 0.415826, 'x_p2': 0.5, 'x_p2_1': 0.4, 'x_p2_2': 0.3, 'x_r2': 0.945411, 'x_r2_1': 0.845411, 'x_r2_2': 0.745411} using model BoTorch.\n",
      "[INFO 04-05 14:26:07] ax.service.ax_client: Completed trial 182 with data: {'Viable_Cross_Terms': (41, None)}.\n",
      "[INFO 04-05 14:26:24] ax.service.ax_client: Generated new trial 183 with parameters {'z_sh': 12, 'z_sh_1': 12, 'z_sh_2': 6, 'z_p2': 31, 'z_p2_1': 29, 'z_p2_2': 33, 'z_r2': 82, 'z_r2_1': 75, 'z_r2_2': 78, 'x_s': 0.5, 'x_s_1': 0.4, 'x_s_2': 0.3, 'x_p1': 0.666583, 'x_p1_1': 0.566583, 'x_p1_2': 0.466583, 'x_p2': 0.449176, 'x_p2_1': 0.349176, 'x_p2_2': 0.249176, 'x_r2': 0.946607, 'x_r2_1': 0.846607, 'x_r2_2': 0.746607} using model BoTorch.\n",
      "[INFO 04-05 14:26:24] ax.service.ax_client: Completed trial 183 with data: {'Viable_Cross_Terms': (31, None)}.\n",
      "[INFO 04-05 14:26:43] ax.service.ax_client: Generated new trial 184 with parameters {'z_sh': 14, 'z_sh_1': 10, 'z_sh_2': 5, 'z_p2': 27, 'z_p2_1': 26, 'z_p2_2': 27, 'z_r2': 81, 'z_r2_1': 80, 'z_r2_2': 72, 'x_s': 0.5, 'x_s_1': 0.4, 'x_s_2': 0.3, 'x_p1': 0.70615, 'x_p1_1': 0.60615, 'x_p1_2': 0.50615, 'x_p2': 0.462971, 'x_p2_1': 0.362971, 'x_p2_2': 0.262971, 'x_r2': 0.945053, 'x_r2_1': 0.845053, 'x_r2_2': 0.745053} using model BoTorch.\n",
      "[INFO 04-05 14:26:43] ax.service.ax_client: Completed trial 184 with data: {'Viable_Cross_Terms': (60, None)}.\n",
      "[INFO 04-05 14:27:00] ax.service.ax_client: Generated new trial 185 with parameters {'z_sh': 7, 'z_sh_1': 7, 'z_sh_2': 5, 'z_p2': 27, 'z_p2_1': 30, 'z_p2_2': 33, 'z_r2': 80, 'z_r2_1': 76, 'z_r2_2': 72, 'x_s': 0.5, 'x_s_1': 0.4, 'x_s_2': 0.3, 'x_p1': 0.674192, 'x_p1_1': 0.574192, 'x_p1_2': 0.474192, 'x_p2': 0.480274, 'x_p2_1': 0.380274, 'x_p2_2': 0.280274, 'x_r2': 0.954272, 'x_r2_1': 0.854272, 'x_r2_2': 0.754272} using model BoTorch.\n",
      "[INFO 04-05 14:27:00] ax.service.ax_client: Completed trial 185 with data: {'Viable_Cross_Terms': (68, None)}.\n",
      "[INFO 04-05 14:27:17] ax.service.ax_client: Generated new trial 186 with parameters {'z_sh': 9, 'z_sh_1': 13, 'z_sh_2': 5, 'z_p2': 29, 'z_p2_1': 27, 'z_p2_2': 25, 'z_r2': 75, 'z_r2_1': 78, 'z_r2_2': 77, 'x_s': 0.5, 'x_s_1': 0.4, 'x_s_2': 0.3, 'x_p1': 0.632611, 'x_p1_1': 0.532611, 'x_p1_2': 0.432611, 'x_p2': 0.5, 'x_p2_1': 0.4, 'x_p2_2': 0.3, 'x_r2': 0.959207, 'x_r2_1': 0.859207, 'x_r2_2': 0.759207} using model BoTorch.\n",
      "[INFO 04-05 14:27:17] ax.service.ax_client: Completed trial 186 with data: {'Viable_Cross_Terms': (32, None)}.\n",
      "[INFO 04-05 14:27:35] ax.service.ax_client: Generated new trial 187 with parameters {'z_sh': 11, 'z_sh_1': 7, 'z_sh_2': 5, 'z_p2': 28, 'z_p2_1': 28, 'z_p2_2': 33, 'z_r2': 83, 'z_r2_1': 80, 'z_r2_2': 80, 'x_s': 0.5, 'x_s_1': 0.4, 'x_s_2': 0.3, 'x_p1': 0.652827, 'x_p1_1': 0.552827, 'x_p1_2': 0.452827, 'x_p2': 0.414215, 'x_p2_1': 0.314215, 'x_p2_2': 0.214215, 'x_r2': 0.943083, 'x_r2_1': 0.843083, 'x_r2_2': 0.743083} using model BoTorch.\n",
      "[INFO 04-05 14:27:35] ax.service.ax_client: Completed trial 187 with data: {'Viable_Cross_Terms': (71, None)}.\n",
      "[INFO 04-05 14:27:53] ax.service.ax_client: Generated new trial 188 with parameters {'z_sh': 9, 'z_sh_1': 7, 'z_sh_2': 5, 'z_p2': 31, 'z_p2_1': 32, 'z_p2_2': 32, 'z_r2': 82, 'z_r2_1': 76, 'z_r2_2': 78, 'x_s': 0.5, 'x_s_1': 0.4, 'x_s_2': 0.3, 'x_p1': 0.6238, 'x_p1_1': 0.5238, 'x_p1_2': 0.4238, 'x_p2': 0.397092, 'x_p2_1': 0.297092, 'x_p2_2': 0.197092, 'x_r2': 0.936678, 'x_r2_1': 0.836678, 'x_r2_2': 0.736678} using model BoTorch.\n",
      "[INFO 04-05 14:27:53] ax.service.ax_client: Completed trial 188 with data: {'Viable_Cross_Terms': (47, None)}.\n",
      "[INFO 04-05 14:28:10] ax.service.ax_client: Generated new trial 189 with parameters {'z_sh': 7, 'z_sh_1': 11, 'z_sh_2': 5, 'z_p2': 32, 'z_p2_1': 32, 'z_p2_2': 29, 'z_r2': 82, 'z_r2_1': 79, 'z_r2_2': 81, 'x_s': 0.5, 'x_s_1': 0.4, 'x_s_2': 0.3, 'x_p1': 0.62182, 'x_p1_1': 0.52182, 'x_p1_2': 0.42182, 'x_p2': 0.369477, 'x_p2_1': 0.269477, 'x_p2_2': 0.169477, 'x_r2': 0.936888, 'x_r2_1': 0.836888, 'x_r2_2': 0.736888} using model BoTorch.\n",
      "[INFO 04-05 14:28:10] ax.service.ax_client: Completed trial 189 with data: {'Viable_Cross_Terms': (43, None)}.\n",
      "[INFO 04-05 14:28:28] ax.service.ax_client: Generated new trial 190 with parameters {'z_sh': 8, 'z_sh_1': 12, 'z_sh_2': 5, 'z_p2': 34, 'z_p2_1': 27, 'z_p2_2': 33, 'z_r2': 81, 'z_r2_1': 73, 'z_r2_2': 81, 'x_s': 0.5, 'x_s_1': 0.4, 'x_s_2': 0.3, 'x_p1': 0.60937, 'x_p1_1': 0.50937, 'x_p1_2': 0.40937, 'x_p2': 0.405003, 'x_p2_1': 0.305003, 'x_p2_2': 0.205003, 'x_r2': 0.946112, 'x_r2_1': 0.846112, 'x_r2_2': 0.746112} using model BoTorch.\n",
      "[INFO 04-05 14:28:28] ax.service.ax_client: Completed trial 190 with data: {'Viable_Cross_Terms': (35, None)}.\n",
      "[INFO 04-05 14:28:47] ax.service.ax_client: Generated new trial 191 with parameters {'z_sh': 14, 'z_sh_1': 11, 'z_sh_2': 5, 'z_p2': 33, 'z_p2_1': 28, 'z_p2_2': 32, 'z_r2': 77, 'z_r2_1': 85, 'z_r2_2': 79, 'x_s': 0.5, 'x_s_1': 0.4, 'x_s_2': 0.3, 'x_p1': 0.593679, 'x_p1_1': 0.493679, 'x_p1_2': 0.393679, 'x_p2': 0.5, 'x_p2_1': 0.4, 'x_p2_2': 0.3, 'x_r2': 0.957148, 'x_r2_1': 0.857148, 'x_r2_2': 0.757148} using model BoTorch.\n",
      "[INFO 04-05 14:28:47] ax.service.ax_client: Completed trial 191 with data: {'Viable_Cross_Terms': (36, None)}.\n",
      "[INFO 04-05 14:29:05] ax.service.ax_client: Generated new trial 192 with parameters {'z_sh': 7, 'z_sh_1': 11, 'z_sh_2': 5, 'z_p2': 33, 'z_p2_1': 31, 'z_p2_2': 31, 'z_r2': 78, 'z_r2_1': 73, 'z_r2_2': 76, 'x_s': 0.5, 'x_s_1': 0.4, 'x_s_2': 0.3, 'x_p1': 0.601351, 'x_p1_1': 0.501351, 'x_p1_2': 0.401351, 'x_p2': 0.486461, 'x_p2_1': 0.386461, 'x_p2_2': 0.286461, 'x_r2': 0.965467, 'x_r2_1': 0.865467, 'x_r2_2': 0.765467} using model BoTorch.\n",
      "[INFO 04-05 14:29:05] ax.service.ax_client: Completed trial 192 with data: {'Viable_Cross_Terms': (40, None)}.\n",
      "[INFO 04-05 14:29:23] ax.service.ax_client: Generated new trial 193 with parameters {'z_sh': 13, 'z_sh_1': 10, 'z_sh_2': 13, 'z_p2': 27, 'z_p2_1': 26, 'z_p2_2': 27, 'z_r2': 72, 'z_r2_1': 72, 'z_r2_2': 79, 'x_s': -0.3, 'x_s_1': -0.4, 'x_s_2': -0.5, 'x_p1': 1.0, 'x_p1_1': -0.9, 'x_p1_2': -1.0, 'x_p2': -0.3, 'x_p2_1': -0.4, 'x_p2_2': -0.5, 'x_r2': -1.3, 'x_r2_1': -1.4, 'x_r2_2': -1.5} using model BoTorch.\n",
      "[INFO 04-05 14:29:23] ax.service.ax_client: Completed trial 193 with data: {'Viable_Cross_Terms': (0, None)}.\n",
      "[INFO 04-05 14:29:43] ax.service.ax_client: Generated new trial 194 with parameters {'z_sh': 7, 'z_sh_1': 6, 'z_sh_2': 5, 'z_p2': 31, 'z_p2_1': 27, 'z_p2_2': 33, 'z_r2': 80, 'z_r2_1': 73, 'z_r2_2': 79, 'x_s': 0.5, 'x_s_1': 0.4, 'x_s_2': 0.3, 'x_p1': 0.613591, 'x_p1_1': 0.513591, 'x_p1_2': 0.413591, 'x_p2': 0.435789, 'x_p2_1': 0.335789, 'x_p2_2': 0.235789, 'x_r2': 0.951565, 'x_r2_1': 0.851565, 'x_r2_2': 0.751565} using model BoTorch.\n",
      "[INFO 04-05 14:29:43] ax.service.ax_client: Completed trial 194 with data: {'Viable_Cross_Terms': (83, None)}.\n",
      "[INFO 04-05 14:30:01] ax.service.ax_client: Generated new trial 195 with parameters {'z_sh': 10, 'z_sh_1': 9, 'z_sh_2': 5, 'z_p2': 29, 'z_p2_1': 30, 'z_p2_2': 33, 'z_r2': 78, 'z_r2_1': 81, 'z_r2_2': 80, 'x_s': 0.5, 'x_s_1': 0.4, 'x_s_2': 0.3, 'x_p1': 0.610188, 'x_p1_1': 0.510188, 'x_p1_2': 0.410188, 'x_p2': 0.44276, 'x_p2_1': 0.34276, 'x_p2_2': 0.24276, 'x_r2': 0.945648, 'x_r2_1': 0.845648, 'x_r2_2': 0.745648} using model BoTorch.\n",
      "[INFO 04-05 14:30:01] ax.service.ax_client: Completed trial 195 with data: {'Viable_Cross_Terms': (78, None)}.\n",
      "[INFO 04-05 14:30:19] ax.service.ax_client: Generated new trial 196 with parameters {'z_sh': 12, 'z_sh_1': 11, 'z_sh_2': 7, 'z_p2': 32, 'z_p2_1': 28, 'z_p2_2': 33, 'z_r2': 77, 'z_r2_1': 83, 'z_r2_2': 78, 'x_s': 0.5, 'x_s_1': 0.4, 'x_s_2': 0.3, 'x_p1': 0.538904, 'x_p1_1': 0.438904, 'x_p1_2': 0.338904, 'x_p2': 0.499897, 'x_p2_1': 0.399897, 'x_p2_2': 0.299897, 'x_r2': 0.94312, 'x_r2_1': 0.84312, 'x_r2_2': 0.74312} using model BoTorch.\n",
      "[INFO 04-05 14:30:20] ax.service.ax_client: Completed trial 196 with data: {'Viable_Cross_Terms': (33, None)}.\n",
      "[INFO 04-05 14:30:37] ax.service.ax_client: Generated new trial 197 with parameters {'z_sh': 12, 'z_sh_1': 9, 'z_sh_2': 5, 'z_p2': 29, 'z_p2_1': 30, 'z_p2_2': 33, 'z_r2': 79, 'z_r2_1': 83, 'z_r2_2': 78, 'x_s': 0.5, 'x_s_1': 0.4, 'x_s_2': 0.3, 'x_p1': 0.603489, 'x_p1_1': 0.503489, 'x_p1_2': 0.403489, 'x_p2': 0.42326, 'x_p2_1': 0.32326, 'x_p2_2': 0.22326, 'x_r2': 0.941829, 'x_r2_1': 0.841829, 'x_r2_2': 0.741829} using model BoTorch.\n",
      "[INFO 04-05 14:30:37] ax.service.ax_client: Completed trial 197 with data: {'Viable_Cross_Terms': (34, None)}.\n",
      "[INFO 04-05 14:30:55] ax.service.ax_client: Generated new trial 198 with parameters {'z_sh': 8, 'z_sh_1': 8, 'z_sh_2': 6, 'z_p2': 27, 'z_p2_1': 28, 'z_p2_2': 32, 'z_r2': 80, 'z_r2_1': 73, 'z_r2_2': 78, 'x_s': 0.5, 'x_s_1': 0.4, 'x_s_2': 0.3, 'x_p1': 0.623821, 'x_p1_1': 0.523821, 'x_p1_2': 0.423821, 'x_p2': 0.420273, 'x_p2_1': 0.320273, 'x_p2_2': 0.220273, 'x_r2': 0.932237, 'x_r2_1': 0.832237, 'x_r2_2': 0.732237} using model BoTorch.\n",
      "[INFO 04-05 14:30:55] ax.service.ax_client: Completed trial 198 with data: {'Viable_Cross_Terms': (36, None)}.\n",
      "[INFO 04-05 14:31:13] ax.service.ax_client: Generated new trial 199 with parameters {'z_sh': 10, 'z_sh_1': 6, 'z_sh_2': 5, 'z_p2': 27, 'z_p2_1': 27, 'z_p2_2': 33, 'z_r2': 80, 'z_r2_1': 81, 'z_r2_2': 79, 'x_s': 0.5, 'x_s_1': 0.4, 'x_s_2': 0.3, 'x_p1': 0.617878, 'x_p1_1': 0.517878, 'x_p1_2': 0.417878, 'x_p2': 0.433673, 'x_p2_1': 0.333673, 'x_p2_2': 0.233673, 'x_r2': 0.933064, 'x_r2_1': 0.833064, 'x_r2_2': 0.733064} using model BoTorch.\n",
      "[INFO 04-05 14:31:13] ax.service.ax_client: Completed trial 199 with data: {'Viable_Cross_Terms': (70, None)}.\n",
      "[INFO 04-05 14:31:33] ax.service.ax_client: Generated new trial 200 with parameters {'z_sh': 7, 'z_sh_1': 6, 'z_sh_2': 5, 'z_p2': 27, 'z_p2_1': 26, 'z_p2_2': 33, 'z_r2': 80, 'z_r2_1': 85, 'z_r2_2': 78, 'x_s': 0.5, 'x_s_1': 0.4, 'x_s_2': 0.3, 'x_p1': 0.620082, 'x_p1_1': 0.520082, 'x_p1_2': 0.420082, 'x_p2': 0.423377, 'x_p2_1': 0.323377, 'x_p2_2': 0.223377, 'x_r2': 0.931917, 'x_r2_1': 0.831917, 'x_r2_2': 0.731917} using model BoTorch.\n",
      "[INFO 04-05 14:31:33] ax.service.ax_client: Completed trial 200 with data: {'Viable_Cross_Terms': (73, None)}.\n",
      "[INFO 04-05 14:31:51] ax.service.ax_client: Generated new trial 201 with parameters {'z_sh': 13, 'z_sh_1': 12, 'z_sh_2': 9, 'z_p2': 32, 'z_p2_1': 29, 'z_p2_2': 32, 'z_r2': 82, 'z_r2_1': 72, 'z_r2_2': 71, 'x_s': 0.5, 'x_s_1': 0.4, 'x_s_2': 0.3, 'x_p1': 0.542379, 'x_p1_1': 0.442379, 'x_p1_2': 0.342379, 'x_p2': 0.468724, 'x_p2_1': 0.368724, 'x_p2_2': 0.268724, 'x_r2': 0.932308, 'x_r2_1': 0.832308, 'x_r2_2': 0.732308} using model BoTorch.\n",
      "[INFO 04-05 14:31:51] ax.service.ax_client: Completed trial 201 with data: {'Viable_Cross_Terms': (33, None)}.\n",
      "[INFO 04-05 14:32:09] ax.service.ax_client: Generated new trial 202 with parameters {'z_sh': 11, 'z_sh_1': 6, 'z_sh_2': 5, 'z_p2': 29, 'z_p2_1': 29, 'z_p2_2': 30, 'z_r2': 82, 'z_r2_1': 79, 'z_r2_2': 79, 'x_s': 0.5, 'x_s_1': 0.4, 'x_s_2': 0.3, 'x_p1': 0.625014, 'x_p1_1': 0.525014, 'x_p1_2': 0.425014, 'x_p2': 0.39103, 'x_p2_1': 0.29103, 'x_p2_2': 0.19103, 'x_r2': 0.92525, 'x_r2_1': 0.82525, 'x_r2_2': 0.72525} using model BoTorch.\n",
      "[INFO 04-05 14:32:09] ax.service.ax_client: Completed trial 202 with data: {'Viable_Cross_Terms': (30, None)}.\n",
      "[INFO 04-05 14:32:28] ax.service.ax_client: Generated new trial 203 with parameters {'z_sh': 7, 'z_sh_1': 10, 'z_sh_2': 5, 'z_p2': 29, 'z_p2_1': 29, 'z_p2_2': 29, 'z_r2': 77, 'z_r2_1': 74, 'z_r2_2': 82, 'x_s': 0.5, 'x_s_1': 0.4, 'x_s_2': 0.3, 'x_p1': 0.598949, 'x_p1_1': 0.498949, 'x_p1_2': 0.398949, 'x_p2': 0.499864, 'x_p2_1': 0.399864, 'x_p2_2': 0.299864, 'x_r2': 0.942891, 'x_r2_1': 0.842891, 'x_r2_2': 0.742891} using model BoTorch.\n",
      "[INFO 04-05 14:32:28] ax.service.ax_client: Completed trial 203 with data: {'Viable_Cross_Terms': (38, None)}.\n",
      "[INFO 04-05 14:32:47] ax.service.ax_client: Generated new trial 204 with parameters {'z_sh': 7, 'z_sh_1': 6, 'z_sh_2': 5, 'z_p2': 27, 'z_p2_1': 26, 'z_p2_2': 33, 'z_r2': 80, 'z_r2_1': 84, 'z_r2_2': 77, 'x_s': 0.5, 'x_s_1': 0.4, 'x_s_2': 0.3, 'x_p1': 0.62386, 'x_p1_1': 0.52386, 'x_p1_2': 0.42386, 'x_p2': 0.439954, 'x_p2_1': 0.339954, 'x_p2_2': 0.239954, 'x_r2': 0.936561, 'x_r2_1': 0.836561, 'x_r2_2': 0.736561} using model BoTorch.\n",
      "[INFO 04-05 14:32:47] ax.service.ax_client: Completed trial 204 with data: {'Viable_Cross_Terms': (70, None)}.\n",
      "[INFO 04-05 14:33:05] ax.service.ax_client: Generated new trial 205 with parameters {'z_sh': 9, 'z_sh_1': 13, 'z_sh_2': 5, 'z_p2': 31, 'z_p2_1': 26, 'z_p2_2': 25, 'z_r2': 80, 'z_r2_1': 80, 'z_r2_2': 73, 'x_s': 0.5, 'x_s_1': 0.4, 'x_s_2': 0.3, 'x_p1': 0.624303, 'x_p1_1': 0.524303, 'x_p1_2': 0.424303, 'x_p2': 0.432196, 'x_p2_1': 0.332196, 'x_p2_2': 0.232196, 'x_r2': 0.938594, 'x_r2_1': 0.838594, 'x_r2_2': 0.738594} using model BoTorch.\n",
      "[INFO 04-05 14:33:05] ax.service.ax_client: Completed trial 205 with data: {'Viable_Cross_Terms': (71, None)}.\n",
      "[INFO 04-05 14:33:23] ax.service.ax_client: Generated new trial 206 with parameters {'z_sh': 13, 'z_sh_1': 11, 'z_sh_2': 6, 'z_p2': 35, 'z_p2_1': 29, 'z_p2_2': 32, 'z_r2': 78, 'z_r2_1': 81, 'z_r2_2': 80, 'x_s': 0.5, 'x_s_1': 0.4, 'x_s_2': 0.3, 'x_p1': 0.558597, 'x_p1_1': 0.458597, 'x_p1_2': 0.358597, 'x_p2': 0.5, 'x_p2_1': 0.4, 'x_p2_2': 0.3, 'x_r2': 0.924175, 'x_r2_1': 0.824175, 'x_r2_2': 0.724175} using model BoTorch.\n",
      "[INFO 04-05 14:33:23] ax.service.ax_client: Completed trial 206 with data: {'Viable_Cross_Terms': (34, None)}.\n",
      "[INFO 04-05 14:33:42] ax.service.ax_client: Generated new trial 207 with parameters {'z_sh': 7, 'z_sh_1': 6, 'z_sh_2': 5, 'z_p2': 28, 'z_p2_1': 30, 'z_p2_2': 33, 'z_r2': 82, 'z_r2_1': 82, 'z_r2_2': 74, 'x_s': 0.5, 'x_s_1': 0.4, 'x_s_2': 0.3, 'x_p1': 0.61766, 'x_p1_1': 0.51766, 'x_p1_2': 0.41766, 'x_p2': 0.403603, 'x_p2_1': 0.303603, 'x_p2_2': 0.203603, 'x_r2': 0.920256, 'x_r2_1': 0.820256, 'x_r2_2': 0.720256} using model BoTorch.\n",
      "[INFO 04-05 14:33:42] ax.service.ax_client: Completed trial 207 with data: {'Viable_Cross_Terms': (40, None)}.\n",
      "[INFO 04-05 14:34:00] ax.service.ax_client: Generated new trial 208 with parameters {'z_sh': 7, 'z_sh_1': 11, 'z_sh_2': 9, 'z_p2': 27, 'z_p2_1': 27, 'z_p2_2': 33, 'z_r2': 80, 'z_r2_1': 76, 'z_r2_2': 82, 'x_s': 0.5, 'x_s_1': 0.4, 'x_s_2': 0.3, 'x_p1': 0.593794, 'x_p1_1': 0.493794, 'x_p1_2': 0.393794, 'x_p2': 0.475585, 'x_p2_1': 0.375585, 'x_p2_2': 0.275585, 'x_r2': 0.919293, 'x_r2_1': 0.819293, 'x_r2_2': 0.719293} using model BoTorch.\n",
      "[INFO 04-05 14:34:00] ax.service.ax_client: Completed trial 208 with data: {'Viable_Cross_Terms': (38, None)}.\n",
      "[INFO 04-05 14:34:19] ax.service.ax_client: Generated new trial 209 with parameters {'z_sh': 8, 'z_sh_1': 11, 'z_sh_2': 5, 'z_p2': 32, 'z_p2_1': 28, 'z_p2_2': 33, 'z_r2': 79, 'z_r2_1': 76, 'z_r2_2': 79, 'x_s': 0.5, 'x_s_1': 0.4, 'x_s_2': 0.3, 'x_p1': 0.600633, 'x_p1_1': 0.500633, 'x_p1_2': 0.400633, 'x_p2': 0.461826, 'x_p2_1': 0.361826, 'x_p2_2': 0.261826, 'x_r2': 0.943921, 'x_r2_1': 0.843921, 'x_r2_2': 0.743921} using model BoTorch.\n",
      "[INFO 04-05 14:34:19] ax.service.ax_client: Completed trial 209 with data: {'Viable_Cross_Terms': (36, None)}.\n",
      "[INFO 04-05 14:34:39] ax.service.ax_client: Generated new trial 210 with parameters {'z_sh': 11, 'z_sh_1': 13, 'z_sh_2': 5, 'z_p2': 27, 'z_p2_1': 30, 'z_p2_2': 28, 'z_r2': 81, 'z_r2_1': 79, 'z_r2_2': 82, 'x_s': 0.5, 'x_s_1': 0.4, 'x_s_2': 0.3, 'x_p1': 0.622278, 'x_p1_1': 0.522278, 'x_p1_2': 0.422278, 'x_p2': 0.408101, 'x_p2_1': 0.308101, 'x_p2_2': 0.208101, 'x_r2': 0.930427, 'x_r2_1': 0.830427, 'x_r2_2': 0.730427} using model BoTorch.\n",
      "[INFO 04-05 14:34:39] ax.service.ax_client: Completed trial 210 with data: {'Viable_Cross_Terms': (32, None)}.\n",
      "[INFO 04-05 14:34:57] ax.service.ax_client: Generated new trial 211 with parameters {'z_sh': 9, 'z_sh_1': 10, 'z_sh_2': 6, 'z_p2': 33, 'z_p2_1': 29, 'z_p2_2': 28, 'z_r2': 83, 'z_r2_1': 73, 'z_r2_2': 76, 'x_s': 0.5, 'x_s_1': 0.4, 'x_s_2': 0.3, 'x_p1': 0.601226, 'x_p1_1': 0.501226, 'x_p1_2': 0.401226, 'x_p2': 0.392926, 'x_p2_1': 0.292926, 'x_p2_2': 0.192926, 'x_r2': 0.943394, 'x_r2_1': 0.843394, 'x_r2_2': 0.743394} using model BoTorch.\n",
      "[INFO 04-05 14:34:57] ax.service.ax_client: Completed trial 211 with data: {'Viable_Cross_Terms': (37, None)}.\n",
      "[INFO 04-05 14:35:15] ax.service.ax_client: Generated new trial 212 with parameters {'z_sh': 8, 'z_sh_1': 11, 'z_sh_2': 5, 'z_p2': 28, 'z_p2_1': 26, 'z_p2_2': 33, 'z_r2': 81, 'z_r2_1': 78, 'z_r2_2': 73, 'x_s': 0.5, 'x_s_1': 0.4, 'x_s_2': 0.3, 'x_p1': 0.627321, 'x_p1_1': 0.527321, 'x_p1_2': 0.427321, 'x_p2': 0.419649, 'x_p2_1': 0.319649, 'x_p2_2': 0.219649, 'x_r2': 0.944542, 'x_r2_1': 0.844542, 'x_r2_2': 0.744542} using model BoTorch.\n",
      "[INFO 04-05 14:35:15] ax.service.ax_client: Completed trial 212 with data: {'Viable_Cross_Terms': (34, None)}.\n",
      "[INFO 04-05 14:35:33] ax.service.ax_client: Generated new trial 213 with parameters {'z_sh': 14, 'z_sh_1': 6, 'z_sh_2': 13, 'z_p2': 32, 'z_p2_1': 32, 'z_p2_2': 32, 'z_r2': 79, 'z_r2_1': 83, 'z_r2_2': 71, 'x_s': -0.3, 'x_s_1': -0.4, 'x_s_2': -0.5, 'x_p1': 1.0, 'x_p1_1': 0.9, 'x_p1_2': 0.8, 'x_p2': 0.5, 'x_p2_1': 0.4, 'x_p2_2': 0.3, 'x_r2': -1.3, 'x_r2_1': -1.4, 'x_r2_2': -1.5} using model BoTorch.\n",
      "[INFO 04-05 14:35:33] ax.service.ax_client: Completed trial 213 with data: {'Viable_Cross_Terms': (0, None)}.\n",
      "[INFO 04-05 14:35:54] ax.service.ax_client: Generated new trial 214 with parameters {'z_sh': 11, 'z_sh_1': 10, 'z_sh_2': 5, 'z_p2': 30, 'z_p2_1': 29, 'z_p2_2': 31, 'z_r2': 81, 'z_r2_1': 80, 'z_r2_2': 80, 'x_s': 0.5, 'x_s_1': 0.4, 'x_s_2': 0.3, 'x_p1': 0.609456, 'x_p1_1': 0.509456, 'x_p1_2': 0.409456, 'x_p2': 0.452091, 'x_p2_1': 0.352091, 'x_p2_2': 0.252091, 'x_r2': 0.945298, 'x_r2_1': 0.845298, 'x_r2_2': 0.745298} using model BoTorch.\n",
      "[INFO 04-05 14:35:54] ax.service.ax_client: Completed trial 214 with data: {'Viable_Cross_Terms': (75, None)}.\n",
      "[INFO 04-05 14:36:12] ax.service.ax_client: Generated new trial 215 with parameters {'z_sh': 10, 'z_sh_1': 7, 'z_sh_2': 13, 'z_p2': 31, 'z_p2_1': 33, 'z_p2_2': 32, 'z_r2': 78, 'z_r2_1': 78, 'z_r2_2': 79, 'x_s': 0.5, 'x_s_1': 0.4, 'x_s_2': 0.3, 'x_p1': 0.362898, 'x_p1_1': 0.262898, 'x_p1_2': 0.162898, 'x_p2': 0.5, 'x_p2_1': 0.4, 'x_p2_2': 0.3, 'x_r2': 0.937724, 'x_r2_1': 0.837724, 'x_r2_2': 0.737724} using model BoTorch.\n",
      "[INFO 04-05 14:36:12] ax.service.ax_client: Completed trial 215 with data: {'Viable_Cross_Terms': (25, None)}.\n",
      "[INFO 04-05 14:36:32] ax.service.ax_client: Generated new trial 216 with parameters {'z_sh': 7, 'z_sh_1': 11, 'z_sh_2': 5, 'z_p2': 28, 'z_p2_1': 28, 'z_p2_2': 31, 'z_r2': 81, 'z_r2_1': 83, 'z_r2_2': 79, 'x_s': 0.5, 'x_s_1': 0.4, 'x_s_2': 0.3, 'x_p1': 0.625469, 'x_p1_1': 0.525469, 'x_p1_2': 0.425469, 'x_p2': 0.442635, 'x_p2_1': 0.342635, 'x_p2_2': 0.242635, 'x_r2': 0.937736, 'x_r2_1': 0.837736, 'x_r2_2': 0.737736} using model BoTorch.\n",
      "[INFO 04-05 14:36:32] ax.service.ax_client: Completed trial 216 with data: {'Viable_Cross_Terms': (34, None)}.\n",
      "[INFO 04-05 14:36:51] ax.service.ax_client: Generated new trial 217 with parameters {'z_sh': 7, 'z_sh_1': 13, 'z_sh_2': 5, 'z_p2': 31, 'z_p2_1': 30, 'z_p2_2': 33, 'z_r2': 82, 'z_r2_1': 76, 'z_r2_2': 82, 'x_s': 0.5, 'x_s_1': 0.4, 'x_s_2': 0.3, 'x_p1': 0.647288, 'x_p1_1': 0.547288, 'x_p1_2': 0.447288, 'x_p2': 0.469115, 'x_p2_1': 0.369115, 'x_p2_2': 0.269115, 'x_r2': 0.947626, 'x_r2_1': 0.847626, 'x_r2_2': 0.747626} using model BoTorch.\n",
      "[INFO 04-05 14:36:51] ax.service.ax_client: Completed trial 217 with data: {'Viable_Cross_Terms': (35, None)}.\n",
      "[INFO 04-05 14:37:09] ax.service.ax_client: Generated new trial 218 with parameters {'z_sh': 9, 'z_sh_1': 10, 'z_sh_2': 6, 'z_p2': 29, 'z_p2_1': 28, 'z_p2_2': 33, 'z_r2': 77, 'z_r2_1': 77, 'z_r2_2': 78, 'x_s': 0.5, 'x_s_1': 0.4, 'x_s_2': 0.3, 'x_p1': 0.607325, 'x_p1_1': 0.507325, 'x_p1_2': 0.407325, 'x_p2': 0.5, 'x_p2_1': 0.4, 'x_p2_2': 0.3, 'x_r2': 0.95397, 'x_r2_1': 0.85397, 'x_r2_2': 0.75397} using model BoTorch.\n",
      "[INFO 04-05 14:37:09] ax.service.ax_client: Completed trial 218 with data: {'Viable_Cross_Terms': (35, None)}.\n",
      "[INFO 04-05 14:37:27] ax.service.ax_client: Generated new trial 219 with parameters {'z_sh': 9, 'z_sh_1': 12, 'z_sh_2': 5, 'z_p2': 30, 'z_p2_1': 34, 'z_p2_2': 28, 'z_r2': 80, 'z_r2_1': 72, 'z_r2_2': 79, 'x_s': 0.5, 'x_s_1': 0.4, 'x_s_2': 0.3, 'x_p1': 0.675396, 'x_p1_1': 0.575396, 'x_p1_2': 0.475396, 'x_p2': 0.5, 'x_p2_1': 0.4, 'x_p2_2': 0.3, 'x_r2': 0.945771, 'x_r2_1': 0.845771, 'x_r2_2': 0.745771} using model BoTorch.\n",
      "[INFO 04-05 14:37:27] ax.service.ax_client: Completed trial 219 with data: {'Viable_Cross_Terms': (60, None)}.\n",
      "[INFO 04-05 14:37:46] ax.service.ax_client: Generated new trial 220 with parameters {'z_sh': 15, 'z_sh_1': 13, 'z_sh_2': 5, 'z_p2': 27, 'z_p2_1': 30, 'z_p2_2': 33, 'z_r2': 79, 'z_r2_1': 81, 'z_r2_2': 78, 'x_s': 0.5, 'x_s_1': 0.4, 'x_s_2': 0.3, 'x_p1': 0.668364, 'x_p1_1': 0.568364, 'x_p1_2': 0.468364, 'x_p2': 0.5, 'x_p2_1': 0.4, 'x_p2_2': 0.3, 'x_r2': 0.934468, 'x_r2_1': 0.834468, 'x_r2_2': 0.734468} using model BoTorch.\n",
      "[INFO 04-05 14:37:46] ax.service.ax_client: Completed trial 220 with data: {'Viable_Cross_Terms': (25, None)}.\n",
      "[INFO 04-05 14:38:06] ax.service.ax_client: Generated new trial 221 with parameters {'z_sh': 7, 'z_sh_1': 8, 'z_sh_2': 5, 'z_p2': 33, 'z_p2_1': 32, 'z_p2_2': 33, 'z_r2': 79, 'z_r2_1': 73, 'z_r2_2': 80, 'x_s': 0.5, 'x_s_1': 0.4, 'x_s_2': 0.3, 'x_p1': 0.621386, 'x_p1_1': 0.521386, 'x_p1_2': 0.421386, 'x_p2': 0.5, 'x_p2_1': 0.4, 'x_p2_2': 0.3, 'x_r2': 0.952779, 'x_r2_1': 0.852779, 'x_r2_2': 0.752779} using model BoTorch.\n",
      "[INFO 04-05 14:38:06] ax.service.ax_client: Completed trial 221 with data: {'Viable_Cross_Terms': (72, None)}.\n",
      "[INFO 04-05 14:38:25] ax.service.ax_client: Generated new trial 222 with parameters {'z_sh': 11, 'z_sh_1': 9, 'z_sh_2': 5, 'z_p2': 33, 'z_p2_1': 27, 'z_p2_2': 31, 'z_r2': 78, 'z_r2_1': 75, 'z_r2_2': 82, 'x_s': 0.5, 'x_s_1': 0.4, 'x_s_2': 0.3, 'x_p1': 0.68547, 'x_p1_1': 0.58547, 'x_p1_2': 0.48547, 'x_p2': 0.5, 'x_p2_1': 0.4, 'x_p2_2': 0.3, 'x_r2': 0.939232, 'x_r2_1': 0.839232, 'x_r2_2': 0.739232} using model BoTorch.\n",
      "[INFO 04-05 14:38:25] ax.service.ax_client: Completed trial 222 with data: {'Viable_Cross_Terms': (24, None)}.\n",
      "[INFO 04-05 14:38:45] ax.service.ax_client: Generated new trial 223 with parameters {'z_sh': 11, 'z_sh_1': 6, 'z_sh_2': 5, 'z_p2': 30, 'z_p2_1': 29, 'z_p2_2': 32, 'z_r2': 82, 'z_r2_1': 82, 'z_r2_2': 83, 'x_s': 0.5, 'x_s_1': 0.4, 'x_s_2': 0.3, 'x_p1': 0.631531, 'x_p1_1': 0.531531, 'x_p1_2': 0.431531, 'x_p2': 0.498587, 'x_p2_1': 0.398587, 'x_p2_2': 0.298587, 'x_r2': 0.939014, 'x_r2_1': 0.839014, 'x_r2_2': 0.739014} using model BoTorch.\n",
      "[INFO 04-05 14:38:45] ax.service.ax_client: Completed trial 223 with data: {'Viable_Cross_Terms': (30, None)}.\n",
      "[INFO 04-05 14:39:04] ax.service.ax_client: Generated new trial 224 with parameters {'z_sh': 7, 'z_sh_1': 8, 'z_sh_2': 6, 'z_p2': 28, 'z_p2_1': 29, 'z_p2_2': 26, 'z_r2': 79, 'z_r2_1': 73, 'z_r2_2': 71, 'x_s': 0.5, 'x_s_1': 0.4, 'x_s_2': 0.3, 'x_p1': 0.633405, 'x_p1_1': 0.533405, 'x_p1_2': 0.433405, 'x_p2': 0.5, 'x_p2_1': 0.4, 'x_p2_2': 0.3, 'x_r2': 0.942848, 'x_r2_1': 0.842848, 'x_r2_2': 0.742848} using model BoTorch.\n",
      "[INFO 04-05 14:39:04] ax.service.ax_client: Completed trial 224 with data: {'Viable_Cross_Terms': (31, None)}.\n",
      "[INFO 04-05 14:39:23] ax.service.ax_client: Generated new trial 225 with parameters {'z_sh': 9, 'z_sh_1': 12, 'z_sh_2': 5, 'z_p2': 29, 'z_p2_1': 28, 'z_p2_2': 25, 'z_r2': 80, 'z_r2_1': 81, 'z_r2_2': 76, 'x_s': 0.5, 'x_s_1': 0.4, 'x_s_2': 0.3, 'x_p1': 0.734189, 'x_p1_1': 0.634189, 'x_p1_2': 0.534189, 'x_p2': 0.498539, 'x_p2_1': 0.398539, 'x_p2_2': 0.298539, 'x_r2': 0.936666, 'x_r2_1': 0.836666, 'x_r2_2': 0.736666} using model BoTorch.\n",
      "[INFO 04-05 14:39:23] ax.service.ax_client: Completed trial 225 with data: {'Viable_Cross_Terms': (48, None)}.\n",
      "[INFO 04-05 14:39:42] ax.service.ax_client: Generated new trial 226 with parameters {'z_sh': 7, 'z_sh_1': 7, 'z_sh_2': 5, 'z_p2': 28, 'z_p2_1': 27, 'z_p2_2': 26, 'z_r2': 77, 'z_r2_1': 74, 'z_r2_2': 80, 'x_s': 0.5, 'x_s_1': 0.4, 'x_s_2': 0.3, 'x_p1': 0.673028, 'x_p1_1': 0.573028, 'x_p1_2': 0.473028, 'x_p2': 0.5, 'x_p2_1': 0.4, 'x_p2_2': 0.3, 'x_r2': 0.942645, 'x_r2_1': 0.842645, 'x_r2_2': 0.742645} using model BoTorch.\n",
      "[INFO 04-05 14:39:42] ax.service.ax_client: Completed trial 226 with data: {'Viable_Cross_Terms': (59, None)}.\n",
      "[INFO 04-05 14:40:01] ax.service.ax_client: Generated new trial 227 with parameters {'z_sh': 11, 'z_sh_1': 12, 'z_sh_2': 5, 'z_p2': 31, 'z_p2_1': 27, 'z_p2_2': 29, 'z_r2': 76, 'z_r2_1': 74, 'z_r2_2': 80, 'x_s': 0.5, 'x_s_1': 0.4, 'x_s_2': 0.3, 'x_p1': 0.583465, 'x_p1_1': 0.483465, 'x_p1_2': 0.383465, 'x_p2': 0.5, 'x_p2_1': 0.4, 'x_p2_2': 0.3, 'x_r2': 0.952075, 'x_r2_1': 0.852075, 'x_r2_2': 0.752075} using model BoTorch.\n",
      "[INFO 04-05 14:40:01] ax.service.ax_client: Completed trial 227 with data: {'Viable_Cross_Terms': (76, None)}.\n",
      "[INFO 04-05 14:40:20] ax.service.ax_client: Generated new trial 228 with parameters {'z_sh': 9, 'z_sh_1': 11, 'z_sh_2': 5, 'z_p2': 27, 'z_p2_1': 32, 'z_p2_2': 29, 'z_r2': 80, 'z_r2_1': 78, 'z_r2_2': 81, 'x_s': 0.5, 'x_s_1': 0.4, 'x_s_2': 0.3, 'x_p1': 0.600029, 'x_p1_1': 0.500029, 'x_p1_2': 0.400029, 'x_p2': 0.465506, 'x_p2_1': 0.365506, 'x_p2_2': 0.265506, 'x_r2': 0.920148, 'x_r2_1': 0.820148, 'x_r2_2': 0.720148} using model BoTorch.\n",
      "[INFO 04-05 14:40:20] ax.service.ax_client: Completed trial 228 with data: {'Viable_Cross_Terms': (67, None)}.\n",
      "[INFO 04-05 14:40:39] ax.service.ax_client: Generated new trial 229 with parameters {'z_sh': 10, 'z_sh_1': 10, 'z_sh_2': 13, 'z_p2': 31, 'z_p2_1': 29, 'z_p2_2': 25, 'z_r2': 86, 'z_r2_1': 72, 'z_r2_2': 82, 'x_s': -0.3, 'x_s_1': -0.4, 'x_s_2': -0.5, 'x_p1': 1.0, 'x_p1_1': 0.9, 'x_p1_2': 0.8, 'x_p2': -0.3, 'x_p2_1': -0.4, 'x_p2_2': -0.5, 'x_r2': -0.168553, 'x_r2_1': -0.268553, 'x_r2_2': -0.368553} using model BoTorch.\n",
      "[INFO 04-05 14:40:39] ax.service.ax_client: Completed trial 229 with data: {'Viable_Cross_Terms': (19, None)}.\n",
      "[INFO 04-05 14:40:58] ax.service.ax_client: Generated new trial 230 with parameters {'z_sh': 7, 'z_sh_1': 8, 'z_sh_2': 5, 'z_p2': 27, 'z_p2_1': 31, 'z_p2_2': 26, 'z_r2': 79, 'z_r2_1': 78, 'z_r2_2': 82, 'x_s': 0.5, 'x_s_1': 0.4, 'x_s_2': 0.3, 'x_p1': 0.59513, 'x_p1_1': 0.49513, 'x_p1_2': 0.39513, 'x_p2': 0.5, 'x_p2_1': 0.4, 'x_p2_2': 0.3, 'x_r2': 0.914812, 'x_r2_1': 0.814812, 'x_r2_2': 0.714812} using model BoTorch.\n",
      "[INFO 04-05 14:40:58] ax.service.ax_client: Completed trial 230 with data: {'Viable_Cross_Terms': (47, None)}.\n",
      "[INFO 04-05 14:41:17] ax.service.ax_client: Generated new trial 231 with parameters {'z_sh': 14, 'z_sh_1': 8, 'z_sh_2': 5, 'z_p2': 35, 'z_p2_1': 32, 'z_p2_2': 31, 'z_r2': 80, 'z_r2_1': 72, 'z_r2_2': 82, 'x_s': 0.5, 'x_s_1': 0.4, 'x_s_2': 0.3, 'x_p1': 0.533836, 'x_p1_1': 0.433836, 'x_p1_2': 0.333836, 'x_p2': 0.5, 'x_p2_1': 0.4, 'x_p2_2': 0.3, 'x_r2': 0.926955, 'x_r2_1': 0.826955, 'x_r2_2': 0.726955} using model BoTorch.\n",
      "[INFO 04-05 14:41:18] ax.service.ax_client: Completed trial 231 with data: {'Viable_Cross_Terms': (86, None)}.\n",
      "[INFO 04-05 14:41:37] ax.service.ax_client: Generated new trial 232 with parameters {'z_sh': 7, 'z_sh_1': 10, 'z_sh_2': 5, 'z_p2': 32, 'z_p2_1': 29, 'z_p2_2': 33, 'z_r2': 79, 'z_r2_1': 81, 'z_r2_2': 76, 'x_s': 0.5, 'x_s_1': 0.4, 'x_s_2': 0.3, 'x_p1': 0.582782, 'x_p1_1': 0.482782, 'x_p1_2': 0.382782, 'x_p2': 0.5, 'x_p2_1': 0.4, 'x_p2_2': 0.3, 'x_r2': 0.900281, 'x_r2_1': 0.800281, 'x_r2_2': 0.700281} using model BoTorch.\n",
      "[INFO 04-05 14:41:37] ax.service.ax_client: Completed trial 232 with data: {'Viable_Cross_Terms': (30, None)}.\n",
      "[INFO 04-05 14:41:56] ax.service.ax_client: Generated new trial 233 with parameters {'z_sh': 8, 'z_sh_1': 6, 'z_sh_2': 7, 'z_p2': 34, 'z_p2_1': 32, 'z_p2_2': 26, 'z_r2': 81, 'z_r2_1': 76, 'z_r2_2': 72, 'x_s': 0.5, 'x_s_1': 0.4, 'x_s_2': 0.3, 'x_p1': 0.539237, 'x_p1_1': 0.439237, 'x_p1_2': 0.339237, 'x_p2': 0.5, 'x_p2_1': 0.4, 'x_p2_2': 0.3, 'x_r2': 0.92206, 'x_r2_1': 0.82206, 'x_r2_2': 0.72206} using model BoTorch.\n",
      "[INFO 04-05 14:41:56] ax.service.ax_client: Completed trial 233 with data: {'Viable_Cross_Terms': (34, None)}.\n",
      "[INFO 04-05 14:42:15] ax.service.ax_client: Generated new trial 234 with parameters {'z_sh': 9, 'z_sh_1': 12, 'z_sh_2': 6, 'z_p2': 34, 'z_p2_1': 29, 'z_p2_2': 29, 'z_r2': 81, 'z_r2_1': 83, 'z_r2_2': 77, 'x_s': 0.5, 'x_s_1': 0.4, 'x_s_2': 0.3, 'x_p1': 0.599641, 'x_p1_1': 0.499641, 'x_p1_2': 0.399641, 'x_p2': 0.5, 'x_p2_1': 0.4, 'x_p2_2': 0.3, 'x_r2': 0.928637, 'x_r2_1': 0.828637, 'x_r2_2': 0.728637} using model BoTorch.\n",
      "[INFO 04-05 14:42:15] ax.service.ax_client: Completed trial 234 with data: {'Viable_Cross_Terms': (30, None)}.\n",
      "[INFO 04-05 14:42:36] ax.service.ax_client: Generated new trial 235 with parameters {'z_sh': 9, 'z_sh_1': 9, 'z_sh_2': 5, 'z_p2': 34, 'z_p2_1': 31, 'z_p2_2': 27, 'z_r2': 81, 'z_r2_1': 80, 'z_r2_2': 83, 'x_s': 0.5, 'x_s_1': 0.4, 'x_s_2': 0.3, 'x_p1': 0.59125, 'x_p1_1': 0.49125, 'x_p1_2': 0.39125, 'x_p2': 0.5, 'x_p2_1': 0.4, 'x_p2_2': 0.3, 'x_r2': 0.932746, 'x_r2_1': 0.832746, 'x_r2_2': 0.732746} using model BoTorch.\n",
      "[INFO 04-05 14:42:36] ax.service.ax_client: Completed trial 235 with data: {'Viable_Cross_Terms': (70, None)}.\n",
      "[INFO 04-05 14:42:54] ax.service.ax_client: Generated new trial 236 with parameters {'z_sh': 7, 'z_sh_1': 6, 'z_sh_2': 5, 'z_p2': 33, 'z_p2_1': 32, 'z_p2_2': 28, 'z_r2': 79, 'z_r2_1': 82, 'z_r2_2': 79, 'x_s': 0.5, 'x_s_1': 0.4, 'x_s_2': 0.3, 'x_p1': 0.525423, 'x_p1_1': 0.425423, 'x_p1_2': 0.325423, 'x_p2': 0.5, 'x_p2_1': 0.4, 'x_p2_2': 0.3, 'x_r2': 0.927431, 'x_r2_1': 0.827431, 'x_r2_2': 0.727431} using model BoTorch.\n",
      "[INFO 04-05 14:42:54] ax.service.ax_client: Completed trial 236 with data: {'Viable_Cross_Terms': (37, None)}.\n",
      "[INFO 04-05 14:43:14] ax.service.ax_client: Generated new trial 237 with parameters {'z_sh': 9, 'z_sh_1': 6, 'z_sh_2': 5, 'z_p2': 29, 'z_p2_1': 30, 'z_p2_2': 33, 'z_r2': 80, 'z_r2_1': 73, 'z_r2_2': 84, 'x_s': 0.5, 'x_s_1': 0.4, 'x_s_2': 0.3, 'x_p1': 0.575129, 'x_p1_1': 0.475129, 'x_p1_2': 0.375129, 'x_p2': 0.5, 'x_p2_1': 0.4, 'x_p2_2': 0.3, 'x_r2': 0.928765, 'x_r2_1': 0.828765, 'x_r2_2': 0.728765} using model BoTorch.\n",
      "[INFO 04-05 14:43:14] ax.service.ax_client: Completed trial 237 with data: {'Viable_Cross_Terms': (69, None)}.\n",
      "[INFO 04-05 14:43:34] ax.service.ax_client: Generated new trial 238 with parameters {'z_sh': 9, 'z_sh_1': 12, 'z_sh_2': 5, 'z_p2': 30, 'z_p2_1': 28, 'z_p2_2': 27, 'z_r2': 80, 'z_r2_1': 80, 'z_r2_2': 82, 'x_s': 0.5, 'x_s_1': 0.4, 'x_s_2': 0.3, 'x_p1': -0.044078, 'x_p1_1': -0.144078, 'x_p1_2': -0.244078, 'x_p2': 0.485347, 'x_p2_1': 0.385347, 'x_p2_2': 0.285347, 'x_r2': 1.058232, 'x_r2_1': 0.958232, 'x_r2_2': 0.858232} using model BoTorch.\n",
      "[INFO 04-05 14:43:34] ax.service.ax_client: Completed trial 238 with data: {'Viable_Cross_Terms': (40, None)}.\n",
      "[INFO 04-05 14:43:57] ax.service.ax_client: Generated new trial 239 with parameters {'z_sh': 13, 'z_sh_1': 6, 'z_sh_2': 5, 'z_p2': 28, 'z_p2_1': 32, 'z_p2_2': 30, 'z_r2': 80, 'z_r2_1': 72, 'z_r2_2': 72, 'x_s': 0.5, 'x_s_1': 0.4, 'x_s_2': 0.3, 'x_p1': 0.519126, 'x_p1_1': 0.419126, 'x_p1_2': 0.319126, 'x_p2': 0.422467, 'x_p2_1': 0.322467, 'x_p2_2': 0.222467, 'x_r2': 1.040026, 'x_r2_1': 0.940026, 'x_r2_2': 0.840026} using model BoTorch.\n",
      "[INFO 04-05 14:43:57] ax.service.ax_client: Completed trial 239 with data: {'Viable_Cross_Terms': (58, None)}.\n",
      "[INFO 04-05 14:44:18] ax.service.ax_client: Generated new trial 240 with parameters {'z_sh': 7, 'z_sh_1': 7, 'z_sh_2': 5, 'z_p2': 30, 'z_p2_1': 34, 'z_p2_2': 32, 'z_r2': 78, 'z_r2_1': 84, 'z_r2_2': 78, 'x_s': 0.5, 'x_s_1': 0.4, 'x_s_2': 0.3, 'x_p1': 0.449879, 'x_p1_1': 0.349879, 'x_p1_2': 0.249879, 'x_p2': 0.5, 'x_p2_1': 0.4, 'x_p2_2': 0.3, 'x_r2': 0.946059, 'x_r2_1': 0.846059, 'x_r2_2': 0.746059} using model BoTorch.\n",
      "[INFO 04-05 14:44:18] ax.service.ax_client: Completed trial 240 with data: {'Viable_Cross_Terms': (34, None)}.\n",
      "[INFO 04-05 14:44:37] ax.service.ax_client: Generated new trial 241 with parameters {'z_sh': 12, 'z_sh_1': 6, 'z_sh_2': 5, 'z_p2': 31, 'z_p2_1': 28, 'z_p2_2': 32, 'z_r2': 78, 'z_r2_1': 71, 'z_r2_2': 79, 'x_s': 0.5, 'x_s_1': 0.4, 'x_s_2': 0.3, 'x_p1': 0.508671, 'x_p1_1': 0.408671, 'x_p1_2': 0.308671, 'x_p2': 0.5, 'x_p2_1': 0.4, 'x_p2_2': 0.3, 'x_r2': 0.945289, 'x_r2_1': 0.845289, 'x_r2_2': 0.745289} using model BoTorch.\n",
      "[INFO 04-05 14:44:37] ax.service.ax_client: Completed trial 241 with data: {'Viable_Cross_Terms': (43, None)}.\n",
      "[INFO 04-05 14:45:00] ax.service.ax_client: Generated new trial 242 with parameters {'z_sh': 7, 'z_sh_1': 6, 'z_sh_2': 5, 'z_p2': 32, 'z_p2_1': 31, 'z_p2_2': 26, 'z_r2': 80, 'z_r2_1': 74, 'z_r2_2': 78, 'x_s': 0.5, 'x_s_1': 0.4, 'x_s_2': 0.3, 'x_p1': 0.533066, 'x_p1_1': 0.433066, 'x_p1_2': 0.333066, 'x_p2': 0.453665, 'x_p2_1': 0.353665, 'x_p2_2': 0.253665, 'x_r2': 1.033269, 'x_r2_1': 0.933269, 'x_r2_2': 0.833269} using model BoTorch.\n",
      "[INFO 04-05 14:45:00] ax.service.ax_client: Completed trial 242 with data: {'Viable_Cross_Terms': (95, None)}.\n",
      "[INFO 04-05 14:45:23] ax.service.ax_client: Generated new trial 243 with parameters {'z_sh': 9, 'z_sh_1': 8, 'z_sh_2': 7, 'z_p2': 34, 'z_p2_1': 27, 'z_p2_2': 30, 'z_r2': 80, 'z_r2_1': 80, 'z_r2_2': 82, 'x_s': 0.5, 'x_s_1': 0.4, 'x_s_2': 0.3, 'x_p1': 0.509492, 'x_p1_1': 0.409492, 'x_p1_2': 0.30797, 'x_p2': 0.441187, 'x_p2_1': 0.34097, 'x_p2_2': 0.24097, 'x_r2': 1.043727, 'x_r2_1': 0.943727, 'x_r2_2': 0.843727} using model BoTorch.\n",
      "[INFO 04-05 14:45:23] ax.service.ax_client: Completed trial 243 with data: {'Viable_Cross_Terms': (30, None)}.\n",
      "[INFO 04-05 14:45:42] ax.service.ax_client: Generated new trial 244 with parameters {'z_sh': 10, 'z_sh_1': 6, 'z_sh_2': 5, 'z_p2': 30, 'z_p2_1': 27, 'z_p2_2': 31, 'z_r2': 81, 'z_r2_1': 78, 'z_r2_2': 83, 'x_s': 0.5, 'x_s_1': 0.4, 'x_s_2': 0.3, 'x_p1': 0.455636, 'x_p1_1': 0.355636, 'x_p1_2': 0.255636, 'x_p2': 0.5, 'x_p2_1': 0.4, 'x_p2_2': 0.3, 'x_r2': 0.965479, 'x_r2_1': 0.865479, 'x_r2_2': 0.765479} using model BoTorch.\n",
      "[INFO 04-05 14:45:42] ax.service.ax_client: Completed trial 244 with data: {'Viable_Cross_Terms': (40, None)}.\n",
      "[INFO 04-05 14:46:03] ax.service.ax_client: Generated new trial 245 with parameters {'z_sh': 15, 'z_sh_1': 10, 'z_sh_2': 5, 'z_p2': 29, 'z_p2_1': 34, 'z_p2_2': 32, 'z_r2': 77, 'z_r2_1': 83, 'z_r2_2': 75, 'x_s': 0.5, 'x_s_1': 0.4, 'x_s_2': 0.3, 'x_p1': 0.398149, 'x_p1_1': 0.298149, 'x_p1_2': 0.198149, 'x_p2': 0.5, 'x_p2_1': 0.4, 'x_p2_2': 0.3, 'x_r2': 0.972286, 'x_r2_1': 0.872286, 'x_r2_2': 0.772286} using model BoTorch.\n",
      "[INFO 04-05 14:46:03] ax.service.ax_client: Completed trial 245 with data: {'Viable_Cross_Terms': (27, None)}.\n",
      "[INFO 04-05 14:46:23] ax.service.ax_client: Generated new trial 246 with parameters {'z_sh': 10, 'z_sh_1': 9, 'z_sh_2': 5, 'z_p2': 30, 'z_p2_1': 27, 'z_p2_2': 28, 'z_r2': 78, 'z_r2_1': 77, 'z_r2_2': 80, 'x_s': 0.5, 'x_s_1': 0.4, 'x_s_2': 0.3, 'x_p1': 0.517981, 'x_p1_1': 0.417981, 'x_p1_2': 0.317981, 'x_p2': 0.5, 'x_p2_1': 0.4, 'x_p2_2': 0.3, 'x_r2': 0.963992, 'x_r2_1': 0.863992, 'x_r2_2': 0.763992} using model BoTorch.\n",
      "[INFO 04-05 14:46:23] ax.service.ax_client: Completed trial 246 with data: {'Viable_Cross_Terms': (71, None)}.\n"
     ]
    }
   ],
   "source": [
    "for i in range(100):\n",
    "    parameterization, trial_index = Tag_client.get_next_trial()\n",
    "    # Local evaluation here can be replaced with deployment to external system.\n",
    "    Tag_client.complete_trial(trial_index=trial_index, raw_data=score_vals(param_to_list(parameterization)))"
   ]
  },
  {
   "cell_type": "code",
   "execution_count": 44,
   "metadata": {},
   "outputs": [
    {
     "data": {
      "application/vnd.plotly.v1+json": {
       "config": {
        "linkText": "Export to plot.ly",
        "plotlyServerURL": "https://plot.ly",
        "showLink": false
       },
       "data": [
        {
         "hoverinfo": "none",
         "legendgroup": "",
         "line": {
          "width": 0
         },
         "mode": "lines",
         "showlegend": false,
         "type": "scatter",
         "x": {
          "bdata": "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",
          "dtype": "i2"
         },
         "y": {
          "bdata": "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",
          "dtype": "f8"
         }
        },
        {
         "fill": "tonexty",
         "fillcolor": "rgba(128,177,211,0.3)",
         "legendgroup": "objective value",
         "line": {
          "color": "rgba(128,177,211,1)"
         },
         "mode": "lines",
         "name": "objective value",
         "text": [
          "Parameterization has too many items to render on hover (21).",
          "Parameterization has too many items to render on hover (21).",
          "Parameterization has too many items to render on hover (21).",
          "Parameterization has too many items to render on hover (21).",
          "Parameterization has too many items to render on hover (21).",
          "Parameterization has too many items to render on hover (21).",
          "Parameterization has too many items to render on hover (21).",
          "Parameterization has too many items to render on hover (21).",
          "Parameterization has too many items to render on hover (21).",
          "Parameterization has too many items to render on hover (21).",
          "Parameterization has too many items to render on hover (21).",
          "Parameterization has too many items to render on hover (21).",
          "Parameterization has too many items to render on hover (21).",
          "Parameterization has too many items to render on hover (21).",
          "Parameterization has too many items to render on hover (21).",
          "Parameterization has too many items to render on hover (21).",
          "Parameterization has too many items to render on hover (21).",
          "Parameterization has too many items to render on hover (21).",
          "Parameterization has too many items to render on hover (21).",
          "Parameterization has too many items to render on hover (21).",
          "Parameterization has too many items to render on hover (21).",
          "Parameterization has too many items to render on hover (21).",
          "Parameterization has too many items to render on hover (21).",
          "Parameterization has too many items to render on hover (21).",
          "Parameterization has too many items to render on hover (21).",
          "Parameterization has too many items to render on hover (21).",
          "Parameterization has too many items to render on hover (21).",
          "Parameterization has too many items to render on hover (21).",
          "Parameterization has too many items to render on hover (21).",
          "Parameterization has too many items to render on hover (21).",
          "Parameterization has too many items to render on hover (21).",
          "Parameterization has too many items to render on hover (21).",
          "Parameterization has too many items to render on hover (21).",
          "Parameterization has too many items to render on hover (21).",
          "Parameterization has too many items to render on hover (21).",
          "Parameterization has too many items to render on hover (21).",
          "Parameterization has too many items to render on hover (21).",
          "Parameterization has too many items to render on hover (21).",
          "Parameterization has too many items to render on hover (21).",
          "Parameterization has too many items to render on hover (21).",
          "Parameterization has too many items to render on hover (21).",
          "Parameterization has too many items to render on hover (21).",
          "Parameterization has too many items to render on hover (21).",
          "Parameterization has too many items to render on hover (21).",
          "Parameterization has too many items to render on hover (21).",
          "Parameterization has too many items to render on hover (21).",
          "Parameterization has too many items to render on hover (21).",
          "Parameterization has too many items to render on hover (21).",
          "Parameterization has too many items to render on hover (21).",
          "Parameterization has too many items to render on hover (21).",
          "Parameterization has too many items to render on hover (21).",
          "Parameterization has too many items to render on hover (21).",
          "Parameterization has too many items to render on hover (21).",
          "Parameterization has too many items to render on hover (21).",
          "Parameterization has too many items to render on hover (21).",
          "Parameterization has too many items to render on hover (21).",
          "Parameterization has too many items to render on hover (21).",
          "Parameterization has too many items to render on hover (21).",
          "Parameterization has too many items to render on hover (21).",
          "Parameterization has too many items to render on hover (21).",
          "Parameterization has too many items to render on hover (21).",
          "Parameterization has too many items to render on hover (21).",
          "Parameterization has too many items to render on hover (21).",
          "Parameterization has too many items to render on hover (21).",
          "Parameterization has too many items to render on hover (21).",
          "Parameterization has too many items to render on hover (21).",
          "Parameterization has too many items to render on hover (21).",
          "Parameterization has too many items to render on hover (21).",
          "Parameterization has too many items to render on hover (21).",
          "Parameterization has too many items to render on hover (21).",
          "Parameterization has too many items to render on hover (21).",
          "Parameterization has too many items to render on hover (21).",
          "Parameterization has too many items to render on hover (21).",
          "Parameterization has too many items to render on hover (21).",
          "Parameterization has too many items to render on hover (21).",
          "Parameterization has too many items to render on hover (21).",
          "Parameterization has too many items to render on hover (21).",
          "Parameterization has too many items to render on hover (21).",
          "Parameterization has too many items to render on hover (21).",
          "Parameterization has too many items to render on hover (21).",
          "Parameterization has too many items to render on hover (21).",
          "Parameterization has too many items to render on hover (21).",
          "Parameterization has too many items to render on hover (21).",
          "Parameterization has too many items to render on hover (21).",
          "Parameterization has too many items to render on hover (21).",
          "Parameterization has too many items to render on hover (21).",
          "Parameterization has too many items to render on hover (21).",
          "Parameterization has too many items to render on hover (21).",
          "Parameterization has too many items to render on hover (21).",
          "Parameterization has too many items to render on hover (21).",
          "Parameterization has too many items to render on hover (21).",
          "Parameterization has too many items to render on hover (21).",
          "Parameterization has too many items to render on hover (21).",
          "Parameterization has too many items to render on hover (21).",
          "Parameterization has too many items to render on hover (21).",
          "Parameterization has too many items to render on hover (21).",
          "Parameterization has too many items to render on hover (21).",
          "Parameterization has too many items to render on hover (21).",
          "Parameterization has too many items to render on hover (21).",
          "Parameterization has too many items to render on hover (21).",
          "Parameterization has too many items to render on hover (21).",
          "Parameterization has too many items to render on hover (21).",
          "Parameterization has too many items to render on hover (21).",
          "Parameterization has too many items to render on hover (21).",
          "Parameterization has too many items to render on hover (21).",
          "Parameterization has too many items to render on hover (21).",
          "Parameterization has too many items to render on hover (21).",
          "Parameterization has too many items to render on hover (21).",
          "Parameterization has too many items to render on hover (21).",
          "Parameterization has too many items to render on hover (21).",
          "Parameterization has too many items to render on hover (21).",
          "Parameterization has too many items to render on hover (21).",
          "Parameterization has too many items to render on hover (21).",
          "Parameterization has too many items to render on hover (21).",
          "Parameterization has too many items to render on hover (21).",
          "Parameterization has too many items to render on hover (21).",
          "Parameterization has too many items to render on hover (21).",
          "Parameterization has too many items to render on hover (21).",
          "Parameterization has too many items to render on hover (21).",
          "Parameterization has too many items to render on hover (21).",
          "Parameterization has too many items to render on hover (21).",
          "Parameterization has too many items to render on hover (21).",
          "Parameterization has too many items to render on hover (21).",
          "Parameterization has too many items to render on hover (21).",
          "Parameterization has too many items to render on hover (21).",
          "Parameterization has too many items to render on hover (21).",
          "Parameterization has too many items to render on hover (21).",
          "Parameterization has too many items to render on hover (21).",
          "Parameterization has too many items to render on hover (21).",
          "Parameterization has too many items to render on hover (21).",
          "Parameterization has too many items to render on hover (21).",
          "Parameterization has too many items to render on hover (21).",
          "Parameterization has too many items to render on hover (21).",
          "Parameterization has too many items to render on hover (21).",
          "Parameterization has too many items to render on hover (21).",
          "Parameterization has too many items to render on hover (21).",
          "Parameterization has too many items to render on hover (21).",
          "Parameterization has too many items to render on hover (21).",
          "Parameterization has too many items to render on hover (21).",
          "Parameterization has too many items to render on hover (21).",
          "Parameterization has too many items to render on hover (21).",
          "Parameterization has too many items to render on hover (21).",
          "Parameterization has too many items to render on hover (21).",
          "Parameterization has too many items to render on hover (21).",
          "Parameterization has too many items to render on hover (21).",
          "Parameterization has too many items to render on hover (21).",
          "Parameterization has too many items to render on hover (21).",
          "Parameterization has too many items to render on hover (21).",
          "Parameterization has too many items to render on hover (21).",
          "Parameterization has too many items to render on hover (21).",
          "Parameterization has too many items to render on hover (21).",
          "Parameterization has too many items to render on hover (21).",
          "Parameterization has too many items to render on hover (21).",
          "Parameterization has too many items to render on hover (21).",
          "Parameterization has too many items to render on hover (21).",
          "Parameterization has too many items to render on hover (21).",
          "Parameterization has too many items to render on hover (21).",
          "Parameterization has too many items to render on hover (21).",
          "Parameterization has too many items to render on hover (21).",
          "Parameterization has too many items to render on hover (21).",
          "Parameterization has too many items to render on hover (21).",
          "Parameterization has too many items to render on hover (21).",
          "Parameterization has too many items to render on hover (21).",
          "Parameterization has too many items to render on hover (21).",
          "Parameterization has too many items to render on hover (21).",
          "Parameterization has too many items to render on hover (21).",
          "Parameterization has too many items to render on hover (21).",
          "Parameterization has too many items to render on hover (21).",
          "Parameterization has too many items to render on hover (21).",
          "Parameterization has too many items to render on hover (21).",
          "Parameterization has too many items to render on hover (21).",
          "Parameterization has too many items to render on hover (21).",
          "Parameterization has too many items to render on hover (21).",
          "Parameterization has too many items to render on hover (21).",
          "Parameterization has too many items to render on hover (21).",
          "Parameterization has too many items to render on hover (21).",
          "Parameterization has too many items to render on hover (21).",
          "Parameterization has too many items to render on hover (21).",
          "Parameterization has too many items to render on hover (21).",
          "Parameterization has too many items to render on hover (21).",
          "Parameterization has too many items to render on hover (21).",
          "Parameterization has too many items to render on hover (21).",
          "Parameterization has too many items to render on hover (21).",
          "Parameterization has too many items to render on hover (21).",
          "Parameterization has too many items to render on hover (21).",
          "Parameterization has too many items to render on hover (21).",
          "Parameterization has too many items to render on hover (21).",
          "Parameterization has too many items to render on hover (21).",
          "Parameterization has too many items to render on hover (21).",
          "Parameterization has too many items to render on hover (21).",
          "Parameterization has too many items to render on hover (21).",
          "Parameterization has too many items to render on hover (21).",
          "Parameterization has too many items to render on hover (21).",
          "Parameterization has too many items to render on hover (21).",
          "Parameterization has too many items to render on hover (21).",
          "Parameterization has too many items to render on hover (21).",
          "Parameterization has too many items to render on hover (21).",
          "Parameterization has too many items to render on hover (21).",
          "Parameterization has too many items to render on hover (21).",
          "Parameterization has too many items to render on hover (21).",
          "Parameterization has too many items to render on hover (21).",
          "Parameterization has too many items to render on hover (21).",
          "Parameterization has too many items to render on hover (21).",
          "Parameterization has too many items to render on hover (21).",
          "Parameterization has too many items to render on hover (21).",
          "Parameterization has too many items to render on hover (21).",
          "Parameterization has too many items to render on hover (21).",
          "Parameterization has too many items to render on hover (21).",
          "Parameterization has too many items to render on hover (21).",
          "Parameterization has too many items to render on hover (21).",
          "Parameterization has too many items to render on hover (21).",
          "Parameterization has too many items to render on hover (21).",
          "Parameterization has too many items to render on hover (21).",
          "Parameterization has too many items to render on hover (21).",
          "Parameterization has too many items to render on hover (21).",
          "Parameterization has too many items to render on hover (21).",
          "Parameterization has too many items to render on hover (21).",
          "Parameterization has too many items to render on hover (21).",
          "Parameterization has too many items to render on hover (21).",
          "Parameterization has too many items to render on hover (21).",
          "Parameterization has too many items to render on hover (21).",
          "Parameterization has too many items to render on hover (21).",
          "Parameterization has too many items to render on hover (21).",
          "Parameterization has too many items to render on hover (21).",
          "Parameterization has too many items to render on hover (21).",
          "Parameterization has too many items to render on hover (21).",
          "Parameterization has too many items to render on hover (21).",
          "Parameterization has too many items to render on hover (21).",
          "Parameterization has too many items to render on hover (21).",
          "Parameterization has too many items to render on hover (21).",
          "Parameterization has too many items to render on hover (21).",
          "Parameterization has too many items to render on hover (21).",
          "Parameterization has too many items to render on hover (21).",
          "Parameterization has too many items to render on hover (21).",
          "Parameterization has too many items to render on hover (21).",
          "Parameterization has too many items to render on hover (21).",
          "Parameterization has too many items to render on hover (21).",
          "Parameterization has too many items to render on hover (21).",
          "Parameterization has too many items to render on hover (21).",
          "Parameterization has too many items to render on hover (21).",
          "Parameterization has too many items to render on hover (21).",
          "Parameterization has too many items to render on hover (21).",
          "Parameterization has too many items to render on hover (21).",
          "Parameterization has too many items to render on hover (21).",
          "Parameterization has too many items to render on hover (21).",
          "Parameterization has too many items to render on hover (21).",
          "Parameterization has too many items to render on hover (21).",
          "Parameterization has too many items to render on hover (21).",
          "Parameterization has too many items to render on hover (21).",
          "Parameterization has too many items to render on hover (21).",
          "Parameterization has too many items to render on hover (21).",
          "Parameterization has too many items to render on hover (21).",
          "Parameterization has too many items to render on hover (21).",
          "Parameterization has too many items to render on hover (21).",
          "Parameterization has too many items to render on hover (21).",
          "Parameterization has too many items to render on hover (21).",
          "Parameterization has too many items to render on hover (21).",
          "Parameterization has too many items to render on hover (21).",
          "Parameterization has too many items to render on hover (21).",
          "Parameterization has too many items to render on hover (21).",
          "Parameterization has too many items to render on hover (21).",
          "Parameterization has too many items to render on hover (21).",
          "Parameterization has too many items to render on hover (21).",
          "Parameterization has too many items to render on hover (21).",
          "Parameterization has too many items to render on hover (21).",
          "Parameterization has too many items to render on hover (21).",
          "Parameterization has too many items to render on hover (21).",
          "Parameterization has too many items to render on hover (21).",
          "Parameterization has too many items to render on hover (21).",
          "Parameterization has too many items to render on hover (21).",
          "Parameterization has too many items to render on hover (21).",
          "Parameterization has too many items to render on hover (21).",
          "Parameterization has too many items to render on hover (21).",
          "Parameterization has too many items to render on hover (21).",
          "Parameterization has too many items to render on hover (21).",
          "Parameterization has too many items to render on hover (21).",
          "Parameterization has too many items to render on hover (21).",
          "Parameterization has too many items to render on hover (21).",
          "Parameterization has too many items to render on hover (21).",
          "Parameterization has too many items to render on hover (21).",
          "Parameterization has too many items to render on hover (21).",
          "Parameterization has too many items to render on hover (21).",
          "Parameterization has too many items to render on hover (21).",
          "Parameterization has too many items to render on hover (21).",
          "Parameterization has too many items to render on hover (21).",
          "Parameterization has too many items to render on hover (21).",
          "Parameterization has too many items to render on hover (21).",
          "Parameterization has too many items to render on hover (21).",
          "Parameterization has too many items to render on hover (21).",
          "Parameterization has too many items to render on hover (21).",
          "Parameterization has too many items to render on hover (21).",
          "Parameterization has too many items to render on hover (21).",
          "Parameterization has too many items to render on hover (21).",
          "Parameterization has too many items to render on hover (21).",
          "Parameterization has too many items to render on hover (21).",
          "Parameterization has too many items to render on hover (21).",
          "Parameterization has too many items to render on hover (21).",
          "Parameterization has too many items to render on hover (21).",
          "Parameterization has too many items to render on hover (21).",
          "Parameterization has too many items to render on hover (21).",
          "Parameterization has too many items to render on hover (21).",
          "Parameterization has too many items to render on hover (21).",
          "Parameterization has too many items to render on hover (21).",
          "Parameterization has too many items to render on hover (21).",
          "Parameterization has too many items to render on hover (21).",
          "Parameterization has too many items to render on hover (21).",
          "Parameterization has too many items to render on hover (21).",
          "Parameterization has too many items to render on hover (21).",
          "Parameterization has too many items to render on hover (21).",
          "Parameterization has too many items to render on hover (21).",
          "Parameterization has too many items to render on hover (21).",
          "Parameterization has too many items to render on hover (21).",
          "Parameterization has too many items to render on hover (21).",
          "Parameterization has too many items to render on hover (21).",
          "Parameterization has too many items to render on hover (21).",
          "Parameterization has too many items to render on hover (21).",
          "Parameterization has too many items to render on hover (21).",
          "Parameterization has too many items to render on hover (21).",
          "Parameterization has too many items to render on hover (21).",
          "Parameterization has too many items to render on hover (21).",
          "Parameterization has too many items to render on hover (21).",
          "Parameterization has too many items to render on hover (21).",
          "Parameterization has too many items to render on hover (21).",
          "Parameterization has too many items to render on hover (21).",
          "Parameterization has too many items to render on hover (21).",
          "Parameterization has too many items to render on hover (21).",
          "Parameterization has too many items to render on hover (21).",
          "Parameterization has too many items to render on hover (21).",
          "Parameterization has too many items to render on hover (21).",
          "Parameterization has too many items to render on hover (21).",
          "Parameterization has too many items to render on hover (21).",
          "Parameterization has too many items to render on hover (21).",
          "Parameterization has too many items to render on hover (21).",
          "Parameterization has too many items to render on hover (21).",
          "Parameterization has too many items to render on hover (21).",
          "Parameterization has too many items to render on hover (21).",
          "Parameterization has too many items to render on hover (21).",
          "Parameterization has too many items to render on hover (21).",
          "Parameterization has too many items to render on hover (21).",
          "Parameterization has too many items to render on hover (21).",
          "Parameterization has too many items to render on hover (21).",
          "Parameterization has too many items to render on hover (21).",
          "Parameterization has too many items to render on hover (21).",
          "Parameterization has too many items to render on hover (21).",
          "Parameterization has too many items to render on hover (21).",
          "Parameterization has too many items to render on hover (21).",
          "Parameterization has too many items to render on hover (21).",
          "Parameterization has too many items to render on hover (21).",
          "Parameterization has too many items to render on hover (21).",
          "Parameterization has too many items to render on hover (21).",
          "Parameterization has too many items to render on hover (21).",
          "Parameterization has too many items to render on hover (21).",
          "Parameterization has too many items to render on hover (21).",
          "Parameterization has too many items to render on hover (21).",
          "Parameterization has too many items to render on hover (21).",
          "Parameterization has too many items to render on hover (21).",
          "Parameterization has too many items to render on hover (21).",
          "Parameterization has too many items to render on hover (21).",
          "Parameterization has too many items to render on hover (21).",
          "Parameterization has too many items to render on hover (21).",
          "Parameterization has too many items to render on hover (21).",
          "Parameterization has too many items to render on hover (21).",
          "Parameterization has too many items to render on hover (21).",
          "Parameterization has too many items to render on hover (21).",
          "Parameterization has too many items to render on hover (21).",
          "Parameterization has too many items to render on hover (21).",
          "Parameterization has too many items to render on hover (21).",
          "Parameterization has too many items to render on hover (21).",
          "Parameterization has too many items to render on hover (21).",
          "Parameterization has too many items to render on hover (21).",
          "Parameterization has too many items to render on hover (21).",
          "Parameterization has too many items to render on hover (21).",
          "Parameterization has too many items to render on hover (21).",
          "Parameterization has too many items to render on hover (21).",
          "Parameterization has too many items to render on hover (21).",
          "Parameterization has too many items to render on hover (21).",
          "Parameterization has too many items to render on hover (21).",
          "Parameterization has too many items to render on hover (21).",
          "Parameterization has too many items to render on hover (21).",
          "Parameterization has too many items to render on hover (21).",
          "Parameterization has too many items to render on hover (21).",
          "Parameterization has too many items to render on hover (21).",
          "Parameterization has too many items to render on hover (21).",
          "Parameterization has too many items to render on hover (21).",
          "Parameterization has too many items to render on hover (21).",
          "Parameterization has too many items to render on hover (21).",
          "Parameterization has too many items to render on hover (21).",
          "Parameterization has too many items to render on hover (21).",
          "Parameterization has too many items to render on hover (21).",
          "Parameterization has too many items to render on hover (21).",
          "Parameterization has too many items to render on hover (21).",
          "Parameterization has too many items to render on hover (21).",
          "Parameterization has too many items to render on hover (21).",
          "Parameterization has too many items to render on hover (21).",
          "Parameterization has too many items to render on hover (21).",
          "Parameterization has too many items to render on hover (21).",
          "Parameterization has too many items to render on hover (21).",
          "Parameterization has too many items to render on hover (21).",
          "Parameterization has too many items to render on hover (21).",
          "Parameterization has too many items to render on hover (21).",
          "Parameterization has too many items to render on hover (21).",
          "Parameterization has too many items to render on hover (21).",
          "Parameterization has too many items to render on hover (21).",
          "Parameterization has too many items to render on hover (21).",
          "Parameterization has too many items to render on hover (21).",
          "Parameterization has too many items to render on hover (21).",
          "Parameterization has too many items to render on hover (21).",
          "Parameterization has too many items to render on hover (21).",
          "Parameterization has too many items to render on hover (21).",
          "Parameterization has too many items to render on hover (21).",
          "Parameterization has too many items to render on hover (21).",
          "Parameterization has too many items to render on hover (21).",
          "Parameterization has too many items to render on hover (21).",
          "Parameterization has too many items to render on hover (21).",
          "Parameterization has too many items to render on hover (21).",
          "Parameterization has too many items to render on hover (21).",
          "Parameterization has too many items to render on hover (21).",
          "Parameterization has too many items to render on hover (21).",
          "Parameterization has too many items to render on hover (21).",
          "Parameterization has too many items to render on hover (21).",
          "Parameterization has too many items to render on hover (21).",
          "Parameterization has too many items to render on hover (21).",
          "Parameterization has too many items to render on hover (21).",
          "Parameterization has too many items to render on hover (21).",
          "Parameterization has too many items to render on hover (21).",
          "Parameterization has too many items to render on hover (21).",
          "Parameterization has too many items to render on hover (21).",
          "Parameterization has too many items to render on hover (21).",
          "Parameterization has too many items to render on hover (21).",
          "Parameterization has too many items to render on hover (21).",
          "Parameterization has too many items to render on hover (21).",
          "Parameterization has too many items to render on hover (21).",
          "Parameterization has too many items to render on hover (21).",
          "Parameterization has too many items to render on hover (21).",
          "Parameterization has too many items to render on hover (21).",
          "Parameterization has too many items to render on hover (21).",
          "Parameterization has too many items to render on hover (21).",
          "Parameterization has too many items to render on hover (21).",
          "Parameterization has too many items to render on hover (21).",
          "Parameterization has too many items to render on hover (21).",
          "Parameterization has too many items to render on hover (21).",
          "Parameterization has too many items to render on hover (21).",
          "Parameterization has too many items to render on hover (21).",
          "Parameterization has too many items to render on hover (21).",
          "Parameterization has too many items to render on hover (21).",
          "Parameterization has too many items to render on hover (21).",
          "Parameterization has too many items to render on hover (21).",
          "Parameterization has too many items to render on hover (21).",
          "Parameterization has too many items to render on hover (21).",
          "Parameterization has too many items to render on hover (21).",
          "Parameterization has too many items to render on hover (21).",
          "Parameterization has too many items to render on hover (21).",
          "Parameterization has too many items to render on hover (21).",
          "Parameterization has too many items to render on hover (21).",
          "Parameterization has too many items to render on hover (21).",
          "Parameterization has too many items to render on hover (21).",
          "Parameterization has too many items to render on hover (21).",
          "Parameterization has too many items to render on hover (21).",
          "Parameterization has too many items to render on hover (21).",
          "Parameterization has too many items to render on hover (21).",
          "Parameterization has too many items to render on hover (21).",
          "Parameterization has too many items to render on hover (21).",
          "Parameterization has too many items to render on hover (21).",
          "Parameterization has too many items to render on hover (21).",
          "Parameterization has too many items to render on hover (21).",
          "Parameterization has too many items to render on hover (21).",
          "Parameterization has too many items to render on hover (21).",
          "Parameterization has too many items to render on hover (21).",
          "Parameterization has too many items to render on hover (21).",
          "Parameterization has too many items to render on hover (21).",
          "Parameterization has too many items to render on hover (21).",
          "Parameterization has too many items to render on hover (21).",
          "Parameterization has too many items to render on hover (21).",
          "Parameterization has too many items to render on hover (21).",
          "Parameterization has too many items to render on hover (21).",
          "Parameterization has too many items to render on hover (21).",
          "Parameterization has too many items to render on hover (21).",
          "Parameterization has too many items to render on hover (21).",
          "Parameterization has too many items to render on hover (21).",
          "Parameterization has too many items to render on hover (21).",
          "Parameterization has too many items to render on hover (21).",
          "Parameterization has too many items to render on hover (21).",
          "Parameterization has too many items to render on hover (21).",
          "Parameterization has too many items to render on hover (21).",
          "Parameterization has too many items to render on hover (21).",
          "Parameterization has too many items to render on hover (21).",
          "Parameterization has too many items to render on hover (21).",
          "Parameterization has too many items to render on hover (21).",
          "Parameterization has too many items to render on hover (21).",
          "Parameterization has too many items to render on hover (21).",
          "Parameterization has too many items to render on hover (21).",
          "Parameterization has too many items to render on hover (21).",
          "Parameterization has too many items to render on hover (21).",
          "Parameterization has too many items to render on hover (21).",
          "Parameterization has too many items to render on hover (21).",
          "Parameterization has too many items to render on hover (21).",
          "Parameterization has too many items to render on hover (21).",
          "Parameterization has too many items to render on hover (21).",
          "Parameterization has too many items to render on hover (21).",
          "Parameterization has too many items to render on hover (21).",
          "Parameterization has too many items to render on hover (21).",
          "Parameterization has too many items to render on hover (21).",
          "Parameterization has too many items to render on hover (21).",
          "Parameterization has too many items to render on hover (21).",
          "Parameterization has too many items to render on hover (21).",
          "Parameterization has too many items to render on hover (21).",
          "Parameterization has too many items to render on hover (21).",
          "Parameterization has too many items to render on hover (21).",
          "Parameterization has too many items to render on hover (21).",
          "Parameterization has too many items to render on hover (21).",
          "Parameterization has too many items to render on hover (21).",
          "Parameterization has too many items to render on hover (21).",
          "Parameterization has too many items to render on hover (21).",
          "Parameterization has too many items to render on hover (21).",
          "Parameterization has too many items to render on hover (21).",
          "Parameterization has too many items to render on hover (21).",
          "Parameterization has too many items to render on hover (21).",
          "Parameterization has too many items to render on hover (21).",
          "Parameterization has too many items to render on hover (21).",
          "Parameterization has too many items to render on hover (21).",
          "Parameterization has too many items to render on hover (21).",
          "Parameterization has too many items to render on hover (21).",
          "Parameterization has too many items to render on hover (21).",
          "Parameterization has too many items to render on hover (21).",
          "Parameterization has too many items to render on hover (21).",
          "Parameterization has too many items to render on hover (21).",
          "Parameterization has too many items to render on hover (21).",
          "Parameterization has too many items to render on hover (21).",
          "Parameterization has too many items to render on hover (21).",
          "Parameterization has too many items to render on hover (21).",
          "Parameterization has too many items to render on hover (21).",
          "Parameterization has too many items to render on hover (21).",
          "Parameterization has too many items to render on hover (21).",
          "Parameterization has too many items to render on hover (21).",
          "Parameterization has too many items to render on hover (21).",
          "Parameterization has too many items to render on hover (21).",
          "Parameterization has too many items to render on hover (21).",
          "Parameterization has too many items to render on hover (21).",
          "Parameterization has too many items to render on hover (21).",
          "Parameterization has too many items to render on hover (21).",
          "Parameterization has too many items to render on hover (21).",
          "Parameterization has too many items to render on hover (21).",
          "Parameterization has too many items to render on hover (21).",
          "Parameterization has too many items to render on hover (21).",
          "Parameterization has too many items to render on hover (21).",
          "Parameterization has too many items to render on hover (21).",
          "Parameterization has too many items to render on hover (21).",
          "Parameterization has too many items to render on hover (21).",
          "Parameterization has too many items to render on hover (21).",
          "Parameterization has too many items to render on hover (21).",
          "Parameterization has too many items to render on hover (21).",
          "Parameterization has too many items to render on hover (21).",
          "Parameterization has too many items to render on hover (21).",
          "Parameterization has too many items to render on hover (21).",
          "Parameterization has too many items to render on hover (21).",
          "Parameterization has too many items to render on hover (21).",
          "Parameterization has too many items to render on hover (21).",
          "Parameterization has too many items to render on hover (21).",
          "Parameterization has too many items to render on hover (21).",
          "Parameterization has too many items to render on hover (21).",
          "Parameterization has too many items to render on hover (21).",
          "Parameterization has too many items to render on hover (21).",
          "Parameterization has too many items to render on hover (21).",
          "Parameterization has too many items to render on hover (21).",
          "Parameterization has too many items to render on hover (21).",
          "Parameterization has too many items to render on hover (21).",
          "Parameterization has too many items to render on hover (21).",
          "Parameterization has too many items to render on hover (21).",
          "Parameterization has too many items to render on hover (21).",
          "Parameterization has too many items to render on hover (21).",
          "Parameterization has too many items to render on hover (21).",
          "Parameterization has too many items to render on hover (21).",
          "Parameterization has too many items to render on hover (21).",
          "Parameterization has too many items to render on hover (21).",
          "Parameterization has too many items to render on hover (21).",
          "Parameterization has too many items to render on hover (21).",
          "Parameterization has too many items to render on hover (21).",
          "Parameterization has too many items to render on hover (21).",
          "Parameterization has too many items to render on hover (21).",
          "Parameterization has too many items to render on hover (21).",
          "Parameterization has too many items to render on hover (21).",
          "Parameterization has too many items to render on hover (21).",
          "Parameterization has too many items to render on hover (21).",
          "Parameterization has too many items to render on hover (21).",
          "Parameterization has too many items to render on hover (21).",
          "Parameterization has too many items to render on hover (21).",
          "Parameterization has too many items to render on hover (21).",
          "Parameterization has too many items to render on hover (21).",
          "Parameterization has too many items to render on hover (21).",
          "Parameterization has too many items to render on hover (21).",
          "Parameterization has too many items to render on hover (21).",
          "Parameterization has too many items to render on hover (21).",
          "Parameterization has too many items to render on hover (21).",
          "Parameterization has too many items to render on hover (21).",
          "Parameterization has too many items to render on hover (21).",
          "Parameterization has too many items to render on hover (21).",
          "Parameterization has too many items to render on hover (21).",
          "Parameterization has too many items to render on hover (21).",
          "Parameterization has too many items to render on hover (21).",
          "Parameterization has too many items to render on hover (21).",
          "Parameterization has too many items to render on hover (21).",
          "Parameterization has too many items to render on hover (21).",
          "Parameterization has too many items to render on hover (21).",
          "Parameterization has too many items to render on hover (21).",
          "Parameterization has too many items to render on hover (21).",
          "Parameterization has too many items to render on hover (21).",
          "Parameterization has too many items to render on hover (21).",
          "Parameterization has too many items to render on hover (21).",
          "Parameterization has too many items to render on hover (21).",
          "Parameterization has too many items to render on hover (21).",
          "Parameterization has too many items to render on hover (21).",
          "Parameterization has too many items to render on hover (21).",
          "Parameterization has too many items to render on hover (21).",
          "Parameterization has too many items to render on hover (21).",
          "Parameterization has too many items to render on hover (21).",
          "Parameterization has too many items to render on hover (21).",
          "Parameterization has too many items to render on hover (21).",
          "Parameterization has too many items to render on hover (21).",
          "Parameterization has too many items to render on hover (21).",
          "Parameterization has too many items to render on hover (21).",
          "Parameterization has too many items to render on hover (21).",
          "Parameterization has too many items to render on hover (21).",
          "Parameterization has too many items to render on hover (21).",
          "Parameterization has too many items to render on hover (21).",
          "Parameterization has too many items to render on hover (21).",
          "Parameterization has too many items to render on hover (21).",
          "Parameterization has too many items to render on hover (21).",
          "Parameterization has too many items to render on hover (21).",
          "Parameterization has too many items to render on hover (21).",
          "Parameterization has too many items to render on hover (21).",
          "Parameterization has too many items to render on hover (21).",
          "Parameterization has too many items to render on hover (21).",
          "Parameterization has too many items to render on hover (21).",
          "Parameterization has too many items to render on hover (21).",
          "Parameterization has too many items to render on hover (21).",
          "Parameterization has too many items to render on hover (21).",
          "Parameterization has too many items to render on hover (21).",
          "Parameterization has too many items to render on hover (21).",
          "Parameterization has too many items to render on hover (21).",
          "Parameterization has too many items to render on hover (21).",
          "Parameterization has too many items to render on hover (21).",
          "Parameterization has too many items to render on hover (21).",
          "Parameterization has too many items to render on hover (21).",
          "Parameterization has too many items to render on hover (21).",
          "Parameterization has too many items to render on hover (21).",
          "Parameterization has too many items to render on hover (21).",
          "Parameterization has too many items to render on hover (21).",
          "Parameterization has too many items to render on hover (21).",
          "Parameterization has too many items to render on hover (21).",
          "Parameterization has too many items to render on hover (21).",
          "Parameterization has too many items to render on hover (21).",
          "Parameterization has too many items to render on hover (21).",
          "Parameterization has too many items to render on hover (21).",
          "Parameterization has too many items to render on hover (21).",
          "Parameterization has too many items to render on hover (21).",
          "Parameterization has too many items to render on hover (21).",
          "Parameterization has too many items to render on hover (21).",
          "Parameterization has too many items to render on hover (21).",
          "Parameterization has too many items to render on hover (21).",
          "Parameterization has too many items to render on hover (21).",
          "Parameterization has too many items to render on hover (21).",
          "Parameterization has too many items to render on hover (21).",
          "Parameterization has too many items to render on hover (21).",
          "Parameterization has too many items to render on hover (21).",
          "Parameterization has too many items to render on hover (21).",
          "Parameterization has too many items to render on hover (21).",
          "Parameterization has too many items to render on hover (21).",
          "Parameterization has too many items to render on hover (21).",
          "Parameterization has too many items to render on hover (21).",
          "Parameterization has too many items to render on hover (21).",
          "Parameterization has too many items to render on hover (21).",
          "Parameterization has too many items to render on hover (21).",
          "Parameterization has too many items to render on hover (21).",
          "Parameterization has too many items to render on hover (21).",
          "Parameterization has too many items to render on hover (21).",
          "Parameterization has too many items to render on hover (21).",
          "Parameterization has too many items to render on hover (21).",
          "Parameterization has too many items to render on hover (21).",
          "Parameterization has too many items to render on hover (21).",
          "Parameterization has too many items to render on hover (21).",
          "Parameterization has too many items to render on hover (21).",
          "Parameterization has too many items to render on hover (21).",
          "Parameterization has too many items to render on hover (21).",
          "Parameterization has too many items to render on hover (21).",
          "Parameterization has too many items to render on hover (21).",
          "Parameterization has too many items to render on hover (21).",
          "Parameterization has too many items to render on hover (21).",
          "Parameterization has too many items to render on hover (21).",
          "Parameterization has too many items to render on hover (21).",
          "Parameterization has too many items to render on hover (21).",
          "Parameterization has too many items to render on hover (21).",
          "Parameterization has too many items to render on hover (21).",
          "Parameterization has too many items to render on hover (21).",
          "Parameterization has too many items to render on hover (21).",
          "Parameterization has too many items to render on hover (21).",
          "Parameterization has too many items to render on hover (21).",
          "Parameterization has too many items to render on hover (21).",
          "Parameterization has too many items to render on hover (21).",
          "Parameterization has too many items to render on hover (21).",
          "Parameterization has too many items to render on hover (21).",
          "Parameterization has too many items to render on hover (21).",
          "Parameterization has too many items to render on hover (21).",
          "Parameterization has too many items to render on hover (21).",
          "Parameterization has too many items to render on hover (21).",
          "Parameterization has too many items to render on hover (21).",
          "Parameterization has too many items to render on hover (21).",
          "Parameterization has too many items to render on hover (21).",
          "Parameterization has too many items to render on hover (21).",
          "Parameterization has too many items to render on hover (21).",
          "Parameterization has too many items to render on hover (21).",
          "Parameterization has too many items to render on hover (21).",
          "Parameterization has too many items to render on hover (21).",
          "Parameterization has too many items to render on hover (21).",
          "Parameterization has too many items to render on hover (21).",
          "Parameterization has too many items to render on hover (21).",
          "Parameterization has too many items to render on hover (21).",
          "Parameterization has too many items to render on hover (21).",
          "Parameterization has too many items to render on hover (21).",
          "Parameterization has too many items to render on hover (21).",
          "Parameterization has too many items to render on hover (21).",
          "Parameterization has too many items to render on hover (21).",
          "Parameterization has too many items to render on hover (21).",
          "Parameterization has too many items to render on hover (21).",
          "Parameterization has too many items to render on hover (21).",
          "Parameterization has too many items to render on hover (21).",
          "Parameterization has too many items to render on hover (21).",
          "Parameterization has too many items to render on hover (21).",
          "Parameterization has too many items to render on hover (21).",
          "Parameterization has too many items to render on hover (21).",
          "Parameterization has too many items to render on hover (21).",
          "Parameterization has too many items to render on hover (21).",
          "Parameterization has too many items to render on hover (21).",
          "Parameterization has too many items to render on hover (21).",
          "Parameterization has too many items to render on hover (21).",
          "Parameterization has too many items to render on hover (21).",
          "Parameterization has too many items to render on hover (21).",
          "Parameterization has too many items to render on hover (21).",
          "Parameterization has too many items to render on hover (21).",
          "Parameterization has too many items to render on hover (21).",
          "Parameterization has too many items to render on hover (21).",
          "Parameterization has too many items to render on hover (21).",
          "Parameterization has too many items to render on hover (21).",
          "Parameterization has too many items to render on hover (21).",
          "Parameterization has too many items to render on hover (21).",
          "Parameterization has too many items to render on hover (21).",
          "Parameterization has too many items to render on hover (21).",
          "Parameterization has too many items to render on hover (21).",
          "Parameterization has too many items to render on hover (21).",
          "Parameterization has too many items to render on hover (21).",
          "Parameterization has too many items to render on hover (21).",
          "Parameterization has too many items to render on hover (21).",
          "Parameterization has too many items to render on hover (21).",
          "Parameterization has too many items to render on hover (21).",
          "Parameterization has too many items to render on hover (21).",
          "Parameterization has too many items to render on hover (21).",
          "Parameterization has too many items to render on hover (21).",
          "Parameterization has too many items to render on hover (21).",
          "Parameterization has too many items to render on hover (21).",
          "Parameterization has too many items to render on hover (21).",
          "Parameterization has too many items to render on hover (21).",
          "Parameterization has too many items to render on hover (21).",
          "Parameterization has too many items to render on hover (21).",
          "Parameterization has too many items to render on hover (21).",
          "Parameterization has too many items to render on hover (21).",
          "Parameterization has too many items to render on hover (21).",
          "Parameterization has too many items to render on hover (21).",
          "Parameterization has too many items to render on hover (21).",
          "Parameterization has too many items to render on hover (21).",
          "Parameterization has too many items to render on hover (21).",
          "Parameterization has too many items to render on hover (21).",
          "Parameterization has too many items to render on hover (21).",
          "Parameterization has too many items to render on hover (21).",
          "Parameterization has too many items to render on hover (21).",
          "Parameterization has too many items to render on hover (21).",
          "Parameterization has too many items to render on hover (21).",
          "Parameterization has too many items to render on hover (21).",
          "Parameterization has too many items to render on hover (21).",
          "Parameterization has too many items to render on hover (21).",
          "Parameterization has too many items to render on hover (21).",
          "Parameterization has too many items to render on hover (21).",
          "Parameterization has too many items to render on hover (21).",
          "Parameterization has too many items to render on hover (21).",
          "Parameterization has too many items to render on hover (21).",
          "Parameterization has too many items to render on hover (21).",
          "Parameterization has too many items to render on hover (21).",
          "Parameterization has too many items to render on hover (21).",
          "Parameterization has too many items to render on hover (21).",
          "Parameterization has too many items to render on hover (21).",
          "Parameterization has too many items to render on hover (21).",
          "Parameterization has too many items to render on hover (21).",
          "Parameterization has too many items to render on hover (21).",
          "Parameterization has too many items to render on hover (21).",
          "Parameterization has too many items to render on hover (21).",
          "Parameterization has too many items to render on hover (21).",
          "Parameterization has too many items to render on hover (21).",
          "Parameterization has too many items to render on hover (21).",
          "Parameterization has too many items to render on hover (21).",
          "Parameterization has too many items to render on hover (21).",
          "Parameterization has too many items to render on hover (21).",
          "Parameterization has too many items to render on hover (21).",
          "Parameterization has too many items to render on hover (21).",
          "Parameterization has too many items to render on hover (21).",
          "Parameterization has too many items to render on hover (21).",
          "Parameterization has too many items to render on hover (21).",
          "Parameterization has too many items to render on hover (21).",
          "Parameterization has too many items to render on hover (21).",
          "Parameterization has too many items to render on hover (21).",
          "Parameterization has too many items to render on hover (21).",
          "Parameterization has too many items to render on hover (21).",
          "Parameterization has too many items to render on hover (21).",
          "Parameterization has too many items to render on hover (21).",
          "Parameterization has too many items to render on hover (21).",
          "Parameterization has too many items to render on hover (21).",
          "Parameterization has too many items to render on hover (21).",
          "Parameterization has too many items to render on hover (21).",
          "Parameterization has too many items to render on hover (21).",
          "Parameterization has too many items to render on hover (21).",
          "Parameterization has too many items to render on hover (21).",
          "Parameterization has too many items to render on hover (21).",
          "Parameterization has too many items to render on hover (21).",
          "Parameterization has too many items to render on hover (21).",
          "Parameterization has too many items to render on hover (21).",
          "Parameterization has too many items to render on hover (21).",
          "Parameterization has too many items to render on hover (21).",
          "Parameterization has too many items to render on hover (21).",
          "Parameterization has too many items to render on hover (21).",
          "Parameterization has too many items to render on hover (21).",
          "Parameterization has too many items to render on hover (21).",
          "Parameterization has too many items to render on hover (21).",
          "Parameterization has too many items to render on hover (21).",
          "Parameterization has too many items to render on hover (21).",
          "Parameterization has too many items to render on hover (21).",
          "Parameterization has too many items to render on hover (21).",
          "Parameterization has too many items to render on hover (21).",
          "Parameterization has too many items to render on hover (21).",
          "Parameterization has too many items to render on hover (21).",
          "Parameterization has too many items to render on hover (21).",
          "Parameterization has too many items to render on hover (21).",
          "Parameterization has too many items to render on hover (21).",
          "Parameterization has too many items to render on hover (21).",
          "Parameterization has too many items to render on hover (21).",
          "Parameterization has too many items to render on hover (21).",
          "Parameterization has too many items to render on hover (21).",
          "Parameterization has too many items to render on hover (21).",
          "Parameterization has too many items to render on hover (21).",
          "Parameterization has too many items to render on hover (21).",
          "Parameterization has too many items to render on hover (21).",
          "Parameterization has too many items to render on hover (21).",
          "Parameterization has too many items to render on hover (21).",
          "Parameterization has too many items to render on hover (21).",
          "Parameterization has too many items to render on hover (21).",
          "Parameterization has too many items to render on hover (21).",
          "Parameterization has too many items to render on hover (21).",
          "Parameterization has too many items to render on hover (21).",
          "Parameterization has too many items to render on hover (21).",
          "Parameterization has too many items to render on hover (21).",
          "Parameterization has too many items to render on hover (21).",
          "Parameterization has too many items to render on hover (21).",
          "Parameterization has too many items to render on hover (21).",
          "Parameterization has too many items to render on hover (21).",
          "Parameterization has too many items to render on hover (21).",
          "Parameterization has too many items to render on hover (21).",
          "Parameterization has too many items to render on hover (21).",
          "Parameterization has too many items to render on hover (21).",
          "Parameterization has too many items to render on hover (21).",
          "Parameterization has too many items to render on hover (21).",
          "Parameterization has too many items to render on hover (21).",
          "Parameterization has too many items to render on hover (21).",
          "Parameterization has too many items to render on hover (21).",
          "Parameterization has too many items to render on hover (21).",
          "Parameterization has too many items to render on hover (21).",
          "Parameterization has too many items to render on hover (21).",
          "Parameterization has too many items to render on hover (21).",
          "Parameterization has too many items to render on hover (21).",
          "Parameterization has too many items to render on hover (21).",
          "Parameterization has too many items to render on hover (21).",
          "Parameterization has too many items to render on hover (21).",
          "Parameterization has too many items to render on hover (21).",
          "Parameterization has too many items to render on hover (21).",
          "Parameterization has too many items to render on hover (21).",
          "Parameterization has too many items to render on hover (21).",
          "Parameterization has too many items to render on hover (21).",
          "Parameterization has too many items to render on hover (21).",
          "Parameterization has too many items to render on hover (21).",
          "Parameterization has too many items to render on hover (21).",
          "Parameterization has too many items to render on hover (21).",
          "Parameterization has too many items to render on hover (21).",
          "Parameterization has too many items to render on hover (21).",
          "Parameterization has too many items to render on hover (21).",
          "Parameterization has too many items to render on hover (21).",
          "Parameterization has too many items to render on hover (21).",
          "Parameterization has too many items to render on hover (21).",
          "Parameterization has too many items to render on hover (21).",
          "Parameterization has too many items to render on hover (21).",
          "Parameterization has too many items to render on hover (21).",
          "Parameterization has too many items to render on hover (21).",
          "Parameterization has too many items to render on hover (21).",
          "Parameterization has too many items to render on hover (21).",
          "Parameterization has too many items to render on hover (21).",
          "Parameterization has too many items to render on hover (21).",
          "Parameterization has too many items to render on hover (21).",
          "Parameterization has too many items to render on hover (21).",
          "Parameterization has too many items to render on hover (21).",
          "Parameterization has too many items to render on hover (21).",
          "Parameterization has too many items to render on hover (21).",
          "Parameterization has too many items to render on hover (21).",
          "Parameterization has too many items to render on hover (21).",
          "Parameterization has too many items to render on hover (21).",
          "Parameterization has too many items to render on hover (21).",
          "Parameterization has too many items to render on hover (21).",
          "Parameterization has too many items to render on hover (21).",
          "Parameterization has too many items to render on hover (21).",
          "Parameterization has too many items to render on hover (21).",
          "Parameterization has too many items to render on hover (21).",
          "Parameterization has too many items to render on hover (21).",
          "Parameterization has too many items to render on hover (21).",
          "Parameterization has too many items to render on hover (21).",
          "Parameterization has too many items to render on hover (21).",
          "Parameterization has too many items to render on hover (21).",
          "Parameterization has too many items to render on hover (21).",
          "Parameterization has too many items to render on hover (21).",
          "Parameterization has too many items to render on hover (21).",
          "Parameterization has too many items to render on hover (21).",
          "Parameterization has too many items to render on hover (21).",
          "Parameterization has too many items to render on hover (21).",
          "Parameterization has too many items to render on hover (21).",
          "Parameterization has too many items to render on hover (21).",
          "Parameterization has too many items to render on hover (21).",
          "Parameterization has too many items to render on hover (21).",
          "Parameterization has too many items to render on hover (21).",
          "Parameterization has too many items to render on hover (21).",
          "Parameterization has too many items to render on hover (21).",
          "Parameterization has too many items to render on hover (21).",
          "Parameterization has too many items to render on hover (21).",
          "Parameterization has too many items to render on hover (21).",
          "Parameterization has too many items to render on hover (21).",
          "Parameterization has too many items to render on hover (21).",
          "Parameterization has too many items to render on hover (21).",
          "Parameterization has too many items to render on hover (21).",
          "Parameterization has too many items to render on hover (21).",
          "Parameterization has too many items to render on hover (21).",
          "Parameterization has too many items to render on hover (21).",
          "Parameterization has too many items to render on hover (21).",
          "Parameterization has too many items to render on hover (21).",
          "Parameterization has too many items to render on hover (21).",
          "Parameterization has too many items to render on hover (21).",
          "Parameterization has too many items to render on hover (21).",
          "Parameterization has too many items to render on hover (21).",
          "Parameterization has too many items to render on hover (21).",
          "Parameterization has too many items to render on hover (21).",
          "Parameterization has too many items to render on hover (21).",
          "Parameterization has too many items to render on hover (21).",
          "Parameterization has too many items to render on hover (21).",
          "Parameterization has too many items to render on hover (21).",
          "Parameterization has too many items to render on hover (21).",
          "Parameterization has too many items to render on hover (21).",
          "Parameterization has too many items to render on hover (21).",
          "Parameterization has too many items to render on hover (21).",
          "Parameterization has too many items to render on hover (21).",
          "Parameterization has too many items to render on hover (21).",
          "Parameterization has too many items to render on hover (21).",
          "Parameterization has too many items to render on hover (21).",
          "Parameterization has too many items to render on hover (21).",
          "Parameterization has too many items to render on hover (21).",
          "Parameterization has too many items to render on hover (21).",
          "Parameterization has too many items to render on hover (21).",
          "Parameterization has too many items to render on hover (21).",
          "Parameterization has too many items to render on hover (21).",
          "Parameterization has too many items to render on hover (21).",
          "Parameterization has too many items to render on hover (21).",
          "Parameterization has too many items to render on hover (21).",
          "Parameterization has too many items to render on hover (21).",
          "Parameterization has too many items to render on hover (21).",
          "Parameterization has too many items to render on hover (21).",
          "Parameterization has too many items to render on hover (21).",
          "Parameterization has too many items to render on hover (21).",
          "Parameterization has too many items to render on hover (21).",
          "Parameterization has too many items to render on hover (21).",
          "Parameterization has too many items to render on hover (21).",
          "Parameterization has too many items to render on hover (21).",
          "Parameterization has too many items to render on hover (21).",
          "Parameterization has too many items to render on hover (21).",
          "Parameterization has too many items to render on hover (21).",
          "Parameterization has too many items to render on hover (21).",
          "Parameterization has too many items to render on hover (21).",
          "Parameterization has too many items to render on hover (21).",
          "Parameterization has too many items to render on hover (21).",
          "Parameterization has too many items to render on hover (21).",
          "Parameterization has too many items to render on hover (21).",
          "Parameterization has too many items to render on hover (21).",
          "Parameterization has too many items to render on hover (21).",
          "Parameterization has too many items to render on hover (21).",
          "Parameterization has too many items to render on hover (21).",
          "Parameterization has too many items to render on hover (21).",
          "Parameterization has too many items to render on hover (21).",
          "Parameterization has too many items to render on hover (21).",
          "Parameterization has too many items to render on hover (21).",
          "Parameterization has too many items to render on hover (21).",
          "Parameterization has too many items to render on hover (21).",
          "Parameterization has too many items to render on hover (21).",
          "Parameterization has too many items to render on hover (21).",
          "Parameterization has too many items to render on hover (21).",
          "Parameterization has too many items to render on hover (21).",
          "Parameterization has too many items to render on hover (21).",
          "Parameterization has too many items to render on hover (21).",
          "Parameterization has too many items to render on hover (21).",
          "Parameterization has too many items to render on hover (21).",
          "Parameterization has too many items to render on hover (21).",
          "Parameterization has too many items to render on hover (21).",
          "Parameterization has too many items to render on hover (21).",
          "Parameterization has too many items to render on hover (21).",
          "Parameterization has too many items to render on hover (21).",
          "Parameterization has too many items to render on hover (21).",
          "Parameterization has too many items to render on hover (21).",
          "Parameterization has too many items to render on hover (21).",
          "Parameterization has too many items to render on hover (21).",
          "Parameterization has too many items to render on hover (21).",
          "Parameterization has too many items to render on hover (21).",
          "Parameterization has too many items to render on hover (21).",
          "Parameterization has too many items to render on hover (21).",
          "Parameterization has too many items to render on hover (21).",
          "Parameterization has too many items to render on hover (21).",
          "Parameterization has too many items to render on hover (21).",
          "Parameterization has too many items to render on hover (21).",
          "Parameterization has too many items to render on hover (21).",
          "Parameterization has too many items to render on hover (21).",
          "Parameterization has too many items to render on hover (21).",
          "Parameterization has too many items to render on hover (21).",
          "Parameterization has too many items to render on hover (21).",
          "Parameterization has too many items to render on hover (21).",
          "Parameterization has too many items to render on hover (21).",
          "Parameterization has too many items to render on hover (21).",
          "Parameterization has too many items to render on hover (21).",
          "Parameterization has too many items to render on hover (21).",
          "Parameterization has too many items to render on hover (21).",
          "Parameterization has too many items to render on hover (21).",
          "Parameterization has too many items to render on hover (21).",
          "Parameterization has too many items to render on hover (21).",
          "Parameterization has too many items to render on hover (21).",
          "Parameterization has too many items to render on hover (21).",
          "Parameterization has too many items to render on hover (21).",
          "Parameterization has too many items to render on hover (21).",
          "Parameterization has too many items to render on hover (21).",
          "Parameterization has too many items to render on hover (21).",
          "Parameterization has too many items to render on hover (21).",
          "Parameterization has too many items to render on hover (21).",
          "Parameterization has too many items to render on hover (21).",
          "Parameterization has too many items to render on hover (21).",
          "Parameterization has too many items to render on hover (21).",
          "Parameterization has too many items to render on hover (21).",
          "Parameterization has too many items to render on hover (21).",
          "Parameterization has too many items to render on hover (21).",
          "Parameterization has too many items to render on hover (21).",
          "Parameterization has too many items to render on hover (21).",
          "Parameterization has too many items to render on hover (21).",
          "Parameterization has too many items to render on hover (21).",
          "Parameterization has too many items to render on hover (21).",
          "Parameterization has too many items to render on hover (21).",
          "Parameterization has too many items to render on hover (21).",
          "Parameterization has too many items to render on hover (21).",
          "Parameterization has too many items to render on hover (21).",
          "Parameterization has too many items to render on hover (21).",
          "Parameterization has too many items to render on hover (21).",
          "Parameterization has too many items to render on hover (21).",
          "Parameterization has too many items to render on hover (21).",
          "Parameterization has too many items to render on hover (21).",
          "Parameterization has too many items to render on hover (21).",
          "Parameterization has too many items to render on hover (21).",
          "Parameterization has too many items to render on hover (21).",
          "Parameterization has too many items to render on hover (21).",
          "Parameterization has too many items to render on hover (21).",
          "Parameterization has too many items to render on hover (21).",
          "Parameterization has too many items to render on hover (21).",
          "Parameterization has too many items to render on hover (21).",
          "Parameterization has too many items to render on hover (21).",
          "Parameterization has too many items to render on hover (21).",
          "Parameterization has too many items to render on hover (21).",
          "Parameterization has too many items to render on hover (21).",
          "Parameterization has too many items to render on hover (21).",
          "Parameterization has too many items to render on hover (21).",
          "Parameterization has too many items to render on hover (21).",
          "Parameterization has too many items to render on hover (21).",
          "Parameterization has too many items to render on hover (21).",
          "Parameterization has too many items to render on hover (21).",
          "Parameterization has too many items to render on hover (21).",
          "Parameterization has too many items to render on hover (21).",
          "Parameterization has too many items to render on hover (21).",
          "Parameterization has too many items to render on hover (21).",
          "Parameterization has too many items to render on hover (21).",
          "Parameterization has too many items to render on hover (21).",
          "Parameterization has too many items to render on hover (21).",
          "Parameterization has too many items to render on hover (21).",
          "Parameterization has too many items to render on hover (21).",
          "Parameterization has too many items to render on hover (21).",
          "Parameterization has too many items to render on hover (21).",
          "Parameterization has too many items to render on hover (21).",
          "Parameterization has too many items to render on hover (21).",
          "Parameterization has too many items to render on hover (21).",
          "Parameterization has too many items to render on hover (21).",
          "Parameterization has too many items to render on hover (21).",
          "Parameterization has too many items to render on hover (21).",
          "Parameterization has too many items to render on hover (21).",
          "Parameterization has too many items to render on hover (21).",
          "Parameterization has too many items to render on hover (21).",
          "Parameterization has too many items to render on hover (21).",
          "Parameterization has too many items to render on hover (21).",
          "Parameterization has too many items to render on hover (21).",
          "Parameterization has too many items to render on hover (21).",
          "Parameterization has too many items to render on hover (21).",
          "Parameterization has too many items to render on hover (21).",
          "Parameterization has too many items to render on hover (21).",
          "Parameterization has too many items to render on hover (21).",
          "Parameterization has too many items to render on hover (21).",
          "Parameterization has too many items to render on hover (21).",
          "Parameterization has too many items to render on hover (21).",
          "Parameterization has too many items to render on hover (21).",
          "Parameterization has too many items to render on hover (21).",
          "Parameterization has too many items to render on hover (21).",
          "Parameterization has too many items to render on hover (21).",
          "Parameterization has too many items to render on hover (21).",
          "Parameterization has too many items to render on hover (21).",
          "Parameterization has too many items to render on hover (21).",
          "Parameterization has too many items to render on hover (21).",
          "Parameterization has too many items to render on hover (21).",
          "Parameterization has too many items to render on hover (21).",
          "Parameterization has too many items to render on hover (21).",
          "Parameterization has too many items to render on hover (21).",
          "Parameterization has too many items to render on hover (21).",
          "Parameterization has too many items to render on hover (21).",
          "Parameterization has too many items to render on hover (21).",
          "Parameterization has too many items to render on hover (21).",
          "Parameterization has too many items to render on hover (21).",
          "Parameterization has too many items to render on hover (21).",
          "Parameterization has too many items to render on hover (21).",
          "Parameterization has too many items to render on hover (21).",
          "Parameterization has too many items to render on hover (21).",
          "Parameterization has too many items to render on hover (21).",
          "Parameterization has too many items to render on hover (21).",
          "Parameterization has too many items to render on hover (21).",
          "Parameterization has too many items to render on hover (21).",
          "Parameterization has too many items to render on hover (21).",
          "Parameterization has too many items to render on hover (21).",
          "Parameterization has too many items to render on hover (21).",
          "Parameterization has too many items to render on hover (21).",
          "Parameterization has too many items to render on hover (21).",
          "Parameterization has too many items to render on hover (21).",
          "Parameterization has too many items to render on hover (21).",
          "Parameterization has too many items to render on hover (21).",
          "Parameterization has too many items to render on hover (21).",
          "Parameterization has too many items to render on hover (21).",
          "Parameterization has too many items to render on hover (21).",
          "Parameterization has too many items to render on hover (21).",
          "Parameterization has too many items to render on hover (21).",
          "Parameterization has too many items to render on hover (21).",
          "Parameterization has too many items to render on hover (21).",
          "Parameterization has too many items to render on hover (21).",
          "Parameterization has too many items to render on hover (21).",
          "Parameterization has too many items to render on hover (21).",
          "Parameterization has too many items to render on hover (21).",
          "Parameterization has too many items to render on hover (21).",
          "Parameterization has too many items to render on hover (21).",
          "Parameterization has too many items to render on hover (21).",
          "Parameterization has too many items to render on hover (21).",
          "Parameterization has too many items to render on hover (21).",
          "Parameterization has too many items to render on hover (21).",
          "Parameterization has too many items to render on hover (21).",
          "Parameterization has too many items to render on hover (21).",
          "Parameterization has too many items to render on hover (21).",
          "Parameterization has too many items to render on hover (21).",
          "Parameterization has too many items to render on hover (21).",
          "Parameterization has too many items to render on hover (21).",
          "Parameterization has too many items to render on hover (21).",
          "Parameterization has too many items to render on hover (21).",
          "Parameterization has too many items to render on hover (21).",
          "Parameterization has too many items to render on hover (21).",
          "Parameterization has too many items to render on hover (21).",
          "Parameterization has too many items to render on hover (21).",
          "Parameterization has too many items to render on hover (21).",
          "Parameterization has too many items to render on hover (21).",
          "Parameterization has too many items to render on hover (21).",
          "Parameterization has too many items to render on hover (21).",
          "Parameterization has too many items to render on hover (21).",
          "Parameterization has too many items to render on hover (21).",
          "Parameterization has too many items to render on hover (21).",
          "Parameterization has too many items to render on hover (21).",
          "Parameterization has too many items to render on hover (21).",
          "Parameterization has too many items to render on hover (21).",
          "Parameterization has too many items to render on hover (21).",
          "Parameterization has too many items to render on hover (21).",
          "Parameterization has too many items to render on hover (21).",
          "Parameterization has too many items to render on hover (21).",
          "Parameterization has too many items to render on hover (21).",
          "Parameterization has too many items to render on hover (21).",
          "Parameterization has too many items to render on hover (21).",
          "Parameterization has too many items to render on hover (21).",
          "Parameterization has too many items to render on hover (21).",
          "Parameterization has too many items to render on hover (21).",
          "Parameterization has too many items to render on hover (21).",
          "Parameterization has too many items to render on hover (21).",
          "Parameterization has too many items to render on hover (21).",
          "Parameterization has too many items to render on hover (21).",
          "Parameterization has too many items to render on hover (21).",
          "Parameterization has too many items to render on hover (21).",
          "Parameterization has too many items to render on hover (21).",
          "Parameterization has too many items to render on hover (21).",
          "Parameterization has too many items to render on hover (21).",
          "Parameterization has too many items to render on hover (21).",
          "Parameterization has too many items to render on hover (21).",
          "Parameterization has too many items to render on hover (21).",
          "Parameterization has too many items to render on hover (21).",
          "Parameterization has too many items to render on hover (21).",
          "Parameterization has too many items to render on hover (21).",
          "Parameterization has too many items to render on hover (21).",
          "Parameterization has too many items to render on hover (21).",
          "Parameterization has too many items to render on hover (21).",
          "Parameterization has too many items to render on hover (21).",
          "Parameterization has too many items to render on hover (21).",
          "Parameterization has too many items to render on hover (21).",
          "Parameterization has too many items to render on hover (21).",
          "Parameterization has too many items to render on hover (21).",
          "Parameterization has too many items to render on hover (21).",
          "Parameterization has too many items to render on hover (21).",
          "Parameterization has too many items to render on hover (21).",
          "Parameterization has too many items to render on hover (21).",
          "Parameterization has too many items to render on hover (21).",
          "Parameterization has too many items to render on hover (21).",
          "Parameterization has too many items to render on hover (21).",
          "Parameterization has too many items to render on hover (21).",
          "Parameterization has too many items to render on hover (21).",
          "Parameterization has too many items to render on hover (21).",
          "Parameterization has too many items to render on hover (21).",
          "Parameterization has too many items to render on hover (21).",
          "Parameterization has too many items to render on hover (21).",
          "Parameterization has too many items to render on hover (21).",
          "Parameterization has too many items to render on hover (21).",
          "Parameterization has too many items to render on hover (21).",
          "Parameterization has too many items to render on hover (21).",
          "Parameterization has too many items to render on hover (21).",
          "Parameterization has too many items to render on hover (21).",
          "Parameterization has too many items to render on hover (21).",
          "Parameterization has too many items to render on hover (21).",
          "Parameterization has too many items to render on hover (21).",
          "Parameterization has too many items to render on hover (21).",
          "Parameterization has too many items to render on hover (21).",
          "Parameterization has too many items to render on hover (21).",
          "Parameterization has too many items to render on hover (21).",
          "Parameterization has too many items to render on hover (21).",
          "Parameterization has too many items to render on hover (21).",
          "Parameterization has too many items to render on hover (21).",
          "Parameterization has too many items to render on hover (21).",
          "Parameterization has too many items to render on hover (21).",
          "Parameterization has too many items to render on hover (21).",
          "Parameterization has too many items to render on hover (21).",
          "Parameterization has too many items to render on hover (21).",
          "Parameterization has too many items to render on hover (21).",
          "Parameterization has too many items to render on hover (21).",
          "Parameterization has too many items to render on hover (21).",
          "Parameterization has too many items to render on hover (21).",
          "Parameterization has too many items to render on hover (21).",
          "Parameterization has too many items to render on hover (21).",
          "Parameterization has too many items to render on hover (21).",
          "Parameterization has too many items to render on hover (21).",
          "Parameterization has too many items to render on hover (21).",
          "Parameterization has too many items to render on hover (21).",
          "Parameterization has too many items to render on hover (21).",
          "Parameterization has too many items to render on hover (21).",
          "Parameterization has too many items to render on hover (21).",
          "Parameterization has too many items to render on hover (21).",
          "Parameterization has too many items to render on hover (21).",
          "Parameterization has too many items to render on hover (21).",
          "Parameterization has too many items to render on hover (21).",
          "Parameterization has too many items to render on hover (21).",
          "Parameterization has too many items to render on hover (21).",
          "Parameterization has too many items to render on hover (21).",
          "Parameterization has too many items to render on hover (21).",
          "Parameterization has too many items to render on hover (21).",
          "Parameterization has too many items to render on hover (21).",
          "Parameterization has too many items to render on hover (21).",
          "Parameterization has too many items to render on hover (21).",
          "Parameterization has too many items to render on hover (21).",
          "Parameterization has too many items to render on hover (21).",
          "Parameterization has too many items to render on hover (21).",
          "Parameterization has too many items to render on hover (21).",
          "Parameterization has too many items to render on hover (21).",
          "Parameterization has too many items to render on hover (21).",
          "Parameterization has too many items to render on hover (21).",
          "Parameterization has too many items to render on hover (21).",
          "Parameterization has too many items to render on hover (21).",
          "Parameterization has too many items to render on hover (21).",
          "Parameterization has too many items to render on hover (21).",
          "Parameterization has too many items to render on hover (21).",
          "Parameterization has too many items to render on hover (21).",
          "Parameterization has too many items to render on hover (21).",
          "Parameterization has too many items to render on hover (21).",
          "Parameterization has too many items to render on hover (21).",
          "Parameterization has too many items to render on hover (21).",
          "Parameterization has too many items to render on hover (21).",
          "Parameterization has too many items to render on hover (21).",
          "Parameterization has too many items to render on hover (21).",
          "Parameterization has too many items to render on hover (21).",
          "Parameterization has too many items to render on hover (21).",
          "Parameterization has too many items to render on hover (21).",
          "Parameterization has too many items to render on hover (21).",
          "Parameterization has too many items to render on hover (21).",
          "Parameterization has too many items to render on hover (21).",
          "Parameterization has too many items to render on hover (21).",
          "Parameterization has too many items to render on hover (21).",
          "Parameterization has too many items to render on hover (21).",
          "Parameterization has too many items to render on hover (21).",
          "Parameterization has too many items to render on hover (21).",
          "Parameterization has too many items to render on hover (21).",
          "Parameterization has too many items to render on hover (21).",
          "Parameterization has too many items to render on hover (21).",
          "Parameterization has too many items to render on hover (21).",
          "Parameterization has too many items to render on hover (21).",
          "Parameterization has too many items to render on hover (21).",
          "Parameterization has too many items to render on hover (21).",
          "Parameterization has too many items to render on hover (21).",
          "Parameterization has too many items to render on hover (21).",
          "Parameterization has too many items to render on hover (21).",
          "Parameterization has too many items to render on hover (21).",
          "Parameterization has too many items to render on hover (21).",
          "Parameterization has too many items to render on hover (21).",
          "Parameterization has too many items to render on hover (21).",
          "Parameterization has too many items to render on hover (21).",
          "Parameterization has too many items to render on hover (21).",
          "Parameterization has too many items to render on hover (21).",
          "Parameterization has too many items to render on hover (21).",
          "Parameterization has too many items to render on hover (21).",
          "Parameterization has too many items to render on hover (21).",
          "Parameterization has too many items to render on hover (21).",
          "Parameterization has too many items to render on hover (21).",
          "Parameterization has too many items to render on hover (21).",
          "Parameterization has too many items to render on hover (21).",
          "Parameterization has too many items to render on hover (21).",
          "Parameterization has too many items to render on hover (21).",
          "Parameterization has too many items to render on hover (21).",
          "Parameterization has too many items to render on hover (21).",
          "Parameterization has too many items to render on hover (21).",
          "Parameterization has too many items to render on hover (21).",
          "Parameterization has too many items to render on hover (21).",
          "Parameterization has too many items to render on hover (21).",
          "Parameterization has too many items to render on hover (21).",
          "Parameterization has too many items to render on hover (21).",
          "Parameterization has too many items to render on hover (21).",
          "Parameterization has too many items to render on hover (21).",
          "Parameterization has too many items to render on hover (21).",
          "Parameterization has too many items to render on hover (21).",
          "Parameterization has too many items to render on hover (21).",
          "Parameterization has too many items to render on hover (21).",
          "Parameterization has too many items to render on hover (21).",
          "Parameterization has too many items to render on hover (21).",
          "Parameterization has too many items to render on hover (21).",
          "Parameterization has too many items to render on hover (21).",
          "Parameterization has too many items to render on hover (21).",
          "Parameterization has too many items to render on hover (21).",
          "Parameterization has too many items to render on hover (21)."
         ],
         "type": "scatter",
         "x": {
          "bdata": "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",
          "dtype": "i2"
         },
         "y": {
          "bdata": "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",
          "dtype": "f8"
         }
        },
        {
         "fill": "tonexty",
         "fillcolor": "rgba(128,177,211,0.3)",
         "hoverinfo": "none",
         "legendgroup": "",
         "line": {
          "width": 0
         },
         "mode": "lines",
         "showlegend": false,
         "type": "scatter",
         "x": {
          "bdata": "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",
          "dtype": "i2"
         },
         "y": {
          "bdata": "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",
          "dtype": "f8"
         }
        }
       ],
       "layout": {
        "showlegend": true,
        "template": {
         "data": {
          "bar": [
           {
            "error_x": {
             "color": "#2a3f5f"
            },
            "error_y": {
             "color": "#2a3f5f"
            },
            "marker": {
             "line": {
              "color": "#E5ECF6",
              "width": 0.5
             },
             "pattern": {
              "fillmode": "overlay",
              "size": 10,
              "solidity": 0.2
             }
            },
            "type": "bar"
           }
          ],
          "barpolar": [
           {
            "marker": {
             "line": {
              "color": "#E5ECF6",
              "width": 0.5
             },
             "pattern": {
              "fillmode": "overlay",
              "size": 10,
              "solidity": 0.2
             }
            },
            "type": "barpolar"
           }
          ],
          "carpet": [
           {
            "aaxis": {
             "endlinecolor": "#2a3f5f",
             "gridcolor": "white",
             "linecolor": "white",
             "minorgridcolor": "white",
             "startlinecolor": "#2a3f5f"
            },
            "baxis": {
             "endlinecolor": "#2a3f5f",
             "gridcolor": "white",
             "linecolor": "white",
             "minorgridcolor": "white",
             "startlinecolor": "#2a3f5f"
            },
            "type": "carpet"
           }
          ],
          "choropleth": [
           {
            "colorbar": {
             "outlinewidth": 0,
             "ticks": ""
            },
            "type": "choropleth"
           }
          ],
          "contour": [
           {
            "colorbar": {
             "outlinewidth": 0,
             "ticks": ""
            },
            "colorscale": [
             [
              0,
              "#0d0887"
             ],
             [
              0.1111111111111111,
              "#46039f"
             ],
             [
              0.2222222222222222,
              "#7201a8"
             ],
             [
              0.3333333333333333,
              "#9c179e"
             ],
             [
              0.4444444444444444,
              "#bd3786"
             ],
             [
              0.5555555555555556,
              "#d8576b"
             ],
             [
              0.6666666666666666,
              "#ed7953"
             ],
             [
              0.7777777777777778,
              "#fb9f3a"
             ],
             [
              0.8888888888888888,
              "#fdca26"
             ],
             [
              1,
              "#f0f921"
             ]
            ],
            "type": "contour"
           }
          ],
          "contourcarpet": [
           {
            "colorbar": {
             "outlinewidth": 0,
             "ticks": ""
            },
            "type": "contourcarpet"
           }
          ],
          "heatmap": [
           {
            "colorbar": {
             "outlinewidth": 0,
             "ticks": ""
            },
            "colorscale": [
             [
              0,
              "#0d0887"
             ],
             [
              0.1111111111111111,
              "#46039f"
             ],
             [
              0.2222222222222222,
              "#7201a8"
             ],
             [
              0.3333333333333333,
              "#9c179e"
             ],
             [
              0.4444444444444444,
              "#bd3786"
             ],
             [
              0.5555555555555556,
              "#d8576b"
             ],
             [
              0.6666666666666666,
              "#ed7953"
             ],
             [
              0.7777777777777778,
              "#fb9f3a"
             ],
             [
              0.8888888888888888,
              "#fdca26"
             ],
             [
              1,
              "#f0f921"
             ]
            ],
            "type": "heatmap"
           }
          ],
          "histogram": [
           {
            "marker": {
             "pattern": {
              "fillmode": "overlay",
              "size": 10,
              "solidity": 0.2
             }
            },
            "type": "histogram"
           }
          ],
          "histogram2d": [
           {
            "colorbar": {
             "outlinewidth": 0,
             "ticks": ""
            },
            "colorscale": [
             [
              0,
              "#0d0887"
             ],
             [
              0.1111111111111111,
              "#46039f"
             ],
             [
              0.2222222222222222,
              "#7201a8"
             ],
             [
              0.3333333333333333,
              "#9c179e"
             ],
             [
              0.4444444444444444,
              "#bd3786"
             ],
             [
              0.5555555555555556,
              "#d8576b"
             ],
             [
              0.6666666666666666,
              "#ed7953"
             ],
             [
              0.7777777777777778,
              "#fb9f3a"
             ],
             [
              0.8888888888888888,
              "#fdca26"
             ],
             [
              1,
              "#f0f921"
             ]
            ],
            "type": "histogram2d"
           }
          ],
          "histogram2dcontour": [
           {
            "colorbar": {
             "outlinewidth": 0,
             "ticks": ""
            },
            "colorscale": [
             [
              0,
              "#0d0887"
             ],
             [
              0.1111111111111111,
              "#46039f"
             ],
             [
              0.2222222222222222,
              "#7201a8"
             ],
             [
              0.3333333333333333,
              "#9c179e"
             ],
             [
              0.4444444444444444,
              "#bd3786"
             ],
             [
              0.5555555555555556,
              "#d8576b"
             ],
             [
              0.6666666666666666,
              "#ed7953"
             ],
             [
              0.7777777777777778,
              "#fb9f3a"
             ],
             [
              0.8888888888888888,
              "#fdca26"
             ],
             [
              1,
              "#f0f921"
             ]
            ],
            "type": "histogram2dcontour"
           }
          ],
          "mesh3d": [
           {
            "colorbar": {
             "outlinewidth": 0,
             "ticks": ""
            },
            "type": "mesh3d"
           }
          ],
          "parcoords": [
           {
            "line": {
             "colorbar": {
              "outlinewidth": 0,
              "ticks": ""
             }
            },
            "type": "parcoords"
           }
          ],
          "pie": [
           {
            "automargin": true,
            "type": "pie"
           }
          ],
          "scatter": [
           {
            "fillpattern": {
             "fillmode": "overlay",
             "size": 10,
             "solidity": 0.2
            },
            "type": "scatter"
           }
          ],
          "scatter3d": [
           {
            "line": {
             "colorbar": {
              "outlinewidth": 0,
              "ticks": ""
             }
            },
            "marker": {
             "colorbar": {
              "outlinewidth": 0,
              "ticks": ""
             }
            },
            "type": "scatter3d"
           }
          ],
          "scattercarpet": [
           {
            "marker": {
             "colorbar": {
              "outlinewidth": 0,
              "ticks": ""
             }
            },
            "type": "scattercarpet"
           }
          ],
          "scattergeo": [
           {
            "marker": {
             "colorbar": {
              "outlinewidth": 0,
              "ticks": ""
             }
            },
            "type": "scattergeo"
           }
          ],
          "scattergl": [
           {
            "marker": {
             "colorbar": {
              "outlinewidth": 0,
              "ticks": ""
             }
            },
            "type": "scattergl"
           }
          ],
          "scattermap": [
           {
            "marker": {
             "colorbar": {
              "outlinewidth": 0,
              "ticks": ""
             }
            },
            "type": "scattermap"
           }
          ],
          "scattermapbox": [
           {
            "marker": {
             "colorbar": {
              "outlinewidth": 0,
              "ticks": ""
             }
            },
            "type": "scattermapbox"
           }
          ],
          "scatterpolar": [
           {
            "marker": {
             "colorbar": {
              "outlinewidth": 0,
              "ticks": ""
             }
            },
            "type": "scatterpolar"
           }
          ],
          "scatterpolargl": [
           {
            "marker": {
             "colorbar": {
              "outlinewidth": 0,
              "ticks": ""
             }
            },
            "type": "scatterpolargl"
           }
          ],
          "scatterternary": [
           {
            "marker": {
             "colorbar": {
              "outlinewidth": 0,
              "ticks": ""
             }
            },
            "type": "scatterternary"
           }
          ],
          "surface": [
           {
            "colorbar": {
             "outlinewidth": 0,
             "ticks": ""
            },
            "colorscale": [
             [
              0,
              "#0d0887"
             ],
             [
              0.1111111111111111,
              "#46039f"
             ],
             [
              0.2222222222222222,
              "#7201a8"
             ],
             [
              0.3333333333333333,
              "#9c179e"
             ],
             [
              0.4444444444444444,
              "#bd3786"
             ],
             [
              0.5555555555555556,
              "#d8576b"
             ],
             [
              0.6666666666666666,
              "#ed7953"
             ],
             [
              0.7777777777777778,
              "#fb9f3a"
             ],
             [
              0.8888888888888888,
              "#fdca26"
             ],
             [
              1,
              "#f0f921"
             ]
            ],
            "type": "surface"
           }
          ],
          "table": [
           {
            "cells": {
             "fill": {
              "color": "#EBF0F8"
             },
             "line": {
              "color": "white"
             }
            },
            "header": {
             "fill": {
              "color": "#C8D4E3"
             },
             "line": {
              "color": "white"
             }
            },
            "type": "table"
           }
          ]
         },
         "layout": {
          "annotationdefaults": {
           "arrowcolor": "#2a3f5f",
           "arrowhead": 0,
           "arrowwidth": 1
          },
          "autotypenumbers": "strict",
          "coloraxis": {
           "colorbar": {
            "outlinewidth": 0,
            "ticks": ""
           }
          },
          "colorscale": {
           "diverging": [
            [
             0,
             "#8e0152"
            ],
            [
             0.1,
             "#c51b7d"
            ],
            [
             0.2,
             "#de77ae"
            ],
            [
             0.3,
             "#f1b6da"
            ],
            [
             0.4,
             "#fde0ef"
            ],
            [
             0.5,
             "#f7f7f7"
            ],
            [
             0.6,
             "#e6f5d0"
            ],
            [
             0.7,
             "#b8e186"
            ],
            [
             0.8,
             "#7fbc41"
            ],
            [
             0.9,
             "#4d9221"
            ],
            [
             1,
             "#276419"
            ]
           ],
           "sequential": [
            [
             0,
             "#0d0887"
            ],
            [
             0.1111111111111111,
             "#46039f"
            ],
            [
             0.2222222222222222,
             "#7201a8"
            ],
            [
             0.3333333333333333,
             "#9c179e"
            ],
            [
             0.4444444444444444,
             "#bd3786"
            ],
            [
             0.5555555555555556,
             "#d8576b"
            ],
            [
             0.6666666666666666,
             "#ed7953"
            ],
            [
             0.7777777777777778,
             "#fb9f3a"
            ],
            [
             0.8888888888888888,
             "#fdca26"
            ],
            [
             1,
             "#f0f921"
            ]
           ],
           "sequentialminus": [
            [
             0,
             "#0d0887"
            ],
            [
             0.1111111111111111,
             "#46039f"
            ],
            [
             0.2222222222222222,
             "#7201a8"
            ],
            [
             0.3333333333333333,
             "#9c179e"
            ],
            [
             0.4444444444444444,
             "#bd3786"
            ],
            [
             0.5555555555555556,
             "#d8576b"
            ],
            [
             0.6666666666666666,
             "#ed7953"
            ],
            [
             0.7777777777777778,
             "#fb9f3a"
            ],
            [
             0.8888888888888888,
             "#fdca26"
            ],
            [
             1,
             "#f0f921"
            ]
           ]
          },
          "colorway": [
           "#636efa",
           "#EF553B",
           "#00cc96",
           "#ab63fa",
           "#FFA15A",
           "#19d3f3",
           "#FF6692",
           "#B6E880",
           "#FF97FF",
           "#FECB52"
          ],
          "font": {
           "color": "#2a3f5f"
          },
          "geo": {
           "bgcolor": "white",
           "lakecolor": "white",
           "landcolor": "#E5ECF6",
           "showlakes": true,
           "showland": true,
           "subunitcolor": "white"
          },
          "hoverlabel": {
           "align": "left"
          },
          "hovermode": "closest",
          "mapbox": {
           "style": "light"
          },
          "paper_bgcolor": "white",
          "plot_bgcolor": "#E5ECF6",
          "polar": {
           "angularaxis": {
            "gridcolor": "white",
            "linecolor": "white",
            "ticks": ""
           },
           "bgcolor": "#E5ECF6",
           "radialaxis": {
            "gridcolor": "white",
            "linecolor": "white",
            "ticks": ""
           }
          },
          "scene": {
           "xaxis": {
            "backgroundcolor": "#E5ECF6",
            "gridcolor": "white",
            "gridwidth": 2,
            "linecolor": "white",
            "showbackground": true,
            "ticks": "",
            "zerolinecolor": "white"
           },
           "yaxis": {
            "backgroundcolor": "#E5ECF6",
            "gridcolor": "white",
            "gridwidth": 2,
            "linecolor": "white",
            "showbackground": true,
            "ticks": "",
            "zerolinecolor": "white"
           },
           "zaxis": {
            "backgroundcolor": "#E5ECF6",
            "gridcolor": "white",
            "gridwidth": 2,
            "linecolor": "white",
            "showbackground": true,
            "ticks": "",
            "zerolinecolor": "white"
           }
          },
          "shapedefaults": {
           "line": {
            "color": "#2a3f5f"
           }
          },
          "ternary": {
           "aaxis": {
            "gridcolor": "white",
            "linecolor": "white",
            "ticks": ""
           },
           "baxis": {
            "gridcolor": "white",
            "linecolor": "white",
            "ticks": ""
           },
           "bgcolor": "#E5ECF6",
           "caxis": {
            "gridcolor": "white",
            "linecolor": "white",
            "ticks": ""
           }
          },
          "title": {
           "x": 0.05
          },
          "xaxis": {
           "automargin": true,
           "gridcolor": "white",
           "linecolor": "white",
           "ticks": "",
           "title": {
            "standoff": 15
           },
           "zerolinecolor": "white",
           "zerolinewidth": 2
          },
          "yaxis": {
           "automargin": true,
           "gridcolor": "white",
           "linecolor": "white",
           "ticks": "",
           "title": {
            "standoff": 15
           },
           "zerolinecolor": "white",
           "zerolinewidth": 2
          }
         }
        },
        "title": {
         "text": "Best objective found vs. # of iterations"
        },
        "xaxis": {
         "title": {
          "text": "Iteration"
         }
        },
        "yaxis": {
         "title": {
          "text": "Viable_cross_terms"
         }
        }
       }
      }
     },
     "metadata": {},
     "output_type": "display_data"
    }
   ],
   "source": [
    "render(Tag_client.get_optimization_trace())"
   ]
  },
  {
   "cell_type": "code",
   "execution_count": null,
   "metadata": {},
   "outputs": [],
   "source": [
    "#Viable_Cross_Terms               133.0\n",
    "z_sh = [ 7, 8, 9]\n",
    "z_p2 = [28,31,26]\n",
    "z_r2 = [82,74,83]\n",
    "x_s = [ 0.5, 0.4, 0.3]\n",
    "x_p1 = [ 1.0, 0.9, 0.8]\n",
    "x_p2 = [-0.3,-0.4,-0.5]\n",
    "x_r2 = [ 0.461185, 0.361185, 0.261185]"
   ]
  },
  {
   "cell_type": "code",
   "execution_count": 42,
   "metadata": {},
   "outputs": [
    {
     "name": "stderr",
     "output_type": "stream",
     "text": [
      "[INFO 04-06 08:44:12] ax.modelbridge.base: Leaving out out-of-design observations for arms: 729_0, 977_0, 489_0, 686_0, 775_0, 899_0\n",
      "[INFO 04-06 08:46:47] ax.service.ax_client: Generated new trial 1029 with parameters {'z_sh': 15, 'z_sh_1': 11, 'z_sh_2': 5, 'z_p2': 30, 'z_p2_1': 34, 'z_p2_2': 25, 'z_r2': 79, 'z_r2_1': 81, 'z_r2_2': 84, 'x_s': 0.5, 'x_s_1': 0.4, 'x_s_2': 0.3, 'x_p1': 0.643009, 'x_p1_1': 0.543009, 'x_p1_2': 0.443009, 'x_p2': 0.5, 'x_p2_1': 0.4, 'x_p2_2': 0.3, 'x_r2': 1.5, 'x_r2_1': -0.9846, 'x_r2_2': -1.5} using model BoTorch.\n",
      "[INFO 04-06 08:46:47] ax.service.ax_client: Completed trial 1029 with data: {'Viable_Cross_Terms': (0, None)}.\n",
      "[INFO 04-06 08:46:47] ax.modelbridge.base: Leaving out out-of-design observations for arms: 729_0, 977_0, 489_0, 686_0, 775_0, 899_0\n",
      "[INFO 04-06 08:51:00] ax.service.ax_client: Generated new trial 1030 with parameters {'z_sh': 7, 'z_sh_1': 6, 'z_sh_2': 5, 'z_p2': 35, 'z_p2_1': 34, 'z_p2_2': 25, 'z_r2': 80, 'z_r2_1': 85, 'z_r2_2': 84, 'x_s': 0.5, 'x_s_1': 0.4, 'x_s_2': 0.3, 'x_p1': 0.615309, 'x_p1_1': 0.515309, 'x_p1_2': 0.415309, 'x_p2': 0.5, 'x_p2_1': 0.4, 'x_p2_2': 0.3, 'x_r2': 1.050721, 'x_r2_1': 0.950721, 'x_r2_2': 0.850721} using model BoTorch.\n",
      "[INFO 04-06 08:51:00] ax.service.ax_client: Completed trial 1030 with data: {'Viable_Cross_Terms': (83, None)}.\n",
      "[INFO 04-06 08:51:01] ax.modelbridge.base: Leaving out out-of-design observations for arms: 729_0, 977_0, 489_0, 686_0, 775_0, 899_0\n",
      "[INFO 04-06 08:54:22] ax.service.ax_client: Generated new trial 1031 with parameters {'z_sh': 7, 'z_sh_1': 13, 'z_sh_2': 5, 'z_p2': 34, 'z_p2_1': 33, 'z_p2_2': 32, 'z_r2': 80, 'z_r2_1': 77, 'z_r2_2': 84, 'x_s': 0.5, 'x_s_1': 0.4, 'x_s_2': 0.3, 'x_p1': 0.616193, 'x_p1_1': 0.516193, 'x_p1_2': 0.416193, 'x_p2': 0.5, 'x_p2_1': 0.4, 'x_p2_2': 0.3, 'x_r2': 1.080482, 'x_r2_1': 0.980482, 'x_r2_2': 0.880482} using model BoTorch.\n",
      "[INFO 04-06 08:54:22] ax.service.ax_client: Completed trial 1031 with data: {'Viable_Cross_Terms': (84, None)}.\n",
      "[INFO 04-06 08:54:24] ax.modelbridge.base: Leaving out out-of-design observations for arms: 729_0, 977_0, 489_0, 686_0, 775_0, 899_0\n",
      "[INFO 04-06 08:57:38] ax.service.ax_client: Generated new trial 1032 with parameters {'z_sh': 7, 'z_sh_1': 10, 'z_sh_2': 7, 'z_p2': 34, 'z_p2_1': 28, 'z_p2_2': 30, 'z_r2': 80, 'z_r2_1': 73, 'z_r2_2': 83, 'x_s': 0.5, 'x_s_1': 0.4, 'x_s_2': 0.3, 'x_p1': 0.604735, 'x_p1_1': 0.504735, 'x_p1_2': 0.404735, 'x_p2': 0.5, 'x_p2_1': 0.4, 'x_p2_2': 0.3, 'x_r2': 1.074681, 'x_r2_1': 0.974681, 'x_r2_2': 0.874681} using model BoTorch.\n",
      "[INFO 04-06 08:57:38] ax.service.ax_client: Completed trial 1032 with data: {'Viable_Cross_Terms': (36, None)}.\n",
      "[INFO 04-06 08:57:39] ax.modelbridge.base: Leaving out out-of-design observations for arms: 729_0, 977_0, 489_0, 686_0, 775_0, 899_0\n",
      "[INFO 04-06 09:00:48] ax.service.ax_client: Generated new trial 1033 with parameters {'z_sh': 7, 'z_sh_1': 6, 'z_sh_2': 5, 'z_p2': 34, 'z_p2_1': 34, 'z_p2_2': 33, 'z_r2': 85, 'z_r2_1': 83, 'z_r2_2': 70, 'x_s': 0.5, 'x_s_1': 0.4, 'x_s_2': 0.3, 'x_p1': 0.981383, 'x_p1_1': 0.881383, 'x_p1_2': 0.781383, 'x_p2': 0.5, 'x_p2_1': 0.4, 'x_p2_2': 0.3, 'x_r2': 1.093768, 'x_r2_1': 0.993768, 'x_r2_2': 0.893768} using model BoTorch.\n",
      "[INFO 04-06 09:00:48] ax.service.ax_client: Completed trial 1033 with data: {'Viable_Cross_Terms': (16, None)}.\n",
      "[INFO 04-06 09:00:49] ax.modelbridge.base: Leaving out out-of-design observations for arms: 729_0, 977_0, 489_0, 686_0, 775_0, 899_0\n",
      "[INFO 04-06 09:03:48] ax.service.ax_client: Generated new trial 1034 with parameters {'z_sh': 7, 'z_sh_1': 13, 'z_sh_2': 5, 'z_p2': 35, 'z_p2_1': 26, 'z_p2_2': 27, 'z_r2': 74, 'z_r2_1': 76, 'z_r2_2': 79, 'x_s': 0.5, 'x_s_1': 0.4, 'x_s_2': -0.5, 'x_p1': -0.8, 'x_p1_1': -0.9, 'x_p1_2': -1.0, 'x_p2': -0.3, 'x_p2_1': -0.4, 'x_p2_2': -0.5, 'x_r2': 1.5, 'x_r2_1': -0.393679, 'x_r2_2': -1.5} using model BoTorch.\n",
      "[INFO 04-06 09:03:48] ax.service.ax_client: Completed trial 1034 with data: {'Viable_Cross_Terms': (2, None)}.\n",
      "[INFO 04-06 09:03:48] ax.modelbridge.base: Leaving out out-of-design observations for arms: 729_0, 977_0, 489_0, 686_0, 775_0, 899_0\n",
      "[INFO 04-06 09:06:54] ax.service.ax_client: Generated new trial 1035 with parameters {'z_sh': 14, 'z_sh_1': 6, 'z_sh_2': 13, 'z_p2': 27, 'z_p2_1': 31, 'z_p2_2': 26, 'z_r2': 75, 'z_r2_1': 72, 'z_r2_2': 73, 'x_s': 0.5, 'x_s_1': 0.4, 'x_s_2': 0.3, 'x_p1': 1.0, 'x_p1_1': 0.9, 'x_p1_2': 0.8, 'x_p2': 0.5, 'x_p2_1': 0.4, 'x_p2_2': 0.3, 'x_r2': 1.5, 'x_r2_1': 1.4, 'x_r2_2': -1.5} using model BoTorch.\n",
      "[INFO 04-06 09:06:54] ax.service.ax_client: Completed trial 1035 with data: {'Viable_Cross_Terms': (0, None)}.\n",
      "[INFO 04-06 09:06:55] ax.modelbridge.base: Leaving out out-of-design observations for arms: 729_0, 1035_0, 977_0, 489_0, 686_0, 775_0, 899_0\n",
      "[INFO 04-06 09:09:03] ax.service.ax_client: Generated new trial 1036 with parameters {'z_sh': 10, 'z_sh_1': 7, 'z_sh_2': 5, 'z_p2': 28, 'z_p2_1': 33, 'z_p2_2': 27, 'z_r2': 77, 'z_r2_1': 75, 'z_r2_2': 76, 'x_s': 0.5, 'x_s_1': 0.4, 'x_s_2': 0.3, 'x_p1': 0.644352, 'x_p1_1': 0.544352, 'x_p1_2': 0.444352, 'x_p2': 0.5, 'x_p2_1': 0.4, 'x_p2_2': 0.3, 'x_r2': 0.98723, 'x_r2_1': 0.88723, 'x_r2_2': 0.78723} using model BoTorch.\n",
      "[INFO 04-06 09:09:03] ax.service.ax_client: Completed trial 1036 with data: {'Viable_Cross_Terms': (35, None)}.\n",
      "[INFO 04-06 09:09:04] ax.modelbridge.base: Leaving out out-of-design observations for arms: 729_0, 1035_0, 977_0, 489_0, 686_0, 775_0, 899_0\n",
      "[INFO 04-06 09:11:48] ax.service.ax_client: Generated new trial 1037 with parameters {'z_sh': 7, 'z_sh_1': 6, 'z_sh_2': 5, 'z_p2': 27, 'z_p2_1': 29, 'z_p2_2': 32, 'z_r2': 80, 'z_r2_1': 84, 'z_r2_2': 84, 'x_s': 0.5, 'x_s_1': 0.4, 'x_s_2': 0.3, 'x_p1': 0.507932, 'x_p1_1': 0.407932, 'x_p1_2': 0.307932, 'x_p2': 0.5, 'x_p2_1': 0.4, 'x_p2_2': 0.3, 'x_r2': 1.067222, 'x_r2_1': 0.967222, 'x_r2_2': 0.867222} using model BoTorch.\n",
      "[INFO 04-06 09:11:48] ax.service.ax_client: Completed trial 1037 with data: {'Viable_Cross_Terms': (68, None)}.\n",
      "[INFO 04-06 09:11:49] ax.modelbridge.base: Leaving out out-of-design observations for arms: 729_0, 1035_0, 977_0, 489_0, 686_0, 775_0, 899_0\n",
      "[INFO 04-06 09:14:45] ax.service.ax_client: Generated new trial 1038 with parameters {'z_sh': 7, 'z_sh_1': 13, 'z_sh_2': 5, 'z_p2': 34, 'z_p2_1': 33, 'z_p2_2': 33, 'z_r2': 80, 'z_r2_1': 77, 'z_r2_2': 83, 'x_s': 0.5, 'x_s_1': 0.4, 'x_s_2': 0.3, 'x_p1': 0.606097, 'x_p1_1': 0.506097, 'x_p1_2': 0.406097, 'x_p2': 0.5, 'x_p2_1': 0.4, 'x_p2_2': 0.3, 'x_r2': 1.080875, 'x_r2_1': 0.980875, 'x_r2_2': 0.880875} using model BoTorch.\n",
      "[INFO 04-06 09:14:45] ax.service.ax_client: Completed trial 1038 with data: {'Viable_Cross_Terms': (80, None)}.\n",
      "[INFO 04-06 09:14:46] ax.modelbridge.base: Leaving out out-of-design observations for arms: 729_0, 1035_0, 977_0, 489_0, 686_0, 775_0, 899_0\n",
      "[INFO 04-06 09:18:01] ax.service.ax_client: Generated new trial 1039 with parameters {'z_sh': 7, 'z_sh_1': 6, 'z_sh_2': 5, 'z_p2': 35, 'z_p2_1': 34, 'z_p2_2': 25, 'z_r2': 80, 'z_r2_1': 85, 'z_r2_2': 84, 'x_s': 0.5, 'x_s_1': 0.4, 'x_s_2': 0.3, 'x_p1': 0.597195, 'x_p1_1': 0.497195, 'x_p1_2': 0.397195, 'x_p2': 0.5, 'x_p2_1': 0.4, 'x_p2_2': 0.3, 'x_r2': 1.097298, 'x_r2_1': 0.997298, 'x_r2_2': 0.897298} using model BoTorch.\n",
      "[INFO 04-06 09:18:01] ax.service.ax_client: Completed trial 1039 with data: {'Viable_Cross_Terms': (71, None)}.\n",
      "[INFO 04-06 09:18:02] ax.modelbridge.base: Leaving out out-of-design observations for arms: 729_0, 1035_0, 977_0, 489_0, 686_0, 775_0, 899_0\n",
      "[INFO 04-06 09:22:53] ax.service.ax_client: Generated new trial 1040 with parameters {'z_sh': 7, 'z_sh_1': 13, 'z_sh_2': 5, 'z_p2': 34, 'z_p2_1': 30, 'z_p2_2': 25, 'z_r2': 80, 'z_r2_1': 76, 'z_r2_2': 78, 'x_s': 0.5, 'x_s_1': 0.4, 'x_s_2': 0.3, 'x_p1': 0.635053, 'x_p1_1': 0.535053, 'x_p1_2': 0.435053, 'x_p2': 0.461843, 'x_p2_1': 0.361843, 'x_p2_2': 0.261843, 'x_r2': 1.034769, 'x_r2_1': 0.934769, 'x_r2_2': 0.834769} using model BoTorch.\n",
      "[INFO 04-06 09:22:53] ax.service.ax_client: Completed trial 1040 with data: {'Viable_Cross_Terms': (80, None)}.\n",
      "[INFO 04-06 09:22:53] ax.modelbridge.base: Leaving out out-of-design observations for arms: 729_0, 1035_0, 977_0, 489_0, 686_0, 775_0, 899_0\n",
      "[INFO 04-06 09:26:36] ax.service.ax_client: Generated new trial 1041 with parameters {'z_sh': 11, 'z_sh_1': 14, 'z_sh_2': 7, 'z_p2': 29, 'z_p2_1': 28, 'z_p2_2': 29, 'z_r2': 82, 'z_r2_1': 75, 'z_r2_2': 82, 'x_s': 0.5, 'x_s_1': 0.4, 'x_s_2': 0.3, 'x_p1': 0.782944, 'x_p1_1': 0.682943, 'x_p1_2': 0.582125, 'x_p2': 0.369551, 'x_p2_1': 0.257554, 'x_p2_2': 0.12345, 'x_r2': 0.903587, 'x_r2_1': 0.785821, 'x_r2_2': 0.456475} using model BoTorch.\n",
      "[INFO 04-06 09:26:36] ax.service.ax_client: Completed trial 1041 with data: {'Viable_Cross_Terms': (30, None)}.\n",
      "[INFO 04-06 09:26:37] ax.modelbridge.base: Leaving out out-of-design observations for arms: 729_0, 1035_0, 977_0, 489_0, 686_0, 775_0, 899_0\n",
      "[INFO 04-06 09:30:19] ax.service.ax_client: Generated new trial 1042 with parameters {'z_sh': 10, 'z_sh_1': 9, 'z_sh_2': 7, 'z_p2': 30, 'z_p2_1': 32, 'z_p2_2': 30, 'z_r2': 76, 'z_r2_1': 72, 'z_r2_2': 77, 'x_s': 0.5, 'x_s_1': 0.4, 'x_s_2': 0.3, 'x_p1': 0.999967, 'x_p1_1': 0.886337, 'x_p1_2': 0.786337, 'x_p2': 0.197518, 'x_p2_1': 0.097518, 'x_p2_2': -0.002589, 'x_r2': 0.911173, 'x_r2_1': 0.741542, 'x_r2_2': 0.641542} using model BoTorch.\n",
      "[INFO 04-06 09:30:19] ax.service.ax_client: Completed trial 1042 with data: {'Viable_Cross_Terms': (25, None)}.\n",
      "[INFO 04-06 09:30:20] ax.modelbridge.base: Leaving out out-of-design observations for arms: 729_0, 1035_0, 977_0, 489_0, 686_0, 775_0, 899_0\n",
      "[INFO 04-06 09:33:17] ax.service.ax_client: Generated new trial 1043 with parameters {'z_sh': 7, 'z_sh_1': 9, 'z_sh_2': 5, 'z_p2': 30, 'z_p2_1': 33, 'z_p2_2': 30, 'z_r2': 80, 'z_r2_1': 72, 'z_r2_2': 80, 'x_s': 0.5, 'x_s_1': 0.4, 'x_s_2': 0.3, 'x_p1': 0.604356, 'x_p1_1': 0.504356, 'x_p1_2': 0.404356, 'x_p2': 0.5, 'x_p2_1': 0.4, 'x_p2_2': 0.3, 'x_r2': 1.022697, 'x_r2_1': 0.922697, 'x_r2_2': 0.822697} using model BoTorch.\n",
      "[INFO 04-06 09:33:17] ax.service.ax_client: Completed trial 1043 with data: {'Viable_Cross_Terms': (81, None)}.\n",
      "[INFO 04-06 09:33:18] ax.modelbridge.base: Leaving out out-of-design observations for arms: 729_0, 1035_0, 977_0, 489_0, 686_0, 775_0, 899_0\n",
      "[INFO 04-06 09:36:12] ax.service.ax_client: Generated new trial 1044 with parameters {'z_sh': 7, 'z_sh_1': 14, 'z_sh_2': 5, 'z_p2': 27, 'z_p2_1': 29, 'z_p2_2': 26, 'z_r2': 76, 'z_r2_1': 73, 'z_r2_2': 80, 'x_s': -0.3, 'x_s_1': -0.4, 'x_s_2': -0.5, 'x_p1': 0.423318, 'x_p1_1': 0.323318, 'x_p1_2': 0.223318, 'x_p2': 0.5, 'x_p2_1': 0.4, 'x_p2_2': 0.3, 'x_r2': 1.5, 'x_r2_1': -0.80595, 'x_r2_2': -1.5} using model BoTorch.\n",
      "[INFO 04-06 09:36:12] ax.service.ax_client: Completed trial 1044 with data: {'Viable_Cross_Terms': (1, None)}.\n",
      "[INFO 04-06 09:36:13] ax.modelbridge.base: Leaving out out-of-design observations for arms: 729_0, 1035_0, 977_0, 489_0, 686_0, 775_0, 899_0\n",
      "[INFO 04-06 09:39:51] ax.service.ax_client: Generated new trial 1045 with parameters {'z_sh': 8, 'z_sh_1': 7, 'z_sh_2': 12, 'z_p2': 27, 'z_p2_1': 32, 'z_p2_2': 27, 'z_r2': 81, 'z_r2_1': 81, 'z_r2_2': 73, 'x_s': 0.5, 'x_s_1': 0.4, 'x_s_2': 0.3, 'x_p1': 0.304454, 'x_p1_1': 0.204454, 'x_p1_2': 0.104454, 'x_p2': 0.5, 'x_p2_1': 0.4, 'x_p2_2': 0.3, 'x_r2': 0.949277, 'x_r2_1': 0.836275, 'x_r2_2': -0.798024} using model BoTorch.\n",
      "[INFO 04-06 09:39:51] ax.service.ax_client: Completed trial 1045 with data: {'Viable_Cross_Terms': (7, None)}.\n",
      "[INFO 04-06 09:39:52] ax.modelbridge.base: Leaving out out-of-design observations for arms: 729_0, 1035_0, 977_0, 489_0, 686_0, 775_0, 899_0\n",
      "[INFO 04-06 09:43:48] ax.service.ax_client: Generated new trial 1046 with parameters {'z_sh': 9, 'z_sh_1': 12, 'z_sh_2': 11, 'z_p2': 27, 'z_p2_1': 31, 'z_p2_2': 27, 'z_r2': 80, 'z_r2_1': 80, 'z_r2_2': 84, 'x_s': 0.488311, 'x_s_1': 0.345571, 'x_s_2': -0.20065, 'x_p1': 0.321816, 'x_p1_1': 0.221291, 'x_p1_2': 0.120121, 'x_p2': 0.136013, 'x_p2_1': 0.036013, 'x_p2_2': -0.085828, 'x_r2': 0.907862, 'x_r2_1': 0.622655, 'x_r2_2': 0.522655} using model BoTorch.\n",
      "[INFO 04-06 09:43:48] ax.service.ax_client: Completed trial 1046 with data: {'Viable_Cross_Terms': (10, None)}.\n",
      "[INFO 04-06 09:43:49] ax.modelbridge.base: Leaving out out-of-design observations for arms: 729_0, 1035_0, 977_0, 489_0, 686_0, 775_0, 899_0\n",
      "[INFO 04-06 09:46:56] ax.service.ax_client: Generated new trial 1047 with parameters {'z_sh': 10, 'z_sh_1': 14, 'z_sh_2': 5, 'z_p2': 29, 'z_p2_1': 28, 'z_p2_2': 26, 'z_r2': 83, 'z_r2_1': 72, 'z_r2_2': 78, 'x_s': 0.5, 'x_s_1': 0.4, 'x_s_2': 0.3, 'x_p1': 0.607824, 'x_p1_1': 0.507824, 'x_p1_2': 0.407824, 'x_p2': 0.5, 'x_p2_1': 0.4, 'x_p2_2': 0.3, 'x_r2': 0.957107, 'x_r2_1': 0.857107, 'x_r2_2': 0.757107} using model BoTorch.\n",
      "[INFO 04-06 09:46:56] ax.service.ax_client: Completed trial 1047 with data: {'Viable_Cross_Terms': (35, None)}.\n",
      "[INFO 04-06 09:46:57] ax.modelbridge.base: Leaving out out-of-design observations for arms: 729_0, 1035_0, 977_0, 489_0, 686_0, 775_0, 899_0\n",
      "[INFO 04-06 09:50:18] ax.service.ax_client: Generated new trial 1048 with parameters {'z_sh': 7, 'z_sh_1': 6, 'z_sh_2': 13, 'z_p2': 27, 'z_p2_1': 34, 'z_p2_2': 33, 'z_r2': 86, 'z_r2_1': 85, 'z_r2_2': 84, 'x_s': 0.5, 'x_s_1': 0.4, 'x_s_2': 0.3, 'x_p1': 0.279654, 'x_p1_1': 0.179654, 'x_p1_2': 0.079654, 'x_p2': 0.5, 'x_p2_1': 0.4, 'x_p2_2': 0.3, 'x_r2': 0.855242, 'x_r2_1': 0.755242, 'x_r2_2': -1.5} using model BoTorch.\n",
      "[INFO 04-06 09:50:18] ax.service.ax_client: Completed trial 1048 with data: {'Viable_Cross_Terms': (13, None)}.\n",
      "[INFO 04-06 09:50:19] ax.modelbridge.base: Leaving out out-of-design observations for arms: 729_0, 1035_0, 977_0, 489_0, 686_0, 775_0, 899_0\n",
      "[INFO 04-06 09:53:22] ax.service.ax_client: Generated new trial 1049 with parameters {'z_sh': 7, 'z_sh_1': 10, 'z_sh_2': 5, 'z_p2': 35, 'z_p2_1': 33, 'z_p2_2': 32, 'z_r2': 80, 'z_r2_1': 78, 'z_r2_2': 83, 'x_s': 0.5, 'x_s_1': 0.4, 'x_s_2': 0.3, 'x_p1': 0.592588, 'x_p1_1': 0.492588, 'x_p1_2': 0.392588, 'x_p2': 0.5, 'x_p2_1': 0.4, 'x_p2_2': 0.3, 'x_r2': 1.078306, 'x_r2_1': 0.978306, 'x_r2_2': 0.878306} using model BoTorch.\n",
      "[INFO 04-06 09:53:22] ax.service.ax_client: Completed trial 1049 with data: {'Viable_Cross_Terms': (82, None)}.\n",
      "[INFO 04-06 09:53:22] ax.modelbridge.base: Leaving out out-of-design observations for arms: 729_0, 1035_0, 977_0, 489_0, 686_0, 775_0, 899_0\n",
      "[INFO 04-06 09:56:14] ax.service.ax_client: Generated new trial 1050 with parameters {'z_sh': 7, 'z_sh_1': 14, 'z_sh_2': 5, 'z_p2': 35, 'z_p2_1': 26, 'z_p2_2': 25, 'z_r2': 80, 'z_r2_1': 78, 'z_r2_2': 84, 'x_s': 0.5, 'x_s_1': 0.4, 'x_s_2': 0.3, 'x_p1': 0.601041, 'x_p1_1': 0.501041, 'x_p1_2': 0.401041, 'x_p2': 0.5, 'x_p2_1': 0.4, 'x_p2_2': 0.3, 'x_r2': 1.08408, 'x_r2_1': 0.98408, 'x_r2_2': 0.88408} using model BoTorch.\n",
      "[INFO 04-06 09:56:14] ax.service.ax_client: Completed trial 1050 with data: {'Viable_Cross_Terms': (81, None)}.\n",
      "[INFO 04-06 09:56:15] ax.modelbridge.base: Leaving out out-of-design observations for arms: 729_0, 1035_0, 977_0, 489_0, 686_0, 775_0, 899_0\n",
      "[INFO 04-06 09:59:48] ax.service.ax_client: Generated new trial 1051 with parameters {'z_sh': 7, 'z_sh_1': 6, 'z_sh_2': 5, 'z_p2': 27, 'z_p2_1': 26, 'z_p2_2': 31, 'z_r2': 85, 'z_r2_1': 72, 'z_r2_2': 84, 'x_s': 0.5, 'x_s_1': 0.4, 'x_s_2': 0.3, 'x_p1': 0.789648, 'x_p1_1': 0.689648, 'x_p1_2': 0.589648, 'x_p2': 0.5, 'x_p2_1': 0.4, 'x_p2_2': 0.3, 'x_r2': 1.1274, 'x_r2_1': 1.0274, 'x_r2_2': 0.9274} using model BoTorch.\n",
      "[INFO 04-06 09:59:48] ax.service.ax_client: Completed trial 1051 with data: {'Viable_Cross_Terms': (31, None)}.\n",
      "[INFO 04-06 09:59:49] ax.modelbridge.base: Leaving out out-of-design observations for arms: 729_0, 1035_0, 977_0, 489_0, 686_0, 775_0, 899_0\n",
      "[INFO 04-06 10:02:40] ax.service.ax_client: Generated new trial 1052 with parameters {'z_sh': 11, 'z_sh_1': 7, 'z_sh_2': 5, 'z_p2': 35, 'z_p2_1': 28, 'z_p2_2': 25, 'z_r2': 77, 'z_r2_1': 83, 'z_r2_2': 73, 'x_s': 0.5, 'x_s_1': 0.4, 'x_s_2': 0.3, 'x_p1': 0.642434, 'x_p1_1': 0.542434, 'x_p1_2': 0.442434, 'x_p2': 0.5, 'x_p2_1': 0.4, 'x_p2_2': 0.3, 'x_r2': 0.98986, 'x_r2_1': 0.88986, 'x_r2_2': 0.78986} using model BoTorch.\n",
      "[INFO 04-06 10:02:40] ax.service.ax_client: Completed trial 1052 with data: {'Viable_Cross_Terms': (35, None)}.\n",
      "[INFO 04-06 10:02:40] ax.modelbridge.base: Leaving out out-of-design observations for arms: 729_0, 1035_0, 977_0, 489_0, 686_0, 775_0, 899_0\n",
      "[INFO 04-06 10:06:35] ax.service.ax_client: Generated new trial 1053 with parameters {'z_sh': 7, 'z_sh_1': 11, 'z_sh_2': 5, 'z_p2': 27, 'z_p2_1': 26, 'z_p2_2': 27, 'z_r2': 78, 'z_r2_1': 71, 'z_r2_2': 84, 'x_s': 0.5, 'x_s_1': 0.4, 'x_s_2': 0.3, 'x_p1': 0.716663, 'x_p1_1': 0.616663, 'x_p1_2': -1.0, 'x_p2': 0.141483, 'x_p2_1': 0.041483, 'x_p2_2': -0.058517, 'x_r2': 1.049832, 'x_r2_1': 0.949832, 'x_r2_2': 0.849832} using model BoTorch.\n",
      "[INFO 04-06 10:06:35] ax.service.ax_client: Completed trial 1053 with data: {'Viable_Cross_Terms': (10, None)}.\n",
      "[INFO 04-06 10:06:36] ax.modelbridge.base: Leaving out out-of-design observations for arms: 729_0, 1035_0, 977_0, 489_0, 686_0, 775_0, 899_0\n",
      "[INFO 04-06 10:10:54] ax.service.ax_client: Generated new trial 1054 with parameters {'z_sh': 9, 'z_sh_1': 8, 'z_sh_2': 13, 'z_p2': 35, 'z_p2_1': 32, 'z_p2_2': 32, 'z_r2': 81, 'z_r2_1': 77, 'z_r2_2': 79, 'x_s': 0.5, 'x_s_1': 0.4, 'x_s_2': 0.3, 'x_p1': 0.530393, 'x_p1_1': 0.430393, 'x_p1_2': 0.330393, 'x_p2': 0.44303, 'x_p2_1': 0.34303, 'x_p2_2': 0.242578, 'x_r2': 0.88606, 'x_r2_1': 0.78606, 'x_r2_2': 0.68606} using model BoTorch.\n",
      "[INFO 04-06 10:10:54] ax.service.ax_client: Completed trial 1054 with data: {'Viable_Cross_Terms': (32, None)}.\n",
      "[INFO 04-06 10:10:55] ax.modelbridge.base: Leaving out out-of-design observations for arms: 729_0, 1035_0, 977_0, 489_0, 686_0, 775_0, 899_0\n",
      "[INFO 04-06 10:14:32] ax.service.ax_client: Generated new trial 1055 with parameters {'z_sh': 7, 'z_sh_1': 7, 'z_sh_2': 5, 'z_p2': 34, 'z_p2_1': 33, 'z_p2_2': 32, 'z_r2': 80, 'z_r2_1': 76, 'z_r2_2': 84, 'x_s': 0.5, 'x_s_1': 0.4, 'x_s_2': 0.3, 'x_p1': 0.587973, 'x_p1_1': 0.487973, 'x_p1_2': 0.387973, 'x_p2': 0.5, 'x_p2_1': 0.4, 'x_p2_2': 0.3, 'x_r2': 1.077749, 'x_r2_1': 0.977749, 'x_r2_2': 0.877749} using model BoTorch.\n",
      "[INFO 04-06 10:14:32] ax.service.ax_client: Completed trial 1055 with data: {'Viable_Cross_Terms': (80, None)}.\n",
      "[INFO 04-06 10:14:33] ax.modelbridge.base: Leaving out out-of-design observations for arms: 729_0, 1035_0, 977_0, 489_0, 686_0, 775_0, 899_0\n",
      "[INFO 04-06 10:17:43] ax.service.ax_client: Generated new trial 1056 with parameters {'z_sh': 7, 'z_sh_1': 14, 'z_sh_2': 5, 'z_p2': 29, 'z_p2_1': 26, 'z_p2_2': 25, 'z_r2': 72, 'z_r2_1': 74, 'z_r2_2': 70, 'x_s': 0.5, 'x_s_1': -0.4, 'x_s_2': -0.5, 'x_p1': 1.0, 'x_p1_1': 0.9, 'x_p1_2': -1.0, 'x_p2': -0.3, 'x_p2_1': -0.4, 'x_p2_2': -0.5, 'x_r2': -0.232407, 'x_r2_1': -0.332407, 'x_r2_2': -1.5} using model BoTorch.\n",
      "[INFO 04-06 10:17:43] ax.service.ax_client: Completed trial 1056 with data: {'Viable_Cross_Terms': (10, None)}.\n",
      "[INFO 04-06 10:17:43] ax.modelbridge.base: Leaving out out-of-design observations for arms: 729_0, 1035_0, 977_0, 489_0, 686_0, 775_0, 899_0\n",
      "[INFO 04-06 10:22:09] ax.service.ax_client: Generated new trial 1057 with parameters {'z_sh': 7, 'z_sh_1': 14, 'z_sh_2': 8, 'z_p2': 31, 'z_p2_1': 34, 'z_p2_2': 33, 'z_r2': 80, 'z_r2_1': 78, 'z_r2_2': 84, 'x_s': 0.489374, 'x_s_1': 0.367984, 'x_s_2': 0.031155, 'x_p1': 0.381269, 'x_p1_1': 0.280623, 'x_p1_2': -0.842794, 'x_p2': 0.5, 'x_p2_1': -0.039551, 'x_p2_2': -0.186433, 'x_r2': 1.167433, 'x_r2_1': 1.040375, 'x_r2_2': -0.020427} using model BoTorch.\n",
      "[INFO 04-06 10:22:09] ax.service.ax_client: Completed trial 1057 with data: {'Viable_Cross_Terms': (35, None)}.\n",
      "[INFO 04-06 10:22:10] ax.modelbridge.base: Leaving out out-of-design observations for arms: 729_0, 1035_0, 977_0, 489_0, 686_0, 775_0, 899_0\n",
      "[INFO 04-06 10:25:33] ax.service.ax_client: Generated new trial 1058 with parameters {'z_sh': 7, 'z_sh_1': 11, 'z_sh_2': 7, 'z_p2': 32, 'z_p2_1': 30, 'z_p2_2': 31, 'z_r2': 78, 'z_r2_1': 75, 'z_r2_2': 74, 'x_s': 0.5, 'x_s_1': 0.4, 'x_s_2': 0.3, 'x_p1': 0.551762, 'x_p1_1': 0.451762, 'x_p1_2': 0.351762, 'x_p2': 0.5, 'x_p2_1': 0.4, 'x_p2_2': 0.3, 'x_r2': 0.985594, 'x_r2_1': 0.885594, 'x_r2_2': 0.785594} using model BoTorch.\n",
      "[INFO 04-06 10:25:33] ax.service.ax_client: Completed trial 1058 with data: {'Viable_Cross_Terms': (36, None)}.\n",
      "[INFO 04-06 10:25:34] ax.modelbridge.base: Leaving out out-of-design observations for arms: 729_0, 1035_0, 977_0, 489_0, 686_0, 775_0, 899_0\n",
      "[INFO 04-06 10:29:03] ax.service.ax_client: Generated new trial 1059 with parameters {'z_sh': 7, 'z_sh_1': 14, 'z_sh_2': 5, 'z_p2': 31, 'z_p2_1': 34, 'z_p2_2': 25, 'z_r2': 80, 'z_r2_1': 71, 'z_r2_2': 84, 'x_s': 0.5, 'x_s_1': 0.4, 'x_s_2': 0.3, 'x_p1': 0.576335, 'x_p1_1': 0.476335, 'x_p1_2': 0.376335, 'x_p2': 0.5, 'x_p2_1': 0.4, 'x_p2_2': 0.3, 'x_r2': 1.5, 'x_r2_1': 0.977497, 'x_r2_2': 0.877497} using model BoTorch.\n",
      "[INFO 04-06 10:29:03] ax.service.ax_client: Completed trial 1059 with data: {'Viable_Cross_Terms': (76, None)}.\n",
      "[INFO 04-06 10:29:04] ax.modelbridge.base: Leaving out out-of-design observations for arms: 729_0, 1035_0, 977_0, 489_0, 686_0, 775_0, 899_0\n",
      "[INFO 04-06 10:32:48] ax.service.ax_client: Generated new trial 1060 with parameters {'z_sh': 7, 'z_sh_1': 12, 'z_sh_2': 5, 'z_p2': 34, 'z_p2_1': 33, 'z_p2_2': 32, 'z_r2': 80, 'z_r2_1': 73, 'z_r2_2': 84, 'x_s': 0.5, 'x_s_1': 0.4, 'x_s_2': 0.3, 'x_p1': 0.606632, 'x_p1_1': 0.506632, 'x_p1_2': 0.406632, 'x_p2': 0.5, 'x_p2_1': 0.4, 'x_p2_2': 0.3, 'x_r2': 1.081966, 'x_r2_1': 0.981966, 'x_r2_2': 0.881966} using model BoTorch.\n",
      "[INFO 04-06 10:32:48] ax.service.ax_client: Completed trial 1060 with data: {'Viable_Cross_Terms': (80, None)}.\n",
      "[INFO 04-06 10:32:49] ax.modelbridge.base: Leaving out out-of-design observations for arms: 729_0, 1035_0, 977_0, 489_0, 686_0, 775_0, 899_0\n",
      "[INFO 04-06 10:35:35] ax.service.ax_client: Generated new trial 1061 with parameters {'z_sh': 7, 'z_sh_1': 12, 'z_sh_2': 5, 'z_p2': 29, 'z_p2_1': 26, 'z_p2_2': 33, 'z_r2': 80, 'z_r2_1': 71, 'z_r2_2': 83, 'x_s': 0.5, 'x_s_1': 0.4, 'x_s_2': 0.3, 'x_p1': 0.221983, 'x_p1_1': 0.121983, 'x_p1_2': 0.021983, 'x_p2': 0.5, 'x_p2_1': 0.4, 'x_p2_2': 0.3, 'x_r2': 1.5, 'x_r2_1': -0.124659, 'x_r2_2': -1.5} using model BoTorch.\n",
      "[INFO 04-06 10:35:35] ax.service.ax_client: Completed trial 1061 with data: {'Viable_Cross_Terms': (4, None)}.\n",
      "[INFO 04-06 10:35:35] ax.modelbridge.base: Leaving out out-of-design observations for arms: 729_0, 1035_0, 977_0, 489_0, 686_0, 775_0, 899_0\n",
      "[INFO 04-06 10:39:29] ax.service.ax_client: Generated new trial 1062 with parameters {'z_sh': 10, 'z_sh_1': 9, 'z_sh_2': 8, 'z_p2': 28, 'z_p2_1': 30, 'z_p2_2': 27, 'z_r2': 80, 'z_r2_1': 79, 'z_r2_2': 73, 'x_s': 0.5, 'x_s_1': 0.4, 'x_s_2': 0.3, 'x_p1': 0.171536, 'x_p1_1': 0.002421, 'x_p1_2': -0.097579, 'x_p2': 0.5, 'x_p2_1': 0.4, 'x_p2_2': 0.3, 'x_r2': 1.042946, 'x_r2_1': 0.942455, 'x_r2_2': 0.842455} using model BoTorch.\n",
      "[INFO 04-06 10:39:29] ax.service.ax_client: Completed trial 1062 with data: {'Viable_Cross_Terms': (14, None)}.\n",
      "[INFO 04-06 10:39:30] ax.modelbridge.base: Leaving out out-of-design observations for arms: 729_0, 1035_0, 977_0, 489_0, 686_0, 775_0, 899_0\n",
      "[INFO 04-06 10:42:34] ax.service.ax_client: Generated new trial 1063 with parameters {'z_sh': 7, 'z_sh_1': 6, 'z_sh_2': 5, 'z_p2': 27, 'z_p2_1': 32, 'z_p2_2': 32, 'z_r2': 80, 'z_r2_1': 84, 'z_r2_2': 84, 'x_s': 0.5, 'x_s_1': 0.4, 'x_s_2': 0.3, 'x_p1': 0.649726, 'x_p1_1': 0.549726, 'x_p1_2': 0.449726, 'x_p2': 0.5, 'x_p2_1': 0.4, 'x_p2_2': 0.3, 'x_r2': 1.086834, 'x_r2_1': 0.986834, 'x_r2_2': 0.886834} using model BoTorch.\n",
      "[INFO 04-06 10:42:34] ax.service.ax_client: Completed trial 1063 with data: {'Viable_Cross_Terms': (81, None)}.\n",
      "[INFO 04-06 10:42:35] ax.modelbridge.base: Leaving out out-of-design observations for arms: 729_0, 1035_0, 977_0, 489_0, 686_0, 775_0, 899_0\n",
      "[INFO 04-06 10:47:15] ax.service.ax_client: Generated new trial 1064 with parameters {'z_sh': 7, 'z_sh_1': 6, 'z_sh_2': 5, 'z_p2': 32, 'z_p2_1': 33, 'z_p2_2': 33, 'z_r2': 80, 'z_r2_1': 72, 'z_r2_2': 84, 'x_s': 0.5, 'x_s_1': 0.4, 'x_s_2': 0.3, 'x_p1': 0.74494, 'x_p1_1': 0.604595, 'x_p1_2': 0.504595, 'x_p2': 0.430939, 'x_p2_1': 0.330939, 'x_p2_2': 0.230939, 'x_r2': 1.007715, 'x_r2_1': 0.907715, 'x_r2_2': 0.807715} using model BoTorch.\n",
      "[INFO 04-06 10:47:15] ax.service.ax_client: Completed trial 1064 with data: {'Viable_Cross_Terms': (79, None)}.\n",
      "[INFO 04-06 10:47:16] ax.modelbridge.base: Leaving out out-of-design observations for arms: 729_0, 1035_0, 977_0, 489_0, 686_0, 775_0, 899_0\n",
      "[INFO 04-06 10:50:18] ax.service.ax_client: Generated new trial 1065 with parameters {'z_sh': 7, 'z_sh_1': 13, 'z_sh_2': 5, 'z_p2': 34, 'z_p2_1': 33, 'z_p2_2': 32, 'z_r2': 80, 'z_r2_1': 83, 'z_r2_2': 84, 'x_s': 0.5, 'x_s_1': 0.4, 'x_s_2': 0.3, 'x_p1': 0.592789, 'x_p1_1': 0.492789, 'x_p1_2': 0.392789, 'x_p2': 0.5, 'x_p2_1': 0.4, 'x_p2_2': 0.3, 'x_r2': 1.07526, 'x_r2_1': 0.97526, 'x_r2_2': 0.87526} using model BoTorch.\n",
      "[INFO 04-06 10:50:18] ax.service.ax_client: Completed trial 1065 with data: {'Viable_Cross_Terms': (81, None)}.\n",
      "[INFO 04-06 10:50:19] ax.modelbridge.base: Leaving out out-of-design observations for arms: 729_0, 1035_0, 977_0, 489_0, 686_0, 775_0, 899_0\n",
      "[INFO 04-06 10:53:12] ax.service.ax_client: Generated new trial 1066 with parameters {'z_sh': 7, 'z_sh_1': 6, 'z_sh_2': 5, 'z_p2': 34, 'z_p2_1': 26, 'z_p2_2': 28, 'z_r2': 75, 'z_r2_1': 77, 'z_r2_2': 70, 'x_s': 0.5, 'x_s_1': -0.4, 'x_s_2': -0.5, 'x_p1': -0.109606, 'x_p1_1': -0.209606, 'x_p1_2': -0.309606, 'x_p2': 0.5, 'x_p2_1': 0.4, 'x_p2_2': 0.3, 'x_r2': 1.5, 'x_r2_1': 0.071258, 'x_r2_2': -1.5} using model BoTorch.\n",
      "[INFO 04-06 10:53:12] ax.service.ax_client: Completed trial 1066 with data: {'Viable_Cross_Terms': (2, None)}.\n",
      "[INFO 04-06 10:53:13] ax.modelbridge.base: Leaving out out-of-design observations for arms: 729_0, 1035_0, 977_0, 489_0, 686_0, 775_0, 899_0\n",
      "[INFO 04-06 10:56:45] ax.service.ax_client: Generated new trial 1067 with parameters {'z_sh': 7, 'z_sh_1': 10, 'z_sh_2': 5, 'z_p2': 34, 'z_p2_1': 33, 'z_p2_2': 32, 'z_r2': 80, 'z_r2_1': 83, 'z_r2_2': 84, 'x_s': 0.5, 'x_s_1': 0.4, 'x_s_2': 0.3, 'x_p1': 0.620875, 'x_p1_1': 0.520875, 'x_p1_2': 0.420875, 'x_p2': 0.5, 'x_p2_1': 0.4, 'x_p2_2': 0.3, 'x_r2': 1.082286, 'x_r2_1': 0.982286, 'x_r2_2': 0.882286} using model BoTorch.\n",
      "[INFO 04-06 10:56:45] ax.service.ax_client: Completed trial 1067 with data: {'Viable_Cross_Terms': (84, None)}.\n",
      "[INFO 04-06 10:56:46] ax.modelbridge.base: Leaving out out-of-design observations for arms: 729_0, 1035_0, 977_0, 489_0, 686_0, 775_0, 899_0\n",
      "[INFO 04-06 11:00:07] ax.service.ax_client: Generated new trial 1068 with parameters {'z_sh': 7, 'z_sh_1': 12, 'z_sh_2': 5, 'z_p2': 34, 'z_p2_1': 34, 'z_p2_2': 32, 'z_r2': 80, 'z_r2_1': 84, 'z_r2_2': 83, 'x_s': 0.5, 'x_s_1': 0.4, 'x_s_2': 0.3, 'x_p1': 0.61543, 'x_p1_1': 0.51543, 'x_p1_2': 0.41543, 'x_p2': 0.5, 'x_p2_1': 0.4, 'x_p2_2': 0.3, 'x_r2': 1.081427, 'x_r2_1': 0.981427, 'x_r2_2': 0.881427} using model BoTorch.\n",
      "[INFO 04-06 11:00:07] ax.service.ax_client: Completed trial 1068 with data: {'Viable_Cross_Terms': (83, None)}.\n",
      "[INFO 04-06 11:00:08] ax.modelbridge.base: Leaving out out-of-design observations for arms: 729_0, 1035_0, 977_0, 489_0, 686_0, 775_0, 899_0\n",
      "[INFO 04-06 11:04:11] ax.service.ax_client: Generated new trial 1069 with parameters {'z_sh': 13, 'z_sh_1': 11, 'z_sh_2': 5, 'z_p2': 33, 'z_p2_1': 34, 'z_p2_2': 33, 'z_r2': 78, 'z_r2_1': 83, 'z_r2_2': 73, 'x_s': 0.411073, 'x_s_1': 0.252319, 'x_s_2': -0.5, 'x_p1': 0.595445, 'x_p1_1': 0.452893, 'x_p1_2': -1.0, 'x_p2': 0.5, 'x_p2_1': 0.259473, 'x_p2_2': -0.133145, 'x_r2': 1.109164, 'x_r2_1': 1.009164, 'x_r2_2': 0.909164} using model BoTorch.\n",
      "[INFO 04-06 11:04:11] ax.service.ax_client: Completed trial 1069 with data: {'Viable_Cross_Terms': (11, None)}.\n",
      "[INFO 04-06 11:04:12] ax.modelbridge.base: Leaving out out-of-design observations for arms: 729_0, 1035_0, 977_0, 489_0, 686_0, 775_0, 899_0\n",
      "[INFO 04-06 11:06:56] ax.service.ax_client: Generated new trial 1070 with parameters {'z_sh': 7, 'z_sh_1': 13, 'z_sh_2': 5, 'z_p2': 35, 'z_p2_1': 34, 'z_p2_2': 33, 'z_r2': 80, 'z_r2_1': 84, 'z_r2_2': 84, 'x_s': 0.5, 'x_s_1': 0.4, 'x_s_2': 0.3, 'x_p1': 0.612855, 'x_p1_1': 0.512855, 'x_p1_2': 0.412855, 'x_p2': 0.5, 'x_p2_1': 0.4, 'x_p2_2': 0.3, 'x_r2': 1.080145, 'x_r2_1': 0.980145, 'x_r2_2': 0.880145} using model BoTorch.\n",
      "[INFO 04-06 11:06:56] ax.service.ax_client: Completed trial 1070 with data: {'Viable_Cross_Terms': (82, None)}.\n",
      "[INFO 04-06 11:06:58] ax.modelbridge.base: Leaving out out-of-design observations for arms: 729_0, 1035_0, 977_0, 489_0, 686_0, 775_0, 899_0\n",
      "[INFO 04-06 11:11:35] ax.service.ax_client: Generated new trial 1071 with parameters {'z_sh': 7, 'z_sh_1': 6, 'z_sh_2': 5, 'z_p2': 31, 'z_p2_1': 26, 'z_p2_2': 33, 'z_r2': 80, 'z_r2_1': 83, 'z_r2_2': 76, 'x_s': 0.5, 'x_s_1': 0.4, 'x_s_2': 0.3, 'x_p1': 0.676026, 'x_p1_1': 0.576026, 'x_p1_2': 0.476026, 'x_p2': 0.387495, 'x_p2_1': 0.287495, 'x_p2_2': 0.187495, 'x_r2': 0.986036, 'x_r2_1': 0.886036, 'x_r2_2': 0.786036} using model BoTorch.\n",
      "[INFO 04-06 11:11:35] ax.service.ax_client: Completed trial 1071 with data: {'Viable_Cross_Terms': (86, None)}.\n",
      "[INFO 04-06 11:11:36] ax.modelbridge.base: Leaving out out-of-design observations for arms: 729_0, 1035_0, 977_0, 489_0, 686_0, 775_0, 899_0\n",
      "[INFO 04-06 11:14:54] ax.service.ax_client: Generated new trial 1072 with parameters {'z_sh': 7, 'z_sh_1': 6, 'z_sh_2': 5, 'z_p2': 27, 'z_p2_1': 34, 'z_p2_2': 33, 'z_r2': 80, 'z_r2_1': 84, 'z_r2_2': 84, 'x_s': 0.5, 'x_s_1': 0.4, 'x_s_2': 0.3, 'x_p1': 0.636328, 'x_p1_1': 0.536328, 'x_p1_2': 0.436328, 'x_p2': 0.5, 'x_p2_1': 0.4, 'x_p2_2': 0.3, 'x_r2': 1.071426, 'x_r2_1': 0.971426, 'x_r2_2': 0.871426} using model BoTorch.\n",
      "[INFO 04-06 11:14:54] ax.service.ax_client: Completed trial 1072 with data: {'Viable_Cross_Terms': (82, None)}.\n",
      "[INFO 04-06 11:14:55] ax.modelbridge.base: Leaving out out-of-design observations for arms: 729_0, 1035_0, 977_0, 489_0, 686_0, 775_0, 899_0\n",
      "[INFO 04-06 11:18:19] ax.service.ax_client: Generated new trial 1073 with parameters {'z_sh': 7, 'z_sh_1': 11, 'z_sh_2': 5, 'z_p2': 34, 'z_p2_1': 33, 'z_p2_2': 32, 'z_r2': 80, 'z_r2_1': 76, 'z_r2_2': 84, 'x_s': 0.5, 'x_s_1': 0.4, 'x_s_2': 0.3, 'x_p1': 0.62423, 'x_p1_1': 0.52423, 'x_p1_2': 0.42423, 'x_p2': 0.5, 'x_p2_1': 0.4, 'x_p2_2': 0.3, 'x_r2': 1.086171, 'x_r2_1': 0.986171, 'x_r2_2': 0.886171} using model BoTorch.\n",
      "[INFO 04-06 11:18:19] ax.service.ax_client: Completed trial 1073 with data: {'Viable_Cross_Terms': (83, None)}.\n",
      "[INFO 04-06 11:18:20] ax.modelbridge.base: Leaving out out-of-design observations for arms: 729_0, 1035_0, 977_0, 489_0, 686_0, 775_0, 899_0\n",
      "[INFO 04-06 11:21:52] ax.service.ax_client: Generated new trial 1074 with parameters {'z_sh': 7, 'z_sh_1': 6, 'z_sh_2': 5, 'z_p2': 27, 'z_p2_1': 34, 'z_p2_2': 25, 'z_r2': 80, 'z_r2_1': 85, 'z_r2_2': 84, 'x_s': 0.5, 'x_s_1': 0.4, 'x_s_2': 0.3, 'x_p1': 0.631803, 'x_p1_1': 0.531803, 'x_p1_2': 0.431803, 'x_p2': 0.5, 'x_p2_1': 0.4, 'x_p2_2': 0.3, 'x_r2': 1.076498, 'x_r2_1': 0.976498, 'x_r2_2': 0.876498} using model BoTorch.\n",
      "[INFO 04-06 11:21:52] ax.service.ax_client: Completed trial 1074 with data: {'Viable_Cross_Terms': (82, None)}.\n",
      "[INFO 04-06 11:21:52] ax.modelbridge.base: Leaving out out-of-design observations for arms: 729_0, 1035_0, 977_0, 489_0, 686_0, 775_0, 899_0\n",
      "[INFO 04-06 11:27:06] ax.service.ax_client: Generated new trial 1075 with parameters {'z_sh': 9, 'z_sh_1': 9, 'z_sh_2': 8, 'z_p2': 34, 'z_p2_1': 33, 'z_p2_2': 28, 'z_r2': 79, 'z_r2_1': 71, 'z_r2_2': 70, 'x_s': 0.5, 'x_s_1': 0.4, 'x_s_2': 0.3, 'x_p1': 0.744695, 'x_p1_1': 0.023699, 'x_p1_2': -0.508205, 'x_p2': 0.5, 'x_p2_1': 0.4, 'x_p2_2': -0.338069, 'x_r2': 1.5, 'x_r2_1': -0.879238, 'x_r2_2': -1.311791} using model BoTorch.\n",
      "[INFO 04-06 11:27:06] ax.service.ax_client: Completed trial 1075 with data: {'Viable_Cross_Terms': (1, None)}.\n",
      "[INFO 04-06 11:27:07] ax.modelbridge.base: Leaving out out-of-design observations for arms: 729_0, 1035_0, 977_0, 489_0, 686_0, 775_0, 899_0\n",
      "[INFO 04-06 11:30:17] ax.service.ax_client: Generated new trial 1076 with parameters {'z_sh': 7, 'z_sh_1': 6, 'z_sh_2': 5, 'z_p2': 27, 'z_p2_1': 27, 'z_p2_2': 32, 'z_r2': 77, 'z_r2_1': 84, 'z_r2_2': 84, 'x_s': 0.5, 'x_s_1': 0.4, 'x_s_2': 0.3, 'x_p1': 0.644507, 'x_p1_1': 0.544507, 'x_p1_2': 0.444507, 'x_p2': 0.5, 'x_p2_1': 0.4, 'x_p2_2': 0.3, 'x_r2': 0.965652, 'x_r2_1': 0.865652, 'x_r2_2': 0.765652} using model BoTorch.\n",
      "[INFO 04-06 11:30:17] ax.service.ax_client: Completed trial 1076 with data: {'Viable_Cross_Terms': (32, None)}.\n",
      "[INFO 04-06 11:30:18] ax.modelbridge.base: Leaving out out-of-design observations for arms: 729_0, 1035_0, 977_0, 489_0, 686_0, 775_0, 899_0\n",
      "[INFO 04-06 11:33:21] ax.service.ax_client: Generated new trial 1077 with parameters {'z_sh': 7, 'z_sh_1': 7, 'z_sh_2': 5, 'z_p2': 34, 'z_p2_1': 33, 'z_p2_2': 32, 'z_r2': 80, 'z_r2_1': 74, 'z_r2_2': 84, 'x_s': 0.5, 'x_s_1': 0.4, 'x_s_2': 0.3, 'x_p1': 0.618159, 'x_p1_1': 0.518159, 'x_p1_2': 0.418159, 'x_p2': 0.5, 'x_p2_1': 0.4, 'x_p2_2': 0.3, 'x_r2': 1.075961, 'x_r2_1': 0.975961, 'x_r2_2': 0.875961} using model BoTorch.\n",
      "[INFO 04-06 11:33:21] ax.service.ax_client: Completed trial 1077 with data: {'Viable_Cross_Terms': (84, None)}.\n",
      "[INFO 04-06 11:33:22] ax.modelbridge.base: Leaving out out-of-design observations for arms: 729_0, 1035_0, 977_0, 489_0, 686_0, 775_0, 899_0\n",
      "[INFO 04-06 11:37:47] ax.service.ax_client: Generated new trial 1078 with parameters {'z_sh': 13, 'z_sh_1': 10, 'z_sh_2': 7, 'z_p2': 32, 'z_p2_1': 29, 'z_p2_2': 29, 'z_r2': 72, 'z_r2_1': 78, 'z_r2_2': 79, 'x_s': 0.5, 'x_s_1': 0.399859, 'x_s_2': 0.299447, 'x_p1': -0.073102, 'x_p1_1': -0.173102, 'x_p1_2': -0.273102, 'x_p2': 0.499382, 'x_p2_1': 0.399345, 'x_p2_2': 0.29925, 'x_r2': 0.479933, 'x_r2_1': 0.378615, 'x_r2_2': 0.270904} using model BoTorch.\n",
      "[INFO 04-06 11:37:47] ax.service.ax_client: Completed trial 1078 with data: {'Viable_Cross_Terms': (25, None)}.\n",
      "[INFO 04-06 11:37:48] ax.modelbridge.base: Leaving out out-of-design observations for arms: 729_0, 1035_0, 977_0, 489_0, 686_0, 775_0, 899_0\n",
      "[INFO 04-06 11:42:58] ax.service.ax_client: Generated new trial 1079 with parameters {'z_sh': 7, 'z_sh_1': 12, 'z_sh_2': 9, 'z_p2': 33, 'z_p2_1': 34, 'z_p2_2': 29, 'z_r2': 80, 'z_r2_1': 78, 'z_r2_2': 84, 'x_s': 0.5, 'x_s_1': 0.4, 'x_s_2': 0.3, 'x_p1': 0.172563, 'x_p1_1': -0.017476, 'x_p1_2': -0.600258, 'x_p2': 0.5, 'x_p2_1': -0.076785, 'x_p2_2': -0.197791, 'x_r2': 1.004012, 'x_r2_1': 0.864348, 'x_r2_2': 0.764348} using model BoTorch.\n",
      "[INFO 04-06 11:42:58] ax.service.ax_client: Completed trial 1079 with data: {'Viable_Cross_Terms': (3, None)}.\n",
      "[INFO 04-06 11:42:59] ax.modelbridge.base: Leaving out out-of-design observations for arms: 729_0, 1035_0, 977_0, 489_0, 686_0, 775_0, 899_0\n",
      "[INFO 04-06 11:46:55] ax.service.ax_client: Generated new trial 1080 with parameters {'z_sh': 14, 'z_sh_1': 10, 'z_sh_2': 7, 'z_p2': 30, 'z_p2_1': 28, 'z_p2_2': 27, 'z_r2': 76, 'z_r2_1': 82, 'z_r2_2': 75, 'x_s': 0.5, 'x_s_1': 0.4, 'x_s_2': 0.3, 'x_p1': 0.854383, 'x_p1_1': 0.754383, 'x_p1_2': 0.590872, 'x_p2': 0.175406, 'x_p2_1': 0.071182, 'x_p2_2': -0.029458, 'x_r2': 1.029821, 'x_r2_1': 0.929821, 'x_r2_2': 0.829491} using model BoTorch.\n",
      "[INFO 04-06 11:46:55] ax.service.ax_client: Completed trial 1080 with data: {'Viable_Cross_Terms': (40, None)}.\n",
      "[INFO 04-06 11:46:55] ax.modelbridge.base: Leaving out out-of-design observations for arms: 729_0, 1035_0, 977_0, 489_0, 686_0, 775_0, 899_0\n",
      "[INFO 04-06 11:51:24] ax.service.ax_client: Generated new trial 1081 with parameters {'z_sh': 8, 'z_sh_1': 14, 'z_sh_2': 9, 'z_p2': 28, 'z_p2_1': 30, 'z_p2_2': 31, 'z_r2': 81, 'z_r2_1': 76, 'z_r2_2': 83, 'x_s': 0.499578, 'x_s_1': 0.39181, 'x_s_2': 0.166512, 'x_p1': 0.434098, 'x_p1_1': 0.334098, 'x_p1_2': -0.103822, 'x_p2': 0.430596, 'x_p2_1': -0.087975, 'x_p2_2': -0.220825, 'x_r2': 1.041653, 'x_r2_1': 0.941323, 'x_r2_2': 0.28923} using model BoTorch.\n",
      "[INFO 04-06 11:51:24] ax.service.ax_client: Completed trial 1081 with data: {'Viable_Cross_Terms': (39, None)}.\n",
      "[INFO 04-06 11:51:25] ax.modelbridge.base: Leaving out out-of-design observations for arms: 729_0, 1035_0, 977_0, 489_0, 686_0, 775_0, 899_0\n",
      "[INFO 04-06 11:54:57] ax.service.ax_client: Generated new trial 1082 with parameters {'z_sh': 13, 'z_sh_1': 7, 'z_sh_2': 5, 'z_p2': 35, 'z_p2_1': 26, 'z_p2_2': 25, 'z_r2': 76, 'z_r2_1': 71, 'z_r2_2': 75, 'x_s': 0.298054, 'x_s_1': -0.4, 'x_s_2': -0.5, 'x_p1': 0.387599, 'x_p1_1': -0.138981, 'x_p1_2': -0.247749, 'x_p2': 0.5, 'x_p2_1': 0.4, 'x_p2_2': -0.145176, 'x_r2': 0.598587, 'x_r2_1': -1.353655, 'x_r2_2': -1.5} using model BoTorch.\n",
      "[INFO 04-06 11:54:57] ax.service.ax_client: Completed trial 1082 with data: {'Viable_Cross_Terms': (2, None)}.\n",
      "[INFO 04-06 11:54:58] ax.modelbridge.base: Leaving out out-of-design observations for arms: 729_0, 1035_0, 977_0, 489_0, 686_0, 775_0, 899_0\n",
      "[INFO 04-06 11:59:37] ax.service.ax_client: Generated new trial 1083 with parameters {'z_sh': 14, 'z_sh_1': 9, 'z_sh_2': 5, 'z_p2': 30, 'z_p2_1': 28, 'z_p2_2': 25, 'z_r2': 79, 'z_r2_1': 79, 'z_r2_2': 76, 'x_s': 0.5, 'x_s_1': 0.4, 'x_s_2': 0.3, 'x_p1': 0.663013, 'x_p1_1': 0.552736, 'x_p1_2': 0.43613, 'x_p2': 0.274192, 'x_p2_1': 0.174192, 'x_p2_2': -0.5, 'x_r2': 0.98465, 'x_r2_1': 0.88414, 'x_r2_2': 0.784031} using model BoTorch.\n",
      "[INFO 04-06 11:59:37] ax.service.ax_client: Completed trial 1083 with data: {'Viable_Cross_Terms': (25, None)}.\n",
      "[INFO 04-06 11:59:38] ax.modelbridge.base: Leaving out out-of-design observations for arms: 729_0, 1035_0, 977_0, 489_0, 686_0, 775_0, 899_0\n",
      "[INFO 04-06 12:04:30] ax.service.ax_client: Generated new trial 1084 with parameters {'z_sh': 11, 'z_sh_1': 11, 'z_sh_2': 5, 'z_p2': 31, 'z_p2_1': 32, 'z_p2_2': 26, 'z_r2': 81, 'z_r2_1': 71, 'z_r2_2': 84, 'x_s': 0.5, 'x_s_1': 0.4, 'x_s_2': 0.3, 'x_p1': 0.665128, 'x_p1_1': 0.5551, 'x_p1_2': -0.022132, 'x_p2': 0.481967, 'x_p2_1': 0.365553, 'x_p2_2': 0.243296, 'x_r2': 1.038561, 'x_r2_1': -0.936774, 'x_r2_2': -1.036774} using model BoTorch.\n",
      "[INFO 04-06 12:04:30] ax.service.ax_client: Completed trial 1084 with data: {'Viable_Cross_Terms': (11, None)}.\n",
      "[INFO 04-06 12:04:31] ax.modelbridge.base: Leaving out out-of-design observations for arms: 729_0, 1035_0, 977_0, 489_0, 686_0, 775_0, 899_0\n",
      "[INFO 04-06 12:09:44] ax.service.ax_client: Generated new trial 1085 with parameters {'z_sh': 13, 'z_sh_1': 7, 'z_sh_2': 7, 'z_p2': 35, 'z_p2_1': 34, 'z_p2_2': 26, 'z_r2': 76, 'z_r2_1': 72, 'z_r2_2': 73, 'x_s': -0.200524, 'x_s_1': -0.4, 'x_s_2': -0.5, 'x_p1': 0.279946, 'x_p1_1': 0.179946, 'x_p1_2': -0.066421, 'x_p2': 0.5, 'x_p2_1': 0.4, 'x_p2_2': -0.156936, 'x_r2': 1.427081, 'x_r2_1': -0.981771, 'x_r2_2': -1.5} using model BoTorch.\n",
      "[INFO 04-06 12:09:44] ax.service.ax_client: Completed trial 1085 with data: {'Viable_Cross_Terms': (1, None)}.\n",
      "[INFO 04-06 12:09:45] ax.modelbridge.base: Leaving out out-of-design observations for arms: 729_0, 1035_0, 977_0, 489_0, 686_0, 775_0, 899_0\n",
      "[INFO 04-06 12:14:33] ax.service.ax_client: Generated new trial 1086 with parameters {'z_sh': 9, 'z_sh_1': 12, 'z_sh_2': 9, 'z_p2': 27, 'z_p2_1': 29, 'z_p2_2': 28, 'z_r2': 80, 'z_r2_1': 75, 'z_r2_2': 82, 'x_s': 0.498054, 'x_s_1': 0.385456, 'x_s_2': 0.167716, 'x_p1': 0.643757, 'x_p1_1': 0.543757, 'x_p1_2': 0.22242, 'x_p2': 0.34898, 'x_p2_1': -0.082721, 'x_p2_2': -0.205714, 'x_r2': 1.053921, 'x_r2_1': 0.953921, 'x_r2_2': 0.169281} using model BoTorch.\n",
      "[INFO 04-06 12:14:33] ax.service.ax_client: Completed trial 1086 with data: {'Viable_Cross_Terms': (13, None)}.\n",
      "[INFO 04-06 12:14:33] ax.modelbridge.base: Leaving out out-of-design observations for arms: 729_0, 1035_0, 977_0, 489_0, 686_0, 775_0, 899_0\n",
      "[INFO 04-06 12:19:28] ax.service.ax_client: Generated new trial 1087 with parameters {'z_sh': 13, 'z_sh_1': 9, 'z_sh_2': 7, 'z_p2': 33, 'z_p2_1': 32, 'z_p2_2': 25, 'z_r2': 78, 'z_r2_1': 71, 'z_r2_2': 83, 'x_s': 0.350419, 'x_s_1': 0.001524, 'x_s_2': -0.305197, 'x_p1': 0.675246, 'x_p1_1': 0.32983, 'x_p1_2': -0.022835, 'x_p2': 0.320888, 'x_p2_1': 0.125121, 'x_p2_2': -0.094562, 'x_r2': 0.648976, 'x_r2_1': -0.611389, 'x_r2_2': -0.874832} using model BoTorch.\n",
      "[INFO 04-06 12:19:28] ax.service.ax_client: Completed trial 1087 with data: {'Viable_Cross_Terms': (11, None)}.\n",
      "[INFO 04-06 12:19:28] ax.modelbridge.base: Leaving out out-of-design observations for arms: 729_0, 1035_0, 977_0, 489_0, 686_0, 775_0, 899_0\n",
      "[INFO 04-06 12:24:24] ax.service.ax_client: Generated new trial 1088 with parameters {'z_sh': 11, 'z_sh_1': 9, 'z_sh_2': 12, 'z_p2': 28, 'z_p2_1': 29, 'z_p2_2': 31, 'z_r2': 84, 'z_r2_1': 78, 'z_r2_2': 71, 'x_s': 0.5, 'x_s_1': 0.4, 'x_s_2': 0.3, 'x_p1': 0.202428, 'x_p1_1': 0.102412, 'x_p1_2': -0.222254, 'x_p2': 0.436687, 'x_p2_1': 0.336687, 'x_p2_2': 0.236405, 'x_r2': 0.857218, 'x_r2_1': 0.748214, 'x_r2_2': 0.204398} using model BoTorch.\n",
      "[INFO 04-06 12:24:24] ax.service.ax_client: Completed trial 1088 with data: {'Viable_Cross_Terms': (16, None)}.\n",
      "[INFO 04-06 12:24:25] ax.modelbridge.base: Leaving out out-of-design observations for arms: 729_0, 1035_0, 977_0, 489_0, 686_0, 775_0, 899_0\n",
      "[INFO 04-06 12:29:39] ax.service.ax_client: Generated new trial 1089 with parameters {'z_sh': 11, 'z_sh_1': 9, 'z_sh_2': 6, 'z_p2': 28, 'z_p2_1': 31, 'z_p2_2': 28, 'z_r2': 77, 'z_r2_1': 77, 'z_r2_2': 78, 'x_s': 0.5, 'x_s_1': 0.4, 'x_s_2': 0.163184, 'x_p1': 0.034069, 'x_p1_1': -0.066076, 'x_p1_2': -0.285419, 'x_p2': 0.5, 'x_p2_1': 0.286143, 'x_p2_2': -0.5, 'x_r2': 0.654137, 'x_r2_1': 0.554137, 'x_r2_2': 0.454137} using model BoTorch.\n",
      "[INFO 04-06 12:29:39] ax.service.ax_client: Completed trial 1089 with data: {'Viable_Cross_Terms': (24, None)}.\n",
      "[INFO 04-06 12:29:39] ax.modelbridge.base: Leaving out out-of-design observations for arms: 729_0, 1035_0, 977_0, 489_0, 686_0, 775_0, 899_0\n",
      "[INFO 04-06 12:34:17] ax.service.ax_client: Generated new trial 1090 with parameters {'z_sh': 13, 'z_sh_1': 11, 'z_sh_2': 5, 'z_p2': 35, 'z_p2_1': 29, 'z_p2_2': 31, 'z_r2': 79, 'z_r2_1': 74, 'z_r2_2': 73, 'x_s': -0.3, 'x_s_1': -0.4, 'x_s_2': -0.5, 'x_p1': 1.0, 'x_p1_1': 0.515292, 'x_p1_2': -1.0, 'x_p2': -0.3, 'x_p2_1': -0.4, 'x_p2_2': -0.5, 'x_r2': 1.5, 'x_r2_1': 1.130751, 'x_r2_2': 1.030751} using model BoTorch.\n",
      "[INFO 04-06 12:34:17] ax.service.ax_client: Completed trial 1090 with data: {'Viable_Cross_Terms': (4, None)}.\n",
      "[INFO 04-06 12:34:18] ax.modelbridge.base: Leaving out out-of-design observations for arms: 729_0, 1035_0, 977_0, 489_0, 686_0, 775_0, 899_0\n",
      "[INFO 04-06 12:37:26] ax.service.ax_client: Generated new trial 1091 with parameters {'z_sh': 10, 'z_sh_1': 13, 'z_sh_2': 13, 'z_p2': 35, 'z_p2_1': 29, 'z_p2_2': 28, 'z_r2': 82, 'z_r2_1': 75, 'z_r2_2': 82, 'x_s': 0.5, 'x_s_1': 0.4, 'x_s_2': 0.3, 'x_p1': 0.529801, 'x_p1_1': 0.429801, 'x_p1_2': 0.329801, 'x_p2': 0.5, 'x_p2_1': 0.4, 'x_p2_2': 0.3, 'x_r2': 0.936635, 'x_r2_1': 0.836635, 'x_r2_2': 0.736635} using model BoTorch.\n",
      "[INFO 04-06 12:37:26] ax.service.ax_client: Completed trial 1091 with data: {'Viable_Cross_Terms': (33, None)}.\n",
      "[INFO 04-06 12:37:27] ax.modelbridge.base: Leaving out out-of-design observations for arms: 729_0, 1035_0, 977_0, 489_0, 686_0, 775_0, 899_0\n",
      "[INFO 04-06 12:42:12] ax.service.ax_client: Generated new trial 1092 with parameters {'z_sh': 7, 'z_sh_1': 6, 'z_sh_2': 5, 'z_p2': 27, 'z_p2_1': 26, 'z_p2_2': 25, 'z_r2': 86, 'z_r2_1': 85, 'z_r2_2': 84, 'x_s': 0.5, 'x_s_1': 0.398904, 'x_s_2': 0.250244, 'x_p1': 0.730649, 'x_p1_1': 0.629194, 'x_p1_2': 0.145291, 'x_p2': 0.325257, 'x_p2_1': 0.225257, 'x_p2_2': 0.125208, 'x_r2': 0.938231, 'x_r2_1': 0.838197, 'x_r2_2': -0.079408} using model BoTorch.\n",
      "[INFO 04-06 12:42:12] ax.service.ax_client: Completed trial 1092 with data: {'Viable_Cross_Terms': (19, None)}.\n",
      "[INFO 04-06 12:42:12] ax.modelbridge.base: Leaving out out-of-design observations for arms: 729_0, 1035_0, 977_0, 489_0, 686_0, 775_0, 899_0\n",
      "[INFO 04-06 12:47:23] ax.service.ax_client: Generated new trial 1093 with parameters {'z_sh': 7, 'z_sh_1': 13, 'z_sh_2': 8, 'z_p2': 30, 'z_p2_1': 33, 'z_p2_2': 32, 'z_r2': 81, 'z_r2_1': 79, 'z_r2_2': 82, 'x_s': 0.482743, 'x_s_1': 0.364984, 'x_s_2': 0.101021, 'x_p1': 0.425603, 'x_p1_1': 0.325603, 'x_p1_2': -0.571832, 'x_p2': 0.406358, 'x_p2_1': 0.000598, 'x_p2_2': -0.133258, 'x_r2': 1.09908, 'x_r2_1': 0.946477, 'x_r2_2': 0.295395} using model BoTorch.\n",
      "[INFO 04-06 12:47:23] ax.service.ax_client: Completed trial 1093 with data: {'Viable_Cross_Terms': (15, None)}.\n",
      "[INFO 04-06 12:47:24] ax.modelbridge.base: Leaving out out-of-design observations for arms: 729_0, 1035_0, 977_0, 489_0, 686_0, 775_0, 899_0\n",
      "[INFO 04-06 12:51:18] ax.service.ax_client: Generated new trial 1094 with parameters {'z_sh': 15, 'z_sh_1': 10, 'z_sh_2': 5, 'z_p2': 27, 'z_p2_1': 34, 'z_p2_2': 25, 'z_r2': 83, 'z_r2_1': 75, 'z_r2_2': 73, 'x_s': 0.5, 'x_s_1': 0.4, 'x_s_2': -0.5, 'x_p1': -0.21661, 'x_p1_1': -0.9, 'x_p1_2': -1.0, 'x_p2': -0.3, 'x_p2_1': -0.4, 'x_p2_2': -0.5, 'x_r2': 0.231735, 'x_r2_1': 0.131735, 'x_r2_2': -1.5} using model BoTorch.\n",
      "[INFO 04-06 12:51:18] ax.service.ax_client: Completed trial 1094 with data: {'Viable_Cross_Terms': (2, None)}.\n",
      "[INFO 04-06 12:51:19] ax.modelbridge.base: Leaving out out-of-design observations for arms: 729_0, 1035_0, 977_0, 489_0, 686_0, 775_0, 899_0\n",
      "[INFO 04-06 12:55:58] ax.service.ax_client: Generated new trial 1095 with parameters {'z_sh': 8, 'z_sh_1': 10, 'z_sh_2': 5, 'z_p2': 31, 'z_p2_1': 28, 'z_p2_2': 27, 'z_r2': 80, 'z_r2_1': 72, 'z_r2_2': 78, 'x_s': 0.5, 'x_s_1': 0.4, 'x_s_2': 0.3, 'x_p1': 0.604106, 'x_p1_1': 0.504106, 'x_p1_2': 0.404106, 'x_p2': 0.5, 'x_p2_1': 0.4, 'x_p2_2': 0.3, 'x_r2': -0.786467, 'x_r2_1': -1.013228, 'x_r2_2': -1.113228} using model BoTorch.\n",
      "[INFO 04-06 12:55:58] ax.service.ax_client: Completed trial 1095 with data: {'Viable_Cross_Terms': (18, None)}.\n",
      "[INFO 04-06 12:55:59] ax.modelbridge.base: Leaving out out-of-design observations for arms: 729_0, 1035_0, 977_0, 489_0, 686_0, 775_0, 899_0\n",
      "[INFO 04-06 12:59:22] ax.service.ax_client: Generated new trial 1096 with parameters {'z_sh': 14, 'z_sh_1': 6, 'z_sh_2': 5, 'z_p2': 35, 'z_p2_1': 34, 'z_p2_2': 33, 'z_r2': 80, 'z_r2_1': 71, 'z_r2_2': 84, 'x_s': 0.5, 'x_s_1': 0.4, 'x_s_2': -0.5, 'x_p1': 0.592871, 'x_p1_1': 0.492871, 'x_p1_2': 0.392871, 'x_p2': 0.5, 'x_p2_1': 0.4, 'x_p2_2': 0.3, 'x_r2': 1.114444, 'x_r2_1': 1.014444, 'x_r2_2': 0.914444} using model BoTorch.\n",
      "[INFO 04-06 12:59:22] ax.service.ax_client: Completed trial 1096 with data: {'Viable_Cross_Terms': (58, None)}.\n",
      "[INFO 04-06 12:59:22] ax.modelbridge.base: Leaving out out-of-design observations for arms: 729_0, 1035_0, 977_0, 489_0, 686_0, 775_0, 899_0\n",
      "[INFO 04-06 13:02:29] ax.service.ax_client: Generated new trial 1097 with parameters {'z_sh': 8, 'z_sh_1': 12, 'z_sh_2': 5, 'z_p2': 28, 'z_p2_1': 28, 'z_p2_2': 31, 'z_r2': 80, 'z_r2_1': 78, 'z_r2_2': 76, 'x_s': 0.5, 'x_s_1': 0.4, 'x_s_2': 0.3, 'x_p1': 0.602165, 'x_p1_1': 0.502165, 'x_p1_2': 0.402165, 'x_p2': 0.5, 'x_p2_1': 0.4, 'x_p2_2': 0.3, 'x_r2': 1.075546, 'x_r2_1': 0.975546, 'x_r2_2': 0.875546} using model BoTorch.\n",
      "[INFO 04-06 13:02:29] ax.service.ax_client: Completed trial 1097 with data: {'Viable_Cross_Terms': (97, None)}.\n",
      "[INFO 04-06 13:02:29] ax.modelbridge.base: Leaving out out-of-design observations for arms: 729_0, 1035_0, 977_0, 489_0, 686_0, 775_0, 899_0\n",
      "[INFO 04-06 13:06:49] ax.service.ax_client: Generated new trial 1098 with parameters {'z_sh': 9, 'z_sh_1': 12, 'z_sh_2': 5, 'z_p2': 27, 'z_p2_1': 28, 'z_p2_2': 29, 'z_r2': 83, 'z_r2_1': 78, 'z_r2_2': 78, 'x_s': 0.5, 'x_s_1': 0.4, 'x_s_2': 0.3, 'x_p1': 0.517263, 'x_p1_1': 0.417263, 'x_p1_2': 0.317263, 'x_p2': 0.427438, 'x_p2_1': 0.327438, 'x_p2_2': 0.227438, 'x_r2': 0.923136, 'x_r2_1': 0.823136, 'x_r2_2': 0.723136} using model BoTorch.\n",
      "[INFO 04-06 13:06:49] ax.service.ax_client: Completed trial 1098 with data: {'Viable_Cross_Terms': (32, None)}.\n",
      "[INFO 04-06 13:06:50] ax.modelbridge.base: Leaving out out-of-design observations for arms: 729_0, 1035_0, 977_0, 489_0, 686_0, 775_0, 899_0\n",
      "[INFO 04-06 13:11:01] ax.service.ax_client: Generated new trial 1099 with parameters {'z_sh': 7, 'z_sh_1': 7, 'z_sh_2': 5, 'z_p2': 32, 'z_p2_1': 34, 'z_p2_2': 31, 'z_r2': 77, 'z_r2_1': 71, 'z_r2_2': 78, 'x_s': 0.5, 'x_s_1': 0.4, 'x_s_2': 0.3, 'x_p1': 0.83718, 'x_p1_1': 0.732753, 'x_p1_2': 0.601312, 'x_p2': 0.412644, 'x_p2_1': 0.312644, 'x_p2_2': 0.212644, 'x_r2': 1.003324, 'x_r2_1': 0.903324, 'x_r2_2': 0.803324} using model BoTorch.\n",
      "[INFO 04-06 13:11:01] ax.service.ax_client: Completed trial 1099 with data: {'Viable_Cross_Terms': (31, None)}.\n",
      "[INFO 04-06 13:11:02] ax.modelbridge.base: Leaving out out-of-design observations for arms: 729_0, 1035_0, 977_0, 489_0, 686_0, 775_0, 899_0\n",
      "[INFO 04-06 13:14:41] ax.service.ax_client: Generated new trial 1100 with parameters {'z_sh': 7, 'z_sh_1': 12, 'z_sh_2': 5, 'z_p2': 34, 'z_p2_1': 33, 'z_p2_2': 32, 'z_r2': 80, 'z_r2_1': 72, 'z_r2_2': 84, 'x_s': 0.5, 'x_s_1': 0.4, 'x_s_2': 0.3, 'x_p1': 0.607171, 'x_p1_1': 0.507171, 'x_p1_2': 0.407171, 'x_p2': 0.5, 'x_p2_1': 0.4, 'x_p2_2': 0.3, 'x_r2': 1.076878, 'x_r2_1': 0.976878, 'x_r2_2': 0.876878} using model BoTorch.\n",
      "[INFO 04-06 13:14:41] ax.service.ax_client: Completed trial 1100 with data: {'Viable_Cross_Terms': (82, None)}.\n",
      "[INFO 04-06 13:14:42] ax.modelbridge.base: Leaving out out-of-design observations for arms: 729_0, 1035_0, 977_0, 489_0, 686_0, 775_0, 899_0\n",
      "[INFO 04-06 13:18:53] ax.service.ax_client: Generated new trial 1101 with parameters {'z_sh': 7, 'z_sh_1': 13, 'z_sh_2': 10, 'z_p2': 34, 'z_p2_1': 29, 'z_p2_2': 28, 'z_r2': 73, 'z_r2_1': 74, 'z_r2_2': 72, 'x_s': 0.5, 'x_s_1': 0.4, 'x_s_2': 0.3, 'x_p1': 0.634661, 'x_p1_1': 0.534661, 'x_p1_2': 0.434661, 'x_p2': 0.381643, 'x_p2_1': 0.281643, 'x_p2_2': 0.169503, 'x_r2': 1.057246, 'x_r2_1': 0.957246, 'x_r2_2': 0.857246} using model BoTorch.\n",
      "[INFO 04-06 13:18:53] ax.service.ax_client: Completed trial 1101 with data: {'Viable_Cross_Terms': (35, None)}.\n",
      "[INFO 04-06 13:18:54] ax.modelbridge.base: Leaving out out-of-design observations for arms: 729_0, 1035_0, 977_0, 489_0, 686_0, 775_0, 899_0\n",
      "[INFO 04-06 13:22:29] ax.service.ax_client: Generated new trial 1102 with parameters {'z_sh': 7, 'z_sh_1': 6, 'z_sh_2': 5, 'z_p2': 35, 'z_p2_1': 26, 'z_p2_2': 33, 'z_r2': 80, 'z_r2_1': 71, 'z_r2_2': 84, 'x_s': 0.5, 'x_s_1': 0.4, 'x_s_2': 0.3, 'x_p1': 0.610559, 'x_p1_1': 0.510559, 'x_p1_2': 0.410559, 'x_p2': 0.5, 'x_p2_1': 0.4, 'x_p2_2': 0.3, 'x_r2': 1.084808, 'x_r2_1': 0.984808, 'x_r2_2': 0.884808} using model BoTorch.\n",
      "[INFO 04-06 13:22:29] ax.service.ax_client: Completed trial 1102 with data: {'Viable_Cross_Terms': (80, None)}.\n",
      "[INFO 04-06 13:22:30] ax.modelbridge.base: Leaving out out-of-design observations for arms: 729_0, 1035_0, 977_0, 489_0, 686_0, 775_0, 899_0\n",
      "[INFO 04-06 13:25:49] ax.service.ax_client: Generated new trial 1103 with parameters {'z_sh': 7, 'z_sh_1': 13, 'z_sh_2': 5, 'z_p2': 34, 'z_p2_1': 33, 'z_p2_2': 32, 'z_r2': 80, 'z_r2_1': 78, 'z_r2_2': 84, 'x_s': 0.5, 'x_s_1': 0.4, 'x_s_2': 0.3, 'x_p1': 0.609441, 'x_p1_1': 0.509441, 'x_p1_2': 0.409441, 'x_p2': 0.5, 'x_p2_1': 0.4, 'x_p2_2': 0.3, 'x_r2': 1.081968, 'x_r2_1': 0.981968, 'x_r2_2': 0.881968} using model BoTorch.\n",
      "[INFO 04-06 13:25:49] ax.service.ax_client: Completed trial 1103 with data: {'Viable_Cross_Terms': (80, None)}.\n",
      "[INFO 04-06 13:25:50] ax.modelbridge.base: Leaving out out-of-design observations for arms: 729_0, 1035_0, 977_0, 489_0, 686_0, 775_0, 899_0\n",
      "[INFO 04-06 13:29:36] ax.service.ax_client: Generated new trial 1104 with parameters {'z_sh': 7, 'z_sh_1': 6, 'z_sh_2': 5, 'z_p2': 27, 'z_p2_1': 34, 'z_p2_2': 33, 'z_r2': 80, 'z_r2_1': 85, 'z_r2_2': 84, 'x_s': 0.5, 'x_s_1': 0.4, 'x_s_2': 0.3, 'x_p1': 0.625463, 'x_p1_1': 0.525463, 'x_p1_2': 0.425463, 'x_p2': 0.5, 'x_p2_1': 0.4, 'x_p2_2': 0.3, 'x_r2': 1.5, 'x_r2_1': 0.973668, 'x_r2_2': 0.873668} using model BoTorch.\n",
      "[INFO 04-06 13:29:36] ax.service.ax_client: Completed trial 1104 with data: {'Viable_Cross_Terms': (59, None)}.\n",
      "[INFO 04-06 13:29:36] ax.modelbridge.base: Leaving out out-of-design observations for arms: 729_0, 1035_0, 977_0, 489_0, 686_0, 775_0, 899_0\n",
      "[INFO 04-06 13:34:11] ax.service.ax_client: Generated new trial 1105 with parameters {'z_sh': 7, 'z_sh_1': 6, 'z_sh_2': 5, 'z_p2': 28, 'z_p2_1': 34, 'z_p2_2': 28, 'z_r2': 80, 'z_r2_1': 83, 'z_r2_2': 75, 'x_s': 0.5, 'x_s_1': 0.4, 'x_s_2': 0.3, 'x_p1': 0.744291, 'x_p1_1': 0.644291, 'x_p1_2': 0.544291, 'x_p2': 0.392159, 'x_p2_1': 0.292159, 'x_p2_2': 0.192159, 'x_r2': 1.00487, 'x_r2_1': 0.90487, 'x_r2_2': -0.700726} using model BoTorch.\n",
      "[INFO 04-06 13:34:11] ax.service.ax_client: Completed trial 1105 with data: {'Viable_Cross_Terms': (62, None)}.\n",
      "[INFO 04-06 13:34:12] ax.modelbridge.base: Leaving out out-of-design observations for arms: 729_0, 1035_0, 977_0, 489_0, 686_0, 775_0, 899_0\n",
      "[INFO 04-06 13:38:13] ax.service.ax_client: Generated new trial 1106 with parameters {'z_sh': 7, 'z_sh_1': 14, 'z_sh_2': 10, 'z_p2': 34, 'z_p2_1': 30, 'z_p2_2': 26, 'z_r2': 85, 'z_r2_1': 75, 'z_r2_2': 81, 'x_s': 0.5, 'x_s_1': 0.4, 'x_s_2': -0.421938, 'x_p1': 0.322833, 'x_p1_1': 0.222833, 'x_p1_2': 0.057668, 'x_p2': -0.289284, 'x_p2_1': -0.389284, 'x_p2_2': -0.492758, 'x_r2': 0.050789, 'x_r2_1': -0.444982, 'x_r2_2': -0.765772} using model BoTorch.\n",
      "[INFO 04-06 13:38:13] ax.service.ax_client: Completed trial 1106 with data: {'Viable_Cross_Terms': (7, None)}.\n",
      "[INFO 04-06 13:38:14] ax.modelbridge.base: Leaving out out-of-design observations for arms: 729_0, 1035_0, 977_0, 489_0, 686_0, 775_0, 899_0\n",
      "[INFO 04-06 13:42:08] ax.service.ax_client: Generated new trial 1107 with parameters {'z_sh': 7, 'z_sh_1': 6, 'z_sh_2': 5, 'z_p2': 35, 'z_p2_1': 34, 'z_p2_2': 33, 'z_r2': 80, 'z_r2_1': 71, 'z_r2_2': 84, 'x_s': 0.5, 'x_s_1': 0.4, 'x_s_2': 0.3, 'x_p1': 0.610375, 'x_p1_1': 0.510375, 'x_p1_2': 0.410375, 'x_p2': 0.5, 'x_p2_1': 0.4, 'x_p2_2': 0.3, 'x_r2': 1.077124, 'x_r2_1': 0.977124, 'x_r2_2': 0.877124} using model BoTorch.\n",
      "[INFO 04-06 13:42:08] ax.service.ax_client: Completed trial 1107 with data: {'Viable_Cross_Terms': (83, None)}.\n",
      "[INFO 04-06 13:42:09] ax.modelbridge.base: Leaving out out-of-design observations for arms: 729_0, 1035_0, 977_0, 489_0, 686_0, 775_0, 899_0\n",
      "[INFO 04-06 13:46:30] ax.service.ax_client: Generated new trial 1108 with parameters {'z_sh': 10, 'z_sh_1': 12, 'z_sh_2': 5, 'z_p2': 29, 'z_p2_1': 33, 'z_p2_2': 31, 'z_r2': 80, 'z_r2_1': 78, 'z_r2_2': 78, 'x_s': 0.5, 'x_s_1': 0.4, 'x_s_2': 0.3, 'x_p1': 0.798921, 'x_p1_1': 0.67009, 'x_p1_2': 0.57009, 'x_p2': 0.5, 'x_p2_1': 0.378266, 'x_p2_2': 0.242676, 'x_r2': 1.5, 'x_r2_1': 0.044052, 'x_r2_2': -1.5} using model BoTorch.\n",
      "[INFO 04-06 13:46:30] ax.service.ax_client: Completed trial 1108 with data: {'Viable_Cross_Terms': (26, None)}.\n",
      "[INFO 04-06 13:46:31] ax.modelbridge.base: Leaving out out-of-design observations for arms: 729_0, 1035_0, 977_0, 489_0, 686_0, 775_0, 899_0\n",
      "[INFO 04-06 13:50:24] ax.service.ax_client: Generated new trial 1109 with parameters {'z_sh': 7, 'z_sh_1': 14, 'z_sh_2': 5, 'z_p2': 35, 'z_p2_1': 26, 'z_p2_2': 33, 'z_r2': 80, 'z_r2_1': 85, 'z_r2_2': 84, 'x_s': 0.5, 'x_s_1': 0.4, 'x_s_2': 0.3, 'x_p1': 0.600434, 'x_p1_1': 0.500434, 'x_p1_2': 0.400434, 'x_p2': 0.5, 'x_p2_1': 0.4, 'x_p2_2': 0.3, 'x_r2': 1.081501, 'x_r2_1': 0.981501, 'x_r2_2': 0.881501} using model BoTorch.\n",
      "[INFO 04-06 13:50:24] ax.service.ax_client: Completed trial 1109 with data: {'Viable_Cross_Terms': (80, None)}.\n",
      "[INFO 04-06 13:50:24] ax.modelbridge.base: Leaving out out-of-design observations for arms: 729_0, 1035_0, 977_0, 489_0, 686_0, 775_0, 899_0\n",
      "[INFO 04-06 13:54:07] ax.service.ax_client: Generated new trial 1110 with parameters {'z_sh': 7, 'z_sh_1': 8, 'z_sh_2': 5, 'z_p2': 35, 'z_p2_1': 34, 'z_p2_2': 33, 'z_r2': 80, 'z_r2_1': 71, 'z_r2_2': 84, 'x_s': 0.5, 'x_s_1': 0.4, 'x_s_2': 0.3, 'x_p1': 0.608263, 'x_p1_1': 0.508263, 'x_p1_2': 0.408263, 'x_p2': 0.5, 'x_p2_1': 0.4, 'x_p2_2': 0.3, 'x_r2': 1.073944, 'x_r2_1': 0.973944, 'x_r2_2': 0.873944} using model BoTorch.\n",
      "[INFO 04-06 13:54:07] ax.service.ax_client: Completed trial 1110 with data: {'Viable_Cross_Terms': (82, None)}.\n",
      "[INFO 04-06 13:54:08] ax.modelbridge.base: Leaving out out-of-design observations for arms: 729_0, 1035_0, 977_0, 489_0, 686_0, 775_0, 899_0\n",
      "[INFO 04-06 13:57:33] ax.service.ax_client: Generated new trial 1111 with parameters {'z_sh': 7, 'z_sh_1': 6, 'z_sh_2': 5, 'z_p2': 31, 'z_p2_1': 26, 'z_p2_2': 32, 'z_r2': 76, 'z_r2_1': 81, 'z_r2_2': 84, 'x_s': 0.5, 'x_s_1': 0.4, 'x_s_2': 0.3, 'x_p1': 0.754544, 'x_p1_1': 0.654544, 'x_p1_2': 0.554544, 'x_p2': 0.5, 'x_p2_1': 0.4, 'x_p2_2': 0.3, 'x_r2': 0.997498, 'x_r2_1': 0.897498, 'x_r2_2': 0.797498} using model BoTorch.\n",
      "[INFO 04-06 13:57:33] ax.service.ax_client: Completed trial 1111 with data: {'Viable_Cross_Terms': (25, None)}.\n",
      "[INFO 04-06 13:57:33] ax.modelbridge.base: Leaving out out-of-design observations for arms: 729_0, 1035_0, 977_0, 489_0, 686_0, 775_0, 899_0\n",
      "[INFO 04-06 14:02:18] ax.service.ax_client: Generated new trial 1112 with parameters {'z_sh': 8, 'z_sh_1': 11, 'z_sh_2': 5, 'z_p2': 27, 'z_p2_1': 26, 'z_p2_2': 30, 'z_r2': 84, 'z_r2_1': 76, 'z_r2_2': 79, 'x_s': 0.5, 'x_s_1': 0.4, 'x_s_2': 0.3, 'x_p1': 0.833962, 'x_p1_1': 0.733962, 'x_p1_2': 0.633962, 'x_p2': 0.254083, 'x_p2_1': 0.154083, 'x_p2_2': 0.054083, 'x_r2': 0.827913, 'x_r2_1': 0.727913, 'x_r2_2': 0.627913} using model BoTorch.\n",
      "[INFO 04-06 14:02:18] ax.service.ax_client: Completed trial 1112 with data: {'Viable_Cross_Terms': (26, None)}.\n",
      "[INFO 04-06 14:02:19] ax.modelbridge.base: Leaving out out-of-design observations for arms: 729_0, 1035_0, 977_0, 489_0, 686_0, 775_0, 899_0\n",
      "[INFO 04-06 14:06:02] ax.service.ax_client: Generated new trial 1113 with parameters {'z_sh': 7, 'z_sh_1': 6, 'z_sh_2': 5, 'z_p2': 33, 'z_p2_1': 34, 'z_p2_2': 33, 'z_r2': 80, 'z_r2_1': 84, 'z_r2_2': 84, 'x_s': 0.5, 'x_s_1': 0.4, 'x_s_2': 0.3, 'x_p1': 0.615546, 'x_p1_1': 0.515546, 'x_p1_2': 0.415546, 'x_p2': 0.5, 'x_p2_1': 0.4, 'x_p2_2': 0.3, 'x_r2': 1.081597, 'x_r2_1': 0.981597, 'x_r2_2': 0.881597} using model BoTorch.\n",
      "[INFO 04-06 14:06:02] ax.service.ax_client: Completed trial 1113 with data: {'Viable_Cross_Terms': (83, None)}.\n",
      "[INFO 04-06 14:06:02] ax.modelbridge.base: Leaving out out-of-design observations for arms: 729_0, 1035_0, 977_0, 489_0, 686_0, 775_0, 899_0\n",
      "[INFO 04-06 14:09:42] ax.service.ax_client: Generated new trial 1114 with parameters {'z_sh': 7, 'z_sh_1': 10, 'z_sh_2': 5, 'z_p2': 32, 'z_p2_1': 30, 'z_p2_2': 29, 'z_r2': 76, 'z_r2_1': 83, 'z_r2_2': 78, 'x_s': 0.5, 'x_s_1': 0.4, 'x_s_2': 0.3, 'x_p1': 0.671, 'x_p1_1': 0.571, 'x_p1_2': 0.471, 'x_p2': 0.5, 'x_p2_1': 0.4, 'x_p2_2': 0.3, 'x_r2': 0.970421, 'x_r2_1': 0.870421, 'x_r2_2': 0.770421} using model BoTorch.\n",
      "[INFO 04-06 14:09:42] ax.service.ax_client: Completed trial 1114 with data: {'Viable_Cross_Terms': (32, None)}.\n",
      "[INFO 04-06 14:09:43] ax.modelbridge.base: Leaving out out-of-design observations for arms: 729_0, 1035_0, 977_0, 489_0, 686_0, 775_0, 899_0\n",
      "[INFO 04-06 14:14:00] ax.service.ax_client: Generated new trial 1115 with parameters {'z_sh': 14, 'z_sh_1': 10, 'z_sh_2': 7, 'z_p2': 35, 'z_p2_1': 26, 'z_p2_2': 27, 'z_r2': 85, 'z_r2_1': 76, 'z_r2_2': 72, 'x_s': 0.5, 'x_s_1': 0.4, 'x_s_2': 0.3, 'x_p1': 1.0, 'x_p1_1': 0.9, 'x_p1_2': 0.8, 'x_p2': 0.49853, 'x_p2_1': 0.398525, 'x_p2_2': 0.298522, 'x_r2': 1.324087, 'x_r2_1': 1.224087, 'x_r2_2': 1.124087} using model BoTorch.\n",
      "[INFO 04-06 14:14:00] ax.service.ax_client: Completed trial 1115 with data: {'Viable_Cross_Terms': (8, None)}.\n",
      "[INFO 04-06 14:14:01] ax.modelbridge.base: Leaving out out-of-design observations for arms: 729_0, 1035_0, 977_0, 489_0, 686_0, 775_0, 899_0\n",
      "[INFO 04-06 14:17:41] ax.service.ax_client: Generated new trial 1116 with parameters {'z_sh': 11, 'z_sh_1': 13, 'z_sh_2': 5, 'z_p2': 34, 'z_p2_1': 32, 'z_p2_2': 30, 'z_r2': 80, 'z_r2_1': 74, 'z_r2_2': 81, 'x_s': 0.5, 'x_s_1': 0.4, 'x_s_2': 0.3, 'x_p1': 0.558809, 'x_p1_1': 0.458809, 'x_p1_2': 0.358809, 'x_p2': 0.5, 'x_p2_1': 0.4, 'x_p2_2': 0.3, 'x_r2': 1.072837, 'x_r2_1': 0.972837, 'x_r2_2': 0.872837} using model BoTorch.\n",
      "[INFO 04-06 14:17:41] ax.service.ax_client: Completed trial 1116 with data: {'Viable_Cross_Terms': (73, None)}.\n",
      "[INFO 04-06 14:17:42] ax.modelbridge.base: Leaving out out-of-design observations for arms: 729_0, 1035_0, 977_0, 489_0, 686_0, 775_0, 899_0\n",
      "[INFO 04-06 14:21:43] ax.service.ax_client: Generated new trial 1117 with parameters {'z_sh': 7, 'z_sh_1': 14, 'z_sh_2': 5, 'z_p2': 35, 'z_p2_1': 26, 'z_p2_2': 25, 'z_r2': 80, 'z_r2_1': 85, 'z_r2_2': 84, 'x_s': 0.5, 'x_s_1': 0.4, 'x_s_2': 0.3, 'x_p1': 0.611034, 'x_p1_1': 0.511034, 'x_p1_2': 0.411034, 'x_p2': 0.5, 'x_p2_1': 0.4, 'x_p2_2': 0.3, 'x_r2': 1.089896, 'x_r2_1': 0.989896, 'x_r2_2': 0.889896} using model BoTorch.\n",
      "[INFO 04-06 14:21:43] ax.service.ax_client: Completed trial 1117 with data: {'Viable_Cross_Terms': (77, None)}.\n",
      "[INFO 04-06 14:21:44] ax.modelbridge.base: Leaving out out-of-design observations for arms: 729_0, 1035_0, 977_0, 489_0, 686_0, 775_0, 899_0\n",
      "[INFO 04-06 14:25:42] ax.service.ax_client: Generated new trial 1118 with parameters {'z_sh': 7, 'z_sh_1': 6, 'z_sh_2': 5, 'z_p2': 35, 'z_p2_1': 34, 'z_p2_2': 33, 'z_r2': 80, 'z_r2_1': 85, 'z_r2_2': 84, 'x_s': 0.5, 'x_s_1': 0.4, 'x_s_2': 0.3, 'x_p1': 0.612534, 'x_p1_1': 0.512534, 'x_p1_2': 0.412534, 'x_p2': 0.5, 'x_p2_1': 0.4, 'x_p2_2': 0.3, 'x_r2': 1.077206, 'x_r2_1': 0.977206, 'x_r2_2': 0.877206} using model BoTorch.\n",
      "[INFO 04-06 14:25:42] ax.service.ax_client: Completed trial 1118 with data: {'Viable_Cross_Terms': (84, None)}.\n",
      "[INFO 04-06 14:25:43] ax.modelbridge.base: Leaving out out-of-design observations for arms: 729_0, 1035_0, 977_0, 489_0, 686_0, 775_0, 899_0\n",
      "[INFO 04-06 14:29:43] ax.service.ax_client: Generated new trial 1119 with parameters {'z_sh': 7, 'z_sh_1': 13, 'z_sh_2': 5, 'z_p2': 34, 'z_p2_1': 33, 'z_p2_2': 32, 'z_r2': 80, 'z_r2_1': 77, 'z_r2_2': 84, 'x_s': 0.5, 'x_s_1': 0.4, 'x_s_2': 0.3, 'x_p1': 0.60488, 'x_p1_1': 0.50488, 'x_p1_2': 0.40488, 'x_p2': 0.5, 'x_p2_1': 0.4, 'x_p2_2': 0.3, 'x_r2': 1.083333, 'x_r2_1': 0.983333, 'x_r2_2': 0.883333} using model BoTorch.\n",
      "[INFO 04-06 14:29:43] ax.service.ax_client: Completed trial 1119 with data: {'Viable_Cross_Terms': (80, None)}.\n",
      "[INFO 04-06 14:29:44] ax.modelbridge.base: Leaving out out-of-design observations for arms: 729_0, 1035_0, 977_0, 489_0, 686_0, 775_0, 899_0\n",
      "[INFO 04-06 14:34:07] ax.service.ax_client: Generated new trial 1120 with parameters {'z_sh': 7, 'z_sh_1': 8, 'z_sh_2': 5, 'z_p2': 32, 'z_p2_1': 34, 'z_p2_2': 33, 'z_r2': 80, 'z_r2_1': 71, 'z_r2_2': 84, 'x_s': 0.5, 'x_s_1': 0.4, 'x_s_2': 0.3, 'x_p1': 0.615496, 'x_p1_1': 0.515496, 'x_p1_2': 0.415496, 'x_p2': 0.5, 'x_p2_1': 0.4, 'x_p2_2': 0.3, 'x_r2': 1.07838, 'x_r2_1': 0.97838, 'x_r2_2': 0.87838} using model BoTorch.\n",
      "[INFO 04-06 14:34:07] ax.service.ax_client: Completed trial 1120 with data: {'Viable_Cross_Terms': (84, None)}.\n",
      "[INFO 04-06 14:34:08] ax.modelbridge.base: Leaving out out-of-design observations for arms: 729_0, 1035_0, 977_0, 489_0, 686_0, 775_0, 899_0\n",
      "[INFO 04-06 14:38:16] ax.service.ax_client: Generated new trial 1121 with parameters {'z_sh': 7, 'z_sh_1': 13, 'z_sh_2': 5, 'z_p2': 29, 'z_p2_1': 27, 'z_p2_2': 25, 'z_r2': 80, 'z_r2_1': 74, 'z_r2_2': 78, 'x_s': 0.5, 'x_s_1': 0.4, 'x_s_2': 0.3, 'x_p1': 0.593026, 'x_p1_1': 0.493026, 'x_p1_2': 0.393026, 'x_p2': 0.5, 'x_p2_1': 0.4, 'x_p2_2': 0.3, 'x_r2': 1.081172, 'x_r2_1': 0.981172, 'x_r2_2': 0.881172} using model BoTorch.\n",
      "[INFO 04-06 14:38:16] ax.service.ax_client: Completed trial 1121 with data: {'Viable_Cross_Terms': (81, None)}.\n",
      "[INFO 04-06 14:38:17] ax.modelbridge.base: Leaving out out-of-design observations for arms: 729_0, 1035_0, 977_0, 489_0, 686_0, 1121_0, 775_0, 899_0\n",
      "[INFO 04-06 14:40:45] ax.service.ax_client: Generated new trial 1122 with parameters {'z_sh': 10, 'z_sh_1': 8, 'z_sh_2': 5, 'z_p2': 31, 'z_p2_1': 29, 'z_p2_2': 29, 'z_r2': 80, 'z_r2_1': 77, 'z_r2_2': 78, 'x_s': 0.5, 'x_s_1': 0.4, 'x_s_2': 0.3, 'x_p1': 0.616784, 'x_p1_1': 0.516784, 'x_p1_2': 0.416784, 'x_p2': 0.5, 'x_p2_1': 0.4, 'x_p2_2': 0.3, 'x_r2': 1.086231, 'x_r2_1': 0.986231, 'x_r2_2': 0.886231} using model BoTorch.\n",
      "[INFO 04-06 14:40:45] ax.service.ax_client: Completed trial 1122 with data: {'Viable_Cross_Terms': (96, None)}.\n",
      "[INFO 04-06 14:40:46] ax.modelbridge.base: Leaving out out-of-design observations for arms: 729_0, 1035_0, 977_0, 489_0, 686_0, 1121_0, 775_0, 899_0\n",
      "[INFO 04-06 14:44:43] ax.service.ax_client: Generated new trial 1123 with parameters {'z_sh': 7, 'z_sh_1': 14, 'z_sh_2': 5, 'z_p2': 35, 'z_p2_1': 34, 'z_p2_2': 33, 'z_r2': 80, 'z_r2_1': 84, 'z_r2_2': 84, 'x_s': 0.5, 'x_s_1': 0.4, 'x_s_2': 0.3, 'x_p1': 0.611584, 'x_p1_1': 0.511584, 'x_p1_2': 0.411584, 'x_p2': 0.5, 'x_p2_1': 0.4, 'x_p2_2': 0.3, 'x_r2': 1.078227, 'x_r2_1': 0.978227, 'x_r2_2': 0.878227} using model BoTorch.\n",
      "[INFO 04-06 14:44:43] ax.service.ax_client: Completed trial 1123 with data: {'Viable_Cross_Terms': (83, None)}.\n",
      "[INFO 04-06 14:44:43] ax.modelbridge.base: Leaving out out-of-design observations for arms: 729_0, 1035_0, 977_0, 489_0, 686_0, 1121_0, 775_0, 899_0\n",
      "[INFO 04-06 14:48:33] ax.service.ax_client: Generated new trial 1124 with parameters {'z_sh': 7, 'z_sh_1': 6, 'z_sh_2': 5, 'z_p2': 35, 'z_p2_1': 34, 'z_p2_2': 25, 'z_r2': 80, 'z_r2_1': 71, 'z_r2_2': 84, 'x_s': 0.5, 'x_s_1': 0.4, 'x_s_2': 0.3, 'x_p1': 0.608881, 'x_p1_1': 0.508881, 'x_p1_2': 0.408881, 'x_p2': 0.5, 'x_p2_1': 0.4, 'x_p2_2': 0.3, 'x_r2': 1.07505, 'x_r2_1': 0.97505, 'x_r2_2': 0.87505} using model BoTorch.\n",
      "[INFO 04-06 14:48:33] ax.service.ax_client: Completed trial 1124 with data: {'Viable_Cross_Terms': (83, None)}.\n",
      "[INFO 04-06 14:48:33] ax.modelbridge.base: Leaving out out-of-design observations for arms: 729_0, 1035_0, 977_0, 489_0, 686_0, 1121_0, 775_0, 899_0\n",
      "[INFO 04-06 14:52:12] ax.service.ax_client: Generated new trial 1125 with parameters {'z_sh': 7, 'z_sh_1': 14, 'z_sh_2': 5, 'z_p2': 35, 'z_p2_1': 34, 'z_p2_2': 33, 'z_r2': 80, 'z_r2_1': 83, 'z_r2_2': 84, 'x_s': 0.5, 'x_s_1': 0.4, 'x_s_2': 0.3, 'x_p1': 0.607731, 'x_p1_1': 0.507731, 'x_p1_2': 0.407731, 'x_p2': 0.5, 'x_p2_1': 0.4, 'x_p2_2': 0.3, 'x_r2': 1.07669, 'x_r2_1': 0.97669, 'x_r2_2': 0.87669} using model BoTorch.\n",
      "[INFO 04-06 14:52:12] ax.service.ax_client: Completed trial 1125 with data: {'Viable_Cross_Terms': (82, None)}.\n",
      "[INFO 04-06 14:52:13] ax.modelbridge.base: Leaving out out-of-design observations for arms: 729_0, 1035_0, 977_0, 489_0, 686_0, 1121_0, 775_0, 899_0\n",
      "[INFO 04-06 14:57:20] ax.service.ax_client: Generated new trial 1126 with parameters {'z_sh': 7, 'z_sh_1': 14, 'z_sh_2': 5, 'z_p2': 27, 'z_p2_1': 30, 'z_p2_2': 33, 'z_r2': 78, 'z_r2_1': 85, 'z_r2_2': 84, 'x_s': 0.496811, 'x_s_1': 0.246423, 'x_s_2': -0.109608, 'x_p1': 0.666467, 'x_p1_1': 0.566467, 'x_p1_2': 0.304781, 'x_p2': 0.396593, 'x_p2_1': 0.254769, 'x_p2_2': 0.122006, 'x_r2': 0.977317, 'x_r2_1': 0.877317, 'x_r2_2': 0.672085} using model BoTorch.\n",
      "[INFO 04-06 14:57:20] ax.service.ax_client: Completed trial 1126 with data: {'Viable_Cross_Terms': (21, None)}.\n",
      "[INFO 04-06 14:57:20] ax.modelbridge.base: Leaving out out-of-design observations for arms: 729_0, 1035_0, 977_0, 489_0, 686_0, 1121_0, 775_0, 899_0\n",
      "[INFO 04-06 15:01:18] ax.service.ax_client: Generated new trial 1127 with parameters {'z_sh': 7, 'z_sh_1': 8, 'z_sh_2': 5, 'z_p2': 34, 'z_p2_1': 34, 'z_p2_2': 33, 'z_r2': 80, 'z_r2_1': 73, 'z_r2_2': 71, 'x_s': 0.5, 'x_s_1': 0.4, 'x_s_2': 0.3, 'x_p1': 0.598372, 'x_p1_1': 0.498372, 'x_p1_2': 0.398372, 'x_p2': 0.5, 'x_p2_1': 0.4, 'x_p2_2': 0.3, 'x_r2': 1.069154, 'x_r2_1': 0.969154, 'x_r2_2': 0.869154} using model BoTorch.\n",
      "[INFO 04-06 15:01:18] ax.service.ax_client: Completed trial 1127 with data: {'Viable_Cross_Terms': (82, None)}.\n",
      "[INFO 04-06 15:01:20] ax.modelbridge.base: Leaving out out-of-design observations for arms: 729_0, 1035_0, 977_0, 489_0, 686_0, 1121_0, 775_0, 899_0\n",
      "[INFO 04-06 15:05:11] ax.service.ax_client: Generated new trial 1128 with parameters {'z_sh': 9, 'z_sh_1': 10, 'z_sh_2': 5, 'z_p2': 30, 'z_p2_1': 28, 'z_p2_2': 30, 'z_r2': 80, 'z_r2_1': 78, 'z_r2_2': 79, 'x_s': 0.5, 'x_s_1': 0.4, 'x_s_2': 0.3, 'x_p1': 0.613669, 'x_p1_1': 0.513669, 'x_p1_2': 0.413669, 'x_p2': 0.5, 'x_p2_1': 0.4, 'x_p2_2': 0.3, 'x_r2': 1.086941, 'x_r2_1': 0.986941, 'x_r2_2': 0.886941} using model BoTorch.\n",
      "[INFO 04-06 15:05:11] ax.service.ax_client: Completed trial 1128 with data: {'Viable_Cross_Terms': (79, None)}.\n",
      "[INFO 04-06 15:05:12] ax.modelbridge.base: Leaving out out-of-design observations for arms: 729_0, 1035_0, 977_0, 489_0, 686_0, 1121_0, 775_0, 899_0\n",
      "[INFO 04-06 15:11:27] ax.service.ax_client: Generated new trial 1129 with parameters {'z_sh': 7, 'z_sh_1': 6, 'z_sh_2': 5, 'z_p2': 31, 'z_p2_1': 26, 'z_p2_2': 33, 'z_r2': 81, 'z_r2_1': 85, 'z_r2_2': 84, 'x_s': 0.5, 'x_s_1': 0.4, 'x_s_2': 0.280631, 'x_p1': 0.63253, 'x_p1_1': 0.513584, 'x_p1_2': 0.413584, 'x_p2': 0.424021, 'x_p2_1': 0.324021, 'x_p2_2': 0.224021, 'x_r2': 0.915086, 'x_r2_1': 0.815086, 'x_r2_2': 0.715086} using model BoTorch.\n",
      "[INFO 04-06 15:11:27] ax.service.ax_client: Completed trial 1129 with data: {'Viable_Cross_Terms': (32, None)}.\n",
      "[INFO 04-06 15:11:28] ax.modelbridge.base: Leaving out out-of-design observations for arms: 729_0, 1035_0, 977_0, 489_0, 686_0, 1121_0, 775_0, 899_0\n",
      "[INFO 04-06 15:15:27] ax.service.ax_client: Generated new trial 1130 with parameters {'z_sh': 7, 'z_sh_1': 6, 'z_sh_2': 5, 'z_p2': 35, 'z_p2_1': 33, 'z_p2_2': 29, 'z_r2': 80, 'z_r2_1': 72, 'z_r2_2': 78, 'x_s': 0.5, 'x_s_1': 0.4, 'x_s_2': 0.3, 'x_p1': 0.625529, 'x_p1_1': 0.525529, 'x_p1_2': 0.425529, 'x_p2': 0.5, 'x_p2_1': 0.4, 'x_p2_2': 0.3, 'x_r2': 1.094898, 'x_r2_1': 0.994898, 'x_r2_2': 0.894898} using model BoTorch.\n",
      "[INFO 04-06 15:15:27] ax.service.ax_client: Completed trial 1130 with data: {'Viable_Cross_Terms': (79, None)}.\n",
      "[INFO 04-06 15:15:28] ax.modelbridge.base: Leaving out out-of-design observations for arms: 729_0, 1035_0, 977_0, 489_0, 686_0, 1121_0, 775_0, 899_0\n",
      "[INFO 04-06 15:19:44] ax.service.ax_client: Generated new trial 1131 with parameters {'z_sh': 7, 'z_sh_1': 12, 'z_sh_2': 5, 'z_p2': 31, 'z_p2_1': 27, 'z_p2_2': 31, 'z_r2': 80, 'z_r2_1': 72, 'z_r2_2': 74, 'x_s': 0.5, 'x_s_1': 0.4, 'x_s_2': 0.3, 'x_p1': 0.679856, 'x_p1_1': 0.579856, 'x_p1_2': 0.479856, 'x_p2': 0.391251, 'x_p2_1': 0.291251, 'x_p2_2': -0.346532, 'x_r2': 0.987659, 'x_r2_1': 0.887659, 'x_r2_2': 0.485682} using model BoTorch.\n",
      "[INFO 04-06 15:19:44] ax.service.ax_client: Completed trial 1131 with data: {'Viable_Cross_Terms': (58, None)}.\n",
      "[INFO 04-06 15:19:44] ax.modelbridge.base: Leaving out out-of-design observations for arms: 729_0, 1035_0, 977_0, 489_0, 686_0, 1121_0, 775_0, 899_0\n",
      "[INFO 04-06 15:23:51] ax.service.ax_client: Generated new trial 1132 with parameters {'z_sh': 8, 'z_sh_1': 12, 'z_sh_2': 13, 'z_p2': 28, 'z_p2_1': 34, 'z_p2_2': 29, 'z_r2': 85, 'z_r2_1': 81, 'z_r2_2': 77, 'x_s': 0.5, 'x_s_1': 0.4, 'x_s_2': 0.3, 'x_p1': 0.482801, 'x_p1_1': 0.382801, 'x_p1_2': 0.282801, 'x_p2': 0.5, 'x_p2_1': 0.4, 'x_p2_2': 0.3, 'x_r2': 0.785966, 'x_r2_1': 0.685966, 'x_r2_2': 0.585966} using model BoTorch.\n",
      "[INFO 04-06 15:23:51] ax.service.ax_client: Completed trial 1132 with data: {'Viable_Cross_Terms': (31, None)}.\n",
      "[INFO 04-06 15:23:52] ax.modelbridge.base: Leaving out out-of-design observations for arms: 729_0, 1035_0, 977_0, 489_0, 686_0, 1121_0, 775_0, 899_0\n",
      "[INFO 04-06 15:27:12] ax.service.ax_client: Generated new trial 1133 with parameters {'z_sh': 7, 'z_sh_1': 6, 'z_sh_2': 5, 'z_p2': 27, 'z_p2_1': 28, 'z_p2_2': 25, 'z_r2': 77, 'z_r2_1': 78, 'z_r2_2': 83, 'x_s': 0.5, 'x_s_1': 0.4, 'x_s_2': 0.3, 'x_p1': 0.589155, 'x_p1_1': 0.489155, 'x_p1_2': 0.389155, 'x_p2': 0.5, 'x_p2_1': 0.4, 'x_p2_2': 0.3, 'x_r2': 0.946893, 'x_r2_1': 0.846893, 'x_r2_2': 0.746893} using model BoTorch.\n",
      "[INFO 04-06 15:27:12] ax.service.ax_client: Completed trial 1133 with data: {'Viable_Cross_Terms': (34, None)}.\n",
      "[INFO 04-06 15:27:13] ax.modelbridge.base: Leaving out out-of-design observations for arms: 729_0, 1035_0, 977_0, 489_0, 686_0, 1121_0, 775_0, 899_0\n",
      "[INFO 04-06 15:31:18] ax.service.ax_client: Generated new trial 1134 with parameters {'z_sh': 7, 'z_sh_1': 14, 'z_sh_2': 5, 'z_p2': 27, 'z_p2_1': 34, 'z_p2_2': 31, 'z_r2': 85, 'z_r2_1': 84, 'z_r2_2': 84, 'x_s': 0.5, 'x_s_1': 0.4, 'x_s_2': 0.3, 'x_p1': 0.784515, 'x_p1_1': 0.684515, 'x_p1_2': 0.584515, 'x_p2': 0.5, 'x_p2_1': 0.4, 'x_p2_2': 0.3, 'x_r2': 1.073825, 'x_r2_1': 0.973825, 'x_r2_2': 0.873825} using model BoTorch.\n",
      "[INFO 04-06 15:31:18] ax.service.ax_client: Completed trial 1134 with data: {'Viable_Cross_Terms': (34, None)}.\n",
      "[INFO 04-06 15:31:19] ax.modelbridge.base: Leaving out out-of-design observations for arms: 729_0, 1035_0, 977_0, 489_0, 686_0, 1121_0, 775_0, 899_0\n",
      "[INFO 04-06 15:35:12] ax.service.ax_client: Generated new trial 1135 with parameters {'z_sh': 7, 'z_sh_1': 14, 'z_sh_2': 5, 'z_p2': 27, 'z_p2_1': 29, 'z_p2_2': 33, 'z_r2': 80, 'z_r2_1': 78, 'z_r2_2': 82, 'x_s': 0.5, 'x_s_1': 0.4, 'x_s_2': 0.3, 'x_p1': 0.607564, 'x_p1_1': 0.507564, 'x_p1_2': 0.407564, 'x_p2': 0.5, 'x_p2_1': 0.4, 'x_p2_2': 0.3, 'x_r2': 1.079702, 'x_r2_1': 0.979702, 'x_r2_2': 0.879702} using model BoTorch.\n",
      "[INFO 04-06 15:35:12] ax.service.ax_client: Completed trial 1135 with data: {'Viable_Cross_Terms': (80, None)}.\n",
      "[INFO 04-06 15:35:13] ax.modelbridge.base: Leaving out out-of-design observations for arms: 729_0, 1035_0, 977_0, 489_0, 686_0, 1121_0, 775_0, 899_0\n",
      "[INFO 04-06 15:39:09] ax.service.ax_client: Generated new trial 1136 with parameters {'z_sh': 7, 'z_sh_1': 6, 'z_sh_2': 5, 'z_p2': 27, 'z_p2_1': 34, 'z_p2_2': 33, 'z_r2': 80, 'z_r2_1': 71, 'z_r2_2': 84, 'x_s': 0.5, 'x_s_1': 0.4, 'x_s_2': 0.3, 'x_p1': 0.616847, 'x_p1_1': 0.516847, 'x_p1_2': 0.416847, 'x_p2': 0.5, 'x_p2_1': 0.4, 'x_p2_2': 0.3, 'x_r2': 1.079717, 'x_r2_1': 0.979717, 'x_r2_2': 0.879717} using model BoTorch.\n",
      "[INFO 04-06 15:39:09] ax.service.ax_client: Completed trial 1136 with data: {'Viable_Cross_Terms': (84, None)}.\n",
      "[INFO 04-06 15:39:10] ax.modelbridge.base: Leaving out out-of-design observations for arms: 729_0, 1035_0, 977_0, 489_0, 686_0, 1121_0, 775_0, 899_0\n",
      "[INFO 04-06 15:43:17] ax.service.ax_client: Generated new trial 1137 with parameters {'z_sh': 9, 'z_sh_1': 7, 'z_sh_2': 9, 'z_p2': 28, 'z_p2_1': 33, 'z_p2_2': 26, 'z_r2': 85, 'z_r2_1': 77, 'z_r2_2': 71, 'x_s': 0.5, 'x_s_1': 0.4, 'x_s_2': 0.3, 'x_p1': 0.642286, 'x_p1_1': 0.542286, 'x_p1_2': 0.442286, 'x_p2': 0.5, 'x_p2_1': 0.4, 'x_p2_2': 0.3, 'x_r2': 0.940168, 'x_r2_1': 0.840168, 'x_r2_2': 0.740168} using model BoTorch.\n",
      "[INFO 04-06 15:43:17] ax.service.ax_client: Completed trial 1137 with data: {'Viable_Cross_Terms': (30, None)}.\n",
      "[INFO 04-06 15:43:18] ax.modelbridge.base: Leaving out out-of-design observations for arms: 729_0, 1035_0, 977_0, 489_0, 686_0, 1121_0, 775_0, 899_0\n",
      "[INFO 04-06 15:48:41] ax.service.ax_client: Generated new trial 1138 with parameters {'z_sh': 7, 'z_sh_1': 9, 'z_sh_2': 5, 'z_p2': 35, 'z_p2_1': 27, 'z_p2_2': 27, 'z_r2': 78, 'z_r2_1': 74, 'z_r2_2': 82, 'x_s': 0.5, 'x_s_1': 0.4, 'x_s_2': 0.3, 'x_p1': 0.542277, 'x_p1_1': 0.407446, 'x_p1_2': 0.307446, 'x_p2': 0.438516, 'x_p2_1': 0.338516, 'x_p2_2': 0.238516, 'x_r2': 0.986969, 'x_r2_1': 0.882994, 'x_r2_2': 0.712235} using model BoTorch.\n",
      "[INFO 04-06 15:48:41] ax.service.ax_client: Completed trial 1138 with data: {'Viable_Cross_Terms': (36, None)}.\n",
      "[INFO 04-06 15:48:42] ax.modelbridge.base: Leaving out out-of-design observations for arms: 729_0, 1035_0, 977_0, 489_0, 686_0, 1121_0, 775_0, 899_0\n",
      "[INFO 04-06 15:52:33] ax.service.ax_client: Generated new trial 1139 with parameters {'z_sh': 7, 'z_sh_1': 6, 'z_sh_2': 5, 'z_p2': 27, 'z_p2_1': 28, 'z_p2_2': 25, 'z_r2': 77, 'z_r2_1': 83, 'z_r2_2': 83, 'x_s': 0.5, 'x_s_1': 0.4, 'x_s_2': 0.3, 'x_p1': 0.584505, 'x_p1_1': 0.484505, 'x_p1_2': 0.384505, 'x_p2': 0.5, 'x_p2_1': 0.4, 'x_p2_2': 0.3, 'x_r2': 0.962154, 'x_r2_1': 0.862154, 'x_r2_2': 0.762154} using model BoTorch.\n",
      "[INFO 04-06 15:52:33] ax.service.ax_client: Completed trial 1139 with data: {'Viable_Cross_Terms': (36, None)}.\n",
      "[INFO 04-06 15:52:34] ax.modelbridge.base: Leaving out out-of-design observations for arms: 729_0, 1035_0, 977_0, 489_0, 686_0, 1121_0, 775_0, 899_0\n",
      "[INFO 04-06 15:56:33] ax.service.ax_client: Generated new trial 1140 with parameters {'z_sh': 7, 'z_sh_1': 14, 'z_sh_2': 5, 'z_p2': 31, 'z_p2_1': 34, 'z_p2_2': 33, 'z_r2': 80, 'z_r2_1': 71, 'z_r2_2': 84, 'x_s': 0.5, 'x_s_1': 0.4, 'x_s_2': 0.3, 'x_p1': 0.611201, 'x_p1_1': 0.511201, 'x_p1_2': 0.411201, 'x_p2': 0.5, 'x_p2_1': 0.4, 'x_p2_2': 0.3, 'x_r2': 1.081208, 'x_r2_1': 0.981208, 'x_r2_2': 0.881208} using model BoTorch.\n",
      "[INFO 04-06 15:56:33] ax.service.ax_client: Completed trial 1140 with data: {'Viable_Cross_Terms': (89, None)}.\n",
      "[INFO 04-06 15:56:34] ax.modelbridge.base: Leaving out out-of-design observations for arms: 729_0, 1035_0, 977_0, 489_0, 686_0, 1121_0, 775_0, 899_0\n",
      "[INFO 04-06 16:00:22] ax.service.ax_client: Generated new trial 1141 with parameters {'z_sh': 7, 'z_sh_1': 14, 'z_sh_2': 5, 'z_p2': 35, 'z_p2_1': 34, 'z_p2_2': 33, 'z_r2': 80, 'z_r2_1': 71, 'z_r2_2': 84, 'x_s': 0.5, 'x_s_1': 0.4, 'x_s_2': 0.3, 'x_p1': 0.60983, 'x_p1_1': 0.50983, 'x_p1_2': 0.40983, 'x_p2': 0.5, 'x_p2_1': 0.4, 'x_p2_2': 0.3, 'x_r2': 1.081947, 'x_r2_1': 0.981947, 'x_r2_2': 0.881947} using model BoTorch.\n",
      "[INFO 04-06 16:00:22] ax.service.ax_client: Completed trial 1141 with data: {'Viable_Cross_Terms': (80, None)}.\n",
      "[INFO 04-06 16:00:23] ax.modelbridge.base: Leaving out out-of-design observations for arms: 729_0, 1035_0, 977_0, 489_0, 686_0, 1121_0, 775_0, 899_0\n",
      "[INFO 04-06 16:05:09] ax.service.ax_client: Generated new trial 1142 with parameters {'z_sh': 7, 'z_sh_1': 13, 'z_sh_2': 5, 'z_p2': 35, 'z_p2_1': 27, 'z_p2_2': 29, 'z_r2': 80, 'z_r2_1': 76, 'z_r2_2': 78, 'x_s': 0.5, 'x_s_1': 0.4, 'x_s_2': 0.3, 'x_p1': 0.965027, 'x_p1_1': -0.380235, 'x_p1_2': -0.480235, 'x_p2': 0.5, 'x_p2_1': 0.4, 'x_p2_2': 0.3, 'x_r2': 1.279408, 'x_r2_1': 1.179408, 'x_r2_2': 1.079408} using model BoTorch.\n",
      "[INFO 04-06 16:05:09] ax.service.ax_client: Completed trial 1142 with data: {'Viable_Cross_Terms': (29, None)}.\n",
      "[INFO 04-06 16:05:10] ax.modelbridge.base: Leaving out out-of-design observations for arms: 729_0, 1035_0, 977_0, 489_0, 686_0, 1121_0, 775_0, 899_0\n",
      "[INFO 04-06 16:10:10] ax.service.ax_client: Generated new trial 1143 with parameters {'z_sh': 10, 'z_sh_1': 8, 'z_sh_2': 9, 'z_p2': 28, 'z_p2_1': 32, 'z_p2_2': 28, 'z_r2': 79, 'z_r2_1': 83, 'z_r2_2': 73, 'x_s': 0.5, 'x_s_1': 0.4, 'x_s_2': -0.5, 'x_p1': 0.807746, 'x_p1_1': 0.707746, 'x_p1_2': 0.607746, 'x_p2': 0.322251, 'x_p2_1': -0.34504, 'x_p2_2': -0.44504, 'x_r2': 0.761729, 'x_r2_1': 0.661729, 'x_r2_2': -1.261217} using model BoTorch.\n",
      "[INFO 04-06 16:10:10] ax.service.ax_client: Completed trial 1143 with data: {'Viable_Cross_Terms': (0, None)}.\n",
      "[INFO 04-06 16:10:10] ax.modelbridge.base: Leaving out out-of-design observations for arms: 729_0, 1035_0, 977_0, 489_0, 686_0, 1121_0, 775_0, 899_0\n",
      "[INFO 04-06 16:14:13] ax.service.ax_client: Generated new trial 1144 with parameters {'z_sh': 7, 'z_sh_1': 6, 'z_sh_2': 5, 'z_p2': 34, 'z_p2_1': 34, 'z_p2_2': 32, 'z_r2': 80, 'z_r2_1': 71, 'z_r2_2': 83, 'x_s': 0.5, 'x_s_1': 0.4, 'x_s_2': 0.3, 'x_p1': 0.606928, 'x_p1_1': 0.506928, 'x_p1_2': 0.406928, 'x_p2': 0.5, 'x_p2_1': 0.4, 'x_p2_2': 0.3, 'x_r2': 1.073924, 'x_r2_1': 0.973924, 'x_r2_2': 0.873924} using model BoTorch.\n",
      "[INFO 04-06 16:14:13] ax.service.ax_client: Completed trial 1144 with data: {'Viable_Cross_Terms': (82, None)}.\n",
      "[INFO 04-06 16:14:14] ax.modelbridge.base: Leaving out out-of-design observations for arms: 729_0, 1035_0, 977_0, 489_0, 686_0, 1121_0, 775_0, 899_0\n",
      "[INFO 04-06 16:18:22] ax.service.ax_client: Generated new trial 1145 with parameters {'z_sh': 11, 'z_sh_1': 10, 'z_sh_2': 5, 'z_p2': 32, 'z_p2_1': 27, 'z_p2_2': 31, 'z_r2': 78, 'z_r2_1': 77, 'z_r2_2': 70, 'x_s': 0.5, 'x_s_1': 0.4, 'x_s_2': 0.3, 'x_p1': 0.545338, 'x_p1_1': 0.445338, 'x_p1_2': 0.345338, 'x_p2': 0.5, 'x_p2_1': 0.4, 'x_p2_2': 0.3, 'x_r2': 0.97123, 'x_r2_1': 0.87123, 'x_r2_2': 0.77123} using model BoTorch.\n",
      "[INFO 04-06 16:18:22] ax.service.ax_client: Completed trial 1145 with data: {'Viable_Cross_Terms': (41, None)}.\n",
      "[INFO 04-06 16:18:23] ax.modelbridge.base: Leaving out out-of-design observations for arms: 729_0, 1035_0, 977_0, 489_0, 686_0, 1121_0, 775_0, 899_0\n",
      "[INFO 04-06 16:22:32] ax.service.ax_client: Generated new trial 1146 with parameters {'z_sh': 7, 'z_sh_1': 12, 'z_sh_2': 5, 'z_p2': 35, 'z_p2_1': 34, 'z_p2_2': 33, 'z_r2': 80, 'z_r2_1': 85, 'z_r2_2': 84, 'x_s': 0.5, 'x_s_1': 0.4, 'x_s_2': 0.3, 'x_p1': 0.611951, 'x_p1_1': 0.511951, 'x_p1_2': 0.411951, 'x_p2': 0.5, 'x_p2_1': 0.4, 'x_p2_2': 0.3, 'x_r2': 1.075624, 'x_r2_1': 0.975624, 'x_r2_2': 0.875624} using model BoTorch.\n",
      "[INFO 04-06 16:22:32] ax.service.ax_client: Completed trial 1146 with data: {'Viable_Cross_Terms': (84, None)}.\n",
      "[INFO 04-06 16:22:33] ax.modelbridge.base: Leaving out out-of-design observations for arms: 729_0, 1035_0, 977_0, 489_0, 686_0, 1121_0, 775_0, 899_0\n",
      "[INFO 04-06 16:26:33] ax.service.ax_client: Generated new trial 1147 with parameters {'z_sh': 7, 'z_sh_1': 6, 'z_sh_2': 5, 'z_p2': 34, 'z_p2_1': 33, 'z_p2_2': 32, 'z_r2': 80, 'z_r2_1': 71, 'z_r2_2': 84, 'x_s': 0.5, 'x_s_1': 0.4, 'x_s_2': 0.3, 'x_p1': 0.606881, 'x_p1_1': 0.506881, 'x_p1_2': 0.406881, 'x_p2': 0.5, 'x_p2_1': 0.4, 'x_p2_2': 0.3, 'x_r2': 1.070556, 'x_r2_1': 0.970556, 'x_r2_2': 0.870556} using model BoTorch.\n",
      "[INFO 04-06 16:26:33] ax.service.ax_client: Completed trial 1147 with data: {'Viable_Cross_Terms': (83, None)}.\n",
      "[INFO 04-06 16:26:34] ax.modelbridge.base: Leaving out out-of-design observations for arms: 729_0, 1035_0, 977_0, 489_0, 686_0, 1121_0, 775_0, 899_0\n",
      "[INFO 04-06 16:30:41] ax.service.ax_client: Generated new trial 1148 with parameters {'z_sh': 7, 'z_sh_1': 6, 'z_sh_2': 5, 'z_p2': 35, 'z_p2_1': 34, 'z_p2_2': 33, 'z_r2': 80, 'z_r2_1': 75, 'z_r2_2': 84, 'x_s': 0.5, 'x_s_1': 0.4, 'x_s_2': 0.3, 'x_p1': 0.608517, 'x_p1_1': 0.508517, 'x_p1_2': 0.408517, 'x_p2': 0.5, 'x_p2_1': 0.4, 'x_p2_2': 0.3, 'x_r2': 1.071323, 'x_r2_1': 0.971323, 'x_r2_2': 0.871323} using model BoTorch.\n",
      "[INFO 04-06 16:30:41] ax.service.ax_client: Completed trial 1148 with data: {'Viable_Cross_Terms': (83, None)}.\n",
      "[INFO 04-06 16:30:42] ax.modelbridge.base: Leaving out out-of-design observations for arms: 729_0, 1035_0, 977_0, 489_0, 686_0, 1121_0, 775_0, 899_0\n",
      "[INFO 04-06 16:34:34] ax.service.ax_client: Generated new trial 1149 with parameters {'z_sh': 7, 'z_sh_1': 6, 'z_sh_2': 5, 'z_p2': 32, 'z_p2_1': 34, 'z_p2_2': 33, 'z_r2': 80, 'z_r2_1': 84, 'z_r2_2': 84, 'x_s': 0.5, 'x_s_1': 0.4, 'x_s_2': 0.3, 'x_p1': 0.590962, 'x_p1_1': 0.490962, 'x_p1_2': 0.390962, 'x_p2': 0.5, 'x_p2_1': 0.4, 'x_p2_2': 0.3, 'x_r2': 1.063895, 'x_r2_1': 0.963895, 'x_r2_2': 0.863895} using model BoTorch.\n",
      "[INFO 04-06 16:34:34] ax.service.ax_client: Completed trial 1149 with data: {'Viable_Cross_Terms': (82, None)}.\n",
      "[INFO 04-06 16:34:35] ax.modelbridge.base: Leaving out out-of-design observations for arms: 729_0, 1035_0, 977_0, 489_0, 686_0, 1121_0, 775_0, 899_0\n",
      "[INFO 04-06 16:38:43] ax.service.ax_client: Generated new trial 1150 with parameters {'z_sh': 7, 'z_sh_1': 14, 'z_sh_2': 5, 'z_p2': 27, 'z_p2_1': 27, 'z_p2_2': 26, 'z_r2': 85, 'z_r2_1': 80, 'z_r2_2': 84, 'x_s': 0.5, 'x_s_1': 0.4, 'x_s_2': 0.3, 'x_p1': 0.789057, 'x_p1_1': 0.689057, 'x_p1_2': 0.589057, 'x_p2': 0.5, 'x_p2_1': 0.4, 'x_p2_2': 0.3, 'x_r2': 1.073922, 'x_r2_1': 0.973922, 'x_r2_2': 0.873922} using model BoTorch.\n",
      "[INFO 04-06 16:38:43] ax.service.ax_client: Completed trial 1150 with data: {'Viable_Cross_Terms': (82, None)}.\n",
      "[INFO 04-06 16:38:44] ax.modelbridge.base: Leaving out out-of-design observations for arms: 729_0, 1035_0, 977_0, 489_0, 686_0, 1121_0, 775_0, 899_0\n",
      "[INFO 04-06 16:42:40] ax.service.ax_client: Generated new trial 1151 with parameters {'z_sh': 7, 'z_sh_1': 6, 'z_sh_2': 5, 'z_p2': 35, 'z_p2_1': 34, 'z_p2_2': 33, 'z_r2': 80, 'z_r2_1': 76, 'z_r2_2': 84, 'x_s': 0.5, 'x_s_1': 0.4, 'x_s_2': 0.3, 'x_p1': 0.607995, 'x_p1_1': 0.507995, 'x_p1_2': 0.407995, 'x_p2': 0.5, 'x_p2_1': 0.4, 'x_p2_2': 0.3, 'x_r2': 1.07595, 'x_r2_1': 0.97595, 'x_r2_2': 0.87595} using model BoTorch.\n",
      "[INFO 04-06 16:42:40] ax.service.ax_client: Completed trial 1151 with data: {'Viable_Cross_Terms': (83, None)}.\n",
      "[INFO 04-06 16:42:41] ax.modelbridge.base: Leaving out out-of-design observations for arms: 729_0, 1035_0, 977_0, 489_0, 686_0, 1121_0, 775_0, 899_0\n",
      "[INFO 04-06 16:47:50] ax.service.ax_client: Generated new trial 1152 with parameters {'z_sh': 7, 'z_sh_1': 10, 'z_sh_2': 5, 'z_p2': 27, 'z_p2_1': 29, 'z_p2_2': 33, 'z_r2': 82, 'z_r2_1': 77, 'z_r2_2': 83, 'x_s': 0.5, 'x_s_1': 0.4, 'x_s_2': 0.3, 'x_p1': 0.94376, 'x_p1_1': -0.546065, 'x_p1_2': -0.646065, 'x_p2': 0.273508, 'x_p2_1': 0.173508, 'x_p2_2': 0.073508, 'x_r2': 0.960621, 'x_r2_1': 0.860621, 'x_r2_2': 0.760621} using model BoTorch.\n",
      "[INFO 04-06 16:47:50] ax.service.ax_client: Completed trial 1152 with data: {'Viable_Cross_Terms': (19, None)}.\n",
      "[INFO 04-06 16:47:51] ax.modelbridge.base: Leaving out out-of-design observations for arms: 729_0, 1035_0, 977_0, 489_0, 686_0, 1121_0, 775_0, 899_0\n",
      "[INFO 04-06 16:52:03] ax.service.ax_client: Generated new trial 1153 with parameters {'z_sh': 9, 'z_sh_1': 12, 'z_sh_2': 5, 'z_p2': 29, 'z_p2_1': 32, 'z_p2_2': 26, 'z_r2': 78, 'z_r2_1': 76, 'z_r2_2': 83, 'x_s': 0.5, 'x_s_1': 0.4, 'x_s_2': 0.3, 'x_p1': 0.540091, 'x_p1_1': 0.440091, 'x_p1_2': 0.340091, 'x_p2': 0.5, 'x_p2_1': 0.4, 'x_p2_2': 0.3, 'x_r2': 0.975035, 'x_r2_1': 0.875035, 'x_r2_2': 0.775035} using model BoTorch.\n",
      "[INFO 04-06 16:52:03] ax.service.ax_client: Completed trial 1153 with data: {'Viable_Cross_Terms': (36, None)}.\n",
      "[INFO 04-06 16:52:04] ax.modelbridge.base: Leaving out out-of-design observations for arms: 729_0, 1035_0, 977_0, 489_0, 686_0, 1121_0, 775_0, 899_0\n",
      "[INFO 04-06 16:56:17] ax.service.ax_client: Generated new trial 1154 with parameters {'z_sh': 7, 'z_sh_1': 6, 'z_sh_2': 5, 'z_p2': 35, 'z_p2_1': 34, 'z_p2_2': 33, 'z_r2': 80, 'z_r2_1': 71, 'z_r2_2': 84, 'x_s': 0.5, 'x_s_1': 0.4, 'x_s_2': 0.3, 'x_p1': 0.608509, 'x_p1_1': 0.508509, 'x_p1_2': 0.408509, 'x_p2': 0.5, 'x_p2_1': 0.4, 'x_p2_2': 0.3, 'x_r2': 1.073824, 'x_r2_1': 0.973824, 'x_r2_2': 0.873824} using model BoTorch.\n",
      "[INFO 04-06 16:56:17] ax.service.ax_client: Completed trial 1154 with data: {'Viable_Cross_Terms': (82, None)}.\n",
      "[INFO 04-06 16:56:18] ax.modelbridge.base: Leaving out out-of-design observations for arms: 729_0, 1035_0, 977_0, 489_0, 686_0, 1121_0, 775_0, 899_0\n",
      "[INFO 04-06 17:00:22] ax.service.ax_client: Generated new trial 1155 with parameters {'z_sh': 7, 'z_sh_1': 9, 'z_sh_2': 5, 'z_p2': 30, 'z_p2_1': 26, 'z_p2_2': 31, 'z_r2': 80, 'z_r2_1': 75, 'z_r2_2': 75, 'x_s': 0.5, 'x_s_1': 0.4, 'x_s_2': 0.3, 'x_p1': 0.624724, 'x_p1_1': 0.524724, 'x_p1_2': 0.424724, 'x_p2': 0.5, 'x_p2_1': 0.4, 'x_p2_2': 0.3, 'x_r2': 1.061424, 'x_r2_1': 0.961424, 'x_r2_2': 0.861424} using model BoTorch.\n",
      "[INFO 04-06 17:00:22] ax.service.ax_client: Completed trial 1155 with data: {'Viable_Cross_Terms': (91, None)}.\n",
      "[INFO 04-06 17:00:23] ax.modelbridge.base: Leaving out out-of-design observations for arms: 729_0, 1035_0, 977_0, 489_0, 686_0, 1155_0, 1121_0, 775_0, 899_0\n",
      "[INFO 04-06 17:03:03] ax.service.ax_client: Generated new trial 1156 with parameters {'z_sh': 12, 'z_sh_1': 13, 'z_sh_2': 10, 'z_p2': 35, 'z_p2_1': 27, 'z_p2_2': 28, 'z_r2': 78, 'z_r2_1': 75, 'z_r2_2': 79, 'x_s': 0.5, 'x_s_1': 0.4, 'x_s_2': 0.3, 'x_p1': 0.534974, 'x_p1_1': 0.434974, 'x_p1_2': 0.334974, 'x_p2': 0.5, 'x_p2_1': 0.4, 'x_p2_2': 0.3, 'x_r2': 0.917198, 'x_r2_1': 0.817198, 'x_r2_2': 0.717198} using model BoTorch.\n",
      "[INFO 04-06 17:03:03] ax.service.ax_client: Completed trial 1156 with data: {'Viable_Cross_Terms': (34, None)}.\n",
      "[INFO 04-06 17:03:04] ax.modelbridge.base: Leaving out out-of-design observations for arms: 729_0, 1035_0, 977_0, 489_0, 686_0, 1155_0, 1121_0, 775_0, 899_0\n",
      "[INFO 04-06 17:07:44] ax.service.ax_client: Generated new trial 1157 with parameters {'z_sh': 7, 'z_sh_1': 12, 'z_sh_2': 5, 'z_p2': 28, 'z_p2_1': 31, 'z_p2_2': 27, 'z_r2': 80, 'z_r2_1': 74, 'z_r2_2': 77, 'x_s': 0.5, 'x_s_1': 0.4, 'x_s_2': 0.3, 'x_p1': 0.61465, 'x_p1_1': 0.514651, 'x_p1_2': 0.414651, 'x_p2': 0.5, 'x_p2_1': 0.4, 'x_p2_2': 0.3, 'x_r2': 1.072474, 'x_r2_1': 0.972474, 'x_r2_2': 0.872475} using model BoTorch.\n",
      "[INFO 04-06 17:07:44] ax.service.ax_client: Completed trial 1157 with data: {'Viable_Cross_Terms': (91, None)}.\n",
      "[INFO 04-06 17:07:45] ax.modelbridge.base: Leaving out out-of-design observations for arms: 729_0, 1035_0, 977_0, 489_0, 686_0, 1155_0, 1121_0, 1157_0, 775_0, 899_0\n",
      "[INFO 04-06 17:10:26] ax.service.ax_client: Generated new trial 1158 with parameters {'z_sh': 7, 'z_sh_1': 6, 'z_sh_2': 5, 'z_p2': 27, 'z_p2_1': 34, 'z_p2_2': 33, 'z_r2': 80, 'z_r2_1': 85, 'z_r2_2': 84, 'x_s': 0.5, 'x_s_1': 0.4, 'x_s_2': 0.3, 'x_p1': 0.624807, 'x_p1_1': 0.524807, 'x_p1_2': 0.424807, 'x_p2': 0.5, 'x_p2_1': 0.4, 'x_p2_2': 0.3, 'x_r2': 1.072991, 'x_r2_1': 0.972991, 'x_r2_2': 0.872991} using model BoTorch.\n",
      "[INFO 04-06 17:10:26] ax.service.ax_client: Completed trial 1158 with data: {'Viable_Cross_Terms': (81, None)}.\n",
      "[INFO 04-06 17:10:27] ax.modelbridge.base: Leaving out out-of-design observations for arms: 729_0, 1035_0, 977_0, 489_0, 686_0, 1155_0, 1121_0, 1157_0, 775_0, 899_0\n",
      "[INFO 04-06 17:13:53] ax.service.ax_client: Generated new trial 1159 with parameters {'z_sh': 7, 'z_sh_1': 6, 'z_sh_2': 5, 'z_p2': 35, 'z_p2_1': 34, 'z_p2_2': 33, 'z_r2': 80, 'z_r2_1': 71, 'z_r2_2': 78, 'x_s': 0.5, 'x_s_1': 0.4, 'x_s_2': 0.3, 'x_p1': 0.615834, 'x_p1_1': 0.515834, 'x_p1_2': 0.415834, 'x_p2': 0.5, 'x_p2_1': 0.4, 'x_p2_2': 0.3, 'x_r2': 1.079885, 'x_r2_1': 0.979885, 'x_r2_2': 0.879885} using model BoTorch.\n",
      "[INFO 04-06 17:13:53] ax.service.ax_client: Completed trial 1159 with data: {'Viable_Cross_Terms': (84, None)}.\n",
      "[INFO 04-06 17:13:54] ax.modelbridge.base: Leaving out out-of-design observations for arms: 729_0, 1035_0, 977_0, 489_0, 686_0, 1155_0, 1121_0, 1157_0, 775_0, 899_0\n",
      "[INFO 04-06 17:19:21] ax.service.ax_client: Generated new trial 1160 with parameters {'z_sh': 9, 'z_sh_1': 10, 'z_sh_2': 5, 'z_p2': 28, 'z_p2_1': 28, 'z_p2_2': 29, 'z_r2': 80, 'z_r2_1': 77, 'z_r2_2': 74, 'x_s': 0.5, 'x_s_1': 0.4, 'x_s_2': 0.3, 'x_p1': 1.0, 'x_p1_1': -0.388691, 'x_p1_2': -0.488691, 'x_p2': 0.330058, 'x_p2_1': 0.230058, 'x_p2_2': 0.130058, 'x_r2': 0.97947, 'x_r2_1': 0.87947, 'x_r2_2': -1.5} using model BoTorch.\n",
      "[INFO 04-06 17:19:21] ax.service.ax_client: Completed trial 1160 with data: {'Viable_Cross_Terms': (21, None)}.\n",
      "[INFO 04-06 17:19:21] ax.modelbridge.base: Leaving out out-of-design observations for arms: 729_0, 1035_0, 977_0, 489_0, 686_0, 1155_0, 1121_0, 1157_0, 775_0, 899_0\n",
      "[INFO 04-06 17:23:37] ax.service.ax_client: Generated new trial 1161 with parameters {'z_sh': 7, 'z_sh_1': 14, 'z_sh_2': 13, 'z_p2': 35, 'z_p2_1': 26, 'z_p2_2': 33, 'z_r2': 74, 'z_r2_1': 71, 'z_r2_2': 84, 'x_s': 0.5, 'x_s_1': 0.4, 'x_s_2': 0.3, 'x_p1': 1.0, 'x_p1_1': -0.9, 'x_p1_2': -1.0, 'x_p2': 0.5, 'x_p2_1': 0.4, 'x_p2_2': -0.5, 'x_r2': 1.5, 'x_r2_1': 1.4, 'x_r2_2': -1.5} using model BoTorch.\n",
      "[INFO 04-06 17:23:37] ax.service.ax_client: Completed trial 1161 with data: {'Viable_Cross_Terms': (0, None)}.\n",
      "[INFO 04-06 17:23:37] ax.modelbridge.base: Leaving out out-of-design observations for arms: 729_0, 1035_0, 977_0, 489_0, 686_0, 1155_0, 1121_0, 1157_0, 775_0, 899_0\n",
      "[INFO 04-06 17:28:00] ax.service.ax_client: Generated new trial 1162 with parameters {'z_sh': 7, 'z_sh_1': 6, 'z_sh_2': 5, 'z_p2': 27, 'z_p2_1': 34, 'z_p2_2': 33, 'z_r2': 80, 'z_r2_1': 85, 'z_r2_2': 84, 'x_s': 0.5, 'x_s_1': 0.4, 'x_s_2': 0.3, 'x_p1': 0.621777, 'x_p1_1': 0.521777, 'x_p1_2': 0.421777, 'x_p2': 0.5, 'x_p2_1': 0.4, 'x_p2_2': 0.3, 'x_r2': 1.067362, 'x_r2_1': 0.967362, 'x_r2_2': 0.867362} using model BoTorch.\n",
      "[INFO 04-06 17:28:00] ax.service.ax_client: Completed trial 1162 with data: {'Viable_Cross_Terms': (83, None)}.\n",
      "[INFO 04-06 17:28:00] ax.modelbridge.base: Leaving out out-of-design observations for arms: 729_0, 1035_0, 977_0, 489_0, 686_0, 1155_0, 1121_0, 1157_0, 775_0, 899_0\n",
      "[INFO 04-06 17:32:12] ax.service.ax_client: Generated new trial 1163 with parameters {'z_sh': 7, 'z_sh_1': 6, 'z_sh_2': 5, 'z_p2': 31, 'z_p2_1': 29, 'z_p2_2': 31, 'z_r2': 78, 'z_r2_1': 81, 'z_r2_2': 81, 'x_s': 0.5, 'x_s_1': 0.4, 'x_s_2': 0.3, 'x_p1': 1.0, 'x_p1_1': 0.9, 'x_p1_2': 0.8, 'x_p2': 0.5, 'x_p2_1': 0.4, 'x_p2_2': 0.3, 'x_r2': 1.5, 'x_r2_1': -1.4, 'x_r2_2': -1.5} using model BoTorch.\n",
      "[INFO 04-06 17:32:12] ax.service.ax_client: Completed trial 1163 with data: {'Viable_Cross_Terms': (3, None)}.\n",
      "[INFO 04-06 17:32:13] ax.modelbridge.base: Leaving out out-of-design observations for arms: 729_0, 1035_0, 977_0, 489_0, 686_0, 1155_0, 1121_0, 1157_0, 775_0, 899_0\n",
      "[INFO 04-06 17:36:02] ax.service.ax_client: Generated new trial 1164 with parameters {'z_sh': 7, 'z_sh_1': 14, 'z_sh_2': 5, 'z_p2': 27, 'z_p2_1': 34, 'z_p2_2': 33, 'z_r2': 80, 'z_r2_1': 71, 'z_r2_2': 70, 'x_s': 0.5, 'x_s_1': 0.4, 'x_s_2': 0.3, 'x_p1': 0.628862, 'x_p1_1': 0.528862, 'x_p1_2': 0.428862, 'x_p2': 0.5, 'x_p2_1': 0.4, 'x_p2_2': 0.3, 'x_r2': 1.089405, 'x_r2_1': 0.989405, 'x_r2_2': 0.889405} using model BoTorch.\n",
      "[INFO 04-06 17:36:02] ax.service.ax_client: Completed trial 1164 with data: {'Viable_Cross_Terms': (80, None)}.\n",
      "[INFO 04-06 17:36:03] ax.modelbridge.base: Leaving out out-of-design observations for arms: 729_0, 1035_0, 977_0, 489_0, 686_0, 1155_0, 1121_0, 1157_0, 775_0, 899_0\n",
      "[INFO 04-06 17:39:38] ax.service.ax_client: Generated new trial 1165 with parameters {'z_sh': 9, 'z_sh_1': 11, 'z_sh_2': 5, 'z_p2': 28, 'z_p2_1': 29, 'z_p2_2': 32, 'z_r2': 80, 'z_r2_1': 77, 'z_r2_2': 75, 'x_s': 0.5, 'x_s_1': 0.4, 'x_s_2': 0.3, 'x_p1': 0.608667, 'x_p1_1': 0.508667, 'x_p1_2': 0.408667, 'x_p2': 0.5, 'x_p2_1': 0.4, 'x_p2_2': 0.3, 'x_r2': 1.079342, 'x_r2_1': 0.979342, 'x_r2_2': 0.879342} using model BoTorch.\n",
      "[INFO 04-06 17:39:38] ax.service.ax_client: Completed trial 1165 with data: {'Viable_Cross_Terms': (81, None)}.\n",
      "[INFO 04-06 17:39:39] ax.modelbridge.base: Leaving out out-of-design observations for arms: 729_0, 1035_0, 977_0, 489_0, 686_0, 1155_0, 1121_0, 1157_0, 775_0, 899_0\n",
      "[INFO 04-06 17:43:59] ax.service.ax_client: Generated new trial 1166 with parameters {'z_sh': 7, 'z_sh_1': 6, 'z_sh_2': 5, 'z_p2': 35, 'z_p2_1': 34, 'z_p2_2': 33, 'z_r2': 80, 'z_r2_1': 71, 'z_r2_2': 84, 'x_s': 0.5, 'x_s_1': 0.4, 'x_s_2': 0.3, 'x_p1': 0.60669, 'x_p1_1': 0.50669, 'x_p1_2': 0.40669, 'x_p2': 0.5, 'x_p2_1': 0.4, 'x_p2_2': 0.3, 'x_r2': 1.076527, 'x_r2_1': 0.976527, 'x_r2_2': 0.876527} using model BoTorch.\n",
      "[INFO 04-06 17:43:59] ax.service.ax_client: Completed trial 1166 with data: {'Viable_Cross_Terms': (82, None)}.\n",
      "[INFO 04-06 17:44:00] ax.modelbridge.base: Leaving out out-of-design observations for arms: 729_0, 1035_0, 977_0, 489_0, 686_0, 1155_0, 1121_0, 1157_0, 775_0, 899_0\n",
      "[INFO 04-06 17:48:05] ax.service.ax_client: Generated new trial 1167 with parameters {'z_sh': 7, 'z_sh_1': 6, 'z_sh_2': 5, 'z_p2': 34, 'z_p2_1': 33, 'z_p2_2': 32, 'z_r2': 80, 'z_r2_1': 73, 'z_r2_2': 74, 'x_s': 0.5, 'x_s_1': 0.4, 'x_s_2': 0.3, 'x_p1': 0.637178, 'x_p1_1': 0.537178, 'x_p1_2': 0.437178, 'x_p2': 0.5, 'x_p2_1': 0.4, 'x_p2_2': 0.3, 'x_r2': 1.119399, 'x_r2_1': 1.019399, 'x_r2_2': 0.919399} using model BoTorch.\n",
      "[INFO 04-06 17:48:05] ax.service.ax_client: Completed trial 1167 with data: {'Viable_Cross_Terms': (80, None)}.\n",
      "[INFO 04-06 17:48:06] ax.modelbridge.base: Leaving out out-of-design observations for arms: 729_0, 1035_0, 977_0, 489_0, 686_0, 1155_0, 1121_0, 1157_0, 775_0, 899_0\n",
      "[INFO 04-06 17:52:16] ax.service.ax_client: Generated new trial 1168 with parameters {'z_sh': 7, 'z_sh_1': 6, 'z_sh_2': 5, 'z_p2': 35, 'z_p2_1': 34, 'z_p2_2': 33, 'z_r2': 80, 'z_r2_1': 85, 'z_r2_2': 84, 'x_s': 0.5, 'x_s_1': 0.4, 'x_s_2': 0.3, 'x_p1': 0.612487, 'x_p1_1': 0.512487, 'x_p1_2': 0.412487, 'x_p2': 0.5, 'x_p2_1': 0.4, 'x_p2_2': 0.3, 'x_r2': 1.076674, 'x_r2_1': 0.976674, 'x_r2_2': 0.876674} using model BoTorch.\n",
      "[INFO 04-06 17:52:16] ax.service.ax_client: Completed trial 1168 with data: {'Viable_Cross_Terms': (84, None)}.\n",
      "[INFO 04-06 17:52:17] ax.modelbridge.base: Leaving out out-of-design observations for arms: 729_0, 1035_0, 977_0, 489_0, 686_0, 1155_0, 1121_0, 1157_0, 775_0, 899_0\n",
      "[INFO 04-06 17:56:31] ax.service.ax_client: Generated new trial 1169 with parameters {'z_sh': 7, 'z_sh_1': 6, 'z_sh_2': 5, 'z_p2': 35, 'z_p2_1': 34, 'z_p2_2': 25, 'z_r2': 80, 'z_r2_1': 71, 'z_r2_2': 84, 'x_s': 0.5, 'x_s_1': 0.4, 'x_s_2': 0.3, 'x_p1': 0.608214, 'x_p1_1': 0.508214, 'x_p1_2': 0.408214, 'x_p2': 0.5, 'x_p2_1': 0.4, 'x_p2_2': 0.3, 'x_r2': 1.070641, 'x_r2_1': 0.970641, 'x_r2_2': 0.870641} using model BoTorch.\n",
      "[INFO 04-06 17:56:31] ax.service.ax_client: Completed trial 1169 with data: {'Viable_Cross_Terms': (83, None)}.\n",
      "[INFO 04-06 17:56:32] ax.modelbridge.base: Leaving out out-of-design observations for arms: 729_0, 1035_0, 977_0, 489_0, 686_0, 1155_0, 1121_0, 1157_0, 775_0, 899_0\n",
      "[INFO 04-06 18:01:06] ax.service.ax_client: Generated new trial 1170 with parameters {'z_sh': 7, 'z_sh_1': 14, 'z_sh_2': 5, 'z_p2': 27, 'z_p2_1': 26, 'z_p2_2': 25, 'z_r2': 85, 'z_r2_1': 77, 'z_r2_2': 84, 'x_s': 0.5, 'x_s_1': 0.4, 'x_s_2': 0.3, 'x_p1': 0.770176, 'x_p1_1': 0.670176, 'x_p1_2': 0.570176, 'x_p2': 0.5, 'x_p2_1': 0.4, 'x_p2_2': 0.3, 'x_r2': 1.062556, 'x_r2_1': 0.962556, 'x_r2_2': 0.862556} using model BoTorch.\n",
      "[INFO 04-06 18:01:06] ax.service.ax_client: Completed trial 1170 with data: {'Viable_Cross_Terms': (35, None)}.\n",
      "[INFO 04-06 18:01:07] ax.modelbridge.base: Leaving out out-of-design observations for arms: 729_0, 1035_0, 977_0, 489_0, 686_0, 1155_0, 1121_0, 1157_0, 775_0, 899_0\n",
      "[INFO 04-06 18:04:44] ax.service.ax_client: Generated new trial 1171 with parameters {'z_sh': 7, 'z_sh_1': 14, 'z_sh_2': 5, 'z_p2': 27, 'z_p2_1': 34, 'z_p2_2': 33, 'z_r2': 80, 'z_r2_1': 71, 'z_r2_2': 70, 'x_s': 0.5, 'x_s_1': 0.4, 'x_s_2': 0.3, 'x_p1': 0.610645, 'x_p1_1': 0.510645, 'x_p1_2': 0.410645, 'x_p2': 0.5, 'x_p2_1': 0.4, 'x_p2_2': 0.3, 'x_r2': 1.088572, 'x_r2_1': 0.988572, 'x_r2_2': 0.888572} using model BoTorch.\n",
      "[INFO 04-06 18:04:44] ax.service.ax_client: Completed trial 1171 with data: {'Viable_Cross_Terms': (77, None)}.\n",
      "[INFO 04-06 18:04:45] ax.modelbridge.base: Leaving out out-of-design observations for arms: 729_0, 1035_0, 977_0, 489_0, 686_0, 1155_0, 1121_0, 1157_0, 775_0, 899_0\n",
      "[INFO 04-06 18:09:29] ax.service.ax_client: Generated new trial 1172 with parameters {'z_sh': 7, 'z_sh_1': 7, 'z_sh_2': 5, 'z_p2': 28, 'z_p2_1': 30, 'z_p2_2': 25, 'z_r2': 82, 'z_r2_1': 73, 'z_r2_2': 82, 'x_s': 0.5, 'x_s_1': 0.4, 'x_s_2': 0.3, 'x_p1': -0.289231, 'x_p1_1': -0.389231, 'x_p1_2': -1.0, 'x_p2': 0.5, 'x_p2_1': -0.4, 'x_p2_2': -0.5, 'x_r2': 1.5, 'x_r2_1': -0.389315, 'x_r2_2': -1.5} using model BoTorch.\n",
      "[INFO 04-06 18:09:29] ax.service.ax_client: Completed trial 1172 with data: {'Viable_Cross_Terms': (9, None)}.\n",
      "[INFO 04-06 18:09:30] ax.modelbridge.base: Leaving out out-of-design observations for arms: 729_0, 1035_0, 977_0, 489_0, 686_0, 1155_0, 1121_0, 1157_0, 775_0, 899_0\n",
      "[INFO 04-06 18:13:19] ax.service.ax_client: Generated new trial 1173 with parameters {'z_sh': 7, 'z_sh_1': 14, 'z_sh_2': 5, 'z_p2': 27, 'z_p2_1': 26, 'z_p2_2': 33, 'z_r2': 80, 'z_r2_1': 85, 'z_r2_2': 84, 'x_s': 0.5, 'x_s_1': 0.4, 'x_s_2': 0.3, 'x_p1': 0.609202, 'x_p1_1': 0.509202, 'x_p1_2': 0.409202, 'x_p2': 0.5, 'x_p2_1': 0.4, 'x_p2_2': 0.3, 'x_r2': 1.093372, 'x_r2_1': 0.993372, 'x_r2_2': 0.893372} using model BoTorch.\n",
      "[INFO 04-06 18:13:19] ax.service.ax_client: Completed trial 1173 with data: {'Viable_Cross_Terms': (77, None)}.\n",
      "[INFO 04-06 18:13:20] ax.modelbridge.base: Leaving out out-of-design observations for arms: 729_0, 1035_0, 977_0, 489_0, 686_0, 1155_0, 1121_0, 1157_0, 775_0, 899_0\n",
      "[INFO 04-06 18:17:59] ax.service.ax_client: Generated new trial 1174 with parameters {'z_sh': 11, 'z_sh_1': 10, 'z_sh_2': 6, 'z_p2': 32, 'z_p2_1': 27, 'z_p2_2': 25, 'z_r2': 80, 'z_r2_1': 71, 'z_r2_2': 77, 'x_s': 0.5, 'x_s_1': 0.4, 'x_s_2': 0.3, 'x_p1': 0.609735, 'x_p1_1': 0.509735, 'x_p1_2': 0.409735, 'x_p2': 0.5, 'x_p2_1': 0.4, 'x_p2_2': 0.3, 'x_r2': 1.078553, 'x_r2_1': 0.978553, 'x_r2_2': 0.878553} using model BoTorch.\n",
      "[INFO 04-06 18:17:59] ax.service.ax_client: Completed trial 1174 with data: {'Viable_Cross_Terms': (35, None)}.\n",
      "[INFO 04-06 18:18:00] ax.modelbridge.base: Leaving out out-of-design observations for arms: 729_0, 1035_0, 977_0, 489_0, 686_0, 1155_0, 1121_0, 1157_0, 775_0, 899_0\n",
      "[INFO 04-06 18:22:38] ax.service.ax_client: Generated new trial 1175 with parameters {'z_sh': 7, 'z_sh_1': 6, 'z_sh_2': 5, 'z_p2': 35, 'z_p2_1': 34, 'z_p2_2': 33, 'z_r2': 80, 'z_r2_1': 85, 'z_r2_2': 84, 'x_s': 0.5, 'x_s_1': 0.4, 'x_s_2': 0.3, 'x_p1': 0.598563, 'x_p1_1': 0.498563, 'x_p1_2': 0.398563, 'x_p2': 0.5, 'x_p2_1': 0.4, 'x_p2_2': 0.3, 'x_r2': 1.07553, 'x_r2_1': 0.97553, 'x_r2_2': 0.87553} using model BoTorch.\n",
      "[INFO 04-06 18:22:38] ax.service.ax_client: Completed trial 1175 with data: {'Viable_Cross_Terms': (81, None)}.\n",
      "[INFO 04-06 18:22:39] ax.modelbridge.base: Leaving out out-of-design observations for arms: 729_0, 1035_0, 977_0, 489_0, 686_0, 1155_0, 1121_0, 1157_0, 775_0, 899_0\n",
      "[INFO 04-06 18:26:37] ax.service.ax_client: Generated new trial 1176 with parameters {'z_sh': 7, 'z_sh_1': 11, 'z_sh_2': 5, 'z_p2': 32, 'z_p2_1': 28, 'z_p2_2': 28, 'z_r2': 80, 'z_r2_1': 78, 'z_r2_2': 84, 'x_s': 0.5, 'x_s_1': 0.4, 'x_s_2': 0.3, 'x_p1': 0.601109, 'x_p1_1': 0.501109, 'x_p1_2': 0.401109, 'x_p2': 0.5, 'x_p2_1': 0.4, 'x_p2_2': 0.3, 'x_r2': 1.076939, 'x_r2_1': 0.976939, 'x_r2_2': 0.876939} using model BoTorch.\n",
      "[INFO 04-06 18:26:37] ax.service.ax_client: Completed trial 1176 with data: {'Viable_Cross_Terms': (81, None)}.\n",
      "[INFO 04-06 18:26:38] ax.modelbridge.base: Leaving out out-of-design observations for arms: 729_0, 1035_0, 977_0, 489_0, 686_0, 1155_0, 1121_0, 1157_0, 775_0, 899_0\n",
      "[INFO 04-06 18:30:38] ax.service.ax_client: Generated new trial 1177 with parameters {'z_sh': 7, 'z_sh_1': 8, 'z_sh_2': 5, 'z_p2': 34, 'z_p2_1': 33, 'z_p2_2': 32, 'z_r2': 80, 'z_r2_1': 72, 'z_r2_2': 79, 'x_s': 0.5, 'x_s_1': 0.4, 'x_s_2': 0.3, 'x_p1': 0.646392, 'x_p1_1': 0.546392, 'x_p1_2': 0.446392, 'x_p2': 0.5, 'x_p2_1': 0.4, 'x_p2_2': 0.3, 'x_r2': 1.128734, 'x_r2_1': 1.028734, 'x_r2_2': 0.928734} using model BoTorch.\n",
      "[INFO 04-06 18:30:38] ax.service.ax_client: Completed trial 1177 with data: {'Viable_Cross_Terms': (80, None)}.\n",
      "[INFO 04-06 18:30:40] ax.modelbridge.base: Leaving out out-of-design observations for arms: 729_0, 1035_0, 977_0, 489_0, 686_0, 1155_0, 1121_0, 1157_0, 775_0, 899_0\n",
      "[INFO 04-06 18:35:13] ax.service.ax_client: Generated new trial 1178 with parameters {'z_sh': 7, 'z_sh_1': 6, 'z_sh_2': 5, 'z_p2': 35, 'z_p2_1': 34, 'z_p2_2': 33, 'z_r2': 80, 'z_r2_1': 85, 'z_r2_2': 84, 'x_s': 0.5, 'x_s_1': 0.4, 'x_s_2': 0.3, 'x_p1': 0.629967, 'x_p1_1': 0.529967, 'x_p1_2': 0.429967, 'x_p2': 0.5, 'x_p2_1': 0.4, 'x_p2_2': 0.3, 'x_r2': 1.065634, 'x_r2_1': 0.965634, 'x_r2_2': 0.865634} using model BoTorch.\n",
      "[INFO 04-06 18:35:13] ax.service.ax_client: Completed trial 1178 with data: {'Viable_Cross_Terms': (84, None)}.\n",
      "[INFO 04-06 18:35:14] ax.modelbridge.base: Leaving out out-of-design observations for arms: 729_0, 1035_0, 977_0, 489_0, 686_0, 1155_0, 1121_0, 1157_0, 775_0, 899_0\n",
      "[INFO 04-06 18:39:31] ax.service.ax_client: Generated new trial 1179 with parameters {'z_sh': 7, 'z_sh_1': 14, 'z_sh_2': 5, 'z_p2': 27, 'z_p2_1': 26, 'z_p2_2': 25, 'z_r2': 85, 'z_r2_1': 85, 'z_r2_2': 84, 'x_s': 0.5, 'x_s_1': 0.4, 'x_s_2': 0.3, 'x_p1': 0.773503, 'x_p1_1': 0.673503, 'x_p1_2': 0.573503, 'x_p2': 0.5, 'x_p2_1': 0.4, 'x_p2_2': 0.3, 'x_r2': 1.064167, 'x_r2_1': 0.964167, 'x_r2_2': 0.864167} using model BoTorch.\n",
      "[INFO 04-06 18:39:31] ax.service.ax_client: Completed trial 1179 with data: {'Viable_Cross_Terms': (35, None)}.\n",
      "[INFO 04-06 18:39:32] ax.modelbridge.base: Leaving out out-of-design observations for arms: 729_0, 1035_0, 977_0, 489_0, 686_0, 1155_0, 1121_0, 1157_0, 775_0, 899_0\n",
      "[INFO 04-06 18:44:14] ax.service.ax_client: Generated new trial 1180 with parameters {'z_sh': 7, 'z_sh_1': 6, 'z_sh_2': 5, 'z_p2': 27, 'z_p2_1': 34, 'z_p2_2': 32, 'z_r2': 80, 'z_r2_1': 80, 'z_r2_2': 84, 'x_s': 0.5, 'x_s_1': 0.4, 'x_s_2': 0.3, 'x_p1': 0.631482, 'x_p1_1': 0.531482, 'x_p1_2': 0.431482, 'x_p2': 0.5, 'x_p2_1': 0.4, 'x_p2_2': 0.3, 'x_r2': 1.070343, 'x_r2_1': 0.970343, 'x_r2_2': 0.870343} using model BoTorch.\n",
      "[INFO 04-06 18:44:14] ax.service.ax_client: Completed trial 1180 with data: {'Viable_Cross_Terms': (82, None)}.\n",
      "[INFO 04-06 18:44:14] ax.modelbridge.base: Leaving out out-of-design observations for arms: 729_0, 1035_0, 977_0, 489_0, 686_0, 1155_0, 1121_0, 1157_0, 775_0, 899_0\n",
      "[INFO 04-06 18:50:02] ax.service.ax_client: Generated new trial 1181 with parameters {'z_sh': 7, 'z_sh_1': 6, 'z_sh_2': 5, 'z_p2': 27, 'z_p2_1': 34, 'z_p2_2': 33, 'z_r2': 80, 'z_r2_1': 72, 'z_r2_2': 84, 'x_s': 0.5, 'x_s_1': 0.4, 'x_s_2': 0.3, 'x_p1': 0.614319, 'x_p1_1': 0.514319, 'x_p1_2': 0.414319, 'x_p2': 0.5, 'x_p2_1': 0.4, 'x_p2_2': 0.3, 'x_r2': 1.073182, 'x_r2_1': 0.973182, 'x_r2_2': 0.873182} using model BoTorch.\n",
      "[INFO 04-06 18:50:02] ax.service.ax_client: Completed trial 1181 with data: {'Viable_Cross_Terms': (83, None)}.\n",
      "[INFO 04-06 18:50:03] ax.modelbridge.base: Leaving out out-of-design observations for arms: 729_0, 1035_0, 977_0, 489_0, 686_0, 1155_0, 1121_0, 1157_0, 775_0, 899_0\n",
      "[INFO 04-06 18:54:55] ax.service.ax_client: Generated new trial 1182 with parameters {'z_sh': 15, 'z_sh_1': 10, 'z_sh_2': 13, 'z_p2': 31, 'z_p2_1': 29, 'z_p2_2': 31, 'z_r2': 72, 'z_r2_1': 77, 'z_r2_2': 74, 'x_s': 0.5, 'x_s_1': 0.4, 'x_s_2': -0.5, 'x_p1': -0.350265, 'x_p1_1': -0.450265, 'x_p1_2': -1.0, 'x_p2': -0.3, 'x_p2_1': -0.4, 'x_p2_2': -0.5, 'x_r2': 1.5, 'x_r2_1': -0.685096, 'x_r2_2': -1.5} using model BoTorch.\n",
      "[INFO 04-06 18:54:55] ax.service.ax_client: Completed trial 1182 with data: {'Viable_Cross_Terms': (7, None)}.\n",
      "[INFO 04-06 18:54:56] ax.modelbridge.base: Leaving out out-of-design observations for arms: 729_0, 1035_0, 977_0, 489_0, 686_0, 1155_0, 1121_0, 1157_0, 775_0, 899_0\n",
      "[INFO 04-06 18:59:32] ax.service.ax_client: Generated new trial 1183 with parameters {'z_sh': 7, 'z_sh_1': 9, 'z_sh_2': 5, 'z_p2': 34, 'z_p2_1': 33, 'z_p2_2': 32, 'z_r2': 80, 'z_r2_1': 72, 'z_r2_2': 84, 'x_s': 0.5, 'x_s_1': 0.4, 'x_s_2': 0.3, 'x_p1': 0.560891, 'x_p1_1': 0.460891, 'x_p1_2': 0.360891, 'x_p2': 0.5, 'x_p2_1': 0.4, 'x_p2_2': 0.3, 'x_r2': 1.06076, 'x_r2_1': 0.96076, 'x_r2_2': 0.86076} using model BoTorch.\n",
      "[INFO 04-06 18:59:32] ax.service.ax_client: Completed trial 1183 with data: {'Viable_Cross_Terms': (76, None)}.\n",
      "[INFO 04-06 18:59:33] ax.modelbridge.base: Leaving out out-of-design observations for arms: 729_0, 1035_0, 977_0, 489_0, 686_0, 1155_0, 1121_0, 1157_0, 775_0, 899_0\n",
      "[INFO 04-06 19:03:53] ax.service.ax_client: Generated new trial 1184 with parameters {'z_sh': 7, 'z_sh_1': 6, 'z_sh_2': 5, 'z_p2': 34, 'z_p2_1': 33, 'z_p2_2': 32, 'z_r2': 80, 'z_r2_1': 71, 'z_r2_2': 74, 'x_s': 0.5, 'x_s_1': 0.4, 'x_s_2': 0.3, 'x_p1': 0.644952, 'x_p1_1': 0.544952, 'x_p1_2': 0.444952, 'x_p2': 0.5, 'x_p2_1': 0.4, 'x_p2_2': 0.3, 'x_r2': 1.070041, 'x_r2_1': 0.970041, 'x_r2_2': 0.870041} using model BoTorch.\n",
      "[INFO 04-06 19:03:53] ax.service.ax_client: Completed trial 1184 with data: {'Viable_Cross_Terms': (79, None)}.\n",
      "[INFO 04-06 19:03:54] ax.modelbridge.base: Leaving out out-of-design observations for arms: 729_0, 1035_0, 977_0, 489_0, 686_0, 1155_0, 1121_0, 1157_0, 775_0, 899_0\n",
      "[INFO 04-06 19:07:53] ax.service.ax_client: Generated new trial 1185 with parameters {'z_sh': 7, 'z_sh_1': 14, 'z_sh_2': 10, 'z_p2': 28, 'z_p2_1': 29, 'z_p2_2': 30, 'z_r2': 85, 'z_r2_1': 79, 'z_r2_2': 83, 'x_s': 0.5, 'x_s_1': 0.4, 'x_s_2': 0.3, 'x_p1': 0.657142, 'x_p1_1': 0.557142, 'x_p1_2': 0.457142, 'x_p2': 0.5, 'x_p2_1': 0.4, 'x_p2_2': 0.3, 'x_r2': 0.96422, 'x_r2_1': 0.86422, 'x_r2_2': 0.76422} using model BoTorch.\n",
      "[INFO 04-06 19:07:53] ax.service.ax_client: Completed trial 1185 with data: {'Viable_Cross_Terms': (32, None)}.\n",
      "[INFO 04-06 19:07:54] ax.modelbridge.base: Leaving out out-of-design observations for arms: 729_0, 1035_0, 977_0, 489_0, 686_0, 1155_0, 1121_0, 1157_0, 775_0, 899_0\n",
      "[INFO 04-06 19:12:54] ax.service.ax_client: Generated new trial 1186 with parameters {'z_sh': 9, 'z_sh_1': 11, 'z_sh_2': 7, 'z_p2': 34, 'z_p2_1': 31, 'z_p2_2': 27, 'z_r2': 85, 'z_r2_1': 79, 'z_r2_2': 77, 'x_s': 0.5, 'x_s_1': 0.4, 'x_s_2': 0.3, 'x_p1': 0.723869, 'x_p1_1': 0.623869, 'x_p1_2': 0.523869, 'x_p2': 0.5, 'x_p2_1': 0.4, 'x_p2_2': 0.3, 'x_r2': 1.027872, 'x_r2_1': 0.927872, 'x_r2_2': 0.827872} using model BoTorch.\n",
      "[INFO 04-06 19:12:54] ax.service.ax_client: Completed trial 1186 with data: {'Viable_Cross_Terms': (33, None)}.\n",
      "[INFO 04-06 19:12:54] ax.modelbridge.base: Leaving out out-of-design observations for arms: 729_0, 1035_0, 977_0, 489_0, 686_0, 1155_0, 1121_0, 1157_0, 775_0, 899_0\n",
      "[INFO 04-06 19:17:01] ax.service.ax_client: Generated new trial 1187 with parameters {'z_sh': 7, 'z_sh_1': 6, 'z_sh_2': 5, 'z_p2': 34, 'z_p2_1': 34, 'z_p2_2': 32, 'z_r2': 80, 'z_r2_1': 79, 'z_r2_2': 75, 'x_s': 0.5, 'x_s_1': 0.4, 'x_s_2': 0.3, 'x_p1': 0.598363, 'x_p1_1': 0.498363, 'x_p1_2': 0.398363, 'x_p2': 0.5, 'x_p2_1': 0.4, 'x_p2_2': 0.3, 'x_r2': 1.083756, 'x_r2_1': 0.983756, 'x_r2_2': 0.883756} using model BoTorch.\n",
      "[INFO 04-06 19:17:01] ax.service.ax_client: Completed trial 1187 with data: {'Viable_Cross_Terms': (81, None)}.\n",
      "[INFO 04-06 19:17:02] ax.modelbridge.base: Leaving out out-of-design observations for arms: 729_0, 1035_0, 977_0, 489_0, 686_0, 1155_0, 1121_0, 1157_0, 775_0, 899_0\n",
      "[INFO 04-06 19:21:27] ax.service.ax_client: Generated new trial 1188 with parameters {'z_sh': 7, 'z_sh_1': 6, 'z_sh_2': 5, 'z_p2': 34, 'z_p2_1': 33, 'z_p2_2': 32, 'z_r2': 80, 'z_r2_1': 79, 'z_r2_2': 83, 'x_s': 0.5, 'x_s_1': 0.4, 'x_s_2': 0.3, 'x_p1': 0.652213, 'x_p1_1': 0.552213, 'x_p1_2': 0.452213, 'x_p2': 0.5, 'x_p2_1': 0.4, 'x_p2_2': 0.3, 'x_r2': 1.125576, 'x_r2_1': 1.025576, 'x_r2_2': 0.925576} using model BoTorch.\n",
      "[INFO 04-06 19:21:27] ax.service.ax_client: Completed trial 1188 with data: {'Viable_Cross_Terms': (82, None)}.\n",
      "[INFO 04-06 19:21:27] ax.modelbridge.base: Leaving out out-of-design observations for arms: 729_0, 1035_0, 977_0, 489_0, 686_0, 1155_0, 1121_0, 1157_0, 775_0, 899_0\n",
      "[INFO 04-06 19:26:35] ax.service.ax_client: Generated new trial 1189 with parameters {'z_sh': 7, 'z_sh_1': 14, 'z_sh_2': 5, 'z_p2': 27, 'z_p2_1': 26, 'z_p2_2': 25, 'z_r2': 85, 'z_r2_1': 76, 'z_r2_2': 84, 'x_s': 0.5, 'x_s_1': 0.4, 'x_s_2': 0.3, 'x_p1': 0.780252, 'x_p1_1': 0.680252, 'x_p1_2': 0.580252, 'x_p2': 0.5, 'x_p2_1': 0.4, 'x_p2_2': 0.3, 'x_r2': 1.068063, 'x_r2_1': 0.968063, 'x_r2_2': 0.868063} using model BoTorch.\n",
      "[INFO 04-06 19:26:35] ax.service.ax_client: Completed trial 1189 with data: {'Viable_Cross_Terms': (37, None)}.\n",
      "[INFO 04-06 19:26:36] ax.modelbridge.base: Leaving out out-of-design observations for arms: 729_0, 1035_0, 977_0, 489_0, 686_0, 1155_0, 1121_0, 1157_0, 775_0, 899_0\n",
      "[INFO 04-06 19:31:36] ax.service.ax_client: Generated new trial 1190 with parameters {'z_sh': 7, 'z_sh_1': 14, 'z_sh_2': 5, 'z_p2': 27, 'z_p2_1': 26, 'z_p2_2': 28, 'z_r2': 85, 'z_r2_1': 83, 'z_r2_2': 84, 'x_s': 0.5, 'x_s_1': 0.4, 'x_s_2': 0.3, 'x_p1': 0.778752, 'x_p1_1': 0.678752, 'x_p1_2': 0.578752, 'x_p2': 0.5, 'x_p2_1': 0.4, 'x_p2_2': 0.3, 'x_r2': 1.069915, 'x_r2_1': 0.969915, 'x_r2_2': 0.869915} using model BoTorch.\n",
      "[INFO 04-06 19:31:36] ax.service.ax_client: Completed trial 1190 with data: {'Viable_Cross_Terms': (34, None)}.\n",
      "[INFO 04-06 19:31:36] ax.modelbridge.base: Leaving out out-of-design observations for arms: 729_0, 1035_0, 977_0, 489_0, 686_0, 1155_0, 1121_0, 1157_0, 775_0, 899_0\n",
      "[INFO 04-06 19:35:51] ax.service.ax_client: Generated new trial 1191 with parameters {'z_sh': 7, 'z_sh_1': 6, 'z_sh_2': 5, 'z_p2': 32, 'z_p2_1': 34, 'z_p2_2': 25, 'z_r2': 80, 'z_r2_1': 84, 'z_r2_2': 84, 'x_s': 0.5, 'x_s_1': 0.4, 'x_s_2': 0.3, 'x_p1': 0.617545, 'x_p1_1': 0.517545, 'x_p1_2': 0.417545, 'x_p2': 0.5, 'x_p2_1': 0.4, 'x_p2_2': 0.3, 'x_r2': 1.073247, 'x_r2_1': 0.973247, 'x_r2_2': 0.873247} using model BoTorch.\n",
      "[INFO 04-06 19:35:51] ax.service.ax_client: Completed trial 1191 with data: {'Viable_Cross_Terms': (83, None)}.\n",
      "[INFO 04-06 19:35:52] ax.modelbridge.base: Leaving out out-of-design observations for arms: 729_0, 1035_0, 977_0, 489_0, 686_0, 1155_0, 1121_0, 1157_0, 775_0, 899_0\n",
      "[INFO 04-06 19:40:09] ax.service.ax_client: Generated new trial 1192 with parameters {'z_sh': 7, 'z_sh_1': 10, 'z_sh_2': 5, 'z_p2': 35, 'z_p2_1': 34, 'z_p2_2': 32, 'z_r2': 80, 'z_r2_1': 79, 'z_r2_2': 74, 'x_s': 0.5, 'x_s_1': 0.4, 'x_s_2': 0.3, 'x_p1': 0.601855, 'x_p1_1': 0.501855, 'x_p1_2': 0.401855, 'x_p2': 0.5, 'x_p2_1': 0.4, 'x_p2_2': 0.3, 'x_r2': 1.060401, 'x_r2_1': 0.960401, 'x_r2_2': 0.860401} using model BoTorch.\n",
      "[INFO 04-06 19:40:09] ax.service.ax_client: Completed trial 1192 with data: {'Viable_Cross_Terms': (83, None)}.\n",
      "[INFO 04-06 19:40:09] ax.modelbridge.base: Leaving out out-of-design observations for arms: 729_0, 1035_0, 977_0, 489_0, 686_0, 1155_0, 1121_0, 1157_0, 775_0, 899_0\n",
      "[INFO 04-06 19:44:34] ax.service.ax_client: Generated new trial 1193 with parameters {'z_sh': 7, 'z_sh_1': 6, 'z_sh_2': 5, 'z_p2': 35, 'z_p2_1': 33, 'z_p2_2': 32, 'z_r2': 80, 'z_r2_1': 78, 'z_r2_2': 84, 'x_s': 0.5, 'x_s_1': 0.4, 'x_s_2': 0.3, 'x_p1': 0.643954, 'x_p1_1': 0.543954, 'x_p1_2': 0.443954, 'x_p2': 0.5, 'x_p2_1': 0.4, 'x_p2_2': 0.3, 'x_r2': 1.054841, 'x_r2_1': 0.954841, 'x_r2_2': 0.854841} using model BoTorch.\n",
      "[INFO 04-06 19:44:34] ax.service.ax_client: Completed trial 1193 with data: {'Viable_Cross_Terms': (84, None)}.\n",
      "[INFO 04-06 19:44:36] ax.modelbridge.base: Leaving out out-of-design observations for arms: 729_0, 1035_0, 977_0, 489_0, 686_0, 1155_0, 1121_0, 1157_0, 775_0, 899_0\n",
      "[INFO 04-06 19:48:42] ax.service.ax_client: Generated new trial 1194 with parameters {'z_sh': 13, 'z_sh_1': 7, 'z_sh_2': 5, 'z_p2': 31, 'z_p2_1': 30, 'z_p2_2': 28, 'z_r2': 80, 'z_r2_1': 75, 'z_r2_2': 78, 'x_s': 0.5, 'x_s_1': 0.4, 'x_s_2': 0.3, 'x_p1': 0.608764, 'x_p1_1': 0.508764, 'x_p1_2': 0.408764, 'x_p2': 0.5, 'x_p2_1': 0.4, 'x_p2_2': 0.3, 'x_r2': 1.084436, 'x_r2_1': 0.984436, 'x_r2_2': 0.884436} using model BoTorch.\n",
      "[INFO 04-06 19:48:42] ax.service.ax_client: Completed trial 1194 with data: {'Viable_Cross_Terms': (94, None)}.\n",
      "[INFO 04-06 19:48:42] ax.modelbridge.base: Leaving out out-of-design observations for arms: 729_0, 1035_0, 977_0, 489_0, 686_0, 1155_0, 1121_0, 1157_0, 775_0, 899_0\n",
      "[INFO 04-06 19:53:18] ax.service.ax_client: Generated new trial 1195 with parameters {'z_sh': 7, 'z_sh_1': 6, 'z_sh_2': 5, 'z_p2': 35, 'z_p2_1': 34, 'z_p2_2': 31, 'z_r2': 80, 'z_r2_1': 85, 'z_r2_2': 70, 'x_s': 0.5, 'x_s_1': 0.4, 'x_s_2': 0.3, 'x_p1': 0.608647, 'x_p1_1': 0.508647, 'x_p1_2': 0.408647, 'x_p2': 0.5, 'x_p2_1': 0.4, 'x_p2_2': 0.3, 'x_r2': 1.082105, 'x_r2_1': 0.982105, 'x_r2_2': 0.882105} using model BoTorch.\n",
      "[INFO 04-06 19:53:18] ax.service.ax_client: Completed trial 1195 with data: {'Viable_Cross_Terms': (90, None)}.\n",
      "[INFO 04-06 19:53:19] ax.modelbridge.base: Leaving out out-of-design observations for arms: 729_0, 1035_0, 977_0, 489_0, 686_0, 1155_0, 1121_0, 1157_0, 775_0, 899_0\n",
      "[INFO 04-06 19:58:02] ax.service.ax_client: Generated new trial 1196 with parameters {'z_sh': 7, 'z_sh_1': 6, 'z_sh_2': 5, 'z_p2': 33, 'z_p2_1': 34, 'z_p2_2': 25, 'z_r2': 80, 'z_r2_1': 85, 'z_r2_2': 84, 'x_s': 0.5, 'x_s_1': 0.4, 'x_s_2': 0.3, 'x_p1': 0.586718, 'x_p1_1': 0.486718, 'x_p1_2': 0.386718, 'x_p2': 0.5, 'x_p2_1': 0.4, 'x_p2_2': 0.3, 'x_r2': 1.099, 'x_r2_1': 0.999, 'x_r2_2': 0.899} using model BoTorch.\n",
      "[INFO 04-06 19:58:02] ax.service.ax_client: Completed trial 1196 with data: {'Viable_Cross_Terms': (72, None)}.\n",
      "[INFO 04-06 19:58:04] ax.modelbridge.base: Leaving out out-of-design observations for arms: 729_0, 1035_0, 977_0, 489_0, 686_0, 1155_0, 1121_0, 1157_0, 775_0, 899_0\n",
      "[INFO 04-06 20:02:22] ax.service.ax_client: Generated new trial 1197 with parameters {'z_sh': 7, 'z_sh_1': 6, 'z_sh_2': 5, 'z_p2': 30, 'z_p2_1': 34, 'z_p2_2': 33, 'z_r2': 80, 'z_r2_1': 81, 'z_r2_2': 84, 'x_s': 0.5, 'x_s_1': 0.4, 'x_s_2': 0.3, 'x_p1': 0.623137, 'x_p1_1': 0.523137, 'x_p1_2': 0.423137, 'x_p2': 0.5, 'x_p2_1': 0.4, 'x_p2_2': 0.3, 'x_r2': 1.088025, 'x_r2_1': 0.988025, 'x_r2_2': 0.888025} using model BoTorch.\n",
      "[INFO 04-06 20:02:22] ax.service.ax_client: Completed trial 1197 with data: {'Viable_Cross_Terms': (80, None)}.\n",
      "[INFO 04-06 20:02:22] ax.modelbridge.base: Leaving out out-of-design observations for arms: 729_0, 1035_0, 977_0, 489_0, 686_0, 1155_0, 1121_0, 1157_0, 775_0, 899_0\n",
      "[INFO 04-06 20:06:13] ax.service.ax_client: Generated new trial 1198 with parameters {'z_sh': 7, 'z_sh_1': 14, 'z_sh_2': 5, 'z_p2': 35, 'z_p2_1': 26, 'z_p2_2': 33, 'z_r2': 80, 'z_r2_1': 71, 'z_r2_2': 84, 'x_s': 0.5, 'x_s_1': 0.4, 'x_s_2': 0.3, 'x_p1': 0.573676, 'x_p1_1': 0.473676, 'x_p1_2': 0.373676, 'x_p2': 0.5, 'x_p2_1': 0.4, 'x_p2_2': 0.3, 'x_r2': 1.076266, 'x_r2_1': 0.976266, 'x_r2_2': 0.876266} using model BoTorch.\n",
      "[INFO 04-06 20:06:13] ax.service.ax_client: Completed trial 1198 with data: {'Viable_Cross_Terms': (72, None)}.\n",
      "[INFO 04-06 20:06:14] ax.modelbridge.base: Leaving out out-of-design observations for arms: 729_0, 1035_0, 977_0, 489_0, 686_0, 1155_0, 1121_0, 1157_0, 775_0, 899_0\n",
      "[INFO 04-06 20:12:02] ax.service.ax_client: Generated new trial 1199 with parameters {'z_sh': 7, 'z_sh_1': 6, 'z_sh_2': 5, 'z_p2': 27, 'z_p2_1': 34, 'z_p2_2': 32, 'z_r2': 80, 'z_r2_1': 77, 'z_r2_2': 84, 'x_s': 0.5, 'x_s_1': 0.4, 'x_s_2': 0.3, 'x_p1': 0.611507, 'x_p1_1': 0.511507, 'x_p1_2': 0.411507, 'x_p2': 0.5, 'x_p2_1': 0.4, 'x_p2_2': 0.3, 'x_r2': 1.073328, 'x_r2_1': 0.973328, 'x_r2_2': 0.873328} using model BoTorch.\n",
      "[INFO 04-06 20:12:02] ax.service.ax_client: Completed trial 1199 with data: {'Viable_Cross_Terms': (83, None)}.\n",
      "[INFO 04-06 20:12:03] ax.modelbridge.base: Leaving out out-of-design observations for arms: 729_0, 1035_0, 977_0, 489_0, 686_0, 1155_0, 1121_0, 1157_0, 775_0, 899_0\n",
      "[INFO 04-06 20:17:14] ax.service.ax_client: Generated new trial 1200 with parameters {'z_sh': 12, 'z_sh_1': 11, 'z_sh_2': 13, 'z_p2': 30, 'z_p2_1': 34, 'z_p2_2': 28, 'z_r2': 82, 'z_r2_1': 85, 'z_r2_2': 82, 'x_s': 0.5, 'x_s_1': 0.4, 'x_s_2': 0.3, 'x_p1': 0.534232, 'x_p1_1': 0.434232, 'x_p1_2': 0.334232, 'x_p2': 0.5, 'x_p2_1': 0.4, 'x_p2_2': 0.3, 'x_r2': 0.94972, 'x_r2_1': 0.84972, 'x_r2_2': 0.74972} using model BoTorch.\n",
      "[INFO 04-06 20:17:14] ax.service.ax_client: Completed trial 1200 with data: {'Viable_Cross_Terms': (34, None)}.\n",
      "[INFO 04-06 20:17:15] ax.modelbridge.base: Leaving out out-of-design observations for arms: 729_0, 1035_0, 977_0, 489_0, 686_0, 1155_0, 1121_0, 1157_0, 775_0, 899_0\n",
      "[INFO 04-06 20:21:36] ax.service.ax_client: Generated new trial 1201 with parameters {'z_sh': 7, 'z_sh_1': 11, 'z_sh_2': 5, 'z_p2': 28, 'z_p2_1': 28, 'z_p2_2': 30, 'z_r2': 80, 'z_r2_1': 75, 'z_r2_2': 78, 'x_s': 0.5, 'x_s_1': 0.4, 'x_s_2': 0.3, 'x_p1': 0.610733, 'x_p1_1': 0.510733, 'x_p1_2': 0.410733, 'x_p2': 0.5, 'x_p2_1': 0.4, 'x_p2_2': 0.3, 'x_r2': 1.080516, 'x_r2_1': 0.980516, 'x_r2_2': 0.880516} using model BoTorch.\n",
      "[INFO 04-06 20:21:36] ax.service.ax_client: Completed trial 1201 with data: {'Viable_Cross_Terms': (81, None)}.\n",
      "[INFO 04-06 20:21:37] ax.modelbridge.base: Leaving out out-of-design observations for arms: 729_0, 1035_0, 977_0, 489_0, 686_0, 1155_0, 1121_0, 1157_0, 775_0, 899_0\n",
      "[INFO 04-06 20:26:36] ax.service.ax_client: Generated new trial 1202 with parameters {'z_sh': 7, 'z_sh_1': 6, 'z_sh_2': 5, 'z_p2': 34, 'z_p2_1': 34, 'z_p2_2': 32, 'z_r2': 80, 'z_r2_1': 80, 'z_r2_2': 73, 'x_s': 0.5, 'x_s_1': 0.4, 'x_s_2': 0.3, 'x_p1': 0.618161, 'x_p1_1': 0.518161, 'x_p1_2': 0.418161, 'x_p2': 0.5, 'x_p2_1': 0.4, 'x_p2_2': 0.3, 'x_r2': 1.05864, 'x_r2_1': 0.95864, 'x_r2_2': 0.85864} using model BoTorch.\n",
      "[INFO 04-06 20:26:36] ax.service.ax_client: Completed trial 1202 with data: {'Viable_Cross_Terms': (82, None)}.\n",
      "[INFO 04-06 20:26:38] ax.modelbridge.base: Leaving out out-of-design observations for arms: 729_0, 1035_0, 977_0, 489_0, 686_0, 1155_0, 1121_0, 1157_0, 775_0, 899_0\n",
      "[INFO 04-06 20:30:46] ax.service.ax_client: Generated new trial 1203 with parameters {'z_sh': 7, 'z_sh_1': 6, 'z_sh_2': 5, 'z_p2': 27, 'z_p2_1': 28, 'z_p2_2': 28, 'z_r2': 77, 'z_r2_1': 71, 'z_r2_2': 83, 'x_s': 0.5, 'x_s_1': 0.4, 'x_s_2': 0.3, 'x_p1': 0.583417, 'x_p1_1': 0.483417, 'x_p1_2': 0.383417, 'x_p2': 0.5, 'x_p2_1': 0.4, 'x_p2_2': 0.3, 'x_r2': 0.964661, 'x_r2_1': 0.864661, 'x_r2_2': 0.764661} using model BoTorch.\n",
      "[INFO 04-06 20:30:46] ax.service.ax_client: Completed trial 1203 with data: {'Viable_Cross_Terms': (36, None)}.\n",
      "[INFO 04-06 20:30:47] ax.modelbridge.base: Leaving out out-of-design observations for arms: 729_0, 1035_0, 977_0, 489_0, 686_0, 1155_0, 1121_0, 1157_0, 775_0, 899_0\n",
      "[INFO 04-06 20:35:05] ax.service.ax_client: Generated new trial 1204 with parameters {'z_sh': 7, 'z_sh_1': 6, 'z_sh_2': 5, 'z_p2': 27, 'z_p2_1': 34, 'z_p2_2': 33, 'z_r2': 80, 'z_r2_1': 85, 'z_r2_2': 84, 'x_s': 0.5, 'x_s_1': 0.4, 'x_s_2': 0.3, 'x_p1': 0.621788, 'x_p1_1': 0.521788, 'x_p1_2': 0.421788, 'x_p2': 0.5, 'x_p2_1': 0.4, 'x_p2_2': 0.3, 'x_r2': 1.073887, 'x_r2_1': 0.973887, 'x_r2_2': 0.873887} using model BoTorch.\n",
      "[INFO 04-06 20:35:05] ax.service.ax_client: Completed trial 1204 with data: {'Viable_Cross_Terms': (83, None)}.\n",
      "[INFO 04-06 20:35:06] ax.modelbridge.base: Leaving out out-of-design observations for arms: 729_0, 1035_0, 977_0, 489_0, 686_0, 1155_0, 1121_0, 1157_0, 775_0, 899_0\n",
      "[INFO 04-06 20:40:01] ax.service.ax_client: Generated new trial 1205 with parameters {'z_sh': 10, 'z_sh_1': 14, 'z_sh_2': 6, 'z_p2': 31, 'z_p2_1': 31, 'z_p2_2': 33, 'z_r2': 76, 'z_r2_1': 71, 'z_r2_2': 84, 'x_s': 0.5, 'x_s_1': 0.4, 'x_s_2': 0.3, 'x_p1': 0.251817, 'x_p1_1': 0.151817, 'x_p1_2': -1.0, 'x_p2': 0.5, 'x_p2_1': 0.4, 'x_p2_2': 0.3, 'x_r2': 0.404103, 'x_r2_1': 0.304103, 'x_r2_2': 0.204103} using model BoTorch.\n",
      "[INFO 04-06 20:40:01] ax.service.ax_client: Completed trial 1205 with data: {'Viable_Cross_Terms': (4, None)}.\n",
      "[INFO 04-06 20:40:03] ax.modelbridge.base: Leaving out out-of-design observations for arms: 729_0, 1035_0, 977_0, 489_0, 686_0, 1155_0, 1121_0, 1157_0, 775_0, 899_0\n",
      "[INFO 04-06 20:44:34] ax.service.ax_client: Generated new trial 1206 with parameters {'z_sh': 7, 'z_sh_1': 6, 'z_sh_2': 5, 'z_p2': 34, 'z_p2_1': 34, 'z_p2_2': 32, 'z_r2': 80, 'z_r2_1': 71, 'z_r2_2': 80, 'x_s': 0.5, 'x_s_1': 0.4, 'x_s_2': 0.3, 'x_p1': 0.598447, 'x_p1_1': 0.498447, 'x_p1_2': 0.398447, 'x_p2': 0.5, 'x_p2_1': 0.4, 'x_p2_2': 0.3, 'x_r2': 1.106303, 'x_r2_1': 1.006303, 'x_r2_2': 0.906303} using model BoTorch.\n",
      "[INFO 04-06 20:44:34] ax.service.ax_client: Completed trial 1206 with data: {'Viable_Cross_Terms': (72, None)}.\n",
      "[INFO 04-06 20:44:34] ax.modelbridge.base: Leaving out out-of-design observations for arms: 729_0, 1035_0, 977_0, 489_0, 686_0, 1155_0, 1121_0, 1157_0, 775_0, 899_0\n",
      "[INFO 04-06 20:49:22] ax.service.ax_client: Generated new trial 1207 with parameters {'z_sh': 7, 'z_sh_1': 14, 'z_sh_2': 5, 'z_p2': 27, 'z_p2_1': 26, 'z_p2_2': 33, 'z_r2': 86, 'z_r2_1': 71, 'z_r2_2': 70, 'x_s': 0.5, 'x_s_1': 0.4, 'x_s_2': 0.3, 'x_p1': -0.8, 'x_p1_1': -0.9, 'x_p1_2': -1.0, 'x_p2': 0.5, 'x_p2_1': 0.4, 'x_p2_2': 0.3, 'x_r2': 1.5, 'x_r2_1': 0.81702, 'x_r2_2': 0.71702} using model BoTorch.\n",
      "[INFO 04-06 20:49:22] ax.service.ax_client: Completed trial 1207 with data: {'Viable_Cross_Terms': (0, None)}.\n",
      "[INFO 04-06 20:49:23] ax.modelbridge.base: Leaving out out-of-design observations for arms: 729_0, 1035_0, 977_0, 489_0, 686_0, 1155_0, 1121_0, 1157_0, 775_0, 899_0\n",
      "[INFO 04-06 20:53:59] ax.service.ax_client: Generated new trial 1208 with parameters {'z_sh': 8, 'z_sh_1': 8, 'z_sh_2': 5, 'z_p2': 32, 'z_p2_1': 28, 'z_p2_2': 27, 'z_r2': 77, 'z_r2_1': 85, 'z_r2_2': 71, 'x_s': 0.5, 'x_s_1': 0.4, 'x_s_2': 0.3, 'x_p1': 0.594844, 'x_p1_1': 0.494844, 'x_p1_2': 0.394844, 'x_p2': 0.5, 'x_p2_1': 0.4, 'x_p2_2': 0.3, 'x_r2': 0.969124, 'x_r2_1': 0.869124, 'x_r2_2': 0.769124} using model BoTorch.\n",
      "[INFO 04-06 20:53:59] ax.service.ax_client: Completed trial 1208 with data: {'Viable_Cross_Terms': (36, None)}.\n",
      "[INFO 04-06 20:54:00] ax.modelbridge.base: Leaving out out-of-design observations for arms: 729_0, 1035_0, 977_0, 489_0, 686_0, 1155_0, 1121_0, 1157_0, 775_0, 899_0\n",
      "[INFO 04-06 20:58:04] ax.service.ax_client: Generated new trial 1209 with parameters {'z_sh': 7, 'z_sh_1': 14, 'z_sh_2': 5, 'z_p2': 27, 'z_p2_1': 26, 'z_p2_2': 25, 'z_r2': 85, 'z_r2_1': 80, 'z_r2_2': 84, 'x_s': 0.5, 'x_s_1': 0.4, 'x_s_2': 0.3, 'x_p1': 0.781265, 'x_p1_1': 0.681265, 'x_p1_2': 0.581265, 'x_p2': 0.5, 'x_p2_1': 0.4, 'x_p2_2': 0.3, 'x_r2': 1.071609, 'x_r2_1': 0.971609, 'x_r2_2': 0.871609} using model BoTorch.\n",
      "[INFO 04-06 20:58:04] ax.service.ax_client: Completed trial 1209 with data: {'Viable_Cross_Terms': (78, None)}.\n",
      "[INFO 04-06 20:58:05] ax.modelbridge.base: Leaving out out-of-design observations for arms: 729_0, 1035_0, 977_0, 489_0, 686_0, 1155_0, 1121_0, 1157_0, 775_0, 899_0\n",
      "[INFO 04-06 21:02:58] ax.service.ax_client: Generated new trial 1210 with parameters {'z_sh': 7, 'z_sh_1': 6, 'z_sh_2': 5, 'z_p2': 27, 'z_p2_1': 34, 'z_p2_2': 32, 'z_r2': 80, 'z_r2_1': 78, 'z_r2_2': 84, 'x_s': 0.5, 'x_s_1': 0.4, 'x_s_2': 0.3, 'x_p1': 0.618444, 'x_p1_1': 0.518444, 'x_p1_2': 0.418444, 'x_p2': 0.5, 'x_p2_1': 0.4, 'x_p2_2': 0.3, 'x_r2': 1.081749, 'x_r2_1': 0.981749, 'x_r2_2': 0.881749} using model BoTorch.\n",
      "[INFO 04-06 21:02:58] ax.service.ax_client: Completed trial 1210 with data: {'Viable_Cross_Terms': (84, None)}.\n",
      "[INFO 04-06 21:02:59] ax.modelbridge.base: Leaving out out-of-design observations for arms: 729_0, 1035_0, 977_0, 489_0, 686_0, 1155_0, 1121_0, 1157_0, 775_0, 899_0\n",
      "[INFO 04-06 21:09:15] ax.service.ax_client: Generated new trial 1211 with parameters {'z_sh': 9, 'z_sh_1': 13, 'z_sh_2': 13, 'z_p2': 32, 'z_p2_1': 32, 'z_p2_2': 27, 'z_r2': 73, 'z_r2_1': 72, 'z_r2_2': 76, 'x_s': 0.5, 'x_s_1': 0.4, 'x_s_2': 0.3, 'x_p1': 0.442172, 'x_p1_1': 0.342172, 'x_p1_2': 0.242172, 'x_p2': 0.5, 'x_p2_1': -0.298495, 'x_p2_2': -0.5, 'x_r2': 1.102421, 'x_r2_1': 1.002421, 'x_r2_2': 0.892579} using model BoTorch.\n",
      "[INFO 04-06 21:09:15] ax.service.ax_client: Completed trial 1211 with data: {'Viable_Cross_Terms': (10, None)}.\n",
      "[INFO 04-06 21:09:17] ax.modelbridge.base: Leaving out out-of-design observations for arms: 729_0, 1035_0, 977_0, 489_0, 686_0, 1155_0, 1121_0, 1157_0, 775_0, 899_0\n",
      "[INFO 04-06 21:14:01] ax.service.ax_client: Generated new trial 1212 with parameters {'z_sh': 7, 'z_sh_1': 14, 'z_sh_2': 5, 'z_p2': 27, 'z_p2_1': 34, 'z_p2_2': 33, 'z_r2': 80, 'z_r2_1': 85, 'z_r2_2': 84, 'x_s': 0.5, 'x_s_1': 0.4, 'x_s_2': 0.3, 'x_p1': 0.604603, 'x_p1_1': 0.504603, 'x_p1_2': 0.404603, 'x_p2': 0.5, 'x_p2_1': 0.4, 'x_p2_2': 0.3, 'x_r2': 1.081062, 'x_r2_1': 0.981062, 'x_r2_2': 0.881062} using model BoTorch.\n",
      "[INFO 04-06 21:14:01] ax.service.ax_client: Completed trial 1212 with data: {'Viable_Cross_Terms': (80, None)}.\n",
      "[INFO 04-06 21:14:02] ax.modelbridge.base: Leaving out out-of-design observations for arms: 729_0, 1035_0, 977_0, 489_0, 686_0, 1155_0, 1121_0, 1157_0, 775_0, 899_0\n",
      "[INFO 04-06 21:18:43] ax.service.ax_client: Generated new trial 1213 with parameters {'z_sh': 7, 'z_sh_1': 8, 'z_sh_2': 5, 'z_p2': 34, 'z_p2_1': 34, 'z_p2_2': 32, 'z_r2': 80, 'z_r2_1': 71, 'z_r2_2': 83, 'x_s': 0.5, 'x_s_1': 0.4, 'x_s_2': 0.3, 'x_p1': 0.635458, 'x_p1_1': 0.535458, 'x_p1_2': 0.435458, 'x_p2': 0.5, 'x_p2_1': 0.4, 'x_p2_2': 0.3, 'x_r2': 1.064117, 'x_r2_1': 0.964117, 'x_r2_2': 0.864117} using model BoTorch.\n",
      "[INFO 04-06 21:18:43] ax.service.ax_client: Completed trial 1213 with data: {'Viable_Cross_Terms': (85, None)}.\n",
      "[INFO 04-06 21:18:44] ax.modelbridge.base: Leaving out out-of-design observations for arms: 729_0, 1035_0, 977_0, 489_0, 686_0, 1155_0, 1121_0, 1157_0, 775_0, 899_0\n",
      "[INFO 04-06 21:23:39] ax.service.ax_client: Generated new trial 1214 with parameters {'z_sh': 7, 'z_sh_1': 10, 'z_sh_2': 5, 'z_p2': 28, 'z_p2_1': 33, 'z_p2_2': 27, 'z_r2': 80, 'z_r2_1': 83, 'z_r2_2': 81, 'x_s': 0.5, 'x_s_1': 0.4, 'x_s_2': 0.3, 'x_p1': 0.586272, 'x_p1_1': 0.486272, 'x_p1_2': 0.386272, 'x_p2': 0.5, 'x_p2_1': 0.4, 'x_p2_2': 0.3, 'x_r2': 1.070548, 'x_r2_1': 0.970548, 'x_r2_2': 0.870548} using model BoTorch.\n",
      "[INFO 04-06 21:23:39] ax.service.ax_client: Completed trial 1214 with data: {'Viable_Cross_Terms': (80, None)}.\n",
      "[INFO 04-06 21:23:39] ax.modelbridge.base: Leaving out out-of-design observations for arms: 729_0, 1035_0, 977_0, 489_0, 686_0, 1155_0, 1121_0, 1157_0, 775_0, 899_0\n",
      "[INFO 04-06 21:28:26] ax.service.ax_client: Generated new trial 1215 with parameters {'z_sh': 15, 'z_sh_1': 7, 'z_sh_2': 5, 'z_p2': 29, 'z_p2_1': 32, 'z_p2_2': 27, 'z_r2': 80, 'z_r2_1': 85, 'z_r2_2': 80, 'x_s': 0.5, 'x_s_1': 0.4, 'x_s_2': -0.5, 'x_p1': 1.0, 'x_p1_1': -0.9, 'x_p1_2': -1.0, 'x_p2': 0.5, 'x_p2_1': 0.4, 'x_p2_2': -0.5, 'x_r2': 0.063256, 'x_r2_1': -0.036744, 'x_r2_2': -1.5} using model BoTorch.\n",
      "[INFO 04-06 21:28:26] ax.service.ax_client: Completed trial 1215 with data: {'Viable_Cross_Terms': (3, None)}.\n",
      "[INFO 04-06 21:28:26] ax.modelbridge.base: Leaving out out-of-design observations for arms: 729_0, 1035_0, 977_0, 489_0, 686_0, 1155_0, 1121_0, 1157_0, 775_0, 899_0\n",
      "[INFO 04-06 21:32:54] ax.service.ax_client: Generated new trial 1216 with parameters {'z_sh': 7, 'z_sh_1': 6, 'z_sh_2': 5, 'z_p2': 34, 'z_p2_1': 34, 'z_p2_2': 32, 'z_r2': 80, 'z_r2_1': 81, 'z_r2_2': 80, 'x_s': 0.5, 'x_s_1': 0.4, 'x_s_2': 0.3, 'x_p1': 0.648023, 'x_p1_1': 0.548023, 'x_p1_2': 0.448023, 'x_p2': 0.5, 'x_p2_1': 0.4, 'x_p2_2': 0.3, 'x_r2': 1.082627, 'x_r2_1': 0.982627, 'x_r2_2': 0.882627} using model BoTorch.\n",
      "[INFO 04-06 21:32:54] ax.service.ax_client: Completed trial 1216 with data: {'Viable_Cross_Terms': (82, None)}.\n",
      "[INFO 04-06 21:32:54] ax.modelbridge.base: Leaving out out-of-design observations for arms: 729_0, 1035_0, 977_0, 489_0, 686_0, 1155_0, 1121_0, 1157_0, 775_0, 899_0\n",
      "[INFO 04-06 21:37:49] ax.service.ax_client: Generated new trial 1217 with parameters {'z_sh': 7, 'z_sh_1': 14, 'z_sh_2': 5, 'z_p2': 27, 'z_p2_1': 26, 'z_p2_2': 25, 'z_r2': 85, 'z_r2_1': 82, 'z_r2_2': 84, 'x_s': 0.5, 'x_s_1': 0.4, 'x_s_2': 0.3, 'x_p1': 0.771013, 'x_p1_1': 0.671013, 'x_p1_2': 0.571013, 'x_p2': 0.5, 'x_p2_1': 0.4, 'x_p2_2': 0.3, 'x_r2': 1.066325, 'x_r2_1': 0.966325, 'x_r2_2': 0.866325} using model BoTorch.\n",
      "[INFO 04-06 21:37:49] ax.service.ax_client: Completed trial 1217 with data: {'Viable_Cross_Terms': (35, None)}.\n",
      "[INFO 04-06 21:37:50] ax.modelbridge.base: Leaving out out-of-design observations for arms: 729_0, 1035_0, 977_0, 489_0, 686_0, 1155_0, 1121_0, 1157_0, 775_0, 899_0\n",
      "[INFO 04-06 21:42:04] ax.service.ax_client: Generated new trial 1218 with parameters {'z_sh': 13, 'z_sh_1': 13, 'z_sh_2': 5, 'z_p2': 31, 'z_p2_1': 28, 'z_p2_2': 29, 'z_r2': 72, 'z_r2_1': 72, 'z_r2_2': 82, 'x_s': 0.5, 'x_s_1': 0.4, 'x_s_2': 0.3, 'x_p1': 1.0, 'x_p1_1': -0.9, 'x_p1_2': -1.0, 'x_p2': 0.5, 'x_p2_1': 0.4, 'x_p2_2': 0.3, 'x_r2': 1.5, 'x_r2_1': 1.4, 'x_r2_2': -1.5} using model BoTorch.\n",
      "[INFO 04-06 21:42:04] ax.service.ax_client: Completed trial 1218 with data: {'Viable_Cross_Terms': (0, None)}.\n",
      "[INFO 04-06 21:42:05] ax.modelbridge.base: Leaving out out-of-design observations for arms: 729_0, 1035_0, 977_0, 489_0, 686_0, 1155_0, 1121_0, 1157_0, 775_0, 899_0\n",
      "[INFO 04-06 21:46:29] ax.service.ax_client: Generated new trial 1219 with parameters {'z_sh': 7, 'z_sh_1': 6, 'z_sh_2': 5, 'z_p2': 27, 'z_p2_1': 34, 'z_p2_2': 33, 'z_r2': 80, 'z_r2_1': 76, 'z_r2_2': 84, 'x_s': 0.5, 'x_s_1': 0.4, 'x_s_2': 0.3, 'x_p1': 0.612758, 'x_p1_1': 0.512758, 'x_p1_2': 0.412758, 'x_p2': 0.5, 'x_p2_1': 0.4, 'x_p2_2': 0.3, 'x_r2': 1.06806, 'x_r2_1': 0.96806, 'x_r2_2': 0.86806} using model BoTorch.\n",
      "[INFO 04-06 21:46:29] ax.service.ax_client: Completed trial 1219 with data: {'Viable_Cross_Terms': (83, None)}.\n",
      "[INFO 04-06 21:46:30] ax.modelbridge.base: Leaving out out-of-design observations for arms: 729_0, 1035_0, 977_0, 489_0, 686_0, 1155_0, 1121_0, 1157_0, 775_0, 899_0\n",
      "[INFO 04-06 21:50:54] ax.service.ax_client: Generated new trial 1220 with parameters {'z_sh': 7, 'z_sh_1': 6, 'z_sh_2': 5, 'z_p2': 34, 'z_p2_1': 34, 'z_p2_2': 32, 'z_r2': 80, 'z_r2_1': 71, 'z_r2_2': 80, 'x_s': 0.5, 'x_s_1': 0.4, 'x_s_2': 0.3, 'x_p1': 0.648376, 'x_p1_1': 0.548376, 'x_p1_2': 0.448376, 'x_p2': 0.5, 'x_p2_1': 0.4, 'x_p2_2': 0.3, 'x_r2': 1.08372, 'x_r2_1': 0.98372, 'x_r2_2': 0.88372} using model BoTorch.\n",
      "[INFO 04-06 21:50:54] ax.service.ax_client: Completed trial 1220 with data: {'Viable_Cross_Terms': (82, None)}.\n",
      "[INFO 04-06 21:50:55] ax.modelbridge.base: Leaving out out-of-design observations for arms: 729_0, 1035_0, 977_0, 489_0, 686_0, 1155_0, 1121_0, 1157_0, 775_0, 899_0\n",
      "[INFO 04-06 21:55:32] ax.service.ax_client: Generated new trial 1221 with parameters {'z_sh': 10, 'z_sh_1': 12, 'z_sh_2': 5, 'z_p2': 30, 'z_p2_1': 30, 'z_p2_2': 25, 'z_r2': 77, 'z_r2_1': 83, 'z_r2_2': 83, 'x_s': 0.5, 'x_s_1': 0.4, 'x_s_2': 0.3, 'x_p1': 0.595506, 'x_p1_1': 0.495506, 'x_p1_2': 0.395506, 'x_p2': 0.5, 'x_p2_1': 0.4, 'x_p2_2': 0.3, 'x_r2': 0.970837, 'x_r2_1': 0.870837, 'x_r2_2': 0.770837} using model BoTorch.\n",
      "[INFO 04-06 21:55:32] ax.service.ax_client: Completed trial 1221 with data: {'Viable_Cross_Terms': (36, None)}.\n",
      "[INFO 04-06 21:55:32] ax.modelbridge.base: Leaving out out-of-design observations for arms: 729_0, 1035_0, 977_0, 489_0, 686_0, 1155_0, 1121_0, 1157_0, 775_0, 899_0\n",
      "[INFO 04-06 22:00:06] ax.service.ax_client: Generated new trial 1222 with parameters {'z_sh': 7, 'z_sh_1': 13, 'z_sh_2': 5, 'z_p2': 35, 'z_p2_1': 34, 'z_p2_2': 33, 'z_r2': 80, 'z_r2_1': 85, 'z_r2_2': 84, 'x_s': 0.5, 'x_s_1': 0.4, 'x_s_2': 0.3, 'x_p1': 0.60829, 'x_p1_1': 0.50829, 'x_p1_2': 0.40829, 'x_p2': 0.5, 'x_p2_1': 0.4, 'x_p2_2': 0.3, 'x_r2': 1.069426, 'x_r2_1': 0.969426, 'x_r2_2': 0.869426} using model BoTorch.\n",
      "[INFO 04-06 22:00:06] ax.service.ax_client: Completed trial 1222 with data: {'Viable_Cross_Terms': (83, None)}.\n",
      "[INFO 04-06 22:00:07] ax.modelbridge.base: Leaving out out-of-design observations for arms: 729_0, 1035_0, 977_0, 489_0, 686_0, 1155_0, 1121_0, 1157_0, 775_0, 899_0\n",
      "[INFO 04-06 22:04:16] ax.service.ax_client: Generated new trial 1223 with parameters {'z_sh': 7, 'z_sh_1': 6, 'z_sh_2': 5, 'z_p2': 27, 'z_p2_1': 26, 'z_p2_2': 33, 'z_r2': 80, 'z_r2_1': 71, 'z_r2_2': 84, 'x_s': 0.5, 'x_s_1': 0.4, 'x_s_2': 0.3, 'x_p1': 0.618521, 'x_p1_1': 0.518521, 'x_p1_2': 0.418521, 'x_p2': 0.5, 'x_p2_1': 0.4, 'x_p2_2': 0.3, 'x_r2': 1.082493, 'x_r2_1': 0.982493, 'x_r2_2': 0.882493} using model BoTorch.\n",
      "[INFO 04-06 22:04:16] ax.service.ax_client: Completed trial 1223 with data: {'Viable_Cross_Terms': (84, None)}.\n",
      "[INFO 04-06 22:04:17] ax.modelbridge.base: Leaving out out-of-design observations for arms: 729_0, 1035_0, 977_0, 489_0, 686_0, 1155_0, 1121_0, 1157_0, 775_0, 899_0\n",
      "[INFO 04-06 22:08:29] ax.service.ax_client: Generated new trial 1224 with parameters {'z_sh': 7, 'z_sh_1': 6, 'z_sh_2': 5, 'z_p2': 34, 'z_p2_1': 34, 'z_p2_2': 32, 'z_r2': 80, 'z_r2_1': 71, 'z_r2_2': 70, 'x_s': 0.5, 'x_s_1': 0.4, 'x_s_2': 0.3, 'x_p1': 0.539729, 'x_p1_1': 0.439729, 'x_p1_2': 0.339729, 'x_p2': 0.5, 'x_p2_1': 0.4, 'x_p2_2': 0.3, 'x_r2': 1.045816, 'x_r2_1': 0.945816, 'x_r2_2': 0.845816} using model BoTorch.\n",
      "[INFO 04-06 22:08:29] ax.service.ax_client: Completed trial 1224 with data: {'Viable_Cross_Terms': (71, None)}.\n",
      "[INFO 04-06 22:08:30] ax.modelbridge.base: Leaving out out-of-design observations for arms: 729_0, 1035_0, 977_0, 489_0, 686_0, 1155_0, 1121_0, 1157_0, 775_0, 899_0\n",
      "[INFO 04-06 22:13:26] ax.service.ax_client: Generated new trial 1225 with parameters {'z_sh': 7, 'z_sh_1': 6, 'z_sh_2': 5, 'z_p2': 27, 'z_p2_1': 34, 'z_p2_2': 25, 'z_r2': 80, 'z_r2_1': 85, 'z_r2_2': 84, 'x_s': 0.5, 'x_s_1': 0.4, 'x_s_2': 0.3, 'x_p1': 0.622031, 'x_p1_1': 0.522031, 'x_p1_2': 0.422031, 'x_p2': 0.5, 'x_p2_1': 0.4, 'x_p2_2': 0.3, 'x_r2': 1.06799, 'x_r2_1': 0.96799, 'x_r2_2': 0.86799} using model BoTorch.\n",
      "[INFO 04-06 22:13:26] ax.service.ax_client: Completed trial 1225 with data: {'Viable_Cross_Terms': (82, None)}.\n",
      "[INFO 04-06 22:13:27] ax.modelbridge.base: Leaving out out-of-design observations for arms: 729_0, 1035_0, 977_0, 489_0, 686_0, 1155_0, 1121_0, 1157_0, 775_0, 899_0\n",
      "[INFO 04-06 22:17:17] ax.service.ax_client: Generated new trial 1226 with parameters {'z_sh': 7, 'z_sh_1': 6, 'z_sh_2': 5, 'z_p2': 35, 'z_p2_1': 26, 'z_p2_2': 33, 'z_r2': 80, 'z_r2_1': 85, 'z_r2_2': 84, 'x_s': 0.5, 'x_s_1': 0.4, 'x_s_2': 0.3, 'x_p1': 0.592085, 'x_p1_1': 0.492085, 'x_p1_2': 0.392085, 'x_p2': 0.5, 'x_p2_1': 0.4, 'x_p2_2': 0.3, 'x_r2': 1.101256, 'x_r2_1': 1.001256, 'x_r2_2': 0.901256} using model BoTorch.\n",
      "[INFO 04-06 22:17:17] ax.service.ax_client: Completed trial 1226 with data: {'Viable_Cross_Terms': (72, None)}.\n",
      "[INFO 04-06 22:17:18] ax.modelbridge.base: Leaving out out-of-design observations for arms: 729_0, 1035_0, 977_0, 489_0, 686_0, 1155_0, 1121_0, 1157_0, 775_0, 899_0\n",
      "[INFO 04-06 22:22:02] ax.service.ax_client: Generated new trial 1227 with parameters {'z_sh': 7, 'z_sh_1': 6, 'z_sh_2': 5, 'z_p2': 34, 'z_p2_1': 34, 'z_p2_2': 32, 'z_r2': 80, 'z_r2_1': 76, 'z_r2_2': 75, 'x_s': 0.5, 'x_s_1': 0.4, 'x_s_2': 0.3, 'x_p1': 0.637746, 'x_p1_1': 0.537746, 'x_p1_2': 0.437746, 'x_p2': 0.5, 'x_p2_1': 0.4, 'x_p2_2': 0.3, 'x_r2': 1.084172, 'x_r2_1': 0.984172, 'x_r2_2': 0.884172} using model BoTorch.\n",
      "[INFO 04-06 22:22:03] ax.service.ax_client: Completed trial 1227 with data: {'Viable_Cross_Terms': (81, None)}.\n",
      "[INFO 04-06 22:22:03] ax.modelbridge.base: Leaving out out-of-design observations for arms: 729_0, 1035_0, 977_0, 489_0, 686_0, 1155_0, 1121_0, 1157_0, 775_0, 899_0\n",
      "[INFO 04-06 22:26:34] ax.service.ax_client: Generated new trial 1228 with parameters {'z_sh': 11, 'z_sh_1': 14, 'z_sh_2': 5, 'z_p2': 32, 'z_p2_1': 33, 'z_p2_2': 30, 'z_r2': 79, 'z_r2_1': 71, 'z_r2_2': 74, 'x_s': 0.274931, 'x_s_1': -0.4, 'x_s_2': -0.5, 'x_p1': 0.682275, 'x_p1_1': 0.582275, 'x_p1_2': -1.0, 'x_p2': 0.264961, 'x_p2_1': 0.164961, 'x_p2_2': 0.064961, 'x_r2': 1.5, 'x_r2_1': -0.100762, 'x_r2_2': -0.200762} using model BoTorch.\n",
      "[INFO 04-06 22:26:34] ax.service.ax_client: Completed trial 1228 with data: {'Viable_Cross_Terms': (8, None)}.\n",
      "[INFO 04-06 22:26:35] ax.modelbridge.base: Leaving out out-of-design observations for arms: 729_0, 1035_0, 977_0, 489_0, 686_0, 1155_0, 1121_0, 1157_0, 775_0, 899_0\n",
      "[INFO 04-06 22:31:10] ax.service.ax_client: Generated new trial 1229 with parameters {'z_sh': 7, 'z_sh_1': 11, 'z_sh_2': 5, 'z_p2': 29, 'z_p2_1': 26, 'z_p2_2': 30, 'z_r2': 86, 'z_r2_1': 72, 'z_r2_2': 73, 'x_s': 0.5, 'x_s_1': 0.4, 'x_s_2': 0.3, 'x_p1': 1.0, 'x_p1_1': -0.9, 'x_p1_2': -1.0, 'x_p2': 0.5, 'x_p2_1': 0.4, 'x_p2_2': 0.3, 'x_r2': 0.235652, 'x_r2_1': 0.135652, 'x_r2_2': -1.5} using model BoTorch.\n",
      "[INFO 04-06 22:31:10] ax.service.ax_client: Completed trial 1229 with data: {'Viable_Cross_Terms': (0, None)}.\n",
      "[INFO 04-06 22:31:11] ax.modelbridge.base: Leaving out out-of-design observations for arms: 729_0, 1035_0, 977_0, 489_0, 686_0, 1155_0, 1121_0, 1157_0, 775_0, 899_0\n",
      "[INFO 04-06 22:35:58] ax.service.ax_client: Generated new trial 1230 with parameters {'z_sh': 7, 'z_sh_1': 6, 'z_sh_2': 5, 'z_p2': 34, 'z_p2_1': 34, 'z_p2_2': 32, 'z_r2': 80, 'z_r2_1': 71, 'z_r2_2': 77, 'x_s': 0.5, 'x_s_1': 0.4, 'x_s_2': 0.3, 'x_p1': 0.616717, 'x_p1_1': 0.516717, 'x_p1_2': 0.416717, 'x_p2': 0.5, 'x_p2_1': 0.4, 'x_p2_2': 0.3, 'x_r2': 1.097242, 'x_r2_1': 0.997242, 'x_r2_2': 0.897242} using model BoTorch.\n",
      "[INFO 04-06 22:35:58] ax.service.ax_client: Completed trial 1230 with data: {'Viable_Cross_Terms': (78, None)}.\n",
      "[INFO 04-06 22:35:59] ax.modelbridge.base: Leaving out out-of-design observations for arms: 729_0, 1035_0, 977_0, 489_0, 686_0, 1155_0, 1121_0, 1157_0, 775_0, 899_0\n",
      "[INFO 04-06 22:41:49] ax.service.ax_client: Generated new trial 1231 with parameters {'z_sh': 7, 'z_sh_1': 14, 'z_sh_2': 5, 'z_p2': 27, 'z_p2_1': 34, 'z_p2_2': 25, 'z_r2': 80, 'z_r2_1': 85, 'z_r2_2': 84, 'x_s': 0.5, 'x_s_1': 0.4, 'x_s_2': 0.3, 'x_p1': 0.621702, 'x_p1_1': 0.521702, 'x_p1_2': 0.421702, 'x_p2': 0.5, 'x_p2_1': 0.4, 'x_p2_2': 0.3, 'x_r2': 1.082268, 'x_r2_1': 0.982268, 'x_r2_2': 0.882268} using model BoTorch.\n",
      "[INFO 04-06 22:41:49] ax.service.ax_client: Completed trial 1231 with data: {'Viable_Cross_Terms': (84, None)}.\n",
      "[INFO 04-06 22:41:49] ax.modelbridge.base: Leaving out out-of-design observations for arms: 729_0, 1035_0, 977_0, 489_0, 686_0, 1155_0, 1121_0, 1157_0, 775_0, 899_0\n",
      "[INFO 04-06 22:46:24] ax.service.ax_client: Generated new trial 1232 with parameters {'z_sh': 7, 'z_sh_1': 12, 'z_sh_2': 5, 'z_p2': 29, 'z_p2_1': 30, 'z_p2_2': 30, 'z_r2': 80, 'z_r2_1': 72, 'z_r2_2': 71, 'x_s': 0.5, 'x_s_1': 0.4, 'x_s_2': 0.3, 'x_p1': 0.635168, 'x_p1_1': 0.535168, 'x_p1_2': 0.435168, 'x_p2': 0.5, 'x_p2_1': 0.4, 'x_p2_2': 0.3, 'x_r2': 1.043199, 'x_r2_1': 0.943199, 'x_r2_2': 0.843199} using model BoTorch.\n",
      "[INFO 04-06 22:46:24] ax.service.ax_client: Completed trial 1232 with data: {'Viable_Cross_Terms': (82, None)}.\n",
      "[INFO 04-06 22:46:24] ax.modelbridge.base: Leaving out out-of-design observations for arms: 729_0, 1035_0, 977_0, 489_0, 686_0, 1155_0, 1121_0, 1157_0, 775_0, 899_0\n",
      "[INFO 04-06 22:51:39] ax.service.ax_client: Generated new trial 1233 with parameters {'z_sh': 7, 'z_sh_1': 6, 'z_sh_2': 5, 'z_p2': 27, 'z_p2_1': 34, 'z_p2_2': 25, 'z_r2': 80, 'z_r2_1': 71, 'z_r2_2': 84, 'x_s': 0.5, 'x_s_1': 0.4, 'x_s_2': 0.3, 'x_p1': 0.623015, 'x_p1_1': 0.523015, 'x_p1_2': 0.423015, 'x_p2': 0.5, 'x_p2_1': 0.4, 'x_p2_2': 0.3, 'x_r2': 1.070726, 'x_r2_1': 0.970726, 'x_r2_2': 0.870726} using model BoTorch.\n",
      "[INFO 04-06 22:51:39] ax.service.ax_client: Completed trial 1233 with data: {'Viable_Cross_Terms': (81, None)}.\n",
      "[INFO 04-06 22:51:40] ax.modelbridge.base: Leaving out out-of-design observations for arms: 729_0, 1035_0, 977_0, 489_0, 686_0, 1155_0, 1121_0, 1157_0, 775_0, 899_0\n",
      "[INFO 04-06 22:56:05] ax.service.ax_client: Generated new trial 1234 with parameters {'z_sh': 7, 'z_sh_1': 12, 'z_sh_2': 5, 'z_p2': 27, 'z_p2_1': 33, 'z_p2_2': 28, 'z_r2': 85, 'z_r2_1': 78, 'z_r2_2': 82, 'x_s': 0.5, 'x_s_1': 0.4, 'x_s_2': 0.3, 'x_p1': 0.771782, 'x_p1_1': 0.671782, 'x_p1_2': 0.571782, 'x_p2': 0.5, 'x_p2_1': 0.4, 'x_p2_2': 0.3, 'x_r2': 1.067544, 'x_r2_1': 0.967544, 'x_r2_2': 0.867544} using model BoTorch.\n",
      "[INFO 04-06 22:56:05] ax.service.ax_client: Completed trial 1234 with data: {'Viable_Cross_Terms': (34, None)}.\n",
      "[INFO 04-06 22:56:06] ax.modelbridge.base: Leaving out out-of-design observations for arms: 729_0, 1035_0, 977_0, 489_0, 686_0, 1155_0, 1121_0, 1157_0, 775_0, 899_0\n",
      "[INFO 04-06 23:01:44] ax.service.ax_client: Generated new trial 1235 with parameters {'z_sh': 7, 'z_sh_1': 10, 'z_sh_2': 13, 'z_p2': 29, 'z_p2_1': 28, 'z_p2_2': 31, 'z_r2': 82, 'z_r2_1': 74, 'z_r2_2': 78, 'x_s': -0.3, 'x_s_1': -0.4, 'x_s_2': -0.5, 'x_p1': -0.8, 'x_p1_1': -0.9, 'x_p1_2': -1.0, 'x_p2': -0.3, 'x_p2_1': -0.4, 'x_p2_2': -0.5, 'x_r2': 1.5, 'x_r2_1': 1.4, 'x_r2_2': 1.3} using model BoTorch.\n",
      "[INFO 04-06 23:01:44] ax.service.ax_client: Completed trial 1235 with data: {'Viable_Cross_Terms': (5, None)}.\n",
      "[INFO 04-06 23:01:45] ax.modelbridge.base: Leaving out out-of-design observations for arms: 729_0, 1035_0, 977_0, 489_0, 686_0, 1155_0, 1121_0, 1157_0, 775_0, 899_0\n",
      "[INFO 04-06 23:06:40] ax.service.ax_client: Generated new trial 1236 with parameters {'z_sh': 7, 'z_sh_1': 14, 'z_sh_2': 5, 'z_p2': 34, 'z_p2_1': 34, 'z_p2_2': 25, 'z_r2': 80, 'z_r2_1': 84, 'z_r2_2': 80, 'x_s': 0.5, 'x_s_1': 0.4, 'x_s_2': 0.3, 'x_p1': 0.613374, 'x_p1_1': 0.513374, 'x_p1_2': 0.413374, 'x_p2': 0.5, 'x_p2_1': 0.4, 'x_p2_2': 0.3, 'x_r2': 1.098134, 'x_r2_1': 0.998134, 'x_r2_2': 0.898134} using model BoTorch.\n",
      "[INFO 04-06 23:06:40] ax.service.ax_client: Completed trial 1236 with data: {'Viable_Cross_Terms': (78, None)}.\n",
      "[INFO 04-06 23:06:41] ax.modelbridge.base: Leaving out out-of-design observations for arms: 729_0, 1035_0, 977_0, 489_0, 686_0, 1155_0, 1121_0, 1157_0, 775_0, 899_0\n",
      "[INFO 04-06 23:11:29] ax.service.ax_client: Generated new trial 1237 with parameters {'z_sh': 7, 'z_sh_1': 8, 'z_sh_2': 5, 'z_p2': 34, 'z_p2_1': 34, 'z_p2_2': 32, 'z_r2': 80, 'z_r2_1': 77, 'z_r2_2': 82, 'x_s': 0.5, 'x_s_1': 0.4, 'x_s_2': 0.3, 'x_p1': 0.662088, 'x_p1_1': 0.562088, 'x_p1_2': 0.462088, 'x_p2': 0.5, 'x_p2_1': 0.4, 'x_p2_2': 0.3, 'x_r2': 1.098997, 'x_r2_1': 0.998997, 'x_r2_2': 0.898997} using model BoTorch.\n",
      "[INFO 04-06 23:11:29] ax.service.ax_client: Completed trial 1237 with data: {'Viable_Cross_Terms': (80, None)}.\n",
      "[INFO 04-06 23:11:31] ax.modelbridge.base: Leaving out out-of-design observations for arms: 729_0, 1035_0, 977_0, 489_0, 686_0, 1155_0, 1121_0, 1157_0, 775_0, 899_0\n",
      "[INFO 04-06 23:16:11] ax.service.ax_client: Generated new trial 1238 with parameters {'z_sh': 7, 'z_sh_1': 6, 'z_sh_2': 5, 'z_p2': 27, 'z_p2_1': 34, 'z_p2_2': 33, 'z_r2': 80, 'z_r2_1': 71, 'z_r2_2': 84, 'x_s': 0.5, 'x_s_1': 0.4, 'x_s_2': 0.3, 'x_p1': 0.620122, 'x_p1_1': 0.520122, 'x_p1_2': 0.420122, 'x_p2': 0.5, 'x_p2_1': 0.4, 'x_p2_2': 0.3, 'x_r2': 1.077131, 'x_r2_1': 0.977131, 'x_r2_2': 0.877131} using model BoTorch.\n",
      "[INFO 04-06 23:16:11] ax.service.ax_client: Completed trial 1238 with data: {'Viable_Cross_Terms': (84, None)}.\n",
      "[INFO 04-06 23:16:13] ax.modelbridge.base: Leaving out out-of-design observations for arms: 729_0, 1035_0, 977_0, 489_0, 686_0, 1155_0, 1121_0, 1157_0, 775_0, 899_0\n",
      "[INFO 04-06 23:21:23] ax.service.ax_client: Generated new trial 1239 with parameters {'z_sh': 7, 'z_sh_1': 6, 'z_sh_2': 5, 'z_p2': 27, 'z_p2_1': 34, 'z_p2_2': 33, 'z_r2': 80, 'z_r2_1': 71, 'z_r2_2': 84, 'x_s': 0.5, 'x_s_1': 0.4, 'x_s_2': 0.3, 'x_p1': 0.613426, 'x_p1_1': 0.513426, 'x_p1_2': 0.413426, 'x_p2': 0.5, 'x_p2_1': 0.4, 'x_p2_2': 0.3, 'x_r2': 1.071097, 'x_r2_1': 0.971097, 'x_r2_2': 0.871097} using model BoTorch.\n",
      "[INFO 04-06 23:21:23] ax.service.ax_client: Completed trial 1239 with data: {'Viable_Cross_Terms': (83, None)}.\n",
      "[INFO 04-06 23:21:24] ax.modelbridge.base: Leaving out out-of-design observations for arms: 729_0, 1035_0, 977_0, 489_0, 686_0, 1155_0, 1121_0, 1157_0, 775_0, 899_0\n",
      "[INFO 04-06 23:26:17] ax.service.ax_client: Generated new trial 1240 with parameters {'z_sh': 7, 'z_sh_1': 6, 'z_sh_2': 5, 'z_p2': 29, 'z_p2_1': 34, 'z_p2_2': 25, 'z_r2': 80, 'z_r2_1': 76, 'z_r2_2': 73, 'x_s': 0.5, 'x_s_1': 0.4, 'x_s_2': 0.3, 'x_p1': 0.626375, 'x_p1_1': 0.526375, 'x_p1_2': 0.426375, 'x_p2': 0.5, 'x_p2_1': 0.4, 'x_p2_2': 0.3, 'x_r2': 1.10424, 'x_r2_1': 1.00424, 'x_r2_2': 0.90424} using model BoTorch.\n",
      "[INFO 04-06 23:26:17] ax.service.ax_client: Completed trial 1240 with data: {'Viable_Cross_Terms': (78, None)}.\n",
      "[INFO 04-06 23:26:18] ax.modelbridge.base: Leaving out out-of-design observations for arms: 729_0, 1035_0, 977_0, 489_0, 686_0, 1155_0, 1121_0, 1157_0, 775_0, 899_0\n",
      "[INFO 04-06 23:31:07] ax.service.ax_client: Generated new trial 1241 with parameters {'z_sh': 7, 'z_sh_1': 11, 'z_sh_2': 5, 'z_p2': 32, 'z_p2_1': 34, 'z_p2_2': 29, 'z_r2': 80, 'z_r2_1': 81, 'z_r2_2': 78, 'x_s': 0.5, 'x_s_1': 0.4, 'x_s_2': 0.3, 'x_p1': 0.616072, 'x_p1_1': 0.516072, 'x_p1_2': 0.416072, 'x_p2': 0.5, 'x_p2_1': 0.4, 'x_p2_2': 0.3, 'x_r2': 1.117714, 'x_r2_1': 1.017714, 'x_r2_2': 0.917714} using model BoTorch.\n",
      "[INFO 04-06 23:31:07] ax.service.ax_client: Completed trial 1241 with data: {'Viable_Cross_Terms': (75, None)}.\n",
      "[INFO 04-06 23:31:08] ax.modelbridge.base: Leaving out out-of-design observations for arms: 729_0, 1035_0, 977_0, 489_0, 686_0, 1155_0, 1121_0, 1157_0, 775_0, 899_0\n",
      "[INFO 04-06 23:35:58] ax.service.ax_client: Generated new trial 1242 with parameters {'z_sh': 12, 'z_sh_1': 13, 'z_sh_2': 6, 'z_p2': 28, 'z_p2_1': 31, 'z_p2_2': 31, 'z_r2': 81, 'z_r2_1': 84, 'z_r2_2': 80, 'x_s': 0.5, 'x_s_1': 0.4, 'x_s_2': -0.5, 'x_p1': 0.656009, 'x_p1_1': 0.556009, 'x_p1_2': 0.456009, 'x_p2': 0.5, 'x_p2_1': -0.322638, 'x_p2_2': -0.422638, 'x_r2': 1.5, 'x_r2_1': 0.078826, 'x_r2_2': -1.5} using model BoTorch.\n",
      "[INFO 04-06 23:35:58] ax.service.ax_client: Completed trial 1242 with data: {'Viable_Cross_Terms': (6, None)}.\n",
      "[INFO 04-06 23:35:59] ax.modelbridge.base: Leaving out out-of-design observations for arms: 729_0, 1035_0, 977_0, 489_0, 686_0, 1155_0, 1121_0, 1157_0, 775_0, 899_0\n",
      "[INFO 04-06 23:40:42] ax.service.ax_client: Generated new trial 1243 with parameters {'z_sh': 7, 'z_sh_1': 6, 'z_sh_2': 5, 'z_p2': 34, 'z_p2_1': 34, 'z_p2_2': 32, 'z_r2': 80, 'z_r2_1': 71, 'z_r2_2': 78, 'x_s': 0.5, 'x_s_1': 0.4, 'x_s_2': 0.3, 'x_p1': 0.625822, 'x_p1_1': 0.525822, 'x_p1_2': 0.425822, 'x_p2': 0.5, 'x_p2_1': 0.4, 'x_p2_2': 0.3, 'x_r2': 1.095784, 'x_r2_1': 0.995784, 'x_r2_2': 0.895784} using model BoTorch.\n",
      "[INFO 04-06 23:40:42] ax.service.ax_client: Completed trial 1243 with data: {'Viable_Cross_Terms': (78, None)}.\n",
      "[INFO 04-06 23:40:42] ax.modelbridge.base: Leaving out out-of-design observations for arms: 729_0, 1035_0, 977_0, 489_0, 686_0, 1155_0, 1121_0, 1157_0, 775_0, 899_0\n",
      "[INFO 04-06 23:47:24] ax.service.ax_client: Generated new trial 1244 with parameters {'z_sh': 9, 'z_sh_1': 9, 'z_sh_2': 5, 'z_p2': 27, 'z_p2_1': 26, 'z_p2_2': 28, 'z_r2': 80, 'z_r2_1': 71, 'z_r2_2': 79, 'x_s': 0.5, 'x_s_1': 0.4, 'x_s_2': 0.3, 'x_p1': 0.68937, 'x_p1_1': 0.587114, 'x_p1_2': 0.487114, 'x_p2': 0.211425, 'x_p2_1': -0.4, 'x_p2_2': -0.5, 'x_r2': 1.334552, 'x_r2_1': -0.939596, 'x_r2_2': -1.039596} using model BoTorch.\n",
      "[INFO 04-06 23:47:24] ax.service.ax_client: Completed trial 1244 with data: {'Viable_Cross_Terms': (6, None)}.\n",
      "[INFO 04-06 23:47:24] ax.modelbridge.base: Leaving out out-of-design observations for arms: 729_0, 1035_0, 977_0, 489_0, 686_0, 1155_0, 1121_0, 1157_0, 775_0, 899_0\n",
      "[INFO 04-06 23:52:27] ax.service.ax_client: Generated new trial 1245 with parameters {'z_sh': 7, 'z_sh_1': 14, 'z_sh_2': 8, 'z_p2': 35, 'z_p2_1': 26, 'z_p2_2': 25, 'z_r2': 73, 'z_r2_1': 71, 'z_r2_2': 84, 'x_s': 0.5, 'x_s_1': 0.4, 'x_s_2': 0.3, 'x_p1': -0.223028, 'x_p1_1': -0.9, 'x_p1_2': -1.0, 'x_p2': 0.5, 'x_p2_1': 0.4, 'x_p2_2': 0.3, 'x_r2': 1.5, 'x_r2_1': 0.29962, 'x_r2_2': -1.5} using model BoTorch.\n",
      "[INFO 04-06 23:52:27] ax.service.ax_client: Completed trial 1245 with data: {'Viable_Cross_Terms': (4, None)}.\n",
      "[INFO 04-06 23:52:28] ax.modelbridge.base: Leaving out out-of-design observations for arms: 729_0, 1035_0, 977_0, 489_0, 686_0, 1155_0, 1121_0, 1157_0, 775_0, 899_0\n",
      "[INFO 04-06 23:58:12] ax.service.ax_client: Generated new trial 1246 with parameters {'z_sh': 8, 'z_sh_1': 6, 'z_sh_2': 13, 'z_p2': 27, 'z_p2_1': 28, 'z_p2_2': 27, 'z_r2': 85, 'z_r2_1': 73, 'z_r2_2': 80, 'x_s': 0.5, 'x_s_1': 0.4, 'x_s_2': 0.3, 'x_p1': 0.197052, 'x_p1_1': 0.097052, 'x_p1_2': -0.002948, 'x_p2': 0.5, 'x_p2_1': 0.4, 'x_p2_2': 0.3, 'x_r2': 1.5, 'x_r2_1': 0.229637, 'x_r2_2': 0.129637} using model BoTorch.\n",
      "[INFO 04-06 23:58:12] ax.service.ax_client: Completed trial 1246 with data: {'Viable_Cross_Terms': (4, None)}.\n",
      "[INFO 04-06 23:58:13] ax.modelbridge.base: Leaving out out-of-design observations for arms: 729_0, 1035_0, 977_0, 489_0, 686_0, 1155_0, 1121_0, 1157_0, 775_0, 899_0\n",
      "[INFO 04-07 00:03:04] ax.service.ax_client: Generated new trial 1247 with parameters {'z_sh': 14, 'z_sh_1': 9, 'z_sh_2': 5, 'z_p2': 33, 'z_p2_1': 28, 'z_p2_2': 32, 'z_r2': 86, 'z_r2_1': 75, 'z_r2_2': 83, 'x_s': -0.3, 'x_s_1': -0.4, 'x_s_2': -0.5, 'x_p1': -0.25787, 'x_p1_1': -0.35787, 'x_p1_2': -0.45787, 'x_p2': 0.5, 'x_p2_1': 0.4, 'x_p2_2': 0.3, 'x_r2': -0.582365, 'x_r2_1': -0.682365, 'x_r2_2': -0.782365} using model BoTorch.\n",
      "[INFO 04-07 00:03:04] ax.service.ax_client: Completed trial 1247 with data: {'Viable_Cross_Terms': (27, None)}.\n",
      "[INFO 04-07 00:03:05] ax.modelbridge.base: Leaving out out-of-design observations for arms: 729_0, 1035_0, 977_0, 489_0, 686_0, 1155_0, 1121_0, 1157_0, 775_0, 899_0\n",
      "[INFO 04-07 00:07:38] ax.service.ax_client: Generated new trial 1248 with parameters {'z_sh': 7, 'z_sh_1': 6, 'z_sh_2': 5, 'z_p2': 34, 'z_p2_1': 34, 'z_p2_2': 32, 'z_r2': 80, 'z_r2_1': 71, 'z_r2_2': 83, 'x_s': 0.5, 'x_s_1': 0.4, 'x_s_2': 0.3, 'x_p1': 0.63752, 'x_p1_1': 0.53752, 'x_p1_2': 0.43752, 'x_p2': 0.5, 'x_p2_1': 0.4, 'x_p2_2': 0.3, 'x_r2': 1.059581, 'x_r2_1': 0.959581, 'x_r2_2': 0.859581} using model BoTorch.\n",
      "[INFO 04-07 00:07:38] ax.service.ax_client: Completed trial 1248 with data: {'Viable_Cross_Terms': (83, None)}.\n",
      "[INFO 04-07 00:07:40] ax.modelbridge.base: Leaving out out-of-design observations for arms: 729_0, 1035_0, 977_0, 489_0, 686_0, 1155_0, 1121_0, 1157_0, 775_0, 899_0\n",
      "[INFO 04-07 00:12:49] ax.service.ax_client: Generated new trial 1249 with parameters {'z_sh': 7, 'z_sh_1': 6, 'z_sh_2': 5, 'z_p2': 27, 'z_p2_1': 27, 'z_p2_2': 27, 'z_r2': 77, 'z_r2_1': 85, 'z_r2_2': 84, 'x_s': 0.5, 'x_s_1': 0.4, 'x_s_2': 0.3, 'x_p1': 0.595368, 'x_p1_1': 0.495368, 'x_p1_2': 0.395368, 'x_p2': 0.5, 'x_p2_1': 0.4, 'x_p2_2': 0.3, 'x_r2': 0.967118, 'x_r2_1': 0.867118, 'x_r2_2': 0.767118} using model BoTorch.\n",
      "[INFO 04-07 00:12:49] ax.service.ax_client: Completed trial 1249 with data: {'Viable_Cross_Terms': (36, None)}.\n",
      "[INFO 04-07 00:12:50] ax.modelbridge.base: Leaving out out-of-design observations for arms: 729_0, 1035_0, 977_0, 489_0, 686_0, 1155_0, 1121_0, 1157_0, 775_0, 899_0\n",
      "[INFO 04-07 00:17:05] ax.service.ax_client: Generated new trial 1250 with parameters {'z_sh': 7, 'z_sh_1': 6, 'z_sh_2': 5, 'z_p2': 27, 'z_p2_1': 34, 'z_p2_2': 33, 'z_r2': 80, 'z_r2_1': 85, 'z_r2_2': 70, 'x_s': 0.5, 'x_s_1': 0.4, 'x_s_2': 0.3, 'x_p1': 0.615265, 'x_p1_1': 0.515265, 'x_p1_2': 0.415265, 'x_p2': 0.5, 'x_p2_1': 0.4, 'x_p2_2': 0.3, 'x_r2': 1.105554, 'x_r2_1': 1.005554, 'x_r2_2': 0.905554} using model BoTorch.\n",
      "[INFO 04-07 00:17:05] ax.service.ax_client: Completed trial 1250 with data: {'Viable_Cross_Terms': (79, None)}.\n",
      "[INFO 04-07 00:17:06] ax.modelbridge.base: Leaving out out-of-design observations for arms: 729_0, 1035_0, 977_0, 489_0, 686_0, 1155_0, 1121_0, 1157_0, 775_0, 899_0\n",
      "[INFO 04-07 00:22:40] ax.service.ax_client: Generated new trial 1251 with parameters {'z_sh': 7, 'z_sh_1': 14, 'z_sh_2': 5, 'z_p2': 35, 'z_p2_1': 34, 'z_p2_2': 33, 'z_r2': 80, 'z_r2_1': 85, 'z_r2_2': 84, 'x_s': 0.5, 'x_s_1': 0.4, 'x_s_2': 0.3, 'x_p1': 0.611788, 'x_p1_1': 0.511788, 'x_p1_2': 0.411788, 'x_p2': 0.5, 'x_p2_1': 0.4, 'x_p2_2': 0.3, 'x_r2': 1.073805, 'x_r2_1': 0.973805, 'x_r2_2': 0.873805} using model BoTorch.\n",
      "[INFO 04-07 00:22:40] ax.service.ax_client: Completed trial 1251 with data: {'Viable_Cross_Terms': (83, None)}.\n",
      "[INFO 04-07 00:22:41] ax.modelbridge.base: Leaving out out-of-design observations for arms: 729_0, 1035_0, 977_0, 489_0, 686_0, 1155_0, 1121_0, 1157_0, 775_0, 899_0\n",
      "[INFO 04-07 00:27:40] ax.service.ax_client: Generated new trial 1252 with parameters {'z_sh': 7, 'z_sh_1': 6, 'z_sh_2': 5, 'z_p2': 34, 'z_p2_1': 34, 'z_p2_2': 32, 'z_r2': 80, 'z_r2_1': 76, 'z_r2_2': 82, 'x_s': 0.5, 'x_s_1': 0.4, 'x_s_2': 0.3, 'x_p1': 0.587062, 'x_p1_1': 0.487062, 'x_p1_2': 0.387062, 'x_p2': 0.5, 'x_p2_1': 0.4, 'x_p2_2': 0.3, 'x_r2': 1.116394, 'x_r2_1': 1.016394, 'x_r2_2': 0.916394} using model BoTorch.\n",
      "[INFO 04-07 00:27:40] ax.service.ax_client: Completed trial 1252 with data: {'Viable_Cross_Terms': (70, None)}.\n",
      "[INFO 04-07 00:27:41] ax.modelbridge.base: Leaving out out-of-design observations for arms: 729_0, 1035_0, 977_0, 489_0, 686_0, 1155_0, 1121_0, 1157_0, 775_0, 899_0\n",
      "[INFO 04-07 00:32:42] ax.service.ax_client: Generated new trial 1253 with parameters {'z_sh': 7, 'z_sh_1': 6, 'z_sh_2': 5, 'z_p2': 27, 'z_p2_1': 28, 'z_p2_2': 29, 'z_r2': 77, 'z_r2_1': 80, 'z_r2_2': 83, 'x_s': 0.5, 'x_s_1': 0.4, 'x_s_2': 0.3, 'x_p1': 0.602895, 'x_p1_1': 0.502895, 'x_p1_2': 0.402895, 'x_p2': 0.5, 'x_p2_1': 0.4, 'x_p2_2': 0.3, 'x_r2': 0.968737, 'x_r2_1': 0.868737, 'x_r2_2': 0.768737} using model BoTorch.\n",
      "[INFO 04-07 00:32:42] ax.service.ax_client: Completed trial 1253 with data: {'Viable_Cross_Terms': (77, None)}.\n",
      "[INFO 04-07 00:32:43] ax.modelbridge.base: Leaving out out-of-design observations for arms: 729_0, 1035_0, 977_0, 489_0, 686_0, 1155_0, 1121_0, 1157_0, 775_0, 899_0\n",
      "[INFO 04-07 00:37:36] ax.service.ax_client: Generated new trial 1254 with parameters {'z_sh': 7, 'z_sh_1': 6, 'z_sh_2': 5, 'z_p2': 34, 'z_p2_1': 34, 'z_p2_2': 32, 'z_r2': 80, 'z_r2_1': 80, 'z_r2_2': 84, 'x_s': 0.5, 'x_s_1': 0.4, 'x_s_2': 0.3, 'x_p1': 0.656196, 'x_p1_1': 0.556196, 'x_p1_2': 0.456196, 'x_p2': 0.5, 'x_p2_1': 0.4, 'x_p2_2': 0.3, 'x_r2': 1.089857, 'x_r2_1': 0.989857, 'x_r2_2': 0.889857} using model BoTorch.\n",
      "[INFO 04-07 00:37:36] ax.service.ax_client: Completed trial 1254 with data: {'Viable_Cross_Terms': (81, None)}.\n",
      "[INFO 04-07 00:37:37] ax.modelbridge.base: Leaving out out-of-design observations for arms: 729_0, 1035_0, 977_0, 489_0, 686_0, 1155_0, 1121_0, 1157_0, 775_0, 899_0\n",
      "[INFO 04-07 00:42:26] ax.service.ax_client: Generated new trial 1255 with parameters {'z_sh': 7, 'z_sh_1': 14, 'z_sh_2': 5, 'z_p2': 35, 'z_p2_1': 34, 'z_p2_2': 33, 'z_r2': 80, 'z_r2_1': 85, 'z_r2_2': 84, 'x_s': 0.5, 'x_s_1': 0.4, 'x_s_2': 0.3, 'x_p1': 0.60354, 'x_p1_1': 0.50354, 'x_p1_2': 0.40354, 'x_p2': 0.5, 'x_p2_1': 0.4, 'x_p2_2': 0.3, 'x_r2': 1.074927, 'x_r2_1': 0.974927, 'x_r2_2': 0.874927} using model BoTorch.\n",
      "[INFO 04-07 00:42:26] ax.service.ax_client: Completed trial 1255 with data: {'Viable_Cross_Terms': (81, None)}.\n",
      "[INFO 04-07 00:42:27] ax.modelbridge.base: Leaving out out-of-design observations for arms: 729_0, 1035_0, 977_0, 489_0, 686_0, 1155_0, 1121_0, 1157_0, 775_0, 899_0\n",
      "[INFO 04-07 00:48:19] ax.service.ax_client: Generated new trial 1256 with parameters {'z_sh': 7, 'z_sh_1': 14, 'z_sh_2': 5, 'z_p2': 27, 'z_p2_1': 34, 'z_p2_2': 25, 'z_r2': 80, 'z_r2_1': 85, 'z_r2_2': 84, 'x_s': 0.5, 'x_s_1': 0.4, 'x_s_2': 0.3, 'x_p1': 0.632644, 'x_p1_1': 0.532644, 'x_p1_2': 0.432644, 'x_p2': 0.5, 'x_p2_1': 0.4, 'x_p2_2': 0.3, 'x_r2': 1.080626, 'x_r2_1': 0.980626, 'x_r2_2': 0.880626} using model BoTorch.\n",
      "[INFO 04-07 00:48:19] ax.service.ax_client: Completed trial 1256 with data: {'Viable_Cross_Terms': (81, None)}.\n",
      "[INFO 04-07 00:48:19] ax.modelbridge.base: Leaving out out-of-design observations for arms: 729_0, 1035_0, 977_0, 489_0, 686_0, 1155_0, 1121_0, 1157_0, 775_0, 899_0\n",
      "[INFO 04-07 00:53:05] ax.service.ax_client: Generated new trial 1257 with parameters {'z_sh': 7, 'z_sh_1': 6, 'z_sh_2': 5, 'z_p2': 27, 'z_p2_1': 33, 'z_p2_2': 33, 'z_r2': 80, 'z_r2_1': 84, 'z_r2_2': 79, 'x_s': 0.5, 'x_s_1': 0.4, 'x_s_2': 0.3, 'x_p1': 0.605653, 'x_p1_1': 0.505653, 'x_p1_2': 0.405653, 'x_p2': 0.5, 'x_p2_1': 0.4, 'x_p2_2': 0.3, 'x_r2': 1.07965, 'x_r2_1': 0.97965, 'x_r2_2': 0.87965} using model BoTorch.\n",
      "[INFO 04-07 00:53:05] ax.service.ax_client: Completed trial 1257 with data: {'Viable_Cross_Terms': (80, None)}.\n",
      "[INFO 04-07 00:53:06] ax.modelbridge.base: Leaving out out-of-design observations for arms: 729_0, 1035_0, 977_0, 489_0, 686_0, 1155_0, 1121_0, 1157_0, 775_0, 899_0\n",
      "[INFO 04-07 00:57:53] ax.service.ax_client: Generated new trial 1258 with parameters {'z_sh': 7, 'z_sh_1': 6, 'z_sh_2': 5, 'z_p2': 29, 'z_p2_1': 32, 'z_p2_2': 29, 'z_r2': 80, 'z_r2_1': 72, 'z_r2_2': 73, 'x_s': 0.5, 'x_s_1': 0.4, 'x_s_2': 0.3, 'x_p1': 0.624396, 'x_p1_1': 0.524396, 'x_p1_2': 0.424396, 'x_p2': 0.5, 'x_p2_1': 0.4, 'x_p2_2': 0.3, 'x_r2': 1.05959, 'x_r2_1': 0.95959, 'x_r2_2': 0.85959} using model BoTorch.\n",
      "[INFO 04-07 00:57:53] ax.service.ax_client: Completed trial 1258 with data: {'Viable_Cross_Terms': (83, None)}.\n",
      "[INFO 04-07 00:57:54] ax.modelbridge.base: Leaving out out-of-design observations for arms: 729_0, 1035_0, 977_0, 489_0, 686_0, 1155_0, 1121_0, 1157_0, 775_0, 899_0\n",
      "[INFO 04-07 01:02:14] ax.service.ax_client: Generated new trial 1259 with parameters {'z_sh': 7, 'z_sh_1': 6, 'z_sh_2': 5, 'z_p2': 27, 'z_p2_1': 28, 'z_p2_2': 25, 'z_r2': 77, 'z_r2_1': 76, 'z_r2_2': 83, 'x_s': 0.5, 'x_s_1': 0.4, 'x_s_2': 0.3, 'x_p1': 0.564306, 'x_p1_1': 0.464306, 'x_p1_2': 0.364306, 'x_p2': 0.5, 'x_p2_1': 0.4, 'x_p2_2': 0.3, 'x_r2': 0.956881, 'x_r2_1': 0.856881, 'x_r2_2': 0.756881} using model BoTorch.\n",
      "[INFO 04-07 01:02:14] ax.service.ax_client: Completed trial 1259 with data: {'Viable_Cross_Terms': (39, None)}.\n",
      "[INFO 04-07 01:02:15] ax.modelbridge.base: Leaving out out-of-design observations for arms: 729_0, 1035_0, 977_0, 489_0, 686_0, 1155_0, 1121_0, 1157_0, 775_0, 899_0\n",
      "[INFO 04-07 01:06:58] ax.service.ax_client: Generated new trial 1260 with parameters {'z_sh': 7, 'z_sh_1': 6, 'z_sh_2': 5, 'z_p2': 35, 'z_p2_1': 34, 'z_p2_2': 33, 'z_r2': 80, 'z_r2_1': 71, 'z_r2_2': 84, 'x_s': 0.5, 'x_s_1': 0.4, 'x_s_2': 0.3, 'x_p1': 0.64008, 'x_p1_1': 0.54008, 'x_p1_2': 0.44008, 'x_p2': 0.5, 'x_p2_1': 0.4, 'x_p2_2': 0.3, 'x_r2': 1.073972, 'x_r2_1': 0.973972, 'x_r2_2': 0.873972} using model BoTorch.\n",
      "[INFO 04-07 01:06:58] ax.service.ax_client: Completed trial 1260 with data: {'Viable_Cross_Terms': (82, None)}.\n",
      "[INFO 04-07 01:06:58] ax.modelbridge.base: Leaving out out-of-design observations for arms: 729_0, 1035_0, 977_0, 489_0, 686_0, 1155_0, 1121_0, 1157_0, 775_0, 899_0\n",
      "[INFO 04-07 01:12:13] ax.service.ax_client: Generated new trial 1261 with parameters {'z_sh': 7, 'z_sh_1': 6, 'z_sh_2': 5, 'z_p2': 35, 'z_p2_1': 34, 'z_p2_2': 33, 'z_r2': 80, 'z_r2_1': 85, 'z_r2_2': 70, 'x_s': 0.5, 'x_s_1': 0.4, 'x_s_2': 0.3, 'x_p1': 0.616048, 'x_p1_1': 0.516048, 'x_p1_2': 0.416048, 'x_p2': 0.5, 'x_p2_1': 0.4, 'x_p2_2': 0.3, 'x_r2': 1.087986, 'x_r2_1': 0.987986, 'x_r2_2': 0.887986} using model BoTorch.\n",
      "[INFO 04-07 01:12:13] ax.service.ax_client: Completed trial 1261 with data: {'Viable_Cross_Terms': (78, None)}.\n",
      "[INFO 04-07 01:12:14] ax.modelbridge.base: Leaving out out-of-design observations for arms: 729_0, 1035_0, 977_0, 489_0, 686_0, 1155_0, 1121_0, 1157_0, 775_0, 899_0\n",
      "[INFO 04-07 01:17:39] ax.service.ax_client: Generated new trial 1262 with parameters {'z_sh': 7, 'z_sh_1': 14, 'z_sh_2': 5, 'z_p2': 35, 'z_p2_1': 34, 'z_p2_2': 33, 'z_r2': 80, 'z_r2_1': 85, 'z_r2_2': 84, 'x_s': 0.5, 'x_s_1': 0.4, 'x_s_2': 0.3, 'x_p1': 0.61721, 'x_p1_1': 0.51721, 'x_p1_2': 0.41721, 'x_p2': 0.5, 'x_p2_1': 0.4, 'x_p2_2': 0.3, 'x_r2': 1.053098, 'x_r2_1': 0.953098, 'x_r2_2': 0.853098} using model BoTorch.\n",
      "[INFO 04-07 01:17:39] ax.service.ax_client: Completed trial 1262 with data: {'Viable_Cross_Terms': (83, None)}.\n",
      "[INFO 04-07 01:17:40] ax.modelbridge.base: Leaving out out-of-design observations for arms: 729_0, 1035_0, 977_0, 489_0, 686_0, 1155_0, 1121_0, 1157_0, 775_0, 899_0\n",
      "[INFO 04-07 01:22:22] ax.service.ax_client: Generated new trial 1263 with parameters {'z_sh': 7, 'z_sh_1': 6, 'z_sh_2': 5, 'z_p2': 34, 'z_p2_1': 34, 'z_p2_2': 32, 'z_r2': 80, 'z_r2_1': 71, 'z_r2_2': 79, 'x_s': 0.5, 'x_s_1': 0.4, 'x_s_2': 0.3, 'x_p1': 0.6874, 'x_p1_1': 0.5874, 'x_p1_2': 0.4874, 'x_p2': 0.5, 'x_p2_1': 0.4, 'x_p2_2': 0.3, 'x_r2': 1.107177, 'x_r2_1': 1.007177, 'x_r2_2': 0.907177} using model BoTorch.\n",
      "[INFO 04-07 01:22:22] ax.service.ax_client: Completed trial 1263 with data: {'Viable_Cross_Terms': (79, None)}.\n",
      "[INFO 04-07 01:22:23] ax.modelbridge.base: Leaving out out-of-design observations for arms: 729_0, 1035_0, 977_0, 489_0, 686_0, 1155_0, 1121_0, 1157_0, 775_0, 899_0\n",
      "[INFO 04-07 01:28:21] ax.service.ax_client: Generated new trial 1264 with parameters {'z_sh': 7, 'z_sh_1': 14, 'z_sh_2': 5, 'z_p2': 35, 'z_p2_1': 34, 'z_p2_2': 25, 'z_r2': 80, 'z_r2_1': 71, 'z_r2_2': 84, 'x_s': 0.5, 'x_s_1': 0.4, 'x_s_2': 0.3, 'x_p1': 0.593256, 'x_p1_1': 0.493256, 'x_p1_2': 0.393256, 'x_p2': 0.5, 'x_p2_1': 0.4, 'x_p2_2': 0.3, 'x_r2': 1.056978, 'x_r2_1': 0.956978, 'x_r2_2': 0.856978} using model BoTorch.\n",
      "[INFO 04-07 01:28:21] ax.service.ax_client: Completed trial 1264 with data: {'Viable_Cross_Terms': (84, None)}.\n",
      "[INFO 04-07 01:28:22] ax.modelbridge.base: Leaving out out-of-design observations for arms: 729_0, 1035_0, 977_0, 489_0, 686_0, 1155_0, 1121_0, 1157_0, 775_0, 899_0\n",
      "[INFO 04-07 01:33:19] ax.service.ax_client: Generated new trial 1265 with parameters {'z_sh': 7, 'z_sh_1': 6, 'z_sh_2': 5, 'z_p2': 35, 'z_p2_1': 26, 'z_p2_2': 33, 'z_r2': 80, 'z_r2_1': 85, 'z_r2_2': 84, 'x_s': 0.5, 'x_s_1': 0.4, 'x_s_2': 0.3, 'x_p1': 0.581506, 'x_p1_1': 0.481506, 'x_p1_2': 0.381506, 'x_p2': 0.5, 'x_p2_1': 0.4, 'x_p2_2': 0.3, 'x_r2': 1.084592, 'x_r2_1': 0.984592, 'x_r2_2': 0.884592} using model BoTorch.\n",
      "[INFO 04-07 01:33:19] ax.service.ax_client: Completed trial 1265 with data: {'Viable_Cross_Terms': (73, None)}.\n",
      "[INFO 04-07 01:33:20] ax.modelbridge.base: Leaving out out-of-design observations for arms: 729_0, 1035_0, 977_0, 489_0, 686_0, 1155_0, 1121_0, 1157_0, 775_0, 899_0\n",
      "[INFO 04-07 01:39:19] ax.service.ax_client: Generated new trial 1266 with parameters {'z_sh': 7, 'z_sh_1': 8, 'z_sh_2': 5, 'z_p2': 27, 'z_p2_1': 27, 'z_p2_2': 33, 'z_r2': 83, 'z_r2_1': 72, 'z_r2_2': 84, 'x_s': 0.5, 'x_s_1': 0.4, 'x_s_2': 0.3, 'x_p1': 0.647138, 'x_p1_1': 0.547138, 'x_p1_2': 0.447138, 'x_p2': 0.5, 'x_p2_1': 0.4, 'x_p2_2': 0.3, 'x_r2': 0.962229, 'x_r2_1': 0.862229, 'x_r2_2': 0.762229} using model BoTorch.\n",
      "[INFO 04-07 01:39:19] ax.service.ax_client: Completed trial 1266 with data: {'Viable_Cross_Terms': (32, None)}.\n",
      "[INFO 04-07 01:39:20] ax.modelbridge.base: Leaving out out-of-design observations for arms: 729_0, 1035_0, 977_0, 489_0, 686_0, 1155_0, 1121_0, 1157_0, 775_0, 899_0\n",
      "[INFO 04-07 01:44:27] ax.service.ax_client: Generated new trial 1267 with parameters {'z_sh': 7, 'z_sh_1': 9, 'z_sh_2': 5, 'z_p2': 35, 'z_p2_1': 26, 'z_p2_2': 33, 'z_r2': 80, 'z_r2_1': 80, 'z_r2_2': 84, 'x_s': 0.5, 'x_s_1': 0.4, 'x_s_2': 0.3, 'x_p1': 0.595424, 'x_p1_1': 0.495424, 'x_p1_2': 0.395424, 'x_p2': 0.5, 'x_p2_1': 0.4, 'x_p2_2': 0.3, 'x_r2': 1.103642, 'x_r2_1': 1.003642, 'x_r2_2': 0.903642} using model BoTorch.\n",
      "[INFO 04-07 01:44:27] ax.service.ax_client: Completed trial 1267 with data: {'Viable_Cross_Terms': (72, None)}.\n",
      "[INFO 04-07 01:44:28] ax.modelbridge.base: Leaving out out-of-design observations for arms: 729_0, 1035_0, 977_0, 489_0, 686_0, 1155_0, 1121_0, 1157_0, 775_0, 899_0\n",
      "[INFO 04-07 01:49:38] ax.service.ax_client: Generated new trial 1268 with parameters {'z_sh': 7, 'z_sh_1': 6, 'z_sh_2': 5, 'z_p2': 34, 'z_p2_1': 34, 'z_p2_2': 32, 'z_r2': 80, 'z_r2_1': 80, 'z_r2_2': 80, 'x_s': 0.5, 'x_s_1': 0.4, 'x_s_2': 0.3, 'x_p1': 0.630568, 'x_p1_1': 0.530568, 'x_p1_2': 0.430568, 'x_p2': 0.5, 'x_p2_1': 0.4, 'x_p2_2': 0.3, 'x_r2': 1.057368, 'x_r2_1': 0.957368, 'x_r2_2': 0.857368} using model BoTorch.\n",
      "[INFO 04-07 01:49:38] ax.service.ax_client: Completed trial 1268 with data: {'Viable_Cross_Terms': (83, None)}.\n",
      "[INFO 04-07 01:49:39] ax.modelbridge.base: Leaving out out-of-design observations for arms: 729_0, 1035_0, 977_0, 489_0, 1268_0, 1155_0, 686_0, 1121_0, 1157_0, 775_0, 899_0\n",
      "[INFO 04-07 01:53:00] ax.service.ax_client: Generated new trial 1269 with parameters {'z_sh': 15, 'z_sh_1': 13, 'z_sh_2': 5, 'z_p2': 29, 'z_p2_1': 33, 'z_p2_2': 30, 'z_r2': 86, 'z_r2_1': 79, 'z_r2_2': 79, 'x_s': -0.3, 'x_s_1': -0.4, 'x_s_2': -0.5, 'x_p1': 0.042689, 'x_p1_1': -0.057311, 'x_p1_2': -0.157311, 'x_p2': -0.3, 'x_p2_1': -0.4, 'x_p2_2': -0.5, 'x_r2': -0.507119, 'x_r2_1': -0.607119, 'x_r2_2': -0.707119} using model BoTorch.\n",
      "[INFO 04-07 01:53:00] ax.service.ax_client: Completed trial 1269 with data: {'Viable_Cross_Terms': (10, None)}.\n",
      "[INFO 04-07 01:53:01] ax.modelbridge.base: Leaving out out-of-design observations for arms: 729_0, 1035_0, 977_0, 489_0, 1268_0, 1155_0, 686_0, 1121_0, 1157_0, 775_0, 899_0\n",
      "[INFO 04-07 01:58:24] ax.service.ax_client: Generated new trial 1270 with parameters {'z_sh': 13, 'z_sh_1': 6, 'z_sh_2': 5, 'z_p2': 27, 'z_p2_1': 34, 'z_p2_2': 31, 'z_r2': 80, 'z_r2_1': 85, 'z_r2_2': 84, 'x_s': 0.5, 'x_s_1': 0.4, 'x_s_2': 0.3, 'x_p1': 0.626917, 'x_p1_1': 0.526917, 'x_p1_2': 0.426917, 'x_p2': 0.5, 'x_p2_1': 0.4, 'x_p2_2': 0.3, 'x_r2': 1.070001, 'x_r2_1': 0.970001, 'x_r2_2': 0.870001} using model BoTorch.\n",
      "[INFO 04-07 01:58:24] ax.service.ax_client: Completed trial 1270 with data: {'Viable_Cross_Terms': (81, None)}.\n",
      "[INFO 04-07 01:58:25] ax.modelbridge.base: Leaving out out-of-design observations for arms: 729_0, 1035_0, 977_0, 489_0, 1268_0, 1155_0, 686_0, 1121_0, 1157_0, 775_0, 899_0\n",
      "[INFO 04-07 02:03:24] ax.service.ax_client: Generated new trial 1271 with parameters {'z_sh': 7, 'z_sh_1': 6, 'z_sh_2': 5, 'z_p2': 35, 'z_p2_1': 34, 'z_p2_2': 33, 'z_r2': 80, 'z_r2_1': 71, 'z_r2_2': 84, 'x_s': 0.5, 'x_s_1': 0.4, 'x_s_2': 0.3, 'x_p1': 0.603678, 'x_p1_1': 0.503678, 'x_p1_2': 0.403678, 'x_p2': 0.5, 'x_p2_1': 0.4, 'x_p2_2': 0.3, 'x_r2': 1.0479, 'x_r2_1': 0.9479, 'x_r2_2': 0.8479} using model BoTorch.\n",
      "[INFO 04-07 02:03:24] ax.service.ax_client: Completed trial 1271 with data: {'Viable_Cross_Terms': (81, None)}.\n",
      "[INFO 04-07 02:03:25] ax.modelbridge.base: Leaving out out-of-design observations for arms: 729_0, 1035_0, 977_0, 489_0, 1268_0, 1155_0, 686_0, 1121_0, 1157_0, 775_0, 899_0\n",
      "[INFO 04-07 02:10:41] ax.service.ax_client: Generated new trial 1272 with parameters {'z_sh': 7, 'z_sh_1': 8, 'z_sh_2': 5, 'z_p2': 35, 'z_p2_1': 29, 'z_p2_2': 33, 'z_r2': 80, 'z_r2_1': 73, 'z_r2_2': 84, 'x_s': 0.5, 'x_s_1': 0.4, 'x_s_2': 0.3, 'x_p1': 0.759789, 'x_p1_1': 0.659789, 'x_p1_2': 0.559789, 'x_p2': 0.306292, 'x_p2_1': 0.206292, 'x_p2_2': 0.106292, 'x_r2': 0.991055, 'x_r2_1': 0.891055, 'x_r2_2': 0.791055} using model BoTorch.\n",
      "[INFO 04-07 02:10:41] ax.service.ax_client: Completed trial 1272 with data: {'Viable_Cross_Terms': (73, None)}.\n",
      "[INFO 04-07 02:10:42] ax.modelbridge.base: Leaving out out-of-design observations for arms: 729_0, 1035_0, 977_0, 489_0, 1268_0, 1155_0, 686_0, 1121_0, 1157_0, 775_0, 899_0\n",
      "[INFO 04-07 02:15:51] ax.service.ax_client: Generated new trial 1273 with parameters {'z_sh': 7, 'z_sh_1': 6, 'z_sh_2': 5, 'z_p2': 35, 'z_p2_1': 34, 'z_p2_2': 33, 'z_r2': 80, 'z_r2_1': 71, 'z_r2_2': 84, 'x_s': 0.5, 'x_s_1': 0.4, 'x_s_2': 0.3, 'x_p1': 0.603648, 'x_p1_1': 0.503648, 'x_p1_2': 0.403648, 'x_p2': 0.5, 'x_p2_1': 0.4, 'x_p2_2': 0.3, 'x_r2': 1.053202, 'x_r2_1': 0.953202, 'x_r2_2': 0.853202} using model BoTorch.\n",
      "[INFO 04-07 02:15:51] ax.service.ax_client: Completed trial 1273 with data: {'Viable_Cross_Terms': (81, None)}.\n",
      "[INFO 04-07 02:15:52] ax.modelbridge.base: Leaving out out-of-design observations for arms: 729_0, 1035_0, 977_0, 489_0, 1268_0, 1155_0, 686_0, 1121_0, 1157_0, 775_0, 899_0\n",
      "[INFO 04-07 02:21:03] ax.service.ax_client: Generated new trial 1274 with parameters {'z_sh': 7, 'z_sh_1': 6, 'z_sh_2': 5, 'z_p2': 27, 'z_p2_1': 34, 'z_p2_2': 28, 'z_r2': 80, 'z_r2_1': 84, 'z_r2_2': 84, 'x_s': 0.5, 'x_s_1': 0.4, 'x_s_2': 0.3, 'x_p1': 0.680148, 'x_p1_1': 0.580148, 'x_p1_2': 0.480148, 'x_p2': 0.5, 'x_p2_1': 0.4, 'x_p2_2': 0.3, 'x_r2': 1.117432, 'x_r2_1': 1.017432, 'x_r2_2': 0.917432} using model BoTorch.\n",
      "[INFO 04-07 02:21:03] ax.service.ax_client: Completed trial 1274 with data: {'Viable_Cross_Terms': (82, None)}.\n",
      "[INFO 04-07 02:21:03] ax.modelbridge.base: Leaving out out-of-design observations for arms: 729_0, 1035_0, 977_0, 489_0, 1268_0, 1155_0, 686_0, 1121_0, 1157_0, 775_0, 899_0\n",
      "[INFO 04-07 02:25:23] ax.service.ax_client: Generated new trial 1275 with parameters {'z_sh': 7, 'z_sh_1': 6, 'z_sh_2': 5, 'z_p2': 34, 'z_p2_1': 34, 'z_p2_2': 32, 'z_r2': 80, 'z_r2_1': 71, 'z_r2_2': 82, 'x_s': 0.5, 'x_s_1': 0.4, 'x_s_2': 0.3, 'x_p1': 0.599581, 'x_p1_1': 0.499581, 'x_p1_2': 0.399581, 'x_p2': 0.5, 'x_p2_1': 0.4, 'x_p2_2': 0.3, 'x_r2': 1.042374, 'x_r2_1': 0.942374, 'x_r2_2': 0.842374} using model BoTorch.\n",
      "[INFO 04-07 02:25:23] ax.service.ax_client: Completed trial 1275 with data: {'Viable_Cross_Terms': (80, None)}.\n",
      "[INFO 04-07 02:25:23] ax.modelbridge.base: Leaving out out-of-design observations for arms: 729_0, 1035_0, 977_0, 489_0, 1268_0, 1155_0, 686_0, 1121_0, 1157_0, 775_0, 899_0\n",
      "[INFO 04-07 02:30:55] ax.service.ax_client: Generated new trial 1276 with parameters {'z_sh': 7, 'z_sh_1': 6, 'z_sh_2': 5, 'z_p2': 35, 'z_p2_1': 34, 'z_p2_2': 33, 'z_r2': 80, 'z_r2_1': 73, 'z_r2_2': 84, 'x_s': 0.5, 'x_s_1': 0.4, 'x_s_2': 0.3, 'x_p1': 0.603944, 'x_p1_1': 0.503944, 'x_p1_2': 0.403944, 'x_p2': 0.5, 'x_p2_1': 0.4, 'x_p2_2': 0.3, 'x_r2': 1.097864, 'x_r2_1': 0.997864, 'x_r2_2': 0.897864} using model BoTorch.\n",
      "[INFO 04-07 02:30:55] ax.service.ax_client: Completed trial 1276 with data: {'Viable_Cross_Terms': (74, None)}.\n",
      "[INFO 04-07 02:30:56] ax.modelbridge.base: Leaving out out-of-design observations for arms: 729_0, 1035_0, 977_0, 489_0, 1268_0, 1155_0, 686_0, 1121_0, 1157_0, 775_0, 899_0\n",
      "[INFO 04-07 02:37:15] ax.service.ax_client: Generated new trial 1277 with parameters {'z_sh': 7, 'z_sh_1': 13, 'z_sh_2': 13, 'z_p2': 29, 'z_p2_1': 28, 'z_p2_2': 30, 'z_r2': 86, 'z_r2_1': 74, 'z_r2_2': 80, 'x_s': 0.5, 'x_s_1': 0.4, 'x_s_2': 0.3, 'x_p1': 0.782297, 'x_p1_1': 0.682297, 'x_p1_2': 0.582297, 'x_p2': 0.179628, 'x_p2_1': 0.079628, 'x_p2_2': -0.020372, 'x_r2': 0.969871, 'x_r2_1': 0.869871, 'x_r2_2': 0.769871} using model BoTorch.\n",
      "[INFO 04-07 02:37:15] ax.service.ax_client: Completed trial 1277 with data: {'Viable_Cross_Terms': (26, None)}.\n",
      "[INFO 04-07 02:37:16] ax.modelbridge.base: Leaving out out-of-design observations for arms: 729_0, 1035_0, 977_0, 489_0, 1268_0, 1155_0, 686_0, 1121_0, 1157_0, 775_0, 899_0\n",
      "[INFO 04-07 02:42:18] ax.service.ax_client: Generated new trial 1278 with parameters {'z_sh': 11, 'z_sh_1': 12, 'z_sh_2': 5, 'z_p2': 34, 'z_p2_1': 32, 'z_p2_2': 29, 'z_r2': 77, 'z_r2_1': 80, 'z_r2_2': 80, 'x_s': 0.5, 'x_s_1': 0.4, 'x_s_2': 0.3, 'x_p1': 0.576192, 'x_p1_1': 0.476192, 'x_p1_2': 0.376192, 'x_p2': 0.5, 'x_p2_1': 0.4, 'x_p2_2': 0.3, 'x_r2': 0.965968, 'x_r2_1': 0.865968, 'x_r2_2': 0.765968} using model BoTorch.\n",
      "[INFO 04-07 02:42:18] ax.service.ax_client: Completed trial 1278 with data: {'Viable_Cross_Terms': (79, None)}.\n",
      "[INFO 04-07 02:42:18] ax.modelbridge.base: Leaving out out-of-design observations for arms: 729_0, 1035_0, 977_0, 489_0, 1268_0, 1155_0, 686_0, 1121_0, 1157_0, 775_0, 899_0\n",
      "[INFO 04-07 02:47:44] ax.service.ax_client: Generated new trial 1279 with parameters {'z_sh': 7, 'z_sh_1': 7, 'z_sh_2': 5, 'z_p2': 31, 'z_p2_1': 28, 'z_p2_2': 27, 'z_r2': 83, 'z_r2_1': 81, 'z_r2_2': 73, 'x_s': 0.5, 'x_s_1': 0.4, 'x_s_2': 0.3, 'x_p1': 0.643063, 'x_p1_1': 0.543063, 'x_p1_2': 0.443063, 'x_p2': 0.5, 'x_p2_1': 0.4, 'x_p2_2': 0.3, 'x_r2': 0.959036, 'x_r2_1': 0.859036, 'x_r2_2': 0.759036} using model BoTorch.\n",
      "[INFO 04-07 02:47:44] ax.service.ax_client: Completed trial 1279 with data: {'Viable_Cross_Terms': (32, None)}.\n",
      "[INFO 04-07 02:47:45] ax.modelbridge.base: Leaving out out-of-design observations for arms: 729_0, 1035_0, 977_0, 489_0, 1268_0, 1155_0, 686_0, 1121_0, 1157_0, 775_0, 899_0\n",
      "[INFO 04-07 02:52:04] ax.service.ax_client: Generated new trial 1280 with parameters {'z_sh': 11, 'z_sh_1': 12, 'z_sh_2': 5, 'z_p2': 28, 'z_p2_1': 34, 'z_p2_2': 26, 'z_r2': 81, 'z_r2_1': 74, 'z_r2_2': 77, 'x_s': 0.5, 'x_s_1': 0.4, 'x_s_2': 0.3, 'x_p1': 0.601944, 'x_p1_1': 0.501944, 'x_p1_2': 0.401944, 'x_p2': 0.5, 'x_p2_1': 0.4, 'x_p2_2': 0.3, 'x_r2': 1.046545, 'x_r2_1': 0.946545, 'x_r2_2': 0.846545} using model BoTorch.\n",
      "[INFO 04-07 02:52:04] ax.service.ax_client: Completed trial 1280 with data: {'Viable_Cross_Terms': (38, None)}.\n",
      "[INFO 04-07 02:52:05] ax.modelbridge.base: Leaving out out-of-design observations for arms: 729_0, 1035_0, 977_0, 489_0, 1268_0, 1155_0, 686_0, 1121_0, 1157_0, 775_0, 899_0\n",
      "[INFO 04-07 02:57:57] ax.service.ax_client: Generated new trial 1281 with parameters {'z_sh': 7, 'z_sh_1': 13, 'z_sh_2': 10, 'z_p2': 27, 'z_p2_1': 31, 'z_p2_2': 30, 'z_r2': 85, 'z_r2_1': 81, 'z_r2_2': 77, 'x_s': 0.5, 'x_s_1': 0.4, 'x_s_2': 0.3, 'x_p1': 0.664181, 'x_p1_1': 0.564181, 'x_p1_2': 0.464181, 'x_p2': 0.5, 'x_p2_1': 0.4, 'x_p2_2': 0.3, 'x_r2': 0.983823, 'x_r2_1': 0.883823, 'x_r2_2': 0.783823} using model BoTorch.\n",
      "[INFO 04-07 02:57:57] ax.service.ax_client: Completed trial 1281 with data: {'Viable_Cross_Terms': (32, None)}.\n",
      "[INFO 04-07 02:57:58] ax.modelbridge.base: Leaving out out-of-design observations for arms: 729_0, 1035_0, 977_0, 489_0, 1268_0, 1155_0, 686_0, 1121_0, 1157_0, 775_0, 899_0\n",
      "[INFO 04-07 03:03:02] ax.service.ax_client: Generated new trial 1282 with parameters {'z_sh': 7, 'z_sh_1': 8, 'z_sh_2': 5, 'z_p2': 35, 'z_p2_1': 34, 'z_p2_2': 33, 'z_r2': 77, 'z_r2_1': 77, 'z_r2_2': 84, 'x_s': 0.5, 'x_s_1': 0.4, 'x_s_2': 0.3, 'x_p1': 0.530556, 'x_p1_1': 0.430556, 'x_p1_2': 0.330556, 'x_p2': 0.5, 'x_p2_1': 0.4, 'x_p2_2': 0.3, 'x_r2': 0.958569, 'x_r2_1': 0.858569, 'x_r2_2': 0.758569} using model BoTorch.\n",
      "[INFO 04-07 03:03:02] ax.service.ax_client: Completed trial 1282 with data: {'Viable_Cross_Terms': (34, None)}.\n",
      "[INFO 04-07 03:03:03] ax.modelbridge.base: Leaving out out-of-design observations for arms: 729_0, 1035_0, 977_0, 489_0, 1268_0, 1155_0, 686_0, 1121_0, 1157_0, 775_0, 899_0\n",
      "[INFO 04-07 03:08:15] ax.service.ax_client: Generated new trial 1283 with parameters {'z_sh': 9, 'z_sh_1': 14, 'z_sh_2': 6, 'z_p2': 30, 'z_p2_1': 29, 'z_p2_2': 25, 'z_r2': 77, 'z_r2_1': 77, 'z_r2_2': 81, 'x_s': 0.5, 'x_s_1': 0.4, 'x_s_2': 0.3, 'x_p1': 0.564857, 'x_p1_1': 0.464857, 'x_p1_2': 0.364857, 'x_p2': 0.5, 'x_p2_1': 0.4, 'x_p2_2': 0.3, 'x_r2': 0.956234, 'x_r2_1': 0.856234, 'x_r2_2': 0.756234} using model BoTorch.\n",
      "[INFO 04-07 03:08:15] ax.service.ax_client: Completed trial 1283 with data: {'Viable_Cross_Terms': (39, None)}.\n",
      "[INFO 04-07 03:08:16] ax.modelbridge.base: Leaving out out-of-design observations for arms: 729_0, 1035_0, 977_0, 489_0, 1268_0, 1155_0, 686_0, 1121_0, 1157_0, 775_0, 899_0\n",
      "[INFO 04-07 03:12:52] ax.service.ax_client: Generated new trial 1284 with parameters {'z_sh': 7, 'z_sh_1': 6, 'z_sh_2': 5, 'z_p2': 35, 'z_p2_1': 34, 'z_p2_2': 33, 'z_r2': 80, 'z_r2_1': 85, 'z_r2_2': 84, 'x_s': 0.5, 'x_s_1': 0.4, 'x_s_2': 0.3, 'x_p1': 0.635111, 'x_p1_1': 0.535111, 'x_p1_2': 0.435111, 'x_p2': 0.5, 'x_p2_1': 0.4, 'x_p2_2': 0.3, 'x_r2': 1.083115, 'x_r2_1': 0.983115, 'x_r2_2': 0.883115} using model BoTorch.\n",
      "[INFO 04-07 03:12:52] ax.service.ax_client: Completed trial 1284 with data: {'Viable_Cross_Terms': (81, None)}.\n",
      "[INFO 04-07 03:12:54] ax.modelbridge.base: Leaving out out-of-design observations for arms: 729_0, 1035_0, 977_0, 489_0, 1268_0, 1155_0, 686_0, 1121_0, 1157_0, 775_0, 899_0\n",
      "[INFO 04-07 03:18:23] ax.service.ax_client: Generated new trial 1285 with parameters {'z_sh': 7, 'z_sh_1': 10, 'z_sh_2': 5, 'z_p2': 35, 'z_p2_1': 34, 'z_p2_2': 33, 'z_r2': 80, 'z_r2_1': 77, 'z_r2_2': 84, 'x_s': 0.5, 'x_s_1': 0.4, 'x_s_2': 0.3, 'x_p1': 0.633774, 'x_p1_1': 0.533774, 'x_p1_2': 0.433774, 'x_p2': 0.5, 'x_p2_1': 0.4, 'x_p2_2': 0.3, 'x_r2': 1.052513, 'x_r2_1': 0.952513, 'x_r2_2': 0.852513} using model BoTorch.\n",
      "[INFO 04-07 03:18:23] ax.service.ax_client: Completed trial 1285 with data: {'Viable_Cross_Terms': (86, None)}.\n",
      "[INFO 04-07 03:18:24] ax.modelbridge.base: Leaving out out-of-design observations for arms: 729_0, 1035_0, 977_0, 489_0, 1268_0, 1155_0, 686_0, 1121_0, 1157_0, 775_0, 899_0\n",
      "[INFO 04-07 03:24:05] ax.service.ax_client: Generated new trial 1286 with parameters {'z_sh': 7, 'z_sh_1': 6, 'z_sh_2': 5, 'z_p2': 35, 'z_p2_1': 34, 'z_p2_2': 33, 'z_r2': 80, 'z_r2_1': 71, 'z_r2_2': 84, 'x_s': 0.5, 'x_s_1': 0.4, 'x_s_2': 0.3, 'x_p1': 0.615716, 'x_p1_1': 0.515716, 'x_p1_2': 0.415716, 'x_p2': 0.5, 'x_p2_1': 0.4, 'x_p2_2': 0.3, 'x_r2': 1.054957, 'x_r2_1': 0.954957, 'x_r2_2': 0.854957} using model BoTorch.\n",
      "[INFO 04-07 03:24:05] ax.service.ax_client: Completed trial 1286 with data: {'Viable_Cross_Terms': (83, None)}.\n",
      "[INFO 04-07 03:24:06] ax.modelbridge.base: Leaving out out-of-design observations for arms: 729_0, 1035_0, 977_0, 489_0, 1268_0, 1155_0, 686_0, 1121_0, 1157_0, 775_0, 899_0\n",
      "[INFO 04-07 03:29:00] ax.service.ax_client: Generated new trial 1287 with parameters {'z_sh': 7, 'z_sh_1': 6, 'z_sh_2': 5, 'z_p2': 35, 'z_p2_1': 34, 'z_p2_2': 33, 'z_r2': 80, 'z_r2_1': 71, 'z_r2_2': 84, 'x_s': 0.5, 'x_s_1': 0.4, 'x_s_2': 0.3, 'x_p1': 0.605987, 'x_p1_1': 0.505987, 'x_p1_2': 0.405987, 'x_p2': 0.5, 'x_p2_1': 0.4, 'x_p2_2': 0.3, 'x_r2': 1.057574, 'x_r2_1': 0.957574, 'x_r2_2': 0.857574} using model BoTorch.\n",
      "[INFO 04-07 03:29:00] ax.service.ax_client: Completed trial 1287 with data: {'Viable_Cross_Terms': (81, None)}.\n",
      "[INFO 04-07 03:29:01] ax.modelbridge.base: Leaving out out-of-design observations for arms: 729_0, 1035_0, 977_0, 489_0, 1268_0, 1155_0, 686_0, 1121_0, 1157_0, 775_0, 899_0\n",
      "[INFO 04-07 03:34:16] ax.service.ax_client: Generated new trial 1288 with parameters {'z_sh': 7, 'z_sh_1': 6, 'z_sh_2': 5, 'z_p2': 35, 'z_p2_1': 34, 'z_p2_2': 25, 'z_r2': 80, 'z_r2_1': 85, 'z_r2_2': 84, 'x_s': 0.5, 'x_s_1': 0.4, 'x_s_2': 0.3, 'x_p1': 0.610329, 'x_p1_1': 0.510329, 'x_p1_2': 0.410329, 'x_p2': 0.5, 'x_p2_1': 0.4, 'x_p2_2': 0.3, 'x_r2': 1.059088, 'x_r2_1': 0.959088, 'x_r2_2': 0.859088} using model BoTorch.\n",
      "[INFO 04-07 03:34:16] ax.service.ax_client: Completed trial 1288 with data: {'Viable_Cross_Terms': (81, None)}.\n",
      "[INFO 04-07 03:34:17] ax.modelbridge.base: Leaving out out-of-design observations for arms: 729_0, 1035_0, 977_0, 489_0, 1268_0, 1155_0, 686_0, 1121_0, 1157_0, 775_0, 899_0\n",
      "[INFO 04-07 03:39:22] ax.service.ax_client: Generated new trial 1289 with parameters {'z_sh': 7, 'z_sh_1': 14, 'z_sh_2': 5, 'z_p2': 35, 'z_p2_1': 34, 'z_p2_2': 33, 'z_r2': 80, 'z_r2_1': 71, 'z_r2_2': 84, 'x_s': 0.5, 'x_s_1': 0.4, 'x_s_2': 0.3, 'x_p1': 0.597221, 'x_p1_1': 0.497221, 'x_p1_2': 0.397221, 'x_p2': 0.5, 'x_p2_1': 0.4, 'x_p2_2': 0.3, 'x_r2': 1.054645, 'x_r2_1': 0.954645, 'x_r2_2': 0.854645} using model BoTorch.\n",
      "[INFO 04-07 03:39:22] ax.service.ax_client: Completed trial 1289 with data: {'Viable_Cross_Terms': (83, None)}.\n",
      "[INFO 04-07 03:39:22] ax.modelbridge.base: Leaving out out-of-design observations for arms: 729_0, 1035_0, 977_0, 489_0, 1268_0, 1155_0, 686_0, 1121_0, 1157_0, 775_0, 899_0\n",
      "[INFO 04-07 03:44:06] ax.service.ax_client: Generated new trial 1290 with parameters {'z_sh': 7, 'z_sh_1': 6, 'z_sh_2': 5, 'z_p2': 35, 'z_p2_1': 34, 'z_p2_2': 33, 'z_r2': 77, 'z_r2_1': 71, 'z_r2_2': 84, 'x_s': 0.5, 'x_s_1': 0.4, 'x_s_2': 0.3, 'x_p1': 0.552827, 'x_p1_1': 0.452827, 'x_p1_2': 0.352827, 'x_p2': 0.5, 'x_p2_1': 0.4, 'x_p2_2': 0.3, 'x_r2': 0.960875, 'x_r2_1': 0.860875, 'x_r2_2': 0.760875} using model BoTorch.\n",
      "[INFO 04-07 03:44:06] ax.service.ax_client: Completed trial 1290 with data: {'Viable_Cross_Terms': (34, None)}.\n",
      "[INFO 04-07 03:44:07] ax.modelbridge.base: Leaving out out-of-design observations for arms: 729_0, 1035_0, 977_0, 489_0, 1268_0, 1155_0, 686_0, 1121_0, 1157_0, 775_0, 899_0\n",
      "[INFO 04-07 03:51:50] ax.service.ax_client: Generated new trial 1291 with parameters {'z_sh': 10, 'z_sh_1': 12, 'z_sh_2': 8, 'z_p2': 29, 'z_p2_1': 27, 'z_p2_2': 29, 'z_r2': 81, 'z_r2_1': 71, 'z_r2_2': 79, 'x_s': 0.5, 'x_s_1': 0.4, 'x_s_2': 0.3, 'x_p1': 0.496629, 'x_p1_1': 0.396629, 'x_p1_2': 0.296629, 'x_p2': 0.5, 'x_p2_1': 0.4, 'x_p2_2': -0.364029, 'x_r2': 0.95963, 'x_r2_1': 0.719772, 'x_r2_2': 0.619772} using model BoTorch.\n",
      "[INFO 04-07 03:51:50] ax.service.ax_client: Completed trial 1291 with data: {'Viable_Cross_Terms': (19, None)}.\n",
      "[INFO 04-07 03:51:50] ax.modelbridge.base: Leaving out out-of-design observations for arms: 729_0, 1035_0, 977_0, 489_0, 1268_0, 1155_0, 686_0, 1121_0, 1157_0, 775_0, 899_0\n",
      "[INFO 04-07 03:56:58] ax.service.ax_client: Generated new trial 1292 with parameters {'z_sh': 7, 'z_sh_1': 6, 'z_sh_2': 5, 'z_p2': 27, 'z_p2_1': 34, 'z_p2_2': 32, 'z_r2': 80, 'z_r2_1': 84, 'z_r2_2': 84, 'x_s': 0.5, 'x_s_1': 0.4, 'x_s_2': 0.3, 'x_p1': 0.570399, 'x_p1_1': 0.470399, 'x_p1_2': 0.370399, 'x_p2': 0.5, 'x_p2_1': 0.4, 'x_p2_2': 0.3, 'x_r2': 1.028675, 'x_r2_1': 0.928675, 'x_r2_2': 0.828675} using model BoTorch.\n",
      "[INFO 04-07 03:56:58] ax.service.ax_client: Completed trial 1292 with data: {'Viable_Cross_Terms': (77, None)}.\n",
      "[INFO 04-07 03:56:59] ax.modelbridge.base: Leaving out out-of-design observations for arms: 729_0, 1035_0, 977_0, 489_0, 1268_0, 1155_0, 686_0, 1121_0, 1157_0, 775_0, 899_0\n",
      "[INFO 04-07 04:01:46] ax.service.ax_client: Generated new trial 1293 with parameters {'z_sh': 7, 'z_sh_1': 13, 'z_sh_2': 5, 'z_p2': 34, 'z_p2_1': 34, 'z_p2_2': 32, 'z_r2': 80, 'z_r2_1': 77, 'z_r2_2': 83, 'x_s': 0.499999, 'x_s_1': 0.400011, 'x_s_2': 0.300127, 'x_p1': 0.629052, 'x_p1_1': 0.529225, 'x_p1_2': 0.429238, 'x_p2': 0.5, 'x_p2_1': 0.40001, 'x_p2_2': 0.300169, 'x_r2': 1.0935, 'x_r2_1': 0.993486, 'x_r2_2': 0.893593} using model BoTorch.\n",
      "[INFO 04-07 04:01:46] ax.service.ax_client: Completed trial 1293 with data: {'Viable_Cross_Terms': (80, None)}.\n",
      "[INFO 04-07 04:01:47] ax.modelbridge.base: Leaving out out-of-design observations for arms: 729_0, 1035_0, 977_0, 489_0, 1268_0, 1155_0, 1293_0, 686_0, 1121_0, 1157_0, 775_0, 899_0\n",
      "[INFO 04-07 04:05:17] ax.service.ax_client: Generated new trial 1294 with parameters {'z_sh': 7, 'z_sh_1': 6, 'z_sh_2': 5, 'z_p2': 27, 'z_p2_1': 34, 'z_p2_2': 32, 'z_r2': 80, 'z_r2_1': 84, 'z_r2_2': 84, 'x_s': 0.5, 'x_s_1': 0.4, 'x_s_2': 0.3, 'x_p1': 0.595816, 'x_p1_1': 0.495816, 'x_p1_2': 0.395816, 'x_p2': 0.5, 'x_p2_1': 0.4, 'x_p2_2': 0.3, 'x_r2': 1.063651, 'x_r2_1': 0.963651, 'x_r2_2': 0.863651} using model BoTorch.\n",
      "[INFO 04-07 04:05:17] ax.service.ax_client: Completed trial 1294 with data: {'Viable_Cross_Terms': (84, None)}.\n",
      "[INFO 04-07 04:05:18] ax.modelbridge.base: Leaving out out-of-design observations for arms: 729_0, 1035_0, 977_0, 489_0, 1268_0, 1155_0, 1293_0, 686_0, 1121_0, 1157_0, 775_0, 899_0\n",
      "[INFO 04-07 04:10:41] ax.service.ax_client: Generated new trial 1295 with parameters {'z_sh': 7, 'z_sh_1': 6, 'z_sh_2': 5, 'z_p2': 35, 'z_p2_1': 34, 'z_p2_2': 25, 'z_r2': 80, 'z_r2_1': 71, 'z_r2_2': 84, 'x_s': 0.5, 'x_s_1': 0.4, 'x_s_2': 0.3, 'x_p1': 0.614105, 'x_p1_1': 0.514105, 'x_p1_2': 0.414105, 'x_p2': 0.5, 'x_p2_1': 0.4, 'x_p2_2': 0.3, 'x_r2': 1.050133, 'x_r2_1': 0.950133, 'x_r2_2': 0.850133} using model BoTorch.\n",
      "[INFO 04-07 04:10:41] ax.service.ax_client: Completed trial 1295 with data: {'Viable_Cross_Terms': (83, None)}.\n",
      "[INFO 04-07 04:10:42] ax.modelbridge.base: Leaving out out-of-design observations for arms: 729_0, 1035_0, 977_0, 489_0, 1268_0, 1155_0, 1293_0, 686_0, 1121_0, 1157_0, 775_0, 899_0\n",
      "[INFO 04-07 04:15:30] ax.service.ax_client: Generated new trial 1296 with parameters {'z_sh': 7, 'z_sh_1': 6, 'z_sh_2': 5, 'z_p2': 27, 'z_p2_1': 34, 'z_p2_2': 32, 'z_r2': 80, 'z_r2_1': 84, 'z_r2_2': 84, 'x_s': 0.5, 'x_s_1': 0.4, 'x_s_2': 0.3, 'x_p1': 0.646824, 'x_p1_1': 0.546824, 'x_p1_2': 0.446824, 'x_p2': 0.5, 'x_p2_1': 0.4, 'x_p2_2': 0.3, 'x_r2': 1.06583, 'x_r2_1': 0.96583, 'x_r2_2': 0.86583} using model BoTorch.\n",
      "[INFO 04-07 04:15:30] ax.service.ax_client: Completed trial 1296 with data: {'Viable_Cross_Terms': (83, None)}.\n",
      "[INFO 04-07 04:15:31] ax.modelbridge.base: Leaving out out-of-design observations for arms: 729_0, 1035_0, 977_0, 489_0, 1268_0, 1155_0, 1293_0, 686_0, 1121_0, 1157_0, 775_0, 899_0\n",
      "[INFO 04-07 04:21:31] ax.service.ax_client: Generated new trial 1297 with parameters {'z_sh': 7, 'z_sh_1': 6, 'z_sh_2': 5, 'z_p2': 27, 'z_p2_1': 34, 'z_p2_2': 25, 'z_r2': 80, 'z_r2_1': 85, 'z_r2_2': 84, 'x_s': 0.5, 'x_s_1': 0.4, 'x_s_2': 0.3, 'x_p1': 0.613774, 'x_p1_1': 0.513774, 'x_p1_2': 0.413774, 'x_p2': 0.5, 'x_p2_1': 0.4, 'x_p2_2': 0.3, 'x_r2': 1.102061, 'x_r2_1': 1.002061, 'x_r2_2': 0.902061} using model BoTorch.\n",
      "[INFO 04-07 04:21:31] ax.service.ax_client: Completed trial 1297 with data: {'Viable_Cross_Terms': (79, None)}.\n",
      "[INFO 04-07 04:21:32] ax.modelbridge.base: Leaving out out-of-design observations for arms: 729_0, 1035_0, 977_0, 489_0, 1268_0, 1155_0, 1293_0, 686_0, 1121_0, 1157_0, 775_0, 899_0\n",
      "[INFO 04-07 04:26:55] ax.service.ax_client: Generated new trial 1298 with parameters {'z_sh': 7, 'z_sh_1': 13, 'z_sh_2': 5, 'z_p2': 34, 'z_p2_1': 34, 'z_p2_2': 32, 'z_r2': 80, 'z_r2_1': 72, 'z_r2_2': 83, 'x_s': 0.5, 'x_s_1': 0.4, 'x_s_2': 0.3, 'x_p1': 0.628721, 'x_p1_1': 0.528721, 'x_p1_2': 0.428721, 'x_p2': 0.5, 'x_p2_1': 0.4, 'x_p2_2': 0.3, 'x_r2': 1.106092, 'x_r2_1': 1.006092, 'x_r2_2': 0.906092} using model BoTorch.\n",
      "[INFO 04-07 04:26:55] ax.service.ax_client: Completed trial 1298 with data: {'Viable_Cross_Terms': (78, None)}.\n",
      "[INFO 04-07 04:26:56] ax.modelbridge.base: Leaving out out-of-design observations for arms: 729_0, 1035_0, 977_0, 489_0, 1268_0, 1155_0, 1293_0, 686_0, 1121_0, 1157_0, 775_0, 899_0\n",
      "[INFO 04-07 04:33:01] ax.service.ax_client: Generated new trial 1299 with parameters {'z_sh': 7, 'z_sh_1': 6, 'z_sh_2': 5, 'z_p2': 35, 'z_p2_1': 34, 'z_p2_2': 25, 'z_r2': 80, 'z_r2_1': 71, 'z_r2_2': 84, 'x_s': 0.5, 'x_s_1': 0.4, 'x_s_2': 0.3, 'x_p1': 0.614665, 'x_p1_1': 0.514665, 'x_p1_2': 0.414665, 'x_p2': 0.5, 'x_p2_1': 0.4, 'x_p2_2': 0.3, 'x_r2': 1.05054, 'x_r2_1': 0.95054, 'x_r2_2': 0.85054} using model BoTorch.\n",
      "[INFO 04-07 04:33:01] ax.service.ax_client: Completed trial 1299 with data: {'Viable_Cross_Terms': (83, None)}.\n",
      "[INFO 04-07 04:33:02] ax.modelbridge.base: Leaving out out-of-design observations for arms: 729_0, 1035_0, 977_0, 489_0, 1268_0, 1155_0, 1293_0, 686_0, 1121_0, 1157_0, 775_0, 899_0\n",
      "[INFO 04-07 04:38:35] ax.service.ax_client: Generated new trial 1300 with parameters {'z_sh': 7, 'z_sh_1': 6, 'z_sh_2': 5, 'z_p2': 35, 'z_p2_1': 34, 'z_p2_2': 33, 'z_r2': 80, 'z_r2_1': 85, 'z_r2_2': 84, 'x_s': 0.5, 'x_s_1': 0.4, 'x_s_2': 0.3, 'x_p1': 0.614498, 'x_p1_1': 0.514498, 'x_p1_2': 0.414498, 'x_p2': 0.5, 'x_p2_1': 0.4, 'x_p2_2': 0.3, 'x_r2': 1.054327, 'x_r2_1': 0.954327, 'x_r2_2': 0.854327} using model BoTorch.\n",
      "[INFO 04-07 04:38:35] ax.service.ax_client: Completed trial 1300 with data: {'Viable_Cross_Terms': (83, None)}.\n",
      "[INFO 04-07 04:38:36] ax.modelbridge.base: Leaving out out-of-design observations for arms: 729_0, 1035_0, 977_0, 489_0, 1268_0, 1155_0, 1293_0, 686_0, 1121_0, 1157_0, 775_0, 899_0\n",
      "[INFO 04-07 04:44:09] ax.service.ax_client: Generated new trial 1301 with parameters {'z_sh': 7, 'z_sh_1': 13, 'z_sh_2': 5, 'z_p2': 34, 'z_p2_1': 34, 'z_p2_2': 32, 'z_r2': 80, 'z_r2_1': 71, 'z_r2_2': 83, 'x_s': 0.5, 'x_s_1': 0.4, 'x_s_2': 0.3, 'x_p1': 0.652375, 'x_p1_1': 0.552375, 'x_p1_2': 0.452375, 'x_p2': 0.5, 'x_p2_1': 0.4, 'x_p2_2': 0.3, 'x_r2': 1.069198, 'x_r2_1': 0.969198, 'x_r2_2': 0.869198} using model BoTorch.\n",
      "[INFO 04-07 04:44:09] ax.service.ax_client: Completed trial 1301 with data: {'Viable_Cross_Terms': (87, None)}.\n",
      "[INFO 04-07 04:44:10] ax.modelbridge.base: Leaving out out-of-design observations for arms: 729_0, 1035_0, 977_0, 489_0, 1268_0, 1155_0, 1293_0, 686_0, 1121_0, 1157_0, 775_0, 899_0\n",
      "[INFO 04-07 04:49:39] ax.service.ax_client: Generated new trial 1302 with parameters {'z_sh': 7, 'z_sh_1': 14, 'z_sh_2': 5, 'z_p2': 27, 'z_p2_1': 26, 'z_p2_2': 25, 'z_r2': 85, 'z_r2_1': 85, 'z_r2_2': 84, 'x_s': 0.5, 'x_s_1': 0.4, 'x_s_2': 0.3, 'x_p1': 0.780909, 'x_p1_1': 0.680909, 'x_p1_2': 0.580909, 'x_p2': 0.5, 'x_p2_1': 0.4, 'x_p2_2': 0.3, 'x_r2': 1.069988, 'x_r2_1': 0.969988, 'x_r2_2': 0.869988} using model BoTorch.\n",
      "[INFO 04-07 04:49:39] ax.service.ax_client: Completed trial 1302 with data: {'Viable_Cross_Terms': (36, None)}.\n",
      "[INFO 04-07 04:49:40] ax.modelbridge.base: Leaving out out-of-design observations for arms: 729_0, 1035_0, 977_0, 489_0, 1268_0, 1155_0, 1293_0, 686_0, 1121_0, 1157_0, 775_0, 899_0\n",
      "[INFO 04-07 04:54:22] ax.service.ax_client: Generated new trial 1303 with parameters {'z_sh': 7, 'z_sh_1': 7, 'z_sh_2': 5, 'z_p2': 27, 'z_p2_1': 34, 'z_p2_2': 32, 'z_r2': 80, 'z_r2_1': 84, 'z_r2_2': 84, 'x_s': 0.5, 'x_s_1': 0.4, 'x_s_2': 0.3, 'x_p1': 0.579401, 'x_p1_1': 0.479401, 'x_p1_2': 0.379401, 'x_p2': 0.5, 'x_p2_1': 0.4, 'x_p2_2': 0.3, 'x_r2': 1.055709, 'x_r2_1': 0.955709, 'x_r2_2': 0.855709} using model BoTorch.\n",
      "[INFO 04-07 04:54:22] ax.service.ax_client: Completed trial 1303 with data: {'Viable_Cross_Terms': (80, None)}.\n",
      "[INFO 04-07 04:54:23] ax.modelbridge.base: Leaving out out-of-design observations for arms: 729_0, 1035_0, 977_0, 489_0, 1268_0, 1155_0, 1293_0, 686_0, 1121_0, 1157_0, 775_0, 899_0\n",
      "[INFO 04-07 04:59:30] ax.service.ax_client: Generated new trial 1304 with parameters {'z_sh': 7, 'z_sh_1': 13, 'z_sh_2': 5, 'z_p2': 35, 'z_p2_1': 34, 'z_p2_2': 32, 'z_r2': 80, 'z_r2_1': 84, 'z_r2_2': 81, 'x_s': 0.5, 'x_s_1': 0.4, 'x_s_2': 0.3, 'x_p1': 0.597939, 'x_p1_1': 0.497939, 'x_p1_2': 0.397939, 'x_p2': 0.5, 'x_p2_1': 0.4, 'x_p2_2': 0.3, 'x_r2': 1.056831, 'x_r2_1': 0.956831, 'x_r2_2': 0.856831} using model BoTorch.\n",
      "[INFO 04-07 04:59:30] ax.service.ax_client: Completed trial 1304 with data: {'Viable_Cross_Terms': (83, None)}.\n",
      "[INFO 04-07 04:59:31] ax.modelbridge.base: Leaving out out-of-design observations for arms: 729_0, 1035_0, 977_0, 489_0, 1268_0, 1155_0, 1293_0, 686_0, 1121_0, 1157_0, 775_0, 899_0\n",
      "[INFO 04-07 05:05:45] ax.service.ax_client: Generated new trial 1305 with parameters {'z_sh': 7, 'z_sh_1': 14, 'z_sh_2': 5, 'z_p2': 27, 'z_p2_1': 26, 'z_p2_2': 25, 'z_r2': 85, 'z_r2_1': 79, 'z_r2_2': 84, 'x_s': 0.5, 'x_s_1': 0.4, 'x_s_2': 0.3, 'x_p1': 0.782942, 'x_p1_1': 0.682942, 'x_p1_2': 0.582942, 'x_p2': 0.5, 'x_p2_1': 0.4, 'x_p2_2': 0.3, 'x_r2': 1.06955, 'x_r2_1': 0.96955, 'x_r2_2': 0.86955} using model BoTorch.\n",
      "[INFO 04-07 05:05:45] ax.service.ax_client: Completed trial 1305 with data: {'Viable_Cross_Terms': (36, None)}.\n",
      "[INFO 04-07 05:05:46] ax.modelbridge.base: Leaving out out-of-design observations for arms: 729_0, 1035_0, 977_0, 489_0, 1268_0, 1155_0, 1293_0, 686_0, 1121_0, 1157_0, 775_0, 899_0\n",
      "[INFO 04-07 05:10:46] ax.service.ax_client: Generated new trial 1306 with parameters {'z_sh': 7, 'z_sh_1': 13, 'z_sh_2': 5, 'z_p2': 34, 'z_p2_1': 34, 'z_p2_2': 32, 'z_r2': 80, 'z_r2_1': 74, 'z_r2_2': 83, 'x_s': 0.5, 'x_s_1': 0.4, 'x_s_2': 0.3, 'x_p1': 0.577359, 'x_p1_1': 0.477359, 'x_p1_2': 0.377359, 'x_p2': 0.5, 'x_p2_1': 0.4, 'x_p2_2': 0.3, 'x_r2': 1.095149, 'x_r2_1': 0.995149, 'x_r2_2': 0.895149} using model BoTorch.\n",
      "[INFO 04-07 05:10:46] ax.service.ax_client: Completed trial 1306 with data: {'Viable_Cross_Terms': (70, None)}.\n",
      "[INFO 04-07 05:10:47] ax.modelbridge.base: Leaving out out-of-design observations for arms: 729_0, 1035_0, 977_0, 489_0, 1268_0, 1155_0, 1293_0, 686_0, 1121_0, 1157_0, 775_0, 899_0\n",
      "[INFO 04-07 05:17:31] ax.service.ax_client: Generated new trial 1307 with parameters {'z_sh': 13, 'z_sh_1': 8, 'z_sh_2': 10, 'z_p2': 27, 'z_p2_1': 28, 'z_p2_2': 30, 'z_r2': 86, 'z_r2_1': 75, 'z_r2_2': 84, 'x_s': 0.5, 'x_s_1': 0.4, 'x_s_2': 0.3, 'x_p1': 0.659752, 'x_p1_1': 0.559752, 'x_p1_2': 0.459752, 'x_p2': 0.394916, 'x_p2_1': -0.4, 'x_p2_2': -0.5, 'x_r2': 1.5, 'x_r2_1': 1.001241, 'x_r2_2': 0.901241} using model BoTorch.\n",
      "[INFO 04-07 05:17:31] ax.service.ax_client: Completed trial 1307 with data: {'Viable_Cross_Terms': (14, None)}.\n",
      "[INFO 04-07 05:17:32] ax.modelbridge.base: Leaving out out-of-design observations for arms: 729_0, 1035_0, 977_0, 489_0, 1268_0, 1155_0, 1293_0, 686_0, 1121_0, 1157_0, 775_0, 899_0\n",
      "[INFO 04-07 05:22:58] ax.service.ax_client: Generated new trial 1308 with parameters {'z_sh': 7, 'z_sh_1': 14, 'z_sh_2': 5, 'z_p2': 35, 'z_p2_1': 34, 'z_p2_2': 33, 'z_r2': 80, 'z_r2_1': 71, 'z_r2_2': 84, 'x_s': 0.5, 'x_s_1': 0.4, 'x_s_2': 0.3, 'x_p1': 0.636069, 'x_p1_1': 0.536069, 'x_p1_2': 0.436069, 'x_p2': 0.5, 'x_p2_1': 0.4, 'x_p2_2': 0.3, 'x_r2': 1.079013, 'x_r2_1': 0.979013, 'x_r2_2': 0.879013} using model BoTorch.\n",
      "[INFO 04-07 05:22:58] ax.service.ax_client: Completed trial 1308 with data: {'Viable_Cross_Terms': (81, None)}.\n",
      "[INFO 04-07 05:22:58] ax.modelbridge.base: Leaving out out-of-design observations for arms: 729_0, 1035_0, 977_0, 489_0, 1268_0, 1155_0, 1293_0, 686_0, 1121_0, 1157_0, 775_0, 899_0\n",
      "[INFO 04-07 05:28:22] ax.service.ax_client: Generated new trial 1309 with parameters {'z_sh': 7, 'z_sh_1': 7, 'z_sh_2': 13, 'z_p2': 28, 'z_p2_1': 31, 'z_p2_2': 31, 'z_r2': 86, 'z_r2_1': 75, 'z_r2_2': 73, 'x_s': -0.3, 'x_s_1': -0.4, 'x_s_2': -0.5, 'x_p1': -0.188972, 'x_p1_1': -0.288972, 'x_p1_2': -0.388972, 'x_p2': 0.5, 'x_p2_1': 0.4, 'x_p2_2': 0.3, 'x_r2': -0.385576, 'x_r2_1': -0.485576, 'x_r2_2': -0.585576} using model BoTorch.\n",
      "[INFO 04-07 05:28:22] ax.service.ax_client: Completed trial 1309 with data: {'Viable_Cross_Terms': (17, None)}.\n",
      "[INFO 04-07 05:28:23] ax.modelbridge.base: Leaving out out-of-design observations for arms: 729_0, 1035_0, 977_0, 489_0, 1268_0, 1155_0, 1293_0, 686_0, 1121_0, 1157_0, 775_0, 899_0\n",
      "[INFO 04-07 05:34:19] ax.service.ax_client: Generated new trial 1310 with parameters {'z_sh': 7, 'z_sh_1': 13, 'z_sh_2': 5, 'z_p2': 34, 'z_p2_1': 34, 'z_p2_2': 32, 'z_r2': 80, 'z_r2_1': 84, 'z_r2_2': 83, 'x_s': 0.5, 'x_s_1': 0.4, 'x_s_2': 0.3, 'x_p1': 0.620188, 'x_p1_1': 0.520188, 'x_p1_2': 0.420188, 'x_p2': 0.5, 'x_p2_1': 0.4, 'x_p2_2': 0.3, 'x_r2': 1.041815, 'x_r2_1': 0.941815, 'x_r2_2': 0.841815} using model BoTorch.\n",
      "[INFO 04-07 05:34:19] ax.service.ax_client: Completed trial 1310 with data: {'Viable_Cross_Terms': (82, None)}.\n",
      "[INFO 04-07 05:34:20] ax.modelbridge.base: Leaving out out-of-design observations for arms: 729_0, 1035_0, 977_0, 489_0, 1268_0, 1155_0, 1293_0, 686_0, 1121_0, 1157_0, 775_0, 899_0\n",
      "[INFO 04-07 05:39:56] ax.service.ax_client: Generated new trial 1311 with parameters {'z_sh': 7, 'z_sh_1': 12, 'z_sh_2': 5, 'z_p2': 30, 'z_p2_1': 27, 'z_p2_2': 26, 'z_r2': 80, 'z_r2_1': 79, 'z_r2_2': 76, 'x_s': 0.5, 'x_s_1': 0.4, 'x_s_2': 0.3, 'x_p1': 0.616652, 'x_p1_1': 0.516652, 'x_p1_2': 0.416652, 'x_p2': 0.5, 'x_p2_1': 0.4, 'x_p2_2': 0.3, 'x_r2': 1.082559, 'x_r2_1': 0.982559, 'x_r2_2': 0.882559} using model BoTorch.\n",
      "[INFO 04-07 05:39:56] ax.service.ax_client: Completed trial 1311 with data: {'Viable_Cross_Terms': (83, None)}.\n",
      "[INFO 04-07 05:39:57] ax.modelbridge.base: Leaving out out-of-design observations for arms: 729_0, 1035_0, 977_0, 489_0, 1268_0, 1155_0, 1293_0, 686_0, 1121_0, 1157_0, 775_0, 899_0\n",
      "[INFO 04-07 05:45:10] ax.service.ax_client: Generated new trial 1312 with parameters {'z_sh': 7, 'z_sh_1': 10, 'z_sh_2': 5, 'z_p2': 28, 'z_p2_1': 32, 'z_p2_2': 30, 'z_r2': 80, 'z_r2_1': 77, 'z_r2_2': 79, 'x_s': 0.5, 'x_s_1': 0.4, 'x_s_2': 0.3, 'x_p1': 0.617544, 'x_p1_1': 0.517544, 'x_p1_2': 0.417544, 'x_p2': 0.5, 'x_p2_1': 0.4, 'x_p2_2': 0.3, 'x_r2': 1.077964, 'x_r2_1': 0.977964, 'x_r2_2': 0.877964} using model BoTorch.\n",
      "[INFO 04-07 05:45:10] ax.service.ax_client: Completed trial 1312 with data: {'Viable_Cross_Terms': (85, None)}.\n",
      "[INFO 04-07 05:45:11] ax.modelbridge.base: Leaving out out-of-design observations for arms: 729_0, 1035_0, 977_0, 489_0, 1268_0, 1155_0, 1293_0, 686_0, 1121_0, 1157_0, 775_0, 899_0\n",
      "[INFO 04-07 05:51:04] ax.service.ax_client: Generated new trial 1313 with parameters {'z_sh': 7, 'z_sh_1': 11, 'z_sh_2': 5, 'z_p2': 27, 'z_p2_1': 26, 'z_p2_2': 33, 'z_r2': 76, 'z_r2_1': 84, 'z_r2_2': 72, 'x_s': 0.5, 'x_s_1': 0.4, 'x_s_2': -0.5, 'x_p1': 0.841709, 'x_p1_1': 0.741709, 'x_p1_2': 0.641709, 'x_p2': 0.249259, 'x_p2_1': 0.149259, 'x_p2_2': 0.049259, 'x_r2': 1.181571, 'x_r2_1': 1.081571, 'x_r2_2': 0.981571} using model BoTorch.\n",
      "[INFO 04-07 05:51:04] ax.service.ax_client: Completed trial 1313 with data: {'Viable_Cross_Terms': (11, None)}.\n",
      "[INFO 04-07 05:51:05] ax.modelbridge.base: Leaving out out-of-design observations for arms: 729_0, 1035_0, 977_0, 489_0, 1268_0, 1155_0, 1293_0, 686_0, 1121_0, 1157_0, 775_0, 899_0\n",
      "[INFO 04-07 05:57:10] ax.service.ax_client: Generated new trial 1314 with parameters {'z_sh': 7, 'z_sh_1': 12, 'z_sh_2': 5, 'z_p2': 33, 'z_p2_1': 26, 'z_p2_2': 25, 'z_r2': 80, 'z_r2_1': 74, 'z_r2_2': 79, 'x_s': 0.5, 'x_s_1': 0.4, 'x_s_2': 0.3, 'x_p1': 0.617007, 'x_p1_1': 0.517007, 'x_p1_2': 0.417007, 'x_p2': 0.5, 'x_p2_1': 0.4, 'x_p2_2': 0.3, 'x_r2': 1.082677, 'x_r2_1': 0.982677, 'x_r2_2': 0.882677} using model BoTorch.\n",
      "[INFO 04-07 05:57:10] ax.service.ax_client: Completed trial 1314 with data: {'Viable_Cross_Terms': (83, None)}.\n",
      "[INFO 04-07 05:57:11] ax.modelbridge.base: Leaving out out-of-design observations for arms: 729_0, 1035_0, 977_0, 489_0, 1268_0, 1155_0, 1293_0, 686_0, 1121_0, 1157_0, 775_0, 899_0\n",
      "[INFO 04-07 06:02:28] ax.service.ax_client: Generated new trial 1315 with parameters {'z_sh': 7, 'z_sh_1': 6, 'z_sh_2': 5, 'z_p2': 35, 'z_p2_1': 34, 'z_p2_2': 33, 'z_r2': 80, 'z_r2_1': 85, 'z_r2_2': 84, 'x_s': 0.5, 'x_s_1': 0.4, 'x_s_2': 0.3, 'x_p1': 0.613531, 'x_p1_1': 0.513531, 'x_p1_2': 0.413531, 'x_p2': 0.5, 'x_p2_1': 0.4, 'x_p2_2': 0.3, 'x_r2': 1.05335, 'x_r2_1': 0.95335, 'x_r2_2': 0.85335} using model BoTorch.\n",
      "[INFO 04-07 06:02:28] ax.service.ax_client: Completed trial 1315 with data: {'Viable_Cross_Terms': (83, None)}.\n",
      "[INFO 04-07 06:02:30] ax.modelbridge.base: Leaving out out-of-design observations for arms: 729_0, 1035_0, 977_0, 489_0, 1268_0, 1155_0, 1293_0, 686_0, 1121_0, 1157_0, 775_0, 899_0\n",
      "[INFO 04-07 06:07:16] ax.service.ax_client: Generated new trial 1316 with parameters {'z_sh': 8, 'z_sh_1': 9, 'z_sh_2': 11, 'z_p2': 32, 'z_p2_1': 30, 'z_p2_2': 32, 'z_r2': 78, 'z_r2_1': 79, 'z_r2_2': 79, 'x_s': 0.5, 'x_s_1': 0.4, 'x_s_2': 0.3, 'x_p1': 0.547371, 'x_p1_1': 0.447371, 'x_p1_2': 0.347371, 'x_p2': 0.5, 'x_p2_1': 0.4, 'x_p2_2': 0.3, 'x_r2': 0.895545, 'x_r2_1': 0.795545, 'x_r2_2': 0.695545} using model BoTorch.\n",
      "[INFO 04-07 06:07:16] ax.service.ax_client: Completed trial 1316 with data: {'Viable_Cross_Terms': (33, None)}.\n",
      "[INFO 04-07 06:07:17] ax.modelbridge.base: Leaving out out-of-design observations for arms: 729_0, 1035_0, 977_0, 489_0, 1268_0, 1155_0, 1293_0, 686_0, 1121_0, 1157_0, 775_0, 899_0\n",
      "[INFO 04-07 06:13:43] ax.service.ax_client: Generated new trial 1317 with parameters {'z_sh': 13, 'z_sh_1': 10, 'z_sh_2': 13, 'z_p2': 27, 'z_p2_1': 31, 'z_p2_2': 31, 'z_r2': 85, 'z_r2_1': 73, 'z_r2_2': 70, 'x_s': 0.5, 'x_s_1': 0.4, 'x_s_2': 0.3, 'x_p1': 0.597888, 'x_p1_1': 0.497888, 'x_p1_2': 0.397888, 'x_p2': 0.072108, 'x_p2_1': -0.027892, 'x_p2_2': -0.127892, 'x_r2': 0.638789, 'x_r2_1': 0.538789, 'x_r2_2': 0.438789} using model BoTorch.\n",
      "[INFO 04-07 06:13:43] ax.service.ax_client: Completed trial 1317 with data: {'Viable_Cross_Terms': (30, None)}.\n",
      "[INFO 04-07 06:13:44] ax.modelbridge.base: Leaving out out-of-design observations for arms: 729_0, 1035_0, 977_0, 489_0, 1268_0, 1155_0, 1293_0, 686_0, 1121_0, 1157_0, 775_0, 899_0\n",
      "[INFO 04-07 06:20:14] ax.service.ax_client: Generated new trial 1318 with parameters {'z_sh': 7, 'z_sh_1': 6, 'z_sh_2': 5, 'z_p2': 35, 'z_p2_1': 34, 'z_p2_2': 33, 'z_r2': 77, 'z_r2_1': 85, 'z_r2_2': 84, 'x_s': 0.5, 'x_s_1': 0.4, 'x_s_2': 0.3, 'x_p1': 0.567322, 'x_p1_1': 0.467322, 'x_p1_2': 0.367322, 'x_p2': 0.5, 'x_p2_1': 0.4, 'x_p2_2': 0.3, 'x_r2': 0.956621, 'x_r2_1': 0.856621, 'x_r2_2': 0.756621} using model BoTorch.\n",
      "[INFO 04-07 06:20:14] ax.service.ax_client: Completed trial 1318 with data: {'Viable_Cross_Terms': (37, None)}.\n",
      "[INFO 04-07 06:20:15] ax.modelbridge.base: Leaving out out-of-design observations for arms: 729_0, 1035_0, 977_0, 489_0, 1268_0, 1155_0, 1293_0, 686_0, 1121_0, 1157_0, 775_0, 899_0\n",
      "[INFO 04-07 06:25:36] ax.service.ax_client: Generated new trial 1319 with parameters {'z_sh': 7, 'z_sh_1': 14, 'z_sh_2': 5, 'z_p2': 35, 'z_p2_1': 34, 'z_p2_2': 33, 'z_r2': 80, 'z_r2_1': 71, 'z_r2_2': 84, 'x_s': 0.5, 'x_s_1': 0.4, 'x_s_2': 0.3, 'x_p1': 0.628983, 'x_p1_1': 0.528983, 'x_p1_2': -0.679257, 'x_p2': 0.5, 'x_p2_1': 0.4, 'x_p2_2': 0.3, 'x_r2': 1.069944, 'x_r2_1': 0.969944, 'x_r2_2': 0.869944} using model BoTorch.\n",
      "[INFO 04-07 06:25:36] ax.service.ax_client: Completed trial 1319 with data: {'Viable_Cross_Terms': (64, None)}.\n",
      "[INFO 04-07 06:25:37] ax.modelbridge.base: Leaving out out-of-design observations for arms: 729_0, 1035_0, 977_0, 489_0, 1268_0, 1155_0, 1293_0, 686_0, 1121_0, 1157_0, 775_0, 899_0\n",
      "[INFO 04-07 06:31:34] ax.service.ax_client: Generated new trial 1320 with parameters {'z_sh': 7, 'z_sh_1': 6, 'z_sh_2': 5, 'z_p2': 35, 'z_p2_1': 26, 'z_p2_2': 33, 'z_r2': 80, 'z_r2_1': 71, 'z_r2_2': 84, 'x_s': 0.5, 'x_s_1': 0.4, 'x_s_2': 0.3, 'x_p1': 0.600998, 'x_p1_1': 0.500998, 'x_p1_2': 0.400998, 'x_p2': 0.5, 'x_p2_1': 0.4, 'x_p2_2': 0.3, 'x_r2': 1.079609, 'x_r2_1': 0.979609, 'x_r2_2': 0.879609} using model BoTorch.\n",
      "[INFO 04-07 06:31:34] ax.service.ax_client: Completed trial 1320 with data: {'Viable_Cross_Terms': (80, None)}.\n",
      "[INFO 04-07 06:31:35] ax.modelbridge.base: Leaving out out-of-design observations for arms: 729_0, 1035_0, 977_0, 489_0, 1268_0, 1155_0, 1293_0, 686_0, 1121_0, 1157_0, 775_0, 899_0\n",
      "[INFO 04-07 06:37:18] ax.service.ax_client: Generated new trial 1321 with parameters {'z_sh': 7, 'z_sh_1': 13, 'z_sh_2': 5, 'z_p2': 34, 'z_p2_1': 34, 'z_p2_2': 32, 'z_r2': 80, 'z_r2_1': 77, 'z_r2_2': 83, 'x_s': 0.5, 'x_s_1': 0.4, 'x_s_2': 0.3, 'x_p1': 0.65698, 'x_p1_1': 0.55698, 'x_p1_2': 0.45698, 'x_p2': 0.5, 'x_p2_1': 0.4, 'x_p2_2': 0.3, 'x_r2': 1.073431, 'x_r2_1': 0.973431, 'x_r2_2': 0.873431} using model BoTorch.\n",
      "[INFO 04-07 06:37:18] ax.service.ax_client: Completed trial 1321 with data: {'Viable_Cross_Terms': (85, None)}.\n",
      "[INFO 04-07 06:37:19] ax.modelbridge.base: Leaving out out-of-design observations for arms: 729_0, 1035_0, 977_0, 489_0, 1268_0, 1155_0, 1293_0, 686_0, 1121_0, 1157_0, 775_0, 899_0\n",
      "[INFO 04-07 06:42:45] ax.service.ax_client: Generated new trial 1322 with parameters {'z_sh': 7, 'z_sh_1': 9, 'z_sh_2': 5, 'z_p2': 33, 'z_p2_1': 34, 'z_p2_2': 27, 'z_r2': 78, 'z_r2_1': 76, 'z_r2_2': 75, 'x_s': 0.5, 'x_s_1': 0.4, 'x_s_2': -0.5, 'x_p1': -0.8, 'x_p1_1': -0.9, 'x_p1_2': -1.0, 'x_p2': -0.3, 'x_p2_1': -0.4, 'x_p2_2': -0.5, 'x_r2': 0.737544, 'x_r2_1': 0.637544, 'x_r2_2': -1.5} using model BoTorch.\n",
      "[INFO 04-07 06:42:45] ax.service.ax_client: Completed trial 1322 with data: {'Viable_Cross_Terms': (0, None)}.\n",
      "[INFO 04-07 06:42:45] ax.modelbridge.base: Leaving out out-of-design observations for arms: 729_0, 1035_0, 977_0, 489_0, 1268_0, 1155_0, 1293_0, 686_0, 1121_0, 1157_0, 775_0, 899_0\n",
      "[INFO 04-07 06:48:22] ax.service.ax_client: Generated new trial 1323 with parameters {'z_sh': 8, 'z_sh_1': 13, 'z_sh_2': 5, 'z_p2': 31, 'z_p2_1': 34, 'z_p2_2': 25, 'z_r2': 78, 'z_r2_1': 71, 'z_r2_2': 82, 'x_s': 0.5, 'x_s_1': 0.4, 'x_s_2': 0.3, 'x_p1': 0.549643, 'x_p1_1': 0.449643, 'x_p1_2': 0.349643, 'x_p2': 0.5, 'x_p2_1': 0.4, 'x_p2_2': 0.3, 'x_r2': 0.976213, 'x_r2_1': 0.876213, 'x_r2_2': 0.776213} using model BoTorch.\n",
      "[INFO 04-07 06:48:22] ax.service.ax_client: Completed trial 1323 with data: {'Viable_Cross_Terms': (53, None)}.\n",
      "[INFO 04-07 06:48:23] ax.modelbridge.base: Leaving out out-of-design observations for arms: 729_0, 1035_0, 977_0, 489_0, 1268_0, 1155_0, 1293_0, 686_0, 1121_0, 1157_0, 775_0, 899_0\n",
      "[INFO 04-07 06:54:27] ax.service.ax_client: Generated new trial 1324 with parameters {'z_sh': 7, 'z_sh_1': 13, 'z_sh_2': 5, 'z_p2': 34, 'z_p2_1': 34, 'z_p2_2': 32, 'z_r2': 80, 'z_r2_1': 71, 'z_r2_2': 83, 'x_s': 0.5, 'x_s_1': 0.4, 'x_s_2': 0.3, 'x_p1': 0.661373, 'x_p1_1': 0.561373, 'x_p1_2': 0.461373, 'x_p2': 0.5, 'x_p2_1': 0.4, 'x_p2_2': 0.3, 'x_r2': 1.066284, 'x_r2_1': 0.966284, 'x_r2_2': 0.866284} using model BoTorch.\n",
      "[INFO 04-07 06:54:27] ax.service.ax_client: Completed trial 1324 with data: {'Viable_Cross_Terms': (84, None)}.\n",
      "[INFO 04-07 06:54:28] ax.modelbridge.base: Leaving out out-of-design observations for arms: 729_0, 1035_0, 977_0, 489_0, 1268_0, 1155_0, 1293_0, 686_0, 1121_0, 1157_0, 775_0, 899_0\n",
      "[INFO 04-07 07:00:21] ax.service.ax_client: Generated new trial 1325 with parameters {'z_sh': 7, 'z_sh_1': 6, 'z_sh_2': 5, 'z_p2': 35, 'z_p2_1': 34, 'z_p2_2': 25, 'z_r2': 80, 'z_r2_1': 71, 'z_r2_2': 84, 'x_s': 0.5, 'x_s_1': 0.4, 'x_s_2': 0.3, 'x_p1': 0.613583, 'x_p1_1': 0.513583, 'x_p1_2': 0.413583, 'x_p2': 0.5, 'x_p2_1': 0.4, 'x_p2_2': 0.3, 'x_r2': 1.054983, 'x_r2_1': 0.954983, 'x_r2_2': 0.854983} using model BoTorch.\n",
      "[INFO 04-07 07:00:21] ax.service.ax_client: Completed trial 1325 with data: {'Viable_Cross_Terms': (82, None)}.\n",
      "[INFO 04-07 07:00:22] ax.modelbridge.base: Leaving out out-of-design observations for arms: 729_0, 1035_0, 977_0, 489_0, 1268_0, 1155_0, 1293_0, 686_0, 1121_0, 1157_0, 775_0, 899_0\n",
      "[INFO 04-07 07:06:20] ax.service.ax_client: Generated new trial 1326 with parameters {'z_sh': 7, 'z_sh_1': 13, 'z_sh_2': 5, 'z_p2': 34, 'z_p2_1': 34, 'z_p2_2': 31, 'z_r2': 80, 'z_r2_1': 73, 'z_r2_2': 83, 'x_s': 0.5, 'x_s_1': 0.4, 'x_s_2': 0.3, 'x_p1': 0.664849, 'x_p1_1': 0.564849, 'x_p1_2': 0.464849, 'x_p2': 0.5, 'x_p2_1': 0.4, 'x_p2_2': 0.3, 'x_r2': 1.090311, 'x_r2_1': 0.990311, 'x_r2_2': 0.890311} using model BoTorch.\n",
      "[INFO 04-07 07:06:20] ax.service.ax_client: Completed trial 1326 with data: {'Viable_Cross_Terms': (81, None)}.\n",
      "[INFO 04-07 07:06:21] ax.modelbridge.base: Leaving out out-of-design observations for arms: 729_0, 1035_0, 977_0, 489_0, 1268_0, 1155_0, 1293_0, 686_0, 1121_0, 1157_0, 775_0, 899_0\n",
      "[INFO 04-07 07:12:28] ax.service.ax_client: Generated new trial 1327 with parameters {'z_sh': 12, 'z_sh_1': 7, 'z_sh_2': 6, 'z_p2': 33, 'z_p2_1': 31, 'z_p2_2': 31, 'z_r2': 81, 'z_r2_1': 76, 'z_r2_2': 84, 'x_s': 0.5, 'x_s_1': 0.4, 'x_s_2': 0.3, 'x_p1': 0.543104, 'x_p1_1': 0.443104, 'x_p1_2': 0.343104, 'x_p2': 0.5, 'x_p2_1': 0.4, 'x_p2_2': 0.3, 'x_r2': 1.5, 'x_r2_1': 0.496665, 'x_r2_2': 0.396665} using model BoTorch.\n",
      "[INFO 04-07 07:12:28] ax.service.ax_client: Completed trial 1327 with data: {'Viable_Cross_Terms': (1, None)}.\n",
      "[INFO 04-07 07:12:29] ax.modelbridge.base: Leaving out out-of-design observations for arms: 729_0, 1035_0, 977_0, 489_0, 1268_0, 1155_0, 1293_0, 686_0, 1121_0, 1157_0, 775_0, 899_0\n",
      "[INFO 04-07 07:17:47] ax.service.ax_client: Generated new trial 1328 with parameters {'z_sh': 15, 'z_sh_1': 13, 'z_sh_2': 5, 'z_p2': 33, 'z_p2_1': 30, 'z_p2_2': 32, 'z_r2': 86, 'z_r2_1': 74, 'z_r2_2': 81, 'x_s': 0.5, 'x_s_1': 0.4, 'x_s_2': -0.5, 'x_p1': -0.496683, 'x_p1_1': -0.9, 'x_p1_2': -1.0, 'x_p2': 0.5, 'x_p2_1': 0.4, 'x_p2_2': 0.3, 'x_r2': -0.370335, 'x_r2_1': -0.470335, 'x_r2_2': -1.5} using model BoTorch.\n",
      "[INFO 04-07 07:17:47] ax.service.ax_client: Completed trial 1328 with data: {'Viable_Cross_Terms': (15, None)}.\n",
      "[INFO 04-07 07:17:48] ax.modelbridge.base: Leaving out out-of-design observations for arms: 729_0, 1035_0, 977_0, 489_0, 1268_0, 1155_0, 1293_0, 686_0, 1121_0, 1157_0, 775_0, 899_0\n",
      "[INFO 04-07 07:25:24] ax.service.ax_client: Generated new trial 1329 with parameters {'z_sh': 8, 'z_sh_1': 14, 'z_sh_2': 11, 'z_p2': 30, 'z_p2_1': 27, 'z_p2_2': 28, 'z_r2': 82, 'z_r2_1': 76, 'z_r2_2': 80, 'x_s': 0.5, 'x_s_1': 0.4, 'x_s_2': 0.3, 'x_p1': 1.0, 'x_p1_1': 0.407588, 'x_p1_2': 0.307588, 'x_p2': 0.5, 'x_p2_1': -0.4, 'x_p2_2': -0.5, 'x_r2': 1.231923, 'x_r2_1': 1.131923, 'x_r2_2': -1.239289} using model BoTorch.\n",
      "[INFO 04-07 07:25:24] ax.service.ax_client: Completed trial 1329 with data: {'Viable_Cross_Terms': (5, None)}.\n",
      "[INFO 04-07 07:25:26] ax.modelbridge.base: Leaving out out-of-design observations for arms: 729_0, 1035_0, 977_0, 489_0, 1268_0, 1155_0, 1293_0, 686_0, 1121_0, 1157_0, 775_0, 899_0\n",
      "[INFO 04-07 07:31:03] ax.service.ax_client: Generated new trial 1330 with parameters {'z_sh': 7, 'z_sh_1': 14, 'z_sh_2': 13, 'z_p2': 27, 'z_p2_1': 34, 'z_p2_2': 26, 'z_r2': 77, 'z_r2_1': 84, 'z_r2_2': 81, 'x_s': -0.3, 'x_s_1': -0.4, 'x_s_2': -0.5, 'x_p1': 1.0, 'x_p1_1': -0.9, 'x_p1_2': -1.0, 'x_p2': 0.5, 'x_p2_1': -0.4, 'x_p2_2': -0.5, 'x_r2': 1.5, 'x_r2_1': 1.4, 'x_r2_2': -0.412909} using model BoTorch.\n",
      "[INFO 04-07 07:31:03] ax.service.ax_client: Completed trial 1330 with data: {'Viable_Cross_Terms': (4, None)}.\n",
      "[INFO 04-07 07:31:04] ax.modelbridge.base: Leaving out out-of-design observations for arms: 729_0, 1035_0, 977_0, 489_0, 1268_0, 1155_0, 1293_0, 686_0, 1121_0, 1157_0, 775_0, 899_0\n",
      "[INFO 04-07 07:36:13] ax.service.ax_client: Generated new trial 1331 with parameters {'z_sh': 7, 'z_sh_1': 13, 'z_sh_2': 5, 'z_p2': 34, 'z_p2_1': 34, 'z_p2_2': 32, 'z_r2': 80, 'z_r2_1': 73, 'z_r2_2': 76, 'x_s': 0.5, 'x_s_1': 0.4, 'x_s_2': 0.3, 'x_p1': 0.631513, 'x_p1_1': 0.531513, 'x_p1_2': 0.431513, 'x_p2': 0.5, 'x_p2_1': 0.4, 'x_p2_2': 0.3, 'x_r2': 1.07729, 'x_r2_1': 0.97729, 'x_r2_2': 0.87729} using model BoTorch.\n",
      "[INFO 04-07 07:36:13] ax.service.ax_client: Completed trial 1331 with data: {'Viable_Cross_Terms': (82, None)}.\n",
      "[INFO 04-07 07:36:14] ax.modelbridge.base: Leaving out out-of-design observations for arms: 729_0, 1035_0, 977_0, 489_0, 1268_0, 1155_0, 1293_0, 686_0, 1121_0, 1157_0, 775_0, 899_0\n",
      "[INFO 04-07 07:42:37] ax.service.ax_client: Generated new trial 1332 with parameters {'z_sh': 15, 'z_sh_1': 13, 'z_sh_2': 5, 'z_p2': 30, 'z_p2_1': 28, 'z_p2_2': 27, 'z_r2': 79, 'z_r2_1': 85, 'z_r2_2': 78, 'x_s': 0.5, 'x_s_1': 0.4, 'x_s_2': 0.3, 'x_p1': 0.043146, 'x_p1_1': -0.056854, 'x_p1_2': -0.424538, 'x_p2': 0.5, 'x_p2_1': -0.206878, 'x_p2_2': -0.306878, 'x_r2': 1.238295, 'x_r2_1': 1.138295, 'x_r2_2': 1.038295} using model BoTorch.\n",
      "[INFO 04-07 07:42:37] ax.service.ax_client: Completed trial 1332 with data: {'Viable_Cross_Terms': (0, None)}.\n",
      "[INFO 04-07 07:42:38] ax.modelbridge.base: Leaving out out-of-design observations for arms: 729_0, 1035_0, 977_0, 489_0, 1268_0, 1155_0, 1293_0, 686_0, 1121_0, 1157_0, 775_0, 899_0\n",
      "[INFO 04-07 07:49:12] ax.service.ax_client: Generated new trial 1333 with parameters {'z_sh': 7, 'z_sh_1': 13, 'z_sh_2': 5, 'z_p2': 34, 'z_p2_1': 34, 'z_p2_2': 28, 'z_r2': 80, 'z_r2_1': 79, 'z_r2_2': 81, 'x_s': 0.5, 'x_s_1': 0.4, 'x_s_2': 0.3, 'x_p1': 0.649811, 'x_p1_1': 0.549811, 'x_p1_2': 0.449811, 'x_p2': 0.5, 'x_p2_1': 0.4, 'x_p2_2': 0.3, 'x_r2': 1.063938, 'x_r2_1': 0.963938, 'x_r2_2': 0.863938} using model BoTorch.\n",
      "[INFO 04-07 07:49:12] ax.service.ax_client: Completed trial 1333 with data: {'Viable_Cross_Terms': (86, None)}.\n",
      "[INFO 04-07 07:49:13] ax.modelbridge.base: Leaving out out-of-design observations for arms: 729_0, 1035_0, 977_0, 489_0, 1268_0, 1155_0, 1293_0, 686_0, 1121_0, 1157_0, 775_0, 899_0\n",
      "[INFO 04-07 07:57:08] ax.service.ax_client: Generated new trial 1334 with parameters {'z_sh': 14, 'z_sh_1': 14, 'z_sh_2': 5, 'z_p2': 34, 'z_p2_1': 32, 'z_p2_2': 29, 'z_r2': 78, 'z_r2_1': 71, 'z_r2_2': 84, 'x_s': 0.5, 'x_s_1': 0.4, 'x_s_2': 0.3, 'x_p1': 0.536517, 'x_p1_1': 0.436517, 'x_p1_2': 0.336517, 'x_p2': 0.493859, 'x_p2_1': -0.4, 'x_p2_2': -0.5, 'x_r2': 0.993203, 'x_r2_1': 0.893203, 'x_r2_2': 0.793203} using model BoTorch.\n",
      "[INFO 04-07 07:57:08] ax.service.ax_client: Completed trial 1334 with data: {'Viable_Cross_Terms': (18, None)}.\n",
      "[INFO 04-07 07:57:09] ax.modelbridge.base: Leaving out out-of-design observations for arms: 729_0, 1035_0, 977_0, 489_0, 1268_0, 1155_0, 1293_0, 686_0, 1121_0, 1157_0, 775_0, 899_0\n",
      "[INFO 04-07 08:03:05] ax.service.ax_client: Generated new trial 1335 with parameters {'z_sh': 15, 'z_sh_1': 10, 'z_sh_2': 5, 'z_p2': 32, 'z_p2_1': 28, 'z_p2_2': 30, 'z_r2': 81, 'z_r2_1': 78, 'z_r2_2': 84, 'x_s': 0.5, 'x_s_1': 0.4, 'x_s_2': 0.3, 'x_p1': 0.599226, 'x_p1_1': 0.499226, 'x_p1_2': 0.399226, 'x_p2': 0.5, 'x_p2_1': 0.4, 'x_p2_2': 0.3, 'x_r2': 1.062265, 'x_r2_1': 0.732594, 'x_r2_2': 0.632594} using model BoTorch.\n",
      "[INFO 04-07 08:03:05] ax.service.ax_client: Completed trial 1335 with data: {'Viable_Cross_Terms': (22, None)}.\n",
      "[INFO 04-07 08:03:06] ax.modelbridge.base: Leaving out out-of-design observations for arms: 729_0, 1035_0, 977_0, 489_0, 1268_0, 1155_0, 1293_0, 686_0, 1121_0, 1157_0, 775_0, 899_0\n",
      "[INFO 04-07 08:11:21] ax.service.ax_client: Generated new trial 1336 with parameters {'z_sh': 7, 'z_sh_1': 9, 'z_sh_2': 5, 'z_p2': 35, 'z_p2_1': 34, 'z_p2_2': 33, 'z_r2': 79, 'z_r2_1': 81, 'z_r2_2': 80, 'x_s': 0.479961, 'x_s_1': 0.355674, 'x_s_2': 0.20284, 'x_p1': 0.787718, 'x_p1_1': 0.67052, 'x_p1_2': 0.353993, 'x_p2': 0.487201, 'x_p2_1': 0.383621, 'x_p2_2': 0.283621, 'x_r2': 0.966594, 'x_r2_1': -0.697589, 'x_r2_2': -1.5} using model BoTorch.\n",
      "[INFO 04-07 08:11:21] ax.service.ax_client: Completed trial 1336 with data: {'Viable_Cross_Terms': (30, None)}.\n",
      "[INFO 04-07 08:11:22] ax.modelbridge.base: Leaving out out-of-design observations for arms: 729_0, 1035_0, 977_0, 489_0, 1268_0, 1155_0, 1293_0, 686_0, 1121_0, 1157_0, 775_0, 899_0\n",
      "[INFO 04-07 08:17:19] ax.service.ax_client: Generated new trial 1337 with parameters {'z_sh': 7, 'z_sh_1': 13, 'z_sh_2': 5, 'z_p2': 34, 'z_p2_1': 34, 'z_p2_2': 32, 'z_r2': 80, 'z_r2_1': 80, 'z_r2_2': 75, 'x_s': 0.5, 'x_s_1': 0.4, 'x_s_2': 0.3, 'x_p1': 0.632147, 'x_p1_1': 0.532147, 'x_p1_2': 0.432147, 'x_p2': 0.5, 'x_p2_1': 0.4, 'x_p2_2': 0.3, 'x_r2': 1.078834, 'x_r2_1': 0.978834, 'x_r2_2': 0.878834} using model BoTorch.\n",
      "[INFO 04-07 08:17:19] ax.service.ax_client: Completed trial 1337 with data: {'Viable_Cross_Terms': (81, None)}.\n",
      "[INFO 04-07 08:17:20] ax.modelbridge.base: Leaving out out-of-design observations for arms: 729_0, 1035_0, 977_0, 489_0, 1268_0, 1155_0, 1293_0, 686_0, 1121_0, 1157_0, 775_0, 899_0\n",
      "[INFO 04-07 08:23:54] ax.service.ax_client: Generated new trial 1338 with parameters {'z_sh': 13, 'z_sh_1': 11, 'z_sh_2': 6, 'z_p2': 29, 'z_p2_1': 32, 'z_p2_2': 26, 'z_r2': 77, 'z_r2_1': 72, 'z_r2_2': 76, 'x_s': 0.5, 'x_s_1': 0.4, 'x_s_2': 0.3, 'x_p1': 0.594823, 'x_p1_1': 0.494823, 'x_p1_2': 0.394823, 'x_p2': 0.5, 'x_p2_1': 0.4, 'x_p2_2': 0.3, 'x_r2': 0.955733, 'x_r2_1': 0.855733, 'x_r2_2': 0.755733} using model BoTorch.\n",
      "[INFO 04-07 08:23:54] ax.service.ax_client: Completed trial 1338 with data: {'Viable_Cross_Terms': (36, None)}.\n",
      "[INFO 04-07 08:23:55] ax.modelbridge.base: Leaving out out-of-design observations for arms: 729_0, 1035_0, 977_0, 489_0, 1268_0, 1155_0, 1293_0, 686_0, 1121_0, 1157_0, 775_0, 899_0\n",
      "[INFO 04-07 08:31:43] ax.service.ax_client: Generated new trial 1339 with parameters {'z_sh': 12, 'z_sh_1': 11, 'z_sh_2': 5, 'z_p2': 32, 'z_p2_1': 29, 'z_p2_2': 31, 'z_r2': 85, 'z_r2_1': 76, 'z_r2_2': 84, 'x_s': 0.5, 'x_s_1': -0.4, 'x_s_2': -0.5, 'x_p1': 0.883804, 'x_p1_1': 0.783804, 'x_p1_2': 0.683804, 'x_p2': 0.5, 'x_p2_1': -0.376944, 'x_p2_2': -0.476944, 'x_r2': 1.262937, 'x_r2_1': 1.162937, 'x_r2_2': 1.062937} using model BoTorch.\n",
      "[INFO 04-07 08:31:43] ax.service.ax_client: Completed trial 1339 with data: {'Viable_Cross_Terms': (0, None)}.\n",
      "[INFO 04-07 08:31:44] ax.modelbridge.base: Leaving out out-of-design observations for arms: 729_0, 1035_0, 977_0, 489_0, 1268_0, 1155_0, 1293_0, 686_0, 1121_0, 1157_0, 775_0, 899_0\n",
      "[INFO 04-07 08:37:53] ax.service.ax_client: Generated new trial 1340 with parameters {'z_sh': 7, 'z_sh_1': 12, 'z_sh_2': 13, 'z_p2': 28, 'z_p2_1': 34, 'z_p2_2': 29, 'z_r2': 78, 'z_r2_1': 82, 'z_r2_2': 79, 'x_s': 0.5, 'x_s_1': 0.4, 'x_s_2': 0.3, 'x_p1': 0.539114, 'x_p1_1': 0.439114, 'x_p1_2': 0.339114, 'x_p2': 0.5, 'x_p2_1': 0.4, 'x_p2_2': 0.3, 'x_r2': 0.860547, 'x_r2_1': 0.760547, 'x_r2_2': 0.660547} using model BoTorch.\n",
      "[INFO 04-07 08:37:53] ax.service.ax_client: Completed trial 1340 with data: {'Viable_Cross_Terms': (39, None)}.\n",
      "[INFO 04-07 08:37:54] ax.modelbridge.base: Leaving out out-of-design observations for arms: 729_0, 1035_0, 977_0, 489_0, 1268_0, 1155_0, 1293_0, 686_0, 1121_0, 1157_0, 775_0, 899_0\n",
      "[INFO 04-07 08:45:09] ax.service.ax_client: Generated new trial 1341 with parameters {'z_sh': 12, 'z_sh_1': 10, 'z_sh_2': 5, 'z_p2': 29, 'z_p2_1': 31, 'z_p2_2': 27, 'z_r2': 73, 'z_r2_1': 72, 'z_r2_2': 81, 'x_s': 0.5, 'x_s_1': 0.4, 'x_s_2': 0.3, 'x_p1': 0.731582, 'x_p1_1': 0.631582, 'x_p1_2': 0.531582, 'x_p2': 0.175561, 'x_p2_1': 0.075561, 'x_p2_2': -0.024439, 'x_r2': 1.096776, 'x_r2_1': 0.996776, 'x_r2_2': 0.896776} using model BoTorch.\n",
      "[INFO 04-07 08:45:09] ax.service.ax_client: Completed trial 1341 with data: {'Viable_Cross_Terms': (9, None)}.\n",
      "[INFO 04-07 08:45:10] ax.modelbridge.base: Leaving out out-of-design observations for arms: 729_0, 1035_0, 977_0, 489_0, 1268_0, 1155_0, 1293_0, 686_0, 1121_0, 1157_0, 775_0, 899_0\n",
      "[INFO 04-07 08:51:35] ax.service.ax_client: Generated new trial 1342 with parameters {'z_sh': 7, 'z_sh_1': 14, 'z_sh_2': 5, 'z_p2': 35, 'z_p2_1': 34, 'z_p2_2': 33, 'z_r2': 80, 'z_r2_1': 85, 'z_r2_2': 84, 'x_s': 0.5, 'x_s_1': 0.4, 'x_s_2': 0.3, 'x_p1': 0.626587, 'x_p1_1': 0.526587, 'x_p1_2': 0.426587, 'x_p2': 0.5, 'x_p2_1': 0.4, 'x_p2_2': 0.3, 'x_r2': 1.051561, 'x_r2_1': 0.951561, 'x_r2_2': 0.851561} using model BoTorch.\n",
      "[INFO 04-07 08:51:35] ax.service.ax_client: Completed trial 1342 with data: {'Viable_Cross_Terms': (85, None)}.\n",
      "[INFO 04-07 08:51:37] ax.modelbridge.base: Leaving out out-of-design observations for arms: 729_0, 1035_0, 977_0, 489_0, 1268_0, 1155_0, 1293_0, 686_0, 1121_0, 1157_0, 775_0, 899_0\n",
      "[INFO 04-07 08:56:31] ax.service.ax_client: Generated new trial 1343 with parameters {'z_sh': 7, 'z_sh_1': 14, 'z_sh_2': 5, 'z_p2': 34, 'z_p2_1': 34, 'z_p2_2': 32, 'z_r2': 80, 'z_r2_1': 78, 'z_r2_2': 75, 'x_s': 0.5, 'x_s_1': 0.4, 'x_s_2': 0.3, 'x_p1': 0.648375, 'x_p1_1': 0.548375, 'x_p1_2': 0.448375, 'x_p2': 0.5, 'x_p2_1': 0.4, 'x_p2_2': 0.3, 'x_r2': 1.097367, 'x_r2_1': 0.997367, 'x_r2_2': 0.897367} using model BoTorch.\n",
      "[INFO 04-07 08:56:31] ax.service.ax_client: Completed trial 1343 with data: {'Viable_Cross_Terms': (78, None)}.\n",
      "[INFO 04-07 08:56:32] ax.modelbridge.base: Leaving out out-of-design observations for arms: 729_0, 1035_0, 977_0, 489_0, 1268_0, 1155_0, 1293_0, 686_0, 1121_0, 1157_0, 775_0, 899_0\n",
      "[INFO 04-07 09:04:08] ax.service.ax_client: Generated new trial 1344 with parameters {'z_sh': 7, 'z_sh_1': 13, 'z_sh_2': 5, 'z_p2': 34, 'z_p2_1': 34, 'z_p2_2': 32, 'z_r2': 80, 'z_r2_1': 83, 'z_r2_2': 78, 'x_s': 0.5, 'x_s_1': 0.4, 'x_s_2': 0.3, 'x_p1': 0.660816, 'x_p1_1': 0.560816, 'x_p1_2': 0.460816, 'x_p2': 0.5, 'x_p2_1': 0.4, 'x_p2_2': 0.3, 'x_r2': 1.08314, 'x_r2_1': 0.98314, 'x_r2_2': 0.88314} using model BoTorch.\n",
      "[INFO 04-07 09:04:08] ax.service.ax_client: Completed trial 1344 with data: {'Viable_Cross_Terms': (82, None)}.\n",
      "[INFO 04-07 09:04:09] ax.modelbridge.base: Leaving out out-of-design observations for arms: 729_0, 1035_0, 977_0, 489_0, 1268_0, 1155_0, 1293_0, 686_0, 1121_0, 1157_0, 775_0, 899_0\n",
      "[INFO 04-07 09:10:15] ax.service.ax_client: Generated new trial 1345 with parameters {'z_sh': 7, 'z_sh_1': 14, 'z_sh_2': 5, 'z_p2': 35, 'z_p2_1': 34, 'z_p2_2': 33, 'z_r2': 80, 'z_r2_1': 85, 'z_r2_2': 84, 'x_s': 0.5, 'x_s_1': 0.4, 'x_s_2': 0.3, 'x_p1': 0.658313, 'x_p1_1': 0.558313, 'x_p1_2': 0.458313, 'x_p2': 0.5, 'x_p2_1': 0.4, 'x_p2_2': 0.3, 'x_r2': 1.073333, 'x_r2_1': 0.973333, 'x_r2_2': 0.873333} using model BoTorch.\n",
      "[INFO 04-07 09:10:15] ax.service.ax_client: Completed trial 1345 with data: {'Viable_Cross_Terms': (85, None)}.\n",
      "[INFO 04-07 09:10:16] ax.modelbridge.base: Leaving out out-of-design observations for arms: 729_0, 1035_0, 977_0, 489_0, 1268_0, 1155_0, 1293_0, 686_0, 1121_0, 1157_0, 775_0, 899_0\n",
      "[INFO 04-07 09:15:37] ax.service.ax_client: Generated new trial 1346 with parameters {'z_sh': 15, 'z_sh_1': 6, 'z_sh_2': 5, 'z_p2': 35, 'z_p2_1': 26, 'z_p2_2': 28, 'z_r2': 84, 'z_r2_1': 74, 'z_r2_2': 75, 'x_s': 0.5, 'x_s_1': -0.4, 'x_s_2': -0.5, 'x_p1': 1.0, 'x_p1_1': -0.9, 'x_p1_2': -1.0, 'x_p2': -0.3, 'x_p2_1': -0.4, 'x_p2_2': -0.5, 'x_r2': 1.5, 'x_r2_1': -0.215971, 'x_r2_2': -0.315971} using model BoTorch.\n",
      "[INFO 04-07 09:15:37] ax.service.ax_client: Completed trial 1346 with data: {'Viable_Cross_Terms': (9, None)}.\n",
      "[INFO 04-07 09:15:38] ax.modelbridge.base: Leaving out out-of-design observations for arms: 729_0, 1035_0, 977_0, 489_0, 1268_0, 1155_0, 1293_0, 686_0, 1121_0, 1157_0, 775_0, 899_0\n",
      "[INFO 04-07 09:21:20] ax.service.ax_client: Generated new trial 1347 with parameters {'z_sh': 7, 'z_sh_1': 12, 'z_sh_2': 5, 'z_p2': 30, 'z_p2_1': 29, 'z_p2_2': 28, 'z_r2': 72, 'z_r2_1': 79, 'z_r2_2': 74, 'x_s': 0.5, 'x_s_1': 0.4, 'x_s_2': 0.3, 'x_p1': 1.0, 'x_p1_1': 0.9, 'x_p1_2': -1.0, 'x_p2': 0.5, 'x_p2_1': 0.4, 'x_p2_2': 0.3, 'x_r2': 1.5, 'x_r2_1': -0.896919, 'x_r2_2': -0.996919} using model BoTorch.\n",
      "[INFO 04-07 09:21:20] ax.service.ax_client: Completed trial 1347 with data: {'Viable_Cross_Terms': (0, None)}.\n",
      "[INFO 04-07 09:21:22] ax.modelbridge.base: Leaving out out-of-design observations for arms: 729_0, 1035_0, 977_0, 489_0, 1268_0, 1155_0, 1293_0, 686_0, 1121_0, 1157_0, 775_0, 899_0\n",
      "[INFO 04-07 09:26:54] ax.service.ax_client: Generated new trial 1348 with parameters {'z_sh': 8, 'z_sh_1': 9, 'z_sh_2': 11, 'z_p2': 32, 'z_p2_1': 30, 'z_p2_2': 29, 'z_r2': 85, 'z_r2_1': 72, 'z_r2_2': 80, 'x_s': 0.5, 'x_s_1': 0.4, 'x_s_2': 0.3, 'x_p1': 1.0, 'x_p1_1': 0.739439, 'x_p1_2': -1.0, 'x_p2': 0.181177, 'x_p2_1': 0.081177, 'x_p2_2': -0.487612, 'x_r2': 0.801915, 'x_r2_1': 0.701915, 'x_r2_2': -1.08404} using model BoTorch.\n",
      "[INFO 04-07 09:26:54] ax.service.ax_client: Completed trial 1348 with data: {'Viable_Cross_Terms': (16, None)}.\n",
      "[INFO 04-07 09:26:54] ax.modelbridge.base: Leaving out out-of-design observations for arms: 729_0, 1035_0, 977_0, 489_0, 1268_0, 1155_0, 1293_0, 686_0, 1121_0, 1157_0, 775_0, 899_0\n",
      "[INFO 04-07 09:33:51] ax.service.ax_client: Generated new trial 1349 with parameters {'z_sh': 7, 'z_sh_1': 14, 'z_sh_2': 5, 'z_p2': 27, 'z_p2_1': 26, 'z_p2_2': 25, 'z_r2': 85, 'z_r2_1': 78, 'z_r2_2': 84, 'x_s': 0.5, 'x_s_1': 0.4, 'x_s_2': 0.3, 'x_p1': 0.811966, 'x_p1_1': 0.711966, 'x_p1_2': 0.611966, 'x_p2': 0.5, 'x_p2_1': 0.4, 'x_p2_2': 0.3, 'x_r2': 1.049927, 'x_r2_1': 0.949927, 'x_r2_2': 0.849927} using model BoTorch.\n",
      "[INFO 04-07 09:33:51] ax.service.ax_client: Completed trial 1349 with data: {'Viable_Cross_Terms': (29, None)}.\n",
      "[INFO 04-07 09:33:52] ax.modelbridge.base: Leaving out out-of-design observations for arms: 729_0, 1035_0, 977_0, 489_0, 1268_0, 1155_0, 1293_0, 686_0, 1121_0, 1157_0, 775_0, 899_0\n",
      "[INFO 04-07 09:39:54] ax.service.ax_client: Generated new trial 1350 with parameters {'z_sh': 7, 'z_sh_1': 11, 'z_sh_2': 5, 'z_p2': 34, 'z_p2_1': 34, 'z_p2_2': 32, 'z_r2': 80, 'z_r2_1': 81, 'z_r2_2': 83, 'x_s': 0.5, 'x_s_1': 0.4, 'x_s_2': 0.3, 'x_p1': 0.66741, 'x_p1_1': 0.56741, 'x_p1_2': 0.46741, 'x_p2': 0.5, 'x_p2_1': 0.4, 'x_p2_2': 0.3, 'x_r2': 1.073569, 'x_r2_1': 0.973569, 'x_r2_2': 0.873569} using model BoTorch.\n",
      "[INFO 04-07 09:39:54] ax.service.ax_client: Completed trial 1350 with data: {'Viable_Cross_Terms': (82, None)}.\n",
      "[INFO 04-07 09:39:55] ax.modelbridge.base: Leaving out out-of-design observations for arms: 729_0, 1035_0, 977_0, 489_0, 1268_0, 1155_0, 1293_0, 686_0, 1121_0, 1157_0, 775_0, 899_0\n",
      "[INFO 04-07 09:45:46] ax.service.ax_client: Generated new trial 1351 with parameters {'z_sh': 8, 'z_sh_1': 11, 'z_sh_2': 5, 'z_p2': 30, 'z_p2_1': 32, 'z_p2_2': 29, 'z_r2': 80, 'z_r2_1': 75, 'z_r2_2': 81, 'x_s': -0.3, 'x_s_1': -0.4, 'x_s_2': -0.5, 'x_p1': 1.0, 'x_p1_1': -0.9, 'x_p1_2': -1.0, 'x_p2': 0.5, 'x_p2_1': 0.4, 'x_p2_2': 0.3, 'x_r2': 1.5, 'x_r2_1': 1.4, 'x_r2_2': -0.776701} using model BoTorch.\n",
      "[INFO 04-07 09:45:46] ax.service.ax_client: Completed trial 1351 with data: {'Viable_Cross_Terms': (4, None)}.\n",
      "[INFO 04-07 09:45:47] ax.modelbridge.base: Leaving out out-of-design observations for arms: 729_0, 1035_0, 977_0, 489_0, 1268_0, 1155_0, 1293_0, 686_0, 1121_0, 1157_0, 775_0, 899_0\n",
      "[INFO 04-07 09:51:39] ax.service.ax_client: Generated new trial 1352 with parameters {'z_sh': 8, 'z_sh_1': 7, 'z_sh_2': 5, 'z_p2': 30, 'z_p2_1': 31, 'z_p2_2': 31, 'z_r2': 77, 'z_r2_1': 75, 'z_r2_2': 78, 'x_s': 0.5, 'x_s_1': 0.4, 'x_s_2': 0.3, 'x_p1': 0.573828, 'x_p1_1': 0.473828, 'x_p1_2': 0.373828, 'x_p2': 0.5, 'x_p2_1': 0.4, 'x_p2_2': 0.3, 'x_r2': 0.951708, 'x_r2_1': 0.851708, 'x_r2_2': 0.751708} using model BoTorch.\n",
      "[INFO 04-07 09:51:39] ax.service.ax_client: Completed trial 1352 with data: {'Viable_Cross_Terms': (53, None)}.\n",
      "[INFO 04-07 09:51:40] ax.modelbridge.base: Leaving out out-of-design observations for arms: 729_0, 1035_0, 977_0, 489_0, 1268_0, 1155_0, 1293_0, 686_0, 1121_0, 1157_0, 775_0, 899_0\n",
      "[INFO 04-07 09:57:13] ax.service.ax_client: Generated new trial 1353 with parameters {'z_sh': 11, 'z_sh_1': 7, 'z_sh_2': 5, 'z_p2': 32, 'z_p2_1': 30, 'z_p2_2': 29, 'z_r2': 77, 'z_r2_1': 75, 'z_r2_2': 83, 'x_s': 0.5, 'x_s_1': 0.4, 'x_s_2': 0.3, 'x_p1': 0.561385, 'x_p1_1': 0.461385, 'x_p1_2': 0.361385, 'x_p2': 0.5, 'x_p2_1': 0.4, 'x_p2_2': 0.3, 'x_r2': 0.948819, 'x_r2_1': 0.848819, 'x_r2_2': 0.748819} using model BoTorch.\n",
      "[INFO 04-07 09:57:13] ax.service.ax_client: Completed trial 1353 with data: {'Viable_Cross_Terms': (37, None)}.\n",
      "[INFO 04-07 09:57:15] ax.modelbridge.base: Leaving out out-of-design observations for arms: 729_0, 1035_0, 977_0, 489_0, 1268_0, 1155_0, 1293_0, 686_0, 1121_0, 1157_0, 775_0, 899_0\n",
      "[INFO 04-07 10:02:33] ax.service.ax_client: Generated new trial 1354 with parameters {'z_sh': 7, 'z_sh_1': 14, 'z_sh_2': 5, 'z_p2': 27, 'z_p2_1': 34, 'z_p2_2': 33, 'z_r2': 80, 'z_r2_1': 71, 'z_r2_2': 84, 'x_s': 0.5, 'x_s_1': 0.4, 'x_s_2': 0.3, 'x_p1': 0.625703, 'x_p1_1': 0.525703, 'x_p1_2': 0.425703, 'x_p2': 0.5, 'x_p2_1': 0.4, 'x_p2_2': 0.3, 'x_r2': 1.077559, 'x_r2_1': 0.977559, 'x_r2_2': 0.877559} using model BoTorch.\n",
      "[INFO 04-07 10:02:33] ax.service.ax_client: Completed trial 1354 with data: {'Viable_Cross_Terms': (84, None)}.\n",
      "[INFO 04-07 10:02:34] ax.modelbridge.base: Leaving out out-of-design observations for arms: 729_0, 1035_0, 977_0, 489_0, 1268_0, 1155_0, 1293_0, 686_0, 1121_0, 1157_0, 775_0, 899_0\n",
      "[INFO 04-07 10:09:12] ax.service.ax_client: Generated new trial 1355 with parameters {'z_sh': 7, 'z_sh_1': 6, 'z_sh_2': 5, 'z_p2': 27, 'z_p2_1': 34, 'z_p2_2': 32, 'z_r2': 80, 'z_r2_1': 84, 'z_r2_2': 84, 'x_s': 0.5, 'x_s_1': 0.4, 'x_s_2': 0.3, 'x_p1': 0.637162, 'x_p1_1': 0.537162, 'x_p1_2': 0.437162, 'x_p2': 0.5, 'x_p2_1': 0.4, 'x_p2_2': 0.3, 'x_r2': 1.049607, 'x_r2_1': 0.949607, 'x_r2_2': 0.849607} using model BoTorch.\n",
      "[INFO 04-07 10:09:12] ax.service.ax_client: Completed trial 1355 with data: {'Viable_Cross_Terms': (84, None)}.\n",
      "[INFO 04-07 10:09:13] ax.modelbridge.base: Leaving out out-of-design observations for arms: 729_0, 1035_0, 977_0, 489_0, 1268_0, 1155_0, 1293_0, 686_0, 1121_0, 1157_0, 775_0, 899_0\n",
      "[INFO 04-07 10:14:44] ax.service.ax_client: Generated new trial 1356 with parameters {'z_sh': 7, 'z_sh_1': 14, 'z_sh_2': 5, 'z_p2': 35, 'z_p2_1': 34, 'z_p2_2': 33, 'z_r2': 80, 'z_r2_1': 85, 'z_r2_2': 70, 'x_s': 0.5, 'x_s_1': 0.4, 'x_s_2': 0.3, 'x_p1': 0.670282, 'x_p1_1': 0.570282, 'x_p1_2': 0.470282, 'x_p2': 0.5, 'x_p2_1': 0.4, 'x_p2_2': 0.3, 'x_r2': 1.083768, 'x_r2_1': 0.983768, 'x_r2_2': 0.883768} using model BoTorch.\n",
      "[INFO 04-07 10:14:44] ax.service.ax_client: Completed trial 1356 with data: {'Viable_Cross_Terms': (85, None)}.\n",
      "[INFO 04-07 10:14:45] ax.modelbridge.base: Leaving out out-of-design observations for arms: 729_0, 1035_0, 977_0, 489_0, 1268_0, 1155_0, 1293_0, 686_0, 1121_0, 1157_0, 775_0, 899_0\n",
      "[INFO 04-07 10:21:10] ax.service.ax_client: Generated new trial 1357 with parameters {'z_sh': 7, 'z_sh_1': 13, 'z_sh_2': 5, 'z_p2': 34, 'z_p2_1': 34, 'z_p2_2': 32, 'z_r2': 80, 'z_r2_1': 80, 'z_r2_2': 70, 'x_s': 0.5, 'x_s_1': 0.4, 'x_s_2': 0.3, 'x_p1': 0.63715, 'x_p1_1': 0.53715, 'x_p1_2': 0.43715, 'x_p2': 0.5, 'x_p2_1': 0.4, 'x_p2_2': 0.3, 'x_r2': 1.067442, 'x_r2_1': 0.967442, 'x_r2_2': 0.867442} using model BoTorch.\n",
      "[INFO 04-07 10:21:10] ax.service.ax_client: Completed trial 1357 with data: {'Viable_Cross_Terms': (85, None)}.\n",
      "[INFO 04-07 10:21:10] ax.modelbridge.base: Leaving out out-of-design observations for arms: 729_0, 1035_0, 977_0, 489_0, 1268_0, 1155_0, 1293_0, 686_0, 1121_0, 1157_0, 775_0, 899_0\n",
      "Exception ignored in: <bound method IPythonKernel._clean_thread_parent_frames of <ipykernel.ipkernel.IPythonKernel object at 0x73b61b7b3ec0>>\n",
      "Traceback (most recent call last):\n",
      "  File \"/home/gmc/Python/.venv/lib/python3.12/site-packages/ipykernel/ipkernel.py\", line 775, in _clean_thread_parent_frames\n",
      "    def _clean_thread_parent_frames(\n",
      "\n",
      "KeyboardInterrupt: \n"
     ]
    },
    {
     "ename": "KeyboardInterrupt",
     "evalue": "",
     "output_type": "error",
     "traceback": [
      "\u001b[0;31m---------------------------------------------------------------------------\u001b[0m",
      "\u001b[0;31mKeyboardInterrupt\u001b[0m                         Traceback (most recent call last)",
      "Cell \u001b[0;32mIn[42], line 2\u001b[0m\n\u001b[1;32m      1\u001b[0m \u001b[38;5;28;01mfor\u001b[39;00m i \u001b[38;5;129;01min\u001b[39;00m \u001b[38;5;28mrange\u001b[39m(\u001b[38;5;241m800\u001b[39m):\n\u001b[0;32m----> 2\u001b[0m     parameterization, trial_index \u001b[38;5;241m=\u001b[39m \u001b[43mTag_client\u001b[49m\u001b[38;5;241;43m.\u001b[39;49m\u001b[43mget_next_trial\u001b[49m\u001b[43m(\u001b[49m\u001b[43m)\u001b[49m\n\u001b[1;32m      3\u001b[0m     \u001b[38;5;66;03m# Local evaluation here can be replaced with deployment to external system.\u001b[39;00m\n\u001b[1;32m      4\u001b[0m     Tag_client\u001b[38;5;241m.\u001b[39mcomplete_trial(trial_index\u001b[38;5;241m=\u001b[39mtrial_index, raw_data\u001b[38;5;241m=\u001b[39mscore_vals(param_to_list(parameterization)))\n",
      "File \u001b[0;32m~/Python/.venv/lib/python3.12/site-packages/ax/utils/common/executils.py:169\u001b[0m, in \u001b[0;36mretry_on_exception.<locals>.func_wrapper.<locals>.actual_wrapper\u001b[0;34m(*args, **kwargs)\u001b[0m\n\u001b[1;32m    165\u001b[0m             wait_interval \u001b[38;5;241m=\u001b[39m \u001b[38;5;28mmin\u001b[39m(\n\u001b[1;32m    166\u001b[0m                 MAX_WAIT_SECONDS, initial_wait_seconds \u001b[38;5;241m*\u001b[39m \u001b[38;5;241m2\u001b[39m \u001b[38;5;241m*\u001b[39m\u001b[38;5;241m*\u001b[39m (i \u001b[38;5;241m-\u001b[39m \u001b[38;5;241m1\u001b[39m)\n\u001b[1;32m    167\u001b[0m             )\n\u001b[1;32m    168\u001b[0m             time\u001b[38;5;241m.\u001b[39msleep(wait_interval)\n\u001b[0;32m--> 169\u001b[0m         \u001b[38;5;28;01mreturn\u001b[39;00m \u001b[43mfunc\u001b[49m\u001b[43m(\u001b[49m\u001b[38;5;241;43m*\u001b[39;49m\u001b[43margs\u001b[49m\u001b[43m,\u001b[49m\u001b[43m \u001b[49m\u001b[38;5;241;43m*\u001b[39;49m\u001b[38;5;241;43m*\u001b[39;49m\u001b[43mkwargs\u001b[49m\u001b[43m)\u001b[49m\n\u001b[1;32m    171\u001b[0m \u001b[38;5;66;03m# If we are here, it means the retries were finished but\u001b[39;00m\n\u001b[1;32m    172\u001b[0m \u001b[38;5;66;03m# The error was suppressed. Hence return the default value provided.\u001b[39;00m\n\u001b[1;32m    173\u001b[0m \u001b[38;5;28;01mreturn\u001b[39;00m default_return_on_suppression\n",
      "File \u001b[0;32m~/Python/.venv/lib/python3.12/site-packages/ax/service/ax_client.py:576\u001b[0m, in \u001b[0;36mAxClient.get_next_trial\u001b[0;34m(self, ttl_seconds, force, fixed_features)\u001b[0m\n\u001b[1;32m    572\u001b[0m         \u001b[38;5;28;01mraise\u001b[39;00m OptimizationShouldStop(message\u001b[38;5;241m=\u001b[39mglobal_stopping_message)\n\u001b[1;32m    574\u001b[0m \u001b[38;5;28;01mtry\u001b[39;00m:\n\u001b[1;32m    575\u001b[0m     trial \u001b[38;5;241m=\u001b[39m \u001b[38;5;28mself\u001b[39m\u001b[38;5;241m.\u001b[39mexperiment\u001b[38;5;241m.\u001b[39mnew_trial(\n\u001b[0;32m--> 576\u001b[0m         generator_run\u001b[38;5;241m=\u001b[39m\u001b[38;5;28;43mself\u001b[39;49m\u001b[38;5;241;43m.\u001b[39;49m\u001b[43m_gen_new_generator_run\u001b[49m\u001b[43m(\u001b[49m\n\u001b[1;32m    577\u001b[0m \u001b[43m            \u001b[49m\u001b[43mfixed_features\u001b[49m\u001b[38;5;241;43m=\u001b[39;49m\u001b[43mfixed_features\u001b[49m\n\u001b[1;32m    578\u001b[0m \u001b[43m        \u001b[49m\u001b[43m)\u001b[49m,\n\u001b[1;32m    579\u001b[0m         ttl_seconds\u001b[38;5;241m=\u001b[39mttl_seconds,\n\u001b[1;32m    580\u001b[0m     )\n\u001b[1;32m    581\u001b[0m \u001b[38;5;28;01mexcept\u001b[39;00m MaxParallelismReachedException \u001b[38;5;28;01mas\u001b[39;00m e:\n\u001b[1;32m    582\u001b[0m     \u001b[38;5;28;01mif\u001b[39;00m \u001b[38;5;28mself\u001b[39m\u001b[38;5;241m.\u001b[39m_early_stopping_strategy \u001b[38;5;129;01mis\u001b[39;00m \u001b[38;5;129;01mnot\u001b[39;00m \u001b[38;5;28;01mNone\u001b[39;00m:\n",
      "File \u001b[0;32m~/Python/.venv/lib/python3.12/site-packages/ax/service/ax_client.py:1818\u001b[0m, in \u001b[0;36mAxClient._gen_new_generator_run\u001b[0;34m(self, n, fixed_features)\u001b[0m\n\u001b[1;32m   1810\u001b[0m fixed_feats \u001b[38;5;241m=\u001b[39m (\n\u001b[1;32m   1811\u001b[0m     InstantiationBase\u001b[38;5;241m.\u001b[39mmake_fixed_observation_features(\n\u001b[1;32m   1812\u001b[0m         fixed_features\u001b[38;5;241m=\u001b[39mfixed_features\n\u001b[0;32m   (...)\u001b[0m\n\u001b[1;32m   1815\u001b[0m     \u001b[38;5;28;01melse\u001b[39;00m \u001b[38;5;28;01mNone\u001b[39;00m\n\u001b[1;32m   1816\u001b[0m )\n\u001b[1;32m   1817\u001b[0m \u001b[38;5;28;01mwith\u001b[39;00m with_rng_seed(seed\u001b[38;5;241m=\u001b[39m\u001b[38;5;28mself\u001b[39m\u001b[38;5;241m.\u001b[39m_random_seed):\n\u001b[0;32m-> 1818\u001b[0m     \u001b[38;5;28;01mreturn\u001b[39;00m \u001b[43mnone_throws\u001b[49m\u001b[43m(\u001b[49m\u001b[38;5;28;43mself\u001b[39;49m\u001b[38;5;241;43m.\u001b[39;49m\u001b[43mgeneration_strategy\u001b[49m\u001b[43m)\u001b[49m\u001b[38;5;241;43m.\u001b[39;49m\u001b[43mgen\u001b[49m\u001b[43m(\u001b[49m\n\u001b[1;32m   1819\u001b[0m \u001b[43m        \u001b[49m\u001b[43mexperiment\u001b[49m\u001b[38;5;241;43m=\u001b[39;49m\u001b[38;5;28;43mself\u001b[39;49m\u001b[38;5;241;43m.\u001b[39;49m\u001b[43mexperiment\u001b[49m\u001b[43m,\u001b[49m\n\u001b[1;32m   1820\u001b[0m \u001b[43m        \u001b[49m\u001b[43mn\u001b[49m\u001b[38;5;241;43m=\u001b[39;49m\u001b[43mn\u001b[49m\u001b[43m,\u001b[49m\n\u001b[1;32m   1821\u001b[0m \u001b[43m        \u001b[49m\u001b[43mpending_observations\u001b[49m\u001b[38;5;241;43m=\u001b[39;49m\u001b[38;5;28;43mself\u001b[39;49m\u001b[38;5;241;43m.\u001b[39;49m\u001b[43m_get_pending_observation_features\u001b[49m\u001b[43m(\u001b[49m\n\u001b[1;32m   1822\u001b[0m \u001b[43m            \u001b[49m\u001b[43mexperiment\u001b[49m\u001b[38;5;241;43m=\u001b[39;49m\u001b[38;5;28;43mself\u001b[39;49m\u001b[38;5;241;43m.\u001b[39;49m\u001b[43mexperiment\u001b[49m\n\u001b[1;32m   1823\u001b[0m \u001b[43m        \u001b[49m\u001b[43m)\u001b[49m\u001b[43m,\u001b[49m\n\u001b[1;32m   1824\u001b[0m \u001b[43m        \u001b[49m\u001b[43mfixed_features\u001b[49m\u001b[38;5;241;43m=\u001b[39;49m\u001b[43mfixed_feats\u001b[49m\u001b[43m,\u001b[49m\n\u001b[1;32m   1825\u001b[0m \u001b[43m    \u001b[49m\u001b[43m)\u001b[49m\n",
      "File \u001b[0;32m~/Python/.venv/lib/python3.12/site-packages/ax/modelbridge/generation_strategy.py:339\u001b[0m, in \u001b[0;36mGenerationStrategy.gen\u001b[0;34m(self, experiment, data, pending_observations, n, fixed_features)\u001b[0m\n\u001b[1;32m    304\u001b[0m \u001b[38;5;28;01mdef\u001b[39;00m \u001b[38;5;21mgen\u001b[39m(\n\u001b[1;32m    305\u001b[0m     \u001b[38;5;28mself\u001b[39m,\n\u001b[1;32m    306\u001b[0m     experiment: Experiment,\n\u001b[0;32m   (...)\u001b[0m\n\u001b[1;32m    310\u001b[0m     fixed_features: ObservationFeatures \u001b[38;5;241m|\u001b[39m \u001b[38;5;28;01mNone\u001b[39;00m \u001b[38;5;241m=\u001b[39m \u001b[38;5;28;01mNone\u001b[39;00m,\n\u001b[1;32m    311\u001b[0m ) \u001b[38;5;241m-\u001b[39m\u001b[38;5;241m>\u001b[39m GeneratorRun:\n\u001b[1;32m    312\u001b[0m \u001b[38;5;250m    \u001b[39m\u001b[38;5;124;03m\"\"\"Produce the next points in the experiment. Additional kwargs passed to\u001b[39;00m\n\u001b[1;32m    313\u001b[0m \u001b[38;5;124;03m    this method are propagated directly to the underlying model's `gen`, along\u001b[39;00m\n\u001b[1;32m    314\u001b[0m \u001b[38;5;124;03m    with the `model_gen_kwargs` set on the current generation node.\u001b[39;00m\n\u001b[0;32m   (...)\u001b[0m\n\u001b[1;32m    337\u001b[0m \u001b[38;5;124;03m            resuggesting points that are currently being evaluated.\u001b[39;00m\n\u001b[1;32m    338\u001b[0m \u001b[38;5;124;03m    \"\"\"\u001b[39;00m\n\u001b[0;32m--> 339\u001b[0m     gr \u001b[38;5;241m=\u001b[39m \u001b[38;5;28;43mself\u001b[39;49m\u001b[38;5;241;43m.\u001b[39;49m\u001b[43m_gen_with_multiple_nodes\u001b[49m\u001b[43m(\u001b[49m\n\u001b[1;32m    340\u001b[0m \u001b[43m        \u001b[49m\u001b[43mexperiment\u001b[49m\u001b[38;5;241;43m=\u001b[39;49m\u001b[43mexperiment\u001b[49m\u001b[43m,\u001b[49m\n\u001b[1;32m    341\u001b[0m \u001b[43m        \u001b[49m\u001b[43mdata\u001b[49m\u001b[38;5;241;43m=\u001b[39;49m\u001b[43mdata\u001b[49m\u001b[43m,\u001b[49m\n\u001b[1;32m    342\u001b[0m \u001b[43m        \u001b[49m\u001b[43mn\u001b[49m\u001b[38;5;241;43m=\u001b[39;49m\u001b[43mn\u001b[49m\u001b[43m,\u001b[49m\n\u001b[1;32m    343\u001b[0m \u001b[43m        \u001b[49m\u001b[43mpending_observations\u001b[49m\u001b[38;5;241;43m=\u001b[39;49m\u001b[43mpending_observations\u001b[49m\u001b[43m,\u001b[49m\n\u001b[1;32m    344\u001b[0m \u001b[43m        \u001b[49m\u001b[43mfixed_features\u001b[49m\u001b[38;5;241;43m=\u001b[39;49m\u001b[43mfixed_features\u001b[49m\u001b[43m,\u001b[49m\n\u001b[1;32m    345\u001b[0m \u001b[43m    \u001b[49m\u001b[43m)\u001b[49m\n\u001b[1;32m    346\u001b[0m     \u001b[38;5;28;01mif\u001b[39;00m \u001b[38;5;28mlen\u001b[39m(gr) \u001b[38;5;241m>\u001b[39m \u001b[38;5;241m1\u001b[39m:\n\u001b[1;32m    347\u001b[0m         \u001b[38;5;28;01mraise\u001b[39;00m UnsupportedError(\n\u001b[1;32m    348\u001b[0m             \u001b[38;5;124m\"\u001b[39m\u001b[38;5;124mBy calling into GenerationStrategy.gen(), you are should be \u001b[39m\u001b[38;5;124m\"\u001b[39m\n\u001b[1;32m    349\u001b[0m             \u001b[38;5;124m\"\u001b[39m\u001b[38;5;124mexpecting a single `Trial` with only one `GeneratorRun`. However, \u001b[39m\u001b[38;5;124m\"\u001b[39m\n\u001b[1;32m    350\u001b[0m             \u001b[38;5;124m\"\u001b[39m\u001b[38;5;124mthe underlying GenerationStrategy produced multiple `GeneratorRuns` \u001b[39m\u001b[38;5;124m\"\u001b[39m\n\u001b[1;32m    351\u001b[0m             \u001b[38;5;124mf\u001b[39m\u001b[38;5;124m\"\u001b[39m\u001b[38;5;124mand returned the following list of `GeneratorRun`-s: \u001b[39m\u001b[38;5;132;01m{\u001b[39;00mgr\u001b[38;5;132;01m}\u001b[39;00m\u001b[38;5;124m\"\u001b[39m\n\u001b[1;32m    352\u001b[0m         )\n",
      "File \u001b[0;32m~/Python/.venv/lib/python3.12/site-packages/ax/modelbridge/generation_strategy.py:453\u001b[0m, in \u001b[0;36mGenerationStrategy._gen_with_multiple_nodes\u001b[0;34m(self, experiment, data, pending_observations, n, fixed_features, arms_per_node)\u001b[0m\n\u001b[1;32m    451\u001b[0m \u001b[38;5;28;01mif\u001b[39;00m arms_from_node \u001b[38;5;241m!=\u001b[39m \u001b[38;5;241m0\u001b[39m:\n\u001b[1;32m    452\u001b[0m     \u001b[38;5;28;01mtry\u001b[39;00m:\n\u001b[0;32m--> 453\u001b[0m         curr_node_gr \u001b[38;5;241m=\u001b[39m \u001b[38;5;28;43mself\u001b[39;49m\u001b[38;5;241;43m.\u001b[39;49m\u001b[43m_curr\u001b[49m\u001b[38;5;241;43m.\u001b[39;49m\u001b[43mgen\u001b[49m\u001b[43m(\u001b[49m\n\u001b[1;32m    454\u001b[0m \u001b[43m            \u001b[49m\u001b[43mn\u001b[49m\u001b[38;5;241;43m=\u001b[39;49m\u001b[43marms_from_node\u001b[49m\u001b[43m,\u001b[49m\n\u001b[1;32m    455\u001b[0m \u001b[43m            \u001b[49m\u001b[43mpending_observations\u001b[49m\u001b[38;5;241;43m=\u001b[39;49m\u001b[43mpending_observations\u001b[49m\u001b[43m,\u001b[49m\n\u001b[1;32m    456\u001b[0m \u001b[43m            \u001b[49m\u001b[43marms_by_signature_for_deduplication\u001b[49m\u001b[38;5;241;43m=\u001b[39;49m\u001b[43m(\u001b[49m\n\u001b[1;32m    457\u001b[0m \u001b[43m                \u001b[49m\u001b[43mexperiment\u001b[49m\u001b[38;5;241;43m.\u001b[39;49m\u001b[43marms_by_signature_for_deduplication\u001b[49m\n\u001b[1;32m    458\u001b[0m \u001b[43m            \u001b[49m\u001b[43m)\u001b[49m\u001b[43m,\u001b[49m\n\u001b[1;32m    459\u001b[0m \u001b[43m            \u001b[49m\u001b[43mfixed_features\u001b[49m\u001b[38;5;241;43m=\u001b[39;49m\u001b[43mfixed_features_from_node\u001b[49m\u001b[43m,\u001b[49m\n\u001b[1;32m    460\u001b[0m \u001b[43m        \u001b[49m\u001b[43m)\u001b[49m\n\u001b[1;32m    461\u001b[0m     \u001b[38;5;28;01mexcept\u001b[39;00m DataRequiredError \u001b[38;5;28;01mas\u001b[39;00m err:\n\u001b[1;32m    462\u001b[0m         \u001b[38;5;66;03m# Model needs more data, so we log the error and return\u001b[39;00m\n\u001b[1;32m    463\u001b[0m         \u001b[38;5;66;03m# as many generator runs as we were able to produce, unless\u001b[39;00m\n\u001b[1;32m    464\u001b[0m         \u001b[38;5;66;03m# no trials were produced at all (in which case its safe to raise).\u001b[39;00m\n\u001b[1;32m    465\u001b[0m         \u001b[38;5;28;01mif\u001b[39;00m \u001b[38;5;28mlen\u001b[39m(grs) \u001b[38;5;241m==\u001b[39m \u001b[38;5;241m0\u001b[39m:\n",
      "File \u001b[0;32m~/Python/.venv/lib/python3.12/site-packages/ax/modelbridge/generation_node.py:902\u001b[0m, in \u001b[0;36mGenerationStep.gen\u001b[0;34m(self, n, pending_observations, max_gen_draws_for_deduplication, arms_by_signature_for_deduplication, **model_gen_kwargs)\u001b[0m\n\u001b[1;32m    894\u001b[0m \u001b[38;5;28;01mdef\u001b[39;00m \u001b[38;5;21mgen\u001b[39m(\n\u001b[1;32m    895\u001b[0m     \u001b[38;5;28mself\u001b[39m,\n\u001b[1;32m    896\u001b[0m     n: \u001b[38;5;28mint\u001b[39m \u001b[38;5;241m|\u001b[39m \u001b[38;5;28;01mNone\u001b[39;00m \u001b[38;5;241m=\u001b[39m \u001b[38;5;28;01mNone\u001b[39;00m,\n\u001b[0;32m   (...)\u001b[0m\n\u001b[1;32m    900\u001b[0m     \u001b[38;5;241m*\u001b[39m\u001b[38;5;241m*\u001b[39mmodel_gen_kwargs: Any,\n\u001b[1;32m    901\u001b[0m ) \u001b[38;5;241m-\u001b[39m\u001b[38;5;241m>\u001b[39m GeneratorRun:\n\u001b[0;32m--> 902\u001b[0m     gr \u001b[38;5;241m=\u001b[39m \u001b[38;5;28;43msuper\u001b[39;49m\u001b[43m(\u001b[49m\u001b[43m)\u001b[49m\u001b[38;5;241;43m.\u001b[39;49m\u001b[43mgen\u001b[49m\u001b[43m(\u001b[49m\n\u001b[1;32m    903\u001b[0m \u001b[43m        \u001b[49m\u001b[43mn\u001b[49m\u001b[38;5;241;43m=\u001b[39;49m\u001b[43mn\u001b[49m\u001b[43m,\u001b[49m\n\u001b[1;32m    904\u001b[0m \u001b[43m        \u001b[49m\u001b[43mpending_observations\u001b[49m\u001b[38;5;241;43m=\u001b[39;49m\u001b[43mpending_observations\u001b[49m\u001b[43m,\u001b[49m\n\u001b[1;32m    905\u001b[0m \u001b[43m        \u001b[49m\u001b[43mmax_gen_draws_for_deduplication\u001b[49m\u001b[38;5;241;43m=\u001b[39;49m\u001b[43mmax_gen_draws_for_deduplication\u001b[49m\u001b[43m,\u001b[49m\n\u001b[1;32m    906\u001b[0m \u001b[43m        \u001b[49m\u001b[43marms_by_signature_for_deduplication\u001b[49m\u001b[38;5;241;43m=\u001b[39;49m\u001b[43marms_by_signature_for_deduplication\u001b[49m\u001b[43m,\u001b[49m\n\u001b[1;32m    907\u001b[0m \u001b[43m        \u001b[49m\u001b[38;5;241;43m*\u001b[39;49m\u001b[38;5;241;43m*\u001b[39;49m\u001b[43mmodel_gen_kwargs\u001b[49m\u001b[43m,\u001b[49m\n\u001b[1;32m    908\u001b[0m \u001b[43m    \u001b[49m\u001b[43m)\u001b[49m\n\u001b[1;32m    909\u001b[0m     gr\u001b[38;5;241m.\u001b[39m_generation_step_index \u001b[38;5;241m=\u001b[39m \u001b[38;5;28mself\u001b[39m\u001b[38;5;241m.\u001b[39mindex\n\u001b[1;32m    910\u001b[0m     \u001b[38;5;28;01mreturn\u001b[39;00m gr\n",
      "File \u001b[0;32m~/Python/.venv/lib/python3.12/site-packages/ax/modelbridge/generation_node.py:408\u001b[0m, in \u001b[0;36mGenerationNode.gen\u001b[0;34m(self, n, pending_observations, max_gen_draws_for_deduplication, arms_by_signature_for_deduplication, **model_gen_kwargs)\u001b[0m\n\u001b[1;32m    405\u001b[0m \u001b[38;5;66;03m# Keep generating until each of `generator_run.arms` is not a duplicate\u001b[39;00m\n\u001b[1;32m    406\u001b[0m \u001b[38;5;66;03m# of a previous arm, if `should_deduplicate is True`\u001b[39;00m\n\u001b[1;32m    407\u001b[0m \u001b[38;5;28;01mwhile\u001b[39;00m should_generate_run:\n\u001b[0;32m--> 408\u001b[0m     generator_run \u001b[38;5;241m=\u001b[39m \u001b[38;5;28;43mself\u001b[39;49m\u001b[38;5;241;43m.\u001b[39;49m\u001b[43m_gen\u001b[49m\u001b[43m(\u001b[49m\n\u001b[1;32m    409\u001b[0m \u001b[43m        \u001b[49m\u001b[43mn\u001b[49m\u001b[38;5;241;43m=\u001b[39;49m\u001b[43mn\u001b[49m\u001b[43m,\u001b[49m\n\u001b[1;32m    410\u001b[0m \u001b[43m        \u001b[49m\u001b[43mpending_observations\u001b[49m\u001b[38;5;241;43m=\u001b[39;49m\u001b[43mpending_observations\u001b[49m\u001b[43m,\u001b[49m\n\u001b[1;32m    411\u001b[0m \u001b[43m        \u001b[49m\u001b[38;5;241;43m*\u001b[39;49m\u001b[38;5;241;43m*\u001b[39;49m\u001b[43mmodel_gen_kwargs\u001b[49m\u001b[43m,\u001b[49m\n\u001b[1;32m    412\u001b[0m \u001b[43m    \u001b[49m\u001b[43m)\u001b[49m\n\u001b[1;32m    413\u001b[0m     should_generate_run \u001b[38;5;241m=\u001b[39m (\n\u001b[1;32m    414\u001b[0m         \u001b[38;5;28mself\u001b[39m\u001b[38;5;241m.\u001b[39mshould_deduplicate\n\u001b[1;32m    415\u001b[0m         \u001b[38;5;129;01mand\u001b[39;00m arms_by_signature_for_deduplication\n\u001b[0;32m   (...)\u001b[0m\n\u001b[1;32m    419\u001b[0m         )\n\u001b[1;32m    420\u001b[0m     )\n\u001b[1;32m    421\u001b[0m     n_gen_draws \u001b[38;5;241m+\u001b[39m\u001b[38;5;241m=\u001b[39m \u001b[38;5;241m1\u001b[39m\n",
      "File \u001b[0;32m~/Python/.venv/lib/python3.12/site-packages/ax/modelbridge/generation_node.py:479\u001b[0m, in \u001b[0;36mGenerationNode._gen\u001b[0;34m(self, n, pending_observations, **model_gen_kwargs)\u001b[0m\n\u001b[1;32m    475\u001b[0m \u001b[38;5;28;01mif\u001b[39;00m n \u001b[38;5;129;01mis\u001b[39;00m \u001b[38;5;28;01mNone\u001b[39;00m \u001b[38;5;129;01mand\u001b[39;00m model_spec\u001b[38;5;241m.\u001b[39mmodel_gen_kwargs:\n\u001b[1;32m    476\u001b[0m     \u001b[38;5;66;03m# If `n` is not specified, ensure that the `None` value does not\u001b[39;00m\n\u001b[1;32m    477\u001b[0m     \u001b[38;5;66;03m# override the one set in `model_spec.model_gen_kwargs`.\u001b[39;00m\n\u001b[1;32m    478\u001b[0m     n \u001b[38;5;241m=\u001b[39m model_spec\u001b[38;5;241m.\u001b[39mmodel_gen_kwargs\u001b[38;5;241m.\u001b[39mget(\u001b[38;5;124m\"\u001b[39m\u001b[38;5;124mn\u001b[39m\u001b[38;5;124m\"\u001b[39m, \u001b[38;5;28;01mNone\u001b[39;00m)\n\u001b[0;32m--> 479\u001b[0m \u001b[38;5;28;01mreturn\u001b[39;00m \u001b[43mmodel_spec\u001b[49m\u001b[38;5;241;43m.\u001b[39;49m\u001b[43mgen\u001b[49m\u001b[43m(\u001b[49m\n\u001b[1;32m    480\u001b[0m \u001b[43m    \u001b[49m\u001b[43mn\u001b[49m\u001b[38;5;241;43m=\u001b[39;49m\u001b[43mn\u001b[49m\u001b[43m,\u001b[49m\n\u001b[1;32m    481\u001b[0m \u001b[43m    \u001b[49m\u001b[38;5;66;43;03m# For `pending_observations`, prefer the input to this function, as\u001b[39;49;00m\n\u001b[1;32m    482\u001b[0m \u001b[43m    \u001b[49m\u001b[38;5;66;43;03m# `pending_observations` are dynamic throughout the experiment and thus\u001b[39;49;00m\n\u001b[1;32m    483\u001b[0m \u001b[43m    \u001b[49m\u001b[38;5;66;43;03m# unlikely to be specified in `model_spec.model_gen_kwargs`.\u001b[39;49;00m\n\u001b[1;32m    484\u001b[0m \u001b[43m    \u001b[49m\u001b[43mpending_observations\u001b[49m\u001b[38;5;241;43m=\u001b[39;49m\u001b[43mpending_observations\u001b[49m\u001b[43m,\u001b[49m\n\u001b[1;32m    485\u001b[0m \u001b[43m    \u001b[49m\u001b[38;5;241;43m*\u001b[39;49m\u001b[38;5;241;43m*\u001b[39;49m\u001b[43mmodel_gen_kwargs\u001b[49m\u001b[43m,\u001b[49m\n\u001b[1;32m    486\u001b[0m \u001b[43m\u001b[49m\u001b[43m)\u001b[49m\n",
      "File \u001b[0;32m~/Python/.venv/lib/python3.12/site-packages/ax/modelbridge/model_spec.py:240\u001b[0m, in \u001b[0;36mModelSpec.gen\u001b[0;34m(self, **model_gen_kwargs)\u001b[0m\n\u001b[1;32m    237\u001b[0m model_gen_kwargs \u001b[38;5;241m=\u001b[39m deepcopy(model_gen_kwargs)\n\u001b[1;32m    238\u001b[0m generator_run \u001b[38;5;241m=\u001b[39m fitted_model\u001b[38;5;241m.\u001b[39mgen(\u001b[38;5;241m*\u001b[39m\u001b[38;5;241m*\u001b[39mmodel_gen_kwargs)\n\u001b[1;32m    239\u001b[0m fit_and_std_quality_and_generalization_dict \u001b[38;5;241m=\u001b[39m (\n\u001b[0;32m--> 240\u001b[0m     \u001b[43mget_fit_and_std_quality_and_generalization_dict\u001b[49m\u001b[43m(\u001b[49m\n\u001b[1;32m    241\u001b[0m \u001b[43m        \u001b[49m\u001b[43mfitted_model_bridge\u001b[49m\u001b[38;5;241;43m=\u001b[39;49m\u001b[38;5;28;43mself\u001b[39;49m\u001b[38;5;241;43m.\u001b[39;49m\u001b[43mfitted_model\u001b[49m\u001b[43m,\u001b[49m\n\u001b[1;32m    242\u001b[0m \u001b[43m    \u001b[49m\u001b[43m)\u001b[49m\n\u001b[1;32m    243\u001b[0m )\n\u001b[1;32m    244\u001b[0m generator_run\u001b[38;5;241m.\u001b[39m_gen_metadata \u001b[38;5;241m=\u001b[39m (\n\u001b[1;32m    245\u001b[0m     {} \u001b[38;5;28;01mif\u001b[39;00m generator_run\u001b[38;5;241m.\u001b[39mgen_metadata \u001b[38;5;129;01mis\u001b[39;00m \u001b[38;5;28;01mNone\u001b[39;00m \u001b[38;5;28;01melse\u001b[39;00m generator_run\u001b[38;5;241m.\u001b[39mgen_metadata\n\u001b[1;32m    246\u001b[0m )\n\u001b[1;32m    247\u001b[0m generator_run\u001b[38;5;241m.\u001b[39m_gen_metadata\u001b[38;5;241m.\u001b[39mupdate(\n\u001b[1;32m    248\u001b[0m     \u001b[38;5;241m*\u001b[39m\u001b[38;5;241m*\u001b[39mfit_and_std_quality_and_generalization_dict\n\u001b[1;32m    249\u001b[0m )\n",
      "File \u001b[0;32m~/Python/.venv/lib/python3.12/site-packages/ax/modelbridge/cross_validation.py:425\u001b[0m, in \u001b[0;36mget_fit_and_std_quality_and_generalization_dict\u001b[0;34m(fitted_model_bridge)\u001b[0m\n\u001b[1;32m    422\u001b[0m std \u001b[38;5;241m=\u001b[39m \u001b[38;5;28mlist\u001b[39m(model_fit_dict[\u001b[38;5;124m\"\u001b[39m\u001b[38;5;124mstd_of_the_standardized_error\u001b[39m\u001b[38;5;124m\"\u001b[39m]\u001b[38;5;241m.\u001b[39mvalues())\n\u001b[1;32m    424\u001b[0m \u001b[38;5;66;03m# generalization metrics\u001b[39;00m\n\u001b[0;32m--> 425\u001b[0m model_gen_dict \u001b[38;5;241m=\u001b[39m \u001b[43mcompute_model_fit_metrics_from_modelbridge\u001b[49m\u001b[43m(\u001b[49m\n\u001b[1;32m    426\u001b[0m \u001b[43m    \u001b[49m\u001b[43mmodel_bridge\u001b[49m\u001b[38;5;241;43m=\u001b[39;49m\u001b[43mfitted_model_bridge\u001b[49m\u001b[43m,\u001b[49m\n\u001b[1;32m    427\u001b[0m \u001b[43m    \u001b[49m\u001b[43mgeneralization\u001b[49m\u001b[38;5;241;43m=\u001b[39;49m\u001b[38;5;28;43;01mTrue\u001b[39;49;00m\u001b[43m,\u001b[49m\n\u001b[1;32m    428\u001b[0m \u001b[43m    \u001b[49m\u001b[43muntransform\u001b[49m\u001b[38;5;241;43m=\u001b[39;49m\u001b[38;5;28;43;01mFalse\u001b[39;49;00m\u001b[43m,\u001b[49m\n\u001b[1;32m    429\u001b[0m \u001b[43m\u001b[49m\u001b[43m)\u001b[49m\n\u001b[1;32m    430\u001b[0m gen_std \u001b[38;5;241m=\u001b[39m \u001b[38;5;28mlist\u001b[39m(model_gen_dict[\u001b[38;5;124m\"\u001b[39m\u001b[38;5;124mstd_of_the_standardized_error\u001b[39m\u001b[38;5;124m\"\u001b[39m]\u001b[38;5;241m.\u001b[39mvalues())\n\u001b[1;32m    431\u001b[0m \u001b[38;5;28;01mreturn\u001b[39;00m {\n\u001b[1;32m    432\u001b[0m     \u001b[38;5;124m\"\u001b[39m\u001b[38;5;124mmodel_fit_quality\u001b[39m\u001b[38;5;124m\"\u001b[39m: _model_fit_metric(model_fit_dict),\n\u001b[1;32m    433\u001b[0m     \u001b[38;5;124m\"\u001b[39m\u001b[38;5;124mmodel_std_quality\u001b[39m\u001b[38;5;124m\"\u001b[39m: _model_std_quality(np\u001b[38;5;241m.\u001b[39marray(std)),\n\u001b[1;32m    434\u001b[0m     \u001b[38;5;124m\"\u001b[39m\u001b[38;5;124mmodel_fit_generalization\u001b[39m\u001b[38;5;124m\"\u001b[39m: _model_fit_metric(model_gen_dict),\n\u001b[1;32m    435\u001b[0m     \u001b[38;5;124m\"\u001b[39m\u001b[38;5;124mmodel_std_generalization\u001b[39m\u001b[38;5;124m\"\u001b[39m: _model_std_quality(np\u001b[38;5;241m.\u001b[39marray(gen_std)),\n\u001b[1;32m    436\u001b[0m }\n",
      "File \u001b[0;32m~/Python/.venv/lib/python3.12/site-packages/ax/modelbridge/cross_validation.py:488\u001b[0m, in \u001b[0;36mcompute_model_fit_metrics_from_modelbridge\u001b[0;34m(model_bridge, fit_metrics_dict, generalization, untransform)\u001b[0m\n\u001b[1;32m    454\u001b[0m \u001b[38;5;250m\u001b[39m\u001b[38;5;124;03m\"\"\"Computes the model fit metrics given a ModelBridge and an Experiment.\u001b[39;00m\n\u001b[1;32m    455\u001b[0m \n\u001b[1;32m    456\u001b[0m \u001b[38;5;124;03mArgs:\u001b[39;00m\n\u001b[0;32m   (...)\u001b[0m\n\u001b[1;32m    481\u001b[0m \u001b[38;5;124;03m    ```\u001b[39;00m\n\u001b[1;32m    482\u001b[0m \u001b[38;5;124;03m\"\"\"\u001b[39;00m\n\u001b[1;32m    483\u001b[0m predict_func \u001b[38;5;241m=\u001b[39m (\n\u001b[1;32m    484\u001b[0m     _predict_on_cross_validation_data\n\u001b[1;32m    485\u001b[0m     \u001b[38;5;28;01mif\u001b[39;00m generalization\n\u001b[1;32m    486\u001b[0m     \u001b[38;5;28;01melse\u001b[39;00m _predict_on_training_data\n\u001b[1;32m    487\u001b[0m )\n\u001b[0;32m--> 488\u001b[0m y_obs, y_pred, se_pred \u001b[38;5;241m=\u001b[39m \u001b[43mpredict_func\u001b[49m\u001b[43m(\u001b[49m\n\u001b[1;32m    489\u001b[0m \u001b[43m    \u001b[49m\u001b[43mmodel_bridge\u001b[49m\u001b[38;5;241;43m=\u001b[39;49m\u001b[43mmodel_bridge\u001b[49m\u001b[43m,\u001b[49m\u001b[43m \u001b[49m\u001b[43muntransform\u001b[49m\u001b[38;5;241;43m=\u001b[39;49m\u001b[43muntransform\u001b[49m\n\u001b[1;32m    490\u001b[0m \u001b[43m\u001b[49m\u001b[43m)\u001b[49m\n\u001b[1;32m    491\u001b[0m \u001b[38;5;28;01mif\u001b[39;00m fit_metrics_dict \u001b[38;5;129;01mis\u001b[39;00m \u001b[38;5;28;01mNone\u001b[39;00m:\n\u001b[1;32m    492\u001b[0m     fit_metrics_dict \u001b[38;5;241m=\u001b[39m {\n\u001b[1;32m    493\u001b[0m         \u001b[38;5;124m\"\u001b[39m\u001b[38;5;124mcoefficient_of_determination\u001b[39m\u001b[38;5;124m\"\u001b[39m: coefficient_of_determination,\n\u001b[1;32m    494\u001b[0m         \u001b[38;5;124m\"\u001b[39m\u001b[38;5;124mmean_of_the_standardized_error\u001b[39m\u001b[38;5;124m\"\u001b[39m: mean_of_the_standardized_error,\n\u001b[1;32m    495\u001b[0m         \u001b[38;5;124m\"\u001b[39m\u001b[38;5;124mstd_of_the_standardized_error\u001b[39m\u001b[38;5;124m\"\u001b[39m: std_of_the_standardized_error,\n\u001b[1;32m    496\u001b[0m     }\n",
      "File \u001b[0;32m~/Python/.venv/lib/python3.12/site-packages/ax/modelbridge/cross_validation.py:632\u001b[0m, in \u001b[0;36m_predict_on_cross_validation_data\u001b[0;34m(model_bridge, untransform)\u001b[0m\n\u001b[1;32m    610\u001b[0m \u001b[38;5;250m\u001b[39m\u001b[38;5;124;03m\"\"\"Makes leave-one-out cross-validation predictions on the training data of the\u001b[39;00m\n\u001b[1;32m    611\u001b[0m \u001b[38;5;124;03mModelBridge and returns the observed values, and the corresponding predictive means\u001b[39;00m\n\u001b[1;32m    612\u001b[0m \u001b[38;5;124;03mand predictive standard deviations of the model as numpy arrays,\u001b[39;00m\n\u001b[0;32m   (...)\u001b[0m\n\u001b[1;32m    626\u001b[0m \u001b[38;5;124;03m        3. LOOCV predicted standard deviation at each observed point.\u001b[39;00m\n\u001b[1;32m    627\u001b[0m \u001b[38;5;124;03m\"\"\"\u001b[39;00m\n\u001b[1;32m    628\u001b[0m \u001b[38;5;66;03m# IDEA: could use cross_validate_by_trial on the last few trials, since the\u001b[39;00m\n\u001b[1;32m    629\u001b[0m \u001b[38;5;66;03m# cross-validation performance on these is likely more correlated with the\u001b[39;00m\n\u001b[1;32m    630\u001b[0m \u001b[38;5;66;03m# performance of the model on an upcoming trial due to the sequential nature\u001b[39;00m\n\u001b[1;32m    631\u001b[0m \u001b[38;5;66;03m# of the data generated by BO.\u001b[39;00m\n\u001b[0;32m--> 632\u001b[0m cv \u001b[38;5;241m=\u001b[39m \u001b[43mcross_validate\u001b[49m\u001b[43m(\u001b[49m\u001b[43mmodel\u001b[49m\u001b[38;5;241;43m=\u001b[39;49m\u001b[43mmodel_bridge\u001b[49m\u001b[43m,\u001b[49m\u001b[43m \u001b[49m\u001b[43muntransform\u001b[49m\u001b[38;5;241;43m=\u001b[39;49m\u001b[43muntransform\u001b[49m\u001b[43m)\u001b[49m\n\u001b[1;32m    634\u001b[0m metric_names \u001b[38;5;241m=\u001b[39m cv[\u001b[38;5;241m0\u001b[39m]\u001b[38;5;241m.\u001b[39mobserved\u001b[38;5;241m.\u001b[39mdata\u001b[38;5;241m.\u001b[39mmetric_names\n\u001b[1;32m    635\u001b[0m mean_observed \u001b[38;5;241m=\u001b[39m {k: [] \u001b[38;5;28;01mfor\u001b[39;00m k \u001b[38;5;129;01min\u001b[39;00m metric_names}\n",
      "File \u001b[0;32m~/Python/.venv/lib/python3.12/site-packages/ax/modelbridge/cross_validation.py:161\u001b[0m, in \u001b[0;36mcross_validate\u001b[0;34m(model, folds, test_selector, untransform, use_posterior_predictive)\u001b[0m\n\u001b[1;32m    150\u001b[0m     cv_test_predictions \u001b[38;5;241m=\u001b[39m model\u001b[38;5;241m.\u001b[39mcross_validate(\n\u001b[1;32m    151\u001b[0m         cv_training_data\u001b[38;5;241m=\u001b[39mcv_training_data,\n\u001b[1;32m    152\u001b[0m         cv_test_points\u001b[38;5;241m=\u001b[39mcv_test_points,\n\u001b[1;32m    153\u001b[0m         use_posterior_predictive\u001b[38;5;241m=\u001b[39muse_posterior_predictive,\n\u001b[1;32m    154\u001b[0m     )\n\u001b[1;32m    155\u001b[0m \u001b[38;5;28;01melse\u001b[39;00m:\n\u001b[1;32m    156\u001b[0m     \u001b[38;5;66;03m# Get test predictions in transformed space\u001b[39;00m\n\u001b[1;32m    157\u001b[0m     (\n\u001b[1;32m    158\u001b[0m         cv_training_data,\n\u001b[1;32m    159\u001b[0m         cv_test_points,\n\u001b[1;32m    160\u001b[0m         search_space,\n\u001b[0;32m--> 161\u001b[0m     ) \u001b[38;5;241m=\u001b[39m \u001b[43mmodel\u001b[49m\u001b[38;5;241;43m.\u001b[39;49m\u001b[43m_transform_inputs_for_cv\u001b[49m\u001b[43m(\u001b[49m\n\u001b[1;32m    162\u001b[0m \u001b[43m        \u001b[49m\u001b[43mcv_training_data\u001b[49m\u001b[38;5;241;43m=\u001b[39;49m\u001b[43mcv_training_data\u001b[49m\u001b[43m,\u001b[49m\u001b[43m \u001b[49m\u001b[43mcv_test_points\u001b[49m\u001b[38;5;241;43m=\u001b[39;49m\u001b[43mcv_test_points\u001b[49m\n\u001b[1;32m    163\u001b[0m \u001b[43m    \u001b[49m\u001b[43m)\u001b[49m\n\u001b[1;32m    164\u001b[0m     \u001b[38;5;28;01mwith\u001b[39;00m warnings\u001b[38;5;241m.\u001b[39mcatch_warnings():\n\u001b[1;32m    165\u001b[0m         \u001b[38;5;66;03m# Since each CV fold removes points from the training data, the\u001b[39;00m\n\u001b[1;32m    166\u001b[0m         \u001b[38;5;66;03m# remaining observations will not pass the standardization test.\u001b[39;00m\n\u001b[1;32m    167\u001b[0m         \u001b[38;5;66;03m# To avoid confusing users with this warning, we filter it out.\u001b[39;00m\n\u001b[1;32m    168\u001b[0m         warnings\u001b[38;5;241m.\u001b[39mfilterwarnings(\n\u001b[1;32m    169\u001b[0m             \u001b[38;5;124m\"\u001b[39m\u001b[38;5;124mignore\u001b[39m\u001b[38;5;124m\"\u001b[39m,\n\u001b[1;32m    170\u001b[0m             message\u001b[38;5;241m=\u001b[39m\u001b[38;5;124mr\u001b[39m\u001b[38;5;124m\"\u001b[39m\u001b[38;5;124mData \u001b[39m\u001b[38;5;124m\\\u001b[39m\u001b[38;5;124m(outcome observations\u001b[39m\u001b[38;5;124m\\\u001b[39m\u001b[38;5;124m) is not standardized\u001b[39m\u001b[38;5;124m\"\u001b[39m,\n\u001b[1;32m    171\u001b[0m             category\u001b[38;5;241m=\u001b[39mInputDataWarning,\n\u001b[1;32m    172\u001b[0m         )\n",
      "File \u001b[0;32m~/Python/.venv/lib/python3.12/site-packages/ax/modelbridge/base.py:1043\u001b[0m, in \u001b[0;36mModelBridge._transform_inputs_for_cv\u001b[0;34m(self, cv_training_data, cv_test_points)\u001b[0m\n\u001b[1;32m   1031\u001b[0m \u001b[38;5;250m\u001b[39m\u001b[38;5;124;03m\"\"\"Apply transforms to cv_training_data and cv_test_points,\u001b[39;00m\n\u001b[1;32m   1032\u001b[0m \u001b[38;5;124;03mand return cv_training_data, cv_test_points, and search space in\u001b[39;00m\n\u001b[1;32m   1033\u001b[0m \u001b[38;5;124;03mtransformed space. This is to prepare data to be used in _cross_validate.\u001b[39;00m\n\u001b[0;32m   (...)\u001b[0m\n\u001b[1;32m   1040\u001b[0m \u001b[38;5;124;03m    cv_training_data, cv_test_points, and search space\u001b[39;00m\n\u001b[1;32m   1041\u001b[0m \u001b[38;5;124;03m    in transformed space.\"\"\"\u001b[39;00m\n\u001b[1;32m   1042\u001b[0m cv_test_points \u001b[38;5;241m=\u001b[39m deepcopy(cv_test_points)\n\u001b[0;32m-> 1043\u001b[0m cv_training_data \u001b[38;5;241m=\u001b[39m \u001b[43mdeepcopy\u001b[49m\u001b[43m(\u001b[49m\u001b[43mcv_training_data\u001b[49m\u001b[43m)\u001b[49m\n\u001b[1;32m   1044\u001b[0m search_space \u001b[38;5;241m=\u001b[39m \u001b[38;5;28mself\u001b[39m\u001b[38;5;241m.\u001b[39m_model_space\u001b[38;5;241m.\u001b[39mclone()\n\u001b[1;32m   1045\u001b[0m \u001b[38;5;28;01mfor\u001b[39;00m t \u001b[38;5;129;01min\u001b[39;00m \u001b[38;5;28mself\u001b[39m\u001b[38;5;241m.\u001b[39mtransforms\u001b[38;5;241m.\u001b[39mvalues():\n",
      "File \u001b[0;32m/usr/lib/python3.12/copy.py:136\u001b[0m, in \u001b[0;36mdeepcopy\u001b[0;34m(x, memo, _nil)\u001b[0m\n\u001b[1;32m    134\u001b[0m copier \u001b[38;5;241m=\u001b[39m _deepcopy_dispatch\u001b[38;5;241m.\u001b[39mget(\u001b[38;5;28mcls\u001b[39m)\n\u001b[1;32m    135\u001b[0m \u001b[38;5;28;01mif\u001b[39;00m copier \u001b[38;5;129;01mis\u001b[39;00m \u001b[38;5;129;01mnot\u001b[39;00m \u001b[38;5;28;01mNone\u001b[39;00m:\n\u001b[0;32m--> 136\u001b[0m     y \u001b[38;5;241m=\u001b[39m \u001b[43mcopier\u001b[49m\u001b[43m(\u001b[49m\u001b[43mx\u001b[49m\u001b[43m,\u001b[49m\u001b[43m \u001b[49m\u001b[43mmemo\u001b[49m\u001b[43m)\u001b[49m\n\u001b[1;32m    137\u001b[0m \u001b[38;5;28;01melse\u001b[39;00m:\n\u001b[1;32m    138\u001b[0m     \u001b[38;5;28;01mif\u001b[39;00m \u001b[38;5;28missubclass\u001b[39m(\u001b[38;5;28mcls\u001b[39m, \u001b[38;5;28mtype\u001b[39m):\n",
      "File \u001b[0;32m/usr/lib/python3.12/copy.py:196\u001b[0m, in \u001b[0;36m_deepcopy_list\u001b[0;34m(x, memo, deepcopy)\u001b[0m\n\u001b[1;32m    194\u001b[0m append \u001b[38;5;241m=\u001b[39m y\u001b[38;5;241m.\u001b[39mappend\n\u001b[1;32m    195\u001b[0m \u001b[38;5;28;01mfor\u001b[39;00m a \u001b[38;5;129;01min\u001b[39;00m x:\n\u001b[0;32m--> 196\u001b[0m     append(\u001b[43mdeepcopy\u001b[49m\u001b[43m(\u001b[49m\u001b[43ma\u001b[49m\u001b[43m,\u001b[49m\u001b[43m \u001b[49m\u001b[43mmemo\u001b[49m\u001b[43m)\u001b[49m)\n\u001b[1;32m    197\u001b[0m \u001b[38;5;28;01mreturn\u001b[39;00m y\n",
      "File \u001b[0;32m/usr/lib/python3.12/copy.py:162\u001b[0m, in \u001b[0;36mdeepcopy\u001b[0;34m(x, memo, _nil)\u001b[0m\n\u001b[1;32m    160\u001b[0m                 y \u001b[38;5;241m=\u001b[39m x\n\u001b[1;32m    161\u001b[0m             \u001b[38;5;28;01melse\u001b[39;00m:\n\u001b[0;32m--> 162\u001b[0m                 y \u001b[38;5;241m=\u001b[39m \u001b[43m_reconstruct\u001b[49m\u001b[43m(\u001b[49m\u001b[43mx\u001b[49m\u001b[43m,\u001b[49m\u001b[43m \u001b[49m\u001b[43mmemo\u001b[49m\u001b[43m,\u001b[49m\u001b[43m \u001b[49m\u001b[38;5;241;43m*\u001b[39;49m\u001b[43mrv\u001b[49m\u001b[43m)\u001b[49m\n\u001b[1;32m    164\u001b[0m \u001b[38;5;66;03m# If is its own copy, don't memoize.\u001b[39;00m\n\u001b[1;32m    165\u001b[0m \u001b[38;5;28;01mif\u001b[39;00m y \u001b[38;5;129;01mis\u001b[39;00m \u001b[38;5;129;01mnot\u001b[39;00m x:\n",
      "File \u001b[0;32m/usr/lib/python3.12/copy.py:259\u001b[0m, in \u001b[0;36m_reconstruct\u001b[0;34m(x, memo, func, args, state, listiter, dictiter, deepcopy)\u001b[0m\n\u001b[1;32m    257\u001b[0m \u001b[38;5;28;01mif\u001b[39;00m state \u001b[38;5;129;01mis\u001b[39;00m \u001b[38;5;129;01mnot\u001b[39;00m \u001b[38;5;28;01mNone\u001b[39;00m:\n\u001b[1;32m    258\u001b[0m     \u001b[38;5;28;01mif\u001b[39;00m deep:\n\u001b[0;32m--> 259\u001b[0m         state \u001b[38;5;241m=\u001b[39m \u001b[43mdeepcopy\u001b[49m\u001b[43m(\u001b[49m\u001b[43mstate\u001b[49m\u001b[43m,\u001b[49m\u001b[43m \u001b[49m\u001b[43mmemo\u001b[49m\u001b[43m)\u001b[49m\n\u001b[1;32m    260\u001b[0m     \u001b[38;5;28;01mif\u001b[39;00m \u001b[38;5;28mhasattr\u001b[39m(y, \u001b[38;5;124m'\u001b[39m\u001b[38;5;124m__setstate__\u001b[39m\u001b[38;5;124m'\u001b[39m):\n\u001b[1;32m    261\u001b[0m         y\u001b[38;5;241m.\u001b[39m__setstate__(state)\n",
      "File \u001b[0;32m/usr/lib/python3.12/copy.py:136\u001b[0m, in \u001b[0;36mdeepcopy\u001b[0;34m(x, memo, _nil)\u001b[0m\n\u001b[1;32m    134\u001b[0m copier \u001b[38;5;241m=\u001b[39m _deepcopy_dispatch\u001b[38;5;241m.\u001b[39mget(\u001b[38;5;28mcls\u001b[39m)\n\u001b[1;32m    135\u001b[0m \u001b[38;5;28;01mif\u001b[39;00m copier \u001b[38;5;129;01mis\u001b[39;00m \u001b[38;5;129;01mnot\u001b[39;00m \u001b[38;5;28;01mNone\u001b[39;00m:\n\u001b[0;32m--> 136\u001b[0m     y \u001b[38;5;241m=\u001b[39m \u001b[43mcopier\u001b[49m\u001b[43m(\u001b[49m\u001b[43mx\u001b[49m\u001b[43m,\u001b[49m\u001b[43m \u001b[49m\u001b[43mmemo\u001b[49m\u001b[43m)\u001b[49m\n\u001b[1;32m    137\u001b[0m \u001b[38;5;28;01melse\u001b[39;00m:\n\u001b[1;32m    138\u001b[0m     \u001b[38;5;28;01mif\u001b[39;00m \u001b[38;5;28missubclass\u001b[39m(\u001b[38;5;28mcls\u001b[39m, \u001b[38;5;28mtype\u001b[39m):\n",
      "File \u001b[0;32m/usr/lib/python3.12/copy.py:221\u001b[0m, in \u001b[0;36m_deepcopy_dict\u001b[0;34m(x, memo, deepcopy)\u001b[0m\n\u001b[1;32m    219\u001b[0m memo[\u001b[38;5;28mid\u001b[39m(x)] \u001b[38;5;241m=\u001b[39m y\n\u001b[1;32m    220\u001b[0m \u001b[38;5;28;01mfor\u001b[39;00m key, value \u001b[38;5;129;01min\u001b[39;00m x\u001b[38;5;241m.\u001b[39mitems():\n\u001b[0;32m--> 221\u001b[0m     y[deepcopy(key, memo)] \u001b[38;5;241m=\u001b[39m \u001b[43mdeepcopy\u001b[49m\u001b[43m(\u001b[49m\u001b[43mvalue\u001b[49m\u001b[43m,\u001b[49m\u001b[43m \u001b[49m\u001b[43mmemo\u001b[49m\u001b[43m)\u001b[49m\n\u001b[1;32m    222\u001b[0m \u001b[38;5;28;01mreturn\u001b[39;00m y\n",
      "File \u001b[0;32m/usr/lib/python3.12/copy.py:162\u001b[0m, in \u001b[0;36mdeepcopy\u001b[0;34m(x, memo, _nil)\u001b[0m\n\u001b[1;32m    160\u001b[0m                 y \u001b[38;5;241m=\u001b[39m x\n\u001b[1;32m    161\u001b[0m             \u001b[38;5;28;01melse\u001b[39;00m:\n\u001b[0;32m--> 162\u001b[0m                 y \u001b[38;5;241m=\u001b[39m \u001b[43m_reconstruct\u001b[49m\u001b[43m(\u001b[49m\u001b[43mx\u001b[49m\u001b[43m,\u001b[49m\u001b[43m \u001b[49m\u001b[43mmemo\u001b[49m\u001b[43m,\u001b[49m\u001b[43m \u001b[49m\u001b[38;5;241;43m*\u001b[39;49m\u001b[43mrv\u001b[49m\u001b[43m)\u001b[49m\n\u001b[1;32m    164\u001b[0m \u001b[38;5;66;03m# If is its own copy, don't memoize.\u001b[39;00m\n\u001b[1;32m    165\u001b[0m \u001b[38;5;28;01mif\u001b[39;00m y \u001b[38;5;129;01mis\u001b[39;00m \u001b[38;5;129;01mnot\u001b[39;00m x:\n",
      "File \u001b[0;32m/usr/lib/python3.12/copy.py:259\u001b[0m, in \u001b[0;36m_reconstruct\u001b[0;34m(x, memo, func, args, state, listiter, dictiter, deepcopy)\u001b[0m\n\u001b[1;32m    257\u001b[0m \u001b[38;5;28;01mif\u001b[39;00m state \u001b[38;5;129;01mis\u001b[39;00m \u001b[38;5;129;01mnot\u001b[39;00m \u001b[38;5;28;01mNone\u001b[39;00m:\n\u001b[1;32m    258\u001b[0m     \u001b[38;5;28;01mif\u001b[39;00m deep:\n\u001b[0;32m--> 259\u001b[0m         state \u001b[38;5;241m=\u001b[39m \u001b[43mdeepcopy\u001b[49m\u001b[43m(\u001b[49m\u001b[43mstate\u001b[49m\u001b[43m,\u001b[49m\u001b[43m \u001b[49m\u001b[43mmemo\u001b[49m\u001b[43m)\u001b[49m\n\u001b[1;32m    260\u001b[0m     \u001b[38;5;28;01mif\u001b[39;00m \u001b[38;5;28mhasattr\u001b[39m(y, \u001b[38;5;124m'\u001b[39m\u001b[38;5;124m__setstate__\u001b[39m\u001b[38;5;124m'\u001b[39m):\n\u001b[1;32m    261\u001b[0m         y\u001b[38;5;241m.\u001b[39m__setstate__(state)\n",
      "File \u001b[0;32m/usr/lib/python3.12/copy.py:136\u001b[0m, in \u001b[0;36mdeepcopy\u001b[0;34m(x, memo, _nil)\u001b[0m\n\u001b[1;32m    134\u001b[0m copier \u001b[38;5;241m=\u001b[39m _deepcopy_dispatch\u001b[38;5;241m.\u001b[39mget(\u001b[38;5;28mcls\u001b[39m)\n\u001b[1;32m    135\u001b[0m \u001b[38;5;28;01mif\u001b[39;00m copier \u001b[38;5;129;01mis\u001b[39;00m \u001b[38;5;129;01mnot\u001b[39;00m \u001b[38;5;28;01mNone\u001b[39;00m:\n\u001b[0;32m--> 136\u001b[0m     y \u001b[38;5;241m=\u001b[39m \u001b[43mcopier\u001b[49m\u001b[43m(\u001b[49m\u001b[43mx\u001b[49m\u001b[43m,\u001b[49m\u001b[43m \u001b[49m\u001b[43mmemo\u001b[49m\u001b[43m)\u001b[49m\n\u001b[1;32m    137\u001b[0m \u001b[38;5;28;01melse\u001b[39;00m:\n\u001b[1;32m    138\u001b[0m     \u001b[38;5;28;01mif\u001b[39;00m \u001b[38;5;28missubclass\u001b[39m(\u001b[38;5;28mcls\u001b[39m, \u001b[38;5;28mtype\u001b[39m):\n",
      "File \u001b[0;32m/usr/lib/python3.12/copy.py:221\u001b[0m, in \u001b[0;36m_deepcopy_dict\u001b[0;34m(x, memo, deepcopy)\u001b[0m\n\u001b[1;32m    219\u001b[0m memo[\u001b[38;5;28mid\u001b[39m(x)] \u001b[38;5;241m=\u001b[39m y\n\u001b[1;32m    220\u001b[0m \u001b[38;5;28;01mfor\u001b[39;00m key, value \u001b[38;5;129;01min\u001b[39;00m x\u001b[38;5;241m.\u001b[39mitems():\n\u001b[0;32m--> 221\u001b[0m     y[deepcopy(key, memo)] \u001b[38;5;241m=\u001b[39m \u001b[43mdeepcopy\u001b[49m\u001b[43m(\u001b[49m\u001b[43mvalue\u001b[49m\u001b[43m,\u001b[49m\u001b[43m \u001b[49m\u001b[43mmemo\u001b[49m\u001b[43m)\u001b[49m\n\u001b[1;32m    222\u001b[0m \u001b[38;5;28;01mreturn\u001b[39;00m y\n",
      "File \u001b[0;32m/usr/lib/python3.12/copy.py:136\u001b[0m, in \u001b[0;36mdeepcopy\u001b[0;34m(x, memo, _nil)\u001b[0m\n\u001b[1;32m    134\u001b[0m copier \u001b[38;5;241m=\u001b[39m _deepcopy_dispatch\u001b[38;5;241m.\u001b[39mget(\u001b[38;5;28mcls\u001b[39m)\n\u001b[1;32m    135\u001b[0m \u001b[38;5;28;01mif\u001b[39;00m copier \u001b[38;5;129;01mis\u001b[39;00m \u001b[38;5;129;01mnot\u001b[39;00m \u001b[38;5;28;01mNone\u001b[39;00m:\n\u001b[0;32m--> 136\u001b[0m     y \u001b[38;5;241m=\u001b[39m \u001b[43mcopier\u001b[49m\u001b[43m(\u001b[49m\u001b[43mx\u001b[49m\u001b[43m,\u001b[49m\u001b[43m \u001b[49m\u001b[43mmemo\u001b[49m\u001b[43m)\u001b[49m\n\u001b[1;32m    137\u001b[0m \u001b[38;5;28;01melse\u001b[39;00m:\n\u001b[1;32m    138\u001b[0m     \u001b[38;5;28;01mif\u001b[39;00m \u001b[38;5;28missubclass\u001b[39m(\u001b[38;5;28mcls\u001b[39m, \u001b[38;5;28mtype\u001b[39m):\n",
      "File \u001b[0;32m/usr/lib/python3.12/copy.py:221\u001b[0m, in \u001b[0;36m_deepcopy_dict\u001b[0;34m(x, memo, deepcopy)\u001b[0m\n\u001b[1;32m    219\u001b[0m memo[\u001b[38;5;28mid\u001b[39m(x)] \u001b[38;5;241m=\u001b[39m y\n\u001b[1;32m    220\u001b[0m \u001b[38;5;28;01mfor\u001b[39;00m key, value \u001b[38;5;129;01min\u001b[39;00m x\u001b[38;5;241m.\u001b[39mitems():\n\u001b[0;32m--> 221\u001b[0m     y[\u001b[43mdeepcopy\u001b[49m\u001b[43m(\u001b[49m\u001b[43mkey\u001b[49m\u001b[43m,\u001b[49m\u001b[43m \u001b[49m\u001b[43mmemo\u001b[49m\u001b[43m)\u001b[49m] \u001b[38;5;241m=\u001b[39m deepcopy(value, memo)\n\u001b[1;32m    222\u001b[0m \u001b[38;5;28;01mreturn\u001b[39;00m y\n",
      "File \u001b[0;32m/usr/lib/python3.12/copy.py:128\u001b[0m, in \u001b[0;36mdeepcopy\u001b[0;34m(x, memo, _nil)\u001b[0m\n\u001b[1;32m    125\u001b[0m     memo \u001b[38;5;241m=\u001b[39m {}\n\u001b[1;32m    127\u001b[0m d \u001b[38;5;241m=\u001b[39m \u001b[38;5;28mid\u001b[39m(x)\n\u001b[0;32m--> 128\u001b[0m y \u001b[38;5;241m=\u001b[39m \u001b[43mmemo\u001b[49m\u001b[38;5;241;43m.\u001b[39;49m\u001b[43mget\u001b[49m\u001b[43m(\u001b[49m\u001b[43md\u001b[49m\u001b[43m,\u001b[49m\u001b[43m \u001b[49m\u001b[43m_nil\u001b[49m\u001b[43m)\u001b[49m\n\u001b[1;32m    129\u001b[0m \u001b[38;5;28;01mif\u001b[39;00m y \u001b[38;5;129;01mis\u001b[39;00m \u001b[38;5;129;01mnot\u001b[39;00m _nil:\n\u001b[1;32m    130\u001b[0m     \u001b[38;5;28;01mreturn\u001b[39;00m y\n",
      "\u001b[0;31mKeyboardInterrupt\u001b[0m: "
     ]
    }
   ],
   "source": [
    "for i in range(800):\n",
    "    parameterization, trial_index = Tag_client.get_next_trial()\n",
    "    # Local evaluation here can be replaced with deployment to external system.\n",
    "    Tag_client.complete_trial(trial_index=trial_index, raw_data=score_vals(param_to_list(parameterization)))"
   ]
  }
 ],
 "metadata": {
  "kernelspec": {
   "display_name": ".venv",
   "language": "python",
   "name": "python3"
  },
  "language_info": {
   "codemirror_mode": {
    "name": "ipython",
    "version": 3
   },
   "file_extension": ".py",
   "mimetype": "text/x-python",
   "name": "python",
   "nbconvert_exporter": "python",
   "pygments_lexer": "ipython3",
   "version": "3.12.3"
  }
 },
 "nbformat": 4,
 "nbformat_minor": 2
}
