{
 "cells": [
  {
   "cell_type": "markdown",
   "metadata": {},
   "source": [
    "## Setup"
   ]
  },
  {
   "cell_type": "code",
   "execution_count": 1,
   "metadata": {},
   "outputs": [],
   "source": [
    "import numpy as np\n",
    "import matplotlib.pyplot as plt\n",
    "from matplotlib.patches import Polygon\n",
    "from matplotlib.transforms import Affine2D\n",
    "import time\n",
    "from matplotlib.offsetbox import AnchoredText \n",
    "import mplcursors \n",
    "import os\n",
    "import json\n",
    "\n",
    "import itertools\n",
    "import math\n",
    "\n",
    "from tqdm import tqdm\n",
    "\n",
    "import pyDOE\n",
    "import sys\n",
    "\n",
    "from ax.service.ax_client import AxClient, ObjectiveProperties\n",
    "from ax.utils.measurement.synthetic_functions import hartmann6\n",
    "from ax.utils.notebook.plotting import init_notebook_plotting, render\n",
    "import plotly.io as pio\n",
    "\n",
    "import pickle\n",
    "from matplotlib.pyplot import cm\n",
    "import scienceplots\n",
    "\n",
    "from utils import score_vals, param_to_list\n",
    "\n",
    "# Mute warnings:\n",
    "import warnings\n",
    "warnings.filterwarnings('ignore')"
   ]
  },
  {
   "cell_type": "code",
   "execution_count": 2,
   "metadata": {},
   "outputs": [],
   "source": [
    "from ax.plot.trace import optimization_trace_single_method"
   ]
  },
  {
   "cell_type": "code",
   "execution_count": 3,
   "metadata": {},
   "outputs": [],
   "source": [
    "config = {\n",
    "  \"MODULE\": 0.8e-3,\n",
    "  \"MC\": 0.8467e-3,\n",
    "  \"MU\": 0.21,\n",
    "  \"ALPHA\": 20,\n",
    "  \"XS\": 0.476,\n",
    "  \"XP1\": 0.762,\n",
    "  \"XP2\": 0.536,\n",
    "  \"XR1\": 2,\n",
    "  \"XR2\": 1.21,\n",
    "  \"XS_RANGE\": [-0.5, 0.5, 0.25],\n",
    "  \"XP1_RANGE\": [-1, 1, 0.25],\n",
    "  \"XP2_RANGE\": [-0.5, 0.5, 0.25],\n",
    "  \"XR2_RANGE\": [-1.5, 1.5, 0.25],\n",
    "  \"N_PLANETS\": 3,\n",
    "  \"SUN_LIMITS\": [4, 26],\n",
    "  \"P1_LIMITS\": [32, 42],\n",
    "  \"P2_LIMITS\": [25, 35],\n",
    "  \"R2_LIMITS\": [70,86],\n",
    "  \"STEPS\": [2, 1, 1, 1],\n",
    "  \"MIN_RATIO_THRESHOLD\": 90,\n",
    "  \"MIN_FORWARD_THRESHOLD\": 0.30,\n",
    "  \"MIN_BACKWARD_THRESHOLD\": 0.30\n",
    "}\n"
   ]
  },
  {
   "cell_type": "code",
   "execution_count": 4,
   "metadata": {},
   "outputs": [],
   "source": [
    "MODULE = config[\"MODULE\"]\n",
    "MU = config[\"MU\"]\n",
    "MC = config.get(\"MC\", MODULE)\n",
    "ALPHA = np.radians(config.get(\"ALPHA\", 20))\n",
    "XR1 = config.get(\"XR1\", 0.0)\n",
    "N_PLANETS = config[\"N_PLANETS\"]\n",
    "TARGET_GEAR_RATIO = 100\n",
    "RATIO_TOLERANCE = 10"
   ]
  },
  {
   "cell_type": "markdown",
   "metadata": {},
   "source": [
    "## Start up client"
   ]
  },
  {
   "cell_type": "code",
   "execution_count": 5,
   "metadata": {},
   "outputs": [
    {
     "name": "stderr",
     "output_type": "stream",
     "text": [
      "[INFO 04-05 13:44:57] ax.service.ax_client: Starting optimization with verbose logging. To disable logging, set the `verbose_logging` argument to `False`. Note that float values in the logs are rounded to 6 decimal points.\n"
     ]
    }
   ],
   "source": [
    "Tag_client = AxClient()"
   ]
  },
  {
   "cell_type": "code",
   "execution_count": 6,
   "metadata": {},
   "outputs": [
    {
     "name": "stderr",
     "output_type": "stream",
     "text": [
      "[INFO 04-05 13:44:57] ax.service.utils.instantiation: Created search space: SearchSpace(parameters=[RangeParameter(name='z_sh', parameter_type=INT, range=[7, 15]), RangeParameter(name='z_sh_1', parameter_type=INT, range=[6, 14]), RangeParameter(name='z_sh_2', parameter_type=INT, range=[5, 13]), RangeParameter(name='z_p2', parameter_type=INT, range=[27, 35]), RangeParameter(name='z_p2_1', parameter_type=INT, range=[26, 34]), RangeParameter(name='z_p2_2', parameter_type=INT, range=[25, 33]), RangeParameter(name='z_r2', parameter_type=INT, range=[72, 86]), RangeParameter(name='z_r2_1', parameter_type=INT, range=[71, 85]), RangeParameter(name='z_r2_2', parameter_type=INT, range=[70, 84]), RangeParameter(name='x_s', parameter_type=FLOAT, range=[-0.48, 0.5]), RangeParameter(name='x_s_1', parameter_type=FLOAT, range=[-0.49, 0.49]), RangeParameter(name='x_s_2', parameter_type=FLOAT, range=[-0.5, 0.48]), RangeParameter(name='x_p1', parameter_type=FLOAT, range=[-0.98, 1.0]), RangeParameter(name='x_p1_1', parameter_type=FLOAT, range=[-0.99, 0.99]), RangeParameter(name='x_p1_2', parameter_type=FLOAT, range=[-1.0, 0.98]), RangeParameter(name='x_p2', parameter_type=FLOAT, range=[-0.48, 0.5]), RangeParameter(name='x_p2_1', parameter_type=FLOAT, range=[-0.49, 0.49]), RangeParameter(name='x_p2_2', parameter_type=FLOAT, range=[-0.5, 0.48]), RangeParameter(name='x_r2', parameter_type=FLOAT, range=[-1.48, 1.5]), RangeParameter(name='x_r2_1', parameter_type=FLOAT, range=[-1.49, 1.49]), RangeParameter(name='x_r2_2', parameter_type=FLOAT, range=[-1.5, 1.48])], parameter_constraints=[ParameterConstraint(-1.0*x_s + 1.0*x_s_1 <= -0.1), ParameterConstraint(-1.0*x_s_1 + 1.0*x_s_2 <= -0.1), ParameterConstraint(-1.0*x_p1 + 1.0*x_p1_1 <= -0.1), ParameterConstraint(-1.0*x_p1_1 + 1.0*x_p1_2 <= -0.1), ParameterConstraint(-1.0*x_p2 + 1.0*x_p2_1 <= -0.1), ParameterConstraint(-1.0*x_p2_1 + 1.0*x_p2_2 <= -0.1), ParameterConstraint(-1.0*x_r2 + 1.0*x_r2_1 <= -0.1), ParameterConstraint(-1.0*x_r2_1 + 1.0*x_r2_2 <= -0.1)]).\n",
      "[INFO 04-05 13:44:57] ax.modelbridge.dispatch_utils: Using Models.BOTORCH_MODULAR since there is at least one ordered parameter and there are no unordered categorical parameters.\n",
      "[INFO 04-05 13:44:57] ax.modelbridge.dispatch_utils: Calculating the number of remaining initialization trials based on num_initialization_trials=None max_initialization_trials=None num_tunable_parameters=21 num_trials=None use_batch_trials=False\n",
      "[INFO 04-05 13:44:57] ax.modelbridge.dispatch_utils: calculated num_initialization_trials=42\n",
      "[INFO 04-05 13:44:57] ax.modelbridge.dispatch_utils: num_completed_initialization_trials=0 num_remaining_initialization_trials=42\n",
      "[INFO 04-05 13:44:57] ax.modelbridge.dispatch_utils: `verbose`, `disable_progbar`, and `jit_compile` are not yet supported when using `choose_generation_strategy` with ModularBoTorchModel, dropping these arguments.\n",
      "[INFO 04-05 13:44:57] ax.modelbridge.dispatch_utils: Using Bayesian Optimization generation strategy: GenerationStrategy(name='Sobol+BoTorch', steps=[Sobol for 42 trials, BoTorch for subsequent trials]). Iterations after 42 will take longer to generate due to model-fitting.\n"
     ]
    }
   ],
   "source": [
    "# Define bounds for each parameter type\n",
    "int_bounds = {\n",
    "    \"z_sh\": [5, 15], #NOTE - z_sh is actually half z_s (which must be even)\n",
    "    \"z_p2\": [25, 35],\n",
    "    \"z_r2\": [70, 86],\n",
    "}\n",
    "\n",
    "float_bounds = {\n",
    "    \"x_s\": [-0.5, 0.5],\n",
    "    \"x_p1\": [-1.0, 1.0],\n",
    "    \"x_p2\": [-0.5, 0.5],\n",
    "    \"x_r2\": [-1.5, 1.5],\n",
    "}\n",
    "\n",
    "# Number of copies for each parameter\n",
    "num_copies = 3\n",
    "\n",
    "# Generate parameters dynamically\n",
    "parameters = []\n",
    "\n",
    "# Add integer parameters\n",
    "for name, bounds in int_bounds.items():\n",
    "    lower, upper = bounds\n",
    "    for i in range(num_copies):\n",
    "        param_name = f\"{name}\" if i == 0 else f\"{name}_{i}\"\n",
    "        parameters.append({\n",
    "            \"name\": param_name,\n",
    "            \"type\": \"range\",\n",
    "            \"bounds\": [lower + (num_copies-1-i), upper - i],  # adjust bounds to deal with order\n",
    "            \"value_type\": \"int\",\n",
    "        })\n",
    "\n",
    "# Add float parameters\n",
    "for name, bounds in float_bounds.items():\n",
    "    lower, upper = bounds\n",
    "    for i in range(num_copies):\n",
    "        param_name = f\"{name}\" if i == 0 else f\"{name}_{i}\"\n",
    "        parameters.append({\n",
    "            \"name\": param_name,\n",
    "            \"type\": \"range\",\n",
    "            \"bounds\": [lower + (.01*(num_copies-1-i)), upper - .01*i],  # adjust bounds to deal with order\n",
    "            \"value_type\": \"float\",\n",
    "        })\n",
    "\n",
    "# Generate parameter constraints\n",
    "parameter_constraints = []\n",
    "\n",
    "# Ensure integer `z` values satisfy z_s - z_s_1 >= 1\n",
    "for name in int_bounds.keys():\n",
    "    for i in range(num_copies-1):\n",
    "        j = i+1\n",
    "        param_i = f\"{name}\" if i == 0 else f\"{name}_{i}\"\n",
    "        param_j = f\"{name}_{j}\"\n",
    "        # parameter_constraints.append(f\"{param_i} - {param_j} >= 1\")\n",
    "\n",
    "# Ensure float `x` values satisfy x_s - x_s_1 >= 0.1\n",
    "for name in float_bounds.keys():\n",
    "    for i in range(num_copies-1):\n",
    "        j = i+1\n",
    "        param_i = f\"{name}\" if i == 0 else f\"{name}_{i}\"\n",
    "        param_j = f\"{name}_{j}\"\n",
    "        parameter_constraints.append(f\"{param_i} - {param_j} >= 0.1\")\n",
    "\n",
    "# Create the experiment\n",
    "Tag_client.create_experiment(\n",
    "    name=\"gear_experiment\",\n",
    "    parameters=parameters,\n",
    "    objectives={\"Viable_Cross_Terms\": ObjectiveProperties(minimize=False)},\n",
    "    parameter_constraints=parameter_constraints,  # Add constraints here\n",
    "    # outcome_constraints=[\"l2norm <= 1.25\"],  # Optional.\n",
    ")\n",
    "\n",
    "# Print constraints for verification\n",
    "# print(\"Parameter Constraints:\")\n",
    "# for constraint in parameter_constraints:\n",
    "#     print(constraint)"
   ]
  },
  {
   "cell_type": "code",
   "execution_count": 7,
   "metadata": {},
   "outputs": [],
   "source": [
    "# -1.0*z_p2 + 1.0*z_p2_1 <= -1.0\n",
    "# -1.0*x_p2_1 + 1.0*x_p2 <= -0.01"
   ]
  },
  {
   "cell_type": "code",
   "execution_count": 8,
   "metadata": {},
   "outputs": [
    {
     "data": {
      "text/plain": [
       "[{'name': 'z_sh', 'type': 'range', 'bounds': [7, 15], 'value_type': 'int'},\n",
       " {'name': 'z_sh_1', 'type': 'range', 'bounds': [6, 14], 'value_type': 'int'},\n",
       " {'name': 'z_sh_2', 'type': 'range', 'bounds': [5, 13], 'value_type': 'int'},\n",
       " {'name': 'z_p2', 'type': 'range', 'bounds': [27, 35], 'value_type': 'int'},\n",
       " {'name': 'z_p2_1', 'type': 'range', 'bounds': [26, 34], 'value_type': 'int'},\n",
       " {'name': 'z_p2_2', 'type': 'range', 'bounds': [25, 33], 'value_type': 'int'},\n",
       " {'name': 'z_r2', 'type': 'range', 'bounds': [72, 86], 'value_type': 'int'},\n",
       " {'name': 'z_r2_1', 'type': 'range', 'bounds': [71, 85], 'value_type': 'int'},\n",
       " {'name': 'z_r2_2', 'type': 'range', 'bounds': [70, 84], 'value_type': 'int'},\n",
       " {'name': 'x_s',\n",
       "  'type': 'range',\n",
       "  'bounds': [-0.48, 0.5],\n",
       "  'value_type': 'float'},\n",
       " {'name': 'x_s_1',\n",
       "  'type': 'range',\n",
       "  'bounds': [-0.49, 0.49],\n",
       "  'value_type': 'float'},\n",
       " {'name': 'x_s_2',\n",
       "  'type': 'range',\n",
       "  'bounds': [-0.5, 0.48],\n",
       "  'value_type': 'float'},\n",
       " {'name': 'x_p1',\n",
       "  'type': 'range',\n",
       "  'bounds': [-0.98, 1.0],\n",
       "  'value_type': 'float'},\n",
       " {'name': 'x_p1_1',\n",
       "  'type': 'range',\n",
       "  'bounds': [-0.99, 0.99],\n",
       "  'value_type': 'float'},\n",
       " {'name': 'x_p1_2',\n",
       "  'type': 'range',\n",
       "  'bounds': [-1.0, 0.98],\n",
       "  'value_type': 'float'},\n",
       " {'name': 'x_p2',\n",
       "  'type': 'range',\n",
       "  'bounds': [-0.48, 0.5],\n",
       "  'value_type': 'float'},\n",
       " {'name': 'x_p2_1',\n",
       "  'type': 'range',\n",
       "  'bounds': [-0.49, 0.49],\n",
       "  'value_type': 'float'},\n",
       " {'name': 'x_p2_2',\n",
       "  'type': 'range',\n",
       "  'bounds': [-0.5, 0.48],\n",
       "  'value_type': 'float'},\n",
       " {'name': 'x_r2',\n",
       "  'type': 'range',\n",
       "  'bounds': [-1.48, 1.5],\n",
       "  'value_type': 'float'},\n",
       " {'name': 'x_r2_1',\n",
       "  'type': 'range',\n",
       "  'bounds': [-1.49, 1.49],\n",
       "  'value_type': 'float'},\n",
       " {'name': 'x_r2_2',\n",
       "  'type': 'range',\n",
       "  'bounds': [-1.5, 1.48],\n",
       "  'value_type': 'float'}]"
      ]
     },
     "execution_count": 8,
     "metadata": {},
     "output_type": "execute_result"
    }
   ],
   "source": [
    "parameters"
   ]
  },
  {
   "cell_type": "code",
   "execution_count": 9,
   "metadata": {},
   "outputs": [
    {
     "data": {
      "text/plain": [
       "['x_s - x_s_1 >= 0.1',\n",
       " 'x_s_1 - x_s_2 >= 0.1',\n",
       " 'x_p1 - x_p1_1 >= 0.1',\n",
       " 'x_p1_1 - x_p1_2 >= 0.1',\n",
       " 'x_p2 - x_p2_1 >= 0.1',\n",
       " 'x_p2_1 - x_p2_2 >= 0.1',\n",
       " 'x_r2 - x_r2_1 >= 0.1',\n",
       " 'x_r2_1 - x_r2_2 >= 0.1']"
      ]
     },
     "execution_count": 9,
     "metadata": {},
     "output_type": "execute_result"
    }
   ],
   "source": [
    "parameter_constraints"
   ]
  },
  {
   "cell_type": "markdown",
   "metadata": {},
   "source": [
    "### Run tests to solve for best possible score    "
   ]
  },
  {
   "cell_type": "code",
   "execution_count": 10,
   "metadata": {},
   "outputs": [
    {
     "name": "stderr",
     "output_type": "stream",
     "text": [
      "[INFO 04-05 13:44:57] ax.service.ax_client: Generated new trial 0 with parameters {'z_sh': 12, 'z_sh_1': 13, 'z_sh_2': 13, 'z_p2': 30, 'z_p2_1': 32, 'z_p2_2': 28, 'z_r2': 86, 'z_r2_1': 74, 'z_r2_2': 74, 'x_s': 0.40634, 'x_s_1': 0.202612, 'x_s_2': -0.039872, 'x_p1': 0.860567, 'x_p1_1': 0.05466, 'x_p1_2': -0.905615, 'x_p2': 0.445594, 'x_p2_1': 0.329129, 'x_p2_2': -0.405654, 'x_r2': 1.007899, 'x_r2_1': -0.622691, 'x_r2_2': -0.861944} using model Sobol.\n"
     ]
    }
   ],
   "source": [
    "parameterization, trial_index = Tag_client.get_next_trial()"
   ]
  },
  {
   "cell_type": "code",
   "execution_count": 11,
   "metadata": {},
   "outputs": [
    {
     "data": {
      "text/plain": [
       "{'z_sh': 12,\n",
       " 'z_sh_1': 13,\n",
       " 'z_sh_2': 13,\n",
       " 'z_p2': 30,\n",
       " 'z_p2_1': 32,\n",
       " 'z_p2_2': 28,\n",
       " 'z_r2': 86,\n",
       " 'z_r2_1': 74,\n",
       " 'z_r2_2': 74,\n",
       " 'x_s': 0.4063396413438022,\n",
       " 'x_s_1': 0.20261154625564815,\n",
       " 'x_s_2': -0.03987187692895533,\n",
       " 'x_p1': 0.8605672977305949,\n",
       " 'x_p1_1': 0.05465959087014194,\n",
       " 'x_p1_2': -0.9056153228506446,\n",
       " 'x_p2': 0.44559385370463134,\n",
       " 'x_p2_1': 0.3291290584392845,\n",
       " 'x_p2_2': -0.4056536689773202,\n",
       " 'x_r2': 1.0078993488475678,\n",
       " 'x_r2_1': -0.6226905630342662,\n",
       " 'x_r2_2': -0.8619438071921468}"
      ]
     },
     "execution_count": 11,
     "metadata": {},
     "output_type": "execute_result"
    }
   ],
   "source": [
    "parameterization"
   ]
  },
  {
   "cell_type": "code",
   "execution_count": 12,
   "metadata": {},
   "outputs": [
    {
     "name": "stdout",
     "output_type": "stream",
     "text": [
      "21\n",
      "z_sh: 12\n",
      "z_sh_1: 13\n",
      "z_sh_2: 13\n",
      "z_p2: 30\n",
      "z_p2_1: 32\n",
      "z_p2_2: 28\n",
      "z_r2: 86\n",
      "z_r2_1: 74\n",
      "z_r2_2: 74\n",
      "x_s: 0.4063396413438022\n",
      "x_s_1: 0.20261154625564815\n",
      "x_s_2: -0.03987187692895533\n",
      "x_p1: 0.8605672977305949\n",
      "x_p1_1: 0.05465959087014194\n",
      "x_p1_2: -0.9056153228506446\n",
      "x_p2: 0.44559385370463134\n",
      "x_p2_1: 0.3291290584392845\n",
      "x_p2_2: -0.4056536689773202\n",
      "x_r2: 1.0078993488475678\n",
      "x_r2_1: -0.6226905630342662\n",
      "x_r2_2: -0.8619438071921468\n"
     ]
    }
   ],
   "source": [
    "print(len(parameterization))\n",
    "for name, value in parameterization.items():\n",
    "    print(f\"{name}: {value}\")"
   ]
  },
  {
   "cell_type": "code",
   "execution_count": 13,
   "metadata": {},
   "outputs": [
    {
     "name": "stderr",
     "output_type": "stream",
     "text": [
      "[INFO 04-05 13:44:57] ax.service.ax_client: Completed trial 0 with data: {'Viable_Cross_Terms': (5, None)}.\n"
     ]
    }
   ],
   "source": [
    "Tag_client.complete_trial(trial_index=trial_index, raw_data=score_vals(param_to_list(parameterization)))"
   ]
  },
  {
   "cell_type": "markdown",
   "metadata": {},
   "source": [
    "NOTE - run the following through 'Exhausted' errors."
   ]
  },
  {
   "cell_type": "code",
   "execution_count": 14,
   "metadata": {},
   "outputs": [
    {
     "name": "stderr",
     "output_type": "stream",
     "text": [
      "[INFO 04-05 13:44:57] ax.service.ax_client: Generated new trial 1 with parameters {'z_sh': 9, 'z_sh_1': 12, 'z_sh_2': 6, 'z_p2': 28, 'z_p2_1': 30, 'z_p2_2': 32, 'z_r2': 80, 'z_r2_1': 85, 'z_r2_2': 74, 'x_s': 0.491751, 'x_s_1': 0.201916, 'x_s_2': 0.061762, 'x_p1': 0.280179, 'x_p1_1': -0.216793, 'x_p1_2': -0.674284, 'x_p2': 0.482764, 'x_p2_1': 0.303063, 'x_p2_2': -0.240026, 'x_r2': 1.027452, 'x_r2_1': -0.226139, 'x_r2_2': -0.731557} using model Sobol.\n",
      "[INFO 04-05 13:44:57] ax.service.ax_client: Completed trial 1 with data: {'Viable_Cross_Terms': (16, None)}.\n",
      "[INFO 04-05 13:44:58] ax.service.ax_client: Generated new trial 2 with parameters {'z_sh': 14, 'z_sh_1': 14, 'z_sh_2': 10, 'z_p2': 28, 'z_p2_1': 30, 'z_p2_2': 30, 'z_r2': 73, 'z_r2_1': 77, 'z_r2_2': 75, 'x_s': 0.496107, 'x_s_1': 0.012512, 'x_s_2': -0.492182, 'x_p1': 0.533445, 'x_p1_1': 0.067106, 'x_p1_2': -0.092637, 'x_p2': 0.318919, 'x_p2_1': -0.178784, 'x_p2_2': -0.4208, 'x_r2': 0.4999, 'x_r2_1': 0.174703, 'x_r2_2': -0.101379} using model Sobol.\n",
      "[INFO 04-05 13:44:58] ax.service.ax_client: Completed trial 2 with data: {'Viable_Cross_Terms': (12, None)}.\n",
      "[INFO 04-05 13:44:58] ax.service.ax_client: Generated new trial 3 with parameters {'z_sh': 14, 'z_sh_1': 9, 'z_sh_2': 7, 'z_p2': 31, 'z_p2_1': 30, 'z_p2_2': 27, 'z_r2': 72, 'z_r2_1': 80, 'z_r2_2': 70, 'x_s': 0.33284, 'x_s_1': -0.232911, 'x_s_2': -0.387237, 'x_p1': 0.271144, 'x_p1_1': -0.010371, 'x_p1_2': -0.35736, 'x_p2': 0.408685, 'x_p2_1': 0.247238, 'x_p2_2': -0.078927, 'x_r2': 1.035394, 'x_r2_1': -0.490845, 'x_r2_2': -1.496787} using model Sobol.\n",
      "[INFO 04-05 13:44:58] ax.service.ax_client: Completed trial 3 with data: {'Viable_Cross_Terms': (20, None)}.\n"
     ]
    },
    {
     "name": "stdout",
     "output_type": "stream",
     "text": [
      "Not this time\n"
     ]
    },
    {
     "name": "stderr",
     "output_type": "stream",
     "text": [
      "[INFO 04-05 13:44:58] ax.service.ax_client: Generated new trial 4 with parameters {'z_sh': 8, 'z_sh_1': 14, 'z_sh_2': 6, 'z_p2': 29, 'z_p2_1': 27, 'z_p2_2': 25, 'z_r2': 74, 'z_r2_1': 75, 'z_r2_2': 70, 'x_s': 0.388911, 'x_s_1': 0.176081, 'x_s_2': 0.056943, 'x_p1': 0.874702, 'x_p1_1': 0.114893, 'x_p1_2': -0.669673, 'x_p2': 0.148211, 'x_p2_1': 0.013402, 'x_p2_2': -0.09417, 'x_r2': 0.051563, 'x_r2_1': -0.066229, 'x_r2_2': -0.587413} using model Sobol.\n",
      "[INFO 04-05 13:44:58] ax.service.ax_client: Completed trial 4 with data: {'Viable_Cross_Terms': (7, None)}.\n"
     ]
    },
    {
     "name": "stdout",
     "output_type": "stream",
     "text": [
      "Not this time\n"
     ]
    },
    {
     "name": "stderr",
     "output_type": "stream",
     "text": [
      "[INFO 04-05 13:44:59] ax.service.ax_client: Generated new trial 5 with parameters {'z_sh': 7, 'z_sh_1': 12, 'z_sh_2': 7, 'z_p2': 33, 'z_p2_1': 30, 'z_p2_2': 25, 'z_r2': 72, 'z_r2_1': 85, 'z_r2_2': 83, 'x_s': 0.367652, 'x_s_1': -0.042555, 'x_s_2': -0.17255, 'x_p1': 0.785026, 'x_p1_1': 0.661065, 'x_p1_2': 0.05197, 'x_p2': 0.247682, 'x_p2_1': 0.080662, 'x_p2_2': -0.165178, 'x_r2': 0.341651, 'x_r2_1': 0.13408, 'x_r2_2': -0.271007} using model Sobol.\n",
      "[INFO 04-05 13:44:59] ax.service.ax_client: Completed trial 5 with data: {'Viable_Cross_Terms': (15, None)}.\n",
      "[INFO 04-05 13:44:59] ax.service.ax_client: Generated new trial 6 with parameters {'z_sh': 7, 'z_sh_1': 12, 'z_sh_2': 11, 'z_p2': 30, 'z_p2_1': 33, 'z_p2_2': 28, 'z_r2': 80, 'z_r2_1': 71, 'z_r2_2': 77, 'x_s': 0.448106, 'x_s_1': -0.091749, 'x_s_2': -0.354004, 'x_p1': 0.514511, 'x_p1_1': -0.268157, 'x_p1_2': -0.64201, 'x_p2': 0.415432, 'x_p2_1': -0.214854, 'x_p2_2': -0.431319, 'x_r2': -0.580071, 'x_r2_1': -0.950087, 'x_r2_2': -1.181672} using model Sobol.\n",
      "[INFO 04-05 13:44:59] ax.service.ax_client: Completed trial 6 with data: {'Viable_Cross_Terms': (5, None)}.\n",
      "[INFO 04-05 13:44:59] ax.service.ax_client: Generated new trial 7 with parameters {'z_sh': 12, 'z_sh_1': 6, 'z_sh_2': 8, 'z_p2': 35, 'z_p2_1': 32, 'z_p2_2': 33, 'z_r2': 83, 'z_r2_1': 74, 'z_r2_2': 75, 'x_s': 0.298876, 'x_s_1': -0.14389, 'x_s_2': -0.382414, 'x_p1': 0.85214, 'x_p1_1': 0.151129, 'x_p1_2': -0.352273, 'x_p2': 0.221513, 'x_p2_1': 0.046887, 'x_p2_2': -0.239381, 'x_r2': 0.160039, 'x_r2_1': -0.70971, 'x_r2_2': -1.358825} using model Sobol.\n",
      "[INFO 04-05 13:44:59] ax.service.ax_client: Completed trial 7 with data: {'Viable_Cross_Terms': (11, None)}.\n",
      "[INFO 04-05 13:44:59] ax.service.ax_client: Generated new trial 8 with parameters {'z_sh': 11, 'z_sh_1': 7, 'z_sh_2': 11, 'z_p2': 31, 'z_p2_1': 32, 'z_p2_2': 27, 'z_r2': 82, 'z_r2_1': 80, 'z_r2_2': 74, 'x_s': 0.042326, 'x_s_1': -0.226417, 'x_s_2': -0.468167, 'x_p1': 0.352667, 'x_p1_1': 0.021823, 'x_p1_2': -0.496864, 'x_p2': 0.095443, 'x_p2_1': -0.056417, 'x_p2_2': -0.237519, 'x_r2': 0.375028, 'x_r2_1': -1.225837, 'x_r2_2': -1.444941} using model Sobol.\n",
      "[INFO 04-05 13:44:59] ax.service.ax_client: Completed trial 8 with data: {'Viable_Cross_Terms': (6, None)}.\n",
      "[INFO 04-05 13:45:00] ax.service.ax_client: Generated new trial 9 with parameters {'z_sh': 13, 'z_sh_1': 9, 'z_sh_2': 9, 'z_p2': 30, 'z_p2_1': 30, 'z_p2_2': 25, 'z_r2': 85, 'z_r2_1': 76, 'z_r2_2': 71, 'x_s': 0.213517, 'x_s_1': 0.031673, 'x_s_2': -0.076067, 'x_p1': -0.319844, 'x_p1_1': -0.573911, 'x_p1_2': -0.965283, 'x_p2': 0.128872, 'x_p2_1': -0.025865, 'x_p2_2': -0.433866, 'x_r2': 0.907326, 'x_r2_1': 0.662571, 'x_r2_2': -1.392847} using model Sobol.\n",
      "[INFO 04-05 13:45:00] ax.service.ax_client: Completed trial 9 with data: {'Viable_Cross_Terms': (11, None)}.\n"
     ]
    },
    {
     "name": "stdout",
     "output_type": "stream",
     "text": [
      "Not this time\n"
     ]
    },
    {
     "name": "stderr",
     "output_type": "stream",
     "text": [
      "[INFO 04-05 13:45:00] ax.service.ax_client: Generated new trial 10 with parameters {'z_sh': 8, 'z_sh_1': 12, 'z_sh_2': 11, 'z_p2': 32, 'z_p2_1': 33, 'z_p2_2': 28, 'z_r2': 86, 'z_r2_1': 80, 'z_r2_2': 83, 'x_s': 0.418468, 'x_s_1': -0.126699, 'x_s_2': -0.324683, 'x_p1': 0.587614, 'x_p1_1': 0.244995, 'x_p1_2': -0.923892, 'x_p2': 0.067149, 'x_p2_1': -0.03722, 'x_p2_2': -0.183502, 'x_r2': 0.206412, 'x_r2_1': -0.769023, 'x_r2_2': -1.393676} using model Sobol.\n",
      "[INFO 04-05 13:45:00] ax.service.ax_client: Completed trial 10 with data: {'Viable_Cross_Terms': (11, None)}.\n",
      "[INFO 04-05 13:45:01] ax.service.ax_client: Generated new trial 11 with parameters {'z_sh': 12, 'z_sh_1': 11, 'z_sh_2': 11, 'z_p2': 35, 'z_p2_1': 29, 'z_p2_2': 29, 'z_r2': 83, 'z_r2_1': 77, 'z_r2_2': 83, 'x_s': 0.448113, 'x_s_1': -0.101854, 'x_s_2': -0.338968, 'x_p1': 0.650296, 'x_p1_1': 0.132843, 'x_p1_2': -0.018342, 'x_p2': 0.333792, 'x_p2_1': 0.098529, 'x_p2_2': -0.334411, 'x_r2': 1.234747, 'x_r2_1': -0.022983, 'x_r2_2': -0.70598} using model Sobol.\n",
      "[INFO 04-05 13:45:01] ax.service.ax_client: Completed trial 11 with data: {'Viable_Cross_Terms': (5, None)}.\n",
      "[INFO 04-05 13:45:01] ax.service.ax_client: Generated new trial 12 with parameters {'z_sh': 14, 'z_sh_1': 13, 'z_sh_2': 6, 'z_p2': 32, 'z_p2_1': 30, 'z_p2_2': 26, 'z_r2': 72, 'z_r2_1': 78, 'z_r2_2': 74, 'x_s': 0.047961, 'x_s_1': -0.094356, 'x_s_2': -0.414772, 'x_p1': 0.536043, 'x_p1_1': -0.47877, 'x_p1_2': -0.677587, 'x_p2': 0.461016, 'x_p2_1': 0.005817, 'x_p2_2': -0.34459, 'x_r2': 0.525173, 'x_r2_1': 0.014089, 'x_r2_2': -0.333767} using model Sobol.\n",
      "[INFO 04-05 13:45:01] ax.service.ax_client: Completed trial 12 with data: {'Viable_Cross_Terms': (8, None)}.\n"
     ]
    },
    {
     "name": "stdout",
     "output_type": "stream",
     "text": [
      "Not this time\n",
      "Not this time\n",
      "Not this time\n"
     ]
    },
    {
     "name": "stderr",
     "output_type": "stream",
     "text": [
      "[INFO 04-05 13:45:02] ax.service.ax_client: Generated new trial 13 with parameters {'z_sh': 9, 'z_sh_1': 12, 'z_sh_2': 7, 'z_p2': 32, 'z_p2_1': 33, 'z_p2_2': 25, 'z_r2': 76, 'z_r2_1': 80, 'z_r2_2': 80, 'x_s': 0.218977, 'x_s_1': -0.148968, 'x_s_2': -0.282155, 'x_p1': 0.560111, 'x_p1_1': -0.217772, 'x_p1_2': -0.784981, 'x_p2': 0.441039, 'x_p2_1': 0.273958, 'x_p2_2': -0.026227, 'x_r2': 1.029406, 'x_r2_1': -0.016937, 'x_r2_2': -1.338568} using model Sobol.\n",
      "[INFO 04-05 13:45:02] ax.service.ax_client: Completed trial 13 with data: {'Viable_Cross_Terms': (5, None)}.\n",
      "[INFO 04-05 13:45:02] ax.service.ax_client: Generated new trial 14 with parameters {'z_sh': 13, 'z_sh_1': 13, 'z_sh_2': 10, 'z_p2': 32, 'z_p2_1': 27, 'z_p2_2': 32, 'z_r2': 74, 'z_r2_1': 73, 'z_r2_2': 70, 'x_s': 0.290942, 'x_s_1': 0.098189, 'x_s_2': -0.282658, 'x_p1': 0.760193, 'x_p1_1': 0.499701, 'x_p1_2': -0.175536, 'x_p2': 0.397263, 'x_p2_1': -0.160892, 'x_p2_2': -0.354588, 'x_r2': 1.238606, 'x_r2_1': -0.508402, 'x_r2_2': -1.415763} using model Sobol.\n",
      "[INFO 04-05 13:45:02] ax.service.ax_client: Completed trial 14 with data: {'Viable_Cross_Terms': (2, None)}.\n",
      "[INFO 04-05 13:45:03] ax.service.ax_client: Generated new trial 15 with parameters {'z_sh': 12, 'z_sh_1': 7, 'z_sh_2': 11, 'z_p2': 30, 'z_p2_1': 33, 'z_p2_2': 29, 'z_r2': 81, 'z_r2_1': 80, 'z_r2_2': 71, 'x_s': 0.472882, 'x_s_1': 0.347312, 'x_s_2': -0.273999, 'x_p1': 0.008883, 'x_p1_1': -0.515197, 'x_p1_2': -0.657261, 'x_p2': 0.497016, 'x_p2_1': 0.390308, 'x_p2_2': -0.231924, 'x_r2': 0.205332, 'x_r2_1': -0.311066, 'x_r2_2': -0.460352} using model Sobol.\n",
      "[INFO 04-05 13:45:03] ax.service.ax_client: Completed trial 15 with data: {'Viable_Cross_Terms': (3, None)}.\n",
      "[INFO 04-05 13:45:03] ax.service.ax_client: Generated new trial 16 with parameters {'z_sh': 15, 'z_sh_1': 11, 'z_sh_2': 7, 'z_p2': 33, 'z_p2_1': 33, 'z_p2_2': 29, 'z_r2': 74, 'z_r2_1': 83, 'z_r2_2': 75, 'x_s': 0.329484, 'x_s_1': -0.118492, 'x_s_2': -0.337965, 'x_p1': 0.093636, 'x_p1_1': -0.314787, 'x_p1_2': -0.662842, 'x_p2': -0.055426, 'x_p2_1': -0.180858, 'x_p2_2': -0.321709, 'x_r2': 0.048985, 'x_r2_1': -0.837146, 'x_r2_2': -1.038258} using model Sobol.\n",
      "[INFO 04-05 13:45:03] ax.service.ax_client: Completed trial 16 with data: {'Viable_Cross_Terms': (10, None)}.\n"
     ]
    },
    {
     "name": "stdout",
     "output_type": "stream",
     "text": [
      "Not this time\n"
     ]
    },
    {
     "name": "stderr",
     "output_type": "stream",
     "text": [
      "[INFO 04-05 13:45:03] ax.service.ax_client: Generated new trial 17 with parameters {'z_sh': 11, 'z_sh_1': 8, 'z_sh_2': 8, 'z_p2': 35, 'z_p2_1': 32, 'z_p2_2': 31, 'z_r2': 82, 'z_r2_1': 78, 'z_r2_2': 82, 'x_s': 0.47419, 'x_s_1': 0.276188, 'x_s_2': -0.212208, 'x_p1': 0.765981, 'x_p1_1': -0.553679, 'x_p1_2': -0.916666, 'x_p2': 0.265604, 'x_p2_1': 0.009997, 'x_p2_2': -0.203623, 'x_r2': 1.303938, 'x_r2_1': 0.610993, 'x_r2_2': -0.490468} using model Sobol.\n",
      "[INFO 04-05 13:45:03] ax.service.ax_client: Completed trial 17 with data: {'Viable_Cross_Terms': (18, None)}.\n",
      "[INFO 04-05 13:45:03] ax.service.ax_client: Generated new trial 18 with parameters {'z_sh': 11, 'z_sh_1': 10, 'z_sh_2': 9, 'z_p2': 30, 'z_p2_1': 29, 'z_p2_2': 31, 'z_r2': 81, 'z_r2_1': 73, 'z_r2_2': 71, 'x_s': 0.197649, 'x_s_1': -0.253161, 'x_s_2': -0.430243, 'x_p1': 0.468718, 'x_p1_1': -0.843845, 'x_p1_2': -0.979679, 'x_p2': 0.478675, 'x_p2_1': 0.060455, 'x_p2_2': -0.270652, 'x_r2': 0.474935, 'x_r2_1': -0.510951, 'x_r2_2': -0.752519} using model Sobol.\n",
      "[INFO 04-05 13:45:04] ax.service.ax_client: Completed trial 18 with data: {'Viable_Cross_Terms': (5, None)}.\n"
     ]
    },
    {
     "name": "stdout",
     "output_type": "stream",
     "text": [
      "Not this time\n"
     ]
    },
    {
     "name": "stderr",
     "output_type": "stream",
     "text": [
      "[INFO 04-05 13:45:04] ax.service.ax_client: Generated new trial 19 with parameters {'z_sh': 12, 'z_sh_1': 11, 'z_sh_2': 5, 'z_p2': 29, 'z_p2_1': 34, 'z_p2_2': 30, 'z_r2': 77, 'z_r2_1': 75, 'z_r2_2': 75, 'x_s': 0.37142, 'x_s_1': -0.061665, 'x_s_2': -0.252487, 'x_p1': 0.633961, 'x_p1_1': -0.093441, 'x_p1_2': -0.611032, 'x_p2': 0.225951, 'x_p2_1': 0.096162, 'x_p2_2': -0.034798, 'x_r2': 1.271505, 'x_r2_1': 0.982726, 'x_r2_2': -0.788398} using model Sobol.\n",
      "[INFO 04-05 13:45:04] ax.service.ax_client: Completed trial 19 with data: {'Viable_Cross_Terms': (10, None)}.\n",
      "[INFO 04-05 13:45:04] ax.service.ax_client: Generated new trial 20 with parameters {'z_sh': 9, 'z_sh_1': 9, 'z_sh_2': 9, 'z_p2': 31, 'z_p2_1': 27, 'z_p2_2': 28, 'z_r2': 82, 'z_r2_1': 79, 'z_r2_2': 73, 'x_s': 0.120872, 'x_s_1': -0.123531, 'x_s_2': -0.238014, 'x_p1': 0.84329, 'x_p1_1': -0.139202, 'x_p1_2': -0.806879, 'x_p2': 0.28379, 'x_p2_1': -0.20373, 'x_p2_2': -0.317319, 'x_r2': -0.263311, 'x_r2_1': -0.672656, 'x_r2_2': -1.380677} using model Sobol.\n",
      "[INFO 04-05 13:45:04] ax.service.ax_client: Completed trial 20 with data: {'Viable_Cross_Terms': (4, None)}.\n"
     ]
    },
    {
     "name": "stdout",
     "output_type": "stream",
     "text": [
      "Not this time\n"
     ]
    },
    {
     "name": "stderr",
     "output_type": "stream",
     "text": [
      "[INFO 04-05 13:45:05] ax.service.ax_client: Generated new trial 21 with parameters {'z_sh': 7, 'z_sh_1': 11, 'z_sh_2': 12, 'z_p2': 30, 'z_p2_1': 33, 'z_p2_2': 27, 'z_r2': 82, 'z_r2_1': 78, 'z_r2_2': 77, 'x_s': 0.444697, 'x_s_1': 0.256994, 'x_s_2': -0.267472, 'x_p1': 0.255166, 'x_p1_1': 0.126869, 'x_p1_2': -0.492673, 'x_p2': 0.418016, 'x_p2_1': -0.138899, 'x_p2_2': -0.291162, 'x_r2': 1.153422, 'x_r2_1': 0.017355, 'x_r2_2': -1.090867} using model Sobol.\n",
      "[INFO 04-05 13:45:05] ax.service.ax_client: Completed trial 21 with data: {'Viable_Cross_Terms': (13, None)}.\n",
      "[INFO 04-05 13:45:05] ax.service.ax_client: Generated new trial 22 with parameters {'z_sh': 13, 'z_sh_1': 9, 'z_sh_2': 11, 'z_p2': 33, 'z_p2_1': 28, 'z_p2_2': 25, 'z_r2': 78, 'z_r2_1': 81, 'z_r2_2': 80, 'x_s': 0.336048, 'x_s_1': 0.017898, 'x_s_2': -0.441218, 'x_p1': 0.589633, 'x_p1_1': -0.43122, 'x_p1_2': -0.685822, 'x_p2': 0.139453, 'x_p2_1': -0.08726, 'x_p2_2': -0.440623, 'x_r2': 0.653056, 'x_r2_1': -0.352732, 'x_r2_2': -1.090172} using model Sobol.\n",
      "[INFO 04-05 13:45:05] ax.service.ax_client: Completed trial 22 with data: {'Viable_Cross_Terms': (4, None)}.\n",
      "[INFO 04-05 13:45:05] ax.service.ax_client: Generated new trial 23 with parameters {'z_sh': 15, 'z_sh_1': 8, 'z_sh_2': 9, 'z_p2': 29, 'z_p2_1': 32, 'z_p2_2': 32, 'z_r2': 83, 'z_r2_1': 84, 'z_r2_2': 70, 'x_s': 0.328734, 'x_s_1': 0.112695, 'x_s_2': -0.430968, 'x_p1': 0.806623, 'x_p1_1': 0.598915, 'x_p1_2': 0.300458, 'x_p2': 0.225079, 'x_p2_1': -0.11684, 'x_p2_2': -0.270366, 'x_r2': 1.307304, 'x_r2_1': 1.090993, 'x_r2_2': 0.853437} using model Sobol.\n",
      "[INFO 04-05 13:45:05] ax.service.ax_client: Completed trial 23 with data: {'Viable_Cross_Terms': (4, None)}.\n",
      "[INFO 04-05 13:45:05] ax.service.ax_client: Generated new trial 24 with parameters {'z_sh': 9, 'z_sh_1': 12, 'z_sh_2': 7, 'z_p2': 34, 'z_p2_1': 33, 'z_p2_2': 28, 'z_r2': 85, 'z_r2_1': 78, 'z_r2_2': 79, 'x_s': 0.302629, 'x_s_1': 0.109817, 'x_s_2': -0.41354, 'x_p1': 0.465138, 'x_p1_1': 0.049957, 'x_p1_2': -0.574587, 'x_p2': 0.102481, 'x_p2_1': -0.038154, 'x_p2_2': -0.398917, 'x_r2': 1.474444, 'x_r2_1': 0.627102, 'x_r2_2': -1.328766} using model Sobol.\n",
      "[INFO 04-05 13:45:05] ax.service.ax_client: Completed trial 24 with data: {'Viable_Cross_Terms': (3, None)}.\n",
      "[INFO 04-05 13:45:06] ax.service.ax_client: Generated new trial 25 with parameters {'z_sh': 11, 'z_sh_1': 14, 'z_sh_2': 5, 'z_p2': 31, 'z_p2_1': 33, 'z_p2_2': 25, 'z_r2': 83, 'z_r2_1': 73, 'z_r2_2': 71, 'x_s': 0.236332, 'x_s_1': -0.002358, 'x_s_2': -0.358405, 'x_p1': 0.998259, 'x_p1_1': -0.665749, 'x_p1_2': -0.90272, 'x_p2': 0.376706, 'x_p2_1': 0.00555, 'x_p2_2': -0.487177, 'x_r2': 0.844505, 'x_r2_1': 0.669682, 'x_r2_2': 0.439591} using model Sobol.\n",
      "[INFO 04-05 13:45:06] ax.service.ax_client: Completed trial 25 with data: {'Viable_Cross_Terms': (2, None)}.\n"
     ]
    },
    {
     "name": "stdout",
     "output_type": "stream",
     "text": [
      "Not this time\n"
     ]
    },
    {
     "name": "stderr",
     "output_type": "stream",
     "text": [
      "[INFO 04-05 13:45:07] ax.service.ax_client: Generated new trial 26 with parameters {'z_sh': 9, 'z_sh_1': 13, 'z_sh_2': 5, 'z_p2': 34, 'z_p2_1': 32, 'z_p2_2': 28, 'z_r2': 82, 'z_r2_1': 79, 'z_r2_2': 83, 'x_s': 0.293781, 'x_s_1': 0.19248, 'x_s_2': -0.073421, 'x_p1': 0.703659, 'x_p1_1': -0.209462, 'x_p1_2': -0.390506, 'x_p2': 0.401286, 'x_p2_1': 0.237647, 'x_p2_2': -0.256544, 'x_r2': 1.017838, 'x_r2_1': -0.296759, 'x_r2_2': -0.6136} using model Sobol.\n",
      "[INFO 04-05 13:45:07] ax.service.ax_client: Completed trial 26 with data: {'Viable_Cross_Terms': (10, None)}.\n"
     ]
    },
    {
     "name": "stdout",
     "output_type": "stream",
     "text": [
      "Not this time\n",
      "Not this time\n"
     ]
    },
    {
     "name": "stderr",
     "output_type": "stream",
     "text": [
      "[INFO 04-05 13:45:07] ax.service.ax_client: Generated new trial 27 with parameters {'z_sh': 10, 'z_sh_1': 13, 'z_sh_2': 13, 'z_p2': 28, 'z_p2_1': 28, 'z_p2_2': 25, 'z_r2': 72, 'z_r2_1': 82, 'z_r2_2': 75, 'x_s': 0.388592, 'x_s_1': 0.20755, 'x_s_2': -0.070271, 'x_p1': 0.91825, 'x_p1_1': 0.284812, 'x_p1_2': -0.576528, 'x_p2': 0.432195, 'x_p2_1': 0.312839, 'x_p2_2': -0.491738, 'x_r2': 1.474843, 'x_r2_1': 0.481756, 'x_r2_2': 0.123602} using model Sobol.\n",
      "[INFO 04-05 13:45:07] ax.service.ax_client: Completed trial 27 with data: {'Viable_Cross_Terms': (3, None)}.\n",
      "[INFO 04-05 13:45:07] ax.service.ax_client: Generated new trial 28 with parameters {'z_sh': 9, 'z_sh_1': 9, 'z_sh_2': 13, 'z_p2': 28, 'z_p2_1': 27, 'z_p2_2': 32, 'z_r2': 81, 'z_r2_1': 76, 'z_r2_2': 73, 'x_s': 0.423069, 'x_s_1': 0.228337, 'x_s_2': -0.193176, 'x_p1': 0.845889, 'x_p1_1': 0.283894, 'x_p1_2': -0.47384, 'x_p2': 0.388599, 'x_p2_1': 0.099752, 'x_p2_2': -0.425111, 'x_r2': -0.19002, 'x_r2_1': -0.65182, 'x_r2_2': -1.240542} using model Sobol.\n",
      "[INFO 04-05 13:45:07] ax.service.ax_client: Completed trial 28 with data: {'Viable_Cross_Terms': (4, None)}.\n"
     ]
    },
    {
     "name": "stdout",
     "output_type": "stream",
     "text": [
      "Not this time\n"
     ]
    },
    {
     "name": "stderr",
     "output_type": "stream",
     "text": [
      "[INFO 04-05 13:45:08] ax.service.ax_client: Generated new trial 29 with parameters {'z_sh': 9, 'z_sh_1': 12, 'z_sh_2': 7, 'z_p2': 35, 'z_p2_1': 28, 'z_p2_2': 25, 'z_r2': 78, 'z_r2_1': 74, 'z_r2_2': 82, 'x_s': 0.247403, 'x_s_1': -0.261492, 'x_s_2': -0.491383, 'x_p1': 0.616983, 'x_p1_1': 0.191381, 'x_p1_2': -0.314586, 'x_p2': 0.314864, 'x_p2_1': -0.068009, 'x_p2_2': -0.46181, 'x_r2': 0.599367, 'x_r2_1': -1.050551, 'x_r2_2': -1.224279} using model Sobol.\n",
      "[INFO 04-05 13:45:08] ax.service.ax_client: Completed trial 29 with data: {'Viable_Cross_Terms': (2, None)}.\n",
      "[INFO 04-05 13:45:08] ax.service.ax_client: Generated new trial 30 with parameters {'z_sh': 15, 'z_sh_1': 8, 'z_sh_2': 6, 'z_p2': 27, 'z_p2_1': 33, 'z_p2_2': 27, 'z_r2': 82, 'z_r2_1': 71, 'z_r2_2': 71, 'x_s': 0.112009, 'x_s_1': -0.014359, 'x_s_2': -0.309921, 'x_p1': 0.220551, 'x_p1_1': -0.48803, 'x_p1_2': -0.616438, 'x_p2': 0.028764, 'x_p2_1': -0.13506, 'x_p2_2': -0.312558, 'x_r2': 1.216502, 'x_r2_1': 0.803899, 'x_r2_2': -1.223584} using model Sobol.\n",
      "[INFO 04-05 13:45:08] ax.service.ax_client: Completed trial 30 with data: {'Viable_Cross_Terms': (3, None)}.\n"
     ]
    },
    {
     "name": "stdout",
     "output_type": "stream",
     "text": [
      "Not this time\n"
     ]
    },
    {
     "name": "stderr",
     "output_type": "stream",
     "text": [
      "[INFO 04-05 13:45:08] ax.service.ax_client: Generated new trial 31 with parameters {'z_sh': 11, 'z_sh_1': 9, 'z_sh_2': 11, 'z_p2': 28, 'z_p2_1': 34, 'z_p2_2': 25, 'z_r2': 77, 'z_r2_1': 80, 'z_r2_2': 75, 'x_s': 0.304189, 'x_s_1': 0.147881, 'x_s_2': -0.2788, 'x_p1': 0.919202, 'x_p1_1': 0.609352, 'x_p1_2': -0.109904, 'x_p2': 0.356424, 'x_p2_1': -0.081116, 'x_p2_2': -0.439565, 'x_r2': -0.149384, 'x_r2_1': -0.615048, 'x_r2_2': -1.394528} using model Sobol.\n",
      "[INFO 04-05 13:45:08] ax.service.ax_client: Completed trial 31 with data: {'Viable_Cross_Terms': (4, None)}.\n",
      "[INFO 04-05 13:45:09] ax.service.ax_client: Generated new trial 32 with parameters {'z_sh': 7, 'z_sh_1': 7, 'z_sh_2': 10, 'z_p2': 29, 'z_p2_1': 29, 'z_p2_2': 26, 'z_r2': 76, 'z_r2_1': 77, 'z_r2_2': 74, 'x_s': 0.494681, 'x_s_1': -0.001794, 'x_s_2': -0.198794, 'x_p1': 0.520821, 'x_p1_1': -0.527788, 'x_p1_2': -0.843626, 'x_p2': 0.122679, 'x_p2_1': -0.179833, 'x_p2_2': -0.330934, 'x_r2': 1.226565, 'x_r2_1': 0.2284, 'x_r2_2': -1.495501} using model Sobol.\n",
      "[INFO 04-05 13:45:09] ax.service.ax_client: Completed trial 32 with data: {'Viable_Cross_Terms': (4, None)}.\n",
      "[INFO 04-05 13:45:09] ax.service.ax_client: Generated new trial 33 with parameters {'z_sh': 11, 'z_sh_1': 8, 'z_sh_2': 11, 'z_p2': 30, 'z_p2_1': 30, 'z_p2_2': 27, 'z_r2': 73, 'z_r2_1': 80, 'z_r2_2': 84, 'x_s': 0.357142, 'x_s_1': 0.099702, 'x_s_2': -0.133521, 'x_p1': 0.482712, 'x_p1_1': 0.056779, 'x_p1_2': -0.992828, 'x_p2': 0.45296, 'x_p2_1': 0.313596, 'x_p2_2': -0.45601, 'x_r2': 0.717649, 'x_r2_1': 0.548131, 'x_r2_2': -0.579734} using model Sobol.\n",
      "[INFO 04-05 13:45:09] ax.service.ax_client: Completed trial 33 with data: {'Viable_Cross_Terms': (13, None)}.\n"
     ]
    },
    {
     "name": "stdout",
     "output_type": "stream",
     "text": [
      "Not this time\n"
     ]
    },
    {
     "name": "stderr",
     "output_type": "stream",
     "text": [
      "[INFO 04-05 13:45:09] ax.service.ax_client: Generated new trial 34 with parameters {'z_sh': 12, 'z_sh_1': 7, 'z_sh_2': 10, 'z_p2': 29, 'z_p2_1': 32, 'z_p2_2': 31, 'z_r2': 82, 'z_r2_1': 85, 'z_r2_2': 77, 'x_s': 0.468549, 'x_s_1': -0.143975, 'x_s_2': -0.334931, 'x_p1': 0.564765, 'x_p1_1': 0.24362, 'x_p1_2': -0.200269, 'x_p2': 0.422512, 'x_p2_1': 0.147548, 'x_p2_2': -0.494425, 'x_r2': -0.141912, 'x_r2_1': -0.355214, 'x_r2_2': -0.638365} using model Sobol.\n",
      "[INFO 04-05 13:45:09] ax.service.ax_client: Completed trial 34 with data: {'Viable_Cross_Terms': (16, None)}.\n",
      "[INFO 04-05 13:45:10] ax.service.ax_client: Generated new trial 35 with parameters {'z_sh': 12, 'z_sh_1': 8, 'z_sh_2': 5, 'z_p2': 35, 'z_p2_1': 31, 'z_p2_2': 25, 'z_r2': 78, 'z_r2_1': 71, 'z_r2_2': 81, 'x_s': 0.195113, 'x_s_1': -0.281582, 'x_s_2': -0.445514, 'x_p1': 0.722113, 'x_p1_1': 0.170112, 'x_p1_2': 0.038937, 'x_p2': 0.481426, 'x_p2_1': 0.251735, 'x_p2_2': -0.172327, 'x_r2': 0.818466, 'x_r2_1': -1.282179, 'x_r2_2': -1.445657} using model Sobol.\n",
      "[INFO 04-05 13:45:10] ax.service.ax_client: Completed trial 35 with data: {'Viable_Cross_Terms': (23, None)}.\n",
      "[INFO 04-05 13:45:10] ax.service.ax_client: Generated new trial 36 with parameters {'z_sh': 11, 'z_sh_1': 14, 'z_sh_2': 5, 'z_p2': 35, 'z_p2_1': 26, 'z_p2_2': 32, 'z_r2': 77, 'z_r2_1': 80, 'z_r2_2': 83, 'x_s': 0.462917, 'x_s_1': -0.043789, 'x_s_2': -0.280855, 'x_p1': 0.474284, 'x_p1_1': 0.153125, 'x_p1_2': -0.262139, 'x_p2': 0.21384, 'x_p2_1': 0.031316, 'x_p2_2': -0.163895, 'x_r2': 1.192276, 'x_r2_1': 0.449605, 'x_r2_2': -0.126463} using model Sobol.\n",
      "[INFO 04-05 13:45:10] ax.service.ax_client: Completed trial 36 with data: {'Viable_Cross_Terms': (15, None)}.\n",
      "[INFO 04-05 13:45:10] ax.service.ax_client: Generated new trial 37 with parameters {'z_sh': 15, 'z_sh_1': 7, 'z_sh_2': 12, 'z_p2': 30, 'z_p2_1': 27, 'z_p2_2': 28, 'z_r2': 76, 'z_r2_1': 81, 'z_r2_2': 71, 'x_s': 0.399796, 'x_s_1': 0.138838, 'x_s_2': -0.067172, 'x_p1': 0.491378, 'x_p1_1': 0.298547, 'x_p1_2': -0.60899, 'x_p2': 0.465521, 'x_p2_1': 0.091849, 'x_p2_2': -0.162532, 'x_r2': 0.837645, 'x_r2_1': -0.551105, 'x_r2_2': -1.04602} using model Sobol.\n",
      "[INFO 04-05 13:45:10] ax.service.ax_client: Completed trial 37 with data: {'Viable_Cross_Terms': (9, None)}.\n",
      "[INFO 04-05 13:45:11] ax.service.ax_client: Generated new trial 38 with parameters {'z_sh': 7, 'z_sh_1': 14, 'z_sh_2': 8, 'z_p2': 28, 'z_p2_1': 31, 'z_p2_2': 25, 'z_r2': 84, 'z_r2_1': 77, 'z_r2_2': 71, 'x_s': 0.486748, 'x_s_1': 0.230759, 'x_s_2': -0.098531, 'x_p1': 0.613916, 'x_p1_1': -0.179248, 'x_p1_2': -0.651463, 'x_p2': 0.312515, 'x_p2_1': 0.033528, 'x_p2_2': -0.202324, 'x_r2': 0.171988, 'x_r2_1': 0.055551, 'x_r2_2': -1.366187} using model Sobol.\n",
      "[INFO 04-05 13:45:11] ax.service.ax_client: Completed trial 38 with data: {'Viable_Cross_Terms': (12, None)}.\n",
      "[INFO 04-05 13:45:11] ax.service.ax_client: Generated new trial 39 with parameters {'z_sh': 7, 'z_sh_1': 8, 'z_sh_2': 9, 'z_p2': 32, 'z_p2_1': 28, 'z_p2_2': 25, 'z_r2': 85, 'z_r2_1': 72, 'z_r2_2': 84, 'x_s': 0.212122, 'x_s_1': -0.207733, 'x_s_2': -0.309388, 'x_p1': 0.171631, 'x_p1_1': -0.476652, 'x_p1_2': -0.710236, 'x_p2': 0.468162, 'x_p2_1': 0.021358, 'x_p2_2': -0.27318, 'x_r2': 0.8155, 'x_r2_1': -0.318551, 'x_r2_2': -1.151427} using model Sobol.\n",
      "[INFO 04-05 13:45:11] ax.service.ax_client: Completed trial 39 with data: {'Viable_Cross_Terms': (4, None)}.\n"
     ]
    },
    {
     "name": "stdout",
     "output_type": "stream",
     "text": [
      "Not this time\n"
     ]
    },
    {
     "name": "stderr",
     "output_type": "stream",
     "text": [
      "[INFO 04-05 13:45:11] ax.service.ax_client: Generated new trial 40 with parameters {'z_sh': 8, 'z_sh_1': 13, 'z_sh_2': 9, 'z_p2': 30, 'z_p2_1': 27, 'z_p2_2': 33, 'z_r2': 72, 'z_r2_1': 76, 'z_r2_2': 73, 'x_s': 0.29969, 'x_s_1': -0.325354, 'x_s_2': -0.426923, 'x_p1': 0.206654, 'x_p1_1': 0.045408, 'x_p1_2': -0.6756, 'x_p2': 0.28375, 'x_p2_1': 0.143823, 'x_p2_2': -0.028566, 'x_r2': 1.434858, 'x_r2_1': 0.212313, 'x_r2_2': -0.470594} using model Sobol.\n",
      "[INFO 04-05 13:45:11] ax.service.ax_client: Completed trial 40 with data: {'Viable_Cross_Terms': (15, None)}.\n",
      "[INFO 04-05 13:45:11] ax.service.ax_client: Generated new trial 41 with parameters {'z_sh': 10, 'z_sh_1': 8, 'z_sh_2': 8, 'z_p2': 28, 'z_p2_1': 30, 'z_p2_2': 27, 'z_r2': 75, 'z_r2_1': 75, 'z_r2_2': 74, 'x_s': 0.434139, 'x_s_1': 0.156853, 'x_s_2': 0.017333, 'x_p1': 0.767957, 'x_p1_1': 0.233234, 'x_p1_2': -0.417394, 'x_p2': 0.477265, 'x_p2_1': 0.258775, 'x_p2_2': 0.156054, 'x_r2': 0.786017, 'x_r2_1': -0.884349, 'x_r2_2': -1.143639} using model Sobol.\n",
      "[INFO 04-05 13:45:11] ax.service.ax_client: Completed trial 41 with data: {'Viable_Cross_Terms': (5, None)}.\n",
      "[INFO 04-05 13:45:48] ax.service.ax_client: Generated new trial 42 with parameters {'z_sh': 13, 'z_sh_1': 8, 'z_sh_2': 5, 'z_p2': 35, 'z_p2_1': 31, 'z_p2_2': 25, 'z_r2': 76, 'z_r2_1': 73, 'z_r2_2': 78, 'x_s': 0.230021, 'x_s_1': -0.340782, 'x_s_2': -0.451667, 'x_p1': 0.556322, 'x_p1_1': 0.134683, 'x_p1_2': -0.008124, 'x_p2': 0.491946, 'x_p2_1': 0.307941, 'x_p2_2': -0.136811, 'x_r2': 0.809477, 'x_r2_1': -1.230596, 'x_r2_2': -1.5} using model BoTorch.\n",
      "[INFO 04-05 13:45:48] ax.service.ax_client: Completed trial 42 with data: {'Viable_Cross_Terms': (26, None)}.\n"
     ]
    }
   ],
   "source": [
    "init_count = 0\n",
    "while init_count < 42:\n",
    "    try:\n",
    "        parameterization, trial_index = Tag_client.get_next_trial()\n",
    "        # Local evaluation here can be replaced with deployment to external system.\n",
    "        Tag_client.complete_trial(trial_index=trial_index, raw_data=score_vals(param_to_list(parameterization)))\n",
    "    except:\n",
    "        print('Not this time')\n",
    "    init_count = trial_index"
   ]
  },
  {
   "cell_type": "code",
   "execution_count": 15,
   "metadata": {},
   "outputs": [],
   "source": [
    "import importlib\n",
    "%load_ext autoreload"
   ]
  },
  {
   "cell_type": "code",
   "execution_count": 16,
   "metadata": {},
   "outputs": [],
   "source": [
    "%autoreload 2\n",
    "from utils import list_to_param"
   ]
  },
  {
   "cell_type": "code",
   "execution_count": 17,
   "metadata": {},
   "outputs": [
    {
     "name": "stderr",
     "output_type": "stream",
     "text": [
      "[INFO 04-05 13:45:48] ax.core.experiment: Attached custom parameterizations [{'z_sh': 10, 'z_sh_1': 8, 'z_sh_2': 6, 'z_p2': 32, 'z_p2_1': 31, 'z_p2_2': 30, 'z_r2': 80, 'z_r2_1': 78, 'z_r2_2': 77, 'x_s': 0.5, 'x_s_1': 0.4, 'x_s_2': 0.3, 'x_p1': 0.8, 'x_p1_1': 0.7, 'x_p1_2': 0.6, 'x_p2': 0.4, 'x_p2_1': 0.3, 'x_p2_2': 0.2, 'x_r2': 1.2, 'x_r2_1': 1.0, 'x_r2_2': 0.8}] as trial 43.\n"
     ]
    },
    {
     "name": "stderr",
     "output_type": "stream",
     "text": [
      "[INFO 04-05 13:45:48] ax.service.ax_client: Completed trial 43 with data: {'Viable_Cross_Terms': (30, None)}.\n"
     ]
    }
   ],
   "source": [
    "z_sh = np.array([10, 8, 6])\n",
    "z_p1 = np.array([42, 40, 41])\n",
    "z_p2 = np.array([32, 31, 30])\n",
    "z_r2 = np.array([80, 78, 77])\n",
    "x_s = np.array([0.5, 0.4, 0.3])\n",
    "x_p1 = np.array([0.8, 0.7, 0.6])\n",
    "x_p2 = np.array([0.4, 0.3, 0.2])\n",
    "x_r2 = np.array([1.2, 1.0, 0.8])\n",
    "\n",
    "Yi_vals = [z_sh, z_p2, z_r2, x_s, x_p1, x_p2, x_r2] #list of arrays\n",
    "Yi_list = list_to_param(Yi_vals)\n",
    "\n",
    "trial_deal = Tag_client.attach_trial(\n",
    "        parameters=Yi_list\n",
    "    )\n",
    "Tag_client.complete_trial(trial_index=trial_deal[-1], raw_data=score_vals(param_to_list(Yi_list)))"
   ]
  },
  {
   "cell_type": "code",
   "execution_count": 37,
   "metadata": {},
   "outputs": [
    {
     "name": "stderr",
     "output_type": "stream",
     "text": [
      "[INFO 04-05 19:23:12] ax.core.experiment: Attached custom parameterizations [{'z_sh': 7, 'z_sh_1': 6, 'z_sh_2': 5, 'z_p2': 27, 'z_p2_1': 30, 'z_p2_2': 31, 'z_r2': 77, 'z_r2_1': 78, 'z_r2_2': 80, 'x_s': 0.5, 'x_s_1': 0.4, 'x_s_2': 0.3, 'x_p1': 0.8, 'x_p1_1': 0.7, 'x_p1_2': 0.6, 'x_p2': 0.4, 'x_p2_1': 0.3, 'x_p2_2': 0.2, 'x_r2': 1.0, 'x_r2_1': 0.9, 'x_r2_2': 0.8}] as trial 632.\n",
      "[INFO 04-05 19:23:12] ax.service.ax_client: Completed trial 632 with data: {'Viable_Cross_Terms': (79, None)}.\n"
     ]
    }
   ],
   "source": [
    "best_so_far =  {'z_sh': 8, 'z_sh_1': 6, 'z_sh_2': 5, 'z_p2': 29, 'z_p2_1': 27, 'z_p2_2': 31, 'z_r2': 80, 'z_r2_1': 72, 'z_r2_2': 71, 'x_s': 0.5, 'x_s_1': 0.4, 'x_s_2': 0.3, 'x_p1': 0.635967, 'x_p1_1': 0.535967, 'x_p1_2': 0.435967, 'x_p2': 0.5, 'x_p2_1': 0.4, 'x_p2_2': 0.3, 'x_r2': 1.072711, 'x_r2_1': 0.972711, 'x_r2_2': 0.872711}\n",
    "b_guess = {'z_sh': 8, 'z_sh_1': 6, 'z_sh_2': 5, 'z_p2': 29, 'z_p2_1': 27, 'z_p2_2': 31, 'z_r2': 80, 'z_r2_1': 72, 'z_r2_2': 71, 'x_s': 0.5, 'x_s_1': 0.4, 'x_s_2': 0.3, 'x_p1': 0.636, 'x_p1_1': 0.536, 'x_p1_2': 0.436, 'x_p2': 0.5, 'x_p2_1': 0.4, 'x_p2_2': 0.3, 'x_r2': 1.073, 'x_r2_1': 0.973, 'x_r2_2': 0.873}\n",
    "c_guess = {'z_sh': 7, 'z_sh_1': 8, 'z_sh_2': 5, 'z_p2': 33, 'z_p2_1': 31, 'z_p2_2': 28, 'z_r2': 80, 'z_r2_1': 73, 'z_r2_2': 82, 'x_s': 0.5, 'x_s_1': 0.4, 'x_s_2': 0.3, 'x_p1': 0.649934, 'x_p1_1': 0.549934, 'x_p1_2': 0.449934, 'x_p2': 0.452019, 'x_p2_1': 0.352019, 'x_p2_2': 0.252019, 'x_r2': 1.068522, 'x_r2_1': 0.968522, 'x_r2_2': 0.868522}\n",
    "d_guess = {'z_sh': 7, 'z_sh_1': 8, 'z_sh_2': 5, 'z_p2': 32, 'z_p2_1': 31, 'z_p2_2': 25, 'z_r2': 80, 'z_r2_1': 82, 'z_r2_2': 81, 'x_s': 0.5, 'x_s_1': 0.4, 'x_s_2': 0.3, 'x_p1': 0.618688, 'x_p1_1': 0.518688, 'x_p1_2': 0.418688, 'x_p2': 0.475209, 'x_p2_1': 0.375209, 'x_p2_2': 0.275209, 'x_r2': 1.070261, 'x_r2_1': 0.970261, 'x_r2_2': 0.870261}\n",
    "new_guess = list_to_param((np.array((14, 12, 10))/2,\n",
    " (27, 30, 31),\n",
    " (77, 78, 80),\n",
    " (0.3, 0.4, 0.5)[::-1],\n",
    " (0.6, 0.7, 0.8)[::-1],\n",
    " (0.2, 0.3, 0.4)[::-1],\n",
    " (0.8, 0.9, 1)[::-1]))\n",
    "\n",
    "trial_deal = Tag_client.attach_trial(\n",
    "        parameters=new_guess\n",
    "    )\n",
    "\n",
    "Tag_client.complete_trial(trial_index=trial_deal[-1], raw_data=score_vals(param_to_list(new_guess)))"
   ]
  },
  {
   "cell_type": "code",
   "execution_count": 19,
   "metadata": {},
   "outputs": [
    {
     "name": "stderr",
     "output_type": "stream",
     "text": [
      "[INFO 04-05 13:45:48] ax.core.experiment: Attached custom parameterizations [{'z_sh': 8, 'z_sh_1': 6, 'z_sh_2': 5, 'z_p2': 29, 'z_p2_1': 27, 'z_p2_2': 31, 'z_r2': 80, 'z_r2_1': 72, 'z_r2_2': 71, 'x_s': 0.5, 'x_s_1': 0.4, 'x_s_2': 0.3, 'x_p1': 0.635967, 'x_p1_1': 0.535967, 'x_p1_2': 0.435967, 'x_p2': 0.5, 'x_p2_1': 0.4, 'x_p2_2': 0.3, 'x_r2': 1.072711, 'x_r2_1': 0.972711, 'x_r2_2': 0.872711}] as trial 45.\n",
      "[INFO 04-05 13:45:48] ax.service.ax_client: Completed trial 45 with data: {'Viable_Cross_Terms': (90, None)}.\n",
      "[INFO 04-05 13:45:48] ax.core.experiment: Attached custom parameterizations [{'z_sh': 8, 'z_sh_1': 6, 'z_sh_2': 5, 'z_p2': 29, 'z_p2_1': 27, 'z_p2_2': 31, 'z_r2': 80, 'z_r2_1': 72, 'z_r2_2': 71, 'x_s': 0.5, 'x_s_1': 0.4, 'x_s_2': 0.3, 'x_p1': 0.636, 'x_p1_1': 0.536, 'x_p1_2': 0.436, 'x_p2': 0.5, 'x_p2_1': 0.4, 'x_p2_2': 0.3, 'x_r2': 1.073, 'x_r2_1': 0.973, 'x_r2_2': 0.873}] as trial 46.\n"
     ]
    },
    {
     "name": "stderr",
     "output_type": "stream",
     "text": [
      "[INFO 04-05 13:45:48] ax.service.ax_client: Completed trial 46 with data: {'Viable_Cross_Terms': (90, None)}.\n"
     ]
    }
   ],
   "source": [
    "trial_deal = Tag_client.attach_trial(\n",
    "        parameters=best_so_far\n",
    "    )\n",
    "\n",
    "Tag_client.complete_trial(trial_index=trial_deal[-1], raw_data=score_vals(param_to_list(best_so_far)))\n",
    "\n",
    "trial_deal = Tag_client.attach_trial(\n",
    "        parameters=b_guess\n",
    "    )\n",
    "\n",
    "Tag_client.complete_trial(trial_index=trial_deal[-1], raw_data=score_vals(param_to_list(b_guess)))\n",
    "\n",
    "trial_deal = Tag_client.attach_trial(\n",
    "        parameters=c_guess\n",
    "    )\n",
    "\n",
    "Tag_client.complete_trial(trial_index=trial_deal[-1], raw_data=score_vals(param_to_list(c_guess)))"
   ]
  },
  {
   "cell_type": "code",
   "execution_count": 20,
   "metadata": {},
   "outputs": [
    {
     "data": {
      "text/html": [
       "<div>\n",
       "<style scoped>\n",
       "    .dataframe tbody tr th:only-of-type {\n",
       "        vertical-align: middle;\n",
       "    }\n",
       "\n",
       "    .dataframe tbody tr th {\n",
       "        vertical-align: top;\n",
       "    }\n",
       "\n",
       "    .dataframe thead th {\n",
       "        text-align: right;\n",
       "    }\n",
       "</style>\n",
       "<table border=\"1\" class=\"dataframe\">\n",
       "  <thead>\n",
       "    <tr style=\"text-align: right;\">\n",
       "      <th></th>\n",
       "      <th>trial_index</th>\n",
       "      <th>arm_name</th>\n",
       "      <th>trial_status</th>\n",
       "      <th>generation_method</th>\n",
       "      <th>generation_node</th>\n",
       "      <th>Viable_Cross_Terms</th>\n",
       "      <th>z_sh</th>\n",
       "      <th>z_sh_1</th>\n",
       "      <th>z_sh_2</th>\n",
       "      <th>z_p2</th>\n",
       "      <th>...</th>\n",
       "      <th>x_s_2</th>\n",
       "      <th>x_p1</th>\n",
       "      <th>x_p1_1</th>\n",
       "      <th>x_p1_2</th>\n",
       "      <th>x_p2</th>\n",
       "      <th>x_p2_1</th>\n",
       "      <th>x_p2_2</th>\n",
       "      <th>x_r2</th>\n",
       "      <th>x_r2_1</th>\n",
       "      <th>x_r2_2</th>\n",
       "    </tr>\n",
       "  </thead>\n",
       "  <tbody>\n",
       "    <tr>\n",
       "      <th>0</th>\n",
       "      <td>0</td>\n",
       "      <td>0_0</td>\n",
       "      <td>COMPLETED</td>\n",
       "      <td>Sobol</td>\n",
       "      <td>GenerationStep_0</td>\n",
       "      <td>5.0</td>\n",
       "      <td>12</td>\n",
       "      <td>13</td>\n",
       "      <td>13</td>\n",
       "      <td>30</td>\n",
       "      <td>...</td>\n",
       "      <td>-0.039872</td>\n",
       "      <td>0.860567</td>\n",
       "      <td>0.054660</td>\n",
       "      <td>-0.905615</td>\n",
       "      <td>0.445594</td>\n",
       "      <td>0.329129</td>\n",
       "      <td>-0.405654</td>\n",
       "      <td>1.007899</td>\n",
       "      <td>-0.622691</td>\n",
       "      <td>-0.861944</td>\n",
       "    </tr>\n",
       "    <tr>\n",
       "      <th>1</th>\n",
       "      <td>1</td>\n",
       "      <td>1_0</td>\n",
       "      <td>COMPLETED</td>\n",
       "      <td>Sobol</td>\n",
       "      <td>GenerationStep_0</td>\n",
       "      <td>16.0</td>\n",
       "      <td>9</td>\n",
       "      <td>12</td>\n",
       "      <td>6</td>\n",
       "      <td>28</td>\n",
       "      <td>...</td>\n",
       "      <td>0.061762</td>\n",
       "      <td>0.280179</td>\n",
       "      <td>-0.216793</td>\n",
       "      <td>-0.674284</td>\n",
       "      <td>0.482764</td>\n",
       "      <td>0.303063</td>\n",
       "      <td>-0.240026</td>\n",
       "      <td>1.027452</td>\n",
       "      <td>-0.226139</td>\n",
       "      <td>-0.731557</td>\n",
       "    </tr>\n",
       "    <tr>\n",
       "      <th>2</th>\n",
       "      <td>2</td>\n",
       "      <td>2_0</td>\n",
       "      <td>COMPLETED</td>\n",
       "      <td>Sobol</td>\n",
       "      <td>GenerationStep_0</td>\n",
       "      <td>12.0</td>\n",
       "      <td>14</td>\n",
       "      <td>14</td>\n",
       "      <td>10</td>\n",
       "      <td>28</td>\n",
       "      <td>...</td>\n",
       "      <td>-0.492182</td>\n",
       "      <td>0.533445</td>\n",
       "      <td>0.067106</td>\n",
       "      <td>-0.092637</td>\n",
       "      <td>0.318919</td>\n",
       "      <td>-0.178784</td>\n",
       "      <td>-0.420800</td>\n",
       "      <td>0.499900</td>\n",
       "      <td>0.174703</td>\n",
       "      <td>-0.101379</td>\n",
       "    </tr>\n",
       "    <tr>\n",
       "      <th>3</th>\n",
       "      <td>3</td>\n",
       "      <td>3_0</td>\n",
       "      <td>COMPLETED</td>\n",
       "      <td>Sobol</td>\n",
       "      <td>GenerationStep_0</td>\n",
       "      <td>20.0</td>\n",
       "      <td>14</td>\n",
       "      <td>9</td>\n",
       "      <td>7</td>\n",
       "      <td>31</td>\n",
       "      <td>...</td>\n",
       "      <td>-0.387237</td>\n",
       "      <td>0.271144</td>\n",
       "      <td>-0.010371</td>\n",
       "      <td>-0.357360</td>\n",
       "      <td>0.408685</td>\n",
       "      <td>0.247238</td>\n",
       "      <td>-0.078927</td>\n",
       "      <td>1.035394</td>\n",
       "      <td>-0.490845</td>\n",
       "      <td>-1.496787</td>\n",
       "    </tr>\n",
       "    <tr>\n",
       "      <th>4</th>\n",
       "      <td>4</td>\n",
       "      <td>4_0</td>\n",
       "      <td>COMPLETED</td>\n",
       "      <td>Sobol</td>\n",
       "      <td>GenerationStep_0</td>\n",
       "      <td>7.0</td>\n",
       "      <td>8</td>\n",
       "      <td>14</td>\n",
       "      <td>6</td>\n",
       "      <td>29</td>\n",
       "      <td>...</td>\n",
       "      <td>0.056943</td>\n",
       "      <td>0.874702</td>\n",
       "      <td>0.114893</td>\n",
       "      <td>-0.669673</td>\n",
       "      <td>0.148211</td>\n",
       "      <td>0.013402</td>\n",
       "      <td>-0.094170</td>\n",
       "      <td>0.051563</td>\n",
       "      <td>-0.066229</td>\n",
       "      <td>-0.587413</td>\n",
       "    </tr>\n",
       "    <tr>\n",
       "      <th>5</th>\n",
       "      <td>5</td>\n",
       "      <td>5_0</td>\n",
       "      <td>COMPLETED</td>\n",
       "      <td>Sobol</td>\n",
       "      <td>GenerationStep_0</td>\n",
       "      <td>15.0</td>\n",
       "      <td>7</td>\n",
       "      <td>12</td>\n",
       "      <td>7</td>\n",
       "      <td>33</td>\n",
       "      <td>...</td>\n",
       "      <td>-0.172550</td>\n",
       "      <td>0.785026</td>\n",
       "      <td>0.661065</td>\n",
       "      <td>0.051970</td>\n",
       "      <td>0.247682</td>\n",
       "      <td>0.080662</td>\n",
       "      <td>-0.165178</td>\n",
       "      <td>0.341651</td>\n",
       "      <td>0.134080</td>\n",
       "      <td>-0.271007</td>\n",
       "    </tr>\n",
       "    <tr>\n",
       "      <th>6</th>\n",
       "      <td>6</td>\n",
       "      <td>6_0</td>\n",
       "      <td>COMPLETED</td>\n",
       "      <td>Sobol</td>\n",
       "      <td>GenerationStep_0</td>\n",
       "      <td>5.0</td>\n",
       "      <td>7</td>\n",
       "      <td>12</td>\n",
       "      <td>11</td>\n",
       "      <td>30</td>\n",
       "      <td>...</td>\n",
       "      <td>-0.354004</td>\n",
       "      <td>0.514511</td>\n",
       "      <td>-0.268157</td>\n",
       "      <td>-0.642010</td>\n",
       "      <td>0.415432</td>\n",
       "      <td>-0.214854</td>\n",
       "      <td>-0.431319</td>\n",
       "      <td>-0.580071</td>\n",
       "      <td>-0.950087</td>\n",
       "      <td>-1.181672</td>\n",
       "    </tr>\n",
       "    <tr>\n",
       "      <th>7</th>\n",
       "      <td>7</td>\n",
       "      <td>7_0</td>\n",
       "      <td>COMPLETED</td>\n",
       "      <td>Sobol</td>\n",
       "      <td>GenerationStep_0</td>\n",
       "      <td>11.0</td>\n",
       "      <td>12</td>\n",
       "      <td>6</td>\n",
       "      <td>8</td>\n",
       "      <td>35</td>\n",
       "      <td>...</td>\n",
       "      <td>-0.382414</td>\n",
       "      <td>0.852140</td>\n",
       "      <td>0.151129</td>\n",
       "      <td>-0.352273</td>\n",
       "      <td>0.221513</td>\n",
       "      <td>0.046887</td>\n",
       "      <td>-0.239381</td>\n",
       "      <td>0.160039</td>\n",
       "      <td>-0.709710</td>\n",
       "      <td>-1.358825</td>\n",
       "    </tr>\n",
       "    <tr>\n",
       "      <th>8</th>\n",
       "      <td>8</td>\n",
       "      <td>8_0</td>\n",
       "      <td>COMPLETED</td>\n",
       "      <td>Sobol</td>\n",
       "      <td>GenerationStep_0</td>\n",
       "      <td>6.0</td>\n",
       "      <td>11</td>\n",
       "      <td>7</td>\n",
       "      <td>11</td>\n",
       "      <td>31</td>\n",
       "      <td>...</td>\n",
       "      <td>-0.468167</td>\n",
       "      <td>0.352667</td>\n",
       "      <td>0.021823</td>\n",
       "      <td>-0.496864</td>\n",
       "      <td>0.095443</td>\n",
       "      <td>-0.056417</td>\n",
       "      <td>-0.237519</td>\n",
       "      <td>0.375028</td>\n",
       "      <td>-1.225837</td>\n",
       "      <td>-1.444941</td>\n",
       "    </tr>\n",
       "    <tr>\n",
       "      <th>9</th>\n",
       "      <td>9</td>\n",
       "      <td>9_0</td>\n",
       "      <td>COMPLETED</td>\n",
       "      <td>Sobol</td>\n",
       "      <td>GenerationStep_0</td>\n",
       "      <td>11.0</td>\n",
       "      <td>13</td>\n",
       "      <td>9</td>\n",
       "      <td>9</td>\n",
       "      <td>30</td>\n",
       "      <td>...</td>\n",
       "      <td>-0.076067</td>\n",
       "      <td>-0.319844</td>\n",
       "      <td>-0.573911</td>\n",
       "      <td>-0.965283</td>\n",
       "      <td>0.128872</td>\n",
       "      <td>-0.025865</td>\n",
       "      <td>-0.433866</td>\n",
       "      <td>0.907326</td>\n",
       "      <td>0.662571</td>\n",
       "      <td>-1.392847</td>\n",
       "    </tr>\n",
       "    <tr>\n",
       "      <th>10</th>\n",
       "      <td>10</td>\n",
       "      <td>10_0</td>\n",
       "      <td>COMPLETED</td>\n",
       "      <td>Sobol</td>\n",
       "      <td>GenerationStep_0</td>\n",
       "      <td>11.0</td>\n",
       "      <td>8</td>\n",
       "      <td>12</td>\n",
       "      <td>11</td>\n",
       "      <td>32</td>\n",
       "      <td>...</td>\n",
       "      <td>-0.324683</td>\n",
       "      <td>0.587614</td>\n",
       "      <td>0.244995</td>\n",
       "      <td>-0.923892</td>\n",
       "      <td>0.067149</td>\n",
       "      <td>-0.037220</td>\n",
       "      <td>-0.183502</td>\n",
       "      <td>0.206412</td>\n",
       "      <td>-0.769023</td>\n",
       "      <td>-1.393676</td>\n",
       "    </tr>\n",
       "    <tr>\n",
       "      <th>11</th>\n",
       "      <td>11</td>\n",
       "      <td>11_0</td>\n",
       "      <td>COMPLETED</td>\n",
       "      <td>Sobol</td>\n",
       "      <td>GenerationStep_0</td>\n",
       "      <td>5.0</td>\n",
       "      <td>12</td>\n",
       "      <td>11</td>\n",
       "      <td>11</td>\n",
       "      <td>35</td>\n",
       "      <td>...</td>\n",
       "      <td>-0.338968</td>\n",
       "      <td>0.650296</td>\n",
       "      <td>0.132843</td>\n",
       "      <td>-0.018342</td>\n",
       "      <td>0.333792</td>\n",
       "      <td>0.098529</td>\n",
       "      <td>-0.334411</td>\n",
       "      <td>1.234747</td>\n",
       "      <td>-0.022983</td>\n",
       "      <td>-0.705980</td>\n",
       "    </tr>\n",
       "    <tr>\n",
       "      <th>12</th>\n",
       "      <td>12</td>\n",
       "      <td>12_0</td>\n",
       "      <td>COMPLETED</td>\n",
       "      <td>Sobol</td>\n",
       "      <td>GenerationStep_0</td>\n",
       "      <td>8.0</td>\n",
       "      <td>14</td>\n",
       "      <td>13</td>\n",
       "      <td>6</td>\n",
       "      <td>32</td>\n",
       "      <td>...</td>\n",
       "      <td>-0.414772</td>\n",
       "      <td>0.536043</td>\n",
       "      <td>-0.478770</td>\n",
       "      <td>-0.677587</td>\n",
       "      <td>0.461016</td>\n",
       "      <td>0.005817</td>\n",
       "      <td>-0.344590</td>\n",
       "      <td>0.525173</td>\n",
       "      <td>0.014089</td>\n",
       "      <td>-0.333767</td>\n",
       "    </tr>\n",
       "    <tr>\n",
       "      <th>13</th>\n",
       "      <td>13</td>\n",
       "      <td>13_0</td>\n",
       "      <td>COMPLETED</td>\n",
       "      <td>Sobol</td>\n",
       "      <td>GenerationStep_0</td>\n",
       "      <td>5.0</td>\n",
       "      <td>9</td>\n",
       "      <td>12</td>\n",
       "      <td>7</td>\n",
       "      <td>32</td>\n",
       "      <td>...</td>\n",
       "      <td>-0.282155</td>\n",
       "      <td>0.560111</td>\n",
       "      <td>-0.217772</td>\n",
       "      <td>-0.784981</td>\n",
       "      <td>0.441039</td>\n",
       "      <td>0.273958</td>\n",
       "      <td>-0.026227</td>\n",
       "      <td>1.029406</td>\n",
       "      <td>-0.016937</td>\n",
       "      <td>-1.338568</td>\n",
       "    </tr>\n",
       "    <tr>\n",
       "      <th>14</th>\n",
       "      <td>14</td>\n",
       "      <td>14_0</td>\n",
       "      <td>COMPLETED</td>\n",
       "      <td>Sobol</td>\n",
       "      <td>GenerationStep_0</td>\n",
       "      <td>2.0</td>\n",
       "      <td>13</td>\n",
       "      <td>13</td>\n",
       "      <td>10</td>\n",
       "      <td>32</td>\n",
       "      <td>...</td>\n",
       "      <td>-0.282658</td>\n",
       "      <td>0.760193</td>\n",
       "      <td>0.499701</td>\n",
       "      <td>-0.175536</td>\n",
       "      <td>0.397263</td>\n",
       "      <td>-0.160892</td>\n",
       "      <td>-0.354588</td>\n",
       "      <td>1.238606</td>\n",
       "      <td>-0.508402</td>\n",
       "      <td>-1.415763</td>\n",
       "    </tr>\n",
       "    <tr>\n",
       "      <th>15</th>\n",
       "      <td>15</td>\n",
       "      <td>15_0</td>\n",
       "      <td>COMPLETED</td>\n",
       "      <td>Sobol</td>\n",
       "      <td>GenerationStep_0</td>\n",
       "      <td>3.0</td>\n",
       "      <td>12</td>\n",
       "      <td>7</td>\n",
       "      <td>11</td>\n",
       "      <td>30</td>\n",
       "      <td>...</td>\n",
       "      <td>-0.273999</td>\n",
       "      <td>0.008883</td>\n",
       "      <td>-0.515197</td>\n",
       "      <td>-0.657261</td>\n",
       "      <td>0.497016</td>\n",
       "      <td>0.390308</td>\n",
       "      <td>-0.231924</td>\n",
       "      <td>0.205332</td>\n",
       "      <td>-0.311066</td>\n",
       "      <td>-0.460352</td>\n",
       "    </tr>\n",
       "    <tr>\n",
       "      <th>16</th>\n",
       "      <td>16</td>\n",
       "      <td>16_0</td>\n",
       "      <td>COMPLETED</td>\n",
       "      <td>Sobol</td>\n",
       "      <td>GenerationStep_0</td>\n",
       "      <td>10.0</td>\n",
       "      <td>15</td>\n",
       "      <td>11</td>\n",
       "      <td>7</td>\n",
       "      <td>33</td>\n",
       "      <td>...</td>\n",
       "      <td>-0.337965</td>\n",
       "      <td>0.093636</td>\n",
       "      <td>-0.314787</td>\n",
       "      <td>-0.662842</td>\n",
       "      <td>-0.055426</td>\n",
       "      <td>-0.180858</td>\n",
       "      <td>-0.321709</td>\n",
       "      <td>0.048985</td>\n",
       "      <td>-0.837146</td>\n",
       "      <td>-1.038258</td>\n",
       "    </tr>\n",
       "    <tr>\n",
       "      <th>17</th>\n",
       "      <td>17</td>\n",
       "      <td>17_0</td>\n",
       "      <td>COMPLETED</td>\n",
       "      <td>Sobol</td>\n",
       "      <td>GenerationStep_0</td>\n",
       "      <td>18.0</td>\n",
       "      <td>11</td>\n",
       "      <td>8</td>\n",
       "      <td>8</td>\n",
       "      <td>35</td>\n",
       "      <td>...</td>\n",
       "      <td>-0.212208</td>\n",
       "      <td>0.765981</td>\n",
       "      <td>-0.553679</td>\n",
       "      <td>-0.916666</td>\n",
       "      <td>0.265604</td>\n",
       "      <td>0.009997</td>\n",
       "      <td>-0.203623</td>\n",
       "      <td>1.303938</td>\n",
       "      <td>0.610993</td>\n",
       "      <td>-0.490468</td>\n",
       "    </tr>\n",
       "    <tr>\n",
       "      <th>18</th>\n",
       "      <td>18</td>\n",
       "      <td>18_0</td>\n",
       "      <td>COMPLETED</td>\n",
       "      <td>Sobol</td>\n",
       "      <td>GenerationStep_0</td>\n",
       "      <td>5.0</td>\n",
       "      <td>11</td>\n",
       "      <td>10</td>\n",
       "      <td>9</td>\n",
       "      <td>30</td>\n",
       "      <td>...</td>\n",
       "      <td>-0.430243</td>\n",
       "      <td>0.468718</td>\n",
       "      <td>-0.843845</td>\n",
       "      <td>-0.979679</td>\n",
       "      <td>0.478675</td>\n",
       "      <td>0.060455</td>\n",
       "      <td>-0.270652</td>\n",
       "      <td>0.474935</td>\n",
       "      <td>-0.510951</td>\n",
       "      <td>-0.752519</td>\n",
       "    </tr>\n",
       "    <tr>\n",
       "      <th>19</th>\n",
       "      <td>19</td>\n",
       "      <td>19_0</td>\n",
       "      <td>COMPLETED</td>\n",
       "      <td>Sobol</td>\n",
       "      <td>GenerationStep_0</td>\n",
       "      <td>10.0</td>\n",
       "      <td>12</td>\n",
       "      <td>11</td>\n",
       "      <td>5</td>\n",
       "      <td>29</td>\n",
       "      <td>...</td>\n",
       "      <td>-0.252487</td>\n",
       "      <td>0.633961</td>\n",
       "      <td>-0.093441</td>\n",
       "      <td>-0.611032</td>\n",
       "      <td>0.225951</td>\n",
       "      <td>0.096162</td>\n",
       "      <td>-0.034798</td>\n",
       "      <td>1.271505</td>\n",
       "      <td>0.982726</td>\n",
       "      <td>-0.788398</td>\n",
       "    </tr>\n",
       "    <tr>\n",
       "      <th>20</th>\n",
       "      <td>20</td>\n",
       "      <td>20_0</td>\n",
       "      <td>COMPLETED</td>\n",
       "      <td>Sobol</td>\n",
       "      <td>GenerationStep_0</td>\n",
       "      <td>4.0</td>\n",
       "      <td>9</td>\n",
       "      <td>9</td>\n",
       "      <td>9</td>\n",
       "      <td>31</td>\n",
       "      <td>...</td>\n",
       "      <td>-0.238014</td>\n",
       "      <td>0.843290</td>\n",
       "      <td>-0.139202</td>\n",
       "      <td>-0.806879</td>\n",
       "      <td>0.283790</td>\n",
       "      <td>-0.203730</td>\n",
       "      <td>-0.317319</td>\n",
       "      <td>-0.263311</td>\n",
       "      <td>-0.672656</td>\n",
       "      <td>-1.380677</td>\n",
       "    </tr>\n",
       "    <tr>\n",
       "      <th>21</th>\n",
       "      <td>21</td>\n",
       "      <td>21_0</td>\n",
       "      <td>COMPLETED</td>\n",
       "      <td>Sobol</td>\n",
       "      <td>GenerationStep_0</td>\n",
       "      <td>13.0</td>\n",
       "      <td>7</td>\n",
       "      <td>11</td>\n",
       "      <td>12</td>\n",
       "      <td>30</td>\n",
       "      <td>...</td>\n",
       "      <td>-0.267472</td>\n",
       "      <td>0.255166</td>\n",
       "      <td>0.126869</td>\n",
       "      <td>-0.492673</td>\n",
       "      <td>0.418016</td>\n",
       "      <td>-0.138899</td>\n",
       "      <td>-0.291162</td>\n",
       "      <td>1.153422</td>\n",
       "      <td>0.017355</td>\n",
       "      <td>-1.090867</td>\n",
       "    </tr>\n",
       "    <tr>\n",
       "      <th>22</th>\n",
       "      <td>22</td>\n",
       "      <td>22_0</td>\n",
       "      <td>COMPLETED</td>\n",
       "      <td>Sobol</td>\n",
       "      <td>GenerationStep_0</td>\n",
       "      <td>4.0</td>\n",
       "      <td>13</td>\n",
       "      <td>9</td>\n",
       "      <td>11</td>\n",
       "      <td>33</td>\n",
       "      <td>...</td>\n",
       "      <td>-0.441218</td>\n",
       "      <td>0.589633</td>\n",
       "      <td>-0.431220</td>\n",
       "      <td>-0.685822</td>\n",
       "      <td>0.139453</td>\n",
       "      <td>-0.087260</td>\n",
       "      <td>-0.440623</td>\n",
       "      <td>0.653056</td>\n",
       "      <td>-0.352732</td>\n",
       "      <td>-1.090172</td>\n",
       "    </tr>\n",
       "    <tr>\n",
       "      <th>23</th>\n",
       "      <td>23</td>\n",
       "      <td>23_0</td>\n",
       "      <td>COMPLETED</td>\n",
       "      <td>Sobol</td>\n",
       "      <td>GenerationStep_0</td>\n",
       "      <td>4.0</td>\n",
       "      <td>15</td>\n",
       "      <td>8</td>\n",
       "      <td>9</td>\n",
       "      <td>29</td>\n",
       "      <td>...</td>\n",
       "      <td>-0.430968</td>\n",
       "      <td>0.806623</td>\n",
       "      <td>0.598915</td>\n",
       "      <td>0.300458</td>\n",
       "      <td>0.225079</td>\n",
       "      <td>-0.116840</td>\n",
       "      <td>-0.270366</td>\n",
       "      <td>1.307304</td>\n",
       "      <td>1.090993</td>\n",
       "      <td>0.853437</td>\n",
       "    </tr>\n",
       "    <tr>\n",
       "      <th>24</th>\n",
       "      <td>24</td>\n",
       "      <td>24_0</td>\n",
       "      <td>COMPLETED</td>\n",
       "      <td>Sobol</td>\n",
       "      <td>GenerationStep_0</td>\n",
       "      <td>3.0</td>\n",
       "      <td>9</td>\n",
       "      <td>12</td>\n",
       "      <td>7</td>\n",
       "      <td>34</td>\n",
       "      <td>...</td>\n",
       "      <td>-0.413540</td>\n",
       "      <td>0.465138</td>\n",
       "      <td>0.049957</td>\n",
       "      <td>-0.574587</td>\n",
       "      <td>0.102481</td>\n",
       "      <td>-0.038154</td>\n",
       "      <td>-0.398917</td>\n",
       "      <td>1.474444</td>\n",
       "      <td>0.627102</td>\n",
       "      <td>-1.328766</td>\n",
       "    </tr>\n",
       "    <tr>\n",
       "      <th>25</th>\n",
       "      <td>25</td>\n",
       "      <td>25_0</td>\n",
       "      <td>COMPLETED</td>\n",
       "      <td>Sobol</td>\n",
       "      <td>GenerationStep_0</td>\n",
       "      <td>2.0</td>\n",
       "      <td>11</td>\n",
       "      <td>14</td>\n",
       "      <td>5</td>\n",
       "      <td>31</td>\n",
       "      <td>...</td>\n",
       "      <td>-0.358405</td>\n",
       "      <td>0.998259</td>\n",
       "      <td>-0.665749</td>\n",
       "      <td>-0.902720</td>\n",
       "      <td>0.376706</td>\n",
       "      <td>0.005550</td>\n",
       "      <td>-0.487177</td>\n",
       "      <td>0.844505</td>\n",
       "      <td>0.669682</td>\n",
       "      <td>0.439591</td>\n",
       "    </tr>\n",
       "    <tr>\n",
       "      <th>26</th>\n",
       "      <td>26</td>\n",
       "      <td>26_0</td>\n",
       "      <td>COMPLETED</td>\n",
       "      <td>Sobol</td>\n",
       "      <td>GenerationStep_0</td>\n",
       "      <td>10.0</td>\n",
       "      <td>9</td>\n",
       "      <td>13</td>\n",
       "      <td>5</td>\n",
       "      <td>34</td>\n",
       "      <td>...</td>\n",
       "      <td>-0.073421</td>\n",
       "      <td>0.703659</td>\n",
       "      <td>-0.209462</td>\n",
       "      <td>-0.390506</td>\n",
       "      <td>0.401286</td>\n",
       "      <td>0.237647</td>\n",
       "      <td>-0.256544</td>\n",
       "      <td>1.017838</td>\n",
       "      <td>-0.296759</td>\n",
       "      <td>-0.613600</td>\n",
       "    </tr>\n",
       "    <tr>\n",
       "      <th>27</th>\n",
       "      <td>27</td>\n",
       "      <td>27_0</td>\n",
       "      <td>COMPLETED</td>\n",
       "      <td>Sobol</td>\n",
       "      <td>GenerationStep_0</td>\n",
       "      <td>3.0</td>\n",
       "      <td>10</td>\n",
       "      <td>13</td>\n",
       "      <td>13</td>\n",
       "      <td>28</td>\n",
       "      <td>...</td>\n",
       "      <td>-0.070271</td>\n",
       "      <td>0.918250</td>\n",
       "      <td>0.284812</td>\n",
       "      <td>-0.576528</td>\n",
       "      <td>0.432195</td>\n",
       "      <td>0.312839</td>\n",
       "      <td>-0.491738</td>\n",
       "      <td>1.474843</td>\n",
       "      <td>0.481756</td>\n",
       "      <td>0.123602</td>\n",
       "    </tr>\n",
       "    <tr>\n",
       "      <th>28</th>\n",
       "      <td>28</td>\n",
       "      <td>28_0</td>\n",
       "      <td>COMPLETED</td>\n",
       "      <td>Sobol</td>\n",
       "      <td>GenerationStep_0</td>\n",
       "      <td>4.0</td>\n",
       "      <td>9</td>\n",
       "      <td>9</td>\n",
       "      <td>13</td>\n",
       "      <td>28</td>\n",
       "      <td>...</td>\n",
       "      <td>-0.193176</td>\n",
       "      <td>0.845889</td>\n",
       "      <td>0.283894</td>\n",
       "      <td>-0.473840</td>\n",
       "      <td>0.388599</td>\n",
       "      <td>0.099752</td>\n",
       "      <td>-0.425111</td>\n",
       "      <td>-0.190020</td>\n",
       "      <td>-0.651820</td>\n",
       "      <td>-1.240542</td>\n",
       "    </tr>\n",
       "    <tr>\n",
       "      <th>29</th>\n",
       "      <td>29</td>\n",
       "      <td>29_0</td>\n",
       "      <td>COMPLETED</td>\n",
       "      <td>Sobol</td>\n",
       "      <td>GenerationStep_0</td>\n",
       "      <td>2.0</td>\n",
       "      <td>9</td>\n",
       "      <td>12</td>\n",
       "      <td>7</td>\n",
       "      <td>35</td>\n",
       "      <td>...</td>\n",
       "      <td>-0.491383</td>\n",
       "      <td>0.616983</td>\n",
       "      <td>0.191381</td>\n",
       "      <td>-0.314586</td>\n",
       "      <td>0.314864</td>\n",
       "      <td>-0.068009</td>\n",
       "      <td>-0.461810</td>\n",
       "      <td>0.599367</td>\n",
       "      <td>-1.050551</td>\n",
       "      <td>-1.224279</td>\n",
       "    </tr>\n",
       "    <tr>\n",
       "      <th>30</th>\n",
       "      <td>30</td>\n",
       "      <td>30_0</td>\n",
       "      <td>COMPLETED</td>\n",
       "      <td>Sobol</td>\n",
       "      <td>GenerationStep_0</td>\n",
       "      <td>3.0</td>\n",
       "      <td>15</td>\n",
       "      <td>8</td>\n",
       "      <td>6</td>\n",
       "      <td>27</td>\n",
       "      <td>...</td>\n",
       "      <td>-0.309921</td>\n",
       "      <td>0.220551</td>\n",
       "      <td>-0.488030</td>\n",
       "      <td>-0.616438</td>\n",
       "      <td>0.028764</td>\n",
       "      <td>-0.135060</td>\n",
       "      <td>-0.312558</td>\n",
       "      <td>1.216502</td>\n",
       "      <td>0.803899</td>\n",
       "      <td>-1.223584</td>\n",
       "    </tr>\n",
       "    <tr>\n",
       "      <th>31</th>\n",
       "      <td>31</td>\n",
       "      <td>31_0</td>\n",
       "      <td>COMPLETED</td>\n",
       "      <td>Sobol</td>\n",
       "      <td>GenerationStep_0</td>\n",
       "      <td>4.0</td>\n",
       "      <td>11</td>\n",
       "      <td>9</td>\n",
       "      <td>11</td>\n",
       "      <td>28</td>\n",
       "      <td>...</td>\n",
       "      <td>-0.278800</td>\n",
       "      <td>0.919202</td>\n",
       "      <td>0.609352</td>\n",
       "      <td>-0.109904</td>\n",
       "      <td>0.356424</td>\n",
       "      <td>-0.081116</td>\n",
       "      <td>-0.439565</td>\n",
       "      <td>-0.149384</td>\n",
       "      <td>-0.615048</td>\n",
       "      <td>-1.394528</td>\n",
       "    </tr>\n",
       "    <tr>\n",
       "      <th>32</th>\n",
       "      <td>32</td>\n",
       "      <td>32_0</td>\n",
       "      <td>COMPLETED</td>\n",
       "      <td>Sobol</td>\n",
       "      <td>GenerationStep_0</td>\n",
       "      <td>4.0</td>\n",
       "      <td>7</td>\n",
       "      <td>7</td>\n",
       "      <td>10</td>\n",
       "      <td>29</td>\n",
       "      <td>...</td>\n",
       "      <td>-0.198794</td>\n",
       "      <td>0.520821</td>\n",
       "      <td>-0.527788</td>\n",
       "      <td>-0.843626</td>\n",
       "      <td>0.122679</td>\n",
       "      <td>-0.179833</td>\n",
       "      <td>-0.330934</td>\n",
       "      <td>1.226565</td>\n",
       "      <td>0.228400</td>\n",
       "      <td>-1.495501</td>\n",
       "    </tr>\n",
       "    <tr>\n",
       "      <th>33</th>\n",
       "      <td>33</td>\n",
       "      <td>33_0</td>\n",
       "      <td>COMPLETED</td>\n",
       "      <td>Sobol</td>\n",
       "      <td>GenerationStep_0</td>\n",
       "      <td>13.0</td>\n",
       "      <td>11</td>\n",
       "      <td>8</td>\n",
       "      <td>11</td>\n",
       "      <td>30</td>\n",
       "      <td>...</td>\n",
       "      <td>-0.133521</td>\n",
       "      <td>0.482712</td>\n",
       "      <td>0.056779</td>\n",
       "      <td>-0.992828</td>\n",
       "      <td>0.452960</td>\n",
       "      <td>0.313596</td>\n",
       "      <td>-0.456010</td>\n",
       "      <td>0.717649</td>\n",
       "      <td>0.548131</td>\n",
       "      <td>-0.579734</td>\n",
       "    </tr>\n",
       "    <tr>\n",
       "      <th>34</th>\n",
       "      <td>34</td>\n",
       "      <td>34_0</td>\n",
       "      <td>COMPLETED</td>\n",
       "      <td>Sobol</td>\n",
       "      <td>GenerationStep_0</td>\n",
       "      <td>16.0</td>\n",
       "      <td>12</td>\n",
       "      <td>7</td>\n",
       "      <td>10</td>\n",
       "      <td>29</td>\n",
       "      <td>...</td>\n",
       "      <td>-0.334931</td>\n",
       "      <td>0.564765</td>\n",
       "      <td>0.243620</td>\n",
       "      <td>-0.200269</td>\n",
       "      <td>0.422512</td>\n",
       "      <td>0.147548</td>\n",
       "      <td>-0.494425</td>\n",
       "      <td>-0.141912</td>\n",
       "      <td>-0.355214</td>\n",
       "      <td>-0.638365</td>\n",
       "    </tr>\n",
       "    <tr>\n",
       "      <th>35</th>\n",
       "      <td>35</td>\n",
       "      <td>35_0</td>\n",
       "      <td>COMPLETED</td>\n",
       "      <td>Sobol</td>\n",
       "      <td>GenerationStep_0</td>\n",
       "      <td>23.0</td>\n",
       "      <td>12</td>\n",
       "      <td>8</td>\n",
       "      <td>5</td>\n",
       "      <td>35</td>\n",
       "      <td>...</td>\n",
       "      <td>-0.445514</td>\n",
       "      <td>0.722113</td>\n",
       "      <td>0.170112</td>\n",
       "      <td>0.038937</td>\n",
       "      <td>0.481426</td>\n",
       "      <td>0.251735</td>\n",
       "      <td>-0.172327</td>\n",
       "      <td>0.818466</td>\n",
       "      <td>-1.282179</td>\n",
       "      <td>-1.445657</td>\n",
       "    </tr>\n",
       "    <tr>\n",
       "      <th>36</th>\n",
       "      <td>36</td>\n",
       "      <td>36_0</td>\n",
       "      <td>COMPLETED</td>\n",
       "      <td>Sobol</td>\n",
       "      <td>GenerationStep_0</td>\n",
       "      <td>15.0</td>\n",
       "      <td>11</td>\n",
       "      <td>14</td>\n",
       "      <td>5</td>\n",
       "      <td>35</td>\n",
       "      <td>...</td>\n",
       "      <td>-0.280855</td>\n",
       "      <td>0.474284</td>\n",
       "      <td>0.153125</td>\n",
       "      <td>-0.262139</td>\n",
       "      <td>0.213840</td>\n",
       "      <td>0.031316</td>\n",
       "      <td>-0.163895</td>\n",
       "      <td>1.192276</td>\n",
       "      <td>0.449605</td>\n",
       "      <td>-0.126463</td>\n",
       "    </tr>\n",
       "    <tr>\n",
       "      <th>37</th>\n",
       "      <td>37</td>\n",
       "      <td>37_0</td>\n",
       "      <td>COMPLETED</td>\n",
       "      <td>Sobol</td>\n",
       "      <td>GenerationStep_0</td>\n",
       "      <td>9.0</td>\n",
       "      <td>15</td>\n",
       "      <td>7</td>\n",
       "      <td>12</td>\n",
       "      <td>30</td>\n",
       "      <td>...</td>\n",
       "      <td>-0.067172</td>\n",
       "      <td>0.491378</td>\n",
       "      <td>0.298547</td>\n",
       "      <td>-0.608990</td>\n",
       "      <td>0.465521</td>\n",
       "      <td>0.091849</td>\n",
       "      <td>-0.162532</td>\n",
       "      <td>0.837645</td>\n",
       "      <td>-0.551105</td>\n",
       "      <td>-1.046020</td>\n",
       "    </tr>\n",
       "    <tr>\n",
       "      <th>38</th>\n",
       "      <td>38</td>\n",
       "      <td>38_0</td>\n",
       "      <td>COMPLETED</td>\n",
       "      <td>Sobol</td>\n",
       "      <td>GenerationStep_0</td>\n",
       "      <td>12.0</td>\n",
       "      <td>7</td>\n",
       "      <td>14</td>\n",
       "      <td>8</td>\n",
       "      <td>28</td>\n",
       "      <td>...</td>\n",
       "      <td>-0.098531</td>\n",
       "      <td>0.613916</td>\n",
       "      <td>-0.179248</td>\n",
       "      <td>-0.651463</td>\n",
       "      <td>0.312515</td>\n",
       "      <td>0.033528</td>\n",
       "      <td>-0.202324</td>\n",
       "      <td>0.171988</td>\n",
       "      <td>0.055551</td>\n",
       "      <td>-1.366187</td>\n",
       "    </tr>\n",
       "    <tr>\n",
       "      <th>39</th>\n",
       "      <td>39</td>\n",
       "      <td>39_0</td>\n",
       "      <td>COMPLETED</td>\n",
       "      <td>Sobol</td>\n",
       "      <td>GenerationStep_0</td>\n",
       "      <td>4.0</td>\n",
       "      <td>7</td>\n",
       "      <td>8</td>\n",
       "      <td>9</td>\n",
       "      <td>32</td>\n",
       "      <td>...</td>\n",
       "      <td>-0.309388</td>\n",
       "      <td>0.171631</td>\n",
       "      <td>-0.476652</td>\n",
       "      <td>-0.710236</td>\n",
       "      <td>0.468162</td>\n",
       "      <td>0.021358</td>\n",
       "      <td>-0.273180</td>\n",
       "      <td>0.815500</td>\n",
       "      <td>-0.318551</td>\n",
       "      <td>-1.151427</td>\n",
       "    </tr>\n",
       "    <tr>\n",
       "      <th>40</th>\n",
       "      <td>40</td>\n",
       "      <td>40_0</td>\n",
       "      <td>COMPLETED</td>\n",
       "      <td>Sobol</td>\n",
       "      <td>GenerationStep_0</td>\n",
       "      <td>15.0</td>\n",
       "      <td>8</td>\n",
       "      <td>13</td>\n",
       "      <td>9</td>\n",
       "      <td>30</td>\n",
       "      <td>...</td>\n",
       "      <td>-0.426923</td>\n",
       "      <td>0.206654</td>\n",
       "      <td>0.045408</td>\n",
       "      <td>-0.675600</td>\n",
       "      <td>0.283750</td>\n",
       "      <td>0.143823</td>\n",
       "      <td>-0.028566</td>\n",
       "      <td>1.434858</td>\n",
       "      <td>0.212313</td>\n",
       "      <td>-0.470594</td>\n",
       "    </tr>\n",
       "    <tr>\n",
       "      <th>41</th>\n",
       "      <td>41</td>\n",
       "      <td>41_0</td>\n",
       "      <td>COMPLETED</td>\n",
       "      <td>Sobol</td>\n",
       "      <td>GenerationStep_0</td>\n",
       "      <td>5.0</td>\n",
       "      <td>10</td>\n",
       "      <td>8</td>\n",
       "      <td>8</td>\n",
       "      <td>28</td>\n",
       "      <td>...</td>\n",
       "      <td>0.017333</td>\n",
       "      <td>0.767957</td>\n",
       "      <td>0.233234</td>\n",
       "      <td>-0.417394</td>\n",
       "      <td>0.477265</td>\n",
       "      <td>0.258775</td>\n",
       "      <td>0.156054</td>\n",
       "      <td>0.786017</td>\n",
       "      <td>-0.884349</td>\n",
       "      <td>-1.143639</td>\n",
       "    </tr>\n",
       "    <tr>\n",
       "      <th>42</th>\n",
       "      <td>42</td>\n",
       "      <td>42_0</td>\n",
       "      <td>COMPLETED</td>\n",
       "      <td>BoTorch</td>\n",
       "      <td>GenerationStep_1</td>\n",
       "      <td>26.0</td>\n",
       "      <td>13</td>\n",
       "      <td>8</td>\n",
       "      <td>5</td>\n",
       "      <td>35</td>\n",
       "      <td>...</td>\n",
       "      <td>-0.451667</td>\n",
       "      <td>0.556322</td>\n",
       "      <td>0.134683</td>\n",
       "      <td>-0.008124</td>\n",
       "      <td>0.491946</td>\n",
       "      <td>0.307941</td>\n",
       "      <td>-0.136811</td>\n",
       "      <td>0.809477</td>\n",
       "      <td>-1.230596</td>\n",
       "      <td>-1.500000</td>\n",
       "    </tr>\n",
       "    <tr>\n",
       "      <th>43</th>\n",
       "      <td>43</td>\n",
       "      <td>43_0</td>\n",
       "      <td>COMPLETED</td>\n",
       "      <td>None</td>\n",
       "      <td>None</td>\n",
       "      <td>30.0</td>\n",
       "      <td>10</td>\n",
       "      <td>8</td>\n",
       "      <td>6</td>\n",
       "      <td>32</td>\n",
       "      <td>...</td>\n",
       "      <td>0.300000</td>\n",
       "      <td>0.800000</td>\n",
       "      <td>0.700000</td>\n",
       "      <td>0.600000</td>\n",
       "      <td>0.400000</td>\n",
       "      <td>0.300000</td>\n",
       "      <td>0.200000</td>\n",
       "      <td>1.200000</td>\n",
       "      <td>1.000000</td>\n",
       "      <td>0.800000</td>\n",
       "    </tr>\n",
       "    <tr>\n",
       "      <th>44</th>\n",
       "      <td>44</td>\n",
       "      <td>44_0</td>\n",
       "      <td>COMPLETED</td>\n",
       "      <td>None</td>\n",
       "      <td>None</td>\n",
       "      <td>79.0</td>\n",
       "      <td>7</td>\n",
       "      <td>6</td>\n",
       "      <td>5</td>\n",
       "      <td>27</td>\n",
       "      <td>...</td>\n",
       "      <td>0.300000</td>\n",
       "      <td>0.800000</td>\n",
       "      <td>0.700000</td>\n",
       "      <td>0.600000</td>\n",
       "      <td>0.400000</td>\n",
       "      <td>0.300000</td>\n",
       "      <td>0.200000</td>\n",
       "      <td>1.000000</td>\n",
       "      <td>0.900000</td>\n",
       "      <td>0.800000</td>\n",
       "    </tr>\n",
       "    <tr>\n",
       "      <th>45</th>\n",
       "      <td>45</td>\n",
       "      <td>45_0</td>\n",
       "      <td>COMPLETED</td>\n",
       "      <td>None</td>\n",
       "      <td>None</td>\n",
       "      <td>90.0</td>\n",
       "      <td>8</td>\n",
       "      <td>6</td>\n",
       "      <td>5</td>\n",
       "      <td>29</td>\n",
       "      <td>...</td>\n",
       "      <td>0.300000</td>\n",
       "      <td>0.635967</td>\n",
       "      <td>0.535967</td>\n",
       "      <td>0.435967</td>\n",
       "      <td>0.500000</td>\n",
       "      <td>0.400000</td>\n",
       "      <td>0.300000</td>\n",
       "      <td>1.072711</td>\n",
       "      <td>0.972711</td>\n",
       "      <td>0.872711</td>\n",
       "    </tr>\n",
       "    <tr>\n",
       "      <th>46</th>\n",
       "      <td>46</td>\n",
       "      <td>46_0</td>\n",
       "      <td>COMPLETED</td>\n",
       "      <td>None</td>\n",
       "      <td>None</td>\n",
       "      <td>90.0</td>\n",
       "      <td>8</td>\n",
       "      <td>6</td>\n",
       "      <td>5</td>\n",
       "      <td>29</td>\n",
       "      <td>...</td>\n",
       "      <td>0.300000</td>\n",
       "      <td>0.636000</td>\n",
       "      <td>0.536000</td>\n",
       "      <td>0.436000</td>\n",
       "      <td>0.500000</td>\n",
       "      <td>0.400000</td>\n",
       "      <td>0.300000</td>\n",
       "      <td>1.073000</td>\n",
       "      <td>0.973000</td>\n",
       "      <td>0.873000</td>\n",
       "    </tr>\n",
       "  </tbody>\n",
       "</table>\n",
       "<p>47 rows × 27 columns</p>\n",
       "</div>"
      ],
      "text/plain": [
       "    trial_index arm_name trial_status generation_method   generation_node  \\\n",
       "0             0      0_0    COMPLETED             Sobol  GenerationStep_0   \n",
       "1             1      1_0    COMPLETED             Sobol  GenerationStep_0   \n",
       "2             2      2_0    COMPLETED             Sobol  GenerationStep_0   \n",
       "3             3      3_0    COMPLETED             Sobol  GenerationStep_0   \n",
       "4             4      4_0    COMPLETED             Sobol  GenerationStep_0   \n",
       "5             5      5_0    COMPLETED             Sobol  GenerationStep_0   \n",
       "6             6      6_0    COMPLETED             Sobol  GenerationStep_0   \n",
       "7             7      7_0    COMPLETED             Sobol  GenerationStep_0   \n",
       "8             8      8_0    COMPLETED             Sobol  GenerationStep_0   \n",
       "9             9      9_0    COMPLETED             Sobol  GenerationStep_0   \n",
       "10           10     10_0    COMPLETED             Sobol  GenerationStep_0   \n",
       "11           11     11_0    COMPLETED             Sobol  GenerationStep_0   \n",
       "12           12     12_0    COMPLETED             Sobol  GenerationStep_0   \n",
       "13           13     13_0    COMPLETED             Sobol  GenerationStep_0   \n",
       "14           14     14_0    COMPLETED             Sobol  GenerationStep_0   \n",
       "15           15     15_0    COMPLETED             Sobol  GenerationStep_0   \n",
       "16           16     16_0    COMPLETED             Sobol  GenerationStep_0   \n",
       "17           17     17_0    COMPLETED             Sobol  GenerationStep_0   \n",
       "18           18     18_0    COMPLETED             Sobol  GenerationStep_0   \n",
       "19           19     19_0    COMPLETED             Sobol  GenerationStep_0   \n",
       "20           20     20_0    COMPLETED             Sobol  GenerationStep_0   \n",
       "21           21     21_0    COMPLETED             Sobol  GenerationStep_0   \n",
       "22           22     22_0    COMPLETED             Sobol  GenerationStep_0   \n",
       "23           23     23_0    COMPLETED             Sobol  GenerationStep_0   \n",
       "24           24     24_0    COMPLETED             Sobol  GenerationStep_0   \n",
       "25           25     25_0    COMPLETED             Sobol  GenerationStep_0   \n",
       "26           26     26_0    COMPLETED             Sobol  GenerationStep_0   \n",
       "27           27     27_0    COMPLETED             Sobol  GenerationStep_0   \n",
       "28           28     28_0    COMPLETED             Sobol  GenerationStep_0   \n",
       "29           29     29_0    COMPLETED             Sobol  GenerationStep_0   \n",
       "30           30     30_0    COMPLETED             Sobol  GenerationStep_0   \n",
       "31           31     31_0    COMPLETED             Sobol  GenerationStep_0   \n",
       "32           32     32_0    COMPLETED             Sobol  GenerationStep_0   \n",
       "33           33     33_0    COMPLETED             Sobol  GenerationStep_0   \n",
       "34           34     34_0    COMPLETED             Sobol  GenerationStep_0   \n",
       "35           35     35_0    COMPLETED             Sobol  GenerationStep_0   \n",
       "36           36     36_0    COMPLETED             Sobol  GenerationStep_0   \n",
       "37           37     37_0    COMPLETED             Sobol  GenerationStep_0   \n",
       "38           38     38_0    COMPLETED             Sobol  GenerationStep_0   \n",
       "39           39     39_0    COMPLETED             Sobol  GenerationStep_0   \n",
       "40           40     40_0    COMPLETED             Sobol  GenerationStep_0   \n",
       "41           41     41_0    COMPLETED             Sobol  GenerationStep_0   \n",
       "42           42     42_0    COMPLETED           BoTorch  GenerationStep_1   \n",
       "43           43     43_0    COMPLETED              None              None   \n",
       "44           44     44_0    COMPLETED              None              None   \n",
       "45           45     45_0    COMPLETED              None              None   \n",
       "46           46     46_0    COMPLETED              None              None   \n",
       "\n",
       "    Viable_Cross_Terms  z_sh  z_sh_1  z_sh_2  z_p2  ...     x_s_2      x_p1  \\\n",
       "0                  5.0    12      13      13    30  ... -0.039872  0.860567   \n",
       "1                 16.0     9      12       6    28  ...  0.061762  0.280179   \n",
       "2                 12.0    14      14      10    28  ... -0.492182  0.533445   \n",
       "3                 20.0    14       9       7    31  ... -0.387237  0.271144   \n",
       "4                  7.0     8      14       6    29  ...  0.056943  0.874702   \n",
       "5                 15.0     7      12       7    33  ... -0.172550  0.785026   \n",
       "6                  5.0     7      12      11    30  ... -0.354004  0.514511   \n",
       "7                 11.0    12       6       8    35  ... -0.382414  0.852140   \n",
       "8                  6.0    11       7      11    31  ... -0.468167  0.352667   \n",
       "9                 11.0    13       9       9    30  ... -0.076067 -0.319844   \n",
       "10                11.0     8      12      11    32  ... -0.324683  0.587614   \n",
       "11                 5.0    12      11      11    35  ... -0.338968  0.650296   \n",
       "12                 8.0    14      13       6    32  ... -0.414772  0.536043   \n",
       "13                 5.0     9      12       7    32  ... -0.282155  0.560111   \n",
       "14                 2.0    13      13      10    32  ... -0.282658  0.760193   \n",
       "15                 3.0    12       7      11    30  ... -0.273999  0.008883   \n",
       "16                10.0    15      11       7    33  ... -0.337965  0.093636   \n",
       "17                18.0    11       8       8    35  ... -0.212208  0.765981   \n",
       "18                 5.0    11      10       9    30  ... -0.430243  0.468718   \n",
       "19                10.0    12      11       5    29  ... -0.252487  0.633961   \n",
       "20                 4.0     9       9       9    31  ... -0.238014  0.843290   \n",
       "21                13.0     7      11      12    30  ... -0.267472  0.255166   \n",
       "22                 4.0    13       9      11    33  ... -0.441218  0.589633   \n",
       "23                 4.0    15       8       9    29  ... -0.430968  0.806623   \n",
       "24                 3.0     9      12       7    34  ... -0.413540  0.465138   \n",
       "25                 2.0    11      14       5    31  ... -0.358405  0.998259   \n",
       "26                10.0     9      13       5    34  ... -0.073421  0.703659   \n",
       "27                 3.0    10      13      13    28  ... -0.070271  0.918250   \n",
       "28                 4.0     9       9      13    28  ... -0.193176  0.845889   \n",
       "29                 2.0     9      12       7    35  ... -0.491383  0.616983   \n",
       "30                 3.0    15       8       6    27  ... -0.309921  0.220551   \n",
       "31                 4.0    11       9      11    28  ... -0.278800  0.919202   \n",
       "32                 4.0     7       7      10    29  ... -0.198794  0.520821   \n",
       "33                13.0    11       8      11    30  ... -0.133521  0.482712   \n",
       "34                16.0    12       7      10    29  ... -0.334931  0.564765   \n",
       "35                23.0    12       8       5    35  ... -0.445514  0.722113   \n",
       "36                15.0    11      14       5    35  ... -0.280855  0.474284   \n",
       "37                 9.0    15       7      12    30  ... -0.067172  0.491378   \n",
       "38                12.0     7      14       8    28  ... -0.098531  0.613916   \n",
       "39                 4.0     7       8       9    32  ... -0.309388  0.171631   \n",
       "40                15.0     8      13       9    30  ... -0.426923  0.206654   \n",
       "41                 5.0    10       8       8    28  ...  0.017333  0.767957   \n",
       "42                26.0    13       8       5    35  ... -0.451667  0.556322   \n",
       "43                30.0    10       8       6    32  ...  0.300000  0.800000   \n",
       "44                79.0     7       6       5    27  ...  0.300000  0.800000   \n",
       "45                90.0     8       6       5    29  ...  0.300000  0.635967   \n",
       "46                90.0     8       6       5    29  ...  0.300000  0.636000   \n",
       "\n",
       "      x_p1_1    x_p1_2      x_p2    x_p2_1    x_p2_2      x_r2    x_r2_1  \\\n",
       "0   0.054660 -0.905615  0.445594  0.329129 -0.405654  1.007899 -0.622691   \n",
       "1  -0.216793 -0.674284  0.482764  0.303063 -0.240026  1.027452 -0.226139   \n",
       "2   0.067106 -0.092637  0.318919 -0.178784 -0.420800  0.499900  0.174703   \n",
       "3  -0.010371 -0.357360  0.408685  0.247238 -0.078927  1.035394 -0.490845   \n",
       "4   0.114893 -0.669673  0.148211  0.013402 -0.094170  0.051563 -0.066229   \n",
       "5   0.661065  0.051970  0.247682  0.080662 -0.165178  0.341651  0.134080   \n",
       "6  -0.268157 -0.642010  0.415432 -0.214854 -0.431319 -0.580071 -0.950087   \n",
       "7   0.151129 -0.352273  0.221513  0.046887 -0.239381  0.160039 -0.709710   \n",
       "8   0.021823 -0.496864  0.095443 -0.056417 -0.237519  0.375028 -1.225837   \n",
       "9  -0.573911 -0.965283  0.128872 -0.025865 -0.433866  0.907326  0.662571   \n",
       "10  0.244995 -0.923892  0.067149 -0.037220 -0.183502  0.206412 -0.769023   \n",
       "11  0.132843 -0.018342  0.333792  0.098529 -0.334411  1.234747 -0.022983   \n",
       "12 -0.478770 -0.677587  0.461016  0.005817 -0.344590  0.525173  0.014089   \n",
       "13 -0.217772 -0.784981  0.441039  0.273958 -0.026227  1.029406 -0.016937   \n",
       "14  0.499701 -0.175536  0.397263 -0.160892 -0.354588  1.238606 -0.508402   \n",
       "15 -0.515197 -0.657261  0.497016  0.390308 -0.231924  0.205332 -0.311066   \n",
       "16 -0.314787 -0.662842 -0.055426 -0.180858 -0.321709  0.048985 -0.837146   \n",
       "17 -0.553679 -0.916666  0.265604  0.009997 -0.203623  1.303938  0.610993   \n",
       "18 -0.843845 -0.979679  0.478675  0.060455 -0.270652  0.474935 -0.510951   \n",
       "19 -0.093441 -0.611032  0.225951  0.096162 -0.034798  1.271505  0.982726   \n",
       "20 -0.139202 -0.806879  0.283790 -0.203730 -0.317319 -0.263311 -0.672656   \n",
       "21  0.126869 -0.492673  0.418016 -0.138899 -0.291162  1.153422  0.017355   \n",
       "22 -0.431220 -0.685822  0.139453 -0.087260 -0.440623  0.653056 -0.352732   \n",
       "23  0.598915  0.300458  0.225079 -0.116840 -0.270366  1.307304  1.090993   \n",
       "24  0.049957 -0.574587  0.102481 -0.038154 -0.398917  1.474444  0.627102   \n",
       "25 -0.665749 -0.902720  0.376706  0.005550 -0.487177  0.844505  0.669682   \n",
       "26 -0.209462 -0.390506  0.401286  0.237647 -0.256544  1.017838 -0.296759   \n",
       "27  0.284812 -0.576528  0.432195  0.312839 -0.491738  1.474843  0.481756   \n",
       "28  0.283894 -0.473840  0.388599  0.099752 -0.425111 -0.190020 -0.651820   \n",
       "29  0.191381 -0.314586  0.314864 -0.068009 -0.461810  0.599367 -1.050551   \n",
       "30 -0.488030 -0.616438  0.028764 -0.135060 -0.312558  1.216502  0.803899   \n",
       "31  0.609352 -0.109904  0.356424 -0.081116 -0.439565 -0.149384 -0.615048   \n",
       "32 -0.527788 -0.843626  0.122679 -0.179833 -0.330934  1.226565  0.228400   \n",
       "33  0.056779 -0.992828  0.452960  0.313596 -0.456010  0.717649  0.548131   \n",
       "34  0.243620 -0.200269  0.422512  0.147548 -0.494425 -0.141912 -0.355214   \n",
       "35  0.170112  0.038937  0.481426  0.251735 -0.172327  0.818466 -1.282179   \n",
       "36  0.153125 -0.262139  0.213840  0.031316 -0.163895  1.192276  0.449605   \n",
       "37  0.298547 -0.608990  0.465521  0.091849 -0.162532  0.837645 -0.551105   \n",
       "38 -0.179248 -0.651463  0.312515  0.033528 -0.202324  0.171988  0.055551   \n",
       "39 -0.476652 -0.710236  0.468162  0.021358 -0.273180  0.815500 -0.318551   \n",
       "40  0.045408 -0.675600  0.283750  0.143823 -0.028566  1.434858  0.212313   \n",
       "41  0.233234 -0.417394  0.477265  0.258775  0.156054  0.786017 -0.884349   \n",
       "42  0.134683 -0.008124  0.491946  0.307941 -0.136811  0.809477 -1.230596   \n",
       "43  0.700000  0.600000  0.400000  0.300000  0.200000  1.200000  1.000000   \n",
       "44  0.700000  0.600000  0.400000  0.300000  0.200000  1.000000  0.900000   \n",
       "45  0.535967  0.435967  0.500000  0.400000  0.300000  1.072711  0.972711   \n",
       "46  0.536000  0.436000  0.500000  0.400000  0.300000  1.073000  0.973000   \n",
       "\n",
       "      x_r2_2  \n",
       "0  -0.861944  \n",
       "1  -0.731557  \n",
       "2  -0.101379  \n",
       "3  -1.496787  \n",
       "4  -0.587413  \n",
       "5  -0.271007  \n",
       "6  -1.181672  \n",
       "7  -1.358825  \n",
       "8  -1.444941  \n",
       "9  -1.392847  \n",
       "10 -1.393676  \n",
       "11 -0.705980  \n",
       "12 -0.333767  \n",
       "13 -1.338568  \n",
       "14 -1.415763  \n",
       "15 -0.460352  \n",
       "16 -1.038258  \n",
       "17 -0.490468  \n",
       "18 -0.752519  \n",
       "19 -0.788398  \n",
       "20 -1.380677  \n",
       "21 -1.090867  \n",
       "22 -1.090172  \n",
       "23  0.853437  \n",
       "24 -1.328766  \n",
       "25  0.439591  \n",
       "26 -0.613600  \n",
       "27  0.123602  \n",
       "28 -1.240542  \n",
       "29 -1.224279  \n",
       "30 -1.223584  \n",
       "31 -1.394528  \n",
       "32 -1.495501  \n",
       "33 -0.579734  \n",
       "34 -0.638365  \n",
       "35 -1.445657  \n",
       "36 -0.126463  \n",
       "37 -1.046020  \n",
       "38 -1.366187  \n",
       "39 -1.151427  \n",
       "40 -0.470594  \n",
       "41 -1.143639  \n",
       "42 -1.500000  \n",
       "43  0.800000  \n",
       "44  0.800000  \n",
       "45  0.872711  \n",
       "46  0.873000  \n",
       "\n",
       "[47 rows x 27 columns]"
      ]
     },
     "execution_count": 20,
     "metadata": {},
     "output_type": "execute_result"
    }
   ],
   "source": [
    "Tag_client.generation_strategy.trials_as_df"
   ]
  },
  {
   "cell_type": "code",
   "execution_count": 21,
   "metadata": {},
   "outputs": [
    {
     "data": {
      "application/vnd.plotly.v1+json": {
       "config": {
        "linkText": "Export to plot.ly",
        "plotlyServerURL": "https://plot.ly",
        "showLink": false
       },
       "data": [
        {
         "hoverinfo": "none",
         "legendgroup": "",
         "line": {
          "width": 0
         },
         "mode": "lines",
         "showlegend": false,
         "type": "scatter",
         "x": {
          "bdata": "AQIDBAUGBwgJCgsMDQ4PEBESExQVFhcYGRobHB0eHyAhIiMkJSYnKCkqKywtLi8=",
          "dtype": "i1"
         },
         "y": {
          "bdata": "AAAAAAAAFEAAAAAAAAAwQAAAAAAAADBAAAAAAAAANEAAAAAAAAA0QAAAAAAAADRAAAAAAAAANEAAAAAAAAA0QAAAAAAAADRAAAAAAAAANEAAAAAAAAA0QAAAAAAAADRAAAAAAAAANEAAAAAAAAA0QAAAAAAAADRAAAAAAAAANEAAAAAAAAA0QAAAAAAAADRAAAAAAAAANEAAAAAAAAA0QAAAAAAAADRAAAAAAAAANEAAAAAAAAA0QAAAAAAAADRAAAAAAAAANEAAAAAAAAA0QAAAAAAAADRAAAAAAAAANEAAAAAAAAA0QAAAAAAAADRAAAAAAAAANEAAAAAAAAA0QAAAAAAAADRAAAAAAAAANEAAAAAAAAA0QAAAAAAAADdAAAAAAAAAN0AAAAAAAAA3QAAAAAAAADdAAAAAAAAAN0AAAAAAAAA3QAAAAAAAADdAAAAAAAAAOkAAAAAAAAA+QAAAAAAAwFNAAAAAAACAVkAAAAAAAIBWQA==",
          "dtype": "f8"
         }
        },
        {
         "fill": "tonexty",
         "fillcolor": "rgba(128,177,211,0.3)",
         "legendgroup": "objective value",
         "line": {
          "color": "rgba(128,177,211,1)"
         },
         "mode": "lines",
         "name": "objective value",
         "text": [
          "Parameterization has too many items to render on hover (21).",
          "Parameterization has too many items to render on hover (21).",
          "Parameterization has too many items to render on hover (21).",
          "Parameterization has too many items to render on hover (21).",
          "Parameterization has too many items to render on hover (21).",
          "Parameterization has too many items to render on hover (21).",
          "Parameterization has too many items to render on hover (21).",
          "Parameterization has too many items to render on hover (21).",
          "Parameterization has too many items to render on hover (21).",
          "Parameterization has too many items to render on hover (21).",
          "Parameterization has too many items to render on hover (21).",
          "Parameterization has too many items to render on hover (21).",
          "Parameterization has too many items to render on hover (21).",
          "Parameterization has too many items to render on hover (21).",
          "Parameterization has too many items to render on hover (21).",
          "Parameterization has too many items to render on hover (21).",
          "Parameterization has too many items to render on hover (21).",
          "Parameterization has too many items to render on hover (21).",
          "Parameterization has too many items to render on hover (21).",
          "Parameterization has too many items to render on hover (21).",
          "Parameterization has too many items to render on hover (21).",
          "Parameterization has too many items to render on hover (21).",
          "Parameterization has too many items to render on hover (21).",
          "Parameterization has too many items to render on hover (21).",
          "Parameterization has too many items to render on hover (21).",
          "Parameterization has too many items to render on hover (21).",
          "Parameterization has too many items to render on hover (21).",
          "Parameterization has too many items to render on hover (21).",
          "Parameterization has too many items to render on hover (21).",
          "Parameterization has too many items to render on hover (21).",
          "Parameterization has too many items to render on hover (21).",
          "Parameterization has too many items to render on hover (21).",
          "Parameterization has too many items to render on hover (21).",
          "Parameterization has too many items to render on hover (21).",
          "Parameterization has too many items to render on hover (21).",
          "Parameterization has too many items to render on hover (21).",
          "Parameterization has too many items to render on hover (21).",
          "Parameterization has too many items to render on hover (21).",
          "Parameterization has too many items to render on hover (21).",
          "Parameterization has too many items to render on hover (21).",
          "Parameterization has too many items to render on hover (21).",
          "Parameterization has too many items to render on hover (21).",
          "Parameterization has too many items to render on hover (21).",
          "Parameterization has too many items to render on hover (21).",
          "Parameterization has too many items to render on hover (21).",
          "Parameterization has too many items to render on hover (21).",
          "Parameterization has too many items to render on hover (21)."
         ],
         "type": "scatter",
         "x": {
          "bdata": "AQIDBAUGBwgJCgsMDQ4PEBESExQVFhcYGRobHB0eHyAhIiMkJSYnKCkqKywtLi8=",
          "dtype": "i1"
         },
         "y": {
          "bdata": "AAAAAAAAFEAAAAAAAAAwQAAAAAAAADBAAAAAAAAANEAAAAAAAAA0QAAAAAAAADRAAAAAAAAANEAAAAAAAAA0QAAAAAAAADRAAAAAAAAANEAAAAAAAAA0QAAAAAAAADRAAAAAAAAANEAAAAAAAAA0QAAAAAAAADRAAAAAAAAANEAAAAAAAAA0QAAAAAAAADRAAAAAAAAANEAAAAAAAAA0QAAAAAAAADRAAAAAAAAANEAAAAAAAAA0QAAAAAAAADRAAAAAAAAANEAAAAAAAAA0QAAAAAAAADRAAAAAAAAANEAAAAAAAAA0QAAAAAAAADRAAAAAAAAANEAAAAAAAAA0QAAAAAAAADRAAAAAAAAANEAAAAAAAAA0QAAAAAAAADdAAAAAAAAAN0AAAAAAAAA3QAAAAAAAADdAAAAAAAAAN0AAAAAAAAA3QAAAAAAAADdAAAAAAAAAOkAAAAAAAAA+QAAAAAAAwFNAAAAAAACAVkAAAAAAAIBWQA==",
          "dtype": "f8"
         }
        },
        {
         "fill": "tonexty",
         "fillcolor": "rgba(128,177,211,0.3)",
         "hoverinfo": "none",
         "legendgroup": "",
         "line": {
          "width": 0
         },
         "mode": "lines",
         "showlegend": false,
         "type": "scatter",
         "x": {
          "bdata": "AQIDBAUGBwgJCgsMDQ4PEBESExQVFhcYGRobHB0eHyAhIiMkJSYnKCkqKywtLi8=",
          "dtype": "i1"
         },
         "y": {
          "bdata": "AAAAAAAAFEAAAAAAAAAwQAAAAAAAADBAAAAAAAAANEAAAAAAAAA0QAAAAAAAADRAAAAAAAAANEAAAAAAAAA0QAAAAAAAADRAAAAAAAAANEAAAAAAAAA0QAAAAAAAADRAAAAAAAAANEAAAAAAAAA0QAAAAAAAADRAAAAAAAAANEAAAAAAAAA0QAAAAAAAADRAAAAAAAAANEAAAAAAAAA0QAAAAAAAADRAAAAAAAAANEAAAAAAAAA0QAAAAAAAADRAAAAAAAAANEAAAAAAAAA0QAAAAAAAADRAAAAAAAAANEAAAAAAAAA0QAAAAAAAADRAAAAAAAAANEAAAAAAAAA0QAAAAAAAADRAAAAAAAAANEAAAAAAAAA0QAAAAAAAADdAAAAAAAAAN0AAAAAAAAA3QAAAAAAAADdAAAAAAAAAN0AAAAAAAAA3QAAAAAAAADdAAAAAAAAAOkAAAAAAAAA+QAAAAAAAwFNAAAAAAACAVkAAAAAAAIBWQA==",
          "dtype": "f8"
         }
        }
       ],
       "layout": {
        "showlegend": true,
        "template": {
         "data": {
          "bar": [
           {
            "error_x": {
             "color": "#2a3f5f"
            },
            "error_y": {
             "color": "#2a3f5f"
            },
            "marker": {
             "line": {
              "color": "#E5ECF6",
              "width": 0.5
             },
             "pattern": {
              "fillmode": "overlay",
              "size": 10,
              "solidity": 0.2
             }
            },
            "type": "bar"
           }
          ],
          "barpolar": [
           {
            "marker": {
             "line": {
              "color": "#E5ECF6",
              "width": 0.5
             },
             "pattern": {
              "fillmode": "overlay",
              "size": 10,
              "solidity": 0.2
             }
            },
            "type": "barpolar"
           }
          ],
          "carpet": [
           {
            "aaxis": {
             "endlinecolor": "#2a3f5f",
             "gridcolor": "white",
             "linecolor": "white",
             "minorgridcolor": "white",
             "startlinecolor": "#2a3f5f"
            },
            "baxis": {
             "endlinecolor": "#2a3f5f",
             "gridcolor": "white",
             "linecolor": "white",
             "minorgridcolor": "white",
             "startlinecolor": "#2a3f5f"
            },
            "type": "carpet"
           }
          ],
          "choropleth": [
           {
            "colorbar": {
             "outlinewidth": 0,
             "ticks": ""
            },
            "type": "choropleth"
           }
          ],
          "contour": [
           {
            "colorbar": {
             "outlinewidth": 0,
             "ticks": ""
            },
            "colorscale": [
             [
              0,
              "#0d0887"
             ],
             [
              0.1111111111111111,
              "#46039f"
             ],
             [
              0.2222222222222222,
              "#7201a8"
             ],
             [
              0.3333333333333333,
              "#9c179e"
             ],
             [
              0.4444444444444444,
              "#bd3786"
             ],
             [
              0.5555555555555556,
              "#d8576b"
             ],
             [
              0.6666666666666666,
              "#ed7953"
             ],
             [
              0.7777777777777778,
              "#fb9f3a"
             ],
             [
              0.8888888888888888,
              "#fdca26"
             ],
             [
              1,
              "#f0f921"
             ]
            ],
            "type": "contour"
           }
          ],
          "contourcarpet": [
           {
            "colorbar": {
             "outlinewidth": 0,
             "ticks": ""
            },
            "type": "contourcarpet"
           }
          ],
          "heatmap": [
           {
            "colorbar": {
             "outlinewidth": 0,
             "ticks": ""
            },
            "colorscale": [
             [
              0,
              "#0d0887"
             ],
             [
              0.1111111111111111,
              "#46039f"
             ],
             [
              0.2222222222222222,
              "#7201a8"
             ],
             [
              0.3333333333333333,
              "#9c179e"
             ],
             [
              0.4444444444444444,
              "#bd3786"
             ],
             [
              0.5555555555555556,
              "#d8576b"
             ],
             [
              0.6666666666666666,
              "#ed7953"
             ],
             [
              0.7777777777777778,
              "#fb9f3a"
             ],
             [
              0.8888888888888888,
              "#fdca26"
             ],
             [
              1,
              "#f0f921"
             ]
            ],
            "type": "heatmap"
           }
          ],
          "histogram": [
           {
            "marker": {
             "pattern": {
              "fillmode": "overlay",
              "size": 10,
              "solidity": 0.2
             }
            },
            "type": "histogram"
           }
          ],
          "histogram2d": [
           {
            "colorbar": {
             "outlinewidth": 0,
             "ticks": ""
            },
            "colorscale": [
             [
              0,
              "#0d0887"
             ],
             [
              0.1111111111111111,
              "#46039f"
             ],
             [
              0.2222222222222222,
              "#7201a8"
             ],
             [
              0.3333333333333333,
              "#9c179e"
             ],
             [
              0.4444444444444444,
              "#bd3786"
             ],
             [
              0.5555555555555556,
              "#d8576b"
             ],
             [
              0.6666666666666666,
              "#ed7953"
             ],
             [
              0.7777777777777778,
              "#fb9f3a"
             ],
             [
              0.8888888888888888,
              "#fdca26"
             ],
             [
              1,
              "#f0f921"
             ]
            ],
            "type": "histogram2d"
           }
          ],
          "histogram2dcontour": [
           {
            "colorbar": {
             "outlinewidth": 0,
             "ticks": ""
            },
            "colorscale": [
             [
              0,
              "#0d0887"
             ],
             [
              0.1111111111111111,
              "#46039f"
             ],
             [
              0.2222222222222222,
              "#7201a8"
             ],
             [
              0.3333333333333333,
              "#9c179e"
             ],
             [
              0.4444444444444444,
              "#bd3786"
             ],
             [
              0.5555555555555556,
              "#d8576b"
             ],
             [
              0.6666666666666666,
              "#ed7953"
             ],
             [
              0.7777777777777778,
              "#fb9f3a"
             ],
             [
              0.8888888888888888,
              "#fdca26"
             ],
             [
              1,
              "#f0f921"
             ]
            ],
            "type": "histogram2dcontour"
           }
          ],
          "mesh3d": [
           {
            "colorbar": {
             "outlinewidth": 0,
             "ticks": ""
            },
            "type": "mesh3d"
           }
          ],
          "parcoords": [
           {
            "line": {
             "colorbar": {
              "outlinewidth": 0,
              "ticks": ""
             }
            },
            "type": "parcoords"
           }
          ],
          "pie": [
           {
            "automargin": true,
            "type": "pie"
           }
          ],
          "scatter": [
           {
            "fillpattern": {
             "fillmode": "overlay",
             "size": 10,
             "solidity": 0.2
            },
            "type": "scatter"
           }
          ],
          "scatter3d": [
           {
            "line": {
             "colorbar": {
              "outlinewidth": 0,
              "ticks": ""
             }
            },
            "marker": {
             "colorbar": {
              "outlinewidth": 0,
              "ticks": ""
             }
            },
            "type": "scatter3d"
           }
          ],
          "scattercarpet": [
           {
            "marker": {
             "colorbar": {
              "outlinewidth": 0,
              "ticks": ""
             }
            },
            "type": "scattercarpet"
           }
          ],
          "scattergeo": [
           {
            "marker": {
             "colorbar": {
              "outlinewidth": 0,
              "ticks": ""
             }
            },
            "type": "scattergeo"
           }
          ],
          "scattergl": [
           {
            "marker": {
             "colorbar": {
              "outlinewidth": 0,
              "ticks": ""
             }
            },
            "type": "scattergl"
           }
          ],
          "scattermap": [
           {
            "marker": {
             "colorbar": {
              "outlinewidth": 0,
              "ticks": ""
             }
            },
            "type": "scattermap"
           }
          ],
          "scattermapbox": [
           {
            "marker": {
             "colorbar": {
              "outlinewidth": 0,
              "ticks": ""
             }
            },
            "type": "scattermapbox"
           }
          ],
          "scatterpolar": [
           {
            "marker": {
             "colorbar": {
              "outlinewidth": 0,
              "ticks": ""
             }
            },
            "type": "scatterpolar"
           }
          ],
          "scatterpolargl": [
           {
            "marker": {
             "colorbar": {
              "outlinewidth": 0,
              "ticks": ""
             }
            },
            "type": "scatterpolargl"
           }
          ],
          "scatterternary": [
           {
            "marker": {
             "colorbar": {
              "outlinewidth": 0,
              "ticks": ""
             }
            },
            "type": "scatterternary"
           }
          ],
          "surface": [
           {
            "colorbar": {
             "outlinewidth": 0,
             "ticks": ""
            },
            "colorscale": [
             [
              0,
              "#0d0887"
             ],
             [
              0.1111111111111111,
              "#46039f"
             ],
             [
              0.2222222222222222,
              "#7201a8"
             ],
             [
              0.3333333333333333,
              "#9c179e"
             ],
             [
              0.4444444444444444,
              "#bd3786"
             ],
             [
              0.5555555555555556,
              "#d8576b"
             ],
             [
              0.6666666666666666,
              "#ed7953"
             ],
             [
              0.7777777777777778,
              "#fb9f3a"
             ],
             [
              0.8888888888888888,
              "#fdca26"
             ],
             [
              1,
              "#f0f921"
             ]
            ],
            "type": "surface"
           }
          ],
          "table": [
           {
            "cells": {
             "fill": {
              "color": "#EBF0F8"
             },
             "line": {
              "color": "white"
             }
            },
            "header": {
             "fill": {
              "color": "#C8D4E3"
             },
             "line": {
              "color": "white"
             }
            },
            "type": "table"
           }
          ]
         },
         "layout": {
          "annotationdefaults": {
           "arrowcolor": "#2a3f5f",
           "arrowhead": 0,
           "arrowwidth": 1
          },
          "autotypenumbers": "strict",
          "coloraxis": {
           "colorbar": {
            "outlinewidth": 0,
            "ticks": ""
           }
          },
          "colorscale": {
           "diverging": [
            [
             0,
             "#8e0152"
            ],
            [
             0.1,
             "#c51b7d"
            ],
            [
             0.2,
             "#de77ae"
            ],
            [
             0.3,
             "#f1b6da"
            ],
            [
             0.4,
             "#fde0ef"
            ],
            [
             0.5,
             "#f7f7f7"
            ],
            [
             0.6,
             "#e6f5d0"
            ],
            [
             0.7,
             "#b8e186"
            ],
            [
             0.8,
             "#7fbc41"
            ],
            [
             0.9,
             "#4d9221"
            ],
            [
             1,
             "#276419"
            ]
           ],
           "sequential": [
            [
             0,
             "#0d0887"
            ],
            [
             0.1111111111111111,
             "#46039f"
            ],
            [
             0.2222222222222222,
             "#7201a8"
            ],
            [
             0.3333333333333333,
             "#9c179e"
            ],
            [
             0.4444444444444444,
             "#bd3786"
            ],
            [
             0.5555555555555556,
             "#d8576b"
            ],
            [
             0.6666666666666666,
             "#ed7953"
            ],
            [
             0.7777777777777778,
             "#fb9f3a"
            ],
            [
             0.8888888888888888,
             "#fdca26"
            ],
            [
             1,
             "#f0f921"
            ]
           ],
           "sequentialminus": [
            [
             0,
             "#0d0887"
            ],
            [
             0.1111111111111111,
             "#46039f"
            ],
            [
             0.2222222222222222,
             "#7201a8"
            ],
            [
             0.3333333333333333,
             "#9c179e"
            ],
            [
             0.4444444444444444,
             "#bd3786"
            ],
            [
             0.5555555555555556,
             "#d8576b"
            ],
            [
             0.6666666666666666,
             "#ed7953"
            ],
            [
             0.7777777777777778,
             "#fb9f3a"
            ],
            [
             0.8888888888888888,
             "#fdca26"
            ],
            [
             1,
             "#f0f921"
            ]
           ]
          },
          "colorway": [
           "#636efa",
           "#EF553B",
           "#00cc96",
           "#ab63fa",
           "#FFA15A",
           "#19d3f3",
           "#FF6692",
           "#B6E880",
           "#FF97FF",
           "#FECB52"
          ],
          "font": {
           "color": "#2a3f5f"
          },
          "geo": {
           "bgcolor": "white",
           "lakecolor": "white",
           "landcolor": "#E5ECF6",
           "showlakes": true,
           "showland": true,
           "subunitcolor": "white"
          },
          "hoverlabel": {
           "align": "left"
          },
          "hovermode": "closest",
          "mapbox": {
           "style": "light"
          },
          "paper_bgcolor": "white",
          "plot_bgcolor": "#E5ECF6",
          "polar": {
           "angularaxis": {
            "gridcolor": "white",
            "linecolor": "white",
            "ticks": ""
           },
           "bgcolor": "#E5ECF6",
           "radialaxis": {
            "gridcolor": "white",
            "linecolor": "white",
            "ticks": ""
           }
          },
          "scene": {
           "xaxis": {
            "backgroundcolor": "#E5ECF6",
            "gridcolor": "white",
            "gridwidth": 2,
            "linecolor": "white",
            "showbackground": true,
            "ticks": "",
            "zerolinecolor": "white"
           },
           "yaxis": {
            "backgroundcolor": "#E5ECF6",
            "gridcolor": "white",
            "gridwidth": 2,
            "linecolor": "white",
            "showbackground": true,
            "ticks": "",
            "zerolinecolor": "white"
           },
           "zaxis": {
            "backgroundcolor": "#E5ECF6",
            "gridcolor": "white",
            "gridwidth": 2,
            "linecolor": "white",
            "showbackground": true,
            "ticks": "",
            "zerolinecolor": "white"
           }
          },
          "shapedefaults": {
           "line": {
            "color": "#2a3f5f"
           }
          },
          "ternary": {
           "aaxis": {
            "gridcolor": "white",
            "linecolor": "white",
            "ticks": ""
           },
           "baxis": {
            "gridcolor": "white",
            "linecolor": "white",
            "ticks": ""
           },
           "bgcolor": "#E5ECF6",
           "caxis": {
            "gridcolor": "white",
            "linecolor": "white",
            "ticks": ""
           }
          },
          "title": {
           "x": 0.05
          },
          "xaxis": {
           "automargin": true,
           "gridcolor": "white",
           "linecolor": "white",
           "ticks": "",
           "title": {
            "standoff": 15
           },
           "zerolinecolor": "white",
           "zerolinewidth": 2
          },
          "yaxis": {
           "automargin": true,
           "gridcolor": "white",
           "linecolor": "white",
           "ticks": "",
           "title": {
            "standoff": 15
           },
           "zerolinecolor": "white",
           "zerolinewidth": 2
          }
         }
        },
        "title": {
         "text": "Best objective found vs. # of iterations"
        },
        "xaxis": {
         "title": {
          "text": "Iteration"
         }
        },
        "yaxis": {
         "title": {
          "text": "Viable_cross_terms"
         }
        }
       }
      }
     },
     "metadata": {},
     "output_type": "display_data"
    }
   ],
   "source": [
    "render(Tag_client.get_optimization_trace())"
   ]
  },
  {
   "cell_type": "code",
   "execution_count": 22,
   "metadata": {},
   "outputs": [
    {
     "name": "stderr",
     "output_type": "stream",
     "text": [
      "[INFO 04-05 13:46:08] ax.service.ax_client: Generated new trial 47 with parameters {'z_sh': 7, 'z_sh_1': 6, 'z_sh_2': 5, 'z_p2': 27, 'z_p2_1': 26, 'z_p2_2': 33, 'z_r2': 78, 'z_r2_1': 71, 'z_r2_2': 70, 'x_s': 0.5, 'x_s_1': 0.4, 'x_s_2': 0.3, 'x_p1': 0.659814, 'x_p1_1': 0.559814, 'x_p1_2': 0.459814, 'x_p2': 0.5, 'x_p2_1': 0.4, 'x_p2_2': 0.3, 'x_r2': 1.458836, 'x_r2_1': 1.358836, 'x_r2_2': 1.258836} using model BoTorch.\n",
      "[INFO 04-05 13:46:08] ax.service.ax_client: Completed trial 47 with data: {'Viable_Cross_Terms': (0, None)}.\n",
      "[INFO 04-05 13:46:26] ax.service.ax_client: Generated new trial 48 with parameters {'z_sh': 15, 'z_sh_1': 11, 'z_sh_2': 5, 'z_p2': 35, 'z_p2_1': 34, 'z_p2_2': 25, 'z_r2': 86, 'z_r2_1': 71, 'z_r2_2': 70, 'x_s': 0.5, 'x_s_1': -0.4, 'x_s_2': -0.5, 'x_p1': 1.0, 'x_p1_1': 0.9, 'x_p1_2': 0.8, 'x_p2': 0.5, 'x_p2_1': 0.4, 'x_p2_2': -0.102365, 'x_r2': 1.162948, 'x_r2_1': -1.4, 'x_r2_2': -1.5} using model BoTorch.\n",
      "[INFO 04-05 13:46:26] ax.service.ax_client: Completed trial 48 with data: {'Viable_Cross_Terms': (0, None)}.\n",
      "[INFO 04-05 13:46:46] ax.service.ax_client: Generated new trial 49 with parameters {'z_sh': 7, 'z_sh_1': 13, 'z_sh_2': 5, 'z_p2': 29, 'z_p2_1': 30, 'z_p2_2': 31, 'z_r2': 84, 'z_r2_1': 74, 'z_r2_2': 77, 'x_s': 0.5, 'x_s_1': 0.4, 'x_s_2': 0.3, 'x_p1': 0.566527, 'x_p1_1': 0.466527, 'x_p1_2': 0.366527, 'x_p2': 0.5, 'x_p2_1': 0.4, 'x_p2_2': 0.3, 'x_r2': 1.102191, 'x_r2_1': 1.002191, 'x_r2_2': 0.902191} using model BoTorch.\n",
      "[INFO 04-05 13:46:46] ax.service.ax_client: Completed trial 49 with data: {'Viable_Cross_Terms': (29, None)}.\n",
      "[INFO 04-05 13:47:05] ax.service.ax_client: Generated new trial 50 with parameters {'z_sh': 9, 'z_sh_1': 6, 'z_sh_2': 6, 'z_p2': 34, 'z_p2_1': 29, 'z_p2_2': 31, 'z_r2': 82, 'z_r2_1': 73, 'z_r2_2': 80, 'x_s': 0.5, 'x_s_1': 0.4, 'x_s_2': 0.3, 'x_p1': 0.664457, 'x_p1_1': 0.564457, 'x_p1_2': 0.464457, 'x_p2': 0.5, 'x_p2_1': 0.4, 'x_p2_2': 0.3, 'x_r2': 1.299321, 'x_r2_1': 1.199321, 'x_r2_2': 1.099321} using model BoTorch.\n",
      "[INFO 04-05 13:47:05] ax.service.ax_client: Completed trial 50 with data: {'Viable_Cross_Terms': (5, None)}.\n",
      "[INFO 04-05 13:47:22] ax.service.ax_client: Generated new trial 51 with parameters {'z_sh': 14, 'z_sh_1': 11, 'z_sh_2': 11, 'z_p2': 35, 'z_p2_1': 33, 'z_p2_2': 31, 'z_r2': 84, 'z_r2_1': 79, 'z_r2_2': 77, 'x_s': 0.5, 'x_s_1': -0.4, 'x_s_2': -0.5, 'x_p1': -0.8, 'x_p1_1': -0.9, 'x_p1_2': -1.0, 'x_p2': -0.3, 'x_p2_1': -0.4, 'x_p2_2': -0.5, 'x_r2': 1.5, 'x_r2_1': 1.4, 'x_r2_2': 1.3} using model BoTorch.\n",
      "[INFO 04-05 13:47:22] ax.service.ax_client: Completed trial 51 with data: {'Viable_Cross_Terms': (0, None)}.\n",
      "[INFO 04-05 13:47:39] ax.service.ax_client: Generated new trial 52 with parameters {'z_sh': 7, 'z_sh_1': 7, 'z_sh_2': 9, 'z_p2': 35, 'z_p2_1': 27, 'z_p2_2': 26, 'z_r2': 79, 'z_r2_1': 72, 'z_r2_2': 82, 'x_s': 0.5, 'x_s_1': 0.056871, 'x_s_2': -0.043129, 'x_p1': 0.107947, 'x_p1_1': 0.007947, 'x_p1_2': -0.092053, 'x_p2': 0.5, 'x_p2_1': 0.4, 'x_p2_2': 0.3, 'x_r2': 0.167145, 'x_r2_1': -1.375307, 'x_r2_2': -1.5} using model BoTorch.\n",
      "[INFO 04-05 13:47:39] ax.service.ax_client: Completed trial 52 with data: {'Viable_Cross_Terms': (10, None)}.\n",
      "[INFO 04-05 13:47:54] ax.service.ax_client: Generated new trial 53 with parameters {'z_sh': 14, 'z_sh_1': 7, 'z_sh_2': 7, 'z_p2': 27, 'z_p2_1': 32, 'z_p2_2': 31, 'z_r2': 84, 'z_r2_1': 75, 'z_r2_2': 77, 'x_s': 0.5, 'x_s_1': 0.4, 'x_s_2': 0.3, 'x_p1': 0.677908, 'x_p1_1': 0.577908, 'x_p1_2': 0.477908, 'x_p2': 0.5, 'x_p2_1': 0.4, 'x_p2_2': 0.3, 'x_r2': 1.179881, 'x_r2_1': 1.079881, 'x_r2_2': 0.979881} using model BoTorch.\n",
      "[INFO 04-05 13:47:54] ax.service.ax_client: Completed trial 53 with data: {'Viable_Cross_Terms': (21, None)}.\n",
      "[INFO 04-05 13:48:09] ax.service.ax_client: Generated new trial 54 with parameters {'z_sh': 8, 'z_sh_1': 11, 'z_sh_2': 9, 'z_p2': 27, 'z_p2_1': 28, 'z_p2_2': 30, 'z_r2': 80, 'z_r2_1': 75, 'z_r2_2': 82, 'x_s': 0.5, 'x_s_1': 0.4, 'x_s_2': 0.3, 'x_p1': 0.935307, 'x_p1_1': 0.835307, 'x_p1_2': 0.735307, 'x_p2': 0.5, 'x_p2_1': 0.4, 'x_p2_2': 0.3, 'x_r2': 1.378934, 'x_r2_1': 1.278934, 'x_r2_2': 1.178934} using model BoTorch.\n",
      "[INFO 04-05 13:48:09] ax.service.ax_client: Completed trial 54 with data: {'Viable_Cross_Terms': (0, None)}.\n",
      "[INFO 04-05 13:48:27] ax.service.ax_client: Generated new trial 55 with parameters {'z_sh': 7, 'z_sh_1': 6, 'z_sh_2': 5, 'z_p2': 29, 'z_p2_1': 30, 'z_p2_2': 31, 'z_r2': 74, 'z_r2_1': 81, 'z_r2_2': 81, 'x_s': 0.5, 'x_s_1': 0.4, 'x_s_2': 0.3, 'x_p1': 0.702481, 'x_p1_1': 0.602481, 'x_p1_2': 0.502481, 'x_p2': 0.480126, 'x_p2_1': 0.380126, 'x_p2_2': 0.280126, 'x_r2': 1.040362, 'x_r2_1': 0.940362, 'x_r2_2': 0.840362} using model BoTorch.\n",
      "[INFO 04-05 13:48:27] ax.service.ax_client: Completed trial 55 with data: {'Viable_Cross_Terms': (40, None)}.\n",
      "[INFO 04-05 13:48:45] ax.service.ax_client: Generated new trial 56 with parameters {'z_sh': 10, 'z_sh_1': 11, 'z_sh_2': 10, 'z_p2': 31, 'z_p2_1': 34, 'z_p2_2': 30, 'z_r2': 78, 'z_r2_1': 83, 'z_r2_2': 73, 'x_s': 0.5, 'x_s_1': 0.4, 'x_s_2': 0.3, 'x_p1': 0.858713, 'x_p1_1': 0.758713, 'x_p1_2': 0.658713, 'x_p2': 0.5, 'x_p2_1': 0.4, 'x_p2_2': 0.3, 'x_r2': 1.5, 'x_r2_1': 1.4, 'x_r2_2': 1.063204} using model BoTorch.\n",
      "[INFO 04-05 13:48:45] ax.service.ax_client: Completed trial 56 with data: {'Viable_Cross_Terms': (13, None)}.\n",
      "[INFO 04-05 13:49:02] ax.service.ax_client: Generated new trial 57 with parameters {'z_sh': 10, 'z_sh_1': 8, 'z_sh_2': 5, 'z_p2': 27, 'z_p2_1': 30, 'z_p2_2': 27, 'z_r2': 80, 'z_r2_1': 74, 'z_r2_2': 83, 'x_s': 0.5, 'x_s_1': 0.4, 'x_s_2': 0.3, 'x_p1': 0.832303, 'x_p1_1': 0.732303, 'x_p1_2': 0.632303, 'x_p2': 0.37533, 'x_p2_1': 0.27533, 'x_p2_2': 0.16701, 'x_r2': 0.913862, 'x_r2_1': 0.813862, 'x_r2_2': 0.713862} using model BoTorch.\n",
      "[INFO 04-05 13:49:02] ax.service.ax_client: Completed trial 57 with data: {'Viable_Cross_Terms': (54, None)}.\n",
      "[INFO 04-05 13:49:17] ax.service.ax_client: Generated new trial 58 with parameters {'z_sh': 10, 'z_sh_1': 8, 'z_sh_2': 5, 'z_p2': 27, 'z_p2_1': 33, 'z_p2_2': 31, 'z_r2': 76, 'z_r2_1': 72, 'z_r2_2': 82, 'x_s': 0.5, 'x_s_1': 0.4, 'x_s_2': 0.3, 'x_p1': 0.838179, 'x_p1_1': 0.738179, 'x_p1_2': 0.638179, 'x_p2': 0.371996, 'x_p2_1': 0.271996, 'x_p2_2': 0.160663, 'x_r2': 0.93601, 'x_r2_1': 0.83601, 'x_r2_2': 0.73601} using model BoTorch.\n",
      "[INFO 04-05 13:49:17] ax.service.ax_client: Completed trial 58 with data: {'Viable_Cross_Terms': (30, None)}.\n",
      "[INFO 04-05 13:49:34] ax.service.ax_client: Generated new trial 59 with parameters {'z_sh': 7, 'z_sh_1': 9, 'z_sh_2': 8, 'z_p2': 30, 'z_p2_1': 28, 'z_p2_2': 32, 'z_r2': 77, 'z_r2_1': 75, 'z_r2_2': 78, 'x_s': 0.5, 'x_s_1': 0.393737, 'x_s_2': 0.293737, 'x_p1': 0.67765, 'x_p1_1': 0.57765, 'x_p1_2': 0.47765, 'x_p2': 0.5, 'x_p2_1': 0.4, 'x_p2_2': 0.3, 'x_r2': 1.171832, 'x_r2_1': 1.071832, 'x_r2_2': 0.959887} using model BoTorch.\n",
      "[INFO 04-05 13:49:34] ax.service.ax_client: Completed trial 59 with data: {'Viable_Cross_Terms': (24, None)}.\n",
      "[INFO 04-05 13:49:51] ax.service.ax_client: Generated new trial 60 with parameters {'z_sh': 11, 'z_sh_1': 10, 'z_sh_2': 5, 'z_p2': 35, 'z_p2_1': 31, 'z_p2_2': 26, 'z_r2': 83, 'z_r2_1': 78, 'z_r2_2': 70, 'x_s': 0.5, 'x_s_1': -0.4, 'x_s_2': -0.5, 'x_p1': -0.61423, 'x_p1_1': -0.71423, 'x_p1_2': -0.81423, 'x_p2': 0.5, 'x_p2_1': 0.4, 'x_p2_2': 0.3, 'x_r2': 0.511222, 'x_r2_1': -1.4, 'x_r2_2': -1.5} using model BoTorch.\n",
      "[INFO 04-05 13:49:51] ax.service.ax_client: Completed trial 60 with data: {'Viable_Cross_Terms': (7, None)}.\n",
      "[INFO 04-05 13:50:07] ax.service.ax_client: Generated new trial 61 with parameters {'z_sh': 10, 'z_sh_1': 6, 'z_sh_2': 5, 'z_p2': 29, 'z_p2_1': 31, 'z_p2_2': 31, 'z_r2': 73, 'z_r2_1': 75, 'z_r2_2': 83, 'x_s': 0.5, 'x_s_1': 0.4, 'x_s_2': 0.3, 'x_p1': 0.848764, 'x_p1_1': 0.748764, 'x_p1_2': 0.648764, 'x_p2': 0.486507, 'x_p2_1': 0.386507, 'x_p2_2': 0.286507, 'x_r2': 1.025819, 'x_r2_1': 0.925819, 'x_r2_2': 0.825819} using model BoTorch.\n",
      "[INFO 04-05 13:50:07] ax.service.ax_client: Completed trial 61 with data: {'Viable_Cross_Terms': (26, None)}.\n",
      "[INFO 04-05 13:50:23] ax.service.ax_client: Generated new trial 62 with parameters {'z_sh': 10, 'z_sh_1': 9, 'z_sh_2': 5, 'z_p2': 29, 'z_p2_1': 27, 'z_p2_2': 31, 'z_r2': 85, 'z_r2_1': 76, 'z_r2_2': 81, 'x_s': 0.5, 'x_s_1': 0.4, 'x_s_2': 0.3, 'x_p1': 0.685853, 'x_p1_1': 0.585853, 'x_p1_2': 0.485853, 'x_p2': 0.5, 'x_p2_1': 0.4, 'x_p2_2': 0.3, 'x_r2': 1.077962, 'x_r2_1': 0.977962, 'x_r2_2': 0.877962} using model BoTorch.\n",
      "[INFO 04-05 13:50:23] ax.service.ax_client: Completed trial 62 with data: {'Viable_Cross_Terms': (36, None)}.\n",
      "[INFO 04-05 13:50:39] ax.service.ax_client: Generated new trial 63 with parameters {'z_sh': 12, 'z_sh_1': 6, 'z_sh_2': 11, 'z_p2': 27, 'z_p2_1': 29, 'z_p2_2': 28, 'z_r2': 80, 'z_r2_1': 81, 'z_r2_2': 75, 'x_s': 0.5, 'x_s_1': 0.4, 'x_s_2': 0.3, 'x_p1': 0.859922, 'x_p1_1': 0.759922, 'x_p1_2': 0.659922, 'x_p2': 0.375007, 'x_p2_1': 0.275007, 'x_p2_2': 0.172288, 'x_r2': 0.984962, 'x_r2_1': 0.884962, 'x_r2_2': 0.784962} using model BoTorch.\n",
      "[INFO 04-05 13:50:39] ax.service.ax_client: Completed trial 63 with data: {'Viable_Cross_Terms': (27, None)}.\n",
      "[INFO 04-05 13:50:53] ax.service.ax_client: Generated new trial 64 with parameters {'z_sh': 8, 'z_sh_1': 6, 'z_sh_2': 5, 'z_p2': 27, 'z_p2_1': 30, 'z_p2_2': 30, 'z_r2': 79, 'z_r2_1': 85, 'z_r2_2': 78, 'x_s': 0.5, 'x_s_1': 0.4, 'x_s_2': 0.3, 'x_p1': 0.919355, 'x_p1_1': 0.819355, 'x_p1_2': 0.719355, 'x_p2': 0.38443, 'x_p2_1': 0.28443, 'x_p2_2': 0.173808, 'x_r2': 1.119654, 'x_r2_1': 1.019654, 'x_r2_2': 0.919654} using model BoTorch.\n",
      "[INFO 04-05 13:50:53] ax.service.ax_client: Completed trial 64 with data: {'Viable_Cross_Terms': (34, None)}.\n",
      "[INFO 04-05 13:51:12] ax.service.ax_client: Generated new trial 65 with parameters {'z_sh': 7, 'z_sh_1': 7, 'z_sh_2': 6, 'z_p2': 29, 'z_p2_1': 27, 'z_p2_2': 28, 'z_r2': 81, 'z_r2_1': 71, 'z_r2_2': 75, 'x_s': 0.5, 'x_s_1': 0.4, 'x_s_2': 0.3, 'x_p1': 0.666488, 'x_p1_1': 0.566488, 'x_p1_2': 0.466488, 'x_p2': 0.459269, 'x_p2_1': 0.359269, 'x_p2_2': 0.259269, 'x_r2': 0.974653, 'x_r2_1': 0.874653, 'x_r2_2': 0.774653} using model BoTorch.\n",
      "[INFO 04-05 13:51:12] ax.service.ax_client: Completed trial 65 with data: {'Viable_Cross_Terms': (33, None)}.\n",
      "[INFO 04-05 13:51:35] ax.service.ax_client: Generated new trial 66 with parameters {'z_sh': 11, 'z_sh_1': 8, 'z_sh_2': 11, 'z_p2': 29, 'z_p2_1': 26, 'z_p2_2': 26, 'z_r2': 76, 'z_r2_1': 72, 'z_r2_2': 74, 'x_s': 0.5, 'x_s_1': 0.4, 'x_s_2': 0.3, 'x_p1': 0.818923, 'x_p1_1': 0.718923, 'x_p1_2': 0.618923, 'x_p2': 0.381705, 'x_p2_1': 0.281705, 'x_p2_2': 0.178756, 'x_r2': 0.931155, 'x_r2_1': 0.823698, 'x_r2_2': 0.716978} using model BoTorch.\n",
      "[INFO 04-05 13:51:35] ax.service.ax_client: Completed trial 66 with data: {'Viable_Cross_Terms': (25, None)}.\n",
      "[INFO 04-05 13:51:58] ax.service.ax_client: Generated new trial 67 with parameters {'z_sh': 14, 'z_sh_1': 14, 'z_sh_2': 10, 'z_p2': 27, 'z_p2_1': 31, 'z_p2_2': 26, 'z_r2': 81, 'z_r2_1': 77, 'z_r2_2': 81, 'x_s': 0.5, 'x_s_1': 0.4, 'x_s_2': 0.3, 'x_p1': 0.851478, 'x_p1_1': 0.751478, 'x_p1_2': 0.650878, 'x_p2': 0.309915, 'x_p2_1': 0.209915, 'x_p2_2': 0.109563, 'x_r2': 0.914542, 'x_r2_1': 0.814533, 'x_r2_2': 0.713382} using model BoTorch.\n",
      "[INFO 04-05 13:51:58] ax.service.ax_client: Completed trial 67 with data: {'Viable_Cross_Terms': (28, None)}.\n",
      "[INFO 04-05 13:52:17] ax.service.ax_client: Generated new trial 68 with parameters {'z_sh': 7, 'z_sh_1': 14, 'z_sh_2': 8, 'z_p2': 29, 'z_p2_1': 28, 'z_p2_2': 31, 'z_r2': 86, 'z_r2_1': 76, 'z_r2_2': 82, 'x_s': 0.5, 'x_s_1': 0.4, 'x_s_2': 0.3, 'x_p1': 0.674993, 'x_p1_1': 0.574993, 'x_p1_2': 0.474993, 'x_p2': 0.5, 'x_p2_1': 0.4, 'x_p2_2': 0.3, 'x_r2': 1.5, 'x_r2_1': 1.4, 'x_r2_2': 0.011757} using model BoTorch.\n",
      "[INFO 04-05 13:52:17] ax.service.ax_client: Completed trial 68 with data: {'Viable_Cross_Terms': (26, None)}.\n",
      "[INFO 04-05 13:52:34] ax.service.ax_client: Generated new trial 69 with parameters {'z_sh': 7, 'z_sh_1': 6, 'z_sh_2': 5, 'z_p2': 27, 'z_p2_1': 29, 'z_p2_2': 29, 'z_r2': 82, 'z_r2_1': 78, 'z_r2_2': 80, 'x_s': 0.5, 'x_s_1': 0.4, 'x_s_2': 0.3, 'x_p1': 0.833867, 'x_p1_1': 0.733867, 'x_p1_2': 0.63173, 'x_p2': 0.346429, 'x_p2_1': 0.246429, 'x_p2_2': 0.143802, 'x_r2': 0.972874, 'x_r2_1': 0.870883, 'x_r2_2': 0.758672} using model BoTorch.\n",
      "[INFO 04-05 13:52:34] ax.service.ax_client: Completed trial 69 with data: {'Viable_Cross_Terms': (78, None)}.\n",
      "[INFO 04-05 13:52:56] ax.service.ax_client: Generated new trial 70 with parameters {'z_sh': 10, 'z_sh_1': 12, 'z_sh_2': 8, 'z_p2': 27, 'z_p2_1': 26, 'z_p2_2': 30, 'z_r2': 75, 'z_r2_1': 75, 'z_r2_2': 82, 'x_s': 0.5, 'x_s_1': 0.4, 'x_s_2': 0.3, 'x_p1': 0.75295, 'x_p1_1': 0.65295, 'x_p1_2': 0.55295, 'x_p2': 0.36323, 'x_p2_1': 0.26323, 'x_p2_2': 0.159039, 'x_r2': 0.913856, 'x_r2_1': 0.811639, 'x_r2_2': 0.711521} using model BoTorch.\n",
      "[INFO 04-05 13:52:56] ax.service.ax_client: Completed trial 70 with data: {'Viable_Cross_Terms': (35, None)}.\n",
      "[INFO 04-05 13:53:15] ax.service.ax_client: Generated new trial 71 with parameters {'z_sh': 10, 'z_sh_1': 11, 'z_sh_2': 9, 'z_p2': 29, 'z_p2_1': 28, 'z_p2_2': 33, 'z_r2': 80, 'z_r2_1': 78, 'z_r2_2': 78, 'x_s': 0.5, 'x_s_1': 0.4, 'x_s_2': 0.3, 'x_p1': 0.594994, 'x_p1_1': 0.494994, 'x_p1_2': 0.394994, 'x_p2': 0.5, 'x_p2_1': 0.4, 'x_p2_2': 0.3, 'x_r2': 1.5, 'x_r2_1': 1.4, 'x_r2_2': -1.196083} using model BoTorch.\n",
      "[INFO 04-05 13:53:15] ax.service.ax_client: Completed trial 71 with data: {'Viable_Cross_Terms': (0, None)}.\n",
      "[INFO 04-05 13:53:32] ax.service.ax_client: Generated new trial 72 with parameters {'z_sh': 13, 'z_sh_1': 8, 'z_sh_2': 5, 'z_p2': 27, 'z_p2_1': 27, 'z_p2_2': 28, 'z_r2': 75, 'z_r2_1': 74, 'z_r2_2': 84, 'x_s': 0.5, 'x_s_1': 0.4, 'x_s_2': 0.3, 'x_p1': 0.877979, 'x_p1_1': 0.777979, 'x_p1_2': 0.677979, 'x_p2': 0.326146, 'x_p2_1': 0.226146, 'x_p2_2': 0.117781, 'x_r2': 0.889741, 'x_r2_1': 0.786903, 'x_r2_2': 0.681833} using model BoTorch.\n",
      "[INFO 04-05 13:53:32] ax.service.ax_client: Completed trial 72 with data: {'Viable_Cross_Terms': (25, None)}.\n",
      "[INFO 04-05 13:53:48] ax.service.ax_client: Generated new trial 73 with parameters {'z_sh': 7, 'z_sh_1': 10, 'z_sh_2': 10, 'z_p2': 30, 'z_p2_1': 32, 'z_p2_2': 32, 'z_r2': 75, 'z_r2_1': 77, 'z_r2_2': 70, 'x_s': 0.5, 'x_s_1': 0.4, 'x_s_2': 0.3, 'x_p1': 0.636983, 'x_p1_1': 0.536983, 'x_p1_2': 0.436983, 'x_p2': 0.5, 'x_p2_1': 0.4, 'x_p2_2': 0.3, 'x_r2': 1.079244, 'x_r2_1': 0.979244, 'x_r2_2': 0.879244} using model BoTorch.\n",
      "[INFO 04-05 13:53:48] ax.service.ax_client: Completed trial 73 with data: {'Viable_Cross_Terms': (35, None)}.\n",
      "[INFO 04-05 13:54:03] ax.service.ax_client: Generated new trial 74 with parameters {'z_sh': 9, 'z_sh_1': 10, 'z_sh_2': 10, 'z_p2': 27, 'z_p2_1': 28, 'z_p2_2': 29, 'z_r2': 83, 'z_r2_1': 84, 'z_r2_2': 77, 'x_s': 0.5, 'x_s_1': 0.4, 'x_s_2': 0.3, 'x_p1': 1.0, 'x_p1_1': 0.9, 'x_p1_2': 0.8, 'x_p2': 0.369433, 'x_p2_1': 0.269433, 'x_p2_2': 0.169433, 'x_r2': 1.005833, 'x_r2_1': 0.905833, 'x_r2_2': 0.805761} using model BoTorch.\n",
      "[INFO 04-05 13:54:03] ax.service.ax_client: Completed trial 74 with data: {'Viable_Cross_Terms': (22, None)}.\n",
      "[INFO 04-05 13:54:19] ax.service.ax_client: Generated new trial 75 with parameters {'z_sh': 7, 'z_sh_1': 10, 'z_sh_2': 9, 'z_p2': 30, 'z_p2_1': 31, 'z_p2_2': 32, 'z_r2': 85, 'z_r2_1': 76, 'z_r2_2': 82, 'x_s': 0.5, 'x_s_1': 0.4, 'x_s_2': 0.157656, 'x_p1': 0.767686, 'x_p1_1': 0.191062, 'x_p1_2': -0.041735, 'x_p2': 0.40952, 'x_p2_1': 0.266116, 'x_p2_2': 0.166116, 'x_r2': 1.45991, 'x_r2_1': 1.336299, 'x_r2_2': -0.20115} using model BoTorch.\n",
      "[INFO 04-05 13:54:19] ax.service.ax_client: Completed trial 75 with data: {'Viable_Cross_Terms': (3, None)}.\n",
      "[INFO 04-05 13:54:36] ax.service.ax_client: Generated new trial 76 with parameters {'z_sh': 12, 'z_sh_1': 11, 'z_sh_2': 7, 'z_p2': 27, 'z_p2_1': 30, 'z_p2_2': 26, 'z_r2': 86, 'z_r2_1': 81, 'z_r2_2': 78, 'x_s': 0.5, 'x_s_1': 0.4, 'x_s_2': 0.3, 'x_p1': 0.378603, 'x_p1_1': 0.278603, 'x_p1_2': 0.178603, 'x_p2': 0.424484, 'x_p2_1': 0.324484, 'x_p2_2': 0.224484, 'x_r2': 1.050989, 'x_r2_1': 0.950989, 'x_r2_2': 0.794251} using model BoTorch.\n",
      "[INFO 04-05 13:54:36] ax.service.ax_client: Completed trial 76 with data: {'Viable_Cross_Terms': (19, None)}.\n",
      "[INFO 04-05 13:54:52] ax.service.ax_client: Generated new trial 77 with parameters {'z_sh': 9, 'z_sh_1': 8, 'z_sh_2': 10, 'z_p2': 32, 'z_p2_1': 33, 'z_p2_2': 29, 'z_r2': 81, 'z_r2_1': 83, 'z_r2_2': 73, 'x_s': 0.5, 'x_s_1': 0.4, 'x_s_2': 0.3, 'x_p1': 0.422941, 'x_p1_1': 0.322941, 'x_p1_2': 0.222941, 'x_p2': 0.5, 'x_p2_1': 0.4, 'x_p2_2': 0.3, 'x_r2': 0.903313, 'x_r2_1': 0.803313, 'x_r2_2': 0.703313} using model BoTorch.\n",
      "[INFO 04-05 13:54:52] ax.service.ax_client: Completed trial 77 with data: {'Viable_Cross_Terms': (33, None)}.\n",
      "[INFO 04-05 13:55:13] ax.service.ax_client: Generated new trial 78 with parameters {'z_sh': 15, 'z_sh_1': 6, 'z_sh_2': 5, 'z_p2': 34, 'z_p2_1': 28, 'z_p2_2': 25, 'z_r2': 72, 'z_r2_1': 73, 'z_r2_2': 82, 'x_s': 0.00035, 'x_s_1': -0.3058, 'x_s_2': -0.4058, 'x_p1': 0.264815, 'x_p1_1': -0.352602, 'x_p1_2': -0.452602, 'x_p2': 0.5, 'x_p2_1': 0.378079, 'x_p2_2': -0.133274, 'x_r2': 0.897608, 'x_r2_1': -0.967745, 'x_r2_2': -1.5} using model BoTorch.\n",
      "[INFO 04-05 13:55:13] ax.service.ax_client: Completed trial 78 with data: {'Viable_Cross_Terms': (2, None)}.\n",
      "[INFO 04-05 13:55:29] ax.service.ax_client: Generated new trial 79 with parameters {'z_sh': 10, 'z_sh_1': 9, 'z_sh_2': 7, 'z_p2': 28, 'z_p2_1': 30, 'z_p2_2': 25, 'z_r2': 77, 'z_r2_1': 79, 'z_r2_2': 80, 'x_s': 0.5, 'x_s_1': 0.4, 'x_s_2': 0.3, 'x_p1': 0.885326, 'x_p1_1': 0.785326, 'x_p1_2': 0.685326, 'x_p2': 0.351602, 'x_p2_1': 0.251602, 'x_p2_2': 0.151602, 'x_r2': 0.962699, 'x_r2_1': 0.862699, 'x_r2_2': 0.762699} using model BoTorch.\n",
      "[INFO 04-05 13:55:29] ax.service.ax_client: Completed trial 79 with data: {'Viable_Cross_Terms': (26, None)}.\n",
      "[INFO 04-05 13:55:46] ax.service.ax_client: Generated new trial 80 with parameters {'z_sh': 11, 'z_sh_1': 13, 'z_sh_2': 9, 'z_p2': 27, 'z_p2_1': 33, 'z_p2_2': 32, 'z_r2': 79, 'z_r2_1': 78, 'z_r2_2': 75, 'x_s': 0.5, 'x_s_1': 0.4, 'x_s_2': 0.3, 'x_p1': 0.717831, 'x_p1_1': 0.617831, 'x_p1_2': 0.517831, 'x_p2': 0.430934, 'x_p2_1': 0.330934, 'x_p2_2': 0.230934, 'x_r2': 0.994055, 'x_r2_1': 0.894055, 'x_r2_2': 0.794055} using model BoTorch.\n",
      "[INFO 04-05 13:55:46] ax.service.ax_client: Completed trial 80 with data: {'Viable_Cross_Terms': (35, None)}.\n",
      "[INFO 04-05 13:56:03] ax.service.ax_client: Generated new trial 81 with parameters {'z_sh': 7, 'z_sh_1': 13, 'z_sh_2': 6, 'z_p2': 27, 'z_p2_1': 27, 'z_p2_2': 28, 'z_r2': 75, 'z_r2_1': 74, 'z_r2_2': 82, 'x_s': 0.5, 'x_s_1': 0.4, 'x_s_2': 0.3, 'x_p1': 0.842258, 'x_p1_1': 0.742258, 'x_p1_2': 0.642258, 'x_p2': 0.335901, 'x_p2_1': 0.235901, 'x_p2_2': 0.135901, 'x_r2': 0.926011, 'x_r2_1': 0.826011, 'x_r2_2': 0.725247} using model BoTorch.\n",
      "[INFO 04-05 13:56:03] ax.service.ax_client: Completed trial 81 with data: {'Viable_Cross_Terms': (40, None)}.\n",
      "[INFO 04-05 13:56:19] ax.service.ax_client: Generated new trial 82 with parameters {'z_sh': 12, 'z_sh_1': 9, 'z_sh_2': 8, 'z_p2': 33, 'z_p2_1': 29, 'z_p2_2': 27, 'z_r2': 83, 'z_r2_1': 71, 'z_r2_2': 71, 'x_s': 0.5, 'x_s_1': 0.4, 'x_s_2': 0.3, 'x_p1': 0.647209, 'x_p1_1': 0.547209, 'x_p1_2': 0.447209, 'x_p2': 0.5, 'x_p2_1': 0.4, 'x_p2_2': 0.3, 'x_r2': 1.078105, 'x_r2_1': 0.978105, 'x_r2_2': 0.878094} using model BoTorch.\n",
      "[INFO 04-05 13:56:19] ax.service.ax_client: Completed trial 82 with data: {'Viable_Cross_Terms': (37, None)}.\n",
      "[INFO 04-05 13:56:35] ax.service.ax_client: Generated new trial 83 with parameters {'z_sh': 8, 'z_sh_1': 6, 'z_sh_2': 5, 'z_p2': 28, 'z_p2_1': 26, 'z_p2_2': 30, 'z_r2': 81, 'z_r2_1': 80, 'z_r2_2': 78, 'x_s': 0.5, 'x_s_1': 0.4, 'x_s_2': 0.3, 'x_p1': 0.788187, 'x_p1_1': 0.688187, 'x_p1_2': 0.588187, 'x_p2': 0.382165, 'x_p2_1': 0.282165, 'x_p2_2': 0.182165, 'x_r2': 0.996465, 'x_r2_1': 0.896465, 'x_r2_2': 0.796465} using model BoTorch.\n",
      "[INFO 04-05 13:56:35] ax.service.ax_client: Completed trial 83 with data: {'Viable_Cross_Terms': (76, None)}.\n",
      "[INFO 04-05 13:56:54] ax.service.ax_client: Generated new trial 84 with parameters {'z_sh': 8, 'z_sh_1': 11, 'z_sh_2': 5, 'z_p2': 27, 'z_p2_1': 31, 'z_p2_2': 28, 'z_r2': 80, 'z_r2_1': 79, 'z_r2_2': 83, 'x_s': 0.5, 'x_s_1': 0.4, 'x_s_2': 0.3, 'x_p1': 0.79861, 'x_p1_1': 0.69861, 'x_p1_2': 0.59861, 'x_p2': 0.380534, 'x_p2_1': 0.280534, 'x_p2_2': 0.180534, 'x_r2': 0.92133, 'x_r2_1': 0.82133, 'x_r2_2': 0.72133} using model BoTorch.\n",
      "[INFO 04-05 13:56:54] ax.service.ax_client: Completed trial 84 with data: {'Viable_Cross_Terms': (60, None)}.\n",
      "[INFO 04-05 13:57:12] ax.service.ax_client: Generated new trial 85 with parameters {'z_sh': 10, 'z_sh_1': 9, 'z_sh_2': 12, 'z_p2': 32, 'z_p2_1': 29, 'z_p2_2': 27, 'z_r2': 84, 'z_r2_1': 80, 'z_r2_2': 81, 'x_s': 0.5, 'x_s_1': 0.4, 'x_s_2': 0.3, 'x_p1': 0.414593, 'x_p1_1': 0.314593, 'x_p1_2': 0.214593, 'x_p2': 0.5, 'x_p2_1': 0.4, 'x_p2_2': 0.3, 'x_r2': 0.784385, 'x_r2_1': 0.684385, 'x_r2_2': 0.584385} using model BoTorch.\n",
      "[INFO 04-05 13:57:12] ax.service.ax_client: Completed trial 85 with data: {'Viable_Cross_Terms': (32, None)}.\n",
      "[INFO 04-05 13:57:32] ax.service.ax_client: Generated new trial 86 with parameters {'z_sh': 9, 'z_sh_1': 12, 'z_sh_2': 6, 'z_p2': 30, 'z_p2_1': 29, 'z_p2_2': 30, 'z_r2': 80, 'z_r2_1': 85, 'z_r2_2': 81, 'x_s': 0.5, 'x_s_1': 0.4, 'x_s_2': 0.3, 'x_p1': 0.384841, 'x_p1_1': 0.284841, 'x_p1_2': 0.184841, 'x_p2': 0.456728, 'x_p2_1': 0.356728, 'x_p2_2': 0.256728, 'x_r2': 0.817714, 'x_r2_1': 0.717714, 'x_r2_2': 0.617714} using model BoTorch.\n",
      "[INFO 04-05 13:57:32] ax.service.ax_client: Completed trial 86 with data: {'Viable_Cross_Terms': (34, None)}.\n",
      "[INFO 04-05 13:57:50] ax.service.ax_client: Generated new trial 87 with parameters {'z_sh': 10, 'z_sh_1': 8, 'z_sh_2': 11, 'z_p2': 29, 'z_p2_1': 31, 'z_p2_2': 29, 'z_r2': 80, 'z_r2_1': 79, 'z_r2_2': 82, 'x_s': 0.5, 'x_s_1': 0.4, 'x_s_2': 0.3, 'x_p1': 0.870711, 'x_p1_1': 0.770711, 'x_p1_2': 0.670711, 'x_p2': 0.375679, 'x_p2_1': 0.275679, 'x_p2_2': 0.175679, 'x_r2': 0.912351, 'x_r2_1': 0.812351, 'x_r2_2': 0.712351} using model BoTorch.\n",
      "[INFO 04-05 13:57:50] ax.service.ax_client: Completed trial 87 with data: {'Viable_Cross_Terms': (22, None)}.\n",
      "[INFO 04-05 13:58:07] ax.service.ax_client: Generated new trial 88 with parameters {'z_sh': 12, 'z_sh_1': 11, 'z_sh_2': 10, 'z_p2': 28, 'z_p2_1': 33, 'z_p2_2': 32, 'z_r2': 76, 'z_r2_1': 77, 'z_r2_2': 80, 'x_s': 0.5, 'x_s_1': 0.4, 'x_s_2': 0.3, 'x_p1': 0.628797, 'x_p1_1': 0.528797, 'x_p1_2': 0.428797, 'x_p2': 0.119446, 'x_p2_1': 0.019446, 'x_p2_2': -0.080554, 'x_r2': 1.031484, 'x_r2_1': 0.931484, 'x_r2_2': 0.831484} using model BoTorch.\n",
      "[INFO 04-05 13:58:07] ax.service.ax_client: Completed trial 88 with data: {'Viable_Cross_Terms': (13, None)}.\n",
      "[INFO 04-05 13:58:28] ax.service.ax_client: Generated new trial 89 with parameters {'z_sh': 9, 'z_sh_1': 6, 'z_sh_2': 9, 'z_p2': 27, 'z_p2_1': 28, 'z_p2_2': 30, 'z_r2': 82, 'z_r2_1': 75, 'z_r2_2': 83, 'x_s': 0.5, 'x_s_1': 0.4, 'x_s_2': 0.3, 'x_p1': 0.740429, 'x_p1_1': 0.640429, 'x_p1_2': 0.540429, 'x_p2': 0.430016, 'x_p2_1': 0.330016, 'x_p2_2': 0.230016, 'x_r2': 0.928599, 'x_r2_1': 0.828599, 'x_r2_2': 0.728599} using model BoTorch.\n",
      "[INFO 04-05 13:58:28] ax.service.ax_client: Completed trial 89 with data: {'Viable_Cross_Terms': (25, None)}.\n",
      "[INFO 04-05 13:58:57] ax.service.ax_client: Generated new trial 90 with parameters {'z_sh': 12, 'z_sh_1': 10, 'z_sh_2': 5, 'z_p2': 27, 'z_p2_1': 32, 'z_p2_2': 33, 'z_r2': 84, 'z_r2_1': 73, 'z_r2_2': 81, 'x_s': 0.5, 'x_s_1': 0.4, 'x_s_2': 0.3, 'x_p1': 1.0, 'x_p1_1': 0.9, 'x_p1_2': 0.8, 'x_p2': 0.470694, 'x_p2_1': 0.370694, 'x_p2_2': 0.270694, 'x_r2': 0.973929, 'x_r2_1': 0.873929, 'x_r2_2': 0.773929} using model BoTorch.\n",
      "[INFO 04-05 13:58:57] ax.service.ax_client: Completed trial 90 with data: {'Viable_Cross_Terms': (7, None)}.\n",
      "[INFO 04-05 13:59:20] ax.service.ax_client: Generated new trial 91 with parameters {'z_sh': 11, 'z_sh_1': 9, 'z_sh_2': 5, 'z_p2': 32, 'z_p2_1': 28, 'z_p2_2': 33, 'z_r2': 72, 'z_r2_1': 84, 'z_r2_2': 80, 'x_s': 0.47737, 'x_s_1': -0.369531, 'x_s_2': -0.5, 'x_p1': 0.567816, 'x_p1_1': -0.031731, 'x_p1_2': -1.0, 'x_p2': 0.007854, 'x_p2_1': -0.250675, 'x_p2_2': -0.368179, 'x_r2': 1.497108, 'x_r2_1': 1.018009, 'x_r2_2': -0.536927} using model BoTorch.\n",
      "[INFO 04-05 13:59:20] ax.service.ax_client: Completed trial 91 with data: {'Viable_Cross_Terms': (4, None)}.\n",
      "[INFO 04-05 13:59:38] ax.service.ax_client: Generated new trial 92 with parameters {'z_sh': 15, 'z_sh_1': 11, 'z_sh_2': 11, 'z_p2': 31, 'z_p2_1': 33, 'z_p2_2': 26, 'z_r2': 78, 'z_r2_1': 74, 'z_r2_2': 76, 'x_s': 0.5, 'x_s_1': 0.4, 'x_s_2': 0.3, 'x_p1': 0.706599, 'x_p1_1': 0.606599, 'x_p1_2': 0.506599, 'x_p2': 0.5, 'x_p2_1': 0.4, 'x_p2_2': 0.3, 'x_r2': 0.940994, 'x_r2_1': 0.840994, 'x_r2_2': 0.740994} using model BoTorch.\n",
      "[INFO 04-05 13:59:38] ax.service.ax_client: Completed trial 92 with data: {'Viable_Cross_Terms': (23, None)}.\n",
      "[INFO 04-05 13:59:55] ax.service.ax_client: Generated new trial 93 with parameters {'z_sh': 8, 'z_sh_1': 11, 'z_sh_2': 12, 'z_p2': 34, 'z_p2_1': 26, 'z_p2_2': 30, 'z_r2': 83, 'z_r2_1': 79, 'z_r2_2': 82, 'x_s': 0.5, 'x_s_1': 0.4, 'x_s_2': 0.3, 'x_p1': 0.334282, 'x_p1_1': 0.234282, 'x_p1_2': 0.134282, 'x_p2': 0.489079, 'x_p2_1': 0.389079, 'x_p2_2': 0.289079, 'x_r2': 0.757766, 'x_r2_1': 0.657766, 'x_r2_2': 0.489211} using model BoTorch.\n",
      "[INFO 04-05 13:59:55] ax.service.ax_client: Completed trial 93 with data: {'Viable_Cross_Terms': (28, None)}.\n",
      "[INFO 04-05 14:00:11] ax.service.ax_client: Generated new trial 94 with parameters {'z_sh': 12, 'z_sh_1': 8, 'z_sh_2': 7, 'z_p2': 29, 'z_p2_1': 33, 'z_p2_2': 27, 'z_r2': 79, 'z_r2_1': 76, 'z_r2_2': 74, 'x_s': 0.5, 'x_s_1': 0.4, 'x_s_2': 0.3, 'x_p1': 0.81588, 'x_p1_1': 0.71588, 'x_p1_2': 0.61588, 'x_p2': 0.5, 'x_p2_1': 0.4, 'x_p2_2': 0.3, 'x_r2': 0.962671, 'x_r2_1': 0.862671, 'x_r2_2': 0.762671} using model BoTorch.\n",
      "[INFO 04-05 14:00:11] ax.service.ax_client: Completed trial 94 with data: {'Viable_Cross_Terms': (15, None)}.\n",
      "[INFO 04-05 14:00:27] ax.service.ax_client: Generated new trial 95 with parameters {'z_sh': 10, 'z_sh_1': 8, 'z_sh_2': 5, 'z_p2': 34, 'z_p2_1': 30, 'z_p2_2': 33, 'z_r2': 80, 'z_r2_1': 71, 'z_r2_2': 72, 'x_s': 0.5, 'x_s_1': 0.4, 'x_s_2': 0.3, 'x_p1': 0.635448, 'x_p1_1': 0.535448, 'x_p1_2': 0.435448, 'x_p2': 0.5, 'x_p2_1': 0.4, 'x_p2_2': 0.3, 'x_r2': 1.074135, 'x_r2_1': 0.974135, 'x_r2_2': 0.874135} using model BoTorch.\n",
      "[INFO 04-05 14:00:27] ax.service.ax_client: Completed trial 95 with data: {'Viable_Cross_Terms': (82, None)}.\n",
      "[INFO 04-05 14:00:44] ax.service.ax_client: Generated new trial 96 with parameters {'z_sh': 8, 'z_sh_1': 6, 'z_sh_2': 5, 'z_p2': 33, 'z_p2_1': 28, 'z_p2_2': 32, 'z_r2': 79, 'z_r2_1': 72, 'z_r2_2': 71, 'x_s': 0.5, 'x_s_1': 0.4, 'x_s_2': 0.3, 'x_p1': 0.619722, 'x_p1_1': 0.519722, 'x_p1_2': 0.419722, 'x_p2': 0.487759, 'x_p2_1': 0.387759, 'x_p2_2': 0.287759, 'x_r2': 1.071245, 'x_r2_1': 0.971245, 'x_r2_2': 0.871245} using model BoTorch.\n",
      "[INFO 04-05 14:00:44] ax.service.ax_client: Completed trial 96 with data: {'Viable_Cross_Terms': (37, None)}.\n",
      "[INFO 04-05 14:01:00] ax.service.ax_client: Generated new trial 97 with parameters {'z_sh': 8, 'z_sh_1': 10, 'z_sh_2': 6, 'z_p2': 27, 'z_p2_1': 30, 'z_p2_2': 32, 'z_r2': 82, 'z_r2_1': 79, 'z_r2_2': 71, 'x_s': 0.5, 'x_s_1': 0.4, 'x_s_2': 0.3, 'x_p1': 0.763192, 'x_p1_1': 0.663192, 'x_p1_2': 0.563192, 'x_p2': 0.429601, 'x_p2_1': 0.329601, 'x_p2_2': 0.229601, 'x_r2': 1.008843, 'x_r2_1': 0.908843, 'x_r2_2': 0.808843} using model BoTorch.\n",
      "[INFO 04-05 14:01:00] ax.service.ax_client: Completed trial 97 with data: {'Viable_Cross_Terms': (35, None)}.\n",
      "[INFO 04-05 14:01:15] ax.service.ax_client: Generated new trial 98 with parameters {'z_sh': 10, 'z_sh_1': 13, 'z_sh_2': 5, 'z_p2': 33, 'z_p2_1': 30, 'z_p2_2': 33, 'z_r2': 76, 'z_r2_1': 78, 'z_r2_2': 79, 'x_s': 0.5, 'x_s_1': 0.4, 'x_s_2': 0.3, 'x_p1': 0.642883, 'x_p1_1': 0.542883, 'x_p1_2': 0.442883, 'x_p2': 0.5, 'x_p2_1': 0.4, 'x_p2_2': 0.3, 'x_r2': 1.043024, 'x_r2_1': 0.943024, 'x_r2_2': 0.843024} using model BoTorch.\n",
      "[INFO 04-05 14:01:15] ax.service.ax_client: Completed trial 98 with data: {'Viable_Cross_Terms': (38, None)}.\n",
      "[INFO 04-05 14:01:29] ax.service.ax_client: Generated new trial 99 with parameters {'z_sh': 8, 'z_sh_1': 9, 'z_sh_2': 5, 'z_p2': 27, 'z_p2_1': 29, 'z_p2_2': 26, 'z_r2': 86, 'z_r2_1': 80, 'z_r2_2': 80, 'x_s': 0.5, 'x_s_1': 0.4, 'x_s_2': 0.3, 'x_p1': 0.834053, 'x_p1_1': 0.734053, 'x_p1_2': 0.634053, 'x_p2': 0.352526, 'x_p2_1': 0.252526, 'x_p2_2': 0.152526, 'x_r2': 0.932943, 'x_r2_1': 0.832943, 'x_r2_2': 0.732943} using model BoTorch.\n",
      "[INFO 04-05 14:01:29] ax.service.ax_client: Completed trial 99 with data: {'Viable_Cross_Terms': (60, None)}.\n",
      "[INFO 04-05 14:01:44] ax.service.ax_client: Generated new trial 100 with parameters {'z_sh': 8, 'z_sh_1': 7, 'z_sh_2': 5, 'z_p2': 29, 'z_p2_1': 32, 'z_p2_2': 30, 'z_r2': 84, 'z_r2_1': 76, 'z_r2_2': 73, 'x_s': 0.5, 'x_s_1': 0.4, 'x_s_2': 0.3, 'x_p1': 0.67493, 'x_p1_1': 0.57493, 'x_p1_2': 0.47493, 'x_p2': 0.48521, 'x_p2_1': 0.38521, 'x_p2_2': 0.28521, 'x_r2': 1.075187, 'x_r2_1': 0.975187, 'x_r2_2': 0.875187} using model BoTorch.\n",
      "[INFO 04-05 14:01:44] ax.service.ax_client: Completed trial 100 with data: {'Viable_Cross_Terms': (33, None)}.\n",
      "[INFO 04-05 14:02:01] ax.service.ax_client: Generated new trial 101 with parameters {'z_sh': 8, 'z_sh_1': 7, 'z_sh_2': 5, 'z_p2': 27, 'z_p2_1': 28, 'z_p2_2': 30, 'z_r2': 86, 'z_r2_1': 78, 'z_r2_2': 79, 'x_s': 0.5, 'x_s_1': 0.4, 'x_s_2': 0.3, 'x_p1': 0.772943, 'x_p1_1': 0.672943, 'x_p1_2': 0.572943, 'x_p2': 0.401111, 'x_p2_1': 0.301111, 'x_p2_2': 0.201111, 'x_r2': 0.984061, 'x_r2_1': 0.884061, 'x_r2_2': 0.784061} using model BoTorch.\n",
      "[INFO 04-05 14:02:01] ax.service.ax_client: Completed trial 101 with data: {'Viable_Cross_Terms': (33, None)}.\n",
      "[INFO 04-05 14:02:16] ax.service.ax_client: Generated new trial 102 with parameters {'z_sh': 7, 'z_sh_1': 6, 'z_sh_2': 5, 'z_p2': 32, 'z_p2_1': 26, 'z_p2_2': 33, 'z_r2': 80, 'z_r2_1': 74, 'z_r2_2': 70, 'x_s': 0.5, 'x_s_1': 0.4, 'x_s_2': 0.3, 'x_p1': 0.781936, 'x_p1_1': 0.681936, 'x_p1_2': 0.581936, 'x_p2': 0.472543, 'x_p2_1': 0.372543, 'x_p2_2': 0.272543, 'x_r2': 0.918875, 'x_r2_1': 0.818875, 'x_r2_2': 0.718875} using model BoTorch.\n",
      "[INFO 04-05 14:02:16] ax.service.ax_client: Completed trial 102 with data: {'Viable_Cross_Terms': (41, None)}.\n",
      "[INFO 04-05 14:02:29] ax.service.ax_client: Generated new trial 103 with parameters {'z_sh': 9, 'z_sh_1': 10, 'z_sh_2': 5, 'z_p2': 31, 'z_p2_1': 31, 'z_p2_2': 28, 'z_r2': 78, 'z_r2_1': 73, 'z_r2_2': 78, 'x_s': 0.5, 'x_s_1': 0.4, 'x_s_2': 0.3, 'x_p1': 0.567552, 'x_p1_1': 0.467552, 'x_p1_2': 0.367552, 'x_p2': 0.5, 'x_p2_1': 0.4, 'x_p2_2': 0.3, 'x_r2': 0.890764, 'x_r2_1': 0.790764, 'x_r2_2': 0.690764} using model BoTorch.\n",
      "[INFO 04-05 14:02:29] ax.service.ax_client: Completed trial 103 with data: {'Viable_Cross_Terms': (37, None)}.\n",
      "[INFO 04-05 14:02:47] ax.service.ax_client: Generated new trial 104 with parameters {'z_sh': 7, 'z_sh_1': 14, 'z_sh_2': 9, 'z_p2': 30, 'z_p2_1': 26, 'z_p2_2': 30, 'z_r2': 73, 'z_r2_1': 82, 'z_r2_2': 80, 'x_s': 0.5, 'x_s_1': 0.4, 'x_s_2': 0.3, 'x_p1': 0.322799, 'x_p1_1': 0.222799, 'x_p1_2': 0.122799, 'x_p2': 0.42376, 'x_p2_1': 0.32376, 'x_p2_2': 0.22376, 'x_r2': 0.922808, 'x_r2_1': 0.822808, 'x_r2_2': 0.722808} using model BoTorch.\n",
      "[INFO 04-05 14:02:47] ax.service.ax_client: Completed trial 104 with data: {'Viable_Cross_Terms': (21, None)}.\n",
      "[INFO 04-05 14:03:06] ax.service.ax_client: Generated new trial 105 with parameters {'z_sh': 7, 'z_sh_1': 9, 'z_sh_2': 5, 'z_p2': 30, 'z_p2_1': 29, 'z_p2_2': 25, 'z_r2': 79, 'z_r2_1': 76, 'z_r2_2': 75, 'x_s': 0.5, 'x_s_1': 0.4, 'x_s_2': 0.3, 'x_p1': 0.668664, 'x_p1_1': 0.568664, 'x_p1_2': 0.468664, 'x_p2': 0.45389, 'x_p2_1': 0.35389, 'x_p2_2': 0.25389, 'x_r2': 0.947963, 'x_r2_1': 0.847963, 'x_r2_2': 0.747963} using model BoTorch.\n",
      "[INFO 04-05 14:03:06] ax.service.ax_client: Completed trial 105 with data: {'Viable_Cross_Terms': (31, None)}.\n",
      "[INFO 04-05 14:03:26] ax.service.ax_client: Generated new trial 106 with parameters {'z_sh': 7, 'z_sh_1': 12, 'z_sh_2': 5, 'z_p2': 28, 'z_p2_1': 33, 'z_p2_2': 33, 'z_r2': 78, 'z_r2_1': 77, 'z_r2_2': 77, 'x_s': 0.5, 'x_s_1': 0.4, 'x_s_2': 0.3, 'x_p1': 0.733815, 'x_p1_1': 0.633815, 'x_p1_2': 0.533815, 'x_p2': 0.330899, 'x_p2_1': 0.230899, 'x_p2_2': 0.130899, 'x_r2': 0.984088, 'x_r2_1': 0.884088, 'x_r2_2': 0.784088} using model BoTorch.\n",
      "[INFO 04-05 14:03:26] ax.service.ax_client: Completed trial 106 with data: {'Viable_Cross_Terms': (35, None)}.\n",
      "[INFO 04-05 14:03:45] ax.service.ax_client: Generated new trial 107 with parameters {'z_sh': 8, 'z_sh_1': 9, 'z_sh_2': 5, 'z_p2': 28, 'z_p2_1': 27, 'z_p2_2': 28, 'z_r2': 82, 'z_r2_1': 76, 'z_r2_2': 83, 'x_s': 0.5, 'x_s_1': 0.4, 'x_s_2': 0.3, 'x_p1': 0.828898, 'x_p1_1': 0.728898, 'x_p1_2': 0.628898, 'x_p2': 0.364282, 'x_p2_1': 0.264282, 'x_p2_2': 0.164282, 'x_r2': 0.985262, 'x_r2_1': 0.885262, 'x_r2_2': 0.785262} using model BoTorch.\n",
      "[INFO 04-05 14:03:45] ax.service.ax_client: Completed trial 107 with data: {'Viable_Cross_Terms': (35, None)}.\n",
      "[INFO 04-05 14:04:02] ax.service.ax_client: Generated new trial 108 with parameters {'z_sh': 11, 'z_sh_1': 6, 'z_sh_2': 5, 'z_p2': 32, 'z_p2_1': 29, 'z_p2_2': 33, 'z_r2': 77, 'z_r2_1': 77, 'z_r2_2': 77, 'x_s': 0.5, 'x_s_1': 0.4, 'x_s_2': 0.3, 'x_p1': 0.726526, 'x_p1_1': 0.626526, 'x_p1_2': 0.526526, 'x_p2': 0.5, 'x_p2_1': 0.4, 'x_p2_2': 0.3, 'x_r2': 0.941942, 'x_r2_1': 0.841942, 'x_r2_2': 0.741942} using model BoTorch.\n",
      "[INFO 04-05 14:04:02] ax.service.ax_client: Completed trial 108 with data: {'Viable_Cross_Terms': (22, None)}.\n",
      "[INFO 04-05 14:04:20] ax.service.ax_client: Generated new trial 109 with parameters {'z_sh': 9, 'z_sh_1': 10, 'z_sh_2': 5, 'z_p2': 32, 'z_p2_1': 29, 'z_p2_2': 27, 'z_r2': 72, 'z_r2_1': 71, 'z_r2_2': 72, 'x_s': 0.5, 'x_s_1': 0.4, 'x_s_2': 0.3, 'x_p1': 0.760652, 'x_p1_1': 0.660652, 'x_p1_2': 0.560652, 'x_p2': 0.447432, 'x_p2_1': 0.347432, 'x_p2_2': 0.247432, 'x_r2': 1.042781, 'x_r2_1': 0.942781, 'x_r2_2': 0.842781} using model BoTorch.\n",
      "[INFO 04-05 14:04:20] ax.service.ax_client: Completed trial 109 with data: {'Viable_Cross_Terms': (35, None)}.\n",
      "[INFO 04-05 14:04:36] ax.service.ax_client: Generated new trial 110 with parameters {'z_sh': 7, 'z_sh_1': 11, 'z_sh_2': 5, 'z_p2': 30, 'z_p2_1': 32, 'z_p2_2': 28, 'z_r2': 77, 'z_r2_1': 72, 'z_r2_2': 73, 'x_s': 0.5, 'x_s_1': 0.4, 'x_s_2': 0.3, 'x_p1': 0.913472, 'x_p1_1': 0.813472, 'x_p1_2': 0.713472, 'x_p2': 0.326716, 'x_p2_1': 0.226716, 'x_p2_2': 0.126716, 'x_r2': 0.998254, 'x_r2_1': 0.898254, 'x_r2_2': 0.798254} using model BoTorch.\n",
      "[INFO 04-05 14:04:36] ax.service.ax_client: Completed trial 110 with data: {'Viable_Cross_Terms': (32, None)}.\n",
      "[INFO 04-05 14:04:55] ax.service.ax_client: Generated new trial 111 with parameters {'z_sh': 7, 'z_sh_1': 8, 'z_sh_2': 6, 'z_p2': 32, 'z_p2_1': 27, 'z_p2_2': 29, 'z_r2': 83, 'z_r2_1': 85, 'z_r2_2': 80, 'x_s': 0.5, 'x_s_1': 0.4, 'x_s_2': 0.3, 'x_p1': 0.954196, 'x_p1_1': 0.854196, 'x_p1_2': 0.754196, 'x_p2': 0.271955, 'x_p2_1': 0.171955, 'x_p2_2': 0.071955, 'x_r2': 0.940145, 'x_r2_1': 0.840145, 'x_r2_2': 0.740145} using model BoTorch.\n",
      "[INFO 04-05 14:04:55] ax.service.ax_client: Completed trial 111 with data: {'Viable_Cross_Terms': (28, None)}.\n",
      "[INFO 04-05 14:05:12] ax.service.ax_client: Generated new trial 112 with parameters {'z_sh': 7, 'z_sh_1': 9, 'z_sh_2': 13, 'z_p2': 27, 'z_p2_1': 30, 'z_p2_2': 27, 'z_r2': 74, 'z_r2_1': 76, 'z_r2_2': 84, 'x_s': 0.5, 'x_s_1': 0.4, 'x_s_2': 0.3, 'x_p1': 1.0, 'x_p1_1': 0.9, 'x_p1_2': 0.8, 'x_p2': 0.452612, 'x_p2_1': 0.352612, 'x_p2_2': 0.252612, 'x_r2': 0.792881, 'x_r2_1': 0.692881, 'x_r2_2': 0.592881} using model BoTorch.\n",
      "[INFO 04-05 14:05:12] ax.service.ax_client: Completed trial 112 with data: {'Viable_Cross_Terms': (0, None)}.\n",
      "[INFO 04-05 14:05:29] ax.service.ax_client: Generated new trial 113 with parameters {'z_sh': 11, 'z_sh_1': 13, 'z_sh_2': 7, 'z_p2': 31, 'z_p2_1': 31, 'z_p2_2': 32, 'z_r2': 80, 'z_r2_1': 73, 'z_r2_2': 70, 'x_s': 0.5, 'x_s_1': 0.4, 'x_s_2': 0.3, 'x_p1': 0.325696, 'x_p1_1': 0.225696, 'x_p1_2': 0.125696, 'x_p2': 0.5, 'x_p2_1': 0.4, 'x_p2_2': 0.3, 'x_r2': 1.09008, 'x_r2_1': 0.99008, 'x_r2_2': 0.89008} using model BoTorch.\n",
      "[INFO 04-05 14:05:29] ax.service.ax_client: Completed trial 113 with data: {'Viable_Cross_Terms': (47, None)}.\n",
      "[INFO 04-05 14:05:47] ax.service.ax_client: Generated new trial 114 with parameters {'z_sh': 13, 'z_sh_1': 9, 'z_sh_2': 5, 'z_p2': 31, 'z_p2_1': 29, 'z_p2_2': 25, 'z_r2': 76, 'z_r2_1': 79, 'z_r2_2': 74, 'x_s': 0.5, 'x_s_1': 0.4, 'x_s_2': 0.3, 'x_p1': 0.470463, 'x_p1_1': 0.370463, 'x_p1_2': 0.270463, 'x_p2': 0.5, 'x_p2_1': 0.4, 'x_p2_2': 0.3, 'x_r2': 0.941604, 'x_r2_1': 0.841604, 'x_r2_2': 0.741604} using model BoTorch.\n",
      "[INFO 04-05 14:05:47] ax.service.ax_client: Completed trial 114 with data: {'Viable_Cross_Terms': (35, None)}.\n",
      "[INFO 04-05 14:06:05] ax.service.ax_client: Generated new trial 115 with parameters {'z_sh': 8, 'z_sh_1': 9, 'z_sh_2': 6, 'z_p2': 29, 'z_p2_1': 26, 'z_p2_2': 30, 'z_r2': 84, 'z_r2_1': 74, 'z_r2_2': 79, 'x_s': 0.5, 'x_s_1': 0.4, 'x_s_2': 0.3, 'x_p1': 0.166694, 'x_p1_1': 0.066694, 'x_p1_2': -0.033306, 'x_p2': 0.5, 'x_p2_1': 0.4, 'x_p2_2': 0.3, 'x_r2': 0.927015, 'x_r2_1': 0.827015, 'x_r2_2': 0.727015} using model BoTorch.\n",
      "[INFO 04-05 14:06:05] ax.service.ax_client: Completed trial 115 with data: {'Viable_Cross_Terms': (5, None)}.\n",
      "[INFO 04-05 14:06:26] ax.service.ax_client: Generated new trial 116 with parameters {'z_sh': 9, 'z_sh_1': 10, 'z_sh_2': 5, 'z_p2': 30, 'z_p2_1': 26, 'z_p2_2': 27, 'z_r2': 83, 'z_r2_1': 83, 'z_r2_2': 78, 'x_s': 0.488843, 'x_s_1': 0.379306, 'x_s_2': 0.279306, 'x_p1': 0.724519, 'x_p1_1': 0.602543, 'x_p1_2': 0.502543, 'x_p2': 0.213435, 'x_p2_1': 0.113435, 'x_p2_2': -0.009468, 'x_r2': 0.970349, 'x_r2_1': 0.844532, 'x_r2_2': 0.645308} using model BoTorch.\n",
      "[INFO 04-05 14:06:26] ax.service.ax_client: Completed trial 116 with data: {'Viable_Cross_Terms': (26, None)}.\n",
      "[INFO 04-05 14:06:47] ax.service.ax_client: Generated new trial 117 with parameters {'z_sh': 9, 'z_sh_1': 9, 'z_sh_2': 7, 'z_p2': 27, 'z_p2_1': 31, 'z_p2_2': 29, 'z_r2': 76, 'z_r2_1': 82, 'z_r2_2': 83, 'x_s': 0.5, 'x_s_1': 0.4, 'x_s_2': 0.3, 'x_p1': 0.833953, 'x_p1_1': 0.733953, 'x_p1_2': 0.633953, 'x_p2': 0.233607, 'x_p2_1': 0.133607, 'x_p2_2': 0.033607, 'x_r2': 0.901371, 'x_r2_1': 0.801371, 'x_r2_2': 0.701371} using model BoTorch.\n",
      "[INFO 04-05 14:06:47] ax.service.ax_client: Completed trial 117 with data: {'Viable_Cross_Terms': (57, None)}.\n",
      "[INFO 04-05 14:07:06] ax.service.ax_client: Generated new trial 118 with parameters {'z_sh': 8, 'z_sh_1': 10, 'z_sh_2': 9, 'z_p2': 33, 'z_p2_1': 30, 'z_p2_2': 32, 'z_r2': 78, 'z_r2_1': 77, 'z_r2_2': 74, 'x_s': 0.5, 'x_s_1': 0.4, 'x_s_2': 0.3, 'x_p1': 0.613705, 'x_p1_1': 0.513705, 'x_p1_2': 0.413705, 'x_p2': 0.5, 'x_p2_1': 0.4, 'x_p2_2': 0.3, 'x_r2': 1.066757, 'x_r2_1': 0.966757, 'x_r2_2': 0.866757} using model BoTorch.\n",
      "[INFO 04-05 14:07:06] ax.service.ax_client: Completed trial 118 with data: {'Viable_Cross_Terms': (39, None)}.\n",
      "[INFO 04-05 14:07:28] ax.service.ax_client: Generated new trial 119 with parameters {'z_sh': 13, 'z_sh_1': 9, 'z_sh_2': 8, 'z_p2': 35, 'z_p2_1': 29, 'z_p2_2': 32, 'z_r2': 76, 'z_r2_1': 71, 'z_r2_2': 84, 'x_s': 0.5, 'x_s_1': 0.4, 'x_s_2': 0.3, 'x_p1': 0.652925, 'x_p1_1': 0.552925, 'x_p1_2': 0.452925, 'x_p2': 0.5, 'x_p2_1': 0.4, 'x_p2_2': 0.3, 'x_r2': 1.076728, 'x_r2_1': 0.976728, 'x_r2_2': 0.876728} using model BoTorch.\n",
      "[INFO 04-05 14:07:28] ax.service.ax_client: Completed trial 119 with data: {'Viable_Cross_Terms': (34, None)}.\n",
      "[INFO 04-05 14:07:49] ax.service.ax_client: Generated new trial 120 with parameters {'z_sh': 8, 'z_sh_1': 9, 'z_sh_2': 8, 'z_p2': 27, 'z_p2_1': 32, 'z_p2_2': 28, 'z_r2': 86, 'z_r2_1': 82, 'z_r2_2': 76, 'x_s': 0.5, 'x_s_1': 0.4, 'x_s_2': 0.3, 'x_p1': 1.0, 'x_p1_1': 0.9, 'x_p1_2': 0.8, 'x_p2': 0.179356, 'x_p2_1': 0.079356, 'x_p2_2': -0.021321, 'x_r2': 0.887623, 'x_r2_1': 0.787623, 'x_r2_2': 0.685712} using model BoTorch.\n",
      "[INFO 04-05 14:07:49] ax.service.ax_client: Completed trial 120 with data: {'Viable_Cross_Terms': (30, None)}.\n",
      "[INFO 04-05 14:08:12] ax.service.ax_client: Generated new trial 121 with parameters {'z_sh': 8, 'z_sh_1': 8, 'z_sh_2': 7, 'z_p2': 35, 'z_p2_1': 32, 'z_p2_2': 33, 'z_r2': 78, 'z_r2_1': 74, 'z_r2_2': 83, 'x_s': 0.5, 'x_s_1': 0.4, 'x_s_2': 0.3, 'x_p1': 0.634812, 'x_p1_1': 0.534812, 'x_p1_2': 0.434812, 'x_p2': 0.5, 'x_p2_1': 0.4, 'x_p2_2': 0.3, 'x_r2': 1.071469, 'x_r2_1': 0.971469, 'x_r2_2': 0.87008} using model BoTorch.\n",
      "[INFO 04-05 14:08:12] ax.service.ax_client: Completed trial 121 with data: {'Viable_Cross_Terms': (37, None)}.\n",
      "[INFO 04-05 14:08:29] ax.service.ax_client: Generated new trial 122 with parameters {'z_sh': 7, 'z_sh_1': 6, 'z_sh_2': 7, 'z_p2': 28, 'z_p2_1': 28, 'z_p2_2': 28, 'z_r2': 79, 'z_r2_1': 81, 'z_r2_2': 78, 'x_s': 0.5, 'x_s_1': 0.4, 'x_s_2': 0.3, 'x_p1': 0.851246, 'x_p1_1': 0.751246, 'x_p1_2': 0.651246, 'x_p2': 0.335322, 'x_p2_1': 0.235322, 'x_p2_2': 0.135322, 'x_r2': 0.985785, 'x_r2_1': 0.885785, 'x_r2_2': 0.785785} using model BoTorch.\n",
      "[INFO 04-05 14:08:29] ax.service.ax_client: Completed trial 122 with data: {'Viable_Cross_Terms': (35, None)}.\n",
      "[INFO 04-05 14:08:44] ax.service.ax_client: Generated new trial 123 with parameters {'z_sh': 9, 'z_sh_1': 7, 'z_sh_2': 5, 'z_p2': 30, 'z_p2_1': 30, 'z_p2_2': 30, 'z_r2': 80, 'z_r2_1': 72, 'z_r2_2': 77, 'x_s': 0.5, 'x_s_1': 0.4, 'x_s_2': 0.3, 'x_p1': 0.645563, 'x_p1_1': 0.545563, 'x_p1_2': 0.445563, 'x_p2': 0.474238, 'x_p2_1': 0.374238, 'x_p2_2': 0.274238, 'x_r2': 0.906122, 'x_r2_1': 0.806122, 'x_r2_2': 0.706122} using model BoTorch.\n",
      "[INFO 04-05 14:08:44] ax.service.ax_client: Completed trial 123 with data: {'Viable_Cross_Terms': (61, None)}.\n",
      "[INFO 04-05 14:08:59] ax.service.ax_client: Generated new trial 124 with parameters {'z_sh': 8, 'z_sh_1': 9, 'z_sh_2': 10, 'z_p2': 34, 'z_p2_1': 30, 'z_p2_2': 33, 'z_r2': 77, 'z_r2_1': 74, 'z_r2_2': 81, 'x_s': 0.5, 'x_s_1': 0.4, 'x_s_2': 0.3, 'x_p1': 0.577454, 'x_p1_1': 0.477454, 'x_p1_2': 0.377454, 'x_p2': 0.5, 'x_p2_1': 0.4, 'x_p2_2': 0.3, 'x_r2': 0.868457, 'x_r2_1': 0.768457, 'x_r2_2': 0.668457} using model BoTorch.\n",
      "[INFO 04-05 14:08:59] ax.service.ax_client: Completed trial 124 with data: {'Viable_Cross_Terms': (29, None)}.\n",
      "[INFO 04-05 14:09:13] ax.service.ax_client: Generated new trial 125 with parameters {'z_sh': 9, 'z_sh_1': 6, 'z_sh_2': 5, 'z_p2': 32, 'z_p2_1': 31, 'z_p2_2': 30, 'z_r2': 85, 'z_r2_1': 76, 'z_r2_2': 79, 'x_s': 0.5, 'x_s_1': 0.4, 'x_s_2': 0.3, 'x_p1': 0.648507, 'x_p1_1': 0.548507, 'x_p1_2': 0.448507, 'x_p2': 0.463556, 'x_p2_1': 0.363556, 'x_p2_2': 0.263556, 'x_r2': 0.88241, 'x_r2_1': 0.78241, 'x_r2_2': 0.68241} using model BoTorch.\n",
      "[INFO 04-05 14:09:13] ax.service.ax_client: Completed trial 125 with data: {'Viable_Cross_Terms': (26, None)}.\n",
      "[INFO 04-05 14:09:31] ax.service.ax_client: Generated new trial 126 with parameters {'z_sh': 8, 'z_sh_1': 9, 'z_sh_2': 12, 'z_p2': 34, 'z_p2_1': 28, 'z_p2_2': 33, 'z_r2': 78, 'z_r2_1': 83, 'z_r2_2': 70, 'x_s': 0.5, 'x_s_1': 0.4, 'x_s_2': 0.3, 'x_p1': 0.47309, 'x_p1_1': 0.37309, 'x_p1_2': 0.27309, 'x_p2': 0.5, 'x_p2_1': 0.4, 'x_p2_2': 0.3, 'x_r2': 1.071589, 'x_r2_1': 0.971589, 'x_r2_2': 0.871589} using model BoTorch.\n",
      "[INFO 04-05 14:09:31] ax.service.ax_client: Completed trial 126 with data: {'Viable_Cross_Terms': (24, None)}.\n",
      "[INFO 04-05 14:09:47] ax.service.ax_client: Generated new trial 127 with parameters {'z_sh': 10, 'z_sh_1': 9, 'z_sh_2': 5, 'z_p2': 27, 'z_p2_1': 28, 'z_p2_2': 25, 'z_r2': 81, 'z_r2_1': 83, 'z_r2_2': 79, 'x_s': 0.5, 'x_s_1': 0.4, 'x_s_2': 0.3, 'x_p1': 0.73686, 'x_p1_1': 0.63686, 'x_p1_2': 0.53686, 'x_p2': 0.275414, 'x_p2_1': 0.175414, 'x_p2_2': 0.075414, 'x_r2': 0.902523, 'x_r2_1': 0.802523, 'x_r2_2': 0.702523} using model BoTorch.\n",
      "[INFO 04-05 14:09:47] ax.service.ax_client: Completed trial 127 with data: {'Viable_Cross_Terms': (35, None)}.\n",
      "[INFO 04-05 14:10:03] ax.service.ax_client: Generated new trial 128 with parameters {'z_sh': 7, 'z_sh_1': 8, 'z_sh_2': 5, 'z_p2': 27, 'z_p2_1': 30, 'z_p2_2': 32, 'z_r2': 73, 'z_r2_1': 74, 'z_r2_2': 74, 'x_s': 0.5, 'x_s_1': 0.4, 'x_s_2': 0.3, 'x_p1': 0.65914, 'x_p1_1': 0.55914, 'x_p1_2': 0.45914, 'x_p2': 0.478144, 'x_p2_1': 0.378144, 'x_p2_2': 0.278144, 'x_r2': 0.940948, 'x_r2_1': 0.840948, 'x_r2_2': 0.740948} using model BoTorch.\n",
      "[INFO 04-05 14:10:03] ax.service.ax_client: Completed trial 128 with data: {'Viable_Cross_Terms': (31, None)}.\n",
      "[INFO 04-05 14:10:19] ax.service.ax_client: Generated new trial 129 with parameters {'z_sh': 7, 'z_sh_1': 10, 'z_sh_2': 5, 'z_p2': 32, 'z_p2_1': 26, 'z_p2_2': 27, 'z_r2': 83, 'z_r2_1': 74, 'z_r2_2': 76, 'x_s': 0.5, 'x_s_1': 0.4, 'x_s_2': 0.3, 'x_p1': 0.674959, 'x_p1_1': 0.574959, 'x_p1_2': 0.474959, 'x_p2': 0.480072, 'x_p2_1': 0.380072, 'x_p2_2': 0.280072, 'x_r2': 0.939883, 'x_r2_1': 0.839883, 'x_r2_2': 0.739883} using model BoTorch.\n",
      "[INFO 04-05 14:10:19] ax.service.ax_client: Completed trial 129 with data: {'Viable_Cross_Terms': (31, None)}.\n",
      "[INFO 04-05 14:10:38] ax.service.ax_client: Generated new trial 130 with parameters {'z_sh': 8, 'z_sh_1': 11, 'z_sh_2': 5, 'z_p2': 28, 'z_p2_1': 30, 'z_p2_2': 30, 'z_r2': 83, 'z_r2_1': 78, 'z_r2_2': 80, 'x_s': 0.5, 'x_s_1': 0.4, 'x_s_2': 0.3, 'x_p1': 0.716588, 'x_p1_1': 0.616588, 'x_p1_2': 0.516588, 'x_p2': 0.271238, 'x_p2_1': 0.171238, 'x_p2_2': 0.071238, 'x_r2': 0.936012, 'x_r2_1': 0.836012, 'x_r2_2': 0.736012} using model BoTorch.\n",
      "[INFO 04-05 14:10:38] ax.service.ax_client: Completed trial 130 with data: {'Viable_Cross_Terms': (70, None)}.\n",
      "[INFO 04-05 14:10:54] ax.service.ax_client: Generated new trial 131 with parameters {'z_sh': 7, 'z_sh_1': 7, 'z_sh_2': 5, 'z_p2': 29, 'z_p2_1': 33, 'z_p2_2': 31, 'z_r2': 79, 'z_r2_1': 77, 'z_r2_2': 82, 'x_s': 0.5, 'x_s_1': 0.4, 'x_s_2': 0.3, 'x_p1': 0.684879, 'x_p1_1': 0.584879, 'x_p1_2': 0.484879, 'x_p2': 0.305424, 'x_p2_1': 0.205424, 'x_p2_2': 0.105424, 'x_r2': 0.890616, 'x_r2_1': 0.790616, 'x_r2_2': 0.690616} using model BoTorch.\n",
      "[INFO 04-05 14:10:54] ax.service.ax_client: Completed trial 131 with data: {'Viable_Cross_Terms': (48, None)}.\n",
      "[INFO 04-05 14:11:17] ax.service.ax_client: Generated new trial 132 with parameters {'z_sh': 10, 'z_sh_1': 10, 'z_sh_2': 9, 'z_p2': 34, 'z_p2_1': 28, 'z_p2_2': 33, 'z_r2': 83, 'z_r2_1': 77, 'z_r2_2': 82, 'x_s': 0.5, 'x_s_1': 0.4, 'x_s_2': 0.3, 'x_p1': 0.658394, 'x_p1_1': 0.558394, 'x_p1_2': 0.458394, 'x_p2': 0.5, 'x_p2_1': 0.4, 'x_p2_2': 0.3, 'x_r2': 1.030324, 'x_r2_1': 0.930324, 'x_r2_2': 0.830324} using model BoTorch.\n",
      "[INFO 04-05 14:11:17] ax.service.ax_client: Completed trial 132 with data: {'Viable_Cross_Terms': (37, None)}.\n",
      "[INFO 04-05 14:11:37] ax.service.ax_client: Generated new trial 133 with parameters {'z_sh': 14, 'z_sh_1': 14, 'z_sh_2': 5, 'z_p2': 32, 'z_p2_1': 32, 'z_p2_2': 32, 'z_r2': 75, 'z_r2_1': 84, 'z_r2_2': 75, 'x_s': 0.5, 'x_s_1': 0.4, 'x_s_2': 0.3, 'x_p1': 0.56908, 'x_p1_1': 0.46908, 'x_p1_2': 0.36908, 'x_p2': 0.287191, 'x_p2_1': 0.187191, 'x_p2_2': 0.087191, 'x_r2': 0.876989, 'x_r2_1': 0.776989, 'x_r2_2': 0.676989} using model BoTorch.\n",
      "[INFO 04-05 14:11:37] ax.service.ax_client: Completed trial 133 with data: {'Viable_Cross_Terms': (26, None)}.\n",
      "[INFO 04-05 14:11:54] ax.service.ax_client: Generated new trial 134 with parameters {'z_sh': 7, 'z_sh_1': 6, 'z_sh_2': 5, 'z_p2': 31, 'z_p2_1': 33, 'z_p2_2': 33, 'z_r2': 77, 'z_r2_1': 76, 'z_r2_2': 79, 'x_s': 0.5, 'x_s_1': 0.4, 'x_s_2': 0.3, 'x_p1': 0.668867, 'x_p1_1': 0.568867, 'x_p1_2': 0.468867, 'x_p2': 0.340086, 'x_p2_1': 0.240086, 'x_p2_2': 0.140086, 'x_r2': 0.919718, 'x_r2_1': 0.819718, 'x_r2_2': 0.719718} using model BoTorch.\n",
      "[INFO 04-05 14:11:54] ax.service.ax_client: Completed trial 134 with data: {'Viable_Cross_Terms': (33, None)}.\n",
      "[INFO 04-05 14:12:16] ax.service.ax_client: Generated new trial 135 with parameters {'z_sh': 9, 'z_sh_1': 10, 'z_sh_2': 10, 'z_p2': 29, 'z_p2_1': 33, 'z_p2_2': 26, 'z_r2': 79, 'z_r2_1': 83, 'z_r2_2': 77, 'x_s': 0.5, 'x_s_1': 0.4, 'x_s_2': 0.3, 'x_p1': 0.563288, 'x_p1_1': 0.463288, 'x_p1_2': 0.363288, 'x_p2': 0.126865, 'x_p2_1': 0.026865, 'x_p2_2': -0.073135, 'x_r2': 0.856012, 'x_r2_1': 0.756012, 'x_r2_2': 0.656012} using model BoTorch.\n",
      "[INFO 04-05 14:12:16] ax.service.ax_client: Completed trial 135 with data: {'Viable_Cross_Terms': (19, None)}.\n",
      "[INFO 04-05 14:12:37] ax.service.ax_client: Generated new trial 136 with parameters {'z_sh': 8, 'z_sh_1': 8, 'z_sh_2': 5, 'z_p2': 28, 'z_p2_1': 26, 'z_p2_2': 31, 'z_r2': 79, 'z_r2_1': 76, 'z_r2_2': 81, 'x_s': 0.5, 'x_s_1': 0.4, 'x_s_2': 0.3, 'x_p1': 0.745498, 'x_p1_1': 0.645498, 'x_p1_2': 0.545498, 'x_p2': 0.430242, 'x_p2_1': 0.330242, 'x_p2_2': 0.230242, 'x_r2': 1.031832, 'x_r2_1': 0.931832, 'x_r2_2': 0.824586} using model BoTorch.\n",
      "[INFO 04-05 14:12:37] ax.service.ax_client: Completed trial 136 with data: {'Viable_Cross_Terms': (41, None)}.\n",
      "[INFO 04-05 14:12:57] ax.service.ax_client: Generated new trial 137 with parameters {'z_sh': 7, 'z_sh_1': 12, 'z_sh_2': 5, 'z_p2': 27, 'z_p2_1': 33, 'z_p2_2': 30, 'z_r2': 79, 'z_r2_1': 74, 'z_r2_2': 82, 'x_s': 0.5, 'x_s_1': 0.4, 'x_s_2': 0.3, 'x_p1': 0.739964, 'x_p1_1': 0.639964, 'x_p1_2': 0.539964, 'x_p2': 0.184266, 'x_p2_1': 0.084266, 'x_p2_2': -0.015734, 'x_r2': 0.910437, 'x_r2_1': 0.810437, 'x_r2_2': 0.710437} using model BoTorch.\n",
      "[INFO 04-05 14:12:57] ax.service.ax_client: Completed trial 137 with data: {'Viable_Cross_Terms': (50, None)}.\n",
      "[INFO 04-05 14:13:20] ax.service.ax_client: Generated new trial 138 with parameters {'z_sh': 7, 'z_sh_1': 6, 'z_sh_2': 5, 'z_p2': 27, 'z_p2_1': 30, 'z_p2_2': 29, 'z_r2': 81, 'z_r2_1': 78, 'z_r2_2': 81, 'x_s': 0.5, 'x_s_1': 0.385921, 'x_s_2': 0.285921, 'x_p1': 0.74499, 'x_p1_1': 0.64499, 'x_p1_2': 0.54499, 'x_p2': 0.185141, 'x_p2_1': 0.083477, 'x_p2_2': -0.019172, 'x_r2': 0.945254, 'x_r2_1': 0.812735, 'x_r2_2': 0.69826} using model BoTorch.\n",
      "[INFO 04-05 14:13:20] ax.service.ax_client: Completed trial 138 with data: {'Viable_Cross_Terms': (27, None)}.\n",
      "[INFO 04-05 14:13:37] ax.service.ax_client: Generated new trial 139 with parameters {'z_sh': 7, 'z_sh_1': 10, 'z_sh_2': 5, 'z_p2': 31, 'z_p2_1': 26, 'z_p2_2': 33, 'z_r2': 86, 'z_r2_1': 76, 'z_r2_2': 76, 'x_s': 0.5, 'x_s_1': 0.4, 'x_s_2': 0.3, 'x_p1': 0.67898, 'x_p1_1': 0.57898, 'x_p1_2': 0.47898, 'x_p2': 0.5, 'x_p2_1': 0.4, 'x_p2_2': 0.3, 'x_r2': 0.924256, 'x_r2_1': 0.824256, 'x_r2_2': 0.724256} using model BoTorch.\n",
      "[INFO 04-05 14:13:37] ax.service.ax_client: Completed trial 139 with data: {'Viable_Cross_Terms': (23, None)}.\n",
      "[INFO 04-05 14:13:55] ax.service.ax_client: Generated new trial 140 with parameters {'z_sh': 8, 'z_sh_1': 7, 'z_sh_2': 5, 'z_p2': 32, 'z_p2_1': 30, 'z_p2_2': 27, 'z_r2': 80, 'z_r2_1': 75, 'z_r2_2': 71, 'x_s': 0.5, 'x_s_1': 0.4, 'x_s_2': 0.3, 'x_p1': 0.661061, 'x_p1_1': 0.561061, 'x_p1_2': 0.461061, 'x_p2': 0.492636, 'x_p2_1': 0.392636, 'x_p2_2': 0.292636, 'x_r2': 0.956988, 'x_r2_1': 0.856988, 'x_r2_2': 0.756988} using model BoTorch.\n",
      "[INFO 04-05 14:13:55] ax.service.ax_client: Completed trial 140 with data: {'Viable_Cross_Terms': (66, None)}.\n",
      "[INFO 04-05 14:14:12] ax.service.ax_client: Generated new trial 141 with parameters {'z_sh': 7, 'z_sh_1': 11, 'z_sh_2': 5, 'z_p2': 31, 'z_p2_1': 29, 'z_p2_2': 26, 'z_r2': 79, 'z_r2_1': 73, 'z_r2_2': 81, 'x_s': 0.5, 'x_s_1': 0.4, 'x_s_2': 0.3, 'x_p1': 0.688706, 'x_p1_1': 0.588706, 'x_p1_2': 0.488706, 'x_p2': 0.481547, 'x_p2_1': 0.381547, 'x_p2_2': 0.281547, 'x_r2': 0.933484, 'x_r2_1': 0.833484, 'x_r2_2': 0.733484} using model BoTorch.\n",
      "[INFO 04-05 14:14:12] ax.service.ax_client: Completed trial 141 with data: {'Viable_Cross_Terms': (27, None)}.\n",
      "[INFO 04-05 14:14:30] ax.service.ax_client: Generated new trial 142 with parameters {'z_sh': 7, 'z_sh_1': 9, 'z_sh_2': 5, 'z_p2': 33, 'z_p2_1': 27, 'z_p2_2': 32, 'z_r2': 77, 'z_r2_1': 72, 'z_r2_2': 80, 'x_s': 0.5, 'x_s_1': 0.4, 'x_s_2': 0.3, 'x_p1': 0.674114, 'x_p1_1': 0.574114, 'x_p1_2': 0.474114, 'x_p2': 0.447009, 'x_p2_1': 0.347009, 'x_p2_2': 0.247009, 'x_r2': 0.947624, 'x_r2_1': 0.847624, 'x_r2_2': 0.747624} using model BoTorch.\n",
      "[INFO 04-05 14:14:30] ax.service.ax_client: Completed trial 142 with data: {'Viable_Cross_Terms': (72, None)}.\n",
      "[INFO 04-05 14:14:47] ax.service.ax_client: Generated new trial 143 with parameters {'z_sh': 8, 'z_sh_1': 13, 'z_sh_2': 5, 'z_p2': 30, 'z_p2_1': 28, 'z_p2_2': 32, 'z_r2': 76, 'z_r2_1': 79, 'z_r2_2': 74, 'x_s': 0.5, 'x_s_1': 0.4, 'x_s_2': 0.3, 'x_p1': 0.599717, 'x_p1_1': 0.499717, 'x_p1_2': 0.399717, 'x_p2': 0.5, 'x_p2_1': 0.4, 'x_p2_2': 0.3, 'x_r2': 1.020073, 'x_r2_1': 0.920073, 'x_r2_2': 0.820073} using model BoTorch.\n",
      "[INFO 04-05 14:14:47] ax.service.ax_client: Completed trial 143 with data: {'Viable_Cross_Terms': (35, None)}.\n",
      "[INFO 04-05 14:15:03] ax.service.ax_client: Generated new trial 144 with parameters {'z_sh': 15, 'z_sh_1': 13, 'z_sh_2': 6, 'z_p2': 29, 'z_p2_1': 27, 'z_p2_2': 31, 'z_r2': 84, 'z_r2_1': 74, 'z_r2_2': 83, 'x_s': 0.5, 'x_s_1': 0.4, 'x_s_2': 0.3, 'x_p1': 0.643298, 'x_p1_1': 0.543298, 'x_p1_2': 0.443298, 'x_p2': 0.5, 'x_p2_1': 0.4, 'x_p2_2': 0.3, 'x_r2': 0.928691, 'x_r2_1': 0.828691, 'x_r2_2': 0.728691} using model BoTorch.\n",
      "[INFO 04-05 14:15:03] ax.service.ax_client: Completed trial 144 with data: {'Viable_Cross_Terms': (27, None)}.\n",
      "[INFO 04-05 14:15:20] ax.service.ax_client: Generated new trial 145 with parameters {'z_sh': 12, 'z_sh_1': 9, 'z_sh_2': 5, 'z_p2': 29, 'z_p2_1': 26, 'z_p2_2': 27, 'z_r2': 81, 'z_r2_1': 78, 'z_r2_2': 72, 'x_s': 0.5, 'x_s_1': 0.4, 'x_s_2': 0.3, 'x_p1': 0.655437, 'x_p1_1': 0.555437, 'x_p1_2': 0.455437, 'x_p2': 0.5, 'x_p2_1': 0.4, 'x_p2_2': 0.3, 'x_r2': 0.980165, 'x_r2_1': 0.880165, 'x_r2_2': 0.780165} using model BoTorch.\n",
      "[INFO 04-05 14:15:20] ax.service.ax_client: Completed trial 145 with data: {'Viable_Cross_Terms': (32, None)}.\n",
      "[INFO 04-05 14:15:36] ax.service.ax_client: Generated new trial 146 with parameters {'z_sh': 7, 'z_sh_1': 9, 'z_sh_2': 5, 'z_p2': 33, 'z_p2_1': 28, 'z_p2_2': 26, 'z_r2': 79, 'z_r2_1': 73, 'z_r2_2': 84, 'x_s': 0.5, 'x_s_1': 0.4, 'x_s_2': 0.3, 'x_p1': 0.687246, 'x_p1_1': 0.587246, 'x_p1_2': 0.487246, 'x_p2': 0.484792, 'x_p2_1': 0.384792, 'x_p2_2': 0.284792, 'x_r2': 0.967653, 'x_r2_1': 0.867653, 'x_r2_2': 0.767653} using model BoTorch.\n",
      "[INFO 04-05 14:15:36] ax.service.ax_client: Completed trial 146 with data: {'Viable_Cross_Terms': (32, None)}.\n"
     ]
    }
   ],
   "source": [
    "for i in range(100):\n",
    "    parameterization, trial_index = Tag_client.get_next_trial()\n",
    "    # Local evaluation here can be replaced with deployment to external system.\n",
    "    Tag_client.complete_trial(trial_index=trial_index, raw_data=score_vals(param_to_list(parameterization)))"
   ]
  },
  {
   "cell_type": "code",
   "execution_count": 46,
   "metadata": {},
   "outputs": [
    {
     "data": {
      "text/plain": [
       "trial_index                       1004\n",
       "arm_name                        1004_0\n",
       "trial_status                 COMPLETED\n",
       "generation_method              BoTorch\n",
       "generation_node       GenerationStep_1\n",
       "Viable_Cross_Terms               105.0\n",
       "z_sh                                 7\n",
       "z_sh_1                               8\n",
       "z_sh_2                               5\n",
       "z_p2                                29\n",
       "z_p2_1                              32\n",
       "z_p2_2                              31\n",
       "z_r2                                80\n",
       "z_r2_1                              82\n",
       "z_r2_2                              83\n",
       "x_s                                0.5\n",
       "x_s_1                              0.4\n",
       "x_s_2                              0.3\n",
       "x_p1                          0.613076\n",
       "x_p1_1                        0.513076\n",
       "x_p1_2                        0.413076\n",
       "x_p2                               0.5\n",
       "x_p2_1                             0.4\n",
       "x_p2_2                             0.3\n",
       "x_r2                          1.077693\n",
       "x_r2_1                        0.977693\n",
       "x_r2_2                        0.877693\n",
       "Name: 1004, dtype: object"
      ]
     },
     "execution_count": 46,
     "metadata": {},
     "output_type": "execute_result"
    }
   ],
   "source": [
    "Tag_client.generation_strategy.trials_as_df.iloc[1004]"
   ]
  },
  {
   "cell_type": "code",
   "execution_count": 24,
   "metadata": {},
   "outputs": [
    {
     "name": "stdout",
     "output_type": "stream",
     "text": [
      "z_sh: 12\n",
      "z_sh_1: 8\n",
      "z_sh_2: 5\n",
      "z_p2: 35\n",
      "z_p2_1: 31\n",
      "z_p2_2: 25\n",
      "z_r2: 78\n",
      "z_r2_1: 71\n",
      "z_r2_2: 81\n",
      "x_s: 0.19511320931836962\n",
      "x_s_1: -0.28158239942044017\n",
      "x_s_2: -0.44551438799127935\n",
      "x_p1: 0.7221133673936129\n",
      "x_p1_1: 0.17011185156181452\n",
      "x_p1_2: 0.038936774730682355\n",
      "x_p2: 0.4814263208396733\n",
      "x_p2_1: 0.2517351661995053\n",
      "x_p2_2: -0.17232676306739453\n",
      "x_r2: 0.8184660379588604\n",
      "x_r2_1: -1.2821789846755565\n",
      "x_r2_2: -1.445656919553876\n",
      "23\n"
     ]
    }
   ],
   "source": [
    "best_parameters, values = Tag_client.get_best_parameters()\n",
    "for name, value in best_parameters.items():\n",
    "    print(f\"{name}: {value}\")\n",
    "print(score_vals(param_to_list(best_parameters)))"
   ]
  },
  {
   "cell_type": "code",
   "execution_count": 25,
   "metadata": {},
   "outputs": [
    {
     "data": {
      "text/plain": [
       "[array([12,  8,  5]),\n",
       " array([35, 31, 25]),\n",
       " array([78, 71, 81]),\n",
       " array([ 0.19511321, -0.2815824 , -0.44551439]),\n",
       " array([0.72211337, 0.17011185, 0.03893677]),\n",
       " array([ 0.48142632,  0.25173517, -0.17232676]),\n",
       " array([ 0.81846604, -1.28217898, -1.44565692])]"
      ]
     },
     "execution_count": 25,
     "metadata": {},
     "output_type": "execute_result"
    }
   ],
   "source": [
    "param_to_list(best_parameters)"
   ]
  },
  {
   "cell_type": "code",
   "execution_count": 26,
   "metadata": {},
   "outputs": [
    {
     "data": {
      "application/vnd.plotly.v1+json": {
       "config": {
        "linkText": "Export to plot.ly",
        "plotlyServerURL": "https://plot.ly",
        "showLink": false
       },
       "data": [
        {
         "hoverinfo": "none",
         "legendgroup": "",
         "line": {
          "width": 0
         },
         "mode": "lines",
         "showlegend": false,
         "type": "scatter",
         "x": {
          "bdata": "AQACAAMABAAFAAYABwAIAAkACgALAAwADQAOAA8AEAARABIAEwAUABUAFgAXABgAGQAaABsAHAAdAB4AHwAgACEAIgAjACQAJQAmACcAKAApACoAKwAsAC0ALgAvADAAMQAyADMANAA1ADYANwA4ADkAOgA7ADwAPQA+AD8AQABBAEIAQwBEAEUARgBHAEgASQBKAEsATABNAE4ATwBQAFEAUgBTAFQAVQBWAFcAWABZAFoAWwBcAF0AXgBfAGAAYQBiAGMAZABlAGYAZwBoAGkAagBrAGwAbQBuAG8AcABxAHIAcwB0AHUAdgB3AHgAeQB6AHsAfAB9AH4AfwCAAIEAggCDAIQAhQCGAIcAiACJAIoAiwCMAI0AjgCPAJAAkQCSAJMA",
          "dtype": "i2"
         },
         "y": {
          "bdata": "AAAAAAAAFEAAAAAAAAAwQAAAAAAAADBAAAAAAAAANEAAAAAAAAA0QAAAAAAAADRAAAAAAAAANEAAAAAAAAA0QAAAAAAAADRAAAAAAAAANEAAAAAAAAA0QAAAAAAAADRAAAAAAAAANEAAAAAAAAA0QAAAAAAAADRAAAAAAAAANEAAAAAAAAA0QAAAAAAAADRAAAAAAAAANEAAAAAAAAA0QAAAAAAAADRAAAAAAAAANEAAAAAAAAA0QAAAAAAAADRAAAAAAAAANEAAAAAAAAA0QAAAAAAAADRAAAAAAAAANEAAAAAAAAA0QAAAAAAAADRAAAAAAAAANEAAAAAAAAA0QAAAAAAAADRAAAAAAAAANEAAAAAAAAA0QAAAAAAAADdAAAAAAAAAN0AAAAAAAAA3QAAAAAAAADdAAAAAAAAAN0AAAAAAAAA3QAAAAAAAADdAAAAAAAAAOkAAAAAAAAA+QAAAAAAAwFNAAAAAAACAVkAAAAAAAIBWQAAAAAAAgFZAAAAAAACAVkAAAAAAAIBWQAAAAAAAgFZAAAAAAACAVkAAAAAAAIBWQAAAAAAAgFZAAAAAAACAVkAAAAAAAIBWQAAAAAAAgFZAAAAAAACAVkAAAAAAAIBWQAAAAAAAgFZAAAAAAACAVkAAAAAAAIBWQAAAAAAAgFZAAAAAAACAVkAAAAAAAIBWQAAAAAAAgFZAAAAAAACAVkAAAAAAAIBWQAAAAAAAgFZAAAAAAACAVkAAAAAAAIBWQAAAAAAAgFZAAAAAAACAVkAAAAAAAIBWQAAAAAAAgFZAAAAAAACAVkAAAAAAAIBWQAAAAAAAgFZAAAAAAACAVkAAAAAAAIBWQAAAAAAAgFZAAAAAAACAVkAAAAAAAIBWQAAAAAAAgFZAAAAAAACAVkAAAAAAAIBWQAAAAAAAgFZAAAAAAACAVkAAAAAAAIBWQAAAAAAAgFZAAAAAAACAVkAAAAAAAIBWQAAAAAAAgFZAAAAAAACAVkAAAAAAAIBWQAAAAAAAgFZAAAAAAACAVkAAAAAAAIBWQAAAAAAAgFZAAAAAAACAVkAAAAAAAIBWQAAAAAAAgFZAAAAAAACAVkAAAAAAAIBWQAAAAAAAgFZAAAAAAACAVkAAAAAAAIBWQAAAAAAAgFZAAAAAAACAVkAAAAAAAIBWQAAAAAAAgFZAAAAAAACAVkAAAAAAAIBWQAAAAAAAgFZAAAAAAACAVkAAAAAAAIBWQAAAAAAAgFZAAAAAAACAVkAAAAAAAIBWQAAAAAAAgFZAAAAAAACAVkAAAAAAAIBWQAAAAAAAgFZAAAAAAACAVkAAAAAAAIBWQAAAAAAAgFZAAAAAAACAVkAAAAAAAIBWQAAAAAAAgFZAAAAAAACAVkAAAAAAAIBWQAAAAAAAgFZAAAAAAACAVkAAAAAAAIBWQAAAAAAAgFZAAAAAAACAVkAAAAAAAIBWQAAAAAAAgFZAAAAAAACAVkAAAAAAAIBWQAAAAAAAgFZAAAAAAACAVkAAAAAAAIBWQAAAAAAAgFZAAAAAAACAVkAAAAAAAIBWQAAAAAAAgFZA",
          "dtype": "f8"
         }
        },
        {
         "fill": "tonexty",
         "fillcolor": "rgba(128,177,211,0.3)",
         "legendgroup": "objective value",
         "line": {
          "color": "rgba(128,177,211,1)"
         },
         "mode": "lines",
         "name": "objective value",
         "text": [
          "Parameterization has too many items to render on hover (21).",
          "Parameterization has too many items to render on hover (21).",
          "Parameterization has too many items to render on hover (21).",
          "Parameterization has too many items to render on hover (21).",
          "Parameterization has too many items to render on hover (21).",
          "Parameterization has too many items to render on hover (21).",
          "Parameterization has too many items to render on hover (21).",
          "Parameterization has too many items to render on hover (21).",
          "Parameterization has too many items to render on hover (21).",
          "Parameterization has too many items to render on hover (21).",
          "Parameterization has too many items to render on hover (21).",
          "Parameterization has too many items to render on hover (21).",
          "Parameterization has too many items to render on hover (21).",
          "Parameterization has too many items to render on hover (21).",
          "Parameterization has too many items to render on hover (21).",
          "Parameterization has too many items to render on hover (21).",
          "Parameterization has too many items to render on hover (21).",
          "Parameterization has too many items to render on hover (21).",
          "Parameterization has too many items to render on hover (21).",
          "Parameterization has too many items to render on hover (21).",
          "Parameterization has too many items to render on hover (21).",
          "Parameterization has too many items to render on hover (21).",
          "Parameterization has too many items to render on hover (21).",
          "Parameterization has too many items to render on hover (21).",
          "Parameterization has too many items to render on hover (21).",
          "Parameterization has too many items to render on hover (21).",
          "Parameterization has too many items to render on hover (21).",
          "Parameterization has too many items to render on hover (21).",
          "Parameterization has too many items to render on hover (21).",
          "Parameterization has too many items to render on hover (21).",
          "Parameterization has too many items to render on hover (21).",
          "Parameterization has too many items to render on hover (21).",
          "Parameterization has too many items to render on hover (21).",
          "Parameterization has too many items to render on hover (21).",
          "Parameterization has too many items to render on hover (21).",
          "Parameterization has too many items to render on hover (21).",
          "Parameterization has too many items to render on hover (21).",
          "Parameterization has too many items to render on hover (21).",
          "Parameterization has too many items to render on hover (21).",
          "Parameterization has too many items to render on hover (21).",
          "Parameterization has too many items to render on hover (21).",
          "Parameterization has too many items to render on hover (21).",
          "Parameterization has too many items to render on hover (21).",
          "Parameterization has too many items to render on hover (21).",
          "Parameterization has too many items to render on hover (21).",
          "Parameterization has too many items to render on hover (21).",
          "Parameterization has too many items to render on hover (21).",
          "Parameterization has too many items to render on hover (21).",
          "Parameterization has too many items to render on hover (21).",
          "Parameterization has too many items to render on hover (21).",
          "Parameterization has too many items to render on hover (21).",
          "Parameterization has too many items to render on hover (21).",
          "Parameterization has too many items to render on hover (21).",
          "Parameterization has too many items to render on hover (21).",
          "Parameterization has too many items to render on hover (21).",
          "Parameterization has too many items to render on hover (21).",
          "Parameterization has too many items to render on hover (21).",
          "Parameterization has too many items to render on hover (21).",
          "Parameterization has too many items to render on hover (21).",
          "Parameterization has too many items to render on hover (21).",
          "Parameterization has too many items to render on hover (21).",
          "Parameterization has too many items to render on hover (21).",
          "Parameterization has too many items to render on hover (21).",
          "Parameterization has too many items to render on hover (21).",
          "Parameterization has too many items to render on hover (21).",
          "Parameterization has too many items to render on hover (21).",
          "Parameterization has too many items to render on hover (21).",
          "Parameterization has too many items to render on hover (21).",
          "Parameterization has too many items to render on hover (21).",
          "Parameterization has too many items to render on hover (21).",
          "Parameterization has too many items to render on hover (21).",
          "Parameterization has too many items to render on hover (21).",
          "Parameterization has too many items to render on hover (21).",
          "Parameterization has too many items to render on hover (21).",
          "Parameterization has too many items to render on hover (21).",
          "Parameterization has too many items to render on hover (21).",
          "Parameterization has too many items to render on hover (21).",
          "Parameterization has too many items to render on hover (21).",
          "Parameterization has too many items to render on hover (21).",
          "Parameterization has too many items to render on hover (21).",
          "Parameterization has too many items to render on hover (21).",
          "Parameterization has too many items to render on hover (21).",
          "Parameterization has too many items to render on hover (21).",
          "Parameterization has too many items to render on hover (21).",
          "Parameterization has too many items to render on hover (21).",
          "Parameterization has too many items to render on hover (21).",
          "Parameterization has too many items to render on hover (21).",
          "Parameterization has too many items to render on hover (21).",
          "Parameterization has too many items to render on hover (21).",
          "Parameterization has too many items to render on hover (21).",
          "Parameterization has too many items to render on hover (21).",
          "Parameterization has too many items to render on hover (21).",
          "Parameterization has too many items to render on hover (21).",
          "Parameterization has too many items to render on hover (21).",
          "Parameterization has too many items to render on hover (21).",
          "Parameterization has too many items to render on hover (21).",
          "Parameterization has too many items to render on hover (21).",
          "Parameterization has too many items to render on hover (21).",
          "Parameterization has too many items to render on hover (21).",
          "Parameterization has too many items to render on hover (21).",
          "Parameterization has too many items to render on hover (21).",
          "Parameterization has too many items to render on hover (21).",
          "Parameterization has too many items to render on hover (21).",
          "Parameterization has too many items to render on hover (21).",
          "Parameterization has too many items to render on hover (21).",
          "Parameterization has too many items to render on hover (21).",
          "Parameterization has too many items to render on hover (21).",
          "Parameterization has too many items to render on hover (21).",
          "Parameterization has too many items to render on hover (21).",
          "Parameterization has too many items to render on hover (21).",
          "Parameterization has too many items to render on hover (21).",
          "Parameterization has too many items to render on hover (21).",
          "Parameterization has too many items to render on hover (21).",
          "Parameterization has too many items to render on hover (21).",
          "Parameterization has too many items to render on hover (21).",
          "Parameterization has too many items to render on hover (21).",
          "Parameterization has too many items to render on hover (21).",
          "Parameterization has too many items to render on hover (21).",
          "Parameterization has too many items to render on hover (21).",
          "Parameterization has too many items to render on hover (21).",
          "Parameterization has too many items to render on hover (21).",
          "Parameterization has too many items to render on hover (21).",
          "Parameterization has too many items to render on hover (21).",
          "Parameterization has too many items to render on hover (21).",
          "Parameterization has too many items to render on hover (21).",
          "Parameterization has too many items to render on hover (21).",
          "Parameterization has too many items to render on hover (21).",
          "Parameterization has too many items to render on hover (21).",
          "Parameterization has too many items to render on hover (21).",
          "Parameterization has too many items to render on hover (21).",
          "Parameterization has too many items to render on hover (21).",
          "Parameterization has too many items to render on hover (21).",
          "Parameterization has too many items to render on hover (21).",
          "Parameterization has too many items to render on hover (21).",
          "Parameterization has too many items to render on hover (21).",
          "Parameterization has too many items to render on hover (21).",
          "Parameterization has too many items to render on hover (21).",
          "Parameterization has too many items to render on hover (21).",
          "Parameterization has too many items to render on hover (21).",
          "Parameterization has too many items to render on hover (21).",
          "Parameterization has too many items to render on hover (21).",
          "Parameterization has too many items to render on hover (21).",
          "Parameterization has too many items to render on hover (21).",
          "Parameterization has too many items to render on hover (21).",
          "Parameterization has too many items to render on hover (21).",
          "Parameterization has too many items to render on hover (21).",
          "Parameterization has too many items to render on hover (21)."
         ],
         "type": "scatter",
         "x": {
          "bdata": "AQACAAMABAAFAAYABwAIAAkACgALAAwADQAOAA8AEAARABIAEwAUABUAFgAXABgAGQAaABsAHAAdAB4AHwAgACEAIgAjACQAJQAmACcAKAApACoAKwAsAC0ALgAvADAAMQAyADMANAA1ADYANwA4ADkAOgA7ADwAPQA+AD8AQABBAEIAQwBEAEUARgBHAEgASQBKAEsATABNAE4ATwBQAFEAUgBTAFQAVQBWAFcAWABZAFoAWwBcAF0AXgBfAGAAYQBiAGMAZABlAGYAZwBoAGkAagBrAGwAbQBuAG8AcABxAHIAcwB0AHUAdgB3AHgAeQB6AHsAfAB9AH4AfwCAAIEAggCDAIQAhQCGAIcAiACJAIoAiwCMAI0AjgCPAJAAkQCSAJMA",
          "dtype": "i2"
         },
         "y": {
          "bdata": "AAAAAAAAFEAAAAAAAAAwQAAAAAAAADBAAAAAAAAANEAAAAAAAAA0QAAAAAAAADRAAAAAAAAANEAAAAAAAAA0QAAAAAAAADRAAAAAAAAANEAAAAAAAAA0QAAAAAAAADRAAAAAAAAANEAAAAAAAAA0QAAAAAAAADRAAAAAAAAANEAAAAAAAAA0QAAAAAAAADRAAAAAAAAANEAAAAAAAAA0QAAAAAAAADRAAAAAAAAANEAAAAAAAAA0QAAAAAAAADRAAAAAAAAANEAAAAAAAAA0QAAAAAAAADRAAAAAAAAANEAAAAAAAAA0QAAAAAAAADRAAAAAAAAANEAAAAAAAAA0QAAAAAAAADRAAAAAAAAANEAAAAAAAAA0QAAAAAAAADdAAAAAAAAAN0AAAAAAAAA3QAAAAAAAADdAAAAAAAAAN0AAAAAAAAA3QAAAAAAAADdAAAAAAAAAOkAAAAAAAAA+QAAAAAAAwFNAAAAAAACAVkAAAAAAAIBWQAAAAAAAgFZAAAAAAACAVkAAAAAAAIBWQAAAAAAAgFZAAAAAAACAVkAAAAAAAIBWQAAAAAAAgFZAAAAAAACAVkAAAAAAAIBWQAAAAAAAgFZAAAAAAACAVkAAAAAAAIBWQAAAAAAAgFZAAAAAAACAVkAAAAAAAIBWQAAAAAAAgFZAAAAAAACAVkAAAAAAAIBWQAAAAAAAgFZAAAAAAACAVkAAAAAAAIBWQAAAAAAAgFZAAAAAAACAVkAAAAAAAIBWQAAAAAAAgFZAAAAAAACAVkAAAAAAAIBWQAAAAAAAgFZAAAAAAACAVkAAAAAAAIBWQAAAAAAAgFZAAAAAAACAVkAAAAAAAIBWQAAAAAAAgFZAAAAAAACAVkAAAAAAAIBWQAAAAAAAgFZAAAAAAACAVkAAAAAAAIBWQAAAAAAAgFZAAAAAAACAVkAAAAAAAIBWQAAAAAAAgFZAAAAAAACAVkAAAAAAAIBWQAAAAAAAgFZAAAAAAACAVkAAAAAAAIBWQAAAAAAAgFZAAAAAAACAVkAAAAAAAIBWQAAAAAAAgFZAAAAAAACAVkAAAAAAAIBWQAAAAAAAgFZAAAAAAACAVkAAAAAAAIBWQAAAAAAAgFZAAAAAAACAVkAAAAAAAIBWQAAAAAAAgFZAAAAAAACAVkAAAAAAAIBWQAAAAAAAgFZAAAAAAACAVkAAAAAAAIBWQAAAAAAAgFZAAAAAAACAVkAAAAAAAIBWQAAAAAAAgFZAAAAAAACAVkAAAAAAAIBWQAAAAAAAgFZAAAAAAACAVkAAAAAAAIBWQAAAAAAAgFZAAAAAAACAVkAAAAAAAIBWQAAAAAAAgFZAAAAAAACAVkAAAAAAAIBWQAAAAAAAgFZAAAAAAACAVkAAAAAAAIBWQAAAAAAAgFZAAAAAAACAVkAAAAAAAIBWQAAAAAAAgFZAAAAAAACAVkAAAAAAAIBWQAAAAAAAgFZAAAAAAACAVkAAAAAAAIBWQAAAAAAAgFZAAAAAAACAVkAAAAAAAIBWQAAAAAAAgFZAAAAAAACAVkAAAAAAAIBWQAAAAAAAgFZA",
          "dtype": "f8"
         }
        },
        {
         "fill": "tonexty",
         "fillcolor": "rgba(128,177,211,0.3)",
         "hoverinfo": "none",
         "legendgroup": "",
         "line": {
          "width": 0
         },
         "mode": "lines",
         "showlegend": false,
         "type": "scatter",
         "x": {
          "bdata": "AQACAAMABAAFAAYABwAIAAkACgALAAwADQAOAA8AEAARABIAEwAUABUAFgAXABgAGQAaABsAHAAdAB4AHwAgACEAIgAjACQAJQAmACcAKAApACoAKwAsAC0ALgAvADAAMQAyADMANAA1ADYANwA4ADkAOgA7ADwAPQA+AD8AQABBAEIAQwBEAEUARgBHAEgASQBKAEsATABNAE4ATwBQAFEAUgBTAFQAVQBWAFcAWABZAFoAWwBcAF0AXgBfAGAAYQBiAGMAZABlAGYAZwBoAGkAagBrAGwAbQBuAG8AcABxAHIAcwB0AHUAdgB3AHgAeQB6AHsAfAB9AH4AfwCAAIEAggCDAIQAhQCGAIcAiACJAIoAiwCMAI0AjgCPAJAAkQCSAJMA",
          "dtype": "i2"
         },
         "y": {
          "bdata": "AAAAAAAAFEAAAAAAAAAwQAAAAAAAADBAAAAAAAAANEAAAAAAAAA0QAAAAAAAADRAAAAAAAAANEAAAAAAAAA0QAAAAAAAADRAAAAAAAAANEAAAAAAAAA0QAAAAAAAADRAAAAAAAAANEAAAAAAAAA0QAAAAAAAADRAAAAAAAAANEAAAAAAAAA0QAAAAAAAADRAAAAAAAAANEAAAAAAAAA0QAAAAAAAADRAAAAAAAAANEAAAAAAAAA0QAAAAAAAADRAAAAAAAAANEAAAAAAAAA0QAAAAAAAADRAAAAAAAAANEAAAAAAAAA0QAAAAAAAADRAAAAAAAAANEAAAAAAAAA0QAAAAAAAADRAAAAAAAAANEAAAAAAAAA0QAAAAAAAADdAAAAAAAAAN0AAAAAAAAA3QAAAAAAAADdAAAAAAAAAN0AAAAAAAAA3QAAAAAAAADdAAAAAAAAAOkAAAAAAAAA+QAAAAAAAwFNAAAAAAACAVkAAAAAAAIBWQAAAAAAAgFZAAAAAAACAVkAAAAAAAIBWQAAAAAAAgFZAAAAAAACAVkAAAAAAAIBWQAAAAAAAgFZAAAAAAACAVkAAAAAAAIBWQAAAAAAAgFZAAAAAAACAVkAAAAAAAIBWQAAAAAAAgFZAAAAAAACAVkAAAAAAAIBWQAAAAAAAgFZAAAAAAACAVkAAAAAAAIBWQAAAAAAAgFZAAAAAAACAVkAAAAAAAIBWQAAAAAAAgFZAAAAAAACAVkAAAAAAAIBWQAAAAAAAgFZAAAAAAACAVkAAAAAAAIBWQAAAAAAAgFZAAAAAAACAVkAAAAAAAIBWQAAAAAAAgFZAAAAAAACAVkAAAAAAAIBWQAAAAAAAgFZAAAAAAACAVkAAAAAAAIBWQAAAAAAAgFZAAAAAAACAVkAAAAAAAIBWQAAAAAAAgFZAAAAAAACAVkAAAAAAAIBWQAAAAAAAgFZAAAAAAACAVkAAAAAAAIBWQAAAAAAAgFZAAAAAAACAVkAAAAAAAIBWQAAAAAAAgFZAAAAAAACAVkAAAAAAAIBWQAAAAAAAgFZAAAAAAACAVkAAAAAAAIBWQAAAAAAAgFZAAAAAAACAVkAAAAAAAIBWQAAAAAAAgFZAAAAAAACAVkAAAAAAAIBWQAAAAAAAgFZAAAAAAACAVkAAAAAAAIBWQAAAAAAAgFZAAAAAAACAVkAAAAAAAIBWQAAAAAAAgFZAAAAAAACAVkAAAAAAAIBWQAAAAAAAgFZAAAAAAACAVkAAAAAAAIBWQAAAAAAAgFZAAAAAAACAVkAAAAAAAIBWQAAAAAAAgFZAAAAAAACAVkAAAAAAAIBWQAAAAAAAgFZAAAAAAACAVkAAAAAAAIBWQAAAAAAAgFZAAAAAAACAVkAAAAAAAIBWQAAAAAAAgFZAAAAAAACAVkAAAAAAAIBWQAAAAAAAgFZAAAAAAACAVkAAAAAAAIBWQAAAAAAAgFZAAAAAAACAVkAAAAAAAIBWQAAAAAAAgFZAAAAAAACAVkAAAAAAAIBWQAAAAAAAgFZAAAAAAACAVkAAAAAAAIBWQAAAAAAAgFZA",
          "dtype": "f8"
         }
        }
       ],
       "layout": {
        "showlegend": true,
        "template": {
         "data": {
          "bar": [
           {
            "error_x": {
             "color": "#2a3f5f"
            },
            "error_y": {
             "color": "#2a3f5f"
            },
            "marker": {
             "line": {
              "color": "#E5ECF6",
              "width": 0.5
             },
             "pattern": {
              "fillmode": "overlay",
              "size": 10,
              "solidity": 0.2
             }
            },
            "type": "bar"
           }
          ],
          "barpolar": [
           {
            "marker": {
             "line": {
              "color": "#E5ECF6",
              "width": 0.5
             },
             "pattern": {
              "fillmode": "overlay",
              "size": 10,
              "solidity": 0.2
             }
            },
            "type": "barpolar"
           }
          ],
          "carpet": [
           {
            "aaxis": {
             "endlinecolor": "#2a3f5f",
             "gridcolor": "white",
             "linecolor": "white",
             "minorgridcolor": "white",
             "startlinecolor": "#2a3f5f"
            },
            "baxis": {
             "endlinecolor": "#2a3f5f",
             "gridcolor": "white",
             "linecolor": "white",
             "minorgridcolor": "white",
             "startlinecolor": "#2a3f5f"
            },
            "type": "carpet"
           }
          ],
          "choropleth": [
           {
            "colorbar": {
             "outlinewidth": 0,
             "ticks": ""
            },
            "type": "choropleth"
           }
          ],
          "contour": [
           {
            "colorbar": {
             "outlinewidth": 0,
             "ticks": ""
            },
            "colorscale": [
             [
              0,
              "#0d0887"
             ],
             [
              0.1111111111111111,
              "#46039f"
             ],
             [
              0.2222222222222222,
              "#7201a8"
             ],
             [
              0.3333333333333333,
              "#9c179e"
             ],
             [
              0.4444444444444444,
              "#bd3786"
             ],
             [
              0.5555555555555556,
              "#d8576b"
             ],
             [
              0.6666666666666666,
              "#ed7953"
             ],
             [
              0.7777777777777778,
              "#fb9f3a"
             ],
             [
              0.8888888888888888,
              "#fdca26"
             ],
             [
              1,
              "#f0f921"
             ]
            ],
            "type": "contour"
           }
          ],
          "contourcarpet": [
           {
            "colorbar": {
             "outlinewidth": 0,
             "ticks": ""
            },
            "type": "contourcarpet"
           }
          ],
          "heatmap": [
           {
            "colorbar": {
             "outlinewidth": 0,
             "ticks": ""
            },
            "colorscale": [
             [
              0,
              "#0d0887"
             ],
             [
              0.1111111111111111,
              "#46039f"
             ],
             [
              0.2222222222222222,
              "#7201a8"
             ],
             [
              0.3333333333333333,
              "#9c179e"
             ],
             [
              0.4444444444444444,
              "#bd3786"
             ],
             [
              0.5555555555555556,
              "#d8576b"
             ],
             [
              0.6666666666666666,
              "#ed7953"
             ],
             [
              0.7777777777777778,
              "#fb9f3a"
             ],
             [
              0.8888888888888888,
              "#fdca26"
             ],
             [
              1,
              "#f0f921"
             ]
            ],
            "type": "heatmap"
           }
          ],
          "histogram": [
           {
            "marker": {
             "pattern": {
              "fillmode": "overlay",
              "size": 10,
              "solidity": 0.2
             }
            },
            "type": "histogram"
           }
          ],
          "histogram2d": [
           {
            "colorbar": {
             "outlinewidth": 0,
             "ticks": ""
            },
            "colorscale": [
             [
              0,
              "#0d0887"
             ],
             [
              0.1111111111111111,
              "#46039f"
             ],
             [
              0.2222222222222222,
              "#7201a8"
             ],
             [
              0.3333333333333333,
              "#9c179e"
             ],
             [
              0.4444444444444444,
              "#bd3786"
             ],
             [
              0.5555555555555556,
              "#d8576b"
             ],
             [
              0.6666666666666666,
              "#ed7953"
             ],
             [
              0.7777777777777778,
              "#fb9f3a"
             ],
             [
              0.8888888888888888,
              "#fdca26"
             ],
             [
              1,
              "#f0f921"
             ]
            ],
            "type": "histogram2d"
           }
          ],
          "histogram2dcontour": [
           {
            "colorbar": {
             "outlinewidth": 0,
             "ticks": ""
            },
            "colorscale": [
             [
              0,
              "#0d0887"
             ],
             [
              0.1111111111111111,
              "#46039f"
             ],
             [
              0.2222222222222222,
              "#7201a8"
             ],
             [
              0.3333333333333333,
              "#9c179e"
             ],
             [
              0.4444444444444444,
              "#bd3786"
             ],
             [
              0.5555555555555556,
              "#d8576b"
             ],
             [
              0.6666666666666666,
              "#ed7953"
             ],
             [
              0.7777777777777778,
              "#fb9f3a"
             ],
             [
              0.8888888888888888,
              "#fdca26"
             ],
             [
              1,
              "#f0f921"
             ]
            ],
            "type": "histogram2dcontour"
           }
          ],
          "mesh3d": [
           {
            "colorbar": {
             "outlinewidth": 0,
             "ticks": ""
            },
            "type": "mesh3d"
           }
          ],
          "parcoords": [
           {
            "line": {
             "colorbar": {
              "outlinewidth": 0,
              "ticks": ""
             }
            },
            "type": "parcoords"
           }
          ],
          "pie": [
           {
            "automargin": true,
            "type": "pie"
           }
          ],
          "scatter": [
           {
            "fillpattern": {
             "fillmode": "overlay",
             "size": 10,
             "solidity": 0.2
            },
            "type": "scatter"
           }
          ],
          "scatter3d": [
           {
            "line": {
             "colorbar": {
              "outlinewidth": 0,
              "ticks": ""
             }
            },
            "marker": {
             "colorbar": {
              "outlinewidth": 0,
              "ticks": ""
             }
            },
            "type": "scatter3d"
           }
          ],
          "scattercarpet": [
           {
            "marker": {
             "colorbar": {
              "outlinewidth": 0,
              "ticks": ""
             }
            },
            "type": "scattercarpet"
           }
          ],
          "scattergeo": [
           {
            "marker": {
             "colorbar": {
              "outlinewidth": 0,
              "ticks": ""
             }
            },
            "type": "scattergeo"
           }
          ],
          "scattergl": [
           {
            "marker": {
             "colorbar": {
              "outlinewidth": 0,
              "ticks": ""
             }
            },
            "type": "scattergl"
           }
          ],
          "scattermap": [
           {
            "marker": {
             "colorbar": {
              "outlinewidth": 0,
              "ticks": ""
             }
            },
            "type": "scattermap"
           }
          ],
          "scattermapbox": [
           {
            "marker": {
             "colorbar": {
              "outlinewidth": 0,
              "ticks": ""
             }
            },
            "type": "scattermapbox"
           }
          ],
          "scatterpolar": [
           {
            "marker": {
             "colorbar": {
              "outlinewidth": 0,
              "ticks": ""
             }
            },
            "type": "scatterpolar"
           }
          ],
          "scatterpolargl": [
           {
            "marker": {
             "colorbar": {
              "outlinewidth": 0,
              "ticks": ""
             }
            },
            "type": "scatterpolargl"
           }
          ],
          "scatterternary": [
           {
            "marker": {
             "colorbar": {
              "outlinewidth": 0,
              "ticks": ""
             }
            },
            "type": "scatterternary"
           }
          ],
          "surface": [
           {
            "colorbar": {
             "outlinewidth": 0,
             "ticks": ""
            },
            "colorscale": [
             [
              0,
              "#0d0887"
             ],
             [
              0.1111111111111111,
              "#46039f"
             ],
             [
              0.2222222222222222,
              "#7201a8"
             ],
             [
              0.3333333333333333,
              "#9c179e"
             ],
             [
              0.4444444444444444,
              "#bd3786"
             ],
             [
              0.5555555555555556,
              "#d8576b"
             ],
             [
              0.6666666666666666,
              "#ed7953"
             ],
             [
              0.7777777777777778,
              "#fb9f3a"
             ],
             [
              0.8888888888888888,
              "#fdca26"
             ],
             [
              1,
              "#f0f921"
             ]
            ],
            "type": "surface"
           }
          ],
          "table": [
           {
            "cells": {
             "fill": {
              "color": "#EBF0F8"
             },
             "line": {
              "color": "white"
             }
            },
            "header": {
             "fill": {
              "color": "#C8D4E3"
             },
             "line": {
              "color": "white"
             }
            },
            "type": "table"
           }
          ]
         },
         "layout": {
          "annotationdefaults": {
           "arrowcolor": "#2a3f5f",
           "arrowhead": 0,
           "arrowwidth": 1
          },
          "autotypenumbers": "strict",
          "coloraxis": {
           "colorbar": {
            "outlinewidth": 0,
            "ticks": ""
           }
          },
          "colorscale": {
           "diverging": [
            [
             0,
             "#8e0152"
            ],
            [
             0.1,
             "#c51b7d"
            ],
            [
             0.2,
             "#de77ae"
            ],
            [
             0.3,
             "#f1b6da"
            ],
            [
             0.4,
             "#fde0ef"
            ],
            [
             0.5,
             "#f7f7f7"
            ],
            [
             0.6,
             "#e6f5d0"
            ],
            [
             0.7,
             "#b8e186"
            ],
            [
             0.8,
             "#7fbc41"
            ],
            [
             0.9,
             "#4d9221"
            ],
            [
             1,
             "#276419"
            ]
           ],
           "sequential": [
            [
             0,
             "#0d0887"
            ],
            [
             0.1111111111111111,
             "#46039f"
            ],
            [
             0.2222222222222222,
             "#7201a8"
            ],
            [
             0.3333333333333333,
             "#9c179e"
            ],
            [
             0.4444444444444444,
             "#bd3786"
            ],
            [
             0.5555555555555556,
             "#d8576b"
            ],
            [
             0.6666666666666666,
             "#ed7953"
            ],
            [
             0.7777777777777778,
             "#fb9f3a"
            ],
            [
             0.8888888888888888,
             "#fdca26"
            ],
            [
             1,
             "#f0f921"
            ]
           ],
           "sequentialminus": [
            [
             0,
             "#0d0887"
            ],
            [
             0.1111111111111111,
             "#46039f"
            ],
            [
             0.2222222222222222,
             "#7201a8"
            ],
            [
             0.3333333333333333,
             "#9c179e"
            ],
            [
             0.4444444444444444,
             "#bd3786"
            ],
            [
             0.5555555555555556,
             "#d8576b"
            ],
            [
             0.6666666666666666,
             "#ed7953"
            ],
            [
             0.7777777777777778,
             "#fb9f3a"
            ],
            [
             0.8888888888888888,
             "#fdca26"
            ],
            [
             1,
             "#f0f921"
            ]
           ]
          },
          "colorway": [
           "#636efa",
           "#EF553B",
           "#00cc96",
           "#ab63fa",
           "#FFA15A",
           "#19d3f3",
           "#FF6692",
           "#B6E880",
           "#FF97FF",
           "#FECB52"
          ],
          "font": {
           "color": "#2a3f5f"
          },
          "geo": {
           "bgcolor": "white",
           "lakecolor": "white",
           "landcolor": "#E5ECF6",
           "showlakes": true,
           "showland": true,
           "subunitcolor": "white"
          },
          "hoverlabel": {
           "align": "left"
          },
          "hovermode": "closest",
          "mapbox": {
           "style": "light"
          },
          "paper_bgcolor": "white",
          "plot_bgcolor": "#E5ECF6",
          "polar": {
           "angularaxis": {
            "gridcolor": "white",
            "linecolor": "white",
            "ticks": ""
           },
           "bgcolor": "#E5ECF6",
           "radialaxis": {
            "gridcolor": "white",
            "linecolor": "white",
            "ticks": ""
           }
          },
          "scene": {
           "xaxis": {
            "backgroundcolor": "#E5ECF6",
            "gridcolor": "white",
            "gridwidth": 2,
            "linecolor": "white",
            "showbackground": true,
            "ticks": "",
            "zerolinecolor": "white"
           },
           "yaxis": {
            "backgroundcolor": "#E5ECF6",
            "gridcolor": "white",
            "gridwidth": 2,
            "linecolor": "white",
            "showbackground": true,
            "ticks": "",
            "zerolinecolor": "white"
           },
           "zaxis": {
            "backgroundcolor": "#E5ECF6",
            "gridcolor": "white",
            "gridwidth": 2,
            "linecolor": "white",
            "showbackground": true,
            "ticks": "",
            "zerolinecolor": "white"
           }
          },
          "shapedefaults": {
           "line": {
            "color": "#2a3f5f"
           }
          },
          "ternary": {
           "aaxis": {
            "gridcolor": "white",
            "linecolor": "white",
            "ticks": ""
           },
           "baxis": {
            "gridcolor": "white",
            "linecolor": "white",
            "ticks": ""
           },
           "bgcolor": "#E5ECF6",
           "caxis": {
            "gridcolor": "white",
            "linecolor": "white",
            "ticks": ""
           }
          },
          "title": {
           "x": 0.05
          },
          "xaxis": {
           "automargin": true,
           "gridcolor": "white",
           "linecolor": "white",
           "ticks": "",
           "title": {
            "standoff": 15
           },
           "zerolinecolor": "white",
           "zerolinewidth": 2
          },
          "yaxis": {
           "automargin": true,
           "gridcolor": "white",
           "linecolor": "white",
           "ticks": "",
           "title": {
            "standoff": 15
           },
           "zerolinecolor": "white",
           "zerolinewidth": 2
          }
         }
        },
        "title": {
         "text": "Best objective found vs. # of iterations"
        },
        "xaxis": {
         "title": {
          "text": "Iteration"
         }
        },
        "yaxis": {
         "title": {
          "text": "Viable_cross_terms"
         }
        }
       }
      }
     },
     "metadata": {},
     "output_type": "display_data"
    }
   ],
   "source": [
    "render(Tag_client.get_optimization_trace())"
   ]
  },
  {
   "cell_type": "code",
   "execution_count": 27,
   "metadata": {},
   "outputs": [
    {
     "name": "stderr",
     "output_type": "stream",
     "text": [
      "[INFO 04-05 14:15:58] ax.service.ax_client: Generated new trial 147 with parameters {'z_sh': 8, 'z_sh_1': 10, 'z_sh_2': 5, 'z_p2': 33, 'z_p2_1': 31, 'z_p2_2': 31, 'z_r2': 80, 'z_r2_1': 85, 'z_r2_2': 82, 'x_s': 0.5, 'x_s_1': 0.4, 'x_s_2': 0.3, 'x_p1': 0.629718, 'x_p1_1': 0.529718, 'x_p1_2': 0.429718, 'x_p2': 0.410605, 'x_p2_1': 0.310605, 'x_p2_2': 0.210605, 'x_r2': 0.981954, 'x_r2_1': 0.881954, 'x_r2_2': 0.781954} using model BoTorch.\n",
      "[INFO 04-05 14:15:58] ax.service.ax_client: Completed trial 147 with data: {'Viable_Cross_Terms': (85, None)}.\n",
      "[INFO 04-05 14:16:17] ax.service.ax_client: Generated new trial 148 with parameters {'z_sh': 12, 'z_sh_1': 12, 'z_sh_2': 6, 'z_p2': 34, 'z_p2_1': 30, 'z_p2_2': 25, 'z_r2': 86, 'z_r2_1': 76, 'z_r2_2': 83, 'x_s': 0.5, 'x_s_1': 0.4, 'x_s_2': 0.3, 'x_p1': 0.869118, 'x_p1_1': 0.769118, 'x_p1_2': 0.669118, 'x_p2': 0.390927, 'x_p2_1': 0.290927, 'x_p2_2': 0.190927, 'x_r2': 0.794506, 'x_r2_1': 0.694506, 'x_r2_2': 0.594506} using model BoTorch.\n",
      "[INFO 04-05 14:16:17] ax.service.ax_client: Completed trial 148 with data: {'Viable_Cross_Terms': (5, None)}.\n",
      "[INFO 04-05 14:16:35] ax.service.ax_client: Generated new trial 149 with parameters {'z_sh': 13, 'z_sh_1': 13, 'z_sh_2': 5, 'z_p2': 35, 'z_p2_1': 27, 'z_p2_2': 31, 'z_r2': 75, 'z_r2_1': 73, 'z_r2_2': 84, 'x_s': 0.5, 'x_s_1': 0.4, 'x_s_2': 0.3, 'x_p1': 0.549826, 'x_p1_1': 0.449826, 'x_p1_2': 0.349826, 'x_p2': 0.5, 'x_p2_1': 0.4, 'x_p2_2': 0.3, 'x_r2': 1.009526, 'x_r2_1': 0.909526, 'x_r2_2': 0.809526} using model BoTorch.\n",
      "[INFO 04-05 14:16:35] ax.service.ax_client: Completed trial 149 with data: {'Viable_Cross_Terms': (35, None)}.\n",
      "[INFO 04-05 14:16:54] ax.service.ax_client: Generated new trial 150 with parameters {'z_sh': 9, 'z_sh_1': 7, 'z_sh_2': 5, 'z_p2': 35, 'z_p2_1': 29, 'z_p2_2': 30, 'z_r2': 79, 'z_r2_1': 72, 'z_r2_2': 82, 'x_s': 0.5, 'x_s_1': 0.4, 'x_s_2': 0.3, 'x_p1': 0.601579, 'x_p1_1': 0.501579, 'x_p1_2': 0.401579, 'x_p2': 0.5, 'x_p2_1': 0.4, 'x_p2_2': 0.3, 'x_r2': 1.000205, 'x_r2_1': 0.900205, 'x_r2_2': 0.800205} using model BoTorch.\n",
      "[INFO 04-05 14:16:54] ax.service.ax_client: Completed trial 150 with data: {'Viable_Cross_Terms': (36, None)}.\n",
      "[INFO 04-05 14:17:10] ax.service.ax_client: Generated new trial 151 with parameters {'z_sh': 8, 'z_sh_1': 12, 'z_sh_2': 7, 'z_p2': 31, 'z_p2_1': 31, 'z_p2_2': 30, 'z_r2': 84, 'z_r2_1': 74, 'z_r2_2': 78, 'x_s': 0.5, 'x_s_1': 0.4, 'x_s_2': 0.3, 'x_p1': 0.645962, 'x_p1_1': 0.545962, 'x_p1_2': 0.445962, 'x_p2': 0.478155, 'x_p2_1': 0.378155, 'x_p2_2': 0.278155, 'x_r2': 0.962785, 'x_r2_1': 0.862785, 'x_r2_2': 0.762785} using model BoTorch.\n",
      "[INFO 04-05 14:17:10] ax.service.ax_client: Completed trial 151 with data: {'Viable_Cross_Terms': (39, None)}.\n",
      "[INFO 04-05 14:17:28] ax.service.ax_client: Generated new trial 152 with parameters {'z_sh': 9, 'z_sh_1': 7, 'z_sh_2': 7, 'z_p2': 31, 'z_p2_1': 28, 'z_p2_2': 33, 'z_r2': 79, 'z_r2_1': 80, 'z_r2_2': 83, 'x_s': 0.5, 'x_s_1': 0.4, 'x_s_2': 0.3, 'x_p1': 0.592593, 'x_p1_1': 0.492593, 'x_p1_2': 0.392593, 'x_p2': 0.5, 'x_p2_1': 0.4, 'x_p2_2': 0.3, 'x_r2': 0.962333, 'x_r2_1': 0.862333, 'x_r2_2': 0.762333} using model BoTorch.\n",
      "[INFO 04-05 14:17:28] ax.service.ax_client: Completed trial 152 with data: {'Viable_Cross_Terms': (44, None)}.\n",
      "[INFO 04-05 14:17:46] ax.service.ax_client: Generated new trial 153 with parameters {'z_sh': 13, 'z_sh_1': 7, 'z_sh_2': 5, 'z_p2': 33, 'z_p2_1': 34, 'z_p2_2': 33, 'z_r2': 86, 'z_r2_1': 85, 'z_r2_2': 81, 'x_s': 0.5, 'x_s_1': -0.4, 'x_s_2': -0.5, 'x_p1': -0.262944, 'x_p1_1': -0.362944, 'x_p1_2': -0.462944, 'x_p2': 0.5, 'x_p2_1': 0.4, 'x_p2_2': -0.5, 'x_r2': -0.474931, 'x_r2_1': -1.289167, 'x_r2_2': -1.415193} using model BoTorch.\n",
      "[INFO 04-05 14:17:46] ax.service.ax_client: Completed trial 153 with data: {'Viable_Cross_Terms': (1, None)}.\n",
      "[INFO 04-05 14:18:03] ax.service.ax_client: Generated new trial 154 with parameters {'z_sh': 15, 'z_sh_1': 7, 'z_sh_2': 7, 'z_p2': 30, 'z_p2_1': 28, 'z_p2_2': 29, 'z_r2': 82, 'z_r2_1': 78, 'z_r2_2': 72, 'x_s': 0.5, 'x_s_1': 0.4, 'x_s_2': 0.3, 'x_p1': 0.58914, 'x_p1_1': 0.48914, 'x_p1_2': 0.38914, 'x_p2': 0.5, 'x_p2_1': 0.4, 'x_p2_2': 0.3, 'x_r2': 0.949401, 'x_r2_1': 0.849401, 'x_r2_2': 0.749401} using model BoTorch.\n",
      "[INFO 04-05 14:18:03] ax.service.ax_client: Completed trial 154 with data: {'Viable_Cross_Terms': (39, None)}.\n",
      "[INFO 04-05 14:18:21] ax.service.ax_client: Generated new trial 155 with parameters {'z_sh': 7, 'z_sh_1': 6, 'z_sh_2': 5, 'z_p2': 32, 'z_p2_1': 30, 'z_p2_2': 30, 'z_r2': 77, 'z_r2_1': 75, 'z_r2_2': 82, 'x_s': 0.5, 'x_s_1': 0.4, 'x_s_2': 0.3, 'x_p1': 0.626072, 'x_p1_1': 0.526072, 'x_p1_2': 0.426072, 'x_p2': 0.5, 'x_p2_1': 0.4, 'x_p2_2': 0.3, 'x_r2': 0.967713, 'x_r2_1': 0.867713, 'x_r2_2': 0.767713} using model BoTorch.\n",
      "[INFO 04-05 14:18:21] ax.service.ax_client: Completed trial 155 with data: {'Viable_Cross_Terms': (39, None)}.\n",
      "[INFO 04-05 14:18:39] ax.service.ax_client: Generated new trial 156 with parameters {'z_sh': 8, 'z_sh_1': 10, 'z_sh_2': 5, 'z_p2': 27, 'z_p2_1': 32, 'z_p2_2': 27, 'z_r2': 83, 'z_r2_1': 75, 'z_r2_2': 81, 'x_s': 0.5, 'x_s_1': 0.4, 'x_s_2': 0.3, 'x_p1': 0.689221, 'x_p1_1': 0.589221, 'x_p1_2': 0.489221, 'x_p2': 0.413586, 'x_p2_1': 0.313586, 'x_p2_2': 0.213586, 'x_r2': 0.95442, 'x_r2_1': 0.85442, 'x_r2_2': 0.75442} using model BoTorch.\n",
      "[INFO 04-05 14:18:39] ax.service.ax_client: Completed trial 156 with data: {'Viable_Cross_Terms': (33, None)}.\n",
      "[INFO 04-05 14:18:56] ax.service.ax_client: Generated new trial 157 with parameters {'z_sh': 7, 'z_sh_1': 12, 'z_sh_2': 9, 'z_p2': 30, 'z_p2_1': 33, 'z_p2_2': 26, 'z_r2': 72, 'z_r2_1': 83, 'z_r2_2': 81, 'x_s': 0.5, 'x_s_1': 0.4, 'x_s_2': -0.5, 'x_p1': 0.625783, 'x_p1_1': 0.525783, 'x_p1_2': 0.425783, 'x_p2': -0.3, 'x_p2_1': -0.4, 'x_p2_2': -0.5, 'x_r2': 0.933614, 'x_r2_1': 0.833614, 'x_r2_2': -1.5} using model BoTorch.\n",
      "[INFO 04-05 14:18:56] ax.service.ax_client: Completed trial 157 with data: {'Viable_Cross_Terms': (2, None)}.\n",
      "[INFO 04-05 14:19:14] ax.service.ax_client: Generated new trial 158 with parameters {'z_sh': 10, 'z_sh_1': 10, 'z_sh_2': 5, 'z_p2': 28, 'z_p2_1': 28, 'z_p2_2': 31, 'z_r2': 81, 'z_r2_1': 73, 'z_r2_2': 79, 'x_s': 0.5, 'x_s_1': 0.4, 'x_s_2': 0.3, 'x_p1': 0.641011, 'x_p1_1': 0.541011, 'x_p1_2': 0.441011, 'x_p2': 0.48663, 'x_p2_1': 0.38663, 'x_p2_2': 0.28663, 'x_r2': 0.958426, 'x_r2_1': 0.858426, 'x_r2_2': 0.758426} using model BoTorch.\n",
      "[INFO 04-05 14:19:14] ax.service.ax_client: Completed trial 158 with data: {'Viable_Cross_Terms': (32, None)}.\n",
      "[INFO 04-05 14:19:30] ax.service.ax_client: Generated new trial 159 with parameters {'z_sh': 12, 'z_sh_1': 8, 'z_sh_2': 5, 'z_p2': 35, 'z_p2_1': 33, 'z_p2_2': 33, 'z_r2': 78, 'z_r2_1': 79, 'z_r2_2': 77, 'x_s': 0.5, 'x_s_1': 0.4, 'x_s_2': 0.3, 'x_p1': 0.627836, 'x_p1_1': 0.527836, 'x_p1_2': 0.427836, 'x_p2': 0.5, 'x_p2_1': 0.4, 'x_p2_2': 0.3, 'x_r2': 0.982519, 'x_r2_1': 0.882519, 'x_r2_2': 0.782519} using model BoTorch.\n",
      "[INFO 04-05 14:19:30] ax.service.ax_client: Completed trial 159 with data: {'Viable_Cross_Terms': (35, None)}.\n",
      "[INFO 04-05 14:19:46] ax.service.ax_client: Generated new trial 160 with parameters {'z_sh': 7, 'z_sh_1': 11, 'z_sh_2': 9, 'z_p2': 30, 'z_p2_1': 28, 'z_p2_2': 27, 'z_r2': 85, 'z_r2_1': 74, 'z_r2_2': 75, 'x_s': 0.5, 'x_s_1': 0.4, 'x_s_2': 0.3, 'x_p1': 0.681174, 'x_p1_1': 0.581174, 'x_p1_2': 0.481174, 'x_p2': 0.491694, 'x_p2_1': 0.391694, 'x_p2_2': 0.291694, 'x_r2': 0.957533, 'x_r2_1': 0.857533, 'x_r2_2': 0.757533} using model BoTorch.\n",
      "[INFO 04-05 14:19:46] ax.service.ax_client: Completed trial 160 with data: {'Viable_Cross_Terms': (31, None)}.\n",
      "[INFO 04-05 14:20:05] ax.service.ax_client: Generated new trial 161 with parameters {'z_sh': 7, 'z_sh_1': 13, 'z_sh_2': 5, 'z_p2': 27, 'z_p2_1': 33, 'z_p2_2': 27, 'z_r2': 81, 'z_r2_1': 76, 'z_r2_2': 80, 'x_s': 0.5, 'x_s_1': 0.4, 'x_s_2': 0.3, 'x_p1': 0.690633, 'x_p1_1': 0.590633, 'x_p1_2': 0.490633, 'x_p2': 0.442997, 'x_p2_1': 0.342997, 'x_p2_2': 0.242997, 'x_r2': 0.954319, 'x_r2_1': 0.854319, 'x_r2_2': 0.754319} using model BoTorch.\n",
      "[INFO 04-05 14:20:05] ax.service.ax_client: Completed trial 161 with data: {'Viable_Cross_Terms': (74, None)}.\n",
      "[INFO 04-05 14:20:22] ax.service.ax_client: Generated new trial 162 with parameters {'z_sh': 8, 'z_sh_1': 11, 'z_sh_2': 5, 'z_p2': 34, 'z_p2_1': 28, 'z_p2_2': 29, 'z_r2': 81, 'z_r2_1': 75, 'z_r2_2': 74, 'x_s': 0.5, 'x_s_1': 0.4, 'x_s_2': 0.3, 'x_p1': 0.647041, 'x_p1_1': 0.547041, 'x_p1_2': 0.447041, 'x_p2': 0.5, 'x_p2_1': 0.4, 'x_p2_2': 0.3, 'x_r2': 0.978548, 'x_r2_1': 0.878548, 'x_r2_2': 0.778548} using model BoTorch.\n",
      "[INFO 04-05 14:20:22] ax.service.ax_client: Completed trial 162 with data: {'Viable_Cross_Terms': (35, None)}.\n",
      "[INFO 04-05 14:20:38] ax.service.ax_client: Generated new trial 163 with parameters {'z_sh': 10, 'z_sh_1': 13, 'z_sh_2': 5, 'z_p2': 28, 'z_p2_1': 30, 'z_p2_2': 28, 'z_r2': 82, 'z_r2_1': 77, 'z_r2_2': 72, 'x_s': 0.5, 'x_s_1': 0.4, 'x_s_2': 0.3, 'x_p1': 0.640029, 'x_p1_1': 0.540029, 'x_p1_2': 0.440029, 'x_p2': 0.5, 'x_p2_1': 0.4, 'x_p2_2': 0.3, 'x_r2': 0.975698, 'x_r2_1': 0.875698, 'x_r2_2': 0.775698} using model BoTorch.\n",
      "[INFO 04-05 14:20:38] ax.service.ax_client: Completed trial 163 with data: {'Viable_Cross_Terms': (35, None)}.\n",
      "[INFO 04-05 14:20:55] ax.service.ax_client: Generated new trial 164 with parameters {'z_sh': 7, 'z_sh_1': 8, 'z_sh_2': 5, 'z_p2': 27, 'z_p2_1': 26, 'z_p2_2': 33, 'z_r2': 80, 'z_r2_1': 75, 'z_r2_2': 79, 'x_s': 0.5, 'x_s_1': 0.4, 'x_s_2': 0.3, 'x_p1': 0.662097, 'x_p1_1': 0.562097, 'x_p1_2': 0.462097, 'x_p2': 0.494023, 'x_p2_1': 0.394023, 'x_p2_2': 0.294023, 'x_r2': 0.970221, 'x_r2_1': 0.870221, 'x_r2_2': 0.770221} using model BoTorch.\n",
      "[INFO 04-05 14:20:55] ax.service.ax_client: Completed trial 164 with data: {'Viable_Cross_Terms': (72, None)}.\n",
      "[INFO 04-05 14:21:12] ax.service.ax_client: Generated new trial 165 with parameters {'z_sh': 9, 'z_sh_1': 6, 'z_sh_2': 5, 'z_p2': 27, 'z_p2_1': 26, 'z_p2_2': 30, 'z_r2': 79, 'z_r2_1': 76, 'z_r2_2': 72, 'x_s': 0.5, 'x_s_1': 0.4, 'x_s_2': 0.3, 'x_p1': 0.635914, 'x_p1_1': 0.535914, 'x_p1_2': 0.435914, 'x_p2': 0.5, 'x_p2_1': 0.4, 'x_p2_2': 0.3, 'x_r2': 0.974075, 'x_r2_1': 0.874075, 'x_r2_2': 0.774075} using model BoTorch.\n",
      "[INFO 04-05 14:21:12] ax.service.ax_client: Completed trial 165 with data: {'Viable_Cross_Terms': (35, None)}.\n",
      "[INFO 04-05 14:21:28] ax.service.ax_client: Generated new trial 166 with parameters {'z_sh': 7, 'z_sh_1': 6, 'z_sh_2': 5, 'z_p2': 31, 'z_p2_1': 31, 'z_p2_2': 33, 'z_r2': 80, 'z_r2_1': 83, 'z_r2_2': 79, 'x_s': 0.5, 'x_s_1': 0.4, 'x_s_2': 0.3, 'x_p1': 0.651619, 'x_p1_1': 0.551619, 'x_p1_2': 0.451619, 'x_p2': 0.5, 'x_p2_1': 0.4, 'x_p2_2': 0.3, 'x_r2': 0.969642, 'x_r2_1': 0.869642, 'x_r2_2': 0.769642} using model BoTorch.\n",
      "[INFO 04-05 14:21:28] ax.service.ax_client: Completed trial 166 with data: {'Viable_Cross_Terms': (76, None)}.\n",
      "[INFO 04-05 14:21:45] ax.service.ax_client: Generated new trial 167 with parameters {'z_sh': 9, 'z_sh_1': 10, 'z_sh_2': 5, 'z_p2': 27, 'z_p2_1': 33, 'z_p2_2': 30, 'z_r2': 81, 'z_r2_1': 82, 'z_r2_2': 70, 'x_s': 0.5, 'x_s_1': 0.4, 'x_s_2': 0.3, 'x_p1': 0.642537, 'x_p1_1': 0.542537, 'x_p1_2': 0.442537, 'x_p2': 0.5, 'x_p2_1': 0.4, 'x_p2_2': 0.3, 'x_r2': 0.96974, 'x_r2_1': 0.86974, 'x_r2_2': 0.76974} using model BoTorch.\n",
      "[INFO 04-05 14:21:45] ax.service.ax_client: Completed trial 167 with data: {'Viable_Cross_Terms': (32, None)}.\n",
      "[INFO 04-05 14:22:02] ax.service.ax_client: Generated new trial 168 with parameters {'z_sh': 7, 'z_sh_1': 11, 'z_sh_2': 5, 'z_p2': 31, 'z_p2_1': 32, 'z_p2_2': 29, 'z_r2': 76, 'z_r2_1': 78, 'z_r2_2': 77, 'x_s': 0.5, 'x_s_1': 0.4, 'x_s_2': 0.3, 'x_p1': 0.641498, 'x_p1_1': 0.541498, 'x_p1_2': 0.441498, 'x_p2': 0.5, 'x_p2_1': 0.4, 'x_p2_2': 0.3, 'x_r2': 0.972309, 'x_r2_1': 0.872309, 'x_r2_2': 0.772309} using model BoTorch.\n",
      "[INFO 04-05 14:22:02] ax.service.ax_client: Completed trial 168 with data: {'Viable_Cross_Terms': (38, None)}.\n",
      "[INFO 04-05 14:22:19] ax.service.ax_client: Generated new trial 169 with parameters {'z_sh': 7, 'z_sh_1': 8, 'z_sh_2': 5, 'z_p2': 35, 'z_p2_1': 26, 'z_p2_2': 29, 'z_r2': 79, 'z_r2_1': 76, 'z_r2_2': 81, 'x_s': 0.5, 'x_s_1': 0.4, 'x_s_2': 0.3, 'x_p1': 0.667094, 'x_p1_1': 0.567094, 'x_p1_2': 0.467094, 'x_p2': 0.5, 'x_p2_1': 0.4, 'x_p2_2': 0.3, 'x_r2': 0.973427, 'x_r2_1': 0.873427, 'x_r2_2': 0.773427} using model BoTorch.\n",
      "[INFO 04-05 14:22:19] ax.service.ax_client: Completed trial 169 with data: {'Viable_Cross_Terms': (32, None)}.\n",
      "[INFO 04-05 14:22:36] ax.service.ax_client: Generated new trial 170 with parameters {'z_sh': 7, 'z_sh_1': 10, 'z_sh_2': 5, 'z_p2': 31, 'z_p2_1': 32, 'z_p2_2': 28, 'z_r2': 78, 'z_r2_1': 73, 'z_r2_2': 75, 'x_s': 0.5, 'x_s_1': 0.4, 'x_s_2': 0.3, 'x_p1': 0.648985, 'x_p1_1': 0.548985, 'x_p1_2': 0.448985, 'x_p2': 0.5, 'x_p2_1': 0.4, 'x_p2_2': 0.3, 'x_r2': 0.970127, 'x_r2_1': 0.870127, 'x_r2_2': 0.770127} using model BoTorch.\n",
      "[INFO 04-05 14:22:36] ax.service.ax_client: Completed trial 170 with data: {'Viable_Cross_Terms': (35, None)}.\n",
      "[INFO 04-05 14:22:54] ax.service.ax_client: Generated new trial 171 with parameters {'z_sh': 8, 'z_sh_1': 11, 'z_sh_2': 5, 'z_p2': 32, 'z_p2_1': 29, 'z_p2_2': 29, 'z_r2': 77, 'z_r2_1': 71, 'z_r2_2': 79, 'x_s': 0.5, 'x_s_1': 0.4, 'x_s_2': 0.3, 'x_p1': 0.64165, 'x_p1_1': 0.54165, 'x_p1_2': 0.44165, 'x_p2': 0.5, 'x_p2_1': 0.4, 'x_p2_2': 0.3, 'x_r2': 0.968813, 'x_r2_1': 0.868813, 'x_r2_2': 0.768813} using model BoTorch.\n",
      "[INFO 04-05 14:22:54] ax.service.ax_client: Completed trial 171 with data: {'Viable_Cross_Terms': (32, None)}.\n",
      "[INFO 04-05 14:23:11] ax.service.ax_client: Generated new trial 172 with parameters {'z_sh': 7, 'z_sh_1': 12, 'z_sh_2': 5, 'z_p2': 28, 'z_p2_1': 33, 'z_p2_2': 28, 'z_r2': 82, 'z_r2_1': 76, 'z_r2_2': 79, 'x_s': 0.5, 'x_s_1': 0.4, 'x_s_2': 0.3, 'x_p1': 0.687308, 'x_p1_1': 0.587308, 'x_p1_2': 0.487308, 'x_p2': 0.5, 'x_p2_1': 0.4, 'x_p2_2': 0.3, 'x_r2': 0.967847, 'x_r2_1': 0.867847, 'x_r2_2': 0.767847} using model BoTorch.\n",
      "[INFO 04-05 14:23:11] ax.service.ax_client: Completed trial 172 with data: {'Viable_Cross_Terms': (32, None)}.\n",
      "[INFO 04-05 14:23:29] ax.service.ax_client: Generated new trial 173 with parameters {'z_sh': 12, 'z_sh_1': 10, 'z_sh_2': 5, 'z_p2': 32, 'z_p2_1': 26, 'z_p2_2': 28, 'z_r2': 78, 'z_r2_1': 74, 'z_r2_2': 73, 'x_s': 0.5, 'x_s_1': 0.4, 'x_s_2': 0.3, 'x_p1': 0.660782, 'x_p1_1': 0.560782, 'x_p1_2': 0.460782, 'x_p2': 0.5, 'x_p2_1': 0.4, 'x_p2_2': 0.3, 'x_r2': 0.973019, 'x_r2_1': 0.873019, 'x_r2_2': 0.773019} using model BoTorch.\n",
      "[INFO 04-05 14:23:29] ax.service.ax_client: Completed trial 173 with data: {'Viable_Cross_Terms': (32, None)}.\n",
      "[INFO 04-05 14:23:49] ax.service.ax_client: Generated new trial 174 with parameters {'z_sh': 7, 'z_sh_1': 12, 'z_sh_2': 5, 'z_p2': 27, 'z_p2_1': 31, 'z_p2_2': 28, 'z_r2': 81, 'z_r2_1': 74, 'z_r2_2': 75, 'x_s': 0.5, 'x_s_1': 0.4, 'x_s_2': 0.3, 'x_p1': 0.72555, 'x_p1_1': 0.62555, 'x_p1_2': 0.52555, 'x_p2': 0.5, 'x_p2_1': 0.4, 'x_p2_2': 0.3, 'x_r2': 0.969975, 'x_r2_1': 0.869975, 'x_r2_2': 0.769975} using model BoTorch.\n",
      "[INFO 04-05 14:23:49] ax.service.ax_client: Completed trial 174 with data: {'Viable_Cross_Terms': (25, None)}.\n",
      "[INFO 04-05 14:24:06] ax.service.ax_client: Generated new trial 175 with parameters {'z_sh': 7, 'z_sh_1': 7, 'z_sh_2': 5, 'z_p2': 28, 'z_p2_1': 27, 'z_p2_2': 28, 'z_r2': 84, 'z_r2_1': 83, 'z_r2_2': 76, 'x_s': 0.5, 'x_s_1': 0.4, 'x_s_2': 0.3, 'x_p1': 0.782015, 'x_p1_1': 0.682015, 'x_p1_2': 0.582015, 'x_p2': 0.438089, 'x_p2_1': 0.338089, 'x_p2_2': 0.238089, 'x_r2': 0.970597, 'x_r2_1': 0.870597, 'x_r2_2': 0.770597} using model BoTorch.\n",
      "[INFO 04-05 14:24:06] ax.service.ax_client: Completed trial 175 with data: {'Viable_Cross_Terms': (25, None)}.\n",
      "[INFO 04-05 14:24:23] ax.service.ax_client: Generated new trial 176 with parameters {'z_sh': 12, 'z_sh_1': 6, 'z_sh_2': 5, 'z_p2': 28, 'z_p2_1': 29, 'z_p2_2': 27, 'z_r2': 82, 'z_r2_1': 77, 'z_r2_2': 79, 'x_s': 0.5, 'x_s_1': 0.4, 'x_s_2': 0.3, 'x_p1': 0.740758, 'x_p1_1': 0.640758, 'x_p1_2': 0.540758, 'x_p2': 0.472443, 'x_p2_1': 0.372443, 'x_p2_2': 0.272443, 'x_r2': 0.96067, 'x_r2_1': 0.86067, 'x_r2_2': 0.76067} using model BoTorch.\n",
      "[INFO 04-05 14:24:23] ax.service.ax_client: Completed trial 176 with data: {'Viable_Cross_Terms': (23, None)}.\n",
      "[INFO 04-05 14:24:41] ax.service.ax_client: Generated new trial 177 with parameters {'z_sh': 7, 'z_sh_1': 10, 'z_sh_2': 5, 'z_p2': 32, 'z_p2_1': 27, 'z_p2_2': 27, 'z_r2': 78, 'z_r2_1': 74, 'z_r2_2': 82, 'x_s': 0.5, 'x_s_1': 0.4, 'x_s_2': 0.3, 'x_p1': 0.760563, 'x_p1_1': 0.660563, 'x_p1_2': 0.560563, 'x_p2': 0.489014, 'x_p2_1': 0.389014, 'x_p2_2': 0.289014, 'x_r2': 0.959179, 'x_r2_1': 0.859179, 'x_r2_2': 0.759179} using model BoTorch.\n",
      "[INFO 04-05 14:24:41] ax.service.ax_client: Completed trial 177 with data: {'Viable_Cross_Terms': (25, None)}.\n",
      "[INFO 04-05 14:24:59] ax.service.ax_client: Generated new trial 178 with parameters {'z_sh': 13, 'z_sh_1': 12, 'z_sh_2': 5, 'z_p2': 28, 'z_p2_1': 27, 'z_p2_2': 28, 'z_r2': 80, 'z_r2_1': 73, 'z_r2_2': 84, 'x_s': 0.5, 'x_s_1': 0.4, 'x_s_2': 0.3, 'x_p1': 0.708656, 'x_p1_1': 0.608656, 'x_p1_2': 0.508656, 'x_p2': 0.448844, 'x_p2_1': 0.348844, 'x_p2_2': 0.248844, 'x_r2': 0.946381, 'x_r2_1': 0.846381, 'x_r2_2': 0.746381} using model BoTorch.\n",
      "[INFO 04-05 14:24:59] ax.service.ax_client: Completed trial 178 with data: {'Viable_Cross_Terms': (68, None)}.\n",
      "[INFO 04-05 14:25:16] ax.service.ax_client: Generated new trial 179 with parameters {'z_sh': 10, 'z_sh_1': 9, 'z_sh_2': 5, 'z_p2': 28, 'z_p2_1': 31, 'z_p2_2': 33, 'z_r2': 80, 'z_r2_1': 71, 'z_r2_2': 84, 'x_s': 0.5, 'x_s_1': 0.4, 'x_s_2': 0.3, 'x_p1': 0.710962, 'x_p1_1': 0.610962, 'x_p1_2': 0.510962, 'x_p2': 0.461484, 'x_p2_1': 0.361484, 'x_p2_2': 0.261484, 'x_r2': 0.949636, 'x_r2_1': 0.849636, 'x_r2_2': 0.749636} using model BoTorch.\n",
      "[INFO 04-05 14:25:16] ax.service.ax_client: Completed trial 179 with data: {'Viable_Cross_Terms': (61, None)}.\n",
      "[INFO 04-05 14:25:33] ax.service.ax_client: Generated new trial 180 with parameters {'z_sh': 10, 'z_sh_1': 8, 'z_sh_2': 7, 'z_p2': 32, 'z_p2_1': 31, 'z_p2_2': 33, 'z_r2': 80, 'z_r2_1': 76, 'z_r2_2': 76, 'x_s': 0.5, 'x_s_1': 0.4, 'x_s_2': 0.3, 'x_p1': 0.688094, 'x_p1_1': 0.588094, 'x_p1_2': 0.488094, 'x_p2': 0.5, 'x_p2_1': 0.4, 'x_p2_2': 0.3, 'x_r2': 0.948246, 'x_r2_1': 0.848246, 'x_r2_2': 0.748246} using model BoTorch.\n",
      "[INFO 04-05 14:25:33] ax.service.ax_client: Completed trial 180 with data: {'Viable_Cross_Terms': (33, None)}.\n",
      "[INFO 04-05 14:25:50] ax.service.ax_client: Generated new trial 181 with parameters {'z_sh': 11, 'z_sh_1': 10, 'z_sh_2': 5, 'z_p2': 27, 'z_p2_1': 27, 'z_p2_2': 33, 'z_r2': 80, 'z_r2_1': 78, 'z_r2_2': 80, 'x_s': 0.5, 'x_s_1': 0.4, 'x_s_2': 0.3, 'x_p1': 0.709414, 'x_p1_1': 0.609414, 'x_p1_2': 0.509414, 'x_p2': 0.460372, 'x_p2_1': 0.360372, 'x_p2_2': 0.260372, 'x_r2': 0.949425, 'x_r2_1': 0.849425, 'x_r2_2': 0.749425} using model BoTorch.\n",
      "[INFO 04-05 14:25:50] ax.service.ax_client: Completed trial 181 with data: {'Viable_Cross_Terms': (61, None)}.\n",
      "[INFO 04-05 14:26:07] ax.service.ax_client: Generated new trial 182 with parameters {'z_sh': 15, 'z_sh_1': 11, 'z_sh_2': 8, 'z_p2': 27, 'z_p2_1': 31, 'z_p2_2': 33, 'z_r2': 76, 'z_r2_1': 80, 'z_r2_2': 73, 'x_s': 0.5, 'x_s_1': 0.4, 'x_s_2': 0.3, 'x_p1': 0.615826, 'x_p1_1': 0.515826, 'x_p1_2': 0.415826, 'x_p2': 0.5, 'x_p2_1': 0.4, 'x_p2_2': 0.3, 'x_r2': 0.945411, 'x_r2_1': 0.845411, 'x_r2_2': 0.745411} using model BoTorch.\n",
      "[INFO 04-05 14:26:07] ax.service.ax_client: Completed trial 182 with data: {'Viable_Cross_Terms': (41, None)}.\n",
      "[INFO 04-05 14:26:24] ax.service.ax_client: Generated new trial 183 with parameters {'z_sh': 12, 'z_sh_1': 12, 'z_sh_2': 6, 'z_p2': 31, 'z_p2_1': 29, 'z_p2_2': 33, 'z_r2': 82, 'z_r2_1': 75, 'z_r2_2': 78, 'x_s': 0.5, 'x_s_1': 0.4, 'x_s_2': 0.3, 'x_p1': 0.666583, 'x_p1_1': 0.566583, 'x_p1_2': 0.466583, 'x_p2': 0.449176, 'x_p2_1': 0.349176, 'x_p2_2': 0.249176, 'x_r2': 0.946607, 'x_r2_1': 0.846607, 'x_r2_2': 0.746607} using model BoTorch.\n",
      "[INFO 04-05 14:26:24] ax.service.ax_client: Completed trial 183 with data: {'Viable_Cross_Terms': (31, None)}.\n",
      "[INFO 04-05 14:26:43] ax.service.ax_client: Generated new trial 184 with parameters {'z_sh': 14, 'z_sh_1': 10, 'z_sh_2': 5, 'z_p2': 27, 'z_p2_1': 26, 'z_p2_2': 27, 'z_r2': 81, 'z_r2_1': 80, 'z_r2_2': 72, 'x_s': 0.5, 'x_s_1': 0.4, 'x_s_2': 0.3, 'x_p1': 0.70615, 'x_p1_1': 0.60615, 'x_p1_2': 0.50615, 'x_p2': 0.462971, 'x_p2_1': 0.362971, 'x_p2_2': 0.262971, 'x_r2': 0.945053, 'x_r2_1': 0.845053, 'x_r2_2': 0.745053} using model BoTorch.\n",
      "[INFO 04-05 14:26:43] ax.service.ax_client: Completed trial 184 with data: {'Viable_Cross_Terms': (60, None)}.\n",
      "[INFO 04-05 14:27:00] ax.service.ax_client: Generated new trial 185 with parameters {'z_sh': 7, 'z_sh_1': 7, 'z_sh_2': 5, 'z_p2': 27, 'z_p2_1': 30, 'z_p2_2': 33, 'z_r2': 80, 'z_r2_1': 76, 'z_r2_2': 72, 'x_s': 0.5, 'x_s_1': 0.4, 'x_s_2': 0.3, 'x_p1': 0.674192, 'x_p1_1': 0.574192, 'x_p1_2': 0.474192, 'x_p2': 0.480274, 'x_p2_1': 0.380274, 'x_p2_2': 0.280274, 'x_r2': 0.954272, 'x_r2_1': 0.854272, 'x_r2_2': 0.754272} using model BoTorch.\n",
      "[INFO 04-05 14:27:00] ax.service.ax_client: Completed trial 185 with data: {'Viable_Cross_Terms': (68, None)}.\n",
      "[INFO 04-05 14:27:17] ax.service.ax_client: Generated new trial 186 with parameters {'z_sh': 9, 'z_sh_1': 13, 'z_sh_2': 5, 'z_p2': 29, 'z_p2_1': 27, 'z_p2_2': 25, 'z_r2': 75, 'z_r2_1': 78, 'z_r2_2': 77, 'x_s': 0.5, 'x_s_1': 0.4, 'x_s_2': 0.3, 'x_p1': 0.632611, 'x_p1_1': 0.532611, 'x_p1_2': 0.432611, 'x_p2': 0.5, 'x_p2_1': 0.4, 'x_p2_2': 0.3, 'x_r2': 0.959207, 'x_r2_1': 0.859207, 'x_r2_2': 0.759207} using model BoTorch.\n",
      "[INFO 04-05 14:27:17] ax.service.ax_client: Completed trial 186 with data: {'Viable_Cross_Terms': (32, None)}.\n",
      "[INFO 04-05 14:27:35] ax.service.ax_client: Generated new trial 187 with parameters {'z_sh': 11, 'z_sh_1': 7, 'z_sh_2': 5, 'z_p2': 28, 'z_p2_1': 28, 'z_p2_2': 33, 'z_r2': 83, 'z_r2_1': 80, 'z_r2_2': 80, 'x_s': 0.5, 'x_s_1': 0.4, 'x_s_2': 0.3, 'x_p1': 0.652827, 'x_p1_1': 0.552827, 'x_p1_2': 0.452827, 'x_p2': 0.414215, 'x_p2_1': 0.314215, 'x_p2_2': 0.214215, 'x_r2': 0.943083, 'x_r2_1': 0.843083, 'x_r2_2': 0.743083} using model BoTorch.\n",
      "[INFO 04-05 14:27:35] ax.service.ax_client: Completed trial 187 with data: {'Viable_Cross_Terms': (71, None)}.\n",
      "[INFO 04-05 14:27:53] ax.service.ax_client: Generated new trial 188 with parameters {'z_sh': 9, 'z_sh_1': 7, 'z_sh_2': 5, 'z_p2': 31, 'z_p2_1': 32, 'z_p2_2': 32, 'z_r2': 82, 'z_r2_1': 76, 'z_r2_2': 78, 'x_s': 0.5, 'x_s_1': 0.4, 'x_s_2': 0.3, 'x_p1': 0.6238, 'x_p1_1': 0.5238, 'x_p1_2': 0.4238, 'x_p2': 0.397092, 'x_p2_1': 0.297092, 'x_p2_2': 0.197092, 'x_r2': 0.936678, 'x_r2_1': 0.836678, 'x_r2_2': 0.736678} using model BoTorch.\n",
      "[INFO 04-05 14:27:53] ax.service.ax_client: Completed trial 188 with data: {'Viable_Cross_Terms': (47, None)}.\n",
      "[INFO 04-05 14:28:10] ax.service.ax_client: Generated new trial 189 with parameters {'z_sh': 7, 'z_sh_1': 11, 'z_sh_2': 5, 'z_p2': 32, 'z_p2_1': 32, 'z_p2_2': 29, 'z_r2': 82, 'z_r2_1': 79, 'z_r2_2': 81, 'x_s': 0.5, 'x_s_1': 0.4, 'x_s_2': 0.3, 'x_p1': 0.62182, 'x_p1_1': 0.52182, 'x_p1_2': 0.42182, 'x_p2': 0.369477, 'x_p2_1': 0.269477, 'x_p2_2': 0.169477, 'x_r2': 0.936888, 'x_r2_1': 0.836888, 'x_r2_2': 0.736888} using model BoTorch.\n",
      "[INFO 04-05 14:28:10] ax.service.ax_client: Completed trial 189 with data: {'Viable_Cross_Terms': (43, None)}.\n",
      "[INFO 04-05 14:28:28] ax.service.ax_client: Generated new trial 190 with parameters {'z_sh': 8, 'z_sh_1': 12, 'z_sh_2': 5, 'z_p2': 34, 'z_p2_1': 27, 'z_p2_2': 33, 'z_r2': 81, 'z_r2_1': 73, 'z_r2_2': 81, 'x_s': 0.5, 'x_s_1': 0.4, 'x_s_2': 0.3, 'x_p1': 0.60937, 'x_p1_1': 0.50937, 'x_p1_2': 0.40937, 'x_p2': 0.405003, 'x_p2_1': 0.305003, 'x_p2_2': 0.205003, 'x_r2': 0.946112, 'x_r2_1': 0.846112, 'x_r2_2': 0.746112} using model BoTorch.\n",
      "[INFO 04-05 14:28:28] ax.service.ax_client: Completed trial 190 with data: {'Viable_Cross_Terms': (35, None)}.\n",
      "[INFO 04-05 14:28:47] ax.service.ax_client: Generated new trial 191 with parameters {'z_sh': 14, 'z_sh_1': 11, 'z_sh_2': 5, 'z_p2': 33, 'z_p2_1': 28, 'z_p2_2': 32, 'z_r2': 77, 'z_r2_1': 85, 'z_r2_2': 79, 'x_s': 0.5, 'x_s_1': 0.4, 'x_s_2': 0.3, 'x_p1': 0.593679, 'x_p1_1': 0.493679, 'x_p1_2': 0.393679, 'x_p2': 0.5, 'x_p2_1': 0.4, 'x_p2_2': 0.3, 'x_r2': 0.957148, 'x_r2_1': 0.857148, 'x_r2_2': 0.757148} using model BoTorch.\n",
      "[INFO 04-05 14:28:47] ax.service.ax_client: Completed trial 191 with data: {'Viable_Cross_Terms': (36, None)}.\n",
      "[INFO 04-05 14:29:05] ax.service.ax_client: Generated new trial 192 with parameters {'z_sh': 7, 'z_sh_1': 11, 'z_sh_2': 5, 'z_p2': 33, 'z_p2_1': 31, 'z_p2_2': 31, 'z_r2': 78, 'z_r2_1': 73, 'z_r2_2': 76, 'x_s': 0.5, 'x_s_1': 0.4, 'x_s_2': 0.3, 'x_p1': 0.601351, 'x_p1_1': 0.501351, 'x_p1_2': 0.401351, 'x_p2': 0.486461, 'x_p2_1': 0.386461, 'x_p2_2': 0.286461, 'x_r2': 0.965467, 'x_r2_1': 0.865467, 'x_r2_2': 0.765467} using model BoTorch.\n",
      "[INFO 04-05 14:29:05] ax.service.ax_client: Completed trial 192 with data: {'Viable_Cross_Terms': (40, None)}.\n",
      "[INFO 04-05 14:29:23] ax.service.ax_client: Generated new trial 193 with parameters {'z_sh': 13, 'z_sh_1': 10, 'z_sh_2': 13, 'z_p2': 27, 'z_p2_1': 26, 'z_p2_2': 27, 'z_r2': 72, 'z_r2_1': 72, 'z_r2_2': 79, 'x_s': -0.3, 'x_s_1': -0.4, 'x_s_2': -0.5, 'x_p1': 1.0, 'x_p1_1': -0.9, 'x_p1_2': -1.0, 'x_p2': -0.3, 'x_p2_1': -0.4, 'x_p2_2': -0.5, 'x_r2': -1.3, 'x_r2_1': -1.4, 'x_r2_2': -1.5} using model BoTorch.\n",
      "[INFO 04-05 14:29:23] ax.service.ax_client: Completed trial 193 with data: {'Viable_Cross_Terms': (0, None)}.\n",
      "[INFO 04-05 14:29:43] ax.service.ax_client: Generated new trial 194 with parameters {'z_sh': 7, 'z_sh_1': 6, 'z_sh_2': 5, 'z_p2': 31, 'z_p2_1': 27, 'z_p2_2': 33, 'z_r2': 80, 'z_r2_1': 73, 'z_r2_2': 79, 'x_s': 0.5, 'x_s_1': 0.4, 'x_s_2': 0.3, 'x_p1': 0.613591, 'x_p1_1': 0.513591, 'x_p1_2': 0.413591, 'x_p2': 0.435789, 'x_p2_1': 0.335789, 'x_p2_2': 0.235789, 'x_r2': 0.951565, 'x_r2_1': 0.851565, 'x_r2_2': 0.751565} using model BoTorch.\n",
      "[INFO 04-05 14:29:43] ax.service.ax_client: Completed trial 194 with data: {'Viable_Cross_Terms': (83, None)}.\n",
      "[INFO 04-05 14:30:01] ax.service.ax_client: Generated new trial 195 with parameters {'z_sh': 10, 'z_sh_1': 9, 'z_sh_2': 5, 'z_p2': 29, 'z_p2_1': 30, 'z_p2_2': 33, 'z_r2': 78, 'z_r2_1': 81, 'z_r2_2': 80, 'x_s': 0.5, 'x_s_1': 0.4, 'x_s_2': 0.3, 'x_p1': 0.610188, 'x_p1_1': 0.510188, 'x_p1_2': 0.410188, 'x_p2': 0.44276, 'x_p2_1': 0.34276, 'x_p2_2': 0.24276, 'x_r2': 0.945648, 'x_r2_1': 0.845648, 'x_r2_2': 0.745648} using model BoTorch.\n",
      "[INFO 04-05 14:30:01] ax.service.ax_client: Completed trial 195 with data: {'Viable_Cross_Terms': (78, None)}.\n",
      "[INFO 04-05 14:30:19] ax.service.ax_client: Generated new trial 196 with parameters {'z_sh': 12, 'z_sh_1': 11, 'z_sh_2': 7, 'z_p2': 32, 'z_p2_1': 28, 'z_p2_2': 33, 'z_r2': 77, 'z_r2_1': 83, 'z_r2_2': 78, 'x_s': 0.5, 'x_s_1': 0.4, 'x_s_2': 0.3, 'x_p1': 0.538904, 'x_p1_1': 0.438904, 'x_p1_2': 0.338904, 'x_p2': 0.499897, 'x_p2_1': 0.399897, 'x_p2_2': 0.299897, 'x_r2': 0.94312, 'x_r2_1': 0.84312, 'x_r2_2': 0.74312} using model BoTorch.\n",
      "[INFO 04-05 14:30:20] ax.service.ax_client: Completed trial 196 with data: {'Viable_Cross_Terms': (33, None)}.\n",
      "[INFO 04-05 14:30:37] ax.service.ax_client: Generated new trial 197 with parameters {'z_sh': 12, 'z_sh_1': 9, 'z_sh_2': 5, 'z_p2': 29, 'z_p2_1': 30, 'z_p2_2': 33, 'z_r2': 79, 'z_r2_1': 83, 'z_r2_2': 78, 'x_s': 0.5, 'x_s_1': 0.4, 'x_s_2': 0.3, 'x_p1': 0.603489, 'x_p1_1': 0.503489, 'x_p1_2': 0.403489, 'x_p2': 0.42326, 'x_p2_1': 0.32326, 'x_p2_2': 0.22326, 'x_r2': 0.941829, 'x_r2_1': 0.841829, 'x_r2_2': 0.741829} using model BoTorch.\n",
      "[INFO 04-05 14:30:37] ax.service.ax_client: Completed trial 197 with data: {'Viable_Cross_Terms': (34, None)}.\n",
      "[INFO 04-05 14:30:55] ax.service.ax_client: Generated new trial 198 with parameters {'z_sh': 8, 'z_sh_1': 8, 'z_sh_2': 6, 'z_p2': 27, 'z_p2_1': 28, 'z_p2_2': 32, 'z_r2': 80, 'z_r2_1': 73, 'z_r2_2': 78, 'x_s': 0.5, 'x_s_1': 0.4, 'x_s_2': 0.3, 'x_p1': 0.623821, 'x_p1_1': 0.523821, 'x_p1_2': 0.423821, 'x_p2': 0.420273, 'x_p2_1': 0.320273, 'x_p2_2': 0.220273, 'x_r2': 0.932237, 'x_r2_1': 0.832237, 'x_r2_2': 0.732237} using model BoTorch.\n",
      "[INFO 04-05 14:30:55] ax.service.ax_client: Completed trial 198 with data: {'Viable_Cross_Terms': (36, None)}.\n",
      "[INFO 04-05 14:31:13] ax.service.ax_client: Generated new trial 199 with parameters {'z_sh': 10, 'z_sh_1': 6, 'z_sh_2': 5, 'z_p2': 27, 'z_p2_1': 27, 'z_p2_2': 33, 'z_r2': 80, 'z_r2_1': 81, 'z_r2_2': 79, 'x_s': 0.5, 'x_s_1': 0.4, 'x_s_2': 0.3, 'x_p1': 0.617878, 'x_p1_1': 0.517878, 'x_p1_2': 0.417878, 'x_p2': 0.433673, 'x_p2_1': 0.333673, 'x_p2_2': 0.233673, 'x_r2': 0.933064, 'x_r2_1': 0.833064, 'x_r2_2': 0.733064} using model BoTorch.\n",
      "[INFO 04-05 14:31:13] ax.service.ax_client: Completed trial 199 with data: {'Viable_Cross_Terms': (70, None)}.\n",
      "[INFO 04-05 14:31:33] ax.service.ax_client: Generated new trial 200 with parameters {'z_sh': 7, 'z_sh_1': 6, 'z_sh_2': 5, 'z_p2': 27, 'z_p2_1': 26, 'z_p2_2': 33, 'z_r2': 80, 'z_r2_1': 85, 'z_r2_2': 78, 'x_s': 0.5, 'x_s_1': 0.4, 'x_s_2': 0.3, 'x_p1': 0.620082, 'x_p1_1': 0.520082, 'x_p1_2': 0.420082, 'x_p2': 0.423377, 'x_p2_1': 0.323377, 'x_p2_2': 0.223377, 'x_r2': 0.931917, 'x_r2_1': 0.831917, 'x_r2_2': 0.731917} using model BoTorch.\n",
      "[INFO 04-05 14:31:33] ax.service.ax_client: Completed trial 200 with data: {'Viable_Cross_Terms': (73, None)}.\n",
      "[INFO 04-05 14:31:51] ax.service.ax_client: Generated new trial 201 with parameters {'z_sh': 13, 'z_sh_1': 12, 'z_sh_2': 9, 'z_p2': 32, 'z_p2_1': 29, 'z_p2_2': 32, 'z_r2': 82, 'z_r2_1': 72, 'z_r2_2': 71, 'x_s': 0.5, 'x_s_1': 0.4, 'x_s_2': 0.3, 'x_p1': 0.542379, 'x_p1_1': 0.442379, 'x_p1_2': 0.342379, 'x_p2': 0.468724, 'x_p2_1': 0.368724, 'x_p2_2': 0.268724, 'x_r2': 0.932308, 'x_r2_1': 0.832308, 'x_r2_2': 0.732308} using model BoTorch.\n",
      "[INFO 04-05 14:31:51] ax.service.ax_client: Completed trial 201 with data: {'Viable_Cross_Terms': (33, None)}.\n",
      "[INFO 04-05 14:32:09] ax.service.ax_client: Generated new trial 202 with parameters {'z_sh': 11, 'z_sh_1': 6, 'z_sh_2': 5, 'z_p2': 29, 'z_p2_1': 29, 'z_p2_2': 30, 'z_r2': 82, 'z_r2_1': 79, 'z_r2_2': 79, 'x_s': 0.5, 'x_s_1': 0.4, 'x_s_2': 0.3, 'x_p1': 0.625014, 'x_p1_1': 0.525014, 'x_p1_2': 0.425014, 'x_p2': 0.39103, 'x_p2_1': 0.29103, 'x_p2_2': 0.19103, 'x_r2': 0.92525, 'x_r2_1': 0.82525, 'x_r2_2': 0.72525} using model BoTorch.\n",
      "[INFO 04-05 14:32:09] ax.service.ax_client: Completed trial 202 with data: {'Viable_Cross_Terms': (30, None)}.\n",
      "[INFO 04-05 14:32:28] ax.service.ax_client: Generated new trial 203 with parameters {'z_sh': 7, 'z_sh_1': 10, 'z_sh_2': 5, 'z_p2': 29, 'z_p2_1': 29, 'z_p2_2': 29, 'z_r2': 77, 'z_r2_1': 74, 'z_r2_2': 82, 'x_s': 0.5, 'x_s_1': 0.4, 'x_s_2': 0.3, 'x_p1': 0.598949, 'x_p1_1': 0.498949, 'x_p1_2': 0.398949, 'x_p2': 0.499864, 'x_p2_1': 0.399864, 'x_p2_2': 0.299864, 'x_r2': 0.942891, 'x_r2_1': 0.842891, 'x_r2_2': 0.742891} using model BoTorch.\n",
      "[INFO 04-05 14:32:28] ax.service.ax_client: Completed trial 203 with data: {'Viable_Cross_Terms': (38, None)}.\n",
      "[INFO 04-05 14:32:47] ax.service.ax_client: Generated new trial 204 with parameters {'z_sh': 7, 'z_sh_1': 6, 'z_sh_2': 5, 'z_p2': 27, 'z_p2_1': 26, 'z_p2_2': 33, 'z_r2': 80, 'z_r2_1': 84, 'z_r2_2': 77, 'x_s': 0.5, 'x_s_1': 0.4, 'x_s_2': 0.3, 'x_p1': 0.62386, 'x_p1_1': 0.52386, 'x_p1_2': 0.42386, 'x_p2': 0.439954, 'x_p2_1': 0.339954, 'x_p2_2': 0.239954, 'x_r2': 0.936561, 'x_r2_1': 0.836561, 'x_r2_2': 0.736561} using model BoTorch.\n",
      "[INFO 04-05 14:32:47] ax.service.ax_client: Completed trial 204 with data: {'Viable_Cross_Terms': (70, None)}.\n",
      "[INFO 04-05 14:33:05] ax.service.ax_client: Generated new trial 205 with parameters {'z_sh': 9, 'z_sh_1': 13, 'z_sh_2': 5, 'z_p2': 31, 'z_p2_1': 26, 'z_p2_2': 25, 'z_r2': 80, 'z_r2_1': 80, 'z_r2_2': 73, 'x_s': 0.5, 'x_s_1': 0.4, 'x_s_2': 0.3, 'x_p1': 0.624303, 'x_p1_1': 0.524303, 'x_p1_2': 0.424303, 'x_p2': 0.432196, 'x_p2_1': 0.332196, 'x_p2_2': 0.232196, 'x_r2': 0.938594, 'x_r2_1': 0.838594, 'x_r2_2': 0.738594} using model BoTorch.\n",
      "[INFO 04-05 14:33:05] ax.service.ax_client: Completed trial 205 with data: {'Viable_Cross_Terms': (71, None)}.\n",
      "[INFO 04-05 14:33:23] ax.service.ax_client: Generated new trial 206 with parameters {'z_sh': 13, 'z_sh_1': 11, 'z_sh_2': 6, 'z_p2': 35, 'z_p2_1': 29, 'z_p2_2': 32, 'z_r2': 78, 'z_r2_1': 81, 'z_r2_2': 80, 'x_s': 0.5, 'x_s_1': 0.4, 'x_s_2': 0.3, 'x_p1': 0.558597, 'x_p1_1': 0.458597, 'x_p1_2': 0.358597, 'x_p2': 0.5, 'x_p2_1': 0.4, 'x_p2_2': 0.3, 'x_r2': 0.924175, 'x_r2_1': 0.824175, 'x_r2_2': 0.724175} using model BoTorch.\n",
      "[INFO 04-05 14:33:23] ax.service.ax_client: Completed trial 206 with data: {'Viable_Cross_Terms': (34, None)}.\n",
      "[INFO 04-05 14:33:42] ax.service.ax_client: Generated new trial 207 with parameters {'z_sh': 7, 'z_sh_1': 6, 'z_sh_2': 5, 'z_p2': 28, 'z_p2_1': 30, 'z_p2_2': 33, 'z_r2': 82, 'z_r2_1': 82, 'z_r2_2': 74, 'x_s': 0.5, 'x_s_1': 0.4, 'x_s_2': 0.3, 'x_p1': 0.61766, 'x_p1_1': 0.51766, 'x_p1_2': 0.41766, 'x_p2': 0.403603, 'x_p2_1': 0.303603, 'x_p2_2': 0.203603, 'x_r2': 0.920256, 'x_r2_1': 0.820256, 'x_r2_2': 0.720256} using model BoTorch.\n",
      "[INFO 04-05 14:33:42] ax.service.ax_client: Completed trial 207 with data: {'Viable_Cross_Terms': (40, None)}.\n",
      "[INFO 04-05 14:34:00] ax.service.ax_client: Generated new trial 208 with parameters {'z_sh': 7, 'z_sh_1': 11, 'z_sh_2': 9, 'z_p2': 27, 'z_p2_1': 27, 'z_p2_2': 33, 'z_r2': 80, 'z_r2_1': 76, 'z_r2_2': 82, 'x_s': 0.5, 'x_s_1': 0.4, 'x_s_2': 0.3, 'x_p1': 0.593794, 'x_p1_1': 0.493794, 'x_p1_2': 0.393794, 'x_p2': 0.475585, 'x_p2_1': 0.375585, 'x_p2_2': 0.275585, 'x_r2': 0.919293, 'x_r2_1': 0.819293, 'x_r2_2': 0.719293} using model BoTorch.\n",
      "[INFO 04-05 14:34:00] ax.service.ax_client: Completed trial 208 with data: {'Viable_Cross_Terms': (38, None)}.\n",
      "[INFO 04-05 14:34:19] ax.service.ax_client: Generated new trial 209 with parameters {'z_sh': 8, 'z_sh_1': 11, 'z_sh_2': 5, 'z_p2': 32, 'z_p2_1': 28, 'z_p2_2': 33, 'z_r2': 79, 'z_r2_1': 76, 'z_r2_2': 79, 'x_s': 0.5, 'x_s_1': 0.4, 'x_s_2': 0.3, 'x_p1': 0.600633, 'x_p1_1': 0.500633, 'x_p1_2': 0.400633, 'x_p2': 0.461826, 'x_p2_1': 0.361826, 'x_p2_2': 0.261826, 'x_r2': 0.943921, 'x_r2_1': 0.843921, 'x_r2_2': 0.743921} using model BoTorch.\n",
      "[INFO 04-05 14:34:19] ax.service.ax_client: Completed trial 209 with data: {'Viable_Cross_Terms': (36, None)}.\n",
      "[INFO 04-05 14:34:39] ax.service.ax_client: Generated new trial 210 with parameters {'z_sh': 11, 'z_sh_1': 13, 'z_sh_2': 5, 'z_p2': 27, 'z_p2_1': 30, 'z_p2_2': 28, 'z_r2': 81, 'z_r2_1': 79, 'z_r2_2': 82, 'x_s': 0.5, 'x_s_1': 0.4, 'x_s_2': 0.3, 'x_p1': 0.622278, 'x_p1_1': 0.522278, 'x_p1_2': 0.422278, 'x_p2': 0.408101, 'x_p2_1': 0.308101, 'x_p2_2': 0.208101, 'x_r2': 0.930427, 'x_r2_1': 0.830427, 'x_r2_2': 0.730427} using model BoTorch.\n",
      "[INFO 04-05 14:34:39] ax.service.ax_client: Completed trial 210 with data: {'Viable_Cross_Terms': (32, None)}.\n",
      "[INFO 04-05 14:34:57] ax.service.ax_client: Generated new trial 211 with parameters {'z_sh': 9, 'z_sh_1': 10, 'z_sh_2': 6, 'z_p2': 33, 'z_p2_1': 29, 'z_p2_2': 28, 'z_r2': 83, 'z_r2_1': 73, 'z_r2_2': 76, 'x_s': 0.5, 'x_s_1': 0.4, 'x_s_2': 0.3, 'x_p1': 0.601226, 'x_p1_1': 0.501226, 'x_p1_2': 0.401226, 'x_p2': 0.392926, 'x_p2_1': 0.292926, 'x_p2_2': 0.192926, 'x_r2': 0.943394, 'x_r2_1': 0.843394, 'x_r2_2': 0.743394} using model BoTorch.\n",
      "[INFO 04-05 14:34:57] ax.service.ax_client: Completed trial 211 with data: {'Viable_Cross_Terms': (37, None)}.\n",
      "[INFO 04-05 14:35:15] ax.service.ax_client: Generated new trial 212 with parameters {'z_sh': 8, 'z_sh_1': 11, 'z_sh_2': 5, 'z_p2': 28, 'z_p2_1': 26, 'z_p2_2': 33, 'z_r2': 81, 'z_r2_1': 78, 'z_r2_2': 73, 'x_s': 0.5, 'x_s_1': 0.4, 'x_s_2': 0.3, 'x_p1': 0.627321, 'x_p1_1': 0.527321, 'x_p1_2': 0.427321, 'x_p2': 0.419649, 'x_p2_1': 0.319649, 'x_p2_2': 0.219649, 'x_r2': 0.944542, 'x_r2_1': 0.844542, 'x_r2_2': 0.744542} using model BoTorch.\n",
      "[INFO 04-05 14:35:15] ax.service.ax_client: Completed trial 212 with data: {'Viable_Cross_Terms': (34, None)}.\n",
      "[INFO 04-05 14:35:33] ax.service.ax_client: Generated new trial 213 with parameters {'z_sh': 14, 'z_sh_1': 6, 'z_sh_2': 13, 'z_p2': 32, 'z_p2_1': 32, 'z_p2_2': 32, 'z_r2': 79, 'z_r2_1': 83, 'z_r2_2': 71, 'x_s': -0.3, 'x_s_1': -0.4, 'x_s_2': -0.5, 'x_p1': 1.0, 'x_p1_1': 0.9, 'x_p1_2': 0.8, 'x_p2': 0.5, 'x_p2_1': 0.4, 'x_p2_2': 0.3, 'x_r2': -1.3, 'x_r2_1': -1.4, 'x_r2_2': -1.5} using model BoTorch.\n",
      "[INFO 04-05 14:35:33] ax.service.ax_client: Completed trial 213 with data: {'Viable_Cross_Terms': (0, None)}.\n",
      "[INFO 04-05 14:35:54] ax.service.ax_client: Generated new trial 214 with parameters {'z_sh': 11, 'z_sh_1': 10, 'z_sh_2': 5, 'z_p2': 30, 'z_p2_1': 29, 'z_p2_2': 31, 'z_r2': 81, 'z_r2_1': 80, 'z_r2_2': 80, 'x_s': 0.5, 'x_s_1': 0.4, 'x_s_2': 0.3, 'x_p1': 0.609456, 'x_p1_1': 0.509456, 'x_p1_2': 0.409456, 'x_p2': 0.452091, 'x_p2_1': 0.352091, 'x_p2_2': 0.252091, 'x_r2': 0.945298, 'x_r2_1': 0.845298, 'x_r2_2': 0.745298} using model BoTorch.\n",
      "[INFO 04-05 14:35:54] ax.service.ax_client: Completed trial 214 with data: {'Viable_Cross_Terms': (75, None)}.\n",
      "[INFO 04-05 14:36:12] ax.service.ax_client: Generated new trial 215 with parameters {'z_sh': 10, 'z_sh_1': 7, 'z_sh_2': 13, 'z_p2': 31, 'z_p2_1': 33, 'z_p2_2': 32, 'z_r2': 78, 'z_r2_1': 78, 'z_r2_2': 79, 'x_s': 0.5, 'x_s_1': 0.4, 'x_s_2': 0.3, 'x_p1': 0.362898, 'x_p1_1': 0.262898, 'x_p1_2': 0.162898, 'x_p2': 0.5, 'x_p2_1': 0.4, 'x_p2_2': 0.3, 'x_r2': 0.937724, 'x_r2_1': 0.837724, 'x_r2_2': 0.737724} using model BoTorch.\n",
      "[INFO 04-05 14:36:12] ax.service.ax_client: Completed trial 215 with data: {'Viable_Cross_Terms': (25, None)}.\n",
      "[INFO 04-05 14:36:32] ax.service.ax_client: Generated new trial 216 with parameters {'z_sh': 7, 'z_sh_1': 11, 'z_sh_2': 5, 'z_p2': 28, 'z_p2_1': 28, 'z_p2_2': 31, 'z_r2': 81, 'z_r2_1': 83, 'z_r2_2': 79, 'x_s': 0.5, 'x_s_1': 0.4, 'x_s_2': 0.3, 'x_p1': 0.625469, 'x_p1_1': 0.525469, 'x_p1_2': 0.425469, 'x_p2': 0.442635, 'x_p2_1': 0.342635, 'x_p2_2': 0.242635, 'x_r2': 0.937736, 'x_r2_1': 0.837736, 'x_r2_2': 0.737736} using model BoTorch.\n",
      "[INFO 04-05 14:36:32] ax.service.ax_client: Completed trial 216 with data: {'Viable_Cross_Terms': (34, None)}.\n",
      "[INFO 04-05 14:36:51] ax.service.ax_client: Generated new trial 217 with parameters {'z_sh': 7, 'z_sh_1': 13, 'z_sh_2': 5, 'z_p2': 31, 'z_p2_1': 30, 'z_p2_2': 33, 'z_r2': 82, 'z_r2_1': 76, 'z_r2_2': 82, 'x_s': 0.5, 'x_s_1': 0.4, 'x_s_2': 0.3, 'x_p1': 0.647288, 'x_p1_1': 0.547288, 'x_p1_2': 0.447288, 'x_p2': 0.469115, 'x_p2_1': 0.369115, 'x_p2_2': 0.269115, 'x_r2': 0.947626, 'x_r2_1': 0.847626, 'x_r2_2': 0.747626} using model BoTorch.\n",
      "[INFO 04-05 14:36:51] ax.service.ax_client: Completed trial 217 with data: {'Viable_Cross_Terms': (35, None)}.\n",
      "[INFO 04-05 14:37:09] ax.service.ax_client: Generated new trial 218 with parameters {'z_sh': 9, 'z_sh_1': 10, 'z_sh_2': 6, 'z_p2': 29, 'z_p2_1': 28, 'z_p2_2': 33, 'z_r2': 77, 'z_r2_1': 77, 'z_r2_2': 78, 'x_s': 0.5, 'x_s_1': 0.4, 'x_s_2': 0.3, 'x_p1': 0.607325, 'x_p1_1': 0.507325, 'x_p1_2': 0.407325, 'x_p2': 0.5, 'x_p2_1': 0.4, 'x_p2_2': 0.3, 'x_r2': 0.95397, 'x_r2_1': 0.85397, 'x_r2_2': 0.75397} using model BoTorch.\n",
      "[INFO 04-05 14:37:09] ax.service.ax_client: Completed trial 218 with data: {'Viable_Cross_Terms': (35, None)}.\n",
      "[INFO 04-05 14:37:27] ax.service.ax_client: Generated new trial 219 with parameters {'z_sh': 9, 'z_sh_1': 12, 'z_sh_2': 5, 'z_p2': 30, 'z_p2_1': 34, 'z_p2_2': 28, 'z_r2': 80, 'z_r2_1': 72, 'z_r2_2': 79, 'x_s': 0.5, 'x_s_1': 0.4, 'x_s_2': 0.3, 'x_p1': 0.675396, 'x_p1_1': 0.575396, 'x_p1_2': 0.475396, 'x_p2': 0.5, 'x_p2_1': 0.4, 'x_p2_2': 0.3, 'x_r2': 0.945771, 'x_r2_1': 0.845771, 'x_r2_2': 0.745771} using model BoTorch.\n",
      "[INFO 04-05 14:37:27] ax.service.ax_client: Completed trial 219 with data: {'Viable_Cross_Terms': (60, None)}.\n",
      "[INFO 04-05 14:37:46] ax.service.ax_client: Generated new trial 220 with parameters {'z_sh': 15, 'z_sh_1': 13, 'z_sh_2': 5, 'z_p2': 27, 'z_p2_1': 30, 'z_p2_2': 33, 'z_r2': 79, 'z_r2_1': 81, 'z_r2_2': 78, 'x_s': 0.5, 'x_s_1': 0.4, 'x_s_2': 0.3, 'x_p1': 0.668364, 'x_p1_1': 0.568364, 'x_p1_2': 0.468364, 'x_p2': 0.5, 'x_p2_1': 0.4, 'x_p2_2': 0.3, 'x_r2': 0.934468, 'x_r2_1': 0.834468, 'x_r2_2': 0.734468} using model BoTorch.\n",
      "[INFO 04-05 14:37:46] ax.service.ax_client: Completed trial 220 with data: {'Viable_Cross_Terms': (25, None)}.\n",
      "[INFO 04-05 14:38:06] ax.service.ax_client: Generated new trial 221 with parameters {'z_sh': 7, 'z_sh_1': 8, 'z_sh_2': 5, 'z_p2': 33, 'z_p2_1': 32, 'z_p2_2': 33, 'z_r2': 79, 'z_r2_1': 73, 'z_r2_2': 80, 'x_s': 0.5, 'x_s_1': 0.4, 'x_s_2': 0.3, 'x_p1': 0.621386, 'x_p1_1': 0.521386, 'x_p1_2': 0.421386, 'x_p2': 0.5, 'x_p2_1': 0.4, 'x_p2_2': 0.3, 'x_r2': 0.952779, 'x_r2_1': 0.852779, 'x_r2_2': 0.752779} using model BoTorch.\n",
      "[INFO 04-05 14:38:06] ax.service.ax_client: Completed trial 221 with data: {'Viable_Cross_Terms': (72, None)}.\n",
      "[INFO 04-05 14:38:25] ax.service.ax_client: Generated new trial 222 with parameters {'z_sh': 11, 'z_sh_1': 9, 'z_sh_2': 5, 'z_p2': 33, 'z_p2_1': 27, 'z_p2_2': 31, 'z_r2': 78, 'z_r2_1': 75, 'z_r2_2': 82, 'x_s': 0.5, 'x_s_1': 0.4, 'x_s_2': 0.3, 'x_p1': 0.68547, 'x_p1_1': 0.58547, 'x_p1_2': 0.48547, 'x_p2': 0.5, 'x_p2_1': 0.4, 'x_p2_2': 0.3, 'x_r2': 0.939232, 'x_r2_1': 0.839232, 'x_r2_2': 0.739232} using model BoTorch.\n",
      "[INFO 04-05 14:38:25] ax.service.ax_client: Completed trial 222 with data: {'Viable_Cross_Terms': (24, None)}.\n",
      "[INFO 04-05 14:38:45] ax.service.ax_client: Generated new trial 223 with parameters {'z_sh': 11, 'z_sh_1': 6, 'z_sh_2': 5, 'z_p2': 30, 'z_p2_1': 29, 'z_p2_2': 32, 'z_r2': 82, 'z_r2_1': 82, 'z_r2_2': 83, 'x_s': 0.5, 'x_s_1': 0.4, 'x_s_2': 0.3, 'x_p1': 0.631531, 'x_p1_1': 0.531531, 'x_p1_2': 0.431531, 'x_p2': 0.498587, 'x_p2_1': 0.398587, 'x_p2_2': 0.298587, 'x_r2': 0.939014, 'x_r2_1': 0.839014, 'x_r2_2': 0.739014} using model BoTorch.\n",
      "[INFO 04-05 14:38:45] ax.service.ax_client: Completed trial 223 with data: {'Viable_Cross_Terms': (30, None)}.\n",
      "[INFO 04-05 14:39:04] ax.service.ax_client: Generated new trial 224 with parameters {'z_sh': 7, 'z_sh_1': 8, 'z_sh_2': 6, 'z_p2': 28, 'z_p2_1': 29, 'z_p2_2': 26, 'z_r2': 79, 'z_r2_1': 73, 'z_r2_2': 71, 'x_s': 0.5, 'x_s_1': 0.4, 'x_s_2': 0.3, 'x_p1': 0.633405, 'x_p1_1': 0.533405, 'x_p1_2': 0.433405, 'x_p2': 0.5, 'x_p2_1': 0.4, 'x_p2_2': 0.3, 'x_r2': 0.942848, 'x_r2_1': 0.842848, 'x_r2_2': 0.742848} using model BoTorch.\n",
      "[INFO 04-05 14:39:04] ax.service.ax_client: Completed trial 224 with data: {'Viable_Cross_Terms': (31, None)}.\n",
      "[INFO 04-05 14:39:23] ax.service.ax_client: Generated new trial 225 with parameters {'z_sh': 9, 'z_sh_1': 12, 'z_sh_2': 5, 'z_p2': 29, 'z_p2_1': 28, 'z_p2_2': 25, 'z_r2': 80, 'z_r2_1': 81, 'z_r2_2': 76, 'x_s': 0.5, 'x_s_1': 0.4, 'x_s_2': 0.3, 'x_p1': 0.734189, 'x_p1_1': 0.634189, 'x_p1_2': 0.534189, 'x_p2': 0.498539, 'x_p2_1': 0.398539, 'x_p2_2': 0.298539, 'x_r2': 0.936666, 'x_r2_1': 0.836666, 'x_r2_2': 0.736666} using model BoTorch.\n",
      "[INFO 04-05 14:39:23] ax.service.ax_client: Completed trial 225 with data: {'Viable_Cross_Terms': (48, None)}.\n",
      "[INFO 04-05 14:39:42] ax.service.ax_client: Generated new trial 226 with parameters {'z_sh': 7, 'z_sh_1': 7, 'z_sh_2': 5, 'z_p2': 28, 'z_p2_1': 27, 'z_p2_2': 26, 'z_r2': 77, 'z_r2_1': 74, 'z_r2_2': 80, 'x_s': 0.5, 'x_s_1': 0.4, 'x_s_2': 0.3, 'x_p1': 0.673028, 'x_p1_1': 0.573028, 'x_p1_2': 0.473028, 'x_p2': 0.5, 'x_p2_1': 0.4, 'x_p2_2': 0.3, 'x_r2': 0.942645, 'x_r2_1': 0.842645, 'x_r2_2': 0.742645} using model BoTorch.\n",
      "[INFO 04-05 14:39:42] ax.service.ax_client: Completed trial 226 with data: {'Viable_Cross_Terms': (59, None)}.\n",
      "[INFO 04-05 14:40:01] ax.service.ax_client: Generated new trial 227 with parameters {'z_sh': 11, 'z_sh_1': 12, 'z_sh_2': 5, 'z_p2': 31, 'z_p2_1': 27, 'z_p2_2': 29, 'z_r2': 76, 'z_r2_1': 74, 'z_r2_2': 80, 'x_s': 0.5, 'x_s_1': 0.4, 'x_s_2': 0.3, 'x_p1': 0.583465, 'x_p1_1': 0.483465, 'x_p1_2': 0.383465, 'x_p2': 0.5, 'x_p2_1': 0.4, 'x_p2_2': 0.3, 'x_r2': 0.952075, 'x_r2_1': 0.852075, 'x_r2_2': 0.752075} using model BoTorch.\n",
      "[INFO 04-05 14:40:01] ax.service.ax_client: Completed trial 227 with data: {'Viable_Cross_Terms': (76, None)}.\n",
      "[INFO 04-05 14:40:20] ax.service.ax_client: Generated new trial 228 with parameters {'z_sh': 9, 'z_sh_1': 11, 'z_sh_2': 5, 'z_p2': 27, 'z_p2_1': 32, 'z_p2_2': 29, 'z_r2': 80, 'z_r2_1': 78, 'z_r2_2': 81, 'x_s': 0.5, 'x_s_1': 0.4, 'x_s_2': 0.3, 'x_p1': 0.600029, 'x_p1_1': 0.500029, 'x_p1_2': 0.400029, 'x_p2': 0.465506, 'x_p2_1': 0.365506, 'x_p2_2': 0.265506, 'x_r2': 0.920148, 'x_r2_1': 0.820148, 'x_r2_2': 0.720148} using model BoTorch.\n",
      "[INFO 04-05 14:40:20] ax.service.ax_client: Completed trial 228 with data: {'Viable_Cross_Terms': (67, None)}.\n",
      "[INFO 04-05 14:40:39] ax.service.ax_client: Generated new trial 229 with parameters {'z_sh': 10, 'z_sh_1': 10, 'z_sh_2': 13, 'z_p2': 31, 'z_p2_1': 29, 'z_p2_2': 25, 'z_r2': 86, 'z_r2_1': 72, 'z_r2_2': 82, 'x_s': -0.3, 'x_s_1': -0.4, 'x_s_2': -0.5, 'x_p1': 1.0, 'x_p1_1': 0.9, 'x_p1_2': 0.8, 'x_p2': -0.3, 'x_p2_1': -0.4, 'x_p2_2': -0.5, 'x_r2': -0.168553, 'x_r2_1': -0.268553, 'x_r2_2': -0.368553} using model BoTorch.\n",
      "[INFO 04-05 14:40:39] ax.service.ax_client: Completed trial 229 with data: {'Viable_Cross_Terms': (19, None)}.\n",
      "[INFO 04-05 14:40:58] ax.service.ax_client: Generated new trial 230 with parameters {'z_sh': 7, 'z_sh_1': 8, 'z_sh_2': 5, 'z_p2': 27, 'z_p2_1': 31, 'z_p2_2': 26, 'z_r2': 79, 'z_r2_1': 78, 'z_r2_2': 82, 'x_s': 0.5, 'x_s_1': 0.4, 'x_s_2': 0.3, 'x_p1': 0.59513, 'x_p1_1': 0.49513, 'x_p1_2': 0.39513, 'x_p2': 0.5, 'x_p2_1': 0.4, 'x_p2_2': 0.3, 'x_r2': 0.914812, 'x_r2_1': 0.814812, 'x_r2_2': 0.714812} using model BoTorch.\n",
      "[INFO 04-05 14:40:58] ax.service.ax_client: Completed trial 230 with data: {'Viable_Cross_Terms': (47, None)}.\n",
      "[INFO 04-05 14:41:17] ax.service.ax_client: Generated new trial 231 with parameters {'z_sh': 14, 'z_sh_1': 8, 'z_sh_2': 5, 'z_p2': 35, 'z_p2_1': 32, 'z_p2_2': 31, 'z_r2': 80, 'z_r2_1': 72, 'z_r2_2': 82, 'x_s': 0.5, 'x_s_1': 0.4, 'x_s_2': 0.3, 'x_p1': 0.533836, 'x_p1_1': 0.433836, 'x_p1_2': 0.333836, 'x_p2': 0.5, 'x_p2_1': 0.4, 'x_p2_2': 0.3, 'x_r2': 0.926955, 'x_r2_1': 0.826955, 'x_r2_2': 0.726955} using model BoTorch.\n",
      "[INFO 04-05 14:41:18] ax.service.ax_client: Completed trial 231 with data: {'Viable_Cross_Terms': (86, None)}.\n",
      "[INFO 04-05 14:41:37] ax.service.ax_client: Generated new trial 232 with parameters {'z_sh': 7, 'z_sh_1': 10, 'z_sh_2': 5, 'z_p2': 32, 'z_p2_1': 29, 'z_p2_2': 33, 'z_r2': 79, 'z_r2_1': 81, 'z_r2_2': 76, 'x_s': 0.5, 'x_s_1': 0.4, 'x_s_2': 0.3, 'x_p1': 0.582782, 'x_p1_1': 0.482782, 'x_p1_2': 0.382782, 'x_p2': 0.5, 'x_p2_1': 0.4, 'x_p2_2': 0.3, 'x_r2': 0.900281, 'x_r2_1': 0.800281, 'x_r2_2': 0.700281} using model BoTorch.\n",
      "[INFO 04-05 14:41:37] ax.service.ax_client: Completed trial 232 with data: {'Viable_Cross_Terms': (30, None)}.\n",
      "[INFO 04-05 14:41:56] ax.service.ax_client: Generated new trial 233 with parameters {'z_sh': 8, 'z_sh_1': 6, 'z_sh_2': 7, 'z_p2': 34, 'z_p2_1': 32, 'z_p2_2': 26, 'z_r2': 81, 'z_r2_1': 76, 'z_r2_2': 72, 'x_s': 0.5, 'x_s_1': 0.4, 'x_s_2': 0.3, 'x_p1': 0.539237, 'x_p1_1': 0.439237, 'x_p1_2': 0.339237, 'x_p2': 0.5, 'x_p2_1': 0.4, 'x_p2_2': 0.3, 'x_r2': 0.92206, 'x_r2_1': 0.82206, 'x_r2_2': 0.72206} using model BoTorch.\n",
      "[INFO 04-05 14:41:56] ax.service.ax_client: Completed trial 233 with data: {'Viable_Cross_Terms': (34, None)}.\n",
      "[INFO 04-05 14:42:15] ax.service.ax_client: Generated new trial 234 with parameters {'z_sh': 9, 'z_sh_1': 12, 'z_sh_2': 6, 'z_p2': 34, 'z_p2_1': 29, 'z_p2_2': 29, 'z_r2': 81, 'z_r2_1': 83, 'z_r2_2': 77, 'x_s': 0.5, 'x_s_1': 0.4, 'x_s_2': 0.3, 'x_p1': 0.599641, 'x_p1_1': 0.499641, 'x_p1_2': 0.399641, 'x_p2': 0.5, 'x_p2_1': 0.4, 'x_p2_2': 0.3, 'x_r2': 0.928637, 'x_r2_1': 0.828637, 'x_r2_2': 0.728637} using model BoTorch.\n",
      "[INFO 04-05 14:42:15] ax.service.ax_client: Completed trial 234 with data: {'Viable_Cross_Terms': (30, None)}.\n",
      "[INFO 04-05 14:42:36] ax.service.ax_client: Generated new trial 235 with parameters {'z_sh': 9, 'z_sh_1': 9, 'z_sh_2': 5, 'z_p2': 34, 'z_p2_1': 31, 'z_p2_2': 27, 'z_r2': 81, 'z_r2_1': 80, 'z_r2_2': 83, 'x_s': 0.5, 'x_s_1': 0.4, 'x_s_2': 0.3, 'x_p1': 0.59125, 'x_p1_1': 0.49125, 'x_p1_2': 0.39125, 'x_p2': 0.5, 'x_p2_1': 0.4, 'x_p2_2': 0.3, 'x_r2': 0.932746, 'x_r2_1': 0.832746, 'x_r2_2': 0.732746} using model BoTorch.\n",
      "[INFO 04-05 14:42:36] ax.service.ax_client: Completed trial 235 with data: {'Viable_Cross_Terms': (70, None)}.\n",
      "[INFO 04-05 14:42:54] ax.service.ax_client: Generated new trial 236 with parameters {'z_sh': 7, 'z_sh_1': 6, 'z_sh_2': 5, 'z_p2': 33, 'z_p2_1': 32, 'z_p2_2': 28, 'z_r2': 79, 'z_r2_1': 82, 'z_r2_2': 79, 'x_s': 0.5, 'x_s_1': 0.4, 'x_s_2': 0.3, 'x_p1': 0.525423, 'x_p1_1': 0.425423, 'x_p1_2': 0.325423, 'x_p2': 0.5, 'x_p2_1': 0.4, 'x_p2_2': 0.3, 'x_r2': 0.927431, 'x_r2_1': 0.827431, 'x_r2_2': 0.727431} using model BoTorch.\n",
      "[INFO 04-05 14:42:54] ax.service.ax_client: Completed trial 236 with data: {'Viable_Cross_Terms': (37, None)}.\n",
      "[INFO 04-05 14:43:14] ax.service.ax_client: Generated new trial 237 with parameters {'z_sh': 9, 'z_sh_1': 6, 'z_sh_2': 5, 'z_p2': 29, 'z_p2_1': 30, 'z_p2_2': 33, 'z_r2': 80, 'z_r2_1': 73, 'z_r2_2': 84, 'x_s': 0.5, 'x_s_1': 0.4, 'x_s_2': 0.3, 'x_p1': 0.575129, 'x_p1_1': 0.475129, 'x_p1_2': 0.375129, 'x_p2': 0.5, 'x_p2_1': 0.4, 'x_p2_2': 0.3, 'x_r2': 0.928765, 'x_r2_1': 0.828765, 'x_r2_2': 0.728765} using model BoTorch.\n",
      "[INFO 04-05 14:43:14] ax.service.ax_client: Completed trial 237 with data: {'Viable_Cross_Terms': (69, None)}.\n",
      "[INFO 04-05 14:43:34] ax.service.ax_client: Generated new trial 238 with parameters {'z_sh': 9, 'z_sh_1': 12, 'z_sh_2': 5, 'z_p2': 30, 'z_p2_1': 28, 'z_p2_2': 27, 'z_r2': 80, 'z_r2_1': 80, 'z_r2_2': 82, 'x_s': 0.5, 'x_s_1': 0.4, 'x_s_2': 0.3, 'x_p1': -0.044078, 'x_p1_1': -0.144078, 'x_p1_2': -0.244078, 'x_p2': 0.485347, 'x_p2_1': 0.385347, 'x_p2_2': 0.285347, 'x_r2': 1.058232, 'x_r2_1': 0.958232, 'x_r2_2': 0.858232} using model BoTorch.\n",
      "[INFO 04-05 14:43:34] ax.service.ax_client: Completed trial 238 with data: {'Viable_Cross_Terms': (40, None)}.\n",
      "[INFO 04-05 14:43:57] ax.service.ax_client: Generated new trial 239 with parameters {'z_sh': 13, 'z_sh_1': 6, 'z_sh_2': 5, 'z_p2': 28, 'z_p2_1': 32, 'z_p2_2': 30, 'z_r2': 80, 'z_r2_1': 72, 'z_r2_2': 72, 'x_s': 0.5, 'x_s_1': 0.4, 'x_s_2': 0.3, 'x_p1': 0.519126, 'x_p1_1': 0.419126, 'x_p1_2': 0.319126, 'x_p2': 0.422467, 'x_p2_1': 0.322467, 'x_p2_2': 0.222467, 'x_r2': 1.040026, 'x_r2_1': 0.940026, 'x_r2_2': 0.840026} using model BoTorch.\n",
      "[INFO 04-05 14:43:57] ax.service.ax_client: Completed trial 239 with data: {'Viable_Cross_Terms': (58, None)}.\n",
      "[INFO 04-05 14:44:18] ax.service.ax_client: Generated new trial 240 with parameters {'z_sh': 7, 'z_sh_1': 7, 'z_sh_2': 5, 'z_p2': 30, 'z_p2_1': 34, 'z_p2_2': 32, 'z_r2': 78, 'z_r2_1': 84, 'z_r2_2': 78, 'x_s': 0.5, 'x_s_1': 0.4, 'x_s_2': 0.3, 'x_p1': 0.449879, 'x_p1_1': 0.349879, 'x_p1_2': 0.249879, 'x_p2': 0.5, 'x_p2_1': 0.4, 'x_p2_2': 0.3, 'x_r2': 0.946059, 'x_r2_1': 0.846059, 'x_r2_2': 0.746059} using model BoTorch.\n",
      "[INFO 04-05 14:44:18] ax.service.ax_client: Completed trial 240 with data: {'Viable_Cross_Terms': (34, None)}.\n",
      "[INFO 04-05 14:44:37] ax.service.ax_client: Generated new trial 241 with parameters {'z_sh': 12, 'z_sh_1': 6, 'z_sh_2': 5, 'z_p2': 31, 'z_p2_1': 28, 'z_p2_2': 32, 'z_r2': 78, 'z_r2_1': 71, 'z_r2_2': 79, 'x_s': 0.5, 'x_s_1': 0.4, 'x_s_2': 0.3, 'x_p1': 0.508671, 'x_p1_1': 0.408671, 'x_p1_2': 0.308671, 'x_p2': 0.5, 'x_p2_1': 0.4, 'x_p2_2': 0.3, 'x_r2': 0.945289, 'x_r2_1': 0.845289, 'x_r2_2': 0.745289} using model BoTorch.\n",
      "[INFO 04-05 14:44:37] ax.service.ax_client: Completed trial 241 with data: {'Viable_Cross_Terms': (43, None)}.\n",
      "[INFO 04-05 14:45:00] ax.service.ax_client: Generated new trial 242 with parameters {'z_sh': 7, 'z_sh_1': 6, 'z_sh_2': 5, 'z_p2': 32, 'z_p2_1': 31, 'z_p2_2': 26, 'z_r2': 80, 'z_r2_1': 74, 'z_r2_2': 78, 'x_s': 0.5, 'x_s_1': 0.4, 'x_s_2': 0.3, 'x_p1': 0.533066, 'x_p1_1': 0.433066, 'x_p1_2': 0.333066, 'x_p2': 0.453665, 'x_p2_1': 0.353665, 'x_p2_2': 0.253665, 'x_r2': 1.033269, 'x_r2_1': 0.933269, 'x_r2_2': 0.833269} using model BoTorch.\n",
      "[INFO 04-05 14:45:00] ax.service.ax_client: Completed trial 242 with data: {'Viable_Cross_Terms': (95, None)}.\n",
      "[INFO 04-05 14:45:23] ax.service.ax_client: Generated new trial 243 with parameters {'z_sh': 9, 'z_sh_1': 8, 'z_sh_2': 7, 'z_p2': 34, 'z_p2_1': 27, 'z_p2_2': 30, 'z_r2': 80, 'z_r2_1': 80, 'z_r2_2': 82, 'x_s': 0.5, 'x_s_1': 0.4, 'x_s_2': 0.3, 'x_p1': 0.509492, 'x_p1_1': 0.409492, 'x_p1_2': 0.30797, 'x_p2': 0.441187, 'x_p2_1': 0.34097, 'x_p2_2': 0.24097, 'x_r2': 1.043727, 'x_r2_1': 0.943727, 'x_r2_2': 0.843727} using model BoTorch.\n",
      "[INFO 04-05 14:45:23] ax.service.ax_client: Completed trial 243 with data: {'Viable_Cross_Terms': (30, None)}.\n",
      "[INFO 04-05 14:45:42] ax.service.ax_client: Generated new trial 244 with parameters {'z_sh': 10, 'z_sh_1': 6, 'z_sh_2': 5, 'z_p2': 30, 'z_p2_1': 27, 'z_p2_2': 31, 'z_r2': 81, 'z_r2_1': 78, 'z_r2_2': 83, 'x_s': 0.5, 'x_s_1': 0.4, 'x_s_2': 0.3, 'x_p1': 0.455636, 'x_p1_1': 0.355636, 'x_p1_2': 0.255636, 'x_p2': 0.5, 'x_p2_1': 0.4, 'x_p2_2': 0.3, 'x_r2': 0.965479, 'x_r2_1': 0.865479, 'x_r2_2': 0.765479} using model BoTorch.\n",
      "[INFO 04-05 14:45:42] ax.service.ax_client: Completed trial 244 with data: {'Viable_Cross_Terms': (40, None)}.\n",
      "[INFO 04-05 14:46:03] ax.service.ax_client: Generated new trial 245 with parameters {'z_sh': 15, 'z_sh_1': 10, 'z_sh_2': 5, 'z_p2': 29, 'z_p2_1': 34, 'z_p2_2': 32, 'z_r2': 77, 'z_r2_1': 83, 'z_r2_2': 75, 'x_s': 0.5, 'x_s_1': 0.4, 'x_s_2': 0.3, 'x_p1': 0.398149, 'x_p1_1': 0.298149, 'x_p1_2': 0.198149, 'x_p2': 0.5, 'x_p2_1': 0.4, 'x_p2_2': 0.3, 'x_r2': 0.972286, 'x_r2_1': 0.872286, 'x_r2_2': 0.772286} using model BoTorch.\n",
      "[INFO 04-05 14:46:03] ax.service.ax_client: Completed trial 245 with data: {'Viable_Cross_Terms': (27, None)}.\n",
      "[INFO 04-05 14:46:23] ax.service.ax_client: Generated new trial 246 with parameters {'z_sh': 10, 'z_sh_1': 9, 'z_sh_2': 5, 'z_p2': 30, 'z_p2_1': 27, 'z_p2_2': 28, 'z_r2': 78, 'z_r2_1': 77, 'z_r2_2': 80, 'x_s': 0.5, 'x_s_1': 0.4, 'x_s_2': 0.3, 'x_p1': 0.517981, 'x_p1_1': 0.417981, 'x_p1_2': 0.317981, 'x_p2': 0.5, 'x_p2_1': 0.4, 'x_p2_2': 0.3, 'x_r2': 0.963992, 'x_r2_1': 0.863992, 'x_r2_2': 0.763992} using model BoTorch.\n",
      "[INFO 04-05 14:46:23] ax.service.ax_client: Completed trial 246 with data: {'Viable_Cross_Terms': (71, None)}.\n"
     ]
    }
   ],
   "source": [
    "for i in range(100):\n",
    "    parameterization, trial_index = Tag_client.get_next_trial()\n",
    "    # Local evaluation here can be replaced with deployment to external system.\n",
    "    Tag_client.complete_trial(trial_index=trial_index, raw_data=score_vals(param_to_list(parameterization)))"
   ]
  },
  {
   "cell_type": "code",
   "execution_count": 44,
   "metadata": {},
   "outputs": [
    {
     "data": {
      "application/vnd.plotly.v1+json": {
       "config": {
        "linkText": "Export to plot.ly",
        "plotlyServerURL": "https://plot.ly",
        "showLink": false
       },
       "data": [
        {
         "hoverinfo": "none",
         "legendgroup": "",
         "line": {
          "width": 0
         },
         "mode": "lines",
         "showlegend": false,
         "type": "scatter",
         "x": {
          "bdata": "AQACAAMABAAFAAYABwAIAAkACgALAAwADQAOAA8AEAARABIAEwAUABUAFgAXABgAGQAaABsAHAAdAB4AHwAgACEAIgAjACQAJQAmACcAKAApACoAKwAsAC0ALgAvADAAMQAyADMANAA1ADYANwA4ADkAOgA7ADwAPQA+AD8AQABBAEIAQwBEAEUARgBHAEgASQBKAEsATABNAE4ATwBQAFEAUgBTAFQAVQBWAFcAWABZAFoAWwBcAF0AXgBfAGAAYQBiAGMAZABlAGYAZwBoAGkAagBrAGwAbQBuAG8AcABxAHIAcwB0AHUAdgB3AHgAeQB6AHsAfAB9AH4AfwCAAIEAggCDAIQAhQCGAIcAiACJAIoAiwCMAI0AjgCPAJAAkQCSAJMAlACVAJYAlwCYAJkAmgCbAJwAnQCeAJ8AoAChAKIAowCkAKUApgCnAKgAqQCqAKsArACtAK4ArwCwALEAsgCzALQAtQC2ALcAuAC5ALoAuwC8AL0AvgC/AMAAwQDCAMMAxADFAMYAxwDIAMkAygDLAMwAzQDOAM8A0ADRANIA0wDUANUA1gDXANgA2QDaANsA3ADdAN4A3wDgAOEA4gDjAOQA5QDmAOcA6ADpAOoA6wDsAO0A7gDvAPAA8QDyAPMA9AD1APYA9wD4APkA+gD7APwA/QD+AP8AAAEBAQIBAwEEAQUBBgEHAQgBCQEKAQsBDAENAQ4BDwEQAREBEgETARQBFQEWARcBGAEZARoBGwEcAR0BHgEfASABIQEiASMBJAElASYBJwEoASkBKgErASwBLQEuAS8BMAExATIBMwE0ATUBNgE3ATgBOQE6ATsBPAE9AT4BPwFAAUEBQgFDAUQBRQFGAUcBSAFJAUoBSwFMAU0BTgFPAVABUQFSAVMBVAFVAVYBVwFYAVkBWgFbAVwBXQFeAV8BYAFhAWIBYwFkAWUBZgFnAWgBaQFqAWsBbAFtAW4BbwFwAXEBcgFzAXQBdQF2AXcBeAF5AXoBewF8AX0BfgF/AYABgQGCAYMBhAGFAYYBhwGIAYkBigGLAYwBjQGOAY8BkAGRAZIBkwGUAZUBlgGXAZgBmQGaAZsBnAGdAZ4BnwGgAaEBogGjAaQBpQGmAacBqAGpAaoBqwGsAa0BrgGvAbABsQGyAbMBtAG1AbYBtwG4AbkBugG7AbwBvQG+Ab8BwAHBAcIBwwHEAcUBxgHHAcgByQHKAcsBzAHNAc4BzwHQAdEB0gHTAdQB1QHWAdcB2AHZAdoB2wHcAd0B3gHfAeAB4QHiAeMB5AHlAeYB5wHoAekB6gHrAewB7QHuAe8B8AHxAfIB8wH0AfUB9gH3AfgB+QH6AfsB/AH9Af4B/wEAAgECAgIDAgQCBQIGAgcCCAIJAgoCCwIMAg0CDgIPAhACEQISAhMCFAIVAhYCFwIYAhkCGgIbAhwCHQIeAh8CIAIhAiICIwIkAiUCJgInAigCKQIqAisCLAItAi4CLwIwAjECMgIzAjQCNQI2AjcCOAI5AjoCOwI8Aj0CPgI/AkACQQJCAkMCRAJFAkYCRwJIAkkCSgJLAkwCTQJOAk8CUAJRAlICUwJUAlUCVgJXAlgCWQJaAlsCXAJdAl4CXwJgAmECYgJjAmQCZQJmAmcCaAJpAmoCawJsAm0CbgJvAnACcQJyAnMCdAJ1AnYCdwJ4AnkCegJ7AnwCfQJ+An8CgAKBAoICgwKEAoUChgKHAogCiQKKAosCjAKNAo4CjwKQApECkgKTApQClQKWApcCmAKZApoCmwKcAp0CngKfAqACoQKiAqMCpAKlAqYCpwKoAqkCqgKrAqwCrQKuAq8CsAKxArICswK0ArUCtgK3ArgCuQK6ArsCvAK9Ar4CvwLAAsECwgLDAsQCxQLGAscCyALJAsoCywLMAs0CzgLPAtAC0QLSAtMC1ALVAtYC1wLYAtkC2gLbAtwC3QLeAt8C4ALhAuIC4wLkAuUC5gLnAugC6QLqAusC7ALtAu4C7wLwAvEC8gLzAvQC9QL2AvcC+AL5AvoC+wL8Av0C/gL/AgADAQMCAwMDBAMFAwYDBwMIAwkDCgMLAwwDDQMOAw8DEAMRAxIDEwMUAxUDFgMXAxgDGQMaAxsDHAMdAx4DHwMgAyEDIgMjAyQDJQMmAycDKAMpAyoDKwMsAy0DLgMvAzADMQMyAzMDNAM1AzYDNwM4AzkDOgM7AzwDPQM+Az8DQANBA0IDQwNEA0UDRgNHA0gDSQNKA0sDTANNA04DTwNQA1EDUgNTA1QDVQNWA1cDWANZA1oDWwNcA10DXgNfA2ADYQNiA2MDZANlA2YDZwNoA2kDagNrA2wDbQNuA28DcANxA3IDcwN0A3UDdgN3A3gDeQN6A3sDfAN9A34DfwOAA4EDggODA4QDhQOGA4cDiAOJA4oDiwOMA40DjgOPA5ADkQOSA5MDlAOVA5YDlwOYA5kDmgObA5wDnQOeA58DoAOhA6IDowOkA6UDpgOnA6gDqQOqA6sDrAOtA64DrwOwA7EDsgOzA7QDtQO2A7cDuAO5A7oDuwO8A70DvgO/A8ADwQPCA8MDxAPFA8YDxwPIA8kDygPLA8wDzQPOA88D0APRA9ID0wPUA9UD1gPXA9gD2QPaA9sD3APdA94D3wPgA+ED4gPjA+QD5QPmA+cD6APpA+oD6wPsA+0D7gPvA/AD8QPyA/MD9AP1A/YD9wP4A/kD+gP7A/wD/QP+A/8DAAQBBAIEAwQEBAUEBgQHBAgECQQKBAsEDAQNBA4EDwQQBBEEEgQTBBQEFQQWBBcEGAQZBBoEGwQcBB0EHgQfBCAEIQQiBCMEJAQlBCYEJwQoBCkEKgQrBCwELQQuBC8EMAQxBDIEMwQ0BDUENgQ3BDgEOQQ6BDsEPAQ9BD4EPwRABEEEQgRDBEQERQRGBEcESARJBEoESwRMBE0ETgRPBFAEUQRSBFMEVARVBFYEVwRYBFkEWgRbBFwEXQReBF8EYARhBGIEYwRkBGUEZgRnBGgEaQRqBGsEbARtBG4EbwRwBHEEcgRzBHQEdQR2BHcEeAR5BHoEewR8BH0EfgR/BIAEgQSCBIMEhASFBIYEhwSIBIkEigSLBIwEjQSOBI8EkASRBJIEkwSUBJUElgSXBJgEmQSaBJsEnASdBJ4EnwSgBKEEogSjBKQEpQSmBKcEqASpBKoEqwSsBK0ErgSvBLAEsQSyBLMEtAS1BLYEtwS4BLkEugS7BLwEvQS+BL8EwATBBMIEwwTEBMUExgTHBMgEyQTKBMsEzATNBM4EzwTQBNEE0gTTBNQE1QTWBNcE2ATZBNoE2wTcBN0E3gTfBOAE4QTiBOME5ATlBOYE5wToBOkE6gTrBOwE7QTuBO8E8ATxBPIE8wT0BPUE9gT3BPgE+QT6BPsE/AT9BP4E/wQABQEFAgUDBQQFBQUGBQcFCAUJBQoFCwUMBQ0FDgUPBRAFEQUSBRMFFAUVBRYFFwUYBRkFGgUbBRwFHQUeBR8FIAUhBSIFIwUkBSUFJgUnBSgFKQUqBSsFLAUtBS4FLwUwBTEFMgUzBTQFNQU2BTcFOAU5BToFOwU8BT0FPgU/BUAFQQVCBUMFRAVFBUYFRwVIBUkFSgVLBUwFTQU=",
          "dtype": "i2"
         },
         "y": {
          "bdata": "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",
          "dtype": "f8"
         }
        },
        {
         "fill": "tonexty",
         "fillcolor": "rgba(128,177,211,0.3)",
         "legendgroup": "objective value",
         "line": {
          "color": "rgba(128,177,211,1)"
         },
         "mode": "lines",
         "name": "objective value",
         "text": [
          "Parameterization has too many items to render on hover (21).",
          "Parameterization has too many items to render on hover (21).",
          "Parameterization has too many items to render on hover (21).",
          "Parameterization has too many items to render on hover (21).",
          "Parameterization has too many items to render on hover (21).",
          "Parameterization has too many items to render on hover (21).",
          "Parameterization has too many items to render on hover (21).",
          "Parameterization has too many items to render on hover (21).",
          "Parameterization has too many items to render on hover (21).",
          "Parameterization has too many items to render on hover (21).",
          "Parameterization has too many items to render on hover (21).",
          "Parameterization has too many items to render on hover (21).",
          "Parameterization has too many items to render on hover (21).",
          "Parameterization has too many items to render on hover (21).",
          "Parameterization has too many items to render on hover (21).",
          "Parameterization has too many items to render on hover (21).",
          "Parameterization has too many items to render on hover (21).",
          "Parameterization has too many items to render on hover (21).",
          "Parameterization has too many items to render on hover (21).",
          "Parameterization has too many items to render on hover (21).",
          "Parameterization has too many items to render on hover (21).",
          "Parameterization has too many items to render on hover (21).",
          "Parameterization has too many items to render on hover (21).",
          "Parameterization has too many items to render on hover (21).",
          "Parameterization has too many items to render on hover (21).",
          "Parameterization has too many items to render on hover (21).",
          "Parameterization has too many items to render on hover (21).",
          "Parameterization has too many items to render on hover (21).",
          "Parameterization has too many items to render on hover (21).",
          "Parameterization has too many items to render on hover (21).",
          "Parameterization has too many items to render on hover (21).",
          "Parameterization has too many items to render on hover (21).",
          "Parameterization has too many items to render on hover (21).",
          "Parameterization has too many items to render on hover (21).",
          "Parameterization has too many items to render on hover (21).",
          "Parameterization has too many items to render on hover (21).",
          "Parameterization has too many items to render on hover (21).",
          "Parameterization has too many items to render on hover (21).",
          "Parameterization has too many items to render on hover (21).",
          "Parameterization has too many items to render on hover (21).",
          "Parameterization has too many items to render on hover (21).",
          "Parameterization has too many items to render on hover (21).",
          "Parameterization has too many items to render on hover (21).",
          "Parameterization has too many items to render on hover (21).",
          "Parameterization has too many items to render on hover (21).",
          "Parameterization has too many items to render on hover (21).",
          "Parameterization has too many items to render on hover (21).",
          "Parameterization has too many items to render on hover (21).",
          "Parameterization has too many items to render on hover (21).",
          "Parameterization has too many items to render on hover (21).",
          "Parameterization has too many items to render on hover (21).",
          "Parameterization has too many items to render on hover (21).",
          "Parameterization has too many items to render on hover (21).",
          "Parameterization has too many items to render on hover (21).",
          "Parameterization has too many items to render on hover (21).",
          "Parameterization has too many items to render on hover (21).",
          "Parameterization has too many items to render on hover (21).",
          "Parameterization has too many items to render on hover (21).",
          "Parameterization has too many items to render on hover (21).",
          "Parameterization has too many items to render on hover (21).",
          "Parameterization has too many items to render on hover (21).",
          "Parameterization has too many items to render on hover (21).",
          "Parameterization has too many items to render on hover (21).",
          "Parameterization has too many items to render on hover (21).",
          "Parameterization has too many items to render on hover (21).",
          "Parameterization has too many items to render on hover (21).",
          "Parameterization has too many items to render on hover (21).",
          "Parameterization has too many items to render on hover (21).",
          "Parameterization has too many items to render on hover (21).",
          "Parameterization has too many items to render on hover (21).",
          "Parameterization has too many items to render on hover (21).",
          "Parameterization has too many items to render on hover (21).",
          "Parameterization has too many items to render on hover (21).",
          "Parameterization has too many items to render on hover (21).",
          "Parameterization has too many items to render on hover (21).",
          "Parameterization has too many items to render on hover (21).",
          "Parameterization has too many items to render on hover (21).",
          "Parameterization has too many items to render on hover (21).",
          "Parameterization has too many items to render on hover (21).",
          "Parameterization has too many items to render on hover (21).",
          "Parameterization has too many items to render on hover (21).",
          "Parameterization has too many items to render on hover (21).",
          "Parameterization has too many items to render on hover (21).",
          "Parameterization has too many items to render on hover (21).",
          "Parameterization has too many items to render on hover (21).",
          "Parameterization has too many items to render on hover (21).",
          "Parameterization has too many items to render on hover (21).",
          "Parameterization has too many items to render on hover (21).",
          "Parameterization has too many items to render on hover (21).",
          "Parameterization has too many items to render on hover (21).",
          "Parameterization has too many items to render on hover (21).",
          "Parameterization has too many items to render on hover (21).",
          "Parameterization has too many items to render on hover (21).",
          "Parameterization has too many items to render on hover (21).",
          "Parameterization has too many items to render on hover (21).",
          "Parameterization has too many items to render on hover (21).",
          "Parameterization has too many items to render on hover (21).",
          "Parameterization has too many items to render on hover (21).",
          "Parameterization has too many items to render on hover (21).",
          "Parameterization has too many items to render on hover (21).",
          "Parameterization has too many items to render on hover (21).",
          "Parameterization has too many items to render on hover (21).",
          "Parameterization has too many items to render on hover (21).",
          "Parameterization has too many items to render on hover (21).",
          "Parameterization has too many items to render on hover (21).",
          "Parameterization has too many items to render on hover (21).",
          "Parameterization has too many items to render on hover (21).",
          "Parameterization has too many items to render on hover (21).",
          "Parameterization has too many items to render on hover (21).",
          "Parameterization has too many items to render on hover (21).",
          "Parameterization has too many items to render on hover (21).",
          "Parameterization has too many items to render on hover (21).",
          "Parameterization has too many items to render on hover (21).",
          "Parameterization has too many items to render on hover (21).",
          "Parameterization has too many items to render on hover (21).",
          "Parameterization has too many items to render on hover (21).",
          "Parameterization has too many items to render on hover (21).",
          "Parameterization has too many items to render on hover (21).",
          "Parameterization has too many items to render on hover (21).",
          "Parameterization has too many items to render on hover (21).",
          "Parameterization has too many items to render on hover (21).",
          "Parameterization has too many items to render on hover (21).",
          "Parameterization has too many items to render on hover (21).",
          "Parameterization has too many items to render on hover (21).",
          "Parameterization has too many items to render on hover (21).",
          "Parameterization has too many items to render on hover (21).",
          "Parameterization has too many items to render on hover (21).",
          "Parameterization has too many items to render on hover (21).",
          "Parameterization has too many items to render on hover (21).",
          "Parameterization has too many items to render on hover (21).",
          "Parameterization has too many items to render on hover (21).",
          "Parameterization has too many items to render on hover (21).",
          "Parameterization has too many items to render on hover (21).",
          "Parameterization has too many items to render on hover (21).",
          "Parameterization has too many items to render on hover (21).",
          "Parameterization has too many items to render on hover (21).",
          "Parameterization has too many items to render on hover (21).",
          "Parameterization has too many items to render on hover (21).",
          "Parameterization has too many items to render on hover (21).",
          "Parameterization has too many items to render on hover (21).",
          "Parameterization has too many items to render on hover (21).",
          "Parameterization has too many items to render on hover (21).",
          "Parameterization has too many items to render on hover (21).",
          "Parameterization has too many items to render on hover (21).",
          "Parameterization has too many items to render on hover (21).",
          "Parameterization has too many items to render on hover (21).",
          "Parameterization has too many items to render on hover (21).",
          "Parameterization has too many items to render on hover (21).",
          "Parameterization has too many items to render on hover (21).",
          "Parameterization has too many items to render on hover (21).",
          "Parameterization has too many items to render on hover (21).",
          "Parameterization has too many items to render on hover (21).",
          "Parameterization has too many items to render on hover (21).",
          "Parameterization has too many items to render on hover (21).",
          "Parameterization has too many items to render on hover (21).",
          "Parameterization has too many items to render on hover (21).",
          "Parameterization has too many items to render on hover (21).",
          "Parameterization has too many items to render on hover (21).",
          "Parameterization has too many items to render on hover (21).",
          "Parameterization has too many items to render on hover (21).",
          "Parameterization has too many items to render on hover (21).",
          "Parameterization has too many items to render on hover (21).",
          "Parameterization has too many items to render on hover (21).",
          "Parameterization has too many items to render on hover (21).",
          "Parameterization has too many items to render on hover (21).",
          "Parameterization has too many items to render on hover (21).",
          "Parameterization has too many items to render on hover (21).",
          "Parameterization has too many items to render on hover (21).",
          "Parameterization has too many items to render on hover (21).",
          "Parameterization has too many items to render on hover (21).",
          "Parameterization has too many items to render on hover (21).",
          "Parameterization has too many items to render on hover (21).",
          "Parameterization has too many items to render on hover (21).",
          "Parameterization has too many items to render on hover (21).",
          "Parameterization has too many items to render on hover (21).",
          "Parameterization has too many items to render on hover (21).",
          "Parameterization has too many items to render on hover (21).",
          "Parameterization has too many items to render on hover (21).",
          "Parameterization has too many items to render on hover (21).",
          "Parameterization has too many items to render on hover (21).",
          "Parameterization has too many items to render on hover (21).",
          "Parameterization has too many items to render on hover (21).",
          "Parameterization has too many items to render on hover (21).",
          "Parameterization has too many items to render on hover (21).",
          "Parameterization has too many items to render on hover (21).",
          "Parameterization has too many items to render on hover (21).",
          "Parameterization has too many items to render on hover (21).",
          "Parameterization has too many items to render on hover (21).",
          "Parameterization has too many items to render on hover (21).",
          "Parameterization has too many items to render on hover (21).",
          "Parameterization has too many items to render on hover (21).",
          "Parameterization has too many items to render on hover (21).",
          "Parameterization has too many items to render on hover (21).",
          "Parameterization has too many items to render on hover (21).",
          "Parameterization has too many items to render on hover (21).",
          "Parameterization has too many items to render on hover (21).",
          "Parameterization has too many items to render on hover (21).",
          "Parameterization has too many items to render on hover (21).",
          "Parameterization has too many items to render on hover (21).",
          "Parameterization has too many items to render on hover (21).",
          "Parameterization has too many items to render on hover (21).",
          "Parameterization has too many items to render on hover (21).",
          "Parameterization has too many items to render on hover (21).",
          "Parameterization has too many items to render on hover (21).",
          "Parameterization has too many items to render on hover (21).",
          "Parameterization has too many items to render on hover (21).",
          "Parameterization has too many items to render on hover (21).",
          "Parameterization has too many items to render on hover (21).",
          "Parameterization has too many items to render on hover (21).",
          "Parameterization has too many items to render on hover (21).",
          "Parameterization has too many items to render on hover (21).",
          "Parameterization has too many items to render on hover (21).",
          "Parameterization has too many items to render on hover (21).",
          "Parameterization has too many items to render on hover (21).",
          "Parameterization has too many items to render on hover (21).",
          "Parameterization has too many items to render on hover (21).",
          "Parameterization has too many items to render on hover (21).",
          "Parameterization has too many items to render on hover (21).",
          "Parameterization has too many items to render on hover (21).",
          "Parameterization has too many items to render on hover (21).",
          "Parameterization has too many items to render on hover (21).",
          "Parameterization has too many items to render on hover (21).",
          "Parameterization has too many items to render on hover (21).",
          "Parameterization has too many items to render on hover (21).",
          "Parameterization has too many items to render on hover (21).",
          "Parameterization has too many items to render on hover (21).",
          "Parameterization has too many items to render on hover (21).",
          "Parameterization has too many items to render on hover (21).",
          "Parameterization has too many items to render on hover (21).",
          "Parameterization has too many items to render on hover (21).",
          "Parameterization has too many items to render on hover (21).",
          "Parameterization has too many items to render on hover (21).",
          "Parameterization has too many items to render on hover (21).",
          "Parameterization has too many items to render on hover (21).",
          "Parameterization has too many items to render on hover (21).",
          "Parameterization has too many items to render on hover (21).",
          "Parameterization has too many items to render on hover (21).",
          "Parameterization has too many items to render on hover (21).",
          "Parameterization has too many items to render on hover (21).",
          "Parameterization has too many items to render on hover (21).",
          "Parameterization has too many items to render on hover (21).",
          "Parameterization has too many items to render on hover (21).",
          "Parameterization has too many items to render on hover (21).",
          "Parameterization has too many items to render on hover (21).",
          "Parameterization has too many items to render on hover (21).",
          "Parameterization has too many items to render on hover (21).",
          "Parameterization has too many items to render on hover (21).",
          "Parameterization has too many items to render on hover (21).",
          "Parameterization has too many items to render on hover (21).",
          "Parameterization has too many items to render on hover (21).",
          "Parameterization has too many items to render on hover (21).",
          "Parameterization has too many items to render on hover (21).",
          "Parameterization has too many items to render on hover (21).",
          "Parameterization has too many items to render on hover (21).",
          "Parameterization has too many items to render on hover (21).",
          "Parameterization has too many items to render on hover (21).",
          "Parameterization has too many items to render on hover (21).",
          "Parameterization has too many items to render on hover (21).",
          "Parameterization has too many items to render on hover (21).",
          "Parameterization has too many items to render on hover (21).",
          "Parameterization has too many items to render on hover (21).",
          "Parameterization has too many items to render on hover (21).",
          "Parameterization has too many items to render on hover (21).",
          "Parameterization has too many items to render on hover (21).",
          "Parameterization has too many items to render on hover (21).",
          "Parameterization has too many items to render on hover (21).",
          "Parameterization has too many items to render on hover (21).",
          "Parameterization has too many items to render on hover (21).",
          "Parameterization has too many items to render on hover (21).",
          "Parameterization has too many items to render on hover (21).",
          "Parameterization has too many items to render on hover (21).",
          "Parameterization has too many items to render on hover (21).",
          "Parameterization has too many items to render on hover (21).",
          "Parameterization has too many items to render on hover (21).",
          "Parameterization has too many items to render on hover (21).",
          "Parameterization has too many items to render on hover (21).",
          "Parameterization has too many items to render on hover (21).",
          "Parameterization has too many items to render on hover (21).",
          "Parameterization has too many items to render on hover (21).",
          "Parameterization has too many items to render on hover (21).",
          "Parameterization has too many items to render on hover (21).",
          "Parameterization has too many items to render on hover (21).",
          "Parameterization has too many items to render on hover (21).",
          "Parameterization has too many items to render on hover (21).",
          "Parameterization has too many items to render on hover (21).",
          "Parameterization has too many items to render on hover (21).",
          "Parameterization has too many items to render on hover (21).",
          "Parameterization has too many items to render on hover (21).",
          "Parameterization has too many items to render on hover (21).",
          "Parameterization has too many items to render on hover (21).",
          "Parameterization has too many items to render on hover (21).",
          "Parameterization has too many items to render on hover (21).",
          "Parameterization has too many items to render on hover (21).",
          "Parameterization has too many items to render on hover (21).",
          "Parameterization has too many items to render on hover (21).",
          "Parameterization has too many items to render on hover (21).",
          "Parameterization has too many items to render on hover (21).",
          "Parameterization has too many items to render on hover (21).",
          "Parameterization has too many items to render on hover (21).",
          "Parameterization has too many items to render on hover (21).",
          "Parameterization has too many items to render on hover (21).",
          "Parameterization has too many items to render on hover (21).",
          "Parameterization has too many items to render on hover (21).",
          "Parameterization has too many items to render on hover (21).",
          "Parameterization has too many items to render on hover (21).",
          "Parameterization has too many items to render on hover (21).",
          "Parameterization has too many items to render on hover (21).",
          "Parameterization has too many items to render on hover (21).",
          "Parameterization has too many items to render on hover (21).",
          "Parameterization has too many items to render on hover (21).",
          "Parameterization has too many items to render on hover (21).",
          "Parameterization has too many items to render on hover (21).",
          "Parameterization has too many items to render on hover (21).",
          "Parameterization has too many items to render on hover (21).",
          "Parameterization has too many items to render on hover (21).",
          "Parameterization has too many items to render on hover (21).",
          "Parameterization has too many items to render on hover (21).",
          "Parameterization has too many items to render on hover (21).",
          "Parameterization has too many items to render on hover (21).",
          "Parameterization has too many items to render on hover (21).",
          "Parameterization has too many items to render on hover (21).",
          "Parameterization has too many items to render on hover (21).",
          "Parameterization has too many items to render on hover (21).",
          "Parameterization has too many items to render on hover (21).",
          "Parameterization has too many items to render on hover (21).",
          "Parameterization has too many items to render on hover (21).",
          "Parameterization has too many items to render on hover (21).",
          "Parameterization has too many items to render on hover (21).",
          "Parameterization has too many items to render on hover (21).",
          "Parameterization has too many items to render on hover (21).",
          "Parameterization has too many items to render on hover (21).",
          "Parameterization has too many items to render on hover (21).",
          "Parameterization has too many items to render on hover (21).",
          "Parameterization has too many items to render on hover (21).",
          "Parameterization has too many items to render on hover (21).",
          "Parameterization has too many items to render on hover (21).",
          "Parameterization has too many items to render on hover (21).",
          "Parameterization has too many items to render on hover (21).",
          "Parameterization has too many items to render on hover (21).",
          "Parameterization has too many items to render on hover (21).",
          "Parameterization has too many items to render on hover (21).",
          "Parameterization has too many items to render on hover (21).",
          "Parameterization has too many items to render on hover (21).",
          "Parameterization has too many items to render on hover (21).",
          "Parameterization has too many items to render on hover (21).",
          "Parameterization has too many items to render on hover (21).",
          "Parameterization has too many items to render on hover (21).",
          "Parameterization has too many items to render on hover (21).",
          "Parameterization has too many items to render on hover (21).",
          "Parameterization has too many items to render on hover (21).",
          "Parameterization has too many items to render on hover (21).",
          "Parameterization has too many items to render on hover (21).",
          "Parameterization has too many items to render on hover (21).",
          "Parameterization has too many items to render on hover (21).",
          "Parameterization has too many items to render on hover (21).",
          "Parameterization has too many items to render on hover (21).",
          "Parameterization has too many items to render on hover (21).",
          "Parameterization has too many items to render on hover (21).",
          "Parameterization has too many items to render on hover (21).",
          "Parameterization has too many items to render on hover (21).",
          "Parameterization has too many items to render on hover (21).",
          "Parameterization has too many items to render on hover (21).",
          "Parameterization has too many items to render on hover (21).",
          "Parameterization has too many items to render on hover (21).",
          "Parameterization has too many items to render on hover (21).",
          "Parameterization has too many items to render on hover (21).",
          "Parameterization has too many items to render on hover (21).",
          "Parameterization has too many items to render on hover (21).",
          "Parameterization has too many items to render on hover (21).",
          "Parameterization has too many items to render on hover (21).",
          "Parameterization has too many items to render on hover (21).",
          "Parameterization has too many items to render on hover (21).",
          "Parameterization has too many items to render on hover (21).",
          "Parameterization has too many items to render on hover (21).",
          "Parameterization has too many items to render on hover (21).",
          "Parameterization has too many items to render on hover (21).",
          "Parameterization has too many items to render on hover (21).",
          "Parameterization has too many items to render on hover (21).",
          "Parameterization has too many items to render on hover (21).",
          "Parameterization has too many items to render on hover (21).",
          "Parameterization has too many items to render on hover (21).",
          "Parameterization has too many items to render on hover (21).",
          "Parameterization has too many items to render on hover (21).",
          "Parameterization has too many items to render on hover (21).",
          "Parameterization has too many items to render on hover (21).",
          "Parameterization has too many items to render on hover (21).",
          "Parameterization has too many items to render on hover (21).",
          "Parameterization has too many items to render on hover (21).",
          "Parameterization has too many items to render on hover (21).",
          "Parameterization has too many items to render on hover (21).",
          "Parameterization has too many items to render on hover (21).",
          "Parameterization has too many items to render on hover (21).",
          "Parameterization has too many items to render on hover (21).",
          "Parameterization has too many items to render on hover (21).",
          "Parameterization has too many items to render on hover (21).",
          "Parameterization has too many items to render on hover (21).",
          "Parameterization has too many items to render on hover (21).",
          "Parameterization has too many items to render on hover (21).",
          "Parameterization has too many items to render on hover (21).",
          "Parameterization has too many items to render on hover (21).",
          "Parameterization has too many items to render on hover (21).",
          "Parameterization has too many items to render on hover (21).",
          "Parameterization has too many items to render on hover (21).",
          "Parameterization has too many items to render on hover (21).",
          "Parameterization has too many items to render on hover (21).",
          "Parameterization has too many items to render on hover (21).",
          "Parameterization has too many items to render on hover (21).",
          "Parameterization has too many items to render on hover (21).",
          "Parameterization has too many items to render on hover (21).",
          "Parameterization has too many items to render on hover (21).",
          "Parameterization has too many items to render on hover (21).",
          "Parameterization has too many items to render on hover (21).",
          "Parameterization has too many items to render on hover (21).",
          "Parameterization has too many items to render on hover (21).",
          "Parameterization has too many items to render on hover (21).",
          "Parameterization has too many items to render on hover (21).",
          "Parameterization has too many items to render on hover (21).",
          "Parameterization has too many items to render on hover (21).",
          "Parameterization has too many items to render on hover (21).",
          "Parameterization has too many items to render on hover (21).",
          "Parameterization has too many items to render on hover (21).",
          "Parameterization has too many items to render on hover (21).",
          "Parameterization has too many items to render on hover (21).",
          "Parameterization has too many items to render on hover (21).",
          "Parameterization has too many items to render on hover (21).",
          "Parameterization has too many items to render on hover (21).",
          "Parameterization has too many items to render on hover (21).",
          "Parameterization has too many items to render on hover (21).",
          "Parameterization has too many items to render on hover (21).",
          "Parameterization has too many items to render on hover (21).",
          "Parameterization has too many items to render on hover (21).",
          "Parameterization has too many items to render on hover (21).",
          "Parameterization has too many items to render on hover (21).",
          "Parameterization has too many items to render on hover (21).",
          "Parameterization has too many items to render on hover (21).",
          "Parameterization has too many items to render on hover (21).",
          "Parameterization has too many items to render on hover (21).",
          "Parameterization has too many items to render on hover (21).",
          "Parameterization has too many items to render on hover (21).",
          "Parameterization has too many items to render on hover (21).",
          "Parameterization has too many items to render on hover (21).",
          "Parameterization has too many items to render on hover (21).",
          "Parameterization has too many items to render on hover (21).",
          "Parameterization has too many items to render on hover (21).",
          "Parameterization has too many items to render on hover (21).",
          "Parameterization has too many items to render on hover (21).",
          "Parameterization has too many items to render on hover (21).",
          "Parameterization has too many items to render on hover (21).",
          "Parameterization has too many items to render on hover (21).",
          "Parameterization has too many items to render on hover (21).",
          "Parameterization has too many items to render on hover (21).",
          "Parameterization has too many items to render on hover (21).",
          "Parameterization has too many items to render on hover (21).",
          "Parameterization has too many items to render on hover (21).",
          "Parameterization has too many items to render on hover (21).",
          "Parameterization has too many items to render on hover (21).",
          "Parameterization has too many items to render on hover (21).",
          "Parameterization has too many items to render on hover (21).",
          "Parameterization has too many items to render on hover (21).",
          "Parameterization has too many items to render on hover (21).",
          "Parameterization has too many items to render on hover (21).",
          "Parameterization has too many items to render on hover (21).",
          "Parameterization has too many items to render on hover (21).",
          "Parameterization has too many items to render on hover (21).",
          "Parameterization has too many items to render on hover (21).",
          "Parameterization has too many items to render on hover (21).",
          "Parameterization has too many items to render on hover (21).",
          "Parameterization has too many items to render on hover (21).",
          "Parameterization has too many items to render on hover (21).",
          "Parameterization has too many items to render on hover (21).",
          "Parameterization has too many items to render on hover (21).",
          "Parameterization has too many items to render on hover (21).",
          "Parameterization has too many items to render on hover (21).",
          "Parameterization has too many items to render on hover (21).",
          "Parameterization has too many items to render on hover (21).",
          "Parameterization has too many items to render on hover (21).",
          "Parameterization has too many items to render on hover (21).",
          "Parameterization has too many items to render on hover (21).",
          "Parameterization has too many items to render on hover (21).",
          "Parameterization has too many items to render on hover (21).",
          "Parameterization has too many items to render on hover (21).",
          "Parameterization has too many items to render on hover (21).",
          "Parameterization has too many items to render on hover (21).",
          "Parameterization has too many items to render on hover (21).",
          "Parameterization has too many items to render on hover (21).",
          "Parameterization has too many items to render on hover (21).",
          "Parameterization has too many items to render on hover (21).",
          "Parameterization has too many items to render on hover (21).",
          "Parameterization has too many items to render on hover (21).",
          "Parameterization has too many items to render on hover (21).",
          "Parameterization has too many items to render on hover (21).",
          "Parameterization has too many items to render on hover (21).",
          "Parameterization has too many items to render on hover (21).",
          "Parameterization has too many items to render on hover (21).",
          "Parameterization has too many items to render on hover (21).",
          "Parameterization has too many items to render on hover (21).",
          "Parameterization has too many items to render on hover (21).",
          "Parameterization has too many items to render on hover (21).",
          "Parameterization has too many items to render on hover (21).",
          "Parameterization has too many items to render on hover (21).",
          "Parameterization has too many items to render on hover (21).",
          "Parameterization has too many items to render on hover (21).",
          "Parameterization has too many items to render on hover (21).",
          "Parameterization has too many items to render on hover (21).",
          "Parameterization has too many items to render on hover (21).",
          "Parameterization has too many items to render on hover (21).",
          "Parameterization has too many items to render on hover (21).",
          "Parameterization has too many items to render on hover (21).",
          "Parameterization has too many items to render on hover (21).",
          "Parameterization has too many items to render on hover (21).",
          "Parameterization has too many items to render on hover (21).",
          "Parameterization has too many items to render on hover (21).",
          "Parameterization has too many items to render on hover (21).",
          "Parameterization has too many items to render on hover (21).",
          "Parameterization has too many items to render on hover (21).",
          "Parameterization has too many items to render on hover (21).",
          "Parameterization has too many items to render on hover (21).",
          "Parameterization has too many items to render on hover (21).",
          "Parameterization has too many items to render on hover (21).",
          "Parameterization has too many items to render on hover (21).",
          "Parameterization has too many items to render on hover (21).",
          "Parameterization has too many items to render on hover (21).",
          "Parameterization has too many items to render on hover (21).",
          "Parameterization has too many items to render on hover (21).",
          "Parameterization has too many items to render on hover (21).",
          "Parameterization has too many items to render on hover (21).",
          "Parameterization has too many items to render on hover (21).",
          "Parameterization has too many items to render on hover (21).",
          "Parameterization has too many items to render on hover (21).",
          "Parameterization has too many items to render on hover (21).",
          "Parameterization has too many items to render on hover (21).",
          "Parameterization has too many items to render on hover (21).",
          "Parameterization has too many items to render on hover (21).",
          "Parameterization has too many items to render on hover (21).",
          "Parameterization has too many items to render on hover (21).",
          "Parameterization has too many items to render on hover (21).",
          "Parameterization has too many items to render on hover (21).",
          "Parameterization has too many items to render on hover (21).",
          "Parameterization has too many items to render on hover (21).",
          "Parameterization has too many items to render on hover (21).",
          "Parameterization has too many items to render on hover (21).",
          "Parameterization has too many items to render on hover (21).",
          "Parameterization has too many items to render on hover (21).",
          "Parameterization has too many items to render on hover (21).",
          "Parameterization has too many items to render on hover (21).",
          "Parameterization has too many items to render on hover (21).",
          "Parameterization has too many items to render on hover (21).",
          "Parameterization has too many items to render on hover (21).",
          "Parameterization has too many items to render on hover (21).",
          "Parameterization has too many items to render on hover (21).",
          "Parameterization has too many items to render on hover (21).",
          "Parameterization has too many items to render on hover (21).",
          "Parameterization has too many items to render on hover (21).",
          "Parameterization has too many items to render on hover (21).",
          "Parameterization has too many items to render on hover (21).",
          "Parameterization has too many items to render on hover (21).",
          "Parameterization has too many items to render on hover (21).",
          "Parameterization has too many items to render on hover (21).",
          "Parameterization has too many items to render on hover (21).",
          "Parameterization has too many items to render on hover (21).",
          "Parameterization has too many items to render on hover (21).",
          "Parameterization has too many items to render on hover (21).",
          "Parameterization has too many items to render on hover (21).",
          "Parameterization has too many items to render on hover (21).",
          "Parameterization has too many items to render on hover (21).",
          "Parameterization has too many items to render on hover (21).",
          "Parameterization has too many items to render on hover (21).",
          "Parameterization has too many items to render on hover (21).",
          "Parameterization has too many items to render on hover (21).",
          "Parameterization has too many items to render on hover (21).",
          "Parameterization has too many items to render on hover (21).",
          "Parameterization has too many items to render on hover (21).",
          "Parameterization has too many items to render on hover (21).",
          "Parameterization has too many items to render on hover (21).",
          "Parameterization has too many items to render on hover (21).",
          "Parameterization has too many items to render on hover (21).",
          "Parameterization has too many items to render on hover (21).",
          "Parameterization has too many items to render on hover (21).",
          "Parameterization has too many items to render on hover (21).",
          "Parameterization has too many items to render on hover (21).",
          "Parameterization has too many items to render on hover (21).",
          "Parameterization has too many items to render on hover (21).",
          "Parameterization has too many items to render on hover (21).",
          "Parameterization has too many items to render on hover (21).",
          "Parameterization has too many items to render on hover (21).",
          "Parameterization has too many items to render on hover (21).",
          "Parameterization has too many items to render on hover (21).",
          "Parameterization has too many items to render on hover (21).",
          "Parameterization has too many items to render on hover (21).",
          "Parameterization has too many items to render on hover (21).",
          "Parameterization has too many items to render on hover (21).",
          "Parameterization has too many items to render on hover (21).",
          "Parameterization has too many items to render on hover (21).",
          "Parameterization has too many items to render on hover (21).",
          "Parameterization has too many items to render on hover (21).",
          "Parameterization has too many items to render on hover (21).",
          "Parameterization has too many items to render on hover (21).",
          "Parameterization has too many items to render on hover (21).",
          "Parameterization has too many items to render on hover (21).",
          "Parameterization has too many items to render on hover (21).",
          "Parameterization has too many items to render on hover (21).",
          "Parameterization has too many items to render on hover (21).",
          "Parameterization has too many items to render on hover (21).",
          "Parameterization has too many items to render on hover (21).",
          "Parameterization has too many items to render on hover (21).",
          "Parameterization has too many items to render on hover (21).",
          "Parameterization has too many items to render on hover (21).",
          "Parameterization has too many items to render on hover (21).",
          "Parameterization has too many items to render on hover (21).",
          "Parameterization has too many items to render on hover (21).",
          "Parameterization has too many items to render on hover (21).",
          "Parameterization has too many items to render on hover (21).",
          "Parameterization has too many items to render on hover (21).",
          "Parameterization has too many items to render on hover (21).",
          "Parameterization has too many items to render on hover (21).",
          "Parameterization has too many items to render on hover (21).",
          "Parameterization has too many items to render on hover (21).",
          "Parameterization has too many items to render on hover (21).",
          "Parameterization has too many items to render on hover (21).",
          "Parameterization has too many items to render on hover (21).",
          "Parameterization has too many items to render on hover (21).",
          "Parameterization has too many items to render on hover (21).",
          "Parameterization has too many items to render on hover (21).",
          "Parameterization has too many items to render on hover (21).",
          "Parameterization has too many items to render on hover (21).",
          "Parameterization has too many items to render on hover (21).",
          "Parameterization has too many items to render on hover (21).",
          "Parameterization has too many items to render on hover (21).",
          "Parameterization has too many items to render on hover (21).",
          "Parameterization has too many items to render on hover (21).",
          "Parameterization has too many items to render on hover (21).",
          "Parameterization has too many items to render on hover (21).",
          "Parameterization has too many items to render on hover (21).",
          "Parameterization has too many items to render on hover (21).",
          "Parameterization has too many items to render on hover (21).",
          "Parameterization has too many items to render on hover (21).",
          "Parameterization has too many items to render on hover (21).",
          "Parameterization has too many items to render on hover (21).",
          "Parameterization has too many items to render on hover (21).",
          "Parameterization has too many items to render on hover (21).",
          "Parameterization has too many items to render on hover (21).",
          "Parameterization has too many items to render on hover (21).",
          "Parameterization has too many items to render on hover (21).",
          "Parameterization has too many items to render on hover (21).",
          "Parameterization has too many items to render on hover (21).",
          "Parameterization has too many items to render on hover (21).",
          "Parameterization has too many items to render on hover (21).",
          "Parameterization has too many items to render on hover (21).",
          "Parameterization has too many items to render on hover (21).",
          "Parameterization has too many items to render on hover (21).",
          "Parameterization has too many items to render on hover (21).",
          "Parameterization has too many items to render on hover (21).",
          "Parameterization has too many items to render on hover (21).",
          "Parameterization has too many items to render on hover (21).",
          "Parameterization has too many items to render on hover (21).",
          "Parameterization has too many items to render on hover (21).",
          "Parameterization has too many items to render on hover (21).",
          "Parameterization has too many items to render on hover (21).",
          "Parameterization has too many items to render on hover (21).",
          "Parameterization has too many items to render on hover (21).",
          "Parameterization has too many items to render on hover (21).",
          "Parameterization has too many items to render on hover (21).",
          "Parameterization has too many items to render on hover (21).",
          "Parameterization has too many items to render on hover (21).",
          "Parameterization has too many items to render on hover (21).",
          "Parameterization has too many items to render on hover (21).",
          "Parameterization has too many items to render on hover (21).",
          "Parameterization has too many items to render on hover (21).",
          "Parameterization has too many items to render on hover (21).",
          "Parameterization has too many items to render on hover (21).",
          "Parameterization has too many items to render on hover (21).",
          "Parameterization has too many items to render on hover (21).",
          "Parameterization has too many items to render on hover (21).",
          "Parameterization has too many items to render on hover (21).",
          "Parameterization has too many items to render on hover (21).",
          "Parameterization has too many items to render on hover (21).",
          "Parameterization has too many items to render on hover (21).",
          "Parameterization has too many items to render on hover (21).",
          "Parameterization has too many items to render on hover (21).",
          "Parameterization has too many items to render on hover (21).",
          "Parameterization has too many items to render on hover (21).",
          "Parameterization has too many items to render on hover (21).",
          "Parameterization has too many items to render on hover (21).",
          "Parameterization has too many items to render on hover (21).",
          "Parameterization has too many items to render on hover (21).",
          "Parameterization has too many items to render on hover (21).",
          "Parameterization has too many items to render on hover (21).",
          "Parameterization has too many items to render on hover (21).",
          "Parameterization has too many items to render on hover (21).",
          "Parameterization has too many items to render on hover (21).",
          "Parameterization has too many items to render on hover (21).",
          "Parameterization has too many items to render on hover (21).",
          "Parameterization has too many items to render on hover (21).",
          "Parameterization has too many items to render on hover (21).",
          "Parameterization has too many items to render on hover (21).",
          "Parameterization has too many items to render on hover (21).",
          "Parameterization has too many items to render on hover (21).",
          "Parameterization has too many items to render on hover (21).",
          "Parameterization has too many items to render on hover (21).",
          "Parameterization has too many items to render on hover (21).",
          "Parameterization has too many items to render on hover (21).",
          "Parameterization has too many items to render on hover (21).",
          "Parameterization has too many items to render on hover (21).",
          "Parameterization has too many items to render on hover (21).",
          "Parameterization has too many items to render on hover (21).",
          "Parameterization has too many items to render on hover (21).",
          "Parameterization has too many items to render on hover (21).",
          "Parameterization has too many items to render on hover (21).",
          "Parameterization has too many items to render on hover (21).",
          "Parameterization has too many items to render on hover (21).",
          "Parameterization has too many items to render on hover (21).",
          "Parameterization has too many items to render on hover (21).",
          "Parameterization has too many items to render on hover (21).",
          "Parameterization has too many items to render on hover (21).",
          "Parameterization has too many items to render on hover (21).",
          "Parameterization has too many items to render on hover (21).",
          "Parameterization has too many items to render on hover (21).",
          "Parameterization has too many items to render on hover (21).",
          "Parameterization has too many items to render on hover (21).",
          "Parameterization has too many items to render on hover (21).",
          "Parameterization has too many items to render on hover (21).",
          "Parameterization has too many items to render on hover (21).",
          "Parameterization has too many items to render on hover (21).",
          "Parameterization has too many items to render on hover (21).",
          "Parameterization has too many items to render on hover (21).",
          "Parameterization has too many items to render on hover (21).",
          "Parameterization has too many items to render on hover (21).",
          "Parameterization has too many items to render on hover (21).",
          "Parameterization has too many items to render on hover (21).",
          "Parameterization has too many items to render on hover (21).",
          "Parameterization has too many items to render on hover (21).",
          "Parameterization has too many items to render on hover (21).",
          "Parameterization has too many items to render on hover (21).",
          "Parameterization has too many items to render on hover (21).",
          "Parameterization has too many items to render on hover (21).",
          "Parameterization has too many items to render on hover (21).",
          "Parameterization has too many items to render on hover (21).",
          "Parameterization has too many items to render on hover (21).",
          "Parameterization has too many items to render on hover (21).",
          "Parameterization has too many items to render on hover (21).",
          "Parameterization has too many items to render on hover (21).",
          "Parameterization has too many items to render on hover (21).",
          "Parameterization has too many items to render on hover (21).",
          "Parameterization has too many items to render on hover (21).",
          "Parameterization has too many items to render on hover (21).",
          "Parameterization has too many items to render on hover (21).",
          "Parameterization has too many items to render on hover (21).",
          "Parameterization has too many items to render on hover (21).",
          "Parameterization has too many items to render on hover (21).",
          "Parameterization has too many items to render on hover (21).",
          "Parameterization has too many items to render on hover (21).",
          "Parameterization has too many items to render on hover (21).",
          "Parameterization has too many items to render on hover (21).",
          "Parameterization has too many items to render on hover (21).",
          "Parameterization has too many items to render on hover (21).",
          "Parameterization has too many items to render on hover (21).",
          "Parameterization has too many items to render on hover (21).",
          "Parameterization has too many items to render on hover (21).",
          "Parameterization has too many items to render on hover (21).",
          "Parameterization has too many items to render on hover (21).",
          "Parameterization has too many items to render on hover (21).",
          "Parameterization has too many items to render on hover (21).",
          "Parameterization has too many items to render on hover (21).",
          "Parameterization has too many items to render on hover (21).",
          "Parameterization has too many items to render on hover (21).",
          "Parameterization has too many items to render on hover (21).",
          "Parameterization has too many items to render on hover (21).",
          "Parameterization has too many items to render on hover (21).",
          "Parameterization has too many items to render on hover (21).",
          "Parameterization has too many items to render on hover (21).",
          "Parameterization has too many items to render on hover (21).",
          "Parameterization has too many items to render on hover (21).",
          "Parameterization has too many items to render on hover (21).",
          "Parameterization has too many items to render on hover (21).",
          "Parameterization has too many items to render on hover (21).",
          "Parameterization has too many items to render on hover (21).",
          "Parameterization has too many items to render on hover (21).",
          "Parameterization has too many items to render on hover (21).",
          "Parameterization has too many items to render on hover (21).",
          "Parameterization has too many items to render on hover (21).",
          "Parameterization has too many items to render on hover (21).",
          "Parameterization has too many items to render on hover (21).",
          "Parameterization has too many items to render on hover (21).",
          "Parameterization has too many items to render on hover (21).",
          "Parameterization has too many items to render on hover (21).",
          "Parameterization has too many items to render on hover (21).",
          "Parameterization has too many items to render on hover (21).",
          "Parameterization has too many items to render on hover (21).",
          "Parameterization has too many items to render on hover (21).",
          "Parameterization has too many items to render on hover (21).",
          "Parameterization has too many items to render on hover (21).",
          "Parameterization has too many items to render on hover (21).",
          "Parameterization has too many items to render on hover (21).",
          "Parameterization has too many items to render on hover (21).",
          "Parameterization has too many items to render on hover (21).",
          "Parameterization has too many items to render on hover (21).",
          "Parameterization has too many items to render on hover (21).",
          "Parameterization has too many items to render on hover (21).",
          "Parameterization has too many items to render on hover (21).",
          "Parameterization has too many items to render on hover (21).",
          "Parameterization has too many items to render on hover (21).",
          "Parameterization has too many items to render on hover (21).",
          "Parameterization has too many items to render on hover (21).",
          "Parameterization has too many items to render on hover (21).",
          "Parameterization has too many items to render on hover (21).",
          "Parameterization has too many items to render on hover (21).",
          "Parameterization has too many items to render on hover (21).",
          "Parameterization has too many items to render on hover (21).",
          "Parameterization has too many items to render on hover (21).",
          "Parameterization has too many items to render on hover (21).",
          "Parameterization has too many items to render on hover (21).",
          "Parameterization has too many items to render on hover (21).",
          "Parameterization has too many items to render on hover (21).",
          "Parameterization has too many items to render on hover (21).",
          "Parameterization has too many items to render on hover (21).",
          "Parameterization has too many items to render on hover (21).",
          "Parameterization has too many items to render on hover (21).",
          "Parameterization has too many items to render on hover (21).",
          "Parameterization has too many items to render on hover (21).",
          "Parameterization has too many items to render on hover (21).",
          "Parameterization has too many items to render on hover (21).",
          "Parameterization has too many items to render on hover (21).",
          "Parameterization has too many items to render on hover (21).",
          "Parameterization has too many items to render on hover (21).",
          "Parameterization has too many items to render on hover (21).",
          "Parameterization has too many items to render on hover (21).",
          "Parameterization has too many items to render on hover (21).",
          "Parameterization has too many items to render on hover (21).",
          "Parameterization has too many items to render on hover (21).",
          "Parameterization has too many items to render on hover (21).",
          "Parameterization has too many items to render on hover (21).",
          "Parameterization has too many items to render on hover (21).",
          "Parameterization has too many items to render on hover (21).",
          "Parameterization has too many items to render on hover (21).",
          "Parameterization has too many items to render on hover (21).",
          "Parameterization has too many items to render on hover (21).",
          "Parameterization has too many items to render on hover (21).",
          "Parameterization has too many items to render on hover (21).",
          "Parameterization has too many items to render on hover (21).",
          "Parameterization has too many items to render on hover (21).",
          "Parameterization has too many items to render on hover (21).",
          "Parameterization has too many items to render on hover (21).",
          "Parameterization has too many items to render on hover (21).",
          "Parameterization has too many items to render on hover (21).",
          "Parameterization has too many items to render on hover (21).",
          "Parameterization has too many items to render on hover (21).",
          "Parameterization has too many items to render on hover (21).",
          "Parameterization has too many items to render on hover (21).",
          "Parameterization has too many items to render on hover (21).",
          "Parameterization has too many items to render on hover (21).",
          "Parameterization has too many items to render on hover (21).",
          "Parameterization has too many items to render on hover (21).",
          "Parameterization has too many items to render on hover (21).",
          "Parameterization has too many items to render on hover (21).",
          "Parameterization has too many items to render on hover (21).",
          "Parameterization has too many items to render on hover (21).",
          "Parameterization has too many items to render on hover (21).",
          "Parameterization has too many items to render on hover (21).",
          "Parameterization has too many items to render on hover (21).",
          "Parameterization has too many items to render on hover (21).",
          "Parameterization has too many items to render on hover (21).",
          "Parameterization has too many items to render on hover (21).",
          "Parameterization has too many items to render on hover (21).",
          "Parameterization has too many items to render on hover (21).",
          "Parameterization has too many items to render on hover (21).",
          "Parameterization has too many items to render on hover (21).",
          "Parameterization has too many items to render on hover (21).",
          "Parameterization has too many items to render on hover (21).",
          "Parameterization has too many items to render on hover (21).",
          "Parameterization has too many items to render on hover (21).",
          "Parameterization has too many items to render on hover (21).",
          "Parameterization has too many items to render on hover (21).",
          "Parameterization has too many items to render on hover (21).",
          "Parameterization has too many items to render on hover (21).",
          "Parameterization has too many items to render on hover (21).",
          "Parameterization has too many items to render on hover (21).",
          "Parameterization has too many items to render on hover (21).",
          "Parameterization has too many items to render on hover (21).",
          "Parameterization has too many items to render on hover (21).",
          "Parameterization has too many items to render on hover (21).",
          "Parameterization has too many items to render on hover (21).",
          "Parameterization has too many items to render on hover (21).",
          "Parameterization has too many items to render on hover (21).",
          "Parameterization has too many items to render on hover (21).",
          "Parameterization has too many items to render on hover (21).",
          "Parameterization has too many items to render on hover (21).",
          "Parameterization has too many items to render on hover (21).",
          "Parameterization has too many items to render on hover (21).",
          "Parameterization has too many items to render on hover (21).",
          "Parameterization has too many items to render on hover (21).",
          "Parameterization has too many items to render on hover (21).",
          "Parameterization has too many items to render on hover (21).",
          "Parameterization has too many items to render on hover (21).",
          "Parameterization has too many items to render on hover (21).",
          "Parameterization has too many items to render on hover (21).",
          "Parameterization has too many items to render on hover (21).",
          "Parameterization has too many items to render on hover (21).",
          "Parameterization has too many items to render on hover (21).",
          "Parameterization has too many items to render on hover (21).",
          "Parameterization has too many items to render on hover (21).",
          "Parameterization has too many items to render on hover (21).",
          "Parameterization has too many items to render on hover (21).",
          "Parameterization has too many items to render on hover (21).",
          "Parameterization has too many items to render on hover (21).",
          "Parameterization has too many items to render on hover (21).",
          "Parameterization has too many items to render on hover (21).",
          "Parameterization has too many items to render on hover (21).",
          "Parameterization has too many items to render on hover (21).",
          "Parameterization has too many items to render on hover (21).",
          "Parameterization has too many items to render on hover (21).",
          "Parameterization has too many items to render on hover (21).",
          "Parameterization has too many items to render on hover (21).",
          "Parameterization has too many items to render on hover (21).",
          "Parameterization has too many items to render on hover (21).",
          "Parameterization has too many items to render on hover (21).",
          "Parameterization has too many items to render on hover (21).",
          "Parameterization has too many items to render on hover (21).",
          "Parameterization has too many items to render on hover (21).",
          "Parameterization has too many items to render on hover (21).",
          "Parameterization has too many items to render on hover (21).",
          "Parameterization has too many items to render on hover (21).",
          "Parameterization has too many items to render on hover (21).",
          "Parameterization has too many items to render on hover (21).",
          "Parameterization has too many items to render on hover (21).",
          "Parameterization has too many items to render on hover (21).",
          "Parameterization has too many items to render on hover (21).",
          "Parameterization has too many items to render on hover (21).",
          "Parameterization has too many items to render on hover (21).",
          "Parameterization has too many items to render on hover (21).",
          "Parameterization has too many items to render on hover (21).",
          "Parameterization has too many items to render on hover (21).",
          "Parameterization has too many items to render on hover (21).",
          "Parameterization has too many items to render on hover (21).",
          "Parameterization has too many items to render on hover (21).",
          "Parameterization has too many items to render on hover (21).",
          "Parameterization has too many items to render on hover (21).",
          "Parameterization has too many items to render on hover (21).",
          "Parameterization has too many items to render on hover (21).",
          "Parameterization has too many items to render on hover (21).",
          "Parameterization has too many items to render on hover (21).",
          "Parameterization has too many items to render on hover (21).",
          "Parameterization has too many items to render on hover (21).",
          "Parameterization has too many items to render on hover (21).",
          "Parameterization has too many items to render on hover (21).",
          "Parameterization has too many items to render on hover (21).",
          "Parameterization has too many items to render on hover (21).",
          "Parameterization has too many items to render on hover (21).",
          "Parameterization has too many items to render on hover (21).",
          "Parameterization has too many items to render on hover (21).",
          "Parameterization has too many items to render on hover (21).",
          "Parameterization has too many items to render on hover (21).",
          "Parameterization has too many items to render on hover (21).",
          "Parameterization has too many items to render on hover (21).",
          "Parameterization has too many items to render on hover (21).",
          "Parameterization has too many items to render on hover (21).",
          "Parameterization has too many items to render on hover (21).",
          "Parameterization has too many items to render on hover (21).",
          "Parameterization has too many items to render on hover (21).",
          "Parameterization has too many items to render on hover (21).",
          "Parameterization has too many items to render on hover (21).",
          "Parameterization has too many items to render on hover (21).",
          "Parameterization has too many items to render on hover (21).",
          "Parameterization has too many items to render on hover (21).",
          "Parameterization has too many items to render on hover (21).",
          "Parameterization has too many items to render on hover (21).",
          "Parameterization has too many items to render on hover (21).",
          "Parameterization has too many items to render on hover (21).",
          "Parameterization has too many items to render on hover (21).",
          "Parameterization has too many items to render on hover (21).",
          "Parameterization has too many items to render on hover (21).",
          "Parameterization has too many items to render on hover (21).",
          "Parameterization has too many items to render on hover (21).",
          "Parameterization has too many items to render on hover (21).",
          "Parameterization has too many items to render on hover (21).",
          "Parameterization has too many items to render on hover (21).",
          "Parameterization has too many items to render on hover (21).",
          "Parameterization has too many items to render on hover (21).",
          "Parameterization has too many items to render on hover (21).",
          "Parameterization has too many items to render on hover (21).",
          "Parameterization has too many items to render on hover (21).",
          "Parameterization has too many items to render on hover (21).",
          "Parameterization has too many items to render on hover (21).",
          "Parameterization has too many items to render on hover (21).",
          "Parameterization has too many items to render on hover (21).",
          "Parameterization has too many items to render on hover (21).",
          "Parameterization has too many items to render on hover (21).",
          "Parameterization has too many items to render on hover (21).",
          "Parameterization has too many items to render on hover (21).",
          "Parameterization has too many items to render on hover (21).",
          "Parameterization has too many items to render on hover (21).",
          "Parameterization has too many items to render on hover (21).",
          "Parameterization has too many items to render on hover (21).",
          "Parameterization has too many items to render on hover (21).",
          "Parameterization has too many items to render on hover (21).",
          "Parameterization has too many items to render on hover (21).",
          "Parameterization has too many items to render on hover (21).",
          "Parameterization has too many items to render on hover (21).",
          "Parameterization has too many items to render on hover (21).",
          "Parameterization has too many items to render on hover (21).",
          "Parameterization has too many items to render on hover (21).",
          "Parameterization has too many items to render on hover (21).",
          "Parameterization has too many items to render on hover (21).",
          "Parameterization has too many items to render on hover (21).",
          "Parameterization has too many items to render on hover (21).",
          "Parameterization has too many items to render on hover (21).",
          "Parameterization has too many items to render on hover (21).",
          "Parameterization has too many items to render on hover (21).",
          "Parameterization has too many items to render on hover (21).",
          "Parameterization has too many items to render on hover (21).",
          "Parameterization has too many items to render on hover (21).",
          "Parameterization has too many items to render on hover (21).",
          "Parameterization has too many items to render on hover (21).",
          "Parameterization has too many items to render on hover (21).",
          "Parameterization has too many items to render on hover (21).",
          "Parameterization has too many items to render on hover (21).",
          "Parameterization has too many items to render on hover (21).",
          "Parameterization has too many items to render on hover (21).",
          "Parameterization has too many items to render on hover (21).",
          "Parameterization has too many items to render on hover (21).",
          "Parameterization has too many items to render on hover (21).",
          "Parameterization has too many items to render on hover (21).",
          "Parameterization has too many items to render on hover (21).",
          "Parameterization has too many items to render on hover (21).",
          "Parameterization has too many items to render on hover (21).",
          "Parameterization has too many items to render on hover (21).",
          "Parameterization has too many items to render on hover (21).",
          "Parameterization has too many items to render on hover (21).",
          "Parameterization has too many items to render on hover (21).",
          "Parameterization has too many items to render on hover (21).",
          "Parameterization has too many items to render on hover (21).",
          "Parameterization has too many items to render on hover (21).",
          "Parameterization has too many items to render on hover (21).",
          "Parameterization has too many items to render on hover (21).",
          "Parameterization has too many items to render on hover (21).",
          "Parameterization has too many items to render on hover (21).",
          "Parameterization has too many items to render on hover (21).",
          "Parameterization has too many items to render on hover (21).",
          "Parameterization has too many items to render on hover (21).",
          "Parameterization has too many items to render on hover (21).",
          "Parameterization has too many items to render on hover (21).",
          "Parameterization has too many items to render on hover (21).",
          "Parameterization has too many items to render on hover (21).",
          "Parameterization has too many items to render on hover (21).",
          "Parameterization has too many items to render on hover (21).",
          "Parameterization has too many items to render on hover (21).",
          "Parameterization has too many items to render on hover (21).",
          "Parameterization has too many items to render on hover (21).",
          "Parameterization has too many items to render on hover (21).",
          "Parameterization has too many items to render on hover (21).",
          "Parameterization has too many items to render on hover (21).",
          "Parameterization has too many items to render on hover (21).",
          "Parameterization has too many items to render on hover (21).",
          "Parameterization has too many items to render on hover (21).",
          "Parameterization has too many items to render on hover (21).",
          "Parameterization has too many items to render on hover (21).",
          "Parameterization has too many items to render on hover (21).",
          "Parameterization has too many items to render on hover (21).",
          "Parameterization has too many items to render on hover (21).",
          "Parameterization has too many items to render on hover (21).",
          "Parameterization has too many items to render on hover (21).",
          "Parameterization has too many items to render on hover (21).",
          "Parameterization has too many items to render on hover (21).",
          "Parameterization has too many items to render on hover (21).",
          "Parameterization has too many items to render on hover (21).",
          "Parameterization has too many items to render on hover (21).",
          "Parameterization has too many items to render on hover (21).",
          "Parameterization has too many items to render on hover (21).",
          "Parameterization has too many items to render on hover (21).",
          "Parameterization has too many items to render on hover (21).",
          "Parameterization has too many items to render on hover (21).",
          "Parameterization has too many items to render on hover (21).",
          "Parameterization has too many items to render on hover (21).",
          "Parameterization has too many items to render on hover (21).",
          "Parameterization has too many items to render on hover (21).",
          "Parameterization has too many items to render on hover (21).",
          "Parameterization has too many items to render on hover (21).",
          "Parameterization has too many items to render on hover (21).",
          "Parameterization has too many items to render on hover (21).",
          "Parameterization has too many items to render on hover (21).",
          "Parameterization has too many items to render on hover (21).",
          "Parameterization has too many items to render on hover (21).",
          "Parameterization has too many items to render on hover (21).",
          "Parameterization has too many items to render on hover (21).",
          "Parameterization has too many items to render on hover (21).",
          "Parameterization has too many items to render on hover (21).",
          "Parameterization has too many items to render on hover (21).",
          "Parameterization has too many items to render on hover (21).",
          "Parameterization has too many items to render on hover (21).",
          "Parameterization has too many items to render on hover (21).",
          "Parameterization has too many items to render on hover (21).",
          "Parameterization has too many items to render on hover (21).",
          "Parameterization has too many items to render on hover (21).",
          "Parameterization has too many items to render on hover (21).",
          "Parameterization has too many items to render on hover (21).",
          "Parameterization has too many items to render on hover (21).",
          "Parameterization has too many items to render on hover (21).",
          "Parameterization has too many items to render on hover (21).",
          "Parameterization has too many items to render on hover (21).",
          "Parameterization has too many items to render on hover (21).",
          "Parameterization has too many items to render on hover (21).",
          "Parameterization has too many items to render on hover (21).",
          "Parameterization has too many items to render on hover (21).",
          "Parameterization has too many items to render on hover (21).",
          "Parameterization has too many items to render on hover (21).",
          "Parameterization has too many items to render on hover (21).",
          "Parameterization has too many items to render on hover (21).",
          "Parameterization has too many items to render on hover (21).",
          "Parameterization has too many items to render on hover (21).",
          "Parameterization has too many items to render on hover (21).",
          "Parameterization has too many items to render on hover (21).",
          "Parameterization has too many items to render on hover (21).",
          "Parameterization has too many items to render on hover (21).",
          "Parameterization has too many items to render on hover (21).",
          "Parameterization has too many items to render on hover (21).",
          "Parameterization has too many items to render on hover (21).",
          "Parameterization has too many items to render on hover (21).",
          "Parameterization has too many items to render on hover (21).",
          "Parameterization has too many items to render on hover (21).",
          "Parameterization has too many items to render on hover (21).",
          "Parameterization has too many items to render on hover (21).",
          "Parameterization has too many items to render on hover (21).",
          "Parameterization has too many items to render on hover (21).",
          "Parameterization has too many items to render on hover (21).",
          "Parameterization has too many items to render on hover (21).",
          "Parameterization has too many items to render on hover (21).",
          "Parameterization has too many items to render on hover (21).",
          "Parameterization has too many items to render on hover (21).",
          "Parameterization has too many items to render on hover (21).",
          "Parameterization has too many items to render on hover (21).",
          "Parameterization has too many items to render on hover (21).",
          "Parameterization has too many items to render on hover (21).",
          "Parameterization has too many items to render on hover (21).",
          "Parameterization has too many items to render on hover (21).",
          "Parameterization has too many items to render on hover (21).",
          "Parameterization has too many items to render on hover (21).",
          "Parameterization has too many items to render on hover (21).",
          "Parameterization has too many items to render on hover (21).",
          "Parameterization has too many items to render on hover (21).",
          "Parameterization has too many items to render on hover (21).",
          "Parameterization has too many items to render on hover (21).",
          "Parameterization has too many items to render on hover (21).",
          "Parameterization has too many items to render on hover (21).",
          "Parameterization has too many items to render on hover (21).",
          "Parameterization has too many items to render on hover (21).",
          "Parameterization has too many items to render on hover (21).",
          "Parameterization has too many items to render on hover (21).",
          "Parameterization has too many items to render on hover (21).",
          "Parameterization has too many items to render on hover (21).",
          "Parameterization has too many items to render on hover (21).",
          "Parameterization has too many items to render on hover (21).",
          "Parameterization has too many items to render on hover (21).",
          "Parameterization has too many items to render on hover (21).",
          "Parameterization has too many items to render on hover (21).",
          "Parameterization has too many items to render on hover (21).",
          "Parameterization has too many items to render on hover (21).",
          "Parameterization has too many items to render on hover (21).",
          "Parameterization has too many items to render on hover (21).",
          "Parameterization has too many items to render on hover (21).",
          "Parameterization has too many items to render on hover (21).",
          "Parameterization has too many items to render on hover (21).",
          "Parameterization has too many items to render on hover (21).",
          "Parameterization has too many items to render on hover (21).",
          "Parameterization has too many items to render on hover (21).",
          "Parameterization has too many items to render on hover (21).",
          "Parameterization has too many items to render on hover (21).",
          "Parameterization has too many items to render on hover (21).",
          "Parameterization has too many items to render on hover (21).",
          "Parameterization has too many items to render on hover (21).",
          "Parameterization has too many items to render on hover (21).",
          "Parameterization has too many items to render on hover (21).",
          "Parameterization has too many items to render on hover (21).",
          "Parameterization has too many items to render on hover (21).",
          "Parameterization has too many items to render on hover (21).",
          "Parameterization has too many items to render on hover (21).",
          "Parameterization has too many items to render on hover (21).",
          "Parameterization has too many items to render on hover (21).",
          "Parameterization has too many items to render on hover (21).",
          "Parameterization has too many items to render on hover (21).",
          "Parameterization has too many items to render on hover (21).",
          "Parameterization has too many items to render on hover (21).",
          "Parameterization has too many items to render on hover (21).",
          "Parameterization has too many items to render on hover (21).",
          "Parameterization has too many items to render on hover (21).",
          "Parameterization has too many items to render on hover (21).",
          "Parameterization has too many items to render on hover (21).",
          "Parameterization has too many items to render on hover (21).",
          "Parameterization has too many items to render on hover (21).",
          "Parameterization has too many items to render on hover (21).",
          "Parameterization has too many items to render on hover (21).",
          "Parameterization has too many items to render on hover (21).",
          "Parameterization has too many items to render on hover (21).",
          "Parameterization has too many items to render on hover (21).",
          "Parameterization has too many items to render on hover (21).",
          "Parameterization has too many items to render on hover (21).",
          "Parameterization has too many items to render on hover (21).",
          "Parameterization has too many items to render on hover (21).",
          "Parameterization has too many items to render on hover (21).",
          "Parameterization has too many items to render on hover (21).",
          "Parameterization has too many items to render on hover (21).",
          "Parameterization has too many items to render on hover (21).",
          "Parameterization has too many items to render on hover (21).",
          "Parameterization has too many items to render on hover (21).",
          "Parameterization has too many items to render on hover (21).",
          "Parameterization has too many items to render on hover (21).",
          "Parameterization has too many items to render on hover (21).",
          "Parameterization has too many items to render on hover (21).",
          "Parameterization has too many items to render on hover (21).",
          "Parameterization has too many items to render on hover (21).",
          "Parameterization has too many items to render on hover (21).",
          "Parameterization has too many items to render on hover (21).",
          "Parameterization has too many items to render on hover (21).",
          "Parameterization has too many items to render on hover (21).",
          "Parameterization has too many items to render on hover (21).",
          "Parameterization has too many items to render on hover (21).",
          "Parameterization has too many items to render on hover (21).",
          "Parameterization has too many items to render on hover (21).",
          "Parameterization has too many items to render on hover (21).",
          "Parameterization has too many items to render on hover (21).",
          "Parameterization has too many items to render on hover (21).",
          "Parameterization has too many items to render on hover (21).",
          "Parameterization has too many items to render on hover (21).",
          "Parameterization has too many items to render on hover (21).",
          "Parameterization has too many items to render on hover (21).",
          "Parameterization has too many items to render on hover (21).",
          "Parameterization has too many items to render on hover (21).",
          "Parameterization has too many items to render on hover (21).",
          "Parameterization has too many items to render on hover (21).",
          "Parameterization has too many items to render on hover (21).",
          "Parameterization has too many items to render on hover (21).",
          "Parameterization has too many items to render on hover (21).",
          "Parameterization has too many items to render on hover (21).",
          "Parameterization has too many items to render on hover (21).",
          "Parameterization has too many items to render on hover (21).",
          "Parameterization has too many items to render on hover (21).",
          "Parameterization has too many items to render on hover (21).",
          "Parameterization has too many items to render on hover (21).",
          "Parameterization has too many items to render on hover (21).",
          "Parameterization has too many items to render on hover (21).",
          "Parameterization has too many items to render on hover (21).",
          "Parameterization has too many items to render on hover (21).",
          "Parameterization has too many items to render on hover (21).",
          "Parameterization has too many items to render on hover (21).",
          "Parameterization has too many items to render on hover (21).",
          "Parameterization has too many items to render on hover (21).",
          "Parameterization has too many items to render on hover (21).",
          "Parameterization has too many items to render on hover (21).",
          "Parameterization has too many items to render on hover (21).",
          "Parameterization has too many items to render on hover (21).",
          "Parameterization has too many items to render on hover (21).",
          "Parameterization has too many items to render on hover (21).",
          "Parameterization has too many items to render on hover (21).",
          "Parameterization has too many items to render on hover (21).",
          "Parameterization has too many items to render on hover (21).",
          "Parameterization has too many items to render on hover (21).",
          "Parameterization has too many items to render on hover (21).",
          "Parameterization has too many items to render on hover (21).",
          "Parameterization has too many items to render on hover (21).",
          "Parameterization has too many items to render on hover (21).",
          "Parameterization has too many items to render on hover (21).",
          "Parameterization has too many items to render on hover (21).",
          "Parameterization has too many items to render on hover (21).",
          "Parameterization has too many items to render on hover (21).",
          "Parameterization has too many items to render on hover (21).",
          "Parameterization has too many items to render on hover (21).",
          "Parameterization has too many items to render on hover (21).",
          "Parameterization has too many items to render on hover (21).",
          "Parameterization has too many items to render on hover (21).",
          "Parameterization has too many items to render on hover (21).",
          "Parameterization has too many items to render on hover (21).",
          "Parameterization has too many items to render on hover (21).",
          "Parameterization has too many items to render on hover (21).",
          "Parameterization has too many items to render on hover (21).",
          "Parameterization has too many items to render on hover (21).",
          "Parameterization has too many items to render on hover (21).",
          "Parameterization has too many items to render on hover (21).",
          "Parameterization has too many items to render on hover (21).",
          "Parameterization has too many items to render on hover (21).",
          "Parameterization has too many items to render on hover (21).",
          "Parameterization has too many items to render on hover (21).",
          "Parameterization has too many items to render on hover (21).",
          "Parameterization has too many items to render on hover (21).",
          "Parameterization has too many items to render on hover (21).",
          "Parameterization has too many items to render on hover (21).",
          "Parameterization has too many items to render on hover (21).",
          "Parameterization has too many items to render on hover (21).",
          "Parameterization has too many items to render on hover (21).",
          "Parameterization has too many items to render on hover (21).",
          "Parameterization has too many items to render on hover (21).",
          "Parameterization has too many items to render on hover (21).",
          "Parameterization has too many items to render on hover (21).",
          "Parameterization has too many items to render on hover (21).",
          "Parameterization has too many items to render on hover (21).",
          "Parameterization has too many items to render on hover (21).",
          "Parameterization has too many items to render on hover (21).",
          "Parameterization has too many items to render on hover (21).",
          "Parameterization has too many items to render on hover (21).",
          "Parameterization has too many items to render on hover (21).",
          "Parameterization has too many items to render on hover (21).",
          "Parameterization has too many items to render on hover (21).",
          "Parameterization has too many items to render on hover (21).",
          "Parameterization has too many items to render on hover (21).",
          "Parameterization has too many items to render on hover (21).",
          "Parameterization has too many items to render on hover (21).",
          "Parameterization has too many items to render on hover (21).",
          "Parameterization has too many items to render on hover (21).",
          "Parameterization has too many items to render on hover (21).",
          "Parameterization has too many items to render on hover (21).",
          "Parameterization has too many items to render on hover (21).",
          "Parameterization has too many items to render on hover (21).",
          "Parameterization has too many items to render on hover (21).",
          "Parameterization has too many items to render on hover (21).",
          "Parameterization has too many items to render on hover (21).",
          "Parameterization has too many items to render on hover (21).",
          "Parameterization has too many items to render on hover (21).",
          "Parameterization has too many items to render on hover (21).",
          "Parameterization has too many items to render on hover (21).",
          "Parameterization has too many items to render on hover (21).",
          "Parameterization has too many items to render on hover (21).",
          "Parameterization has too many items to render on hover (21).",
          "Parameterization has too many items to render on hover (21).",
          "Parameterization has too many items to render on hover (21).",
          "Parameterization has too many items to render on hover (21).",
          "Parameterization has too many items to render on hover (21).",
          "Parameterization has too many items to render on hover (21).",
          "Parameterization has too many items to render on hover (21).",
          "Parameterization has too many items to render on hover (21).",
          "Parameterization has too many items to render on hover (21).",
          "Parameterization has too many items to render on hover (21).",
          "Parameterization has too many items to render on hover (21).",
          "Parameterization has too many items to render on hover (21).",
          "Parameterization has too many items to render on hover (21).",
          "Parameterization has too many items to render on hover (21).",
          "Parameterization has too many items to render on hover (21).",
          "Parameterization has too many items to render on hover (21).",
          "Parameterization has too many items to render on hover (21).",
          "Parameterization has too many items to render on hover (21).",
          "Parameterization has too many items to render on hover (21).",
          "Parameterization has too many items to render on hover (21).",
          "Parameterization has too many items to render on hover (21).",
          "Parameterization has too many items to render on hover (21).",
          "Parameterization has too many items to render on hover (21).",
          "Parameterization has too many items to render on hover (21).",
          "Parameterization has too many items to render on hover (21).",
          "Parameterization has too many items to render on hover (21).",
          "Parameterization has too many items to render on hover (21).",
          "Parameterization has too many items to render on hover (21).",
          "Parameterization has too many items to render on hover (21).",
          "Parameterization has too many items to render on hover (21).",
          "Parameterization has too many items to render on hover (21).",
          "Parameterization has too many items to render on hover (21).",
          "Parameterization has too many items to render on hover (21).",
          "Parameterization has too many items to render on hover (21).",
          "Parameterization has too many items to render on hover (21).",
          "Parameterization has too many items to render on hover (21).",
          "Parameterization has too many items to render on hover (21).",
          "Parameterization has too many items to render on hover (21).",
          "Parameterization has too many items to render on hover (21)."
         ],
         "type": "scatter",
         "x": {
          "bdata": "AQACAAMABAAFAAYABwAIAAkACgALAAwADQAOAA8AEAARABIAEwAUABUAFgAXABgAGQAaABsAHAAdAB4AHwAgACEAIgAjACQAJQAmACcAKAApACoAKwAsAC0ALgAvADAAMQAyADMANAA1ADYANwA4ADkAOgA7ADwAPQA+AD8AQABBAEIAQwBEAEUARgBHAEgASQBKAEsATABNAE4ATwBQAFEAUgBTAFQAVQBWAFcAWABZAFoAWwBcAF0AXgBfAGAAYQBiAGMAZABlAGYAZwBoAGkAagBrAGwAbQBuAG8AcABxAHIAcwB0AHUAdgB3AHgAeQB6AHsAfAB9AH4AfwCAAIEAggCDAIQAhQCGAIcAiACJAIoAiwCMAI0AjgCPAJAAkQCSAJMAlACVAJYAlwCYAJkAmgCbAJwAnQCeAJ8AoAChAKIAowCkAKUApgCnAKgAqQCqAKsArACtAK4ArwCwALEAsgCzALQAtQC2ALcAuAC5ALoAuwC8AL0AvgC/AMAAwQDCAMMAxADFAMYAxwDIAMkAygDLAMwAzQDOAM8A0ADRANIA0wDUANUA1gDXANgA2QDaANsA3ADdAN4A3wDgAOEA4gDjAOQA5QDmAOcA6ADpAOoA6wDsAO0A7gDvAPAA8QDyAPMA9AD1APYA9wD4APkA+gD7APwA/QD+AP8AAAEBAQIBAwEEAQUBBgEHAQgBCQEKAQsBDAENAQ4BDwEQAREBEgETARQBFQEWARcBGAEZARoBGwEcAR0BHgEfASABIQEiASMBJAElASYBJwEoASkBKgErASwBLQEuAS8BMAExATIBMwE0ATUBNgE3ATgBOQE6ATsBPAE9AT4BPwFAAUEBQgFDAUQBRQFGAUcBSAFJAUoBSwFMAU0BTgFPAVABUQFSAVMBVAFVAVYBVwFYAVkBWgFbAVwBXQFeAV8BYAFhAWIBYwFkAWUBZgFnAWgBaQFqAWsBbAFtAW4BbwFwAXEBcgFzAXQBdQF2AXcBeAF5AXoBewF8AX0BfgF/AYABgQGCAYMBhAGFAYYBhwGIAYkBigGLAYwBjQGOAY8BkAGRAZIBkwGUAZUBlgGXAZgBmQGaAZsBnAGdAZ4BnwGgAaEBogGjAaQBpQGmAacBqAGpAaoBqwGsAa0BrgGvAbABsQGyAbMBtAG1AbYBtwG4AbkBugG7AbwBvQG+Ab8BwAHBAcIBwwHEAcUBxgHHAcgByQHKAcsBzAHNAc4BzwHQAdEB0gHTAdQB1QHWAdcB2AHZAdoB2wHcAd0B3gHfAeAB4QHiAeMB5AHlAeYB5wHoAekB6gHrAewB7QHuAe8B8AHxAfIB8wH0AfUB9gH3AfgB+QH6AfsB/AH9Af4B/wEAAgECAgIDAgQCBQIGAgcCCAIJAgoCCwIMAg0CDgIPAhACEQISAhMCFAIVAhYCFwIYAhkCGgIbAhwCHQIeAh8CIAIhAiICIwIkAiUCJgInAigCKQIqAisCLAItAi4CLwIwAjECMgIzAjQCNQI2AjcCOAI5AjoCOwI8Aj0CPgI/AkACQQJCAkMCRAJFAkYCRwJIAkkCSgJLAkwCTQJOAk8CUAJRAlICUwJUAlUCVgJXAlgCWQJaAlsCXAJdAl4CXwJgAmECYgJjAmQCZQJmAmcCaAJpAmoCawJsAm0CbgJvAnACcQJyAnMCdAJ1AnYCdwJ4AnkCegJ7AnwCfQJ+An8CgAKBAoICgwKEAoUChgKHAogCiQKKAosCjAKNAo4CjwKQApECkgKTApQClQKWApcCmAKZApoCmwKcAp0CngKfAqACoQKiAqMCpAKlAqYCpwKoAqkCqgKrAqwCrQKuAq8CsAKxArICswK0ArUCtgK3ArgCuQK6ArsCvAK9Ar4CvwLAAsECwgLDAsQCxQLGAscCyALJAsoCywLMAs0CzgLPAtAC0QLSAtMC1ALVAtYC1wLYAtkC2gLbAtwC3QLeAt8C4ALhAuIC4wLkAuUC5gLnAugC6QLqAusC7ALtAu4C7wLwAvEC8gLzAvQC9QL2AvcC+AL5AvoC+wL8Av0C/gL/AgADAQMCAwMDBAMFAwYDBwMIAwkDCgMLAwwDDQMOAw8DEAMRAxIDEwMUAxUDFgMXAxgDGQMaAxsDHAMdAx4DHwMgAyEDIgMjAyQDJQMmAycDKAMpAyoDKwMsAy0DLgMvAzADMQMyAzMDNAM1AzYDNwM4AzkDOgM7AzwDPQM+Az8DQANBA0IDQwNEA0UDRgNHA0gDSQNKA0sDTANNA04DTwNQA1EDUgNTA1QDVQNWA1cDWANZA1oDWwNcA10DXgNfA2ADYQNiA2MDZANlA2YDZwNoA2kDagNrA2wDbQNuA28DcANxA3IDcwN0A3UDdgN3A3gDeQN6A3sDfAN9A34DfwOAA4EDggODA4QDhQOGA4cDiAOJA4oDiwOMA40DjgOPA5ADkQOSA5MDlAOVA5YDlwOYA5kDmgObA5wDnQOeA58DoAOhA6IDowOkA6UDpgOnA6gDqQOqA6sDrAOtA64DrwOwA7EDsgOzA7QDtQO2A7cDuAO5A7oDuwO8A70DvgO/A8ADwQPCA8MDxAPFA8YDxwPIA8kDygPLA8wDzQPOA88D0APRA9ID0wPUA9UD1gPXA9gD2QPaA9sD3APdA94D3wPgA+ED4gPjA+QD5QPmA+cD6APpA+oD6wPsA+0D7gPvA/AD8QPyA/MD9AP1A/YD9wP4A/kD+gP7A/wD/QP+A/8DAAQBBAIEAwQEBAUEBgQHBAgECQQKBAsEDAQNBA4EDwQQBBEEEgQTBBQEFQQWBBcEGAQZBBoEGwQcBB0EHgQfBCAEIQQiBCMEJAQlBCYEJwQoBCkEKgQrBCwELQQuBC8EMAQxBDIEMwQ0BDUENgQ3BDgEOQQ6BDsEPAQ9BD4EPwRABEEEQgRDBEQERQRGBEcESARJBEoESwRMBE0ETgRPBFAEUQRSBFMEVARVBFYEVwRYBFkEWgRbBFwEXQReBF8EYARhBGIEYwRkBGUEZgRnBGgEaQRqBGsEbARtBG4EbwRwBHEEcgRzBHQEdQR2BHcEeAR5BHoEewR8BH0EfgR/BIAEgQSCBIMEhASFBIYEhwSIBIkEigSLBIwEjQSOBI8EkASRBJIEkwSUBJUElgSXBJgEmQSaBJsEnASdBJ4EnwSgBKEEogSjBKQEpQSmBKcEqASpBKoEqwSsBK0ErgSvBLAEsQSyBLMEtAS1BLYEtwS4BLkEugS7BLwEvQS+BL8EwATBBMIEwwTEBMUExgTHBMgEyQTKBMsEzATNBM4EzwTQBNEE0gTTBNQE1QTWBNcE2ATZBNoE2wTcBN0E3gTfBOAE4QTiBOME5ATlBOYE5wToBOkE6gTrBOwE7QTuBO8E8ATxBPIE8wT0BPUE9gT3BPgE+QT6BPsE/AT9BP4E/wQABQEFAgUDBQQFBQUGBQcFCAUJBQoFCwUMBQ0FDgUPBRAFEQUSBRMFFAUVBRYFFwUYBRkFGgUbBRwFHQUeBR8FIAUhBSIFIwUkBSUFJgUnBSgFKQUqBSsFLAUtBS4FLwUwBTEFMgUzBTQFNQU2BTcFOAU5BToFOwU8BT0FPgU/BUAFQQVCBUMFRAVFBUYFRwVIBUkFSgVLBUwFTQU=",
          "dtype": "i2"
         },
         "y": {
          "bdata": "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",
          "dtype": "f8"
         }
        },
        {
         "fill": "tonexty",
         "fillcolor": "rgba(128,177,211,0.3)",
         "hoverinfo": "none",
         "legendgroup": "",
         "line": {
          "width": 0
         },
         "mode": "lines",
         "showlegend": false,
         "type": "scatter",
         "x": {
          "bdata": "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",
          "dtype": "i2"
         },
         "y": {
          "bdata": "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",
          "dtype": "f8"
         }
        }
       ],
       "layout": {
        "showlegend": true,
        "template": {
         "data": {
          "bar": [
           {
            "error_x": {
             "color": "#2a3f5f"
            },
            "error_y": {
             "color": "#2a3f5f"
            },
            "marker": {
             "line": {
              "color": "#E5ECF6",
              "width": 0.5
             },
             "pattern": {
              "fillmode": "overlay",
              "size": 10,
              "solidity": 0.2
             }
            },
            "type": "bar"
           }
          ],
          "barpolar": [
           {
            "marker": {
             "line": {
              "color": "#E5ECF6",
              "width": 0.5
             },
             "pattern": {
              "fillmode": "overlay",
              "size": 10,
              "solidity": 0.2
             }
            },
            "type": "barpolar"
           }
          ],
          "carpet": [
           {
            "aaxis": {
             "endlinecolor": "#2a3f5f",
             "gridcolor": "white",
             "linecolor": "white",
             "minorgridcolor": "white",
             "startlinecolor": "#2a3f5f"
            },
            "baxis": {
             "endlinecolor": "#2a3f5f",
             "gridcolor": "white",
             "linecolor": "white",
             "minorgridcolor": "white",
             "startlinecolor": "#2a3f5f"
            },
            "type": "carpet"
           }
          ],
          "choropleth": [
           {
            "colorbar": {
             "outlinewidth": 0,
             "ticks": ""
            },
            "type": "choropleth"
           }
          ],
          "contour": [
           {
            "colorbar": {
             "outlinewidth": 0,
             "ticks": ""
            },
            "colorscale": [
             [
              0,
              "#0d0887"
             ],
             [
              0.1111111111111111,
              "#46039f"
             ],
             [
              0.2222222222222222,
              "#7201a8"
             ],
             [
              0.3333333333333333,
              "#9c179e"
             ],
             [
              0.4444444444444444,
              "#bd3786"
             ],
             [
              0.5555555555555556,
              "#d8576b"
             ],
             [
              0.6666666666666666,
              "#ed7953"
             ],
             [
              0.7777777777777778,
              "#fb9f3a"
             ],
             [
              0.8888888888888888,
              "#fdca26"
             ],
             [
              1,
              "#f0f921"
             ]
            ],
            "type": "contour"
           }
          ],
          "contourcarpet": [
           {
            "colorbar": {
             "outlinewidth": 0,
             "ticks": ""
            },
            "type": "contourcarpet"
           }
          ],
          "heatmap": [
           {
            "colorbar": {
             "outlinewidth": 0,
             "ticks": ""
            },
            "colorscale": [
             [
              0,
              "#0d0887"
             ],
             [
              0.1111111111111111,
              "#46039f"
             ],
             [
              0.2222222222222222,
              "#7201a8"
             ],
             [
              0.3333333333333333,
              "#9c179e"
             ],
             [
              0.4444444444444444,
              "#bd3786"
             ],
             [
              0.5555555555555556,
              "#d8576b"
             ],
             [
              0.6666666666666666,
              "#ed7953"
             ],
             [
              0.7777777777777778,
              "#fb9f3a"
             ],
             [
              0.8888888888888888,
              "#fdca26"
             ],
             [
              1,
              "#f0f921"
             ]
            ],
            "type": "heatmap"
           }
          ],
          "histogram": [
           {
            "marker": {
             "pattern": {
              "fillmode": "overlay",
              "size": 10,
              "solidity": 0.2
             }
            },
            "type": "histogram"
           }
          ],
          "histogram2d": [
           {
            "colorbar": {
             "outlinewidth": 0,
             "ticks": ""
            },
            "colorscale": [
             [
              0,
              "#0d0887"
             ],
             [
              0.1111111111111111,
              "#46039f"
             ],
             [
              0.2222222222222222,
              "#7201a8"
             ],
             [
              0.3333333333333333,
              "#9c179e"
             ],
             [
              0.4444444444444444,
              "#bd3786"
             ],
             [
              0.5555555555555556,
              "#d8576b"
             ],
             [
              0.6666666666666666,
              "#ed7953"
             ],
             [
              0.7777777777777778,
              "#fb9f3a"
             ],
             [
              0.8888888888888888,
              "#fdca26"
             ],
             [
              1,
              "#f0f921"
             ]
            ],
            "type": "histogram2d"
           }
          ],
          "histogram2dcontour": [
           {
            "colorbar": {
             "outlinewidth": 0,
             "ticks": ""
            },
            "colorscale": [
             [
              0,
              "#0d0887"
             ],
             [
              0.1111111111111111,
              "#46039f"
             ],
             [
              0.2222222222222222,
              "#7201a8"
             ],
             [
              0.3333333333333333,
              "#9c179e"
             ],
             [
              0.4444444444444444,
              "#bd3786"
             ],
             [
              0.5555555555555556,
              "#d8576b"
             ],
             [
              0.6666666666666666,
              "#ed7953"
             ],
             [
              0.7777777777777778,
              "#fb9f3a"
             ],
             [
              0.8888888888888888,
              "#fdca26"
             ],
             [
              1,
              "#f0f921"
             ]
            ],
            "type": "histogram2dcontour"
           }
          ],
          "mesh3d": [
           {
            "colorbar": {
             "outlinewidth": 0,
             "ticks": ""
            },
            "type": "mesh3d"
           }
          ],
          "parcoords": [
           {
            "line": {
             "colorbar": {
              "outlinewidth": 0,
              "ticks": ""
             }
            },
            "type": "parcoords"
           }
          ],
          "pie": [
           {
            "automargin": true,
            "type": "pie"
           }
          ],
          "scatter": [
           {
            "fillpattern": {
             "fillmode": "overlay",
             "size": 10,
             "solidity": 0.2
            },
            "type": "scatter"
           }
          ],
          "scatter3d": [
           {
            "line": {
             "colorbar": {
              "outlinewidth": 0,
              "ticks": ""
             }
            },
            "marker": {
             "colorbar": {
              "outlinewidth": 0,
              "ticks": ""
             }
            },
            "type": "scatter3d"
           }
          ],
          "scattercarpet": [
           {
            "marker": {
             "colorbar": {
              "outlinewidth": 0,
              "ticks": ""
             }
            },
            "type": "scattercarpet"
           }
          ],
          "scattergeo": [
           {
            "marker": {
             "colorbar": {
              "outlinewidth": 0,
              "ticks": ""
             }
            },
            "type": "scattergeo"
           }
          ],
          "scattergl": [
           {
            "marker": {
             "colorbar": {
              "outlinewidth": 0,
              "ticks": ""
             }
            },
            "type": "scattergl"
           }
          ],
          "scattermap": [
           {
            "marker": {
             "colorbar": {
              "outlinewidth": 0,
              "ticks": ""
             }
            },
            "type": "scattermap"
           }
          ],
          "scattermapbox": [
           {
            "marker": {
             "colorbar": {
              "outlinewidth": 0,
              "ticks": ""
             }
            },
            "type": "scattermapbox"
           }
          ],
          "scatterpolar": [
           {
            "marker": {
             "colorbar": {
              "outlinewidth": 0,
              "ticks": ""
             }
            },
            "type": "scatterpolar"
           }
          ],
          "scatterpolargl": [
           {
            "marker": {
             "colorbar": {
              "outlinewidth": 0,
              "ticks": ""
             }
            },
            "type": "scatterpolargl"
           }
          ],
          "scatterternary": [
           {
            "marker": {
             "colorbar": {
              "outlinewidth": 0,
              "ticks": ""
             }
            },
            "type": "scatterternary"
           }
          ],
          "surface": [
           {
            "colorbar": {
             "outlinewidth": 0,
             "ticks": ""
            },
            "colorscale": [
             [
              0,
              "#0d0887"
             ],
             [
              0.1111111111111111,
              "#46039f"
             ],
             [
              0.2222222222222222,
              "#7201a8"
             ],
             [
              0.3333333333333333,
              "#9c179e"
             ],
             [
              0.4444444444444444,
              "#bd3786"
             ],
             [
              0.5555555555555556,
              "#d8576b"
             ],
             [
              0.6666666666666666,
              "#ed7953"
             ],
             [
              0.7777777777777778,
              "#fb9f3a"
             ],
             [
              0.8888888888888888,
              "#fdca26"
             ],
             [
              1,
              "#f0f921"
             ]
            ],
            "type": "surface"
           }
          ],
          "table": [
           {
            "cells": {
             "fill": {
              "color": "#EBF0F8"
             },
             "line": {
              "color": "white"
             }
            },
            "header": {
             "fill": {
              "color": "#C8D4E3"
             },
             "line": {
              "color": "white"
             }
            },
            "type": "table"
           }
          ]
         },
         "layout": {
          "annotationdefaults": {
           "arrowcolor": "#2a3f5f",
           "arrowhead": 0,
           "arrowwidth": 1
          },
          "autotypenumbers": "strict",
          "coloraxis": {
           "colorbar": {
            "outlinewidth": 0,
            "ticks": ""
           }
          },
          "colorscale": {
           "diverging": [
            [
             0,
             "#8e0152"
            ],
            [
             0.1,
             "#c51b7d"
            ],
            [
             0.2,
             "#de77ae"
            ],
            [
             0.3,
             "#f1b6da"
            ],
            [
             0.4,
             "#fde0ef"
            ],
            [
             0.5,
             "#f7f7f7"
            ],
            [
             0.6,
             "#e6f5d0"
            ],
            [
             0.7,
             "#b8e186"
            ],
            [
             0.8,
             "#7fbc41"
            ],
            [
             0.9,
             "#4d9221"
            ],
            [
             1,
             "#276419"
            ]
           ],
           "sequential": [
            [
             0,
             "#0d0887"
            ],
            [
             0.1111111111111111,
             "#46039f"
            ],
            [
             0.2222222222222222,
             "#7201a8"
            ],
            [
             0.3333333333333333,
             "#9c179e"
            ],
            [
             0.4444444444444444,
             "#bd3786"
            ],
            [
             0.5555555555555556,
             "#d8576b"
            ],
            [
             0.6666666666666666,
             "#ed7953"
            ],
            [
             0.7777777777777778,
             "#fb9f3a"
            ],
            [
             0.8888888888888888,
             "#fdca26"
            ],
            [
             1,
             "#f0f921"
            ]
           ],
           "sequentialminus": [
            [
             0,
             "#0d0887"
            ],
            [
             0.1111111111111111,
             "#46039f"
            ],
            [
             0.2222222222222222,
             "#7201a8"
            ],
            [
             0.3333333333333333,
             "#9c179e"
            ],
            [
             0.4444444444444444,
             "#bd3786"
            ],
            [
             0.5555555555555556,
             "#d8576b"
            ],
            [
             0.6666666666666666,
             "#ed7953"
            ],
            [
             0.7777777777777778,
             "#fb9f3a"
            ],
            [
             0.8888888888888888,
             "#fdca26"
            ],
            [
             1,
             "#f0f921"
            ]
           ]
          },
          "colorway": [
           "#636efa",
           "#EF553B",
           "#00cc96",
           "#ab63fa",
           "#FFA15A",
           "#19d3f3",
           "#FF6692",
           "#B6E880",
           "#FF97FF",
           "#FECB52"
          ],
          "font": {
           "color": "#2a3f5f"
          },
          "geo": {
           "bgcolor": "white",
           "lakecolor": "white",
           "landcolor": "#E5ECF6",
           "showlakes": true,
           "showland": true,
           "subunitcolor": "white"
          },
          "hoverlabel": {
           "align": "left"
          },
          "hovermode": "closest",
          "mapbox": {
           "style": "light"
          },
          "paper_bgcolor": "white",
          "plot_bgcolor": "#E5ECF6",
          "polar": {
           "angularaxis": {
            "gridcolor": "white",
            "linecolor": "white",
            "ticks": ""
           },
           "bgcolor": "#E5ECF6",
           "radialaxis": {
            "gridcolor": "white",
            "linecolor": "white",
            "ticks": ""
           }
          },
          "scene": {
           "xaxis": {
            "backgroundcolor": "#E5ECF6",
            "gridcolor": "white",
            "gridwidth": 2,
            "linecolor": "white",
            "showbackground": true,
            "ticks": "",
            "zerolinecolor": "white"
           },
           "yaxis": {
            "backgroundcolor": "#E5ECF6",
            "gridcolor": "white",
            "gridwidth": 2,
            "linecolor": "white",
            "showbackground": true,
            "ticks": "",
            "zerolinecolor": "white"
           },
           "zaxis": {
            "backgroundcolor": "#E5ECF6",
            "gridcolor": "white",
            "gridwidth": 2,
            "linecolor": "white",
            "showbackground": true,
            "ticks": "",
            "zerolinecolor": "white"
           }
          },
          "shapedefaults": {
           "line": {
            "color": "#2a3f5f"
           }
          },
          "ternary": {
           "aaxis": {
            "gridcolor": "white",
            "linecolor": "white",
            "ticks": ""
           },
           "baxis": {
            "gridcolor": "white",
            "linecolor": "white",
            "ticks": ""
           },
           "bgcolor": "#E5ECF6",
           "caxis": {
            "gridcolor": "white",
            "linecolor": "white",
            "ticks": ""
           }
          },
          "title": {
           "x": 0.05
          },
          "xaxis": {
           "automargin": true,
           "gridcolor": "white",
           "linecolor": "white",
           "ticks": "",
           "title": {
            "standoff": 15
           },
           "zerolinecolor": "white",
           "zerolinewidth": 2
          },
          "yaxis": {
           "automargin": true,
           "gridcolor": "white",
           "linecolor": "white",
           "ticks": "",
           "title": {
            "standoff": 15
           },
           "zerolinecolor": "white",
           "zerolinewidth": 2
          }
         }
        },
        "title": {
         "text": "Best objective found vs. # of iterations"
        },
        "xaxis": {
         "title": {
          "text": "Iteration"
         }
        },
        "yaxis": {
         "title": {
          "text": "Viable_cross_terms"
         }
        }
       }
      }
     },
     "metadata": {},
     "output_type": "display_data"
    }
   ],
   "source": [
    "render(Tag_client.get_optimization_trace())"
   ]
  },
  {
   "cell_type": "code",
   "execution_count": null,
   "metadata": {},
   "outputs": [],
   "source": [
    "#Viable_Cross_Terms               133.0\n",
    "z_sh = [ 7, 8, 9]\n",
    "z_p2 = [28,31,26]\n",
    "z_r2 = [82,74,83]\n",
    "x_s = [ 0.5, 0.4, 0.3]\n",
    "x_p1 = [ 1.0, 0.9, 0.8]\n",
    "x_p2 = [-0.3,-0.4,-0.5]\n",
    "x_r2 = [ 0.461185, 0.361185, 0.261185]"
   ]
  },
  {
   "cell_type": "code",
   "execution_count": 42,
   "metadata": {},
   "outputs": [
    {
     "name": "stderr",
     "output_type": "stream",
     "text": [
      "[INFO 04-06 08:44:12] ax.modelbridge.base: Leaving out out-of-design observations for arms: 729_0, 977_0, 489_0, 686_0, 775_0, 899_0\n",
      "[INFO 04-06 08:46:47] ax.service.ax_client: Generated new trial 1029 with parameters {'z_sh': 15, 'z_sh_1': 11, 'z_sh_2': 5, 'z_p2': 30, 'z_p2_1': 34, 'z_p2_2': 25, 'z_r2': 79, 'z_r2_1': 81, 'z_r2_2': 84, 'x_s': 0.5, 'x_s_1': 0.4, 'x_s_2': 0.3, 'x_p1': 0.643009, 'x_p1_1': 0.543009, 'x_p1_2': 0.443009, 'x_p2': 0.5, 'x_p2_1': 0.4, 'x_p2_2': 0.3, 'x_r2': 1.5, 'x_r2_1': -0.9846, 'x_r2_2': -1.5} using model BoTorch.\n",
      "[INFO 04-06 08:46:47] ax.service.ax_client: Completed trial 1029 with data: {'Viable_Cross_Terms': (0, None)}.\n",
      "[INFO 04-06 08:46:47] ax.modelbridge.base: Leaving out out-of-design observations for arms: 729_0, 977_0, 489_0, 686_0, 775_0, 899_0\n",
      "[INFO 04-06 08:51:00] ax.service.ax_client: Generated new trial 1030 with parameters {'z_sh': 7, 'z_sh_1': 6, 'z_sh_2': 5, 'z_p2': 35, 'z_p2_1': 34, 'z_p2_2': 25, 'z_r2': 80, 'z_r2_1': 85, 'z_r2_2': 84, 'x_s': 0.5, 'x_s_1': 0.4, 'x_s_2': 0.3, 'x_p1': 0.615309, 'x_p1_1': 0.515309, 'x_p1_2': 0.415309, 'x_p2': 0.5, 'x_p2_1': 0.4, 'x_p2_2': 0.3, 'x_r2': 1.050721, 'x_r2_1': 0.950721, 'x_r2_2': 0.850721} using model BoTorch.\n",
      "[INFO 04-06 08:51:00] ax.service.ax_client: Completed trial 1030 with data: {'Viable_Cross_Terms': (83, None)}.\n",
      "[INFO 04-06 08:51:01] ax.modelbridge.base: Leaving out out-of-design observations for arms: 729_0, 977_0, 489_0, 686_0, 775_0, 899_0\n",
      "[INFO 04-06 08:54:22] ax.service.ax_client: Generated new trial 1031 with parameters {'z_sh': 7, 'z_sh_1': 13, 'z_sh_2': 5, 'z_p2': 34, 'z_p2_1': 33, 'z_p2_2': 32, 'z_r2': 80, 'z_r2_1': 77, 'z_r2_2': 84, 'x_s': 0.5, 'x_s_1': 0.4, 'x_s_2': 0.3, 'x_p1': 0.616193, 'x_p1_1': 0.516193, 'x_p1_2': 0.416193, 'x_p2': 0.5, 'x_p2_1': 0.4, 'x_p2_2': 0.3, 'x_r2': 1.080482, 'x_r2_1': 0.980482, 'x_r2_2': 0.880482} using model BoTorch.\n",
      "[INFO 04-06 08:54:22] ax.service.ax_client: Completed trial 1031 with data: {'Viable_Cross_Terms': (84, None)}.\n",
      "[INFO 04-06 08:54:24] ax.modelbridge.base: Leaving out out-of-design observations for arms: 729_0, 977_0, 489_0, 686_0, 775_0, 899_0\n",
      "[INFO 04-06 08:57:38] ax.service.ax_client: Generated new trial 1032 with parameters {'z_sh': 7, 'z_sh_1': 10, 'z_sh_2': 7, 'z_p2': 34, 'z_p2_1': 28, 'z_p2_2': 30, 'z_r2': 80, 'z_r2_1': 73, 'z_r2_2': 83, 'x_s': 0.5, 'x_s_1': 0.4, 'x_s_2': 0.3, 'x_p1': 0.604735, 'x_p1_1': 0.504735, 'x_p1_2': 0.404735, 'x_p2': 0.5, 'x_p2_1': 0.4, 'x_p2_2': 0.3, 'x_r2': 1.074681, 'x_r2_1': 0.974681, 'x_r2_2': 0.874681} using model BoTorch.\n",
      "[INFO 04-06 08:57:38] ax.service.ax_client: Completed trial 1032 with data: {'Viable_Cross_Terms': (36, None)}.\n",
      "[INFO 04-06 08:57:39] ax.modelbridge.base: Leaving out out-of-design observations for arms: 729_0, 977_0, 489_0, 686_0, 775_0, 899_0\n",
      "[INFO 04-06 09:00:48] ax.service.ax_client: Generated new trial 1033 with parameters {'z_sh': 7, 'z_sh_1': 6, 'z_sh_2': 5, 'z_p2': 34, 'z_p2_1': 34, 'z_p2_2': 33, 'z_r2': 85, 'z_r2_1': 83, 'z_r2_2': 70, 'x_s': 0.5, 'x_s_1': 0.4, 'x_s_2': 0.3, 'x_p1': 0.981383, 'x_p1_1': 0.881383, 'x_p1_2': 0.781383, 'x_p2': 0.5, 'x_p2_1': 0.4, 'x_p2_2': 0.3, 'x_r2': 1.093768, 'x_r2_1': 0.993768, 'x_r2_2': 0.893768} using model BoTorch.\n",
      "[INFO 04-06 09:00:48] ax.service.ax_client: Completed trial 1033 with data: {'Viable_Cross_Terms': (16, None)}.\n",
      "[INFO 04-06 09:00:49] ax.modelbridge.base: Leaving out out-of-design observations for arms: 729_0, 977_0, 489_0, 686_0, 775_0, 899_0\n",
      "[INFO 04-06 09:03:48] ax.service.ax_client: Generated new trial 1034 with parameters {'z_sh': 7, 'z_sh_1': 13, 'z_sh_2': 5, 'z_p2': 35, 'z_p2_1': 26, 'z_p2_2': 27, 'z_r2': 74, 'z_r2_1': 76, 'z_r2_2': 79, 'x_s': 0.5, 'x_s_1': 0.4, 'x_s_2': -0.5, 'x_p1': -0.8, 'x_p1_1': -0.9, 'x_p1_2': -1.0, 'x_p2': -0.3, 'x_p2_1': -0.4, 'x_p2_2': -0.5, 'x_r2': 1.5, 'x_r2_1': -0.393679, 'x_r2_2': -1.5} using model BoTorch.\n",
      "[INFO 04-06 09:03:48] ax.service.ax_client: Completed trial 1034 with data: {'Viable_Cross_Terms': (2, None)}.\n",
      "[INFO 04-06 09:03:48] ax.modelbridge.base: Leaving out out-of-design observations for arms: 729_0, 977_0, 489_0, 686_0, 775_0, 899_0\n",
      "[INFO 04-06 09:06:54] ax.service.ax_client: Generated new trial 1035 with parameters {'z_sh': 14, 'z_sh_1': 6, 'z_sh_2': 13, 'z_p2': 27, 'z_p2_1': 31, 'z_p2_2': 26, 'z_r2': 75, 'z_r2_1': 72, 'z_r2_2': 73, 'x_s': 0.5, 'x_s_1': 0.4, 'x_s_2': 0.3, 'x_p1': 1.0, 'x_p1_1': 0.9, 'x_p1_2': 0.8, 'x_p2': 0.5, 'x_p2_1': 0.4, 'x_p2_2': 0.3, 'x_r2': 1.5, 'x_r2_1': 1.4, 'x_r2_2': -1.5} using model BoTorch.\n",
      "[INFO 04-06 09:06:54] ax.service.ax_client: Completed trial 1035 with data: {'Viable_Cross_Terms': (0, None)}.\n",
      "[INFO 04-06 09:06:55] ax.modelbridge.base: Leaving out out-of-design observations for arms: 729_0, 1035_0, 977_0, 489_0, 686_0, 775_0, 899_0\n",
      "[INFO 04-06 09:09:03] ax.service.ax_client: Generated new trial 1036 with parameters {'z_sh': 10, 'z_sh_1': 7, 'z_sh_2': 5, 'z_p2': 28, 'z_p2_1': 33, 'z_p2_2': 27, 'z_r2': 77, 'z_r2_1': 75, 'z_r2_2': 76, 'x_s': 0.5, 'x_s_1': 0.4, 'x_s_2': 0.3, 'x_p1': 0.644352, 'x_p1_1': 0.544352, 'x_p1_2': 0.444352, 'x_p2': 0.5, 'x_p2_1': 0.4, 'x_p2_2': 0.3, 'x_r2': 0.98723, 'x_r2_1': 0.88723, 'x_r2_2': 0.78723} using model BoTorch.\n",
      "[INFO 04-06 09:09:03] ax.service.ax_client: Completed trial 1036 with data: {'Viable_Cross_Terms': (35, None)}.\n",
      "[INFO 04-06 09:09:04] ax.modelbridge.base: Leaving out out-of-design observations for arms: 729_0, 1035_0, 977_0, 489_0, 686_0, 775_0, 899_0\n",
      "[INFO 04-06 09:11:48] ax.service.ax_client: Generated new trial 1037 with parameters {'z_sh': 7, 'z_sh_1': 6, 'z_sh_2': 5, 'z_p2': 27, 'z_p2_1': 29, 'z_p2_2': 32, 'z_r2': 80, 'z_r2_1': 84, 'z_r2_2': 84, 'x_s': 0.5, 'x_s_1': 0.4, 'x_s_2': 0.3, 'x_p1': 0.507932, 'x_p1_1': 0.407932, 'x_p1_2': 0.307932, 'x_p2': 0.5, 'x_p2_1': 0.4, 'x_p2_2': 0.3, 'x_r2': 1.067222, 'x_r2_1': 0.967222, 'x_r2_2': 0.867222} using model BoTorch.\n",
      "[INFO 04-06 09:11:48] ax.service.ax_client: Completed trial 1037 with data: {'Viable_Cross_Terms': (68, None)}.\n",
      "[INFO 04-06 09:11:49] ax.modelbridge.base: Leaving out out-of-design observations for arms: 729_0, 1035_0, 977_0, 489_0, 686_0, 775_0, 899_0\n",
      "[INFO 04-06 09:14:45] ax.service.ax_client: Generated new trial 1038 with parameters {'z_sh': 7, 'z_sh_1': 13, 'z_sh_2': 5, 'z_p2': 34, 'z_p2_1': 33, 'z_p2_2': 33, 'z_r2': 80, 'z_r2_1': 77, 'z_r2_2': 83, 'x_s': 0.5, 'x_s_1': 0.4, 'x_s_2': 0.3, 'x_p1': 0.606097, 'x_p1_1': 0.506097, 'x_p1_2': 0.406097, 'x_p2': 0.5, 'x_p2_1': 0.4, 'x_p2_2': 0.3, 'x_r2': 1.080875, 'x_r2_1': 0.980875, 'x_r2_2': 0.880875} using model BoTorch.\n",
      "[INFO 04-06 09:14:45] ax.service.ax_client: Completed trial 1038 with data: {'Viable_Cross_Terms': (80, None)}.\n",
      "[INFO 04-06 09:14:46] ax.modelbridge.base: Leaving out out-of-design observations for arms: 729_0, 1035_0, 977_0, 489_0, 686_0, 775_0, 899_0\n",
      "[INFO 04-06 09:18:01] ax.service.ax_client: Generated new trial 1039 with parameters {'z_sh': 7, 'z_sh_1': 6, 'z_sh_2': 5, 'z_p2': 35, 'z_p2_1': 34, 'z_p2_2': 25, 'z_r2': 80, 'z_r2_1': 85, 'z_r2_2': 84, 'x_s': 0.5, 'x_s_1': 0.4, 'x_s_2': 0.3, 'x_p1': 0.597195, 'x_p1_1': 0.497195, 'x_p1_2': 0.397195, 'x_p2': 0.5, 'x_p2_1': 0.4, 'x_p2_2': 0.3, 'x_r2': 1.097298, 'x_r2_1': 0.997298, 'x_r2_2': 0.897298} using model BoTorch.\n",
      "[INFO 04-06 09:18:01] ax.service.ax_client: Completed trial 1039 with data: {'Viable_Cross_Terms': (71, None)}.\n",
      "[INFO 04-06 09:18:02] ax.modelbridge.base: Leaving out out-of-design observations for arms: 729_0, 1035_0, 977_0, 489_0, 686_0, 775_0, 899_0\n",
      "[INFO 04-06 09:22:53] ax.service.ax_client: Generated new trial 1040 with parameters {'z_sh': 7, 'z_sh_1': 13, 'z_sh_2': 5, 'z_p2': 34, 'z_p2_1': 30, 'z_p2_2': 25, 'z_r2': 80, 'z_r2_1': 76, 'z_r2_2': 78, 'x_s': 0.5, 'x_s_1': 0.4, 'x_s_2': 0.3, 'x_p1': 0.635053, 'x_p1_1': 0.535053, 'x_p1_2': 0.435053, 'x_p2': 0.461843, 'x_p2_1': 0.361843, 'x_p2_2': 0.261843, 'x_r2': 1.034769, 'x_r2_1': 0.934769, 'x_r2_2': 0.834769} using model BoTorch.\n",
      "[INFO 04-06 09:22:53] ax.service.ax_client: Completed trial 1040 with data: {'Viable_Cross_Terms': (80, None)}.\n",
      "[INFO 04-06 09:22:53] ax.modelbridge.base: Leaving out out-of-design observations for arms: 729_0, 1035_0, 977_0, 489_0, 686_0, 775_0, 899_0\n",
      "[INFO 04-06 09:26:36] ax.service.ax_client: Generated new trial 1041 with parameters {'z_sh': 11, 'z_sh_1': 14, 'z_sh_2': 7, 'z_p2': 29, 'z_p2_1': 28, 'z_p2_2': 29, 'z_r2': 82, 'z_r2_1': 75, 'z_r2_2': 82, 'x_s': 0.5, 'x_s_1': 0.4, 'x_s_2': 0.3, 'x_p1': 0.782944, 'x_p1_1': 0.682943, 'x_p1_2': 0.582125, 'x_p2': 0.369551, 'x_p2_1': 0.257554, 'x_p2_2': 0.12345, 'x_r2': 0.903587, 'x_r2_1': 0.785821, 'x_r2_2': 0.456475} using model BoTorch.\n",
      "[INFO 04-06 09:26:36] ax.service.ax_client: Completed trial 1041 with data: {'Viable_Cross_Terms': (30, None)}.\n",
      "[INFO 04-06 09:26:37] ax.modelbridge.base: Leaving out out-of-design observations for arms: 729_0, 1035_0, 977_0, 489_0, 686_0, 775_0, 899_0\n",
      "[INFO 04-06 09:30:19] ax.service.ax_client: Generated new trial 1042 with parameters {'z_sh': 10, 'z_sh_1': 9, 'z_sh_2': 7, 'z_p2': 30, 'z_p2_1': 32, 'z_p2_2': 30, 'z_r2': 76, 'z_r2_1': 72, 'z_r2_2': 77, 'x_s': 0.5, 'x_s_1': 0.4, 'x_s_2': 0.3, 'x_p1': 0.999967, 'x_p1_1': 0.886337, 'x_p1_2': 0.786337, 'x_p2': 0.197518, 'x_p2_1': 0.097518, 'x_p2_2': -0.002589, 'x_r2': 0.911173, 'x_r2_1': 0.741542, 'x_r2_2': 0.641542} using model BoTorch.\n",
      "[INFO 04-06 09:30:19] ax.service.ax_client: Completed trial 1042 with data: {'Viable_Cross_Terms': (25, None)}.\n",
      "[INFO 04-06 09:30:20] ax.modelbridge.base: Leaving out out-of-design observations for arms: 729_0, 1035_0, 977_0, 489_0, 686_0, 775_0, 899_0\n",
      "[INFO 04-06 09:33:17] ax.service.ax_client: Generated new trial 1043 with parameters {'z_sh': 7, 'z_sh_1': 9, 'z_sh_2': 5, 'z_p2': 30, 'z_p2_1': 33, 'z_p2_2': 30, 'z_r2': 80, 'z_r2_1': 72, 'z_r2_2': 80, 'x_s': 0.5, 'x_s_1': 0.4, 'x_s_2': 0.3, 'x_p1': 0.604356, 'x_p1_1': 0.504356, 'x_p1_2': 0.404356, 'x_p2': 0.5, 'x_p2_1': 0.4, 'x_p2_2': 0.3, 'x_r2': 1.022697, 'x_r2_1': 0.922697, 'x_r2_2': 0.822697} using model BoTorch.\n",
      "[INFO 04-06 09:33:17] ax.service.ax_client: Completed trial 1043 with data: {'Viable_Cross_Terms': (81, None)}.\n",
      "[INFO 04-06 09:33:18] ax.modelbridge.base: Leaving out out-of-design observations for arms: 729_0, 1035_0, 977_0, 489_0, 686_0, 775_0, 899_0\n",
      "[INFO 04-06 09:36:12] ax.service.ax_client: Generated new trial 1044 with parameters {'z_sh': 7, 'z_sh_1': 14, 'z_sh_2': 5, 'z_p2': 27, 'z_p2_1': 29, 'z_p2_2': 26, 'z_r2': 76, 'z_r2_1': 73, 'z_r2_2': 80, 'x_s': -0.3, 'x_s_1': -0.4, 'x_s_2': -0.5, 'x_p1': 0.423318, 'x_p1_1': 0.323318, 'x_p1_2': 0.223318, 'x_p2': 0.5, 'x_p2_1': 0.4, 'x_p2_2': 0.3, 'x_r2': 1.5, 'x_r2_1': -0.80595, 'x_r2_2': -1.5} using model BoTorch.\n",
      "[INFO 04-06 09:36:12] ax.service.ax_client: Completed trial 1044 with data: {'Viable_Cross_Terms': (1, None)}.\n",
      "[INFO 04-06 09:36:13] ax.modelbridge.base: Leaving out out-of-design observations for arms: 729_0, 1035_0, 977_0, 489_0, 686_0, 775_0, 899_0\n",
      "[INFO 04-06 09:39:51] ax.service.ax_client: Generated new trial 1045 with parameters {'z_sh': 8, 'z_sh_1': 7, 'z_sh_2': 12, 'z_p2': 27, 'z_p2_1': 32, 'z_p2_2': 27, 'z_r2': 81, 'z_r2_1': 81, 'z_r2_2': 73, 'x_s': 0.5, 'x_s_1': 0.4, 'x_s_2': 0.3, 'x_p1': 0.304454, 'x_p1_1': 0.204454, 'x_p1_2': 0.104454, 'x_p2': 0.5, 'x_p2_1': 0.4, 'x_p2_2': 0.3, 'x_r2': 0.949277, 'x_r2_1': 0.836275, 'x_r2_2': -0.798024} using model BoTorch.\n",
      "[INFO 04-06 09:39:51] ax.service.ax_client: Completed trial 1045 with data: {'Viable_Cross_Terms': (7, None)}.\n",
      "[INFO 04-06 09:39:52] ax.modelbridge.base: Leaving out out-of-design observations for arms: 729_0, 1035_0, 977_0, 489_0, 686_0, 775_0, 899_0\n",
      "[INFO 04-06 09:43:48] ax.service.ax_client: Generated new trial 1046 with parameters {'z_sh': 9, 'z_sh_1': 12, 'z_sh_2': 11, 'z_p2': 27, 'z_p2_1': 31, 'z_p2_2': 27, 'z_r2': 80, 'z_r2_1': 80, 'z_r2_2': 84, 'x_s': 0.488311, 'x_s_1': 0.345571, 'x_s_2': -0.20065, 'x_p1': 0.321816, 'x_p1_1': 0.221291, 'x_p1_2': 0.120121, 'x_p2': 0.136013, 'x_p2_1': 0.036013, 'x_p2_2': -0.085828, 'x_r2': 0.907862, 'x_r2_1': 0.622655, 'x_r2_2': 0.522655} using model BoTorch.\n",
      "[INFO 04-06 09:43:48] ax.service.ax_client: Completed trial 1046 with data: {'Viable_Cross_Terms': (10, None)}.\n",
      "[INFO 04-06 09:43:49] ax.modelbridge.base: Leaving out out-of-design observations for arms: 729_0, 1035_0, 977_0, 489_0, 686_0, 775_0, 899_0\n",
      "[INFO 04-06 09:46:56] ax.service.ax_client: Generated new trial 1047 with parameters {'z_sh': 10, 'z_sh_1': 14, 'z_sh_2': 5, 'z_p2': 29, 'z_p2_1': 28, 'z_p2_2': 26, 'z_r2': 83, 'z_r2_1': 72, 'z_r2_2': 78, 'x_s': 0.5, 'x_s_1': 0.4, 'x_s_2': 0.3, 'x_p1': 0.607824, 'x_p1_1': 0.507824, 'x_p1_2': 0.407824, 'x_p2': 0.5, 'x_p2_1': 0.4, 'x_p2_2': 0.3, 'x_r2': 0.957107, 'x_r2_1': 0.857107, 'x_r2_2': 0.757107} using model BoTorch.\n",
      "[INFO 04-06 09:46:56] ax.service.ax_client: Completed trial 1047 with data: {'Viable_Cross_Terms': (35, None)}.\n",
      "[INFO 04-06 09:46:57] ax.modelbridge.base: Leaving out out-of-design observations for arms: 729_0, 1035_0, 977_0, 489_0, 686_0, 775_0, 899_0\n",
      "[INFO 04-06 09:50:18] ax.service.ax_client: Generated new trial 1048 with parameters {'z_sh': 7, 'z_sh_1': 6, 'z_sh_2': 13, 'z_p2': 27, 'z_p2_1': 34, 'z_p2_2': 33, 'z_r2': 86, 'z_r2_1': 85, 'z_r2_2': 84, 'x_s': 0.5, 'x_s_1': 0.4, 'x_s_2': 0.3, 'x_p1': 0.279654, 'x_p1_1': 0.179654, 'x_p1_2': 0.079654, 'x_p2': 0.5, 'x_p2_1': 0.4, 'x_p2_2': 0.3, 'x_r2': 0.855242, 'x_r2_1': 0.755242, 'x_r2_2': -1.5} using model BoTorch.\n",
      "[INFO 04-06 09:50:18] ax.service.ax_client: Completed trial 1048 with data: {'Viable_Cross_Terms': (13, None)}.\n",
      "[INFO 04-06 09:50:19] ax.modelbridge.base: Leaving out out-of-design observations for arms: 729_0, 1035_0, 977_0, 489_0, 686_0, 775_0, 899_0\n",
      "[INFO 04-06 09:53:22] ax.service.ax_client: Generated new trial 1049 with parameters {'z_sh': 7, 'z_sh_1': 10, 'z_sh_2': 5, 'z_p2': 35, 'z_p2_1': 33, 'z_p2_2': 32, 'z_r2': 80, 'z_r2_1': 78, 'z_r2_2': 83, 'x_s': 0.5, 'x_s_1': 0.4, 'x_s_2': 0.3, 'x_p1': 0.592588, 'x_p1_1': 0.492588, 'x_p1_2': 0.392588, 'x_p2': 0.5, 'x_p2_1': 0.4, 'x_p2_2': 0.3, 'x_r2': 1.078306, 'x_r2_1': 0.978306, 'x_r2_2': 0.878306} using model BoTorch.\n",
      "[INFO 04-06 09:53:22] ax.service.ax_client: Completed trial 1049 with data: {'Viable_Cross_Terms': (82, None)}.\n",
      "[INFO 04-06 09:53:22] ax.modelbridge.base: Leaving out out-of-design observations for arms: 729_0, 1035_0, 977_0, 489_0, 686_0, 775_0, 899_0\n",
      "[INFO 04-06 09:56:14] ax.service.ax_client: Generated new trial 1050 with parameters {'z_sh': 7, 'z_sh_1': 14, 'z_sh_2': 5, 'z_p2': 35, 'z_p2_1': 26, 'z_p2_2': 25, 'z_r2': 80, 'z_r2_1': 78, 'z_r2_2': 84, 'x_s': 0.5, 'x_s_1': 0.4, 'x_s_2': 0.3, 'x_p1': 0.601041, 'x_p1_1': 0.501041, 'x_p1_2': 0.401041, 'x_p2': 0.5, 'x_p2_1': 0.4, 'x_p2_2': 0.3, 'x_r2': 1.08408, 'x_r2_1': 0.98408, 'x_r2_2': 0.88408} using model BoTorch.\n",
      "[INFO 04-06 09:56:14] ax.service.ax_client: Completed trial 1050 with data: {'Viable_Cross_Terms': (81, None)}.\n",
      "[INFO 04-06 09:56:15] ax.modelbridge.base: Leaving out out-of-design observations for arms: 729_0, 1035_0, 977_0, 489_0, 686_0, 775_0, 899_0\n",
      "[INFO 04-06 09:59:48] ax.service.ax_client: Generated new trial 1051 with parameters {'z_sh': 7, 'z_sh_1': 6, 'z_sh_2': 5, 'z_p2': 27, 'z_p2_1': 26, 'z_p2_2': 31, 'z_r2': 85, 'z_r2_1': 72, 'z_r2_2': 84, 'x_s': 0.5, 'x_s_1': 0.4, 'x_s_2': 0.3, 'x_p1': 0.789648, 'x_p1_1': 0.689648, 'x_p1_2': 0.589648, 'x_p2': 0.5, 'x_p2_1': 0.4, 'x_p2_2': 0.3, 'x_r2': 1.1274, 'x_r2_1': 1.0274, 'x_r2_2': 0.9274} using model BoTorch.\n",
      "[INFO 04-06 09:59:48] ax.service.ax_client: Completed trial 1051 with data: {'Viable_Cross_Terms': (31, None)}.\n",
      "[INFO 04-06 09:59:49] ax.modelbridge.base: Leaving out out-of-design observations for arms: 729_0, 1035_0, 977_0, 489_0, 686_0, 775_0, 899_0\n",
      "[INFO 04-06 10:02:40] ax.service.ax_client: Generated new trial 1052 with parameters {'z_sh': 11, 'z_sh_1': 7, 'z_sh_2': 5, 'z_p2': 35, 'z_p2_1': 28, 'z_p2_2': 25, 'z_r2': 77, 'z_r2_1': 83, 'z_r2_2': 73, 'x_s': 0.5, 'x_s_1': 0.4, 'x_s_2': 0.3, 'x_p1': 0.642434, 'x_p1_1': 0.542434, 'x_p1_2': 0.442434, 'x_p2': 0.5, 'x_p2_1': 0.4, 'x_p2_2': 0.3, 'x_r2': 0.98986, 'x_r2_1': 0.88986, 'x_r2_2': 0.78986} using model BoTorch.\n",
      "[INFO 04-06 10:02:40] ax.service.ax_client: Completed trial 1052 with data: {'Viable_Cross_Terms': (35, None)}.\n",
      "[INFO 04-06 10:02:40] ax.modelbridge.base: Leaving out out-of-design observations for arms: 729_0, 1035_0, 977_0, 489_0, 686_0, 775_0, 899_0\n",
      "[INFO 04-06 10:06:35] ax.service.ax_client: Generated new trial 1053 with parameters {'z_sh': 7, 'z_sh_1': 11, 'z_sh_2': 5, 'z_p2': 27, 'z_p2_1': 26, 'z_p2_2': 27, 'z_r2': 78, 'z_r2_1': 71, 'z_r2_2': 84, 'x_s': 0.5, 'x_s_1': 0.4, 'x_s_2': 0.3, 'x_p1': 0.716663, 'x_p1_1': 0.616663, 'x_p1_2': -1.0, 'x_p2': 0.141483, 'x_p2_1': 0.041483, 'x_p2_2': -0.058517, 'x_r2': 1.049832, 'x_r2_1': 0.949832, 'x_r2_2': 0.849832} using model BoTorch.\n",
      "[INFO 04-06 10:06:35] ax.service.ax_client: Completed trial 1053 with data: {'Viable_Cross_Terms': (10, None)}.\n",
      "[INFO 04-06 10:06:36] ax.modelbridge.base: Leaving out out-of-design observations for arms: 729_0, 1035_0, 977_0, 489_0, 686_0, 775_0, 899_0\n",
      "[INFO 04-06 10:10:54] ax.service.ax_client: Generated new trial 1054 with parameters {'z_sh': 9, 'z_sh_1': 8, 'z_sh_2': 13, 'z_p2': 35, 'z_p2_1': 32, 'z_p2_2': 32, 'z_r2': 81, 'z_r2_1': 77, 'z_r2_2': 79, 'x_s': 0.5, 'x_s_1': 0.4, 'x_s_2': 0.3, 'x_p1': 0.530393, 'x_p1_1': 0.430393, 'x_p1_2': 0.330393, 'x_p2': 0.44303, 'x_p2_1': 0.34303, 'x_p2_2': 0.242578, 'x_r2': 0.88606, 'x_r2_1': 0.78606, 'x_r2_2': 0.68606} using model BoTorch.\n",
      "[INFO 04-06 10:10:54] ax.service.ax_client: Completed trial 1054 with data: {'Viable_Cross_Terms': (32, None)}.\n",
      "[INFO 04-06 10:10:55] ax.modelbridge.base: Leaving out out-of-design observations for arms: 729_0, 1035_0, 977_0, 489_0, 686_0, 775_0, 899_0\n",
      "[INFO 04-06 10:14:32] ax.service.ax_client: Generated new trial 1055 with parameters {'z_sh': 7, 'z_sh_1': 7, 'z_sh_2': 5, 'z_p2': 34, 'z_p2_1': 33, 'z_p2_2': 32, 'z_r2': 80, 'z_r2_1': 76, 'z_r2_2': 84, 'x_s': 0.5, 'x_s_1': 0.4, 'x_s_2': 0.3, 'x_p1': 0.587973, 'x_p1_1': 0.487973, 'x_p1_2': 0.387973, 'x_p2': 0.5, 'x_p2_1': 0.4, 'x_p2_2': 0.3, 'x_r2': 1.077749, 'x_r2_1': 0.977749, 'x_r2_2': 0.877749} using model BoTorch.\n",
      "[INFO 04-06 10:14:32] ax.service.ax_client: Completed trial 1055 with data: {'Viable_Cross_Terms': (80, None)}.\n",
      "[INFO 04-06 10:14:33] ax.modelbridge.base: Leaving out out-of-design observations for arms: 729_0, 1035_0, 977_0, 489_0, 686_0, 775_0, 899_0\n",
      "[INFO 04-06 10:17:43] ax.service.ax_client: Generated new trial 1056 with parameters {'z_sh': 7, 'z_sh_1': 14, 'z_sh_2': 5, 'z_p2': 29, 'z_p2_1': 26, 'z_p2_2': 25, 'z_r2': 72, 'z_r2_1': 74, 'z_r2_2': 70, 'x_s': 0.5, 'x_s_1': -0.4, 'x_s_2': -0.5, 'x_p1': 1.0, 'x_p1_1': 0.9, 'x_p1_2': -1.0, 'x_p2': -0.3, 'x_p2_1': -0.4, 'x_p2_2': -0.5, 'x_r2': -0.232407, 'x_r2_1': -0.332407, 'x_r2_2': -1.5} using model BoTorch.\n",
      "[INFO 04-06 10:17:43] ax.service.ax_client: Completed trial 1056 with data: {'Viable_Cross_Terms': (10, None)}.\n",
      "[INFO 04-06 10:17:43] ax.modelbridge.base: Leaving out out-of-design observations for arms: 729_0, 1035_0, 977_0, 489_0, 686_0, 775_0, 899_0\n",
      "[INFO 04-06 10:22:09] ax.service.ax_client: Generated new trial 1057 with parameters {'z_sh': 7, 'z_sh_1': 14, 'z_sh_2': 8, 'z_p2': 31, 'z_p2_1': 34, 'z_p2_2': 33, 'z_r2': 80, 'z_r2_1': 78, 'z_r2_2': 84, 'x_s': 0.489374, 'x_s_1': 0.367984, 'x_s_2': 0.031155, 'x_p1': 0.381269, 'x_p1_1': 0.280623, 'x_p1_2': -0.842794, 'x_p2': 0.5, 'x_p2_1': -0.039551, 'x_p2_2': -0.186433, 'x_r2': 1.167433, 'x_r2_1': 1.040375, 'x_r2_2': -0.020427} using model BoTorch.\n",
      "[INFO 04-06 10:22:09] ax.service.ax_client: Completed trial 1057 with data: {'Viable_Cross_Terms': (35, None)}.\n",
      "[INFO 04-06 10:22:10] ax.modelbridge.base: Leaving out out-of-design observations for arms: 729_0, 1035_0, 977_0, 489_0, 686_0, 775_0, 899_0\n",
      "[INFO 04-06 10:25:33] ax.service.ax_client: Generated new trial 1058 with parameters {'z_sh': 7, 'z_sh_1': 11, 'z_sh_2': 7, 'z_p2': 32, 'z_p2_1': 30, 'z_p2_2': 31, 'z_r2': 78, 'z_r2_1': 75, 'z_r2_2': 74, 'x_s': 0.5, 'x_s_1': 0.4, 'x_s_2': 0.3, 'x_p1': 0.551762, 'x_p1_1': 0.451762, 'x_p1_2': 0.351762, 'x_p2': 0.5, 'x_p2_1': 0.4, 'x_p2_2': 0.3, 'x_r2': 0.985594, 'x_r2_1': 0.885594, 'x_r2_2': 0.785594} using model BoTorch.\n",
      "[INFO 04-06 10:25:33] ax.service.ax_client: Completed trial 1058 with data: {'Viable_Cross_Terms': (36, None)}.\n",
      "[INFO 04-06 10:25:34] ax.modelbridge.base: Leaving out out-of-design observations for arms: 729_0, 1035_0, 977_0, 489_0, 686_0, 775_0, 899_0\n",
      "[INFO 04-06 10:29:03] ax.service.ax_client: Generated new trial 1059 with parameters {'z_sh': 7, 'z_sh_1': 14, 'z_sh_2': 5, 'z_p2': 31, 'z_p2_1': 34, 'z_p2_2': 25, 'z_r2': 80, 'z_r2_1': 71, 'z_r2_2': 84, 'x_s': 0.5, 'x_s_1': 0.4, 'x_s_2': 0.3, 'x_p1': 0.576335, 'x_p1_1': 0.476335, 'x_p1_2': 0.376335, 'x_p2': 0.5, 'x_p2_1': 0.4, 'x_p2_2': 0.3, 'x_r2': 1.5, 'x_r2_1': 0.977497, 'x_r2_2': 0.877497} using model BoTorch.\n",
      "[INFO 04-06 10:29:03] ax.service.ax_client: Completed trial 1059 with data: {'Viable_Cross_Terms': (76, None)}.\n",
      "[INFO 04-06 10:29:04] ax.modelbridge.base: Leaving out out-of-design observations for arms: 729_0, 1035_0, 977_0, 489_0, 686_0, 775_0, 899_0\n",
      "[INFO 04-06 10:32:48] ax.service.ax_client: Generated new trial 1060 with parameters {'z_sh': 7, 'z_sh_1': 12, 'z_sh_2': 5, 'z_p2': 34, 'z_p2_1': 33, 'z_p2_2': 32, 'z_r2': 80, 'z_r2_1': 73, 'z_r2_2': 84, 'x_s': 0.5, 'x_s_1': 0.4, 'x_s_2': 0.3, 'x_p1': 0.606632, 'x_p1_1': 0.506632, 'x_p1_2': 0.406632, 'x_p2': 0.5, 'x_p2_1': 0.4, 'x_p2_2': 0.3, 'x_r2': 1.081966, 'x_r2_1': 0.981966, 'x_r2_2': 0.881966} using model BoTorch.\n",
      "[INFO 04-06 10:32:48] ax.service.ax_client: Completed trial 1060 with data: {'Viable_Cross_Terms': (80, None)}.\n",
      "[INFO 04-06 10:32:49] ax.modelbridge.base: Leaving out out-of-design observations for arms: 729_0, 1035_0, 977_0, 489_0, 686_0, 775_0, 899_0\n",
      "[INFO 04-06 10:35:35] ax.service.ax_client: Generated new trial 1061 with parameters {'z_sh': 7, 'z_sh_1': 12, 'z_sh_2': 5, 'z_p2': 29, 'z_p2_1': 26, 'z_p2_2': 33, 'z_r2': 80, 'z_r2_1': 71, 'z_r2_2': 83, 'x_s': 0.5, 'x_s_1': 0.4, 'x_s_2': 0.3, 'x_p1': 0.221983, 'x_p1_1': 0.121983, 'x_p1_2': 0.021983, 'x_p2': 0.5, 'x_p2_1': 0.4, 'x_p2_2': 0.3, 'x_r2': 1.5, 'x_r2_1': -0.124659, 'x_r2_2': -1.5} using model BoTorch.\n",
      "[INFO 04-06 10:35:35] ax.service.ax_client: Completed trial 1061 with data: {'Viable_Cross_Terms': (4, None)}.\n",
      "[INFO 04-06 10:35:35] ax.modelbridge.base: Leaving out out-of-design observations for arms: 729_0, 1035_0, 977_0, 489_0, 686_0, 775_0, 899_0\n",
      "[INFO 04-06 10:39:29] ax.service.ax_client: Generated new trial 1062 with parameters {'z_sh': 10, 'z_sh_1': 9, 'z_sh_2': 8, 'z_p2': 28, 'z_p2_1': 30, 'z_p2_2': 27, 'z_r2': 80, 'z_r2_1': 79, 'z_r2_2': 73, 'x_s': 0.5, 'x_s_1': 0.4, 'x_s_2': 0.3, 'x_p1': 0.171536, 'x_p1_1': 0.002421, 'x_p1_2': -0.097579, 'x_p2': 0.5, 'x_p2_1': 0.4, 'x_p2_2': 0.3, 'x_r2': 1.042946, 'x_r2_1': 0.942455, 'x_r2_2': 0.842455} using model BoTorch.\n",
      "[INFO 04-06 10:39:29] ax.service.ax_client: Completed trial 1062 with data: {'Viable_Cross_Terms': (14, None)}.\n",
      "[INFO 04-06 10:39:30] ax.modelbridge.base: Leaving out out-of-design observations for arms: 729_0, 1035_0, 977_0, 489_0, 686_0, 775_0, 899_0\n",
      "[INFO 04-06 10:42:34] ax.service.ax_client: Generated new trial 1063 with parameters {'z_sh': 7, 'z_sh_1': 6, 'z_sh_2': 5, 'z_p2': 27, 'z_p2_1': 32, 'z_p2_2': 32, 'z_r2': 80, 'z_r2_1': 84, 'z_r2_2': 84, 'x_s': 0.5, 'x_s_1': 0.4, 'x_s_2': 0.3, 'x_p1': 0.649726, 'x_p1_1': 0.549726, 'x_p1_2': 0.449726, 'x_p2': 0.5, 'x_p2_1': 0.4, 'x_p2_2': 0.3, 'x_r2': 1.086834, 'x_r2_1': 0.986834, 'x_r2_2': 0.886834} using model BoTorch.\n",
      "[INFO 04-06 10:42:34] ax.service.ax_client: Completed trial 1063 with data: {'Viable_Cross_Terms': (81, None)}.\n",
      "[INFO 04-06 10:42:35] ax.modelbridge.base: Leaving out out-of-design observations for arms: 729_0, 1035_0, 977_0, 489_0, 686_0, 775_0, 899_0\n",
      "[INFO 04-06 10:47:15] ax.service.ax_client: Generated new trial 1064 with parameters {'z_sh': 7, 'z_sh_1': 6, 'z_sh_2': 5, 'z_p2': 32, 'z_p2_1': 33, 'z_p2_2': 33, 'z_r2': 80, 'z_r2_1': 72, 'z_r2_2': 84, 'x_s': 0.5, 'x_s_1': 0.4, 'x_s_2': 0.3, 'x_p1': 0.74494, 'x_p1_1': 0.604595, 'x_p1_2': 0.504595, 'x_p2': 0.430939, 'x_p2_1': 0.330939, 'x_p2_2': 0.230939, 'x_r2': 1.007715, 'x_r2_1': 0.907715, 'x_r2_2': 0.807715} using model BoTorch.\n",
      "[INFO 04-06 10:47:15] ax.service.ax_client: Completed trial 1064 with data: {'Viable_Cross_Terms': (79, None)}.\n",
      "[INFO 04-06 10:47:16] ax.modelbridge.base: Leaving out out-of-design observations for arms: 729_0, 1035_0, 977_0, 489_0, 686_0, 775_0, 899_0\n",
      "[INFO 04-06 10:50:18] ax.service.ax_client: Generated new trial 1065 with parameters {'z_sh': 7, 'z_sh_1': 13, 'z_sh_2': 5, 'z_p2': 34, 'z_p2_1': 33, 'z_p2_2': 32, 'z_r2': 80, 'z_r2_1': 83, 'z_r2_2': 84, 'x_s': 0.5, 'x_s_1': 0.4, 'x_s_2': 0.3, 'x_p1': 0.592789, 'x_p1_1': 0.492789, 'x_p1_2': 0.392789, 'x_p2': 0.5, 'x_p2_1': 0.4, 'x_p2_2': 0.3, 'x_r2': 1.07526, 'x_r2_1': 0.97526, 'x_r2_2': 0.87526} using model BoTorch.\n",
      "[INFO 04-06 10:50:18] ax.service.ax_client: Completed trial 1065 with data: {'Viable_Cross_Terms': (81, None)}.\n",
      "[INFO 04-06 10:50:19] ax.modelbridge.base: Leaving out out-of-design observations for arms: 729_0, 1035_0, 977_0, 489_0, 686_0, 775_0, 899_0\n",
      "[INFO 04-06 10:53:12] ax.service.ax_client: Generated new trial 1066 with parameters {'z_sh': 7, 'z_sh_1': 6, 'z_sh_2': 5, 'z_p2': 34, 'z_p2_1': 26, 'z_p2_2': 28, 'z_r2': 75, 'z_r2_1': 77, 'z_r2_2': 70, 'x_s': 0.5, 'x_s_1': -0.4, 'x_s_2': -0.5, 'x_p1': -0.109606, 'x_p1_1': -0.209606, 'x_p1_2': -0.309606, 'x_p2': 0.5, 'x_p2_1': 0.4, 'x_p2_2': 0.3, 'x_r2': 1.5, 'x_r2_1': 0.071258, 'x_r2_2': -1.5} using model BoTorch.\n",
      "[INFO 04-06 10:53:12] ax.service.ax_client: Completed trial 1066 with data: {'Viable_Cross_Terms': (2, None)}.\n",
      "[INFO 04-06 10:53:13] ax.modelbridge.base: Leaving out out-of-design observations for arms: 729_0, 1035_0, 977_0, 489_0, 686_0, 775_0, 899_0\n",
      "[INFO 04-06 10:56:45] ax.service.ax_client: Generated new trial 1067 with parameters {'z_sh': 7, 'z_sh_1': 10, 'z_sh_2': 5, 'z_p2': 34, 'z_p2_1': 33, 'z_p2_2': 32, 'z_r2': 80, 'z_r2_1': 83, 'z_r2_2': 84, 'x_s': 0.5, 'x_s_1': 0.4, 'x_s_2': 0.3, 'x_p1': 0.620875, 'x_p1_1': 0.520875, 'x_p1_2': 0.420875, 'x_p2': 0.5, 'x_p2_1': 0.4, 'x_p2_2': 0.3, 'x_r2': 1.082286, 'x_r2_1': 0.982286, 'x_r2_2': 0.882286} using model BoTorch.\n",
      "[INFO 04-06 10:56:45] ax.service.ax_client: Completed trial 1067 with data: {'Viable_Cross_Terms': (84, None)}.\n",
      "[INFO 04-06 10:56:46] ax.modelbridge.base: Leaving out out-of-design observations for arms: 729_0, 1035_0, 977_0, 489_0, 686_0, 775_0, 899_0\n",
      "[INFO 04-06 11:00:07] ax.service.ax_client: Generated new trial 1068 with parameters {'z_sh': 7, 'z_sh_1': 12, 'z_sh_2': 5, 'z_p2': 34, 'z_p2_1': 34, 'z_p2_2': 32, 'z_r2': 80, 'z_r2_1': 84, 'z_r2_2': 83, 'x_s': 0.5, 'x_s_1': 0.4, 'x_s_2': 0.3, 'x_p1': 0.61543, 'x_p1_1': 0.51543, 'x_p1_2': 0.41543, 'x_p2': 0.5, 'x_p2_1': 0.4, 'x_p2_2': 0.3, 'x_r2': 1.081427, 'x_r2_1': 0.981427, 'x_r2_2': 0.881427} using model BoTorch.\n",
      "[INFO 04-06 11:00:07] ax.service.ax_client: Completed trial 1068 with data: {'Viable_Cross_Terms': (83, None)}.\n",
      "[INFO 04-06 11:00:08] ax.modelbridge.base: Leaving out out-of-design observations for arms: 729_0, 1035_0, 977_0, 489_0, 686_0, 775_0, 899_0\n",
      "[INFO 04-06 11:04:11] ax.service.ax_client: Generated new trial 1069 with parameters {'z_sh': 13, 'z_sh_1': 11, 'z_sh_2': 5, 'z_p2': 33, 'z_p2_1': 34, 'z_p2_2': 33, 'z_r2': 78, 'z_r2_1': 83, 'z_r2_2': 73, 'x_s': 0.411073, 'x_s_1': 0.252319, 'x_s_2': -0.5, 'x_p1': 0.595445, 'x_p1_1': 0.452893, 'x_p1_2': -1.0, 'x_p2': 0.5, 'x_p2_1': 0.259473, 'x_p2_2': -0.133145, 'x_r2': 1.109164, 'x_r2_1': 1.009164, 'x_r2_2': 0.909164} using model BoTorch.\n",
      "[INFO 04-06 11:04:11] ax.service.ax_client: Completed trial 1069 with data: {'Viable_Cross_Terms': (11, None)}.\n",
      "[INFO 04-06 11:04:12] ax.modelbridge.base: Leaving out out-of-design observations for arms: 729_0, 1035_0, 977_0, 489_0, 686_0, 775_0, 899_0\n",
      "[INFO 04-06 11:06:56] ax.service.ax_client: Generated new trial 1070 with parameters {'z_sh': 7, 'z_sh_1': 13, 'z_sh_2': 5, 'z_p2': 35, 'z_p2_1': 34, 'z_p2_2': 33, 'z_r2': 80, 'z_r2_1': 84, 'z_r2_2': 84, 'x_s': 0.5, 'x_s_1': 0.4, 'x_s_2': 0.3, 'x_p1': 0.612855, 'x_p1_1': 0.512855, 'x_p1_2': 0.412855, 'x_p2': 0.5, 'x_p2_1': 0.4, 'x_p2_2': 0.3, 'x_r2': 1.080145, 'x_r2_1': 0.980145, 'x_r2_2': 0.880145} using model BoTorch.\n",
      "[INFO 04-06 11:06:56] ax.service.ax_client: Completed trial 1070 with data: {'Viable_Cross_Terms': (82, None)}.\n",
      "[INFO 04-06 11:06:58] ax.modelbridge.base: Leaving out out-of-design observations for arms: 729_0, 1035_0, 977_0, 489_0, 686_0, 775_0, 899_0\n",
      "[INFO 04-06 11:11:35] ax.service.ax_client: Generated new trial 1071 with parameters {'z_sh': 7, 'z_sh_1': 6, 'z_sh_2': 5, 'z_p2': 31, 'z_p2_1': 26, 'z_p2_2': 33, 'z_r2': 80, 'z_r2_1': 83, 'z_r2_2': 76, 'x_s': 0.5, 'x_s_1': 0.4, 'x_s_2': 0.3, 'x_p1': 0.676026, 'x_p1_1': 0.576026, 'x_p1_2': 0.476026, 'x_p2': 0.387495, 'x_p2_1': 0.287495, 'x_p2_2': 0.187495, 'x_r2': 0.986036, 'x_r2_1': 0.886036, 'x_r2_2': 0.786036} using model BoTorch.\n",
      "[INFO 04-06 11:11:35] ax.service.ax_client: Completed trial 1071 with data: {'Viable_Cross_Terms': (86, None)}.\n",
      "[INFO 04-06 11:11:36] ax.modelbridge.base: Leaving out out-of-design observations for arms: 729_0, 1035_0, 977_0, 489_0, 686_0, 775_0, 899_0\n",
      "[INFO 04-06 11:14:54] ax.service.ax_client: Generated new trial 1072 with parameters {'z_sh': 7, 'z_sh_1': 6, 'z_sh_2': 5, 'z_p2': 27, 'z_p2_1': 34, 'z_p2_2': 33, 'z_r2': 80, 'z_r2_1': 84, 'z_r2_2': 84, 'x_s': 0.5, 'x_s_1': 0.4, 'x_s_2': 0.3, 'x_p1': 0.636328, 'x_p1_1': 0.536328, 'x_p1_2': 0.436328, 'x_p2': 0.5, 'x_p2_1': 0.4, 'x_p2_2': 0.3, 'x_r2': 1.071426, 'x_r2_1': 0.971426, 'x_r2_2': 0.871426} using model BoTorch.\n",
      "[INFO 04-06 11:14:54] ax.service.ax_client: Completed trial 1072 with data: {'Viable_Cross_Terms': (82, None)}.\n",
      "[INFO 04-06 11:14:55] ax.modelbridge.base: Leaving out out-of-design observations for arms: 729_0, 1035_0, 977_0, 489_0, 686_0, 775_0, 899_0\n",
      "[INFO 04-06 11:18:19] ax.service.ax_client: Generated new trial 1073 with parameters {'z_sh': 7, 'z_sh_1': 11, 'z_sh_2': 5, 'z_p2': 34, 'z_p2_1': 33, 'z_p2_2': 32, 'z_r2': 80, 'z_r2_1': 76, 'z_r2_2': 84, 'x_s': 0.5, 'x_s_1': 0.4, 'x_s_2': 0.3, 'x_p1': 0.62423, 'x_p1_1': 0.52423, 'x_p1_2': 0.42423, 'x_p2': 0.5, 'x_p2_1': 0.4, 'x_p2_2': 0.3, 'x_r2': 1.086171, 'x_r2_1': 0.986171, 'x_r2_2': 0.886171} using model BoTorch.\n",
      "[INFO 04-06 11:18:19] ax.service.ax_client: Completed trial 1073 with data: {'Viable_Cross_Terms': (83, None)}.\n",
      "[INFO 04-06 11:18:20] ax.modelbridge.base: Leaving out out-of-design observations for arms: 729_0, 1035_0, 977_0, 489_0, 686_0, 775_0, 899_0\n",
      "[INFO 04-06 11:21:52] ax.service.ax_client: Generated new trial 1074 with parameters {'z_sh': 7, 'z_sh_1': 6, 'z_sh_2': 5, 'z_p2': 27, 'z_p2_1': 34, 'z_p2_2': 25, 'z_r2': 80, 'z_r2_1': 85, 'z_r2_2': 84, 'x_s': 0.5, 'x_s_1': 0.4, 'x_s_2': 0.3, 'x_p1': 0.631803, 'x_p1_1': 0.531803, 'x_p1_2': 0.431803, 'x_p2': 0.5, 'x_p2_1': 0.4, 'x_p2_2': 0.3, 'x_r2': 1.076498, 'x_r2_1': 0.976498, 'x_r2_2': 0.876498} using model BoTorch.\n",
      "[INFO 04-06 11:21:52] ax.service.ax_client: Completed trial 1074 with data: {'Viable_Cross_Terms': (82, None)}.\n",
      "[INFO 04-06 11:21:52] ax.modelbridge.base: Leaving out out-of-design observations for arms: 729_0, 1035_0, 977_0, 489_0, 686_0, 775_0, 899_0\n",
      "[INFO 04-06 11:27:06] ax.service.ax_client: Generated new trial 1075 with parameters {'z_sh': 9, 'z_sh_1': 9, 'z_sh_2': 8, 'z_p2': 34, 'z_p2_1': 33, 'z_p2_2': 28, 'z_r2': 79, 'z_r2_1': 71, 'z_r2_2': 70, 'x_s': 0.5, 'x_s_1': 0.4, 'x_s_2': 0.3, 'x_p1': 0.744695, 'x_p1_1': 0.023699, 'x_p1_2': -0.508205, 'x_p2': 0.5, 'x_p2_1': 0.4, 'x_p2_2': -0.338069, 'x_r2': 1.5, 'x_r2_1': -0.879238, 'x_r2_2': -1.311791} using model BoTorch.\n",
      "[INFO 04-06 11:27:06] ax.service.ax_client: Completed trial 1075 with data: {'Viable_Cross_Terms': (1, None)}.\n",
      "[INFO 04-06 11:27:07] ax.modelbridge.base: Leaving out out-of-design observations for arms: 729_0, 1035_0, 977_0, 489_0, 686_0, 775_0, 899_0\n",
      "[INFO 04-06 11:30:17] ax.service.ax_client: Generated new trial 1076 with parameters {'z_sh': 7, 'z_sh_1': 6, 'z_sh_2': 5, 'z_p2': 27, 'z_p2_1': 27, 'z_p2_2': 32, 'z_r2': 77, 'z_r2_1': 84, 'z_r2_2': 84, 'x_s': 0.5, 'x_s_1': 0.4, 'x_s_2': 0.3, 'x_p1': 0.644507, 'x_p1_1': 0.544507, 'x_p1_2': 0.444507, 'x_p2': 0.5, 'x_p2_1': 0.4, 'x_p2_2': 0.3, 'x_r2': 0.965652, 'x_r2_1': 0.865652, 'x_r2_2': 0.765652} using model BoTorch.\n",
      "[INFO 04-06 11:30:17] ax.service.ax_client: Completed trial 1076 with data: {'Viable_Cross_Terms': (32, None)}.\n",
      "[INFO 04-06 11:30:18] ax.modelbridge.base: Leaving out out-of-design observations for arms: 729_0, 1035_0, 977_0, 489_0, 686_0, 775_0, 899_0\n",
      "[INFO 04-06 11:33:21] ax.service.ax_client: Generated new trial 1077 with parameters {'z_sh': 7, 'z_sh_1': 7, 'z_sh_2': 5, 'z_p2': 34, 'z_p2_1': 33, 'z_p2_2': 32, 'z_r2': 80, 'z_r2_1': 74, 'z_r2_2': 84, 'x_s': 0.5, 'x_s_1': 0.4, 'x_s_2': 0.3, 'x_p1': 0.618159, 'x_p1_1': 0.518159, 'x_p1_2': 0.418159, 'x_p2': 0.5, 'x_p2_1': 0.4, 'x_p2_2': 0.3, 'x_r2': 1.075961, 'x_r2_1': 0.975961, 'x_r2_2': 0.875961} using model BoTorch.\n",
      "[INFO 04-06 11:33:21] ax.service.ax_client: Completed trial 1077 with data: {'Viable_Cross_Terms': (84, None)}.\n",
      "[INFO 04-06 11:33:22] ax.modelbridge.base: Leaving out out-of-design observations for arms: 729_0, 1035_0, 977_0, 489_0, 686_0, 775_0, 899_0\n",
      "[INFO 04-06 11:37:47] ax.service.ax_client: Generated new trial 1078 with parameters {'z_sh': 13, 'z_sh_1': 10, 'z_sh_2': 7, 'z_p2': 32, 'z_p2_1': 29, 'z_p2_2': 29, 'z_r2': 72, 'z_r2_1': 78, 'z_r2_2': 79, 'x_s': 0.5, 'x_s_1': 0.399859, 'x_s_2': 0.299447, 'x_p1': -0.073102, 'x_p1_1': -0.173102, 'x_p1_2': -0.273102, 'x_p2': 0.499382, 'x_p2_1': 0.399345, 'x_p2_2': 0.29925, 'x_r2': 0.479933, 'x_r2_1': 0.378615, 'x_r2_2': 0.270904} using model BoTorch.\n",
      "[INFO 04-06 11:37:47] ax.service.ax_client: Completed trial 1078 with data: {'Viable_Cross_Terms': (25, None)}.\n",
      "[INFO 04-06 11:37:48] ax.modelbridge.base: Leaving out out-of-design observations for arms: 729_0, 1035_0, 977_0, 489_0, 686_0, 775_0, 899_0\n",
      "[INFO 04-06 11:42:58] ax.service.ax_client: Generated new trial 1079 with parameters {'z_sh': 7, 'z_sh_1': 12, 'z_sh_2': 9, 'z_p2': 33, 'z_p2_1': 34, 'z_p2_2': 29, 'z_r2': 80, 'z_r2_1': 78, 'z_r2_2': 84, 'x_s': 0.5, 'x_s_1': 0.4, 'x_s_2': 0.3, 'x_p1': 0.172563, 'x_p1_1': -0.017476, 'x_p1_2': -0.600258, 'x_p2': 0.5, 'x_p2_1': -0.076785, 'x_p2_2': -0.197791, 'x_r2': 1.004012, 'x_r2_1': 0.864348, 'x_r2_2': 0.764348} using model BoTorch.\n",
      "[INFO 04-06 11:42:58] ax.service.ax_client: Completed trial 1079 with data: {'Viable_Cross_Terms': (3, None)}.\n",
      "[INFO 04-06 11:42:59] ax.modelbridge.base: Leaving out out-of-design observations for arms: 729_0, 1035_0, 977_0, 489_0, 686_0, 775_0, 899_0\n",
      "[INFO 04-06 11:46:55] ax.service.ax_client: Generated new trial 1080 with parameters {'z_sh': 14, 'z_sh_1': 10, 'z_sh_2': 7, 'z_p2': 30, 'z_p2_1': 28, 'z_p2_2': 27, 'z_r2': 76, 'z_r2_1': 82, 'z_r2_2': 75, 'x_s': 0.5, 'x_s_1': 0.4, 'x_s_2': 0.3, 'x_p1': 0.854383, 'x_p1_1': 0.754383, 'x_p1_2': 0.590872, 'x_p2': 0.175406, 'x_p2_1': 0.071182, 'x_p2_2': -0.029458, 'x_r2': 1.029821, 'x_r2_1': 0.929821, 'x_r2_2': 0.829491} using model BoTorch.\n",
      "[INFO 04-06 11:46:55] ax.service.ax_client: Completed trial 1080 with data: {'Viable_Cross_Terms': (40, None)}.\n",
      "[INFO 04-06 11:46:55] ax.modelbridge.base: Leaving out out-of-design observations for arms: 729_0, 1035_0, 977_0, 489_0, 686_0, 775_0, 899_0\n",
      "[INFO 04-06 11:51:24] ax.service.ax_client: Generated new trial 1081 with parameters {'z_sh': 8, 'z_sh_1': 14, 'z_sh_2': 9, 'z_p2': 28, 'z_p2_1': 30, 'z_p2_2': 31, 'z_r2': 81, 'z_r2_1': 76, 'z_r2_2': 83, 'x_s': 0.499578, 'x_s_1': 0.39181, 'x_s_2': 0.166512, 'x_p1': 0.434098, 'x_p1_1': 0.334098, 'x_p1_2': -0.103822, 'x_p2': 0.430596, 'x_p2_1': -0.087975, 'x_p2_2': -0.220825, 'x_r2': 1.041653, 'x_r2_1': 0.941323, 'x_r2_2': 0.28923} using model BoTorch.\n",
      "[INFO 04-06 11:51:24] ax.service.ax_client: Completed trial 1081 with data: {'Viable_Cross_Terms': (39, None)}.\n",
      "[INFO 04-06 11:51:25] ax.modelbridge.base: Leaving out out-of-design observations for arms: 729_0, 1035_0, 977_0, 489_0, 686_0, 775_0, 899_0\n",
      "[INFO 04-06 11:54:57] ax.service.ax_client: Generated new trial 1082 with parameters {'z_sh': 13, 'z_sh_1': 7, 'z_sh_2': 5, 'z_p2': 35, 'z_p2_1': 26, 'z_p2_2': 25, 'z_r2': 76, 'z_r2_1': 71, 'z_r2_2': 75, 'x_s': 0.298054, 'x_s_1': -0.4, 'x_s_2': -0.5, 'x_p1': 0.387599, 'x_p1_1': -0.138981, 'x_p1_2': -0.247749, 'x_p2': 0.5, 'x_p2_1': 0.4, 'x_p2_2': -0.145176, 'x_r2': 0.598587, 'x_r2_1': -1.353655, 'x_r2_2': -1.5} using model BoTorch.\n",
      "[INFO 04-06 11:54:57] ax.service.ax_client: Completed trial 1082 with data: {'Viable_Cross_Terms': (2, None)}.\n",
      "[INFO 04-06 11:54:58] ax.modelbridge.base: Leaving out out-of-design observations for arms: 729_0, 1035_0, 977_0, 489_0, 686_0, 775_0, 899_0\n",
      "[INFO 04-06 11:59:37] ax.service.ax_client: Generated new trial 1083 with parameters {'z_sh': 14, 'z_sh_1': 9, 'z_sh_2': 5, 'z_p2': 30, 'z_p2_1': 28, 'z_p2_2': 25, 'z_r2': 79, 'z_r2_1': 79, 'z_r2_2': 76, 'x_s': 0.5, 'x_s_1': 0.4, 'x_s_2': 0.3, 'x_p1': 0.663013, 'x_p1_1': 0.552736, 'x_p1_2': 0.43613, 'x_p2': 0.274192, 'x_p2_1': 0.174192, 'x_p2_2': -0.5, 'x_r2': 0.98465, 'x_r2_1': 0.88414, 'x_r2_2': 0.784031} using model BoTorch.\n",
      "[INFO 04-06 11:59:37] ax.service.ax_client: Completed trial 1083 with data: {'Viable_Cross_Terms': (25, None)}.\n",
      "[INFO 04-06 11:59:38] ax.modelbridge.base: Leaving out out-of-design observations for arms: 729_0, 1035_0, 977_0, 489_0, 686_0, 775_0, 899_0\n",
      "[INFO 04-06 12:04:30] ax.service.ax_client: Generated new trial 1084 with parameters {'z_sh': 11, 'z_sh_1': 11, 'z_sh_2': 5, 'z_p2': 31, 'z_p2_1': 32, 'z_p2_2': 26, 'z_r2': 81, 'z_r2_1': 71, 'z_r2_2': 84, 'x_s': 0.5, 'x_s_1': 0.4, 'x_s_2': 0.3, 'x_p1': 0.665128, 'x_p1_1': 0.5551, 'x_p1_2': -0.022132, 'x_p2': 0.481967, 'x_p2_1': 0.365553, 'x_p2_2': 0.243296, 'x_r2': 1.038561, 'x_r2_1': -0.936774, 'x_r2_2': -1.036774} using model BoTorch.\n",
      "[INFO 04-06 12:04:30] ax.service.ax_client: Completed trial 1084 with data: {'Viable_Cross_Terms': (11, None)}.\n",
      "[INFO 04-06 12:04:31] ax.modelbridge.base: Leaving out out-of-design observations for arms: 729_0, 1035_0, 977_0, 489_0, 686_0, 775_0, 899_0\n",
      "[INFO 04-06 12:09:44] ax.service.ax_client: Generated new trial 1085 with parameters {'z_sh': 13, 'z_sh_1': 7, 'z_sh_2': 7, 'z_p2': 35, 'z_p2_1': 34, 'z_p2_2': 26, 'z_r2': 76, 'z_r2_1': 72, 'z_r2_2': 73, 'x_s': -0.200524, 'x_s_1': -0.4, 'x_s_2': -0.5, 'x_p1': 0.279946, 'x_p1_1': 0.179946, 'x_p1_2': -0.066421, 'x_p2': 0.5, 'x_p2_1': 0.4, 'x_p2_2': -0.156936, 'x_r2': 1.427081, 'x_r2_1': -0.981771, 'x_r2_2': -1.5} using model BoTorch.\n",
      "[INFO 04-06 12:09:44] ax.service.ax_client: Completed trial 1085 with data: {'Viable_Cross_Terms': (1, None)}.\n",
      "[INFO 04-06 12:09:45] ax.modelbridge.base: Leaving out out-of-design observations for arms: 729_0, 1035_0, 977_0, 489_0, 686_0, 775_0, 899_0\n",
      "[INFO 04-06 12:14:33] ax.service.ax_client: Generated new trial 1086 with parameters {'z_sh': 9, 'z_sh_1': 12, 'z_sh_2': 9, 'z_p2': 27, 'z_p2_1': 29, 'z_p2_2': 28, 'z_r2': 80, 'z_r2_1': 75, 'z_r2_2': 82, 'x_s': 0.498054, 'x_s_1': 0.385456, 'x_s_2': 0.167716, 'x_p1': 0.643757, 'x_p1_1': 0.543757, 'x_p1_2': 0.22242, 'x_p2': 0.34898, 'x_p2_1': -0.082721, 'x_p2_2': -0.205714, 'x_r2': 1.053921, 'x_r2_1': 0.953921, 'x_r2_2': 0.169281} using model BoTorch.\n",
      "[INFO 04-06 12:14:33] ax.service.ax_client: Completed trial 1086 with data: {'Viable_Cross_Terms': (13, None)}.\n",
      "[INFO 04-06 12:14:33] ax.modelbridge.base: Leaving out out-of-design observations for arms: 729_0, 1035_0, 977_0, 489_0, 686_0, 775_0, 899_0\n",
      "[INFO 04-06 12:19:28] ax.service.ax_client: Generated new trial 1087 with parameters {'z_sh': 13, 'z_sh_1': 9, 'z_sh_2': 7, 'z_p2': 33, 'z_p2_1': 32, 'z_p2_2': 25, 'z_r2': 78, 'z_r2_1': 71, 'z_r2_2': 83, 'x_s': 0.350419, 'x_s_1': 0.001524, 'x_s_2': -0.305197, 'x_p1': 0.675246, 'x_p1_1': 0.32983, 'x_p1_2': -0.022835, 'x_p2': 0.320888, 'x_p2_1': 0.125121, 'x_p2_2': -0.094562, 'x_r2': 0.648976, 'x_r2_1': -0.611389, 'x_r2_2': -0.874832} using model BoTorch.\n",
      "[INFO 04-06 12:19:28] ax.service.ax_client: Completed trial 1087 with data: {'Viable_Cross_Terms': (11, None)}.\n",
      "[INFO 04-06 12:19:28] ax.modelbridge.base: Leaving out out-of-design observations for arms: 729_0, 1035_0, 977_0, 489_0, 686_0, 775_0, 899_0\n",
      "[INFO 04-06 12:24:24] ax.service.ax_client: Generated new trial 1088 with parameters {'z_sh': 11, 'z_sh_1': 9, 'z_sh_2': 12, 'z_p2': 28, 'z_p2_1': 29, 'z_p2_2': 31, 'z_r2': 84, 'z_r2_1': 78, 'z_r2_2': 71, 'x_s': 0.5, 'x_s_1': 0.4, 'x_s_2': 0.3, 'x_p1': 0.202428, 'x_p1_1': 0.102412, 'x_p1_2': -0.222254, 'x_p2': 0.436687, 'x_p2_1': 0.336687, 'x_p2_2': 0.236405, 'x_r2': 0.857218, 'x_r2_1': 0.748214, 'x_r2_2': 0.204398} using model BoTorch.\n",
      "[INFO 04-06 12:24:24] ax.service.ax_client: Completed trial 1088 with data: {'Viable_Cross_Terms': (16, None)}.\n",
      "[INFO 04-06 12:24:25] ax.modelbridge.base: Leaving out out-of-design observations for arms: 729_0, 1035_0, 977_0, 489_0, 686_0, 775_0, 899_0\n",
      "[INFO 04-06 12:29:39] ax.service.ax_client: Generated new trial 1089 with parameters {'z_sh': 11, 'z_sh_1': 9, 'z_sh_2': 6, 'z_p2': 28, 'z_p2_1': 31, 'z_p2_2': 28, 'z_r2': 77, 'z_r2_1': 77, 'z_r2_2': 78, 'x_s': 0.5, 'x_s_1': 0.4, 'x_s_2': 0.163184, 'x_p1': 0.034069, 'x_p1_1': -0.066076, 'x_p1_2': -0.285419, 'x_p2': 0.5, 'x_p2_1': 0.286143, 'x_p2_2': -0.5, 'x_r2': 0.654137, 'x_r2_1': 0.554137, 'x_r2_2': 0.454137} using model BoTorch.\n",
      "[INFO 04-06 12:29:39] ax.service.ax_client: Completed trial 1089 with data: {'Viable_Cross_Terms': (24, None)}.\n",
      "[INFO 04-06 12:29:39] ax.modelbridge.base: Leaving out out-of-design observations for arms: 729_0, 1035_0, 977_0, 489_0, 686_0, 775_0, 899_0\n",
      "[INFO 04-06 12:34:17] ax.service.ax_client: Generated new trial 1090 with parameters {'z_sh': 13, 'z_sh_1': 11, 'z_sh_2': 5, 'z_p2': 35, 'z_p2_1': 29, 'z_p2_2': 31, 'z_r2': 79, 'z_r2_1': 74, 'z_r2_2': 73, 'x_s': -0.3, 'x_s_1': -0.4, 'x_s_2': -0.5, 'x_p1': 1.0, 'x_p1_1': 0.515292, 'x_p1_2': -1.0, 'x_p2': -0.3, 'x_p2_1': -0.4, 'x_p2_2': -0.5, 'x_r2': 1.5, 'x_r2_1': 1.130751, 'x_r2_2': 1.030751} using model BoTorch.\n",
      "[INFO 04-06 12:34:17] ax.service.ax_client: Completed trial 1090 with data: {'Viable_Cross_Terms': (4, None)}.\n",
      "[INFO 04-06 12:34:18] ax.modelbridge.base: Leaving out out-of-design observations for arms: 729_0, 1035_0, 977_0, 489_0, 686_0, 775_0, 899_0\n",
      "[INFO 04-06 12:37:26] ax.service.ax_client: Generated new trial 1091 with parameters {'z_sh': 10, 'z_sh_1': 13, 'z_sh_2': 13, 'z_p2': 35, 'z_p2_1': 29, 'z_p2_2': 28, 'z_r2': 82, 'z_r2_1': 75, 'z_r2_2': 82, 'x_s': 0.5, 'x_s_1': 0.4, 'x_s_2': 0.3, 'x_p1': 0.529801, 'x_p1_1': 0.429801, 'x_p1_2': 0.329801, 'x_p2': 0.5, 'x_p2_1': 0.4, 'x_p2_2': 0.3, 'x_r2': 0.936635, 'x_r2_1': 0.836635, 'x_r2_2': 0.736635} using model BoTorch.\n",
      "[INFO 04-06 12:37:26] ax.service.ax_client: Completed trial 1091 with data: {'Viable_Cross_Terms': (33, None)}.\n",
      "[INFO 04-06 12:37:27] ax.modelbridge.base: Leaving out out-of-design observations for arms: 729_0, 1035_0, 977_0, 489_0, 686_0, 775_0, 899_0\n",
      "[INFO 04-06 12:42:12] ax.service.ax_client: Generated new trial 1092 with parameters {'z_sh': 7, 'z_sh_1': 6, 'z_sh_2': 5, 'z_p2': 27, 'z_p2_1': 26, 'z_p2_2': 25, 'z_r2': 86, 'z_r2_1': 85, 'z_r2_2': 84, 'x_s': 0.5, 'x_s_1': 0.398904, 'x_s_2': 0.250244, 'x_p1': 0.730649, 'x_p1_1': 0.629194, 'x_p1_2': 0.145291, 'x_p2': 0.325257, 'x_p2_1': 0.225257, 'x_p2_2': 0.125208, 'x_r2': 0.938231, 'x_r2_1': 0.838197, 'x_r2_2': -0.079408} using model BoTorch.\n",
      "[INFO 04-06 12:42:12] ax.service.ax_client: Completed trial 1092 with data: {'Viable_Cross_Terms': (19, None)}.\n",
      "[INFO 04-06 12:42:12] ax.modelbridge.base: Leaving out out-of-design observations for arms: 729_0, 1035_0, 977_0, 489_0, 686_0, 775_0, 899_0\n",
      "[INFO 04-06 12:47:23] ax.service.ax_client: Generated new trial 1093 with parameters {'z_sh': 7, 'z_sh_1': 13, 'z_sh_2': 8, 'z_p2': 30, 'z_p2_1': 33, 'z_p2_2': 32, 'z_r2': 81, 'z_r2_1': 79, 'z_r2_2': 82, 'x_s': 0.482743, 'x_s_1': 0.364984, 'x_s_2': 0.101021, 'x_p1': 0.425603, 'x_p1_1': 0.325603, 'x_p1_2': -0.571832, 'x_p2': 0.406358, 'x_p2_1': 0.000598, 'x_p2_2': -0.133258, 'x_r2': 1.09908, 'x_r2_1': 0.946477, 'x_r2_2': 0.295395} using model BoTorch.\n",
      "[INFO 04-06 12:47:23] ax.service.ax_client: Completed trial 1093 with data: {'Viable_Cross_Terms': (15, None)}.\n",
      "[INFO 04-06 12:47:24] ax.modelbridge.base: Leaving out out-of-design observations for arms: 729_0, 1035_0, 977_0, 489_0, 686_0, 775_0, 899_0\n",
      "[INFO 04-06 12:51:18] ax.service.ax_client: Generated new trial 1094 with parameters {'z_sh': 15, 'z_sh_1': 10, 'z_sh_2': 5, 'z_p2': 27, 'z_p2_1': 34, 'z_p2_2': 25, 'z_r2': 83, 'z_r2_1': 75, 'z_r2_2': 73, 'x_s': 0.5, 'x_s_1': 0.4, 'x_s_2': -0.5, 'x_p1': -0.21661, 'x_p1_1': -0.9, 'x_p1_2': -1.0, 'x_p2': -0.3, 'x_p2_1': -0.4, 'x_p2_2': -0.5, 'x_r2': 0.231735, 'x_r2_1': 0.131735, 'x_r2_2': -1.5} using model BoTorch.\n",
      "[INFO 04-06 12:51:18] ax.service.ax_client: Completed trial 1094 with data: {'Viable_Cross_Terms': (2, None)}.\n",
      "[INFO 04-06 12:51:19] ax.modelbridge.base: Leaving out out-of-design observations for arms: 729_0, 1035_0, 977_0, 489_0, 686_0, 775_0, 899_0\n",
      "[INFO 04-06 12:55:58] ax.service.ax_client: Generated new trial 1095 with parameters {'z_sh': 8, 'z_sh_1': 10, 'z_sh_2': 5, 'z_p2': 31, 'z_p2_1': 28, 'z_p2_2': 27, 'z_r2': 80, 'z_r2_1': 72, 'z_r2_2': 78, 'x_s': 0.5, 'x_s_1': 0.4, 'x_s_2': 0.3, 'x_p1': 0.604106, 'x_p1_1': 0.504106, 'x_p1_2': 0.404106, 'x_p2': 0.5, 'x_p2_1': 0.4, 'x_p2_2': 0.3, 'x_r2': -0.786467, 'x_r2_1': -1.013228, 'x_r2_2': -1.113228} using model BoTorch.\n",
      "[INFO 04-06 12:55:58] ax.service.ax_client: Completed trial 1095 with data: {'Viable_Cross_Terms': (18, None)}.\n",
      "[INFO 04-06 12:55:59] ax.modelbridge.base: Leaving out out-of-design observations for arms: 729_0, 1035_0, 977_0, 489_0, 686_0, 775_0, 899_0\n",
      "[INFO 04-06 12:59:22] ax.service.ax_client: Generated new trial 1096 with parameters {'z_sh': 14, 'z_sh_1': 6, 'z_sh_2': 5, 'z_p2': 35, 'z_p2_1': 34, 'z_p2_2': 33, 'z_r2': 80, 'z_r2_1': 71, 'z_r2_2': 84, 'x_s': 0.5, 'x_s_1': 0.4, 'x_s_2': -0.5, 'x_p1': 0.592871, 'x_p1_1': 0.492871, 'x_p1_2': 0.392871, 'x_p2': 0.5, 'x_p2_1': 0.4, 'x_p2_2': 0.3, 'x_r2': 1.114444, 'x_r2_1': 1.014444, 'x_r2_2': 0.914444} using model BoTorch.\n",
      "[INFO 04-06 12:59:22] ax.service.ax_client: Completed trial 1096 with data: {'Viable_Cross_Terms': (58, None)}.\n",
      "[INFO 04-06 12:59:22] ax.modelbridge.base: Leaving out out-of-design observations for arms: 729_0, 1035_0, 977_0, 489_0, 686_0, 775_0, 899_0\n",
      "[INFO 04-06 13:02:29] ax.service.ax_client: Generated new trial 1097 with parameters {'z_sh': 8, 'z_sh_1': 12, 'z_sh_2': 5, 'z_p2': 28, 'z_p2_1': 28, 'z_p2_2': 31, 'z_r2': 80, 'z_r2_1': 78, 'z_r2_2': 76, 'x_s': 0.5, 'x_s_1': 0.4, 'x_s_2': 0.3, 'x_p1': 0.602165, 'x_p1_1': 0.502165, 'x_p1_2': 0.402165, 'x_p2': 0.5, 'x_p2_1': 0.4, 'x_p2_2': 0.3, 'x_r2': 1.075546, 'x_r2_1': 0.975546, 'x_r2_2': 0.875546} using model BoTorch.\n",
      "[INFO 04-06 13:02:29] ax.service.ax_client: Completed trial 1097 with data: {'Viable_Cross_Terms': (97, None)}.\n",
      "[INFO 04-06 13:02:29] ax.modelbridge.base: Leaving out out-of-design observations for arms: 729_0, 1035_0, 977_0, 489_0, 686_0, 775_0, 899_0\n",
      "[INFO 04-06 13:06:49] ax.service.ax_client: Generated new trial 1098 with parameters {'z_sh': 9, 'z_sh_1': 12, 'z_sh_2': 5, 'z_p2': 27, 'z_p2_1': 28, 'z_p2_2': 29, 'z_r2': 83, 'z_r2_1': 78, 'z_r2_2': 78, 'x_s': 0.5, 'x_s_1': 0.4, 'x_s_2': 0.3, 'x_p1': 0.517263, 'x_p1_1': 0.417263, 'x_p1_2': 0.317263, 'x_p2': 0.427438, 'x_p2_1': 0.327438, 'x_p2_2': 0.227438, 'x_r2': 0.923136, 'x_r2_1': 0.823136, 'x_r2_2': 0.723136} using model BoTorch.\n",
      "[INFO 04-06 13:06:49] ax.service.ax_client: Completed trial 1098 with data: {'Viable_Cross_Terms': (32, None)}.\n",
      "[INFO 04-06 13:06:50] ax.modelbridge.base: Leaving out out-of-design observations for arms: 729_0, 1035_0, 977_0, 489_0, 686_0, 775_0, 899_0\n",
      "[INFO 04-06 13:11:01] ax.service.ax_client: Generated new trial 1099 with parameters {'z_sh': 7, 'z_sh_1': 7, 'z_sh_2': 5, 'z_p2': 32, 'z_p2_1': 34, 'z_p2_2': 31, 'z_r2': 77, 'z_r2_1': 71, 'z_r2_2': 78, 'x_s': 0.5, 'x_s_1': 0.4, 'x_s_2': 0.3, 'x_p1': 0.83718, 'x_p1_1': 0.732753, 'x_p1_2': 0.601312, 'x_p2': 0.412644, 'x_p2_1': 0.312644, 'x_p2_2': 0.212644, 'x_r2': 1.003324, 'x_r2_1': 0.903324, 'x_r2_2': 0.803324} using model BoTorch.\n",
      "[INFO 04-06 13:11:01] ax.service.ax_client: Completed trial 1099 with data: {'Viable_Cross_Terms': (31, None)}.\n",
      "[INFO 04-06 13:11:02] ax.modelbridge.base: Leaving out out-of-design observations for arms: 729_0, 1035_0, 977_0, 489_0, 686_0, 775_0, 899_0\n",
      "[INFO 04-06 13:14:41] ax.service.ax_client: Generated new trial 1100 with parameters {'z_sh': 7, 'z_sh_1': 12, 'z_sh_2': 5, 'z_p2': 34, 'z_p2_1': 33, 'z_p2_2': 32, 'z_r2': 80, 'z_r2_1': 72, 'z_r2_2': 84, 'x_s': 0.5, 'x_s_1': 0.4, 'x_s_2': 0.3, 'x_p1': 0.607171, 'x_p1_1': 0.507171, 'x_p1_2': 0.407171, 'x_p2': 0.5, 'x_p2_1': 0.4, 'x_p2_2': 0.3, 'x_r2': 1.076878, 'x_r2_1': 0.976878, 'x_r2_2': 0.876878} using model BoTorch.\n",
      "[INFO 04-06 13:14:41] ax.service.ax_client: Completed trial 1100 with data: {'Viable_Cross_Terms': (82, None)}.\n",
      "[INFO 04-06 13:14:42] ax.modelbridge.base: Leaving out out-of-design observations for arms: 729_0, 1035_0, 977_0, 489_0, 686_0, 775_0, 899_0\n",
      "[INFO 04-06 13:18:53] ax.service.ax_client: Generated new trial 1101 with parameters {'z_sh': 7, 'z_sh_1': 13, 'z_sh_2': 10, 'z_p2': 34, 'z_p2_1': 29, 'z_p2_2': 28, 'z_r2': 73, 'z_r2_1': 74, 'z_r2_2': 72, 'x_s': 0.5, 'x_s_1': 0.4, 'x_s_2': 0.3, 'x_p1': 0.634661, 'x_p1_1': 0.534661, 'x_p1_2': 0.434661, 'x_p2': 0.381643, 'x_p2_1': 0.281643, 'x_p2_2': 0.169503, 'x_r2': 1.057246, 'x_r2_1': 0.957246, 'x_r2_2': 0.857246} using model BoTorch.\n",
      "[INFO 04-06 13:18:53] ax.service.ax_client: Completed trial 1101 with data: {'Viable_Cross_Terms': (35, None)}.\n",
      "[INFO 04-06 13:18:54] ax.modelbridge.base: Leaving out out-of-design observations for arms: 729_0, 1035_0, 977_0, 489_0, 686_0, 775_0, 899_0\n",
      "[INFO 04-06 13:22:29] ax.service.ax_client: Generated new trial 1102 with parameters {'z_sh': 7, 'z_sh_1': 6, 'z_sh_2': 5, 'z_p2': 35, 'z_p2_1': 26, 'z_p2_2': 33, 'z_r2': 80, 'z_r2_1': 71, 'z_r2_2': 84, 'x_s': 0.5, 'x_s_1': 0.4, 'x_s_2': 0.3, 'x_p1': 0.610559, 'x_p1_1': 0.510559, 'x_p1_2': 0.410559, 'x_p2': 0.5, 'x_p2_1': 0.4, 'x_p2_2': 0.3, 'x_r2': 1.084808, 'x_r2_1': 0.984808, 'x_r2_2': 0.884808} using model BoTorch.\n",
      "[INFO 04-06 13:22:29] ax.service.ax_client: Completed trial 1102 with data: {'Viable_Cross_Terms': (80, None)}.\n",
      "[INFO 04-06 13:22:30] ax.modelbridge.base: Leaving out out-of-design observations for arms: 729_0, 1035_0, 977_0, 489_0, 686_0, 775_0, 899_0\n",
      "[INFO 04-06 13:25:49] ax.service.ax_client: Generated new trial 1103 with parameters {'z_sh': 7, 'z_sh_1': 13, 'z_sh_2': 5, 'z_p2': 34, 'z_p2_1': 33, 'z_p2_2': 32, 'z_r2': 80, 'z_r2_1': 78, 'z_r2_2': 84, 'x_s': 0.5, 'x_s_1': 0.4, 'x_s_2': 0.3, 'x_p1': 0.609441, 'x_p1_1': 0.509441, 'x_p1_2': 0.409441, 'x_p2': 0.5, 'x_p2_1': 0.4, 'x_p2_2': 0.3, 'x_r2': 1.081968, 'x_r2_1': 0.981968, 'x_r2_2': 0.881968} using model BoTorch.\n",
      "[INFO 04-06 13:25:49] ax.service.ax_client: Completed trial 1103 with data: {'Viable_Cross_Terms': (80, None)}.\n",
      "[INFO 04-06 13:25:50] ax.modelbridge.base: Leaving out out-of-design observations for arms: 729_0, 1035_0, 977_0, 489_0, 686_0, 775_0, 899_0\n",
      "[INFO 04-06 13:29:36] ax.service.ax_client: Generated new trial 1104 with parameters {'z_sh': 7, 'z_sh_1': 6, 'z_sh_2': 5, 'z_p2': 27, 'z_p2_1': 34, 'z_p2_2': 33, 'z_r2': 80, 'z_r2_1': 85, 'z_r2_2': 84, 'x_s': 0.5, 'x_s_1': 0.4, 'x_s_2': 0.3, 'x_p1': 0.625463, 'x_p1_1': 0.525463, 'x_p1_2': 0.425463, 'x_p2': 0.5, 'x_p2_1': 0.4, 'x_p2_2': 0.3, 'x_r2': 1.5, 'x_r2_1': 0.973668, 'x_r2_2': 0.873668} using model BoTorch.\n",
      "[INFO 04-06 13:29:36] ax.service.ax_client: Completed trial 1104 with data: {'Viable_Cross_Terms': (59, None)}.\n",
      "[INFO 04-06 13:29:36] ax.modelbridge.base: Leaving out out-of-design observations for arms: 729_0, 1035_0, 977_0, 489_0, 686_0, 775_0, 899_0\n",
      "[INFO 04-06 13:34:11] ax.service.ax_client: Generated new trial 1105 with parameters {'z_sh': 7, 'z_sh_1': 6, 'z_sh_2': 5, 'z_p2': 28, 'z_p2_1': 34, 'z_p2_2': 28, 'z_r2': 80, 'z_r2_1': 83, 'z_r2_2': 75, 'x_s': 0.5, 'x_s_1': 0.4, 'x_s_2': 0.3, 'x_p1': 0.744291, 'x_p1_1': 0.644291, 'x_p1_2': 0.544291, 'x_p2': 0.392159, 'x_p2_1': 0.292159, 'x_p2_2': 0.192159, 'x_r2': 1.00487, 'x_r2_1': 0.90487, 'x_r2_2': -0.700726} using model BoTorch.\n",
      "[INFO 04-06 13:34:11] ax.service.ax_client: Completed trial 1105 with data: {'Viable_Cross_Terms': (62, None)}.\n",
      "[INFO 04-06 13:34:12] ax.modelbridge.base: Leaving out out-of-design observations for arms: 729_0, 1035_0, 977_0, 489_0, 686_0, 775_0, 899_0\n",
      "[INFO 04-06 13:38:13] ax.service.ax_client: Generated new trial 1106 with parameters {'z_sh': 7, 'z_sh_1': 14, 'z_sh_2': 10, 'z_p2': 34, 'z_p2_1': 30, 'z_p2_2': 26, 'z_r2': 85, 'z_r2_1': 75, 'z_r2_2': 81, 'x_s': 0.5, 'x_s_1': 0.4, 'x_s_2': -0.421938, 'x_p1': 0.322833, 'x_p1_1': 0.222833, 'x_p1_2': 0.057668, 'x_p2': -0.289284, 'x_p2_1': -0.389284, 'x_p2_2': -0.492758, 'x_r2': 0.050789, 'x_r2_1': -0.444982, 'x_r2_2': -0.765772} using model BoTorch.\n",
      "[INFO 04-06 13:38:13] ax.service.ax_client: Completed trial 1106 with data: {'Viable_Cross_Terms': (7, None)}.\n",
      "[INFO 04-06 13:38:14] ax.modelbridge.base: Leaving out out-of-design observations for arms: 729_0, 1035_0, 977_0, 489_0, 686_0, 775_0, 899_0\n",
      "[INFO 04-06 13:42:08] ax.service.ax_client: Generated new trial 1107 with parameters {'z_sh': 7, 'z_sh_1': 6, 'z_sh_2': 5, 'z_p2': 35, 'z_p2_1': 34, 'z_p2_2': 33, 'z_r2': 80, 'z_r2_1': 71, 'z_r2_2': 84, 'x_s': 0.5, 'x_s_1': 0.4, 'x_s_2': 0.3, 'x_p1': 0.610375, 'x_p1_1': 0.510375, 'x_p1_2': 0.410375, 'x_p2': 0.5, 'x_p2_1': 0.4, 'x_p2_2': 0.3, 'x_r2': 1.077124, 'x_r2_1': 0.977124, 'x_r2_2': 0.877124} using model BoTorch.\n",
      "[INFO 04-06 13:42:08] ax.service.ax_client: Completed trial 1107 with data: {'Viable_Cross_Terms': (83, None)}.\n",
      "[INFO 04-06 13:42:09] ax.modelbridge.base: Leaving out out-of-design observations for arms: 729_0, 1035_0, 977_0, 489_0, 686_0, 775_0, 899_0\n",
      "[INFO 04-06 13:46:30] ax.service.ax_client: Generated new trial 1108 with parameters {'z_sh': 10, 'z_sh_1': 12, 'z_sh_2': 5, 'z_p2': 29, 'z_p2_1': 33, 'z_p2_2': 31, 'z_r2': 80, 'z_r2_1': 78, 'z_r2_2': 78, 'x_s': 0.5, 'x_s_1': 0.4, 'x_s_2': 0.3, 'x_p1': 0.798921, 'x_p1_1': 0.67009, 'x_p1_2': 0.57009, 'x_p2': 0.5, 'x_p2_1': 0.378266, 'x_p2_2': 0.242676, 'x_r2': 1.5, 'x_r2_1': 0.044052, 'x_r2_2': -1.5} using model BoTorch.\n",
      "[INFO 04-06 13:46:30] ax.service.ax_client: Completed trial 1108 with data: {'Viable_Cross_Terms': (26, None)}.\n",
      "[INFO 04-06 13:46:31] ax.modelbridge.base: Leaving out out-of-design observations for arms: 729_0, 1035_0, 977_0, 489_0, 686_0, 775_0, 899_0\n",
      "[INFO 04-06 13:50:24] ax.service.ax_client: Generated new trial 1109 with parameters {'z_sh': 7, 'z_sh_1': 14, 'z_sh_2': 5, 'z_p2': 35, 'z_p2_1': 26, 'z_p2_2': 33, 'z_r2': 80, 'z_r2_1': 85, 'z_r2_2': 84, 'x_s': 0.5, 'x_s_1': 0.4, 'x_s_2': 0.3, 'x_p1': 0.600434, 'x_p1_1': 0.500434, 'x_p1_2': 0.400434, 'x_p2': 0.5, 'x_p2_1': 0.4, 'x_p2_2': 0.3, 'x_r2': 1.081501, 'x_r2_1': 0.981501, 'x_r2_2': 0.881501} using model BoTorch.\n",
      "[INFO 04-06 13:50:24] ax.service.ax_client: Completed trial 1109 with data: {'Viable_Cross_Terms': (80, None)}.\n",
      "[INFO 04-06 13:50:24] ax.modelbridge.base: Leaving out out-of-design observations for arms: 729_0, 1035_0, 977_0, 489_0, 686_0, 775_0, 899_0\n",
      "[INFO 04-06 13:54:07] ax.service.ax_client: Generated new trial 1110 with parameters {'z_sh': 7, 'z_sh_1': 8, 'z_sh_2': 5, 'z_p2': 35, 'z_p2_1': 34, 'z_p2_2': 33, 'z_r2': 80, 'z_r2_1': 71, 'z_r2_2': 84, 'x_s': 0.5, 'x_s_1': 0.4, 'x_s_2': 0.3, 'x_p1': 0.608263, 'x_p1_1': 0.508263, 'x_p1_2': 0.408263, 'x_p2': 0.5, 'x_p2_1': 0.4, 'x_p2_2': 0.3, 'x_r2': 1.073944, 'x_r2_1': 0.973944, 'x_r2_2': 0.873944} using model BoTorch.\n",
      "[INFO 04-06 13:54:07] ax.service.ax_client: Completed trial 1110 with data: {'Viable_Cross_Terms': (82, None)}.\n",
      "[INFO 04-06 13:54:08] ax.modelbridge.base: Leaving out out-of-design observations for arms: 729_0, 1035_0, 977_0, 489_0, 686_0, 775_0, 899_0\n",
      "[INFO 04-06 13:57:33] ax.service.ax_client: Generated new trial 1111 with parameters {'z_sh': 7, 'z_sh_1': 6, 'z_sh_2': 5, 'z_p2': 31, 'z_p2_1': 26, 'z_p2_2': 32, 'z_r2': 76, 'z_r2_1': 81, 'z_r2_2': 84, 'x_s': 0.5, 'x_s_1': 0.4, 'x_s_2': 0.3, 'x_p1': 0.754544, 'x_p1_1': 0.654544, 'x_p1_2': 0.554544, 'x_p2': 0.5, 'x_p2_1': 0.4, 'x_p2_2': 0.3, 'x_r2': 0.997498, 'x_r2_1': 0.897498, 'x_r2_2': 0.797498} using model BoTorch.\n",
      "[INFO 04-06 13:57:33] ax.service.ax_client: Completed trial 1111 with data: {'Viable_Cross_Terms': (25, None)}.\n",
      "[INFO 04-06 13:57:33] ax.modelbridge.base: Leaving out out-of-design observations for arms: 729_0, 1035_0, 977_0, 489_0, 686_0, 775_0, 899_0\n",
      "[INFO 04-06 14:02:18] ax.service.ax_client: Generated new trial 1112 with parameters {'z_sh': 8, 'z_sh_1': 11, 'z_sh_2': 5, 'z_p2': 27, 'z_p2_1': 26, 'z_p2_2': 30, 'z_r2': 84, 'z_r2_1': 76, 'z_r2_2': 79, 'x_s': 0.5, 'x_s_1': 0.4, 'x_s_2': 0.3, 'x_p1': 0.833962, 'x_p1_1': 0.733962, 'x_p1_2': 0.633962, 'x_p2': 0.254083, 'x_p2_1': 0.154083, 'x_p2_2': 0.054083, 'x_r2': 0.827913, 'x_r2_1': 0.727913, 'x_r2_2': 0.627913} using model BoTorch.\n",
      "[INFO 04-06 14:02:18] ax.service.ax_client: Completed trial 1112 with data: {'Viable_Cross_Terms': (26, None)}.\n",
      "[INFO 04-06 14:02:19] ax.modelbridge.base: Leaving out out-of-design observations for arms: 729_0, 1035_0, 977_0, 489_0, 686_0, 775_0, 899_0\n",
      "[INFO 04-06 14:06:02] ax.service.ax_client: Generated new trial 1113 with parameters {'z_sh': 7, 'z_sh_1': 6, 'z_sh_2': 5, 'z_p2': 33, 'z_p2_1': 34, 'z_p2_2': 33, 'z_r2': 80, 'z_r2_1': 84, 'z_r2_2': 84, 'x_s': 0.5, 'x_s_1': 0.4, 'x_s_2': 0.3, 'x_p1': 0.615546, 'x_p1_1': 0.515546, 'x_p1_2': 0.415546, 'x_p2': 0.5, 'x_p2_1': 0.4, 'x_p2_2': 0.3, 'x_r2': 1.081597, 'x_r2_1': 0.981597, 'x_r2_2': 0.881597} using model BoTorch.\n",
      "[INFO 04-06 14:06:02] ax.service.ax_client: Completed trial 1113 with data: {'Viable_Cross_Terms': (83, None)}.\n",
      "[INFO 04-06 14:06:02] ax.modelbridge.base: Leaving out out-of-design observations for arms: 729_0, 1035_0, 977_0, 489_0, 686_0, 775_0, 899_0\n",
      "[INFO 04-06 14:09:42] ax.service.ax_client: Generated new trial 1114 with parameters {'z_sh': 7, 'z_sh_1': 10, 'z_sh_2': 5, 'z_p2': 32, 'z_p2_1': 30, 'z_p2_2': 29, 'z_r2': 76, 'z_r2_1': 83, 'z_r2_2': 78, 'x_s': 0.5, 'x_s_1': 0.4, 'x_s_2': 0.3, 'x_p1': 0.671, 'x_p1_1': 0.571, 'x_p1_2': 0.471, 'x_p2': 0.5, 'x_p2_1': 0.4, 'x_p2_2': 0.3, 'x_r2': 0.970421, 'x_r2_1': 0.870421, 'x_r2_2': 0.770421} using model BoTorch.\n",
      "[INFO 04-06 14:09:42] ax.service.ax_client: Completed trial 1114 with data: {'Viable_Cross_Terms': (32, None)}.\n",
      "[INFO 04-06 14:09:43] ax.modelbridge.base: Leaving out out-of-design observations for arms: 729_0, 1035_0, 977_0, 489_0, 686_0, 775_0, 899_0\n",
      "[INFO 04-06 14:14:00] ax.service.ax_client: Generated new trial 1115 with parameters {'z_sh': 14, 'z_sh_1': 10, 'z_sh_2': 7, 'z_p2': 35, 'z_p2_1': 26, 'z_p2_2': 27, 'z_r2': 85, 'z_r2_1': 76, 'z_r2_2': 72, 'x_s': 0.5, 'x_s_1': 0.4, 'x_s_2': 0.3, 'x_p1': 1.0, 'x_p1_1': 0.9, 'x_p1_2': 0.8, 'x_p2': 0.49853, 'x_p2_1': 0.398525, 'x_p2_2': 0.298522, 'x_r2': 1.324087, 'x_r2_1': 1.224087, 'x_r2_2': 1.124087} using model BoTorch.\n",
      "[INFO 04-06 14:14:00] ax.service.ax_client: Completed trial 1115 with data: {'Viable_Cross_Terms': (8, None)}.\n",
      "[INFO 04-06 14:14:01] ax.modelbridge.base: Leaving out out-of-design observations for arms: 729_0, 1035_0, 977_0, 489_0, 686_0, 775_0, 899_0\n",
      "[INFO 04-06 14:17:41] ax.service.ax_client: Generated new trial 1116 with parameters {'z_sh': 11, 'z_sh_1': 13, 'z_sh_2': 5, 'z_p2': 34, 'z_p2_1': 32, 'z_p2_2': 30, 'z_r2': 80, 'z_r2_1': 74, 'z_r2_2': 81, 'x_s': 0.5, 'x_s_1': 0.4, 'x_s_2': 0.3, 'x_p1': 0.558809, 'x_p1_1': 0.458809, 'x_p1_2': 0.358809, 'x_p2': 0.5, 'x_p2_1': 0.4, 'x_p2_2': 0.3, 'x_r2': 1.072837, 'x_r2_1': 0.972837, 'x_r2_2': 0.872837} using model BoTorch.\n",
      "[INFO 04-06 14:17:41] ax.service.ax_client: Completed trial 1116 with data: {'Viable_Cross_Terms': (73, None)}.\n",
      "[INFO 04-06 14:17:42] ax.modelbridge.base: Leaving out out-of-design observations for arms: 729_0, 1035_0, 977_0, 489_0, 686_0, 775_0, 899_0\n",
      "[INFO 04-06 14:21:43] ax.service.ax_client: Generated new trial 1117 with parameters {'z_sh': 7, 'z_sh_1': 14, 'z_sh_2': 5, 'z_p2': 35, 'z_p2_1': 26, 'z_p2_2': 25, 'z_r2': 80, 'z_r2_1': 85, 'z_r2_2': 84, 'x_s': 0.5, 'x_s_1': 0.4, 'x_s_2': 0.3, 'x_p1': 0.611034, 'x_p1_1': 0.511034, 'x_p1_2': 0.411034, 'x_p2': 0.5, 'x_p2_1': 0.4, 'x_p2_2': 0.3, 'x_r2': 1.089896, 'x_r2_1': 0.989896, 'x_r2_2': 0.889896} using model BoTorch.\n",
      "[INFO 04-06 14:21:43] ax.service.ax_client: Completed trial 1117 with data: {'Viable_Cross_Terms': (77, None)}.\n",
      "[INFO 04-06 14:21:44] ax.modelbridge.base: Leaving out out-of-design observations for arms: 729_0, 1035_0, 977_0, 489_0, 686_0, 775_0, 899_0\n",
      "[INFO 04-06 14:25:42] ax.service.ax_client: Generated new trial 1118 with parameters {'z_sh': 7, 'z_sh_1': 6, 'z_sh_2': 5, 'z_p2': 35, 'z_p2_1': 34, 'z_p2_2': 33, 'z_r2': 80, 'z_r2_1': 85, 'z_r2_2': 84, 'x_s': 0.5, 'x_s_1': 0.4, 'x_s_2': 0.3, 'x_p1': 0.612534, 'x_p1_1': 0.512534, 'x_p1_2': 0.412534, 'x_p2': 0.5, 'x_p2_1': 0.4, 'x_p2_2': 0.3, 'x_r2': 1.077206, 'x_r2_1': 0.977206, 'x_r2_2': 0.877206} using model BoTorch.\n",
      "[INFO 04-06 14:25:42] ax.service.ax_client: Completed trial 1118 with data: {'Viable_Cross_Terms': (84, None)}.\n",
      "[INFO 04-06 14:25:43] ax.modelbridge.base: Leaving out out-of-design observations for arms: 729_0, 1035_0, 977_0, 489_0, 686_0, 775_0, 899_0\n",
      "[INFO 04-06 14:29:43] ax.service.ax_client: Generated new trial 1119 with parameters {'z_sh': 7, 'z_sh_1': 13, 'z_sh_2': 5, 'z_p2': 34, 'z_p2_1': 33, 'z_p2_2': 32, 'z_r2': 80, 'z_r2_1': 77, 'z_r2_2': 84, 'x_s': 0.5, 'x_s_1': 0.4, 'x_s_2': 0.3, 'x_p1': 0.60488, 'x_p1_1': 0.50488, 'x_p1_2': 0.40488, 'x_p2': 0.5, 'x_p2_1': 0.4, 'x_p2_2': 0.3, 'x_r2': 1.083333, 'x_r2_1': 0.983333, 'x_r2_2': 0.883333} using model BoTorch.\n",
      "[INFO 04-06 14:29:43] ax.service.ax_client: Completed trial 1119 with data: {'Viable_Cross_Terms': (80, None)}.\n",
      "[INFO 04-06 14:29:44] ax.modelbridge.base: Leaving out out-of-design observations for arms: 729_0, 1035_0, 977_0, 489_0, 686_0, 775_0, 899_0\n",
      "[INFO 04-06 14:34:07] ax.service.ax_client: Generated new trial 1120 with parameters {'z_sh': 7, 'z_sh_1': 8, 'z_sh_2': 5, 'z_p2': 32, 'z_p2_1': 34, 'z_p2_2': 33, 'z_r2': 80, 'z_r2_1': 71, 'z_r2_2': 84, 'x_s': 0.5, 'x_s_1': 0.4, 'x_s_2': 0.3, 'x_p1': 0.615496, 'x_p1_1': 0.515496, 'x_p1_2': 0.415496, 'x_p2': 0.5, 'x_p2_1': 0.4, 'x_p2_2': 0.3, 'x_r2': 1.07838, 'x_r2_1': 0.97838, 'x_r2_2': 0.87838} using model BoTorch.\n",
      "[INFO 04-06 14:34:07] ax.service.ax_client: Completed trial 1120 with data: {'Viable_Cross_Terms': (84, None)}.\n",
      "[INFO 04-06 14:34:08] ax.modelbridge.base: Leaving out out-of-design observations for arms: 729_0, 1035_0, 977_0, 489_0, 686_0, 775_0, 899_0\n",
      "[INFO 04-06 14:38:16] ax.service.ax_client: Generated new trial 1121 with parameters {'z_sh': 7, 'z_sh_1': 13, 'z_sh_2': 5, 'z_p2': 29, 'z_p2_1': 27, 'z_p2_2': 25, 'z_r2': 80, 'z_r2_1': 74, 'z_r2_2': 78, 'x_s': 0.5, 'x_s_1': 0.4, 'x_s_2': 0.3, 'x_p1': 0.593026, 'x_p1_1': 0.493026, 'x_p1_2': 0.393026, 'x_p2': 0.5, 'x_p2_1': 0.4, 'x_p2_2': 0.3, 'x_r2': 1.081172, 'x_r2_1': 0.981172, 'x_r2_2': 0.881172} using model BoTorch.\n",
      "[INFO 04-06 14:38:16] ax.service.ax_client: Completed trial 1121 with data: {'Viable_Cross_Terms': (81, None)}.\n",
      "[INFO 04-06 14:38:17] ax.modelbridge.base: Leaving out out-of-design observations for arms: 729_0, 1035_0, 977_0, 489_0, 686_0, 1121_0, 775_0, 899_0\n",
      "[INFO 04-06 14:40:45] ax.service.ax_client: Generated new trial 1122 with parameters {'z_sh': 10, 'z_sh_1': 8, 'z_sh_2': 5, 'z_p2': 31, 'z_p2_1': 29, 'z_p2_2': 29, 'z_r2': 80, 'z_r2_1': 77, 'z_r2_2': 78, 'x_s': 0.5, 'x_s_1': 0.4, 'x_s_2': 0.3, 'x_p1': 0.616784, 'x_p1_1': 0.516784, 'x_p1_2': 0.416784, 'x_p2': 0.5, 'x_p2_1': 0.4, 'x_p2_2': 0.3, 'x_r2': 1.086231, 'x_r2_1': 0.986231, 'x_r2_2': 0.886231} using model BoTorch.\n",
      "[INFO 04-06 14:40:45] ax.service.ax_client: Completed trial 1122 with data: {'Viable_Cross_Terms': (96, None)}.\n",
      "[INFO 04-06 14:40:46] ax.modelbridge.base: Leaving out out-of-design observations for arms: 729_0, 1035_0, 977_0, 489_0, 686_0, 1121_0, 775_0, 899_0\n",
      "[INFO 04-06 14:44:43] ax.service.ax_client: Generated new trial 1123 with parameters {'z_sh': 7, 'z_sh_1': 14, 'z_sh_2': 5, 'z_p2': 35, 'z_p2_1': 34, 'z_p2_2': 33, 'z_r2': 80, 'z_r2_1': 84, 'z_r2_2': 84, 'x_s': 0.5, 'x_s_1': 0.4, 'x_s_2': 0.3, 'x_p1': 0.611584, 'x_p1_1': 0.511584, 'x_p1_2': 0.411584, 'x_p2': 0.5, 'x_p2_1': 0.4, 'x_p2_2': 0.3, 'x_r2': 1.078227, 'x_r2_1': 0.978227, 'x_r2_2': 0.878227} using model BoTorch.\n",
      "[INFO 04-06 14:44:43] ax.service.ax_client: Completed trial 1123 with data: {'Viable_Cross_Terms': (83, None)}.\n",
      "[INFO 04-06 14:44:43] ax.modelbridge.base: Leaving out out-of-design observations for arms: 729_0, 1035_0, 977_0, 489_0, 686_0, 1121_0, 775_0, 899_0\n",
      "[INFO 04-06 14:48:33] ax.service.ax_client: Generated new trial 1124 with parameters {'z_sh': 7, 'z_sh_1': 6, 'z_sh_2': 5, 'z_p2': 35, 'z_p2_1': 34, 'z_p2_2': 25, 'z_r2': 80, 'z_r2_1': 71, 'z_r2_2': 84, 'x_s': 0.5, 'x_s_1': 0.4, 'x_s_2': 0.3, 'x_p1': 0.608881, 'x_p1_1': 0.508881, 'x_p1_2': 0.408881, 'x_p2': 0.5, 'x_p2_1': 0.4, 'x_p2_2': 0.3, 'x_r2': 1.07505, 'x_r2_1': 0.97505, 'x_r2_2': 0.87505} using model BoTorch.\n",
      "[INFO 04-06 14:48:33] ax.service.ax_client: Completed trial 1124 with data: {'Viable_Cross_Terms': (83, None)}.\n",
      "[INFO 04-06 14:48:33] ax.modelbridge.base: Leaving out out-of-design observations for arms: 729_0, 1035_0, 977_0, 489_0, 686_0, 1121_0, 775_0, 899_0\n",
      "[INFO 04-06 14:52:12] ax.service.ax_client: Generated new trial 1125 with parameters {'z_sh': 7, 'z_sh_1': 14, 'z_sh_2': 5, 'z_p2': 35, 'z_p2_1': 34, 'z_p2_2': 33, 'z_r2': 80, 'z_r2_1': 83, 'z_r2_2': 84, 'x_s': 0.5, 'x_s_1': 0.4, 'x_s_2': 0.3, 'x_p1': 0.607731, 'x_p1_1': 0.507731, 'x_p1_2': 0.407731, 'x_p2': 0.5, 'x_p2_1': 0.4, 'x_p2_2': 0.3, 'x_r2': 1.07669, 'x_r2_1': 0.97669, 'x_r2_2': 0.87669} using model BoTorch.\n",
      "[INFO 04-06 14:52:12] ax.service.ax_client: Completed trial 1125 with data: {'Viable_Cross_Terms': (82, None)}.\n",
      "[INFO 04-06 14:52:13] ax.modelbridge.base: Leaving out out-of-design observations for arms: 729_0, 1035_0, 977_0, 489_0, 686_0, 1121_0, 775_0, 899_0\n",
      "[INFO 04-06 14:57:20] ax.service.ax_client: Generated new trial 1126 with parameters {'z_sh': 7, 'z_sh_1': 14, 'z_sh_2': 5, 'z_p2': 27, 'z_p2_1': 30, 'z_p2_2': 33, 'z_r2': 78, 'z_r2_1': 85, 'z_r2_2': 84, 'x_s': 0.496811, 'x_s_1': 0.246423, 'x_s_2': -0.109608, 'x_p1': 0.666467, 'x_p1_1': 0.566467, 'x_p1_2': 0.304781, 'x_p2': 0.396593, 'x_p2_1': 0.254769, 'x_p2_2': 0.122006, 'x_r2': 0.977317, 'x_r2_1': 0.877317, 'x_r2_2': 0.672085} using model BoTorch.\n",
      "[INFO 04-06 14:57:20] ax.service.ax_client: Completed trial 1126 with data: {'Viable_Cross_Terms': (21, None)}.\n",
      "[INFO 04-06 14:57:20] ax.modelbridge.base: Leaving out out-of-design observations for arms: 729_0, 1035_0, 977_0, 489_0, 686_0, 1121_0, 775_0, 899_0\n",
      "[INFO 04-06 15:01:18] ax.service.ax_client: Generated new trial 1127 with parameters {'z_sh': 7, 'z_sh_1': 8, 'z_sh_2': 5, 'z_p2': 34, 'z_p2_1': 34, 'z_p2_2': 33, 'z_r2': 80, 'z_r2_1': 73, 'z_r2_2': 71, 'x_s': 0.5, 'x_s_1': 0.4, 'x_s_2': 0.3, 'x_p1': 0.598372, 'x_p1_1': 0.498372, 'x_p1_2': 0.398372, 'x_p2': 0.5, 'x_p2_1': 0.4, 'x_p2_2': 0.3, 'x_r2': 1.069154, 'x_r2_1': 0.969154, 'x_r2_2': 0.869154} using model BoTorch.\n",
      "[INFO 04-06 15:01:18] ax.service.ax_client: Completed trial 1127 with data: {'Viable_Cross_Terms': (82, None)}.\n",
      "[INFO 04-06 15:01:20] ax.modelbridge.base: Leaving out out-of-design observations for arms: 729_0, 1035_0, 977_0, 489_0, 686_0, 1121_0, 775_0, 899_0\n",
      "[INFO 04-06 15:05:11] ax.service.ax_client: Generated new trial 1128 with parameters {'z_sh': 9, 'z_sh_1': 10, 'z_sh_2': 5, 'z_p2': 30, 'z_p2_1': 28, 'z_p2_2': 30, 'z_r2': 80, 'z_r2_1': 78, 'z_r2_2': 79, 'x_s': 0.5, 'x_s_1': 0.4, 'x_s_2': 0.3, 'x_p1': 0.613669, 'x_p1_1': 0.513669, 'x_p1_2': 0.413669, 'x_p2': 0.5, 'x_p2_1': 0.4, 'x_p2_2': 0.3, 'x_r2': 1.086941, 'x_r2_1': 0.986941, 'x_r2_2': 0.886941} using model BoTorch.\n",
      "[INFO 04-06 15:05:11] ax.service.ax_client: Completed trial 1128 with data: {'Viable_Cross_Terms': (79, None)}.\n",
      "[INFO 04-06 15:05:12] ax.modelbridge.base: Leaving out out-of-design observations for arms: 729_0, 1035_0, 977_0, 489_0, 686_0, 1121_0, 775_0, 899_0\n",
      "[INFO 04-06 15:11:27] ax.service.ax_client: Generated new trial 1129 with parameters {'z_sh': 7, 'z_sh_1': 6, 'z_sh_2': 5, 'z_p2': 31, 'z_p2_1': 26, 'z_p2_2': 33, 'z_r2': 81, 'z_r2_1': 85, 'z_r2_2': 84, 'x_s': 0.5, 'x_s_1': 0.4, 'x_s_2': 0.280631, 'x_p1': 0.63253, 'x_p1_1': 0.513584, 'x_p1_2': 0.413584, 'x_p2': 0.424021, 'x_p2_1': 0.324021, 'x_p2_2': 0.224021, 'x_r2': 0.915086, 'x_r2_1': 0.815086, 'x_r2_2': 0.715086} using model BoTorch.\n",
      "[INFO 04-06 15:11:27] ax.service.ax_client: Completed trial 1129 with data: {'Viable_Cross_Terms': (32, None)}.\n",
      "[INFO 04-06 15:11:28] ax.modelbridge.base: Leaving out out-of-design observations for arms: 729_0, 1035_0, 977_0, 489_0, 686_0, 1121_0, 775_0, 899_0\n",
      "[INFO 04-06 15:15:27] ax.service.ax_client: Generated new trial 1130 with parameters {'z_sh': 7, 'z_sh_1': 6, 'z_sh_2': 5, 'z_p2': 35, 'z_p2_1': 33, 'z_p2_2': 29, 'z_r2': 80, 'z_r2_1': 72, 'z_r2_2': 78, 'x_s': 0.5, 'x_s_1': 0.4, 'x_s_2': 0.3, 'x_p1': 0.625529, 'x_p1_1': 0.525529, 'x_p1_2': 0.425529, 'x_p2': 0.5, 'x_p2_1': 0.4, 'x_p2_2': 0.3, 'x_r2': 1.094898, 'x_r2_1': 0.994898, 'x_r2_2': 0.894898} using model BoTorch.\n",
      "[INFO 04-06 15:15:27] ax.service.ax_client: Completed trial 1130 with data: {'Viable_Cross_Terms': (79, None)}.\n",
      "[INFO 04-06 15:15:28] ax.modelbridge.base: Leaving out out-of-design observations for arms: 729_0, 1035_0, 977_0, 489_0, 686_0, 1121_0, 775_0, 899_0\n",
      "[INFO 04-06 15:19:44] ax.service.ax_client: Generated new trial 1131 with parameters {'z_sh': 7, 'z_sh_1': 12, 'z_sh_2': 5, 'z_p2': 31, 'z_p2_1': 27, 'z_p2_2': 31, 'z_r2': 80, 'z_r2_1': 72, 'z_r2_2': 74, 'x_s': 0.5, 'x_s_1': 0.4, 'x_s_2': 0.3, 'x_p1': 0.679856, 'x_p1_1': 0.579856, 'x_p1_2': 0.479856, 'x_p2': 0.391251, 'x_p2_1': 0.291251, 'x_p2_2': -0.346532, 'x_r2': 0.987659, 'x_r2_1': 0.887659, 'x_r2_2': 0.485682} using model BoTorch.\n",
      "[INFO 04-06 15:19:44] ax.service.ax_client: Completed trial 1131 with data: {'Viable_Cross_Terms': (58, None)}.\n",
      "[INFO 04-06 15:19:44] ax.modelbridge.base: Leaving out out-of-design observations for arms: 729_0, 1035_0, 977_0, 489_0, 686_0, 1121_0, 775_0, 899_0\n",
      "[INFO 04-06 15:23:51] ax.service.ax_client: Generated new trial 1132 with parameters {'z_sh': 8, 'z_sh_1': 12, 'z_sh_2': 13, 'z_p2': 28, 'z_p2_1': 34, 'z_p2_2': 29, 'z_r2': 85, 'z_r2_1': 81, 'z_r2_2': 77, 'x_s': 0.5, 'x_s_1': 0.4, 'x_s_2': 0.3, 'x_p1': 0.482801, 'x_p1_1': 0.382801, 'x_p1_2': 0.282801, 'x_p2': 0.5, 'x_p2_1': 0.4, 'x_p2_2': 0.3, 'x_r2': 0.785966, 'x_r2_1': 0.685966, 'x_r2_2': 0.585966} using model BoTorch.\n",
      "[INFO 04-06 15:23:51] ax.service.ax_client: Completed trial 1132 with data: {'Viable_Cross_Terms': (31, None)}.\n",
      "[INFO 04-06 15:23:52] ax.modelbridge.base: Leaving out out-of-design observations for arms: 729_0, 1035_0, 977_0, 489_0, 686_0, 1121_0, 775_0, 899_0\n",
      "[INFO 04-06 15:27:12] ax.service.ax_client: Generated new trial 1133 with parameters {'z_sh': 7, 'z_sh_1': 6, 'z_sh_2': 5, 'z_p2': 27, 'z_p2_1': 28, 'z_p2_2': 25, 'z_r2': 77, 'z_r2_1': 78, 'z_r2_2': 83, 'x_s': 0.5, 'x_s_1': 0.4, 'x_s_2': 0.3, 'x_p1': 0.589155, 'x_p1_1': 0.489155, 'x_p1_2': 0.389155, 'x_p2': 0.5, 'x_p2_1': 0.4, 'x_p2_2': 0.3, 'x_r2': 0.946893, 'x_r2_1': 0.846893, 'x_r2_2': 0.746893} using model BoTorch.\n",
      "[INFO 04-06 15:27:12] ax.service.ax_client: Completed trial 1133 with data: {'Viable_Cross_Terms': (34, None)}.\n",
      "[INFO 04-06 15:27:13] ax.modelbridge.base: Leaving out out-of-design observations for arms: 729_0, 1035_0, 977_0, 489_0, 686_0, 1121_0, 775_0, 899_0\n",
      "[INFO 04-06 15:31:18] ax.service.ax_client: Generated new trial 1134 with parameters {'z_sh': 7, 'z_sh_1': 14, 'z_sh_2': 5, 'z_p2': 27, 'z_p2_1': 34, 'z_p2_2': 31, 'z_r2': 85, 'z_r2_1': 84, 'z_r2_2': 84, 'x_s': 0.5, 'x_s_1': 0.4, 'x_s_2': 0.3, 'x_p1': 0.784515, 'x_p1_1': 0.684515, 'x_p1_2': 0.584515, 'x_p2': 0.5, 'x_p2_1': 0.4, 'x_p2_2': 0.3, 'x_r2': 1.073825, 'x_r2_1': 0.973825, 'x_r2_2': 0.873825} using model BoTorch.\n",
      "[INFO 04-06 15:31:18] ax.service.ax_client: Completed trial 1134 with data: {'Viable_Cross_Terms': (34, None)}.\n",
      "[INFO 04-06 15:31:19] ax.modelbridge.base: Leaving out out-of-design observations for arms: 729_0, 1035_0, 977_0, 489_0, 686_0, 1121_0, 775_0, 899_0\n",
      "[INFO 04-06 15:35:12] ax.service.ax_client: Generated new trial 1135 with parameters {'z_sh': 7, 'z_sh_1': 14, 'z_sh_2': 5, 'z_p2': 27, 'z_p2_1': 29, 'z_p2_2': 33, 'z_r2': 80, 'z_r2_1': 78, 'z_r2_2': 82, 'x_s': 0.5, 'x_s_1': 0.4, 'x_s_2': 0.3, 'x_p1': 0.607564, 'x_p1_1': 0.507564, 'x_p1_2': 0.407564, 'x_p2': 0.5, 'x_p2_1': 0.4, 'x_p2_2': 0.3, 'x_r2': 1.079702, 'x_r2_1': 0.979702, 'x_r2_2': 0.879702} using model BoTorch.\n",
      "[INFO 04-06 15:35:12] ax.service.ax_client: Completed trial 1135 with data: {'Viable_Cross_Terms': (80, None)}.\n",
      "[INFO 04-06 15:35:13] ax.modelbridge.base: Leaving out out-of-design observations for arms: 729_0, 1035_0, 977_0, 489_0, 686_0, 1121_0, 775_0, 899_0\n",
      "[INFO 04-06 15:39:09] ax.service.ax_client: Generated new trial 1136 with parameters {'z_sh': 7, 'z_sh_1': 6, 'z_sh_2': 5, 'z_p2': 27, 'z_p2_1': 34, 'z_p2_2': 33, 'z_r2': 80, 'z_r2_1': 71, 'z_r2_2': 84, 'x_s': 0.5, 'x_s_1': 0.4, 'x_s_2': 0.3, 'x_p1': 0.616847, 'x_p1_1': 0.516847, 'x_p1_2': 0.416847, 'x_p2': 0.5, 'x_p2_1': 0.4, 'x_p2_2': 0.3, 'x_r2': 1.079717, 'x_r2_1': 0.979717, 'x_r2_2': 0.879717} using model BoTorch.\n",
      "[INFO 04-06 15:39:09] ax.service.ax_client: Completed trial 1136 with data: {'Viable_Cross_Terms': (84, None)}.\n",
      "[INFO 04-06 15:39:10] ax.modelbridge.base: Leaving out out-of-design observations for arms: 729_0, 1035_0, 977_0, 489_0, 686_0, 1121_0, 775_0, 899_0\n",
      "[INFO 04-06 15:43:17] ax.service.ax_client: Generated new trial 1137 with parameters {'z_sh': 9, 'z_sh_1': 7, 'z_sh_2': 9, 'z_p2': 28, 'z_p2_1': 33, 'z_p2_2': 26, 'z_r2': 85, 'z_r2_1': 77, 'z_r2_2': 71, 'x_s': 0.5, 'x_s_1': 0.4, 'x_s_2': 0.3, 'x_p1': 0.642286, 'x_p1_1': 0.542286, 'x_p1_2': 0.442286, 'x_p2': 0.5, 'x_p2_1': 0.4, 'x_p2_2': 0.3, 'x_r2': 0.940168, 'x_r2_1': 0.840168, 'x_r2_2': 0.740168} using model BoTorch.\n",
      "[INFO 04-06 15:43:17] ax.service.ax_client: Completed trial 1137 with data: {'Viable_Cross_Terms': (30, None)}.\n",
      "[INFO 04-06 15:43:18] ax.modelbridge.base: Leaving out out-of-design observations for arms: 729_0, 1035_0, 977_0, 489_0, 686_0, 1121_0, 775_0, 899_0\n",
      "[INFO 04-06 15:48:41] ax.service.ax_client: Generated new trial 1138 with parameters {'z_sh': 7, 'z_sh_1': 9, 'z_sh_2': 5, 'z_p2': 35, 'z_p2_1': 27, 'z_p2_2': 27, 'z_r2': 78, 'z_r2_1': 74, 'z_r2_2': 82, 'x_s': 0.5, 'x_s_1': 0.4, 'x_s_2': 0.3, 'x_p1': 0.542277, 'x_p1_1': 0.407446, 'x_p1_2': 0.307446, 'x_p2': 0.438516, 'x_p2_1': 0.338516, 'x_p2_2': 0.238516, 'x_r2': 0.986969, 'x_r2_1': 0.882994, 'x_r2_2': 0.712235} using model BoTorch.\n",
      "[INFO 04-06 15:48:41] ax.service.ax_client: Completed trial 1138 with data: {'Viable_Cross_Terms': (36, None)}.\n",
      "[INFO 04-06 15:48:42] ax.modelbridge.base: Leaving out out-of-design observations for arms: 729_0, 1035_0, 977_0, 489_0, 686_0, 1121_0, 775_0, 899_0\n",
      "[INFO 04-06 15:52:33] ax.service.ax_client: Generated new trial 1139 with parameters {'z_sh': 7, 'z_sh_1': 6, 'z_sh_2': 5, 'z_p2': 27, 'z_p2_1': 28, 'z_p2_2': 25, 'z_r2': 77, 'z_r2_1': 83, 'z_r2_2': 83, 'x_s': 0.5, 'x_s_1': 0.4, 'x_s_2': 0.3, 'x_p1': 0.584505, 'x_p1_1': 0.484505, 'x_p1_2': 0.384505, 'x_p2': 0.5, 'x_p2_1': 0.4, 'x_p2_2': 0.3, 'x_r2': 0.962154, 'x_r2_1': 0.862154, 'x_r2_2': 0.762154} using model BoTorch.\n",
      "[INFO 04-06 15:52:33] ax.service.ax_client: Completed trial 1139 with data: {'Viable_Cross_Terms': (36, None)}.\n",
      "[INFO 04-06 15:52:34] ax.modelbridge.base: Leaving out out-of-design observations for arms: 729_0, 1035_0, 977_0, 489_0, 686_0, 1121_0, 775_0, 899_0\n",
      "[INFO 04-06 15:56:33] ax.service.ax_client: Generated new trial 1140 with parameters {'z_sh': 7, 'z_sh_1': 14, 'z_sh_2': 5, 'z_p2': 31, 'z_p2_1': 34, 'z_p2_2': 33, 'z_r2': 80, 'z_r2_1': 71, 'z_r2_2': 84, 'x_s': 0.5, 'x_s_1': 0.4, 'x_s_2': 0.3, 'x_p1': 0.611201, 'x_p1_1': 0.511201, 'x_p1_2': 0.411201, 'x_p2': 0.5, 'x_p2_1': 0.4, 'x_p2_2': 0.3, 'x_r2': 1.081208, 'x_r2_1': 0.981208, 'x_r2_2': 0.881208} using model BoTorch.\n",
      "[INFO 04-06 15:56:33] ax.service.ax_client: Completed trial 1140 with data: {'Viable_Cross_Terms': (89, None)}.\n",
      "[INFO 04-06 15:56:34] ax.modelbridge.base: Leaving out out-of-design observations for arms: 729_0, 1035_0, 977_0, 489_0, 686_0, 1121_0, 775_0, 899_0\n",
      "[INFO 04-06 16:00:22] ax.service.ax_client: Generated new trial 1141 with parameters {'z_sh': 7, 'z_sh_1': 14, 'z_sh_2': 5, 'z_p2': 35, 'z_p2_1': 34, 'z_p2_2': 33, 'z_r2': 80, 'z_r2_1': 71, 'z_r2_2': 84, 'x_s': 0.5, 'x_s_1': 0.4, 'x_s_2': 0.3, 'x_p1': 0.60983, 'x_p1_1': 0.50983, 'x_p1_2': 0.40983, 'x_p2': 0.5, 'x_p2_1': 0.4, 'x_p2_2': 0.3, 'x_r2': 1.081947, 'x_r2_1': 0.981947, 'x_r2_2': 0.881947} using model BoTorch.\n",
      "[INFO 04-06 16:00:22] ax.service.ax_client: Completed trial 1141 with data: {'Viable_Cross_Terms': (80, None)}.\n",
      "[INFO 04-06 16:00:23] ax.modelbridge.base: Leaving out out-of-design observations for arms: 729_0, 1035_0, 977_0, 489_0, 686_0, 1121_0, 775_0, 899_0\n",
      "[INFO 04-06 16:05:09] ax.service.ax_client: Generated new trial 1142 with parameters {'z_sh': 7, 'z_sh_1': 13, 'z_sh_2': 5, 'z_p2': 35, 'z_p2_1': 27, 'z_p2_2': 29, 'z_r2': 80, 'z_r2_1': 76, 'z_r2_2': 78, 'x_s': 0.5, 'x_s_1': 0.4, 'x_s_2': 0.3, 'x_p1': 0.965027, 'x_p1_1': -0.380235, 'x_p1_2': -0.480235, 'x_p2': 0.5, 'x_p2_1': 0.4, 'x_p2_2': 0.3, 'x_r2': 1.279408, 'x_r2_1': 1.179408, 'x_r2_2': 1.079408} using model BoTorch.\n",
      "[INFO 04-06 16:05:09] ax.service.ax_client: Completed trial 1142 with data: {'Viable_Cross_Terms': (29, None)}.\n",
      "[INFO 04-06 16:05:10] ax.modelbridge.base: Leaving out out-of-design observations for arms: 729_0, 1035_0, 977_0, 489_0, 686_0, 1121_0, 775_0, 899_0\n",
      "[INFO 04-06 16:10:10] ax.service.ax_client: Generated new trial 1143 with parameters {'z_sh': 10, 'z_sh_1': 8, 'z_sh_2': 9, 'z_p2': 28, 'z_p2_1': 32, 'z_p2_2': 28, 'z_r2': 79, 'z_r2_1': 83, 'z_r2_2': 73, 'x_s': 0.5, 'x_s_1': 0.4, 'x_s_2': -0.5, 'x_p1': 0.807746, 'x_p1_1': 0.707746, 'x_p1_2': 0.607746, 'x_p2': 0.322251, 'x_p2_1': -0.34504, 'x_p2_2': -0.44504, 'x_r2': 0.761729, 'x_r2_1': 0.661729, 'x_r2_2': -1.261217} using model BoTorch.\n",
      "[INFO 04-06 16:10:10] ax.service.ax_client: Completed trial 1143 with data: {'Viable_Cross_Terms': (0, None)}.\n",
      "[INFO 04-06 16:10:10] ax.modelbridge.base: Leaving out out-of-design observations for arms: 729_0, 1035_0, 977_0, 489_0, 686_0, 1121_0, 775_0, 899_0\n",
      "[INFO 04-06 16:14:13] ax.service.ax_client: Generated new trial 1144 with parameters {'z_sh': 7, 'z_sh_1': 6, 'z_sh_2': 5, 'z_p2': 34, 'z_p2_1': 34, 'z_p2_2': 32, 'z_r2': 80, 'z_r2_1': 71, 'z_r2_2': 83, 'x_s': 0.5, 'x_s_1': 0.4, 'x_s_2': 0.3, 'x_p1': 0.606928, 'x_p1_1': 0.506928, 'x_p1_2': 0.406928, 'x_p2': 0.5, 'x_p2_1': 0.4, 'x_p2_2': 0.3, 'x_r2': 1.073924, 'x_r2_1': 0.973924, 'x_r2_2': 0.873924} using model BoTorch.\n",
      "[INFO 04-06 16:14:13] ax.service.ax_client: Completed trial 1144 with data: {'Viable_Cross_Terms': (82, None)}.\n",
      "[INFO 04-06 16:14:14] ax.modelbridge.base: Leaving out out-of-design observations for arms: 729_0, 1035_0, 977_0, 489_0, 686_0, 1121_0, 775_0, 899_0\n",
      "[INFO 04-06 16:18:22] ax.service.ax_client: Generated new trial 1145 with parameters {'z_sh': 11, 'z_sh_1': 10, 'z_sh_2': 5, 'z_p2': 32, 'z_p2_1': 27, 'z_p2_2': 31, 'z_r2': 78, 'z_r2_1': 77, 'z_r2_2': 70, 'x_s': 0.5, 'x_s_1': 0.4, 'x_s_2': 0.3, 'x_p1': 0.545338, 'x_p1_1': 0.445338, 'x_p1_2': 0.345338, 'x_p2': 0.5, 'x_p2_1': 0.4, 'x_p2_2': 0.3, 'x_r2': 0.97123, 'x_r2_1': 0.87123, 'x_r2_2': 0.77123} using model BoTorch.\n",
      "[INFO 04-06 16:18:22] ax.service.ax_client: Completed trial 1145 with data: {'Viable_Cross_Terms': (41, None)}.\n",
      "[INFO 04-06 16:18:23] ax.modelbridge.base: Leaving out out-of-design observations for arms: 729_0, 1035_0, 977_0, 489_0, 686_0, 1121_0, 775_0, 899_0\n",
      "[INFO 04-06 16:22:32] ax.service.ax_client: Generated new trial 1146 with parameters {'z_sh': 7, 'z_sh_1': 12, 'z_sh_2': 5, 'z_p2': 35, 'z_p2_1': 34, 'z_p2_2': 33, 'z_r2': 80, 'z_r2_1': 85, 'z_r2_2': 84, 'x_s': 0.5, 'x_s_1': 0.4, 'x_s_2': 0.3, 'x_p1': 0.611951, 'x_p1_1': 0.511951, 'x_p1_2': 0.411951, 'x_p2': 0.5, 'x_p2_1': 0.4, 'x_p2_2': 0.3, 'x_r2': 1.075624, 'x_r2_1': 0.975624, 'x_r2_2': 0.875624} using model BoTorch.\n",
      "[INFO 04-06 16:22:32] ax.service.ax_client: Completed trial 1146 with data: {'Viable_Cross_Terms': (84, None)}.\n",
      "[INFO 04-06 16:22:33] ax.modelbridge.base: Leaving out out-of-design observations for arms: 729_0, 1035_0, 977_0, 489_0, 686_0, 1121_0, 775_0, 899_0\n",
      "[INFO 04-06 16:26:33] ax.service.ax_client: Generated new trial 1147 with parameters {'z_sh': 7, 'z_sh_1': 6, 'z_sh_2': 5, 'z_p2': 34, 'z_p2_1': 33, 'z_p2_2': 32, 'z_r2': 80, 'z_r2_1': 71, 'z_r2_2': 84, 'x_s': 0.5, 'x_s_1': 0.4, 'x_s_2': 0.3, 'x_p1': 0.606881, 'x_p1_1': 0.506881, 'x_p1_2': 0.406881, 'x_p2': 0.5, 'x_p2_1': 0.4, 'x_p2_2': 0.3, 'x_r2': 1.070556, 'x_r2_1': 0.970556, 'x_r2_2': 0.870556} using model BoTorch.\n",
      "[INFO 04-06 16:26:33] ax.service.ax_client: Completed trial 1147 with data: {'Viable_Cross_Terms': (83, None)}.\n",
      "[INFO 04-06 16:26:34] ax.modelbridge.base: Leaving out out-of-design observations for arms: 729_0, 1035_0, 977_0, 489_0, 686_0, 1121_0, 775_0, 899_0\n",
      "[INFO 04-06 16:30:41] ax.service.ax_client: Generated new trial 1148 with parameters {'z_sh': 7, 'z_sh_1': 6, 'z_sh_2': 5, 'z_p2': 35, 'z_p2_1': 34, 'z_p2_2': 33, 'z_r2': 80, 'z_r2_1': 75, 'z_r2_2': 84, 'x_s': 0.5, 'x_s_1': 0.4, 'x_s_2': 0.3, 'x_p1': 0.608517, 'x_p1_1': 0.508517, 'x_p1_2': 0.408517, 'x_p2': 0.5, 'x_p2_1': 0.4, 'x_p2_2': 0.3, 'x_r2': 1.071323, 'x_r2_1': 0.971323, 'x_r2_2': 0.871323} using model BoTorch.\n",
      "[INFO 04-06 16:30:41] ax.service.ax_client: Completed trial 1148 with data: {'Viable_Cross_Terms': (83, None)}.\n",
      "[INFO 04-06 16:30:42] ax.modelbridge.base: Leaving out out-of-design observations for arms: 729_0, 1035_0, 977_0, 489_0, 686_0, 1121_0, 775_0, 899_0\n",
      "[INFO 04-06 16:34:34] ax.service.ax_client: Generated new trial 1149 with parameters {'z_sh': 7, 'z_sh_1': 6, 'z_sh_2': 5, 'z_p2': 32, 'z_p2_1': 34, 'z_p2_2': 33, 'z_r2': 80, 'z_r2_1': 84, 'z_r2_2': 84, 'x_s': 0.5, 'x_s_1': 0.4, 'x_s_2': 0.3, 'x_p1': 0.590962, 'x_p1_1': 0.490962, 'x_p1_2': 0.390962, 'x_p2': 0.5, 'x_p2_1': 0.4, 'x_p2_2': 0.3, 'x_r2': 1.063895, 'x_r2_1': 0.963895, 'x_r2_2': 0.863895} using model BoTorch.\n",
      "[INFO 04-06 16:34:34] ax.service.ax_client: Completed trial 1149 with data: {'Viable_Cross_Terms': (82, None)}.\n",
      "[INFO 04-06 16:34:35] ax.modelbridge.base: Leaving out out-of-design observations for arms: 729_0, 1035_0, 977_0, 489_0, 686_0, 1121_0, 775_0, 899_0\n",
      "[INFO 04-06 16:38:43] ax.service.ax_client: Generated new trial 1150 with parameters {'z_sh': 7, 'z_sh_1': 14, 'z_sh_2': 5, 'z_p2': 27, 'z_p2_1': 27, 'z_p2_2': 26, 'z_r2': 85, 'z_r2_1': 80, 'z_r2_2': 84, 'x_s': 0.5, 'x_s_1': 0.4, 'x_s_2': 0.3, 'x_p1': 0.789057, 'x_p1_1': 0.689057, 'x_p1_2': 0.589057, 'x_p2': 0.5, 'x_p2_1': 0.4, 'x_p2_2': 0.3, 'x_r2': 1.073922, 'x_r2_1': 0.973922, 'x_r2_2': 0.873922} using model BoTorch.\n",
      "[INFO 04-06 16:38:43] ax.service.ax_client: Completed trial 1150 with data: {'Viable_Cross_Terms': (82, None)}.\n",
      "[INFO 04-06 16:38:44] ax.modelbridge.base: Leaving out out-of-design observations for arms: 729_0, 1035_0, 977_0, 489_0, 686_0, 1121_0, 775_0, 899_0\n",
      "[INFO 04-06 16:42:40] ax.service.ax_client: Generated new trial 1151 with parameters {'z_sh': 7, 'z_sh_1': 6, 'z_sh_2': 5, 'z_p2': 35, 'z_p2_1': 34, 'z_p2_2': 33, 'z_r2': 80, 'z_r2_1': 76, 'z_r2_2': 84, 'x_s': 0.5, 'x_s_1': 0.4, 'x_s_2': 0.3, 'x_p1': 0.607995, 'x_p1_1': 0.507995, 'x_p1_2': 0.407995, 'x_p2': 0.5, 'x_p2_1': 0.4, 'x_p2_2': 0.3, 'x_r2': 1.07595, 'x_r2_1': 0.97595, 'x_r2_2': 0.87595} using model BoTorch.\n",
      "[INFO 04-06 16:42:40] ax.service.ax_client: Completed trial 1151 with data: {'Viable_Cross_Terms': (83, None)}.\n",
      "[INFO 04-06 16:42:41] ax.modelbridge.base: Leaving out out-of-design observations for arms: 729_0, 1035_0, 977_0, 489_0, 686_0, 1121_0, 775_0, 899_0\n",
      "[INFO 04-06 16:47:50] ax.service.ax_client: Generated new trial 1152 with parameters {'z_sh': 7, 'z_sh_1': 10, 'z_sh_2': 5, 'z_p2': 27, 'z_p2_1': 29, 'z_p2_2': 33, 'z_r2': 82, 'z_r2_1': 77, 'z_r2_2': 83, 'x_s': 0.5, 'x_s_1': 0.4, 'x_s_2': 0.3, 'x_p1': 0.94376, 'x_p1_1': -0.546065, 'x_p1_2': -0.646065, 'x_p2': 0.273508, 'x_p2_1': 0.173508, 'x_p2_2': 0.073508, 'x_r2': 0.960621, 'x_r2_1': 0.860621, 'x_r2_2': 0.760621} using model BoTorch.\n",
      "[INFO 04-06 16:47:50] ax.service.ax_client: Completed trial 1152 with data: {'Viable_Cross_Terms': (19, None)}.\n",
      "[INFO 04-06 16:47:51] ax.modelbridge.base: Leaving out out-of-design observations for arms: 729_0, 1035_0, 977_0, 489_0, 686_0, 1121_0, 775_0, 899_0\n",
      "[INFO 04-06 16:52:03] ax.service.ax_client: Generated new trial 1153 with parameters {'z_sh': 9, 'z_sh_1': 12, 'z_sh_2': 5, 'z_p2': 29, 'z_p2_1': 32, 'z_p2_2': 26, 'z_r2': 78, 'z_r2_1': 76, 'z_r2_2': 83, 'x_s': 0.5, 'x_s_1': 0.4, 'x_s_2': 0.3, 'x_p1': 0.540091, 'x_p1_1': 0.440091, 'x_p1_2': 0.340091, 'x_p2': 0.5, 'x_p2_1': 0.4, 'x_p2_2': 0.3, 'x_r2': 0.975035, 'x_r2_1': 0.875035, 'x_r2_2': 0.775035} using model BoTorch.\n",
      "[INFO 04-06 16:52:03] ax.service.ax_client: Completed trial 1153 with data: {'Viable_Cross_Terms': (36, None)}.\n",
      "[INFO 04-06 16:52:04] ax.modelbridge.base: Leaving out out-of-design observations for arms: 729_0, 1035_0, 977_0, 489_0, 686_0, 1121_0, 775_0, 899_0\n",
      "[INFO 04-06 16:56:17] ax.service.ax_client: Generated new trial 1154 with parameters {'z_sh': 7, 'z_sh_1': 6, 'z_sh_2': 5, 'z_p2': 35, 'z_p2_1': 34, 'z_p2_2': 33, 'z_r2': 80, 'z_r2_1': 71, 'z_r2_2': 84, 'x_s': 0.5, 'x_s_1': 0.4, 'x_s_2': 0.3, 'x_p1': 0.608509, 'x_p1_1': 0.508509, 'x_p1_2': 0.408509, 'x_p2': 0.5, 'x_p2_1': 0.4, 'x_p2_2': 0.3, 'x_r2': 1.073824, 'x_r2_1': 0.973824, 'x_r2_2': 0.873824} using model BoTorch.\n",
      "[INFO 04-06 16:56:17] ax.service.ax_client: Completed trial 1154 with data: {'Viable_Cross_Terms': (82, None)}.\n",
      "[INFO 04-06 16:56:18] ax.modelbridge.base: Leaving out out-of-design observations for arms: 729_0, 1035_0, 977_0, 489_0, 686_0, 1121_0, 775_0, 899_0\n",
      "[INFO 04-06 17:00:22] ax.service.ax_client: Generated new trial 1155 with parameters {'z_sh': 7, 'z_sh_1': 9, 'z_sh_2': 5, 'z_p2': 30, 'z_p2_1': 26, 'z_p2_2': 31, 'z_r2': 80, 'z_r2_1': 75, 'z_r2_2': 75, 'x_s': 0.5, 'x_s_1': 0.4, 'x_s_2': 0.3, 'x_p1': 0.624724, 'x_p1_1': 0.524724, 'x_p1_2': 0.424724, 'x_p2': 0.5, 'x_p2_1': 0.4, 'x_p2_2': 0.3, 'x_r2': 1.061424, 'x_r2_1': 0.961424, 'x_r2_2': 0.861424} using model BoTorch.\n",
      "[INFO 04-06 17:00:22] ax.service.ax_client: Completed trial 1155 with data: {'Viable_Cross_Terms': (91, None)}.\n",
      "[INFO 04-06 17:00:23] ax.modelbridge.base: Leaving out out-of-design observations for arms: 729_0, 1035_0, 977_0, 489_0, 686_0, 1155_0, 1121_0, 775_0, 899_0\n",
      "[INFO 04-06 17:03:03] ax.service.ax_client: Generated new trial 1156 with parameters {'z_sh': 12, 'z_sh_1': 13, 'z_sh_2': 10, 'z_p2': 35, 'z_p2_1': 27, 'z_p2_2': 28, 'z_r2': 78, 'z_r2_1': 75, 'z_r2_2': 79, 'x_s': 0.5, 'x_s_1': 0.4, 'x_s_2': 0.3, 'x_p1': 0.534974, 'x_p1_1': 0.434974, 'x_p1_2': 0.334974, 'x_p2': 0.5, 'x_p2_1': 0.4, 'x_p2_2': 0.3, 'x_r2': 0.917198, 'x_r2_1': 0.817198, 'x_r2_2': 0.717198} using model BoTorch.\n",
      "[INFO 04-06 17:03:03] ax.service.ax_client: Completed trial 1156 with data: {'Viable_Cross_Terms': (34, None)}.\n",
      "[INFO 04-06 17:03:04] ax.modelbridge.base: Leaving out out-of-design observations for arms: 729_0, 1035_0, 977_0, 489_0, 686_0, 1155_0, 1121_0, 775_0, 899_0\n",
      "[INFO 04-06 17:07:44] ax.service.ax_client: Generated new trial 1157 with parameters {'z_sh': 7, 'z_sh_1': 12, 'z_sh_2': 5, 'z_p2': 28, 'z_p2_1': 31, 'z_p2_2': 27, 'z_r2': 80, 'z_r2_1': 74, 'z_r2_2': 77, 'x_s': 0.5, 'x_s_1': 0.4, 'x_s_2': 0.3, 'x_p1': 0.61465, 'x_p1_1': 0.514651, 'x_p1_2': 0.414651, 'x_p2': 0.5, 'x_p2_1': 0.4, 'x_p2_2': 0.3, 'x_r2': 1.072474, 'x_r2_1': 0.972474, 'x_r2_2': 0.872475} using model BoTorch.\n",
      "[INFO 04-06 17:07:44] ax.service.ax_client: Completed trial 1157 with data: {'Viable_Cross_Terms': (91, None)}.\n",
      "[INFO 04-06 17:07:45] ax.modelbridge.base: Leaving out out-of-design observations for arms: 729_0, 1035_0, 977_0, 489_0, 686_0, 1155_0, 1121_0, 1157_0, 775_0, 899_0\n",
      "[INFO 04-06 17:10:26] ax.service.ax_client: Generated new trial 1158 with parameters {'z_sh': 7, 'z_sh_1': 6, 'z_sh_2': 5, 'z_p2': 27, 'z_p2_1': 34, 'z_p2_2': 33, 'z_r2': 80, 'z_r2_1': 85, 'z_r2_2': 84, 'x_s': 0.5, 'x_s_1': 0.4, 'x_s_2': 0.3, 'x_p1': 0.624807, 'x_p1_1': 0.524807, 'x_p1_2': 0.424807, 'x_p2': 0.5, 'x_p2_1': 0.4, 'x_p2_2': 0.3, 'x_r2': 1.072991, 'x_r2_1': 0.972991, 'x_r2_2': 0.872991} using model BoTorch.\n",
      "[INFO 04-06 17:10:26] ax.service.ax_client: Completed trial 1158 with data: {'Viable_Cross_Terms': (81, None)}.\n",
      "[INFO 04-06 17:10:27] ax.modelbridge.base: Leaving out out-of-design observations for arms: 729_0, 1035_0, 977_0, 489_0, 686_0, 1155_0, 1121_0, 1157_0, 775_0, 899_0\n",
      "[INFO 04-06 17:13:53] ax.service.ax_client: Generated new trial 1159 with parameters {'z_sh': 7, 'z_sh_1': 6, 'z_sh_2': 5, 'z_p2': 35, 'z_p2_1': 34, 'z_p2_2': 33, 'z_r2': 80, 'z_r2_1': 71, 'z_r2_2': 78, 'x_s': 0.5, 'x_s_1': 0.4, 'x_s_2': 0.3, 'x_p1': 0.615834, 'x_p1_1': 0.515834, 'x_p1_2': 0.415834, 'x_p2': 0.5, 'x_p2_1': 0.4, 'x_p2_2': 0.3, 'x_r2': 1.079885, 'x_r2_1': 0.979885, 'x_r2_2': 0.879885} using model BoTorch.\n",
      "[INFO 04-06 17:13:53] ax.service.ax_client: Completed trial 1159 with data: {'Viable_Cross_Terms': (84, None)}.\n",
      "[INFO 04-06 17:13:54] ax.modelbridge.base: Leaving out out-of-design observations for arms: 729_0, 1035_0, 977_0, 489_0, 686_0, 1155_0, 1121_0, 1157_0, 775_0, 899_0\n",
      "[INFO 04-06 17:19:21] ax.service.ax_client: Generated new trial 1160 with parameters {'z_sh': 9, 'z_sh_1': 10, 'z_sh_2': 5, 'z_p2': 28, 'z_p2_1': 28, 'z_p2_2': 29, 'z_r2': 80, 'z_r2_1': 77, 'z_r2_2': 74, 'x_s': 0.5, 'x_s_1': 0.4, 'x_s_2': 0.3, 'x_p1': 1.0, 'x_p1_1': -0.388691, 'x_p1_2': -0.488691, 'x_p2': 0.330058, 'x_p2_1': 0.230058, 'x_p2_2': 0.130058, 'x_r2': 0.97947, 'x_r2_1': 0.87947, 'x_r2_2': -1.5} using model BoTorch.\n",
      "[INFO 04-06 17:19:21] ax.service.ax_client: Completed trial 1160 with data: {'Viable_Cross_Terms': (21, None)}.\n",
      "[INFO 04-06 17:19:21] ax.modelbridge.base: Leaving out out-of-design observations for arms: 729_0, 1035_0, 977_0, 489_0, 686_0, 1155_0, 1121_0, 1157_0, 775_0, 899_0\n",
      "[INFO 04-06 17:23:37] ax.service.ax_client: Generated new trial 1161 with parameters {'z_sh': 7, 'z_sh_1': 14, 'z_sh_2': 13, 'z_p2': 35, 'z_p2_1': 26, 'z_p2_2': 33, 'z_r2': 74, 'z_r2_1': 71, 'z_r2_2': 84, 'x_s': 0.5, 'x_s_1': 0.4, 'x_s_2': 0.3, 'x_p1': 1.0, 'x_p1_1': -0.9, 'x_p1_2': -1.0, 'x_p2': 0.5, 'x_p2_1': 0.4, 'x_p2_2': -0.5, 'x_r2': 1.5, 'x_r2_1': 1.4, 'x_r2_2': -1.5} using model BoTorch.\n",
      "[INFO 04-06 17:23:37] ax.service.ax_client: Completed trial 1161 with data: {'Viable_Cross_Terms': (0, None)}.\n",
      "[INFO 04-06 17:23:37] ax.modelbridge.base: Leaving out out-of-design observations for arms: 729_0, 1035_0, 977_0, 489_0, 686_0, 1155_0, 1121_0, 1157_0, 775_0, 899_0\n",
      "[INFO 04-06 17:28:00] ax.service.ax_client: Generated new trial 1162 with parameters {'z_sh': 7, 'z_sh_1': 6, 'z_sh_2': 5, 'z_p2': 27, 'z_p2_1': 34, 'z_p2_2': 33, 'z_r2': 80, 'z_r2_1': 85, 'z_r2_2': 84, 'x_s': 0.5, 'x_s_1': 0.4, 'x_s_2': 0.3, 'x_p1': 0.621777, 'x_p1_1': 0.521777, 'x_p1_2': 0.421777, 'x_p2': 0.5, 'x_p2_1': 0.4, 'x_p2_2': 0.3, 'x_r2': 1.067362, 'x_r2_1': 0.967362, 'x_r2_2': 0.867362} using model BoTorch.\n",
      "[INFO 04-06 17:28:00] ax.service.ax_client: Completed trial 1162 with data: {'Viable_Cross_Terms': (83, None)}.\n",
      "[INFO 04-06 17:28:00] ax.modelbridge.base: Leaving out out-of-design observations for arms: 729_0, 1035_0, 977_0, 489_0, 686_0, 1155_0, 1121_0, 1157_0, 775_0, 899_0\n",
      "[INFO 04-06 17:32:12] ax.service.ax_client: Generated new trial 1163 with parameters {'z_sh': 7, 'z_sh_1': 6, 'z_sh_2': 5, 'z_p2': 31, 'z_p2_1': 29, 'z_p2_2': 31, 'z_r2': 78, 'z_r2_1': 81, 'z_r2_2': 81, 'x_s': 0.5, 'x_s_1': 0.4, 'x_s_2': 0.3, 'x_p1': 1.0, 'x_p1_1': 0.9, 'x_p1_2': 0.8, 'x_p2': 0.5, 'x_p2_1': 0.4, 'x_p2_2': 0.3, 'x_r2': 1.5, 'x_r2_1': -1.4, 'x_r2_2': -1.5} using model BoTorch.\n",
      "[INFO 04-06 17:32:12] ax.service.ax_client: Completed trial 1163 with data: {'Viable_Cross_Terms': (3, None)}.\n",
      "[INFO 04-06 17:32:13] ax.modelbridge.base: Leaving out out-of-design observations for arms: 729_0, 1035_0, 977_0, 489_0, 686_0, 1155_0, 1121_0, 1157_0, 775_0, 899_0\n",
      "[INFO 04-06 17:36:02] ax.service.ax_client: Generated new trial 1164 with parameters {'z_sh': 7, 'z_sh_1': 14, 'z_sh_2': 5, 'z_p2': 27, 'z_p2_1': 34, 'z_p2_2': 33, 'z_r2': 80, 'z_r2_1': 71, 'z_r2_2': 70, 'x_s': 0.5, 'x_s_1': 0.4, 'x_s_2': 0.3, 'x_p1': 0.628862, 'x_p1_1': 0.528862, 'x_p1_2': 0.428862, 'x_p2': 0.5, 'x_p2_1': 0.4, 'x_p2_2': 0.3, 'x_r2': 1.089405, 'x_r2_1': 0.989405, 'x_r2_2': 0.889405} using model BoTorch.\n",
      "[INFO 04-06 17:36:02] ax.service.ax_client: Completed trial 1164 with data: {'Viable_Cross_Terms': (80, None)}.\n",
      "[INFO 04-06 17:36:03] ax.modelbridge.base: Leaving out out-of-design observations for arms: 729_0, 1035_0, 977_0, 489_0, 686_0, 1155_0, 1121_0, 1157_0, 775_0, 899_0\n",
      "[INFO 04-06 17:39:38] ax.service.ax_client: Generated new trial 1165 with parameters {'z_sh': 9, 'z_sh_1': 11, 'z_sh_2': 5, 'z_p2': 28, 'z_p2_1': 29, 'z_p2_2': 32, 'z_r2': 80, 'z_r2_1': 77, 'z_r2_2': 75, 'x_s': 0.5, 'x_s_1': 0.4, 'x_s_2': 0.3, 'x_p1': 0.608667, 'x_p1_1': 0.508667, 'x_p1_2': 0.408667, 'x_p2': 0.5, 'x_p2_1': 0.4, 'x_p2_2': 0.3, 'x_r2': 1.079342, 'x_r2_1': 0.979342, 'x_r2_2': 0.879342} using model BoTorch.\n",
      "[INFO 04-06 17:39:38] ax.service.ax_client: Completed trial 1165 with data: {'Viable_Cross_Terms': (81, None)}.\n",
      "[INFO 04-06 17:39:39] ax.modelbridge.base: Leaving out out-of-design observations for arms: 729_0, 1035_0, 977_0, 489_0, 686_0, 1155_0, 1121_0, 1157_0, 775_0, 899_0\n",
      "[INFO 04-06 17:43:59] ax.service.ax_client: Generated new trial 1166 with parameters {'z_sh': 7, 'z_sh_1': 6, 'z_sh_2': 5, 'z_p2': 35, 'z_p2_1': 34, 'z_p2_2': 33, 'z_r2': 80, 'z_r2_1': 71, 'z_r2_2': 84, 'x_s': 0.5, 'x_s_1': 0.4, 'x_s_2': 0.3, 'x_p1': 0.60669, 'x_p1_1': 0.50669, 'x_p1_2': 0.40669, 'x_p2': 0.5, 'x_p2_1': 0.4, 'x_p2_2': 0.3, 'x_r2': 1.076527, 'x_r2_1': 0.976527, 'x_r2_2': 0.876527} using model BoTorch.\n",
      "[INFO 04-06 17:43:59] ax.service.ax_client: Completed trial 1166 with data: {'Viable_Cross_Terms': (82, None)}.\n",
      "[INFO 04-06 17:44:00] ax.modelbridge.base: Leaving out out-of-design observations for arms: 729_0, 1035_0, 977_0, 489_0, 686_0, 1155_0, 1121_0, 1157_0, 775_0, 899_0\n",
      "[INFO 04-06 17:48:05] ax.service.ax_client: Generated new trial 1167 with parameters {'z_sh': 7, 'z_sh_1': 6, 'z_sh_2': 5, 'z_p2': 34, 'z_p2_1': 33, 'z_p2_2': 32, 'z_r2': 80, 'z_r2_1': 73, 'z_r2_2': 74, 'x_s': 0.5, 'x_s_1': 0.4, 'x_s_2': 0.3, 'x_p1': 0.637178, 'x_p1_1': 0.537178, 'x_p1_2': 0.437178, 'x_p2': 0.5, 'x_p2_1': 0.4, 'x_p2_2': 0.3, 'x_r2': 1.119399, 'x_r2_1': 1.019399, 'x_r2_2': 0.919399} using model BoTorch.\n",
      "[INFO 04-06 17:48:05] ax.service.ax_client: Completed trial 1167 with data: {'Viable_Cross_Terms': (80, None)}.\n",
      "[INFO 04-06 17:48:06] ax.modelbridge.base: Leaving out out-of-design observations for arms: 729_0, 1035_0, 977_0, 489_0, 686_0, 1155_0, 1121_0, 1157_0, 775_0, 899_0\n",
      "[INFO 04-06 17:52:16] ax.service.ax_client: Generated new trial 1168 with parameters {'z_sh': 7, 'z_sh_1': 6, 'z_sh_2': 5, 'z_p2': 35, 'z_p2_1': 34, 'z_p2_2': 33, 'z_r2': 80, 'z_r2_1': 85, 'z_r2_2': 84, 'x_s': 0.5, 'x_s_1': 0.4, 'x_s_2': 0.3, 'x_p1': 0.612487, 'x_p1_1': 0.512487, 'x_p1_2': 0.412487, 'x_p2': 0.5, 'x_p2_1': 0.4, 'x_p2_2': 0.3, 'x_r2': 1.076674, 'x_r2_1': 0.976674, 'x_r2_2': 0.876674} using model BoTorch.\n",
      "[INFO 04-06 17:52:16] ax.service.ax_client: Completed trial 1168 with data: {'Viable_Cross_Terms': (84, None)}.\n",
      "[INFO 04-06 17:52:17] ax.modelbridge.base: Leaving out out-of-design observations for arms: 729_0, 1035_0, 977_0, 489_0, 686_0, 1155_0, 1121_0, 1157_0, 775_0, 899_0\n",
      "[INFO 04-06 17:56:31] ax.service.ax_client: Generated new trial 1169 with parameters {'z_sh': 7, 'z_sh_1': 6, 'z_sh_2': 5, 'z_p2': 35, 'z_p2_1': 34, 'z_p2_2': 25, 'z_r2': 80, 'z_r2_1': 71, 'z_r2_2': 84, 'x_s': 0.5, 'x_s_1': 0.4, 'x_s_2': 0.3, 'x_p1': 0.608214, 'x_p1_1': 0.508214, 'x_p1_2': 0.408214, 'x_p2': 0.5, 'x_p2_1': 0.4, 'x_p2_2': 0.3, 'x_r2': 1.070641, 'x_r2_1': 0.970641, 'x_r2_2': 0.870641} using model BoTorch.\n",
      "[INFO 04-06 17:56:31] ax.service.ax_client: Completed trial 1169 with data: {'Viable_Cross_Terms': (83, None)}.\n",
      "[INFO 04-06 17:56:32] ax.modelbridge.base: Leaving out out-of-design observations for arms: 729_0, 1035_0, 977_0, 489_0, 686_0, 1155_0, 1121_0, 1157_0, 775_0, 899_0\n",
      "[INFO 04-06 18:01:06] ax.service.ax_client: Generated new trial 1170 with parameters {'z_sh': 7, 'z_sh_1': 14, 'z_sh_2': 5, 'z_p2': 27, 'z_p2_1': 26, 'z_p2_2': 25, 'z_r2': 85, 'z_r2_1': 77, 'z_r2_2': 84, 'x_s': 0.5, 'x_s_1': 0.4, 'x_s_2': 0.3, 'x_p1': 0.770176, 'x_p1_1': 0.670176, 'x_p1_2': 0.570176, 'x_p2': 0.5, 'x_p2_1': 0.4, 'x_p2_2': 0.3, 'x_r2': 1.062556, 'x_r2_1': 0.962556, 'x_r2_2': 0.862556} using model BoTorch.\n",
      "[INFO 04-06 18:01:06] ax.service.ax_client: Completed trial 1170 with data: {'Viable_Cross_Terms': (35, None)}.\n",
      "[INFO 04-06 18:01:07] ax.modelbridge.base: Leaving out out-of-design observations for arms: 729_0, 1035_0, 977_0, 489_0, 686_0, 1155_0, 1121_0, 1157_0, 775_0, 899_0\n",
      "[INFO 04-06 18:04:44] ax.service.ax_client: Generated new trial 1171 with parameters {'z_sh': 7, 'z_sh_1': 14, 'z_sh_2': 5, 'z_p2': 27, 'z_p2_1': 34, 'z_p2_2': 33, 'z_r2': 80, 'z_r2_1': 71, 'z_r2_2': 70, 'x_s': 0.5, 'x_s_1': 0.4, 'x_s_2': 0.3, 'x_p1': 0.610645, 'x_p1_1': 0.510645, 'x_p1_2': 0.410645, 'x_p2': 0.5, 'x_p2_1': 0.4, 'x_p2_2': 0.3, 'x_r2': 1.088572, 'x_r2_1': 0.988572, 'x_r2_2': 0.888572} using model BoTorch.\n",
      "[INFO 04-06 18:04:44] ax.service.ax_client: Completed trial 1171 with data: {'Viable_Cross_Terms': (77, None)}.\n",
      "[INFO 04-06 18:04:45] ax.modelbridge.base: Leaving out out-of-design observations for arms: 729_0, 1035_0, 977_0, 489_0, 686_0, 1155_0, 1121_0, 1157_0, 775_0, 899_0\n",
      "[INFO 04-06 18:09:29] ax.service.ax_client: Generated new trial 1172 with parameters {'z_sh': 7, 'z_sh_1': 7, 'z_sh_2': 5, 'z_p2': 28, 'z_p2_1': 30, 'z_p2_2': 25, 'z_r2': 82, 'z_r2_1': 73, 'z_r2_2': 82, 'x_s': 0.5, 'x_s_1': 0.4, 'x_s_2': 0.3, 'x_p1': -0.289231, 'x_p1_1': -0.389231, 'x_p1_2': -1.0, 'x_p2': 0.5, 'x_p2_1': -0.4, 'x_p2_2': -0.5, 'x_r2': 1.5, 'x_r2_1': -0.389315, 'x_r2_2': -1.5} using model BoTorch.\n",
      "[INFO 04-06 18:09:29] ax.service.ax_client: Completed trial 1172 with data: {'Viable_Cross_Terms': (9, None)}.\n",
      "[INFO 04-06 18:09:30] ax.modelbridge.base: Leaving out out-of-design observations for arms: 729_0, 1035_0, 977_0, 489_0, 686_0, 1155_0, 1121_0, 1157_0, 775_0, 899_0\n",
      "[INFO 04-06 18:13:19] ax.service.ax_client: Generated new trial 1173 with parameters {'z_sh': 7, 'z_sh_1': 14, 'z_sh_2': 5, 'z_p2': 27, 'z_p2_1': 26, 'z_p2_2': 33, 'z_r2': 80, 'z_r2_1': 85, 'z_r2_2': 84, 'x_s': 0.5, 'x_s_1': 0.4, 'x_s_2': 0.3, 'x_p1': 0.609202, 'x_p1_1': 0.509202, 'x_p1_2': 0.409202, 'x_p2': 0.5, 'x_p2_1': 0.4, 'x_p2_2': 0.3, 'x_r2': 1.093372, 'x_r2_1': 0.993372, 'x_r2_2': 0.893372} using model BoTorch.\n",
      "[INFO 04-06 18:13:19] ax.service.ax_client: Completed trial 1173 with data: {'Viable_Cross_Terms': (77, None)}.\n",
      "[INFO 04-06 18:13:20] ax.modelbridge.base: Leaving out out-of-design observations for arms: 729_0, 1035_0, 977_0, 489_0, 686_0, 1155_0, 1121_0, 1157_0, 775_0, 899_0\n",
      "[INFO 04-06 18:17:59] ax.service.ax_client: Generated new trial 1174 with parameters {'z_sh': 11, 'z_sh_1': 10, 'z_sh_2': 6, 'z_p2': 32, 'z_p2_1': 27, 'z_p2_2': 25, 'z_r2': 80, 'z_r2_1': 71, 'z_r2_2': 77, 'x_s': 0.5, 'x_s_1': 0.4, 'x_s_2': 0.3, 'x_p1': 0.609735, 'x_p1_1': 0.509735, 'x_p1_2': 0.409735, 'x_p2': 0.5, 'x_p2_1': 0.4, 'x_p2_2': 0.3, 'x_r2': 1.078553, 'x_r2_1': 0.978553, 'x_r2_2': 0.878553} using model BoTorch.\n",
      "[INFO 04-06 18:17:59] ax.service.ax_client: Completed trial 1174 with data: {'Viable_Cross_Terms': (35, None)}.\n",
      "[INFO 04-06 18:18:00] ax.modelbridge.base: Leaving out out-of-design observations for arms: 729_0, 1035_0, 977_0, 489_0, 686_0, 1155_0, 1121_0, 1157_0, 775_0, 899_0\n",
      "[INFO 04-06 18:22:38] ax.service.ax_client: Generated new trial 1175 with parameters {'z_sh': 7, 'z_sh_1': 6, 'z_sh_2': 5, 'z_p2': 35, 'z_p2_1': 34, 'z_p2_2': 33, 'z_r2': 80, 'z_r2_1': 85, 'z_r2_2': 84, 'x_s': 0.5, 'x_s_1': 0.4, 'x_s_2': 0.3, 'x_p1': 0.598563, 'x_p1_1': 0.498563, 'x_p1_2': 0.398563, 'x_p2': 0.5, 'x_p2_1': 0.4, 'x_p2_2': 0.3, 'x_r2': 1.07553, 'x_r2_1': 0.97553, 'x_r2_2': 0.87553} using model BoTorch.\n",
      "[INFO 04-06 18:22:38] ax.service.ax_client: Completed trial 1175 with data: {'Viable_Cross_Terms': (81, None)}.\n",
      "[INFO 04-06 18:22:39] ax.modelbridge.base: Leaving out out-of-design observations for arms: 729_0, 1035_0, 977_0, 489_0, 686_0, 1155_0, 1121_0, 1157_0, 775_0, 899_0\n",
      "[INFO 04-06 18:26:37] ax.service.ax_client: Generated new trial 1176 with parameters {'z_sh': 7, 'z_sh_1': 11, 'z_sh_2': 5, 'z_p2': 32, 'z_p2_1': 28, 'z_p2_2': 28, 'z_r2': 80, 'z_r2_1': 78, 'z_r2_2': 84, 'x_s': 0.5, 'x_s_1': 0.4, 'x_s_2': 0.3, 'x_p1': 0.601109, 'x_p1_1': 0.501109, 'x_p1_2': 0.401109, 'x_p2': 0.5, 'x_p2_1': 0.4, 'x_p2_2': 0.3, 'x_r2': 1.076939, 'x_r2_1': 0.976939, 'x_r2_2': 0.876939} using model BoTorch.\n",
      "[INFO 04-06 18:26:37] ax.service.ax_client: Completed trial 1176 with data: {'Viable_Cross_Terms': (81, None)}.\n",
      "[INFO 04-06 18:26:38] ax.modelbridge.base: Leaving out out-of-design observations for arms: 729_0, 1035_0, 977_0, 489_0, 686_0, 1155_0, 1121_0, 1157_0, 775_0, 899_0\n",
      "[INFO 04-06 18:30:38] ax.service.ax_client: Generated new trial 1177 with parameters {'z_sh': 7, 'z_sh_1': 8, 'z_sh_2': 5, 'z_p2': 34, 'z_p2_1': 33, 'z_p2_2': 32, 'z_r2': 80, 'z_r2_1': 72, 'z_r2_2': 79, 'x_s': 0.5, 'x_s_1': 0.4, 'x_s_2': 0.3, 'x_p1': 0.646392, 'x_p1_1': 0.546392, 'x_p1_2': 0.446392, 'x_p2': 0.5, 'x_p2_1': 0.4, 'x_p2_2': 0.3, 'x_r2': 1.128734, 'x_r2_1': 1.028734, 'x_r2_2': 0.928734} using model BoTorch.\n",
      "[INFO 04-06 18:30:38] ax.service.ax_client: Completed trial 1177 with data: {'Viable_Cross_Terms': (80, None)}.\n",
      "[INFO 04-06 18:30:40] ax.modelbridge.base: Leaving out out-of-design observations for arms: 729_0, 1035_0, 977_0, 489_0, 686_0, 1155_0, 1121_0, 1157_0, 775_0, 899_0\n",
      "[INFO 04-06 18:35:13] ax.service.ax_client: Generated new trial 1178 with parameters {'z_sh': 7, 'z_sh_1': 6, 'z_sh_2': 5, 'z_p2': 35, 'z_p2_1': 34, 'z_p2_2': 33, 'z_r2': 80, 'z_r2_1': 85, 'z_r2_2': 84, 'x_s': 0.5, 'x_s_1': 0.4, 'x_s_2': 0.3, 'x_p1': 0.629967, 'x_p1_1': 0.529967, 'x_p1_2': 0.429967, 'x_p2': 0.5, 'x_p2_1': 0.4, 'x_p2_2': 0.3, 'x_r2': 1.065634, 'x_r2_1': 0.965634, 'x_r2_2': 0.865634} using model BoTorch.\n",
      "[INFO 04-06 18:35:13] ax.service.ax_client: Completed trial 1178 with data: {'Viable_Cross_Terms': (84, None)}.\n",
      "[INFO 04-06 18:35:14] ax.modelbridge.base: Leaving out out-of-design observations for arms: 729_0, 1035_0, 977_0, 489_0, 686_0, 1155_0, 1121_0, 1157_0, 775_0, 899_0\n",
      "[INFO 04-06 18:39:31] ax.service.ax_client: Generated new trial 1179 with parameters {'z_sh': 7, 'z_sh_1': 14, 'z_sh_2': 5, 'z_p2': 27, 'z_p2_1': 26, 'z_p2_2': 25, 'z_r2': 85, 'z_r2_1': 85, 'z_r2_2': 84, 'x_s': 0.5, 'x_s_1': 0.4, 'x_s_2': 0.3, 'x_p1': 0.773503, 'x_p1_1': 0.673503, 'x_p1_2': 0.573503, 'x_p2': 0.5, 'x_p2_1': 0.4, 'x_p2_2': 0.3, 'x_r2': 1.064167, 'x_r2_1': 0.964167, 'x_r2_2': 0.864167} using model BoTorch.\n",
      "[INFO 04-06 18:39:31] ax.service.ax_client: Completed trial 1179 with data: {'Viable_Cross_Terms': (35, None)}.\n",
      "[INFO 04-06 18:39:32] ax.modelbridge.base: Leaving out out-of-design observations for arms: 729_0, 1035_0, 977_0, 489_0, 686_0, 1155_0, 1121_0, 1157_0, 775_0, 899_0\n",
      "[INFO 04-06 18:44:14] ax.service.ax_client: Generated new trial 1180 with parameters {'z_sh': 7, 'z_sh_1': 6, 'z_sh_2': 5, 'z_p2': 27, 'z_p2_1': 34, 'z_p2_2': 32, 'z_r2': 80, 'z_r2_1': 80, 'z_r2_2': 84, 'x_s': 0.5, 'x_s_1': 0.4, 'x_s_2': 0.3, 'x_p1': 0.631482, 'x_p1_1': 0.531482, 'x_p1_2': 0.431482, 'x_p2': 0.5, 'x_p2_1': 0.4, 'x_p2_2': 0.3, 'x_r2': 1.070343, 'x_r2_1': 0.970343, 'x_r2_2': 0.870343} using model BoTorch.\n",
      "[INFO 04-06 18:44:14] ax.service.ax_client: Completed trial 1180 with data: {'Viable_Cross_Terms': (82, None)}.\n",
      "[INFO 04-06 18:44:14] ax.modelbridge.base: Leaving out out-of-design observations for arms: 729_0, 1035_0, 977_0, 489_0, 686_0, 1155_0, 1121_0, 1157_0, 775_0, 899_0\n",
      "[INFO 04-06 18:50:02] ax.service.ax_client: Generated new trial 1181 with parameters {'z_sh': 7, 'z_sh_1': 6, 'z_sh_2': 5, 'z_p2': 27, 'z_p2_1': 34, 'z_p2_2': 33, 'z_r2': 80, 'z_r2_1': 72, 'z_r2_2': 84, 'x_s': 0.5, 'x_s_1': 0.4, 'x_s_2': 0.3, 'x_p1': 0.614319, 'x_p1_1': 0.514319, 'x_p1_2': 0.414319, 'x_p2': 0.5, 'x_p2_1': 0.4, 'x_p2_2': 0.3, 'x_r2': 1.073182, 'x_r2_1': 0.973182, 'x_r2_2': 0.873182} using model BoTorch.\n",
      "[INFO 04-06 18:50:02] ax.service.ax_client: Completed trial 1181 with data: {'Viable_Cross_Terms': (83, None)}.\n",
      "[INFO 04-06 18:50:03] ax.modelbridge.base: Leaving out out-of-design observations for arms: 729_0, 1035_0, 977_0, 489_0, 686_0, 1155_0, 1121_0, 1157_0, 775_0, 899_0\n",
      "[INFO 04-06 18:54:55] ax.service.ax_client: Generated new trial 1182 with parameters {'z_sh': 15, 'z_sh_1': 10, 'z_sh_2': 13, 'z_p2': 31, 'z_p2_1': 29, 'z_p2_2': 31, 'z_r2': 72, 'z_r2_1': 77, 'z_r2_2': 74, 'x_s': 0.5, 'x_s_1': 0.4, 'x_s_2': -0.5, 'x_p1': -0.350265, 'x_p1_1': -0.450265, 'x_p1_2': -1.0, 'x_p2': -0.3, 'x_p2_1': -0.4, 'x_p2_2': -0.5, 'x_r2': 1.5, 'x_r2_1': -0.685096, 'x_r2_2': -1.5} using model BoTorch.\n",
      "[INFO 04-06 18:54:55] ax.service.ax_client: Completed trial 1182 with data: {'Viable_Cross_Terms': (7, None)}.\n",
      "[INFO 04-06 18:54:56] ax.modelbridge.base: Leaving out out-of-design observations for arms: 729_0, 1035_0, 977_0, 489_0, 686_0, 1155_0, 1121_0, 1157_0, 775_0, 899_0\n",
      "[INFO 04-06 18:59:32] ax.service.ax_client: Generated new trial 1183 with parameters {'z_sh': 7, 'z_sh_1': 9, 'z_sh_2': 5, 'z_p2': 34, 'z_p2_1': 33, 'z_p2_2': 32, 'z_r2': 80, 'z_r2_1': 72, 'z_r2_2': 84, 'x_s': 0.5, 'x_s_1': 0.4, 'x_s_2': 0.3, 'x_p1': 0.560891, 'x_p1_1': 0.460891, 'x_p1_2': 0.360891, 'x_p2': 0.5, 'x_p2_1': 0.4, 'x_p2_2': 0.3, 'x_r2': 1.06076, 'x_r2_1': 0.96076, 'x_r2_2': 0.86076} using model BoTorch.\n",
      "[INFO 04-06 18:59:32] ax.service.ax_client: Completed trial 1183 with data: {'Viable_Cross_Terms': (76, None)}.\n",
      "[INFO 04-06 18:59:33] ax.modelbridge.base: Leaving out out-of-design observations for arms: 729_0, 1035_0, 977_0, 489_0, 686_0, 1155_0, 1121_0, 1157_0, 775_0, 899_0\n",
      "[INFO 04-06 19:03:53] ax.service.ax_client: Generated new trial 1184 with parameters {'z_sh': 7, 'z_sh_1': 6, 'z_sh_2': 5, 'z_p2': 34, 'z_p2_1': 33, 'z_p2_2': 32, 'z_r2': 80, 'z_r2_1': 71, 'z_r2_2': 74, 'x_s': 0.5, 'x_s_1': 0.4, 'x_s_2': 0.3, 'x_p1': 0.644952, 'x_p1_1': 0.544952, 'x_p1_2': 0.444952, 'x_p2': 0.5, 'x_p2_1': 0.4, 'x_p2_2': 0.3, 'x_r2': 1.070041, 'x_r2_1': 0.970041, 'x_r2_2': 0.870041} using model BoTorch.\n",
      "[INFO 04-06 19:03:53] ax.service.ax_client: Completed trial 1184 with data: {'Viable_Cross_Terms': (79, None)}.\n",
      "[INFO 04-06 19:03:54] ax.modelbridge.base: Leaving out out-of-design observations for arms: 729_0, 1035_0, 977_0, 489_0, 686_0, 1155_0, 1121_0, 1157_0, 775_0, 899_0\n",
      "[INFO 04-06 19:07:53] ax.service.ax_client: Generated new trial 1185 with parameters {'z_sh': 7, 'z_sh_1': 14, 'z_sh_2': 10, 'z_p2': 28, 'z_p2_1': 29, 'z_p2_2': 30, 'z_r2': 85, 'z_r2_1': 79, 'z_r2_2': 83, 'x_s': 0.5, 'x_s_1': 0.4, 'x_s_2': 0.3, 'x_p1': 0.657142, 'x_p1_1': 0.557142, 'x_p1_2': 0.457142, 'x_p2': 0.5, 'x_p2_1': 0.4, 'x_p2_2': 0.3, 'x_r2': 0.96422, 'x_r2_1': 0.86422, 'x_r2_2': 0.76422} using model BoTorch.\n",
      "[INFO 04-06 19:07:53] ax.service.ax_client: Completed trial 1185 with data: {'Viable_Cross_Terms': (32, None)}.\n",
      "[INFO 04-06 19:07:54] ax.modelbridge.base: Leaving out out-of-design observations for arms: 729_0, 1035_0, 977_0, 489_0, 686_0, 1155_0, 1121_0, 1157_0, 775_0, 899_0\n",
      "[INFO 04-06 19:12:54] ax.service.ax_client: Generated new trial 1186 with parameters {'z_sh': 9, 'z_sh_1': 11, 'z_sh_2': 7, 'z_p2': 34, 'z_p2_1': 31, 'z_p2_2': 27, 'z_r2': 85, 'z_r2_1': 79, 'z_r2_2': 77, 'x_s': 0.5, 'x_s_1': 0.4, 'x_s_2': 0.3, 'x_p1': 0.723869, 'x_p1_1': 0.623869, 'x_p1_2': 0.523869, 'x_p2': 0.5, 'x_p2_1': 0.4, 'x_p2_2': 0.3, 'x_r2': 1.027872, 'x_r2_1': 0.927872, 'x_r2_2': 0.827872} using model BoTorch.\n",
      "[INFO 04-06 19:12:54] ax.service.ax_client: Completed trial 1186 with data: {'Viable_Cross_Terms': (33, None)}.\n",
      "[INFO 04-06 19:12:54] ax.modelbridge.base: Leaving out out-of-design observations for arms: 729_0, 1035_0, 977_0, 489_0, 686_0, 1155_0, 1121_0, 1157_0, 775_0, 899_0\n",
      "[INFO 04-06 19:17:01] ax.service.ax_client: Generated new trial 1187 with parameters {'z_sh': 7, 'z_sh_1': 6, 'z_sh_2': 5, 'z_p2': 34, 'z_p2_1': 34, 'z_p2_2': 32, 'z_r2': 80, 'z_r2_1': 79, 'z_r2_2': 75, 'x_s': 0.5, 'x_s_1': 0.4, 'x_s_2': 0.3, 'x_p1': 0.598363, 'x_p1_1': 0.498363, 'x_p1_2': 0.398363, 'x_p2': 0.5, 'x_p2_1': 0.4, 'x_p2_2': 0.3, 'x_r2': 1.083756, 'x_r2_1': 0.983756, 'x_r2_2': 0.883756} using model BoTorch.\n",
      "[INFO 04-06 19:17:01] ax.service.ax_client: Completed trial 1187 with data: {'Viable_Cross_Terms': (81, None)}.\n",
      "[INFO 04-06 19:17:02] ax.modelbridge.base: Leaving out out-of-design observations for arms: 729_0, 1035_0, 977_0, 489_0, 686_0, 1155_0, 1121_0, 1157_0, 775_0, 899_0\n",
      "[INFO 04-06 19:21:27] ax.service.ax_client: Generated new trial 1188 with parameters {'z_sh': 7, 'z_sh_1': 6, 'z_sh_2': 5, 'z_p2': 34, 'z_p2_1': 33, 'z_p2_2': 32, 'z_r2': 80, 'z_r2_1': 79, 'z_r2_2': 83, 'x_s': 0.5, 'x_s_1': 0.4, 'x_s_2': 0.3, 'x_p1': 0.652213, 'x_p1_1': 0.552213, 'x_p1_2': 0.452213, 'x_p2': 0.5, 'x_p2_1': 0.4, 'x_p2_2': 0.3, 'x_r2': 1.125576, 'x_r2_1': 1.025576, 'x_r2_2': 0.925576} using model BoTorch.\n",
      "[INFO 04-06 19:21:27] ax.service.ax_client: Completed trial 1188 with data: {'Viable_Cross_Terms': (82, None)}.\n",
      "[INFO 04-06 19:21:27] ax.modelbridge.base: Leaving out out-of-design observations for arms: 729_0, 1035_0, 977_0, 489_0, 686_0, 1155_0, 1121_0, 1157_0, 775_0, 899_0\n",
      "[INFO 04-06 19:26:35] ax.service.ax_client: Generated new trial 1189 with parameters {'z_sh': 7, 'z_sh_1': 14, 'z_sh_2': 5, 'z_p2': 27, 'z_p2_1': 26, 'z_p2_2': 25, 'z_r2': 85, 'z_r2_1': 76, 'z_r2_2': 84, 'x_s': 0.5, 'x_s_1': 0.4, 'x_s_2': 0.3, 'x_p1': 0.780252, 'x_p1_1': 0.680252, 'x_p1_2': 0.580252, 'x_p2': 0.5, 'x_p2_1': 0.4, 'x_p2_2': 0.3, 'x_r2': 1.068063, 'x_r2_1': 0.968063, 'x_r2_2': 0.868063} using model BoTorch.\n",
      "[INFO 04-06 19:26:35] ax.service.ax_client: Completed trial 1189 with data: {'Viable_Cross_Terms': (37, None)}.\n",
      "[INFO 04-06 19:26:36] ax.modelbridge.base: Leaving out out-of-design observations for arms: 729_0, 1035_0, 977_0, 489_0, 686_0, 1155_0, 1121_0, 1157_0, 775_0, 899_0\n",
      "[INFO 04-06 19:31:36] ax.service.ax_client: Generated new trial 1190 with parameters {'z_sh': 7, 'z_sh_1': 14, 'z_sh_2': 5, 'z_p2': 27, 'z_p2_1': 26, 'z_p2_2': 28, 'z_r2': 85, 'z_r2_1': 83, 'z_r2_2': 84, 'x_s': 0.5, 'x_s_1': 0.4, 'x_s_2': 0.3, 'x_p1': 0.778752, 'x_p1_1': 0.678752, 'x_p1_2': 0.578752, 'x_p2': 0.5, 'x_p2_1': 0.4, 'x_p2_2': 0.3, 'x_r2': 1.069915, 'x_r2_1': 0.969915, 'x_r2_2': 0.869915} using model BoTorch.\n",
      "[INFO 04-06 19:31:36] ax.service.ax_client: Completed trial 1190 with data: {'Viable_Cross_Terms': (34, None)}.\n",
      "[INFO 04-06 19:31:36] ax.modelbridge.base: Leaving out out-of-design observations for arms: 729_0, 1035_0, 977_0, 489_0, 686_0, 1155_0, 1121_0, 1157_0, 775_0, 899_0\n",
      "[INFO 04-06 19:35:51] ax.service.ax_client: Generated new trial 1191 with parameters {'z_sh': 7, 'z_sh_1': 6, 'z_sh_2': 5, 'z_p2': 32, 'z_p2_1': 34, 'z_p2_2': 25, 'z_r2': 80, 'z_r2_1': 84, 'z_r2_2': 84, 'x_s': 0.5, 'x_s_1': 0.4, 'x_s_2': 0.3, 'x_p1': 0.617545, 'x_p1_1': 0.517545, 'x_p1_2': 0.417545, 'x_p2': 0.5, 'x_p2_1': 0.4, 'x_p2_2': 0.3, 'x_r2': 1.073247, 'x_r2_1': 0.973247, 'x_r2_2': 0.873247} using model BoTorch.\n",
      "[INFO 04-06 19:35:51] ax.service.ax_client: Completed trial 1191 with data: {'Viable_Cross_Terms': (83, None)}.\n",
      "[INFO 04-06 19:35:52] ax.modelbridge.base: Leaving out out-of-design observations for arms: 729_0, 1035_0, 977_0, 489_0, 686_0, 1155_0, 1121_0, 1157_0, 775_0, 899_0\n",
      "[INFO 04-06 19:40:09] ax.service.ax_client: Generated new trial 1192 with parameters {'z_sh': 7, 'z_sh_1': 10, 'z_sh_2': 5, 'z_p2': 35, 'z_p2_1': 34, 'z_p2_2': 32, 'z_r2': 80, 'z_r2_1': 79, 'z_r2_2': 74, 'x_s': 0.5, 'x_s_1': 0.4, 'x_s_2': 0.3, 'x_p1': 0.601855, 'x_p1_1': 0.501855, 'x_p1_2': 0.401855, 'x_p2': 0.5, 'x_p2_1': 0.4, 'x_p2_2': 0.3, 'x_r2': 1.060401, 'x_r2_1': 0.960401, 'x_r2_2': 0.860401} using model BoTorch.\n",
      "[INFO 04-06 19:40:09] ax.service.ax_client: Completed trial 1192 with data: {'Viable_Cross_Terms': (83, None)}.\n",
      "[INFO 04-06 19:40:09] ax.modelbridge.base: Leaving out out-of-design observations for arms: 729_0, 1035_0, 977_0, 489_0, 686_0, 1155_0, 1121_0, 1157_0, 775_0, 899_0\n",
      "[INFO 04-06 19:44:34] ax.service.ax_client: Generated new trial 1193 with parameters {'z_sh': 7, 'z_sh_1': 6, 'z_sh_2': 5, 'z_p2': 35, 'z_p2_1': 33, 'z_p2_2': 32, 'z_r2': 80, 'z_r2_1': 78, 'z_r2_2': 84, 'x_s': 0.5, 'x_s_1': 0.4, 'x_s_2': 0.3, 'x_p1': 0.643954, 'x_p1_1': 0.543954, 'x_p1_2': 0.443954, 'x_p2': 0.5, 'x_p2_1': 0.4, 'x_p2_2': 0.3, 'x_r2': 1.054841, 'x_r2_1': 0.954841, 'x_r2_2': 0.854841} using model BoTorch.\n",
      "[INFO 04-06 19:44:34] ax.service.ax_client: Completed trial 1193 with data: {'Viable_Cross_Terms': (84, None)}.\n",
      "[INFO 04-06 19:44:36] ax.modelbridge.base: Leaving out out-of-design observations for arms: 729_0, 1035_0, 977_0, 489_0, 686_0, 1155_0, 1121_0, 1157_0, 775_0, 899_0\n",
      "[INFO 04-06 19:48:42] ax.service.ax_client: Generated new trial 1194 with parameters {'z_sh': 13, 'z_sh_1': 7, 'z_sh_2': 5, 'z_p2': 31, 'z_p2_1': 30, 'z_p2_2': 28, 'z_r2': 80, 'z_r2_1': 75, 'z_r2_2': 78, 'x_s': 0.5, 'x_s_1': 0.4, 'x_s_2': 0.3, 'x_p1': 0.608764, 'x_p1_1': 0.508764, 'x_p1_2': 0.408764, 'x_p2': 0.5, 'x_p2_1': 0.4, 'x_p2_2': 0.3, 'x_r2': 1.084436, 'x_r2_1': 0.984436, 'x_r2_2': 0.884436} using model BoTorch.\n",
      "[INFO 04-06 19:48:42] ax.service.ax_client: Completed trial 1194 with data: {'Viable_Cross_Terms': (94, None)}.\n",
      "[INFO 04-06 19:48:42] ax.modelbridge.base: Leaving out out-of-design observations for arms: 729_0, 1035_0, 977_0, 489_0, 686_0, 1155_0, 1121_0, 1157_0, 775_0, 899_0\n",
      "[INFO 04-06 19:53:18] ax.service.ax_client: Generated new trial 1195 with parameters {'z_sh': 7, 'z_sh_1': 6, 'z_sh_2': 5, 'z_p2': 35, 'z_p2_1': 34, 'z_p2_2': 31, 'z_r2': 80, 'z_r2_1': 85, 'z_r2_2': 70, 'x_s': 0.5, 'x_s_1': 0.4, 'x_s_2': 0.3, 'x_p1': 0.608647, 'x_p1_1': 0.508647, 'x_p1_2': 0.408647, 'x_p2': 0.5, 'x_p2_1': 0.4, 'x_p2_2': 0.3, 'x_r2': 1.082105, 'x_r2_1': 0.982105, 'x_r2_2': 0.882105} using model BoTorch.\n",
      "[INFO 04-06 19:53:18] ax.service.ax_client: Completed trial 1195 with data: {'Viable_Cross_Terms': (90, None)}.\n",
      "[INFO 04-06 19:53:19] ax.modelbridge.base: Leaving out out-of-design observations for arms: 729_0, 1035_0, 977_0, 489_0, 686_0, 1155_0, 1121_0, 1157_0, 775_0, 899_0\n",
      "[INFO 04-06 19:58:02] ax.service.ax_client: Generated new trial 1196 with parameters {'z_sh': 7, 'z_sh_1': 6, 'z_sh_2': 5, 'z_p2': 33, 'z_p2_1': 34, 'z_p2_2': 25, 'z_r2': 80, 'z_r2_1': 85, 'z_r2_2': 84, 'x_s': 0.5, 'x_s_1': 0.4, 'x_s_2': 0.3, 'x_p1': 0.586718, 'x_p1_1': 0.486718, 'x_p1_2': 0.386718, 'x_p2': 0.5, 'x_p2_1': 0.4, 'x_p2_2': 0.3, 'x_r2': 1.099, 'x_r2_1': 0.999, 'x_r2_2': 0.899} using model BoTorch.\n",
      "[INFO 04-06 19:58:02] ax.service.ax_client: Completed trial 1196 with data: {'Viable_Cross_Terms': (72, None)}.\n",
      "[INFO 04-06 19:58:04] ax.modelbridge.base: Leaving out out-of-design observations for arms: 729_0, 1035_0, 977_0, 489_0, 686_0, 1155_0, 1121_0, 1157_0, 775_0, 899_0\n",
      "[INFO 04-06 20:02:22] ax.service.ax_client: Generated new trial 1197 with parameters {'z_sh': 7, 'z_sh_1': 6, 'z_sh_2': 5, 'z_p2': 30, 'z_p2_1': 34, 'z_p2_2': 33, 'z_r2': 80, 'z_r2_1': 81, 'z_r2_2': 84, 'x_s': 0.5, 'x_s_1': 0.4, 'x_s_2': 0.3, 'x_p1': 0.623137, 'x_p1_1': 0.523137, 'x_p1_2': 0.423137, 'x_p2': 0.5, 'x_p2_1': 0.4, 'x_p2_2': 0.3, 'x_r2': 1.088025, 'x_r2_1': 0.988025, 'x_r2_2': 0.888025} using model BoTorch.\n",
      "[INFO 04-06 20:02:22] ax.service.ax_client: Completed trial 1197 with data: {'Viable_Cross_Terms': (80, None)}.\n",
      "[INFO 04-06 20:02:22] ax.modelbridge.base: Leaving out out-of-design observations for arms: 729_0, 1035_0, 977_0, 489_0, 686_0, 1155_0, 1121_0, 1157_0, 775_0, 899_0\n",
      "[INFO 04-06 20:06:13] ax.service.ax_client: Generated new trial 1198 with parameters {'z_sh': 7, 'z_sh_1': 14, 'z_sh_2': 5, 'z_p2': 35, 'z_p2_1': 26, 'z_p2_2': 33, 'z_r2': 80, 'z_r2_1': 71, 'z_r2_2': 84, 'x_s': 0.5, 'x_s_1': 0.4, 'x_s_2': 0.3, 'x_p1': 0.573676, 'x_p1_1': 0.473676, 'x_p1_2': 0.373676, 'x_p2': 0.5, 'x_p2_1': 0.4, 'x_p2_2': 0.3, 'x_r2': 1.076266, 'x_r2_1': 0.976266, 'x_r2_2': 0.876266} using model BoTorch.\n",
      "[INFO 04-06 20:06:13] ax.service.ax_client: Completed trial 1198 with data: {'Viable_Cross_Terms': (72, None)}.\n",
      "[INFO 04-06 20:06:14] ax.modelbridge.base: Leaving out out-of-design observations for arms: 729_0, 1035_0, 977_0, 489_0, 686_0, 1155_0, 1121_0, 1157_0, 775_0, 899_0\n",
      "[INFO 04-06 20:12:02] ax.service.ax_client: Generated new trial 1199 with parameters {'z_sh': 7, 'z_sh_1': 6, 'z_sh_2': 5, 'z_p2': 27, 'z_p2_1': 34, 'z_p2_2': 32, 'z_r2': 80, 'z_r2_1': 77, 'z_r2_2': 84, 'x_s': 0.5, 'x_s_1': 0.4, 'x_s_2': 0.3, 'x_p1': 0.611507, 'x_p1_1': 0.511507, 'x_p1_2': 0.411507, 'x_p2': 0.5, 'x_p2_1': 0.4, 'x_p2_2': 0.3, 'x_r2': 1.073328, 'x_r2_1': 0.973328, 'x_r2_2': 0.873328} using model BoTorch.\n",
      "[INFO 04-06 20:12:02] ax.service.ax_client: Completed trial 1199 with data: {'Viable_Cross_Terms': (83, None)}.\n",
      "[INFO 04-06 20:12:03] ax.modelbridge.base: Leaving out out-of-design observations for arms: 729_0, 1035_0, 977_0, 489_0, 686_0, 1155_0, 1121_0, 1157_0, 775_0, 899_0\n",
      "[INFO 04-06 20:17:14] ax.service.ax_client: Generated new trial 1200 with parameters {'z_sh': 12, 'z_sh_1': 11, 'z_sh_2': 13, 'z_p2': 30, 'z_p2_1': 34, 'z_p2_2': 28, 'z_r2': 82, 'z_r2_1': 85, 'z_r2_2': 82, 'x_s': 0.5, 'x_s_1': 0.4, 'x_s_2': 0.3, 'x_p1': 0.534232, 'x_p1_1': 0.434232, 'x_p1_2': 0.334232, 'x_p2': 0.5, 'x_p2_1': 0.4, 'x_p2_2': 0.3, 'x_r2': 0.94972, 'x_r2_1': 0.84972, 'x_r2_2': 0.74972} using model BoTorch.\n",
      "[INFO 04-06 20:17:14] ax.service.ax_client: Completed trial 1200 with data: {'Viable_Cross_Terms': (34, None)}.\n",
      "[INFO 04-06 20:17:15] ax.modelbridge.base: Leaving out out-of-design observations for arms: 729_0, 1035_0, 977_0, 489_0, 686_0, 1155_0, 1121_0, 1157_0, 775_0, 899_0\n",
      "[INFO 04-06 20:21:36] ax.service.ax_client: Generated new trial 1201 with parameters {'z_sh': 7, 'z_sh_1': 11, 'z_sh_2': 5, 'z_p2': 28, 'z_p2_1': 28, 'z_p2_2': 30, 'z_r2': 80, 'z_r2_1': 75, 'z_r2_2': 78, 'x_s': 0.5, 'x_s_1': 0.4, 'x_s_2': 0.3, 'x_p1': 0.610733, 'x_p1_1': 0.510733, 'x_p1_2': 0.410733, 'x_p2': 0.5, 'x_p2_1': 0.4, 'x_p2_2': 0.3, 'x_r2': 1.080516, 'x_r2_1': 0.980516, 'x_r2_2': 0.880516} using model BoTorch.\n",
      "[INFO 04-06 20:21:36] ax.service.ax_client: Completed trial 1201 with data: {'Viable_Cross_Terms': (81, None)}.\n",
      "[INFO 04-06 20:21:37] ax.modelbridge.base: Leaving out out-of-design observations for arms: 729_0, 1035_0, 977_0, 489_0, 686_0, 1155_0, 1121_0, 1157_0, 775_0, 899_0\n",
      "[INFO 04-06 20:26:36] ax.service.ax_client: Generated new trial 1202 with parameters {'z_sh': 7, 'z_sh_1': 6, 'z_sh_2': 5, 'z_p2': 34, 'z_p2_1': 34, 'z_p2_2': 32, 'z_r2': 80, 'z_r2_1': 80, 'z_r2_2': 73, 'x_s': 0.5, 'x_s_1': 0.4, 'x_s_2': 0.3, 'x_p1': 0.618161, 'x_p1_1': 0.518161, 'x_p1_2': 0.418161, 'x_p2': 0.5, 'x_p2_1': 0.4, 'x_p2_2': 0.3, 'x_r2': 1.05864, 'x_r2_1': 0.95864, 'x_r2_2': 0.85864} using model BoTorch.\n",
      "[INFO 04-06 20:26:36] ax.service.ax_client: Completed trial 1202 with data: {'Viable_Cross_Terms': (82, None)}.\n",
      "[INFO 04-06 20:26:38] ax.modelbridge.base: Leaving out out-of-design observations for arms: 729_0, 1035_0, 977_0, 489_0, 686_0, 1155_0, 1121_0, 1157_0, 775_0, 899_0\n",
      "[INFO 04-06 20:30:46] ax.service.ax_client: Generated new trial 1203 with parameters {'z_sh': 7, 'z_sh_1': 6, 'z_sh_2': 5, 'z_p2': 27, 'z_p2_1': 28, 'z_p2_2': 28, 'z_r2': 77, 'z_r2_1': 71, 'z_r2_2': 83, 'x_s': 0.5, 'x_s_1': 0.4, 'x_s_2': 0.3, 'x_p1': 0.583417, 'x_p1_1': 0.483417, 'x_p1_2': 0.383417, 'x_p2': 0.5, 'x_p2_1': 0.4, 'x_p2_2': 0.3, 'x_r2': 0.964661, 'x_r2_1': 0.864661, 'x_r2_2': 0.764661} using model BoTorch.\n",
      "[INFO 04-06 20:30:46] ax.service.ax_client: Completed trial 1203 with data: {'Viable_Cross_Terms': (36, None)}.\n",
      "[INFO 04-06 20:30:47] ax.modelbridge.base: Leaving out out-of-design observations for arms: 729_0, 1035_0, 977_0, 489_0, 686_0, 1155_0, 1121_0, 1157_0, 775_0, 899_0\n",
      "[INFO 04-06 20:35:05] ax.service.ax_client: Generated new trial 1204 with parameters {'z_sh': 7, 'z_sh_1': 6, 'z_sh_2': 5, 'z_p2': 27, 'z_p2_1': 34, 'z_p2_2': 33, 'z_r2': 80, 'z_r2_1': 85, 'z_r2_2': 84, 'x_s': 0.5, 'x_s_1': 0.4, 'x_s_2': 0.3, 'x_p1': 0.621788, 'x_p1_1': 0.521788, 'x_p1_2': 0.421788, 'x_p2': 0.5, 'x_p2_1': 0.4, 'x_p2_2': 0.3, 'x_r2': 1.073887, 'x_r2_1': 0.973887, 'x_r2_2': 0.873887} using model BoTorch.\n",
      "[INFO 04-06 20:35:05] ax.service.ax_client: Completed trial 1204 with data: {'Viable_Cross_Terms': (83, None)}.\n",
      "[INFO 04-06 20:35:06] ax.modelbridge.base: Leaving out out-of-design observations for arms: 729_0, 1035_0, 977_0, 489_0, 686_0, 1155_0, 1121_0, 1157_0, 775_0, 899_0\n",
      "[INFO 04-06 20:40:01] ax.service.ax_client: Generated new trial 1205 with parameters {'z_sh': 10, 'z_sh_1': 14, 'z_sh_2': 6, 'z_p2': 31, 'z_p2_1': 31, 'z_p2_2': 33, 'z_r2': 76, 'z_r2_1': 71, 'z_r2_2': 84, 'x_s': 0.5, 'x_s_1': 0.4, 'x_s_2': 0.3, 'x_p1': 0.251817, 'x_p1_1': 0.151817, 'x_p1_2': -1.0, 'x_p2': 0.5, 'x_p2_1': 0.4, 'x_p2_2': 0.3, 'x_r2': 0.404103, 'x_r2_1': 0.304103, 'x_r2_2': 0.204103} using model BoTorch.\n",
      "[INFO 04-06 20:40:01] ax.service.ax_client: Completed trial 1205 with data: {'Viable_Cross_Terms': (4, None)}.\n",
      "[INFO 04-06 20:40:03] ax.modelbridge.base: Leaving out out-of-design observations for arms: 729_0, 1035_0, 977_0, 489_0, 686_0, 1155_0, 1121_0, 1157_0, 775_0, 899_0\n",
      "[INFO 04-06 20:44:34] ax.service.ax_client: Generated new trial 1206 with parameters {'z_sh': 7, 'z_sh_1': 6, 'z_sh_2': 5, 'z_p2': 34, 'z_p2_1': 34, 'z_p2_2': 32, 'z_r2': 80, 'z_r2_1': 71, 'z_r2_2': 80, 'x_s': 0.5, 'x_s_1': 0.4, 'x_s_2': 0.3, 'x_p1': 0.598447, 'x_p1_1': 0.498447, 'x_p1_2': 0.398447, 'x_p2': 0.5, 'x_p2_1': 0.4, 'x_p2_2': 0.3, 'x_r2': 1.106303, 'x_r2_1': 1.006303, 'x_r2_2': 0.906303} using model BoTorch.\n",
      "[INFO 04-06 20:44:34] ax.service.ax_client: Completed trial 1206 with data: {'Viable_Cross_Terms': (72, None)}.\n",
      "[INFO 04-06 20:44:34] ax.modelbridge.base: Leaving out out-of-design observations for arms: 729_0, 1035_0, 977_0, 489_0, 686_0, 1155_0, 1121_0, 1157_0, 775_0, 899_0\n",
      "[INFO 04-06 20:49:22] ax.service.ax_client: Generated new trial 1207 with parameters {'z_sh': 7, 'z_sh_1': 14, 'z_sh_2': 5, 'z_p2': 27, 'z_p2_1': 26, 'z_p2_2': 33, 'z_r2': 86, 'z_r2_1': 71, 'z_r2_2': 70, 'x_s': 0.5, 'x_s_1': 0.4, 'x_s_2': 0.3, 'x_p1': -0.8, 'x_p1_1': -0.9, 'x_p1_2': -1.0, 'x_p2': 0.5, 'x_p2_1': 0.4, 'x_p2_2': 0.3, 'x_r2': 1.5, 'x_r2_1': 0.81702, 'x_r2_2': 0.71702} using model BoTorch.\n",
      "[INFO 04-06 20:49:22] ax.service.ax_client: Completed trial 1207 with data: {'Viable_Cross_Terms': (0, None)}.\n",
      "[INFO 04-06 20:49:23] ax.modelbridge.base: Leaving out out-of-design observations for arms: 729_0, 1035_0, 977_0, 489_0, 686_0, 1155_0, 1121_0, 1157_0, 775_0, 899_0\n",
      "[INFO 04-06 20:53:59] ax.service.ax_client: Generated new trial 1208 with parameters {'z_sh': 8, 'z_sh_1': 8, 'z_sh_2': 5, 'z_p2': 32, 'z_p2_1': 28, 'z_p2_2': 27, 'z_r2': 77, 'z_r2_1': 85, 'z_r2_2': 71, 'x_s': 0.5, 'x_s_1': 0.4, 'x_s_2': 0.3, 'x_p1': 0.594844, 'x_p1_1': 0.494844, 'x_p1_2': 0.394844, 'x_p2': 0.5, 'x_p2_1': 0.4, 'x_p2_2': 0.3, 'x_r2': 0.969124, 'x_r2_1': 0.869124, 'x_r2_2': 0.769124} using model BoTorch.\n",
      "[INFO 04-06 20:53:59] ax.service.ax_client: Completed trial 1208 with data: {'Viable_Cross_Terms': (36, None)}.\n",
      "[INFO 04-06 20:54:00] ax.modelbridge.base: Leaving out out-of-design observations for arms: 729_0, 1035_0, 977_0, 489_0, 686_0, 1155_0, 1121_0, 1157_0, 775_0, 899_0\n",
      "[INFO 04-06 20:58:04] ax.service.ax_client: Generated new trial 1209 with parameters {'z_sh': 7, 'z_sh_1': 14, 'z_sh_2': 5, 'z_p2': 27, 'z_p2_1': 26, 'z_p2_2': 25, 'z_r2': 85, 'z_r2_1': 80, 'z_r2_2': 84, 'x_s': 0.5, 'x_s_1': 0.4, 'x_s_2': 0.3, 'x_p1': 0.781265, 'x_p1_1': 0.681265, 'x_p1_2': 0.581265, 'x_p2': 0.5, 'x_p2_1': 0.4, 'x_p2_2': 0.3, 'x_r2': 1.071609, 'x_r2_1': 0.971609, 'x_r2_2': 0.871609} using model BoTorch.\n",
      "[INFO 04-06 20:58:04] ax.service.ax_client: Completed trial 1209 with data: {'Viable_Cross_Terms': (78, None)}.\n",
      "[INFO 04-06 20:58:05] ax.modelbridge.base: Leaving out out-of-design observations for arms: 729_0, 1035_0, 977_0, 489_0, 686_0, 1155_0, 1121_0, 1157_0, 775_0, 899_0\n",
      "[INFO 04-06 21:02:58] ax.service.ax_client: Generated new trial 1210 with parameters {'z_sh': 7, 'z_sh_1': 6, 'z_sh_2': 5, 'z_p2': 27, 'z_p2_1': 34, 'z_p2_2': 32, 'z_r2': 80, 'z_r2_1': 78, 'z_r2_2': 84, 'x_s': 0.5, 'x_s_1': 0.4, 'x_s_2': 0.3, 'x_p1': 0.618444, 'x_p1_1': 0.518444, 'x_p1_2': 0.418444, 'x_p2': 0.5, 'x_p2_1': 0.4, 'x_p2_2': 0.3, 'x_r2': 1.081749, 'x_r2_1': 0.981749, 'x_r2_2': 0.881749} using model BoTorch.\n",
      "[INFO 04-06 21:02:58] ax.service.ax_client: Completed trial 1210 with data: {'Viable_Cross_Terms': (84, None)}.\n",
      "[INFO 04-06 21:02:59] ax.modelbridge.base: Leaving out out-of-design observations for arms: 729_0, 1035_0, 977_0, 489_0, 686_0, 1155_0, 1121_0, 1157_0, 775_0, 899_0\n",
      "[INFO 04-06 21:09:15] ax.service.ax_client: Generated new trial 1211 with parameters {'z_sh': 9, 'z_sh_1': 13, 'z_sh_2': 13, 'z_p2': 32, 'z_p2_1': 32, 'z_p2_2': 27, 'z_r2': 73, 'z_r2_1': 72, 'z_r2_2': 76, 'x_s': 0.5, 'x_s_1': 0.4, 'x_s_2': 0.3, 'x_p1': 0.442172, 'x_p1_1': 0.342172, 'x_p1_2': 0.242172, 'x_p2': 0.5, 'x_p2_1': -0.298495, 'x_p2_2': -0.5, 'x_r2': 1.102421, 'x_r2_1': 1.002421, 'x_r2_2': 0.892579} using model BoTorch.\n",
      "[INFO 04-06 21:09:15] ax.service.ax_client: Completed trial 1211 with data: {'Viable_Cross_Terms': (10, None)}.\n",
      "[INFO 04-06 21:09:17] ax.modelbridge.base: Leaving out out-of-design observations for arms: 729_0, 1035_0, 977_0, 489_0, 686_0, 1155_0, 1121_0, 1157_0, 775_0, 899_0\n",
      "[INFO 04-06 21:14:01] ax.service.ax_client: Generated new trial 1212 with parameters {'z_sh': 7, 'z_sh_1': 14, 'z_sh_2': 5, 'z_p2': 27, 'z_p2_1': 34, 'z_p2_2': 33, 'z_r2': 80, 'z_r2_1': 85, 'z_r2_2': 84, 'x_s': 0.5, 'x_s_1': 0.4, 'x_s_2': 0.3, 'x_p1': 0.604603, 'x_p1_1': 0.504603, 'x_p1_2': 0.404603, 'x_p2': 0.5, 'x_p2_1': 0.4, 'x_p2_2': 0.3, 'x_r2': 1.081062, 'x_r2_1': 0.981062, 'x_r2_2': 0.881062} using model BoTorch.\n",
      "[INFO 04-06 21:14:01] ax.service.ax_client: Completed trial 1212 with data: {'Viable_Cross_Terms': (80, None)}.\n",
      "[INFO 04-06 21:14:02] ax.modelbridge.base: Leaving out out-of-design observations for arms: 729_0, 1035_0, 977_0, 489_0, 686_0, 1155_0, 1121_0, 1157_0, 775_0, 899_0\n",
      "[INFO 04-06 21:18:43] ax.service.ax_client: Generated new trial 1213 with parameters {'z_sh': 7, 'z_sh_1': 8, 'z_sh_2': 5, 'z_p2': 34, 'z_p2_1': 34, 'z_p2_2': 32, 'z_r2': 80, 'z_r2_1': 71, 'z_r2_2': 83, 'x_s': 0.5, 'x_s_1': 0.4, 'x_s_2': 0.3, 'x_p1': 0.635458, 'x_p1_1': 0.535458, 'x_p1_2': 0.435458, 'x_p2': 0.5, 'x_p2_1': 0.4, 'x_p2_2': 0.3, 'x_r2': 1.064117, 'x_r2_1': 0.964117, 'x_r2_2': 0.864117} using model BoTorch.\n",
      "[INFO 04-06 21:18:43] ax.service.ax_client: Completed trial 1213 with data: {'Viable_Cross_Terms': (85, None)}.\n",
      "[INFO 04-06 21:18:44] ax.modelbridge.base: Leaving out out-of-design observations for arms: 729_0, 1035_0, 977_0, 489_0, 686_0, 1155_0, 1121_0, 1157_0, 775_0, 899_0\n",
      "[INFO 04-06 21:23:39] ax.service.ax_client: Generated new trial 1214 with parameters {'z_sh': 7, 'z_sh_1': 10, 'z_sh_2': 5, 'z_p2': 28, 'z_p2_1': 33, 'z_p2_2': 27, 'z_r2': 80, 'z_r2_1': 83, 'z_r2_2': 81, 'x_s': 0.5, 'x_s_1': 0.4, 'x_s_2': 0.3, 'x_p1': 0.586272, 'x_p1_1': 0.486272, 'x_p1_2': 0.386272, 'x_p2': 0.5, 'x_p2_1': 0.4, 'x_p2_2': 0.3, 'x_r2': 1.070548, 'x_r2_1': 0.970548, 'x_r2_2': 0.870548} using model BoTorch.\n",
      "[INFO 04-06 21:23:39] ax.service.ax_client: Completed trial 1214 with data: {'Viable_Cross_Terms': (80, None)}.\n",
      "[INFO 04-06 21:23:39] ax.modelbridge.base: Leaving out out-of-design observations for arms: 729_0, 1035_0, 977_0, 489_0, 686_0, 1155_0, 1121_0, 1157_0, 775_0, 899_0\n",
      "[INFO 04-06 21:28:26] ax.service.ax_client: Generated new trial 1215 with parameters {'z_sh': 15, 'z_sh_1': 7, 'z_sh_2': 5, 'z_p2': 29, 'z_p2_1': 32, 'z_p2_2': 27, 'z_r2': 80, 'z_r2_1': 85, 'z_r2_2': 80, 'x_s': 0.5, 'x_s_1': 0.4, 'x_s_2': -0.5, 'x_p1': 1.0, 'x_p1_1': -0.9, 'x_p1_2': -1.0, 'x_p2': 0.5, 'x_p2_1': 0.4, 'x_p2_2': -0.5, 'x_r2': 0.063256, 'x_r2_1': -0.036744, 'x_r2_2': -1.5} using model BoTorch.\n",
      "[INFO 04-06 21:28:26] ax.service.ax_client: Completed trial 1215 with data: {'Viable_Cross_Terms': (3, None)}.\n",
      "[INFO 04-06 21:28:26] ax.modelbridge.base: Leaving out out-of-design observations for arms: 729_0, 1035_0, 977_0, 489_0, 686_0, 1155_0, 1121_0, 1157_0, 775_0, 899_0\n",
      "[INFO 04-06 21:32:54] ax.service.ax_client: Generated new trial 1216 with parameters {'z_sh': 7, 'z_sh_1': 6, 'z_sh_2': 5, 'z_p2': 34, 'z_p2_1': 34, 'z_p2_2': 32, 'z_r2': 80, 'z_r2_1': 81, 'z_r2_2': 80, 'x_s': 0.5, 'x_s_1': 0.4, 'x_s_2': 0.3, 'x_p1': 0.648023, 'x_p1_1': 0.548023, 'x_p1_2': 0.448023, 'x_p2': 0.5, 'x_p2_1': 0.4, 'x_p2_2': 0.3, 'x_r2': 1.082627, 'x_r2_1': 0.982627, 'x_r2_2': 0.882627} using model BoTorch.\n",
      "[INFO 04-06 21:32:54] ax.service.ax_client: Completed trial 1216 with data: {'Viable_Cross_Terms': (82, None)}.\n",
      "[INFO 04-06 21:32:54] ax.modelbridge.base: Leaving out out-of-design observations for arms: 729_0, 1035_0, 977_0, 489_0, 686_0, 1155_0, 1121_0, 1157_0, 775_0, 899_0\n",
      "[INFO 04-06 21:37:49] ax.service.ax_client: Generated new trial 1217 with parameters {'z_sh': 7, 'z_sh_1': 14, 'z_sh_2': 5, 'z_p2': 27, 'z_p2_1': 26, 'z_p2_2': 25, 'z_r2': 85, 'z_r2_1': 82, 'z_r2_2': 84, 'x_s': 0.5, 'x_s_1': 0.4, 'x_s_2': 0.3, 'x_p1': 0.771013, 'x_p1_1': 0.671013, 'x_p1_2': 0.571013, 'x_p2': 0.5, 'x_p2_1': 0.4, 'x_p2_2': 0.3, 'x_r2': 1.066325, 'x_r2_1': 0.966325, 'x_r2_2': 0.866325} using model BoTorch.\n",
      "[INFO 04-06 21:37:49] ax.service.ax_client: Completed trial 1217 with data: {'Viable_Cross_Terms': (35, None)}.\n",
      "[INFO 04-06 21:37:50] ax.modelbridge.base: Leaving out out-of-design observations for arms: 729_0, 1035_0, 977_0, 489_0, 686_0, 1155_0, 1121_0, 1157_0, 775_0, 899_0\n",
      "[INFO 04-06 21:42:04] ax.service.ax_client: Generated new trial 1218 with parameters {'z_sh': 13, 'z_sh_1': 13, 'z_sh_2': 5, 'z_p2': 31, 'z_p2_1': 28, 'z_p2_2': 29, 'z_r2': 72, 'z_r2_1': 72, 'z_r2_2': 82, 'x_s': 0.5, 'x_s_1': 0.4, 'x_s_2': 0.3, 'x_p1': 1.0, 'x_p1_1': -0.9, 'x_p1_2': -1.0, 'x_p2': 0.5, 'x_p2_1': 0.4, 'x_p2_2': 0.3, 'x_r2': 1.5, 'x_r2_1': 1.4, 'x_r2_2': -1.5} using model BoTorch.\n",
      "[INFO 04-06 21:42:04] ax.service.ax_client: Completed trial 1218 with data: {'Viable_Cross_Terms': (0, None)}.\n",
      "[INFO 04-06 21:42:05] ax.modelbridge.base: Leaving out out-of-design observations for arms: 729_0, 1035_0, 977_0, 489_0, 686_0, 1155_0, 1121_0, 1157_0, 775_0, 899_0\n",
      "[INFO 04-06 21:46:29] ax.service.ax_client: Generated new trial 1219 with parameters {'z_sh': 7, 'z_sh_1': 6, 'z_sh_2': 5, 'z_p2': 27, 'z_p2_1': 34, 'z_p2_2': 33, 'z_r2': 80, 'z_r2_1': 76, 'z_r2_2': 84, 'x_s': 0.5, 'x_s_1': 0.4, 'x_s_2': 0.3, 'x_p1': 0.612758, 'x_p1_1': 0.512758, 'x_p1_2': 0.412758, 'x_p2': 0.5, 'x_p2_1': 0.4, 'x_p2_2': 0.3, 'x_r2': 1.06806, 'x_r2_1': 0.96806, 'x_r2_2': 0.86806} using model BoTorch.\n",
      "[INFO 04-06 21:46:29] ax.service.ax_client: Completed trial 1219 with data: {'Viable_Cross_Terms': (83, None)}.\n",
      "[INFO 04-06 21:46:30] ax.modelbridge.base: Leaving out out-of-design observations for arms: 729_0, 1035_0, 977_0, 489_0, 686_0, 1155_0, 1121_0, 1157_0, 775_0, 899_0\n",
      "[INFO 04-06 21:50:54] ax.service.ax_client: Generated new trial 1220 with parameters {'z_sh': 7, 'z_sh_1': 6, 'z_sh_2': 5, 'z_p2': 34, 'z_p2_1': 34, 'z_p2_2': 32, 'z_r2': 80, 'z_r2_1': 71, 'z_r2_2': 80, 'x_s': 0.5, 'x_s_1': 0.4, 'x_s_2': 0.3, 'x_p1': 0.648376, 'x_p1_1': 0.548376, 'x_p1_2': 0.448376, 'x_p2': 0.5, 'x_p2_1': 0.4, 'x_p2_2': 0.3, 'x_r2': 1.08372, 'x_r2_1': 0.98372, 'x_r2_2': 0.88372} using model BoTorch.\n",
      "[INFO 04-06 21:50:54] ax.service.ax_client: Completed trial 1220 with data: {'Viable_Cross_Terms': (82, None)}.\n",
      "[INFO 04-06 21:50:55] ax.modelbridge.base: Leaving out out-of-design observations for arms: 729_0, 1035_0, 977_0, 489_0, 686_0, 1155_0, 1121_0, 1157_0, 775_0, 899_0\n",
      "[INFO 04-06 21:55:32] ax.service.ax_client: Generated new trial 1221 with parameters {'z_sh': 10, 'z_sh_1': 12, 'z_sh_2': 5, 'z_p2': 30, 'z_p2_1': 30, 'z_p2_2': 25, 'z_r2': 77, 'z_r2_1': 83, 'z_r2_2': 83, 'x_s': 0.5, 'x_s_1': 0.4, 'x_s_2': 0.3, 'x_p1': 0.595506, 'x_p1_1': 0.495506, 'x_p1_2': 0.395506, 'x_p2': 0.5, 'x_p2_1': 0.4, 'x_p2_2': 0.3, 'x_r2': 0.970837, 'x_r2_1': 0.870837, 'x_r2_2': 0.770837} using model BoTorch.\n",
      "[INFO 04-06 21:55:32] ax.service.ax_client: Completed trial 1221 with data: {'Viable_Cross_Terms': (36, None)}.\n",
      "[INFO 04-06 21:55:32] ax.modelbridge.base: Leaving out out-of-design observations for arms: 729_0, 1035_0, 977_0, 489_0, 686_0, 1155_0, 1121_0, 1157_0, 775_0, 899_0\n",
      "[INFO 04-06 22:00:06] ax.service.ax_client: Generated new trial 1222 with parameters {'z_sh': 7, 'z_sh_1': 13, 'z_sh_2': 5, 'z_p2': 35, 'z_p2_1': 34, 'z_p2_2': 33, 'z_r2': 80, 'z_r2_1': 85, 'z_r2_2': 84, 'x_s': 0.5, 'x_s_1': 0.4, 'x_s_2': 0.3, 'x_p1': 0.60829, 'x_p1_1': 0.50829, 'x_p1_2': 0.40829, 'x_p2': 0.5, 'x_p2_1': 0.4, 'x_p2_2': 0.3, 'x_r2': 1.069426, 'x_r2_1': 0.969426, 'x_r2_2': 0.869426} using model BoTorch.\n",
      "[INFO 04-06 22:00:06] ax.service.ax_client: Completed trial 1222 with data: {'Viable_Cross_Terms': (83, None)}.\n",
      "[INFO 04-06 22:00:07] ax.modelbridge.base: Leaving out out-of-design observations for arms: 729_0, 1035_0, 977_0, 489_0, 686_0, 1155_0, 1121_0, 1157_0, 775_0, 899_0\n",
      "[INFO 04-06 22:04:16] ax.service.ax_client: Generated new trial 1223 with parameters {'z_sh': 7, 'z_sh_1': 6, 'z_sh_2': 5, 'z_p2': 27, 'z_p2_1': 26, 'z_p2_2': 33, 'z_r2': 80, 'z_r2_1': 71, 'z_r2_2': 84, 'x_s': 0.5, 'x_s_1': 0.4, 'x_s_2': 0.3, 'x_p1': 0.618521, 'x_p1_1': 0.518521, 'x_p1_2': 0.418521, 'x_p2': 0.5, 'x_p2_1': 0.4, 'x_p2_2': 0.3, 'x_r2': 1.082493, 'x_r2_1': 0.982493, 'x_r2_2': 0.882493} using model BoTorch.\n",
      "[INFO 04-06 22:04:16] ax.service.ax_client: Completed trial 1223 with data: {'Viable_Cross_Terms': (84, None)}.\n",
      "[INFO 04-06 22:04:17] ax.modelbridge.base: Leaving out out-of-design observations for arms: 729_0, 1035_0, 977_0, 489_0, 686_0, 1155_0, 1121_0, 1157_0, 775_0, 899_0\n",
      "[INFO 04-06 22:08:29] ax.service.ax_client: Generated new trial 1224 with parameters {'z_sh': 7, 'z_sh_1': 6, 'z_sh_2': 5, 'z_p2': 34, 'z_p2_1': 34, 'z_p2_2': 32, 'z_r2': 80, 'z_r2_1': 71, 'z_r2_2': 70, 'x_s': 0.5, 'x_s_1': 0.4, 'x_s_2': 0.3, 'x_p1': 0.539729, 'x_p1_1': 0.439729, 'x_p1_2': 0.339729, 'x_p2': 0.5, 'x_p2_1': 0.4, 'x_p2_2': 0.3, 'x_r2': 1.045816, 'x_r2_1': 0.945816, 'x_r2_2': 0.845816} using model BoTorch.\n",
      "[INFO 04-06 22:08:29] ax.service.ax_client: Completed trial 1224 with data: {'Viable_Cross_Terms': (71, None)}.\n",
      "[INFO 04-06 22:08:30] ax.modelbridge.base: Leaving out out-of-design observations for arms: 729_0, 1035_0, 977_0, 489_0, 686_0, 1155_0, 1121_0, 1157_0, 775_0, 899_0\n",
      "[INFO 04-06 22:13:26] ax.service.ax_client: Generated new trial 1225 with parameters {'z_sh': 7, 'z_sh_1': 6, 'z_sh_2': 5, 'z_p2': 27, 'z_p2_1': 34, 'z_p2_2': 25, 'z_r2': 80, 'z_r2_1': 85, 'z_r2_2': 84, 'x_s': 0.5, 'x_s_1': 0.4, 'x_s_2': 0.3, 'x_p1': 0.622031, 'x_p1_1': 0.522031, 'x_p1_2': 0.422031, 'x_p2': 0.5, 'x_p2_1': 0.4, 'x_p2_2': 0.3, 'x_r2': 1.06799, 'x_r2_1': 0.96799, 'x_r2_2': 0.86799} using model BoTorch.\n",
      "[INFO 04-06 22:13:26] ax.service.ax_client: Completed trial 1225 with data: {'Viable_Cross_Terms': (82, None)}.\n",
      "[INFO 04-06 22:13:27] ax.modelbridge.base: Leaving out out-of-design observations for arms: 729_0, 1035_0, 977_0, 489_0, 686_0, 1155_0, 1121_0, 1157_0, 775_0, 899_0\n",
      "[INFO 04-06 22:17:17] ax.service.ax_client: Generated new trial 1226 with parameters {'z_sh': 7, 'z_sh_1': 6, 'z_sh_2': 5, 'z_p2': 35, 'z_p2_1': 26, 'z_p2_2': 33, 'z_r2': 80, 'z_r2_1': 85, 'z_r2_2': 84, 'x_s': 0.5, 'x_s_1': 0.4, 'x_s_2': 0.3, 'x_p1': 0.592085, 'x_p1_1': 0.492085, 'x_p1_2': 0.392085, 'x_p2': 0.5, 'x_p2_1': 0.4, 'x_p2_2': 0.3, 'x_r2': 1.101256, 'x_r2_1': 1.001256, 'x_r2_2': 0.901256} using model BoTorch.\n",
      "[INFO 04-06 22:17:17] ax.service.ax_client: Completed trial 1226 with data: {'Viable_Cross_Terms': (72, None)}.\n",
      "[INFO 04-06 22:17:18] ax.modelbridge.base: Leaving out out-of-design observations for arms: 729_0, 1035_0, 977_0, 489_0, 686_0, 1155_0, 1121_0, 1157_0, 775_0, 899_0\n",
      "[INFO 04-06 22:22:02] ax.service.ax_client: Generated new trial 1227 with parameters {'z_sh': 7, 'z_sh_1': 6, 'z_sh_2': 5, 'z_p2': 34, 'z_p2_1': 34, 'z_p2_2': 32, 'z_r2': 80, 'z_r2_1': 76, 'z_r2_2': 75, 'x_s': 0.5, 'x_s_1': 0.4, 'x_s_2': 0.3, 'x_p1': 0.637746, 'x_p1_1': 0.537746, 'x_p1_2': 0.437746, 'x_p2': 0.5, 'x_p2_1': 0.4, 'x_p2_2': 0.3, 'x_r2': 1.084172, 'x_r2_1': 0.984172, 'x_r2_2': 0.884172} using model BoTorch.\n",
      "[INFO 04-06 22:22:03] ax.service.ax_client: Completed trial 1227 with data: {'Viable_Cross_Terms': (81, None)}.\n",
      "[INFO 04-06 22:22:03] ax.modelbridge.base: Leaving out out-of-design observations for arms: 729_0, 1035_0, 977_0, 489_0, 686_0, 1155_0, 1121_0, 1157_0, 775_0, 899_0\n",
      "[INFO 04-06 22:26:34] ax.service.ax_client: Generated new trial 1228 with parameters {'z_sh': 11, 'z_sh_1': 14, 'z_sh_2': 5, 'z_p2': 32, 'z_p2_1': 33, 'z_p2_2': 30, 'z_r2': 79, 'z_r2_1': 71, 'z_r2_2': 74, 'x_s': 0.274931, 'x_s_1': -0.4, 'x_s_2': -0.5, 'x_p1': 0.682275, 'x_p1_1': 0.582275, 'x_p1_2': -1.0, 'x_p2': 0.264961, 'x_p2_1': 0.164961, 'x_p2_2': 0.064961, 'x_r2': 1.5, 'x_r2_1': -0.100762, 'x_r2_2': -0.200762} using model BoTorch.\n",
      "[INFO 04-06 22:26:34] ax.service.ax_client: Completed trial 1228 with data: {'Viable_Cross_Terms': (8, None)}.\n",
      "[INFO 04-06 22:26:35] ax.modelbridge.base: Leaving out out-of-design observations for arms: 729_0, 1035_0, 977_0, 489_0, 686_0, 1155_0, 1121_0, 1157_0, 775_0, 899_0\n",
      "[INFO 04-06 22:31:10] ax.service.ax_client: Generated new trial 1229 with parameters {'z_sh': 7, 'z_sh_1': 11, 'z_sh_2': 5, 'z_p2': 29, 'z_p2_1': 26, 'z_p2_2': 30, 'z_r2': 86, 'z_r2_1': 72, 'z_r2_2': 73, 'x_s': 0.5, 'x_s_1': 0.4, 'x_s_2': 0.3, 'x_p1': 1.0, 'x_p1_1': -0.9, 'x_p1_2': -1.0, 'x_p2': 0.5, 'x_p2_1': 0.4, 'x_p2_2': 0.3, 'x_r2': 0.235652, 'x_r2_1': 0.135652, 'x_r2_2': -1.5} using model BoTorch.\n",
      "[INFO 04-06 22:31:10] ax.service.ax_client: Completed trial 1229 with data: {'Viable_Cross_Terms': (0, None)}.\n",
      "[INFO 04-06 22:31:11] ax.modelbridge.base: Leaving out out-of-design observations for arms: 729_0, 1035_0, 977_0, 489_0, 686_0, 1155_0, 1121_0, 1157_0, 775_0, 899_0\n",
      "[INFO 04-06 22:35:58] ax.service.ax_client: Generated new trial 1230 with parameters {'z_sh': 7, 'z_sh_1': 6, 'z_sh_2': 5, 'z_p2': 34, 'z_p2_1': 34, 'z_p2_2': 32, 'z_r2': 80, 'z_r2_1': 71, 'z_r2_2': 77, 'x_s': 0.5, 'x_s_1': 0.4, 'x_s_2': 0.3, 'x_p1': 0.616717, 'x_p1_1': 0.516717, 'x_p1_2': 0.416717, 'x_p2': 0.5, 'x_p2_1': 0.4, 'x_p2_2': 0.3, 'x_r2': 1.097242, 'x_r2_1': 0.997242, 'x_r2_2': 0.897242} using model BoTorch.\n",
      "[INFO 04-06 22:35:58] ax.service.ax_client: Completed trial 1230 with data: {'Viable_Cross_Terms': (78, None)}.\n",
      "[INFO 04-06 22:35:59] ax.modelbridge.base: Leaving out out-of-design observations for arms: 729_0, 1035_0, 977_0, 489_0, 686_0, 1155_0, 1121_0, 1157_0, 775_0, 899_0\n",
      "[INFO 04-06 22:41:49] ax.service.ax_client: Generated new trial 1231 with parameters {'z_sh': 7, 'z_sh_1': 14, 'z_sh_2': 5, 'z_p2': 27, 'z_p2_1': 34, 'z_p2_2': 25, 'z_r2': 80, 'z_r2_1': 85, 'z_r2_2': 84, 'x_s': 0.5, 'x_s_1': 0.4, 'x_s_2': 0.3, 'x_p1': 0.621702, 'x_p1_1': 0.521702, 'x_p1_2': 0.421702, 'x_p2': 0.5, 'x_p2_1': 0.4, 'x_p2_2': 0.3, 'x_r2': 1.082268, 'x_r2_1': 0.982268, 'x_r2_2': 0.882268} using model BoTorch.\n",
      "[INFO 04-06 22:41:49] ax.service.ax_client: Completed trial 1231 with data: {'Viable_Cross_Terms': (84, None)}.\n",
      "[INFO 04-06 22:41:49] ax.modelbridge.base: Leaving out out-of-design observations for arms: 729_0, 1035_0, 977_0, 489_0, 686_0, 1155_0, 1121_0, 1157_0, 775_0, 899_0\n",
      "[INFO 04-06 22:46:24] ax.service.ax_client: Generated new trial 1232 with parameters {'z_sh': 7, 'z_sh_1': 12, 'z_sh_2': 5, 'z_p2': 29, 'z_p2_1': 30, 'z_p2_2': 30, 'z_r2': 80, 'z_r2_1': 72, 'z_r2_2': 71, 'x_s': 0.5, 'x_s_1': 0.4, 'x_s_2': 0.3, 'x_p1': 0.635168, 'x_p1_1': 0.535168, 'x_p1_2': 0.435168, 'x_p2': 0.5, 'x_p2_1': 0.4, 'x_p2_2': 0.3, 'x_r2': 1.043199, 'x_r2_1': 0.943199, 'x_r2_2': 0.843199} using model BoTorch.\n",
      "[INFO 04-06 22:46:24] ax.service.ax_client: Completed trial 1232 with data: {'Viable_Cross_Terms': (82, None)}.\n",
      "[INFO 04-06 22:46:24] ax.modelbridge.base: Leaving out out-of-design observations for arms: 729_0, 1035_0, 977_0, 489_0, 686_0, 1155_0, 1121_0, 1157_0, 775_0, 899_0\n",
      "[INFO 04-06 22:51:39] ax.service.ax_client: Generated new trial 1233 with parameters {'z_sh': 7, 'z_sh_1': 6, 'z_sh_2': 5, 'z_p2': 27, 'z_p2_1': 34, 'z_p2_2': 25, 'z_r2': 80, 'z_r2_1': 71, 'z_r2_2': 84, 'x_s': 0.5, 'x_s_1': 0.4, 'x_s_2': 0.3, 'x_p1': 0.623015, 'x_p1_1': 0.523015, 'x_p1_2': 0.423015, 'x_p2': 0.5, 'x_p2_1': 0.4, 'x_p2_2': 0.3, 'x_r2': 1.070726, 'x_r2_1': 0.970726, 'x_r2_2': 0.870726} using model BoTorch.\n",
      "[INFO 04-06 22:51:39] ax.service.ax_client: Completed trial 1233 with data: {'Viable_Cross_Terms': (81, None)}.\n",
      "[INFO 04-06 22:51:40] ax.modelbridge.base: Leaving out out-of-design observations for arms: 729_0, 1035_0, 977_0, 489_0, 686_0, 1155_0, 1121_0, 1157_0, 775_0, 899_0\n",
      "[INFO 04-06 22:56:05] ax.service.ax_client: Generated new trial 1234 with parameters {'z_sh': 7, 'z_sh_1': 12, 'z_sh_2': 5, 'z_p2': 27, 'z_p2_1': 33, 'z_p2_2': 28, 'z_r2': 85, 'z_r2_1': 78, 'z_r2_2': 82, 'x_s': 0.5, 'x_s_1': 0.4, 'x_s_2': 0.3, 'x_p1': 0.771782, 'x_p1_1': 0.671782, 'x_p1_2': 0.571782, 'x_p2': 0.5, 'x_p2_1': 0.4, 'x_p2_2': 0.3, 'x_r2': 1.067544, 'x_r2_1': 0.967544, 'x_r2_2': 0.867544} using model BoTorch.\n",
      "[INFO 04-06 22:56:05] ax.service.ax_client: Completed trial 1234 with data: {'Viable_Cross_Terms': (34, None)}.\n",
      "[INFO 04-06 22:56:06] ax.modelbridge.base: Leaving out out-of-design observations for arms: 729_0, 1035_0, 977_0, 489_0, 686_0, 1155_0, 1121_0, 1157_0, 775_0, 899_0\n",
      "[INFO 04-06 23:01:44] ax.service.ax_client: Generated new trial 1235 with parameters {'z_sh': 7, 'z_sh_1': 10, 'z_sh_2': 13, 'z_p2': 29, 'z_p2_1': 28, 'z_p2_2': 31, 'z_r2': 82, 'z_r2_1': 74, 'z_r2_2': 78, 'x_s': -0.3, 'x_s_1': -0.4, 'x_s_2': -0.5, 'x_p1': -0.8, 'x_p1_1': -0.9, 'x_p1_2': -1.0, 'x_p2': -0.3, 'x_p2_1': -0.4, 'x_p2_2': -0.5, 'x_r2': 1.5, 'x_r2_1': 1.4, 'x_r2_2': 1.3} using model BoTorch.\n",
      "[INFO 04-06 23:01:44] ax.service.ax_client: Completed trial 1235 with data: {'Viable_Cross_Terms': (5, None)}.\n",
      "[INFO 04-06 23:01:45] ax.modelbridge.base: Leaving out out-of-design observations for arms: 729_0, 1035_0, 977_0, 489_0, 686_0, 1155_0, 1121_0, 1157_0, 775_0, 899_0\n",
      "[INFO 04-06 23:06:40] ax.service.ax_client: Generated new trial 1236 with parameters {'z_sh': 7, 'z_sh_1': 14, 'z_sh_2': 5, 'z_p2': 34, 'z_p2_1': 34, 'z_p2_2': 25, 'z_r2': 80, 'z_r2_1': 84, 'z_r2_2': 80, 'x_s': 0.5, 'x_s_1': 0.4, 'x_s_2': 0.3, 'x_p1': 0.613374, 'x_p1_1': 0.513374, 'x_p1_2': 0.413374, 'x_p2': 0.5, 'x_p2_1': 0.4, 'x_p2_2': 0.3, 'x_r2': 1.098134, 'x_r2_1': 0.998134, 'x_r2_2': 0.898134} using model BoTorch.\n",
      "[INFO 04-06 23:06:40] ax.service.ax_client: Completed trial 1236 with data: {'Viable_Cross_Terms': (78, None)}.\n",
      "[INFO 04-06 23:06:41] ax.modelbridge.base: Leaving out out-of-design observations for arms: 729_0, 1035_0, 977_0, 489_0, 686_0, 1155_0, 1121_0, 1157_0, 775_0, 899_0\n",
      "[INFO 04-06 23:11:29] ax.service.ax_client: Generated new trial 1237 with parameters {'z_sh': 7, 'z_sh_1': 8, 'z_sh_2': 5, 'z_p2': 34, 'z_p2_1': 34, 'z_p2_2': 32, 'z_r2': 80, 'z_r2_1': 77, 'z_r2_2': 82, 'x_s': 0.5, 'x_s_1': 0.4, 'x_s_2': 0.3, 'x_p1': 0.662088, 'x_p1_1': 0.562088, 'x_p1_2': 0.462088, 'x_p2': 0.5, 'x_p2_1': 0.4, 'x_p2_2': 0.3, 'x_r2': 1.098997, 'x_r2_1': 0.998997, 'x_r2_2': 0.898997} using model BoTorch.\n",
      "[INFO 04-06 23:11:29] ax.service.ax_client: Completed trial 1237 with data: {'Viable_Cross_Terms': (80, None)}.\n",
      "[INFO 04-06 23:11:31] ax.modelbridge.base: Leaving out out-of-design observations for arms: 729_0, 1035_0, 977_0, 489_0, 686_0, 1155_0, 1121_0, 1157_0, 775_0, 899_0\n",
      "[INFO 04-06 23:16:11] ax.service.ax_client: Generated new trial 1238 with parameters {'z_sh': 7, 'z_sh_1': 6, 'z_sh_2': 5, 'z_p2': 27, 'z_p2_1': 34, 'z_p2_2': 33, 'z_r2': 80, 'z_r2_1': 71, 'z_r2_2': 84, 'x_s': 0.5, 'x_s_1': 0.4, 'x_s_2': 0.3, 'x_p1': 0.620122, 'x_p1_1': 0.520122, 'x_p1_2': 0.420122, 'x_p2': 0.5, 'x_p2_1': 0.4, 'x_p2_2': 0.3, 'x_r2': 1.077131, 'x_r2_1': 0.977131, 'x_r2_2': 0.877131} using model BoTorch.\n",
      "[INFO 04-06 23:16:11] ax.service.ax_client: Completed trial 1238 with data: {'Viable_Cross_Terms': (84, None)}.\n",
      "[INFO 04-06 23:16:13] ax.modelbridge.base: Leaving out out-of-design observations for arms: 729_0, 1035_0, 977_0, 489_0, 686_0, 1155_0, 1121_0, 1157_0, 775_0, 899_0\n",
      "[INFO 04-06 23:21:23] ax.service.ax_client: Generated new trial 1239 with parameters {'z_sh': 7, 'z_sh_1': 6, 'z_sh_2': 5, 'z_p2': 27, 'z_p2_1': 34, 'z_p2_2': 33, 'z_r2': 80, 'z_r2_1': 71, 'z_r2_2': 84, 'x_s': 0.5, 'x_s_1': 0.4, 'x_s_2': 0.3, 'x_p1': 0.613426, 'x_p1_1': 0.513426, 'x_p1_2': 0.413426, 'x_p2': 0.5, 'x_p2_1': 0.4, 'x_p2_2': 0.3, 'x_r2': 1.071097, 'x_r2_1': 0.971097, 'x_r2_2': 0.871097} using model BoTorch.\n",
      "[INFO 04-06 23:21:23] ax.service.ax_client: Completed trial 1239 with data: {'Viable_Cross_Terms': (83, None)}.\n",
      "[INFO 04-06 23:21:24] ax.modelbridge.base: Leaving out out-of-design observations for arms: 729_0, 1035_0, 977_0, 489_0, 686_0, 1155_0, 1121_0, 1157_0, 775_0, 899_0\n",
      "[INFO 04-06 23:26:17] ax.service.ax_client: Generated new trial 1240 with parameters {'z_sh': 7, 'z_sh_1': 6, 'z_sh_2': 5, 'z_p2': 29, 'z_p2_1': 34, 'z_p2_2': 25, 'z_r2': 80, 'z_r2_1': 76, 'z_r2_2': 73, 'x_s': 0.5, 'x_s_1': 0.4, 'x_s_2': 0.3, 'x_p1': 0.626375, 'x_p1_1': 0.526375, 'x_p1_2': 0.426375, 'x_p2': 0.5, 'x_p2_1': 0.4, 'x_p2_2': 0.3, 'x_r2': 1.10424, 'x_r2_1': 1.00424, 'x_r2_2': 0.90424} using model BoTorch.\n",
      "[INFO 04-06 23:26:17] ax.service.ax_client: Completed trial 1240 with data: {'Viable_Cross_Terms': (78, None)}.\n",
      "[INFO 04-06 23:26:18] ax.modelbridge.base: Leaving out out-of-design observations for arms: 729_0, 1035_0, 977_0, 489_0, 686_0, 1155_0, 1121_0, 1157_0, 775_0, 899_0\n",
      "[INFO 04-06 23:31:07] ax.service.ax_client: Generated new trial 1241 with parameters {'z_sh': 7, 'z_sh_1': 11, 'z_sh_2': 5, 'z_p2': 32, 'z_p2_1': 34, 'z_p2_2': 29, 'z_r2': 80, 'z_r2_1': 81, 'z_r2_2': 78, 'x_s': 0.5, 'x_s_1': 0.4, 'x_s_2': 0.3, 'x_p1': 0.616072, 'x_p1_1': 0.516072, 'x_p1_2': 0.416072, 'x_p2': 0.5, 'x_p2_1': 0.4, 'x_p2_2': 0.3, 'x_r2': 1.117714, 'x_r2_1': 1.017714, 'x_r2_2': 0.917714} using model BoTorch.\n",
      "[INFO 04-06 23:31:07] ax.service.ax_client: Completed trial 1241 with data: {'Viable_Cross_Terms': (75, None)}.\n",
      "[INFO 04-06 23:31:08] ax.modelbridge.base: Leaving out out-of-design observations for arms: 729_0, 1035_0, 977_0, 489_0, 686_0, 1155_0, 1121_0, 1157_0, 775_0, 899_0\n",
      "[INFO 04-06 23:35:58] ax.service.ax_client: Generated new trial 1242 with parameters {'z_sh': 12, 'z_sh_1': 13, 'z_sh_2': 6, 'z_p2': 28, 'z_p2_1': 31, 'z_p2_2': 31, 'z_r2': 81, 'z_r2_1': 84, 'z_r2_2': 80, 'x_s': 0.5, 'x_s_1': 0.4, 'x_s_2': -0.5, 'x_p1': 0.656009, 'x_p1_1': 0.556009, 'x_p1_2': 0.456009, 'x_p2': 0.5, 'x_p2_1': -0.322638, 'x_p2_2': -0.422638, 'x_r2': 1.5, 'x_r2_1': 0.078826, 'x_r2_2': -1.5} using model BoTorch.\n",
      "[INFO 04-06 23:35:58] ax.service.ax_client: Completed trial 1242 with data: {'Viable_Cross_Terms': (6, None)}.\n",
      "[INFO 04-06 23:35:59] ax.modelbridge.base: Leaving out out-of-design observations for arms: 729_0, 1035_0, 977_0, 489_0, 686_0, 1155_0, 1121_0, 1157_0, 775_0, 899_0\n",
      "[INFO 04-06 23:40:42] ax.service.ax_client: Generated new trial 1243 with parameters {'z_sh': 7, 'z_sh_1': 6, 'z_sh_2': 5, 'z_p2': 34, 'z_p2_1': 34, 'z_p2_2': 32, 'z_r2': 80, 'z_r2_1': 71, 'z_r2_2': 78, 'x_s': 0.5, 'x_s_1': 0.4, 'x_s_2': 0.3, 'x_p1': 0.625822, 'x_p1_1': 0.525822, 'x_p1_2': 0.425822, 'x_p2': 0.5, 'x_p2_1': 0.4, 'x_p2_2': 0.3, 'x_r2': 1.095784, 'x_r2_1': 0.995784, 'x_r2_2': 0.895784} using model BoTorch.\n",
      "[INFO 04-06 23:40:42] ax.service.ax_client: Completed trial 1243 with data: {'Viable_Cross_Terms': (78, None)}.\n",
      "[INFO 04-06 23:40:42] ax.modelbridge.base: Leaving out out-of-design observations for arms: 729_0, 1035_0, 977_0, 489_0, 686_0, 1155_0, 1121_0, 1157_0, 775_0, 899_0\n",
      "[INFO 04-06 23:47:24] ax.service.ax_client: Generated new trial 1244 with parameters {'z_sh': 9, 'z_sh_1': 9, 'z_sh_2': 5, 'z_p2': 27, 'z_p2_1': 26, 'z_p2_2': 28, 'z_r2': 80, 'z_r2_1': 71, 'z_r2_2': 79, 'x_s': 0.5, 'x_s_1': 0.4, 'x_s_2': 0.3, 'x_p1': 0.68937, 'x_p1_1': 0.587114, 'x_p1_2': 0.487114, 'x_p2': 0.211425, 'x_p2_1': -0.4, 'x_p2_2': -0.5, 'x_r2': 1.334552, 'x_r2_1': -0.939596, 'x_r2_2': -1.039596} using model BoTorch.\n",
      "[INFO 04-06 23:47:24] ax.service.ax_client: Completed trial 1244 with data: {'Viable_Cross_Terms': (6, None)}.\n",
      "[INFO 04-06 23:47:24] ax.modelbridge.base: Leaving out out-of-design observations for arms: 729_0, 1035_0, 977_0, 489_0, 686_0, 1155_0, 1121_0, 1157_0, 775_0, 899_0\n",
      "[INFO 04-06 23:52:27] ax.service.ax_client: Generated new trial 1245 with parameters {'z_sh': 7, 'z_sh_1': 14, 'z_sh_2': 8, 'z_p2': 35, 'z_p2_1': 26, 'z_p2_2': 25, 'z_r2': 73, 'z_r2_1': 71, 'z_r2_2': 84, 'x_s': 0.5, 'x_s_1': 0.4, 'x_s_2': 0.3, 'x_p1': -0.223028, 'x_p1_1': -0.9, 'x_p1_2': -1.0, 'x_p2': 0.5, 'x_p2_1': 0.4, 'x_p2_2': 0.3, 'x_r2': 1.5, 'x_r2_1': 0.29962, 'x_r2_2': -1.5} using model BoTorch.\n",
      "[INFO 04-06 23:52:27] ax.service.ax_client: Completed trial 1245 with data: {'Viable_Cross_Terms': (4, None)}.\n",
      "[INFO 04-06 23:52:28] ax.modelbridge.base: Leaving out out-of-design observations for arms: 729_0, 1035_0, 977_0, 489_0, 686_0, 1155_0, 1121_0, 1157_0, 775_0, 899_0\n",
      "[INFO 04-06 23:58:12] ax.service.ax_client: Generated new trial 1246 with parameters {'z_sh': 8, 'z_sh_1': 6, 'z_sh_2': 13, 'z_p2': 27, 'z_p2_1': 28, 'z_p2_2': 27, 'z_r2': 85, 'z_r2_1': 73, 'z_r2_2': 80, 'x_s': 0.5, 'x_s_1': 0.4, 'x_s_2': 0.3, 'x_p1': 0.197052, 'x_p1_1': 0.097052, 'x_p1_2': -0.002948, 'x_p2': 0.5, 'x_p2_1': 0.4, 'x_p2_2': 0.3, 'x_r2': 1.5, 'x_r2_1': 0.229637, 'x_r2_2': 0.129637} using model BoTorch.\n",
      "[INFO 04-06 23:58:12] ax.service.ax_client: Completed trial 1246 with data: {'Viable_Cross_Terms': (4, None)}.\n",
      "[INFO 04-06 23:58:13] ax.modelbridge.base: Leaving out out-of-design observations for arms: 729_0, 1035_0, 977_0, 489_0, 686_0, 1155_0, 1121_0, 1157_0, 775_0, 899_0\n",
      "[INFO 04-07 00:03:04] ax.service.ax_client: Generated new trial 1247 with parameters {'z_sh': 14, 'z_sh_1': 9, 'z_sh_2': 5, 'z_p2': 33, 'z_p2_1': 28, 'z_p2_2': 32, 'z_r2': 86, 'z_r2_1': 75, 'z_r2_2': 83, 'x_s': -0.3, 'x_s_1': -0.4, 'x_s_2': -0.5, 'x_p1': -0.25787, 'x_p1_1': -0.35787, 'x_p1_2': -0.45787, 'x_p2': 0.5, 'x_p2_1': 0.4, 'x_p2_2': 0.3, 'x_r2': -0.582365, 'x_r2_1': -0.682365, 'x_r2_2': -0.782365} using model BoTorch.\n",
      "[INFO 04-07 00:03:04] ax.service.ax_client: Completed trial 1247 with data: {'Viable_Cross_Terms': (27, None)}.\n",
      "[INFO 04-07 00:03:05] ax.modelbridge.base: Leaving out out-of-design observations for arms: 729_0, 1035_0, 977_0, 489_0, 686_0, 1155_0, 1121_0, 1157_0, 775_0, 899_0\n",
      "[INFO 04-07 00:07:38] ax.service.ax_client: Generated new trial 1248 with parameters {'z_sh': 7, 'z_sh_1': 6, 'z_sh_2': 5, 'z_p2': 34, 'z_p2_1': 34, 'z_p2_2': 32, 'z_r2': 80, 'z_r2_1': 71, 'z_r2_2': 83, 'x_s': 0.5, 'x_s_1': 0.4, 'x_s_2': 0.3, 'x_p1': 0.63752, 'x_p1_1': 0.53752, 'x_p1_2': 0.43752, 'x_p2': 0.5, 'x_p2_1': 0.4, 'x_p2_2': 0.3, 'x_r2': 1.059581, 'x_r2_1': 0.959581, 'x_r2_2': 0.859581} using model BoTorch.\n",
      "[INFO 04-07 00:07:38] ax.service.ax_client: Completed trial 1248 with data: {'Viable_Cross_Terms': (83, None)}.\n",
      "[INFO 04-07 00:07:40] ax.modelbridge.base: Leaving out out-of-design observations for arms: 729_0, 1035_0, 977_0, 489_0, 686_0, 1155_0, 1121_0, 1157_0, 775_0, 899_0\n",
      "[INFO 04-07 00:12:49] ax.service.ax_client: Generated new trial 1249 with parameters {'z_sh': 7, 'z_sh_1': 6, 'z_sh_2': 5, 'z_p2': 27, 'z_p2_1': 27, 'z_p2_2': 27, 'z_r2': 77, 'z_r2_1': 85, 'z_r2_2': 84, 'x_s': 0.5, 'x_s_1': 0.4, 'x_s_2': 0.3, 'x_p1': 0.595368, 'x_p1_1': 0.495368, 'x_p1_2': 0.395368, 'x_p2': 0.5, 'x_p2_1': 0.4, 'x_p2_2': 0.3, 'x_r2': 0.967118, 'x_r2_1': 0.867118, 'x_r2_2': 0.767118} using model BoTorch.\n",
      "[INFO 04-07 00:12:49] ax.service.ax_client: Completed trial 1249 with data: {'Viable_Cross_Terms': (36, None)}.\n",
      "[INFO 04-07 00:12:50] ax.modelbridge.base: Leaving out out-of-design observations for arms: 729_0, 1035_0, 977_0, 489_0, 686_0, 1155_0, 1121_0, 1157_0, 775_0, 899_0\n",
      "[INFO 04-07 00:17:05] ax.service.ax_client: Generated new trial 1250 with parameters {'z_sh': 7, 'z_sh_1': 6, 'z_sh_2': 5, 'z_p2': 27, 'z_p2_1': 34, 'z_p2_2': 33, 'z_r2': 80, 'z_r2_1': 85, 'z_r2_2': 70, 'x_s': 0.5, 'x_s_1': 0.4, 'x_s_2': 0.3, 'x_p1': 0.615265, 'x_p1_1': 0.515265, 'x_p1_2': 0.415265, 'x_p2': 0.5, 'x_p2_1': 0.4, 'x_p2_2': 0.3, 'x_r2': 1.105554, 'x_r2_1': 1.005554, 'x_r2_2': 0.905554} using model BoTorch.\n",
      "[INFO 04-07 00:17:05] ax.service.ax_client: Completed trial 1250 with data: {'Viable_Cross_Terms': (79, None)}.\n",
      "[INFO 04-07 00:17:06] ax.modelbridge.base: Leaving out out-of-design observations for arms: 729_0, 1035_0, 977_0, 489_0, 686_0, 1155_0, 1121_0, 1157_0, 775_0, 899_0\n",
      "[INFO 04-07 00:22:40] ax.service.ax_client: Generated new trial 1251 with parameters {'z_sh': 7, 'z_sh_1': 14, 'z_sh_2': 5, 'z_p2': 35, 'z_p2_1': 34, 'z_p2_2': 33, 'z_r2': 80, 'z_r2_1': 85, 'z_r2_2': 84, 'x_s': 0.5, 'x_s_1': 0.4, 'x_s_2': 0.3, 'x_p1': 0.611788, 'x_p1_1': 0.511788, 'x_p1_2': 0.411788, 'x_p2': 0.5, 'x_p2_1': 0.4, 'x_p2_2': 0.3, 'x_r2': 1.073805, 'x_r2_1': 0.973805, 'x_r2_2': 0.873805} using model BoTorch.\n",
      "[INFO 04-07 00:22:40] ax.service.ax_client: Completed trial 1251 with data: {'Viable_Cross_Terms': (83, None)}.\n",
      "[INFO 04-07 00:22:41] ax.modelbridge.base: Leaving out out-of-design observations for arms: 729_0, 1035_0, 977_0, 489_0, 686_0, 1155_0, 1121_0, 1157_0, 775_0, 899_0\n",
      "[INFO 04-07 00:27:40] ax.service.ax_client: Generated new trial 1252 with parameters {'z_sh': 7, 'z_sh_1': 6, 'z_sh_2': 5, 'z_p2': 34, 'z_p2_1': 34, 'z_p2_2': 32, 'z_r2': 80, 'z_r2_1': 76, 'z_r2_2': 82, 'x_s': 0.5, 'x_s_1': 0.4, 'x_s_2': 0.3, 'x_p1': 0.587062, 'x_p1_1': 0.487062, 'x_p1_2': 0.387062, 'x_p2': 0.5, 'x_p2_1': 0.4, 'x_p2_2': 0.3, 'x_r2': 1.116394, 'x_r2_1': 1.016394, 'x_r2_2': 0.916394} using model BoTorch.\n",
      "[INFO 04-07 00:27:40] ax.service.ax_client: Completed trial 1252 with data: {'Viable_Cross_Terms': (70, None)}.\n",
      "[INFO 04-07 00:27:41] ax.modelbridge.base: Leaving out out-of-design observations for arms: 729_0, 1035_0, 977_0, 489_0, 686_0, 1155_0, 1121_0, 1157_0, 775_0, 899_0\n",
      "[INFO 04-07 00:32:42] ax.service.ax_client: Generated new trial 1253 with parameters {'z_sh': 7, 'z_sh_1': 6, 'z_sh_2': 5, 'z_p2': 27, 'z_p2_1': 28, 'z_p2_2': 29, 'z_r2': 77, 'z_r2_1': 80, 'z_r2_2': 83, 'x_s': 0.5, 'x_s_1': 0.4, 'x_s_2': 0.3, 'x_p1': 0.602895, 'x_p1_1': 0.502895, 'x_p1_2': 0.402895, 'x_p2': 0.5, 'x_p2_1': 0.4, 'x_p2_2': 0.3, 'x_r2': 0.968737, 'x_r2_1': 0.868737, 'x_r2_2': 0.768737} using model BoTorch.\n",
      "[INFO 04-07 00:32:42] ax.service.ax_client: Completed trial 1253 with data: {'Viable_Cross_Terms': (77, None)}.\n",
      "[INFO 04-07 00:32:43] ax.modelbridge.base: Leaving out out-of-design observations for arms: 729_0, 1035_0, 977_0, 489_0, 686_0, 1155_0, 1121_0, 1157_0, 775_0, 899_0\n",
      "[INFO 04-07 00:37:36] ax.service.ax_client: Generated new trial 1254 with parameters {'z_sh': 7, 'z_sh_1': 6, 'z_sh_2': 5, 'z_p2': 34, 'z_p2_1': 34, 'z_p2_2': 32, 'z_r2': 80, 'z_r2_1': 80, 'z_r2_2': 84, 'x_s': 0.5, 'x_s_1': 0.4, 'x_s_2': 0.3, 'x_p1': 0.656196, 'x_p1_1': 0.556196, 'x_p1_2': 0.456196, 'x_p2': 0.5, 'x_p2_1': 0.4, 'x_p2_2': 0.3, 'x_r2': 1.089857, 'x_r2_1': 0.989857, 'x_r2_2': 0.889857} using model BoTorch.\n",
      "[INFO 04-07 00:37:36] ax.service.ax_client: Completed trial 1254 with data: {'Viable_Cross_Terms': (81, None)}.\n",
      "[INFO 04-07 00:37:37] ax.modelbridge.base: Leaving out out-of-design observations for arms: 729_0, 1035_0, 977_0, 489_0, 686_0, 1155_0, 1121_0, 1157_0, 775_0, 899_0\n",
      "[INFO 04-07 00:42:26] ax.service.ax_client: Generated new trial 1255 with parameters {'z_sh': 7, 'z_sh_1': 14, 'z_sh_2': 5, 'z_p2': 35, 'z_p2_1': 34, 'z_p2_2': 33, 'z_r2': 80, 'z_r2_1': 85, 'z_r2_2': 84, 'x_s': 0.5, 'x_s_1': 0.4, 'x_s_2': 0.3, 'x_p1': 0.60354, 'x_p1_1': 0.50354, 'x_p1_2': 0.40354, 'x_p2': 0.5, 'x_p2_1': 0.4, 'x_p2_2': 0.3, 'x_r2': 1.074927, 'x_r2_1': 0.974927, 'x_r2_2': 0.874927} using model BoTorch.\n",
      "[INFO 04-07 00:42:26] ax.service.ax_client: Completed trial 1255 with data: {'Viable_Cross_Terms': (81, None)}.\n",
      "[INFO 04-07 00:42:27] ax.modelbridge.base: Leaving out out-of-design observations for arms: 729_0, 1035_0, 977_0, 489_0, 686_0, 1155_0, 1121_0, 1157_0, 775_0, 899_0\n",
      "[INFO 04-07 00:48:19] ax.service.ax_client: Generated new trial 1256 with parameters {'z_sh': 7, 'z_sh_1': 14, 'z_sh_2': 5, 'z_p2': 27, 'z_p2_1': 34, 'z_p2_2': 25, 'z_r2': 80, 'z_r2_1': 85, 'z_r2_2': 84, 'x_s': 0.5, 'x_s_1': 0.4, 'x_s_2': 0.3, 'x_p1': 0.632644, 'x_p1_1': 0.532644, 'x_p1_2': 0.432644, 'x_p2': 0.5, 'x_p2_1': 0.4, 'x_p2_2': 0.3, 'x_r2': 1.080626, 'x_r2_1': 0.980626, 'x_r2_2': 0.880626} using model BoTorch.\n",
      "[INFO 04-07 00:48:19] ax.service.ax_client: Completed trial 1256 with data: {'Viable_Cross_Terms': (81, None)}.\n",
      "[INFO 04-07 00:48:19] ax.modelbridge.base: Leaving out out-of-design observations for arms: 729_0, 1035_0, 977_0, 489_0, 686_0, 1155_0, 1121_0, 1157_0, 775_0, 899_0\n",
      "[INFO 04-07 00:53:05] ax.service.ax_client: Generated new trial 1257 with parameters {'z_sh': 7, 'z_sh_1': 6, 'z_sh_2': 5, 'z_p2': 27, 'z_p2_1': 33, 'z_p2_2': 33, 'z_r2': 80, 'z_r2_1': 84, 'z_r2_2': 79, 'x_s': 0.5, 'x_s_1': 0.4, 'x_s_2': 0.3, 'x_p1': 0.605653, 'x_p1_1': 0.505653, 'x_p1_2': 0.405653, 'x_p2': 0.5, 'x_p2_1': 0.4, 'x_p2_2': 0.3, 'x_r2': 1.07965, 'x_r2_1': 0.97965, 'x_r2_2': 0.87965} using model BoTorch.\n",
      "[INFO 04-07 00:53:05] ax.service.ax_client: Completed trial 1257 with data: {'Viable_Cross_Terms': (80, None)}.\n",
      "[INFO 04-07 00:53:06] ax.modelbridge.base: Leaving out out-of-design observations for arms: 729_0, 1035_0, 977_0, 489_0, 686_0, 1155_0, 1121_0, 1157_0, 775_0, 899_0\n",
      "[INFO 04-07 00:57:53] ax.service.ax_client: Generated new trial 1258 with parameters {'z_sh': 7, 'z_sh_1': 6, 'z_sh_2': 5, 'z_p2': 29, 'z_p2_1': 32, 'z_p2_2': 29, 'z_r2': 80, 'z_r2_1': 72, 'z_r2_2': 73, 'x_s': 0.5, 'x_s_1': 0.4, 'x_s_2': 0.3, 'x_p1': 0.624396, 'x_p1_1': 0.524396, 'x_p1_2': 0.424396, 'x_p2': 0.5, 'x_p2_1': 0.4, 'x_p2_2': 0.3, 'x_r2': 1.05959, 'x_r2_1': 0.95959, 'x_r2_2': 0.85959} using model BoTorch.\n",
      "[INFO 04-07 00:57:53] ax.service.ax_client: Completed trial 1258 with data: {'Viable_Cross_Terms': (83, None)}.\n",
      "[INFO 04-07 00:57:54] ax.modelbridge.base: Leaving out out-of-design observations for arms: 729_0, 1035_0, 977_0, 489_0, 686_0, 1155_0, 1121_0, 1157_0, 775_0, 899_0\n",
      "[INFO 04-07 01:02:14] ax.service.ax_client: Generated new trial 1259 with parameters {'z_sh': 7, 'z_sh_1': 6, 'z_sh_2': 5, 'z_p2': 27, 'z_p2_1': 28, 'z_p2_2': 25, 'z_r2': 77, 'z_r2_1': 76, 'z_r2_2': 83, 'x_s': 0.5, 'x_s_1': 0.4, 'x_s_2': 0.3, 'x_p1': 0.564306, 'x_p1_1': 0.464306, 'x_p1_2': 0.364306, 'x_p2': 0.5, 'x_p2_1': 0.4, 'x_p2_2': 0.3, 'x_r2': 0.956881, 'x_r2_1': 0.856881, 'x_r2_2': 0.756881} using model BoTorch.\n",
      "[INFO 04-07 01:02:14] ax.service.ax_client: Completed trial 1259 with data: {'Viable_Cross_Terms': (39, None)}.\n",
      "[INFO 04-07 01:02:15] ax.modelbridge.base: Leaving out out-of-design observations for arms: 729_0, 1035_0, 977_0, 489_0, 686_0, 1155_0, 1121_0, 1157_0, 775_0, 899_0\n",
      "[INFO 04-07 01:06:58] ax.service.ax_client: Generated new trial 1260 with parameters {'z_sh': 7, 'z_sh_1': 6, 'z_sh_2': 5, 'z_p2': 35, 'z_p2_1': 34, 'z_p2_2': 33, 'z_r2': 80, 'z_r2_1': 71, 'z_r2_2': 84, 'x_s': 0.5, 'x_s_1': 0.4, 'x_s_2': 0.3, 'x_p1': 0.64008, 'x_p1_1': 0.54008, 'x_p1_2': 0.44008, 'x_p2': 0.5, 'x_p2_1': 0.4, 'x_p2_2': 0.3, 'x_r2': 1.073972, 'x_r2_1': 0.973972, 'x_r2_2': 0.873972} using model BoTorch.\n",
      "[INFO 04-07 01:06:58] ax.service.ax_client: Completed trial 1260 with data: {'Viable_Cross_Terms': (82, None)}.\n",
      "[INFO 04-07 01:06:58] ax.modelbridge.base: Leaving out out-of-design observations for arms: 729_0, 1035_0, 977_0, 489_0, 686_0, 1155_0, 1121_0, 1157_0, 775_0, 899_0\n",
      "[INFO 04-07 01:12:13] ax.service.ax_client: Generated new trial 1261 with parameters {'z_sh': 7, 'z_sh_1': 6, 'z_sh_2': 5, 'z_p2': 35, 'z_p2_1': 34, 'z_p2_2': 33, 'z_r2': 80, 'z_r2_1': 85, 'z_r2_2': 70, 'x_s': 0.5, 'x_s_1': 0.4, 'x_s_2': 0.3, 'x_p1': 0.616048, 'x_p1_1': 0.516048, 'x_p1_2': 0.416048, 'x_p2': 0.5, 'x_p2_1': 0.4, 'x_p2_2': 0.3, 'x_r2': 1.087986, 'x_r2_1': 0.987986, 'x_r2_2': 0.887986} using model BoTorch.\n",
      "[INFO 04-07 01:12:13] ax.service.ax_client: Completed trial 1261 with data: {'Viable_Cross_Terms': (78, None)}.\n",
      "[INFO 04-07 01:12:14] ax.modelbridge.base: Leaving out out-of-design observations for arms: 729_0, 1035_0, 977_0, 489_0, 686_0, 1155_0, 1121_0, 1157_0, 775_0, 899_0\n",
      "[INFO 04-07 01:17:39] ax.service.ax_client: Generated new trial 1262 with parameters {'z_sh': 7, 'z_sh_1': 14, 'z_sh_2': 5, 'z_p2': 35, 'z_p2_1': 34, 'z_p2_2': 33, 'z_r2': 80, 'z_r2_1': 85, 'z_r2_2': 84, 'x_s': 0.5, 'x_s_1': 0.4, 'x_s_2': 0.3, 'x_p1': 0.61721, 'x_p1_1': 0.51721, 'x_p1_2': 0.41721, 'x_p2': 0.5, 'x_p2_1': 0.4, 'x_p2_2': 0.3, 'x_r2': 1.053098, 'x_r2_1': 0.953098, 'x_r2_2': 0.853098} using model BoTorch.\n",
      "[INFO 04-07 01:17:39] ax.service.ax_client: Completed trial 1262 with data: {'Viable_Cross_Terms': (83, None)}.\n",
      "[INFO 04-07 01:17:40] ax.modelbridge.base: Leaving out out-of-design observations for arms: 729_0, 1035_0, 977_0, 489_0, 686_0, 1155_0, 1121_0, 1157_0, 775_0, 899_0\n",
      "[INFO 04-07 01:22:22] ax.service.ax_client: Generated new trial 1263 with parameters {'z_sh': 7, 'z_sh_1': 6, 'z_sh_2': 5, 'z_p2': 34, 'z_p2_1': 34, 'z_p2_2': 32, 'z_r2': 80, 'z_r2_1': 71, 'z_r2_2': 79, 'x_s': 0.5, 'x_s_1': 0.4, 'x_s_2': 0.3, 'x_p1': 0.6874, 'x_p1_1': 0.5874, 'x_p1_2': 0.4874, 'x_p2': 0.5, 'x_p2_1': 0.4, 'x_p2_2': 0.3, 'x_r2': 1.107177, 'x_r2_1': 1.007177, 'x_r2_2': 0.907177} using model BoTorch.\n",
      "[INFO 04-07 01:22:22] ax.service.ax_client: Completed trial 1263 with data: {'Viable_Cross_Terms': (79, None)}.\n",
      "[INFO 04-07 01:22:23] ax.modelbridge.base: Leaving out out-of-design observations for arms: 729_0, 1035_0, 977_0, 489_0, 686_0, 1155_0, 1121_0, 1157_0, 775_0, 899_0\n",
      "[INFO 04-07 01:28:21] ax.service.ax_client: Generated new trial 1264 with parameters {'z_sh': 7, 'z_sh_1': 14, 'z_sh_2': 5, 'z_p2': 35, 'z_p2_1': 34, 'z_p2_2': 25, 'z_r2': 80, 'z_r2_1': 71, 'z_r2_2': 84, 'x_s': 0.5, 'x_s_1': 0.4, 'x_s_2': 0.3, 'x_p1': 0.593256, 'x_p1_1': 0.493256, 'x_p1_2': 0.393256, 'x_p2': 0.5, 'x_p2_1': 0.4, 'x_p2_2': 0.3, 'x_r2': 1.056978, 'x_r2_1': 0.956978, 'x_r2_2': 0.856978} using model BoTorch.\n",
      "[INFO 04-07 01:28:21] ax.service.ax_client: Completed trial 1264 with data: {'Viable_Cross_Terms': (84, None)}.\n",
      "[INFO 04-07 01:28:22] ax.modelbridge.base: Leaving out out-of-design observations for arms: 729_0, 1035_0, 977_0, 489_0, 686_0, 1155_0, 1121_0, 1157_0, 775_0, 899_0\n",
      "[INFO 04-07 01:33:19] ax.service.ax_client: Generated new trial 1265 with parameters {'z_sh': 7, 'z_sh_1': 6, 'z_sh_2': 5, 'z_p2': 35, 'z_p2_1': 26, 'z_p2_2': 33, 'z_r2': 80, 'z_r2_1': 85, 'z_r2_2': 84, 'x_s': 0.5, 'x_s_1': 0.4, 'x_s_2': 0.3, 'x_p1': 0.581506, 'x_p1_1': 0.481506, 'x_p1_2': 0.381506, 'x_p2': 0.5, 'x_p2_1': 0.4, 'x_p2_2': 0.3, 'x_r2': 1.084592, 'x_r2_1': 0.984592, 'x_r2_2': 0.884592} using model BoTorch.\n",
      "[INFO 04-07 01:33:19] ax.service.ax_client: Completed trial 1265 with data: {'Viable_Cross_Terms': (73, None)}.\n",
      "[INFO 04-07 01:33:20] ax.modelbridge.base: Leaving out out-of-design observations for arms: 729_0, 1035_0, 977_0, 489_0, 686_0, 1155_0, 1121_0, 1157_0, 775_0, 899_0\n",
      "[INFO 04-07 01:39:19] ax.service.ax_client: Generated new trial 1266 with parameters {'z_sh': 7, 'z_sh_1': 8, 'z_sh_2': 5, 'z_p2': 27, 'z_p2_1': 27, 'z_p2_2': 33, 'z_r2': 83, 'z_r2_1': 72, 'z_r2_2': 84, 'x_s': 0.5, 'x_s_1': 0.4, 'x_s_2': 0.3, 'x_p1': 0.647138, 'x_p1_1': 0.547138, 'x_p1_2': 0.447138, 'x_p2': 0.5, 'x_p2_1': 0.4, 'x_p2_2': 0.3, 'x_r2': 0.962229, 'x_r2_1': 0.862229, 'x_r2_2': 0.762229} using model BoTorch.\n",
      "[INFO 04-07 01:39:19] ax.service.ax_client: Completed trial 1266 with data: {'Viable_Cross_Terms': (32, None)}.\n",
      "[INFO 04-07 01:39:20] ax.modelbridge.base: Leaving out out-of-design observations for arms: 729_0, 1035_0, 977_0, 489_0, 686_0, 1155_0, 1121_0, 1157_0, 775_0, 899_0\n",
      "[INFO 04-07 01:44:27] ax.service.ax_client: Generated new trial 1267 with parameters {'z_sh': 7, 'z_sh_1': 9, 'z_sh_2': 5, 'z_p2': 35, 'z_p2_1': 26, 'z_p2_2': 33, 'z_r2': 80, 'z_r2_1': 80, 'z_r2_2': 84, 'x_s': 0.5, 'x_s_1': 0.4, 'x_s_2': 0.3, 'x_p1': 0.595424, 'x_p1_1': 0.495424, 'x_p1_2': 0.395424, 'x_p2': 0.5, 'x_p2_1': 0.4, 'x_p2_2': 0.3, 'x_r2': 1.103642, 'x_r2_1': 1.003642, 'x_r2_2': 0.903642} using model BoTorch.\n",
      "[INFO 04-07 01:44:27] ax.service.ax_client: Completed trial 1267 with data: {'Viable_Cross_Terms': (72, None)}.\n",
      "[INFO 04-07 01:44:28] ax.modelbridge.base: Leaving out out-of-design observations for arms: 729_0, 1035_0, 977_0, 489_0, 686_0, 1155_0, 1121_0, 1157_0, 775_0, 899_0\n",
      "[INFO 04-07 01:49:38] ax.service.ax_client: Generated new trial 1268 with parameters {'z_sh': 7, 'z_sh_1': 6, 'z_sh_2': 5, 'z_p2': 34, 'z_p2_1': 34, 'z_p2_2': 32, 'z_r2': 80, 'z_r2_1': 80, 'z_r2_2': 80, 'x_s': 0.5, 'x_s_1': 0.4, 'x_s_2': 0.3, 'x_p1': 0.630568, 'x_p1_1': 0.530568, 'x_p1_2': 0.430568, 'x_p2': 0.5, 'x_p2_1': 0.4, 'x_p2_2': 0.3, 'x_r2': 1.057368, 'x_r2_1': 0.957368, 'x_r2_2': 0.857368} using model BoTorch.\n",
      "[INFO 04-07 01:49:38] ax.service.ax_client: Completed trial 1268 with data: {'Viable_Cross_Terms': (83, None)}.\n",
      "[INFO 04-07 01:49:39] ax.modelbridge.base: Leaving out out-of-design observations for arms: 729_0, 1035_0, 977_0, 489_0, 1268_0, 1155_0, 686_0, 1121_0, 1157_0, 775_0, 899_0\n",
      "[INFO 04-07 01:53:00] ax.service.ax_client: Generated new trial 1269 with parameters {'z_sh': 15, 'z_sh_1': 13, 'z_sh_2': 5, 'z_p2': 29, 'z_p2_1': 33, 'z_p2_2': 30, 'z_r2': 86, 'z_r2_1': 79, 'z_r2_2': 79, 'x_s': -0.3, 'x_s_1': -0.4, 'x_s_2': -0.5, 'x_p1': 0.042689, 'x_p1_1': -0.057311, 'x_p1_2': -0.157311, 'x_p2': -0.3, 'x_p2_1': -0.4, 'x_p2_2': -0.5, 'x_r2': -0.507119, 'x_r2_1': -0.607119, 'x_r2_2': -0.707119} using model BoTorch.\n",
      "[INFO 04-07 01:53:00] ax.service.ax_client: Completed trial 1269 with data: {'Viable_Cross_Terms': (10, None)}.\n",
      "[INFO 04-07 01:53:01] ax.modelbridge.base: Leaving out out-of-design observations for arms: 729_0, 1035_0, 977_0, 489_0, 1268_0, 1155_0, 686_0, 1121_0, 1157_0, 775_0, 899_0\n",
      "[INFO 04-07 01:58:24] ax.service.ax_client: Generated new trial 1270 with parameters {'z_sh': 13, 'z_sh_1': 6, 'z_sh_2': 5, 'z_p2': 27, 'z_p2_1': 34, 'z_p2_2': 31, 'z_r2': 80, 'z_r2_1': 85, 'z_r2_2': 84, 'x_s': 0.5, 'x_s_1': 0.4, 'x_s_2': 0.3, 'x_p1': 0.626917, 'x_p1_1': 0.526917, 'x_p1_2': 0.426917, 'x_p2': 0.5, 'x_p2_1': 0.4, 'x_p2_2': 0.3, 'x_r2': 1.070001, 'x_r2_1': 0.970001, 'x_r2_2': 0.870001} using model BoTorch.\n",
      "[INFO 04-07 01:58:24] ax.service.ax_client: Completed trial 1270 with data: {'Viable_Cross_Terms': (81, None)}.\n",
      "[INFO 04-07 01:58:25] ax.modelbridge.base: Leaving out out-of-design observations for arms: 729_0, 1035_0, 977_0, 489_0, 1268_0, 1155_0, 686_0, 1121_0, 1157_0, 775_0, 899_0\n",
      "[INFO 04-07 02:03:24] ax.service.ax_client: Generated new trial 1271 with parameters {'z_sh': 7, 'z_sh_1': 6, 'z_sh_2': 5, 'z_p2': 35, 'z_p2_1': 34, 'z_p2_2': 33, 'z_r2': 80, 'z_r2_1': 71, 'z_r2_2': 84, 'x_s': 0.5, 'x_s_1': 0.4, 'x_s_2': 0.3, 'x_p1': 0.603678, 'x_p1_1': 0.503678, 'x_p1_2': 0.403678, 'x_p2': 0.5, 'x_p2_1': 0.4, 'x_p2_2': 0.3, 'x_r2': 1.0479, 'x_r2_1': 0.9479, 'x_r2_2': 0.8479} using model BoTorch.\n",
      "[INFO 04-07 02:03:24] ax.service.ax_client: Completed trial 1271 with data: {'Viable_Cross_Terms': (81, None)}.\n",
      "[INFO 04-07 02:03:25] ax.modelbridge.base: Leaving out out-of-design observations for arms: 729_0, 1035_0, 977_0, 489_0, 1268_0, 1155_0, 686_0, 1121_0, 1157_0, 775_0, 899_0\n",
      "[INFO 04-07 02:10:41] ax.service.ax_client: Generated new trial 1272 with parameters {'z_sh': 7, 'z_sh_1': 8, 'z_sh_2': 5, 'z_p2': 35, 'z_p2_1': 29, 'z_p2_2': 33, 'z_r2': 80, 'z_r2_1': 73, 'z_r2_2': 84, 'x_s': 0.5, 'x_s_1': 0.4, 'x_s_2': 0.3, 'x_p1': 0.759789, 'x_p1_1': 0.659789, 'x_p1_2': 0.559789, 'x_p2': 0.306292, 'x_p2_1': 0.206292, 'x_p2_2': 0.106292, 'x_r2': 0.991055, 'x_r2_1': 0.891055, 'x_r2_2': 0.791055} using model BoTorch.\n",
      "[INFO 04-07 02:10:41] ax.service.ax_client: Completed trial 1272 with data: {'Viable_Cross_Terms': (73, None)}.\n",
      "[INFO 04-07 02:10:42] ax.modelbridge.base: Leaving out out-of-design observations for arms: 729_0, 1035_0, 977_0, 489_0, 1268_0, 1155_0, 686_0, 1121_0, 1157_0, 775_0, 899_0\n",
      "[INFO 04-07 02:15:51] ax.service.ax_client: Generated new trial 1273 with parameters {'z_sh': 7, 'z_sh_1': 6, 'z_sh_2': 5, 'z_p2': 35, 'z_p2_1': 34, 'z_p2_2': 33, 'z_r2': 80, 'z_r2_1': 71, 'z_r2_2': 84, 'x_s': 0.5, 'x_s_1': 0.4, 'x_s_2': 0.3, 'x_p1': 0.603648, 'x_p1_1': 0.503648, 'x_p1_2': 0.403648, 'x_p2': 0.5, 'x_p2_1': 0.4, 'x_p2_2': 0.3, 'x_r2': 1.053202, 'x_r2_1': 0.953202, 'x_r2_2': 0.853202} using model BoTorch.\n",
      "[INFO 04-07 02:15:51] ax.service.ax_client: Completed trial 1273 with data: {'Viable_Cross_Terms': (81, None)}.\n",
      "[INFO 04-07 02:15:52] ax.modelbridge.base: Leaving out out-of-design observations for arms: 729_0, 1035_0, 977_0, 489_0, 1268_0, 1155_0, 686_0, 1121_0, 1157_0, 775_0, 899_0\n",
      "[INFO 04-07 02:21:03] ax.service.ax_client: Generated new trial 1274 with parameters {'z_sh': 7, 'z_sh_1': 6, 'z_sh_2': 5, 'z_p2': 27, 'z_p2_1': 34, 'z_p2_2': 28, 'z_r2': 80, 'z_r2_1': 84, 'z_r2_2': 84, 'x_s': 0.5, 'x_s_1': 0.4, 'x_s_2': 0.3, 'x_p1': 0.680148, 'x_p1_1': 0.580148, 'x_p1_2': 0.480148, 'x_p2': 0.5, 'x_p2_1': 0.4, 'x_p2_2': 0.3, 'x_r2': 1.117432, 'x_r2_1': 1.017432, 'x_r2_2': 0.917432} using model BoTorch.\n",
      "[INFO 04-07 02:21:03] ax.service.ax_client: Completed trial 1274 with data: {'Viable_Cross_Terms': (82, None)}.\n",
      "[INFO 04-07 02:21:03] ax.modelbridge.base: Leaving out out-of-design observations for arms: 729_0, 1035_0, 977_0, 489_0, 1268_0, 1155_0, 686_0, 1121_0, 1157_0, 775_0, 899_0\n",
      "[INFO 04-07 02:25:23] ax.service.ax_client: Generated new trial 1275 with parameters {'z_sh': 7, 'z_sh_1': 6, 'z_sh_2': 5, 'z_p2': 34, 'z_p2_1': 34, 'z_p2_2': 32, 'z_r2': 80, 'z_r2_1': 71, 'z_r2_2': 82, 'x_s': 0.5, 'x_s_1': 0.4, 'x_s_2': 0.3, 'x_p1': 0.599581, 'x_p1_1': 0.499581, 'x_p1_2': 0.399581, 'x_p2': 0.5, 'x_p2_1': 0.4, 'x_p2_2': 0.3, 'x_r2': 1.042374, 'x_r2_1': 0.942374, 'x_r2_2': 0.842374} using model BoTorch.\n",
      "[INFO 04-07 02:25:23] ax.service.ax_client: Completed trial 1275 with data: {'Viable_Cross_Terms': (80, None)}.\n",
      "[INFO 04-07 02:25:23] ax.modelbridge.base: Leaving out out-of-design observations for arms: 729_0, 1035_0, 977_0, 489_0, 1268_0, 1155_0, 686_0, 1121_0, 1157_0, 775_0, 899_0\n",
      "[INFO 04-07 02:30:55] ax.service.ax_client: Generated new trial 1276 with parameters {'z_sh': 7, 'z_sh_1': 6, 'z_sh_2': 5, 'z_p2': 35, 'z_p2_1': 34, 'z_p2_2': 33, 'z_r2': 80, 'z_r2_1': 73, 'z_r2_2': 84, 'x_s': 0.5, 'x_s_1': 0.4, 'x_s_2': 0.3, 'x_p1': 0.603944, 'x_p1_1': 0.503944, 'x_p1_2': 0.403944, 'x_p2': 0.5, 'x_p2_1': 0.4, 'x_p2_2': 0.3, 'x_r2': 1.097864, 'x_r2_1': 0.997864, 'x_r2_2': 0.897864} using model BoTorch.\n",
      "[INFO 04-07 02:30:55] ax.service.ax_client: Completed trial 1276 with data: {'Viable_Cross_Terms': (74, None)}.\n",
      "[INFO 04-07 02:30:56] ax.modelbridge.base: Leaving out out-of-design observations for arms: 729_0, 1035_0, 977_0, 489_0, 1268_0, 1155_0, 686_0, 1121_0, 1157_0, 775_0, 899_0\n",
      "[INFO 04-07 02:37:15] ax.service.ax_client: Generated new trial 1277 with parameters {'z_sh': 7, 'z_sh_1': 13, 'z_sh_2': 13, 'z_p2': 29, 'z_p2_1': 28, 'z_p2_2': 30, 'z_r2': 86, 'z_r2_1': 74, 'z_r2_2': 80, 'x_s': 0.5, 'x_s_1': 0.4, 'x_s_2': 0.3, 'x_p1': 0.782297, 'x_p1_1': 0.682297, 'x_p1_2': 0.582297, 'x_p2': 0.179628, 'x_p2_1': 0.079628, 'x_p2_2': -0.020372, 'x_r2': 0.969871, 'x_r2_1': 0.869871, 'x_r2_2': 0.769871} using model BoTorch.\n",
      "[INFO 04-07 02:37:15] ax.service.ax_client: Completed trial 1277 with data: {'Viable_Cross_Terms': (26, None)}.\n",
      "[INFO 04-07 02:37:16] ax.modelbridge.base: Leaving out out-of-design observations for arms: 729_0, 1035_0, 977_0, 489_0, 1268_0, 1155_0, 686_0, 1121_0, 1157_0, 775_0, 899_0\n",
      "[INFO 04-07 02:42:18] ax.service.ax_client: Generated new trial 1278 with parameters {'z_sh': 11, 'z_sh_1': 12, 'z_sh_2': 5, 'z_p2': 34, 'z_p2_1': 32, 'z_p2_2': 29, 'z_r2': 77, 'z_r2_1': 80, 'z_r2_2': 80, 'x_s': 0.5, 'x_s_1': 0.4, 'x_s_2': 0.3, 'x_p1': 0.576192, 'x_p1_1': 0.476192, 'x_p1_2': 0.376192, 'x_p2': 0.5, 'x_p2_1': 0.4, 'x_p2_2': 0.3, 'x_r2': 0.965968, 'x_r2_1': 0.865968, 'x_r2_2': 0.765968} using model BoTorch.\n",
      "[INFO 04-07 02:42:18] ax.service.ax_client: Completed trial 1278 with data: {'Viable_Cross_Terms': (79, None)}.\n",
      "[INFO 04-07 02:42:18] ax.modelbridge.base: Leaving out out-of-design observations for arms: 729_0, 1035_0, 977_0, 489_0, 1268_0, 1155_0, 686_0, 1121_0, 1157_0, 775_0, 899_0\n",
      "[INFO 04-07 02:47:44] ax.service.ax_client: Generated new trial 1279 with parameters {'z_sh': 7, 'z_sh_1': 7, 'z_sh_2': 5, 'z_p2': 31, 'z_p2_1': 28, 'z_p2_2': 27, 'z_r2': 83, 'z_r2_1': 81, 'z_r2_2': 73, 'x_s': 0.5, 'x_s_1': 0.4, 'x_s_2': 0.3, 'x_p1': 0.643063, 'x_p1_1': 0.543063, 'x_p1_2': 0.443063, 'x_p2': 0.5, 'x_p2_1': 0.4, 'x_p2_2': 0.3, 'x_r2': 0.959036, 'x_r2_1': 0.859036, 'x_r2_2': 0.759036} using model BoTorch.\n",
      "[INFO 04-07 02:47:44] ax.service.ax_client: Completed trial 1279 with data: {'Viable_Cross_Terms': (32, None)}.\n",
      "[INFO 04-07 02:47:45] ax.modelbridge.base: Leaving out out-of-design observations for arms: 729_0, 1035_0, 977_0, 489_0, 1268_0, 1155_0, 686_0, 1121_0, 1157_0, 775_0, 899_0\n",
      "[INFO 04-07 02:52:04] ax.service.ax_client: Generated new trial 1280 with parameters {'z_sh': 11, 'z_sh_1': 12, 'z_sh_2': 5, 'z_p2': 28, 'z_p2_1': 34, 'z_p2_2': 26, 'z_r2': 81, 'z_r2_1': 74, 'z_r2_2': 77, 'x_s': 0.5, 'x_s_1': 0.4, 'x_s_2': 0.3, 'x_p1': 0.601944, 'x_p1_1': 0.501944, 'x_p1_2': 0.401944, 'x_p2': 0.5, 'x_p2_1': 0.4, 'x_p2_2': 0.3, 'x_r2': 1.046545, 'x_r2_1': 0.946545, 'x_r2_2': 0.846545} using model BoTorch.\n",
      "[INFO 04-07 02:52:04] ax.service.ax_client: Completed trial 1280 with data: {'Viable_Cross_Terms': (38, None)}.\n",
      "[INFO 04-07 02:52:05] ax.modelbridge.base: Leaving out out-of-design observations for arms: 729_0, 1035_0, 977_0, 489_0, 1268_0, 1155_0, 686_0, 1121_0, 1157_0, 775_0, 899_0\n",
      "[INFO 04-07 02:57:57] ax.service.ax_client: Generated new trial 1281 with parameters {'z_sh': 7, 'z_sh_1': 13, 'z_sh_2': 10, 'z_p2': 27, 'z_p2_1': 31, 'z_p2_2': 30, 'z_r2': 85, 'z_r2_1': 81, 'z_r2_2': 77, 'x_s': 0.5, 'x_s_1': 0.4, 'x_s_2': 0.3, 'x_p1': 0.664181, 'x_p1_1': 0.564181, 'x_p1_2': 0.464181, 'x_p2': 0.5, 'x_p2_1': 0.4, 'x_p2_2': 0.3, 'x_r2': 0.983823, 'x_r2_1': 0.883823, 'x_r2_2': 0.783823} using model BoTorch.\n",
      "[INFO 04-07 02:57:57] ax.service.ax_client: Completed trial 1281 with data: {'Viable_Cross_Terms': (32, None)}.\n",
      "[INFO 04-07 02:57:58] ax.modelbridge.base: Leaving out out-of-design observations for arms: 729_0, 1035_0, 977_0, 489_0, 1268_0, 1155_0, 686_0, 1121_0, 1157_0, 775_0, 899_0\n",
      "[INFO 04-07 03:03:02] ax.service.ax_client: Generated new trial 1282 with parameters {'z_sh': 7, 'z_sh_1': 8, 'z_sh_2': 5, 'z_p2': 35, 'z_p2_1': 34, 'z_p2_2': 33, 'z_r2': 77, 'z_r2_1': 77, 'z_r2_2': 84, 'x_s': 0.5, 'x_s_1': 0.4, 'x_s_2': 0.3, 'x_p1': 0.530556, 'x_p1_1': 0.430556, 'x_p1_2': 0.330556, 'x_p2': 0.5, 'x_p2_1': 0.4, 'x_p2_2': 0.3, 'x_r2': 0.958569, 'x_r2_1': 0.858569, 'x_r2_2': 0.758569} using model BoTorch.\n",
      "[INFO 04-07 03:03:02] ax.service.ax_client: Completed trial 1282 with data: {'Viable_Cross_Terms': (34, None)}.\n",
      "[INFO 04-07 03:03:03] ax.modelbridge.base: Leaving out out-of-design observations for arms: 729_0, 1035_0, 977_0, 489_0, 1268_0, 1155_0, 686_0, 1121_0, 1157_0, 775_0, 899_0\n",
      "[INFO 04-07 03:08:15] ax.service.ax_client: Generated new trial 1283 with parameters {'z_sh': 9, 'z_sh_1': 14, 'z_sh_2': 6, 'z_p2': 30, 'z_p2_1': 29, 'z_p2_2': 25, 'z_r2': 77, 'z_r2_1': 77, 'z_r2_2': 81, 'x_s': 0.5, 'x_s_1': 0.4, 'x_s_2': 0.3, 'x_p1': 0.564857, 'x_p1_1': 0.464857, 'x_p1_2': 0.364857, 'x_p2': 0.5, 'x_p2_1': 0.4, 'x_p2_2': 0.3, 'x_r2': 0.956234, 'x_r2_1': 0.856234, 'x_r2_2': 0.756234} using model BoTorch.\n",
      "[INFO 04-07 03:08:15] ax.service.ax_client: Completed trial 1283 with data: {'Viable_Cross_Terms': (39, None)}.\n",
      "[INFO 04-07 03:08:16] ax.modelbridge.base: Leaving out out-of-design observations for arms: 729_0, 1035_0, 977_0, 489_0, 1268_0, 1155_0, 686_0, 1121_0, 1157_0, 775_0, 899_0\n",
      "[INFO 04-07 03:12:52] ax.service.ax_client: Generated new trial 1284 with parameters {'z_sh': 7, 'z_sh_1': 6, 'z_sh_2': 5, 'z_p2': 35, 'z_p2_1': 34, 'z_p2_2': 33, 'z_r2': 80, 'z_r2_1': 85, 'z_r2_2': 84, 'x_s': 0.5, 'x_s_1': 0.4, 'x_s_2': 0.3, 'x_p1': 0.635111, 'x_p1_1': 0.535111, 'x_p1_2': 0.435111, 'x_p2': 0.5, 'x_p2_1': 0.4, 'x_p2_2': 0.3, 'x_r2': 1.083115, 'x_r2_1': 0.983115, 'x_r2_2': 0.883115} using model BoTorch.\n",
      "[INFO 04-07 03:12:52] ax.service.ax_client: Completed trial 1284 with data: {'Viable_Cross_Terms': (81, None)}.\n",
      "[INFO 04-07 03:12:54] ax.modelbridge.base: Leaving out out-of-design observations for arms: 729_0, 1035_0, 977_0, 489_0, 1268_0, 1155_0, 686_0, 1121_0, 1157_0, 775_0, 899_0\n",
      "[INFO 04-07 03:18:23] ax.service.ax_client: Generated new trial 1285 with parameters {'z_sh': 7, 'z_sh_1': 10, 'z_sh_2': 5, 'z_p2': 35, 'z_p2_1': 34, 'z_p2_2': 33, 'z_r2': 80, 'z_r2_1': 77, 'z_r2_2': 84, 'x_s': 0.5, 'x_s_1': 0.4, 'x_s_2': 0.3, 'x_p1': 0.633774, 'x_p1_1': 0.533774, 'x_p1_2': 0.433774, 'x_p2': 0.5, 'x_p2_1': 0.4, 'x_p2_2': 0.3, 'x_r2': 1.052513, 'x_r2_1': 0.952513, 'x_r2_2': 0.852513} using model BoTorch.\n",
      "[INFO 04-07 03:18:23] ax.service.ax_client: Completed trial 1285 with data: {'Viable_Cross_Terms': (86, None)}.\n",
      "[INFO 04-07 03:18:24] ax.modelbridge.base: Leaving out out-of-design observations for arms: 729_0, 1035_0, 977_0, 489_0, 1268_0, 1155_0, 686_0, 1121_0, 1157_0, 775_0, 899_0\n",
      "[INFO 04-07 03:24:05] ax.service.ax_client: Generated new trial 1286 with parameters {'z_sh': 7, 'z_sh_1': 6, 'z_sh_2': 5, 'z_p2': 35, 'z_p2_1': 34, 'z_p2_2': 33, 'z_r2': 80, 'z_r2_1': 71, 'z_r2_2': 84, 'x_s': 0.5, 'x_s_1': 0.4, 'x_s_2': 0.3, 'x_p1': 0.615716, 'x_p1_1': 0.515716, 'x_p1_2': 0.415716, 'x_p2': 0.5, 'x_p2_1': 0.4, 'x_p2_2': 0.3, 'x_r2': 1.054957, 'x_r2_1': 0.954957, 'x_r2_2': 0.854957} using model BoTorch.\n",
      "[INFO 04-07 03:24:05] ax.service.ax_client: Completed trial 1286 with data: {'Viable_Cross_Terms': (83, None)}.\n",
      "[INFO 04-07 03:24:06] ax.modelbridge.base: Leaving out out-of-design observations for arms: 729_0, 1035_0, 977_0, 489_0, 1268_0, 1155_0, 686_0, 1121_0, 1157_0, 775_0, 899_0\n",
      "[INFO 04-07 03:29:00] ax.service.ax_client: Generated new trial 1287 with parameters {'z_sh': 7, 'z_sh_1': 6, 'z_sh_2': 5, 'z_p2': 35, 'z_p2_1': 34, 'z_p2_2': 33, 'z_r2': 80, 'z_r2_1': 71, 'z_r2_2': 84, 'x_s': 0.5, 'x_s_1': 0.4, 'x_s_2': 0.3, 'x_p1': 0.605987, 'x_p1_1': 0.505987, 'x_p1_2': 0.405987, 'x_p2': 0.5, 'x_p2_1': 0.4, 'x_p2_2': 0.3, 'x_r2': 1.057574, 'x_r2_1': 0.957574, 'x_r2_2': 0.857574} using model BoTorch.\n",
      "[INFO 04-07 03:29:00] ax.service.ax_client: Completed trial 1287 with data: {'Viable_Cross_Terms': (81, None)}.\n",
      "[INFO 04-07 03:29:01] ax.modelbridge.base: Leaving out out-of-design observations for arms: 729_0, 1035_0, 977_0, 489_0, 1268_0, 1155_0, 686_0, 1121_0, 1157_0, 775_0, 899_0\n",
      "[INFO 04-07 03:34:16] ax.service.ax_client: Generated new trial 1288 with parameters {'z_sh': 7, 'z_sh_1': 6, 'z_sh_2': 5, 'z_p2': 35, 'z_p2_1': 34, 'z_p2_2': 25, 'z_r2': 80, 'z_r2_1': 85, 'z_r2_2': 84, 'x_s': 0.5, 'x_s_1': 0.4, 'x_s_2': 0.3, 'x_p1': 0.610329, 'x_p1_1': 0.510329, 'x_p1_2': 0.410329, 'x_p2': 0.5, 'x_p2_1': 0.4, 'x_p2_2': 0.3, 'x_r2': 1.059088, 'x_r2_1': 0.959088, 'x_r2_2': 0.859088} using model BoTorch.\n",
      "[INFO 04-07 03:34:16] ax.service.ax_client: Completed trial 1288 with data: {'Viable_Cross_Terms': (81, None)}.\n",
      "[INFO 04-07 03:34:17] ax.modelbridge.base: Leaving out out-of-design observations for arms: 729_0, 1035_0, 977_0, 489_0, 1268_0, 1155_0, 686_0, 1121_0, 1157_0, 775_0, 899_0\n",
      "[INFO 04-07 03:39:22] ax.service.ax_client: Generated new trial 1289 with parameters {'z_sh': 7, 'z_sh_1': 14, 'z_sh_2': 5, 'z_p2': 35, 'z_p2_1': 34, 'z_p2_2': 33, 'z_r2': 80, 'z_r2_1': 71, 'z_r2_2': 84, 'x_s': 0.5, 'x_s_1': 0.4, 'x_s_2': 0.3, 'x_p1': 0.597221, 'x_p1_1': 0.497221, 'x_p1_2': 0.397221, 'x_p2': 0.5, 'x_p2_1': 0.4, 'x_p2_2': 0.3, 'x_r2': 1.054645, 'x_r2_1': 0.954645, 'x_r2_2': 0.854645} using model BoTorch.\n",
      "[INFO 04-07 03:39:22] ax.service.ax_client: Completed trial 1289 with data: {'Viable_Cross_Terms': (83, None)}.\n",
      "[INFO 04-07 03:39:22] ax.modelbridge.base: Leaving out out-of-design observations for arms: 729_0, 1035_0, 977_0, 489_0, 1268_0, 1155_0, 686_0, 1121_0, 1157_0, 775_0, 899_0\n",
      "[INFO 04-07 03:44:06] ax.service.ax_client: Generated new trial 1290 with parameters {'z_sh': 7, 'z_sh_1': 6, 'z_sh_2': 5, 'z_p2': 35, 'z_p2_1': 34, 'z_p2_2': 33, 'z_r2': 77, 'z_r2_1': 71, 'z_r2_2': 84, 'x_s': 0.5, 'x_s_1': 0.4, 'x_s_2': 0.3, 'x_p1': 0.552827, 'x_p1_1': 0.452827, 'x_p1_2': 0.352827, 'x_p2': 0.5, 'x_p2_1': 0.4, 'x_p2_2': 0.3, 'x_r2': 0.960875, 'x_r2_1': 0.860875, 'x_r2_2': 0.760875} using model BoTorch.\n",
      "[INFO 04-07 03:44:06] ax.service.ax_client: Completed trial 1290 with data: {'Viable_Cross_Terms': (34, None)}.\n",
      "[INFO 04-07 03:44:07] ax.modelbridge.base: Leaving out out-of-design observations for arms: 729_0, 1035_0, 977_0, 489_0, 1268_0, 1155_0, 686_0, 1121_0, 1157_0, 775_0, 899_0\n",
      "[INFO 04-07 03:51:50] ax.service.ax_client: Generated new trial 1291 with parameters {'z_sh': 10, 'z_sh_1': 12, 'z_sh_2': 8, 'z_p2': 29, 'z_p2_1': 27, 'z_p2_2': 29, 'z_r2': 81, 'z_r2_1': 71, 'z_r2_2': 79, 'x_s': 0.5, 'x_s_1': 0.4, 'x_s_2': 0.3, 'x_p1': 0.496629, 'x_p1_1': 0.396629, 'x_p1_2': 0.296629, 'x_p2': 0.5, 'x_p2_1': 0.4, 'x_p2_2': -0.364029, 'x_r2': 0.95963, 'x_r2_1': 0.719772, 'x_r2_2': 0.619772} using model BoTorch.\n",
      "[INFO 04-07 03:51:50] ax.service.ax_client: Completed trial 1291 with data: {'Viable_Cross_Terms': (19, None)}.\n",
      "[INFO 04-07 03:51:50] ax.modelbridge.base: Leaving out out-of-design observations for arms: 729_0, 1035_0, 977_0, 489_0, 1268_0, 1155_0, 686_0, 1121_0, 1157_0, 775_0, 899_0\n",
      "[INFO 04-07 03:56:58] ax.service.ax_client: Generated new trial 1292 with parameters {'z_sh': 7, 'z_sh_1': 6, 'z_sh_2': 5, 'z_p2': 27, 'z_p2_1': 34, 'z_p2_2': 32, 'z_r2': 80, 'z_r2_1': 84, 'z_r2_2': 84, 'x_s': 0.5, 'x_s_1': 0.4, 'x_s_2': 0.3, 'x_p1': 0.570399, 'x_p1_1': 0.470399, 'x_p1_2': 0.370399, 'x_p2': 0.5, 'x_p2_1': 0.4, 'x_p2_2': 0.3, 'x_r2': 1.028675, 'x_r2_1': 0.928675, 'x_r2_2': 0.828675} using model BoTorch.\n",
      "[INFO 04-07 03:56:58] ax.service.ax_client: Completed trial 1292 with data: {'Viable_Cross_Terms': (77, None)}.\n",
      "[INFO 04-07 03:56:59] ax.modelbridge.base: Leaving out out-of-design observations for arms: 729_0, 1035_0, 977_0, 489_0, 1268_0, 1155_0, 686_0, 1121_0, 1157_0, 775_0, 899_0\n",
      "[INFO 04-07 04:01:46] ax.service.ax_client: Generated new trial 1293 with parameters {'z_sh': 7, 'z_sh_1': 13, 'z_sh_2': 5, 'z_p2': 34, 'z_p2_1': 34, 'z_p2_2': 32, 'z_r2': 80, 'z_r2_1': 77, 'z_r2_2': 83, 'x_s': 0.499999, 'x_s_1': 0.400011, 'x_s_2': 0.300127, 'x_p1': 0.629052, 'x_p1_1': 0.529225, 'x_p1_2': 0.429238, 'x_p2': 0.5, 'x_p2_1': 0.40001, 'x_p2_2': 0.300169, 'x_r2': 1.0935, 'x_r2_1': 0.993486, 'x_r2_2': 0.893593} using model BoTorch.\n",
      "[INFO 04-07 04:01:46] ax.service.ax_client: Completed trial 1293 with data: {'Viable_Cross_Terms': (80, None)}.\n",
      "[INFO 04-07 04:01:47] ax.modelbridge.base: Leaving out out-of-design observations for arms: 729_0, 1035_0, 977_0, 489_0, 1268_0, 1155_0, 1293_0, 686_0, 1121_0, 1157_0, 775_0, 899_0\n",
      "[INFO 04-07 04:05:17] ax.service.ax_client: Generated new trial 1294 with parameters {'z_sh': 7, 'z_sh_1': 6, 'z_sh_2': 5, 'z_p2': 27, 'z_p2_1': 34, 'z_p2_2': 32, 'z_r2': 80, 'z_r2_1': 84, 'z_r2_2': 84, 'x_s': 0.5, 'x_s_1': 0.4, 'x_s_2': 0.3, 'x_p1': 0.595816, 'x_p1_1': 0.495816, 'x_p1_2': 0.395816, 'x_p2': 0.5, 'x_p2_1': 0.4, 'x_p2_2': 0.3, 'x_r2': 1.063651, 'x_r2_1': 0.963651, 'x_r2_2': 0.863651} using model BoTorch.\n",
      "[INFO 04-07 04:05:17] ax.service.ax_client: Completed trial 1294 with data: {'Viable_Cross_Terms': (84, None)}.\n",
      "[INFO 04-07 04:05:18] ax.modelbridge.base: Leaving out out-of-design observations for arms: 729_0, 1035_0, 977_0, 489_0, 1268_0, 1155_0, 1293_0, 686_0, 1121_0, 1157_0, 775_0, 899_0\n",
      "[INFO 04-07 04:10:41] ax.service.ax_client: Generated new trial 1295 with parameters {'z_sh': 7, 'z_sh_1': 6, 'z_sh_2': 5, 'z_p2': 35, 'z_p2_1': 34, 'z_p2_2': 25, 'z_r2': 80, 'z_r2_1': 71, 'z_r2_2': 84, 'x_s': 0.5, 'x_s_1': 0.4, 'x_s_2': 0.3, 'x_p1': 0.614105, 'x_p1_1': 0.514105, 'x_p1_2': 0.414105, 'x_p2': 0.5, 'x_p2_1': 0.4, 'x_p2_2': 0.3, 'x_r2': 1.050133, 'x_r2_1': 0.950133, 'x_r2_2': 0.850133} using model BoTorch.\n",
      "[INFO 04-07 04:10:41] ax.service.ax_client: Completed trial 1295 with data: {'Viable_Cross_Terms': (83, None)}.\n",
      "[INFO 04-07 04:10:42] ax.modelbridge.base: Leaving out out-of-design observations for arms: 729_0, 1035_0, 977_0, 489_0, 1268_0, 1155_0, 1293_0, 686_0, 1121_0, 1157_0, 775_0, 899_0\n",
      "[INFO 04-07 04:15:30] ax.service.ax_client: Generated new trial 1296 with parameters {'z_sh': 7, 'z_sh_1': 6, 'z_sh_2': 5, 'z_p2': 27, 'z_p2_1': 34, 'z_p2_2': 32, 'z_r2': 80, 'z_r2_1': 84, 'z_r2_2': 84, 'x_s': 0.5, 'x_s_1': 0.4, 'x_s_2': 0.3, 'x_p1': 0.646824, 'x_p1_1': 0.546824, 'x_p1_2': 0.446824, 'x_p2': 0.5, 'x_p2_1': 0.4, 'x_p2_2': 0.3, 'x_r2': 1.06583, 'x_r2_1': 0.96583, 'x_r2_2': 0.86583} using model BoTorch.\n",
      "[INFO 04-07 04:15:30] ax.service.ax_client: Completed trial 1296 with data: {'Viable_Cross_Terms': (83, None)}.\n",
      "[INFO 04-07 04:15:31] ax.modelbridge.base: Leaving out out-of-design observations for arms: 729_0, 1035_0, 977_0, 489_0, 1268_0, 1155_0, 1293_0, 686_0, 1121_0, 1157_0, 775_0, 899_0\n",
      "[INFO 04-07 04:21:31] ax.service.ax_client: Generated new trial 1297 with parameters {'z_sh': 7, 'z_sh_1': 6, 'z_sh_2': 5, 'z_p2': 27, 'z_p2_1': 34, 'z_p2_2': 25, 'z_r2': 80, 'z_r2_1': 85, 'z_r2_2': 84, 'x_s': 0.5, 'x_s_1': 0.4, 'x_s_2': 0.3, 'x_p1': 0.613774, 'x_p1_1': 0.513774, 'x_p1_2': 0.413774, 'x_p2': 0.5, 'x_p2_1': 0.4, 'x_p2_2': 0.3, 'x_r2': 1.102061, 'x_r2_1': 1.002061, 'x_r2_2': 0.902061} using model BoTorch.\n",
      "[INFO 04-07 04:21:31] ax.service.ax_client: Completed trial 1297 with data: {'Viable_Cross_Terms': (79, None)}.\n",
      "[INFO 04-07 04:21:32] ax.modelbridge.base: Leaving out out-of-design observations for arms: 729_0, 1035_0, 977_0, 489_0, 1268_0, 1155_0, 1293_0, 686_0, 1121_0, 1157_0, 775_0, 899_0\n",
      "[INFO 04-07 04:26:55] ax.service.ax_client: Generated new trial 1298 with parameters {'z_sh': 7, 'z_sh_1': 13, 'z_sh_2': 5, 'z_p2': 34, 'z_p2_1': 34, 'z_p2_2': 32, 'z_r2': 80, 'z_r2_1': 72, 'z_r2_2': 83, 'x_s': 0.5, 'x_s_1': 0.4, 'x_s_2': 0.3, 'x_p1': 0.628721, 'x_p1_1': 0.528721, 'x_p1_2': 0.428721, 'x_p2': 0.5, 'x_p2_1': 0.4, 'x_p2_2': 0.3, 'x_r2': 1.106092, 'x_r2_1': 1.006092, 'x_r2_2': 0.906092} using model BoTorch.\n",
      "[INFO 04-07 04:26:55] ax.service.ax_client: Completed trial 1298 with data: {'Viable_Cross_Terms': (78, None)}.\n",
      "[INFO 04-07 04:26:56] ax.modelbridge.base: Leaving out out-of-design observations for arms: 729_0, 1035_0, 977_0, 489_0, 1268_0, 1155_0, 1293_0, 686_0, 1121_0, 1157_0, 775_0, 899_0\n",
      "[INFO 04-07 04:33:01] ax.service.ax_client: Generated new trial 1299 with parameters {'z_sh': 7, 'z_sh_1': 6, 'z_sh_2': 5, 'z_p2': 35, 'z_p2_1': 34, 'z_p2_2': 25, 'z_r2': 80, 'z_r2_1': 71, 'z_r2_2': 84, 'x_s': 0.5, 'x_s_1': 0.4, 'x_s_2': 0.3, 'x_p1': 0.614665, 'x_p1_1': 0.514665, 'x_p1_2': 0.414665, 'x_p2': 0.5, 'x_p2_1': 0.4, 'x_p2_2': 0.3, 'x_r2': 1.05054, 'x_r2_1': 0.95054, 'x_r2_2': 0.85054} using model BoTorch.\n",
      "[INFO 04-07 04:33:01] ax.service.ax_client: Completed trial 1299 with data: {'Viable_Cross_Terms': (83, None)}.\n",
      "[INFO 04-07 04:33:02] ax.modelbridge.base: Leaving out out-of-design observations for arms: 729_0, 1035_0, 977_0, 489_0, 1268_0, 1155_0, 1293_0, 686_0, 1121_0, 1157_0, 775_0, 899_0\n",
      "[INFO 04-07 04:38:35] ax.service.ax_client: Generated new trial 1300 with parameters {'z_sh': 7, 'z_sh_1': 6, 'z_sh_2': 5, 'z_p2': 35, 'z_p2_1': 34, 'z_p2_2': 33, 'z_r2': 80, 'z_r2_1': 85, 'z_r2_2': 84, 'x_s': 0.5, 'x_s_1': 0.4, 'x_s_2': 0.3, 'x_p1': 0.614498, 'x_p1_1': 0.514498, 'x_p1_2': 0.414498, 'x_p2': 0.5, 'x_p2_1': 0.4, 'x_p2_2': 0.3, 'x_r2': 1.054327, 'x_r2_1': 0.954327, 'x_r2_2': 0.854327} using model BoTorch.\n",
      "[INFO 04-07 04:38:35] ax.service.ax_client: Completed trial 1300 with data: {'Viable_Cross_Terms': (83, None)}.\n",
      "[INFO 04-07 04:38:36] ax.modelbridge.base: Leaving out out-of-design observations for arms: 729_0, 1035_0, 977_0, 489_0, 1268_0, 1155_0, 1293_0, 686_0, 1121_0, 1157_0, 775_0, 899_0\n",
      "[INFO 04-07 04:44:09] ax.service.ax_client: Generated new trial 1301 with parameters {'z_sh': 7, 'z_sh_1': 13, 'z_sh_2': 5, 'z_p2': 34, 'z_p2_1': 34, 'z_p2_2': 32, 'z_r2': 80, 'z_r2_1': 71, 'z_r2_2': 83, 'x_s': 0.5, 'x_s_1': 0.4, 'x_s_2': 0.3, 'x_p1': 0.652375, 'x_p1_1': 0.552375, 'x_p1_2': 0.452375, 'x_p2': 0.5, 'x_p2_1': 0.4, 'x_p2_2': 0.3, 'x_r2': 1.069198, 'x_r2_1': 0.969198, 'x_r2_2': 0.869198} using model BoTorch.\n",
      "[INFO 04-07 04:44:09] ax.service.ax_client: Completed trial 1301 with data: {'Viable_Cross_Terms': (87, None)}.\n",
      "[INFO 04-07 04:44:10] ax.modelbridge.base: Leaving out out-of-design observations for arms: 729_0, 1035_0, 977_0, 489_0, 1268_0, 1155_0, 1293_0, 686_0, 1121_0, 1157_0, 775_0, 899_0\n",
      "[INFO 04-07 04:49:39] ax.service.ax_client: Generated new trial 1302 with parameters {'z_sh': 7, 'z_sh_1': 14, 'z_sh_2': 5, 'z_p2': 27, 'z_p2_1': 26, 'z_p2_2': 25, 'z_r2': 85, 'z_r2_1': 85, 'z_r2_2': 84, 'x_s': 0.5, 'x_s_1': 0.4, 'x_s_2': 0.3, 'x_p1': 0.780909, 'x_p1_1': 0.680909, 'x_p1_2': 0.580909, 'x_p2': 0.5, 'x_p2_1': 0.4, 'x_p2_2': 0.3, 'x_r2': 1.069988, 'x_r2_1': 0.969988, 'x_r2_2': 0.869988} using model BoTorch.\n",
      "[INFO 04-07 04:49:39] ax.service.ax_client: Completed trial 1302 with data: {'Viable_Cross_Terms': (36, None)}.\n",
      "[INFO 04-07 04:49:40] ax.modelbridge.base: Leaving out out-of-design observations for arms: 729_0, 1035_0, 977_0, 489_0, 1268_0, 1155_0, 1293_0, 686_0, 1121_0, 1157_0, 775_0, 899_0\n",
      "[INFO 04-07 04:54:22] ax.service.ax_client: Generated new trial 1303 with parameters {'z_sh': 7, 'z_sh_1': 7, 'z_sh_2': 5, 'z_p2': 27, 'z_p2_1': 34, 'z_p2_2': 32, 'z_r2': 80, 'z_r2_1': 84, 'z_r2_2': 84, 'x_s': 0.5, 'x_s_1': 0.4, 'x_s_2': 0.3, 'x_p1': 0.579401, 'x_p1_1': 0.479401, 'x_p1_2': 0.379401, 'x_p2': 0.5, 'x_p2_1': 0.4, 'x_p2_2': 0.3, 'x_r2': 1.055709, 'x_r2_1': 0.955709, 'x_r2_2': 0.855709} using model BoTorch.\n",
      "[INFO 04-07 04:54:22] ax.service.ax_client: Completed trial 1303 with data: {'Viable_Cross_Terms': (80, None)}.\n",
      "[INFO 04-07 04:54:23] ax.modelbridge.base: Leaving out out-of-design observations for arms: 729_0, 1035_0, 977_0, 489_0, 1268_0, 1155_0, 1293_0, 686_0, 1121_0, 1157_0, 775_0, 899_0\n",
      "[INFO 04-07 04:59:30] ax.service.ax_client: Generated new trial 1304 with parameters {'z_sh': 7, 'z_sh_1': 13, 'z_sh_2': 5, 'z_p2': 35, 'z_p2_1': 34, 'z_p2_2': 32, 'z_r2': 80, 'z_r2_1': 84, 'z_r2_2': 81, 'x_s': 0.5, 'x_s_1': 0.4, 'x_s_2': 0.3, 'x_p1': 0.597939, 'x_p1_1': 0.497939, 'x_p1_2': 0.397939, 'x_p2': 0.5, 'x_p2_1': 0.4, 'x_p2_2': 0.3, 'x_r2': 1.056831, 'x_r2_1': 0.956831, 'x_r2_2': 0.856831} using model BoTorch.\n",
      "[INFO 04-07 04:59:30] ax.service.ax_client: Completed trial 1304 with data: {'Viable_Cross_Terms': (83, None)}.\n",
      "[INFO 04-07 04:59:31] ax.modelbridge.base: Leaving out out-of-design observations for arms: 729_0, 1035_0, 977_0, 489_0, 1268_0, 1155_0, 1293_0, 686_0, 1121_0, 1157_0, 775_0, 899_0\n",
      "[INFO 04-07 05:05:45] ax.service.ax_client: Generated new trial 1305 with parameters {'z_sh': 7, 'z_sh_1': 14, 'z_sh_2': 5, 'z_p2': 27, 'z_p2_1': 26, 'z_p2_2': 25, 'z_r2': 85, 'z_r2_1': 79, 'z_r2_2': 84, 'x_s': 0.5, 'x_s_1': 0.4, 'x_s_2': 0.3, 'x_p1': 0.782942, 'x_p1_1': 0.682942, 'x_p1_2': 0.582942, 'x_p2': 0.5, 'x_p2_1': 0.4, 'x_p2_2': 0.3, 'x_r2': 1.06955, 'x_r2_1': 0.96955, 'x_r2_2': 0.86955} using model BoTorch.\n",
      "[INFO 04-07 05:05:45] ax.service.ax_client: Completed trial 1305 with data: {'Viable_Cross_Terms': (36, None)}.\n",
      "[INFO 04-07 05:05:46] ax.modelbridge.base: Leaving out out-of-design observations for arms: 729_0, 1035_0, 977_0, 489_0, 1268_0, 1155_0, 1293_0, 686_0, 1121_0, 1157_0, 775_0, 899_0\n",
      "[INFO 04-07 05:10:46] ax.service.ax_client: Generated new trial 1306 with parameters {'z_sh': 7, 'z_sh_1': 13, 'z_sh_2': 5, 'z_p2': 34, 'z_p2_1': 34, 'z_p2_2': 32, 'z_r2': 80, 'z_r2_1': 74, 'z_r2_2': 83, 'x_s': 0.5, 'x_s_1': 0.4, 'x_s_2': 0.3, 'x_p1': 0.577359, 'x_p1_1': 0.477359, 'x_p1_2': 0.377359, 'x_p2': 0.5, 'x_p2_1': 0.4, 'x_p2_2': 0.3, 'x_r2': 1.095149, 'x_r2_1': 0.995149, 'x_r2_2': 0.895149} using model BoTorch.\n",
      "[INFO 04-07 05:10:46] ax.service.ax_client: Completed trial 1306 with data: {'Viable_Cross_Terms': (70, None)}.\n",
      "[INFO 04-07 05:10:47] ax.modelbridge.base: Leaving out out-of-design observations for arms: 729_0, 1035_0, 977_0, 489_0, 1268_0, 1155_0, 1293_0, 686_0, 1121_0, 1157_0, 775_0, 899_0\n",
      "[INFO 04-07 05:17:31] ax.service.ax_client: Generated new trial 1307 with parameters {'z_sh': 13, 'z_sh_1': 8, 'z_sh_2': 10, 'z_p2': 27, 'z_p2_1': 28, 'z_p2_2': 30, 'z_r2': 86, 'z_r2_1': 75, 'z_r2_2': 84, 'x_s': 0.5, 'x_s_1': 0.4, 'x_s_2': 0.3, 'x_p1': 0.659752, 'x_p1_1': 0.559752, 'x_p1_2': 0.459752, 'x_p2': 0.394916, 'x_p2_1': -0.4, 'x_p2_2': -0.5, 'x_r2': 1.5, 'x_r2_1': 1.001241, 'x_r2_2': 0.901241} using model BoTorch.\n",
      "[INFO 04-07 05:17:31] ax.service.ax_client: Completed trial 1307 with data: {'Viable_Cross_Terms': (14, None)}.\n",
      "[INFO 04-07 05:17:32] ax.modelbridge.base: Leaving out out-of-design observations for arms: 729_0, 1035_0, 977_0, 489_0, 1268_0, 1155_0, 1293_0, 686_0, 1121_0, 1157_0, 775_0, 899_0\n",
      "[INFO 04-07 05:22:58] ax.service.ax_client: Generated new trial 1308 with parameters {'z_sh': 7, 'z_sh_1': 14, 'z_sh_2': 5, 'z_p2': 35, 'z_p2_1': 34, 'z_p2_2': 33, 'z_r2': 80, 'z_r2_1': 71, 'z_r2_2': 84, 'x_s': 0.5, 'x_s_1': 0.4, 'x_s_2': 0.3, 'x_p1': 0.636069, 'x_p1_1': 0.536069, 'x_p1_2': 0.436069, 'x_p2': 0.5, 'x_p2_1': 0.4, 'x_p2_2': 0.3, 'x_r2': 1.079013, 'x_r2_1': 0.979013, 'x_r2_2': 0.879013} using model BoTorch.\n",
      "[INFO 04-07 05:22:58] ax.service.ax_client: Completed trial 1308 with data: {'Viable_Cross_Terms': (81, None)}.\n",
      "[INFO 04-07 05:22:58] ax.modelbridge.base: Leaving out out-of-design observations for arms: 729_0, 1035_0, 977_0, 489_0, 1268_0, 1155_0, 1293_0, 686_0, 1121_0, 1157_0, 775_0, 899_0\n",
      "[INFO 04-07 05:28:22] ax.service.ax_client: Generated new trial 1309 with parameters {'z_sh': 7, 'z_sh_1': 7, 'z_sh_2': 13, 'z_p2': 28, 'z_p2_1': 31, 'z_p2_2': 31, 'z_r2': 86, 'z_r2_1': 75, 'z_r2_2': 73, 'x_s': -0.3, 'x_s_1': -0.4, 'x_s_2': -0.5, 'x_p1': -0.188972, 'x_p1_1': -0.288972, 'x_p1_2': -0.388972, 'x_p2': 0.5, 'x_p2_1': 0.4, 'x_p2_2': 0.3, 'x_r2': -0.385576, 'x_r2_1': -0.485576, 'x_r2_2': -0.585576} using model BoTorch.\n",
      "[INFO 04-07 05:28:22] ax.service.ax_client: Completed trial 1309 with data: {'Viable_Cross_Terms': (17, None)}.\n",
      "[INFO 04-07 05:28:23] ax.modelbridge.base: Leaving out out-of-design observations for arms: 729_0, 1035_0, 977_0, 489_0, 1268_0, 1155_0, 1293_0, 686_0, 1121_0, 1157_0, 775_0, 899_0\n",
      "[INFO 04-07 05:34:19] ax.service.ax_client: Generated new trial 1310 with parameters {'z_sh': 7, 'z_sh_1': 13, 'z_sh_2': 5, 'z_p2': 34, 'z_p2_1': 34, 'z_p2_2': 32, 'z_r2': 80, 'z_r2_1': 84, 'z_r2_2': 83, 'x_s': 0.5, 'x_s_1': 0.4, 'x_s_2': 0.3, 'x_p1': 0.620188, 'x_p1_1': 0.520188, 'x_p1_2': 0.420188, 'x_p2': 0.5, 'x_p2_1': 0.4, 'x_p2_2': 0.3, 'x_r2': 1.041815, 'x_r2_1': 0.941815, 'x_r2_2': 0.841815} using model BoTorch.\n",
      "[INFO 04-07 05:34:19] ax.service.ax_client: Completed trial 1310 with data: {'Viable_Cross_Terms': (82, None)}.\n",
      "[INFO 04-07 05:34:20] ax.modelbridge.base: Leaving out out-of-design observations for arms: 729_0, 1035_0, 977_0, 489_0, 1268_0, 1155_0, 1293_0, 686_0, 1121_0, 1157_0, 775_0, 899_0\n",
      "[INFO 04-07 05:39:56] ax.service.ax_client: Generated new trial 1311 with parameters {'z_sh': 7, 'z_sh_1': 12, 'z_sh_2': 5, 'z_p2': 30, 'z_p2_1': 27, 'z_p2_2': 26, 'z_r2': 80, 'z_r2_1': 79, 'z_r2_2': 76, 'x_s': 0.5, 'x_s_1': 0.4, 'x_s_2': 0.3, 'x_p1': 0.616652, 'x_p1_1': 0.516652, 'x_p1_2': 0.416652, 'x_p2': 0.5, 'x_p2_1': 0.4, 'x_p2_2': 0.3, 'x_r2': 1.082559, 'x_r2_1': 0.982559, 'x_r2_2': 0.882559} using model BoTorch.\n",
      "[INFO 04-07 05:39:56] ax.service.ax_client: Completed trial 1311 with data: {'Viable_Cross_Terms': (83, None)}.\n",
      "[INFO 04-07 05:39:57] ax.modelbridge.base: Leaving out out-of-design observations for arms: 729_0, 1035_0, 977_0, 489_0, 1268_0, 1155_0, 1293_0, 686_0, 1121_0, 1157_0, 775_0, 899_0\n",
      "[INFO 04-07 05:45:10] ax.service.ax_client: Generated new trial 1312 with parameters {'z_sh': 7, 'z_sh_1': 10, 'z_sh_2': 5, 'z_p2': 28, 'z_p2_1': 32, 'z_p2_2': 30, 'z_r2': 80, 'z_r2_1': 77, 'z_r2_2': 79, 'x_s': 0.5, 'x_s_1': 0.4, 'x_s_2': 0.3, 'x_p1': 0.617544, 'x_p1_1': 0.517544, 'x_p1_2': 0.417544, 'x_p2': 0.5, 'x_p2_1': 0.4, 'x_p2_2': 0.3, 'x_r2': 1.077964, 'x_r2_1': 0.977964, 'x_r2_2': 0.877964} using model BoTorch.\n",
      "[INFO 04-07 05:45:10] ax.service.ax_client: Completed trial 1312 with data: {'Viable_Cross_Terms': (85, None)}.\n",
      "[INFO 04-07 05:45:11] ax.modelbridge.base: Leaving out out-of-design observations for arms: 729_0, 1035_0, 977_0, 489_0, 1268_0, 1155_0, 1293_0, 686_0, 1121_0, 1157_0, 775_0, 899_0\n",
      "[INFO 04-07 05:51:04] ax.service.ax_client: Generated new trial 1313 with parameters {'z_sh': 7, 'z_sh_1': 11, 'z_sh_2': 5, 'z_p2': 27, 'z_p2_1': 26, 'z_p2_2': 33, 'z_r2': 76, 'z_r2_1': 84, 'z_r2_2': 72, 'x_s': 0.5, 'x_s_1': 0.4, 'x_s_2': -0.5, 'x_p1': 0.841709, 'x_p1_1': 0.741709, 'x_p1_2': 0.641709, 'x_p2': 0.249259, 'x_p2_1': 0.149259, 'x_p2_2': 0.049259, 'x_r2': 1.181571, 'x_r2_1': 1.081571, 'x_r2_2': 0.981571} using model BoTorch.\n",
      "[INFO 04-07 05:51:04] ax.service.ax_client: Completed trial 1313 with data: {'Viable_Cross_Terms': (11, None)}.\n",
      "[INFO 04-07 05:51:05] ax.modelbridge.base: Leaving out out-of-design observations for arms: 729_0, 1035_0, 977_0, 489_0, 1268_0, 1155_0, 1293_0, 686_0, 1121_0, 1157_0, 775_0, 899_0\n",
      "[INFO 04-07 05:57:10] ax.service.ax_client: Generated new trial 1314 with parameters {'z_sh': 7, 'z_sh_1': 12, 'z_sh_2': 5, 'z_p2': 33, 'z_p2_1': 26, 'z_p2_2': 25, 'z_r2': 80, 'z_r2_1': 74, 'z_r2_2': 79, 'x_s': 0.5, 'x_s_1': 0.4, 'x_s_2': 0.3, 'x_p1': 0.617007, 'x_p1_1': 0.517007, 'x_p1_2': 0.417007, 'x_p2': 0.5, 'x_p2_1': 0.4, 'x_p2_2': 0.3, 'x_r2': 1.082677, 'x_r2_1': 0.982677, 'x_r2_2': 0.882677} using model BoTorch.\n",
      "[INFO 04-07 05:57:10] ax.service.ax_client: Completed trial 1314 with data: {'Viable_Cross_Terms': (83, None)}.\n",
      "[INFO 04-07 05:57:11] ax.modelbridge.base: Leaving out out-of-design observations for arms: 729_0, 1035_0, 977_0, 489_0, 1268_0, 1155_0, 1293_0, 686_0, 1121_0, 1157_0, 775_0, 899_0\n",
      "[INFO 04-07 06:02:28] ax.service.ax_client: Generated new trial 1315 with parameters {'z_sh': 7, 'z_sh_1': 6, 'z_sh_2': 5, 'z_p2': 35, 'z_p2_1': 34, 'z_p2_2': 33, 'z_r2': 80, 'z_r2_1': 85, 'z_r2_2': 84, 'x_s': 0.5, 'x_s_1': 0.4, 'x_s_2': 0.3, 'x_p1': 0.613531, 'x_p1_1': 0.513531, 'x_p1_2': 0.413531, 'x_p2': 0.5, 'x_p2_1': 0.4, 'x_p2_2': 0.3, 'x_r2': 1.05335, 'x_r2_1': 0.95335, 'x_r2_2': 0.85335} using model BoTorch.\n",
      "[INFO 04-07 06:02:28] ax.service.ax_client: Completed trial 1315 with data: {'Viable_Cross_Terms': (83, None)}.\n",
      "[INFO 04-07 06:02:30] ax.modelbridge.base: Leaving out out-of-design observations for arms: 729_0, 1035_0, 977_0, 489_0, 1268_0, 1155_0, 1293_0, 686_0, 1121_0, 1157_0, 775_0, 899_0\n",
      "[INFO 04-07 06:07:16] ax.service.ax_client: Generated new trial 1316 with parameters {'z_sh': 8, 'z_sh_1': 9, 'z_sh_2': 11, 'z_p2': 32, 'z_p2_1': 30, 'z_p2_2': 32, 'z_r2': 78, 'z_r2_1': 79, 'z_r2_2': 79, 'x_s': 0.5, 'x_s_1': 0.4, 'x_s_2': 0.3, 'x_p1': 0.547371, 'x_p1_1': 0.447371, 'x_p1_2': 0.347371, 'x_p2': 0.5, 'x_p2_1': 0.4, 'x_p2_2': 0.3, 'x_r2': 0.895545, 'x_r2_1': 0.795545, 'x_r2_2': 0.695545} using model BoTorch.\n",
      "[INFO 04-07 06:07:16] ax.service.ax_client: Completed trial 1316 with data: {'Viable_Cross_Terms': (33, None)}.\n",
      "[INFO 04-07 06:07:17] ax.modelbridge.base: Leaving out out-of-design observations for arms: 729_0, 1035_0, 977_0, 489_0, 1268_0, 1155_0, 1293_0, 686_0, 1121_0, 1157_0, 775_0, 899_0\n",
      "[INFO 04-07 06:13:43] ax.service.ax_client: Generated new trial 1317 with parameters {'z_sh': 13, 'z_sh_1': 10, 'z_sh_2': 13, 'z_p2': 27, 'z_p2_1': 31, 'z_p2_2': 31, 'z_r2': 85, 'z_r2_1': 73, 'z_r2_2': 70, 'x_s': 0.5, 'x_s_1': 0.4, 'x_s_2': 0.3, 'x_p1': 0.597888, 'x_p1_1': 0.497888, 'x_p1_2': 0.397888, 'x_p2': 0.072108, 'x_p2_1': -0.027892, 'x_p2_2': -0.127892, 'x_r2': 0.638789, 'x_r2_1': 0.538789, 'x_r2_2': 0.438789} using model BoTorch.\n",
      "[INFO 04-07 06:13:43] ax.service.ax_client: Completed trial 1317 with data: {'Viable_Cross_Terms': (30, None)}.\n",
      "[INFO 04-07 06:13:44] ax.modelbridge.base: Leaving out out-of-design observations for arms: 729_0, 1035_0, 977_0, 489_0, 1268_0, 1155_0, 1293_0, 686_0, 1121_0, 1157_0, 775_0, 899_0\n",
      "[INFO 04-07 06:20:14] ax.service.ax_client: Generated new trial 1318 with parameters {'z_sh': 7, 'z_sh_1': 6, 'z_sh_2': 5, 'z_p2': 35, 'z_p2_1': 34, 'z_p2_2': 33, 'z_r2': 77, 'z_r2_1': 85, 'z_r2_2': 84, 'x_s': 0.5, 'x_s_1': 0.4, 'x_s_2': 0.3, 'x_p1': 0.567322, 'x_p1_1': 0.467322, 'x_p1_2': 0.367322, 'x_p2': 0.5, 'x_p2_1': 0.4, 'x_p2_2': 0.3, 'x_r2': 0.956621, 'x_r2_1': 0.856621, 'x_r2_2': 0.756621} using model BoTorch.\n",
      "[INFO 04-07 06:20:14] ax.service.ax_client: Completed trial 1318 with data: {'Viable_Cross_Terms': (37, None)}.\n",
      "[INFO 04-07 06:20:15] ax.modelbridge.base: Leaving out out-of-design observations for arms: 729_0, 1035_0, 977_0, 489_0, 1268_0, 1155_0, 1293_0, 686_0, 1121_0, 1157_0, 775_0, 899_0\n",
      "[INFO 04-07 06:25:36] ax.service.ax_client: Generated new trial 1319 with parameters {'z_sh': 7, 'z_sh_1': 14, 'z_sh_2': 5, 'z_p2': 35, 'z_p2_1': 34, 'z_p2_2': 33, 'z_r2': 80, 'z_r2_1': 71, 'z_r2_2': 84, 'x_s': 0.5, 'x_s_1': 0.4, 'x_s_2': 0.3, 'x_p1': 0.628983, 'x_p1_1': 0.528983, 'x_p1_2': -0.679257, 'x_p2': 0.5, 'x_p2_1': 0.4, 'x_p2_2': 0.3, 'x_r2': 1.069944, 'x_r2_1': 0.969944, 'x_r2_2': 0.869944} using model BoTorch.\n",
      "[INFO 04-07 06:25:36] ax.service.ax_client: Completed trial 1319 with data: {'Viable_Cross_Terms': (64, None)}.\n",
      "[INFO 04-07 06:25:37] ax.modelbridge.base: Leaving out out-of-design observations for arms: 729_0, 1035_0, 977_0, 489_0, 1268_0, 1155_0, 1293_0, 686_0, 1121_0, 1157_0, 775_0, 899_0\n",
      "[INFO 04-07 06:31:34] ax.service.ax_client: Generated new trial 1320 with parameters {'z_sh': 7, 'z_sh_1': 6, 'z_sh_2': 5, 'z_p2': 35, 'z_p2_1': 26, 'z_p2_2': 33, 'z_r2': 80, 'z_r2_1': 71, 'z_r2_2': 84, 'x_s': 0.5, 'x_s_1': 0.4, 'x_s_2': 0.3, 'x_p1': 0.600998, 'x_p1_1': 0.500998, 'x_p1_2': 0.400998, 'x_p2': 0.5, 'x_p2_1': 0.4, 'x_p2_2': 0.3, 'x_r2': 1.079609, 'x_r2_1': 0.979609, 'x_r2_2': 0.879609} using model BoTorch.\n",
      "[INFO 04-07 06:31:34] ax.service.ax_client: Completed trial 1320 with data: {'Viable_Cross_Terms': (80, None)}.\n",
      "[INFO 04-07 06:31:35] ax.modelbridge.base: Leaving out out-of-design observations for arms: 729_0, 1035_0, 977_0, 489_0, 1268_0, 1155_0, 1293_0, 686_0, 1121_0, 1157_0, 775_0, 899_0\n",
      "[INFO 04-07 06:37:18] ax.service.ax_client: Generated new trial 1321 with parameters {'z_sh': 7, 'z_sh_1': 13, 'z_sh_2': 5, 'z_p2': 34, 'z_p2_1': 34, 'z_p2_2': 32, 'z_r2': 80, 'z_r2_1': 77, 'z_r2_2': 83, 'x_s': 0.5, 'x_s_1': 0.4, 'x_s_2': 0.3, 'x_p1': 0.65698, 'x_p1_1': 0.55698, 'x_p1_2': 0.45698, 'x_p2': 0.5, 'x_p2_1': 0.4, 'x_p2_2': 0.3, 'x_r2': 1.073431, 'x_r2_1': 0.973431, 'x_r2_2': 0.873431} using model BoTorch.\n",
      "[INFO 04-07 06:37:18] ax.service.ax_client: Completed trial 1321 with data: {'Viable_Cross_Terms': (85, None)}.\n",
      "[INFO 04-07 06:37:19] ax.modelbridge.base: Leaving out out-of-design observations for arms: 729_0, 1035_0, 977_0, 489_0, 1268_0, 1155_0, 1293_0, 686_0, 1121_0, 1157_0, 775_0, 899_0\n",
      "[INFO 04-07 06:42:45] ax.service.ax_client: Generated new trial 1322 with parameters {'z_sh': 7, 'z_sh_1': 9, 'z_sh_2': 5, 'z_p2': 33, 'z_p2_1': 34, 'z_p2_2': 27, 'z_r2': 78, 'z_r2_1': 76, 'z_r2_2': 75, 'x_s': 0.5, 'x_s_1': 0.4, 'x_s_2': -0.5, 'x_p1': -0.8, 'x_p1_1': -0.9, 'x_p1_2': -1.0, 'x_p2': -0.3, 'x_p2_1': -0.4, 'x_p2_2': -0.5, 'x_r2': 0.737544, 'x_r2_1': 0.637544, 'x_r2_2': -1.5} using model BoTorch.\n",
      "[INFO 04-07 06:42:45] ax.service.ax_client: Completed trial 1322 with data: {'Viable_Cross_Terms': (0, None)}.\n",
      "[INFO 04-07 06:42:45] ax.modelbridge.base: Leaving out out-of-design observations for arms: 729_0, 1035_0, 977_0, 489_0, 1268_0, 1155_0, 1293_0, 686_0, 1121_0, 1157_0, 775_0, 899_0\n",
      "[INFO 04-07 06:48:22] ax.service.ax_client: Generated new trial 1323 with parameters {'z_sh': 8, 'z_sh_1': 13, 'z_sh_2': 5, 'z_p2': 31, 'z_p2_1': 34, 'z_p2_2': 25, 'z_r2': 78, 'z_r2_1': 71, 'z_r2_2': 82, 'x_s': 0.5, 'x_s_1': 0.4, 'x_s_2': 0.3, 'x_p1': 0.549643, 'x_p1_1': 0.449643, 'x_p1_2': 0.349643, 'x_p2': 0.5, 'x_p2_1': 0.4, 'x_p2_2': 0.3, 'x_r2': 0.976213, 'x_r2_1': 0.876213, 'x_r2_2': 0.776213} using model BoTorch.\n",
      "[INFO 04-07 06:48:22] ax.service.ax_client: Completed trial 1323 with data: {'Viable_Cross_Terms': (53, None)}.\n",
      "[INFO 04-07 06:48:23] ax.modelbridge.base: Leaving out out-of-design observations for arms: 729_0, 1035_0, 977_0, 489_0, 1268_0, 1155_0, 1293_0, 686_0, 1121_0, 1157_0, 775_0, 899_0\n",
      "[INFO 04-07 06:54:27] ax.service.ax_client: Generated new trial 1324 with parameters {'z_sh': 7, 'z_sh_1': 13, 'z_sh_2': 5, 'z_p2': 34, 'z_p2_1': 34, 'z_p2_2': 32, 'z_r2': 80, 'z_r2_1': 71, 'z_r2_2': 83, 'x_s': 0.5, 'x_s_1': 0.4, 'x_s_2': 0.3, 'x_p1': 0.661373, 'x_p1_1': 0.561373, 'x_p1_2': 0.461373, 'x_p2': 0.5, 'x_p2_1': 0.4, 'x_p2_2': 0.3, 'x_r2': 1.066284, 'x_r2_1': 0.966284, 'x_r2_2': 0.866284} using model BoTorch.\n",
      "[INFO 04-07 06:54:27] ax.service.ax_client: Completed trial 1324 with data: {'Viable_Cross_Terms': (84, None)}.\n",
      "[INFO 04-07 06:54:28] ax.modelbridge.base: Leaving out out-of-design observations for arms: 729_0, 1035_0, 977_0, 489_0, 1268_0, 1155_0, 1293_0, 686_0, 1121_0, 1157_0, 775_0, 899_0\n",
      "[INFO 04-07 07:00:21] ax.service.ax_client: Generated new trial 1325 with parameters {'z_sh': 7, 'z_sh_1': 6, 'z_sh_2': 5, 'z_p2': 35, 'z_p2_1': 34, 'z_p2_2': 25, 'z_r2': 80, 'z_r2_1': 71, 'z_r2_2': 84, 'x_s': 0.5, 'x_s_1': 0.4, 'x_s_2': 0.3, 'x_p1': 0.613583, 'x_p1_1': 0.513583, 'x_p1_2': 0.413583, 'x_p2': 0.5, 'x_p2_1': 0.4, 'x_p2_2': 0.3, 'x_r2': 1.054983, 'x_r2_1': 0.954983, 'x_r2_2': 0.854983} using model BoTorch.\n",
      "[INFO 04-07 07:00:21] ax.service.ax_client: Completed trial 1325 with data: {'Viable_Cross_Terms': (82, None)}.\n",
      "[INFO 04-07 07:00:22] ax.modelbridge.base: Leaving out out-of-design observations for arms: 729_0, 1035_0, 977_0, 489_0, 1268_0, 1155_0, 1293_0, 686_0, 1121_0, 1157_0, 775_0, 899_0\n",
      "[INFO 04-07 07:06:20] ax.service.ax_client: Generated new trial 1326 with parameters {'z_sh': 7, 'z_sh_1': 13, 'z_sh_2': 5, 'z_p2': 34, 'z_p2_1': 34, 'z_p2_2': 31, 'z_r2': 80, 'z_r2_1': 73, 'z_r2_2': 83, 'x_s': 0.5, 'x_s_1': 0.4, 'x_s_2': 0.3, 'x_p1': 0.664849, 'x_p1_1': 0.564849, 'x_p1_2': 0.464849, 'x_p2': 0.5, 'x_p2_1': 0.4, 'x_p2_2': 0.3, 'x_r2': 1.090311, 'x_r2_1': 0.990311, 'x_r2_2': 0.890311} using model BoTorch.\n",
      "[INFO 04-07 07:06:20] ax.service.ax_client: Completed trial 1326 with data: {'Viable_Cross_Terms': (81, None)}.\n",
      "[INFO 04-07 07:06:21] ax.modelbridge.base: Leaving out out-of-design observations for arms: 729_0, 1035_0, 977_0, 489_0, 1268_0, 1155_0, 1293_0, 686_0, 1121_0, 1157_0, 775_0, 899_0\n",
      "[INFO 04-07 07:12:28] ax.service.ax_client: Generated new trial 1327 with parameters {'z_sh': 12, 'z_sh_1': 7, 'z_sh_2': 6, 'z_p2': 33, 'z_p2_1': 31, 'z_p2_2': 31, 'z_r2': 81, 'z_r2_1': 76, 'z_r2_2': 84, 'x_s': 0.5, 'x_s_1': 0.4, 'x_s_2': 0.3, 'x_p1': 0.543104, 'x_p1_1': 0.443104, 'x_p1_2': 0.343104, 'x_p2': 0.5, 'x_p2_1': 0.4, 'x_p2_2': 0.3, 'x_r2': 1.5, 'x_r2_1': 0.496665, 'x_r2_2': 0.396665} using model BoTorch.\n",
      "[INFO 04-07 07:12:28] ax.service.ax_client: Completed trial 1327 with data: {'Viable_Cross_Terms': (1, None)}.\n",
      "[INFO 04-07 07:12:29] ax.modelbridge.base: Leaving out out-of-design observations for arms: 729_0, 1035_0, 977_0, 489_0, 1268_0, 1155_0, 1293_0, 686_0, 1121_0, 1157_0, 775_0, 899_0\n",
      "[INFO 04-07 07:17:47] ax.service.ax_client: Generated new trial 1328 with parameters {'z_sh': 15, 'z_sh_1': 13, 'z_sh_2': 5, 'z_p2': 33, 'z_p2_1': 30, 'z_p2_2': 32, 'z_r2': 86, 'z_r2_1': 74, 'z_r2_2': 81, 'x_s': 0.5, 'x_s_1': 0.4, 'x_s_2': -0.5, 'x_p1': -0.496683, 'x_p1_1': -0.9, 'x_p1_2': -1.0, 'x_p2': 0.5, 'x_p2_1': 0.4, 'x_p2_2': 0.3, 'x_r2': -0.370335, 'x_r2_1': -0.470335, 'x_r2_2': -1.5} using model BoTorch.\n",
      "[INFO 04-07 07:17:47] ax.service.ax_client: Completed trial 1328 with data: {'Viable_Cross_Terms': (15, None)}.\n",
      "[INFO 04-07 07:17:48] ax.modelbridge.base: Leaving out out-of-design observations for arms: 729_0, 1035_0, 977_0, 489_0, 1268_0, 1155_0, 1293_0, 686_0, 1121_0, 1157_0, 775_0, 899_0\n",
      "[INFO 04-07 07:25:24] ax.service.ax_client: Generated new trial 1329 with parameters {'z_sh': 8, 'z_sh_1': 14, 'z_sh_2': 11, 'z_p2': 30, 'z_p2_1': 27, 'z_p2_2': 28, 'z_r2': 82, 'z_r2_1': 76, 'z_r2_2': 80, 'x_s': 0.5, 'x_s_1': 0.4, 'x_s_2': 0.3, 'x_p1': 1.0, 'x_p1_1': 0.407588, 'x_p1_2': 0.307588, 'x_p2': 0.5, 'x_p2_1': -0.4, 'x_p2_2': -0.5, 'x_r2': 1.231923, 'x_r2_1': 1.131923, 'x_r2_2': -1.239289} using model BoTorch.\n",
      "[INFO 04-07 07:25:24] ax.service.ax_client: Completed trial 1329 with data: {'Viable_Cross_Terms': (5, None)}.\n",
      "[INFO 04-07 07:25:26] ax.modelbridge.base: Leaving out out-of-design observations for arms: 729_0, 1035_0, 977_0, 489_0, 1268_0, 1155_0, 1293_0, 686_0, 1121_0, 1157_0, 775_0, 899_0\n",
      "[INFO 04-07 07:31:03] ax.service.ax_client: Generated new trial 1330 with parameters {'z_sh': 7, 'z_sh_1': 14, 'z_sh_2': 13, 'z_p2': 27, 'z_p2_1': 34, 'z_p2_2': 26, 'z_r2': 77, 'z_r2_1': 84, 'z_r2_2': 81, 'x_s': -0.3, 'x_s_1': -0.4, 'x_s_2': -0.5, 'x_p1': 1.0, 'x_p1_1': -0.9, 'x_p1_2': -1.0, 'x_p2': 0.5, 'x_p2_1': -0.4, 'x_p2_2': -0.5, 'x_r2': 1.5, 'x_r2_1': 1.4, 'x_r2_2': -0.412909} using model BoTorch.\n",
      "[INFO 04-07 07:31:03] ax.service.ax_client: Completed trial 1330 with data: {'Viable_Cross_Terms': (4, None)}.\n",
      "[INFO 04-07 07:31:04] ax.modelbridge.base: Leaving out out-of-design observations for arms: 729_0, 1035_0, 977_0, 489_0, 1268_0, 1155_0, 1293_0, 686_0, 1121_0, 1157_0, 775_0, 899_0\n",
      "[INFO 04-07 07:36:13] ax.service.ax_client: Generated new trial 1331 with parameters {'z_sh': 7, 'z_sh_1': 13, 'z_sh_2': 5, 'z_p2': 34, 'z_p2_1': 34, 'z_p2_2': 32, 'z_r2': 80, 'z_r2_1': 73, 'z_r2_2': 76, 'x_s': 0.5, 'x_s_1': 0.4, 'x_s_2': 0.3, 'x_p1': 0.631513, 'x_p1_1': 0.531513, 'x_p1_2': 0.431513, 'x_p2': 0.5, 'x_p2_1': 0.4, 'x_p2_2': 0.3, 'x_r2': 1.07729, 'x_r2_1': 0.97729, 'x_r2_2': 0.87729} using model BoTorch.\n",
      "[INFO 04-07 07:36:13] ax.service.ax_client: Completed trial 1331 with data: {'Viable_Cross_Terms': (82, None)}.\n",
      "[INFO 04-07 07:36:14] ax.modelbridge.base: Leaving out out-of-design observations for arms: 729_0, 1035_0, 977_0, 489_0, 1268_0, 1155_0, 1293_0, 686_0, 1121_0, 1157_0, 775_0, 899_0\n",
      "[INFO 04-07 07:42:37] ax.service.ax_client: Generated new trial 1332 with parameters {'z_sh': 15, 'z_sh_1': 13, 'z_sh_2': 5, 'z_p2': 30, 'z_p2_1': 28, 'z_p2_2': 27, 'z_r2': 79, 'z_r2_1': 85, 'z_r2_2': 78, 'x_s': 0.5, 'x_s_1': 0.4, 'x_s_2': 0.3, 'x_p1': 0.043146, 'x_p1_1': -0.056854, 'x_p1_2': -0.424538, 'x_p2': 0.5, 'x_p2_1': -0.206878, 'x_p2_2': -0.306878, 'x_r2': 1.238295, 'x_r2_1': 1.138295, 'x_r2_2': 1.038295} using model BoTorch.\n",
      "[INFO 04-07 07:42:37] ax.service.ax_client: Completed trial 1332 with data: {'Viable_Cross_Terms': (0, None)}.\n",
      "[INFO 04-07 07:42:38] ax.modelbridge.base: Leaving out out-of-design observations for arms: 729_0, 1035_0, 977_0, 489_0, 1268_0, 1155_0, 1293_0, 686_0, 1121_0, 1157_0, 775_0, 899_0\n",
      "[INFO 04-07 07:49:12] ax.service.ax_client: Generated new trial 1333 with parameters {'z_sh': 7, 'z_sh_1': 13, 'z_sh_2': 5, 'z_p2': 34, 'z_p2_1': 34, 'z_p2_2': 28, 'z_r2': 80, 'z_r2_1': 79, 'z_r2_2': 81, 'x_s': 0.5, 'x_s_1': 0.4, 'x_s_2': 0.3, 'x_p1': 0.649811, 'x_p1_1': 0.549811, 'x_p1_2': 0.449811, 'x_p2': 0.5, 'x_p2_1': 0.4, 'x_p2_2': 0.3, 'x_r2': 1.063938, 'x_r2_1': 0.963938, 'x_r2_2': 0.863938} using model BoTorch.\n",
      "[INFO 04-07 07:49:12] ax.service.ax_client: Completed trial 1333 with data: {'Viable_Cross_Terms': (86, None)}.\n",
      "[INFO 04-07 07:49:13] ax.modelbridge.base: Leaving out out-of-design observations for arms: 729_0, 1035_0, 977_0, 489_0, 1268_0, 1155_0, 1293_0, 686_0, 1121_0, 1157_0, 775_0, 899_0\n",
      "[INFO 04-07 07:57:08] ax.service.ax_client: Generated new trial 1334 with parameters {'z_sh': 14, 'z_sh_1': 14, 'z_sh_2': 5, 'z_p2': 34, 'z_p2_1': 32, 'z_p2_2': 29, 'z_r2': 78, 'z_r2_1': 71, 'z_r2_2': 84, 'x_s': 0.5, 'x_s_1': 0.4, 'x_s_2': 0.3, 'x_p1': 0.536517, 'x_p1_1': 0.436517, 'x_p1_2': 0.336517, 'x_p2': 0.493859, 'x_p2_1': -0.4, 'x_p2_2': -0.5, 'x_r2': 0.993203, 'x_r2_1': 0.893203, 'x_r2_2': 0.793203} using model BoTorch.\n",
      "[INFO 04-07 07:57:08] ax.service.ax_client: Completed trial 1334 with data: {'Viable_Cross_Terms': (18, None)}.\n",
      "[INFO 04-07 07:57:09] ax.modelbridge.base: Leaving out out-of-design observations for arms: 729_0, 1035_0, 977_0, 489_0, 1268_0, 1155_0, 1293_0, 686_0, 1121_0, 1157_0, 775_0, 899_0\n",
      "[INFO 04-07 08:03:05] ax.service.ax_client: Generated new trial 1335 with parameters {'z_sh': 15, 'z_sh_1': 10, 'z_sh_2': 5, 'z_p2': 32, 'z_p2_1': 28, 'z_p2_2': 30, 'z_r2': 81, 'z_r2_1': 78, 'z_r2_2': 84, 'x_s': 0.5, 'x_s_1': 0.4, 'x_s_2': 0.3, 'x_p1': 0.599226, 'x_p1_1': 0.499226, 'x_p1_2': 0.399226, 'x_p2': 0.5, 'x_p2_1': 0.4, 'x_p2_2': 0.3, 'x_r2': 1.062265, 'x_r2_1': 0.732594, 'x_r2_2': 0.632594} using model BoTorch.\n",
      "[INFO 04-07 08:03:05] ax.service.ax_client: Completed trial 1335 with data: {'Viable_Cross_Terms': (22, None)}.\n",
      "[INFO 04-07 08:03:06] ax.modelbridge.base: Leaving out out-of-design observations for arms: 729_0, 1035_0, 977_0, 489_0, 1268_0, 1155_0, 1293_0, 686_0, 1121_0, 1157_0, 775_0, 899_0\n",
      "[INFO 04-07 08:11:21] ax.service.ax_client: Generated new trial 1336 with parameters {'z_sh': 7, 'z_sh_1': 9, 'z_sh_2': 5, 'z_p2': 35, 'z_p2_1': 34, 'z_p2_2': 33, 'z_r2': 79, 'z_r2_1': 81, 'z_r2_2': 80, 'x_s': 0.479961, 'x_s_1': 0.355674, 'x_s_2': 0.20284, 'x_p1': 0.787718, 'x_p1_1': 0.67052, 'x_p1_2': 0.353993, 'x_p2': 0.487201, 'x_p2_1': 0.383621, 'x_p2_2': 0.283621, 'x_r2': 0.966594, 'x_r2_1': -0.697589, 'x_r2_2': -1.5} using model BoTorch.\n",
      "[INFO 04-07 08:11:21] ax.service.ax_client: Completed trial 1336 with data: {'Viable_Cross_Terms': (30, None)}.\n",
      "[INFO 04-07 08:11:22] ax.modelbridge.base: Leaving out out-of-design observations for arms: 729_0, 1035_0, 977_0, 489_0, 1268_0, 1155_0, 1293_0, 686_0, 1121_0, 1157_0, 775_0, 899_0\n",
      "[INFO 04-07 08:17:19] ax.service.ax_client: Generated new trial 1337 with parameters {'z_sh': 7, 'z_sh_1': 13, 'z_sh_2': 5, 'z_p2': 34, 'z_p2_1': 34, 'z_p2_2': 32, 'z_r2': 80, 'z_r2_1': 80, 'z_r2_2': 75, 'x_s': 0.5, 'x_s_1': 0.4, 'x_s_2': 0.3, 'x_p1': 0.632147, 'x_p1_1': 0.532147, 'x_p1_2': 0.432147, 'x_p2': 0.5, 'x_p2_1': 0.4, 'x_p2_2': 0.3, 'x_r2': 1.078834, 'x_r2_1': 0.978834, 'x_r2_2': 0.878834} using model BoTorch.\n",
      "[INFO 04-07 08:17:19] ax.service.ax_client: Completed trial 1337 with data: {'Viable_Cross_Terms': (81, None)}.\n",
      "[INFO 04-07 08:17:20] ax.modelbridge.base: Leaving out out-of-design observations for arms: 729_0, 1035_0, 977_0, 489_0, 1268_0, 1155_0, 1293_0, 686_0, 1121_0, 1157_0, 775_0, 899_0\n",
      "[INFO 04-07 08:23:54] ax.service.ax_client: Generated new trial 1338 with parameters {'z_sh': 13, 'z_sh_1': 11, 'z_sh_2': 6, 'z_p2': 29, 'z_p2_1': 32, 'z_p2_2': 26, 'z_r2': 77, 'z_r2_1': 72, 'z_r2_2': 76, 'x_s': 0.5, 'x_s_1': 0.4, 'x_s_2': 0.3, 'x_p1': 0.594823, 'x_p1_1': 0.494823, 'x_p1_2': 0.394823, 'x_p2': 0.5, 'x_p2_1': 0.4, 'x_p2_2': 0.3, 'x_r2': 0.955733, 'x_r2_1': 0.855733, 'x_r2_2': 0.755733} using model BoTorch.\n",
      "[INFO 04-07 08:23:54] ax.service.ax_client: Completed trial 1338 with data: {'Viable_Cross_Terms': (36, None)}.\n",
      "[INFO 04-07 08:23:55] ax.modelbridge.base: Leaving out out-of-design observations for arms: 729_0, 1035_0, 977_0, 489_0, 1268_0, 1155_0, 1293_0, 686_0, 1121_0, 1157_0, 775_0, 899_0\n",
      "[INFO 04-07 08:31:43] ax.service.ax_client: Generated new trial 1339 with parameters {'z_sh': 12, 'z_sh_1': 11, 'z_sh_2': 5, 'z_p2': 32, 'z_p2_1': 29, 'z_p2_2': 31, 'z_r2': 85, 'z_r2_1': 76, 'z_r2_2': 84, 'x_s': 0.5, 'x_s_1': -0.4, 'x_s_2': -0.5, 'x_p1': 0.883804, 'x_p1_1': 0.783804, 'x_p1_2': 0.683804, 'x_p2': 0.5, 'x_p2_1': -0.376944, 'x_p2_2': -0.476944, 'x_r2': 1.262937, 'x_r2_1': 1.162937, 'x_r2_2': 1.062937} using model BoTorch.\n",
      "[INFO 04-07 08:31:43] ax.service.ax_client: Completed trial 1339 with data: {'Viable_Cross_Terms': (0, None)}.\n",
      "[INFO 04-07 08:31:44] ax.modelbridge.base: Leaving out out-of-design observations for arms: 729_0, 1035_0, 977_0, 489_0, 1268_0, 1155_0, 1293_0, 686_0, 1121_0, 1157_0, 775_0, 899_0\n",
      "[INFO 04-07 08:37:53] ax.service.ax_client: Generated new trial 1340 with parameters {'z_sh': 7, 'z_sh_1': 12, 'z_sh_2': 13, 'z_p2': 28, 'z_p2_1': 34, 'z_p2_2': 29, 'z_r2': 78, 'z_r2_1': 82, 'z_r2_2': 79, 'x_s': 0.5, 'x_s_1': 0.4, 'x_s_2': 0.3, 'x_p1': 0.539114, 'x_p1_1': 0.439114, 'x_p1_2': 0.339114, 'x_p2': 0.5, 'x_p2_1': 0.4, 'x_p2_2': 0.3, 'x_r2': 0.860547, 'x_r2_1': 0.760547, 'x_r2_2': 0.660547} using model BoTorch.\n",
      "[INFO 04-07 08:37:53] ax.service.ax_client: Completed trial 1340 with data: {'Viable_Cross_Terms': (39, None)}.\n",
      "[INFO 04-07 08:37:54] ax.modelbridge.base: Leaving out out-of-design observations for arms: 729_0, 1035_0, 977_0, 489_0, 1268_0, 1155_0, 1293_0, 686_0, 1121_0, 1157_0, 775_0, 899_0\n",
      "[INFO 04-07 08:45:09] ax.service.ax_client: Generated new trial 1341 with parameters {'z_sh': 12, 'z_sh_1': 10, 'z_sh_2': 5, 'z_p2': 29, 'z_p2_1': 31, 'z_p2_2': 27, 'z_r2': 73, 'z_r2_1': 72, 'z_r2_2': 81, 'x_s': 0.5, 'x_s_1': 0.4, 'x_s_2': 0.3, 'x_p1': 0.731582, 'x_p1_1': 0.631582, 'x_p1_2': 0.531582, 'x_p2': 0.175561, 'x_p2_1': 0.075561, 'x_p2_2': -0.024439, 'x_r2': 1.096776, 'x_r2_1': 0.996776, 'x_r2_2': 0.896776} using model BoTorch.\n",
      "[INFO 04-07 08:45:09] ax.service.ax_client: Completed trial 1341 with data: {'Viable_Cross_Terms': (9, None)}.\n",
      "[INFO 04-07 08:45:10] ax.modelbridge.base: Leaving out out-of-design observations for arms: 729_0, 1035_0, 977_0, 489_0, 1268_0, 1155_0, 1293_0, 686_0, 1121_0, 1157_0, 775_0, 899_0\n",
      "[INFO 04-07 08:51:35] ax.service.ax_client: Generated new trial 1342 with parameters {'z_sh': 7, 'z_sh_1': 14, 'z_sh_2': 5, 'z_p2': 35, 'z_p2_1': 34, 'z_p2_2': 33, 'z_r2': 80, 'z_r2_1': 85, 'z_r2_2': 84, 'x_s': 0.5, 'x_s_1': 0.4, 'x_s_2': 0.3, 'x_p1': 0.626587, 'x_p1_1': 0.526587, 'x_p1_2': 0.426587, 'x_p2': 0.5, 'x_p2_1': 0.4, 'x_p2_2': 0.3, 'x_r2': 1.051561, 'x_r2_1': 0.951561, 'x_r2_2': 0.851561} using model BoTorch.\n",
      "[INFO 04-07 08:51:35] ax.service.ax_client: Completed trial 1342 with data: {'Viable_Cross_Terms': (85, None)}.\n",
      "[INFO 04-07 08:51:37] ax.modelbridge.base: Leaving out out-of-design observations for arms: 729_0, 1035_0, 977_0, 489_0, 1268_0, 1155_0, 1293_0, 686_0, 1121_0, 1157_0, 775_0, 899_0\n",
      "[INFO 04-07 08:56:31] ax.service.ax_client: Generated new trial 1343 with parameters {'z_sh': 7, 'z_sh_1': 14, 'z_sh_2': 5, 'z_p2': 34, 'z_p2_1': 34, 'z_p2_2': 32, 'z_r2': 80, 'z_r2_1': 78, 'z_r2_2': 75, 'x_s': 0.5, 'x_s_1': 0.4, 'x_s_2': 0.3, 'x_p1': 0.648375, 'x_p1_1': 0.548375, 'x_p1_2': 0.448375, 'x_p2': 0.5, 'x_p2_1': 0.4, 'x_p2_2': 0.3, 'x_r2': 1.097367, 'x_r2_1': 0.997367, 'x_r2_2': 0.897367} using model BoTorch.\n",
      "[INFO 04-07 08:56:31] ax.service.ax_client: Completed trial 1343 with data: {'Viable_Cross_Terms': (78, None)}.\n",
      "[INFO 04-07 08:56:32] ax.modelbridge.base: Leaving out out-of-design observations for arms: 729_0, 1035_0, 977_0, 489_0, 1268_0, 1155_0, 1293_0, 686_0, 1121_0, 1157_0, 775_0, 899_0\n",
      "[INFO 04-07 09:04:08] ax.service.ax_client: Generated new trial 1344 with parameters {'z_sh': 7, 'z_sh_1': 13, 'z_sh_2': 5, 'z_p2': 34, 'z_p2_1': 34, 'z_p2_2': 32, 'z_r2': 80, 'z_r2_1': 83, 'z_r2_2': 78, 'x_s': 0.5, 'x_s_1': 0.4, 'x_s_2': 0.3, 'x_p1': 0.660816, 'x_p1_1': 0.560816, 'x_p1_2': 0.460816, 'x_p2': 0.5, 'x_p2_1': 0.4, 'x_p2_2': 0.3, 'x_r2': 1.08314, 'x_r2_1': 0.98314, 'x_r2_2': 0.88314} using model BoTorch.\n",
      "[INFO 04-07 09:04:08] ax.service.ax_client: Completed trial 1344 with data: {'Viable_Cross_Terms': (82, None)}.\n",
      "[INFO 04-07 09:04:09] ax.modelbridge.base: Leaving out out-of-design observations for arms: 729_0, 1035_0, 977_0, 489_0, 1268_0, 1155_0, 1293_0, 686_0, 1121_0, 1157_0, 775_0, 899_0\n",
      "[INFO 04-07 09:10:15] ax.service.ax_client: Generated new trial 1345 with parameters {'z_sh': 7, 'z_sh_1': 14, 'z_sh_2': 5, 'z_p2': 35, 'z_p2_1': 34, 'z_p2_2': 33, 'z_r2': 80, 'z_r2_1': 85, 'z_r2_2': 84, 'x_s': 0.5, 'x_s_1': 0.4, 'x_s_2': 0.3, 'x_p1': 0.658313, 'x_p1_1': 0.558313, 'x_p1_2': 0.458313, 'x_p2': 0.5, 'x_p2_1': 0.4, 'x_p2_2': 0.3, 'x_r2': 1.073333, 'x_r2_1': 0.973333, 'x_r2_2': 0.873333} using model BoTorch.\n",
      "[INFO 04-07 09:10:15] ax.service.ax_client: Completed trial 1345 with data: {'Viable_Cross_Terms': (85, None)}.\n",
      "[INFO 04-07 09:10:16] ax.modelbridge.base: Leaving out out-of-design observations for arms: 729_0, 1035_0, 977_0, 489_0, 1268_0, 1155_0, 1293_0, 686_0, 1121_0, 1157_0, 775_0, 899_0\n",
      "[INFO 04-07 09:15:37] ax.service.ax_client: Generated new trial 1346 with parameters {'z_sh': 15, 'z_sh_1': 6, 'z_sh_2': 5, 'z_p2': 35, 'z_p2_1': 26, 'z_p2_2': 28, 'z_r2': 84, 'z_r2_1': 74, 'z_r2_2': 75, 'x_s': 0.5, 'x_s_1': -0.4, 'x_s_2': -0.5, 'x_p1': 1.0, 'x_p1_1': -0.9, 'x_p1_2': -1.0, 'x_p2': -0.3, 'x_p2_1': -0.4, 'x_p2_2': -0.5, 'x_r2': 1.5, 'x_r2_1': -0.215971, 'x_r2_2': -0.315971} using model BoTorch.\n",
      "[INFO 04-07 09:15:37] ax.service.ax_client: Completed trial 1346 with data: {'Viable_Cross_Terms': (9, None)}.\n",
      "[INFO 04-07 09:15:38] ax.modelbridge.base: Leaving out out-of-design observations for arms: 729_0, 1035_0, 977_0, 489_0, 1268_0, 1155_0, 1293_0, 686_0, 1121_0, 1157_0, 775_0, 899_0\n",
      "[INFO 04-07 09:21:20] ax.service.ax_client: Generated new trial 1347 with parameters {'z_sh': 7, 'z_sh_1': 12, 'z_sh_2': 5, 'z_p2': 30, 'z_p2_1': 29, 'z_p2_2': 28, 'z_r2': 72, 'z_r2_1': 79, 'z_r2_2': 74, 'x_s': 0.5, 'x_s_1': 0.4, 'x_s_2': 0.3, 'x_p1': 1.0, 'x_p1_1': 0.9, 'x_p1_2': -1.0, 'x_p2': 0.5, 'x_p2_1': 0.4, 'x_p2_2': 0.3, 'x_r2': 1.5, 'x_r2_1': -0.896919, 'x_r2_2': -0.996919} using model BoTorch.\n",
      "[INFO 04-07 09:21:20] ax.service.ax_client: Completed trial 1347 with data: {'Viable_Cross_Terms': (0, None)}.\n",
      "[INFO 04-07 09:21:22] ax.modelbridge.base: Leaving out out-of-design observations for arms: 729_0, 1035_0, 977_0, 489_0, 1268_0, 1155_0, 1293_0, 686_0, 1121_0, 1157_0, 775_0, 899_0\n",
      "[INFO 04-07 09:26:54] ax.service.ax_client: Generated new trial 1348 with parameters {'z_sh': 8, 'z_sh_1': 9, 'z_sh_2': 11, 'z_p2': 32, 'z_p2_1': 30, 'z_p2_2': 29, 'z_r2': 85, 'z_r2_1': 72, 'z_r2_2': 80, 'x_s': 0.5, 'x_s_1': 0.4, 'x_s_2': 0.3, 'x_p1': 1.0, 'x_p1_1': 0.739439, 'x_p1_2': -1.0, 'x_p2': 0.181177, 'x_p2_1': 0.081177, 'x_p2_2': -0.487612, 'x_r2': 0.801915, 'x_r2_1': 0.701915, 'x_r2_2': -1.08404} using model BoTorch.\n",
      "[INFO 04-07 09:26:54] ax.service.ax_client: Completed trial 1348 with data: {'Viable_Cross_Terms': (16, None)}.\n",
      "[INFO 04-07 09:26:54] ax.modelbridge.base: Leaving out out-of-design observations for arms: 729_0, 1035_0, 977_0, 489_0, 1268_0, 1155_0, 1293_0, 686_0, 1121_0, 1157_0, 775_0, 899_0\n",
      "[INFO 04-07 09:33:51] ax.service.ax_client: Generated new trial 1349 with parameters {'z_sh': 7, 'z_sh_1': 14, 'z_sh_2': 5, 'z_p2': 27, 'z_p2_1': 26, 'z_p2_2': 25, 'z_r2': 85, 'z_r2_1': 78, 'z_r2_2': 84, 'x_s': 0.5, 'x_s_1': 0.4, 'x_s_2': 0.3, 'x_p1': 0.811966, 'x_p1_1': 0.711966, 'x_p1_2': 0.611966, 'x_p2': 0.5, 'x_p2_1': 0.4, 'x_p2_2': 0.3, 'x_r2': 1.049927, 'x_r2_1': 0.949927, 'x_r2_2': 0.849927} using model BoTorch.\n",
      "[INFO 04-07 09:33:51] ax.service.ax_client: Completed trial 1349 with data: {'Viable_Cross_Terms': (29, None)}.\n",
      "[INFO 04-07 09:33:52] ax.modelbridge.base: Leaving out out-of-design observations for arms: 729_0, 1035_0, 977_0, 489_0, 1268_0, 1155_0, 1293_0, 686_0, 1121_0, 1157_0, 775_0, 899_0\n",
      "[INFO 04-07 09:39:54] ax.service.ax_client: Generated new trial 1350 with parameters {'z_sh': 7, 'z_sh_1': 11, 'z_sh_2': 5, 'z_p2': 34, 'z_p2_1': 34, 'z_p2_2': 32, 'z_r2': 80, 'z_r2_1': 81, 'z_r2_2': 83, 'x_s': 0.5, 'x_s_1': 0.4, 'x_s_2': 0.3, 'x_p1': 0.66741, 'x_p1_1': 0.56741, 'x_p1_2': 0.46741, 'x_p2': 0.5, 'x_p2_1': 0.4, 'x_p2_2': 0.3, 'x_r2': 1.073569, 'x_r2_1': 0.973569, 'x_r2_2': 0.873569} using model BoTorch.\n",
      "[INFO 04-07 09:39:54] ax.service.ax_client: Completed trial 1350 with data: {'Viable_Cross_Terms': (82, None)}.\n",
      "[INFO 04-07 09:39:55] ax.modelbridge.base: Leaving out out-of-design observations for arms: 729_0, 1035_0, 977_0, 489_0, 1268_0, 1155_0, 1293_0, 686_0, 1121_0, 1157_0, 775_0, 899_0\n",
      "[INFO 04-07 09:45:46] ax.service.ax_client: Generated new trial 1351 with parameters {'z_sh': 8, 'z_sh_1': 11, 'z_sh_2': 5, 'z_p2': 30, 'z_p2_1': 32, 'z_p2_2': 29, 'z_r2': 80, 'z_r2_1': 75, 'z_r2_2': 81, 'x_s': -0.3, 'x_s_1': -0.4, 'x_s_2': -0.5, 'x_p1': 1.0, 'x_p1_1': -0.9, 'x_p1_2': -1.0, 'x_p2': 0.5, 'x_p2_1': 0.4, 'x_p2_2': 0.3, 'x_r2': 1.5, 'x_r2_1': 1.4, 'x_r2_2': -0.776701} using model BoTorch.\n",
      "[INFO 04-07 09:45:46] ax.service.ax_client: Completed trial 1351 with data: {'Viable_Cross_Terms': (4, None)}.\n",
      "[INFO 04-07 09:45:47] ax.modelbridge.base: Leaving out out-of-design observations for arms: 729_0, 1035_0, 977_0, 489_0, 1268_0, 1155_0, 1293_0, 686_0, 1121_0, 1157_0, 775_0, 899_0\n",
      "[INFO 04-07 09:51:39] ax.service.ax_client: Generated new trial 1352 with parameters {'z_sh': 8, 'z_sh_1': 7, 'z_sh_2': 5, 'z_p2': 30, 'z_p2_1': 31, 'z_p2_2': 31, 'z_r2': 77, 'z_r2_1': 75, 'z_r2_2': 78, 'x_s': 0.5, 'x_s_1': 0.4, 'x_s_2': 0.3, 'x_p1': 0.573828, 'x_p1_1': 0.473828, 'x_p1_2': 0.373828, 'x_p2': 0.5, 'x_p2_1': 0.4, 'x_p2_2': 0.3, 'x_r2': 0.951708, 'x_r2_1': 0.851708, 'x_r2_2': 0.751708} using model BoTorch.\n",
      "[INFO 04-07 09:51:39] ax.service.ax_client: Completed trial 1352 with data: {'Viable_Cross_Terms': (53, None)}.\n",
      "[INFO 04-07 09:51:40] ax.modelbridge.base: Leaving out out-of-design observations for arms: 729_0, 1035_0, 977_0, 489_0, 1268_0, 1155_0, 1293_0, 686_0, 1121_0, 1157_0, 775_0, 899_0\n",
      "[INFO 04-07 09:57:13] ax.service.ax_client: Generated new trial 1353 with parameters {'z_sh': 11, 'z_sh_1': 7, 'z_sh_2': 5, 'z_p2': 32, 'z_p2_1': 30, 'z_p2_2': 29, 'z_r2': 77, 'z_r2_1': 75, 'z_r2_2': 83, 'x_s': 0.5, 'x_s_1': 0.4, 'x_s_2': 0.3, 'x_p1': 0.561385, 'x_p1_1': 0.461385, 'x_p1_2': 0.361385, 'x_p2': 0.5, 'x_p2_1': 0.4, 'x_p2_2': 0.3, 'x_r2': 0.948819, 'x_r2_1': 0.848819, 'x_r2_2': 0.748819} using model BoTorch.\n",
      "[INFO 04-07 09:57:13] ax.service.ax_client: Completed trial 1353 with data: {'Viable_Cross_Terms': (37, None)}.\n",
      "[INFO 04-07 09:57:15] ax.modelbridge.base: Leaving out out-of-design observations for arms: 729_0, 1035_0, 977_0, 489_0, 1268_0, 1155_0, 1293_0, 686_0, 1121_0, 1157_0, 775_0, 899_0\n",
      "[INFO 04-07 10:02:33] ax.service.ax_client: Generated new trial 1354 with parameters {'z_sh': 7, 'z_sh_1': 14, 'z_sh_2': 5, 'z_p2': 27, 'z_p2_1': 34, 'z_p2_2': 33, 'z_r2': 80, 'z_r2_1': 71, 'z_r2_2': 84, 'x_s': 0.5, 'x_s_1': 0.4, 'x_s_2': 0.3, 'x_p1': 0.625703, 'x_p1_1': 0.525703, 'x_p1_2': 0.425703, 'x_p2': 0.5, 'x_p2_1': 0.4, 'x_p2_2': 0.3, 'x_r2': 1.077559, 'x_r2_1': 0.977559, 'x_r2_2': 0.877559} using model BoTorch.\n",
      "[INFO 04-07 10:02:33] ax.service.ax_client: Completed trial 1354 with data: {'Viable_Cross_Terms': (84, None)}.\n",
      "[INFO 04-07 10:02:34] ax.modelbridge.base: Leaving out out-of-design observations for arms: 729_0, 1035_0, 977_0, 489_0, 1268_0, 1155_0, 1293_0, 686_0, 1121_0, 1157_0, 775_0, 899_0\n",
      "[INFO 04-07 10:09:12] ax.service.ax_client: Generated new trial 1355 with parameters {'z_sh': 7, 'z_sh_1': 6, 'z_sh_2': 5, 'z_p2': 27, 'z_p2_1': 34, 'z_p2_2': 32, 'z_r2': 80, 'z_r2_1': 84, 'z_r2_2': 84, 'x_s': 0.5, 'x_s_1': 0.4, 'x_s_2': 0.3, 'x_p1': 0.637162, 'x_p1_1': 0.537162, 'x_p1_2': 0.437162, 'x_p2': 0.5, 'x_p2_1': 0.4, 'x_p2_2': 0.3, 'x_r2': 1.049607, 'x_r2_1': 0.949607, 'x_r2_2': 0.849607} using model BoTorch.\n",
      "[INFO 04-07 10:09:12] ax.service.ax_client: Completed trial 1355 with data: {'Viable_Cross_Terms': (84, None)}.\n",
      "[INFO 04-07 10:09:13] ax.modelbridge.base: Leaving out out-of-design observations for arms: 729_0, 1035_0, 977_0, 489_0, 1268_0, 1155_0, 1293_0, 686_0, 1121_0, 1157_0, 775_0, 899_0\n",
      "[INFO 04-07 10:14:44] ax.service.ax_client: Generated new trial 1356 with parameters {'z_sh': 7, 'z_sh_1': 14, 'z_sh_2': 5, 'z_p2': 35, 'z_p2_1': 34, 'z_p2_2': 33, 'z_r2': 80, 'z_r2_1': 85, 'z_r2_2': 70, 'x_s': 0.5, 'x_s_1': 0.4, 'x_s_2': 0.3, 'x_p1': 0.670282, 'x_p1_1': 0.570282, 'x_p1_2': 0.470282, 'x_p2': 0.5, 'x_p2_1': 0.4, 'x_p2_2': 0.3, 'x_r2': 1.083768, 'x_r2_1': 0.983768, 'x_r2_2': 0.883768} using model BoTorch.\n",
      "[INFO 04-07 10:14:44] ax.service.ax_client: Completed trial 1356 with data: {'Viable_Cross_Terms': (85, None)}.\n",
      "[INFO 04-07 10:14:45] ax.modelbridge.base: Leaving out out-of-design observations for arms: 729_0, 1035_0, 977_0, 489_0, 1268_0, 1155_0, 1293_0, 686_0, 1121_0, 1157_0, 775_0, 899_0\n",
      "[INFO 04-07 10:21:10] ax.service.ax_client: Generated new trial 1357 with parameters {'z_sh': 7, 'z_sh_1': 13, 'z_sh_2': 5, 'z_p2': 34, 'z_p2_1': 34, 'z_p2_2': 32, 'z_r2': 80, 'z_r2_1': 80, 'z_r2_2': 70, 'x_s': 0.5, 'x_s_1': 0.4, 'x_s_2': 0.3, 'x_p1': 0.63715, 'x_p1_1': 0.53715, 'x_p1_2': 0.43715, 'x_p2': 0.5, 'x_p2_1': 0.4, 'x_p2_2': 0.3, 'x_r2': 1.067442, 'x_r2_1': 0.967442, 'x_r2_2': 0.867442} using model BoTorch.\n",
      "[INFO 04-07 10:21:10] ax.service.ax_client: Completed trial 1357 with data: {'Viable_Cross_Terms': (85, None)}.\n",
      "[INFO 04-07 10:21:10] ax.modelbridge.base: Leaving out out-of-design observations for arms: 729_0, 1035_0, 977_0, 489_0, 1268_0, 1155_0, 1293_0, 686_0, 1121_0, 1157_0, 775_0, 899_0\n",
      "Exception ignored in: <bound method IPythonKernel._clean_thread_parent_frames of <ipykernel.ipkernel.IPythonKernel object at 0x73b61b7b3ec0>>\n",
      "Traceback (most recent call last):\n",
      "  File \"/home/gmc/Python/.venv/lib/python3.12/site-packages/ipykernel/ipkernel.py\", line 775, in _clean_thread_parent_frames\n",
      "    def _clean_thread_parent_frames(\n",
      "\n",
      "KeyboardInterrupt: \n"
     ]
    },
    {
     "ename": "KeyboardInterrupt",
     "evalue": "",
     "output_type": "error",
     "traceback": [
      "\u001b[0;31m---------------------------------------------------------------------------\u001b[0m",
      "\u001b[0;31mKeyboardInterrupt\u001b[0m                         Traceback (most recent call last)",
      "Cell \u001b[0;32mIn[42], line 2\u001b[0m\n\u001b[1;32m      1\u001b[0m \u001b[38;5;28;01mfor\u001b[39;00m i \u001b[38;5;129;01min\u001b[39;00m \u001b[38;5;28mrange\u001b[39m(\u001b[38;5;241m800\u001b[39m):\n\u001b[0;32m----> 2\u001b[0m     parameterization, trial_index \u001b[38;5;241m=\u001b[39m \u001b[43mTag_client\u001b[49m\u001b[38;5;241;43m.\u001b[39;49m\u001b[43mget_next_trial\u001b[49m\u001b[43m(\u001b[49m\u001b[43m)\u001b[49m\n\u001b[1;32m      3\u001b[0m     \u001b[38;5;66;03m# Local evaluation here can be replaced with deployment to external system.\u001b[39;00m\n\u001b[1;32m      4\u001b[0m     Tag_client\u001b[38;5;241m.\u001b[39mcomplete_trial(trial_index\u001b[38;5;241m=\u001b[39mtrial_index, raw_data\u001b[38;5;241m=\u001b[39mscore_vals(param_to_list(parameterization)))\n",
      "File \u001b[0;32m~/Python/.venv/lib/python3.12/site-packages/ax/utils/common/executils.py:169\u001b[0m, in \u001b[0;36mretry_on_exception.<locals>.func_wrapper.<locals>.actual_wrapper\u001b[0;34m(*args, **kwargs)\u001b[0m\n\u001b[1;32m    165\u001b[0m             wait_interval \u001b[38;5;241m=\u001b[39m \u001b[38;5;28mmin\u001b[39m(\n\u001b[1;32m    166\u001b[0m                 MAX_WAIT_SECONDS, initial_wait_seconds \u001b[38;5;241m*\u001b[39m \u001b[38;5;241m2\u001b[39m \u001b[38;5;241m*\u001b[39m\u001b[38;5;241m*\u001b[39m (i \u001b[38;5;241m-\u001b[39m \u001b[38;5;241m1\u001b[39m)\n\u001b[1;32m    167\u001b[0m             )\n\u001b[1;32m    168\u001b[0m             time\u001b[38;5;241m.\u001b[39msleep(wait_interval)\n\u001b[0;32m--> 169\u001b[0m         \u001b[38;5;28;01mreturn\u001b[39;00m \u001b[43mfunc\u001b[49m\u001b[43m(\u001b[49m\u001b[38;5;241;43m*\u001b[39;49m\u001b[43margs\u001b[49m\u001b[43m,\u001b[49m\u001b[43m \u001b[49m\u001b[38;5;241;43m*\u001b[39;49m\u001b[38;5;241;43m*\u001b[39;49m\u001b[43mkwargs\u001b[49m\u001b[43m)\u001b[49m\n\u001b[1;32m    171\u001b[0m \u001b[38;5;66;03m# If we are here, it means the retries were finished but\u001b[39;00m\n\u001b[1;32m    172\u001b[0m \u001b[38;5;66;03m# The error was suppressed. Hence return the default value provided.\u001b[39;00m\n\u001b[1;32m    173\u001b[0m \u001b[38;5;28;01mreturn\u001b[39;00m default_return_on_suppression\n",
      "File \u001b[0;32m~/Python/.venv/lib/python3.12/site-packages/ax/service/ax_client.py:576\u001b[0m, in \u001b[0;36mAxClient.get_next_trial\u001b[0;34m(self, ttl_seconds, force, fixed_features)\u001b[0m\n\u001b[1;32m    572\u001b[0m         \u001b[38;5;28;01mraise\u001b[39;00m OptimizationShouldStop(message\u001b[38;5;241m=\u001b[39mglobal_stopping_message)\n\u001b[1;32m    574\u001b[0m \u001b[38;5;28;01mtry\u001b[39;00m:\n\u001b[1;32m    575\u001b[0m     trial \u001b[38;5;241m=\u001b[39m \u001b[38;5;28mself\u001b[39m\u001b[38;5;241m.\u001b[39mexperiment\u001b[38;5;241m.\u001b[39mnew_trial(\n\u001b[0;32m--> 576\u001b[0m         generator_run\u001b[38;5;241m=\u001b[39m\u001b[38;5;28;43mself\u001b[39;49m\u001b[38;5;241;43m.\u001b[39;49m\u001b[43m_gen_new_generator_run\u001b[49m\u001b[43m(\u001b[49m\n\u001b[1;32m    577\u001b[0m \u001b[43m            \u001b[49m\u001b[43mfixed_features\u001b[49m\u001b[38;5;241;43m=\u001b[39;49m\u001b[43mfixed_features\u001b[49m\n\u001b[1;32m    578\u001b[0m \u001b[43m        \u001b[49m\u001b[43m)\u001b[49m,\n\u001b[1;32m    579\u001b[0m         ttl_seconds\u001b[38;5;241m=\u001b[39mttl_seconds,\n\u001b[1;32m    580\u001b[0m     )\n\u001b[1;32m    581\u001b[0m \u001b[38;5;28;01mexcept\u001b[39;00m MaxParallelismReachedException \u001b[38;5;28;01mas\u001b[39;00m e:\n\u001b[1;32m    582\u001b[0m     \u001b[38;5;28;01mif\u001b[39;00m \u001b[38;5;28mself\u001b[39m\u001b[38;5;241m.\u001b[39m_early_stopping_strategy \u001b[38;5;129;01mis\u001b[39;00m \u001b[38;5;129;01mnot\u001b[39;00m \u001b[38;5;28;01mNone\u001b[39;00m:\n",
      "File \u001b[0;32m~/Python/.venv/lib/python3.12/site-packages/ax/service/ax_client.py:1818\u001b[0m, in \u001b[0;36mAxClient._gen_new_generator_run\u001b[0;34m(self, n, fixed_features)\u001b[0m\n\u001b[1;32m   1810\u001b[0m fixed_feats \u001b[38;5;241m=\u001b[39m (\n\u001b[1;32m   1811\u001b[0m     InstantiationBase\u001b[38;5;241m.\u001b[39mmake_fixed_observation_features(\n\u001b[1;32m   1812\u001b[0m         fixed_features\u001b[38;5;241m=\u001b[39mfixed_features\n\u001b[0;32m   (...)\u001b[0m\n\u001b[1;32m   1815\u001b[0m     \u001b[38;5;28;01melse\u001b[39;00m \u001b[38;5;28;01mNone\u001b[39;00m\n\u001b[1;32m   1816\u001b[0m )\n\u001b[1;32m   1817\u001b[0m \u001b[38;5;28;01mwith\u001b[39;00m with_rng_seed(seed\u001b[38;5;241m=\u001b[39m\u001b[38;5;28mself\u001b[39m\u001b[38;5;241m.\u001b[39m_random_seed):\n\u001b[0;32m-> 1818\u001b[0m     \u001b[38;5;28;01mreturn\u001b[39;00m \u001b[43mnone_throws\u001b[49m\u001b[43m(\u001b[49m\u001b[38;5;28;43mself\u001b[39;49m\u001b[38;5;241;43m.\u001b[39;49m\u001b[43mgeneration_strategy\u001b[49m\u001b[43m)\u001b[49m\u001b[38;5;241;43m.\u001b[39;49m\u001b[43mgen\u001b[49m\u001b[43m(\u001b[49m\n\u001b[1;32m   1819\u001b[0m \u001b[43m        \u001b[49m\u001b[43mexperiment\u001b[49m\u001b[38;5;241;43m=\u001b[39;49m\u001b[38;5;28;43mself\u001b[39;49m\u001b[38;5;241;43m.\u001b[39;49m\u001b[43mexperiment\u001b[49m\u001b[43m,\u001b[49m\n\u001b[1;32m   1820\u001b[0m \u001b[43m        \u001b[49m\u001b[43mn\u001b[49m\u001b[38;5;241;43m=\u001b[39;49m\u001b[43mn\u001b[49m\u001b[43m,\u001b[49m\n\u001b[1;32m   1821\u001b[0m \u001b[43m        \u001b[49m\u001b[43mpending_observations\u001b[49m\u001b[38;5;241;43m=\u001b[39;49m\u001b[38;5;28;43mself\u001b[39;49m\u001b[38;5;241;43m.\u001b[39;49m\u001b[43m_get_pending_observation_features\u001b[49m\u001b[43m(\u001b[49m\n\u001b[1;32m   1822\u001b[0m \u001b[43m            \u001b[49m\u001b[43mexperiment\u001b[49m\u001b[38;5;241;43m=\u001b[39;49m\u001b[38;5;28;43mself\u001b[39;49m\u001b[38;5;241;43m.\u001b[39;49m\u001b[43mexperiment\u001b[49m\n\u001b[1;32m   1823\u001b[0m \u001b[43m        \u001b[49m\u001b[43m)\u001b[49m\u001b[43m,\u001b[49m\n\u001b[1;32m   1824\u001b[0m \u001b[43m        \u001b[49m\u001b[43mfixed_features\u001b[49m\u001b[38;5;241;43m=\u001b[39;49m\u001b[43mfixed_feats\u001b[49m\u001b[43m,\u001b[49m\n\u001b[1;32m   1825\u001b[0m \u001b[43m    \u001b[49m\u001b[43m)\u001b[49m\n",
      "File \u001b[0;32m~/Python/.venv/lib/python3.12/site-packages/ax/modelbridge/generation_strategy.py:339\u001b[0m, in \u001b[0;36mGenerationStrategy.gen\u001b[0;34m(self, experiment, data, pending_observations, n, fixed_features)\u001b[0m\n\u001b[1;32m    304\u001b[0m \u001b[38;5;28;01mdef\u001b[39;00m \u001b[38;5;21mgen\u001b[39m(\n\u001b[1;32m    305\u001b[0m     \u001b[38;5;28mself\u001b[39m,\n\u001b[1;32m    306\u001b[0m     experiment: Experiment,\n\u001b[0;32m   (...)\u001b[0m\n\u001b[1;32m    310\u001b[0m     fixed_features: ObservationFeatures \u001b[38;5;241m|\u001b[39m \u001b[38;5;28;01mNone\u001b[39;00m \u001b[38;5;241m=\u001b[39m \u001b[38;5;28;01mNone\u001b[39;00m,\n\u001b[1;32m    311\u001b[0m ) \u001b[38;5;241m-\u001b[39m\u001b[38;5;241m>\u001b[39m GeneratorRun:\n\u001b[1;32m    312\u001b[0m \u001b[38;5;250m    \u001b[39m\u001b[38;5;124;03m\"\"\"Produce the next points in the experiment. Additional kwargs passed to\u001b[39;00m\n\u001b[1;32m    313\u001b[0m \u001b[38;5;124;03m    this method are propagated directly to the underlying model's `gen`, along\u001b[39;00m\n\u001b[1;32m    314\u001b[0m \u001b[38;5;124;03m    with the `model_gen_kwargs` set on the current generation node.\u001b[39;00m\n\u001b[0;32m   (...)\u001b[0m\n\u001b[1;32m    337\u001b[0m \u001b[38;5;124;03m            resuggesting points that are currently being evaluated.\u001b[39;00m\n\u001b[1;32m    338\u001b[0m \u001b[38;5;124;03m    \"\"\"\u001b[39;00m\n\u001b[0;32m--> 339\u001b[0m     gr \u001b[38;5;241m=\u001b[39m \u001b[38;5;28;43mself\u001b[39;49m\u001b[38;5;241;43m.\u001b[39;49m\u001b[43m_gen_with_multiple_nodes\u001b[49m\u001b[43m(\u001b[49m\n\u001b[1;32m    340\u001b[0m \u001b[43m        \u001b[49m\u001b[43mexperiment\u001b[49m\u001b[38;5;241;43m=\u001b[39;49m\u001b[43mexperiment\u001b[49m\u001b[43m,\u001b[49m\n\u001b[1;32m    341\u001b[0m \u001b[43m        \u001b[49m\u001b[43mdata\u001b[49m\u001b[38;5;241;43m=\u001b[39;49m\u001b[43mdata\u001b[49m\u001b[43m,\u001b[49m\n\u001b[1;32m    342\u001b[0m \u001b[43m        \u001b[49m\u001b[43mn\u001b[49m\u001b[38;5;241;43m=\u001b[39;49m\u001b[43mn\u001b[49m\u001b[43m,\u001b[49m\n\u001b[1;32m    343\u001b[0m \u001b[43m        \u001b[49m\u001b[43mpending_observations\u001b[49m\u001b[38;5;241;43m=\u001b[39;49m\u001b[43mpending_observations\u001b[49m\u001b[43m,\u001b[49m\n\u001b[1;32m    344\u001b[0m \u001b[43m        \u001b[49m\u001b[43mfixed_features\u001b[49m\u001b[38;5;241;43m=\u001b[39;49m\u001b[43mfixed_features\u001b[49m\u001b[43m,\u001b[49m\n\u001b[1;32m    345\u001b[0m \u001b[43m    \u001b[49m\u001b[43m)\u001b[49m\n\u001b[1;32m    346\u001b[0m     \u001b[38;5;28;01mif\u001b[39;00m \u001b[38;5;28mlen\u001b[39m(gr) \u001b[38;5;241m>\u001b[39m \u001b[38;5;241m1\u001b[39m:\n\u001b[1;32m    347\u001b[0m         \u001b[38;5;28;01mraise\u001b[39;00m UnsupportedError(\n\u001b[1;32m    348\u001b[0m             \u001b[38;5;124m\"\u001b[39m\u001b[38;5;124mBy calling into GenerationStrategy.gen(), you are should be \u001b[39m\u001b[38;5;124m\"\u001b[39m\n\u001b[1;32m    349\u001b[0m             \u001b[38;5;124m\"\u001b[39m\u001b[38;5;124mexpecting a single `Trial` with only one `GeneratorRun`. However, \u001b[39m\u001b[38;5;124m\"\u001b[39m\n\u001b[1;32m    350\u001b[0m             \u001b[38;5;124m\"\u001b[39m\u001b[38;5;124mthe underlying GenerationStrategy produced multiple `GeneratorRuns` \u001b[39m\u001b[38;5;124m\"\u001b[39m\n\u001b[1;32m    351\u001b[0m             \u001b[38;5;124mf\u001b[39m\u001b[38;5;124m\"\u001b[39m\u001b[38;5;124mand returned the following list of `GeneratorRun`-s: \u001b[39m\u001b[38;5;132;01m{\u001b[39;00mgr\u001b[38;5;132;01m}\u001b[39;00m\u001b[38;5;124m\"\u001b[39m\n\u001b[1;32m    352\u001b[0m         )\n",
      "File \u001b[0;32m~/Python/.venv/lib/python3.12/site-packages/ax/modelbridge/generation_strategy.py:453\u001b[0m, in \u001b[0;36mGenerationStrategy._gen_with_multiple_nodes\u001b[0;34m(self, experiment, data, pending_observations, n, fixed_features, arms_per_node)\u001b[0m\n\u001b[1;32m    451\u001b[0m \u001b[38;5;28;01mif\u001b[39;00m arms_from_node \u001b[38;5;241m!=\u001b[39m \u001b[38;5;241m0\u001b[39m:\n\u001b[1;32m    452\u001b[0m     \u001b[38;5;28;01mtry\u001b[39;00m:\n\u001b[0;32m--> 453\u001b[0m         curr_node_gr \u001b[38;5;241m=\u001b[39m \u001b[38;5;28;43mself\u001b[39;49m\u001b[38;5;241;43m.\u001b[39;49m\u001b[43m_curr\u001b[49m\u001b[38;5;241;43m.\u001b[39;49m\u001b[43mgen\u001b[49m\u001b[43m(\u001b[49m\n\u001b[1;32m    454\u001b[0m \u001b[43m            \u001b[49m\u001b[43mn\u001b[49m\u001b[38;5;241;43m=\u001b[39;49m\u001b[43marms_from_node\u001b[49m\u001b[43m,\u001b[49m\n\u001b[1;32m    455\u001b[0m \u001b[43m            \u001b[49m\u001b[43mpending_observations\u001b[49m\u001b[38;5;241;43m=\u001b[39;49m\u001b[43mpending_observations\u001b[49m\u001b[43m,\u001b[49m\n\u001b[1;32m    456\u001b[0m \u001b[43m            \u001b[49m\u001b[43marms_by_signature_for_deduplication\u001b[49m\u001b[38;5;241;43m=\u001b[39;49m\u001b[43m(\u001b[49m\n\u001b[1;32m    457\u001b[0m \u001b[43m                \u001b[49m\u001b[43mexperiment\u001b[49m\u001b[38;5;241;43m.\u001b[39;49m\u001b[43marms_by_signature_for_deduplication\u001b[49m\n\u001b[1;32m    458\u001b[0m \u001b[43m            \u001b[49m\u001b[43m)\u001b[49m\u001b[43m,\u001b[49m\n\u001b[1;32m    459\u001b[0m \u001b[43m            \u001b[49m\u001b[43mfixed_features\u001b[49m\u001b[38;5;241;43m=\u001b[39;49m\u001b[43mfixed_features_from_node\u001b[49m\u001b[43m,\u001b[49m\n\u001b[1;32m    460\u001b[0m \u001b[43m        \u001b[49m\u001b[43m)\u001b[49m\n\u001b[1;32m    461\u001b[0m     \u001b[38;5;28;01mexcept\u001b[39;00m DataRequiredError \u001b[38;5;28;01mas\u001b[39;00m err:\n\u001b[1;32m    462\u001b[0m         \u001b[38;5;66;03m# Model needs more data, so we log the error and return\u001b[39;00m\n\u001b[1;32m    463\u001b[0m         \u001b[38;5;66;03m# as many generator runs as we were able to produce, unless\u001b[39;00m\n\u001b[1;32m    464\u001b[0m         \u001b[38;5;66;03m# no trials were produced at all (in which case its safe to raise).\u001b[39;00m\n\u001b[1;32m    465\u001b[0m         \u001b[38;5;28;01mif\u001b[39;00m \u001b[38;5;28mlen\u001b[39m(grs) \u001b[38;5;241m==\u001b[39m \u001b[38;5;241m0\u001b[39m:\n",
      "File \u001b[0;32m~/Python/.venv/lib/python3.12/site-packages/ax/modelbridge/generation_node.py:902\u001b[0m, in \u001b[0;36mGenerationStep.gen\u001b[0;34m(self, n, pending_observations, max_gen_draws_for_deduplication, arms_by_signature_for_deduplication, **model_gen_kwargs)\u001b[0m\n\u001b[1;32m    894\u001b[0m \u001b[38;5;28;01mdef\u001b[39;00m \u001b[38;5;21mgen\u001b[39m(\n\u001b[1;32m    895\u001b[0m     \u001b[38;5;28mself\u001b[39m,\n\u001b[1;32m    896\u001b[0m     n: \u001b[38;5;28mint\u001b[39m \u001b[38;5;241m|\u001b[39m \u001b[38;5;28;01mNone\u001b[39;00m \u001b[38;5;241m=\u001b[39m \u001b[38;5;28;01mNone\u001b[39;00m,\n\u001b[0;32m   (...)\u001b[0m\n\u001b[1;32m    900\u001b[0m     \u001b[38;5;241m*\u001b[39m\u001b[38;5;241m*\u001b[39mmodel_gen_kwargs: Any,\n\u001b[1;32m    901\u001b[0m ) \u001b[38;5;241m-\u001b[39m\u001b[38;5;241m>\u001b[39m GeneratorRun:\n\u001b[0;32m--> 902\u001b[0m     gr \u001b[38;5;241m=\u001b[39m \u001b[38;5;28;43msuper\u001b[39;49m\u001b[43m(\u001b[49m\u001b[43m)\u001b[49m\u001b[38;5;241;43m.\u001b[39;49m\u001b[43mgen\u001b[49m\u001b[43m(\u001b[49m\n\u001b[1;32m    903\u001b[0m \u001b[43m        \u001b[49m\u001b[43mn\u001b[49m\u001b[38;5;241;43m=\u001b[39;49m\u001b[43mn\u001b[49m\u001b[43m,\u001b[49m\n\u001b[1;32m    904\u001b[0m \u001b[43m        \u001b[49m\u001b[43mpending_observations\u001b[49m\u001b[38;5;241;43m=\u001b[39;49m\u001b[43mpending_observations\u001b[49m\u001b[43m,\u001b[49m\n\u001b[1;32m    905\u001b[0m \u001b[43m        \u001b[49m\u001b[43mmax_gen_draws_for_deduplication\u001b[49m\u001b[38;5;241;43m=\u001b[39;49m\u001b[43mmax_gen_draws_for_deduplication\u001b[49m\u001b[43m,\u001b[49m\n\u001b[1;32m    906\u001b[0m \u001b[43m        \u001b[49m\u001b[43marms_by_signature_for_deduplication\u001b[49m\u001b[38;5;241;43m=\u001b[39;49m\u001b[43marms_by_signature_for_deduplication\u001b[49m\u001b[43m,\u001b[49m\n\u001b[1;32m    907\u001b[0m \u001b[43m        \u001b[49m\u001b[38;5;241;43m*\u001b[39;49m\u001b[38;5;241;43m*\u001b[39;49m\u001b[43mmodel_gen_kwargs\u001b[49m\u001b[43m,\u001b[49m\n\u001b[1;32m    908\u001b[0m \u001b[43m    \u001b[49m\u001b[43m)\u001b[49m\n\u001b[1;32m    909\u001b[0m     gr\u001b[38;5;241m.\u001b[39m_generation_step_index \u001b[38;5;241m=\u001b[39m \u001b[38;5;28mself\u001b[39m\u001b[38;5;241m.\u001b[39mindex\n\u001b[1;32m    910\u001b[0m     \u001b[38;5;28;01mreturn\u001b[39;00m gr\n",
      "File \u001b[0;32m~/Python/.venv/lib/python3.12/site-packages/ax/modelbridge/generation_node.py:408\u001b[0m, in \u001b[0;36mGenerationNode.gen\u001b[0;34m(self, n, pending_observations, max_gen_draws_for_deduplication, arms_by_signature_for_deduplication, **model_gen_kwargs)\u001b[0m\n\u001b[1;32m    405\u001b[0m \u001b[38;5;66;03m# Keep generating until each of `generator_run.arms` is not a duplicate\u001b[39;00m\n\u001b[1;32m    406\u001b[0m \u001b[38;5;66;03m# of a previous arm, if `should_deduplicate is True`\u001b[39;00m\n\u001b[1;32m    407\u001b[0m \u001b[38;5;28;01mwhile\u001b[39;00m should_generate_run:\n\u001b[0;32m--> 408\u001b[0m     generator_run \u001b[38;5;241m=\u001b[39m \u001b[38;5;28;43mself\u001b[39;49m\u001b[38;5;241;43m.\u001b[39;49m\u001b[43m_gen\u001b[49m\u001b[43m(\u001b[49m\n\u001b[1;32m    409\u001b[0m \u001b[43m        \u001b[49m\u001b[43mn\u001b[49m\u001b[38;5;241;43m=\u001b[39;49m\u001b[43mn\u001b[49m\u001b[43m,\u001b[49m\n\u001b[1;32m    410\u001b[0m \u001b[43m        \u001b[49m\u001b[43mpending_observations\u001b[49m\u001b[38;5;241;43m=\u001b[39;49m\u001b[43mpending_observations\u001b[49m\u001b[43m,\u001b[49m\n\u001b[1;32m    411\u001b[0m \u001b[43m        \u001b[49m\u001b[38;5;241;43m*\u001b[39;49m\u001b[38;5;241;43m*\u001b[39;49m\u001b[43mmodel_gen_kwargs\u001b[49m\u001b[43m,\u001b[49m\n\u001b[1;32m    412\u001b[0m \u001b[43m    \u001b[49m\u001b[43m)\u001b[49m\n\u001b[1;32m    413\u001b[0m     should_generate_run \u001b[38;5;241m=\u001b[39m (\n\u001b[1;32m    414\u001b[0m         \u001b[38;5;28mself\u001b[39m\u001b[38;5;241m.\u001b[39mshould_deduplicate\n\u001b[1;32m    415\u001b[0m         \u001b[38;5;129;01mand\u001b[39;00m arms_by_signature_for_deduplication\n\u001b[0;32m   (...)\u001b[0m\n\u001b[1;32m    419\u001b[0m         )\n\u001b[1;32m    420\u001b[0m     )\n\u001b[1;32m    421\u001b[0m     n_gen_draws \u001b[38;5;241m+\u001b[39m\u001b[38;5;241m=\u001b[39m \u001b[38;5;241m1\u001b[39m\n",
      "File \u001b[0;32m~/Python/.venv/lib/python3.12/site-packages/ax/modelbridge/generation_node.py:479\u001b[0m, in \u001b[0;36mGenerationNode._gen\u001b[0;34m(self, n, pending_observations, **model_gen_kwargs)\u001b[0m\n\u001b[1;32m    475\u001b[0m \u001b[38;5;28;01mif\u001b[39;00m n \u001b[38;5;129;01mis\u001b[39;00m \u001b[38;5;28;01mNone\u001b[39;00m \u001b[38;5;129;01mand\u001b[39;00m model_spec\u001b[38;5;241m.\u001b[39mmodel_gen_kwargs:\n\u001b[1;32m    476\u001b[0m     \u001b[38;5;66;03m# If `n` is not specified, ensure that the `None` value does not\u001b[39;00m\n\u001b[1;32m    477\u001b[0m     \u001b[38;5;66;03m# override the one set in `model_spec.model_gen_kwargs`.\u001b[39;00m\n\u001b[1;32m    478\u001b[0m     n \u001b[38;5;241m=\u001b[39m model_spec\u001b[38;5;241m.\u001b[39mmodel_gen_kwargs\u001b[38;5;241m.\u001b[39mget(\u001b[38;5;124m\"\u001b[39m\u001b[38;5;124mn\u001b[39m\u001b[38;5;124m\"\u001b[39m, \u001b[38;5;28;01mNone\u001b[39;00m)\n\u001b[0;32m--> 479\u001b[0m \u001b[38;5;28;01mreturn\u001b[39;00m \u001b[43mmodel_spec\u001b[49m\u001b[38;5;241;43m.\u001b[39;49m\u001b[43mgen\u001b[49m\u001b[43m(\u001b[49m\n\u001b[1;32m    480\u001b[0m \u001b[43m    \u001b[49m\u001b[43mn\u001b[49m\u001b[38;5;241;43m=\u001b[39;49m\u001b[43mn\u001b[49m\u001b[43m,\u001b[49m\n\u001b[1;32m    481\u001b[0m \u001b[43m    \u001b[49m\u001b[38;5;66;43;03m# For `pending_observations`, prefer the input to this function, as\u001b[39;49;00m\n\u001b[1;32m    482\u001b[0m \u001b[43m    \u001b[49m\u001b[38;5;66;43;03m# `pending_observations` are dynamic throughout the experiment and thus\u001b[39;49;00m\n\u001b[1;32m    483\u001b[0m \u001b[43m    \u001b[49m\u001b[38;5;66;43;03m# unlikely to be specified in `model_spec.model_gen_kwargs`.\u001b[39;49;00m\n\u001b[1;32m    484\u001b[0m \u001b[43m    \u001b[49m\u001b[43mpending_observations\u001b[49m\u001b[38;5;241;43m=\u001b[39;49m\u001b[43mpending_observations\u001b[49m\u001b[43m,\u001b[49m\n\u001b[1;32m    485\u001b[0m \u001b[43m    \u001b[49m\u001b[38;5;241;43m*\u001b[39;49m\u001b[38;5;241;43m*\u001b[39;49m\u001b[43mmodel_gen_kwargs\u001b[49m\u001b[43m,\u001b[49m\n\u001b[1;32m    486\u001b[0m \u001b[43m\u001b[49m\u001b[43m)\u001b[49m\n",
      "File \u001b[0;32m~/Python/.venv/lib/python3.12/site-packages/ax/modelbridge/model_spec.py:240\u001b[0m, in \u001b[0;36mModelSpec.gen\u001b[0;34m(self, **model_gen_kwargs)\u001b[0m\n\u001b[1;32m    237\u001b[0m model_gen_kwargs \u001b[38;5;241m=\u001b[39m deepcopy(model_gen_kwargs)\n\u001b[1;32m    238\u001b[0m generator_run \u001b[38;5;241m=\u001b[39m fitted_model\u001b[38;5;241m.\u001b[39mgen(\u001b[38;5;241m*\u001b[39m\u001b[38;5;241m*\u001b[39mmodel_gen_kwargs)\n\u001b[1;32m    239\u001b[0m fit_and_std_quality_and_generalization_dict \u001b[38;5;241m=\u001b[39m (\n\u001b[0;32m--> 240\u001b[0m     \u001b[43mget_fit_and_std_quality_and_generalization_dict\u001b[49m\u001b[43m(\u001b[49m\n\u001b[1;32m    241\u001b[0m \u001b[43m        \u001b[49m\u001b[43mfitted_model_bridge\u001b[49m\u001b[38;5;241;43m=\u001b[39;49m\u001b[38;5;28;43mself\u001b[39;49m\u001b[38;5;241;43m.\u001b[39;49m\u001b[43mfitted_model\u001b[49m\u001b[43m,\u001b[49m\n\u001b[1;32m    242\u001b[0m \u001b[43m    \u001b[49m\u001b[43m)\u001b[49m\n\u001b[1;32m    243\u001b[0m )\n\u001b[1;32m    244\u001b[0m generator_run\u001b[38;5;241m.\u001b[39m_gen_metadata \u001b[38;5;241m=\u001b[39m (\n\u001b[1;32m    245\u001b[0m     {} \u001b[38;5;28;01mif\u001b[39;00m generator_run\u001b[38;5;241m.\u001b[39mgen_metadata \u001b[38;5;129;01mis\u001b[39;00m \u001b[38;5;28;01mNone\u001b[39;00m \u001b[38;5;28;01melse\u001b[39;00m generator_run\u001b[38;5;241m.\u001b[39mgen_metadata\n\u001b[1;32m    246\u001b[0m )\n\u001b[1;32m    247\u001b[0m generator_run\u001b[38;5;241m.\u001b[39m_gen_metadata\u001b[38;5;241m.\u001b[39mupdate(\n\u001b[1;32m    248\u001b[0m     \u001b[38;5;241m*\u001b[39m\u001b[38;5;241m*\u001b[39mfit_and_std_quality_and_generalization_dict\n\u001b[1;32m    249\u001b[0m )\n",
      "File \u001b[0;32m~/Python/.venv/lib/python3.12/site-packages/ax/modelbridge/cross_validation.py:425\u001b[0m, in \u001b[0;36mget_fit_and_std_quality_and_generalization_dict\u001b[0;34m(fitted_model_bridge)\u001b[0m\n\u001b[1;32m    422\u001b[0m std \u001b[38;5;241m=\u001b[39m \u001b[38;5;28mlist\u001b[39m(model_fit_dict[\u001b[38;5;124m\"\u001b[39m\u001b[38;5;124mstd_of_the_standardized_error\u001b[39m\u001b[38;5;124m\"\u001b[39m]\u001b[38;5;241m.\u001b[39mvalues())\n\u001b[1;32m    424\u001b[0m \u001b[38;5;66;03m# generalization metrics\u001b[39;00m\n\u001b[0;32m--> 425\u001b[0m model_gen_dict \u001b[38;5;241m=\u001b[39m \u001b[43mcompute_model_fit_metrics_from_modelbridge\u001b[49m\u001b[43m(\u001b[49m\n\u001b[1;32m    426\u001b[0m \u001b[43m    \u001b[49m\u001b[43mmodel_bridge\u001b[49m\u001b[38;5;241;43m=\u001b[39;49m\u001b[43mfitted_model_bridge\u001b[49m\u001b[43m,\u001b[49m\n\u001b[1;32m    427\u001b[0m \u001b[43m    \u001b[49m\u001b[43mgeneralization\u001b[49m\u001b[38;5;241;43m=\u001b[39;49m\u001b[38;5;28;43;01mTrue\u001b[39;49;00m\u001b[43m,\u001b[49m\n\u001b[1;32m    428\u001b[0m \u001b[43m    \u001b[49m\u001b[43muntransform\u001b[49m\u001b[38;5;241;43m=\u001b[39;49m\u001b[38;5;28;43;01mFalse\u001b[39;49;00m\u001b[43m,\u001b[49m\n\u001b[1;32m    429\u001b[0m \u001b[43m\u001b[49m\u001b[43m)\u001b[49m\n\u001b[1;32m    430\u001b[0m gen_std \u001b[38;5;241m=\u001b[39m \u001b[38;5;28mlist\u001b[39m(model_gen_dict[\u001b[38;5;124m\"\u001b[39m\u001b[38;5;124mstd_of_the_standardized_error\u001b[39m\u001b[38;5;124m\"\u001b[39m]\u001b[38;5;241m.\u001b[39mvalues())\n\u001b[1;32m    431\u001b[0m \u001b[38;5;28;01mreturn\u001b[39;00m {\n\u001b[1;32m    432\u001b[0m     \u001b[38;5;124m\"\u001b[39m\u001b[38;5;124mmodel_fit_quality\u001b[39m\u001b[38;5;124m\"\u001b[39m: _model_fit_metric(model_fit_dict),\n\u001b[1;32m    433\u001b[0m     \u001b[38;5;124m\"\u001b[39m\u001b[38;5;124mmodel_std_quality\u001b[39m\u001b[38;5;124m\"\u001b[39m: _model_std_quality(np\u001b[38;5;241m.\u001b[39marray(std)),\n\u001b[1;32m    434\u001b[0m     \u001b[38;5;124m\"\u001b[39m\u001b[38;5;124mmodel_fit_generalization\u001b[39m\u001b[38;5;124m\"\u001b[39m: _model_fit_metric(model_gen_dict),\n\u001b[1;32m    435\u001b[0m     \u001b[38;5;124m\"\u001b[39m\u001b[38;5;124mmodel_std_generalization\u001b[39m\u001b[38;5;124m\"\u001b[39m: _model_std_quality(np\u001b[38;5;241m.\u001b[39marray(gen_std)),\n\u001b[1;32m    436\u001b[0m }\n",
      "File \u001b[0;32m~/Python/.venv/lib/python3.12/site-packages/ax/modelbridge/cross_validation.py:488\u001b[0m, in \u001b[0;36mcompute_model_fit_metrics_from_modelbridge\u001b[0;34m(model_bridge, fit_metrics_dict, generalization, untransform)\u001b[0m\n\u001b[1;32m    454\u001b[0m \u001b[38;5;250m\u001b[39m\u001b[38;5;124;03m\"\"\"Computes the model fit metrics given a ModelBridge and an Experiment.\u001b[39;00m\n\u001b[1;32m    455\u001b[0m \n\u001b[1;32m    456\u001b[0m \u001b[38;5;124;03mArgs:\u001b[39;00m\n\u001b[0;32m   (...)\u001b[0m\n\u001b[1;32m    481\u001b[0m \u001b[38;5;124;03m    ```\u001b[39;00m\n\u001b[1;32m    482\u001b[0m \u001b[38;5;124;03m\"\"\"\u001b[39;00m\n\u001b[1;32m    483\u001b[0m predict_func \u001b[38;5;241m=\u001b[39m (\n\u001b[1;32m    484\u001b[0m     _predict_on_cross_validation_data\n\u001b[1;32m    485\u001b[0m     \u001b[38;5;28;01mif\u001b[39;00m generalization\n\u001b[1;32m    486\u001b[0m     \u001b[38;5;28;01melse\u001b[39;00m _predict_on_training_data\n\u001b[1;32m    487\u001b[0m )\n\u001b[0;32m--> 488\u001b[0m y_obs, y_pred, se_pred \u001b[38;5;241m=\u001b[39m \u001b[43mpredict_func\u001b[49m\u001b[43m(\u001b[49m\n\u001b[1;32m    489\u001b[0m \u001b[43m    \u001b[49m\u001b[43mmodel_bridge\u001b[49m\u001b[38;5;241;43m=\u001b[39;49m\u001b[43mmodel_bridge\u001b[49m\u001b[43m,\u001b[49m\u001b[43m \u001b[49m\u001b[43muntransform\u001b[49m\u001b[38;5;241;43m=\u001b[39;49m\u001b[43muntransform\u001b[49m\n\u001b[1;32m    490\u001b[0m \u001b[43m\u001b[49m\u001b[43m)\u001b[49m\n\u001b[1;32m    491\u001b[0m \u001b[38;5;28;01mif\u001b[39;00m fit_metrics_dict \u001b[38;5;129;01mis\u001b[39;00m \u001b[38;5;28;01mNone\u001b[39;00m:\n\u001b[1;32m    492\u001b[0m     fit_metrics_dict \u001b[38;5;241m=\u001b[39m {\n\u001b[1;32m    493\u001b[0m         \u001b[38;5;124m\"\u001b[39m\u001b[38;5;124mcoefficient_of_determination\u001b[39m\u001b[38;5;124m\"\u001b[39m: coefficient_of_determination,\n\u001b[1;32m    494\u001b[0m         \u001b[38;5;124m\"\u001b[39m\u001b[38;5;124mmean_of_the_standardized_error\u001b[39m\u001b[38;5;124m\"\u001b[39m: mean_of_the_standardized_error,\n\u001b[1;32m    495\u001b[0m         \u001b[38;5;124m\"\u001b[39m\u001b[38;5;124mstd_of_the_standardized_error\u001b[39m\u001b[38;5;124m\"\u001b[39m: std_of_the_standardized_error,\n\u001b[1;32m    496\u001b[0m     }\n",
      "File \u001b[0;32m~/Python/.venv/lib/python3.12/site-packages/ax/modelbridge/cross_validation.py:632\u001b[0m, in \u001b[0;36m_predict_on_cross_validation_data\u001b[0;34m(model_bridge, untransform)\u001b[0m\n\u001b[1;32m    610\u001b[0m \u001b[38;5;250m\u001b[39m\u001b[38;5;124;03m\"\"\"Makes leave-one-out cross-validation predictions on the training data of the\u001b[39;00m\n\u001b[1;32m    611\u001b[0m \u001b[38;5;124;03mModelBridge and returns the observed values, and the corresponding predictive means\u001b[39;00m\n\u001b[1;32m    612\u001b[0m \u001b[38;5;124;03mand predictive standard deviations of the model as numpy arrays,\u001b[39;00m\n\u001b[0;32m   (...)\u001b[0m\n\u001b[1;32m    626\u001b[0m \u001b[38;5;124;03m        3. LOOCV predicted standard deviation at each observed point.\u001b[39;00m\n\u001b[1;32m    627\u001b[0m \u001b[38;5;124;03m\"\"\"\u001b[39;00m\n\u001b[1;32m    628\u001b[0m \u001b[38;5;66;03m# IDEA: could use cross_validate_by_trial on the last few trials, since the\u001b[39;00m\n\u001b[1;32m    629\u001b[0m \u001b[38;5;66;03m# cross-validation performance on these is likely more correlated with the\u001b[39;00m\n\u001b[1;32m    630\u001b[0m \u001b[38;5;66;03m# performance of the model on an upcoming trial due to the sequential nature\u001b[39;00m\n\u001b[1;32m    631\u001b[0m \u001b[38;5;66;03m# of the data generated by BO.\u001b[39;00m\n\u001b[0;32m--> 632\u001b[0m cv \u001b[38;5;241m=\u001b[39m \u001b[43mcross_validate\u001b[49m\u001b[43m(\u001b[49m\u001b[43mmodel\u001b[49m\u001b[38;5;241;43m=\u001b[39;49m\u001b[43mmodel_bridge\u001b[49m\u001b[43m,\u001b[49m\u001b[43m \u001b[49m\u001b[43muntransform\u001b[49m\u001b[38;5;241;43m=\u001b[39;49m\u001b[43muntransform\u001b[49m\u001b[43m)\u001b[49m\n\u001b[1;32m    634\u001b[0m metric_names \u001b[38;5;241m=\u001b[39m cv[\u001b[38;5;241m0\u001b[39m]\u001b[38;5;241m.\u001b[39mobserved\u001b[38;5;241m.\u001b[39mdata\u001b[38;5;241m.\u001b[39mmetric_names\n\u001b[1;32m    635\u001b[0m mean_observed \u001b[38;5;241m=\u001b[39m {k: [] \u001b[38;5;28;01mfor\u001b[39;00m k \u001b[38;5;129;01min\u001b[39;00m metric_names}\n",
      "File \u001b[0;32m~/Python/.venv/lib/python3.12/site-packages/ax/modelbridge/cross_validation.py:161\u001b[0m, in \u001b[0;36mcross_validate\u001b[0;34m(model, folds, test_selector, untransform, use_posterior_predictive)\u001b[0m\n\u001b[1;32m    150\u001b[0m     cv_test_predictions \u001b[38;5;241m=\u001b[39m model\u001b[38;5;241m.\u001b[39mcross_validate(\n\u001b[1;32m    151\u001b[0m         cv_training_data\u001b[38;5;241m=\u001b[39mcv_training_data,\n\u001b[1;32m    152\u001b[0m         cv_test_points\u001b[38;5;241m=\u001b[39mcv_test_points,\n\u001b[1;32m    153\u001b[0m         use_posterior_predictive\u001b[38;5;241m=\u001b[39muse_posterior_predictive,\n\u001b[1;32m    154\u001b[0m     )\n\u001b[1;32m    155\u001b[0m \u001b[38;5;28;01melse\u001b[39;00m:\n\u001b[1;32m    156\u001b[0m     \u001b[38;5;66;03m# Get test predictions in transformed space\u001b[39;00m\n\u001b[1;32m    157\u001b[0m     (\n\u001b[1;32m    158\u001b[0m         cv_training_data,\n\u001b[1;32m    159\u001b[0m         cv_test_points,\n\u001b[1;32m    160\u001b[0m         search_space,\n\u001b[0;32m--> 161\u001b[0m     ) \u001b[38;5;241m=\u001b[39m \u001b[43mmodel\u001b[49m\u001b[38;5;241;43m.\u001b[39;49m\u001b[43m_transform_inputs_for_cv\u001b[49m\u001b[43m(\u001b[49m\n\u001b[1;32m    162\u001b[0m \u001b[43m        \u001b[49m\u001b[43mcv_training_data\u001b[49m\u001b[38;5;241;43m=\u001b[39;49m\u001b[43mcv_training_data\u001b[49m\u001b[43m,\u001b[49m\u001b[43m \u001b[49m\u001b[43mcv_test_points\u001b[49m\u001b[38;5;241;43m=\u001b[39;49m\u001b[43mcv_test_points\u001b[49m\n\u001b[1;32m    163\u001b[0m \u001b[43m    \u001b[49m\u001b[43m)\u001b[49m\n\u001b[1;32m    164\u001b[0m     \u001b[38;5;28;01mwith\u001b[39;00m warnings\u001b[38;5;241m.\u001b[39mcatch_warnings():\n\u001b[1;32m    165\u001b[0m         \u001b[38;5;66;03m# Since each CV fold removes points from the training data, the\u001b[39;00m\n\u001b[1;32m    166\u001b[0m         \u001b[38;5;66;03m# remaining observations will not pass the standardization test.\u001b[39;00m\n\u001b[1;32m    167\u001b[0m         \u001b[38;5;66;03m# To avoid confusing users with this warning, we filter it out.\u001b[39;00m\n\u001b[1;32m    168\u001b[0m         warnings\u001b[38;5;241m.\u001b[39mfilterwarnings(\n\u001b[1;32m    169\u001b[0m             \u001b[38;5;124m\"\u001b[39m\u001b[38;5;124mignore\u001b[39m\u001b[38;5;124m\"\u001b[39m,\n\u001b[1;32m    170\u001b[0m             message\u001b[38;5;241m=\u001b[39m\u001b[38;5;124mr\u001b[39m\u001b[38;5;124m\"\u001b[39m\u001b[38;5;124mData \u001b[39m\u001b[38;5;124m\\\u001b[39m\u001b[38;5;124m(outcome observations\u001b[39m\u001b[38;5;124m\\\u001b[39m\u001b[38;5;124m) is not standardized\u001b[39m\u001b[38;5;124m\"\u001b[39m,\n\u001b[1;32m    171\u001b[0m             category\u001b[38;5;241m=\u001b[39mInputDataWarning,\n\u001b[1;32m    172\u001b[0m         )\n",
      "File \u001b[0;32m~/Python/.venv/lib/python3.12/site-packages/ax/modelbridge/base.py:1043\u001b[0m, in \u001b[0;36mModelBridge._transform_inputs_for_cv\u001b[0;34m(self, cv_training_data, cv_test_points)\u001b[0m\n\u001b[1;32m   1031\u001b[0m \u001b[38;5;250m\u001b[39m\u001b[38;5;124;03m\"\"\"Apply transforms to cv_training_data and cv_test_points,\u001b[39;00m\n\u001b[1;32m   1032\u001b[0m \u001b[38;5;124;03mand return cv_training_data, cv_test_points, and search space in\u001b[39;00m\n\u001b[1;32m   1033\u001b[0m \u001b[38;5;124;03mtransformed space. This is to prepare data to be used in _cross_validate.\u001b[39;00m\n\u001b[0;32m   (...)\u001b[0m\n\u001b[1;32m   1040\u001b[0m \u001b[38;5;124;03m    cv_training_data, cv_test_points, and search space\u001b[39;00m\n\u001b[1;32m   1041\u001b[0m \u001b[38;5;124;03m    in transformed space.\"\"\"\u001b[39;00m\n\u001b[1;32m   1042\u001b[0m cv_test_points \u001b[38;5;241m=\u001b[39m deepcopy(cv_test_points)\n\u001b[0;32m-> 1043\u001b[0m cv_training_data \u001b[38;5;241m=\u001b[39m \u001b[43mdeepcopy\u001b[49m\u001b[43m(\u001b[49m\u001b[43mcv_training_data\u001b[49m\u001b[43m)\u001b[49m\n\u001b[1;32m   1044\u001b[0m search_space \u001b[38;5;241m=\u001b[39m \u001b[38;5;28mself\u001b[39m\u001b[38;5;241m.\u001b[39m_model_space\u001b[38;5;241m.\u001b[39mclone()\n\u001b[1;32m   1045\u001b[0m \u001b[38;5;28;01mfor\u001b[39;00m t \u001b[38;5;129;01min\u001b[39;00m \u001b[38;5;28mself\u001b[39m\u001b[38;5;241m.\u001b[39mtransforms\u001b[38;5;241m.\u001b[39mvalues():\n",
      "File \u001b[0;32m/usr/lib/python3.12/copy.py:136\u001b[0m, in \u001b[0;36mdeepcopy\u001b[0;34m(x, memo, _nil)\u001b[0m\n\u001b[1;32m    134\u001b[0m copier \u001b[38;5;241m=\u001b[39m _deepcopy_dispatch\u001b[38;5;241m.\u001b[39mget(\u001b[38;5;28mcls\u001b[39m)\n\u001b[1;32m    135\u001b[0m \u001b[38;5;28;01mif\u001b[39;00m copier \u001b[38;5;129;01mis\u001b[39;00m \u001b[38;5;129;01mnot\u001b[39;00m \u001b[38;5;28;01mNone\u001b[39;00m:\n\u001b[0;32m--> 136\u001b[0m     y \u001b[38;5;241m=\u001b[39m \u001b[43mcopier\u001b[49m\u001b[43m(\u001b[49m\u001b[43mx\u001b[49m\u001b[43m,\u001b[49m\u001b[43m \u001b[49m\u001b[43mmemo\u001b[49m\u001b[43m)\u001b[49m\n\u001b[1;32m    137\u001b[0m \u001b[38;5;28;01melse\u001b[39;00m:\n\u001b[1;32m    138\u001b[0m     \u001b[38;5;28;01mif\u001b[39;00m \u001b[38;5;28missubclass\u001b[39m(\u001b[38;5;28mcls\u001b[39m, \u001b[38;5;28mtype\u001b[39m):\n",
      "File \u001b[0;32m/usr/lib/python3.12/copy.py:196\u001b[0m, in \u001b[0;36m_deepcopy_list\u001b[0;34m(x, memo, deepcopy)\u001b[0m\n\u001b[1;32m    194\u001b[0m append \u001b[38;5;241m=\u001b[39m y\u001b[38;5;241m.\u001b[39mappend\n\u001b[1;32m    195\u001b[0m \u001b[38;5;28;01mfor\u001b[39;00m a \u001b[38;5;129;01min\u001b[39;00m x:\n\u001b[0;32m--> 196\u001b[0m     append(\u001b[43mdeepcopy\u001b[49m\u001b[43m(\u001b[49m\u001b[43ma\u001b[49m\u001b[43m,\u001b[49m\u001b[43m \u001b[49m\u001b[43mmemo\u001b[49m\u001b[43m)\u001b[49m)\n\u001b[1;32m    197\u001b[0m \u001b[38;5;28;01mreturn\u001b[39;00m y\n",
      "File \u001b[0;32m/usr/lib/python3.12/copy.py:162\u001b[0m, in \u001b[0;36mdeepcopy\u001b[0;34m(x, memo, _nil)\u001b[0m\n\u001b[1;32m    160\u001b[0m                 y \u001b[38;5;241m=\u001b[39m x\n\u001b[1;32m    161\u001b[0m             \u001b[38;5;28;01melse\u001b[39;00m:\n\u001b[0;32m--> 162\u001b[0m                 y \u001b[38;5;241m=\u001b[39m \u001b[43m_reconstruct\u001b[49m\u001b[43m(\u001b[49m\u001b[43mx\u001b[49m\u001b[43m,\u001b[49m\u001b[43m \u001b[49m\u001b[43mmemo\u001b[49m\u001b[43m,\u001b[49m\u001b[43m \u001b[49m\u001b[38;5;241;43m*\u001b[39;49m\u001b[43mrv\u001b[49m\u001b[43m)\u001b[49m\n\u001b[1;32m    164\u001b[0m \u001b[38;5;66;03m# If is its own copy, don't memoize.\u001b[39;00m\n\u001b[1;32m    165\u001b[0m \u001b[38;5;28;01mif\u001b[39;00m y \u001b[38;5;129;01mis\u001b[39;00m \u001b[38;5;129;01mnot\u001b[39;00m x:\n",
      "File \u001b[0;32m/usr/lib/python3.12/copy.py:259\u001b[0m, in \u001b[0;36m_reconstruct\u001b[0;34m(x, memo, func, args, state, listiter, dictiter, deepcopy)\u001b[0m\n\u001b[1;32m    257\u001b[0m \u001b[38;5;28;01mif\u001b[39;00m state \u001b[38;5;129;01mis\u001b[39;00m \u001b[38;5;129;01mnot\u001b[39;00m \u001b[38;5;28;01mNone\u001b[39;00m:\n\u001b[1;32m    258\u001b[0m     \u001b[38;5;28;01mif\u001b[39;00m deep:\n\u001b[0;32m--> 259\u001b[0m         state \u001b[38;5;241m=\u001b[39m \u001b[43mdeepcopy\u001b[49m\u001b[43m(\u001b[49m\u001b[43mstate\u001b[49m\u001b[43m,\u001b[49m\u001b[43m \u001b[49m\u001b[43mmemo\u001b[49m\u001b[43m)\u001b[49m\n\u001b[1;32m    260\u001b[0m     \u001b[38;5;28;01mif\u001b[39;00m \u001b[38;5;28mhasattr\u001b[39m(y, \u001b[38;5;124m'\u001b[39m\u001b[38;5;124m__setstate__\u001b[39m\u001b[38;5;124m'\u001b[39m):\n\u001b[1;32m    261\u001b[0m         y\u001b[38;5;241m.\u001b[39m__setstate__(state)\n",
      "File \u001b[0;32m/usr/lib/python3.12/copy.py:136\u001b[0m, in \u001b[0;36mdeepcopy\u001b[0;34m(x, memo, _nil)\u001b[0m\n\u001b[1;32m    134\u001b[0m copier \u001b[38;5;241m=\u001b[39m _deepcopy_dispatch\u001b[38;5;241m.\u001b[39mget(\u001b[38;5;28mcls\u001b[39m)\n\u001b[1;32m    135\u001b[0m \u001b[38;5;28;01mif\u001b[39;00m copier \u001b[38;5;129;01mis\u001b[39;00m \u001b[38;5;129;01mnot\u001b[39;00m \u001b[38;5;28;01mNone\u001b[39;00m:\n\u001b[0;32m--> 136\u001b[0m     y \u001b[38;5;241m=\u001b[39m \u001b[43mcopier\u001b[49m\u001b[43m(\u001b[49m\u001b[43mx\u001b[49m\u001b[43m,\u001b[49m\u001b[43m \u001b[49m\u001b[43mmemo\u001b[49m\u001b[43m)\u001b[49m\n\u001b[1;32m    137\u001b[0m \u001b[38;5;28;01melse\u001b[39;00m:\n\u001b[1;32m    138\u001b[0m     \u001b[38;5;28;01mif\u001b[39;00m \u001b[38;5;28missubclass\u001b[39m(\u001b[38;5;28mcls\u001b[39m, \u001b[38;5;28mtype\u001b[39m):\n",
      "File \u001b[0;32m/usr/lib/python3.12/copy.py:221\u001b[0m, in \u001b[0;36m_deepcopy_dict\u001b[0;34m(x, memo, deepcopy)\u001b[0m\n\u001b[1;32m    219\u001b[0m memo[\u001b[38;5;28mid\u001b[39m(x)] \u001b[38;5;241m=\u001b[39m y\n\u001b[1;32m    220\u001b[0m \u001b[38;5;28;01mfor\u001b[39;00m key, value \u001b[38;5;129;01min\u001b[39;00m x\u001b[38;5;241m.\u001b[39mitems():\n\u001b[0;32m--> 221\u001b[0m     y[deepcopy(key, memo)] \u001b[38;5;241m=\u001b[39m \u001b[43mdeepcopy\u001b[49m\u001b[43m(\u001b[49m\u001b[43mvalue\u001b[49m\u001b[43m,\u001b[49m\u001b[43m \u001b[49m\u001b[43mmemo\u001b[49m\u001b[43m)\u001b[49m\n\u001b[1;32m    222\u001b[0m \u001b[38;5;28;01mreturn\u001b[39;00m y\n",
      "File \u001b[0;32m/usr/lib/python3.12/copy.py:162\u001b[0m, in \u001b[0;36mdeepcopy\u001b[0;34m(x, memo, _nil)\u001b[0m\n\u001b[1;32m    160\u001b[0m                 y \u001b[38;5;241m=\u001b[39m x\n\u001b[1;32m    161\u001b[0m             \u001b[38;5;28;01melse\u001b[39;00m:\n\u001b[0;32m--> 162\u001b[0m                 y \u001b[38;5;241m=\u001b[39m \u001b[43m_reconstruct\u001b[49m\u001b[43m(\u001b[49m\u001b[43mx\u001b[49m\u001b[43m,\u001b[49m\u001b[43m \u001b[49m\u001b[43mmemo\u001b[49m\u001b[43m,\u001b[49m\u001b[43m \u001b[49m\u001b[38;5;241;43m*\u001b[39;49m\u001b[43mrv\u001b[49m\u001b[43m)\u001b[49m\n\u001b[1;32m    164\u001b[0m \u001b[38;5;66;03m# If is its own copy, don't memoize.\u001b[39;00m\n\u001b[1;32m    165\u001b[0m \u001b[38;5;28;01mif\u001b[39;00m y \u001b[38;5;129;01mis\u001b[39;00m \u001b[38;5;129;01mnot\u001b[39;00m x:\n",
      "File \u001b[0;32m/usr/lib/python3.12/copy.py:259\u001b[0m, in \u001b[0;36m_reconstruct\u001b[0;34m(x, memo, func, args, state, listiter, dictiter, deepcopy)\u001b[0m\n\u001b[1;32m    257\u001b[0m \u001b[38;5;28;01mif\u001b[39;00m state \u001b[38;5;129;01mis\u001b[39;00m \u001b[38;5;129;01mnot\u001b[39;00m \u001b[38;5;28;01mNone\u001b[39;00m:\n\u001b[1;32m    258\u001b[0m     \u001b[38;5;28;01mif\u001b[39;00m deep:\n\u001b[0;32m--> 259\u001b[0m         state \u001b[38;5;241m=\u001b[39m \u001b[43mdeepcopy\u001b[49m\u001b[43m(\u001b[49m\u001b[43mstate\u001b[49m\u001b[43m,\u001b[49m\u001b[43m \u001b[49m\u001b[43mmemo\u001b[49m\u001b[43m)\u001b[49m\n\u001b[1;32m    260\u001b[0m     \u001b[38;5;28;01mif\u001b[39;00m \u001b[38;5;28mhasattr\u001b[39m(y, \u001b[38;5;124m'\u001b[39m\u001b[38;5;124m__setstate__\u001b[39m\u001b[38;5;124m'\u001b[39m):\n\u001b[1;32m    261\u001b[0m         y\u001b[38;5;241m.\u001b[39m__setstate__(state)\n",
      "File \u001b[0;32m/usr/lib/python3.12/copy.py:136\u001b[0m, in \u001b[0;36mdeepcopy\u001b[0;34m(x, memo, _nil)\u001b[0m\n\u001b[1;32m    134\u001b[0m copier \u001b[38;5;241m=\u001b[39m _deepcopy_dispatch\u001b[38;5;241m.\u001b[39mget(\u001b[38;5;28mcls\u001b[39m)\n\u001b[1;32m    135\u001b[0m \u001b[38;5;28;01mif\u001b[39;00m copier \u001b[38;5;129;01mis\u001b[39;00m \u001b[38;5;129;01mnot\u001b[39;00m \u001b[38;5;28;01mNone\u001b[39;00m:\n\u001b[0;32m--> 136\u001b[0m     y \u001b[38;5;241m=\u001b[39m \u001b[43mcopier\u001b[49m\u001b[43m(\u001b[49m\u001b[43mx\u001b[49m\u001b[43m,\u001b[49m\u001b[43m \u001b[49m\u001b[43mmemo\u001b[49m\u001b[43m)\u001b[49m\n\u001b[1;32m    137\u001b[0m \u001b[38;5;28;01melse\u001b[39;00m:\n\u001b[1;32m    138\u001b[0m     \u001b[38;5;28;01mif\u001b[39;00m \u001b[38;5;28missubclass\u001b[39m(\u001b[38;5;28mcls\u001b[39m, \u001b[38;5;28mtype\u001b[39m):\n",
      "File \u001b[0;32m/usr/lib/python3.12/copy.py:221\u001b[0m, in \u001b[0;36m_deepcopy_dict\u001b[0;34m(x, memo, deepcopy)\u001b[0m\n\u001b[1;32m    219\u001b[0m memo[\u001b[38;5;28mid\u001b[39m(x)] \u001b[38;5;241m=\u001b[39m y\n\u001b[1;32m    220\u001b[0m \u001b[38;5;28;01mfor\u001b[39;00m key, value \u001b[38;5;129;01min\u001b[39;00m x\u001b[38;5;241m.\u001b[39mitems():\n\u001b[0;32m--> 221\u001b[0m     y[deepcopy(key, memo)] \u001b[38;5;241m=\u001b[39m \u001b[43mdeepcopy\u001b[49m\u001b[43m(\u001b[49m\u001b[43mvalue\u001b[49m\u001b[43m,\u001b[49m\u001b[43m \u001b[49m\u001b[43mmemo\u001b[49m\u001b[43m)\u001b[49m\n\u001b[1;32m    222\u001b[0m \u001b[38;5;28;01mreturn\u001b[39;00m y\n",
      "File \u001b[0;32m/usr/lib/python3.12/copy.py:136\u001b[0m, in \u001b[0;36mdeepcopy\u001b[0;34m(x, memo, _nil)\u001b[0m\n\u001b[1;32m    134\u001b[0m copier \u001b[38;5;241m=\u001b[39m _deepcopy_dispatch\u001b[38;5;241m.\u001b[39mget(\u001b[38;5;28mcls\u001b[39m)\n\u001b[1;32m    135\u001b[0m \u001b[38;5;28;01mif\u001b[39;00m copier \u001b[38;5;129;01mis\u001b[39;00m \u001b[38;5;129;01mnot\u001b[39;00m \u001b[38;5;28;01mNone\u001b[39;00m:\n\u001b[0;32m--> 136\u001b[0m     y \u001b[38;5;241m=\u001b[39m \u001b[43mcopier\u001b[49m\u001b[43m(\u001b[49m\u001b[43mx\u001b[49m\u001b[43m,\u001b[49m\u001b[43m \u001b[49m\u001b[43mmemo\u001b[49m\u001b[43m)\u001b[49m\n\u001b[1;32m    137\u001b[0m \u001b[38;5;28;01melse\u001b[39;00m:\n\u001b[1;32m    138\u001b[0m     \u001b[38;5;28;01mif\u001b[39;00m \u001b[38;5;28missubclass\u001b[39m(\u001b[38;5;28mcls\u001b[39m, \u001b[38;5;28mtype\u001b[39m):\n",
      "File \u001b[0;32m/usr/lib/python3.12/copy.py:221\u001b[0m, in \u001b[0;36m_deepcopy_dict\u001b[0;34m(x, memo, deepcopy)\u001b[0m\n\u001b[1;32m    219\u001b[0m memo[\u001b[38;5;28mid\u001b[39m(x)] \u001b[38;5;241m=\u001b[39m y\n\u001b[1;32m    220\u001b[0m \u001b[38;5;28;01mfor\u001b[39;00m key, value \u001b[38;5;129;01min\u001b[39;00m x\u001b[38;5;241m.\u001b[39mitems():\n\u001b[0;32m--> 221\u001b[0m     y[\u001b[43mdeepcopy\u001b[49m\u001b[43m(\u001b[49m\u001b[43mkey\u001b[49m\u001b[43m,\u001b[49m\u001b[43m \u001b[49m\u001b[43mmemo\u001b[49m\u001b[43m)\u001b[49m] \u001b[38;5;241m=\u001b[39m deepcopy(value, memo)\n\u001b[1;32m    222\u001b[0m \u001b[38;5;28;01mreturn\u001b[39;00m y\n",
      "File \u001b[0;32m/usr/lib/python3.12/copy.py:128\u001b[0m, in \u001b[0;36mdeepcopy\u001b[0;34m(x, memo, _nil)\u001b[0m\n\u001b[1;32m    125\u001b[0m     memo \u001b[38;5;241m=\u001b[39m {}\n\u001b[1;32m    127\u001b[0m d \u001b[38;5;241m=\u001b[39m \u001b[38;5;28mid\u001b[39m(x)\n\u001b[0;32m--> 128\u001b[0m y \u001b[38;5;241m=\u001b[39m \u001b[43mmemo\u001b[49m\u001b[38;5;241;43m.\u001b[39;49m\u001b[43mget\u001b[49m\u001b[43m(\u001b[49m\u001b[43md\u001b[49m\u001b[43m,\u001b[49m\u001b[43m \u001b[49m\u001b[43m_nil\u001b[49m\u001b[43m)\u001b[49m\n\u001b[1;32m    129\u001b[0m \u001b[38;5;28;01mif\u001b[39;00m y \u001b[38;5;129;01mis\u001b[39;00m \u001b[38;5;129;01mnot\u001b[39;00m _nil:\n\u001b[1;32m    130\u001b[0m     \u001b[38;5;28;01mreturn\u001b[39;00m y\n",
      "\u001b[0;31mKeyboardInterrupt\u001b[0m: "
     ]
    }
   ],
   "source": [
    "for i in range(800):\n",
    "    parameterization, trial_index = Tag_client.get_next_trial()\n",
    "    # Local evaluation here can be replaced with deployment to external system.\n",
    "    Tag_client.complete_trial(trial_index=trial_index, raw_data=score_vals(param_to_list(parameterization)))"
   ]
  }
 ],
 "metadata": {
  "kernelspec": {
   "display_name": ".venv",
   "language": "python",
   "name": "python3"
  },
  "language_info": {
   "codemirror_mode": {
    "name": "ipython",
    "version": 3
   },
   "file_extension": ".py",
   "mimetype": "text/x-python",
   "name": "python",
   "nbconvert_exporter": "python",
   "pygments_lexer": "ipython3",
   "version": "3.12.3"
  }
 },
 "nbformat": 4,
 "nbformat_minor": 2
}
