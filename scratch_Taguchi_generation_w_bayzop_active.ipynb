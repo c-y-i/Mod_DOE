{
 "cells": [
  {
   "cell_type": "markdown",
   "metadata": {},
   "source": [
    "## Setup"
   ]
  },
  {
   "cell_type": "code",
   "execution_count": 1,
   "metadata": {},
   "outputs": [],
   "source": [
    "import numpy as np\n",
    "import matplotlib.pyplot as plt\n",
    "from matplotlib.patches import Polygon\n",
    "from matplotlib.transforms import Affine2D\n",
    "import time\n",
    "from matplotlib.offsetbox import AnchoredText \n",
    "import mplcursors \n",
    "import os\n",
    "import json\n",
    "\n",
    "import itertools\n",
    "import math\n",
    "\n",
    "from tqdm import tqdm\n",
    "\n",
    "import pyDOE\n",
    "import sys\n",
    "\n",
    "from ax.service.ax_client import AxClient, ObjectiveProperties\n",
    "from ax.utils.measurement.synthetic_functions import hartmann6\n",
    "from ax.utils.notebook.plotting import init_notebook_plotting, render\n",
    "import plotly.io as pio\n",
    "\n",
    "import pickle\n",
    "from matplotlib.pyplot import cm\n",
    "import scienceplots\n",
    "\n",
    "from utils import score_vals, param_to_list\n",
    "\n",
    "# Mute warnings:\n",
    "import warnings\n",
    "warnings.filterwarnings('ignore')"
   ]
  },
  {
   "cell_type": "code",
   "execution_count": 2,
   "metadata": {},
   "outputs": [],
   "source": [
    "from ax.plot.trace import optimization_trace_single_method"
   ]
  },
  {
   "cell_type": "code",
   "execution_count": 3,
   "metadata": {},
   "outputs": [],
   "source": [
    "config = {\n",
    "  \"MODULE\": 0.8e-3,\n",
    "  \"MC\": 0.8467e-3,\n",
    "  \"MU\": 0.21,\n",
    "  \"ALPHA\": 20,\n",
    "  \"XS\": 0.476,\n",
    "  \"XP1\": 0.762,\n",
    "  \"XP2\": 0.536,\n",
    "  \"XR1\": 2,\n",
    "  \"XR2\": 1.21,\n",
    "  \"XS_RANGE\": [-0.5, 0.5, 0.25],\n",
    "  \"XP1_RANGE\": [-1, 1, 0.25],\n",
    "  \"XP2_RANGE\": [-0.5, 0.5, 0.25],\n",
    "  \"XR2_RANGE\": [-1.5, 1.5, 0.25],\n",
    "  \"N_PLANETS\": 3,\n",
    "  \"SUN_LIMITS\": [4, 26],\n",
    "  \"P1_LIMITS\": [32, 42],\n",
    "  \"P2_LIMITS\": [25, 35],\n",
    "  \"R2_LIMITS\": [70,86],\n",
    "  \"STEPS\": [2, 1, 1, 1],\n",
    "  \"MIN_RATIO_THRESHOLD\": 90,\n",
    "  \"MIN_FORWARD_THRESHOLD\": 0.30,\n",
    "  \"MIN_BACKWARD_THRESHOLD\": 0.30\n",
    "}\n"
   ]
  },
  {
   "cell_type": "code",
   "execution_count": 4,
   "metadata": {},
   "outputs": [],
   "source": [
    "MODULE = config[\"MODULE\"]\n",
    "MU = config[\"MU\"]\n",
    "MC = config.get(\"MC\", MODULE)\n",
    "ALPHA = np.radians(config.get(\"ALPHA\", 20))\n",
    "XR1 = config.get(\"XR1\", 0.0)\n",
    "N_PLANETS = config[\"N_PLANETS\"]\n",
    "TARGET_GEAR_RATIO = 100\n",
    "RATIO_TOLERANCE = 10"
   ]
  },
  {
   "cell_type": "markdown",
   "metadata": {},
   "source": [
    "## Start up client"
   ]
  },
  {
   "cell_type": "code",
   "execution_count": 5,
   "metadata": {},
   "outputs": [
    {
     "name": "stderr",
     "output_type": "stream",
     "text": [
      "[INFO 04-05 13:44:57] ax.service.ax_client: Starting optimization with verbose logging. To disable logging, set the `verbose_logging` argument to `False`. Note that float values in the logs are rounded to 6 decimal points.\n"
     ]
    }
   ],
   "source": [
    "Tag_client = AxClient()"
   ]
  },
  {
   "cell_type": "code",
   "execution_count": 6,
   "metadata": {},
   "outputs": [
    {
     "name": "stderr",
     "output_type": "stream",
     "text": [
      "[INFO 04-05 13:44:57] ax.service.utils.instantiation: Created search space: SearchSpace(parameters=[RangeParameter(name='z_sh', parameter_type=INT, range=[7, 15]), RangeParameter(name='z_sh_1', parameter_type=INT, range=[6, 14]), RangeParameter(name='z_sh_2', parameter_type=INT, range=[5, 13]), RangeParameter(name='z_p2', parameter_type=INT, range=[27, 35]), RangeParameter(name='z_p2_1', parameter_type=INT, range=[26, 34]), RangeParameter(name='z_p2_2', parameter_type=INT, range=[25, 33]), RangeParameter(name='z_r2', parameter_type=INT, range=[72, 86]), RangeParameter(name='z_r2_1', parameter_type=INT, range=[71, 85]), RangeParameter(name='z_r2_2', parameter_type=INT, range=[70, 84]), RangeParameter(name='x_s', parameter_type=FLOAT, range=[-0.48, 0.5]), RangeParameter(name='x_s_1', parameter_type=FLOAT, range=[-0.49, 0.49]), RangeParameter(name='x_s_2', parameter_type=FLOAT, range=[-0.5, 0.48]), RangeParameter(name='x_p1', parameter_type=FLOAT, range=[-0.98, 1.0]), RangeParameter(name='x_p1_1', parameter_type=FLOAT, range=[-0.99, 0.99]), RangeParameter(name='x_p1_2', parameter_type=FLOAT, range=[-1.0, 0.98]), RangeParameter(name='x_p2', parameter_type=FLOAT, range=[-0.48, 0.5]), RangeParameter(name='x_p2_1', parameter_type=FLOAT, range=[-0.49, 0.49]), RangeParameter(name='x_p2_2', parameter_type=FLOAT, range=[-0.5, 0.48]), RangeParameter(name='x_r2', parameter_type=FLOAT, range=[-1.48, 1.5]), RangeParameter(name='x_r2_1', parameter_type=FLOAT, range=[-1.49, 1.49]), RangeParameter(name='x_r2_2', parameter_type=FLOAT, range=[-1.5, 1.48])], parameter_constraints=[ParameterConstraint(-1.0*x_s + 1.0*x_s_1 <= -0.1), ParameterConstraint(-1.0*x_s_1 + 1.0*x_s_2 <= -0.1), ParameterConstraint(-1.0*x_p1 + 1.0*x_p1_1 <= -0.1), ParameterConstraint(-1.0*x_p1_1 + 1.0*x_p1_2 <= -0.1), ParameterConstraint(-1.0*x_p2 + 1.0*x_p2_1 <= -0.1), ParameterConstraint(-1.0*x_p2_1 + 1.0*x_p2_2 <= -0.1), ParameterConstraint(-1.0*x_r2 + 1.0*x_r2_1 <= -0.1), ParameterConstraint(-1.0*x_r2_1 + 1.0*x_r2_2 <= -0.1)]).\n",
      "[INFO 04-05 13:44:57] ax.modelbridge.dispatch_utils: Using Models.BOTORCH_MODULAR since there is at least one ordered parameter and there are no unordered categorical parameters.\n",
      "[INFO 04-05 13:44:57] ax.modelbridge.dispatch_utils: Calculating the number of remaining initialization trials based on num_initialization_trials=None max_initialization_trials=None num_tunable_parameters=21 num_trials=None use_batch_trials=False\n",
      "[INFO 04-05 13:44:57] ax.modelbridge.dispatch_utils: calculated num_initialization_trials=42\n",
      "[INFO 04-05 13:44:57] ax.modelbridge.dispatch_utils: num_completed_initialization_trials=0 num_remaining_initialization_trials=42\n",
      "[INFO 04-05 13:44:57] ax.modelbridge.dispatch_utils: `verbose`, `disable_progbar`, and `jit_compile` are not yet supported when using `choose_generation_strategy` with ModularBoTorchModel, dropping these arguments.\n",
      "[INFO 04-05 13:44:57] ax.modelbridge.dispatch_utils: Using Bayesian Optimization generation strategy: GenerationStrategy(name='Sobol+BoTorch', steps=[Sobol for 42 trials, BoTorch for subsequent trials]). Iterations after 42 will take longer to generate due to model-fitting.\n"
     ]
    }
   ],
   "source": [
    "# Define bounds for each parameter type\n",
    "int_bounds = {\n",
    "    \"z_sh\": [5, 15], #NOTE - z_sh is actually half z_s (which must be even)\n",
    "    \"z_p2\": [25, 35],\n",
    "    \"z_r2\": [70, 86],\n",
    "}\n",
    "\n",
    "float_bounds = {\n",
    "    \"x_s\": [-0.5, 0.5],\n",
    "    \"x_p1\": [-1.0, 1.0],\n",
    "    \"x_p2\": [-0.5, 0.5],\n",
    "    \"x_r2\": [-1.5, 1.5],\n",
    "}\n",
    "\n",
    "# Number of copies for each parameter\n",
    "num_copies = 3\n",
    "\n",
    "# Generate parameters dynamically\n",
    "parameters = []\n",
    "\n",
    "# Add integer parameters\n",
    "for name, bounds in int_bounds.items():\n",
    "    lower, upper = bounds\n",
    "    for i in range(num_copies):\n",
    "        param_name = f\"{name}\" if i == 0 else f\"{name}_{i}\"\n",
    "        parameters.append({\n",
    "            \"name\": param_name,\n",
    "            \"type\": \"range\",\n",
    "            \"bounds\": [lower + (num_copies-1-i), upper - i],  # adjust bounds to deal with order\n",
    "            \"value_type\": \"int\",\n",
    "        })\n",
    "\n",
    "# Add float parameters\n",
    "for name, bounds in float_bounds.items():\n",
    "    lower, upper = bounds\n",
    "    for i in range(num_copies):\n",
    "        param_name = f\"{name}\" if i == 0 else f\"{name}_{i}\"\n",
    "        parameters.append({\n",
    "            \"name\": param_name,\n",
    "            \"type\": \"range\",\n",
    "            \"bounds\": [lower + (.01*(num_copies-1-i)), upper - .01*i],  # adjust bounds to deal with order\n",
    "            \"value_type\": \"float\",\n",
    "        })\n",
    "\n",
    "# Generate parameter constraints\n",
    "parameter_constraints = []\n",
    "\n",
    "# Ensure integer `z` values satisfy z_s - z_s_1 >= 1\n",
    "for name in int_bounds.keys():\n",
    "    for i in range(num_copies-1):\n",
    "        j = i+1\n",
    "        param_i = f\"{name}\" if i == 0 else f\"{name}_{i}\"\n",
    "        param_j = f\"{name}_{j}\"\n",
    "        # parameter_constraints.append(f\"{param_i} - {param_j} >= 1\")\n",
    "\n",
    "# Ensure float `x` values satisfy x_s - x_s_1 >= 0.1\n",
    "for name in float_bounds.keys():\n",
    "    for i in range(num_copies-1):\n",
    "        j = i+1\n",
    "        param_i = f\"{name}\" if i == 0 else f\"{name}_{i}\"\n",
    "        param_j = f\"{name}_{j}\"\n",
    "        parameter_constraints.append(f\"{param_i} - {param_j} >= 0.1\")\n",
    "\n",
    "# Create the experiment\n",
    "Tag_client.create_experiment(\n",
    "    name=\"gear_experiment\",\n",
    "    parameters=parameters,\n",
    "    objectives={\"Viable_Cross_Terms\": ObjectiveProperties(minimize=False)},\n",
    "    parameter_constraints=parameter_constraints,  # Add constraints here\n",
    "    # outcome_constraints=[\"l2norm <= 1.25\"],  # Optional.\n",
    ")\n",
    "\n",
    "# Print constraints for verification\n",
    "# print(\"Parameter Constraints:\")\n",
    "# for constraint in parameter_constraints:\n",
    "#     print(constraint)"
   ]
  },
  {
   "cell_type": "code",
   "execution_count": 7,
   "metadata": {},
   "outputs": [],
   "source": [
    "# -1.0*z_p2 + 1.0*z_p2_1 <= -1.0\n",
    "# -1.0*x_p2_1 + 1.0*x_p2 <= -0.01"
   ]
  },
  {
   "cell_type": "code",
   "execution_count": 8,
   "metadata": {},
   "outputs": [
    {
     "data": {
      "text/plain": [
       "[{'name': 'z_sh', 'type': 'range', 'bounds': [7, 15], 'value_type': 'int'},\n",
       " {'name': 'z_sh_1', 'type': 'range', 'bounds': [6, 14], 'value_type': 'int'},\n",
       " {'name': 'z_sh_2', 'type': 'range', 'bounds': [5, 13], 'value_type': 'int'},\n",
       " {'name': 'z_p2', 'type': 'range', 'bounds': [27, 35], 'value_type': 'int'},\n",
       " {'name': 'z_p2_1', 'type': 'range', 'bounds': [26, 34], 'value_type': 'int'},\n",
       " {'name': 'z_p2_2', 'type': 'range', 'bounds': [25, 33], 'value_type': 'int'},\n",
       " {'name': 'z_r2', 'type': 'range', 'bounds': [72, 86], 'value_type': 'int'},\n",
       " {'name': 'z_r2_1', 'type': 'range', 'bounds': [71, 85], 'value_type': 'int'},\n",
       " {'name': 'z_r2_2', 'type': 'range', 'bounds': [70, 84], 'value_type': 'int'},\n",
       " {'name': 'x_s',\n",
       "  'type': 'range',\n",
       "  'bounds': [-0.48, 0.5],\n",
       "  'value_type': 'float'},\n",
       " {'name': 'x_s_1',\n",
       "  'type': 'range',\n",
       "  'bounds': [-0.49, 0.49],\n",
       "  'value_type': 'float'},\n",
       " {'name': 'x_s_2',\n",
       "  'type': 'range',\n",
       "  'bounds': [-0.5, 0.48],\n",
       "  'value_type': 'float'},\n",
       " {'name': 'x_p1',\n",
       "  'type': 'range',\n",
       "  'bounds': [-0.98, 1.0],\n",
       "  'value_type': 'float'},\n",
       " {'name': 'x_p1_1',\n",
       "  'type': 'range',\n",
       "  'bounds': [-0.99, 0.99],\n",
       "  'value_type': 'float'},\n",
       " {'name': 'x_p1_2',\n",
       "  'type': 'range',\n",
       "  'bounds': [-1.0, 0.98],\n",
       "  'value_type': 'float'},\n",
       " {'name': 'x_p2',\n",
       "  'type': 'range',\n",
       "  'bounds': [-0.48, 0.5],\n",
       "  'value_type': 'float'},\n",
       " {'name': 'x_p2_1',\n",
       "  'type': 'range',\n",
       "  'bounds': [-0.49, 0.49],\n",
       "  'value_type': 'float'},\n",
       " {'name': 'x_p2_2',\n",
       "  'type': 'range',\n",
       "  'bounds': [-0.5, 0.48],\n",
       "  'value_type': 'float'},\n",
       " {'name': 'x_r2',\n",
       "  'type': 'range',\n",
       "  'bounds': [-1.48, 1.5],\n",
       "  'value_type': 'float'},\n",
       " {'name': 'x_r2_1',\n",
       "  'type': 'range',\n",
       "  'bounds': [-1.49, 1.49],\n",
       "  'value_type': 'float'},\n",
       " {'name': 'x_r2_2',\n",
       "  'type': 'range',\n",
       "  'bounds': [-1.5, 1.48],\n",
       "  'value_type': 'float'}]"
      ]
     },
     "execution_count": 8,
     "metadata": {},
     "output_type": "execute_result"
    }
   ],
   "source": [
    "parameters"
   ]
  },
  {
   "cell_type": "code",
   "execution_count": 9,
   "metadata": {},
   "outputs": [
    {
     "data": {
      "text/plain": [
       "['x_s - x_s_1 >= 0.1',\n",
       " 'x_s_1 - x_s_2 >= 0.1',\n",
       " 'x_p1 - x_p1_1 >= 0.1',\n",
       " 'x_p1_1 - x_p1_2 >= 0.1',\n",
       " 'x_p2 - x_p2_1 >= 0.1',\n",
       " 'x_p2_1 - x_p2_2 >= 0.1',\n",
       " 'x_r2 - x_r2_1 >= 0.1',\n",
       " 'x_r2_1 - x_r2_2 >= 0.1']"
      ]
     },
     "execution_count": 9,
     "metadata": {},
     "output_type": "execute_result"
    }
   ],
   "source": [
    "parameter_constraints"
   ]
  },
  {
   "cell_type": "markdown",
   "metadata": {},
   "source": [
    "### Run tests to solve for best possible score    "
   ]
  },
  {
   "cell_type": "code",
   "execution_count": 10,
   "metadata": {},
   "outputs": [
    {
     "name": "stderr",
     "output_type": "stream",
     "text": [
      "[INFO 04-05 13:44:57] ax.service.ax_client: Generated new trial 0 with parameters {'z_sh': 12, 'z_sh_1': 13, 'z_sh_2': 13, 'z_p2': 30, 'z_p2_1': 32, 'z_p2_2': 28, 'z_r2': 86, 'z_r2_1': 74, 'z_r2_2': 74, 'x_s': 0.40634, 'x_s_1': 0.202612, 'x_s_2': -0.039872, 'x_p1': 0.860567, 'x_p1_1': 0.05466, 'x_p1_2': -0.905615, 'x_p2': 0.445594, 'x_p2_1': 0.329129, 'x_p2_2': -0.405654, 'x_r2': 1.007899, 'x_r2_1': -0.622691, 'x_r2_2': -0.861944} using model Sobol.\n"
     ]
    }
   ],
   "source": [
    "parameterization, trial_index = Tag_client.get_next_trial()"
   ]
  },
  {
   "cell_type": "code",
   "execution_count": 11,
   "metadata": {},
   "outputs": [
    {
     "data": {
      "text/plain": [
       "{'z_sh': 12,\n",
       " 'z_sh_1': 13,\n",
       " 'z_sh_2': 13,\n",
       " 'z_p2': 30,\n",
       " 'z_p2_1': 32,\n",
       " 'z_p2_2': 28,\n",
       " 'z_r2': 86,\n",
       " 'z_r2_1': 74,\n",
       " 'z_r2_2': 74,\n",
       " 'x_s': 0.4063396413438022,\n",
       " 'x_s_1': 0.20261154625564815,\n",
       " 'x_s_2': -0.03987187692895533,\n",
       " 'x_p1': 0.8605672977305949,\n",
       " 'x_p1_1': 0.05465959087014194,\n",
       " 'x_p1_2': -0.9056153228506446,\n",
       " 'x_p2': 0.44559385370463134,\n",
       " 'x_p2_1': 0.3291290584392845,\n",
       " 'x_p2_2': -0.4056536689773202,\n",
       " 'x_r2': 1.0078993488475678,\n",
       " 'x_r2_1': -0.6226905630342662,\n",
       " 'x_r2_2': -0.8619438071921468}"
      ]
     },
     "execution_count": 11,
     "metadata": {},
     "output_type": "execute_result"
    }
   ],
   "source": [
    "parameterization"
   ]
  },
  {
   "cell_type": "code",
   "execution_count": 12,
   "metadata": {},
   "outputs": [
    {
     "name": "stdout",
     "output_type": "stream",
     "text": [
      "21\n",
      "z_sh: 12\n",
      "z_sh_1: 13\n",
      "z_sh_2: 13\n",
      "z_p2: 30\n",
      "z_p2_1: 32\n",
      "z_p2_2: 28\n",
      "z_r2: 86\n",
      "z_r2_1: 74\n",
      "z_r2_2: 74\n",
      "x_s: 0.4063396413438022\n",
      "x_s_1: 0.20261154625564815\n",
      "x_s_2: -0.03987187692895533\n",
      "x_p1: 0.8605672977305949\n",
      "x_p1_1: 0.05465959087014194\n",
      "x_p1_2: -0.9056153228506446\n",
      "x_p2: 0.44559385370463134\n",
      "x_p2_1: 0.3291290584392845\n",
      "x_p2_2: -0.4056536689773202\n",
      "x_r2: 1.0078993488475678\n",
      "x_r2_1: -0.6226905630342662\n",
      "x_r2_2: -0.8619438071921468\n"
     ]
    }
   ],
   "source": [
    "print(len(parameterization))\n",
    "for name, value in parameterization.items():\n",
    "    print(f\"{name}: {value}\")"
   ]
  },
  {
   "cell_type": "code",
   "execution_count": 13,
   "metadata": {},
   "outputs": [
    {
     "name": "stderr",
     "output_type": "stream",
     "text": [
      "[INFO 04-05 13:44:57] ax.service.ax_client: Completed trial 0 with data: {'Viable_Cross_Terms': (5, None)}.\n"
     ]
    }
   ],
   "source": [
    "Tag_client.complete_trial(trial_index=trial_index, raw_data=score_vals(param_to_list(parameterization)))"
   ]
  },
  {
   "cell_type": "markdown",
   "metadata": {},
   "source": [
    "NOTE - run the following through 'Exhausted' errors."
   ]
  },
  {
   "cell_type": "code",
   "execution_count": 14,
   "metadata": {},
   "outputs": [
    {
     "name": "stderr",
     "output_type": "stream",
     "text": [
      "[INFO 04-05 13:44:57] ax.service.ax_client: Generated new trial 1 with parameters {'z_sh': 9, 'z_sh_1': 12, 'z_sh_2': 6, 'z_p2': 28, 'z_p2_1': 30, 'z_p2_2': 32, 'z_r2': 80, 'z_r2_1': 85, 'z_r2_2': 74, 'x_s': 0.491751, 'x_s_1': 0.201916, 'x_s_2': 0.061762, 'x_p1': 0.280179, 'x_p1_1': -0.216793, 'x_p1_2': -0.674284, 'x_p2': 0.482764, 'x_p2_1': 0.303063, 'x_p2_2': -0.240026, 'x_r2': 1.027452, 'x_r2_1': -0.226139, 'x_r2_2': -0.731557} using model Sobol.\n",
      "[INFO 04-05 13:44:57] ax.service.ax_client: Completed trial 1 with data: {'Viable_Cross_Terms': (16, None)}.\n",
      "[INFO 04-05 13:44:58] ax.service.ax_client: Generated new trial 2 with parameters {'z_sh': 14, 'z_sh_1': 14, 'z_sh_2': 10, 'z_p2': 28, 'z_p2_1': 30, 'z_p2_2': 30, 'z_r2': 73, 'z_r2_1': 77, 'z_r2_2': 75, 'x_s': 0.496107, 'x_s_1': 0.012512, 'x_s_2': -0.492182, 'x_p1': 0.533445, 'x_p1_1': 0.067106, 'x_p1_2': -0.092637, 'x_p2': 0.318919, 'x_p2_1': -0.178784, 'x_p2_2': -0.4208, 'x_r2': 0.4999, 'x_r2_1': 0.174703, 'x_r2_2': -0.101379} using model Sobol.\n",
      "[INFO 04-05 13:44:58] ax.service.ax_client: Completed trial 2 with data: {'Viable_Cross_Terms': (12, None)}.\n",
      "[INFO 04-05 13:44:58] ax.service.ax_client: Generated new trial 3 with parameters {'z_sh': 14, 'z_sh_1': 9, 'z_sh_2': 7, 'z_p2': 31, 'z_p2_1': 30, 'z_p2_2': 27, 'z_r2': 72, 'z_r2_1': 80, 'z_r2_2': 70, 'x_s': 0.33284, 'x_s_1': -0.232911, 'x_s_2': -0.387237, 'x_p1': 0.271144, 'x_p1_1': -0.010371, 'x_p1_2': -0.35736, 'x_p2': 0.408685, 'x_p2_1': 0.247238, 'x_p2_2': -0.078927, 'x_r2': 1.035394, 'x_r2_1': -0.490845, 'x_r2_2': -1.496787} using model Sobol.\n",
      "[INFO 04-05 13:44:58] ax.service.ax_client: Completed trial 3 with data: {'Viable_Cross_Terms': (20, None)}.\n"
     ]
    },
    {
     "name": "stdout",
     "output_type": "stream",
     "text": [
      "Not this time\n"
     ]
    },
    {
     "name": "stderr",
     "output_type": "stream",
     "text": [
      "[INFO 04-05 13:44:58] ax.service.ax_client: Generated new trial 4 with parameters {'z_sh': 8, 'z_sh_1': 14, 'z_sh_2': 6, 'z_p2': 29, 'z_p2_1': 27, 'z_p2_2': 25, 'z_r2': 74, 'z_r2_1': 75, 'z_r2_2': 70, 'x_s': 0.388911, 'x_s_1': 0.176081, 'x_s_2': 0.056943, 'x_p1': 0.874702, 'x_p1_1': 0.114893, 'x_p1_2': -0.669673, 'x_p2': 0.148211, 'x_p2_1': 0.013402, 'x_p2_2': -0.09417, 'x_r2': 0.051563, 'x_r2_1': -0.066229, 'x_r2_2': -0.587413} using model Sobol.\n",
      "[INFO 04-05 13:44:58] ax.service.ax_client: Completed trial 4 with data: {'Viable_Cross_Terms': (7, None)}.\n"
     ]
    },
    {
     "name": "stdout",
     "output_type": "stream",
     "text": [
      "Not this time\n"
     ]
    },
    {
     "name": "stderr",
     "output_type": "stream",
     "text": [
      "[INFO 04-05 13:44:59] ax.service.ax_client: Generated new trial 5 with parameters {'z_sh': 7, 'z_sh_1': 12, 'z_sh_2': 7, 'z_p2': 33, 'z_p2_1': 30, 'z_p2_2': 25, 'z_r2': 72, 'z_r2_1': 85, 'z_r2_2': 83, 'x_s': 0.367652, 'x_s_1': -0.042555, 'x_s_2': -0.17255, 'x_p1': 0.785026, 'x_p1_1': 0.661065, 'x_p1_2': 0.05197, 'x_p2': 0.247682, 'x_p2_1': 0.080662, 'x_p2_2': -0.165178, 'x_r2': 0.341651, 'x_r2_1': 0.13408, 'x_r2_2': -0.271007} using model Sobol.\n",
      "[INFO 04-05 13:44:59] ax.service.ax_client: Completed trial 5 with data: {'Viable_Cross_Terms': (15, None)}.\n",
      "[INFO 04-05 13:44:59] ax.service.ax_client: Generated new trial 6 with parameters {'z_sh': 7, 'z_sh_1': 12, 'z_sh_2': 11, 'z_p2': 30, 'z_p2_1': 33, 'z_p2_2': 28, 'z_r2': 80, 'z_r2_1': 71, 'z_r2_2': 77, 'x_s': 0.448106, 'x_s_1': -0.091749, 'x_s_2': -0.354004, 'x_p1': 0.514511, 'x_p1_1': -0.268157, 'x_p1_2': -0.64201, 'x_p2': 0.415432, 'x_p2_1': -0.214854, 'x_p2_2': -0.431319, 'x_r2': -0.580071, 'x_r2_1': -0.950087, 'x_r2_2': -1.181672} using model Sobol.\n",
      "[INFO 04-05 13:44:59] ax.service.ax_client: Completed trial 6 with data: {'Viable_Cross_Terms': (5, None)}.\n",
      "[INFO 04-05 13:44:59] ax.service.ax_client: Generated new trial 7 with parameters {'z_sh': 12, 'z_sh_1': 6, 'z_sh_2': 8, 'z_p2': 35, 'z_p2_1': 32, 'z_p2_2': 33, 'z_r2': 83, 'z_r2_1': 74, 'z_r2_2': 75, 'x_s': 0.298876, 'x_s_1': -0.14389, 'x_s_2': -0.382414, 'x_p1': 0.85214, 'x_p1_1': 0.151129, 'x_p1_2': -0.352273, 'x_p2': 0.221513, 'x_p2_1': 0.046887, 'x_p2_2': -0.239381, 'x_r2': 0.160039, 'x_r2_1': -0.70971, 'x_r2_2': -1.358825} using model Sobol.\n",
      "[INFO 04-05 13:44:59] ax.service.ax_client: Completed trial 7 with data: {'Viable_Cross_Terms': (11, None)}.\n",
      "[INFO 04-05 13:44:59] ax.service.ax_client: Generated new trial 8 with parameters {'z_sh': 11, 'z_sh_1': 7, 'z_sh_2': 11, 'z_p2': 31, 'z_p2_1': 32, 'z_p2_2': 27, 'z_r2': 82, 'z_r2_1': 80, 'z_r2_2': 74, 'x_s': 0.042326, 'x_s_1': -0.226417, 'x_s_2': -0.468167, 'x_p1': 0.352667, 'x_p1_1': 0.021823, 'x_p1_2': -0.496864, 'x_p2': 0.095443, 'x_p2_1': -0.056417, 'x_p2_2': -0.237519, 'x_r2': 0.375028, 'x_r2_1': -1.225837, 'x_r2_2': -1.444941} using model Sobol.\n",
      "[INFO 04-05 13:44:59] ax.service.ax_client: Completed trial 8 with data: {'Viable_Cross_Terms': (6, None)}.\n",
      "[INFO 04-05 13:45:00] ax.service.ax_client: Generated new trial 9 with parameters {'z_sh': 13, 'z_sh_1': 9, 'z_sh_2': 9, 'z_p2': 30, 'z_p2_1': 30, 'z_p2_2': 25, 'z_r2': 85, 'z_r2_1': 76, 'z_r2_2': 71, 'x_s': 0.213517, 'x_s_1': 0.031673, 'x_s_2': -0.076067, 'x_p1': -0.319844, 'x_p1_1': -0.573911, 'x_p1_2': -0.965283, 'x_p2': 0.128872, 'x_p2_1': -0.025865, 'x_p2_2': -0.433866, 'x_r2': 0.907326, 'x_r2_1': 0.662571, 'x_r2_2': -1.392847} using model Sobol.\n",
      "[INFO 04-05 13:45:00] ax.service.ax_client: Completed trial 9 with data: {'Viable_Cross_Terms': (11, None)}.\n"
     ]
    },
    {
     "name": "stdout",
     "output_type": "stream",
     "text": [
      "Not this time\n"
     ]
    },
    {
     "name": "stderr",
     "output_type": "stream",
     "text": [
      "[INFO 04-05 13:45:00] ax.service.ax_client: Generated new trial 10 with parameters {'z_sh': 8, 'z_sh_1': 12, 'z_sh_2': 11, 'z_p2': 32, 'z_p2_1': 33, 'z_p2_2': 28, 'z_r2': 86, 'z_r2_1': 80, 'z_r2_2': 83, 'x_s': 0.418468, 'x_s_1': -0.126699, 'x_s_2': -0.324683, 'x_p1': 0.587614, 'x_p1_1': 0.244995, 'x_p1_2': -0.923892, 'x_p2': 0.067149, 'x_p2_1': -0.03722, 'x_p2_2': -0.183502, 'x_r2': 0.206412, 'x_r2_1': -0.769023, 'x_r2_2': -1.393676} using model Sobol.\n",
      "[INFO 04-05 13:45:00] ax.service.ax_client: Completed trial 10 with data: {'Viable_Cross_Terms': (11, None)}.\n",
      "[INFO 04-05 13:45:01] ax.service.ax_client: Generated new trial 11 with parameters {'z_sh': 12, 'z_sh_1': 11, 'z_sh_2': 11, 'z_p2': 35, 'z_p2_1': 29, 'z_p2_2': 29, 'z_r2': 83, 'z_r2_1': 77, 'z_r2_2': 83, 'x_s': 0.448113, 'x_s_1': -0.101854, 'x_s_2': -0.338968, 'x_p1': 0.650296, 'x_p1_1': 0.132843, 'x_p1_2': -0.018342, 'x_p2': 0.333792, 'x_p2_1': 0.098529, 'x_p2_2': -0.334411, 'x_r2': 1.234747, 'x_r2_1': -0.022983, 'x_r2_2': -0.70598} using model Sobol.\n",
      "[INFO 04-05 13:45:01] ax.service.ax_client: Completed trial 11 with data: {'Viable_Cross_Terms': (5, None)}.\n",
      "[INFO 04-05 13:45:01] ax.service.ax_client: Generated new trial 12 with parameters {'z_sh': 14, 'z_sh_1': 13, 'z_sh_2': 6, 'z_p2': 32, 'z_p2_1': 30, 'z_p2_2': 26, 'z_r2': 72, 'z_r2_1': 78, 'z_r2_2': 74, 'x_s': 0.047961, 'x_s_1': -0.094356, 'x_s_2': -0.414772, 'x_p1': 0.536043, 'x_p1_1': -0.47877, 'x_p1_2': -0.677587, 'x_p2': 0.461016, 'x_p2_1': 0.005817, 'x_p2_2': -0.34459, 'x_r2': 0.525173, 'x_r2_1': 0.014089, 'x_r2_2': -0.333767} using model Sobol.\n",
      "[INFO 04-05 13:45:01] ax.service.ax_client: Completed trial 12 with data: {'Viable_Cross_Terms': (8, None)}.\n"
     ]
    },
    {
     "name": "stdout",
     "output_type": "stream",
     "text": [
      "Not this time\n",
      "Not this time\n",
      "Not this time\n"
     ]
    },
    {
     "name": "stderr",
     "output_type": "stream",
     "text": [
      "[INFO 04-05 13:45:02] ax.service.ax_client: Generated new trial 13 with parameters {'z_sh': 9, 'z_sh_1': 12, 'z_sh_2': 7, 'z_p2': 32, 'z_p2_1': 33, 'z_p2_2': 25, 'z_r2': 76, 'z_r2_1': 80, 'z_r2_2': 80, 'x_s': 0.218977, 'x_s_1': -0.148968, 'x_s_2': -0.282155, 'x_p1': 0.560111, 'x_p1_1': -0.217772, 'x_p1_2': -0.784981, 'x_p2': 0.441039, 'x_p2_1': 0.273958, 'x_p2_2': -0.026227, 'x_r2': 1.029406, 'x_r2_1': -0.016937, 'x_r2_2': -1.338568} using model Sobol.\n",
      "[INFO 04-05 13:45:02] ax.service.ax_client: Completed trial 13 with data: {'Viable_Cross_Terms': (5, None)}.\n",
      "[INFO 04-05 13:45:02] ax.service.ax_client: Generated new trial 14 with parameters {'z_sh': 13, 'z_sh_1': 13, 'z_sh_2': 10, 'z_p2': 32, 'z_p2_1': 27, 'z_p2_2': 32, 'z_r2': 74, 'z_r2_1': 73, 'z_r2_2': 70, 'x_s': 0.290942, 'x_s_1': 0.098189, 'x_s_2': -0.282658, 'x_p1': 0.760193, 'x_p1_1': 0.499701, 'x_p1_2': -0.175536, 'x_p2': 0.397263, 'x_p2_1': -0.160892, 'x_p2_2': -0.354588, 'x_r2': 1.238606, 'x_r2_1': -0.508402, 'x_r2_2': -1.415763} using model Sobol.\n",
      "[INFO 04-05 13:45:02] ax.service.ax_client: Completed trial 14 with data: {'Viable_Cross_Terms': (2, None)}.\n",
      "[INFO 04-05 13:45:03] ax.service.ax_client: Generated new trial 15 with parameters {'z_sh': 12, 'z_sh_1': 7, 'z_sh_2': 11, 'z_p2': 30, 'z_p2_1': 33, 'z_p2_2': 29, 'z_r2': 81, 'z_r2_1': 80, 'z_r2_2': 71, 'x_s': 0.472882, 'x_s_1': 0.347312, 'x_s_2': -0.273999, 'x_p1': 0.008883, 'x_p1_1': -0.515197, 'x_p1_2': -0.657261, 'x_p2': 0.497016, 'x_p2_1': 0.390308, 'x_p2_2': -0.231924, 'x_r2': 0.205332, 'x_r2_1': -0.311066, 'x_r2_2': -0.460352} using model Sobol.\n",
      "[INFO 04-05 13:45:03] ax.service.ax_client: Completed trial 15 with data: {'Viable_Cross_Terms': (3, None)}.\n",
      "[INFO 04-05 13:45:03] ax.service.ax_client: Generated new trial 16 with parameters {'z_sh': 15, 'z_sh_1': 11, 'z_sh_2': 7, 'z_p2': 33, 'z_p2_1': 33, 'z_p2_2': 29, 'z_r2': 74, 'z_r2_1': 83, 'z_r2_2': 75, 'x_s': 0.329484, 'x_s_1': -0.118492, 'x_s_2': -0.337965, 'x_p1': 0.093636, 'x_p1_1': -0.314787, 'x_p1_2': -0.662842, 'x_p2': -0.055426, 'x_p2_1': -0.180858, 'x_p2_2': -0.321709, 'x_r2': 0.048985, 'x_r2_1': -0.837146, 'x_r2_2': -1.038258} using model Sobol.\n",
      "[INFO 04-05 13:45:03] ax.service.ax_client: Completed trial 16 with data: {'Viable_Cross_Terms': (10, None)}.\n"
     ]
    },
    {
     "name": "stdout",
     "output_type": "stream",
     "text": [
      "Not this time\n"
     ]
    },
    {
     "name": "stderr",
     "output_type": "stream",
     "text": [
      "[INFO 04-05 13:45:03] ax.service.ax_client: Generated new trial 17 with parameters {'z_sh': 11, 'z_sh_1': 8, 'z_sh_2': 8, 'z_p2': 35, 'z_p2_1': 32, 'z_p2_2': 31, 'z_r2': 82, 'z_r2_1': 78, 'z_r2_2': 82, 'x_s': 0.47419, 'x_s_1': 0.276188, 'x_s_2': -0.212208, 'x_p1': 0.765981, 'x_p1_1': -0.553679, 'x_p1_2': -0.916666, 'x_p2': 0.265604, 'x_p2_1': 0.009997, 'x_p2_2': -0.203623, 'x_r2': 1.303938, 'x_r2_1': 0.610993, 'x_r2_2': -0.490468} using model Sobol.\n",
      "[INFO 04-05 13:45:03] ax.service.ax_client: Completed trial 17 with data: {'Viable_Cross_Terms': (18, None)}.\n",
      "[INFO 04-05 13:45:03] ax.service.ax_client: Generated new trial 18 with parameters {'z_sh': 11, 'z_sh_1': 10, 'z_sh_2': 9, 'z_p2': 30, 'z_p2_1': 29, 'z_p2_2': 31, 'z_r2': 81, 'z_r2_1': 73, 'z_r2_2': 71, 'x_s': 0.197649, 'x_s_1': -0.253161, 'x_s_2': -0.430243, 'x_p1': 0.468718, 'x_p1_1': -0.843845, 'x_p1_2': -0.979679, 'x_p2': 0.478675, 'x_p2_1': 0.060455, 'x_p2_2': -0.270652, 'x_r2': 0.474935, 'x_r2_1': -0.510951, 'x_r2_2': -0.752519} using model Sobol.\n",
      "[INFO 04-05 13:45:04] ax.service.ax_client: Completed trial 18 with data: {'Viable_Cross_Terms': (5, None)}.\n"
     ]
    },
    {
     "name": "stdout",
     "output_type": "stream",
     "text": [
      "Not this time\n"
     ]
    },
    {
     "name": "stderr",
     "output_type": "stream",
     "text": [
      "[INFO 04-05 13:45:04] ax.service.ax_client: Generated new trial 19 with parameters {'z_sh': 12, 'z_sh_1': 11, 'z_sh_2': 5, 'z_p2': 29, 'z_p2_1': 34, 'z_p2_2': 30, 'z_r2': 77, 'z_r2_1': 75, 'z_r2_2': 75, 'x_s': 0.37142, 'x_s_1': -0.061665, 'x_s_2': -0.252487, 'x_p1': 0.633961, 'x_p1_1': -0.093441, 'x_p1_2': -0.611032, 'x_p2': 0.225951, 'x_p2_1': 0.096162, 'x_p2_2': -0.034798, 'x_r2': 1.271505, 'x_r2_1': 0.982726, 'x_r2_2': -0.788398} using model Sobol.\n",
      "[INFO 04-05 13:45:04] ax.service.ax_client: Completed trial 19 with data: {'Viable_Cross_Terms': (10, None)}.\n",
      "[INFO 04-05 13:45:04] ax.service.ax_client: Generated new trial 20 with parameters {'z_sh': 9, 'z_sh_1': 9, 'z_sh_2': 9, 'z_p2': 31, 'z_p2_1': 27, 'z_p2_2': 28, 'z_r2': 82, 'z_r2_1': 79, 'z_r2_2': 73, 'x_s': 0.120872, 'x_s_1': -0.123531, 'x_s_2': -0.238014, 'x_p1': 0.84329, 'x_p1_1': -0.139202, 'x_p1_2': -0.806879, 'x_p2': 0.28379, 'x_p2_1': -0.20373, 'x_p2_2': -0.317319, 'x_r2': -0.263311, 'x_r2_1': -0.672656, 'x_r2_2': -1.380677} using model Sobol.\n",
      "[INFO 04-05 13:45:04] ax.service.ax_client: Completed trial 20 with data: {'Viable_Cross_Terms': (4, None)}.\n"
     ]
    },
    {
     "name": "stdout",
     "output_type": "stream",
     "text": [
      "Not this time\n"
     ]
    },
    {
     "name": "stderr",
     "output_type": "stream",
     "text": [
      "[INFO 04-05 13:45:05] ax.service.ax_client: Generated new trial 21 with parameters {'z_sh': 7, 'z_sh_1': 11, 'z_sh_2': 12, 'z_p2': 30, 'z_p2_1': 33, 'z_p2_2': 27, 'z_r2': 82, 'z_r2_1': 78, 'z_r2_2': 77, 'x_s': 0.444697, 'x_s_1': 0.256994, 'x_s_2': -0.267472, 'x_p1': 0.255166, 'x_p1_1': 0.126869, 'x_p1_2': -0.492673, 'x_p2': 0.418016, 'x_p2_1': -0.138899, 'x_p2_2': -0.291162, 'x_r2': 1.153422, 'x_r2_1': 0.017355, 'x_r2_2': -1.090867} using model Sobol.\n",
      "[INFO 04-05 13:45:05] ax.service.ax_client: Completed trial 21 with data: {'Viable_Cross_Terms': (13, None)}.\n",
      "[INFO 04-05 13:45:05] ax.service.ax_client: Generated new trial 22 with parameters {'z_sh': 13, 'z_sh_1': 9, 'z_sh_2': 11, 'z_p2': 33, 'z_p2_1': 28, 'z_p2_2': 25, 'z_r2': 78, 'z_r2_1': 81, 'z_r2_2': 80, 'x_s': 0.336048, 'x_s_1': 0.017898, 'x_s_2': -0.441218, 'x_p1': 0.589633, 'x_p1_1': -0.43122, 'x_p1_2': -0.685822, 'x_p2': 0.139453, 'x_p2_1': -0.08726, 'x_p2_2': -0.440623, 'x_r2': 0.653056, 'x_r2_1': -0.352732, 'x_r2_2': -1.090172} using model Sobol.\n",
      "[INFO 04-05 13:45:05] ax.service.ax_client: Completed trial 22 with data: {'Viable_Cross_Terms': (4, None)}.\n",
      "[INFO 04-05 13:45:05] ax.service.ax_client: Generated new trial 23 with parameters {'z_sh': 15, 'z_sh_1': 8, 'z_sh_2': 9, 'z_p2': 29, 'z_p2_1': 32, 'z_p2_2': 32, 'z_r2': 83, 'z_r2_1': 84, 'z_r2_2': 70, 'x_s': 0.328734, 'x_s_1': 0.112695, 'x_s_2': -0.430968, 'x_p1': 0.806623, 'x_p1_1': 0.598915, 'x_p1_2': 0.300458, 'x_p2': 0.225079, 'x_p2_1': -0.11684, 'x_p2_2': -0.270366, 'x_r2': 1.307304, 'x_r2_1': 1.090993, 'x_r2_2': 0.853437} using model Sobol.\n",
      "[INFO 04-05 13:45:05] ax.service.ax_client: Completed trial 23 with data: {'Viable_Cross_Terms': (4, None)}.\n",
      "[INFO 04-05 13:45:05] ax.service.ax_client: Generated new trial 24 with parameters {'z_sh': 9, 'z_sh_1': 12, 'z_sh_2': 7, 'z_p2': 34, 'z_p2_1': 33, 'z_p2_2': 28, 'z_r2': 85, 'z_r2_1': 78, 'z_r2_2': 79, 'x_s': 0.302629, 'x_s_1': 0.109817, 'x_s_2': -0.41354, 'x_p1': 0.465138, 'x_p1_1': 0.049957, 'x_p1_2': -0.574587, 'x_p2': 0.102481, 'x_p2_1': -0.038154, 'x_p2_2': -0.398917, 'x_r2': 1.474444, 'x_r2_1': 0.627102, 'x_r2_2': -1.328766} using model Sobol.\n",
      "[INFO 04-05 13:45:05] ax.service.ax_client: Completed trial 24 with data: {'Viable_Cross_Terms': (3, None)}.\n",
      "[INFO 04-05 13:45:06] ax.service.ax_client: Generated new trial 25 with parameters {'z_sh': 11, 'z_sh_1': 14, 'z_sh_2': 5, 'z_p2': 31, 'z_p2_1': 33, 'z_p2_2': 25, 'z_r2': 83, 'z_r2_1': 73, 'z_r2_2': 71, 'x_s': 0.236332, 'x_s_1': -0.002358, 'x_s_2': -0.358405, 'x_p1': 0.998259, 'x_p1_1': -0.665749, 'x_p1_2': -0.90272, 'x_p2': 0.376706, 'x_p2_1': 0.00555, 'x_p2_2': -0.487177, 'x_r2': 0.844505, 'x_r2_1': 0.669682, 'x_r2_2': 0.439591} using model Sobol.\n",
      "[INFO 04-05 13:45:06] ax.service.ax_client: Completed trial 25 with data: {'Viable_Cross_Terms': (2, None)}.\n"
     ]
    },
    {
     "name": "stdout",
     "output_type": "stream",
     "text": [
      "Not this time\n"
     ]
    },
    {
     "name": "stderr",
     "output_type": "stream",
     "text": [
      "[INFO 04-05 13:45:07] ax.service.ax_client: Generated new trial 26 with parameters {'z_sh': 9, 'z_sh_1': 13, 'z_sh_2': 5, 'z_p2': 34, 'z_p2_1': 32, 'z_p2_2': 28, 'z_r2': 82, 'z_r2_1': 79, 'z_r2_2': 83, 'x_s': 0.293781, 'x_s_1': 0.19248, 'x_s_2': -0.073421, 'x_p1': 0.703659, 'x_p1_1': -0.209462, 'x_p1_2': -0.390506, 'x_p2': 0.401286, 'x_p2_1': 0.237647, 'x_p2_2': -0.256544, 'x_r2': 1.017838, 'x_r2_1': -0.296759, 'x_r2_2': -0.6136} using model Sobol.\n",
      "[INFO 04-05 13:45:07] ax.service.ax_client: Completed trial 26 with data: {'Viable_Cross_Terms': (10, None)}.\n"
     ]
    },
    {
     "name": "stdout",
     "output_type": "stream",
     "text": [
      "Not this time\n",
      "Not this time\n"
     ]
    },
    {
     "name": "stderr",
     "output_type": "stream",
     "text": [
      "[INFO 04-05 13:45:07] ax.service.ax_client: Generated new trial 27 with parameters {'z_sh': 10, 'z_sh_1': 13, 'z_sh_2': 13, 'z_p2': 28, 'z_p2_1': 28, 'z_p2_2': 25, 'z_r2': 72, 'z_r2_1': 82, 'z_r2_2': 75, 'x_s': 0.388592, 'x_s_1': 0.20755, 'x_s_2': -0.070271, 'x_p1': 0.91825, 'x_p1_1': 0.284812, 'x_p1_2': -0.576528, 'x_p2': 0.432195, 'x_p2_1': 0.312839, 'x_p2_2': -0.491738, 'x_r2': 1.474843, 'x_r2_1': 0.481756, 'x_r2_2': 0.123602} using model Sobol.\n",
      "[INFO 04-05 13:45:07] ax.service.ax_client: Completed trial 27 with data: {'Viable_Cross_Terms': (3, None)}.\n",
      "[INFO 04-05 13:45:07] ax.service.ax_client: Generated new trial 28 with parameters {'z_sh': 9, 'z_sh_1': 9, 'z_sh_2': 13, 'z_p2': 28, 'z_p2_1': 27, 'z_p2_2': 32, 'z_r2': 81, 'z_r2_1': 76, 'z_r2_2': 73, 'x_s': 0.423069, 'x_s_1': 0.228337, 'x_s_2': -0.193176, 'x_p1': 0.845889, 'x_p1_1': 0.283894, 'x_p1_2': -0.47384, 'x_p2': 0.388599, 'x_p2_1': 0.099752, 'x_p2_2': -0.425111, 'x_r2': -0.19002, 'x_r2_1': -0.65182, 'x_r2_2': -1.240542} using model Sobol.\n",
      "[INFO 04-05 13:45:07] ax.service.ax_client: Completed trial 28 with data: {'Viable_Cross_Terms': (4, None)}.\n"
     ]
    },
    {
     "name": "stdout",
     "output_type": "stream",
     "text": [
      "Not this time\n"
     ]
    },
    {
     "name": "stderr",
     "output_type": "stream",
     "text": [
      "[INFO 04-05 13:45:08] ax.service.ax_client: Generated new trial 29 with parameters {'z_sh': 9, 'z_sh_1': 12, 'z_sh_2': 7, 'z_p2': 35, 'z_p2_1': 28, 'z_p2_2': 25, 'z_r2': 78, 'z_r2_1': 74, 'z_r2_2': 82, 'x_s': 0.247403, 'x_s_1': -0.261492, 'x_s_2': -0.491383, 'x_p1': 0.616983, 'x_p1_1': 0.191381, 'x_p1_2': -0.314586, 'x_p2': 0.314864, 'x_p2_1': -0.068009, 'x_p2_2': -0.46181, 'x_r2': 0.599367, 'x_r2_1': -1.050551, 'x_r2_2': -1.224279} using model Sobol.\n",
      "[INFO 04-05 13:45:08] ax.service.ax_client: Completed trial 29 with data: {'Viable_Cross_Terms': (2, None)}.\n",
      "[INFO 04-05 13:45:08] ax.service.ax_client: Generated new trial 30 with parameters {'z_sh': 15, 'z_sh_1': 8, 'z_sh_2': 6, 'z_p2': 27, 'z_p2_1': 33, 'z_p2_2': 27, 'z_r2': 82, 'z_r2_1': 71, 'z_r2_2': 71, 'x_s': 0.112009, 'x_s_1': -0.014359, 'x_s_2': -0.309921, 'x_p1': 0.220551, 'x_p1_1': -0.48803, 'x_p1_2': -0.616438, 'x_p2': 0.028764, 'x_p2_1': -0.13506, 'x_p2_2': -0.312558, 'x_r2': 1.216502, 'x_r2_1': 0.803899, 'x_r2_2': -1.223584} using model Sobol.\n",
      "[INFO 04-05 13:45:08] ax.service.ax_client: Completed trial 30 with data: {'Viable_Cross_Terms': (3, None)}.\n"
     ]
    },
    {
     "name": "stdout",
     "output_type": "stream",
     "text": [
      "Not this time\n"
     ]
    },
    {
     "name": "stderr",
     "output_type": "stream",
     "text": [
      "[INFO 04-05 13:45:08] ax.service.ax_client: Generated new trial 31 with parameters {'z_sh': 11, 'z_sh_1': 9, 'z_sh_2': 11, 'z_p2': 28, 'z_p2_1': 34, 'z_p2_2': 25, 'z_r2': 77, 'z_r2_1': 80, 'z_r2_2': 75, 'x_s': 0.304189, 'x_s_1': 0.147881, 'x_s_2': -0.2788, 'x_p1': 0.919202, 'x_p1_1': 0.609352, 'x_p1_2': -0.109904, 'x_p2': 0.356424, 'x_p2_1': -0.081116, 'x_p2_2': -0.439565, 'x_r2': -0.149384, 'x_r2_1': -0.615048, 'x_r2_2': -1.394528} using model Sobol.\n",
      "[INFO 04-05 13:45:08] ax.service.ax_client: Completed trial 31 with data: {'Viable_Cross_Terms': (4, None)}.\n",
      "[INFO 04-05 13:45:09] ax.service.ax_client: Generated new trial 32 with parameters {'z_sh': 7, 'z_sh_1': 7, 'z_sh_2': 10, 'z_p2': 29, 'z_p2_1': 29, 'z_p2_2': 26, 'z_r2': 76, 'z_r2_1': 77, 'z_r2_2': 74, 'x_s': 0.494681, 'x_s_1': -0.001794, 'x_s_2': -0.198794, 'x_p1': 0.520821, 'x_p1_1': -0.527788, 'x_p1_2': -0.843626, 'x_p2': 0.122679, 'x_p2_1': -0.179833, 'x_p2_2': -0.330934, 'x_r2': 1.226565, 'x_r2_1': 0.2284, 'x_r2_2': -1.495501} using model Sobol.\n",
      "[INFO 04-05 13:45:09] ax.service.ax_client: Completed trial 32 with data: {'Viable_Cross_Terms': (4, None)}.\n",
      "[INFO 04-05 13:45:09] ax.service.ax_client: Generated new trial 33 with parameters {'z_sh': 11, 'z_sh_1': 8, 'z_sh_2': 11, 'z_p2': 30, 'z_p2_1': 30, 'z_p2_2': 27, 'z_r2': 73, 'z_r2_1': 80, 'z_r2_2': 84, 'x_s': 0.357142, 'x_s_1': 0.099702, 'x_s_2': -0.133521, 'x_p1': 0.482712, 'x_p1_1': 0.056779, 'x_p1_2': -0.992828, 'x_p2': 0.45296, 'x_p2_1': 0.313596, 'x_p2_2': -0.45601, 'x_r2': 0.717649, 'x_r2_1': 0.548131, 'x_r2_2': -0.579734} using model Sobol.\n",
      "[INFO 04-05 13:45:09] ax.service.ax_client: Completed trial 33 with data: {'Viable_Cross_Terms': (13, None)}.\n"
     ]
    },
    {
     "name": "stdout",
     "output_type": "stream",
     "text": [
      "Not this time\n"
     ]
    },
    {
     "name": "stderr",
     "output_type": "stream",
     "text": [
      "[INFO 04-05 13:45:09] ax.service.ax_client: Generated new trial 34 with parameters {'z_sh': 12, 'z_sh_1': 7, 'z_sh_2': 10, 'z_p2': 29, 'z_p2_1': 32, 'z_p2_2': 31, 'z_r2': 82, 'z_r2_1': 85, 'z_r2_2': 77, 'x_s': 0.468549, 'x_s_1': -0.143975, 'x_s_2': -0.334931, 'x_p1': 0.564765, 'x_p1_1': 0.24362, 'x_p1_2': -0.200269, 'x_p2': 0.422512, 'x_p2_1': 0.147548, 'x_p2_2': -0.494425, 'x_r2': -0.141912, 'x_r2_1': -0.355214, 'x_r2_2': -0.638365} using model Sobol.\n",
      "[INFO 04-05 13:45:09] ax.service.ax_client: Completed trial 34 with data: {'Viable_Cross_Terms': (16, None)}.\n",
      "[INFO 04-05 13:45:10] ax.service.ax_client: Generated new trial 35 with parameters {'z_sh': 12, 'z_sh_1': 8, 'z_sh_2': 5, 'z_p2': 35, 'z_p2_1': 31, 'z_p2_2': 25, 'z_r2': 78, 'z_r2_1': 71, 'z_r2_2': 81, 'x_s': 0.195113, 'x_s_1': -0.281582, 'x_s_2': -0.445514, 'x_p1': 0.722113, 'x_p1_1': 0.170112, 'x_p1_2': 0.038937, 'x_p2': 0.481426, 'x_p2_1': 0.251735, 'x_p2_2': -0.172327, 'x_r2': 0.818466, 'x_r2_1': -1.282179, 'x_r2_2': -1.445657} using model Sobol.\n",
      "[INFO 04-05 13:45:10] ax.service.ax_client: Completed trial 35 with data: {'Viable_Cross_Terms': (23, None)}.\n",
      "[INFO 04-05 13:45:10] ax.service.ax_client: Generated new trial 36 with parameters {'z_sh': 11, 'z_sh_1': 14, 'z_sh_2': 5, 'z_p2': 35, 'z_p2_1': 26, 'z_p2_2': 32, 'z_r2': 77, 'z_r2_1': 80, 'z_r2_2': 83, 'x_s': 0.462917, 'x_s_1': -0.043789, 'x_s_2': -0.280855, 'x_p1': 0.474284, 'x_p1_1': 0.153125, 'x_p1_2': -0.262139, 'x_p2': 0.21384, 'x_p2_1': 0.031316, 'x_p2_2': -0.163895, 'x_r2': 1.192276, 'x_r2_1': 0.449605, 'x_r2_2': -0.126463} using model Sobol.\n",
      "[INFO 04-05 13:45:10] ax.service.ax_client: Completed trial 36 with data: {'Viable_Cross_Terms': (15, None)}.\n",
      "[INFO 04-05 13:45:10] ax.service.ax_client: Generated new trial 37 with parameters {'z_sh': 15, 'z_sh_1': 7, 'z_sh_2': 12, 'z_p2': 30, 'z_p2_1': 27, 'z_p2_2': 28, 'z_r2': 76, 'z_r2_1': 81, 'z_r2_2': 71, 'x_s': 0.399796, 'x_s_1': 0.138838, 'x_s_2': -0.067172, 'x_p1': 0.491378, 'x_p1_1': 0.298547, 'x_p1_2': -0.60899, 'x_p2': 0.465521, 'x_p2_1': 0.091849, 'x_p2_2': -0.162532, 'x_r2': 0.837645, 'x_r2_1': -0.551105, 'x_r2_2': -1.04602} using model Sobol.\n",
      "[INFO 04-05 13:45:10] ax.service.ax_client: Completed trial 37 with data: {'Viable_Cross_Terms': (9, None)}.\n",
      "[INFO 04-05 13:45:11] ax.service.ax_client: Generated new trial 38 with parameters {'z_sh': 7, 'z_sh_1': 14, 'z_sh_2': 8, 'z_p2': 28, 'z_p2_1': 31, 'z_p2_2': 25, 'z_r2': 84, 'z_r2_1': 77, 'z_r2_2': 71, 'x_s': 0.486748, 'x_s_1': 0.230759, 'x_s_2': -0.098531, 'x_p1': 0.613916, 'x_p1_1': -0.179248, 'x_p1_2': -0.651463, 'x_p2': 0.312515, 'x_p2_1': 0.033528, 'x_p2_2': -0.202324, 'x_r2': 0.171988, 'x_r2_1': 0.055551, 'x_r2_2': -1.366187} using model Sobol.\n",
      "[INFO 04-05 13:45:11] ax.service.ax_client: Completed trial 38 with data: {'Viable_Cross_Terms': (12, None)}.\n",
      "[INFO 04-05 13:45:11] ax.service.ax_client: Generated new trial 39 with parameters {'z_sh': 7, 'z_sh_1': 8, 'z_sh_2': 9, 'z_p2': 32, 'z_p2_1': 28, 'z_p2_2': 25, 'z_r2': 85, 'z_r2_1': 72, 'z_r2_2': 84, 'x_s': 0.212122, 'x_s_1': -0.207733, 'x_s_2': -0.309388, 'x_p1': 0.171631, 'x_p1_1': -0.476652, 'x_p1_2': -0.710236, 'x_p2': 0.468162, 'x_p2_1': 0.021358, 'x_p2_2': -0.27318, 'x_r2': 0.8155, 'x_r2_1': -0.318551, 'x_r2_2': -1.151427} using model Sobol.\n",
      "[INFO 04-05 13:45:11] ax.service.ax_client: Completed trial 39 with data: {'Viable_Cross_Terms': (4, None)}.\n"
     ]
    },
    {
     "name": "stdout",
     "output_type": "stream",
     "text": [
      "Not this time\n"
     ]
    },
    {
     "name": "stderr",
     "output_type": "stream",
     "text": [
      "[INFO 04-05 13:45:11] ax.service.ax_client: Generated new trial 40 with parameters {'z_sh': 8, 'z_sh_1': 13, 'z_sh_2': 9, 'z_p2': 30, 'z_p2_1': 27, 'z_p2_2': 33, 'z_r2': 72, 'z_r2_1': 76, 'z_r2_2': 73, 'x_s': 0.29969, 'x_s_1': -0.325354, 'x_s_2': -0.426923, 'x_p1': 0.206654, 'x_p1_1': 0.045408, 'x_p1_2': -0.6756, 'x_p2': 0.28375, 'x_p2_1': 0.143823, 'x_p2_2': -0.028566, 'x_r2': 1.434858, 'x_r2_1': 0.212313, 'x_r2_2': -0.470594} using model Sobol.\n",
      "[INFO 04-05 13:45:11] ax.service.ax_client: Completed trial 40 with data: {'Viable_Cross_Terms': (15, None)}.\n",
      "[INFO 04-05 13:45:11] ax.service.ax_client: Generated new trial 41 with parameters {'z_sh': 10, 'z_sh_1': 8, 'z_sh_2': 8, 'z_p2': 28, 'z_p2_1': 30, 'z_p2_2': 27, 'z_r2': 75, 'z_r2_1': 75, 'z_r2_2': 74, 'x_s': 0.434139, 'x_s_1': 0.156853, 'x_s_2': 0.017333, 'x_p1': 0.767957, 'x_p1_1': 0.233234, 'x_p1_2': -0.417394, 'x_p2': 0.477265, 'x_p2_1': 0.258775, 'x_p2_2': 0.156054, 'x_r2': 0.786017, 'x_r2_1': -0.884349, 'x_r2_2': -1.143639} using model Sobol.\n",
      "[INFO 04-05 13:45:11] ax.service.ax_client: Completed trial 41 with data: {'Viable_Cross_Terms': (5, None)}.\n",
      "[INFO 04-05 13:45:48] ax.service.ax_client: Generated new trial 42 with parameters {'z_sh': 13, 'z_sh_1': 8, 'z_sh_2': 5, 'z_p2': 35, 'z_p2_1': 31, 'z_p2_2': 25, 'z_r2': 76, 'z_r2_1': 73, 'z_r2_2': 78, 'x_s': 0.230021, 'x_s_1': -0.340782, 'x_s_2': -0.451667, 'x_p1': 0.556322, 'x_p1_1': 0.134683, 'x_p1_2': -0.008124, 'x_p2': 0.491946, 'x_p2_1': 0.307941, 'x_p2_2': -0.136811, 'x_r2': 0.809477, 'x_r2_1': -1.230596, 'x_r2_2': -1.5} using model BoTorch.\n",
      "[INFO 04-05 13:45:48] ax.service.ax_client: Completed trial 42 with data: {'Viable_Cross_Terms': (26, None)}.\n"
     ]
    }
   ],
   "source": [
    "init_count = 0\n",
    "while init_count < 42:\n",
    "    try:\n",
    "        parameterization, trial_index = Tag_client.get_next_trial()\n",
    "        # Local evaluation here can be replaced with deployment to external system.\n",
    "        Tag_client.complete_trial(trial_index=trial_index, raw_data=score_vals(param_to_list(parameterization)))\n",
    "    except:\n",
    "        print('Not this time')\n",
    "    init_count = trial_index"
   ]
  },
  {
   "cell_type": "code",
   "execution_count": 15,
   "metadata": {},
   "outputs": [],
   "source": [
    "import importlib\n",
    "%load_ext autoreload"
   ]
  },
  {
   "cell_type": "code",
   "execution_count": 16,
   "metadata": {},
   "outputs": [],
   "source": [
    "%autoreload 2\n",
    "from utils import list_to_param"
   ]
  },
  {
   "cell_type": "code",
   "execution_count": 17,
   "metadata": {},
   "outputs": [
    {
     "name": "stderr",
     "output_type": "stream",
     "text": [
      "[INFO 04-05 13:45:48] ax.core.experiment: Attached custom parameterizations [{'z_sh': 10, 'z_sh_1': 8, 'z_sh_2': 6, 'z_p2': 32, 'z_p2_1': 31, 'z_p2_2': 30, 'z_r2': 80, 'z_r2_1': 78, 'z_r2_2': 77, 'x_s': 0.5, 'x_s_1': 0.4, 'x_s_2': 0.3, 'x_p1': 0.8, 'x_p1_1': 0.7, 'x_p1_2': 0.6, 'x_p2': 0.4, 'x_p2_1': 0.3, 'x_p2_2': 0.2, 'x_r2': 1.2, 'x_r2_1': 1.0, 'x_r2_2': 0.8}] as trial 43.\n"
     ]
    },
    {
     "name": "stderr",
     "output_type": "stream",
     "text": [
      "[INFO 04-05 13:45:48] ax.service.ax_client: Completed trial 43 with data: {'Viable_Cross_Terms': (30, None)}.\n"
     ]
    }
   ],
   "source": [
    "z_sh = np.array([10, 8, 6])\n",
    "z_p1 = np.array([42, 40, 41])\n",
    "z_p2 = np.array([32, 31, 30])\n",
    "z_r2 = np.array([80, 78, 77])\n",
    "x_s = np.array([0.5, 0.4, 0.3])\n",
    "x_p1 = np.array([0.8, 0.7, 0.6])\n",
    "x_p2 = np.array([0.4, 0.3, 0.2])\n",
    "x_r2 = np.array([1.2, 1.0, 0.8])\n",
    "\n",
    "Yi_vals = [z_sh, z_p2, z_r2, x_s, x_p1, x_p2, x_r2] #list of arrays\n",
    "Yi_list = list_to_param(Yi_vals)\n",
    "\n",
    "trial_deal = Tag_client.attach_trial(\n",
    "        parameters=Yi_list\n",
    "    )\n",
    "Tag_client.complete_trial(trial_index=trial_deal[-1], raw_data=score_vals(param_to_list(Yi_list)))"
   ]
  },
  {
   "cell_type": "code",
   "execution_count": 18,
   "metadata": {},
   "outputs": [
    {
     "name": "stderr",
     "output_type": "stream",
     "text": [
      "[INFO 04-05 13:45:48] ax.core.experiment: Attached custom parameterizations [{'z_sh': 7, 'z_sh_1': 6, 'z_sh_2': 5, 'z_p2': 27, 'z_p2_1': 30, 'z_p2_2': 31, 'z_r2': 77, 'z_r2_1': 78, 'z_r2_2': 80, 'x_s': 0.5, 'x_s_1': 0.4, 'x_s_2': 0.3, 'x_p1': 0.8, 'x_p1_1': 0.7, 'x_p1_2': 0.6, 'x_p2': 0.4, 'x_p2_1': 0.3, 'x_p2_2': 0.2, 'x_r2': 1.0, 'x_r2_1': 0.9, 'x_r2_2': 0.8}] as trial 44.\n",
      "[INFO 04-05 13:45:48] ax.service.ax_client: Completed trial 44 with data: {'Viable_Cross_Terms': (79, None)}.\n"
     ]
    }
   ],
   "source": [
    "best_so_far =  {'z_sh': 8, 'z_sh_1': 6, 'z_sh_2': 5, 'z_p2': 29, 'z_p2_1': 27, 'z_p2_2': 31, 'z_r2': 80, 'z_r2_1': 72, 'z_r2_2': 71, 'x_s': 0.5, 'x_s_1': 0.4, 'x_s_2': 0.3, 'x_p1': 0.635967, 'x_p1_1': 0.535967, 'x_p1_2': 0.435967, 'x_p2': 0.5, 'x_p2_1': 0.4, 'x_p2_2': 0.3, 'x_r2': 1.072711, 'x_r2_1': 0.972711, 'x_r2_2': 0.872711}\n",
    "b_guess = {'z_sh': 8, 'z_sh_1': 6, 'z_sh_2': 5, 'z_p2': 29, 'z_p2_1': 27, 'z_p2_2': 31, 'z_r2': 80, 'z_r2_1': 72, 'z_r2_2': 71, 'x_s': 0.5, 'x_s_1': 0.4, 'x_s_2': 0.3, 'x_p1': 0.636, 'x_p1_1': 0.536, 'x_p1_2': 0.436, 'x_p2': 0.5, 'x_p2_1': 0.4, 'x_p2_2': 0.3, 'x_r2': 1.073, 'x_r2_1': 0.973, 'x_r2_2': 0.873}\n",
    "new_guess = list_to_param((np.array((14, 12, 10))/2,\n",
    " (27, 30, 31),\n",
    " (77, 78, 80),\n",
    " (0.3, 0.4, 0.5)[::-1],\n",
    " (0.6, 0.7, 0.8)[::-1],\n",
    " (0.2, 0.3, 0.4)[::-1],\n",
    " (0.8, 0.9, 1)[::-1]))\n",
    "\n",
    "trial_deal = Tag_client.attach_trial(\n",
    "        parameters=new_guess\n",
    "    )\n",
    "\n",
    "Tag_client.complete_trial(trial_index=trial_deal[-1], raw_data=score_vals(param_to_list(new_guess)))"
   ]
  },
  {
   "cell_type": "code",
   "execution_count": 19,
   "metadata": {},
   "outputs": [
    {
     "name": "stderr",
     "output_type": "stream",
     "text": [
      "[INFO 04-05 13:45:48] ax.core.experiment: Attached custom parameterizations [{'z_sh': 8, 'z_sh_1': 6, 'z_sh_2': 5, 'z_p2': 29, 'z_p2_1': 27, 'z_p2_2': 31, 'z_r2': 80, 'z_r2_1': 72, 'z_r2_2': 71, 'x_s': 0.5, 'x_s_1': 0.4, 'x_s_2': 0.3, 'x_p1': 0.635967, 'x_p1_1': 0.535967, 'x_p1_2': 0.435967, 'x_p2': 0.5, 'x_p2_1': 0.4, 'x_p2_2': 0.3, 'x_r2': 1.072711, 'x_r2_1': 0.972711, 'x_r2_2': 0.872711}] as trial 45.\n",
      "[INFO 04-05 13:45:48] ax.service.ax_client: Completed trial 45 with data: {'Viable_Cross_Terms': (90, None)}.\n",
      "[INFO 04-05 13:45:48] ax.core.experiment: Attached custom parameterizations [{'z_sh': 8, 'z_sh_1': 6, 'z_sh_2': 5, 'z_p2': 29, 'z_p2_1': 27, 'z_p2_2': 31, 'z_r2': 80, 'z_r2_1': 72, 'z_r2_2': 71, 'x_s': 0.5, 'x_s_1': 0.4, 'x_s_2': 0.3, 'x_p1': 0.636, 'x_p1_1': 0.536, 'x_p1_2': 0.436, 'x_p2': 0.5, 'x_p2_1': 0.4, 'x_p2_2': 0.3, 'x_r2': 1.073, 'x_r2_1': 0.973, 'x_r2_2': 0.873}] as trial 46.\n"
     ]
    },
    {
     "name": "stderr",
     "output_type": "stream",
     "text": [
      "[INFO 04-05 13:45:48] ax.service.ax_client: Completed trial 46 with data: {'Viable_Cross_Terms': (90, None)}.\n"
     ]
    }
   ],
   "source": [
    "trial_deal = Tag_client.attach_trial(\n",
    "        parameters=best_so_far\n",
    "    )\n",
    "\n",
    "Tag_client.complete_trial(trial_index=trial_deal[-1], raw_data=score_vals(param_to_list(best_so_far)))\n",
    "\n",
    "trial_deal = Tag_client.attach_trial(\n",
    "        parameters=b_guess\n",
    "    )\n",
    "\n",
    "Tag_client.complete_trial(trial_index=trial_deal[-1], raw_data=score_vals(param_to_list(b_guess)))"
   ]
  },
  {
   "cell_type": "code",
   "execution_count": 20,
   "metadata": {},
   "outputs": [
    {
     "data": {
      "text/html": [
       "<div>\n",
       "<style scoped>\n",
       "    .dataframe tbody tr th:only-of-type {\n",
       "        vertical-align: middle;\n",
       "    }\n",
       "\n",
       "    .dataframe tbody tr th {\n",
       "        vertical-align: top;\n",
       "    }\n",
       "\n",
       "    .dataframe thead th {\n",
       "        text-align: right;\n",
       "    }\n",
       "</style>\n",
       "<table border=\"1\" class=\"dataframe\">\n",
       "  <thead>\n",
       "    <tr style=\"text-align: right;\">\n",
       "      <th></th>\n",
       "      <th>trial_index</th>\n",
       "      <th>arm_name</th>\n",
       "      <th>trial_status</th>\n",
       "      <th>generation_method</th>\n",
       "      <th>generation_node</th>\n",
       "      <th>Viable_Cross_Terms</th>\n",
       "      <th>z_sh</th>\n",
       "      <th>z_sh_1</th>\n",
       "      <th>z_sh_2</th>\n",
       "      <th>z_p2</th>\n",
       "      <th>...</th>\n",
       "      <th>x_s_2</th>\n",
       "      <th>x_p1</th>\n",
       "      <th>x_p1_1</th>\n",
       "      <th>x_p1_2</th>\n",
       "      <th>x_p2</th>\n",
       "      <th>x_p2_1</th>\n",
       "      <th>x_p2_2</th>\n",
       "      <th>x_r2</th>\n",
       "      <th>x_r2_1</th>\n",
       "      <th>x_r2_2</th>\n",
       "    </tr>\n",
       "  </thead>\n",
       "  <tbody>\n",
       "    <tr>\n",
       "      <th>0</th>\n",
       "      <td>0</td>\n",
       "      <td>0_0</td>\n",
       "      <td>COMPLETED</td>\n",
       "      <td>Sobol</td>\n",
       "      <td>GenerationStep_0</td>\n",
       "      <td>5.0</td>\n",
       "      <td>12</td>\n",
       "      <td>13</td>\n",
       "      <td>13</td>\n",
       "      <td>30</td>\n",
       "      <td>...</td>\n",
       "      <td>-0.039872</td>\n",
       "      <td>0.860567</td>\n",
       "      <td>0.054660</td>\n",
       "      <td>-0.905615</td>\n",
       "      <td>0.445594</td>\n",
       "      <td>0.329129</td>\n",
       "      <td>-0.405654</td>\n",
       "      <td>1.007899</td>\n",
       "      <td>-0.622691</td>\n",
       "      <td>-0.861944</td>\n",
       "    </tr>\n",
       "    <tr>\n",
       "      <th>1</th>\n",
       "      <td>1</td>\n",
       "      <td>1_0</td>\n",
       "      <td>COMPLETED</td>\n",
       "      <td>Sobol</td>\n",
       "      <td>GenerationStep_0</td>\n",
       "      <td>16.0</td>\n",
       "      <td>9</td>\n",
       "      <td>12</td>\n",
       "      <td>6</td>\n",
       "      <td>28</td>\n",
       "      <td>...</td>\n",
       "      <td>0.061762</td>\n",
       "      <td>0.280179</td>\n",
       "      <td>-0.216793</td>\n",
       "      <td>-0.674284</td>\n",
       "      <td>0.482764</td>\n",
       "      <td>0.303063</td>\n",
       "      <td>-0.240026</td>\n",
       "      <td>1.027452</td>\n",
       "      <td>-0.226139</td>\n",
       "      <td>-0.731557</td>\n",
       "    </tr>\n",
       "    <tr>\n",
       "      <th>2</th>\n",
       "      <td>2</td>\n",
       "      <td>2_0</td>\n",
       "      <td>COMPLETED</td>\n",
       "      <td>Sobol</td>\n",
       "      <td>GenerationStep_0</td>\n",
       "      <td>12.0</td>\n",
       "      <td>14</td>\n",
       "      <td>14</td>\n",
       "      <td>10</td>\n",
       "      <td>28</td>\n",
       "      <td>...</td>\n",
       "      <td>-0.492182</td>\n",
       "      <td>0.533445</td>\n",
       "      <td>0.067106</td>\n",
       "      <td>-0.092637</td>\n",
       "      <td>0.318919</td>\n",
       "      <td>-0.178784</td>\n",
       "      <td>-0.420800</td>\n",
       "      <td>0.499900</td>\n",
       "      <td>0.174703</td>\n",
       "      <td>-0.101379</td>\n",
       "    </tr>\n",
       "    <tr>\n",
       "      <th>3</th>\n",
       "      <td>3</td>\n",
       "      <td>3_0</td>\n",
       "      <td>COMPLETED</td>\n",
       "      <td>Sobol</td>\n",
       "      <td>GenerationStep_0</td>\n",
       "      <td>20.0</td>\n",
       "      <td>14</td>\n",
       "      <td>9</td>\n",
       "      <td>7</td>\n",
       "      <td>31</td>\n",
       "      <td>...</td>\n",
       "      <td>-0.387237</td>\n",
       "      <td>0.271144</td>\n",
       "      <td>-0.010371</td>\n",
       "      <td>-0.357360</td>\n",
       "      <td>0.408685</td>\n",
       "      <td>0.247238</td>\n",
       "      <td>-0.078927</td>\n",
       "      <td>1.035394</td>\n",
       "      <td>-0.490845</td>\n",
       "      <td>-1.496787</td>\n",
       "    </tr>\n",
       "    <tr>\n",
       "      <th>4</th>\n",
       "      <td>4</td>\n",
       "      <td>4_0</td>\n",
       "      <td>COMPLETED</td>\n",
       "      <td>Sobol</td>\n",
       "      <td>GenerationStep_0</td>\n",
       "      <td>7.0</td>\n",
       "      <td>8</td>\n",
       "      <td>14</td>\n",
       "      <td>6</td>\n",
       "      <td>29</td>\n",
       "      <td>...</td>\n",
       "      <td>0.056943</td>\n",
       "      <td>0.874702</td>\n",
       "      <td>0.114893</td>\n",
       "      <td>-0.669673</td>\n",
       "      <td>0.148211</td>\n",
       "      <td>0.013402</td>\n",
       "      <td>-0.094170</td>\n",
       "      <td>0.051563</td>\n",
       "      <td>-0.066229</td>\n",
       "      <td>-0.587413</td>\n",
       "    </tr>\n",
       "    <tr>\n",
       "      <th>5</th>\n",
       "      <td>5</td>\n",
       "      <td>5_0</td>\n",
       "      <td>COMPLETED</td>\n",
       "      <td>Sobol</td>\n",
       "      <td>GenerationStep_0</td>\n",
       "      <td>15.0</td>\n",
       "      <td>7</td>\n",
       "      <td>12</td>\n",
       "      <td>7</td>\n",
       "      <td>33</td>\n",
       "      <td>...</td>\n",
       "      <td>-0.172550</td>\n",
       "      <td>0.785026</td>\n",
       "      <td>0.661065</td>\n",
       "      <td>0.051970</td>\n",
       "      <td>0.247682</td>\n",
       "      <td>0.080662</td>\n",
       "      <td>-0.165178</td>\n",
       "      <td>0.341651</td>\n",
       "      <td>0.134080</td>\n",
       "      <td>-0.271007</td>\n",
       "    </tr>\n",
       "    <tr>\n",
       "      <th>6</th>\n",
       "      <td>6</td>\n",
       "      <td>6_0</td>\n",
       "      <td>COMPLETED</td>\n",
       "      <td>Sobol</td>\n",
       "      <td>GenerationStep_0</td>\n",
       "      <td>5.0</td>\n",
       "      <td>7</td>\n",
       "      <td>12</td>\n",
       "      <td>11</td>\n",
       "      <td>30</td>\n",
       "      <td>...</td>\n",
       "      <td>-0.354004</td>\n",
       "      <td>0.514511</td>\n",
       "      <td>-0.268157</td>\n",
       "      <td>-0.642010</td>\n",
       "      <td>0.415432</td>\n",
       "      <td>-0.214854</td>\n",
       "      <td>-0.431319</td>\n",
       "      <td>-0.580071</td>\n",
       "      <td>-0.950087</td>\n",
       "      <td>-1.181672</td>\n",
       "    </tr>\n",
       "    <tr>\n",
       "      <th>7</th>\n",
       "      <td>7</td>\n",
       "      <td>7_0</td>\n",
       "      <td>COMPLETED</td>\n",
       "      <td>Sobol</td>\n",
       "      <td>GenerationStep_0</td>\n",
       "      <td>11.0</td>\n",
       "      <td>12</td>\n",
       "      <td>6</td>\n",
       "      <td>8</td>\n",
       "      <td>35</td>\n",
       "      <td>...</td>\n",
       "      <td>-0.382414</td>\n",
       "      <td>0.852140</td>\n",
       "      <td>0.151129</td>\n",
       "      <td>-0.352273</td>\n",
       "      <td>0.221513</td>\n",
       "      <td>0.046887</td>\n",
       "      <td>-0.239381</td>\n",
       "      <td>0.160039</td>\n",
       "      <td>-0.709710</td>\n",
       "      <td>-1.358825</td>\n",
       "    </tr>\n",
       "    <tr>\n",
       "      <th>8</th>\n",
       "      <td>8</td>\n",
       "      <td>8_0</td>\n",
       "      <td>COMPLETED</td>\n",
       "      <td>Sobol</td>\n",
       "      <td>GenerationStep_0</td>\n",
       "      <td>6.0</td>\n",
       "      <td>11</td>\n",
       "      <td>7</td>\n",
       "      <td>11</td>\n",
       "      <td>31</td>\n",
       "      <td>...</td>\n",
       "      <td>-0.468167</td>\n",
       "      <td>0.352667</td>\n",
       "      <td>0.021823</td>\n",
       "      <td>-0.496864</td>\n",
       "      <td>0.095443</td>\n",
       "      <td>-0.056417</td>\n",
       "      <td>-0.237519</td>\n",
       "      <td>0.375028</td>\n",
       "      <td>-1.225837</td>\n",
       "      <td>-1.444941</td>\n",
       "    </tr>\n",
       "    <tr>\n",
       "      <th>9</th>\n",
       "      <td>9</td>\n",
       "      <td>9_0</td>\n",
       "      <td>COMPLETED</td>\n",
       "      <td>Sobol</td>\n",
       "      <td>GenerationStep_0</td>\n",
       "      <td>11.0</td>\n",
       "      <td>13</td>\n",
       "      <td>9</td>\n",
       "      <td>9</td>\n",
       "      <td>30</td>\n",
       "      <td>...</td>\n",
       "      <td>-0.076067</td>\n",
       "      <td>-0.319844</td>\n",
       "      <td>-0.573911</td>\n",
       "      <td>-0.965283</td>\n",
       "      <td>0.128872</td>\n",
       "      <td>-0.025865</td>\n",
       "      <td>-0.433866</td>\n",
       "      <td>0.907326</td>\n",
       "      <td>0.662571</td>\n",
       "      <td>-1.392847</td>\n",
       "    </tr>\n",
       "    <tr>\n",
       "      <th>10</th>\n",
       "      <td>10</td>\n",
       "      <td>10_0</td>\n",
       "      <td>COMPLETED</td>\n",
       "      <td>Sobol</td>\n",
       "      <td>GenerationStep_0</td>\n",
       "      <td>11.0</td>\n",
       "      <td>8</td>\n",
       "      <td>12</td>\n",
       "      <td>11</td>\n",
       "      <td>32</td>\n",
       "      <td>...</td>\n",
       "      <td>-0.324683</td>\n",
       "      <td>0.587614</td>\n",
       "      <td>0.244995</td>\n",
       "      <td>-0.923892</td>\n",
       "      <td>0.067149</td>\n",
       "      <td>-0.037220</td>\n",
       "      <td>-0.183502</td>\n",
       "      <td>0.206412</td>\n",
       "      <td>-0.769023</td>\n",
       "      <td>-1.393676</td>\n",
       "    </tr>\n",
       "    <tr>\n",
       "      <th>11</th>\n",
       "      <td>11</td>\n",
       "      <td>11_0</td>\n",
       "      <td>COMPLETED</td>\n",
       "      <td>Sobol</td>\n",
       "      <td>GenerationStep_0</td>\n",
       "      <td>5.0</td>\n",
       "      <td>12</td>\n",
       "      <td>11</td>\n",
       "      <td>11</td>\n",
       "      <td>35</td>\n",
       "      <td>...</td>\n",
       "      <td>-0.338968</td>\n",
       "      <td>0.650296</td>\n",
       "      <td>0.132843</td>\n",
       "      <td>-0.018342</td>\n",
       "      <td>0.333792</td>\n",
       "      <td>0.098529</td>\n",
       "      <td>-0.334411</td>\n",
       "      <td>1.234747</td>\n",
       "      <td>-0.022983</td>\n",
       "      <td>-0.705980</td>\n",
       "    </tr>\n",
       "    <tr>\n",
       "      <th>12</th>\n",
       "      <td>12</td>\n",
       "      <td>12_0</td>\n",
       "      <td>COMPLETED</td>\n",
       "      <td>Sobol</td>\n",
       "      <td>GenerationStep_0</td>\n",
       "      <td>8.0</td>\n",
       "      <td>14</td>\n",
       "      <td>13</td>\n",
       "      <td>6</td>\n",
       "      <td>32</td>\n",
       "      <td>...</td>\n",
       "      <td>-0.414772</td>\n",
       "      <td>0.536043</td>\n",
       "      <td>-0.478770</td>\n",
       "      <td>-0.677587</td>\n",
       "      <td>0.461016</td>\n",
       "      <td>0.005817</td>\n",
       "      <td>-0.344590</td>\n",
       "      <td>0.525173</td>\n",
       "      <td>0.014089</td>\n",
       "      <td>-0.333767</td>\n",
       "    </tr>\n",
       "    <tr>\n",
       "      <th>13</th>\n",
       "      <td>13</td>\n",
       "      <td>13_0</td>\n",
       "      <td>COMPLETED</td>\n",
       "      <td>Sobol</td>\n",
       "      <td>GenerationStep_0</td>\n",
       "      <td>5.0</td>\n",
       "      <td>9</td>\n",
       "      <td>12</td>\n",
       "      <td>7</td>\n",
       "      <td>32</td>\n",
       "      <td>...</td>\n",
       "      <td>-0.282155</td>\n",
       "      <td>0.560111</td>\n",
       "      <td>-0.217772</td>\n",
       "      <td>-0.784981</td>\n",
       "      <td>0.441039</td>\n",
       "      <td>0.273958</td>\n",
       "      <td>-0.026227</td>\n",
       "      <td>1.029406</td>\n",
       "      <td>-0.016937</td>\n",
       "      <td>-1.338568</td>\n",
       "    </tr>\n",
       "    <tr>\n",
       "      <th>14</th>\n",
       "      <td>14</td>\n",
       "      <td>14_0</td>\n",
       "      <td>COMPLETED</td>\n",
       "      <td>Sobol</td>\n",
       "      <td>GenerationStep_0</td>\n",
       "      <td>2.0</td>\n",
       "      <td>13</td>\n",
       "      <td>13</td>\n",
       "      <td>10</td>\n",
       "      <td>32</td>\n",
       "      <td>...</td>\n",
       "      <td>-0.282658</td>\n",
       "      <td>0.760193</td>\n",
       "      <td>0.499701</td>\n",
       "      <td>-0.175536</td>\n",
       "      <td>0.397263</td>\n",
       "      <td>-0.160892</td>\n",
       "      <td>-0.354588</td>\n",
       "      <td>1.238606</td>\n",
       "      <td>-0.508402</td>\n",
       "      <td>-1.415763</td>\n",
       "    </tr>\n",
       "    <tr>\n",
       "      <th>15</th>\n",
       "      <td>15</td>\n",
       "      <td>15_0</td>\n",
       "      <td>COMPLETED</td>\n",
       "      <td>Sobol</td>\n",
       "      <td>GenerationStep_0</td>\n",
       "      <td>3.0</td>\n",
       "      <td>12</td>\n",
       "      <td>7</td>\n",
       "      <td>11</td>\n",
       "      <td>30</td>\n",
       "      <td>...</td>\n",
       "      <td>-0.273999</td>\n",
       "      <td>0.008883</td>\n",
       "      <td>-0.515197</td>\n",
       "      <td>-0.657261</td>\n",
       "      <td>0.497016</td>\n",
       "      <td>0.390308</td>\n",
       "      <td>-0.231924</td>\n",
       "      <td>0.205332</td>\n",
       "      <td>-0.311066</td>\n",
       "      <td>-0.460352</td>\n",
       "    </tr>\n",
       "    <tr>\n",
       "      <th>16</th>\n",
       "      <td>16</td>\n",
       "      <td>16_0</td>\n",
       "      <td>COMPLETED</td>\n",
       "      <td>Sobol</td>\n",
       "      <td>GenerationStep_0</td>\n",
       "      <td>10.0</td>\n",
       "      <td>15</td>\n",
       "      <td>11</td>\n",
       "      <td>7</td>\n",
       "      <td>33</td>\n",
       "      <td>...</td>\n",
       "      <td>-0.337965</td>\n",
       "      <td>0.093636</td>\n",
       "      <td>-0.314787</td>\n",
       "      <td>-0.662842</td>\n",
       "      <td>-0.055426</td>\n",
       "      <td>-0.180858</td>\n",
       "      <td>-0.321709</td>\n",
       "      <td>0.048985</td>\n",
       "      <td>-0.837146</td>\n",
       "      <td>-1.038258</td>\n",
       "    </tr>\n",
       "    <tr>\n",
       "      <th>17</th>\n",
       "      <td>17</td>\n",
       "      <td>17_0</td>\n",
       "      <td>COMPLETED</td>\n",
       "      <td>Sobol</td>\n",
       "      <td>GenerationStep_0</td>\n",
       "      <td>18.0</td>\n",
       "      <td>11</td>\n",
       "      <td>8</td>\n",
       "      <td>8</td>\n",
       "      <td>35</td>\n",
       "      <td>...</td>\n",
       "      <td>-0.212208</td>\n",
       "      <td>0.765981</td>\n",
       "      <td>-0.553679</td>\n",
       "      <td>-0.916666</td>\n",
       "      <td>0.265604</td>\n",
       "      <td>0.009997</td>\n",
       "      <td>-0.203623</td>\n",
       "      <td>1.303938</td>\n",
       "      <td>0.610993</td>\n",
       "      <td>-0.490468</td>\n",
       "    </tr>\n",
       "    <tr>\n",
       "      <th>18</th>\n",
       "      <td>18</td>\n",
       "      <td>18_0</td>\n",
       "      <td>COMPLETED</td>\n",
       "      <td>Sobol</td>\n",
       "      <td>GenerationStep_0</td>\n",
       "      <td>5.0</td>\n",
       "      <td>11</td>\n",
       "      <td>10</td>\n",
       "      <td>9</td>\n",
       "      <td>30</td>\n",
       "      <td>...</td>\n",
       "      <td>-0.430243</td>\n",
       "      <td>0.468718</td>\n",
       "      <td>-0.843845</td>\n",
       "      <td>-0.979679</td>\n",
       "      <td>0.478675</td>\n",
       "      <td>0.060455</td>\n",
       "      <td>-0.270652</td>\n",
       "      <td>0.474935</td>\n",
       "      <td>-0.510951</td>\n",
       "      <td>-0.752519</td>\n",
       "    </tr>\n",
       "    <tr>\n",
       "      <th>19</th>\n",
       "      <td>19</td>\n",
       "      <td>19_0</td>\n",
       "      <td>COMPLETED</td>\n",
       "      <td>Sobol</td>\n",
       "      <td>GenerationStep_0</td>\n",
       "      <td>10.0</td>\n",
       "      <td>12</td>\n",
       "      <td>11</td>\n",
       "      <td>5</td>\n",
       "      <td>29</td>\n",
       "      <td>...</td>\n",
       "      <td>-0.252487</td>\n",
       "      <td>0.633961</td>\n",
       "      <td>-0.093441</td>\n",
       "      <td>-0.611032</td>\n",
       "      <td>0.225951</td>\n",
       "      <td>0.096162</td>\n",
       "      <td>-0.034798</td>\n",
       "      <td>1.271505</td>\n",
       "      <td>0.982726</td>\n",
       "      <td>-0.788398</td>\n",
       "    </tr>\n",
       "    <tr>\n",
       "      <th>20</th>\n",
       "      <td>20</td>\n",
       "      <td>20_0</td>\n",
       "      <td>COMPLETED</td>\n",
       "      <td>Sobol</td>\n",
       "      <td>GenerationStep_0</td>\n",
       "      <td>4.0</td>\n",
       "      <td>9</td>\n",
       "      <td>9</td>\n",
       "      <td>9</td>\n",
       "      <td>31</td>\n",
       "      <td>...</td>\n",
       "      <td>-0.238014</td>\n",
       "      <td>0.843290</td>\n",
       "      <td>-0.139202</td>\n",
       "      <td>-0.806879</td>\n",
       "      <td>0.283790</td>\n",
       "      <td>-0.203730</td>\n",
       "      <td>-0.317319</td>\n",
       "      <td>-0.263311</td>\n",
       "      <td>-0.672656</td>\n",
       "      <td>-1.380677</td>\n",
       "    </tr>\n",
       "    <tr>\n",
       "      <th>21</th>\n",
       "      <td>21</td>\n",
       "      <td>21_0</td>\n",
       "      <td>COMPLETED</td>\n",
       "      <td>Sobol</td>\n",
       "      <td>GenerationStep_0</td>\n",
       "      <td>13.0</td>\n",
       "      <td>7</td>\n",
       "      <td>11</td>\n",
       "      <td>12</td>\n",
       "      <td>30</td>\n",
       "      <td>...</td>\n",
       "      <td>-0.267472</td>\n",
       "      <td>0.255166</td>\n",
       "      <td>0.126869</td>\n",
       "      <td>-0.492673</td>\n",
       "      <td>0.418016</td>\n",
       "      <td>-0.138899</td>\n",
       "      <td>-0.291162</td>\n",
       "      <td>1.153422</td>\n",
       "      <td>0.017355</td>\n",
       "      <td>-1.090867</td>\n",
       "    </tr>\n",
       "    <tr>\n",
       "      <th>22</th>\n",
       "      <td>22</td>\n",
       "      <td>22_0</td>\n",
       "      <td>COMPLETED</td>\n",
       "      <td>Sobol</td>\n",
       "      <td>GenerationStep_0</td>\n",
       "      <td>4.0</td>\n",
       "      <td>13</td>\n",
       "      <td>9</td>\n",
       "      <td>11</td>\n",
       "      <td>33</td>\n",
       "      <td>...</td>\n",
       "      <td>-0.441218</td>\n",
       "      <td>0.589633</td>\n",
       "      <td>-0.431220</td>\n",
       "      <td>-0.685822</td>\n",
       "      <td>0.139453</td>\n",
       "      <td>-0.087260</td>\n",
       "      <td>-0.440623</td>\n",
       "      <td>0.653056</td>\n",
       "      <td>-0.352732</td>\n",
       "      <td>-1.090172</td>\n",
       "    </tr>\n",
       "    <tr>\n",
       "      <th>23</th>\n",
       "      <td>23</td>\n",
       "      <td>23_0</td>\n",
       "      <td>COMPLETED</td>\n",
       "      <td>Sobol</td>\n",
       "      <td>GenerationStep_0</td>\n",
       "      <td>4.0</td>\n",
       "      <td>15</td>\n",
       "      <td>8</td>\n",
       "      <td>9</td>\n",
       "      <td>29</td>\n",
       "      <td>...</td>\n",
       "      <td>-0.430968</td>\n",
       "      <td>0.806623</td>\n",
       "      <td>0.598915</td>\n",
       "      <td>0.300458</td>\n",
       "      <td>0.225079</td>\n",
       "      <td>-0.116840</td>\n",
       "      <td>-0.270366</td>\n",
       "      <td>1.307304</td>\n",
       "      <td>1.090993</td>\n",
       "      <td>0.853437</td>\n",
       "    </tr>\n",
       "    <tr>\n",
       "      <th>24</th>\n",
       "      <td>24</td>\n",
       "      <td>24_0</td>\n",
       "      <td>COMPLETED</td>\n",
       "      <td>Sobol</td>\n",
       "      <td>GenerationStep_0</td>\n",
       "      <td>3.0</td>\n",
       "      <td>9</td>\n",
       "      <td>12</td>\n",
       "      <td>7</td>\n",
       "      <td>34</td>\n",
       "      <td>...</td>\n",
       "      <td>-0.413540</td>\n",
       "      <td>0.465138</td>\n",
       "      <td>0.049957</td>\n",
       "      <td>-0.574587</td>\n",
       "      <td>0.102481</td>\n",
       "      <td>-0.038154</td>\n",
       "      <td>-0.398917</td>\n",
       "      <td>1.474444</td>\n",
       "      <td>0.627102</td>\n",
       "      <td>-1.328766</td>\n",
       "    </tr>\n",
       "    <tr>\n",
       "      <th>25</th>\n",
       "      <td>25</td>\n",
       "      <td>25_0</td>\n",
       "      <td>COMPLETED</td>\n",
       "      <td>Sobol</td>\n",
       "      <td>GenerationStep_0</td>\n",
       "      <td>2.0</td>\n",
       "      <td>11</td>\n",
       "      <td>14</td>\n",
       "      <td>5</td>\n",
       "      <td>31</td>\n",
       "      <td>...</td>\n",
       "      <td>-0.358405</td>\n",
       "      <td>0.998259</td>\n",
       "      <td>-0.665749</td>\n",
       "      <td>-0.902720</td>\n",
       "      <td>0.376706</td>\n",
       "      <td>0.005550</td>\n",
       "      <td>-0.487177</td>\n",
       "      <td>0.844505</td>\n",
       "      <td>0.669682</td>\n",
       "      <td>0.439591</td>\n",
       "    </tr>\n",
       "    <tr>\n",
       "      <th>26</th>\n",
       "      <td>26</td>\n",
       "      <td>26_0</td>\n",
       "      <td>COMPLETED</td>\n",
       "      <td>Sobol</td>\n",
       "      <td>GenerationStep_0</td>\n",
       "      <td>10.0</td>\n",
       "      <td>9</td>\n",
       "      <td>13</td>\n",
       "      <td>5</td>\n",
       "      <td>34</td>\n",
       "      <td>...</td>\n",
       "      <td>-0.073421</td>\n",
       "      <td>0.703659</td>\n",
       "      <td>-0.209462</td>\n",
       "      <td>-0.390506</td>\n",
       "      <td>0.401286</td>\n",
       "      <td>0.237647</td>\n",
       "      <td>-0.256544</td>\n",
       "      <td>1.017838</td>\n",
       "      <td>-0.296759</td>\n",
       "      <td>-0.613600</td>\n",
       "    </tr>\n",
       "    <tr>\n",
       "      <th>27</th>\n",
       "      <td>27</td>\n",
       "      <td>27_0</td>\n",
       "      <td>COMPLETED</td>\n",
       "      <td>Sobol</td>\n",
       "      <td>GenerationStep_0</td>\n",
       "      <td>3.0</td>\n",
       "      <td>10</td>\n",
       "      <td>13</td>\n",
       "      <td>13</td>\n",
       "      <td>28</td>\n",
       "      <td>...</td>\n",
       "      <td>-0.070271</td>\n",
       "      <td>0.918250</td>\n",
       "      <td>0.284812</td>\n",
       "      <td>-0.576528</td>\n",
       "      <td>0.432195</td>\n",
       "      <td>0.312839</td>\n",
       "      <td>-0.491738</td>\n",
       "      <td>1.474843</td>\n",
       "      <td>0.481756</td>\n",
       "      <td>0.123602</td>\n",
       "    </tr>\n",
       "    <tr>\n",
       "      <th>28</th>\n",
       "      <td>28</td>\n",
       "      <td>28_0</td>\n",
       "      <td>COMPLETED</td>\n",
       "      <td>Sobol</td>\n",
       "      <td>GenerationStep_0</td>\n",
       "      <td>4.0</td>\n",
       "      <td>9</td>\n",
       "      <td>9</td>\n",
       "      <td>13</td>\n",
       "      <td>28</td>\n",
       "      <td>...</td>\n",
       "      <td>-0.193176</td>\n",
       "      <td>0.845889</td>\n",
       "      <td>0.283894</td>\n",
       "      <td>-0.473840</td>\n",
       "      <td>0.388599</td>\n",
       "      <td>0.099752</td>\n",
       "      <td>-0.425111</td>\n",
       "      <td>-0.190020</td>\n",
       "      <td>-0.651820</td>\n",
       "      <td>-1.240542</td>\n",
       "    </tr>\n",
       "    <tr>\n",
       "      <th>29</th>\n",
       "      <td>29</td>\n",
       "      <td>29_0</td>\n",
       "      <td>COMPLETED</td>\n",
       "      <td>Sobol</td>\n",
       "      <td>GenerationStep_0</td>\n",
       "      <td>2.0</td>\n",
       "      <td>9</td>\n",
       "      <td>12</td>\n",
       "      <td>7</td>\n",
       "      <td>35</td>\n",
       "      <td>...</td>\n",
       "      <td>-0.491383</td>\n",
       "      <td>0.616983</td>\n",
       "      <td>0.191381</td>\n",
       "      <td>-0.314586</td>\n",
       "      <td>0.314864</td>\n",
       "      <td>-0.068009</td>\n",
       "      <td>-0.461810</td>\n",
       "      <td>0.599367</td>\n",
       "      <td>-1.050551</td>\n",
       "      <td>-1.224279</td>\n",
       "    </tr>\n",
       "    <tr>\n",
       "      <th>30</th>\n",
       "      <td>30</td>\n",
       "      <td>30_0</td>\n",
       "      <td>COMPLETED</td>\n",
       "      <td>Sobol</td>\n",
       "      <td>GenerationStep_0</td>\n",
       "      <td>3.0</td>\n",
       "      <td>15</td>\n",
       "      <td>8</td>\n",
       "      <td>6</td>\n",
       "      <td>27</td>\n",
       "      <td>...</td>\n",
       "      <td>-0.309921</td>\n",
       "      <td>0.220551</td>\n",
       "      <td>-0.488030</td>\n",
       "      <td>-0.616438</td>\n",
       "      <td>0.028764</td>\n",
       "      <td>-0.135060</td>\n",
       "      <td>-0.312558</td>\n",
       "      <td>1.216502</td>\n",
       "      <td>0.803899</td>\n",
       "      <td>-1.223584</td>\n",
       "    </tr>\n",
       "    <tr>\n",
       "      <th>31</th>\n",
       "      <td>31</td>\n",
       "      <td>31_0</td>\n",
       "      <td>COMPLETED</td>\n",
       "      <td>Sobol</td>\n",
       "      <td>GenerationStep_0</td>\n",
       "      <td>4.0</td>\n",
       "      <td>11</td>\n",
       "      <td>9</td>\n",
       "      <td>11</td>\n",
       "      <td>28</td>\n",
       "      <td>...</td>\n",
       "      <td>-0.278800</td>\n",
       "      <td>0.919202</td>\n",
       "      <td>0.609352</td>\n",
       "      <td>-0.109904</td>\n",
       "      <td>0.356424</td>\n",
       "      <td>-0.081116</td>\n",
       "      <td>-0.439565</td>\n",
       "      <td>-0.149384</td>\n",
       "      <td>-0.615048</td>\n",
       "      <td>-1.394528</td>\n",
       "    </tr>\n",
       "    <tr>\n",
       "      <th>32</th>\n",
       "      <td>32</td>\n",
       "      <td>32_0</td>\n",
       "      <td>COMPLETED</td>\n",
       "      <td>Sobol</td>\n",
       "      <td>GenerationStep_0</td>\n",
       "      <td>4.0</td>\n",
       "      <td>7</td>\n",
       "      <td>7</td>\n",
       "      <td>10</td>\n",
       "      <td>29</td>\n",
       "      <td>...</td>\n",
       "      <td>-0.198794</td>\n",
       "      <td>0.520821</td>\n",
       "      <td>-0.527788</td>\n",
       "      <td>-0.843626</td>\n",
       "      <td>0.122679</td>\n",
       "      <td>-0.179833</td>\n",
       "      <td>-0.330934</td>\n",
       "      <td>1.226565</td>\n",
       "      <td>0.228400</td>\n",
       "      <td>-1.495501</td>\n",
       "    </tr>\n",
       "    <tr>\n",
       "      <th>33</th>\n",
       "      <td>33</td>\n",
       "      <td>33_0</td>\n",
       "      <td>COMPLETED</td>\n",
       "      <td>Sobol</td>\n",
       "      <td>GenerationStep_0</td>\n",
       "      <td>13.0</td>\n",
       "      <td>11</td>\n",
       "      <td>8</td>\n",
       "      <td>11</td>\n",
       "      <td>30</td>\n",
       "      <td>...</td>\n",
       "      <td>-0.133521</td>\n",
       "      <td>0.482712</td>\n",
       "      <td>0.056779</td>\n",
       "      <td>-0.992828</td>\n",
       "      <td>0.452960</td>\n",
       "      <td>0.313596</td>\n",
       "      <td>-0.456010</td>\n",
       "      <td>0.717649</td>\n",
       "      <td>0.548131</td>\n",
       "      <td>-0.579734</td>\n",
       "    </tr>\n",
       "    <tr>\n",
       "      <th>34</th>\n",
       "      <td>34</td>\n",
       "      <td>34_0</td>\n",
       "      <td>COMPLETED</td>\n",
       "      <td>Sobol</td>\n",
       "      <td>GenerationStep_0</td>\n",
       "      <td>16.0</td>\n",
       "      <td>12</td>\n",
       "      <td>7</td>\n",
       "      <td>10</td>\n",
       "      <td>29</td>\n",
       "      <td>...</td>\n",
       "      <td>-0.334931</td>\n",
       "      <td>0.564765</td>\n",
       "      <td>0.243620</td>\n",
       "      <td>-0.200269</td>\n",
       "      <td>0.422512</td>\n",
       "      <td>0.147548</td>\n",
       "      <td>-0.494425</td>\n",
       "      <td>-0.141912</td>\n",
       "      <td>-0.355214</td>\n",
       "      <td>-0.638365</td>\n",
       "    </tr>\n",
       "    <tr>\n",
       "      <th>35</th>\n",
       "      <td>35</td>\n",
       "      <td>35_0</td>\n",
       "      <td>COMPLETED</td>\n",
       "      <td>Sobol</td>\n",
       "      <td>GenerationStep_0</td>\n",
       "      <td>23.0</td>\n",
       "      <td>12</td>\n",
       "      <td>8</td>\n",
       "      <td>5</td>\n",
       "      <td>35</td>\n",
       "      <td>...</td>\n",
       "      <td>-0.445514</td>\n",
       "      <td>0.722113</td>\n",
       "      <td>0.170112</td>\n",
       "      <td>0.038937</td>\n",
       "      <td>0.481426</td>\n",
       "      <td>0.251735</td>\n",
       "      <td>-0.172327</td>\n",
       "      <td>0.818466</td>\n",
       "      <td>-1.282179</td>\n",
       "      <td>-1.445657</td>\n",
       "    </tr>\n",
       "    <tr>\n",
       "      <th>36</th>\n",
       "      <td>36</td>\n",
       "      <td>36_0</td>\n",
       "      <td>COMPLETED</td>\n",
       "      <td>Sobol</td>\n",
       "      <td>GenerationStep_0</td>\n",
       "      <td>15.0</td>\n",
       "      <td>11</td>\n",
       "      <td>14</td>\n",
       "      <td>5</td>\n",
       "      <td>35</td>\n",
       "      <td>...</td>\n",
       "      <td>-0.280855</td>\n",
       "      <td>0.474284</td>\n",
       "      <td>0.153125</td>\n",
       "      <td>-0.262139</td>\n",
       "      <td>0.213840</td>\n",
       "      <td>0.031316</td>\n",
       "      <td>-0.163895</td>\n",
       "      <td>1.192276</td>\n",
       "      <td>0.449605</td>\n",
       "      <td>-0.126463</td>\n",
       "    </tr>\n",
       "    <tr>\n",
       "      <th>37</th>\n",
       "      <td>37</td>\n",
       "      <td>37_0</td>\n",
       "      <td>COMPLETED</td>\n",
       "      <td>Sobol</td>\n",
       "      <td>GenerationStep_0</td>\n",
       "      <td>9.0</td>\n",
       "      <td>15</td>\n",
       "      <td>7</td>\n",
       "      <td>12</td>\n",
       "      <td>30</td>\n",
       "      <td>...</td>\n",
       "      <td>-0.067172</td>\n",
       "      <td>0.491378</td>\n",
       "      <td>0.298547</td>\n",
       "      <td>-0.608990</td>\n",
       "      <td>0.465521</td>\n",
       "      <td>0.091849</td>\n",
       "      <td>-0.162532</td>\n",
       "      <td>0.837645</td>\n",
       "      <td>-0.551105</td>\n",
       "      <td>-1.046020</td>\n",
       "    </tr>\n",
       "    <tr>\n",
       "      <th>38</th>\n",
       "      <td>38</td>\n",
       "      <td>38_0</td>\n",
       "      <td>COMPLETED</td>\n",
       "      <td>Sobol</td>\n",
       "      <td>GenerationStep_0</td>\n",
       "      <td>12.0</td>\n",
       "      <td>7</td>\n",
       "      <td>14</td>\n",
       "      <td>8</td>\n",
       "      <td>28</td>\n",
       "      <td>...</td>\n",
       "      <td>-0.098531</td>\n",
       "      <td>0.613916</td>\n",
       "      <td>-0.179248</td>\n",
       "      <td>-0.651463</td>\n",
       "      <td>0.312515</td>\n",
       "      <td>0.033528</td>\n",
       "      <td>-0.202324</td>\n",
       "      <td>0.171988</td>\n",
       "      <td>0.055551</td>\n",
       "      <td>-1.366187</td>\n",
       "    </tr>\n",
       "    <tr>\n",
       "      <th>39</th>\n",
       "      <td>39</td>\n",
       "      <td>39_0</td>\n",
       "      <td>COMPLETED</td>\n",
       "      <td>Sobol</td>\n",
       "      <td>GenerationStep_0</td>\n",
       "      <td>4.0</td>\n",
       "      <td>7</td>\n",
       "      <td>8</td>\n",
       "      <td>9</td>\n",
       "      <td>32</td>\n",
       "      <td>...</td>\n",
       "      <td>-0.309388</td>\n",
       "      <td>0.171631</td>\n",
       "      <td>-0.476652</td>\n",
       "      <td>-0.710236</td>\n",
       "      <td>0.468162</td>\n",
       "      <td>0.021358</td>\n",
       "      <td>-0.273180</td>\n",
       "      <td>0.815500</td>\n",
       "      <td>-0.318551</td>\n",
       "      <td>-1.151427</td>\n",
       "    </tr>\n",
       "    <tr>\n",
       "      <th>40</th>\n",
       "      <td>40</td>\n",
       "      <td>40_0</td>\n",
       "      <td>COMPLETED</td>\n",
       "      <td>Sobol</td>\n",
       "      <td>GenerationStep_0</td>\n",
       "      <td>15.0</td>\n",
       "      <td>8</td>\n",
       "      <td>13</td>\n",
       "      <td>9</td>\n",
       "      <td>30</td>\n",
       "      <td>...</td>\n",
       "      <td>-0.426923</td>\n",
       "      <td>0.206654</td>\n",
       "      <td>0.045408</td>\n",
       "      <td>-0.675600</td>\n",
       "      <td>0.283750</td>\n",
       "      <td>0.143823</td>\n",
       "      <td>-0.028566</td>\n",
       "      <td>1.434858</td>\n",
       "      <td>0.212313</td>\n",
       "      <td>-0.470594</td>\n",
       "    </tr>\n",
       "    <tr>\n",
       "      <th>41</th>\n",
       "      <td>41</td>\n",
       "      <td>41_0</td>\n",
       "      <td>COMPLETED</td>\n",
       "      <td>Sobol</td>\n",
       "      <td>GenerationStep_0</td>\n",
       "      <td>5.0</td>\n",
       "      <td>10</td>\n",
       "      <td>8</td>\n",
       "      <td>8</td>\n",
       "      <td>28</td>\n",
       "      <td>...</td>\n",
       "      <td>0.017333</td>\n",
       "      <td>0.767957</td>\n",
       "      <td>0.233234</td>\n",
       "      <td>-0.417394</td>\n",
       "      <td>0.477265</td>\n",
       "      <td>0.258775</td>\n",
       "      <td>0.156054</td>\n",
       "      <td>0.786017</td>\n",
       "      <td>-0.884349</td>\n",
       "      <td>-1.143639</td>\n",
       "    </tr>\n",
       "    <tr>\n",
       "      <th>42</th>\n",
       "      <td>42</td>\n",
       "      <td>42_0</td>\n",
       "      <td>COMPLETED</td>\n",
       "      <td>BoTorch</td>\n",
       "      <td>GenerationStep_1</td>\n",
       "      <td>26.0</td>\n",
       "      <td>13</td>\n",
       "      <td>8</td>\n",
       "      <td>5</td>\n",
       "      <td>35</td>\n",
       "      <td>...</td>\n",
       "      <td>-0.451667</td>\n",
       "      <td>0.556322</td>\n",
       "      <td>0.134683</td>\n",
       "      <td>-0.008124</td>\n",
       "      <td>0.491946</td>\n",
       "      <td>0.307941</td>\n",
       "      <td>-0.136811</td>\n",
       "      <td>0.809477</td>\n",
       "      <td>-1.230596</td>\n",
       "      <td>-1.500000</td>\n",
       "    </tr>\n",
       "    <tr>\n",
       "      <th>43</th>\n",
       "      <td>43</td>\n",
       "      <td>43_0</td>\n",
       "      <td>COMPLETED</td>\n",
       "      <td>None</td>\n",
       "      <td>None</td>\n",
       "      <td>30.0</td>\n",
       "      <td>10</td>\n",
       "      <td>8</td>\n",
       "      <td>6</td>\n",
       "      <td>32</td>\n",
       "      <td>...</td>\n",
       "      <td>0.300000</td>\n",
       "      <td>0.800000</td>\n",
       "      <td>0.700000</td>\n",
       "      <td>0.600000</td>\n",
       "      <td>0.400000</td>\n",
       "      <td>0.300000</td>\n",
       "      <td>0.200000</td>\n",
       "      <td>1.200000</td>\n",
       "      <td>1.000000</td>\n",
       "      <td>0.800000</td>\n",
       "    </tr>\n",
       "    <tr>\n",
       "      <th>44</th>\n",
       "      <td>44</td>\n",
       "      <td>44_0</td>\n",
       "      <td>COMPLETED</td>\n",
       "      <td>None</td>\n",
       "      <td>None</td>\n",
       "      <td>79.0</td>\n",
       "      <td>7</td>\n",
       "      <td>6</td>\n",
       "      <td>5</td>\n",
       "      <td>27</td>\n",
       "      <td>...</td>\n",
       "      <td>0.300000</td>\n",
       "      <td>0.800000</td>\n",
       "      <td>0.700000</td>\n",
       "      <td>0.600000</td>\n",
       "      <td>0.400000</td>\n",
       "      <td>0.300000</td>\n",
       "      <td>0.200000</td>\n",
       "      <td>1.000000</td>\n",
       "      <td>0.900000</td>\n",
       "      <td>0.800000</td>\n",
       "    </tr>\n",
       "    <tr>\n",
       "      <th>45</th>\n",
       "      <td>45</td>\n",
       "      <td>45_0</td>\n",
       "      <td>COMPLETED</td>\n",
       "      <td>None</td>\n",
       "      <td>None</td>\n",
       "      <td>90.0</td>\n",
       "      <td>8</td>\n",
       "      <td>6</td>\n",
       "      <td>5</td>\n",
       "      <td>29</td>\n",
       "      <td>...</td>\n",
       "      <td>0.300000</td>\n",
       "      <td>0.635967</td>\n",
       "      <td>0.535967</td>\n",
       "      <td>0.435967</td>\n",
       "      <td>0.500000</td>\n",
       "      <td>0.400000</td>\n",
       "      <td>0.300000</td>\n",
       "      <td>1.072711</td>\n",
       "      <td>0.972711</td>\n",
       "      <td>0.872711</td>\n",
       "    </tr>\n",
       "    <tr>\n",
       "      <th>46</th>\n",
       "      <td>46</td>\n",
       "      <td>46_0</td>\n",
       "      <td>COMPLETED</td>\n",
       "      <td>None</td>\n",
       "      <td>None</td>\n",
       "      <td>90.0</td>\n",
       "      <td>8</td>\n",
       "      <td>6</td>\n",
       "      <td>5</td>\n",
       "      <td>29</td>\n",
       "      <td>...</td>\n",
       "      <td>0.300000</td>\n",
       "      <td>0.636000</td>\n",
       "      <td>0.536000</td>\n",
       "      <td>0.436000</td>\n",
       "      <td>0.500000</td>\n",
       "      <td>0.400000</td>\n",
       "      <td>0.300000</td>\n",
       "      <td>1.073000</td>\n",
       "      <td>0.973000</td>\n",
       "      <td>0.873000</td>\n",
       "    </tr>\n",
       "  </tbody>\n",
       "</table>\n",
       "<p>47 rows × 27 columns</p>\n",
       "</div>"
      ],
      "text/plain": [
       "    trial_index arm_name trial_status generation_method   generation_node  \\\n",
       "0             0      0_0    COMPLETED             Sobol  GenerationStep_0   \n",
       "1             1      1_0    COMPLETED             Sobol  GenerationStep_0   \n",
       "2             2      2_0    COMPLETED             Sobol  GenerationStep_0   \n",
       "3             3      3_0    COMPLETED             Sobol  GenerationStep_0   \n",
       "4             4      4_0    COMPLETED             Sobol  GenerationStep_0   \n",
       "5             5      5_0    COMPLETED             Sobol  GenerationStep_0   \n",
       "6             6      6_0    COMPLETED             Sobol  GenerationStep_0   \n",
       "7             7      7_0    COMPLETED             Sobol  GenerationStep_0   \n",
       "8             8      8_0    COMPLETED             Sobol  GenerationStep_0   \n",
       "9             9      9_0    COMPLETED             Sobol  GenerationStep_0   \n",
       "10           10     10_0    COMPLETED             Sobol  GenerationStep_0   \n",
       "11           11     11_0    COMPLETED             Sobol  GenerationStep_0   \n",
       "12           12     12_0    COMPLETED             Sobol  GenerationStep_0   \n",
       "13           13     13_0    COMPLETED             Sobol  GenerationStep_0   \n",
       "14           14     14_0    COMPLETED             Sobol  GenerationStep_0   \n",
       "15           15     15_0    COMPLETED             Sobol  GenerationStep_0   \n",
       "16           16     16_0    COMPLETED             Sobol  GenerationStep_0   \n",
       "17           17     17_0    COMPLETED             Sobol  GenerationStep_0   \n",
       "18           18     18_0    COMPLETED             Sobol  GenerationStep_0   \n",
       "19           19     19_0    COMPLETED             Sobol  GenerationStep_0   \n",
       "20           20     20_0    COMPLETED             Sobol  GenerationStep_0   \n",
       "21           21     21_0    COMPLETED             Sobol  GenerationStep_0   \n",
       "22           22     22_0    COMPLETED             Sobol  GenerationStep_0   \n",
       "23           23     23_0    COMPLETED             Sobol  GenerationStep_0   \n",
       "24           24     24_0    COMPLETED             Sobol  GenerationStep_0   \n",
       "25           25     25_0    COMPLETED             Sobol  GenerationStep_0   \n",
       "26           26     26_0    COMPLETED             Sobol  GenerationStep_0   \n",
       "27           27     27_0    COMPLETED             Sobol  GenerationStep_0   \n",
       "28           28     28_0    COMPLETED             Sobol  GenerationStep_0   \n",
       "29           29     29_0    COMPLETED             Sobol  GenerationStep_0   \n",
       "30           30     30_0    COMPLETED             Sobol  GenerationStep_0   \n",
       "31           31     31_0    COMPLETED             Sobol  GenerationStep_0   \n",
       "32           32     32_0    COMPLETED             Sobol  GenerationStep_0   \n",
       "33           33     33_0    COMPLETED             Sobol  GenerationStep_0   \n",
       "34           34     34_0    COMPLETED             Sobol  GenerationStep_0   \n",
       "35           35     35_0    COMPLETED             Sobol  GenerationStep_0   \n",
       "36           36     36_0    COMPLETED             Sobol  GenerationStep_0   \n",
       "37           37     37_0    COMPLETED             Sobol  GenerationStep_0   \n",
       "38           38     38_0    COMPLETED             Sobol  GenerationStep_0   \n",
       "39           39     39_0    COMPLETED             Sobol  GenerationStep_0   \n",
       "40           40     40_0    COMPLETED             Sobol  GenerationStep_0   \n",
       "41           41     41_0    COMPLETED             Sobol  GenerationStep_0   \n",
       "42           42     42_0    COMPLETED           BoTorch  GenerationStep_1   \n",
       "43           43     43_0    COMPLETED              None              None   \n",
       "44           44     44_0    COMPLETED              None              None   \n",
       "45           45     45_0    COMPLETED              None              None   \n",
       "46           46     46_0    COMPLETED              None              None   \n",
       "\n",
       "    Viable_Cross_Terms  z_sh  z_sh_1  z_sh_2  z_p2  ...     x_s_2      x_p1  \\\n",
       "0                  5.0    12      13      13    30  ... -0.039872  0.860567   \n",
       "1                 16.0     9      12       6    28  ...  0.061762  0.280179   \n",
       "2                 12.0    14      14      10    28  ... -0.492182  0.533445   \n",
       "3                 20.0    14       9       7    31  ... -0.387237  0.271144   \n",
       "4                  7.0     8      14       6    29  ...  0.056943  0.874702   \n",
       "5                 15.0     7      12       7    33  ... -0.172550  0.785026   \n",
       "6                  5.0     7      12      11    30  ... -0.354004  0.514511   \n",
       "7                 11.0    12       6       8    35  ... -0.382414  0.852140   \n",
       "8                  6.0    11       7      11    31  ... -0.468167  0.352667   \n",
       "9                 11.0    13       9       9    30  ... -0.076067 -0.319844   \n",
       "10                11.0     8      12      11    32  ... -0.324683  0.587614   \n",
       "11                 5.0    12      11      11    35  ... -0.338968  0.650296   \n",
       "12                 8.0    14      13       6    32  ... -0.414772  0.536043   \n",
       "13                 5.0     9      12       7    32  ... -0.282155  0.560111   \n",
       "14                 2.0    13      13      10    32  ... -0.282658  0.760193   \n",
       "15                 3.0    12       7      11    30  ... -0.273999  0.008883   \n",
       "16                10.0    15      11       7    33  ... -0.337965  0.093636   \n",
       "17                18.0    11       8       8    35  ... -0.212208  0.765981   \n",
       "18                 5.0    11      10       9    30  ... -0.430243  0.468718   \n",
       "19                10.0    12      11       5    29  ... -0.252487  0.633961   \n",
       "20                 4.0     9       9       9    31  ... -0.238014  0.843290   \n",
       "21                13.0     7      11      12    30  ... -0.267472  0.255166   \n",
       "22                 4.0    13       9      11    33  ... -0.441218  0.589633   \n",
       "23                 4.0    15       8       9    29  ... -0.430968  0.806623   \n",
       "24                 3.0     9      12       7    34  ... -0.413540  0.465138   \n",
       "25                 2.0    11      14       5    31  ... -0.358405  0.998259   \n",
       "26                10.0     9      13       5    34  ... -0.073421  0.703659   \n",
       "27                 3.0    10      13      13    28  ... -0.070271  0.918250   \n",
       "28                 4.0     9       9      13    28  ... -0.193176  0.845889   \n",
       "29                 2.0     9      12       7    35  ... -0.491383  0.616983   \n",
       "30                 3.0    15       8       6    27  ... -0.309921  0.220551   \n",
       "31                 4.0    11       9      11    28  ... -0.278800  0.919202   \n",
       "32                 4.0     7       7      10    29  ... -0.198794  0.520821   \n",
       "33                13.0    11       8      11    30  ... -0.133521  0.482712   \n",
       "34                16.0    12       7      10    29  ... -0.334931  0.564765   \n",
       "35                23.0    12       8       5    35  ... -0.445514  0.722113   \n",
       "36                15.0    11      14       5    35  ... -0.280855  0.474284   \n",
       "37                 9.0    15       7      12    30  ... -0.067172  0.491378   \n",
       "38                12.0     7      14       8    28  ... -0.098531  0.613916   \n",
       "39                 4.0     7       8       9    32  ... -0.309388  0.171631   \n",
       "40                15.0     8      13       9    30  ... -0.426923  0.206654   \n",
       "41                 5.0    10       8       8    28  ...  0.017333  0.767957   \n",
       "42                26.0    13       8       5    35  ... -0.451667  0.556322   \n",
       "43                30.0    10       8       6    32  ...  0.300000  0.800000   \n",
       "44                79.0     7       6       5    27  ...  0.300000  0.800000   \n",
       "45                90.0     8       6       5    29  ...  0.300000  0.635967   \n",
       "46                90.0     8       6       5    29  ...  0.300000  0.636000   \n",
       "\n",
       "      x_p1_1    x_p1_2      x_p2    x_p2_1    x_p2_2      x_r2    x_r2_1  \\\n",
       "0   0.054660 -0.905615  0.445594  0.329129 -0.405654  1.007899 -0.622691   \n",
       "1  -0.216793 -0.674284  0.482764  0.303063 -0.240026  1.027452 -0.226139   \n",
       "2   0.067106 -0.092637  0.318919 -0.178784 -0.420800  0.499900  0.174703   \n",
       "3  -0.010371 -0.357360  0.408685  0.247238 -0.078927  1.035394 -0.490845   \n",
       "4   0.114893 -0.669673  0.148211  0.013402 -0.094170  0.051563 -0.066229   \n",
       "5   0.661065  0.051970  0.247682  0.080662 -0.165178  0.341651  0.134080   \n",
       "6  -0.268157 -0.642010  0.415432 -0.214854 -0.431319 -0.580071 -0.950087   \n",
       "7   0.151129 -0.352273  0.221513  0.046887 -0.239381  0.160039 -0.709710   \n",
       "8   0.021823 -0.496864  0.095443 -0.056417 -0.237519  0.375028 -1.225837   \n",
       "9  -0.573911 -0.965283  0.128872 -0.025865 -0.433866  0.907326  0.662571   \n",
       "10  0.244995 -0.923892  0.067149 -0.037220 -0.183502  0.206412 -0.769023   \n",
       "11  0.132843 -0.018342  0.333792  0.098529 -0.334411  1.234747 -0.022983   \n",
       "12 -0.478770 -0.677587  0.461016  0.005817 -0.344590  0.525173  0.014089   \n",
       "13 -0.217772 -0.784981  0.441039  0.273958 -0.026227  1.029406 -0.016937   \n",
       "14  0.499701 -0.175536  0.397263 -0.160892 -0.354588  1.238606 -0.508402   \n",
       "15 -0.515197 -0.657261  0.497016  0.390308 -0.231924  0.205332 -0.311066   \n",
       "16 -0.314787 -0.662842 -0.055426 -0.180858 -0.321709  0.048985 -0.837146   \n",
       "17 -0.553679 -0.916666  0.265604  0.009997 -0.203623  1.303938  0.610993   \n",
       "18 -0.843845 -0.979679  0.478675  0.060455 -0.270652  0.474935 -0.510951   \n",
       "19 -0.093441 -0.611032  0.225951  0.096162 -0.034798  1.271505  0.982726   \n",
       "20 -0.139202 -0.806879  0.283790 -0.203730 -0.317319 -0.263311 -0.672656   \n",
       "21  0.126869 -0.492673  0.418016 -0.138899 -0.291162  1.153422  0.017355   \n",
       "22 -0.431220 -0.685822  0.139453 -0.087260 -0.440623  0.653056 -0.352732   \n",
       "23  0.598915  0.300458  0.225079 -0.116840 -0.270366  1.307304  1.090993   \n",
       "24  0.049957 -0.574587  0.102481 -0.038154 -0.398917  1.474444  0.627102   \n",
       "25 -0.665749 -0.902720  0.376706  0.005550 -0.487177  0.844505  0.669682   \n",
       "26 -0.209462 -0.390506  0.401286  0.237647 -0.256544  1.017838 -0.296759   \n",
       "27  0.284812 -0.576528  0.432195  0.312839 -0.491738  1.474843  0.481756   \n",
       "28  0.283894 -0.473840  0.388599  0.099752 -0.425111 -0.190020 -0.651820   \n",
       "29  0.191381 -0.314586  0.314864 -0.068009 -0.461810  0.599367 -1.050551   \n",
       "30 -0.488030 -0.616438  0.028764 -0.135060 -0.312558  1.216502  0.803899   \n",
       "31  0.609352 -0.109904  0.356424 -0.081116 -0.439565 -0.149384 -0.615048   \n",
       "32 -0.527788 -0.843626  0.122679 -0.179833 -0.330934  1.226565  0.228400   \n",
       "33  0.056779 -0.992828  0.452960  0.313596 -0.456010  0.717649  0.548131   \n",
       "34  0.243620 -0.200269  0.422512  0.147548 -0.494425 -0.141912 -0.355214   \n",
       "35  0.170112  0.038937  0.481426  0.251735 -0.172327  0.818466 -1.282179   \n",
       "36  0.153125 -0.262139  0.213840  0.031316 -0.163895  1.192276  0.449605   \n",
       "37  0.298547 -0.608990  0.465521  0.091849 -0.162532  0.837645 -0.551105   \n",
       "38 -0.179248 -0.651463  0.312515  0.033528 -0.202324  0.171988  0.055551   \n",
       "39 -0.476652 -0.710236  0.468162  0.021358 -0.273180  0.815500 -0.318551   \n",
       "40  0.045408 -0.675600  0.283750  0.143823 -0.028566  1.434858  0.212313   \n",
       "41  0.233234 -0.417394  0.477265  0.258775  0.156054  0.786017 -0.884349   \n",
       "42  0.134683 -0.008124  0.491946  0.307941 -0.136811  0.809477 -1.230596   \n",
       "43  0.700000  0.600000  0.400000  0.300000  0.200000  1.200000  1.000000   \n",
       "44  0.700000  0.600000  0.400000  0.300000  0.200000  1.000000  0.900000   \n",
       "45  0.535967  0.435967  0.500000  0.400000  0.300000  1.072711  0.972711   \n",
       "46  0.536000  0.436000  0.500000  0.400000  0.300000  1.073000  0.973000   \n",
       "\n",
       "      x_r2_2  \n",
       "0  -0.861944  \n",
       "1  -0.731557  \n",
       "2  -0.101379  \n",
       "3  -1.496787  \n",
       "4  -0.587413  \n",
       "5  -0.271007  \n",
       "6  -1.181672  \n",
       "7  -1.358825  \n",
       "8  -1.444941  \n",
       "9  -1.392847  \n",
       "10 -1.393676  \n",
       "11 -0.705980  \n",
       "12 -0.333767  \n",
       "13 -1.338568  \n",
       "14 -1.415763  \n",
       "15 -0.460352  \n",
       "16 -1.038258  \n",
       "17 -0.490468  \n",
       "18 -0.752519  \n",
       "19 -0.788398  \n",
       "20 -1.380677  \n",
       "21 -1.090867  \n",
       "22 -1.090172  \n",
       "23  0.853437  \n",
       "24 -1.328766  \n",
       "25  0.439591  \n",
       "26 -0.613600  \n",
       "27  0.123602  \n",
       "28 -1.240542  \n",
       "29 -1.224279  \n",
       "30 -1.223584  \n",
       "31 -1.394528  \n",
       "32 -1.495501  \n",
       "33 -0.579734  \n",
       "34 -0.638365  \n",
       "35 -1.445657  \n",
       "36 -0.126463  \n",
       "37 -1.046020  \n",
       "38 -1.366187  \n",
       "39 -1.151427  \n",
       "40 -0.470594  \n",
       "41 -1.143639  \n",
       "42 -1.500000  \n",
       "43  0.800000  \n",
       "44  0.800000  \n",
       "45  0.872711  \n",
       "46  0.873000  \n",
       "\n",
       "[47 rows x 27 columns]"
      ]
     },
     "execution_count": 20,
     "metadata": {},
     "output_type": "execute_result"
    }
   ],
   "source": [
    "Tag_client.generation_strategy.trials_as_df"
   ]
  },
  {
   "cell_type": "code",
   "execution_count": 21,
   "metadata": {},
   "outputs": [
    {
     "data": {
      "application/vnd.plotly.v1+json": {
       "config": {
        "linkText": "Export to plot.ly",
        "plotlyServerURL": "https://plot.ly",
        "showLink": false
       },
       "data": [
        {
         "hoverinfo": "none",
         "legendgroup": "",
         "line": {
          "width": 0
         },
         "mode": "lines",
         "showlegend": false,
         "type": "scatter",
         "x": {
          "bdata": "AQIDBAUGBwgJCgsMDQ4PEBESExQVFhcYGRobHB0eHyAhIiMkJSYnKCkqKywtLi8=",
          "dtype": "i1"
         },
         "y": {
          "bdata": "AAAAAAAAFEAAAAAAAAAwQAAAAAAAADBAAAAAAAAANEAAAAAAAAA0QAAAAAAAADRAAAAAAAAANEAAAAAAAAA0QAAAAAAAADRAAAAAAAAANEAAAAAAAAA0QAAAAAAAADRAAAAAAAAANEAAAAAAAAA0QAAAAAAAADRAAAAAAAAANEAAAAAAAAA0QAAAAAAAADRAAAAAAAAANEAAAAAAAAA0QAAAAAAAADRAAAAAAAAANEAAAAAAAAA0QAAAAAAAADRAAAAAAAAANEAAAAAAAAA0QAAAAAAAADRAAAAAAAAANEAAAAAAAAA0QAAAAAAAADRAAAAAAAAANEAAAAAAAAA0QAAAAAAAADRAAAAAAAAANEAAAAAAAAA0QAAAAAAAADdAAAAAAAAAN0AAAAAAAAA3QAAAAAAAADdAAAAAAAAAN0AAAAAAAAA3QAAAAAAAADdAAAAAAAAAOkAAAAAAAAA+QAAAAAAAwFNAAAAAAACAVkAAAAAAAIBWQA==",
          "dtype": "f8"
         }
        },
        {
         "fill": "tonexty",
         "fillcolor": "rgba(128,177,211,0.3)",
         "legendgroup": "objective value",
         "line": {
          "color": "rgba(128,177,211,1)"
         },
         "mode": "lines",
         "name": "objective value",
         "text": [
          "Parameterization has too many items to render on hover (21).",
          "Parameterization has too many items to render on hover (21).",
          "Parameterization has too many items to render on hover (21).",
          "Parameterization has too many items to render on hover (21).",
          "Parameterization has too many items to render on hover (21).",
          "Parameterization has too many items to render on hover (21).",
          "Parameterization has too many items to render on hover (21).",
          "Parameterization has too many items to render on hover (21).",
          "Parameterization has too many items to render on hover (21).",
          "Parameterization has too many items to render on hover (21).",
          "Parameterization has too many items to render on hover (21).",
          "Parameterization has too many items to render on hover (21).",
          "Parameterization has too many items to render on hover (21).",
          "Parameterization has too many items to render on hover (21).",
          "Parameterization has too many items to render on hover (21).",
          "Parameterization has too many items to render on hover (21).",
          "Parameterization has too many items to render on hover (21).",
          "Parameterization has too many items to render on hover (21).",
          "Parameterization has too many items to render on hover (21).",
          "Parameterization has too many items to render on hover (21).",
          "Parameterization has too many items to render on hover (21).",
          "Parameterization has too many items to render on hover (21).",
          "Parameterization has too many items to render on hover (21).",
          "Parameterization has too many items to render on hover (21).",
          "Parameterization has too many items to render on hover (21).",
          "Parameterization has too many items to render on hover (21).",
          "Parameterization has too many items to render on hover (21).",
          "Parameterization has too many items to render on hover (21).",
          "Parameterization has too many items to render on hover (21).",
          "Parameterization has too many items to render on hover (21).",
          "Parameterization has too many items to render on hover (21).",
          "Parameterization has too many items to render on hover (21).",
          "Parameterization has too many items to render on hover (21).",
          "Parameterization has too many items to render on hover (21).",
          "Parameterization has too many items to render on hover (21).",
          "Parameterization has too many items to render on hover (21).",
          "Parameterization has too many items to render on hover (21).",
          "Parameterization has too many items to render on hover (21).",
          "Parameterization has too many items to render on hover (21).",
          "Parameterization has too many items to render on hover (21).",
          "Parameterization has too many items to render on hover (21).",
          "Parameterization has too many items to render on hover (21).",
          "Parameterization has too many items to render on hover (21).",
          "Parameterization has too many items to render on hover (21).",
          "Parameterization has too many items to render on hover (21).",
          "Parameterization has too many items to render on hover (21).",
          "Parameterization has too many items to render on hover (21)."
         ],
         "type": "scatter",
         "x": {
          "bdata": "AQIDBAUGBwgJCgsMDQ4PEBESExQVFhcYGRobHB0eHyAhIiMkJSYnKCkqKywtLi8=",
          "dtype": "i1"
         },
         "y": {
          "bdata": "AAAAAAAAFEAAAAAAAAAwQAAAAAAAADBAAAAAAAAANEAAAAAAAAA0QAAAAAAAADRAAAAAAAAANEAAAAAAAAA0QAAAAAAAADRAAAAAAAAANEAAAAAAAAA0QAAAAAAAADRAAAAAAAAANEAAAAAAAAA0QAAAAAAAADRAAAAAAAAANEAAAAAAAAA0QAAAAAAAADRAAAAAAAAANEAAAAAAAAA0QAAAAAAAADRAAAAAAAAANEAAAAAAAAA0QAAAAAAAADRAAAAAAAAANEAAAAAAAAA0QAAAAAAAADRAAAAAAAAANEAAAAAAAAA0QAAAAAAAADRAAAAAAAAANEAAAAAAAAA0QAAAAAAAADRAAAAAAAAANEAAAAAAAAA0QAAAAAAAADdAAAAAAAAAN0AAAAAAAAA3QAAAAAAAADdAAAAAAAAAN0AAAAAAAAA3QAAAAAAAADdAAAAAAAAAOkAAAAAAAAA+QAAAAAAAwFNAAAAAAACAVkAAAAAAAIBWQA==",
          "dtype": "f8"
         }
        },
        {
         "fill": "tonexty",
         "fillcolor": "rgba(128,177,211,0.3)",
         "hoverinfo": "none",
         "legendgroup": "",
         "line": {
          "width": 0
         },
         "mode": "lines",
         "showlegend": false,
         "type": "scatter",
         "x": {
          "bdata": "AQIDBAUGBwgJCgsMDQ4PEBESExQVFhcYGRobHB0eHyAhIiMkJSYnKCkqKywtLi8=",
          "dtype": "i1"
         },
         "y": {
          "bdata": "AAAAAAAAFEAAAAAAAAAwQAAAAAAAADBAAAAAAAAANEAAAAAAAAA0QAAAAAAAADRAAAAAAAAANEAAAAAAAAA0QAAAAAAAADRAAAAAAAAANEAAAAAAAAA0QAAAAAAAADRAAAAAAAAANEAAAAAAAAA0QAAAAAAAADRAAAAAAAAANEAAAAAAAAA0QAAAAAAAADRAAAAAAAAANEAAAAAAAAA0QAAAAAAAADRAAAAAAAAANEAAAAAAAAA0QAAAAAAAADRAAAAAAAAANEAAAAAAAAA0QAAAAAAAADRAAAAAAAAANEAAAAAAAAA0QAAAAAAAADRAAAAAAAAANEAAAAAAAAA0QAAAAAAAADRAAAAAAAAANEAAAAAAAAA0QAAAAAAAADdAAAAAAAAAN0AAAAAAAAA3QAAAAAAAADdAAAAAAAAAN0AAAAAAAAA3QAAAAAAAADdAAAAAAAAAOkAAAAAAAAA+QAAAAAAAwFNAAAAAAACAVkAAAAAAAIBWQA==",
          "dtype": "f8"
         }
        }
       ],
       "layout": {
        "showlegend": true,
        "template": {
         "data": {
          "bar": [
           {
            "error_x": {
             "color": "#2a3f5f"
            },
            "error_y": {
             "color": "#2a3f5f"
            },
            "marker": {
             "line": {
              "color": "#E5ECF6",
              "width": 0.5
             },
             "pattern": {
              "fillmode": "overlay",
              "size": 10,
              "solidity": 0.2
             }
            },
            "type": "bar"
           }
          ],
          "barpolar": [
           {
            "marker": {
             "line": {
              "color": "#E5ECF6",
              "width": 0.5
             },
             "pattern": {
              "fillmode": "overlay",
              "size": 10,
              "solidity": 0.2
             }
            },
            "type": "barpolar"
           }
          ],
          "carpet": [
           {
            "aaxis": {
             "endlinecolor": "#2a3f5f",
             "gridcolor": "white",
             "linecolor": "white",
             "minorgridcolor": "white",
             "startlinecolor": "#2a3f5f"
            },
            "baxis": {
             "endlinecolor": "#2a3f5f",
             "gridcolor": "white",
             "linecolor": "white",
             "minorgridcolor": "white",
             "startlinecolor": "#2a3f5f"
            },
            "type": "carpet"
           }
          ],
          "choropleth": [
           {
            "colorbar": {
             "outlinewidth": 0,
             "ticks": ""
            },
            "type": "choropleth"
           }
          ],
          "contour": [
           {
            "colorbar": {
             "outlinewidth": 0,
             "ticks": ""
            },
            "colorscale": [
             [
              0,
              "#0d0887"
             ],
             [
              0.1111111111111111,
              "#46039f"
             ],
             [
              0.2222222222222222,
              "#7201a8"
             ],
             [
              0.3333333333333333,
              "#9c179e"
             ],
             [
              0.4444444444444444,
              "#bd3786"
             ],
             [
              0.5555555555555556,
              "#d8576b"
             ],
             [
              0.6666666666666666,
              "#ed7953"
             ],
             [
              0.7777777777777778,
              "#fb9f3a"
             ],
             [
              0.8888888888888888,
              "#fdca26"
             ],
             [
              1,
              "#f0f921"
             ]
            ],
            "type": "contour"
           }
          ],
          "contourcarpet": [
           {
            "colorbar": {
             "outlinewidth": 0,
             "ticks": ""
            },
            "type": "contourcarpet"
           }
          ],
          "heatmap": [
           {
            "colorbar": {
             "outlinewidth": 0,
             "ticks": ""
            },
            "colorscale": [
             [
              0,
              "#0d0887"
             ],
             [
              0.1111111111111111,
              "#46039f"
             ],
             [
              0.2222222222222222,
              "#7201a8"
             ],
             [
              0.3333333333333333,
              "#9c179e"
             ],
             [
              0.4444444444444444,
              "#bd3786"
             ],
             [
              0.5555555555555556,
              "#d8576b"
             ],
             [
              0.6666666666666666,
              "#ed7953"
             ],
             [
              0.7777777777777778,
              "#fb9f3a"
             ],
             [
              0.8888888888888888,
              "#fdca26"
             ],
             [
              1,
              "#f0f921"
             ]
            ],
            "type": "heatmap"
           }
          ],
          "histogram": [
           {
            "marker": {
             "pattern": {
              "fillmode": "overlay",
              "size": 10,
              "solidity": 0.2
             }
            },
            "type": "histogram"
           }
          ],
          "histogram2d": [
           {
            "colorbar": {
             "outlinewidth": 0,
             "ticks": ""
            },
            "colorscale": [
             [
              0,
              "#0d0887"
             ],
             [
              0.1111111111111111,
              "#46039f"
             ],
             [
              0.2222222222222222,
              "#7201a8"
             ],
             [
              0.3333333333333333,
              "#9c179e"
             ],
             [
              0.4444444444444444,
              "#bd3786"
             ],
             [
              0.5555555555555556,
              "#d8576b"
             ],
             [
              0.6666666666666666,
              "#ed7953"
             ],
             [
              0.7777777777777778,
              "#fb9f3a"
             ],
             [
              0.8888888888888888,
              "#fdca26"
             ],
             [
              1,
              "#f0f921"
             ]
            ],
            "type": "histogram2d"
           }
          ],
          "histogram2dcontour": [
           {
            "colorbar": {
             "outlinewidth": 0,
             "ticks": ""
            },
            "colorscale": [
             [
              0,
              "#0d0887"
             ],
             [
              0.1111111111111111,
              "#46039f"
             ],
             [
              0.2222222222222222,
              "#7201a8"
             ],
             [
              0.3333333333333333,
              "#9c179e"
             ],
             [
              0.4444444444444444,
              "#bd3786"
             ],
             [
              0.5555555555555556,
              "#d8576b"
             ],
             [
              0.6666666666666666,
              "#ed7953"
             ],
             [
              0.7777777777777778,
              "#fb9f3a"
             ],
             [
              0.8888888888888888,
              "#fdca26"
             ],
             [
              1,
              "#f0f921"
             ]
            ],
            "type": "histogram2dcontour"
           }
          ],
          "mesh3d": [
           {
            "colorbar": {
             "outlinewidth": 0,
             "ticks": ""
            },
            "type": "mesh3d"
           }
          ],
          "parcoords": [
           {
            "line": {
             "colorbar": {
              "outlinewidth": 0,
              "ticks": ""
             }
            },
            "type": "parcoords"
           }
          ],
          "pie": [
           {
            "automargin": true,
            "type": "pie"
           }
          ],
          "scatter": [
           {
            "fillpattern": {
             "fillmode": "overlay",
             "size": 10,
             "solidity": 0.2
            },
            "type": "scatter"
           }
          ],
          "scatter3d": [
           {
            "line": {
             "colorbar": {
              "outlinewidth": 0,
              "ticks": ""
             }
            },
            "marker": {
             "colorbar": {
              "outlinewidth": 0,
              "ticks": ""
             }
            },
            "type": "scatter3d"
           }
          ],
          "scattercarpet": [
           {
            "marker": {
             "colorbar": {
              "outlinewidth": 0,
              "ticks": ""
             }
            },
            "type": "scattercarpet"
           }
          ],
          "scattergeo": [
           {
            "marker": {
             "colorbar": {
              "outlinewidth": 0,
              "ticks": ""
             }
            },
            "type": "scattergeo"
           }
          ],
          "scattergl": [
           {
            "marker": {
             "colorbar": {
              "outlinewidth": 0,
              "ticks": ""
             }
            },
            "type": "scattergl"
           }
          ],
          "scattermap": [
           {
            "marker": {
             "colorbar": {
              "outlinewidth": 0,
              "ticks": ""
             }
            },
            "type": "scattermap"
           }
          ],
          "scattermapbox": [
           {
            "marker": {
             "colorbar": {
              "outlinewidth": 0,
              "ticks": ""
             }
            },
            "type": "scattermapbox"
           }
          ],
          "scatterpolar": [
           {
            "marker": {
             "colorbar": {
              "outlinewidth": 0,
              "ticks": ""
             }
            },
            "type": "scatterpolar"
           }
          ],
          "scatterpolargl": [
           {
            "marker": {
             "colorbar": {
              "outlinewidth": 0,
              "ticks": ""
             }
            },
            "type": "scatterpolargl"
           }
          ],
          "scatterternary": [
           {
            "marker": {
             "colorbar": {
              "outlinewidth": 0,
              "ticks": ""
             }
            },
            "type": "scatterternary"
           }
          ],
          "surface": [
           {
            "colorbar": {
             "outlinewidth": 0,
             "ticks": ""
            },
            "colorscale": [
             [
              0,
              "#0d0887"
             ],
             [
              0.1111111111111111,
              "#46039f"
             ],
             [
              0.2222222222222222,
              "#7201a8"
             ],
             [
              0.3333333333333333,
              "#9c179e"
             ],
             [
              0.4444444444444444,
              "#bd3786"
             ],
             [
              0.5555555555555556,
              "#d8576b"
             ],
             [
              0.6666666666666666,
              "#ed7953"
             ],
             [
              0.7777777777777778,
              "#fb9f3a"
             ],
             [
              0.8888888888888888,
              "#fdca26"
             ],
             [
              1,
              "#f0f921"
             ]
            ],
            "type": "surface"
           }
          ],
          "table": [
           {
            "cells": {
             "fill": {
              "color": "#EBF0F8"
             },
             "line": {
              "color": "white"
             }
            },
            "header": {
             "fill": {
              "color": "#C8D4E3"
             },
             "line": {
              "color": "white"
             }
            },
            "type": "table"
           }
          ]
         },
         "layout": {
          "annotationdefaults": {
           "arrowcolor": "#2a3f5f",
           "arrowhead": 0,
           "arrowwidth": 1
          },
          "autotypenumbers": "strict",
          "coloraxis": {
           "colorbar": {
            "outlinewidth": 0,
            "ticks": ""
           }
          },
          "colorscale": {
           "diverging": [
            [
             0,
             "#8e0152"
            ],
            [
             0.1,
             "#c51b7d"
            ],
            [
             0.2,
             "#de77ae"
            ],
            [
             0.3,
             "#f1b6da"
            ],
            [
             0.4,
             "#fde0ef"
            ],
            [
             0.5,
             "#f7f7f7"
            ],
            [
             0.6,
             "#e6f5d0"
            ],
            [
             0.7,
             "#b8e186"
            ],
            [
             0.8,
             "#7fbc41"
            ],
            [
             0.9,
             "#4d9221"
            ],
            [
             1,
             "#276419"
            ]
           ],
           "sequential": [
            [
             0,
             "#0d0887"
            ],
            [
             0.1111111111111111,
             "#46039f"
            ],
            [
             0.2222222222222222,
             "#7201a8"
            ],
            [
             0.3333333333333333,
             "#9c179e"
            ],
            [
             0.4444444444444444,
             "#bd3786"
            ],
            [
             0.5555555555555556,
             "#d8576b"
            ],
            [
             0.6666666666666666,
             "#ed7953"
            ],
            [
             0.7777777777777778,
             "#fb9f3a"
            ],
            [
             0.8888888888888888,
             "#fdca26"
            ],
            [
             1,
             "#f0f921"
            ]
           ],
           "sequentialminus": [
            [
             0,
             "#0d0887"
            ],
            [
             0.1111111111111111,
             "#46039f"
            ],
            [
             0.2222222222222222,
             "#7201a8"
            ],
            [
             0.3333333333333333,
             "#9c179e"
            ],
            [
             0.4444444444444444,
             "#bd3786"
            ],
            [
             0.5555555555555556,
             "#d8576b"
            ],
            [
             0.6666666666666666,
             "#ed7953"
            ],
            [
             0.7777777777777778,
             "#fb9f3a"
            ],
            [
             0.8888888888888888,
             "#fdca26"
            ],
            [
             1,
             "#f0f921"
            ]
           ]
          },
          "colorway": [
           "#636efa",
           "#EF553B",
           "#00cc96",
           "#ab63fa",
           "#FFA15A",
           "#19d3f3",
           "#FF6692",
           "#B6E880",
           "#FF97FF",
           "#FECB52"
          ],
          "font": {
           "color": "#2a3f5f"
          },
          "geo": {
           "bgcolor": "white",
           "lakecolor": "white",
           "landcolor": "#E5ECF6",
           "showlakes": true,
           "showland": true,
           "subunitcolor": "white"
          },
          "hoverlabel": {
           "align": "left"
          },
          "hovermode": "closest",
          "mapbox": {
           "style": "light"
          },
          "paper_bgcolor": "white",
          "plot_bgcolor": "#E5ECF6",
          "polar": {
           "angularaxis": {
            "gridcolor": "white",
            "linecolor": "white",
            "ticks": ""
           },
           "bgcolor": "#E5ECF6",
           "radialaxis": {
            "gridcolor": "white",
            "linecolor": "white",
            "ticks": ""
           }
          },
          "scene": {
           "xaxis": {
            "backgroundcolor": "#E5ECF6",
            "gridcolor": "white",
            "gridwidth": 2,
            "linecolor": "white",
            "showbackground": true,
            "ticks": "",
            "zerolinecolor": "white"
           },
           "yaxis": {
            "backgroundcolor": "#E5ECF6",
            "gridcolor": "white",
            "gridwidth": 2,
            "linecolor": "white",
            "showbackground": true,
            "ticks": "",
            "zerolinecolor": "white"
           },
           "zaxis": {
            "backgroundcolor": "#E5ECF6",
            "gridcolor": "white",
            "gridwidth": 2,
            "linecolor": "white",
            "showbackground": true,
            "ticks": "",
            "zerolinecolor": "white"
           }
          },
          "shapedefaults": {
           "line": {
            "color": "#2a3f5f"
           }
          },
          "ternary": {
           "aaxis": {
            "gridcolor": "white",
            "linecolor": "white",
            "ticks": ""
           },
           "baxis": {
            "gridcolor": "white",
            "linecolor": "white",
            "ticks": ""
           },
           "bgcolor": "#E5ECF6",
           "caxis": {
            "gridcolor": "white",
            "linecolor": "white",
            "ticks": ""
           }
          },
          "title": {
           "x": 0.05
          },
          "xaxis": {
           "automargin": true,
           "gridcolor": "white",
           "linecolor": "white",
           "ticks": "",
           "title": {
            "standoff": 15
           },
           "zerolinecolor": "white",
           "zerolinewidth": 2
          },
          "yaxis": {
           "automargin": true,
           "gridcolor": "white",
           "linecolor": "white",
           "ticks": "",
           "title": {
            "standoff": 15
           },
           "zerolinecolor": "white",
           "zerolinewidth": 2
          }
         }
        },
        "title": {
         "text": "Best objective found vs. # of iterations"
        },
        "xaxis": {
         "title": {
          "text": "Iteration"
         }
        },
        "yaxis": {
         "title": {
          "text": "Viable_cross_terms"
         }
        }
       }
      }
     },
     "metadata": {},
     "output_type": "display_data"
    }
   ],
   "source": [
    "render(Tag_client.get_optimization_trace())"
   ]
  },
  {
   "cell_type": "code",
   "execution_count": null,
   "metadata": {},
   "outputs": [
    {
     "name": "stderr",
     "output_type": "stream",
     "text": [
      "[INFO 04-05 13:46:08] ax.service.ax_client: Generated new trial 47 with parameters {'z_sh': 7, 'z_sh_1': 6, 'z_sh_2': 5, 'z_p2': 27, 'z_p2_1': 26, 'z_p2_2': 33, 'z_r2': 78, 'z_r2_1': 71, 'z_r2_2': 70, 'x_s': 0.5, 'x_s_1': 0.4, 'x_s_2': 0.3, 'x_p1': 0.659814, 'x_p1_1': 0.559814, 'x_p1_2': 0.459814, 'x_p2': 0.5, 'x_p2_1': 0.4, 'x_p2_2': 0.3, 'x_r2': 1.458836, 'x_r2_1': 1.358836, 'x_r2_2': 1.258836} using model BoTorch.\n",
      "[INFO 04-05 13:46:08] ax.service.ax_client: Completed trial 47 with data: {'Viable_Cross_Terms': (0, None)}.\n",
      "[INFO 04-05 13:46:26] ax.service.ax_client: Generated new trial 48 with parameters {'z_sh': 15, 'z_sh_1': 11, 'z_sh_2': 5, 'z_p2': 35, 'z_p2_1': 34, 'z_p2_2': 25, 'z_r2': 86, 'z_r2_1': 71, 'z_r2_2': 70, 'x_s': 0.5, 'x_s_1': -0.4, 'x_s_2': -0.5, 'x_p1': 1.0, 'x_p1_1': 0.9, 'x_p1_2': 0.8, 'x_p2': 0.5, 'x_p2_1': 0.4, 'x_p2_2': -0.102365, 'x_r2': 1.162948, 'x_r2_1': -1.4, 'x_r2_2': -1.5} using model BoTorch.\n",
      "[INFO 04-05 13:46:26] ax.service.ax_client: Completed trial 48 with data: {'Viable_Cross_Terms': (0, None)}.\n",
      "[INFO 04-05 13:46:46] ax.service.ax_client: Generated new trial 49 with parameters {'z_sh': 7, 'z_sh_1': 13, 'z_sh_2': 5, 'z_p2': 29, 'z_p2_1': 30, 'z_p2_2': 31, 'z_r2': 84, 'z_r2_1': 74, 'z_r2_2': 77, 'x_s': 0.5, 'x_s_1': 0.4, 'x_s_2': 0.3, 'x_p1': 0.566527, 'x_p1_1': 0.466527, 'x_p1_2': 0.366527, 'x_p2': 0.5, 'x_p2_1': 0.4, 'x_p2_2': 0.3, 'x_r2': 1.102191, 'x_r2_1': 1.002191, 'x_r2_2': 0.902191} using model BoTorch.\n",
      "[INFO 04-05 13:46:46] ax.service.ax_client: Completed trial 49 with data: {'Viable_Cross_Terms': (29, None)}.\n",
      "[INFO 04-05 13:47:05] ax.service.ax_client: Generated new trial 50 with parameters {'z_sh': 9, 'z_sh_1': 6, 'z_sh_2': 6, 'z_p2': 34, 'z_p2_1': 29, 'z_p2_2': 31, 'z_r2': 82, 'z_r2_1': 73, 'z_r2_2': 80, 'x_s': 0.5, 'x_s_1': 0.4, 'x_s_2': 0.3, 'x_p1': 0.664457, 'x_p1_1': 0.564457, 'x_p1_2': 0.464457, 'x_p2': 0.5, 'x_p2_1': 0.4, 'x_p2_2': 0.3, 'x_r2': 1.299321, 'x_r2_1': 1.199321, 'x_r2_2': 1.099321} using model BoTorch.\n",
      "[INFO 04-05 13:47:05] ax.service.ax_client: Completed trial 50 with data: {'Viable_Cross_Terms': (5, None)}.\n",
      "[INFO 04-05 13:47:22] ax.service.ax_client: Generated new trial 51 with parameters {'z_sh': 14, 'z_sh_1': 11, 'z_sh_2': 11, 'z_p2': 35, 'z_p2_1': 33, 'z_p2_2': 31, 'z_r2': 84, 'z_r2_1': 79, 'z_r2_2': 77, 'x_s': 0.5, 'x_s_1': -0.4, 'x_s_2': -0.5, 'x_p1': -0.8, 'x_p1_1': -0.9, 'x_p1_2': -1.0, 'x_p2': -0.3, 'x_p2_1': -0.4, 'x_p2_2': -0.5, 'x_r2': 1.5, 'x_r2_1': 1.4, 'x_r2_2': 1.3} using model BoTorch.\n",
      "[INFO 04-05 13:47:22] ax.service.ax_client: Completed trial 51 with data: {'Viable_Cross_Terms': (0, None)}.\n",
      "[INFO 04-05 13:47:39] ax.service.ax_client: Generated new trial 52 with parameters {'z_sh': 7, 'z_sh_1': 7, 'z_sh_2': 9, 'z_p2': 35, 'z_p2_1': 27, 'z_p2_2': 26, 'z_r2': 79, 'z_r2_1': 72, 'z_r2_2': 82, 'x_s': 0.5, 'x_s_1': 0.056871, 'x_s_2': -0.043129, 'x_p1': 0.107947, 'x_p1_1': 0.007947, 'x_p1_2': -0.092053, 'x_p2': 0.5, 'x_p2_1': 0.4, 'x_p2_2': 0.3, 'x_r2': 0.167145, 'x_r2_1': -1.375307, 'x_r2_2': -1.5} using model BoTorch.\n",
      "[INFO 04-05 13:47:39] ax.service.ax_client: Completed trial 52 with data: {'Viable_Cross_Terms': (10, None)}.\n",
      "[INFO 04-05 13:47:54] ax.service.ax_client: Generated new trial 53 with parameters {'z_sh': 14, 'z_sh_1': 7, 'z_sh_2': 7, 'z_p2': 27, 'z_p2_1': 32, 'z_p2_2': 31, 'z_r2': 84, 'z_r2_1': 75, 'z_r2_2': 77, 'x_s': 0.5, 'x_s_1': 0.4, 'x_s_2': 0.3, 'x_p1': 0.677908, 'x_p1_1': 0.577908, 'x_p1_2': 0.477908, 'x_p2': 0.5, 'x_p2_1': 0.4, 'x_p2_2': 0.3, 'x_r2': 1.179881, 'x_r2_1': 1.079881, 'x_r2_2': 0.979881} using model BoTorch.\n",
      "[INFO 04-05 13:47:54] ax.service.ax_client: Completed trial 53 with data: {'Viable_Cross_Terms': (21, None)}.\n",
      "[INFO 04-05 13:48:09] ax.service.ax_client: Generated new trial 54 with parameters {'z_sh': 8, 'z_sh_1': 11, 'z_sh_2': 9, 'z_p2': 27, 'z_p2_1': 28, 'z_p2_2': 30, 'z_r2': 80, 'z_r2_1': 75, 'z_r2_2': 82, 'x_s': 0.5, 'x_s_1': 0.4, 'x_s_2': 0.3, 'x_p1': 0.935307, 'x_p1_1': 0.835307, 'x_p1_2': 0.735307, 'x_p2': 0.5, 'x_p2_1': 0.4, 'x_p2_2': 0.3, 'x_r2': 1.378934, 'x_r2_1': 1.278934, 'x_r2_2': 1.178934} using model BoTorch.\n",
      "[INFO 04-05 13:48:09] ax.service.ax_client: Completed trial 54 with data: {'Viable_Cross_Terms': (0, None)}.\n",
      "[INFO 04-05 13:48:27] ax.service.ax_client: Generated new trial 55 with parameters {'z_sh': 7, 'z_sh_1': 6, 'z_sh_2': 5, 'z_p2': 29, 'z_p2_1': 30, 'z_p2_2': 31, 'z_r2': 74, 'z_r2_1': 81, 'z_r2_2': 81, 'x_s': 0.5, 'x_s_1': 0.4, 'x_s_2': 0.3, 'x_p1': 0.702481, 'x_p1_1': 0.602481, 'x_p1_2': 0.502481, 'x_p2': 0.480126, 'x_p2_1': 0.380126, 'x_p2_2': 0.280126, 'x_r2': 1.040362, 'x_r2_1': 0.940362, 'x_r2_2': 0.840362} using model BoTorch.\n",
      "[INFO 04-05 13:48:27] ax.service.ax_client: Completed trial 55 with data: {'Viable_Cross_Terms': (40, None)}.\n",
      "[INFO 04-05 13:48:45] ax.service.ax_client: Generated new trial 56 with parameters {'z_sh': 10, 'z_sh_1': 11, 'z_sh_2': 10, 'z_p2': 31, 'z_p2_1': 34, 'z_p2_2': 30, 'z_r2': 78, 'z_r2_1': 83, 'z_r2_2': 73, 'x_s': 0.5, 'x_s_1': 0.4, 'x_s_2': 0.3, 'x_p1': 0.858713, 'x_p1_1': 0.758713, 'x_p1_2': 0.658713, 'x_p2': 0.5, 'x_p2_1': 0.4, 'x_p2_2': 0.3, 'x_r2': 1.5, 'x_r2_1': 1.4, 'x_r2_2': 1.063204} using model BoTorch.\n",
      "[INFO 04-05 13:48:45] ax.service.ax_client: Completed trial 56 with data: {'Viable_Cross_Terms': (13, None)}.\n",
      "[INFO 04-05 13:49:02] ax.service.ax_client: Generated new trial 57 with parameters {'z_sh': 10, 'z_sh_1': 8, 'z_sh_2': 5, 'z_p2': 27, 'z_p2_1': 30, 'z_p2_2': 27, 'z_r2': 80, 'z_r2_1': 74, 'z_r2_2': 83, 'x_s': 0.5, 'x_s_1': 0.4, 'x_s_2': 0.3, 'x_p1': 0.832303, 'x_p1_1': 0.732303, 'x_p1_2': 0.632303, 'x_p2': 0.37533, 'x_p2_1': 0.27533, 'x_p2_2': 0.16701, 'x_r2': 0.913862, 'x_r2_1': 0.813862, 'x_r2_2': 0.713862} using model BoTorch.\n",
      "[INFO 04-05 13:49:02] ax.service.ax_client: Completed trial 57 with data: {'Viable_Cross_Terms': (54, None)}.\n",
      "[INFO 04-05 13:49:17] ax.service.ax_client: Generated new trial 58 with parameters {'z_sh': 10, 'z_sh_1': 8, 'z_sh_2': 5, 'z_p2': 27, 'z_p2_1': 33, 'z_p2_2': 31, 'z_r2': 76, 'z_r2_1': 72, 'z_r2_2': 82, 'x_s': 0.5, 'x_s_1': 0.4, 'x_s_2': 0.3, 'x_p1': 0.838179, 'x_p1_1': 0.738179, 'x_p1_2': 0.638179, 'x_p2': 0.371996, 'x_p2_1': 0.271996, 'x_p2_2': 0.160663, 'x_r2': 0.93601, 'x_r2_1': 0.83601, 'x_r2_2': 0.73601} using model BoTorch.\n",
      "[INFO 04-05 13:49:17] ax.service.ax_client: Completed trial 58 with data: {'Viable_Cross_Terms': (30, None)}.\n",
      "[INFO 04-05 13:49:34] ax.service.ax_client: Generated new trial 59 with parameters {'z_sh': 7, 'z_sh_1': 9, 'z_sh_2': 8, 'z_p2': 30, 'z_p2_1': 28, 'z_p2_2': 32, 'z_r2': 77, 'z_r2_1': 75, 'z_r2_2': 78, 'x_s': 0.5, 'x_s_1': 0.393737, 'x_s_2': 0.293737, 'x_p1': 0.67765, 'x_p1_1': 0.57765, 'x_p1_2': 0.47765, 'x_p2': 0.5, 'x_p2_1': 0.4, 'x_p2_2': 0.3, 'x_r2': 1.171832, 'x_r2_1': 1.071832, 'x_r2_2': 0.959887} using model BoTorch.\n",
      "[INFO 04-05 13:49:34] ax.service.ax_client: Completed trial 59 with data: {'Viable_Cross_Terms': (24, None)}.\n",
      "[INFO 04-05 13:49:51] ax.service.ax_client: Generated new trial 60 with parameters {'z_sh': 11, 'z_sh_1': 10, 'z_sh_2': 5, 'z_p2': 35, 'z_p2_1': 31, 'z_p2_2': 26, 'z_r2': 83, 'z_r2_1': 78, 'z_r2_2': 70, 'x_s': 0.5, 'x_s_1': -0.4, 'x_s_2': -0.5, 'x_p1': -0.61423, 'x_p1_1': -0.71423, 'x_p1_2': -0.81423, 'x_p2': 0.5, 'x_p2_1': 0.4, 'x_p2_2': 0.3, 'x_r2': 0.511222, 'x_r2_1': -1.4, 'x_r2_2': -1.5} using model BoTorch.\n",
      "[INFO 04-05 13:49:51] ax.service.ax_client: Completed trial 60 with data: {'Viable_Cross_Terms': (7, None)}.\n",
      "[INFO 04-05 13:50:07] ax.service.ax_client: Generated new trial 61 with parameters {'z_sh': 10, 'z_sh_1': 6, 'z_sh_2': 5, 'z_p2': 29, 'z_p2_1': 31, 'z_p2_2': 31, 'z_r2': 73, 'z_r2_1': 75, 'z_r2_2': 83, 'x_s': 0.5, 'x_s_1': 0.4, 'x_s_2': 0.3, 'x_p1': 0.848764, 'x_p1_1': 0.748764, 'x_p1_2': 0.648764, 'x_p2': 0.486507, 'x_p2_1': 0.386507, 'x_p2_2': 0.286507, 'x_r2': 1.025819, 'x_r2_1': 0.925819, 'x_r2_2': 0.825819} using model BoTorch.\n",
      "[INFO 04-05 13:50:07] ax.service.ax_client: Completed trial 61 with data: {'Viable_Cross_Terms': (26, None)}.\n",
      "[INFO 04-05 13:50:23] ax.service.ax_client: Generated new trial 62 with parameters {'z_sh': 10, 'z_sh_1': 9, 'z_sh_2': 5, 'z_p2': 29, 'z_p2_1': 27, 'z_p2_2': 31, 'z_r2': 85, 'z_r2_1': 76, 'z_r2_2': 81, 'x_s': 0.5, 'x_s_1': 0.4, 'x_s_2': 0.3, 'x_p1': 0.685853, 'x_p1_1': 0.585853, 'x_p1_2': 0.485853, 'x_p2': 0.5, 'x_p2_1': 0.4, 'x_p2_2': 0.3, 'x_r2': 1.077962, 'x_r2_1': 0.977962, 'x_r2_2': 0.877962} using model BoTorch.\n",
      "[INFO 04-05 13:50:23] ax.service.ax_client: Completed trial 62 with data: {'Viable_Cross_Terms': (36, None)}.\n",
      "[INFO 04-05 13:50:39] ax.service.ax_client: Generated new trial 63 with parameters {'z_sh': 12, 'z_sh_1': 6, 'z_sh_2': 11, 'z_p2': 27, 'z_p2_1': 29, 'z_p2_2': 28, 'z_r2': 80, 'z_r2_1': 81, 'z_r2_2': 75, 'x_s': 0.5, 'x_s_1': 0.4, 'x_s_2': 0.3, 'x_p1': 0.859922, 'x_p1_1': 0.759922, 'x_p1_2': 0.659922, 'x_p2': 0.375007, 'x_p2_1': 0.275007, 'x_p2_2': 0.172288, 'x_r2': 0.984962, 'x_r2_1': 0.884962, 'x_r2_2': 0.784962} using model BoTorch.\n",
      "[INFO 04-05 13:50:39] ax.service.ax_client: Completed trial 63 with data: {'Viable_Cross_Terms': (27, None)}.\n",
      "[INFO 04-05 13:50:53] ax.service.ax_client: Generated new trial 64 with parameters {'z_sh': 8, 'z_sh_1': 6, 'z_sh_2': 5, 'z_p2': 27, 'z_p2_1': 30, 'z_p2_2': 30, 'z_r2': 79, 'z_r2_1': 85, 'z_r2_2': 78, 'x_s': 0.5, 'x_s_1': 0.4, 'x_s_2': 0.3, 'x_p1': 0.919355, 'x_p1_1': 0.819355, 'x_p1_2': 0.719355, 'x_p2': 0.38443, 'x_p2_1': 0.28443, 'x_p2_2': 0.173808, 'x_r2': 1.119654, 'x_r2_1': 1.019654, 'x_r2_2': 0.919654} using model BoTorch.\n",
      "[INFO 04-05 13:50:53] ax.service.ax_client: Completed trial 64 with data: {'Viable_Cross_Terms': (34, None)}.\n",
      "[INFO 04-05 13:51:12] ax.service.ax_client: Generated new trial 65 with parameters {'z_sh': 7, 'z_sh_1': 7, 'z_sh_2': 6, 'z_p2': 29, 'z_p2_1': 27, 'z_p2_2': 28, 'z_r2': 81, 'z_r2_1': 71, 'z_r2_2': 75, 'x_s': 0.5, 'x_s_1': 0.4, 'x_s_2': 0.3, 'x_p1': 0.666488, 'x_p1_1': 0.566488, 'x_p1_2': 0.466488, 'x_p2': 0.459269, 'x_p2_1': 0.359269, 'x_p2_2': 0.259269, 'x_r2': 0.974653, 'x_r2_1': 0.874653, 'x_r2_2': 0.774653} using model BoTorch.\n",
      "[INFO 04-05 13:51:12] ax.service.ax_client: Completed trial 65 with data: {'Viable_Cross_Terms': (33, None)}.\n",
      "[INFO 04-05 13:51:35] ax.service.ax_client: Generated new trial 66 with parameters {'z_sh': 11, 'z_sh_1': 8, 'z_sh_2': 11, 'z_p2': 29, 'z_p2_1': 26, 'z_p2_2': 26, 'z_r2': 76, 'z_r2_1': 72, 'z_r2_2': 74, 'x_s': 0.5, 'x_s_1': 0.4, 'x_s_2': 0.3, 'x_p1': 0.818923, 'x_p1_1': 0.718923, 'x_p1_2': 0.618923, 'x_p2': 0.381705, 'x_p2_1': 0.281705, 'x_p2_2': 0.178756, 'x_r2': 0.931155, 'x_r2_1': 0.823698, 'x_r2_2': 0.716978} using model BoTorch.\n",
      "[INFO 04-05 13:51:35] ax.service.ax_client: Completed trial 66 with data: {'Viable_Cross_Terms': (25, None)}.\n",
      "[INFO 04-05 13:51:58] ax.service.ax_client: Generated new trial 67 with parameters {'z_sh': 14, 'z_sh_1': 14, 'z_sh_2': 10, 'z_p2': 27, 'z_p2_1': 31, 'z_p2_2': 26, 'z_r2': 81, 'z_r2_1': 77, 'z_r2_2': 81, 'x_s': 0.5, 'x_s_1': 0.4, 'x_s_2': 0.3, 'x_p1': 0.851478, 'x_p1_1': 0.751478, 'x_p1_2': 0.650878, 'x_p2': 0.309915, 'x_p2_1': 0.209915, 'x_p2_2': 0.109563, 'x_r2': 0.914542, 'x_r2_1': 0.814533, 'x_r2_2': 0.713382} using model BoTorch.\n",
      "[INFO 04-05 13:51:58] ax.service.ax_client: Completed trial 67 with data: {'Viable_Cross_Terms': (28, None)}.\n",
      "[INFO 04-05 13:52:17] ax.service.ax_client: Generated new trial 68 with parameters {'z_sh': 7, 'z_sh_1': 14, 'z_sh_2': 8, 'z_p2': 29, 'z_p2_1': 28, 'z_p2_2': 31, 'z_r2': 86, 'z_r2_1': 76, 'z_r2_2': 82, 'x_s': 0.5, 'x_s_1': 0.4, 'x_s_2': 0.3, 'x_p1': 0.674993, 'x_p1_1': 0.574993, 'x_p1_2': 0.474993, 'x_p2': 0.5, 'x_p2_1': 0.4, 'x_p2_2': 0.3, 'x_r2': 1.5, 'x_r2_1': 1.4, 'x_r2_2': 0.011757} using model BoTorch.\n",
      "[INFO 04-05 13:52:17] ax.service.ax_client: Completed trial 68 with data: {'Viable_Cross_Terms': (26, None)}.\n",
      "[INFO 04-05 13:52:34] ax.service.ax_client: Generated new trial 69 with parameters {'z_sh': 7, 'z_sh_1': 6, 'z_sh_2': 5, 'z_p2': 27, 'z_p2_1': 29, 'z_p2_2': 29, 'z_r2': 82, 'z_r2_1': 78, 'z_r2_2': 80, 'x_s': 0.5, 'x_s_1': 0.4, 'x_s_2': 0.3, 'x_p1': 0.833867, 'x_p1_1': 0.733867, 'x_p1_2': 0.63173, 'x_p2': 0.346429, 'x_p2_1': 0.246429, 'x_p2_2': 0.143802, 'x_r2': 0.972874, 'x_r2_1': 0.870883, 'x_r2_2': 0.758672} using model BoTorch.\n",
      "[INFO 04-05 13:52:34] ax.service.ax_client: Completed trial 69 with data: {'Viable_Cross_Terms': (78, None)}.\n",
      "[INFO 04-05 13:52:56] ax.service.ax_client: Generated new trial 70 with parameters {'z_sh': 10, 'z_sh_1': 12, 'z_sh_2': 8, 'z_p2': 27, 'z_p2_1': 26, 'z_p2_2': 30, 'z_r2': 75, 'z_r2_1': 75, 'z_r2_2': 82, 'x_s': 0.5, 'x_s_1': 0.4, 'x_s_2': 0.3, 'x_p1': 0.75295, 'x_p1_1': 0.65295, 'x_p1_2': 0.55295, 'x_p2': 0.36323, 'x_p2_1': 0.26323, 'x_p2_2': 0.159039, 'x_r2': 0.913856, 'x_r2_1': 0.811639, 'x_r2_2': 0.711521} using model BoTorch.\n",
      "[INFO 04-05 13:52:56] ax.service.ax_client: Completed trial 70 with data: {'Viable_Cross_Terms': (35, None)}.\n",
      "[INFO 04-05 13:53:15] ax.service.ax_client: Generated new trial 71 with parameters {'z_sh': 10, 'z_sh_1': 11, 'z_sh_2': 9, 'z_p2': 29, 'z_p2_1': 28, 'z_p2_2': 33, 'z_r2': 80, 'z_r2_1': 78, 'z_r2_2': 78, 'x_s': 0.5, 'x_s_1': 0.4, 'x_s_2': 0.3, 'x_p1': 0.594994, 'x_p1_1': 0.494994, 'x_p1_2': 0.394994, 'x_p2': 0.5, 'x_p2_1': 0.4, 'x_p2_2': 0.3, 'x_r2': 1.5, 'x_r2_1': 1.4, 'x_r2_2': -1.196083} using model BoTorch.\n",
      "[INFO 04-05 13:53:15] ax.service.ax_client: Completed trial 71 with data: {'Viable_Cross_Terms': (0, None)}.\n",
      "[INFO 04-05 13:53:32] ax.service.ax_client: Generated new trial 72 with parameters {'z_sh': 13, 'z_sh_1': 8, 'z_sh_2': 5, 'z_p2': 27, 'z_p2_1': 27, 'z_p2_2': 28, 'z_r2': 75, 'z_r2_1': 74, 'z_r2_2': 84, 'x_s': 0.5, 'x_s_1': 0.4, 'x_s_2': 0.3, 'x_p1': 0.877979, 'x_p1_1': 0.777979, 'x_p1_2': 0.677979, 'x_p2': 0.326146, 'x_p2_1': 0.226146, 'x_p2_2': 0.117781, 'x_r2': 0.889741, 'x_r2_1': 0.786903, 'x_r2_2': 0.681833} using model BoTorch.\n",
      "[INFO 04-05 13:53:32] ax.service.ax_client: Completed trial 72 with data: {'Viable_Cross_Terms': (25, None)}.\n",
      "[INFO 04-05 13:53:48] ax.service.ax_client: Generated new trial 73 with parameters {'z_sh': 7, 'z_sh_1': 10, 'z_sh_2': 10, 'z_p2': 30, 'z_p2_1': 32, 'z_p2_2': 32, 'z_r2': 75, 'z_r2_1': 77, 'z_r2_2': 70, 'x_s': 0.5, 'x_s_1': 0.4, 'x_s_2': 0.3, 'x_p1': 0.636983, 'x_p1_1': 0.536983, 'x_p1_2': 0.436983, 'x_p2': 0.5, 'x_p2_1': 0.4, 'x_p2_2': 0.3, 'x_r2': 1.079244, 'x_r2_1': 0.979244, 'x_r2_2': 0.879244} using model BoTorch.\n",
      "[INFO 04-05 13:53:48] ax.service.ax_client: Completed trial 73 with data: {'Viable_Cross_Terms': (35, None)}.\n",
      "[INFO 04-05 13:54:03] ax.service.ax_client: Generated new trial 74 with parameters {'z_sh': 9, 'z_sh_1': 10, 'z_sh_2': 10, 'z_p2': 27, 'z_p2_1': 28, 'z_p2_2': 29, 'z_r2': 83, 'z_r2_1': 84, 'z_r2_2': 77, 'x_s': 0.5, 'x_s_1': 0.4, 'x_s_2': 0.3, 'x_p1': 1.0, 'x_p1_1': 0.9, 'x_p1_2': 0.8, 'x_p2': 0.369433, 'x_p2_1': 0.269433, 'x_p2_2': 0.169433, 'x_r2': 1.005833, 'x_r2_1': 0.905833, 'x_r2_2': 0.805761} using model BoTorch.\n",
      "[INFO 04-05 13:54:03] ax.service.ax_client: Completed trial 74 with data: {'Viable_Cross_Terms': (22, None)}.\n",
      "[INFO 04-05 13:54:19] ax.service.ax_client: Generated new trial 75 with parameters {'z_sh': 7, 'z_sh_1': 10, 'z_sh_2': 9, 'z_p2': 30, 'z_p2_1': 31, 'z_p2_2': 32, 'z_r2': 85, 'z_r2_1': 76, 'z_r2_2': 82, 'x_s': 0.5, 'x_s_1': 0.4, 'x_s_2': 0.157656, 'x_p1': 0.767686, 'x_p1_1': 0.191062, 'x_p1_2': -0.041735, 'x_p2': 0.40952, 'x_p2_1': 0.266116, 'x_p2_2': 0.166116, 'x_r2': 1.45991, 'x_r2_1': 1.336299, 'x_r2_2': -0.20115} using model BoTorch.\n",
      "[INFO 04-05 13:54:19] ax.service.ax_client: Completed trial 75 with data: {'Viable_Cross_Terms': (3, None)}.\n",
      "[INFO 04-05 13:54:36] ax.service.ax_client: Generated new trial 76 with parameters {'z_sh': 12, 'z_sh_1': 11, 'z_sh_2': 7, 'z_p2': 27, 'z_p2_1': 30, 'z_p2_2': 26, 'z_r2': 86, 'z_r2_1': 81, 'z_r2_2': 78, 'x_s': 0.5, 'x_s_1': 0.4, 'x_s_2': 0.3, 'x_p1': 0.378603, 'x_p1_1': 0.278603, 'x_p1_2': 0.178603, 'x_p2': 0.424484, 'x_p2_1': 0.324484, 'x_p2_2': 0.224484, 'x_r2': 1.050989, 'x_r2_1': 0.950989, 'x_r2_2': 0.794251} using model BoTorch.\n",
      "[INFO 04-05 13:54:36] ax.service.ax_client: Completed trial 76 with data: {'Viable_Cross_Terms': (19, None)}.\n",
      "[INFO 04-05 13:54:52] ax.service.ax_client: Generated new trial 77 with parameters {'z_sh': 9, 'z_sh_1': 8, 'z_sh_2': 10, 'z_p2': 32, 'z_p2_1': 33, 'z_p2_2': 29, 'z_r2': 81, 'z_r2_1': 83, 'z_r2_2': 73, 'x_s': 0.5, 'x_s_1': 0.4, 'x_s_2': 0.3, 'x_p1': 0.422941, 'x_p1_1': 0.322941, 'x_p1_2': 0.222941, 'x_p2': 0.5, 'x_p2_1': 0.4, 'x_p2_2': 0.3, 'x_r2': 0.903313, 'x_r2_1': 0.803313, 'x_r2_2': 0.703313} using model BoTorch.\n",
      "[INFO 04-05 13:54:52] ax.service.ax_client: Completed trial 77 with data: {'Viable_Cross_Terms': (33, None)}.\n",
      "[INFO 04-05 13:55:13] ax.service.ax_client: Generated new trial 78 with parameters {'z_sh': 15, 'z_sh_1': 6, 'z_sh_2': 5, 'z_p2': 34, 'z_p2_1': 28, 'z_p2_2': 25, 'z_r2': 72, 'z_r2_1': 73, 'z_r2_2': 82, 'x_s': 0.00035, 'x_s_1': -0.3058, 'x_s_2': -0.4058, 'x_p1': 0.264815, 'x_p1_1': -0.352602, 'x_p1_2': -0.452602, 'x_p2': 0.5, 'x_p2_1': 0.378079, 'x_p2_2': -0.133274, 'x_r2': 0.897608, 'x_r2_1': -0.967745, 'x_r2_2': -1.5} using model BoTorch.\n",
      "[INFO 04-05 13:55:13] ax.service.ax_client: Completed trial 78 with data: {'Viable_Cross_Terms': (2, None)}.\n",
      "[INFO 04-05 13:55:29] ax.service.ax_client: Generated new trial 79 with parameters {'z_sh': 10, 'z_sh_1': 9, 'z_sh_2': 7, 'z_p2': 28, 'z_p2_1': 30, 'z_p2_2': 25, 'z_r2': 77, 'z_r2_1': 79, 'z_r2_2': 80, 'x_s': 0.5, 'x_s_1': 0.4, 'x_s_2': 0.3, 'x_p1': 0.885326, 'x_p1_1': 0.785326, 'x_p1_2': 0.685326, 'x_p2': 0.351602, 'x_p2_1': 0.251602, 'x_p2_2': 0.151602, 'x_r2': 0.962699, 'x_r2_1': 0.862699, 'x_r2_2': 0.762699} using model BoTorch.\n",
      "[INFO 04-05 13:55:29] ax.service.ax_client: Completed trial 79 with data: {'Viable_Cross_Terms': (26, None)}.\n",
      "[INFO 04-05 13:55:46] ax.service.ax_client: Generated new trial 80 with parameters {'z_sh': 11, 'z_sh_1': 13, 'z_sh_2': 9, 'z_p2': 27, 'z_p2_1': 33, 'z_p2_2': 32, 'z_r2': 79, 'z_r2_1': 78, 'z_r2_2': 75, 'x_s': 0.5, 'x_s_1': 0.4, 'x_s_2': 0.3, 'x_p1': 0.717831, 'x_p1_1': 0.617831, 'x_p1_2': 0.517831, 'x_p2': 0.430934, 'x_p2_1': 0.330934, 'x_p2_2': 0.230934, 'x_r2': 0.994055, 'x_r2_1': 0.894055, 'x_r2_2': 0.794055} using model BoTorch.\n",
      "[INFO 04-05 13:55:46] ax.service.ax_client: Completed trial 80 with data: {'Viable_Cross_Terms': (35, None)}.\n",
      "[INFO 04-05 13:56:03] ax.service.ax_client: Generated new trial 81 with parameters {'z_sh': 7, 'z_sh_1': 13, 'z_sh_2': 6, 'z_p2': 27, 'z_p2_1': 27, 'z_p2_2': 28, 'z_r2': 75, 'z_r2_1': 74, 'z_r2_2': 82, 'x_s': 0.5, 'x_s_1': 0.4, 'x_s_2': 0.3, 'x_p1': 0.842258, 'x_p1_1': 0.742258, 'x_p1_2': 0.642258, 'x_p2': 0.335901, 'x_p2_1': 0.235901, 'x_p2_2': 0.135901, 'x_r2': 0.926011, 'x_r2_1': 0.826011, 'x_r2_2': 0.725247} using model BoTorch.\n",
      "[INFO 04-05 13:56:03] ax.service.ax_client: Completed trial 81 with data: {'Viable_Cross_Terms': (40, None)}.\n",
      "[INFO 04-05 13:56:19] ax.service.ax_client: Generated new trial 82 with parameters {'z_sh': 12, 'z_sh_1': 9, 'z_sh_2': 8, 'z_p2': 33, 'z_p2_1': 29, 'z_p2_2': 27, 'z_r2': 83, 'z_r2_1': 71, 'z_r2_2': 71, 'x_s': 0.5, 'x_s_1': 0.4, 'x_s_2': 0.3, 'x_p1': 0.647209, 'x_p1_1': 0.547209, 'x_p1_2': 0.447209, 'x_p2': 0.5, 'x_p2_1': 0.4, 'x_p2_2': 0.3, 'x_r2': 1.078105, 'x_r2_1': 0.978105, 'x_r2_2': 0.878094} using model BoTorch.\n",
      "[INFO 04-05 13:56:19] ax.service.ax_client: Completed trial 82 with data: {'Viable_Cross_Terms': (37, None)}.\n",
      "[INFO 04-05 13:56:35] ax.service.ax_client: Generated new trial 83 with parameters {'z_sh': 8, 'z_sh_1': 6, 'z_sh_2': 5, 'z_p2': 28, 'z_p2_1': 26, 'z_p2_2': 30, 'z_r2': 81, 'z_r2_1': 80, 'z_r2_2': 78, 'x_s': 0.5, 'x_s_1': 0.4, 'x_s_2': 0.3, 'x_p1': 0.788187, 'x_p1_1': 0.688187, 'x_p1_2': 0.588187, 'x_p2': 0.382165, 'x_p2_1': 0.282165, 'x_p2_2': 0.182165, 'x_r2': 0.996465, 'x_r2_1': 0.896465, 'x_r2_2': 0.796465} using model BoTorch.\n",
      "[INFO 04-05 13:56:35] ax.service.ax_client: Completed trial 83 with data: {'Viable_Cross_Terms': (76, None)}.\n",
      "[INFO 04-05 13:56:54] ax.service.ax_client: Generated new trial 84 with parameters {'z_sh': 8, 'z_sh_1': 11, 'z_sh_2': 5, 'z_p2': 27, 'z_p2_1': 31, 'z_p2_2': 28, 'z_r2': 80, 'z_r2_1': 79, 'z_r2_2': 83, 'x_s': 0.5, 'x_s_1': 0.4, 'x_s_2': 0.3, 'x_p1': 0.79861, 'x_p1_1': 0.69861, 'x_p1_2': 0.59861, 'x_p2': 0.380534, 'x_p2_1': 0.280534, 'x_p2_2': 0.180534, 'x_r2': 0.92133, 'x_r2_1': 0.82133, 'x_r2_2': 0.72133} using model BoTorch.\n",
      "[INFO 04-05 13:56:54] ax.service.ax_client: Completed trial 84 with data: {'Viable_Cross_Terms': (60, None)}.\n",
      "[INFO 04-05 13:57:12] ax.service.ax_client: Generated new trial 85 with parameters {'z_sh': 10, 'z_sh_1': 9, 'z_sh_2': 12, 'z_p2': 32, 'z_p2_1': 29, 'z_p2_2': 27, 'z_r2': 84, 'z_r2_1': 80, 'z_r2_2': 81, 'x_s': 0.5, 'x_s_1': 0.4, 'x_s_2': 0.3, 'x_p1': 0.414593, 'x_p1_1': 0.314593, 'x_p1_2': 0.214593, 'x_p2': 0.5, 'x_p2_1': 0.4, 'x_p2_2': 0.3, 'x_r2': 0.784385, 'x_r2_1': 0.684385, 'x_r2_2': 0.584385} using model BoTorch.\n",
      "[INFO 04-05 13:57:12] ax.service.ax_client: Completed trial 85 with data: {'Viable_Cross_Terms': (32, None)}.\n",
      "[INFO 04-05 13:57:32] ax.service.ax_client: Generated new trial 86 with parameters {'z_sh': 9, 'z_sh_1': 12, 'z_sh_2': 6, 'z_p2': 30, 'z_p2_1': 29, 'z_p2_2': 30, 'z_r2': 80, 'z_r2_1': 85, 'z_r2_2': 81, 'x_s': 0.5, 'x_s_1': 0.4, 'x_s_2': 0.3, 'x_p1': 0.384841, 'x_p1_1': 0.284841, 'x_p1_2': 0.184841, 'x_p2': 0.456728, 'x_p2_1': 0.356728, 'x_p2_2': 0.256728, 'x_r2': 0.817714, 'x_r2_1': 0.717714, 'x_r2_2': 0.617714} using model BoTorch.\n",
      "[INFO 04-05 13:57:32] ax.service.ax_client: Completed trial 86 with data: {'Viable_Cross_Terms': (34, None)}.\n",
      "[INFO 04-05 13:57:50] ax.service.ax_client: Generated new trial 87 with parameters {'z_sh': 10, 'z_sh_1': 8, 'z_sh_2': 11, 'z_p2': 29, 'z_p2_1': 31, 'z_p2_2': 29, 'z_r2': 80, 'z_r2_1': 79, 'z_r2_2': 82, 'x_s': 0.5, 'x_s_1': 0.4, 'x_s_2': 0.3, 'x_p1': 0.870711, 'x_p1_1': 0.770711, 'x_p1_2': 0.670711, 'x_p2': 0.375679, 'x_p2_1': 0.275679, 'x_p2_2': 0.175679, 'x_r2': 0.912351, 'x_r2_1': 0.812351, 'x_r2_2': 0.712351} using model BoTorch.\n",
      "[INFO 04-05 13:57:50] ax.service.ax_client: Completed trial 87 with data: {'Viable_Cross_Terms': (22, None)}.\n",
      "[INFO 04-05 13:58:07] ax.service.ax_client: Generated new trial 88 with parameters {'z_sh': 12, 'z_sh_1': 11, 'z_sh_2': 10, 'z_p2': 28, 'z_p2_1': 33, 'z_p2_2': 32, 'z_r2': 76, 'z_r2_1': 77, 'z_r2_2': 80, 'x_s': 0.5, 'x_s_1': 0.4, 'x_s_2': 0.3, 'x_p1': 0.628797, 'x_p1_1': 0.528797, 'x_p1_2': 0.428797, 'x_p2': 0.119446, 'x_p2_1': 0.019446, 'x_p2_2': -0.080554, 'x_r2': 1.031484, 'x_r2_1': 0.931484, 'x_r2_2': 0.831484} using model BoTorch.\n",
      "[INFO 04-05 13:58:07] ax.service.ax_client: Completed trial 88 with data: {'Viable_Cross_Terms': (13, None)}.\n"
     ]
    }
   ],
   "source": [
    "for i in range(100):\n",
    "    parameterization, trial_index = Tag_client.get_next_trial()\n",
    "    # Local evaluation here can be replaced with deployment to external system.\n",
    "    Tag_client.complete_trial(trial_index=trial_index, raw_data=score_vals(param_to_list(parameterization)))"
   ]
  },
  {
   "cell_type": "code",
   "execution_count": 31,
   "metadata": {},
   "outputs": [
    {
     "data": {
      "text/html": [
       "<div>\n",
       "<style scoped>\n",
       "    .dataframe tbody tr th:only-of-type {\n",
       "        vertical-align: middle;\n",
       "    }\n",
       "\n",
       "    .dataframe tbody tr th {\n",
       "        vertical-align: top;\n",
       "    }\n",
       "\n",
       "    .dataframe thead th {\n",
       "        text-align: right;\n",
       "    }\n",
       "</style>\n",
       "<table border=\"1\" class=\"dataframe\">\n",
       "  <thead>\n",
       "    <tr style=\"text-align: right;\">\n",
       "      <th></th>\n",
       "      <th>trial_index</th>\n",
       "      <th>arm_name</th>\n",
       "      <th>trial_status</th>\n",
       "      <th>generation_method</th>\n",
       "      <th>generation_node</th>\n",
       "      <th>Viable_Cross_Terms</th>\n",
       "      <th>z_s</th>\n",
       "      <th>z_s_1</th>\n",
       "      <th>z_s_2</th>\n",
       "      <th>z_p2</th>\n",
       "      <th>...</th>\n",
       "      <th>x_s_2</th>\n",
       "      <th>x_p1</th>\n",
       "      <th>x_p1_1</th>\n",
       "      <th>x_p1_2</th>\n",
       "      <th>x_p2</th>\n",
       "      <th>x_p2_1</th>\n",
       "      <th>x_p2_2</th>\n",
       "      <th>x_r2</th>\n",
       "      <th>x_r2_1</th>\n",
       "      <th>x_r2_2</th>\n",
       "    </tr>\n",
       "  </thead>\n",
       "  <tbody>\n",
       "    <tr>\n",
       "      <th>0</th>\n",
       "      <td>0</td>\n",
       "      <td>0_0</td>\n",
       "      <td>COMPLETED</td>\n",
       "      <td>Sobol</td>\n",
       "      <td>GenerationStep_0</td>\n",
       "      <td>23.0</td>\n",
       "      <td>4</td>\n",
       "      <td>14</td>\n",
       "      <td>2</td>\n",
       "      <td>34</td>\n",
       "      <td>...</td>\n",
       "      <td>-0.267983</td>\n",
       "      <td>0.406724</td>\n",
       "      <td>-0.487027</td>\n",
       "      <td>-0.819365</td>\n",
       "      <td>0.411736</td>\n",
       "      <td>0.287000</td>\n",
       "      <td>-0.358565</td>\n",
       "      <td>-0.481922</td>\n",
       "      <td>-0.624526</td>\n",
       "      <td>-1.225820</td>\n",
       "    </tr>\n",
       "    <tr>\n",
       "      <th>1</th>\n",
       "      <td>1</td>\n",
       "      <td>1_0</td>\n",
       "      <td>COMPLETED</td>\n",
       "      <td>Sobol</td>\n",
       "      <td>GenerationStep_0</td>\n",
       "      <td>0.0</td>\n",
       "      <td>13</td>\n",
       "      <td>14</td>\n",
       "      <td>3</td>\n",
       "      <td>30</td>\n",
       "      <td>...</td>\n",
       "      <td>-0.424703</td>\n",
       "      <td>-0.096240</td>\n",
       "      <td>-0.748804</td>\n",
       "      <td>-0.956622</td>\n",
       "      <td>-0.089115</td>\n",
       "      <td>-0.216367</td>\n",
       "      <td>-0.359825</td>\n",
       "      <td>1.397608</td>\n",
       "      <td>1.015468</td>\n",
       "      <td>0.619523</td>\n",
       "    </tr>\n",
       "    <tr>\n",
       "      <th>2</th>\n",
       "      <td>2</td>\n",
       "      <td>2_0</td>\n",
       "      <td>COMPLETED</td>\n",
       "      <td>Sobol</td>\n",
       "      <td>GenerationStep_0</td>\n",
       "      <td>10.0</td>\n",
       "      <td>15</td>\n",
       "      <td>3</td>\n",
       "      <td>4</td>\n",
       "      <td>30</td>\n",
       "      <td>...</td>\n",
       "      <td>-0.362195</td>\n",
       "      <td>0.393837</td>\n",
       "      <td>-0.278691</td>\n",
       "      <td>-0.743073</td>\n",
       "      <td>0.103719</td>\n",
       "      <td>-0.109155</td>\n",
       "      <td>-0.447294</td>\n",
       "      <td>-0.475565</td>\n",
       "      <td>-0.885141</td>\n",
       "      <td>-1.117790</td>\n",
       "    </tr>\n",
       "    <tr>\n",
       "      <th>3</th>\n",
       "      <td>3</td>\n",
       "      <td>3_0</td>\n",
       "      <td>COMPLETED</td>\n",
       "      <td>Sobol</td>\n",
       "      <td>GenerationStep_0</td>\n",
       "      <td>15.0</td>\n",
       "      <td>9</td>\n",
       "      <td>8</td>\n",
       "      <td>8</td>\n",
       "      <td>27</td>\n",
       "      <td>...</td>\n",
       "      <td>-0.436929</td>\n",
       "      <td>0.900059</td>\n",
       "      <td>0.235358</td>\n",
       "      <td>-0.653168</td>\n",
       "      <td>-0.140779</td>\n",
       "      <td>-0.320558</td>\n",
       "      <td>-0.447464</td>\n",
       "      <td>1.113364</td>\n",
       "      <td>-0.140545</td>\n",
       "      <td>-1.117658</td>\n",
       "    </tr>\n",
       "    <tr>\n",
       "      <th>4</th>\n",
       "      <td>4</td>\n",
       "      <td>4_0</td>\n",
       "      <td>COMPLETED</td>\n",
       "      <td>Sobol</td>\n",
       "      <td>GenerationStep_0</td>\n",
       "      <td>12.0</td>\n",
       "      <td>4</td>\n",
       "      <td>6</td>\n",
       "      <td>1</td>\n",
       "      <td>31</td>\n",
       "      <td>...</td>\n",
       "      <td>-0.444333</td>\n",
       "      <td>0.652787</td>\n",
       "      <td>0.471753</td>\n",
       "      <td>-0.766865</td>\n",
       "      <td>0.478475</td>\n",
       "      <td>0.350862</td>\n",
       "      <td>-0.386281</td>\n",
       "      <td>0.163649</td>\n",
       "      <td>-1.097523</td>\n",
       "      <td>-1.374402</td>\n",
       "    </tr>\n",
       "    <tr>\n",
       "      <th>...</th>\n",
       "      <td>...</td>\n",
       "      <td>...</td>\n",
       "      <td>...</td>\n",
       "      <td>...</td>\n",
       "      <td>...</td>\n",
       "      <td>...</td>\n",
       "      <td>...</td>\n",
       "      <td>...</td>\n",
       "      <td>...</td>\n",
       "      <td>...</td>\n",
       "      <td>...</td>\n",
       "      <td>...</td>\n",
       "      <td>...</td>\n",
       "      <td>...</td>\n",
       "      <td>...</td>\n",
       "      <td>...</td>\n",
       "      <td>...</td>\n",
       "      <td>...</td>\n",
       "      <td>...</td>\n",
       "      <td>...</td>\n",
       "      <td>...</td>\n",
       "    </tr>\n",
       "    <tr>\n",
       "      <th>256</th>\n",
       "      <td>256</td>\n",
       "      <td>256_0</td>\n",
       "      <td>COMPLETED</td>\n",
       "      <td>BoTorch</td>\n",
       "      <td>GenerationStep_1</td>\n",
       "      <td>22.0</td>\n",
       "      <td>7</td>\n",
       "      <td>7</td>\n",
       "      <td>6</td>\n",
       "      <td>31</td>\n",
       "      <td>...</td>\n",
       "      <td>-0.384694</td>\n",
       "      <td>0.375767</td>\n",
       "      <td>0.275767</td>\n",
       "      <td>0.175767</td>\n",
       "      <td>0.183298</td>\n",
       "      <td>-0.261355</td>\n",
       "      <td>-0.500000</td>\n",
       "      <td>0.128131</td>\n",
       "      <td>0.028131</td>\n",
       "      <td>-0.566577</td>\n",
       "    </tr>\n",
       "    <tr>\n",
       "      <th>257</th>\n",
       "      <td>257</td>\n",
       "      <td>257_0</td>\n",
       "      <td>COMPLETED</td>\n",
       "      <td>BoTorch</td>\n",
       "      <td>GenerationStep_1</td>\n",
       "      <td>31.0</td>\n",
       "      <td>4</td>\n",
       "      <td>6</td>\n",
       "      <td>3</td>\n",
       "      <td>31</td>\n",
       "      <td>...</td>\n",
       "      <td>-0.500000</td>\n",
       "      <td>0.690120</td>\n",
       "      <td>0.590120</td>\n",
       "      <td>-0.980752</td>\n",
       "      <td>0.177364</td>\n",
       "      <td>0.077364</td>\n",
       "      <td>-0.500000</td>\n",
       "      <td>1.187558</td>\n",
       "      <td>0.996683</td>\n",
       "      <td>-0.681695</td>\n",
       "    </tr>\n",
       "    <tr>\n",
       "      <th>258</th>\n",
       "      <td>258</td>\n",
       "      <td>258_0</td>\n",
       "      <td>COMPLETED</td>\n",
       "      <td>BoTorch</td>\n",
       "      <td>GenerationStep_1</td>\n",
       "      <td>33.0</td>\n",
       "      <td>10</td>\n",
       "      <td>7</td>\n",
       "      <td>8</td>\n",
       "      <td>31</td>\n",
       "      <td>...</td>\n",
       "      <td>-0.302605</td>\n",
       "      <td>0.238400</td>\n",
       "      <td>0.135905</td>\n",
       "      <td>0.012167</td>\n",
       "      <td>0.247947</td>\n",
       "      <td>-0.317304</td>\n",
       "      <td>-0.470164</td>\n",
       "      <td>0.207764</td>\n",
       "      <td>0.107764</td>\n",
       "      <td>0.007764</td>\n",
       "    </tr>\n",
       "    <tr>\n",
       "      <th>259</th>\n",
       "      <td>259</td>\n",
       "      <td>259_0</td>\n",
       "      <td>COMPLETED</td>\n",
       "      <td>BoTorch</td>\n",
       "      <td>GenerationStep_1</td>\n",
       "      <td>36.0</td>\n",
       "      <td>3</td>\n",
       "      <td>4</td>\n",
       "      <td>6</td>\n",
       "      <td>31</td>\n",
       "      <td>...</td>\n",
       "      <td>-0.500000</td>\n",
       "      <td>0.572702</td>\n",
       "      <td>0.472702</td>\n",
       "      <td>-1.000000</td>\n",
       "      <td>0.115094</td>\n",
       "      <td>0.015094</td>\n",
       "      <td>-0.500000</td>\n",
       "      <td>0.534170</td>\n",
       "      <td>0.434170</td>\n",
       "      <td>-1.500000</td>\n",
       "    </tr>\n",
       "    <tr>\n",
       "      <th>260</th>\n",
       "      <td>260</td>\n",
       "      <td>260_0</td>\n",
       "      <td>COMPLETED</td>\n",
       "      <td>BoTorch</td>\n",
       "      <td>GenerationStep_1</td>\n",
       "      <td>18.0</td>\n",
       "      <td>11</td>\n",
       "      <td>3</td>\n",
       "      <td>9</td>\n",
       "      <td>31</td>\n",
       "      <td>...</td>\n",
       "      <td>-0.024693</td>\n",
       "      <td>0.216406</td>\n",
       "      <td>0.116406</td>\n",
       "      <td>0.009012</td>\n",
       "      <td>0.091832</td>\n",
       "      <td>-0.376158</td>\n",
       "      <td>-0.476158</td>\n",
       "      <td>0.571342</td>\n",
       "      <td>0.471342</td>\n",
       "      <td>0.371342</td>\n",
       "    </tr>\n",
       "  </tbody>\n",
       "</table>\n",
       "<p>261 rows × 27 columns</p>\n",
       "</div>"
      ],
      "text/plain": [
       "     trial_index arm_name trial_status generation_method   generation_node  \\\n",
       "0              0      0_0    COMPLETED             Sobol  GenerationStep_0   \n",
       "1              1      1_0    COMPLETED             Sobol  GenerationStep_0   \n",
       "2              2      2_0    COMPLETED             Sobol  GenerationStep_0   \n",
       "3              3      3_0    COMPLETED             Sobol  GenerationStep_0   \n",
       "4              4      4_0    COMPLETED             Sobol  GenerationStep_0   \n",
       "..           ...      ...          ...               ...               ...   \n",
       "256          256    256_0    COMPLETED           BoTorch  GenerationStep_1   \n",
       "257          257    257_0    COMPLETED           BoTorch  GenerationStep_1   \n",
       "258          258    258_0    COMPLETED           BoTorch  GenerationStep_1   \n",
       "259          259    259_0    COMPLETED           BoTorch  GenerationStep_1   \n",
       "260          260    260_0    COMPLETED           BoTorch  GenerationStep_1   \n",
       "\n",
       "     Viable_Cross_Terms  z_s  z_s_1  z_s_2  z_p2  ...     x_s_2      x_p1  \\\n",
       "0                  23.0    4     14      2    34  ... -0.267983  0.406724   \n",
       "1                   0.0   13     14      3    30  ... -0.424703 -0.096240   \n",
       "2                  10.0   15      3      4    30  ... -0.362195  0.393837   \n",
       "3                  15.0    9      8      8    27  ... -0.436929  0.900059   \n",
       "4                  12.0    4      6      1    31  ... -0.444333  0.652787   \n",
       "..                  ...  ...    ...    ...   ...  ...       ...       ...   \n",
       "256                22.0    7      7      6    31  ... -0.384694  0.375767   \n",
       "257                31.0    4      6      3    31  ... -0.500000  0.690120   \n",
       "258                33.0   10      7      8    31  ... -0.302605  0.238400   \n",
       "259                36.0    3      4      6    31  ... -0.500000  0.572702   \n",
       "260                18.0   11      3      9    31  ... -0.024693  0.216406   \n",
       "\n",
       "       x_p1_1    x_p1_2      x_p2    x_p2_1    x_p2_2      x_r2    x_r2_1  \\\n",
       "0   -0.487027 -0.819365  0.411736  0.287000 -0.358565 -0.481922 -0.624526   \n",
       "1   -0.748804 -0.956622 -0.089115 -0.216367 -0.359825  1.397608  1.015468   \n",
       "2   -0.278691 -0.743073  0.103719 -0.109155 -0.447294 -0.475565 -0.885141   \n",
       "3    0.235358 -0.653168 -0.140779 -0.320558 -0.447464  1.113364 -0.140545   \n",
       "4    0.471753 -0.766865  0.478475  0.350862 -0.386281  0.163649 -1.097523   \n",
       "..        ...       ...       ...       ...       ...       ...       ...   \n",
       "256  0.275767  0.175767  0.183298 -0.261355 -0.500000  0.128131  0.028131   \n",
       "257  0.590120 -0.980752  0.177364  0.077364 -0.500000  1.187558  0.996683   \n",
       "258  0.135905  0.012167  0.247947 -0.317304 -0.470164  0.207764  0.107764   \n",
       "259  0.472702 -1.000000  0.115094  0.015094 -0.500000  0.534170  0.434170   \n",
       "260  0.116406  0.009012  0.091832 -0.376158 -0.476158  0.571342  0.471342   \n",
       "\n",
       "       x_r2_2  \n",
       "0   -1.225820  \n",
       "1    0.619523  \n",
       "2   -1.117790  \n",
       "3   -1.117658  \n",
       "4   -1.374402  \n",
       "..        ...  \n",
       "256 -0.566577  \n",
       "257 -0.681695  \n",
       "258  0.007764  \n",
       "259 -1.500000  \n",
       "260  0.371342  \n",
       "\n",
       "[261 rows x 27 columns]"
      ]
     },
     "execution_count": 31,
     "metadata": {},
     "output_type": "execute_result"
    }
   ],
   "source": [
    "Tag_client.generation_strategy.trials_as_df"
   ]
  },
  {
   "cell_type": "code",
   "execution_count": 101,
   "metadata": {},
   "outputs": [
    {
     "name": "stdout",
     "output_type": "stream",
     "text": [
      "z_s: 3\n",
      "z_s_1: 7\n",
      "z_s_2: 5\n",
      "z_p2: 31\n",
      "z_p2_1: 26\n",
      "z_p2_2: 30\n",
      "z_r2: 79\n",
      "z_r2_1: 77\n",
      "z_r2_2: 77\n",
      "x_s: 0.17349965513764704\n",
      "x_s_1: 0.07349965513764674\n",
      "x_s_2: -0.5\n",
      "x_p1: 0.45120902502584115\n",
      "x_p1_1: 0.351209025025841\n",
      "x_p1_2: -0.9573386006388365\n",
      "x_p2: 0.08684245707229843\n",
      "x_p2_1: -0.2507809491531123\n",
      "x_p2_2: -0.5\n",
      "x_r2: 0.5876409705413281\n",
      "x_r2_1: 0.4876409705413281\n",
      "x_r2_2: -0.08496851087478198\n",
      "39\n"
     ]
    }
   ],
   "source": [
    "best_parameters, values = Tag_client.get_best_parameters()\n",
    "for name, value in best_parameters.items():\n",
    "    print(f\"{name}: {value}\")\n",
    "print(score_vals(param_to_list(best_parameters)))"
   ]
  },
  {
   "cell_type": "code",
   "execution_count": null,
   "metadata": {},
   "outputs": [],
   "source": [
    "param_to_list(best_parameters)"
   ]
  },
  {
   "cell_type": "code",
   "execution_count": 120,
   "metadata": {},
   "outputs": [
    {
     "data": {
      "application/vnd.plotly.v1+json": {
       "config": {
        "linkText": "Export to plot.ly",
        "plotlyServerURL": "https://plot.ly",
        "showLink": false
       },
       "data": [
        {
         "hoverinfo": "none",
         "legendgroup": "",
         "line": {
          "width": 0
         },
         "mode": "lines",
         "showlegend": false,
         "type": "scatter",
         "x": {
          "bdata": "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",
          "dtype": "i4"
         },
         "y": {
          "bdata": "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",
          "dtype": "f8"
         }
        },
        {
         "fill": "tonexty",
         "fillcolor": "rgba(128,177,211,0.3)",
         "legendgroup": "objective value",
         "line": {
          "color": "rgba(128,177,211,1)"
         },
         "mode": "lines",
         "name": "objective value",
         "text": [
          "Parameterization has too many items to render on hover (21).",
          "Parameterization has too many items to render on hover (21).",
          "Parameterization has too many items to render on hover (21).",
          "Parameterization has too many items to render on hover (21).",
          "Parameterization has too many items to render on hover (21).",
          "Parameterization has too many items to render on hover (21).",
          "Parameterization has too many items to render on hover (21).",
          "Parameterization has too many items to render on hover (21).",
          "Parameterization has too many items to render on hover (21).",
          "Parameterization has too many items to render on hover (21).",
          "Parameterization has too many items to render on hover (21).",
          "Parameterization has too many items to render on hover (21).",
          "Parameterization has too many items to render on hover (21).",
          "Parameterization has too many items to render on hover (21).",
          "Parameterization has too many items to render on hover (21).",
          "Parameterization has too many items to render on hover (21).",
          "Parameterization has too many items to render on hover (21).",
          "Parameterization has too many items to render on hover (21).",
          "Parameterization has too many items to render on hover (21).",
          "Parameterization has too many items to render on hover (21).",
          "Parameterization has too many items to render on hover (21).",
          "Parameterization has too many items to render on hover (21).",
          "Parameterization has too many items to render on hover (21).",
          "Parameterization has too many items to render on hover (21).",
          "Parameterization has too many items to render on hover (21).",
          "Parameterization has too many items to render on hover (21).",
          "Parameterization has too many items to render on hover (21).",
          "Parameterization has too many items to render on hover (21).",
          "Parameterization has too many items to render on hover (21).",
          "Parameterization has too many items to render on hover (21).",
          "Parameterization has too many items to render on hover (21).",
          "Parameterization has too many items to render on hover (21).",
          "Parameterization has too many items to render on hover (21).",
          "Parameterization has too many items to render on hover (21).",
          "Parameterization has too many items to render on hover (21).",
          "Parameterization has too many items to render on hover (21).",
          "Parameterization has too many items to render on hover (21).",
          "Parameterization has too many items to render on hover (21).",
          "Parameterization has too many items to render on hover (21).",
          "Parameterization has too many items to render on hover (21).",
          "Parameterization has too many items to render on hover (21).",
          "Parameterization has too many items to render on hover (21).",
          "Parameterization has too many items to render on hover (21).",
          "Parameterization has too many items to render on hover (21).",
          "Parameterization has too many items to render on hover (21).",
          "Parameterization has too many items to render on hover (21).",
          "Parameterization has too many items to render on hover (21).",
          "Parameterization has too many items to render on hover (21).",
          "Parameterization has too many items to render on hover (21).",
          "Parameterization has too many items to render on hover (21).",
          "Parameterization has too many items to render on hover (21).",
          "Parameterization has too many items to render on hover (21).",
          "Parameterization has too many items to render on hover (21).",
          "Parameterization has too many items to render on hover (21).",
          "Parameterization has too many items to render on hover (21).",
          "Parameterization has too many items to render on hover (21).",
          "Parameterization has too many items to render on hover (21).",
          "Parameterization has too many items to render on hover (21).",
          "Parameterization has too many items to render on hover (21).",
          "Parameterization has too many items to render on hover (21).",
          "Parameterization has too many items to render on hover (21).",
          "Parameterization has too many items to render on hover (21).",
          "Parameterization has too many items to render on hover (21).",
          "Parameterization has too many items to render on hover (21).",
          "Parameterization has too many items to render on hover (21).",
          "Parameterization has too many items to render on hover (21).",
          "Parameterization has too many items to render on hover (21).",
          "Parameterization has too many items to render on hover (21).",
          "Parameterization has too many items to render on hover (21).",
          "Parameterization has too many items to render on hover (21).",
          "Parameterization has too many items to render on hover (21).",
          "Parameterization has too many items to render on hover (21).",
          "Parameterization has too many items to render on hover (21).",
          "Parameterization has too many items to render on hover (21).",
          "Parameterization has too many items to render on hover (21).",
          "Parameterization has too many items to render on hover (21).",
          "Parameterization has too many items to render on hover (21).",
          "Parameterization has too many items to render on hover (21).",
          "Parameterization has too many items to render on hover (21).",
          "Parameterization has too many items to render on hover (21).",
          "Parameterization has too many items to render on hover (21).",
          "Parameterization has too many items to render on hover (21).",
          "Parameterization has too many items to render on hover (21).",
          "Parameterization has too many items to render on hover (21).",
          "Parameterization has too many items to render on hover (21).",
          "Parameterization has too many items to render on hover (21).",
          "Parameterization has too many items to render on hover (21).",
          "Parameterization has too many items to render on hover (21).",
          "Parameterization has too many items to render on hover (21).",
          "Parameterization has too many items to render on hover (21).",
          "Parameterization has too many items to render on hover (21).",
          "Parameterization has too many items to render on hover (21).",
          "Parameterization has too many items to render on hover (21).",
          "Parameterization has too many items to render on hover (21).",
          "Parameterization has too many items to render on hover (21).",
          "Parameterization has too many items to render on hover (21).",
          "Parameterization has too many items to render on hover (21).",
          "Parameterization has too many items to render on hover (21).",
          "Parameterization has too many items to render on hover (21).",
          "Parameterization has too many items to render on hover (21).",
          "Parameterization has too many items to render on hover (21).",
          "Parameterization has too many items to render on hover (21).",
          "Parameterization has too many items to render on hover (21).",
          "Parameterization has too many items to render on hover (21).",
          "Parameterization has too many items to render on hover (21).",
          "Parameterization has too many items to render on hover (21).",
          "Parameterization has too many items to render on hover (21).",
          "Parameterization has too many items to render on hover (21).",
          "Parameterization has too many items to render on hover (21).",
          "Parameterization has too many items to render on hover (21).",
          "Parameterization has too many items to render on hover (21).",
          "Parameterization has too many items to render on hover (21).",
          "Parameterization has too many items to render on hover (21).",
          "Parameterization has too many items to render on hover (21).",
          "Parameterization has too many items to render on hover (21).",
          "Parameterization has too many items to render on hover (21).",
          "Parameterization has too many items to render on hover (21).",
          "Parameterization has too many items to render on hover (21).",
          "Parameterization has too many items to render on hover (21).",
          "Parameterization has too many items to render on hover (21).",
          "Parameterization has too many items to render on hover (21).",
          "Parameterization has too many items to render on hover (21).",
          "Parameterization has too many items to render on hover (21).",
          "Parameterization has too many items to render on hover (21).",
          "Parameterization has too many items to render on hover (21).",
          "Parameterization has too many items to render on hover (21).",
          "Parameterization has too many items to render on hover (21).",
          "Parameterization has too many items to render on hover (21).",
          "Parameterization has too many items to render on hover (21).",
          "Parameterization has too many items to render on hover (21).",
          "Parameterization has too many items to render on hover (21).",
          "Parameterization has too many items to render on hover (21).",
          "Parameterization has too many items to render on hover (21).",
          "Parameterization has too many items to render on hover (21).",
          "Parameterization has too many items to render on hover (21).",
          "Parameterization has too many items to render on hover (21).",
          "Parameterization has too many items to render on hover (21).",
          "Parameterization has too many items to render on hover (21).",
          "Parameterization has too many items to render on hover (21).",
          "Parameterization has too many items to render on hover (21).",
          "Parameterization has too many items to render on hover (21).",
          "Parameterization has too many items to render on hover (21).",
          "Parameterization has too many items to render on hover (21).",
          "Parameterization has too many items to render on hover (21).",
          "Parameterization has too many items to render on hover (21).",
          "Parameterization has too many items to render on hover (21).",
          "Parameterization has too many items to render on hover (21).",
          "Parameterization has too many items to render on hover (21).",
          "Parameterization has too many items to render on hover (21).",
          "Parameterization has too many items to render on hover (21).",
          "Parameterization has too many items to render on hover (21).",
          "Parameterization has too many items to render on hover (21).",
          "Parameterization has too many items to render on hover (21).",
          "Parameterization has too many items to render on hover (21).",
          "Parameterization has too many items to render on hover (21).",
          "Parameterization has too many items to render on hover (21).",
          "Parameterization has too many items to render on hover (21).",
          "Parameterization has too many items to render on hover (21).",
          "Parameterization has too many items to render on hover (21).",
          "Parameterization has too many items to render on hover (21).",
          "Parameterization has too many items to render on hover (21).",
          "Parameterization has too many items to render on hover (21).",
          "Parameterization has too many items to render on hover (21).",
          "Parameterization has too many items to render on hover (21).",
          "Parameterization has too many items to render on hover (21).",
          "Parameterization has too many items to render on hover (21).",
          "Parameterization has too many items to render on hover (21).",
          "Parameterization has too many items to render on hover (21).",
          "Parameterization has too many items to render on hover (21).",
          "Parameterization has too many items to render on hover (21).",
          "Parameterization has too many items to render on hover (21).",
          "Parameterization has too many items to render on hover (21).",
          "Parameterization has too many items to render on hover (21).",
          "Parameterization has too many items to render on hover (21).",
          "Parameterization has too many items to render on hover (21).",
          "Parameterization has too many items to render on hover (21).",
          "Parameterization has too many items to render on hover (21).",
          "Parameterization has too many items to render on hover (21).",
          "Parameterization has too many items to render on hover (21).",
          "Parameterization has too many items to render on hover (21).",
          "Parameterization has too many items to render on hover (21).",
          "Parameterization has too many items to render on hover (21).",
          "Parameterization has too many items to render on hover (21).",
          "Parameterization has too many items to render on hover (21).",
          "Parameterization has too many items to render on hover (21).",
          "Parameterization has too many items to render on hover (21).",
          "Parameterization has too many items to render on hover (21).",
          "Parameterization has too many items to render on hover (21).",
          "Parameterization has too many items to render on hover (21).",
          "Parameterization has too many items to render on hover (21).",
          "Parameterization has too many items to render on hover (21).",
          "Parameterization has too many items to render on hover (21).",
          "Parameterization has too many items to render on hover (21).",
          "Parameterization has too many items to render on hover (21).",
          "Parameterization has too many items to render on hover (21).",
          "Parameterization has too many items to render on hover (21).",
          "Parameterization has too many items to render on hover (21).",
          "Parameterization has too many items to render on hover (21).",
          "Parameterization has too many items to render on hover (21).",
          "Parameterization has too many items to render on hover (21).",
          "Parameterization has too many items to render on hover (21).",
          "Parameterization has too many items to render on hover (21).",
          "Parameterization has too many items to render on hover (21).",
          "Parameterization has too many items to render on hover (21).",
          "Parameterization has too many items to render on hover (21).",
          "Parameterization has too many items to render on hover (21).",
          "Parameterization has too many items to render on hover (21).",
          "Parameterization has too many items to render on hover (21).",
          "Parameterization has too many items to render on hover (21).",
          "Parameterization has too many items to render on hover (21).",
          "Parameterization has too many items to render on hover (21).",
          "Parameterization has too many items to render on hover (21).",
          "Parameterization has too many items to render on hover (21).",
          "Parameterization has too many items to render on hover (21).",
          "Parameterization has too many items to render on hover (21).",
          "Parameterization has too many items to render on hover (21).",
          "Parameterization has too many items to render on hover (21).",
          "Parameterization has too many items to render on hover (21).",
          "Parameterization has too many items to render on hover (21).",
          "Parameterization has too many items to render on hover (21).",
          "Parameterization has too many items to render on hover (21).",
          "Parameterization has too many items to render on hover (21).",
          "Parameterization has too many items to render on hover (21).",
          "Parameterization has too many items to render on hover (21).",
          "Parameterization has too many items to render on hover (21).",
          "Parameterization has too many items to render on hover (21).",
          "Parameterization has too many items to render on hover (21).",
          "Parameterization has too many items to render on hover (21).",
          "Parameterization has too many items to render on hover (21).",
          "Parameterization has too many items to render on hover (21).",
          "Parameterization has too many items to render on hover (21).",
          "Parameterization has too many items to render on hover (21).",
          "Parameterization has too many items to render on hover (21).",
          "Parameterization has too many items to render on hover (21).",
          "Parameterization has too many items to render on hover (21).",
          "Parameterization has too many items to render on hover (21).",
          "Parameterization has too many items to render on hover (21).",
          "Parameterization has too many items to render on hover (21).",
          "Parameterization has too many items to render on hover (21).",
          "Parameterization has too many items to render on hover (21).",
          "Parameterization has too many items to render on hover (21).",
          "Parameterization has too many items to render on hover (21).",
          "Parameterization has too many items to render on hover (21).",
          "Parameterization has too many items to render on hover (21).",
          "Parameterization has too many items to render on hover (21).",
          "Parameterization has too many items to render on hover (21).",
          "Parameterization has too many items to render on hover (21).",
          "Parameterization has too many items to render on hover (21).",
          "Parameterization has too many items to render on hover (21).",
          "Parameterization has too many items to render on hover (21).",
          "Parameterization has too many items to render on hover (21).",
          "Parameterization has too many items to render on hover (21).",
          "Parameterization has too many items to render on hover (21).",
          "Parameterization has too many items to render on hover (21).",
          "Parameterization has too many items to render on hover (21).",
          "Parameterization has too many items to render on hover (21).",
          "Parameterization has too many items to render on hover (21).",
          "Parameterization has too many items to render on hover (21).",
          "Parameterization has too many items to render on hover (21).",
          "Parameterization has too many items to render on hover (21).",
          "Parameterization has too many items to render on hover (21).",
          "Parameterization has too many items to render on hover (21).",
          "Parameterization has too many items to render on hover (21).",
          "Parameterization has too many items to render on hover (21).",
          "Parameterization has too many items to render on hover (21).",
          "Parameterization has too many items to render on hover (21).",
          "Parameterization has too many items to render on hover (21).",
          "Parameterization has too many items to render on hover (21).",
          "Parameterization has too many items to render on hover (21).",
          "Parameterization has too many items to render on hover (21).",
          "Parameterization has too many items to render on hover (21).",
          "Parameterization has too many items to render on hover (21).",
          "Parameterization has too many items to render on hover (21).",
          "Parameterization has too many items to render on hover (21).",
          "Parameterization has too many items to render on hover (21).",
          "Parameterization has too many items to render on hover (21).",
          "Parameterization has too many items to render on hover (21).",
          "Parameterization has too many items to render on hover (21).",
          "Parameterization has too many items to render on hover (21).",
          "Parameterization has too many items to render on hover (21).",
          "Parameterization has too many items to render on hover (21).",
          "Parameterization has too many items to render on hover (21).",
          "Parameterization has too many items to render on hover (21).",
          "Parameterization has too many items to render on hover (21).",
          "Parameterization has too many items to render on hover (21).",
          "Parameterization has too many items to render on hover (21).",
          "Parameterization has too many items to render on hover (21).",
          "Parameterization has too many items to render on hover (21).",
          "Parameterization has too many items to render on hover (21).",
          "Parameterization has too many items to render on hover (21).",
          "Parameterization has too many items to render on hover (21).",
          "Parameterization has too many items to render on hover (21).",
          "Parameterization has too many items to render on hover (21).",
          "Parameterization has too many items to render on hover (21).",
          "Parameterization has too many items to render on hover (21).",
          "Parameterization has too many items to render on hover (21).",
          "Parameterization has too many items to render on hover (21).",
          "Parameterization has too many items to render on hover (21).",
          "Parameterization has too many items to render on hover (21).",
          "Parameterization has too many items to render on hover (21).",
          "Parameterization has too many items to render on hover (21).",
          "Parameterization has too many items to render on hover (21).",
          "Parameterization has too many items to render on hover (21).",
          "Parameterization has too many items to render on hover (21).",
          "Parameterization has too many items to render on hover (21).",
          "Parameterization has too many items to render on hover (21).",
          "Parameterization has too many items to render on hover (21).",
          "Parameterization has too many items to render on hover (21).",
          "Parameterization has too many items to render on hover (21).",
          "Parameterization has too many items to render on hover (21).",
          "Parameterization has too many items to render on hover (21).",
          "Parameterization has too many items to render on hover (21).",
          "Parameterization has too many items to render on hover (21).",
          "Parameterization has too many items to render on hover (21).",
          "Parameterization has too many items to render on hover (21).",
          "Parameterization has too many items to render on hover (21).",
          "Parameterization has too many items to render on hover (21).",
          "Parameterization has too many items to render on hover (21).",
          "Parameterization has too many items to render on hover (21).",
          "Parameterization has too many items to render on hover (21).",
          "Parameterization has too many items to render on hover (21).",
          "Parameterization has too many items to render on hover (21).",
          "Parameterization has too many items to render on hover (21).",
          "Parameterization has too many items to render on hover (21).",
          "Parameterization has too many items to render on hover (21).",
          "Parameterization has too many items to render on hover (21).",
          "Parameterization has too many items to render on hover (21).",
          "Parameterization has too many items to render on hover (21).",
          "Parameterization has too many items to render on hover (21).",
          "Parameterization has too many items to render on hover (21).",
          "Parameterization has too many items to render on hover (21).",
          "Parameterization has too many items to render on hover (21).",
          "Parameterization has too many items to render on hover (21).",
          "Parameterization has too many items to render on hover (21).",
          "Parameterization has too many items to render on hover (21).",
          "Parameterization has too many items to render on hover (21).",
          "Parameterization has too many items to render on hover (21).",
          "Parameterization has too many items to render on hover (21).",
          "Parameterization has too many items to render on hover (21).",
          "Parameterization has too many items to render on hover (21).",
          "Parameterization has too many items to render on hover (21).",
          "Parameterization has too many items to render on hover (21).",
          "Parameterization has too many items to render on hover (21).",
          "Parameterization has too many items to render on hover (21).",
          "Parameterization has too many items to render on hover (21).",
          "Parameterization has too many items to render on hover (21).",
          "Parameterization has too many items to render on hover (21).",
          "Parameterization has too many items to render on hover (21).",
          "Parameterization has too many items to render on hover (21).",
          "Parameterization has too many items to render on hover (21).",
          "Parameterization has too many items to render on hover (21).",
          "Parameterization has too many items to render on hover (21).",
          "Parameterization has too many items to render on hover (21).",
          "Parameterization has too many items to render on hover (21).",
          "Parameterization has too many items to render on hover (21).",
          "Parameterization has too many items to render on hover (21).",
          "Parameterization has too many items to render on hover (21).",
          "Parameterization has too many items to render on hover (21).",
          "Parameterization has too many items to render on hover (21).",
          "Parameterization has too many items to render on hover (21).",
          "Parameterization has too many items to render on hover (21).",
          "Parameterization has too many items to render on hover (21).",
          "Parameterization has too many items to render on hover (21).",
          "Parameterization has too many items to render on hover (21).",
          "Parameterization has too many items to render on hover (21).",
          "Parameterization has too many items to render on hover (21).",
          "Parameterization has too many items to render on hover (21).",
          "Parameterization has too many items to render on hover (21).",
          "Parameterization has too many items to render on hover (21).",
          "Parameterization has too many items to render on hover (21).",
          "Parameterization has too many items to render on hover (21).",
          "Parameterization has too many items to render on hover (21).",
          "Parameterization has too many items to render on hover (21).",
          "Parameterization has too many items to render on hover (21).",
          "Parameterization has too many items to render on hover (21).",
          "Parameterization has too many items to render on hover (21).",
          "Parameterization has too many items to render on hover (21).",
          "Parameterization has too many items to render on hover (21).",
          "Parameterization has too many items to render on hover (21).",
          "Parameterization has too many items to render on hover (21).",
          "Parameterization has too many items to render on hover (21).",
          "Parameterization has too many items to render on hover (21).",
          "Parameterization has too many items to render on hover (21).",
          "Parameterization has too many items to render on hover (21).",
          "Parameterization has too many items to render on hover (21).",
          "Parameterization has too many items to render on hover (21).",
          "Parameterization has too many items to render on hover (21).",
          "Parameterization has too many items to render on hover (21).",
          "Parameterization has too many items to render on hover (21).",
          "Parameterization has too many items to render on hover (21).",
          "Parameterization has too many items to render on hover (21).",
          "Parameterization has too many items to render on hover (21).",
          "Parameterization has too many items to render on hover (21).",
          "Parameterization has too many items to render on hover (21).",
          "Parameterization has too many items to render on hover (21).",
          "Parameterization has too many items to render on hover (21).",
          "Parameterization has too many items to render on hover (21).",
          "Parameterization has too many items to render on hover (21).",
          "Parameterization has too many items to render on hover (21).",
          "Parameterization has too many items to render on hover (21).",
          "Parameterization has too many items to render on hover (21).",
          "Parameterization has too many items to render on hover (21).",
          "Parameterization has too many items to render on hover (21).",
          "Parameterization has too many items to render on hover (21).",
          "Parameterization has too many items to render on hover (21).",
          "Parameterization has too many items to render on hover (21).",
          "Parameterization has too many items to render on hover (21).",
          "Parameterization has too many items to render on hover (21).",
          "Parameterization has too many items to render on hover (21).",
          "Parameterization has too many items to render on hover (21).",
          "Parameterization has too many items to render on hover (21).",
          "Parameterization has too many items to render on hover (21).",
          "Parameterization has too many items to render on hover (21).",
          "Parameterization has too many items to render on hover (21).",
          "Parameterization has too many items to render on hover (21).",
          "Parameterization has too many items to render on hover (21).",
          "Parameterization has too many items to render on hover (21).",
          "Parameterization has too many items to render on hover (21).",
          "Parameterization has too many items to render on hover (21).",
          "Parameterization has too many items to render on hover (21).",
          "Parameterization has too many items to render on hover (21).",
          "Parameterization has too many items to render on hover (21).",
          "Parameterization has too many items to render on hover (21).",
          "Parameterization has too many items to render on hover (21).",
          "Parameterization has too many items to render on hover (21).",
          "Parameterization has too many items to render on hover (21).",
          "Parameterization has too many items to render on hover (21).",
          "Parameterization has too many items to render on hover (21).",
          "Parameterization has too many items to render on hover (21).",
          "Parameterization has too many items to render on hover (21).",
          "Parameterization has too many items to render on hover (21).",
          "Parameterization has too many items to render on hover (21).",
          "Parameterization has too many items to render on hover (21).",
          "Parameterization has too many items to render on hover (21).",
          "Parameterization has too many items to render on hover (21).",
          "Parameterization has too many items to render on hover (21).",
          "Parameterization has too many items to render on hover (21).",
          "Parameterization has too many items to render on hover (21).",
          "Parameterization has too many items to render on hover (21).",
          "Parameterization has too many items to render on hover (21).",
          "Parameterization has too many items to render on hover (21).",
          "Parameterization has too many items to render on hover (21).",
          "Parameterization has too many items to render on hover (21).",
          "Parameterization has too many items to render on hover (21).",
          "Parameterization has too many items to render on hover (21).",
          "Parameterization has too many items to render on hover (21).",
          "Parameterization has too many items to render on hover (21).",
          "Parameterization has too many items to render on hover (21).",
          "Parameterization has too many items to render on hover (21).",
          "Parameterization has too many items to render on hover (21).",
          "Parameterization has too many items to render on hover (21).",
          "Parameterization has too many items to render on hover (21).",
          "Parameterization has too many items to render on hover (21).",
          "Parameterization has too many items to render on hover (21).",
          "Parameterization has too many items to render on hover (21).",
          "Parameterization has too many items to render on hover (21).",
          "Parameterization has too many items to render on hover (21).",
          "Parameterization has too many items to render on hover (21).",
          "Parameterization has too many items to render on hover (21).",
          "Parameterization has too many items to render on hover (21).",
          "Parameterization has too many items to render on hover (21).",
          "Parameterization has too many items to render on hover (21).",
          "Parameterization has too many items to render on hover (21).",
          "Parameterization has too many items to render on hover (21).",
          "Parameterization has too many items to render on hover (21).",
          "Parameterization has too many items to render on hover (21).",
          "Parameterization has too many items to render on hover (21).",
          "Parameterization has too many items to render on hover (21).",
          "Parameterization has too many items to render on hover (21).",
          "Parameterization has too many items to render on hover (21).",
          "Parameterization has too many items to render on hover (21).",
          "Parameterization has too many items to render on hover (21).",
          "Parameterization has too many items to render on hover (21).",
          "Parameterization has too many items to render on hover (21).",
          "Parameterization has too many items to render on hover (21).",
          "Parameterization has too many items to render on hover (21).",
          "Parameterization has too many items to render on hover (21).",
          "Parameterization has too many items to render on hover (21).",
          "Parameterization has too many items to render on hover (21).",
          "Parameterization has too many items to render on hover (21).",
          "Parameterization has too many items to render on hover (21).",
          "Parameterization has too many items to render on hover (21).",
          "Parameterization has too many items to render on hover (21).",
          "Parameterization has too many items to render on hover (21).",
          "Parameterization has too many items to render on hover (21).",
          "Parameterization has too many items to render on hover (21).",
          "Parameterization has too many items to render on hover (21).",
          "Parameterization has too many items to render on hover (21).",
          "Parameterization has too many items to render on hover (21).",
          "Parameterization has too many items to render on hover (21).",
          "Parameterization has too many items to render on hover (21).",
          "Parameterization has too many items to render on hover (21).",
          "Parameterization has too many items to render on hover (21).",
          "Parameterization has too many items to render on hover (21).",
          "Parameterization has too many items to render on hover (21).",
          "Parameterization has too many items to render on hover (21).",
          "Parameterization has too many items to render on hover (21).",
          "Parameterization has too many items to render on hover (21).",
          "Parameterization has too many items to render on hover (21).",
          "Parameterization has too many items to render on hover (21).",
          "Parameterization has too many items to render on hover (21).",
          "Parameterization has too many items to render on hover (21).",
          "Parameterization has too many items to render on hover (21).",
          "Parameterization has too many items to render on hover (21).",
          "Parameterization has too many items to render on hover (21).",
          "Parameterization has too many items to render on hover (21).",
          "Parameterization has too many items to render on hover (21).",
          "Parameterization has too many items to render on hover (21).",
          "Parameterization has too many items to render on hover (21).",
          "Parameterization has too many items to render on hover (21).",
          "Parameterization has too many items to render on hover (21).",
          "Parameterization has too many items to render on hover (21).",
          "Parameterization has too many items to render on hover (21).",
          "Parameterization has too many items to render on hover (21).",
          "Parameterization has too many items to render on hover (21).",
          "Parameterization has too many items to render on hover (21).",
          "Parameterization has too many items to render on hover (21).",
          "Parameterization has too many items to render on hover (21).",
          "Parameterization has too many items to render on hover (21).",
          "Parameterization has too many items to render on hover (21).",
          "Parameterization has too many items to render on hover (21).",
          "Parameterization has too many items to render on hover (21).",
          "Parameterization has too many items to render on hover (21).",
          "Parameterization has too many items to render on hover (21).",
          "Parameterization has too many items to render on hover (21).",
          "Parameterization has too many items to render on hover (21).",
          "Parameterization has too many items to render on hover (21).",
          "Parameterization has too many items to render on hover (21).",
          "Parameterization has too many items to render on hover (21).",
          "Parameterization has too many items to render on hover (21).",
          "Parameterization has too many items to render on hover (21).",
          "Parameterization has too many items to render on hover (21).",
          "Parameterization has too many items to render on hover (21).",
          "Parameterization has too many items to render on hover (21).",
          "Parameterization has too many items to render on hover (21).",
          "Parameterization has too many items to render on hover (21).",
          "Parameterization has too many items to render on hover (21).",
          "Parameterization has too many items to render on hover (21).",
          "Parameterization has too many items to render on hover (21).",
          "Parameterization has too many items to render on hover (21).",
          "Parameterization has too many items to render on hover (21).",
          "Parameterization has too many items to render on hover (21).",
          "Parameterization has too many items to render on hover (21).",
          "Parameterization has too many items to render on hover (21).",
          "Parameterization has too many items to render on hover (21).",
          "Parameterization has too many items to render on hover (21).",
          "Parameterization has too many items to render on hover (21).",
          "Parameterization has too many items to render on hover (21).",
          "Parameterization has too many items to render on hover (21).",
          "Parameterization has too many items to render on hover (21).",
          "Parameterization has too many items to render on hover (21).",
          "Parameterization has too many items to render on hover (21).",
          "Parameterization has too many items to render on hover (21).",
          "Parameterization has too many items to render on hover (21).",
          "Parameterization has too many items to render on hover (21).",
          "Parameterization has too many items to render on hover (21).",
          "Parameterization has too many items to render on hover (21).",
          "Parameterization has too many items to render on hover (21).",
          "Parameterization has too many items to render on hover (21).",
          "Parameterization has too many items to render on hover (21).",
          "Parameterization has too many items to render on hover (21).",
          "Parameterization has too many items to render on hover (21).",
          "Parameterization has too many items to render on hover (21).",
          "Parameterization has too many items to render on hover (21).",
          "Parameterization has too many items to render on hover (21).",
          "Parameterization has too many items to render on hover (21).",
          "Parameterization has too many items to render on hover (21).",
          "Parameterization has too many items to render on hover (21).",
          "Parameterization has too many items to render on hover (21).",
          "Parameterization has too many items to render on hover (21).",
          "Parameterization has too many items to render on hover (21).",
          "Parameterization has too many items to render on hover (21).",
          "Parameterization has too many items to render on hover (21).",
          "Parameterization has too many items to render on hover (21).",
          "Parameterization has too many items to render on hover (21).",
          "Parameterization has too many items to render on hover (21).",
          "Parameterization has too many items to render on hover (21).",
          "Parameterization has too many items to render on hover (21).",
          "Parameterization has too many items to render on hover (21).",
          "Parameterization has too many items to render on hover (21).",
          "Parameterization has too many items to render on hover (21).",
          "Parameterization has too many items to render on hover (21).",
          "Parameterization has too many items to render on hover (21).",
          "Parameterization has too many items to render on hover (21).",
          "Parameterization has too many items to render on hover (21).",
          "Parameterization has too many items to render on hover (21).",
          "Parameterization has too many items to render on hover (21).",
          "Parameterization has too many items to render on hover (21).",
          "Parameterization has too many items to render on hover (21).",
          "Parameterization has too many items to render on hover (21).",
          "Parameterization has too many items to render on hover (21).",
          "Parameterization has too many items to render on hover (21).",
          "Parameterization has too many items to render on hover (21).",
          "Parameterization has too many items to render on hover (21).",
          "Parameterization has too many items to render on hover (21).",
          "Parameterization has too many items to render on hover (21).",
          "Parameterization has too many items to render on hover (21).",
          "Parameterization has too many items to render on hover (21).",
          "Parameterization has too many items to render on hover (21).",
          "Parameterization has too many items to render on hover (21).",
          "Parameterization has too many items to render on hover (21).",
          "Parameterization has too many items to render on hover (21).",
          "Parameterization has too many items to render on hover (21).",
          "Parameterization has too many items to render on hover (21).",
          "Parameterization has too many items to render on hover (21).",
          "Parameterization has too many items to render on hover (21).",
          "Parameterization has too many items to render on hover (21).",
          "Parameterization has too many items to render on hover (21).",
          "Parameterization has too many items to render on hover (21).",
          "Parameterization has too many items to render on hover (21).",
          "Parameterization has too many items to render on hover (21).",
          "Parameterization has too many items to render on hover (21).",
          "Parameterization has too many items to render on hover (21).",
          "Parameterization has too many items to render on hover (21).",
          "Parameterization has too many items to render on hover (21).",
          "Parameterization has too many items to render on hover (21).",
          "Parameterization has too many items to render on hover (21).",
          "Parameterization has too many items to render on hover (21).",
          "Parameterization has too many items to render on hover (21).",
          "Parameterization has too many items to render on hover (21).",
          "Parameterization has too many items to render on hover (21).",
          "Parameterization has too many items to render on hover (21).",
          "Parameterization has too many items to render on hover (21).",
          "Parameterization has too many items to render on hover (21).",
          "Parameterization has too many items to render on hover (21).",
          "Parameterization has too many items to render on hover (21).",
          "Parameterization has too many items to render on hover (21).",
          "Parameterization has too many items to render on hover (21).",
          "Parameterization has too many items to render on hover (21).",
          "Parameterization has too many items to render on hover (21).",
          "Parameterization has too many items to render on hover (21).",
          "Parameterization has too many items to render on hover (21).",
          "Parameterization has too many items to render on hover (21).",
          "Parameterization has too many items to render on hover (21).",
          "Parameterization has too many items to render on hover (21).",
          "Parameterization has too many items to render on hover (21).",
          "Parameterization has too many items to render on hover (21).",
          "Parameterization has too many items to render on hover (21).",
          "Parameterization has too many items to render on hover (21).",
          "Parameterization has too many items to render on hover (21).",
          "Parameterization has too many items to render on hover (21).",
          "Parameterization has too many items to render on hover (21).",
          "Parameterization has too many items to render on hover (21).",
          "Parameterization has too many items to render on hover (21).",
          "Parameterization has too many items to render on hover (21).",
          "Parameterization has too many items to render on hover (21).",
          "Parameterization has too many items to render on hover (21).",
          "Parameterization has too many items to render on hover (21).",
          "Parameterization has too many items to render on hover (21).",
          "Parameterization has too many items to render on hover (21).",
          "Parameterization has too many items to render on hover (21).",
          "Parameterization has too many items to render on hover (21).",
          "Parameterization has too many items to render on hover (21).",
          "Parameterization has too many items to render on hover (21).",
          "Parameterization has too many items to render on hover (21).",
          "Parameterization has too many items to render on hover (21).",
          "Parameterization has too many items to render on hover (21).",
          "Parameterization has too many items to render on hover (21).",
          "Parameterization has too many items to render on hover (21).",
          "Parameterization has too many items to render on hover (21).",
          "Parameterization has too many items to render on hover (21).",
          "Parameterization has too many items to render on hover (21).",
          "Parameterization has too many items to render on hover (21).",
          "Parameterization has too many items to render on hover (21).",
          "Parameterization has too many items to render on hover (21).",
          "Parameterization has too many items to render on hover (21).",
          "Parameterization has too many items to render on hover (21).",
          "Parameterization has too many items to render on hover (21).",
          "Parameterization has too many items to render on hover (21).",
          "Parameterization has too many items to render on hover (21).",
          "Parameterization has too many items to render on hover (21).",
          "Parameterization has too many items to render on hover (21).",
          "Parameterization has too many items to render on hover (21).",
          "Parameterization has too many items to render on hover (21).",
          "Parameterization has too many items to render on hover (21).",
          "Parameterization has too many items to render on hover (21).",
          "Parameterization has too many items to render on hover (21).",
          "Parameterization has too many items to render on hover (21).",
          "Parameterization has too many items to render on hover (21).",
          "Parameterization has too many items to render on hover (21).",
          "Parameterization has too many items to render on hover (21).",
          "Parameterization has too many items to render on hover (21).",
          "Parameterization has too many items to render on hover (21).",
          "Parameterization has too many items to render on hover (21).",
          "Parameterization has too many items to render on hover (21).",
          "Parameterization has too many items to render on hover (21).",
          "Parameterization has too many items to render on hover (21).",
          "Parameterization has too many items to render on hover (21).",
          "Parameterization has too many items to render on hover (21).",
          "Parameterization has too many items to render on hover (21).",
          "Parameterization has too many items to render on hover (21).",
          "Parameterization has too many items to render on hover (21).",
          "Parameterization has too many items to render on hover (21).",
          "Parameterization has too many items to render on hover (21).",
          "Parameterization has too many items to render on hover (21).",
          "Parameterization has too many items to render on hover (21).",
          "Parameterization has too many items to render on hover (21).",
          "Parameterization has too many items to render on hover (21).",
          "Parameterization has too many items to render on hover (21).",
          "Parameterization has too many items to render on hover (21).",
          "Parameterization has too many items to render on hover (21).",
          "Parameterization has too many items to render on hover (21).",
          "Parameterization has too many items to render on hover (21).",
          "Parameterization has too many items to render on hover (21).",
          "Parameterization has too many items to render on hover (21).",
          "Parameterization has too many items to render on hover (21).",
          "Parameterization has too many items to render on hover (21).",
          "Parameterization has too many items to render on hover (21).",
          "Parameterization has too many items to render on hover (21).",
          "Parameterization has too many items to render on hover (21).",
          "Parameterization has too many items to render on hover (21).",
          "Parameterization has too many items to render on hover (21).",
          "Parameterization has too many items to render on hover (21).",
          "Parameterization has too many items to render on hover (21).",
          "Parameterization has too many items to render on hover (21).",
          "Parameterization has too many items to render on hover (21).",
          "Parameterization has too many items to render on hover (21).",
          "Parameterization has too many items to render on hover (21).",
          "Parameterization has too many items to render on hover (21).",
          "Parameterization has too many items to render on hover (21).",
          "Parameterization has too many items to render on hover (21).",
          "Parameterization has too many items to render on hover (21).",
          "Parameterization has too many items to render on hover (21).",
          "Parameterization has too many items to render on hover (21).",
          "Parameterization has too many items to render on hover (21).",
          "Parameterization has too many items to render on hover (21).",
          "Parameterization has too many items to render on hover (21).",
          "Parameterization has too many items to render on hover (21).",
          "Parameterization has too many items to render on hover (21).",
          "Parameterization has too many items to render on hover (21).",
          "Parameterization has too many items to render on hover (21).",
          "Parameterization has too many items to render on hover (21).",
          "Parameterization has too many items to render on hover (21).",
          "Parameterization has too many items to render on hover (21).",
          "Parameterization has too many items to render on hover (21).",
          "Parameterization has too many items to render on hover (21).",
          "Parameterization has too many items to render on hover (21).",
          "Parameterization has too many items to render on hover (21).",
          "Parameterization has too many items to render on hover (21).",
          "Parameterization has too many items to render on hover (21).",
          "Parameterization has too many items to render on hover (21).",
          "Parameterization has too many items to render on hover (21).",
          "Parameterization has too many items to render on hover (21).",
          "Parameterization has too many items to render on hover (21).",
          "Parameterization has too many items to render on hover (21).",
          "Parameterization has too many items to render on hover (21).",
          "Parameterization has too many items to render on hover (21).",
          "Parameterization has too many items to render on hover (21).",
          "Parameterization has too many items to render on hover (21).",
          "Parameterization has too many items to render on hover (21).",
          "Parameterization has too many items to render on hover (21).",
          "Parameterization has too many items to render on hover (21).",
          "Parameterization has too many items to render on hover (21).",
          "Parameterization has too many items to render on hover (21).",
          "Parameterization has too many items to render on hover (21).",
          "Parameterization has too many items to render on hover (21).",
          "Parameterization has too many items to render on hover (21).",
          "Parameterization has too many items to render on hover (21).",
          "Parameterization has too many items to render on hover (21).",
          "Parameterization has too many items to render on hover (21).",
          "Parameterization has too many items to render on hover (21).",
          "Parameterization has too many items to render on hover (21).",
          "Parameterization has too many items to render on hover (21).",
          "Parameterization has too many items to render on hover (21).",
          "Parameterization has too many items to render on hover (21).",
          "Parameterization has too many items to render on hover (21).",
          "Parameterization has too many items to render on hover (21).",
          "Parameterization has too many items to render on hover (21).",
          "Parameterization has too many items to render on hover (21).",
          "Parameterization has too many items to render on hover (21).",
          "Parameterization has too many items to render on hover (21).",
          "Parameterization has too many items to render on hover (21).",
          "Parameterization has too many items to render on hover (21).",
          "Parameterization has too many items to render on hover (21).",
          "Parameterization has too many items to render on hover (21).",
          "Parameterization has too many items to render on hover (21).",
          "Parameterization has too many items to render on hover (21).",
          "Parameterization has too many items to render on hover (21).",
          "Parameterization has too many items to render on hover (21).",
          "Parameterization has too many items to render on hover (21).",
          "Parameterization has too many items to render on hover (21).",
          "Parameterization has too many items to render on hover (21).",
          "Parameterization has too many items to render on hover (21).",
          "Parameterization has too many items to render on hover (21).",
          "Parameterization has too many items to render on hover (21).",
          "Parameterization has too many items to render on hover (21).",
          "Parameterization has too many items to render on hover (21).",
          "Parameterization has too many items to render on hover (21).",
          "Parameterization has too many items to render on hover (21).",
          "Parameterization has too many items to render on hover (21).",
          "Parameterization has too many items to render on hover (21).",
          "Parameterization has too many items to render on hover (21).",
          "Parameterization has too many items to render on hover (21).",
          "Parameterization has too many items to render on hover (21).",
          "Parameterization has too many items to render on hover (21).",
          "Parameterization has too many items to render on hover (21).",
          "Parameterization has too many items to render on hover (21).",
          "Parameterization has too many items to render on hover (21).",
          "Parameterization has too many items to render on hover (21).",
          "Parameterization has too many items to render on hover (21).",
          "Parameterization has too many items to render on hover (21).",
          "Parameterization has too many items to render on hover (21).",
          "Parameterization has too many items to render on hover (21).",
          "Parameterization has too many items to render on hover (21).",
          "Parameterization has too many items to render on hover (21).",
          "Parameterization has too many items to render on hover (21).",
          "Parameterization has too many items to render on hover (21).",
          "Parameterization has too many items to render on hover (21).",
          "Parameterization has too many items to render on hover (21).",
          "Parameterization has too many items to render on hover (21).",
          "Parameterization has too many items to render on hover (21).",
          "Parameterization has too many items to render on hover (21).",
          "Parameterization has too many items to render on hover (21).",
          "Parameterization has too many items to render on hover (21).",
          "Parameterization has too many items to render on hover (21).",
          "Parameterization has too many items to render on hover (21).",
          "Parameterization has too many items to render on hover (21).",
          "Parameterization has too many items to render on hover (21).",
          "Parameterization has too many items to render on hover (21).",
          "Parameterization has too many items to render on hover (21).",
          "Parameterization has too many items to render on hover (21).",
          "Parameterization has too many items to render on hover (21).",
          "Parameterization has too many items to render on hover (21).",
          "Parameterization has too many items to render on hover (21).",
          "Parameterization has too many items to render on hover (21).",
          "Parameterization has too many items to render on hover (21).",
          "Parameterization has too many items to render on hover (21).",
          "Parameterization has too many items to render on hover (21).",
          "Parameterization has too many items to render on hover (21).",
          "Parameterization has too many items to render on hover (21).",
          "Parameterization has too many items to render on hover (21).",
          "Parameterization has too many items to render on hover (21).",
          "Parameterization has too many items to render on hover (21).",
          "Parameterization has too many items to render on hover (21).",
          "Parameterization has too many items to render on hover (21).",
          "Parameterization has too many items to render on hover (21).",
          "Parameterization has too many items to render on hover (21).",
          "Parameterization has too many items to render on hover (21).",
          "Parameterization has too many items to render on hover (21).",
          "Parameterization has too many items to render on hover (21).",
          "Parameterization has too many items to render on hover (21).",
          "Parameterization has too many items to render on hover (21).",
          "Parameterization has too many items to render on hover (21).",
          "Parameterization has too many items to render on hover (21).",
          "Parameterization has too many items to render on hover (21).",
          "Parameterization has too many items to render on hover (21).",
          "Parameterization has too many items to render on hover (21).",
          "Parameterization has too many items to render on hover (21).",
          "Parameterization has too many items to render on hover (21).",
          "Parameterization has too many items to render on hover (21).",
          "Parameterization has too many items to render on hover (21).",
          "Parameterization has too many items to render on hover (21).",
          "Parameterization has too many items to render on hover (21).",
          "Parameterization has too many items to render on hover (21).",
          "Parameterization has too many items to render on hover (21).",
          "Parameterization has too many items to render on hover (21).",
          "Parameterization has too many items to render on hover (21).",
          "Parameterization has too many items to render on hover (21).",
          "Parameterization has too many items to render on hover (21).",
          "Parameterization has too many items to render on hover (21).",
          "Parameterization has too many items to render on hover (21).",
          "Parameterization has too many items to render on hover (21).",
          "Parameterization has too many items to render on hover (21).",
          "Parameterization has too many items to render on hover (21).",
          "Parameterization has too many items to render on hover (21).",
          "Parameterization has too many items to render on hover (21).",
          "Parameterization has too many items to render on hover (21).",
          "Parameterization has too many items to render on hover (21).",
          "Parameterization has too many items to render on hover (21).",
          "Parameterization has too many items to render on hover (21).",
          "Parameterization has too many items to render on hover (21).",
          "Parameterization has too many items to render on hover (21).",
          "Parameterization has too many items to render on hover (21).",
          "Parameterization has too many items to render on hover (21).",
          "Parameterization has too many items to render on hover (21).",
          "Parameterization has too many items to render on hover (21).",
          "Parameterization has too many items to render on hover (21).",
          "Parameterization has too many items to render on hover (21).",
          "Parameterization has too many items to render on hover (21).",
          "Parameterization has too many items to render on hover (21).",
          "Parameterization has too many items to render on hover (21).",
          "Parameterization has too many items to render on hover (21).",
          "Parameterization has too many items to render on hover (21).",
          "Parameterization has too many items to render on hover (21).",
          "Parameterization has too many items to render on hover (21).",
          "Parameterization has too many items to render on hover (21).",
          "Parameterization has too many items to render on hover (21).",
          "Parameterization has too many items to render on hover (21).",
          "Parameterization has too many items to render on hover (21).",
          "Parameterization has too many items to render on hover (21).",
          "Parameterization has too many items to render on hover (21).",
          "Parameterization has too many items to render on hover (21).",
          "Parameterization has too many items to render on hover (21).",
          "Parameterization has too many items to render on hover (21).",
          "Parameterization has too many items to render on hover (21).",
          "Parameterization has too many items to render on hover (21).",
          "Parameterization has too many items to render on hover (21).",
          "Parameterization has too many items to render on hover (21).",
          "Parameterization has too many items to render on hover (21).",
          "Parameterization has too many items to render on hover (21).",
          "Parameterization has too many items to render on hover (21).",
          "Parameterization has too many items to render on hover (21).",
          "Parameterization has too many items to render on hover (21).",
          "Parameterization has too many items to render on hover (21).",
          "Parameterization has too many items to render on hover (21).",
          "Parameterization has too many items to render on hover (21).",
          "Parameterization has too many items to render on hover (21).",
          "Parameterization has too many items to render on hover (21).",
          "Parameterization has too many items to render on hover (21).",
          "Parameterization has too many items to render on hover (21).",
          "Parameterization has too many items to render on hover (21).",
          "Parameterization has too many items to render on hover (21).",
          "Parameterization has too many items to render on hover (21).",
          "Parameterization has too many items to render on hover (21).",
          "Parameterization has too many items to render on hover (21).",
          "Parameterization has too many items to render on hover (21).",
          "Parameterization has too many items to render on hover (21).",
          "Parameterization has too many items to render on hover (21).",
          "Parameterization has too many items to render on hover (21).",
          "Parameterization has too many items to render on hover (21)."
         ],
         "type": "scatter",
         "x": {
          "bdata": "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",
          "dtype": "i4"
         },
         "y": {
          "bdata": "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",
          "dtype": "f8"
         }
        },
        {
         "fill": "tonexty",
         "fillcolor": "rgba(128,177,211,0.3)",
         "hoverinfo": "none",
         "legendgroup": "",
         "line": {
          "width": 0
         },
         "mode": "lines",
         "showlegend": false,
         "type": "scatter",
         "x": {
          "bdata": "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",
          "dtype": "i4"
         },
         "y": {
          "bdata": "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",
          "dtype": "f8"
         }
        }
       ],
       "layout": {
        "showlegend": true,
        "template": {
         "data": {
          "bar": [
           {
            "error_x": {
             "color": "#2a3f5f"
            },
            "error_y": {
             "color": "#2a3f5f"
            },
            "marker": {
             "line": {
              "color": "#E5ECF6",
              "width": 0.5
             },
             "pattern": {
              "fillmode": "overlay",
              "size": 10,
              "solidity": 0.2
             }
            },
            "type": "bar"
           }
          ],
          "barpolar": [
           {
            "marker": {
             "line": {
              "color": "#E5ECF6",
              "width": 0.5
             },
             "pattern": {
              "fillmode": "overlay",
              "size": 10,
              "solidity": 0.2
             }
            },
            "type": "barpolar"
           }
          ],
          "carpet": [
           {
            "aaxis": {
             "endlinecolor": "#2a3f5f",
             "gridcolor": "white",
             "linecolor": "white",
             "minorgridcolor": "white",
             "startlinecolor": "#2a3f5f"
            },
            "baxis": {
             "endlinecolor": "#2a3f5f",
             "gridcolor": "white",
             "linecolor": "white",
             "minorgridcolor": "white",
             "startlinecolor": "#2a3f5f"
            },
            "type": "carpet"
           }
          ],
          "choropleth": [
           {
            "colorbar": {
             "outlinewidth": 0,
             "ticks": ""
            },
            "type": "choropleth"
           }
          ],
          "contour": [
           {
            "colorbar": {
             "outlinewidth": 0,
             "ticks": ""
            },
            "colorscale": [
             [
              0,
              "#0d0887"
             ],
             [
              0.1111111111111111,
              "#46039f"
             ],
             [
              0.2222222222222222,
              "#7201a8"
             ],
             [
              0.3333333333333333,
              "#9c179e"
             ],
             [
              0.4444444444444444,
              "#bd3786"
             ],
             [
              0.5555555555555556,
              "#d8576b"
             ],
             [
              0.6666666666666666,
              "#ed7953"
             ],
             [
              0.7777777777777778,
              "#fb9f3a"
             ],
             [
              0.8888888888888888,
              "#fdca26"
             ],
             [
              1,
              "#f0f921"
             ]
            ],
            "type": "contour"
           }
          ],
          "contourcarpet": [
           {
            "colorbar": {
             "outlinewidth": 0,
             "ticks": ""
            },
            "type": "contourcarpet"
           }
          ],
          "heatmap": [
           {
            "colorbar": {
             "outlinewidth": 0,
             "ticks": ""
            },
            "colorscale": [
             [
              0,
              "#0d0887"
             ],
             [
              0.1111111111111111,
              "#46039f"
             ],
             [
              0.2222222222222222,
              "#7201a8"
             ],
             [
              0.3333333333333333,
              "#9c179e"
             ],
             [
              0.4444444444444444,
              "#bd3786"
             ],
             [
              0.5555555555555556,
              "#d8576b"
             ],
             [
              0.6666666666666666,
              "#ed7953"
             ],
             [
              0.7777777777777778,
              "#fb9f3a"
             ],
             [
              0.8888888888888888,
              "#fdca26"
             ],
             [
              1,
              "#f0f921"
             ]
            ],
            "type": "heatmap"
           }
          ],
          "histogram": [
           {
            "marker": {
             "pattern": {
              "fillmode": "overlay",
              "size": 10,
              "solidity": 0.2
             }
            },
            "type": "histogram"
           }
          ],
          "histogram2d": [
           {
            "colorbar": {
             "outlinewidth": 0,
             "ticks": ""
            },
            "colorscale": [
             [
              0,
              "#0d0887"
             ],
             [
              0.1111111111111111,
              "#46039f"
             ],
             [
              0.2222222222222222,
              "#7201a8"
             ],
             [
              0.3333333333333333,
              "#9c179e"
             ],
             [
              0.4444444444444444,
              "#bd3786"
             ],
             [
              0.5555555555555556,
              "#d8576b"
             ],
             [
              0.6666666666666666,
              "#ed7953"
             ],
             [
              0.7777777777777778,
              "#fb9f3a"
             ],
             [
              0.8888888888888888,
              "#fdca26"
             ],
             [
              1,
              "#f0f921"
             ]
            ],
            "type": "histogram2d"
           }
          ],
          "histogram2dcontour": [
           {
            "colorbar": {
             "outlinewidth": 0,
             "ticks": ""
            },
            "colorscale": [
             [
              0,
              "#0d0887"
             ],
             [
              0.1111111111111111,
              "#46039f"
             ],
             [
              0.2222222222222222,
              "#7201a8"
             ],
             [
              0.3333333333333333,
              "#9c179e"
             ],
             [
              0.4444444444444444,
              "#bd3786"
             ],
             [
              0.5555555555555556,
              "#d8576b"
             ],
             [
              0.6666666666666666,
              "#ed7953"
             ],
             [
              0.7777777777777778,
              "#fb9f3a"
             ],
             [
              0.8888888888888888,
              "#fdca26"
             ],
             [
              1,
              "#f0f921"
             ]
            ],
            "type": "histogram2dcontour"
           }
          ],
          "mesh3d": [
           {
            "colorbar": {
             "outlinewidth": 0,
             "ticks": ""
            },
            "type": "mesh3d"
           }
          ],
          "parcoords": [
           {
            "line": {
             "colorbar": {
              "outlinewidth": 0,
              "ticks": ""
             }
            },
            "type": "parcoords"
           }
          ],
          "pie": [
           {
            "automargin": true,
            "type": "pie"
           }
          ],
          "scatter": [
           {
            "fillpattern": {
             "fillmode": "overlay",
             "size": 10,
             "solidity": 0.2
            },
            "type": "scatter"
           }
          ],
          "scatter3d": [
           {
            "line": {
             "colorbar": {
              "outlinewidth": 0,
              "ticks": ""
             }
            },
            "marker": {
             "colorbar": {
              "outlinewidth": 0,
              "ticks": ""
             }
            },
            "type": "scatter3d"
           }
          ],
          "scattercarpet": [
           {
            "marker": {
             "colorbar": {
              "outlinewidth": 0,
              "ticks": ""
             }
            },
            "type": "scattercarpet"
           }
          ],
          "scattergeo": [
           {
            "marker": {
             "colorbar": {
              "outlinewidth": 0,
              "ticks": ""
             }
            },
            "type": "scattergeo"
           }
          ],
          "scattergl": [
           {
            "marker": {
             "colorbar": {
              "outlinewidth": 0,
              "ticks": ""
             }
            },
            "type": "scattergl"
           }
          ],
          "scattermap": [
           {
            "marker": {
             "colorbar": {
              "outlinewidth": 0,
              "ticks": ""
             }
            },
            "type": "scattermap"
           }
          ],
          "scattermapbox": [
           {
            "marker": {
             "colorbar": {
              "outlinewidth": 0,
              "ticks": ""
             }
            },
            "type": "scattermapbox"
           }
          ],
          "scatterpolar": [
           {
            "marker": {
             "colorbar": {
              "outlinewidth": 0,
              "ticks": ""
             }
            },
            "type": "scatterpolar"
           }
          ],
          "scatterpolargl": [
           {
            "marker": {
             "colorbar": {
              "outlinewidth": 0,
              "ticks": ""
             }
            },
            "type": "scatterpolargl"
           }
          ],
          "scatterternary": [
           {
            "marker": {
             "colorbar": {
              "outlinewidth": 0,
              "ticks": ""
             }
            },
            "type": "scatterternary"
           }
          ],
          "surface": [
           {
            "colorbar": {
             "outlinewidth": 0,
             "ticks": ""
            },
            "colorscale": [
             [
              0,
              "#0d0887"
             ],
             [
              0.1111111111111111,
              "#46039f"
             ],
             [
              0.2222222222222222,
              "#7201a8"
             ],
             [
              0.3333333333333333,
              "#9c179e"
             ],
             [
              0.4444444444444444,
              "#bd3786"
             ],
             [
              0.5555555555555556,
              "#d8576b"
             ],
             [
              0.6666666666666666,
              "#ed7953"
             ],
             [
              0.7777777777777778,
              "#fb9f3a"
             ],
             [
              0.8888888888888888,
              "#fdca26"
             ],
             [
              1,
              "#f0f921"
             ]
            ],
            "type": "surface"
           }
          ],
          "table": [
           {
            "cells": {
             "fill": {
              "color": "#EBF0F8"
             },
             "line": {
              "color": "white"
             }
            },
            "header": {
             "fill": {
              "color": "#C8D4E3"
             },
             "line": {
              "color": "white"
             }
            },
            "type": "table"
           }
          ]
         },
         "layout": {
          "annotationdefaults": {
           "arrowcolor": "#2a3f5f",
           "arrowhead": 0,
           "arrowwidth": 1
          },
          "autotypenumbers": "strict",
          "coloraxis": {
           "colorbar": {
            "outlinewidth": 0,
            "ticks": ""
           }
          },
          "colorscale": {
           "diverging": [
            [
             0,
             "#8e0152"
            ],
            [
             0.1,
             "#c51b7d"
            ],
            [
             0.2,
             "#de77ae"
            ],
            [
             0.3,
             "#f1b6da"
            ],
            [
             0.4,
             "#fde0ef"
            ],
            [
             0.5,
             "#f7f7f7"
            ],
            [
             0.6,
             "#e6f5d0"
            ],
            [
             0.7,
             "#b8e186"
            ],
            [
             0.8,
             "#7fbc41"
            ],
            [
             0.9,
             "#4d9221"
            ],
            [
             1,
             "#276419"
            ]
           ],
           "sequential": [
            [
             0,
             "#0d0887"
            ],
            [
             0.1111111111111111,
             "#46039f"
            ],
            [
             0.2222222222222222,
             "#7201a8"
            ],
            [
             0.3333333333333333,
             "#9c179e"
            ],
            [
             0.4444444444444444,
             "#bd3786"
            ],
            [
             0.5555555555555556,
             "#d8576b"
            ],
            [
             0.6666666666666666,
             "#ed7953"
            ],
            [
             0.7777777777777778,
             "#fb9f3a"
            ],
            [
             0.8888888888888888,
             "#fdca26"
            ],
            [
             1,
             "#f0f921"
            ]
           ],
           "sequentialminus": [
            [
             0,
             "#0d0887"
            ],
            [
             0.1111111111111111,
             "#46039f"
            ],
            [
             0.2222222222222222,
             "#7201a8"
            ],
            [
             0.3333333333333333,
             "#9c179e"
            ],
            [
             0.4444444444444444,
             "#bd3786"
            ],
            [
             0.5555555555555556,
             "#d8576b"
            ],
            [
             0.6666666666666666,
             "#ed7953"
            ],
            [
             0.7777777777777778,
             "#fb9f3a"
            ],
            [
             0.8888888888888888,
             "#fdca26"
            ],
            [
             1,
             "#f0f921"
            ]
           ]
          },
          "colorway": [
           "#636efa",
           "#EF553B",
           "#00cc96",
           "#ab63fa",
           "#FFA15A",
           "#19d3f3",
           "#FF6692",
           "#B6E880",
           "#FF97FF",
           "#FECB52"
          ],
          "font": {
           "color": "#2a3f5f"
          },
          "geo": {
           "bgcolor": "white",
           "lakecolor": "white",
           "landcolor": "#E5ECF6",
           "showlakes": true,
           "showland": true,
           "subunitcolor": "white"
          },
          "hoverlabel": {
           "align": "left"
          },
          "hovermode": "closest",
          "mapbox": {
           "style": "light"
          },
          "paper_bgcolor": "white",
          "plot_bgcolor": "#E5ECF6",
          "polar": {
           "angularaxis": {
            "gridcolor": "white",
            "linecolor": "white",
            "ticks": ""
           },
           "bgcolor": "#E5ECF6",
           "radialaxis": {
            "gridcolor": "white",
            "linecolor": "white",
            "ticks": ""
           }
          },
          "scene": {
           "xaxis": {
            "backgroundcolor": "#E5ECF6",
            "gridcolor": "white",
            "gridwidth": 2,
            "linecolor": "white",
            "showbackground": true,
            "ticks": "",
            "zerolinecolor": "white"
           },
           "yaxis": {
            "backgroundcolor": "#E5ECF6",
            "gridcolor": "white",
            "gridwidth": 2,
            "linecolor": "white",
            "showbackground": true,
            "ticks": "",
            "zerolinecolor": "white"
           },
           "zaxis": {
            "backgroundcolor": "#E5ECF6",
            "gridcolor": "white",
            "gridwidth": 2,
            "linecolor": "white",
            "showbackground": true,
            "ticks": "",
            "zerolinecolor": "white"
           }
          },
          "shapedefaults": {
           "line": {
            "color": "#2a3f5f"
           }
          },
          "ternary": {
           "aaxis": {
            "gridcolor": "white",
            "linecolor": "white",
            "ticks": ""
           },
           "baxis": {
            "gridcolor": "white",
            "linecolor": "white",
            "ticks": ""
           },
           "bgcolor": "#E5ECF6",
           "caxis": {
            "gridcolor": "white",
            "linecolor": "white",
            "ticks": ""
           }
          },
          "title": {
           "x": 0.05
          },
          "xaxis": {
           "automargin": true,
           "gridcolor": "white",
           "linecolor": "white",
           "ticks": "",
           "title": {
            "standoff": 15
           },
           "zerolinecolor": "white",
           "zerolinewidth": 2
          },
          "yaxis": {
           "automargin": true,
           "gridcolor": "white",
           "linecolor": "white",
           "ticks": "",
           "title": {
            "standoff": 15
           },
           "zerolinecolor": "white",
           "zerolinewidth": 2
          }
         }
        },
        "title": {
         "text": "Best objective found vs. # of iterations"
        },
        "xaxis": {
         "title": {
          "text": "Iteration"
         }
        },
        "yaxis": {
         "title": {
          "text": "Viable_cross_terms"
         }
        }
       }
      }
     },
     "metadata": {},
     "output_type": "display_data"
    }
   ],
   "source": [
    "render(Tag_client.get_optimization_trace())"
   ]
  },
  {
   "cell_type": "code",
   "execution_count": 98,
   "metadata": {},
   "outputs": [
    {
     "name": "stderr",
     "output_type": "stream",
     "text": [
      "[INFO 04-04 18:44:15] ax.service.ax_client: Generated new trial 563 with parameters {'z_s': 7, 'z_s_1': 9, 'z_s_2': 5, 'z_p2': 31, 'z_p2_1': 29, 'z_p2_2': 32, 'z_r2': 80, 'z_r2_1': 78, 'z_r2_2': 76, 'x_s': 0.5, 'x_s_1': 0.4, 'x_s_2': 0.3, 'x_p1': 0.832583, 'x_p1_1': 0.732583, 'x_p1_2': 0.632583, 'x_p2': 0.462897, 'x_p2_1': 0.362897, 'x_p2_2': 0.262897, 'x_r2': 1.074138, 'x_r2_1': 0.974138, 'x_r2_2': 0.874138} using model BoTorch.\n",
      "[INFO 04-04 18:44:15] ax.service.ax_client: Completed trial 563 with data: {'Viable_Cross_Terms': (78, None)}.\n",
      "[INFO 04-04 18:45:10] ax.service.ax_client: Generated new trial 564 with parameters {'z_s': 3, 'z_s_1': 11, 'z_s_2': 10, 'z_p2': 35, 'z_p2_1': 32, 'z_p2_2': 32, 'z_r2': 86, 'z_r2_1': 76, 'z_r2_2': 82, 'x_s': 0.5, 'x_s_1': 0.4, 'x_s_2': -0.450232, 'x_p1': 1.0, 'x_p1_1': 0.9, 'x_p1_2': 0.8, 'x_p2': 0.5, 'x_p2_1': 0.4, 'x_p2_2': 0.3, 'x_r2': 1.5, 'x_r2_1': 1.4, 'x_r2_2': 1.3} using model BoTorch.\n",
      "[INFO 04-04 18:45:10] ax.service.ax_client: Completed trial 564 with data: {'Viable_Cross_Terms': (0, None)}.\n",
      "[INFO 04-04 18:46:03] ax.service.ax_client: Generated new trial 565 with parameters {'z_s': 7, 'z_s_1': 12, 'z_s_2': 5, 'z_p2': 30, 'z_p2_1': 27, 'z_p2_2': 30, 'z_r2': 80, 'z_r2_1': 79, 'z_r2_2': 71, 'x_s': 0.5, 'x_s_1': 0.4, 'x_s_2': 0.3, 'x_p1': 1.0, 'x_p1_1': 0.9, 'x_p1_2': 0.8, 'x_p2': 0.484192, 'x_p2_1': 0.384192, 'x_p2_2': 0.284192, 'x_r2': 0.937148, 'x_r2_1': 0.837148, 'x_r2_2': 0.737148} using model BoTorch.\n",
      "[INFO 04-04 18:46:03] ax.service.ax_client: Completed trial 565 with data: {'Viable_Cross_Terms': (20, None)}.\n",
      "[INFO 04-04 18:47:01] ax.service.ax_client: Generated new trial 566 with parameters {'z_s': 3, 'z_s_1': 2, 'z_s_2': 7, 'z_p2': 35, 'z_p2_1': 26, 'z_p2_2': 27, 'z_r2': 82, 'z_r2_1': 80, 'z_r2_2': 84, 'x_s': -0.3, 'x_s_1': -0.4, 'x_s_2': -0.5, 'x_p1': -0.779996, 'x_p1_1': -0.879996, 'x_p1_2': -0.979996, 'x_p2': 0.5, 'x_p2_1': 0.4, 'x_p2_2': -0.5, 'x_r2': 1.5, 'x_r2_1': 0.014205, 'x_r2_2': -0.085795} using model BoTorch.\n",
      "[INFO 04-04 18:47:01] ax.service.ax_client: Completed trial 566 with data: {'Viable_Cross_Terms': (0, None)}.\n",
      "[INFO 04-04 18:47:59] ax.service.ax_client: Generated new trial 567 with parameters {'z_s': 11, 'z_s_1': 9, 'z_s_2': 5, 'z_p2': 30, 'z_p2_1': 29, 'z_p2_2': 29, 'z_r2': 80, 'z_r2_1': 81, 'z_r2_2': 80, 'x_s': 0.5, 'x_s_1': 0.4, 'x_s_2': 0.3, 'x_p1': 0.760082, 'x_p1_1': 0.660082, 'x_p1_2': 0.560082, 'x_p2': 0.481775, 'x_p2_1': 0.381775, 'x_p2_2': 0.281775, 'x_r2': 1.163394, 'x_r2_1': 1.063394, 'x_r2_2': 0.963394} using model BoTorch.\n",
      "[INFO 04-04 18:47:59] ax.service.ax_client: Completed trial 567 with data: {'Viable_Cross_Terms': (81, None)}.\n",
      "[INFO 04-04 18:48:52] ax.service.ax_client: Generated new trial 568 with parameters {'z_s': 4, 'z_s_1': 9, 'z_s_2': 3, 'z_p2': 28, 'z_p2_1': 28, 'z_p2_2': 31, 'z_r2': 80, 'z_r2_1': 72, 'z_r2_2': 84, 'x_s': 0.5, 'x_s_1': 0.4, 'x_s_2': 0.3, 'x_p1': 0.663016, 'x_p1_1': 0.563016, 'x_p1_2': 0.463016, 'x_p2': 0.5, 'x_p2_1': 0.4, 'x_p2_2': 0.3, 'x_r2': 0.982626, 'x_r2_1': 0.882626, 'x_r2_2': 0.782626} using model BoTorch.\n",
      "[INFO 04-04 18:48:52] ax.service.ax_client: Completed trial 568 with data: {'Viable_Cross_Terms': (32, None)}.\n",
      "[INFO 04-04 18:49:46] ax.service.ax_client: Generated new trial 569 with parameters {'z_s': 6, 'z_s_1': 5, 'z_s_2': 5, 'z_p2': 32, 'z_p2_1': 29, 'z_p2_2': 30, 'z_r2': 80, 'z_r2_1': 77, 'z_r2_2': 73, 'x_s': 0.5, 'x_s_1': 0.4, 'x_s_2': 0.3, 'x_p1': 0.737552, 'x_p1_1': 0.637552, 'x_p1_2': 0.537552, 'x_p2': 0.5, 'x_p2_1': 0.4, 'x_p2_2': 0.3, 'x_r2': 1.104829, 'x_r2_1': 0.971352, 'x_r2_2': 0.871352} using model BoTorch.\n",
      "[INFO 04-04 18:49:46] ax.service.ax_client: Completed trial 569 with data: {'Viable_Cross_Terms': (77, None)}.\n",
      "[INFO 04-04 18:50:42] ax.service.ax_client: Generated new trial 570 with parameters {'z_s': 13, 'z_s_1': 5, 'z_s_2': 5, 'z_p2': 32, 'z_p2_1': 28, 'z_p2_2': 30, 'z_r2': 80, 'z_r2_1': 77, 'z_r2_2': 77, 'x_s': 0.5, 'x_s_1': 0.4, 'x_s_2': 0.3, 'x_p1': 0.758737, 'x_p1_1': 0.658737, 'x_p1_2': 0.558737, 'x_p2': 0.5, 'x_p2_1': 0.4, 'x_p2_2': 0.3, 'x_r2': 1.087202, 'x_r2_1': 0.987202, 'x_r2_2': 0.887202} using model BoTorch.\n",
      "[INFO 04-04 18:50:42] ax.service.ax_client: Completed trial 570 with data: {'Viable_Cross_Terms': (80, None)}.\n",
      "[INFO 04-04 18:51:36] ax.service.ax_client: Generated new trial 571 with parameters {'z_s': 12, 'z_s_1': 6, 'z_s_2': 5, 'z_p2': 30, 'z_p2_1': 34, 'z_p2_2': 30, 'z_r2': 80, 'z_r2_1': 74, 'z_r2_2': 75, 'x_s': 0.5, 'x_s_1': 0.4, 'x_s_2': 0.3, 'x_p1': 0.713388, 'x_p1_1': 0.613388, 'x_p1_2': 0.513388, 'x_p2': 0.5, 'x_p2_1': 0.4, 'x_p2_2': 0.3, 'x_r2': 1.12343, 'x_r2_1': 1.02343, 'x_r2_2': 0.92343} using model BoTorch.\n",
      "[INFO 04-04 18:51:36] ax.service.ax_client: Completed trial 571 with data: {'Viable_Cross_Terms': (87, None)}.\n",
      "[INFO 04-04 18:52:31] ax.service.ax_client: Generated new trial 572 with parameters {'z_s': 6, 'z_s_1': 8, 'z_s_2': 5, 'z_p2': 31, 'z_p2_1': 34, 'z_p2_2': 30, 'z_r2': 80, 'z_r2_1': 76, 'z_r2_2': 82, 'x_s': 0.5, 'x_s_1': 0.4, 'x_s_2': 0.3, 'x_p1': 0.722599, 'x_p1_1': 0.622599, 'x_p1_2': 0.522599, 'x_p2': 0.497639, 'x_p2_1': 0.397639, 'x_p2_2': 0.297639, 'x_r2': 1.065587, 'x_r2_1': 0.965587, 'x_r2_2': 0.865587} using model BoTorch.\n",
      "[INFO 04-04 18:52:31] ax.service.ax_client: Completed trial 572 with data: {'Viable_Cross_Terms': (88, None)}.\n",
      "[INFO 04-04 18:53:28] ax.service.ax_client: Generated new trial 573 with parameters {'z_s': 13, 'z_s_1': 6, 'z_s_2': 5, 'z_p2': 33, 'z_p2_1': 28, 'z_p2_2': 32, 'z_r2': 80, 'z_r2_1': 75, 'z_r2_2': 72, 'x_s': 0.5, 'x_s_1': 0.4, 'x_s_2': 0.3, 'x_p1': 0.618343, 'x_p1_1': 0.518343, 'x_p1_2': 0.418343, 'x_p2': 0.5, 'x_p2_1': 0.4, 'x_p2_2': 0.3, 'x_r2': 1.0584, 'x_r2_1': 0.9553, 'x_r2_2': 0.8553} using model BoTorch.\n",
      "[INFO 04-04 18:53:28] ax.service.ax_client: Completed trial 573 with data: {'Viable_Cross_Terms': (83, None)}.\n",
      "[INFO 04-04 18:54:25] ax.service.ax_client: Generated new trial 574 with parameters {'z_s': 11, 'z_s_1': 10, 'z_s_2': 5, 'z_p2': 28, 'z_p2_1': 30, 'z_p2_2': 30, 'z_r2': 80, 'z_r2_1': 80, 'z_r2_2': 82, 'x_s': 0.5, 'x_s_1': 0.4, 'x_s_2': 0.3, 'x_p1': 0.609497, 'x_p1_1': 0.509497, 'x_p1_2': 0.409497, 'x_p2': 0.48425, 'x_p2_1': 0.38425, 'x_p2_2': 0.28425, 'x_r2': 1.167017, 'x_r2_1': 1.067017, 'x_r2_2': 0.967017} using model BoTorch.\n",
      "[INFO 04-04 18:54:25] ax.service.ax_client: Completed trial 574 with data: {'Viable_Cross_Terms': (69, None)}.\n",
      "[INFO 04-04 18:55:25] ax.service.ax_client: Generated new trial 575 with parameters {'z_s': 6, 'z_s_1': 11, 'z_s_2': 4, 'z_p2': 34, 'z_p2_1': 28, 'z_p2_2': 32, 'z_r2': 75, 'z_r2_1': 74, 'z_r2_2': 75, 'x_s': 0.426221, 'x_s_1': -0.4, 'x_s_2': -0.5, 'x_p1': 0.726584, 'x_p1_1': 0.626584, 'x_p1_2': -1.0, 'x_p2': 0.238562, 'x_p2_1': 0.138562, 'x_p2_2': -0.421533, 'x_r2': -0.563834, 'x_r2_1': -0.663834, 'x_r2_2': -0.763834} using model BoTorch.\n",
      "[INFO 04-04 18:55:25] ax.service.ax_client: Completed trial 575 with data: {'Viable_Cross_Terms': (14, None)}.\n",
      "[INFO 04-04 18:56:23] ax.service.ax_client: Generated new trial 576 with parameters {'z_s': 8, 'z_s_1': 5, 'z_s_2': 5, 'z_p2': 32, 'z_p2_1': 29, 'z_p2_2': 30, 'z_r2': 80, 'z_r2_1': 77, 'z_r2_2': 80, 'x_s': 0.5, 'x_s_1': 0.4, 'x_s_2': 0.3, 'x_p1': 0.596755, 'x_p1_1': 0.496755, 'x_p1_2': 0.396755, 'x_p2': 0.494264, 'x_p2_1': 0.394264, 'x_p2_2': 0.294264, 'x_r2': 1.136297, 'x_r2_1': 1.036297, 'x_r2_2': 0.936297} using model BoTorch.\n",
      "[INFO 04-04 18:56:23] ax.service.ax_client: Completed trial 576 with data: {'Viable_Cross_Terms': (69, None)}.\n",
      "[INFO 04-04 18:57:21] ax.service.ax_client: Generated new trial 577 with parameters {'z_s': 3, 'z_s_1': 12, 'z_s_2': 10, 'z_p2': 30, 'z_p2_1': 28, 'z_p2_2': 25, 'z_r2': 86, 'z_r2_1': 76, 'z_r2_2': 77, 'x_s': 0.5, 'x_s_1': 0.4, 'x_s_2': 0.3, 'x_p1': -0.036494, 'x_p1_1': -0.136494, 'x_p1_2': -0.236494, 'x_p2': 0.5, 'x_p2_1': 0.4, 'x_p2_2': 0.3, 'x_r2': 1.5, 'x_r2_1': 1.4, 'x_r2_2': 1.3} using model BoTorch.\n",
      "[INFO 04-04 18:57:21] ax.service.ax_client: Completed trial 577 with data: {'Viable_Cross_Terms': (15, None)}.\n",
      "[INFO 04-04 18:58:19] ax.service.ax_client: Generated new trial 578 with parameters {'z_s': 5, 'z_s_1': 5, 'z_s_2': 5, 'z_p2': 30, 'z_p2_1': 33, 'z_p2_2': 29, 'z_r2': 80, 'z_r2_1': 81, 'z_r2_2': 81, 'x_s': 0.5, 'x_s_1': 0.4, 'x_s_2': 0.3, 'x_p1': 0.592426, 'x_p1_1': 0.492426, 'x_p1_2': 0.392426, 'x_p2': 0.450046, 'x_p2_1': 0.350046, 'x_p2_2': 0.250046, 'x_r2': 1.273963, 'x_r2_1': 1.173963, 'x_r2_2': 1.073963} using model BoTorch.\n",
      "[INFO 04-04 18:58:19] ax.service.ax_client: Completed trial 578 with data: {'Viable_Cross_Terms': (30, None)}.\n",
      "[INFO 04-04 18:59:16] ax.service.ax_client: Generated new trial 579 with parameters {'z_s': 7, 'z_s_1': 4, 'z_s_2': 5, 'z_p2': 32, 'z_p2_1': 27, 'z_p2_2': 30, 'z_r2': 80, 'z_r2_1': 76, 'z_r2_2': 76, 'x_s': 0.5, 'x_s_1': 0.4, 'x_s_2': 0.3, 'x_p1': 0.70975, 'x_p1_1': 0.60975, 'x_p1_2': 0.50975, 'x_p2': 0.5, 'x_p2_1': 0.4, 'x_p2_2': 0.3, 'x_r2': 1.014415, 'x_r2_1': 0.914415, 'x_r2_2': 0.814415} using model BoTorch.\n",
      "[INFO 04-04 18:59:16] ax.service.ax_client: Completed trial 579 with data: {'Viable_Cross_Terms': (74, None)}.\n",
      "[INFO 04-04 19:00:13] ax.service.ax_client: Generated new trial 580 with parameters {'z_s': 4, 'z_s_1': 12, 'z_s_2': 12, 'z_p2': 32, 'z_p2_1': 28, 'z_p2_2': 26, 'z_r2': 86, 'z_r2_1': 84, 'z_r2_2': 76, 'x_s': 0.5, 'x_s_1': 0.4, 'x_s_2': 0.3, 'x_p1': 1.0, 'x_p1_1': 0.9, 'x_p1_2': 0.8, 'x_p2': 0.5, 'x_p2_1': 0.4, 'x_p2_2': -0.124889, 'x_r2': 0.522589, 'x_r2_1': 0.422589, 'x_r2_2': 0.322589} using model BoTorch.\n",
      "[INFO 04-04 19:00:13] ax.service.ax_client: Completed trial 580 with data: {'Viable_Cross_Terms': (3, None)}.\n",
      "[INFO 04-04 19:01:09] ax.service.ax_client: Generated new trial 581 with parameters {'z_s': 3, 'z_s_1': 6, 'z_s_2': 5, 'z_p2': 31, 'z_p2_1': 29, 'z_p2_2': 30, 'z_r2': 80, 'z_r2_1': 81, 'z_r2_2': 71, 'x_s': 0.5, 'x_s_1': 0.4, 'x_s_2': 0.3, 'x_p1': 0.708416, 'x_p1_1': 0.608416, 'x_p1_2': 0.508416, 'x_p2': 0.5, 'x_p2_1': 0.4, 'x_p2_2': 0.3, 'x_r2': 1.037365, 'x_r2_1': 0.937365, 'x_r2_2': 0.837365} using model BoTorch.\n",
      "[INFO 04-04 19:01:09] ax.service.ax_client: Completed trial 581 with data: {'Viable_Cross_Terms': (80, None)}.\n",
      "[INFO 04-04 19:02:07] ax.service.ax_client: Generated new trial 582 with parameters {'z_s': 6, 'z_s_1': 2, 'z_s_2': 5, 'z_p2': 31, 'z_p2_1': 27, 'z_p2_2': 30, 'z_r2': 80, 'z_r2_1': 77, 'z_r2_2': 75, 'x_s': 0.5, 'x_s_1': 0.4, 'x_s_2': 0.3, 'x_p1': 0.739531, 'x_p1_1': 0.639531, 'x_p1_2': 0.539531, 'x_p2': 0.5, 'x_p2_1': 0.4, 'x_p2_2': 0.3, 'x_r2': 0.994644, 'x_r2_1': 0.893424, 'x_r2_2': 0.793424} using model BoTorch.\n",
      "[INFO 04-04 19:02:07] ax.service.ax_client: Completed trial 582 with data: {'Viable_Cross_Terms': (61, None)}.\n",
      "[INFO 04-04 19:03:04] ax.service.ax_client: Generated new trial 583 with parameters {'z_s': 3, 'z_s_1': 12, 'z_s_2': 6, 'z_p2': 30, 'z_p2_1': 29, 'z_p2_2': 25, 'z_r2': 83, 'z_r2_1': 73, 'z_r2_2': 84, 'x_s': 0.5, 'x_s_1': 0.4, 'x_s_2': 0.3, 'x_p1': 0.402944, 'x_p1_1': 0.302944, 'x_p1_2': 0.202944, 'x_p2': 0.5, 'x_p2_1': 0.4, 'x_p2_2': 0.3, 'x_r2': 1.5, 'x_r2_1': 1.4, 'x_r2_2': 1.3} using model BoTorch.\n",
      "[INFO 04-04 19:03:04] ax.service.ax_client: Completed trial 583 with data: {'Viable_Cross_Terms': (3, None)}.\n",
      "[INFO 04-04 19:04:00] ax.service.ax_client: Generated new trial 584 with parameters {'z_s': 4, 'z_s_1': 9, 'z_s_2': 5, 'z_p2': 29, 'z_p2_1': 27, 'z_p2_2': 30, 'z_r2': 80, 'z_r2_1': 78, 'z_r2_2': 80, 'x_s': 0.5, 'x_s_1': 0.4, 'x_s_2': 0.3, 'x_p1': 0.7563, 'x_p1_1': 0.6563, 'x_p1_2': 0.5563, 'x_p2': 0.5, 'x_p2_1': 0.4, 'x_p2_2': 0.3, 'x_r2': 1.083868, 'x_r2_1': 0.943013, 'x_r2_2': 0.843013} using model BoTorch.\n",
      "[INFO 04-04 19:04:00] ax.service.ax_client: Completed trial 584 with data: {'Viable_Cross_Terms': (75, None)}.\n",
      "[INFO 04-04 19:04:58] ax.service.ax_client: Generated new trial 585 with parameters {'z_s': 12, 'z_s_1': 14, 'z_s_2': 10, 'z_p2': 35, 'z_p2_1': 27, 'z_p2_2': 25, 'z_r2': 73, 'z_r2_1': 80, 'z_r2_2': 78, 'x_s': 0.5, 'x_s_1': 0.4, 'x_s_2': 0.3, 'x_p1': 1.0, 'x_p1_1': -0.65159, 'x_p1_2': -0.75159, 'x_p2': 0.231081, 'x_p2_1': 0.131081, 'x_p2_2': -0.451263, 'x_r2': 1.031555, 'x_r2_1': -1.4, 'x_r2_2': -1.5} using model BoTorch.\n",
      "[INFO 04-04 19:04:58] ax.service.ax_client: Completed trial 585 with data: {'Viable_Cross_Terms': (4, None)}.\n",
      "[INFO 04-04 19:05:56] ax.service.ax_client: Generated new trial 586 with parameters {'z_s': 14, 'z_s_1': 12, 'z_s_2': 1, 'z_p2': 34, 'z_p2_1': 27, 'z_p2_2': 25, 'z_r2': 83, 'z_r2_1': 77, 'z_r2_2': 71, 'x_s': 0.5, 'x_s_1': 0.4, 'x_s_2': 0.3, 'x_p1': 1.0, 'x_p1_1': 0.9, 'x_p1_2': 0.8, 'x_p2': 0.5, 'x_p2_1': 0.4, 'x_p2_2': 0.3, 'x_r2': 1.5, 'x_r2_1': 1.4, 'x_r2_2': 1.3} using model BoTorch.\n",
      "[INFO 04-04 19:05:56] ax.service.ax_client: Completed trial 586 with data: {'Viable_Cross_Terms': (0, None)}.\n",
      "[INFO 04-04 19:06:53] ax.service.ax_client: Generated new trial 587 with parameters {'z_s': 11, 'z_s_1': 9, 'z_s_2': 10, 'z_p2': 32, 'z_p2_1': 33, 'z_p2_2': 27, 'z_r2': 86, 'z_r2_1': 75, 'z_r2_2': 80, 'x_s': 0.5, 'x_s_1': 0.4, 'x_s_2': 0.3, 'x_p1': 1.0, 'x_p1_1': 0.9, 'x_p1_2': -1.0, 'x_p2': -0.3, 'x_p2_1': -0.4, 'x_p2_2': -0.5, 'x_r2': 1.5, 'x_r2_1': 1.4, 'x_r2_2': 1.3} using model BoTorch.\n",
      "[INFO 04-04 19:06:53] ax.service.ax_client: Completed trial 587 with data: {'Viable_Cross_Terms': (0, None)}.\n",
      "[INFO 04-04 19:07:51] ax.service.ax_client: Generated new trial 588 with parameters {'z_s': 7, 'z_s_1': 13, 'z_s_2': 5, 'z_p2': 30, 'z_p2_1': 32, 'z_p2_2': 29, 'z_r2': 80, 'z_r2_1': 84, 'z_r2_2': 79, 'x_s': 0.5, 'x_s_1': 0.4, 'x_s_2': 0.3, 'x_p1': 0.704381, 'x_p1_1': 0.604381, 'x_p1_2': 0.504381, 'x_p2': 0.5, 'x_p2_1': 0.4, 'x_p2_2': 0.3, 'x_r2': 1.070608, 'x_r2_1': 0.970608, 'x_r2_2': 0.870608} using model BoTorch.\n",
      "[INFO 04-04 19:07:51] ax.service.ax_client: Completed trial 588 with data: {'Viable_Cross_Terms': (85, None)}.\n",
      "[INFO 04-04 19:08:49] ax.service.ax_client: Generated new trial 589 with parameters {'z_s': 12, 'z_s_1': 2, 'z_s_2': 5, 'z_p2': 28, 'z_p2_1': 26, 'z_p2_2': 30, 'z_r2': 80, 'z_r2_1': 80, 'z_r2_2': 71, 'x_s': 0.5, 'x_s_1': 0.4, 'x_s_2': 0.3, 'x_p1': 0.585028, 'x_p1_1': 0.485028, 'x_p1_2': 0.385028, 'x_p2': 0.5, 'x_p2_1': 0.4, 'x_p2_2': 0.3, 'x_r2': 1.063661, 'x_r2_1': 0.963661, 'x_r2_2': 0.863661} using model BoTorch.\n",
      "[INFO 04-04 19:08:49] ax.service.ax_client: Completed trial 589 with data: {'Viable_Cross_Terms': (128, None)}.\n",
      "[INFO 04-04 19:09:47] ax.service.ax_client: Generated new trial 590 with parameters {'z_s': 3, 'z_s_1': 9, 'z_s_2': 5, 'z_p2': 33, 'z_p2_1': 30, 'z_p2_2': 30, 'z_r2': 80, 'z_r2_1': 74, 'z_r2_2': 77, 'x_s': 0.5, 'x_s_1': 0.4, 'x_s_2': 0.3, 'x_p1': 0.531905, 'x_p1_1': 0.431905, 'x_p1_2': 0.331905, 'x_p2': 0.5, 'x_p2_1': 0.4, 'x_p2_2': 0.3, 'x_r2': 1.123092, 'x_r2_1': 1.023092, 'x_r2_2': 0.923092} using model BoTorch.\n",
      "[INFO 04-04 19:09:47] ax.service.ax_client: Completed trial 590 with data: {'Viable_Cross_Terms': (65, None)}.\n",
      "[INFO 04-04 19:10:46] ax.service.ax_client: Generated new trial 591 with parameters {'z_s': 15, 'z_s_1': 6, 'z_s_2': 5, 'z_p2': 32, 'z_p2_1': 32, 'z_p2_2': 33, 'z_r2': 86, 'z_r2_1': 73, 'z_r2_2': 81, 'x_s': 0.5, 'x_s_1': 0.4, 'x_s_2': 0.3, 'x_p1': -0.483966, 'x_p1_1': -0.9, 'x_p1_2': -1.0, 'x_p2': 0.5, 'x_p2_1': 0.4, 'x_p2_2': 0.3, 'x_r2': 1.5, 'x_r2_1': 0.81977, 'x_r2_2': 0.71977} using model BoTorch.\n",
      "[INFO 04-04 19:10:46] ax.service.ax_client: Completed trial 591 with data: {'Viable_Cross_Terms': (0, None)}.\n",
      "[INFO 04-04 19:11:43] ax.service.ax_client: Generated new trial 592 with parameters {'z_s': 6, 'z_s_1': 3, 'z_s_2': 5, 'z_p2': 34, 'z_p2_1': 28, 'z_p2_2': 30, 'z_r2': 80, 'z_r2_1': 77, 'z_r2_2': 70, 'x_s': 0.5, 'x_s_1': 0.4, 'x_s_2': 0.3, 'x_p1': 0.513423, 'x_p1_1': 0.413423, 'x_p1_2': 0.313423, 'x_p2': 0.5, 'x_p2_1': 0.4, 'x_p2_2': 0.3, 'x_r2': 1.096496, 'x_r2_1': 0.996496, 'x_r2_2': 0.896496} using model BoTorch.\n",
      "[INFO 04-04 19:11:43] ax.service.ax_client: Completed trial 592 with data: {'Viable_Cross_Terms': (64, None)}.\n",
      "[INFO 04-04 19:12:40] ax.service.ax_client: Generated new trial 593 with parameters {'z_s': 12, 'z_s_1': 12, 'z_s_2': 4, 'z_p2': 31, 'z_p2_1': 28, 'z_p2_2': 25, 'z_r2': 73, 'z_r2_1': 71, 'z_r2_2': 75, 'x_s': 0.5, 'x_s_1': 0.4, 'x_s_2': 0.3, 'x_p1': 1.0, 'x_p1_1': -0.9, 'x_p1_2': -1.0, 'x_p2': -0.3, 'x_p2_1': -0.4, 'x_p2_2': -0.5, 'x_r2': 1.5, 'x_r2_1': 1.4, 'x_r2_2': -1.5} using model BoTorch.\n",
      "[INFO 04-04 19:12:40] ax.service.ax_client: Completed trial 593 with data: {'Viable_Cross_Terms': (2, None)}.\n",
      "[INFO 04-04 19:13:37] ax.service.ax_client: Generated new trial 594 with parameters {'z_s': 3, 'z_s_1': 8, 'z_s_2': 5, 'z_p2': 32, 'z_p2_1': 26, 'z_p2_2': 33, 'z_r2': 79, 'z_r2_1': 82, 'z_r2_2': 82, 'x_s': 0.5, 'x_s_1': 0.4, 'x_s_2': 0.3, 'x_p1': 0.377471, 'x_p1_1': 0.277471, 'x_p1_2': 0.177471, 'x_p2': 0.5, 'x_p2_1': 0.4, 'x_p2_2': 0.080913, 'x_r2': 0.853252, 'x_r2_1': 0.753252, 'x_r2_2': 0.653252} using model BoTorch.\n",
      "[INFO 04-04 19:13:37] ax.service.ax_client: Completed trial 594 with data: {'Viable_Cross_Terms': (32, None)}.\n",
      "[INFO 04-04 19:14:41] ax.service.ax_client: Generated new trial 595 with parameters {'z_s': 14, 'z_s_1': 12, 'z_s_2': 4, 'z_p2': 35, 'z_p2_1': 27, 'z_p2_2': 32, 'z_r2': 78, 'z_r2_1': 72, 'z_r2_2': 75, 'x_s': -0.3, 'x_s_1': -0.4, 'x_s_2': -0.5, 'x_p1': 0.437546, 'x_p1_1': 0.337546, 'x_p1_2': 0.237546, 'x_p2': 0.5, 'x_p2_1': 0.4, 'x_p2_2': -0.5, 'x_r2': 1.5, 'x_r2_1': 1.4, 'x_r2_2': -1.5} using model BoTorch.\n",
      "[INFO 04-04 19:14:41] ax.service.ax_client: Completed trial 595 with data: {'Viable_Cross_Terms': (1, None)}.\n",
      "[INFO 04-04 19:15:39] ax.service.ax_client: Generated new trial 596 with parameters {'z_s': 7, 'z_s_1': 10, 'z_s_2': 5, 'z_p2': 31, 'z_p2_1': 30, 'z_p2_2': 27, 'z_r2': 80, 'z_r2_1': 74, 'z_r2_2': 83, 'x_s': 0.5, 'x_s_1': 0.4, 'x_s_2': 0.3, 'x_p1': 0.617884, 'x_p1_1': 0.517884, 'x_p1_2': 0.417884, 'x_p2': 0.5, 'x_p2_1': 0.4, 'x_p2_2': 0.3, 'x_r2': 1.028101, 'x_r2_1': 0.928101, 'x_r2_2': 0.828101} using model BoTorch.\n",
      "[INFO 04-04 19:15:39] ax.service.ax_client: Completed trial 596 with data: {'Viable_Cross_Terms': (88, None)}.\n",
      "[INFO 04-04 19:16:37] ax.service.ax_client: Generated new trial 597 with parameters {'z_s': 5, 'z_s_1': 12, 'z_s_2': 5, 'z_p2': 34, 'z_p2_1': 27, 'z_p2_2': 30, 'z_r2': 80, 'z_r2_1': 79, 'z_r2_2': 75, 'x_s': 0.5, 'x_s_1': 0.4, 'x_s_2': 0.3, 'x_p1': 0.542512, 'x_p1_1': 0.442512, 'x_p1_2': 0.342512, 'x_p2': 0.5, 'x_p2_1': 0.4, 'x_p2_2': 0.3, 'x_r2': 1.046783, 'x_r2_1': 0.946783, 'x_r2_2': 0.846783} using model BoTorch.\n",
      "[INFO 04-04 19:16:37] ax.service.ax_client: Completed trial 597 with data: {'Viable_Cross_Terms': (71, None)}.\n",
      "[INFO 04-04 19:17:34] ax.service.ax_client: Generated new trial 598 with parameters {'z_s': 6, 'z_s_1': 6, 'z_s_2': 5, 'z_p2': 30, 'z_p2_1': 33, 'z_p2_2': 30, 'z_r2': 80, 'z_r2_1': 77, 'z_r2_2': 78, 'x_s': 0.5, 'x_s_1': 0.4, 'x_s_2': 0.3, 'x_p1': 0.555436, 'x_p1_1': 0.455436, 'x_p1_2': 0.355436, 'x_p2': 0.5, 'x_p2_1': 0.4, 'x_p2_2': 0.3, 'x_r2': 1.022966, 'x_r2_1': 0.922966, 'x_r2_2': 0.822966} using model BoTorch.\n",
      "[INFO 04-04 19:17:34] ax.service.ax_client: Completed trial 598 with data: {'Viable_Cross_Terms': (78, None)}.\n",
      "[INFO 04-04 19:18:34] ax.service.ax_client: Generated new trial 599 with parameters {'z_s': 3, 'z_s_1': 5, 'z_s_2': 5, 'z_p2': 29, 'z_p2_1': 29, 'z_p2_2': 29, 'z_r2': 80, 'z_r2_1': 74, 'z_r2_2': 84, 'x_s': 0.5, 'x_s_1': 0.4, 'x_s_2': 0.3, 'x_p1': 0.570269, 'x_p1_1': 0.470269, 'x_p1_2': 0.370269, 'x_p2': 0.5, 'x_p2_1': 0.4, 'x_p2_2': 0.3, 'x_r2': 0.989433, 'x_r2_1': 0.889433, 'x_r2_2': 0.789433} using model BoTorch.\n",
      "[INFO 04-04 19:18:34] ax.service.ax_client: Completed trial 599 with data: {'Viable_Cross_Terms': (81, None)}.\n",
      "[INFO 04-04 19:19:33] ax.service.ax_client: Generated new trial 600 with parameters {'z_s': 8, 'z_s_1': 8, 'z_s_2': 5, 'z_p2': 29, 'z_p2_1': 29, 'z_p2_2': 30, 'z_r2': 80, 'z_r2_1': 79, 'z_r2_2': 82, 'x_s': 0.5, 'x_s_1': 0.4, 'x_s_2': 0.3, 'x_p1': 0.514008, 'x_p1_1': 0.414008, 'x_p1_2': 0.314008, 'x_p2': 0.5, 'x_p2_1': 0.4, 'x_p2_2': 0.3, 'x_r2': 1.022915, 'x_r2_1': 0.922915, 'x_r2_2': 0.822915} using model BoTorch.\n",
      "[INFO 04-04 19:19:33] ax.service.ax_client: Completed trial 600 with data: {'Viable_Cross_Terms': (68, None)}.\n",
      "[INFO 04-04 19:20:31] ax.service.ax_client: Generated new trial 601 with parameters {'z_s': 14, 'z_s_1': 12, 'z_s_2': 5, 'z_p2': 27, 'z_p2_1': 28, 'z_p2_2': 33, 'z_r2': 75, 'z_r2_1': 75, 'z_r2_2': 76, 'x_s': 0.5, 'x_s_1': 0.4, 'x_s_2': 0.3, 'x_p1': 1.0, 'x_p1_1': 0.9, 'x_p1_2': -1.0, 'x_p2': 0.5, 'x_p2_1': 0.4, 'x_p2_2': 0.3, 'x_r2': 1.5, 'x_r2_1': 1.4, 'x_r2_2': -1.5} using model BoTorch.\n",
      "[INFO 04-04 19:20:31] ax.service.ax_client: Completed trial 601 with data: {'Viable_Cross_Terms': (0, None)}.\n",
      "[INFO 04-04 19:21:29] ax.service.ax_client: Generated new trial 602 with parameters {'z_s': 3, 'z_s_1': 4, 'z_s_2': 8, 'z_p2': 27, 'z_p2_1': 32, 'z_p2_2': 33, 'z_r2': 77, 'z_r2_1': 80, 'z_r2_2': 78, 'x_s': -0.3, 'x_s_1': -0.4, 'x_s_2': -0.5, 'x_p1': 0.391047, 'x_p1_1': 0.291047, 'x_p1_2': 0.191047, 'x_p2': -0.3, 'x_p2_1': -0.4, 'x_p2_2': -0.5, 'x_r2': 1.5, 'x_r2_1': -1.4, 'x_r2_2': -1.5} using model BoTorch.\n",
      "[INFO 04-04 19:21:29] ax.service.ax_client: Completed trial 602 with data: {'Viable_Cross_Terms': (10, None)}.\n",
      "[INFO 04-04 19:22:28] ax.service.ax_client: Generated new trial 603 with parameters {'z_s': 4, 'z_s_1': 6, 'z_s_2': 4, 'z_p2': 30, 'z_p2_1': 31, 'z_p2_2': 29, 'z_r2': 80, 'z_r2_1': 83, 'z_r2_2': 82, 'x_s': 0.5, 'x_s_1': 0.4, 'x_s_2': 0.3, 'x_p1': 0.527822, 'x_p1_1': 0.427822, 'x_p1_2': 0.327822, 'x_p2': 0.5, 'x_p2_1': 0.4, 'x_p2_2': 0.3, 'x_r2': 0.983449, 'x_r2_1': 0.883449, 'x_r2_2': 0.783449} using model BoTorch.\n",
      "[INFO 04-04 19:22:28] ax.service.ax_client: Completed trial 603 with data: {'Viable_Cross_Terms': (35, None)}.\n",
      "[INFO 04-04 19:23:26] ax.service.ax_client: Generated new trial 604 with parameters {'z_s': 5, 'z_s_1': 4, 'z_s_2': 2, 'z_p2': 34, 'z_p2_1': 32, 'z_p2_2': 25, 'z_r2': 76, 'z_r2_1': 81, 'z_r2_2': 81, 'x_s': -0.3, 'x_s_1': -0.4, 'x_s_2': -0.5, 'x_p1': 1.0, 'x_p1_1': 0.9, 'x_p1_2': 0.8, 'x_p2': 0.5, 'x_p2_1': 0.4, 'x_p2_2': -0.5, 'x_r2': 1.5, 'x_r2_1': 1.4, 'x_r2_2': 1.3} using model BoTorch.\n",
      "[INFO 04-04 19:23:26] ax.service.ax_client: Completed trial 604 with data: {'Viable_Cross_Terms': (0, None)}.\n",
      "[INFO 04-04 19:24:26] ax.service.ax_client: Generated new trial 605 with parameters {'z_s': 3, 'z_s_1': 13, 'z_s_2': 5, 'z_p2': 27, 'z_p2_1': 27, 'z_p2_2': 25, 'z_r2': 86, 'z_r2_1': 72, 'z_r2_2': 80, 'x_s': -0.3, 'x_s_1': -0.4, 'x_s_2': -0.5, 'x_p1': 1.0, 'x_p1_1': 0.9, 'x_p1_2': 0.8, 'x_p2': 0.5, 'x_p2_1': 0.4, 'x_p2_2': 0.3, 'x_r2': 1.5, 'x_r2_1': 1.4, 'x_r2_2': 1.3} using model BoTorch.\n",
      "[INFO 04-04 19:24:26] ax.service.ax_client: Completed trial 605 with data: {'Viable_Cross_Terms': (11, None)}.\n",
      "[INFO 04-04 19:25:24] ax.service.ax_client: Generated new trial 606 with parameters {'z_s': 6, 'z_s_1': 2, 'z_s_2': 1, 'z_p2': 33, 'z_p2_1': 27, 'z_p2_2': 25, 'z_r2': 72, 'z_r2_1': 73, 'z_r2_2': 81, 'x_s': 0.5, 'x_s_1': 0.4, 'x_s_2': -0.5, 'x_p1': 1.0, 'x_p1_1': 0.9, 'x_p1_2': -1.0, 'x_p2': 0.5, 'x_p2_1': 0.4, 'x_p2_2': 0.3, 'x_r2': 1.5, 'x_r2_1': 1.387172, 'x_r2_2': -1.5} using model BoTorch.\n",
      "[INFO 04-04 19:25:24] ax.service.ax_client: Completed trial 606 with data: {'Viable_Cross_Terms': (23, None)}.\n",
      "[INFO 04-04 19:26:23] ax.service.ax_client: Generated new trial 607 with parameters {'z_s': 7, 'z_s_1': 8, 'z_s_2': 5, 'z_p2': 29, 'z_p2_1': 29, 'z_p2_2': 31, 'z_r2': 80, 'z_r2_1': 79, 'z_r2_2': 78, 'x_s': 0.5, 'x_s_1': 0.4, 'x_s_2': 0.3, 'x_p1': 0.572031, 'x_p1_1': 0.472031, 'x_p1_2': 0.372031, 'x_p2': 0.5, 'x_p2_1': 0.4, 'x_p2_2': 0.3, 'x_r2': 1.035043, 'x_r2_1': 0.935043, 'x_r2_2': 0.835043} using model BoTorch.\n",
      "[INFO 04-04 19:26:23] ax.service.ax_client: Completed trial 607 with data: {'Viable_Cross_Terms': (108, None)}.\n",
      "[INFO 04-04 19:27:23] ax.service.ax_client: Generated new trial 608 with parameters {'z_s': 7, 'z_s_1': 10, 'z_s_2': 5, 'z_p2': 28, 'z_p2_1': 30, 'z_p2_2': 30, 'z_r2': 80, 'z_r2_1': 80, 'z_r2_2': 79, 'x_s': 0.5, 'x_s_1': 0.4, 'x_s_2': 0.3, 'x_p1': 0.503203, 'x_p1_1': 0.403203, 'x_p1_2': 0.303203, 'x_p2': 0.5, 'x_p2_1': 0.4, 'x_p2_2': 0.3, 'x_r2': 1.048041, 'x_r2_1': 0.948041, 'x_r2_2': 0.848041} using model BoTorch.\n",
      "[INFO 04-04 19:27:23] ax.service.ax_client: Completed trial 608 with data: {'Viable_Cross_Terms': (66, None)}.\n",
      "[INFO 04-04 19:28:21] ax.service.ax_client: Generated new trial 609 with parameters {'z_s': 12, 'z_s_1': 7, 'z_s_2': 5, 'z_p2': 32, 'z_p2_1': 30, 'z_p2_2': 30, 'z_r2': 80, 'z_r2_1': 79, 'z_r2_2': 83, 'x_s': 0.5, 'x_s_1': 0.4, 'x_s_2': 0.3, 'x_p1': 0.525795, 'x_p1_1': 0.425795, 'x_p1_2': 0.325795, 'x_p2': 0.5, 'x_p2_1': 0.4, 'x_p2_2': 0.3, 'x_r2': 1.039653, 'x_r2_1': 0.939653, 'x_r2_2': 0.839653} using model BoTorch.\n",
      "[INFO 04-04 19:28:21] ax.service.ax_client: Completed trial 609 with data: {'Viable_Cross_Terms': (69, None)}.\n",
      "[INFO 04-04 19:29:20] ax.service.ax_client: Generated new trial 610 with parameters {'z_s': 12, 'z_s_1': 7, 'z_s_2': 5, 'z_p2': 31, 'z_p2_1': 28, 'z_p2_2': 29, 'z_r2': 80, 'z_r2_1': 79, 'z_r2_2': 77, 'x_s': 0.5, 'x_s_1': 0.4, 'x_s_2': 0.3, 'x_p1': 0.507758, 'x_p1_1': 0.407758, 'x_p1_2': 0.307758, 'x_p2': 0.5, 'x_p2_1': 0.4, 'x_p2_2': 0.3, 'x_r2': 1.056842, 'x_r2_1': 0.956842, 'x_r2_2': 0.856842} using model BoTorch.\n",
      "[INFO 04-04 19:29:20] ax.service.ax_client: Completed trial 610 with data: {'Viable_Cross_Terms': (81, None)}.\n",
      "[INFO 04-04 19:30:21] ax.service.ax_client: Generated new trial 611 with parameters {'z_s': 6, 'z_s_1': 6, 'z_s_2': 4, 'z_p2': 32, 'z_p2_1': 29, 'z_p2_2': 30, 'z_r2': 79, 'z_r2_1': 82, 'z_r2_2': 71, 'x_s': 0.5, 'x_s_1': 0.4, 'x_s_2': 0.3, 'x_p1': 0.446298, 'x_p1_1': 0.346298, 'x_p1_2': 0.246298, 'x_p2': 0.5, 'x_p2_1': 0.361749, 'x_p2_2': 0.099673, 'x_r2': 0.909871, 'x_r2_1': 0.809871, 'x_r2_2': 0.709871} using model BoTorch.\n",
      "[INFO 04-04 19:30:21] ax.service.ax_client: Completed trial 611 with data: {'Viable_Cross_Terms': (31, None)}.\n",
      "[INFO 04-04 19:31:21] ax.service.ax_client: Generated new trial 612 with parameters {'z_s': 6, 'z_s_1': 4, 'z_s_2': 5, 'z_p2': 33, 'z_p2_1': 33, 'z_p2_2': 31, 'z_r2': 80, 'z_r2_1': 80, 'z_r2_2': 77, 'x_s': 0.5, 'x_s_1': 0.4, 'x_s_2': 0.3, 'x_p1': 0.549031, 'x_p1_1': 0.449031, 'x_p1_2': 0.349031, 'x_p2': 0.5, 'x_p2_1': 0.4, 'x_p2_2': 0.3, 'x_r2': 1.021557, 'x_r2_1': 0.921557, 'x_r2_2': 0.821557} using model BoTorch.\n",
      "[INFO 04-04 19:31:21] ax.service.ax_client: Completed trial 612 with data: {'Viable_Cross_Terms': (80, None)}.\n",
      "[INFO 04-04 19:32:22] ax.service.ax_client: Generated new trial 613 with parameters {'z_s': 11, 'z_s_1': 2, 'z_s_2': 5, 'z_p2': 29, 'z_p2_1': 26, 'z_p2_2': 32, 'z_r2': 80, 'z_r2_1': 74, 'z_r2_2': 70, 'x_s': 0.5, 'x_s_1': 0.4, 'x_s_2': 0.3, 'x_p1': 0.512079, 'x_p1_1': 0.412079, 'x_p1_2': 0.312079, 'x_p2': 0.5, 'x_p2_1': 0.4, 'x_p2_2': 0.3, 'x_r2': 1.441424, 'x_r2_1': 1.341424, 'x_r2_2': 1.241424} using model BoTorch.\n",
      "[INFO 04-04 19:32:22] ax.service.ax_client: Completed trial 613 with data: {'Viable_Cross_Terms': (44, None)}.\n",
      "[INFO 04-04 19:33:25] ax.service.ax_client: Generated new trial 614 with parameters {'z_s': 3, 'z_s_1': 13, 'z_s_2': 13, 'z_p2': 34, 'z_p2_1': 26, 'z_p2_2': 32, 'z_r2': 86, 'z_r2_1': 75, 'z_r2_2': 74, 'x_s': 0.5, 'x_s_1': 0.4, 'x_s_2': 0.3, 'x_p1': 1.0, 'x_p1_1': -0.786696, 'x_p1_2': -0.886696, 'x_p2': 0.5, 'x_p2_1': 0.4, 'x_p2_2': 0.3, 'x_r2': 1.5, 'x_r2_1': 1.238401, 'x_r2_2': 1.138401} using model BoTorch.\n",
      "[INFO 04-04 19:33:25] ax.service.ax_client: Completed trial 614 with data: {'Viable_Cross_Terms': (1, None)}.\n",
      "[INFO 04-04 19:34:27] ax.service.ax_client: Generated new trial 615 with parameters {'z_s': 10, 'z_s_1': 7, 'z_s_2': 1, 'z_p2': 27, 'z_p2_1': 33, 'z_p2_2': 25, 'z_r2': 72, 'z_r2_1': 72, 'z_r2_2': 73, 'x_s': 0.5, 'x_s_1': 0.4, 'x_s_2': 0.3, 'x_p1': -0.8, 'x_p1_1': -0.9, 'x_p1_2': -1.0, 'x_p2': 0.5, 'x_p2_1': 0.4, 'x_p2_2': 0.3, 'x_r2': -1.3, 'x_r2_1': -1.4, 'x_r2_2': -1.5} using model BoTorch.\n",
      "[INFO 04-04 19:34:27] ax.service.ax_client: Completed trial 615 with data: {'Viable_Cross_Terms': (0, None)}.\n",
      "[INFO 04-04 19:35:28] ax.service.ax_client: Generated new trial 616 with parameters {'z_s': 4, 'z_s_1': 10, 'z_s_2': 4, 'z_p2': 29, 'z_p2_1': 29, 'z_p2_2': 30, 'z_r2': 80, 'z_r2_1': 79, 'z_r2_2': 82, 'x_s': 0.5, 'x_s_1': 0.4, 'x_s_2': 0.3, 'x_p1': 0.579237, 'x_p1_1': 0.479237, 'x_p1_2': 0.379237, 'x_p2': 0.5, 'x_p2_1': 0.4, 'x_p2_2': 0.3, 'x_r2': 0.901993, 'x_r2_1': 0.801993, 'x_r2_2': 0.701993} using model BoTorch.\n",
      "[INFO 04-04 19:35:28] ax.service.ax_client: Completed trial 616 with data: {'Viable_Cross_Terms': (30, None)}.\n",
      "[INFO 04-04 19:36:38] ax.service.ax_client: Generated new trial 617 with parameters {'z_s': 8, 'z_s_1': 13, 'z_s_2': 6, 'z_p2': 27, 'z_p2_1': 27, 'z_p2_2': 30, 'z_r2': 84, 'z_r2_1': 73, 'z_r2_2': 84, 'x_s': 0.5, 'x_s_1': 0.4, 'x_s_2': 0.3, 'x_p1': 1.0, 'x_p1_1': 0.9, 'x_p1_2': 0.8, 'x_p2': 0.5, 'x_p2_1': 0.4, 'x_p2_2': 0.3, 'x_r2': 0.606409, 'x_r2_1': 0.506409, 'x_r2_2': 0.406409} using model BoTorch.\n",
      "[INFO 04-04 19:36:38] ax.service.ax_client: Completed trial 617 with data: {'Viable_Cross_Terms': (0, None)}.\n",
      "[INFO 04-04 19:37:38] ax.service.ax_client: Generated new trial 618 with parameters {'z_s': 9, 'z_s_1': 7, 'z_s_2': 1, 'z_p2': 27, 'z_p2_1': 27, 'z_p2_2': 31, 'z_r2': 73, 'z_r2_1': 71, 'z_r2_2': 78, 'x_s': -0.3, 'x_s_1': -0.4, 'x_s_2': -0.5, 'x_p1': 1.0, 'x_p1_1': 0.9, 'x_p1_2': 0.8, 'x_p2': 0.5, 'x_p2_1': 0.4, 'x_p2_2': 0.3, 'x_r2': 1.5, 'x_r2_1': 1.4, 'x_r2_2': 1.3} using model BoTorch.\n",
      "[INFO 04-04 19:37:38] ax.service.ax_client: Completed trial 618 with data: {'Viable_Cross_Terms': (30, None)}.\n",
      "[INFO 04-04 19:38:40] ax.service.ax_client: Generated new trial 619 with parameters {'z_s': 10, 'z_s_1': 3, 'z_s_2': 6, 'z_p2': 29, 'z_p2_1': 31, 'z_p2_2': 29, 'z_r2': 80, 'z_r2_1': 79, 'z_r2_2': 73, 'x_s': 0.5, 'x_s_1': 0.4, 'x_s_2': 0.3, 'x_p1': 0.585247, 'x_p1_1': 0.485247, 'x_p1_2': 0.385247, 'x_p2': 0.5, 'x_p2_1': 0.4, 'x_p2_2': 0.3, 'x_r2': 0.940629, 'x_r2_1': 0.840629, 'x_r2_2': 0.740629} using model BoTorch.\n",
      "[INFO 04-04 19:38:40] ax.service.ax_client: Completed trial 619 with data: {'Viable_Cross_Terms': (33, None)}.\n",
      "[INFO 04-04 19:39:41] ax.service.ax_client: Generated new trial 620 with parameters {'z_s': 8, 'z_s_1': 12, 'z_s_2': 1, 'z_p2': 28, 'z_p2_1': 29, 'z_p2_2': 33, 'z_r2': 86, 'z_r2_1': 77, 'z_r2_2': 74, 'x_s': 0.5, 'x_s_1': 0.4, 'x_s_2': -0.5, 'x_p1': 1.0, 'x_p1_1': -0.9, 'x_p1_2': -1.0, 'x_p2': 0.5, 'x_p2_1': 0.4, 'x_p2_2': 0.3, 'x_r2': -1.3, 'x_r2_1': -1.4, 'x_r2_2': -1.5} using model BoTorch.\n",
      "[INFO 04-04 19:39:41] ax.service.ax_client: Completed trial 620 with data: {'Viable_Cross_Terms': (0, None)}.\n",
      "[INFO 04-04 19:40:52] ax.service.ax_client: Generated new trial 621 with parameters {'z_s': 9, 'z_s_1': 5, 'z_s_2': 6, 'z_p2': 32, 'z_p2_1': 28, 'z_p2_2': 33, 'z_r2': 77, 'z_r2_1': 76, 'z_r2_2': 73, 'x_s': 0.5, 'x_s_1': -0.4, 'x_s_2': -0.5, 'x_p1': -0.8, 'x_p1_1': -0.9, 'x_p1_2': -1.0, 'x_p2': 0.5, 'x_p2_1': 0.4, 'x_p2_2': -0.5, 'x_r2': -0.777674, 'x_r2_1': -0.877674, 'x_r2_2': -0.977674} using model BoTorch.\n",
      "[INFO 04-04 19:40:52] ax.service.ax_client: Completed trial 621 with data: {'Viable_Cross_Terms': (0, None)}.\n",
      "[INFO 04-04 19:41:56] ax.service.ax_client: Generated new trial 622 with parameters {'z_s': 12, 'z_s_1': 5, 'z_s_2': 5, 'z_p2': 28, 'z_p2_1': 34, 'z_p2_2': 30, 'z_r2': 80, 'z_r2_1': 72, 'z_r2_2': 79, 'x_s': 0.5, 'x_s_1': 0.4, 'x_s_2': 0.3, 'x_p1': 0.922975, 'x_p1_1': 0.822975, 'x_p1_2': 0.722975, 'x_p2': 0.5, 'x_p2_1': 0.4, 'x_p2_2': 0.3, 'x_r2': 1.025309, 'x_r2_1': 0.90041, 'x_r2_2': 0.80041} using model BoTorch.\n",
      "[INFO 04-04 19:41:56] ax.service.ax_client: Completed trial 622 with data: {'Viable_Cross_Terms': (36, None)}.\n",
      "[INFO 04-04 19:42:57] ax.service.ax_client: Generated new trial 623 with parameters {'z_s': 3, 'z_s_1': 3, 'z_s_2': 5, 'z_p2': 28, 'z_p2_1': 29, 'z_p2_2': 29, 'z_r2': 80, 'z_r2_1': 79, 'z_r2_2': 79, 'x_s': 0.5, 'x_s_1': 0.4, 'x_s_2': 0.3, 'x_p1': 0.650078, 'x_p1_1': 0.550078, 'x_p1_2': 0.450078, 'x_p2': 0.5, 'x_p2_1': 0.4, 'x_p2_2': 0.3, 'x_r2': 1.067037, 'x_r2_1': 0.967037, 'x_r2_2': 0.867037} using model BoTorch.\n",
      "[INFO 04-04 19:42:57] ax.service.ax_client: Completed trial 623 with data: {'Viable_Cross_Terms': (86, None)}.\n",
      "[INFO 04-04 19:43:57] ax.service.ax_client: Generated new trial 624 with parameters {'z_s': 13, 'z_s_1': 13, 'z_s_2': 5, 'z_p2': 32, 'z_p2_1': 27, 'z_p2_2': 28, 'z_r2': 80, 'z_r2_1': 77, 'z_r2_2': 78, 'x_s': 0.5, 'x_s_1': 0.4, 'x_s_2': 0.3, 'x_p1': 0.577575, 'x_p1_1': 0.477575, 'x_p1_2': 0.377575, 'x_p2': 0.5, 'x_p2_1': 0.4, 'x_p2_2': 0.3, 'x_r2': 1.118064, 'x_r2_1': 1.018064, 'x_r2_2': 0.918064} using model BoTorch.\n",
      "[INFO 04-04 19:43:57] ax.service.ax_client: Completed trial 624 with data: {'Viable_Cross_Terms': (68, None)}.\n",
      "[INFO 04-04 19:44:58] ax.service.ax_client: Generated new trial 625 with parameters {'z_s': 4, 'z_s_1': 5, 'z_s_2': 5, 'z_p2': 30, 'z_p2_1': 28, 'z_p2_2': 30, 'z_r2': 80, 'z_r2_1': 75, 'z_r2_2': 72, 'x_s': 0.5, 'x_s_1': 0.4, 'x_s_2': 0.3, 'x_p1': 0.590003, 'x_p1_1': 0.490003, 'x_p1_2': 0.390003, 'x_p2': 0.5, 'x_p2_1': 0.4, 'x_p2_2': 0.3, 'x_r2': 1.064386, 'x_r2_1': 0.964386, 'x_r2_2': 0.864386} using model BoTorch.\n",
      "[INFO 04-04 19:44:58] ax.service.ax_client: Completed trial 625 with data: {'Viable_Cross_Terms': (82, None)}.\n",
      "[INFO 04-04 19:46:04] ax.service.ax_client: Generated new trial 626 with parameters {'z_s': 5, 'z_s_1': 4, 'z_s_2': 5, 'z_p2': 35, 'z_p2_1': 34, 'z_p2_2': 26, 'z_r2': 80, 'z_r2_1': 84, 'z_r2_2': 74, 'x_s': 0.5, 'x_s_1': 0.4, 'x_s_2': 0.3, 'x_p1': 0.60824, 'x_p1_1': 0.50824, 'x_p1_2': 0.40824, 'x_p2': 0.5, 'x_p2_1': 0.4, 'x_p2_2': 0.3, 'x_r2': 1.26056, 'x_r2_1': 1.16056, 'x_r2_2': 1.06056} using model BoTorch.\n",
      "[INFO 04-04 19:46:04] ax.service.ax_client: Completed trial 626 with data: {'Viable_Cross_Terms': (46, None)}.\n",
      "[INFO 04-04 19:47:05] ax.service.ax_client: Generated new trial 627 with parameters {'z_s': 4, 'z_s_1': 7, 'z_s_2': 5, 'z_p2': 32, 'z_p2_1': 30, 'z_p2_2': 30, 'z_r2': 80, 'z_r2_1': 78, 'z_r2_2': 71, 'x_s': 0.5, 'x_s_1': 0.4, 'x_s_2': 0.3, 'x_p1': 0.60676, 'x_p1_1': 0.50676, 'x_p1_2': 0.40676, 'x_p2': 0.5, 'x_p2_1': 0.4, 'x_p2_2': 0.3, 'x_r2': 1.072121, 'x_r2_1': 0.972121, 'x_r2_2': 0.872121} using model BoTorch.\n",
      "[INFO 04-04 19:47:05] ax.service.ax_client: Completed trial 627 with data: {'Viable_Cross_Terms': (82, None)}.\n",
      "[INFO 04-04 19:48:07] ax.service.ax_client: Generated new trial 628 with parameters {'z_s': 5, 'z_s_1': 2, 'z_s_2': 13, 'z_p2': 28, 'z_p2_1': 28, 'z_p2_2': 27, 'z_r2': 78, 'z_r2_1': 82, 'z_r2_2': 84, 'x_s': 0.5, 'x_s_1': 0.4, 'x_s_2': 0.3, 'x_p1': 0.901797, 'x_p1_1': 0.801797, 'x_p1_2': -1.0, 'x_p2': 0.5, 'x_p2_1': 0.4, 'x_p2_2': 0.3, 'x_r2': 1.5, 'x_r2_1': -0.191077, 'x_r2_2': -1.5} using model BoTorch.\n",
      "[INFO 04-04 19:48:07] ax.service.ax_client: Completed trial 628 with data: {'Viable_Cross_Terms': (2, None)}.\n",
      "[INFO 04-04 19:49:10] ax.service.ax_client: Generated new trial 629 with parameters {'z_s': 11, 'z_s_1': 11, 'z_s_2': 5, 'z_p2': 27, 'z_p2_1': 29, 'z_p2_2': 29, 'z_r2': 80, 'z_r2_1': 83, 'z_r2_2': 73, 'x_s': 0.5, 'x_s_1': 0.4, 'x_s_2': 0.3, 'x_p1': 0.523442, 'x_p1_1': 0.423442, 'x_p1_2': 0.323442, 'x_p2': 0.5, 'x_p2_1': 0.4, 'x_p2_2': 0.3, 'x_r2': 1.08454, 'x_r2_1': 0.98454, 'x_r2_2': 0.88454} using model BoTorch.\n",
      "[INFO 04-04 19:49:10] ax.service.ax_client: Completed trial 629 with data: {'Viable_Cross_Terms': (67, None)}.\n",
      "[INFO 04-04 19:50:17] ax.service.ax_client: Generated new trial 630 with parameters {'z_s': 9, 'z_s_1': 13, 'z_s_2': 5, 'z_p2': 27, 'z_p2_1': 30, 'z_p2_2': 27, 'z_r2': 79, 'z_r2_1': 76, 'z_r2_2': 80, 'x_s': 0.5, 'x_s_1': 0.4, 'x_s_2': 0.3, 'x_p1': 0.151706, 'x_p1_1': 0.051706, 'x_p1_2': -0.048294, 'x_p2': 0.5, 'x_p2_1': 0.4, 'x_p2_2': 0.3, 'x_r2': 1.5, 'x_r2_1': 1.4, 'x_r2_2': 1.3} using model BoTorch.\n",
      "[INFO 04-04 19:50:17] ax.service.ax_client: Completed trial 630 with data: {'Viable_Cross_Terms': (47, None)}.\n",
      "[INFO 04-04 19:51:20] ax.service.ax_client: Generated new trial 631 with parameters {'z_s': 6, 'z_s_1': 7, 'z_s_2': 13, 'z_p2': 34, 'z_p2_1': 32, 'z_p2_2': 31, 'z_r2': 74, 'z_r2_1': 72, 'z_r2_2': 84, 'x_s': 0.5, 'x_s_1': 0.4, 'x_s_2': 0.3, 'x_p1': -0.8, 'x_p1_1': -0.9, 'x_p1_2': -1.0, 'x_p2': -0.3, 'x_p2_1': -0.4, 'x_p2_2': -0.5, 'x_r2': -1.3, 'x_r2_1': -1.4, 'x_r2_2': -1.5} using model BoTorch.\n",
      "[INFO 04-04 19:51:20] ax.service.ax_client: Completed trial 631 with data: {'Viable_Cross_Terms': (0, None)}.\n",
      "[INFO 04-04 19:52:25] ax.service.ax_client: Generated new trial 632 with parameters {'z_s': 14, 'z_s_1': 7, 'z_s_2': 5, 'z_p2': 31, 'z_p2_1': 32, 'z_p2_2': 29, 'z_r2': 80, 'z_r2_1': 78, 'z_r2_2': 83, 'x_s': 0.5, 'x_s_1': 0.4, 'x_s_2': 0.3, 'x_p1': 0.528592, 'x_p1_1': 0.428592, 'x_p1_2': 0.328592, 'x_p2': 0.5, 'x_p2_1': 0.4, 'x_p2_2': 0.3, 'x_r2': 1.167829, 'x_r2_1': 1.067829, 'x_r2_2': 0.967829} using model BoTorch.\n",
      "[INFO 04-04 19:52:25] ax.service.ax_client: Completed trial 632 with data: {'Viable_Cross_Terms': (88, None)}.\n",
      "[INFO 04-04 19:53:29] ax.service.ax_client: Generated new trial 633 with parameters {'z_s': 13, 'z_s_1': 7, 'z_s_2': 5, 'z_p2': 32, 'z_p2_1': 31, 'z_p2_2': 30, 'z_r2': 80, 'z_r2_1': 74, 'z_r2_2': 71, 'x_s': 0.5, 'x_s_1': 0.4, 'x_s_2': 0.3, 'x_p1': 0.470476, 'x_p1_1': 0.370476, 'x_p1_2': 0.270476, 'x_p2': 0.5, 'x_p2_1': 0.4, 'x_p2_2': 0.3, 'x_r2': 1.175516, 'x_r2_1': 1.075516, 'x_r2_2': 0.975516} using model BoTorch.\n",
      "[INFO 04-04 19:53:29] ax.service.ax_client: Completed trial 633 with data: {'Viable_Cross_Terms': (67, None)}.\n",
      "[INFO 04-04 19:54:33] ax.service.ax_client: Generated new trial 634 with parameters {'z_s': 4, 'z_s_1': 8, 'z_s_2': 5, 'z_p2': 31, 'z_p2_1': 27, 'z_p2_2': 29, 'z_r2': 80, 'z_r2_1': 85, 'z_r2_2': 77, 'x_s': 0.5, 'x_s_1': 0.4, 'x_s_2': 0.3, 'x_p1': 0.505591, 'x_p1_1': 0.405591, 'x_p1_2': 0.305591, 'x_p2': 0.5, 'x_p2_1': 0.4, 'x_p2_2': 0.3, 'x_r2': 1.137605, 'x_r2_1': 1.037605, 'x_r2_2': 0.937605} using model BoTorch.\n",
      "[INFO 04-04 19:54:33] ax.service.ax_client: Completed trial 634 with data: {'Viable_Cross_Terms': (85, None)}.\n",
      "[INFO 04-04 19:55:35] ax.service.ax_client: Generated new trial 635 with parameters {'z_s': 15, 'z_s_1': 2, 'z_s_2': 1, 'z_p2': 27, 'z_p2_1': 34, 'z_p2_2': 29, 'z_r2': 72, 'z_r2_1': 71, 'z_r2_2': 70, 'x_s': 0.5, 'x_s_1': 0.4, 'x_s_2': 0.3, 'x_p1': 1.0, 'x_p1_1': 0.9, 'x_p1_2': 0.8, 'x_p2': 0.5, 'x_p2_1': 0.4, 'x_p2_2': 0.3, 'x_r2': 1.5, 'x_r2_1': 1.169489, 'x_r2_2': 1.069489} using model BoTorch.\n",
      "[INFO 04-04 19:55:35] ax.service.ax_client: Completed trial 635 with data: {'Viable_Cross_Terms': (44, None)}.\n",
      "[INFO 04-04 19:56:38] ax.service.ax_client: Generated new trial 636 with parameters {'z_s': 4, 'z_s_1': 12, 'z_s_2': 7, 'z_p2': 29, 'z_p2_1': 28, 'z_p2_2': 26, 'z_r2': 80, 'z_r2_1': 82, 'z_r2_2': 77, 'x_s': 0.5, 'x_s_1': 0.4, 'x_s_2': 0.3, 'x_p1': 0.265469, 'x_p1_1': 0.165469, 'x_p1_2': 0.065469, 'x_p2': 0.5, 'x_p2_1': 0.4, 'x_p2_2': 0.3, 'x_r2': 1.307568, 'x_r2_1': 1.207568, 'x_r2_2': 1.107568} using model BoTorch.\n",
      "[INFO 04-04 19:56:38] ax.service.ax_client: Completed trial 636 with data: {'Viable_Cross_Terms': (3, None)}.\n",
      "[INFO 04-04 19:57:46] ax.service.ax_client: Generated new trial 637 with parameters {'z_s': 7, 'z_s_1': 4, 'z_s_2': 5, 'z_p2': 30, 'z_p2_1': 27, 'z_p2_2': 30, 'z_r2': 80, 'z_r2_1': 82, 'z_r2_2': 72, 'x_s': 0.5, 'x_s_1': 0.4, 'x_s_2': 0.3, 'x_p1': 0.472197, 'x_p1_1': 0.372197, 'x_p1_2': 0.272197, 'x_p2': 0.5, 'x_p2_1': 0.4, 'x_p2_2': 0.3, 'x_r2': 1.260753, 'x_r2_1': 1.160753, 'x_r2_2': 1.060753} using model BoTorch.\n",
      "[INFO 04-04 19:57:46] ax.service.ax_client: Completed trial 637 with data: {'Viable_Cross_Terms': (27, None)}.\n",
      "[INFO 04-04 19:58:52] ax.service.ax_client: Generated new trial 638 with parameters {'z_s': 8, 'z_s_1': 9, 'z_s_2': 9, 'z_p2': 35, 'z_p2_1': 26, 'z_p2_2': 26, 'z_r2': 80, 'z_r2_1': 78, 'z_r2_2': 77, 'x_s': 0.5, 'x_s_1': 0.4, 'x_s_2': 0.3, 'x_p1': 1.0, 'x_p1_1': 0.9, 'x_p1_2': 0.8, 'x_p2': 0.5, 'x_p2_1': 0.4, 'x_p2_2': 0.3, 'x_r2': 1.5, 'x_r2_1': 1.4, 'x_r2_2': 1.3} using model BoTorch.\n",
      "[INFO 04-04 19:58:52] ax.service.ax_client: Completed trial 638 with data: {'Viable_Cross_Terms': (0, None)}.\n",
      "[INFO 04-04 20:00:00] ax.service.ax_client: Generated new trial 639 with parameters {'z_s': 14, 'z_s_1': 6, 'z_s_2': 13, 'z_p2': 34, 'z_p2_1': 30, 'z_p2_2': 27, 'z_r2': 79, 'z_r2_1': 73, 'z_r2_2': 75, 'x_s': 0.5, 'x_s_1': 0.4, 'x_s_2': -0.5, 'x_p1': 1.0, 'x_p1_1': 0.9, 'x_p1_2': 0.8, 'x_p2': -0.3, 'x_p2_1': -0.4, 'x_p2_2': -0.5, 'x_r2': 1.5, 'x_r2_1': -1.4, 'x_r2_2': -1.5} using model BoTorch.\n",
      "[INFO 04-04 20:00:00] ax.service.ax_client: Completed trial 639 with data: {'Viable_Cross_Terms': (0, None)}.\n",
      "[INFO 04-04 20:01:10] ax.service.ax_client: Generated new trial 640 with parameters {'z_s': 13, 'z_s_1': 7, 'z_s_2': 5, 'z_p2': 31, 'z_p2_1': 33, 'z_p2_2': 32, 'z_r2': 80, 'z_r2_1': 75, 'z_r2_2': 80, 'x_s': 0.5, 'x_s_1': 0.4, 'x_s_2': 0.3, 'x_p1': 0.2935, 'x_p1_1': 0.1935, 'x_p1_2': 0.0935, 'x_p2': 0.5, 'x_p2_1': 0.4, 'x_p2_2': 0.3, 'x_r2': 1.005589, 'x_r2_1': 0.905589, 'x_r2_2': 0.805589} using model BoTorch.\n",
      "[INFO 04-04 20:01:10] ax.service.ax_client: Completed trial 640 with data: {'Viable_Cross_Terms': (56, None)}.\n",
      "[INFO 04-04 20:02:14] ax.service.ax_client: Generated new trial 641 with parameters {'z_s': 9, 'z_s_1': 11, 'z_s_2': 5, 'z_p2': 34, 'z_p2_1': 27, 'z_p2_2': 29, 'z_r2': 80, 'z_r2_1': 73, 'z_r2_2': 82, 'x_s': 0.5, 'x_s_1': 0.4, 'x_s_2': 0.3, 'x_p1': 0.442669, 'x_p1_1': 0.342669, 'x_p1_2': 0.242669, 'x_p2': 0.5, 'x_p2_1': 0.4, 'x_p2_2': 0.3, 'x_r2': 0.763609, 'x_r2_1': 0.663609, 'x_r2_2': 0.563609} using model BoTorch.\n",
      "[INFO 04-04 20:02:14] ax.service.ax_client: Completed trial 641 with data: {'Viable_Cross_Terms': (59, None)}.\n",
      "[INFO 04-04 20:03:22] ax.service.ax_client: Generated new trial 642 with parameters {'z_s': 4, 'z_s_1': 2, 'z_s_2': 5, 'z_p2': 31, 'z_p2_1': 26, 'z_p2_2': 33, 'z_r2': 80, 'z_r2_1': 77, 'z_r2_2': 77, 'x_s': 0.5, 'x_s_1': 0.4, 'x_s_2': 0.3, 'x_p1': 0.389139, 'x_p1_1': 0.289139, 'x_p1_2': 0.189139, 'x_p2': 0.5, 'x_p2_1': 0.4, 'x_p2_2': 0.3, 'x_r2': 0.846561, 'x_r2_1': 0.746561, 'x_r2_2': 0.646561} using model BoTorch.\n",
      "[INFO 04-04 20:03:22] ax.service.ax_client: Completed trial 642 with data: {'Viable_Cross_Terms': (78, None)}.\n",
      "[INFO 04-04 20:04:30] ax.service.ax_client: Generated new trial 643 with parameters {'z_s': 4, 'z_s_1': 13, 'z_s_2': 8, 'z_p2': 35, 'z_p2_1': 32, 'z_p2_2': 30, 'z_r2': 81, 'z_r2_1': 83, 'z_r2_2': 70, 'x_s': 0.5, 'x_s_1': 0.4, 'x_s_2': 0.3, 'x_p1': 1.0, 'x_p1_1': 0.9, 'x_p1_2': 0.8, 'x_p2': -0.3, 'x_p2_1': -0.4, 'x_p2_2': -0.5, 'x_r2': 1.5, 'x_r2_1': -1.4, 'x_r2_2': -1.5} using model BoTorch.\n",
      "[INFO 04-04 20:04:30] ax.service.ax_client: Completed trial 643 with data: {'Viable_Cross_Terms': (0, None)}.\n",
      "[INFO 04-04 20:05:39] ax.service.ax_client: Generated new trial 644 with parameters {'z_s': 12, 'z_s_1': 12, 'z_s_2': 8, 'z_p2': 27, 'z_p2_1': 32, 'z_p2_2': 25, 'z_r2': 82, 'z_r2_1': 72, 'z_r2_2': 74, 'x_s': 0.5, 'x_s_1': 0.4, 'x_s_2': -0.5, 'x_p1': -0.8, 'x_p1_1': -0.9, 'x_p1_2': -1.0, 'x_p2': 0.5, 'x_p2_1': -0.4, 'x_p2_2': -0.5, 'x_r2': -1.3, 'x_r2_1': -1.4, 'x_r2_2': -1.5} using model BoTorch.\n",
      "[INFO 04-04 20:05:39] ax.service.ax_client: Completed trial 644 with data: {'Viable_Cross_Terms': (0, None)}.\n",
      "[INFO 04-04 20:06:49] ax.service.ax_client: Generated new trial 645 with parameters {'z_s': 10, 'z_s_1': 11, 'z_s_2': 5, 'z_p2': 29, 'z_p2_1': 31, 'z_p2_2': 30, 'z_r2': 80, 'z_r2_1': 80, 'z_r2_2': 77, 'x_s': 0.5, 'x_s_1': 0.4, 'x_s_2': 0.3, 'x_p1': 0.2297, 'x_p1_1': 0.1297, 'x_p1_2': 0.0297, 'x_p2': 0.5, 'x_p2_1': 0.4, 'x_p2_2': 0.3, 'x_r2': 0.981249, 'x_r2_1': 0.881249, 'x_r2_2': 0.781249} using model BoTorch.\n",
      "[INFO 04-04 20:06:49] ax.service.ax_client: Completed trial 645 with data: {'Viable_Cross_Terms': (21, None)}.\n",
      "[INFO 04-04 20:08:01] ax.service.ax_client: Generated new trial 646 with parameters {'z_s': 10, 'z_s_1': 8, 'z_s_2': 5, 'z_p2': 32, 'z_p2_1': 34, 'z_p2_2': 31, 'z_r2': 80, 'z_r2_1': 80, 'z_r2_2': 74, 'x_s': 0.5, 'x_s_1': 0.4, 'x_s_2': 0.3, 'x_p1': 0.713581, 'x_p1_1': 0.613581, 'x_p1_2': 0.513581, 'x_p2': 0.5, 'x_p2_1': 0.4, 'x_p2_2': 0.3, 'x_r2': 0.938891, 'x_r2_1': 0.838891, 'x_r2_2': 0.738891} using model BoTorch.\n",
      "[INFO 04-04 20:08:01] ax.service.ax_client: Completed trial 646 with data: {'Viable_Cross_Terms': (58, None)}.\n",
      "[INFO 04-04 20:09:12] ax.service.ax_client: Generated new trial 647 with parameters {'z_s': 5, 'z_s_1': 2, 'z_s_2': 5, 'z_p2': 31, 'z_p2_1': 26, 'z_p2_2': 31, 'z_r2': 80, 'z_r2_1': 76, 'z_r2_2': 76, 'x_s': 0.5, 'x_s_1': 0.4, 'x_s_2': 0.3, 'x_p1': 0.692806, 'x_p1_1': 0.592806, 'x_p1_2': 0.492806, 'x_p2': 0.5, 'x_p2_1': 0.4, 'x_p2_2': 0.3, 'x_r2': 0.944556, 'x_r2_1': 0.844556, 'x_r2_2': 0.744556} using model BoTorch.\n",
      "[INFO 04-04 20:09:12] ax.service.ax_client: Completed trial 647 with data: {'Viable_Cross_Terms': (56, None)}.\n",
      "[INFO 04-04 20:10:19] ax.service.ax_client: Generated new trial 648 with parameters {'z_s': 5, 'z_s_1': 2, 'z_s_2': 5, 'z_p2': 31, 'z_p2_1': 26, 'z_p2_2': 31, 'z_r2': 80, 'z_r2_1': 80, 'z_r2_2': 76, 'x_s': 0.5, 'x_s_1': 0.4, 'x_s_2': 0.3, 'x_p1': 0.707384, 'x_p1_1': 0.607384, 'x_p1_2': 0.507384, 'x_p2': 0.5, 'x_p2_1': 0.4, 'x_p2_2': 0.3, 'x_r2': 1.056056, 'x_r2_1': 0.956056, 'x_r2_2': 0.856056} using model BoTorch.\n",
      "[INFO 04-04 20:10:19] ax.service.ax_client: Completed trial 648 with data: {'Viable_Cross_Terms': (83, None)}.\n",
      "[INFO 04-04 20:11:26] ax.service.ax_client: Generated new trial 649 with parameters {'z_s': 4, 'z_s_1': 12, 'z_s_2': 6, 'z_p2': 35, 'z_p2_1': 26, 'z_p2_2': 25, 'z_r2': 86, 'z_r2_1': 74, 'z_r2_2': 72, 'x_s': -0.3, 'x_s_1': -0.4, 'x_s_2': -0.5, 'x_p1': 1.0, 'x_p1_1': 0.9, 'x_p1_2': 0.8, 'x_p2': 0.5, 'x_p2_1': 0.4, 'x_p2_2': 0.3, 'x_r2': -1.3, 'x_r2_1': -1.4, 'x_r2_2': -1.5} using model BoTorch.\n",
      "[INFO 04-04 20:11:26] ax.service.ax_client: Completed trial 649 with data: {'Viable_Cross_Terms': (0, None)}.\n",
      "[INFO 04-04 20:12:34] ax.service.ax_client: Generated new trial 650 with parameters {'z_s': 4, 'z_s_1': 12, 'z_s_2': 8, 'z_p2': 27, 'z_p2_1': 32, 'z_p2_2': 31, 'z_r2': 73, 'z_r2_1': 71, 'z_r2_2': 82, 'x_s': -0.3, 'x_s_1': -0.4, 'x_s_2': -0.5, 'x_p1': 1.0, 'x_p1_1': 0.9, 'x_p1_2': 0.8, 'x_p2': 0.5, 'x_p2_1': 0.4, 'x_p2_2': 0.3, 'x_r2': -1.3, 'x_r2_1': -1.4, 'x_r2_2': -1.5} using model BoTorch.\n",
      "[INFO 04-04 20:12:34] ax.service.ax_client: Completed trial 650 with data: {'Viable_Cross_Terms': (2, None)}.\n",
      "[INFO 04-04 20:13:44] ax.service.ax_client: Generated new trial 651 with parameters {'z_s': 12, 'z_s_1': 13, 'z_s_2': 13, 'z_p2': 27, 'z_p2_1': 29, 'z_p2_2': 25, 'z_r2': 72, 'z_r2_1': 81, 'z_r2_2': 80, 'x_s': -0.3, 'x_s_1': -0.4, 'x_s_2': -0.5, 'x_p1': 1.0, 'x_p1_1': 0.9, 'x_p1_2': 0.8, 'x_p2': 0.5, 'x_p2_1': 0.4, 'x_p2_2': 0.3, 'x_r2': 1.5, 'x_r2_1': -0.209181, 'x_r2_2': -1.051564} using model BoTorch.\n",
      "[INFO 04-04 20:13:44] ax.service.ax_client: Completed trial 651 with data: {'Viable_Cross_Terms': (0, None)}.\n",
      "[INFO 04-04 20:14:52] ax.service.ax_client: Generated new trial 652 with parameters {'z_s': 6, 'z_s_1': 8, 'z_s_2': 5, 'z_p2': 31, 'z_p2_1': 27, 'z_p2_2': 30, 'z_r2': 80, 'z_r2_1': 77, 'z_r2_2': 74, 'x_s': 0.5, 'x_s_1': 0.4, 'x_s_2': 0.3, 'x_p1': 0.686875, 'x_p1_1': 0.586875, 'x_p1_2': 0.486875, 'x_p2': 0.5, 'x_p2_1': 0.4, 'x_p2_2': 0.3, 'x_r2': 1.5, 'x_r2_1': 1.4, 'x_r2_2': 1.3} using model BoTorch.\n",
      "[INFO 04-04 20:14:52] ax.service.ax_client: Completed trial 652 with data: {'Viable_Cross_Terms': (51, None)}.\n",
      "[INFO 04-04 20:16:02] ax.service.ax_client: Generated new trial 653 with parameters {'z_s': 8, 'z_s_1': 8, 'z_s_2': 4, 'z_p2': 27, 'z_p2_1': 33, 'z_p2_2': 25, 'z_r2': 78, 'z_r2_1': 77, 'z_r2_2': 80, 'x_s': 0.5, 'x_s_1': 0.4, 'x_s_2': -0.5, 'x_p1': 1.0, 'x_p1_1': 0.9, 'x_p1_2': 0.8, 'x_p2': 0.5, 'x_p2_1': 0.4, 'x_p2_2': -0.5, 'x_r2': -1.3, 'x_r2_1': -1.4, 'x_r2_2': -1.5} using model BoTorch.\n",
      "[INFO 04-04 20:16:02] ax.service.ax_client: Completed trial 653 with data: {'Viable_Cross_Terms': (2, None)}.\n",
      "[INFO 04-04 20:17:16] ax.service.ax_client: Generated new trial 654 with parameters {'z_s': 5, 'z_s_1': 3, 'z_s_2': 5, 'z_p2': 31, 'z_p2_1': 28, 'z_p2_2': 32, 'z_r2': 80, 'z_r2_1': 73, 'z_r2_2': 77, 'x_s': 0.5, 'x_s_1': 0.4, 'x_s_2': 0.3, 'x_p1': 0.704587, 'x_p1_1': 0.604587, 'x_p1_2': 0.504587, 'x_p2': 0.5, 'x_p2_1': 0.4, 'x_p2_2': 0.3, 'x_r2': 1.063234, 'x_r2_1': 0.963234, 'x_r2_2': 0.863234} using model BoTorch.\n",
      "[INFO 04-04 20:17:16] ax.service.ax_client: Completed trial 654 with data: {'Viable_Cross_Terms': (86, None)}.\n",
      "[INFO 04-04 20:18:23] ax.service.ax_client: Generated new trial 655 with parameters {'z_s': 7, 'z_s_1': 14, 'z_s_2': 5, 'z_p2': 27, 'z_p2_1': 26, 'z_p2_2': 27, 'z_r2': 83, 'z_r2_1': 74, 'z_r2_2': 83, 'x_s': -0.3, 'x_s_1': -0.4, 'x_s_2': -0.5, 'x_p1': -0.8, 'x_p1_1': -0.9, 'x_p1_2': -1.0, 'x_p2': -0.3, 'x_p2_1': -0.4, 'x_p2_2': -0.5, 'x_r2': 1.5, 'x_r2_1': 1.4, 'x_r2_2': 1.3} using model BoTorch.\n",
      "[INFO 04-04 20:18:23] ax.service.ax_client: Completed trial 655 with data: {'Viable_Cross_Terms': (0, None)}.\n",
      "[INFO 04-04 20:19:39] ax.service.ax_client: Generated new trial 656 with parameters {'z_s': 4, 'z_s_1': 6, 'z_s_2': 6, 'z_p2': 28, 'z_p2_1': 27, 'z_p2_2': 28, 'z_r2': 80, 'z_r2_1': 83, 'z_r2_2': 79, 'x_s': 0.5, 'x_s_1': 0.4, 'x_s_2': 0.3, 'x_p1': 0.966421, 'x_p1_1': 0.866421, 'x_p1_2': 0.766421, 'x_p2': 0.5, 'x_p2_1': 0.4, 'x_p2_2': 0.3, 'x_r2': 1.5, 'x_r2_1': 1.024135, 'x_r2_2': 0.924135} using model BoTorch.\n",
      "[INFO 04-04 20:19:39] ax.service.ax_client: Completed trial 656 with data: {'Viable_Cross_Terms': (9, None)}.\n",
      "[INFO 04-04 20:20:58] ax.service.ax_client: Generated new trial 657 with parameters {'z_s': 7, 'z_s_1': 5, 'z_s_2': 5, 'z_p2': 27, 'z_p2_1': 27, 'z_p2_2': 28, 'z_r2': 79, 'z_r2_1': 74, 'z_r2_2': 75, 'x_s': 0.5, 'x_s_1': 0.4, 'x_s_2': 0.3, 'x_p1': 0.207085, 'x_p1_1': 0.107085, 'x_p1_2': 0.007085, 'x_p2': 0.5, 'x_p2_1': 0.4, 'x_p2_2': 0.3, 'x_r2': 0.724779, 'x_r2_1': 0.624779, 'x_r2_2': 0.524779} using model BoTorch.\n",
      "[INFO 04-04 20:20:58] ax.service.ax_client: Completed trial 657 with data: {'Viable_Cross_Terms': (27, None)}.\n",
      "[INFO 04-04 20:22:14] ax.service.ax_client: Generated new trial 658 with parameters {'z_s': 3, 'z_s_1': 7, 'z_s_2': 4, 'z_p2': 30, 'z_p2_1': 27, 'z_p2_2': 26, 'z_r2': 75, 'z_r2_1': 85, 'z_r2_2': 79, 'x_s': 0.5, 'x_s_1': 0.4, 'x_s_2': 0.3, 'x_p1': -0.037433, 'x_p1_1': -0.137433, 'x_p1_2': -0.237433, 'x_p2': -0.3, 'x_p2_1': -0.4, 'x_p2_2': -0.5, 'x_r2': -1.3, 'x_r2_1': -1.4, 'x_r2_2': -1.5} using model BoTorch.\n",
      "[INFO 04-04 20:22:14] ax.service.ax_client: Completed trial 658 with data: {'Viable_Cross_Terms': (27, None)}.\n",
      "[INFO 04-04 20:23:27] ax.service.ax_client: Generated new trial 659 with parameters {'z_s': 6, 'z_s_1': 10, 'z_s_2': 5, 'z_p2': 30, 'z_p2_1': 27, 'z_p2_2': 33, 'z_r2': 80, 'z_r2_1': 74, 'z_r2_2': 81, 'x_s': 0.5, 'x_s_1': 0.4, 'x_s_2': 0.3, 'x_p1': 0.62292, 'x_p1_1': 0.52292, 'x_p1_2': 0.42292, 'x_p2': 0.5, 'x_p2_1': 0.4, 'x_p2_2': 0.3, 'x_r2': 0.833952, 'x_r2_1': 0.733952, 'x_r2_2': 0.633952} using model BoTorch.\n",
      "[INFO 04-04 20:23:27] ax.service.ax_client: Completed trial 659 with data: {'Viable_Cross_Terms': (42, None)}.\n",
      "[INFO 04-04 20:24:37] ax.service.ax_client: Generated new trial 660 with parameters {'z_s': 5, 'z_s_1': 9, 'z_s_2': 4, 'z_p2': 30, 'z_p2_1': 32, 'z_p2_2': 29, 'z_r2': 80, 'z_r2_1': 81, 'z_r2_2': 81, 'x_s': 0.5, 'x_s_1': 0.4, 'x_s_2': 0.3, 'x_p1': 0.720057, 'x_p1_1': 0.620057, 'x_p1_2': 0.520057, 'x_p2': 0.5, 'x_p2_1': 0.4, 'x_p2_2': 0.3, 'x_r2': 1.5, 'x_r2_1': 1.4, 'x_r2_2': 1.3} using model BoTorch.\n",
      "[INFO 04-04 20:24:37] ax.service.ax_client: Completed trial 660 with data: {'Viable_Cross_Terms': (21, None)}.\n",
      "[INFO 04-04 20:25:44] ax.service.ax_client: Generated new trial 661 with parameters {'z_s': 9, 'z_s_1': 10, 'z_s_2': 5, 'z_p2': 29, 'z_p2_1': 28, 'z_p2_2': 30, 'z_r2': 80, 'z_r2_1': 79, 'z_r2_2': 74, 'x_s': 0.5, 'x_s_1': 0.4, 'x_s_2': 0.3, 'x_p1': 1.0, 'x_p1_1': 0.9, 'x_p1_2': 0.8, 'x_p2': 0.5, 'x_p2_1': 0.4, 'x_p2_2': 0.3, 'x_r2': 0.93315, 'x_r2_1': 0.83315, 'x_r2_2': 0.73315} using model BoTorch.\n",
      "[INFO 04-04 20:25:44] ax.service.ax_client: Completed trial 661 with data: {'Viable_Cross_Terms': (19, None)}.\n",
      "[INFO 04-04 20:26:54] ax.service.ax_client: Generated new trial 662 with parameters {'z_s': 4, 'z_s_1': 2, 'z_s_2': 5, 'z_p2': 31, 'z_p2_1': 30, 'z_p2_2': 31, 'z_r2': 80, 'z_r2_1': 76, 'z_r2_2': 72, 'x_s': 0.5, 'x_s_1': 0.4, 'x_s_2': 0.3, 'x_p1': 0.704443, 'x_p1_1': 0.604443, 'x_p1_2': 0.504443, 'x_p2': 0.5, 'x_p2_1': 0.4, 'x_p2_2': 0.3, 'x_r2': 1.012192, 'x_r2_1': 0.912192, 'x_r2_2': 0.812192} using model BoTorch.\n",
      "[INFO 04-04 20:26:54] ax.service.ax_client: Completed trial 662 with data: {'Viable_Cross_Terms': (73, None)}.\n"
     ]
    }
   ],
   "source": [
    "for i in range(100):\n",
    "    parameterization, trial_index = Tag_client.get_next_trial()\n",
    "    # Local evaluation here can be replaced with deployment to external system.\n",
    "    Tag_client.complete_trial(trial_index=trial_index, raw_data=score_vals(param_to_list(parameterization)))"
   ]
  },
  {
   "cell_type": "code",
   "execution_count": null,
   "metadata": {},
   "outputs": [
    {
     "name": "stderr",
     "output_type": "stream",
     "text": [
      "[INFO 04-05 13:17:47] ax.service.ax_client: Generated new trial 937 with parameters {'z_s': 4, 'z_s_1': 7, 'z_s_2': 5, 'z_p2': 31, 'z_p2_1': 27, 'z_p2_2': 32, 'z_r2': 80, 'z_r2_1': 84, 'z_r2_2': 74, 'x_s': 0.5, 'x_s_1': 0.4, 'x_s_2': 0.3, 'x_p1': 0.605589, 'x_p1_1': 0.505589, 'x_p1_2': 0.405589, 'x_p2': 0.5, 'x_p2_1': 0.4, 'x_p2_2': 0.3, 'x_r2': 1.052275, 'x_r2_1': 0.952275, 'x_r2_2': 0.852275} using model BoTorch.\n",
      "[INFO 04-05 13:17:47] ax.service.ax_client: Completed trial 937 with data: {'Viable_Cross_Terms': (89, None)}.\n",
      "[INFO 04-05 13:20:36] ax.service.ax_client: Generated new trial 938 with parameters {'z_s': 3, 'z_s_1': 7, 'z_s_2': 5, 'z_p2': 28, 'z_p2_1': 31, 'z_p2_2': 29, 'z_r2': 79, 'z_r2_1': 81, 'z_r2_2': 84, 'x_s': -0.3, 'x_s_1': -0.4, 'x_s_2': -0.5, 'x_p1': 0.900019, 'x_p1_1': 0.800019, 'x_p1_2': -1.0, 'x_p2': 0.5, 'x_p2_1': 0.4, 'x_p2_2': -0.5, 'x_r2': 0.593046, 'x_r2_1': 0.493046, 'x_r2_2': -1.5} using model BoTorch.\n",
      "[INFO 04-05 13:20:36] ax.service.ax_client: Completed trial 938 with data: {'Viable_Cross_Terms': (28, None)}.\n",
      "[INFO 04-05 13:23:52] ax.service.ax_client: Generated new trial 939 with parameters {'z_s': 13, 'z_s_1': 5, 'z_s_2': 3, 'z_p2': 33, 'z_p2_1': 32, 'z_p2_2': 30, 'z_r2': 80, 'z_r2_1': 80, 'z_r2_2': 83, 'x_s': 0.497392, 'x_s_1': 0.397392, 'x_s_2': 0.297392, 'x_p1': 0.6565, 'x_p1_1': 0.5565, 'x_p1_2': 0.450465, 'x_p2': 0.5, 'x_p2_1': 0.4, 'x_p2_2': 0.3, 'x_r2': 1.051231, 'x_r2_1': 0.951231, 'x_r2_2': 0.813562} using model BoTorch.\n",
      "[INFO 04-05 13:23:52] ax.service.ax_client: Completed trial 939 with data: {'Viable_Cross_Terms': (79, None)}.\n",
      "[INFO 04-05 13:25:59] ax.service.ax_client: Generated new trial 940 with parameters {'z_s': 3, 'z_s_1': 2, 'z_s_2': 6, 'z_p2': 27, 'z_p2_1': 26, 'z_p2_2': 25, 'z_r2': 72, 'z_r2_1': 71, 'z_r2_2': 76, 'x_s': -0.3, 'x_s_1': -0.4, 'x_s_2': -0.5, 'x_p1': 1.0, 'x_p1_1': 0.9, 'x_p1_2': 0.108203, 'x_p2': -0.3, 'x_p2_1': -0.4, 'x_p2_2': -0.5, 'x_r2': -0.289887, 'x_r2_1': -0.389887, 'x_r2_2': -0.489887} using model BoTorch.\n",
      "[INFO 04-05 13:25:59] ax.service.ax_client: Completed trial 940 with data: {'Viable_Cross_Terms': (49, None)}.\n",
      "[INFO 04-05 13:28:59] ax.service.ax_client: Generated new trial 941 with parameters {'z_s': 3, 'z_s_1': 4, 'z_s_2': 5, 'z_p2': 27, 'z_p2_1': 30, 'z_p2_2': 31, 'z_r2': 77, 'z_r2_1': 78, 'z_r2_2': 80, 'x_s': 0.498597, 'x_s_1': 0.398535, 'x_s_2': 0.29613, 'x_p1': 0.805642, 'x_p1_1': 0.705617, 'x_p1_2': 0.603273, 'x_p2': 0.394014, 'x_p2_1': 0.294014, 'x_p2_2': 0.194014, 'x_r2': 0.998084, 'x_r2_1': 0.88105, 'x_r2_2': 0.711281} using model BoTorch.\n",
      "[INFO 04-05 13:28:59] ax.service.ax_client: Completed trial 941 with data: {'Viable_Cross_Terms': (139, None)}.\n"
     ]
    }
   ],
   "source": [
    "for i in range(300):\n",
    "    parameterization, trial_index = Tag_client.get_next_trial()\n",
    "    # Local evaluation here can be replaced with deployment to external system.\n",
    "    Tag_client.complete_trial(trial_index=trial_index, raw_data=score_vals(param_to_list(parameterization)))"
   ]
  }
 ],
 "metadata": {
  "kernelspec": {
   "display_name": ".venv",
   "language": "python",
   "name": "python3"
  },
  "language_info": {
   "codemirror_mode": {
    "name": "ipython",
    "version": 3
   },
   "file_extension": ".py",
   "mimetype": "text/x-python",
   "name": "python",
   "nbconvert_exporter": "python",
   "pygments_lexer": "ipython3",
   "version": "3.12.3"
  }
 },
 "nbformat": 4,
 "nbformat_minor": 2
}
