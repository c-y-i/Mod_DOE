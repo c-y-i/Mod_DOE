{
 "cells": [
  {
   "cell_type": "markdown",
   "metadata": {},
   "source": [
    "## Run gear experiment\n",
    "#### Input gear metadata (at least gear number) and run experiment to add test data to dictionary"
   ]
  },
  {
   "cell_type": "code",
   "execution_count": null,
   "metadata": {},
   "outputs": [
    {
     "ename": "",
     "evalue": "",
     "output_type": "error",
     "traceback": [
      "\u001b[1;31mRunning cells with 'Python 3.12.3' requires the ipykernel package.\n",
      "\u001b[1;31mInstall 'ipykernel' into the Python environment. \n",
      "\u001b[1;31mCommand: '/bin/python3 -m pip install ipykernel -U --user --force-reinstall'"
     ]
    }
   ],
   "source": [
    "import os\n",
    "import pickle\n",
    "import numpy as np\n",
    "\n",
    "from Experiment_Utils import Run_Experiment,  plot_dict_key"
   ]
  },
  {
   "cell_type": "code",
   "execution_count": null,
   "metadata": {},
   "outputs": [],
   "source": [
    "# FOR DEBUGGING - feel free to ignore.\n",
    "%load_ext autoreload\n",
    "%autoreload 2\n",
    "from Experiment_Utils import Run_Experiment, plot_dict_key"
   ]
  },
  {
   "cell_type": "code",
   "execution_count": null,
   "metadata": {},
   "outputs": [],
   "source": [
    "file_dir = '/home/gmc/Python/Mod_DOE'\n",
    "# file_name = 'Taguchi_test_dict.pkl'\n",
    "file_name = 'BayzOp_test_dict.pkl'\n",
    "Experiment_Runtime = 5 #s\n",
    "Num_Experiment = 6 # trials\n",
    "Direction = False # start CW"
   ]
  },
  {
   "cell_type": "code",
   "execution_count": null,
   "metadata": {},
   "outputs": [],
   "source": [
    "# Set design number - FOR TAGUCHI DESIGNS\n",
    "Gear_Design_Number = 10"
   ]
  },
  {
   "cell_type": "code",
   "execution_count": null,
   "metadata": {},
   "outputs": [],
   "source": [
    "os.chdir(file_dir)\n",
    "try:\n",
    "    starting_dict = pickle.load(open(file_name, 'rb'))\n",
    "except:\n",
    "    print('Making new dict')\n",
    "    starting_dict = {}"
   ]
  },
  {
   "cell_type": "code",
   "execution_count": null,
   "metadata": {},
   "outputs": [],
   "source": [
    "print(f'The dict currently has {len(starting_dict)} entries')\n",
    "print(f'Current gear number: {Gear_Design_Number}')\n",
    "raise RuntimeError(\"MAKE SURE YOU UPDATED THE GEAR NUMBER!!\")"
   ]
  },
  {
   "cell_type": "code",
   "execution_count": null,
   "metadata": {},
   "outputs": [],
   "source": [
    "in_dict = starting_dict.copy()\n",
    "# in_key = 'Taguchi_Design_' + str(Gear_Design_Number)\n",
    "in_key = 'BO_' + str(Gear_Design_Number)\n",
    "for i in range(Num_Experiment):\n",
    "    in_dict = Run_Experiment(in_dict, Experiment_Runtime, in_key, Direction)\n",
    "    Direction = not Direction"
   ]
  },
  {
   "cell_type": "markdown",
   "metadata": {},
   "source": [
    "### We can view the data from the latest (nth) test"
   ]
  },
  {
   "cell_type": "code",
   "execution_count": null,
   "metadata": {},
   "outputs": [],
   "source": [
    "# load latest values\n",
    "update_dict = in_dict # make sure plotted values are the ones updating\n",
    "key = list(update_dict.keys())[-1]\n",
    "# plot - TODO: pull the max torque/current vals from a function similar to plot_dict_key, pull design parameters from Taguchi .csv, create entry for Ax\n",
    "save_to = '/home/gmc/Documents/Gear_Design'\n",
    "pic_name = in_key + \"_test_fig\"\n",
    "print(pic_name)\n",
    "plot_dict_key(update_dict, key, save_loc = save_to, file_name = pic_name)"
   ]
  },
  {
   "cell_type": "code",
   "execution_count": null,
   "metadata": {},
   "outputs": [],
   "source": [
    "raise RuntimeError(\"MAKE SURE YOU WANT TO SAVE THIS DATA!!\")"
   ]
  },
  {
   "cell_type": "code",
   "execution_count": null,
   "metadata": {},
   "outputs": [],
   "source": [
    "os.chdir(file_dir)\n",
    "pickle.dump(update_dict,open(file_name, 'wb'))"
   ]
  }
 ],
 "metadata": {
  "kernelspec": {
   "display_name": "Python 3",
   "language": "python",
   "name": "python3"
  },
  "language_info": {
   "codemirror_mode": {
    "name": "ipython",
    "version": 3
   },
   "file_extension": ".py",
   "mimetype": "text/x-python",
   "name": "python",
   "nbconvert_exporter": "python",
   "pygments_lexer": "ipython3",
   "version": "3.12.3"
  }
 },
 "nbformat": 4,
 "nbformat_minor": 2
}
