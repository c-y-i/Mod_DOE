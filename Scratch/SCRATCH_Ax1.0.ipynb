{
 "cells": [
  {
   "cell_type": "code",
   "execution_count": 12,
   "id": "ba336492",
   "metadata": {},
   "outputs": [],
   "source": [
    "from ax import Client, RangeParameterConfig, ChoiceParameterConfig"
   ]
  },
  {
   "cell_type": "code",
   "execution_count": 6,
   "id": "3ecc878e",
   "metadata": {},
   "outputs": [],
   "source": [
    "client = Client()\n",
    "client.configure_experiment(\n",
    "      parameters=[\n",
    "          RangeParameterConfig(\n",
    "              name=\"x1\",\n",
    "              bounds=(-10.0, 10.0),\n",
    "              parameter_type=\"float\",\n",
    "          ),\n",
    "          RangeParameterConfig(\n",
    "              name=\"x2\",\n",
    "              bounds=(-10.0, 10.0),\n",
    "              parameter_type=\"float\",\n",
    "          ),\n",
    "      ],\n",
    ")"
   ]
  },
  {
   "cell_type": "code",
   "execution_count": 7,
   "id": "b61aa3fa",
   "metadata": {},
   "outputs": [],
   "source": [
    "client.configure_optimization(objective=\"-1 * booth\", )"
   ]
  },
  {
   "cell_type": "code",
   "execution_count": 8,
   "id": "25a1d44c",
   "metadata": {},
   "outputs": [],
   "source": [
    "# client.configure_optimization(objective='custom_metric')\n",
    "# client.configure_metrics([custom_metric(name=\"gear_ratio\")])"
   ]
  },
  {
   "cell_type": "code",
   "execution_count": 9,
   "id": "d27282aa",
   "metadata": {},
   "outputs": [],
   "source": [
    "for _ in range(20):\n",
    "    for trial_index, parameters in client.get_next_trials(max_trials=1).items():\n",
    "        client.complete_trial(\n",
    "            trial_index=trial_index,\n",
    "            raw_data={\n",
    "                \"booth\": (parameters[\"x1\"] + 2 * parameters[\"x2\"] - 7) ** 2\n",
    "                + (2 * parameters[\"x1\"] + parameters[\"x2\"] - 5) ** 2\n",
    "            },\n",
    "        )"
   ]
  },
  {
   "cell_type": "code",
   "execution_count": 10,
   "id": "570ad34a",
   "metadata": {},
   "outputs": [
    {
     "data": {
      "text/plain": [
       "({'x1': 0.8540775126630963, 'x2': 2.561635167970298},\n",
       " {'booth': (np.float64(0.6356294233100357), np.float64(6.322617118777357))},\n",
       " 16,\n",
       " '16_0')"
      ]
     },
     "execution_count": 10,
     "metadata": {},
     "output_type": "execute_result"
    }
   ],
   "source": [
    "client.get_best_parameterization()"
   ]
  }
 ],
 "metadata": {
  "kernelspec": {
   "display_name": ".venv",
   "language": "python",
   "name": "python3"
  },
  "language_info": {
   "codemirror_mode": {
    "name": "ipython",
    "version": 3
   },
   "file_extension": ".py",
   "mimetype": "text/x-python",
   "name": "python",
   "nbconvert_exporter": "python",
   "pygments_lexer": "ipython3",
   "version": "3.12.3"
  }
 },
 "nbformat": 4,
 "nbformat_minor": 5
}
