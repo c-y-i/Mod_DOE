{
 "cells": [
  {
   "cell_type": "code",
   "execution_count": 3,
   "metadata": {},
   "outputs": [],
   "source": [
    "import numpy as np\n",
    "import matplotlib.pyplot as plt\n",
    "from matplotlib.patches import Polygon\n",
    "from matplotlib.transforms import Affine2D\n",
    "import time\n",
    "from matplotlib.offsetbox import AnchoredText \n",
    "import mplcursors \n",
    "import os\n",
    "import json\n",
    "from gearbox import Gearbox\n",
    "\n",
    "import itertools\n",
    "import math\n",
    "\n",
    "from tqdm import tqdm"
   ]
  },
  {
   "cell_type": "code",
   "execution_count": 4,
   "metadata": {},
   "outputs": [],
   "source": [
    "os.environ[\"CUDA_DEVICE_ORDER\"] = \"PCI_BUS_ID\"\n",
    "os.environ[\"CUDA_VISIBLE_DEVICES\"] = \"4\" # select number of desired GPU to be used\n",
    "os.environ[\"XLA_PYTHON_CLIENT_PREALLOCATE\"] = \"false\""
   ]
  },
  {
   "cell_type": "markdown",
   "metadata": {},
   "source": [
    "## To Move into .py helper file:"
   ]
  },
  {
   "cell_type": "markdown",
   "metadata": {},
   "source": [
    "variables: z_s, z_p2, z_r2, xs, xp1, xp2, xr2"
   ]
  },
  {
   "cell_type": "code",
   "execution_count": 3,
   "metadata": {},
   "outputs": [],
   "source": [
    "config = {\n",
    "  \"MODULE\": 0.8e-3,\n",
    "  \"MC\": 0.8467e-3,\n",
    "  \"MU\": 0.21,\n",
    "  \"ALPHA\": 20,\n",
    "  \"XS\": 0.476,\n",
    "  \"XP1\": 0.762,\n",
    "  \"XP2\": 0.536,\n",
    "  \"XR1\": 2,\n",
    "  \"XR2\": 1.21,\n",
    "  \"XS_RANGE\": [-0.5, 0.5, 0.25],\n",
    "  \"XP1_RANGE\": [-1, 1, 0.25],\n",
    "  \"XP2_RANGE\": [-0.5, 0.5, 0.25],\n",
    "  \"XR2_RANGE\": [-1.5, 1.5, 0.25],\n",
    "  \"N_PLANETS\": 3,\n",
    "  \"SUN_LIMITS\": [4, 26],\n",
    "  \"P1_LIMITS\": [32, 42],\n",
    "  \"P2_LIMITS\": [25, 35],\n",
    "  \"R2_LIMITS\": [70,86],\n",
    "  \"STEPS\": [2, 1, 1, 1],\n",
    "  \"MIN_RATIO_THRESHOLD\": 90,\n",
    "  \"MIN_FORWARD_THRESHOLD\": 0.30,\n",
    "  \"MIN_BACKWARD_THRESHOLD\": 0.30\n",
    "}\n"
   ]
  },
  {
   "cell_type": "code",
   "execution_count": 4,
   "metadata": {},
   "outputs": [],
   "source": [
    "MODULE = config[\"MODULE\"]\n",
    "MU = config[\"MU\"]\n",
    "MC = config.get(\"MC\", MODULE)\n",
    "ALPHA = np.radians(config.get(\"ALPHA\", 20))\n",
    "XR1 = config.get(\"XR1\", 0.0)\n",
    "N_PLANETS = config[\"N_PLANETS\"]\n",
    "SUN_LIMITS = tuple(config[\"SUN_LIMITS\"])\n",
    "P1_LIMITS  = tuple(config[\"P1_LIMITS\"])\n",
    "P2_LIMITS  = tuple(config[\"P2_LIMITS\"])\n",
    "R2_LIMITS  = tuple(config[\"R2_LIMITS\"])\n",
    "STEPS = tuple(config[\"STEPS\"])\n",
    "MIN_RATIO_THRESHOLD = config[\"MIN_RATIO_THRESHOLD\"]\n",
    "MIN_FORWARD_THRESHOLD = config[\"MIN_FORWARD_THRESHOLD\"]\n",
    "MIN_BACKWARD_THRESHOLD = config[\"MIN_BACKWARD_THRESHOLD\"]\n",
    "\n",
    "SLICE_GEAR_RATIO = True \n",
    "TARGET_GEAR_RATIO = 100\n",
    "RATIO_TOLERANCE = 10\n",
    "DISPLAY_BEST_GEARBOX = False\n",
    "DISPLAY_ITERATIONS_PLOT = True\n",
    "RUN_SAMPLE_TRIAL = False\n",
    "MAX_CANDIDATES = 1000"
   ]
  },
  {
   "cell_type": "code",
   "execution_count": 5,
   "metadata": {},
   "outputs": [],
   "source": [
    "def generate_options(lower: int, upper: int, step: int = 1):\n",
    "    return list(range(lower, upper + 1, step))\n",
    "\n",
    "def generate_range_options(range_vals):\n",
    "    low, high, step = range_vals\n",
    "    opts = []\n",
    "    current = low\n",
    "    while current <= high + 1e-9:\n",
    "        opts.append(round(current, 5))\n",
    "        current += step\n",
    "    return opts\n",
    "\n",
    "def generate_all_options(sun_limits: tuple, p1_limits: tuple, p2_limits: tuple, r2_limits: tuple, \n",
    "                         steps: tuple = (1,1,1,1)):\n",
    "    step_sun, step_p1, step_p2, step_r2 = steps\n",
    "    return {\n",
    "        \"sun\": generate_options(sun_limits[0], sun_limits[1], step_sun),\n",
    "        \"p1\": generate_options(p1_limits[0], p1_limits[1], step_p1),\n",
    "        \"p2\": generate_options(p2_limits[0], p2_limits[1], step_p2),\n",
    "        \"r2\": generate_options(r2_limits[0], r2_limits[1], step_r2)\n",
    "    }"
   ]
  },
  {
   "cell_type": "code",
   "execution_count": 6,
   "metadata": {},
   "outputs": [],
   "source": [
    "options = generate_all_options(SUN_LIMITS, P1_LIMITS, P2_LIMITS, R2_LIMITS, STEPS)\n",
    "sun_options = options[\"sun\"]\n",
    "p1_options  = options[\"p1\"]\n",
    "p2_options  = options[\"p2\"]\n",
    "r2_options  = options[\"r2\"]\n",
    "xs_options = generate_range_options(config[\"XS_RANGE\"])\n",
    "xp1_options = generate_range_options(config[\"XP1_RANGE\"])\n",
    "xp2_options = generate_range_options(config[\"XP2_RANGE\"])\n",
    "xr2_options = generate_range_options(config[\"XR2_RANGE\"])"
   ]
  },
  {
   "cell_type": "code",
   "execution_count": 7,
   "metadata": {},
   "outputs": [],
   "source": [
    "# manual overwrite to minimize run time.\n",
    "# sun_options = [5, 6, 7, 8, 9, 10] # note, these are z_sh (half z_s)\n",
    "sun_option = [5, 8, 10]\n",
    "# p2_options = [26, 27, 28, 29, 30, 31, 32]\n",
    "p2_options = [26, 29, 32]\n",
    "# r2_options = [74, 77, 78, 80, 81, 82, 83] # NOTE - add 71??\n",
    "r2_options = [74, 78, 83]\n",
    "xs_options = [0.3, 0.4, 0.5]\n",
    "xp1_options = [0.4, 0.5, 0.6, 0.7, 0.8, 0.9, 1.0]\n",
    "xp2_options = [-0.5, -0.4, -0.3, 0.3, 0.4, 0.5] # NOTE - add 0.2??\n",
    "xr2_options = [0.2, 0.3, 0.4, 0.5, 0.8, 0.9, 1, 1.1]"
   ]
  },
  {
   "cell_type": "code",
   "execution_count": 8,
   "metadata": {},
   "outputs": [],
   "source": [
    "# z_sh                                 7\n",
    "# z_sh_1                               8\n",
    "# z_sh_2                               9\n",
    "# z_p2                                28\n",
    "# z_p2_1                              31\n",
    "# z_p2_2                              26\n",
    "# z_r2                                82\n",
    "# z_r2_1                              74\n",
    "# z_r2_2                              83\n",
    "# x_s                                0.5\n",
    "# x_s_1                              0.4\n",
    "# x_s_2                              0.3\n",
    "# x_p1                               1.0\n",
    "# x_p1_1                             0.9\n",
    "# x_p1_2                             0.8\n",
    "# x_p2                              -0.3\n",
    "# x_p2_1                            -0.4\n",
    "# x_p2_2                            -0.5\n",
    "# x_r2                          0.461185\n",
    "# x_r2_1                        0.361185\n",
    "# x_r2_2                        0.261185"
   ]
  },
  {
   "cell_type": "code",
   "execution_count": 9,
   "metadata": {},
   "outputs": [],
   "source": [
    "# z_sh                                 7\n",
    "# z_sh_1                               8\n",
    "# z_sh_2                               5\n",
    "# z_p2                                29\n",
    "# z_p2_1                              32\n",
    "# z_p2_2                              31\n",
    "# z_r2                                80\n",
    "# z_r2_1                              82\n",
    "# z_r2_2                              83\n",
    "# x_s                                0.5\n",
    "# x_s_1                              0.4\n",
    "# x_s_2                              0.3\n",
    "# x_p1                          0.613076\n",
    "# x_p1_1                        0.513076\n",
    "# x_p1_2                        0.413076\n",
    "# x_p2                               0.5\n",
    "# x_p2_1                             0.4\n",
    "# x_p2_2                             0.3\n",
    "# x_r2                          1.077693\n",
    "# x_r2_1                        0.977693\n",
    "# x_r2_2                        0.877693"
   ]
  },
  {
   "cell_type": "code",
   "execution_count": 10,
   "metadata": {},
   "outputs": [],
   "source": [
    "# best_so_far =  {'z_sh': 7, 'z_sh_1': 10, 'z_sh_2': 5, 'z_p2': 30, 'z_p2_1': 32, 'z_p2_2': 28, 'z_r2': 80, 'z_r2_1': 74, 'z_r2_2': 82, 'x_s': 0.5, 'x_s_1': 0.4, 'x_s_2': 0.3, 'x_p1': 1.0, 'x_p1_1': 0.9, 'x_p1_2': 0.8, 'x_p2': -0.3, 'x_p2_1': -0.4, 'x_p2_2': -0.5, 'x_r2': 0.477546, 'x_r2_1': 0.377546, 'x_r2_2': 0.277546}\n",
    "# b_guess = list_to_param(\n",
    "#     ((5, 7, 8)[::-1],\n",
    "#  (27, 30, 31)[::-1],best_so_far =  {'z_sh': 7, 'z_sh_1': 10, 'z_sh_2': 5, 'z_p2': 30, 'z_p2_1': 32, 'z_p2_2': 28, 'z_r2': 80, 'z_r2_1': 74, 'z_r2_2': 82, 'x_s': 0.5, 'x_s_1': 0.4, 'x_s_2': 0.3, 'x_p1': 1.0, 'x_p1_1': 0.9, 'x_p1_2': 0.8, 'x_p2': -0.3, 'x_p2_1': -0.4, 'x_p2_2': -0.5, 'x_r2': 0.477546, 'x_r2_1': 0.377546, 'x_r2_2': 0.277546}\n",
    "# b_guess = list_to_param(\n",
    "#     ((5, 7, 8)[::-1],\n",
    "#  (27, 30, 31)[::-1],\n",
    "#  (71, 78, 80)[::-1],\n",
    "#  (0.3, 0.4, 0.5)[::-1],\n",
    "#  (0.5, 0.6, 0.7)[::-1],\n",
    "#  (0.2, 0.3, 0.4)[::-1],\n",
    "#  (0.9, 1, 1.1)[::-1])\n",
    "# )\n",
    "# c_guess = {'z_sh': 8, 'z_sh_1': 7, 'z_sh_2': 5, 'z_p2': 31, 'z_p2_1': 29, 'z_p2_2': 28, 'z_r2': 80, 'z_r2_1': 78, 'z_r2_2': 71, 'x_s': 0.5, 'x_s_1': 0.4, 'x_s_2': 0.3, 'x_p1': 0.68612, 'x_p1_1': 0.562688, 'x_p1_2': 0.462688, 'x_p2': 0.434784, 'x_p2_1': 0.334784, 'x_p2_2': 0.228267, 'x_r2': 1.059951, 'x_r2_1': 0.959951, 'x_r2_2': 0.859951}\n",
    "# new_guess = list_to_param((np.array((14, 12, 10))/2,\n",
    "#  (27, 30, 31),\n",
    "#  (77, 78, 80),\n",
    "#  (0.3, 0.4, 0.5)[::-1],\n",
    "#  (0.6, 0.7, 0.8)[::-1],\n",
    "#  (0.2, 0.3, 0.4)[::-1],\n",
    "#  (0.8, 0.9, 1)[::-1]))\n",
    "#  (71, 78, 80)[::-1],\n",
    "#  (0.3, 0.4, 0.5)[::-1],\n",
    "#  (0.5, 0.6, 0.7)[::-1],\n",
    "#  (0.2, 0.3, 0.4)[::-1],\n",
    "#  (0.9, 1, 1.1)[::-1])\n",
    "# )\n",
    "# c_guess = {'z_sh': 8, 'z_sh_1': 7, 'z_sh_2': 5, 'z_p2': 31, 'z_p2_1': 29, 'z_p2_2': 28, 'z_r2': 80, 'z_r2_1': 78, 'z_r2_2': 71, 'x_s': 0.5, 'x_s_1': 0.4, 'x_s_2': 0.3, 'x_p1': 0.68612, 'x_p1_1': 0.562688, 'x_p1_2': 0.462688, 'x_p2': 0.434784, 'x_p2_1': 0.334784, 'x_p2_2': 0.228267, 'x_r2': 1.059951, 'x_r2_1': 0.959951, 'x_r2_2': 0.859951}\n",
    "# new_guess = list_to_param((np.array((14, 12, 10))/2,\n",
    "#  (27, 30, 31),\n",
    "#  (77, 78, 80),\n",
    "#  (0.3, 0.4, 0.5)[::-1],\n",
    "#  (0.6, 0.7, 0.8)[::-1],\n",
    "#  (0.2, 0.3, 0.4)[::-1],\n",
    "#  (0.8, 0.9, 1)[::-1]))"
   ]
  },
  {
   "cell_type": "markdown",
   "metadata": {},
   "source": [
    "# Main"
   ]
  },
  {
   "cell_type": "code",
   "execution_count": 11,
   "metadata": {},
   "outputs": [
    {
     "name": "stdout",
     "output_type": "stream",
     "text": [
      "Total designs to test: 8624000\n"
     ]
    }
   ],
   "source": [
    "#generate all possible subsets\n",
    "num_per_param = 3\n",
    "\n",
    "all_params = [sun_options, p2_options, r2_options, xs_options, xp1_options, xp2_options, xr2_options]\n",
    "\n",
    "ss_vals = []\n",
    "\n",
    "for param in all_params:\n",
    "    ss_vals.append(list(itertools.combinations(param, num_per_param)))\n",
    "\n",
    "test_len = total_combinations = math.prod(len(subsets) for subsets in ss_vals)\n",
    "\n",
    "# print(f'Total designs to test: {len(list(itertools.product(*ss_vals)))}')\n",
    "print(f'Total designs to test: {test_len}')"
   ]
  },
  {
   "cell_type": "code",
   "execution_count": 7,
   "metadata": {},
   "outputs": [],
   "source": [
    "import sys\n",
    "\n",
    "start_dir = os.getcwd()\n",
    "parent_dir = os.path.abspath(os.path.join(os.getcwd(), \"..\"))\n",
    "sys.path.append(parent_dir)\n",
    "\n",
    "from utils import score_vals"
   ]
  },
  {
   "cell_type": "code",
   "execution_count": 13,
   "metadata": {},
   "outputs": [
    {
     "ename": "KeyboardInterrupt",
     "evalue": "",
     "output_type": "error",
     "traceback": [
      "\u001b[1;31m---------------------------------------------------------------------------\u001b[0m",
      "\u001b[1;31mKeyboardInterrupt\u001b[0m                         Traceback (most recent call last)",
      "Cell \u001b[1;32mIn[13], line 6\u001b[0m\n\u001b[0;32m      4\u001b[0m \u001b[38;5;66;03m# counter = 0\u001b[39;00m\n\u001b[0;32m      5\u001b[0m \u001b[38;5;28;01mfor\u001b[39;00m combination_of_vals \u001b[38;5;129;01min\u001b[39;00m itertools\u001b[38;5;241m.\u001b[39mproduct(\u001b[38;5;241m*\u001b[39mss_vals):\n\u001b[1;32m----> 6\u001b[0m     score \u001b[38;5;241m=\u001b[39m \u001b[43mscore_vals\u001b[49m\u001b[43m(\u001b[49m\u001b[38;5;28;43mlist\u001b[39;49m\u001b[43m(\u001b[49m\u001b[43mcombination_of_vals\u001b[49m\u001b[43m)\u001b[49m\u001b[43m)\u001b[49m\n\u001b[0;32m      7\u001b[0m     \u001b[38;5;28;01mif\u001b[39;00m score \u001b[38;5;241m>\u001b[39m high_score:\n\u001b[0;32m      8\u001b[0m         best_vals \u001b[38;5;241m=\u001b[39m combination_of_vals\n",
      "File \u001b[1;32mc:\\Users\\Greg\\Python\\Git_Local\\Mod_DOE\\utils.py:206\u001b[0m, in \u001b[0;36mscore_vals\u001b[1;34m(in_vals, target_z_r1, add_gear)\u001b[0m\n\u001b[0;32m    203\u001b[0m         in_vals[i] \u001b[38;5;241m=\u001b[39m np\u001b[38;5;241m.\u001b[39mhstack([in_vals[i], paper_vals[i]])\n\u001b[0;32m    205\u001b[0m \u001b[38;5;66;03m# validated_vals = z_sh, z_p1, z_p2, z_r2, xs, xp1, xp2, xr2, I1, I2, gr_s, ratios\u001b[39;00m\n\u001b[1;32m--> 206\u001b[0m validated_vals \u001b[38;5;241m=\u001b[39m \u001b[43mvalidate_parameters\u001b[49m\u001b[43m(\u001b[49m\u001b[43min_vals\u001b[49m\u001b[43m)\u001b[49m\n\u001b[0;32m    208\u001b[0m eta_fwd, eta_bwd \u001b[38;5;241m=\u001b[39m efficiency_calc(\u001b[38;5;241m*\u001b[39mvalidated_vals)\n\u001b[0;32m    210\u001b[0m \u001b[38;5;66;03m# composite_score = ratios * eta_fwd * eta_bwd # possibly useful in future ?\u001b[39;00m\n",
      "File \u001b[1;32mc:\\Users\\Greg\\Python\\Git_Local\\Mod_DOE\\utils.py:64\u001b[0m, in \u001b[0;36mvalidate_parameters\u001b[1;34m(in_vals)\u001b[0m\n\u001b[0;32m     61\u001b[0m filt_z_p2 \u001b[38;5;241m=\u001b[39m np\u001b[38;5;241m.\u001b[39munique(z_p2[valid_combinations])\n\u001b[0;32m     62\u001b[0m filt_z_r2 \u001b[38;5;241m=\u001b[39m np\u001b[38;5;241m.\u001b[39munique(z_r2[valid_combinations])\n\u001b[1;32m---> 64\u001b[0m z_s, z_p2, z_r2, xs, xp1, xp2, xr2 \u001b[38;5;241m=\u001b[39m \u001b[43mnp\u001b[49m\u001b[38;5;241;43m.\u001b[39;49m\u001b[43mmeshgrid\u001b[49m\u001b[43m(\u001b[49m\n\u001b[0;32m     65\u001b[0m \u001b[43m    \u001b[49m\u001b[43mfilt_z_s\u001b[49m\u001b[43m,\u001b[49m\u001b[43m \u001b[49m\u001b[43mfilt_z_p2\u001b[49m\u001b[43m,\u001b[49m\u001b[43m \u001b[49m\u001b[43mfilt_z_r2\u001b[49m\u001b[43m,\u001b[49m\u001b[43m \u001b[49m\u001b[38;5;241;43m*\u001b[39;49m\u001b[43min_vals\u001b[49m\u001b[43m[\u001b[49m\u001b[38;5;241;43m3\u001b[39;49m\u001b[43m:\u001b[49m\u001b[43m]\u001b[49m\u001b[43m,\u001b[49m\u001b[43m \u001b[49m\u001b[43mindexing\u001b[49m\u001b[38;5;241;43m=\u001b[39;49m\u001b[38;5;124;43m'\u001b[39;49m\u001b[38;5;124;43mij\u001b[39;49m\u001b[38;5;124;43m'\u001b[39;49m\n\u001b[0;32m     66\u001b[0m \u001b[43m\u001b[49m\u001b[43m)\u001b[49m\n\u001b[0;32m     68\u001b[0m \u001b[38;5;66;03m# flatten\u001b[39;00m\n\u001b[0;32m     69\u001b[0m z_s \u001b[38;5;241m=\u001b[39m z_s\u001b[38;5;241m.\u001b[39mflatten()\n",
      "File \u001b[1;32mc:\\Users\\Greg\\AppData\\Local\\Programs\\Python\\Python312\\Lib\\site-packages\\numpy\\lib\\function_base.py:5164\u001b[0m, in \u001b[0;36mmeshgrid\u001b[1;34m(copy, sparse, indexing, *xi)\u001b[0m\n\u001b[0;32m   5161\u001b[0m     output \u001b[38;5;241m=\u001b[39m np\u001b[38;5;241m.\u001b[39mbroadcast_arrays(\u001b[38;5;241m*\u001b[39moutput, subok\u001b[38;5;241m=\u001b[39m\u001b[38;5;28;01mTrue\u001b[39;00m)\n\u001b[0;32m   5163\u001b[0m \u001b[38;5;28;01mif\u001b[39;00m copy:\n\u001b[1;32m-> 5164\u001b[0m     output \u001b[38;5;241m=\u001b[39m [\u001b[43mx\u001b[49m\u001b[38;5;241;43m.\u001b[39;49m\u001b[43mcopy\u001b[49m\u001b[43m(\u001b[49m\u001b[43m)\u001b[49m \u001b[38;5;28;01mfor\u001b[39;00m x \u001b[38;5;129;01min\u001b[39;00m output]\n\u001b[0;32m   5166\u001b[0m \u001b[38;5;28;01mreturn\u001b[39;00m output\n",
      "\u001b[1;31mKeyboardInterrupt\u001b[0m: "
     ]
    }
   ],
   "source": [
    "# score the subsets, keep the highest score\n",
    "high_score = 0\n",
    "best_vals = []\n",
    "# counter = 0\n",
    "for combination_of_vals in itertools.product(*ss_vals):\n",
    "    score = score_vals(list(combination_of_vals))\n",
    "    if score > high_score:\n",
    "        best_vals = combination_of_vals\n",
    "        high_score = score\n",
    "    # counter+=1\n",
    "    # if counter > 1000:\n",
    "    #     break"
   ]
  },
  {
   "cell_type": "code",
   "execution_count": null,
   "metadata": {},
   "outputs": [
    {
     "data": {
      "text/plain": [
       "((4, 6, 8),\n",
       " (26, 29, 32),\n",
       " (74, 78, 83),\n",
       " (0.3, 0.4, 0.5),\n",
       " (0.7, 0.8, 0.9),\n",
       " (-0.5, -0.4, -0.3),\n",
       " (0.2, 0.3, 0.4))"
      ]
     },
     "execution_count": 37,
     "metadata": {},
     "output_type": "execute_result"
    }
   ],
   "source": [
    "best_vals"
   ]
  },
  {
   "cell_type": "code",
   "execution_count": null,
   "metadata": {},
   "outputs": [
    {
     "data": {
      "text/plain": [
       "69"
      ]
     },
     "execution_count": 42,
     "metadata": {},
     "output_type": "execute_result"
    }
   ],
   "source": [
    "high_score"
   ]
  },
  {
   "cell_type": "code",
   "execution_count": 14,
   "metadata": {},
   "outputs": [],
   "source": [
    "old_best_vals = ((4, 6, 8),\n",
    " (26, 29, 32),\n",
    " (74, 78, 83),\n",
    " (0.3, 0.4, 0.5),\n",
    " (0.7, 0.8, 0.9),\n",
    " (-0.5, -0.4, -0.3),\n",
    " (0.2, 0.3, 0.4))"
   ]
  },
  {
   "cell_type": "code",
   "execution_count": null,
   "metadata": {},
   "outputs": [],
   "source": [
    "[6, 32, 81, .476, .762, .536, 1.2]"
   ]
  },
  {
   "cell_type": "code",
   "execution_count": 19,
   "metadata": {},
   "outputs": [],
   "source": [
    "yi_vals = ((9,8,7),\n",
    "           (33,31,30),\n",
    "           (83,82,80),\n",
    "           (0.3,0.6,0.7),\n",
    "           (0.6,0.9,1.0),\n",
    "           (-0.5,-0.4,-0.3),\n",
    "           (0.5,0.4,0.3))"
   ]
  },
  {
   "cell_type": "code",
   "execution_count": 20,
   "metadata": {},
   "outputs": [],
   "source": [
    "array_in = np.array(yi_vals)"
   ]
  },
  {
   "cell_type": "code",
   "execution_count": 21,
   "metadata": {},
   "outputs": [
    {
     "name": "stderr",
     "output_type": "stream",
     "text": [
      "c:\\Users\\Greg\\Python\\Git_Local\\Mod_DOE\\utils.py:56: RuntimeWarning: divide by zero encountered in divide\n",
      "  ratios = 1 / gr_s\n",
      "c:\\Users\\Greg\\Python\\Git_Local\\Mod_DOE\\utils.py:82: RuntimeWarning: divide by zero encountered in divide\n",
      "  ratios = 1 / gr_s\n"
     ]
    },
    {
     "data": {
      "text/plain": [
       "115"
      ]
     },
     "execution_count": 21,
     "metadata": {},
     "output_type": "execute_result"
    }
   ],
   "source": [
    "score_vals(list(array_in))"
   ]
  },
  {
   "cell_type": "code",
   "execution_count": 22,
   "metadata": {},
   "outputs": [
    {
     "data": {
      "text/plain": [
       "array([[ 9. ,  8. ,  7. ],\n",
       "       [33. , 31. , 30. ],\n",
       "       [83. , 82. , 80. ],\n",
       "       [ 0.3,  0.6,  0.7],\n",
       "       [ 0.6,  0.9,  1. ],\n",
       "       [-0.5, -0.4, -0.3],\n",
       "       [ 0.5,  0.4,  0.3]])"
      ]
     },
     "execution_count": 22,
     "metadata": {},
     "output_type": "execute_result"
    }
   ],
   "source": [
    "array_in"
   ]
  }
 ],
 "metadata": {
  "kernelspec": {
   "display_name": "Python 3",
   "language": "python",
   "name": "python3"
  },
  "language_info": {
   "codemirror_mode": {
    "name": "ipython",
    "version": 3
   },
   "file_extension": ".py",
   "mimetype": "text/x-python",
   "name": "python",
   "nbconvert_exporter": "python",
   "pygments_lexer": "ipython3",
   "version": "3.12.2"
  }
 },
 "nbformat": 4,
 "nbformat_minor": 2
}
