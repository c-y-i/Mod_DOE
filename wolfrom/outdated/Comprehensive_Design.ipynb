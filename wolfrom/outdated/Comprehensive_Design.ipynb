{
 "cells": [
  {
   "cell_type": "code",
   "execution_count": 60,
   "metadata": {},
   "outputs": [],
   "source": [
    "import numpy as np\n",
    "import matplotlib.pyplot as plt\n",
    "from matplotlib.patches import Polygon\n",
    "from matplotlib.transforms import Affine2D\n",
    "import time\n",
    "from matplotlib.offsetbox import AnchoredText \n",
    "import mplcursors \n",
    "import os\n",
    "import json\n",
    "from gearbox import Gearbox\n",
    "\n",
    "import itertools\n",
    "import math\n",
    "\n",
    "from tqdm import tqdm"
   ]
  },
  {
   "cell_type": "code",
   "execution_count": 61,
   "metadata": {},
   "outputs": [],
   "source": [
    "import sys\n",
    "\n",
    "start_dir = os.getcwd()\n",
    "parent_dir = os.path.abspath(os.path.join(os.getcwd(), \"..\"))\n",
    "sys.path.append(parent_dir)\n",
    "\n",
    "from utils import score_vals, param_to_list"
   ]
  },
  {
   "cell_type": "code",
   "execution_count": 62,
   "metadata": {},
   "outputs": [],
   "source": [
    "os.environ[\"CUDA_DEVICE_ORDER\"] = \"PCI_BUS_ID\"\n",
    "os.environ[\"CUDA_VISIBLE_DEVICES\"] = \"4\" # select number of desired GPU to be used\n",
    "os.environ[\"XLA_PYTHON_CLIENT_PREALLOCATE\"] = \"false\""
   ]
  },
  {
   "cell_type": "markdown",
   "metadata": {},
   "source": [
    "## To Move into .py helper file:"
   ]
  },
  {
   "cell_type": "markdown",
   "metadata": {},
   "source": [
    "variables: z_s, z_p2, z_r2, xs, xp1, xp2, xr2"
   ]
  },
  {
   "cell_type": "code",
   "execution_count": 63,
   "metadata": {},
   "outputs": [],
   "source": [
    "config = {\n",
    "  \"MODULE\": 0.8e-3,\n",
    "  \"MC\": 0.8467e-3,\n",
    "  \"MU\": 0.21,\n",
    "  \"ALPHA\": 20,\n",
    "  \"XS\": 0.476,\n",
    "  \"XP1\": 0.762,\n",
    "  \"XP2\": 0.536,\n",
    "  \"XR1\": 2,\n",
    "  \"XR2\": 1.21,\n",
    "  \"XS_RANGE\": [-0.5, 0.5, 0.25],\n",
    "  \"XP1_RANGE\": [-1, 1, 0.25],\n",
    "  \"XP2_RANGE\": [-0.5, 0.5, 0.25],\n",
    "  \"XR2_RANGE\": [-1.5, 1.5, 0.25],\n",
    "  \"N_PLANETS\": 3,\n",
    "  \"SUN_LIMITS\": [4, 26],\n",
    "  \"P1_LIMITS\": [32, 42],\n",
    "  \"P2_LIMITS\": [25, 35],\n",
    "  \"R2_LIMITS\": [70,86],\n",
    "  \"STEPS\": [2, 1, 1, 1],\n",
    "  \"MIN_RATIO_THRESHOLD\": 90,\n",
    "  \"MIN_FORWARD_THRESHOLD\": 0.30,\n",
    "  \"MIN_BACKWARD_THRESHOLD\": 0.30\n",
    "}\n"
   ]
  },
  {
   "cell_type": "code",
   "execution_count": 64,
   "metadata": {},
   "outputs": [],
   "source": [
    "MODULE = config[\"MODULE\"]\n",
    "MU = config[\"MU\"]\n",
    "MC = config.get(\"MC\", MODULE)\n",
    "ALPHA = np.radians(config.get(\"ALPHA\", 20))\n",
    "XR1 = config.get(\"XR1\", 0.0)\n",
    "N_PLANETS = config[\"N_PLANETS\"]\n",
    "SUN_LIMITS = tuple(config[\"SUN_LIMITS\"])\n",
    "P1_LIMITS  = tuple(config[\"P1_LIMITS\"])\n",
    "P2_LIMITS  = tuple(config[\"P2_LIMITS\"])\n",
    "R2_LIMITS  = tuple(config[\"R2_LIMITS\"])\n",
    "STEPS = tuple(config[\"STEPS\"])\n",
    "MIN_RATIO_THRESHOLD = config[\"MIN_RATIO_THRESHOLD\"]\n",
    "MIN_FORWARD_THRESHOLD = config[\"MIN_FORWARD_THRESHOLD\"]\n",
    "MIN_BACKWARD_THRESHOLD = config[\"MIN_BACKWARD_THRESHOLD\"]\n",
    "\n",
    "SLICE_GEAR_RATIO = True \n",
    "TARGET_GEAR_RATIO = 100\n",
    "RATIO_TOLERANCE = 10\n",
    "DISPLAY_BEST_GEARBOX = False\n",
    "DISPLAY_ITERATIONS_PLOT = True\n",
    "RUN_SAMPLE_TRIAL = False\n",
    "MAX_CANDIDATES = 1000"
   ]
  },
  {
   "cell_type": "code",
   "execution_count": 65,
   "metadata": {},
   "outputs": [],
   "source": [
    "def generate_options(lower: int, upper: int, step: int = 1):\n",
    "    return list(range(lower, upper + 1, step))\n",
    "\n",
    "def generate_range_options(range_vals):\n",
    "    low, high, step = range_vals\n",
    "    opts = []\n",
    "    current = low\n",
    "    while current <= high + 1e-9:\n",
    "        opts.append(round(current, 5))\n",
    "        current += step\n",
    "    return opts\n",
    "\n",
    "def generate_all_options(sun_limits: tuple, p1_limits: tuple, p2_limits: tuple, r2_limits: tuple, \n",
    "                         steps: tuple = (1,1,1,1)):\n",
    "    step_sun, step_p1, step_p2, step_r2 = steps\n",
    "    return {\n",
    "        \"sun\": generate_options(sun_limits[0], sun_limits[1], step_sun),\n",
    "        \"p1\": generate_options(p1_limits[0], p1_limits[1], step_p1),\n",
    "        \"p2\": generate_options(p2_limits[0], p2_limits[1], step_p2),\n",
    "        \"r2\": generate_options(r2_limits[0], r2_limits[1], step_r2)\n",
    "    }"
   ]
  },
  {
   "cell_type": "code",
   "execution_count": 66,
   "metadata": {},
   "outputs": [],
   "source": [
    "options = generate_all_options(SUN_LIMITS, P1_LIMITS, P2_LIMITS, R2_LIMITS, STEPS)\n",
    "sun_options = options[\"sun\"]\n",
    "p1_options  = options[\"p1\"]\n",
    "p2_options  = options[\"p2\"]\n",
    "r2_options  = options[\"r2\"]\n",
    "xs_options = generate_range_options(config[\"XS_RANGE\"])\n",
    "xp1_options = generate_range_options(config[\"XP1_RANGE\"])\n",
    "xp2_options = generate_range_options(config[\"XP2_RANGE\"])\n",
    "xr2_options = generate_range_options(config[\"XR2_RANGE\"])"
   ]
  },
  {
   "cell_type": "code",
   "execution_count": 67,
   "metadata": {},
   "outputs": [],
   "source": [
    "# Working vals from BayZop (3 with gear from lit):\n",
    "BayzOp_Highest = {\n",
    "'z_sh': 15, 'z_sh_1': 11, 'z_sh_2': 10, 'z_r2': 72, 'z_r2_1': 71, 'z_r2_2': 70, 'x_s': 1.0, 'x_s_1': 0.380826, 'x_s_2': 0.280826, 'x_r2': -0.423252, 'x_r2_1': -0.523252, 'x_r2_2': -1.0\n",
    "}\n",
    "BayzOp_Optimal = {\n",
    "    'z_sh': 15,\n",
    "    'z_sh_1': 10,\n",
    "    'z_sh_2': 9,\n",
    "    'z_r2': 72,\n",
    "    'z_r2_1': 71,\n",
    "    'z_r2_2': 70,\n",
    "    'x_s': 0.9999999999960997,\n",
    "    'x_s_1': 0.8999999999149966,\n",
    "    'x_s_2': 0.7999999998281693,\n",
    "    'x_r2': -0.25155638920287665,\n",
    "    'x_r2_1': -0.351556389257909,\n",
    "    'x_r2_2': -0.9999999999177834,\n",
    "}\n",
    "\n",
    "BayzOp_4_Optimal = {\n",
    "    'z_sh': 9,\n",
    "    'z_sh_1': 8,\n",
    "    'z_sh_2': 7,\n",
    "    'z_sh_3': 6,\n",
    "    'z_r2': 75,\n",
    "    'z_r2_1': 74,\n",
    "    'z_r2_2': 73,\n",
    "    'z_r2_3': 72,\n",
    "    'x_s': 1.0,\n",
    "    'x_s_1': 0.8999999999998373,\n",
    "    'x_s_2': 0.7999999999988541,\n",
    "    'x_s_3': -0.999999999999853,\n",
    "    'x_r2': 0.9999999999985899,\n",
    "    'x_r2_1': 0.719421838988003,\n",
    "    'x_r2_2': 0.6194218389874829,\n",
    "    'x_r2_3': 0.5194218389853328,\n",
    "}\n",
    "\n",
    "# Checking against:\n",
    "paper_vals = [6, 81, .476, 1.0]"
   ]
  },
  {
   "cell_type": "code",
   "execution_count": 68,
   "metadata": {},
   "outputs": [],
   "source": [
    "int_bounds = {\n",
    "    \"z_sh\": [5, 15], #NOTE - z_sh is actually half z_s (which must be even)\n",
    "    \"z_r2\": [70, 86],\n",
    "}\n",
    "\n",
    "float_bounds = {\n",
    "    \"x_s\": [-0.5, 0.5],\n",
    "    \"x_r2\": [-1.5, 1.5],\n",
    "    \"Cl\" : [0.1, 0.4],\n",
    "}\n",
    "\n",
    "# manual overwrite to minimize run time.\n",
    "sun_options = [6,7,8,9,10] # note, these are z_sh (half z_s)\n",
    "r2_options = [70,71,72,73,74,75] # NOTE - add 71??\n",
    "xs_options = [1,0.9,0.8,0.4,0.3,-1, -0.9, -0.7]\n",
    "xr2_options = [1, 0.9, 0.8, 0.7, 0.6, 0.5]\n",
    "Cl = [0.1e-3, 0.2e-3, 0.3e-3, 0.4e-3]"
   ]
  },
  {
   "cell_type": "markdown",
   "metadata": {},
   "source": [
    "# Main"
   ]
  },
  {
   "cell_type": "code",
   "execution_count": 69,
   "metadata": {},
   "outputs": [
    {
     "name": "stdout",
     "output_type": "stream",
     "text": [
      "Total designs to test: 78750\n"
     ]
    }
   ],
   "source": [
    "#generate all possible subsets\n",
    "num_per_param = 4\n",
    "\n",
    "# all_params = [sun_options, p2_options, r2_options, xs_options, xp1_options, xp2_options, xr2_options]\n",
    "all_params = [sun_options, r2_options, xs_options, xr2_options, Cl]\n",
    "\n",
    "ss_vals = []\n",
    "\n",
    "for param in all_params:\n",
    "    ss_vals.append(list(itertools.combinations(param, num_per_param)))\n",
    "\n",
    "test_len = total_combinations = math.prod(len(subsets) for subsets in ss_vals)\n",
    "\n",
    "# print(f'Total designs to test: {len(list(itertools.product(*ss_vals)))}')\n",
    "print(f'Total designs to test: {test_len}')"
   ]
  },
  {
   "cell_type": "code",
   "execution_count": 70,
   "metadata": {},
   "outputs": [
    {
     "data": {
      "text/plain": [
       "1024"
      ]
     },
     "execution_count": 70,
     "metadata": {},
     "output_type": "execute_result"
    }
   ],
   "source": [
    "best_score = num_per_param**len(all_params)\n",
    "best_score"
   ]
  },
  {
   "cell_type": "code",
   "execution_count": 71,
   "metadata": {},
   "outputs": [],
   "source": [
    "the_list = list(itertools.product(*ss_vals))"
   ]
  },
  {
   "cell_type": "code",
   "execution_count": 72,
   "metadata": {},
   "outputs": [
    {
     "data": {
      "text/plain": [
       "[array([6., 7., 8., 9.]),\n",
       " array([70., 71., 72., 73.]),\n",
       " array([1. , 0.9, 0.8, 0.4]),\n",
       " array([1. , 0.9, 0.7, 0.6]),\n",
       " array([0.0001, 0.0002, 0.0003, 0.0004])]"
      ]
     },
     "execution_count": 72,
     "metadata": {},
     "output_type": "execute_result"
    }
   ],
   "source": [
    "list(np.array(the_list[3]))"
   ]
  },
  {
   "cell_type": "code",
   "execution_count": 73,
   "metadata": {},
   "outputs": [
    {
     "name": "stdout",
     "output_type": "stream",
     "text": [
      "subsample: 0\n"
     ]
    }
   ],
   "source": [
    "Max_goal = int(1e6) # most values we'd want\n",
    "ss = int(np.round(test_len/Max_goal)) # required subsample\n",
    "print(f'subsample: {ss}')"
   ]
  },
  {
   "cell_type": "code",
   "execution_count": 74,
   "metadata": {},
   "outputs": [],
   "source": [
    "# score the subsets, keep the highest score\n",
    "high_score = 0\n",
    "best_vals = []\n",
    "match_vals = []\n",
    "\n",
    "if ss > 1:\n",
    "    # do a subset of all combinations:\n",
    "    for i in range(Max_goal-1):\n",
    "        score = score_vals(list(np.array(the_list[i*ss])), add_gear = False)\n",
    "        if score > high_score:\n",
    "            best_vals = the_list[i*ss]\n",
    "            high_score = score\n",
    "\n",
    "else:\n",
    "    # do all combinations\n",
    "    for combination_of_vals in itertools.product(*ss_vals):\n",
    "        score = score_vals(list(np.array(combination_of_vals)), add_gear = False)\n",
    "        if score > high_score:\n",
    "            best_vals = list(np.array(combination_of_vals))\n",
    "            high_score = score\n",
    "        elif score == best_score:\n",
    "            next_best = list(np.array(combination_of_vals))\n",
    "            match_vals.append(next_best)\n"
   ]
  },
  {
   "cell_type": "code",
   "execution_count": 75,
   "metadata": {},
   "outputs": [
    {
     "data": {
      "text/plain": [
       "array([[ 6.0e+00,  7.0e+00,  8.0e+00,  9.0e+00],\n",
       "       [ 7.2e+01,  7.3e+01,  7.4e+01,  7.5e+01],\n",
       "       [ 1.0e+00,  9.0e-01,  8.0e-01, -1.0e+00],\n",
       "       [ 1.0e+00,  9.0e-01,  8.0e-01,  7.0e-01],\n",
       "       [ 1.0e-04,  2.0e-04,  3.0e-04,  4.0e-04]])"
      ]
     },
     "execution_count": 75,
     "metadata": {},
     "output_type": "execute_result"
    }
   ],
   "source": [
    "np.array(best_vals)"
   ]
  },
  {
   "cell_type": "code",
   "execution_count": 76,
   "metadata": {},
   "outputs": [
    {
     "data": {
      "text/plain": [
       "[]"
      ]
     },
     "execution_count": 76,
     "metadata": {},
     "output_type": "execute_result"
    }
   ],
   "source": [
    "match_vals"
   ]
  },
  {
   "cell_type": "code",
   "execution_count": 77,
   "metadata": {},
   "outputs": [
    {
     "data": {
      "text/plain": [
       "np.float64(39254.85427373696)"
      ]
     },
     "execution_count": 77,
     "metadata": {},
     "output_type": "execute_result"
    }
   ],
   "source": [
    "high_score"
   ]
  },
  {
   "cell_type": "code",
   "execution_count": 78,
   "metadata": {},
   "outputs": [
    {
     "name": "stdout",
     "output_type": "stream",
     "text": [
      "BayzOp Highest Score:  15181.614117998011\n",
      "BayzOp Optimal Score:  15197.781765273987\n"
     ]
    }
   ],
   "source": [
    "# check scores:\n",
    "b_high_score = score_vals(param_to_list(BayzOp_Highest, add_cl = True))\n",
    "b_opt_score = score_vals(param_to_list(BayzOp_Optimal, add_cl = True))\n",
    "print(\"BayzOp Highest Score: \", b_high_score)\n",
    "print(\"BayzOp Optimal Score: \", b_opt_score)"
   ]
  },
  {
   "cell_type": "code",
   "execution_count": 79,
   "metadata": {},
   "outputs": [
    {
     "data": {
      "text/plain": [
       "[array([15, 11, 10]),\n",
       " array([72, 71, 70]),\n",
       " array([1.      , 0.380826, 0.280826]),\n",
       " array([-0.423252, -0.523252, -1.      ]),\n",
       " array([0.0002, 0.0003, 0.0004])]"
      ]
     },
     "execution_count": 79,
     "metadata": {},
     "output_type": "execute_result"
    }
   ],
   "source": [
    "param_to_list(BayzOp_Highest, add_cl = True)"
   ]
  }
 ],
 "metadata": {
  "kernelspec": {
   "display_name": ".venv",
   "language": "python",
   "name": "python3"
  },
  "language_info": {
   "codemirror_mode": {
    "name": "ipython",
    "version": 3
   },
   "file_extension": ".py",
   "mimetype": "text/x-python",
   "name": "python",
   "nbconvert_exporter": "python",
   "pygments_lexer": "ipython3",
   "version": "3.12.3"
  }
 },
 "nbformat": 4,
 "nbformat_minor": 2
}
