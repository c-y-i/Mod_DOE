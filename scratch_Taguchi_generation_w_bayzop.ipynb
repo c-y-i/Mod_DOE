{
 "cells": [
  {
   "cell_type": "markdown",
   "metadata": {},
   "source": [
    "## Setup"
   ]
  },
  {
   "cell_type": "code",
   "execution_count": null,
   "metadata": {},
   "outputs": [],
   "source": [
    "import numpy as np\n",
    "import matplotlib.pyplot as plt\n",
    "from matplotlib.patches import Polygon\n",
    "from matplotlib.transforms import Affine2D\n",
    "import time\n",
    "from matplotlib.offsetbox import AnchoredText \n",
    "import mplcursors \n",
    "import os\n",
    "import json\n",
    "\n",
    "import itertools\n",
    "import math\n",
    "\n",
    "from tqdm import tqdm\n",
    "\n",
    "import pyDOE\n",
    "import sys\n",
    "\n",
    "from ax.service.ax_client import AxClient, ObjectiveProperties\n",
    "from ax.utils.measurement.synthetic_functions import hartmann6\n",
    "from ax.utils.notebook.plotting import init_notebook_plotting, render\n",
    "import plotly.io as pio\n",
    "\n",
    "import pickle\n",
    "from matplotlib.pyplot import cm\n",
    "import scienceplots\n",
    "\n",
    "from utils import score_vals"
   ]
  },
  {
   "cell_type": "code",
   "execution_count": 3,
   "metadata": {},
   "outputs": [],
   "source": [
    "config = {\n",
    "  \"MODULE\": 0.8e-3,\n",
    "  \"MC\": 0.8467e-3,\n",
    "  \"MU\": 0.21,\n",
    "  \"ALPHA\": 20,\n",
    "  \"XS\": 0.476,\n",
    "  \"XP1\": 0.762,\n",
    "  \"XP2\": 0.536,\n",
    "  \"XR1\": 2,\n",
    "  \"XR2\": 1.21,\n",
    "  \"XS_RANGE\": [-0.5, 0.5, 0.25],\n",
    "  \"XP1_RANGE\": [-1, 1, 0.25],\n",
    "  \"XP2_RANGE\": [-0.5, 0.5, 0.25],\n",
    "  \"XR2_RANGE\": [-1.5, 1.5, 0.25],\n",
    "  \"N_PLANETS\": 3,\n",
    "  \"SUN_LIMITS\": [4, 26],\n",
    "  \"P1_LIMITS\": [32, 42],\n",
    "  \"P2_LIMITS\": [25, 35],\n",
    "  \"R2_LIMITS\": [70,86],\n",
    "  \"STEPS\": [2, 1, 1, 1],\n",
    "  \"MIN_RATIO_THRESHOLD\": 90,\n",
    "  \"MIN_FORWARD_THRESHOLD\": 0.30,\n",
    "  \"MIN_BACKWARD_THRESHOLD\": 0.30\n",
    "}\n"
   ]
  },
  {
   "cell_type": "code",
   "execution_count": 17,
   "metadata": {},
   "outputs": [],
   "source": [
    "MODULE = config[\"MODULE\"]\n",
    "MU = config[\"MU\"]\n",
    "MC = config.get(\"MC\", MODULE)\n",
    "ALPHA = np.radians(config.get(\"ALPHA\", 20))\n",
    "XR1 = config.get(\"XR1\", 0.0)\n",
    "N_PLANETS = config[\"N_PLANETS\"]\n",
    "TARGET_GEAR_RATIO = 100\n",
    "RATIO_TOLERANCE = 10"
   ]
  },
  {
   "cell_type": "markdown",
   "metadata": {},
   "source": [
    "## Start up client"
   ]
  },
  {
   "cell_type": "code",
   "execution_count": 8,
   "metadata": {},
   "outputs": [
    {
     "name": "stderr",
     "output_type": "stream",
     "text": [
      "[INFO 04-03 15:20:15] ax.service.ax_client: Starting optimization with verbose logging. To disable logging, set the `verbose_logging` argument to `False`. Note that float values in the logs are rounded to 6 decimal points.\n"
     ]
    }
   ],
   "source": [
    "Tag_client = AxClient()"
   ]
  },
  {
   "cell_type": "code",
   "execution_count": 9,
   "metadata": {},
   "outputs": [
    {
     "name": "stderr",
     "output_type": "stream",
     "text": [
      "[INFO 04-03 15:20:15] ax.service.utils.instantiation: Created search space: SearchSpace(parameters=[RangeParameter(name='z_s', parameter_type=INT, range=[2, 30]), RangeParameter(name='z_s_1', parameter_type=INT, range=[2, 30]), RangeParameter(name='z_s_2', parameter_type=INT, range=[2, 30]), RangeParameter(name='z_s_3', parameter_type=INT, range=[2, 30]), RangeParameter(name='z_p2', parameter_type=INT, range=[25, 35]), RangeParameter(name='z_p2_1', parameter_type=INT, range=[25, 35]), RangeParameter(name='z_p2_2', parameter_type=INT, range=[25, 35]), RangeParameter(name='z_p2_3', parameter_type=INT, range=[25, 35]), RangeParameter(name='z_r2', parameter_type=INT, range=[70, 86]), RangeParameter(name='z_r2_1', parameter_type=INT, range=[70, 86]), RangeParameter(name='z_r2_2', parameter_type=INT, range=[70, 86]), RangeParameter(name='z_r2_3', parameter_type=INT, range=[70, 86]), RangeParameter(name='x_s', parameter_type=FLOAT, range=[-0.5, 0.5]), RangeParameter(name='x_s_1', parameter_type=FLOAT, range=[-0.5, 0.5]), RangeParameter(name='x_s_2', parameter_type=FLOAT, range=[-0.5, 0.5]), RangeParameter(name='x_s_3', parameter_type=FLOAT, range=[-0.5, 0.5]), RangeParameter(name='x_p1', parameter_type=FLOAT, range=[-1.0, 1.0]), RangeParameter(name='x_p1_1', parameter_type=FLOAT, range=[-1.0, 1.0]), RangeParameter(name='x_p1_2', parameter_type=FLOAT, range=[-1.0, 1.0]), RangeParameter(name='x_p1_3', parameter_type=FLOAT, range=[-1.0, 1.0]), RangeParameter(name='x_p2', parameter_type=FLOAT, range=[-0.5, 0.5]), RangeParameter(name='x_p2_1', parameter_type=FLOAT, range=[-0.5, 0.5]), RangeParameter(name='x_p2_2', parameter_type=FLOAT, range=[-0.5, 0.5]), RangeParameter(name='x_p2_3', parameter_type=FLOAT, range=[-0.5, 0.5]), RangeParameter(name='x_r2', parameter_type=FLOAT, range=[-1.5, 1.5]), RangeParameter(name='x_r2_1', parameter_type=FLOAT, range=[-1.5, 1.5]), RangeParameter(name='x_r2_2', parameter_type=FLOAT, range=[-1.5, 1.5]), RangeParameter(name='x_r2_3', parameter_type=FLOAT, range=[-1.5, 1.5])], parameter_constraints=[]).\n",
      "[INFO 04-03 15:20:15] ax.modelbridge.dispatch_utils: Using Models.BOTORCH_MODULAR since there is at least one ordered parameter and there are no unordered categorical parameters.\n",
      "[INFO 04-03 15:20:15] ax.modelbridge.dispatch_utils: Calculating the number of remaining initialization trials based on num_initialization_trials=None max_initialization_trials=None num_tunable_parameters=28 num_trials=None use_batch_trials=False\n",
      "[INFO 04-03 15:20:15] ax.modelbridge.dispatch_utils: calculated num_initialization_trials=56\n",
      "[INFO 04-03 15:20:15] ax.modelbridge.dispatch_utils: num_completed_initialization_trials=0 num_remaining_initialization_trials=56\n",
      "[INFO 04-03 15:20:15] ax.modelbridge.dispatch_utils: `verbose`, `disable_progbar`, and `jit_compile` are not yet supported when using `choose_generation_strategy` with ModularBoTorchModel, dropping these arguments.\n",
      "[INFO 04-03 15:20:15] ax.modelbridge.dispatch_utils: Using Bayesian Optimization generation strategy: GenerationStrategy(name='Sobol+BoTorch', steps=[Sobol for 56 trials, BoTorch for subsequent trials]). Iterations after 56 will take longer to generate due to model-fitting.\n"
     ]
    }
   ],
   "source": [
    "# Define bounds for each parameter type\n",
    "int_bounds = {\n",
    "    \"z_s\": [2, 30],\n",
    "    \"z_p2\": [25, 35],\n",
    "    \"z_r2\": [70, 86],\n",
    "}\n",
    "\n",
    "float_bounds = {\n",
    "    \"x_s\": [-0.5, 0.5],\n",
    "    \"x_p1\": [-1.0, 1.0],\n",
    "    \"x_p2\": [-0.5, 0.5],\n",
    "    \"x_r2\": [-1.5, 1.5],\n",
    "}\n",
    "\n",
    "# Number of copies for each parameter\n",
    "num_copies = 3\n",
    "\n",
    "# Generate parameters dynamically\n",
    "parameters = []\n",
    "\n",
    "# Add integer parameters\n",
    "for name, bounds in int_bounds.items():\n",
    "    for i in range(num_copies):\n",
    "        param_name = f\"{name}\" if i == 0 else f\"{name}_{i}\"\n",
    "        parameters.append({\n",
    "            \"name\": param_name,\n",
    "            \"type\": \"range\",\n",
    "            \"bounds\": bounds,\n",
    "            \"value_type\": \"int\",\n",
    "        })\n",
    "\n",
    "# Add float parameters\n",
    "for name, bounds in float_bounds.items():\n",
    "    for i in range(num_copies):\n",
    "        param_name = f\"{name}\" if i == 0 else f\"{name}_{i}\"\n",
    "        parameters.append({\n",
    "            \"name\": param_name,\n",
    "            \"type\": \"range\",\n",
    "            \"bounds\": bounds,\n",
    "            \"value_type\": \"float\",\n",
    "        })\n",
    "\n",
    "# Generate parameter constraints\n",
    "parameter_constraints = []\n",
    "\n",
    "# Ensure integer `z` values satisfy z_s - z_s_1 >= 1\n",
    "for name in int_bounds.keys():\n",
    "    for i in range(num_copies-1):\n",
    "        j = i+1\n",
    "        param_i = f\"{name}\" if i == 0 else f\"{name}_{i}\"\n",
    "        param_j = f\"{name}_{j}\"\n",
    "        parameter_constraints.append(f\"{param_i} - {param_j} >= 1\")\n",
    "\n",
    "# Ensure float `x` values satisfy x_s - x_s_1 >= 0.1\n",
    "for name in float_bounds.keys():\n",
    "    for i in range(num_copies-1):\n",
    "        j = i+1\n",
    "        param_i = f\"{name}\" if i == 0 else f\"{name}_{i}\"\n",
    "        param_j = f\"{name}_{j}\"\n",
    "        parameter_constraints.append(f\"{param_i} - {param_j} >= 0.1\")\n",
    "\n",
    "# Create the experiment\n",
    "Tag_client.create_experiment(\n",
    "    name=\"gear_experiment\",\n",
    "    parameters=parameters,\n",
    "    objectives={\"Viable_Cross_Terms\": ObjectiveProperties(minimize=False)},\n",
    "    # parameter_constraints=parameter_constraints,  # Add constraints here\n",
    "    # outcome_constraints=[\"l2norm <= 1.25\"],  # Optional.\n",
    ")\n",
    "\n",
    "# Print constraints for verification\n",
    "# print(\"Parameter Constraints:\")\n",
    "# for constraint in parameter_constraints:\n",
    "#     print(constraint)"
   ]
  },
  {
   "cell_type": "markdown",
   "metadata": {},
   "source": [
    "### Run tests to solve for best possible score    "
   ]
  },
  {
   "cell_type": "code",
   "execution_count": 10,
   "metadata": {},
   "outputs": [
    {
     "name": "stderr",
     "output_type": "stream",
     "text": [
      "c:\\Users\\campb\\AppData\\Local\\Programs\\Python\\Python311\\Lib\\site-packages\\ax\\modelbridge\\cross_validation.py:439: UserWarning:\n",
      "\n",
      "Encountered exception in computing model fit quality: RandomModelBridge does not support prediction.\n",
      "\n",
      "[INFO 04-03 15:20:16] ax.service.ax_client: Generated new trial 0 with parameters {'z_s': 2, 'z_s_1': 15, 'z_s_2': 21, 'z_s_3': 5, 'z_p2': 30, 'z_p2_1': 29, 'z_p2_2': 26, 'z_p2_3': 31, 'z_r2': 83, 'z_r2_1': 75, 'z_r2_2': 74, 'z_r2_3': 72, 'x_s': 0.230362, 'x_s_1': 0.164608, 'x_s_2': -0.336502, 'x_s_3': -0.272492, 'x_p1': -0.240404, 'x_p1_1': -0.57703, 'x_p1_2': -0.681771, 'x_p1_3': -0.449725, 'x_p2': -0.313794, 'x_p2_1': 0.149482, 'x_p2_2': 0.220838, 'x_p2_3': -0.378625, 'x_r2': 0.899606, 'x_r2_1': 0.964305, 'x_r2_2': 0.010575, 'x_r2_3': 0.74046} using model Sobol.\n"
     ]
    }
   ],
   "source": [
    "parameterization, trial_index = Tag_client.get_next_trial()"
   ]
  },
  {
   "cell_type": "code",
   "execution_count": 12,
   "metadata": {},
   "outputs": [
    {
     "data": {
      "text/plain": [
       "{'z_s': 2,\n",
       " 'z_s_1': 15,\n",
       " 'z_s_2': 21,\n",
       " 'z_s_3': 5,\n",
       " 'z_p2': 30,\n",
       " 'z_p2_1': 29,\n",
       " 'z_p2_2': 26,\n",
       " 'z_p2_3': 31,\n",
       " 'z_r2': 83,\n",
       " 'z_r2_1': 75,\n",
       " 'z_r2_2': 74,\n",
       " 'z_r2_3': 72,\n",
       " 'x_s': 0.23036247491836548,\n",
       " 'x_s_1': 0.16460782289505005,\n",
       " 'x_s_2': -0.33650214970111847,\n",
       " 'x_s_3': -0.27249205112457275,\n",
       " 'x_p1': -0.24040448665618896,\n",
       " 'x_p1_1': -0.577029824256897,\n",
       " 'x_p1_2': -0.6817713379859924,\n",
       " 'x_p1_3': -0.4497247338294983,\n",
       " 'x_p2': -0.31379425525665283,\n",
       " 'x_p2_1': 0.14948159456253052,\n",
       " 'x_p2_2': 0.2208382487297058,\n",
       " 'x_p2_3': -0.3786247745156288,\n",
       " 'x_r2': 0.899606466293335,\n",
       " 'x_r2_1': 0.9643049240112305,\n",
       " 'x_r2_2': 0.010574698448181152,\n",
       " 'x_r2_3': 0.7404600977897644}"
      ]
     },
     "execution_count": 12,
     "metadata": {},
     "output_type": "execute_result"
    }
   ],
   "source": [
    "parameterization"
   ]
  },
  {
   "cell_type": "code",
   "execution_count": null,
   "metadata": {},
   "outputs": [],
   "source": [
    "for i in range(13):\n",
    "    parameterization, trial_index = ax_client.get_next_trial()\n",
    "    # Local evaluation here can be replaced with deployment to external system.\n",
    "    ax_client.complete_trial(trial_index=trial_index, raw_data=evaluate(parameterization))"
   ]
  }
 ],
 "metadata": {
  "kernelspec": {
   "display_name": "Python 3",
   "language": "python",
   "name": "python3"
  },
  "language_info": {
   "codemirror_mode": {
    "name": "ipython",
    "version": 3
   },
   "file_extension": ".py",
   "mimetype": "text/x-python",
   "name": "python",
   "nbconvert_exporter": "python",
   "pygments_lexer": "ipython3",
   "version": "3.11.6"
  }
 },
 "nbformat": 4,
 "nbformat_minor": 2
}
