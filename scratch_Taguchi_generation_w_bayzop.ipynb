{
 "cells": [
  {
   "cell_type": "markdown",
   "metadata": {},
   "source": [
    "## Setup"
   ]
  },
  {
   "cell_type": "code",
   "execution_count": 1,
   "metadata": {},
   "outputs": [],
   "source": [
    "import numpy as np\n",
    "import matplotlib.pyplot as plt\n",
    "from matplotlib.patches import Polygon\n",
    "from matplotlib.transforms import Affine2D\n",
    "import time\n",
    "from matplotlib.offsetbox import AnchoredText \n",
    "import mplcursors \n",
    "import os\n",
    "import json\n",
    "\n",
    "import itertools\n",
    "import math\n",
    "\n",
    "from tqdm import tqdm\n",
    "\n",
    "import pyDOE\n",
    "import sys\n",
    "\n",
    "from ax.service.ax_client import AxClient, ObjectiveProperties\n",
    "from ax.utils.measurement.synthetic_functions import hartmann6\n",
    "from ax.utils.notebook.plotting import init_notebook_plotting, render\n",
    "import plotly.io as pio\n",
    "\n",
    "import pickle\n",
    "from matplotlib.pyplot import cm\n",
    "import scienceplots\n",
    "\n",
    "from utils import score_vals, param_to_list\n",
    "\n",
    "# Mute warnings:\n",
    "import warnings\n",
    "warnings.filterwarnings('ignore')"
   ]
  },
  {
   "cell_type": "code",
   "execution_count": 102,
   "metadata": {},
   "outputs": [],
   "source": [
    "from ax.plot.trace import optimization_trace_single_method"
   ]
  },
  {
   "cell_type": "code",
   "execution_count": 2,
   "metadata": {},
   "outputs": [],
   "source": [
    "config = {\n",
    "  \"MODULE\": 0.8e-3,\n",
    "  \"MC\": 0.8467e-3,\n",
    "  \"MU\": 0.21,\n",
    "  \"ALPHA\": 20,\n",
    "  \"XS\": 0.476,\n",
    "  \"XP1\": 0.762,\n",
    "  \"XP2\": 0.536,\n",
    "  \"XR1\": 2,\n",
    "  \"XR2\": 1.21,\n",
    "  \"XS_RANGE\": [-0.5, 0.5, 0.25],\n",
    "  \"XP1_RANGE\": [-1, 1, 0.25],\n",
    "  \"XP2_RANGE\": [-0.5, 0.5, 0.25],\n",
    "  \"XR2_RANGE\": [-1.5, 1.5, 0.25],\n",
    "  \"N_PLANETS\": 3,\n",
    "  \"SUN_LIMITS\": [4, 26],\n",
    "  \"P1_LIMITS\": [32, 42],\n",
    "  \"P2_LIMITS\": [25, 35],\n",
    "  \"R2_LIMITS\": [70,86],\n",
    "  \"STEPS\": [2, 1, 1, 1],\n",
    "  \"MIN_RATIO_THRESHOLD\": 90,\n",
    "  \"MIN_FORWARD_THRESHOLD\": 0.30,\n",
    "  \"MIN_BACKWARD_THRESHOLD\": 0.30\n",
    "}\n"
   ]
  },
  {
   "cell_type": "code",
   "execution_count": 3,
   "metadata": {},
   "outputs": [],
   "source": [
    "MODULE = config[\"MODULE\"]\n",
    "MU = config[\"MU\"]\n",
    "MC = config.get(\"MC\", MODULE)\n",
    "ALPHA = np.radians(config.get(\"ALPHA\", 20))\n",
    "XR1 = config.get(\"XR1\", 0.0)\n",
    "N_PLANETS = config[\"N_PLANETS\"]\n",
    "TARGET_GEAR_RATIO = 100\n",
    "RATIO_TOLERANCE = 10"
   ]
  },
  {
   "cell_type": "markdown",
   "metadata": {},
   "source": [
    "## Start up client"
   ]
  },
  {
   "cell_type": "code",
   "execution_count": 4,
   "metadata": {},
   "outputs": [
    {
     "name": "stderr",
     "output_type": "stream",
     "text": [
      "[INFO 04-04 12:45:24] ax.service.ax_client: Starting optimization with verbose logging. To disable logging, set the `verbose_logging` argument to `False`. Note that float values in the logs are rounded to 6 decimal points.\n"
     ]
    }
   ],
   "source": [
    "Tag_client = AxClient()"
   ]
  },
  {
   "cell_type": "code",
   "execution_count": null,
   "metadata": {},
   "outputs": [
    {
     "name": "stderr",
     "output_type": "stream",
     "text": [
      "[INFO 04-04 12:45:24] ax.service.utils.instantiation: Created search space: SearchSpace(parameters=[RangeParameter(name='z_s', parameter_type=INT, range=[3, 15]), RangeParameter(name='z_s_1', parameter_type=INT, range=[2, 14]), RangeParameter(name='z_s_2', parameter_type=INT, range=[1, 13]), RangeParameter(name='z_p2', parameter_type=INT, range=[27, 35]), RangeParameter(name='z_p2_1', parameter_type=INT, range=[26, 34]), RangeParameter(name='z_p2_2', parameter_type=INT, range=[25, 33]), RangeParameter(name='z_r2', parameter_type=INT, range=[72, 86]), RangeParameter(name='z_r2_1', parameter_type=INT, range=[71, 85]), RangeParameter(name='z_r2_2', parameter_type=INT, range=[70, 84]), RangeParameter(name='x_s', parameter_type=FLOAT, range=[-0.48, 0.5]), RangeParameter(name='x_s_1', parameter_type=FLOAT, range=[-0.49, 0.49]), RangeParameter(name='x_s_2', parameter_type=FLOAT, range=[-0.5, 0.48]), RangeParameter(name='x_p1', parameter_type=FLOAT, range=[-0.98, 1.0]), RangeParameter(name='x_p1_1', parameter_type=FLOAT, range=[-0.99, 0.99]), RangeParameter(name='x_p1_2', parameter_type=FLOAT, range=[-1.0, 0.98]), RangeParameter(name='x_p2', parameter_type=FLOAT, range=[-0.48, 0.5]), RangeParameter(name='x_p2_1', parameter_type=FLOAT, range=[-0.49, 0.49]), RangeParameter(name='x_p2_2', parameter_type=FLOAT, range=[-0.5, 0.48]), RangeParameter(name='x_r2', parameter_type=FLOAT, range=[-1.48, 1.5]), RangeParameter(name='x_r2_1', parameter_type=FLOAT, range=[-1.49, 1.49]), RangeParameter(name='x_r2_2', parameter_type=FLOAT, range=[-1.5, 1.48])], parameter_constraints=[ParameterConstraint(-1.0*x_s + 1.0*x_s_1 <= -0.1), ParameterConstraint(-1.0*x_s_1 + 1.0*x_s_2 <= -0.1), ParameterConstraint(-1.0*x_p1 + 1.0*x_p1_1 <= -0.1), ParameterConstraint(-1.0*x_p1_1 + 1.0*x_p1_2 <= -0.1), ParameterConstraint(-1.0*x_p2 + 1.0*x_p2_1 <= -0.1), ParameterConstraint(-1.0*x_p2_1 + 1.0*x_p2_2 <= -0.1), ParameterConstraint(-1.0*x_r2 + 1.0*x_r2_1 <= -0.1), ParameterConstraint(-1.0*x_r2_1 + 1.0*x_r2_2 <= -0.1)]).\n",
      "[INFO 04-04 12:45:24] ax.modelbridge.dispatch_utils: Using Models.BOTORCH_MODULAR since there is at least one ordered parameter and there are no unordered categorical parameters.\n",
      "[INFO 04-04 12:45:24] ax.modelbridge.dispatch_utils: Calculating the number of remaining initialization trials based on num_initialization_trials=None max_initialization_trials=None num_tunable_parameters=21 num_trials=None use_batch_trials=False\n",
      "[INFO 04-04 12:45:24] ax.modelbridge.dispatch_utils: calculated num_initialization_trials=42\n",
      "[INFO 04-04 12:45:24] ax.modelbridge.dispatch_utils: num_completed_initialization_trials=0 num_remaining_initialization_trials=42\n",
      "[INFO 04-04 12:45:24] ax.modelbridge.dispatch_utils: `verbose`, `disable_progbar`, and `jit_compile` are not yet supported when using `choose_generation_strategy` with ModularBoTorchModel, dropping these arguments.\n",
      "[INFO 04-04 12:45:24] ax.modelbridge.dispatch_utils: Using Bayesian Optimization generation strategy: GenerationStrategy(name='Sobol+BoTorch', steps=[Sobol for 42 trials, BoTorch for subsequent trials]). Iterations after 42 will take longer to generate due to model-fitting.\n"
     ]
    }
   ],
   "source": [
    "# Define bounds for each parameter type\n",
    "int_bounds = {\n",
    "    \"z_s\": [4, 15], #NOTE - z_s is actually half z_s (which must be even)\n",
    "    \"z_p2\": [25, 35],\n",
    "    \"z_r2\": [70, 86],\n",
    "}\n",
    "\n",
    "float_bounds = {\n",
    "    \"x_s\": [-0.5, 0.5],\n",
    "    \"x_p1\": [-1.0, 1.0],\n",
    "    \"x_p2\": [-0.5, 0.5],\n",
    "    \"x_r2\": [-1.5, 1.5],\n",
    "}\n",
    "\n",
    "# Number of copies for each parameter\n",
    "num_copies = 3\n",
    "\n",
    "# Generate parameters dynamically\n",
    "parameters = []\n",
    "\n",
    "# Add integer parameters\n",
    "for name, bounds in int_bounds.items():\n",
    "    lower, upper = bounds\n",
    "    for i in range(num_copies):\n",
    "        param_name = f\"{name}\" if i == 0 else f\"{name}_{i}\"\n",
    "        parameters.append({\n",
    "            \"name\": param_name,\n",
    "            \"type\": \"range\",\n",
    "            \"bounds\": [lower + (num_copies-1-i), upper - i],  # adjust bounds to deal with order\n",
    "            \"value_type\": \"int\",\n",
    "        })\n",
    "\n",
    "# Add float parameters\n",
    "for name, bounds in float_bounds.items():\n",
    "    lower, upper = bounds\n",
    "    for i in range(num_copies):\n",
    "        param_name = f\"{name}\" if i == 0 else f\"{name}_{i}\"\n",
    "        parameters.append({\n",
    "            \"name\": param_name,\n",
    "            \"type\": \"range\",\n",
    "            \"bounds\": [lower + (.01*(num_copies-1-i)), upper - .01*i],  # adjust bounds to deal with order\n",
    "            \"value_type\": \"float\",\n",
    "        })\n",
    "\n",
    "# Generate parameter constraints\n",
    "parameter_constraints = []\n",
    "\n",
    "# Ensure integer `z` values satisfy z_s - z_s_1 >= 1\n",
    "for name in int_bounds.keys():\n",
    "    for i in range(num_copies-1):\n",
    "        j = i+1\n",
    "        param_i = f\"{name}\" if i == 0 else f\"{name}_{i}\"\n",
    "        param_j = f\"{name}_{j}\"\n",
    "        # parameter_constraints.append(f\"{param_i} - {param_j} >= 1\")\n",
    "\n",
    "# Ensure float `x` values satisfy x_s - x_s_1 >= 0.1\n",
    "for name in float_bounds.keys():\n",
    "    for i in range(num_copies-1):\n",
    "        j = i+1\n",
    "        param_i = f\"{name}\" if i == 0 else f\"{name}_{i}\"\n",
    "        param_j = f\"{name}_{j}\"\n",
    "        parameter_constraints.append(f\"{param_i} - {param_j} >= 0.1\")\n",
    "\n",
    "# Create the experiment\n",
    "Tag_client.create_experiment(\n",
    "    name=\"gear_experiment\",\n",
    "    parameters=parameters,\n",
    "    objectives={\"Viable_Cross_Terms\": ObjectiveProperties(minimize=False)},\n",
    "    parameter_constraints=parameter_constraints,  # Add constraints here\n",
    "    # outcome_constraints=[\"l2norm <= 1.25\"],  # Optional.\n",
    ")\n",
    "\n",
    "# Print constraints for verification\n",
    "# print(\"Parameter Constraints:\")\n",
    "# for constraint in parameter_constraints:\n",
    "#     print(constraint)"
   ]
  },
  {
   "cell_type": "code",
   "execution_count": 6,
   "metadata": {},
   "outputs": [],
   "source": [
    "# -1.0*z_p2 + 1.0*z_p2_1 <= -1.0\n",
    "# -1.0*x_p2_1 + 1.0*x_p2 <= -0.01"
   ]
  },
  {
   "cell_type": "code",
   "execution_count": 7,
   "metadata": {},
   "outputs": [
    {
     "data": {
      "text/plain": [
       "[{'name': 'z_s', 'type': 'range', 'bounds': [3, 15], 'value_type': 'int'},\n",
       " {'name': 'z_s_1', 'type': 'range', 'bounds': [2, 14], 'value_type': 'int'},\n",
       " {'name': 'z_s_2', 'type': 'range', 'bounds': [1, 13], 'value_type': 'int'},\n",
       " {'name': 'z_p2', 'type': 'range', 'bounds': [27, 35], 'value_type': 'int'},\n",
       " {'name': 'z_p2_1', 'type': 'range', 'bounds': [26, 34], 'value_type': 'int'},\n",
       " {'name': 'z_p2_2', 'type': 'range', 'bounds': [25, 33], 'value_type': 'int'},\n",
       " {'name': 'z_r2', 'type': 'range', 'bounds': [72, 86], 'value_type': 'int'},\n",
       " {'name': 'z_r2_1', 'type': 'range', 'bounds': [71, 85], 'value_type': 'int'},\n",
       " {'name': 'z_r2_2', 'type': 'range', 'bounds': [70, 84], 'value_type': 'int'},\n",
       " {'name': 'x_s',\n",
       "  'type': 'range',\n",
       "  'bounds': [-0.48, 0.5],\n",
       "  'value_type': 'float'},\n",
       " {'name': 'x_s_1',\n",
       "  'type': 'range',\n",
       "  'bounds': [-0.49, 0.49],\n",
       "  'value_type': 'float'},\n",
       " {'name': 'x_s_2',\n",
       "  'type': 'range',\n",
       "  'bounds': [-0.5, 0.48],\n",
       "  'value_type': 'float'},\n",
       " {'name': 'x_p1',\n",
       "  'type': 'range',\n",
       "  'bounds': [-0.98, 1.0],\n",
       "  'value_type': 'float'},\n",
       " {'name': 'x_p1_1',\n",
       "  'type': 'range',\n",
       "  'bounds': [-0.99, 0.99],\n",
       "  'value_type': 'float'},\n",
       " {'name': 'x_p1_2',\n",
       "  'type': 'range',\n",
       "  'bounds': [-1.0, 0.98],\n",
       "  'value_type': 'float'},\n",
       " {'name': 'x_p2',\n",
       "  'type': 'range',\n",
       "  'bounds': [-0.48, 0.5],\n",
       "  'value_type': 'float'},\n",
       " {'name': 'x_p2_1',\n",
       "  'type': 'range',\n",
       "  'bounds': [-0.49, 0.49],\n",
       "  'value_type': 'float'},\n",
       " {'name': 'x_p2_2',\n",
       "  'type': 'range',\n",
       "  'bounds': [-0.5, 0.48],\n",
       "  'value_type': 'float'},\n",
       " {'name': 'x_r2',\n",
       "  'type': 'range',\n",
       "  'bounds': [-1.48, 1.5],\n",
       "  'value_type': 'float'},\n",
       " {'name': 'x_r2_1',\n",
       "  'type': 'range',\n",
       "  'bounds': [-1.49, 1.49],\n",
       "  'value_type': 'float'},\n",
       " {'name': 'x_r2_2',\n",
       "  'type': 'range',\n",
       "  'bounds': [-1.5, 1.48],\n",
       "  'value_type': 'float'}]"
      ]
     },
     "execution_count": 7,
     "metadata": {},
     "output_type": "execute_result"
    }
   ],
   "source": [
    "parameters"
   ]
  },
  {
   "cell_type": "code",
   "execution_count": 8,
   "metadata": {},
   "outputs": [
    {
     "data": {
      "text/plain": [
       "['x_s - x_s_1 >= 0.1',\n",
       " 'x_s_1 - x_s_2 >= 0.1',\n",
       " 'x_p1 - x_p1_1 >= 0.1',\n",
       " 'x_p1_1 - x_p1_2 >= 0.1',\n",
       " 'x_p2 - x_p2_1 >= 0.1',\n",
       " 'x_p2_1 - x_p2_2 >= 0.1',\n",
       " 'x_r2 - x_r2_1 >= 0.1',\n",
       " 'x_r2_1 - x_r2_2 >= 0.1']"
      ]
     },
     "execution_count": 8,
     "metadata": {},
     "output_type": "execute_result"
    }
   ],
   "source": [
    "parameter_constraints"
   ]
  },
  {
   "cell_type": "markdown",
   "metadata": {},
   "source": [
    "### Run tests to solve for best possible score    "
   ]
  },
  {
   "cell_type": "code",
   "execution_count": 9,
   "metadata": {},
   "outputs": [
    {
     "name": "stderr",
     "output_type": "stream",
     "text": [
      "[INFO 04-04 12:45:24] ax.service.ax_client: Generated new trial 0 with parameters {'z_s': 4, 'z_s_1': 14, 'z_s_2': 2, 'z_p2': 34, 'z_p2_1': 32, 'z_p2_2': 30, 'z_r2': 85, 'z_r2_1': 79, 'z_r2_2': 80, 'x_s': 0.433086, 'x_s_1': 0.19825, 'x_s_2': -0.267983, 'x_p1': 0.406724, 'x_p1_1': -0.487027, 'x_p1_2': -0.819365, 'x_p2': 0.411736, 'x_p2_1': 0.287, 'x_p2_2': -0.358565, 'x_r2': -0.481922, 'x_r2_1': -0.624526, 'x_r2_2': -1.22582} using model Sobol.\n"
     ]
    }
   ],
   "source": [
    "parameterization, trial_index = Tag_client.get_next_trial()"
   ]
  },
  {
   "cell_type": "code",
   "execution_count": 10,
   "metadata": {},
   "outputs": [
    {
     "data": {
      "text/plain": [
       "{'z_s': 4,\n",
       " 'z_s_1': 14,\n",
       " 'z_s_2': 2,\n",
       " 'z_p2': 34,\n",
       " 'z_p2_1': 32,\n",
       " 'z_p2_2': 30,\n",
       " 'z_r2': 85,\n",
       " 'z_r2_1': 79,\n",
       " 'z_r2_2': 80,\n",
       " 'x_s': 0.43308586079627276,\n",
       " 'x_s_1': 0.19825046056881546,\n",
       " 'x_s_2': -0.2679832748509944,\n",
       " 'x_p1': 0.4067238404043019,\n",
       " 'x_p1_1': -0.48702703295275573,\n",
       " 'x_p1_2': -0.8193650492094458,\n",
       " 'x_p2': 0.4117361406236887,\n",
       " 'x_p2_1': 0.2870000604726374,\n",
       " 'x_p2_2': -0.3585646120645106,\n",
       " 'x_r2': -0.48192237433046103,\n",
       " 'x_r2_1': -0.6245256020314991,\n",
       " 'x_r2_2': -1.2258196312375367}"
      ]
     },
     "execution_count": 10,
     "metadata": {},
     "output_type": "execute_result"
    }
   ],
   "source": [
    "parameterization"
   ]
  },
  {
   "cell_type": "code",
   "execution_count": 11,
   "metadata": {},
   "outputs": [
    {
     "name": "stdout",
     "output_type": "stream",
     "text": [
      "21\n",
      "z_s: 4\n",
      "z_s_1: 14\n",
      "z_s_2: 2\n",
      "z_p2: 34\n",
      "z_p2_1: 32\n",
      "z_p2_2: 30\n",
      "z_r2: 85\n",
      "z_r2_1: 79\n",
      "z_r2_2: 80\n",
      "x_s: 0.43308586079627276\n",
      "x_s_1: 0.19825046056881546\n",
      "x_s_2: -0.2679832748509944\n",
      "x_p1: 0.4067238404043019\n",
      "x_p1_1: -0.48702703295275573\n",
      "x_p1_2: -0.8193650492094458\n",
      "x_p2: 0.4117361406236887\n",
      "x_p2_1: 0.2870000604726374\n",
      "x_p2_2: -0.3585646120645106\n",
      "x_r2: -0.48192237433046103\n",
      "x_r2_1: -0.6245256020314991\n",
      "x_r2_2: -1.2258196312375367\n"
     ]
    }
   ],
   "source": [
    "print(len(parameterization))\n",
    "for name, value in parameterization.items():\n",
    "    print(f\"{name}: {value}\")"
   ]
  },
  {
   "cell_type": "code",
   "execution_count": 12,
   "metadata": {},
   "outputs": [
    {
     "name": "stderr",
     "output_type": "stream",
     "text": [
      "[INFO 04-04 12:45:24] ax.service.ax_client: Completed trial 0 with data: {'Viable_Cross_Terms': (23, None)}.\n"
     ]
    }
   ],
   "source": [
    "Tag_client.complete_trial(trial_index=trial_index, raw_data=score_vals(param_to_list(parameterization)))"
   ]
  },
  {
   "cell_type": "code",
   "execution_count": 25,
   "metadata": {},
   "outputs": [
    {
     "name": "stderr",
     "output_type": "stream",
     "text": [
      "[INFO 04-04 12:45:54] ax.service.ax_client: Generated new trial 41 with parameters {'z_s': 6, 'z_s_1': 13, 'z_s_2': 3, 'z_p2': 31, 'z_p2_1': 31, 'z_p2_2': 25, 'z_r2': 79, 'z_r2_1': 77, 'z_r2_2': 81, 'x_s': 0.191184, 'x_s_1': -0.365945, 'x_s_2': -0.488125, 'x_p1': 0.28213, 'x_p1_1': 0.178436, 'x_p1_2': -0.560587, 'x_p2': 0.495316, 'x_p2_1': 0.104164, 'x_p2_2': -0.202649, 'x_r2': 0.228735, 'x_r2_1': -0.900247, 'x_r2_2': -1.236712} using model Sobol.\n",
      "[INFO 04-04 12:45:54] ax.service.ax_client: Completed trial 41 with data: {'Viable_Cross_Terms': (8, None)}.\n",
      "[INFO 04-04 12:46:29] ax.service.ax_client: Generated new trial 42 with parameters {'z_s': 4, 'z_s_1': 8, 'z_s_2': 2, 'z_p2': 29, 'z_p2_1': 28, 'z_p2_2': 28, 'z_r2': 74, 'z_r2_1': 79, 'z_r2_2': 82, 'x_s': 0.455514, 'x_s_1': -0.036023, 'x_s_2': -0.491559, 'x_p1': 0.297013, 'x_p1_1': -0.292329, 'x_p1_2': -0.625882, 'x_p2': 0.309758, 'x_p2_1': -0.026184, 'x_p2_2': -0.307108, 'x_r2': 1.259227, 'x_r2_1': 0.55061, 'x_r2_2': -0.414799} using model BoTorch.\n",
      "[INFO 04-04 12:46:29] ax.service.ax_client: Completed trial 42 with data: {'Viable_Cross_Terms': (3, None)}.\n",
      "[INFO 04-04 12:46:43] ax.service.ax_client: Generated new trial 43 with parameters {'z_s': 6, 'z_s_1': 4, 'z_s_2': 1, 'z_p2': 29, 'z_p2_1': 26, 'z_p2_2': 28, 'z_r2': 72, 'z_r2_1': 85, 'z_r2_2': 84, 'x_s': 0.5, 'x_s_1': -0.029881, 'x_s_2': -0.310058, 'x_p1': 0.715082, 'x_p1_1': 0.084012, 'x_p1_2': -0.326705, 'x_p2': 0.245697, 'x_p2_1': -0.058724, 'x_p2_2': -0.158724, 'x_r2': 1.250096, 'x_r2_1': 0.047913, 'x_r2_2': -0.052087} using model BoTorch.\n",
      "[INFO 04-04 12:46:43] ax.service.ax_client: Completed trial 43 with data: {'Viable_Cross_Terms': (14, None)}.\n",
      "[INFO 04-04 12:47:04] ax.service.ax_client: Generated new trial 44 with parameters {'z_s': 3, 'z_s_1': 3, 'z_s_2': 1, 'z_p2': 27, 'z_p2_1': 26, 'z_p2_2': 30, 'z_r2': 72, 'z_r2_1': 85, 'z_r2_2': 79, 'x_s': 0.329637, 'x_s_1': -0.184508, 'x_s_2': -0.389609, 'x_p1': 0.661997, 'x_p1_1': -0.199239, 'x_p1_2': -0.428269, 'x_p2': 0.352525, 'x_p2_1': 0.023381, 'x_p2_2': -0.076619, 'x_r2': 1.5, 'x_r2_1': 1.008707, 'x_r2_2': 0.908707} using model BoTorch.\n",
      "[INFO 04-04 12:47:04] ax.service.ax_client: Completed trial 44 with data: {'Viable_Cross_Terms': (3, None)}.\n",
      "[INFO 04-04 12:47:24] ax.service.ax_client: Generated new trial 45 with parameters {'z_s': 3, 'z_s_1': 5, 'z_s_2': 2, 'z_p2': 32, 'z_p2_1': 28, 'z_p2_2': 29, 'z_r2': 75, 'z_r2_1': 85, 'z_r2_2': 75, 'x_s': 0.18985, 'x_s_1': -0.107627, 'x_s_2': -0.347333, 'x_p1': 0.475286, 'x_p1_1': -0.073686, 'x_p1_2': -0.18947, 'x_p2': 0.450905, 'x_p2_1': 0.082641, 'x_p2_2': -0.017359, 'x_r2': 1.5, 'x_r2_1': 0.830718, 'x_r2_2': 0.227418} using model BoTorch.\n",
      "[INFO 04-04 12:47:24] ax.service.ax_client: Completed trial 45 with data: {'Viable_Cross_Terms': (12, None)}.\n",
      "[INFO 04-04 12:47:43] ax.service.ax_client: Generated new trial 46 with parameters {'z_s': 4, 'z_s_1': 3, 'z_s_2': 2, 'z_p2': 28, 'z_p2_1': 27, 'z_p2_2': 29, 'z_r2': 72, 'z_r2_1': 85, 'z_r2_2': 82, 'x_s': 0.435459, 'x_s_1': -0.043358, 'x_s_2': -0.386887, 'x_p1': 0.518372, 'x_p1_1': -0.238724, 'x_p1_2': -0.482384, 'x_p2': 0.304977, 'x_p2_1': -0.047458, 'x_p2_2': -0.148647, 'x_r2': 1.5, 'x_r2_1': 0.538102, 'x_r2_2': 0.236676} using model BoTorch.\n",
      "[INFO 04-04 12:47:43] ax.service.ax_client: Completed trial 46 with data: {'Viable_Cross_Terms': (29, None)}.\n",
      "[INFO 04-04 12:48:10] ax.service.ax_client: Generated new trial 47 with parameters {'z_s': 3, 'z_s_1': 12, 'z_s_2': 6, 'z_p2': 29, 'z_p2_1': 29, 'z_p2_2': 29, 'z_r2': 80, 'z_r2_1': 74, 'z_r2_2': 83, 'x_s': 0.438254, 'x_s_1': -0.0121, 'x_s_2': -0.5, 'x_p1': 0.098873, 'x_p1_1': -0.144943, 'x_p1_2': -0.951659, 'x_p2': 0.20949, 'x_p2_1': 0.000898, 'x_p2_2': -0.5, 'x_r2': 0.656014, 'x_r2_1': 0.482879, 'x_r2_2': -1.342477} using model BoTorch.\n",
      "[INFO 04-04 12:48:10] ax.service.ax_client: Completed trial 47 with data: {'Viable_Cross_Terms': (12, None)}.\n",
      "[INFO 04-04 12:48:29] ax.service.ax_client: Generated new trial 48 with parameters {'z_s': 3, 'z_s_1': 12, 'z_s_2': 10, 'z_p2': 34, 'z_p2_1': 34, 'z_p2_2': 31, 'z_r2': 73, 'z_r2_1': 72, 'z_r2_2': 82, 'x_s': 0.283408, 'x_s_1': -0.377479, 'x_s_2': -0.477479, 'x_p1': 0.178976, 'x_p1_1': 0.078976, 'x_p1_2': -1.0, 'x_p2': 0.264457, 'x_p2_1': 0.164457, 'x_p2_2': -0.339672, 'x_r2': 1.5, 'x_r2_1': 1.4, 'x_r2_2': -1.463761} using model BoTorch.\n",
      "[INFO 04-04 12:48:29] ax.service.ax_client: Completed trial 48 with data: {'Viable_Cross_Terms': (3, None)}.\n",
      "[INFO 04-04 12:49:32] ax.service.ax_client: Generated new trial 49 with parameters {'z_s': 4, 'z_s_1': 5, 'z_s_2': 1, 'z_p2': 29, 'z_p2_1': 26, 'z_p2_2': 29, 'z_r2': 75, 'z_r2_1': 85, 'z_r2_2': 81, 'x_s': 0.353664, 'x_s_1': -0.103259, 'x_s_2': -0.314874, 'x_p1': 0.738048, 'x_p1_1': -0.076543, 'x_p1_2': -0.505192, 'x_p2': 0.298617, 'x_p2_1': -0.05095, 'x_p2_2': -0.17958, 'x_r2': 1.275852, 'x_r2_1': 0.369814, 'x_r2_2': 0.2379} using model BoTorch.\n",
      "[INFO 04-04 12:49:32] ax.service.ax_client: Completed trial 49 with data: {'Viable_Cross_Terms': (2, None)}.\n",
      "[INFO 04-04 12:50:12] ax.service.ax_client: Generated new trial 50 with parameters {'z_s': 4, 'z_s_1': 3, 'z_s_2': 2, 'z_p2': 29, 'z_p2_1': 27, 'z_p2_2': 29, 'z_r2': 72, 'z_r2_1': 85, 'z_r2_2': 81, 'x_s': 0.399617, 'x_s_1': -0.051301, 'x_s_2': -0.379321, 'x_p1': 0.511215, 'x_p1_1': -0.200129, 'x_p1_2': -0.428511, 'x_p2': 0.32519, 'x_p2_1': -0.026883, 'x_p2_2': -0.131704, 'x_r2': 1.492996, 'x_r2_1': 0.552948, 'x_r2_2': 0.219034} using model BoTorch.\n",
      "[INFO 04-04 12:50:12] ax.service.ax_client: Completed trial 50 with data: {'Viable_Cross_Terms': (19, None)}.\n",
      "[INFO 04-04 12:50:39] ax.service.ax_client: Generated new trial 51 with parameters {'z_s': 3, 'z_s_1': 3, 'z_s_2': 3, 'z_p2': 28, 'z_p2_1': 27, 'z_p2_2': 29, 'z_r2': 72, 'z_r2_1': 85, 'z_r2_2': 83, 'x_s': 0.468751, 'x_s_1': -0.020914, 'x_s_2': -0.405706, 'x_p1': 0.460755, 'x_p1_1': -0.216348, 'x_p1_2': -0.438814, 'x_p2': 0.270128, 'x_p2_1': -0.035998, 'x_p2_2': -0.135998, 'x_r2': 1.5, 'x_r2_1': 0.529729, 'x_r2_2': 0.341307} using model BoTorch.\n",
      "[INFO 04-04 12:50:39] ax.service.ax_client: Completed trial 51 with data: {'Viable_Cross_Terms': (21, None)}.\n",
      "[INFO 04-04 12:51:09] ax.service.ax_client: Generated new trial 52 with parameters {'z_s': 4, 'z_s_1': 3, 'z_s_2': 2, 'z_p2': 28, 'z_p2_1': 27, 'z_p2_2': 29, 'z_r2': 72, 'z_r2_1': 85, 'z_r2_2': 82, 'x_s': 0.436611, 'x_s_1': -0.043015, 'x_s_2': -0.380308, 'x_p1': 0.537345, 'x_p1_1': -0.258152, 'x_p1_2': -0.517114, 'x_p2': 0.310816, 'x_p2_1': -0.061356, 'x_p2_2': -0.16259, 'x_r2': 1.499234, 'x_r2_1': 0.509047, 'x_r2_2': 0.161151} using model BoTorch.\n",
      "[INFO 04-04 12:51:09] ax.service.ax_client: Completed trial 52 with data: {'Viable_Cross_Terms': (25, None)}.\n",
      "[INFO 04-04 12:51:34] ax.service.ax_client: Generated new trial 53 with parameters {'z_s': 4, 'z_s_1': 4, 'z_s_2': 2, 'z_p2': 28, 'z_p2_1': 27, 'z_p2_2': 29, 'z_r2': 73, 'z_r2_1': 85, 'z_r2_2': 81, 'x_s': 0.40157, 'x_s_1': -0.060461, 'x_s_2': -0.375382, 'x_p1': 0.539338, 'x_p1_1': -0.203101, 'x_p1_2': -0.452425, 'x_p2': 0.322439, 'x_p2_1': -0.031894, 'x_p2_2': -0.14062, 'x_r2': 1.476841, 'x_r2_1': 0.553717, 'x_r2_2': 0.235989} using model BoTorch.\n",
      "[INFO 04-04 12:51:34] ax.service.ax_client: Completed trial 53 with data: {'Viable_Cross_Terms': (22, None)}.\n",
      "[INFO 04-04 12:51:55] ax.service.ax_client: Generated new trial 54 with parameters {'z_s': 3, 'z_s_1': 5, 'z_s_2': 10, 'z_p2': 31, 'z_p2_1': 33, 'z_p2_2': 29, 'z_r2': 78, 'z_r2_1': 74, 'z_r2_2': 81, 'x_s': 0.288559, 'x_s_1': -0.230414, 'x_s_2': -0.480441, 'x_p1': 0.23595, 'x_p1_1': 0.053786, 'x_p1_2': -0.9896, 'x_p2': 0.333084, 'x_p2_1': 0.233084, 'x_p2_2': -0.446599, 'x_r2': 1.427816, 'x_r2_1': 1.130564, 'x_r2_2': -1.491191} using model BoTorch.\n",
      "[INFO 04-04 12:51:55] ax.service.ax_client: Completed trial 54 with data: {'Viable_Cross_Terms': (28, None)}.\n",
      "[INFO 04-04 12:52:15] ax.service.ax_client: Generated new trial 55 with parameters {'z_s': 3, 'z_s_1': 5, 'z_s_2': 11, 'z_p2': 30, 'z_p2_1': 34, 'z_p2_2': 29, 'z_r2': 77, 'z_r2_1': 71, 'z_r2_2': 81, 'x_s': 0.26845, 'x_s_1': -0.353112, 'x_s_2': -0.5, 'x_p1': 0.165403, 'x_p1_1': 0.031065, 'x_p1_2': -1.0, 'x_p2': 0.429491, 'x_p2_1': 0.329491, 'x_p2_2': -0.437553, 'x_r2': 1.5, 'x_r2_1': 1.4, 'x_r2_2': -1.5} using model BoTorch.\n",
      "[INFO 04-04 12:52:15] ax.service.ax_client: Completed trial 55 with data: {'Viable_Cross_Terms': (0, None)}.\n",
      "[INFO 04-04 12:52:33] ax.service.ax_client: Generated new trial 56 with parameters {'z_s': 3, 'z_s_1': 7, 'z_s_2': 8, 'z_p2': 31, 'z_p2_1': 32, 'z_p2_2': 29, 'z_r2': 78, 'z_r2_1': 78, 'z_r2_2': 81, 'x_s': 0.323588, 'x_s_1': -0.056415, 'x_s_2': -0.45563, 'x_p1': 0.292615, 'x_p1_1': 0.059039, 'x_p1_2': -0.96737, 'x_p2': 0.176251, 'x_p2_1': 0.06639, 'x_p2_2': -0.443964, 'x_r2': 1.36509, 'x_r2_1': 0.830403, 'x_r2_2': -1.46863} using model BoTorch.\n",
      "[INFO 04-04 12:52:33] ax.service.ax_client: Completed trial 56 with data: {'Viable_Cross_Terms': (24, None)}.\n",
      "[INFO 04-04 12:52:50] ax.service.ax_client: Generated new trial 57 with parameters {'z_s': 6, 'z_s_1': 3, 'z_s_2': 1, 'z_p2': 28, 'z_p2_1': 27, 'z_p2_2': 29, 'z_r2': 72, 'z_r2_1': 85, 'z_r2_2': 81, 'x_s': 0.388213, 'x_s_1': -0.056602, 'x_s_2': -0.41517, 'x_p1': 0.405932, 'x_p1_1': -0.059912, 'x_p1_2': -0.1978, 'x_p2': 0.289946, 'x_p2_1': 0.062773, 'x_p2_2': -0.040842, 'x_r2': 1.488108, 'x_r2_1': 0.748246, 'x_r2_2': 0.648246} using model BoTorch.\n",
      "[INFO 04-04 12:52:50] ax.service.ax_client: Completed trial 57 with data: {'Viable_Cross_Terms': (18, None)}.\n",
      "[INFO 04-04 12:53:08] ax.service.ax_client: Generated new trial 58 with parameters {'z_s': 3, 'z_s_1': 7, 'z_s_2': 11, 'z_p2': 31, 'z_p2_1': 34, 'z_p2_2': 29, 'z_r2': 78, 'z_r2_1': 71, 'z_r2_2': 81, 'x_s': 0.245222, 'x_s_1': -0.4, 'x_s_2': -0.5, 'x_p1': -0.181997, 'x_p1_1': -0.281997, 'x_p1_2': -0.941601, 'x_p2': 0.434147, 'x_p2_1': 0.208217, 'x_p2_2': -0.324625, 'x_r2': 1.5, 'x_r2_1': 1.4, 'x_r2_2': -1.402053} using model BoTorch.\n",
      "[INFO 04-04 12:53:08] ax.service.ax_client: Completed trial 58 with data: {'Viable_Cross_Terms': (9, None)}.\n",
      "[INFO 04-04 12:53:26] ax.service.ax_client: Generated new trial 59 with parameters {'z_s': 5, 'z_s_1': 3, 'z_s_2': 1, 'z_p2': 28, 'z_p2_1': 27, 'z_p2_2': 29, 'z_r2': 72, 'z_r2_1': 85, 'z_r2_2': 81, 'x_s': 0.410875, 'x_s_1': -0.057225, 'x_s_2': -0.386869, 'x_p1': 0.515354, 'x_p1_1': -0.203316, 'x_p1_2': -0.431746, 'x_p2': 0.313649, 'x_p2_1': -0.024471, 'x_p2_2': -0.127743, 'x_r2': 1.493929, 'x_r2_1': 0.593686, 'x_r2_2': 0.316628} using model BoTorch.\n",
      "[INFO 04-04 12:53:26] ax.service.ax_client: Completed trial 59 with data: {'Viable_Cross_Terms': (17, None)}.\n",
      "[INFO 04-04 12:53:43] ax.service.ax_client: Generated new trial 60 with parameters {'z_s': 3, 'z_s_1': 7, 'z_s_2': 10, 'z_p2': 31, 'z_p2_1': 34, 'z_p2_2': 29, 'z_r2': 78, 'z_r2_1': 73, 'z_r2_2': 81, 'x_s': 0.28451, 'x_s_1': -0.282359, 'x_s_2': -0.490721, 'x_p1': 0.157001, 'x_p1_1': 0.010528, 'x_p1_2': -0.970629, 'x_p2': 0.358397, 'x_p2_1': 0.234251, 'x_p2_2': -0.420132, 'x_r2': 1.463506, 'x_r2_1': 1.2533, 'x_r2_2': -1.476188} using model BoTorch.\n",
      "[INFO 04-04 12:53:43] ax.service.ax_client: Completed trial 60 with data: {'Viable_Cross_Terms': (22, None)}.\n"
     ]
    }
   ],
   "source": [
    "for i in range(20):\n",
    "    parameterization, trial_index = Tag_client.get_next_trial()\n",
    "    # Local evaluation here can be replaced with deployment to external system.\n",
    "    Tag_client.complete_trial(trial_index=trial_index, raw_data=score_vals(param_to_list(parameterization)))"
   ]
  },
  {
   "cell_type": "code",
   "execution_count": 26,
   "metadata": {},
   "outputs": [
    {
     "data": {
      "text/html": [
       "<div>\n",
       "<style scoped>\n",
       "    .dataframe tbody tr th:only-of-type {\n",
       "        vertical-align: middle;\n",
       "    }\n",
       "\n",
       "    .dataframe tbody tr th {\n",
       "        vertical-align: top;\n",
       "    }\n",
       "\n",
       "    .dataframe thead th {\n",
       "        text-align: right;\n",
       "    }\n",
       "</style>\n",
       "<table border=\"1\" class=\"dataframe\">\n",
       "  <thead>\n",
       "    <tr style=\"text-align: right;\">\n",
       "      <th></th>\n",
       "      <th>trial_index</th>\n",
       "      <th>arm_name</th>\n",
       "      <th>trial_status</th>\n",
       "      <th>generation_method</th>\n",
       "      <th>generation_node</th>\n",
       "      <th>Viable_Cross_Terms</th>\n",
       "      <th>z_s</th>\n",
       "      <th>z_s_1</th>\n",
       "      <th>z_s_2</th>\n",
       "      <th>z_p2</th>\n",
       "      <th>...</th>\n",
       "      <th>x_s_2</th>\n",
       "      <th>x_p1</th>\n",
       "      <th>x_p1_1</th>\n",
       "      <th>x_p1_2</th>\n",
       "      <th>x_p2</th>\n",
       "      <th>x_p2_1</th>\n",
       "      <th>x_p2_2</th>\n",
       "      <th>x_r2</th>\n",
       "      <th>x_r2_1</th>\n",
       "      <th>x_r2_2</th>\n",
       "    </tr>\n",
       "  </thead>\n",
       "  <tbody>\n",
       "    <tr>\n",
       "      <th>0</th>\n",
       "      <td>0</td>\n",
       "      <td>0_0</td>\n",
       "      <td>COMPLETED</td>\n",
       "      <td>Sobol</td>\n",
       "      <td>GenerationStep_0</td>\n",
       "      <td>23.0</td>\n",
       "      <td>4</td>\n",
       "      <td>14</td>\n",
       "      <td>2</td>\n",
       "      <td>34</td>\n",
       "      <td>...</td>\n",
       "      <td>-0.267983</td>\n",
       "      <td>0.406724</td>\n",
       "      <td>-0.487027</td>\n",
       "      <td>-0.819365</td>\n",
       "      <td>0.411736</td>\n",
       "      <td>0.287000</td>\n",
       "      <td>-0.358565</td>\n",
       "      <td>-0.481922</td>\n",
       "      <td>-0.624526</td>\n",
       "      <td>-1.225820</td>\n",
       "    </tr>\n",
       "    <tr>\n",
       "      <th>1</th>\n",
       "      <td>1</td>\n",
       "      <td>1_0</td>\n",
       "      <td>COMPLETED</td>\n",
       "      <td>Sobol</td>\n",
       "      <td>GenerationStep_0</td>\n",
       "      <td>0.0</td>\n",
       "      <td>13</td>\n",
       "      <td>14</td>\n",
       "      <td>3</td>\n",
       "      <td>30</td>\n",
       "      <td>...</td>\n",
       "      <td>-0.424703</td>\n",
       "      <td>-0.096240</td>\n",
       "      <td>-0.748804</td>\n",
       "      <td>-0.956622</td>\n",
       "      <td>-0.089115</td>\n",
       "      <td>-0.216367</td>\n",
       "      <td>-0.359825</td>\n",
       "      <td>1.397608</td>\n",
       "      <td>1.015468</td>\n",
       "      <td>0.619523</td>\n",
       "    </tr>\n",
       "    <tr>\n",
       "      <th>2</th>\n",
       "      <td>2</td>\n",
       "      <td>2_0</td>\n",
       "      <td>COMPLETED</td>\n",
       "      <td>Sobol</td>\n",
       "      <td>GenerationStep_0</td>\n",
       "      <td>10.0</td>\n",
       "      <td>15</td>\n",
       "      <td>3</td>\n",
       "      <td>4</td>\n",
       "      <td>30</td>\n",
       "      <td>...</td>\n",
       "      <td>-0.362195</td>\n",
       "      <td>0.393837</td>\n",
       "      <td>-0.278691</td>\n",
       "      <td>-0.743073</td>\n",
       "      <td>0.103719</td>\n",
       "      <td>-0.109155</td>\n",
       "      <td>-0.447294</td>\n",
       "      <td>-0.475565</td>\n",
       "      <td>-0.885141</td>\n",
       "      <td>-1.117790</td>\n",
       "    </tr>\n",
       "    <tr>\n",
       "      <th>3</th>\n",
       "      <td>3</td>\n",
       "      <td>3_0</td>\n",
       "      <td>COMPLETED</td>\n",
       "      <td>Sobol</td>\n",
       "      <td>GenerationStep_0</td>\n",
       "      <td>15.0</td>\n",
       "      <td>9</td>\n",
       "      <td>8</td>\n",
       "      <td>8</td>\n",
       "      <td>27</td>\n",
       "      <td>...</td>\n",
       "      <td>-0.436929</td>\n",
       "      <td>0.900059</td>\n",
       "      <td>0.235358</td>\n",
       "      <td>-0.653168</td>\n",
       "      <td>-0.140779</td>\n",
       "      <td>-0.320558</td>\n",
       "      <td>-0.447464</td>\n",
       "      <td>1.113364</td>\n",
       "      <td>-0.140545</td>\n",
       "      <td>-1.117658</td>\n",
       "    </tr>\n",
       "    <tr>\n",
       "      <th>4</th>\n",
       "      <td>4</td>\n",
       "      <td>4_0</td>\n",
       "      <td>COMPLETED</td>\n",
       "      <td>Sobol</td>\n",
       "      <td>GenerationStep_0</td>\n",
       "      <td>12.0</td>\n",
       "      <td>4</td>\n",
       "      <td>6</td>\n",
       "      <td>1</td>\n",
       "      <td>31</td>\n",
       "      <td>...</td>\n",
       "      <td>-0.444333</td>\n",
       "      <td>0.652787</td>\n",
       "      <td>0.471753</td>\n",
       "      <td>-0.766865</td>\n",
       "      <td>0.478475</td>\n",
       "      <td>0.350862</td>\n",
       "      <td>-0.386281</td>\n",
       "      <td>0.163649</td>\n",
       "      <td>-1.097523</td>\n",
       "      <td>-1.374402</td>\n",
       "    </tr>\n",
       "    <tr>\n",
       "      <th>...</th>\n",
       "      <td>...</td>\n",
       "      <td>...</td>\n",
       "      <td>...</td>\n",
       "      <td>...</td>\n",
       "      <td>...</td>\n",
       "      <td>...</td>\n",
       "      <td>...</td>\n",
       "      <td>...</td>\n",
       "      <td>...</td>\n",
       "      <td>...</td>\n",
       "      <td>...</td>\n",
       "      <td>...</td>\n",
       "      <td>...</td>\n",
       "      <td>...</td>\n",
       "      <td>...</td>\n",
       "      <td>...</td>\n",
       "      <td>...</td>\n",
       "      <td>...</td>\n",
       "      <td>...</td>\n",
       "      <td>...</td>\n",
       "      <td>...</td>\n",
       "    </tr>\n",
       "    <tr>\n",
       "      <th>56</th>\n",
       "      <td>56</td>\n",
       "      <td>56_0</td>\n",
       "      <td>COMPLETED</td>\n",
       "      <td>BoTorch</td>\n",
       "      <td>GenerationStep_1</td>\n",
       "      <td>24.0</td>\n",
       "      <td>3</td>\n",
       "      <td>7</td>\n",
       "      <td>8</td>\n",
       "      <td>31</td>\n",
       "      <td>...</td>\n",
       "      <td>-0.455630</td>\n",
       "      <td>0.292615</td>\n",
       "      <td>0.059039</td>\n",
       "      <td>-0.967370</td>\n",
       "      <td>0.176251</td>\n",
       "      <td>0.066390</td>\n",
       "      <td>-0.443964</td>\n",
       "      <td>1.365090</td>\n",
       "      <td>0.830403</td>\n",
       "      <td>-1.468630</td>\n",
       "    </tr>\n",
       "    <tr>\n",
       "      <th>57</th>\n",
       "      <td>57</td>\n",
       "      <td>57_0</td>\n",
       "      <td>COMPLETED</td>\n",
       "      <td>BoTorch</td>\n",
       "      <td>GenerationStep_1</td>\n",
       "      <td>18.0</td>\n",
       "      <td>6</td>\n",
       "      <td>3</td>\n",
       "      <td>1</td>\n",
       "      <td>28</td>\n",
       "      <td>...</td>\n",
       "      <td>-0.415170</td>\n",
       "      <td>0.405932</td>\n",
       "      <td>-0.059912</td>\n",
       "      <td>-0.197800</td>\n",
       "      <td>0.289946</td>\n",
       "      <td>0.062773</td>\n",
       "      <td>-0.040842</td>\n",
       "      <td>1.488108</td>\n",
       "      <td>0.748246</td>\n",
       "      <td>0.648246</td>\n",
       "    </tr>\n",
       "    <tr>\n",
       "      <th>58</th>\n",
       "      <td>58</td>\n",
       "      <td>58_0</td>\n",
       "      <td>COMPLETED</td>\n",
       "      <td>BoTorch</td>\n",
       "      <td>GenerationStep_1</td>\n",
       "      <td>9.0</td>\n",
       "      <td>3</td>\n",
       "      <td>7</td>\n",
       "      <td>11</td>\n",
       "      <td>31</td>\n",
       "      <td>...</td>\n",
       "      <td>-0.500000</td>\n",
       "      <td>-0.181997</td>\n",
       "      <td>-0.281997</td>\n",
       "      <td>-0.941601</td>\n",
       "      <td>0.434147</td>\n",
       "      <td>0.208217</td>\n",
       "      <td>-0.324625</td>\n",
       "      <td>1.500000</td>\n",
       "      <td>1.400000</td>\n",
       "      <td>-1.402053</td>\n",
       "    </tr>\n",
       "    <tr>\n",
       "      <th>59</th>\n",
       "      <td>59</td>\n",
       "      <td>59_0</td>\n",
       "      <td>COMPLETED</td>\n",
       "      <td>BoTorch</td>\n",
       "      <td>GenerationStep_1</td>\n",
       "      <td>17.0</td>\n",
       "      <td>5</td>\n",
       "      <td>3</td>\n",
       "      <td>1</td>\n",
       "      <td>28</td>\n",
       "      <td>...</td>\n",
       "      <td>-0.386869</td>\n",
       "      <td>0.515354</td>\n",
       "      <td>-0.203316</td>\n",
       "      <td>-0.431746</td>\n",
       "      <td>0.313649</td>\n",
       "      <td>-0.024471</td>\n",
       "      <td>-0.127743</td>\n",
       "      <td>1.493929</td>\n",
       "      <td>0.593686</td>\n",
       "      <td>0.316628</td>\n",
       "    </tr>\n",
       "    <tr>\n",
       "      <th>60</th>\n",
       "      <td>60</td>\n",
       "      <td>60_0</td>\n",
       "      <td>COMPLETED</td>\n",
       "      <td>BoTorch</td>\n",
       "      <td>GenerationStep_1</td>\n",
       "      <td>22.0</td>\n",
       "      <td>3</td>\n",
       "      <td>7</td>\n",
       "      <td>10</td>\n",
       "      <td>31</td>\n",
       "      <td>...</td>\n",
       "      <td>-0.490721</td>\n",
       "      <td>0.157001</td>\n",
       "      <td>0.010528</td>\n",
       "      <td>-0.970629</td>\n",
       "      <td>0.358397</td>\n",
       "      <td>0.234251</td>\n",
       "      <td>-0.420132</td>\n",
       "      <td>1.463506</td>\n",
       "      <td>1.253300</td>\n",
       "      <td>-1.476188</td>\n",
       "    </tr>\n",
       "  </tbody>\n",
       "</table>\n",
       "<p>61 rows × 27 columns</p>\n",
       "</div>"
      ],
      "text/plain": [
       "    trial_index arm_name trial_status generation_method   generation_node  \\\n",
       "0             0      0_0    COMPLETED             Sobol  GenerationStep_0   \n",
       "1             1      1_0    COMPLETED             Sobol  GenerationStep_0   \n",
       "2             2      2_0    COMPLETED             Sobol  GenerationStep_0   \n",
       "3             3      3_0    COMPLETED             Sobol  GenerationStep_0   \n",
       "4             4      4_0    COMPLETED             Sobol  GenerationStep_0   \n",
       "..          ...      ...          ...               ...               ...   \n",
       "56           56     56_0    COMPLETED           BoTorch  GenerationStep_1   \n",
       "57           57     57_0    COMPLETED           BoTorch  GenerationStep_1   \n",
       "58           58     58_0    COMPLETED           BoTorch  GenerationStep_1   \n",
       "59           59     59_0    COMPLETED           BoTorch  GenerationStep_1   \n",
       "60           60     60_0    COMPLETED           BoTorch  GenerationStep_1   \n",
       "\n",
       "    Viable_Cross_Terms  z_s  z_s_1  z_s_2  z_p2  ...     x_s_2      x_p1  \\\n",
       "0                 23.0    4     14      2    34  ... -0.267983  0.406724   \n",
       "1                  0.0   13     14      3    30  ... -0.424703 -0.096240   \n",
       "2                 10.0   15      3      4    30  ... -0.362195  0.393837   \n",
       "3                 15.0    9      8      8    27  ... -0.436929  0.900059   \n",
       "4                 12.0    4      6      1    31  ... -0.444333  0.652787   \n",
       "..                 ...  ...    ...    ...   ...  ...       ...       ...   \n",
       "56                24.0    3      7      8    31  ... -0.455630  0.292615   \n",
       "57                18.0    6      3      1    28  ... -0.415170  0.405932   \n",
       "58                 9.0    3      7     11    31  ... -0.500000 -0.181997   \n",
       "59                17.0    5      3      1    28  ... -0.386869  0.515354   \n",
       "60                22.0    3      7     10    31  ... -0.490721  0.157001   \n",
       "\n",
       "      x_p1_1    x_p1_2      x_p2    x_p2_1    x_p2_2      x_r2    x_r2_1  \\\n",
       "0  -0.487027 -0.819365  0.411736  0.287000 -0.358565 -0.481922 -0.624526   \n",
       "1  -0.748804 -0.956622 -0.089115 -0.216367 -0.359825  1.397608  1.015468   \n",
       "2  -0.278691 -0.743073  0.103719 -0.109155 -0.447294 -0.475565 -0.885141   \n",
       "3   0.235358 -0.653168 -0.140779 -0.320558 -0.447464  1.113364 -0.140545   \n",
       "4   0.471753 -0.766865  0.478475  0.350862 -0.386281  0.163649 -1.097523   \n",
       "..       ...       ...       ...       ...       ...       ...       ...   \n",
       "56  0.059039 -0.967370  0.176251  0.066390 -0.443964  1.365090  0.830403   \n",
       "57 -0.059912 -0.197800  0.289946  0.062773 -0.040842  1.488108  0.748246   \n",
       "58 -0.281997 -0.941601  0.434147  0.208217 -0.324625  1.500000  1.400000   \n",
       "59 -0.203316 -0.431746  0.313649 -0.024471 -0.127743  1.493929  0.593686   \n",
       "60  0.010528 -0.970629  0.358397  0.234251 -0.420132  1.463506  1.253300   \n",
       "\n",
       "      x_r2_2  \n",
       "0  -1.225820  \n",
       "1   0.619523  \n",
       "2  -1.117790  \n",
       "3  -1.117658  \n",
       "4  -1.374402  \n",
       "..       ...  \n",
       "56 -1.468630  \n",
       "57  0.648246  \n",
       "58 -1.402053  \n",
       "59  0.316628  \n",
       "60 -1.476188  \n",
       "\n",
       "[61 rows x 27 columns]"
      ]
     },
     "execution_count": 26,
     "metadata": {},
     "output_type": "execute_result"
    }
   ],
   "source": [
    "Tag_client.generation_strategy.trials_as_df"
   ]
  },
  {
   "cell_type": "code",
   "execution_count": 30,
   "metadata": {},
   "outputs": [
    {
     "name": "stderr",
     "output_type": "stream",
     "text": [
      "[INFO 04-04 13:48:51] ax.service.ax_client: Generated new trial 161 with parameters {'z_s': 3, 'z_s_1': 7, 'z_s_2': 5, 'z_p2': 31, 'z_p2_1': 33, 'z_p2_2': 29, 'z_r2': 78, 'z_r2_1': 81, 'z_r2_2': 84, 'x_s': 0.367863, 'x_s_1': 0.151035, 'x_s_2': -0.303731, 'x_p1': 0.208029, 'x_p1_1': -0.228656, 'x_p1_2': -0.972278, 'x_p2': 0.302411, 'x_p2_1': 0.15043, 'x_p2_2': -0.426299, 'x_r2': 1.5, 'x_r2_1': -0.554761, 'x_r2_2': -1.5} using model BoTorch.\n",
      "[INFO 04-04 13:48:51] ax.service.ax_client: Completed trial 161 with data: {'Viable_Cross_Terms': (17, None)}.\n",
      "[INFO 04-04 13:49:21] ax.service.ax_client: Generated new trial 162 with parameters {'z_s': 3, 'z_s_1': 5, 'z_s_2': 9, 'z_p2': 32, 'z_p2_1': 28, 'z_p2_2': 29, 'z_r2': 76, 'z_r2_1': 71, 'z_r2_2': 83, 'x_s': 0.309096, 'x_s_1': 0.209096, 'x_s_2': -0.5, 'x_p1': 0.984916, 'x_p1_1': 0.884916, 'x_p1_2': -1.0, 'x_p2': 0.102638, 'x_p2_1': 0.002638, 'x_p2_2': -0.5, 'x_r2': 1.439619, 'x_r2_1': -0.217007, 'x_r2_2': -1.5} using model BoTorch.\n",
      "[INFO 04-04 13:49:21] ax.service.ax_client: Completed trial 162 with data: {'Viable_Cross_Terms': (6, None)}.\n",
      "[INFO 04-04 13:49:46] ax.service.ax_client: Generated new trial 163 with parameters {'z_s': 3, 'z_s_1': 2, 'z_s_2': 9, 'z_p2': 31, 'z_p2_1': 26, 'z_p2_2': 29, 'z_r2': 78, 'z_r2_1': 73, 'z_r2_2': 79, 'x_s': 0.308146, 'x_s_1': -0.125944, 'x_s_2': -0.499208, 'x_p1': 0.990276, 'x_p1_1': 0.701445, 'x_p1_2': -1.0, 'x_p2': 0.077796, 'x_p2_1': -0.022204, 'x_p2_2': -0.5, 'x_r2': 1.297243, 'x_r2_1': -0.176238, 'x_r2_2': -1.5} using model BoTorch.\n",
      "[INFO 04-04 13:49:46] ax.service.ax_client: Completed trial 163 with data: {'Viable_Cross_Terms': (33, None)}.\n",
      "[INFO 04-04 13:50:06] ax.service.ax_client: Generated new trial 164 with parameters {'z_s': 3, 'z_s_1': 2, 'z_s_2': 9, 'z_p2': 31, 'z_p2_1': 27, 'z_p2_2': 29, 'z_r2': 78, 'z_r2_1': 74, 'z_r2_2': 84, 'x_s': 0.332616, 'x_s_1': 0.232616, 'x_s_2': -0.5, 'x_p1': 0.465068, 'x_p1_1': 0.365068, 'x_p1_2': -1.0, 'x_p2': 0.079443, 'x_p2_1': -0.020557, 'x_p2_2': -0.5, 'x_r2': 0.602567, 'x_r2_1': -0.40994, 'x_r2_2': -1.5} using model BoTorch.\n",
      "[INFO 04-04 13:50:06] ax.service.ax_client: Completed trial 164 with data: {'Viable_Cross_Terms': (33, None)}.\n",
      "[INFO 04-04 13:50:33] ax.service.ax_client: Generated new trial 165 with parameters {'z_s': 3, 'z_s_1': 4, 'z_s_2': 9, 'z_p2': 31, 'z_p2_1': 28, 'z_p2_2': 29, 'z_r2': 78, 'z_r2_1': 71, 'z_r2_2': 83, 'x_s': 0.348139, 'x_s_1': 0.181077, 'x_s_2': -0.5, 'x_p1': 0.856911, 'x_p1_1': 0.505039, 'x_p1_2': -1.0, 'x_p2': 0.123008, 'x_p2_1': 0.023008, 'x_p2_2': -0.5, 'x_r2': 0.878294, 'x_r2_1': -0.021526, 'x_r2_2': -1.5} using model BoTorch.\n",
      "[INFO 04-04 13:50:33] ax.service.ax_client: Completed trial 165 with data: {'Viable_Cross_Terms': (40, None)}.\n",
      "[INFO 04-04 13:50:56] ax.service.ax_client: Generated new trial 166 with parameters {'z_s': 3, 'z_s_1': 7, 'z_s_2': 4, 'z_p2': 31, 'z_p2_1': 31, 'z_p2_2': 29, 'z_r2': 79, 'z_r2_1': 75, 'z_r2_2': 84, 'x_s': 0.490088, 'x_s_1': 0.032908, 'x_s_2': -0.4131, 'x_p1': 0.158088, 'x_p1_1': -0.104946, 'x_p1_2': -1.0, 'x_p2': 0.024436, 'x_p2_1': -0.075564, 'x_p2_2': -0.211663, 'x_r2': 1.354736, 'x_r2_1': -0.077407, 'x_r2_2': -1.423713} using model BoTorch.\n",
      "[INFO 04-04 13:50:56] ax.service.ax_client: Completed trial 166 with data: {'Viable_Cross_Terms': (23, None)}.\n",
      "[INFO 04-04 13:51:27] ax.service.ax_client: Generated new trial 167 with parameters {'z_s': 3, 'z_s_1': 2, 'z_s_2': 2, 'z_p2': 28, 'z_p2_1': 29, 'z_p2_2': 28, 'z_r2': 73, 'z_r2_1': 85, 'z_r2_2': 80, 'x_s': 0.5, 'x_s_1': 0.003183, 'x_s_2': -0.290672, 'x_p1': 0.726539, 'x_p1_1': -0.627619, 'x_p1_2': -0.954541, 'x_p2': 0.388024, 'x_p2_1': -0.191058, 'x_p2_2': -0.291058, 'x_r2': 1.5, 'x_r2_1': 0.263698, 'x_r2_2': -0.437637} using model BoTorch.\n",
      "[INFO 04-04 13:51:27] ax.service.ax_client: Completed trial 167 with data: {'Viable_Cross_Terms': (14, None)}.\n",
      "[INFO 04-04 13:51:49] ax.service.ax_client: Generated new trial 168 with parameters {'z_s': 5, 'z_s_1': 6, 'z_s_2': 2, 'z_p2': 31, 'z_p2_1': 28, 'z_p2_2': 30, 'z_r2': 78, 'z_r2_1': 72, 'z_r2_2': 73, 'x_s': 0.5, 'x_s_1': 0.047642, 'x_s_2': -0.282292, 'x_p1': 0.829419, 'x_p1_1': 0.729419, 'x_p1_2': -0.963715, 'x_p2': 0.278087, 'x_p2_1': 0.178087, 'x_p2_2': -0.5, 'x_r2': 1.257147, 'x_r2_1': -0.217822, 'x_r2_2': -1.5} using model BoTorch.\n",
      "[INFO 04-04 13:51:49] ax.service.ax_client: Completed trial 168 with data: {'Viable_Cross_Terms': (22, None)}.\n",
      "[INFO 04-04 13:52:18] ax.service.ax_client: Generated new trial 169 with parameters {'z_s': 3, 'z_s_1': 5, 'z_s_2': 9, 'z_p2': 31, 'z_p2_1': 29, 'z_p2_2': 29, 'z_r2': 78, 'z_r2_1': 71, 'z_r2_2': 83, 'x_s': 0.339383, 'x_s_1': 0.144213, 'x_s_2': -0.168175, 'x_p1': 0.521377, 'x_p1_1': 0.421377, 'x_p1_2': -1.0, 'x_p2': 0.102275, 'x_p2_1': 0.002275, 'x_p2_2': -0.5, 'x_r2': 1.5, 'x_r2_1': -0.775199, 'x_r2_2': -1.5} using model BoTorch.\n",
      "[INFO 04-04 13:52:18] ax.service.ax_client: Completed trial 169 with data: {'Viable_Cross_Terms': (25, None)}.\n",
      "[INFO 04-04 13:52:43] ax.service.ax_client: Generated new trial 170 with parameters {'z_s': 3, 'z_s_1': 5, 'z_s_2': 9, 'z_p2': 31, 'z_p2_1': 26, 'z_p2_2': 30, 'z_r2': 81, 'z_r2_1': 73, 'z_r2_2': 84, 'x_s': 0.198466, 'x_s_1': 0.098466, 'x_s_2': -0.5, 'x_p1': 0.909053, 'x_p1_1': 0.684821, 'x_p1_2': -1.0, 'x_p2': 0.096386, 'x_p2_1': -0.003614, 'x_p2_2': -0.5, 'x_r2': 0.509981, 'x_r2_1': 0.074891, 'x_r2_2': -1.5} using model BoTorch.\n",
      "[INFO 04-04 13:52:43] ax.service.ax_client: Completed trial 170 with data: {'Viable_Cross_Terms': (10, None)}.\n",
      "[INFO 04-04 13:53:02] ax.service.ax_client: Generated new trial 171 with parameters {'z_s': 3, 'z_s_1': 4, 'z_s_2': 9, 'z_p2': 31, 'z_p2_1': 26, 'z_p2_2': 29, 'z_r2': 78, 'z_r2_1': 73, 'z_r2_2': 83, 'x_s': 0.385334, 'x_s_1': 0.015872, 'x_s_2': -0.5, 'x_p1': 0.796667, 'x_p1_1': 0.696667, 'x_p1_2': -1.0, 'x_p2': 0.112476, 'x_p2_1': 0.012476, 'x_p2_2': -0.5, 'x_r2': 0.843857, 'x_r2_1': -0.322496, 'x_r2_2': -1.5} using model BoTorch.\n",
      "[INFO 04-04 13:53:02] ax.service.ax_client: Completed trial 171 with data: {'Viable_Cross_Terms': (42, None)}.\n",
      "[INFO 04-04 13:53:26] ax.service.ax_client: Generated new trial 172 with parameters {'z_s': 3, 'z_s_1': 5, 'z_s_2': 9, 'z_p2': 31, 'z_p2_1': 27, 'z_p2_2': 29, 'z_r2': 78, 'z_r2_1': 74, 'z_r2_2': 83, 'x_s': 0.373718, 'x_s_1': 0.146104, 'x_s_2': -0.5, 'x_p1': 0.645166, 'x_p1_1': 0.231111, 'x_p1_2': -1.0, 'x_p2': 0.092371, 'x_p2_1': -0.007629, 'x_p2_2': -0.5, 'x_r2': 1.49991, 'x_r2_1': -0.422112, 'x_r2_2': -1.5} using model BoTorch.\n",
      "[INFO 04-04 13:53:26] ax.service.ax_client: Completed trial 172 with data: {'Viable_Cross_Terms': (26, None)}.\n",
      "[INFO 04-04 13:53:57] ax.service.ax_client: Generated new trial 173 with parameters {'z_s': 3, 'z_s_1': 6, 'z_s_2': 2, 'z_p2': 31, 'z_p2_1': 32, 'z_p2_2': 29, 'z_r2': 78, 'z_r2_1': 75, 'z_r2_2': 83, 'x_s': 0.491137, 'x_s_1': 0.056362, 'x_s_2': -0.236287, 'x_p1': 0.667631, 'x_p1_1': 0.53733, 'x_p1_2': -1.0, 'x_p2': 0.296947, 'x_p2_1': 0.196947, 'x_p2_2': -0.5, 'x_r2': 1.25313, 'x_r2_1': -1.181814, 'x_r2_2': -1.5} using model BoTorch.\n",
      "[INFO 04-04 13:53:57] ax.service.ax_client: Completed trial 173 with data: {'Viable_Cross_Terms': (23, None)}.\n",
      "[INFO 04-04 13:54:15] ax.service.ax_client: Generated new trial 174 with parameters {'z_s': 3, 'z_s_1': 4, 'z_s_2': 9, 'z_p2': 31, 'z_p2_1': 29, 'z_p2_2': 29, 'z_r2': 78, 'z_r2_1': 73, 'z_r2_2': 79, 'x_s': 0.175281, 'x_s_1': 0.075281, 'x_s_2': -0.5, 'x_p1': 0.840479, 'x_p1_1': 0.740479, 'x_p1_2': -1.0, 'x_p2': 0.084551, 'x_p2_1': -0.015449, 'x_p2_2': -0.5, 'x_r2': 0.791682, 'x_r2_1': -0.016328, 'x_r2_2': -1.5} using model BoTorch.\n",
      "[INFO 04-04 13:54:15] ax.service.ax_client: Completed trial 174 with data: {'Viable_Cross_Terms': (35, None)}.\n",
      "[INFO 04-04 13:54:45] ax.service.ax_client: Generated new trial 175 with parameters {'z_s': 3, 'z_s_1': 4, 'z_s_2': 9, 'z_p2': 31, 'z_p2_1': 30, 'z_p2_2': 29, 'z_r2': 78, 'z_r2_1': 73, 'z_r2_2': 81, 'x_s': 0.34819, 'x_s_1': -0.095522, 'x_s_2': -0.5, 'x_p1': 0.834029, 'x_p1_1': 0.734029, 'x_p1_2': -1.0, 'x_p2': 0.101993, 'x_p2_1': 0.001993, 'x_p2_2': -0.5, 'x_r2': 0.163603, 'x_r2_1': -0.144297, 'x_r2_2': -1.5} using model BoTorch.\n",
      "[INFO 04-04 13:54:45] ax.service.ax_client: Completed trial 175 with data: {'Viable_Cross_Terms': (35, None)}.\n",
      "[INFO 04-04 13:55:07] ax.service.ax_client: Generated new trial 176 with parameters {'z_s': 6, 'z_s_1': 7, 'z_s_2': 1, 'z_p2': 31, 'z_p2_1': 32, 'z_p2_2': 30, 'z_r2': 78, 'z_r2_1': 80, 'z_r2_2': 80, 'x_s': 0.367693, 'x_s_1': 0.024972, 'x_s_2': -0.483607, 'x_p1': 0.213353, 'x_p1_1': 0.113353, 'x_p1_2': -0.87826, 'x_p2': -0.109112, 'x_p2_1': -0.214679, 'x_p2_2': -0.345764, 'x_r2': 0.916451, 'x_r2_1': 0.816451, 'x_r2_2': -1.489725} using model BoTorch.\n",
      "[INFO 04-04 13:55:07] ax.service.ax_client: Completed trial 176 with data: {'Viable_Cross_Terms': (19, None)}.\n",
      "[INFO 04-04 13:55:30] ax.service.ax_client: Generated new trial 177 with parameters {'z_s': 3, 'z_s_1': 5, 'z_s_2': 9, 'z_p2': 31, 'z_p2_1': 27, 'z_p2_2': 29, 'z_r2': 78, 'z_r2_1': 79, 'z_r2_2': 84, 'x_s': 0.463531, 'x_s_1': -0.271117, 'x_s_2': -0.5, 'x_p1': 0.064939, 'x_p1_1': -0.035061, 'x_p1_2': -1.0, 'x_p2': -0.152339, 'x_p2_1': -0.252339, 'x_p2_2': -0.352339, 'x_r2': 0.788451, 'x_r2_1': 0.556847, 'x_r2_2': -1.5} using model BoTorch.\n",
      "[INFO 04-04 13:55:30] ax.service.ax_client: Completed trial 177 with data: {'Viable_Cross_Terms': (16, None)}.\n",
      "[INFO 04-04 13:55:51] ax.service.ax_client: Generated new trial 178 with parameters {'z_s': 3, 'z_s_1': 8, 'z_s_2': 9, 'z_p2': 31, 'z_p2_1': 34, 'z_p2_2': 30, 'z_r2': 78, 'z_r2_1': 71, 'z_r2_2': 82, 'x_s': 0.36836, 'x_s_1': -0.111291, 'x_s_2': -0.38256, 'x_p1': 0.579383, 'x_p1_1': 0.479383, 'x_p1_2': -1.0, 'x_p2': 0.135281, 'x_p2_1': 0.017811, 'x_p2_2': -0.5, 'x_r2': 1.5, 'x_r2_1': 0.118127, 'x_r2_2': -1.5} using model BoTorch.\n",
      "[INFO 04-04 13:55:51] ax.service.ax_client: Completed trial 178 with data: {'Viable_Cross_Terms': (37, None)}.\n",
      "[INFO 04-04 13:56:22] ax.service.ax_client: Generated new trial 179 with parameters {'z_s': 3, 'z_s_1': 9, 'z_s_2': 9, 'z_p2': 31, 'z_p2_1': 33, 'z_p2_2': 32, 'z_r2': 78, 'z_r2_1': 73, 'z_r2_2': 84, 'x_s': 0.306759, 'x_s_1': 0.059882, 'x_s_2': -0.5, 'x_p1': 0.782341, 'x_p1_1': 0.682341, 'x_p1_2': -1.0, 'x_p2': 0.108886, 'x_p2_1': 0.008886, 'x_p2_2': -0.5, 'x_r2': 1.147943, 'x_r2_1': -0.133254, 'x_r2_2': -1.5} using model BoTorch.\n",
      "[INFO 04-04 13:56:22] ax.service.ax_client: Completed trial 179 with data: {'Viable_Cross_Terms': (20, None)}.\n",
      "[INFO 04-04 13:56:51] ax.service.ax_client: Generated new trial 180 with parameters {'z_s': 3, 'z_s_1': 10, 'z_s_2': 9, 'z_p2': 31, 'z_p2_1': 33, 'z_p2_2': 29, 'z_r2': 78, 'z_r2_1': 73, 'z_r2_2': 84, 'x_s': 0.300615, 'x_s_1': 0.064601, 'x_s_2': -0.5, 'x_p1': 0.815287, 'x_p1_1': 0.715287, 'x_p1_2': -1.0, 'x_p2': 0.091591, 'x_p2_1': -0.008409, 'x_p2_2': -0.5, 'x_r2': 1.293431, 'x_r2_1': -0.17298, 'x_r2_2': -1.5} using model BoTorch.\n",
      "[INFO 04-04 13:56:51] ax.service.ax_client: Completed trial 180 with data: {'Viable_Cross_Terms': (22, None)}.\n",
      "[INFO 04-04 13:57:14] ax.service.ax_client: Generated new trial 181 with parameters {'z_s': 3, 'z_s_1': 4, 'z_s_2': 2, 'z_p2': 31, 'z_p2_1': 29, 'z_p2_2': 29, 'z_r2': 78, 'z_r2_1': 71, 'z_r2_2': 84, 'x_s': 0.5, 'x_s_1': -0.209533, 'x_s_2': -0.5, 'x_p1': 0.754789, 'x_p1_1': 0.654789, 'x_p1_2': -0.719525, 'x_p2': 0.123377, 'x_p2_1': 0.023377, 'x_p2_2': -0.19669, 'x_r2': 1.180728, 'x_r2_1': 0.428481, 'x_r2_2': -1.5} using model BoTorch.\n",
      "[INFO 04-04 13:57:14] ax.service.ax_client: Completed trial 181 with data: {'Viable_Cross_Terms': (23, None)}.\n",
      "[INFO 04-04 13:57:50] ax.service.ax_client: Generated new trial 182 with parameters {'z_s': 3, 'z_s_1': 4, 'z_s_2': 9, 'z_p2': 31, 'z_p2_1': 28, 'z_p2_2': 29, 'z_r2': 78, 'z_r2_1': 71, 'z_r2_2': 84, 'x_s': 0.327425, 'x_s_1': 0.010552, 'x_s_2': -0.449753, 'x_p1': 0.787501, 'x_p1_1': 0.687501, 'x_p1_2': -1.0, 'x_p2': 0.11919, 'x_p2_1': 0.01919, 'x_p2_2': -0.5, 'x_r2': 1.378804, 'x_r2_1': 0.829045, 'x_r2_2': -0.74098} using model BoTorch.\n",
      "[INFO 04-04 13:57:50] ax.service.ax_client: Completed trial 182 with data: {'Viable_Cross_Terms': (40, None)}.\n",
      "[INFO 04-04 13:58:29] ax.service.ax_client: Generated new trial 183 with parameters {'z_s': 3, 'z_s_1': 4, 'z_s_2': 9, 'z_p2': 31, 'z_p2_1': 29, 'z_p2_2': 29, 'z_r2': 78, 'z_r2_1': 71, 'z_r2_2': 81, 'x_s': 0.33285, 'x_s_1': 0.047622, 'x_s_2': -0.461227, 'x_p1': 0.770148, 'x_p1_1': 0.670148, 'x_p1_2': -1.0, 'x_p2': 0.14292, 'x_p2_1': -0.238917, 'x_p2_2': -0.5, 'x_r2': 1.485118, 'x_r2_1': 0.500701, 'x_r2_2': -1.5} using model BoTorch.\n",
      "[INFO 04-04 13:58:29] ax.service.ax_client: Completed trial 183 with data: {'Viable_Cross_Terms': (23, None)}.\n",
      "[INFO 04-04 13:59:02] ax.service.ax_client: Generated new trial 184 with parameters {'z_s': 3, 'z_s_1': 4, 'z_s_2': 9, 'z_p2': 31, 'z_p2_1': 29, 'z_p2_2': 29, 'z_r2': 78, 'z_r2_1': 71, 'z_r2_2': 76, 'x_s': 0.338588, 'x_s_1': -0.310988, 'x_s_2': -0.456518, 'x_p1': 0.72609, 'x_p1_1': 0.62609, 'x_p1_2': -1.0, 'x_p2': 0.123807, 'x_p2_1': 0.023807, 'x_p2_2': -0.5, 'x_r2': 1.413741, 'x_r2_1': 0.376768, 'x_r2_2': -1.5} using model BoTorch.\n",
      "[INFO 04-04 13:59:02] ax.service.ax_client: Completed trial 184 with data: {'Viable_Cross_Terms': (22, None)}.\n",
      "[INFO 04-04 13:59:44] ax.service.ax_client: Generated new trial 185 with parameters {'z_s': 3, 'z_s_1': 5, 'z_s_2': 9, 'z_p2': 31, 'z_p2_1': 31, 'z_p2_2': 29, 'z_r2': 78, 'z_r2_1': 73, 'z_r2_2': 83, 'x_s': 0.364986, 'x_s_1': 0.002123, 'x_s_2': -0.5, 'x_p1': 0.626065, 'x_p1_1': 0.526065, 'x_p1_2': -0.875004, 'x_p2': 0.103141, 'x_p2_1': 0.003141, 'x_p2_2': -0.5, 'x_r2': 0.502619, 'x_r2_1': -0.483004, 'x_r2_2': -1.332721} using model BoTorch.\n",
      "[INFO 04-04 13:59:44] ax.service.ax_client: Completed trial 185 with data: {'Viable_Cross_Terms': (28, None)}.\n",
      "[INFO 04-04 14:00:59] ax.service.ax_client: Generated new trial 186 with parameters {'z_s': 3, 'z_s_1': 4, 'z_s_2': 10, 'z_p2': 31, 'z_p2_1': 27, 'z_p2_2': 29, 'z_r2': 78, 'z_r2_1': 71, 'z_r2_2': 84, 'x_s': 0.315199, 'x_s_1': 0.074602, 'x_s_2': -0.445299, 'x_p1': 0.878288, 'x_p1_1': 0.778288, 'x_p1_2': -1.0, 'x_p2': 0.099475, 'x_p2_1': -0.000525, 'x_p2_2': -0.318008, 'x_r2': 1.323908, 'x_r2_1': 0.064471, 'x_r2_2': -1.5} using model BoTorch.\n",
      "[INFO 04-04 14:00:59] ax.service.ax_client: Completed trial 186 with data: {'Viable_Cross_Terms': (23, None)}.\n",
      "[INFO 04-04 14:02:09] ax.service.ax_client: Generated new trial 187 with parameters {'z_s': 3, 'z_s_1': 4, 'z_s_2': 4, 'z_p2': 31, 'z_p2_1': 26, 'z_p2_2': 29, 'z_r2': 78, 'z_r2_1': 71, 'z_r2_2': 82, 'x_s': 0.313901, 'x_s_1': -0.144409, 'x_s_2': -0.473042, 'x_p1': 0.748555, 'x_p1_1': 0.648555, 'x_p1_2': -1.0, 'x_p2': 0.152667, 'x_p2_1': -0.000295, 'x_p2_2': -0.498275, 'x_r2': 1.083445, 'x_r2_1': 0.734853, 'x_r2_2': -0.817909} using model BoTorch.\n",
      "[INFO 04-04 14:02:09] ax.service.ax_client: Completed trial 187 with data: {'Viable_Cross_Terms': (34, None)}.\n",
      "[INFO 04-04 14:02:44] ax.service.ax_client: Generated new trial 188 with parameters {'z_s': 3, 'z_s_1': 4, 'z_s_2': 13, 'z_p2': 31, 'z_p2_1': 28, 'z_p2_2': 29, 'z_r2': 78, 'z_r2_1': 76, 'z_r2_2': 82, 'x_s': 0.31273, 'x_s_1': 0.21273, 'x_s_2': -0.5, 'x_p1': 0.777004, 'x_p1_1': 0.677004, 'x_p1_2': -1.0, 'x_p2': 0.110569, 'x_p2_1': 0.010569, 'x_p2_2': -0.5, 'x_r2': 1.5, 'x_r2_1': 0.167351, 'x_r2_2': -1.5} using model BoTorch.\n",
      "[INFO 04-04 14:02:44] ax.service.ax_client: Completed trial 188 with data: {'Viable_Cross_Terms': (24, None)}.\n",
      "[INFO 04-04 14:03:41] ax.service.ax_client: Generated new trial 189 with parameters {'z_s': 3, 'z_s_1': 4, 'z_s_2': 8, 'z_p2': 31, 'z_p2_1': 31, 'z_p2_2': 29, 'z_r2': 78, 'z_r2_1': 72, 'z_r2_2': 83, 'x_s': 0.5, 'x_s_1': 0.029976, 'x_s_2': -0.498803, 'x_p1': 0.828516, 'x_p1_1': 0.535533, 'x_p1_2': -0.923432, 'x_p2': 0.077258, 'x_p2_1': -0.022742, 'x_p2_2': -0.470128, 'x_r2': 0.997458, 'x_r2_1': 0.093818, 'x_r2_2': -1.271701} using model BoTorch.\n",
      "[INFO 04-04 14:03:41] ax.service.ax_client: Completed trial 189 with data: {'Viable_Cross_Terms': (33, None)}.\n",
      "[INFO 04-04 14:04:19] ax.service.ax_client: Generated new trial 190 with parameters {'z_s': 3, 'z_s_1': 8, 'z_s_2': 7, 'z_p2': 31, 'z_p2_1': 33, 'z_p2_2': 30, 'z_r2': 78, 'z_r2_1': 71, 'z_r2_2': 83, 'x_s': 0.188492, 'x_s_1': 0.088492, 'x_s_2': -0.5, 'x_p1': 0.573394, 'x_p1_1': 0.473394, 'x_p1_2': -0.906588, 'x_p2': 0.041625, 'x_p2_1': -0.061927, 'x_p2_2': -0.452565, 'x_r2': 1.432069, 'x_r2_1': -0.143479, 'x_r2_2': -1.493921} using model BoTorch.\n",
      "[INFO 04-04 14:04:19] ax.service.ax_client: Completed trial 190 with data: {'Viable_Cross_Terms': (32, None)}.\n",
      "[INFO 04-04 14:04:51] ax.service.ax_client: Generated new trial 191 with parameters {'z_s': 3, 'z_s_1': 5, 'z_s_2': 8, 'z_p2': 31, 'z_p2_1': 30, 'z_p2_2': 29, 'z_r2': 78, 'z_r2_1': 71, 'z_r2_2': 82, 'x_s': 0.330106, 'x_s_1': -0.160684, 'x_s_2': -0.5, 'x_p1': 0.679925, 'x_p1_1': 0.579925, 'x_p1_2': -1.0, 'x_p2': 0.084898, 'x_p2_1': -0.015102, 'x_p2_2': -0.5, 'x_r2': 0.970654, 'x_r2_1': -0.016756, 'x_r2_2': -0.116756} using model BoTorch.\n",
      "[INFO 04-04 14:04:51] ax.service.ax_client: Completed trial 191 with data: {'Viable_Cross_Terms': (33, None)}.\n",
      "[INFO 04-04 14:05:22] ax.service.ax_client: Generated new trial 192 with parameters {'z_s': 3, 'z_s_1': 5, 'z_s_2': 7, 'z_p2': 31, 'z_p2_1': 27, 'z_p2_2': 29, 'z_r2': 78, 'z_r2_1': 71, 'z_r2_2': 82, 'x_s': 0.320487, 'x_s_1': 0.220487, 'x_s_2': -0.5, 'x_p1': 1.0, 'x_p1_1': 0.514528, 'x_p1_2': -1.0, 'x_p2': 0.082936, 'x_p2_1': -0.017064, 'x_p2_2': -0.5, 'x_r2': 0.174294, 'x_r2_1': 0.074294, 'x_r2_2': -1.5} using model BoTorch.\n",
      "[INFO 04-04 14:05:22] ax.service.ax_client: Completed trial 192 with data: {'Viable_Cross_Terms': (28, None)}.\n",
      "[INFO 04-04 14:05:58] ax.service.ax_client: Generated new trial 193 with parameters {'z_s': 3, 'z_s_1': 5, 'z_s_2': 8, 'z_p2': 31, 'z_p2_1': 27, 'z_p2_2': 29, 'z_r2': 78, 'z_r2_1': 71, 'z_r2_2': 81, 'x_s': 0.344849, 'x_s_1': 0.019788, 'x_s_2': -0.5, 'x_p1': 1.0, 'x_p1_1': 0.509029, 'x_p1_2': -1.0, 'x_p2': 0.417024, 'x_p2_1': -0.027665, 'x_p2_2': -0.5, 'x_r2': 0.954238, 'x_r2_1': -0.011645, 'x_r2_2': -1.5} using model BoTorch.\n",
      "[INFO 04-04 14:05:58] ax.service.ax_client: Completed trial 193 with data: {'Viable_Cross_Terms': (27, None)}.\n",
      "[INFO 04-04 14:06:29] ax.service.ax_client: Generated new trial 194 with parameters {'z_s': 3, 'z_s_1': 4, 'z_s_2': 7, 'z_p2': 31, 'z_p2_1': 28, 'z_p2_2': 29, 'z_r2': 78, 'z_r2_1': 80, 'z_r2_2': 84, 'x_s': 0.35968, 'x_s_1': 0.043937, 'x_s_2': -0.340076, 'x_p1': 0.574278, 'x_p1_1': 0.474278, 'x_p1_2': -1.0, 'x_p2': 0.100282, 'x_p2_1': 0.000282, 'x_p2_2': -0.5, 'x_r2': 0.790354, 'x_r2_1': 0.604579, 'x_r2_2': -1.240836} using model BoTorch.\n",
      "[INFO 04-04 14:06:29] ax.service.ax_client: Completed trial 194 with data: {'Viable_Cross_Terms': (49, None)}.\n",
      "[INFO 04-04 14:07:18] ax.service.ax_client: Generated new trial 195 with parameters {'z_s': 3, 'z_s_1': 4, 'z_s_2': 7, 'z_p2': 31, 'z_p2_1': 28, 'z_p2_2': 29, 'z_r2': 78, 'z_r2_1': 80, 'z_r2_2': 84, 'x_s': 0.350001, 'x_s_1': 0.049049, 'x_s_2': -0.342613, 'x_p1': 0.591462, 'x_p1_1': 0.491462, 'x_p1_2': -1.0, 'x_p2': 0.093427, 'x_p2_1': -0.006573, 'x_p2_2': -0.5, 'x_r2': 0.781, 'x_r2_1': 0.681, 'x_r2_2': -1.279407} using model BoTorch.\n",
      "[INFO 04-04 14:07:18] ax.service.ax_client: Completed trial 195 with data: {'Viable_Cross_Terms': (45, None)}.\n",
      "[INFO 04-04 14:08:04] ax.service.ax_client: Generated new trial 196 with parameters {'z_s': 3, 'z_s_1': 4, 'z_s_2': 7, 'z_p2': 31, 'z_p2_1': 28, 'z_p2_2': 29, 'z_r2': 78, 'z_r2_1': 80, 'z_r2_2': 84, 'x_s': 0.352612, 'x_s_1': 0.049331, 'x_s_2': -0.345542, 'x_p1': 0.593512, 'x_p1_1': 0.493512, 'x_p1_2': -1.0, 'x_p2': 0.09392, 'x_p2_1': -0.00608, 'x_p2_2': -0.5, 'x_r2': 0.790454, 'x_r2_1': 0.656864, 'x_r2_2': -1.268684} using model BoTorch.\n",
      "[INFO 04-04 14:08:04] ax.service.ax_client: Completed trial 196 with data: {'Viable_Cross_Terms': (45, None)}.\n",
      "[INFO 04-04 14:08:54] ax.service.ax_client: Generated new trial 197 with parameters {'z_s': 4, 'z_s_1': 4, 'z_s_2': 7, 'z_p2': 31, 'z_p2_1': 29, 'z_p2_2': 29, 'z_r2': 78, 'z_r2_1': 72, 'z_r2_2': 84, 'x_s': 0.145466, 'x_s_1': 0.045466, 'x_s_2': -0.319041, 'x_p1': 0.546458, 'x_p1_1': 0.446458, 'x_p1_2': -1.0, 'x_p2': 0.082322, 'x_p2_1': -0.017678, 'x_p2_2': -0.5, 'x_r2': 0.734679, 'x_r2_1': 0.634679, 'x_r2_2': -1.5} using model BoTorch.\n",
      "[INFO 04-04 14:08:54] ax.service.ax_client: Completed trial 197 with data: {'Viable_Cross_Terms': (25, None)}.\n",
      "[INFO 04-04 14:10:03] ax.service.ax_client: Generated new trial 198 with parameters {'z_s': 3, 'z_s_1': 8, 'z_s_2': 9, 'z_p2': 31, 'z_p2_1': 34, 'z_p2_2': 29, 'z_r2': 78, 'z_r2_1': 72, 'z_r2_2': 84, 'x_s': 0.355302, 'x_s_1': 0.022939, 'x_s_2': -0.332612, 'x_p1': 0.597517, 'x_p1_1': 0.497517, 'x_p1_2': -0.981801, 'x_p2': 0.091424, 'x_p2_1': -0.059265, 'x_p2_2': -0.405815, 'x_r2': 1.481589, 'x_r2_1': -0.295455, 'x_r2_2': -1.467264} using model BoTorch.\n",
      "[INFO 04-04 14:10:03] ax.service.ax_client: Completed trial 198 with data: {'Viable_Cross_Terms': (19, None)}.\n",
      "[INFO 04-04 14:10:44] ax.service.ax_client: Generated new trial 199 with parameters {'z_s': 3, 'z_s_1': 4, 'z_s_2': 7, 'z_p2': 31, 'z_p2_1': 29, 'z_p2_2': 29, 'z_r2': 78, 'z_r2_1': 85, 'z_r2_2': 78, 'x_s': 0.374796, 'x_s_1': 0.0518, 'x_s_2': -0.375405, 'x_p1': 0.728458, 'x_p1_1': 0.628458, 'x_p1_2': -1.0, 'x_p2': 0.079164, 'x_p2_1': -0.020836, 'x_p2_2': -0.496838, 'x_r2': 0.92111, 'x_r2_1': -0.230564, 'x_r2_2': -0.764178} using model BoTorch.\n",
      "[INFO 04-04 14:10:44] ax.service.ax_client: Completed trial 199 with data: {'Viable_Cross_Terms': (28, None)}.\n",
      "[INFO 04-04 14:11:23] ax.service.ax_client: Generated new trial 200 with parameters {'z_s': 3, 'z_s_1': 4, 'z_s_2': 7, 'z_p2': 31, 'z_p2_1': 31, 'z_p2_2': 29, 'z_r2': 78, 'z_r2_1': 76, 'z_r2_2': 83, 'x_s': 0.387442, 'x_s_1': -0.033039, 'x_s_2': -0.360484, 'x_p1': 0.685196, 'x_p1_1': 0.585196, 'x_p1_2': -1.0, 'x_p2': 0.091811, 'x_p2_1': -0.008189, 'x_p2_2': -0.5, 'x_r2': 0.968862, 'x_r2_1': 0.868862, 'x_r2_2': -1.5} using model BoTorch.\n",
      "[INFO 04-04 14:11:23] ax.service.ax_client: Completed trial 200 with data: {'Viable_Cross_Terms': (22, None)}.\n",
      "[INFO 04-04 14:11:58] ax.service.ax_client: Generated new trial 201 with parameters {'z_s': 3, 'z_s_1': 10, 'z_s_2': 5, 'z_p2': 31, 'z_p2_1': 34, 'z_p2_2': 30, 'z_r2': 78, 'z_r2_1': 71, 'z_r2_2': 80, 'x_s': 0.341939, 'x_s_1': -0.081785, 'x_s_2': -0.458943, 'x_p1': 0.500155, 'x_p1_1': 0.400155, 'x_p1_2': -1.0, 'x_p2': 0.226228, 'x_p2_1': 0.126228, 'x_p2_2': -0.5, 'x_r2': 1.5, 'x_r2_1': 1.054285, 'x_r2_2': -1.5} using model BoTorch.\n",
      "[INFO 04-04 14:11:58] ax.service.ax_client: Completed trial 201 with data: {'Viable_Cross_Terms': (30, None)}.\n",
      "[INFO 04-04 14:12:32] ax.service.ax_client: Generated new trial 202 with parameters {'z_s': 3, 'z_s_1': 5, 'z_s_2': 11, 'z_p2': 31, 'z_p2_1': 29, 'z_p2_2': 29, 'z_r2': 78, 'z_r2_1': 76, 'z_r2_2': 84, 'x_s': 0.336675, 'x_s_1': -0.014548, 'x_s_2': -0.5, 'x_p1': 0.811772, 'x_p1_1': 0.711772, 'x_p1_2': -1.0, 'x_p2': 0.052805, 'x_p2_1': -0.047195, 'x_p2_2': -0.485146, 'x_r2': 1.281844, 'x_r2_1': -0.659558, 'x_r2_2': -1.008815} using model BoTorch.\n",
      "[INFO 04-04 14:12:32] ax.service.ax_client: Completed trial 202 with data: {'Viable_Cross_Terms': (25, None)}.\n",
      "[INFO 04-04 14:13:01] ax.service.ax_client: Generated new trial 203 with parameters {'z_s': 3, 'z_s_1': 4, 'z_s_2': 7, 'z_p2': 31, 'z_p2_1': 27, 'z_p2_2': 29, 'z_r2': 78, 'z_r2_1': 81, 'z_r2_2': 84, 'x_s': 0.365105, 'x_s_1': 0.080819, 'x_s_2': -0.463395, 'x_p1': 0.543569, 'x_p1_1': 0.443569, 'x_p1_2': -1.0, 'x_p2': 0.143987, 'x_p2_1': 0.043987, 'x_p2_2': -0.5, 'x_r2': 0.787684, 'x_r2_1': 0.252983, 'x_r2_2': -1.042973} using model BoTorch.\n",
      "[INFO 04-04 14:13:01] ax.service.ax_client: Completed trial 203 with data: {'Viable_Cross_Terms': (31, None)}.\n",
      "[INFO 04-04 14:13:35] ax.service.ax_client: Generated new trial 204 with parameters {'z_s': 3, 'z_s_1': 4, 'z_s_2': 7, 'z_p2': 31, 'z_p2_1': 26, 'z_p2_2': 28, 'z_r2': 78, 'z_r2_1': 71, 'z_r2_2': 84, 'x_s': 0.381953, 'x_s_1': 0.011879, 'x_s_2': -0.5, 'x_p1': 0.519149, 'x_p1_1': 0.419149, 'x_p1_2': -1.0, 'x_p2': 0.111788, 'x_p2_1': 0.011788, 'x_p2_2': -0.5, 'x_r2': 0.395804, 'x_r2_1': 0.295804, 'x_r2_2': -1.5} using model BoTorch.\n",
      "[INFO 04-04 14:13:35] ax.service.ax_client: Completed trial 204 with data: {'Viable_Cross_Terms': (30, None)}.\n",
      "[INFO 04-04 14:14:04] ax.service.ax_client: Generated new trial 205 with parameters {'z_s': 3, 'z_s_1': 8, 'z_s_2': 5, 'z_p2': 31, 'z_p2_1': 30, 'z_p2_2': 30, 'z_r2': 78, 'z_r2_1': 71, 'z_r2_2': 75, 'x_s': 0.5, 'x_s_1': -0.101298, 'x_s_2': -0.5, 'x_p1': 0.589615, 'x_p1_1': 0.489615, 'x_p1_2': -1.0, 'x_p2': 0.192906, 'x_p2_1': 0.092906, 'x_p2_2': -0.5, 'x_r2': 1.373136, 'x_r2_1': 0.656249, 'x_r2_2': -1.5} using model BoTorch.\n",
      "[INFO 04-04 14:14:04] ax.service.ax_client: Completed trial 205 with data: {'Viable_Cross_Terms': (45, None)}.\n",
      "[INFO 04-04 14:14:35] ax.service.ax_client: Generated new trial 206 with parameters {'z_s': 3, 'z_s_1': 8, 'z_s_2': 5, 'z_p2': 31, 'z_p2_1': 29, 'z_p2_2': 30, 'z_r2': 78, 'z_r2_1': 80, 'z_r2_2': 75, 'x_s': 0.5, 'x_s_1': -0.106402, 'x_s_2': -0.5, 'x_p1': 0.608033, 'x_p1_1': 0.508033, 'x_p1_2': -1.0, 'x_p2': 0.186662, 'x_p2_1': 0.086662, 'x_p2_2': -0.5, 'x_r2': 1.406359, 'x_r2_1': 0.690101, 'x_r2_2': -1.5} using model BoTorch.\n",
      "[INFO 04-04 14:14:35] ax.service.ax_client: Completed trial 206 with data: {'Viable_Cross_Terms': (62, None)}.\n",
      "[INFO 04-04 14:15:02] ax.service.ax_client: Generated new trial 207 with parameters {'z_s': 3, 'z_s_1': 2, 'z_s_2': 1, 'z_p2': 29, 'z_p2_1': 32, 'z_p2_2': 30, 'z_r2': 73, 'z_r2_1': 85, 'z_r2_2': 79, 'x_s': 0.5, 'x_s_1': 0.098111, 'x_s_2': -0.022418, 'x_p1': 1.0, 'x_p1_1': -0.649582, 'x_p1_2': -0.765841, 'x_p2': 0.401613, 'x_p2_1': 0.111655, 'x_p2_2': 0.011655, 'x_r2': 1.352279, 'x_r2_1': 0.529907, 'x_r2_2': 0.429907} using model BoTorch.\n",
      "[INFO 04-04 14:15:02] ax.service.ax_client: Completed trial 207 with data: {'Viable_Cross_Terms': (16, None)}.\n",
      "[INFO 04-04 14:15:34] ax.service.ax_client: Generated new trial 208 with parameters {'z_s': 3, 'z_s_1': 8, 'z_s_2': 5, 'z_p2': 31, 'z_p2_1': 28, 'z_p2_2': 30, 'z_r2': 78, 'z_r2_1': 81, 'z_r2_2': 74, 'x_s': 0.5, 'x_s_1': -0.116558, 'x_s_2': -0.5, 'x_p1': 0.632735, 'x_p1_1': 0.532735, 'x_p1_2': -1.0, 'x_p2': 0.186837, 'x_p2_1': 0.086837, 'x_p2_2': -0.5, 'x_r2': 1.437441, 'x_r2_1': 0.720974, 'x_r2_2': -1.5} using model BoTorch.\n",
      "[INFO 04-04 14:15:35] ax.service.ax_client: Completed trial 208 with data: {'Viable_Cross_Terms': (37, None)}.\n",
      "[INFO 04-04 14:16:08] ax.service.ax_client: Generated new trial 209 with parameters {'z_s': 3, 'z_s_1': 7, 'z_s_2': 6, 'z_p2': 31, 'z_p2_1': 27, 'z_p2_2': 30, 'z_r2': 78, 'z_r2_1': 79, 'z_r2_2': 74, 'x_s': 0.461148, 'x_s_1': -0.077032, 'x_s_2': -0.5, 'x_p1': 0.456778, 'x_p1_1': 0.356778, 'x_p1_2': -1.0, 'x_p2': 0.160307, 'x_p2_1': 0.060307, 'x_p2_2': -0.5, 'x_r2': 1.015563, 'x_r2_1': 0.915563, 'x_r2_2': -1.5} using model BoTorch.\n",
      "[INFO 04-04 14:16:08] ax.service.ax_client: Completed trial 209 with data: {'Viable_Cross_Terms': (36, None)}.\n",
      "[INFO 04-04 14:16:40] ax.service.ax_client: Generated new trial 210 with parameters {'z_s': 3, 'z_s_1': 8, 'z_s_2': 5, 'z_p2': 31, 'z_p2_1': 30, 'z_p2_2': 30, 'z_r2': 78, 'z_r2_1': 77, 'z_r2_2': 75, 'x_s': 0.5, 'x_s_1': -0.107233, 'x_s_2': -0.5, 'x_p1': 0.590278, 'x_p1_1': 0.490278, 'x_p1_2': -1.0, 'x_p2': 0.192183, 'x_p2_1': 0.092183, 'x_p2_2': -0.5, 'x_r2': 1.347188, 'x_r2_1': 0.747195, 'x_r2_2': -1.5} using model BoTorch.\n",
      "[INFO 04-04 14:16:40] ax.service.ax_client: Completed trial 210 with data: {'Viable_Cross_Terms': (57, None)}.\n",
      "[INFO 04-04 14:17:11] ax.service.ax_client: Generated new trial 211 with parameters {'z_s': 3, 'z_s_1': 8, 'z_s_2': 4, 'z_p2': 31, 'z_p2_1': 32, 'z_p2_2': 30, 'z_r2': 78, 'z_r2_1': 83, 'z_r2_2': 72, 'x_s': 0.5, 'x_s_1': -0.126107, 'x_s_2': -0.5, 'x_p1': 0.639678, 'x_p1_1': 0.539678, 'x_p1_2': -1.0, 'x_p2': 0.192298, 'x_p2_1': 0.092298, 'x_p2_2': -0.5, 'x_r2': 0.316689, 'x_r2_1': 0.216689, 'x_r2_2': -1.5} using model BoTorch.\n",
      "[INFO 04-04 14:17:11] ax.service.ax_client: Completed trial 211 with data: {'Viable_Cross_Terms': (55, None)}.\n",
      "[INFO 04-04 14:17:42] ax.service.ax_client: Generated new trial 212 with parameters {'z_s': 3, 'z_s_1': 3, 'z_s_2': 1, 'z_p2': 28, 'z_p2_1': 26, 'z_p2_2': 30, 'z_r2': 75, 'z_r2_1': 85, 'z_r2_2': 73, 'x_s': 0.5, 'x_s_1': 0.144018, 'x_s_2': -0.412777, 'x_p1': 0.445833, 'x_p1_1': -0.550005, 'x_p1_2': -0.795761, 'x_p2': 0.032776, 'x_p2_1': -0.169802, 'x_p2_2': -0.269802, 'x_r2': 1.5, 'x_r2_1': 0.635123, 'x_r2_2': 0.252684} using model BoTorch.\n",
      "[INFO 04-04 14:17:42] ax.service.ax_client: Completed trial 212 with data: {'Viable_Cross_Terms': (5, None)}.\n",
      "[INFO 04-04 14:18:19] ax.service.ax_client: Generated new trial 213 with parameters {'z_s': 3, 'z_s_1': 8, 'z_s_2': 4, 'z_p2': 31, 'z_p2_1': 31, 'z_p2_2': 30, 'z_r2': 77, 'z_r2_1': 81, 'z_r2_2': 74, 'x_s': 0.5, 'x_s_1': -0.137743, 'x_s_2': -0.5, 'x_p1': 0.62501, 'x_p1_1': 0.52501, 'x_p1_2': -1.0, 'x_p2': 0.203771, 'x_p2_1': 0.103771, 'x_p2_2': -0.5, 'x_r2': 1.03835, 'x_r2_1': 0.93835, 'x_r2_2': -1.5} using model BoTorch.\n",
      "[INFO 04-04 14:18:19] ax.service.ax_client: Completed trial 213 with data: {'Viable_Cross_Terms': (21, None)}.\n",
      "[INFO 04-04 14:18:52] ax.service.ax_client: Generated new trial 214 with parameters {'z_s': 3, 'z_s_1': 8, 'z_s_2': 4, 'z_p2': 31, 'z_p2_1': 31, 'z_p2_2': 30, 'z_r2': 79, 'z_r2_1': 80, 'z_r2_2': 73, 'x_s': 0.5, 'x_s_1': -0.116159, 'x_s_2': -0.5, 'x_p1': 0.654013, 'x_p1_1': 0.554013, 'x_p1_2': -1.0, 'x_p2': 0.207201, 'x_p2_1': 0.107201, 'x_p2_2': -0.5, 'x_r2': 0.850645, 'x_r2_1': 0.570396, 'x_r2_2': -1.5} using model BoTorch.\n",
      "[INFO 04-04 14:18:52] ax.service.ax_client: Completed trial 214 with data: {'Viable_Cross_Terms': (21, None)}.\n",
      "[INFO 04-04 14:19:25] ax.service.ax_client: Generated new trial 215 with parameters {'z_s': 3, 'z_s_1': 8, 'z_s_2': 6, 'z_p2': 31, 'z_p2_1': 32, 'z_p2_2': 30, 'z_r2': 78, 'z_r2_1': 85, 'z_r2_2': 72, 'x_s': 0.5, 'x_s_1': -0.156839, 'x_s_2': -0.5, 'x_p1': 0.4408, 'x_p1_1': 0.3408, 'x_p1_2': -1.0, 'x_p2': 0.23217, 'x_p2_1': 0.13217, 'x_p2_2': -0.5, 'x_r2': 1.5, 'x_r2_1': 0.77893, 'x_r2_2': -1.5} using model BoTorch.\n",
      "[INFO 04-04 14:19:25] ax.service.ax_client: Completed trial 215 with data: {'Viable_Cross_Terms': (15, None)}.\n",
      "[INFO 04-04 14:19:52] ax.service.ax_client: Generated new trial 216 with parameters {'z_s': 7, 'z_s_1': 9, 'z_s_2': 1, 'z_p2': 31, 'z_p2_1': 34, 'z_p2_2': 29, 'z_r2': 81, 'z_r2_1': 80, 'z_r2_2': 79, 'x_s': 0.307737, 'x_s_1': 0.023661, 'x_s_2': -0.296907, 'x_p1': 0.58567, 'x_p1_1': 0.445155, 'x_p1_2': -0.658136, 'x_p2': 0.379749, 'x_p2_1': 0.14305, 'x_p2_2': -0.472369, 'x_r2': 1.26272, 'x_r2_1': -1.272892, 'x_r2_2': -1.372892} using model BoTorch.\n",
      "[INFO 04-04 14:19:52] ax.service.ax_client: Completed trial 216 with data: {'Viable_Cross_Terms': (14, None)}.\n",
      "[INFO 04-04 14:20:25] ax.service.ax_client: Generated new trial 217 with parameters {'z_s': 3, 'z_s_1': 6, 'z_s_2': 4, 'z_p2': 31, 'z_p2_1': 28, 'z_p2_2': 30, 'z_r2': 78, 'z_r2_1': 78, 'z_r2_2': 74, 'x_s': 0.5, 'x_s_1': -0.063284, 'x_s_2': -0.5, 'x_p1': 0.709657, 'x_p1_1': 0.504072, 'x_p1_2': -1.0, 'x_p2': 0.127906, 'x_p2_1': 0.027906, 'x_p2_2': -0.5, 'x_r2': 0.471049, 'x_r2_1': 0.353284, 'x_r2_2': -1.286065} using model BoTorch.\n",
      "[INFO 04-04 14:20:25] ax.service.ax_client: Completed trial 217 with data: {'Viable_Cross_Terms': (37, None)}.\n",
      "[INFO 04-04 14:20:53] ax.service.ax_client: Generated new trial 218 with parameters {'z_s': 14, 'z_s_1': 11, 'z_s_2': 5, 'z_p2': 31, 'z_p2_1': 27, 'z_p2_2': 26, 'z_r2': 82, 'z_r2_1': 75, 'z_r2_2': 78, 'x_s': -0.001502, 'x_s_1': -0.247335, 'x_s_2': -0.347335, 'x_p1': 0.756864, 'x_p1_1': 0.656864, 'x_p1_2': -0.180595, 'x_p2': 0.342051, 'x_p2_1': -0.313595, 'x_p2_2': -0.413595, 'x_r2': -0.203223, 'x_r2_1': -0.303223, 'x_r2_2': -0.403223} using model BoTorch.\n",
      "[INFO 04-04 14:20:53] ax.service.ax_client: Completed trial 218 with data: {'Viable_Cross_Terms': (21, None)}.\n",
      "[INFO 04-04 14:21:23] ax.service.ax_client: Generated new trial 219 with parameters {'z_s': 3, 'z_s_1': 7, 'z_s_2': 1, 'z_p2': 31, 'z_p2_1': 34, 'z_p2_2': 26, 'z_r2': 80, 'z_r2_1': 71, 'z_r2_2': 72, 'x_s': 0.5, 'x_s_1': 0.4, 'x_s_2': -0.5, 'x_p1': 0.683671, 'x_p1_1': 0.12832, 'x_p1_2': -1.0, 'x_p2': 0.240367, 'x_p2_1': 0.140367, 'x_p2_2': -0.450648, 'x_r2': 1.5, 'x_r2_1': -1.064668, 'x_r2_2': -1.5} using model BoTorch.\n",
      "[INFO 04-04 14:21:23] ax.service.ax_client: Completed trial 219 with data: {'Viable_Cross_Terms': (7, None)}.\n",
      "[INFO 04-04 14:21:52] ax.service.ax_client: Generated new trial 220 with parameters {'z_s': 3, 'z_s_1': 6, 'z_s_2': 5, 'z_p2': 31, 'z_p2_1': 28, 'z_p2_2': 30, 'z_r2': 78, 'z_r2_1': 77, 'z_r2_2': 74, 'x_s': 0.401316, 'x_s_1': -0.042577, 'x_s_2': -0.5, 'x_p1': 0.608885, 'x_p1_1': 0.508885, 'x_p1_2': -1.0, 'x_p2': 0.126494, 'x_p2_1': 0.026494, 'x_p2_2': -0.5, 'x_r2': 0.627506, 'x_r2_1': 0.527506, 'x_r2_2': -1.317507} using model BoTorch.\n",
      "[INFO 04-04 14:21:52] ax.service.ax_client: Completed trial 220 with data: {'Viable_Cross_Terms': (57, None)}.\n",
      "[INFO 04-04 14:22:20] ax.service.ax_client: Generated new trial 221 with parameters {'z_s': 8, 'z_s_1': 13, 'z_s_2': 8, 'z_p2': 31, 'z_p2_1': 28, 'z_p2_2': 25, 'z_r2': 82, 'z_r2_1': 78, 'z_r2_2': 81, 'x_s': -0.277559, 'x_s_1': -0.4, 'x_s_2': -0.5, 'x_p1': 0.315919, 'x_p1_1': 0.215919, 'x_p1_2': 0.077845, 'x_p2': 0.382661, 'x_p2_1': -0.229275, 'x_p2_2': -0.374029, 'x_r2': 0.187008, 'x_r2_1': 0.087008, 'x_r2_2': -0.012992} using model BoTorch.\n",
      "[INFO 04-04 14:22:20] ax.service.ax_client: Completed trial 221 with data: {'Viable_Cross_Terms': (31, None)}.\n",
      "[INFO 04-04 14:22:45] ax.service.ax_client: Generated new trial 222 with parameters {'z_s': 8, 'z_s_1': 7, 'z_s_2': 7, 'z_p2': 31, 'z_p2_1': 27, 'z_p2_2': 31, 'z_r2': 82, 'z_r2_1': 79, 'z_r2_2': 74, 'x_s': -0.262475, 'x_s_1': -0.362475, 'x_s_2': -0.462475, 'x_p1': 0.208417, 'x_p1_1': 0.108417, 'x_p1_2': 0.008417, 'x_p2': 0.345009, 'x_p2_1': -0.392333, 'x_p2_2': -0.492333, 'x_r2': -0.05109, 'x_r2_1': -0.15109, 'x_r2_2': -0.25109} using model BoTorch.\n",
      "[INFO 04-04 14:22:45] ax.service.ax_client: Completed trial 222 with data: {'Viable_Cross_Terms': (34, None)}.\n",
      "[INFO 04-04 14:23:13] ax.service.ax_client: Generated new trial 223 with parameters {'z_s': 9, 'z_s_1': 13, 'z_s_2': 4, 'z_p2': 31, 'z_p2_1': 30, 'z_p2_2': 30, 'z_r2': 82, 'z_r2_1': 80, 'z_r2_2': 74, 'x_s': -0.3, 'x_s_1': -0.4, 'x_s_2': -0.5, 'x_p1': 0.275533, 'x_p1_1': 0.175533, 'x_p1_2': 0.075533, 'x_p2': 0.068733, 'x_p2_1': -0.339262, 'x_p2_2': -0.5, 'x_r2': -0.564643, 'x_r2_1': -0.664643, 'x_r2_2': -0.764643} using model BoTorch.\n",
      "[INFO 04-04 14:23:13] ax.service.ax_client: Completed trial 223 with data: {'Viable_Cross_Terms': (25, None)}.\n",
      "[INFO 04-04 14:23:45] ax.service.ax_client: Generated new trial 224 with parameters {'z_s': 9, 'z_s_1': 4, 'z_s_2': 8, 'z_p2': 31, 'z_p2_1': 33, 'z_p2_2': 25, 'z_r2': 82, 'z_r2_1': 75, 'z_r2_2': 83, 'x_s': -0.264078, 'x_s_1': -0.395202, 'x_s_2': -0.495202, 'x_p1': 0.187416, 'x_p1_1': 0.087416, 'x_p1_2': -0.012584, 'x_p2': 0.312145, 'x_p2_1': -0.284954, 'x_p2_2': -0.442205, 'x_r2': -0.296122, 'x_r2_1': -0.417325, 'x_r2_2': -0.517325} using model BoTorch.\n",
      "[INFO 04-04 14:23:45] ax.service.ax_client: Completed trial 224 with data: {'Viable_Cross_Terms': (34, None)}.\n",
      "[INFO 04-04 14:24:12] ax.service.ax_client: Generated new trial 225 with parameters {'z_s': 13, 'z_s_1': 2, 'z_s_2': 8, 'z_p2': 31, 'z_p2_1': 27, 'z_p2_2': 32, 'z_r2': 82, 'z_r2_1': 72, 'z_r2_2': 77, 'x_s': -0.3, 'x_s_1': -0.4, 'x_s_2': -0.5, 'x_p1': 0.146496, 'x_p1_1': 0.046496, 'x_p1_2': -0.053504, 'x_p2': 0.364665, 'x_p2_1': -0.286429, 'x_p2_2': -0.387451, 'x_r2': 0.497895, 'x_r2_1': 0.397895, 'x_r2_2': 0.297895} using model BoTorch.\n",
      "[INFO 04-04 14:24:12] ax.service.ax_client: Completed trial 225 with data: {'Viable_Cross_Terms': (23, None)}.\n",
      "[INFO 04-04 14:24:43] ax.service.ax_client: Generated new trial 226 with parameters {'z_s': 3, 'z_s_1': 2, 'z_s_2': 1, 'z_p2': 28, 'z_p2_1': 27, 'z_p2_2': 28, 'z_r2': 72, 'z_r2_1': 75, 'z_r2_2': 70, 'x_s': 0.5, 'x_s_1': 0.223983, 'x_s_2': -0.5, 'x_p1': -0.239721, 'x_p1_1': -0.528812, 'x_p1_2': -0.628812, 'x_p2': 0.001072, 'x_p2_1': -0.098928, 'x_p2_2': -0.198928, 'x_r2': 1.5, 'x_r2_1': 1.4, 'x_r2_2': 1.3} using model BoTorch.\n",
      "[INFO 04-04 14:24:43] ax.service.ax_client: Completed trial 226 with data: {'Viable_Cross_Terms': (24, None)}.\n",
      "[INFO 04-04 14:25:15] ax.service.ax_client: Generated new trial 227 with parameters {'z_s': 3, 'z_s_1': 7, 'z_s_2': 4, 'z_p2': 31, 'z_p2_1': 26, 'z_p2_2': 31, 'z_r2': 78, 'z_r2_1': 76, 'z_r2_2': 77, 'x_s': 0.453914, 'x_s_1': -0.056443, 'x_s_2': -0.5, 'x_p1': 0.577889, 'x_p1_1': 0.477889, 'x_p1_2': -1.0, 'x_p2': 0.126191, 'x_p2_1': 0.026191, 'x_p2_2': -0.5, 'x_r2': 0.712796, 'x_r2_1': 0.612796, 'x_r2_2': -0.234552} using model BoTorch.\n",
      "[INFO 04-04 14:25:15] ax.service.ax_client: Completed trial 227 with data: {'Viable_Cross_Terms': (53, None)}.\n",
      "[INFO 04-04 14:25:40] ax.service.ax_client: Generated new trial 228 with parameters {'z_s': 7, 'z_s_1': 8, 'z_s_2': 7, 'z_p2': 31, 'z_p2_1': 29, 'z_p2_2': 33, 'z_r2': 82, 'z_r2_1': 77, 'z_r2_2': 81, 'x_s': 0.42839, 'x_s_1': -0.4, 'x_s_2': -0.5, 'x_p1': 0.275023, 'x_p1_1': 0.175023, 'x_p1_2': -0.704333, 'x_p2': 0.5, 'x_p2_1': -0.276034, 'x_p2_2': -0.376034, 'x_r2': -1.101545, 'x_r2_1': -1.201545, 'x_r2_2': -1.301545} using model BoTorch.\n",
      "[INFO 04-04 14:25:40] ax.service.ax_client: Completed trial 228 with data: {'Viable_Cross_Terms': (5, None)}.\n",
      "[INFO 04-04 14:26:11] ax.service.ax_client: Generated new trial 229 with parameters {'z_s': 12, 'z_s_1': 9, 'z_s_2': 11, 'z_p2': 31, 'z_p2_1': 31, 'z_p2_2': 26, 'z_r2': 82, 'z_r2_1': 80, 'z_r2_2': 72, 'x_s': -0.3, 'x_s_1': -0.4, 'x_s_2': -0.5, 'x_p1': 0.238419, 'x_p1_1': 0.015948, 'x_p1_2': -0.084052, 'x_p2': 0.448654, 'x_p2_1': -0.317907, 'x_p2_2': -0.5, 'x_r2': 0.113551, 'x_r2_1': -1.108746, 'x_r2_2': -1.416062} using model BoTorch.\n",
      "[INFO 04-04 14:26:11] ax.service.ax_client: Completed trial 229 with data: {'Viable_Cross_Terms': (2, None)}.\n",
      "[INFO 04-04 14:26:43] ax.service.ax_client: Generated new trial 230 with parameters {'z_s': 3, 'z_s_1': 6, 'z_s_2': 5, 'z_p2': 31, 'z_p2_1': 27, 'z_p2_2': 31, 'z_r2': 78, 'z_r2_1': 77, 'z_r2_2': 74, 'x_s': 0.435348, 'x_s_1': -0.043626, 'x_s_2': -0.5, 'x_p1': 0.590939, 'x_p1_1': 0.490939, 'x_p1_2': -1.0, 'x_p2': 0.13748, 'x_p2_1': 0.03748, 'x_p2_2': -0.5, 'x_r2': 0.55414, 'x_r2_1': 0.45414, 'x_r2_2': -0.440432} using model BoTorch.\n",
      "[INFO 04-04 14:26:43] ax.service.ax_client: Completed trial 230 with data: {'Viable_Cross_Terms': (33, None)}.\n",
      "[INFO 04-04 14:27:10] ax.service.ax_client: Generated new trial 231 with parameters {'z_s': 3, 'z_s_1': 3, 'z_s_2': 5, 'z_p2': 31, 'z_p2_1': 26, 'z_p2_2': 30, 'z_r2': 76, 'z_r2_1': 78, 'z_r2_2': 72, 'x_s': 0.299768, 'x_s_1': -0.320024, 'x_s_2': -0.5, 'x_p1': 0.557684, 'x_p1_1': 0.457684, 'x_p1_2': -0.66738, 'x_p2': 0.139957, 'x_p2_1': -0.079941, 'x_p2_2': -0.5, 'x_r2': 0.49732, 'x_r2_1': 0.39732, 'x_r2_2': 0.051042} using model BoTorch.\n",
      "[INFO 04-04 14:27:10] ax.service.ax_client: Completed trial 231 with data: {'Viable_Cross_Terms': (50, None)}.\n",
      "[INFO 04-04 14:27:33] ax.service.ax_client: Generated new trial 232 with parameters {'z_s': 3, 'z_s_1': 3, 'z_s_2': 6, 'z_p2': 31, 'z_p2_1': 26, 'z_p2_2': 30, 'z_r2': 75, 'z_r2_1': 77, 'z_r2_2': 71, 'x_s': 0.297567, 'x_s_1': -0.333994, 'x_s_2': -0.5, 'x_p1': 0.559126, 'x_p1_1': 0.459126, 'x_p1_2': -0.620201, 'x_p2': 0.142522, 'x_p2_1': -0.087317, 'x_p2_2': -0.5, 'x_r2': 0.480283, 'x_r2_1': 0.380283, 'x_r2_2': 0.196276} using model BoTorch.\n",
      "[INFO 04-04 14:27:33] ax.service.ax_client: Completed trial 232 with data: {'Viable_Cross_Terms': (12, None)}.\n",
      "[INFO 04-04 14:27:57] ax.service.ax_client: Generated new trial 233 with parameters {'z_s': 3, 'z_s_1': 2, 'z_s_2': 5, 'z_p2': 31, 'z_p2_1': 26, 'z_p2_2': 30, 'z_r2': 76, 'z_r2_1': 79, 'z_r2_2': 73, 'x_s': 0.237241, 'x_s_1': -0.347306, 'x_s_2': -0.482844, 'x_p1': 0.515837, 'x_p1_1': 0.415837, 'x_p1_2': -0.662297, 'x_p2': 0.08178, 'x_p2_1': -0.138578, 'x_p2_2': -0.5, 'x_r2': 0.556714, 'x_r2_1': 0.16515, 'x_r2_2': 0.06515} using model BoTorch.\n",
      "[INFO 04-04 14:27:57] ax.service.ax_client: Completed trial 233 with data: {'Viable_Cross_Terms': (29, None)}.\n",
      "[INFO 04-04 14:28:27] ax.service.ax_client: Generated new trial 234 with parameters {'z_s': 3, 'z_s_1': 6, 'z_s_2': 4, 'z_p2': 31, 'z_p2_1': 28, 'z_p2_2': 29, 'z_r2': 78, 'z_r2_1': 77, 'z_r2_2': 74, 'x_s': 0.430064, 'x_s_1': -0.062638, 'x_s_2': -0.5, 'x_p1': 0.595451, 'x_p1_1': 0.495451, 'x_p1_2': -1.0, 'x_p2': 0.129216, 'x_p2_1': 0.029216, 'x_p2_2': -0.5, 'x_r2': 0.603547, 'x_r2_1': 0.503547, 'x_r2_2': -1.5} using model BoTorch.\n",
      "[INFO 04-04 14:28:27] ax.service.ax_client: Completed trial 234 with data: {'Viable_Cross_Terms': (47, None)}.\n",
      "[INFO 04-04 14:28:49] ax.service.ax_client: Generated new trial 235 with parameters {'z_s': 3, 'z_s_1': 3, 'z_s_2': 6, 'z_p2': 31, 'z_p2_1': 28, 'z_p2_2': 30, 'z_r2': 76, 'z_r2_1': 76, 'z_r2_2': 70, 'x_s': 0.44546, 'x_s_1': -0.373612, 'x_s_2': -0.5, 'x_p1': 0.657793, 'x_p1_1': 0.557793, 'x_p1_2': -0.348145, 'x_p2': 0.297777, 'x_p2_1': -0.034408, 'x_p2_2': -0.5, 'x_r2': 0.7773, 'x_r2_1': 0.6773, 'x_r2_2': 0.5773} using model BoTorch.\n",
      "[INFO 04-04 14:28:49] ax.service.ax_client: Completed trial 235 with data: {'Viable_Cross_Terms': (23, None)}.\n",
      "[INFO 04-04 14:29:25] ax.service.ax_client: Generated new trial 236 with parameters {'z_s': 3, 'z_s_1': 6, 'z_s_2': 4, 'z_p2': 31, 'z_p2_1': 28, 'z_p2_2': 29, 'z_r2': 78, 'z_r2_1': 77, 'z_r2_2': 74, 'x_s': 0.424624, 'x_s_1': -0.063699, 'x_s_2': -0.5, 'x_p1': 0.59243, 'x_p1_1': 0.49243, 'x_p1_2': -1.0, 'x_p2': 0.128463, 'x_p2_1': 0.028463, 'x_p2_2': -0.5, 'x_r2': 0.592991, 'x_r2_1': 0.492991, 'x_r2_2': -1.483238} using model BoTorch.\n",
      "[INFO 04-04 14:29:25] ax.service.ax_client: Completed trial 236 with data: {'Viable_Cross_Terms': (47, None)}.\n",
      "[INFO 04-04 14:29:54] ax.service.ax_client: Generated new trial 237 with parameters {'z_s': 3, 'z_s_1': 2, 'z_s_2': 8, 'z_p2': 31, 'z_p2_1': 27, 'z_p2_2': 28, 'z_r2': 77, 'z_r2_1': 76, 'z_r2_2': 70, 'x_s': 0.231408, 'x_s_1': -0.119505, 'x_s_2': -0.5, 'x_p1': 0.621497, 'x_p1_1': 0.521497, 'x_p1_2': -0.912334, 'x_p2': 0.030057, 'x_p2_1': -0.069943, 'x_p2_2': -0.5, 'x_r2': 0.100596, 'x_r2_1': 0.000596, 'x_r2_2': -0.099404} using model BoTorch.\n",
      "[INFO 04-04 14:29:54] ax.service.ax_client: Completed trial 237 with data: {'Viable_Cross_Terms': (25, None)}.\n",
      "[INFO 04-04 14:30:24] ax.service.ax_client: Generated new trial 238 with parameters {'z_s': 6, 'z_s_1': 4, 'z_s_2': 8, 'z_p2': 31, 'z_p2_1': 28, 'z_p2_2': 27, 'z_r2': 82, 'z_r2_1': 76, 'z_r2_2': 75, 'x_s': -0.273805, 'x_s_1': -0.373805, 'x_s_2': -0.473805, 'x_p1': 0.438514, 'x_p1_1': 0.338514, 'x_p1_2': 0.230609, 'x_p2': 0.153955, 'x_p2_1': -0.254049, 'x_p2_2': -0.381011, 'x_r2': 0.814195, 'x_r2_1': 0.714195, 'x_r2_2': 0.614195} using model BoTorch.\n",
      "[INFO 04-04 14:30:24] ax.service.ax_client: Completed trial 238 with data: {'Viable_Cross_Terms': (12, None)}.\n",
      "[INFO 04-04 14:30:52] ax.service.ax_client: Generated new trial 239 with parameters {'z_s': 3, 'z_s_1': 6, 'z_s_2': 2, 'z_p2': 31, 'z_p2_1': 26, 'z_p2_2': 32, 'z_r2': 76, 'z_r2_1': 77, 'z_r2_2': 71, 'x_s': 0.243395, 'x_s_1': -0.31351, 'x_s_2': -0.5, 'x_p1': 0.476693, 'x_p1_1': 0.376693, 'x_p1_2': -1.0, 'x_p2': 0.072982, 'x_p2_1': -0.027018, 'x_p2_2': -0.5, 'x_r2': -0.336691, 'x_r2_1': -0.436691, 'x_r2_2': -0.815388} using model BoTorch.\n",
      "[INFO 04-04 14:30:52] ax.service.ax_client: Completed trial 239 with data: {'Viable_Cross_Terms': (17, None)}.\n",
      "[INFO 04-04 14:31:19] ax.service.ax_client: Generated new trial 240 with parameters {'z_s': 3, 'z_s_1': 7, 'z_s_2': 4, 'z_p2': 31, 'z_p2_1': 27, 'z_p2_2': 29, 'z_r2': 78, 'z_r2_1': 77, 'z_r2_2': 75, 'x_s': 0.456557, 'x_s_1': -0.071973, 'x_s_2': -0.5, 'x_p1': 0.58371, 'x_p1_1': 0.48371, 'x_p1_2': -1.0, 'x_p2': 0.141888, 'x_p2_1': 0.041888, 'x_p2_2': -0.5, 'x_r2': 0.820834, 'x_r2_1': 0.511842, 'x_r2_2': -1.5} using model BoTorch.\n",
      "[INFO 04-04 14:31:19] ax.service.ax_client: Completed trial 240 with data: {'Viable_Cross_Terms': (42, None)}.\n",
      "[INFO 04-04 14:31:45] ax.service.ax_client: Generated new trial 241 with parameters {'z_s': 3, 'z_s_1': 6, 'z_s_2': 5, 'z_p2': 31, 'z_p2_1': 30, 'z_p2_2': 33, 'z_r2': 78, 'z_r2_1': 77, 'z_r2_2': 74, 'x_s': 0.471314, 'x_s_1': -0.041171, 'x_s_2': -0.5, 'x_p1': 0.618931, 'x_p1_1': 0.518931, 'x_p1_2': -1.0, 'x_p2': 0.154522, 'x_p2_1': 0.054522, 'x_p2_2': -0.5, 'x_r2': 0.775892, 'x_r2_1': 0.675892, 'x_r2_2': -1.5} using model BoTorch.\n",
      "[INFO 04-04 14:31:45] ax.service.ax_client: Completed trial 241 with data: {'Viable_Cross_Terms': (56, None)}.\n",
      "[INFO 04-04 14:32:12] ax.service.ax_client: Generated new trial 242 with parameters {'z_s': 10, 'z_s_1': 7, 'z_s_2': 5, 'z_p2': 31, 'z_p2_1': 27, 'z_p2_2': 30, 'z_r2': 82, 'z_r2_1': 78, 'z_r2_2': 84, 'x_s': -0.116285, 'x_s_1': -0.216285, 'x_s_2': -0.316285, 'x_p1': 0.225608, 'x_p1_1': 0.125608, 'x_p1_2': 0.025608, 'x_p2': 0.245141, 'x_p2_1': -0.336419, 'x_p2_2': -0.5, 'x_r2': 0.251169, 'x_r2_1': 0.151169, 'x_r2_2': 0.051169} using model BoTorch.\n",
      "[INFO 04-04 14:32:12] ax.service.ax_client: Completed trial 242 with data: {'Viable_Cross_Terms': (49, None)}.\n",
      "[INFO 04-04 14:32:43] ax.service.ax_client: Generated new trial 243 with parameters {'z_s': 3, 'z_s_1': 6, 'z_s_2': 5, 'z_p2': 31, 'z_p2_1': 31, 'z_p2_2': 33, 'z_r2': 78, 'z_r2_1': 77, 'z_r2_2': 74, 'x_s': 0.481893, 'x_s_1': -0.03768, 'x_s_2': -0.5, 'x_p1': 0.622708, 'x_p1_1': 0.522708, 'x_p1_2': -1.0, 'x_p2': 0.158884, 'x_p2_1': 0.058884, 'x_p2_2': -0.5, 'x_r2': 0.770697, 'x_r2_1': 0.670697, 'x_r2_2': -1.5} using model BoTorch.\n",
      "[INFO 04-04 14:32:43] ax.service.ax_client: Completed trial 243 with data: {'Viable_Cross_Terms': (51, None)}.\n",
      "[INFO 04-04 14:33:10] ax.service.ax_client: Generated new trial 244 with parameters {'z_s': 3, 'z_s_1': 9, 'z_s_2': 3, 'z_p2': 31, 'z_p2_1': 33, 'z_p2_2': 33, 'z_r2': 78, 'z_r2_1': 77, 'z_r2_2': 71, 'x_s': 0.5, 'x_s_1': -0.167544, 'x_s_2': -0.5, 'x_p1': 0.66498, 'x_p1_1': 0.56498, 'x_p1_2': -1.0, 'x_p2': 0.17207, 'x_p2_1': 0.07207, 'x_p2_2': -0.5, 'x_r2': 0.625438, 'x_r2_1': 0.525438, 'x_r2_2': -1.5} using model BoTorch.\n",
      "[INFO 04-04 14:33:10] ax.service.ax_client: Completed trial 244 with data: {'Viable_Cross_Terms': (17, None)}.\n",
      "[INFO 04-04 14:33:41] ax.service.ax_client: Generated new trial 245 with parameters {'z_s': 10, 'z_s_1': 7, 'z_s_2': 3, 'z_p2': 31, 'z_p2_1': 26, 'z_p2_2': 31, 'z_r2': 82, 'z_r2_1': 77, 'z_r2_2': 84, 'x_s': -0.186446, 'x_s_1': -0.286446, 'x_s_2': -0.386446, 'x_p1': 0.213614, 'x_p1_1': 0.113614, 'x_p1_2': 0.013614, 'x_p2': 0.306514, 'x_p2_1': -0.339664, 'x_p2_2': -0.5, 'x_r2': 0.181481, 'x_r2_1': 0.081481, 'x_r2_2': -0.018519} using model BoTorch.\n",
      "[INFO 04-04 14:33:41] ax.service.ax_client: Completed trial 245 with data: {'Viable_Cross_Terms': (13, None)}.\n",
      "[INFO 04-04 14:34:12] ax.service.ax_client: Generated new trial 246 with parameters {'z_s': 10, 'z_s_1': 6, 'z_s_2': 6, 'z_p2': 31, 'z_p2_1': 34, 'z_p2_2': 32, 'z_r2': 82, 'z_r2_1': 79, 'z_r2_2': 79, 'x_s': -0.236517, 'x_s_1': -0.336517, 'x_s_2': -0.436517, 'x_p1': 0.241366, 'x_p1_1': 0.141366, 'x_p1_2': 0.041366, 'x_p2': 0.237927, 'x_p2_1': -0.323148, 'x_p2_2': -0.5, 'x_r2': 0.176821, 'x_r2_1': 0.065103, 'x_r2_2': -0.041684} using model BoTorch.\n",
      "[INFO 04-04 14:34:12] ax.service.ax_client: Completed trial 246 with data: {'Viable_Cross_Terms': (8, None)}.\n",
      "[INFO 04-04 14:34:37] ax.service.ax_client: Generated new trial 247 with parameters {'z_s': 10, 'z_s_1': 2, 'z_s_2': 7, 'z_p2': 31, 'z_p2_1': 27, 'z_p2_2': 25, 'z_r2': 82, 'z_r2_1': 73, 'z_r2_2': 84, 'x_s': -0.065381, 'x_s_1': -0.165381, 'x_s_2': -0.265381, 'x_p1': 0.169797, 'x_p1_1': 0.069797, 'x_p1_2': -0.030203, 'x_p2': 0.202356, 'x_p2_1': -0.329926, 'x_p2_2': -0.484687, 'x_r2': -0.057937, 'x_r2_1': -0.157937, 'x_r2_2': -0.257937} using model BoTorch.\n",
      "[INFO 04-04 14:34:37] ax.service.ax_client: Completed trial 247 with data: {'Viable_Cross_Terms': (36, None)}.\n",
      "[INFO 04-04 14:35:07] ax.service.ax_client: Generated new trial 248 with parameters {'z_s': 3, 'z_s_1': 3, 'z_s_2': 5, 'z_p2': 31, 'z_p2_1': 29, 'z_p2_2': 31, 'z_r2': 78, 'z_r2_1': 77, 'z_r2_2': 77, 'x_s': 0.445177, 'x_s_1': 0.006645, 'x_s_2': -0.5, 'x_p1': 0.566986, 'x_p1_1': 0.466986, 'x_p1_2': -1.0, 'x_p2': 0.143872, 'x_p2_1': 0.043872, 'x_p2_2': -0.5, 'x_r2': 1.01567, 'x_r2_1': 0.91567, 'x_r2_2': -1.5} using model BoTorch.\n",
      "[INFO 04-04 14:35:07] ax.service.ax_client: Completed trial 248 with data: {'Viable_Cross_Terms': (32, None)}.\n",
      "[INFO 04-04 14:35:31] ax.service.ax_client: Generated new trial 249 with parameters {'z_s': 3, 'z_s_1': 6, 'z_s_2': 5, 'z_p2': 31, 'z_p2_1': 27, 'z_p2_2': 33, 'z_r2': 78, 'z_r2_1': 78, 'z_r2_2': 73, 'x_s': 0.391432, 'x_s_1': 0.119067, 'x_s_2': -0.5, 'x_p1': 0.549558, 'x_p1_1': 0.449558, 'x_p1_2': -1.0, 'x_p2': 0.122885, 'x_p2_1': 0.022885, 'x_p2_2': -0.5, 'x_r2': 0.934302, 'x_r2_1': 0.834302, 'x_r2_2': -1.200021} using model BoTorch.\n",
      "[INFO 04-04 14:35:31] ax.service.ax_client: Completed trial 249 with data: {'Viable_Cross_Terms': (26, None)}.\n",
      "[INFO 04-04 14:36:05] ax.service.ax_client: Generated new trial 250 with parameters {'z_s': 3, 'z_s_1': 7, 'z_s_2': 5, 'z_p2': 31, 'z_p2_1': 30, 'z_p2_2': 30, 'z_r2': 78, 'z_r2_1': 76, 'z_r2_2': 76, 'x_s': 0.434212, 'x_s_1': -0.068036, 'x_s_2': -0.5, 'x_p1': 0.658982, 'x_p1_1': 0.52345, 'x_p1_2': -1.0, 'x_p2': 0.140258, 'x_p2_1': 0.040258, 'x_p2_2': -0.5, 'x_r2': 0.057823, 'x_r2_1': -0.042177, 'x_r2_2': -1.489141} using model BoTorch.\n",
      "[INFO 04-04 14:36:05] ax.service.ax_client: Completed trial 250 with data: {'Viable_Cross_Terms': (28, None)}.\n",
      "[INFO 04-04 14:36:31] ax.service.ax_client: Generated new trial 251 with parameters {'z_s': 3, 'z_s_1': 5, 'z_s_2': 5, 'z_p2': 31, 'z_p2_1': 26, 'z_p2_2': 30, 'z_r2': 78, 'z_r2_1': 78, 'z_r2_2': 74, 'x_s': 0.5, 'x_s_1': -0.4, 'x_s_2': -0.5, 'x_p1': 0.671818, 'x_p1_1': 0.453279, 'x_p1_2': -0.755416, 'x_p2': 0.133854, 'x_p2_1': 0.033854, 'x_p2_2': -0.5, 'x_r2': 0.82687, 'x_r2_1': 0.485603, 'x_r2_2': -0.18689} using model BoTorch.\n",
      "[INFO 04-04 14:36:31] ax.service.ax_client: Completed trial 251 with data: {'Viable_Cross_Terms': (35, None)}.\n",
      "[INFO 04-04 14:36:58] ax.service.ax_client: Generated new trial 252 with parameters {'z_s': 3, 'z_s_1': 6, 'z_s_2': 6, 'z_p2': 31, 'z_p2_1': 28, 'z_p2_2': 28, 'z_r2': 78, 'z_r2_1': 77, 'z_r2_2': 73, 'x_s': 0.5, 'x_s_1': -0.055584, 'x_s_2': -0.5, 'x_p1': 0.586327, 'x_p1_1': 0.486327, 'x_p1_2': -1.0, 'x_p2': 0.155807, 'x_p2_1': 0.055807, 'x_p2_2': -0.5, 'x_r2': 0.902713, 'x_r2_1': 0.802713, 'x_r2_2': -0.327412} using model BoTorch.\n",
      "[INFO 04-04 14:36:58] ax.service.ax_client: Completed trial 252 with data: {'Viable_Cross_Terms': (22, None)}.\n",
      "[INFO 04-04 14:37:26] ax.service.ax_client: Generated new trial 253 with parameters {'z_s': 9, 'z_s_1': 10, 'z_s_2': 8, 'z_p2': 31, 'z_p2_1': 28, 'z_p2_2': 28, 'z_r2': 82, 'z_r2_1': 83, 'z_r2_2': 84, 'x_s': -0.049763, 'x_s_1': -0.156238, 'x_s_2': -0.256238, 'x_p1': 0.271077, 'x_p1_1': 0.171077, 'x_p1_2': 0.071077, 'x_p2': 0.171337, 'x_p2_1': -0.299122, 'x_p2_2': -0.460529, 'x_r2': 0.348281, 'x_r2_1': 0.248281, 'x_r2_2': 0.148281} using model BoTorch.\n",
      "[INFO 04-04 14:37:26] ax.service.ax_client: Completed trial 253 with data: {'Viable_Cross_Terms': (41, None)}.\n",
      "[INFO 04-04 14:37:51] ax.service.ax_client: Generated new trial 254 with parameters {'z_s': 3, 'z_s_1': 5, 'z_s_2': 5, 'z_p2': 31, 'z_p2_1': 26, 'z_p2_2': 26, 'z_r2': 80, 'z_r2_1': 78, 'z_r2_2': 81, 'x_s': 0.5, 'x_s_1': -0.115121, 'x_s_2': -0.5, 'x_p1': 0.456636, 'x_p1_1': 0.356636, 'x_p1_2': 0.256636, 'x_p2': 0.154122, 'x_p2_1': -0.128379, 'x_p2_2': -0.5, 'x_r2': 0.382531, 'x_r2_1': 0.282531, 'x_r2_2': -0.910382} using model BoTorch.\n",
      "[INFO 04-04 14:37:51] ax.service.ax_client: Completed trial 254 with data: {'Viable_Cross_Terms': (49, None)}.\n",
      "[INFO 04-04 14:38:18] ax.service.ax_client: Generated new trial 255 with parameters {'z_s': 3, 'z_s_1': 2, 'z_s_2': 6, 'z_p2': 31, 'z_p2_1': 26, 'z_p2_2': 28, 'z_r2': 77, 'z_r2_1': 79, 'z_r2_2': 79, 'x_s': 0.5, 'x_s_1': -0.092945, 'x_s_2': -0.5, 'x_p1': 0.497533, 'x_p1_1': 0.397533, 'x_p1_2': 0.256598, 'x_p2': 0.150332, 'x_p2_1': -0.104797, 'x_p2_2': -0.5, 'x_r2': 0.450555, 'x_r2_1': 0.350555, 'x_r2_2': -1.054112} using model BoTorch.\n",
      "[INFO 04-04 14:38:18] ax.service.ax_client: Completed trial 255 with data: {'Viable_Cross_Terms': (14, None)}.\n",
      "[INFO 04-04 14:38:53] ax.service.ax_client: Generated new trial 256 with parameters {'z_s': 7, 'z_s_1': 7, 'z_s_2': 6, 'z_p2': 31, 'z_p2_1': 26, 'z_p2_2': 27, 'z_r2': 81, 'z_r2_1': 80, 'z_r2_2': 84, 'x_s': 0.215163, 'x_s_1': -0.110017, 'x_s_2': -0.384694, 'x_p1': 0.375767, 'x_p1_1': 0.275767, 'x_p1_2': 0.175767, 'x_p2': 0.183298, 'x_p2_1': -0.261355, 'x_p2_2': -0.5, 'x_r2': 0.128131, 'x_r2_1': 0.028131, 'x_r2_2': -0.566577} using model BoTorch.\n",
      "[INFO 04-04 14:38:53] ax.service.ax_client: Completed trial 256 with data: {'Viable_Cross_Terms': (22, None)}.\n",
      "[INFO 04-04 14:39:26] ax.service.ax_client: Generated new trial 257 with parameters {'z_s': 4, 'z_s_1': 6, 'z_s_2': 3, 'z_p2': 31, 'z_p2_1': 31, 'z_p2_2': 31, 'z_r2': 78, 'z_r2_1': 73, 'z_r2_2': 76, 'x_s': 0.4941, 'x_s_1': -0.192848, 'x_s_2': -0.5, 'x_p1': 0.69012, 'x_p1_1': 0.59012, 'x_p1_2': -0.980752, 'x_p2': 0.177364, 'x_p2_1': 0.077364, 'x_p2_2': -0.5, 'x_r2': 1.187558, 'x_r2_1': 0.996683, 'x_r2_2': -0.681695} using model BoTorch.\n",
      "[INFO 04-04 14:39:26] ax.service.ax_client: Completed trial 257 with data: {'Viable_Cross_Terms': (31, None)}.\n",
      "[INFO 04-04 14:40:03] ax.service.ax_client: Generated new trial 258 with parameters {'z_s': 10, 'z_s_1': 7, 'z_s_2': 8, 'z_p2': 31, 'z_p2_1': 28, 'z_p2_2': 27, 'z_r2': 82, 'z_r2_1': 76, 'z_r2_2': 84, 'x_s': -0.080354, 'x_s_1': -0.20217, 'x_s_2': -0.302605, 'x_p1': 0.2384, 'x_p1_1': 0.135905, 'x_p1_2': 0.012167, 'x_p2': 0.247947, 'x_p2_1': -0.317304, 'x_p2_2': -0.470164, 'x_r2': 0.207764, 'x_r2_1': 0.107764, 'x_r2_2': 0.007764} using model BoTorch.\n",
      "[INFO 04-04 14:40:03] ax.service.ax_client: Completed trial 258 with data: {'Viable_Cross_Terms': (33, None)}.\n",
      "[INFO 04-04 14:40:31] ax.service.ax_client: Generated new trial 259 with parameters {'z_s': 3, 'z_s_1': 4, 'z_s_2': 6, 'z_p2': 31, 'z_p2_1': 26, 'z_p2_2': 33, 'z_r2': 78, 'z_r2_1': 81, 'z_r2_2': 77, 'x_s': 0.432931, 'x_s_1': -0.150288, 'x_s_2': -0.5, 'x_p1': 0.572702, 'x_p1_1': 0.472702, 'x_p1_2': -1.0, 'x_p2': 0.115094, 'x_p2_1': 0.015094, 'x_p2_2': -0.5, 'x_r2': 0.53417, 'x_r2_1': 0.43417, 'x_r2_2': -1.5} using model BoTorch.\n",
      "[INFO 04-04 14:40:31] ax.service.ax_client: Completed trial 259 with data: {'Viable_Cross_Terms': (36, None)}.\n",
      "[INFO 04-04 14:41:06] ax.service.ax_client: Generated new trial 260 with parameters {'z_s': 11, 'z_s_1': 3, 'z_s_2': 9, 'z_p2': 31, 'z_p2_1': 27, 'z_p2_2': 31, 'z_r2': 82, 'z_r2_1': 84, 'z_r2_2': 73, 'x_s': 0.175307, 'x_s_1': 0.075307, 'x_s_2': -0.024693, 'x_p1': 0.216406, 'x_p1_1': 0.116406, 'x_p1_2': 0.009012, 'x_p2': 0.091832, 'x_p2_1': -0.376158, 'x_p2_2': -0.476158, 'x_r2': 0.571342, 'x_r2_1': 0.471342, 'x_r2_2': 0.371342} using model BoTorch.\n",
      "[INFO 04-04 14:41:06] ax.service.ax_client: Completed trial 260 with data: {'Viable_Cross_Terms': (18, None)}.\n"
     ]
    }
   ],
   "source": [
    "for i in range(100):\n",
    "    parameterization, trial_index = Tag_client.get_next_trial()\n",
    "    # Local evaluation here can be replaced with deployment to external system.\n",
    "    Tag_client.complete_trial(trial_index=trial_index, raw_data=score_vals(param_to_list(parameterization)))"
   ]
  },
  {
   "cell_type": "code",
   "execution_count": 31,
   "metadata": {},
   "outputs": [
    {
     "data": {
      "text/html": [
       "<div>\n",
       "<style scoped>\n",
       "    .dataframe tbody tr th:only-of-type {\n",
       "        vertical-align: middle;\n",
       "    }\n",
       "\n",
       "    .dataframe tbody tr th {\n",
       "        vertical-align: top;\n",
       "    }\n",
       "\n",
       "    .dataframe thead th {\n",
       "        text-align: right;\n",
       "    }\n",
       "</style>\n",
       "<table border=\"1\" class=\"dataframe\">\n",
       "  <thead>\n",
       "    <tr style=\"text-align: right;\">\n",
       "      <th></th>\n",
       "      <th>trial_index</th>\n",
       "      <th>arm_name</th>\n",
       "      <th>trial_status</th>\n",
       "      <th>generation_method</th>\n",
       "      <th>generation_node</th>\n",
       "      <th>Viable_Cross_Terms</th>\n",
       "      <th>z_s</th>\n",
       "      <th>z_s_1</th>\n",
       "      <th>z_s_2</th>\n",
       "      <th>z_p2</th>\n",
       "      <th>...</th>\n",
       "      <th>x_s_2</th>\n",
       "      <th>x_p1</th>\n",
       "      <th>x_p1_1</th>\n",
       "      <th>x_p1_2</th>\n",
       "      <th>x_p2</th>\n",
       "      <th>x_p2_1</th>\n",
       "      <th>x_p2_2</th>\n",
       "      <th>x_r2</th>\n",
       "      <th>x_r2_1</th>\n",
       "      <th>x_r2_2</th>\n",
       "    </tr>\n",
       "  </thead>\n",
       "  <tbody>\n",
       "    <tr>\n",
       "      <th>0</th>\n",
       "      <td>0</td>\n",
       "      <td>0_0</td>\n",
       "      <td>COMPLETED</td>\n",
       "      <td>Sobol</td>\n",
       "      <td>GenerationStep_0</td>\n",
       "      <td>23.0</td>\n",
       "      <td>4</td>\n",
       "      <td>14</td>\n",
       "      <td>2</td>\n",
       "      <td>34</td>\n",
       "      <td>...</td>\n",
       "      <td>-0.267983</td>\n",
       "      <td>0.406724</td>\n",
       "      <td>-0.487027</td>\n",
       "      <td>-0.819365</td>\n",
       "      <td>0.411736</td>\n",
       "      <td>0.287000</td>\n",
       "      <td>-0.358565</td>\n",
       "      <td>-0.481922</td>\n",
       "      <td>-0.624526</td>\n",
       "      <td>-1.225820</td>\n",
       "    </tr>\n",
       "    <tr>\n",
       "      <th>1</th>\n",
       "      <td>1</td>\n",
       "      <td>1_0</td>\n",
       "      <td>COMPLETED</td>\n",
       "      <td>Sobol</td>\n",
       "      <td>GenerationStep_0</td>\n",
       "      <td>0.0</td>\n",
       "      <td>13</td>\n",
       "      <td>14</td>\n",
       "      <td>3</td>\n",
       "      <td>30</td>\n",
       "      <td>...</td>\n",
       "      <td>-0.424703</td>\n",
       "      <td>-0.096240</td>\n",
       "      <td>-0.748804</td>\n",
       "      <td>-0.956622</td>\n",
       "      <td>-0.089115</td>\n",
       "      <td>-0.216367</td>\n",
       "      <td>-0.359825</td>\n",
       "      <td>1.397608</td>\n",
       "      <td>1.015468</td>\n",
       "      <td>0.619523</td>\n",
       "    </tr>\n",
       "    <tr>\n",
       "      <th>2</th>\n",
       "      <td>2</td>\n",
       "      <td>2_0</td>\n",
       "      <td>COMPLETED</td>\n",
       "      <td>Sobol</td>\n",
       "      <td>GenerationStep_0</td>\n",
       "      <td>10.0</td>\n",
       "      <td>15</td>\n",
       "      <td>3</td>\n",
       "      <td>4</td>\n",
       "      <td>30</td>\n",
       "      <td>...</td>\n",
       "      <td>-0.362195</td>\n",
       "      <td>0.393837</td>\n",
       "      <td>-0.278691</td>\n",
       "      <td>-0.743073</td>\n",
       "      <td>0.103719</td>\n",
       "      <td>-0.109155</td>\n",
       "      <td>-0.447294</td>\n",
       "      <td>-0.475565</td>\n",
       "      <td>-0.885141</td>\n",
       "      <td>-1.117790</td>\n",
       "    </tr>\n",
       "    <tr>\n",
       "      <th>3</th>\n",
       "      <td>3</td>\n",
       "      <td>3_0</td>\n",
       "      <td>COMPLETED</td>\n",
       "      <td>Sobol</td>\n",
       "      <td>GenerationStep_0</td>\n",
       "      <td>15.0</td>\n",
       "      <td>9</td>\n",
       "      <td>8</td>\n",
       "      <td>8</td>\n",
       "      <td>27</td>\n",
       "      <td>...</td>\n",
       "      <td>-0.436929</td>\n",
       "      <td>0.900059</td>\n",
       "      <td>0.235358</td>\n",
       "      <td>-0.653168</td>\n",
       "      <td>-0.140779</td>\n",
       "      <td>-0.320558</td>\n",
       "      <td>-0.447464</td>\n",
       "      <td>1.113364</td>\n",
       "      <td>-0.140545</td>\n",
       "      <td>-1.117658</td>\n",
       "    </tr>\n",
       "    <tr>\n",
       "      <th>4</th>\n",
       "      <td>4</td>\n",
       "      <td>4_0</td>\n",
       "      <td>COMPLETED</td>\n",
       "      <td>Sobol</td>\n",
       "      <td>GenerationStep_0</td>\n",
       "      <td>12.0</td>\n",
       "      <td>4</td>\n",
       "      <td>6</td>\n",
       "      <td>1</td>\n",
       "      <td>31</td>\n",
       "      <td>...</td>\n",
       "      <td>-0.444333</td>\n",
       "      <td>0.652787</td>\n",
       "      <td>0.471753</td>\n",
       "      <td>-0.766865</td>\n",
       "      <td>0.478475</td>\n",
       "      <td>0.350862</td>\n",
       "      <td>-0.386281</td>\n",
       "      <td>0.163649</td>\n",
       "      <td>-1.097523</td>\n",
       "      <td>-1.374402</td>\n",
       "    </tr>\n",
       "    <tr>\n",
       "      <th>...</th>\n",
       "      <td>...</td>\n",
       "      <td>...</td>\n",
       "      <td>...</td>\n",
       "      <td>...</td>\n",
       "      <td>...</td>\n",
       "      <td>...</td>\n",
       "      <td>...</td>\n",
       "      <td>...</td>\n",
       "      <td>...</td>\n",
       "      <td>...</td>\n",
       "      <td>...</td>\n",
       "      <td>...</td>\n",
       "      <td>...</td>\n",
       "      <td>...</td>\n",
       "      <td>...</td>\n",
       "      <td>...</td>\n",
       "      <td>...</td>\n",
       "      <td>...</td>\n",
       "      <td>...</td>\n",
       "      <td>...</td>\n",
       "      <td>...</td>\n",
       "    </tr>\n",
       "    <tr>\n",
       "      <th>256</th>\n",
       "      <td>256</td>\n",
       "      <td>256_0</td>\n",
       "      <td>COMPLETED</td>\n",
       "      <td>BoTorch</td>\n",
       "      <td>GenerationStep_1</td>\n",
       "      <td>22.0</td>\n",
       "      <td>7</td>\n",
       "      <td>7</td>\n",
       "      <td>6</td>\n",
       "      <td>31</td>\n",
       "      <td>...</td>\n",
       "      <td>-0.384694</td>\n",
       "      <td>0.375767</td>\n",
       "      <td>0.275767</td>\n",
       "      <td>0.175767</td>\n",
       "      <td>0.183298</td>\n",
       "      <td>-0.261355</td>\n",
       "      <td>-0.500000</td>\n",
       "      <td>0.128131</td>\n",
       "      <td>0.028131</td>\n",
       "      <td>-0.566577</td>\n",
       "    </tr>\n",
       "    <tr>\n",
       "      <th>257</th>\n",
       "      <td>257</td>\n",
       "      <td>257_0</td>\n",
       "      <td>COMPLETED</td>\n",
       "      <td>BoTorch</td>\n",
       "      <td>GenerationStep_1</td>\n",
       "      <td>31.0</td>\n",
       "      <td>4</td>\n",
       "      <td>6</td>\n",
       "      <td>3</td>\n",
       "      <td>31</td>\n",
       "      <td>...</td>\n",
       "      <td>-0.500000</td>\n",
       "      <td>0.690120</td>\n",
       "      <td>0.590120</td>\n",
       "      <td>-0.980752</td>\n",
       "      <td>0.177364</td>\n",
       "      <td>0.077364</td>\n",
       "      <td>-0.500000</td>\n",
       "      <td>1.187558</td>\n",
       "      <td>0.996683</td>\n",
       "      <td>-0.681695</td>\n",
       "    </tr>\n",
       "    <tr>\n",
       "      <th>258</th>\n",
       "      <td>258</td>\n",
       "      <td>258_0</td>\n",
       "      <td>COMPLETED</td>\n",
       "      <td>BoTorch</td>\n",
       "      <td>GenerationStep_1</td>\n",
       "      <td>33.0</td>\n",
       "      <td>10</td>\n",
       "      <td>7</td>\n",
       "      <td>8</td>\n",
       "      <td>31</td>\n",
       "      <td>...</td>\n",
       "      <td>-0.302605</td>\n",
       "      <td>0.238400</td>\n",
       "      <td>0.135905</td>\n",
       "      <td>0.012167</td>\n",
       "      <td>0.247947</td>\n",
       "      <td>-0.317304</td>\n",
       "      <td>-0.470164</td>\n",
       "      <td>0.207764</td>\n",
       "      <td>0.107764</td>\n",
       "      <td>0.007764</td>\n",
       "    </tr>\n",
       "    <tr>\n",
       "      <th>259</th>\n",
       "      <td>259</td>\n",
       "      <td>259_0</td>\n",
       "      <td>COMPLETED</td>\n",
       "      <td>BoTorch</td>\n",
       "      <td>GenerationStep_1</td>\n",
       "      <td>36.0</td>\n",
       "      <td>3</td>\n",
       "      <td>4</td>\n",
       "      <td>6</td>\n",
       "      <td>31</td>\n",
       "      <td>...</td>\n",
       "      <td>-0.500000</td>\n",
       "      <td>0.572702</td>\n",
       "      <td>0.472702</td>\n",
       "      <td>-1.000000</td>\n",
       "      <td>0.115094</td>\n",
       "      <td>0.015094</td>\n",
       "      <td>-0.500000</td>\n",
       "      <td>0.534170</td>\n",
       "      <td>0.434170</td>\n",
       "      <td>-1.500000</td>\n",
       "    </tr>\n",
       "    <tr>\n",
       "      <th>260</th>\n",
       "      <td>260</td>\n",
       "      <td>260_0</td>\n",
       "      <td>COMPLETED</td>\n",
       "      <td>BoTorch</td>\n",
       "      <td>GenerationStep_1</td>\n",
       "      <td>18.0</td>\n",
       "      <td>11</td>\n",
       "      <td>3</td>\n",
       "      <td>9</td>\n",
       "      <td>31</td>\n",
       "      <td>...</td>\n",
       "      <td>-0.024693</td>\n",
       "      <td>0.216406</td>\n",
       "      <td>0.116406</td>\n",
       "      <td>0.009012</td>\n",
       "      <td>0.091832</td>\n",
       "      <td>-0.376158</td>\n",
       "      <td>-0.476158</td>\n",
       "      <td>0.571342</td>\n",
       "      <td>0.471342</td>\n",
       "      <td>0.371342</td>\n",
       "    </tr>\n",
       "  </tbody>\n",
       "</table>\n",
       "<p>261 rows × 27 columns</p>\n",
       "</div>"
      ],
      "text/plain": [
       "     trial_index arm_name trial_status generation_method   generation_node  \\\n",
       "0              0      0_0    COMPLETED             Sobol  GenerationStep_0   \n",
       "1              1      1_0    COMPLETED             Sobol  GenerationStep_0   \n",
       "2              2      2_0    COMPLETED             Sobol  GenerationStep_0   \n",
       "3              3      3_0    COMPLETED             Sobol  GenerationStep_0   \n",
       "4              4      4_0    COMPLETED             Sobol  GenerationStep_0   \n",
       "..           ...      ...          ...               ...               ...   \n",
       "256          256    256_0    COMPLETED           BoTorch  GenerationStep_1   \n",
       "257          257    257_0    COMPLETED           BoTorch  GenerationStep_1   \n",
       "258          258    258_0    COMPLETED           BoTorch  GenerationStep_1   \n",
       "259          259    259_0    COMPLETED           BoTorch  GenerationStep_1   \n",
       "260          260    260_0    COMPLETED           BoTorch  GenerationStep_1   \n",
       "\n",
       "     Viable_Cross_Terms  z_s  z_s_1  z_s_2  z_p2  ...     x_s_2      x_p1  \\\n",
       "0                  23.0    4     14      2    34  ... -0.267983  0.406724   \n",
       "1                   0.0   13     14      3    30  ... -0.424703 -0.096240   \n",
       "2                  10.0   15      3      4    30  ... -0.362195  0.393837   \n",
       "3                  15.0    9      8      8    27  ... -0.436929  0.900059   \n",
       "4                  12.0    4      6      1    31  ... -0.444333  0.652787   \n",
       "..                  ...  ...    ...    ...   ...  ...       ...       ...   \n",
       "256                22.0    7      7      6    31  ... -0.384694  0.375767   \n",
       "257                31.0    4      6      3    31  ... -0.500000  0.690120   \n",
       "258                33.0   10      7      8    31  ... -0.302605  0.238400   \n",
       "259                36.0    3      4      6    31  ... -0.500000  0.572702   \n",
       "260                18.0   11      3      9    31  ... -0.024693  0.216406   \n",
       "\n",
       "       x_p1_1    x_p1_2      x_p2    x_p2_1    x_p2_2      x_r2    x_r2_1  \\\n",
       "0   -0.487027 -0.819365  0.411736  0.287000 -0.358565 -0.481922 -0.624526   \n",
       "1   -0.748804 -0.956622 -0.089115 -0.216367 -0.359825  1.397608  1.015468   \n",
       "2   -0.278691 -0.743073  0.103719 -0.109155 -0.447294 -0.475565 -0.885141   \n",
       "3    0.235358 -0.653168 -0.140779 -0.320558 -0.447464  1.113364 -0.140545   \n",
       "4    0.471753 -0.766865  0.478475  0.350862 -0.386281  0.163649 -1.097523   \n",
       "..        ...       ...       ...       ...       ...       ...       ...   \n",
       "256  0.275767  0.175767  0.183298 -0.261355 -0.500000  0.128131  0.028131   \n",
       "257  0.590120 -0.980752  0.177364  0.077364 -0.500000  1.187558  0.996683   \n",
       "258  0.135905  0.012167  0.247947 -0.317304 -0.470164  0.207764  0.107764   \n",
       "259  0.472702 -1.000000  0.115094  0.015094 -0.500000  0.534170  0.434170   \n",
       "260  0.116406  0.009012  0.091832 -0.376158 -0.476158  0.571342  0.471342   \n",
       "\n",
       "       x_r2_2  \n",
       "0   -1.225820  \n",
       "1    0.619523  \n",
       "2   -1.117790  \n",
       "3   -1.117658  \n",
       "4   -1.374402  \n",
       "..        ...  \n",
       "256 -0.566577  \n",
       "257 -0.681695  \n",
       "258  0.007764  \n",
       "259 -1.500000  \n",
       "260  0.371342  \n",
       "\n",
       "[261 rows x 27 columns]"
      ]
     },
     "execution_count": 31,
     "metadata": {},
     "output_type": "execute_result"
    }
   ],
   "source": [
    "Tag_client.generation_strategy.trials_as_df"
   ]
  },
  {
   "cell_type": "code",
   "execution_count": 101,
   "metadata": {},
   "outputs": [
    {
     "name": "stdout",
     "output_type": "stream",
     "text": [
      "z_s: 3\n",
      "z_s_1: 7\n",
      "z_s_2: 5\n",
      "z_p2: 31\n",
      "z_p2_1: 26\n",
      "z_p2_2: 30\n",
      "z_r2: 79\n",
      "z_r2_1: 77\n",
      "z_r2_2: 77\n",
      "x_s: 0.17349965513764704\n",
      "x_s_1: 0.07349965513764674\n",
      "x_s_2: -0.5\n",
      "x_p1: 0.45120902502584115\n",
      "x_p1_1: 0.351209025025841\n",
      "x_p1_2: -0.9573386006388365\n",
      "x_p2: 0.08684245707229843\n",
      "x_p2_1: -0.2507809491531123\n",
      "x_p2_2: -0.5\n",
      "x_r2: 0.5876409705413281\n",
      "x_r2_1: 0.4876409705413281\n",
      "x_r2_2: -0.08496851087478198\n",
      "39\n"
     ]
    }
   ],
   "source": [
    "best_parameters, values = Tag_client.get_best_parameters()\n",
    "for name, value in best_parameters.items():\n",
    "    print(f\"{name}: {value}\")\n",
    "print(score_vals(param_to_list(best_parameters)))"
   ]
  },
  {
   "cell_type": "code",
   "execution_count": 90,
   "metadata": {},
   "outputs": [
    {
     "data": {
      "text/plain": [
       "[array([ 6, 14, 10]),\n",
       " array([31, 26, 30]),\n",
       " array([79, 77, 78]),\n",
       " array([-0.02787722, -0.12787722, -0.5       ]),\n",
       " array([ 0.57009688,  0.47009688, -1.        ]),\n",
       " array([ 0.18109515,  0.08109515, -0.5       ]),\n",
       " array([ 0.67534536,  0.57534536, -1.5       ])]"
      ]
     },
     "execution_count": 90,
     "metadata": {},
     "output_type": "execute_result"
    }
   ],
   "source": [
    "param_to_list(best_parameters)"
   ]
  },
  {
   "cell_type": "code",
   "execution_count": 41,
   "metadata": {},
   "outputs": [],
   "source": [
    "import importlib"
   ]
  },
  {
   "cell_type": "code",
   "execution_count": 44,
   "metadata": {},
   "outputs": [],
   "source": [
    "%load_ext autoreload"
   ]
  },
  {
   "cell_type": "code",
   "execution_count": 91,
   "metadata": {},
   "outputs": [],
   "source": [
    "z_s = np.array([6, 10, 8])/2\n",
    "z_p1 = np.array([42, 40, 41])\n",
    "z_p2 = np.array([32, 31, 30])\n",
    "z_r2 = np.array([80, 78, 77])\n",
    "x_s = np.array([0.5, 0.4, 0.3])\n",
    "x_p1 = np.array([0.8, 0.7, 0.6])\n",
    "x_p2 = np.array([0.4, 0.3, 0.2])\n",
    "x_r2 = np.array([1.2, 1.0, 0.8])\n",
    "\n",
    "Yi_vals = [z_s, z_p2, z_r2, x_s, x_p1, x_p2, x_r2] #list of arrays"
   ]
  },
  {
   "cell_type": "code",
   "execution_count": 84,
   "metadata": {},
   "outputs": [],
   "source": [
    "%autoreload 2\n",
    "from utils import list_to_param"
   ]
  },
  {
   "cell_type": "code",
   "execution_count": 92,
   "metadata": {},
   "outputs": [],
   "source": [
    "Yi_list = list_to_param(Yi_vals)\n"
   ]
  },
  {
   "cell_type": "code",
   "execution_count": 93,
   "metadata": {},
   "outputs": [
    {
     "name": "stderr",
     "output_type": "stream",
     "text": [
      "[INFO 04-04 16:18:41] ax.core.experiment: Attached custom parameterizations [{'z_s': 3, 'z_s_1': 5, 'z_s_2': 4, 'z_p2': 32, 'z_p2_1': 31, 'z_p2_2': 30, 'z_r2': 80, 'z_r2_1': 78, 'z_r2_2': 77, 'x_s': 0.5, 'x_s_1': 0.4, 'x_s_2': 0.3, 'x_p1': 0.8, 'x_p1_1': 0.7, 'x_p1_2': 0.6, 'x_p2': 0.4, 'x_p2_1': 0.3, 'x_p2_2': 0.2, 'x_r2': 1.2, 'x_r2_1': 1.0, 'x_r2_2': 0.8}] as trial 362.\n"
     ]
    },
    {
     "data": {
      "text/plain": [
       "({'z_s': 3,\n",
       "  'z_s_1': 5,\n",
       "  'z_s_2': 4,\n",
       "  'z_p2': 32,\n",
       "  'z_p2_1': 31,\n",
       "  'z_p2_2': 30,\n",
       "  'z_r2': 80,\n",
       "  'z_r2_1': 78,\n",
       "  'z_r2_2': 77,\n",
       "  'x_s': 0.5,\n",
       "  'x_s_1': 0.4,\n",
       "  'x_s_2': 0.3,\n",
       "  'x_p1': 0.8,\n",
       "  'x_p1_1': 0.7,\n",
       "  'x_p1_2': 0.6,\n",
       "  'x_p2': 0.4,\n",
       "  'x_p2_1': 0.3,\n",
       "  'x_p2_2': 0.2,\n",
       "  'x_r2': 1.2,\n",
       "  'x_r2_1': 1.0,\n",
       "  'x_r2_2': 0.8},\n",
       " 362)"
      ]
     },
     "execution_count": 93,
     "metadata": {},
     "output_type": "execute_result"
    }
   ],
   "source": [
    "Tag_client.attach_trial(\n",
    "        parameters=Yi_list\n",
    "    )"
   ]
  },
  {
   "cell_type": "code",
   "execution_count": 95,
   "metadata": {},
   "outputs": [
    {
     "name": "stderr",
     "output_type": "stream",
     "text": [
      "[INFO 04-04 16:18:55] ax.service.ax_client: Completed trial 362 with data: {'Viable_Cross_Terms': (130, None)}.\n"
     ]
    }
   ],
   "source": [
    "Tag_client.complete_trial(trial_index=362, raw_data=score_vals(param_to_list(Yi_list)))"
   ]
  },
  {
   "cell_type": "code",
   "execution_count": 120,
   "metadata": {},
   "outputs": [
    {
     "data": {
      "application/vnd.plotly.v1+json": {
       "config": {
        "linkText": "Export to plot.ly",
        "plotlyServerURL": "https://plot.ly",
        "showLink": false
       },
       "data": [
        {
         "hoverinfo": "none",
         "legendgroup": "",
         "line": {
          "width": 0
         },
         "mode": "lines",
         "showlegend": false,
         "type": "scatter",
         "x": {
          "bdata": "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",
          "dtype": "i4"
         },
         "y": {
          "bdata": "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",
          "dtype": "f8"
         }
        },
        {
         "fill": "tonexty",
         "fillcolor": "rgba(128,177,211,0.3)",
         "legendgroup": "objective value",
         "line": {
          "color": "rgba(128,177,211,1)"
         },
         "mode": "lines",
         "name": "objective value",
         "text": [
          "Parameterization has too many items to render on hover (21).",
          "Parameterization has too many items to render on hover (21).",
          "Parameterization has too many items to render on hover (21).",
          "Parameterization has too many items to render on hover (21).",
          "Parameterization has too many items to render on hover (21).",
          "Parameterization has too many items to render on hover (21).",
          "Parameterization has too many items to render on hover (21).",
          "Parameterization has too many items to render on hover (21).",
          "Parameterization has too many items to render on hover (21).",
          "Parameterization has too many items to render on hover (21).",
          "Parameterization has too many items to render on hover (21).",
          "Parameterization has too many items to render on hover (21).",
          "Parameterization has too many items to render on hover (21).",
          "Parameterization has too many items to render on hover (21).",
          "Parameterization has too many items to render on hover (21).",
          "Parameterization has too many items to render on hover (21).",
          "Parameterization has too many items to render on hover (21).",
          "Parameterization has too many items to render on hover (21).",
          "Parameterization has too many items to render on hover (21).",
          "Parameterization has too many items to render on hover (21).",
          "Parameterization has too many items to render on hover (21).",
          "Parameterization has too many items to render on hover (21).",
          "Parameterization has too many items to render on hover (21).",
          "Parameterization has too many items to render on hover (21).",
          "Parameterization has too many items to render on hover (21).",
          "Parameterization has too many items to render on hover (21).",
          "Parameterization has too many items to render on hover (21).",
          "Parameterization has too many items to render on hover (21).",
          "Parameterization has too many items to render on hover (21).",
          "Parameterization has too many items to render on hover (21).",
          "Parameterization has too many items to render on hover (21).",
          "Parameterization has too many items to render on hover (21).",
          "Parameterization has too many items to render on hover (21).",
          "Parameterization has too many items to render on hover (21).",
          "Parameterization has too many items to render on hover (21).",
          "Parameterization has too many items to render on hover (21).",
          "Parameterization has too many items to render on hover (21).",
          "Parameterization has too many items to render on hover (21).",
          "Parameterization has too many items to render on hover (21).",
          "Parameterization has too many items to render on hover (21).",
          "Parameterization has too many items to render on hover (21).",
          "Parameterization has too many items to render on hover (21).",
          "Parameterization has too many items to render on hover (21).",
          "Parameterization has too many items to render on hover (21).",
          "Parameterization has too many items to render on hover (21).",
          "Parameterization has too many items to render on hover (21).",
          "Parameterization has too many items to render on hover (21).",
          "Parameterization has too many items to render on hover (21).",
          "Parameterization has too many items to render on hover (21).",
          "Parameterization has too many items to render on hover (21).",
          "Parameterization has too many items to render on hover (21).",
          "Parameterization has too many items to render on hover (21).",
          "Parameterization has too many items to render on hover (21).",
          "Parameterization has too many items to render on hover (21).",
          "Parameterization has too many items to render on hover (21).",
          "Parameterization has too many items to render on hover (21).",
          "Parameterization has too many items to render on hover (21).",
          "Parameterization has too many items to render on hover (21).",
          "Parameterization has too many items to render on hover (21).",
          "Parameterization has too many items to render on hover (21).",
          "Parameterization has too many items to render on hover (21).",
          "Parameterization has too many items to render on hover (21).",
          "Parameterization has too many items to render on hover (21).",
          "Parameterization has too many items to render on hover (21).",
          "Parameterization has too many items to render on hover (21).",
          "Parameterization has too many items to render on hover (21).",
          "Parameterization has too many items to render on hover (21).",
          "Parameterization has too many items to render on hover (21).",
          "Parameterization has too many items to render on hover (21).",
          "Parameterization has too many items to render on hover (21).",
          "Parameterization has too many items to render on hover (21).",
          "Parameterization has too many items to render on hover (21).",
          "Parameterization has too many items to render on hover (21).",
          "Parameterization has too many items to render on hover (21).",
          "Parameterization has too many items to render on hover (21).",
          "Parameterization has too many items to render on hover (21).",
          "Parameterization has too many items to render on hover (21).",
          "Parameterization has too many items to render on hover (21).",
          "Parameterization has too many items to render on hover (21).",
          "Parameterization has too many items to render on hover (21).",
          "Parameterization has too many items to render on hover (21).",
          "Parameterization has too many items to render on hover (21).",
          "Parameterization has too many items to render on hover (21).",
          "Parameterization has too many items to render on hover (21).",
          "Parameterization has too many items to render on hover (21).",
          "Parameterization has too many items to render on hover (21).",
          "Parameterization has too many items to render on hover (21).",
          "Parameterization has too many items to render on hover (21).",
          "Parameterization has too many items to render on hover (21).",
          "Parameterization has too many items to render on hover (21).",
          "Parameterization has too many items to render on hover (21).",
          "Parameterization has too many items to render on hover (21).",
          "Parameterization has too many items to render on hover (21).",
          "Parameterization has too many items to render on hover (21).",
          "Parameterization has too many items to render on hover (21).",
          "Parameterization has too many items to render on hover (21).",
          "Parameterization has too many items to render on hover (21).",
          "Parameterization has too many items to render on hover (21).",
          "Parameterization has too many items to render on hover (21).",
          "Parameterization has too many items to render on hover (21).",
          "Parameterization has too many items to render on hover (21).",
          "Parameterization has too many items to render on hover (21).",
          "Parameterization has too many items to render on hover (21).",
          "Parameterization has too many items to render on hover (21).",
          "Parameterization has too many items to render on hover (21).",
          "Parameterization has too many items to render on hover (21).",
          "Parameterization has too many items to render on hover (21).",
          "Parameterization has too many items to render on hover (21).",
          "Parameterization has too many items to render on hover (21).",
          "Parameterization has too many items to render on hover (21).",
          "Parameterization has too many items to render on hover (21).",
          "Parameterization has too many items to render on hover (21).",
          "Parameterization has too many items to render on hover (21).",
          "Parameterization has too many items to render on hover (21).",
          "Parameterization has too many items to render on hover (21).",
          "Parameterization has too many items to render on hover (21).",
          "Parameterization has too many items to render on hover (21).",
          "Parameterization has too many items to render on hover (21).",
          "Parameterization has too many items to render on hover (21).",
          "Parameterization has too many items to render on hover (21).",
          "Parameterization has too many items to render on hover (21).",
          "Parameterization has too many items to render on hover (21).",
          "Parameterization has too many items to render on hover (21).",
          "Parameterization has too many items to render on hover (21).",
          "Parameterization has too many items to render on hover (21).",
          "Parameterization has too many items to render on hover (21).",
          "Parameterization has too many items to render on hover (21).",
          "Parameterization has too many items to render on hover (21).",
          "Parameterization has too many items to render on hover (21).",
          "Parameterization has too many items to render on hover (21).",
          "Parameterization has too many items to render on hover (21).",
          "Parameterization has too many items to render on hover (21).",
          "Parameterization has too many items to render on hover (21).",
          "Parameterization has too many items to render on hover (21).",
          "Parameterization has too many items to render on hover (21).",
          "Parameterization has too many items to render on hover (21).",
          "Parameterization has too many items to render on hover (21).",
          "Parameterization has too many items to render on hover (21).",
          "Parameterization has too many items to render on hover (21).",
          "Parameterization has too many items to render on hover (21).",
          "Parameterization has too many items to render on hover (21).",
          "Parameterization has too many items to render on hover (21).",
          "Parameterization has too many items to render on hover (21).",
          "Parameterization has too many items to render on hover (21).",
          "Parameterization has too many items to render on hover (21).",
          "Parameterization has too many items to render on hover (21).",
          "Parameterization has too many items to render on hover (21).",
          "Parameterization has too many items to render on hover (21).",
          "Parameterization has too many items to render on hover (21).",
          "Parameterization has too many items to render on hover (21).",
          "Parameterization has too many items to render on hover (21).",
          "Parameterization has too many items to render on hover (21).",
          "Parameterization has too many items to render on hover (21).",
          "Parameterization has too many items to render on hover (21).",
          "Parameterization has too many items to render on hover (21).",
          "Parameterization has too many items to render on hover (21).",
          "Parameterization has too many items to render on hover (21).",
          "Parameterization has too many items to render on hover (21).",
          "Parameterization has too many items to render on hover (21).",
          "Parameterization has too many items to render on hover (21).",
          "Parameterization has too many items to render on hover (21).",
          "Parameterization has too many items to render on hover (21).",
          "Parameterization has too many items to render on hover (21).",
          "Parameterization has too many items to render on hover (21).",
          "Parameterization has too many items to render on hover (21).",
          "Parameterization has too many items to render on hover (21).",
          "Parameterization has too many items to render on hover (21).",
          "Parameterization has too many items to render on hover (21).",
          "Parameterization has too many items to render on hover (21).",
          "Parameterization has too many items to render on hover (21).",
          "Parameterization has too many items to render on hover (21).",
          "Parameterization has too many items to render on hover (21).",
          "Parameterization has too many items to render on hover (21).",
          "Parameterization has too many items to render on hover (21).",
          "Parameterization has too many items to render on hover (21).",
          "Parameterization has too many items to render on hover (21).",
          "Parameterization has too many items to render on hover (21).",
          "Parameterization has too many items to render on hover (21).",
          "Parameterization has too many items to render on hover (21).",
          "Parameterization has too many items to render on hover (21).",
          "Parameterization has too many items to render on hover (21).",
          "Parameterization has too many items to render on hover (21).",
          "Parameterization has too many items to render on hover (21).",
          "Parameterization has too many items to render on hover (21).",
          "Parameterization has too many items to render on hover (21).",
          "Parameterization has too many items to render on hover (21).",
          "Parameterization has too many items to render on hover (21).",
          "Parameterization has too many items to render on hover (21).",
          "Parameterization has too many items to render on hover (21).",
          "Parameterization has too many items to render on hover (21).",
          "Parameterization has too many items to render on hover (21).",
          "Parameterization has too many items to render on hover (21).",
          "Parameterization has too many items to render on hover (21).",
          "Parameterization has too many items to render on hover (21).",
          "Parameterization has too many items to render on hover (21).",
          "Parameterization has too many items to render on hover (21).",
          "Parameterization has too many items to render on hover (21).",
          "Parameterization has too many items to render on hover (21).",
          "Parameterization has too many items to render on hover (21).",
          "Parameterization has too many items to render on hover (21).",
          "Parameterization has too many items to render on hover (21).",
          "Parameterization has too many items to render on hover (21).",
          "Parameterization has too many items to render on hover (21).",
          "Parameterization has too many items to render on hover (21).",
          "Parameterization has too many items to render on hover (21).",
          "Parameterization has too many items to render on hover (21).",
          "Parameterization has too many items to render on hover (21).",
          "Parameterization has too many items to render on hover (21).",
          "Parameterization has too many items to render on hover (21).",
          "Parameterization has too many items to render on hover (21).",
          "Parameterization has too many items to render on hover (21).",
          "Parameterization has too many items to render on hover (21).",
          "Parameterization has too many items to render on hover (21).",
          "Parameterization has too many items to render on hover (21).",
          "Parameterization has too many items to render on hover (21).",
          "Parameterization has too many items to render on hover (21).",
          "Parameterization has too many items to render on hover (21).",
          "Parameterization has too many items to render on hover (21).",
          "Parameterization has too many items to render on hover (21).",
          "Parameterization has too many items to render on hover (21).",
          "Parameterization has too many items to render on hover (21).",
          "Parameterization has too many items to render on hover (21).",
          "Parameterization has too many items to render on hover (21).",
          "Parameterization has too many items to render on hover (21).",
          "Parameterization has too many items to render on hover (21).",
          "Parameterization has too many items to render on hover (21).",
          "Parameterization has too many items to render on hover (21).",
          "Parameterization has too many items to render on hover (21).",
          "Parameterization has too many items to render on hover (21).",
          "Parameterization has too many items to render on hover (21).",
          "Parameterization has too many items to render on hover (21).",
          "Parameterization has too many items to render on hover (21).",
          "Parameterization has too many items to render on hover (21).",
          "Parameterization has too many items to render on hover (21).",
          "Parameterization has too many items to render on hover (21).",
          "Parameterization has too many items to render on hover (21).",
          "Parameterization has too many items to render on hover (21).",
          "Parameterization has too many items to render on hover (21).",
          "Parameterization has too many items to render on hover (21).",
          "Parameterization has too many items to render on hover (21).",
          "Parameterization has too many items to render on hover (21).",
          "Parameterization has too many items to render on hover (21).",
          "Parameterization has too many items to render on hover (21).",
          "Parameterization has too many items to render on hover (21).",
          "Parameterization has too many items to render on hover (21).",
          "Parameterization has too many items to render on hover (21).",
          "Parameterization has too many items to render on hover (21).",
          "Parameterization has too many items to render on hover (21).",
          "Parameterization has too many items to render on hover (21).",
          "Parameterization has too many items to render on hover (21).",
          "Parameterization has too many items to render on hover (21).",
          "Parameterization has too many items to render on hover (21).",
          "Parameterization has too many items to render on hover (21).",
          "Parameterization has too many items to render on hover (21).",
          "Parameterization has too many items to render on hover (21).",
          "Parameterization has too many items to render on hover (21).",
          "Parameterization has too many items to render on hover (21).",
          "Parameterization has too many items to render on hover (21).",
          "Parameterization has too many items to render on hover (21).",
          "Parameterization has too many items to render on hover (21).",
          "Parameterization has too many items to render on hover (21).",
          "Parameterization has too many items to render on hover (21).",
          "Parameterization has too many items to render on hover (21).",
          "Parameterization has too many items to render on hover (21).",
          "Parameterization has too many items to render on hover (21).",
          "Parameterization has too many items to render on hover (21).",
          "Parameterization has too many items to render on hover (21).",
          "Parameterization has too many items to render on hover (21).",
          "Parameterization has too many items to render on hover (21).",
          "Parameterization has too many items to render on hover (21).",
          "Parameterization has too many items to render on hover (21).",
          "Parameterization has too many items to render on hover (21).",
          "Parameterization has too many items to render on hover (21).",
          "Parameterization has too many items to render on hover (21).",
          "Parameterization has too many items to render on hover (21).",
          "Parameterization has too many items to render on hover (21).",
          "Parameterization has too many items to render on hover (21).",
          "Parameterization has too many items to render on hover (21).",
          "Parameterization has too many items to render on hover (21).",
          "Parameterization has too many items to render on hover (21).",
          "Parameterization has too many items to render on hover (21).",
          "Parameterization has too many items to render on hover (21).",
          "Parameterization has too many items to render on hover (21).",
          "Parameterization has too many items to render on hover (21).",
          "Parameterization has too many items to render on hover (21).",
          "Parameterization has too many items to render on hover (21).",
          "Parameterization has too many items to render on hover (21).",
          "Parameterization has too many items to render on hover (21).",
          "Parameterization has too many items to render on hover (21).",
          "Parameterization has too many items to render on hover (21).",
          "Parameterization has too many items to render on hover (21).",
          "Parameterization has too many items to render on hover (21).",
          "Parameterization has too many items to render on hover (21).",
          "Parameterization has too many items to render on hover (21).",
          "Parameterization has too many items to render on hover (21).",
          "Parameterization has too many items to render on hover (21).",
          "Parameterization has too many items to render on hover (21).",
          "Parameterization has too many items to render on hover (21).",
          "Parameterization has too many items to render on hover (21).",
          "Parameterization has too many items to render on hover (21).",
          "Parameterization has too many items to render on hover (21).",
          "Parameterization has too many items to render on hover (21).",
          "Parameterization has too many items to render on hover (21).",
          "Parameterization has too many items to render on hover (21).",
          "Parameterization has too many items to render on hover (21).",
          "Parameterization has too many items to render on hover (21).",
          "Parameterization has too many items to render on hover (21).",
          "Parameterization has too many items to render on hover (21).",
          "Parameterization has too many items to render on hover (21).",
          "Parameterization has too many items to render on hover (21).",
          "Parameterization has too many items to render on hover (21).",
          "Parameterization has too many items to render on hover (21).",
          "Parameterization has too many items to render on hover (21).",
          "Parameterization has too many items to render on hover (21).",
          "Parameterization has too many items to render on hover (21).",
          "Parameterization has too many items to render on hover (21).",
          "Parameterization has too many items to render on hover (21).",
          "Parameterization has too many items to render on hover (21).",
          "Parameterization has too many items to render on hover (21).",
          "Parameterization has too many items to render on hover (21).",
          "Parameterization has too many items to render on hover (21).",
          "Parameterization has too many items to render on hover (21).",
          "Parameterization has too many items to render on hover (21).",
          "Parameterization has too many items to render on hover (21).",
          "Parameterization has too many items to render on hover (21).",
          "Parameterization has too many items to render on hover (21).",
          "Parameterization has too many items to render on hover (21).",
          "Parameterization has too many items to render on hover (21).",
          "Parameterization has too many items to render on hover (21).",
          "Parameterization has too many items to render on hover (21).",
          "Parameterization has too many items to render on hover (21).",
          "Parameterization has too many items to render on hover (21).",
          "Parameterization has too many items to render on hover (21).",
          "Parameterization has too many items to render on hover (21).",
          "Parameterization has too many items to render on hover (21).",
          "Parameterization has too many items to render on hover (21).",
          "Parameterization has too many items to render on hover (21).",
          "Parameterization has too many items to render on hover (21).",
          "Parameterization has too many items to render on hover (21).",
          "Parameterization has too many items to render on hover (21).",
          "Parameterization has too many items to render on hover (21).",
          "Parameterization has too many items to render on hover (21).",
          "Parameterization has too many items to render on hover (21).",
          "Parameterization has too many items to render on hover (21).",
          "Parameterization has too many items to render on hover (21).",
          "Parameterization has too many items to render on hover (21).",
          "Parameterization has too many items to render on hover (21).",
          "Parameterization has too many items to render on hover (21).",
          "Parameterization has too many items to render on hover (21).",
          "Parameterization has too many items to render on hover (21).",
          "Parameterization has too many items to render on hover (21).",
          "Parameterization has too many items to render on hover (21).",
          "Parameterization has too many items to render on hover (21).",
          "Parameterization has too many items to render on hover (21).",
          "Parameterization has too many items to render on hover (21).",
          "Parameterization has too many items to render on hover (21).",
          "Parameterization has too many items to render on hover (21).",
          "Parameterization has too many items to render on hover (21).",
          "Parameterization has too many items to render on hover (21).",
          "Parameterization has too many items to render on hover (21).",
          "Parameterization has too many items to render on hover (21).",
          "Parameterization has too many items to render on hover (21).",
          "Parameterization has too many items to render on hover (21).",
          "Parameterization has too many items to render on hover (21).",
          "Parameterization has too many items to render on hover (21).",
          "Parameterization has too many items to render on hover (21).",
          "Parameterization has too many items to render on hover (21).",
          "Parameterization has too many items to render on hover (21).",
          "Parameterization has too many items to render on hover (21).",
          "Parameterization has too many items to render on hover (21).",
          "Parameterization has too many items to render on hover (21).",
          "Parameterization has too many items to render on hover (21).",
          "Parameterization has too many items to render on hover (21).",
          "Parameterization has too many items to render on hover (21).",
          "Parameterization has too many items to render on hover (21).",
          "Parameterization has too many items to render on hover (21).",
          "Parameterization has too many items to render on hover (21).",
          "Parameterization has too many items to render on hover (21).",
          "Parameterization has too many items to render on hover (21).",
          "Parameterization has too many items to render on hover (21).",
          "Parameterization has too many items to render on hover (21).",
          "Parameterization has too many items to render on hover (21).",
          "Parameterization has too many items to render on hover (21).",
          "Parameterization has too many items to render on hover (21).",
          "Parameterization has too many items to render on hover (21).",
          "Parameterization has too many items to render on hover (21).",
          "Parameterization has too many items to render on hover (21).",
          "Parameterization has too many items to render on hover (21).",
          "Parameterization has too many items to render on hover (21).",
          "Parameterization has too many items to render on hover (21).",
          "Parameterization has too many items to render on hover (21).",
          "Parameterization has too many items to render on hover (21).",
          "Parameterization has too many items to render on hover (21).",
          "Parameterization has too many items to render on hover (21).",
          "Parameterization has too many items to render on hover (21).",
          "Parameterization has too many items to render on hover (21).",
          "Parameterization has too many items to render on hover (21).",
          "Parameterization has too many items to render on hover (21).",
          "Parameterization has too many items to render on hover (21).",
          "Parameterization has too many items to render on hover (21).",
          "Parameterization has too many items to render on hover (21).",
          "Parameterization has too many items to render on hover (21).",
          "Parameterization has too many items to render on hover (21).",
          "Parameterization has too many items to render on hover (21).",
          "Parameterization has too many items to render on hover (21).",
          "Parameterization has too many items to render on hover (21).",
          "Parameterization has too many items to render on hover (21).",
          "Parameterization has too many items to render on hover (21).",
          "Parameterization has too many items to render on hover (21).",
          "Parameterization has too many items to render on hover (21).",
          "Parameterization has too many items to render on hover (21).",
          "Parameterization has too many items to render on hover (21).",
          "Parameterization has too many items to render on hover (21).",
          "Parameterization has too many items to render on hover (21).",
          "Parameterization has too many items to render on hover (21).",
          "Parameterization has too many items to render on hover (21).",
          "Parameterization has too many items to render on hover (21).",
          "Parameterization has too many items to render on hover (21).",
          "Parameterization has too many items to render on hover (21).",
          "Parameterization has too many items to render on hover (21).",
          "Parameterization has too many items to render on hover (21).",
          "Parameterization has too many items to render on hover (21).",
          "Parameterization has too many items to render on hover (21).",
          "Parameterization has too many items to render on hover (21).",
          "Parameterization has too many items to render on hover (21).",
          "Parameterization has too many items to render on hover (21).",
          "Parameterization has too many items to render on hover (21).",
          "Parameterization has too many items to render on hover (21).",
          "Parameterization has too many items to render on hover (21).",
          "Parameterization has too many items to render on hover (21).",
          "Parameterization has too many items to render on hover (21).",
          "Parameterization has too many items to render on hover (21).",
          "Parameterization has too many items to render on hover (21).",
          "Parameterization has too many items to render on hover (21).",
          "Parameterization has too many items to render on hover (21).",
          "Parameterization has too many items to render on hover (21).",
          "Parameterization has too many items to render on hover (21).",
          "Parameterization has too many items to render on hover (21).",
          "Parameterization has too many items to render on hover (21).",
          "Parameterization has too many items to render on hover (21).",
          "Parameterization has too many items to render on hover (21).",
          "Parameterization has too many items to render on hover (21).",
          "Parameterization has too many items to render on hover (21).",
          "Parameterization has too many items to render on hover (21).",
          "Parameterization has too many items to render on hover (21).",
          "Parameterization has too many items to render on hover (21).",
          "Parameterization has too many items to render on hover (21).",
          "Parameterization has too many items to render on hover (21).",
          "Parameterization has too many items to render on hover (21).",
          "Parameterization has too many items to render on hover (21).",
          "Parameterization has too many items to render on hover (21).",
          "Parameterization has too many items to render on hover (21).",
          "Parameterization has too many items to render on hover (21).",
          "Parameterization has too many items to render on hover (21).",
          "Parameterization has too many items to render on hover (21).",
          "Parameterization has too many items to render on hover (21).",
          "Parameterization has too many items to render on hover (21).",
          "Parameterization has too many items to render on hover (21).",
          "Parameterization has too many items to render on hover (21).",
          "Parameterization has too many items to render on hover (21).",
          "Parameterization has too many items to render on hover (21).",
          "Parameterization has too many items to render on hover (21).",
          "Parameterization has too many items to render on hover (21).",
          "Parameterization has too many items to render on hover (21).",
          "Parameterization has too many items to render on hover (21).",
          "Parameterization has too many items to render on hover (21).",
          "Parameterization has too many items to render on hover (21).",
          "Parameterization has too many items to render on hover (21).",
          "Parameterization has too many items to render on hover (21).",
          "Parameterization has too many items to render on hover (21).",
          "Parameterization has too many items to render on hover (21).",
          "Parameterization has too many items to render on hover (21).",
          "Parameterization has too many items to render on hover (21).",
          "Parameterization has too many items to render on hover (21).",
          "Parameterization has too many items to render on hover (21).",
          "Parameterization has too many items to render on hover (21).",
          "Parameterization has too many items to render on hover (21).",
          "Parameterization has too many items to render on hover (21).",
          "Parameterization has too many items to render on hover (21).",
          "Parameterization has too many items to render on hover (21).",
          "Parameterization has too many items to render on hover (21).",
          "Parameterization has too many items to render on hover (21).",
          "Parameterization has too many items to render on hover (21).",
          "Parameterization has too many items to render on hover (21).",
          "Parameterization has too many items to render on hover (21).",
          "Parameterization has too many items to render on hover (21).",
          "Parameterization has too many items to render on hover (21).",
          "Parameterization has too many items to render on hover (21).",
          "Parameterization has too many items to render on hover (21).",
          "Parameterization has too many items to render on hover (21).",
          "Parameterization has too many items to render on hover (21).",
          "Parameterization has too many items to render on hover (21).",
          "Parameterization has too many items to render on hover (21).",
          "Parameterization has too many items to render on hover (21).",
          "Parameterization has too many items to render on hover (21).",
          "Parameterization has too many items to render on hover (21).",
          "Parameterization has too many items to render on hover (21).",
          "Parameterization has too many items to render on hover (21).",
          "Parameterization has too many items to render on hover (21).",
          "Parameterization has too many items to render on hover (21).",
          "Parameterization has too many items to render on hover (21).",
          "Parameterization has too many items to render on hover (21).",
          "Parameterization has too many items to render on hover (21).",
          "Parameterization has too many items to render on hover (21).",
          "Parameterization has too many items to render on hover (21).",
          "Parameterization has too many items to render on hover (21).",
          "Parameterization has too many items to render on hover (21).",
          "Parameterization has too many items to render on hover (21).",
          "Parameterization has too many items to render on hover (21).",
          "Parameterization has too many items to render on hover (21).",
          "Parameterization has too many items to render on hover (21).",
          "Parameterization has too many items to render on hover (21).",
          "Parameterization has too many items to render on hover (21).",
          "Parameterization has too many items to render on hover (21).",
          "Parameterization has too many items to render on hover (21).",
          "Parameterization has too many items to render on hover (21).",
          "Parameterization has too many items to render on hover (21).",
          "Parameterization has too many items to render on hover (21).",
          "Parameterization has too many items to render on hover (21).",
          "Parameterization has too many items to render on hover (21).",
          "Parameterization has too many items to render on hover (21).",
          "Parameterization has too many items to render on hover (21).",
          "Parameterization has too many items to render on hover (21).",
          "Parameterization has too many items to render on hover (21).",
          "Parameterization has too many items to render on hover (21).",
          "Parameterization has too many items to render on hover (21).",
          "Parameterization has too many items to render on hover (21).",
          "Parameterization has too many items to render on hover (21).",
          "Parameterization has too many items to render on hover (21).",
          "Parameterization has too many items to render on hover (21).",
          "Parameterization has too many items to render on hover (21).",
          "Parameterization has too many items to render on hover (21).",
          "Parameterization has too many items to render on hover (21).",
          "Parameterization has too many items to render on hover (21).",
          "Parameterization has too many items to render on hover (21).",
          "Parameterization has too many items to render on hover (21).",
          "Parameterization has too many items to render on hover (21).",
          "Parameterization has too many items to render on hover (21).",
          "Parameterization has too many items to render on hover (21).",
          "Parameterization has too many items to render on hover (21).",
          "Parameterization has too many items to render on hover (21).",
          "Parameterization has too many items to render on hover (21).",
          "Parameterization has too many items to render on hover (21).",
          "Parameterization has too many items to render on hover (21).",
          "Parameterization has too many items to render on hover (21).",
          "Parameterization has too many items to render on hover (21).",
          "Parameterization has too many items to render on hover (21).",
          "Parameterization has too many items to render on hover (21).",
          "Parameterization has too many items to render on hover (21).",
          "Parameterization has too many items to render on hover (21).",
          "Parameterization has too many items to render on hover (21).",
          "Parameterization has too many items to render on hover (21).",
          "Parameterization has too many items to render on hover (21).",
          "Parameterization has too many items to render on hover (21).",
          "Parameterization has too many items to render on hover (21).",
          "Parameterization has too many items to render on hover (21).",
          "Parameterization has too many items to render on hover (21).",
          "Parameterization has too many items to render on hover (21).",
          "Parameterization has too many items to render on hover (21).",
          "Parameterization has too many items to render on hover (21).",
          "Parameterization has too many items to render on hover (21).",
          "Parameterization has too many items to render on hover (21).",
          "Parameterization has too many items to render on hover (21).",
          "Parameterization has too many items to render on hover (21).",
          "Parameterization has too many items to render on hover (21).",
          "Parameterization has too many items to render on hover (21).",
          "Parameterization has too many items to render on hover (21).",
          "Parameterization has too many items to render on hover (21).",
          "Parameterization has too many items to render on hover (21).",
          "Parameterization has too many items to render on hover (21).",
          "Parameterization has too many items to render on hover (21).",
          "Parameterization has too many items to render on hover (21).",
          "Parameterization has too many items to render on hover (21).",
          "Parameterization has too many items to render on hover (21).",
          "Parameterization has too many items to render on hover (21).",
          "Parameterization has too many items to render on hover (21).",
          "Parameterization has too many items to render on hover (21).",
          "Parameterization has too many items to render on hover (21).",
          "Parameterization has too many items to render on hover (21).",
          "Parameterization has too many items to render on hover (21).",
          "Parameterization has too many items to render on hover (21).",
          "Parameterization has too many items to render on hover (21).",
          "Parameterization has too many items to render on hover (21).",
          "Parameterization has too many items to render on hover (21).",
          "Parameterization has too many items to render on hover (21).",
          "Parameterization has too many items to render on hover (21).",
          "Parameterization has too many items to render on hover (21).",
          "Parameterization has too many items to render on hover (21).",
          "Parameterization has too many items to render on hover (21).",
          "Parameterization has too many items to render on hover (21).",
          "Parameterization has too many items to render on hover (21).",
          "Parameterization has too many items to render on hover (21).",
          "Parameterization has too many items to render on hover (21).",
          "Parameterization has too many items to render on hover (21).",
          "Parameterization has too many items to render on hover (21).",
          "Parameterization has too many items to render on hover (21).",
          "Parameterization has too many items to render on hover (21).",
          "Parameterization has too many items to render on hover (21).",
          "Parameterization has too many items to render on hover (21).",
          "Parameterization has too many items to render on hover (21).",
          "Parameterization has too many items to render on hover (21).",
          "Parameterization has too many items to render on hover (21).",
          "Parameterization has too many items to render on hover (21).",
          "Parameterization has too many items to render on hover (21).",
          "Parameterization has too many items to render on hover (21).",
          "Parameterization has too many items to render on hover (21).",
          "Parameterization has too many items to render on hover (21).",
          "Parameterization has too many items to render on hover (21).",
          "Parameterization has too many items to render on hover (21).",
          "Parameterization has too many items to render on hover (21).",
          "Parameterization has too many items to render on hover (21).",
          "Parameterization has too many items to render on hover (21).",
          "Parameterization has too many items to render on hover (21).",
          "Parameterization has too many items to render on hover (21).",
          "Parameterization has too many items to render on hover (21).",
          "Parameterization has too many items to render on hover (21).",
          "Parameterization has too many items to render on hover (21).",
          "Parameterization has too many items to render on hover (21).",
          "Parameterization has too many items to render on hover (21).",
          "Parameterization has too many items to render on hover (21).",
          "Parameterization has too many items to render on hover (21).",
          "Parameterization has too many items to render on hover (21).",
          "Parameterization has too many items to render on hover (21).",
          "Parameterization has too many items to render on hover (21).",
          "Parameterization has too many items to render on hover (21).",
          "Parameterization has too many items to render on hover (21).",
          "Parameterization has too many items to render on hover (21).",
          "Parameterization has too many items to render on hover (21).",
          "Parameterization has too many items to render on hover (21).",
          "Parameterization has too many items to render on hover (21).",
          "Parameterization has too many items to render on hover (21).",
          "Parameterization has too many items to render on hover (21).",
          "Parameterization has too many items to render on hover (21).",
          "Parameterization has too many items to render on hover (21).",
          "Parameterization has too many items to render on hover (21).",
          "Parameterization has too many items to render on hover (21).",
          "Parameterization has too many items to render on hover (21).",
          "Parameterization has too many items to render on hover (21).",
          "Parameterization has too many items to render on hover (21).",
          "Parameterization has too many items to render on hover (21).",
          "Parameterization has too many items to render on hover (21).",
          "Parameterization has too many items to render on hover (21).",
          "Parameterization has too many items to render on hover (21).",
          "Parameterization has too many items to render on hover (21).",
          "Parameterization has too many items to render on hover (21).",
          "Parameterization has too many items to render on hover (21).",
          "Parameterization has too many items to render on hover (21).",
          "Parameterization has too many items to render on hover (21).",
          "Parameterization has too many items to render on hover (21).",
          "Parameterization has too many items to render on hover (21).",
          "Parameterization has too many items to render on hover (21).",
          "Parameterization has too many items to render on hover (21).",
          "Parameterization has too many items to render on hover (21).",
          "Parameterization has too many items to render on hover (21).",
          "Parameterization has too many items to render on hover (21).",
          "Parameterization has too many items to render on hover (21).",
          "Parameterization has too many items to render on hover (21).",
          "Parameterization has too many items to render on hover (21).",
          "Parameterization has too many items to render on hover (21).",
          "Parameterization has too many items to render on hover (21).",
          "Parameterization has too many items to render on hover (21).",
          "Parameterization has too many items to render on hover (21).",
          "Parameterization has too many items to render on hover (21).",
          "Parameterization has too many items to render on hover (21).",
          "Parameterization has too many items to render on hover (21).",
          "Parameterization has too many items to render on hover (21).",
          "Parameterization has too many items to render on hover (21).",
          "Parameterization has too many items to render on hover (21).",
          "Parameterization has too many items to render on hover (21).",
          "Parameterization has too many items to render on hover (21).",
          "Parameterization has too many items to render on hover (21).",
          "Parameterization has too many items to render on hover (21).",
          "Parameterization has too many items to render on hover (21).",
          "Parameterization has too many items to render on hover (21).",
          "Parameterization has too many items to render on hover (21).",
          "Parameterization has too many items to render on hover (21).",
          "Parameterization has too many items to render on hover (21).",
          "Parameterization has too many items to render on hover (21).",
          "Parameterization has too many items to render on hover (21).",
          "Parameterization has too many items to render on hover (21).",
          "Parameterization has too many items to render on hover (21).",
          "Parameterization has too many items to render on hover (21).",
          "Parameterization has too many items to render on hover (21).",
          "Parameterization has too many items to render on hover (21).",
          "Parameterization has too many items to render on hover (21).",
          "Parameterization has too many items to render on hover (21).",
          "Parameterization has too many items to render on hover (21).",
          "Parameterization has too many items to render on hover (21).",
          "Parameterization has too many items to render on hover (21).",
          "Parameterization has too many items to render on hover (21).",
          "Parameterization has too many items to render on hover (21).",
          "Parameterization has too many items to render on hover (21).",
          "Parameterization has too many items to render on hover (21).",
          "Parameterization has too many items to render on hover (21).",
          "Parameterization has too many items to render on hover (21).",
          "Parameterization has too many items to render on hover (21).",
          "Parameterization has too many items to render on hover (21).",
          "Parameterization has too many items to render on hover (21).",
          "Parameterization has too many items to render on hover (21).",
          "Parameterization has too many items to render on hover (21).",
          "Parameterization has too many items to render on hover (21).",
          "Parameterization has too many items to render on hover (21).",
          "Parameterization has too many items to render on hover (21).",
          "Parameterization has too many items to render on hover (21).",
          "Parameterization has too many items to render on hover (21).",
          "Parameterization has too many items to render on hover (21).",
          "Parameterization has too many items to render on hover (21).",
          "Parameterization has too many items to render on hover (21).",
          "Parameterization has too many items to render on hover (21).",
          "Parameterization has too many items to render on hover (21).",
          "Parameterization has too many items to render on hover (21).",
          "Parameterization has too many items to render on hover (21).",
          "Parameterization has too many items to render on hover (21).",
          "Parameterization has too many items to render on hover (21).",
          "Parameterization has too many items to render on hover (21).",
          "Parameterization has too many items to render on hover (21).",
          "Parameterization has too many items to render on hover (21).",
          "Parameterization has too many items to render on hover (21).",
          "Parameterization has too many items to render on hover (21).",
          "Parameterization has too many items to render on hover (21).",
          "Parameterization has too many items to render on hover (21).",
          "Parameterization has too many items to render on hover (21).",
          "Parameterization has too many items to render on hover (21).",
          "Parameterization has too many items to render on hover (21).",
          "Parameterization has too many items to render on hover (21).",
          "Parameterization has too many items to render on hover (21).",
          "Parameterization has too many items to render on hover (21).",
          "Parameterization has too many items to render on hover (21).",
          "Parameterization has too many items to render on hover (21).",
          "Parameterization has too many items to render on hover (21).",
          "Parameterization has too many items to render on hover (21).",
          "Parameterization has too many items to render on hover (21).",
          "Parameterization has too many items to render on hover (21).",
          "Parameterization has too many items to render on hover (21).",
          "Parameterization has too many items to render on hover (21).",
          "Parameterization has too many items to render on hover (21).",
          "Parameterization has too many items to render on hover (21).",
          "Parameterization has too many items to render on hover (21).",
          "Parameterization has too many items to render on hover (21).",
          "Parameterization has too many items to render on hover (21).",
          "Parameterization has too many items to render on hover (21).",
          "Parameterization has too many items to render on hover (21).",
          "Parameterization has too many items to render on hover (21).",
          "Parameterization has too many items to render on hover (21).",
          "Parameterization has too many items to render on hover (21).",
          "Parameterization has too many items to render on hover (21).",
          "Parameterization has too many items to render on hover (21).",
          "Parameterization has too many items to render on hover (21).",
          "Parameterization has too many items to render on hover (21).",
          "Parameterization has too many items to render on hover (21).",
          "Parameterization has too many items to render on hover (21).",
          "Parameterization has too many items to render on hover (21).",
          "Parameterization has too many items to render on hover (21).",
          "Parameterization has too many items to render on hover (21).",
          "Parameterization has too many items to render on hover (21).",
          "Parameterization has too many items to render on hover (21).",
          "Parameterization has too many items to render on hover (21).",
          "Parameterization has too many items to render on hover (21).",
          "Parameterization has too many items to render on hover (21).",
          "Parameterization has too many items to render on hover (21).",
          "Parameterization has too many items to render on hover (21).",
          "Parameterization has too many items to render on hover (21).",
          "Parameterization has too many items to render on hover (21).",
          "Parameterization has too many items to render on hover (21).",
          "Parameterization has too many items to render on hover (21).",
          "Parameterization has too many items to render on hover (21).",
          "Parameterization has too many items to render on hover (21).",
          "Parameterization has too many items to render on hover (21).",
          "Parameterization has too many items to render on hover (21).",
          "Parameterization has too many items to render on hover (21).",
          "Parameterization has too many items to render on hover (21).",
          "Parameterization has too many items to render on hover (21).",
          "Parameterization has too many items to render on hover (21).",
          "Parameterization has too many items to render on hover (21).",
          "Parameterization has too many items to render on hover (21).",
          "Parameterization has too many items to render on hover (21).",
          "Parameterization has too many items to render on hover (21).",
          "Parameterization has too many items to render on hover (21).",
          "Parameterization has too many items to render on hover (21).",
          "Parameterization has too many items to render on hover (21).",
          "Parameterization has too many items to render on hover (21).",
          "Parameterization has too many items to render on hover (21).",
          "Parameterization has too many items to render on hover (21).",
          "Parameterization has too many items to render on hover (21).",
          "Parameterization has too many items to render on hover (21).",
          "Parameterization has too many items to render on hover (21).",
          "Parameterization has too many items to render on hover (21).",
          "Parameterization has too many items to render on hover (21).",
          "Parameterization has too many items to render on hover (21).",
          "Parameterization has too many items to render on hover (21).",
          "Parameterization has too many items to render on hover (21).",
          "Parameterization has too many items to render on hover (21).",
          "Parameterization has too many items to render on hover (21).",
          "Parameterization has too many items to render on hover (21).",
          "Parameterization has too many items to render on hover (21).",
          "Parameterization has too many items to render on hover (21).",
          "Parameterization has too many items to render on hover (21).",
          "Parameterization has too many items to render on hover (21).",
          "Parameterization has too many items to render on hover (21).",
          "Parameterization has too many items to render on hover (21).",
          "Parameterization has too many items to render on hover (21).",
          "Parameterization has too many items to render on hover (21).",
          "Parameterization has too many items to render on hover (21).",
          "Parameterization has too many items to render on hover (21).",
          "Parameterization has too many items to render on hover (21).",
          "Parameterization has too many items to render on hover (21).",
          "Parameterization has too many items to render on hover (21).",
          "Parameterization has too many items to render on hover (21).",
          "Parameterization has too many items to render on hover (21).",
          "Parameterization has too many items to render on hover (21).",
          "Parameterization has too many items to render on hover (21).",
          "Parameterization has too many items to render on hover (21).",
          "Parameterization has too many items to render on hover (21).",
          "Parameterization has too many items to render on hover (21).",
          "Parameterization has too many items to render on hover (21).",
          "Parameterization has too many items to render on hover (21).",
          "Parameterization has too many items to render on hover (21).",
          "Parameterization has too many items to render on hover (21).",
          "Parameterization has too many items to render on hover (21).",
          "Parameterization has too many items to render on hover (21).",
          "Parameterization has too many items to render on hover (21).",
          "Parameterization has too many items to render on hover (21).",
          "Parameterization has too many items to render on hover (21).",
          "Parameterization has too many items to render on hover (21).",
          "Parameterization has too many items to render on hover (21).",
          "Parameterization has too many items to render on hover (21).",
          "Parameterization has too many items to render on hover (21).",
          "Parameterization has too many items to render on hover (21).",
          "Parameterization has too many items to render on hover (21).",
          "Parameterization has too many items to render on hover (21).",
          "Parameterization has too many items to render on hover (21).",
          "Parameterization has too many items to render on hover (21).",
          "Parameterization has too many items to render on hover (21).",
          "Parameterization has too many items to render on hover (21).",
          "Parameterization has too many items to render on hover (21).",
          "Parameterization has too many items to render on hover (21).",
          "Parameterization has too many items to render on hover (21).",
          "Parameterization has too many items to render on hover (21).",
          "Parameterization has too many items to render on hover (21).",
          "Parameterization has too many items to render on hover (21).",
          "Parameterization has too many items to render on hover (21).",
          "Parameterization has too many items to render on hover (21).",
          "Parameterization has too many items to render on hover (21).",
          "Parameterization has too many items to render on hover (21).",
          "Parameterization has too many items to render on hover (21).",
          "Parameterization has too many items to render on hover (21).",
          "Parameterization has too many items to render on hover (21).",
          "Parameterization has too many items to render on hover (21).",
          "Parameterization has too many items to render on hover (21).",
          "Parameterization has too many items to render on hover (21).",
          "Parameterization has too many items to render on hover (21).",
          "Parameterization has too many items to render on hover (21).",
          "Parameterization has too many items to render on hover (21).",
          "Parameterization has too many items to render on hover (21).",
          "Parameterization has too many items to render on hover (21).",
          "Parameterization has too many items to render on hover (21).",
          "Parameterization has too many items to render on hover (21).",
          "Parameterization has too many items to render on hover (21).",
          "Parameterization has too many items to render on hover (21).",
          "Parameterization has too many items to render on hover (21).",
          "Parameterization has too many items to render on hover (21).",
          "Parameterization has too many items to render on hover (21).",
          "Parameterization has too many items to render on hover (21).",
          "Parameterization has too many items to render on hover (21).",
          "Parameterization has too many items to render on hover (21).",
          "Parameterization has too many items to render on hover (21).",
          "Parameterization has too many items to render on hover (21).",
          "Parameterization has too many items to render on hover (21).",
          "Parameterization has too many items to render on hover (21).",
          "Parameterization has too many items to render on hover (21).",
          "Parameterization has too many items to render on hover (21).",
          "Parameterization has too many items to render on hover (21).",
          "Parameterization has too many items to render on hover (21).",
          "Parameterization has too many items to render on hover (21).",
          "Parameterization has too many items to render on hover (21).",
          "Parameterization has too many items to render on hover (21).",
          "Parameterization has too many items to render on hover (21).",
          "Parameterization has too many items to render on hover (21).",
          "Parameterization has too many items to render on hover (21).",
          "Parameterization has too many items to render on hover (21).",
          "Parameterization has too many items to render on hover (21).",
          "Parameterization has too many items to render on hover (21).",
          "Parameterization has too many items to render on hover (21).",
          "Parameterization has too many items to render on hover (21).",
          "Parameterization has too many items to render on hover (21).",
          "Parameterization has too many items to render on hover (21).",
          "Parameterization has too many items to render on hover (21).",
          "Parameterization has too many items to render on hover (21).",
          "Parameterization has too many items to render on hover (21).",
          "Parameterization has too many items to render on hover (21).",
          "Parameterization has too many items to render on hover (21).",
          "Parameterization has too many items to render on hover (21).",
          "Parameterization has too many items to render on hover (21).",
          "Parameterization has too many items to render on hover (21).",
          "Parameterization has too many items to render on hover (21).",
          "Parameterization has too many items to render on hover (21).",
          "Parameterization has too many items to render on hover (21).",
          "Parameterization has too many items to render on hover (21).",
          "Parameterization has too many items to render on hover (21).",
          "Parameterization has too many items to render on hover (21).",
          "Parameterization has too many items to render on hover (21).",
          "Parameterization has too many items to render on hover (21).",
          "Parameterization has too many items to render on hover (21).",
          "Parameterization has too many items to render on hover (21).",
          "Parameterization has too many items to render on hover (21).",
          "Parameterization has too many items to render on hover (21).",
          "Parameterization has too many items to render on hover (21).",
          "Parameterization has too many items to render on hover (21).",
          "Parameterization has too many items to render on hover (21).",
          "Parameterization has too many items to render on hover (21).",
          "Parameterization has too many items to render on hover (21).",
          "Parameterization has too many items to render on hover (21).",
          "Parameterization has too many items to render on hover (21).",
          "Parameterization has too many items to render on hover (21).",
          "Parameterization has too many items to render on hover (21).",
          "Parameterization has too many items to render on hover (21).",
          "Parameterization has too many items to render on hover (21).",
          "Parameterization has too many items to render on hover (21).",
          "Parameterization has too many items to render on hover (21).",
          "Parameterization has too many items to render on hover (21)."
         ],
         "type": "scatter",
         "x": {
          "bdata": "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",
          "dtype": "i4"
         },
         "y": {
          "bdata": "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",
          "dtype": "f8"
         }
        },
        {
         "fill": "tonexty",
         "fillcolor": "rgba(128,177,211,0.3)",
         "hoverinfo": "none",
         "legendgroup": "",
         "line": {
          "width": 0
         },
         "mode": "lines",
         "showlegend": false,
         "type": "scatter",
         "x": {
          "bdata": "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",
          "dtype": "i4"
         },
         "y": {
          "bdata": "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",
          "dtype": "f8"
         }
        }
       ],
       "layout": {
        "showlegend": true,
        "template": {
         "data": {
          "bar": [
           {
            "error_x": {
             "color": "#2a3f5f"
            },
            "error_y": {
             "color": "#2a3f5f"
            },
            "marker": {
             "line": {
              "color": "#E5ECF6",
              "width": 0.5
             },
             "pattern": {
              "fillmode": "overlay",
              "size": 10,
              "solidity": 0.2
             }
            },
            "type": "bar"
           }
          ],
          "barpolar": [
           {
            "marker": {
             "line": {
              "color": "#E5ECF6",
              "width": 0.5
             },
             "pattern": {
              "fillmode": "overlay",
              "size": 10,
              "solidity": 0.2
             }
            },
            "type": "barpolar"
           }
          ],
          "carpet": [
           {
            "aaxis": {
             "endlinecolor": "#2a3f5f",
             "gridcolor": "white",
             "linecolor": "white",
             "minorgridcolor": "white",
             "startlinecolor": "#2a3f5f"
            },
            "baxis": {
             "endlinecolor": "#2a3f5f",
             "gridcolor": "white",
             "linecolor": "white",
             "minorgridcolor": "white",
             "startlinecolor": "#2a3f5f"
            },
            "type": "carpet"
           }
          ],
          "choropleth": [
           {
            "colorbar": {
             "outlinewidth": 0,
             "ticks": ""
            },
            "type": "choropleth"
           }
          ],
          "contour": [
           {
            "colorbar": {
             "outlinewidth": 0,
             "ticks": ""
            },
            "colorscale": [
             [
              0,
              "#0d0887"
             ],
             [
              0.1111111111111111,
              "#46039f"
             ],
             [
              0.2222222222222222,
              "#7201a8"
             ],
             [
              0.3333333333333333,
              "#9c179e"
             ],
             [
              0.4444444444444444,
              "#bd3786"
             ],
             [
              0.5555555555555556,
              "#d8576b"
             ],
             [
              0.6666666666666666,
              "#ed7953"
             ],
             [
              0.7777777777777778,
              "#fb9f3a"
             ],
             [
              0.8888888888888888,
              "#fdca26"
             ],
             [
              1,
              "#f0f921"
             ]
            ],
            "type": "contour"
           }
          ],
          "contourcarpet": [
           {
            "colorbar": {
             "outlinewidth": 0,
             "ticks": ""
            },
            "type": "contourcarpet"
           }
          ],
          "heatmap": [
           {
            "colorbar": {
             "outlinewidth": 0,
             "ticks": ""
            },
            "colorscale": [
             [
              0,
              "#0d0887"
             ],
             [
              0.1111111111111111,
              "#46039f"
             ],
             [
              0.2222222222222222,
              "#7201a8"
             ],
             [
              0.3333333333333333,
              "#9c179e"
             ],
             [
              0.4444444444444444,
              "#bd3786"
             ],
             [
              0.5555555555555556,
              "#d8576b"
             ],
             [
              0.6666666666666666,
              "#ed7953"
             ],
             [
              0.7777777777777778,
              "#fb9f3a"
             ],
             [
              0.8888888888888888,
              "#fdca26"
             ],
             [
              1,
              "#f0f921"
             ]
            ],
            "type": "heatmap"
           }
          ],
          "histogram": [
           {
            "marker": {
             "pattern": {
              "fillmode": "overlay",
              "size": 10,
              "solidity": 0.2
             }
            },
            "type": "histogram"
           }
          ],
          "histogram2d": [
           {
            "colorbar": {
             "outlinewidth": 0,
             "ticks": ""
            },
            "colorscale": [
             [
              0,
              "#0d0887"
             ],
             [
              0.1111111111111111,
              "#46039f"
             ],
             [
              0.2222222222222222,
              "#7201a8"
             ],
             [
              0.3333333333333333,
              "#9c179e"
             ],
             [
              0.4444444444444444,
              "#bd3786"
             ],
             [
              0.5555555555555556,
              "#d8576b"
             ],
             [
              0.6666666666666666,
              "#ed7953"
             ],
             [
              0.7777777777777778,
              "#fb9f3a"
             ],
             [
              0.8888888888888888,
              "#fdca26"
             ],
             [
              1,
              "#f0f921"
             ]
            ],
            "type": "histogram2d"
           }
          ],
          "histogram2dcontour": [
           {
            "colorbar": {
             "outlinewidth": 0,
             "ticks": ""
            },
            "colorscale": [
             [
              0,
              "#0d0887"
             ],
             [
              0.1111111111111111,
              "#46039f"
             ],
             [
              0.2222222222222222,
              "#7201a8"
             ],
             [
              0.3333333333333333,
              "#9c179e"
             ],
             [
              0.4444444444444444,
              "#bd3786"
             ],
             [
              0.5555555555555556,
              "#d8576b"
             ],
             [
              0.6666666666666666,
              "#ed7953"
             ],
             [
              0.7777777777777778,
              "#fb9f3a"
             ],
             [
              0.8888888888888888,
              "#fdca26"
             ],
             [
              1,
              "#f0f921"
             ]
            ],
            "type": "histogram2dcontour"
           }
          ],
          "mesh3d": [
           {
            "colorbar": {
             "outlinewidth": 0,
             "ticks": ""
            },
            "type": "mesh3d"
           }
          ],
          "parcoords": [
           {
            "line": {
             "colorbar": {
              "outlinewidth": 0,
              "ticks": ""
             }
            },
            "type": "parcoords"
           }
          ],
          "pie": [
           {
            "automargin": true,
            "type": "pie"
           }
          ],
          "scatter": [
           {
            "fillpattern": {
             "fillmode": "overlay",
             "size": 10,
             "solidity": 0.2
            },
            "type": "scatter"
           }
          ],
          "scatter3d": [
           {
            "line": {
             "colorbar": {
              "outlinewidth": 0,
              "ticks": ""
             }
            },
            "marker": {
             "colorbar": {
              "outlinewidth": 0,
              "ticks": ""
             }
            },
            "type": "scatter3d"
           }
          ],
          "scattercarpet": [
           {
            "marker": {
             "colorbar": {
              "outlinewidth": 0,
              "ticks": ""
             }
            },
            "type": "scattercarpet"
           }
          ],
          "scattergeo": [
           {
            "marker": {
             "colorbar": {
              "outlinewidth": 0,
              "ticks": ""
             }
            },
            "type": "scattergeo"
           }
          ],
          "scattergl": [
           {
            "marker": {
             "colorbar": {
              "outlinewidth": 0,
              "ticks": ""
             }
            },
            "type": "scattergl"
           }
          ],
          "scattermap": [
           {
            "marker": {
             "colorbar": {
              "outlinewidth": 0,
              "ticks": ""
             }
            },
            "type": "scattermap"
           }
          ],
          "scattermapbox": [
           {
            "marker": {
             "colorbar": {
              "outlinewidth": 0,
              "ticks": ""
             }
            },
            "type": "scattermapbox"
           }
          ],
          "scatterpolar": [
           {
            "marker": {
             "colorbar": {
              "outlinewidth": 0,
              "ticks": ""
             }
            },
            "type": "scatterpolar"
           }
          ],
          "scatterpolargl": [
           {
            "marker": {
             "colorbar": {
              "outlinewidth": 0,
              "ticks": ""
             }
            },
            "type": "scatterpolargl"
           }
          ],
          "scatterternary": [
           {
            "marker": {
             "colorbar": {
              "outlinewidth": 0,
              "ticks": ""
             }
            },
            "type": "scatterternary"
           }
          ],
          "surface": [
           {
            "colorbar": {
             "outlinewidth": 0,
             "ticks": ""
            },
            "colorscale": [
             [
              0,
              "#0d0887"
             ],
             [
              0.1111111111111111,
              "#46039f"
             ],
             [
              0.2222222222222222,
              "#7201a8"
             ],
             [
              0.3333333333333333,
              "#9c179e"
             ],
             [
              0.4444444444444444,
              "#bd3786"
             ],
             [
              0.5555555555555556,
              "#d8576b"
             ],
             [
              0.6666666666666666,
              "#ed7953"
             ],
             [
              0.7777777777777778,
              "#fb9f3a"
             ],
             [
              0.8888888888888888,
              "#fdca26"
             ],
             [
              1,
              "#f0f921"
             ]
            ],
            "type": "surface"
           }
          ],
          "table": [
           {
            "cells": {
             "fill": {
              "color": "#EBF0F8"
             },
             "line": {
              "color": "white"
             }
            },
            "header": {
             "fill": {
              "color": "#C8D4E3"
             },
             "line": {
              "color": "white"
             }
            },
            "type": "table"
           }
          ]
         },
         "layout": {
          "annotationdefaults": {
           "arrowcolor": "#2a3f5f",
           "arrowhead": 0,
           "arrowwidth": 1
          },
          "autotypenumbers": "strict",
          "coloraxis": {
           "colorbar": {
            "outlinewidth": 0,
            "ticks": ""
           }
          },
          "colorscale": {
           "diverging": [
            [
             0,
             "#8e0152"
            ],
            [
             0.1,
             "#c51b7d"
            ],
            [
             0.2,
             "#de77ae"
            ],
            [
             0.3,
             "#f1b6da"
            ],
            [
             0.4,
             "#fde0ef"
            ],
            [
             0.5,
             "#f7f7f7"
            ],
            [
             0.6,
             "#e6f5d0"
            ],
            [
             0.7,
             "#b8e186"
            ],
            [
             0.8,
             "#7fbc41"
            ],
            [
             0.9,
             "#4d9221"
            ],
            [
             1,
             "#276419"
            ]
           ],
           "sequential": [
            [
             0,
             "#0d0887"
            ],
            [
             0.1111111111111111,
             "#46039f"
            ],
            [
             0.2222222222222222,
             "#7201a8"
            ],
            [
             0.3333333333333333,
             "#9c179e"
            ],
            [
             0.4444444444444444,
             "#bd3786"
            ],
            [
             0.5555555555555556,
             "#d8576b"
            ],
            [
             0.6666666666666666,
             "#ed7953"
            ],
            [
             0.7777777777777778,
             "#fb9f3a"
            ],
            [
             0.8888888888888888,
             "#fdca26"
            ],
            [
             1,
             "#f0f921"
            ]
           ],
           "sequentialminus": [
            [
             0,
             "#0d0887"
            ],
            [
             0.1111111111111111,
             "#46039f"
            ],
            [
             0.2222222222222222,
             "#7201a8"
            ],
            [
             0.3333333333333333,
             "#9c179e"
            ],
            [
             0.4444444444444444,
             "#bd3786"
            ],
            [
             0.5555555555555556,
             "#d8576b"
            ],
            [
             0.6666666666666666,
             "#ed7953"
            ],
            [
             0.7777777777777778,
             "#fb9f3a"
            ],
            [
             0.8888888888888888,
             "#fdca26"
            ],
            [
             1,
             "#f0f921"
            ]
           ]
          },
          "colorway": [
           "#636efa",
           "#EF553B",
           "#00cc96",
           "#ab63fa",
           "#FFA15A",
           "#19d3f3",
           "#FF6692",
           "#B6E880",
           "#FF97FF",
           "#FECB52"
          ],
          "font": {
           "color": "#2a3f5f"
          },
          "geo": {
           "bgcolor": "white",
           "lakecolor": "white",
           "landcolor": "#E5ECF6",
           "showlakes": true,
           "showland": true,
           "subunitcolor": "white"
          },
          "hoverlabel": {
           "align": "left"
          },
          "hovermode": "closest",
          "mapbox": {
           "style": "light"
          },
          "paper_bgcolor": "white",
          "plot_bgcolor": "#E5ECF6",
          "polar": {
           "angularaxis": {
            "gridcolor": "white",
            "linecolor": "white",
            "ticks": ""
           },
           "bgcolor": "#E5ECF6",
           "radialaxis": {
            "gridcolor": "white",
            "linecolor": "white",
            "ticks": ""
           }
          },
          "scene": {
           "xaxis": {
            "backgroundcolor": "#E5ECF6",
            "gridcolor": "white",
            "gridwidth": 2,
            "linecolor": "white",
            "showbackground": true,
            "ticks": "",
            "zerolinecolor": "white"
           },
           "yaxis": {
            "backgroundcolor": "#E5ECF6",
            "gridcolor": "white",
            "gridwidth": 2,
            "linecolor": "white",
            "showbackground": true,
            "ticks": "",
            "zerolinecolor": "white"
           },
           "zaxis": {
            "backgroundcolor": "#E5ECF6",
            "gridcolor": "white",
            "gridwidth": 2,
            "linecolor": "white",
            "showbackground": true,
            "ticks": "",
            "zerolinecolor": "white"
           }
          },
          "shapedefaults": {
           "line": {
            "color": "#2a3f5f"
           }
          },
          "ternary": {
           "aaxis": {
            "gridcolor": "white",
            "linecolor": "white",
            "ticks": ""
           },
           "baxis": {
            "gridcolor": "white",
            "linecolor": "white",
            "ticks": ""
           },
           "bgcolor": "#E5ECF6",
           "caxis": {
            "gridcolor": "white",
            "linecolor": "white",
            "ticks": ""
           }
          },
          "title": {
           "x": 0.05
          },
          "xaxis": {
           "automargin": true,
           "gridcolor": "white",
           "linecolor": "white",
           "ticks": "",
           "title": {
            "standoff": 15
           },
           "zerolinecolor": "white",
           "zerolinewidth": 2
          },
          "yaxis": {
           "automargin": true,
           "gridcolor": "white",
           "linecolor": "white",
           "ticks": "",
           "title": {
            "standoff": 15
           },
           "zerolinecolor": "white",
           "zerolinewidth": 2
          }
         }
        },
        "title": {
         "text": "Best objective found vs. # of iterations"
        },
        "xaxis": {
         "title": {
          "text": "Iteration"
         }
        },
        "yaxis": {
         "title": {
          "text": "Viable_cross_terms"
         }
        }
       }
      }
     },
     "metadata": {},
     "output_type": "display_data"
    }
   ],
   "source": [
    "render(Tag_client.get_optimization_trace())"
   ]
  },
  {
   "cell_type": "code",
   "execution_count": 98,
   "metadata": {},
   "outputs": [
    {
     "name": "stderr",
     "output_type": "stream",
     "text": [
      "[INFO 04-04 18:44:15] ax.service.ax_client: Generated new trial 563 with parameters {'z_s': 7, 'z_s_1': 9, 'z_s_2': 5, 'z_p2': 31, 'z_p2_1': 29, 'z_p2_2': 32, 'z_r2': 80, 'z_r2_1': 78, 'z_r2_2': 76, 'x_s': 0.5, 'x_s_1': 0.4, 'x_s_2': 0.3, 'x_p1': 0.832583, 'x_p1_1': 0.732583, 'x_p1_2': 0.632583, 'x_p2': 0.462897, 'x_p2_1': 0.362897, 'x_p2_2': 0.262897, 'x_r2': 1.074138, 'x_r2_1': 0.974138, 'x_r2_2': 0.874138} using model BoTorch.\n",
      "[INFO 04-04 18:44:15] ax.service.ax_client: Completed trial 563 with data: {'Viable_Cross_Terms': (78, None)}.\n",
      "[INFO 04-04 18:45:10] ax.service.ax_client: Generated new trial 564 with parameters {'z_s': 3, 'z_s_1': 11, 'z_s_2': 10, 'z_p2': 35, 'z_p2_1': 32, 'z_p2_2': 32, 'z_r2': 86, 'z_r2_1': 76, 'z_r2_2': 82, 'x_s': 0.5, 'x_s_1': 0.4, 'x_s_2': -0.450232, 'x_p1': 1.0, 'x_p1_1': 0.9, 'x_p1_2': 0.8, 'x_p2': 0.5, 'x_p2_1': 0.4, 'x_p2_2': 0.3, 'x_r2': 1.5, 'x_r2_1': 1.4, 'x_r2_2': 1.3} using model BoTorch.\n",
      "[INFO 04-04 18:45:10] ax.service.ax_client: Completed trial 564 with data: {'Viable_Cross_Terms': (0, None)}.\n",
      "[INFO 04-04 18:46:03] ax.service.ax_client: Generated new trial 565 with parameters {'z_s': 7, 'z_s_1': 12, 'z_s_2': 5, 'z_p2': 30, 'z_p2_1': 27, 'z_p2_2': 30, 'z_r2': 80, 'z_r2_1': 79, 'z_r2_2': 71, 'x_s': 0.5, 'x_s_1': 0.4, 'x_s_2': 0.3, 'x_p1': 1.0, 'x_p1_1': 0.9, 'x_p1_2': 0.8, 'x_p2': 0.484192, 'x_p2_1': 0.384192, 'x_p2_2': 0.284192, 'x_r2': 0.937148, 'x_r2_1': 0.837148, 'x_r2_2': 0.737148} using model BoTorch.\n",
      "[INFO 04-04 18:46:03] ax.service.ax_client: Completed trial 565 with data: {'Viable_Cross_Terms': (20, None)}.\n",
      "[INFO 04-04 18:47:01] ax.service.ax_client: Generated new trial 566 with parameters {'z_s': 3, 'z_s_1': 2, 'z_s_2': 7, 'z_p2': 35, 'z_p2_1': 26, 'z_p2_2': 27, 'z_r2': 82, 'z_r2_1': 80, 'z_r2_2': 84, 'x_s': -0.3, 'x_s_1': -0.4, 'x_s_2': -0.5, 'x_p1': -0.779996, 'x_p1_1': -0.879996, 'x_p1_2': -0.979996, 'x_p2': 0.5, 'x_p2_1': 0.4, 'x_p2_2': -0.5, 'x_r2': 1.5, 'x_r2_1': 0.014205, 'x_r2_2': -0.085795} using model BoTorch.\n",
      "[INFO 04-04 18:47:01] ax.service.ax_client: Completed trial 566 with data: {'Viable_Cross_Terms': (0, None)}.\n",
      "[INFO 04-04 18:47:59] ax.service.ax_client: Generated new trial 567 with parameters {'z_s': 11, 'z_s_1': 9, 'z_s_2': 5, 'z_p2': 30, 'z_p2_1': 29, 'z_p2_2': 29, 'z_r2': 80, 'z_r2_1': 81, 'z_r2_2': 80, 'x_s': 0.5, 'x_s_1': 0.4, 'x_s_2': 0.3, 'x_p1': 0.760082, 'x_p1_1': 0.660082, 'x_p1_2': 0.560082, 'x_p2': 0.481775, 'x_p2_1': 0.381775, 'x_p2_2': 0.281775, 'x_r2': 1.163394, 'x_r2_1': 1.063394, 'x_r2_2': 0.963394} using model BoTorch.\n",
      "[INFO 04-04 18:47:59] ax.service.ax_client: Completed trial 567 with data: {'Viable_Cross_Terms': (81, None)}.\n",
      "[INFO 04-04 18:48:52] ax.service.ax_client: Generated new trial 568 with parameters {'z_s': 4, 'z_s_1': 9, 'z_s_2': 3, 'z_p2': 28, 'z_p2_1': 28, 'z_p2_2': 31, 'z_r2': 80, 'z_r2_1': 72, 'z_r2_2': 84, 'x_s': 0.5, 'x_s_1': 0.4, 'x_s_2': 0.3, 'x_p1': 0.663016, 'x_p1_1': 0.563016, 'x_p1_2': 0.463016, 'x_p2': 0.5, 'x_p2_1': 0.4, 'x_p2_2': 0.3, 'x_r2': 0.982626, 'x_r2_1': 0.882626, 'x_r2_2': 0.782626} using model BoTorch.\n",
      "[INFO 04-04 18:48:52] ax.service.ax_client: Completed trial 568 with data: {'Viable_Cross_Terms': (32, None)}.\n",
      "[INFO 04-04 18:49:46] ax.service.ax_client: Generated new trial 569 with parameters {'z_s': 6, 'z_s_1': 5, 'z_s_2': 5, 'z_p2': 32, 'z_p2_1': 29, 'z_p2_2': 30, 'z_r2': 80, 'z_r2_1': 77, 'z_r2_2': 73, 'x_s': 0.5, 'x_s_1': 0.4, 'x_s_2': 0.3, 'x_p1': 0.737552, 'x_p1_1': 0.637552, 'x_p1_2': 0.537552, 'x_p2': 0.5, 'x_p2_1': 0.4, 'x_p2_2': 0.3, 'x_r2': 1.104829, 'x_r2_1': 0.971352, 'x_r2_2': 0.871352} using model BoTorch.\n",
      "[INFO 04-04 18:49:46] ax.service.ax_client: Completed trial 569 with data: {'Viable_Cross_Terms': (77, None)}.\n",
      "[INFO 04-04 18:50:42] ax.service.ax_client: Generated new trial 570 with parameters {'z_s': 13, 'z_s_1': 5, 'z_s_2': 5, 'z_p2': 32, 'z_p2_1': 28, 'z_p2_2': 30, 'z_r2': 80, 'z_r2_1': 77, 'z_r2_2': 77, 'x_s': 0.5, 'x_s_1': 0.4, 'x_s_2': 0.3, 'x_p1': 0.758737, 'x_p1_1': 0.658737, 'x_p1_2': 0.558737, 'x_p2': 0.5, 'x_p2_1': 0.4, 'x_p2_2': 0.3, 'x_r2': 1.087202, 'x_r2_1': 0.987202, 'x_r2_2': 0.887202} using model BoTorch.\n",
      "[INFO 04-04 18:50:42] ax.service.ax_client: Completed trial 570 with data: {'Viable_Cross_Terms': (80, None)}.\n",
      "[INFO 04-04 18:51:36] ax.service.ax_client: Generated new trial 571 with parameters {'z_s': 12, 'z_s_1': 6, 'z_s_2': 5, 'z_p2': 30, 'z_p2_1': 34, 'z_p2_2': 30, 'z_r2': 80, 'z_r2_1': 74, 'z_r2_2': 75, 'x_s': 0.5, 'x_s_1': 0.4, 'x_s_2': 0.3, 'x_p1': 0.713388, 'x_p1_1': 0.613388, 'x_p1_2': 0.513388, 'x_p2': 0.5, 'x_p2_1': 0.4, 'x_p2_2': 0.3, 'x_r2': 1.12343, 'x_r2_1': 1.02343, 'x_r2_2': 0.92343} using model BoTorch.\n",
      "[INFO 04-04 18:51:36] ax.service.ax_client: Completed trial 571 with data: {'Viable_Cross_Terms': (87, None)}.\n",
      "[INFO 04-04 18:52:31] ax.service.ax_client: Generated new trial 572 with parameters {'z_s': 6, 'z_s_1': 8, 'z_s_2': 5, 'z_p2': 31, 'z_p2_1': 34, 'z_p2_2': 30, 'z_r2': 80, 'z_r2_1': 76, 'z_r2_2': 82, 'x_s': 0.5, 'x_s_1': 0.4, 'x_s_2': 0.3, 'x_p1': 0.722599, 'x_p1_1': 0.622599, 'x_p1_2': 0.522599, 'x_p2': 0.497639, 'x_p2_1': 0.397639, 'x_p2_2': 0.297639, 'x_r2': 1.065587, 'x_r2_1': 0.965587, 'x_r2_2': 0.865587} using model BoTorch.\n",
      "[INFO 04-04 18:52:31] ax.service.ax_client: Completed trial 572 with data: {'Viable_Cross_Terms': (88, None)}.\n",
      "[INFO 04-04 18:53:28] ax.service.ax_client: Generated new trial 573 with parameters {'z_s': 13, 'z_s_1': 6, 'z_s_2': 5, 'z_p2': 33, 'z_p2_1': 28, 'z_p2_2': 32, 'z_r2': 80, 'z_r2_1': 75, 'z_r2_2': 72, 'x_s': 0.5, 'x_s_1': 0.4, 'x_s_2': 0.3, 'x_p1': 0.618343, 'x_p1_1': 0.518343, 'x_p1_2': 0.418343, 'x_p2': 0.5, 'x_p2_1': 0.4, 'x_p2_2': 0.3, 'x_r2': 1.0584, 'x_r2_1': 0.9553, 'x_r2_2': 0.8553} using model BoTorch.\n",
      "[INFO 04-04 18:53:28] ax.service.ax_client: Completed trial 573 with data: {'Viable_Cross_Terms': (83, None)}.\n",
      "[INFO 04-04 18:54:25] ax.service.ax_client: Generated new trial 574 with parameters {'z_s': 11, 'z_s_1': 10, 'z_s_2': 5, 'z_p2': 28, 'z_p2_1': 30, 'z_p2_2': 30, 'z_r2': 80, 'z_r2_1': 80, 'z_r2_2': 82, 'x_s': 0.5, 'x_s_1': 0.4, 'x_s_2': 0.3, 'x_p1': 0.609497, 'x_p1_1': 0.509497, 'x_p1_2': 0.409497, 'x_p2': 0.48425, 'x_p2_1': 0.38425, 'x_p2_2': 0.28425, 'x_r2': 1.167017, 'x_r2_1': 1.067017, 'x_r2_2': 0.967017} using model BoTorch.\n",
      "[INFO 04-04 18:54:25] ax.service.ax_client: Completed trial 574 with data: {'Viable_Cross_Terms': (69, None)}.\n",
      "[INFO 04-04 18:55:25] ax.service.ax_client: Generated new trial 575 with parameters {'z_s': 6, 'z_s_1': 11, 'z_s_2': 4, 'z_p2': 34, 'z_p2_1': 28, 'z_p2_2': 32, 'z_r2': 75, 'z_r2_1': 74, 'z_r2_2': 75, 'x_s': 0.426221, 'x_s_1': -0.4, 'x_s_2': -0.5, 'x_p1': 0.726584, 'x_p1_1': 0.626584, 'x_p1_2': -1.0, 'x_p2': 0.238562, 'x_p2_1': 0.138562, 'x_p2_2': -0.421533, 'x_r2': -0.563834, 'x_r2_1': -0.663834, 'x_r2_2': -0.763834} using model BoTorch.\n",
      "[INFO 04-04 18:55:25] ax.service.ax_client: Completed trial 575 with data: {'Viable_Cross_Terms': (14, None)}.\n",
      "[INFO 04-04 18:56:23] ax.service.ax_client: Generated new trial 576 with parameters {'z_s': 8, 'z_s_1': 5, 'z_s_2': 5, 'z_p2': 32, 'z_p2_1': 29, 'z_p2_2': 30, 'z_r2': 80, 'z_r2_1': 77, 'z_r2_2': 80, 'x_s': 0.5, 'x_s_1': 0.4, 'x_s_2': 0.3, 'x_p1': 0.596755, 'x_p1_1': 0.496755, 'x_p1_2': 0.396755, 'x_p2': 0.494264, 'x_p2_1': 0.394264, 'x_p2_2': 0.294264, 'x_r2': 1.136297, 'x_r2_1': 1.036297, 'x_r2_2': 0.936297} using model BoTorch.\n",
      "[INFO 04-04 18:56:23] ax.service.ax_client: Completed trial 576 with data: {'Viable_Cross_Terms': (69, None)}.\n",
      "[INFO 04-04 18:57:21] ax.service.ax_client: Generated new trial 577 with parameters {'z_s': 3, 'z_s_1': 12, 'z_s_2': 10, 'z_p2': 30, 'z_p2_1': 28, 'z_p2_2': 25, 'z_r2': 86, 'z_r2_1': 76, 'z_r2_2': 77, 'x_s': 0.5, 'x_s_1': 0.4, 'x_s_2': 0.3, 'x_p1': -0.036494, 'x_p1_1': -0.136494, 'x_p1_2': -0.236494, 'x_p2': 0.5, 'x_p2_1': 0.4, 'x_p2_2': 0.3, 'x_r2': 1.5, 'x_r2_1': 1.4, 'x_r2_2': 1.3} using model BoTorch.\n",
      "[INFO 04-04 18:57:21] ax.service.ax_client: Completed trial 577 with data: {'Viable_Cross_Terms': (15, None)}.\n",
      "[INFO 04-04 18:58:19] ax.service.ax_client: Generated new trial 578 with parameters {'z_s': 5, 'z_s_1': 5, 'z_s_2': 5, 'z_p2': 30, 'z_p2_1': 33, 'z_p2_2': 29, 'z_r2': 80, 'z_r2_1': 81, 'z_r2_2': 81, 'x_s': 0.5, 'x_s_1': 0.4, 'x_s_2': 0.3, 'x_p1': 0.592426, 'x_p1_1': 0.492426, 'x_p1_2': 0.392426, 'x_p2': 0.450046, 'x_p2_1': 0.350046, 'x_p2_2': 0.250046, 'x_r2': 1.273963, 'x_r2_1': 1.173963, 'x_r2_2': 1.073963} using model BoTorch.\n",
      "[INFO 04-04 18:58:19] ax.service.ax_client: Completed trial 578 with data: {'Viable_Cross_Terms': (30, None)}.\n",
      "[INFO 04-04 18:59:16] ax.service.ax_client: Generated new trial 579 with parameters {'z_s': 7, 'z_s_1': 4, 'z_s_2': 5, 'z_p2': 32, 'z_p2_1': 27, 'z_p2_2': 30, 'z_r2': 80, 'z_r2_1': 76, 'z_r2_2': 76, 'x_s': 0.5, 'x_s_1': 0.4, 'x_s_2': 0.3, 'x_p1': 0.70975, 'x_p1_1': 0.60975, 'x_p1_2': 0.50975, 'x_p2': 0.5, 'x_p2_1': 0.4, 'x_p2_2': 0.3, 'x_r2': 1.014415, 'x_r2_1': 0.914415, 'x_r2_2': 0.814415} using model BoTorch.\n",
      "[INFO 04-04 18:59:16] ax.service.ax_client: Completed trial 579 with data: {'Viable_Cross_Terms': (74, None)}.\n",
      "[INFO 04-04 19:00:13] ax.service.ax_client: Generated new trial 580 with parameters {'z_s': 4, 'z_s_1': 12, 'z_s_2': 12, 'z_p2': 32, 'z_p2_1': 28, 'z_p2_2': 26, 'z_r2': 86, 'z_r2_1': 84, 'z_r2_2': 76, 'x_s': 0.5, 'x_s_1': 0.4, 'x_s_2': 0.3, 'x_p1': 1.0, 'x_p1_1': 0.9, 'x_p1_2': 0.8, 'x_p2': 0.5, 'x_p2_1': 0.4, 'x_p2_2': -0.124889, 'x_r2': 0.522589, 'x_r2_1': 0.422589, 'x_r2_2': 0.322589} using model BoTorch.\n",
      "[INFO 04-04 19:00:13] ax.service.ax_client: Completed trial 580 with data: {'Viable_Cross_Terms': (3, None)}.\n",
      "[INFO 04-04 19:01:09] ax.service.ax_client: Generated new trial 581 with parameters {'z_s': 3, 'z_s_1': 6, 'z_s_2': 5, 'z_p2': 31, 'z_p2_1': 29, 'z_p2_2': 30, 'z_r2': 80, 'z_r2_1': 81, 'z_r2_2': 71, 'x_s': 0.5, 'x_s_1': 0.4, 'x_s_2': 0.3, 'x_p1': 0.708416, 'x_p1_1': 0.608416, 'x_p1_2': 0.508416, 'x_p2': 0.5, 'x_p2_1': 0.4, 'x_p2_2': 0.3, 'x_r2': 1.037365, 'x_r2_1': 0.937365, 'x_r2_2': 0.837365} using model BoTorch.\n",
      "[INFO 04-04 19:01:09] ax.service.ax_client: Completed trial 581 with data: {'Viable_Cross_Terms': (80, None)}.\n",
      "[INFO 04-04 19:02:07] ax.service.ax_client: Generated new trial 582 with parameters {'z_s': 6, 'z_s_1': 2, 'z_s_2': 5, 'z_p2': 31, 'z_p2_1': 27, 'z_p2_2': 30, 'z_r2': 80, 'z_r2_1': 77, 'z_r2_2': 75, 'x_s': 0.5, 'x_s_1': 0.4, 'x_s_2': 0.3, 'x_p1': 0.739531, 'x_p1_1': 0.639531, 'x_p1_2': 0.539531, 'x_p2': 0.5, 'x_p2_1': 0.4, 'x_p2_2': 0.3, 'x_r2': 0.994644, 'x_r2_1': 0.893424, 'x_r2_2': 0.793424} using model BoTorch.\n",
      "[INFO 04-04 19:02:07] ax.service.ax_client: Completed trial 582 with data: {'Viable_Cross_Terms': (61, None)}.\n",
      "[INFO 04-04 19:03:04] ax.service.ax_client: Generated new trial 583 with parameters {'z_s': 3, 'z_s_1': 12, 'z_s_2': 6, 'z_p2': 30, 'z_p2_1': 29, 'z_p2_2': 25, 'z_r2': 83, 'z_r2_1': 73, 'z_r2_2': 84, 'x_s': 0.5, 'x_s_1': 0.4, 'x_s_2': 0.3, 'x_p1': 0.402944, 'x_p1_1': 0.302944, 'x_p1_2': 0.202944, 'x_p2': 0.5, 'x_p2_1': 0.4, 'x_p2_2': 0.3, 'x_r2': 1.5, 'x_r2_1': 1.4, 'x_r2_2': 1.3} using model BoTorch.\n",
      "[INFO 04-04 19:03:04] ax.service.ax_client: Completed trial 583 with data: {'Viable_Cross_Terms': (3, None)}.\n",
      "[INFO 04-04 19:04:00] ax.service.ax_client: Generated new trial 584 with parameters {'z_s': 4, 'z_s_1': 9, 'z_s_2': 5, 'z_p2': 29, 'z_p2_1': 27, 'z_p2_2': 30, 'z_r2': 80, 'z_r2_1': 78, 'z_r2_2': 80, 'x_s': 0.5, 'x_s_1': 0.4, 'x_s_2': 0.3, 'x_p1': 0.7563, 'x_p1_1': 0.6563, 'x_p1_2': 0.5563, 'x_p2': 0.5, 'x_p2_1': 0.4, 'x_p2_2': 0.3, 'x_r2': 1.083868, 'x_r2_1': 0.943013, 'x_r2_2': 0.843013} using model BoTorch.\n",
      "[INFO 04-04 19:04:00] ax.service.ax_client: Completed trial 584 with data: {'Viable_Cross_Terms': (75, None)}.\n",
      "[INFO 04-04 19:04:58] ax.service.ax_client: Generated new trial 585 with parameters {'z_s': 12, 'z_s_1': 14, 'z_s_2': 10, 'z_p2': 35, 'z_p2_1': 27, 'z_p2_2': 25, 'z_r2': 73, 'z_r2_1': 80, 'z_r2_2': 78, 'x_s': 0.5, 'x_s_1': 0.4, 'x_s_2': 0.3, 'x_p1': 1.0, 'x_p1_1': -0.65159, 'x_p1_2': -0.75159, 'x_p2': 0.231081, 'x_p2_1': 0.131081, 'x_p2_2': -0.451263, 'x_r2': 1.031555, 'x_r2_1': -1.4, 'x_r2_2': -1.5} using model BoTorch.\n",
      "[INFO 04-04 19:04:58] ax.service.ax_client: Completed trial 585 with data: {'Viable_Cross_Terms': (4, None)}.\n",
      "[INFO 04-04 19:05:56] ax.service.ax_client: Generated new trial 586 with parameters {'z_s': 14, 'z_s_1': 12, 'z_s_2': 1, 'z_p2': 34, 'z_p2_1': 27, 'z_p2_2': 25, 'z_r2': 83, 'z_r2_1': 77, 'z_r2_2': 71, 'x_s': 0.5, 'x_s_1': 0.4, 'x_s_2': 0.3, 'x_p1': 1.0, 'x_p1_1': 0.9, 'x_p1_2': 0.8, 'x_p2': 0.5, 'x_p2_1': 0.4, 'x_p2_2': 0.3, 'x_r2': 1.5, 'x_r2_1': 1.4, 'x_r2_2': 1.3} using model BoTorch.\n",
      "[INFO 04-04 19:05:56] ax.service.ax_client: Completed trial 586 with data: {'Viable_Cross_Terms': (0, None)}.\n",
      "[INFO 04-04 19:06:53] ax.service.ax_client: Generated new trial 587 with parameters {'z_s': 11, 'z_s_1': 9, 'z_s_2': 10, 'z_p2': 32, 'z_p2_1': 33, 'z_p2_2': 27, 'z_r2': 86, 'z_r2_1': 75, 'z_r2_2': 80, 'x_s': 0.5, 'x_s_1': 0.4, 'x_s_2': 0.3, 'x_p1': 1.0, 'x_p1_1': 0.9, 'x_p1_2': -1.0, 'x_p2': -0.3, 'x_p2_1': -0.4, 'x_p2_2': -0.5, 'x_r2': 1.5, 'x_r2_1': 1.4, 'x_r2_2': 1.3} using model BoTorch.\n",
      "[INFO 04-04 19:06:53] ax.service.ax_client: Completed trial 587 with data: {'Viable_Cross_Terms': (0, None)}.\n",
      "[INFO 04-04 19:07:51] ax.service.ax_client: Generated new trial 588 with parameters {'z_s': 7, 'z_s_1': 13, 'z_s_2': 5, 'z_p2': 30, 'z_p2_1': 32, 'z_p2_2': 29, 'z_r2': 80, 'z_r2_1': 84, 'z_r2_2': 79, 'x_s': 0.5, 'x_s_1': 0.4, 'x_s_2': 0.3, 'x_p1': 0.704381, 'x_p1_1': 0.604381, 'x_p1_2': 0.504381, 'x_p2': 0.5, 'x_p2_1': 0.4, 'x_p2_2': 0.3, 'x_r2': 1.070608, 'x_r2_1': 0.970608, 'x_r2_2': 0.870608} using model BoTorch.\n",
      "[INFO 04-04 19:07:51] ax.service.ax_client: Completed trial 588 with data: {'Viable_Cross_Terms': (85, None)}.\n",
      "[INFO 04-04 19:08:49] ax.service.ax_client: Generated new trial 589 with parameters {'z_s': 12, 'z_s_1': 2, 'z_s_2': 5, 'z_p2': 28, 'z_p2_1': 26, 'z_p2_2': 30, 'z_r2': 80, 'z_r2_1': 80, 'z_r2_2': 71, 'x_s': 0.5, 'x_s_1': 0.4, 'x_s_2': 0.3, 'x_p1': 0.585028, 'x_p1_1': 0.485028, 'x_p1_2': 0.385028, 'x_p2': 0.5, 'x_p2_1': 0.4, 'x_p2_2': 0.3, 'x_r2': 1.063661, 'x_r2_1': 0.963661, 'x_r2_2': 0.863661} using model BoTorch.\n",
      "[INFO 04-04 19:08:49] ax.service.ax_client: Completed trial 589 with data: {'Viable_Cross_Terms': (128, None)}.\n",
      "[INFO 04-04 19:09:47] ax.service.ax_client: Generated new trial 590 with parameters {'z_s': 3, 'z_s_1': 9, 'z_s_2': 5, 'z_p2': 33, 'z_p2_1': 30, 'z_p2_2': 30, 'z_r2': 80, 'z_r2_1': 74, 'z_r2_2': 77, 'x_s': 0.5, 'x_s_1': 0.4, 'x_s_2': 0.3, 'x_p1': 0.531905, 'x_p1_1': 0.431905, 'x_p1_2': 0.331905, 'x_p2': 0.5, 'x_p2_1': 0.4, 'x_p2_2': 0.3, 'x_r2': 1.123092, 'x_r2_1': 1.023092, 'x_r2_2': 0.923092} using model BoTorch.\n",
      "[INFO 04-04 19:09:47] ax.service.ax_client: Completed trial 590 with data: {'Viable_Cross_Terms': (65, None)}.\n",
      "[INFO 04-04 19:10:46] ax.service.ax_client: Generated new trial 591 with parameters {'z_s': 15, 'z_s_1': 6, 'z_s_2': 5, 'z_p2': 32, 'z_p2_1': 32, 'z_p2_2': 33, 'z_r2': 86, 'z_r2_1': 73, 'z_r2_2': 81, 'x_s': 0.5, 'x_s_1': 0.4, 'x_s_2': 0.3, 'x_p1': -0.483966, 'x_p1_1': -0.9, 'x_p1_2': -1.0, 'x_p2': 0.5, 'x_p2_1': 0.4, 'x_p2_2': 0.3, 'x_r2': 1.5, 'x_r2_1': 0.81977, 'x_r2_2': 0.71977} using model BoTorch.\n",
      "[INFO 04-04 19:10:46] ax.service.ax_client: Completed trial 591 with data: {'Viable_Cross_Terms': (0, None)}.\n",
      "[INFO 04-04 19:11:43] ax.service.ax_client: Generated new trial 592 with parameters {'z_s': 6, 'z_s_1': 3, 'z_s_2': 5, 'z_p2': 34, 'z_p2_1': 28, 'z_p2_2': 30, 'z_r2': 80, 'z_r2_1': 77, 'z_r2_2': 70, 'x_s': 0.5, 'x_s_1': 0.4, 'x_s_2': 0.3, 'x_p1': 0.513423, 'x_p1_1': 0.413423, 'x_p1_2': 0.313423, 'x_p2': 0.5, 'x_p2_1': 0.4, 'x_p2_2': 0.3, 'x_r2': 1.096496, 'x_r2_1': 0.996496, 'x_r2_2': 0.896496} using model BoTorch.\n",
      "[INFO 04-04 19:11:43] ax.service.ax_client: Completed trial 592 with data: {'Viable_Cross_Terms': (64, None)}.\n",
      "[INFO 04-04 19:12:40] ax.service.ax_client: Generated new trial 593 with parameters {'z_s': 12, 'z_s_1': 12, 'z_s_2': 4, 'z_p2': 31, 'z_p2_1': 28, 'z_p2_2': 25, 'z_r2': 73, 'z_r2_1': 71, 'z_r2_2': 75, 'x_s': 0.5, 'x_s_1': 0.4, 'x_s_2': 0.3, 'x_p1': 1.0, 'x_p1_1': -0.9, 'x_p1_2': -1.0, 'x_p2': -0.3, 'x_p2_1': -0.4, 'x_p2_2': -0.5, 'x_r2': 1.5, 'x_r2_1': 1.4, 'x_r2_2': -1.5} using model BoTorch.\n",
      "[INFO 04-04 19:12:40] ax.service.ax_client: Completed trial 593 with data: {'Viable_Cross_Terms': (2, None)}.\n",
      "[INFO 04-04 19:13:37] ax.service.ax_client: Generated new trial 594 with parameters {'z_s': 3, 'z_s_1': 8, 'z_s_2': 5, 'z_p2': 32, 'z_p2_1': 26, 'z_p2_2': 33, 'z_r2': 79, 'z_r2_1': 82, 'z_r2_2': 82, 'x_s': 0.5, 'x_s_1': 0.4, 'x_s_2': 0.3, 'x_p1': 0.377471, 'x_p1_1': 0.277471, 'x_p1_2': 0.177471, 'x_p2': 0.5, 'x_p2_1': 0.4, 'x_p2_2': 0.080913, 'x_r2': 0.853252, 'x_r2_1': 0.753252, 'x_r2_2': 0.653252} using model BoTorch.\n",
      "[INFO 04-04 19:13:37] ax.service.ax_client: Completed trial 594 with data: {'Viable_Cross_Terms': (32, None)}.\n",
      "[INFO 04-04 19:14:41] ax.service.ax_client: Generated new trial 595 with parameters {'z_s': 14, 'z_s_1': 12, 'z_s_2': 4, 'z_p2': 35, 'z_p2_1': 27, 'z_p2_2': 32, 'z_r2': 78, 'z_r2_1': 72, 'z_r2_2': 75, 'x_s': -0.3, 'x_s_1': -0.4, 'x_s_2': -0.5, 'x_p1': 0.437546, 'x_p1_1': 0.337546, 'x_p1_2': 0.237546, 'x_p2': 0.5, 'x_p2_1': 0.4, 'x_p2_2': -0.5, 'x_r2': 1.5, 'x_r2_1': 1.4, 'x_r2_2': -1.5} using model BoTorch.\n",
      "[INFO 04-04 19:14:41] ax.service.ax_client: Completed trial 595 with data: {'Viable_Cross_Terms': (1, None)}.\n",
      "[INFO 04-04 19:15:39] ax.service.ax_client: Generated new trial 596 with parameters {'z_s': 7, 'z_s_1': 10, 'z_s_2': 5, 'z_p2': 31, 'z_p2_1': 30, 'z_p2_2': 27, 'z_r2': 80, 'z_r2_1': 74, 'z_r2_2': 83, 'x_s': 0.5, 'x_s_1': 0.4, 'x_s_2': 0.3, 'x_p1': 0.617884, 'x_p1_1': 0.517884, 'x_p1_2': 0.417884, 'x_p2': 0.5, 'x_p2_1': 0.4, 'x_p2_2': 0.3, 'x_r2': 1.028101, 'x_r2_1': 0.928101, 'x_r2_2': 0.828101} using model BoTorch.\n",
      "[INFO 04-04 19:15:39] ax.service.ax_client: Completed trial 596 with data: {'Viable_Cross_Terms': (88, None)}.\n",
      "[INFO 04-04 19:16:37] ax.service.ax_client: Generated new trial 597 with parameters {'z_s': 5, 'z_s_1': 12, 'z_s_2': 5, 'z_p2': 34, 'z_p2_1': 27, 'z_p2_2': 30, 'z_r2': 80, 'z_r2_1': 79, 'z_r2_2': 75, 'x_s': 0.5, 'x_s_1': 0.4, 'x_s_2': 0.3, 'x_p1': 0.542512, 'x_p1_1': 0.442512, 'x_p1_2': 0.342512, 'x_p2': 0.5, 'x_p2_1': 0.4, 'x_p2_2': 0.3, 'x_r2': 1.046783, 'x_r2_1': 0.946783, 'x_r2_2': 0.846783} using model BoTorch.\n",
      "[INFO 04-04 19:16:37] ax.service.ax_client: Completed trial 597 with data: {'Viable_Cross_Terms': (71, None)}.\n",
      "[INFO 04-04 19:17:34] ax.service.ax_client: Generated new trial 598 with parameters {'z_s': 6, 'z_s_1': 6, 'z_s_2': 5, 'z_p2': 30, 'z_p2_1': 33, 'z_p2_2': 30, 'z_r2': 80, 'z_r2_1': 77, 'z_r2_2': 78, 'x_s': 0.5, 'x_s_1': 0.4, 'x_s_2': 0.3, 'x_p1': 0.555436, 'x_p1_1': 0.455436, 'x_p1_2': 0.355436, 'x_p2': 0.5, 'x_p2_1': 0.4, 'x_p2_2': 0.3, 'x_r2': 1.022966, 'x_r2_1': 0.922966, 'x_r2_2': 0.822966} using model BoTorch.\n",
      "[INFO 04-04 19:17:34] ax.service.ax_client: Completed trial 598 with data: {'Viable_Cross_Terms': (78, None)}.\n",
      "[INFO 04-04 19:18:34] ax.service.ax_client: Generated new trial 599 with parameters {'z_s': 3, 'z_s_1': 5, 'z_s_2': 5, 'z_p2': 29, 'z_p2_1': 29, 'z_p2_2': 29, 'z_r2': 80, 'z_r2_1': 74, 'z_r2_2': 84, 'x_s': 0.5, 'x_s_1': 0.4, 'x_s_2': 0.3, 'x_p1': 0.570269, 'x_p1_1': 0.470269, 'x_p1_2': 0.370269, 'x_p2': 0.5, 'x_p2_1': 0.4, 'x_p2_2': 0.3, 'x_r2': 0.989433, 'x_r2_1': 0.889433, 'x_r2_2': 0.789433} using model BoTorch.\n",
      "[INFO 04-04 19:18:34] ax.service.ax_client: Completed trial 599 with data: {'Viable_Cross_Terms': (81, None)}.\n",
      "[INFO 04-04 19:19:33] ax.service.ax_client: Generated new trial 600 with parameters {'z_s': 8, 'z_s_1': 8, 'z_s_2': 5, 'z_p2': 29, 'z_p2_1': 29, 'z_p2_2': 30, 'z_r2': 80, 'z_r2_1': 79, 'z_r2_2': 82, 'x_s': 0.5, 'x_s_1': 0.4, 'x_s_2': 0.3, 'x_p1': 0.514008, 'x_p1_1': 0.414008, 'x_p1_2': 0.314008, 'x_p2': 0.5, 'x_p2_1': 0.4, 'x_p2_2': 0.3, 'x_r2': 1.022915, 'x_r2_1': 0.922915, 'x_r2_2': 0.822915} using model BoTorch.\n",
      "[INFO 04-04 19:19:33] ax.service.ax_client: Completed trial 600 with data: {'Viable_Cross_Terms': (68, None)}.\n",
      "[INFO 04-04 19:20:31] ax.service.ax_client: Generated new trial 601 with parameters {'z_s': 14, 'z_s_1': 12, 'z_s_2': 5, 'z_p2': 27, 'z_p2_1': 28, 'z_p2_2': 33, 'z_r2': 75, 'z_r2_1': 75, 'z_r2_2': 76, 'x_s': 0.5, 'x_s_1': 0.4, 'x_s_2': 0.3, 'x_p1': 1.0, 'x_p1_1': 0.9, 'x_p1_2': -1.0, 'x_p2': 0.5, 'x_p2_1': 0.4, 'x_p2_2': 0.3, 'x_r2': 1.5, 'x_r2_1': 1.4, 'x_r2_2': -1.5} using model BoTorch.\n",
      "[INFO 04-04 19:20:31] ax.service.ax_client: Completed trial 601 with data: {'Viable_Cross_Terms': (0, None)}.\n",
      "[INFO 04-04 19:21:29] ax.service.ax_client: Generated new trial 602 with parameters {'z_s': 3, 'z_s_1': 4, 'z_s_2': 8, 'z_p2': 27, 'z_p2_1': 32, 'z_p2_2': 33, 'z_r2': 77, 'z_r2_1': 80, 'z_r2_2': 78, 'x_s': -0.3, 'x_s_1': -0.4, 'x_s_2': -0.5, 'x_p1': 0.391047, 'x_p1_1': 0.291047, 'x_p1_2': 0.191047, 'x_p2': -0.3, 'x_p2_1': -0.4, 'x_p2_2': -0.5, 'x_r2': 1.5, 'x_r2_1': -1.4, 'x_r2_2': -1.5} using model BoTorch.\n",
      "[INFO 04-04 19:21:29] ax.service.ax_client: Completed trial 602 with data: {'Viable_Cross_Terms': (10, None)}.\n",
      "[INFO 04-04 19:22:28] ax.service.ax_client: Generated new trial 603 with parameters {'z_s': 4, 'z_s_1': 6, 'z_s_2': 4, 'z_p2': 30, 'z_p2_1': 31, 'z_p2_2': 29, 'z_r2': 80, 'z_r2_1': 83, 'z_r2_2': 82, 'x_s': 0.5, 'x_s_1': 0.4, 'x_s_2': 0.3, 'x_p1': 0.527822, 'x_p1_1': 0.427822, 'x_p1_2': 0.327822, 'x_p2': 0.5, 'x_p2_1': 0.4, 'x_p2_2': 0.3, 'x_r2': 0.983449, 'x_r2_1': 0.883449, 'x_r2_2': 0.783449} using model BoTorch.\n",
      "[INFO 04-04 19:22:28] ax.service.ax_client: Completed trial 603 with data: {'Viable_Cross_Terms': (35, None)}.\n",
      "[INFO 04-04 19:23:26] ax.service.ax_client: Generated new trial 604 with parameters {'z_s': 5, 'z_s_1': 4, 'z_s_2': 2, 'z_p2': 34, 'z_p2_1': 32, 'z_p2_2': 25, 'z_r2': 76, 'z_r2_1': 81, 'z_r2_2': 81, 'x_s': -0.3, 'x_s_1': -0.4, 'x_s_2': -0.5, 'x_p1': 1.0, 'x_p1_1': 0.9, 'x_p1_2': 0.8, 'x_p2': 0.5, 'x_p2_1': 0.4, 'x_p2_2': -0.5, 'x_r2': 1.5, 'x_r2_1': 1.4, 'x_r2_2': 1.3} using model BoTorch.\n",
      "[INFO 04-04 19:23:26] ax.service.ax_client: Completed trial 604 with data: {'Viable_Cross_Terms': (0, None)}.\n",
      "[INFO 04-04 19:24:26] ax.service.ax_client: Generated new trial 605 with parameters {'z_s': 3, 'z_s_1': 13, 'z_s_2': 5, 'z_p2': 27, 'z_p2_1': 27, 'z_p2_2': 25, 'z_r2': 86, 'z_r2_1': 72, 'z_r2_2': 80, 'x_s': -0.3, 'x_s_1': -0.4, 'x_s_2': -0.5, 'x_p1': 1.0, 'x_p1_1': 0.9, 'x_p1_2': 0.8, 'x_p2': 0.5, 'x_p2_1': 0.4, 'x_p2_2': 0.3, 'x_r2': 1.5, 'x_r2_1': 1.4, 'x_r2_2': 1.3} using model BoTorch.\n",
      "[INFO 04-04 19:24:26] ax.service.ax_client: Completed trial 605 with data: {'Viable_Cross_Terms': (11, None)}.\n",
      "[INFO 04-04 19:25:24] ax.service.ax_client: Generated new trial 606 with parameters {'z_s': 6, 'z_s_1': 2, 'z_s_2': 1, 'z_p2': 33, 'z_p2_1': 27, 'z_p2_2': 25, 'z_r2': 72, 'z_r2_1': 73, 'z_r2_2': 81, 'x_s': 0.5, 'x_s_1': 0.4, 'x_s_2': -0.5, 'x_p1': 1.0, 'x_p1_1': 0.9, 'x_p1_2': -1.0, 'x_p2': 0.5, 'x_p2_1': 0.4, 'x_p2_2': 0.3, 'x_r2': 1.5, 'x_r2_1': 1.387172, 'x_r2_2': -1.5} using model BoTorch.\n",
      "[INFO 04-04 19:25:24] ax.service.ax_client: Completed trial 606 with data: {'Viable_Cross_Terms': (23, None)}.\n",
      "[INFO 04-04 19:26:23] ax.service.ax_client: Generated new trial 607 with parameters {'z_s': 7, 'z_s_1': 8, 'z_s_2': 5, 'z_p2': 29, 'z_p2_1': 29, 'z_p2_2': 31, 'z_r2': 80, 'z_r2_1': 79, 'z_r2_2': 78, 'x_s': 0.5, 'x_s_1': 0.4, 'x_s_2': 0.3, 'x_p1': 0.572031, 'x_p1_1': 0.472031, 'x_p1_2': 0.372031, 'x_p2': 0.5, 'x_p2_1': 0.4, 'x_p2_2': 0.3, 'x_r2': 1.035043, 'x_r2_1': 0.935043, 'x_r2_2': 0.835043} using model BoTorch.\n",
      "[INFO 04-04 19:26:23] ax.service.ax_client: Completed trial 607 with data: {'Viable_Cross_Terms': (108, None)}.\n",
      "[INFO 04-04 19:27:23] ax.service.ax_client: Generated new trial 608 with parameters {'z_s': 7, 'z_s_1': 10, 'z_s_2': 5, 'z_p2': 28, 'z_p2_1': 30, 'z_p2_2': 30, 'z_r2': 80, 'z_r2_1': 80, 'z_r2_2': 79, 'x_s': 0.5, 'x_s_1': 0.4, 'x_s_2': 0.3, 'x_p1': 0.503203, 'x_p1_1': 0.403203, 'x_p1_2': 0.303203, 'x_p2': 0.5, 'x_p2_1': 0.4, 'x_p2_2': 0.3, 'x_r2': 1.048041, 'x_r2_1': 0.948041, 'x_r2_2': 0.848041} using model BoTorch.\n",
      "[INFO 04-04 19:27:23] ax.service.ax_client: Completed trial 608 with data: {'Viable_Cross_Terms': (66, None)}.\n",
      "[INFO 04-04 19:28:21] ax.service.ax_client: Generated new trial 609 with parameters {'z_s': 12, 'z_s_1': 7, 'z_s_2': 5, 'z_p2': 32, 'z_p2_1': 30, 'z_p2_2': 30, 'z_r2': 80, 'z_r2_1': 79, 'z_r2_2': 83, 'x_s': 0.5, 'x_s_1': 0.4, 'x_s_2': 0.3, 'x_p1': 0.525795, 'x_p1_1': 0.425795, 'x_p1_2': 0.325795, 'x_p2': 0.5, 'x_p2_1': 0.4, 'x_p2_2': 0.3, 'x_r2': 1.039653, 'x_r2_1': 0.939653, 'x_r2_2': 0.839653} using model BoTorch.\n",
      "[INFO 04-04 19:28:21] ax.service.ax_client: Completed trial 609 with data: {'Viable_Cross_Terms': (69, None)}.\n",
      "[INFO 04-04 19:29:20] ax.service.ax_client: Generated new trial 610 with parameters {'z_s': 12, 'z_s_1': 7, 'z_s_2': 5, 'z_p2': 31, 'z_p2_1': 28, 'z_p2_2': 29, 'z_r2': 80, 'z_r2_1': 79, 'z_r2_2': 77, 'x_s': 0.5, 'x_s_1': 0.4, 'x_s_2': 0.3, 'x_p1': 0.507758, 'x_p1_1': 0.407758, 'x_p1_2': 0.307758, 'x_p2': 0.5, 'x_p2_1': 0.4, 'x_p2_2': 0.3, 'x_r2': 1.056842, 'x_r2_1': 0.956842, 'x_r2_2': 0.856842} using model BoTorch.\n",
      "[INFO 04-04 19:29:20] ax.service.ax_client: Completed trial 610 with data: {'Viable_Cross_Terms': (81, None)}.\n",
      "[INFO 04-04 19:30:21] ax.service.ax_client: Generated new trial 611 with parameters {'z_s': 6, 'z_s_1': 6, 'z_s_2': 4, 'z_p2': 32, 'z_p2_1': 29, 'z_p2_2': 30, 'z_r2': 79, 'z_r2_1': 82, 'z_r2_2': 71, 'x_s': 0.5, 'x_s_1': 0.4, 'x_s_2': 0.3, 'x_p1': 0.446298, 'x_p1_1': 0.346298, 'x_p1_2': 0.246298, 'x_p2': 0.5, 'x_p2_1': 0.361749, 'x_p2_2': 0.099673, 'x_r2': 0.909871, 'x_r2_1': 0.809871, 'x_r2_2': 0.709871} using model BoTorch.\n",
      "[INFO 04-04 19:30:21] ax.service.ax_client: Completed trial 611 with data: {'Viable_Cross_Terms': (31, None)}.\n",
      "[INFO 04-04 19:31:21] ax.service.ax_client: Generated new trial 612 with parameters {'z_s': 6, 'z_s_1': 4, 'z_s_2': 5, 'z_p2': 33, 'z_p2_1': 33, 'z_p2_2': 31, 'z_r2': 80, 'z_r2_1': 80, 'z_r2_2': 77, 'x_s': 0.5, 'x_s_1': 0.4, 'x_s_2': 0.3, 'x_p1': 0.549031, 'x_p1_1': 0.449031, 'x_p1_2': 0.349031, 'x_p2': 0.5, 'x_p2_1': 0.4, 'x_p2_2': 0.3, 'x_r2': 1.021557, 'x_r2_1': 0.921557, 'x_r2_2': 0.821557} using model BoTorch.\n",
      "[INFO 04-04 19:31:21] ax.service.ax_client: Completed trial 612 with data: {'Viable_Cross_Terms': (80, None)}.\n",
      "[INFO 04-04 19:32:22] ax.service.ax_client: Generated new trial 613 with parameters {'z_s': 11, 'z_s_1': 2, 'z_s_2': 5, 'z_p2': 29, 'z_p2_1': 26, 'z_p2_2': 32, 'z_r2': 80, 'z_r2_1': 74, 'z_r2_2': 70, 'x_s': 0.5, 'x_s_1': 0.4, 'x_s_2': 0.3, 'x_p1': 0.512079, 'x_p1_1': 0.412079, 'x_p1_2': 0.312079, 'x_p2': 0.5, 'x_p2_1': 0.4, 'x_p2_2': 0.3, 'x_r2': 1.441424, 'x_r2_1': 1.341424, 'x_r2_2': 1.241424} using model BoTorch.\n",
      "[INFO 04-04 19:32:22] ax.service.ax_client: Completed trial 613 with data: {'Viable_Cross_Terms': (44, None)}.\n",
      "[INFO 04-04 19:33:25] ax.service.ax_client: Generated new trial 614 with parameters {'z_s': 3, 'z_s_1': 13, 'z_s_2': 13, 'z_p2': 34, 'z_p2_1': 26, 'z_p2_2': 32, 'z_r2': 86, 'z_r2_1': 75, 'z_r2_2': 74, 'x_s': 0.5, 'x_s_1': 0.4, 'x_s_2': 0.3, 'x_p1': 1.0, 'x_p1_1': -0.786696, 'x_p1_2': -0.886696, 'x_p2': 0.5, 'x_p2_1': 0.4, 'x_p2_2': 0.3, 'x_r2': 1.5, 'x_r2_1': 1.238401, 'x_r2_2': 1.138401} using model BoTorch.\n",
      "[INFO 04-04 19:33:25] ax.service.ax_client: Completed trial 614 with data: {'Viable_Cross_Terms': (1, None)}.\n",
      "[INFO 04-04 19:34:27] ax.service.ax_client: Generated new trial 615 with parameters {'z_s': 10, 'z_s_1': 7, 'z_s_2': 1, 'z_p2': 27, 'z_p2_1': 33, 'z_p2_2': 25, 'z_r2': 72, 'z_r2_1': 72, 'z_r2_2': 73, 'x_s': 0.5, 'x_s_1': 0.4, 'x_s_2': 0.3, 'x_p1': -0.8, 'x_p1_1': -0.9, 'x_p1_2': -1.0, 'x_p2': 0.5, 'x_p2_1': 0.4, 'x_p2_2': 0.3, 'x_r2': -1.3, 'x_r2_1': -1.4, 'x_r2_2': -1.5} using model BoTorch.\n",
      "[INFO 04-04 19:34:27] ax.service.ax_client: Completed trial 615 with data: {'Viable_Cross_Terms': (0, None)}.\n",
      "[INFO 04-04 19:35:28] ax.service.ax_client: Generated new trial 616 with parameters {'z_s': 4, 'z_s_1': 10, 'z_s_2': 4, 'z_p2': 29, 'z_p2_1': 29, 'z_p2_2': 30, 'z_r2': 80, 'z_r2_1': 79, 'z_r2_2': 82, 'x_s': 0.5, 'x_s_1': 0.4, 'x_s_2': 0.3, 'x_p1': 0.579237, 'x_p1_1': 0.479237, 'x_p1_2': 0.379237, 'x_p2': 0.5, 'x_p2_1': 0.4, 'x_p2_2': 0.3, 'x_r2': 0.901993, 'x_r2_1': 0.801993, 'x_r2_2': 0.701993} using model BoTorch.\n",
      "[INFO 04-04 19:35:28] ax.service.ax_client: Completed trial 616 with data: {'Viable_Cross_Terms': (30, None)}.\n",
      "[INFO 04-04 19:36:38] ax.service.ax_client: Generated new trial 617 with parameters {'z_s': 8, 'z_s_1': 13, 'z_s_2': 6, 'z_p2': 27, 'z_p2_1': 27, 'z_p2_2': 30, 'z_r2': 84, 'z_r2_1': 73, 'z_r2_2': 84, 'x_s': 0.5, 'x_s_1': 0.4, 'x_s_2': 0.3, 'x_p1': 1.0, 'x_p1_1': 0.9, 'x_p1_2': 0.8, 'x_p2': 0.5, 'x_p2_1': 0.4, 'x_p2_2': 0.3, 'x_r2': 0.606409, 'x_r2_1': 0.506409, 'x_r2_2': 0.406409} using model BoTorch.\n",
      "[INFO 04-04 19:36:38] ax.service.ax_client: Completed trial 617 with data: {'Viable_Cross_Terms': (0, None)}.\n",
      "[INFO 04-04 19:37:38] ax.service.ax_client: Generated new trial 618 with parameters {'z_s': 9, 'z_s_1': 7, 'z_s_2': 1, 'z_p2': 27, 'z_p2_1': 27, 'z_p2_2': 31, 'z_r2': 73, 'z_r2_1': 71, 'z_r2_2': 78, 'x_s': -0.3, 'x_s_1': -0.4, 'x_s_2': -0.5, 'x_p1': 1.0, 'x_p1_1': 0.9, 'x_p1_2': 0.8, 'x_p2': 0.5, 'x_p2_1': 0.4, 'x_p2_2': 0.3, 'x_r2': 1.5, 'x_r2_1': 1.4, 'x_r2_2': 1.3} using model BoTorch.\n",
      "[INFO 04-04 19:37:38] ax.service.ax_client: Completed trial 618 with data: {'Viable_Cross_Terms': (30, None)}.\n",
      "[INFO 04-04 19:38:40] ax.service.ax_client: Generated new trial 619 with parameters {'z_s': 10, 'z_s_1': 3, 'z_s_2': 6, 'z_p2': 29, 'z_p2_1': 31, 'z_p2_2': 29, 'z_r2': 80, 'z_r2_1': 79, 'z_r2_2': 73, 'x_s': 0.5, 'x_s_1': 0.4, 'x_s_2': 0.3, 'x_p1': 0.585247, 'x_p1_1': 0.485247, 'x_p1_2': 0.385247, 'x_p2': 0.5, 'x_p2_1': 0.4, 'x_p2_2': 0.3, 'x_r2': 0.940629, 'x_r2_1': 0.840629, 'x_r2_2': 0.740629} using model BoTorch.\n",
      "[INFO 04-04 19:38:40] ax.service.ax_client: Completed trial 619 with data: {'Viable_Cross_Terms': (33, None)}.\n",
      "[INFO 04-04 19:39:41] ax.service.ax_client: Generated new trial 620 with parameters {'z_s': 8, 'z_s_1': 12, 'z_s_2': 1, 'z_p2': 28, 'z_p2_1': 29, 'z_p2_2': 33, 'z_r2': 86, 'z_r2_1': 77, 'z_r2_2': 74, 'x_s': 0.5, 'x_s_1': 0.4, 'x_s_2': -0.5, 'x_p1': 1.0, 'x_p1_1': -0.9, 'x_p1_2': -1.0, 'x_p2': 0.5, 'x_p2_1': 0.4, 'x_p2_2': 0.3, 'x_r2': -1.3, 'x_r2_1': -1.4, 'x_r2_2': -1.5} using model BoTorch.\n",
      "[INFO 04-04 19:39:41] ax.service.ax_client: Completed trial 620 with data: {'Viable_Cross_Terms': (0, None)}.\n",
      "[INFO 04-04 19:40:52] ax.service.ax_client: Generated new trial 621 with parameters {'z_s': 9, 'z_s_1': 5, 'z_s_2': 6, 'z_p2': 32, 'z_p2_1': 28, 'z_p2_2': 33, 'z_r2': 77, 'z_r2_1': 76, 'z_r2_2': 73, 'x_s': 0.5, 'x_s_1': -0.4, 'x_s_2': -0.5, 'x_p1': -0.8, 'x_p1_1': -0.9, 'x_p1_2': -1.0, 'x_p2': 0.5, 'x_p2_1': 0.4, 'x_p2_2': -0.5, 'x_r2': -0.777674, 'x_r2_1': -0.877674, 'x_r2_2': -0.977674} using model BoTorch.\n",
      "[INFO 04-04 19:40:52] ax.service.ax_client: Completed trial 621 with data: {'Viable_Cross_Terms': (0, None)}.\n",
      "[INFO 04-04 19:41:56] ax.service.ax_client: Generated new trial 622 with parameters {'z_s': 12, 'z_s_1': 5, 'z_s_2': 5, 'z_p2': 28, 'z_p2_1': 34, 'z_p2_2': 30, 'z_r2': 80, 'z_r2_1': 72, 'z_r2_2': 79, 'x_s': 0.5, 'x_s_1': 0.4, 'x_s_2': 0.3, 'x_p1': 0.922975, 'x_p1_1': 0.822975, 'x_p1_2': 0.722975, 'x_p2': 0.5, 'x_p2_1': 0.4, 'x_p2_2': 0.3, 'x_r2': 1.025309, 'x_r2_1': 0.90041, 'x_r2_2': 0.80041} using model BoTorch.\n",
      "[INFO 04-04 19:41:56] ax.service.ax_client: Completed trial 622 with data: {'Viable_Cross_Terms': (36, None)}.\n",
      "[INFO 04-04 19:42:57] ax.service.ax_client: Generated new trial 623 with parameters {'z_s': 3, 'z_s_1': 3, 'z_s_2': 5, 'z_p2': 28, 'z_p2_1': 29, 'z_p2_2': 29, 'z_r2': 80, 'z_r2_1': 79, 'z_r2_2': 79, 'x_s': 0.5, 'x_s_1': 0.4, 'x_s_2': 0.3, 'x_p1': 0.650078, 'x_p1_1': 0.550078, 'x_p1_2': 0.450078, 'x_p2': 0.5, 'x_p2_1': 0.4, 'x_p2_2': 0.3, 'x_r2': 1.067037, 'x_r2_1': 0.967037, 'x_r2_2': 0.867037} using model BoTorch.\n",
      "[INFO 04-04 19:42:57] ax.service.ax_client: Completed trial 623 with data: {'Viable_Cross_Terms': (86, None)}.\n",
      "[INFO 04-04 19:43:57] ax.service.ax_client: Generated new trial 624 with parameters {'z_s': 13, 'z_s_1': 13, 'z_s_2': 5, 'z_p2': 32, 'z_p2_1': 27, 'z_p2_2': 28, 'z_r2': 80, 'z_r2_1': 77, 'z_r2_2': 78, 'x_s': 0.5, 'x_s_1': 0.4, 'x_s_2': 0.3, 'x_p1': 0.577575, 'x_p1_1': 0.477575, 'x_p1_2': 0.377575, 'x_p2': 0.5, 'x_p2_1': 0.4, 'x_p2_2': 0.3, 'x_r2': 1.118064, 'x_r2_1': 1.018064, 'x_r2_2': 0.918064} using model BoTorch.\n",
      "[INFO 04-04 19:43:57] ax.service.ax_client: Completed trial 624 with data: {'Viable_Cross_Terms': (68, None)}.\n",
      "[INFO 04-04 19:44:58] ax.service.ax_client: Generated new trial 625 with parameters {'z_s': 4, 'z_s_1': 5, 'z_s_2': 5, 'z_p2': 30, 'z_p2_1': 28, 'z_p2_2': 30, 'z_r2': 80, 'z_r2_1': 75, 'z_r2_2': 72, 'x_s': 0.5, 'x_s_1': 0.4, 'x_s_2': 0.3, 'x_p1': 0.590003, 'x_p1_1': 0.490003, 'x_p1_2': 0.390003, 'x_p2': 0.5, 'x_p2_1': 0.4, 'x_p2_2': 0.3, 'x_r2': 1.064386, 'x_r2_1': 0.964386, 'x_r2_2': 0.864386} using model BoTorch.\n",
      "[INFO 04-04 19:44:58] ax.service.ax_client: Completed trial 625 with data: {'Viable_Cross_Terms': (82, None)}.\n",
      "[INFO 04-04 19:46:04] ax.service.ax_client: Generated new trial 626 with parameters {'z_s': 5, 'z_s_1': 4, 'z_s_2': 5, 'z_p2': 35, 'z_p2_1': 34, 'z_p2_2': 26, 'z_r2': 80, 'z_r2_1': 84, 'z_r2_2': 74, 'x_s': 0.5, 'x_s_1': 0.4, 'x_s_2': 0.3, 'x_p1': 0.60824, 'x_p1_1': 0.50824, 'x_p1_2': 0.40824, 'x_p2': 0.5, 'x_p2_1': 0.4, 'x_p2_2': 0.3, 'x_r2': 1.26056, 'x_r2_1': 1.16056, 'x_r2_2': 1.06056} using model BoTorch.\n",
      "[INFO 04-04 19:46:04] ax.service.ax_client: Completed trial 626 with data: {'Viable_Cross_Terms': (46, None)}.\n",
      "[INFO 04-04 19:47:05] ax.service.ax_client: Generated new trial 627 with parameters {'z_s': 4, 'z_s_1': 7, 'z_s_2': 5, 'z_p2': 32, 'z_p2_1': 30, 'z_p2_2': 30, 'z_r2': 80, 'z_r2_1': 78, 'z_r2_2': 71, 'x_s': 0.5, 'x_s_1': 0.4, 'x_s_2': 0.3, 'x_p1': 0.60676, 'x_p1_1': 0.50676, 'x_p1_2': 0.40676, 'x_p2': 0.5, 'x_p2_1': 0.4, 'x_p2_2': 0.3, 'x_r2': 1.072121, 'x_r2_1': 0.972121, 'x_r2_2': 0.872121} using model BoTorch.\n",
      "[INFO 04-04 19:47:05] ax.service.ax_client: Completed trial 627 with data: {'Viable_Cross_Terms': (82, None)}.\n",
      "[INFO 04-04 19:48:07] ax.service.ax_client: Generated new trial 628 with parameters {'z_s': 5, 'z_s_1': 2, 'z_s_2': 13, 'z_p2': 28, 'z_p2_1': 28, 'z_p2_2': 27, 'z_r2': 78, 'z_r2_1': 82, 'z_r2_2': 84, 'x_s': 0.5, 'x_s_1': 0.4, 'x_s_2': 0.3, 'x_p1': 0.901797, 'x_p1_1': 0.801797, 'x_p1_2': -1.0, 'x_p2': 0.5, 'x_p2_1': 0.4, 'x_p2_2': 0.3, 'x_r2': 1.5, 'x_r2_1': -0.191077, 'x_r2_2': -1.5} using model BoTorch.\n",
      "[INFO 04-04 19:48:07] ax.service.ax_client: Completed trial 628 with data: {'Viable_Cross_Terms': (2, None)}.\n",
      "[INFO 04-04 19:49:10] ax.service.ax_client: Generated new trial 629 with parameters {'z_s': 11, 'z_s_1': 11, 'z_s_2': 5, 'z_p2': 27, 'z_p2_1': 29, 'z_p2_2': 29, 'z_r2': 80, 'z_r2_1': 83, 'z_r2_2': 73, 'x_s': 0.5, 'x_s_1': 0.4, 'x_s_2': 0.3, 'x_p1': 0.523442, 'x_p1_1': 0.423442, 'x_p1_2': 0.323442, 'x_p2': 0.5, 'x_p2_1': 0.4, 'x_p2_2': 0.3, 'x_r2': 1.08454, 'x_r2_1': 0.98454, 'x_r2_2': 0.88454} using model BoTorch.\n",
      "[INFO 04-04 19:49:10] ax.service.ax_client: Completed trial 629 with data: {'Viable_Cross_Terms': (67, None)}.\n",
      "[INFO 04-04 19:50:17] ax.service.ax_client: Generated new trial 630 with parameters {'z_s': 9, 'z_s_1': 13, 'z_s_2': 5, 'z_p2': 27, 'z_p2_1': 30, 'z_p2_2': 27, 'z_r2': 79, 'z_r2_1': 76, 'z_r2_2': 80, 'x_s': 0.5, 'x_s_1': 0.4, 'x_s_2': 0.3, 'x_p1': 0.151706, 'x_p1_1': 0.051706, 'x_p1_2': -0.048294, 'x_p2': 0.5, 'x_p2_1': 0.4, 'x_p2_2': 0.3, 'x_r2': 1.5, 'x_r2_1': 1.4, 'x_r2_2': 1.3} using model BoTorch.\n",
      "[INFO 04-04 19:50:17] ax.service.ax_client: Completed trial 630 with data: {'Viable_Cross_Terms': (47, None)}.\n",
      "[INFO 04-04 19:51:20] ax.service.ax_client: Generated new trial 631 with parameters {'z_s': 6, 'z_s_1': 7, 'z_s_2': 13, 'z_p2': 34, 'z_p2_1': 32, 'z_p2_2': 31, 'z_r2': 74, 'z_r2_1': 72, 'z_r2_2': 84, 'x_s': 0.5, 'x_s_1': 0.4, 'x_s_2': 0.3, 'x_p1': -0.8, 'x_p1_1': -0.9, 'x_p1_2': -1.0, 'x_p2': -0.3, 'x_p2_1': -0.4, 'x_p2_2': -0.5, 'x_r2': -1.3, 'x_r2_1': -1.4, 'x_r2_2': -1.5} using model BoTorch.\n",
      "[INFO 04-04 19:51:20] ax.service.ax_client: Completed trial 631 with data: {'Viable_Cross_Terms': (0, None)}.\n",
      "[INFO 04-04 19:52:25] ax.service.ax_client: Generated new trial 632 with parameters {'z_s': 14, 'z_s_1': 7, 'z_s_2': 5, 'z_p2': 31, 'z_p2_1': 32, 'z_p2_2': 29, 'z_r2': 80, 'z_r2_1': 78, 'z_r2_2': 83, 'x_s': 0.5, 'x_s_1': 0.4, 'x_s_2': 0.3, 'x_p1': 0.528592, 'x_p1_1': 0.428592, 'x_p1_2': 0.328592, 'x_p2': 0.5, 'x_p2_1': 0.4, 'x_p2_2': 0.3, 'x_r2': 1.167829, 'x_r2_1': 1.067829, 'x_r2_2': 0.967829} using model BoTorch.\n",
      "[INFO 04-04 19:52:25] ax.service.ax_client: Completed trial 632 with data: {'Viable_Cross_Terms': (88, None)}.\n",
      "[INFO 04-04 19:53:29] ax.service.ax_client: Generated new trial 633 with parameters {'z_s': 13, 'z_s_1': 7, 'z_s_2': 5, 'z_p2': 32, 'z_p2_1': 31, 'z_p2_2': 30, 'z_r2': 80, 'z_r2_1': 74, 'z_r2_2': 71, 'x_s': 0.5, 'x_s_1': 0.4, 'x_s_2': 0.3, 'x_p1': 0.470476, 'x_p1_1': 0.370476, 'x_p1_2': 0.270476, 'x_p2': 0.5, 'x_p2_1': 0.4, 'x_p2_2': 0.3, 'x_r2': 1.175516, 'x_r2_1': 1.075516, 'x_r2_2': 0.975516} using model BoTorch.\n",
      "[INFO 04-04 19:53:29] ax.service.ax_client: Completed trial 633 with data: {'Viable_Cross_Terms': (67, None)}.\n",
      "[INFO 04-04 19:54:33] ax.service.ax_client: Generated new trial 634 with parameters {'z_s': 4, 'z_s_1': 8, 'z_s_2': 5, 'z_p2': 31, 'z_p2_1': 27, 'z_p2_2': 29, 'z_r2': 80, 'z_r2_1': 85, 'z_r2_2': 77, 'x_s': 0.5, 'x_s_1': 0.4, 'x_s_2': 0.3, 'x_p1': 0.505591, 'x_p1_1': 0.405591, 'x_p1_2': 0.305591, 'x_p2': 0.5, 'x_p2_1': 0.4, 'x_p2_2': 0.3, 'x_r2': 1.137605, 'x_r2_1': 1.037605, 'x_r2_2': 0.937605} using model BoTorch.\n",
      "[INFO 04-04 19:54:33] ax.service.ax_client: Completed trial 634 with data: {'Viable_Cross_Terms': (85, None)}.\n",
      "[INFO 04-04 19:55:35] ax.service.ax_client: Generated new trial 635 with parameters {'z_s': 15, 'z_s_1': 2, 'z_s_2': 1, 'z_p2': 27, 'z_p2_1': 34, 'z_p2_2': 29, 'z_r2': 72, 'z_r2_1': 71, 'z_r2_2': 70, 'x_s': 0.5, 'x_s_1': 0.4, 'x_s_2': 0.3, 'x_p1': 1.0, 'x_p1_1': 0.9, 'x_p1_2': 0.8, 'x_p2': 0.5, 'x_p2_1': 0.4, 'x_p2_2': 0.3, 'x_r2': 1.5, 'x_r2_1': 1.169489, 'x_r2_2': 1.069489} using model BoTorch.\n",
      "[INFO 04-04 19:55:35] ax.service.ax_client: Completed trial 635 with data: {'Viable_Cross_Terms': (44, None)}.\n",
      "[INFO 04-04 19:56:38] ax.service.ax_client: Generated new trial 636 with parameters {'z_s': 4, 'z_s_1': 12, 'z_s_2': 7, 'z_p2': 29, 'z_p2_1': 28, 'z_p2_2': 26, 'z_r2': 80, 'z_r2_1': 82, 'z_r2_2': 77, 'x_s': 0.5, 'x_s_1': 0.4, 'x_s_2': 0.3, 'x_p1': 0.265469, 'x_p1_1': 0.165469, 'x_p1_2': 0.065469, 'x_p2': 0.5, 'x_p2_1': 0.4, 'x_p2_2': 0.3, 'x_r2': 1.307568, 'x_r2_1': 1.207568, 'x_r2_2': 1.107568} using model BoTorch.\n",
      "[INFO 04-04 19:56:38] ax.service.ax_client: Completed trial 636 with data: {'Viable_Cross_Terms': (3, None)}.\n",
      "[INFO 04-04 19:57:46] ax.service.ax_client: Generated new trial 637 with parameters {'z_s': 7, 'z_s_1': 4, 'z_s_2': 5, 'z_p2': 30, 'z_p2_1': 27, 'z_p2_2': 30, 'z_r2': 80, 'z_r2_1': 82, 'z_r2_2': 72, 'x_s': 0.5, 'x_s_1': 0.4, 'x_s_2': 0.3, 'x_p1': 0.472197, 'x_p1_1': 0.372197, 'x_p1_2': 0.272197, 'x_p2': 0.5, 'x_p2_1': 0.4, 'x_p2_2': 0.3, 'x_r2': 1.260753, 'x_r2_1': 1.160753, 'x_r2_2': 1.060753} using model BoTorch.\n",
      "[INFO 04-04 19:57:46] ax.service.ax_client: Completed trial 637 with data: {'Viable_Cross_Terms': (27, None)}.\n",
      "[INFO 04-04 19:58:52] ax.service.ax_client: Generated new trial 638 with parameters {'z_s': 8, 'z_s_1': 9, 'z_s_2': 9, 'z_p2': 35, 'z_p2_1': 26, 'z_p2_2': 26, 'z_r2': 80, 'z_r2_1': 78, 'z_r2_2': 77, 'x_s': 0.5, 'x_s_1': 0.4, 'x_s_2': 0.3, 'x_p1': 1.0, 'x_p1_1': 0.9, 'x_p1_2': 0.8, 'x_p2': 0.5, 'x_p2_1': 0.4, 'x_p2_2': 0.3, 'x_r2': 1.5, 'x_r2_1': 1.4, 'x_r2_2': 1.3} using model BoTorch.\n",
      "[INFO 04-04 19:58:52] ax.service.ax_client: Completed trial 638 with data: {'Viable_Cross_Terms': (0, None)}.\n",
      "[INFO 04-04 20:00:00] ax.service.ax_client: Generated new trial 639 with parameters {'z_s': 14, 'z_s_1': 6, 'z_s_2': 13, 'z_p2': 34, 'z_p2_1': 30, 'z_p2_2': 27, 'z_r2': 79, 'z_r2_1': 73, 'z_r2_2': 75, 'x_s': 0.5, 'x_s_1': 0.4, 'x_s_2': -0.5, 'x_p1': 1.0, 'x_p1_1': 0.9, 'x_p1_2': 0.8, 'x_p2': -0.3, 'x_p2_1': -0.4, 'x_p2_2': -0.5, 'x_r2': 1.5, 'x_r2_1': -1.4, 'x_r2_2': -1.5} using model BoTorch.\n",
      "[INFO 04-04 20:00:00] ax.service.ax_client: Completed trial 639 with data: {'Viable_Cross_Terms': (0, None)}.\n",
      "[INFO 04-04 20:01:10] ax.service.ax_client: Generated new trial 640 with parameters {'z_s': 13, 'z_s_1': 7, 'z_s_2': 5, 'z_p2': 31, 'z_p2_1': 33, 'z_p2_2': 32, 'z_r2': 80, 'z_r2_1': 75, 'z_r2_2': 80, 'x_s': 0.5, 'x_s_1': 0.4, 'x_s_2': 0.3, 'x_p1': 0.2935, 'x_p1_1': 0.1935, 'x_p1_2': 0.0935, 'x_p2': 0.5, 'x_p2_1': 0.4, 'x_p2_2': 0.3, 'x_r2': 1.005589, 'x_r2_1': 0.905589, 'x_r2_2': 0.805589} using model BoTorch.\n",
      "[INFO 04-04 20:01:10] ax.service.ax_client: Completed trial 640 with data: {'Viable_Cross_Terms': (56, None)}.\n",
      "[INFO 04-04 20:02:14] ax.service.ax_client: Generated new trial 641 with parameters {'z_s': 9, 'z_s_1': 11, 'z_s_2': 5, 'z_p2': 34, 'z_p2_1': 27, 'z_p2_2': 29, 'z_r2': 80, 'z_r2_1': 73, 'z_r2_2': 82, 'x_s': 0.5, 'x_s_1': 0.4, 'x_s_2': 0.3, 'x_p1': 0.442669, 'x_p1_1': 0.342669, 'x_p1_2': 0.242669, 'x_p2': 0.5, 'x_p2_1': 0.4, 'x_p2_2': 0.3, 'x_r2': 0.763609, 'x_r2_1': 0.663609, 'x_r2_2': 0.563609} using model BoTorch.\n",
      "[INFO 04-04 20:02:14] ax.service.ax_client: Completed trial 641 with data: {'Viable_Cross_Terms': (59, None)}.\n",
      "[INFO 04-04 20:03:22] ax.service.ax_client: Generated new trial 642 with parameters {'z_s': 4, 'z_s_1': 2, 'z_s_2': 5, 'z_p2': 31, 'z_p2_1': 26, 'z_p2_2': 33, 'z_r2': 80, 'z_r2_1': 77, 'z_r2_2': 77, 'x_s': 0.5, 'x_s_1': 0.4, 'x_s_2': 0.3, 'x_p1': 0.389139, 'x_p1_1': 0.289139, 'x_p1_2': 0.189139, 'x_p2': 0.5, 'x_p2_1': 0.4, 'x_p2_2': 0.3, 'x_r2': 0.846561, 'x_r2_1': 0.746561, 'x_r2_2': 0.646561} using model BoTorch.\n",
      "[INFO 04-04 20:03:22] ax.service.ax_client: Completed trial 642 with data: {'Viable_Cross_Terms': (78, None)}.\n",
      "[INFO 04-04 20:04:30] ax.service.ax_client: Generated new trial 643 with parameters {'z_s': 4, 'z_s_1': 13, 'z_s_2': 8, 'z_p2': 35, 'z_p2_1': 32, 'z_p2_2': 30, 'z_r2': 81, 'z_r2_1': 83, 'z_r2_2': 70, 'x_s': 0.5, 'x_s_1': 0.4, 'x_s_2': 0.3, 'x_p1': 1.0, 'x_p1_1': 0.9, 'x_p1_2': 0.8, 'x_p2': -0.3, 'x_p2_1': -0.4, 'x_p2_2': -0.5, 'x_r2': 1.5, 'x_r2_1': -1.4, 'x_r2_2': -1.5} using model BoTorch.\n",
      "[INFO 04-04 20:04:30] ax.service.ax_client: Completed trial 643 with data: {'Viable_Cross_Terms': (0, None)}.\n",
      "[INFO 04-04 20:05:39] ax.service.ax_client: Generated new trial 644 with parameters {'z_s': 12, 'z_s_1': 12, 'z_s_2': 8, 'z_p2': 27, 'z_p2_1': 32, 'z_p2_2': 25, 'z_r2': 82, 'z_r2_1': 72, 'z_r2_2': 74, 'x_s': 0.5, 'x_s_1': 0.4, 'x_s_2': -0.5, 'x_p1': -0.8, 'x_p1_1': -0.9, 'x_p1_2': -1.0, 'x_p2': 0.5, 'x_p2_1': -0.4, 'x_p2_2': -0.5, 'x_r2': -1.3, 'x_r2_1': -1.4, 'x_r2_2': -1.5} using model BoTorch.\n",
      "[INFO 04-04 20:05:39] ax.service.ax_client: Completed trial 644 with data: {'Viable_Cross_Terms': (0, None)}.\n",
      "[INFO 04-04 20:06:49] ax.service.ax_client: Generated new trial 645 with parameters {'z_s': 10, 'z_s_1': 11, 'z_s_2': 5, 'z_p2': 29, 'z_p2_1': 31, 'z_p2_2': 30, 'z_r2': 80, 'z_r2_1': 80, 'z_r2_2': 77, 'x_s': 0.5, 'x_s_1': 0.4, 'x_s_2': 0.3, 'x_p1': 0.2297, 'x_p1_1': 0.1297, 'x_p1_2': 0.0297, 'x_p2': 0.5, 'x_p2_1': 0.4, 'x_p2_2': 0.3, 'x_r2': 0.981249, 'x_r2_1': 0.881249, 'x_r2_2': 0.781249} using model BoTorch.\n",
      "[INFO 04-04 20:06:49] ax.service.ax_client: Completed trial 645 with data: {'Viable_Cross_Terms': (21, None)}.\n",
      "[INFO 04-04 20:08:01] ax.service.ax_client: Generated new trial 646 with parameters {'z_s': 10, 'z_s_1': 8, 'z_s_2': 5, 'z_p2': 32, 'z_p2_1': 34, 'z_p2_2': 31, 'z_r2': 80, 'z_r2_1': 80, 'z_r2_2': 74, 'x_s': 0.5, 'x_s_1': 0.4, 'x_s_2': 0.3, 'x_p1': 0.713581, 'x_p1_1': 0.613581, 'x_p1_2': 0.513581, 'x_p2': 0.5, 'x_p2_1': 0.4, 'x_p2_2': 0.3, 'x_r2': 0.938891, 'x_r2_1': 0.838891, 'x_r2_2': 0.738891} using model BoTorch.\n",
      "[INFO 04-04 20:08:01] ax.service.ax_client: Completed trial 646 with data: {'Viable_Cross_Terms': (58, None)}.\n",
      "[INFO 04-04 20:09:12] ax.service.ax_client: Generated new trial 647 with parameters {'z_s': 5, 'z_s_1': 2, 'z_s_2': 5, 'z_p2': 31, 'z_p2_1': 26, 'z_p2_2': 31, 'z_r2': 80, 'z_r2_1': 76, 'z_r2_2': 76, 'x_s': 0.5, 'x_s_1': 0.4, 'x_s_2': 0.3, 'x_p1': 0.692806, 'x_p1_1': 0.592806, 'x_p1_2': 0.492806, 'x_p2': 0.5, 'x_p2_1': 0.4, 'x_p2_2': 0.3, 'x_r2': 0.944556, 'x_r2_1': 0.844556, 'x_r2_2': 0.744556} using model BoTorch.\n",
      "[INFO 04-04 20:09:12] ax.service.ax_client: Completed trial 647 with data: {'Viable_Cross_Terms': (56, None)}.\n",
      "[INFO 04-04 20:10:19] ax.service.ax_client: Generated new trial 648 with parameters {'z_s': 5, 'z_s_1': 2, 'z_s_2': 5, 'z_p2': 31, 'z_p2_1': 26, 'z_p2_2': 31, 'z_r2': 80, 'z_r2_1': 80, 'z_r2_2': 76, 'x_s': 0.5, 'x_s_1': 0.4, 'x_s_2': 0.3, 'x_p1': 0.707384, 'x_p1_1': 0.607384, 'x_p1_2': 0.507384, 'x_p2': 0.5, 'x_p2_1': 0.4, 'x_p2_2': 0.3, 'x_r2': 1.056056, 'x_r2_1': 0.956056, 'x_r2_2': 0.856056} using model BoTorch.\n",
      "[INFO 04-04 20:10:19] ax.service.ax_client: Completed trial 648 with data: {'Viable_Cross_Terms': (83, None)}.\n",
      "[INFO 04-04 20:11:26] ax.service.ax_client: Generated new trial 649 with parameters {'z_s': 4, 'z_s_1': 12, 'z_s_2': 6, 'z_p2': 35, 'z_p2_1': 26, 'z_p2_2': 25, 'z_r2': 86, 'z_r2_1': 74, 'z_r2_2': 72, 'x_s': -0.3, 'x_s_1': -0.4, 'x_s_2': -0.5, 'x_p1': 1.0, 'x_p1_1': 0.9, 'x_p1_2': 0.8, 'x_p2': 0.5, 'x_p2_1': 0.4, 'x_p2_2': 0.3, 'x_r2': -1.3, 'x_r2_1': -1.4, 'x_r2_2': -1.5} using model BoTorch.\n",
      "[INFO 04-04 20:11:26] ax.service.ax_client: Completed trial 649 with data: {'Viable_Cross_Terms': (0, None)}.\n",
      "[INFO 04-04 20:12:34] ax.service.ax_client: Generated new trial 650 with parameters {'z_s': 4, 'z_s_1': 12, 'z_s_2': 8, 'z_p2': 27, 'z_p2_1': 32, 'z_p2_2': 31, 'z_r2': 73, 'z_r2_1': 71, 'z_r2_2': 82, 'x_s': -0.3, 'x_s_1': -0.4, 'x_s_2': -0.5, 'x_p1': 1.0, 'x_p1_1': 0.9, 'x_p1_2': 0.8, 'x_p2': 0.5, 'x_p2_1': 0.4, 'x_p2_2': 0.3, 'x_r2': -1.3, 'x_r2_1': -1.4, 'x_r2_2': -1.5} using model BoTorch.\n",
      "[INFO 04-04 20:12:34] ax.service.ax_client: Completed trial 650 with data: {'Viable_Cross_Terms': (2, None)}.\n",
      "[INFO 04-04 20:13:44] ax.service.ax_client: Generated new trial 651 with parameters {'z_s': 12, 'z_s_1': 13, 'z_s_2': 13, 'z_p2': 27, 'z_p2_1': 29, 'z_p2_2': 25, 'z_r2': 72, 'z_r2_1': 81, 'z_r2_2': 80, 'x_s': -0.3, 'x_s_1': -0.4, 'x_s_2': -0.5, 'x_p1': 1.0, 'x_p1_1': 0.9, 'x_p1_2': 0.8, 'x_p2': 0.5, 'x_p2_1': 0.4, 'x_p2_2': 0.3, 'x_r2': 1.5, 'x_r2_1': -0.209181, 'x_r2_2': -1.051564} using model BoTorch.\n",
      "[INFO 04-04 20:13:44] ax.service.ax_client: Completed trial 651 with data: {'Viable_Cross_Terms': (0, None)}.\n",
      "[INFO 04-04 20:14:52] ax.service.ax_client: Generated new trial 652 with parameters {'z_s': 6, 'z_s_1': 8, 'z_s_2': 5, 'z_p2': 31, 'z_p2_1': 27, 'z_p2_2': 30, 'z_r2': 80, 'z_r2_1': 77, 'z_r2_2': 74, 'x_s': 0.5, 'x_s_1': 0.4, 'x_s_2': 0.3, 'x_p1': 0.686875, 'x_p1_1': 0.586875, 'x_p1_2': 0.486875, 'x_p2': 0.5, 'x_p2_1': 0.4, 'x_p2_2': 0.3, 'x_r2': 1.5, 'x_r2_1': 1.4, 'x_r2_2': 1.3} using model BoTorch.\n",
      "[INFO 04-04 20:14:52] ax.service.ax_client: Completed trial 652 with data: {'Viable_Cross_Terms': (51, None)}.\n",
      "[INFO 04-04 20:16:02] ax.service.ax_client: Generated new trial 653 with parameters {'z_s': 8, 'z_s_1': 8, 'z_s_2': 4, 'z_p2': 27, 'z_p2_1': 33, 'z_p2_2': 25, 'z_r2': 78, 'z_r2_1': 77, 'z_r2_2': 80, 'x_s': 0.5, 'x_s_1': 0.4, 'x_s_2': -0.5, 'x_p1': 1.0, 'x_p1_1': 0.9, 'x_p1_2': 0.8, 'x_p2': 0.5, 'x_p2_1': 0.4, 'x_p2_2': -0.5, 'x_r2': -1.3, 'x_r2_1': -1.4, 'x_r2_2': -1.5} using model BoTorch.\n",
      "[INFO 04-04 20:16:02] ax.service.ax_client: Completed trial 653 with data: {'Viable_Cross_Terms': (2, None)}.\n",
      "[INFO 04-04 20:17:16] ax.service.ax_client: Generated new trial 654 with parameters {'z_s': 5, 'z_s_1': 3, 'z_s_2': 5, 'z_p2': 31, 'z_p2_1': 28, 'z_p2_2': 32, 'z_r2': 80, 'z_r2_1': 73, 'z_r2_2': 77, 'x_s': 0.5, 'x_s_1': 0.4, 'x_s_2': 0.3, 'x_p1': 0.704587, 'x_p1_1': 0.604587, 'x_p1_2': 0.504587, 'x_p2': 0.5, 'x_p2_1': 0.4, 'x_p2_2': 0.3, 'x_r2': 1.063234, 'x_r2_1': 0.963234, 'x_r2_2': 0.863234} using model BoTorch.\n",
      "[INFO 04-04 20:17:16] ax.service.ax_client: Completed trial 654 with data: {'Viable_Cross_Terms': (86, None)}.\n",
      "[INFO 04-04 20:18:23] ax.service.ax_client: Generated new trial 655 with parameters {'z_s': 7, 'z_s_1': 14, 'z_s_2': 5, 'z_p2': 27, 'z_p2_1': 26, 'z_p2_2': 27, 'z_r2': 83, 'z_r2_1': 74, 'z_r2_2': 83, 'x_s': -0.3, 'x_s_1': -0.4, 'x_s_2': -0.5, 'x_p1': -0.8, 'x_p1_1': -0.9, 'x_p1_2': -1.0, 'x_p2': -0.3, 'x_p2_1': -0.4, 'x_p2_2': -0.5, 'x_r2': 1.5, 'x_r2_1': 1.4, 'x_r2_2': 1.3} using model BoTorch.\n",
      "[INFO 04-04 20:18:23] ax.service.ax_client: Completed trial 655 with data: {'Viable_Cross_Terms': (0, None)}.\n",
      "[INFO 04-04 20:19:39] ax.service.ax_client: Generated new trial 656 with parameters {'z_s': 4, 'z_s_1': 6, 'z_s_2': 6, 'z_p2': 28, 'z_p2_1': 27, 'z_p2_2': 28, 'z_r2': 80, 'z_r2_1': 83, 'z_r2_2': 79, 'x_s': 0.5, 'x_s_1': 0.4, 'x_s_2': 0.3, 'x_p1': 0.966421, 'x_p1_1': 0.866421, 'x_p1_2': 0.766421, 'x_p2': 0.5, 'x_p2_1': 0.4, 'x_p2_2': 0.3, 'x_r2': 1.5, 'x_r2_1': 1.024135, 'x_r2_2': 0.924135} using model BoTorch.\n",
      "[INFO 04-04 20:19:39] ax.service.ax_client: Completed trial 656 with data: {'Viable_Cross_Terms': (9, None)}.\n",
      "[INFO 04-04 20:20:58] ax.service.ax_client: Generated new trial 657 with parameters {'z_s': 7, 'z_s_1': 5, 'z_s_2': 5, 'z_p2': 27, 'z_p2_1': 27, 'z_p2_2': 28, 'z_r2': 79, 'z_r2_1': 74, 'z_r2_2': 75, 'x_s': 0.5, 'x_s_1': 0.4, 'x_s_2': 0.3, 'x_p1': 0.207085, 'x_p1_1': 0.107085, 'x_p1_2': 0.007085, 'x_p2': 0.5, 'x_p2_1': 0.4, 'x_p2_2': 0.3, 'x_r2': 0.724779, 'x_r2_1': 0.624779, 'x_r2_2': 0.524779} using model BoTorch.\n",
      "[INFO 04-04 20:20:58] ax.service.ax_client: Completed trial 657 with data: {'Viable_Cross_Terms': (27, None)}.\n",
      "[INFO 04-04 20:22:14] ax.service.ax_client: Generated new trial 658 with parameters {'z_s': 3, 'z_s_1': 7, 'z_s_2': 4, 'z_p2': 30, 'z_p2_1': 27, 'z_p2_2': 26, 'z_r2': 75, 'z_r2_1': 85, 'z_r2_2': 79, 'x_s': 0.5, 'x_s_1': 0.4, 'x_s_2': 0.3, 'x_p1': -0.037433, 'x_p1_1': -0.137433, 'x_p1_2': -0.237433, 'x_p2': -0.3, 'x_p2_1': -0.4, 'x_p2_2': -0.5, 'x_r2': -1.3, 'x_r2_1': -1.4, 'x_r2_2': -1.5} using model BoTorch.\n",
      "[INFO 04-04 20:22:14] ax.service.ax_client: Completed trial 658 with data: {'Viable_Cross_Terms': (27, None)}.\n",
      "[INFO 04-04 20:23:27] ax.service.ax_client: Generated new trial 659 with parameters {'z_s': 6, 'z_s_1': 10, 'z_s_2': 5, 'z_p2': 30, 'z_p2_1': 27, 'z_p2_2': 33, 'z_r2': 80, 'z_r2_1': 74, 'z_r2_2': 81, 'x_s': 0.5, 'x_s_1': 0.4, 'x_s_2': 0.3, 'x_p1': 0.62292, 'x_p1_1': 0.52292, 'x_p1_2': 0.42292, 'x_p2': 0.5, 'x_p2_1': 0.4, 'x_p2_2': 0.3, 'x_r2': 0.833952, 'x_r2_1': 0.733952, 'x_r2_2': 0.633952} using model BoTorch.\n",
      "[INFO 04-04 20:23:27] ax.service.ax_client: Completed trial 659 with data: {'Viable_Cross_Terms': (42, None)}.\n",
      "[INFO 04-04 20:24:37] ax.service.ax_client: Generated new trial 660 with parameters {'z_s': 5, 'z_s_1': 9, 'z_s_2': 4, 'z_p2': 30, 'z_p2_1': 32, 'z_p2_2': 29, 'z_r2': 80, 'z_r2_1': 81, 'z_r2_2': 81, 'x_s': 0.5, 'x_s_1': 0.4, 'x_s_2': 0.3, 'x_p1': 0.720057, 'x_p1_1': 0.620057, 'x_p1_2': 0.520057, 'x_p2': 0.5, 'x_p2_1': 0.4, 'x_p2_2': 0.3, 'x_r2': 1.5, 'x_r2_1': 1.4, 'x_r2_2': 1.3} using model BoTorch.\n",
      "[INFO 04-04 20:24:37] ax.service.ax_client: Completed trial 660 with data: {'Viable_Cross_Terms': (21, None)}.\n",
      "[INFO 04-04 20:25:44] ax.service.ax_client: Generated new trial 661 with parameters {'z_s': 9, 'z_s_1': 10, 'z_s_2': 5, 'z_p2': 29, 'z_p2_1': 28, 'z_p2_2': 30, 'z_r2': 80, 'z_r2_1': 79, 'z_r2_2': 74, 'x_s': 0.5, 'x_s_1': 0.4, 'x_s_2': 0.3, 'x_p1': 1.0, 'x_p1_1': 0.9, 'x_p1_2': 0.8, 'x_p2': 0.5, 'x_p2_1': 0.4, 'x_p2_2': 0.3, 'x_r2': 0.93315, 'x_r2_1': 0.83315, 'x_r2_2': 0.73315} using model BoTorch.\n",
      "[INFO 04-04 20:25:44] ax.service.ax_client: Completed trial 661 with data: {'Viable_Cross_Terms': (19, None)}.\n",
      "[INFO 04-04 20:26:54] ax.service.ax_client: Generated new trial 662 with parameters {'z_s': 4, 'z_s_1': 2, 'z_s_2': 5, 'z_p2': 31, 'z_p2_1': 30, 'z_p2_2': 31, 'z_r2': 80, 'z_r2_1': 76, 'z_r2_2': 72, 'x_s': 0.5, 'x_s_1': 0.4, 'x_s_2': 0.3, 'x_p1': 0.704443, 'x_p1_1': 0.604443, 'x_p1_2': 0.504443, 'x_p2': 0.5, 'x_p2_1': 0.4, 'x_p2_2': 0.3, 'x_r2': 1.012192, 'x_r2_1': 0.912192, 'x_r2_2': 0.812192} using model BoTorch.\n",
      "[INFO 04-04 20:26:54] ax.service.ax_client: Completed trial 662 with data: {'Viable_Cross_Terms': (73, None)}.\n"
     ]
    }
   ],
   "source": [
    "for i in range(100):\n",
    "    parameterization, trial_index = Tag_client.get_next_trial()\n",
    "    # Local evaluation here can be replaced with deployment to external system.\n",
    "    Tag_client.complete_trial(trial_index=trial_index, raw_data=score_vals(param_to_list(parameterization)))"
   ]
  },
  {
   "cell_type": "code",
   "execution_count": null,
   "metadata": {},
   "outputs": [
    {
     "name": "stderr",
     "output_type": "stream",
     "text": [
      "[INFO 04-05 13:17:47] ax.service.ax_client: Generated new trial 937 with parameters {'z_s': 4, 'z_s_1': 7, 'z_s_2': 5, 'z_p2': 31, 'z_p2_1': 27, 'z_p2_2': 32, 'z_r2': 80, 'z_r2_1': 84, 'z_r2_2': 74, 'x_s': 0.5, 'x_s_1': 0.4, 'x_s_2': 0.3, 'x_p1': 0.605589, 'x_p1_1': 0.505589, 'x_p1_2': 0.405589, 'x_p2': 0.5, 'x_p2_1': 0.4, 'x_p2_2': 0.3, 'x_r2': 1.052275, 'x_r2_1': 0.952275, 'x_r2_2': 0.852275} using model BoTorch.\n",
      "[INFO 04-05 13:17:47] ax.service.ax_client: Completed trial 937 with data: {'Viable_Cross_Terms': (89, None)}.\n"
     ]
    }
   ],
   "source": [
    "for i in range(300):\n",
    "    parameterization, trial_index = Tag_client.get_next_trial()\n",
    "    # Local evaluation here can be replaced with deployment to external system.\n",
    "    Tag_client.complete_trial(trial_index=trial_index, raw_data=score_vals(param_to_list(parameterization)))"
   ]
  },
  {
   "cell_type": "code",
   "execution_count": 121,
   "metadata": {},
   "outputs": [],
   "source": [
    "best_so_far =  {'z_s': 8, 'z_s_1': 2, 'z_s_2': 5, 'z_p2': 29, 'z_p2_1': 27, 'z_p2_2': 31, 'z_r2': 80, 'z_r2_1': 72, 'z_r2_2': 71, 'x_s': 0.5, 'x_s_1': 0.4, 'x_s_2': 0.3, 'x_p1': 0.635967, 'x_p1_1': 0.535967, 'x_p1_2': 0.435967, 'x_p2': 0.5, 'x_p2_1': 0.4, 'x_p2_2': 0.3, 'x_r2': 1.072711, 'x_r2_1': 0.972711, 'x_r2_2': 0.872711}"
   ]
  },
  {
   "cell_type": "code",
   "execution_count": 126,
   "metadata": {},
   "outputs": [],
   "source": [
    "b_guess = {'z_s': 8, 'z_s_1': 2, 'z_s_2': 5, 'z_p2': 29, 'z_p2_1': 27, 'z_p2_2': 31, 'z_r2': 80, 'z_r2_1': 72, 'z_r2_2': 71, 'x_s': 0.5, 'x_s_1': 0.4, 'x_s_2': 0.3, 'x_p1': 0.636, 'x_p1_1': 0.536, 'x_p1_2': 0.436, 'x_p2': 0.5, 'x_p2_1': 0.4, 'x_p2_2': 0.3, 'x_r2': 1.073, 'x_r2_1': 0.973, 'x_r2_2': 0.873}"
   ]
  },
  {
   "cell_type": "code",
   "execution_count": 171,
   "metadata": {},
   "outputs": [],
   "source": [
    "new_guess = list_to_param((np.array((6, 8, 10))/2,\n",
    " (27, 30, 31),\n",
    " (77, 78, 80),\n",
    " (0.3, 0.4, 0.5)[::-1],\n",
    " (0.6, 0.7, 0.8)[::-1],\n",
    " (0.2, 0.3, 0.4)[::-1],\n",
    " (0.8, 0.9, 1)[::-1]))"
   ]
  },
  {
   "cell_type": "code",
   "execution_count": 172,
   "metadata": {},
   "outputs": [
    {
     "data": {
      "text/plain": [
       "[array([ 6,  8, 10]),\n",
       " array([27, 30, 31]),\n",
       " array([77, 78, 80]),\n",
       " array([0.5, 0.4, 0.3]),\n",
       " array([0.8, 0.7, 0.6]),\n",
       " array([0.4, 0.3, 0.2]),\n",
       " array([1. , 0.9, 0.8])]"
      ]
     },
     "execution_count": 172,
     "metadata": {},
     "output_type": "execute_result"
    }
   ],
   "source": [
    "param_to_list(new_guess)"
   ]
  },
  {
   "cell_type": "code",
   "execution_count": 173,
   "metadata": {},
   "outputs": [
    {
     "name": "stderr",
     "output_type": "stream",
     "text": [
      "[INFO 04-05 13:14:26] ax.core.experiment: Attached custom parameterizations [{'z_s': 3, 'z_s_1': 4, 'z_s_2': 5, 'z_p2': 27, 'z_p2_1': 30, 'z_p2_2': 31, 'z_r2': 77, 'z_r2_1': 78, 'z_r2_2': 80, 'x_s': 0.5, 'x_s_1': 0.4, 'x_s_2': 0.3, 'x_p1': 0.8, 'x_p1_1': 0.7, 'x_p1_2': 0.6, 'x_p2': 0.4, 'x_p2_1': 0.3, 'x_p2_2': 0.2, 'x_r2': 1.0, 'x_r2_1': 0.9, 'x_r2_2': 0.8}] as trial 936.\n"
     ]
    }
   ],
   "source": [
    "trial_deal = Tag_client.attach_trial(\n",
    "        parameters=new_guess\n",
    "    )\n"
   ]
  },
  {
   "cell_type": "code",
   "execution_count": 174,
   "metadata": {},
   "outputs": [
    {
     "name": "stderr",
     "output_type": "stream",
     "text": [
      "[INFO 04-05 13:14:27] ax.service.ax_client: Completed trial 936 with data: {'Viable_Cross_Terms': (143, None)}.\n"
     ]
    }
   ],
   "source": [
    "Tag_client.complete_trial(trial_index=trial_deal[-1], raw_data=score_vals(param_to_list(new_guess)))"
   ]
  },
  {
   "cell_type": "code",
   "execution_count": 118,
   "metadata": {},
   "outputs": [
    {
     "name": "stdout",
     "output_type": "stream",
     "text": [
      "[16 10  8]\n",
      "[30 31 32]\n",
      "[80 78 74]\n",
      "[0.5 0.4 0.3]\n",
      "[0.538 0.438 0.338]\n",
      "[0.5 0.4 0.3]\n",
      "[0.983 0.883 0.783]\n"
     ]
    }
   ],
   "source": [
    "for val in param_to_list(b_guess):\n",
    "    print(val)"
   ]
  },
  {
   "cell_type": "code",
   "execution_count": null,
   "metadata": {},
   "outputs": [],
   "source": []
  }
 ],
 "metadata": {
  "kernelspec": {
   "display_name": "Python 3",
   "language": "python",
   "name": "python3"
  },
  "language_info": {
   "codemirror_mode": {
    "name": "ipython",
    "version": 3
   },
   "file_extension": ".py",
   "mimetype": "text/x-python",
   "name": "python",
   "nbconvert_exporter": "python",
   "pygments_lexer": "ipython3",
   "version": "3.12.2"
  }
 },
 "nbformat": 4,
 "nbformat_minor": 2
}
