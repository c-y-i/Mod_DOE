{
 "cells": [
  {
   "cell_type": "code",
   "execution_count": 1,
   "id": "ba336492",
   "metadata": {},
   "outputs": [],
   "source": [
    "from ax import Client, RangeParameterConfig"
   ]
  },
  {
   "cell_type": "code",
   "execution_count": 3,
   "id": "3ecc878e",
   "metadata": {},
   "outputs": [],
   "source": [
    "client = Client()\n",
    "client.configure_experiment(\n",
    "      parameters=[\n",
    "          RangeParameterConfig(\n",
    "              name=\"x1\",\n",
    "              bounds=(-10.0, 10.0),\n",
    "              parameter_type=\"float\",\n",
    "          ),\n",
    "          RangeParameterConfig(\n",
    "              name=\"x2\",\n",
    "              bounds=(-10.0, 10.0),\n",
    "              parameter_type=\"float\",\n",
    "          ),\n",
    "      ],\n",
    ")"
   ]
  },
  {
   "cell_type": "code",
   "execution_count": null,
   "id": "b61aa3fa",
   "metadata": {},
   "outputs": [],
   "source": [
    "client.configure_optimization(objective=\"-1 * booth\", )"
   ]
  },
  {
   "cell_type": "code",
   "execution_count": 11,
   "id": "25a1d44c",
   "metadata": {},
   "outputs": [
    {
     "ename": "NameError",
     "evalue": "name 'custom_metric' is not defined",
     "output_type": "error",
     "traceback": [
      "\u001b[1;31m---------------------------------------------------------------------------\u001b[0m",
      "\u001b[1;31mNameError\u001b[0m                                 Traceback (most recent call last)",
      "Cell \u001b[1;32mIn[11], line 2\u001b[0m\n\u001b[0;32m      1\u001b[0m \u001b[38;5;66;03m# client.configure_optimization(objective='custom_metric')\u001b[39;00m\n\u001b[1;32m----> 2\u001b[0m client\u001b[38;5;241m.\u001b[39mconfigure_metrics([\u001b[43mcustom_metric\u001b[49m(name\u001b[38;5;241m=\u001b[39m\u001b[38;5;124m\"\u001b[39m\u001b[38;5;124mgear_ratio\u001b[39m\u001b[38;5;124m\"\u001b[39m)])\n",
      "\u001b[1;31mNameError\u001b[0m: name 'custom_metric' is not defined"
     ]
    }
   ],
   "source": [
    "# client.configure_optimization(objective='custom_metric')\n",
    "client.configure_metrics([custom_metric(name=\"gear_ratio\")])"
   ]
  },
  {
   "cell_type": "code",
   "execution_count": 5,
   "id": "d27282aa",
   "metadata": {},
   "outputs": [],
   "source": [
    "for _ in range(20):\n",
    "    for trial_index, parameters in client.get_next_trials(max_trials=1).items():\n",
    "        client.complete_trial(\n",
    "            trial_index=trial_index,\n",
    "            raw_data={\n",
    "                \"booth\": (parameters[\"x1\"] + 2 * parameters[\"x2\"] - 7) ** 2\n",
    "                + (2 * parameters[\"x1\"] + parameters[\"x2\"] - 5) ** 2\n",
    "            },\n",
    "        )"
   ]
  },
  {
   "cell_type": "code",
   "execution_count": 6,
   "id": "570ad34a",
   "metadata": {},
   "outputs": [
    {
     "data": {
      "text/plain": [
       "({'x1': 0.557805705896179, 'x2': 3.4004351721151016},\n",
       " {'booth': (-2.372573620649007, 9.813606396254388)},\n",
       " 15,\n",
       " '15_0')"
      ]
     },
     "execution_count": 6,
     "metadata": {},
     "output_type": "execute_result"
    }
   ],
   "source": [
    "client.get_best_parameterization()"
   ]
  }
 ],
 "metadata": {
  "kernelspec": {
   "display_name": "Python 3",
   "language": "python",
   "name": "python3"
  },
  "language_info": {
   "codemirror_mode": {
    "name": "ipython",
    "version": 3
   },
   "file_extension": ".py",
   "mimetype": "text/x-python",
   "name": "python",
   "nbconvert_exporter": "python",
   "pygments_lexer": "ipython3",
   "version": "3.11.6"
  }
 },
 "nbformat": 4,
 "nbformat_minor": 5
}
