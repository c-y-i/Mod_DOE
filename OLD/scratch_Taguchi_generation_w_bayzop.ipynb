{
 "cells": [
  {
   "cell_type": "markdown",
   "metadata": {},
   "source": [
    "## Setup"
   ]
  },
  {
   "cell_type": "code",
   "execution_count": null,
   "metadata": {},
   "outputs": [],
   "source": []
  },
  {
   "cell_type": "code",
   "execution_count": 183,
   "metadata": {},
   "outputs": [],
   "source": [
    "import numpy as np\n",
    "import matplotlib.pyplot as plt\n",
    "from matplotlib.patches import Polygon\n",
    "from matplotlib.transforms import Affine2D\n",
    "import time\n",
    "from matplotlib.offsetbox import AnchoredText \n",
    "import mplcursors \n",
    "import os\n",
    "import json\n",
    "\n",
    "import itertools\n",
    "import math\n",
    "\n",
    "from tqdm import tqdm\n",
    "\n",
    "import pyDOE\n",
    "import sys\n",
    "\n",
    "from ax.service.ax_client import AxClient, ObjectiveProperties\n",
    "from ax.utils.measurement.synthetic_functions import hartmann6\n",
    "from ax.utils.notebook.plotting import init_notebook_plotting, render\n",
    "import plotly.io as pio\n",
    "\n",
    "from ax.plot.trace import optimization_trace_single_method\n",
    "\n",
    "import pickle\n",
    "from matplotlib.pyplot import cm\n",
    "import scienceplots\n",
    "\n",
    "from utils import score_vals, param_to_list\n",
    "\n",
    "# Mute warnings:\n",
    "import warnings\n",
    "warnings.filterwarnings('ignore')"
   ]
  },
  {
   "cell_type": "code",
   "execution_count": 184,
   "metadata": {},
   "outputs": [],
   "source": [
    "os.environ[\"CUDA_DEVICE_ORDER\"] = \"PCI_BUS_ID\"\n",
    "os.environ[\"CUDA_VISIBLE_DEVICES\"] = \"4\" # select number of desired GPU to be used\n",
    "os.environ[\"XLA_PYTHON_CLIENT_PREALLOCATE\"] = \"false\""
   ]
  },
  {
   "cell_type": "code",
   "execution_count": 185,
   "metadata": {},
   "outputs": [],
   "source": [
    "config = {\n",
    "  \"MODULE\": 0.8e-3,\n",
    "  \"MC\": 0.8467e-3,\n",
    "  \"MU\": 0.21,\n",
    "  \"ALPHA\": 20,\n",
    "  \"N_PLANETS\": 3,\n",
    "  \"MIN_RATIO_THRESHOLD\": 90,\n",
    "  \"MIN_FORWARD_THRESHOLD\": 0.30,\n",
    "  \"MIN_BACKWARD_THRESHOLD\": 0.30\n",
    "}\n"
   ]
  },
  {
   "cell_type": "code",
   "execution_count": 186,
   "metadata": {},
   "outputs": [],
   "source": [
    "MODULE = config[\"MODULE\"]\n",
    "MU = config[\"MU\"]\n",
    "MC = config.get(\"MC\", MODULE)\n",
    "ALPHA = np.radians(config.get(\"ALPHA\", 20))\n",
    "XR1 = config.get(\"XR1\", 0.0)\n",
    "N_PLANETS = config[\"N_PLANETS\"]\n",
    "TARGET_GEAR_RATIO = 100\n",
    "RATIO_TOLERANCE = 10"
   ]
  },
  {
   "cell_type": "markdown",
   "metadata": {},
   "source": [
    "## Start up client"
   ]
  },
  {
   "cell_type": "code",
   "execution_count": 187,
   "metadata": {},
   "outputs": [
    {
     "name": "stderr",
     "output_type": "stream",
     "text": [
      "[INFO 04-05 14:01:35] ax.service.ax_client: Starting optimization with verbose logging. To disable logging, set the `verbose_logging` argument to `False`. Note that float values in the logs are rounded to 6 decimal points.\n"
     ]
    }
   ],
   "source": [
    "Tag_client = AxClient()"
   ]
  },
  {
   "cell_type": "code",
   "execution_count": 188,
   "metadata": {},
   "outputs": [
    {
     "name": "stderr",
     "output_type": "stream",
     "text": [
      "[INFO 04-05 14:01:35] ax.service.utils.instantiation: Created search space: SearchSpace(parameters=[RangeParameter(name='z_sh', parameter_type=INT, range=[7, 15]), RangeParameter(name='z_sh_1', parameter_type=INT, range=[6, 14]), RangeParameter(name='z_sh_2', parameter_type=INT, range=[5, 13]), RangeParameter(name='z_p2', parameter_type=INT, range=[27, 35]), RangeParameter(name='z_p2_1', parameter_type=INT, range=[26, 34]), RangeParameter(name='z_p2_2', parameter_type=INT, range=[25, 33]), RangeParameter(name='z_r2', parameter_type=INT, range=[72, 86]), RangeParameter(name='z_r2_1', parameter_type=INT, range=[71, 85]), RangeParameter(name='z_r2_2', parameter_type=INT, range=[70, 84]), RangeParameter(name='x_s', parameter_type=FLOAT, range=[-0.48, 0.5]), RangeParameter(name='x_s_1', parameter_type=FLOAT, range=[-0.49, 0.49]), RangeParameter(name='x_s_2', parameter_type=FLOAT, range=[-0.5, 0.48]), RangeParameter(name='x_p1', parameter_type=FLOAT, range=[-0.98, 1.0]), RangeParameter(name='x_p1_1', parameter_type=FLOAT, range=[-0.99, 0.99]), RangeParameter(name='x_p1_2', parameter_type=FLOAT, range=[-1.0, 0.98]), RangeParameter(name='x_p2', parameter_type=FLOAT, range=[-0.48, 0.5]), RangeParameter(name='x_p2_1', parameter_type=FLOAT, range=[-0.49, 0.49]), RangeParameter(name='x_p2_2', parameter_type=FLOAT, range=[-0.5, 0.48]), RangeParameter(name='x_r2', parameter_type=FLOAT, range=[-1.48, 1.5]), RangeParameter(name='x_r2_1', parameter_type=FLOAT, range=[-1.49, 1.49]), RangeParameter(name='x_r2_2', parameter_type=FLOAT, range=[-1.5, 1.48])], parameter_constraints=[ParameterConstraint(-1.0*x_s + 1.0*x_s_1 <= -0.1), ParameterConstraint(-1.0*x_s_1 + 1.0*x_s_2 <= -0.1), ParameterConstraint(-1.0*x_p1 + 1.0*x_p1_1 <= -0.1), ParameterConstraint(-1.0*x_p1_1 + 1.0*x_p1_2 <= -0.1), ParameterConstraint(-1.0*x_p2 + 1.0*x_p2_1 <= -0.1), ParameterConstraint(-1.0*x_p2_1 + 1.0*x_p2_2 <= -0.1), ParameterConstraint(-1.0*x_r2 + 1.0*x_r2_1 <= -0.1), ParameterConstraint(-1.0*x_r2_1 + 1.0*x_r2_2 <= -0.1)]).\n",
      "[INFO 04-05 14:01:35] ax.modelbridge.dispatch_utils: Using Models.BOTORCH_MODULAR since there is at least one ordered parameter and there are no unordered categorical parameters.\n",
      "[INFO 04-05 14:01:35] ax.modelbridge.dispatch_utils: Calculating the number of remaining initialization trials based on num_initialization_trials=None max_initialization_trials=None num_tunable_parameters=21 num_trials=None use_batch_trials=False\n",
      "[INFO 04-05 14:01:35] ax.modelbridge.dispatch_utils: calculated num_initialization_trials=42\n",
      "[INFO 04-05 14:01:35] ax.modelbridge.dispatch_utils: num_completed_initialization_trials=0 num_remaining_initialization_trials=42\n",
      "[INFO 04-05 14:01:35] ax.modelbridge.dispatch_utils: `verbose`, `disable_progbar`, and `jit_compile` are not yet supported when using `choose_generation_strategy` with ModularBoTorchModel, dropping these arguments.\n",
      "[INFO 04-05 14:01:35] ax.modelbridge.dispatch_utils: Using Bayesian Optimization generation strategy: GenerationStrategy(name='Sobol+BoTorch', steps=[Sobol for 42 trials, BoTorch for subsequent trials]). Iterations after 42 will take longer to generate due to model-fitting.\n"
     ]
    }
   ],
   "source": [
    "# Define bounds for each parameter type\n",
    "int_bounds = {\n",
    "    \"z_sh\": [5, 15], #NOTE - z_sh is actually half z_s (which must be even)\n",
    "    \"z_p2\": [25, 35],\n",
    "    \"z_r2\": [70, 86],\n",
    "}\n",
    "\n",
    "float_bounds = {\n",
    "    \"x_s\": [-0.5, 0.5],\n",
    "    \"x_p1\": [-1.0, 1.0],\n",
    "    \"x_p2\": [-0.5, 0.5],\n",
    "    \"x_r2\": [-1.5, 1.5],\n",
    "}\n",
    "\n",
    "# Number of copies for each parameter\n",
    "num_copies = 3\n",
    "\n",
    "# Generate parameters dynamically\n",
    "parameters = []\n",
    "\n",
    "# Add integer parameters\n",
    "for name, bounds in int_bounds.items():\n",
    "    lower, upper = bounds\n",
    "    for i in range(num_copies):\n",
    "        param_name = f\"{name}\" if i == 0 else f\"{name}_{i}\"\n",
    "        parameters.append({\n",
    "            \"name\": param_name,\n",
    "            \"type\": \"range\",\n",
    "            \"bounds\": [lower + (num_copies-1-i), upper - i],  # adjust bounds to deal with order\n",
    "            \"value_type\": \"int\",\n",
    "        })\n",
    "\n",
    "# Add float parameters\n",
    "for name, bounds in float_bounds.items():\n",
    "    lower, upper = bounds\n",
    "    for i in range(num_copies):\n",
    "        param_name = f\"{name}\" if i == 0 else f\"{name}_{i}\"\n",
    "        parameters.append({\n",
    "            \"name\": param_name,\n",
    "            \"type\": \"range\",\n",
    "            \"bounds\": [lower + (.01*(num_copies-1-i)), upper - .01*i],  # adjust bounds to deal with order\n",
    "            \"value_type\": \"float\",\n",
    "        })\n",
    "\n",
    "# Generate parameter constraints\n",
    "parameter_constraints = []\n",
    "\n",
    "# Ensure integer `z` values satisfy z_s - z_s_1 >= 1\n",
    "for name in int_bounds.keys():\n",
    "    for i in range(num_copies-1):\n",
    "        j = i+1\n",
    "        param_i = f\"{name}\" if i == 0 else f\"{name}_{i}\"\n",
    "        param_j = f\"{name}_{j}\"\n",
    "        # parameter_constraints.append(f\"{param_i} - {param_j} >= 1\")\n",
    "\n",
    "# Ensure float `x` values satisfy x_s - x_s_1 >= 0.1\n",
    "for name in float_bounds.keys():\n",
    "    for i in range(num_copies-1):\n",
    "        j = i+1\n",
    "        param_i = f\"{name}\" if i == 0 else f\"{name}_{i}\"\n",
    "        param_j = f\"{name}_{j}\"\n",
    "        parameter_constraints.append(f\"{param_i} - {param_j} >= 0.1\")\n",
    "\n",
    "# Create the experiment\n",
    "Tag_client.create_experiment(\n",
    "    name=\"gear_experiment\",\n",
    "    parameters=parameters,\n",
    "    objectives={\"Viable_Cross_Terms\": ObjectiveProperties(minimize=False)},\n",
    "    parameter_constraints=parameter_constraints,  # Add constraints here\n",
    "    # outcome_constraints=[\"l2norm <= 1.25\"],  # Optional.\n",
    ")\n",
    "\n",
    "# Print constraints for verification\n",
    "# print(\"Parameter Constraints:\")\n",
    "# for constraint in parameter_constraints:\n",
    "#     print(constraint)"
   ]
  },
  {
   "cell_type": "code",
   "execution_count": 189,
   "metadata": {},
   "outputs": [],
   "source": [
    "# -1.0*z_p2 + 1.0*z_p2_1 <= -1.0\n",
    "# -1.0*x_p2_1 + 1.0*x_p2 <= -0.01"
   ]
  },
  {
   "cell_type": "code",
   "execution_count": 190,
   "metadata": {},
   "outputs": [
    {
     "data": {
      "text/plain": [
       "[{'name': 'z_sh', 'type': 'range', 'bounds': [7, 15], 'value_type': 'int'},\n",
       " {'name': 'z_sh_1', 'type': 'range', 'bounds': [6, 14], 'value_type': 'int'},\n",
       " {'name': 'z_sh_2', 'type': 'range', 'bounds': [5, 13], 'value_type': 'int'},\n",
       " {'name': 'z_p2', 'type': 'range', 'bounds': [27, 35], 'value_type': 'int'},\n",
       " {'name': 'z_p2_1', 'type': 'range', 'bounds': [26, 34], 'value_type': 'int'},\n",
       " {'name': 'z_p2_2', 'type': 'range', 'bounds': [25, 33], 'value_type': 'int'},\n",
       " {'name': 'z_r2', 'type': 'range', 'bounds': [72, 86], 'value_type': 'int'},\n",
       " {'name': 'z_r2_1', 'type': 'range', 'bounds': [71, 85], 'value_type': 'int'},\n",
       " {'name': 'z_r2_2', 'type': 'range', 'bounds': [70, 84], 'value_type': 'int'},\n",
       " {'name': 'x_s',\n",
       "  'type': 'range',\n",
       "  'bounds': [-0.48, 0.5],\n",
       "  'value_type': 'float'},\n",
       " {'name': 'x_s_1',\n",
       "  'type': 'range',\n",
       "  'bounds': [-0.49, 0.49],\n",
       "  'value_type': 'float'},\n",
       " {'name': 'x_s_2',\n",
       "  'type': 'range',\n",
       "  'bounds': [-0.5, 0.48],\n",
       "  'value_type': 'float'},\n",
       " {'name': 'x_p1',\n",
       "  'type': 'range',\n",
       "  'bounds': [-0.98, 1.0],\n",
       "  'value_type': 'float'},\n",
       " {'name': 'x_p1_1',\n",
       "  'type': 'range',\n",
       "  'bounds': [-0.99, 0.99],\n",
       "  'value_type': 'float'},\n",
       " {'name': 'x_p1_2',\n",
       "  'type': 'range',\n",
       "  'bounds': [-1.0, 0.98],\n",
       "  'value_type': 'float'},\n",
       " {'name': 'x_p2',\n",
       "  'type': 'range',\n",
       "  'bounds': [-0.48, 0.5],\n",
       "  'value_type': 'float'},\n",
       " {'name': 'x_p2_1',\n",
       "  'type': 'range',\n",
       "  'bounds': [-0.49, 0.49],\n",
       "  'value_type': 'float'},\n",
       " {'name': 'x_p2_2',\n",
       "  'type': 'range',\n",
       "  'bounds': [-0.5, 0.48],\n",
       "  'value_type': 'float'},\n",
       " {'name': 'x_r2',\n",
       "  'type': 'range',\n",
       "  'bounds': [-1.48, 1.5],\n",
       "  'value_type': 'float'},\n",
       " {'name': 'x_r2_1',\n",
       "  'type': 'range',\n",
       "  'bounds': [-1.49, 1.49],\n",
       "  'value_type': 'float'},\n",
       " {'name': 'x_r2_2',\n",
       "  'type': 'range',\n",
       "  'bounds': [-1.5, 1.48],\n",
       "  'value_type': 'float'}]"
      ]
     },
     "execution_count": 190,
     "metadata": {},
     "output_type": "execute_result"
    }
   ],
   "source": [
    "parameters"
   ]
  },
  {
   "cell_type": "code",
   "execution_count": 191,
   "metadata": {},
   "outputs": [
    {
     "data": {
      "text/plain": [
       "['x_s - x_s_1 >= 0.1',\n",
       " 'x_s_1 - x_s_2 >= 0.1',\n",
       " 'x_p1 - x_p1_1 >= 0.1',\n",
       " 'x_p1_1 - x_p1_2 >= 0.1',\n",
       " 'x_p2 - x_p2_1 >= 0.1',\n",
       " 'x_p2_1 - x_p2_2 >= 0.1',\n",
       " 'x_r2 - x_r2_1 >= 0.1',\n",
       " 'x_r2_1 - x_r2_2 >= 0.1']"
      ]
     },
     "execution_count": 191,
     "metadata": {},
     "output_type": "execute_result"
    }
   ],
   "source": [
    "parameter_constraints"
   ]
  },
  {
   "cell_type": "markdown",
   "metadata": {},
   "source": [
    "### Run tests to solve for best possible score    "
   ]
  },
  {
   "cell_type": "code",
   "execution_count": 192,
   "metadata": {},
   "outputs": [
    {
     "name": "stderr",
     "output_type": "stream",
     "text": [
      "[INFO 04-05 14:01:36] ax.service.ax_client: Generated new trial 0 with parameters {'z_sh': 11, 'z_sh_1': 8, 'z_sh_2': 9, 'z_p2': 28, 'z_p2_1': 31, 'z_p2_2': 27, 'z_r2': 72, 'z_r2_1': 78, 'z_r2_2': 73, 'x_s': 0.146866, 'x_s_1': 0.022605, 'x_s_2': -0.345984, 'x_p1': 0.46261, 'x_p1_1': 0.299151, 'x_p1_2': 0.184591, 'x_p2': 0.130219, 'x_p2_1': 0.021213, 'x_p2_2': -0.159146, 'x_r2': 0.634203, 'x_r2_1': 0.508834, 'x_r2_2': 0.039445} using model Sobol.\n"
     ]
    }
   ],
   "source": [
    "parameterization, trial_index = Tag_client.get_next_trial()"
   ]
  },
  {
   "cell_type": "code",
   "execution_count": 193,
   "metadata": {},
   "outputs": [
    {
     "data": {
      "text/plain": [
       "{'z_sh': 11,\n",
       " 'z_sh_1': 8,\n",
       " 'z_sh_2': 9,\n",
       " 'z_p2': 28,\n",
       " 'z_p2_1': 31,\n",
       " 'z_p2_2': 27,\n",
       " 'z_r2': 72,\n",
       " 'z_r2_1': 78,\n",
       " 'z_r2_2': 73,\n",
       " 'x_s': 0.14686619658023115,\n",
       " 'x_s_1': 0.022604607976973057,\n",
       " 'x_s_2': -0.34598431719467043,\n",
       " 'x_p1': 0.46260969448834666,\n",
       " 'x_p1_1': 0.2991507922299206,\n",
       " 'x_p1_2': 0.18459099877625706,\n",
       " 'x_p2': 0.13021932845935225,\n",
       " 'x_p2_1': 0.021213438212871583,\n",
       " 'x_p2_2': -0.15914566772058608,\n",
       " 'x_r2': 0.6342031878605483,\n",
       " 'x_r2_1': 0.508834335450083,\n",
       " 'x_r2_2': 0.03944477794691914}"
      ]
     },
     "execution_count": 193,
     "metadata": {},
     "output_type": "execute_result"
    }
   ],
   "source": [
    "parameterization"
   ]
  },
  {
   "cell_type": "code",
   "execution_count": 194,
   "metadata": {},
   "outputs": [
    {
     "name": "stdout",
     "output_type": "stream",
     "text": [
      "21\n",
      "z_sh: 11\n",
      "z_sh_1: 8\n",
      "z_sh_2: 9\n",
      "z_p2: 28\n",
      "z_p2_1: 31\n",
      "z_p2_2: 27\n",
      "z_r2: 72\n",
      "z_r2_1: 78\n",
      "z_r2_2: 73\n",
      "x_s: 0.14686619658023115\n",
      "x_s_1: 0.022604607976973057\n",
      "x_s_2: -0.34598431719467043\n",
      "x_p1: 0.46260969448834666\n",
      "x_p1_1: 0.2991507922299206\n",
      "x_p1_2: 0.18459099877625706\n",
      "x_p2: 0.13021932845935225\n",
      "x_p2_1: 0.021213438212871583\n",
      "x_p2_2: -0.15914566772058608\n",
      "x_r2: 0.6342031878605483\n",
      "x_r2_1: 0.508834335450083\n",
      "x_r2_2: 0.03944477794691914\n"
     ]
    }
   ],
   "source": [
    "print(len(parameterization))\n",
    "for name, value in parameterization.items():\n",
    "    print(f\"{name}: {value}\")"
   ]
  },
  {
   "cell_type": "code",
   "execution_count": 195,
   "metadata": {},
   "outputs": [
    {
     "name": "stderr",
     "output_type": "stream",
     "text": [
      "[INFO 04-05 14:01:37] ax.service.ax_client: Completed trial 0 with data: {'Viable_Cross_Terms': (44, None)}.\n"
     ]
    }
   ],
   "source": [
    "Tag_client.complete_trial(trial_index=trial_index, raw_data=score_vals(param_to_list(parameterization)))"
   ]
  },
  {
   "cell_type": "markdown",
   "metadata": {},
   "source": [
    "NOTE - run the following through 'Exhausted' errors."
   ]
  },
  {
   "cell_type": "code",
   "execution_count": 196,
   "metadata": {},
   "outputs": [
    {
     "name": "stderr",
     "output_type": "stream",
     "text": [
      "[INFO 04-05 14:01:37] ax.service.ax_client: Generated new trial 1 with parameters {'z_sh': 9, 'z_sh_1': 8, 'z_sh_2': 8, 'z_p2': 35, 'z_p2_1': 29, 'z_p2_2': 30, 'z_r2': 84, 'z_r2_1': 73, 'z_r2_2': 83, 'x_s': 0.473409, 'x_s_1': 0.146865, 'x_s_2': -0.333072, 'x_p1': 0.059875, 'x_p1_1': -0.626959, 'x_p1_2': -0.802787, 'x_p2': 0.362632, 'x_p2_1': -0.353266, 'x_p2_2': -0.47969, 'x_r2': 0.706916, 'x_r2_1': 0.585254, 'x_r2_2': 0.39068} using model Sobol.\n",
      "[INFO 04-05 14:01:37] ax.service.ax_client: Completed trial 1 with data: {'Viable_Cross_Terms': (6, None)}.\n",
      "[INFO 04-05 14:01:37] ax.service.ax_client: Generated new trial 2 with parameters {'z_sh': 13, 'z_sh_1': 7, 'z_sh_2': 8, 'z_p2': 31, 'z_p2_1': 26, 'z_p2_2': 28, 'z_r2': 83, 'z_r2_1': 82, 'z_r2_2': 82, 'x_s': 0.434944, 'x_s_1': 0.136542, 'x_s_2': -0.256006, 'x_p1': 0.905878, 'x_p1_1': 0.48078, 'x_p1_2': 0.174337, 'x_p2': -0.228658, 'x_p2_1': -0.34613, 'x_p2_2': -0.468943, 'x_r2': 1.08514, 'x_r2_1': -0.418075, 'x_r2_2': -0.652558} using model Sobol.\n",
      "[INFO 04-05 14:01:37] ax.service.ax_client: Completed trial 2 with data: {'Viable_Cross_Terms': (19, None)}.\n",
      "[INFO 04-05 14:01:37] ax.service.ax_client: Generated new trial 3 with parameters {'z_sh': 9, 'z_sh_1': 10, 'z_sh_2': 11, 'z_p2': 35, 'z_p2_1': 29, 'z_p2_2': 29, 'z_r2': 79, 'z_r2_1': 75, 'z_r2_2': 70, 'x_s': 0.459226, 'x_s_1': 0.304534, 'x_s_2': -0.389072, 'x_p1': -0.182826, 'x_p1_1': -0.591906, 'x_p1_2': -0.810255, 'x_p2': 0.115944, 'x_p2_1': -0.116468, 'x_p2_2': -0.361769, 'x_r2': -0.018449, 'x_r2_1': -0.521712, 'x_r2_2': -1.386466} using model Sobol.\n",
      "[INFO 04-05 14:01:37] ax.service.ax_client: Completed trial 3 with data: {'Viable_Cross_Terms': (7, None)}.\n",
      "[INFO 04-05 14:01:38] ax.service.ax_client: Generated new trial 4 with parameters {'z_sh': 14, 'z_sh_1': 8, 'z_sh_2': 6, 'z_p2': 33, 'z_p2_1': 30, 'z_p2_2': 27, 'z_r2': 82, 'z_r2_1': 84, 'z_r2_2': 71, 'x_s': 0.406086, 'x_s_1': 0.157931, 'x_s_2': -0.229338, 'x_p1': -0.509552, 'x_p1_1': -0.655948, 'x_p1_2': -0.987411, 'x_p2': 0.464508, 'x_p2_1': 0.247002, 'x_p2_2': -0.276281, 'x_r2': 0.669387, 'x_r2_1': -0.450133, 'x_r2_2': -1.151766} using model Sobol.\n",
      "[INFO 04-05 14:01:38] ax.service.ax_client: Completed trial 4 with data: {'Viable_Cross_Terms': (7, None)}.\n"
     ]
    },
    {
     "name": "stdout",
     "output_type": "stream",
     "text": [
      "Not this time\n"
     ]
    },
    {
     "name": "stderr",
     "output_type": "stream",
     "text": [
      "[INFO 04-05 14:01:38] ax.service.ax_client: Generated new trial 5 with parameters {'z_sh': 10, 'z_sh_1': 13, 'z_sh_2': 6, 'z_p2': 29, 'z_p2_1': 28, 'z_p2_2': 30, 'z_r2': 74, 'z_r2_1': 71, 'z_r2_2': 78, 'x_s': 0.313177, 'x_s_1': -0.292313, 'x_s_2': -0.408717, 'x_p1': 0.841241, 'x_p1_1': 0.367079, 'x_p1_2': -0.38594, 'x_p2': -0.130749, 'x_p2_1': -0.244622, 'x_p2_2': -0.387418, 'x_r2': 0.465167, 'x_r2_1': -0.257933, 'x_r2_2': -1.118104} using model Sobol.\n",
      "[INFO 04-05 14:01:38] ax.service.ax_client: Completed trial 5 with data: {'Viable_Cross_Terms': (6, None)}.\n",
      "[INFO 04-05 14:01:39] ax.service.ax_client: Generated new trial 6 with parameters {'z_sh': 15, 'z_sh_1': 6, 'z_sh_2': 7, 'z_p2': 35, 'z_p2_1': 32, 'z_p2_2': 26, 'z_r2': 81, 'z_r2_1': 71, 'z_r2_2': 71, 'x_s': -0.013671, 'x_s_1': -0.208103, 'x_s_2': -0.413562, 'x_p1': 0.801001, 'x_p1_1': 0.045858, 'x_p1_2': -0.14503, 'x_p2': 0.270496, 'x_p2_1': 0.081235, 'x_p2_2': -0.339978, 'x_r2': 0.76815, 'x_r2_1': -0.722166, 'x_r2_2': -1.08493} using model Sobol.\n",
      "[INFO 04-05 14:01:39] ax.service.ax_client: Completed trial 6 with data: {'Viable_Cross_Terms': (2, None)}.\n",
      "[INFO 04-05 14:01:39] ax.service.ax_client: Generated new trial 7 with parameters {'z_sh': 15, 'z_sh_1': 12, 'z_sh_2': 10, 'z_p2': 32, 'z_p2_1': 29, 'z_p2_2': 28, 'z_r2': 79, 'z_r2_1': 71, 'z_r2_2': 73, 'x_s': 0.35651, 'x_s_1': -0.108309, 'x_s_2': -0.426222, 'x_p1': 0.705384, 'x_p1_1': -0.313252, 'x_p1_2': -0.761197, 'x_p2': 0.188017, 'x_p2_1': 0.003007, 'x_p2_2': -0.451618, 'x_r2': 0.956071, 'x_r2_1': 0.642339, 'x_r2_2': -0.03776} using model Sobol.\n",
      "[INFO 04-05 14:01:39] ax.service.ax_client: Completed trial 7 with data: {'Viable_Cross_Terms': (5, None)}.\n"
     ]
    },
    {
     "name": "stdout",
     "output_type": "stream",
     "text": [
      "Not this time\n"
     ]
    },
    {
     "name": "stderr",
     "output_type": "stream",
     "text": [
      "[INFO 04-05 14:01:39] ax.service.ax_client: Generated new trial 8 with parameters {'z_sh': 8, 'z_sh_1': 14, 'z_sh_2': 11, 'z_p2': 34, 'z_p2_1': 26, 'z_p2_2': 26, 'z_r2': 82, 'z_r2_1': 76, 'z_r2_2': 74, 'x_s': 0.177872, 'x_s_1': -0.270975, 'x_s_2': -0.483269, 'x_p1': 0.852186, 'x_p1_1': -0.293567, 'x_p1_2': -0.454459, 'x_p2': 0.269719, 'x_p2_1': -0.106271, 'x_p2_2': -0.38444, 'x_r2': -0.201003, 'x_r2_1': -0.356646, 'x_r2_2': -0.872733} using model Sobol.\n",
      "[INFO 04-05 14:01:39] ax.service.ax_client: Completed trial 8 with data: {'Viable_Cross_Terms': (10, None)}.\n",
      "[INFO 04-05 14:01:39] ax.service.ax_client: Generated new trial 9 with parameters {'z_sh': 15, 'z_sh_1': 6, 'z_sh_2': 8, 'z_p2': 32, 'z_p2_1': 31, 'z_p2_2': 31, 'z_r2': 74, 'z_r2_1': 77, 'z_r2_2': 82, 'x_s': 0.46308, 'x_s_1': -0.238717, 'x_s_2': -0.363978, 'x_p1': 0.958699, 'x_p1_1': -0.339457, 'x_p1_2': -0.509026, 'x_p2': 0.312373, 'x_p2_1': 0.092771, 'x_p2_2': -0.068002, 'x_r2': 0.397139, 'x_r2_1': 0.244184, 'x_r2_2': -0.99395} using model Sobol.\n",
      "[INFO 04-05 14:01:39] ax.service.ax_client: Completed trial 9 with data: {'Viable_Cross_Terms': (10, None)}.\n",
      "[INFO 04-05 14:01:40] ax.service.ax_client: Generated new trial 10 with parameters {'z_sh': 15, 'z_sh_1': 13, 'z_sh_2': 7, 'z_p2': 29, 'z_p2_1': 27, 'z_p2_2': 29, 'z_r2': 81, 'z_r2_1': 79, 'z_r2_2': 77, 'x_s': 0.14304, 'x_s_1': -0.031239, 'x_s_2': -0.417919, 'x_p1': 0.915044, 'x_p1_1': 0.288796, 'x_p1_2': -0.081708, 'x_p2': 0.228863, 'x_p2_1': 0.072051, 'x_p2_2': -0.288109, 'x_r2': 0.99388, 'x_r2_1': 0.002865, 'x_r2_2': -0.793948} using model Sobol.\n",
      "[INFO 04-05 14:01:40] ax.service.ax_client: Completed trial 10 with data: {'Viable_Cross_Terms': (13, None)}.\n",
      "[INFO 04-05 14:01:40] ax.service.ax_client: Generated new trial 11 with parameters {'z_sh': 9, 'z_sh_1': 10, 'z_sh_2': 13, 'z_p2': 32, 'z_p2_1': 34, 'z_p2_2': 32, 'z_r2': 83, 'z_r2_1': 74, 'z_r2_2': 74, 'x_s': 0.231263, 'x_s_1': -0.104013, 'x_s_2': -0.381666, 'x_p1': 0.886881, 'x_p1_1': 0.669909, 'x_p1_2': -0.835077, 'x_p2': 0.214535, 'x_p2_1': -0.067062, 'x_p2_2': -0.382983, 'x_r2': 0.02253, 'x_r2_1': -0.102037, 'x_r2_2': -0.6781} using model Sobol.\n",
      "[INFO 04-05 14:01:40] ax.service.ax_client: Completed trial 11 with data: {'Viable_Cross_Terms': (4, None)}.\n",
      "[INFO 04-05 14:01:40] ax.service.ax_client: Generated new trial 12 with parameters {'z_sh': 11, 'z_sh_1': 12, 'z_sh_2': 9, 'z_p2': 27, 'z_p2_1': 33, 'z_p2_2': 33, 'z_r2': 76, 'z_r2_1': 84, 'z_r2_2': 70, 'x_s': 0.07025, 'x_s_1': -0.098616, 'x_s_2': -0.292032, 'x_p1': 0.494358, 'x_p1_1': -0.594764, 'x_p1_2': -0.837271, 'x_p2': 0.229366, 'x_p2_1': -0.019982, 'x_p2_2': -0.299438, 'x_r2': 0.1087, 'x_r2_1': -0.075972, 'x_r2_2': -1.328913} using model Sobol.\n",
      "[INFO 04-05 14:01:40] ax.service.ax_client: Completed trial 12 with data: {'Viable_Cross_Terms': (5, None)}.\n"
     ]
    },
    {
     "name": "stdout",
     "output_type": "stream",
     "text": [
      "Not this time\n"
     ]
    },
    {
     "name": "stderr",
     "output_type": "stream",
     "text": [
      "[INFO 04-05 14:01:40] ax.service.ax_client: Generated new trial 13 with parameters {'z_sh': 12, 'z_sh_1': 9, 'z_sh_2': 5, 'z_p2': 31, 'z_p2_1': 31, 'z_p2_2': 31, 'z_r2': 78, 'z_r2_1': 85, 'z_r2_2': 81, 'x_s': 0.131919, 'x_s_1': -0.220418, 'x_s_2': -0.456933, 'x_p1': 0.725888, 'x_p1_1': -0.407225, 'x_p1_2': -0.779366, 'x_p2': 0.482312, 'x_p2_1': 0.313712, 'x_p2_2': -0.225794, 'x_r2': 1.080348, 'x_r2_1': 0.682485, 'x_r2_2': 0.217006} using model Sobol.\n",
      "[INFO 04-05 14:01:40] ax.service.ax_client: Completed trial 13 with data: {'Viable_Cross_Terms': (30, None)}.\n",
      "[INFO 04-05 14:01:41] ax.service.ax_client: Generated new trial 14 with parameters {'z_sh': 14, 'z_sh_1': 13, 'z_sh_2': 10, 'z_p2': 28, 'z_p2_1': 29, 'z_p2_2': 28, 'z_r2': 72, 'z_r2_1': 80, 'z_r2_2': 71, 'x_s': 0.49398, 'x_s_1': 0.351934, 'x_s_2': -0.230768, 'x_p1': 0.826044, 'x_p1_1': -0.098366, 'x_p1_2': -0.704684, 'x_p2': 0.332841, 'x_p2_1': -0.091768, 'x_p2_2': -0.428776, 'x_r2': 1.33829, 'x_r2_1': -0.014875, 'x_r2_2': -0.923893} using model Sobol.\n",
      "[INFO 04-05 14:01:41] ax.service.ax_client: Completed trial 14 with data: {'Viable_Cross_Terms': (1, None)}.\n"
     ]
    },
    {
     "name": "stdout",
     "output_type": "stream",
     "text": [
      "Not this time\n",
      "Not this time\n",
      "Not this time\n"
     ]
    },
    {
     "name": "stderr",
     "output_type": "stream",
     "text": [
      "[INFO 04-05 14:01:42] ax.service.ax_client: Generated new trial 15 with parameters {'z_sh': 12, 'z_sh_1': 12, 'z_sh_2': 8, 'z_p2': 28, 'z_p2_1': 33, 'z_p2_2': 28, 'z_r2': 76, 'z_r2_1': 71, 'z_r2_2': 76, 'x_s': 0.301332, 'x_s_1': -0.281282, 'x_s_2': -0.436602, 'x_p1': 0.958842, 'x_p1_1': -0.096999, 'x_p1_2': -0.745577, 'x_p2': 0.130032, 'x_p2_1': -0.260386, 'x_p2_2': -0.465058, 'x_r2': 0.918966, 'x_r2_1': -0.017431, 'x_r2_2': -0.195008} using model Sobol.\n",
      "[INFO 04-05 14:01:42] ax.service.ax_client: Completed trial 15 with data: {'Viable_Cross_Terms': (8, None)}.\n"
     ]
    },
    {
     "name": "stdout",
     "output_type": "stream",
     "text": [
      "Not this time\n"
     ]
    },
    {
     "name": "stderr",
     "output_type": "stream",
     "text": [
      "[INFO 04-05 14:01:42] ax.service.ax_client: Generated new trial 16 with parameters {'z_sh': 7, 'z_sh_1': 13, 'z_sh_2': 12, 'z_p2': 35, 'z_p2_1': 27, 'z_p2_2': 30, 'z_r2': 80, 'z_r2_1': 72, 'z_r2_2': 84, 'x_s': 0.41985, 'x_s_1': 0.185193, 'x_s_2': -0.296128, 'x_p1': 0.862989, 'x_p1_1': 0.03988, 'x_p1_2': -0.592723, 'x_p2': 0.406343, 'x_p2_1': -0.27638, 'x_p2_2': -0.459819, 'x_r2': 0.941236, 'x_r2_1': 0.303488, 'x_r2_2': -0.272963} using model Sobol.\n",
      "[INFO 04-05 14:01:42] ax.service.ax_client: Completed trial 16 with data: {'Viable_Cross_Terms': (10, None)}.\n",
      "[INFO 04-05 14:01:42] ax.service.ax_client: Generated new trial 17 with parameters {'z_sh': 7, 'z_sh_1': 11, 'z_sh_2': 7, 'z_p2': 31, 'z_p2_1': 29, 'z_p2_2': 26, 'z_r2': 82, 'z_r2_1': 85, 'z_r2_2': 77, 'x_s': 0.297894, 'x_s_1': -0.289545, 'x_s_2': -0.399211, 'x_p1': 0.834385, 'x_p1_1': -0.450583, 'x_p1_2': -0.84683, 'x_p2': 0.018464, 'x_p2_1': -0.248019, 'x_p2_2': -0.419729, 'x_r2': 1.408085, 'x_r2_1': 0.99363, 'x_r2_2': 0.13675} using model Sobol.\n",
      "[INFO 04-05 14:01:42] ax.service.ax_client: Completed trial 17 with data: {'Viable_Cross_Terms': (6, None)}.\n"
     ]
    },
    {
     "name": "stdout",
     "output_type": "stream",
     "text": [
      "Not this time\n"
     ]
    },
    {
     "name": "stderr",
     "output_type": "stream",
     "text": [
      "[INFO 04-05 14:01:43] ax.service.ax_client: Generated new trial 18 with parameters {'z_sh': 8, 'z_sh_1': 12, 'z_sh_2': 8, 'z_p2': 33, 'z_p2_1': 28, 'z_p2_2': 33, 'z_r2': 72, 'z_r2_1': 77, 'z_r2_2': 84, 'x_s': 0.484747, 'x_s_1': 0.217993, 'x_s_2': 0.103792, 'x_p1': 0.216259, 'x_p1_1': -0.724167, 'x_p1_2': -0.853481, 'x_p2': 0.098763, 'x_p2_1': -0.024424, 'x_p2_2': -0.341315, 'x_r2': 0.863887, 'x_r2_1': -0.271846, 'x_r2_2': -1.185752} using model Sobol.\n",
      "[INFO 04-05 14:01:43] ax.service.ax_client: Completed trial 18 with data: {'Viable_Cross_Terms': (3, None)}.\n",
      "[INFO 04-05 14:01:43] ax.service.ax_client: Generated new trial 19 with parameters {'z_sh': 13, 'z_sh_1': 8, 'z_sh_2': 13, 'z_p2': 27, 'z_p2_1': 26, 'z_p2_2': 33, 'z_r2': 79, 'z_r2_1': 73, 'z_r2_2': 77, 'x_s': 0.423653, 'x_s_1': 0.290215, 'x_s_2': -0.051164, 'x_p1': 0.650326, 'x_p1_1': 0.23671, 'x_p1_2': -0.499762, 'x_p2': 0.06741, 'x_p2_1': -0.177039, 'x_p2_2': -0.29045, 'x_r2': 0.459806, 'x_r2_1': -0.490428, 'x_r2_2': -1.363466} using model Sobol.\n",
      "[INFO 04-05 14:01:43] ax.service.ax_client: Completed trial 19 with data: {'Viable_Cross_Terms': (7, None)}.\n",
      "[INFO 04-05 14:01:43] ax.service.ax_client: Generated new trial 20 with parameters {'z_sh': 11, 'z_sh_1': 8, 'z_sh_2': 7, 'z_p2': 27, 'z_p2_1': 30, 'z_p2_2': 25, 'z_r2': 80, 'z_r2_1': 74, 'z_r2_2': 84, 'x_s': 0.30419, 'x_s_1': 0.150142, 'x_s_2': -0.382431, 'x_p1': 0.939625, 'x_p1_1': 0.586195, 'x_p1_2': -0.597745, 'x_p2': 0.165618, 'x_p2_1': -0.164151, 'x_p2_2': -0.472754, 'x_r2': 0.306578, 'x_r2_1': 0.165143, 'x_r2_2': -1.019518} using model Sobol.\n",
      "[INFO 04-05 14:01:43] ax.service.ax_client: Completed trial 20 with data: {'Viable_Cross_Terms': (12, None)}.\n",
      "[INFO 04-05 14:01:44] ax.service.ax_client: Generated new trial 21 with parameters {'z_sh': 11, 'z_sh_1': 8, 'z_sh_2': 6, 'z_p2': 30, 'z_p2_1': 28, 'z_p2_2': 30, 'z_r2': 81, 'z_r2_1': 84, 'z_r2_2': 81, 'x_s': -0.048365, 'x_s_1': -0.196729, 'x_s_2': -0.485308, 'x_p1': 0.088476, 'x_p1_1': -0.263392, 'x_p1_2': -0.747029, 'x_p2': 0.453478, 'x_p2_1': -0.007957, 'x_p2_2': -0.441792, 'x_r2': 1.134364, 'x_r2_1': 0.356572, 'x_r2_2': 0.206404} using model Sobol.\n",
      "[INFO 04-05 14:01:44] ax.service.ax_client: Completed trial 21 with data: {'Viable_Cross_Terms': (6, None)}.\n",
      "[INFO 04-05 14:01:44] ax.service.ax_client: Generated new trial 22 with parameters {'z_sh': 15, 'z_sh_1': 14, 'z_sh_2': 8, 'z_p2': 31, 'z_p2_1': 28, 'z_p2_2': 27, 'z_r2': 85, 'z_r2_1': 82, 'z_r2_2': 73, 'x_s': 0.213841, 'x_s_1': 0.002417, 'x_s_2': -0.456246, 'x_p1': 0.474261, 'x_p1_1': 0.346589, 'x_p1_2': -0.764499, 'x_p2': 0.374026, 'x_p2_1': 0.21394, 'x_p2_2': -0.241072, 'x_r2': 0.571712, 'x_r2_1': -0.329717, 'x_r2_2': -1.353892} using model Sobol.\n"
     ]
    },
    {
     "name": "stdout",
     "output_type": "stream",
     "text": [
      "Not this time\n"
     ]
    },
    {
     "name": "stderr",
     "output_type": "stream",
     "text": [
      "[INFO 04-05 14:01:44] ax.service.ax_client: Completed trial 22 with data: {'Viable_Cross_Terms': (17, None)}.\n",
      "[INFO 04-05 14:01:44] ax.service.ax_client: Generated new trial 23 with parameters {'z_sh': 10, 'z_sh_1': 9, 'z_sh_2': 8, 'z_p2': 30, 'z_p2_1': 32, 'z_p2_2': 26, 'z_r2': 83, 'z_r2_1': 84, 'z_r2_2': 84, 'x_s': 0.347961, 'x_s_1': 0.000584, 'x_s_2': -0.402979, 'x_p1': 0.821449, 'x_p1_1': 0.525764, 'x_p1_2': -0.189116, 'x_p2': 0.432089, 'x_p2_1': 0.204057, 'x_p2_2': -0.091353, 'x_r2': 1.403234, 'x_r2_1': 1.01502, 'x_r2_2': -0.077454} using model Sobol.\n",
      "[INFO 04-05 14:01:44] ax.service.ax_client: Completed trial 23 with data: {'Viable_Cross_Terms': (9, None)}.\n",
      "[INFO 04-05 14:01:44] ax.service.ax_client: Generated new trial 24 with parameters {'z_sh': 9, 'z_sh_1': 6, 'z_sh_2': 11, 'z_p2': 35, 'z_p2_1': 31, 'z_p2_2': 32, 'z_r2': 72, 'z_r2_1': 75, 'z_r2_2': 75, 'x_s': 0.251158, 'x_s_1': 0.107412, 'x_s_2': -0.445852, 'x_p1': 0.703934, 'x_p1_1': 0.388837, 'x_p1_2': -0.049352, 'x_p2': 0.494055, 'x_p2_1': 0.314085, 'x_p2_2': -0.007159, 'x_r2': 1.38921, 'x_r2_1': 0.661929, 'x_r2_2': -0.277726} using model Sobol.\n",
      "[INFO 04-05 14:01:44] ax.service.ax_client: Completed trial 24 with data: {'Viable_Cross_Terms': (3, None)}.\n"
     ]
    },
    {
     "name": "stdout",
     "output_type": "stream",
     "text": [
      "Not this time\n"
     ]
    },
    {
     "name": "stderr",
     "output_type": "stream",
     "text": [
      "[INFO 04-05 14:01:45] ax.service.ax_client: Generated new trial 25 with parameters {'z_sh': 10, 'z_sh_1': 6, 'z_sh_2': 7, 'z_p2': 31, 'z_p2_1': 30, 'z_p2_2': 28, 'z_r2': 76, 'z_r2_1': 85, 'z_r2_2': 70, 'x_s': 0.006159, 'x_s_1': -0.20104, 'x_s_2': -0.391618, 'x_p1': 0.926484, 'x_p1_1': 0.395619, 'x_p1_2': -0.275801, 'x_p2': 0.352149, 'x_p2_1': 0.068746, 'x_p2_2': -0.300542, 'x_r2': 1.397338, 'x_r2_1': 1.235968, 'x_r2_2': 1.097688} using model Sobol.\n",
      "[INFO 04-05 14:01:45] ax.service.ax_client: Completed trial 25 with data: {'Viable_Cross_Terms': (9, None)}.\n"
     ]
    },
    {
     "name": "stdout",
     "output_type": "stream",
     "text": [
      "Not this time\n",
      "Not this time\n"
     ]
    },
    {
     "name": "stderr",
     "output_type": "stream",
     "text": [
      "[INFO 04-05 14:01:46] ax.service.ax_client: Generated new trial 26 with parameters {'z_sh': 13, 'z_sh_1': 10, 'z_sh_2': 7, 'z_p2': 34, 'z_p2_1': 26, 'z_p2_2': 32, 'z_r2': 73, 'z_r2_1': 83, 'z_r2_2': 76, 'x_s': 0.279248, 'x_s_1': 0.102008, 'x_s_2': -0.168471, 'x_p1': 0.78091, 'x_p1_1': 0.059641, 'x_p1_2': -0.76863, 'x_p2': 0.485808, 'x_p2_1': -0.043902, 'x_p2_2': -0.409693, 'x_r2': 0.695666, 'x_r2_1': -0.008052, 'x_r2_2': -0.799453} using model Sobol.\n",
      "[INFO 04-05 14:01:46] ax.service.ax_client: Completed trial 26 with data: {'Viable_Cross_Terms': (11, None)}.\n"
     ]
    },
    {
     "name": "stdout",
     "output_type": "stream",
     "text": [
      "Not this time\n"
     ]
    },
    {
     "name": "stderr",
     "output_type": "stream",
     "text": [
      "[INFO 04-05 14:01:46] ax.service.ax_client: Generated new trial 27 with parameters {'z_sh': 10, 'z_sh_1': 8, 'z_sh_2': 9, 'z_p2': 27, 'z_p2_1': 34, 'z_p2_2': 27, 'z_r2': 80, 'z_r2_1': 84, 'z_r2_2': 77, 'x_s': 0.187252, 'x_s_1': 0.083237, 'x_s_2': -0.326712, 'x_p1': 0.838987, 'x_p1_1': 0.193392, 'x_p1_2': -0.576103, 'x_p2': 0.202981, 'x_p2_1': -0.095844, 'x_p2_2': -0.249296, 'x_r2': 0.816538, 'x_r2_1': 0.274881, 'x_r2_2': 0.07681} using model Sobol.\n",
      "[INFO 04-05 14:01:46] ax.service.ax_client: Completed trial 27 with data: {'Viable_Cross_Terms': (6, None)}.\n",
      "[INFO 04-05 14:01:46] ax.service.ax_client: Generated new trial 28 with parameters {'z_sh': 9, 'z_sh_1': 11, 'z_sh_2': 6, 'z_p2': 27, 'z_p2_1': 32, 'z_p2_2': 28, 'z_r2': 76, 'z_r2_1': 76, 'z_r2_2': 71, 'x_s': 0.331249, 'x_s_1': -0.120241, 'x_s_2': -0.332655, 'x_p1': 0.806504, 'x_p1_1': 0.567715, 'x_p1_2': -0.786954, 'x_p2': 0.470976, 'x_p2_1': -0.223348, 'x_p2_2': -0.495031, 'x_r2': 0.94619, 'x_r2_1': -0.24104, 'x_r2_2': -0.785249} using model Sobol.\n",
      "[INFO 04-05 14:01:46] ax.service.ax_client: Completed trial 28 with data: {'Viable_Cross_Terms': (7, None)}.\n",
      "[INFO 04-05 14:01:46] ax.service.ax_client: Generated new trial 29 with parameters {'z_sh': 7, 'z_sh_1': 8, 'z_sh_2': 9, 'z_p2': 30, 'z_p2_1': 31, 'z_p2_2': 33, 'z_r2': 72, 'z_r2_1': 71, 'z_r2_2': 70, 'x_s': 0.498578, 'x_s_1': 0.244312, 'x_s_2': -0.021327, 'x_p1': -0.280275, 'x_p1_1': -0.756019, 'x_p1_2': -0.967315, 'x_p2': 0.390409, 'x_p2_1': -0.047789, 'x_p2_2': -0.438571, 'x_r2': 1.201734, 'x_r2_1': 0.364194, 'x_r2_2': -0.509504} using model Sobol.\n",
      "[INFO 04-05 14:01:46] ax.service.ax_client: Completed trial 29 with data: {'Viable_Cross_Terms': (14, None)}.\n",
      "[INFO 04-05 14:01:47] ax.service.ax_client: Generated new trial 30 with parameters {'z_sh': 11, 'z_sh_1': 8, 'z_sh_2': 11, 'z_p2': 32, 'z_p2_1': 28, 'z_p2_2': 26, 'z_r2': 73, 'z_r2_1': 76, 'z_r2_2': 75, 'x_s': 0.194453, 'x_s_1': 0.034955, 'x_s_2': -0.196754, 'x_p1': 0.405269, 'x_p1_1': 0.211007, 'x_p1_2': -0.933054, 'x_p2': 0.260235, 'x_p2_1': 0.040404, 'x_p2_2': -0.410946, 'x_r2': 0.482865, 'x_r2_1': -0.781955, 'x_r2_2': -0.93345} using model Sobol.\n",
      "[INFO 04-05 14:01:47] ax.service.ax_client: Completed trial 30 with data: {'Viable_Cross_Terms': (5, None)}.\n",
      "[INFO 04-05 14:01:47] ax.service.ax_client: Generated new trial 31 with parameters {'z_sh': 14, 'z_sh_1': 6, 'z_sh_2': 7, 'z_p2': 33, 'z_p2_1': 33, 'z_p2_2': 30, 'z_r2': 79, 'z_r2_1': 82, 'z_r2_2': 73, 'x_s': 0.30462, 'x_s_1': 0.031178, 'x_s_2': -0.158356, 'x_p1': 0.27484, 'x_p1_1': 0.114619, 'x_p1_2': -0.001161, 'x_p2': 0.301538, 'x_p2_1': 0.073589, 'x_p2_2': -0.430269, 'x_r2': 1.456271, 'x_r2_1': 1.219309, 'x_r2_2': 0.7803} using model Sobol.\n",
      "[INFO 04-05 14:01:47] ax.service.ax_client: Completed trial 31 with data: {'Viable_Cross_Terms': (1, None)}.\n"
     ]
    },
    {
     "name": "stdout",
     "output_type": "stream",
     "text": [
      "Not this time\n"
     ]
    },
    {
     "name": "stderr",
     "output_type": "stream",
     "text": [
      "[INFO 04-05 14:01:48] ax.service.ax_client: Generated new trial 32 with parameters {'z_sh': 11, 'z_sh_1': 7, 'z_sh_2': 8, 'z_p2': 34, 'z_p2_1': 30, 'z_p2_2': 33, 'z_r2': 75, 'z_r2_1': 76, 'z_r2_2': 80, 'x_s': 0.344124, 'x_s_1': 0.104864, 'x_s_2': -0.262807, 'x_p1': 0.451653, 'x_p1_1': -0.255266, 'x_p1_2': -0.456026, 'x_p2': 0.361025, 'x_p2_1': -0.074668, 'x_p2_2': -0.453553, 'x_r2': 1.408216, 'x_r2_1': 0.055758, 'x_r2_2': -1.249326} using model Sobol.\n",
      "[INFO 04-05 14:01:48] ax.service.ax_client: Completed trial 32 with data: {'Viable_Cross_Terms': (8, None)}.\n"
     ]
    },
    {
     "name": "stdout",
     "output_type": "stream",
     "text": [
      "Not this time\n"
     ]
    },
    {
     "name": "stderr",
     "output_type": "stream",
     "text": [
      "[INFO 04-05 14:01:48] ax.service.ax_client: Generated new trial 33 with parameters {'z_sh': 13, 'z_sh_1': 13, 'z_sh_2': 12, 'z_p2': 30, 'z_p2_1': 29, 'z_p2_2': 32, 'z_r2': 81, 'z_r2_1': 82, 'z_r2_2': 84, 'x_s': 0.382188, 'x_s_1': 0.097825, 'x_s_2': -0.418427, 'x_p1': 0.929254, 'x_p1_1': 0.460024, 'x_p1_2': -0.458228, 'x_p2': 0.345231, 'x_p2_1': -0.027719, 'x_p2_2': -0.351316, 'x_r2': 1.330685, 'x_r2_1': 0.122909, 'x_r2_2': -0.410081} using model Sobol.\n",
      "[INFO 04-05 14:01:48] ax.service.ax_client: Completed trial 33 with data: {'Viable_Cross_Terms': (8, None)}.\n",
      "[INFO 04-05 14:01:48] ax.service.ax_client: Generated new trial 34 with parameters {'z_sh': 7, 'z_sh_1': 8, 'z_sh_2': 6, 'z_p2': 35, 'z_p2_1': 31, 'z_p2_2': 29, 'z_r2': 86, 'z_r2_1': 72, 'z_r2_2': 72, 'x_s': 0.477835, 'x_s_1': 0.040424, 'x_s_2': -0.381935, 'x_p1': 0.895633, 'x_p1_1': 0.562246, 'x_p1_2': -0.706929, 'x_p2': 0.361528, 'x_p2_1': 0.016917, 'x_p2_2': -0.442107, 'x_r2': 0.439364, 'x_r2_1': -0.028555, 'x_r2_2': -1.038867} using model Sobol.\n",
      "[INFO 04-05 14:01:48] ax.service.ax_client: Completed trial 34 with data: {'Viable_Cross_Terms': (12, None)}.\n",
      "[INFO 04-05 14:01:48] ax.service.ax_client: Generated new trial 35 with parameters {'z_sh': 8, 'z_sh_1': 8, 'z_sh_2': 6, 'z_p2': 30, 'z_p2_1': 26, 'z_p2_2': 30, 'z_r2': 79, 'z_r2_1': 76, 'z_r2_2': 70, 'x_s': 0.327861, 'x_s_1': -0.207365, 'x_s_2': -0.320608, 'x_p1': 0.883763, 'x_p1_1': -0.17316, 'x_p1_2': -0.494323, 'x_p2': 0.400491, 'x_p2_1': 0.175429, 'x_p2_2': -0.466767, 'x_r2': 0.801744, 'x_r2_1': 0.251691, 'x_r2_2': 0.110074} using model Sobol.\n"
     ]
    },
    {
     "name": "stdout",
     "output_type": "stream",
     "text": [
      "Not this time\n"
     ]
    },
    {
     "name": "stderr",
     "output_type": "stream",
     "text": [
      "[INFO 04-05 14:01:48] ax.service.ax_client: Completed trial 35 with data: {'Viable_Cross_Terms': (17, None)}.\n",
      "[INFO 04-05 14:01:49] ax.service.ax_client: Generated new trial 36 with parameters {'z_sh': 10, 'z_sh_1': 10, 'z_sh_2': 12, 'z_p2': 32, 'z_p2_1': 33, 'z_p2_2': 28, 'z_r2': 80, 'z_r2_1': 79, 'z_r2_2': 81, 'x_s': 0.439542, 'x_s_1': -0.14634, 'x_s_2': -0.25562, 'x_p1': 0.166967, 'x_p1_1': -0.317063, 'x_p1_2': -0.840884, 'x_p2': 0.185733, 'x_p2_1': 0.016833, 'x_p2_2': -0.394072, 'x_r2': 0.56703, 'x_r2_1': -1.171011, 'x_r2_2': -1.450618} using model Sobol.\n",
      "[INFO 04-05 14:01:49] ax.service.ax_client: Completed trial 36 with data: {'Viable_Cross_Terms': (1, None)}.\n",
      "[INFO 04-05 14:01:49] ax.service.ax_client: Generated new trial 37 with parameters {'z_sh': 15, 'z_sh_1': 13, 'z_sh_2': 8, 'z_p2': 33, 'z_p2_1': 26, 'z_p2_2': 33, 'z_r2': 85, 'z_r2_1': 83, 'z_r2_2': 75, 'x_s': 0.483988, 'x_s_1': 0.264163, 'x_s_2': 0.109236, 'x_p1': 0.831, 'x_p1_1': 0.711626, 'x_p1_2': 0.06132, 'x_p2': 0.028138, 'x_p2_1': -0.299537, 'x_p2_2': -0.463713, 'x_r2': 0.954816, 'x_r2_1': -0.754625, 'x_r2_2': -1.060919} using model Sobol.\n",
      "[INFO 04-05 14:01:49] ax.service.ax_client: Completed trial 37 with data: {'Viable_Cross_Terms': (6, None)}.\n"
     ]
    },
    {
     "name": "stdout",
     "output_type": "stream",
     "text": [
      "Not this time\n"
     ]
    },
    {
     "name": "stderr",
     "output_type": "stream",
     "text": [
      "[INFO 04-05 14:01:49] ax.service.ax_client: Generated new trial 38 with parameters {'z_sh': 8, 'z_sh_1': 13, 'z_sh_2': 12, 'z_p2': 28, 'z_p2_1': 28, 'z_p2_2': 29, 'z_r2': 73, 'z_r2_1': 80, 'z_r2_2': 72, 'x_s': 0.363721, 'x_s_1': 0.080441, 'x_s_2': -0.108719, 'x_p1': 0.585123, 'x_p1_1': 0.059407, 'x_p1_2': -0.647401, 'x_p2': 0.435935, 'x_p2_1': 0.23374, 'x_p2_2': -0.117475, 'x_r2': 1.400867, 'x_r2_1': 0.549724, 'x_r2_2': -0.335145} using model Sobol.\n",
      "[INFO 04-05 14:01:49] ax.service.ax_client: Completed trial 38 with data: {'Viable_Cross_Terms': (5, None)}.\n",
      "[INFO 04-05 14:01:49] ax.service.ax_client: Generated new trial 39 with parameters {'z_sh': 15, 'z_sh_1': 7, 'z_sh_2': 8, 'z_p2': 33, 'z_p2_1': 26, 'z_p2_2': 27, 'z_r2': 82, 'z_r2_1': 74, 'z_r2_2': 76, 'x_s': 0.416126, 'x_s_1': 0.091548, 'x_s_2': -0.199303, 'x_p1': 0.053389, 'x_p1_1': -0.230734, 'x_p1_2': -0.64572, 'x_p2': 0.390479, 'x_p2_1': 0.159643, 'x_p2_2': -0.22016, 'x_r2': 1.477573, 'x_r2_1': 0.389792, 'x_r2_2': -0.985229} using model Sobol.\n",
      "[INFO 04-05 14:01:49] ax.service.ax_client: Completed trial 39 with data: {'Viable_Cross_Terms': (4, None)}.\n",
      "[INFO 04-05 14:01:49] ax.service.ax_client: Generated new trial 40 with parameters {'z_sh': 11, 'z_sh_1': 6, 'z_sh_2': 7, 'z_p2': 30, 'z_p2_1': 29, 'z_p2_2': 33, 'z_r2': 79, 'z_r2_1': 85, 'z_r2_2': 71, 'x_s': 0.43943, 'x_s_1': -0.205667, 'x_s_2': -0.314174, 'x_p1': -0.060596, 'x_p1_1': -0.36714, 'x_p1_2': -0.612165, 'x_p2': 0.455851, 'x_p2_1': 0.042779, 'x_p2_2': -0.061031, 'x_r2': 0.772096, 'x_r2_1': -0.42801, 'x_r2_2': -1.355889} using model Sobol.\n",
      "[INFO 04-05 14:01:49] ax.service.ax_client: Completed trial 40 with data: {'Viable_Cross_Terms': (4, None)}.\n",
      "[INFO 04-05 14:01:49] ax.service.ax_client: Generated new trial 41 with parameters {'z_sh': 8, 'z_sh_1': 6, 'z_sh_2': 10, 'z_p2': 33, 'z_p2_1': 28, 'z_p2_2': 32, 'z_r2': 75, 'z_r2_1': 85, 'z_r2_2': 74, 'x_s': 0.367111, 'x_s_1': -0.21368, 'x_s_2': -0.389164, 'x_p1': 0.75107, 'x_p1_1': 0.505112, 'x_p1_2': -0.078576, 'x_p2': 0.184269, 'x_p2_1': -0.074883, 'x_p2_2': -0.40588, 'x_r2': 1.350394, 'x_r2_1': 1.142284, 'x_r2_2': -0.869407} using model Sobol.\n",
      "[INFO 04-05 14:01:49] ax.service.ax_client: Completed trial 41 with data: {'Viable_Cross_Terms': (0, None)}.\n",
      "[INFO 04-05 14:02:08] ax.service.ax_client: Generated new trial 42 with parameters {'z_sh': 12, 'z_sh_1': 8, 'z_sh_2': 8, 'z_p2': 27, 'z_p2_1': 31, 'z_p2_2': 27, 'z_r2': 72, 'z_r2_1': 76, 'z_r2_2': 75, 'x_s': 0.136029, 'x_s_1': 0.036029, 'x_s_2': -0.368518, 'x_p1': 0.458837, 'x_p1_1': 0.355609, 'x_p1_2': 0.255609, 'x_p2': 0.149749, 'x_p2_1': 0.049749, 'x_p2_2': -0.123099, 'x_r2': 0.622752, 'x_r2_1': 0.522752, 'x_r2_2': 0.196652} using model BoTorch.\n",
      "[INFO 04-05 14:02:08] ax.service.ax_client: Completed trial 42 with data: {'Viable_Cross_Terms': (34, None)}.\n"
     ]
    }
   ],
   "source": [
    "init_count = 0\n",
    "while init_count < 42:\n",
    "    try:\n",
    "        parameterization, trial_index = Tag_client.get_next_trial()\n",
    "        # Local evaluation here can be replaced with deployment to external system.\n",
    "        Tag_client.complete_trial(trial_index=trial_index, raw_data=score_vals(param_to_list(parameterization)))\n",
    "    except:\n",
    "        print('Not this time')\n",
    "    init_count = trial_index"
   ]
  },
  {
   "cell_type": "code",
   "execution_count": 197,
   "metadata": {},
   "outputs": [
    {
     "name": "stdout",
     "output_type": "stream",
     "text": [
      "The autoreload extension is already loaded. To reload it, use:\n",
      "  %reload_ext autoreload\n"
     ]
    }
   ],
   "source": [
    "import importlib\n",
    "%load_ext autoreload"
   ]
  },
  {
   "cell_type": "code",
   "execution_count": 198,
   "metadata": {},
   "outputs": [],
   "source": [
    "%autoreload 2\n",
    "from utils import list_to_param"
   ]
  },
  {
   "cell_type": "code",
   "execution_count": 199,
   "metadata": {},
   "outputs": [
    {
     "name": "stderr",
     "output_type": "stream",
     "text": [
      "[INFO 04-05 14:02:09] ax.core.experiment: Attached custom parameterizations [{'z_sh': 10, 'z_sh_1': 8, 'z_sh_2': 6, 'z_p2': 32, 'z_p2_1': 31, 'z_p2_2': 30, 'z_r2': 80, 'z_r2_1': 78, 'z_r2_2': 77, 'x_s': 0.5, 'x_s_1': 0.4, 'x_s_2': 0.3, 'x_p1': 0.8, 'x_p1_1': 0.7, 'x_p1_2': 0.6, 'x_p2': 0.4, 'x_p2_1': 0.3, 'x_p2_2': 0.2, 'x_r2': 1.2, 'x_r2_1': 1.0, 'x_r2_2': 0.8}] as trial 43.\n",
      "[INFO 04-05 14:02:09] ax.service.ax_client: Completed trial 43 with data: {'Viable_Cross_Terms': (30, None)}.\n"
     ]
    }
   ],
   "source": [
    "z_sh = np.array([10, 8, 6])\n",
    "z_p1 = np.array([42, 40, 41])\n",
    "z_p2 = np.array([32, 31, 30])\n",
    "z_r2 = np.array([80, 78, 77])\n",
    "x_s = np.array([0.5, 0.4, 0.3])\n",
    "x_p1 = np.array([0.8, 0.7, 0.6])\n",
    "x_p2 = np.array([0.4, 0.3, 0.2])\n",
    "x_r2 = np.array([1.2, 1.0, 0.8])\n",
    "\n",
    "Yi_vals = [z_sh, z_p2, z_r2, x_s, x_p1, x_p2, x_r2] #list of arrays\n",
    "Yi_list = list_to_param(Yi_vals)\n",
    "\n",
    "trial_deal = Tag_client.attach_trial(\n",
    "        parameters=Yi_list\n",
    "    )\n",
    "Tag_client.complete_trial(trial_index=trial_deal[-1], raw_data=score_vals(param_to_list(Yi_list)))"
   ]
  },
  {
   "cell_type": "code",
   "execution_count": 234,
   "metadata": {},
   "outputs": [
    {
     "name": "stderr",
     "output_type": "stream",
     "text": [
      "[INFO 04-05 19:21:28] ax.core.experiment: Attached custom parameterizations [{'z_sh': 7, 'z_sh_1': 6, 'z_sh_2': 5, 'z_p2': 27, 'z_p2_1': 30, 'z_p2_2': 31, 'z_r2': 77, 'z_r2_1': 78, 'z_r2_2': 80, 'x_s': 0.5, 'x_s_1': 0.4, 'x_s_2': 0.3, 'x_p1': 0.8, 'x_p1_1': 0.7, 'x_p1_2': 0.6, 'x_p2': 0.4, 'x_p2_1': 0.3, 'x_p2_2': 0.2, 'x_r2': 1.0, 'x_r2_1': 0.9, 'x_r2_2': 0.8}] as trial 598.\n",
      "[INFO 04-05 19:21:28] ax.service.ax_client: Completed trial 598 with data: {'Viable_Cross_Terms': (79, None)}.\n"
     ]
    }
   ],
   "source": [
    "best_so_far =  {'z_sh': 7, 'z_sh_1': 10, 'z_sh_2': 5, 'z_p2': 30, 'z_p2_1': 32, 'z_p2_2': 28, 'z_r2': 80, 'z_r2_1': 74, 'z_r2_2': 82, 'x_s': 0.5, 'x_s_1': 0.4, 'x_s_2': 0.3, 'x_p1': 1.0, 'x_p1_1': 0.9, 'x_p1_2': 0.8, 'x_p2': -0.3, 'x_p2_1': -0.4, 'x_p2_2': -0.5, 'x_r2': 0.477546, 'x_r2_1': 0.377546, 'x_r2_2': 0.277546}\n",
    "b_guess = list_to_param(\n",
    "    ((5, 7, 8)[::-1],\n",
    " (27, 30, 31)[::-1],\n",
    " (71, 78, 80)[::-1],\n",
    " (0.3, 0.4, 0.5)[::-1],\n",
    " (0.5, 0.6, 0.7)[::-1],\n",
    " (0.2, 0.3, 0.4)[::-1],\n",
    " (0.9, 1, 1.1)[::-1])\n",
    ")\n",
    "c_guess = {'z_sh': 8, 'z_sh_1': 7, 'z_sh_2': 5, 'z_p2': 31, 'z_p2_1': 29, 'z_p2_2': 28, 'z_r2': 80, 'z_r2_1': 78, 'z_r2_2': 71, 'x_s': 0.5, 'x_s_1': 0.4, 'x_s_2': 0.3, 'x_p1': 0.68612, 'x_p1_1': 0.562688, 'x_p1_2': 0.462688, 'x_p2': 0.434784, 'x_p2_1': 0.334784, 'x_p2_2': 0.228267, 'x_r2': 1.059951, 'x_r2_1': 0.959951, 'x_r2_2': 0.859951}\n",
    "new_guess = list_to_param((np.array((14, 12, 10))/2,\n",
    " (27, 30, 31),\n",
    " (77, 78, 80),\n",
    " (0.3, 0.4, 0.5)[::-1],\n",
    " (0.6, 0.7, 0.8)[::-1],\n",
    " (0.2, 0.3, 0.4)[::-1],\n",
    " (0.8, 0.9, 1)[::-1]))\n",
    "\n",
    "trial_deal = Tag_client.attach_trial(\n",
    "        parameters=new_guess\n",
    "    )\n",
    "\n",
    "Tag_client.complete_trial(trial_index=trial_deal[-1], raw_data=score_vals(param_to_list(new_guess)))"
   ]
  },
  {
   "cell_type": "code",
   "execution_count": 235,
   "metadata": {},
   "outputs": [
    {
     "name": "stderr",
     "output_type": "stream",
     "text": [
      "[INFO 04-05 19:21:29] ax.core.experiment: Attached custom parameterizations [{'z_sh': 7, 'z_sh_1': 10, 'z_sh_2': 5, 'z_p2': 30, 'z_p2_1': 32, 'z_p2_2': 28, 'z_r2': 80, 'z_r2_1': 74, 'z_r2_2': 82, 'x_s': 0.5, 'x_s_1': 0.4, 'x_s_2': 0.3, 'x_p1': 1.0, 'x_p1_1': 0.9, 'x_p1_2': 0.8, 'x_p2': -0.3, 'x_p2_1': -0.4, 'x_p2_2': -0.5, 'x_r2': 0.477546, 'x_r2_1': 0.377546, 'x_r2_2': 0.277546}] as trial 599.\n",
      "[INFO 04-05 19:21:29] ax.service.ax_client: Completed trial 599 with data: {'Viable_Cross_Terms': (104, None)}.\n",
      "[INFO 04-05 19:21:29] ax.core.experiment: Attached custom parameterizations [{'z_sh': 8, 'z_sh_1': 7, 'z_sh_2': 5, 'z_p2': 31, 'z_p2_1': 30, 'z_p2_2': 27, 'z_r2': 80, 'z_r2_1': 78, 'z_r2_2': 71, 'x_s': 0.5, 'x_s_1': 0.4, 'x_s_2': 0.3, 'x_p1': 0.7, 'x_p1_1': 0.6, 'x_p1_2': 0.5, 'x_p2': 0.4, 'x_p2_1': 0.3, 'x_p2_2': 0.2, 'x_r2': 1.1, 'x_r2_1': 1.0, 'x_r2_2': 0.9}] as trial 600.\n",
      "[INFO 04-05 19:21:29] ax.service.ax_client: Completed trial 600 with data: {'Viable_Cross_Terms': (101, None)}.\n",
      "[INFO 04-05 19:21:29] ax.core.experiment: Attached custom parameterizations [{'z_sh': 8, 'z_sh_1': 7, 'z_sh_2': 5, 'z_p2': 31, 'z_p2_1': 29, 'z_p2_2': 28, 'z_r2': 80, 'z_r2_1': 78, 'z_r2_2': 71, 'x_s': 0.5, 'x_s_1': 0.4, 'x_s_2': 0.3, 'x_p1': 0.68612, 'x_p1_1': 0.562688, 'x_p1_2': 0.462688, 'x_p2': 0.434784, 'x_p2_1': 0.334784, 'x_p2_2': 0.228267, 'x_r2': 1.059951, 'x_r2_1': 0.959951, 'x_r2_2': 0.859951}] as trial 601.\n",
      "[INFO 04-05 19:21:29] ax.service.ax_client: Completed trial 601 with data: {'Viable_Cross_Terms': (109, None)}.\n"
     ]
    }
   ],
   "source": [
    "trial_deal = Tag_client.attach_trial(\n",
    "        parameters=best_so_far\n",
    "    )\n",
    "\n",
    "Tag_client.complete_trial(trial_index=trial_deal[-1], raw_data=score_vals(param_to_list(best_so_far)))\n",
    "\n",
    "trial_deal = Tag_client.attach_trial(\n",
    "        parameters=b_guess\n",
    "    )\n",
    "\n",
    "Tag_client.complete_trial(trial_index=trial_deal[-1], raw_data=score_vals(param_to_list(b_guess)))\n",
    "\n",
    "trial_deal = Tag_client.attach_trial(\n",
    "        parameters=c_guess\n",
    "    )\n",
    "\n",
    "Tag_client.complete_trial(trial_index=trial_deal[-1], raw_data=score_vals(param_to_list(c_guess)))"
   ]
  },
  {
   "cell_type": "code",
   "execution_count": 221,
   "metadata": {},
   "outputs": [
    {
     "data": {
      "text/html": [
       "<div>\n",
       "<style scoped>\n",
       "    .dataframe tbody tr th:only-of-type {\n",
       "        vertical-align: middle;\n",
       "    }\n",
       "\n",
       "    .dataframe tbody tr th {\n",
       "        vertical-align: top;\n",
       "    }\n",
       "\n",
       "    .dataframe thead th {\n",
       "        text-align: right;\n",
       "    }\n",
       "</style>\n",
       "<table border=\"1\" class=\"dataframe\">\n",
       "  <thead>\n",
       "    <tr style=\"text-align: right;\">\n",
       "      <th></th>\n",
       "      <th>trial_index</th>\n",
       "      <th>arm_name</th>\n",
       "      <th>trial_status</th>\n",
       "      <th>generation_method</th>\n",
       "      <th>generation_node</th>\n",
       "      <th>Viable_Cross_Terms</th>\n",
       "      <th>z_sh</th>\n",
       "      <th>z_sh_1</th>\n",
       "      <th>z_sh_2</th>\n",
       "      <th>z_p2</th>\n",
       "      <th>...</th>\n",
       "      <th>x_s_2</th>\n",
       "      <th>x_p1</th>\n",
       "      <th>x_p1_1</th>\n",
       "      <th>x_p1_2</th>\n",
       "      <th>x_p2</th>\n",
       "      <th>x_p2_1</th>\n",
       "      <th>x_p2_2</th>\n",
       "      <th>x_r2</th>\n",
       "      <th>x_r2_1</th>\n",
       "      <th>x_r2_2</th>\n",
       "    </tr>\n",
       "  </thead>\n",
       "  <tbody>\n",
       "    <tr>\n",
       "      <th>0</th>\n",
       "      <td>0</td>\n",
       "      <td>0_0</td>\n",
       "      <td>COMPLETED</td>\n",
       "      <td>Sobol</td>\n",
       "      <td>GenerationStep_0</td>\n",
       "      <td>44.0</td>\n",
       "      <td>11</td>\n",
       "      <td>8</td>\n",
       "      <td>9</td>\n",
       "      <td>28</td>\n",
       "      <td>...</td>\n",
       "      <td>-0.345984</td>\n",
       "      <td>0.462610</td>\n",
       "      <td>0.299151</td>\n",
       "      <td>0.184591</td>\n",
       "      <td>0.130219</td>\n",
       "      <td>0.021213</td>\n",
       "      <td>-0.159146</td>\n",
       "      <td>0.634203</td>\n",
       "      <td>0.508834</td>\n",
       "      <td>0.039445</td>\n",
       "    </tr>\n",
       "    <tr>\n",
       "      <th>1</th>\n",
       "      <td>1</td>\n",
       "      <td>1_0</td>\n",
       "      <td>COMPLETED</td>\n",
       "      <td>Sobol</td>\n",
       "      <td>GenerationStep_0</td>\n",
       "      <td>6.0</td>\n",
       "      <td>9</td>\n",
       "      <td>8</td>\n",
       "      <td>8</td>\n",
       "      <td>35</td>\n",
       "      <td>...</td>\n",
       "      <td>-0.333072</td>\n",
       "      <td>0.059875</td>\n",
       "      <td>-0.626959</td>\n",
       "      <td>-0.802787</td>\n",
       "      <td>0.362632</td>\n",
       "      <td>-0.353266</td>\n",
       "      <td>-0.479690</td>\n",
       "      <td>0.706916</td>\n",
       "      <td>0.585254</td>\n",
       "      <td>0.390680</td>\n",
       "    </tr>\n",
       "    <tr>\n",
       "      <th>2</th>\n",
       "      <td>2</td>\n",
       "      <td>2_0</td>\n",
       "      <td>COMPLETED</td>\n",
       "      <td>Sobol</td>\n",
       "      <td>GenerationStep_0</td>\n",
       "      <td>19.0</td>\n",
       "      <td>13</td>\n",
       "      <td>7</td>\n",
       "      <td>8</td>\n",
       "      <td>31</td>\n",
       "      <td>...</td>\n",
       "      <td>-0.256006</td>\n",
       "      <td>0.905878</td>\n",
       "      <td>0.480780</td>\n",
       "      <td>0.174337</td>\n",
       "      <td>-0.228658</td>\n",
       "      <td>-0.346130</td>\n",
       "      <td>-0.468943</td>\n",
       "      <td>1.085140</td>\n",
       "      <td>-0.418075</td>\n",
       "      <td>-0.652558</td>\n",
       "    </tr>\n",
       "    <tr>\n",
       "      <th>3</th>\n",
       "      <td>3</td>\n",
       "      <td>3_0</td>\n",
       "      <td>COMPLETED</td>\n",
       "      <td>Sobol</td>\n",
       "      <td>GenerationStep_0</td>\n",
       "      <td>7.0</td>\n",
       "      <td>9</td>\n",
       "      <td>10</td>\n",
       "      <td>11</td>\n",
       "      <td>35</td>\n",
       "      <td>...</td>\n",
       "      <td>-0.389072</td>\n",
       "      <td>-0.182826</td>\n",
       "      <td>-0.591906</td>\n",
       "      <td>-0.810255</td>\n",
       "      <td>0.115944</td>\n",
       "      <td>-0.116468</td>\n",
       "      <td>-0.361769</td>\n",
       "      <td>-0.018449</td>\n",
       "      <td>-0.521712</td>\n",
       "      <td>-1.386466</td>\n",
       "    </tr>\n",
       "    <tr>\n",
       "      <th>4</th>\n",
       "      <td>4</td>\n",
       "      <td>4_0</td>\n",
       "      <td>COMPLETED</td>\n",
       "      <td>Sobol</td>\n",
       "      <td>GenerationStep_0</td>\n",
       "      <td>7.0</td>\n",
       "      <td>14</td>\n",
       "      <td>8</td>\n",
       "      <td>6</td>\n",
       "      <td>33</td>\n",
       "      <td>...</td>\n",
       "      <td>-0.229338</td>\n",
       "      <td>-0.509552</td>\n",
       "      <td>-0.655948</td>\n",
       "      <td>-0.987411</td>\n",
       "      <td>0.464508</td>\n",
       "      <td>0.247002</td>\n",
       "      <td>-0.276281</td>\n",
       "      <td>0.669387</td>\n",
       "      <td>-0.450133</td>\n",
       "      <td>-1.151766</td>\n",
       "    </tr>\n",
       "    <tr>\n",
       "      <th>...</th>\n",
       "      <td>...</td>\n",
       "      <td>...</td>\n",
       "      <td>...</td>\n",
       "      <td>...</td>\n",
       "      <td>...</td>\n",
       "      <td>...</td>\n",
       "      <td>...</td>\n",
       "      <td>...</td>\n",
       "      <td>...</td>\n",
       "      <td>...</td>\n",
       "      <td>...</td>\n",
       "      <td>...</td>\n",
       "      <td>...</td>\n",
       "      <td>...</td>\n",
       "      <td>...</td>\n",
       "      <td>...</td>\n",
       "      <td>...</td>\n",
       "      <td>...</td>\n",
       "      <td>...</td>\n",
       "      <td>...</td>\n",
       "      <td>...</td>\n",
       "    </tr>\n",
       "    <tr>\n",
       "      <th>212</th>\n",
       "      <td>212</td>\n",
       "      <td>45_0</td>\n",
       "      <td>COMPLETED</td>\n",
       "      <td>None</td>\n",
       "      <td>None</td>\n",
       "      <td>NaN</td>\n",
       "      <td>8</td>\n",
       "      <td>6</td>\n",
       "      <td>5</td>\n",
       "      <td>29</td>\n",
       "      <td>...</td>\n",
       "      <td>0.300000</td>\n",
       "      <td>0.635967</td>\n",
       "      <td>0.535967</td>\n",
       "      <td>0.435967</td>\n",
       "      <td>0.500000</td>\n",
       "      <td>0.400000</td>\n",
       "      <td>0.300000</td>\n",
       "      <td>1.072711</td>\n",
       "      <td>0.972711</td>\n",
       "      <td>0.872711</td>\n",
       "    </tr>\n",
       "    <tr>\n",
       "      <th>213</th>\n",
       "      <td>213</td>\n",
       "      <td>213_0</td>\n",
       "      <td>COMPLETED</td>\n",
       "      <td>None</td>\n",
       "      <td>None</td>\n",
       "      <td>NaN</td>\n",
       "      <td>8</td>\n",
       "      <td>7</td>\n",
       "      <td>5</td>\n",
       "      <td>31</td>\n",
       "      <td>...</td>\n",
       "      <td>0.300000</td>\n",
       "      <td>0.700000</td>\n",
       "      <td>0.600000</td>\n",
       "      <td>0.500000</td>\n",
       "      <td>0.400000</td>\n",
       "      <td>0.300000</td>\n",
       "      <td>0.200000</td>\n",
       "      <td>1.100000</td>\n",
       "      <td>1.000000</td>\n",
       "      <td>0.900000</td>\n",
       "    </tr>\n",
       "    <tr>\n",
       "      <th>214</th>\n",
       "      <td>214</td>\n",
       "      <td>44_0</td>\n",
       "      <td>COMPLETED</td>\n",
       "      <td>None</td>\n",
       "      <td>None</td>\n",
       "      <td>NaN</td>\n",
       "      <td>7</td>\n",
       "      <td>6</td>\n",
       "      <td>5</td>\n",
       "      <td>27</td>\n",
       "      <td>...</td>\n",
       "      <td>0.300000</td>\n",
       "      <td>0.800000</td>\n",
       "      <td>0.700000</td>\n",
       "      <td>0.600000</td>\n",
       "      <td>0.400000</td>\n",
       "      <td>0.300000</td>\n",
       "      <td>0.200000</td>\n",
       "      <td>1.000000</td>\n",
       "      <td>0.900000</td>\n",
       "      <td>0.800000</td>\n",
       "    </tr>\n",
       "    <tr>\n",
       "      <th>215</th>\n",
       "      <td>215</td>\n",
       "      <td>215_0</td>\n",
       "      <td>COMPLETED</td>\n",
       "      <td>None</td>\n",
       "      <td>None</td>\n",
       "      <td>104.0</td>\n",
       "      <td>7</td>\n",
       "      <td>10</td>\n",
       "      <td>5</td>\n",
       "      <td>30</td>\n",
       "      <td>...</td>\n",
       "      <td>0.300000</td>\n",
       "      <td>1.000000</td>\n",
       "      <td>0.900000</td>\n",
       "      <td>0.800000</td>\n",
       "      <td>-0.300000</td>\n",
       "      <td>-0.400000</td>\n",
       "      <td>-0.500000</td>\n",
       "      <td>0.477546</td>\n",
       "      <td>0.377546</td>\n",
       "      <td>0.277546</td>\n",
       "    </tr>\n",
       "    <tr>\n",
       "      <th>216</th>\n",
       "      <td>216</td>\n",
       "      <td>213_0</td>\n",
       "      <td>COMPLETED</td>\n",
       "      <td>None</td>\n",
       "      <td>None</td>\n",
       "      <td>NaN</td>\n",
       "      <td>8</td>\n",
       "      <td>7</td>\n",
       "      <td>5</td>\n",
       "      <td>31</td>\n",
       "      <td>...</td>\n",
       "      <td>0.300000</td>\n",
       "      <td>0.700000</td>\n",
       "      <td>0.600000</td>\n",
       "      <td>0.500000</td>\n",
       "      <td>0.400000</td>\n",
       "      <td>0.300000</td>\n",
       "      <td>0.200000</td>\n",
       "      <td>1.100000</td>\n",
       "      <td>1.000000</td>\n",
       "      <td>0.900000</td>\n",
       "    </tr>\n",
       "  </tbody>\n",
       "</table>\n",
       "<p>217 rows × 27 columns</p>\n",
       "</div>"
      ],
      "text/plain": [
       "     trial_index arm_name trial_status generation_method   generation_node  \\\n",
       "0              0      0_0    COMPLETED             Sobol  GenerationStep_0   \n",
       "1              1      1_0    COMPLETED             Sobol  GenerationStep_0   \n",
       "2              2      2_0    COMPLETED             Sobol  GenerationStep_0   \n",
       "3              3      3_0    COMPLETED             Sobol  GenerationStep_0   \n",
       "4              4      4_0    COMPLETED             Sobol  GenerationStep_0   \n",
       "..           ...      ...          ...               ...               ...   \n",
       "212          212     45_0    COMPLETED              None              None   \n",
       "213          213    213_0    COMPLETED              None              None   \n",
       "214          214     44_0    COMPLETED              None              None   \n",
       "215          215    215_0    COMPLETED              None              None   \n",
       "216          216    213_0    COMPLETED              None              None   \n",
       "\n",
       "     Viable_Cross_Terms  z_sh  z_sh_1  z_sh_2  z_p2  ...     x_s_2      x_p1  \\\n",
       "0                  44.0    11       8       9    28  ... -0.345984  0.462610   \n",
       "1                   6.0     9       8       8    35  ... -0.333072  0.059875   \n",
       "2                  19.0    13       7       8    31  ... -0.256006  0.905878   \n",
       "3                   7.0     9      10      11    35  ... -0.389072 -0.182826   \n",
       "4                   7.0    14       8       6    33  ... -0.229338 -0.509552   \n",
       "..                  ...   ...     ...     ...   ...  ...       ...       ...   \n",
       "212                 NaN     8       6       5    29  ...  0.300000  0.635967   \n",
       "213                 NaN     8       7       5    31  ...  0.300000  0.700000   \n",
       "214                 NaN     7       6       5    27  ...  0.300000  0.800000   \n",
       "215               104.0     7      10       5    30  ...  0.300000  1.000000   \n",
       "216                 NaN     8       7       5    31  ...  0.300000  0.700000   \n",
       "\n",
       "       x_p1_1    x_p1_2      x_p2    x_p2_1    x_p2_2      x_r2    x_r2_1  \\\n",
       "0    0.299151  0.184591  0.130219  0.021213 -0.159146  0.634203  0.508834   \n",
       "1   -0.626959 -0.802787  0.362632 -0.353266 -0.479690  0.706916  0.585254   \n",
       "2    0.480780  0.174337 -0.228658 -0.346130 -0.468943  1.085140 -0.418075   \n",
       "3   -0.591906 -0.810255  0.115944 -0.116468 -0.361769 -0.018449 -0.521712   \n",
       "4   -0.655948 -0.987411  0.464508  0.247002 -0.276281  0.669387 -0.450133   \n",
       "..        ...       ...       ...       ...       ...       ...       ...   \n",
       "212  0.535967  0.435967  0.500000  0.400000  0.300000  1.072711  0.972711   \n",
       "213  0.600000  0.500000  0.400000  0.300000  0.200000  1.100000  1.000000   \n",
       "214  0.700000  0.600000  0.400000  0.300000  0.200000  1.000000  0.900000   \n",
       "215  0.900000  0.800000 -0.300000 -0.400000 -0.500000  0.477546  0.377546   \n",
       "216  0.600000  0.500000  0.400000  0.300000  0.200000  1.100000  1.000000   \n",
       "\n",
       "       x_r2_2  \n",
       "0    0.039445  \n",
       "1    0.390680  \n",
       "2   -0.652558  \n",
       "3   -1.386466  \n",
       "4   -1.151766  \n",
       "..        ...  \n",
       "212  0.872711  \n",
       "213  0.900000  \n",
       "214  0.800000  \n",
       "215  0.277546  \n",
       "216  0.900000  \n",
       "\n",
       "[217 rows x 27 columns]"
      ]
     },
     "execution_count": 221,
     "metadata": {},
     "output_type": "execute_result"
    }
   ],
   "source": [
    "Tag_client.generation_strategy.trials_as_df"
   ]
  },
  {
   "cell_type": "code",
   "execution_count": 217,
   "metadata": {},
   "outputs": [
    {
     "data": {
      "application/vnd.plotly.v1+json": {
       "config": {
        "linkText": "Export to plot.ly",
        "plotlyServerURL": "https://plot.ly",
        "showLink": false
       },
       "data": [
        {
         "hoverinfo": "none",
         "legendgroup": "",
         "line": {
          "width": 0
         },
         "mode": "lines",
         "showlegend": false,
         "type": "scatter",
         "x": {
          "bdata": "AQAAAAIAAAADAAAABAAAAAUAAAAGAAAABwAAAAgAAAAJAAAACgAAAAsAAAAMAAAADQAAAA4AAAAPAAAAEAAAABEAAAASAAAAEwAAABQAAAAVAAAAFgAAABcAAAAYAAAAGQAAABoAAAAbAAAAHAAAAB0AAAAeAAAAHwAAACAAAAAhAAAAIgAAACMAAAAkAAAAJQAAACYAAAAnAAAAKAAAACkAAAAqAAAAKwAAACwAAAAtAAAALgAAAC8AAAAwAAAAMQAAADIAAAAzAAAANAAAADUAAAA2AAAANwAAADgAAAA5AAAAOgAAADsAAAA8AAAAPQAAAD4AAAA/AAAAQAAAAEEAAABCAAAAQwAAAEQAAABFAAAARgAAAEcAAABIAAAASQAAAEoAAABLAAAATAAAAE0AAABOAAAATwAAAFAAAABRAAAAUgAAAFMAAABUAAAAVQAAAFYAAABXAAAAWAAAAFkAAABaAAAAWwAAAFwAAABdAAAAXgAAAF8AAABgAAAAYQAAAGIAAABjAAAAZAAAAGUAAABmAAAAZwAAAGgAAABpAAAAagAAAGsAAABsAAAAbQAAAG4AAABvAAAAcAAAAHEAAAByAAAAcwAAAHQAAAB1AAAAdgAAAHcAAAB4AAAAeQAAAHoAAAB7AAAAfAAAAH0AAAB+AAAAfwAAAIAAAACBAAAAggAAAIMAAACEAAAAhQAAAIYAAACHAAAAiAAAAIkAAACKAAAAiwAAAIwAAACNAAAAjgAAAI8AAACQAAAAkQAAAJIAAACTAAAAlAAAAJUAAACWAAAAlwAAAJgAAACZAAAAmgAAAJsAAACcAAAAnQAAAJ4AAACfAAAAoAAAAKEAAACiAAAAowAAAKQAAAClAAAApgAAAKcAAACoAAAAqQAAAKoAAACrAAAArAAAAK0AAACuAAAArwAAALAAAACxAAAAsgAAALMAAAC0AAAAtQAAALYAAAC3AAAAuAAAALkAAAC6AAAAuwAAALwAAAC9AAAAvgAAAL8AAADAAAAAwQAAAMIAAADDAAAAxAAAAMUAAADGAAAAxwAAAMgAAADJAAAAygAAAMsAAADMAAAAzQAAAM4AAADPAAAA0AAAANEAAADSAAAA0wAAANQAAADVAAAA1gAAAA==",
          "dtype": "i4"
         },
         "y": {
          "bdata": "AAAAAAAARkAAAAAAAABGQAAAAAAAAEZAAAAAAAAARkAAAAAAAABGQAAAAAAAAEZAAAAAAAAARkAAAAAAAABGQAAAAAAAAEZAAAAAAAAARkAAAAAAAABGQAAAAAAAAEZAAAAAAAAARkAAAAAAAABGQAAAAAAAAEZAAAAAAAAARkAAAAAAAABGQAAAAAAAAEZAAAAAAAAARkAAAAAAAABGQAAAAAAAAEZAAAAAAAAARkAAAAAAAABGQAAAAAAAAEZAAAAAAAAARkAAAAAAAABGQAAAAAAAAEZAAAAAAAAARkAAAAAAAABGQAAAAAAAAEZAAAAAAAAARkAAAAAAAABGQAAAAAAAAEZAAAAAAAAARkAAAAAAAABGQAAAAAAAAEZAAAAAAAAARkAAAAAAAABGQAAAAAAAAEZAAAAAAAAARkAAAAAAAABGQAAAAAAAAEZAAAAAAAAARkAAAAAAAABGQAAAAAAAwFNAAAAAAACAVkAAAAAAAIBWQAAAAAAAgFZAAAAAAACAVkAAAAAAAIBWQAAAAAAAgFZAAAAAAACAVkAAAAAAAIBWQAAAAAAAgFZAAAAAAACAVkAAAAAAAIBWQAAAAAAAgFZAAAAAAACAVkAAAAAAAIBWQAAAAAAAgFZAAAAAAACAVkAAAAAAAIBWQAAAAAAAgFZAAAAAAACAVkAAAAAAAIBWQAAAAAAAgFZAAAAAAACAVkAAAAAAAIBWQAAAAAAAgFZAAAAAAACAVkAAAAAAAIBWQAAAAAAAgFZAAAAAAACAVkAAAAAAAIBWQAAAAAAAgFZAAAAAAACAVkAAAAAAAIBWQAAAAAAAgFZAAAAAAACAVkAAAAAAAIBWQAAAAAAAgFZAAAAAAACAVkAAAAAAAIBWQAAAAAAAgFZAAAAAAACAVkAAAAAAAIBWQAAAAAAAgFZAAAAAAACAVkAAAAAAAIBWQAAAAAAAgFZAAAAAAACAVkAAAAAAAIBWQAAAAAAAgFZAAAAAAACAVkAAAAAAAIBWQAAAAAAAgFZAAAAAAACAVkAAAAAAAIBWQAAAAAAAgFZAAAAAAACAVkAAAAAAAIBWQAAAAAAAgFZAAAAAAACAVkAAAAAAAIBWQAAAAAAAgFZAAAAAAACAVkAAAAAAAIBWQAAAAAAAgFZAAAAAAACAVkAAAAAAAIBWQAAAAAAAgFZAAAAAAACAVkAAAAAAAIBWQAAAAAAAgFZAAAAAAACAVkAAAAAAAIBWQAAAAAAAgFZAAAAAAACAVkAAAAAAAIBWQAAAAAAAgFZAAAAAAACAVkAAAAAAAIBWQAAAAAAAgFZAAAAAAACAVkAAAAAAAIBWQAAAAAAAgFZAAAAAAACAVkAAAAAAAIBWQAAAAAAAgFZAAAAAAACAVkAAAAAAAIBWQAAAAAAAgFZAAAAAAACAVkAAAAAAAIBWQAAAAAAAgFZAAAAAAACAVkAAAAAAAIBWQAAAAAAAgFZAAAAAAACAVkAAAAAAAIBWQAAAAAAAgFZAAAAAAACAVkAAAAAAAIBWQAAAAAAAgFZAAAAAAACAVkAAAAAAAIBWQAAAAAAAgFZAAAAAAACAVkAAAAAAAIBWQAAAAAAAgFZAAAAAAACAVkAAAAAAAIBWQAAAAAAAgFZAAAAAAACAVkAAAAAAAIBWQAAAAAAAgFZAAAAAAACAVkAAAAAAAIBWQAAAAAAAgFZAAAAAAACAVkAAAAAAAIBWQAAAAAAAgFZAAAAAAACAVkAAAAAAAIBWQAAAAAAAgFZAAAAAAACAVkAAAAAAAIBWQAAAAAAAgFZAAAAAAACAVkAAAAAAAIBWQAAAAAAAgFZAAAAAAACAVkAAAAAAAIBWQAAAAAAAgFZAAAAAAACAVkAAAAAAAIBWQAAAAAAAgFZAAAAAAACAVkAAAAAAAIBWQAAAAAAAgFZAAAAAAACAVkAAAAAAAIBWQAAAAAAAgFZAAAAAAACAVkAAAAAAAIBWQAAAAAAAgFZAAAAAAACAVkAAAAAAAIBWQAAAAAAAgFZAAAAAAACAVkAAAAAAAIBWQAAAAAAAgFZAAAAAAACAVkAAAAAAAIBWQAAAAAAAgFZAAAAAAAAAWkAAAAAAAABaQAAAAAAAAFpAAAAAAAAAWkAAAAAAAABaQAAAAAAAAFpAAAAAAAAAWkAAAAAAAABaQAAAAAAAAFpAAAAAAAAAWkAAAAAAAABaQAAAAAAAAFpAAAAAAAAAWkAAAAAAAABaQAAAAAAAAFpAAAAAAAAAWkAAAAAAAABaQAAAAAAAAFpAAAAAAAAAWkA=",
          "dtype": "f8"
         }
        },
        {
         "fill": "tonexty",
         "fillcolor": "rgba(128,177,211,0.3)",
         "legendgroup": "objective value",
         "line": {
          "color": "rgba(128,177,211,1)"
         },
         "mode": "lines",
         "name": "objective value",
         "text": [
          "Parameterization has too many items to render on hover (21).",
          "Parameterization has too many items to render on hover (21).",
          "Parameterization has too many items to render on hover (21).",
          "Parameterization has too many items to render on hover (21).",
          "Parameterization has too many items to render on hover (21).",
          "Parameterization has too many items to render on hover (21).",
          "Parameterization has too many items to render on hover (21).",
          "Parameterization has too many items to render on hover (21).",
          "Parameterization has too many items to render on hover (21).",
          "Parameterization has too many items to render on hover (21).",
          "Parameterization has too many items to render on hover (21).",
          "Parameterization has too many items to render on hover (21).",
          "Parameterization has too many items to render on hover (21).",
          "Parameterization has too many items to render on hover (21).",
          "Parameterization has too many items to render on hover (21).",
          "Parameterization has too many items to render on hover (21).",
          "Parameterization has too many items to render on hover (21).",
          "Parameterization has too many items to render on hover (21).",
          "Parameterization has too many items to render on hover (21).",
          "Parameterization has too many items to render on hover (21).",
          "Parameterization has too many items to render on hover (21).",
          "Parameterization has too many items to render on hover (21).",
          "Parameterization has too many items to render on hover (21).",
          "Parameterization has too many items to render on hover (21).",
          "Parameterization has too many items to render on hover (21).",
          "Parameterization has too many items to render on hover (21).",
          "Parameterization has too many items to render on hover (21).",
          "Parameterization has too many items to render on hover (21).",
          "Parameterization has too many items to render on hover (21).",
          "Parameterization has too many items to render on hover (21).",
          "Parameterization has too many items to render on hover (21).",
          "Parameterization has too many items to render on hover (21).",
          "Parameterization has too many items to render on hover (21).",
          "Parameterization has too many items to render on hover (21).",
          "Parameterization has too many items to render on hover (21).",
          "Parameterization has too many items to render on hover (21).",
          "Parameterization has too many items to render on hover (21).",
          "Parameterization has too many items to render on hover (21).",
          "Parameterization has too many items to render on hover (21).",
          "Parameterization has too many items to render on hover (21).",
          "Parameterization has too many items to render on hover (21).",
          "Parameterization has too many items to render on hover (21).",
          "Parameterization has too many items to render on hover (21).",
          "Parameterization has too many items to render on hover (21).",
          "Parameterization has too many items to render on hover (21).",
          "Parameterization has too many items to render on hover (21).",
          "Parameterization has too many items to render on hover (21).",
          "Parameterization has too many items to render on hover (21).",
          "Parameterization has too many items to render on hover (21).",
          "Parameterization has too many items to render on hover (21).",
          "Parameterization has too many items to render on hover (21).",
          "Parameterization has too many items to render on hover (21).",
          "Parameterization has too many items to render on hover (21).",
          "Parameterization has too many items to render on hover (21).",
          "Parameterization has too many items to render on hover (21).",
          "Parameterization has too many items to render on hover (21).",
          "Parameterization has too many items to render on hover (21).",
          "Parameterization has too many items to render on hover (21).",
          "Parameterization has too many items to render on hover (21).",
          "Parameterization has too many items to render on hover (21).",
          "Parameterization has too many items to render on hover (21).",
          "Parameterization has too many items to render on hover (21).",
          "Parameterization has too many items to render on hover (21).",
          "Parameterization has too many items to render on hover (21).",
          "Parameterization has too many items to render on hover (21).",
          "Parameterization has too many items to render on hover (21).",
          "Parameterization has too many items to render on hover (21).",
          "Parameterization has too many items to render on hover (21).",
          "Parameterization has too many items to render on hover (21).",
          "Parameterization has too many items to render on hover (21).",
          "Parameterization has too many items to render on hover (21).",
          "Parameterization has too many items to render on hover (21).",
          "Parameterization has too many items to render on hover (21).",
          "Parameterization has too many items to render on hover (21).",
          "Parameterization has too many items to render on hover (21).",
          "Parameterization has too many items to render on hover (21).",
          "Parameterization has too many items to render on hover (21).",
          "Parameterization has too many items to render on hover (21).",
          "Parameterization has too many items to render on hover (21).",
          "Parameterization has too many items to render on hover (21).",
          "Parameterization has too many items to render on hover (21).",
          "Parameterization has too many items to render on hover (21).",
          "Parameterization has too many items to render on hover (21).",
          "Parameterization has too many items to render on hover (21).",
          "Parameterization has too many items to render on hover (21).",
          "Parameterization has too many items to render on hover (21).",
          "Parameterization has too many items to render on hover (21).",
          "Parameterization has too many items to render on hover (21).",
          "Parameterization has too many items to render on hover (21).",
          "Parameterization has too many items to render on hover (21).",
          "Parameterization has too many items to render on hover (21).",
          "Parameterization has too many items to render on hover (21).",
          "Parameterization has too many items to render on hover (21).",
          "Parameterization has too many items to render on hover (21).",
          "Parameterization has too many items to render on hover (21).",
          "Parameterization has too many items to render on hover (21).",
          "Parameterization has too many items to render on hover (21).",
          "Parameterization has too many items to render on hover (21).",
          "Parameterization has too many items to render on hover (21).",
          "Parameterization has too many items to render on hover (21).",
          "Parameterization has too many items to render on hover (21).",
          "Parameterization has too many items to render on hover (21).",
          "Parameterization has too many items to render on hover (21).",
          "Parameterization has too many items to render on hover (21).",
          "Parameterization has too many items to render on hover (21).",
          "Parameterization has too many items to render on hover (21).",
          "Parameterization has too many items to render on hover (21).",
          "Parameterization has too many items to render on hover (21).",
          "Parameterization has too many items to render on hover (21).",
          "Parameterization has too many items to render on hover (21).",
          "Parameterization has too many items to render on hover (21).",
          "Parameterization has too many items to render on hover (21).",
          "Parameterization has too many items to render on hover (21).",
          "Parameterization has too many items to render on hover (21).",
          "Parameterization has too many items to render on hover (21).",
          "Parameterization has too many items to render on hover (21).",
          "Parameterization has too many items to render on hover (21).",
          "Parameterization has too many items to render on hover (21).",
          "Parameterization has too many items to render on hover (21).",
          "Parameterization has too many items to render on hover (21).",
          "Parameterization has too many items to render on hover (21).",
          "Parameterization has too many items to render on hover (21).",
          "Parameterization has too many items to render on hover (21).",
          "Parameterization has too many items to render on hover (21).",
          "Parameterization has too many items to render on hover (21).",
          "Parameterization has too many items to render on hover (21).",
          "Parameterization has too many items to render on hover (21).",
          "Parameterization has too many items to render on hover (21).",
          "Parameterization has too many items to render on hover (21).",
          "Parameterization has too many items to render on hover (21).",
          "Parameterization has too many items to render on hover (21).",
          "Parameterization has too many items to render on hover (21).",
          "Parameterization has too many items to render on hover (21).",
          "Parameterization has too many items to render on hover (21).",
          "Parameterization has too many items to render on hover (21).",
          "Parameterization has too many items to render on hover (21).",
          "Parameterization has too many items to render on hover (21).",
          "Parameterization has too many items to render on hover (21).",
          "Parameterization has too many items to render on hover (21).",
          "Parameterization has too many items to render on hover (21).",
          "Parameterization has too many items to render on hover (21).",
          "Parameterization has too many items to render on hover (21).",
          "Parameterization has too many items to render on hover (21).",
          "Parameterization has too many items to render on hover (21).",
          "Parameterization has too many items to render on hover (21).",
          "Parameterization has too many items to render on hover (21).",
          "Parameterization has too many items to render on hover (21).",
          "Parameterization has too many items to render on hover (21).",
          "Parameterization has too many items to render on hover (21).",
          "Parameterization has too many items to render on hover (21).",
          "Parameterization has too many items to render on hover (21).",
          "Parameterization has too many items to render on hover (21).",
          "Parameterization has too many items to render on hover (21).",
          "Parameterization has too many items to render on hover (21).",
          "Parameterization has too many items to render on hover (21).",
          "Parameterization has too many items to render on hover (21).",
          "Parameterization has too many items to render on hover (21).",
          "Parameterization has too many items to render on hover (21).",
          "Parameterization has too many items to render on hover (21).",
          "Parameterization has too many items to render on hover (21).",
          "Parameterization has too many items to render on hover (21).",
          "Parameterization has too many items to render on hover (21).",
          "Parameterization has too many items to render on hover (21).",
          "Parameterization has too many items to render on hover (21).",
          "Parameterization has too many items to render on hover (21).",
          "Parameterization has too many items to render on hover (21).",
          "Parameterization has too many items to render on hover (21).",
          "Parameterization has too many items to render on hover (21).",
          "Parameterization has too many items to render on hover (21).",
          "Parameterization has too many items to render on hover (21).",
          "Parameterization has too many items to render on hover (21).",
          "Parameterization has too many items to render on hover (21).",
          "Parameterization has too many items to render on hover (21).",
          "Parameterization has too many items to render on hover (21).",
          "Parameterization has too many items to render on hover (21).",
          "Parameterization has too many items to render on hover (21).",
          "Parameterization has too many items to render on hover (21).",
          "Parameterization has too many items to render on hover (21).",
          "Parameterization has too many items to render on hover (21).",
          "Parameterization has too many items to render on hover (21).",
          "Parameterization has too many items to render on hover (21).",
          "Parameterization has too many items to render on hover (21).",
          "Parameterization has too many items to render on hover (21).",
          "Parameterization has too many items to render on hover (21).",
          "Parameterization has too many items to render on hover (21).",
          "Parameterization has too many items to render on hover (21).",
          "Parameterization has too many items to render on hover (21).",
          "Parameterization has too many items to render on hover (21).",
          "Parameterization has too many items to render on hover (21).",
          "Parameterization has too many items to render on hover (21).",
          "Parameterization has too many items to render on hover (21).",
          "Parameterization has too many items to render on hover (21).",
          "Parameterization has too many items to render on hover (21).",
          "Parameterization has too many items to render on hover (21).",
          "Parameterization has too many items to render on hover (21).",
          "Parameterization has too many items to render on hover (21).",
          "Parameterization has too many items to render on hover (21).",
          "Parameterization has too many items to render on hover (21).",
          "Parameterization has too many items to render on hover (21).",
          "Parameterization has too many items to render on hover (21).",
          "Parameterization has too many items to render on hover (21).",
          "Parameterization has too many items to render on hover (21).",
          "Parameterization has too many items to render on hover (21).",
          "Parameterization has too many items to render on hover (21).",
          "Parameterization has too many items to render on hover (21).",
          "Parameterization has too many items to render on hover (21).",
          "Parameterization has too many items to render on hover (21).",
          "Parameterization has too many items to render on hover (21).",
          "Parameterization has too many items to render on hover (21).",
          "Parameterization has too many items to render on hover (21).",
          "Parameterization has too many items to render on hover (21).",
          "Parameterization has too many items to render on hover (21).",
          "Parameterization has too many items to render on hover (21).",
          "Parameterization has too many items to render on hover (21)."
         ],
         "type": "scatter",
         "x": {
          "bdata": "AQAAAAIAAAADAAAABAAAAAUAAAAGAAAABwAAAAgAAAAJAAAACgAAAAsAAAAMAAAADQAAAA4AAAAPAAAAEAAAABEAAAASAAAAEwAAABQAAAAVAAAAFgAAABcAAAAYAAAAGQAAABoAAAAbAAAAHAAAAB0AAAAeAAAAHwAAACAAAAAhAAAAIgAAACMAAAAkAAAAJQAAACYAAAAnAAAAKAAAACkAAAAqAAAAKwAAACwAAAAtAAAALgAAAC8AAAAwAAAAMQAAADIAAAAzAAAANAAAADUAAAA2AAAANwAAADgAAAA5AAAAOgAAADsAAAA8AAAAPQAAAD4AAAA/AAAAQAAAAEEAAABCAAAAQwAAAEQAAABFAAAARgAAAEcAAABIAAAASQAAAEoAAABLAAAATAAAAE0AAABOAAAATwAAAFAAAABRAAAAUgAAAFMAAABUAAAAVQAAAFYAAABXAAAAWAAAAFkAAABaAAAAWwAAAFwAAABdAAAAXgAAAF8AAABgAAAAYQAAAGIAAABjAAAAZAAAAGUAAABmAAAAZwAAAGgAAABpAAAAagAAAGsAAABsAAAAbQAAAG4AAABvAAAAcAAAAHEAAAByAAAAcwAAAHQAAAB1AAAAdgAAAHcAAAB4AAAAeQAAAHoAAAB7AAAAfAAAAH0AAAB+AAAAfwAAAIAAAACBAAAAggAAAIMAAACEAAAAhQAAAIYAAACHAAAAiAAAAIkAAACKAAAAiwAAAIwAAACNAAAAjgAAAI8AAACQAAAAkQAAAJIAAACTAAAAlAAAAJUAAACWAAAAlwAAAJgAAACZAAAAmgAAAJsAAACcAAAAnQAAAJ4AAACfAAAAoAAAAKEAAACiAAAAowAAAKQAAAClAAAApgAAAKcAAACoAAAAqQAAAKoAAACrAAAArAAAAK0AAACuAAAArwAAALAAAACxAAAAsgAAALMAAAC0AAAAtQAAALYAAAC3AAAAuAAAALkAAAC6AAAAuwAAALwAAAC9AAAAvgAAAL8AAADAAAAAwQAAAMIAAADDAAAAxAAAAMUAAADGAAAAxwAAAMgAAADJAAAAygAAAMsAAADMAAAAzQAAAM4AAADPAAAA0AAAANEAAADSAAAA0wAAANQAAADVAAAA1gAAAA==",
          "dtype": "i4"
         },
         "y": {
          "bdata": "AAAAAAAARkAAAAAAAABGQAAAAAAAAEZAAAAAAAAARkAAAAAAAABGQAAAAAAAAEZAAAAAAAAARkAAAAAAAABGQAAAAAAAAEZAAAAAAAAARkAAAAAAAABGQAAAAAAAAEZAAAAAAAAARkAAAAAAAABGQAAAAAAAAEZAAAAAAAAARkAAAAAAAABGQAAAAAAAAEZAAAAAAAAARkAAAAAAAABGQAAAAAAAAEZAAAAAAAAARkAAAAAAAABGQAAAAAAAAEZAAAAAAAAARkAAAAAAAABGQAAAAAAAAEZAAAAAAAAARkAAAAAAAABGQAAAAAAAAEZAAAAAAAAARkAAAAAAAABGQAAAAAAAAEZAAAAAAAAARkAAAAAAAABGQAAAAAAAAEZAAAAAAAAARkAAAAAAAABGQAAAAAAAAEZAAAAAAAAARkAAAAAAAABGQAAAAAAAAEZAAAAAAAAARkAAAAAAAABGQAAAAAAAwFNAAAAAAACAVkAAAAAAAIBWQAAAAAAAgFZAAAAAAACAVkAAAAAAAIBWQAAAAAAAgFZAAAAAAACAVkAAAAAAAIBWQAAAAAAAgFZAAAAAAACAVkAAAAAAAIBWQAAAAAAAgFZAAAAAAACAVkAAAAAAAIBWQAAAAAAAgFZAAAAAAACAVkAAAAAAAIBWQAAAAAAAgFZAAAAAAACAVkAAAAAAAIBWQAAAAAAAgFZAAAAAAACAVkAAAAAAAIBWQAAAAAAAgFZAAAAAAACAVkAAAAAAAIBWQAAAAAAAgFZAAAAAAACAVkAAAAAAAIBWQAAAAAAAgFZAAAAAAACAVkAAAAAAAIBWQAAAAAAAgFZAAAAAAACAVkAAAAAAAIBWQAAAAAAAgFZAAAAAAACAVkAAAAAAAIBWQAAAAAAAgFZAAAAAAACAVkAAAAAAAIBWQAAAAAAAgFZAAAAAAACAVkAAAAAAAIBWQAAAAAAAgFZAAAAAAACAVkAAAAAAAIBWQAAAAAAAgFZAAAAAAACAVkAAAAAAAIBWQAAAAAAAgFZAAAAAAACAVkAAAAAAAIBWQAAAAAAAgFZAAAAAAACAVkAAAAAAAIBWQAAAAAAAgFZAAAAAAACAVkAAAAAAAIBWQAAAAAAAgFZAAAAAAACAVkAAAAAAAIBWQAAAAAAAgFZAAAAAAACAVkAAAAAAAIBWQAAAAAAAgFZAAAAAAACAVkAAAAAAAIBWQAAAAAAAgFZAAAAAAACAVkAAAAAAAIBWQAAAAAAAgFZAAAAAAACAVkAAAAAAAIBWQAAAAAAAgFZAAAAAAACAVkAAAAAAAIBWQAAAAAAAgFZAAAAAAACAVkAAAAAAAIBWQAAAAAAAgFZAAAAAAACAVkAAAAAAAIBWQAAAAAAAgFZAAAAAAACAVkAAAAAAAIBWQAAAAAAAgFZAAAAAAACAVkAAAAAAAIBWQAAAAAAAgFZAAAAAAACAVkAAAAAAAIBWQAAAAAAAgFZAAAAAAACAVkAAAAAAAIBWQAAAAAAAgFZAAAAAAACAVkAAAAAAAIBWQAAAAAAAgFZAAAAAAACAVkAAAAAAAIBWQAAAAAAAgFZAAAAAAACAVkAAAAAAAIBWQAAAAAAAgFZAAAAAAACAVkAAAAAAAIBWQAAAAAAAgFZAAAAAAACAVkAAAAAAAIBWQAAAAAAAgFZAAAAAAACAVkAAAAAAAIBWQAAAAAAAgFZAAAAAAACAVkAAAAAAAIBWQAAAAAAAgFZAAAAAAACAVkAAAAAAAIBWQAAAAAAAgFZAAAAAAACAVkAAAAAAAIBWQAAAAAAAgFZAAAAAAACAVkAAAAAAAIBWQAAAAAAAgFZAAAAAAACAVkAAAAAAAIBWQAAAAAAAgFZAAAAAAACAVkAAAAAAAIBWQAAAAAAAgFZAAAAAAACAVkAAAAAAAIBWQAAAAAAAgFZAAAAAAACAVkAAAAAAAIBWQAAAAAAAgFZAAAAAAACAVkAAAAAAAIBWQAAAAAAAgFZAAAAAAACAVkAAAAAAAIBWQAAAAAAAgFZAAAAAAACAVkAAAAAAAIBWQAAAAAAAgFZAAAAAAACAVkAAAAAAAIBWQAAAAAAAgFZAAAAAAAAAWkAAAAAAAABaQAAAAAAAAFpAAAAAAAAAWkAAAAAAAABaQAAAAAAAAFpAAAAAAAAAWkAAAAAAAABaQAAAAAAAAFpAAAAAAAAAWkAAAAAAAABaQAAAAAAAAFpAAAAAAAAAWkAAAAAAAABaQAAAAAAAAFpAAAAAAAAAWkAAAAAAAABaQAAAAAAAAFpAAAAAAAAAWkA=",
          "dtype": "f8"
         }
        },
        {
         "fill": "tonexty",
         "fillcolor": "rgba(128,177,211,0.3)",
         "hoverinfo": "none",
         "legendgroup": "",
         "line": {
          "width": 0
         },
         "mode": "lines",
         "showlegend": false,
         "type": "scatter",
         "x": {
          "bdata": "AQAAAAIAAAADAAAABAAAAAUAAAAGAAAABwAAAAgAAAAJAAAACgAAAAsAAAAMAAAADQAAAA4AAAAPAAAAEAAAABEAAAASAAAAEwAAABQAAAAVAAAAFgAAABcAAAAYAAAAGQAAABoAAAAbAAAAHAAAAB0AAAAeAAAAHwAAACAAAAAhAAAAIgAAACMAAAAkAAAAJQAAACYAAAAnAAAAKAAAACkAAAAqAAAAKwAAACwAAAAtAAAALgAAAC8AAAAwAAAAMQAAADIAAAAzAAAANAAAADUAAAA2AAAANwAAADgAAAA5AAAAOgAAADsAAAA8AAAAPQAAAD4AAAA/AAAAQAAAAEEAAABCAAAAQwAAAEQAAABFAAAARgAAAEcAAABIAAAASQAAAEoAAABLAAAATAAAAE0AAABOAAAATwAAAFAAAABRAAAAUgAAAFMAAABUAAAAVQAAAFYAAABXAAAAWAAAAFkAAABaAAAAWwAAAFwAAABdAAAAXgAAAF8AAABgAAAAYQAAAGIAAABjAAAAZAAAAGUAAABmAAAAZwAAAGgAAABpAAAAagAAAGsAAABsAAAAbQAAAG4AAABvAAAAcAAAAHEAAAByAAAAcwAAAHQAAAB1AAAAdgAAAHcAAAB4AAAAeQAAAHoAAAB7AAAAfAAAAH0AAAB+AAAAfwAAAIAAAACBAAAAggAAAIMAAACEAAAAhQAAAIYAAACHAAAAiAAAAIkAAACKAAAAiwAAAIwAAACNAAAAjgAAAI8AAACQAAAAkQAAAJIAAACTAAAAlAAAAJUAAACWAAAAlwAAAJgAAACZAAAAmgAAAJsAAACcAAAAnQAAAJ4AAACfAAAAoAAAAKEAAACiAAAAowAAAKQAAAClAAAApgAAAKcAAACoAAAAqQAAAKoAAACrAAAArAAAAK0AAACuAAAArwAAALAAAACxAAAAsgAAALMAAAC0AAAAtQAAALYAAAC3AAAAuAAAALkAAAC6AAAAuwAAALwAAAC9AAAAvgAAAL8AAADAAAAAwQAAAMIAAADDAAAAxAAAAMUAAADGAAAAxwAAAMgAAADJAAAAygAAAMsAAADMAAAAzQAAAM4AAADPAAAA0AAAANEAAADSAAAA0wAAANQAAADVAAAA1gAAAA==",
          "dtype": "i4"
         },
         "y": {
          "bdata": "AAAAAAAARkAAAAAAAABGQAAAAAAAAEZAAAAAAAAARkAAAAAAAABGQAAAAAAAAEZAAAAAAAAARkAAAAAAAABGQAAAAAAAAEZAAAAAAAAARkAAAAAAAABGQAAAAAAAAEZAAAAAAAAARkAAAAAAAABGQAAAAAAAAEZAAAAAAAAARkAAAAAAAABGQAAAAAAAAEZAAAAAAAAARkAAAAAAAABGQAAAAAAAAEZAAAAAAAAARkAAAAAAAABGQAAAAAAAAEZAAAAAAAAARkAAAAAAAABGQAAAAAAAAEZAAAAAAAAARkAAAAAAAABGQAAAAAAAAEZAAAAAAAAARkAAAAAAAABGQAAAAAAAAEZAAAAAAAAARkAAAAAAAABGQAAAAAAAAEZAAAAAAAAARkAAAAAAAABGQAAAAAAAAEZAAAAAAAAARkAAAAAAAABGQAAAAAAAAEZAAAAAAAAARkAAAAAAAABGQAAAAAAAwFNAAAAAAACAVkAAAAAAAIBWQAAAAAAAgFZAAAAAAACAVkAAAAAAAIBWQAAAAAAAgFZAAAAAAACAVkAAAAAAAIBWQAAAAAAAgFZAAAAAAACAVkAAAAAAAIBWQAAAAAAAgFZAAAAAAACAVkAAAAAAAIBWQAAAAAAAgFZAAAAAAACAVkAAAAAAAIBWQAAAAAAAgFZAAAAAAACAVkAAAAAAAIBWQAAAAAAAgFZAAAAAAACAVkAAAAAAAIBWQAAAAAAAgFZAAAAAAACAVkAAAAAAAIBWQAAAAAAAgFZAAAAAAACAVkAAAAAAAIBWQAAAAAAAgFZAAAAAAACAVkAAAAAAAIBWQAAAAAAAgFZAAAAAAACAVkAAAAAAAIBWQAAAAAAAgFZAAAAAAACAVkAAAAAAAIBWQAAAAAAAgFZAAAAAAACAVkAAAAAAAIBWQAAAAAAAgFZAAAAAAACAVkAAAAAAAIBWQAAAAAAAgFZAAAAAAACAVkAAAAAAAIBWQAAAAAAAgFZAAAAAAACAVkAAAAAAAIBWQAAAAAAAgFZAAAAAAACAVkAAAAAAAIBWQAAAAAAAgFZAAAAAAACAVkAAAAAAAIBWQAAAAAAAgFZAAAAAAACAVkAAAAAAAIBWQAAAAAAAgFZAAAAAAACAVkAAAAAAAIBWQAAAAAAAgFZAAAAAAACAVkAAAAAAAIBWQAAAAAAAgFZAAAAAAACAVkAAAAAAAIBWQAAAAAAAgFZAAAAAAACAVkAAAAAAAIBWQAAAAAAAgFZAAAAAAACAVkAAAAAAAIBWQAAAAAAAgFZAAAAAAACAVkAAAAAAAIBWQAAAAAAAgFZAAAAAAACAVkAAAAAAAIBWQAAAAAAAgFZAAAAAAACAVkAAAAAAAIBWQAAAAAAAgFZAAAAAAACAVkAAAAAAAIBWQAAAAAAAgFZAAAAAAACAVkAAAAAAAIBWQAAAAAAAgFZAAAAAAACAVkAAAAAAAIBWQAAAAAAAgFZAAAAAAACAVkAAAAAAAIBWQAAAAAAAgFZAAAAAAACAVkAAAAAAAIBWQAAAAAAAgFZAAAAAAACAVkAAAAAAAIBWQAAAAAAAgFZAAAAAAACAVkAAAAAAAIBWQAAAAAAAgFZAAAAAAACAVkAAAAAAAIBWQAAAAAAAgFZAAAAAAACAVkAAAAAAAIBWQAAAAAAAgFZAAAAAAACAVkAAAAAAAIBWQAAAAAAAgFZAAAAAAACAVkAAAAAAAIBWQAAAAAAAgFZAAAAAAACAVkAAAAAAAIBWQAAAAAAAgFZAAAAAAACAVkAAAAAAAIBWQAAAAAAAgFZAAAAAAACAVkAAAAAAAIBWQAAAAAAAgFZAAAAAAACAVkAAAAAAAIBWQAAAAAAAgFZAAAAAAACAVkAAAAAAAIBWQAAAAAAAgFZAAAAAAACAVkAAAAAAAIBWQAAAAAAAgFZAAAAAAACAVkAAAAAAAIBWQAAAAAAAgFZAAAAAAACAVkAAAAAAAIBWQAAAAAAAgFZAAAAAAACAVkAAAAAAAIBWQAAAAAAAgFZAAAAAAACAVkAAAAAAAIBWQAAAAAAAgFZAAAAAAACAVkAAAAAAAIBWQAAAAAAAgFZAAAAAAAAAWkAAAAAAAABaQAAAAAAAAFpAAAAAAAAAWkAAAAAAAABaQAAAAAAAAFpAAAAAAAAAWkAAAAAAAABaQAAAAAAAAFpAAAAAAAAAWkAAAAAAAABaQAAAAAAAAFpAAAAAAAAAWkAAAAAAAABaQAAAAAAAAFpAAAAAAAAAWkAAAAAAAABaQAAAAAAAAFpAAAAAAAAAWkA=",
          "dtype": "f8"
         }
        }
       ],
       "layout": {
        "showlegend": true,
        "template": {
         "data": {
          "bar": [
           {
            "error_x": {
             "color": "#2a3f5f"
            },
            "error_y": {
             "color": "#2a3f5f"
            },
            "marker": {
             "line": {
              "color": "#E5ECF6",
              "width": 0.5
             },
             "pattern": {
              "fillmode": "overlay",
              "size": 10,
              "solidity": 0.2
             }
            },
            "type": "bar"
           }
          ],
          "barpolar": [
           {
            "marker": {
             "line": {
              "color": "#E5ECF6",
              "width": 0.5
             },
             "pattern": {
              "fillmode": "overlay",
              "size": 10,
              "solidity": 0.2
             }
            },
            "type": "barpolar"
           }
          ],
          "carpet": [
           {
            "aaxis": {
             "endlinecolor": "#2a3f5f",
             "gridcolor": "white",
             "linecolor": "white",
             "minorgridcolor": "white",
             "startlinecolor": "#2a3f5f"
            },
            "baxis": {
             "endlinecolor": "#2a3f5f",
             "gridcolor": "white",
             "linecolor": "white",
             "minorgridcolor": "white",
             "startlinecolor": "#2a3f5f"
            },
            "type": "carpet"
           }
          ],
          "choropleth": [
           {
            "colorbar": {
             "outlinewidth": 0,
             "ticks": ""
            },
            "type": "choropleth"
           }
          ],
          "contour": [
           {
            "colorbar": {
             "outlinewidth": 0,
             "ticks": ""
            },
            "colorscale": [
             [
              0,
              "#0d0887"
             ],
             [
              0.1111111111111111,
              "#46039f"
             ],
             [
              0.2222222222222222,
              "#7201a8"
             ],
             [
              0.3333333333333333,
              "#9c179e"
             ],
             [
              0.4444444444444444,
              "#bd3786"
             ],
             [
              0.5555555555555556,
              "#d8576b"
             ],
             [
              0.6666666666666666,
              "#ed7953"
             ],
             [
              0.7777777777777778,
              "#fb9f3a"
             ],
             [
              0.8888888888888888,
              "#fdca26"
             ],
             [
              1,
              "#f0f921"
             ]
            ],
            "type": "contour"
           }
          ],
          "contourcarpet": [
           {
            "colorbar": {
             "outlinewidth": 0,
             "ticks": ""
            },
            "type": "contourcarpet"
           }
          ],
          "heatmap": [
           {
            "colorbar": {
             "outlinewidth": 0,
             "ticks": ""
            },
            "colorscale": [
             [
              0,
              "#0d0887"
             ],
             [
              0.1111111111111111,
              "#46039f"
             ],
             [
              0.2222222222222222,
              "#7201a8"
             ],
             [
              0.3333333333333333,
              "#9c179e"
             ],
             [
              0.4444444444444444,
              "#bd3786"
             ],
             [
              0.5555555555555556,
              "#d8576b"
             ],
             [
              0.6666666666666666,
              "#ed7953"
             ],
             [
              0.7777777777777778,
              "#fb9f3a"
             ],
             [
              0.8888888888888888,
              "#fdca26"
             ],
             [
              1,
              "#f0f921"
             ]
            ],
            "type": "heatmap"
           }
          ],
          "histogram": [
           {
            "marker": {
             "pattern": {
              "fillmode": "overlay",
              "size": 10,
              "solidity": 0.2
             }
            },
            "type": "histogram"
           }
          ],
          "histogram2d": [
           {
            "colorbar": {
             "outlinewidth": 0,
             "ticks": ""
            },
            "colorscale": [
             [
              0,
              "#0d0887"
             ],
             [
              0.1111111111111111,
              "#46039f"
             ],
             [
              0.2222222222222222,
              "#7201a8"
             ],
             [
              0.3333333333333333,
              "#9c179e"
             ],
             [
              0.4444444444444444,
              "#bd3786"
             ],
             [
              0.5555555555555556,
              "#d8576b"
             ],
             [
              0.6666666666666666,
              "#ed7953"
             ],
             [
              0.7777777777777778,
              "#fb9f3a"
             ],
             [
              0.8888888888888888,
              "#fdca26"
             ],
             [
              1,
              "#f0f921"
             ]
            ],
            "type": "histogram2d"
           }
          ],
          "histogram2dcontour": [
           {
            "colorbar": {
             "outlinewidth": 0,
             "ticks": ""
            },
            "colorscale": [
             [
              0,
              "#0d0887"
             ],
             [
              0.1111111111111111,
              "#46039f"
             ],
             [
              0.2222222222222222,
              "#7201a8"
             ],
             [
              0.3333333333333333,
              "#9c179e"
             ],
             [
              0.4444444444444444,
              "#bd3786"
             ],
             [
              0.5555555555555556,
              "#d8576b"
             ],
             [
              0.6666666666666666,
              "#ed7953"
             ],
             [
              0.7777777777777778,
              "#fb9f3a"
             ],
             [
              0.8888888888888888,
              "#fdca26"
             ],
             [
              1,
              "#f0f921"
             ]
            ],
            "type": "histogram2dcontour"
           }
          ],
          "mesh3d": [
           {
            "colorbar": {
             "outlinewidth": 0,
             "ticks": ""
            },
            "type": "mesh3d"
           }
          ],
          "parcoords": [
           {
            "line": {
             "colorbar": {
              "outlinewidth": 0,
              "ticks": ""
             }
            },
            "type": "parcoords"
           }
          ],
          "pie": [
           {
            "automargin": true,
            "type": "pie"
           }
          ],
          "scatter": [
           {
            "fillpattern": {
             "fillmode": "overlay",
             "size": 10,
             "solidity": 0.2
            },
            "type": "scatter"
           }
          ],
          "scatter3d": [
           {
            "line": {
             "colorbar": {
              "outlinewidth": 0,
              "ticks": ""
             }
            },
            "marker": {
             "colorbar": {
              "outlinewidth": 0,
              "ticks": ""
             }
            },
            "type": "scatter3d"
           }
          ],
          "scattercarpet": [
           {
            "marker": {
             "colorbar": {
              "outlinewidth": 0,
              "ticks": ""
             }
            },
            "type": "scattercarpet"
           }
          ],
          "scattergeo": [
           {
            "marker": {
             "colorbar": {
              "outlinewidth": 0,
              "ticks": ""
             }
            },
            "type": "scattergeo"
           }
          ],
          "scattergl": [
           {
            "marker": {
             "colorbar": {
              "outlinewidth": 0,
              "ticks": ""
             }
            },
            "type": "scattergl"
           }
          ],
          "scattermap": [
           {
            "marker": {
             "colorbar": {
              "outlinewidth": 0,
              "ticks": ""
             }
            },
            "type": "scattermap"
           }
          ],
          "scattermapbox": [
           {
            "marker": {
             "colorbar": {
              "outlinewidth": 0,
              "ticks": ""
             }
            },
            "type": "scattermapbox"
           }
          ],
          "scatterpolar": [
           {
            "marker": {
             "colorbar": {
              "outlinewidth": 0,
              "ticks": ""
             }
            },
            "type": "scatterpolar"
           }
          ],
          "scatterpolargl": [
           {
            "marker": {
             "colorbar": {
              "outlinewidth": 0,
              "ticks": ""
             }
            },
            "type": "scatterpolargl"
           }
          ],
          "scatterternary": [
           {
            "marker": {
             "colorbar": {
              "outlinewidth": 0,
              "ticks": ""
             }
            },
            "type": "scatterternary"
           }
          ],
          "surface": [
           {
            "colorbar": {
             "outlinewidth": 0,
             "ticks": ""
            },
            "colorscale": [
             [
              0,
              "#0d0887"
             ],
             [
              0.1111111111111111,
              "#46039f"
             ],
             [
              0.2222222222222222,
              "#7201a8"
             ],
             [
              0.3333333333333333,
              "#9c179e"
             ],
             [
              0.4444444444444444,
              "#bd3786"
             ],
             [
              0.5555555555555556,
              "#d8576b"
             ],
             [
              0.6666666666666666,
              "#ed7953"
             ],
             [
              0.7777777777777778,
              "#fb9f3a"
             ],
             [
              0.8888888888888888,
              "#fdca26"
             ],
             [
              1,
              "#f0f921"
             ]
            ],
            "type": "surface"
           }
          ],
          "table": [
           {
            "cells": {
             "fill": {
              "color": "#EBF0F8"
             },
             "line": {
              "color": "white"
             }
            },
            "header": {
             "fill": {
              "color": "#C8D4E3"
             },
             "line": {
              "color": "white"
             }
            },
            "type": "table"
           }
          ]
         },
         "layout": {
          "annotationdefaults": {
           "arrowcolor": "#2a3f5f",
           "arrowhead": 0,
           "arrowwidth": 1
          },
          "autotypenumbers": "strict",
          "coloraxis": {
           "colorbar": {
            "outlinewidth": 0,
            "ticks": ""
           }
          },
          "colorscale": {
           "diverging": [
            [
             0,
             "#8e0152"
            ],
            [
             0.1,
             "#c51b7d"
            ],
            [
             0.2,
             "#de77ae"
            ],
            [
             0.3,
             "#f1b6da"
            ],
            [
             0.4,
             "#fde0ef"
            ],
            [
             0.5,
             "#f7f7f7"
            ],
            [
             0.6,
             "#e6f5d0"
            ],
            [
             0.7,
             "#b8e186"
            ],
            [
             0.8,
             "#7fbc41"
            ],
            [
             0.9,
             "#4d9221"
            ],
            [
             1,
             "#276419"
            ]
           ],
           "sequential": [
            [
             0,
             "#0d0887"
            ],
            [
             0.1111111111111111,
             "#46039f"
            ],
            [
             0.2222222222222222,
             "#7201a8"
            ],
            [
             0.3333333333333333,
             "#9c179e"
            ],
            [
             0.4444444444444444,
             "#bd3786"
            ],
            [
             0.5555555555555556,
             "#d8576b"
            ],
            [
             0.6666666666666666,
             "#ed7953"
            ],
            [
             0.7777777777777778,
             "#fb9f3a"
            ],
            [
             0.8888888888888888,
             "#fdca26"
            ],
            [
             1,
             "#f0f921"
            ]
           ],
           "sequentialminus": [
            [
             0,
             "#0d0887"
            ],
            [
             0.1111111111111111,
             "#46039f"
            ],
            [
             0.2222222222222222,
             "#7201a8"
            ],
            [
             0.3333333333333333,
             "#9c179e"
            ],
            [
             0.4444444444444444,
             "#bd3786"
            ],
            [
             0.5555555555555556,
             "#d8576b"
            ],
            [
             0.6666666666666666,
             "#ed7953"
            ],
            [
             0.7777777777777778,
             "#fb9f3a"
            ],
            [
             0.8888888888888888,
             "#fdca26"
            ],
            [
             1,
             "#f0f921"
            ]
           ]
          },
          "colorway": [
           "#636efa",
           "#EF553B",
           "#00cc96",
           "#ab63fa",
           "#FFA15A",
           "#19d3f3",
           "#FF6692",
           "#B6E880",
           "#FF97FF",
           "#FECB52"
          ],
          "font": {
           "color": "#2a3f5f"
          },
          "geo": {
           "bgcolor": "white",
           "lakecolor": "white",
           "landcolor": "#E5ECF6",
           "showlakes": true,
           "showland": true,
           "subunitcolor": "white"
          },
          "hoverlabel": {
           "align": "left"
          },
          "hovermode": "closest",
          "mapbox": {
           "style": "light"
          },
          "paper_bgcolor": "white",
          "plot_bgcolor": "#E5ECF6",
          "polar": {
           "angularaxis": {
            "gridcolor": "white",
            "linecolor": "white",
            "ticks": ""
           },
           "bgcolor": "#E5ECF6",
           "radialaxis": {
            "gridcolor": "white",
            "linecolor": "white",
            "ticks": ""
           }
          },
          "scene": {
           "xaxis": {
            "backgroundcolor": "#E5ECF6",
            "gridcolor": "white",
            "gridwidth": 2,
            "linecolor": "white",
            "showbackground": true,
            "ticks": "",
            "zerolinecolor": "white"
           },
           "yaxis": {
            "backgroundcolor": "#E5ECF6",
            "gridcolor": "white",
            "gridwidth": 2,
            "linecolor": "white",
            "showbackground": true,
            "ticks": "",
            "zerolinecolor": "white"
           },
           "zaxis": {
            "backgroundcolor": "#E5ECF6",
            "gridcolor": "white",
            "gridwidth": 2,
            "linecolor": "white",
            "showbackground": true,
            "ticks": "",
            "zerolinecolor": "white"
           }
          },
          "shapedefaults": {
           "line": {
            "color": "#2a3f5f"
           }
          },
          "ternary": {
           "aaxis": {
            "gridcolor": "white",
            "linecolor": "white",
            "ticks": ""
           },
           "baxis": {
            "gridcolor": "white",
            "linecolor": "white",
            "ticks": ""
           },
           "bgcolor": "#E5ECF6",
           "caxis": {
            "gridcolor": "white",
            "linecolor": "white",
            "ticks": ""
           }
          },
          "title": {
           "x": 0.05
          },
          "xaxis": {
           "automargin": true,
           "gridcolor": "white",
           "linecolor": "white",
           "ticks": "",
           "title": {
            "standoff": 15
           },
           "zerolinecolor": "white",
           "zerolinewidth": 2
          },
          "yaxis": {
           "automargin": true,
           "gridcolor": "white",
           "linecolor": "white",
           "ticks": "",
           "title": {
            "standoff": 15
           },
           "zerolinecolor": "white",
           "zerolinewidth": 2
          }
         }
        },
        "title": {
         "text": "Best objective found vs. # of iterations"
        },
        "xaxis": {
         "title": {
          "text": "Iteration"
         }
        },
        "yaxis": {
         "title": {
          "text": "Viable_cross_terms"
         }
        }
       }
      }
     },
     "metadata": {},
     "output_type": "display_data"
    }
   ],
   "source": [
    "render(Tag_client.get_optimization_trace())"
   ]
  },
  {
   "cell_type": "code",
   "execution_count": 204,
   "metadata": {},
   "outputs": [
    {
     "name": "stderr",
     "output_type": "stream",
     "text": [
      "[INFO 04-05 14:02:41] ax.service.ax_client: Generated new trial 47 with parameters {'z_sh': 7, 'z_sh_1': 7, 'z_sh_2': 6, 'z_p2': 28, 'z_p2_1': 27, 'z_p2_2': 27, 'z_r2': 81, 'z_r2_1': 72, 'z_r2_2': 74, 'x_s': 0.5, 'x_s_1': 0.4, 'x_s_2': 0.3, 'x_p1': 0.784535, 'x_p1_1': 0.684535, 'x_p1_2': 0.584535, 'x_p2': 0.462021, 'x_p2_1': 0.362021, 'x_p2_2': 0.262021, 'x_r2': 1.110508, 'x_r2_1': 1.010508, 'x_r2_2': 0.910508} using model BoTorch.\n",
      "[INFO 04-05 14:02:41] ax.service.ax_client: Completed trial 47 with data: {'Viable_Cross_Terms': (33, None)}.\n",
      "[INFO 04-05 14:02:54] ax.service.ax_client: Generated new trial 48 with parameters {'z_sh': 12, 'z_sh_1': 14, 'z_sh_2': 8, 'z_p2': 29, 'z_p2_1': 27, 'z_p2_2': 32, 'z_r2': 79, 'z_r2_1': 84, 'z_r2_2': 83, 'x_s': 0.5, 'x_s_1': 0.4, 'x_s_2': 0.3, 'x_p1': 0.72406, 'x_p1_1': 0.62406, 'x_p1_2': 0.52406, 'x_p2': 0.496742, 'x_p2_1': 0.396742, 'x_p2_2': 0.296742, 'x_r2': 1.10906, 'x_r2_1': 1.00906, 'x_r2_2': 0.90906} using model BoTorch.\n",
      "[INFO 04-05 14:02:54] ax.service.ax_client: Completed trial 48 with data: {'Viable_Cross_Terms': (32, None)}.\n",
      "[INFO 04-05 14:03:08] ax.service.ax_client: Generated new trial 49 with parameters {'z_sh': 13, 'z_sh_1': 12, 'z_sh_2': 12, 'z_p2': 30, 'z_p2_1': 27, 'z_p2_2': 33, 'z_r2': 78, 'z_r2_1': 83, 'z_r2_2': 83, 'x_s': 0.5, 'x_s_1': 0.4, 'x_s_2': 0.3, 'x_p1': 0.657777, 'x_p1_1': 0.557777, 'x_p1_2': 0.457777, 'x_p2': 0.5, 'x_p2_1': 0.4, 'x_p2_2': 0.3, 'x_r2': -1.161871, 'x_r2_1': -1.261871, 'x_r2_2': -1.361871} using model BoTorch.\n",
      "[INFO 04-05 14:03:08] ax.service.ax_client: Completed trial 49 with data: {'Viable_Cross_Terms': (0, None)}.\n",
      "[INFO 04-05 14:03:22] ax.service.ax_client: Generated new trial 50 with parameters {'z_sh': 10, 'z_sh_1': 13, 'z_sh_2': 5, 'z_p2': 27, 'z_p2_1': 28, 'z_p2_2': 33, 'z_r2': 85, 'z_r2_1': 73, 'z_r2_2': 81, 'x_s': 0.5, 'x_s_1': 0.4, 'x_s_2': 0.3, 'x_p1': 0.692461, 'x_p1_1': 0.592461, 'x_p1_2': 0.492461, 'x_p2': 0.5, 'x_p2_1': 0.4, 'x_p2_2': 0.3, 'x_r2': 1.5, 'x_r2_1': 1.4, 'x_r2_2': 1.3} using model BoTorch.\n",
      "[INFO 04-05 14:03:22] ax.service.ax_client: Completed trial 50 with data: {'Viable_Cross_Terms': (0, None)}.\n",
      "[INFO 04-05 14:03:38] ax.service.ax_client: Generated new trial 51 with parameters {'z_sh': 8, 'z_sh_1': 6, 'z_sh_2': 5, 'z_p2': 27, 'z_p2_1': 27, 'z_p2_2': 31, 'z_r2': 84, 'z_r2_1': 78, 'z_r2_2': 70, 'x_s': 0.5, 'x_s_1': 0.4, 'x_s_2': 0.3, 'x_p1': 0.701106, 'x_p1_1': 0.601106, 'x_p1_2': 0.501106, 'x_p2': 0.5, 'x_p2_1': 0.4, 'x_p2_2': 0.3, 'x_r2': 1.200514, 'x_r2_1': 1.100514, 'x_r2_2': 1.000514} using model BoTorch.\n",
      "[INFO 04-05 14:03:38] ax.service.ax_client: Completed trial 51 with data: {'Viable_Cross_Terms': (27, None)}.\n",
      "[INFO 04-05 14:03:53] ax.service.ax_client: Generated new trial 52 with parameters {'z_sh': 13, 'z_sh_1': 7, 'z_sh_2': 7, 'z_p2': 29, 'z_p2_1': 28, 'z_p2_2': 31, 'z_r2': 74, 'z_r2_1': 83, 'z_r2_2': 76, 'x_s': 0.480645, 'x_s_1': 0.380645, 'x_s_2': 0.240927, 'x_p1': 0.703169, 'x_p1_1': 0.603169, 'x_p1_2': 0.503169, 'x_p2': 0.485495, 'x_p2_1': 0.385495, 'x_p2_2': 0.285495, 'x_r2': 0.974638, 'x_r2_1': 0.874638, 'x_r2_2': 0.774638} using model BoTorch.\n",
      "[INFO 04-05 14:03:53] ax.service.ax_client: Completed trial 52 with data: {'Viable_Cross_Terms': (32, None)}.\n",
      "[INFO 04-05 14:04:08] ax.service.ax_client: Generated new trial 53 with parameters {'z_sh': 11, 'z_sh_1': 10, 'z_sh_2': 5, 'z_p2': 28, 'z_p2_1': 33, 'z_p2_2': 29, 'z_r2': 78, 'z_r2_1': 74, 'z_r2_2': 77, 'x_s': 0.5, 'x_s_1': 0.4, 'x_s_2': 0.3, 'x_p1': 0.711412, 'x_p1_1': 0.611412, 'x_p1_2': 0.511412, 'x_p2': 0.5, 'x_p2_1': 0.4, 'x_p2_2': 0.3, 'x_r2': 1.230998, 'x_r2_1': 1.130998, 'x_r2_2': 1.030998} using model BoTorch.\n",
      "[INFO 04-05 14:04:08] ax.service.ax_client: Completed trial 53 with data: {'Viable_Cross_Terms': (20, None)}.\n",
      "[INFO 04-05 14:04:26] ax.service.ax_client: Generated new trial 54 with parameters {'z_sh': 15, 'z_sh_1': 9, 'z_sh_2': 6, 'z_p2': 30, 'z_p2_1': 27, 'z_p2_2': 33, 'z_r2': 77, 'z_r2_1': 84, 'z_r2_2': 80, 'x_s': 0.433936, 'x_s_1': 0.039859, 'x_s_2': -0.060141, 'x_p1': 1.0, 'x_p1_1': -0.115484, 'x_p1_2': -0.215484, 'x_p2': 0.5, 'x_p2_1': 0.4, 'x_p2_2': 0.079095, 'x_r2': 1.5, 'x_r2_1': 1.4, 'x_r2_2': 1.3} using model BoTorch.\n",
      "[INFO 04-05 14:04:26] ax.service.ax_client: Completed trial 54 with data: {'Viable_Cross_Terms': (14, None)}.\n",
      "[INFO 04-05 14:04:52] ax.service.ax_client: Generated new trial 55 with parameters {'z_sh': 15, 'z_sh_1': 6, 'z_sh_2': 6, 'z_p2': 30, 'z_p2_1': 29, 'z_p2_2': 28, 'z_r2': 78, 'z_r2_1': 79, 'z_r2_2': 78, 'x_s': 0.5, 'x_s_1': 0.4, 'x_s_2': 0.3, 'x_p1': 0.655973, 'x_p1_1': 0.555973, 'x_p1_2': 0.455973, 'x_p2': 0.47417, 'x_p2_1': 0.37417, 'x_p2_2': 0.27417, 'x_r2': 1.055469, 'x_r2_1': 0.955469, 'x_r2_2': 0.8462} using model BoTorch.\n",
      "[INFO 04-05 14:04:52] ax.service.ax_client: Completed trial 55 with data: {'Viable_Cross_Terms': (38, None)}.\n",
      "[INFO 04-05 14:05:10] ax.service.ax_client: Generated new trial 56 with parameters {'z_sh': 8, 'z_sh_1': 8, 'z_sh_2': 10, 'z_p2': 28, 'z_p2_1': 31, 'z_p2_2': 26, 'z_r2': 72, 'z_r2_1': 82, 'z_r2_2': 70, 'x_s': 0.188662, 'x_s_1': -0.021396, 'x_s_2': -0.347744, 'x_p1': 0.620754, 'x_p1_1': 0.520754, 'x_p1_2': 0.420754, 'x_p2': 0.022747, 'x_p2_1': -0.077253, 'x_p2_2': -0.177253, 'x_r2': 0.59046, 'x_r2_1': 0.49046, 'x_r2_2': -0.174717} using model BoTorch.\n",
      "[INFO 04-05 14:05:10] ax.service.ax_client: Completed trial 56 with data: {'Viable_Cross_Terms': (27, None)}.\n",
      "[INFO 04-05 14:05:28] ax.service.ax_client: Generated new trial 57 with parameters {'z_sh': 8, 'z_sh_1': 7, 'z_sh_2': 5, 'z_p2': 28, 'z_p2_1': 29, 'z_p2_2': 31, 'z_r2': 77, 'z_r2_1': 82, 'z_r2_2': 76, 'x_s': 0.5, 'x_s_1': 0.4, 'x_s_2': 0.3, 'x_p1': 0.693843, 'x_p1_1': 0.593843, 'x_p1_2': 0.493843, 'x_p2': 0.47838, 'x_p2_1': 0.37838, 'x_p2_2': 0.27838, 'x_r2': 1.029399, 'x_r2_1': 0.929399, 'x_r2_2': 0.829399} using model BoTorch.\n",
      "[INFO 04-05 14:05:28] ax.service.ax_client: Completed trial 57 with data: {'Viable_Cross_Terms': (45, None)}.\n",
      "[INFO 04-05 14:05:47] ax.service.ax_client: Generated new trial 58 with parameters {'z_sh': 7, 'z_sh_1': 6, 'z_sh_2': 5, 'z_p2': 29, 'z_p2_1': 27, 'z_p2_2': 32, 'z_r2': 81, 'z_r2_1': 72, 'z_r2_2': 76, 'x_s': 0.5, 'x_s_1': 0.4, 'x_s_2': 0.3, 'x_p1': 0.684212, 'x_p1_1': 0.578755, 'x_p1_2': 0.478755, 'x_p2': 0.477955, 'x_p2_1': 0.377955, 'x_p2_2': 0.277955, 'x_r2': 0.961463, 'x_r2_1': 0.861463, 'x_r2_2': 0.761463} using model BoTorch.\n",
      "[INFO 04-05 14:05:47] ax.service.ax_client: Completed trial 58 with data: {'Viable_Cross_Terms': (31, None)}.\n",
      "[INFO 04-05 14:06:02] ax.service.ax_client: Generated new trial 59 with parameters {'z_sh': 7, 'z_sh_1': 6, 'z_sh_2': 6, 'z_p2': 28, 'z_p2_1': 27, 'z_p2_2': 26, 'z_r2': 76, 'z_r2_1': 73, 'z_r2_2': 83, 'x_s': 0.5, 'x_s_1': 0.4, 'x_s_2': 0.3, 'x_p1': 0.800905, 'x_p1_1': 0.700905, 'x_p1_2': 0.600905, 'x_p2': 0.5, 'x_p2_1': 0.4, 'x_p2_2': 0.3, 'x_r2': 1.275271, 'x_r2_1': 1.175271, 'x_r2_2': 1.075271} using model BoTorch.\n",
      "[INFO 04-05 14:06:02] ax.service.ax_client: Completed trial 59 with data: {'Viable_Cross_Terms': (15, None)}.\n",
      "[INFO 04-05 14:06:18] ax.service.ax_client: Generated new trial 60 with parameters {'z_sh': 9, 'z_sh_1': 13, 'z_sh_2': 8, 'z_p2': 27, 'z_p2_1': 28, 'z_p2_2': 29, 'z_r2': 81, 'z_r2_1': 80, 'z_r2_2': 80, 'x_s': 0.5, 'x_s_1': 0.4, 'x_s_2': 0.3, 'x_p1': 0.901557, 'x_p1_1': 0.801557, 'x_p1_2': 0.701557, 'x_p2': 0.368371, 'x_p2_1': 0.268371, 'x_p2_2': 0.168371, 'x_r2': 1.019715, 'x_r2_1': 0.919715, 'x_r2_2': 0.819715} using model BoTorch.\n",
      "[INFO 04-05 14:06:18] ax.service.ax_client: Completed trial 60 with data: {'Viable_Cross_Terms': (30, None)}.\n",
      "[INFO 04-05 14:06:34] ax.service.ax_client: Generated new trial 61 with parameters {'z_sh': 15, 'z_sh_1': 9, 'z_sh_2': 10, 'z_p2': 28, 'z_p2_1': 31, 'z_p2_2': 31, 'z_r2': 79, 'z_r2_1': 80, 'z_r2_2': 76, 'x_s': 0.5, 'x_s_1': 0.4, 'x_s_2': 0.3, 'x_p1': 0.996157, 'x_p1_1': 0.883027, 'x_p1_2': 0.783027, 'x_p2': 0.443229, 'x_p2_1': 0.343229, 'x_p2_2': 0.243229, 'x_r2': 1.064984, 'x_r2_1': 0.964984, 'x_r2_2': 0.864984} using model BoTorch.\n",
      "[INFO 04-05 14:06:34] ax.service.ax_client: Completed trial 61 with data: {'Viable_Cross_Terms': (19, None)}.\n",
      "[INFO 04-05 14:06:50] ax.service.ax_client: Generated new trial 62 with parameters {'z_sh': 8, 'z_sh_1': 10, 'z_sh_2': 8, 'z_p2': 30, 'z_p2_1': 27, 'z_p2_2': 29, 'z_r2': 74, 'z_r2_1': 79, 'z_r2_2': 79, 'x_s': 0.5, 'x_s_1': 0.4, 'x_s_2': 0.3, 'x_p1': 0.777986, 'x_p1_1': 0.677986, 'x_p1_2': 0.577986, 'x_p2': 0.36362, 'x_p2_1': 0.26362, 'x_p2_2': 0.16362, 'x_r2': 0.923807, 'x_r2_1': 0.823807, 'x_r2_2': 0.723807} using model BoTorch.\n",
      "[INFO 04-05 14:06:50] ax.service.ax_client: Completed trial 62 with data: {'Viable_Cross_Terms': (33, None)}.\n",
      "[INFO 04-05 14:07:04] ax.service.ax_client: Generated new trial 63 with parameters {'z_sh': 7, 'z_sh_1': 12, 'z_sh_2': 5, 'z_p2': 33, 'z_p2_1': 28, 'z_p2_2': 31, 'z_r2': 83, 'z_r2_1': 73, 'z_r2_2': 83, 'x_s': 0.5, 'x_s_1': 0.4, 'x_s_2': -0.5, 'x_p1': 1.0, 'x_p1_1': 0.9, 'x_p1_2': 0.8, 'x_p2': -0.3, 'x_p2_1': -0.4, 'x_p2_2': -0.5, 'x_r2': -1.3, 'x_r2_1': -1.4, 'x_r2_2': -1.5} using model BoTorch.\n",
      "[INFO 04-05 14:07:04] ax.service.ax_client: Completed trial 63 with data: {'Viable_Cross_Terms': (9, None)}.\n",
      "[INFO 04-05 14:07:19] ax.service.ax_client: Generated new trial 64 with parameters {'z_sh': 8, 'z_sh_1': 12, 'z_sh_2': 13, 'z_p2': 27, 'z_p2_1': 34, 'z_p2_2': 30, 'z_r2': 75, 'z_r2_1': 71, 'z_r2_2': 84, 'x_s': -0.3, 'x_s_1': -0.4, 'x_s_2': -0.5, 'x_p1': 1.0, 'x_p1_1': 0.9, 'x_p1_2': -1.0, 'x_p2': 0.5, 'x_p2_1': 0.4, 'x_p2_2': 0.3, 'x_r2': -1.3, 'x_r2_1': -1.4, 'x_r2_2': -1.5} using model BoTorch.\n",
      "[INFO 04-05 14:07:19] ax.service.ax_client: Completed trial 64 with data: {'Viable_Cross_Terms': (0, None)}.\n",
      "[INFO 04-05 14:07:35] ax.service.ax_client: Generated new trial 65 with parameters {'z_sh': 11, 'z_sh_1': 10, 'z_sh_2': 5, 'z_p2': 27, 'z_p2_1': 30, 'z_p2_2': 28, 'z_r2': 73, 'z_r2_1': 79, 'z_r2_2': 79, 'x_s': 0.493699, 'x_s_1': 0.393699, 'x_s_2': 0.28193, 'x_p1': 0.796155, 'x_p1_1': 0.696155, 'x_p1_2': 0.596155, 'x_p2': 0.346883, 'x_p2_1': 0.246883, 'x_p2_2': 0.146883, 'x_r2': 0.875249, 'x_r2_1': 0.759584, 'x_r2_2': 0.6365} using model BoTorch.\n",
      "[INFO 04-05 14:07:35] ax.service.ax_client: Completed trial 65 with data: {'Viable_Cross_Terms': (23, None)}.\n",
      "[INFO 04-05 14:07:51] ax.service.ax_client: Generated new trial 66 with parameters {'z_sh': 10, 'z_sh_1': 14, 'z_sh_2': 5, 'z_p2': 28, 'z_p2_1': 33, 'z_p2_2': 31, 'z_r2': 77, 'z_r2_1': 74, 'z_r2_2': 77, 'x_s': 0.5, 'x_s_1': 0.4, 'x_s_2': 0.3, 'x_p1': 0.730707, 'x_p1_1': 0.630707, 'x_p1_2': 0.530707, 'x_p2': 0.45756, 'x_p2_1': 0.35756, 'x_p2_2': 0.25756, 'x_r2': 1.05376, 'x_r2_1': 0.95376, 'x_r2_2': 0.85376} using model BoTorch.\n",
      "[INFO 04-05 14:07:51] ax.service.ax_client: Completed trial 66 with data: {'Viable_Cross_Terms': (40, None)}.\n",
      "[INFO 04-05 14:08:09] ax.service.ax_client: Generated new trial 67 with parameters {'z_sh': 7, 'z_sh_1': 6, 'z_sh_2': 11, 'z_p2': 27, 'z_p2_1': 29, 'z_p2_2': 31, 'z_r2': 77, 'z_r2_1': 75, 'z_r2_2': 80, 'x_s': 0.5, 'x_s_1': 0.4, 'x_s_2': 0.3, 'x_p1': 0.736333, 'x_p1_1': 0.636333, 'x_p1_2': 0.536333, 'x_p2': 0.449874, 'x_p2_1': 0.349874, 'x_p2_2': 0.249874, 'x_r2': 1.066419, 'x_r2_1': 0.966419, 'x_r2_2': 0.866419} using model BoTorch.\n",
      "[INFO 04-05 14:08:09] ax.service.ax_client: Completed trial 67 with data: {'Viable_Cross_Terms': (45, None)}.\n",
      "[INFO 04-05 14:08:26] ax.service.ax_client: Generated new trial 68 with parameters {'z_sh': 8, 'z_sh_1': 10, 'z_sh_2': 5, 'z_p2': 31, 'z_p2_1': 28, 'z_p2_2': 31, 'z_r2': 76, 'z_r2_1': 80, 'z_r2_2': 82, 'x_s': 0.5, 'x_s_1': 0.4, 'x_s_2': 0.3, 'x_p1': 0.858479, 'x_p1_1': 0.671279, 'x_p1_2': 0.567458, 'x_p2': 0.418936, 'x_p2_1': 0.318936, 'x_p2_2': 0.20825, 'x_r2': 1.104072, 'x_r2_1': 1.004072, 'x_r2_2': 0.904072} using model BoTorch.\n",
      "[INFO 04-05 14:08:26] ax.service.ax_client: Completed trial 68 with data: {'Viable_Cross_Terms': (84, None)}.\n",
      "[INFO 04-05 14:08:43] ax.service.ax_client: Generated new trial 69 with parameters {'z_sh': 7, 'z_sh_1': 10, 'z_sh_2': 5, 'z_p2': 30, 'z_p2_1': 29, 'z_p2_2': 31, 'z_r2': 79, 'z_r2_1': 80, 'z_r2_2': 82, 'x_s': 0.5, 'x_s_1': 0.4, 'x_s_2': 0.3, 'x_p1': 0.853971, 'x_p1_1': 0.753971, 'x_p1_2': 0.653971, 'x_p2': 0.474759, 'x_p2_1': 0.374759, 'x_p2_2': 0.274759, 'x_r2': 1.256449, 'x_r2_1': 1.156449, 'x_r2_2': 1.056449} using model BoTorch.\n",
      "[INFO 04-05 14:08:43] ax.service.ax_client: Completed trial 69 with data: {'Viable_Cross_Terms': (78, None)}.\n",
      "[INFO 04-05 14:08:58] ax.service.ax_client: Generated new trial 70 with parameters {'z_sh': 8, 'z_sh_1': 8, 'z_sh_2': 5, 'z_p2': 28, 'z_p2_1': 28, 'z_p2_2': 31, 'z_r2': 79, 'z_r2_1': 82, 'z_r2_2': 80, 'x_s': 0.5, 'x_s_1': 0.4, 'x_s_2': 0.3, 'x_p1': 0.824975, 'x_p1_1': 0.547064, 'x_p1_2': 0.447064, 'x_p2': 0.382633, 'x_p2_1': 0.282633, 'x_p2_2': 0.177532, 'x_r2': 0.959972, 'x_r2_1': 0.859972, 'x_r2_2': 0.759972} using model BoTorch.\n",
      "[INFO 04-05 14:08:58] ax.service.ax_client: Completed trial 70 with data: {'Viable_Cross_Terms': (72, None)}.\n",
      "[INFO 04-05 14:09:14] ax.service.ax_client: Generated new trial 71 with parameters {'z_sh': 10, 'z_sh_1': 9, 'z_sh_2': 10, 'z_p2': 30, 'z_p2_1': 29, 'z_p2_2': 31, 'z_r2': 79, 'z_r2_1': 71, 'z_r2_2': 71, 'x_s': 0.5, 'x_s_1': 0.4, 'x_s_2': 0.3, 'x_p1': 0.667447, 'x_p1_1': 0.567447, 'x_p1_2': 0.467447, 'x_p2': 0.5, 'x_p2_1': 0.4, 'x_p2_2': 0.3, 'x_r2': 1.144076, 'x_r2_1': 1.044076, 'x_r2_2': 0.944076} using model BoTorch.\n",
      "[INFO 04-05 14:09:14] ax.service.ax_client: Completed trial 71 with data: {'Viable_Cross_Terms': (30, None)}.\n",
      "[INFO 04-05 14:09:29] ax.service.ax_client: Generated new trial 72 with parameters {'z_sh': 8, 'z_sh_1': 9, 'z_sh_2': 7, 'z_p2': 28, 'z_p2_1': 29, 'z_p2_2': 28, 'z_r2': 81, 'z_r2_1': 74, 'z_r2_2': 79, 'x_s': 0.5, 'x_s_1': 0.4, 'x_s_2': 0.3, 'x_p1': 1.0, 'x_p1_1': 0.9, 'x_p1_2': 0.8, 'x_p2': 0.5, 'x_p2_1': 0.4, 'x_p2_2': 0.3, 'x_r2': 1.5, 'x_r2_1': 1.4, 'x_r2_2': 1.3} using model BoTorch.\n",
      "[INFO 04-05 14:09:29] ax.service.ax_client: Completed trial 72 with data: {'Viable_Cross_Terms': (0, None)}.\n",
      "[INFO 04-05 14:09:45] ax.service.ax_client: Generated new trial 73 with parameters {'z_sh': 14, 'z_sh_1': 8, 'z_sh_2': 10, 'z_p2': 30, 'z_p2_1': 30, 'z_p2_2': 25, 'z_r2': 77, 'z_r2_1': 81, 'z_r2_2': 79, 'x_s': -0.3, 'x_s_1': -0.4, 'x_s_2': -0.5, 'x_p1': 0.537376, 'x_p1_1': 0.437376, 'x_p1_2': 0.337376, 'x_p2': 0.430466, 'x_p2_1': 0.330466, 'x_p2_2': 0.230466, 'x_r2': -1.145629, 'x_r2_1': -1.245629, 'x_r2_2': -1.345629} using model BoTorch.\n",
      "[INFO 04-05 14:09:45] ax.service.ax_client: Completed trial 73 with data: {'Viable_Cross_Terms': (0, None)}.\n",
      "[INFO 04-05 14:09:59] ax.service.ax_client: Generated new trial 74 with parameters {'z_sh': 9, 'z_sh_1': 11, 'z_sh_2': 5, 'z_p2': 32, 'z_p2_1': 32, 'z_p2_2': 31, 'z_r2': 84, 'z_r2_1': 79, 'z_r2_2': 81, 'x_s': 0.5, 'x_s_1': 0.4, 'x_s_2': 0.3, 'x_p1': 0.795713, 'x_p1_1': 0.589237, 'x_p1_2': 0.489237, 'x_p2': 0.377679, 'x_p2_1': 0.277679, 'x_p2_2': 0.175617, 'x_r2': 0.883481, 'x_r2_1': 0.783481, 'x_r2_2': 0.683481} using model BoTorch.\n",
      "[INFO 04-05 14:09:59] ax.service.ax_client: Completed trial 74 with data: {'Viable_Cross_Terms': (25, None)}.\n",
      "[INFO 04-05 14:10:14] ax.service.ax_client: Generated new trial 75 with parameters {'z_sh': 11, 'z_sh_1': 14, 'z_sh_2': 5, 'z_p2': 33, 'z_p2_1': 29, 'z_p2_2': 31, 'z_r2': 79, 'z_r2_1': 83, 'z_r2_2': 82, 'x_s': 0.5, 'x_s_1': 0.4, 'x_s_2': 0.3, 'x_p1': 0.830362, 'x_p1_1': 0.698349, 'x_p1_2': 0.584573, 'x_p2': 0.39455, 'x_p2_1': 0.29455, 'x_p2_2': 0.19455, 'x_r2': 1.066872, 'x_r2_1': 0.946373, 'x_r2_2': 0.845318} using model BoTorch.\n",
      "[INFO 04-05 14:10:14] ax.service.ax_client: Completed trial 75 with data: {'Viable_Cross_Terms': (34, None)}.\n",
      "[INFO 04-05 14:10:27] ax.service.ax_client: Generated new trial 76 with parameters {'z_sh': 7, 'z_sh_1': 6, 'z_sh_2': 5, 'z_p2': 29, 'z_p2_1': 33, 'z_p2_2': 31, 'z_r2': 74, 'z_r2_1': 80, 'z_r2_2': 82, 'x_s': 0.5, 'x_s_1': 0.4, 'x_s_2': 0.3, 'x_p1': 0.868467, 'x_p1_1': 0.677866, 'x_p1_2': 0.577866, 'x_p2': 0.46701, 'x_p2_1': 0.36701, 'x_p2_2': 0.257946, 'x_r2': 1.20728, 'x_r2_1': 1.10728, 'x_r2_2': 1.00728} using model BoTorch.\n",
      "[INFO 04-05 14:10:27] ax.service.ax_client: Completed trial 76 with data: {'Viable_Cross_Terms': (79, None)}.\n",
      "[INFO 04-05 14:10:42] ax.service.ax_client: Generated new trial 77 with parameters {'z_sh': 8, 'z_sh_1': 12, 'z_sh_2': 5, 'z_p2': 32, 'z_p2_1': 28, 'z_p2_2': 30, 'z_r2': 77, 'z_r2_1': 72, 'z_r2_2': 72, 'x_s': 0.498403, 'x_s_1': 0.398403, 'x_s_2': 0.298403, 'x_p1': 0.585424, 'x_p1_1': 0.485424, 'x_p1_2': 0.385424, 'x_p2': 0.49372, 'x_p2_1': 0.39372, 'x_p2_2': 0.29372, 'x_r2': 0.890064, 'x_r2_1': 0.790064, 'x_r2_2': 0.690064} using model BoTorch.\n",
      "[INFO 04-05 14:10:42] ax.service.ax_client: Completed trial 77 with data: {'Viable_Cross_Terms': (29, None)}.\n",
      "[INFO 04-05 14:10:58] ax.service.ax_client: Generated new trial 78 with parameters {'z_sh': 7, 'z_sh_1': 10, 'z_sh_2': 8, 'z_p2': 30, 'z_p2_1': 33, 'z_p2_2': 28, 'z_r2': 82, 'z_r2_1': 75, 'z_r2_2': 84, 'x_s': 0.5, 'x_s_1': 0.4, 'x_s_2': 0.3, 'x_p1': 1.0, 'x_p1_1': 0.700313, 'x_p1_2': 0.396762, 'x_p2': -0.3, 'x_p2_1': -0.4, 'x_p2_2': -0.5, 'x_r2': 0.398331, 'x_r2_1': 0.298331, 'x_r2_2': 0.198331} using model BoTorch.\n",
      "[INFO 04-05 14:10:58] ax.service.ax_client: Completed trial 78 with data: {'Viable_Cross_Terms': (53, None)}.\n",
      "[INFO 04-05 14:11:13] ax.service.ax_client: Generated new trial 79 with parameters {'z_sh': 9, 'z_sh_1': 11, 'z_sh_2': 12, 'z_p2': 28, 'z_p2_1': 32, 'z_p2_2': 28, 'z_r2': 73, 'z_r2_1': 79, 'z_r2_2': 83, 'x_s': 0.5, 'x_s_1': 0.4, 'x_s_2': 0.3, 'x_p1': 1.0, 'x_p1_1': 0.9, 'x_p1_2': 0.758141, 'x_p2': -0.036293, 'x_p2_1': -0.136293, 'x_p2_2': -0.236293, 'x_r2': 1.5, 'x_r2_1': 1.4, 'x_r2_2': 1.3} using model BoTorch.\n",
      "[INFO 04-05 14:11:13] ax.service.ax_client: Completed trial 79 with data: {'Viable_Cross_Terms': (0, None)}.\n",
      "[INFO 04-05 14:11:27] ax.service.ax_client: Generated new trial 80 with parameters {'z_sh': 7, 'z_sh_1': 6, 'z_sh_2': 5, 'z_p2': 28, 'z_p2_1': 29, 'z_p2_2': 30, 'z_r2': 76, 'z_r2_1': 79, 'z_r2_2': 80, 'x_s': 0.5, 'x_s_1': 0.4, 'x_s_2': 0.3, 'x_p1': 0.781749, 'x_p1_1': 0.659294, 'x_p1_2': 0.548562, 'x_p2': 0.425516, 'x_p2_1': 0.325516, 'x_p2_2': 0.225516, 'x_r2': 0.964381, 'x_r2_1': 0.864381, 'x_r2_2': 0.764381} using model BoTorch.\n",
      "[INFO 04-05 14:11:27] ax.service.ax_client: Completed trial 80 with data: {'Viable_Cross_Terms': (61, None)}.\n",
      "[INFO 04-05 14:11:41] ax.service.ax_client: Generated new trial 81 with parameters {'z_sh': 7, 'z_sh_1': 8, 'z_sh_2': 5, 'z_p2': 28, 'z_p2_1': 30, 'z_p2_2': 31, 'z_r2': 81, 'z_r2_1': 72, 'z_r2_2': 70, 'x_s': 0.5, 'x_s_1': 0.4, 'x_s_2': 0.3, 'x_p1': 0.614469, 'x_p1_1': 0.514469, 'x_p1_2': 0.414469, 'x_p2': 0.5, 'x_p2_1': 0.4, 'x_p2_2': 0.3, 'x_r2': 1.097156, 'x_r2_1': 0.997156, 'x_r2_2': 0.897156} using model BoTorch.\n",
      "[INFO 04-05 14:11:41] ax.service.ax_client: Completed trial 81 with data: {'Viable_Cross_Terms': (43, None)}.\n",
      "[INFO 04-05 14:11:55] ax.service.ax_client: Generated new trial 82 with parameters {'z_sh': 11, 'z_sh_1': 8, 'z_sh_2': 5, 'z_p2': 32, 'z_p2_1': 30, 'z_p2_2': 28, 'z_r2': 78, 'z_r2_1': 73, 'z_r2_2': 83, 'x_s': 0.5, 'x_s_1': 0.4, 'x_s_2': 0.3, 'x_p1': 0.884229, 'x_p1_1': 0.614799, 'x_p1_2': 0.439239, 'x_p2': 0.011312, 'x_p2_1': -0.088688, 'x_p2_2': -0.188688, 'x_r2': 0.582048, 'x_r2_1': 0.482048, 'x_r2_2': 0.382048} using model BoTorch.\n",
      "[INFO 04-05 14:11:55] ax.service.ax_client: Completed trial 82 with data: {'Viable_Cross_Terms': (35, None)}.\n",
      "[INFO 04-05 14:12:10] ax.service.ax_client: Generated new trial 83 with parameters {'z_sh': 8, 'z_sh_1': 11, 'z_sh_2': 7, 'z_p2': 28, 'z_p2_1': 29, 'z_p2_2': 30, 'z_r2': 80, 'z_r2_1': 77, 'z_r2_2': 83, 'x_s': 0.5, 'x_s_1': 0.4, 'x_s_2': 0.3, 'x_p1': 0.887743, 'x_p1_1': 0.673977, 'x_p1_2': 0.516444, 'x_p2': 0.159506, 'x_p2_1': 0.059506, 'x_p2_2': -0.040494, 'x_r2': 0.814772, 'x_r2_1': 0.714772, 'x_r2_2': 0.614772} using model BoTorch.\n",
      "[INFO 04-05 14:12:10] ax.service.ax_client: Completed trial 83 with data: {'Viable_Cross_Terms': (30, None)}.\n",
      "[INFO 04-05 14:12:24] ax.service.ax_client: Generated new trial 84 with parameters {'z_sh': 10, 'z_sh_1': 6, 'z_sh_2': 5, 'z_p2': 31, 'z_p2_1': 34, 'z_p2_2': 32, 'z_r2': 82, 'z_r2_1': 85, 'z_r2_2': 84, 'x_s': 0.499787, 'x_s_1': 0.399787, 'x_s_2': 0.299787, 'x_p1': 0.870576, 'x_p1_1': 0.698586, 'x_p1_2': 0.598586, 'x_p2': 0.487401, 'x_p2_1': 0.387401, 'x_p2_2': 0.277195, 'x_r2': 1.201698, 'x_r2_1': 1.101698, 'x_r2_2': 0.994451} using model BoTorch.\n",
      "[INFO 04-05 14:12:24] ax.service.ax_client: Completed trial 84 with data: {'Viable_Cross_Terms': (20, None)}.\n",
      "[INFO 04-05 14:12:38] ax.service.ax_client: Generated new trial 85 with parameters {'z_sh': 8, 'z_sh_1': 7, 'z_sh_2': 6, 'z_p2': 31, 'z_p2_1': 29, 'z_p2_2': 31, 'z_r2': 72, 'z_r2_1': 81, 'z_r2_2': 83, 'x_s': 0.5, 'x_s_1': 0.4, 'x_s_2': 0.3, 'x_p1': 0.872344, 'x_p1_1': 0.666714, 'x_p1_2': 0.566714, 'x_p2': 0.470917, 'x_p2_1': 0.370917, 'x_p2_2': 0.264276, 'x_r2': 1.187571, 'x_r2_1': 1.087571, 'x_r2_2': 0.987571} using model BoTorch.\n",
      "[INFO 04-05 14:12:38] ax.service.ax_client: Completed trial 85 with data: {'Viable_Cross_Terms': (30, None)}.\n",
      "[INFO 04-05 14:12:51] ax.service.ax_client: Generated new trial 86 with parameters {'z_sh': 7, 'z_sh_1': 11, 'z_sh_2': 9, 'z_p2': 27, 'z_p2_1': 29, 'z_p2_2': 28, 'z_r2': 79, 'z_r2_1': 83, 'z_r2_2': 78, 'x_s': 0.5, 'x_s_1': 0.4, 'x_s_2': 0.3, 'x_p1': 1.0, 'x_p1_1': 0.9, 'x_p1_2': 0.8, 'x_p2': -0.240677, 'x_p2_1': -0.340677, 'x_p2_2': -0.440677, 'x_r2': -0.414607, 'x_r2_1': -0.514607, 'x_r2_2': -0.614607} using model BoTorch.\n",
      "[INFO 04-05 14:12:51] ax.service.ax_client: Completed trial 86 with data: {'Viable_Cross_Terms': (0, None)}.\n",
      "[INFO 04-05 14:13:05] ax.service.ax_client: Generated new trial 87 with parameters {'z_sh': 14, 'z_sh_1': 13, 'z_sh_2': 11, 'z_p2': 34, 'z_p2_1': 27, 'z_p2_2': 27, 'z_r2': 72, 'z_r2_1': 76, 'z_r2_2': 77, 'x_s': -0.3, 'x_s_1': -0.4, 'x_s_2': -0.5, 'x_p1': 1.0, 'x_p1_1': 0.9, 'x_p1_2': 0.8, 'x_p2': 0.5, 'x_p2_1': 0.4, 'x_p2_2': 0.3, 'x_r2': 1.5, 'x_r2_1': 1.4, 'x_r2_2': 1.3} using model BoTorch.\n",
      "[INFO 04-05 14:13:05] ax.service.ax_client: Completed trial 87 with data: {'Viable_Cross_Terms': (0, None)}.\n",
      "[INFO 04-05 14:13:19] ax.service.ax_client: Generated new trial 88 with parameters {'z_sh': 10, 'z_sh_1': 9, 'z_sh_2': 5, 'z_p2': 28, 'z_p2_1': 32, 'z_p2_2': 31, 'z_r2': 77, 'z_r2_1': 72, 'z_r2_2': 83, 'x_s': 0.5, 'x_s_1': 0.4, 'x_s_2': 0.3, 'x_p1': 1.0, 'x_p1_1': 0.849039, 'x_p1_2': 0.749039, 'x_p2': 0.5, 'x_p2_1': 0.4, 'x_p2_2': 0.3, 'x_r2': 1.24564, 'x_r2_1': 1.14564, 'x_r2_2': 1.04564} using model BoTorch.\n",
      "[INFO 04-05 14:13:19] ax.service.ax_client: Completed trial 88 with data: {'Viable_Cross_Terms': (13, None)}.\n",
      "[INFO 04-05 14:13:33] ax.service.ax_client: Generated new trial 89 with parameters {'z_sh': 8, 'z_sh_1': 10, 'z_sh_2': 7, 'z_p2': 28, 'z_p2_1': 32, 'z_p2_2': 32, 'z_r2': 76, 'z_r2_1': 79, 'z_r2_2': 81, 'x_s': 0.5, 'x_s_1': 0.4, 'x_s_2': 0.3, 'x_p1': 0.795033, 'x_p1_1': 0.650515, 'x_p1_2': 0.550515, 'x_p2': 0.460518, 'x_p2_1': 0.360518, 'x_p2_2': 0.254987, 'x_r2': 1.144974, 'x_r2_1': 1.044974, 'x_r2_2': 0.944974} using model BoTorch.\n",
      "[INFO 04-05 14:13:33] ax.service.ax_client: Completed trial 89 with data: {'Viable_Cross_Terms': (31, None)}.\n",
      "[INFO 04-05 14:13:47] ax.service.ax_client: Generated new trial 90 with parameters {'z_sh': 8, 'z_sh_1': 13, 'z_sh_2': 9, 'z_p2': 28, 'z_p2_1': 31, 'z_p2_2': 28, 'z_r2': 83, 'z_r2_1': 76, 'z_r2_2': 82, 'x_s': 0.5, 'x_s_1': 0.4, 'x_s_2': 0.3, 'x_p1': 1.0, 'x_p1_1': 0.709547, 'x_p1_2': 0.412242, 'x_p2': -0.3, 'x_p2_1': -0.4, 'x_p2_2': -0.5, 'x_r2': 0.42105, 'x_r2_1': 0.32105, 'x_r2_2': 0.22105} using model BoTorch.\n",
      "[INFO 04-05 14:13:47] ax.service.ax_client: Completed trial 90 with data: {'Viable_Cross_Terms': (85, None)}.\n",
      "[INFO 04-05 14:14:01] ax.service.ax_client: Generated new trial 91 with parameters {'z_sh': 8, 'z_sh_1': 13, 'z_sh_2': 9, 'z_p2': 28, 'z_p2_1': 29, 'z_p2_2': 29, 'z_r2': 81, 'z_r2_1': 77, 'z_r2_2': 82, 'x_s': 0.5, 'x_s_1': 0.4, 'x_s_2': 0.3, 'x_p1': 1.0, 'x_p1_1': 0.719959, 'x_p1_2': 0.418768, 'x_p2': -0.288923, 'x_p2_1': -0.388923, 'x_p2_2': -0.488923, 'x_r2': 0.501484, 'x_r2_1': 0.401484, 'x_r2_2': 0.301484} using model BoTorch.\n",
      "[INFO 04-05 14:14:01] ax.service.ax_client: Completed trial 91 with data: {'Viable_Cross_Terms': (24, None)}.\n",
      "[INFO 04-05 14:14:15] ax.service.ax_client: Generated new trial 92 with parameters {'z_sh': 15, 'z_sh_1': 10, 'z_sh_2': 6, 'z_p2': 29, 'z_p2_1': 33, 'z_p2_2': 28, 'z_r2': 82, 'z_r2_1': 74, 'z_r2_2': 82, 'x_s': 0.5, 'x_s_1': 0.4, 'x_s_2': 0.3, 'x_p1': 0.975192, 'x_p1_1': 0.708219, 'x_p1_2': 0.441977, 'x_p2': -0.268495, 'x_p2_1': -0.368495, 'x_p2_2': -0.468495, 'x_r2': 0.430608, 'x_r2_1': 0.330608, 'x_r2_2': 0.230608} using model BoTorch.\n",
      "[INFO 04-05 14:14:15] ax.service.ax_client: Completed trial 92 with data: {'Viable_Cross_Terms': (23, None)}.\n",
      "[INFO 04-05 14:14:30] ax.service.ax_client: Generated new trial 93 with parameters {'z_sh': 13, 'z_sh_1': 6, 'z_sh_2': 9, 'z_p2': 33, 'z_p2_1': 26, 'z_p2_2': 31, 'z_r2': 83, 'z_r2_1': 74, 'z_r2_2': 73, 'x_s': 0.5, 'x_s_1': 0.4, 'x_s_2': 0.3, 'x_p1': 0.621639, 'x_p1_1': 0.521639, 'x_p1_2': 0.421639, 'x_p2': 0.5, 'x_p2_1': 0.4, 'x_p2_2': 0.3, 'x_r2': 1.032178, 'x_r2_1': 0.932178, 'x_r2_2': 0.832178} using model BoTorch.\n",
      "[INFO 04-05 14:14:30] ax.service.ax_client: Completed trial 93 with data: {'Viable_Cross_Terms': (35, None)}.\n",
      "[INFO 04-05 14:14:47] ax.service.ax_client: Generated new trial 94 with parameters {'z_sh': 10, 'z_sh_1': 14, 'z_sh_2': 11, 'z_p2': 30, 'z_p2_1': 27, 'z_p2_2': 31, 'z_r2': 75, 'z_r2_1': 80, 'z_r2_2': 77, 'x_s': 0.497571, 'x_s_1': 0.397571, 'x_s_2': 0.295871, 'x_p1': 0.84242, 'x_p1_1': 0.612819, 'x_p1_2': 0.512819, 'x_p2': 0.415432, 'x_p2_1': 0.315432, 'x_p2_2': 0.206518, 'x_r2': 1.068857, 'x_r2_1': 0.968857, 'x_r2_2': 0.868857} using model BoTorch.\n",
      "[INFO 04-05 14:14:47] ax.service.ax_client: Completed trial 94 with data: {'Viable_Cross_Terms': (35, None)}.\n",
      "[INFO 04-05 14:15:02] ax.service.ax_client: Generated new trial 95 with parameters {'z_sh': 12, 'z_sh_1': 12, 'z_sh_2': 6, 'z_p2': 30, 'z_p2_1': 28, 'z_p2_2': 31, 'z_r2': 78, 'z_r2_1': 83, 'z_r2_2': 78, 'x_s': 0.435999, 'x_s_1': 0.258323, 'x_s_2': 0.141228, 'x_p1': 0.826763, 'x_p1_1': 0.281723, 'x_p1_2': 0.152549, 'x_p2': 0.5, 'x_p2_1': 0.4, 'x_p2_2': 0.3, 'x_r2': 1.001024, 'x_r2_1': 0.901024, 'x_r2_2': 0.720595} using model BoTorch.\n",
      "[INFO 04-05 14:15:02] ax.service.ax_client: Completed trial 95 with data: {'Viable_Cross_Terms': (17, None)}.\n",
      "[INFO 04-05 14:15:16] ax.service.ax_client: Generated new trial 96 with parameters {'z_sh': 7, 'z_sh_1': 11, 'z_sh_2': 6, 'z_p2': 30, 'z_p2_1': 28, 'z_p2_2': 28, 'z_r2': 79, 'z_r2_1': 79, 'z_r2_2': 78, 'x_s': 0.5, 'x_s_1': 0.4, 'x_s_2': 0.3, 'x_p1': 1.0, 'x_p1_1': 0.9, 'x_p1_2': 0.8, 'x_p2': 0.411094, 'x_p2_1': 0.311094, 'x_p2_2': 0.211094, 'x_r2': 0.815203, 'x_r2_1': 0.715203, 'x_r2_2': 0.615203} using model BoTorch.\n",
      "[INFO 04-05 14:15:16] ax.service.ax_client: Completed trial 96 with data: {'Viable_Cross_Terms': (4, None)}.\n",
      "[INFO 04-05 14:15:31] ax.service.ax_client: Generated new trial 97 with parameters {'z_sh': 8, 'z_sh_1': 9, 'z_sh_2': 7, 'z_p2': 29, 'z_p2_1': 29, 'z_p2_2': 31, 'z_r2': 80, 'z_r2_1': 74, 'z_r2_2': 76, 'x_s': 0.5, 'x_s_1': 0.4, 'x_s_2': 0.3, 'x_p1': 0.705186, 'x_p1_1': 0.567824, 'x_p1_2': 0.467824, 'x_p2': 0.479888, 'x_p2_1': 0.379888, 'x_p2_2': 0.277641, 'x_r2': 1.085569, 'x_r2_1': 0.985569, 'x_r2_2': 0.885569} using model BoTorch.\n",
      "[INFO 04-05 14:15:31] ax.service.ax_client: Completed trial 97 with data: {'Viable_Cross_Terms': (46, None)}.\n",
      "[INFO 04-05 14:15:45] ax.service.ax_client: Generated new trial 98 with parameters {'z_sh': 9, 'z_sh_1': 13, 'z_sh_2': 11, 'z_p2': 27, 'z_p2_1': 28, 'z_p2_2': 28, 'z_r2': 86, 'z_r2_1': 79, 'z_r2_2': 80, 'x_s': 0.5, 'x_s_1': 0.4, 'x_s_2': 0.3, 'x_p1': 1.0, 'x_p1_1': 0.703696, 'x_p1_2': 0.366331, 'x_p2': -0.3, 'x_p2_1': -0.4, 'x_p2_2': -0.5, 'x_r2': 0.425265, 'x_r2_1': 0.325265, 'x_r2_2': 0.225265} using model BoTorch.\n",
      "[INFO 04-05 14:15:45] ax.service.ax_client: Completed trial 98 with data: {'Viable_Cross_Terms': (22, None)}.\n",
      "[INFO 04-05 14:16:05] ax.service.ax_client: Generated new trial 99 with parameters {'z_sh': 12, 'z_sh_1': 10, 'z_sh_2': 5, 'z_p2': 31, 'z_p2_1': 34, 'z_p2_2': 31, 'z_r2': 77, 'z_r2_1': 85, 'z_r2_2': 82, 'x_s': 0.050224, 'x_s_1': -0.347037, 'x_s_2': -0.5, 'x_p1': 1.0, 'x_p1_1': -0.772008, 'x_p1_2': -1.0, 'x_p2': 0.5, 'x_p2_1': 0.4, 'x_p2_2': -0.125603, 'x_r2': 1.296666, 'x_r2_1': 1.06119, 'x_r2_2': 0.692012} using model BoTorch.\n",
      "[INFO 04-05 14:16:05] ax.service.ax_client: Completed trial 99 with data: {'Viable_Cross_Terms': (5, None)}.\n",
      "[INFO 04-05 14:16:23] ax.service.ax_client: Generated new trial 100 with parameters {'z_sh': 11, 'z_sh_1': 12, 'z_sh_2': 12, 'z_p2': 29, 'z_p2_1': 31, 'z_p2_2': 27, 'z_r2': 73, 'z_r2_1': 79, 'z_r2_2': 72, 'x_s': 0.279105, 'x_s_1': 0.13351, 'x_s_2': -0.197384, 'x_p1': 0.453113, 'x_p1_1': 0.353113, 'x_p1_2': 0.253113, 'x_p2': 0.116317, 'x_p2_1': 0.016317, 'x_p2_2': -0.103211, 'x_r2': 0.594014, 'x_r2_1': 0.494014, 'x_r2_2': -0.024101} using model BoTorch.\n",
      "[INFO 04-05 14:16:23] ax.service.ax_client: Completed trial 100 with data: {'Viable_Cross_Terms': (15, None)}.\n",
      "[INFO 04-05 14:16:39] ax.service.ax_client: Generated new trial 101 with parameters {'z_sh': 10, 'z_sh_1': 6, 'z_sh_2': 7, 'z_p2': 28, 'z_p2_1': 31, 'z_p2_2': 27, 'z_r2': 72, 'z_r2_1': 79, 'z_r2_2': 72, 'x_s': 0.068763, 'x_s_1': -0.064098, 'x_s_2': -0.426628, 'x_p1': 0.493854, 'x_p1_1': 0.263772, 'x_p1_2': 0.159582, 'x_p2': 0.111356, 'x_p2_1': 0.000833, 'x_p2_2': -0.213005, 'x_r2': 0.668123, 'x_r2_1': 0.53075, 'x_r2_2': -0.030225} using model BoTorch.\n",
      "[INFO 04-05 14:16:39] ax.service.ax_client: Completed trial 101 with data: {'Viable_Cross_Terms': (23, None)}.\n",
      "[INFO 04-05 14:16:57] ax.service.ax_client: Generated new trial 102 with parameters {'z_sh': 8, 'z_sh_1': 9, 'z_sh_2': 7, 'z_p2': 28, 'z_p2_1': 27, 'z_p2_2': 31, 'z_r2': 78, 'z_r2_1': 72, 'z_r2_2': 73, 'x_s': 0.5, 'x_s_1': 0.4, 'x_s_2': 0.3, 'x_p1': 0.638395, 'x_p1_1': 0.536903, 'x_p1_2': 0.436903, 'x_p2': 0.494214, 'x_p2_1': 0.394214, 'x_p2_2': 0.293822, 'x_r2': 1.06299, 'x_r2_1': 0.96299, 'x_r2_2': 0.862913} using model BoTorch.\n",
      "[INFO 04-05 14:16:57] ax.service.ax_client: Completed trial 102 with data: {'Viable_Cross_Terms': (47, None)}.\n",
      "[INFO 04-05 14:17:15] ax.service.ax_client: Generated new trial 103 with parameters {'z_sh': 7, 'z_sh_1': 13, 'z_sh_2': 9, 'z_p2': 28, 'z_p2_1': 32, 'z_p2_2': 28, 'z_r2': 83, 'z_r2_1': 76, 'z_r2_2': 82, 'x_s': 0.5, 'x_s_1': 0.399918, 'x_s_2': 0.2997, 'x_p1': 0.996899, 'x_p1_1': 0.702212, 'x_p1_2': 0.407548, 'x_p2': -0.298203, 'x_p2_1': -0.398207, 'x_p2_2': -0.498219, 'x_r2': 0.415308, 'x_r2_1': 0.314164, 'x_r2_2': 0.214164} using model BoTorch.\n",
      "[INFO 04-05 14:17:15] ax.service.ax_client: Completed trial 103 with data: {'Viable_Cross_Terms': (45, None)}.\n",
      "[INFO 04-05 14:17:41] ax.service.ax_client: Generated new trial 104 with parameters {'z_sh': 9, 'z_sh_1': 13, 'z_sh_2': 9, 'z_p2': 34, 'z_p2_1': 31, 'z_p2_2': 28, 'z_r2': 81, 'z_r2_1': 78, 'z_r2_2': 84, 'x_s': 0.5, 'x_s_1': 0.4, 'x_s_2': 0.3, 'x_p1': 0.993329, 'x_p1_1': 0.697975, 'x_p1_2': 0.40719, 'x_p2': -0.288047, 'x_p2_1': -0.388047, 'x_p2_2': -0.488047, 'x_r2': 0.410436, 'x_r2_1': 0.310436, 'x_r2_2': 0.210436} using model BoTorch.\n",
      "[INFO 04-05 14:17:41] ax.service.ax_client: Completed trial 104 with data: {'Viable_Cross_Terms': (29, None)}.\n",
      "[INFO 04-05 14:17:55] ax.service.ax_client: Generated new trial 105 with parameters {'z_sh': 8, 'z_sh_1': 11, 'z_sh_2': 6, 'z_p2': 31, 'z_p2_1': 34, 'z_p2_2': 28, 'z_r2': 82, 'z_r2_1': 73, 'z_r2_2': 79, 'x_s': 0.5, 'x_s_1': 0.4, 'x_s_2': 0.3, 'x_p1': 0.969977, 'x_p1_1': 0.758008, 'x_p1_2': 0.551757, 'x_p2': -0.3, 'x_p2_1': -0.4, 'x_p2_2': -0.5, 'x_r2': 0.31709, 'x_r2_1': 0.21709, 'x_r2_2': 0.11709} using model BoTorch.\n",
      "[INFO 04-05 14:17:55] ax.service.ax_client: Completed trial 105 with data: {'Viable_Cross_Terms': (26, None)}.\n",
      "[INFO 04-05 14:18:11] ax.service.ax_client: Generated new trial 106 with parameters {'z_sh': 8, 'z_sh_1': 9, 'z_sh_2': 8, 'z_p2': 31, 'z_p2_1': 33, 'z_p2_2': 28, 'z_r2': 84, 'z_r2_1': 76, 'z_r2_2': 77, 'x_s': 0.5, 'x_s_1': 0.4, 'x_s_2': 0.3, 'x_p1': 1.0, 'x_p1_1': 0.693664, 'x_p1_2': 0.37767, 'x_p2': -0.3, 'x_p2_1': -0.4, 'x_p2_2': -0.5, 'x_r2': 0.421899, 'x_r2_1': 0.321675, 'x_r2_2': 0.221675} using model BoTorch.\n",
      "[INFO 04-05 14:18:11] ax.service.ax_client: Completed trial 106 with data: {'Viable_Cross_Terms': (33, None)}.\n",
      "[INFO 04-05 14:18:30] ax.service.ax_client: Generated new trial 107 with parameters {'z_sh': 11, 'z_sh_1': 6, 'z_sh_2': 8, 'z_p2': 27, 'z_p2_1': 31, 'z_p2_2': 27, 'z_r2': 72, 'z_r2_1': 76, 'z_r2_2': 75, 'x_s': 0.077034, 'x_s_1': -0.022966, 'x_s_2': -0.422764, 'x_p1': 0.436169, 'x_p1_1': 0.240065, 'x_p1_2': 0.10764, 'x_p2': 0.16414, 'x_p2_1': 0.045343, 'x_p2_2': -0.180276, 'x_r2': 0.645315, 'x_r2_1': 0.48998, 'x_r2_2': 0.123043} using model BoTorch.\n",
      "[INFO 04-05 14:18:30] ax.service.ax_client: Completed trial 107 with data: {'Viable_Cross_Terms': (24, None)}.\n",
      "[INFO 04-05 14:18:45] ax.service.ax_client: Generated new trial 108 with parameters {'z_sh': 7, 'z_sh_1': 8, 'z_sh_2': 5, 'z_p2': 29, 'z_p2_1': 29, 'z_p2_2': 31, 'z_r2': 77, 'z_r2_1': 80, 'z_r2_2': 82, 'x_s': 0.5, 'x_s_1': 0.4, 'x_s_2': 0.3, 'x_p1': 0.855277, 'x_p1_1': 0.668971, 'x_p1_2': 0.566531, 'x_p2': 0.42989, 'x_p2_1': 0.32989, 'x_p2_2': 0.221904, 'x_r2': 1.125061, 'x_r2_1': 1.02358, 'x_r2_2': 0.923389} using model BoTorch.\n",
      "[INFO 04-05 14:18:45] ax.service.ax_client: Completed trial 108 with data: {'Viable_Cross_Terms': (87, None)}.\n",
      "[INFO 04-05 14:19:00] ax.service.ax_client: Generated new trial 109 with parameters {'z_sh': 7, 'z_sh_1': 7, 'z_sh_2': 5, 'z_p2': 30, 'z_p2_1': 32, 'z_p2_2': 31, 'z_r2': 80, 'z_r2_1': 81, 'z_r2_2': 81, 'x_s': 0.5, 'x_s_1': 0.4, 'x_s_2': 0.3, 'x_p1': 0.856815, 'x_p1_1': 0.670651, 'x_p1_2': 0.568391, 'x_p2': 0.426833, 'x_p2_1': 0.326774, 'x_p2_2': 0.219764, 'x_r2': 1.120443, 'x_r2_1': 1.019817, 'x_r2_2': 0.919817} using model BoTorch.\n",
      "[INFO 04-05 14:19:00] ax.service.ax_client: Completed trial 109 with data: {'Viable_Cross_Terms': (82, None)}.\n",
      "[INFO 04-05 14:19:16] ax.service.ax_client: Generated new trial 110 with parameters {'z_sh': 8, 'z_sh_1': 11, 'z_sh_2': 5, 'z_p2': 32, 'z_p2_1': 30, 'z_p2_2': 31, 'z_r2': 75, 'z_r2_1': 73, 'z_r2_2': 77, 'x_s': 0.5, 'x_s_1': 0.4, 'x_s_2': 0.3, 'x_p1': 0.752406, 'x_p1_1': 0.596826, 'x_p1_2': 0.494885, 'x_p2': 0.449767, 'x_p2_1': 0.349267, 'x_p2_2': 0.24287, 'x_r2': 1.089455, 'x_r2_1': 0.988416, 'x_r2_2': 0.887684} using model BoTorch.\n",
      "[INFO 04-05 14:19:16] ax.service.ax_client: Completed trial 110 with data: {'Viable_Cross_Terms': (45, None)}.\n",
      "[INFO 04-05 14:19:33] ax.service.ax_client: Generated new trial 111 with parameters {'z_sh': 8, 'z_sh_1': 10, 'z_sh_2': 5, 'z_p2': 32, 'z_p2_1': 32, 'z_p2_2': 31, 'z_r2': 82, 'z_r2_1': 76, 'z_r2_2': 71, 'x_s': 0.5, 'x_s_1': 0.399756, 'x_s_2': 0.299756, 'x_p1': 0.639967, 'x_p1_1': 0.52595, 'x_p1_2': 0.425647, 'x_p2': 0.490949, 'x_p2_1': 0.390949, 'x_p2_2': 0.289185, 'x_r2': 1.022654, 'x_r2_1': 0.920362, 'x_r2_2': 0.818994} using model BoTorch.\n",
      "[INFO 04-05 14:19:33] ax.service.ax_client: Completed trial 111 with data: {'Viable_Cross_Terms': (43, None)}.\n",
      "[INFO 04-05 14:19:47] ax.service.ax_client: Generated new trial 112 with parameters {'z_sh': 10, 'z_sh_1': 13, 'z_sh_2': 10, 'z_p2': 30, 'z_p2_1': 30, 'z_p2_2': 28, 'z_r2': 85, 'z_r2_1': 75, 'z_r2_2': 81, 'x_s': 0.5, 'x_s_1': 0.4, 'x_s_2': 0.3, 'x_p1': 1.0, 'x_p1_1': 0.730228, 'x_p1_2': 0.407579, 'x_p2': -0.3, 'x_p2_1': -0.4, 'x_p2_2': -0.5, 'x_r2': 0.456301, 'x_r2_1': 0.356301, 'x_r2_2': 0.256301} using model BoTorch.\n",
      "[INFO 04-05 14:19:47] ax.service.ax_client: Completed trial 112 with data: {'Viable_Cross_Terms': (22, None)}.\n",
      "[INFO 04-05 14:20:01] ax.service.ax_client: Generated new trial 113 with parameters {'z_sh': 11, 'z_sh_1': 10, 'z_sh_2': 7, 'z_p2': 31, 'z_p2_1': 31, 'z_p2_2': 31, 'z_r2': 76, 'z_r2_1': 77, 'z_r2_2': 84, 'x_s': 0.5, 'x_s_1': 0.4, 'x_s_2': 0.3, 'x_p1': 1.0, 'x_p1_1': 0.9, 'x_p1_2': 0.8, 'x_p2': 0.472731, 'x_p2_1': 0.372731, 'x_p2_2': 0.272731, 'x_r2': 1.491481, 'x_r2_1': 1.391481, 'x_r2_2': 1.291481} using model BoTorch.\n",
      "[INFO 04-05 14:20:01] ax.service.ax_client: Completed trial 113 with data: {'Viable_Cross_Terms': (0, None)}.\n",
      "[INFO 04-05 14:20:17] ax.service.ax_client: Generated new trial 114 with parameters {'z_sh': 7, 'z_sh_1': 13, 'z_sh_2': 6, 'z_p2': 32, 'z_p2_1': 32, 'z_p2_2': 31, 'z_r2': 85, 'z_r2_1': 79, 'z_r2_2': 81, 'x_s': 0.5, 'x_s_1': 0.4, 'x_s_2': 0.3, 'x_p1': 0.867498, 'x_p1_1': 0.583831, 'x_p1_2': 0.476956, 'x_p2': 0.374535, 'x_p2_1': 0.274535, 'x_p2_2': 0.15553, 'x_r2': 0.980372, 'x_r2_1': 0.880372, 'x_r2_2': 0.778229} using model BoTorch.\n",
      "[INFO 04-05 14:20:17] ax.service.ax_client: Completed trial 114 with data: {'Viable_Cross_Terms': (29, None)}.\n",
      "[INFO 04-05 14:20:31] ax.service.ax_client: Generated new trial 115 with parameters {'z_sh': 8, 'z_sh_1': 10, 'z_sh_2': 5, 'z_p2': 29, 'z_p2_1': 28, 'z_p2_2': 31, 'z_r2': 82, 'z_r2_1': 73, 'z_r2_2': 74, 'x_s': 0.5, 'x_s_1': 0.4, 'x_s_2': 0.3, 'x_p1': 0.663825, 'x_p1_1': 0.558763, 'x_p1_2': 0.458472, 'x_p2': 0.494401, 'x_p2_1': 0.394401, 'x_p2_2': 0.29398, 'x_r2': 1.089895, 'x_r2_1': 0.989587, 'x_r2_2': 0.889295} using model BoTorch.\n",
      "[INFO 04-05 14:20:31] ax.service.ax_client: Completed trial 115 with data: {'Viable_Cross_Terms': (41, None)}.\n",
      "[INFO 04-05 14:20:56] ax.service.ax_client: Generated new trial 116 with parameters {'z_sh': 12, 'z_sh_1': 7, 'z_sh_2': 5, 'z_p2': 31, 'z_p2_1': 27, 'z_p2_2': 31, 'z_r2': 78, 'z_r2_1': 85, 'z_r2_2': 79, 'x_s': 0.315448, 'x_s_1': -0.025778, 'x_s_2': -0.385811, 'x_p1': 0.472632, 'x_p1_1': 0.112302, 'x_p1_2': -0.443141, 'x_p2': 0.5, 'x_p2_1': 0.355275, 'x_p2_2': -0.303795, 'x_r2': 0.666154, 'x_r2_1': 0.225165, 'x_r2_2': -0.482232} using model BoTorch.\n",
      "[INFO 04-05 14:20:56] ax.service.ax_client: Completed trial 116 with data: {'Viable_Cross_Terms': (46, None)}.\n",
      "[INFO 04-05 14:21:16] ax.service.ax_client: Generated new trial 117 with parameters {'z_sh': 12, 'z_sh_1': 8, 'z_sh_2': 5, 'z_p2': 32, 'z_p2_1': 27, 'z_p2_2': 31, 'z_r2': 81, 'z_r2_1': 85, 'z_r2_2': 80, 'x_s': 0.417978, 'x_s_1': -0.019924, 'x_s_2': -0.362707, 'x_p1': 0.67308, 'x_p1_1': 0.165914, 'x_p1_2': -0.38916, 'x_p2': 0.451851, 'x_p2_1': 0.351851, 'x_p2_2': -0.270267, 'x_r2': 0.647637, 'x_r2_1': 0.187214, 'x_r2_2': -0.719042} using model BoTorch.\n",
      "[INFO 04-05 14:21:16] ax.service.ax_client: Completed trial 117 with data: {'Viable_Cross_Terms': (31, None)}.\n",
      "[INFO 04-05 14:21:57] ax.service.ax_client: Generated new trial 118 with parameters {'z_sh': 7, 'z_sh_1': 9, 'z_sh_2': 6, 'z_p2': 32, 'z_p2_1': 33, 'z_p2_2': 31, 'z_r2': 79, 'z_r2_1': 82, 'z_r2_2': 81, 'x_s': 0.5, 'x_s_1': 0.4, 'x_s_2': 0.3, 'x_p1': 0.864504, 'x_p1_1': 0.648281, 'x_p1_2': 0.547251, 'x_p2': 0.421746, 'x_p2_1': 0.321672, 'x_p2_2': 0.211426, 'x_r2': 1.094134, 'x_r2_1': 0.993984, 'x_r2_2': 0.892297} using model BoTorch.\n",
      "[INFO 04-05 14:21:57] ax.service.ax_client: Completed trial 118 with data: {'Viable_Cross_Terms': (33, None)}.\n",
      "[INFO 04-05 14:22:12] ax.service.ax_client: Generated new trial 119 with parameters {'z_sh': 7, 'z_sh_1': 8, 'z_sh_2': 6, 'z_p2': 29, 'z_p2_1': 28, 'z_p2_2': 31, 'z_r2': 74, 'z_r2_1': 77, 'z_r2_2': 75, 'x_s': 0.5, 'x_s_1': 0.4, 'x_s_2': 0.3, 'x_p1': 0.814496, 'x_p1_1': 0.714496, 'x_p1_2': 0.614496, 'x_p2': 0.493576, 'x_p2_1': 0.393576, 'x_p2_2': 0.293576, 'x_r2': 0.980312, 'x_r2_1': 0.880312, 'x_r2_2': 0.780312} using model BoTorch.\n",
      "[INFO 04-05 14:22:12] ax.service.ax_client: Completed trial 119 with data: {'Viable_Cross_Terms': (18, None)}.\n",
      "[INFO 04-05 14:22:26] ax.service.ax_client: Generated new trial 120 with parameters {'z_sh': 7, 'z_sh_1': 14, 'z_sh_2': 10, 'z_p2': 30, 'z_p2_1': 30, 'z_p2_2': 27, 'z_r2': 83, 'z_r2_1': 79, 'z_r2_2': 79, 'x_s': 0.5, 'x_s_1': 0.4, 'x_s_2': 0.3, 'x_p1': 1.0, 'x_p1_1': 0.9, 'x_p1_2': 0.8, 'x_p2': -0.3, 'x_p2_1': -0.4, 'x_p2_2': -0.5, 'x_r2': 0.527845, 'x_r2_1': 0.427845, 'x_r2_2': 0.327845} using model BoTorch.\n",
      "[INFO 04-05 14:22:26] ax.service.ax_client: Completed trial 120 with data: {'Viable_Cross_Terms': (33, None)}.\n",
      "[INFO 04-05 14:22:42] ax.service.ax_client: Generated new trial 121 with parameters {'z_sh': 7, 'z_sh_1': 8, 'z_sh_2': 5, 'z_p2': 27, 'z_p2_1': 27, 'z_p2_2': 31, 'z_r2': 79, 'z_r2_1': 80, 'z_r2_2': 81, 'x_s': 0.5, 'x_s_1': 0.4, 'x_s_2': 0.3, 'x_p1': 0.849551, 'x_p1_1': 0.646345, 'x_p1_2': 0.543903, 'x_p2': 0.391168, 'x_p2_1': 0.291077, 'x_p2_2': 0.181718, 'x_r2': 1.038508, 'x_r2_1': 0.935809, 'x_r2_2': 0.834537} using model BoTorch.\n",
      "[INFO 04-05 14:22:42] ax.service.ax_client: Completed trial 121 with data: {'Viable_Cross_Terms': (89, None)}.\n",
      "[INFO 04-05 14:22:57] ax.service.ax_client: Generated new trial 122 with parameters {'z_sh': 7, 'z_sh_1': 7, 'z_sh_2': 5, 'z_p2': 28, 'z_p2_1': 28, 'z_p2_2': 31, 'z_r2': 77, 'z_r2_1': 79, 'z_r2_2': 82, 'x_s': 0.5, 'x_s_1': 0.4, 'x_s_2': 0.3, 'x_p1': 0.847042, 'x_p1_1': 0.68164, 'x_p1_2': 0.577387, 'x_p2': 0.422255, 'x_p2_1': 0.322255, 'x_p2_2': 0.213929, 'x_r2': 1.130476, 'x_r2_1': 1.030476, 'x_r2_2': 0.930476} using model BoTorch.\n",
      "[INFO 04-05 14:22:57] ax.service.ax_client: Completed trial 122 with data: {'Viable_Cross_Terms': (30, None)}.\n",
      "[INFO 04-05 14:23:11] ax.service.ax_client: Generated new trial 123 with parameters {'z_sh': 10, 'z_sh_1': 11, 'z_sh_2': 5, 'z_p2': 31, 'z_p2_1': 27, 'z_p2_2': 31, 'z_r2': 79, 'z_r2_1': 73, 'z_r2_2': 74, 'x_s': 0.5, 'x_s_1': 0.4, 'x_s_2': 0.3, 'x_p1': 0.666795, 'x_p1_1': 0.566795, 'x_p1_2': 0.466795, 'x_p2': 0.338, 'x_p2_1': 0.238, 'x_p2_2': 0.138, 'x_r2': 0.863466, 'x_r2_1': 0.763466, 'x_r2_2': 0.663466} using model BoTorch.\n",
      "[INFO 04-05 14:23:11] ax.service.ax_client: Completed trial 123 with data: {'Viable_Cross_Terms': (31, None)}.\n",
      "[INFO 04-05 14:23:26] ax.service.ax_client: Generated new trial 124 with parameters {'z_sh': 7, 'z_sh_1': 9, 'z_sh_2': 5, 'z_p2': 29, 'z_p2_1': 28, 'z_p2_2': 29, 'z_r2': 77, 'z_r2_1': 79, 'z_r2_2': 76, 'x_s': 0.5, 'x_s_1': 0.4, 'x_s_2': 0.3, 'x_p1': 1.0, 'x_p1_1': 0.9, 'x_p1_2': 0.8, 'x_p2': 0.322969, 'x_p2_1': 0.222969, 'x_p2_2': 0.122969, 'x_r2': 1.082833, 'x_r2_1': 0.982833, 'x_r2_2': 0.882833} using model BoTorch.\n",
      "[INFO 04-05 14:23:26] ax.service.ax_client: Completed trial 124 with data: {'Viable_Cross_Terms': (31, None)}.\n",
      "[INFO 04-05 14:23:41] ax.service.ax_client: Generated new trial 125 with parameters {'z_sh': 7, 'z_sh_1': 8, 'z_sh_2': 8, 'z_p2': 30, 'z_p2_1': 32, 'z_p2_2': 31, 'z_r2': 80, 'z_r2_1': 76, 'z_r2_2': 76, 'x_s': 0.5, 'x_s_1': 0.4, 'x_s_2': 0.3, 'x_p1': 0.725073, 'x_p1_1': 0.625073, 'x_p1_2': 0.525073, 'x_p2': 0.5, 'x_p2_1': 0.4, 'x_p2_2': 0.3, 'x_r2': 0.894029, 'x_r2_1': 0.794029, 'x_r2_2': 0.694029} using model BoTorch.\n",
      "[INFO 04-05 14:23:41] ax.service.ax_client: Completed trial 125 with data: {'Viable_Cross_Terms': (21, None)}.\n",
      "[INFO 04-05 14:23:58] ax.service.ax_client: Generated new trial 126 with parameters {'z_sh': 9, 'z_sh_1': 8, 'z_sh_2': 5, 'z_p2': 27, 'z_p2_1': 30, 'z_p2_2': 26, 'z_r2': 82, 'z_r2_1': 74, 'z_r2_2': 82, 'x_s': 0.5, 'x_s_1': 0.4, 'x_s_2': 0.3, 'x_p1': 0.829343, 'x_p1_1': 0.628239, 'x_p1_2': 0.528239, 'x_p2': 0.39152, 'x_p2_1': 0.29152, 'x_p2_2': 0.19152, 'x_r2': 1.064593, 'x_r2_1': 0.964593, 'x_r2_2': 0.864593} using model BoTorch.\n",
      "[INFO 04-05 14:23:58] ax.service.ax_client: Completed trial 126 with data: {'Viable_Cross_Terms': (36, None)}.\n",
      "[INFO 04-05 14:24:14] ax.service.ax_client: Generated new trial 127 with parameters {'z_sh': 7, 'z_sh_1': 9, 'z_sh_2': 5, 'z_p2': 33, 'z_p2_1': 27, 'z_p2_2': 32, 'z_r2': 75, 'z_r2_1': 74, 'z_r2_2': 79, 'x_s': 0.5, 'x_s_1': 0.4, 'x_s_2': 0.3, 'x_p1': 0.847208, 'x_p1_1': 0.663111, 'x_p1_2': 0.563111, 'x_p2': 0.415813, 'x_p2_1': 0.315813, 'x_p2_2': 0.215813, 'x_r2': 1.091504, 'x_r2_1': 0.991504, 'x_r2_2': 0.891504} using model BoTorch.\n",
      "[INFO 04-05 14:24:14] ax.service.ax_client: Completed trial 127 with data: {'Viable_Cross_Terms': (33, None)}.\n",
      "[INFO 04-05 14:24:27] ax.service.ax_client: Generated new trial 128 with parameters {'z_sh': 10, 'z_sh_1': 6, 'z_sh_2': 5, 'z_p2': 29, 'z_p2_1': 32, 'z_p2_2': 32, 'z_r2': 75, 'z_r2_1': 82, 'z_r2_2': 80, 'x_s': 0.5, 'x_s_1': 0.4, 'x_s_2': 0.3, 'x_p1': 0.677419, 'x_p1_1': 0.577419, 'x_p1_2': 0.477419, 'x_p2': 0.350968, 'x_p2_1': 0.250968, 'x_p2_2': 0.061469, 'x_r2': 0.840197, 'x_r2_1': 0.740197, 'x_r2_2': 0.640197} using model BoTorch.\n",
      "[INFO 04-05 14:24:27] ax.service.ax_client: Completed trial 128 with data: {'Viable_Cross_Terms': (60, None)}.\n",
      "[INFO 04-05 14:24:42] ax.service.ax_client: Generated new trial 129 with parameters {'z_sh': 7, 'z_sh_1': 8, 'z_sh_2': 7, 'z_p2': 33, 'z_p2_1': 29, 'z_p2_2': 28, 'z_r2': 84, 'z_r2_1': 80, 'z_r2_2': 80, 'x_s': 0.5, 'x_s_1': 0.4, 'x_s_2': 0.3, 'x_p1': 0.715434, 'x_p1_1': 0.615434, 'x_p1_2': 0.515434, 'x_p2': -0.032237, 'x_p2_1': -0.132237, 'x_p2_2': -0.258316, 'x_r2': 0.726616, 'x_r2_1': 0.626616, 'x_r2_2': 0.526616} using model BoTorch.\n",
      "[INFO 04-05 14:24:42] ax.service.ax_client: Completed trial 129 with data: {'Viable_Cross_Terms': (24, None)}.\n",
      "[INFO 04-05 14:24:55] ax.service.ax_client: Generated new trial 130 with parameters {'z_sh': 10, 'z_sh_1': 7, 'z_sh_2': 5, 'z_p2': 29, 'z_p2_1': 28, 'z_p2_2': 32, 'z_r2': 82, 'z_r2_1': 72, 'z_r2_2': 71, 'x_s': 0.5, 'x_s_1': 0.4, 'x_s_2': 0.3, 'x_p1': 0.683574, 'x_p1_1': 0.583574, 'x_p1_2': 0.483574, 'x_p2': 0.5, 'x_p2_1': 0.4, 'x_p2_2': 0.3, 'x_r2': 1.054575, 'x_r2_1': 0.954575, 'x_r2_2': 0.854575} using model BoTorch.\n",
      "[INFO 04-05 14:24:55] ax.service.ax_client: Completed trial 130 with data: {'Viable_Cross_Terms': (40, None)}.\n",
      "[INFO 04-05 14:25:11] ax.service.ax_client: Generated new trial 131 with parameters {'z_sh': 7, 'z_sh_1': 6, 'z_sh_2': 8, 'z_p2': 28, 'z_p2_1': 33, 'z_p2_2': 26, 'z_r2': 82, 'z_r2_1': 73, 'z_r2_2': 71, 'x_s': 0.5, 'x_s_1': 0.4, 'x_s_2': 0.3, 'x_p1': 1.0, 'x_p1_1': 0.9, 'x_p1_2': 0.8, 'x_p2': -0.3, 'x_p2_1': -0.4, 'x_p2_2': -0.5, 'x_r2': 0.412054, 'x_r2_1': 0.312054, 'x_r2_2': 0.212054} using model BoTorch.\n",
      "[INFO 04-05 14:25:11] ax.service.ax_client: Completed trial 131 with data: {'Viable_Cross_Terms': (59, None)}.\n",
      "[INFO 04-05 14:25:28] ax.service.ax_client: Generated new trial 132 with parameters {'z_sh': 7, 'z_sh_1': 11, 'z_sh_2': 5, 'z_p2': 27, 'z_p2_1': 26, 'z_p2_2': 27, 'z_r2': 85, 'z_r2_1': 85, 'z_r2_2': 82, 'x_s': 0.5, 'x_s_1': 0.4, 'x_s_2': 0.3, 'x_p1': 0.591178, 'x_p1_1': 0.491178, 'x_p1_2': 0.391178, 'x_p2': 0.403663, 'x_p2_1': 0.303663, 'x_p2_2': 0.15541, 'x_r2': 1.09182, 'x_r2_1': 0.99182, 'x_r2_2': 0.89182} using model BoTorch.\n",
      "[INFO 04-05 14:25:28] ax.service.ax_client: Completed trial 132 with data: {'Viable_Cross_Terms': (22, None)}.\n",
      "[INFO 04-05 14:25:43] ax.service.ax_client: Generated new trial 133 with parameters {'z_sh': 7, 'z_sh_1': 6, 'z_sh_2': 10, 'z_p2': 30, 'z_p2_1': 32, 'z_p2_2': 31, 'z_r2': 75, 'z_r2_1': 78, 'z_r2_2': 77, 'x_s': 0.5, 'x_s_1': 0.4, 'x_s_2': 0.3, 'x_p1': 1.0, 'x_p1_1': 0.9, 'x_p1_2': 0.8, 'x_p2': -0.3, 'x_p2_1': -0.4, 'x_p2_2': -0.5, 'x_r2': 0.414756, 'x_r2_1': 0.314756, 'x_r2_2': 0.214756} using model BoTorch.\n",
      "[INFO 04-05 14:25:43] ax.service.ax_client: Completed trial 133 with data: {'Viable_Cross_Terms': (34, None)}.\n",
      "[INFO 04-05 14:25:58] ax.service.ax_client: Generated new trial 134 with parameters {'z_sh': 13, 'z_sh_1': 8, 'z_sh_2': 10, 'z_p2': 27, 'z_p2_1': 31, 'z_p2_2': 28, 'z_r2': 86, 'z_r2_1': 73, 'z_r2_2': 83, 'x_s': 0.5, 'x_s_1': 0.4, 'x_s_2': 0.3, 'x_p1': 1.0, 'x_p1_1': 0.9, 'x_p1_2': 0.8, 'x_p2': 0.390105, 'x_p2_1': 0.290105, 'x_p2_2': -0.5, 'x_r2': 0.442509, 'x_r2_1': 0.342509, 'x_r2_2': 0.242509} using model BoTorch.\n",
      "[INFO 04-05 14:25:58] ax.service.ax_client: Completed trial 134 with data: {'Viable_Cross_Terms': (23, None)}.\n",
      "[INFO 04-05 14:26:13] ax.service.ax_client: Generated new trial 135 with parameters {'z_sh': 14, 'z_sh_1': 6, 'z_sh_2': 9, 'z_p2': 27, 'z_p2_1': 33, 'z_p2_2': 28, 'z_r2': 86, 'z_r2_1': 77, 'z_r2_2': 76, 'x_s': 0.5, 'x_s_1': 0.4, 'x_s_2': 0.3, 'x_p1': 1.0, 'x_p1_1': 0.9, 'x_p1_2': 0.8, 'x_p2': -0.3, 'x_p2_1': -0.4, 'x_p2_2': -0.5, 'x_r2': 0.517769, 'x_r2_1': 0.417769, 'x_r2_2': 0.317769} using model BoTorch.\n",
      "[INFO 04-05 14:26:13] ax.service.ax_client: Completed trial 135 with data: {'Viable_Cross_Terms': (33, None)}.\n",
      "[INFO 04-05 14:26:30] ax.service.ax_client: Generated new trial 136 with parameters {'z_sh': 11, 'z_sh_1': 11, 'z_sh_2': 9, 'z_p2': 34, 'z_p2_1': 33, 'z_p2_2': 25, 'z_r2': 84, 'z_r2_1': 83, 'z_r2_2': 75, 'x_s': 0.5, 'x_s_1': 0.4, 'x_s_2': 0.3, 'x_p1': 1.0, 'x_p1_1': 0.9, 'x_p1_2': 0.8, 'x_p2': -0.3, 'x_p2_1': -0.4, 'x_p2_2': -0.5, 'x_r2': 0.385551, 'x_r2_1': 0.285551, 'x_r2_2': 0.185551} using model BoTorch.\n",
      "[INFO 04-05 14:26:30] ax.service.ax_client: Completed trial 136 with data: {'Viable_Cross_Terms': (28, None)}.\n",
      "[INFO 04-05 14:26:45] ax.service.ax_client: Generated new trial 137 with parameters {'z_sh': 7, 'z_sh_1': 13, 'z_sh_2': 5, 'z_p2': 32, 'z_p2_1': 30, 'z_p2_2': 33, 'z_r2': 83, 'z_r2_1': 78, 'z_r2_2': 80, 'x_s': 0.5, 'x_s_1': 0.4, 'x_s_2': 0.3, 'x_p1': 0.988627, 'x_p1_1': 0.804401, 'x_p1_2': 0.704401, 'x_p2': 0.353642, 'x_p2_1': 0.253642, 'x_p2_2': 0.153642, 'x_r2': 1.106744, 'x_r2_1': 1.006744, 'x_r2_2': 0.906744} using model BoTorch.\n",
      "[INFO 04-05 14:26:45] ax.service.ax_client: Completed trial 137 with data: {'Viable_Cross_Terms': (75, None)}.\n",
      "[INFO 04-05 14:27:00] ax.service.ax_client: Generated new trial 138 with parameters {'z_sh': 7, 'z_sh_1': 13, 'z_sh_2': 8, 'z_p2': 27, 'z_p2_1': 30, 'z_p2_2': 25, 'z_r2': 82, 'z_r2_1': 79, 'z_r2_2': 77, 'x_s': 0.5, 'x_s_1': 0.4, 'x_s_2': 0.3, 'x_p1': 1.0, 'x_p1_1': 0.9, 'x_p1_2': 0.8, 'x_p2': -0.3, 'x_p2_1': -0.4, 'x_p2_2': -0.5, 'x_r2': 0.399045, 'x_r2_1': 0.299045, 'x_r2_2': 0.199045} using model BoTorch.\n",
      "[INFO 04-05 14:27:00] ax.service.ax_client: Completed trial 138 with data: {'Viable_Cross_Terms': (57, None)}.\n",
      "[INFO 04-05 14:27:16] ax.service.ax_client: Generated new trial 139 with parameters {'z_sh': 7, 'z_sh_1': 14, 'z_sh_2': 5, 'z_p2': 30, 'z_p2_1': 27, 'z_p2_2': 33, 'z_r2': 85, 'z_r2_1': 81, 'z_r2_2': 83, 'x_s': 0.5, 'x_s_1': 0.4, 'x_s_2': 0.3, 'x_p1': 1.0, 'x_p1_1': 0.9, 'x_p1_2': 0.8, 'x_p2': 0.30726, 'x_p2_1': 0.20726, 'x_p2_2': 0.10726, 'x_r2': 1.106853, 'x_r2_1': 1.006853, 'x_r2_2': 0.906853} using model BoTorch.\n",
      "[INFO 04-05 14:27:16] ax.service.ax_client: Completed trial 139 with data: {'Viable_Cross_Terms': (36, None)}.\n",
      "[INFO 04-05 14:27:31] ax.service.ax_client: Generated new trial 140 with parameters {'z_sh': 8, 'z_sh_1': 13, 'z_sh_2': 5, 'z_p2': 29, 'z_p2_1': 27, 'z_p2_2': 33, 'z_r2': 73, 'z_r2_1': 76, 'z_r2_2': 83, 'x_s': 0.5, 'x_s_1': 0.4, 'x_s_2': 0.3, 'x_p1': 1.0, 'x_p1_1': 0.854654, 'x_p1_2': 0.754654, 'x_p2': 0.349097, 'x_p2_1': 0.249097, 'x_p2_2': 0.149097, 'x_r2': 1.089416, 'x_r2_1': 0.989416, 'x_r2_2': 0.889416} using model BoTorch.\n",
      "[INFO 04-05 14:27:31] ax.service.ax_client: Completed trial 140 with data: {'Viable_Cross_Terms': (34, None)}.\n",
      "[INFO 04-05 14:27:47] ax.service.ax_client: Generated new trial 141 with parameters {'z_sh': 13, 'z_sh_1': 6, 'z_sh_2': 5, 'z_p2': 27, 'z_p2_1': 32, 'z_p2_2': 27, 'z_r2': 73, 'z_r2_1': 82, 'z_r2_2': 83, 'x_s': 0.5, 'x_s_1': 0.4, 'x_s_2': 0.244326, 'x_p1': 1.0, 'x_p1_1': 0.9, 'x_p1_2': 0.8, 'x_p2': -0.1229, 'x_p2_1': -0.2229, 'x_p2_2': -0.5, 'x_r2': 0.577528, 'x_r2_1': 0.477528, 'x_r2_2': 0.377528} using model BoTorch.\n",
      "[INFO 04-05 14:27:47] ax.service.ax_client: Completed trial 141 with data: {'Viable_Cross_Terms': (20, None)}.\n",
      "[INFO 04-05 14:28:03] ax.service.ax_client: Generated new trial 142 with parameters {'z_sh': 11, 'z_sh_1': 9, 'z_sh_2': 5, 'z_p2': 28, 'z_p2_1': 29, 'z_p2_2': 32, 'z_r2': 75, 'z_r2_1': 81, 'z_r2_2': 81, 'x_s': 0.5, 'x_s_1': 0.4, 'x_s_2': 0.3, 'x_p1': 0.734085, 'x_p1_1': 0.634085, 'x_p1_2': 0.534085, 'x_p2': 0.305103, 'x_p2_1': 0.205103, 'x_p2_2': 0.071428, 'x_r2': 1.038736, 'x_r2_1': 0.938736, 'x_r2_2': 0.838736} using model BoTorch.\n",
      "[INFO 04-05 14:28:03] ax.service.ax_client: Completed trial 142 with data: {'Viable_Cross_Terms': (29, None)}.\n",
      "[INFO 04-05 14:28:19] ax.service.ax_client: Generated new trial 143 with parameters {'z_sh': 7, 'z_sh_1': 12, 'z_sh_2': 6, 'z_p2': 33, 'z_p2_1': 29, 'z_p2_2': 25, 'z_r2': 76, 'z_r2_1': 75, 'z_r2_2': 79, 'x_s': 0.5, 'x_s_1': 0.4, 'x_s_2': 0.3, 'x_p1': 1.0, 'x_p1_1': 0.9, 'x_p1_2': 0.8, 'x_p2': -0.3, 'x_p2_1': -0.4, 'x_p2_2': -0.5, 'x_r2': 0.390313, 'x_r2_1': 0.290313, 'x_r2_2': 0.190313} using model BoTorch.\n",
      "[INFO 04-05 14:28:19] ax.service.ax_client: Completed trial 143 with data: {'Viable_Cross_Terms': (28, None)}.\n",
      "[INFO 04-05 14:28:35] ax.service.ax_client: Generated new trial 144 with parameters {'z_sh': 10, 'z_sh_1': 9, 'z_sh_2': 5, 'z_p2': 28, 'z_p2_1': 31, 'z_p2_2': 33, 'z_r2': 75, 'z_r2_1': 74, 'z_r2_2': 83, 'x_s': 0.5, 'x_s_1': 0.4, 'x_s_2': 0.3, 'x_p1': 0.783581, 'x_p1_1': 0.683581, 'x_p1_2': 0.583581, 'x_p2': 0.432286, 'x_p2_1': 0.332286, 'x_p2_2': 0.232286, 'x_r2': 1.048744, 'x_r2_1': 0.948744, 'x_r2_2': 0.848744} using model BoTorch.\n",
      "[INFO 04-05 14:28:35] ax.service.ax_client: Completed trial 144 with data: {'Viable_Cross_Terms': (36, None)}.\n",
      "[INFO 04-05 14:28:51] ax.service.ax_client: Generated new trial 145 with parameters {'z_sh': 7, 'z_sh_1': 6, 'z_sh_2': 12, 'z_p2': 27, 'z_p2_1': 31, 'z_p2_2': 25, 'z_r2': 83, 'z_r2_1': 71, 'z_r2_2': 84, 'x_s': 0.5, 'x_s_1': 0.4, 'x_s_2': 0.3, 'x_p1': 1.0, 'x_p1_1': 0.9, 'x_p1_2': 0.8, 'x_p2': -0.3, 'x_p2_1': -0.4, 'x_p2_2': -0.5, 'x_r2': 0.386824, 'x_r2_1': 0.286824, 'x_r2_2': 0.186824} using model BoTorch.\n",
      "[INFO 04-05 14:28:51] ax.service.ax_client: Completed trial 145 with data: {'Viable_Cross_Terms': (28, None)}.\n",
      "[INFO 04-05 14:29:06] ax.service.ax_client: Generated new trial 146 with parameters {'z_sh': 7, 'z_sh_1': 8, 'z_sh_2': 5, 'z_p2': 34, 'z_p2_1': 29, 'z_p2_2': 33, 'z_r2': 81, 'z_r2_1': 81, 'z_r2_2': 75, 'x_s': 0.5, 'x_s_1': 0.4, 'x_s_2': 0.3, 'x_p1': 0.933517, 'x_p1_1': 0.759301, 'x_p1_2': 0.659301, 'x_p2': 0.422238, 'x_p2_1': 0.322238, 'x_p2_2': 0.222238, 'x_r2': 1.103251, 'x_r2_1': 1.003251, 'x_r2_2': 0.903251} using model BoTorch.\n",
      "[INFO 04-05 14:29:06] ax.service.ax_client: Completed trial 146 with data: {'Viable_Cross_Terms': (33, None)}.\n"
     ]
    }
   ],
   "source": [
    "for i in range(100):\n",
    "    parameterization, trial_index = Tag_client.get_next_trial()\n",
    "    # Local evaluation here can be replaced with deployment to external system.\n",
    "    Tag_client.complete_trial(trial_index=trial_index, raw_data=score_vals(param_to_list(parameterization)))"
   ]
  },
  {
   "cell_type": "code",
   "execution_count": 242,
   "metadata": {},
   "outputs": [
    {
     "data": {
      "text/plain": [
       "trial_index                        686\n",
       "arm_name                         686_0\n",
       "trial_status                 COMPLETED\n",
       "generation_method              BoTorch\n",
       "generation_node       GenerationStep_1\n",
       "Viable_Cross_Terms               133.0\n",
       "z_sh                                 7\n",
       "z_sh_1                               8\n",
       "z_sh_2                               9\n",
       "z_p2                                28\n",
       "z_p2_1                              31\n",
       "z_p2_2                              26\n",
       "z_r2                                82\n",
       "z_r2_1                              74\n",
       "z_r2_2                              83\n",
       "x_s                                0.5\n",
       "x_s_1                              0.4\n",
       "x_s_2                              0.3\n",
       "x_p1                               1.0\n",
       "x_p1_1                             0.9\n",
       "x_p1_2                             0.8\n",
       "x_p2                              -0.3\n",
       "x_p2_1                            -0.4\n",
       "x_p2_2                            -0.5\n",
       "x_r2                          0.461185\n",
       "x_r2_1                        0.361185\n",
       "x_r2_2                        0.261185\n",
       "Name: 686, dtype: object"
      ]
     },
     "execution_count": 242,
     "metadata": {},
     "output_type": "execute_result"
    }
   ],
   "source": [
    "Tag_client.generation_strategy.trials_as_df.iloc[686]"
   ]
  },
  {
   "cell_type": "code",
   "execution_count": 240,
   "metadata": {},
   "outputs": [
    {
     "name": "stderr",
     "output_type": "stream",
     "text": [
      "[INFO 04-06 08:22:42] ax.modelbridge.base: Leaving out out-of-design observations for arms: 940_0, 939_0\n"
     ]
    },
    {
     "name": "stdout",
     "output_type": "stream",
     "text": [
      "z_sh: 9\n",
      "z_sh_1: 6\n",
      "z_sh_2: 5\n",
      "z_p2: 29\n",
      "z_p2_1: 27\n",
      "z_p2_2: 33\n",
      "z_r2: 80\n",
      "z_r2_1: 85\n",
      "z_r2_2: 71\n",
      "x_s: 0.49999999999989164\n",
      "x_s_1: 0.39999999999917585\n",
      "x_s_2: 0.29999999999628424\n",
      "x_p1: 0.7033004449239642\n",
      "x_p1_1: 0.6033004449181201\n",
      "x_p1_2: 0.5033004449169329\n",
      "x_p2: 0.49999999999985933\n",
      "x_p2_1: 0.3999999999990237\n",
      "x_p2_2: 0.2999999999983564\n",
      "x_r2: 1.0654996833633545\n",
      "x_r2_1: 0.965499683361926\n",
      "x_r2_2: 0.8654996832013839\n",
      "88\n"
     ]
    }
   ],
   "source": [
    "best_parameters, values = Tag_client.get_best_parameters()\n",
    "for name, value in best_parameters.items():\n",
    "    print(f\"{name}: {value}\")\n",
    "print(score_vals(param_to_list(best_parameters)))"
   ]
  },
  {
   "cell_type": "code",
   "execution_count": 241,
   "metadata": {},
   "outputs": [
    {
     "data": {
      "text/plain": [
       "[array([9, 6, 5]),\n",
       " array([29, 27, 33]),\n",
       " array([80, 85, 71]),\n",
       " array([0.5, 0.4, 0.3]),\n",
       " array([0.70330044, 0.60330044, 0.50330044]),\n",
       " array([0.5, 0.4, 0.3]),\n",
       " array([1.06549968, 0.96549968, 0.86549968])]"
      ]
     },
     "execution_count": 241,
     "metadata": {},
     "output_type": "execute_result"
    }
   ],
   "source": [
    "param_to_list(best_parameters)"
   ]
  },
  {
   "cell_type": "code",
   "execution_count": 225,
   "metadata": {},
   "outputs": [
    {
     "data": {
      "application/vnd.plotly.v1+json": {
       "config": {
        "linkText": "Export to plot.ly",
        "plotlyServerURL": "https://plot.ly",
        "showLink": false
       },
       "data": [
        {
         "hoverinfo": "none",
         "legendgroup": "",
         "line": {
          "width": 0
         },
         "mode": "lines",
         "showlegend": false,
         "type": "scatter",
         "x": {
          "bdata": "AQAAAAIAAAADAAAABAAAAAUAAAAGAAAABwAAAAgAAAAJAAAACgAAAAsAAAAMAAAADQAAAA4AAAAPAAAAEAAAABEAAAASAAAAEwAAABQAAAAVAAAAFgAAABcAAAAYAAAAGQAAABoAAAAbAAAAHAAAAB0AAAAeAAAAHwAAACAAAAAhAAAAIgAAACMAAAAkAAAAJQAAACYAAAAnAAAAKAAAACkAAAAqAAAAKwAAACwAAAAtAAAALgAAAC8AAAAwAAAAMQAAADIAAAAzAAAANAAAADUAAAA2AAAANwAAADgAAAA5AAAAOgAAADsAAAA8AAAAPQAAAD4AAAA/AAAAQAAAAEEAAABCAAAAQwAAAEQAAABFAAAARgAAAEcAAABIAAAASQAAAEoAAABLAAAATAAAAE0AAABOAAAATwAAAFAAAABRAAAAUgAAAFMAAABUAAAAVQAAAFYAAABXAAAAWAAAAFkAAABaAAAAWwAAAFwAAABdAAAAXgAAAF8AAABgAAAAYQAAAGIAAABjAAAAZAAAAGUAAABmAAAAZwAAAGgAAABpAAAAagAAAGsAAABsAAAAbQAAAG4AAABvAAAAcAAAAHEAAAByAAAAcwAAAHQAAAB1AAAAdgAAAHcAAAB4AAAAeQAAAHoAAAB7AAAAfAAAAH0AAAB+AAAAfwAAAIAAAACBAAAAggAAAIMAAACEAAAAhQAAAIYAAACHAAAAiAAAAIkAAACKAAAAiwAAAIwAAACNAAAAjgAAAI8AAACQAAAAkQAAAJIAAACTAAAAlAAAAJUAAACWAAAAlwAAAJgAAACZAAAAmgAAAJsAAACcAAAAnQAAAJ4AAACfAAAAoAAAAKEAAACiAAAAowAAAKQAAAClAAAApgAAAKcAAACoAAAAqQAAAKoAAACrAAAArAAAAK0AAACuAAAArwAAALAAAACxAAAAsgAAALMAAAC0AAAAtQAAALYAAAC3AAAAuAAAALkAAAC6AAAAuwAAALwAAAC9AAAAvgAAAL8AAADAAAAAwQAAAMIAAADDAAAAxAAAAMUAAADGAAAAxwAAAMgAAADJAAAAygAAAMsAAADMAAAAzQAAAM4AAADPAAAA0AAAANEAAADSAAAA0wAAANQAAADVAAAA1gAAANcAAADYAAAA2QAAANoAAADbAAAA3AAAAN0AAADeAAAA3wAAAOAAAADhAAAA4gAAAOMAAADkAAAA5QAAAOYAAADnAAAA6AAAAOkAAADqAAAA6wAAAOwAAADtAAAA7gAAAO8AAADwAAAA8QAAAPIAAADzAAAA9AAAAA==",
          "dtype": "i4"
         },
         "y": {
          "bdata": "AAAAAAAARkAAAAAAAABGQAAAAAAAAEZAAAAAAAAARkAAAAAAAABGQAAAAAAAAEZAAAAAAAAARkAAAAAAAABGQAAAAAAAAEZAAAAAAAAARkAAAAAAAABGQAAAAAAAAEZAAAAAAAAARkAAAAAAAABGQAAAAAAAAEZAAAAAAAAARkAAAAAAAABGQAAAAAAAAEZAAAAAAAAARkAAAAAAAABGQAAAAAAAAEZAAAAAAAAARkAAAAAAAABGQAAAAAAAAEZAAAAAAAAARkAAAAAAAABGQAAAAAAAAEZAAAAAAAAARkAAAAAAAABGQAAAAAAAAEZAAAAAAAAARkAAAAAAAABGQAAAAAAAAEZAAAAAAAAARkAAAAAAAABGQAAAAAAAAEZAAAAAAAAARkAAAAAAAABGQAAAAAAAAEZAAAAAAAAARkAAAAAAAABGQAAAAAAAAEZAAAAAAAAARkAAAAAAAABGQAAAAAAAwFNAAAAAAACAVkAAAAAAAIBWQAAAAAAAgFZAAAAAAACAVkAAAAAAAIBWQAAAAAAAgFZAAAAAAACAVkAAAAAAAIBWQAAAAAAAgFZAAAAAAACAVkAAAAAAAIBWQAAAAAAAgFZAAAAAAACAVkAAAAAAAIBWQAAAAAAAgFZAAAAAAACAVkAAAAAAAIBWQAAAAAAAgFZAAAAAAACAVkAAAAAAAIBWQAAAAAAAgFZAAAAAAACAVkAAAAAAAIBWQAAAAAAAgFZAAAAAAACAVkAAAAAAAIBWQAAAAAAAgFZAAAAAAACAVkAAAAAAAIBWQAAAAAAAgFZAAAAAAACAVkAAAAAAAIBWQAAAAAAAgFZAAAAAAACAVkAAAAAAAIBWQAAAAAAAgFZAAAAAAACAVkAAAAAAAIBWQAAAAAAAgFZAAAAAAACAVkAAAAAAAIBWQAAAAAAAgFZAAAAAAACAVkAAAAAAAIBWQAAAAAAAgFZAAAAAAACAVkAAAAAAAIBWQAAAAAAAgFZAAAAAAACAVkAAAAAAAIBWQAAAAAAAgFZAAAAAAACAVkAAAAAAAIBWQAAAAAAAgFZAAAAAAACAVkAAAAAAAIBWQAAAAAAAgFZAAAAAAACAVkAAAAAAAIBWQAAAAAAAgFZAAAAAAACAVkAAAAAAAIBWQAAAAAAAgFZAAAAAAACAVkAAAAAAAIBWQAAAAAAAgFZAAAAAAACAVkAAAAAAAIBWQAAAAAAAgFZAAAAAAACAVkAAAAAAAIBWQAAAAAAAgFZAAAAAAACAVkAAAAAAAIBWQAAAAAAAgFZAAAAAAACAVkAAAAAAAIBWQAAAAAAAgFZAAAAAAACAVkAAAAAAAIBWQAAAAAAAgFZAAAAAAACAVkAAAAAAAIBWQAAAAAAAgFZAAAAAAACAVkAAAAAAAIBWQAAAAAAAgFZAAAAAAACAVkAAAAAAAIBWQAAAAAAAgFZAAAAAAACAVkAAAAAAAIBWQAAAAAAAgFZAAAAAAACAVkAAAAAAAIBWQAAAAAAAgFZAAAAAAACAVkAAAAAAAIBWQAAAAAAAgFZAAAAAAACAVkAAAAAAAIBWQAAAAAAAgFZAAAAAAACAVkAAAAAAAIBWQAAAAAAAgFZAAAAAAACAVkAAAAAAAIBWQAAAAAAAgFZAAAAAAACAVkAAAAAAAIBWQAAAAAAAgFZAAAAAAACAVkAAAAAAAIBWQAAAAAAAgFZAAAAAAACAVkAAAAAAAIBWQAAAAAAAgFZAAAAAAACAVkAAAAAAAIBWQAAAAAAAgFZAAAAAAACAVkAAAAAAAIBWQAAAAAAAgFZAAAAAAACAVkAAAAAAAIBWQAAAAAAAgFZAAAAAAACAVkAAAAAAAIBWQAAAAAAAgFZAAAAAAACAVkAAAAAAAIBWQAAAAAAAgFZAAAAAAACAVkAAAAAAAIBWQAAAAAAAgFZAAAAAAACAVkAAAAAAAIBWQAAAAAAAgFZAAAAAAACAVkAAAAAAAIBWQAAAAAAAgFZAAAAAAACAVkAAAAAAAIBWQAAAAAAAgFZAAAAAAACAVkAAAAAAAIBWQAAAAAAAgFZAAAAAAACAVkAAAAAAAIBWQAAAAAAAgFZAAAAAAAAAWkAAAAAAAABaQAAAAAAAAFpAAAAAAAAAWkAAAAAAAABaQAAAAAAAAFpAAAAAAAAAWkAAAAAAAABaQAAAAAAAAFpAAAAAAAAAWkAAAAAAAABaQAAAAAAAAFpAAAAAAAAAWkAAAAAAAABaQAAAAAAAAFpAAAAAAAAAWkAAAAAAAABaQAAAAAAAAFpAAAAAAAAAWkAAAAAAAABaQAAAAAAAAFpAAAAAAAAAWkAAAAAAAABaQAAAAAAAAFpAAAAAAAAAWkAAAAAAAABaQAAAAAAAAFpAAAAAAAAAWkAAAAAAAABaQAAAAAAAAFpAAAAAAAAAWkAAAAAAAABaQAAAAAAAAFpAAAAAAAAAWkAAAAAAAABaQAAAAAAAAFpAAAAAAAAAWkAAAAAAAABaQAAAAAAAAFpAAAAAAAAAWkAAAAAAAABaQAAAAAAAAFpAAAAAAAAAWkAAAAAAAABaQAAAAAAAAFpAAAAAAAAAWkAAAAAAAABaQAAAAAAAAFpAAAAAAAAAWkA=",
          "dtype": "f8"
         }
        },
        {
         "fill": "tonexty",
         "fillcolor": "rgba(128,177,211,0.3)",
         "legendgroup": "objective value",
         "line": {
          "color": "rgba(128,177,211,1)"
         },
         "mode": "lines",
         "name": "objective value",
         "text": [
          "Parameterization has too many items to render on hover (21).",
          "Parameterization has too many items to render on hover (21).",
          "Parameterization has too many items to render on hover (21).",
          "Parameterization has too many items to render on hover (21).",
          "Parameterization has too many items to render on hover (21).",
          "Parameterization has too many items to render on hover (21).",
          "Parameterization has too many items to render on hover (21).",
          "Parameterization has too many items to render on hover (21).",
          "Parameterization has too many items to render on hover (21).",
          "Parameterization has too many items to render on hover (21).",
          "Parameterization has too many items to render on hover (21).",
          "Parameterization has too many items to render on hover (21).",
          "Parameterization has too many items to render on hover (21).",
          "Parameterization has too many items to render on hover (21).",
          "Parameterization has too many items to render on hover (21).",
          "Parameterization has too many items to render on hover (21).",
          "Parameterization has too many items to render on hover (21).",
          "Parameterization has too many items to render on hover (21).",
          "Parameterization has too many items to render on hover (21).",
          "Parameterization has too many items to render on hover (21).",
          "Parameterization has too many items to render on hover (21).",
          "Parameterization has too many items to render on hover (21).",
          "Parameterization has too many items to render on hover (21).",
          "Parameterization has too many items to render on hover (21).",
          "Parameterization has too many items to render on hover (21).",
          "Parameterization has too many items to render on hover (21).",
          "Parameterization has too many items to render on hover (21).",
          "Parameterization has too many items to render on hover (21).",
          "Parameterization has too many items to render on hover (21).",
          "Parameterization has too many items to render on hover (21).",
          "Parameterization has too many items to render on hover (21).",
          "Parameterization has too many items to render on hover (21).",
          "Parameterization has too many items to render on hover (21).",
          "Parameterization has too many items to render on hover (21).",
          "Parameterization has too many items to render on hover (21).",
          "Parameterization has too many items to render on hover (21).",
          "Parameterization has too many items to render on hover (21).",
          "Parameterization has too many items to render on hover (21).",
          "Parameterization has too many items to render on hover (21).",
          "Parameterization has too many items to render on hover (21).",
          "Parameterization has too many items to render on hover (21).",
          "Parameterization has too many items to render on hover (21).",
          "Parameterization has too many items to render on hover (21).",
          "Parameterization has too many items to render on hover (21).",
          "Parameterization has too many items to render on hover (21).",
          "Parameterization has too many items to render on hover (21).",
          "Parameterization has too many items to render on hover (21).",
          "Parameterization has too many items to render on hover (21).",
          "Parameterization has too many items to render on hover (21).",
          "Parameterization has too many items to render on hover (21).",
          "Parameterization has too many items to render on hover (21).",
          "Parameterization has too many items to render on hover (21).",
          "Parameterization has too many items to render on hover (21).",
          "Parameterization has too many items to render on hover (21).",
          "Parameterization has too many items to render on hover (21).",
          "Parameterization has too many items to render on hover (21).",
          "Parameterization has too many items to render on hover (21).",
          "Parameterization has too many items to render on hover (21).",
          "Parameterization has too many items to render on hover (21).",
          "Parameterization has too many items to render on hover (21).",
          "Parameterization has too many items to render on hover (21).",
          "Parameterization has too many items to render on hover (21).",
          "Parameterization has too many items to render on hover (21).",
          "Parameterization has too many items to render on hover (21).",
          "Parameterization has too many items to render on hover (21).",
          "Parameterization has too many items to render on hover (21).",
          "Parameterization has too many items to render on hover (21).",
          "Parameterization has too many items to render on hover (21).",
          "Parameterization has too many items to render on hover (21).",
          "Parameterization has too many items to render on hover (21).",
          "Parameterization has too many items to render on hover (21).",
          "Parameterization has too many items to render on hover (21).",
          "Parameterization has too many items to render on hover (21).",
          "Parameterization has too many items to render on hover (21).",
          "Parameterization has too many items to render on hover (21).",
          "Parameterization has too many items to render on hover (21).",
          "Parameterization has too many items to render on hover (21).",
          "Parameterization has too many items to render on hover (21).",
          "Parameterization has too many items to render on hover (21).",
          "Parameterization has too many items to render on hover (21).",
          "Parameterization has too many items to render on hover (21).",
          "Parameterization has too many items to render on hover (21).",
          "Parameterization has too many items to render on hover (21).",
          "Parameterization has too many items to render on hover (21).",
          "Parameterization has too many items to render on hover (21).",
          "Parameterization has too many items to render on hover (21).",
          "Parameterization has too many items to render on hover (21).",
          "Parameterization has too many items to render on hover (21).",
          "Parameterization has too many items to render on hover (21).",
          "Parameterization has too many items to render on hover (21).",
          "Parameterization has too many items to render on hover (21).",
          "Parameterization has too many items to render on hover (21).",
          "Parameterization has too many items to render on hover (21).",
          "Parameterization has too many items to render on hover (21).",
          "Parameterization has too many items to render on hover (21).",
          "Parameterization has too many items to render on hover (21).",
          "Parameterization has too many items to render on hover (21).",
          "Parameterization has too many items to render on hover (21).",
          "Parameterization has too many items to render on hover (21).",
          "Parameterization has too many items to render on hover (21).",
          "Parameterization has too many items to render on hover (21).",
          "Parameterization has too many items to render on hover (21).",
          "Parameterization has too many items to render on hover (21).",
          "Parameterization has too many items to render on hover (21).",
          "Parameterization has too many items to render on hover (21).",
          "Parameterization has too many items to render on hover (21).",
          "Parameterization has too many items to render on hover (21).",
          "Parameterization has too many items to render on hover (21).",
          "Parameterization has too many items to render on hover (21).",
          "Parameterization has too many items to render on hover (21).",
          "Parameterization has too many items to render on hover (21).",
          "Parameterization has too many items to render on hover (21).",
          "Parameterization has too many items to render on hover (21).",
          "Parameterization has too many items to render on hover (21).",
          "Parameterization has too many items to render on hover (21).",
          "Parameterization has too many items to render on hover (21).",
          "Parameterization has too many items to render on hover (21).",
          "Parameterization has too many items to render on hover (21).",
          "Parameterization has too many items to render on hover (21).",
          "Parameterization has too many items to render on hover (21).",
          "Parameterization has too many items to render on hover (21).",
          "Parameterization has too many items to render on hover (21).",
          "Parameterization has too many items to render on hover (21).",
          "Parameterization has too many items to render on hover (21).",
          "Parameterization has too many items to render on hover (21).",
          "Parameterization has too many items to render on hover (21).",
          "Parameterization has too many items to render on hover (21).",
          "Parameterization has too many items to render on hover (21).",
          "Parameterization has too many items to render on hover (21).",
          "Parameterization has too many items to render on hover (21).",
          "Parameterization has too many items to render on hover (21).",
          "Parameterization has too many items to render on hover (21).",
          "Parameterization has too many items to render on hover (21).",
          "Parameterization has too many items to render on hover (21).",
          "Parameterization has too many items to render on hover (21).",
          "Parameterization has too many items to render on hover (21).",
          "Parameterization has too many items to render on hover (21).",
          "Parameterization has too many items to render on hover (21).",
          "Parameterization has too many items to render on hover (21).",
          "Parameterization has too many items to render on hover (21).",
          "Parameterization has too many items to render on hover (21).",
          "Parameterization has too many items to render on hover (21).",
          "Parameterization has too many items to render on hover (21).",
          "Parameterization has too many items to render on hover (21).",
          "Parameterization has too many items to render on hover (21).",
          "Parameterization has too many items to render on hover (21).",
          "Parameterization has too many items to render on hover (21).",
          "Parameterization has too many items to render on hover (21).",
          "Parameterization has too many items to render on hover (21).",
          "Parameterization has too many items to render on hover (21).",
          "Parameterization has too many items to render on hover (21).",
          "Parameterization has too many items to render on hover (21).",
          "Parameterization has too many items to render on hover (21).",
          "Parameterization has too many items to render on hover (21).",
          "Parameterization has too many items to render on hover (21).",
          "Parameterization has too many items to render on hover (21).",
          "Parameterization has too many items to render on hover (21).",
          "Parameterization has too many items to render on hover (21).",
          "Parameterization has too many items to render on hover (21).",
          "Parameterization has too many items to render on hover (21).",
          "Parameterization has too many items to render on hover (21).",
          "Parameterization has too many items to render on hover (21).",
          "Parameterization has too many items to render on hover (21).",
          "Parameterization has too many items to render on hover (21).",
          "Parameterization has too many items to render on hover (21).",
          "Parameterization has too many items to render on hover (21).",
          "Parameterization has too many items to render on hover (21).",
          "Parameterization has too many items to render on hover (21).",
          "Parameterization has too many items to render on hover (21).",
          "Parameterization has too many items to render on hover (21).",
          "Parameterization has too many items to render on hover (21).",
          "Parameterization has too many items to render on hover (21).",
          "Parameterization has too many items to render on hover (21).",
          "Parameterization has too many items to render on hover (21).",
          "Parameterization has too many items to render on hover (21).",
          "Parameterization has too many items to render on hover (21).",
          "Parameterization has too many items to render on hover (21).",
          "Parameterization has too many items to render on hover (21).",
          "Parameterization has too many items to render on hover (21).",
          "Parameterization has too many items to render on hover (21).",
          "Parameterization has too many items to render on hover (21).",
          "Parameterization has too many items to render on hover (21).",
          "Parameterization has too many items to render on hover (21).",
          "Parameterization has too many items to render on hover (21).",
          "Parameterization has too many items to render on hover (21).",
          "Parameterization has too many items to render on hover (21).",
          "Parameterization has too many items to render on hover (21).",
          "Parameterization has too many items to render on hover (21).",
          "Parameterization has too many items to render on hover (21).",
          "Parameterization has too many items to render on hover (21).",
          "Parameterization has too many items to render on hover (21).",
          "Parameterization has too many items to render on hover (21).",
          "Parameterization has too many items to render on hover (21).",
          "Parameterization has too many items to render on hover (21).",
          "Parameterization has too many items to render on hover (21).",
          "Parameterization has too many items to render on hover (21).",
          "Parameterization has too many items to render on hover (21).",
          "Parameterization has too many items to render on hover (21).",
          "Parameterization has too many items to render on hover (21).",
          "Parameterization has too many items to render on hover (21).",
          "Parameterization has too many items to render on hover (21).",
          "Parameterization has too many items to render on hover (21).",
          "Parameterization has too many items to render on hover (21).",
          "Parameterization has too many items to render on hover (21).",
          "Parameterization has too many items to render on hover (21).",
          "Parameterization has too many items to render on hover (21).",
          "Parameterization has too many items to render on hover (21).",
          "Parameterization has too many items to render on hover (21).",
          "Parameterization has too many items to render on hover (21).",
          "Parameterization has too many items to render on hover (21).",
          "Parameterization has too many items to render on hover (21).",
          "Parameterization has too many items to render on hover (21).",
          "Parameterization has too many items to render on hover (21).",
          "Parameterization has too many items to render on hover (21).",
          "Parameterization has too many items to render on hover (21).",
          "Parameterization has too many items to render on hover (21).",
          "Parameterization has too many items to render on hover (21).",
          "Parameterization has too many items to render on hover (21).",
          "Parameterization has too many items to render on hover (21).",
          "Parameterization has too many items to render on hover (21).",
          "Parameterization has too many items to render on hover (21).",
          "Parameterization has too many items to render on hover (21).",
          "Parameterization has too many items to render on hover (21).",
          "Parameterization has too many items to render on hover (21).",
          "Parameterization has too many items to render on hover (21).",
          "Parameterization has too many items to render on hover (21).",
          "Parameterization has too many items to render on hover (21).",
          "Parameterization has too many items to render on hover (21).",
          "Parameterization has too many items to render on hover (21).",
          "Parameterization has too many items to render on hover (21).",
          "Parameterization has too many items to render on hover (21).",
          "Parameterization has too many items to render on hover (21).",
          "Parameterization has too many items to render on hover (21).",
          "Parameterization has too many items to render on hover (21).",
          "Parameterization has too many items to render on hover (21).",
          "Parameterization has too many items to render on hover (21).",
          "Parameterization has too many items to render on hover (21).",
          "Parameterization has too many items to render on hover (21).",
          "Parameterization has too many items to render on hover (21).",
          "Parameterization has too many items to render on hover (21).",
          "Parameterization has too many items to render on hover (21).",
          "Parameterization has too many items to render on hover (21).",
          "Parameterization has too many items to render on hover (21).",
          "Parameterization has too many items to render on hover (21)."
         ],
         "type": "scatter",
         "x": {
          "bdata": "AQAAAAIAAAADAAAABAAAAAUAAAAGAAAABwAAAAgAAAAJAAAACgAAAAsAAAAMAAAADQAAAA4AAAAPAAAAEAAAABEAAAASAAAAEwAAABQAAAAVAAAAFgAAABcAAAAYAAAAGQAAABoAAAAbAAAAHAAAAB0AAAAeAAAAHwAAACAAAAAhAAAAIgAAACMAAAAkAAAAJQAAACYAAAAnAAAAKAAAACkAAAAqAAAAKwAAACwAAAAtAAAALgAAAC8AAAAwAAAAMQAAADIAAAAzAAAANAAAADUAAAA2AAAANwAAADgAAAA5AAAAOgAAADsAAAA8AAAAPQAAAD4AAAA/AAAAQAAAAEEAAABCAAAAQwAAAEQAAABFAAAARgAAAEcAAABIAAAASQAAAEoAAABLAAAATAAAAE0AAABOAAAATwAAAFAAAABRAAAAUgAAAFMAAABUAAAAVQAAAFYAAABXAAAAWAAAAFkAAABaAAAAWwAAAFwAAABdAAAAXgAAAF8AAABgAAAAYQAAAGIAAABjAAAAZAAAAGUAAABmAAAAZwAAAGgAAABpAAAAagAAAGsAAABsAAAAbQAAAG4AAABvAAAAcAAAAHEAAAByAAAAcwAAAHQAAAB1AAAAdgAAAHcAAAB4AAAAeQAAAHoAAAB7AAAAfAAAAH0AAAB+AAAAfwAAAIAAAACBAAAAggAAAIMAAACEAAAAhQAAAIYAAACHAAAAiAAAAIkAAACKAAAAiwAAAIwAAACNAAAAjgAAAI8AAACQAAAAkQAAAJIAAACTAAAAlAAAAJUAAACWAAAAlwAAAJgAAACZAAAAmgAAAJsAAACcAAAAnQAAAJ4AAACfAAAAoAAAAKEAAACiAAAAowAAAKQAAAClAAAApgAAAKcAAACoAAAAqQAAAKoAAACrAAAArAAAAK0AAACuAAAArwAAALAAAACxAAAAsgAAALMAAAC0AAAAtQAAALYAAAC3AAAAuAAAALkAAAC6AAAAuwAAALwAAAC9AAAAvgAAAL8AAADAAAAAwQAAAMIAAADDAAAAxAAAAMUAAADGAAAAxwAAAMgAAADJAAAAygAAAMsAAADMAAAAzQAAAM4AAADPAAAA0AAAANEAAADSAAAA0wAAANQAAADVAAAA1gAAANcAAADYAAAA2QAAANoAAADbAAAA3AAAAN0AAADeAAAA3wAAAOAAAADhAAAA4gAAAOMAAADkAAAA5QAAAOYAAADnAAAA6AAAAOkAAADqAAAA6wAAAOwAAADtAAAA7gAAAO8AAADwAAAA8QAAAPIAAADzAAAA9AAAAA==",
          "dtype": "i4"
         },
         "y": {
          "bdata": "AAAAAAAARkAAAAAAAABGQAAAAAAAAEZAAAAAAAAARkAAAAAAAABGQAAAAAAAAEZAAAAAAAAARkAAAAAAAABGQAAAAAAAAEZAAAAAAAAARkAAAAAAAABGQAAAAAAAAEZAAAAAAAAARkAAAAAAAABGQAAAAAAAAEZAAAAAAAAARkAAAAAAAABGQAAAAAAAAEZAAAAAAAAARkAAAAAAAABGQAAAAAAAAEZAAAAAAAAARkAAAAAAAABGQAAAAAAAAEZAAAAAAAAARkAAAAAAAABGQAAAAAAAAEZAAAAAAAAARkAAAAAAAABGQAAAAAAAAEZAAAAAAAAARkAAAAAAAABGQAAAAAAAAEZAAAAAAAAARkAAAAAAAABGQAAAAAAAAEZAAAAAAAAARkAAAAAAAABGQAAAAAAAAEZAAAAAAAAARkAAAAAAAABGQAAAAAAAAEZAAAAAAAAARkAAAAAAAABGQAAAAAAAwFNAAAAAAACAVkAAAAAAAIBWQAAAAAAAgFZAAAAAAACAVkAAAAAAAIBWQAAAAAAAgFZAAAAAAACAVkAAAAAAAIBWQAAAAAAAgFZAAAAAAACAVkAAAAAAAIBWQAAAAAAAgFZAAAAAAACAVkAAAAAAAIBWQAAAAAAAgFZAAAAAAACAVkAAAAAAAIBWQAAAAAAAgFZAAAAAAACAVkAAAAAAAIBWQAAAAAAAgFZAAAAAAACAVkAAAAAAAIBWQAAAAAAAgFZAAAAAAACAVkAAAAAAAIBWQAAAAAAAgFZAAAAAAACAVkAAAAAAAIBWQAAAAAAAgFZAAAAAAACAVkAAAAAAAIBWQAAAAAAAgFZAAAAAAACAVkAAAAAAAIBWQAAAAAAAgFZAAAAAAACAVkAAAAAAAIBWQAAAAAAAgFZAAAAAAACAVkAAAAAAAIBWQAAAAAAAgFZAAAAAAACAVkAAAAAAAIBWQAAAAAAAgFZAAAAAAACAVkAAAAAAAIBWQAAAAAAAgFZAAAAAAACAVkAAAAAAAIBWQAAAAAAAgFZAAAAAAACAVkAAAAAAAIBWQAAAAAAAgFZAAAAAAACAVkAAAAAAAIBWQAAAAAAAgFZAAAAAAACAVkAAAAAAAIBWQAAAAAAAgFZAAAAAAACAVkAAAAAAAIBWQAAAAAAAgFZAAAAAAACAVkAAAAAAAIBWQAAAAAAAgFZAAAAAAACAVkAAAAAAAIBWQAAAAAAAgFZAAAAAAACAVkAAAAAAAIBWQAAAAAAAgFZAAAAAAACAVkAAAAAAAIBWQAAAAAAAgFZAAAAAAACAVkAAAAAAAIBWQAAAAAAAgFZAAAAAAACAVkAAAAAAAIBWQAAAAAAAgFZAAAAAAACAVkAAAAAAAIBWQAAAAAAAgFZAAAAAAACAVkAAAAAAAIBWQAAAAAAAgFZAAAAAAACAVkAAAAAAAIBWQAAAAAAAgFZAAAAAAACAVkAAAAAAAIBWQAAAAAAAgFZAAAAAAACAVkAAAAAAAIBWQAAAAAAAgFZAAAAAAACAVkAAAAAAAIBWQAAAAAAAgFZAAAAAAACAVkAAAAAAAIBWQAAAAAAAgFZAAAAAAACAVkAAAAAAAIBWQAAAAAAAgFZAAAAAAACAVkAAAAAAAIBWQAAAAAAAgFZAAAAAAACAVkAAAAAAAIBWQAAAAAAAgFZAAAAAAACAVkAAAAAAAIBWQAAAAAAAgFZAAAAAAACAVkAAAAAAAIBWQAAAAAAAgFZAAAAAAACAVkAAAAAAAIBWQAAAAAAAgFZAAAAAAACAVkAAAAAAAIBWQAAAAAAAgFZAAAAAAACAVkAAAAAAAIBWQAAAAAAAgFZAAAAAAACAVkAAAAAAAIBWQAAAAAAAgFZAAAAAAACAVkAAAAAAAIBWQAAAAAAAgFZAAAAAAACAVkAAAAAAAIBWQAAAAAAAgFZAAAAAAACAVkAAAAAAAIBWQAAAAAAAgFZAAAAAAACAVkAAAAAAAIBWQAAAAAAAgFZAAAAAAACAVkAAAAAAAIBWQAAAAAAAgFZAAAAAAACAVkAAAAAAAIBWQAAAAAAAgFZAAAAAAACAVkAAAAAAAIBWQAAAAAAAgFZAAAAAAAAAWkAAAAAAAABaQAAAAAAAAFpAAAAAAAAAWkAAAAAAAABaQAAAAAAAAFpAAAAAAAAAWkAAAAAAAABaQAAAAAAAAFpAAAAAAAAAWkAAAAAAAABaQAAAAAAAAFpAAAAAAAAAWkAAAAAAAABaQAAAAAAAAFpAAAAAAAAAWkAAAAAAAABaQAAAAAAAAFpAAAAAAAAAWkAAAAAAAABaQAAAAAAAAFpAAAAAAAAAWkAAAAAAAABaQAAAAAAAAFpAAAAAAAAAWkAAAAAAAABaQAAAAAAAAFpAAAAAAAAAWkAAAAAAAABaQAAAAAAAAFpAAAAAAAAAWkAAAAAAAABaQAAAAAAAAFpAAAAAAAAAWkAAAAAAAABaQAAAAAAAAFpAAAAAAAAAWkAAAAAAAABaQAAAAAAAAFpAAAAAAAAAWkAAAAAAAABaQAAAAAAAAFpAAAAAAAAAWkAAAAAAAABaQAAAAAAAAFpAAAAAAAAAWkAAAAAAAABaQAAAAAAAAFpAAAAAAAAAWkA=",
          "dtype": "f8"
         }
        },
        {
         "fill": "tonexty",
         "fillcolor": "rgba(128,177,211,0.3)",
         "hoverinfo": "none",
         "legendgroup": "",
         "line": {
          "width": 0
         },
         "mode": "lines",
         "showlegend": false,
         "type": "scatter",
         "x": {
          "bdata": "AQAAAAIAAAADAAAABAAAAAUAAAAGAAAABwAAAAgAAAAJAAAACgAAAAsAAAAMAAAADQAAAA4AAAAPAAAAEAAAABEAAAASAAAAEwAAABQAAAAVAAAAFgAAABcAAAAYAAAAGQAAABoAAAAbAAAAHAAAAB0AAAAeAAAAHwAAACAAAAAhAAAAIgAAACMAAAAkAAAAJQAAACYAAAAnAAAAKAAAACkAAAAqAAAAKwAAACwAAAAtAAAALgAAAC8AAAAwAAAAMQAAADIAAAAzAAAANAAAADUAAAA2AAAANwAAADgAAAA5AAAAOgAAADsAAAA8AAAAPQAAAD4AAAA/AAAAQAAAAEEAAABCAAAAQwAAAEQAAABFAAAARgAAAEcAAABIAAAASQAAAEoAAABLAAAATAAAAE0AAABOAAAATwAAAFAAAABRAAAAUgAAAFMAAABUAAAAVQAAAFYAAABXAAAAWAAAAFkAAABaAAAAWwAAAFwAAABdAAAAXgAAAF8AAABgAAAAYQAAAGIAAABjAAAAZAAAAGUAAABmAAAAZwAAAGgAAABpAAAAagAAAGsAAABsAAAAbQAAAG4AAABvAAAAcAAAAHEAAAByAAAAcwAAAHQAAAB1AAAAdgAAAHcAAAB4AAAAeQAAAHoAAAB7AAAAfAAAAH0AAAB+AAAAfwAAAIAAAACBAAAAggAAAIMAAACEAAAAhQAAAIYAAACHAAAAiAAAAIkAAACKAAAAiwAAAIwAAACNAAAAjgAAAI8AAACQAAAAkQAAAJIAAACTAAAAlAAAAJUAAACWAAAAlwAAAJgAAACZAAAAmgAAAJsAAACcAAAAnQAAAJ4AAACfAAAAoAAAAKEAAACiAAAAowAAAKQAAAClAAAApgAAAKcAAACoAAAAqQAAAKoAAACrAAAArAAAAK0AAACuAAAArwAAALAAAACxAAAAsgAAALMAAAC0AAAAtQAAALYAAAC3AAAAuAAAALkAAAC6AAAAuwAAALwAAAC9AAAAvgAAAL8AAADAAAAAwQAAAMIAAADDAAAAxAAAAMUAAADGAAAAxwAAAMgAAADJAAAAygAAAMsAAADMAAAAzQAAAM4AAADPAAAA0AAAANEAAADSAAAA0wAAANQAAADVAAAA1gAAANcAAADYAAAA2QAAANoAAADbAAAA3AAAAN0AAADeAAAA3wAAAOAAAADhAAAA4gAAAOMAAADkAAAA5QAAAOYAAADnAAAA6AAAAOkAAADqAAAA6wAAAOwAAADtAAAA7gAAAO8AAADwAAAA8QAAAPIAAADzAAAA9AAAAA==",
          "dtype": "i4"
         },
         "y": {
          "bdata": "AAAAAAAARkAAAAAAAABGQAAAAAAAAEZAAAAAAAAARkAAAAAAAABGQAAAAAAAAEZAAAAAAAAARkAAAAAAAABGQAAAAAAAAEZAAAAAAAAARkAAAAAAAABGQAAAAAAAAEZAAAAAAAAARkAAAAAAAABGQAAAAAAAAEZAAAAAAAAARkAAAAAAAABGQAAAAAAAAEZAAAAAAAAARkAAAAAAAABGQAAAAAAAAEZAAAAAAAAARkAAAAAAAABGQAAAAAAAAEZAAAAAAAAARkAAAAAAAABGQAAAAAAAAEZAAAAAAAAARkAAAAAAAABGQAAAAAAAAEZAAAAAAAAARkAAAAAAAABGQAAAAAAAAEZAAAAAAAAARkAAAAAAAABGQAAAAAAAAEZAAAAAAAAARkAAAAAAAABGQAAAAAAAAEZAAAAAAAAARkAAAAAAAABGQAAAAAAAAEZAAAAAAAAARkAAAAAAAABGQAAAAAAAwFNAAAAAAACAVkAAAAAAAIBWQAAAAAAAgFZAAAAAAACAVkAAAAAAAIBWQAAAAAAAgFZAAAAAAACAVkAAAAAAAIBWQAAAAAAAgFZAAAAAAACAVkAAAAAAAIBWQAAAAAAAgFZAAAAAAACAVkAAAAAAAIBWQAAAAAAAgFZAAAAAAACAVkAAAAAAAIBWQAAAAAAAgFZAAAAAAACAVkAAAAAAAIBWQAAAAAAAgFZAAAAAAACAVkAAAAAAAIBWQAAAAAAAgFZAAAAAAACAVkAAAAAAAIBWQAAAAAAAgFZAAAAAAACAVkAAAAAAAIBWQAAAAAAAgFZAAAAAAACAVkAAAAAAAIBWQAAAAAAAgFZAAAAAAACAVkAAAAAAAIBWQAAAAAAAgFZAAAAAAACAVkAAAAAAAIBWQAAAAAAAgFZAAAAAAACAVkAAAAAAAIBWQAAAAAAAgFZAAAAAAACAVkAAAAAAAIBWQAAAAAAAgFZAAAAAAACAVkAAAAAAAIBWQAAAAAAAgFZAAAAAAACAVkAAAAAAAIBWQAAAAAAAgFZAAAAAAACAVkAAAAAAAIBWQAAAAAAAgFZAAAAAAACAVkAAAAAAAIBWQAAAAAAAgFZAAAAAAACAVkAAAAAAAIBWQAAAAAAAgFZAAAAAAACAVkAAAAAAAIBWQAAAAAAAgFZAAAAAAACAVkAAAAAAAIBWQAAAAAAAgFZAAAAAAACAVkAAAAAAAIBWQAAAAAAAgFZAAAAAAACAVkAAAAAAAIBWQAAAAAAAgFZAAAAAAACAVkAAAAAAAIBWQAAAAAAAgFZAAAAAAACAVkAAAAAAAIBWQAAAAAAAgFZAAAAAAACAVkAAAAAAAIBWQAAAAAAAgFZAAAAAAACAVkAAAAAAAIBWQAAAAAAAgFZAAAAAAACAVkAAAAAAAIBWQAAAAAAAgFZAAAAAAACAVkAAAAAAAIBWQAAAAAAAgFZAAAAAAACAVkAAAAAAAIBWQAAAAAAAgFZAAAAAAACAVkAAAAAAAIBWQAAAAAAAgFZAAAAAAACAVkAAAAAAAIBWQAAAAAAAgFZAAAAAAACAVkAAAAAAAIBWQAAAAAAAgFZAAAAAAACAVkAAAAAAAIBWQAAAAAAAgFZAAAAAAACAVkAAAAAAAIBWQAAAAAAAgFZAAAAAAACAVkAAAAAAAIBWQAAAAAAAgFZAAAAAAACAVkAAAAAAAIBWQAAAAAAAgFZAAAAAAACAVkAAAAAAAIBWQAAAAAAAgFZAAAAAAACAVkAAAAAAAIBWQAAAAAAAgFZAAAAAAACAVkAAAAAAAIBWQAAAAAAAgFZAAAAAAACAVkAAAAAAAIBWQAAAAAAAgFZAAAAAAACAVkAAAAAAAIBWQAAAAAAAgFZAAAAAAACAVkAAAAAAAIBWQAAAAAAAgFZAAAAAAACAVkAAAAAAAIBWQAAAAAAAgFZAAAAAAACAVkAAAAAAAIBWQAAAAAAAgFZAAAAAAACAVkAAAAAAAIBWQAAAAAAAgFZAAAAAAACAVkAAAAAAAIBWQAAAAAAAgFZAAAAAAACAVkAAAAAAAIBWQAAAAAAAgFZAAAAAAACAVkAAAAAAAIBWQAAAAAAAgFZAAAAAAAAAWkAAAAAAAABaQAAAAAAAAFpAAAAAAAAAWkAAAAAAAABaQAAAAAAAAFpAAAAAAAAAWkAAAAAAAABaQAAAAAAAAFpAAAAAAAAAWkAAAAAAAABaQAAAAAAAAFpAAAAAAAAAWkAAAAAAAABaQAAAAAAAAFpAAAAAAAAAWkAAAAAAAABaQAAAAAAAAFpAAAAAAAAAWkAAAAAAAABaQAAAAAAAAFpAAAAAAAAAWkAAAAAAAABaQAAAAAAAAFpAAAAAAAAAWkAAAAAAAABaQAAAAAAAAFpAAAAAAAAAWkAAAAAAAABaQAAAAAAAAFpAAAAAAAAAWkAAAAAAAABaQAAAAAAAAFpAAAAAAAAAWkAAAAAAAABaQAAAAAAAAFpAAAAAAAAAWkAAAAAAAABaQAAAAAAAAFpAAAAAAAAAWkAAAAAAAABaQAAAAAAAAFpAAAAAAAAAWkAAAAAAAABaQAAAAAAAAFpAAAAAAAAAWkAAAAAAAABaQAAAAAAAAFpAAAAAAAAAWkA=",
          "dtype": "f8"
         }
        }
       ],
       "layout": {
        "showlegend": true,
        "template": {
         "data": {
          "bar": [
           {
            "error_x": {
             "color": "#2a3f5f"
            },
            "error_y": {
             "color": "#2a3f5f"
            },
            "marker": {
             "line": {
              "color": "#E5ECF6",
              "width": 0.5
             },
             "pattern": {
              "fillmode": "overlay",
              "size": 10,
              "solidity": 0.2
             }
            },
            "type": "bar"
           }
          ],
          "barpolar": [
           {
            "marker": {
             "line": {
              "color": "#E5ECF6",
              "width": 0.5
             },
             "pattern": {
              "fillmode": "overlay",
              "size": 10,
              "solidity": 0.2
             }
            },
            "type": "barpolar"
           }
          ],
          "carpet": [
           {
            "aaxis": {
             "endlinecolor": "#2a3f5f",
             "gridcolor": "white",
             "linecolor": "white",
             "minorgridcolor": "white",
             "startlinecolor": "#2a3f5f"
            },
            "baxis": {
             "endlinecolor": "#2a3f5f",
             "gridcolor": "white",
             "linecolor": "white",
             "minorgridcolor": "white",
             "startlinecolor": "#2a3f5f"
            },
            "type": "carpet"
           }
          ],
          "choropleth": [
           {
            "colorbar": {
             "outlinewidth": 0,
             "ticks": ""
            },
            "type": "choropleth"
           }
          ],
          "contour": [
           {
            "colorbar": {
             "outlinewidth": 0,
             "ticks": ""
            },
            "colorscale": [
             [
              0,
              "#0d0887"
             ],
             [
              0.1111111111111111,
              "#46039f"
             ],
             [
              0.2222222222222222,
              "#7201a8"
             ],
             [
              0.3333333333333333,
              "#9c179e"
             ],
             [
              0.4444444444444444,
              "#bd3786"
             ],
             [
              0.5555555555555556,
              "#d8576b"
             ],
             [
              0.6666666666666666,
              "#ed7953"
             ],
             [
              0.7777777777777778,
              "#fb9f3a"
             ],
             [
              0.8888888888888888,
              "#fdca26"
             ],
             [
              1,
              "#f0f921"
             ]
            ],
            "type": "contour"
           }
          ],
          "contourcarpet": [
           {
            "colorbar": {
             "outlinewidth": 0,
             "ticks": ""
            },
            "type": "contourcarpet"
           }
          ],
          "heatmap": [
           {
            "colorbar": {
             "outlinewidth": 0,
             "ticks": ""
            },
            "colorscale": [
             [
              0,
              "#0d0887"
             ],
             [
              0.1111111111111111,
              "#46039f"
             ],
             [
              0.2222222222222222,
              "#7201a8"
             ],
             [
              0.3333333333333333,
              "#9c179e"
             ],
             [
              0.4444444444444444,
              "#bd3786"
             ],
             [
              0.5555555555555556,
              "#d8576b"
             ],
             [
              0.6666666666666666,
              "#ed7953"
             ],
             [
              0.7777777777777778,
              "#fb9f3a"
             ],
             [
              0.8888888888888888,
              "#fdca26"
             ],
             [
              1,
              "#f0f921"
             ]
            ],
            "type": "heatmap"
           }
          ],
          "histogram": [
           {
            "marker": {
             "pattern": {
              "fillmode": "overlay",
              "size": 10,
              "solidity": 0.2
             }
            },
            "type": "histogram"
           }
          ],
          "histogram2d": [
           {
            "colorbar": {
             "outlinewidth": 0,
             "ticks": ""
            },
            "colorscale": [
             [
              0,
              "#0d0887"
             ],
             [
              0.1111111111111111,
              "#46039f"
             ],
             [
              0.2222222222222222,
              "#7201a8"
             ],
             [
              0.3333333333333333,
              "#9c179e"
             ],
             [
              0.4444444444444444,
              "#bd3786"
             ],
             [
              0.5555555555555556,
              "#d8576b"
             ],
             [
              0.6666666666666666,
              "#ed7953"
             ],
             [
              0.7777777777777778,
              "#fb9f3a"
             ],
             [
              0.8888888888888888,
              "#fdca26"
             ],
             [
              1,
              "#f0f921"
             ]
            ],
            "type": "histogram2d"
           }
          ],
          "histogram2dcontour": [
           {
            "colorbar": {
             "outlinewidth": 0,
             "ticks": ""
            },
            "colorscale": [
             [
              0,
              "#0d0887"
             ],
             [
              0.1111111111111111,
              "#46039f"
             ],
             [
              0.2222222222222222,
              "#7201a8"
             ],
             [
              0.3333333333333333,
              "#9c179e"
             ],
             [
              0.4444444444444444,
              "#bd3786"
             ],
             [
              0.5555555555555556,
              "#d8576b"
             ],
             [
              0.6666666666666666,
              "#ed7953"
             ],
             [
              0.7777777777777778,
              "#fb9f3a"
             ],
             [
              0.8888888888888888,
              "#fdca26"
             ],
             [
              1,
              "#f0f921"
             ]
            ],
            "type": "histogram2dcontour"
           }
          ],
          "mesh3d": [
           {
            "colorbar": {
             "outlinewidth": 0,
             "ticks": ""
            },
            "type": "mesh3d"
           }
          ],
          "parcoords": [
           {
            "line": {
             "colorbar": {
              "outlinewidth": 0,
              "ticks": ""
             }
            },
            "type": "parcoords"
           }
          ],
          "pie": [
           {
            "automargin": true,
            "type": "pie"
           }
          ],
          "scatter": [
           {
            "fillpattern": {
             "fillmode": "overlay",
             "size": 10,
             "solidity": 0.2
            },
            "type": "scatter"
           }
          ],
          "scatter3d": [
           {
            "line": {
             "colorbar": {
              "outlinewidth": 0,
              "ticks": ""
             }
            },
            "marker": {
             "colorbar": {
              "outlinewidth": 0,
              "ticks": ""
             }
            },
            "type": "scatter3d"
           }
          ],
          "scattercarpet": [
           {
            "marker": {
             "colorbar": {
              "outlinewidth": 0,
              "ticks": ""
             }
            },
            "type": "scattercarpet"
           }
          ],
          "scattergeo": [
           {
            "marker": {
             "colorbar": {
              "outlinewidth": 0,
              "ticks": ""
             }
            },
            "type": "scattergeo"
           }
          ],
          "scattergl": [
           {
            "marker": {
             "colorbar": {
              "outlinewidth": 0,
              "ticks": ""
             }
            },
            "type": "scattergl"
           }
          ],
          "scattermap": [
           {
            "marker": {
             "colorbar": {
              "outlinewidth": 0,
              "ticks": ""
             }
            },
            "type": "scattermap"
           }
          ],
          "scattermapbox": [
           {
            "marker": {
             "colorbar": {
              "outlinewidth": 0,
              "ticks": ""
             }
            },
            "type": "scattermapbox"
           }
          ],
          "scatterpolar": [
           {
            "marker": {
             "colorbar": {
              "outlinewidth": 0,
              "ticks": ""
             }
            },
            "type": "scatterpolar"
           }
          ],
          "scatterpolargl": [
           {
            "marker": {
             "colorbar": {
              "outlinewidth": 0,
              "ticks": ""
             }
            },
            "type": "scatterpolargl"
           }
          ],
          "scatterternary": [
           {
            "marker": {
             "colorbar": {
              "outlinewidth": 0,
              "ticks": ""
             }
            },
            "type": "scatterternary"
           }
          ],
          "surface": [
           {
            "colorbar": {
             "outlinewidth": 0,
             "ticks": ""
            },
            "colorscale": [
             [
              0,
              "#0d0887"
             ],
             [
              0.1111111111111111,
              "#46039f"
             ],
             [
              0.2222222222222222,
              "#7201a8"
             ],
             [
              0.3333333333333333,
              "#9c179e"
             ],
             [
              0.4444444444444444,
              "#bd3786"
             ],
             [
              0.5555555555555556,
              "#d8576b"
             ],
             [
              0.6666666666666666,
              "#ed7953"
             ],
             [
              0.7777777777777778,
              "#fb9f3a"
             ],
             [
              0.8888888888888888,
              "#fdca26"
             ],
             [
              1,
              "#f0f921"
             ]
            ],
            "type": "surface"
           }
          ],
          "table": [
           {
            "cells": {
             "fill": {
              "color": "#EBF0F8"
             },
             "line": {
              "color": "white"
             }
            },
            "header": {
             "fill": {
              "color": "#C8D4E3"
             },
             "line": {
              "color": "white"
             }
            },
            "type": "table"
           }
          ]
         },
         "layout": {
          "annotationdefaults": {
           "arrowcolor": "#2a3f5f",
           "arrowhead": 0,
           "arrowwidth": 1
          },
          "autotypenumbers": "strict",
          "coloraxis": {
           "colorbar": {
            "outlinewidth": 0,
            "ticks": ""
           }
          },
          "colorscale": {
           "diverging": [
            [
             0,
             "#8e0152"
            ],
            [
             0.1,
             "#c51b7d"
            ],
            [
             0.2,
             "#de77ae"
            ],
            [
             0.3,
             "#f1b6da"
            ],
            [
             0.4,
             "#fde0ef"
            ],
            [
             0.5,
             "#f7f7f7"
            ],
            [
             0.6,
             "#e6f5d0"
            ],
            [
             0.7,
             "#b8e186"
            ],
            [
             0.8,
             "#7fbc41"
            ],
            [
             0.9,
             "#4d9221"
            ],
            [
             1,
             "#276419"
            ]
           ],
           "sequential": [
            [
             0,
             "#0d0887"
            ],
            [
             0.1111111111111111,
             "#46039f"
            ],
            [
             0.2222222222222222,
             "#7201a8"
            ],
            [
             0.3333333333333333,
             "#9c179e"
            ],
            [
             0.4444444444444444,
             "#bd3786"
            ],
            [
             0.5555555555555556,
             "#d8576b"
            ],
            [
             0.6666666666666666,
             "#ed7953"
            ],
            [
             0.7777777777777778,
             "#fb9f3a"
            ],
            [
             0.8888888888888888,
             "#fdca26"
            ],
            [
             1,
             "#f0f921"
            ]
           ],
           "sequentialminus": [
            [
             0,
             "#0d0887"
            ],
            [
             0.1111111111111111,
             "#46039f"
            ],
            [
             0.2222222222222222,
             "#7201a8"
            ],
            [
             0.3333333333333333,
             "#9c179e"
            ],
            [
             0.4444444444444444,
             "#bd3786"
            ],
            [
             0.5555555555555556,
             "#d8576b"
            ],
            [
             0.6666666666666666,
             "#ed7953"
            ],
            [
             0.7777777777777778,
             "#fb9f3a"
            ],
            [
             0.8888888888888888,
             "#fdca26"
            ],
            [
             1,
             "#f0f921"
            ]
           ]
          },
          "colorway": [
           "#636efa",
           "#EF553B",
           "#00cc96",
           "#ab63fa",
           "#FFA15A",
           "#19d3f3",
           "#FF6692",
           "#B6E880",
           "#FF97FF",
           "#FECB52"
          ],
          "font": {
           "color": "#2a3f5f"
          },
          "geo": {
           "bgcolor": "white",
           "lakecolor": "white",
           "landcolor": "#E5ECF6",
           "showlakes": true,
           "showland": true,
           "subunitcolor": "white"
          },
          "hoverlabel": {
           "align": "left"
          },
          "hovermode": "closest",
          "mapbox": {
           "style": "light"
          },
          "paper_bgcolor": "white",
          "plot_bgcolor": "#E5ECF6",
          "polar": {
           "angularaxis": {
            "gridcolor": "white",
            "linecolor": "white",
            "ticks": ""
           },
           "bgcolor": "#E5ECF6",
           "radialaxis": {
            "gridcolor": "white",
            "linecolor": "white",
            "ticks": ""
           }
          },
          "scene": {
           "xaxis": {
            "backgroundcolor": "#E5ECF6",
            "gridcolor": "white",
            "gridwidth": 2,
            "linecolor": "white",
            "showbackground": true,
            "ticks": "",
            "zerolinecolor": "white"
           },
           "yaxis": {
            "backgroundcolor": "#E5ECF6",
            "gridcolor": "white",
            "gridwidth": 2,
            "linecolor": "white",
            "showbackground": true,
            "ticks": "",
            "zerolinecolor": "white"
           },
           "zaxis": {
            "backgroundcolor": "#E5ECF6",
            "gridcolor": "white",
            "gridwidth": 2,
            "linecolor": "white",
            "showbackground": true,
            "ticks": "",
            "zerolinecolor": "white"
           }
          },
          "shapedefaults": {
           "line": {
            "color": "#2a3f5f"
           }
          },
          "ternary": {
           "aaxis": {
            "gridcolor": "white",
            "linecolor": "white",
            "ticks": ""
           },
           "baxis": {
            "gridcolor": "white",
            "linecolor": "white",
            "ticks": ""
           },
           "bgcolor": "#E5ECF6",
           "caxis": {
            "gridcolor": "white",
            "linecolor": "white",
            "ticks": ""
           }
          },
          "title": {
           "x": 0.05
          },
          "xaxis": {
           "automargin": true,
           "gridcolor": "white",
           "linecolor": "white",
           "ticks": "",
           "title": {
            "standoff": 15
           },
           "zerolinecolor": "white",
           "zerolinewidth": 2
          },
          "yaxis": {
           "automargin": true,
           "gridcolor": "white",
           "linecolor": "white",
           "ticks": "",
           "title": {
            "standoff": 15
           },
           "zerolinecolor": "white",
           "zerolinewidth": 2
          }
         }
        },
        "title": {
         "text": "Best objective found vs. # of iterations"
        },
        "xaxis": {
         "title": {
          "text": "Iteration"
         }
        },
        "yaxis": {
         "title": {
          "text": "Viable_cross_terms"
         }
        }
       }
      }
     },
     "metadata": {},
     "output_type": "display_data"
    }
   ],
   "source": [
    "render(Tag_client.get_optimization_trace())"
   ]
  },
  {
   "cell_type": "code",
   "execution_count": 230,
   "metadata": {},
   "outputs": [
    {
     "name": "stderr",
     "output_type": "stream",
     "text": [
      "[INFO 04-05 15:01:35] ax.service.ax_client: Generated new trial 244 with parameters {'z_sh': 8, 'z_sh_1': 10, 'z_sh_2': 5, 'z_p2': 31, 'z_p2_1': 32, 'z_p2_2': 26, 'z_r2': 81, 'z_r2_1': 85, 'z_r2_2': 71, 'x_s': 0.5, 'x_s_1': 0.4, 'x_s_2': 0.3, 'x_p1': 1.0, 'x_p1_1': 0.9, 'x_p1_2': 0.8, 'x_p2': -0.18219, 'x_p2_1': -0.28219, 'x_p2_2': -0.38219, 'x_r2': 0.548937, 'x_r2_1': 0.448937, 'x_r2_2': 0.348937} using model BoTorch.\n",
      "[INFO 04-05 15:01:35] ax.service.ax_client: Completed trial 244 with data: {'Viable_Cross_Terms': (34, None)}.\n",
      "[INFO 04-05 15:01:56] ax.service.ax_client: Generated new trial 245 with parameters {'z_sh': 7, 'z_sh_1': 6, 'z_sh_2': 5, 'z_p2': 27, 'z_p2_1': 33, 'z_p2_2': 31, 'z_r2': 79, 'z_r2_1': 85, 'z_r2_2': 81, 'x_s': 0.5, 'x_s_1': 0.4, 'x_s_2': 0.3, 'x_p1': 0.888788, 'x_p1_1': 0.788788, 'x_p1_2': 0.688788, 'x_p2': -0.018141, 'x_p2_1': -0.118141, 'x_p2_2': -0.218141, 'x_r2': 0.63818, 'x_r2_1': 0.53818, 'x_r2_2': 0.43818} using model BoTorch.\n",
      "[INFO 04-05 15:01:56] ax.service.ax_client: Completed trial 245 with data: {'Viable_Cross_Terms': (32, None)}.\n",
      "[INFO 04-05 15:02:17] ax.service.ax_client: Generated new trial 246 with parameters {'z_sh': 7, 'z_sh_1': 6, 'z_sh_2': 5, 'z_p2': 30, 'z_p2_1': 31, 'z_p2_2': 27, 'z_r2': 79, 'z_r2_1': 80, 'z_r2_2': 75, 'x_s': 0.5, 'x_s_1': 0.4, 'x_s_2': 0.3, 'x_p1': 0.729314, 'x_p1_1': 0.629314, 'x_p1_2': 0.529314, 'x_p2': 0.278907, 'x_p2_1': 0.178907, 'x_p2_2': 0.078907, 'x_r2': 0.765899, 'x_r2_1': 0.665899, 'x_r2_2': 0.565899} using model BoTorch.\n",
      "[INFO 04-05 15:02:17] ax.service.ax_client: Completed trial 246 with data: {'Viable_Cross_Terms': (60, None)}.\n",
      "[INFO 04-05 15:02:38] ax.service.ax_client: Generated new trial 247 with parameters {'z_sh': 7, 'z_sh_1': 13, 'z_sh_2': 5, 'z_p2': 30, 'z_p2_1': 27, 'z_p2_2': 32, 'z_r2': 78, 'z_r2_1': 80, 'z_r2_2': 81, 'x_s': 0.5, 'x_s_1': 0.4, 'x_s_2': 0.3, 'x_p1': 0.662487, 'x_p1_1': 0.562487, 'x_p1_2': 0.462487, 'x_p2': 0.5, 'x_p2_1': 0.4, 'x_p2_2': 0.3, 'x_r2': 1.085353, 'x_r2_1': 0.985353, 'x_r2_2': 0.885353} using model BoTorch.\n",
      "[INFO 04-05 15:02:38] ax.service.ax_client: Completed trial 247 with data: {'Viable_Cross_Terms': (82, None)}.\n",
      "[INFO 04-05 15:03:00] ax.service.ax_client: Generated new trial 248 with parameters {'z_sh': 13, 'z_sh_1': 9, 'z_sh_2': 13, 'z_p2': 29, 'z_p2_1': 28, 'z_p2_2': 27, 'z_r2': 86, 'z_r2_1': 74, 'z_r2_2': 75, 'x_s': -0.3, 'x_s_1': -0.4, 'x_s_2': -0.5, 'x_p1': -0.8, 'x_p1_1': -0.9, 'x_p1_2': -1.0, 'x_p2': -0.3, 'x_p2_1': -0.4, 'x_p2_2': -0.5, 'x_r2': -0.753289, 'x_r2_1': -1.4, 'x_r2_2': -1.5} using model BoTorch.\n",
      "[INFO 04-05 15:03:00] ax.service.ax_client: Completed trial 248 with data: {'Viable_Cross_Terms': (0, None)}.\n",
      "[INFO 04-05 15:03:21] ax.service.ax_client: Generated new trial 249 with parameters {'z_sh': 7, 'z_sh_1': 8, 'z_sh_2': 5, 'z_p2': 31, 'z_p2_1': 31, 'z_p2_2': 29, 'z_r2': 79, 'z_r2_1': 75, 'z_r2_2': 78, 'x_s': 0.5, 'x_s_1': 0.4, 'x_s_2': 0.3, 'x_p1': 0.68477, 'x_p1_1': 0.58477, 'x_p1_2': 0.48477, 'x_p2': 0.266689, 'x_p2_1': 0.166689, 'x_p2_2': 0.066689, 'x_r2': 0.754722, 'x_r2_1': 0.654722, 'x_r2_2': 0.554722} using model BoTorch.\n",
      "[INFO 04-05 15:03:21] ax.service.ax_client: Completed trial 249 with data: {'Viable_Cross_Terms': (49, None)}.\n",
      "[INFO 04-05 15:03:43] ax.service.ax_client: Generated new trial 250 with parameters {'z_sh': 7, 'z_sh_1': 6, 'z_sh_2': 5, 'z_p2': 30, 'z_p2_1': 28, 'z_p2_2': 28, 'z_r2': 79, 'z_r2_1': 84, 'z_r2_2': 82, 'x_s': 0.5, 'x_s_1': 0.4, 'x_s_2': 0.3, 'x_p1': 0.65069, 'x_p1_1': 0.55069, 'x_p1_2': 0.45069, 'x_p2': 0.5, 'x_p2_1': 0.4, 'x_p2_2': 0.3, 'x_r2': 1.045439, 'x_r2_1': 0.945439, 'x_r2_2': 0.845439} using model BoTorch.\n",
      "[INFO 04-05 15:03:43] ax.service.ax_client: Completed trial 250 with data: {'Viable_Cross_Terms': (39, None)}.\n",
      "[INFO 04-05 15:04:04] ax.service.ax_client: Generated new trial 251 with parameters {'z_sh': 12, 'z_sh_1': 10, 'z_sh_2': 5, 'z_p2': 30, 'z_p2_1': 29, 'z_p2_2': 25, 'z_r2': 80, 'z_r2_1': 75, 'z_r2_2': 82, 'x_s': 0.5, 'x_s_1': 0.4, 'x_s_2': 0.3, 'x_p1': 0.794689, 'x_p1_1': 0.694689, 'x_p1_2': 0.594689, 'x_p2': 0.187439, 'x_p2_1': 0.087439, 'x_p2_2': -0.012561, 'x_r2': 0.669608, 'x_r2_1': 0.569608, 'x_r2_2': 0.469608} using model BoTorch.\n",
      "[INFO 04-05 15:04:04] ax.service.ax_client: Completed trial 251 with data: {'Viable_Cross_Terms': (41, None)}.\n",
      "[INFO 04-05 15:04:26] ax.service.ax_client: Generated new trial 252 with parameters {'z_sh': 7, 'z_sh_1': 8, 'z_sh_2': 5, 'z_p2': 28, 'z_p2_1': 28, 'z_p2_2': 25, 'z_r2': 80, 'z_r2_1': 72, 'z_r2_2': 83, 'x_s': 0.5, 'x_s_1': 0.4, 'x_s_2': 0.3, 'x_p1': 0.590281, 'x_p1_1': 0.490281, 'x_p1_2': 0.390281, 'x_p2': 0.499743, 'x_p2_1': 0.399743, 'x_p2_2': 0.299743, 'x_r2': 0.853288, 'x_r2_1': 0.753288, 'x_r2_2': 0.653288} using model BoTorch.\n",
      "[INFO 04-05 15:04:26] ax.service.ax_client: Completed trial 252 with data: {'Viable_Cross_Terms': (51, None)}.\n",
      "[INFO 04-05 15:04:46] ax.service.ax_client: Generated new trial 253 with parameters {'z_sh': 9, 'z_sh_1': 13, 'z_sh_2': 5, 'z_p2': 29, 'z_p2_1': 32, 'z_p2_2': 28, 'z_r2': 82, 'z_r2_1': 77, 'z_r2_2': 81, 'x_s': 0.5, 'x_s_1': 0.4, 'x_s_2': 0.3, 'x_p1': 1.0, 'x_p1_1': 0.9, 'x_p1_2': 0.8, 'x_p2': -0.3, 'x_p2_1': -0.4, 'x_p2_2': -0.5, 'x_r2': 0.487809, 'x_r2_1': 0.387809, 'x_r2_2': 0.287809} using model BoTorch.\n",
      "[INFO 04-05 15:04:46] ax.service.ax_client: Completed trial 253 with data: {'Viable_Cross_Terms': (34, None)}.\n",
      "[INFO 04-05 15:05:06] ax.service.ax_client: Generated new trial 254 with parameters {'z_sh': 9, 'z_sh_1': 11, 'z_sh_2': 5, 'z_p2': 30, 'z_p2_1': 34, 'z_p2_2': 30, 'z_r2': 80, 'z_r2_1': 83, 'z_r2_2': 82, 'x_s': 0.5, 'x_s_1': 0.4, 'x_s_2': 0.3, 'x_p1': 1.0, 'x_p1_1': 0.9, 'x_p1_2': 0.8, 'x_p2': -0.3, 'x_p2_1': -0.4, 'x_p2_2': -0.5, 'x_r2': 0.520847, 'x_r2_1': 0.420847, 'x_r2_2': 0.320847} using model BoTorch.\n",
      "[INFO 04-05 15:05:06] ax.service.ax_client: Completed trial 254 with data: {'Viable_Cross_Terms': (80, None)}.\n",
      "[INFO 04-05 15:05:27] ax.service.ax_client: Generated new trial 255 with parameters {'z_sh': 7, 'z_sh_1': 8, 'z_sh_2': 5, 'z_p2': 28, 'z_p2_1': 33, 'z_p2_2': 28, 'z_r2': 81, 'z_r2_1': 76, 'z_r2_2': 78, 'x_s': 0.5, 'x_s_1': 0.4, 'x_s_2': 0.3, 'x_p1': 1.0, 'x_p1_1': 0.9, 'x_p1_2': 0.8, 'x_p2': -0.3, 'x_p2_1': -0.4, 'x_p2_2': -0.5, 'x_r2': 0.456369, 'x_r2_1': 0.356369, 'x_r2_2': 0.256369} using model BoTorch.\n",
      "[INFO 04-05 15:05:27] ax.service.ax_client: Completed trial 255 with data: {'Viable_Cross_Terms': (31, None)}.\n",
      "[INFO 04-05 15:05:48] ax.service.ax_client: Generated new trial 256 with parameters {'z_sh': 7, 'z_sh_1': 6, 'z_sh_2': 5, 'z_p2': 33, 'z_p2_1': 26, 'z_p2_2': 26, 'z_r2': 79, 'z_r2_1': 74, 'z_r2_2': 72, 'x_s': 0.5, 'x_s_1': 0.4, 'x_s_2': 0.3, 'x_p1': 0.648218, 'x_p1_1': 0.548218, 'x_p1_2': 0.448218, 'x_p2': 0.5, 'x_p2_1': 0.4, 'x_p2_2': 0.3, 'x_r2': 1.06658, 'x_r2_1': 0.96658, 'x_r2_2': 0.86658} using model BoTorch.\n",
      "[INFO 04-05 15:05:48] ax.service.ax_client: Completed trial 256 with data: {'Viable_Cross_Terms': (37, None)}.\n",
      "[INFO 04-05 15:06:08] ax.service.ax_client: Generated new trial 257 with parameters {'z_sh': 7, 'z_sh_1': 11, 'z_sh_2': 5, 'z_p2': 32, 'z_p2_1': 31, 'z_p2_2': 33, 'z_r2': 80, 'z_r2_1': 81, 'z_r2_2': 76, 'x_s': 0.5, 'x_s_1': 0.4, 'x_s_2': 0.3, 'x_p1': 0.86453, 'x_p1_1': 0.76453, 'x_p1_2': 0.66453, 'x_p2': 0.050742, 'x_p2_1': -0.049258, 'x_p2_2': -0.149258, 'x_r2': 0.705144, 'x_r2_1': 0.605144, 'x_r2_2': 0.505144} using model BoTorch.\n",
      "[INFO 04-05 15:06:08] ax.service.ax_client: Completed trial 257 with data: {'Viable_Cross_Terms': (81, None)}.\n",
      "[INFO 04-05 15:06:27] ax.service.ax_client: Generated new trial 258 with parameters {'z_sh': 7, 'z_sh_1': 12, 'z_sh_2': 5, 'z_p2': 28, 'z_p2_1': 29, 'z_p2_2': 29, 'z_r2': 79, 'z_r2_1': 74, 'z_r2_2': 75, 'x_s': 0.5, 'x_s_1': 0.4, 'x_s_2': 0.3, 'x_p1': 0.61814, 'x_p1_1': 0.51814, 'x_p1_2': 0.41814, 'x_p2': 0.400202, 'x_p2_1': 0.300202, 'x_p2_2': 0.200202, 'x_r2': 0.822214, 'x_r2_1': 0.722214, 'x_r2_2': 0.622214} using model BoTorch.\n",
      "[INFO 04-05 15:06:27] ax.service.ax_client: Completed trial 258 with data: {'Viable_Cross_Terms': (28, None)}.\n",
      "[INFO 04-05 15:06:48] ax.service.ax_client: Generated new trial 259 with parameters {'z_sh': 12, 'z_sh_1': 10, 'z_sh_2': 10, 'z_p2': 28, 'z_p2_1': 33, 'z_p2_2': 26, 'z_r2': 81, 'z_r2_1': 83, 'z_r2_2': 82, 'x_s': 0.5, 'x_s_1': 0.4, 'x_s_2': 0.3, 'x_p1': 1.0, 'x_p1_1': 0.9, 'x_p1_2': 0.8, 'x_p2': -0.3, 'x_p2_1': -0.4, 'x_p2_2': -0.5, 'x_r2': 0.404797, 'x_r2_1': 0.304797, 'x_r2_2': 0.204797} using model BoTorch.\n",
      "[INFO 04-05 15:06:48] ax.service.ax_client: Completed trial 259 with data: {'Viable_Cross_Terms': (28, None)}.\n",
      "[INFO 04-05 15:07:07] ax.service.ax_client: Generated new trial 260 with parameters {'z_sh': 7, 'z_sh_1': 6, 'z_sh_2': 5, 'z_p2': 28, 'z_p2_1': 33, 'z_p2_2': 33, 'z_r2': 79, 'z_r2_1': 85, 'z_r2_2': 84, 'x_s': 0.5, 'x_s_1': 0.4, 'x_s_2': 0.3, 'x_p1': 0.973891, 'x_p1_1': 0.873891, 'x_p1_2': 0.773891, 'x_p2': -0.093283, 'x_p2_1': -0.193283, 'x_p2_2': -0.293283, 'x_r2': 0.668782, 'x_r2_1': 0.568782, 'x_r2_2': 0.468782} using model BoTorch.\n",
      "[INFO 04-05 15:07:07] ax.service.ax_client: Completed trial 260 with data: {'Viable_Cross_Terms': (34, None)}.\n",
      "[INFO 04-05 15:07:27] ax.service.ax_client: Generated new trial 261 with parameters {'z_sh': 8, 'z_sh_1': 12, 'z_sh_2': 6, 'z_p2': 30, 'z_p2_1': 33, 'z_p2_2': 28, 'z_r2': 81, 'z_r2_1': 83, 'z_r2_2': 78, 'x_s': 0.5, 'x_s_1': 0.4, 'x_s_2': 0.3, 'x_p1': 1.0, 'x_p1_1': 0.9, 'x_p1_2': 0.8, 'x_p2': -0.3, 'x_p2_1': -0.4, 'x_p2_2': -0.5, 'x_r2': 0.535978, 'x_r2_1': 0.435978, 'x_r2_2': 0.335978} using model BoTorch.\n",
      "[INFO 04-05 15:07:27] ax.service.ax_client: Completed trial 261 with data: {'Viable_Cross_Terms': (60, None)}.\n",
      "[INFO 04-05 15:07:48] ax.service.ax_client: Generated new trial 262 with parameters {'z_sh': 7, 'z_sh_1': 10, 'z_sh_2': 5, 'z_p2': 29, 'z_p2_1': 29, 'z_p2_2': 28, 'z_r2': 80, 'z_r2_1': 75, 'z_r2_2': 82, 'x_s': 0.5, 'x_s_1': 0.4, 'x_s_2': 0.3, 'x_p1': 0.61137, 'x_p1_1': 0.51137, 'x_p1_2': 0.41137, 'x_p2': -0.01109, 'x_p2_1': -0.11109, 'x_p2_2': -0.21109, 'x_r2': 1.39179, 'x_r2_1': 1.29179, 'x_r2_2': 1.19179} using model BoTorch.\n",
      "[INFO 04-05 15:07:48] ax.service.ax_client: Completed trial 262 with data: {'Viable_Cross_Terms': (9, None)}.\n",
      "[INFO 04-05 15:08:09] ax.service.ax_client: Generated new trial 263 with parameters {'z_sh': 7, 'z_sh_1': 10, 'z_sh_2': 5, 'z_p2': 29, 'z_p2_1': 27, 'z_p2_2': 27, 'z_r2': 81, 'z_r2_1': 80, 'z_r2_2': 79, 'x_s': 0.5, 'x_s_1': 0.4, 'x_s_2': 0.3, 'x_p1': 1.0, 'x_p1_1': 0.9, 'x_p1_2': 0.8, 'x_p2': -0.3, 'x_p2_1': -0.4, 'x_p2_2': -0.5, 'x_r2': 0.444816, 'x_r2_1': 0.344816, 'x_r2_2': 0.244816} using model BoTorch.\n",
      "[INFO 04-05 15:08:09] ax.service.ax_client: Completed trial 263 with data: {'Viable_Cross_Terms': (62, None)}.\n",
      "[INFO 04-05 15:08:31] ax.service.ax_client: Generated new trial 264 with parameters {'z_sh': 7, 'z_sh_1': 8, 'z_sh_2': 5, 'z_p2': 33, 'z_p2_1': 27, 'z_p2_2': 27, 'z_r2': 78, 'z_r2_1': 73, 'z_r2_2': 71, 'x_s': 0.5, 'x_s_1': 0.4, 'x_s_2': 0.3, 'x_p1': 0.733007, 'x_p1_1': 0.633007, 'x_p1_2': 0.533007, 'x_p2': 0.5, 'x_p2_1': 0.4, 'x_p2_2': 0.3, 'x_r2': 1.063866, 'x_r2_1': 0.963866, 'x_r2_2': 0.863866} using model BoTorch.\n",
      "[INFO 04-05 15:08:31] ax.service.ax_client: Completed trial 264 with data: {'Viable_Cross_Terms': (38, None)}.\n",
      "[INFO 04-05 15:08:52] ax.service.ax_client: Generated new trial 265 with parameters {'z_sh': 8, 'z_sh_1': 10, 'z_sh_2': 5, 'z_p2': 29, 'z_p2_1': 33, 'z_p2_2': 26, 'z_r2': 80, 'z_r2_1': 78, 'z_r2_2': 78, 'x_s': 0.5, 'x_s_1': 0.4, 'x_s_2': 0.3, 'x_p1': 1.0, 'x_p1_1': 0.9, 'x_p1_2': 0.8, 'x_p2': -0.3, 'x_p2_1': -0.4, 'x_p2_2': -0.5, 'x_r2': 0.465794, 'x_r2_1': 0.365794, 'x_r2_2': 0.265794} using model BoTorch.\n",
      "[INFO 04-05 15:08:52] ax.service.ax_client: Completed trial 265 with data: {'Viable_Cross_Terms': (65, None)}.\n",
      "[INFO 04-05 15:09:14] ax.service.ax_client: Generated new trial 266 with parameters {'z_sh': 8, 'z_sh_1': 9, 'z_sh_2': 5, 'z_p2': 32, 'z_p2_1': 26, 'z_p2_2': 28, 'z_r2': 80, 'z_r2_1': 73, 'z_r2_2': 74, 'x_s': 0.5, 'x_s_1': 0.4, 'x_s_2': 0.3, 'x_p1': 0.741364, 'x_p1_1': 0.641364, 'x_p1_2': 0.541364, 'x_p2': 0.5, 'x_p2_1': 0.4, 'x_p2_2': 0.3, 'x_r2': 1.077426, 'x_r2_1': 0.977426, 'x_r2_2': 0.877426} using model BoTorch.\n",
      "[INFO 04-05 15:09:14] ax.service.ax_client: Completed trial 266 with data: {'Viable_Cross_Terms': (83, None)}.\n",
      "[INFO 04-05 15:09:36] ax.service.ax_client: Generated new trial 267 with parameters {'z_sh': 10, 'z_sh_1': 8, 'z_sh_2': 5, 'z_p2': 29, 'z_p2_1': 29, 'z_p2_2': 26, 'z_r2': 83, 'z_r2_1': 82, 'z_r2_2': 76, 'x_s': 0.5, 'x_s_1': 0.4, 'x_s_2': 0.3, 'x_p1': 1.0, 'x_p1_1': 0.9, 'x_p1_2': 0.8, 'x_p2': 0.5, 'x_p2_1': 0.4, 'x_p2_2': 0.3, 'x_r2': 1.064907, 'x_r2_1': 0.964907, 'x_r2_2': 0.864907} using model BoTorch.\n",
      "[INFO 04-05 15:09:36] ax.service.ax_client: Completed trial 267 with data: {'Viable_Cross_Terms': (12, None)}.\n",
      "[INFO 04-05 15:09:57] ax.service.ax_client: Generated new trial 268 with parameters {'z_sh': 7, 'z_sh_1': 11, 'z_sh_2': 5, 'z_p2': 31, 'z_p2_1': 34, 'z_p2_2': 27, 'z_r2': 80, 'z_r2_1': 83, 'z_r2_2': 80, 'x_s': 0.5, 'x_s_1': 0.4, 'x_s_2': 0.3, 'x_p1': 1.0, 'x_p1_1': 0.9, 'x_p1_2': 0.8, 'x_p2': -0.3, 'x_p2_1': -0.4, 'x_p2_2': -0.5, 'x_r2': 0.467122, 'x_r2_1': 0.367122, 'x_r2_2': 0.267122} using model BoTorch.\n",
      "[INFO 04-05 15:09:57] ax.service.ax_client: Completed trial 268 with data: {'Viable_Cross_Terms': (69, None)}.\n",
      "[INFO 04-05 15:10:20] ax.service.ax_client: Generated new trial 269 with parameters {'z_sh': 7, 'z_sh_1': 12, 'z_sh_2': 9, 'z_p2': 30, 'z_p2_1': 26, 'z_p2_2': 33, 'z_r2': 80, 'z_r2_1': 83, 'z_r2_2': 79, 'x_s': 0.5, 'x_s_1': 0.4, 'x_s_2': 0.3, 'x_p1': 1.0, 'x_p1_1': 0.9, 'x_p1_2': 0.8, 'x_p2': -0.3, 'x_p2_1': -0.4, 'x_p2_2': -0.5, 'x_r2': 0.39694, 'x_r2_1': 0.29694, 'x_r2_2': 0.19694} using model BoTorch.\n",
      "[INFO 04-05 15:10:20] ax.service.ax_client: Completed trial 269 with data: {'Viable_Cross_Terms': (39, None)}.\n",
      "[INFO 04-05 15:10:42] ax.service.ax_client: Generated new trial 270 with parameters {'z_sh': 12, 'z_sh_1': 6, 'z_sh_2': 5, 'z_p2': 28, 'z_p2_1': 27, 'z_p2_2': 32, 'z_r2': 79, 'z_r2_1': 75, 'z_r2_2': 82, 'x_s': 0.5, 'x_s_1': 0.4, 'x_s_2': 0.3, 'x_p1': 0.578634, 'x_p1_1': 0.478634, 'x_p1_2': 0.378634, 'x_p2': 0.5, 'x_p2_1': 0.4, 'x_p2_2': 0.3, 'x_r2': 1.061938, 'x_r2_1': 0.961938, 'x_r2_2': 0.861938} using model BoTorch.\n",
      "[INFO 04-05 15:10:42] ax.service.ax_client: Completed trial 270 with data: {'Viable_Cross_Terms': (38, None)}.\n",
      "[INFO 04-05 15:11:07] ax.service.ax_client: Generated new trial 271 with parameters {'z_sh': 8, 'z_sh_1': 9, 'z_sh_2': 5, 'z_p2': 33, 'z_p2_1': 30, 'z_p2_2': 28, 'z_r2': 81, 'z_r2_1': 73, 'z_r2_2': 79, 'x_s': 0.5, 'x_s_1': 0.4, 'x_s_2': 0.3, 'x_p1': 1.0, 'x_p1_1': 0.9, 'x_p1_2': 0.8, 'x_p2': -0.3, 'x_p2_1': -0.4, 'x_p2_2': -0.5, 'x_r2': 0.461101, 'x_r2_1': 0.361101, 'x_r2_2': 0.261101} using model BoTorch.\n",
      "[INFO 04-05 15:11:07] ax.service.ax_client: Completed trial 271 with data: {'Viable_Cross_Terms': (32, None)}.\n",
      "[INFO 04-05 15:11:30] ax.service.ax_client: Generated new trial 272 with parameters {'z_sh': 8, 'z_sh_1': 14, 'z_sh_2': 5, 'z_p2': 29, 'z_p2_1': 30, 'z_p2_2': 27, 'z_r2': 80, 'z_r2_1': 81, 'z_r2_2': 78, 'x_s': 0.5, 'x_s_1': 0.4, 'x_s_2': 0.3, 'x_p1': 1.0, 'x_p1_1': 0.9, 'x_p1_2': 0.8, 'x_p2': -0.3, 'x_p2_1': -0.4, 'x_p2_2': -0.5, 'x_r2': 0.444181, 'x_r2_1': 0.344181, 'x_r2_2': 0.244181} using model BoTorch.\n",
      "[INFO 04-05 15:11:30] ax.service.ax_client: Completed trial 272 with data: {'Viable_Cross_Terms': (62, None)}.\n",
      "[INFO 04-05 15:11:52] ax.service.ax_client: Generated new trial 273 with parameters {'z_sh': 7, 'z_sh_1': 11, 'z_sh_2': 5, 'z_p2': 30, 'z_p2_1': 26, 'z_p2_2': 26, 'z_r2': 81, 'z_r2_1': 72, 'z_r2_2': 82, 'x_s': 0.5, 'x_s_1': 0.4, 'x_s_2': 0.3, 'x_p1': 0.624338, 'x_p1_1': 0.524338, 'x_p1_2': 0.424338, 'x_p2': 0.5, 'x_p2_1': 0.4, 'x_p2_2': 0.3, 'x_r2': 1.09051, 'x_r2_1': 0.99051, 'x_r2_2': 0.89051} using model BoTorch.\n",
      "[INFO 04-05 15:11:52] ax.service.ax_client: Completed trial 273 with data: {'Viable_Cross_Terms': (32, None)}.\n",
      "[INFO 04-05 15:12:15] ax.service.ax_client: Generated new trial 274 with parameters {'z_sh': 13, 'z_sh_1': 8, 'z_sh_2': 5, 'z_p2': 31, 'z_p2_1': 27, 'z_p2_2': 26, 'z_r2': 77, 'z_r2_1': 73, 'z_r2_2': 77, 'x_s': 0.5, 'x_s_1': 0.4, 'x_s_2': 0.3, 'x_p1': 0.28901, 'x_p1_1': 0.18901, 'x_p1_2': 0.08901, 'x_p2': 0.431576, 'x_p2_1': 0.331576, 'x_p2_2': 0.107411, 'x_r2': 1.03019, 'x_r2_1': 0.93019, 'x_r2_2': 0.83019} using model BoTorch.\n",
      "[INFO 04-05 15:12:15] ax.service.ax_client: Completed trial 274 with data: {'Viable_Cross_Terms': (41, None)}.\n",
      "[INFO 04-05 15:12:37] ax.service.ax_client: Generated new trial 275 with parameters {'z_sh': 9, 'z_sh_1': 13, 'z_sh_2': 5, 'z_p2': 29, 'z_p2_1': 31, 'z_p2_2': 26, 'z_r2': 80, 'z_r2_1': 81, 'z_r2_2': 81, 'x_s': 0.5, 'x_s_1': 0.4, 'x_s_2': 0.3, 'x_p1': 1.0, 'x_p1_1': 0.9, 'x_p1_2': 0.8, 'x_p2': -0.3, 'x_p2_1': -0.4, 'x_p2_2': -0.5, 'x_r2': 0.451255, 'x_r2_1': 0.351255, 'x_r2_2': 0.251255} using model BoTorch.\n",
      "[INFO 04-05 15:12:37] ax.service.ax_client: Completed trial 275 with data: {'Viable_Cross_Terms': (62, None)}.\n",
      "[INFO 04-05 15:12:58] ax.service.ax_client: Generated new trial 276 with parameters {'z_sh': 9, 'z_sh_1': 10, 'z_sh_2': 5, 'z_p2': 28, 'z_p2_1': 30, 'z_p2_2': 33, 'z_r2': 79, 'z_r2_1': 84, 'z_r2_2': 72, 'x_s': 0.5, 'x_s_1': 0.4, 'x_s_2': 0.3, 'x_p1': 1.0, 'x_p1_1': 0.9, 'x_p1_2': 0.8, 'x_p2': -0.3, 'x_p2_1': -0.4, 'x_p2_2': -0.5, 'x_r2': 0.459632, 'x_r2_1': 0.359632, 'x_r2_2': 0.259632} using model BoTorch.\n",
      "[INFO 04-05 15:12:58] ax.service.ax_client: Completed trial 276 with data: {'Viable_Cross_Terms': (31, None)}.\n",
      "[INFO 04-05 15:13:23] ax.service.ax_client: Generated new trial 277 with parameters {'z_sh': 7, 'z_sh_1': 11, 'z_sh_2': 6, 'z_p2': 29, 'z_p2_1': 29, 'z_p2_2': 29, 'z_r2': 79, 'z_r2_1': 79, 'z_r2_2': 81, 'x_s': 0.5, 'x_s_1': 0.4, 'x_s_2': 0.3, 'x_p1': 0.691314, 'x_p1_1': 0.591314, 'x_p1_2': 0.491314, 'x_p2': 0.496398, 'x_p2_1': 0.396398, 'x_p2_2': 0.296398, 'x_r2': 1.067589, 'x_r2_1': 0.967589, 'x_r2_2': 0.867589} using model BoTorch.\n",
      "[INFO 04-05 15:13:23] ax.service.ax_client: Completed trial 277 with data: {'Viable_Cross_Terms': (40, None)}.\n",
      "[INFO 04-05 15:13:44] ax.service.ax_client: Generated new trial 278 with parameters {'z_sh': 12, 'z_sh_1': 13, 'z_sh_2': 5, 'z_p2': 32, 'z_p2_1': 34, 'z_p2_2': 33, 'z_r2': 77, 'z_r2_1': 72, 'z_r2_2': 77, 'x_s': 0.5, 'x_s_1': 0.4, 'x_s_2': 0.3, 'x_p1': 1.0, 'x_p1_1': 0.9, 'x_p1_2': 0.8, 'x_p2': -0.3, 'x_p2_1': -0.4, 'x_p2_2': -0.5, 'x_r2': 0.466561, 'x_r2_1': 0.366561, 'x_r2_2': 0.266561} using model BoTorch.\n",
      "[INFO 04-05 15:13:44] ax.service.ax_client: Completed trial 278 with data: {'Viable_Cross_Terms': (34, None)}.\n",
      "[INFO 04-05 15:14:06] ax.service.ax_client: Generated new trial 279 with parameters {'z_sh': 11, 'z_sh_1': 10, 'z_sh_2': 5, 'z_p2': 31, 'z_p2_1': 29, 'z_p2_2': 26, 'z_r2': 82, 'z_r2_1': 76, 'z_r2_2': 74, 'x_s': 0.5, 'x_s_1': 0.4, 'x_s_2': 0.3, 'x_p1': 1.0, 'x_p1_1': 0.9, 'x_p1_2': 0.8, 'x_p2': -0.3, 'x_p2_1': -0.4, 'x_p2_2': -0.5, 'x_r2': 0.448581, 'x_r2_1': 0.348581, 'x_r2_2': 0.248581} using model BoTorch.\n",
      "[INFO 04-05 15:14:06] ax.service.ax_client: Completed trial 279 with data: {'Viable_Cross_Terms': (30, None)}.\n",
      "[INFO 04-05 15:14:30] ax.service.ax_client: Generated new trial 280 with parameters {'z_sh': 7, 'z_sh_1': 6, 'z_sh_2': 5, 'z_p2': 28, 'z_p2_1': 31, 'z_p2_2': 27, 'z_r2': 77, 'z_r2_1': 83, 'z_r2_2': 82, 'x_s': 0.5, 'x_s_1': 0.4, 'x_s_2': 0.3, 'x_p1': 0.743099, 'x_p1_1': 0.643099, 'x_p1_2': 0.543099, 'x_p2': 0.447727, 'x_p2_1': 0.347727, 'x_p2_2': 0.247727, 'x_r2': 1.021869, 'x_r2_1': 0.921869, 'x_r2_2': 0.821869} using model BoTorch.\n",
      "[INFO 04-05 15:14:30] ax.service.ax_client: Completed trial 280 with data: {'Viable_Cross_Terms': (35, None)}.\n",
      "[INFO 04-05 15:14:53] ax.service.ax_client: Generated new trial 281 with parameters {'z_sh': 10, 'z_sh_1': 8, 'z_sh_2': 5, 'z_p2': 30, 'z_p2_1': 34, 'z_p2_2': 26, 'z_r2': 84, 'z_r2_1': 83, 'z_r2_2': 78, 'x_s': 0.5, 'x_s_1': 0.4, 'x_s_2': 0.3, 'x_p1': 1.0, 'x_p1_1': 0.9, 'x_p1_2': 0.8, 'x_p2': -0.3, 'x_p2_1': -0.4, 'x_p2_2': -0.5, 'x_r2': 0.434396, 'x_r2_1': 0.334396, 'x_r2_2': 0.234396} using model BoTorch.\n",
      "[INFO 04-05 15:14:53] ax.service.ax_client: Completed trial 281 with data: {'Viable_Cross_Terms': (63, None)}.\n",
      "[INFO 04-05 15:15:15] ax.service.ax_client: Generated new trial 282 with parameters {'z_sh': 8, 'z_sh_1': 7, 'z_sh_2': 5, 'z_p2': 32, 'z_p2_1': 31, 'z_p2_2': 27, 'z_r2': 81, 'z_r2_1': 73, 'z_r2_2': 73, 'x_s': 0.5, 'x_s_1': 0.4, 'x_s_2': 0.3, 'x_p1': 1.0, 'x_p1_1': 0.9, 'x_p1_2': 0.8, 'x_p2': -0.3, 'x_p2_1': -0.4, 'x_p2_2': -0.5, 'x_r2': 0.466081, 'x_r2_1': 0.366081, 'x_r2_2': 0.266081} using model BoTorch.\n",
      "[INFO 04-05 15:15:15] ax.service.ax_client: Completed trial 282 with data: {'Viable_Cross_Terms': (33, None)}.\n",
      "[INFO 04-05 15:15:40] ax.service.ax_client: Generated new trial 283 with parameters {'z_sh': 11, 'z_sh_1': 8, 'z_sh_2': 5, 'z_p2': 33, 'z_p2_1': 27, 'z_p2_2': 27, 'z_r2': 77, 'z_r2_1': 79, 'z_r2_2': 77, 'x_s': 0.5, 'x_s_1': 0.4, 'x_s_2': 0.3, 'x_p1': 0.452613, 'x_p1_1': 0.352613, 'x_p1_2': 0.252613, 'x_p2': 0.384503, 'x_p2_1': 0.284503, 'x_p2_2': 0.101362, 'x_r2': 1.020635, 'x_r2_1': 0.920635, 'x_r2_2': 0.820635} using model BoTorch.\n",
      "[INFO 04-05 15:15:40] ax.service.ax_client: Completed trial 283 with data: {'Viable_Cross_Terms': (22, None)}.\n",
      "[INFO 04-05 15:16:02] ax.service.ax_client: Generated new trial 284 with parameters {'z_sh': 9, 'z_sh_1': 14, 'z_sh_2': 5, 'z_p2': 30, 'z_p2_1': 33, 'z_p2_2': 25, 'z_r2': 80, 'z_r2_1': 80, 'z_r2_2': 84, 'x_s': 0.5, 'x_s_1': 0.4, 'x_s_2': 0.3, 'x_p1': 1.0, 'x_p1_1': 0.9, 'x_p1_2': 0.8, 'x_p2': -0.3, 'x_p2_1': -0.4, 'x_p2_2': -0.5, 'x_r2': 0.460164, 'x_r2_1': 0.360164, 'x_r2_2': 0.260164} using model BoTorch.\n",
      "[INFO 04-05 15:16:02] ax.service.ax_client: Completed trial 284 with data: {'Viable_Cross_Terms': (73, None)}.\n",
      "[INFO 04-05 15:16:24] ax.service.ax_client: Generated new trial 285 with parameters {'z_sh': 7, 'z_sh_1': 10, 'z_sh_2': 5, 'z_p2': 28, 'z_p2_1': 29, 'z_p2_2': 32, 'z_r2': 79, 'z_r2_1': 79, 'z_r2_2': 75, 'x_s': 0.5, 'x_s_1': 0.4, 'x_s_2': 0.3, 'x_p1': 0.791226, 'x_p1_1': 0.691226, 'x_p1_2': 0.591226, 'x_p2': 0.5, 'x_p2_1': 0.4, 'x_p2_2': 0.3, 'x_r2': 1.070036, 'x_r2_1': 0.970036, 'x_r2_2': 0.870036} using model BoTorch.\n",
      "[INFO 04-05 15:16:24] ax.service.ax_client: Completed trial 285 with data: {'Viable_Cross_Terms': (33, None)}.\n",
      "[INFO 04-05 15:16:47] ax.service.ax_client: Generated new trial 286 with parameters {'z_sh': 8, 'z_sh_1': 10, 'z_sh_2': 5, 'z_p2': 31, 'z_p2_1': 30, 'z_p2_2': 27, 'z_r2': 81, 'z_r2_1': 84, 'z_r2_2': 83, 'x_s': 0.5, 'x_s_1': 0.4, 'x_s_2': 0.3, 'x_p1': 1.0, 'x_p1_1': 0.9, 'x_p1_2': 0.8, 'x_p2': -0.3, 'x_p2_1': -0.4, 'x_p2_2': -0.5, 'x_r2': 0.465634, 'x_r2_1': 0.365634, 'x_r2_2': 0.265634} using model BoTorch.\n",
      "[INFO 04-05 15:16:47] ax.service.ax_client: Completed trial 286 with data: {'Viable_Cross_Terms': (66, None)}.\n",
      "[INFO 04-05 15:17:09] ax.service.ax_client: Generated new trial 287 with parameters {'z_sh': 10, 'z_sh_1': 8, 'z_sh_2': 5, 'z_p2': 32, 'z_p2_1': 30, 'z_p2_2': 29, 'z_r2': 81, 'z_r2_1': 78, 'z_r2_2': 84, 'x_s': 0.5, 'x_s_1': 0.4, 'x_s_2': 0.3, 'x_p1': 1.0, 'x_p1_1': 0.9, 'x_p1_2': 0.8, 'x_p2': -0.3, 'x_p2_1': -0.4, 'x_p2_2': -0.5, 'x_r2': 0.44381, 'x_r2_1': 0.34381, 'x_r2_2': 0.24381} using model BoTorch.\n",
      "[INFO 04-05 15:17:09] ax.service.ax_client: Completed trial 287 with data: {'Viable_Cross_Terms': (31, None)}.\n",
      "[INFO 04-05 15:17:32] ax.service.ax_client: Generated new trial 288 with parameters {'z_sh': 10, 'z_sh_1': 12, 'z_sh_2': 5, 'z_p2': 31, 'z_p2_1': 33, 'z_p2_2': 30, 'z_r2': 80, 'z_r2_1': 84, 'z_r2_2': 82, 'x_s': 0.5, 'x_s_1': 0.4, 'x_s_2': 0.3, 'x_p1': 1.0, 'x_p1_1': 0.9, 'x_p1_2': 0.8, 'x_p2': -0.3, 'x_p2_1': -0.4, 'x_p2_2': -0.5, 'x_r2': 0.459541, 'x_r2_1': 0.359541, 'x_r2_2': 0.259541} using model BoTorch.\n",
      "[INFO 04-05 15:17:32] ax.service.ax_client: Completed trial 288 with data: {'Viable_Cross_Terms': (65, None)}.\n",
      "[INFO 04-05 15:17:55] ax.service.ax_client: Generated new trial 289 with parameters {'z_sh': 7, 'z_sh_1': 8, 'z_sh_2': 5, 'z_p2': 28, 'z_p2_1': 29, 'z_p2_2': 28, 'z_r2': 80, 'z_r2_1': 81, 'z_r2_2': 75, 'x_s': 0.5, 'x_s_1': 0.4, 'x_s_2': 0.3, 'x_p1': 1.0, 'x_p1_1': 0.9, 'x_p1_2': 0.8, 'x_p2': -0.3, 'x_p2_1': -0.4, 'x_p2_2': -0.5, 'x_r2': 0.463316, 'x_r2_1': 0.363316, 'x_r2_2': 0.263316} using model BoTorch.\n",
      "[INFO 04-05 15:17:55] ax.service.ax_client: Completed trial 289 with data: {'Viable_Cross_Terms': (63, None)}.\n",
      "[INFO 04-05 15:18:17] ax.service.ax_client: Generated new trial 290 with parameters {'z_sh': 7, 'z_sh_1': 12, 'z_sh_2': 5, 'z_p2': 29, 'z_p2_1': 33, 'z_p2_2': 25, 'z_r2': 79, 'z_r2_1': 85, 'z_r2_2': 81, 'x_s': 0.5, 'x_s_1': 0.4, 'x_s_2': 0.3, 'x_p1': 1.0, 'x_p1_1': 0.9, 'x_p1_2': 0.8, 'x_p2': -0.3, 'x_p2_1': -0.4, 'x_p2_2': -0.5, 'x_r2': 0.467897, 'x_r2_1': 0.367897, 'x_r2_2': 0.267897} using model BoTorch.\n",
      "[INFO 04-05 15:18:17] ax.service.ax_client: Completed trial 290 with data: {'Viable_Cross_Terms': (34, None)}.\n",
      "[INFO 04-05 15:18:40] ax.service.ax_client: Generated new trial 291 with parameters {'z_sh': 10, 'z_sh_1': 8, 'z_sh_2': 5, 'z_p2': 33, 'z_p2_1': 32, 'z_p2_2': 29, 'z_r2': 81, 'z_r2_1': 82, 'z_r2_2': 84, 'x_s': 0.5, 'x_s_1': 0.4, 'x_s_2': 0.3, 'x_p1': 1.0, 'x_p1_1': 0.9, 'x_p1_2': 0.8, 'x_p2': -0.3, 'x_p2_1': -0.4, 'x_p2_2': -0.5, 'x_r2': 0.489813, 'x_r2_1': 0.389813, 'x_r2_2': 0.289813} using model BoTorch.\n",
      "[INFO 04-05 15:18:40] ax.service.ax_client: Completed trial 291 with data: {'Viable_Cross_Terms': (34, None)}.\n",
      "[INFO 04-05 15:19:03] ax.service.ax_client: Generated new trial 292 with parameters {'z_sh': 8, 'z_sh_1': 12, 'z_sh_2': 5, 'z_p2': 30, 'z_p2_1': 29, 'z_p2_2': 32, 'z_r2': 82, 'z_r2_1': 78, 'z_r2_2': 73, 'x_s': 0.5, 'x_s_1': 0.4, 'x_s_2': 0.3, 'x_p1': 1.0, 'x_p1_1': 0.9, 'x_p1_2': 0.8, 'x_p2': -0.3, 'x_p2_1': -0.4, 'x_p2_2': -0.5, 'x_r2': 0.443402, 'x_r2_1': 0.343402, 'x_r2_2': 0.243402} using model BoTorch.\n",
      "[INFO 04-05 15:19:03] ax.service.ax_client: Completed trial 292 with data: {'Viable_Cross_Terms': (30, None)}.\n",
      "[INFO 04-05 15:19:26] ax.service.ax_client: Generated new trial 293 with parameters {'z_sh': 11, 'z_sh_1': 14, 'z_sh_2': 7, 'z_p2': 30, 'z_p2_1': 30, 'z_p2_2': 26, 'z_r2': 84, 'z_r2_1': 78, 'z_r2_2': 79, 'x_s': 0.5, 'x_s_1': 0.4, 'x_s_2': 0.3, 'x_p1': 1.0, 'x_p1_1': 0.9, 'x_p1_2': 0.8, 'x_p2': -0.3, 'x_p2_1': -0.4, 'x_p2_2': -0.5, 'x_r2': 0.413285, 'x_r2_1': 0.313285, 'x_r2_2': 0.213285} using model BoTorch.\n",
      "[INFO 04-05 15:19:26] ax.service.ax_client: Completed trial 293 with data: {'Viable_Cross_Terms': (29, None)}.\n",
      "[INFO 04-05 15:19:49] ax.service.ax_client: Generated new trial 294 with parameters {'z_sh': 14, 'z_sh_1': 14, 'z_sh_2': 5, 'z_p2': 30, 'z_p2_1': 28, 'z_p2_2': 32, 'z_r2': 81, 'z_r2_1': 81, 'z_r2_2': 81, 'x_s': 0.5, 'x_s_1': 0.4, 'x_s_2': 0.3, 'x_p1': 1.0, 'x_p1_1': 0.9, 'x_p1_2': 0.8, 'x_p2': -0.3, 'x_p2_1': -0.4, 'x_p2_2': -0.5, 'x_r2': 0.444075, 'x_r2_1': 0.344075, 'x_r2_2': 0.244075} using model BoTorch.\n",
      "[INFO 04-05 15:19:49] ax.service.ax_client: Completed trial 294 with data: {'Viable_Cross_Terms': (31, None)}.\n",
      "[INFO 04-05 15:20:12] ax.service.ax_client: Generated new trial 295 with parameters {'z_sh': 7, 'z_sh_1': 7, 'z_sh_2': 6, 'z_p2': 33, 'z_p2_1': 28, 'z_p2_2': 33, 'z_r2': 76, 'z_r2_1': 72, 'z_r2_2': 83, 'x_s': 0.5, 'x_s_1': 0.4, 'x_s_2': 0.3, 'x_p1': 0.781024, 'x_p1_1': 0.681024, 'x_p1_2': 0.581024, 'x_p2': 0.5, 'x_p2_1': 0.4, 'x_p2_2': 0.3, 'x_r2': 1.074577, 'x_r2_1': 0.974577, 'x_r2_2': 0.874577} using model BoTorch.\n",
      "[INFO 04-05 15:20:12] ax.service.ax_client: Completed trial 295 with data: {'Viable_Cross_Terms': (34, None)}.\n",
      "[INFO 04-05 15:20:39] ax.service.ax_client: Generated new trial 296 with parameters {'z_sh': 9, 'z_sh_1': 11, 'z_sh_2': 5, 'z_p2': 32, 'z_p2_1': 30, 'z_p2_2': 27, 'z_r2': 80, 'z_r2_1': 81, 'z_r2_2': 76, 'x_s': 0.5, 'x_s_1': 0.4, 'x_s_2': 0.3, 'x_p1': 0.800758, 'x_p1_1': 0.700758, 'x_p1_2': 0.600758, 'x_p2': 0.313848, 'x_p2_1': 0.213848, 'x_p2_2': 0.113848, 'x_r2': 1.023598, 'x_r2_1': 0.923598, 'x_r2_2': 0.823598} using model BoTorch.\n",
      "[INFO 04-05 15:20:39] ax.service.ax_client: Completed trial 296 with data: {'Viable_Cross_Terms': (78, None)}.\n",
      "[INFO 04-05 15:21:03] ax.service.ax_client: Generated new trial 297 with parameters {'z_sh': 7, 'z_sh_1': 12, 'z_sh_2': 5, 'z_p2': 35, 'z_p2_1': 28, 'z_p2_2': 31, 'z_r2': 82, 'z_r2_1': 76, 'z_r2_2': 72, 'x_s': 0.5, 'x_s_1': 0.4, 'x_s_2': 0.3, 'x_p1': 0.57468, 'x_p1_1': 0.47468, 'x_p1_2': 0.37468, 'x_p2': 0.326919, 'x_p2_1': 0.226919, 'x_p2_2': 0.126919, 'x_r2': 1.055588, 'x_r2_1': 0.955588, 'x_r2_2': 0.855588} using model BoTorch.\n",
      "[INFO 04-05 15:21:03] ax.service.ax_client: Completed trial 297 with data: {'Viable_Cross_Terms': (27, None)}.\n",
      "[INFO 04-05 15:21:27] ax.service.ax_client: Generated new trial 298 with parameters {'z_sh': 8, 'z_sh_1': 14, 'z_sh_2': 5, 'z_p2': 32, 'z_p2_1': 30, 'z_p2_2': 28, 'z_r2': 80, 'z_r2_1': 75, 'z_r2_2': 79, 'x_s': 0.5, 'x_s_1': 0.4, 'x_s_2': 0.3, 'x_p1': 0.938416, 'x_p1_1': 0.838416, 'x_p1_2': 0.738416, 'x_p2': 0.436048, 'x_p2_1': 0.336048, 'x_p2_2': 0.236048, 'x_r2': 1.083332, 'x_r2_1': 0.983332, 'x_r2_2': 0.883332} using model BoTorch.\n",
      "[INFO 04-05 15:21:28] ax.service.ax_client: Completed trial 298 with data: {'Viable_Cross_Terms': (71, None)}.\n",
      "[INFO 04-05 15:21:50] ax.service.ax_client: Generated new trial 299 with parameters {'z_sh': 7, 'z_sh_1': 7, 'z_sh_2': 12, 'z_p2': 28, 'z_p2_1': 27, 'z_p2_2': 25, 'z_r2': 80, 'z_r2_1': 73, 'z_r2_2': 83, 'x_s': 0.5, 'x_s_1': 0.4, 'x_s_2': 0.3, 'x_p1': 1.0, 'x_p1_1': 0.9, 'x_p1_2': 0.8, 'x_p2': 0.5, 'x_p2_1': 0.4, 'x_p2_2': 0.3, 'x_r2': 1.099754, 'x_r2_1': 0.999754, 'x_r2_2': -1.5} using model BoTorch.\n",
      "[INFO 04-05 15:21:50] ax.service.ax_client: Completed trial 299 with data: {'Viable_Cross_Terms': (14, None)}.\n",
      "[INFO 04-05 15:22:14] ax.service.ax_client: Generated new trial 300 with parameters {'z_sh': 7, 'z_sh_1': 13, 'z_sh_2': 5, 'z_p2': 31, 'z_p2_1': 28, 'z_p2_2': 25, 'z_r2': 81, 'z_r2_1': 79, 'z_r2_2': 82, 'x_s': 0.5, 'x_s_1': 0.4, 'x_s_2': 0.3, 'x_p1': 0.982295, 'x_p1_1': 0.882295, 'x_p1_2': 0.782295, 'x_p2': 0.417268, 'x_p2_1': 0.317268, 'x_p2_2': 0.217268, 'x_r2': 1.083995, 'x_r2_1': 0.983995, 'x_r2_2': 0.883995} using model BoTorch.\n",
      "[INFO 04-05 15:22:14] ax.service.ax_client: Completed trial 300 with data: {'Viable_Cross_Terms': (30, None)}.\n",
      "[INFO 04-05 15:22:38] ax.service.ax_client: Generated new trial 301 with parameters {'z_sh': 7, 'z_sh_1': 8, 'z_sh_2': 5, 'z_p2': 29, 'z_p2_1': 30, 'z_p2_2': 33, 'z_r2': 79, 'z_r2_1': 84, 'z_r2_2': 71, 'x_s': 0.5, 'x_s_1': 0.4, 'x_s_2': 0.3, 'x_p1': 0.794935, 'x_p1_1': 0.694935, 'x_p1_2': 0.594935, 'x_p2': 0.425642, 'x_p2_1': 0.325642, 'x_p2_2': 0.225642, 'x_r2': 1.059149, 'x_r2_1': 0.959149, 'x_r2_2': 0.859149} using model BoTorch.\n",
      "[INFO 04-05 15:22:38] ax.service.ax_client: Completed trial 301 with data: {'Viable_Cross_Terms': (36, None)}.\n",
      "[INFO 04-05 15:23:02] ax.service.ax_client: Generated new trial 302 with parameters {'z_sh': 7, 'z_sh_1': 14, 'z_sh_2': 5, 'z_p2': 31, 'z_p2_1': 34, 'z_p2_2': 25, 'z_r2': 76, 'z_r2_1': 73, 'z_r2_2': 83, 'x_s': 0.5, 'x_s_1': 0.4, 'x_s_2': 0.3, 'x_p1': 1.0, 'x_p1_1': 0.9, 'x_p1_2': 0.8, 'x_p2': -0.3, 'x_p2_1': -0.4, 'x_p2_2': -0.5, 'x_r2': 0.486666, 'x_r2_1': 0.386666, 'x_r2_2': 0.286666} using model BoTorch.\n",
      "[INFO 04-05 15:23:02] ax.service.ax_client: Completed trial 302 with data: {'Viable_Cross_Terms': (34, None)}.\n",
      "[INFO 04-05 15:23:26] ax.service.ax_client: Generated new trial 303 with parameters {'z_sh': 10, 'z_sh_1': 10, 'z_sh_2': 5, 'z_p2': 28, 'z_p2_1': 29, 'z_p2_2': 27, 'z_r2': 81, 'z_r2_1': 77, 'z_r2_2': 83, 'x_s': 0.5, 'x_s_1': 0.4, 'x_s_2': 0.3, 'x_p1': 1.0, 'x_p1_1': 0.9, 'x_p1_2': 0.8, 'x_p2': -0.3, 'x_p2_1': -0.4, 'x_p2_2': -0.5, 'x_r2': 0.450452, 'x_r2_1': 0.350452, 'x_r2_2': 0.250452} using model BoTorch.\n",
      "[INFO 04-05 15:23:26] ax.service.ax_client: Completed trial 303 with data: {'Viable_Cross_Terms': (31, None)}.\n",
      "[INFO 04-05 15:23:49] ax.service.ax_client: Generated new trial 304 with parameters {'z_sh': 7, 'z_sh_1': 12, 'z_sh_2': 5, 'z_p2': 31, 'z_p2_1': 31, 'z_p2_2': 28, 'z_r2': 81, 'z_r2_1': 75, 'z_r2_2': 78, 'x_s': 0.5, 'x_s_1': 0.4, 'x_s_2': 0.3, 'x_p1': 1.0, 'x_p1_1': 0.9, 'x_p1_2': 0.8, 'x_p2': -0.3, 'x_p2_1': -0.4, 'x_p2_2': -0.5, 'x_r2': 0.465526, 'x_r2_1': 0.365526, 'x_r2_2': 0.265526} using model BoTorch.\n",
      "[INFO 04-05 15:23:49] ax.service.ax_client: Completed trial 304 with data: {'Viable_Cross_Terms': (39, None)}.\n",
      "[INFO 04-05 15:24:12] ax.service.ax_client: Generated new trial 305 with parameters {'z_sh': 7, 'z_sh_1': 8, 'z_sh_2': 5, 'z_p2': 29, 'z_p2_1': 30, 'z_p2_2': 27, 'z_r2': 82, 'z_r2_1': 80, 'z_r2_2': 80, 'x_s': 0.5, 'x_s_1': 0.4, 'x_s_2': 0.3, 'x_p1': 1.0, 'x_p1_1': 0.9, 'x_p1_2': 0.8, 'x_p2': -0.3, 'x_p2_1': -0.4, 'x_p2_2': -0.5, 'x_r2': 0.457702, 'x_r2_1': 0.357702, 'x_r2_2': 0.257702} using model BoTorch.\n",
      "[INFO 04-05 15:24:12] ax.service.ax_client: Completed trial 305 with data: {'Viable_Cross_Terms': (96, None)}.\n",
      "[INFO 04-05 15:24:35] ax.service.ax_client: Generated new trial 306 with parameters {'z_sh': 7, 'z_sh_1': 8, 'z_sh_2': 5, 'z_p2': 29, 'z_p2_1': 28, 'z_p2_2': 30, 'z_r2': 78, 'z_r2_1': 80, 'z_r2_2': 75, 'x_s': 0.5, 'x_s_1': 0.4, 'x_s_2': 0.3, 'x_p1': 0.751261, 'x_p1_1': 0.651261, 'x_p1_2': 0.551261, 'x_p2': 0.441948, 'x_p2_1': 0.341948, 'x_p2_2': 0.241948, 'x_r2': 1.058903, 'x_r2_1': 0.958903, 'x_r2_2': 0.858903} using model BoTorch.\n",
      "[INFO 04-05 15:24:35] ax.service.ax_client: Completed trial 306 with data: {'Viable_Cross_Terms': (87, None)}.\n",
      "[INFO 04-05 15:24:59] ax.service.ax_client: Generated new trial 307 with parameters {'z_sh': 7, 'z_sh_1': 13, 'z_sh_2': 5, 'z_p2': 30, 'z_p2_1': 33, 'z_p2_2': 28, 'z_r2': 79, 'z_r2_1': 78, 'z_r2_2': 74, 'x_s': 0.5, 'x_s_1': 0.4, 'x_s_2': 0.3, 'x_p1': 1.0, 'x_p1_1': 0.9, 'x_p1_2': 0.8, 'x_p2': -0.3, 'x_p2_1': -0.4, 'x_p2_2': -0.5, 'x_r2': 0.472337, 'x_r2_1': 0.372337, 'x_r2_2': 0.272337} using model BoTorch.\n",
      "[INFO 04-05 15:24:59] ax.service.ax_client: Completed trial 307 with data: {'Viable_Cross_Terms': (37, None)}.\n",
      "[INFO 04-05 15:25:22] ax.service.ax_client: Generated new trial 308 with parameters {'z_sh': 9, 'z_sh_1': 14, 'z_sh_2': 8, 'z_p2': 31, 'z_p2_1': 33, 'z_p2_2': 31, 'z_r2': 78, 'z_r2_1': 80, 'z_r2_2': 81, 'x_s': 0.5, 'x_s_1': 0.4, 'x_s_2': 0.3, 'x_p1': 1.0, 'x_p1_1': 0.9, 'x_p1_2': 0.8, 'x_p2': -0.3, 'x_p2_1': -0.4, 'x_p2_2': -0.5, 'x_r2': 0.464588, 'x_r2_1': 0.364588, 'x_r2_2': 0.264588} using model BoTorch.\n",
      "[INFO 04-05 15:25:22] ax.service.ax_client: Completed trial 308 with data: {'Viable_Cross_Terms': (38, None)}.\n",
      "[INFO 04-05 15:25:46] ax.service.ax_client: Generated new trial 309 with parameters {'z_sh': 7, 'z_sh_1': 11, 'z_sh_2': 5, 'z_p2': 28, 'z_p2_1': 28, 'z_p2_2': 31, 'z_r2': 77, 'z_r2_1': 81, 'z_r2_2': 75, 'x_s': 0.5, 'x_s_1': 0.4, 'x_s_2': 0.3, 'x_p1': 0.736511, 'x_p1_1': 0.636511, 'x_p1_2': 0.536511, 'x_p2': 0.460549, 'x_p2_1': 0.360549, 'x_p2_2': 0.260549, 'x_r2': 1.064608, 'x_r2_1': 0.964608, 'x_r2_2': 0.864608} using model BoTorch.\n",
      "[INFO 04-05 15:25:46] ax.service.ax_client: Completed trial 309 with data: {'Viable_Cross_Terms': (39, None)}.\n",
      "[INFO 04-05 15:26:12] ax.service.ax_client: Generated new trial 310 with parameters {'z_sh': 7, 'z_sh_1': 13, 'z_sh_2': 5, 'z_p2': 32, 'z_p2_1': 26, 'z_p2_2': 28, 'z_r2': 82, 'z_r2_1': 76, 'z_r2_2': 80, 'x_s': 0.5, 'x_s_1': 0.4, 'x_s_2': 0.3, 'x_p1': 0.875889, 'x_p1_1': 0.775889, 'x_p1_2': 0.675889, 'x_p2': 0.457262, 'x_p2_1': 0.357262, 'x_p2_2': 0.257262, 'x_r2': 1.109037, 'x_r2_1': 1.009037, 'x_r2_2': 0.909037} using model BoTorch.\n",
      "[INFO 04-05 15:26:12] ax.service.ax_client: Completed trial 310 with data: {'Viable_Cross_Terms': (76, None)}.\n",
      "[INFO 04-05 15:26:36] ax.service.ax_client: Generated new trial 311 with parameters {'z_sh': 10, 'z_sh_1': 9, 'z_sh_2': 5, 'z_p2': 32, 'z_p2_1': 34, 'z_p2_2': 32, 'z_r2': 75, 'z_r2_1': 83, 'z_r2_2': 82, 'x_s': 0.5, 'x_s_1': 0.4, 'x_s_2': 0.3, 'x_p1': 1.0, 'x_p1_1': 0.9, 'x_p1_2': 0.8, 'x_p2': -0.3, 'x_p2_1': -0.4, 'x_p2_2': -0.5, 'x_r2': 0.557943, 'x_r2_1': 0.457943, 'x_r2_2': 0.357943} using model BoTorch.\n",
      "[INFO 04-05 15:26:36] ax.service.ax_client: Completed trial 311 with data: {'Viable_Cross_Terms': (31, None)}.\n",
      "[INFO 04-05 15:27:01] ax.service.ax_client: Generated new trial 312 with parameters {'z_sh': 8, 'z_sh_1': 10, 'z_sh_2': 5, 'z_p2': 33, 'z_p2_1': 28, 'z_p2_2': 28, 'z_r2': 81, 'z_r2_1': 73, 'z_r2_2': 79, 'x_s': 0.5, 'x_s_1': 0.4, 'x_s_2': 0.3, 'x_p1': 0.975914, 'x_p1_1': 0.875914, 'x_p1_2': 0.775914, 'x_p2': 0.466059, 'x_p2_1': 0.366059, 'x_p2_2': 0.266059, 'x_r2': 1.101821, 'x_r2_1': 1.001821, 'x_r2_2': 0.901821} using model BoTorch.\n",
      "[INFO 04-05 15:27:01] ax.service.ax_client: Completed trial 312 with data: {'Viable_Cross_Terms': (19, None)}.\n",
      "[INFO 04-05 15:27:25] ax.service.ax_client: Generated new trial 313 with parameters {'z_sh': 7, 'z_sh_1': 7, 'z_sh_2': 7, 'z_p2': 29, 'z_p2_1': 33, 'z_p2_2': 25, 'z_r2': 79, 'z_r2_1': 82, 'z_r2_2': 78, 'x_s': 0.5, 'x_s_1': 0.4, 'x_s_2': 0.3, 'x_p1': 1.0, 'x_p1_1': 0.9, 'x_p1_2': 0.8, 'x_p2': -0.3, 'x_p2_1': -0.4, 'x_p2_2': -0.5, 'x_r2': 0.476969, 'x_r2_1': 0.376969, 'x_r2_2': 0.276969} using model BoTorch.\n",
      "[INFO 04-05 15:27:25] ax.service.ax_client: Completed trial 313 with data: {'Viable_Cross_Terms': (71, None)}.\n",
      "[INFO 04-05 15:27:50] ax.service.ax_client: Generated new trial 314 with parameters {'z_sh': 7, 'z_sh_1': 6, 'z_sh_2': 5, 'z_p2': 30, 'z_p2_1': 27, 'z_p2_2': 33, 'z_r2': 79, 'z_r2_1': 75, 'z_r2_2': 73, 'x_s': 0.5, 'x_s_1': 0.4, 'x_s_2': 0.3, 'x_p1': 0.666667, 'x_p1_1': 0.566667, 'x_p1_2': 0.466667, 'x_p2': 0.44854, 'x_p2_1': 0.34854, 'x_p2_2': 0.24854, 'x_r2': 1.073294, 'x_r2_1': 0.973294, 'x_r2_2': 0.873294} using model BoTorch.\n",
      "[INFO 04-05 15:27:50] ax.service.ax_client: Completed trial 314 with data: {'Viable_Cross_Terms': (36, None)}.\n",
      "[INFO 04-05 15:28:14] ax.service.ax_client: Generated new trial 315 with parameters {'z_sh': 7, 'z_sh_1': 9, 'z_sh_2': 5, 'z_p2': 28, 'z_p2_1': 31, 'z_p2_2': 27, 'z_r2': 79, 'z_r2_1': 71, 'z_r2_2': 78, 'x_s': 0.5, 'x_s_1': 0.4, 'x_s_2': 0.3, 'x_p1': 0.650636, 'x_p1_1': 0.550636, 'x_p1_2': 0.450636, 'x_p2': 0.473759, 'x_p2_1': 0.373759, 'x_p2_2': 0.273759, 'x_r2': 1.050735, 'x_r2_1': 0.950735, 'x_r2_2': 0.850735} using model BoTorch.\n",
      "[INFO 04-05 15:28:14] ax.service.ax_client: Completed trial 315 with data: {'Viable_Cross_Terms': (41, None)}.\n",
      "[INFO 04-05 15:28:39] ax.service.ax_client: Generated new trial 316 with parameters {'z_sh': 11, 'z_sh_1': 13, 'z_sh_2': 5, 'z_p2': 30, 'z_p2_1': 32, 'z_p2_2': 28, 'z_r2': 83, 'z_r2_1': 78, 'z_r2_2': 82, 'x_s': 0.5, 'x_s_1': 0.4, 'x_s_2': 0.3, 'x_p1': 1.0, 'x_p1_1': 0.9, 'x_p1_2': 0.8, 'x_p2': -0.3, 'x_p2_1': -0.4, 'x_p2_2': -0.5, 'x_r2': 0.445936, 'x_r2_1': 0.345936, 'x_r2_2': 0.245936} using model BoTorch.\n",
      "[INFO 04-05 15:28:39] ax.service.ax_client: Completed trial 316 with data: {'Viable_Cross_Terms': (31, None)}.\n",
      "[INFO 04-05 15:29:03] ax.service.ax_client: Generated new trial 317 with parameters {'z_sh': 7, 'z_sh_1': 12, 'z_sh_2': 5, 'z_p2': 32, 'z_p2_1': 31, 'z_p2_2': 25, 'z_r2': 81, 'z_r2_1': 76, 'z_r2_2': 84, 'x_s': 0.5, 'x_s_1': 0.4, 'x_s_2': 0.3, 'x_p1': 1.0, 'x_p1_1': 0.9, 'x_p1_2': 0.8, 'x_p2': -0.3, 'x_p2_1': -0.4, 'x_p2_2': -0.5, 'x_r2': 0.475113, 'x_r2_1': 0.375113, 'x_r2_2': 0.275113} using model BoTorch.\n",
      "[INFO 04-05 15:29:03] ax.service.ax_client: Completed trial 317 with data: {'Viable_Cross_Terms': (37, None)}.\n",
      "[INFO 04-05 15:29:30] ax.service.ax_client: Generated new trial 318 with parameters {'z_sh': 8, 'z_sh_1': 9, 'z_sh_2': 5, 'z_p2': 30, 'z_p2_1': 27, 'z_p2_2': 31, 'z_r2': 82, 'z_r2_1': 82, 'z_r2_2': 78, 'x_s': 0.5, 'x_s_1': 0.4, 'x_s_2': 0.3, 'x_p1': 1.0, 'x_p1_1': 0.9, 'x_p1_2': 0.8, 'x_p2': -0.3, 'x_p2_1': -0.4, 'x_p2_2': -0.5, 'x_r2': 0.459074, 'x_r2_1': 0.359074, 'x_r2_2': 0.259074} using model BoTorch.\n",
      "[INFO 04-05 15:29:30] ax.service.ax_client: Completed trial 318 with data: {'Viable_Cross_Terms': (39, None)}.\n",
      "[INFO 04-05 15:29:55] ax.service.ax_client: Generated new trial 319 with parameters {'z_sh': 7, 'z_sh_1': 8, 'z_sh_2': 5, 'z_p2': 29, 'z_p2_1': 32, 'z_p2_2': 26, 'z_r2': 81, 'z_r2_1': 77, 'z_r2_2': 73, 'x_s': 0.5, 'x_s_1': 0.4, 'x_s_2': 0.3, 'x_p1': 1.0, 'x_p1_1': 0.9, 'x_p1_2': 0.8, 'x_p2': -0.3, 'x_p2_1': -0.4, 'x_p2_2': -0.5, 'x_r2': 0.466665, 'x_r2_1': 0.366665, 'x_r2_2': 0.266665} using model BoTorch.\n",
      "[INFO 04-05 15:29:55] ax.service.ax_client: Completed trial 319 with data: {'Viable_Cross_Terms': (34, None)}.\n",
      "[INFO 04-05 15:30:19] ax.service.ax_client: Generated new trial 320 with parameters {'z_sh': 7, 'z_sh_1': 10, 'z_sh_2': 5, 'z_p2': 28, 'z_p2_1': 28, 'z_p2_2': 29, 'z_r2': 82, 'z_r2_1': 80, 'z_r2_2': 73, 'x_s': 0.5, 'x_s_1': 0.4, 'x_s_2': 0.3, 'x_p1': 1.0, 'x_p1_1': 0.9, 'x_p1_2': 0.8, 'x_p2': -0.3, 'x_p2_1': -0.4, 'x_p2_2': -0.5, 'x_r2': 0.440288, 'x_r2_1': 0.340288, 'x_r2_2': 0.240288} using model BoTorch.\n",
      "[INFO 04-05 15:30:19] ax.service.ax_client: Completed trial 320 with data: {'Viable_Cross_Terms': (95, None)}.\n",
      "[INFO 04-05 15:30:47] ax.service.ax_client: Generated new trial 321 with parameters {'z_sh': 9, 'z_sh_1': 12, 'z_sh_2': 5, 'z_p2': 30, 'z_p2_1': 29, 'z_p2_2': 29, 'z_r2': 82, 'z_r2_1': 83, 'z_r2_2': 79, 'x_s': 0.5, 'x_s_1': 0.4, 'x_s_2': 0.3, 'x_p1': 1.0, 'x_p1_1': 0.9, 'x_p1_2': 0.8, 'x_p2': -0.3, 'x_p2_1': -0.4, 'x_p2_2': -0.5, 'x_r2': 0.447669, 'x_r2_1': 0.347669, 'x_r2_2': 0.247669} using model BoTorch.\n",
      "[INFO 04-05 15:30:47] ax.service.ax_client: Completed trial 321 with data: {'Viable_Cross_Terms': (30, None)}.\n",
      "[INFO 04-05 15:31:15] ax.service.ax_client: Generated new trial 322 with parameters {'z_sh': 7, 'z_sh_1': 13, 'z_sh_2': 5, 'z_p2': 28, 'z_p2_1': 28, 'z_p2_2': 26, 'z_r2': 84, 'z_r2_1': 73, 'z_r2_2': 80, 'x_s': 0.5, 'x_s_1': 0.4, 'x_s_2': 0.3, 'x_p1': 1.0, 'x_p1_1': 0.9, 'x_p1_2': 0.8, 'x_p2': -0.3, 'x_p2_1': -0.4, 'x_p2_2': -0.5, 'x_r2': 0.412535, 'x_r2_1': 0.312535, 'x_r2_2': 0.212535} using model BoTorch.\n",
      "[INFO 04-05 15:31:15] ax.service.ax_client: Completed trial 322 with data: {'Viable_Cross_Terms': (58, None)}.\n",
      "[INFO 04-05 15:31:42] ax.service.ax_client: Generated new trial 323 with parameters {'z_sh': 7, 'z_sh_1': 9, 'z_sh_2': 5, 'z_p2': 31, 'z_p2_1': 28, 'z_p2_2': 27, 'z_r2': 81, 'z_r2_1': 77, 'z_r2_2': 74, 'x_s': 0.5, 'x_s_1': 0.4, 'x_s_2': 0.3, 'x_p1': 0.736652, 'x_p1_1': 0.636652, 'x_p1_2': 0.536652, 'x_p2': 0.487107, 'x_p2_1': 0.387107, 'x_p2_2': 0.287107, 'x_r2': 1.073588, 'x_r2_1': 0.973588, 'x_r2_2': 0.873588} using model BoTorch.\n",
      "[INFO 04-05 15:31:42] ax.service.ax_client: Completed trial 323 with data: {'Viable_Cross_Terms': (35, None)}.\n",
      "[INFO 04-05 15:32:08] ax.service.ax_client: Generated new trial 324 with parameters {'z_sh': 7, 'z_sh_1': 7, 'z_sh_2': 5, 'z_p2': 28, 'z_p2_1': 30, 'z_p2_2': 29, 'z_r2': 82, 'z_r2_1': 73, 'z_r2_2': 80, 'x_s': 0.5, 'x_s_1': 0.4, 'x_s_2': 0.3, 'x_p1': 1.0, 'x_p1_1': 0.9, 'x_p1_2': 0.8, 'x_p2': -0.3, 'x_p2_1': -0.4, 'x_p2_2': -0.5, 'x_r2': 0.446156, 'x_r2_1': 0.346156, 'x_r2_2': 0.246156} using model BoTorch.\n",
      "[INFO 04-05 15:32:08] ax.service.ax_client: Completed trial 324 with data: {'Viable_Cross_Terms': (99, None)}.\n",
      "[INFO 04-05 15:32:36] ax.service.ax_client: Generated new trial 325 with parameters {'z_sh': 7, 'z_sh_1': 6, 'z_sh_2': 5, 'z_p2': 28, 'z_p2_1': 28, 'z_p2_2': 28, 'z_r2': 78, 'z_r2_1': 71, 'z_r2_2': 82, 'x_s': 0.5, 'x_s_1': 0.4, 'x_s_2': 0.3, 'x_p1': 0.682387, 'x_p1_1': 0.582387, 'x_p1_2': 0.482387, 'x_p2': 0.485689, 'x_p2_1': 0.385689, 'x_p2_2': 0.285689, 'x_r2': 1.043669, 'x_r2_1': 0.943669, 'x_r2_2': 0.843669} using model BoTorch.\n",
      "[INFO 04-05 15:32:36] ax.service.ax_client: Completed trial 325 with data: {'Viable_Cross_Terms': (40, None)}.\n",
      "[INFO 04-05 15:33:02] ax.service.ax_client: Generated new trial 326 with parameters {'z_sh': 10, 'z_sh_1': 13, 'z_sh_2': 5, 'z_p2': 28, 'z_p2_1': 29, 'z_p2_2': 28, 'z_r2': 82, 'z_r2_1': 76, 'z_r2_2': 78, 'x_s': 0.5, 'x_s_1': 0.4, 'x_s_2': 0.3, 'x_p1': 1.0, 'x_p1_1': 0.9, 'x_p1_2': 0.8, 'x_p2': -0.3, 'x_p2_1': -0.4, 'x_p2_2': -0.5, 'x_r2': 0.427287, 'x_r2_1': 0.327287, 'x_r2_2': 0.227287} using model BoTorch.\n",
      "[INFO 04-05 15:33:02] ax.service.ax_client: Completed trial 326 with data: {'Viable_Cross_Terms': (29, None)}.\n",
      "[INFO 04-05 15:33:28] ax.service.ax_client: Generated new trial 327 with parameters {'z_sh': 9, 'z_sh_1': 13, 'z_sh_2': 5, 'z_p2': 27, 'z_p2_1': 30, 'z_p2_2': 31, 'z_r2': 79, 'z_r2_1': 76, 'z_r2_2': 83, 'x_s': 0.5, 'x_s_1': 0.4, 'x_s_2': 0.3, 'x_p1': 0.732677, 'x_p1_1': 0.632677, 'x_p1_2': 0.532677, 'x_p2': 0.5, 'x_p2_1': 0.4, 'x_p2_2': 0.3, 'x_r2': 1.061896, 'x_r2_1': 0.961896, 'x_r2_2': 0.861896} using model BoTorch.\n",
      "[INFO 04-05 15:33:28] ax.service.ax_client: Completed trial 327 with data: {'Viable_Cross_Terms': (38, None)}.\n",
      "[INFO 04-05 15:33:54] ax.service.ax_client: Generated new trial 328 with parameters {'z_sh': 7, 'z_sh_1': 11, 'z_sh_2': 5, 'z_p2': 29, 'z_p2_1': 27, 'z_p2_2': 26, 'z_r2': 80, 'z_r2_1': 73, 'z_r2_2': 74, 'x_s': 0.5, 'x_s_1': 0.4, 'x_s_2': 0.3, 'x_p1': 1.0, 'x_p1_1': 0.9, 'x_p1_2': 0.8, 'x_p2': -0.3, 'x_p2_1': -0.4, 'x_p2_2': -0.5, 'x_r2': 0.447896, 'x_r2_1': 0.347896, 'x_r2_2': 0.247896} using model BoTorch.\n",
      "[INFO 04-05 15:33:54] ax.service.ax_client: Completed trial 328 with data: {'Viable_Cross_Terms': (61, None)}.\n",
      "[INFO 04-05 15:34:20] ax.service.ax_client: Generated new trial 329 with parameters {'z_sh': 11, 'z_sh_1': 13, 'z_sh_2': 6, 'z_p2': 30, 'z_p2_1': 29, 'z_p2_2': 32, 'z_r2': 81, 'z_r2_1': 83, 'z_r2_2': 83, 'x_s': 0.5, 'x_s_1': 0.4, 'x_s_2': 0.3, 'x_p1': 1.0, 'x_p1_1': 0.9, 'x_p1_2': 0.8, 'x_p2': -0.3, 'x_p2_1': -0.4, 'x_p2_2': -0.5, 'x_r2': 0.443421, 'x_r2_1': 0.343421, 'x_r2_2': 0.243421} using model BoTorch.\n",
      "[INFO 04-05 15:34:20] ax.service.ax_client: Completed trial 329 with data: {'Viable_Cross_Terms': (30, None)}.\n",
      "[INFO 04-05 15:34:46] ax.service.ax_client: Generated new trial 330 with parameters {'z_sh': 7, 'z_sh_1': 9, 'z_sh_2': 5, 'z_p2': 29, 'z_p2_1': 30, 'z_p2_2': 27, 'z_r2': 80, 'z_r2_1': 78, 'z_r2_2': 81, 'x_s': 0.5, 'x_s_1': 0.4, 'x_s_2': 0.3, 'x_p1': 1.0, 'x_p1_1': 0.9, 'x_p1_2': 0.8, 'x_p2': -0.3, 'x_p2_1': -0.4, 'x_p2_2': -0.5, 'x_r2': 0.461944, 'x_r2_1': 0.361944, 'x_r2_2': 0.261944} using model BoTorch.\n",
      "[INFO 04-05 15:34:46] ax.service.ax_client: Completed trial 330 with data: {'Viable_Cross_Terms': (74, None)}.\n",
      "[INFO 04-05 15:35:12] ax.service.ax_client: Generated new trial 331 with parameters {'z_sh': 8, 'z_sh_1': 10, 'z_sh_2': 5, 'z_p2': 28, 'z_p2_1': 31, 'z_p2_2': 26, 'z_r2': 80, 'z_r2_1': 79, 'z_r2_2': 75, 'x_s': 0.5, 'x_s_1': 0.4, 'x_s_2': 0.3, 'x_p1': 1.0, 'x_p1_1': 0.9, 'x_p1_2': 0.8, 'x_p2': -0.3, 'x_p2_1': -0.4, 'x_p2_2': -0.5, 'x_r2': 0.452626, 'x_r2_1': 0.352626, 'x_r2_2': 0.252626} using model BoTorch.\n",
      "[INFO 04-05 15:35:12] ax.service.ax_client: Completed trial 331 with data: {'Viable_Cross_Terms': (63, None)}.\n",
      "[INFO 04-05 15:35:39] ax.service.ax_client: Generated new trial 332 with parameters {'z_sh': 10, 'z_sh_1': 12, 'z_sh_2': 5, 'z_p2': 31, 'z_p2_1': 26, 'z_p2_2': 32, 'z_r2': 80, 'z_r2_1': 73, 'z_r2_2': 73, 'x_s': 0.5, 'x_s_1': 0.4, 'x_s_2': 0.3, 'x_p1': 0.730215, 'x_p1_1': 0.630215, 'x_p1_2': 0.530215, 'x_p2': 0.5, 'x_p2_1': 0.4, 'x_p2_2': 0.3, 'x_r2': 1.105871, 'x_r2_1': 1.005871, 'x_r2_2': 0.905871} using model BoTorch.\n",
      "[INFO 04-05 15:35:39] ax.service.ax_client: Completed trial 332 with data: {'Viable_Cross_Terms': (82, None)}.\n",
      "[INFO 04-05 15:36:05] ax.service.ax_client: Generated new trial 333 with parameters {'z_sh': 7, 'z_sh_1': 10, 'z_sh_2': 5, 'z_p2': 31, 'z_p2_1': 28, 'z_p2_2': 29, 'z_r2': 78, 'z_r2_1': 84, 'z_r2_2': 83, 'x_s': 0.5, 'x_s_1': 0.4, 'x_s_2': 0.3, 'x_p1': 0.782653, 'x_p1_1': 0.682653, 'x_p1_2': 0.582653, 'x_p2': 0.464314, 'x_p2_1': 0.364314, 'x_p2_2': 0.264314, 'x_r2': 1.069644, 'x_r2_1': 0.969644, 'x_r2_2': 0.869644} using model BoTorch.\n",
      "[INFO 04-05 15:36:05] ax.service.ax_client: Completed trial 333 with data: {'Viable_Cross_Terms': (34, None)}.\n",
      "[INFO 04-05 15:36:33] ax.service.ax_client: Generated new trial 334 with parameters {'z_sh': 8, 'z_sh_1': 10, 'z_sh_2': 5, 'z_p2': 31, 'z_p2_1': 34, 'z_p2_2': 31, 'z_r2': 77, 'z_r2_1': 74, 'z_r2_2': 82, 'x_s': 0.5, 'x_s_1': 0.4, 'x_s_2': 0.3, 'x_p1': 0.792053, 'x_p1_1': 0.692053, 'x_p1_2': 0.592053, 'x_p2': 0.460652, 'x_p2_1': 0.360652, 'x_p2_2': 0.260652, 'x_r2': 1.065346, 'x_r2_1': 0.965346, 'x_r2_2': 0.865346} using model BoTorch.\n",
      "[INFO 04-05 15:36:33] ax.service.ax_client: Completed trial 334 with data: {'Viable_Cross_Terms': (37, None)}.\n",
      "[INFO 04-05 15:37:00] ax.service.ax_client: Generated new trial 335 with parameters {'z_sh': 13, 'z_sh_1': 9, 'z_sh_2': 5, 'z_p2': 30, 'z_p2_1': 33, 'z_p2_2': 27, 'z_r2': 80, 'z_r2_1': 72, 'z_r2_2': 72, 'x_s': 0.5, 'x_s_1': 0.4, 'x_s_2': 0.3, 'x_p1': 1.0, 'x_p1_1': 0.9, 'x_p1_2': 0.8, 'x_p2': -0.3, 'x_p2_1': -0.4, 'x_p2_2': -0.5, 'x_r2': 0.480055, 'x_r2_1': 0.380055, 'x_r2_2': 0.280055} using model BoTorch.\n",
      "[INFO 04-05 15:37:00] ax.service.ax_client: Completed trial 335 with data: {'Viable_Cross_Terms': (79, None)}.\n",
      "[INFO 04-05 15:37:27] ax.service.ax_client: Generated new trial 336 with parameters {'z_sh': 7, 'z_sh_1': 7, 'z_sh_2': 5, 'z_p2': 32, 'z_p2_1': 27, 'z_p2_2': 31, 'z_r2': 79, 'z_r2_1': 78, 'z_r2_2': 78, 'x_s': 0.5, 'x_s_1': 0.4, 'x_s_2': 0.3, 'x_p1': 0.768216, 'x_p1_1': 0.668216, 'x_p1_2': 0.568216, 'x_p2': 0.46251, 'x_p2_1': 0.36251, 'x_p2_2': 0.26251, 'x_r2': 1.075925, 'x_r2_1': 0.975925, 'x_r2_2': 0.875925} using model BoTorch.\n",
      "[INFO 04-05 15:37:27] ax.service.ax_client: Completed trial 336 with data: {'Viable_Cross_Terms': (35, None)}.\n",
      "[INFO 04-05 15:37:53] ax.service.ax_client: Generated new trial 337 with parameters {'z_sh': 8, 'z_sh_1': 14, 'z_sh_2': 5, 'z_p2': 31, 'z_p2_1': 26, 'z_p2_2': 29, 'z_r2': 77, 'z_r2_1': 78, 'z_r2_2': 70, 'x_s': 0.5, 'x_s_1': 0.4, 'x_s_2': 0.3, 'x_p1': 0.72872, 'x_p1_1': 0.62872, 'x_p1_2': 0.52872, 'x_p2': 0.5, 'x_p2_1': 0.4, 'x_p2_2': 0.3, 'x_r2': 1.126217, 'x_r2_1': 1.026217, 'x_r2_2': 0.926217} using model BoTorch.\n",
      "[INFO 04-05 15:37:53] ax.service.ax_client: Completed trial 337 with data: {'Viable_Cross_Terms': (36, None)}.\n",
      "[INFO 04-05 15:38:22] ax.service.ax_client: Generated new trial 338 with parameters {'z_sh': 7, 'z_sh_1': 14, 'z_sh_2': 5, 'z_p2': 30, 'z_p2_1': 28, 'z_p2_2': 29, 'z_r2': 78, 'z_r2_1': 76, 'z_r2_2': 71, 'x_s': 0.5, 'x_s_1': 0.4, 'x_s_2': 0.3, 'x_p1': 0.721356, 'x_p1_1': 0.621356, 'x_p1_2': 0.521356, 'x_p2': 0.49166, 'x_p2_1': 0.39166, 'x_p2_2': 0.29166, 'x_r2': 1.10725, 'x_r2_1': 1.00725, 'x_r2_2': 0.90725} using model BoTorch.\n",
      "[INFO 04-05 15:38:22] ax.service.ax_client: Completed trial 338 with data: {'Viable_Cross_Terms': (31, None)}.\n",
      "[INFO 04-05 15:38:49] ax.service.ax_client: Generated new trial 339 with parameters {'z_sh': 8, 'z_sh_1': 13, 'z_sh_2': 5, 'z_p2': 29, 'z_p2_1': 30, 'z_p2_2': 26, 'z_r2': 78, 'z_r2_1': 84, 'z_r2_2': 82, 'x_s': 0.5, 'x_s_1': 0.4, 'x_s_2': 0.3, 'x_p1': 1.0, 'x_p1_1': 0.9, 'x_p1_2': 0.8, 'x_p2': -0.3, 'x_p2_1': -0.4, 'x_p2_2': -0.5, 'x_r2': 0.451828, 'x_r2_1': 0.351828, 'x_r2_2': 0.251828} using model BoTorch.\n",
      "[INFO 04-05 15:38:49] ax.service.ax_client: Completed trial 339 with data: {'Viable_Cross_Terms': (31, None)}.\n",
      "[INFO 04-05 15:39:19] ax.service.ax_client: Generated new trial 340 with parameters {'z_sh': 8, 'z_sh_1': 6, 'z_sh_2': 6, 'z_p2': 28, 'z_p2_1': 28, 'z_p2_2': 31, 'z_r2': 77, 'z_r2_1': 75, 'z_r2_2': 76, 'x_s': 0.5, 'x_s_1': 0.4, 'x_s_2': 0.3, 'x_p1': 0.686561, 'x_p1_1': 0.586561, 'x_p1_2': 0.486561, 'x_p2': 0.457096, 'x_p2_1': 0.357096, 'x_p2_2': 0.257096, 'x_r2': 1.044236, 'x_r2_1': 0.944236, 'x_r2_2': 0.844236} using model BoTorch.\n",
      "[INFO 04-05 15:39:19] ax.service.ax_client: Completed trial 340 with data: {'Viable_Cross_Terms': (45, None)}.\n",
      "[INFO 04-05 15:39:47] ax.service.ax_client: Generated new trial 341 with parameters {'z_sh': 7, 'z_sh_1': 13, 'z_sh_2': 9, 'z_p2': 30, 'z_p2_1': 34, 'z_p2_2': 26, 'z_r2': 86, 'z_r2_1': 82, 'z_r2_2': 73, 'x_s': 0.5, 'x_s_1': 0.4, 'x_s_2': 0.3, 'x_p1': 1.0, 'x_p1_1': 0.9, 'x_p1_2': 0.8, 'x_p2': -0.3, 'x_p2_1': -0.4, 'x_p2_2': -0.5, 'x_r2': 0.393245, 'x_r2_1': 0.293245, 'x_r2_2': 0.193245} using model BoTorch.\n",
      "[INFO 04-05 15:39:47] ax.service.ax_client: Completed trial 341 with data: {'Viable_Cross_Terms': (57, None)}.\n",
      "[INFO 04-05 15:40:15] ax.service.ax_client: Generated new trial 342 with parameters {'z_sh': 8, 'z_sh_1': 8, 'z_sh_2': 7, 'z_p2': 29, 'z_p2_1': 28, 'z_p2_2': 30, 'z_r2': 80, 'z_r2_1': 82, 'z_r2_2': 76, 'x_s': 0.5, 'x_s_1': 0.4, 'x_s_2': 0.3, 'x_p1': 1.0, 'x_p1_1': 0.9, 'x_p1_2': 0.8, 'x_p2': -0.3, 'x_p2_1': -0.4, 'x_p2_2': -0.5, 'x_r2': 0.453121, 'x_r2_1': 0.353121, 'x_r2_2': 0.253121} using model BoTorch.\n",
      "[INFO 04-05 15:40:15] ax.service.ax_client: Completed trial 342 with data: {'Viable_Cross_Terms': (66, None)}.\n",
      "[INFO 04-05 15:40:43] ax.service.ax_client: Generated new trial 343 with parameters {'z_sh': 8, 'z_sh_1': 12, 'z_sh_2': 5, 'z_p2': 30, 'z_p2_1': 32, 'z_p2_2': 31, 'z_r2': 81, 'z_r2_1': 80, 'z_r2_2': 83, 'x_s': 0.5, 'x_s_1': 0.4, 'x_s_2': 0.3, 'x_p1': 1.0, 'x_p1_1': 0.9, 'x_p1_2': 0.8, 'x_p2': -0.3, 'x_p2_1': -0.4, 'x_p2_2': -0.5, 'x_r2': 0.454523, 'x_r2_1': 0.354523, 'x_r2_2': 0.254523} using model BoTorch.\n",
      "[INFO 04-05 15:40:43] ax.service.ax_client: Completed trial 343 with data: {'Viable_Cross_Terms': (97, None)}.\n"
     ]
    }
   ],
   "source": [
    "for i in range(100):\n",
    "    parameterization, trial_index = Tag_client.get_next_trial()\n",
    "    # Local evaluation here can be replaced with deployment to external system.\n",
    "    Tag_client.complete_trial(trial_index=trial_index, raw_data=score_vals(param_to_list(parameterization)))"
   ]
  },
  {
   "cell_type": "code",
   "execution_count": 246,
   "metadata": {},
   "outputs": [
    {
     "data": {
      "application/vnd.plotly.v1+json": {
       "config": {
        "linkText": "Export to plot.ly",
        "plotlyServerURL": "https://plot.ly",
        "showLink": false
       },
       "data": [
        {
         "hoverinfo": "none",
         "legendgroup": "",
         "line": {
          "width": 0
         },
         "mode": "lines",
         "showlegend": false,
         "type": "scatter",
         "x": {
          "bdata": "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",
          "dtype": "i4"
         },
         "y": {
          "bdata": "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",
          "dtype": "f8"
         }
        },
        {
         "fill": "tonexty",
         "fillcolor": "rgba(128,177,211,0.3)",
         "legendgroup": "objective value",
         "line": {
          "color": "rgba(128,177,211,1)"
         },
         "mode": "lines",
         "name": "objective value",
         "text": [
          "Parameterization has too many items to render on hover (21).",
          "Parameterization has too many items to render on hover (21).",
          "Parameterization has too many items to render on hover (21).",
          "Parameterization has too many items to render on hover (21).",
          "Parameterization has too many items to render on hover (21).",
          "Parameterization has too many items to render on hover (21).",
          "Parameterization has too many items to render on hover (21).",
          "Parameterization has too many items to render on hover (21).",
          "Parameterization has too many items to render on hover (21).",
          "Parameterization has too many items to render on hover (21).",
          "Parameterization has too many items to render on hover (21).",
          "Parameterization has too many items to render on hover (21).",
          "Parameterization has too many items to render on hover (21).",
          "Parameterization has too many items to render on hover (21).",
          "Parameterization has too many items to render on hover (21).",
          "Parameterization has too many items to render on hover (21).",
          "Parameterization has too many items to render on hover (21).",
          "Parameterization has too many items to render on hover (21).",
          "Parameterization has too many items to render on hover (21).",
          "Parameterization has too many items to render on hover (21).",
          "Parameterization has too many items to render on hover (21).",
          "Parameterization has too many items to render on hover (21).",
          "Parameterization has too many items to render on hover (21).",
          "Parameterization has too many items to render on hover (21).",
          "Parameterization has too many items to render on hover (21).",
          "Parameterization has too many items to render on hover (21).",
          "Parameterization has too many items to render on hover (21).",
          "Parameterization has too many items to render on hover (21).",
          "Parameterization has too many items to render on hover (21).",
          "Parameterization has too many items to render on hover (21).",
          "Parameterization has too many items to render on hover (21).",
          "Parameterization has too many items to render on hover (21).",
          "Parameterization has too many items to render on hover (21).",
          "Parameterization has too many items to render on hover (21).",
          "Parameterization has too many items to render on hover (21).",
          "Parameterization has too many items to render on hover (21).",
          "Parameterization has too many items to render on hover (21).",
          "Parameterization has too many items to render on hover (21).",
          "Parameterization has too many items to render on hover (21).",
          "Parameterization has too many items to render on hover (21).",
          "Parameterization has too many items to render on hover (21).",
          "Parameterization has too many items to render on hover (21).",
          "Parameterization has too many items to render on hover (21).",
          "Parameterization has too many items to render on hover (21).",
          "Parameterization has too many items to render on hover (21).",
          "Parameterization has too many items to render on hover (21).",
          "Parameterization has too many items to render on hover (21).",
          "Parameterization has too many items to render on hover (21).",
          "Parameterization has too many items to render on hover (21).",
          "Parameterization has too many items to render on hover (21).",
          "Parameterization has too many items to render on hover (21).",
          "Parameterization has too many items to render on hover (21).",
          "Parameterization has too many items to render on hover (21).",
          "Parameterization has too many items to render on hover (21).",
          "Parameterization has too many items to render on hover (21).",
          "Parameterization has too many items to render on hover (21).",
          "Parameterization has too many items to render on hover (21).",
          "Parameterization has too many items to render on hover (21).",
          "Parameterization has too many items to render on hover (21).",
          "Parameterization has too many items to render on hover (21).",
          "Parameterization has too many items to render on hover (21).",
          "Parameterization has too many items to render on hover (21).",
          "Parameterization has too many items to render on hover (21).",
          "Parameterization has too many items to render on hover (21).",
          "Parameterization has too many items to render on hover (21).",
          "Parameterization has too many items to render on hover (21).",
          "Parameterization has too many items to render on hover (21).",
          "Parameterization has too many items to render on hover (21).",
          "Parameterization has too many items to render on hover (21).",
          "Parameterization has too many items to render on hover (21).",
          "Parameterization has too many items to render on hover (21).",
          "Parameterization has too many items to render on hover (21).",
          "Parameterization has too many items to render on hover (21).",
          "Parameterization has too many items to render on hover (21).",
          "Parameterization has too many items to render on hover (21).",
          "Parameterization has too many items to render on hover (21).",
          "Parameterization has too many items to render on hover (21).",
          "Parameterization has too many items to render on hover (21).",
          "Parameterization has too many items to render on hover (21).",
          "Parameterization has too many items to render on hover (21).",
          "Parameterization has too many items to render on hover (21).",
          "Parameterization has too many items to render on hover (21).",
          "Parameterization has too many items to render on hover (21).",
          "Parameterization has too many items to render on hover (21).",
          "Parameterization has too many items to render on hover (21).",
          "Parameterization has too many items to render on hover (21).",
          "Parameterization has too many items to render on hover (21).",
          "Parameterization has too many items to render on hover (21).",
          "Parameterization has too many items to render on hover (21).",
          "Parameterization has too many items to render on hover (21).",
          "Parameterization has too many items to render on hover (21).",
          "Parameterization has too many items to render on hover (21).",
          "Parameterization has too many items to render on hover (21).",
          "Parameterization has too many items to render on hover (21).",
          "Parameterization has too many items to render on hover (21).",
          "Parameterization has too many items to render on hover (21).",
          "Parameterization has too many items to render on hover (21).",
          "Parameterization has too many items to render on hover (21).",
          "Parameterization has too many items to render on hover (21).",
          "Parameterization has too many items to render on hover (21).",
          "Parameterization has too many items to render on hover (21).",
          "Parameterization has too many items to render on hover (21).",
          "Parameterization has too many items to render on hover (21).",
          "Parameterization has too many items to render on hover (21).",
          "Parameterization has too many items to render on hover (21).",
          "Parameterization has too many items to render on hover (21).",
          "Parameterization has too many items to render on hover (21).",
          "Parameterization has too many items to render on hover (21).",
          "Parameterization has too many items to render on hover (21).",
          "Parameterization has too many items to render on hover (21).",
          "Parameterization has too many items to render on hover (21).",
          "Parameterization has too many items to render on hover (21).",
          "Parameterization has too many items to render on hover (21).",
          "Parameterization has too many items to render on hover (21).",
          "Parameterization has too many items to render on hover (21).",
          "Parameterization has too many items to render on hover (21).",
          "Parameterization has too many items to render on hover (21).",
          "Parameterization has too many items to render on hover (21).",
          "Parameterization has too many items to render on hover (21).",
          "Parameterization has too many items to render on hover (21).",
          "Parameterization has too many items to render on hover (21).",
          "Parameterization has too many items to render on hover (21).",
          "Parameterization has too many items to render on hover (21).",
          "Parameterization has too many items to render on hover (21).",
          "Parameterization has too many items to render on hover (21).",
          "Parameterization has too many items to render on hover (21).",
          "Parameterization has too many items to render on hover (21).",
          "Parameterization has too many items to render on hover (21).",
          "Parameterization has too many items to render on hover (21).",
          "Parameterization has too many items to render on hover (21).",
          "Parameterization has too many items to render on hover (21).",
          "Parameterization has too many items to render on hover (21).",
          "Parameterization has too many items to render on hover (21).",
          "Parameterization has too many items to render on hover (21).",
          "Parameterization has too many items to render on hover (21).",
          "Parameterization has too many items to render on hover (21).",
          "Parameterization has too many items to render on hover (21).",
          "Parameterization has too many items to render on hover (21).",
          "Parameterization has too many items to render on hover (21).",
          "Parameterization has too many items to render on hover (21).",
          "Parameterization has too many items to render on hover (21).",
          "Parameterization has too many items to render on hover (21).",
          "Parameterization has too many items to render on hover (21).",
          "Parameterization has too many items to render on hover (21).",
          "Parameterization has too many items to render on hover (21).",
          "Parameterization has too many items to render on hover (21).",
          "Parameterization has too many items to render on hover (21).",
          "Parameterization has too many items to render on hover (21).",
          "Parameterization has too many items to render on hover (21).",
          "Parameterization has too many items to render on hover (21).",
          "Parameterization has too many items to render on hover (21).",
          "Parameterization has too many items to render on hover (21).",
          "Parameterization has too many items to render on hover (21).",
          "Parameterization has too many items to render on hover (21).",
          "Parameterization has too many items to render on hover (21).",
          "Parameterization has too many items to render on hover (21).",
          "Parameterization has too many items to render on hover (21).",
          "Parameterization has too many items to render on hover (21).",
          "Parameterization has too many items to render on hover (21).",
          "Parameterization has too many items to render on hover (21).",
          "Parameterization has too many items to render on hover (21).",
          "Parameterization has too many items to render on hover (21).",
          "Parameterization has too many items to render on hover (21).",
          "Parameterization has too many items to render on hover (21).",
          "Parameterization has too many items to render on hover (21).",
          "Parameterization has too many items to render on hover (21).",
          "Parameterization has too many items to render on hover (21).",
          "Parameterization has too many items to render on hover (21).",
          "Parameterization has too many items to render on hover (21).",
          "Parameterization has too many items to render on hover (21).",
          "Parameterization has too many items to render on hover (21).",
          "Parameterization has too many items to render on hover (21).",
          "Parameterization has too many items to render on hover (21).",
          "Parameterization has too many items to render on hover (21).",
          "Parameterization has too many items to render on hover (21).",
          "Parameterization has too many items to render on hover (21).",
          "Parameterization has too many items to render on hover (21).",
          "Parameterization has too many items to render on hover (21).",
          "Parameterization has too many items to render on hover (21).",
          "Parameterization has too many items to render on hover (21).",
          "Parameterization has too many items to render on hover (21).",
          "Parameterization has too many items to render on hover (21).",
          "Parameterization has too many items to render on hover (21).",
          "Parameterization has too many items to render on hover (21).",
          "Parameterization has too many items to render on hover (21).",
          "Parameterization has too many items to render on hover (21).",
          "Parameterization has too many items to render on hover (21).",
          "Parameterization has too many items to render on hover (21).",
          "Parameterization has too many items to render on hover (21).",
          "Parameterization has too many items to render on hover (21).",
          "Parameterization has too many items to render on hover (21).",
          "Parameterization has too many items to render on hover (21).",
          "Parameterization has too many items to render on hover (21).",
          "Parameterization has too many items to render on hover (21).",
          "Parameterization has too many items to render on hover (21).",
          "Parameterization has too many items to render on hover (21).",
          "Parameterization has too many items to render on hover (21).",
          "Parameterization has too many items to render on hover (21).",
          "Parameterization has too many items to render on hover (21).",
          "Parameterization has too many items to render on hover (21).",
          "Parameterization has too many items to render on hover (21).",
          "Parameterization has too many items to render on hover (21).",
          "Parameterization has too many items to render on hover (21).",
          "Parameterization has too many items to render on hover (21).",
          "Parameterization has too many items to render on hover (21).",
          "Parameterization has too many items to render on hover (21).",
          "Parameterization has too many items to render on hover (21).",
          "Parameterization has too many items to render on hover (21).",
          "Parameterization has too many items to render on hover (21).",
          "Parameterization has too many items to render on hover (21).",
          "Parameterization has too many items to render on hover (21).",
          "Parameterization has too many items to render on hover (21).",
          "Parameterization has too many items to render on hover (21).",
          "Parameterization has too many items to render on hover (21).",
          "Parameterization has too many items to render on hover (21).",
          "Parameterization has too many items to render on hover (21).",
          "Parameterization has too many items to render on hover (21).",
          "Parameterization has too many items to render on hover (21).",
          "Parameterization has too many items to render on hover (21).",
          "Parameterization has too many items to render on hover (21).",
          "Parameterization has too many items to render on hover (21).",
          "Parameterization has too many items to render on hover (21).",
          "Parameterization has too many items to render on hover (21).",
          "Parameterization has too many items to render on hover (21).",
          "Parameterization has too many items to render on hover (21).",
          "Parameterization has too many items to render on hover (21).",
          "Parameterization has too many items to render on hover (21).",
          "Parameterization has too many items to render on hover (21).",
          "Parameterization has too many items to render on hover (21).",
          "Parameterization has too many items to render on hover (21).",
          "Parameterization has too many items to render on hover (21).",
          "Parameterization has too many items to render on hover (21).",
          "Parameterization has too many items to render on hover (21).",
          "Parameterization has too many items to render on hover (21).",
          "Parameterization has too many items to render on hover (21).",
          "Parameterization has too many items to render on hover (21).",
          "Parameterization has too many items to render on hover (21).",
          "Parameterization has too many items to render on hover (21).",
          "Parameterization has too many items to render on hover (21).",
          "Parameterization has too many items to render on hover (21).",
          "Parameterization has too many items to render on hover (21).",
          "Parameterization has too many items to render on hover (21).",
          "Parameterization has too many items to render on hover (21).",
          "Parameterization has too many items to render on hover (21).",
          "Parameterization has too many items to render on hover (21).",
          "Parameterization has too many items to render on hover (21).",
          "Parameterization has too many items to render on hover (21).",
          "Parameterization has too many items to render on hover (21).",
          "Parameterization has too many items to render on hover (21).",
          "Parameterization has too many items to render on hover (21).",
          "Parameterization has too many items to render on hover (21).",
          "Parameterization has too many items to render on hover (21).",
          "Parameterization has too many items to render on hover (21).",
          "Parameterization has too many items to render on hover (21).",
          "Parameterization has too many items to render on hover (21).",
          "Parameterization has too many items to render on hover (21).",
          "Parameterization has too many items to render on hover (21).",
          "Parameterization has too many items to render on hover (21).",
          "Parameterization has too many items to render on hover (21).",
          "Parameterization has too many items to render on hover (21).",
          "Parameterization has too many items to render on hover (21).",
          "Parameterization has too many items to render on hover (21).",
          "Parameterization has too many items to render on hover (21).",
          "Parameterization has too many items to render on hover (21).",
          "Parameterization has too many items to render on hover (21).",
          "Parameterization has too many items to render on hover (21).",
          "Parameterization has too many items to render on hover (21).",
          "Parameterization has too many items to render on hover (21).",
          "Parameterization has too many items to render on hover (21).",
          "Parameterization has too many items to render on hover (21).",
          "Parameterization has too many items to render on hover (21).",
          "Parameterization has too many items to render on hover (21).",
          "Parameterization has too many items to render on hover (21).",
          "Parameterization has too many items to render on hover (21).",
          "Parameterization has too many items to render on hover (21).",
          "Parameterization has too many items to render on hover (21).",
          "Parameterization has too many items to render on hover (21).",
          "Parameterization has too many items to render on hover (21).",
          "Parameterization has too many items to render on hover (21).",
          "Parameterization has too many items to render on hover (21).",
          "Parameterization has too many items to render on hover (21).",
          "Parameterization has too many items to render on hover (21).",
          "Parameterization has too many items to render on hover (21).",
          "Parameterization has too many items to render on hover (21).",
          "Parameterization has too many items to render on hover (21).",
          "Parameterization has too many items to render on hover (21).",
          "Parameterization has too many items to render on hover (21).",
          "Parameterization has too many items to render on hover (21).",
          "Parameterization has too many items to render on hover (21).",
          "Parameterization has too many items to render on hover (21).",
          "Parameterization has too many items to render on hover (21).",
          "Parameterization has too many items to render on hover (21).",
          "Parameterization has too many items to render on hover (21).",
          "Parameterization has too many items to render on hover (21).",
          "Parameterization has too many items to render on hover (21).",
          "Parameterization has too many items to render on hover (21).",
          "Parameterization has too many items to render on hover (21).",
          "Parameterization has too many items to render on hover (21).",
          "Parameterization has too many items to render on hover (21).",
          "Parameterization has too many items to render on hover (21).",
          "Parameterization has too many items to render on hover (21).",
          "Parameterization has too many items to render on hover (21).",
          "Parameterization has too many items to render on hover (21).",
          "Parameterization has too many items to render on hover (21).",
          "Parameterization has too many items to render on hover (21).",
          "Parameterization has too many items to render on hover (21).",
          "Parameterization has too many items to render on hover (21).",
          "Parameterization has too many items to render on hover (21).",
          "Parameterization has too many items to render on hover (21).",
          "Parameterization has too many items to render on hover (21).",
          "Parameterization has too many items to render on hover (21).",
          "Parameterization has too many items to render on hover (21).",
          "Parameterization has too many items to render on hover (21).",
          "Parameterization has too many items to render on hover (21).",
          "Parameterization has too many items to render on hover (21).",
          "Parameterization has too many items to render on hover (21).",
          "Parameterization has too many items to render on hover (21).",
          "Parameterization has too many items to render on hover (21).",
          "Parameterization has too many items to render on hover (21).",
          "Parameterization has too many items to render on hover (21).",
          "Parameterization has too many items to render on hover (21).",
          "Parameterization has too many items to render on hover (21).",
          "Parameterization has too many items to render on hover (21).",
          "Parameterization has too many items to render on hover (21).",
          "Parameterization has too many items to render on hover (21).",
          "Parameterization has too many items to render on hover (21).",
          "Parameterization has too many items to render on hover (21).",
          "Parameterization has too many items to render on hover (21).",
          "Parameterization has too many items to render on hover (21).",
          "Parameterization has too many items to render on hover (21).",
          "Parameterization has too many items to render on hover (21).",
          "Parameterization has too many items to render on hover (21).",
          "Parameterization has too many items to render on hover (21).",
          "Parameterization has too many items to render on hover (21).",
          "Parameterization has too many items to render on hover (21).",
          "Parameterization has too many items to render on hover (21).",
          "Parameterization has too many items to render on hover (21).",
          "Parameterization has too many items to render on hover (21).",
          "Parameterization has too many items to render on hover (21).",
          "Parameterization has too many items to render on hover (21).",
          "Parameterization has too many items to render on hover (21).",
          "Parameterization has too many items to render on hover (21).",
          "Parameterization has too many items to render on hover (21).",
          "Parameterization has too many items to render on hover (21).",
          "Parameterization has too many items to render on hover (21).",
          "Parameterization has too many items to render on hover (21).",
          "Parameterization has too many items to render on hover (21).",
          "Parameterization has too many items to render on hover (21).",
          "Parameterization has too many items to render on hover (21).",
          "Parameterization has too many items to render on hover (21).",
          "Parameterization has too many items to render on hover (21).",
          "Parameterization has too many items to render on hover (21).",
          "Parameterization has too many items to render on hover (21).",
          "Parameterization has too many items to render on hover (21).",
          "Parameterization has too many items to render on hover (21).",
          "Parameterization has too many items to render on hover (21).",
          "Parameterization has too many items to render on hover (21).",
          "Parameterization has too many items to render on hover (21).",
          "Parameterization has too many items to render on hover (21).",
          "Parameterization has too many items to render on hover (21).",
          "Parameterization has too many items to render on hover (21).",
          "Parameterization has too many items to render on hover (21).",
          "Parameterization has too many items to render on hover (21).",
          "Parameterization has too many items to render on hover (21).",
          "Parameterization has too many items to render on hover (21).",
          "Parameterization has too many items to render on hover (21).",
          "Parameterization has too many items to render on hover (21).",
          "Parameterization has too many items to render on hover (21).",
          "Parameterization has too many items to render on hover (21).",
          "Parameterization has too many items to render on hover (21).",
          "Parameterization has too many items to render on hover (21).",
          "Parameterization has too many items to render on hover (21).",
          "Parameterization has too many items to render on hover (21).",
          "Parameterization has too many items to render on hover (21).",
          "Parameterization has too many items to render on hover (21).",
          "Parameterization has too many items to render on hover (21).",
          "Parameterization has too many items to render on hover (21).",
          "Parameterization has too many items to render on hover (21).",
          "Parameterization has too many items to render on hover (21).",
          "Parameterization has too many items to render on hover (21).",
          "Parameterization has too many items to render on hover (21).",
          "Parameterization has too many items to render on hover (21).",
          "Parameterization has too many items to render on hover (21).",
          "Parameterization has too many items to render on hover (21).",
          "Parameterization has too many items to render on hover (21).",
          "Parameterization has too many items to render on hover (21).",
          "Parameterization has too many items to render on hover (21).",
          "Parameterization has too many items to render on hover (21).",
          "Parameterization has too many items to render on hover (21).",
          "Parameterization has too many items to render on hover (21).",
          "Parameterization has too many items to render on hover (21).",
          "Parameterization has too many items to render on hover (21).",
          "Parameterization has too many items to render on hover (21).",
          "Parameterization has too many items to render on hover (21).",
          "Parameterization has too many items to render on hover (21).",
          "Parameterization has too many items to render on hover (21).",
          "Parameterization has too many items to render on hover (21).",
          "Parameterization has too many items to render on hover (21).",
          "Parameterization has too many items to render on hover (21).",
          "Parameterization has too many items to render on hover (21).",
          "Parameterization has too many items to render on hover (21).",
          "Parameterization has too many items to render on hover (21).",
          "Parameterization has too many items to render on hover (21).",
          "Parameterization has too many items to render on hover (21).",
          "Parameterization has too many items to render on hover (21).",
          "Parameterization has too many items to render on hover (21).",
          "Parameterization has too many items to render on hover (21).",
          "Parameterization has too many items to render on hover (21).",
          "Parameterization has too many items to render on hover (21).",
          "Parameterization has too many items to render on hover (21).",
          "Parameterization has too many items to render on hover (21).",
          "Parameterization has too many items to render on hover (21).",
          "Parameterization has too many items to render on hover (21).",
          "Parameterization has too many items to render on hover (21).",
          "Parameterization has too many items to render on hover (21).",
          "Parameterization has too many items to render on hover (21).",
          "Parameterization has too many items to render on hover (21).",
          "Parameterization has too many items to render on hover (21).",
          "Parameterization has too many items to render on hover (21).",
          "Parameterization has too many items to render on hover (21).",
          "Parameterization has too many items to render on hover (21).",
          "Parameterization has too many items to render on hover (21).",
          "Parameterization has too many items to render on hover (21).",
          "Parameterization has too many items to render on hover (21).",
          "Parameterization has too many items to render on hover (21).",
          "Parameterization has too many items to render on hover (21).",
          "Parameterization has too many items to render on hover (21).",
          "Parameterization has too many items to render on hover (21).",
          "Parameterization has too many items to render on hover (21).",
          "Parameterization has too many items to render on hover (21).",
          "Parameterization has too many items to render on hover (21).",
          "Parameterization has too many items to render on hover (21).",
          "Parameterization has too many items to render on hover (21).",
          "Parameterization has too many items to render on hover (21).",
          "Parameterization has too many items to render on hover (21).",
          "Parameterization has too many items to render on hover (21).",
          "Parameterization has too many items to render on hover (21).",
          "Parameterization has too many items to render on hover (21).",
          "Parameterization has too many items to render on hover (21).",
          "Parameterization has too many items to render on hover (21).",
          "Parameterization has too many items to render on hover (21).",
          "Parameterization has too many items to render on hover (21).",
          "Parameterization has too many items to render on hover (21).",
          "Parameterization has too many items to render on hover (21).",
          "Parameterization has too many items to render on hover (21).",
          "Parameterization has too many items to render on hover (21).",
          "Parameterization has too many items to render on hover (21).",
          "Parameterization has too many items to render on hover (21).",
          "Parameterization has too many items to render on hover (21).",
          "Parameterization has too many items to render on hover (21).",
          "Parameterization has too many items to render on hover (21).",
          "Parameterization has too many items to render on hover (21).",
          "Parameterization has too many items to render on hover (21).",
          "Parameterization has too many items to render on hover (21).",
          "Parameterization has too many items to render on hover (21).",
          "Parameterization has too many items to render on hover (21).",
          "Parameterization has too many items to render on hover (21).",
          "Parameterization has too many items to render on hover (21).",
          "Parameterization has too many items to render on hover (21).",
          "Parameterization has too many items to render on hover (21).",
          "Parameterization has too many items to render on hover (21).",
          "Parameterization has too many items to render on hover (21).",
          "Parameterization has too many items to render on hover (21).",
          "Parameterization has too many items to render on hover (21).",
          "Parameterization has too many items to render on hover (21).",
          "Parameterization has too many items to render on hover (21).",
          "Parameterization has too many items to render on hover (21).",
          "Parameterization has too many items to render on hover (21).",
          "Parameterization has too many items to render on hover (21).",
          "Parameterization has too many items to render on hover (21).",
          "Parameterization has too many items to render on hover (21).",
          "Parameterization has too many items to render on hover (21).",
          "Parameterization has too many items to render on hover (21).",
          "Parameterization has too many items to render on hover (21).",
          "Parameterization has too many items to render on hover (21).",
          "Parameterization has too many items to render on hover (21).",
          "Parameterization has too many items to render on hover (21).",
          "Parameterization has too many items to render on hover (21).",
          "Parameterization has too many items to render on hover (21).",
          "Parameterization has too many items to render on hover (21).",
          "Parameterization has too many items to render on hover (21).",
          "Parameterization has too many items to render on hover (21).",
          "Parameterization has too many items to render on hover (21).",
          "Parameterization has too many items to render on hover (21).",
          "Parameterization has too many items to render on hover (21).",
          "Parameterization has too many items to render on hover (21).",
          "Parameterization has too many items to render on hover (21).",
          "Parameterization has too many items to render on hover (21).",
          "Parameterization has too many items to render on hover (21).",
          "Parameterization has too many items to render on hover (21).",
          "Parameterization has too many items to render on hover (21).",
          "Parameterization has too many items to render on hover (21).",
          "Parameterization has too many items to render on hover (21).",
          "Parameterization has too many items to render on hover (21).",
          "Parameterization has too many items to render on hover (21).",
          "Parameterization has too many items to render on hover (21).",
          "Parameterization has too many items to render on hover (21).",
          "Parameterization has too many items to render on hover (21).",
          "Parameterization has too many items to render on hover (21).",
          "Parameterization has too many items to render on hover (21).",
          "Parameterization has too many items to render on hover (21).",
          "Parameterization has too many items to render on hover (21).",
          "Parameterization has too many items to render on hover (21).",
          "Parameterization has too many items to render on hover (21).",
          "Parameterization has too many items to render on hover (21).",
          "Parameterization has too many items to render on hover (21).",
          "Parameterization has too many items to render on hover (21).",
          "Parameterization has too many items to render on hover (21).",
          "Parameterization has too many items to render on hover (21).",
          "Parameterization has too many items to render on hover (21).",
          "Parameterization has too many items to render on hover (21).",
          "Parameterization has too many items to render on hover (21).",
          "Parameterization has too many items to render on hover (21).",
          "Parameterization has too many items to render on hover (21).",
          "Parameterization has too many items to render on hover (21).",
          "Parameterization has too many items to render on hover (21).",
          "Parameterization has too many items to render on hover (21).",
          "Parameterization has too many items to render on hover (21).",
          "Parameterization has too many items to render on hover (21).",
          "Parameterization has too many items to render on hover (21).",
          "Parameterization has too many items to render on hover (21).",
          "Parameterization has too many items to render on hover (21).",
          "Parameterization has too many items to render on hover (21).",
          "Parameterization has too many items to render on hover (21).",
          "Parameterization has too many items to render on hover (21).",
          "Parameterization has too many items to render on hover (21).",
          "Parameterization has too many items to render on hover (21).",
          "Parameterization has too many items to render on hover (21).",
          "Parameterization has too many items to render on hover (21).",
          "Parameterization has too many items to render on hover (21).",
          "Parameterization has too many items to render on hover (21).",
          "Parameterization has too many items to render on hover (21).",
          "Parameterization has too many items to render on hover (21).",
          "Parameterization has too many items to render on hover (21).",
          "Parameterization has too many items to render on hover (21).",
          "Parameterization has too many items to render on hover (21).",
          "Parameterization has too many items to render on hover (21).",
          "Parameterization has too many items to render on hover (21).",
          "Parameterization has too many items to render on hover (21).",
          "Parameterization has too many items to render on hover (21).",
          "Parameterization has too many items to render on hover (21).",
          "Parameterization has too many items to render on hover (21).",
          "Parameterization has too many items to render on hover (21).",
          "Parameterization has too many items to render on hover (21).",
          "Parameterization has too many items to render on hover (21).",
          "Parameterization has too many items to render on hover (21).",
          "Parameterization has too many items to render on hover (21).",
          "Parameterization has too many items to render on hover (21).",
          "Parameterization has too many items to render on hover (21).",
          "Parameterization has too many items to render on hover (21).",
          "Parameterization has too many items to render on hover (21).",
          "Parameterization has too many items to render on hover (21).",
          "Parameterization has too many items to render on hover (21).",
          "Parameterization has too many items to render on hover (21).",
          "Parameterization has too many items to render on hover (21).",
          "Parameterization has too many items to render on hover (21).",
          "Parameterization has too many items to render on hover (21).",
          "Parameterization has too many items to render on hover (21).",
          "Parameterization has too many items to render on hover (21).",
          "Parameterization has too many items to render on hover (21).",
          "Parameterization has too many items to render on hover (21).",
          "Parameterization has too many items to render on hover (21).",
          "Parameterization has too many items to render on hover (21).",
          "Parameterization has too many items to render on hover (21).",
          "Parameterization has too many items to render on hover (21).",
          "Parameterization has too many items to render on hover (21).",
          "Parameterization has too many items to render on hover (21).",
          "Parameterization has too many items to render on hover (21).",
          "Parameterization has too many items to render on hover (21).",
          "Parameterization has too many items to render on hover (21).",
          "Parameterization has too many items to render on hover (21).",
          "Parameterization has too many items to render on hover (21).",
          "Parameterization has too many items to render on hover (21).",
          "Parameterization has too many items to render on hover (21).",
          "Parameterization has too many items to render on hover (21).",
          "Parameterization has too many items to render on hover (21).",
          "Parameterization has too many items to render on hover (21).",
          "Parameterization has too many items to render on hover (21).",
          "Parameterization has too many items to render on hover (21).",
          "Parameterization has too many items to render on hover (21).",
          "Parameterization has too many items to render on hover (21).",
          "Parameterization has too many items to render on hover (21).",
          "Parameterization has too many items to render on hover (21).",
          "Parameterization has too many items to render on hover (21).",
          "Parameterization has too many items to render on hover (21).",
          "Parameterization has too many items to render on hover (21).",
          "Parameterization has too many items to render on hover (21).",
          "Parameterization has too many items to render on hover (21).",
          "Parameterization has too many items to render on hover (21).",
          "Parameterization has too many items to render on hover (21).",
          "Parameterization has too many items to render on hover (21).",
          "Parameterization has too many items to render on hover (21).",
          "Parameterization has too many items to render on hover (21).",
          "Parameterization has too many items to render on hover (21).",
          "Parameterization has too many items to render on hover (21).",
          "Parameterization has too many items to render on hover (21).",
          "Parameterization has too many items to render on hover (21).",
          "Parameterization has too many items to render on hover (21).",
          "Parameterization has too many items to render on hover (21).",
          "Parameterization has too many items to render on hover (21).",
          "Parameterization has too many items to render on hover (21).",
          "Parameterization has too many items to render on hover (21).",
          "Parameterization has too many items to render on hover (21).",
          "Parameterization has too many items to render on hover (21).",
          "Parameterization has too many items to render on hover (21).",
          "Parameterization has too many items to render on hover (21).",
          "Parameterization has too many items to render on hover (21).",
          "Parameterization has too many items to render on hover (21).",
          "Parameterization has too many items to render on hover (21).",
          "Parameterization has too many items to render on hover (21).",
          "Parameterization has too many items to render on hover (21).",
          "Parameterization has too many items to render on hover (21).",
          "Parameterization has too many items to render on hover (21).",
          "Parameterization has too many items to render on hover (21).",
          "Parameterization has too many items to render on hover (21).",
          "Parameterization has too many items to render on hover (21).",
          "Parameterization has too many items to render on hover (21).",
          "Parameterization has too many items to render on hover (21).",
          "Parameterization has too many items to render on hover (21).",
          "Parameterization has too many items to render on hover (21).",
          "Parameterization has too many items to render on hover (21).",
          "Parameterization has too many items to render on hover (21).",
          "Parameterization has too many items to render on hover (21).",
          "Parameterization has too many items to render on hover (21).",
          "Parameterization has too many items to render on hover (21).",
          "Parameterization has too many items to render on hover (21).",
          "Parameterization has too many items to render on hover (21).",
          "Parameterization has too many items to render on hover (21).",
          "Parameterization has too many items to render on hover (21).",
          "Parameterization has too many items to render on hover (21).",
          "Parameterization has too many items to render on hover (21).",
          "Parameterization has too many items to render on hover (21).",
          "Parameterization has too many items to render on hover (21).",
          "Parameterization has too many items to render on hover (21).",
          "Parameterization has too many items to render on hover (21).",
          "Parameterization has too many items to render on hover (21).",
          "Parameterization has too many items to render on hover (21).",
          "Parameterization has too many items to render on hover (21).",
          "Parameterization has too many items to render on hover (21).",
          "Parameterization has too many items to render on hover (21).",
          "Parameterization has too many items to render on hover (21).",
          "Parameterization has too many items to render on hover (21).",
          "Parameterization has too many items to render on hover (21).",
          "Parameterization has too many items to render on hover (21).",
          "Parameterization has too many items to render on hover (21).",
          "Parameterization has too many items to render on hover (21).",
          "Parameterization has too many items to render on hover (21).",
          "Parameterization has too many items to render on hover (21).",
          "Parameterization has too many items to render on hover (21).",
          "Parameterization has too many items to render on hover (21).",
          "Parameterization has too many items to render on hover (21).",
          "Parameterization has too many items to render on hover (21).",
          "Parameterization has too many items to render on hover (21).",
          "Parameterization has too many items to render on hover (21).",
          "Parameterization has too many items to render on hover (21).",
          "Parameterization has too many items to render on hover (21).",
          "Parameterization has too many items to render on hover (21).",
          "Parameterization has too many items to render on hover (21).",
          "Parameterization has too many items to render on hover (21).",
          "Parameterization has too many items to render on hover (21).",
          "Parameterization has too many items to render on hover (21).",
          "Parameterization has too many items to render on hover (21).",
          "Parameterization has too many items to render on hover (21).",
          "Parameterization has too many items to render on hover (21).",
          "Parameterization has too many items to render on hover (21).",
          "Parameterization has too many items to render on hover (21).",
          "Parameterization has too many items to render on hover (21).",
          "Parameterization has too many items to render on hover (21).",
          "Parameterization has too many items to render on hover (21).",
          "Parameterization has too many items to render on hover (21).",
          "Parameterization has too many items to render on hover (21).",
          "Parameterization has too many items to render on hover (21).",
          "Parameterization has too many items to render on hover (21).",
          "Parameterization has too many items to render on hover (21).",
          "Parameterization has too many items to render on hover (21).",
          "Parameterization has too many items to render on hover (21).",
          "Parameterization has too many items to render on hover (21).",
          "Parameterization has too many items to render on hover (21).",
          "Parameterization has too many items to render on hover (21).",
          "Parameterization has too many items to render on hover (21).",
          "Parameterization has too many items to render on hover (21).",
          "Parameterization has too many items to render on hover (21).",
          "Parameterization has too many items to render on hover (21).",
          "Parameterization has too many items to render on hover (21).",
          "Parameterization has too many items to render on hover (21).",
          "Parameterization has too many items to render on hover (21).",
          "Parameterization has too many items to render on hover (21).",
          "Parameterization has too many items to render on hover (21).",
          "Parameterization has too many items to render on hover (21).",
          "Parameterization has too many items to render on hover (21).",
          "Parameterization has too many items to render on hover (21).",
          "Parameterization has too many items to render on hover (21).",
          "Parameterization has too many items to render on hover (21).",
          "Parameterization has too many items to render on hover (21).",
          "Parameterization has too many items to render on hover (21).",
          "Parameterization has too many items to render on hover (21).",
          "Parameterization has too many items to render on hover (21).",
          "Parameterization has too many items to render on hover (21).",
          "Parameterization has too many items to render on hover (21).",
          "Parameterization has too many items to render on hover (21).",
          "Parameterization has too many items to render on hover (21).",
          "Parameterization has too many items to render on hover (21).",
          "Parameterization has too many items to render on hover (21).",
          "Parameterization has too many items to render on hover (21).",
          "Parameterization has too many items to render on hover (21).",
          "Parameterization has too many items to render on hover (21).",
          "Parameterization has too many items to render on hover (21).",
          "Parameterization has too many items to render on hover (21).",
          "Parameterization has too many items to render on hover (21).",
          "Parameterization has too many items to render on hover (21).",
          "Parameterization has too many items to render on hover (21).",
          "Parameterization has too many items to render on hover (21).",
          "Parameterization has too many items to render on hover (21).",
          "Parameterization has too many items to render on hover (21).",
          "Parameterization has too many items to render on hover (21).",
          "Parameterization has too many items to render on hover (21).",
          "Parameterization has too many items to render on hover (21).",
          "Parameterization has too many items to render on hover (21).",
          "Parameterization has too many items to render on hover (21).",
          "Parameterization has too many items to render on hover (21).",
          "Parameterization has too many items to render on hover (21).",
          "Parameterization has too many items to render on hover (21).",
          "Parameterization has too many items to render on hover (21).",
          "Parameterization has too many items to render on hover (21).",
          "Parameterization has too many items to render on hover (21).",
          "Parameterization has too many items to render on hover (21).",
          "Parameterization has too many items to render on hover (21).",
          "Parameterization has too many items to render on hover (21).",
          "Parameterization has too many items to render on hover (21).",
          "Parameterization has too many items to render on hover (21).",
          "Parameterization has too many items to render on hover (21).",
          "Parameterization has too many items to render on hover (21).",
          "Parameterization has too many items to render on hover (21).",
          "Parameterization has too many items to render on hover (21).",
          "Parameterization has too many items to render on hover (21).",
          "Parameterization has too many items to render on hover (21).",
          "Parameterization has too many items to render on hover (21).",
          "Parameterization has too many items to render on hover (21).",
          "Parameterization has too many items to render on hover (21).",
          "Parameterization has too many items to render on hover (21).",
          "Parameterization has too many items to render on hover (21).",
          "Parameterization has too many items to render on hover (21).",
          "Parameterization has too many items to render on hover (21).",
          "Parameterization has too many items to render on hover (21).",
          "Parameterization has too many items to render on hover (21).",
          "Parameterization has too many items to render on hover (21).",
          "Parameterization has too many items to render on hover (21).",
          "Parameterization has too many items to render on hover (21).",
          "Parameterization has too many items to render on hover (21).",
          "Parameterization has too many items to render on hover (21).",
          "Parameterization has too many items to render on hover (21).",
          "Parameterization has too many items to render on hover (21).",
          "Parameterization has too many items to render on hover (21).",
          "Parameterization has too many items to render on hover (21).",
          "Parameterization has too many items to render on hover (21).",
          "Parameterization has too many items to render on hover (21).",
          "Parameterization has too many items to render on hover (21).",
          "Parameterization has too many items to render on hover (21).",
          "Parameterization has too many items to render on hover (21).",
          "Parameterization has too many items to render on hover (21).",
          "Parameterization has too many items to render on hover (21).",
          "Parameterization has too many items to render on hover (21).",
          "Parameterization has too many items to render on hover (21).",
          "Parameterization has too many items to render on hover (21).",
          "Parameterization has too many items to render on hover (21).",
          "Parameterization has too many items to render on hover (21).",
          "Parameterization has too many items to render on hover (21).",
          "Parameterization has too many items to render on hover (21).",
          "Parameterization has too many items to render on hover (21).",
          "Parameterization has too many items to render on hover (21).",
          "Parameterization has too many items to render on hover (21).",
          "Parameterization has too many items to render on hover (21).",
          "Parameterization has too many items to render on hover (21).",
          "Parameterization has too many items to render on hover (21).",
          "Parameterization has too many items to render on hover (21).",
          "Parameterization has too many items to render on hover (21).",
          "Parameterization has too many items to render on hover (21).",
          "Parameterization has too many items to render on hover (21).",
          "Parameterization has too many items to render on hover (21).",
          "Parameterization has too many items to render on hover (21).",
          "Parameterization has too many items to render on hover (21).",
          "Parameterization has too many items to render on hover (21).",
          "Parameterization has too many items to render on hover (21).",
          "Parameterization has too many items to render on hover (21).",
          "Parameterization has too many items to render on hover (21).",
          "Parameterization has too many items to render on hover (21).",
          "Parameterization has too many items to render on hover (21).",
          "Parameterization has too many items to render on hover (21).",
          "Parameterization has too many items to render on hover (21).",
          "Parameterization has too many items to render on hover (21).",
          "Parameterization has too many items to render on hover (21).",
          "Parameterization has too many items to render on hover (21).",
          "Parameterization has too many items to render on hover (21).",
          "Parameterization has too many items to render on hover (21).",
          "Parameterization has too many items to render on hover (21).",
          "Parameterization has too many items to render on hover (21).",
          "Parameterization has too many items to render on hover (21).",
          "Parameterization has too many items to render on hover (21).",
          "Parameterization has too many items to render on hover (21).",
          "Parameterization has too many items to render on hover (21).",
          "Parameterization has too many items to render on hover (21).",
          "Parameterization has too many items to render on hover (21).",
          "Parameterization has too many items to render on hover (21).",
          "Parameterization has too many items to render on hover (21).",
          "Parameterization has too many items to render on hover (21).",
          "Parameterization has too many items to render on hover (21).",
          "Parameterization has too many items to render on hover (21).",
          "Parameterization has too many items to render on hover (21).",
          "Parameterization has too many items to render on hover (21).",
          "Parameterization has too many items to render on hover (21).",
          "Parameterization has too many items to render on hover (21).",
          "Parameterization has too many items to render on hover (21).",
          "Parameterization has too many items to render on hover (21).",
          "Parameterization has too many items to render on hover (21).",
          "Parameterization has too many items to render on hover (21).",
          "Parameterization has too many items to render on hover (21).",
          "Parameterization has too many items to render on hover (21).",
          "Parameterization has too many items to render on hover (21).",
          "Parameterization has too many items to render on hover (21).",
          "Parameterization has too many items to render on hover (21).",
          "Parameterization has too many items to render on hover (21).",
          "Parameterization has too many items to render on hover (21).",
          "Parameterization has too many items to render on hover (21).",
          "Parameterization has too many items to render on hover (21).",
          "Parameterization has too many items to render on hover (21).",
          "Parameterization has too many items to render on hover (21).",
          "Parameterization has too many items to render on hover (21).",
          "Parameterization has too many items to render on hover (21).",
          "Parameterization has too many items to render on hover (21).",
          "Parameterization has too many items to render on hover (21).",
          "Parameterization has too many items to render on hover (21).",
          "Parameterization has too many items to render on hover (21).",
          "Parameterization has too many items to render on hover (21).",
          "Parameterization has too many items to render on hover (21).",
          "Parameterization has too many items to render on hover (21).",
          "Parameterization has too many items to render on hover (21).",
          "Parameterization has too many items to render on hover (21).",
          "Parameterization has too many items to render on hover (21).",
          "Parameterization has too many items to render on hover (21).",
          "Parameterization has too many items to render on hover (21).",
          "Parameterization has too many items to render on hover (21).",
          "Parameterization has too many items to render on hover (21).",
          "Parameterization has too many items to render on hover (21).",
          "Parameterization has too many items to render on hover (21).",
          "Parameterization has too many items to render on hover (21).",
          "Parameterization has too many items to render on hover (21).",
          "Parameterization has too many items to render on hover (21).",
          "Parameterization has too many items to render on hover (21).",
          "Parameterization has too many items to render on hover (21).",
          "Parameterization has too many items to render on hover (21).",
          "Parameterization has too many items to render on hover (21).",
          "Parameterization has too many items to render on hover (21).",
          "Parameterization has too many items to render on hover (21).",
          "Parameterization has too many items to render on hover (21).",
          "Parameterization has too many items to render on hover (21).",
          "Parameterization has too many items to render on hover (21).",
          "Parameterization has too many items to render on hover (21).",
          "Parameterization has too many items to render on hover (21).",
          "Parameterization has too many items to render on hover (21).",
          "Parameterization has too many items to render on hover (21).",
          "Parameterization has too many items to render on hover (21).",
          "Parameterization has too many items to render on hover (21).",
          "Parameterization has too many items to render on hover (21).",
          "Parameterization has too many items to render on hover (21).",
          "Parameterization has too many items to render on hover (21).",
          "Parameterization has too many items to render on hover (21).",
          "Parameterization has too many items to render on hover (21).",
          "Parameterization has too many items to render on hover (21).",
          "Parameterization has too many items to render on hover (21).",
          "Parameterization has too many items to render on hover (21).",
          "Parameterization has too many items to render on hover (21).",
          "Parameterization has too many items to render on hover (21).",
          "Parameterization has too many items to render on hover (21).",
          "Parameterization has too many items to render on hover (21).",
          "Parameterization has too many items to render on hover (21).",
          "Parameterization has too many items to render on hover (21).",
          "Parameterization has too many items to render on hover (21).",
          "Parameterization has too many items to render on hover (21).",
          "Parameterization has too many items to render on hover (21).",
          "Parameterization has too many items to render on hover (21).",
          "Parameterization has too many items to render on hover (21).",
          "Parameterization has too many items to render on hover (21).",
          "Parameterization has too many items to render on hover (21).",
          "Parameterization has too many items to render on hover (21).",
          "Parameterization has too many items to render on hover (21).",
          "Parameterization has too many items to render on hover (21).",
          "Parameterization has too many items to render on hover (21).",
          "Parameterization has too many items to render on hover (21).",
          "Parameterization has too many items to render on hover (21).",
          "Parameterization has too many items to render on hover (21).",
          "Parameterization has too many items to render on hover (21).",
          "Parameterization has too many items to render on hover (21).",
          "Parameterization has too many items to render on hover (21).",
          "Parameterization has too many items to render on hover (21).",
          "Parameterization has too many items to render on hover (21).",
          "Parameterization has too many items to render on hover (21).",
          "Parameterization has too many items to render on hover (21).",
          "Parameterization has too many items to render on hover (21).",
          "Parameterization has too many items to render on hover (21).",
          "Parameterization has too many items to render on hover (21).",
          "Parameterization has too many items to render on hover (21).",
          "Parameterization has too many items to render on hover (21).",
          "Parameterization has too many items to render on hover (21).",
          "Parameterization has too many items to render on hover (21).",
          "Parameterization has too many items to render on hover (21).",
          "Parameterization has too many items to render on hover (21).",
          "Parameterization has too many items to render on hover (21).",
          "Parameterization has too many items to render on hover (21).",
          "Parameterization has too many items to render on hover (21).",
          "Parameterization has too many items to render on hover (21).",
          "Parameterization has too many items to render on hover (21).",
          "Parameterization has too many items to render on hover (21).",
          "Parameterization has too many items to render on hover (21).",
          "Parameterization has too many items to render on hover (21).",
          "Parameterization has too many items to render on hover (21).",
          "Parameterization has too many items to render on hover (21).",
          "Parameterization has too many items to render on hover (21).",
          "Parameterization has too many items to render on hover (21).",
          "Parameterization has too many items to render on hover (21).",
          "Parameterization has too many items to render on hover (21).",
          "Parameterization has too many items to render on hover (21).",
          "Parameterization has too many items to render on hover (21).",
          "Parameterization has too many items to render on hover (21).",
          "Parameterization has too many items to render on hover (21).",
          "Parameterization has too many items to render on hover (21).",
          "Parameterization has too many items to render on hover (21).",
          "Parameterization has too many items to render on hover (21).",
          "Parameterization has too many items to render on hover (21).",
          "Parameterization has too many items to render on hover (21).",
          "Parameterization has too many items to render on hover (21).",
          "Parameterization has too many items to render on hover (21).",
          "Parameterization has too many items to render on hover (21).",
          "Parameterization has too many items to render on hover (21).",
          "Parameterization has too many items to render on hover (21).",
          "Parameterization has too many items to render on hover (21).",
          "Parameterization has too many items to render on hover (21).",
          "Parameterization has too many items to render on hover (21).",
          "Parameterization has too many items to render on hover (21).",
          "Parameterization has too many items to render on hover (21).",
          "Parameterization has too many items to render on hover (21).",
          "Parameterization has too many items to render on hover (21).",
          "Parameterization has too many items to render on hover (21).",
          "Parameterization has too many items to render on hover (21).",
          "Parameterization has too many items to render on hover (21).",
          "Parameterization has too many items to render on hover (21).",
          "Parameterization has too many items to render on hover (21).",
          "Parameterization has too many items to render on hover (21).",
          "Parameterization has too many items to render on hover (21).",
          "Parameterization has too many items to render on hover (21).",
          "Parameterization has too many items to render on hover (21).",
          "Parameterization has too many items to render on hover (21).",
          "Parameterization has too many items to render on hover (21).",
          "Parameterization has too many items to render on hover (21).",
          "Parameterization has too many items to render on hover (21).",
          "Parameterization has too many items to render on hover (21).",
          "Parameterization has too many items to render on hover (21).",
          "Parameterization has too many items to render on hover (21).",
          "Parameterization has too many items to render on hover (21).",
          "Parameterization has too many items to render on hover (21).",
          "Parameterization has too many items to render on hover (21).",
          "Parameterization has too many items to render on hover (21).",
          "Parameterization has too many items to render on hover (21).",
          "Parameterization has too many items to render on hover (21).",
          "Parameterization has too many items to render on hover (21).",
          "Parameterization has too many items to render on hover (21).",
          "Parameterization has too many items to render on hover (21).",
          "Parameterization has too many items to render on hover (21).",
          "Parameterization has too many items to render on hover (21).",
          "Parameterization has too many items to render on hover (21).",
          "Parameterization has too many items to render on hover (21).",
          "Parameterization has too many items to render on hover (21).",
          "Parameterization has too many items to render on hover (21).",
          "Parameterization has too many items to render on hover (21).",
          "Parameterization has too many items to render on hover (21).",
          "Parameterization has too many items to render on hover (21).",
          "Parameterization has too many items to render on hover (21).",
          "Parameterization has too many items to render on hover (21).",
          "Parameterization has too many items to render on hover (21).",
          "Parameterization has too many items to render on hover (21).",
          "Parameterization has too many items to render on hover (21).",
          "Parameterization has too many items to render on hover (21).",
          "Parameterization has too many items to render on hover (21).",
          "Parameterization has too many items to render on hover (21).",
          "Parameterization has too many items to render on hover (21).",
          "Parameterization has too many items to render on hover (21).",
          "Parameterization has too many items to render on hover (21).",
          "Parameterization has too many items to render on hover (21).",
          "Parameterization has too many items to render on hover (21).",
          "Parameterization has too many items to render on hover (21).",
          "Parameterization has too many items to render on hover (21).",
          "Parameterization has too many items to render on hover (21).",
          "Parameterization has too many items to render on hover (21).",
          "Parameterization has too many items to render on hover (21).",
          "Parameterization has too many items to render on hover (21).",
          "Parameterization has too many items to render on hover (21).",
          "Parameterization has too many items to render on hover (21).",
          "Parameterization has too many items to render on hover (21).",
          "Parameterization has too many items to render on hover (21).",
          "Parameterization has too many items to render on hover (21).",
          "Parameterization has too many items to render on hover (21).",
          "Parameterization has too many items to render on hover (21).",
          "Parameterization has too many items to render on hover (21).",
          "Parameterization has too many items to render on hover (21).",
          "Parameterization has too many items to render on hover (21).",
          "Parameterization has too many items to render on hover (21).",
          "Parameterization has too many items to render on hover (21).",
          "Parameterization has too many items to render on hover (21).",
          "Parameterization has too many items to render on hover (21).",
          "Parameterization has too many items to render on hover (21).",
          "Parameterization has too many items to render on hover (21).",
          "Parameterization has too many items to render on hover (21).",
          "Parameterization has too many items to render on hover (21).",
          "Parameterization has too many items to render on hover (21).",
          "Parameterization has too many items to render on hover (21).",
          "Parameterization has too many items to render on hover (21).",
          "Parameterization has too many items to render on hover (21).",
          "Parameterization has too many items to render on hover (21).",
          "Parameterization has too many items to render on hover (21).",
          "Parameterization has too many items to render on hover (21).",
          "Parameterization has too many items to render on hover (21).",
          "Parameterization has too many items to render on hover (21).",
          "Parameterization has too many items to render on hover (21).",
          "Parameterization has too many items to render on hover (21).",
          "Parameterization has too many items to render on hover (21).",
          "Parameterization has too many items to render on hover (21).",
          "Parameterization has too many items to render on hover (21).",
          "Parameterization has too many items to render on hover (21).",
          "Parameterization has too many items to render on hover (21).",
          "Parameterization has too many items to render on hover (21).",
          "Parameterization has too many items to render on hover (21).",
          "Parameterization has too many items to render on hover (21).",
          "Parameterization has too many items to render on hover (21).",
          "Parameterization has too many items to render on hover (21).",
          "Parameterization has too many items to render on hover (21).",
          "Parameterization has too many items to render on hover (21).",
          "Parameterization has too many items to render on hover (21).",
          "Parameterization has too many items to render on hover (21).",
          "Parameterization has too many items to render on hover (21).",
          "Parameterization has too many items to render on hover (21).",
          "Parameterization has too many items to render on hover (21).",
          "Parameterization has too many items to render on hover (21).",
          "Parameterization has too many items to render on hover (21).",
          "Parameterization has too many items to render on hover (21).",
          "Parameterization has too many items to render on hover (21).",
          "Parameterization has too many items to render on hover (21).",
          "Parameterization has too many items to render on hover (21).",
          "Parameterization has too many items to render on hover (21).",
          "Parameterization has too many items to render on hover (21).",
          "Parameterization has too many items to render on hover (21).",
          "Parameterization has too many items to render on hover (21).",
          "Parameterization has too many items to render on hover (21).",
          "Parameterization has too many items to render on hover (21).",
          "Parameterization has too many items to render on hover (21).",
          "Parameterization has too many items to render on hover (21).",
          "Parameterization has too many items to render on hover (21).",
          "Parameterization has too many items to render on hover (21).",
          "Parameterization has too many items to render on hover (21).",
          "Parameterization has too many items to render on hover (21).",
          "Parameterization has too many items to render on hover (21).",
          "Parameterization has too many items to render on hover (21).",
          "Parameterization has too many items to render on hover (21).",
          "Parameterization has too many items to render on hover (21).",
          "Parameterization has too many items to render on hover (21).",
          "Parameterization has too many items to render on hover (21).",
          "Parameterization has too many items to render on hover (21).",
          "Parameterization has too many items to render on hover (21).",
          "Parameterization has too many items to render on hover (21).",
          "Parameterization has too many items to render on hover (21).",
          "Parameterization has too many items to render on hover (21).",
          "Parameterization has too many items to render on hover (21).",
          "Parameterization has too many items to render on hover (21).",
          "Parameterization has too many items to render on hover (21).",
          "Parameterization has too many items to render on hover (21).",
          "Parameterization has too many items to render on hover (21).",
          "Parameterization has too many items to render on hover (21).",
          "Parameterization has too many items to render on hover (21).",
          "Parameterization has too many items to render on hover (21).",
          "Parameterization has too many items to render on hover (21).",
          "Parameterization has too many items to render on hover (21).",
          "Parameterization has too many items to render on hover (21).",
          "Parameterization has too many items to render on hover (21).",
          "Parameterization has too many items to render on hover (21).",
          "Parameterization has too many items to render on hover (21).",
          "Parameterization has too many items to render on hover (21).",
          "Parameterization has too many items to render on hover (21).",
          "Parameterization has too many items to render on hover (21).",
          "Parameterization has too many items to render on hover (21).",
          "Parameterization has too many items to render on hover (21).",
          "Parameterization has too many items to render on hover (21).",
          "Parameterization has too many items to render on hover (21).",
          "Parameterization has too many items to render on hover (21).",
          "Parameterization has too many items to render on hover (21).",
          "Parameterization has too many items to render on hover (21).",
          "Parameterization has too many items to render on hover (21).",
          "Parameterization has too many items to render on hover (21).",
          "Parameterization has too many items to render on hover (21).",
          "Parameterization has too many items to render on hover (21).",
          "Parameterization has too many items to render on hover (21).",
          "Parameterization has too many items to render on hover (21).",
          "Parameterization has too many items to render on hover (21).",
          "Parameterization has too many items to render on hover (21).",
          "Parameterization has too many items to render on hover (21).",
          "Parameterization has too many items to render on hover (21).",
          "Parameterization has too many items to render on hover (21).",
          "Parameterization has too many items to render on hover (21).",
          "Parameterization has too many items to render on hover (21).",
          "Parameterization has too many items to render on hover (21).",
          "Parameterization has too many items to render on hover (21).",
          "Parameterization has too many items to render on hover (21).",
          "Parameterization has too many items to render on hover (21).",
          "Parameterization has too many items to render on hover (21).",
          "Parameterization has too many items to render on hover (21).",
          "Parameterization has too many items to render on hover (21).",
          "Parameterization has too many items to render on hover (21).",
          "Parameterization has too many items to render on hover (21).",
          "Parameterization has too many items to render on hover (21).",
          "Parameterization has too many items to render on hover (21).",
          "Parameterization has too many items to render on hover (21).",
          "Parameterization has too many items to render on hover (21).",
          "Parameterization has too many items to render on hover (21).",
          "Parameterization has too many items to render on hover (21).",
          "Parameterization has too many items to render on hover (21).",
          "Parameterization has too many items to render on hover (21).",
          "Parameterization has too many items to render on hover (21).",
          "Parameterization has too many items to render on hover (21).",
          "Parameterization has too many items to render on hover (21).",
          "Parameterization has too many items to render on hover (21).",
          "Parameterization has too many items to render on hover (21).",
          "Parameterization has too many items to render on hover (21).",
          "Parameterization has too many items to render on hover (21).",
          "Parameterization has too many items to render on hover (21).",
          "Parameterization has too many items to render on hover (21).",
          "Parameterization has too many items to render on hover (21).",
          "Parameterization has too many items to render on hover (21).",
          "Parameterization has too many items to render on hover (21).",
          "Parameterization has too many items to render on hover (21).",
          "Parameterization has too many items to render on hover (21).",
          "Parameterization has too many items to render on hover (21).",
          "Parameterization has too many items to render on hover (21).",
          "Parameterization has too many items to render on hover (21).",
          "Parameterization has too many items to render on hover (21).",
          "Parameterization has too many items to render on hover (21).",
          "Parameterization has too many items to render on hover (21).",
          "Parameterization has too many items to render on hover (21).",
          "Parameterization has too many items to render on hover (21).",
          "Parameterization has too many items to render on hover (21).",
          "Parameterization has too many items to render on hover (21).",
          "Parameterization has too many items to render on hover (21).",
          "Parameterization has too many items to render on hover (21).",
          "Parameterization has too many items to render on hover (21).",
          "Parameterization has too many items to render on hover (21).",
          "Parameterization has too many items to render on hover (21).",
          "Parameterization has too many items to render on hover (21).",
          "Parameterization has too many items to render on hover (21).",
          "Parameterization has too many items to render on hover (21).",
          "Parameterization has too many items to render on hover (21).",
          "Parameterization has too many items to render on hover (21).",
          "Parameterization has too many items to render on hover (21).",
          "Parameterization has too many items to render on hover (21).",
          "Parameterization has too many items to render on hover (21).",
          "Parameterization has too many items to render on hover (21).",
          "Parameterization has too many items to render on hover (21).",
          "Parameterization has too many items to render on hover (21).",
          "Parameterization has too many items to render on hover (21).",
          "Parameterization has too many items to render on hover (21).",
          "Parameterization has too many items to render on hover (21).",
          "Parameterization has too many items to render on hover (21).",
          "Parameterization has too many items to render on hover (21).",
          "Parameterization has too many items to render on hover (21).",
          "Parameterization has too many items to render on hover (21).",
          "Parameterization has too many items to render on hover (21).",
          "Parameterization has too many items to render on hover (21).",
          "Parameterization has too many items to render on hover (21).",
          "Parameterization has too many items to render on hover (21).",
          "Parameterization has too many items to render on hover (21).",
          "Parameterization has too many items to render on hover (21).",
          "Parameterization has too many items to render on hover (21).",
          "Parameterization has too many items to render on hover (21).",
          "Parameterization has too many items to render on hover (21).",
          "Parameterization has too many items to render on hover (21).",
          "Parameterization has too many items to render on hover (21).",
          "Parameterization has too many items to render on hover (21).",
          "Parameterization has too many items to render on hover (21).",
          "Parameterization has too many items to render on hover (21).",
          "Parameterization has too many items to render on hover (21).",
          "Parameterization has too many items to render on hover (21).",
          "Parameterization has too many items to render on hover (21).",
          "Parameterization has too many items to render on hover (21).",
          "Parameterization has too many items to render on hover (21).",
          "Parameterization has too many items to render on hover (21).",
          "Parameterization has too many items to render on hover (21).",
          "Parameterization has too many items to render on hover (21).",
          "Parameterization has too many items to render on hover (21).",
          "Parameterization has too many items to render on hover (21).",
          "Parameterization has too many items to render on hover (21).",
          "Parameterization has too many items to render on hover (21).",
          "Parameterization has too many items to render on hover (21).",
          "Parameterization has too many items to render on hover (21).",
          "Parameterization has too many items to render on hover (21).",
          "Parameterization has too many items to render on hover (21).",
          "Parameterization has too many items to render on hover (21).",
          "Parameterization has too many items to render on hover (21).",
          "Parameterization has too many items to render on hover (21).",
          "Parameterization has too many items to render on hover (21).",
          "Parameterization has too many items to render on hover (21).",
          "Parameterization has too many items to render on hover (21).",
          "Parameterization has too many items to render on hover (21).",
          "Parameterization has too many items to render on hover (21).",
          "Parameterization has too many items to render on hover (21).",
          "Parameterization has too many items to render on hover (21).",
          "Parameterization has too many items to render on hover (21).",
          "Parameterization has too many items to render on hover (21).",
          "Parameterization has too many items to render on hover (21).",
          "Parameterization has too many items to render on hover (21).",
          "Parameterization has too many items to render on hover (21).",
          "Parameterization has too many items to render on hover (21).",
          "Parameterization has too many items to render on hover (21).",
          "Parameterization has too many items to render on hover (21).",
          "Parameterization has too many items to render on hover (21).",
          "Parameterization has too many items to render on hover (21).",
          "Parameterization has too many items to render on hover (21).",
          "Parameterization has too many items to render on hover (21).",
          "Parameterization has too many items to render on hover (21).",
          "Parameterization has too many items to render on hover (21).",
          "Parameterization has too many items to render on hover (21).",
          "Parameterization has too many items to render on hover (21).",
          "Parameterization has too many items to render on hover (21).",
          "Parameterization has too many items to render on hover (21).",
          "Parameterization has too many items to render on hover (21).",
          "Parameterization has too many items to render on hover (21).",
          "Parameterization has too many items to render on hover (21).",
          "Parameterization has too many items to render on hover (21).",
          "Parameterization has too many items to render on hover (21).",
          "Parameterization has too many items to render on hover (21).",
          "Parameterization has too many items to render on hover (21).",
          "Parameterization has too many items to render on hover (21).",
          "Parameterization has too many items to render on hover (21).",
          "Parameterization has too many items to render on hover (21).",
          "Parameterization has too many items to render on hover (21).",
          "Parameterization has too many items to render on hover (21).",
          "Parameterization has too many items to render on hover (21).",
          "Parameterization has too many items to render on hover (21).",
          "Parameterization has too many items to render on hover (21).",
          "Parameterization has too many items to render on hover (21).",
          "Parameterization has too many items to render on hover (21).",
          "Parameterization has too many items to render on hover (21).",
          "Parameterization has too many items to render on hover (21).",
          "Parameterization has too many items to render on hover (21).",
          "Parameterization has too many items to render on hover (21).",
          "Parameterization has too many items to render on hover (21).",
          "Parameterization has too many items to render on hover (21).",
          "Parameterization has too many items to render on hover (21).",
          "Parameterization has too many items to render on hover (21).",
          "Parameterization has too many items to render on hover (21).",
          "Parameterization has too many items to render on hover (21).",
          "Parameterization has too many items to render on hover (21).",
          "Parameterization has too many items to render on hover (21).",
          "Parameterization has too many items to render on hover (21).",
          "Parameterization has too many items to render on hover (21).",
          "Parameterization has too many items to render on hover (21).",
          "Parameterization has too many items to render on hover (21).",
          "Parameterization has too many items to render on hover (21).",
          "Parameterization has too many items to render on hover (21).",
          "Parameterization has too many items to render on hover (21).",
          "Parameterization has too many items to render on hover (21).",
          "Parameterization has too many items to render on hover (21).",
          "Parameterization has too many items to render on hover (21).",
          "Parameterization has too many items to render on hover (21).",
          "Parameterization has too many items to render on hover (21).",
          "Parameterization has too many items to render on hover (21).",
          "Parameterization has too many items to render on hover (21).",
          "Parameterization has too many items to render on hover (21).",
          "Parameterization has too many items to render on hover (21).",
          "Parameterization has too many items to render on hover (21).",
          "Parameterization has too many items to render on hover (21).",
          "Parameterization has too many items to render on hover (21).",
          "Parameterization has too many items to render on hover (21).",
          "Parameterization has too many items to render on hover (21).",
          "Parameterization has too many items to render on hover (21).",
          "Parameterization has too many items to render on hover (21).",
          "Parameterization has too many items to render on hover (21).",
          "Parameterization has too many items to render on hover (21).",
          "Parameterization has too many items to render on hover (21).",
          "Parameterization has too many items to render on hover (21).",
          "Parameterization has too many items to render on hover (21).",
          "Parameterization has too many items to render on hover (21).",
          "Parameterization has too many items to render on hover (21).",
          "Parameterization has too many items to render on hover (21).",
          "Parameterization has too many items to render on hover (21).",
          "Parameterization has too many items to render on hover (21).",
          "Parameterization has too many items to render on hover (21).",
          "Parameterization has too many items to render on hover (21).",
          "Parameterization has too many items to render on hover (21).",
          "Parameterization has too many items to render on hover (21).",
          "Parameterization has too many items to render on hover (21).",
          "Parameterization has too many items to render on hover (21).",
          "Parameterization has too many items to render on hover (21).",
          "Parameterization has too many items to render on hover (21).",
          "Parameterization has too many items to render on hover (21).",
          "Parameterization has too many items to render on hover (21).",
          "Parameterization has too many items to render on hover (21).",
          "Parameterization has too many items to render on hover (21).",
          "Parameterization has too many items to render on hover (21).",
          "Parameterization has too many items to render on hover (21).",
          "Parameterization has too many items to render on hover (21).",
          "Parameterization has too many items to render on hover (21).",
          "Parameterization has too many items to render on hover (21).",
          "Parameterization has too many items to render on hover (21).",
          "Parameterization has too many items to render on hover (21).",
          "Parameterization has too many items to render on hover (21).",
          "Parameterization has too many items to render on hover (21).",
          "Parameterization has too many items to render on hover (21).",
          "Parameterization has too many items to render on hover (21).",
          "Parameterization has too many items to render on hover (21).",
          "Parameterization has too many items to render on hover (21).",
          "Parameterization has too many items to render on hover (21).",
          "Parameterization has too many items to render on hover (21).",
          "Parameterization has too many items to render on hover (21).",
          "Parameterization has too many items to render on hover (21).",
          "Parameterization has too many items to render on hover (21).",
          "Parameterization has too many items to render on hover (21).",
          "Parameterization has too many items to render on hover (21).",
          "Parameterization has too many items to render on hover (21).",
          "Parameterization has too many items to render on hover (21).",
          "Parameterization has too many items to render on hover (21).",
          "Parameterization has too many items to render on hover (21).",
          "Parameterization has too many items to render on hover (21).",
          "Parameterization has too many items to render on hover (21).",
          "Parameterization has too many items to render on hover (21).",
          "Parameterization has too many items to render on hover (21).",
          "Parameterization has too many items to render on hover (21)."
         ],
         "type": "scatter",
         "x": {
          "bdata": "AQAAAAIAAAADAAAABAAAAAUAAAAGAAAABwAAAAgAAAAJAAAACgAAAAsAAAAMAAAADQAAAA4AAAAPAAAAEAAAABEAAAASAAAAEwAAABQAAAAVAAAAFgAAABcAAAAYAAAAGQAAABoAAAAbAAAAHAAAAB0AAAAeAAAAHwAAACAAAAAhAAAAIgAAACMAAAAkAAAAJQAAACYAAAAnAAAAKAAAACkAAAAqAAAAKwAAACwAAAAtAAAALgAAAC8AAAAwAAAAMQAAADIAAAAzAAAANAAAADUAAAA2AAAANwAAADgAAAA5AAAAOgAAADsAAAA8AAAAPQAAAD4AAAA/AAAAQAAAAEEAAABCAAAAQwAAAEQAAABFAAAARgAAAEcAAABIAAAASQAAAEoAAABLAAAATAAAAE0AAABOAAAATwAAAFAAAABRAAAAUgAAAFMAAABUAAAAVQAAAFYAAABXAAAAWAAAAFkAAABaAAAAWwAAAFwAAABdAAAAXgAAAF8AAABgAAAAYQAAAGIAAABjAAAAZAAAAGUAAABmAAAAZwAAAGgAAABpAAAAagAAAGsAAABsAAAAbQAAAG4AAABvAAAAcAAAAHEAAAByAAAAcwAAAHQAAAB1AAAAdgAAAHcAAAB4AAAAeQAAAHoAAAB7AAAAfAAAAH0AAAB+AAAAfwAAAIAAAACBAAAAggAAAIMAAACEAAAAhQAAAIYAAACHAAAAiAAAAIkAAACKAAAAiwAAAIwAAACNAAAAjgAAAI8AAACQAAAAkQAAAJIAAACTAAAAlAAAAJUAAACWAAAAlwAAAJgAAACZAAAAmgAAAJsAAACcAAAAnQAAAJ4AAACfAAAAoAAAAKEAAACiAAAAowAAAKQAAAClAAAApgAAAKcAAACoAAAAqQAAAKoAAACrAAAArAAAAK0AAACuAAAArwAAALAAAACxAAAAsgAAALMAAAC0AAAAtQAAALYAAAC3AAAAuAAAALkAAAC6AAAAuwAAALwAAAC9AAAAvgAAAL8AAADAAAAAwQAAAMIAAADDAAAAxAAAAMUAAADGAAAAxwAAAMgAAADJAAAAygAAAMsAAADMAAAAzQAAAM4AAADPAAAA0AAAANEAAADSAAAA0wAAANQAAADVAAAA1gAAANcAAADYAAAA2QAAANoAAADbAAAA3AAAAN0AAADeAAAA3wAAAOAAAADhAAAA4gAAAOMAAADkAAAA5QAAAOYAAADnAAAA6AAAAOkAAADqAAAA6wAAAOwAAADtAAAA7gAAAO8AAADwAAAA8QAAAPIAAADzAAAA9AAAAPUAAAD2AAAA9wAAAPgAAAD5AAAA+gAAAPsAAAD8AAAA/QAAAP4AAAD/AAAAAAEAAAEBAAACAQAAAwEAAAQBAAAFAQAABgEAAAcBAAAIAQAACQEAAAoBAAALAQAADAEAAA0BAAAOAQAADwEAABABAAARAQAAEgEAABMBAAAUAQAAFQEAABYBAAAXAQAAGAEAABkBAAAaAQAAGwEAABwBAAAdAQAAHgEAAB8BAAAgAQAAIQEAACIBAAAjAQAAJAEAACUBAAAmAQAAJwEAACgBAAApAQAAKgEAACsBAAAsAQAALQEAAC4BAAAvAQAAMAEAADEBAAAyAQAAMwEAADQBAAA1AQAANgEAADcBAAA4AQAAOQEAADoBAAA7AQAAPAEAAD0BAAA+AQAAPwEAAEABAABBAQAAQgEAAEMBAABEAQAARQEAAEYBAABHAQAASAEAAEkBAABKAQAASwEAAEwBAABNAQAATgEAAE8BAABQAQAAUQEAAFIBAABTAQAAVAEAAFUBAABWAQAAVwEAAFgBAABZAQAAWgEAAFsBAABcAQAAXQEAAF4BAABfAQAAYAEAAGEBAABiAQAAYwEAAGQBAABlAQAAZgEAAGcBAABoAQAAaQEAAGoBAABrAQAAbAEAAG0BAABuAQAAbwEAAHABAABxAQAAcgEAAHMBAAB0AQAAdQEAAHYBAAB3AQAAeAEAAHkBAAB6AQAAewEAAHwBAAB9AQAAfgEAAH8BAACAAQAAgQEAAIIBAACDAQAAhAEAAIUBAACGAQAAhwEAAIgBAACJAQAAigEAAIsBAACMAQAAjQEAAI4BAACPAQAAkAEAAJEBAACSAQAAkwEAAJQBAACVAQAAlgEAAJcBAACYAQAAmQEAAJoBAACbAQAAnAEAAJ0BAACeAQAAnwEAAKABAAChAQAAogEAAKMBAACkAQAApQEAAKYBAACnAQAAqAEAAKkBAACqAQAAqwEAAKwBAACtAQAArgEAAK8BAACwAQAAsQEAALIBAACzAQAAtAEAALUBAAC2AQAAtwEAALgBAAC5AQAAugEAALsBAAC8AQAAvQEAAL4BAAC/AQAAwAEAAMEBAADCAQAAwwEAAMQBAADFAQAAxgEAAMcBAADIAQAAyQEAAMoBAADLAQAAzAEAAM0BAADOAQAAzwEAANABAADRAQAA0gEAANMBAADUAQAA1QEAANYBAADXAQAA2AEAANkBAADaAQAA2wEAANwBAADdAQAA3gEAAN8BAADgAQAA4QEAAOIBAADjAQAA5AEAAOUBAADmAQAA5wEAAOgBAADpAQAA6gEAAOsBAADsAQAA7QEAAO4BAADvAQAA8AEAAPEBAADyAQAA8wEAAPQBAAD1AQAA9gEAAPcBAAD4AQAA+QEAAPoBAAD7AQAA/AEAAP0BAAD+AQAA/wEAAAACAAABAgAAAgIAAAMCAAAEAgAABQIAAAYCAAAHAgAACAIAAAkCAAAKAgAACwIAAAwCAAANAgAADgIAAA8CAAAQAgAAEQIAABICAAATAgAAFAIAABUCAAAWAgAAFwIAABgCAAAZAgAAGgIAABsCAAAcAgAAHQIAAB4CAAAfAgAAIAIAACECAAAiAgAAIwIAACQCAAAlAgAAJgIAACcCAAAoAgAAKQIAACoCAAArAgAALAIAAC0CAAAuAgAALwIAADACAAAxAgAAMgIAADMCAAA0AgAANQIAADYCAAA3AgAAOAIAADkCAAA6AgAAOwIAADwCAAA9AgAAPgIAAD8CAABAAgAAQQIAAEICAABDAgAARAIAAEUCAABGAgAARwIAAEgCAABJAgAASgIAAEsCAABMAgAATQIAAE4CAABPAgAAUAIAAFECAABSAgAAUwIAAFQCAABVAgAAVgIAAFcCAABYAgAAWQIAAFoCAABbAgAAXAIAAF0CAABeAgAAXwIAAGACAABhAgAAYgIAAGMCAABkAgAAZQIAAGYCAABnAgAAaAIAAGkCAABqAgAAawIAAGwCAABtAgAAbgIAAG8CAABwAgAAcQIAAHICAABzAgAAdAIAAHUCAAB2AgAAdwIAAHgCAAB5AgAAegIAAHsCAAB8AgAAfQIAAH4CAAB/AgAAgAIAAIECAACCAgAAgwIAAIQCAACFAgAAhgIAAIcCAACIAgAAiQIAAIoCAACLAgAAjAIAAI0CAACOAgAAjwIAAJACAACRAgAAkgIAAJMCAACUAgAAlQIAAJYCAACXAgAAmAIAAJkCAACaAgAAmwIAAJwCAACdAgAAngIAAJ8CAACgAgAAoQIAAKICAACjAgAApAIAAKUCAACmAgAApwIAAKgCAACpAgAAqgIAAKsCAACsAgAArQIAAK4CAACvAgAAsAIAALECAACyAgAAswIAALQCAAC1AgAAtgIAALcCAAC4AgAAuQIAALoCAAC7AgAAvAIAAL0CAAC+AgAAvwIAAMACAADBAgAAwgIAAMMCAADEAgAAxQIAAMYCAADHAgAAyAIAAMkCAADKAgAAywIAAMwCAADNAgAAzgIAAM8CAADQAgAA0QIAANICAADTAgAA1AIAANUCAADWAgAA1wIAANgCAADZAgAA2gIAANsCAADcAgAA3QIAAN4CAADfAgAA4AIAAOECAADiAgAA4wIAAOQCAADlAgAA5gIAAOcCAADoAgAA6QIAAOoCAADrAgAA7AIAAO0CAADuAgAA7wIAAPACAADxAgAA8gIAAPMCAAD0AgAA9QIAAPYCAAD3AgAA+AIAAPkCAAD6AgAA+wIAAPwCAAD9AgAA/gIAAP8CAAAAAwAAAQMAAAIDAAADAwAABAMAAAUDAAAGAwAABwMAAAgDAAAJAwAACgMAAAsDAAAMAwAADQMAAA4DAAAPAwAAEAMAABEDAAASAwAAEwMAABQDAAAVAwAAFgMAABcDAAAYAwAAGQMAABoDAAAbAwAAHAMAAB0DAAAeAwAAHwMAACADAAAhAwAAIgMAACMDAAAkAwAAJQMAACYDAAAnAwAAKAMAACkDAAAqAwAAKwMAACwDAAAtAwAALgMAAC8DAAAwAwAAMQMAADIDAAAzAwAANAMAADUDAAA2AwAANwMAADgDAAA5AwAAOgMAADsDAAA8AwAAPQMAAD4DAAA/AwAAQAMAAEEDAABCAwAAQwMAAEQDAABFAwAARgMAAEcDAABIAwAASQMAAEoDAABLAwAATAMAAE0DAABOAwAATwMAAFADAABRAwAAUgMAAFMDAABUAwAAVQMAAFYDAABXAwAAWAMAAFkDAABaAwAAWwMAAFwDAABdAwAAXgMAAF8DAABgAwAAYQMAAGIDAABjAwAAZAMAAGUDAABmAwAAZwMAAGgDAABpAwAAagMAAGsDAABsAwAAbQMAAG4DAABvAwAAcAMAAHEDAAByAwAAcwMAAHQDAAB1AwAAdgMAAHcDAAB4AwAAeQMAAHoDAAB7AwAAfAMAAH0DAAB+AwAAfwMAAIADAACBAwAAggMAAIMDAACEAwAAhQMAAIYDAACHAwAAiAMAAIkDAACKAwAAiwMAAIwDAACNAwAAjgMAAI8DAACQAwAAkQMAAJIDAACTAwAAlAMAAJUDAACWAwAAlwMAAJgDAACZAwAAmgMAAJsDAACcAwAAnQMAAJ4DAACfAwAAoAMAAKEDAACiAwAAowMAAKQDAAClAwAApgMAAKcDAACoAwAAqQMAAKoDAACrAwAArAMAAK0DAACuAwAArwMAALADAACxAwAAsgMAALMDAAC0AwAAtQMAALYDAAC3AwAAuAMAALkDAAC6AwAAuwMAALwDAAC9AwAAvgMAAL8DAADAAwAAwQMAAMIDAADDAwAAxAMAAMUDAADGAwAAxwMAAMgDAADJAwAAygMAAMsDAADMAwAAzQMAAM4DAADPAwAA0AMAANEDAADSAwAA0wMAANQDAADVAwAA1gMAANcDAADYAwAA2QMAANoDAADbAwAA3AMAAN0DAADeAwAA3wMAAOADAADhAwAA4gMAAOMDAADkAwAA5QMAAOYDAADnAwAA6AMAAOkDAADqAwAA6wMAAOwDAADtAwAA7gMAAO8DAADwAwAA8QMAAPIDAADzAwAA9AMAAPUDAAD2AwAA9wMAAPgDAAD5AwAA+gMAAPsDAAD8AwAA/QMAAP4DAAD/AwAAAAQAAAEEAAACBAAAAwQAAAQEAAAFBAAABgQAAAcEAAAIBAAACQQAAAoEAAALBAAADAQAAA0EAAAOBAAADwQAABAEAAARBAAAEgQAABMEAAAUBAAAFQQAABYEAAAXBAAAGAQAABkEAAAaBAAAGwQAABwEAAAdBAAAHgQAAB8EAAAgBAAAIQQAACIEAAAjBAAAJAQAACUEAAAmBAAAJwQAACgEAAApBAAAKgQAACsEAAAsBAAALQQAAC4EAAAvBAAAMAQAADEEAAAyBAAAMwQAADQEAAA1BAAANgQAADcEAAA4BAAAOQQAADoEAAA7BAAAPAQAAD0EAAA+BAAAPwQAAEAEAABBBAAAQgQAAEMEAABEBAAARQQAAEYEAABHBAAASAQAAEkEAABKBAAASwQAAEwEAABNBAAATgQAAE8EAABQBAAAUQQAAFIEAABTBAAAVAQAAFUEAABWBAAAVwQAAFgEAABZBAAAWgQAAFsEAABcBAAAXQQAAF4EAABfBAAAYAQAAGEEAABiBAAAYwQAAGQEAABlBAAAZgQAAGcEAABoBAAAaQQAAGoEAABrBAAAbAQAAG0EAABuBAAAbwQAAHAEAABxBAAAcgQAAHMEAAB0BAAAdQQAAHYEAAB3BAAAeAQAAHkEAAB6BAAAewQAAHwEAAB9BAAAfgQAAH8EAACABAAAgQQAAIIEAACDBAAAhAQAAIUEAACGBAAAhwQAAIgEAACJBAAAigQAAIsEAACMBAAAjQQAAI4EAACPBAAAkAQAAJEEAACSBAAAkwQAAJQEAACVBAAAlgQAAJcEAACYBAAAmQQAAJoEAACbBAAAnAQAAJ0EAACeBAAAnwQAAKAEAAChBAAAogQAAKMEAACkBAAApQQAAKYEAACnBAAAqAQAAKkEAACqBAAAqwQAAKwEAACtBAAArgQAAK8EAACwBAAAsQQAALIEAACzBAAAtAQAALUEAAC2BAAAtwQAALgEAAC5BAAAugQAALsEAAC8BAAAvQQAAL4EAAC/BAAAwAQAAMEEAADCBAAAwwQAAMQEAADFBAAAxgQAAMcEAADIBAAAyQQAAMoEAADLBAAAzAQAAM0EAADOBAAAzwQAANAEAADRBAAA0gQAANMEAADUBAAA1QQAANYEAADXBAAA2AQAANkEAADaBAAA2wQAANwEAADdBAAA3gQAAN8EAADgBAAA4QQAAOIEAADjBAAA5AQAAOUEAADmBAAA5wQAAOgEAADpBAAA6gQAAOsEAADsBAAA7QQAAO4EAADvBAAA8AQAAPEEAADyBAAA8wQAAPQEAAD1BAAA9gQAAPcEAAD4BAAA+QQAAPoEAAD7BAAA/AQAAP0EAAD+BAAA/wQAAAAFAAABBQAAAgUAAAMFAAAEBQAABQUAAAYFAAAHBQAACAUAAAkFAAAKBQAACwUAAAwFAAANBQAADgUAAA8FAAAQBQAAEQUAABIFAAATBQAAFAUAABUFAAAWBQAAFwUAABgFAAAZBQAAGgUAABsFAAAcBQAAHQUAAB4FAAAfBQAAIAUAACEFAAAiBQAAIwUAACQFAAAlBQAAJgUAACcFAAAoBQAAKQUAACoFAAArBQAALAUAAC0FAAAuBQAALwUAADAFAAAxBQAAMgUAADMFAAA=",
          "dtype": "i4"
         },
         "y": {
          "bdata": "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",
          "dtype": "f8"
         }
        },
        {
         "fill": "tonexty",
         "fillcolor": "rgba(128,177,211,0.3)",
         "hoverinfo": "none",
         "legendgroup": "",
         "line": {
          "width": 0
         },
         "mode": "lines",
         "showlegend": false,
         "type": "scatter",
         "x": {
          "bdata": "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",
          "dtype": "i4"
         },
         "y": {
          "bdata": "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",
          "dtype": "f8"
         }
        }
       ],
       "layout": {
        "showlegend": true,
        "template": {
         "data": {
          "bar": [
           {
            "error_x": {
             "color": "#2a3f5f"
            },
            "error_y": {
             "color": "#2a3f5f"
            },
            "marker": {
             "line": {
              "color": "#E5ECF6",
              "width": 0.5
             },
             "pattern": {
              "fillmode": "overlay",
              "size": 10,
              "solidity": 0.2
             }
            },
            "type": "bar"
           }
          ],
          "barpolar": [
           {
            "marker": {
             "line": {
              "color": "#E5ECF6",
              "width": 0.5
             },
             "pattern": {
              "fillmode": "overlay",
              "size": 10,
              "solidity": 0.2
             }
            },
            "type": "barpolar"
           }
          ],
          "carpet": [
           {
            "aaxis": {
             "endlinecolor": "#2a3f5f",
             "gridcolor": "white",
             "linecolor": "white",
             "minorgridcolor": "white",
             "startlinecolor": "#2a3f5f"
            },
            "baxis": {
             "endlinecolor": "#2a3f5f",
             "gridcolor": "white",
             "linecolor": "white",
             "minorgridcolor": "white",
             "startlinecolor": "#2a3f5f"
            },
            "type": "carpet"
           }
          ],
          "choropleth": [
           {
            "colorbar": {
             "outlinewidth": 0,
             "ticks": ""
            },
            "type": "choropleth"
           }
          ],
          "contour": [
           {
            "colorbar": {
             "outlinewidth": 0,
             "ticks": ""
            },
            "colorscale": [
             [
              0,
              "#0d0887"
             ],
             [
              0.1111111111111111,
              "#46039f"
             ],
             [
              0.2222222222222222,
              "#7201a8"
             ],
             [
              0.3333333333333333,
              "#9c179e"
             ],
             [
              0.4444444444444444,
              "#bd3786"
             ],
             [
              0.5555555555555556,
              "#d8576b"
             ],
             [
              0.6666666666666666,
              "#ed7953"
             ],
             [
              0.7777777777777778,
              "#fb9f3a"
             ],
             [
              0.8888888888888888,
              "#fdca26"
             ],
             [
              1,
              "#f0f921"
             ]
            ],
            "type": "contour"
           }
          ],
          "contourcarpet": [
           {
            "colorbar": {
             "outlinewidth": 0,
             "ticks": ""
            },
            "type": "contourcarpet"
           }
          ],
          "heatmap": [
           {
            "colorbar": {
             "outlinewidth": 0,
             "ticks": ""
            },
            "colorscale": [
             [
              0,
              "#0d0887"
             ],
             [
              0.1111111111111111,
              "#46039f"
             ],
             [
              0.2222222222222222,
              "#7201a8"
             ],
             [
              0.3333333333333333,
              "#9c179e"
             ],
             [
              0.4444444444444444,
              "#bd3786"
             ],
             [
              0.5555555555555556,
              "#d8576b"
             ],
             [
              0.6666666666666666,
              "#ed7953"
             ],
             [
              0.7777777777777778,
              "#fb9f3a"
             ],
             [
              0.8888888888888888,
              "#fdca26"
             ],
             [
              1,
              "#f0f921"
             ]
            ],
            "type": "heatmap"
           }
          ],
          "histogram": [
           {
            "marker": {
             "pattern": {
              "fillmode": "overlay",
              "size": 10,
              "solidity": 0.2
             }
            },
            "type": "histogram"
           }
          ],
          "histogram2d": [
           {
            "colorbar": {
             "outlinewidth": 0,
             "ticks": ""
            },
            "colorscale": [
             [
              0,
              "#0d0887"
             ],
             [
              0.1111111111111111,
              "#46039f"
             ],
             [
              0.2222222222222222,
              "#7201a8"
             ],
             [
              0.3333333333333333,
              "#9c179e"
             ],
             [
              0.4444444444444444,
              "#bd3786"
             ],
             [
              0.5555555555555556,
              "#d8576b"
             ],
             [
              0.6666666666666666,
              "#ed7953"
             ],
             [
              0.7777777777777778,
              "#fb9f3a"
             ],
             [
              0.8888888888888888,
              "#fdca26"
             ],
             [
              1,
              "#f0f921"
             ]
            ],
            "type": "histogram2d"
           }
          ],
          "histogram2dcontour": [
           {
            "colorbar": {
             "outlinewidth": 0,
             "ticks": ""
            },
            "colorscale": [
             [
              0,
              "#0d0887"
             ],
             [
              0.1111111111111111,
              "#46039f"
             ],
             [
              0.2222222222222222,
              "#7201a8"
             ],
             [
              0.3333333333333333,
              "#9c179e"
             ],
             [
              0.4444444444444444,
              "#bd3786"
             ],
             [
              0.5555555555555556,
              "#d8576b"
             ],
             [
              0.6666666666666666,
              "#ed7953"
             ],
             [
              0.7777777777777778,
              "#fb9f3a"
             ],
             [
              0.8888888888888888,
              "#fdca26"
             ],
             [
              1,
              "#f0f921"
             ]
            ],
            "type": "histogram2dcontour"
           }
          ],
          "mesh3d": [
           {
            "colorbar": {
             "outlinewidth": 0,
             "ticks": ""
            },
            "type": "mesh3d"
           }
          ],
          "parcoords": [
           {
            "line": {
             "colorbar": {
              "outlinewidth": 0,
              "ticks": ""
             }
            },
            "type": "parcoords"
           }
          ],
          "pie": [
           {
            "automargin": true,
            "type": "pie"
           }
          ],
          "scatter": [
           {
            "fillpattern": {
             "fillmode": "overlay",
             "size": 10,
             "solidity": 0.2
            },
            "type": "scatter"
           }
          ],
          "scatter3d": [
           {
            "line": {
             "colorbar": {
              "outlinewidth": 0,
              "ticks": ""
             }
            },
            "marker": {
             "colorbar": {
              "outlinewidth": 0,
              "ticks": ""
             }
            },
            "type": "scatter3d"
           }
          ],
          "scattercarpet": [
           {
            "marker": {
             "colorbar": {
              "outlinewidth": 0,
              "ticks": ""
             }
            },
            "type": "scattercarpet"
           }
          ],
          "scattergeo": [
           {
            "marker": {
             "colorbar": {
              "outlinewidth": 0,
              "ticks": ""
             }
            },
            "type": "scattergeo"
           }
          ],
          "scattergl": [
           {
            "marker": {
             "colorbar": {
              "outlinewidth": 0,
              "ticks": ""
             }
            },
            "type": "scattergl"
           }
          ],
          "scattermap": [
           {
            "marker": {
             "colorbar": {
              "outlinewidth": 0,
              "ticks": ""
             }
            },
            "type": "scattermap"
           }
          ],
          "scattermapbox": [
           {
            "marker": {
             "colorbar": {
              "outlinewidth": 0,
              "ticks": ""
             }
            },
            "type": "scattermapbox"
           }
          ],
          "scatterpolar": [
           {
            "marker": {
             "colorbar": {
              "outlinewidth": 0,
              "ticks": ""
             }
            },
            "type": "scatterpolar"
           }
          ],
          "scatterpolargl": [
           {
            "marker": {
             "colorbar": {
              "outlinewidth": 0,
              "ticks": ""
             }
            },
            "type": "scatterpolargl"
           }
          ],
          "scatterternary": [
           {
            "marker": {
             "colorbar": {
              "outlinewidth": 0,
              "ticks": ""
             }
            },
            "type": "scatterternary"
           }
          ],
          "surface": [
           {
            "colorbar": {
             "outlinewidth": 0,
             "ticks": ""
            },
            "colorscale": [
             [
              0,
              "#0d0887"
             ],
             [
              0.1111111111111111,
              "#46039f"
             ],
             [
              0.2222222222222222,
              "#7201a8"
             ],
             [
              0.3333333333333333,
              "#9c179e"
             ],
             [
              0.4444444444444444,
              "#bd3786"
             ],
             [
              0.5555555555555556,
              "#d8576b"
             ],
             [
              0.6666666666666666,
              "#ed7953"
             ],
             [
              0.7777777777777778,
              "#fb9f3a"
             ],
             [
              0.8888888888888888,
              "#fdca26"
             ],
             [
              1,
              "#f0f921"
             ]
            ],
            "type": "surface"
           }
          ],
          "table": [
           {
            "cells": {
             "fill": {
              "color": "#EBF0F8"
             },
             "line": {
              "color": "white"
             }
            },
            "header": {
             "fill": {
              "color": "#C8D4E3"
             },
             "line": {
              "color": "white"
             }
            },
            "type": "table"
           }
          ]
         },
         "layout": {
          "annotationdefaults": {
           "arrowcolor": "#2a3f5f",
           "arrowhead": 0,
           "arrowwidth": 1
          },
          "autotypenumbers": "strict",
          "coloraxis": {
           "colorbar": {
            "outlinewidth": 0,
            "ticks": ""
           }
          },
          "colorscale": {
           "diverging": [
            [
             0,
             "#8e0152"
            ],
            [
             0.1,
             "#c51b7d"
            ],
            [
             0.2,
             "#de77ae"
            ],
            [
             0.3,
             "#f1b6da"
            ],
            [
             0.4,
             "#fde0ef"
            ],
            [
             0.5,
             "#f7f7f7"
            ],
            [
             0.6,
             "#e6f5d0"
            ],
            [
             0.7,
             "#b8e186"
            ],
            [
             0.8,
             "#7fbc41"
            ],
            [
             0.9,
             "#4d9221"
            ],
            [
             1,
             "#276419"
            ]
           ],
           "sequential": [
            [
             0,
             "#0d0887"
            ],
            [
             0.1111111111111111,
             "#46039f"
            ],
            [
             0.2222222222222222,
             "#7201a8"
            ],
            [
             0.3333333333333333,
             "#9c179e"
            ],
            [
             0.4444444444444444,
             "#bd3786"
            ],
            [
             0.5555555555555556,
             "#d8576b"
            ],
            [
             0.6666666666666666,
             "#ed7953"
            ],
            [
             0.7777777777777778,
             "#fb9f3a"
            ],
            [
             0.8888888888888888,
             "#fdca26"
            ],
            [
             1,
             "#f0f921"
            ]
           ],
           "sequentialminus": [
            [
             0,
             "#0d0887"
            ],
            [
             0.1111111111111111,
             "#46039f"
            ],
            [
             0.2222222222222222,
             "#7201a8"
            ],
            [
             0.3333333333333333,
             "#9c179e"
            ],
            [
             0.4444444444444444,
             "#bd3786"
            ],
            [
             0.5555555555555556,
             "#d8576b"
            ],
            [
             0.6666666666666666,
             "#ed7953"
            ],
            [
             0.7777777777777778,
             "#fb9f3a"
            ],
            [
             0.8888888888888888,
             "#fdca26"
            ],
            [
             1,
             "#f0f921"
            ]
           ]
          },
          "colorway": [
           "#636efa",
           "#EF553B",
           "#00cc96",
           "#ab63fa",
           "#FFA15A",
           "#19d3f3",
           "#FF6692",
           "#B6E880",
           "#FF97FF",
           "#FECB52"
          ],
          "font": {
           "color": "#2a3f5f"
          },
          "geo": {
           "bgcolor": "white",
           "lakecolor": "white",
           "landcolor": "#E5ECF6",
           "showlakes": true,
           "showland": true,
           "subunitcolor": "white"
          },
          "hoverlabel": {
           "align": "left"
          },
          "hovermode": "closest",
          "mapbox": {
           "style": "light"
          },
          "paper_bgcolor": "white",
          "plot_bgcolor": "#E5ECF6",
          "polar": {
           "angularaxis": {
            "gridcolor": "white",
            "linecolor": "white",
            "ticks": ""
           },
           "bgcolor": "#E5ECF6",
           "radialaxis": {
            "gridcolor": "white",
            "linecolor": "white",
            "ticks": ""
           }
          },
          "scene": {
           "xaxis": {
            "backgroundcolor": "#E5ECF6",
            "gridcolor": "white",
            "gridwidth": 2,
            "linecolor": "white",
            "showbackground": true,
            "ticks": "",
            "zerolinecolor": "white"
           },
           "yaxis": {
            "backgroundcolor": "#E5ECF6",
            "gridcolor": "white",
            "gridwidth": 2,
            "linecolor": "white",
            "showbackground": true,
            "ticks": "",
            "zerolinecolor": "white"
           },
           "zaxis": {
            "backgroundcolor": "#E5ECF6",
            "gridcolor": "white",
            "gridwidth": 2,
            "linecolor": "white",
            "showbackground": true,
            "ticks": "",
            "zerolinecolor": "white"
           }
          },
          "shapedefaults": {
           "line": {
            "color": "#2a3f5f"
           }
          },
          "ternary": {
           "aaxis": {
            "gridcolor": "white",
            "linecolor": "white",
            "ticks": ""
           },
           "baxis": {
            "gridcolor": "white",
            "linecolor": "white",
            "ticks": ""
           },
           "bgcolor": "#E5ECF6",
           "caxis": {
            "gridcolor": "white",
            "linecolor": "white",
            "ticks": ""
           }
          },
          "title": {
           "x": 0.05
          },
          "xaxis": {
           "automargin": true,
           "gridcolor": "white",
           "linecolor": "white",
           "ticks": "",
           "title": {
            "standoff": 15
           },
           "zerolinecolor": "white",
           "zerolinewidth": 2
          },
          "yaxis": {
           "automargin": true,
           "gridcolor": "white",
           "linecolor": "white",
           "ticks": "",
           "title": {
            "standoff": 15
           },
           "zerolinecolor": "white",
           "zerolinewidth": 2
          }
         }
        },
        "title": {
         "text": "Best objective found vs. # of iterations"
        },
        "xaxis": {
         "title": {
          "text": "Iteration"
         }
        },
        "yaxis": {
         "title": {
          "text": "Viable_cross_terms"
         }
        }
       }
      }
     },
     "metadata": {},
     "output_type": "display_data"
    }
   ],
   "source": [
    "render(Tag_client.get_optimization_trace())"
   ]
  },
  {
   "cell_type": "code",
   "execution_count": 245,
   "metadata": {},
   "outputs": [
    {
     "name": "stderr",
     "output_type": "stream",
     "text": [
      "[INFO 04-06 15:01:01] ax.modelbridge.base: Leaving out out-of-design observations for arms: 940_0, 939_0\n",
      "[INFO 04-06 15:04:56] ax.service.ax_client: Generated new trial 1124 with parameters {'z_sh': 7, 'z_sh_1': 7, 'z_sh_2': 5, 'z_p2': 29, 'z_p2_1': 32, 'z_p2_2': 31, 'z_r2': 80, 'z_r2_1': 77, 'z_r2_2': 75, 'x_s': 0.5, 'x_s_1': 0.4, 'x_s_2': 0.3, 'x_p1': 0.733303, 'x_p1_1': 0.633303, 'x_p1_2': 0.533303, 'x_p2': 0.5, 'x_p2_1': 0.4, 'x_p2_2': 0.135945, 'x_r2': 1.08299, 'x_r2_1': 0.98299, 'x_r2_2': 0.88299} using model BoTorch.\n",
      "[INFO 04-06 15:04:56] ax.service.ax_client: Completed trial 1124 with data: {'Viable_Cross_Terms': (72, None)}.\n",
      "[INFO 04-06 15:04:57] ax.modelbridge.base: Leaving out out-of-design observations for arms: 940_0, 939_0\n",
      "[INFO 04-06 15:10:33] ax.service.ax_client: Generated new trial 1125 with parameters {'z_sh': 15, 'z_sh_1': 8, 'z_sh_2': 5, 'z_p2': 31, 'z_p2_1': 30, 'z_p2_2': 33, 'z_r2': 78, 'z_r2_1': 84, 'z_r2_2': 83, 'x_s': 0.5, 'x_s_1': 0.4, 'x_s_2': 0.3, 'x_p1': 0.622088, 'x_p1_1': 0.522088, 'x_p1_2': 0.422088, 'x_p2': 0.5, 'x_p2_1': 0.4, 'x_p2_2': 0.3, 'x_r2': -0.044817, 'x_r2_1': -0.144817, 'x_r2_2': -0.244817} using model BoTorch.\n",
      "[INFO 04-06 15:10:33] ax.service.ax_client: Completed trial 1125 with data: {'Viable_Cross_Terms': (10, None)}.\n",
      "[INFO 04-06 15:10:34] ax.modelbridge.base: Leaving out out-of-design observations for arms: 940_0, 939_0\n",
      "[INFO 04-06 15:15:50] ax.service.ax_client: Generated new trial 1126 with parameters {'z_sh': 8, 'z_sh_1': 6, 'z_sh_2': 5, 'z_p2': 30, 'z_p2_1': 26, 'z_p2_2': 29, 'z_r2': 75, 'z_r2_1': 74, 'z_r2_2': 78, 'x_s': 0.5, 'x_s_1': 0.4, 'x_s_2': 0.3, 'x_p1': 1.0, 'x_p1_1': 0.9, 'x_p1_2': 0.8, 'x_p2': 0.5, 'x_p2_1': -0.4, 'x_p2_2': -0.5, 'x_r2': 0.872628, 'x_r2_1': 0.772628, 'x_r2_2': 0.672628} using model BoTorch.\n",
      "[INFO 04-06 15:15:50] ax.service.ax_client: Completed trial 1126 with data: {'Viable_Cross_Terms': (0, None)}.\n",
      "[INFO 04-06 15:15:51] ax.modelbridge.base: Leaving out out-of-design observations for arms: 940_0, 939_0\n",
      "[INFO 04-06 15:20:58] ax.service.ax_client: Generated new trial 1127 with parameters {'z_sh': 7, 'z_sh_1': 13, 'z_sh_2': 5, 'z_p2': 31, 'z_p2_1': 33, 'z_p2_2': 29, 'z_r2': 72, 'z_r2_1': 77, 'z_r2_2': 82, 'x_s': -0.3, 'x_s_1': -0.4, 'x_s_2': -0.5, 'x_p1': -0.8, 'x_p1_1': -0.9, 'x_p1_2': -1.0, 'x_p2': -0.3, 'x_p2_1': -0.4, 'x_p2_2': -0.5, 'x_r2': -1.3, 'x_r2_1': -1.4, 'x_r2_2': -1.5} using model BoTorch.\n",
      "[INFO 04-06 15:20:58] ax.service.ax_client: Completed trial 1127 with data: {'Viable_Cross_Terms': (0, None)}.\n",
      "[INFO 04-06 15:20:59] ax.modelbridge.base: Leaving out out-of-design observations for arms: 940_0, 939_0\n",
      "[INFO 04-06 15:26:06] ax.service.ax_client: Generated new trial 1128 with parameters {'z_sh': 7, 'z_sh_1': 6, 'z_sh_2': 8, 'z_p2': 27, 'z_p2_1': 34, 'z_p2_2': 33, 'z_r2': 82, 'z_r2_1': 85, 'z_r2_2': 84, 'x_s': 0.5, 'x_s_1': 0.4, 'x_s_2': 0.3, 'x_p1': 1.0, 'x_p1_1': 0.9, 'x_p1_2': 0.8, 'x_p2': -0.3, 'x_p2_1': -0.4, 'x_p2_2': -0.5, 'x_r2': 0.498604, 'x_r2_1': 0.398604, 'x_r2_2': 0.298604} using model BoTorch.\n",
      "[INFO 04-06 15:26:06] ax.service.ax_client: Completed trial 1128 with data: {'Viable_Cross_Terms': (67, None)}.\n",
      "[INFO 04-06 15:26:07] ax.modelbridge.base: Leaving out out-of-design observations for arms: 940_0, 939_0\n",
      "[INFO 04-06 15:31:22] ax.service.ax_client: Generated new trial 1129 with parameters {'z_sh': 7, 'z_sh_1': 6, 'z_sh_2': 5, 'z_p2': 35, 'z_p2_1': 34, 'z_p2_2': 33, 'z_r2': 80, 'z_r2_1': 85, 'z_r2_2': 84, 'x_s': 0.5, 'x_s_1': 0.4, 'x_s_2': -0.5, 'x_p1': 1.0, 'x_p1_1': 0.9, 'x_p1_2': 0.8, 'x_p2': -0.3, 'x_p2_1': -0.4, 'x_p2_2': -0.5, 'x_r2': 0.433508, 'x_r2_1': 0.333508, 'x_r2_2': 0.233508} using model BoTorch.\n",
      "[INFO 04-06 15:31:22] ax.service.ax_client: Completed trial 1129 with data: {'Viable_Cross_Terms': (43, None)}.\n",
      "[INFO 04-06 15:31:23] ax.modelbridge.base: Leaving out out-of-design observations for arms: 940_0, 939_0\n",
      "[INFO 04-06 15:36:14] ax.service.ax_client: Generated new trial 1130 with parameters {'z_sh': 10, 'z_sh_1': 10, 'z_sh_2': 5, 'z_p2': 32, 'z_p2_1': 29, 'z_p2_2': 29, 'z_r2': 85, 'z_r2_1': 73, 'z_r2_2': 79, 'x_s': -0.3, 'x_s_1': -0.4, 'x_s_2': -0.5, 'x_p1': -0.400842, 'x_p1_1': -0.9, 'x_p1_2': -1.0, 'x_p2': -0.3, 'x_p2_1': -0.4, 'x_p2_2': -0.5, 'x_r2': 1.165264, 'x_r2_1': 1.065264, 'x_r2_2': 0.965264} using model BoTorch.\n",
      "[INFO 04-06 15:36:14] ax.service.ax_client: Completed trial 1130 with data: {'Viable_Cross_Terms': (5, None)}.\n",
      "[INFO 04-06 15:36:16] ax.modelbridge.base: Leaving out out-of-design observations for arms: 940_0, 939_0\n",
      "[INFO 04-06 15:41:04] ax.service.ax_client: Generated new trial 1131 with parameters {'z_sh': 14, 'z_sh_1': 12, 'z_sh_2': 5, 'z_p2': 29, 'z_p2_1': 27, 'z_p2_2': 28, 'z_r2': 80, 'z_r2_1': 85, 'z_r2_2': 82, 'x_s': 0.5, 'x_s_1': 0.4, 'x_s_2': 0.3, 'x_p1': 0.544144, 'x_p1_1': 0.444144, 'x_p1_2': 0.344144, 'x_p2': 0.5, 'x_p2_1': 0.4, 'x_p2_2': 0.206398, 'x_r2': 1.087266, 'x_r2_1': 0.987266, 'x_r2_2': 0.887266} using model BoTorch.\n",
      "[INFO 04-06 15:41:04] ax.service.ax_client: Completed trial 1131 with data: {'Viable_Cross_Terms': (59, None)}.\n",
      "[INFO 04-06 15:41:05] ax.modelbridge.base: Leaving out out-of-design observations for arms: 940_0, 939_0\n",
      "[INFO 04-06 15:45:41] ax.service.ax_client: Generated new trial 1132 with parameters {'z_sh': 7, 'z_sh_1': 6, 'z_sh_2': 5, 'z_p2': 29, 'z_p2_1': 28, 'z_p2_2': 25, 'z_r2': 80, 'z_r2_1': 72, 'z_r2_2': 70, 'x_s': 0.5, 'x_s_1': 0.4, 'x_s_2': 0.3, 'x_p1': 0.972813, 'x_p1_1': 0.872813, 'x_p1_2': 0.772813, 'x_p2': 0.5, 'x_p2_1': 0.4, 'x_p2_2': 0.3, 'x_r2': 1.100883, 'x_r2_1': 1.000883, 'x_r2_2': 0.900883} using model BoTorch.\n",
      "[INFO 04-06 15:45:41] ax.service.ax_client: Completed trial 1132 with data: {'Viable_Cross_Terms': (48, None)}.\n",
      "[INFO 04-06 15:45:42] ax.modelbridge.base: Leaving out out-of-design observations for arms: 940_0, 939_0\n",
      "[INFO 04-06 15:50:17] ax.service.ax_client: Generated new trial 1133 with parameters {'z_sh': 7, 'z_sh_1': 14, 'z_sh_2': 13, 'z_p2': 29, 'z_p2_1': 26, 'z_p2_2': 32, 'z_r2': 76, 'z_r2_1': 71, 'z_r2_2': 80, 'x_s': -0.3, 'x_s_1': -0.4, 'x_s_2': -0.5, 'x_p1': -0.343176, 'x_p1_1': -0.9, 'x_p1_2': -1.0, 'x_p2': 0.5, 'x_p2_1': 0.4, 'x_p2_2': 0.3, 'x_r2': -1.3, 'x_r2_1': -1.4, 'x_r2_2': -1.5} using model BoTorch.\n",
      "[INFO 04-06 15:50:17] ax.service.ax_client: Completed trial 1133 with data: {'Viable_Cross_Terms': (0, None)}.\n",
      "[INFO 04-06 15:50:18] ax.modelbridge.base: Leaving out out-of-design observations for arms: 940_0, 939_0\n",
      "[INFO 04-06 15:54:48] ax.service.ax_client: Generated new trial 1134 with parameters {'z_sh': 7, 'z_sh_1': 14, 'z_sh_2': 13, 'z_p2': 28, 'z_p2_1': 28, 'z_p2_2': 26, 'z_r2': 74, 'z_r2_1': 76, 'z_r2_2': 84, 'x_s': 0.5, 'x_s_1': -0.4, 'x_s_2': -0.5, 'x_p1': 1.0, 'x_p1_1': 0.9, 'x_p1_2': 0.229167, 'x_p2': 0.5, 'x_p2_1': -0.4, 'x_p2_2': -0.5, 'x_r2': -0.589719, 'x_r2_1': -1.4, 'x_r2_2': -1.5} using model BoTorch.\n",
      "[INFO 04-06 15:54:48] ax.service.ax_client: Completed trial 1134 with data: {'Viable_Cross_Terms': (2, None)}.\n",
      "[INFO 04-06 15:54:49] ax.modelbridge.base: Leaving out out-of-design observations for arms: 940_0, 939_0\n",
      "[INFO 04-06 15:59:17] ax.service.ax_client: Generated new trial 1135 with parameters {'z_sh': 13, 'z_sh_1': 10, 'z_sh_2': 5, 'z_p2': 31, 'z_p2_1': 31, 'z_p2_2': 31, 'z_r2': 80, 'z_r2_1': 75, 'z_r2_2': 74, 'x_s': 0.5, 'x_s_1': 0.4, 'x_s_2': 0.3, 'x_p1': 0.699752, 'x_p1_1': 0.599752, 'x_p1_2': 0.499752, 'x_p2': 0.5, 'x_p2_1': 0.4, 'x_p2_2': 0.3, 'x_r2': 1.088749, 'x_r2_1': 0.988749, 'x_r2_2': 0.888749} using model BoTorch.\n",
      "[INFO 04-06 15:59:18] ax.service.ax_client: Completed trial 1135 with data: {'Viable_Cross_Terms': (84, None)}.\n",
      "[INFO 04-06 15:59:18] ax.modelbridge.base: Leaving out out-of-design observations for arms: 940_0, 939_0\n",
      "[INFO 04-06 16:03:45] ax.service.ax_client: Generated new trial 1136 with parameters {'z_sh': 7, 'z_sh_1': 9, 'z_sh_2': 5, 'z_p2': 32, 'z_p2_1': 27, 'z_p2_2': 31, 'z_r2': 80, 'z_r2_1': 83, 'z_r2_2': 81, 'x_s': 0.5, 'x_s_1': 0.4, 'x_s_2': 0.3, 'x_p1': 0.744172, 'x_p1_1': 0.644172, 'x_p1_2': 0.544172, 'x_p2': 0.410859, 'x_p2_1': 0.310859, 'x_p2_2': 0.210859, 'x_r2': 1.085864, 'x_r2_1': 0.985864, 'x_r2_2': 0.885864} using model BoTorch.\n",
      "[INFO 04-06 16:03:45] ax.service.ax_client: Completed trial 1136 with data: {'Viable_Cross_Terms': (84, None)}.\n",
      "[INFO 04-06 16:03:46] ax.modelbridge.base: Leaving out out-of-design observations for arms: 940_0, 939_0\n",
      "[INFO 04-06 16:08:39] ax.service.ax_client: Generated new trial 1137 with parameters {'z_sh': 8, 'z_sh_1': 8, 'z_sh_2': 5, 'z_p2': 34, 'z_p2_1': 28, 'z_p2_2': 31, 'z_r2': 86, 'z_r2_1': 72, 'z_r2_2': 71, 'x_s': 0.5, 'x_s_1': -0.4, 'x_s_2': -0.5, 'x_p1': -0.048729, 'x_p1_1': -0.148729, 'x_p1_2': -0.248729, 'x_p2': 0.5, 'x_p2_1': -0.4, 'x_p2_2': -0.5, 'x_r2': 1.5, 'x_r2_1': 1.4, 'x_r2_2': 1.3} using model BoTorch.\n",
      "[INFO 04-06 16:08:39] ax.service.ax_client: Completed trial 1137 with data: {'Viable_Cross_Terms': (0, None)}.\n",
      "[INFO 04-06 16:08:40] ax.modelbridge.base: Leaving out out-of-design observations for arms: 940_0, 939_0\n",
      "[INFO 04-06 16:13:28] ax.service.ax_client: Generated new trial 1138 with parameters {'z_sh': 7, 'z_sh_1': 6, 'z_sh_2': 5, 'z_p2': 33, 'z_p2_1': 30, 'z_p2_2': 25, 'z_r2': 84, 'z_r2_1': 85, 'z_r2_2': 84, 'x_s': 0.5, 'x_s_1': 0.4, 'x_s_2': 0.3, 'x_p1': 0.341516, 'x_p1_1': -0.9, 'x_p1_2': -1.0, 'x_p2': -0.3, 'x_p2_1': -0.4, 'x_p2_2': -0.5, 'x_r2': -0.210752, 'x_r2_1': -0.310752, 'x_r2_2': -1.5} using model BoTorch.\n",
      "[INFO 04-06 16:13:28] ax.service.ax_client: Completed trial 1138 with data: {'Viable_Cross_Terms': (11, None)}.\n",
      "[INFO 04-06 16:13:29] ax.modelbridge.base: Leaving out out-of-design observations for arms: 940_0, 939_0\n",
      "[INFO 04-06 16:17:56] ax.service.ax_client: Generated new trial 1139 with parameters {'z_sh': 7, 'z_sh_1': 6, 'z_sh_2': 5, 'z_p2': 35, 'z_p2_1': 33, 'z_p2_2': 28, 'z_r2': 84, 'z_r2_1': 78, 'z_r2_2': 84, 'x_s': 0.5, 'x_s_1': 0.4, 'x_s_2': 0.3, 'x_p1': 0.376174, 'x_p1_1': 0.276174, 'x_p1_2': -1.0, 'x_p2': 0.5, 'x_p2_1': 0.4, 'x_p2_2': 0.3, 'x_r2': 0.262446, 'x_r2_1': 0.162446, 'x_r2_2': 0.062446} using model BoTorch.\n",
      "[INFO 04-06 16:17:56] ax.service.ax_client: Completed trial 1139 with data: {'Viable_Cross_Terms': (0, None)}.\n",
      "[INFO 04-06 16:17:57] ax.modelbridge.base: Leaving out out-of-design observations for arms: 940_0, 939_0\n",
      "[INFO 04-06 16:22:29] ax.service.ax_client: Generated new trial 1140 with parameters {'z_sh': 15, 'z_sh_1': 14, 'z_sh_2': 13, 'z_p2': 32, 'z_p2_1': 34, 'z_p2_2': 29, 'z_r2': 72, 'z_r2_1': 71, 'z_r2_2': 70, 'x_s': 0.5, 'x_s_1': 0.4, 'x_s_2': -0.5, 'x_p1': -0.075372, 'x_p1_1': -0.9, 'x_p1_2': -1.0, 'x_p2': -0.3, 'x_p2_1': -0.4, 'x_p2_2': -0.5, 'x_r2': -0.296395, 'x_r2_1': -1.4, 'x_r2_2': -1.5} using model BoTorch.\n",
      "[INFO 04-06 16:22:29] ax.service.ax_client: Completed trial 1140 with data: {'Viable_Cross_Terms': (6, None)}.\n",
      "[INFO 04-06 16:22:30] ax.modelbridge.base: Leaving out out-of-design observations for arms: 940_0, 939_0\n",
      "[INFO 04-06 16:27:47] ax.service.ax_client: Generated new trial 1141 with parameters {'z_sh': 10, 'z_sh_1': 7, 'z_sh_2': 13, 'z_p2': 32, 'z_p2_1': 31, 'z_p2_2': 26, 'z_r2': 73, 'z_r2_1': 79, 'z_r2_2': 71, 'x_s': -0.3, 'x_s_1': -0.4, 'x_s_2': -0.5, 'x_p1': 0.363486, 'x_p1_1': -0.9, 'x_p1_2': -1.0, 'x_p2': -0.3, 'x_p2_1': -0.4, 'x_p2_2': -0.5, 'x_r2': -1.3, 'x_r2_1': -1.4, 'x_r2_2': -1.5} using model BoTorch.\n",
      "[INFO 04-06 16:27:47] ax.service.ax_client: Completed trial 1141 with data: {'Viable_Cross_Terms': (2, None)}.\n",
      "[INFO 04-06 16:27:49] ax.modelbridge.base: Leaving out out-of-design observations for arms: 940_0, 939_0\n",
      "[INFO 04-06 16:32:43] ax.service.ax_client: Generated new trial 1142 with parameters {'z_sh': 10, 'z_sh_1': 13, 'z_sh_2': 13, 'z_p2': 33, 'z_p2_1': 32, 'z_p2_2': 30, 'z_r2': 75, 'z_r2_1': 75, 'z_r2_2': 84, 'x_s': -0.3, 'x_s_1': -0.4, 'x_s_2': -0.5, 'x_p1': 1.0, 'x_p1_1': 0.9, 'x_p1_2': 0.8, 'x_p2': 0.5, 'x_p2_1': 0.4, 'x_p2_2': 0.3, 'x_r2': -0.749956, 'x_r2_1': -0.849956, 'x_r2_2': -1.159271} using model BoTorch.\n",
      "[INFO 04-06 16:32:43] ax.service.ax_client: Completed trial 1142 with data: {'Viable_Cross_Terms': (0, None)}.\n",
      "[INFO 04-06 16:32:45] ax.modelbridge.base: Leaving out out-of-design observations for arms: 940_0, 939_0\n",
      "[INFO 04-06 16:37:34] ax.service.ax_client: Generated new trial 1143 with parameters {'z_sh': 15, 'z_sh_1': 12, 'z_sh_2': 5, 'z_p2': 30, 'z_p2_1': 27, 'z_p2_2': 28, 'z_r2': 86, 'z_r2_1': 79, 'z_r2_2': 79, 'x_s': -0.3, 'x_s_1': -0.4, 'x_s_2': -0.5, 'x_p1': 1.0, 'x_p1_1': 0.9, 'x_p1_2': 0.206679, 'x_p2': 0.5, 'x_p2_1': 0.4, 'x_p2_2': 0.3, 'x_r2': -1.3, 'x_r2_1': -1.4, 'x_r2_2': -1.5} using model BoTorch.\n",
      "[INFO 04-06 16:37:34] ax.service.ax_client: Completed trial 1143 with data: {'Viable_Cross_Terms': (0, None)}.\n",
      "[INFO 04-06 16:37:34] ax.modelbridge.base: Leaving out out-of-design observations for arms: 940_0, 939_0\n",
      "[INFO 04-06 16:42:09] ax.service.ax_client: Generated new trial 1144 with parameters {'z_sh': 7, 'z_sh_1': 6, 'z_sh_2': 8, 'z_p2': 27, 'z_p2_1': 34, 'z_p2_2': 33, 'z_r2': 82, 'z_r2_1': 85, 'z_r2_2': 84, 'x_s': 0.5, 'x_s_1': 0.4, 'x_s_2': 0.3, 'x_p1': 1.0, 'x_p1_1': 0.9, 'x_p1_2': 0.8, 'x_p2': 0.5, 'x_p2_1': 0.4, 'x_p2_2': 0.3, 'x_r2': 1.5, 'x_r2_1': 0.345589, 'x_r2_2': 0.245589} using model BoTorch.\n",
      "[INFO 04-06 16:42:09] ax.service.ax_client: Completed trial 1144 with data: {'Viable_Cross_Terms': (0, None)}.\n",
      "[INFO 04-06 16:42:10] ax.modelbridge.base: Leaving out out-of-design observations for arms: 940_0, 939_0\n",
      "[INFO 04-06 16:46:48] ax.service.ax_client: Generated new trial 1145 with parameters {'z_sh': 12, 'z_sh_1': 6, 'z_sh_2': 12, 'z_p2': 31, 'z_p2_1': 29, 'z_p2_2': 30, 'z_r2': 82, 'z_r2_1': 82, 'z_r2_2': 70, 'x_s': 0.5, 'x_s_1': 0.4, 'x_s_2': -0.5, 'x_p1': 1.0, 'x_p1_1': 0.319302, 'x_p1_2': 0.168144, 'x_p2': -0.3, 'x_p2_1': -0.4, 'x_p2_2': -0.5, 'x_r2': -1.3, 'x_r2_1': -1.4, 'x_r2_2': -1.5} using model BoTorch.\n",
      "[INFO 04-06 16:46:48] ax.service.ax_client: Completed trial 1145 with data: {'Viable_Cross_Terms': (0, None)}.\n",
      "[INFO 04-06 16:46:49] ax.modelbridge.base: Leaving out out-of-design observations for arms: 940_0, 939_0\n",
      "[INFO 04-06 16:51:34] ax.service.ax_client: Generated new trial 1146 with parameters {'z_sh': 15, 'z_sh_1': 6, 'z_sh_2': 5, 'z_p2': 35, 'z_p2_1': 34, 'z_p2_2': 33, 'z_r2': 82, 'z_r2_1': 85, 'z_r2_2': 70, 'x_s': 0.5, 'x_s_1': 0.4, 'x_s_2': -0.5, 'x_p1': 1.0, 'x_p1_1': 0.9, 'x_p1_2': -0.472242, 'x_p2': -0.3, 'x_p2_1': -0.4, 'x_p2_2': -0.5, 'x_r2': 0.515877, 'x_r2_1': 0.415877, 'x_r2_2': 0.315877} using model BoTorch.\n",
      "[INFO 04-06 16:51:34] ax.service.ax_client: Completed trial 1146 with data: {'Viable_Cross_Terms': (20, None)}.\n",
      "[INFO 04-06 16:51:36] ax.modelbridge.base: Leaving out out-of-design observations for arms: 940_0, 939_0\n",
      "[INFO 04-06 16:56:35] ax.service.ax_client: Generated new trial 1147 with parameters {'z_sh': 15, 'z_sh_1': 6, 'z_sh_2': 5, 'z_p2': 27, 'z_p2_1': 26, 'z_p2_2': 33, 'z_r2': 79, 'z_r2_1': 84, 'z_r2_2': 70, 'x_s': 0.5, 'x_s_1': 0.4, 'x_s_2': 0.3, 'x_p1': 1.0, 'x_p1_1': 0.9, 'x_p1_2': -0.711348, 'x_p2': 0.5, 'x_p2_1': 0.4, 'x_p2_2': 0.3, 'x_r2': 1.416709, 'x_r2_1': 1.316709, 'x_r2_2': 1.216709} using model BoTorch.\n",
      "[INFO 04-06 16:56:35] ax.service.ax_client: Completed trial 1147 with data: {'Viable_Cross_Terms': (0, None)}.\n",
      "[INFO 04-06 16:56:37] ax.modelbridge.base: Leaving out out-of-design observations for arms: 940_0, 939_0\n",
      "[INFO 04-06 17:01:15] ax.service.ax_client: Generated new trial 1148 with parameters {'z_sh': 7, 'z_sh_1': 8, 'z_sh_2': 5, 'z_p2': 27, 'z_p2_1': 28, 'z_p2_2': 26, 'z_r2': 82, 'z_r2_1': 77, 'z_r2_2': 84, 'x_s': 0.5, 'x_s_1': 0.4, 'x_s_2': 0.3, 'x_p1': 1.0, 'x_p1_1': 0.9, 'x_p1_2': 0.8, 'x_p2': -0.3, 'x_p2_1': -0.4, 'x_p2_2': -0.5, 'x_r2': 0.456775, 'x_r2_1': 0.356775, 'x_r2_2': 0.256775} using model BoTorch.\n",
      "[INFO 04-06 17:01:15] ax.service.ax_client: Completed trial 1148 with data: {'Viable_Cross_Terms': (65, None)}.\n",
      "[INFO 04-06 17:01:15] ax.modelbridge.base: Leaving out out-of-design observations for arms: 940_0, 939_0\n",
      "[INFO 04-06 17:06:15] ax.service.ax_client: Generated new trial 1149 with parameters {'z_sh': 15, 'z_sh_1': 6, 'z_sh_2': 5, 'z_p2': 27, 'z_p2_1': 26, 'z_p2_2': 33, 'z_r2': 81, 'z_r2_1': 73, 'z_r2_2': 70, 'x_s': 0.5, 'x_s_1': 0.4, 'x_s_2': 0.3, 'x_p1': 1.0, 'x_p1_1': 0.9, 'x_p1_2': -1.0, 'x_p2': 0.5, 'x_p2_1': 0.4, 'x_p2_2': 0.3, 'x_r2': 1.288599, 'x_r2_1': 1.188599, 'x_r2_2': 1.088599} using model BoTorch.\n",
      "[INFO 04-06 17:06:15] ax.service.ax_client: Completed trial 1149 with data: {'Viable_Cross_Terms': (6, None)}.\n",
      "[INFO 04-06 17:06:16] ax.modelbridge.base: Leaving out out-of-design observations for arms: 940_0, 939_0\n",
      "[INFO 04-06 17:10:58] ax.service.ax_client: Generated new trial 1150 with parameters {'z_sh': 15, 'z_sh_1': 9, 'z_sh_2': 5, 'z_p2': 28, 'z_p2_1': 28, 'z_p2_2': 30, 'z_r2': 80, 'z_r2_1': 73, 'z_r2_2': 73, 'x_s': 0.5, 'x_s_1': 0.4, 'x_s_2': 0.3, 'x_p1': 0.64132, 'x_p1_1': 0.54132, 'x_p1_2': 0.44132, 'x_p2': 0.5, 'x_p2_1': 0.4, 'x_p2_2': 0.3, 'x_r2': 0.999893, 'x_r2_1': 0.899893, 'x_r2_2': 0.799893} using model BoTorch.\n",
      "[INFO 04-06 17:10:58] ax.service.ax_client: Completed trial 1150 with data: {'Viable_Cross_Terms': (79, None)}.\n",
      "[INFO 04-06 17:10:59] ax.modelbridge.base: Leaving out out-of-design observations for arms: 940_0, 939_0\n",
      "[INFO 04-06 17:15:49] ax.service.ax_client: Generated new trial 1151 with parameters {'z_sh': 7, 'z_sh_1': 6, 'z_sh_2': 8, 'z_p2': 27, 'z_p2_1': 34, 'z_p2_2': 33, 'z_r2': 82, 'z_r2_1': 75, 'z_r2_2': 84, 'x_s': 0.5, 'x_s_1': 0.4, 'x_s_2': 0.3, 'x_p1': 1.0, 'x_p1_1': 0.9, 'x_p1_2': 0.8, 'x_p2': -0.3, 'x_p2_1': -0.4, 'x_p2_2': -0.5, 'x_r2': 0.539611, 'x_r2_1': 0.439611, 'x_r2_2': 0.339611} using model BoTorch.\n",
      "[INFO 04-06 17:15:49] ax.service.ax_client: Completed trial 1151 with data: {'Viable_Cross_Terms': (67, None)}.\n",
      "[INFO 04-06 17:15:50] ax.modelbridge.base: Leaving out out-of-design observations for arms: 940_0, 939_0\n",
      "[INFO 04-06 17:20:43] ax.service.ax_client: Generated new trial 1152 with parameters {'z_sh': 7, 'z_sh_1': 6, 'z_sh_2': 8, 'z_p2': 27, 'z_p2_1': 26, 'z_p2_2': 33, 'z_r2': 82, 'z_r2_1': 85, 'z_r2_2': 84, 'x_s': 0.5, 'x_s_1': 0.4, 'x_s_2': 0.3, 'x_p1': 1.0, 'x_p1_1': 0.9, 'x_p1_2': 0.8, 'x_p2': -0.3, 'x_p2_1': -0.4, 'x_p2_2': -0.5, 'x_r2': 0.524598, 'x_r2_1': 0.424598, 'x_r2_2': 0.324598} using model BoTorch.\n",
      "[INFO 04-06 17:20:43] ax.service.ax_client: Completed trial 1152 with data: {'Viable_Cross_Terms': (64, None)}.\n",
      "[INFO 04-06 17:20:44] ax.modelbridge.base: Leaving out out-of-design observations for arms: 940_0, 939_0\n",
      "[INFO 04-06 17:25:08] ax.service.ax_client: Generated new trial 1153 with parameters {'z_sh': 10, 'z_sh_1': 7, 'z_sh_2': 5, 'z_p2': 34, 'z_p2_1': 29, 'z_p2_2': 29, 'z_r2': 80, 'z_r2_1': 74, 'z_r2_2': 80, 'x_s': 0.5, 'x_s_1': 0.4, 'x_s_2': 0.3, 'x_p1': 0.695272, 'x_p1_1': 0.595272, 'x_p1_2': 0.495272, 'x_p2': 0.5, 'x_p2_1': 0.4, 'x_p2_2': 0.3, 'x_r2': 1.040864, 'x_r2_1': 0.940864, 'x_r2_2': 0.840864} using model BoTorch.\n",
      "[INFO 04-06 17:25:08] ax.service.ax_client: Completed trial 1153 with data: {'Viable_Cross_Terms': (81, None)}.\n",
      "[INFO 04-06 17:25:09] ax.modelbridge.base: Leaving out out-of-design observations for arms: 940_0, 939_0\n",
      "[INFO 04-06 17:29:49] ax.service.ax_client: Generated new trial 1154 with parameters {'z_sh': 8, 'z_sh_1': 12, 'z_sh_2': 5, 'z_p2': 31, 'z_p2_1': 28, 'z_p2_2': 33, 'z_r2': 80, 'z_r2_1': 74, 'z_r2_2': 70, 'x_s': 0.5, 'x_s_1': 0.4, 'x_s_2': 0.3, 'x_p1': 0.665383, 'x_p1_1': 0.565383, 'x_p1_2': 0.465383, 'x_p2': 0.5, 'x_p2_1': 0.4, 'x_p2_2': 0.3, 'x_r2': 1.029608, 'x_r2_1': 0.929608, 'x_r2_2': 0.829608} using model BoTorch.\n",
      "[INFO 04-06 17:29:49] ax.service.ax_client: Completed trial 1154 with data: {'Viable_Cross_Terms': (87, None)}.\n",
      "[INFO 04-06 17:29:50] ax.modelbridge.base: Leaving out out-of-design observations for arms: 940_0, 939_0\n",
      "[INFO 04-06 17:35:05] ax.service.ax_client: Generated new trial 1155 with parameters {'z_sh': 7, 'z_sh_1': 6, 'z_sh_2': 5, 'z_p2': 27, 'z_p2_1': 34, 'z_p2_2': 33, 'z_r2': 77, 'z_r2_1': 85, 'z_r2_2': 84, 'x_s': 0.5, 'x_s_1': 0.4, 'x_s_2': 0.3, 'x_p1': 0.682154, 'x_p1_1': 0.582154, 'x_p1_2': 0.482154, 'x_p2': 0.5, 'x_p2_1': 0.4, 'x_p2_2': 0.3, 'x_r2': 0.929633, 'x_r2_1': 0.829633, 'x_r2_2': 0.729633} using model BoTorch.\n",
      "[INFO 04-06 17:35:05] ax.service.ax_client: Completed trial 1155 with data: {'Viable_Cross_Terms': (23, None)}.\n",
      "[INFO 04-06 17:35:06] ax.modelbridge.base: Leaving out out-of-design observations for arms: 940_0, 939_0\n",
      "[INFO 04-06 17:39:56] ax.service.ax_client: Generated new trial 1156 with parameters {'z_sh': 8, 'z_sh_1': 11, 'z_sh_2': 5, 'z_p2': 32, 'z_p2_1': 28, 'z_p2_2': 26, 'z_r2': 80, 'z_r2_1': 75, 'z_r2_2': 78, 'x_s': 0.5, 'x_s_1': 0.4, 'x_s_2': 0.3, 'x_p1': 0.699135, 'x_p1_1': 0.599135, 'x_p1_2': 0.499135, 'x_p2': 0.5, 'x_p2_1': 0.4, 'x_p2_2': 0.3, 'x_r2': 1.04298, 'x_r2_1': 0.94298, 'x_r2_2': 0.84298} using model BoTorch.\n",
      "[INFO 04-06 17:39:56] ax.service.ax_client: Completed trial 1156 with data: {'Viable_Cross_Terms': (82, None)}.\n",
      "[INFO 04-06 17:39:57] ax.modelbridge.base: Leaving out out-of-design observations for arms: 940_0, 939_0\n",
      "[INFO 04-06 17:44:42] ax.service.ax_client: Generated new trial 1157 with parameters {'z_sh': 10, 'z_sh_1': 6, 'z_sh_2': 5, 'z_p2': 35, 'z_p2_1': 26, 'z_p2_2': 33, 'z_r2': 80, 'z_r2_1': 85, 'z_r2_2': 71, 'x_s': 0.5, 'x_s_1': 0.4, 'x_s_2': 0.3, 'x_p1': 0.664176, 'x_p1_1': 0.564176, 'x_p1_2': 0.464176, 'x_p2': 0.5, 'x_p2_1': 0.4, 'x_p2_2': 0.3, 'x_r2': 1.025545, 'x_r2_1': 0.925545, 'x_r2_2': 0.825545} using model BoTorch.\n",
      "[INFO 04-06 17:44:42] ax.service.ax_client: Completed trial 1157 with data: {'Viable_Cross_Terms': (81, None)}.\n",
      "[INFO 04-06 17:44:44] ax.modelbridge.base: Leaving out out-of-design observations for arms: 940_0, 939_0\n",
      "[INFO 04-06 17:49:38] ax.service.ax_client: Generated new trial 1158 with parameters {'z_sh': 15, 'z_sh_1': 7, 'z_sh_2': 5, 'z_p2': 35, 'z_p2_1': 27, 'z_p2_2': 27, 'z_r2': 80, 'z_r2_1': 74, 'z_r2_2': 81, 'x_s': 0.5, 'x_s_1': 0.4, 'x_s_2': 0.3, 'x_p1': 0.670643, 'x_p1_1': 0.570643, 'x_p1_2': 0.470643, 'x_p2': 0.5, 'x_p2_1': 0.4, 'x_p2_2': 0.3, 'x_r2': 1.022125, 'x_r2_1': 0.922125, 'x_r2_2': 0.822125} using model BoTorch.\n",
      "[INFO 04-06 17:49:38] ax.service.ax_client: Completed trial 1158 with data: {'Viable_Cross_Terms': (77, None)}.\n",
      "[INFO 04-06 17:49:40] ax.modelbridge.base: Leaving out out-of-design observations for arms: 940_0, 939_0\n",
      "[INFO 04-06 17:54:27] ax.service.ax_client: Generated new trial 1159 with parameters {'z_sh': 14, 'z_sh_1': 13, 'z_sh_2': 5, 'z_p2': 35, 'z_p2_1': 34, 'z_p2_2': 26, 'z_r2': 80, 'z_r2_1': 83, 'z_r2_2': 71, 'x_s': 0.5, 'x_s_1': 0.4, 'x_s_2': 0.3, 'x_p1': 0.643976, 'x_p1_1': 0.543976, 'x_p1_2': 0.443976, 'x_p2': 0.5, 'x_p2_1': 0.4, 'x_p2_2': 0.3, 'x_r2': 1.013169, 'x_r2_1': 0.913169, 'x_r2_2': 0.813169} using model BoTorch.\n",
      "[INFO 04-06 17:54:27] ax.service.ax_client: Completed trial 1159 with data: {'Viable_Cross_Terms': (79, None)}.\n",
      "[INFO 04-06 17:54:28] ax.modelbridge.base: Leaving out out-of-design observations for arms: 940_0, 939_0\n",
      "[INFO 04-06 17:59:25] ax.service.ax_client: Generated new trial 1160 with parameters {'z_sh': 10, 'z_sh_1': 9, 'z_sh_2': 5, 'z_p2': 35, 'z_p2_1': 33, 'z_p2_2': 33, 'z_r2': 80, 'z_r2_1': 71, 'z_r2_2': 80, 'x_s': 0.5, 'x_s_1': 0.4, 'x_s_2': 0.3, 'x_p1': 0.692769, 'x_p1_1': 0.592769, 'x_p1_2': 0.492769, 'x_p2': 0.5, 'x_p2_1': 0.4, 'x_p2_2': 0.3, 'x_r2': 1.039748, 'x_r2_1': 0.939748, 'x_r2_2': 0.839748} using model BoTorch.\n",
      "[INFO 04-06 17:59:25] ax.service.ax_client: Completed trial 1160 with data: {'Viable_Cross_Terms': (80, None)}.\n",
      "[INFO 04-06 17:59:26] ax.modelbridge.base: Leaving out out-of-design observations for arms: 940_0, 939_0\n",
      "[INFO 04-06 18:04:26] ax.service.ax_client: Generated new trial 1161 with parameters {'z_sh': 14, 'z_sh_1': 9, 'z_sh_2': 5, 'z_p2': 29, 'z_p2_1': 26, 'z_p2_2': 30, 'z_r2': 80, 'z_r2_1': 83, 'z_r2_2': 76, 'x_s': 0.5, 'x_s_1': 0.4, 'x_s_2': 0.3, 'x_p1': 0.669342, 'x_p1_1': 0.569342, 'x_p1_2': 0.469342, 'x_p2': 0.5, 'x_p2_1': 0.4, 'x_p2_2': 0.3, 'x_r2': 1.01505, 'x_r2_1': 0.91505, 'x_r2_2': 0.81505} using model BoTorch.\n",
      "[INFO 04-06 18:04:26] ax.service.ax_client: Completed trial 1161 with data: {'Viable_Cross_Terms': (77, None)}.\n",
      "[INFO 04-06 18:04:27] ax.modelbridge.base: Leaving out out-of-design observations for arms: 940_0, 939_0\n",
      "[INFO 04-06 18:09:33] ax.service.ax_client: Generated new trial 1162 with parameters {'z_sh': 7, 'z_sh_1': 6, 'z_sh_2': 5, 'z_p2': 32, 'z_p2_1': 26, 'z_p2_2': 27, 'z_r2': 80, 'z_r2_1': 77, 'z_r2_2': 79, 'x_s': 0.5, 'x_s_1': 0.4, 'x_s_2': 0.3, 'x_p1': 0.709785, 'x_p1_1': 0.609785, 'x_p1_2': 0.509785, 'x_p2': 0.5, 'x_p2_1': 0.4, 'x_p2_2': 0.3, 'x_r2': 1.048718, 'x_r2_1': 0.948718, 'x_r2_2': 0.848718} using model BoTorch.\n",
      "[INFO 04-06 18:09:33] ax.service.ax_client: Completed trial 1162 with data: {'Viable_Cross_Terms': (83, None)}.\n",
      "[INFO 04-06 18:09:34] ax.modelbridge.base: Leaving out out-of-design observations for arms: 940_0, 939_0\n",
      "[INFO 04-06 18:14:34] ax.service.ax_client: Generated new trial 1163 with parameters {'z_sh': 8, 'z_sh_1': 7, 'z_sh_2': 11, 'z_p2': 29, 'z_p2_1': 26, 'z_p2_2': 27, 'z_r2': 82, 'z_r2_1': 81, 'z_r2_2': 81, 'x_s': 0.5, 'x_s_1': 0.4, 'x_s_2': 0.3, 'x_p1': 1.0, 'x_p1_1': 0.9, 'x_p1_2': 0.8, 'x_p2': -0.3, 'x_p2_1': -0.4, 'x_p2_2': -0.5, 'x_r2': 0.496465, 'x_r2_1': 0.396465, 'x_r2_2': 0.296465} using model BoTorch.\n",
      "[INFO 04-06 18:14:34] ax.service.ax_client: Completed trial 1163 with data: {'Viable_Cross_Terms': (67, None)}.\n",
      "[INFO 04-06 18:14:35] ax.modelbridge.base: Leaving out out-of-design observations for arms: 940_0, 939_0\n",
      "[INFO 04-06 18:19:50] ax.service.ax_client: Generated new trial 1164 with parameters {'z_sh': 15, 'z_sh_1': 12, 'z_sh_2': 13, 'z_p2': 29, 'z_p2_1': 33, 'z_p2_2': 31, 'z_r2': 78, 'z_r2_1': 76, 'z_r2_2': 83, 'x_s': 0.5, 'x_s_1': 0.4, 'x_s_2': 0.3, 'x_p1': -0.162143, 'x_p1_1': -0.262143, 'x_p1_2': -1.0, 'x_p2': -0.3, 'x_p2_1': -0.4, 'x_p2_2': -0.5, 'x_r2': 0.730346, 'x_r2_1': 0.630346, 'x_r2_2': 0.530346} using model BoTorch.\n",
      "[INFO 04-06 18:19:50] ax.service.ax_client: Completed trial 1164 with data: {'Viable_Cross_Terms': (14, None)}.\n",
      "[INFO 04-06 18:19:51] ax.modelbridge.base: Leaving out out-of-design observations for arms: 940_0, 939_0\n",
      "[INFO 04-06 18:24:52] ax.service.ax_client: Generated new trial 1165 with parameters {'z_sh': 9, 'z_sh_1': 6, 'z_sh_2': 5, 'z_p2': 35, 'z_p2_1': 29, 'z_p2_2': 33, 'z_r2': 80, 'z_r2_1': 74, 'z_r2_2': 79, 'x_s': 0.5, 'x_s_1': 0.4, 'x_s_2': 0.3, 'x_p1': 0.694117, 'x_p1_1': 0.594117, 'x_p1_2': 0.494117, 'x_p2': 0.5, 'x_p2_1': 0.4, 'x_p2_2': 0.3, 'x_r2': 1.04141, 'x_r2_1': 0.94141, 'x_r2_2': 0.84141} using model BoTorch.\n",
      "[INFO 04-06 18:24:52] ax.service.ax_client: Completed trial 1165 with data: {'Viable_Cross_Terms': (81, None)}.\n",
      "[INFO 04-06 18:24:53] ax.modelbridge.base: Leaving out out-of-design observations for arms: 940_0, 939_0\n",
      "[INFO 04-06 18:29:40] ax.service.ax_client: Generated new trial 1166 with parameters {'z_sh': 7, 'z_sh_1': 6, 'z_sh_2': 11, 'z_p2': 34, 'z_p2_1': 30, 'z_p2_2': 30, 'z_r2': 82, 'z_r2_1': 72, 'z_r2_2': 72, 'x_s': 0.5, 'x_s_1': 0.4, 'x_s_2': 0.3, 'x_p1': 1.0, 'x_p1_1': 0.9, 'x_p1_2': 0.8, 'x_p2': -0.3, 'x_p2_1': -0.4, 'x_p2_2': -0.5, 'x_r2': 0.499063, 'x_r2_1': 0.399063, 'x_r2_2': 0.299063} using model BoTorch.\n",
      "[INFO 04-06 18:29:40] ax.service.ax_client: Completed trial 1166 with data: {'Viable_Cross_Terms': (67, None)}.\n",
      "[INFO 04-06 18:29:41] ax.modelbridge.base: Leaving out out-of-design observations for arms: 940_0, 939_0\n",
      "[INFO 04-06 18:34:41] ax.service.ax_client: Generated new trial 1167 with parameters {'z_sh': 10, 'z_sh_1': 6, 'z_sh_2': 5, 'z_p2': 27, 'z_p2_1': 30, 'z_p2_2': 29, 'z_r2': 80, 'z_r2_1': 80, 'z_r2_2': 81, 'x_s': 0.5, 'x_s_1': 0.4, 'x_s_2': 0.3, 'x_p1': 0.710043, 'x_p1_1': 0.610043, 'x_p1_2': 0.510043, 'x_p2': 0.5, 'x_p2_1': 0.4, 'x_p2_2': 0.3, 'x_r2': 1.042663, 'x_r2_1': 0.942663, 'x_r2_2': 0.842663} using model BoTorch.\n",
      "[INFO 04-06 18:34:41] ax.service.ax_client: Completed trial 1167 with data: {'Viable_Cross_Terms': (82, None)}.\n",
      "[INFO 04-06 18:34:42] ax.modelbridge.base: Leaving out out-of-design observations for arms: 940_0, 939_0\n",
      "[INFO 04-06 18:39:49] ax.service.ax_client: Generated new trial 1168 with parameters {'z_sh': 7, 'z_sh_1': 13, 'z_sh_2': 5, 'z_p2': 30, 'z_p2_1': 31, 'z_p2_2': 27, 'z_r2': 80, 'z_r2_1': 85, 'z_r2_2': 77, 'x_s': 0.5, 'x_s_1': 0.4, 'x_s_2': 0.3, 'x_p1': 0.713085, 'x_p1_1': 0.613085, 'x_p1_2': 0.513085, 'x_p2': 0.5, 'x_p2_1': 0.4, 'x_p2_2': 0.3, 'x_r2': 1.057158, 'x_r2_1': 0.957158, 'x_r2_2': 0.857158} using model BoTorch.\n",
      "[INFO 04-06 18:39:49] ax.service.ax_client: Completed trial 1168 with data: {'Viable_Cross_Terms': (87, None)}.\n",
      "[INFO 04-06 18:39:51] ax.modelbridge.base: Leaving out out-of-design observations for arms: 940_0, 939_0\n",
      "[INFO 04-06 18:45:07] ax.service.ax_client: Generated new trial 1169 with parameters {'z_sh': 10, 'z_sh_1': 7, 'z_sh_2': 5, 'z_p2': 35, 'z_p2_1': 31, 'z_p2_2': 32, 'z_r2': 80, 'z_r2_1': 74, 'z_r2_2': 75, 'x_s': 0.5, 'x_s_1': 0.4, 'x_s_2': 0.3, 'x_p1': 0.683436, 'x_p1_1': 0.583436, 'x_p1_2': 0.483436, 'x_p2': 0.5, 'x_p2_1': 0.4, 'x_p2_2': 0.3, 'x_r2': 1.038901, 'x_r2_1': 0.938901, 'x_r2_2': 0.838901} using model BoTorch.\n",
      "[INFO 04-06 18:45:07] ax.service.ax_client: Completed trial 1169 with data: {'Viable_Cross_Terms': (84, None)}.\n",
      "[INFO 04-06 18:45:08] ax.modelbridge.base: Leaving out out-of-design observations for arms: 940_0, 939_0\n",
      "[INFO 04-06 18:50:11] ax.service.ax_client: Generated new trial 1170 with parameters {'z_sh': 7, 'z_sh_1': 9, 'z_sh_2': 10, 'z_p2': 29, 'z_p2_1': 34, 'z_p2_2': 27, 'z_r2': 82, 'z_r2_1': 79, 'z_r2_2': 83, 'x_s': 0.5, 'x_s_1': 0.4, 'x_s_2': 0.3, 'x_p1': 1.0, 'x_p1_1': 0.9, 'x_p1_2': 0.8, 'x_p2': -0.3, 'x_p2_1': -0.4, 'x_p2_2': -0.5, 'x_r2': 0.499637, 'x_r2_1': 0.399637, 'x_r2_2': 0.299637} using model BoTorch.\n",
      "[INFO 04-06 18:50:11] ax.service.ax_client: Completed trial 1170 with data: {'Viable_Cross_Terms': (67, None)}.\n",
      "[INFO 04-06 18:50:12] ax.modelbridge.base: Leaving out out-of-design observations for arms: 940_0, 939_0\n",
      "[INFO 04-06 18:55:10] ax.service.ax_client: Generated new trial 1171 with parameters {'z_sh': 12, 'z_sh_1': 6, 'z_sh_2': 5, 'z_p2': 29, 'z_p2_1': 28, 'z_p2_2': 29, 'z_r2': 80, 'z_r2_1': 85, 'z_r2_2': 77, 'x_s': 0.5, 'x_s_1': 0.4, 'x_s_2': 0.3, 'x_p1': 0.690986, 'x_p1_1': 0.590986, 'x_p1_2': 0.490986, 'x_p2': 0.5, 'x_p2_1': 0.4, 'x_p2_2': 0.3, 'x_r2': 1.033268, 'x_r2_1': 0.933268, 'x_r2_2': 0.833268} using model BoTorch.\n",
      "[INFO 04-06 18:55:10] ax.service.ax_client: Completed trial 1171 with data: {'Viable_Cross_Terms': (79, None)}.\n",
      "[INFO 04-06 18:55:11] ax.modelbridge.base: Leaving out out-of-design observations for arms: 940_0, 939_0\n",
      "[INFO 04-06 19:00:29] ax.service.ax_client: Generated new trial 1172 with parameters {'z_sh': 10, 'z_sh_1': 6, 'z_sh_2': 5, 'z_p2': 35, 'z_p2_1': 26, 'z_p2_2': 33, 'z_r2': 80, 'z_r2_1': 85, 'z_r2_2': 71, 'x_s': 0.5, 'x_s_1': 0.4, 'x_s_2': 0.3, 'x_p1': 0.673062, 'x_p1_1': 0.573062, 'x_p1_2': 0.473062, 'x_p2': 0.5, 'x_p2_1': 0.4, 'x_p2_2': 0.3, 'x_r2': 1.033913, 'x_r2_1': 0.933913, 'x_r2_2': 0.833913} using model BoTorch.\n",
      "[INFO 04-06 19:00:29] ax.service.ax_client: Completed trial 1172 with data: {'Viable_Cross_Terms': (81, None)}.\n",
      "[INFO 04-06 19:00:30] ax.modelbridge.base: Leaving out out-of-design observations for arms: 940_0, 939_0\n",
      "[INFO 04-06 19:05:57] ax.service.ax_client: Generated new trial 1173 with parameters {'z_sh': 7, 'z_sh_1': 6, 'z_sh_2': 5, 'z_p2': 28, 'z_p2_1': 30, 'z_p2_2': 25, 'z_r2': 80, 'z_r2_1': 78, 'z_r2_2': 73, 'x_s': 0.5, 'x_s_1': 0.4, 'x_s_2': 0.3, 'x_p1': 0.697556, 'x_p1_1': 0.597556, 'x_p1_2': 0.497556, 'x_p2': 0.5, 'x_p2_1': 0.4, 'x_p2_2': 0.3, 'x_r2': 1.045722, 'x_r2_1': 0.945722, 'x_r2_2': 0.845722} using model BoTorch.\n",
      "[INFO 04-06 19:05:57] ax.service.ax_client: Completed trial 1173 with data: {'Viable_Cross_Terms': (82, None)}.\n",
      "[INFO 04-06 19:06:00] ax.modelbridge.base: Leaving out out-of-design observations for arms: 940_0, 939_0\n",
      "[INFO 04-06 19:11:02] ax.service.ax_client: Generated new trial 1174 with parameters {'z_sh': 12, 'z_sh_1': 10, 'z_sh_2': 5, 'z_p2': 29, 'z_p2_1': 27, 'z_p2_2': 30, 'z_r2': 80, 'z_r2_1': 73, 'z_r2_2': 71, 'x_s': 0.5, 'x_s_1': 0.4, 'x_s_2': 0.3, 'x_p1': 0.696697, 'x_p1_1': 0.596697, 'x_p1_2': 0.496697, 'x_p2': 0.5, 'x_p2_1': 0.4, 'x_p2_2': 0.3, 'x_r2': 1.089196, 'x_r2_1': 0.989196, 'x_r2_2': 0.889196} using model BoTorch.\n",
      "[INFO 04-06 19:11:02] ax.service.ax_client: Completed trial 1174 with data: {'Viable_Cross_Terms': (84, None)}.\n",
      "[INFO 04-06 19:11:03] ax.modelbridge.base: Leaving out out-of-design observations for arms: 940_0, 939_0\n",
      "[INFO 04-06 19:16:14] ax.service.ax_client: Generated new trial 1175 with parameters {'z_sh': 13, 'z_sh_1': 9, 'z_sh_2': 13, 'z_p2': 33, 'z_p2_1': 32, 'z_p2_2': 33, 'z_r2': 78, 'z_r2_1': 77, 'z_r2_2': 77, 'x_s': -0.3, 'x_s_1': -0.4, 'x_s_2': -0.5, 'x_p1': 0.218884, 'x_p1_1': -0.9, 'x_p1_2': -1.0, 'x_p2': 0.5, 'x_p2_1': 0.4, 'x_p2_2': 0.3, 'x_r2': 0.10032, 'x_r2_1': -1.4, 'x_r2_2': -1.5} using model BoTorch.\n",
      "[INFO 04-06 19:16:14] ax.service.ax_client: Completed trial 1175 with data: {'Viable_Cross_Terms': (2, None)}.\n",
      "[INFO 04-06 19:16:15] ax.modelbridge.base: Leaving out out-of-design observations for arms: 940_0, 939_0\n",
      "[INFO 04-06 19:21:25] ax.service.ax_client: Generated new trial 1176 with parameters {'z_sh': 7, 'z_sh_1': 6, 'z_sh_2': 5, 'z_p2': 35, 'z_p2_1': 30, 'z_p2_2': 30, 'z_r2': 78, 'z_r2_1': 72, 'z_r2_2': 74, 'x_s': 0.5, 'x_s_1': -0.4, 'x_s_2': -0.5, 'x_p1': 0.365642, 'x_p1_1': 0.265642, 'x_p1_2': -1.0, 'x_p2': -0.3, 'x_p2_1': -0.4, 'x_p2_2': -0.5, 'x_r2': -1.3, 'x_r2_1': -1.4, 'x_r2_2': -1.5} using model BoTorch.\n",
      "[INFO 04-06 19:21:25] ax.service.ax_client: Completed trial 1176 with data: {'Viable_Cross_Terms': (0, None)}.\n",
      "[INFO 04-06 19:21:27] ax.modelbridge.base: Leaving out out-of-design observations for arms: 940_0, 939_0\n",
      "[INFO 04-06 19:26:41] ax.service.ax_client: Generated new trial 1177 with parameters {'z_sh': 7, 'z_sh_1': 6, 'z_sh_2': 9, 'z_p2': 27, 'z_p2_1': 34, 'z_p2_2': 32, 'z_r2': 82, 'z_r2_1': 74, 'z_r2_2': 84, 'x_s': 0.5, 'x_s_1': 0.4, 'x_s_2': 0.3, 'x_p1': 1.0, 'x_p1_1': 0.9, 'x_p1_2': 0.8, 'x_p2': -0.3, 'x_p2_1': -0.4, 'x_p2_2': -0.5, 'x_r2': 0.519889, 'x_r2_1': 0.419889, 'x_r2_2': 0.319889} using model BoTorch.\n",
      "[INFO 04-06 19:26:41] ax.service.ax_client: Completed trial 1177 with data: {'Viable_Cross_Terms': (65, None)}.\n",
      "[INFO 04-06 19:26:42] ax.modelbridge.base: Leaving out out-of-design observations for arms: 940_0, 939_0\n",
      "[INFO 04-06 19:32:04] ax.service.ax_client: Generated new trial 1178 with parameters {'z_sh': 7, 'z_sh_1': 6, 'z_sh_2': 8, 'z_p2': 27, 'z_p2_1': 34, 'z_p2_2': 33, 'z_r2': 82, 'z_r2_1': 85, 'z_r2_2': 84, 'x_s': 0.5, 'x_s_1': 0.4, 'x_s_2': 0.3, 'x_p1': 1.0, 'x_p1_1': 0.9, 'x_p1_2': 0.8, 'x_p2': -0.3, 'x_p2_1': -0.4, 'x_p2_2': -0.5, 'x_r2': 0.500992, 'x_r2_1': 0.400992, 'x_r2_2': 0.300992} using model BoTorch.\n",
      "[INFO 04-06 19:32:04] ax.service.ax_client: Completed trial 1178 with data: {'Viable_Cross_Terms': (67, None)}.\n",
      "[INFO 04-06 19:32:05] ax.modelbridge.base: Leaving out out-of-design observations for arms: 940_0, 939_0\n",
      "[INFO 04-06 19:37:05] ax.service.ax_client: Generated new trial 1179 with parameters {'z_sh': 9, 'z_sh_1': 9, 'z_sh_2': 5, 'z_p2': 34, 'z_p2_1': 32, 'z_p2_2': 33, 'z_r2': 80, 'z_r2_1': 77, 'z_r2_2': 81, 'x_s': 0.5, 'x_s_1': 0.4, 'x_s_2': 0.3, 'x_p1': 0.70194, 'x_p1_1': 0.60194, 'x_p1_2': 0.50194, 'x_p2': 0.5, 'x_p2_1': 0.4, 'x_p2_2': 0.3, 'x_r2': 1.04869, 'x_r2_1': 0.94869, 'x_r2_2': 0.84869} using model BoTorch.\n",
      "[INFO 04-06 19:37:05] ax.service.ax_client: Completed trial 1179 with data: {'Viable_Cross_Terms': (83, None)}.\n",
      "[INFO 04-06 19:37:06] ax.modelbridge.base: Leaving out out-of-design observations for arms: 940_0, 939_0\n",
      "[INFO 04-06 19:41:49] ax.service.ax_client: Generated new trial 1180 with parameters {'z_sh': 8, 'z_sh_1': 13, 'z_sh_2': 8, 'z_p2': 32, 'z_p2_1': 26, 'z_p2_2': 30, 'z_r2': 77, 'z_r2_1': 81, 'z_r2_2': 76, 'x_s': 0.5, 'x_s_1': 0.4, 'x_s_2': 0.3, 'x_p1': 0.743194, 'x_p1_1': 0.643194, 'x_p1_2': 0.543194, 'x_p2': 0.331283, 'x_p2_1': 0.231283, 'x_p2_2': 0.131283, 'x_r2': 0.962274, 'x_r2_1': 0.862274, 'x_r2_2': 0.762274} using model BoTorch.\n",
      "[INFO 04-06 19:41:49] ax.service.ax_client: Completed trial 1180 with data: {'Viable_Cross_Terms': (35, None)}.\n",
      "[INFO 04-06 19:41:50] ax.modelbridge.base: Leaving out out-of-design observations for arms: 940_0, 939_0\n",
      "[INFO 04-06 19:47:06] ax.service.ax_client: Generated new trial 1181 with parameters {'z_sh': 10, 'z_sh_1': 6, 'z_sh_2': 5, 'z_p2': 35, 'z_p2_1': 26, 'z_p2_2': 33, 'z_r2': 80, 'z_r2_1': 85, 'z_r2_2': 71, 'x_s': 0.5, 'x_s_1': 0.4, 'x_s_2': 0.3, 'x_p1': 0.670543, 'x_p1_1': 0.570543, 'x_p1_2': 0.470543, 'x_p2': 0.5, 'x_p2_1': 0.4, 'x_p2_2': 0.3, 'x_r2': 1.033514, 'x_r2_1': 0.933514, 'x_r2_2': 0.833514} using model BoTorch.\n",
      "[INFO 04-06 19:47:06] ax.service.ax_client: Completed trial 1181 with data: {'Viable_Cross_Terms': (82, None)}.\n",
      "[INFO 04-06 19:47:08] ax.modelbridge.base: Leaving out out-of-design observations for arms: 940_0, 939_0\n",
      "[INFO 04-06 19:52:13] ax.service.ax_client: Generated new trial 1182 with parameters {'z_sh': 7, 'z_sh_1': 6, 'z_sh_2': 8, 'z_p2': 27, 'z_p2_1': 26, 'z_p2_2': 33, 'z_r2': 82, 'z_r2_1': 85, 'z_r2_2': 84, 'x_s': 0.5, 'x_s_1': 0.4, 'x_s_2': 0.3, 'x_p1': 1.0, 'x_p1_1': 0.9, 'x_p1_2': 0.8, 'x_p2': -0.3, 'x_p2_1': -0.4, 'x_p2_2': -0.5, 'x_r2': 0.498542, 'x_r2_1': 0.398542, 'x_r2_2': 0.298542} using model BoTorch.\n",
      "[INFO 04-06 19:52:13] ax.service.ax_client: Completed trial 1182 with data: {'Viable_Cross_Terms': (67, None)}.\n",
      "[INFO 04-06 19:52:14] ax.modelbridge.base: Leaving out out-of-design observations for arms: 940_0, 939_0\n",
      "[INFO 04-06 19:57:51] ax.service.ax_client: Generated new trial 1183 with parameters {'z_sh': 15, 'z_sh_1': 12, 'z_sh_2': 5, 'z_p2': 34, 'z_p2_1': 28, 'z_p2_2': 31, 'z_r2': 75, 'z_r2_1': 75, 'z_r2_2': 76, 'x_s': 0.5, 'x_s_1': 0.4, 'x_s_2': 0.3, 'x_p1': 1.0, 'x_p1_1': 0.9, 'x_p1_2': -1.0, 'x_p2': -0.3, 'x_p2_1': -0.4, 'x_p2_2': -0.5, 'x_r2': -0.375019, 'x_r2_1': -0.475019, 'x_r2_2': -0.575019} using model BoTorch.\n",
      "[INFO 04-06 19:57:51] ax.service.ax_client: Completed trial 1183 with data: {'Viable_Cross_Terms': (4, None)}.\n",
      "[INFO 04-06 19:57:52] ax.modelbridge.base: Leaving out out-of-design observations for arms: 940_0, 939_0\n",
      "[INFO 04-06 20:03:11] ax.service.ax_client: Generated new trial 1184 with parameters {'z_sh': 7, 'z_sh_1': 6, 'z_sh_2': 5, 'z_p2': 34, 'z_p2_1': 31, 'z_p2_2': 25, 'z_r2': 80, 'z_r2_1': 72, 'z_r2_2': 83, 'x_s': 0.5, 'x_s_1': 0.4, 'x_s_2': 0.3, 'x_p1': 0.723467, 'x_p1_1': 0.623467, 'x_p1_2': 0.523467, 'x_p2': 0.5, 'x_p2_1': 0.4, 'x_p2_2': 0.3, 'x_r2': 1.056, 'x_r2_1': 0.956, 'x_r2_2': 0.856} using model BoTorch.\n",
      "[INFO 04-06 20:03:11] ax.service.ax_client: Completed trial 1184 with data: {'Viable_Cross_Terms': (87, None)}.\n",
      "[INFO 04-06 20:03:12] ax.modelbridge.base: Leaving out out-of-design observations for arms: 940_0, 939_0\n",
      "[INFO 04-06 20:08:26] ax.service.ax_client: Generated new trial 1185 with parameters {'z_sh': 15, 'z_sh_1': 9, 'z_sh_2': 5, 'z_p2': 33, 'z_p2_1': 29, 'z_p2_2': 28, 'z_r2': 75, 'z_r2_1': 81, 'z_r2_2': 84, 'x_s': 0.5, 'x_s_1': 0.4, 'x_s_2': 0.3, 'x_p1': -0.15152, 'x_p1_1': -0.25152, 'x_p1_2': -0.35152, 'x_p2': 0.5, 'x_p2_1': 0.4, 'x_p2_2': 0.3, 'x_r2': -1.3, 'x_r2_1': -1.4, 'x_r2_2': -1.5} using model BoTorch.\n",
      "[INFO 04-06 20:08:26] ax.service.ax_client: Completed trial 1185 with data: {'Viable_Cross_Terms': (0, None)}.\n",
      "[INFO 04-06 20:08:26] ax.modelbridge.base: Leaving out out-of-design observations for arms: 940_0, 939_0\n",
      "[INFO 04-06 20:12:46] ax.service.ax_client: Generated new trial 1186 with parameters {'z_sh': 12, 'z_sh_1': 11, 'z_sh_2': 5, 'z_p2': 30, 'z_p2_1': 29, 'z_p2_2': 25, 'z_r2': 80, 'z_r2_1': 78, 'z_r2_2': 70, 'x_s': 0.5, 'x_s_1': 0.4, 'x_s_2': 0.3, 'x_p1': 0.655134, 'x_p1_1': 0.555134, 'x_p1_2': 0.455134, 'x_p2': 0.5, 'x_p2_1': 0.4, 'x_p2_2': 0.3, 'x_r2': 1.019442, 'x_r2_1': 0.919442, 'x_r2_2': 0.819442} using model BoTorch.\n",
      "[INFO 04-06 20:12:46] ax.service.ax_client: Completed trial 1186 with data: {'Viable_Cross_Terms': (83, None)}.\n",
      "[INFO 04-06 20:12:46] ax.modelbridge.base: Leaving out out-of-design observations for arms: 940_0, 939_0\n",
      "[INFO 04-06 20:17:14] ax.service.ax_client: Generated new trial 1187 with parameters {'z_sh': 9, 'z_sh_1': 6, 'z_sh_2': 5, 'z_p2': 35, 'z_p2_1': 26, 'z_p2_2': 33, 'z_r2': 80, 'z_r2_1': 85, 'z_r2_2': 71, 'x_s': 0.5, 'x_s_1': 0.4, 'x_s_2': 0.3, 'x_p1': 0.669719, 'x_p1_1': 0.569719, 'x_p1_2': 0.469719, 'x_p2': 0.5, 'x_p2_1': 0.4, 'x_p2_2': 0.3, 'x_r2': 1.032478, 'x_r2_1': 0.932478, 'x_r2_2': 0.832478} using model BoTorch.\n",
      "[INFO 04-06 20:17:14] ax.service.ax_client: Completed trial 1187 with data: {'Viable_Cross_Terms': (82, None)}.\n",
      "[INFO 04-06 20:17:15] ax.modelbridge.base: Leaving out out-of-design observations for arms: 940_0, 939_0\n",
      "[INFO 04-06 20:21:36] ax.service.ax_client: Generated new trial 1188 with parameters {'z_sh': 13, 'z_sh_1': 7, 'z_sh_2': 5, 'z_p2': 31, 'z_p2_1': 34, 'z_p2_2': 25, 'z_r2': 80, 'z_r2_1': 78, 'z_r2_2': 70, 'x_s': 0.5, 'x_s_1': 0.4, 'x_s_2': 0.3, 'x_p1': 0.649948, 'x_p1_1': 0.549948, 'x_p1_2': 0.449948, 'x_p2': 0.5, 'x_p2_1': 0.4, 'x_p2_2': 0.3, 'x_r2': 1.015298, 'x_r2_1': 0.915298, 'x_r2_2': 0.815298} using model BoTorch.\n",
      "[INFO 04-06 20:21:36] ax.service.ax_client: Completed trial 1188 with data: {'Viable_Cross_Terms': (88, None)}.\n",
      "[INFO 04-06 20:21:37] ax.modelbridge.base: Leaving out out-of-design observations for arms: 940_0, 939_0\n",
      "[INFO 04-06 20:26:13] ax.service.ax_client: Generated new trial 1189 with parameters {'z_sh': 9, 'z_sh_1': 14, 'z_sh_2': 8, 'z_p2': 29, 'z_p2_1': 28, 'z_p2_2': 33, 'z_r2': 82, 'z_r2_1': 76, 'z_r2_2': 82, 'x_s': 0.5, 'x_s_1': 0.4, 'x_s_2': 0.3, 'x_p1': 1.0, 'x_p1_1': 0.9, 'x_p1_2': 0.8, 'x_p2': -0.3, 'x_p2_1': -0.4, 'x_p2_2': -0.5, 'x_r2': 0.523459, 'x_r2_1': 0.423459, 'x_r2_2': 0.323459} using model BoTorch.\n",
      "[INFO 04-06 20:26:13] ax.service.ax_client: Completed trial 1189 with data: {'Viable_Cross_Terms': (33, None)}.\n",
      "[INFO 04-06 20:26:14] ax.modelbridge.base: Leaving out out-of-design observations for arms: 940_0, 939_0\n",
      "[INFO 04-06 20:30:39] ax.service.ax_client: Generated new trial 1190 with parameters {'z_sh': 9, 'z_sh_1': 6, 'z_sh_2': 5, 'z_p2': 30, 'z_p2_1': 28, 'z_p2_2': 25, 'z_r2': 80, 'z_r2_1': 73, 'z_r2_2': 78, 'x_s': 0.5, 'x_s_1': 0.4, 'x_s_2': 0.3, 'x_p1': 0.7008, 'x_p1_1': 0.6008, 'x_p1_2': 0.5008, 'x_p2': 0.5, 'x_p2_1': 0.4, 'x_p2_2': 0.3, 'x_r2': 1.044323, 'x_r2_1': 0.944323, 'x_r2_2': 0.844323} using model BoTorch.\n",
      "[INFO 04-06 20:30:39] ax.service.ax_client: Completed trial 1190 with data: {'Viable_Cross_Terms': (82, None)}.\n",
      "[INFO 04-06 20:30:40] ax.modelbridge.base: Leaving out out-of-design observations for arms: 940_0, 939_0\n",
      "[INFO 04-06 20:35:28] ax.service.ax_client: Generated new trial 1191 with parameters {'z_sh': 12, 'z_sh_1': 8, 'z_sh_2': 5, 'z_p2': 32, 'z_p2_1': 28, 'z_p2_2': 25, 'z_r2': 80, 'z_r2_1': 79, 'z_r2_2': 76, 'x_s': 0.5, 'x_s_1': 0.4, 'x_s_2': 0.3, 'x_p1': 0.684748, 'x_p1_1': 0.584748, 'x_p1_2': 0.484748, 'x_p2': 0.5, 'x_p2_1': 0.4, 'x_p2_2': 0.3, 'x_r2': 1.036547, 'x_r2_1': 0.936547, 'x_r2_2': 0.836547} using model BoTorch.\n",
      "[INFO 04-06 20:35:28] ax.service.ax_client: Completed trial 1191 with data: {'Viable_Cross_Terms': (78, None)}.\n",
      "[INFO 04-06 20:35:28] ax.modelbridge.base: Leaving out out-of-design observations for arms: 940_0, 939_0\n",
      "[INFO 04-06 20:40:11] ax.service.ax_client: Generated new trial 1192 with parameters {'z_sh': 12, 'z_sh_1': 12, 'z_sh_2': 5, 'z_p2': 31, 'z_p2_1': 32, 'z_p2_2': 32, 'z_r2': 80, 'z_r2_1': 82, 'z_r2_2': 77, 'x_s': 0.5, 'x_s_1': 0.4, 'x_s_2': 0.3, 'x_p1': 0.683143, 'x_p1_1': 0.583143, 'x_p1_2': 0.483143, 'x_p2': 0.5, 'x_p2_1': 0.4, 'x_p2_2': 0.3, 'x_r2': 1.037023, 'x_r2_1': 0.937023, 'x_r2_2': 0.837023} using model BoTorch.\n",
      "[INFO 04-06 20:40:11] ax.service.ax_client: Completed trial 1192 with data: {'Viable_Cross_Terms': (81, None)}.\n",
      "[INFO 04-06 20:40:12] ax.modelbridge.base: Leaving out out-of-design observations for arms: 940_0, 939_0\n",
      "[INFO 04-06 20:44:53] ax.service.ax_client: Generated new trial 1193 with parameters {'z_sh': 7, 'z_sh_1': 6, 'z_sh_2': 8, 'z_p2': 27, 'z_p2_1': 34, 'z_p2_2': 25, 'z_r2': 82, 'z_r2_1': 71, 'z_r2_2': 84, 'x_s': 0.5, 'x_s_1': 0.4, 'x_s_2': 0.3, 'x_p1': 1.0, 'x_p1_1': 0.9, 'x_p1_2': 0.8, 'x_p2': -0.3, 'x_p2_1': -0.4, 'x_p2_2': -0.5, 'x_r2': 0.46766, 'x_r2_1': 0.36766, 'x_r2_2': 0.26766} using model BoTorch.\n",
      "[INFO 04-06 20:44:53] ax.service.ax_client: Completed trial 1193 with data: {'Viable_Cross_Terms': (68, None)}.\n",
      "[INFO 04-06 20:44:54] ax.modelbridge.base: Leaving out out-of-design observations for arms: 940_0, 939_0\n",
      "[INFO 04-06 20:49:23] ax.service.ax_client: Generated new trial 1194 with parameters {'z_sh': 10, 'z_sh_1': 6, 'z_sh_2': 5, 'z_p2': 35, 'z_p2_1': 26, 'z_p2_2': 33, 'z_r2': 80, 'z_r2_1': 85, 'z_r2_2': 70, 'x_s': 0.5, 'x_s_1': 0.4, 'x_s_2': 0.3, 'x_p1': 0.66875, 'x_p1_1': 0.56875, 'x_p1_2': 0.46875, 'x_p2': 0.5, 'x_p2_1': 0.4, 'x_p2_2': 0.3, 'x_r2': 1.033058, 'x_r2_1': 0.933058, 'x_r2_2': 0.833058} using model BoTorch.\n",
      "[INFO 04-06 20:49:23] ax.service.ax_client: Completed trial 1194 with data: {'Viable_Cross_Terms': (82, None)}.\n",
      "[INFO 04-06 20:49:25] ax.modelbridge.base: Leaving out out-of-design observations for arms: 940_0, 939_0\n",
      "[INFO 04-06 20:54:04] ax.service.ax_client: Generated new trial 1195 with parameters {'z_sh': 7, 'z_sh_1': 12, 'z_sh_2': 9, 'z_p2': 30, 'z_p2_1': 29, 'z_p2_2': 27, 'z_r2': 82, 'z_r2_1': 84, 'z_r2_2': 84, 'x_s': 0.5, 'x_s_1': 0.4, 'x_s_2': 0.3, 'x_p1': 1.0, 'x_p1_1': 0.9, 'x_p1_2': 0.8, 'x_p2': -0.3, 'x_p2_1': -0.4, 'x_p2_2': -0.5, 'x_r2': 0.493894, 'x_r2_1': 0.393894, 'x_r2_2': 0.293894} using model BoTorch.\n",
      "[INFO 04-06 20:54:04] ax.service.ax_client: Completed trial 1195 with data: {'Viable_Cross_Terms': (67, None)}.\n",
      "[INFO 04-06 20:54:06] ax.modelbridge.base: Leaving out out-of-design observations for arms: 940_0, 939_0\n",
      "[INFO 04-06 20:58:20] ax.service.ax_client: Generated new trial 1196 with parameters {'z_sh': 11, 'z_sh_1': 10, 'z_sh_2': 5, 'z_p2': 29, 'z_p2_1': 33, 'z_p2_2': 32, 'z_r2': 80, 'z_r2_1': 73, 'z_r2_2': 82, 'x_s': 0.5, 'x_s_1': 0.4, 'x_s_2': 0.3, 'x_p1': 0.588006, 'x_p1_1': 0.488006, 'x_p1_2': 0.388006, 'x_p2': 0.5, 'x_p2_1': 0.4, 'x_p2_2': 0.3, 'x_r2': 1.080416, 'x_r2_1': 0.980416, 'x_r2_2': 0.880416} using model BoTorch.\n",
      "[INFO 04-06 20:58:20] ax.service.ax_client: Completed trial 1196 with data: {'Viable_Cross_Terms': (79, None)}.\n",
      "[INFO 04-06 20:58:22] ax.modelbridge.base: Leaving out out-of-design observations for arms: 940_0, 939_0\n",
      "[INFO 04-06 21:03:02] ax.service.ax_client: Generated new trial 1197 with parameters {'z_sh': 7, 'z_sh_1': 6, 'z_sh_2': 5, 'z_p2': 29, 'z_p2_1': 32, 'z_p2_2': 28, 'z_r2': 80, 'z_r2_1': 85, 'z_r2_2': 79, 'x_s': 0.5, 'x_s_1': 0.4, 'x_s_2': 0.3, 'x_p1': 0.713038, 'x_p1_1': 0.613038, 'x_p1_2': 0.513038, 'x_p2': 0.5, 'x_p2_1': 0.4, 'x_p2_2': 0.3, 'x_r2': 1.058184, 'x_r2_1': 0.958184, 'x_r2_2': 0.858184} using model BoTorch.\n",
      "[INFO 04-06 21:03:02] ax.service.ax_client: Completed trial 1197 with data: {'Viable_Cross_Terms': (84, None)}.\n",
      "[INFO 04-06 21:03:04] ax.modelbridge.base: Leaving out out-of-design observations for arms: 940_0, 939_0\n",
      "[INFO 04-06 21:07:41] ax.service.ax_client: Generated new trial 1198 with parameters {'z_sh': 8, 'z_sh_1': 11, 'z_sh_2': 5, 'z_p2': 33, 'z_p2_1': 26, 'z_p2_2': 28, 'z_r2': 80, 'z_r2_1': 71, 'z_r2_2': 80, 'x_s': 0.5, 'x_s_1': 0.4, 'x_s_2': 0.3, 'x_p1': 0.707495, 'x_p1_1': 0.607495, 'x_p1_2': 0.507495, 'x_p2': 0.5, 'x_p2_1': 0.4, 'x_p2_2': 0.3, 'x_r2': 1.059908, 'x_r2_1': 0.959908, 'x_r2_2': 0.859908} using model BoTorch.\n",
      "[INFO 04-06 21:07:41] ax.service.ax_client: Completed trial 1198 with data: {'Viable_Cross_Terms': (86, None)}.\n",
      "[INFO 04-06 21:07:42] ax.modelbridge.base: Leaving out out-of-design observations for arms: 940_0, 939_0\n",
      "[INFO 04-06 21:12:26] ax.service.ax_client: Generated new trial 1199 with parameters {'z_sh': 11, 'z_sh_1': 11, 'z_sh_2': 5, 'z_p2': 30, 'z_p2_1': 33, 'z_p2_2': 31, 'z_r2': 80, 'z_r2_1': 71, 'z_r2_2': 84, 'x_s': 0.5, 'x_s_1': 0.4, 'x_s_2': 0.3, 'x_p1': 0.709881, 'x_p1_1': 0.609881, 'x_p1_2': 0.509881, 'x_p2': 0.5, 'x_p2_1': 0.4, 'x_p2_2': 0.3, 'x_r2': 1.055106, 'x_r2_1': 0.955106, 'x_r2_2': 0.855106} using model BoTorch.\n",
      "[INFO 04-06 21:12:26] ax.service.ax_client: Completed trial 1199 with data: {'Viable_Cross_Terms': (83, None)}.\n",
      "[INFO 04-06 21:12:27] ax.modelbridge.base: Leaving out out-of-design observations for arms: 940_0, 939_0\n",
      "[INFO 04-06 21:17:16] ax.service.ax_client: Generated new trial 1200 with parameters {'z_sh': 14, 'z_sh_1': 7, 'z_sh_2': 5, 'z_p2': 34, 'z_p2_1': 29, 'z_p2_2': 28, 'z_r2': 80, 'z_r2_1': 72, 'z_r2_2': 81, 'x_s': 0.5, 'x_s_1': 0.4, 'x_s_2': 0.3, 'x_p1': 0.687659, 'x_p1_1': 0.587659, 'x_p1_2': 0.487659, 'x_p2': 0.5, 'x_p2_1': 0.4, 'x_p2_2': 0.3, 'x_r2': 1.042196, 'x_r2_1': 0.942196, 'x_r2_2': 0.842196} using model BoTorch.\n",
      "[INFO 04-06 21:17:16] ax.service.ax_client: Completed trial 1200 with data: {'Viable_Cross_Terms': (83, None)}.\n",
      "[INFO 04-06 21:17:16] ax.modelbridge.base: Leaving out out-of-design observations for arms: 940_0, 939_0\n",
      "[INFO 04-06 21:22:02] ax.service.ax_client: Generated new trial 1201 with parameters {'z_sh': 7, 'z_sh_1': 8, 'z_sh_2': 13, 'z_p2': 31, 'z_p2_1': 27, 'z_p2_2': 30, 'z_r2': 85, 'z_r2_1': 75, 'z_r2_2': 80, 'x_s': -0.3, 'x_s_1': -0.4, 'x_s_2': -0.5, 'x_p1': -0.8, 'x_p1_1': -0.9, 'x_p1_2': -1.0, 'x_p2': 0.5, 'x_p2_1': -0.4, 'x_p2_2': -0.5, 'x_r2': -1.3, 'x_r2_1': -1.4, 'x_r2_2': -1.5} using model BoTorch.\n",
      "[INFO 04-06 21:22:02] ax.service.ax_client: Completed trial 1201 with data: {'Viable_Cross_Terms': (0, None)}.\n",
      "[INFO 04-06 21:22:03] ax.modelbridge.base: Leaving out out-of-design observations for arms: 940_0, 939_0\n",
      "[INFO 04-06 21:26:27] ax.service.ax_client: Generated new trial 1202 with parameters {'z_sh': 15, 'z_sh_1': 10, 'z_sh_2': 5, 'z_p2': 33, 'z_p2_1': 30, 'z_p2_2': 25, 'z_r2': 80, 'z_r2_1': 74, 'z_r2_2': 76, 'x_s': 0.5, 'x_s_1': 0.4, 'x_s_2': 0.3, 'x_p1': 0.661646, 'x_p1_1': 0.561646, 'x_p1_2': 0.461646, 'x_p2': 0.5, 'x_p2_1': 0.4, 'x_p2_2': 0.3, 'x_r2': 1.024738, 'x_r2_1': 0.924738, 'x_r2_2': 0.824738} using model BoTorch.\n",
      "[INFO 04-06 21:26:27] ax.service.ax_client: Completed trial 1202 with data: {'Viable_Cross_Terms': (82, None)}.\n",
      "[INFO 04-06 21:26:28] ax.modelbridge.base: Leaving out out-of-design observations for arms: 940_0, 939_0\n",
      "[INFO 04-06 21:30:59] ax.service.ax_client: Generated new trial 1203 with parameters {'z_sh': 7, 'z_sh_1': 6, 'z_sh_2': 5, 'z_p2': 35, 'z_p2_1': 30, 'z_p2_2': 25, 'z_r2': 81, 'z_r2_1': 85, 'z_r2_2': 84, 'x_s': 0.5, 'x_s_1': 0.4, 'x_s_2': -0.5, 'x_p1': -0.131885, 'x_p1_1': -0.9, 'x_p1_2': -1.0, 'x_p2': 0.5, 'x_p2_1': 0.4, 'x_p2_2': -0.5, 'x_r2': -0.143981, 'x_r2_1': -1.4, 'x_r2_2': -1.5} using model BoTorch.\n",
      "[INFO 04-06 21:30:59] ax.service.ax_client: Completed trial 1203 with data: {'Viable_Cross_Terms': (0, None)}.\n",
      "[INFO 04-06 21:30:59] ax.modelbridge.base: Leaving out out-of-design observations for arms: 940_0, 939_0\n",
      "[INFO 04-06 21:35:34] ax.service.ax_client: Generated new trial 1204 with parameters {'z_sh': 7, 'z_sh_1': 10, 'z_sh_2': 7, 'z_p2': 27, 'z_p2_1': 33, 'z_p2_2': 29, 'z_r2': 82, 'z_r2_1': 74, 'z_r2_2': 80, 'x_s': 0.5, 'x_s_1': 0.4, 'x_s_2': 0.3, 'x_p1': 1.0, 'x_p1_1': 0.9, 'x_p1_2': 0.8, 'x_p2': -0.3, 'x_p2_1': -0.4, 'x_p2_2': -0.5, 'x_r2': 0.487512, 'x_r2_1': 0.387512, 'x_r2_2': 0.287512} using model BoTorch.\n",
      "[INFO 04-06 21:35:34] ax.service.ax_client: Completed trial 1204 with data: {'Viable_Cross_Terms': (67, None)}.\n",
      "[INFO 04-06 21:35:35] ax.modelbridge.base: Leaving out out-of-design observations for arms: 1204_0, 940_0, 939_0\n",
      "[INFO 04-06 21:38:53] ax.service.ax_client: Generated new trial 1205 with parameters {'z_sh': 8, 'z_sh_1': 7, 'z_sh_2': 5, 'z_p2': 32, 'z_p2_1': 29, 'z_p2_2': 30, 'z_r2': 80, 'z_r2_1': 76, 'z_r2_2': 75, 'x_s': 0.5, 'x_s_1': 0.4, 'x_s_2': 0.3, 'x_p1': 0.686266, 'x_p1_1': 0.586266, 'x_p1_2': 0.486266, 'x_p2': 0.5, 'x_p2_1': 0.4, 'x_p2_2': 0.3, 'x_r2': 1.038695, 'x_r2_1': 0.938695, 'x_r2_2': 0.838695} using model BoTorch.\n",
      "[INFO 04-06 21:38:53] ax.service.ax_client: Completed trial 1205 with data: {'Viable_Cross_Terms': (78, None)}.\n",
      "[INFO 04-06 21:38:54] ax.modelbridge.base: Leaving out out-of-design observations for arms: 1204_0, 940_0, 939_0\n",
      "[INFO 04-06 21:43:26] ax.service.ax_client: Generated new trial 1206 with parameters {'z_sh': 10, 'z_sh_1': 6, 'z_sh_2': 5, 'z_p2': 35, 'z_p2_1': 26, 'z_p2_2': 33, 'z_r2': 80, 'z_r2_1': 85, 'z_r2_2': 71, 'x_s': 0.5, 'x_s_1': 0.4, 'x_s_2': 0.3, 'x_p1': 0.668258, 'x_p1_1': 0.568258, 'x_p1_2': 0.468258, 'x_p2': 0.5, 'x_p2_1': 0.4, 'x_p2_2': 0.3, 'x_r2': 1.034245, 'x_r2_1': 0.934245, 'x_r2_2': 0.834245} using model BoTorch.\n",
      "[INFO 04-06 21:43:26] ax.service.ax_client: Completed trial 1206 with data: {'Viable_Cross_Terms': (82, None)}.\n",
      "[INFO 04-06 21:43:26] ax.modelbridge.base: Leaving out out-of-design observations for arms: 1204_0, 940_0, 939_0\n",
      "[INFO 04-06 21:48:15] ax.service.ax_client: Generated new trial 1207 with parameters {'z_sh': 10, 'z_sh_1': 6, 'z_sh_2': 5, 'z_p2': 35, 'z_p2_1': 26, 'z_p2_2': 33, 'z_r2': 80, 'z_r2_1': 85, 'z_r2_2': 72, 'x_s': 0.5, 'x_s_1': 0.4, 'x_s_2': 0.3, 'x_p1': 0.672808, 'x_p1_1': 0.572808, 'x_p1_2': 0.472808, 'x_p2': 0.5, 'x_p2_1': 0.4, 'x_p2_2': 0.3, 'x_r2': 1.036258, 'x_r2_1': 0.936258, 'x_r2_2': 0.836258} using model BoTorch.\n",
      "[INFO 04-06 21:48:15] ax.service.ax_client: Completed trial 1207 with data: {'Viable_Cross_Terms': (83, None)}.\n",
      "[INFO 04-06 21:48:16] ax.modelbridge.base: Leaving out out-of-design observations for arms: 1204_0, 940_0, 939_0\n",
      "[INFO 04-06 21:53:25] ax.service.ax_client: Generated new trial 1208 with parameters {'z_sh': 10, 'z_sh_1': 6, 'z_sh_2': 5, 'z_p2': 35, 'z_p2_1': 34, 'z_p2_2': 33, 'z_r2': 80, 'z_r2_1': 85, 'z_r2_2': 71, 'x_s': 0.5, 'x_s_1': 0.4, 'x_s_2': 0.3, 'x_p1': 0.670178, 'x_p1_1': 0.570178, 'x_p1_2': 0.470178, 'x_p2': 0.5, 'x_p2_1': 0.4, 'x_p2_2': 0.3, 'x_r2': 1.034461, 'x_r2_1': 0.934461, 'x_r2_2': 0.834461} using model BoTorch.\n",
      "[INFO 04-06 21:53:25] ax.service.ax_client: Completed trial 1208 with data: {'Viable_Cross_Terms': (82, None)}.\n",
      "[INFO 04-06 21:53:26] ax.modelbridge.base: Leaving out out-of-design observations for arms: 1204_0, 940_0, 939_0\n",
      "[INFO 04-06 21:58:04] ax.service.ax_client: Generated new trial 1209 with parameters {'z_sh': 14, 'z_sh_1': 10, 'z_sh_2': 5, 'z_p2': 35, 'z_p2_1': 30, 'z_p2_2': 31, 'z_r2': 80, 'z_r2_1': 76, 'z_r2_2': 73, 'x_s': 0.5, 'x_s_1': 0.4, 'x_s_2': 0.3, 'x_p1': 0.655066, 'x_p1_1': 0.555066, 'x_p1_2': 0.455066, 'x_p2': 0.5, 'x_p2_1': 0.4, 'x_p2_2': 0.3, 'x_r2': 1.025592, 'x_r2_1': 0.925592, 'x_r2_2': 0.825592} using model BoTorch.\n",
      "[INFO 04-06 21:58:04] ax.service.ax_client: Completed trial 1209 with data: {'Viable_Cross_Terms': (82, None)}.\n",
      "[INFO 04-06 21:58:06] ax.modelbridge.base: Leaving out out-of-design observations for arms: 1204_0, 940_0, 939_0\n",
      "[INFO 04-06 22:02:26] ax.service.ax_client: Generated new trial 1210 with parameters {'z_sh': 15, 'z_sh_1': 10, 'z_sh_2': 5, 'z_p2': 27, 'z_p2_1': 27, 'z_p2_2': 30, 'z_r2': 80, 'z_r2_1': 82, 'z_r2_2': 83, 'x_s': 0.5, 'x_s_1': 0.4, 'x_s_2': 0.3, 'x_p1': 0.692965, 'x_p1_1': 0.592965, 'x_p1_2': 0.492965, 'x_p2': 0.5, 'x_p2_1': 0.4, 'x_p2_2': 0.3, 'x_r2': 1.035039, 'x_r2_1': 0.935039, 'x_r2_2': 0.835039} using model BoTorch.\n",
      "[INFO 04-06 22:02:26] ax.service.ax_client: Completed trial 1210 with data: {'Viable_Cross_Terms': (79, None)}.\n",
      "[INFO 04-06 22:02:27] ax.modelbridge.base: Leaving out out-of-design observations for arms: 1204_0, 940_0, 939_0\n",
      "[INFO 04-06 22:07:11] ax.service.ax_client: Generated new trial 1211 with parameters {'z_sh': 7, 'z_sh_1': 10, 'z_sh_2': 13, 'z_p2': 32, 'z_p2_1': 26, 'z_p2_2': 27, 'z_r2': 82, 'z_r2_1': 76, 'z_r2_2': 73, 'x_s': 0.5, 'x_s_1': 0.4, 'x_s_2': 0.3, 'x_p1': 1.0, 'x_p1_1': 0.9, 'x_p1_2': 0.8, 'x_p2': -0.3, 'x_p2_1': -0.4, 'x_p2_2': -0.5, 'x_r2': 0.497098, 'x_r2_1': 0.397098, 'x_r2_2': 0.297098} using model BoTorch.\n",
      "[INFO 04-06 22:07:11] ax.service.ax_client: Completed trial 1211 with data: {'Viable_Cross_Terms': (67, None)}.\n",
      "[INFO 04-06 22:07:12] ax.modelbridge.base: Leaving out out-of-design observations for arms: 1204_0, 940_0, 939_0\n",
      "[INFO 04-06 22:11:45] ax.service.ax_client: Generated new trial 1212 with parameters {'z_sh': 12, 'z_sh_1': 6, 'z_sh_2': 5, 'z_p2': 35, 'z_p2_1': 34, 'z_p2_2': 26, 'z_r2': 75, 'z_r2_1': 74, 'z_r2_2': 81, 'x_s': 0.5, 'x_s_1': 0.4, 'x_s_2': 0.3, 'x_p1': 0.114581, 'x_p1_1': -0.9, 'x_p1_2': -1.0, 'x_p2': -0.3, 'x_p2_1': -0.4, 'x_p2_2': -0.5, 'x_r2': 0.559833, 'x_r2_1': 0.459833, 'x_r2_2': 0.359833} using model BoTorch.\n",
      "[INFO 04-06 22:11:45] ax.service.ax_client: Completed trial 1212 with data: {'Viable_Cross_Terms': (6, None)}.\n",
      "[INFO 04-06 22:11:46] ax.modelbridge.base: Leaving out out-of-design observations for arms: 1204_0, 940_0, 939_0\n",
      "[INFO 04-06 22:16:30] ax.service.ax_client: Generated new trial 1213 with parameters {'z_sh': 11, 'z_sh_1': 9, 'z_sh_2': 5, 'z_p2': 34, 'z_p2_1': 26, 'z_p2_2': 28, 'z_r2': 80, 'z_r2_1': 75, 'z_r2_2': 78, 'x_s': 0.5, 'x_s_1': 0.4, 'x_s_2': 0.3, 'x_p1': 0.685138, 'x_p1_1': 0.585138, 'x_p1_2': 0.485138, 'x_p2': 0.5, 'x_p2_1': 0.4, 'x_p2_2': 0.3, 'x_r2': 1.044701, 'x_r2_1': 0.944701, 'x_r2_2': 0.844701} using model BoTorch.\n",
      "[INFO 04-06 22:16:30] ax.service.ax_client: Completed trial 1213 with data: {'Viable_Cross_Terms': (84, None)}.\n",
      "[INFO 04-06 22:16:30] ax.modelbridge.base: Leaving out out-of-design observations for arms: 1204_0, 940_0, 939_0\n",
      "[INFO 04-06 22:20:36] ax.service.ax_client: Generated new trial 1214 with parameters {'z_sh': 7, 'z_sh_1': 9, 'z_sh_2': 5, 'z_p2': 31, 'z_p2_1': 26, 'z_p2_2': 33, 'z_r2': 80, 'z_r2_1': 82, 'z_r2_2': 75, 'x_s': 0.5, 'x_s_1': 0.4, 'x_s_2': 0.3, 'x_p1': 0.688599, 'x_p1_1': 0.588599, 'x_p1_2': 0.488599, 'x_p2': 0.5, 'x_p2_1': 0.4, 'x_p2_2': 0.3, 'x_r2': 1.047223, 'x_r2_1': 0.947223, 'x_r2_2': 0.847223} using model BoTorch.\n",
      "[INFO 04-06 22:20:36] ax.service.ax_client: Completed trial 1214 with data: {'Viable_Cross_Terms': (88, None)}.\n",
      "[INFO 04-06 22:20:37] ax.modelbridge.base: Leaving out out-of-design observations for arms: 1204_0, 940_0, 939_0\n",
      "[INFO 04-06 22:25:36] ax.service.ax_client: Generated new trial 1215 with parameters {'z_sh': 12, 'z_sh_1': 6, 'z_sh_2': 5, 'z_p2': 28, 'z_p2_1': 27, 'z_p2_2': 31, 'z_r2': 78, 'z_r2_1': 84, 'z_r2_2': 79, 'x_s': 0.5, 'x_s_1': 0.4, 'x_s_2': 0.3, 'x_p1': 0.66, 'x_p1_1': 0.56, 'x_p1_2': 0.46, 'x_p2': 0.334026, 'x_p2_1': 0.234026, 'x_p2_2': 0.134026, 'x_r2': 1.018593, 'x_r2_1': 0.918593, 'x_r2_2': 0.818593} using model BoTorch.\n",
      "[INFO 04-06 22:25:36] ax.service.ax_client: Completed trial 1215 with data: {'Viable_Cross_Terms': (43, None)}.\n",
      "[INFO 04-06 22:25:38] ax.modelbridge.base: Leaving out out-of-design observations for arms: 1204_0, 940_0, 939_0\n",
      "[INFO 04-06 22:30:28] ax.service.ax_client: Generated new trial 1216 with parameters {'z_sh': 15, 'z_sh_1': 7, 'z_sh_2': 5, 'z_p2': 34, 'z_p2_1': 33, 'z_p2_2': 25, 'z_r2': 72, 'z_r2_1': 78, 'z_r2_2': 78, 'x_s': 0.5, 'x_s_1': 0.4, 'x_s_2': -0.5, 'x_p1': 0.368181, 'x_p1_1': 0.268181, 'x_p1_2': 0.168181, 'x_p2': 0.5, 'x_p2_1': -0.4, 'x_p2_2': -0.5, 'x_r2': 1.5, 'x_r2_1': 1.4, 'x_r2_2': 1.3} using model BoTorch.\n",
      "[INFO 04-06 22:30:28] ax.service.ax_client: Completed trial 1216 with data: {'Viable_Cross_Terms': (0, None)}.\n",
      "[INFO 04-06 22:30:29] ax.modelbridge.base: Leaving out out-of-design observations for arms: 1204_0, 940_0, 939_0\n",
      "[INFO 04-06 22:35:19] ax.service.ax_client: Generated new trial 1217 with parameters {'z_sh': 13, 'z_sh_1': 6, 'z_sh_2': 5, 'z_p2': 29, 'z_p2_1': 27, 'z_p2_2': 26, 'z_r2': 80, 'z_r2_1': 77, 'z_r2_2': 70, 'x_s': 0.5, 'x_s_1': 0.4, 'x_s_2': 0.3, 'x_p1': 0.644898, 'x_p1_1': 0.544898, 'x_p1_2': 0.444898, 'x_p2': 0.5, 'x_p2_1': 0.4, 'x_p2_2': 0.3, 'x_r2': 1.020623, 'x_r2_1': 0.920623, 'x_r2_2': 0.820623} using model BoTorch.\n",
      "[INFO 04-06 22:35:19] ax.service.ax_client: Completed trial 1217 with data: {'Viable_Cross_Terms': (80, None)}.\n",
      "[INFO 04-06 22:35:20] ax.modelbridge.base: Leaving out out-of-design observations for arms: 1204_0, 940_0, 939_0\n",
      "[INFO 04-06 22:40:31] ax.service.ax_client: Generated new trial 1218 with parameters {'z_sh': 9, 'z_sh_1': 9, 'z_sh_2': 5, 'z_p2': 31, 'z_p2_1': 29, 'z_p2_2': 29, 'z_r2': 80, 'z_r2_1': 83, 'z_r2_2': 73, 'x_s': 0.5, 'x_s_1': 0.4, 'x_s_2': 0.3, 'x_p1': 0.719254, 'x_p1_1': 0.619254, 'x_p1_2': 0.519254, 'x_p2': 0.411374, 'x_p2_1': 0.311374, 'x_p2_2': 0.211374, 'x_r2': 1.07466, 'x_r2_1': 0.97466, 'x_r2_2': 0.87466} using model BoTorch.\n",
      "[INFO 04-06 22:40:31] ax.service.ax_client: Completed trial 1218 with data: {'Viable_Cross_Terms': (81, None)}.\n",
      "[INFO 04-06 22:40:32] ax.modelbridge.base: Leaving out out-of-design observations for arms: 1204_0, 940_0, 939_0\n",
      "[INFO 04-06 22:45:19] ax.service.ax_client: Generated new trial 1219 with parameters {'z_sh': 7, 'z_sh_1': 6, 'z_sh_2': 9, 'z_p2': 27, 'z_p2_1': 34, 'z_p2_2': 33, 'z_r2': 82, 'z_r2_1': 85, 'z_r2_2': 84, 'x_s': 0.5, 'x_s_1': 0.4, 'x_s_2': 0.3, 'x_p1': 1.0, 'x_p1_1': 0.9, 'x_p1_2': 0.8, 'x_p2': -0.3, 'x_p2_1': -0.4, 'x_p2_2': -0.5, 'x_r2': 0.467045, 'x_r2_1': 0.367045, 'x_r2_2': 0.267045} using model BoTorch.\n",
      "[INFO 04-06 22:45:19] ax.service.ax_client: Completed trial 1219 with data: {'Viable_Cross_Terms': (68, None)}.\n",
      "[INFO 04-06 22:45:19] ax.modelbridge.base: Leaving out out-of-design observations for arms: 1204_0, 940_0, 939_0\n",
      "[INFO 04-06 22:50:02] ax.service.ax_client: Generated new trial 1220 with parameters {'z_sh': 7, 'z_sh_1': 10, 'z_sh_2': 9, 'z_p2': 32, 'z_p2_1': 29, 'z_p2_2': 27, 'z_r2': 82, 'z_r2_1': 81, 'z_r2_2': 79, 'x_s': 0.5, 'x_s_1': 0.4, 'x_s_2': 0.3, 'x_p1': 1.0, 'x_p1_1': 0.9, 'x_p1_2': 0.8, 'x_p2': -0.3, 'x_p2_1': -0.4, 'x_p2_2': -0.5, 'x_r2': 0.474457, 'x_r2_1': 0.374457, 'x_r2_2': 0.274457} using model BoTorch.\n",
      "[INFO 04-06 22:50:02] ax.service.ax_client: Completed trial 1220 with data: {'Viable_Cross_Terms': (71, None)}.\n",
      "[INFO 04-06 22:50:03] ax.modelbridge.base: Leaving out out-of-design observations for arms: 1204_0, 940_0, 939_0\n",
      "[INFO 04-06 22:54:39] ax.service.ax_client: Generated new trial 1221 with parameters {'z_sh': 13, 'z_sh_1': 7, 'z_sh_2': 5, 'z_p2': 35, 'z_p2_1': 31, 'z_p2_2': 25, 'z_r2': 80, 'z_r2_1': 80, 'z_r2_2': 77, 'x_s': 0.5, 'x_s_1': 0.4, 'x_s_2': 0.3, 'x_p1': 0.699899, 'x_p1_1': 0.599899, 'x_p1_2': 0.499899, 'x_p2': 0.5, 'x_p2_1': 0.4, 'x_p2_2': 0.3, 'x_r2': 1.091772, 'x_r2_1': 0.991772, 'x_r2_2': 0.891772} using model BoTorch.\n",
      "[INFO 04-06 22:54:40] ax.service.ax_client: Completed trial 1221 with data: {'Viable_Cross_Terms': (88, None)}.\n",
      "[INFO 04-06 22:54:40] ax.modelbridge.base: Leaving out out-of-design observations for arms: 1204_0, 940_0, 939_0\n",
      "[INFO 04-06 22:59:50] ax.service.ax_client: Generated new trial 1222 with parameters {'z_sh': 10, 'z_sh_1': 6, 'z_sh_2': 5, 'z_p2': 35, 'z_p2_1': 26, 'z_p2_2': 33, 'z_r2': 80, 'z_r2_1': 85, 'z_r2_2': 71, 'x_s': 0.5, 'x_s_1': 0.4, 'x_s_2': 0.3, 'x_p1': 0.58161, 'x_p1_1': 0.48161, 'x_p1_2': 0.38161, 'x_p2': 0.474905, 'x_p2_1': 0.374905, 'x_p2_2': 0.274905, 'x_r2': 1.072193, 'x_r2_1': 0.972193, 'x_r2_2': 0.872193} using model BoTorch.\n",
      "[INFO 04-06 22:59:50] ax.service.ax_client: Completed trial 1222 with data: {'Viable_Cross_Terms': (74, None)}.\n",
      "[INFO 04-06 22:59:51] ax.modelbridge.base: Leaving out out-of-design observations for arms: 1204_0, 940_0, 939_0\n",
      "[INFO 04-06 23:04:41] ax.service.ax_client: Generated new trial 1223 with parameters {'z_sh': 8, 'z_sh_1': 13, 'z_sh_2': 13, 'z_p2': 35, 'z_p2_1': 30, 'z_p2_2': 26, 'z_r2': 78, 'z_r2_1': 84, 'z_r2_2': 74, 'x_s': 0.5, 'x_s_1': 0.4, 'x_s_2': 0.3, 'x_p1': -0.8, 'x_p1_1': -0.9, 'x_p1_2': -1.0, 'x_p2': -0.3, 'x_p2_1': -0.4, 'x_p2_2': -0.5, 'x_r2': -0.723587, 'x_r2_1': -0.823587, 'x_r2_2': -0.923587} using model BoTorch.\n",
      "[INFO 04-06 23:04:41] ax.service.ax_client: Completed trial 1223 with data: {'Viable_Cross_Terms': (3, None)}.\n",
      "[INFO 04-06 23:04:42] ax.modelbridge.base: Leaving out out-of-design observations for arms: 1204_0, 940_0, 939_0\n",
      "[INFO 04-06 23:09:29] ax.service.ax_client: Generated new trial 1224 with parameters {'z_sh': 15, 'z_sh_1': 6, 'z_sh_2': 5, 'z_p2': 27, 'z_p2_1': 26, 'z_p2_2': 25, 'z_r2': 74, 'z_r2_1': 82, 'z_r2_2': 84, 'x_s': -0.3, 'x_s_1': -0.4, 'x_s_2': -0.5, 'x_p1': 0.178424, 'x_p1_1': 0.078424, 'x_p1_2': -0.021576, 'x_p2': -0.3, 'x_p2_1': -0.4, 'x_p2_2': -0.5, 'x_r2': -0.445053, 'x_r2_1': -1.4, 'x_r2_2': -1.5} using model BoTorch.\n",
      "[INFO 04-06 23:09:29] ax.service.ax_client: Completed trial 1224 with data: {'Viable_Cross_Terms': (4, None)}.\n",
      "[INFO 04-06 23:09:29] ax.modelbridge.base: Leaving out out-of-design observations for arms: 1204_0, 940_0, 939_0\n",
      "[INFO 04-06 23:14:24] ax.service.ax_client: Generated new trial 1225 with parameters {'z_sh': 7, 'z_sh_1': 11, 'z_sh_2': 5, 'z_p2': 28, 'z_p2_1': 27, 'z_p2_2': 28, 'z_r2': 75, 'z_r2_1': 73, 'z_r2_2': 80, 'x_s': 0.5, 'x_s_1': 0.4, 'x_s_2': 0.3, 'x_p1': 0.742695, 'x_p1_1': 0.642695, 'x_p1_2': 0.542695, 'x_p2': 0.5, 'x_p2_1': 0.4, 'x_p2_2': 0.3, 'x_r2': 0.793084, 'x_r2_1': 0.693084, 'x_r2_2': 0.593084} using model BoTorch.\n",
      "[INFO 04-06 23:14:24] ax.service.ax_client: Completed trial 1225 with data: {'Viable_Cross_Terms': (20, None)}.\n",
      "[INFO 04-06 23:14:25] ax.modelbridge.base: Leaving out out-of-design observations for arms: 1204_0, 940_0, 939_0\n",
      "[INFO 04-06 23:19:09] ax.service.ax_client: Generated new trial 1226 with parameters {'z_sh': 15, 'z_sh_1': 10, 'z_sh_2': 5, 'z_p2': 28, 'z_p2_1': 26, 'z_p2_2': 28, 'z_r2': 75, 'z_r2_1': 83, 'z_r2_2': 76, 'x_s': 0.5, 'x_s_1': -0.4, 'x_s_2': -0.5, 'x_p1': -0.483921, 'x_p1_1': -0.9, 'x_p1_2': -1.0, 'x_p2': 0.5, 'x_p2_1': 0.4, 'x_p2_2': -0.5, 'x_r2': 0.987071, 'x_r2_1': 0.887071, 'x_r2_2': 0.787071} using model BoTorch.\n",
      "[INFO 04-06 23:19:09] ax.service.ax_client: Completed trial 1226 with data: {'Viable_Cross_Terms': (0, None)}.\n",
      "[INFO 04-06 23:19:09] ax.modelbridge.base: Leaving out out-of-design observations for arms: 1204_0, 940_0, 939_0\n",
      "[INFO 04-06 23:24:25] ax.service.ax_client: Generated new trial 1227 with parameters {'z_sh': 7, 'z_sh_1': 6, 'z_sh_2': 13, 'z_p2': 27, 'z_p2_1': 27, 'z_p2_2': 30, 'z_r2': 77, 'z_r2_1': 72, 'z_r2_2': 81, 'x_s': 0.5, 'x_s_1': -0.4, 'x_s_2': -0.5, 'x_p1': -0.55297, 'x_p1_1': -0.65297, 'x_p1_2': -0.75297, 'x_p2': 0.5, 'x_p2_1': 0.4, 'x_p2_2': 0.3, 'x_r2': 0.048313, 'x_r2_1': -1.4, 'x_r2_2': -1.5} using model BoTorch.\n",
      "[INFO 04-06 23:24:25] ax.service.ax_client: Completed trial 1227 with data: {'Viable_Cross_Terms': (8, None)}.\n",
      "[INFO 04-06 23:24:26] ax.modelbridge.base: Leaving out out-of-design observations for arms: 1204_0, 940_0, 939_0\n",
      "[INFO 04-06 23:27:59] ax.service.ax_client: Generated new trial 1228 with parameters {'z_sh': 7, 'z_sh_1': 6, 'z_sh_2': 5, 'z_p2': 28, 'z_p2_1': 32, 'z_p2_2': 30, 'z_r2': 80, 'z_r2_1': 84, 'z_r2_2': 83, 'x_s': 0.5, 'x_s_1': 0.4, 'x_s_2': 0.3, 'x_p1': 0.704569, 'x_p1_1': 0.604569, 'x_p1_2': 0.504569, 'x_p2': 0.5, 'x_p2_1': 0.4, 'x_p2_2': 0.3, 'x_r2': 1.069989, 'x_r2_1': 0.969989, 'x_r2_2': 0.869989} using model BoTorch.\n",
      "[INFO 04-06 23:27:59] ax.service.ax_client: Completed trial 1228 with data: {'Viable_Cross_Terms': (86, None)}.\n",
      "[INFO 04-06 23:28:00] ax.modelbridge.base: Leaving out out-of-design observations for arms: 1204_0, 940_0, 939_0\n",
      "[INFO 04-06 23:33:13] ax.service.ax_client: Generated new trial 1229 with parameters {'z_sh': 11, 'z_sh_1': 10, 'z_sh_2': 13, 'z_p2': 34, 'z_p2_1': 30, 'z_p2_2': 29, 'z_r2': 85, 'z_r2_1': 75, 'z_r2_2': 73, 'x_s': 0.5, 'x_s_1': 0.4, 'x_s_2': 0.3, 'x_p1': 0.371354, 'x_p1_1': 0.271354, 'x_p1_2': -1.0, 'x_p2': 0.5, 'x_p2_1': 0.4, 'x_p2_2': 0.3, 'x_r2': -0.414779, 'x_r2_1': -0.514779, 'x_r2_2': -0.614779} using model BoTorch.\n",
      "[INFO 04-06 23:33:13] ax.service.ax_client: Completed trial 1229 with data: {'Viable_Cross_Terms': (12, None)}.\n",
      "[INFO 04-06 23:33:14] ax.modelbridge.base: Leaving out out-of-design observations for arms: 1204_0, 940_0, 939_0\n",
      "[INFO 04-06 23:38:07] ax.service.ax_client: Generated new trial 1230 with parameters {'z_sh': 10, 'z_sh_1': 9, 'z_sh_2': 6, 'z_p2': 28, 'z_p2_1': 30, 'z_p2_2': 25, 'z_r2': 78, 'z_r2_1': 75, 'z_r2_2': 82, 'x_s': 0.5, 'x_s_1': 0.4, 'x_s_2': 0.3, 'x_p1': 0.673364, 'x_p1_1': 0.573364, 'x_p1_2': 0.473364, 'x_p2': 0.319796, 'x_p2_1': 0.219796, 'x_p2_2': 0.119796, 'x_r2': 1.012083, 'x_r2_1': 0.912083, 'x_r2_2': 0.812083} using model BoTorch.\n",
      "[INFO 04-06 23:38:07] ax.service.ax_client: Completed trial 1230 with data: {'Viable_Cross_Terms': (35, None)}.\n",
      "[INFO 04-06 23:38:08] ax.modelbridge.base: Leaving out out-of-design observations for arms: 1204_0, 940_0, 939_0\n",
      "[INFO 04-06 23:43:03] ax.service.ax_client: Generated new trial 1231 with parameters {'z_sh': 10, 'z_sh_1': 7, 'z_sh_2': 5, 'z_p2': 30, 'z_p2_1': 30, 'z_p2_2': 31, 'z_r2': 85, 'z_r2_1': 84, 'z_r2_2': 83, 'x_s': 0.5, 'x_s_1': 0.4, 'x_s_2': 0.3, 'x_p1': 1.0, 'x_p1_1': 0.9, 'x_p1_2': 0.8, 'x_p2': -0.210655, 'x_p2_1': -0.4, 'x_p2_2': -0.5, 'x_r2': 0.581613, 'x_r2_1': 0.481613, 'x_r2_2': 0.381613} using model BoTorch.\n",
      "[INFO 04-06 23:43:03] ax.service.ax_client: Completed trial 1231 with data: {'Viable_Cross_Terms': (27, None)}.\n",
      "[INFO 04-06 23:43:04] ax.modelbridge.base: Leaving out out-of-design observations for arms: 1204_0, 940_0, 939_0\n",
      "[INFO 04-06 23:47:54] ax.service.ax_client: Generated new trial 1232 with parameters {'z_sh': 7, 'z_sh_1': 6, 'z_sh_2': 9, 'z_p2': 27, 'z_p2_1': 34, 'z_p2_2': 25, 'z_r2': 82, 'z_r2_1': 85, 'z_r2_2': 84, 'x_s': 0.5, 'x_s_1': 0.4, 'x_s_2': 0.3, 'x_p1': 1.0, 'x_p1_1': 0.9, 'x_p1_2': 0.8, 'x_p2': -0.3, 'x_p2_1': -0.4, 'x_p2_2': -0.5, 'x_r2': 0.463285, 'x_r2_1': 0.363285, 'x_r2_2': 0.263285} using model BoTorch.\n",
      "[INFO 04-06 23:47:54] ax.service.ax_client: Completed trial 1232 with data: {'Viable_Cross_Terms': (66, None)}.\n",
      "[INFO 04-06 23:47:55] ax.modelbridge.base: Leaving out out-of-design observations for arms: 1204_0, 940_0, 939_0\n",
      "[INFO 04-06 23:52:48] ax.service.ax_client: Generated new trial 1233 with parameters {'z_sh': 12, 'z_sh_1': 6, 'z_sh_2': 5, 'z_p2': 31, 'z_p2_1': 27, 'z_p2_2': 28, 'z_r2': 80, 'z_r2_1': 84, 'z_r2_2': 76, 'x_s': 0.5, 'x_s_1': 0.4, 'x_s_2': 0.3, 'x_p1': 0.681936, 'x_p1_1': 0.581936, 'x_p1_2': 0.481936, 'x_p2': 0.5, 'x_p2_1': 0.4, 'x_p2_2': 0.3, 'x_r2': 1.026778, 'x_r2_1': 0.926778, 'x_r2_2': 0.826778} using model BoTorch.\n",
      "[INFO 04-06 23:52:48] ax.service.ax_client: Completed trial 1233 with data: {'Viable_Cross_Terms': (77, None)}.\n",
      "[INFO 04-06 23:52:49] ax.modelbridge.base: Leaving out out-of-design observations for arms: 1204_0, 940_0, 939_0\n",
      "[INFO 04-06 23:58:33] ax.service.ax_client: Generated new trial 1234 with parameters {'z_sh': 7, 'z_sh_1': 7, 'z_sh_2': 5, 'z_p2': 31, 'z_p2_1': 29, 'z_p2_2': 30, 'z_r2': 82, 'z_r2_1': 76, 'z_r2_2': 74, 'x_s': 0.5, 'x_s_1': 0.4, 'x_s_2': 0.3, 'x_p1': 1.0, 'x_p1_1': 0.9, 'x_p1_2': 0.8, 'x_p2': -0.3, 'x_p2_1': -0.4, 'x_p2_2': -0.5, 'x_r2': 0.496955, 'x_r2_1': 0.396955, 'x_r2_2': 0.296955} using model BoTorch.\n",
      "[INFO 04-06 23:58:33] ax.service.ax_client: Completed trial 1234 with data: {'Viable_Cross_Terms': (67, None)}.\n",
      "[INFO 04-06 23:58:34] ax.modelbridge.base: Leaving out out-of-design observations for arms: 1204_0, 940_0, 939_0\n",
      "[INFO 04-07 00:03:40] ax.service.ax_client: Generated new trial 1235 with parameters {'z_sh': 11, 'z_sh_1': 8, 'z_sh_2': 6, 'z_p2': 29, 'z_p2_1': 33, 'z_p2_2': 25, 'z_r2': 80, 'z_r2_1': 79, 'z_r2_2': 77, 'x_s': 0.5, 'x_s_1': 0.4, 'x_s_2': 0.3, 'x_p1': 0.690908, 'x_p1_1': 0.590908, 'x_p1_2': 0.490908, 'x_p2': 0.5, 'x_p2_1': 0.4, 'x_p2_2': 0.3, 'x_r2': 1.047581, 'x_r2_1': 0.947581, 'x_r2_2': 0.847581} using model BoTorch.\n",
      "[INFO 04-07 00:03:40] ax.service.ax_client: Completed trial 1235 with data: {'Viable_Cross_Terms': (40, None)}.\n",
      "[INFO 04-07 00:03:41] ax.modelbridge.base: Leaving out out-of-design observations for arms: 1204_0, 940_0, 939_0\n",
      "[INFO 04-07 00:08:30] ax.service.ax_client: Generated new trial 1236 with parameters {'z_sh': 15, 'z_sh_1': 14, 'z_sh_2': 13, 'z_p2': 27, 'z_p2_1': 31, 'z_p2_2': 25, 'z_r2': 80, 'z_r2_1': 72, 'z_r2_2': 70, 'x_s': -0.3, 'x_s_1': -0.4, 'x_s_2': -0.5, 'x_p1': 0.489251, 'x_p1_1': -0.9, 'x_p1_2': -1.0, 'x_p2': 0.5, 'x_p2_1': 0.4, 'x_p2_2': 0.3, 'x_r2': -0.303262, 'x_r2_1': -0.403262, 'x_r2_2': -1.5} using model BoTorch.\n",
      "[INFO 04-07 00:08:30] ax.service.ax_client: Completed trial 1236 with data: {'Viable_Cross_Terms': (5, None)}.\n",
      "[INFO 04-07 00:08:30] ax.modelbridge.base: Leaving out out-of-design observations for arms: 1204_0, 940_0, 939_0\n",
      "[INFO 04-07 00:13:07] ax.service.ax_client: Generated new trial 1237 with parameters {'z_sh': 7, 'z_sh_1': 6, 'z_sh_2': 9, 'z_p2': 27, 'z_p2_1': 26, 'z_p2_2': 33, 'z_r2': 82, 'z_r2_1': 85, 'z_r2_2': 84, 'x_s': 0.5, 'x_s_1': 0.4, 'x_s_2': 0.3, 'x_p1': 1.0, 'x_p1_1': 0.9, 'x_p1_2': 0.8, 'x_p2': -0.3, 'x_p2_1': -0.4, 'x_p2_2': -0.5, 'x_r2': 0.625148, 'x_r2_1': 0.525148, 'x_r2_2': 0.425148} using model BoTorch.\n",
      "[INFO 04-07 00:13:07] ax.service.ax_client: Completed trial 1237 with data: {'Viable_Cross_Terms': (51, None)}.\n",
      "[INFO 04-07 00:13:08] ax.modelbridge.base: Leaving out out-of-design observations for arms: 1204_0, 940_0, 939_0\n",
      "[INFO 04-07 00:17:47] ax.service.ax_client: Generated new trial 1238 with parameters {'z_sh': 7, 'z_sh_1': 14, 'z_sh_2': 5, 'z_p2': 32, 'z_p2_1': 27, 'z_p2_2': 25, 'z_r2': 83, 'z_r2_1': 72, 'z_r2_2': 84, 'x_s': 0.5, 'x_s_1': -0.4, 'x_s_2': -0.5, 'x_p1': 0.751241, 'x_p1_1': -0.9, 'x_p1_2': -1.0, 'x_p2': 0.273163, 'x_p2_1': 0.173163, 'x_p2_2': 0.073163, 'x_r2': 1.070983, 'x_r2_1': 0.970983, 'x_r2_2': 0.870983} using model BoTorch.\n",
      "[INFO 04-07 00:17:47] ax.service.ax_client: Completed trial 1238 with data: {'Viable_Cross_Terms': (12, None)}.\n",
      "[INFO 04-07 00:17:48] ax.modelbridge.base: Leaving out out-of-design observations for arms: 1204_0, 940_0, 939_0\n",
      "[INFO 04-07 00:22:46] ax.service.ax_client: Generated new trial 1239 with parameters {'z_sh': 7, 'z_sh_1': 6, 'z_sh_2': 5, 'z_p2': 32, 'z_p2_1': 28, 'z_p2_2': 31, 'z_r2': 80, 'z_r2_1': 78, 'z_r2_2': 75, 'x_s': 0.5, 'x_s_1': 0.4, 'x_s_2': 0.3, 'x_p1': 0.967638, 'x_p1_1': 0.867638, 'x_p1_2': 0.767638, 'x_p2': 0.5, 'x_p2_1': 0.4, 'x_p2_2': 0.3, 'x_r2': 1.090576, 'x_r2_1': 0.990576, 'x_r2_2': 0.890576} using model BoTorch.\n",
      "[INFO 04-07 00:22:46] ax.service.ax_client: Completed trial 1239 with data: {'Viable_Cross_Terms': (48, None)}.\n",
      "[INFO 04-07 00:22:46] ax.modelbridge.base: Leaving out out-of-design observations for arms: 1204_0, 940_0, 939_0\n",
      "[INFO 04-07 00:27:37] ax.service.ax_client: Generated new trial 1240 with parameters {'z_sh': 15, 'z_sh_1': 11, 'z_sh_2': 5, 'z_p2': 34, 'z_p2_1': 27, 'z_p2_2': 29, 'z_r2': 80, 'z_r2_1': 80, 'z_r2_2': 74, 'x_s': 0.5, 'x_s_1': 0.4, 'x_s_2': 0.3, 'x_p1': 0.703381, 'x_p1_1': 0.603381, 'x_p1_2': 0.503381, 'x_p2': 0.5, 'x_p2_1': 0.4, 'x_p2_2': 0.3, 'x_r2': 1.094885, 'x_r2_1': 0.994885, 'x_r2_2': 0.894885} using model BoTorch.\n",
      "[INFO 04-07 00:27:37] ax.service.ax_client: Completed trial 1240 with data: {'Viable_Cross_Terms': (84, None)}.\n",
      "[INFO 04-07 00:27:38] ax.modelbridge.base: Leaving out out-of-design observations for arms: 1204_0, 940_0, 939_0\n",
      "[INFO 04-07 00:32:35] ax.service.ax_client: Generated new trial 1241 with parameters {'z_sh': 7, 'z_sh_1': 12, 'z_sh_2': 5, 'z_p2': 33, 'z_p2_1': 28, 'z_p2_2': 29, 'z_r2': 75, 'z_r2_1': 77, 'z_r2_2': 82, 'x_s': 0.5, 'x_s_1': 0.4, 'x_s_2': -0.5, 'x_p1': 0.210244, 'x_p1_1': 0.110244, 'x_p1_2': 0.010244, 'x_p2': -0.3, 'x_p2_1': -0.4, 'x_p2_2': -0.5, 'x_r2': 0.999264, 'x_r2_1': -1.4, 'x_r2_2': -1.5} using model BoTorch.\n",
      "[INFO 04-07 00:32:35] ax.service.ax_client: Completed trial 1241 with data: {'Viable_Cross_Terms': (0, None)}.\n",
      "[INFO 04-07 00:32:37] ax.modelbridge.base: Leaving out out-of-design observations for arms: 1204_0, 940_0, 939_0\n",
      "[INFO 04-07 00:37:41] ax.service.ax_client: Generated new trial 1242 with parameters {'z_sh': 7, 'z_sh_1': 12, 'z_sh_2': 7, 'z_p2': 34, 'z_p2_1': 30, 'z_p2_2': 27, 'z_r2': 72, 'z_r2_1': 80, 'z_r2_2': 77, 'x_s': 0.5, 'x_s_1': 0.4, 'x_s_2': 0.3, 'x_p1': -0.8, 'x_p1_1': -0.9, 'x_p1_2': -1.0, 'x_p2': -0.3, 'x_p2_1': -0.4, 'x_p2_2': -0.5, 'x_r2': -0.187187, 'x_r2_1': -0.287187, 'x_r2_2': -0.387187} using model BoTorch.\n",
      "[INFO 04-07 00:37:41] ax.service.ax_client: Completed trial 1242 with data: {'Viable_Cross_Terms': (12, None)}.\n",
      "[INFO 04-07 00:37:42] ax.modelbridge.base: Leaving out out-of-design observations for arms: 1204_0, 940_0, 939_0\n",
      "[INFO 04-07 00:42:37] ax.service.ax_client: Generated new trial 1243 with parameters {'z_sh': 11, 'z_sh_1': 9, 'z_sh_2': 5, 'z_p2': 35, 'z_p2_1': 27, 'z_p2_2': 28, 'z_r2': 80, 'z_r2_1': 77, 'z_r2_2': 79, 'x_s': 0.5, 'x_s_1': 0.4, 'x_s_2': 0.3, 'x_p1': 0.695398, 'x_p1_1': 0.595398, 'x_p1_2': 0.495398, 'x_p2': 0.5, 'x_p2_1': 0.4, 'x_p2_2': 0.3, 'x_r2': 1.035679, 'x_r2_1': 0.935679, 'x_r2_2': 0.835679} using model BoTorch.\n",
      "[INFO 04-07 00:42:37] ax.service.ax_client: Completed trial 1243 with data: {'Viable_Cross_Terms': (79, None)}.\n",
      "[INFO 04-07 00:42:38] ax.modelbridge.base: Leaving out out-of-design observations for arms: 1204_0, 940_0, 939_0\n",
      "[INFO 04-07 00:47:50] ax.service.ax_client: Generated new trial 1244 with parameters {'z_sh': 15, 'z_sh_1': 13, 'z_sh_2': 13, 'z_p2': 32, 'z_p2_1': 26, 'z_p2_2': 32, 'z_r2': 72, 'z_r2_1': 84, 'z_r2_2': 79, 'x_s': 0.5, 'x_s_1': 0.4, 'x_s_2': -0.5, 'x_p1': 0.668345, 'x_p1_1': 0.568345, 'x_p1_2': 0.468345, 'x_p2': -0.3, 'x_p2_1': -0.4, 'x_p2_2': -0.5, 'x_r2': 0.251782, 'x_r2_1': 0.151782, 'x_r2_2': 0.051782} using model BoTorch.\n",
      "[INFO 04-07 00:47:50] ax.service.ax_client: Completed trial 1244 with data: {'Viable_Cross_Terms': (28, None)}.\n",
      "[INFO 04-07 00:47:51] ax.modelbridge.base: Leaving out out-of-design observations for arms: 1204_0, 940_0, 939_0\n",
      "[INFO 04-07 00:53:06] ax.service.ax_client: Generated new trial 1245 with parameters {'z_sh': 11, 'z_sh_1': 6, 'z_sh_2': 13, 'z_p2': 30, 'z_p2_1': 27, 'z_p2_2': 29, 'z_r2': 72, 'z_r2_1': 74, 'z_r2_2': 79, 'x_s': 0.5, 'x_s_1': 0.4, 'x_s_2': 0.3, 'x_p1': 1.0, 'x_p1_1': 0.9, 'x_p1_2': -0.056083, 'x_p2': -0.3, 'x_p2_1': -0.4, 'x_p2_2': -0.5, 'x_r2': -1.3, 'x_r2_1': -1.4, 'x_r2_2': -1.5} using model BoTorch.\n",
      "[INFO 04-07 00:53:06] ax.service.ax_client: Completed trial 1245 with data: {'Viable_Cross_Terms': (0, None)}.\n",
      "[INFO 04-07 00:53:07] ax.modelbridge.base: Leaving out out-of-design observations for arms: 1204_0, 940_0, 939_0\n",
      "[INFO 04-07 00:58:13] ax.service.ax_client: Generated new trial 1246 with parameters {'z_sh': 7, 'z_sh_1': 8, 'z_sh_2': 5, 'z_p2': 33, 'z_p2_1': 26, 'z_p2_2': 27, 'z_r2': 80, 'z_r2_1': 71, 'z_r2_2': 70, 'x_s': 0.5, 'x_s_1': 0.4, 'x_s_2': 0.3, 'x_p1': 0.679438, 'x_p1_1': 0.579438, 'x_p1_2': 0.479438, 'x_p2': 0.5, 'x_p2_1': 0.4, 'x_p2_2': 0.3, 'x_r2': 1.031134, 'x_r2_1': 0.931134, 'x_r2_2': 0.831134} using model BoTorch.\n",
      "[INFO 04-07 00:58:13] ax.service.ax_client: Completed trial 1246 with data: {'Viable_Cross_Terms': (78, None)}.\n",
      "[INFO 04-07 00:58:14] ax.modelbridge.base: Leaving out out-of-design observations for arms: 1204_0, 940_0, 939_0\n",
      "[INFO 04-07 01:03:32] ax.service.ax_client: Generated new trial 1247 with parameters {'z_sh': 15, 'z_sh_1': 6, 'z_sh_2': 13, 'z_p2': 35, 'z_p2_1': 31, 'z_p2_2': 28, 'z_r2': 78, 'z_r2_1': 71, 'z_r2_2': 70, 'x_s': 0.5, 'x_s_1': 0.4, 'x_s_2': 0.3, 'x_p1': 0.069604, 'x_p1_1': -0.9, 'x_p1_2': -1.0, 'x_p2': 0.5, 'x_p2_1': 0.4, 'x_p2_2': 0.3, 'x_r2': 1.035815, 'x_r2_1': -1.4, 'x_r2_2': -1.5} using model BoTorch.\n",
      "[INFO 04-07 01:03:32] ax.service.ax_client: Completed trial 1247 with data: {'Viable_Cross_Terms': (4, None)}.\n",
      "[INFO 04-07 01:03:33] ax.modelbridge.base: Leaving out out-of-design observations for arms: 1204_0, 940_0, 939_0\n",
      "[INFO 04-07 01:08:37] ax.service.ax_client: Generated new trial 1248 with parameters {'z_sh': 14, 'z_sh_1': 6, 'z_sh_2': 13, 'z_p2': 33, 'z_p2_1': 27, 'z_p2_2': 33, 'z_r2': 79, 'z_r2_1': 72, 'z_r2_2': 70, 'x_s': 0.5, 'x_s_1': 0.4, 'x_s_2': -0.5, 'x_p1': -0.8, 'x_p1_1': -0.9, 'x_p1_2': -1.0, 'x_p2': -0.3, 'x_p2_1': -0.4, 'x_p2_2': -0.5, 'x_r2': 1.5, 'x_r2_1': 1.4, 'x_r2_2': 1.3} using model BoTorch.\n",
      "[INFO 04-07 01:08:37] ax.service.ax_client: Completed trial 1248 with data: {'Viable_Cross_Terms': (0, None)}.\n",
      "[INFO 04-07 01:08:38] ax.modelbridge.base: Leaving out out-of-design observations for arms: 1204_0, 940_0, 939_0\n",
      "[INFO 04-07 01:13:33] ax.service.ax_client: Generated new trial 1249 with parameters {'z_sh': 11, 'z_sh_1': 6, 'z_sh_2': 5, 'z_p2': 29, 'z_p2_1': 33, 'z_p2_2': 28, 'z_r2': 80, 'z_r2_1': 73, 'z_r2_2': 83, 'x_s': 0.5, 'x_s_1': 0.4, 'x_s_2': 0.3, 'x_p1': 0.813172, 'x_p1_1': 0.713172, 'x_p1_2': 0.613172, 'x_p2': -0.3, 'x_p2_1': -0.4, 'x_p2_2': -0.5, 'x_r2': 0.77062, 'x_r2_1': 0.67062, 'x_r2_2': 0.57062} using model BoTorch.\n",
      "[INFO 04-07 01:13:33] ax.service.ax_client: Completed trial 1249 with data: {'Viable_Cross_Terms': (8, None)}.\n",
      "[INFO 04-07 01:13:34] ax.modelbridge.base: Leaving out out-of-design observations for arms: 1204_0, 940_0, 939_0\n",
      "[INFO 04-07 01:18:37] ax.service.ax_client: Generated new trial 1250 with parameters {'z_sh': 9, 'z_sh_1': 11, 'z_sh_2': 13, 'z_p2': 28, 'z_p2_1': 27, 'z_p2_2': 25, 'z_r2': 82, 'z_r2_1': 73, 'z_r2_2': 84, 'x_s': 0.5, 'x_s_1': 0.4, 'x_s_2': 0.3, 'x_p1': 1.0, 'x_p1_1': 0.9, 'x_p1_2': 0.8, 'x_p2': -0.3, 'x_p2_1': -0.4, 'x_p2_2': -0.5, 'x_r2': -0.767207, 'x_r2_1': -1.4, 'x_r2_2': -1.5} using model BoTorch.\n",
      "[INFO 04-07 01:18:37] ax.service.ax_client: Completed trial 1250 with data: {'Viable_Cross_Terms': (0, None)}.\n",
      "[INFO 04-07 01:18:37] ax.modelbridge.base: Leaving out out-of-design observations for arms: 1204_0, 940_0, 939_0\n",
      "[INFO 04-07 01:23:59] ax.service.ax_client: Generated new trial 1251 with parameters {'z_sh': 12, 'z_sh_1': 7, 'z_sh_2': 5, 'z_p2': 29, 'z_p2_1': 31, 'z_p2_2': 28, 'z_r2': 75, 'z_r2_1': 84, 'z_r2_2': 81, 'x_s': 0.5, 'x_s_1': 0.4, 'x_s_2': 0.3, 'x_p1': 1.0, 'x_p1_1': 0.283248, 'x_p1_2': 0.183248, 'x_p2': 0.5, 'x_p2_1': -0.4, 'x_p2_2': -0.5, 'x_r2': 0.222712, 'x_r2_1': 0.122712, 'x_r2_2': 0.022712} using model BoTorch.\n",
      "[INFO 04-07 01:23:59] ax.service.ax_client: Completed trial 1251 with data: {'Viable_Cross_Terms': (4, None)}.\n",
      "[INFO 04-07 01:24:00] ax.modelbridge.base: Leaving out out-of-design observations for arms: 1204_0, 940_0, 939_0\n",
      "[INFO 04-07 01:29:00] ax.service.ax_client: Generated new trial 1252 with parameters {'z_sh': 15, 'z_sh_1': 6, 'z_sh_2': 5, 'z_p2': 31, 'z_p2_1': 31, 'z_p2_2': 30, 'z_r2': 86, 'z_r2_1': 73, 'z_r2_2': 84, 'x_s': 0.5, 'x_s_1': 0.4, 'x_s_2': 0.3, 'x_p1': 1.0, 'x_p1_1': 0.9, 'x_p1_2': 0.8, 'x_p2': 0.5, 'x_p2_1': 0.4, 'x_p2_2': -0.5, 'x_r2': -0.855914, 'x_r2_1': -0.979329, 'x_r2_2': -1.5} using model BoTorch.\n",
      "[INFO 04-07 01:29:00] ax.service.ax_client: Completed trial 1252 with data: {'Viable_Cross_Terms': (0, None)}.\n",
      "[INFO 04-07 01:29:00] ax.modelbridge.base: Leaving out out-of-design observations for arms: 1204_0, 940_0, 939_0\n",
      "[INFO 04-07 01:34:04] ax.service.ax_client: Generated new trial 1253 with parameters {'z_sh': 7, 'z_sh_1': 6, 'z_sh_2': 5, 'z_p2': 35, 'z_p2_1': 26, 'z_p2_2': 33, 'z_r2': 80, 'z_r2_1': 85, 'z_r2_2': 71, 'x_s': 0.5, 'x_s_1': 0.4, 'x_s_2': 0.3, 'x_p1': 0.58429, 'x_p1_1': 0.48429, 'x_p1_2': 0.38429, 'x_p2': 0.5, 'x_p2_1': 0.4, 'x_p2_2': 0.3, 'x_r2': 1.079956, 'x_r2_1': 0.979956, 'x_r2_2': 0.879956} using model BoTorch.\n",
      "[INFO 04-07 01:34:04] ax.service.ax_client: Completed trial 1253 with data: {'Viable_Cross_Terms': (75, None)}.\n",
      "[INFO 04-07 01:34:05] ax.modelbridge.base: Leaving out out-of-design observations for arms: 1204_0, 940_0, 939_0\n",
      "[INFO 04-07 01:39:24] ax.service.ax_client: Generated new trial 1254 with parameters {'z_sh': 7, 'z_sh_1': 7, 'z_sh_2': 5, 'z_p2': 30, 'z_p2_1': 26, 'z_p2_2': 26, 'z_r2': 77, 'z_r2_1': 76, 'z_r2_2': 84, 'x_s': 0.5, 'x_s_1': 0.4, 'x_s_2': 0.3, 'x_p1': 1.0, 'x_p1_1': 0.9, 'x_p1_2': 0.8, 'x_p2': 0.5, 'x_p2_1': 0.4, 'x_p2_2': 0.3, 'x_r2': 1.008328, 'x_r2_1': 0.908328, 'x_r2_2': 0.808328} using model BoTorch.\n",
      "[INFO 04-07 01:39:24] ax.service.ax_client: Completed trial 1254 with data: {'Viable_Cross_Terms': (7, None)}.\n",
      "[INFO 04-07 01:39:25] ax.modelbridge.base: Leaving out out-of-design observations for arms: 1204_0, 940_0, 939_0\n",
      "[INFO 04-07 01:44:37] ax.service.ax_client: Generated new trial 1255 with parameters {'z_sh': 15, 'z_sh_1': 12, 'z_sh_2': 13, 'z_p2': 28, 'z_p2_1': 27, 'z_p2_2': 25, 'z_r2': 73, 'z_r2_1': 80, 'z_r2_2': 73, 'x_s': -0.3, 'x_s_1': -0.4, 'x_s_2': -0.5, 'x_p1': 1.0, 'x_p1_1': 0.9, 'x_p1_2': 0.8, 'x_p2': -0.3, 'x_p2_1': -0.4, 'x_p2_2': -0.5, 'x_r2': 0.310125, 'x_r2_1': -1.4, 'x_r2_2': -1.5} using model BoTorch.\n",
      "[INFO 04-07 01:44:37] ax.service.ax_client: Completed trial 1255 with data: {'Viable_Cross_Terms': (2, None)}.\n",
      "[INFO 04-07 01:44:38] ax.modelbridge.base: Leaving out out-of-design observations for arms: 1204_0, 940_0, 939_0\n",
      "[INFO 04-07 01:49:49] ax.service.ax_client: Generated new trial 1256 with parameters {'z_sh': 7, 'z_sh_1': 12, 'z_sh_2': 13, 'z_p2': 32, 'z_p2_1': 27, 'z_p2_2': 26, 'z_r2': 82, 'z_r2_1': 74, 'z_r2_2': 83, 'x_s': 0.5, 'x_s_1': 0.4, 'x_s_2': 0.3, 'x_p1': 1.0, 'x_p1_1': 0.9, 'x_p1_2': -0.082129, 'x_p2': -0.3, 'x_p2_1': -0.4, 'x_p2_2': -0.5, 'x_r2': 0.304773, 'x_r2_1': 0.204773, 'x_r2_2': 0.104773} using model BoTorch.\n",
      "[INFO 04-07 01:49:49] ax.service.ax_client: Completed trial 1256 with data: {'Viable_Cross_Terms': (25, None)}.\n",
      "[INFO 04-07 01:49:50] ax.modelbridge.base: Leaving out out-of-design observations for arms: 1204_0, 940_0, 939_0\n",
      "[INFO 04-07 01:54:45] ax.service.ax_client: Generated new trial 1257 with parameters {'z_sh': 15, 'z_sh_1': 14, 'z_sh_2': 13, 'z_p2': 34, 'z_p2_1': 34, 'z_p2_2': 25, 'z_r2': 73, 'z_r2_1': 85, 'z_r2_2': 83, 'x_s': 0.5, 'x_s_1': 0.4, 'x_s_2': 0.3, 'x_p1': 1.0, 'x_p1_1': 0.9, 'x_p1_2': -0.296555, 'x_p2': -0.3, 'x_p2_1': -0.4, 'x_p2_2': -0.5, 'x_r2': -0.138875, 'x_r2_1': -1.4, 'x_r2_2': -1.5} using model BoTorch.\n",
      "[INFO 04-07 01:54:45] ax.service.ax_client: Completed trial 1257 with data: {'Viable_Cross_Terms': (0, None)}.\n",
      "[INFO 04-07 01:54:46] ax.modelbridge.base: Leaving out out-of-design observations for arms: 1204_0, 940_0, 939_0\n",
      "[INFO 04-07 01:59:58] ax.service.ax_client: Generated new trial 1258 with parameters {'z_sh': 7, 'z_sh_1': 14, 'z_sh_2': 13, 'z_p2': 30, 'z_p2_1': 32, 'z_p2_2': 33, 'z_r2': 86, 'z_r2_1': 81, 'z_r2_2': 72, 'x_s': 0.5, 'x_s_1': 0.4, 'x_s_2': 0.3, 'x_p1': 1.0, 'x_p1_1': 0.9, 'x_p1_2': -0.173322, 'x_p2': 0.5, 'x_p2_1': 0.4, 'x_p2_2': -0.5, 'x_r2': -0.104912, 'x_r2_1': -1.4, 'x_r2_2': -1.5} using model BoTorch.\n",
      "[INFO 04-07 01:59:58] ax.service.ax_client: Completed trial 1258 with data: {'Viable_Cross_Terms': (0, None)}.\n",
      "[INFO 04-07 01:59:59] ax.modelbridge.base: Leaving out out-of-design observations for arms: 1204_0, 940_0, 939_0\n",
      "[INFO 04-07 02:05:11] ax.service.ax_client: Generated new trial 1259 with parameters {'z_sh': 15, 'z_sh_1': 10, 'z_sh_2': 8, 'z_p2': 28, 'z_p2_1': 29, 'z_p2_2': 25, 'z_r2': 79, 'z_r2_1': 82, 'z_r2_2': 84, 'x_s': 0.5, 'x_s_1': 0.4, 'x_s_2': 0.3, 'x_p1': 1.0, 'x_p1_1': -0.584279, 'x_p1_2': -0.684279, 'x_p2': -0.3, 'x_p2_1': -0.4, 'x_p2_2': -0.5, 'x_r2': 0.411186, 'x_r2_1': 0.311186, 'x_r2_2': 0.211186} using model BoTorch.\n",
      "[INFO 04-07 02:05:11] ax.service.ax_client: Completed trial 1259 with data: {'Viable_Cross_Terms': (12, None)}.\n",
      "[INFO 04-07 02:05:11] ax.modelbridge.base: Leaving out out-of-design observations for arms: 1204_0, 940_0, 939_0\n",
      "[INFO 04-07 02:08:53] ax.service.ax_client: Generated new trial 1260 with parameters {'z_sh': 10, 'z_sh_1': 13, 'z_sh_2': 10, 'z_p2': 32, 'z_p2_1': 34, 'z_p2_2': 33, 'z_r2': 74, 'z_r2_1': 75, 'z_r2_2': 79, 'x_s': 0.5, 'x_s_1': 0.4, 'x_s_2': 0.3, 'x_p1': 1.0, 'x_p1_1': 0.9, 'x_p1_2': -1.0, 'x_p2': 0.5, 'x_p2_1': 0.4, 'x_p2_2': 0.3, 'x_r2': 0.932708, 'x_r2_1': 0.832708, 'x_r2_2': 0.732708} using model BoTorch.\n",
      "[INFO 04-07 02:08:53] ax.service.ax_client: Completed trial 1260 with data: {'Viable_Cross_Terms': (1, None)}.\n",
      "[INFO 04-07 02:08:54] ax.modelbridge.base: Leaving out out-of-design observations for arms: 1204_0, 940_0, 939_0\n",
      "[INFO 04-07 02:13:32] ax.service.ax_client: Generated new trial 1261 with parameters {'z_sh': 7, 'z_sh_1': 9, 'z_sh_2': 9, 'z_p2': 28, 'z_p2_1': 30, 'z_p2_2': 33, 'z_r2': 78, 'z_r2_1': 77, 'z_r2_2': 79, 'x_s': 0.5, 'x_s_1': 0.4, 'x_s_2': 0.3, 'x_p1': 1.0, 'x_p1_1': 0.9, 'x_p1_2': 0.8, 'x_p2': 0.295678, 'x_p2_1': 0.195678, 'x_p2_2': -0.5, 'x_r2': 0.227429, 'x_r2_1': -1.4, 'x_r2_2': -1.5} using model BoTorch.\n",
      "[INFO 04-07 02:13:32] ax.service.ax_client: Completed trial 1261 with data: {'Viable_Cross_Terms': (6, None)}.\n",
      "[INFO 04-07 02:13:34] ax.modelbridge.base: Leaving out out-of-design observations for arms: 1204_0, 940_0, 939_0\n",
      "[INFO 04-07 02:18:39] ax.service.ax_client: Generated new trial 1262 with parameters {'z_sh': 7, 'z_sh_1': 6, 'z_sh_2': 13, 'z_p2': 28, 'z_p2_1': 26, 'z_p2_2': 26, 'z_r2': 72, 'z_r2_1': 71, 'z_r2_2': 84, 'x_s': 0.5, 'x_s_1': 0.4, 'x_s_2': -0.5, 'x_p1': 0.53408, 'x_p1_1': 0.43408, 'x_p1_2': 0.33408, 'x_p2': 0.5, 'x_p2_1': -0.4, 'x_p2_2': -0.5, 'x_r2': 0.297738, 'x_r2_1': 0.197738, 'x_r2_2': 0.097738} using model BoTorch.\n",
      "[INFO 04-07 02:18:39] ax.service.ax_client: Completed trial 1262 with data: {'Viable_Cross_Terms': (15, None)}.\n",
      "[INFO 04-07 02:18:39] ax.modelbridge.base: Leaving out out-of-design observations for arms: 1204_0, 940_0, 939_0\n",
      "[INFO 04-07 02:23:56] ax.service.ax_client: Generated new trial 1263 with parameters {'z_sh': 15, 'z_sh_1': 13, 'z_sh_2': 13, 'z_p2': 34, 'z_p2_1': 28, 'z_p2_2': 25, 'z_r2': 82, 'z_r2_1': 80, 'z_r2_2': 72, 'x_s': -0.3, 'x_s_1': -0.4, 'x_s_2': -0.5, 'x_p1': 0.670674, 'x_p1_1': 0.570674, 'x_p1_2': 0.470674, 'x_p2': 0.237989, 'x_p2_1': 0.137989, 'x_p2_2': 0.037989, 'x_r2': 1.060897, 'x_r2_1': -1.4, 'x_r2_2': -1.5} using model BoTorch.\n",
      "[INFO 04-07 02:23:56] ax.service.ax_client: Completed trial 1263 with data: {'Viable_Cross_Terms': (1, None)}.\n",
      "[INFO 04-07 02:23:56] ax.modelbridge.base: Leaving out out-of-design observations for arms: 1204_0, 940_0, 939_0\n",
      "[INFO 04-07 02:29:06] ax.service.ax_client: Generated new trial 1264 with parameters {'z_sh': 7, 'z_sh_1': 13, 'z_sh_2': 10, 'z_p2': 32, 'z_p2_1': 27, 'z_p2_2': 33, 'z_r2': 86, 'z_r2_1': 71, 'z_r2_2': 84, 'x_s': -0.3, 'x_s_1': -0.4, 'x_s_2': -0.5, 'x_p1': 0.641064, 'x_p1_1': 0.541064, 'x_p1_2': 0.441064, 'x_p2': -0.3, 'x_p2_1': -0.4, 'x_p2_2': -0.5, 'x_r2': 1.145599, 'x_r2_1': 1.045599, 'x_r2_2': -1.5} using model BoTorch.\n",
      "[INFO 04-07 02:29:06] ax.service.ax_client: Completed trial 1264 with data: {'Viable_Cross_Terms': (8, None)}.\n",
      "[INFO 04-07 02:29:07] ax.modelbridge.base: Leaving out out-of-design observations for arms: 1204_0, 940_0, 939_0\n",
      "[INFO 04-07 02:34:03] ax.service.ax_client: Generated new trial 1265 with parameters {'z_sh': 15, 'z_sh_1': 6, 'z_sh_2': 12, 'z_p2': 32, 'z_p2_1': 32, 'z_p2_2': 26, 'z_r2': 74, 'z_r2_1': 76, 'z_r2_2': 73, 'x_s': 0.5, 'x_s_1': 0.4, 'x_s_2': 0.3, 'x_p1': -0.246207, 'x_p1_1': -0.346207, 'x_p1_2': -1.0, 'x_p2': -0.3, 'x_p2_1': -0.4, 'x_p2_2': -0.5, 'x_r2': 0.864542, 'x_r2_1': 0.764542, 'x_r2_2': 0.664542} using model BoTorch.\n",
      "[INFO 04-07 02:34:03] ax.service.ax_client: Completed trial 1265 with data: {'Viable_Cross_Terms': (0, None)}.\n",
      "[INFO 04-07 02:34:04] ax.modelbridge.base: Leaving out out-of-design observations for arms: 1204_0, 940_0, 939_0\n",
      "[INFO 04-07 02:39:25] ax.service.ax_client: Generated new trial 1266 with parameters {'z_sh': 7, 'z_sh_1': 12, 'z_sh_2': 7, 'z_p2': 33, 'z_p2_1': 31, 'z_p2_2': 27, 'z_r2': 82, 'z_r2_1': 83, 'z_r2_2': 76, 'x_s': 0.5, 'x_s_1': 0.4, 'x_s_2': 0.3, 'x_p1': 1.0, 'x_p1_1': 0.9, 'x_p1_2': 0.8, 'x_p2': -0.3, 'x_p2_1': -0.4, 'x_p2_2': -0.5, 'x_r2': 0.462087, 'x_r2_1': 0.362087, 'x_r2_2': 0.262087} using model BoTorch.\n",
      "[INFO 04-07 02:39:25] ax.service.ax_client: Completed trial 1266 with data: {'Viable_Cross_Terms': (66, None)}.\n",
      "[INFO 04-07 02:39:26] ax.modelbridge.base: Leaving out out-of-design observations for arms: 1204_0, 940_0, 939_0\n",
      "[INFO 04-07 02:44:27] ax.service.ax_client: Generated new trial 1267 with parameters {'z_sh': 7, 'z_sh_1': 9, 'z_sh_2': 5, 'z_p2': 35, 'z_p2_1': 30, 'z_p2_2': 33, 'z_r2': 80, 'z_r2_1': 85, 'z_r2_2': 84, 'x_s': 0.5, 'x_s_1': 0.4, 'x_s_2': 0.3, 'x_p1': 1.0, 'x_p1_1': 0.9, 'x_p1_2': -1.0, 'x_p2': -0.3, 'x_p2_1': -0.4, 'x_p2_2': -0.5, 'x_r2': 0.475762, 'x_r2_1': 0.375762, 'x_r2_2': 0.275762} using model BoTorch.\n",
      "[INFO 04-07 02:44:27] ax.service.ax_client: Completed trial 1267 with data: {'Viable_Cross_Terms': (55, None)}.\n",
      "[INFO 04-07 02:44:28] ax.modelbridge.base: Leaving out out-of-design observations for arms: 1204_0, 940_0, 939_0\n",
      "[INFO 04-07 02:49:29] ax.service.ax_client: Generated new trial 1268 with parameters {'z_sh': 15, 'z_sh_1': 9, 'z_sh_2': 5, 'z_p2': 29, 'z_p2_1': 27, 'z_p2_2': 29, 'z_r2': 76, 'z_r2_1': 80, 'z_r2_2': 77, 'x_s': -0.3, 'x_s_1': -0.4, 'x_s_2': -0.5, 'x_p1': 1.0, 'x_p1_1': 0.9, 'x_p1_2': 0.8, 'x_p2': -0.3, 'x_p2_1': -0.4, 'x_p2_2': -0.5, 'x_r2': 0.481467, 'x_r2_1': 0.381467, 'x_r2_2': -1.5} using model BoTorch.\n",
      "[INFO 04-07 02:49:29] ax.service.ax_client: Completed trial 1268 with data: {'Viable_Cross_Terms': (22, None)}.\n",
      "[INFO 04-07 02:49:31] ax.modelbridge.base: Leaving out out-of-design observations for arms: 1204_0, 940_0, 939_0\n",
      "[INFO 04-07 02:54:14] ax.service.ax_client: Generated new trial 1269 with parameters {'z_sh': 15, 'z_sh_1': 11, 'z_sh_2': 9, 'z_p2': 33, 'z_p2_1': 32, 'z_p2_2': 30, 'z_r2': 86, 'z_r2_1': 73, 'z_r2_2': 78, 'x_s': 0.5, 'x_s_1': 0.4, 'x_s_2': -0.5, 'x_p1': 0.308324, 'x_p1_1': -0.9, 'x_p1_2': -1.0, 'x_p2': 0.5, 'x_p2_1': -0.4, 'x_p2_2': -0.5, 'x_r2': -0.112958, 'x_r2_1': -1.4, 'x_r2_2': -1.5} using model BoTorch.\n",
      "[INFO 04-07 02:54:14] ax.service.ax_client: Completed trial 1269 with data: {'Viable_Cross_Terms': (4, None)}.\n",
      "[INFO 04-07 02:54:15] ax.modelbridge.base: Leaving out out-of-design observations for arms: 1204_0, 940_0, 939_0\n",
      "[INFO 04-07 03:00:02] ax.service.ax_client: Generated new trial 1270 with parameters {'z_sh': 7, 'z_sh_1': 12, 'z_sh_2': 5, 'z_p2': 33, 'z_p2_1': 30, 'z_p2_2': 25, 'z_r2': 84, 'z_r2_1': 74, 'z_r2_2': 83, 'x_s': 0.5, 'x_s_1': 0.4, 'x_s_2': 0.3, 'x_p1': 1.0, 'x_p1_1': 0.9, 'x_p1_2': 0.8, 'x_p2': 0.5, 'x_p2_1': 0.4, 'x_p2_2': -0.5, 'x_r2': 0.387916, 'x_r2_1': 0.287916, 'x_r2_2': 0.187916} using model BoTorch.\n",
      "[INFO 04-07 03:00:02] ax.service.ax_client: Completed trial 1270 with data: {'Viable_Cross_Terms': (12, None)}.\n",
      "[INFO 04-07 03:00:02] ax.modelbridge.base: Leaving out out-of-design observations for arms: 1204_0, 940_0, 939_0\n",
      "[INFO 04-07 03:06:04] ax.service.ax_client: Generated new trial 1271 with parameters {'z_sh': 15, 'z_sh_1': 12, 'z_sh_2': 6, 'z_p2': 28, 'z_p2_1': 33, 'z_p2_2': 30, 'z_r2': 86, 'z_r2_1': 72, 'z_r2_2': 78, 'x_s': 0.5, 'x_s_1': -0.4, 'x_s_2': -0.5, 'x_p1': 0.292304, 'x_p1_1': -0.9, 'x_p1_2': -1.0, 'x_p2': -0.3, 'x_p2_1': -0.4, 'x_p2_2': -0.5, 'x_r2': 0.64383, 'x_r2_1': 0.54383, 'x_r2_2': -1.5} using model BoTorch.\n",
      "[INFO 04-07 03:06:04] ax.service.ax_client: Completed trial 1271 with data: {'Viable_Cross_Terms': (0, None)}.\n",
      "[INFO 04-07 03:06:05] ax.modelbridge.base: Leaving out out-of-design observations for arms: 1204_0, 940_0, 939_0\n",
      "[INFO 04-07 03:11:31] ax.service.ax_client: Generated new trial 1272 with parameters {'z_sh': 15, 'z_sh_1': 14, 'z_sh_2': 5, 'z_p2': 33, 'z_p2_1': 29, 'z_p2_2': 29, 'z_r2': 74, 'z_r2_1': 80, 'z_r2_2': 84, 'x_s': 0.5, 'x_s_1': 0.4, 'x_s_2': 0.3, 'x_p1': 0.060147, 'x_p1_1': -0.9, 'x_p1_2': -1.0, 'x_p2': 0.5, 'x_p2_1': -0.4, 'x_p2_2': -0.5, 'x_r2': 1.287552, 'x_r2_1': 1.187552, 'x_r2_2': 1.087552} using model BoTorch.\n",
      "[INFO 04-07 03:11:31] ax.service.ax_client: Completed trial 1272 with data: {'Viable_Cross_Terms': (9, None)}.\n",
      "[INFO 04-07 03:11:32] ax.modelbridge.base: Leaving out out-of-design observations for arms: 1204_0, 940_0, 939_0\n",
      "[INFO 04-07 03:16:29] ax.service.ax_client: Generated new trial 1273 with parameters {'z_sh': 13, 'z_sh_1': 10, 'z_sh_2': 13, 'z_p2': 29, 'z_p2_1': 33, 'z_p2_2': 32, 'z_r2': 74, 'z_r2_1': 82, 'z_r2_2': 82, 'x_s': -0.3, 'x_s_1': -0.4, 'x_s_2': -0.5, 'x_p1': 0.53876, 'x_p1_1': 0.43876, 'x_p1_2': 0.33876, 'x_p2': 0.5, 'x_p2_1': 0.4, 'x_p2_2': 0.3, 'x_r2': -0.060787, 'x_r2_1': -1.4, 'x_r2_2': -1.5} using model BoTorch.\n",
      "[INFO 04-07 03:16:29] ax.service.ax_client: Completed trial 1273 with data: {'Viable_Cross_Terms': (7, None)}.\n",
      "[INFO 04-07 03:16:30] ax.modelbridge.base: Leaving out out-of-design observations for arms: 1204_0, 940_0, 939_0\n",
      "[INFO 04-07 03:21:24] ax.service.ax_client: Generated new trial 1274 with parameters {'z_sh': 7, 'z_sh_1': 11, 'z_sh_2': 9, 'z_p2': 30, 'z_p2_1': 29, 'z_p2_2': 28, 'z_r2': 78, 'z_r2_1': 80, 'z_r2_2': 78, 'x_s': 0.5, 'x_s_1': 0.4, 'x_s_2': 0.3, 'x_p1': 0.479507, 'x_p1_1': 0.379507, 'x_p1_2': -1.0, 'x_p2': -0.3, 'x_p2_1': -0.4, 'x_p2_2': -0.5, 'x_r2': -0.127625, 'x_r2_1': -0.227625, 'x_r2_2': -1.5} using model BoTorch.\n",
      "[INFO 04-07 03:21:24] ax.service.ax_client: Completed trial 1274 with data: {'Viable_Cross_Terms': (9, None)}.\n",
      "[INFO 04-07 03:21:25] ax.modelbridge.base: Leaving out out-of-design observations for arms: 1204_0, 940_0, 939_0\n",
      "[INFO 04-07 03:26:40] ax.service.ax_client: Generated new trial 1275 with parameters {'z_sh': 15, 'z_sh_1': 14, 'z_sh_2': 5, 'z_p2': 34, 'z_p2_1': 33, 'z_p2_2': 29, 'z_r2': 83, 'z_r2_1': 78, 'z_r2_2': 72, 'x_s': 0.5, 'x_s_1': -0.4, 'x_s_2': -0.5, 'x_p1': -0.341818, 'x_p1_1': -0.9, 'x_p1_2': -1.0, 'x_p2': 0.5, 'x_p2_1': -0.4, 'x_p2_2': -0.5, 'x_r2': 1.148954, 'x_r2_1': 1.048954, 'x_r2_2': 0.948954} using model BoTorch.\n",
      "[INFO 04-07 03:26:40] ax.service.ax_client: Completed trial 1275 with data: {'Viable_Cross_Terms': (0, None)}.\n",
      "[INFO 04-07 03:26:41] ax.modelbridge.base: Leaving out out-of-design observations for arms: 1204_0, 940_0, 939_0\n",
      "[INFO 04-07 03:31:43] ax.service.ax_client: Generated new trial 1276 with parameters {'z_sh': 7, 'z_sh_1': 14, 'z_sh_2': 5, 'z_p2': 27, 'z_p2_1': 31, 'z_p2_2': 30, 'z_r2': 79, 'z_r2_1': 76, 'z_r2_2': 84, 'x_s': 0.5, 'x_s_1': 0.4, 'x_s_2': 0.3, 'x_p1': -0.318254, 'x_p1_1': -0.418254, 'x_p1_2': -0.518254, 'x_p2': -0.3, 'x_p2_1': -0.4, 'x_p2_2': -0.5, 'x_r2': 1.027136, 'x_r2_1': 0.927136, 'x_r2_2': 0.827136} using model BoTorch.\n",
      "[INFO 04-07 03:31:43] ax.service.ax_client: Completed trial 1276 with data: {'Viable_Cross_Terms': (18, None)}.\n",
      "[INFO 04-07 03:31:44] ax.modelbridge.base: Leaving out out-of-design observations for arms: 1204_0, 940_0, 939_0\n",
      "[INFO 04-07 03:36:45] ax.service.ax_client: Generated new trial 1277 with parameters {'z_sh': 7, 'z_sh_1': 10, 'z_sh_2': 13, 'z_p2': 32, 'z_p2_1': 28, 'z_p2_2': 27, 'z_r2': 81, 'z_r2_1': 84, 'z_r2_2': 76, 'x_s': -0.3, 'x_s_1': -0.4, 'x_s_2': -0.5, 'x_p1': 0.433281, 'x_p1_1': 0.333281, 'x_p1_2': -1.0, 'x_p2': 0.5, 'x_p2_1': 0.4, 'x_p2_2': -0.5, 'x_r2': 0.359183, 'x_r2_1': 0.259183, 'x_r2_2': 0.159183} using model BoTorch.\n",
      "[INFO 04-07 03:36:45] ax.service.ax_client: Completed trial 1277 with data: {'Viable_Cross_Terms': (12, None)}.\n",
      "[INFO 04-07 03:36:46] ax.modelbridge.base: Leaving out out-of-design observations for arms: 1204_0, 940_0, 939_0\n",
      "[INFO 04-07 03:42:17] ax.service.ax_client: Generated new trial 1278 with parameters {'z_sh': 15, 'z_sh_1': 9, 'z_sh_2': 5, 'z_p2': 27, 'z_p2_1': 29, 'z_p2_2': 29, 'z_r2': 84, 'z_r2_1': 77, 'z_r2_2': 74, 'x_s': 0.5, 'x_s_1': 0.4, 'x_s_2': 0.3, 'x_p1': -0.45407, 'x_p1_1': -0.55407, 'x_p1_2': -1.0, 'x_p2': -0.3, 'x_p2_1': -0.4, 'x_p2_2': -0.5, 'x_r2': 0.390575, 'x_r2_1': 0.290575, 'x_r2_2': 0.190575} using model BoTorch.\n",
      "[INFO 04-07 03:42:17] ax.service.ax_client: Completed trial 1278 with data: {'Viable_Cross_Terms': (11, None)}.\n",
      "[INFO 04-07 03:42:18] ax.modelbridge.base: Leaving out out-of-design observations for arms: 1204_0, 940_0, 939_0\n",
      "[INFO 04-07 03:47:32] ax.service.ax_client: Generated new trial 1279 with parameters {'z_sh': 15, 'z_sh_1': 6, 'z_sh_2': 5, 'z_p2': 28, 'z_p2_1': 29, 'z_p2_2': 25, 'z_r2': 83, 'z_r2_1': 83, 'z_r2_2': 76, 'x_s': -0.3, 'x_s_1': -0.4, 'x_s_2': -0.5, 'x_p1': 1.0, 'x_p1_1': -0.9, 'x_p1_2': -1.0, 'x_p2': 0.5, 'x_p2_1': 0.4, 'x_p2_2': -0.5, 'x_r2': -0.219482, 'x_r2_1': -1.4, 'x_r2_2': -1.5} using model BoTorch.\n",
      "[INFO 04-07 03:47:32] ax.service.ax_client: Completed trial 1279 with data: {'Viable_Cross_Terms': (1, None)}.\n",
      "[INFO 04-07 03:47:33] ax.modelbridge.base: Leaving out out-of-design observations for arms: 1204_0, 940_0, 939_0\n",
      "[INFO 04-07 03:52:43] ax.service.ax_client: Generated new trial 1280 with parameters {'z_sh': 13, 'z_sh_1': 12, 'z_sh_2': 5, 'z_p2': 29, 'z_p2_1': 28, 'z_p2_2': 33, 'z_r2': 80, 'z_r2_1': 83, 'z_r2_2': 76, 'x_s': 0.5, 'x_s_1': 0.4, 'x_s_2': 0.3, 'x_p1': 0.688265, 'x_p1_1': 0.588265, 'x_p1_2': 0.488265, 'x_p2': 0.428652, 'x_p2_1': 0.328652, 'x_p2_2': 0.228652, 'x_r2': 0.987548, 'x_r2_1': 0.887548, 'x_r2_2': 0.787548} using model BoTorch.\n",
      "[INFO 04-07 03:52:43] ax.service.ax_client: Completed trial 1280 with data: {'Viable_Cross_Terms': (75, None)}.\n",
      "[INFO 04-07 03:52:44] ax.modelbridge.base: Leaving out out-of-design observations for arms: 1204_0, 940_0, 939_0\n",
      "[INFO 04-07 03:58:07] ax.service.ax_client: Generated new trial 1281 with parameters {'z_sh': 7, 'z_sh_1': 13, 'z_sh_2': 5, 'z_p2': 27, 'z_p2_1': 28, 'z_p2_2': 28, 'z_r2': 80, 'z_r2_1': 76, 'z_r2_2': 73, 'x_s': 0.5, 'x_s_1': 0.4, 'x_s_2': 0.3, 'x_p1': 0.702344, 'x_p1_1': 0.602344, 'x_p1_2': 0.502344, 'x_p2': 0.400061, 'x_p2_1': 0.300061, 'x_p2_2': 0.200061, 'x_r2': 0.997363, 'x_r2_1': 0.897363, 'x_r2_2': 0.797363} using model BoTorch.\n",
      "[INFO 04-07 03:58:07] ax.service.ax_client: Completed trial 1281 with data: {'Viable_Cross_Terms': (77, None)}.\n",
      "[INFO 04-07 03:58:08] ax.modelbridge.base: Leaving out out-of-design observations for arms: 1204_0, 940_0, 939_0\n",
      "[INFO 04-07 04:03:29] ax.service.ax_client: Generated new trial 1282 with parameters {'z_sh': 7, 'z_sh_1': 8, 'z_sh_2': 13, 'z_p2': 32, 'z_p2_1': 31, 'z_p2_2': 28, 'z_r2': 82, 'z_r2_1': 82, 'z_r2_2': 72, 'x_s': 0.5, 'x_s_1': 0.4, 'x_s_2': -0.5, 'x_p1': -0.445411, 'x_p1_1': -0.545411, 'x_p1_2': -0.645411, 'x_p2': 0.5, 'x_p2_1': -0.4, 'x_p2_2': -0.5, 'x_r2': 0.283001, 'x_r2_1': 0.183001, 'x_r2_2': -1.5} using model BoTorch.\n",
      "[INFO 04-07 04:03:29] ax.service.ax_client: Completed trial 1282 with data: {'Viable_Cross_Terms': (14, None)}.\n",
      "[INFO 04-07 04:03:30] ax.modelbridge.base: Leaving out out-of-design observations for arms: 1204_0, 940_0, 939_0\n",
      "[INFO 04-07 04:09:12] ax.service.ax_client: Generated new trial 1283 with parameters {'z_sh': 11, 'z_sh_1': 12, 'z_sh_2': 5, 'z_p2': 27, 'z_p2_1': 31, 'z_p2_2': 32, 'z_r2': 80, 'z_r2_1': 80, 'z_r2_2': 80, 'x_s': 0.5, 'x_s_1': 0.4, 'x_s_2': 0.3, 'x_p1': 0.701853, 'x_p1_1': 0.601853, 'x_p1_2': 0.501853, 'x_p2': 0.419452, 'x_p2_1': 0.319452, 'x_p2_2': 0.219452, 'x_r2': 0.999344, 'x_r2_1': 0.899344, 'x_r2_2': 0.799344} using model BoTorch.\n",
      "[INFO 04-07 04:09:12] ax.service.ax_client: Completed trial 1283 with data: {'Viable_Cross_Terms': (80, None)}.\n",
      "[INFO 04-07 04:09:14] ax.modelbridge.base: Leaving out out-of-design observations for arms: 1204_0, 940_0, 939_0\n",
      "[INFO 04-07 04:15:26] ax.service.ax_client: Generated new trial 1284 with parameters {'z_sh': 7, 'z_sh_1': 6, 'z_sh_2': 5, 'z_p2': 27, 'z_p2_1': 26, 'z_p2_2': 33, 'z_r2': 77, 'z_r2_1': 85, 'z_r2_2': 84, 'x_s': 0.5, 'x_s_1': 0.4, 'x_s_2': 0.3, 'x_p1': 0.699094, 'x_p1_1': 0.599094, 'x_p1_2': 0.499094, 'x_p2': 0.239094, 'x_p2_1': 0.139094, 'x_p2_2': 0.039094, 'x_r2': 1.069028, 'x_r2_1': 0.969028, 'x_r2_2': 0.869028} using model BoTorch.\n",
      "[INFO 04-07 04:15:26] ax.service.ax_client: Completed trial 1284 with data: {'Viable_Cross_Terms': (19, None)}.\n",
      "[INFO 04-07 04:15:27] ax.modelbridge.base: Leaving out out-of-design observations for arms: 1204_0, 940_0, 939_0\n",
      "[INFO 04-07 04:20:42] ax.service.ax_client: Generated new trial 1285 with parameters {'z_sh': 15, 'z_sh_1': 8, 'z_sh_2': 5, 'z_p2': 30, 'z_p2_1': 31, 'z_p2_2': 31, 'z_r2': 75, 'z_r2_1': 72, 'z_r2_2': 78, 'x_s': 0.5, 'x_s_1': 0.4, 'x_s_2': 0.3, 'x_p1': -0.02769, 'x_p1_1': -0.12769, 'x_p1_2': -0.22769, 'x_p2': 0.5, 'x_p2_1': 0.4, 'x_p2_2': 0.3, 'x_r2': 1.050847, 'x_r2_1': 0.950847, 'x_r2_2': 0.850847} using model BoTorch.\n",
      "[INFO 04-07 04:20:42] ax.service.ax_client: Completed trial 1285 with data: {'Viable_Cross_Terms': (64, None)}.\n",
      "[INFO 04-07 04:20:42] ax.modelbridge.base: Leaving out out-of-design observations for arms: 1204_0, 940_0, 939_0\n",
      "[INFO 04-07 04:25:53] ax.service.ax_client: Generated new trial 1286 with parameters {'z_sh': 14, 'z_sh_1': 8, 'z_sh_2': 8, 'z_p2': 31, 'z_p2_1': 31, 'z_p2_2': 29, 'z_r2': 75, 'z_r2_1': 77, 'z_r2_2': 80, 'x_s': -0.275444, 'x_s_1': -0.375444, 'x_s_2': -0.475444, 'x_p1': -0.016438, 'x_p1_1': -0.9, 'x_p1_2': -1.0, 'x_p2': 0.5, 'x_p2_1': 0.4, 'x_p2_2': 0.3, 'x_r2': 1.066489, 'x_r2_1': 0.966489, 'x_r2_2': 0.866489} using model BoTorch.\n",
      "[INFO 04-07 04:25:53] ax.service.ax_client: Completed trial 1286 with data: {'Viable_Cross_Terms': (10, None)}.\n",
      "[INFO 04-07 04:25:54] ax.modelbridge.base: Leaving out out-of-design observations for arms: 1204_0, 940_0, 939_0\n",
      "[INFO 04-07 04:31:36] ax.service.ax_client: Generated new trial 1287 with parameters {'z_sh': 15, 'z_sh_1': 12, 'z_sh_2': 13, 'z_p2': 34, 'z_p2_1': 26, 'z_p2_2': 30, 'z_r2': 85, 'z_r2_1': 77, 'z_r2_2': 73, 'x_s': 0.5, 'x_s_1': 0.4, 'x_s_2': -0.5, 'x_p1': 0.001803, 'x_p1_1': -0.9, 'x_p1_2': -1.0, 'x_p2': 0.5, 'x_p2_1': 0.4, 'x_p2_2': 0.3, 'x_r2': 0.791221, 'x_r2_1': -1.4, 'x_r2_2': -1.5} using model BoTorch.\n",
      "[INFO 04-07 04:31:36] ax.service.ax_client: Completed trial 1287 with data: {'Viable_Cross_Terms': (0, None)}.\n",
      "[INFO 04-07 04:31:37] ax.modelbridge.base: Leaving out out-of-design observations for arms: 1204_0, 940_0, 939_0\n",
      "[INFO 04-07 04:37:03] ax.service.ax_client: Generated new trial 1288 with parameters {'z_sh': 7, 'z_sh_1': 14, 'z_sh_2': 13, 'z_p2': 34, 'z_p2_1': 28, 'z_p2_2': 33, 'z_r2': 81, 'z_r2_1': 71, 'z_r2_2': 75, 'x_s': 0.5, 'x_s_1': 0.4, 'x_s_2': 0.3, 'x_p1': -0.577592, 'x_p1_1': -0.677592, 'x_p1_2': -1.0, 'x_p2': 0.5, 'x_p2_1': -0.4, 'x_p2_2': -0.5, 'x_r2': -0.253156, 'x_r2_1': -0.353156, 'x_r2_2': -0.453156} using model BoTorch.\n",
      "[INFO 04-07 04:37:03] ax.service.ax_client: Completed trial 1288 with data: {'Viable_Cross_Terms': (8, None)}.\n",
      "[INFO 04-07 04:37:04] ax.modelbridge.base: Leaving out out-of-design observations for arms: 1204_0, 940_0, 939_0\n",
      "[INFO 04-07 04:43:05] ax.service.ax_client: Generated new trial 1289 with parameters {'z_sh': 7, 'z_sh_1': 13, 'z_sh_2': 5, 'z_p2': 34, 'z_p2_1': 26, 'z_p2_2': 32, 'z_r2': 80, 'z_r2_1': 71, 'z_r2_2': 83, 'x_s': 0.5, 'x_s_1': 0.4, 'x_s_2': 0.3, 'x_p1': 1.0, 'x_p1_1': 0.9, 'x_p1_2': 0.8, 'x_p2': 0.421374, 'x_p2_1': 0.321374, 'x_p2_2': 0.221374, 'x_r2': 1.5, 'x_r2_1': 0.991626, 'x_r2_2': 0.891626} using model BoTorch.\n",
      "[INFO 04-07 04:43:05] ax.service.ax_client: Completed trial 1289 with data: {'Viable_Cross_Terms': (35, None)}.\n",
      "[INFO 04-07 04:43:06] ax.modelbridge.base: Leaving out out-of-design observations for arms: 1204_0, 940_0, 939_0\n",
      "[INFO 04-07 04:48:54] ax.service.ax_client: Generated new trial 1290 with parameters {'z_sh': 10, 'z_sh_1': 12, 'z_sh_2': 13, 'z_p2': 29, 'z_p2_1': 27, 'z_p2_2': 26, 'z_r2': 72, 'z_r2_1': 81, 'z_r2_2': 71, 'x_s': 0.5, 'x_s_1': -0.4, 'x_s_2': -0.5, 'x_p1': 0.346752, 'x_p1_1': -0.9, 'x_p1_2': -1.0, 'x_p2': -0.3, 'x_p2_1': -0.4, 'x_p2_2': -0.5, 'x_r2': 0.337361, 'x_r2_1': 0.237361, 'x_r2_2': -1.5} using model BoTorch.\n",
      "[INFO 04-07 04:48:54] ax.service.ax_client: Completed trial 1290 with data: {'Viable_Cross_Terms': (5, None)}.\n",
      "[INFO 04-07 04:48:55] ax.modelbridge.base: Leaving out out-of-design observations for arms: 1204_0, 940_0, 939_0\n",
      "[INFO 04-07 04:54:05] ax.service.ax_client: Generated new trial 1291 with parameters {'z_sh': 15, 'z_sh_1': 11, 'z_sh_2': 5, 'z_p2': 32, 'z_p2_1': 30, 'z_p2_2': 27, 'z_r2': 80, 'z_r2_1': 77, 'z_r2_2': 75, 'x_s': 0.5, 'x_s_1': 0.4, 'x_s_2': 0.3, 'x_p1': 0.663134, 'x_p1_1': 0.563134, 'x_p1_2': 0.463134, 'x_p2': 0.5, 'x_p2_1': 0.4, 'x_p2_2': 0.3, 'x_r2': 0.985707, 'x_r2_1': 0.885707, 'x_r2_2': 0.785707} using model BoTorch.\n",
      "[INFO 04-07 04:54:05] ax.service.ax_client: Completed trial 1291 with data: {'Viable_Cross_Terms': (75, None)}.\n",
      "[INFO 04-07 04:54:06] ax.modelbridge.base: Leaving out out-of-design observations for arms: 1204_0, 940_0, 939_0\n",
      "[INFO 04-07 04:59:10] ax.service.ax_client: Generated new trial 1292 with parameters {'z_sh': 7, 'z_sh_1': 6, 'z_sh_2': 9, 'z_p2': 27, 'z_p2_1': 34, 'z_p2_2': 33, 'z_r2': 82, 'z_r2_1': 85, 'z_r2_2': 84, 'x_s': 0.5, 'x_s_1': 0.4, 'x_s_2': 0.3, 'x_p1': 1.0, 'x_p1_1': 0.9, 'x_p1_2': 0.8, 'x_p2': -0.3, 'x_p2_1': -0.4, 'x_p2_2': -0.5, 'x_r2': 0.461681, 'x_r2_1': 0.361681, 'x_r2_2': 0.261681} using model BoTorch.\n",
      "[INFO 04-07 04:59:10] ax.service.ax_client: Completed trial 1292 with data: {'Viable_Cross_Terms': (66, None)}.\n",
      "[INFO 04-07 04:59:11] ax.modelbridge.base: Leaving out out-of-design observations for arms: 1204_0, 940_0, 939_0\n",
      "[INFO 04-07 05:03:59] ax.service.ax_client: Generated new trial 1293 with parameters {'z_sh': 9, 'z_sh_1': 6, 'z_sh_2': 5, 'z_p2': 35, 'z_p2_1': 26, 'z_p2_2': 33, 'z_r2': 80, 'z_r2_1': 85, 'z_r2_2': 70, 'x_s': 0.5, 'x_s_1': 0.4, 'x_s_2': 0.3, 'x_p1': 1.0, 'x_p1_1': 0.9, 'x_p1_2': 0.8, 'x_p2': 0.5, 'x_p2_1': 0.4, 'x_p2_2': 0.3, 'x_r2': 1.075589, 'x_r2_1': 0.975589, 'x_r2_2': 0.875589} using model BoTorch.\n",
      "[INFO 04-07 05:03:59] ax.service.ax_client: Completed trial 1293 with data: {'Viable_Cross_Terms': (41, None)}.\n",
      "[INFO 04-07 05:04:00] ax.modelbridge.base: Leaving out out-of-design observations for arms: 1204_0, 940_0, 939_0\n",
      "[INFO 04-07 05:09:53] ax.service.ax_client: Generated new trial 1294 with parameters {'z_sh': 13, 'z_sh_1': 10, 'z_sh_2': 5, 'z_p2': 30, 'z_p2_1': 26, 'z_p2_2': 32, 'z_r2': 80, 'z_r2_1': 83, 'z_r2_2': 79, 'x_s': 0.5, 'x_s_1': 0.4, 'x_s_2': 0.3, 'x_p1': 1.0, 'x_p1_1': 0.9, 'x_p1_2': -1.0, 'x_p2': -0.3, 'x_p2_1': -0.4, 'x_p2_2': -0.5, 'x_r2': 0.840037, 'x_r2_1': 0.740037, 'x_r2_2': 0.640037} using model BoTorch.\n",
      "[INFO 04-07 05:09:53] ax.service.ax_client: Completed trial 1294 with data: {'Viable_Cross_Terms': (14, None)}.\n",
      "[INFO 04-07 05:09:54] ax.modelbridge.base: Leaving out out-of-design observations for arms: 1204_0, 940_0, 939_0\n",
      "[INFO 04-07 05:15:57] ax.service.ax_client: Generated new trial 1295 with parameters {'z_sh': 9, 'z_sh_1': 13, 'z_sh_2': 5, 'z_p2': 32, 'z_p2_1': 33, 'z_p2_2': 29, 'z_r2': 86, 'z_r2_1': 83, 'z_r2_2': 78, 'x_s': -0.3, 'x_s_1': -0.4, 'x_s_2': -0.5, 'x_p1': -0.8, 'x_p1_1': -0.9, 'x_p1_2': -1.0, 'x_p2': 0.5, 'x_p2_1': 0.4, 'x_p2_2': -0.5, 'x_r2': -0.046577, 'x_r2_1': -1.4, 'x_r2_2': -1.5} using model BoTorch.\n",
      "[INFO 04-07 05:15:57] ax.service.ax_client: Completed trial 1295 with data: {'Viable_Cross_Terms': (2, None)}.\n",
      "[INFO 04-07 05:15:58] ax.modelbridge.base: Leaving out out-of-design observations for arms: 1204_0, 940_0, 939_0\n",
      "[INFO 04-07 05:21:03] ax.service.ax_client: Generated new trial 1296 with parameters {'z_sh': 15, 'z_sh_1': 9, 'z_sh_2': 13, 'z_p2': 32, 'z_p2_1': 28, 'z_p2_2': 28, 'z_r2': 72, 'z_r2_1': 79, 'z_r2_2': 75, 'x_s': 0.5, 'x_s_1': 0.4, 'x_s_2': -0.5, 'x_p1': 0.556383, 'x_p1_1': 0.456383, 'x_p1_2': 0.356383, 'x_p2': 0.5, 'x_p2_1': -0.4, 'x_p2_2': -0.5, 'x_r2': 0.660428, 'x_r2_1': -1.4, 'x_r2_2': -1.5} using model BoTorch.\n",
      "[INFO 04-07 05:21:03] ax.service.ax_client: Completed trial 1296 with data: {'Viable_Cross_Terms': (0, None)}.\n",
      "[INFO 04-07 05:21:04] ax.modelbridge.base: Leaving out out-of-design observations for arms: 1204_0, 940_0, 939_0\n",
      "[INFO 04-07 05:27:02] ax.service.ax_client: Generated new trial 1297 with parameters {'z_sh': 9, 'z_sh_1': 11, 'z_sh_2': 5, 'z_p2': 33, 'z_p2_1': 31, 'z_p2_2': 26, 'z_r2': 77, 'z_r2_1': 77, 'z_r2_2': 82, 'x_s': 0.5, 'x_s_1': -0.4, 'x_s_2': -0.5, 'x_p1': -0.345814, 'x_p1_1': -0.445814, 'x_p1_2': -0.545814, 'x_p2': -0.3, 'x_p2_1': -0.4, 'x_p2_2': -0.5, 'x_r2': 1.5, 'x_r2_1': 1.4, 'x_r2_2': 1.3} using model BoTorch.\n",
      "[INFO 04-07 05:27:02] ax.service.ax_client: Completed trial 1297 with data: {'Viable_Cross_Terms': (12, None)}.\n",
      "[INFO 04-07 05:27:03] ax.modelbridge.base: Leaving out out-of-design observations for arms: 1204_0, 940_0, 939_0\n",
      "[INFO 04-07 05:32:31] ax.service.ax_client: Generated new trial 1298 with parameters {'z_sh': 8, 'z_sh_1': 6, 'z_sh_2': 7, 'z_p2': 31, 'z_p2_1': 28, 'z_p2_2': 32, 'z_r2': 82, 'z_r2_1': 79, 'z_r2_2': 80, 'x_s': 0.5, 'x_s_1': 0.4, 'x_s_2': 0.3, 'x_p1': 1.0, 'x_p1_1': 0.9, 'x_p1_2': 0.8, 'x_p2': -0.3, 'x_p2_1': -0.4, 'x_p2_2': -0.5, 'x_r2': 0.474569, 'x_r2_1': 0.374569, 'x_r2_2': 0.274569} using model BoTorch.\n",
      "[INFO 04-07 05:32:31] ax.service.ax_client: Completed trial 1298 with data: {'Viable_Cross_Terms': (80, None)}.\n",
      "[INFO 04-07 05:32:31] ax.modelbridge.base: Leaving out out-of-design observations for arms: 1204_0, 940_0, 939_0\n",
      "[INFO 04-07 05:37:52] ax.service.ax_client: Generated new trial 1299 with parameters {'z_sh': 7, 'z_sh_1': 13, 'z_sh_2': 5, 'z_p2': 35, 'z_p2_1': 26, 'z_p2_2': 32, 'z_r2': 80, 'z_r2_1': 71, 'z_r2_2': 74, 'x_s': 0.5, 'x_s_1': 0.4, 'x_s_2': 0.3, 'x_p1': 1.0, 'x_p1_1': 0.9, 'x_p1_2': 0.373224, 'x_p2': 0.5, 'x_p2_1': 0.4, 'x_p2_2': 0.3, 'x_r2': 1.089965, 'x_r2_1': 0.989965, 'x_r2_2': 0.889965} using model BoTorch.\n",
      "[INFO 04-07 05:37:52] ax.service.ax_client: Completed trial 1299 with data: {'Viable_Cross_Terms': (40, None)}.\n",
      "[INFO 04-07 05:37:52] ax.modelbridge.base: Leaving out out-of-design observations for arms: 1204_0, 940_0, 939_0\n",
      "[INFO 04-07 05:42:58] ax.service.ax_client: Generated new trial 1300 with parameters {'z_sh': 7, 'z_sh_1': 14, 'z_sh_2': 13, 'z_p2': 35, 'z_p2_1': 34, 'z_p2_2': 33, 'z_r2': 85, 'z_r2_1': 85, 'z_r2_2': 84, 'x_s': -0.3, 'x_s_1': -0.4, 'x_s_2': -0.5, 'x_p1': -0.8, 'x_p1_1': -0.9, 'x_p1_2': -1.0, 'x_p2': 0.5, 'x_p2_1': -0.4, 'x_p2_2': -0.5, 'x_r2': 1.5, 'x_r2_1': 1.399993, 'x_r2_2': -1.5} using model BoTorch.\n",
      "[INFO 04-07 05:42:58] ax.service.ax_client: Completed trial 1300 with data: {'Viable_Cross_Terms': (3, None)}.\n",
      "[INFO 04-07 05:42:59] ax.modelbridge.base: Leaving out out-of-design observations for arms: 1204_0, 940_0, 939_0\n",
      "[INFO 04-07 05:48:57] ax.service.ax_client: Generated new trial 1301 with parameters {'z_sh': 7, 'z_sh_1': 8, 'z_sh_2': 5, 'z_p2': 32, 'z_p2_1': 30, 'z_p2_2': 33, 'z_r2': 80, 'z_r2_1': 83, 'z_r2_2': 80, 'x_s': 0.5, 'x_s_1': 0.4, 'x_s_2': 0.3, 'x_p1': 0.719049, 'x_p1_1': 0.619049, 'x_p1_2': 0.519049, 'x_p2': 0.413718, 'x_p2_1': 0.313718, 'x_p2_2': 0.213718, 'x_r2': 1.004746, 'x_r2_1': 0.904746, 'x_r2_2': 0.804746} using model BoTorch.\n",
      "[INFO 04-07 05:48:57] ax.service.ax_client: Completed trial 1301 with data: {'Viable_Cross_Terms': (79, None)}.\n",
      "[INFO 04-07 05:48:58] ax.modelbridge.base: Leaving out out-of-design observations for arms: 1204_0, 940_0, 939_0\n",
      "[INFO 04-07 05:54:20] ax.service.ax_client: Generated new trial 1302 with parameters {'z_sh': 15, 'z_sh_1': 12, 'z_sh_2': 13, 'z_p2': 30, 'z_p2_1': 28, 'z_p2_2': 27, 'z_r2': 74, 'z_r2_1': 75, 'z_r2_2': 82, 'x_s': -0.3, 'x_s_1': -0.4, 'x_s_2': -0.5, 'x_p1': 1.0, 'x_p1_1': 0.9, 'x_p1_2': 0.8, 'x_p2': 0.5, 'x_p2_1': 0.4, 'x_p2_2': -0.5, 'x_r2': 1.5, 'x_r2_1': -1.4, 'x_r2_2': -1.5} using model BoTorch.\n",
      "[INFO 04-07 05:54:20] ax.service.ax_client: Completed trial 1302 with data: {'Viable_Cross_Terms': (0, None)}.\n",
      "[INFO 04-07 05:54:21] ax.modelbridge.base: Leaving out out-of-design observations for arms: 1204_0, 940_0, 939_0\n",
      "[INFO 04-07 05:59:41] ax.service.ax_client: Generated new trial 1303 with parameters {'z_sh': 9, 'z_sh_1': 9, 'z_sh_2': 5, 'z_p2': 31, 'z_p2_1': 28, 'z_p2_2': 30, 'z_r2': 80, 'z_r2_1': 78, 'z_r2_2': 79, 'x_s': 0.5, 'x_s_1': 0.4, 'x_s_2': 0.3, 'x_p1': 0.717657, 'x_p1_1': 0.617657, 'x_p1_2': 0.517657, 'x_p2': 0.490404, 'x_p2_1': 0.390404, 'x_p2_2': 0.290404, 'x_r2': 1.094351, 'x_r2_1': 0.994351, 'x_r2_2': 0.894351} using model BoTorch.\n",
      "[INFO 04-07 05:59:41] ax.service.ax_client: Completed trial 1303 with data: {'Viable_Cross_Terms': (84, None)}.\n",
      "[INFO 04-07 05:59:42] ax.modelbridge.base: Leaving out out-of-design observations for arms: 1204_0, 940_0, 939_0\n",
      "[INFO 04-07 06:05:21] ax.service.ax_client: Generated new trial 1304 with parameters {'z_sh': 13, 'z_sh_1': 10, 'z_sh_2': 5, 'z_p2': 32, 'z_p2_1': 27, 'z_p2_2': 33, 'z_r2': 80, 'z_r2_1': 82, 'z_r2_2': 75, 'x_s': 0.5, 'x_s_1': 0.4, 'x_s_2': 0.3, 'x_p1': 0.685961, 'x_p1_1': 0.585961, 'x_p1_2': 0.485961, 'x_p2': 0.444922, 'x_p2_1': 0.344922, 'x_p2_2': 0.244922, 'x_r2': 0.984896, 'x_r2_1': 0.884896, 'x_r2_2': 0.784896} using model BoTorch.\n",
      "[INFO 04-07 06:05:21] ax.service.ax_client: Completed trial 1304 with data: {'Viable_Cross_Terms': (73, None)}.\n",
      "[INFO 04-07 06:05:23] ax.modelbridge.base: Leaving out out-of-design observations for arms: 1204_0, 940_0, 939_0\n",
      "[INFO 04-07 06:10:53] ax.service.ax_client: Generated new trial 1305 with parameters {'z_sh': 15, 'z_sh_1': 6, 'z_sh_2': 13, 'z_p2': 32, 'z_p2_1': 27, 'z_p2_2': 26, 'z_r2': 86, 'z_r2_1': 71, 'z_r2_2': 71, 'x_s': 0.5, 'x_s_1': -0.4, 'x_s_2': -0.5, 'x_p1': -0.287493, 'x_p1_1': -0.9, 'x_p1_2': -1.0, 'x_p2': 0.5, 'x_p2_1': -0.4, 'x_p2_2': -0.5, 'x_r2': -0.305335, 'x_r2_1': -0.405335, 'x_r2_2': -0.505335} using model BoTorch.\n",
      "[INFO 04-07 06:10:53] ax.service.ax_client: Completed trial 1305 with data: {'Viable_Cross_Terms': (9, None)}.\n",
      "[INFO 04-07 06:10:54] ax.modelbridge.base: Leaving out out-of-design observations for arms: 1204_0, 940_0, 939_0\n",
      "[INFO 04-07 06:16:23] ax.service.ax_client: Generated new trial 1306 with parameters {'z_sh': 14, 'z_sh_1': 9, 'z_sh_2': 5, 'z_p2': 35, 'z_p2_1': 27, 'z_p2_2': 30, 'z_r2': 73, 'z_r2_1': 80, 'z_r2_2': 78, 'x_s': 0.5, 'x_s_1': 0.4, 'x_s_2': 0.3, 'x_p1': -0.273973, 'x_p1_1': -0.373973, 'x_p1_2': -0.473973, 'x_p2': 0.5, 'x_p2_1': 0.4, 'x_p2_2': 0.3, 'x_r2': 1.033321, 'x_r2_1': 0.933321, 'x_r2_2': 0.833321} using model BoTorch.\n",
      "[INFO 04-07 06:16:23] ax.service.ax_client: Completed trial 1306 with data: {'Viable_Cross_Terms': (48, None)}.\n",
      "[INFO 04-07 06:16:24] ax.modelbridge.base: Leaving out out-of-design observations for arms: 1204_0, 940_0, 939_0\n",
      "[INFO 04-07 06:21:53] ax.service.ax_client: Generated new trial 1307 with parameters {'z_sh': 14, 'z_sh_1': 13, 'z_sh_2': 6, 'z_p2': 32, 'z_p2_1': 31, 'z_p2_2': 32, 'z_r2': 78, 'z_r2_1': 71, 'z_r2_2': 79, 'x_s': -0.3, 'x_s_1': -0.4, 'x_s_2': -0.5, 'x_p1': -0.181956, 'x_p1_1': -0.9, 'x_p1_2': -1.0, 'x_p2': 0.5, 'x_p2_1': 0.4, 'x_p2_2': 0.3, 'x_r2': 1.5, 'x_r2_1': 1.4, 'x_r2_2': 1.3} using model BoTorch.\n",
      "[INFO 04-07 06:21:53] ax.service.ax_client: Completed trial 1307 with data: {'Viable_Cross_Terms': (14, None)}.\n",
      "[INFO 04-07 06:21:54] ax.modelbridge.base: Leaving out out-of-design observations for arms: 1204_0, 940_0, 939_0\n",
      "[INFO 04-07 06:27:40] ax.service.ax_client: Generated new trial 1308 with parameters {'z_sh': 7, 'z_sh_1': 6, 'z_sh_2': 5, 'z_p2': 35, 'z_p2_1': 26, 'z_p2_2': 33, 'z_r2': 78, 'z_r2_1': 71, 'z_r2_2': 70, 'x_s': 0.5, 'x_s_1': -0.4, 'x_s_2': -0.5, 'x_p1': 0.102238, 'x_p1_1': 0.002238, 'x_p1_2': -0.097762, 'x_p2': 0.050382, 'x_p2_1': -0.049618, 'x_p2_2': -0.149618, 'x_r2': 0.735427, 'x_r2_1': 0.635427, 'x_r2_2': 0.535427} using model BoTorch.\n",
      "[INFO 04-07 06:27:40] ax.service.ax_client: Completed trial 1308 with data: {'Viable_Cross_Terms': (10, None)}.\n",
      "[INFO 04-07 06:27:41] ax.modelbridge.base: Leaving out out-of-design observations for arms: 1204_0, 940_0, 939_0\n",
      "[INFO 04-07 06:33:52] ax.service.ax_client: Generated new trial 1309 with parameters {'z_sh': 11, 'z_sh_1': 11, 'z_sh_2': 5, 'z_p2': 29, 'z_p2_1': 29, 'z_p2_2': 29, 'z_r2': 85, 'z_r2_1': 85, 'z_r2_2': 84, 'x_s': -0.3, 'x_s_1': -0.4, 'x_s_2': -0.5, 'x_p1': -0.367973, 'x_p1_1': -0.467973, 'x_p1_2': -0.567973, 'x_p2': 0.5, 'x_p2_1': 0.4, 'x_p2_2': -0.5, 'x_r2': 0.568083, 'x_r2_1': 0.468083, 'x_r2_2': 0.368083} using model BoTorch.\n",
      "[INFO 04-07 06:33:52] ax.service.ax_client: Completed trial 1309 with data: {'Viable_Cross_Terms': (8, None)}.\n",
      "[INFO 04-07 06:33:53] ax.modelbridge.base: Leaving out out-of-design observations for arms: 1204_0, 940_0, 939_0\n",
      "[INFO 04-07 06:40:00] ax.service.ax_client: Generated new trial 1310 with parameters {'z_sh': 7, 'z_sh_1': 6, 'z_sh_2': 8, 'z_p2': 27, 'z_p2_1': 34, 'z_p2_2': 25, 'z_r2': 82, 'z_r2_1': 85, 'z_r2_2': 84, 'x_s': 0.5, 'x_s_1': 0.4, 'x_s_2': 0.3, 'x_p1': 1.0, 'x_p1_1': 0.9, 'x_p1_2': 0.8, 'x_p2': -0.3, 'x_p2_1': -0.4, 'x_p2_2': -0.5, 'x_r2': 0.478415, 'x_r2_1': 0.378415, 'x_r2_2': 0.278415} using model BoTorch.\n",
      "[INFO 04-07 06:40:00] ax.service.ax_client: Completed trial 1310 with data: {'Viable_Cross_Terms': (69, None)}.\n",
      "[INFO 04-07 06:40:01] ax.modelbridge.base: Leaving out out-of-design observations for arms: 1204_0, 940_0, 939_0\n",
      "[INFO 04-07 06:45:53] ax.service.ax_client: Generated new trial 1311 with parameters {'z_sh': 7, 'z_sh_1': 6, 'z_sh_2': 8, 'z_p2': 27, 'z_p2_1': 34, 'z_p2_2': 33, 'z_r2': 82, 'z_r2_1': 85, 'z_r2_2': 84, 'x_s': 0.5, 'x_s_1': 0.4, 'x_s_2': 0.3, 'x_p1': 1.0, 'x_p1_1': 0.9, 'x_p1_2': 0.8, 'x_p2': -0.3, 'x_p2_1': -0.4, 'x_p2_2': -0.5, 'x_r2': 0.469019, 'x_r2_1': 0.369019, 'x_r2_2': 0.269019} using model BoTorch.\n",
      "[INFO 04-07 06:45:53] ax.service.ax_client: Completed trial 1311 with data: {'Viable_Cross_Terms': (68, None)}.\n",
      "[INFO 04-07 06:45:54] ax.modelbridge.base: Leaving out out-of-design observations for arms: 1204_0, 940_0, 939_0\n",
      "[INFO 04-07 06:52:01] ax.service.ax_client: Generated new trial 1312 with parameters {'z_sh': 10, 'z_sh_1': 11, 'z_sh_2': 5, 'z_p2': 30, 'z_p2_1': 30, 'z_p2_2': 28, 'z_r2': 80, 'z_r2_1': 83, 'z_r2_2': 81, 'x_s': 0.5, 'x_s_1': 0.4, 'x_s_2': 0.3, 'x_p1': 0.714586, 'x_p1_1': 0.614586, 'x_p1_2': 0.514586, 'x_p2': 0.450723, 'x_p2_1': 0.350723, 'x_p2_2': 0.250723, 'x_r2': 1.010742, 'x_r2_1': 0.910742, 'x_r2_2': 0.810742} using model BoTorch.\n",
      "[INFO 04-07 06:52:01] ax.service.ax_client: Completed trial 1312 with data: {'Viable_Cross_Terms': (76, None)}.\n",
      "[INFO 04-07 06:52:02] ax.modelbridge.base: Leaving out out-of-design observations for arms: 1204_0, 940_0, 939_0\n",
      "[INFO 04-07 06:57:20] ax.service.ax_client: Generated new trial 1313 with parameters {'z_sh': 9, 'z_sh_1': 10, 'z_sh_2': 5, 'z_p2': 28, 'z_p2_1': 29, 'z_p2_2': 31, 'z_r2': 79, 'z_r2_1': 77, 'z_r2_2': 74, 'x_s': -0.3, 'x_s_1': -0.4, 'x_s_2': -0.5, 'x_p1': -0.52873, 'x_p1_1': -0.9, 'x_p1_2': -1.0, 'x_p2': 0.5, 'x_p2_1': 0.4, 'x_p2_2': -0.5, 'x_r2': -0.37053, 'x_r2_1': -0.47053, 'x_r2_2': -0.57053} using model BoTorch.\n",
      "[INFO 04-07 06:57:20] ax.service.ax_client: Completed trial 1313 with data: {'Viable_Cross_Terms': (6, None)}.\n",
      "[INFO 04-07 06:57:21] ax.modelbridge.base: Leaving out out-of-design observations for arms: 1204_0, 940_0, 939_0\n",
      "[INFO 04-07 07:03:41] ax.service.ax_client: Generated new trial 1314 with parameters {'z_sh': 8, 'z_sh_1': 11, 'z_sh_2': 5, 'z_p2': 28, 'z_p2_1': 29, 'z_p2_2': 26, 'z_r2': 73, 'z_r2_1': 76, 'z_r2_2': 80, 'x_s': 0.5, 'x_s_1': 0.4, 'x_s_2': 0.3, 'x_p1': -0.482258, 'x_p1_1': -0.582258, 'x_p1_2': -0.682258, 'x_p2': 0.5, 'x_p2_1': 0.4, 'x_p2_2': 0.3, 'x_r2': 1.5, 'x_r2_1': 1.4, 'x_r2_2': 1.3} using model BoTorch.\n",
      "[INFO 04-07 07:03:41] ax.service.ax_client: Completed trial 1314 with data: {'Viable_Cross_Terms': (9, None)}.\n",
      "[INFO 04-07 07:03:42] ax.modelbridge.base: Leaving out out-of-design observations for arms: 1204_0, 940_0, 939_0\n",
      "[INFO 04-07 07:09:55] ax.service.ax_client: Generated new trial 1315 with parameters {'z_sh': 8, 'z_sh_1': 11, 'z_sh_2': 11, 'z_p2': 31, 'z_p2_1': 26, 'z_p2_2': 27, 'z_r2': 84, 'z_r2_1': 85, 'z_r2_2': 82, 'x_s': -0.3, 'x_s_1': -0.4, 'x_s_2': -0.5, 'x_p1': -0.317076, 'x_p1_1': -0.417076, 'x_p1_2': -0.517076, 'x_p2': 0.5, 'x_p2_1': -0.4, 'x_p2_2': -0.5, 'x_r2': -0.289385, 'x_r2_1': -0.389385, 'x_r2_2': -0.489385} using model BoTorch.\n",
      "[INFO 04-07 07:09:55] ax.service.ax_client: Completed trial 1315 with data: {'Viable_Cross_Terms': (8, None)}.\n",
      "[INFO 04-07 07:09:56] ax.modelbridge.base: Leaving out out-of-design observations for arms: 1204_0, 940_0, 939_0\n",
      "[INFO 04-07 07:16:25] ax.service.ax_client: Generated new trial 1316 with parameters {'z_sh': 7, 'z_sh_1': 6, 'z_sh_2': 8, 'z_p2': 27, 'z_p2_1': 34, 'z_p2_2': 33, 'z_r2': 82, 'z_r2_1': 85, 'z_r2_2': 84, 'x_s': 0.5, 'x_s_1': 0.4, 'x_s_2': 0.3, 'x_p1': 1.0, 'x_p1_1': 0.9, 'x_p1_2': 0.8, 'x_p2': -0.3, 'x_p2_1': -0.4, 'x_p2_2': -0.5, 'x_r2': 0.474162, 'x_r2_1': 0.374162, 'x_r2_2': 0.274162} using model BoTorch.\n",
      "[INFO 04-07 07:16:25] ax.service.ax_client: Completed trial 1316 with data: {'Viable_Cross_Terms': (71, None)}.\n",
      "[INFO 04-07 07:16:26] ax.modelbridge.base: Leaving out out-of-design observations for arms: 1204_0, 940_0, 939_0\n",
      "[INFO 04-07 07:22:21] ax.service.ax_client: Generated new trial 1317 with parameters {'z_sh': 8, 'z_sh_1': 6, 'z_sh_2': 5, 'z_p2': 35, 'z_p2_1': 26, 'z_p2_2': 33, 'z_r2': 80, 'z_r2_1': 85, 'z_r2_2': 72, 'x_s': 0.5, 'x_s_1': 0.4, 'x_s_2': 0.3, 'x_p1': 0.68618, 'x_p1_1': 0.58618, 'x_p1_2': 0.48618, 'x_p2': 0.444432, 'x_p2_1': 0.344432, 'x_p2_2': 0.244432, 'x_r2': 1.00232, 'x_r2_1': 0.90232, 'x_r2_2': 0.80232} using model BoTorch.\n",
      "[INFO 04-07 07:22:21] ax.service.ax_client: Completed trial 1317 with data: {'Viable_Cross_Terms': (78, None)}.\n",
      "[INFO 04-07 07:22:22] ax.modelbridge.base: Leaving out out-of-design observations for arms: 1204_0, 940_0, 939_0\n",
      "[INFO 04-07 07:28:33] ax.service.ax_client: Generated new trial 1318 with parameters {'z_sh': 13, 'z_sh_1': 6, 'z_sh_2': 5, 'z_p2': 32, 'z_p2_1': 28, 'z_p2_2': 31, 'z_r2': 80, 'z_r2_1': 82, 'z_r2_2': 78, 'x_s': 0.5, 'x_s_1': 0.4, 'x_s_2': 0.3, 'x_p1': 0.689095, 'x_p1_1': 0.589095, 'x_p1_2': 0.489095, 'x_p2': 0.469414, 'x_p2_1': 0.369414, 'x_p2_2': 0.269414, 'x_r2': 0.995706, 'x_r2_1': 0.895706, 'x_r2_2': 0.795706} using model BoTorch.\n",
      "[INFO 04-07 07:28:34] ax.service.ax_client: Completed trial 1318 with data: {'Viable_Cross_Terms': (76, None)}.\n",
      "[INFO 04-07 07:28:34] ax.modelbridge.base: Leaving out out-of-design observations for arms: 1204_0, 940_0, 939_0\n",
      "[INFO 04-07 07:34:56] ax.service.ax_client: Generated new trial 1319 with parameters {'z_sh': 7, 'z_sh_1': 14, 'z_sh_2': 13, 'z_p2': 35, 'z_p2_1': 26, 'z_p2_2': 33, 'z_r2': 76, 'z_r2_1': 71, 'z_r2_2': 70, 'x_s': 0.5, 'x_s_1': -0.4, 'x_s_2': -0.5, 'x_p1': 1.0, 'x_p1_1': -0.9, 'x_p1_2': -1.0, 'x_p2': -0.3, 'x_p2_1': -0.4, 'x_p2_2': -0.5, 'x_r2': 1.5, 'x_r2_1': -1.4, 'x_r2_2': -1.5} using model BoTorch.\n",
      "[INFO 04-07 07:34:56] ax.service.ax_client: Completed trial 1319 with data: {'Viable_Cross_Terms': (0, None)}.\n",
      "[INFO 04-07 07:34:57] ax.modelbridge.base: Leaving out out-of-design observations for arms: 1204_0, 940_0, 939_0\n",
      "[INFO 04-07 07:41:05] ax.service.ax_client: Generated new trial 1320 with parameters {'z_sh': 11, 'z_sh_1': 10, 'z_sh_2': 5, 'z_p2': 35, 'z_p2_1': 33, 'z_p2_2': 29, 'z_r2': 80, 'z_r2_1': 80, 'z_r2_2': 79, 'x_s': 0.5, 'x_s_1': 0.4, 'x_s_2': 0.3, 'x_p1': 0.703586, 'x_p1_1': 0.603586, 'x_p1_2': 0.503586, 'x_p2': 0.5, 'x_p2_1': 0.4, 'x_p2_2': 0.3, 'x_r2': 0.75655, 'x_r2_1': 0.65655, 'x_r2_2': 0.55655} using model BoTorch.\n",
      "[INFO 04-07 07:41:05] ax.service.ax_client: Completed trial 1320 with data: {'Viable_Cross_Terms': (19, None)}.\n",
      "[INFO 04-07 07:41:07] ax.modelbridge.base: Leaving out out-of-design observations for arms: 1204_0, 940_0, 939_0\n",
      "[INFO 04-07 07:46:49] ax.service.ax_client: Generated new trial 1321 with parameters {'z_sh': 15, 'z_sh_1': 14, 'z_sh_2': 5, 'z_p2': 30, 'z_p2_1': 32, 'z_p2_2': 32, 'z_r2': 72, 'z_r2_1': 79, 'z_r2_2': 77, 'x_s': -0.3, 'x_s_1': -0.4, 'x_s_2': -0.5, 'x_p1': -0.164102, 'x_p1_1': -0.264102, 'x_p1_2': -0.364102, 'x_p2': 0.5, 'x_p2_1': 0.4, 'x_p2_2': 0.3, 'x_r2': 1.013089, 'x_r2_1': 0.913089, 'x_r2_2': 0.813089} using model BoTorch.\n",
      "[INFO 04-07 07:46:49] ax.service.ax_client: Completed trial 1321 with data: {'Viable_Cross_Terms': (0, None)}.\n",
      "[INFO 04-07 07:46:50] ax.modelbridge.base: Leaving out out-of-design observations for arms: 1204_0, 940_0, 939_0\n",
      "[INFO 04-07 07:53:02] ax.service.ax_client: Generated new trial 1322 with parameters {'z_sh': 7, 'z_sh_1': 8, 'z_sh_2': 5, 'z_p2': 34, 'z_p2_1': 32, 'z_p2_2': 27, 'z_r2': 80, 'z_r2_1': 83, 'z_r2_2': 74, 'x_s': 0.5, 'x_s_1': 0.4, 'x_s_2': -0.5, 'x_p1': 0.758163, 'x_p1_1': 0.658163, 'x_p1_2': 0.558163, 'x_p2': 0.5, 'x_p2_1': 0.4, 'x_p2_2': -0.15589, 'x_r2': 0.753271, 'x_r2_1': 0.653271, 'x_r2_2': 0.553271} using model BoTorch.\n",
      "[INFO 04-07 07:53:02] ax.service.ax_client: Completed trial 1322 with data: {'Viable_Cross_Terms': (27, None)}.\n",
      "[INFO 04-07 07:53:03] ax.modelbridge.base: Leaving out out-of-design observations for arms: 1204_0, 940_0, 939_0\n",
      "[INFO 04-07 07:59:25] ax.service.ax_client: Generated new trial 1323 with parameters {'z_sh': 14, 'z_sh_1': 6, 'z_sh_2': 5, 'z_p2': 34, 'z_p2_1': 30, 'z_p2_2': 32, 'z_r2': 74, 'z_r2_1': 71, 'z_r2_2': 76, 'x_s': 0.5, 'x_s_1': 0.4, 'x_s_2': 0.3, 'x_p1': -0.104622, 'x_p1_1': -0.204622, 'x_p1_2': -0.304622, 'x_p2': 0.5, 'x_p2_1': 0.4, 'x_p2_2': 0.3, 'x_r2': 1.032378, 'x_r2_1': 0.932378, 'x_r2_2': 0.832378} using model BoTorch.\n",
      "[INFO 04-07 07:59:25] ax.service.ax_client: Completed trial 1323 with data: {'Viable_Cross_Terms': (4, None)}.\n",
      "[INFO 04-07 07:59:26] ax.modelbridge.base: Leaving out out-of-design observations for arms: 1204_0, 940_0, 939_0\n",
      "[INFO 04-07 08:06:05] ax.service.ax_client: Generated new trial 1324 with parameters {'z_sh': 15, 'z_sh_1': 9, 'z_sh_2': 10, 'z_p2': 34, 'z_p2_1': 26, 'z_p2_2': 26, 'z_r2': 78, 'z_r2_1': 75, 'z_r2_2': 73, 'x_s': -0.3, 'x_s_1': -0.4, 'x_s_2': -0.5, 'x_p1': 0.261824, 'x_p1_1': 0.161824, 'x_p1_2': 0.061824, 'x_p2': 0.5, 'x_p2_1': -0.4, 'x_p2_2': -0.5, 'x_r2': 0.405321, 'x_r2_1': 0.305321, 'x_r2_2': 0.205321} using model BoTorch.\n",
      "[INFO 04-07 08:06:05] ax.service.ax_client: Completed trial 1324 with data: {'Viable_Cross_Terms': (5, None)}.\n",
      "[INFO 04-07 08:06:06] ax.modelbridge.base: Leaving out out-of-design observations for arms: 1204_0, 940_0, 939_0\n",
      "[INFO 04-07 08:14:10] ax.service.ax_client: Generated new trial 1325 with parameters {'z_sh': 7, 'z_sh_1': 6, 'z_sh_2': 10, 'z_p2': 28, 'z_p2_1': 34, 'z_p2_2': 25, 'z_r2': 82, 'z_r2_1': 75, 'z_r2_2': 79, 'x_s': 0.5, 'x_s_1': 0.4, 'x_s_2': 0.3, 'x_p1': 1.0, 'x_p1_1': 0.9, 'x_p1_2': 0.8, 'x_p2': 0.374235, 'x_p2_1': -0.4, 'x_p2_2': -0.5, 'x_r2': 0.456363, 'x_r2_1': 0.356363, 'x_r2_2': 0.256363} using model BoTorch.\n",
      "[INFO 04-07 08:14:10] ax.service.ax_client: Completed trial 1325 with data: {'Viable_Cross_Terms': (46, None)}.\n",
      "[INFO 04-07 08:14:11] ax.modelbridge.base: Leaving out out-of-design observations for arms: 1204_0, 940_0, 939_0\n",
      "[INFO 04-07 08:20:26] ax.service.ax_client: Generated new trial 1326 with parameters {'z_sh': 15, 'z_sh_1': 6, 'z_sh_2': 13, 'z_p2': 27, 'z_p2_1': 34, 'z_p2_2': 25, 'z_r2': 82, 'z_r2_1': 71, 'z_r2_2': 70, 'x_s': 0.5, 'x_s_1': 0.4, 'x_s_2': -0.5, 'x_p1': -0.8, 'x_p1_1': -0.9, 'x_p1_2': -1.0, 'x_p2': 0.5, 'x_p2_1': 0.4, 'x_p2_2': -0.5, 'x_r2': -0.167628, 'x_r2_1': -0.267628, 'x_r2_2': -1.5} using model BoTorch.\n",
      "[INFO 04-07 08:20:26] ax.service.ax_client: Completed trial 1326 with data: {'Viable_Cross_Terms': (12, None)}.\n",
      "[INFO 04-07 08:20:27] ax.modelbridge.base: Leaving out out-of-design observations for arms: 1204_0, 940_0, 939_0\n",
      "[INFO 04-07 08:26:09] ax.service.ax_client: Generated new trial 1327 with parameters {'z_sh': 8, 'z_sh_1': 6, 'z_sh_2': 5, 'z_p2': 27, 'z_p2_1': 26, 'z_p2_2': 33, 'z_r2': 80, 'z_r2_1': 85, 'z_r2_2': 83, 'x_s': 0.5, 'x_s_1': 0.4, 'x_s_2': 0.3, 'x_p1': 0.525116, 'x_p1_1': 0.425116, 'x_p1_2': 0.325116, 'x_p2': 0.433587, 'x_p2_1': 0.333587, 'x_p2_2': 0.233587, 'x_r2': 1.080573, 'x_r2_1': 0.980573, 'x_r2_2': 0.880573} using model BoTorch.\n",
      "[INFO 04-07 08:26:09] ax.service.ax_client: Completed trial 1327 with data: {'Viable_Cross_Terms': (56, None)}.\n",
      "[INFO 04-07 08:26:10] ax.modelbridge.base: Leaving out out-of-design observations for arms: 1204_0, 940_0, 939_0\n",
      "[INFO 04-07 08:32:18] ax.service.ax_client: Generated new trial 1328 with parameters {'z_sh': 9, 'z_sh_1': 12, 'z_sh_2': 5, 'z_p2': 30, 'z_p2_1': 29, 'z_p2_2': 31, 'z_r2': 83, 'z_r2_1': 79, 'z_r2_2': 81, 'x_s': -0.3, 'x_s_1': -0.4, 'x_s_2': -0.5, 'x_p1': -0.299109, 'x_p1_1': -0.399109, 'x_p1_2': -0.499109, 'x_p2': -0.3, 'x_p2_1': -0.4, 'x_p2_2': -0.5, 'x_r2': 0.581043, 'x_r2_1': 0.481043, 'x_r2_2': -1.5} using model BoTorch.\n",
      "[INFO 04-07 08:32:18] ax.service.ax_client: Completed trial 1328 with data: {'Viable_Cross_Terms': (3, None)}.\n",
      "[INFO 04-07 08:32:19] ax.modelbridge.base: Leaving out out-of-design observations for arms: 1204_0, 940_0, 939_0\n",
      "[INFO 04-07 08:38:21] ax.service.ax_client: Generated new trial 1329 with parameters {'z_sh': 15, 'z_sh_1': 9, 'z_sh_2': 13, 'z_p2': 30, 'z_p2_1': 30, 'z_p2_2': 29, 'z_r2': 84, 'z_r2_1': 85, 'z_r2_2': 83, 'x_s': 0.5, 'x_s_1': 0.4, 'x_s_2': -0.5, 'x_p1': -0.085099, 'x_p1_1': -0.9, 'x_p1_2': -1.0, 'x_p2': 0.5, 'x_p2_1': 0.4, 'x_p2_2': 0.3, 'x_r2': -0.69597, 'x_r2_1': -0.79597, 'x_r2_2': -1.5} using model BoTorch.\n",
      "[INFO 04-07 08:38:21] ax.service.ax_client: Completed trial 1329 with data: {'Viable_Cross_Terms': (2, None)}.\n",
      "[INFO 04-07 08:38:22] ax.modelbridge.base: Leaving out out-of-design observations for arms: 1204_0, 940_0, 939_0\n",
      "[INFO 04-07 08:45:15] ax.service.ax_client: Generated new trial 1330 with parameters {'z_sh': 7, 'z_sh_1': 11, 'z_sh_2': 5, 'z_p2': 35, 'z_p2_1': 30, 'z_p2_2': 26, 'z_r2': 80, 'z_r2_1': 81, 'z_r2_2': 83, 'x_s': 0.5, 'x_s_1': 0.4, 'x_s_2': -0.130024, 'x_p1': 0.877335, 'x_p1_1': 0.777335, 'x_p1_2': 0.677335, 'x_p2': 0.024859, 'x_p2_1': -0.075141, 'x_p2_2': -0.202057, 'x_r2': 0.61738, 'x_r2_1': 0.51738, 'x_r2_2': 0.41738} using model BoTorch.\n",
      "[INFO 04-07 08:45:15] ax.service.ax_client: Completed trial 1330 with data: {'Viable_Cross_Terms': (35, None)}.\n",
      "[INFO 04-07 08:45:16] ax.modelbridge.base: Leaving out out-of-design observations for arms: 1204_0, 940_0, 939_0\n"
     ]
    },
    {
     "ename": "KeyboardInterrupt",
     "evalue": "",
     "output_type": "error",
     "traceback": [
      "\u001b[1;31m---------------------------------------------------------------------------\u001b[0m",
      "\u001b[1;31mKeyboardInterrupt\u001b[0m                         Traceback (most recent call last)",
      "Cell \u001b[1;32mIn[245], line 2\u001b[0m\n\u001b[0;32m      1\u001b[0m \u001b[38;5;28;01mfor\u001b[39;00m i \u001b[38;5;129;01min\u001b[39;00m \u001b[38;5;28mrange\u001b[39m(\u001b[38;5;241m300\u001b[39m):\n\u001b[1;32m----> 2\u001b[0m     parameterization, trial_index \u001b[38;5;241m=\u001b[39m \u001b[43mTag_client\u001b[49m\u001b[38;5;241;43m.\u001b[39;49m\u001b[43mget_next_trial\u001b[49m\u001b[43m(\u001b[49m\u001b[43m)\u001b[49m\n\u001b[0;32m      3\u001b[0m     \u001b[38;5;66;03m# Local evaluation here can be replaced with deployment to external system.\u001b[39;00m\n\u001b[0;32m      4\u001b[0m     Tag_client\u001b[38;5;241m.\u001b[39mcomplete_trial(trial_index\u001b[38;5;241m=\u001b[39mtrial_index, raw_data\u001b[38;5;241m=\u001b[39mscore_vals(param_to_list(parameterization)))\n",
      "File \u001b[1;32mc:\\Users\\Greg\\AppData\\Local\\Programs\\Python\\Python312\\Lib\\site-packages\\ax\\utils\\common\\executils.py:169\u001b[0m, in \u001b[0;36mretry_on_exception.<locals>.func_wrapper.<locals>.actual_wrapper\u001b[1;34m(*args, **kwargs)\u001b[0m\n\u001b[0;32m    165\u001b[0m             wait_interval \u001b[38;5;241m=\u001b[39m \u001b[38;5;28mmin\u001b[39m(\n\u001b[0;32m    166\u001b[0m                 MAX_WAIT_SECONDS, initial_wait_seconds \u001b[38;5;241m*\u001b[39m \u001b[38;5;241m2\u001b[39m \u001b[38;5;241m*\u001b[39m\u001b[38;5;241m*\u001b[39m (i \u001b[38;5;241m-\u001b[39m \u001b[38;5;241m1\u001b[39m)\n\u001b[0;32m    167\u001b[0m             )\n\u001b[0;32m    168\u001b[0m             time\u001b[38;5;241m.\u001b[39msleep(wait_interval)\n\u001b[1;32m--> 169\u001b[0m         \u001b[38;5;28;01mreturn\u001b[39;00m \u001b[43mfunc\u001b[49m\u001b[43m(\u001b[49m\u001b[38;5;241;43m*\u001b[39;49m\u001b[43margs\u001b[49m\u001b[43m,\u001b[49m\u001b[43m \u001b[49m\u001b[38;5;241;43m*\u001b[39;49m\u001b[38;5;241;43m*\u001b[39;49m\u001b[43mkwargs\u001b[49m\u001b[43m)\u001b[49m\n\u001b[0;32m    171\u001b[0m \u001b[38;5;66;03m# If we are here, it means the retries were finished but\u001b[39;00m\n\u001b[0;32m    172\u001b[0m \u001b[38;5;66;03m# The error was suppressed. Hence return the default value provided.\u001b[39;00m\n\u001b[0;32m    173\u001b[0m \u001b[38;5;28;01mreturn\u001b[39;00m default_return_on_suppression\n",
      "File \u001b[1;32mc:\\Users\\Greg\\AppData\\Local\\Programs\\Python\\Python312\\Lib\\site-packages\\ax\\service\\ax_client.py:576\u001b[0m, in \u001b[0;36mAxClient.get_next_trial\u001b[1;34m(self, ttl_seconds, force, fixed_features)\u001b[0m\n\u001b[0;32m    572\u001b[0m         \u001b[38;5;28;01mraise\u001b[39;00m OptimizationShouldStop(message\u001b[38;5;241m=\u001b[39mglobal_stopping_message)\n\u001b[0;32m    574\u001b[0m \u001b[38;5;28;01mtry\u001b[39;00m:\n\u001b[0;32m    575\u001b[0m     trial \u001b[38;5;241m=\u001b[39m \u001b[38;5;28mself\u001b[39m\u001b[38;5;241m.\u001b[39mexperiment\u001b[38;5;241m.\u001b[39mnew_trial(\n\u001b[1;32m--> 576\u001b[0m         generator_run\u001b[38;5;241m=\u001b[39m\u001b[38;5;28;43mself\u001b[39;49m\u001b[38;5;241;43m.\u001b[39;49m\u001b[43m_gen_new_generator_run\u001b[49m\u001b[43m(\u001b[49m\n\u001b[0;32m    577\u001b[0m \u001b[43m            \u001b[49m\u001b[43mfixed_features\u001b[49m\u001b[38;5;241;43m=\u001b[39;49m\u001b[43mfixed_features\u001b[49m\n\u001b[0;32m    578\u001b[0m \u001b[43m        \u001b[49m\u001b[43m)\u001b[49m,\n\u001b[0;32m    579\u001b[0m         ttl_seconds\u001b[38;5;241m=\u001b[39mttl_seconds,\n\u001b[0;32m    580\u001b[0m     )\n\u001b[0;32m    581\u001b[0m \u001b[38;5;28;01mexcept\u001b[39;00m MaxParallelismReachedException \u001b[38;5;28;01mas\u001b[39;00m e:\n\u001b[0;32m    582\u001b[0m     \u001b[38;5;28;01mif\u001b[39;00m \u001b[38;5;28mself\u001b[39m\u001b[38;5;241m.\u001b[39m_early_stopping_strategy \u001b[38;5;129;01mis\u001b[39;00m \u001b[38;5;129;01mnot\u001b[39;00m \u001b[38;5;28;01mNone\u001b[39;00m:\n",
      "File \u001b[1;32mc:\\Users\\Greg\\AppData\\Local\\Programs\\Python\\Python312\\Lib\\site-packages\\ax\\service\\ax_client.py:1818\u001b[0m, in \u001b[0;36mAxClient._gen_new_generator_run\u001b[1;34m(self, n, fixed_features)\u001b[0m\n\u001b[0;32m   1810\u001b[0m fixed_feats \u001b[38;5;241m=\u001b[39m (\n\u001b[0;32m   1811\u001b[0m     InstantiationBase\u001b[38;5;241m.\u001b[39mmake_fixed_observation_features(\n\u001b[0;32m   1812\u001b[0m         fixed_features\u001b[38;5;241m=\u001b[39mfixed_features\n\u001b[1;32m   (...)\u001b[0m\n\u001b[0;32m   1815\u001b[0m     \u001b[38;5;28;01melse\u001b[39;00m \u001b[38;5;28;01mNone\u001b[39;00m\n\u001b[0;32m   1816\u001b[0m )\n\u001b[0;32m   1817\u001b[0m \u001b[38;5;28;01mwith\u001b[39;00m with_rng_seed(seed\u001b[38;5;241m=\u001b[39m\u001b[38;5;28mself\u001b[39m\u001b[38;5;241m.\u001b[39m_random_seed):\n\u001b[1;32m-> 1818\u001b[0m     \u001b[38;5;28;01mreturn\u001b[39;00m \u001b[43mnone_throws\u001b[49m\u001b[43m(\u001b[49m\u001b[38;5;28;43mself\u001b[39;49m\u001b[38;5;241;43m.\u001b[39;49m\u001b[43mgeneration_strategy\u001b[49m\u001b[43m)\u001b[49m\u001b[38;5;241;43m.\u001b[39;49m\u001b[43mgen\u001b[49m\u001b[43m(\u001b[49m\n\u001b[0;32m   1819\u001b[0m \u001b[43m        \u001b[49m\u001b[43mexperiment\u001b[49m\u001b[38;5;241;43m=\u001b[39;49m\u001b[38;5;28;43mself\u001b[39;49m\u001b[38;5;241;43m.\u001b[39;49m\u001b[43mexperiment\u001b[49m\u001b[43m,\u001b[49m\n\u001b[0;32m   1820\u001b[0m \u001b[43m        \u001b[49m\u001b[43mn\u001b[49m\u001b[38;5;241;43m=\u001b[39;49m\u001b[43mn\u001b[49m\u001b[43m,\u001b[49m\n\u001b[0;32m   1821\u001b[0m \u001b[43m        \u001b[49m\u001b[43mpending_observations\u001b[49m\u001b[38;5;241;43m=\u001b[39;49m\u001b[38;5;28;43mself\u001b[39;49m\u001b[38;5;241;43m.\u001b[39;49m\u001b[43m_get_pending_observation_features\u001b[49m\u001b[43m(\u001b[49m\n\u001b[0;32m   1822\u001b[0m \u001b[43m            \u001b[49m\u001b[43mexperiment\u001b[49m\u001b[38;5;241;43m=\u001b[39;49m\u001b[38;5;28;43mself\u001b[39;49m\u001b[38;5;241;43m.\u001b[39;49m\u001b[43mexperiment\u001b[49m\n\u001b[0;32m   1823\u001b[0m \u001b[43m        \u001b[49m\u001b[43m)\u001b[49m\u001b[43m,\u001b[49m\n\u001b[0;32m   1824\u001b[0m \u001b[43m        \u001b[49m\u001b[43mfixed_features\u001b[49m\u001b[38;5;241;43m=\u001b[39;49m\u001b[43mfixed_feats\u001b[49m\u001b[43m,\u001b[49m\n\u001b[0;32m   1825\u001b[0m \u001b[43m    \u001b[49m\u001b[43m)\u001b[49m\n",
      "File \u001b[1;32mc:\\Users\\Greg\\AppData\\Local\\Programs\\Python\\Python312\\Lib\\site-packages\\ax\\modelbridge\\generation_strategy.py:339\u001b[0m, in \u001b[0;36mGenerationStrategy.gen\u001b[1;34m(self, experiment, data, pending_observations, n, fixed_features)\u001b[0m\n\u001b[0;32m    304\u001b[0m \u001b[38;5;28;01mdef\u001b[39;00m \u001b[38;5;21mgen\u001b[39m(\n\u001b[0;32m    305\u001b[0m     \u001b[38;5;28mself\u001b[39m,\n\u001b[0;32m    306\u001b[0m     experiment: Experiment,\n\u001b[1;32m   (...)\u001b[0m\n\u001b[0;32m    310\u001b[0m     fixed_features: ObservationFeatures \u001b[38;5;241m|\u001b[39m \u001b[38;5;28;01mNone\u001b[39;00m \u001b[38;5;241m=\u001b[39m \u001b[38;5;28;01mNone\u001b[39;00m,\n\u001b[0;32m    311\u001b[0m ) \u001b[38;5;241m-\u001b[39m\u001b[38;5;241m>\u001b[39m GeneratorRun:\n\u001b[0;32m    312\u001b[0m \u001b[38;5;250m    \u001b[39m\u001b[38;5;124;03m\"\"\"Produce the next points in the experiment. Additional kwargs passed to\u001b[39;00m\n\u001b[0;32m    313\u001b[0m \u001b[38;5;124;03m    this method are propagated directly to the underlying model's `gen`, along\u001b[39;00m\n\u001b[0;32m    314\u001b[0m \u001b[38;5;124;03m    with the `model_gen_kwargs` set on the current generation node.\u001b[39;00m\n\u001b[1;32m   (...)\u001b[0m\n\u001b[0;32m    337\u001b[0m \u001b[38;5;124;03m            resuggesting points that are currently being evaluated.\u001b[39;00m\n\u001b[0;32m    338\u001b[0m \u001b[38;5;124;03m    \"\"\"\u001b[39;00m\n\u001b[1;32m--> 339\u001b[0m     gr \u001b[38;5;241m=\u001b[39m \u001b[38;5;28;43mself\u001b[39;49m\u001b[38;5;241;43m.\u001b[39;49m\u001b[43m_gen_with_multiple_nodes\u001b[49m\u001b[43m(\u001b[49m\n\u001b[0;32m    340\u001b[0m \u001b[43m        \u001b[49m\u001b[43mexperiment\u001b[49m\u001b[38;5;241;43m=\u001b[39;49m\u001b[43mexperiment\u001b[49m\u001b[43m,\u001b[49m\n\u001b[0;32m    341\u001b[0m \u001b[43m        \u001b[49m\u001b[43mdata\u001b[49m\u001b[38;5;241;43m=\u001b[39;49m\u001b[43mdata\u001b[49m\u001b[43m,\u001b[49m\n\u001b[0;32m    342\u001b[0m \u001b[43m        \u001b[49m\u001b[43mn\u001b[49m\u001b[38;5;241;43m=\u001b[39;49m\u001b[43mn\u001b[49m\u001b[43m,\u001b[49m\n\u001b[0;32m    343\u001b[0m \u001b[43m        \u001b[49m\u001b[43mpending_observations\u001b[49m\u001b[38;5;241;43m=\u001b[39;49m\u001b[43mpending_observations\u001b[49m\u001b[43m,\u001b[49m\n\u001b[0;32m    344\u001b[0m \u001b[43m        \u001b[49m\u001b[43mfixed_features\u001b[49m\u001b[38;5;241;43m=\u001b[39;49m\u001b[43mfixed_features\u001b[49m\u001b[43m,\u001b[49m\n\u001b[0;32m    345\u001b[0m \u001b[43m    \u001b[49m\u001b[43m)\u001b[49m\n\u001b[0;32m    346\u001b[0m     \u001b[38;5;28;01mif\u001b[39;00m \u001b[38;5;28mlen\u001b[39m(gr) \u001b[38;5;241m>\u001b[39m \u001b[38;5;241m1\u001b[39m:\n\u001b[0;32m    347\u001b[0m         \u001b[38;5;28;01mraise\u001b[39;00m UnsupportedError(\n\u001b[0;32m    348\u001b[0m             \u001b[38;5;124m\"\u001b[39m\u001b[38;5;124mBy calling into GenerationStrategy.gen(), you are should be \u001b[39m\u001b[38;5;124m\"\u001b[39m\n\u001b[0;32m    349\u001b[0m             \u001b[38;5;124m\"\u001b[39m\u001b[38;5;124mexpecting a single `Trial` with only one `GeneratorRun`. However, \u001b[39m\u001b[38;5;124m\"\u001b[39m\n\u001b[0;32m    350\u001b[0m             \u001b[38;5;124m\"\u001b[39m\u001b[38;5;124mthe underlying GenerationStrategy produced multiple `GeneratorRuns` \u001b[39m\u001b[38;5;124m\"\u001b[39m\n\u001b[0;32m    351\u001b[0m             \u001b[38;5;124mf\u001b[39m\u001b[38;5;124m\"\u001b[39m\u001b[38;5;124mand returned the following list of `GeneratorRun`-s: \u001b[39m\u001b[38;5;132;01m{\u001b[39;00mgr\u001b[38;5;132;01m}\u001b[39;00m\u001b[38;5;124m\"\u001b[39m\n\u001b[0;32m    352\u001b[0m         )\n",
      "File \u001b[1;32mc:\\Users\\Greg\\AppData\\Local\\Programs\\Python\\Python312\\Lib\\site-packages\\ax\\modelbridge\\generation_strategy.py:449\u001b[0m, in \u001b[0;36mGenerationStrategy._gen_with_multiple_nodes\u001b[1;34m(self, experiment, data, pending_observations, n, fixed_features, arms_per_node)\u001b[0m\n\u001b[0;32m    447\u001b[0m \u001b[38;5;28;01mif\u001b[39;00m node_to_gen_from\u001b[38;5;241m.\u001b[39m_should_skip:\n\u001b[0;32m    448\u001b[0m     \u001b[38;5;28;01mcontinue\u001b[39;00m\n\u001b[1;32m--> 449\u001b[0m \u001b[38;5;28;43mself\u001b[39;49m\u001b[38;5;241;43m.\u001b[39;49m\u001b[43m_fit_current_model\u001b[49m\u001b[43m(\u001b[49m\u001b[43mdata\u001b[49m\u001b[38;5;241;43m=\u001b[39;49m\u001b[43mdata\u001b[49m\u001b[43m,\u001b[49m\u001b[43m \u001b[49m\u001b[43mstatus_quo_features\u001b[49m\u001b[38;5;241;43m=\u001b[39;49m\u001b[43msq_ft_from_node\u001b[49m\u001b[43m)\u001b[49m\n\u001b[0;32m    450\u001b[0m \u001b[38;5;28mself\u001b[39m\u001b[38;5;241m.\u001b[39m_curr\u001b[38;5;241m.\u001b[39mgenerator_run_limit(raise_generation_errors\u001b[38;5;241m=\u001b[39m\u001b[38;5;28;01mTrue\u001b[39;00m)\n\u001b[0;32m    451\u001b[0m \u001b[38;5;28;01mif\u001b[39;00m arms_from_node \u001b[38;5;241m!=\u001b[39m \u001b[38;5;241m0\u001b[39m:\n",
      "File \u001b[1;32mc:\\Users\\Greg\\AppData\\Local\\Programs\\Python\\Python312\\Lib\\site-packages\\ax\\modelbridge\\generation_strategy.py:1116\u001b[0m, in \u001b[0;36mGenerationStrategy._fit_current_model\u001b[1;34m(self, data, status_quo_features)\u001b[0m\n\u001b[0;32m   1110\u001b[0m     \u001b[38;5;28mself\u001b[39m\u001b[38;5;241m.\u001b[39m_curr\u001b[38;5;241m.\u001b[39mfit(\n\u001b[0;32m   1111\u001b[0m         experiment\u001b[38;5;241m=\u001b[39m\u001b[38;5;28mself\u001b[39m\u001b[38;5;241m.\u001b[39mexperiment,\n\u001b[0;32m   1112\u001b[0m         data\u001b[38;5;241m=\u001b[39mdata,\n\u001b[0;32m   1113\u001b[0m         status_quo_features\u001b[38;5;241m=\u001b[39mstatus_quo_features,\n\u001b[0;32m   1114\u001b[0m     )\n\u001b[0;32m   1115\u001b[0m \u001b[38;5;28;01melse\u001b[39;00m:\n\u001b[1;32m-> 1116\u001b[0m     \u001b[38;5;28;43mself\u001b[39;49m\u001b[38;5;241;43m.\u001b[39;49m\u001b[43m_curr\u001b[49m\u001b[38;5;241;43m.\u001b[39;49m\u001b[43mfit\u001b[49m\u001b[43m(\u001b[49m\n\u001b[0;32m   1117\u001b[0m \u001b[43m        \u001b[49m\u001b[43mexperiment\u001b[49m\u001b[38;5;241;43m=\u001b[39;49m\u001b[38;5;28;43mself\u001b[39;49m\u001b[38;5;241;43m.\u001b[39;49m\u001b[43mexperiment\u001b[49m\u001b[43m,\u001b[49m\n\u001b[0;32m   1118\u001b[0m \u001b[43m        \u001b[49m\u001b[43mdata\u001b[49m\u001b[38;5;241;43m=\u001b[39;49m\u001b[43mdata\u001b[49m\u001b[43m,\u001b[49m\n\u001b[0;32m   1119\u001b[0m \u001b[43m    \u001b[49m\u001b[43m)\u001b[49m\n\u001b[0;32m   1120\u001b[0m \u001b[38;5;28mself\u001b[39m\u001b[38;5;241m.\u001b[39m_model \u001b[38;5;241m=\u001b[39m \u001b[38;5;28mself\u001b[39m\u001b[38;5;241m.\u001b[39m_curr\u001b[38;5;241m.\u001b[39m_fitted_model\n",
      "File \u001b[1;32mc:\\Users\\Greg\\AppData\\Local\\Programs\\Python\\Python312\\Lib\\site-packages\\ax\\modelbridge\\generation_node.py:311\u001b[0m, in \u001b[0;36mGenerationNode.fit\u001b[1;34m(self, experiment, data, search_space, optimization_config, **kwargs)\u001b[0m\n\u001b[0;32m    306\u001b[0m \u001b[38;5;28;01mfor\u001b[39;00m model_spec \u001b[38;5;129;01min\u001b[39;00m \u001b[38;5;28mself\u001b[39m\u001b[38;5;241m.\u001b[39mmodel_specs:\n\u001b[0;32m    307\u001b[0m     logger\u001b[38;5;241m.\u001b[39mdebug(\n\u001b[0;32m    308\u001b[0m         \u001b[38;5;124mf\u001b[39m\u001b[38;5;124m\"\u001b[39m\u001b[38;5;124mFitting model \u001b[39m\u001b[38;5;132;01m{\u001b[39;00mmodel_spec\u001b[38;5;241m.\u001b[39mmodel_key\u001b[38;5;132;01m}\u001b[39;00m\u001b[38;5;124m with data for \u001b[39m\u001b[38;5;124m\"\u001b[39m\n\u001b[0;32m    309\u001b[0m         \u001b[38;5;124mf\u001b[39m\u001b[38;5;124m\"\u001b[39m\u001b[38;5;124mtrials: \u001b[39m\u001b[38;5;132;01m{\u001b[39;00mtrial_indices_in_data\u001b[38;5;132;01m}\u001b[39;00m\u001b[38;5;124m\"\u001b[39m\n\u001b[0;32m    310\u001b[0m     )\n\u001b[1;32m--> 311\u001b[0m     \u001b[43mmodel_spec\u001b[49m\u001b[38;5;241;43m.\u001b[39;49m\u001b[43mfit\u001b[49m\u001b[43m(\u001b[49m\u001b[43m  \u001b[49m\u001b[38;5;66;43;03m# Stores the fitted model as `model_spec._fitted_model`\u001b[39;49;00m\n\u001b[0;32m    312\u001b[0m \u001b[43m        \u001b[49m\u001b[43mexperiment\u001b[49m\u001b[38;5;241;43m=\u001b[39;49m\u001b[43mexperiment\u001b[49m\u001b[43m,\u001b[49m\n\u001b[0;32m    313\u001b[0m \u001b[43m        \u001b[49m\u001b[43mdata\u001b[49m\u001b[38;5;241;43m=\u001b[39;49m\u001b[43mdata\u001b[49m\u001b[43m,\u001b[49m\n\u001b[0;32m    314\u001b[0m \u001b[43m        \u001b[49m\u001b[43msearch_space\u001b[49m\u001b[38;5;241;43m=\u001b[39;49m\u001b[43msearch_space\u001b[49m\u001b[43m,\u001b[49m\n\u001b[0;32m    315\u001b[0m \u001b[43m        \u001b[49m\u001b[43moptimization_config\u001b[49m\u001b[38;5;241;43m=\u001b[39;49m\u001b[43moptimization_config\u001b[49m\u001b[43m,\u001b[49m\n\u001b[0;32m    316\u001b[0m \u001b[43m        \u001b[49m\u001b[38;5;241;43m*\u001b[39;49m\u001b[38;5;241;43m*\u001b[39;49m\u001b[43m{\u001b[49m\n\u001b[0;32m    317\u001b[0m \u001b[43m            \u001b[49m\u001b[38;5;241;43m*\u001b[39;49m\u001b[38;5;241;43m*\u001b[39;49m\u001b[38;5;28;43mself\u001b[39;49m\u001b[38;5;241;43m.\u001b[39;49m\u001b[43m_get_model_state_from_last_generator_run\u001b[49m\u001b[43m(\u001b[49m\n\u001b[0;32m    318\u001b[0m \u001b[43m                \u001b[49m\u001b[43mmodel_spec\u001b[49m\u001b[38;5;241;43m=\u001b[39;49m\u001b[43mmodel_spec\u001b[49m\n\u001b[0;32m    319\u001b[0m \u001b[43m            \u001b[49m\u001b[43m)\u001b[49m\u001b[43m,\u001b[49m\n\u001b[0;32m    320\u001b[0m \u001b[43m            \u001b[49m\u001b[38;5;241;43m*\u001b[39;49m\u001b[38;5;241;43m*\u001b[39;49m\u001b[43mkwargs\u001b[49m\u001b[43m,\u001b[49m\n\u001b[0;32m    321\u001b[0m \u001b[43m        \u001b[49m\u001b[43m}\u001b[49m\u001b[43m,\u001b[49m\n\u001b[0;32m    322\u001b[0m \u001b[43m    \u001b[49m\u001b[43m)\u001b[49m\n",
      "File \u001b[1;32mc:\\Users\\Greg\\AppData\\Local\\Programs\\Python\\Python312\\Lib\\site-packages\\ax\\modelbridge\\model_spec.py:142\u001b[0m, in \u001b[0;36mModelSpec.fit\u001b[1;34m(self, experiment, data, **model_kwargs)\u001b[0m\n\u001b[0;32m    134\u001b[0m \u001b[38;5;28;01mif\u001b[39;00m \u001b[38;5;28mself\u001b[39m\u001b[38;5;241m.\u001b[39m_fitted_model \u001b[38;5;129;01mis\u001b[39;00m \u001b[38;5;129;01mnot\u001b[39;00m \u001b[38;5;28;01mNone\u001b[39;00m \u001b[38;5;129;01mand\u001b[39;00m \u001b[38;5;28mself\u001b[39m\u001b[38;5;241m.\u001b[39m_safe_to_update(\n\u001b[0;32m    135\u001b[0m     experiment\u001b[38;5;241m=\u001b[39mexperiment, combined_model_kwargs\u001b[38;5;241m=\u001b[39mcombined_model_kwargs\n\u001b[0;32m    136\u001b[0m ):\n\u001b[0;32m    137\u001b[0m     \u001b[38;5;66;03m# Update the data on the modelbridge and call `_fit`.\u001b[39;00m\n\u001b[0;32m    138\u001b[0m     \u001b[38;5;66;03m# This will skip model fitting if the data has not changed.\u001b[39;00m\n\u001b[0;32m    139\u001b[0m     observations, search_space \u001b[38;5;241m=\u001b[39m \u001b[38;5;28mself\u001b[39m\u001b[38;5;241m.\u001b[39mfitted_model\u001b[38;5;241m.\u001b[39m_process_and_transform_data(\n\u001b[0;32m    140\u001b[0m         experiment\u001b[38;5;241m=\u001b[39mexperiment, data\u001b[38;5;241m=\u001b[39mdata\n\u001b[0;32m    141\u001b[0m     )\n\u001b[1;32m--> 142\u001b[0m     \u001b[38;5;28;43mself\u001b[39;49m\u001b[38;5;241;43m.\u001b[39;49m\u001b[43mfitted_model\u001b[49m\u001b[38;5;241;43m.\u001b[39;49m\u001b[43m_fit_if_implemented\u001b[49m\u001b[43m(\u001b[49m\n\u001b[0;32m    143\u001b[0m \u001b[43m        \u001b[49m\u001b[43msearch_space\u001b[49m\u001b[38;5;241;43m=\u001b[39;49m\u001b[43msearch_space\u001b[49m\u001b[43m,\u001b[49m\u001b[43m \u001b[49m\u001b[43mobservations\u001b[49m\u001b[38;5;241;43m=\u001b[39;49m\u001b[43mobservations\u001b[49m\u001b[43m,\u001b[49m\u001b[43m \u001b[49m\u001b[43mtime_so_far\u001b[49m\u001b[38;5;241;43m=\u001b[39;49m\u001b[38;5;241;43m0.0\u001b[39;49m\n\u001b[0;32m    144\u001b[0m \u001b[43m    \u001b[49m\u001b[43m)\u001b[49m\n\u001b[0;32m    146\u001b[0m \u001b[38;5;28;01melse\u001b[39;00m:\n\u001b[0;32m    147\u001b[0m     \u001b[38;5;66;03m# Fit from scratch.\u001b[39;00m\n\u001b[0;32m    148\u001b[0m     \u001b[38;5;28mself\u001b[39m\u001b[38;5;241m.\u001b[39m_fitted_model \u001b[38;5;241m=\u001b[39m \u001b[38;5;28mself\u001b[39m\u001b[38;5;241m.\u001b[39mmodel_enum(\n\u001b[0;32m    149\u001b[0m         experiment\u001b[38;5;241m=\u001b[39mexperiment,\n\u001b[0;32m    150\u001b[0m         data\u001b[38;5;241m=\u001b[39mdata,\n\u001b[0;32m    151\u001b[0m         \u001b[38;5;241m*\u001b[39m\u001b[38;5;241m*\u001b[39mcombined_model_kwargs,\n\u001b[0;32m    152\u001b[0m     )\n",
      "File \u001b[1;32mc:\\Users\\Greg\\AppData\\Local\\Programs\\Python\\Python312\\Lib\\site-packages\\ax\\modelbridge\\base.py:257\u001b[0m, in \u001b[0;36mModelBridge._fit_if_implemented\u001b[1;34m(self, search_space, observations, time_so_far)\u001b[0m\n\u001b[0;32m    255\u001b[0m \u001b[38;5;28;01mtry\u001b[39;00m:\n\u001b[0;32m    256\u001b[0m     t_fit_start \u001b[38;5;241m=\u001b[39m time\u001b[38;5;241m.\u001b[39mmonotonic()\n\u001b[1;32m--> 257\u001b[0m     \u001b[38;5;28;43mself\u001b[39;49m\u001b[38;5;241;43m.\u001b[39;49m\u001b[43m_fit\u001b[49m\u001b[43m(\u001b[49m\n\u001b[0;32m    258\u001b[0m \u001b[43m        \u001b[49m\u001b[43mmodel\u001b[49m\u001b[38;5;241;43m=\u001b[39;49m\u001b[38;5;28;43mself\u001b[39;49m\u001b[38;5;241;43m.\u001b[39;49m\u001b[43mmodel\u001b[49m\u001b[43m,\u001b[49m\n\u001b[0;32m    259\u001b[0m \u001b[43m        \u001b[49m\u001b[43msearch_space\u001b[49m\u001b[38;5;241;43m=\u001b[39;49m\u001b[43msearch_space\u001b[49m\u001b[43m,\u001b[49m\n\u001b[0;32m    260\u001b[0m \u001b[43m        \u001b[49m\u001b[43mobservations\u001b[49m\u001b[38;5;241;43m=\u001b[39;49m\u001b[43mobservations\u001b[49m\u001b[43m,\u001b[49m\n\u001b[0;32m    261\u001b[0m \u001b[43m    \u001b[49m\u001b[43m)\u001b[49m\n\u001b[0;32m    262\u001b[0m     increment \u001b[38;5;241m=\u001b[39m time\u001b[38;5;241m.\u001b[39mmonotonic() \u001b[38;5;241m-\u001b[39m t_fit_start \u001b[38;5;241m+\u001b[39m time_so_far\n\u001b[0;32m    263\u001b[0m     \u001b[38;5;28mself\u001b[39m\u001b[38;5;241m.\u001b[39mfit_time \u001b[38;5;241m+\u001b[39m\u001b[38;5;241m=\u001b[39m increment\n",
      "File \u001b[1;32mc:\\Users\\Greg\\AppData\\Local\\Programs\\Python\\Python312\\Lib\\site-packages\\ax\\modelbridge\\torch.py:674\u001b[0m, in \u001b[0;36mTorchModelBridge._fit\u001b[1;34m(self, model, search_space, observations, parameters, **kwargs)\u001b[0m\n\u001b[0;32m    672\u001b[0m \u001b[38;5;66;03m# Fit\u001b[39;00m\n\u001b[0;32m    673\u001b[0m \u001b[38;5;28mself\u001b[39m\u001b[38;5;241m.\u001b[39mmodel \u001b[38;5;241m=\u001b[39m model\n\u001b[1;32m--> 674\u001b[0m \u001b[43mnone_throws\u001b[49m\u001b[43m(\u001b[49m\u001b[38;5;28;43mself\u001b[39;49m\u001b[38;5;241;43m.\u001b[39;49m\u001b[43mmodel\u001b[49m\u001b[43m)\u001b[49m\u001b[38;5;241;43m.\u001b[39;49m\u001b[43mfit\u001b[49m\u001b[43m(\u001b[49m\n\u001b[0;32m    675\u001b[0m \u001b[43m    \u001b[49m\u001b[43mdatasets\u001b[49m\u001b[38;5;241;43m=\u001b[39;49m\u001b[43mdatasets\u001b[49m\u001b[43m,\u001b[49m\n\u001b[0;32m    676\u001b[0m \u001b[43m    \u001b[49m\u001b[43msearch_space_digest\u001b[49m\u001b[38;5;241;43m=\u001b[39;49m\u001b[43msearch_space_digest\u001b[49m\u001b[43m,\u001b[49m\n\u001b[0;32m    677\u001b[0m \u001b[43m    \u001b[49m\u001b[43mcandidate_metadata\u001b[49m\u001b[38;5;241;43m=\u001b[39;49m\u001b[43mcandidate_metadata\u001b[49m\u001b[43m,\u001b[49m\n\u001b[0;32m    678\u001b[0m \u001b[43m    \u001b[49m\u001b[38;5;241;43m*\u001b[39;49m\u001b[38;5;241;43m*\u001b[39;49m\u001b[43mkwargs\u001b[49m\u001b[43m,\u001b[49m\n\u001b[0;32m    679\u001b[0m \u001b[43m\u001b[49m\u001b[43m)\u001b[49m\n",
      "File \u001b[1;32mc:\\Users\\Greg\\AppData\\Local\\Programs\\Python\\Python312\\Lib\\site-packages\\ax\\models\\torch\\botorch_modular\\model.py:206\u001b[0m, in \u001b[0;36mBoTorchModel.fit\u001b[1;34m(self, datasets, search_space_digest, candidate_metadata, state_dict, refit, **additional_model_inputs)\u001b[0m\n\u001b[0;32m    204\u001b[0m     \u001b[38;5;28;01mfor\u001b[39;00m config \u001b[38;5;129;01min\u001b[39;00m config_list:\n\u001b[0;32m    205\u001b[0m         config\u001b[38;5;241m.\u001b[39mmodel_options\u001b[38;5;241m.\u001b[39mupdate(additional_model_inputs)\n\u001b[1;32m--> 206\u001b[0m \u001b[38;5;28;43mself\u001b[39;49m\u001b[38;5;241;43m.\u001b[39;49m\u001b[43msurrogate\u001b[49m\u001b[38;5;241;43m.\u001b[39;49m\u001b[43mfit\u001b[49m\u001b[43m(\u001b[49m\n\u001b[0;32m    207\u001b[0m \u001b[43m    \u001b[49m\u001b[43mdatasets\u001b[49m\u001b[38;5;241;43m=\u001b[39;49m\u001b[43mdatasets\u001b[49m\u001b[43m,\u001b[49m\n\u001b[0;32m    208\u001b[0m \u001b[43m    \u001b[49m\u001b[43msearch_space_digest\u001b[49m\u001b[38;5;241;43m=\u001b[39;49m\u001b[43msearch_space_digest\u001b[49m\u001b[43m,\u001b[49m\n\u001b[0;32m    209\u001b[0m \u001b[43m    \u001b[49m\u001b[43mcandidate_metadata\u001b[49m\u001b[38;5;241;43m=\u001b[39;49m\u001b[43mcandidate_metadata\u001b[49m\u001b[43m,\u001b[49m\n\u001b[0;32m    210\u001b[0m \u001b[43m    \u001b[49m\u001b[43mstate_dict\u001b[49m\u001b[38;5;241;43m=\u001b[39;49m\u001b[43mstate_dict\u001b[49m\u001b[43m,\u001b[49m\n\u001b[0;32m    211\u001b[0m \u001b[43m    \u001b[49m\u001b[43mrefit\u001b[49m\u001b[38;5;241;43m=\u001b[39;49m\u001b[43mrefit\u001b[49m\u001b[43m,\u001b[49m\n\u001b[0;32m    212\u001b[0m \u001b[43m\u001b[49m\u001b[43m)\u001b[49m\n",
      "File \u001b[1;32mc:\\Users\\Greg\\AppData\\Local\\Programs\\Python\\Python312\\Lib\\site-packages\\ax\\models\\torch\\botorch_modular\\surrogate.py:963\u001b[0m, in \u001b[0;36mSurrogate.fit\u001b[1;34m(self, datasets, search_space_digest, candidate_metadata, state_dict, refit)\u001b[0m\n\u001b[0;32m    961\u001b[0m \u001b[38;5;28;01mif\u001b[39;00m \u001b[38;5;28mlen\u001b[39m(model_configs) \u001b[38;5;241m==\u001b[39m \u001b[38;5;241m1\u001b[39m \u001b[38;5;129;01mor\u001b[39;00m (\u001b[38;5;129;01mnot\u001b[39;00m refit \u001b[38;5;129;01mand\u001b[39;00m model_config \u001b[38;5;129;01mis\u001b[39;00m \u001b[38;5;129;01mnot\u001b[39;00m \u001b[38;5;28;01mNone\u001b[39;00m):\n\u001b[0;32m    962\u001b[0m     best_model_config \u001b[38;5;241m=\u001b[39m model_config \u001b[38;5;129;01mor\u001b[39;00m model_configs[\u001b[38;5;241m0\u001b[39m]\n\u001b[1;32m--> 963\u001b[0m     model \u001b[38;5;241m=\u001b[39m \u001b[38;5;28;43mself\u001b[39;49m\u001b[38;5;241;43m.\u001b[39;49m\u001b[43m_construct_model\u001b[49m\u001b[43m(\u001b[49m\n\u001b[0;32m    964\u001b[0m \u001b[43m        \u001b[49m\u001b[43mdataset\u001b[49m\u001b[38;5;241;43m=\u001b[39;49m\u001b[43mdataset\u001b[49m\u001b[43m,\u001b[49m\n\u001b[0;32m    965\u001b[0m \u001b[43m        \u001b[49m\u001b[43msearch_space_digest\u001b[49m\u001b[38;5;241;43m=\u001b[39;49m\u001b[43msearch_space_digest\u001b[49m\u001b[43m,\u001b[49m\n\u001b[0;32m    966\u001b[0m \u001b[43m        \u001b[49m\u001b[43mmodel_config\u001b[49m\u001b[38;5;241;43m=\u001b[39;49m\u001b[43mbest_model_config\u001b[49m\u001b[43m,\u001b[49m\n\u001b[0;32m    967\u001b[0m \u001b[43m        \u001b[49m\u001b[43mdefault_botorch_model_class\u001b[49m\u001b[38;5;241;43m=\u001b[39;49m\u001b[43mdefault_botorch_model_class\u001b[49m\u001b[43m,\u001b[49m\n\u001b[0;32m    968\u001b[0m \u001b[43m        \u001b[49m\u001b[43mstate_dict\u001b[49m\u001b[38;5;241;43m=\u001b[39;49m\u001b[43msubmodel_state_dict\u001b[49m\u001b[43m,\u001b[49m\n\u001b[0;32m    969\u001b[0m \u001b[43m        \u001b[49m\u001b[43mrefit\u001b[49m\u001b[38;5;241;43m=\u001b[39;49m\u001b[43mrefit\u001b[49m\u001b[43m,\u001b[49m\n\u001b[0;32m    970\u001b[0m \u001b[43m    \u001b[49m\u001b[43m)\u001b[49m\n\u001b[0;32m    971\u001b[0m \u001b[38;5;66;03m# Case 2: There is more than 1 model config and we want to refit\u001b[39;00m\n\u001b[0;32m    972\u001b[0m \u001b[38;5;66;03m# or don't know what the previous best model was\u001b[39;00m\n\u001b[0;32m    973\u001b[0m \u001b[38;5;28;01melse\u001b[39;00m:\n\u001b[0;32m    974\u001b[0m     \u001b[38;5;28;01mif\u001b[39;00m \u001b[38;5;28mlen\u001b[39m(dataset\u001b[38;5;241m.\u001b[39moutcome_names) \u001b[38;5;241m>\u001b[39m \u001b[38;5;241m1\u001b[39m:\n",
      "File \u001b[1;32mc:\\Users\\Greg\\AppData\\Local\\Programs\\Python\\Python312\\Lib\\site-packages\\ax\\models\\torch\\botorch_modular\\surrogate.py:861\u001b[0m, in \u001b[0;36mSurrogate._construct_model\u001b[1;34m(self, dataset, search_space_digest, model_config, default_botorch_model_class, state_dict, refit)\u001b[0m\n\u001b[0;32m    859\u001b[0m     model\u001b[38;5;241m.\u001b[39mload_state_dict(state_dict)\n\u001b[0;32m    860\u001b[0m \u001b[38;5;28;01mif\u001b[39;00m state_dict \u001b[38;5;129;01mis\u001b[39;00m \u001b[38;5;28;01mNone\u001b[39;00m \u001b[38;5;129;01mor\u001b[39;00m refit:\n\u001b[1;32m--> 861\u001b[0m     \u001b[43mfit_botorch_model\u001b[49m\u001b[43m(\u001b[49m\n\u001b[0;32m    862\u001b[0m \u001b[43m        \u001b[49m\u001b[43mmodel\u001b[49m\u001b[38;5;241;43m=\u001b[39;49m\u001b[43mmodel\u001b[49m\u001b[43m,\u001b[49m\n\u001b[0;32m    863\u001b[0m \u001b[43m        \u001b[49m\u001b[43mmll_class\u001b[49m\u001b[38;5;241;43m=\u001b[39;49m\u001b[43mmodel_config\u001b[49m\u001b[38;5;241;43m.\u001b[39;49m\u001b[43mmll_class\u001b[49m\u001b[43m,\u001b[49m\n\u001b[0;32m    864\u001b[0m \u001b[43m        \u001b[49m\u001b[43mmll_options\u001b[49m\u001b[38;5;241;43m=\u001b[39;49m\u001b[43mmodel_config\u001b[49m\u001b[38;5;241;43m.\u001b[39;49m\u001b[43mmll_options\u001b[49m\u001b[43m,\u001b[49m\n\u001b[0;32m    865\u001b[0m \u001b[43m    \u001b[49m\u001b[43m)\u001b[49m\n\u001b[0;32m    866\u001b[0m \u001b[38;5;28;01mreturn\u001b[39;00m model\n",
      "File \u001b[1;32mc:\\Users\\Greg\\AppData\\Local\\Programs\\Python\\Python312\\Lib\\site-packages\\ax\\models\\torch\\botorch_modular\\utils.py:404\u001b[0m, in \u001b[0;36mfit_botorch_model\u001b[1;34m(model, mll_class, mll_options)\u001b[0m\n\u001b[0;32m    402\u001b[0m     mll_options \u001b[38;5;241m=\u001b[39m mll_options \u001b[38;5;129;01mor\u001b[39;00m {}\n\u001b[0;32m    403\u001b[0m     mll \u001b[38;5;241m=\u001b[39m mll_class(likelihood\u001b[38;5;241m=\u001b[39mm\u001b[38;5;241m.\u001b[39mlikelihood, model\u001b[38;5;241m=\u001b[39mm, \u001b[38;5;241m*\u001b[39m\u001b[38;5;241m*\u001b[39mmll_options)\n\u001b[1;32m--> 404\u001b[0m     \u001b[43mfit_gpytorch_mll\u001b[49m\u001b[43m(\u001b[49m\u001b[43mmll\u001b[49m\u001b[43m)\u001b[49m\n\u001b[0;32m    405\u001b[0m \u001b[38;5;28;01melse\u001b[39;00m:\n\u001b[0;32m    406\u001b[0m     \u001b[38;5;28;01mraise\u001b[39;00m \u001b[38;5;167;01mNotImplementedError\u001b[39;00m(\n\u001b[0;32m    407\u001b[0m         \u001b[38;5;124mf\u001b[39m\u001b[38;5;124m\"\u001b[39m\u001b[38;5;124mModel of type \u001b[39m\u001b[38;5;132;01m{\u001b[39;00mm\u001b[38;5;241m.\u001b[39m\u001b[38;5;18m__class__\u001b[39m\u001b[38;5;241m.\u001b[39m\u001b[38;5;18m__name__\u001b[39m\u001b[38;5;132;01m}\u001b[39;00m\u001b[38;5;124m is currently not supported.\u001b[39m\u001b[38;5;124m\"\u001b[39m\n\u001b[0;32m    408\u001b[0m     )\n",
      "File \u001b[1;32mc:\\Users\\Greg\\AppData\\Local\\Programs\\Python\\Python312\\Lib\\site-packages\\botorch\\fit.py:115\u001b[0m, in \u001b[0;36mfit_gpytorch_mll\u001b[1;34m(mll, closure, optimizer, closure_kwargs, optimizer_kwargs, **kwargs)\u001b[0m\n\u001b[0;32m    112\u001b[0m \u001b[38;5;28;01mif\u001b[39;00m optimizer \u001b[38;5;129;01mis\u001b[39;00m \u001b[38;5;129;01mnot\u001b[39;00m \u001b[38;5;28;01mNone\u001b[39;00m:  \u001b[38;5;66;03m# defer to per-method defaults\u001b[39;00m\n\u001b[0;32m    113\u001b[0m     kwargs[\u001b[38;5;124m\"\u001b[39m\u001b[38;5;124moptimizer\u001b[39m\u001b[38;5;124m\"\u001b[39m] \u001b[38;5;241m=\u001b[39m optimizer\n\u001b[1;32m--> 115\u001b[0m \u001b[38;5;28;01mreturn\u001b[39;00m \u001b[43mFitGPyTorchMLL\u001b[49m\u001b[43m(\u001b[49m\n\u001b[0;32m    116\u001b[0m \u001b[43m    \u001b[49m\u001b[43mmll\u001b[49m\u001b[43m,\u001b[49m\n\u001b[0;32m    117\u001b[0m \u001b[43m    \u001b[49m\u001b[38;5;28;43mtype\u001b[39;49m\u001b[43m(\u001b[49m\u001b[43mmll\u001b[49m\u001b[38;5;241;43m.\u001b[39;49m\u001b[43mlikelihood\u001b[49m\u001b[43m)\u001b[49m\u001b[43m,\u001b[49m\n\u001b[0;32m    118\u001b[0m \u001b[43m    \u001b[49m\u001b[38;5;28;43mtype\u001b[39;49m\u001b[43m(\u001b[49m\u001b[43mmll\u001b[49m\u001b[38;5;241;43m.\u001b[39;49m\u001b[43mmodel\u001b[49m\u001b[43m)\u001b[49m\u001b[43m,\u001b[49m\n\u001b[0;32m    119\u001b[0m \u001b[43m    \u001b[49m\u001b[43mclosure\u001b[49m\u001b[38;5;241;43m=\u001b[39;49m\u001b[43mclosure\u001b[49m\u001b[43m,\u001b[49m\n\u001b[0;32m    120\u001b[0m \u001b[43m    \u001b[49m\u001b[43mclosure_kwargs\u001b[49m\u001b[38;5;241;43m=\u001b[39;49m\u001b[43mclosure_kwargs\u001b[49m\u001b[43m,\u001b[49m\n\u001b[0;32m    121\u001b[0m \u001b[43m    \u001b[49m\u001b[43moptimizer_kwargs\u001b[49m\u001b[38;5;241;43m=\u001b[39;49m\u001b[43moptimizer_kwargs\u001b[49m\u001b[43m,\u001b[49m\n\u001b[0;32m    122\u001b[0m \u001b[43m    \u001b[49m\u001b[38;5;241;43m*\u001b[39;49m\u001b[38;5;241;43m*\u001b[39;49m\u001b[43mkwargs\u001b[49m\u001b[43m,\u001b[49m\n\u001b[0;32m    123\u001b[0m \u001b[43m\u001b[49m\u001b[43m)\u001b[49m\n",
      "File \u001b[1;32mc:\\Users\\Greg\\AppData\\Local\\Programs\\Python\\Python312\\Lib\\site-packages\\botorch\\utils\\dispatcher.py:95\u001b[0m, in \u001b[0;36mDispatcher.__call__\u001b[1;34m(self, *args, **kwargs)\u001b[0m\n\u001b[0;32m     93\u001b[0m func \u001b[38;5;241m=\u001b[39m \u001b[38;5;28mself\u001b[39m\u001b[38;5;241m.\u001b[39m\u001b[38;5;21m__getitem__\u001b[39m(types\u001b[38;5;241m=\u001b[39mtypes)\n\u001b[0;32m     94\u001b[0m \u001b[38;5;28;01mtry\u001b[39;00m:\n\u001b[1;32m---> 95\u001b[0m     \u001b[38;5;28;01mreturn\u001b[39;00m \u001b[43mfunc\u001b[49m\u001b[43m(\u001b[49m\u001b[38;5;241;43m*\u001b[39;49m\u001b[43margs\u001b[49m\u001b[43m,\u001b[49m\u001b[43m \u001b[49m\u001b[38;5;241;43m*\u001b[39;49m\u001b[38;5;241;43m*\u001b[39;49m\u001b[43mkwargs\u001b[49m\u001b[43m)\u001b[49m\n\u001b[0;32m     96\u001b[0m \u001b[38;5;28;01mexcept\u001b[39;00m MDNotImplementedError:\n\u001b[0;32m     97\u001b[0m     \u001b[38;5;66;03m# Traverses registered methods in order, yields whenever a match is found\u001b[39;00m\n\u001b[0;32m     98\u001b[0m     funcs \u001b[38;5;241m=\u001b[39m \u001b[38;5;28mself\u001b[39m\u001b[38;5;241m.\u001b[39mdispatch_iter(\u001b[38;5;241m*\u001b[39mtypes)\n",
      "File \u001b[1;32mc:\\Users\\Greg\\AppData\\Local\\Programs\\Python\\Python312\\Lib\\site-packages\\botorch\\fit.py:215\u001b[0m, in \u001b[0;36m_fit_fallback\u001b[1;34m(mll, _, __, closure, optimizer, closure_kwargs, optimizer_kwargs, max_attempts, pick_best_of_all_attempts, warning_handler, caught_exception_types, **ignore)\u001b[0m\n\u001b[0;32m    213\u001b[0m \u001b[38;5;28;01mwith\u001b[39;00m catch_warnings(record\u001b[38;5;241m=\u001b[39m\u001b[38;5;28;01mTrue\u001b[39;00m) \u001b[38;5;28;01mas\u001b[39;00m warning_list:\n\u001b[0;32m    214\u001b[0m     simplefilter(\u001b[38;5;124m\"\u001b[39m\u001b[38;5;124malways\u001b[39m\u001b[38;5;124m\"\u001b[39m, category\u001b[38;5;241m=\u001b[39mOptimizationWarning)\n\u001b[1;32m--> 215\u001b[0m     result \u001b[38;5;241m=\u001b[39m \u001b[43moptimizer\u001b[49m\u001b[43m(\u001b[49m\u001b[43mmll\u001b[49m\u001b[43m,\u001b[49m\u001b[43m \u001b[49m\u001b[43mclosure\u001b[49m\u001b[38;5;241;43m=\u001b[39;49m\u001b[43mclosure\u001b[49m\u001b[43m,\u001b[49m\u001b[43m \u001b[49m\u001b[38;5;241;43m*\u001b[39;49m\u001b[38;5;241;43m*\u001b[39;49m\u001b[43moptimizer_kwargs\u001b[49m\u001b[43m)\u001b[49m\n\u001b[0;32m    217\u001b[0m \u001b[38;5;66;03m# Resolve warnings and determine whether or not to retry\u001b[39;00m\n\u001b[0;32m    218\u001b[0m success \u001b[38;5;241m=\u001b[39m \u001b[38;5;28;01mTrue\u001b[39;00m\n",
      "File \u001b[1;32mc:\\Users\\Greg\\AppData\\Local\\Programs\\Python\\Python312\\Lib\\site-packages\\botorch\\optim\\fit.py:94\u001b[0m, in \u001b[0;36mfit_gpytorch_mll_scipy\u001b[1;34m(mll, parameters, bounds, closure, closure_kwargs, method, options, callback, timeout_sec)\u001b[0m\n\u001b[0;32m     91\u001b[0m \u001b[38;5;28;01mif\u001b[39;00m closure_kwargs \u001b[38;5;129;01mis\u001b[39;00m \u001b[38;5;129;01mnot\u001b[39;00m \u001b[38;5;28;01mNone\u001b[39;00m:\n\u001b[0;32m     92\u001b[0m     closure \u001b[38;5;241m=\u001b[39m partial(closure, \u001b[38;5;241m*\u001b[39m\u001b[38;5;241m*\u001b[39mclosure_kwargs)\n\u001b[1;32m---> 94\u001b[0m result \u001b[38;5;241m=\u001b[39m \u001b[43mscipy_minimize\u001b[49m\u001b[43m(\u001b[49m\n\u001b[0;32m     95\u001b[0m \u001b[43m    \u001b[49m\u001b[43mclosure\u001b[49m\u001b[38;5;241;43m=\u001b[39;49m\u001b[43mclosure\u001b[49m\u001b[43m,\u001b[49m\n\u001b[0;32m     96\u001b[0m \u001b[43m    \u001b[49m\u001b[43mparameters\u001b[49m\u001b[38;5;241;43m=\u001b[39;49m\u001b[43mparameters\u001b[49m\u001b[43m,\u001b[49m\n\u001b[0;32m     97\u001b[0m \u001b[43m    \u001b[49m\u001b[43mbounds\u001b[49m\u001b[38;5;241;43m=\u001b[39;49m\u001b[43mbounds\u001b[49m\u001b[43m,\u001b[49m\n\u001b[0;32m     98\u001b[0m \u001b[43m    \u001b[49m\u001b[43mmethod\u001b[49m\u001b[38;5;241;43m=\u001b[39;49m\u001b[43mmethod\u001b[49m\u001b[43m,\u001b[49m\n\u001b[0;32m     99\u001b[0m \u001b[43m    \u001b[49m\u001b[43moptions\u001b[49m\u001b[38;5;241;43m=\u001b[39;49m\u001b[43moptions\u001b[49m\u001b[43m,\u001b[49m\n\u001b[0;32m    100\u001b[0m \u001b[43m    \u001b[49m\u001b[43mcallback\u001b[49m\u001b[38;5;241;43m=\u001b[39;49m\u001b[43mcallback\u001b[49m\u001b[43m,\u001b[49m\n\u001b[0;32m    101\u001b[0m \u001b[43m    \u001b[49m\u001b[43mtimeout_sec\u001b[49m\u001b[38;5;241;43m=\u001b[39;49m\u001b[43mtimeout_sec\u001b[49m\u001b[43m,\u001b[49m\n\u001b[0;32m    102\u001b[0m \u001b[43m\u001b[49m\u001b[43m)\u001b[49m\n\u001b[0;32m    103\u001b[0m \u001b[38;5;28;01mif\u001b[39;00m result\u001b[38;5;241m.\u001b[39mstatus \u001b[38;5;241m!=\u001b[39m OptimizationStatus\u001b[38;5;241m.\u001b[39mSUCCESS:\n\u001b[0;32m    104\u001b[0m     warn(\n\u001b[0;32m    105\u001b[0m         \u001b[38;5;124mf\u001b[39m\u001b[38;5;124m\"\u001b[39m\u001b[38;5;124m`scipy_minimize` terminated with status \u001b[39m\u001b[38;5;132;01m{\u001b[39;00mresult\u001b[38;5;241m.\u001b[39mstatus\u001b[38;5;132;01m}\u001b[39;00m\u001b[38;5;124m, displaying\u001b[39m\u001b[38;5;124m\"\u001b[39m\n\u001b[0;32m    106\u001b[0m         \u001b[38;5;124mf\u001b[39m\u001b[38;5;124m\"\u001b[39m\u001b[38;5;124m original message from `scipy.optimize.minimize`: \u001b[39m\u001b[38;5;132;01m{\u001b[39;00mresult\u001b[38;5;241m.\u001b[39mmessage\u001b[38;5;132;01m}\u001b[39;00m\u001b[38;5;124m\"\u001b[39m,\n\u001b[0;32m    107\u001b[0m         OptimizationWarning,\n\u001b[0;32m    108\u001b[0m     )\n",
      "File \u001b[1;32mc:\\Users\\Greg\\AppData\\Local\\Programs\\Python\\Python312\\Lib\\site-packages\\botorch\\optim\\core.py:114\u001b[0m, in \u001b[0;36mscipy_minimize\u001b[1;34m(closure, parameters, bounds, callback, x0, method, options, timeout_sec)\u001b[0m\n\u001b[0;32m    106\u001b[0m         result \u001b[38;5;241m=\u001b[39m OptimizationResult(\n\u001b[0;32m    107\u001b[0m             step\u001b[38;5;241m=\u001b[39m\u001b[38;5;28mnext\u001b[39m(call_counter),\n\u001b[0;32m    108\u001b[0m             fval\u001b[38;5;241m=\u001b[39m\u001b[38;5;28mfloat\u001b[39m(wrapped_closure(x)[\u001b[38;5;241m0\u001b[39m]),\n\u001b[0;32m    109\u001b[0m             status\u001b[38;5;241m=\u001b[39mOptimizationStatus\u001b[38;5;241m.\u001b[39mRUNNING,\n\u001b[0;32m    110\u001b[0m             runtime\u001b[38;5;241m=\u001b[39mmonotonic() \u001b[38;5;241m-\u001b[39m start_time,\n\u001b[0;32m    111\u001b[0m         )\n\u001b[0;32m    112\u001b[0m         \u001b[38;5;28;01mreturn\u001b[39;00m callback(parameters, result)  \u001b[38;5;66;03m# pyre-ignore [29]\u001b[39;00m\n\u001b[1;32m--> 114\u001b[0m raw \u001b[38;5;241m=\u001b[39m \u001b[43mminimize_with_timeout\u001b[49m\u001b[43m(\u001b[49m\n\u001b[0;32m    115\u001b[0m \u001b[43m    \u001b[49m\u001b[43mwrapped_closure\u001b[49m\u001b[43m,\u001b[49m\n\u001b[0;32m    116\u001b[0m \u001b[43m    \u001b[49m\u001b[43mwrapped_closure\u001b[49m\u001b[38;5;241;43m.\u001b[39;49m\u001b[43mstate\u001b[49m\u001b[43m \u001b[49m\u001b[38;5;28;43;01mif\u001b[39;49;00m\u001b[43m \u001b[49m\u001b[43mx0\u001b[49m\u001b[43m \u001b[49m\u001b[38;5;129;43;01mis\u001b[39;49;00m\u001b[43m \u001b[49m\u001b[38;5;28;43;01mNone\u001b[39;49;00m\u001b[43m \u001b[49m\u001b[38;5;28;43;01melse\u001b[39;49;00m\u001b[43m \u001b[49m\u001b[43mx0\u001b[49m\u001b[38;5;241;43m.\u001b[39;49m\u001b[43mastype\u001b[49m\u001b[43m(\u001b[49m\u001b[43mnp_float64\u001b[49m\u001b[43m,\u001b[49m\u001b[43m \u001b[49m\u001b[43mcopy\u001b[49m\u001b[38;5;241;43m=\u001b[39;49m\u001b[38;5;28;43;01mFalse\u001b[39;49;00m\u001b[43m)\u001b[49m\u001b[43m,\u001b[49m\n\u001b[0;32m    117\u001b[0m \u001b[43m    \u001b[49m\u001b[43mjac\u001b[49m\u001b[38;5;241;43m=\u001b[39;49m\u001b[38;5;28;43;01mTrue\u001b[39;49;00m\u001b[43m,\u001b[49m\n\u001b[0;32m    118\u001b[0m \u001b[43m    \u001b[49m\u001b[43mbounds\u001b[49m\u001b[38;5;241;43m=\u001b[39;49m\u001b[43mbounds_np\u001b[49m\u001b[43m,\u001b[49m\n\u001b[0;32m    119\u001b[0m \u001b[43m    \u001b[49m\u001b[43mmethod\u001b[49m\u001b[38;5;241;43m=\u001b[39;49m\u001b[43mmethod\u001b[49m\u001b[43m,\u001b[49m\n\u001b[0;32m    120\u001b[0m \u001b[43m    \u001b[49m\u001b[43moptions\u001b[49m\u001b[38;5;241;43m=\u001b[39;49m\u001b[43moptions\u001b[49m\u001b[43m,\u001b[49m\n\u001b[0;32m    121\u001b[0m \u001b[43m    \u001b[49m\u001b[43mcallback\u001b[49m\u001b[38;5;241;43m=\u001b[39;49m\u001b[43mwrapped_callback\u001b[49m\u001b[43m,\u001b[49m\n\u001b[0;32m    122\u001b[0m \u001b[43m    \u001b[49m\u001b[43mtimeout_sec\u001b[49m\u001b[38;5;241;43m=\u001b[39;49m\u001b[43mtimeout_sec\u001b[49m\u001b[43m,\u001b[49m\n\u001b[0;32m    123\u001b[0m \u001b[43m\u001b[49m\u001b[43m)\u001b[49m\n\u001b[0;32m    125\u001b[0m \u001b[38;5;66;03m# Post-processing and outcome handling\u001b[39;00m\n\u001b[0;32m    126\u001b[0m wrapped_closure\u001b[38;5;241m.\u001b[39mstate \u001b[38;5;241m=\u001b[39m asarray(raw\u001b[38;5;241m.\u001b[39mx)  \u001b[38;5;66;03m# set parameter state to optimal values\u001b[39;00m\n",
      "File \u001b[1;32mc:\\Users\\Greg\\AppData\\Local\\Programs\\Python\\Python312\\Lib\\site-packages\\botorch\\optim\\utils\\timeout.py:86\u001b[0m, in \u001b[0;36mminimize_with_timeout\u001b[1;34m(fun, x0, args, method, jac, hess, hessp, bounds, constraints, tol, callback, options, timeout_sec)\u001b[0m\n\u001b[0;32m     83\u001b[0m     \u001b[38;5;66;03m# To prevent slowdowns after scipy 1.15.\u001b[39;00m\n\u001b[0;32m     84\u001b[0m     \u001b[38;5;66;03m# See https://github.com/scipy/scipy/issues/22438.\u001b[39;00m\n\u001b[0;32m     85\u001b[0m     \u001b[38;5;28;01mwith\u001b[39;00m threadpool_limits(limits\u001b[38;5;241m=\u001b[39m\u001b[38;5;241m1\u001b[39m, user_api\u001b[38;5;241m=\u001b[39m\u001b[38;5;124m\"\u001b[39m\u001b[38;5;124mblas\u001b[39m\u001b[38;5;124m\"\u001b[39m):\n\u001b[1;32m---> 86\u001b[0m         \u001b[38;5;28;01mreturn\u001b[39;00m \u001b[43moptimize\u001b[49m\u001b[38;5;241;43m.\u001b[39;49m\u001b[43mminimize\u001b[49m\u001b[43m(\u001b[49m\n\u001b[0;32m     87\u001b[0m \u001b[43m            \u001b[49m\u001b[43mfun\u001b[49m\u001b[38;5;241;43m=\u001b[39;49m\u001b[43mfun\u001b[49m\u001b[43m,\u001b[49m\n\u001b[0;32m     88\u001b[0m \u001b[43m            \u001b[49m\u001b[43mx0\u001b[49m\u001b[38;5;241;43m=\u001b[39;49m\u001b[43mx0\u001b[49m\u001b[43m,\u001b[49m\n\u001b[0;32m     89\u001b[0m \u001b[43m            \u001b[49m\u001b[43margs\u001b[49m\u001b[38;5;241;43m=\u001b[39;49m\u001b[43margs\u001b[49m\u001b[43m,\u001b[49m\n\u001b[0;32m     90\u001b[0m \u001b[43m            \u001b[49m\u001b[43mmethod\u001b[49m\u001b[38;5;241;43m=\u001b[39;49m\u001b[43mmethod\u001b[49m\u001b[43m,\u001b[49m\n\u001b[0;32m     91\u001b[0m \u001b[43m            \u001b[49m\u001b[43mjac\u001b[49m\u001b[38;5;241;43m=\u001b[39;49m\u001b[43mjac\u001b[49m\u001b[43m,\u001b[49m\n\u001b[0;32m     92\u001b[0m \u001b[43m            \u001b[49m\u001b[43mhess\u001b[49m\u001b[38;5;241;43m=\u001b[39;49m\u001b[43mhess\u001b[49m\u001b[43m,\u001b[49m\n\u001b[0;32m     93\u001b[0m \u001b[43m            \u001b[49m\u001b[43mhessp\u001b[49m\u001b[38;5;241;43m=\u001b[39;49m\u001b[43mhessp\u001b[49m\u001b[43m,\u001b[49m\n\u001b[0;32m     94\u001b[0m \u001b[43m            \u001b[49m\u001b[43mbounds\u001b[49m\u001b[38;5;241;43m=\u001b[39;49m\u001b[43mbounds\u001b[49m\u001b[43m,\u001b[49m\n\u001b[0;32m     95\u001b[0m \u001b[43m            \u001b[49m\u001b[43mconstraints\u001b[49m\u001b[38;5;241;43m=\u001b[39;49m\u001b[43mconstraints\u001b[49m\u001b[43m,\u001b[49m\n\u001b[0;32m     96\u001b[0m \u001b[43m            \u001b[49m\u001b[43mtol\u001b[49m\u001b[38;5;241;43m=\u001b[39;49m\u001b[43mtol\u001b[49m\u001b[43m,\u001b[49m\n\u001b[0;32m     97\u001b[0m \u001b[43m            \u001b[49m\u001b[43mcallback\u001b[49m\u001b[38;5;241;43m=\u001b[39;49m\u001b[43mwrapped_callback\u001b[49m\u001b[43m,\u001b[49m\n\u001b[0;32m     98\u001b[0m \u001b[43m            \u001b[49m\u001b[43moptions\u001b[49m\u001b[38;5;241;43m=\u001b[39;49m\u001b[43moptions\u001b[49m\u001b[43m,\u001b[49m\n\u001b[0;32m     99\u001b[0m \u001b[43m        \u001b[49m\u001b[43m)\u001b[49m\n\u001b[0;32m    100\u001b[0m \u001b[38;5;28;01mexcept\u001b[39;00m OptimizationTimeoutError \u001b[38;5;28;01mas\u001b[39;00m e:\n\u001b[0;32m    101\u001b[0m     msg \u001b[38;5;241m=\u001b[39m \u001b[38;5;124mf\u001b[39m\u001b[38;5;124m\"\u001b[39m\u001b[38;5;124mOptimization timed out after \u001b[39m\u001b[38;5;132;01m{\u001b[39;00me\u001b[38;5;241m.\u001b[39mruntime\u001b[38;5;132;01m}\u001b[39;00m\u001b[38;5;124m seconds.\u001b[39m\u001b[38;5;124m\"\u001b[39m\n",
      "File \u001b[1;32mc:\\Users\\Greg\\AppData\\Local\\Programs\\Python\\Python312\\Lib\\site-packages\\scipy\\optimize\\_minimize.py:713\u001b[0m, in \u001b[0;36mminimize\u001b[1;34m(fun, x0, args, method, jac, hess, hessp, bounds, constraints, tol, callback, options)\u001b[0m\n\u001b[0;32m    710\u001b[0m     res \u001b[38;5;241m=\u001b[39m _minimize_newtoncg(fun, x0, args, jac, hess, hessp, callback,\n\u001b[0;32m    711\u001b[0m                              \u001b[38;5;241m*\u001b[39m\u001b[38;5;241m*\u001b[39moptions)\n\u001b[0;32m    712\u001b[0m \u001b[38;5;28;01melif\u001b[39;00m meth \u001b[38;5;241m==\u001b[39m \u001b[38;5;124m'\u001b[39m\u001b[38;5;124ml-bfgs-b\u001b[39m\u001b[38;5;124m'\u001b[39m:\n\u001b[1;32m--> 713\u001b[0m     res \u001b[38;5;241m=\u001b[39m \u001b[43m_minimize_lbfgsb\u001b[49m\u001b[43m(\u001b[49m\u001b[43mfun\u001b[49m\u001b[43m,\u001b[49m\u001b[43m \u001b[49m\u001b[43mx0\u001b[49m\u001b[43m,\u001b[49m\u001b[43m \u001b[49m\u001b[43margs\u001b[49m\u001b[43m,\u001b[49m\u001b[43m \u001b[49m\u001b[43mjac\u001b[49m\u001b[43m,\u001b[49m\u001b[43m \u001b[49m\u001b[43mbounds\u001b[49m\u001b[43m,\u001b[49m\n\u001b[0;32m    714\u001b[0m \u001b[43m                           \u001b[49m\u001b[43mcallback\u001b[49m\u001b[38;5;241;43m=\u001b[39;49m\u001b[43mcallback\u001b[49m\u001b[43m,\u001b[49m\u001b[43m \u001b[49m\u001b[38;5;241;43m*\u001b[39;49m\u001b[38;5;241;43m*\u001b[39;49m\u001b[43moptions\u001b[49m\u001b[43m)\u001b[49m\n\u001b[0;32m    715\u001b[0m \u001b[38;5;28;01melif\u001b[39;00m meth \u001b[38;5;241m==\u001b[39m \u001b[38;5;124m'\u001b[39m\u001b[38;5;124mtnc\u001b[39m\u001b[38;5;124m'\u001b[39m:\n\u001b[0;32m    716\u001b[0m     res \u001b[38;5;241m=\u001b[39m _minimize_tnc(fun, x0, args, jac, bounds, callback\u001b[38;5;241m=\u001b[39mcallback,\n\u001b[0;32m    717\u001b[0m                         \u001b[38;5;241m*\u001b[39m\u001b[38;5;241m*\u001b[39moptions)\n",
      "File \u001b[1;32mc:\\Users\\Greg\\AppData\\Local\\Programs\\Python\\Python312\\Lib\\site-packages\\scipy\\optimize\\_lbfgsb_py.py:369\u001b[0m, in \u001b[0;36m_minimize_lbfgsb\u001b[1;34m(fun, x0, args, jac, bounds, disp, maxcor, ftol, gtol, eps, maxfun, maxiter, iprint, callback, maxls, finite_diff_rel_step, **unknown_options)\u001b[0m\n\u001b[0;32m    363\u001b[0m task_str \u001b[38;5;241m=\u001b[39m task\u001b[38;5;241m.\u001b[39mtobytes()\n\u001b[0;32m    364\u001b[0m \u001b[38;5;28;01mif\u001b[39;00m task_str\u001b[38;5;241m.\u001b[39mstartswith(\u001b[38;5;124mb\u001b[39m\u001b[38;5;124m'\u001b[39m\u001b[38;5;124mFG\u001b[39m\u001b[38;5;124m'\u001b[39m):\n\u001b[0;32m    365\u001b[0m     \u001b[38;5;66;03m# The minimization routine wants f and g at the current x.\u001b[39;00m\n\u001b[0;32m    366\u001b[0m     \u001b[38;5;66;03m# Note that interruptions due to maxfun are postponed\u001b[39;00m\n\u001b[0;32m    367\u001b[0m     \u001b[38;5;66;03m# until the completion of the current minimization iteration.\u001b[39;00m\n\u001b[0;32m    368\u001b[0m     \u001b[38;5;66;03m# Overwrite f and g:\u001b[39;00m\n\u001b[1;32m--> 369\u001b[0m     f, g \u001b[38;5;241m=\u001b[39m \u001b[43mfunc_and_grad\u001b[49m\u001b[43m(\u001b[49m\u001b[43mx\u001b[49m\u001b[43m)\u001b[49m\n\u001b[0;32m    370\u001b[0m \u001b[38;5;28;01melif\u001b[39;00m task_str\u001b[38;5;241m.\u001b[39mstartswith(\u001b[38;5;124mb\u001b[39m\u001b[38;5;124m'\u001b[39m\u001b[38;5;124mNEW_X\u001b[39m\u001b[38;5;124m'\u001b[39m):\n\u001b[0;32m    371\u001b[0m     \u001b[38;5;66;03m# new iteration\u001b[39;00m\n\u001b[0;32m    372\u001b[0m     n_iterations \u001b[38;5;241m+\u001b[39m\u001b[38;5;241m=\u001b[39m \u001b[38;5;241m1\u001b[39m\n",
      "File \u001b[1;32mc:\\Users\\Greg\\AppData\\Local\\Programs\\Python\\Python312\\Lib\\site-packages\\scipy\\optimize\\_differentiable_functions.py:296\u001b[0m, in \u001b[0;36mScalarFunction.fun_and_grad\u001b[1;34m(self, x)\u001b[0m\n\u001b[0;32m    294\u001b[0m \u001b[38;5;28;01mif\u001b[39;00m \u001b[38;5;129;01mnot\u001b[39;00m np\u001b[38;5;241m.\u001b[39marray_equal(x, \u001b[38;5;28mself\u001b[39m\u001b[38;5;241m.\u001b[39mx):\n\u001b[0;32m    295\u001b[0m     \u001b[38;5;28mself\u001b[39m\u001b[38;5;241m.\u001b[39m_update_x_impl(x)\n\u001b[1;32m--> 296\u001b[0m \u001b[38;5;28;43mself\u001b[39;49m\u001b[38;5;241;43m.\u001b[39;49m\u001b[43m_update_fun\u001b[49m\u001b[43m(\u001b[49m\u001b[43m)\u001b[49m\n\u001b[0;32m    297\u001b[0m \u001b[38;5;28mself\u001b[39m\u001b[38;5;241m.\u001b[39m_update_grad()\n\u001b[0;32m    298\u001b[0m \u001b[38;5;28;01mreturn\u001b[39;00m \u001b[38;5;28mself\u001b[39m\u001b[38;5;241m.\u001b[39mf, \u001b[38;5;28mself\u001b[39m\u001b[38;5;241m.\u001b[39mg\n",
      "File \u001b[1;32mc:\\Users\\Greg\\AppData\\Local\\Programs\\Python\\Python312\\Lib\\site-packages\\scipy\\optimize\\_differentiable_functions.py:262\u001b[0m, in \u001b[0;36mScalarFunction._update_fun\u001b[1;34m(self)\u001b[0m\n\u001b[0;32m    260\u001b[0m \u001b[38;5;28;01mdef\u001b[39;00m \u001b[38;5;21m_update_fun\u001b[39m(\u001b[38;5;28mself\u001b[39m):\n\u001b[0;32m    261\u001b[0m     \u001b[38;5;28;01mif\u001b[39;00m \u001b[38;5;129;01mnot\u001b[39;00m \u001b[38;5;28mself\u001b[39m\u001b[38;5;241m.\u001b[39mf_updated:\n\u001b[1;32m--> 262\u001b[0m         \u001b[38;5;28;43mself\u001b[39;49m\u001b[38;5;241;43m.\u001b[39;49m\u001b[43m_update_fun_impl\u001b[49m\u001b[43m(\u001b[49m\u001b[43m)\u001b[49m\n\u001b[0;32m    263\u001b[0m         \u001b[38;5;28mself\u001b[39m\u001b[38;5;241m.\u001b[39mf_updated \u001b[38;5;241m=\u001b[39m \u001b[38;5;28;01mTrue\u001b[39;00m\n",
      "File \u001b[1;32mc:\\Users\\Greg\\AppData\\Local\\Programs\\Python\\Python312\\Lib\\site-packages\\scipy\\optimize\\_differentiable_functions.py:163\u001b[0m, in \u001b[0;36mScalarFunction.__init__.<locals>.update_fun\u001b[1;34m()\u001b[0m\n\u001b[0;32m    162\u001b[0m \u001b[38;5;28;01mdef\u001b[39;00m \u001b[38;5;21mupdate_fun\u001b[39m():\n\u001b[1;32m--> 163\u001b[0m     \u001b[38;5;28mself\u001b[39m\u001b[38;5;241m.\u001b[39mf \u001b[38;5;241m=\u001b[39m \u001b[43mfun_wrapped\u001b[49m\u001b[43m(\u001b[49m\u001b[38;5;28;43mself\u001b[39;49m\u001b[38;5;241;43m.\u001b[39;49m\u001b[43mx\u001b[49m\u001b[43m)\u001b[49m\n",
      "File \u001b[1;32mc:\\Users\\Greg\\AppData\\Local\\Programs\\Python\\Python312\\Lib\\site-packages\\scipy\\optimize\\_differentiable_functions.py:145\u001b[0m, in \u001b[0;36mScalarFunction.__init__.<locals>.fun_wrapped\u001b[1;34m(x)\u001b[0m\n\u001b[0;32m    141\u001b[0m \u001b[38;5;28mself\u001b[39m\u001b[38;5;241m.\u001b[39mnfev \u001b[38;5;241m+\u001b[39m\u001b[38;5;241m=\u001b[39m \u001b[38;5;241m1\u001b[39m\n\u001b[0;32m    142\u001b[0m \u001b[38;5;66;03m# Send a copy because the user may overwrite it.\u001b[39;00m\n\u001b[0;32m    143\u001b[0m \u001b[38;5;66;03m# Overwriting results in undefined behaviour because\u001b[39;00m\n\u001b[0;32m    144\u001b[0m \u001b[38;5;66;03m# fun(self.x) will change self.x, with the two no longer linked.\u001b[39;00m\n\u001b[1;32m--> 145\u001b[0m fx \u001b[38;5;241m=\u001b[39m \u001b[43mfun\u001b[49m\u001b[43m(\u001b[49m\u001b[43mnp\u001b[49m\u001b[38;5;241;43m.\u001b[39;49m\u001b[43mcopy\u001b[49m\u001b[43m(\u001b[49m\u001b[43mx\u001b[49m\u001b[43m)\u001b[49m\u001b[43m,\u001b[49m\u001b[43m \u001b[49m\u001b[38;5;241;43m*\u001b[39;49m\u001b[43margs\u001b[49m\u001b[43m)\u001b[49m\n\u001b[0;32m    146\u001b[0m \u001b[38;5;66;03m# Make sure the function returns a true scalar\u001b[39;00m\n\u001b[0;32m    147\u001b[0m \u001b[38;5;28;01mif\u001b[39;00m \u001b[38;5;129;01mnot\u001b[39;00m np\u001b[38;5;241m.\u001b[39misscalar(fx):\n",
      "File \u001b[1;32mc:\\Users\\Greg\\AppData\\Local\\Programs\\Python\\Python312\\Lib\\site-packages\\scipy\\optimize\\_optimize.py:78\u001b[0m, in \u001b[0;36mMemoizeJac.__call__\u001b[1;34m(self, x, *args)\u001b[0m\n\u001b[0;32m     76\u001b[0m \u001b[38;5;28;01mdef\u001b[39;00m \u001b[38;5;21m__call__\u001b[39m(\u001b[38;5;28mself\u001b[39m, x, \u001b[38;5;241m*\u001b[39margs):\n\u001b[0;32m     77\u001b[0m \u001b[38;5;250m    \u001b[39m\u001b[38;5;124;03m\"\"\" returns the function value \"\"\"\u001b[39;00m\n\u001b[1;32m---> 78\u001b[0m     \u001b[38;5;28;43mself\u001b[39;49m\u001b[38;5;241;43m.\u001b[39;49m\u001b[43m_compute_if_needed\u001b[49m\u001b[43m(\u001b[49m\u001b[43mx\u001b[49m\u001b[43m,\u001b[49m\u001b[43m \u001b[49m\u001b[38;5;241;43m*\u001b[39;49m\u001b[43margs\u001b[49m\u001b[43m)\u001b[49m\n\u001b[0;32m     79\u001b[0m     \u001b[38;5;28;01mreturn\u001b[39;00m \u001b[38;5;28mself\u001b[39m\u001b[38;5;241m.\u001b[39m_value\n",
      "File \u001b[1;32mc:\\Users\\Greg\\AppData\\Local\\Programs\\Python\\Python312\\Lib\\site-packages\\scipy\\optimize\\_optimize.py:72\u001b[0m, in \u001b[0;36mMemoizeJac._compute_if_needed\u001b[1;34m(self, x, *args)\u001b[0m\n\u001b[0;32m     70\u001b[0m \u001b[38;5;28;01mif\u001b[39;00m \u001b[38;5;129;01mnot\u001b[39;00m np\u001b[38;5;241m.\u001b[39mall(x \u001b[38;5;241m==\u001b[39m \u001b[38;5;28mself\u001b[39m\u001b[38;5;241m.\u001b[39mx) \u001b[38;5;129;01mor\u001b[39;00m \u001b[38;5;28mself\u001b[39m\u001b[38;5;241m.\u001b[39m_value \u001b[38;5;129;01mis\u001b[39;00m \u001b[38;5;28;01mNone\u001b[39;00m \u001b[38;5;129;01mor\u001b[39;00m \u001b[38;5;28mself\u001b[39m\u001b[38;5;241m.\u001b[39mjac \u001b[38;5;129;01mis\u001b[39;00m \u001b[38;5;28;01mNone\u001b[39;00m:\n\u001b[0;32m     71\u001b[0m     \u001b[38;5;28mself\u001b[39m\u001b[38;5;241m.\u001b[39mx \u001b[38;5;241m=\u001b[39m np\u001b[38;5;241m.\u001b[39masarray(x)\u001b[38;5;241m.\u001b[39mcopy()\n\u001b[1;32m---> 72\u001b[0m     fg \u001b[38;5;241m=\u001b[39m \u001b[38;5;28;43mself\u001b[39;49m\u001b[38;5;241;43m.\u001b[39;49m\u001b[43mfun\u001b[49m\u001b[43m(\u001b[49m\u001b[43mx\u001b[49m\u001b[43m,\u001b[49m\u001b[43m \u001b[49m\u001b[38;5;241;43m*\u001b[39;49m\u001b[43margs\u001b[49m\u001b[43m)\u001b[49m\n\u001b[0;32m     73\u001b[0m     \u001b[38;5;28mself\u001b[39m\u001b[38;5;241m.\u001b[39mjac \u001b[38;5;241m=\u001b[39m fg[\u001b[38;5;241m1\u001b[39m]\n\u001b[0;32m     74\u001b[0m     \u001b[38;5;28mself\u001b[39m\u001b[38;5;241m.\u001b[39m_value \u001b[38;5;241m=\u001b[39m fg[\u001b[38;5;241m0\u001b[39m]\n",
      "File \u001b[1;32mc:\\Users\\Greg\\AppData\\Local\\Programs\\Python\\Python312\\Lib\\site-packages\\botorch\\optim\\closures\\core.py:149\u001b[0m, in \u001b[0;36mNdarrayOptimizationClosure.__call__\u001b[1;34m(self, state, **kwargs)\u001b[0m\n\u001b[0;32m    146\u001b[0m     \u001b[38;5;28mself\u001b[39m\u001b[38;5;241m.\u001b[39mstate \u001b[38;5;241m=\u001b[39m state\n\u001b[0;32m    148\u001b[0m \u001b[38;5;28;01mtry\u001b[39;00m:\n\u001b[1;32m--> 149\u001b[0m     value_tensor, grad_tensors \u001b[38;5;241m=\u001b[39m \u001b[38;5;28;43mself\u001b[39;49m\u001b[38;5;241;43m.\u001b[39;49m\u001b[43mclosure\u001b[49m\u001b[43m(\u001b[49m\u001b[38;5;241;43m*\u001b[39;49m\u001b[38;5;241;43m*\u001b[39;49m\u001b[43mkwargs\u001b[49m\u001b[43m)\u001b[49m\n\u001b[0;32m    150\u001b[0m     value \u001b[38;5;241m=\u001b[39m \u001b[38;5;28mself\u001b[39m\u001b[38;5;241m.\u001b[39mas_array(value_tensor)\n\u001b[0;32m    151\u001b[0m     grads \u001b[38;5;241m=\u001b[39m \u001b[38;5;28mself\u001b[39m\u001b[38;5;241m.\u001b[39m_get_gradient_ndarray(fill_value\u001b[38;5;241m=\u001b[39m\u001b[38;5;28mself\u001b[39m\u001b[38;5;241m.\u001b[39mfill_value)\n",
      "File \u001b[1;32mc:\\Users\\Greg\\AppData\\Local\\Programs\\Python\\Python312\\Lib\\site-packages\\botorch\\optim\\closures\\core.py:70\u001b[0m, in \u001b[0;36mForwardBackwardClosure.__call__\u001b[1;34m(self, **kwargs)\u001b[0m\n\u001b[0;32m     68\u001b[0m values \u001b[38;5;241m=\u001b[39m \u001b[38;5;28mself\u001b[39m\u001b[38;5;241m.\u001b[39mforward(\u001b[38;5;241m*\u001b[39m\u001b[38;5;241m*\u001b[39mkwargs)\n\u001b[0;32m     69\u001b[0m value \u001b[38;5;241m=\u001b[39m values \u001b[38;5;28;01mif\u001b[39;00m \u001b[38;5;28mself\u001b[39m\u001b[38;5;241m.\u001b[39mreducer \u001b[38;5;129;01mis\u001b[39;00m \u001b[38;5;28;01mNone\u001b[39;00m \u001b[38;5;28;01melse\u001b[39;00m \u001b[38;5;28mself\u001b[39m\u001b[38;5;241m.\u001b[39mreducer(values)\n\u001b[1;32m---> 70\u001b[0m \u001b[38;5;28;43mself\u001b[39;49m\u001b[38;5;241;43m.\u001b[39;49m\u001b[43mbackward\u001b[49m\u001b[43m(\u001b[49m\u001b[43mvalue\u001b[49m\u001b[43m)\u001b[49m\n\u001b[0;32m     72\u001b[0m grads \u001b[38;5;241m=\u001b[39m \u001b[38;5;28mtuple\u001b[39m(param\u001b[38;5;241m.\u001b[39mgrad \u001b[38;5;28;01mfor\u001b[39;00m param \u001b[38;5;129;01min\u001b[39;00m \u001b[38;5;28mself\u001b[39m\u001b[38;5;241m.\u001b[39mparameters\u001b[38;5;241m.\u001b[39mvalues())\n\u001b[0;32m     73\u001b[0m \u001b[38;5;28;01mif\u001b[39;00m \u001b[38;5;28mself\u001b[39m\u001b[38;5;241m.\u001b[39mcallback:\n",
      "File \u001b[1;32mc:\\Users\\Greg\\AppData\\Local\\Programs\\Python\\Python312\\Lib\\site-packages\\torch\\_tensor.py:522\u001b[0m, in \u001b[0;36mTensor.backward\u001b[1;34m(self, gradient, retain_graph, create_graph, inputs)\u001b[0m\n\u001b[0;32m    512\u001b[0m \u001b[38;5;28;01mif\u001b[39;00m has_torch_function_unary(\u001b[38;5;28mself\u001b[39m):\n\u001b[0;32m    513\u001b[0m     \u001b[38;5;28;01mreturn\u001b[39;00m handle_torch_function(\n\u001b[0;32m    514\u001b[0m         Tensor\u001b[38;5;241m.\u001b[39mbackward,\n\u001b[0;32m    515\u001b[0m         (\u001b[38;5;28mself\u001b[39m,),\n\u001b[1;32m   (...)\u001b[0m\n\u001b[0;32m    520\u001b[0m         inputs\u001b[38;5;241m=\u001b[39minputs,\n\u001b[0;32m    521\u001b[0m     )\n\u001b[1;32m--> 522\u001b[0m \u001b[43mtorch\u001b[49m\u001b[38;5;241;43m.\u001b[39;49m\u001b[43mautograd\u001b[49m\u001b[38;5;241;43m.\u001b[39;49m\u001b[43mbackward\u001b[49m\u001b[43m(\u001b[49m\n\u001b[0;32m    523\u001b[0m \u001b[43m    \u001b[49m\u001b[38;5;28;43mself\u001b[39;49m\u001b[43m,\u001b[49m\u001b[43m \u001b[49m\u001b[43mgradient\u001b[49m\u001b[43m,\u001b[49m\u001b[43m \u001b[49m\u001b[43mretain_graph\u001b[49m\u001b[43m,\u001b[49m\u001b[43m \u001b[49m\u001b[43mcreate_graph\u001b[49m\u001b[43m,\u001b[49m\u001b[43m \u001b[49m\u001b[43minputs\u001b[49m\u001b[38;5;241;43m=\u001b[39;49m\u001b[43minputs\u001b[49m\n\u001b[0;32m    524\u001b[0m \u001b[43m\u001b[49m\u001b[43m)\u001b[49m\n",
      "File \u001b[1;32mc:\\Users\\Greg\\AppData\\Local\\Programs\\Python\\Python312\\Lib\\site-packages\\torch\\autograd\\__init__.py:266\u001b[0m, in \u001b[0;36mbackward\u001b[1;34m(tensors, grad_tensors, retain_graph, create_graph, grad_variables, inputs)\u001b[0m\n\u001b[0;32m    261\u001b[0m     retain_graph \u001b[38;5;241m=\u001b[39m create_graph\n\u001b[0;32m    263\u001b[0m \u001b[38;5;66;03m# The reason we repeat the same comment below is that\u001b[39;00m\n\u001b[0;32m    264\u001b[0m \u001b[38;5;66;03m# some Python versions print out the first line of a multi-line function\u001b[39;00m\n\u001b[0;32m    265\u001b[0m \u001b[38;5;66;03m# calls in the traceback and some print out the last line\u001b[39;00m\n\u001b[1;32m--> 266\u001b[0m \u001b[43mVariable\u001b[49m\u001b[38;5;241;43m.\u001b[39;49m\u001b[43m_execution_engine\u001b[49m\u001b[38;5;241;43m.\u001b[39;49m\u001b[43mrun_backward\u001b[49m\u001b[43m(\u001b[49m\u001b[43m  \u001b[49m\u001b[38;5;66;43;03m# Calls into the C++ engine to run the backward pass\u001b[39;49;00m\n\u001b[0;32m    267\u001b[0m \u001b[43m    \u001b[49m\u001b[43mtensors\u001b[49m\u001b[43m,\u001b[49m\n\u001b[0;32m    268\u001b[0m \u001b[43m    \u001b[49m\u001b[43mgrad_tensors_\u001b[49m\u001b[43m,\u001b[49m\n\u001b[0;32m    269\u001b[0m \u001b[43m    \u001b[49m\u001b[43mretain_graph\u001b[49m\u001b[43m,\u001b[49m\n\u001b[0;32m    270\u001b[0m \u001b[43m    \u001b[49m\u001b[43mcreate_graph\u001b[49m\u001b[43m,\u001b[49m\n\u001b[0;32m    271\u001b[0m \u001b[43m    \u001b[49m\u001b[43minputs\u001b[49m\u001b[43m,\u001b[49m\n\u001b[0;32m    272\u001b[0m \u001b[43m    \u001b[49m\u001b[43mallow_unreachable\u001b[49m\u001b[38;5;241;43m=\u001b[39;49m\u001b[38;5;28;43;01mTrue\u001b[39;49;00m\u001b[43m,\u001b[49m\n\u001b[0;32m    273\u001b[0m \u001b[43m    \u001b[49m\u001b[43maccumulate_grad\u001b[49m\u001b[38;5;241;43m=\u001b[39;49m\u001b[38;5;28;43;01mTrue\u001b[39;49;00m\u001b[43m,\u001b[49m\n\u001b[0;32m    274\u001b[0m \u001b[43m\u001b[49m\u001b[43m)\u001b[49m\n",
      "\u001b[1;31mKeyboardInterrupt\u001b[0m: "
     ]
    }
   ],
   "source": [
    "for i in range(300):\n",
    "    parameterization, trial_index = Tag_client.get_next_trial()\n",
    "    # Local evaluation here can be replaced with deployment to external system.\n",
    "    Tag_client.complete_trial(trial_index=trial_index, raw_data=score_vals(param_to_list(parameterization)))"
   ]
  },
  {
   "cell_type": "code",
   "execution_count": null,
   "metadata": {},
   "outputs": [],
   "source": []
  }
 ],
 "metadata": {
  "kernelspec": {
   "display_name": ".venv",
   "language": "python",
   "name": "python3"
  },
  "language_info": {
   "codemirror_mode": {
    "name": "ipython",
    "version": 3
   },
   "file_extension": ".py",
   "mimetype": "text/x-python",
   "name": "python",
   "nbconvert_exporter": "python",
   "pygments_lexer": "ipython3",
   "version": "3.12.3"
  }
 },
 "nbformat": 4,
 "nbformat_minor": 2
}
