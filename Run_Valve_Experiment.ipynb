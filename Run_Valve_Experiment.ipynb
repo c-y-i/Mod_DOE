{
 "cells": [
  {
   "cell_type": "markdown",
   "metadata": {},
   "source": [
    "## Run valve experiment\n",
    "#### Input valve metadata (at least valve number) and run experiment to add test data to dictionary"
   ]
  },
  {
   "cell_type": "code",
   "execution_count": 46,
   "metadata": {},
   "outputs": [],
   "source": [
    "import os\n",
    "import pickle\n",
    "import numpy as np\n",
    "import time as time\n",
    "\n",
    "from Experiment_Utils import Valve_Experiment,  valve_plot_dict_key"
   ]
  },
  {
   "cell_type": "code",
   "execution_count": 47,
   "metadata": {},
   "outputs": [
    {
     "name": "stdout",
     "output_type": "stream",
     "text": [
      "The autoreload extension is already loaded. To reload it, use:\n",
      "  %reload_ext autoreload\n"
     ]
    }
   ],
   "source": [
    "# FOR DEBUGGING - feel free to ignore.\n",
    "%load_ext autoreload\n",
    "%autoreload 2\n",
    "from Experiment_Utils import Valve_Experiment,  valve_plot_dict_key"
   ]
  },
  {
   "cell_type": "code",
   "execution_count": 48,
   "metadata": {},
   "outputs": [],
   "source": [
    "file_dir = '/home/gmc/Python/Mod_DOE'\n",
    "# file_name = 'Taguchi_valve_dict.pkl'\n",
    "file_name = 'test_valve_dict.pkl'\n",
    "Experiment_Runtime = 3 #s\n",
    "Num_Experiment = 5 # trials\n",
    "\n",
    "MEMBRANE = False # True if using a membrane before valve (needs to be reset between trials)"
   ]
  },
  {
   "cell_type": "code",
   "execution_count": 49,
   "metadata": {},
   "outputs": [],
   "source": [
    "# Set design number - FOR TAGUCHI DESIGNS\n",
    "Valve_Design_Number = 0.1"
   ]
  },
  {
   "cell_type": "code",
   "execution_count": 50,
   "metadata": {},
   "outputs": [
    {
     "name": "stdout",
     "output_type": "stream",
     "text": [
      "Making new dict\n"
     ]
    }
   ],
   "source": [
    "os.chdir(file_dir)\n",
    "try:\n",
    "    starting_dict = pickle.load(open(file_name, 'rb'))\n",
    "except:\n",
    "    print('Making new dict')\n",
    "    starting_dict = {}"
   ]
  },
  {
   "cell_type": "code",
   "execution_count": 51,
   "metadata": {},
   "outputs": [
    {
     "name": "stdout",
     "output_type": "stream",
     "text": [
      "Current valve number: 0.1\n"
     ]
    },
    {
     "ename": "RuntimeError",
     "evalue": "MAKE SURE YOU UPDATED THE VALVE NUMBER!!",
     "output_type": "error",
     "traceback": [
      "\u001b[31m---------------------------------------------------------------------------\u001b[39m",
      "\u001b[31mRuntimeError\u001b[39m                              Traceback (most recent call last)",
      "\u001b[36mCell\u001b[39m\u001b[36m \u001b[39m\u001b[32mIn[51]\u001b[39m\u001b[32m, line 2\u001b[39m\n\u001b[32m      1\u001b[39m \u001b[38;5;28mprint\u001b[39m(\u001b[33mf\u001b[39m\u001b[33m'\u001b[39m\u001b[33mCurrent valve number: \u001b[39m\u001b[38;5;132;01m{\u001b[39;00mValve_Design_Number\u001b[38;5;132;01m}\u001b[39;00m\u001b[33m'\u001b[39m)\n\u001b[32m----> \u001b[39m\u001b[32m2\u001b[39m \u001b[38;5;28;01mraise\u001b[39;00m \u001b[38;5;167;01mRuntimeError\u001b[39;00m(\u001b[33m\"\u001b[39m\u001b[33mMAKE SURE YOU UPDATED THE VALVE NUMBER!!\u001b[39m\u001b[33m\"\u001b[39m)\n",
      "\u001b[31mRuntimeError\u001b[39m: MAKE SURE YOU UPDATED THE VALVE NUMBER!!"
     ]
    }
   ],
   "source": [
    "print(f'Current valve number: {Valve_Design_Number}')\n",
    "raise RuntimeError(\"MAKE SURE YOU UPDATED THE VALVE NUMBER!!\")"
   ]
  },
  {
   "cell_type": "code",
   "execution_count": 52,
   "metadata": {},
   "outputs": [
    {
     "name": "stdout",
     "output_type": "stream",
     "text": [
      "Running pump for 3 seconds ...\n",
      "Posting pressure vals, shape: 50\n",
      "Key does not exist, creating new key\n"
     ]
    }
   ],
   "source": [
    "in_dict = starting_dict.copy()\n",
    "in_key = 'Taguchi_Design_' + str(Valve_Design_Number)\n",
    "in_key = 'TESTING_' + str(Valve_Design_Number)\n",
    "in_dict = Valve_Experiment(in_dict, Experiment_Runtime, in_key)"
   ]
  },
  {
   "cell_type": "code",
   "execution_count": 53,
   "metadata": {},
   "outputs": [],
   "source": [
    "if MEMBRANE:\n",
    "    raise RuntimeError(\"Deflate before next test.\")\n",
    "else:\n",
    "    time.sleep(2)"
   ]
  },
  {
   "cell_type": "code",
   "execution_count": 54,
   "metadata": {},
   "outputs": [
    {
     "name": "stdout",
     "output_type": "stream",
     "text": [
      "Running pump for 3 seconds ...\n",
      "Posting pressure vals, shape: 74\n",
      "Key exists, appending\n"
     ]
    }
   ],
   "source": [
    "if Num_Experiment > 1:\n",
    "    in_dict = Valve_Experiment(in_dict, Experiment_Runtime, in_key)"
   ]
  },
  {
   "cell_type": "code",
   "execution_count": 55,
   "metadata": {},
   "outputs": [],
   "source": [
    "if MEMBRANE:\n",
    "    raise RuntimeError(\"Deflate before next test.\")\n",
    "else:\n",
    "    time.sleep(2)"
   ]
  },
  {
   "cell_type": "code",
   "execution_count": 56,
   "metadata": {},
   "outputs": [
    {
     "name": "stdout",
     "output_type": "stream",
     "text": [
      "Running pump for 3 seconds ...\n",
      "Posting pressure vals, shape: 51\n",
      "Key exists, appending\n"
     ]
    }
   ],
   "source": [
    "if Num_Experiment > 2:\n",
    "    in_dict = Valve_Experiment(in_dict, Experiment_Runtime, in_key)"
   ]
  },
  {
   "cell_type": "code",
   "execution_count": 57,
   "metadata": {},
   "outputs": [],
   "source": [
    "if MEMBRANE:\n",
    "    raise RuntimeError(\"Deflate before next test.\")\n",
    "else:\n",
    "    time.sleep(2)"
   ]
  },
  {
   "cell_type": "code",
   "execution_count": 58,
   "metadata": {},
   "outputs": [
    {
     "name": "stdout",
     "output_type": "stream",
     "text": [
      "Running pump for 3 seconds ...\n",
      "Posting pressure vals, shape: 49\n",
      "Key exists, appending\n"
     ]
    }
   ],
   "source": [
    "if Num_Experiment > 3:\n",
    "    in_dict = Valve_Experiment(in_dict, Experiment_Runtime, in_key)"
   ]
  },
  {
   "cell_type": "code",
   "execution_count": 59,
   "metadata": {},
   "outputs": [],
   "source": [
    "if MEMBRANE:\n",
    "    raise RuntimeError(\"Deflate before next test.\")\n",
    "else:\n",
    "    time.sleep(2)"
   ]
  },
  {
   "cell_type": "code",
   "execution_count": 60,
   "metadata": {},
   "outputs": [
    {
     "name": "stdout",
     "output_type": "stream",
     "text": [
      "Running pump for 3 seconds ...\n",
      "Posting pressure vals, shape: 73\n",
      "Key exists, appending\n"
     ]
    }
   ],
   "source": [
    "# Won't do more than 5 trials for now...\n",
    "if Num_Experiment > 4:\n",
    "    in_dict = Valve_Experiment(in_dict, Experiment_Runtime, in_key)"
   ]
  },
  {
   "cell_type": "markdown",
   "metadata": {},
   "source": [
    "### We can view the data from the latest (nth) test"
   ]
  },
  {
   "cell_type": "code",
   "execution_count": 61,
   "metadata": {},
   "outputs": [
    {
     "name": "stdout",
     "output_type": "stream",
     "text": [
      "TESTING_0.1_test_fig\n"
     ]
    },
    {
     "name": "stderr",
     "output_type": "stream",
     "text": [
      "/home/gmc/Python/Mod_DOE/Experiment_Utils.py:307: UserWarning: *c* argument looks like a single numeric RGB or RGBA sequence, which should be avoided as value-mapping will have precedence in case its length matches with *x* & *y*.  Please use the *color* keyword-argument or provide a 2D array with a single row if you intend to specify the same RGB or RGBA value for all points.\n",
      "  ax.scatter(p1_time, p1_vals, c=color1[i], label='pressure')\n"
     ]
    },
    {
     "data": {
      "image/png": "[encoded data removed]",
      "text/plain": [
       "<Figure size 640x480 with 1 Axes>"
      ]
     },
     "metadata": {},
     "output_type": "display_data"
    }
   ],
   "source": [
    "# load latest values\n",
    "update_dict = in_dict # make sure plotted values are the ones updating\n",
    "key = list(update_dict.keys())[-1]\n",
    "# plot - TODO: pull the pressure differential from a function similar to valve_plot_dict_key, pull design parameters from Taguchi .csv, create entry for Ax\n",
    "save_to = '/home/gmc/Documents/Valve_Design'\n",
    "pic_name = in_key + \"_test_fig\"\n",
    "print(pic_name)\n",
    "valve_plot_dict_key(update_dict, key, save_loc = save_to)# , file_name = pic_name)"
   ]
  },
  {
   "cell_type": "code",
   "execution_count": 62,
   "metadata": {},
   "outputs": [
    {
     "ename": "RuntimeError",
     "evalue": "MAKE SURE YOU WANT TO SAVE THIS DATA!!",
     "output_type": "error",
     "traceback": [
      "\u001b[31m---------------------------------------------------------------------------\u001b[39m",
      "\u001b[31mRuntimeError\u001b[39m                              Traceback (most recent call last)",
      "\u001b[36mCell\u001b[39m\u001b[36m \u001b[39m\u001b[32mIn[62]\u001b[39m\u001b[32m, line 1\u001b[39m\n\u001b[32m----> \u001b[39m\u001b[32m1\u001b[39m \u001b[38;5;28;01mraise\u001b[39;00m \u001b[38;5;167;01mRuntimeError\u001b[39;00m(\u001b[33m\"\u001b[39m\u001b[33mMAKE SURE YOU WANT TO SAVE THIS DATA!!\u001b[39m\u001b[33m\"\u001b[39m)\n",
      "\u001b[31mRuntimeError\u001b[39m: MAKE SURE YOU WANT TO SAVE THIS DATA!!"
     ]
    }
   ],
   "source": [
    "raise RuntimeError(\"MAKE SURE YOU WANT TO SAVE THIS DATA!!\")"
   ]
  },
  {
   "cell_type": "code",
   "execution_count": 60,
   "metadata": {},
   "outputs": [],
   "source": [
    "os.chdir(file_dir)\n",
    "pickle.dump(update_dict,open(file_name, 'wb'))"
   ]
  }
 ],
 "metadata": {
  "kernelspec": {
   "display_name": ".venv",
   "language": "python",
   "name": "python3"
  },
  "language_info": {
   "codemirror_mode": {
    "name": "ipython",
    "version": 3
   },
   "file_extension": ".py",
   "mimetype": "text/x-python",
   "name": "python",
   "nbconvert_exporter": "python",
   "pygments_lexer": "ipython3",
   "version": "3.12.3"
  }
 },
 "nbformat": 4,
 "nbformat_minor": 2
}
