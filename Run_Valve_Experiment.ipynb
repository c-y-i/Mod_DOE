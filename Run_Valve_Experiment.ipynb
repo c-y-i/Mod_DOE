{
 "cells": [
  {
   "cell_type": "markdown",
   "metadata": {},
   "source": [
    "## Run valve experiment\n",
    "#### Input valve metadata (at least valve number) and run experiment to add test data to dictionary"
   ]
  },
  {
   "cell_type": "markdown",
   "metadata": {},
   "source": [
    "4/24 - CURRENTLY UNTESTED (TODO)"
   ]
  },
  {
   "cell_type": "code",
   "execution_count": 24,
   "metadata": {},
   "outputs": [],
   "source": [
    "import os\n",
    "import pickle\n",
    "import numpy as np\n",
    "\n",
    "from Experiment_Utils import Valve_Experiment,  valve_plot_dict_key"
   ]
  },
  {
   "cell_type": "code",
   "execution_count": 25,
   "metadata": {},
   "outputs": [
    {
     "name": "stdout",
     "output_type": "stream",
     "text": [
      "The autoreload extension is already loaded. To reload it, use:\n",
      "  %reload_ext autoreload\n"
     ]
    }
   ],
   "source": [
    "# FOR DEBUGGING - feel free to ignore.\n",
    "%load_ext autoreload\n",
    "%autoreload 2\n",
    "from Experiment_Utils import Valve_Experiment,  valve_plot_dict_key"
   ]
  },
  {
   "cell_type": "code",
   "execution_count": 26,
   "metadata": {},
   "outputs": [],
   "source": [
    "file_dir = '/home/gmc/Python/Mod_DOE'\n",
    "# file_name = 'Taguchi_valve_dict.pkl'\n",
    "file_name = 'test_valve_dict.pkl'\n",
    "Experiment_Runtime = 20 #s\n",
    "Num_Experiment = 2 # trials"
   ]
  },
  {
   "cell_type": "code",
   "execution_count": 27,
   "metadata": {},
   "outputs": [],
   "source": [
    "# Set design number - FOR TAGUCHI DESIGNS\n",
    "Valve_Design_Number = 00"
   ]
  },
  {
   "cell_type": "code",
   "execution_count": 28,
   "metadata": {},
   "outputs": [
    {
     "name": "stdout",
     "output_type": "stream",
     "text": [
      "Making new dict\n"
     ]
    }
   ],
   "source": [
    "os.chdir(file_dir)\n",
    "try:\n",
    "    starting_dict = pickle.load(open(file_name, 'rb'))\n",
    "except:\n",
    "    print('Making new dict')\n",
    "    starting_dict = {}"
   ]
  },
  {
   "cell_type": "code",
   "execution_count": 29,
   "metadata": {},
   "outputs": [
    {
     "name": "stdout",
     "output_type": "stream",
     "text": [
      "Current valve number: 0\n"
     ]
    },
    {
     "ename": "RuntimeError",
     "evalue": "MAKE SURE YOU UPDATED THE GEAR NUMBER!!",
     "output_type": "error",
     "traceback": [
      "\u001b[31m---------------------------------------------------------------------------\u001b[39m",
      "\u001b[31mRuntimeError\u001b[39m                              Traceback (most recent call last)",
      "\u001b[36mCell\u001b[39m\u001b[36m \u001b[39m\u001b[32mIn[29]\u001b[39m\u001b[32m, line 2\u001b[39m\n\u001b[32m      1\u001b[39m \u001b[38;5;28mprint\u001b[39m(\u001b[33mf\u001b[39m\u001b[33m'\u001b[39m\u001b[33mCurrent valve number: \u001b[39m\u001b[38;5;132;01m{\u001b[39;00mValve_Design_Number\u001b[38;5;132;01m}\u001b[39;00m\u001b[33m'\u001b[39m)\n\u001b[32m----> \u001b[39m\u001b[32m2\u001b[39m \u001b[38;5;28;01mraise\u001b[39;00m \u001b[38;5;167;01mRuntimeError\u001b[39;00m(\u001b[33m\"\u001b[39m\u001b[33mMAKE SURE YOU UPDATED THE GEAR NUMBER!!\u001b[39m\u001b[33m\"\u001b[39m)\n",
      "\u001b[31mRuntimeError\u001b[39m: MAKE SURE YOU UPDATED THE GEAR NUMBER!!"
     ]
    }
   ],
   "source": [
    "print(f'Current valve number: {Valve_Design_Number}')\n",
    "raise RuntimeError(\"MAKE SURE YOU UPDATED THE GEAR NUMBER!!\")"
   ]
  },
  {
   "cell_type": "code",
   "execution_count": 30,
   "metadata": {},
   "outputs": [
    {
     "name": "stdout",
     "output_type": "stream",
     "text": [
      "Running pump for 20 seconds ...\n",
      "Posting pressure vals, shape: 374\n",
      "Key does not exist, creating new key\n"
     ]
    }
   ],
   "source": [
    "in_dict = starting_dict.copy()\n",
    "in_key = 'Taguchi_Design_' + str(Valve_Design_Number)\n",
    "in_key = 'TESTING_' + str(Valve_Design_Number)\n",
    "in_dict = Valve_Experiment(in_dict, Experiment_Runtime, in_key)"
   ]
  },
  {
   "cell_type": "code",
   "execution_count": null,
   "metadata": {},
   "outputs": [
    {
     "ename": "RuntimeError",
     "evalue": "Deflate before next test.",
     "output_type": "error",
     "traceback": [
      "\u001b[31m---------------------------------------------------------------------------\u001b[39m",
      "\u001b[31mRuntimeError\u001b[39m                              Traceback (most recent call last)",
      "\u001b[36mCell\u001b[39m\u001b[36m \u001b[39m\u001b[32mIn[37]\u001b[39m\u001b[32m, line 1\u001b[39m\n\u001b[32m----> \u001b[39m\u001b[32m1\u001b[39m \u001b[38;5;28;01mraise\u001b[39;00m \u001b[38;5;167;01mRuntimeError\u001b[39;00m(\u001b[33m\"\u001b[39m\u001b[33mDeflate before next test.\u001b[39m\u001b[33m\"\u001b[39m)\n",
      "\u001b[31mRuntimeError\u001b[39m: Deflate before next test."
     ]
    }
   ],
   "source": [
    "raise RuntimeError(\"Deflate before next test.\")"
   ]
  },
  {
   "cell_type": "code",
   "execution_count": 32,
   "metadata": {},
   "outputs": [
    {
     "name": "stdout",
     "output_type": "stream",
     "text": [
      "Running pump for 20 seconds ...\n",
      "Posting pressure vals, shape: 434\n",
      "Key exists, appending\n"
     ]
    }
   ],
   "source": [
    "if Num_Experiment > 1:\n",
    "    in_dict = Valve_Experiment(in_dict, Experiment_Runtime, in_key)"
   ]
  },
  {
   "cell_type": "code",
   "execution_count": null,
   "metadata": {},
   "outputs": [
    {
     "ename": "RuntimeError",
     "evalue": "Deflate before next test.",
     "output_type": "error",
     "traceback": [
      "\u001b[31m---------------------------------------------------------------------------\u001b[39m\n",
      "\u001b[31mRuntimeError\u001b[39m                              Traceback (most recent call last)\n",
      "\u001b[36mCell\u001b[39m\u001b[36m \u001b[39m\u001b[32mIn[25]\u001b[39m\u001b[32m, line 1\u001b[39m\n",
      "\u001b[32m----> \u001b[39m\u001b[32m1\u001b[39m \u001b[38;5;28;01mraise\u001b[39;00m \u001b[38;5;167;01mRuntimeError\u001b[39;00m(\u001b[33m\"\u001b[39m\u001b[33mDeflate before next test.\u001b[39m\u001b[33m\"\u001b[39m)\n",
      "\n",
      "\u001b[31mRuntimeError\u001b[39m: Deflate before next test."
     ]
    }
   ],
   "source": [
    "raise RuntimeError(\"Deflate before next test.\")"
   ]
  },
  {
   "cell_type": "code",
   "execution_count": 27,
   "metadata": {},
   "outputs": [],
   "source": [
    "# Won't do more than 3 trials for now...\n",
    "if Num_Experiment > 2:\n",
    "    in_dict = Valve_Experiment(in_dict, Experiment_Runtime, in_key)"
   ]
  },
  {
   "cell_type": "markdown",
   "metadata": {},
   "source": [
    "### We can view the data from the latest (nth) test"
   ]
  },
  {
   "cell_type": "code",
   "execution_count": 33,
   "metadata": {},
   "outputs": [
    {
     "name": "stdout",
     "output_type": "stream",
     "text": [
      "TESTING_0_test_fig\n"
     ]
    },
    {
     "data": {
      "image/png": "[encoded data removed]",
      "text/plain": [
       "<Figure size 640x480 with 1 Axes>"
      ]
     },
     "metadata": {},
     "output_type": "display_data"
    }
   ],
   "source": [
    "# load latest values\n",
    "update_dict = in_dict # make sure plotted values are the ones updating\n",
    "key = list(update_dict.keys())[-1]\n",
    "# plot - TODO: pull the pressure differential from a function similar to valve_plot_dict_key, pull design parameters from Taguchi .csv, create entry for Ax\n",
    "save_to = '/home/gmc/Documents/Valve_Design'\n",
    "pic_name = in_key + \"_test_fig\"\n",
    "print(pic_name)\n",
    "valve_plot_dict_key(update_dict, key, save_loc = save_to)# , file_name = pic_name)"
   ]
  },
  {
   "cell_type": "code",
   "execution_count": null,
   "metadata": {},
   "outputs": [
    {
     "ename": "RuntimeError",
     "evalue": "MAKE SURE YOU WANT TO SAVE THIS DATA!!",
     "output_type": "error",
     "traceback": [
      "\u001b[31m---------------------------------------------------------------------------\u001b[39m",
      "\u001b[31mRuntimeError\u001b[39m                              Traceback (most recent call last)",
      "\u001b[36mCell\u001b[39m\u001b[36m \u001b[39m\u001b[32mIn[29]\u001b[39m\u001b[32m, line 1\u001b[39m\n\u001b[32m----> \u001b[39m\u001b[32m1\u001b[39m \u001b[38;5;28;01mraise\u001b[39;00m \u001b[38;5;167;01mRuntimeError\u001b[39;00m(\u001b[33m\"\u001b[39m\u001b[33mMAKE SURE YOU WANT TO SAVE THIS DATA!!\u001b[39m\u001b[33m\"\u001b[39m)\n",
      "\u001b[31mRuntimeError\u001b[39m: MAKE SURE YOU WANT TO SAVE THIS DATA!!"
     ]
    }
   ],
   "source": [
    "raise RuntimeError(\"MAKE SURE YOU WANT TO SAVE THIS DATA!!\")"
   ]
  },
  {
   "cell_type": "code",
   "execution_count": 60,
   "metadata": {},
   "outputs": [],
   "source": [
    "os.chdir(file_dir)\n",
    "pickle.dump(update_dict,open(file_name, 'wb'))"
   ]
  }
 ],
 "metadata": {
  "kernelspec": {
   "display_name": ".venv",
   "language": "python",
   "name": "python3"
  },
  "language_info": {
   "codemirror_mode": {
    "name": "ipython",
    "version": 3
   },
   "file_extension": ".py",
   "mimetype": "text/x-python",
   "name": "python",
   "nbconvert_exporter": "python",
   "pygments_lexer": "ipython3",
   "version": "3.12.3"
  }
 },
 "nbformat": 4,
 "nbformat_minor": 2
}
